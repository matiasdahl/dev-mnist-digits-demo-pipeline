{
 "cells": [
  {
   "cell_type": "markdown",
   "id": "d539b657",
   "metadata": {
    "papermill": {
     "duration": 0.004794,
     "end_time": "2022-12-01T06:45:59.345061",
     "exception": false,
     "start_time": "2022-12-01T06:45:59.340267",
     "status": "completed"
    },
    "tags": []
   },
   "source": [
    "# Benchmark model\n",
    "\n",
    "The purpose of this notebook is to benchmark persisted onnx-model (trained in the\n",
    "previous step) against evaluation set."
   ]
  },
  {
   "cell_type": "markdown",
   "id": "114830e2",
   "metadata": {
    "papermill": {
     "duration": 0.004043,
     "end_time": "2022-12-01T06:45:59.353626",
     "exception": false,
     "start_time": "2022-12-01T06:45:59.349583",
     "status": "completed"
    },
    "tags": []
   },
   "source": [
    "### Determine run parameters"
   ]
  },
  {
   "cell_type": "code",
   "execution_count": 1,
   "id": "673c2299",
   "metadata": {
    "execution": {
     "iopub.execute_input": "2022-12-01T06:45:59.363504Z",
     "iopub.status.busy": "2022-12-01T06:45:59.363133Z",
     "iopub.status.idle": "2022-12-01T06:45:59.372150Z",
     "shell.execute_reply": "2022-12-01T06:45:59.371514Z"
    },
    "lines_to_next_cell": 0,
    "papermill": {
     "duration": 0.016256,
     "end_time": "2022-12-01T06:45:59.373893",
     "exception": false,
     "start_time": "2022-12-01T06:45:59.357637",
     "status": "completed"
    },
    "tags": []
   },
   "outputs": [],
   "source": [
    "# ----------------- Parameters for interactive development --------------\n",
    "P = {\n",
    "    \"pipeline.data_lake_root\": \"/pipeline-outputs/data-lake\",\n",
    "    \"task.nr_train_images\": 600,\n",
    "}"
   ]
  },
  {
   "cell_type": "code",
   "execution_count": 2,
   "id": "192b512e",
   "metadata": {
    "execution": {
     "iopub.execute_input": "2022-12-01T06:45:59.383397Z",
     "iopub.status.busy": "2022-12-01T06:45:59.383137Z",
     "iopub.status.idle": "2022-12-01T06:45:59.386382Z",
     "shell.execute_reply": "2022-12-01T06:45:59.385700Z"
    },
    "lines_to_next_cell": 0,
    "papermill": {
     "duration": 0.011004,
     "end_time": "2022-12-01T06:45:59.389247",
     "exception": false,
     "start_time": "2022-12-01T06:45:59.378243",
     "status": "completed"
    },
    "tags": [
     "parameters"
    ]
   },
   "outputs": [],
   "source": [
    "# - During automated runs parameters will be injected in the below cell -"
   ]
  },
  {
   "cell_type": "code",
   "execution_count": 3,
   "id": "5e1ca038",
   "metadata": {
    "execution": {
     "iopub.execute_input": "2022-12-01T06:45:59.400631Z",
     "iopub.status.busy": "2022-12-01T06:45:59.400268Z",
     "iopub.status.idle": "2022-12-01T06:45:59.406266Z",
     "shell.execute_reply": "2022-12-01T06:45:59.405532Z"
    },
    "papermill": {
     "duration": 0.015177,
     "end_time": "2022-12-01T06:45:59.408903",
     "exception": false,
     "start_time": "2022-12-01T06:45:59.393726",
     "status": "completed"
    },
    "tags": [
     "injected-parameters"
    ]
   },
   "outputs": [],
   "source": [
    "# Parameters\n",
    "P = {\n",
    "    \"pipeline.data_lake_root\": \"/pipeline-outputs/data-lake\",\n",
    "    \"pipeline.run_environment\": \"ci\",\n",
    "    \"pipeline.pipeline_run_id\": \"734ca702-880d-4b65-aa72-c5a90cc9b591\",\n",
    "    \"pipeline.github.repository\": \"matiasdahl/dev-mnist-digits-demo-pipeline\",\n",
    "    \"pipeline.github.workflow\": \"Run automated tests, pipeline and deploy results to static reporting site\",\n",
    "    \"pipeline.github.runner_name\": \"Hosted Agent\",\n",
    "    \"pipeline.github.run_id\": \"3590161709\",\n",
    "    \"pipeline.github.actor\": \"matiasdahl\",\n",
    "    \"pipeline.github.job\": \"run-tests-pipeline-and-persist-pipeline-outputs\",\n",
    "    \"pipeline.github.base_ref\": \"\",\n",
    "    \"pipeline.github.head_ref\": \"\",\n",
    "    \"pipeline.github.sha\": \"ace0d01011d5e914f1921450dd5a59c11367b38d\",\n",
    "    \"pipeline.github.ref\": \"refs/heads/development\",\n",
    "    \"pipeline.github.ref_type\": \"branch\",\n",
    "    \"pipeline.github.ref_name\": \"development\",\n",
    "    \"pipeline.github.event_name\": \"schedule\",\n",
    "    \"task.nr_train_images\": 1000,\n",
    "    \"task.notebook\": \"notebooks/benchmark-model.py\",\n",
    "    \"task.max_nr_retries\": \"1\",\n",
    "    \"run.retry_nr\": \"0\",\n",
    "    \"task.timeout_s\": \"None\",\n",
    "    \"task.num_cpus\": 1,\n",
    "    \"_opentelemetry_traceparent\": \"00-aa2c1325229534922579ed4d6b486d6e-c07642f1908bd893-01\",\n",
    "}\n"
   ]
  },
  {
   "cell_type": "code",
   "execution_count": 4,
   "id": "9283ec33",
   "metadata": {
    "execution": {
     "iopub.execute_input": "2022-12-01T06:45:59.418518Z",
     "iopub.status.busy": "2022-12-01T06:45:59.418289Z",
     "iopub.status.idle": "2022-12-01T06:45:59.421123Z",
     "shell.execute_reply": "2022-12-01T06:45:59.420519Z"
    },
    "lines_to_next_cell": 0,
    "papermill": {
     "duration": 0.010312,
     "end_time": "2022-12-01T06:45:59.423477",
     "exception": false,
     "start_time": "2022-12-01T06:45:59.413165",
     "status": "completed"
    },
    "tags": []
   },
   "outputs": [],
   "source": [
    "# -----------------------------------------------------------------------"
   ]
  },
  {
   "cell_type": "markdown",
   "id": "7e26f317",
   "metadata": {
    "papermill": {
     "duration": 0.004142,
     "end_time": "2022-12-01T06:45:59.431753",
     "exception": false,
     "start_time": "2022-12-01T06:45:59.427611",
     "status": "completed"
    },
    "tags": []
   },
   "source": [
    "---"
   ]
  },
  {
   "cell_type": "markdown",
   "id": "66d29de2",
   "metadata": {
    "lines_to_next_cell": 2,
    "papermill": {
     "duration": 0.004164,
     "end_time": "2022-12-01T06:45:59.439674",
     "exception": false,
     "start_time": "2022-12-01T06:45:59.435510",
     "status": "completed"
    },
    "tags": []
   },
   "source": [
    "### Notebook code"
   ]
  },
  {
   "cell_type": "code",
   "execution_count": 5,
   "id": "10647036",
   "metadata": {
    "execution": {
     "iopub.execute_input": "2022-12-01T06:45:59.449135Z",
     "iopub.status.busy": "2022-12-01T06:45:59.448878Z",
     "iopub.status.idle": "2022-12-01T06:46:00.557186Z",
     "shell.execute_reply": "2022-12-01T06:46:00.554399Z"
    },
    "papermill": {
     "duration": 1.115127,
     "end_time": "2022-12-01T06:46:00.559087",
     "exception": false,
     "start_time": "2022-12-01T06:45:59.443960",
     "status": "completed"
    },
    "tags": []
   },
   "outputs": [
    {
     "name": "stderr",
     "output_type": "stream",
     "text": [
      "2022-12-01 06:46:00,388\tINFO worker.py:842 -- Connecting to existing Ray cluster at address: 172.17.0.2:6379\n"
     ]
    }
   ],
   "source": [
    "import itertools as it\n",
    "\n",
    "#\n",
    "import numpy as np\n",
    "import matplotlib.pyplot as plt\n",
    "\n",
    "#\n",
    "from pynb_dag_runner.tasks.task_opentelemetry_logging import PydarLogger\n",
    "\n",
    "#\n",
    "from common.io import datalake_root\n",
    "\n",
    "logger = PydarLogger(P)"
   ]
  },
  {
   "cell_type": "markdown",
   "id": "afdff191",
   "metadata": {
    "papermill": {
     "duration": 0.004799,
     "end_time": "2022-12-01T06:46:00.569470",
     "exception": false,
     "start_time": "2022-12-01T06:46:00.564671",
     "status": "completed"
    },
    "tags": []
   },
   "source": [
    "## Load persisted onnx-model and evaluation data"
   ]
  },
  {
   "cell_type": "code",
   "execution_count": 6,
   "id": "adb5feca",
   "metadata": {
    "execution": {
     "iopub.execute_input": "2022-12-01T06:46:00.580567Z",
     "iopub.status.busy": "2022-12-01T06:46:00.579517Z",
     "iopub.status.idle": "2022-12-01T06:46:00.583489Z",
     "shell.execute_reply": "2022-12-01T06:46:00.582917Z"
    },
    "papermill": {
     "duration": 0.010983,
     "end_time": "2022-12-01T06:46:00.584887",
     "exception": false,
     "start_time": "2022-12-01T06:46:00.573904",
     "status": "completed"
    },
    "tags": []
   },
   "outputs": [],
   "source": [
    "from common.io import read_onnx, get_onnx_inputs, get_onnx_outputs, read_numpy"
   ]
  },
  {
   "cell_type": "code",
   "execution_count": 7,
   "id": "8143592e",
   "metadata": {
    "execution": {
     "iopub.execute_input": "2022-12-01T06:46:00.595097Z",
     "iopub.status.busy": "2022-12-01T06:46:00.594828Z",
     "iopub.status.idle": "2022-12-01T06:46:00.607588Z",
     "shell.execute_reply": "2022-12-01T06:46:00.606883Z"
    },
    "lines_to_next_cell": 0,
    "papermill": {
     "duration": 0.01932,
     "end_time": "2022-12-01T06:46:00.609210",
     "exception": false,
     "start_time": "2022-12-01T06:46:00.589890",
     "status": "completed"
    },
    "tags": []
   },
   "outputs": [],
   "source": [
    "onnx_inference_session = read_onnx(\n",
    "    datalake_root(P)\n",
    "    / \"models\"\n",
    "    / f\"nr_train_images={P['task.nr_train_images']}\"\n",
    "    / \"model.onnx\"\n",
    ")"
   ]
  },
  {
   "cell_type": "markdown",
   "id": "f8b0cf51",
   "metadata": {
    "papermill": {
     "duration": 0.004273,
     "end_time": "2022-12-01T06:46:00.617893",
     "exception": false,
     "start_time": "2022-12-01T06:46:00.613620",
     "status": "completed"
    },
    "tags": []
   },
   "source": [
    "### Record structure of inputs and outputs for ONNX model\n",
    "\n",
    "(this should likely be done in training notebook)"
   ]
  },
  {
   "cell_type": "code",
   "execution_count": 8,
   "id": "248a930d",
   "metadata": {
    "execution": {
     "iopub.execute_input": "2022-12-01T06:46:00.628576Z",
     "iopub.status.busy": "2022-12-01T06:46:00.628259Z",
     "iopub.status.idle": "2022-12-01T06:46:00.639453Z",
     "shell.execute_reply": "2022-12-01T06:46:00.637007Z"
    },
    "papermill": {
     "duration": 0.020306,
     "end_time": "2022-12-01T06:46:00.643304",
     "exception": false,
     "start_time": "2022-12-01T06:46:00.622998",
     "status": "completed"
    },
    "tags": []
   },
   "outputs": [
    {
     "name": "stdout",
     "output_type": "stream",
     "text": [
      "{\n",
      "  \"inputs\": [\n",
      "    {\n",
      "      \"name\": \"float_input_8x8_image\",\n",
      "      \"shape\": [\n",
      "        null,\n",
      "        64\n",
      "      ],\n",
      "      \"type\": \"tensor(float)\"\n",
      "    }\n",
      "  ],\n",
      "  \"outputs\": [\n",
      "    {\n",
      "      \"name\": \"output_label\",\n",
      "      \"shape\": [\n",
      "        null\n",
      "      ],\n",
      "      \"type\": \"tensor(int64)\"\n",
      "    },\n",
      "    {\n",
      "      \"name\": \"output_probability\",\n",
      "      \"shape\": [],\n",
      "      \"type\": \"seq(map(int64,tensor(float)))\"\n",
      "    }\n",
      "  ]\n",
      "}\n"
     ]
    }
   ],
   "source": [
    "import json\n",
    "\n",
    "onnx_io = json.dumps(\n",
    "    {\n",
    "        \"inputs\": get_onnx_inputs(onnx_inference_session),\n",
    "        \"outputs\": get_onnx_outputs(onnx_inference_session),\n",
    "    },\n",
    "    indent=2,\n",
    ")\n",
    "\n",
    "\n",
    "logger.log_artefact(\"onnx_io_structure.json\", onnx_io)\n",
    "print(onnx_io)"
   ]
  },
  {
   "cell_type": "markdown",
   "id": "34ea5e32",
   "metadata": {
    "papermill": {
     "duration": 0.003785,
     "end_time": "2022-12-01T06:46:00.651166",
     "exception": false,
     "start_time": "2022-12-01T06:46:00.647381",
     "status": "completed"
    },
    "tags": []
   },
   "source": [
    "### Evaluate model performance on evaluation data set"
   ]
  },
  {
   "cell_type": "code",
   "execution_count": 9,
   "id": "82f7cd6a",
   "metadata": {
    "execution": {
     "iopub.execute_input": "2022-12-01T06:46:00.661122Z",
     "iopub.status.busy": "2022-12-01T06:46:00.660872Z",
     "iopub.status.idle": "2022-12-01T06:46:00.665544Z",
     "shell.execute_reply": "2022-12-01T06:46:00.664871Z"
    },
    "papermill": {
     "duration": 0.012057,
     "end_time": "2022-12-01T06:46:00.667494",
     "exception": false,
     "start_time": "2022-12-01T06:46:00.655437",
     "status": "completed"
    },
    "tags": []
   },
   "outputs": [],
   "source": [
    "# load evaluation data\n",
    "X_test = read_numpy(datalake_root(P) / \"test-data\" / \"digits.numpy\")\n",
    "y_test = read_numpy(datalake_root(P) / \"test-data\" / \"labels.numpy\")"
   ]
  },
  {
   "cell_type": "code",
   "execution_count": 10,
   "id": "402fa3a7",
   "metadata": {
    "execution": {
     "iopub.execute_input": "2022-12-01T06:46:00.677603Z",
     "iopub.status.busy": "2022-12-01T06:46:00.677340Z",
     "iopub.status.idle": "2022-12-01T06:46:00.752686Z",
     "shell.execute_reply": "2022-12-01T06:46:00.751858Z"
    },
    "papermill": {
     "duration": 0.083286,
     "end_time": "2022-12-01T06:46:00.754849",
     "exception": false,
     "start_time": "2022-12-01T06:46:00.671563",
     "status": "completed"
    },
    "tags": []
   },
   "outputs": [],
   "source": [
    "def get_model_outputs(X, onnx_inference_session):\n",
    "    y_pred_labels, y_pred_map = onnx_inference_session.run(\n",
    "        [\"output_label\", \"output_probability\"],\n",
    "        {\"float_input_8x8_image\": X.astype(np.float32)},\n",
    "    )\n",
    "    y_pred_probs = np.array(\n",
    "        [[probabilities[digit] for digit in range(10)] for probabilities in y_pred_map]\n",
    "    )\n",
    "\n",
    "    assert y_pred_labels.shape == (X.shape[0],)\n",
    "    assert y_pred_probs.shape == (X.shape[0], 10)\n",
    "\n",
    "    return y_pred_labels, y_pred_probs\n",
    "\n",
    "\n",
    "# Note: as shown in the training notebook, the predicted labels and probabilities\n",
    "# computed below need not be compatible.\n",
    "y_pred_labels_test, y_pred_probs_test = get_model_outputs(\n",
    "    X_test, onnx_inference_session\n",
    ")"
   ]
  },
  {
   "cell_type": "markdown",
   "id": "f0e7444e",
   "metadata": {
    "papermill": {
     "duration": 0.00418,
     "end_time": "2022-12-01T06:46:00.762718",
     "exception": false,
     "start_time": "2022-12-01T06:46:00.758538",
     "status": "completed"
    },
    "tags": []
   },
   "source": [
    "### Confusion matrix"
   ]
  },
  {
   "cell_type": "code",
   "execution_count": 11,
   "id": "7940c853",
   "metadata": {
    "execution": {
     "iopub.execute_input": "2022-12-01T06:46:00.772575Z",
     "iopub.status.busy": "2022-12-01T06:46:00.772281Z",
     "iopub.status.idle": "2022-12-01T06:46:00.775681Z",
     "shell.execute_reply": "2022-12-01T06:46:00.775155Z"
    },
    "papermill": {
     "duration": 0.011393,
     "end_time": "2022-12-01T06:46:00.778055",
     "exception": false,
     "start_time": "2022-12-01T06:46:00.766662",
     "status": "completed"
    },
    "tags": []
   },
   "outputs": [],
   "source": [
    "# TODO"
   ]
  },
  {
   "cell_type": "markdown",
   "id": "c44f8168",
   "metadata": {
    "papermill": {
     "duration": 0.004893,
     "end_time": "2022-12-01T06:46:00.787353",
     "exception": false,
     "start_time": "2022-12-01T06:46:00.782460",
     "status": "completed"
    },
    "tags": []
   },
   "source": [
    "### Plot predicted probabilities for each classifier over all evaluation digit images"
   ]
  },
  {
   "cell_type": "code",
   "execution_count": 12,
   "id": "467da20e",
   "metadata": {
    "execution": {
     "iopub.execute_input": "2022-12-01T06:46:00.797774Z",
     "iopub.status.busy": "2022-12-01T06:46:00.797522Z",
     "iopub.status.idle": "2022-12-01T06:46:04.359924Z",
     "shell.execute_reply": "2022-12-01T06:46:04.358964Z"
    },
    "papermill": {
     "duration": 3.569771,
     "end_time": "2022-12-01T06:46:04.361877",
     "exception": false,
     "start_time": "2022-12-01T06:46:00.792106",
     "status": "completed"
    },
    "tags": []
   },
   "outputs": [
    {
     "data": {
      "image/png": "[encoded data removed]",
      "text/plain": [
       "<Figure size 1600x600 with 10 Axes>"
      ]
     },
     "metadata": {},
     "output_type": "display_data"
    }
   ],
   "source": [
    "def plot_per_digit_probabilities(y_pred_probs):\n",
    "    fig, axs = plt.subplots(nrows=2, ncols=5, figsize=(16, 6))\n",
    "\n",
    "    for (r, c), digit, ax in zip(\n",
    "        it.product(range(2), range(5)), range(10), axs.reshape(-1)\n",
    "    ):\n",
    "        ax.hist(y_pred_probs_test[:, digit], bins=20)\n",
    "\n",
    "        ax.set_title(f\"Digit {digit}\")\n",
    "        if r == 1 and c == 2:\n",
    "            ax.set_xlabel(\"probability\", fontsize=16)\n",
    "\n",
    "        if c == 0:\n",
    "            ax.set_ylabel(\"counts\", fontsize=16)\n",
    "        ax.set_yscale(\"log\")\n",
    "\n",
    "    fig.tight_layout()\n",
    "    fig.suptitle(\n",
    "        f\"Distributions of prediction probabilities for each digit \"\n",
    "        f\"(on evaluation data, n={y_pred_probs.shape[0]})\",\n",
    "        fontsize=20,\n",
    "    )\n",
    "    fig.tight_layout()\n",
    "    fig.show()\n",
    "\n",
    "    return fig\n",
    "\n",
    "\n",
    "fig = plot_per_digit_probabilities(y_pred_probs_test)"
   ]
  },
  {
   "cell_type": "markdown",
   "id": "66fe5bd0",
   "metadata": {
    "papermill": {
     "duration": 0.005736,
     "end_time": "2022-12-01T06:46:04.372897",
     "exception": false,
     "start_time": "2022-12-01T06:46:04.367161",
     "status": "completed"
    },
    "tags": []
   },
   "source": [
    "From the above distributions we see that most digits have clear separation between\n",
    "high and lower probabilities. Morover, in each case there is roughly an order of\n",
    "magnitude more of digits with low probabilities. This is compatible with digits\n",
    "being roughly evenly distributed in the data."
   ]
  },
  {
   "cell_type": "code",
   "execution_count": 13,
   "id": "36a551ad",
   "metadata": {
    "execution": {
     "iopub.execute_input": "2022-12-01T06:46:04.385774Z",
     "iopub.status.busy": "2022-12-01T06:46:04.385189Z",
     "iopub.status.idle": "2022-12-01T06:46:04.904784Z",
     "shell.execute_reply": "2022-12-01T06:46:04.903913Z"
    },
    "papermill": {
     "duration": 0.529012,
     "end_time": "2022-12-01T06:46:04.906880",
     "exception": false,
     "start_time": "2022-12-01T06:46:04.377868",
     "status": "completed"
    },
    "tags": []
   },
   "outputs": [],
   "source": [
    "logger.log_figure(\"per-digit-probabilities.png\", fig)"
   ]
  },
  {
   "cell_type": "markdown",
   "id": "17024dec",
   "metadata": {
    "papermill": {
     "duration": 0.006139,
     "end_time": "2022-12-01T06:46:04.919459",
     "exception": false,
     "start_time": "2022-12-01T06:46:04.913320",
     "status": "completed"
    },
    "tags": []
   },
   "source": [
    "### Plot ROC curves for individual one-vs-rest classifiers"
   ]
  },
  {
   "cell_type": "code",
   "execution_count": 14,
   "id": "1438fbec",
   "metadata": {
    "execution": {
     "iopub.execute_input": "2022-12-01T06:46:04.933939Z",
     "iopub.status.busy": "2022-12-01T06:46:04.933448Z",
     "iopub.status.idle": "2022-12-01T06:46:05.284500Z",
     "shell.execute_reply": "2022-12-01T06:46:05.283729Z"
    },
    "papermill": {
     "duration": 0.360924,
     "end_time": "2022-12-01T06:46:05.286887",
     "exception": false,
     "start_time": "2022-12-01T06:46:04.925963",
     "status": "completed"
    },
    "tags": []
   },
   "outputs": [],
   "source": [
    "from sklearn import metrics"
   ]
  },
  {
   "cell_type": "code",
   "execution_count": 15,
   "id": "b9ce7a65",
   "metadata": {
    "execution": {
     "iopub.execute_input": "2022-12-01T06:46:05.300756Z",
     "iopub.status.busy": "2022-12-01T06:46:05.300486Z",
     "iopub.status.idle": "2022-12-01T06:46:06.535295Z",
     "shell.execute_reply": "2022-12-01T06:46:06.534749Z"
    },
    "papermill": {
     "duration": 1.243731,
     "end_time": "2022-12-01T06:46:06.536999",
     "exception": false,
     "start_time": "2022-12-01T06:46:05.293268",
     "status": "completed"
    },
    "tags": []
   },
   "outputs": [
    {
     "data": {
      "image/png": "[encoded data removed]",
      "text/plain": [
       "<Figure size 1600x800 with 10 Axes>"
      ]
     },
     "metadata": {},
     "output_type": "display_data"
    }
   ],
   "source": [
    "def plot_roc_curves(y, y_pred_probs):\n",
    "    # based on example code\n",
    "    # https://scikit-learn.org/stable/auto_examples/model_selection/plot_roc.html\n",
    "\n",
    "    fig, axs = plt.subplots(nrows=2, ncols=5, figsize=(16, 8))\n",
    "\n",
    "    roc_auc_dict = {}\n",
    "\n",
    "    for (r, c), digit, ax in zip(\n",
    "        it.product(range(2), range(5)), range(10), axs.reshape(-1)\n",
    "    ):\n",
    "        fpr, tpr, _ = metrics.roc_curve(y == digit, y_pred_probs[:, digit])\n",
    "        auc = metrics.auc(fpr, tpr)\n",
    "        roc_auc_dict[str(digit)] = auc\n",
    "\n",
    "        ax.plot(fpr, tpr, label=f\"ROC AUC={round(auc, 3)}\")\n",
    "\n",
    "        ax.set_title(f\"\\nDigit {digit}\", fontsize=16)\n",
    "        if r == 1:\n",
    "            ax.set_xlabel(\"FPR\", fontsize=18)\n",
    "\n",
    "        if c == 0:\n",
    "            ax.set_ylabel(\"TPR\", fontsize=18)\n",
    "\n",
    "        ax.set_xlim([-0.05, 1.05])\n",
    "        ax.set_ylim([-0.05, 1.05])\n",
    "        ax.legend(loc=\"lower right\", frameon=False, fontsize=14)\n",
    "\n",
    "    fig.tight_layout()\n",
    "    fig.suptitle(\n",
    "        f\"ROC plots for one-vs-rest performances \"\n",
    "        f\"(on evaluation data, n={y_pred_probs_test.shape[1]}\",\n",
    "        fontsize=22,\n",
    "    )\n",
    "    fig.tight_layout()\n",
    "    fig.show()\n",
    "\n",
    "    return roc_auc_dict, fig\n",
    "\n",
    "\n",
    "roc_auc_dict, fig = plot_roc_curves(y_test, y_pred_probs_test)"
   ]
  },
  {
   "cell_type": "code",
   "execution_count": 16,
   "id": "bebe4c73",
   "metadata": {
    "execution": {
     "iopub.execute_input": "2022-12-01T06:46:06.551544Z",
     "iopub.status.busy": "2022-12-01T06:46:06.551283Z",
     "iopub.status.idle": "2022-12-01T06:46:06.843459Z",
     "shell.execute_reply": "2022-12-01T06:46:06.842660Z"
    },
    "papermill": {
     "duration": 0.302185,
     "end_time": "2022-12-01T06:46:06.846267",
     "exception": false,
     "start_time": "2022-12-01T06:46:06.544082",
     "status": "completed"
    },
    "tags": []
   },
   "outputs": [],
   "source": [
    "logger.log_figure(\"per-digit-roc-curves.png\", fig)"
   ]
  },
  {
   "cell_type": "code",
   "execution_count": 17,
   "id": "36b8af6d",
   "metadata": {
    "execution": {
     "iopub.execute_input": "2022-12-01T06:46:06.869074Z",
     "iopub.status.busy": "2022-12-01T06:46:06.868567Z",
     "iopub.status.idle": "2022-12-01T06:46:06.874041Z",
     "shell.execute_reply": "2022-12-01T06:46:06.873329Z"
    },
    "papermill": {
     "duration": 0.016677,
     "end_time": "2022-12-01T06:46:06.876903",
     "exception": false,
     "start_time": "2022-12-01T06:46:06.860226",
     "status": "completed"
    },
    "tags": []
   },
   "outputs": [
    {
     "data": {
      "text/plain": [
       "{'0': 1.0,\n",
       " '1': 0.999025304592315,\n",
       " '2': 1.0,\n",
       " '3': 0.9998500468603562,\n",
       " '4': 0.9996570644718793,\n",
       " '5': 0.9994001874414246,\n",
       " '6': 0.999923792104862,\n",
       " '7': 0.9997713763145862,\n",
       " '8': 0.9951134930643126,\n",
       " '9': 0.9996570644718793}"
      ]
     },
     "execution_count": 17,
     "metadata": {},
     "output_type": "execute_result"
    }
   ],
   "source": [
    "roc_auc_dict"
   ]
  },
  {
   "cell_type": "code",
   "execution_count": 18,
   "id": "b7f94ade",
   "metadata": {
    "execution": {
     "iopub.execute_input": "2022-12-01T06:46:06.906606Z",
     "iopub.status.busy": "2022-12-01T06:46:06.906077Z",
     "iopub.status.idle": "2022-12-01T06:46:06.911326Z",
     "shell.execute_reply": "2022-12-01T06:46:06.910543Z"
    },
    "papermill": {
     "duration": 0.025911,
     "end_time": "2022-12-01T06:46:06.916351",
     "exception": false,
     "start_time": "2022-12-01T06:46:06.890440",
     "status": "completed"
    },
    "tags": []
   },
   "outputs": [
    {
     "name": "stdout",
     "output_type": "stream",
     "text": [
      " - Logging roc_auc_per_digit (json) : {'0': 1.0, '1': 0.999025304592315, '2': 1.0, '3': 0.9998500468603562, '4': 0.9996570644718793, '5': 0.9994001874414246, '6': 0.999923792104862, '7': 0.9997713763145862, '8': 0.9951134930643126, '9': 0.9996570644718793}\n"
     ]
    }
   ],
   "source": [
    "logger.log_value(\"roc_auc_per_digit\", roc_auc_dict)"
   ]
  },
  {
   "cell_type": "markdown",
   "id": "394fd626",
   "metadata": {
    "papermill": {
     "duration": 0.00829,
     "end_time": "2022-12-01T06:46:06.934745",
     "exception": false,
     "start_time": "2022-12-01T06:46:06.926455",
     "status": "completed"
    },
    "tags": []
   },
   "source": [
    "### Compute and log mean ROC AUC score averaged over all digits"
   ]
  },
  {
   "cell_type": "code",
   "execution_count": 19,
   "id": "62b59594",
   "metadata": {
    "execution": {
     "iopub.execute_input": "2022-12-01T06:46:06.958899Z",
     "iopub.status.busy": "2022-12-01T06:46:06.958462Z",
     "iopub.status.idle": "2022-12-01T06:46:06.971410Z",
     "shell.execute_reply": "2022-12-01T06:46:06.970712Z"
    },
    "papermill": {
     "duration": 0.025439,
     "end_time": "2022-12-01T06:46:06.973266",
     "exception": false,
     "start_time": "2022-12-01T06:46:06.947827",
     "status": "completed"
    },
    "tags": []
   },
   "outputs": [
    {
     "name": "stdout",
     "output_type": "stream",
     "text": [
      " - Logging roc_auc_class_mean (float) : 0.9992398329321615\n"
     ]
    }
   ],
   "source": [
    "roc_auc_macro = np.mean(list(roc_auc_dict.values()))\n",
    "\n",
    "logger.log_float(\"roc_auc_class_mean\", roc_auc_macro)\n",
    "\n",
    "# assert that the same value can be computed directly using sklearn\n",
    "assert roc_auc_macro == metrics.roc_auc_score(\n",
    "    y_test, y_pred_probs_test, average=\"macro\", multi_class=\"ovr\"\n",
    ")"
   ]
  },
  {
   "cell_type": "code",
   "execution_count": 20,
   "id": "cd1c193f",
   "metadata": {
    "execution": {
     "iopub.execute_input": "2022-12-01T06:46:06.995268Z",
     "iopub.status.busy": "2022-12-01T06:46:06.995000Z",
     "iopub.status.idle": "2022-12-01T06:46:07.001191Z",
     "shell.execute_reply": "2022-12-01T06:46:07.000544Z"
    },
    "lines_to_next_cell": 0,
    "papermill": {
     "duration": 0.021192,
     "end_time": "2022-12-01T06:46:07.008265",
     "exception": false,
     "start_time": "2022-12-01T06:46:06.987073",
     "status": "completed"
    },
    "tags": []
   },
   "outputs": [],
   "source": [
    "# ---"
   ]
  },
  {
   "cell_type": "code",
   "execution_count": null,
   "id": "68d86764",
   "metadata": {
    "papermill": {
     "duration": 0.007807,
     "end_time": "2022-12-01T06:46:07.023055",
     "exception": false,
     "start_time": "2022-12-01T06:46:07.015248",
     "status": "completed"
    },
    "tags": []
   },
   "outputs": [],
   "source": []
  }
 ],
 "metadata": {
  "jupytext": {
   "cell_metadata_filter": "tags,-all",
   "main_language": "python",
   "notebook_metadata_filter": "-all"
  },
  "language_info": {
   "codemirror_mode": {
    "name": "ipython",
    "version": 3
   },
   "file_extension": ".py",
   "mimetype": "text/x-python",
   "name": "python",
   "nbconvert_exporter": "python",
   "pygments_lexer": "ipython3",
   "version": "3.8.10"
  },
  "papermill": {
   "default_parameters": {},
   "duration": 9.817688,
   "end_time": "2022-12-01T06:46:07.955157",
   "environment_variables": {},
   "exception": null,
   "input_path": "/home/host_user/workspace/mnist-demo-pipeline/mnist-demo-pipeline/notebooks/temp-notebook-iwmnb_ev.ipynb",
   "output_path": "notebooks/benchmark-model.ipynb",
   "parameters": {
    "P": {
     "_opentelemetry_traceparent": "00-aa2c1325229534922579ed4d6b486d6e-c07642f1908bd893-01",
     "pipeline.data_lake_root": "/pipeline-outputs/data-lake",
     "pipeline.github.actor": "matiasdahl",
     "pipeline.github.base_ref": "",
     "pipeline.github.event_name": "schedule",
     "pipeline.github.head_ref": "",
     "pipeline.github.job": "run-tests-pipeline-and-persist-pipeline-outputs",
     "pipeline.github.ref": "refs/heads/development",
     "pipeline.github.ref_name": "development",
     "pipeline.github.ref_type": "branch",
     "pipeline.github.repository": "matiasdahl/dev-mnist-digits-demo-pipeline",
     "pipeline.github.run_id": "3590161709",
     "pipeline.github.runner_name": "Hosted Agent",
     "pipeline.github.sha": "ace0d01011d5e914f1921450dd5a59c11367b38d",
     "pipeline.github.workflow": "Run automated tests, pipeline and deploy results to static reporting site",
     "pipeline.pipeline_run_id": "734ca702-880d-4b65-aa72-c5a90cc9b591",
     "pipeline.run_environment": "ci",
     "run.retry_nr": "0",
     "task.max_nr_retries": "1",
     "task.notebook": "notebooks/benchmark-model.py",
     "task.nr_train_images": 1000,
     "task.num_cpus": 1,
     "task.timeout_s": "None"
    }
   },
   "start_time": "2022-12-01T06:45:58.137469",
   "version": "2.3.3"
  }
 },
 "nbformat": 4,
 "nbformat_minor": 5
}