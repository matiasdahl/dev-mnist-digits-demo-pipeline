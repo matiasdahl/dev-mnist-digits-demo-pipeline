{
 "cells": [
  {
   "cell_type": "markdown",
   "id": "97a7162e",
   "metadata": {
    "papermill": {
     "duration": 0.004874,
     "end_time": "2022-12-01T06:45:54.274137",
     "exception": false,
     "start_time": "2022-12-01T06:45:54.269263",
     "status": "completed"
    },
    "tags": []
   },
   "source": [
    "# Benchmark model\n",
    "\n",
    "The purpose of this notebook is to benchmark persisted onnx-model (trained in the\n",
    "previous step) against evaluation set."
   ]
  },
  {
   "cell_type": "markdown",
   "id": "02db8f0b",
   "metadata": {
    "papermill": {
     "duration": 0.004251,
     "end_time": "2022-12-01T06:45:54.283589",
     "exception": false,
     "start_time": "2022-12-01T06:45:54.279338",
     "status": "completed"
    },
    "tags": []
   },
   "source": [
    "### Determine run parameters"
   ]
  },
  {
   "cell_type": "code",
   "execution_count": 1,
   "id": "95890b89",
   "metadata": {
    "execution": {
     "iopub.execute_input": "2022-12-01T06:45:54.293766Z",
     "iopub.status.busy": "2022-12-01T06:45:54.293445Z",
     "iopub.status.idle": "2022-12-01T06:45:54.301601Z",
     "shell.execute_reply": "2022-12-01T06:45:54.300979Z"
    },
    "lines_to_next_cell": 0,
    "papermill": {
     "duration": 0.01571,
     "end_time": "2022-12-01T06:45:54.303858",
     "exception": false,
     "start_time": "2022-12-01T06:45:54.288148",
     "status": "completed"
    },
    "tags": []
   },
   "outputs": [],
   "source": [
    "# ----------------- Parameters for interactive development --------------\n",
    "P = {\n",
    "    \"pipeline.data_lake_root\": \"/pipeline-outputs/data-lake\",\n",
    "    \"task.nr_train_images\": 600,\n",
    "}"
   ]
  },
  {
   "cell_type": "code",
   "execution_count": 2,
   "id": "3d5df48b",
   "metadata": {
    "execution": {
     "iopub.execute_input": "2022-12-01T06:45:54.313379Z",
     "iopub.status.busy": "2022-12-01T06:45:54.313172Z",
     "iopub.status.idle": "2022-12-01T06:45:54.316034Z",
     "shell.execute_reply": "2022-12-01T06:45:54.315549Z"
    },
    "lines_to_next_cell": 0,
    "papermill": {
     "duration": 0.010546,
     "end_time": "2022-12-01T06:45:54.318758",
     "exception": false,
     "start_time": "2022-12-01T06:45:54.308212",
     "status": "completed"
    },
    "tags": [
     "parameters"
    ]
   },
   "outputs": [],
   "source": [
    "# - During automated runs parameters will be injected in the below cell -"
   ]
  },
  {
   "cell_type": "code",
   "execution_count": 3,
   "id": "25d77b0e",
   "metadata": {
    "execution": {
     "iopub.execute_input": "2022-12-01T06:45:54.328534Z",
     "iopub.status.busy": "2022-12-01T06:45:54.328350Z",
     "iopub.status.idle": "2022-12-01T06:45:54.332236Z",
     "shell.execute_reply": "2022-12-01T06:45:54.331670Z"
    },
    "papermill": {
     "duration": 0.011662,
     "end_time": "2022-12-01T06:45:54.334412",
     "exception": false,
     "start_time": "2022-12-01T06:45:54.322750",
     "status": "completed"
    },
    "tags": [
     "injected-parameters"
    ]
   },
   "outputs": [],
   "source": [
    "# Parameters\n",
    "P = {\n",
    "    \"pipeline.data_lake_root\": \"/pipeline-outputs/data-lake\",\n",
    "    \"pipeline.run_environment\": \"ci\",\n",
    "    \"pipeline.pipeline_run_id\": \"734ca702-880d-4b65-aa72-c5a90cc9b591\",\n",
    "    \"pipeline.github.repository\": \"matiasdahl/dev-mnist-digits-demo-pipeline\",\n",
    "    \"pipeline.github.workflow\": \"Run automated tests, pipeline and deploy results to static reporting site\",\n",
    "    \"pipeline.github.runner_name\": \"Hosted Agent\",\n",
    "    \"pipeline.github.run_id\": \"3590161709\",\n",
    "    \"pipeline.github.actor\": \"matiasdahl\",\n",
    "    \"pipeline.github.job\": \"run-tests-pipeline-and-persist-pipeline-outputs\",\n",
    "    \"pipeline.github.base_ref\": \"\",\n",
    "    \"pipeline.github.head_ref\": \"\",\n",
    "    \"pipeline.github.sha\": \"ace0d01011d5e914f1921450dd5a59c11367b38d\",\n",
    "    \"pipeline.github.ref\": \"refs/heads/development\",\n",
    "    \"pipeline.github.ref_type\": \"branch\",\n",
    "    \"pipeline.github.ref_name\": \"development\",\n",
    "    \"pipeline.github.event_name\": \"schedule\",\n",
    "    \"task.nr_train_images\": 600,\n",
    "    \"task.notebook\": \"notebooks/benchmark-model.py\",\n",
    "    \"task.max_nr_retries\": \"1\",\n",
    "    \"run.retry_nr\": \"0\",\n",
    "    \"task.timeout_s\": \"None\",\n",
    "    \"task.num_cpus\": 1,\n",
    "    \"_opentelemetry_traceparent\": \"00-aa2c1325229534922579ed4d6b486d6e-4c41d9586f769e62-01\",\n",
    "}\n"
   ]
  },
  {
   "cell_type": "code",
   "execution_count": 4,
   "id": "92d9f891",
   "metadata": {
    "execution": {
     "iopub.execute_input": "2022-12-01T06:45:54.343156Z",
     "iopub.status.busy": "2022-12-01T06:45:54.342915Z",
     "iopub.status.idle": "2022-12-01T06:45:54.346267Z",
     "shell.execute_reply": "2022-12-01T06:45:54.345127Z"
    },
    "lines_to_next_cell": 0,
    "papermill": {
     "duration": 0.011068,
     "end_time": "2022-12-01T06:45:54.349042",
     "exception": false,
     "start_time": "2022-12-01T06:45:54.337974",
     "status": "completed"
    },
    "tags": []
   },
   "outputs": [],
   "source": [
    "# -----------------------------------------------------------------------"
   ]
  },
  {
   "cell_type": "markdown",
   "id": "12f927f5",
   "metadata": {
    "papermill": {
     "duration": 0.005028,
     "end_time": "2022-12-01T06:45:54.358142",
     "exception": false,
     "start_time": "2022-12-01T06:45:54.353114",
     "status": "completed"
    },
    "tags": []
   },
   "source": [
    "---"
   ]
  },
  {
   "cell_type": "markdown",
   "id": "46c5cf1c",
   "metadata": {
    "lines_to_next_cell": 2,
    "papermill": {
     "duration": 0.00457,
     "end_time": "2022-12-01T06:45:54.366521",
     "exception": false,
     "start_time": "2022-12-01T06:45:54.361951",
     "status": "completed"
    },
    "tags": []
   },
   "source": [
    "### Notebook code"
   ]
  },
  {
   "cell_type": "code",
   "execution_count": 5,
   "id": "e9f8357d",
   "metadata": {
    "execution": {
     "iopub.execute_input": "2022-12-01T06:45:54.377141Z",
     "iopub.status.busy": "2022-12-01T06:45:54.376860Z",
     "iopub.status.idle": "2022-12-01T06:45:55.507401Z",
     "shell.execute_reply": "2022-12-01T06:45:55.506578Z"
    },
    "papermill": {
     "duration": 1.138925,
     "end_time": "2022-12-01T06:45:55.509813",
     "exception": false,
     "start_time": "2022-12-01T06:45:54.370888",
     "status": "completed"
    },
    "tags": []
   },
   "outputs": [
    {
     "name": "stderr",
     "output_type": "stream",
     "text": [
      "2022-12-01 06:45:55,340\tINFO worker.py:842 -- Connecting to existing Ray cluster at address: 172.17.0.2:6379\n"
     ]
    }
   ],
   "source": [
    "import itertools as it\n",
    "\n",
    "#\n",
    "import numpy as np\n",
    "import matplotlib.pyplot as plt\n",
    "\n",
    "#\n",
    "from pynb_dag_runner.tasks.task_opentelemetry_logging import PydarLogger\n",
    "\n",
    "#\n",
    "from common.io import datalake_root\n",
    "\n",
    "logger = PydarLogger(P)"
   ]
  },
  {
   "cell_type": "markdown",
   "id": "2cf632ec",
   "metadata": {
    "papermill": {
     "duration": 0.003879,
     "end_time": "2022-12-01T06:45:55.518974",
     "exception": false,
     "start_time": "2022-12-01T06:45:55.515095",
     "status": "completed"
    },
    "tags": []
   },
   "source": [
    "## Load persisted onnx-model and evaluation data"
   ]
  },
  {
   "cell_type": "code",
   "execution_count": 6,
   "id": "37768772",
   "metadata": {
    "execution": {
     "iopub.execute_input": "2022-12-01T06:45:55.529770Z",
     "iopub.status.busy": "2022-12-01T06:45:55.529207Z",
     "iopub.status.idle": "2022-12-01T06:45:55.532680Z",
     "shell.execute_reply": "2022-12-01T06:45:55.532017Z"
    },
    "papermill": {
     "duration": 0.010829,
     "end_time": "2022-12-01T06:45:55.534845",
     "exception": false,
     "start_time": "2022-12-01T06:45:55.524016",
     "status": "completed"
    },
    "tags": []
   },
   "outputs": [],
   "source": [
    "from common.io import read_onnx, get_onnx_inputs, get_onnx_outputs, read_numpy"
   ]
  },
  {
   "cell_type": "code",
   "execution_count": 7,
   "id": "9889d708",
   "metadata": {
    "execution": {
     "iopub.execute_input": "2022-12-01T06:45:55.546206Z",
     "iopub.status.busy": "2022-12-01T06:45:55.545923Z",
     "iopub.status.idle": "2022-12-01T06:45:55.554127Z",
     "shell.execute_reply": "2022-12-01T06:45:55.553335Z"
    },
    "lines_to_next_cell": 0,
    "papermill": {
     "duration": 0.015544,
     "end_time": "2022-12-01T06:45:55.555725",
     "exception": false,
     "start_time": "2022-12-01T06:45:55.540181",
     "status": "completed"
    },
    "tags": []
   },
   "outputs": [],
   "source": [
    "onnx_inference_session = read_onnx(\n",
    "    datalake_root(P)\n",
    "    / \"models\"\n",
    "    / f\"nr_train_images={P['task.nr_train_images']}\"\n",
    "    / \"model.onnx\"\n",
    ")"
   ]
  },
  {
   "cell_type": "markdown",
   "id": "8396cd09",
   "metadata": {
    "papermill": {
     "duration": 0.004131,
     "end_time": "2022-12-01T06:45:55.565442",
     "exception": false,
     "start_time": "2022-12-01T06:45:55.561311",
     "status": "completed"
    },
    "tags": []
   },
   "source": [
    "### Record structure of inputs and outputs for ONNX model\n",
    "\n",
    "(this should likely be done in training notebook)"
   ]
  },
  {
   "cell_type": "code",
   "execution_count": 8,
   "id": "4f3674b1",
   "metadata": {
    "execution": {
     "iopub.execute_input": "2022-12-01T06:45:55.574037Z",
     "iopub.status.busy": "2022-12-01T06:45:55.573573Z",
     "iopub.status.idle": "2022-12-01T06:45:55.582251Z",
     "shell.execute_reply": "2022-12-01T06:45:55.581731Z"
    },
    "papermill": {
     "duration": 0.017301,
     "end_time": "2022-12-01T06:45:55.586342",
     "exception": false,
     "start_time": "2022-12-01T06:45:55.569041",
     "status": "completed"
    },
    "tags": []
   },
   "outputs": [
    {
     "name": "stdout",
     "output_type": "stream",
     "text": [
      "{\n",
      "  \"inputs\": [\n",
      "    {\n",
      "      \"name\": \"float_input_8x8_image\",\n",
      "      \"shape\": [\n",
      "        null,\n",
      "        64\n",
      "      ],\n",
      "      \"type\": \"tensor(float)\"\n",
      "    }\n",
      "  ],\n",
      "  \"outputs\": [\n",
      "    {\n",
      "      \"name\": \"output_label\",\n",
      "      \"shape\": [\n",
      "        null\n",
      "      ],\n",
      "      \"type\": \"tensor(int64)\"\n",
      "    },\n",
      "    {\n",
      "      \"name\": \"output_probability\",\n",
      "      \"shape\": [],\n",
      "      \"type\": \"seq(map(int64,tensor(float)))\"\n",
      "    }\n",
      "  ]\n",
      "}\n"
     ]
    }
   ],
   "source": [
    "import json\n",
    "\n",
    "onnx_io = json.dumps(\n",
    "    {\n",
    "        \"inputs\": get_onnx_inputs(onnx_inference_session),\n",
    "        \"outputs\": get_onnx_outputs(onnx_inference_session),\n",
    "    },\n",
    "    indent=2,\n",
    ")\n",
    "\n",
    "\n",
    "logger.log_artefact(\"onnx_io_structure.json\", onnx_io)\n",
    "print(onnx_io)"
   ]
  },
  {
   "cell_type": "markdown",
   "id": "34ff0499",
   "metadata": {
    "papermill": {
     "duration": 0.005133,
     "end_time": "2022-12-01T06:45:55.596616",
     "exception": false,
     "start_time": "2022-12-01T06:45:55.591483",
     "status": "completed"
    },
    "tags": []
   },
   "source": [
    "### Evaluate model performance on evaluation data set"
   ]
  },
  {
   "cell_type": "code",
   "execution_count": 9,
   "id": "f3740c1f",
   "metadata": {
    "execution": {
     "iopub.execute_input": "2022-12-01T06:45:55.609009Z",
     "iopub.status.busy": "2022-12-01T06:45:55.608764Z",
     "iopub.status.idle": "2022-12-01T06:45:55.613612Z",
     "shell.execute_reply": "2022-12-01T06:45:55.612709Z"
    },
    "papermill": {
     "duration": 0.012164,
     "end_time": "2022-12-01T06:45:55.615398",
     "exception": false,
     "start_time": "2022-12-01T06:45:55.603234",
     "status": "completed"
    },
    "tags": []
   },
   "outputs": [],
   "source": [
    "# load evaluation data\n",
    "X_test = read_numpy(datalake_root(P) / \"test-data\" / \"digits.numpy\")\n",
    "y_test = read_numpy(datalake_root(P) / \"test-data\" / \"labels.numpy\")"
   ]
  },
  {
   "cell_type": "code",
   "execution_count": 10,
   "id": "c23590d2",
   "metadata": {
    "execution": {
     "iopub.execute_input": "2022-12-01T06:45:55.625862Z",
     "iopub.status.busy": "2022-12-01T06:45:55.625431Z",
     "iopub.status.idle": "2022-12-01T06:45:55.685672Z",
     "shell.execute_reply": "2022-12-01T06:45:55.684580Z"
    },
    "papermill": {
     "duration": 0.067734,
     "end_time": "2022-12-01T06:45:55.687645",
     "exception": false,
     "start_time": "2022-12-01T06:45:55.619911",
     "status": "completed"
    },
    "tags": []
   },
   "outputs": [],
   "source": [
    "def get_model_outputs(X, onnx_inference_session):\n",
    "    y_pred_labels, y_pred_map = onnx_inference_session.run(\n",
    "        [\"output_label\", \"output_probability\"],\n",
    "        {\"float_input_8x8_image\": X.astype(np.float32)},\n",
    "    )\n",
    "    y_pred_probs = np.array(\n",
    "        [[probabilities[digit] for digit in range(10)] for probabilities in y_pred_map]\n",
    "    )\n",
    "\n",
    "    assert y_pred_labels.shape == (X.shape[0],)\n",
    "    assert y_pred_probs.shape == (X.shape[0], 10)\n",
    "\n",
    "    return y_pred_labels, y_pred_probs\n",
    "\n",
    "\n",
    "# Note: as shown in the training notebook, the predicted labels and probabilities\n",
    "# computed below need not be compatible.\n",
    "y_pred_labels_test, y_pred_probs_test = get_model_outputs(\n",
    "    X_test, onnx_inference_session\n",
    ")"
   ]
  },
  {
   "cell_type": "markdown",
   "id": "3739e81a",
   "metadata": {
    "papermill": {
     "duration": 0.005187,
     "end_time": "2022-12-01T06:45:55.697867",
     "exception": false,
     "start_time": "2022-12-01T06:45:55.692680",
     "status": "completed"
    },
    "tags": []
   },
   "source": [
    "### Confusion matrix"
   ]
  },
  {
   "cell_type": "code",
   "execution_count": 11,
   "id": "978fd718",
   "metadata": {
    "execution": {
     "iopub.execute_input": "2022-12-01T06:45:55.708233Z",
     "iopub.status.busy": "2022-12-01T06:45:55.708036Z",
     "iopub.status.idle": "2022-12-01T06:45:55.710511Z",
     "shell.execute_reply": "2022-12-01T06:45:55.710004Z"
    },
    "papermill": {
     "duration": 0.008932,
     "end_time": "2022-12-01T06:45:55.711920",
     "exception": false,
     "start_time": "2022-12-01T06:45:55.702988",
     "status": "completed"
    },
    "tags": []
   },
   "outputs": [],
   "source": [
    "# TODO"
   ]
  },
  {
   "cell_type": "markdown",
   "id": "fabca65a",
   "metadata": {
    "papermill": {
     "duration": 0.004292,
     "end_time": "2022-12-01T06:45:55.721417",
     "exception": false,
     "start_time": "2022-12-01T06:45:55.717125",
     "status": "completed"
    },
    "tags": []
   },
   "source": [
    "### Plot predicted probabilities for each classifier over all evaluation digit images"
   ]
  },
  {
   "cell_type": "code",
   "execution_count": 12,
   "id": "7bc95141",
   "metadata": {
    "execution": {
     "iopub.execute_input": "2022-12-01T06:45:55.731166Z",
     "iopub.status.busy": "2022-12-01T06:45:55.730447Z",
     "iopub.status.idle": "2022-12-01T06:45:58.712171Z",
     "shell.execute_reply": "2022-12-01T06:45:58.711645Z"
    },
    "papermill": {
     "duration": 2.988164,
     "end_time": "2022-12-01T06:45:58.713685",
     "exception": false,
     "start_time": "2022-12-01T06:45:55.725521",
     "status": "completed"
    },
    "tags": []
   },
   "outputs": [
    {
     "data": {
      "image/png": "[encoded data removed]",
      "text/plain": [
       "<Figure size 1600x600 with 10 Axes>"
      ]
     },
     "metadata": {},
     "output_type": "display_data"
    }
   ],
   "source": [
    "def plot_per_digit_probabilities(y_pred_probs):\n",
    "    fig, axs = plt.subplots(nrows=2, ncols=5, figsize=(16, 6))\n",
    "\n",
    "    for (r, c), digit, ax in zip(\n",
    "        it.product(range(2), range(5)), range(10), axs.reshape(-1)\n",
    "    ):\n",
    "        ax.hist(y_pred_probs_test[:, digit], bins=20)\n",
    "\n",
    "        ax.set_title(f\"Digit {digit}\")\n",
    "        if r == 1 and c == 2:\n",
    "            ax.set_xlabel(\"probability\", fontsize=16)\n",
    "\n",
    "        if c == 0:\n",
    "            ax.set_ylabel(\"counts\", fontsize=16)\n",
    "        ax.set_yscale(\"log\")\n",
    "\n",
    "    fig.tight_layout()\n",
    "    fig.suptitle(\n",
    "        f\"Distributions of prediction probabilities for each digit \"\n",
    "        f\"(on evaluation data, n={y_pred_probs.shape[0]})\",\n",
    "        fontsize=20,\n",
    "    )\n",
    "    fig.tight_layout()\n",
    "    fig.show()\n",
    "\n",
    "    return fig\n",
    "\n",
    "\n",
    "fig = plot_per_digit_probabilities(y_pred_probs_test)"
   ]
  },
  {
   "cell_type": "markdown",
   "id": "264c9301",
   "metadata": {
    "papermill": {
     "duration": 0.005749,
     "end_time": "2022-12-01T06:45:58.724578",
     "exception": false,
     "start_time": "2022-12-01T06:45:58.718829",
     "status": "completed"
    },
    "tags": []
   },
   "source": [
    "From the above distributions we see that most digits have clear separation between\n",
    "high and lower probabilities. Morover, in each case there is roughly an order of\n",
    "magnitude more of digits with low probabilities. This is compatible with digits\n",
    "being roughly evenly distributed in the data."
   ]
  },
  {
   "cell_type": "code",
   "execution_count": 13,
   "id": "fa3cbc83",
   "metadata": {
    "execution": {
     "iopub.execute_input": "2022-12-01T06:45:58.735727Z",
     "iopub.status.busy": "2022-12-01T06:45:58.735471Z",
     "iopub.status.idle": "2022-12-01T06:45:59.207081Z",
     "shell.execute_reply": "2022-12-01T06:45:59.206249Z"
    },
    "papermill": {
     "duration": 0.47905,
     "end_time": "2022-12-01T06:45:59.209086",
     "exception": false,
     "start_time": "2022-12-01T06:45:58.730036",
     "status": "completed"
    },
    "tags": []
   },
   "outputs": [],
   "source": [
    "logger.log_figure(\"per-digit-probabilities.png\", fig)"
   ]
  },
  {
   "cell_type": "markdown",
   "id": "244d4c25",
   "metadata": {
    "papermill": {
     "duration": 0.005056,
     "end_time": "2022-12-01T06:45:59.219517",
     "exception": false,
     "start_time": "2022-12-01T06:45:59.214461",
     "status": "completed"
    },
    "tags": []
   },
   "source": [
    "### Plot ROC curves for individual one-vs-rest classifiers"
   ]
  },
  {
   "cell_type": "code",
   "execution_count": 14,
   "id": "4013ccc4",
   "metadata": {
    "execution": {
     "iopub.execute_input": "2022-12-01T06:45:59.231667Z",
     "iopub.status.busy": "2022-12-01T06:45:59.231254Z",
     "iopub.status.idle": "2022-12-01T06:45:59.682955Z",
     "shell.execute_reply": "2022-12-01T06:45:59.682224Z"
    },
    "papermill": {
     "duration": 0.459778,
     "end_time": "2022-12-01T06:45:59.684763",
     "exception": false,
     "start_time": "2022-12-01T06:45:59.224985",
     "status": "completed"
    },
    "tags": []
   },
   "outputs": [],
   "source": [
    "from sklearn import metrics"
   ]
  },
  {
   "cell_type": "code",
   "execution_count": 15,
   "id": "4620ffad",
   "metadata": {
    "execution": {
     "iopub.execute_input": "2022-12-01T06:45:59.700631Z",
     "iopub.status.busy": "2022-12-01T06:45:59.700362Z",
     "iopub.status.idle": "2022-12-01T06:46:00.990899Z",
     "shell.execute_reply": "2022-12-01T06:46:00.989823Z"
    },
    "papermill": {
     "duration": 1.29983,
     "end_time": "2022-12-01T06:46:00.992793",
     "exception": false,
     "start_time": "2022-12-01T06:45:59.692963",
     "status": "completed"
    },
    "tags": []
   },
   "outputs": [
    {
     "data": {
      "image/png": "[encoded data removed]",
      "text/plain": [
       "<Figure size 1600x800 with 10 Axes>"
      ]
     },
     "metadata": {},
     "output_type": "display_data"
    }
   ],
   "source": [
    "def plot_roc_curves(y, y_pred_probs):\n",
    "    # based on example code\n",
    "    # https://scikit-learn.org/stable/auto_examples/model_selection/plot_roc.html\n",
    "\n",
    "    fig, axs = plt.subplots(nrows=2, ncols=5, figsize=(16, 8))\n",
    "\n",
    "    roc_auc_dict = {}\n",
    "\n",
    "    for (r, c), digit, ax in zip(\n",
    "        it.product(range(2), range(5)), range(10), axs.reshape(-1)\n",
    "    ):\n",
    "        fpr, tpr, _ = metrics.roc_curve(y == digit, y_pred_probs[:, digit])\n",
    "        auc = metrics.auc(fpr, tpr)\n",
    "        roc_auc_dict[str(digit)] = auc\n",
    "\n",
    "        ax.plot(fpr, tpr, label=f\"ROC AUC={round(auc, 3)}\")\n",
    "\n",
    "        ax.set_title(f\"\\nDigit {digit}\", fontsize=16)\n",
    "        if r == 1:\n",
    "            ax.set_xlabel(\"FPR\", fontsize=18)\n",
    "\n",
    "        if c == 0:\n",
    "            ax.set_ylabel(\"TPR\", fontsize=18)\n",
    "\n",
    "        ax.set_xlim([-0.05, 1.05])\n",
    "        ax.set_ylim([-0.05, 1.05])\n",
    "        ax.legend(loc=\"lower right\", frameon=False, fontsize=14)\n",
    "\n",
    "    fig.tight_layout()\n",
    "    fig.suptitle(\n",
    "        f\"ROC plots for one-vs-rest performances \"\n",
    "        f\"(on evaluation data, n={y_pred_probs_test.shape[1]}\",\n",
    "        fontsize=22,\n",
    "    )\n",
    "    fig.tight_layout()\n",
    "    fig.show()\n",
    "\n",
    "    return roc_auc_dict, fig\n",
    "\n",
    "\n",
    "roc_auc_dict, fig = plot_roc_curves(y_test, y_pred_probs_test)"
   ]
  },
  {
   "cell_type": "code",
   "execution_count": 16,
   "id": "36e0571d",
   "metadata": {
    "execution": {
     "iopub.execute_input": "2022-12-01T06:46:01.007601Z",
     "iopub.status.busy": "2022-12-01T06:46:01.007324Z",
     "iopub.status.idle": "2022-12-01T06:46:01.270488Z",
     "shell.execute_reply": "2022-12-01T06:46:01.269701Z"
    },
    "papermill": {
     "duration": 0.273154,
     "end_time": "2022-12-01T06:46:01.272342",
     "exception": false,
     "start_time": "2022-12-01T06:46:00.999188",
     "status": "completed"
    },
    "tags": []
   },
   "outputs": [],
   "source": [
    "logger.log_figure(\"per-digit-roc-curves.png\", fig)"
   ]
  },
  {
   "cell_type": "code",
   "execution_count": 17,
   "id": "c82c8576",
   "metadata": {
    "execution": {
     "iopub.execute_input": "2022-12-01T06:46:01.286955Z",
     "iopub.status.busy": "2022-12-01T06:46:01.286606Z",
     "iopub.status.idle": "2022-12-01T06:46:01.291597Z",
     "shell.execute_reply": "2022-12-01T06:46:01.290814Z"
    },
    "papermill": {
     "duration": 0.01556,
     "end_time": "2022-12-01T06:46:01.294756",
     "exception": false,
     "start_time": "2022-12-01T06:46:01.279196",
     "status": "completed"
    },
    "tags": []
   },
   "outputs": [
    {
     "data": {
      "text/plain": [
       "{'0': 1.0,\n",
       " '1': 0.9992877225866916,\n",
       " '2': 1.0,\n",
       " '3': 0.9996626054358013,\n",
       " '4': 0.9991617131534827,\n",
       " '5': 0.9988003748828491,\n",
       " '6': 0.999923792104862,\n",
       " '7': 0.9998475842097241,\n",
       " '8': 0.9945223833543506,\n",
       " '9': 0.998818777625362}"
      ]
     },
     "execution_count": 17,
     "metadata": {},
     "output_type": "execute_result"
    }
   ],
   "source": [
    "roc_auc_dict"
   ]
  },
  {
   "cell_type": "code",
   "execution_count": 18,
   "id": "65b03200",
   "metadata": {
    "execution": {
     "iopub.execute_input": "2022-12-01T06:46:01.308828Z",
     "iopub.status.busy": "2022-12-01T06:46:01.308511Z",
     "iopub.status.idle": "2022-12-01T06:46:01.312866Z",
     "shell.execute_reply": "2022-12-01T06:46:01.312297Z"
    },
    "papermill": {
     "duration": 0.014803,
     "end_time": "2022-12-01T06:46:01.315248",
     "exception": false,
     "start_time": "2022-12-01T06:46:01.300445",
     "status": "completed"
    },
    "tags": []
   },
   "outputs": [
    {
     "name": "stdout",
     "output_type": "stream",
     "text": [
      " - Logging roc_auc_per_digit (json) : {'0': 1.0, '1': 0.9992877225866916, '2': 1.0, '3': 0.9996626054358013, '4': 0.9991617131534827, '5': 0.9988003748828491, '6': 0.999923792104862, '7': 0.9998475842097241, '8': 0.9945223833543506, '9': 0.998818777625362}\n"
     ]
    }
   ],
   "source": [
    "logger.log_value(\"roc_auc_per_digit\", roc_auc_dict)"
   ]
  },
  {
   "cell_type": "markdown",
   "id": "13495e5d",
   "metadata": {
    "papermill": {
     "duration": 0.007282,
     "end_time": "2022-12-01T06:46:01.327400",
     "exception": false,
     "start_time": "2022-12-01T06:46:01.320118",
     "status": "completed"
    },
    "tags": []
   },
   "source": [
    "### Compute and log mean ROC AUC score averaged over all digits"
   ]
  },
  {
   "cell_type": "code",
   "execution_count": 19,
   "id": "f0bfe47d",
   "metadata": {
    "execution": {
     "iopub.execute_input": "2022-12-01T06:46:01.341728Z",
     "iopub.status.busy": "2022-12-01T06:46:01.341473Z",
     "iopub.status.idle": "2022-12-01T06:46:01.357985Z",
     "shell.execute_reply": "2022-12-01T06:46:01.355051Z"
    },
    "papermill": {
     "duration": 0.025972,
     "end_time": "2022-12-01T06:46:01.360192",
     "exception": false,
     "start_time": "2022-12-01T06:46:01.334220",
     "status": "completed"
    },
    "tags": []
   },
   "outputs": [
    {
     "name": "stdout",
     "output_type": "stream",
     "text": [
      " - Logging roc_auc_class_mean (float) : 0.9990024953353123\n"
     ]
    }
   ],
   "source": [
    "roc_auc_macro = np.mean(list(roc_auc_dict.values()))\n",
    "\n",
    "logger.log_float(\"roc_auc_class_mean\", roc_auc_macro)\n",
    "\n",
    "# assert that the same value can be computed directly using sklearn\n",
    "assert roc_auc_macro == metrics.roc_auc_score(\n",
    "    y_test, y_pred_probs_test, average=\"macro\", multi_class=\"ovr\"\n",
    ")"
   ]
  },
  {
   "cell_type": "code",
   "execution_count": 20,
   "id": "6a96f9b2",
   "metadata": {
    "execution": {
     "iopub.execute_input": "2022-12-01T06:46:01.374330Z",
     "iopub.status.busy": "2022-12-01T06:46:01.374052Z",
     "iopub.status.idle": "2022-12-01T06:46:01.377752Z",
     "shell.execute_reply": "2022-12-01T06:46:01.377086Z"
    },
    "lines_to_next_cell": 0,
    "papermill": {
     "duration": 0.013082,
     "end_time": "2022-12-01T06:46:01.379567",
     "exception": false,
     "start_time": "2022-12-01T06:46:01.366485",
     "status": "completed"
    },
    "tags": []
   },
   "outputs": [],
   "source": [
    "# ---"
   ]
  },
  {
   "cell_type": "code",
   "execution_count": null,
   "id": "a59cc5d1",
   "metadata": {
    "papermill": {
     "duration": 0.006139,
     "end_time": "2022-12-01T06:46:01.392262",
     "exception": false,
     "start_time": "2022-12-01T06:46:01.386123",
     "status": "completed"
    },
    "tags": []
   },
   "outputs": [],
   "source": []
  }
 ],
 "metadata": {
  "jupytext": {
   "cell_metadata_filter": "tags,-all",
   "main_language": "python",
   "notebook_metadata_filter": "-all"
  },
  "language_info": {
   "codemirror_mode": {
    "name": "ipython",
    "version": 3
   },
   "file_extension": ".py",
   "mimetype": "text/x-python",
   "name": "python",
   "nbconvert_exporter": "python",
   "pygments_lexer": "ipython3",
   "version": "3.8.10"
  },
  "papermill": {
   "default_parameters": {},
   "duration": 10.053609,
   "end_time": "2022-12-01T06:46:02.519018",
   "environment_variables": {},
   "exception": null,
   "input_path": "/home/host_user/workspace/mnist-demo-pipeline/mnist-demo-pipeline/notebooks/temp-notebook-lot9uetl.ipynb",
   "output_path": "notebooks/benchmark-model.ipynb",
   "parameters": {
    "P": {
     "_opentelemetry_traceparent": "00-aa2c1325229534922579ed4d6b486d6e-4c41d9586f769e62-01",
     "pipeline.data_lake_root": "/pipeline-outputs/data-lake",
     "pipeline.github.actor": "matiasdahl",
     "pipeline.github.base_ref": "",
     "pipeline.github.event_name": "schedule",
     "pipeline.github.head_ref": "",
     "pipeline.github.job": "run-tests-pipeline-and-persist-pipeline-outputs",
     "pipeline.github.ref": "refs/heads/development",
     "pipeline.github.ref_name": "development",
     "pipeline.github.ref_type": "branch",
     "pipeline.github.repository": "matiasdahl/dev-mnist-digits-demo-pipeline",
     "pipeline.github.run_id": "3590161709",
     "pipeline.github.runner_name": "Hosted Agent",
     "pipeline.github.sha": "ace0d01011d5e914f1921450dd5a59c11367b38d",
     "pipeline.github.workflow": "Run automated tests, pipeline and deploy results to static reporting site",
     "pipeline.pipeline_run_id": "734ca702-880d-4b65-aa72-c5a90cc9b591",
     "pipeline.run_environment": "ci",
     "run.retry_nr": "0",
     "task.max_nr_retries": "1",
     "task.notebook": "notebooks/benchmark-model.py",
     "task.nr_train_images": 600,
     "task.num_cpus": 1,
     "task.timeout_s": "None"
    }
   },
   "start_time": "2022-12-01T06:45:52.465409",
   "version": "2.3.3"
  }
 },
 "nbformat": 4,
 "nbformat_minor": 5
}