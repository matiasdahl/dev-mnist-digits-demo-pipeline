{
 "cells": [
  {
   "cell_type": "markdown",
   "id": "461f470e",
   "metadata": {
    "papermill": {
     "duration": 0.006035,
     "end_time": "2022-12-01T06:46:05.512931",
     "exception": false,
     "start_time": "2022-12-01T06:46:05.506896",
     "status": "completed"
    },
    "tags": []
   },
   "source": [
    "# Benchmark model\n",
    "\n",
    "The purpose of this notebook is to benchmark persisted onnx-model (trained in the\n",
    "previous step) against evaluation set."
   ]
  },
  {
   "cell_type": "markdown",
   "id": "e05871ed",
   "metadata": {
    "papermill": {
     "duration": 0.004842,
     "end_time": "2022-12-01T06:46:05.522767",
     "exception": false,
     "start_time": "2022-12-01T06:46:05.517925",
     "status": "completed"
    },
    "tags": []
   },
   "source": [
    "### Determine run parameters"
   ]
  },
  {
   "cell_type": "code",
   "execution_count": 1,
   "id": "efbad32f",
   "metadata": {
    "execution": {
     "iopub.execute_input": "2022-12-01T06:46:05.533156Z",
     "iopub.status.busy": "2022-12-01T06:46:05.532831Z",
     "iopub.status.idle": "2022-12-01T06:46:05.542802Z",
     "shell.execute_reply": "2022-12-01T06:46:05.542168Z"
    },
    "lines_to_next_cell": 0,
    "papermill": {
     "duration": 0.018289,
     "end_time": "2022-12-01T06:46:05.545735",
     "exception": false,
     "start_time": "2022-12-01T06:46:05.527446",
     "status": "completed"
    },
    "tags": []
   },
   "outputs": [],
   "source": [
    "# ----------------- Parameters for interactive development --------------\n",
    "P = {\n",
    "    \"pipeline.data_lake_root\": \"/pipeline-outputs/data-lake\",\n",
    "    \"task.nr_train_images\": 600,\n",
    "}"
   ]
  },
  {
   "cell_type": "code",
   "execution_count": 2,
   "id": "98f9b2ad",
   "metadata": {
    "execution": {
     "iopub.execute_input": "2022-12-01T06:46:05.556408Z",
     "iopub.status.busy": "2022-12-01T06:46:05.556129Z",
     "iopub.status.idle": "2022-12-01T06:46:05.560008Z",
     "shell.execute_reply": "2022-12-01T06:46:05.559042Z"
    },
    "lines_to_next_cell": 0,
    "papermill": {
     "duration": 0.012677,
     "end_time": "2022-12-01T06:46:05.563533",
     "exception": false,
     "start_time": "2022-12-01T06:46:05.550856",
     "status": "completed"
    },
    "tags": [
     "parameters"
    ]
   },
   "outputs": [],
   "source": [
    "# - During automated runs parameters will be injected in the below cell -"
   ]
  },
  {
   "cell_type": "code",
   "execution_count": 3,
   "id": "0b8bc85f",
   "metadata": {
    "execution": {
     "iopub.execute_input": "2022-12-01T06:46:05.582724Z",
     "iopub.status.busy": "2022-12-01T06:46:05.582459Z",
     "iopub.status.idle": "2022-12-01T06:46:05.588097Z",
     "shell.execute_reply": "2022-12-01T06:46:05.587420Z"
    },
    "papermill": {
     "duration": 0.014373,
     "end_time": "2022-12-01T06:46:05.590936",
     "exception": false,
     "start_time": "2022-12-01T06:46:05.576563",
     "status": "completed"
    },
    "tags": [
     "injected-parameters"
    ]
   },
   "outputs": [],
   "source": [
    "# Parameters\n",
    "P = {\n",
    "    \"pipeline.data_lake_root\": \"/pipeline-outputs/data-lake\",\n",
    "    \"pipeline.run_environment\": \"ci\",\n",
    "    \"pipeline.pipeline_run_id\": \"734ca702-880d-4b65-aa72-c5a90cc9b591\",\n",
    "    \"pipeline.github.repository\": \"matiasdahl/dev-mnist-digits-demo-pipeline\",\n",
    "    \"pipeline.github.workflow\": \"Run automated tests, pipeline and deploy results to static reporting site\",\n",
    "    \"pipeline.github.runner_name\": \"Hosted Agent\",\n",
    "    \"pipeline.github.run_id\": \"3590161709\",\n",
    "    \"pipeline.github.actor\": \"matiasdahl\",\n",
    "    \"pipeline.github.job\": \"run-tests-pipeline-and-persist-pipeline-outputs\",\n",
    "    \"pipeline.github.base_ref\": \"\",\n",
    "    \"pipeline.github.head_ref\": \"\",\n",
    "    \"pipeline.github.sha\": \"ace0d01011d5e914f1921450dd5a59c11367b38d\",\n",
    "    \"pipeline.github.ref\": \"refs/heads/development\",\n",
    "    \"pipeline.github.ref_type\": \"branch\",\n",
    "    \"pipeline.github.ref_name\": \"development\",\n",
    "    \"pipeline.github.event_name\": \"schedule\",\n",
    "    \"task.nr_train_images\": 800,\n",
    "    \"task.notebook\": \"notebooks/benchmark-model.py\",\n",
    "    \"task.max_nr_retries\": \"1\",\n",
    "    \"run.retry_nr\": \"0\",\n",
    "    \"task.timeout_s\": \"None\",\n",
    "    \"task.num_cpus\": 1,\n",
    "    \"_opentelemetry_traceparent\": \"00-aa2c1325229534922579ed4d6b486d6e-c2db01455678abeb-01\",\n",
    "}\n"
   ]
  },
  {
   "cell_type": "code",
   "execution_count": 4,
   "id": "18690ae5",
   "metadata": {
    "execution": {
     "iopub.execute_input": "2022-12-01T06:46:05.600894Z",
     "iopub.status.busy": "2022-12-01T06:46:05.600655Z",
     "iopub.status.idle": "2022-12-01T06:46:05.604066Z",
     "shell.execute_reply": "2022-12-01T06:46:05.603559Z"
    },
    "lines_to_next_cell": 0,
    "papermill": {
     "duration": 0.011644,
     "end_time": "2022-12-01T06:46:05.607220",
     "exception": false,
     "start_time": "2022-12-01T06:46:05.595576",
     "status": "completed"
    },
    "tags": []
   },
   "outputs": [],
   "source": [
    "# -----------------------------------------------------------------------"
   ]
  },
  {
   "cell_type": "markdown",
   "id": "e15011a2",
   "metadata": {
    "papermill": {
     "duration": 0.006969,
     "end_time": "2022-12-01T06:46:05.618236",
     "exception": false,
     "start_time": "2022-12-01T06:46:05.611267",
     "status": "completed"
    },
    "tags": []
   },
   "source": [
    "---"
   ]
  },
  {
   "cell_type": "markdown",
   "id": "e9615529",
   "metadata": {
    "lines_to_next_cell": 2,
    "papermill": {
     "duration": 0.004743,
     "end_time": "2022-12-01T06:46:05.627678",
     "exception": false,
     "start_time": "2022-12-01T06:46:05.622935",
     "status": "completed"
    },
    "tags": []
   },
   "source": [
    "### Notebook code"
   ]
  },
  {
   "cell_type": "code",
   "execution_count": 5,
   "id": "0238db86",
   "metadata": {
    "execution": {
     "iopub.execute_input": "2022-12-01T06:46:05.638016Z",
     "iopub.status.busy": "2022-12-01T06:46:05.637760Z",
     "iopub.status.idle": "2022-12-01T06:46:06.852479Z",
     "shell.execute_reply": "2022-12-01T06:46:06.850405Z"
    },
    "papermill": {
     "duration": 1.223953,
     "end_time": "2022-12-01T06:46:06.855902",
     "exception": false,
     "start_time": "2022-12-01T06:46:05.631949",
     "status": "completed"
    },
    "tags": []
   },
   "outputs": [
    {
     "name": "stderr",
     "output_type": "stream",
     "text": [
      "2022-12-01 06:46:06,672\tINFO worker.py:842 -- Connecting to existing Ray cluster at address: 172.17.0.2:6379\n"
     ]
    }
   ],
   "source": [
    "import itertools as it\n",
    "\n",
    "#\n",
    "import numpy as np\n",
    "import matplotlib.pyplot as plt\n",
    "\n",
    "#\n",
    "from pynb_dag_runner.tasks.task_opentelemetry_logging import PydarLogger\n",
    "\n",
    "#\n",
    "from common.io import datalake_root\n",
    "\n",
    "logger = PydarLogger(P)"
   ]
  },
  {
   "cell_type": "markdown",
   "id": "238f1616",
   "metadata": {
    "papermill": {
     "duration": 0.004667,
     "end_time": "2022-12-01T06:46:06.866151",
     "exception": false,
     "start_time": "2022-12-01T06:46:06.861484",
     "status": "completed"
    },
    "tags": []
   },
   "source": [
    "## Load persisted onnx-model and evaluation data"
   ]
  },
  {
   "cell_type": "code",
   "execution_count": 6,
   "id": "c7373a29",
   "metadata": {
    "execution": {
     "iopub.execute_input": "2022-12-01T06:46:06.882094Z",
     "iopub.status.busy": "2022-12-01T06:46:06.881700Z",
     "iopub.status.idle": "2022-12-01T06:46:06.886296Z",
     "shell.execute_reply": "2022-12-01T06:46:06.885633Z"
    },
    "papermill": {
     "duration": 0.012681,
     "end_time": "2022-12-01T06:46:06.888188",
     "exception": false,
     "start_time": "2022-12-01T06:46:06.875507",
     "status": "completed"
    },
    "tags": []
   },
   "outputs": [],
   "source": [
    "from common.io import read_onnx, get_onnx_inputs, get_onnx_outputs, read_numpy"
   ]
  },
  {
   "cell_type": "code",
   "execution_count": 7,
   "id": "77d2cdff",
   "metadata": {
    "execution": {
     "iopub.execute_input": "2022-12-01T06:46:06.899022Z",
     "iopub.status.busy": "2022-12-01T06:46:06.898671Z",
     "iopub.status.idle": "2022-12-01T06:46:06.911114Z",
     "shell.execute_reply": "2022-12-01T06:46:06.909924Z"
    },
    "lines_to_next_cell": 0,
    "papermill": {
     "duration": 0.020755,
     "end_time": "2022-12-01T06:46:06.913875",
     "exception": false,
     "start_time": "2022-12-01T06:46:06.893120",
     "status": "completed"
    },
    "tags": []
   },
   "outputs": [],
   "source": [
    "onnx_inference_session = read_onnx(\n",
    "    datalake_root(P)\n",
    "    / \"models\"\n",
    "    / f\"nr_train_images={P['task.nr_train_images']}\"\n",
    "    / \"model.onnx\"\n",
    ")"
   ]
  },
  {
   "cell_type": "markdown",
   "id": "bfc25a75",
   "metadata": {
    "papermill": {
     "duration": 0.007342,
     "end_time": "2022-12-01T06:46:06.931182",
     "exception": false,
     "start_time": "2022-12-01T06:46:06.923840",
     "status": "completed"
    },
    "tags": []
   },
   "source": [
    "### Record structure of inputs and outputs for ONNX model\n",
    "\n",
    "(this should likely be done in training notebook)"
   ]
  },
  {
   "cell_type": "code",
   "execution_count": 8,
   "id": "d1d39fba",
   "metadata": {
    "execution": {
     "iopub.execute_input": "2022-12-01T06:46:06.942145Z",
     "iopub.status.busy": "2022-12-01T06:46:06.941721Z",
     "iopub.status.idle": "2022-12-01T06:46:06.948786Z",
     "shell.execute_reply": "2022-12-01T06:46:06.947995Z"
    },
    "papermill": {
     "duration": 0.017443,
     "end_time": "2022-12-01T06:46:06.953911",
     "exception": false,
     "start_time": "2022-12-01T06:46:06.936468",
     "status": "completed"
    },
    "tags": []
   },
   "outputs": [
    {
     "name": "stdout",
     "output_type": "stream",
     "text": [
      "{\n",
      "  \"inputs\": [\n",
      "    {\n",
      "      \"name\": \"float_input_8x8_image\",\n",
      "      \"shape\": [\n",
      "        null,\n",
      "        64\n",
      "      ],\n",
      "      \"type\": \"tensor(float)\"\n",
      "    }\n",
      "  ],\n",
      "  \"outputs\": [\n",
      "    {\n",
      "      \"name\": \"output_label\",\n",
      "      \"shape\": [\n",
      "        null\n",
      "      ],\n",
      "      \"type\": \"tensor(int64)\"\n",
      "    },\n",
      "    {\n",
      "      \"name\": \"output_probability\",\n",
      "      \"shape\": [],\n",
      "      \"type\": \"seq(map(int64,tensor(float)))\"\n",
      "    }\n",
      "  ]\n",
      "}\n"
     ]
    }
   ],
   "source": [
    "import json\n",
    "\n",
    "onnx_io = json.dumps(\n",
    "    {\n",
    "        \"inputs\": get_onnx_inputs(onnx_inference_session),\n",
    "        \"outputs\": get_onnx_outputs(onnx_inference_session),\n",
    "    },\n",
    "    indent=2,\n",
    ")\n",
    "\n",
    "\n",
    "logger.log_artefact(\"onnx_io_structure.json\", onnx_io)\n",
    "print(onnx_io)"
   ]
  },
  {
   "cell_type": "markdown",
   "id": "1417935e",
   "metadata": {
    "papermill": {
     "duration": 0.007199,
     "end_time": "2022-12-01T06:46:06.967933",
     "exception": false,
     "start_time": "2022-12-01T06:46:06.960734",
     "status": "completed"
    },
    "tags": []
   },
   "source": [
    "### Evaluate model performance on evaluation data set"
   ]
  },
  {
   "cell_type": "code",
   "execution_count": 9,
   "id": "3047ac18",
   "metadata": {
    "execution": {
     "iopub.execute_input": "2022-12-01T06:46:06.978278Z",
     "iopub.status.busy": "2022-12-01T06:46:06.977867Z",
     "iopub.status.idle": "2022-12-01T06:46:06.982917Z",
     "shell.execute_reply": "2022-12-01T06:46:06.982202Z"
    },
    "papermill": {
     "duration": 0.012917,
     "end_time": "2022-12-01T06:46:06.985008",
     "exception": false,
     "start_time": "2022-12-01T06:46:06.972091",
     "status": "completed"
    },
    "tags": []
   },
   "outputs": [],
   "source": [
    "# load evaluation data\n",
    "X_test = read_numpy(datalake_root(P) / \"test-data\" / \"digits.numpy\")\n",
    "y_test = read_numpy(datalake_root(P) / \"test-data\" / \"labels.numpy\")"
   ]
  },
  {
   "cell_type": "code",
   "execution_count": 10,
   "id": "51ac7e92",
   "metadata": {
    "execution": {
     "iopub.execute_input": "2022-12-01T06:46:06.997804Z",
     "iopub.status.busy": "2022-12-01T06:46:06.996455Z",
     "iopub.status.idle": "2022-12-01T06:46:07.068570Z",
     "shell.execute_reply": "2022-12-01T06:46:07.067987Z"
    },
    "papermill": {
     "duration": 0.081525,
     "end_time": "2022-12-01T06:46:07.070569",
     "exception": false,
     "start_time": "2022-12-01T06:46:06.989044",
     "status": "completed"
    },
    "tags": []
   },
   "outputs": [],
   "source": [
    "def get_model_outputs(X, onnx_inference_session):\n",
    "    y_pred_labels, y_pred_map = onnx_inference_session.run(\n",
    "        [\"output_label\", \"output_probability\"],\n",
    "        {\"float_input_8x8_image\": X.astype(np.float32)},\n",
    "    )\n",
    "    y_pred_probs = np.array(\n",
    "        [[probabilities[digit] for digit in range(10)] for probabilities in y_pred_map]\n",
    "    )\n",
    "\n",
    "    assert y_pred_labels.shape == (X.shape[0],)\n",
    "    assert y_pred_probs.shape == (X.shape[0], 10)\n",
    "\n",
    "    return y_pred_labels, y_pred_probs\n",
    "\n",
    "\n",
    "# Note: as shown in the training notebook, the predicted labels and probabilities\n",
    "# computed below need not be compatible.\n",
    "y_pred_labels_test, y_pred_probs_test = get_model_outputs(\n",
    "    X_test, onnx_inference_session\n",
    ")"
   ]
  },
  {
   "cell_type": "markdown",
   "id": "d3cc4ba2",
   "metadata": {
    "papermill": {
     "duration": 0.004251,
     "end_time": "2022-12-01T06:46:07.080055",
     "exception": false,
     "start_time": "2022-12-01T06:46:07.075804",
     "status": "completed"
    },
    "tags": []
   },
   "source": [
    "### Confusion matrix"
   ]
  },
  {
   "cell_type": "code",
   "execution_count": 11,
   "id": "2df346eb",
   "metadata": {
    "execution": {
     "iopub.execute_input": "2022-12-01T06:46:07.089968Z",
     "iopub.status.busy": "2022-12-01T06:46:07.089623Z",
     "iopub.status.idle": "2022-12-01T06:46:07.092964Z",
     "shell.execute_reply": "2022-12-01T06:46:07.092263Z"
    },
    "papermill": {
     "duration": 0.010467,
     "end_time": "2022-12-01T06:46:07.095010",
     "exception": false,
     "start_time": "2022-12-01T06:46:07.084543",
     "status": "completed"
    },
    "tags": []
   },
   "outputs": [],
   "source": [
    "# TODO"
   ]
  },
  {
   "cell_type": "markdown",
   "id": "950ddaed",
   "metadata": {
    "papermill": {
     "duration": 0.004259,
     "end_time": "2022-12-01T06:46:07.103574",
     "exception": false,
     "start_time": "2022-12-01T06:46:07.099315",
     "status": "completed"
    },
    "tags": []
   },
   "source": [
    "### Plot predicted probabilities for each classifier over all evaluation digit images"
   ]
  },
  {
   "cell_type": "code",
   "execution_count": 12,
   "id": "7f26ecb0",
   "metadata": {
    "execution": {
     "iopub.execute_input": "2022-12-01T06:46:07.113259Z",
     "iopub.status.busy": "2022-12-01T06:46:07.112750Z",
     "iopub.status.idle": "2022-12-01T06:46:10.145850Z",
     "shell.execute_reply": "2022-12-01T06:46:10.145347Z"
    },
    "papermill": {
     "duration": 3.040066,
     "end_time": "2022-12-01T06:46:10.147839",
     "exception": false,
     "start_time": "2022-12-01T06:46:07.107773",
     "status": "completed"
    },
    "tags": []
   },
   "outputs": [
    {
     "data": {
      "image/png": "[encoded data removed]",
      "text/plain": [
       "<Figure size 1600x600 with 10 Axes>"
      ]
     },
     "metadata": {},
     "output_type": "display_data"
    }
   ],
   "source": [
    "def plot_per_digit_probabilities(y_pred_probs):\n",
    "    fig, axs = plt.subplots(nrows=2, ncols=5, figsize=(16, 6))\n",
    "\n",
    "    for (r, c), digit, ax in zip(\n",
    "        it.product(range(2), range(5)), range(10), axs.reshape(-1)\n",
    "    ):\n",
    "        ax.hist(y_pred_probs_test[:, digit], bins=20)\n",
    "\n",
    "        ax.set_title(f\"Digit {digit}\")\n",
    "        if r == 1 and c == 2:\n",
    "            ax.set_xlabel(\"probability\", fontsize=16)\n",
    "\n",
    "        if c == 0:\n",
    "            ax.set_ylabel(\"counts\", fontsize=16)\n",
    "        ax.set_yscale(\"log\")\n",
    "\n",
    "    fig.tight_layout()\n",
    "    fig.suptitle(\n",
    "        f\"Distributions of prediction probabilities for each digit \"\n",
    "        f\"(on evaluation data, n={y_pred_probs.shape[0]})\",\n",
    "        fontsize=20,\n",
    "    )\n",
    "    fig.tight_layout()\n",
    "    fig.show()\n",
    "\n",
    "    return fig\n",
    "\n",
    "\n",
    "fig = plot_per_digit_probabilities(y_pred_probs_test)"
   ]
  },
  {
   "cell_type": "markdown",
   "id": "7aa1715f",
   "metadata": {
    "papermill": {
     "duration": 0.005283,
     "end_time": "2022-12-01T06:46:10.158258",
     "exception": false,
     "start_time": "2022-12-01T06:46:10.152975",
     "status": "completed"
    },
    "tags": []
   },
   "source": [
    "From the above distributions we see that most digits have clear separation between\n",
    "high and lower probabilities. Morover, in each case there is roughly an order of\n",
    "magnitude more of digits with low probabilities. This is compatible with digits\n",
    "being roughly evenly distributed in the data."
   ]
  },
  {
   "cell_type": "code",
   "execution_count": 13,
   "id": "313b1b4a",
   "metadata": {
    "execution": {
     "iopub.execute_input": "2022-12-01T06:46:10.169551Z",
     "iopub.status.busy": "2022-12-01T06:46:10.169298Z",
     "iopub.status.idle": "2022-12-01T06:46:10.633755Z",
     "shell.execute_reply": "2022-12-01T06:46:10.632693Z"
    },
    "papermill": {
     "duration": 0.472632,
     "end_time": "2022-12-01T06:46:10.636092",
     "exception": false,
     "start_time": "2022-12-01T06:46:10.163460",
     "status": "completed"
    },
    "tags": []
   },
   "outputs": [],
   "source": [
    "logger.log_figure(\"per-digit-probabilities.png\", fig)"
   ]
  },
  {
   "cell_type": "markdown",
   "id": "7eecd79d",
   "metadata": {
    "papermill": {
     "duration": 0.005993,
     "end_time": "2022-12-01T06:46:10.648827",
     "exception": false,
     "start_time": "2022-12-01T06:46:10.642834",
     "status": "completed"
    },
    "tags": []
   },
   "source": [
    "### Plot ROC curves for individual one-vs-rest classifiers"
   ]
  },
  {
   "cell_type": "code",
   "execution_count": 14,
   "id": "6ccee07a",
   "metadata": {
    "execution": {
     "iopub.execute_input": "2022-12-01T06:46:10.663116Z",
     "iopub.status.busy": "2022-12-01T06:46:10.662748Z",
     "iopub.status.idle": "2022-12-01T06:46:11.089214Z",
     "shell.execute_reply": "2022-12-01T06:46:11.088351Z"
    },
    "papermill": {
     "duration": 0.436008,
     "end_time": "2022-12-01T06:46:11.091998",
     "exception": false,
     "start_time": "2022-12-01T06:46:10.655990",
     "status": "completed"
    },
    "tags": []
   },
   "outputs": [],
   "source": [
    "from sklearn import metrics"
   ]
  },
  {
   "cell_type": "code",
   "execution_count": 15,
   "id": "e0003591",
   "metadata": {
    "execution": {
     "iopub.execute_input": "2022-12-01T06:46:11.106029Z",
     "iopub.status.busy": "2022-12-01T06:46:11.104998Z",
     "iopub.status.idle": "2022-12-01T06:46:12.294327Z",
     "shell.execute_reply": "2022-12-01T06:46:12.293652Z"
    },
    "papermill": {
     "duration": 1.197926,
     "end_time": "2022-12-01T06:46:12.296314",
     "exception": false,
     "start_time": "2022-12-01T06:46:11.098388",
     "status": "completed"
    },
    "tags": []
   },
   "outputs": [
    {
     "data": {
      "image/png": "[encoded data removed]",
      "text/plain": [
       "<Figure size 1600x800 with 10 Axes>"
      ]
     },
     "metadata": {},
     "output_type": "display_data"
    }
   ],
   "source": [
    "def plot_roc_curves(y, y_pred_probs):\n",
    "    # based on example code\n",
    "    # https://scikit-learn.org/stable/auto_examples/model_selection/plot_roc.html\n",
    "\n",
    "    fig, axs = plt.subplots(nrows=2, ncols=5, figsize=(16, 8))\n",
    "\n",
    "    roc_auc_dict = {}\n",
    "\n",
    "    for (r, c), digit, ax in zip(\n",
    "        it.product(range(2), range(5)), range(10), axs.reshape(-1)\n",
    "    ):\n",
    "        fpr, tpr, _ = metrics.roc_curve(y == digit, y_pred_probs[:, digit])\n",
    "        auc = metrics.auc(fpr, tpr)\n",
    "        roc_auc_dict[str(digit)] = auc\n",
    "\n",
    "        ax.plot(fpr, tpr, label=f\"ROC AUC={round(auc, 3)}\")\n",
    "\n",
    "        ax.set_title(f\"\\nDigit {digit}\", fontsize=16)\n",
    "        if r == 1:\n",
    "            ax.set_xlabel(\"FPR\", fontsize=18)\n",
    "\n",
    "        if c == 0:\n",
    "            ax.set_ylabel(\"TPR\", fontsize=18)\n",
    "\n",
    "        ax.set_xlim([-0.05, 1.05])\n",
    "        ax.set_ylim([-0.05, 1.05])\n",
    "        ax.legend(loc=\"lower right\", frameon=False, fontsize=14)\n",
    "\n",
    "    fig.tight_layout()\n",
    "    fig.suptitle(\n",
    "        f\"ROC plots for one-vs-rest performances \"\n",
    "        f\"(on evaluation data, n={y_pred_probs_test.shape[1]}\",\n",
    "        fontsize=22,\n",
    "    )\n",
    "    fig.tight_layout()\n",
    "    fig.show()\n",
    "\n",
    "    return roc_auc_dict, fig\n",
    "\n",
    "\n",
    "roc_auc_dict, fig = plot_roc_curves(y_test, y_pred_probs_test)"
   ]
  },
  {
   "cell_type": "code",
   "execution_count": 16,
   "id": "3bfb0154",
   "metadata": {
    "execution": {
     "iopub.execute_input": "2022-12-01T06:46:12.311286Z",
     "iopub.status.busy": "2022-12-01T06:46:12.311007Z",
     "iopub.status.idle": "2022-12-01T06:46:12.574492Z",
     "shell.execute_reply": "2022-12-01T06:46:12.573788Z"
    },
    "papermill": {
     "duration": 0.272959,
     "end_time": "2022-12-01T06:46:12.576221",
     "exception": false,
     "start_time": "2022-12-01T06:46:12.303262",
     "status": "completed"
    },
    "tags": []
   },
   "outputs": [],
   "source": [
    "logger.log_figure(\"per-digit-roc-curves.png\", fig)"
   ]
  },
  {
   "cell_type": "code",
   "execution_count": 17,
   "id": "bcbd5caa",
   "metadata": {
    "execution": {
     "iopub.execute_input": "2022-12-01T06:46:12.591459Z",
     "iopub.status.busy": "2022-12-01T06:46:12.591045Z",
     "iopub.status.idle": "2022-12-01T06:46:12.598895Z",
     "shell.execute_reply": "2022-12-01T06:46:12.598259Z"
    },
    "papermill": {
     "duration": 0.017917,
     "end_time": "2022-12-01T06:46:12.602115",
     "exception": false,
     "start_time": "2022-12-01T06:46:12.584198",
     "status": "completed"
    },
    "tags": []
   },
   "outputs": [
    {
     "data": {
      "text/plain": [
       "{'0': 1.0,\n",
       " '1': 0.9987628865979382,\n",
       " '2': 1.0,\n",
       " '3': 0.9997750702905343,\n",
       " '4': 0.9995427526291724,\n",
       " '5': 0.9992127460168697,\n",
       " '6': 0.999961896052431,\n",
       " '7': 0.9998856881572931,\n",
       " '8': 0.9934583858764187,\n",
       " '9': 0.9993522328913276}"
      ]
     },
     "execution_count": 17,
     "metadata": {},
     "output_type": "execute_result"
    }
   ],
   "source": [
    "roc_auc_dict"
   ]
  },
  {
   "cell_type": "code",
   "execution_count": 18,
   "id": "3afce2cf",
   "metadata": {
    "execution": {
     "iopub.execute_input": "2022-12-01T06:46:12.616725Z",
     "iopub.status.busy": "2022-12-01T06:46:12.616278Z",
     "iopub.status.idle": "2022-12-01T06:46:12.620653Z",
     "shell.execute_reply": "2022-12-01T06:46:12.619921Z"
    },
    "papermill": {
     "duration": 0.014936,
     "end_time": "2022-12-01T06:46:12.623602",
     "exception": false,
     "start_time": "2022-12-01T06:46:12.608666",
     "status": "completed"
    },
    "tags": []
   },
   "outputs": [
    {
     "name": "stdout",
     "output_type": "stream",
     "text": [
      " - Logging roc_auc_per_digit (json) : {'0': 1.0, '1': 0.9987628865979382, '2': 1.0, '3': 0.9997750702905343, '4': 0.9995427526291724, '5': 0.9992127460168697, '6': 0.999961896052431, '7': 0.9998856881572931, '8': 0.9934583858764187, '9': 0.9993522328913276}\n"
     ]
    }
   ],
   "source": [
    "logger.log_value(\"roc_auc_per_digit\", roc_auc_dict)"
   ]
  },
  {
   "cell_type": "markdown",
   "id": "e27bb0d5",
   "metadata": {
    "papermill": {
     "duration": 0.006557,
     "end_time": "2022-12-01T06:46:12.636838",
     "exception": false,
     "start_time": "2022-12-01T06:46:12.630281",
     "status": "completed"
    },
    "tags": []
   },
   "source": [
    "### Compute and log mean ROC AUC score averaged over all digits"
   ]
  },
  {
   "cell_type": "code",
   "execution_count": 19,
   "id": "19ce8392",
   "metadata": {
    "execution": {
     "iopub.execute_input": "2022-12-01T06:46:12.651643Z",
     "iopub.status.busy": "2022-12-01T06:46:12.651073Z",
     "iopub.status.idle": "2022-12-01T06:46:12.664256Z",
     "shell.execute_reply": "2022-12-01T06:46:12.663452Z"
    },
    "papermill": {
     "duration": 0.029072,
     "end_time": "2022-12-01T06:46:12.672976",
     "exception": false,
     "start_time": "2022-12-01T06:46:12.643904",
     "status": "completed"
    },
    "tags": []
   },
   "outputs": [
    {
     "name": "stdout",
     "output_type": "stream",
     "text": [
      " - Logging roc_auc_class_mean (float) : 0.9989951658511986\n"
     ]
    }
   ],
   "source": [
    "roc_auc_macro = np.mean(list(roc_auc_dict.values()))\n",
    "\n",
    "logger.log_float(\"roc_auc_class_mean\", roc_auc_macro)\n",
    "\n",
    "# assert that the same value can be computed directly using sklearn\n",
    "assert roc_auc_macro == metrics.roc_auc_score(\n",
    "    y_test, y_pred_probs_test, average=\"macro\", multi_class=\"ovr\"\n",
    ")"
   ]
  },
  {
   "cell_type": "code",
   "execution_count": 20,
   "id": "5c791a11",
   "metadata": {
    "execution": {
     "iopub.execute_input": "2022-12-01T06:46:12.687229Z",
     "iopub.status.busy": "2022-12-01T06:46:12.686894Z",
     "iopub.status.idle": "2022-12-01T06:46:12.690045Z",
     "shell.execute_reply": "2022-12-01T06:46:12.689324Z"
    },
    "lines_to_next_cell": 0,
    "papermill": {
     "duration": 0.01258,
     "end_time": "2022-12-01T06:46:12.692088",
     "exception": false,
     "start_time": "2022-12-01T06:46:12.679508",
     "status": "completed"
    },
    "tags": []
   },
   "outputs": [],
   "source": [
    "# ---"
   ]
  },
  {
   "cell_type": "code",
   "execution_count": null,
   "id": "391fd25c",
   "metadata": {
    "papermill": {
     "duration": 0.006673,
     "end_time": "2022-12-01T06:46:12.705361",
     "exception": false,
     "start_time": "2022-12-01T06:46:12.698688",
     "status": "completed"
    },
    "tags": []
   },
   "outputs": [],
   "source": []
  }
 ],
 "metadata": {
  "jupytext": {
   "cell_metadata_filter": "tags,-all",
   "main_language": "python",
   "notebook_metadata_filter": "-all"
  },
  "language_info": {
   "codemirror_mode": {
    "name": "ipython",
    "version": 3
   },
   "file_extension": ".py",
   "mimetype": "text/x-python",
   "name": "python",
   "nbconvert_exporter": "python",
   "pygments_lexer": "ipython3",
   "version": "3.8.10"
  },
  "papermill": {
   "default_parameters": {},
   "duration": 9.694791,
   "end_time": "2022-12-01T06:46:13.834513",
   "environment_variables": {},
   "exception": null,
   "input_path": "/home/host_user/workspace/mnist-demo-pipeline/mnist-demo-pipeline/notebooks/temp-notebook-o2vdtb5a.ipynb",
   "output_path": "notebooks/benchmark-model.ipynb",
   "parameters": {
    "P": {
     "_opentelemetry_traceparent": "00-aa2c1325229534922579ed4d6b486d6e-c2db01455678abeb-01",
     "pipeline.data_lake_root": "/pipeline-outputs/data-lake",
     "pipeline.github.actor": "matiasdahl",
     "pipeline.github.base_ref": "",
     "pipeline.github.event_name": "schedule",
     "pipeline.github.head_ref": "",
     "pipeline.github.job": "run-tests-pipeline-and-persist-pipeline-outputs",
     "pipeline.github.ref": "refs/heads/development",
     "pipeline.github.ref_name": "development",
     "pipeline.github.ref_type": "branch",
     "pipeline.github.repository": "matiasdahl/dev-mnist-digits-demo-pipeline",
     "pipeline.github.run_id": "3590161709",
     "pipeline.github.runner_name": "Hosted Agent",
     "pipeline.github.sha": "ace0d01011d5e914f1921450dd5a59c11367b38d",
     "pipeline.github.workflow": "Run automated tests, pipeline and deploy results to static reporting site",
     "pipeline.pipeline_run_id": "734ca702-880d-4b65-aa72-c5a90cc9b591",
     "pipeline.run_environment": "ci",
     "run.retry_nr": "0",
     "task.max_nr_retries": "1",
     "task.notebook": "notebooks/benchmark-model.py",
     "task.nr_train_images": 800,
     "task.num_cpus": 1,
     "task.timeout_s": "None"
    }
   },
   "start_time": "2022-12-01T06:46:04.139722",
   "version": "2.3.3"
  }
 },
 "nbformat": 4,
 "nbformat_minor": 5
}