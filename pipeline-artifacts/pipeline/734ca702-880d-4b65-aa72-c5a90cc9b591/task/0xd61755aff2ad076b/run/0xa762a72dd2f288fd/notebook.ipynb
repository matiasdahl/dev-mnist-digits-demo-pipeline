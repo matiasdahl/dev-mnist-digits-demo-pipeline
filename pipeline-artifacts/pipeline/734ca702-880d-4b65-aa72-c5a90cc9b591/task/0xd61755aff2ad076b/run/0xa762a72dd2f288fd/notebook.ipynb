{
 "cells": [
  {
   "cell_type": "markdown",
   "id": "6add4fd6",
   "metadata": {
    "papermill": {
     "duration": 0.003901,
     "end_time": "2022-12-01T06:46:20.850306",
     "exception": false,
     "start_time": "2022-12-01T06:46:20.846405",
     "status": "completed"
    },
    "tags": []
   },
   "source": [
    "# Summarize model performances\n",
    "\n",
    "This notebooks plots the performances (using averaged ROC AUC scores) for models\n",
    "trained with different training sets."
   ]
  },
  {
   "cell_type": "markdown",
   "id": "0863e608",
   "metadata": {
    "papermill": {
     "duration": 0.002506,
     "end_time": "2022-12-01T06:46:20.856342",
     "exception": false,
     "start_time": "2022-12-01T06:46:20.853836",
     "status": "completed"
    },
    "tags": []
   },
   "source": [
    "### Determine run parameters"
   ]
  },
  {
   "cell_type": "code",
   "execution_count": 1,
   "id": "806de5ce",
   "metadata": {
    "execution": {
     "iopub.execute_input": "2022-12-01T06:46:20.862849Z",
     "iopub.status.busy": "2022-12-01T06:46:20.862042Z",
     "iopub.status.idle": "2022-12-01T06:46:20.869601Z",
     "shell.execute_reply": "2022-12-01T06:46:20.868784Z"
    },
    "lines_to_next_cell": 0,
    "papermill": {
     "duration": 0.012649,
     "end_time": "2022-12-01T06:46:20.871163",
     "exception": false,
     "start_time": "2022-12-01T06:46:20.858514",
     "status": "completed"
    },
    "tags": []
   },
   "outputs": [],
   "source": [
    "# ----------------- Parameters for interactive development --------------\n",
    "P = {\n",
    "    \"pipeline.run_environment\": \"dev\",\n",
    "}"
   ]
  },
  {
   "cell_type": "code",
   "execution_count": 2,
   "id": "27dd69a7",
   "metadata": {
    "execution": {
     "iopub.execute_input": "2022-12-01T06:46:20.877686Z",
     "iopub.status.busy": "2022-12-01T06:46:20.877224Z",
     "iopub.status.idle": "2022-12-01T06:46:20.880069Z",
     "shell.execute_reply": "2022-12-01T06:46:20.879580Z"
    },
    "lines_to_next_cell": 0,
    "papermill": {
     "duration": 0.007441,
     "end_time": "2022-12-01T06:46:20.881270",
     "exception": false,
     "start_time": "2022-12-01T06:46:20.873829",
     "status": "completed"
    },
    "tags": [
     "parameters"
    ]
   },
   "outputs": [],
   "source": [
    "# - During automated runs parameters will be injected in the below cell -"
   ]
  },
  {
   "cell_type": "code",
   "execution_count": 3,
   "id": "6bc4a450",
   "metadata": {
    "execution": {
     "iopub.execute_input": "2022-12-01T06:46:20.887645Z",
     "iopub.status.busy": "2022-12-01T06:46:20.887333Z",
     "iopub.status.idle": "2022-12-01T06:46:20.891062Z",
     "shell.execute_reply": "2022-12-01T06:46:20.890575Z"
    },
    "papermill": {
     "duration": 0.00878,
     "end_time": "2022-12-01T06:46:20.892549",
     "exception": false,
     "start_time": "2022-12-01T06:46:20.883769",
     "status": "completed"
    },
    "tags": [
     "injected-parameters"
    ]
   },
   "outputs": [],
   "source": [
    "# Parameters\n",
    "P = {\n",
    "    \"pipeline.data_lake_root\": \"/pipeline-outputs/data-lake\",\n",
    "    \"pipeline.run_environment\": \"ci\",\n",
    "    \"pipeline.pipeline_run_id\": \"734ca702-880d-4b65-aa72-c5a90cc9b591\",\n",
    "    \"pipeline.github.repository\": \"matiasdahl/dev-mnist-digits-demo-pipeline\",\n",
    "    \"pipeline.github.workflow\": \"Run automated tests, pipeline and deploy results to static reporting site\",\n",
    "    \"pipeline.github.runner_name\": \"Hosted Agent\",\n",
    "    \"pipeline.github.run_id\": \"3590161709\",\n",
    "    \"pipeline.github.actor\": \"matiasdahl\",\n",
    "    \"pipeline.github.job\": \"run-tests-pipeline-and-persist-pipeline-outputs\",\n",
    "    \"pipeline.github.base_ref\": \"\",\n",
    "    \"pipeline.github.head_ref\": \"\",\n",
    "    \"pipeline.github.sha\": \"ace0d01011d5e914f1921450dd5a59c11367b38d\",\n",
    "    \"pipeline.github.ref\": \"refs/heads/development\",\n",
    "    \"pipeline.github.ref_type\": \"branch\",\n",
    "    \"pipeline.github.ref_name\": \"development\",\n",
    "    \"pipeline.github.event_name\": \"schedule\",\n",
    "    \"task.notebook\": \"notebooks/summary.py\",\n",
    "    \"task.max_nr_retries\": \"1\",\n",
    "    \"run.retry_nr\": \"0\",\n",
    "    \"task.timeout_s\": \"None\",\n",
    "    \"task.num_cpus\": 1,\n",
    "    \"_opentelemetry_traceparent\": \"00-aa2c1325229534922579ed4d6b486d6e-2a2a651a50089ef8-01\",\n",
    "}\n"
   ]
  },
  {
   "cell_type": "code",
   "execution_count": 4,
   "id": "0cb97675",
   "metadata": {
    "execution": {
     "iopub.execute_input": "2022-12-01T06:46:20.898429Z",
     "iopub.status.busy": "2022-12-01T06:46:20.897891Z",
     "iopub.status.idle": "2022-12-01T06:46:20.900886Z",
     "shell.execute_reply": "2022-12-01T06:46:20.900164Z"
    },
    "lines_to_next_cell": 0,
    "papermill": {
     "duration": 0.007641,
     "end_time": "2022-12-01T06:46:20.902430",
     "exception": false,
     "start_time": "2022-12-01T06:46:20.894789",
     "status": "completed"
    },
    "tags": []
   },
   "outputs": [],
   "source": [
    "# -----------------------------------------------------------------------"
   ]
  },
  {
   "cell_type": "markdown",
   "id": "1acf855a",
   "metadata": {
    "papermill": {
     "duration": 0.002702,
     "end_time": "2022-12-01T06:46:20.907655",
     "exception": false,
     "start_time": "2022-12-01T06:46:20.904953",
     "status": "completed"
    },
    "tags": []
   },
   "source": [
    "---"
   ]
  },
  {
   "cell_type": "markdown",
   "id": "ef580f5e",
   "metadata": {
    "lines_to_next_cell": 2,
    "papermill": {
     "duration": 0.002194,
     "end_time": "2022-12-01T06:46:20.912337",
     "exception": false,
     "start_time": "2022-12-01T06:46:20.910143",
     "status": "completed"
    },
    "tags": []
   },
   "source": [
    "### Notebook code"
   ]
  },
  {
   "cell_type": "code",
   "execution_count": 5,
   "id": "0cfe0258",
   "metadata": {
    "execution": {
     "iopub.execute_input": "2022-12-01T06:46:20.918855Z",
     "iopub.status.busy": "2022-12-01T06:46:20.918471Z",
     "iopub.status.idle": "2022-12-01T06:46:21.973200Z",
     "shell.execute_reply": "2022-12-01T06:46:21.972536Z"
    },
    "papermill": {
     "duration": 1.060376,
     "end_time": "2022-12-01T06:46:21.975125",
     "exception": false,
     "start_time": "2022-12-01T06:46:20.914749",
     "status": "completed"
    },
    "tags": []
   },
   "outputs": [],
   "source": [
    "#\n",
    "import pandas as pd\n",
    "import matplotlib.pyplot as plt\n",
    "\n",
    "#\n",
    "from pynb_dag_runner.tasks.task_opentelemetry_logging import PydarLogger"
   ]
  },
  {
   "cell_type": "code",
   "execution_count": 6,
   "id": "3acfc441",
   "metadata": {
    "execution": {
     "iopub.execute_input": "2022-12-01T06:46:21.982458Z",
     "iopub.status.busy": "2022-12-01T06:46:21.981697Z",
     "iopub.status.idle": "2022-12-01T06:46:22.136583Z",
     "shell.execute_reply": "2022-12-01T06:46:22.135544Z"
    },
    "papermill": {
     "duration": 0.160696,
     "end_time": "2022-12-01T06:46:22.138661",
     "exception": false,
     "start_time": "2022-12-01T06:46:21.977965",
     "status": "completed"
    },
    "tags": []
   },
   "outputs": [
    {
     "name": "stderr",
     "output_type": "stream",
     "text": [
      "2022-12-01 06:46:21,986\tINFO worker.py:842 -- Connecting to existing Ray cluster at address: 172.17.0.2:6379\n"
     ]
    }
   ],
   "source": [
    "logger = PydarLogger(P=P)"
   ]
  },
  {
   "cell_type": "code",
   "execution_count": 7,
   "id": "fea5fa96",
   "metadata": {
    "execution": {
     "iopub.execute_input": "2022-12-01T06:46:22.145882Z",
     "iopub.status.busy": "2022-12-01T06:46:22.145607Z",
     "iopub.status.idle": "2022-12-01T06:46:22.149267Z",
     "shell.execute_reply": "2022-12-01T06:46:22.148523Z"
    },
    "papermill": {
     "duration": 0.009386,
     "end_time": "2022-12-01T06:46:22.151064",
     "exception": false,
     "start_time": "2022-12-01T06:46:22.141678",
     "status": "completed"
    },
    "tags": []
   },
   "outputs": [],
   "source": [
    "from pynb_dag_runner.tasks.task_opentelemetry_logging import (\n",
    "    PydarLogger,\n",
    "    get_logged_values,\n",
    ")\n",
    "from pynb_dag_runner.opentelemetry_helpers import _get_all_spans, Spans"
   ]
  },
  {
   "cell_type": "code",
   "execution_count": 8,
   "id": "7c9ea7a1",
   "metadata": {
    "execution": {
     "iopub.execute_input": "2022-12-01T06:46:22.157918Z",
     "iopub.status.busy": "2022-12-01T06:46:22.157602Z",
     "iopub.status.idle": "2022-12-01T06:46:22.163841Z",
     "shell.execute_reply": "2022-12-01T06:46:22.163065Z"
    },
    "papermill": {
     "duration": 0.011666,
     "end_time": "2022-12-01T06:46:22.165160",
     "exception": false,
     "start_time": "2022-12-01T06:46:22.153494",
     "status": "completed"
    },
    "tags": []
   },
   "outputs": [],
   "source": [
    "def get_model_benchmarks():\n",
    "    \"\"\"\n",
    "    Query the OpenTelemetry logs for *this pipeline run* and return\n",
    "    all key-values logged from all runs of the benchmark-model.py task\n",
    "\n",
    "    For testing a json file with OpenTelemetry spans (as an array)\n",
    "    can be used as follows:\n",
    "\n",
    "    - Create output directory `mkdir /tmp/spans`\n",
    "    - Run unit tests. This will create pipeline-outputs/opentelemetry-spans.json\n",
    "    - Convert this json-array into jsonl format as follows\n",
    "\n",
    "    jq -c '.[]' /pipeline-outputs/opentelemetry-spans.json > /tmp/spans/data.txt\n",
    "\n",
    "    \"\"\"\n",
    "    spans: Spans = Spans(_get_all_spans())\n",
    "    print(f\"Found {len(spans)} spans\")\n",
    "\n",
    "    benchmark_spans = (\n",
    "        spans\n",
    "        # -\n",
    "        .filter([\"name\"], \"execute-task\")\n",
    "        # -\n",
    "        .filter([\"attributes\", \"task.notebook\"], \"notebooks/benchmark-model.py\")\n",
    "    )\n",
    "\n",
    "    result = []\n",
    "    for s in benchmark_spans:\n",
    "        result.append(\n",
    "            {\n",
    "                \"span_id\": s[\"context\"][\"span_id\"],\n",
    "                \"nr_train_images\": s[\"attributes\"][\"task.nr_train_images\"],\n",
    "                \"data\": get_logged_values(spans.bound_under(s)),\n",
    "            }\n",
    "        )\n",
    "\n",
    "    return result\n",
    "\n",
    "\n",
    "def adjust_pandas(df):\n",
    "    def column_renamer(col_name: str) -> str:\n",
    "        return (\n",
    "            col_name\n",
    "            # -- 'data.roc_auc_per_digit.4' -> 'roc_auc.4'\n",
    "            .replace(\"data.roc_auc_per_digit\", \"roc_auc\")\n",
    "            # -- 'data.roc_auc_class_mean' -> 'roc_auc_mean'\n",
    "            .replace(\"data.roc_auc_class_mean\", \"roc_auc_mean\")\n",
    "        )\n",
    "\n",
    "    return df.rename(column_renamer, axis=\"columns\").sort_values(by=\"nr_train_images\")"
   ]
  },
  {
   "cell_type": "code",
   "execution_count": 9,
   "id": "56946dca",
   "metadata": {
    "execution": {
     "iopub.execute_input": "2022-12-01T06:46:22.174209Z",
     "iopub.status.busy": "2022-12-01T06:46:22.174016Z",
     "iopub.status.idle": "2022-12-01T06:46:22.214703Z",
     "shell.execute_reply": "2022-12-01T06:46:22.214060Z"
    },
    "papermill": {
     "duration": 0.048568,
     "end_time": "2022-12-01T06:46:22.217245",
     "exception": false,
     "start_time": "2022-12-01T06:46:22.168677",
     "status": "completed"
    },
    "tags": []
   },
   "outputs": [
    {
     "name": "stdout",
     "output_type": "stream",
     "text": [
      "Found 423 spans\n"
     ]
    }
   ],
   "source": [
    "df_data = adjust_pandas(pd.json_normalize(get_model_benchmarks()))"
   ]
  },
  {
   "cell_type": "code",
   "execution_count": 10,
   "id": "cc15dcff",
   "metadata": {
    "execution": {
     "iopub.execute_input": "2022-12-01T06:46:22.223943Z",
     "iopub.status.busy": "2022-12-01T06:46:22.223716Z",
     "iopub.status.idle": "2022-12-01T06:46:22.250165Z",
     "shell.execute_reply": "2022-12-01T06:46:22.249424Z"
    },
    "papermill": {
     "duration": 0.032221,
     "end_time": "2022-12-01T06:46:22.252438",
     "exception": false,
     "start_time": "2022-12-01T06:46:22.220217",
     "status": "completed"
    },
    "tags": []
   },
   "outputs": [
    {
     "data": {
      "text/html": [
       "<div>\n",
       "<style scoped>\n",
       "    .dataframe tbody tr th:only-of-type {\n",
       "        vertical-align: middle;\n",
       "    }\n",
       "\n",
       "    .dataframe tbody tr th {\n",
       "        vertical-align: top;\n",
       "    }\n",
       "\n",
       "    .dataframe thead th {\n",
       "        text-align: right;\n",
       "    }\n",
       "</style>\n",
       "<table border=\"1\" class=\"dataframe\">\n",
       "  <thead>\n",
       "    <tr style=\"text-align: right;\">\n",
       "      <th></th>\n",
       "      <th>span_id</th>\n",
       "      <th>nr_train_images</th>\n",
       "      <th>roc_auc_mean</th>\n",
       "      <th>roc_auc.0</th>\n",
       "      <th>roc_auc.1</th>\n",
       "      <th>roc_auc.2</th>\n",
       "      <th>roc_auc.3</th>\n",
       "      <th>roc_auc.4</th>\n",
       "      <th>roc_auc.5</th>\n",
       "      <th>roc_auc.6</th>\n",
       "      <th>roc_auc.7</th>\n",
       "      <th>roc_auc.8</th>\n",
       "      <th>roc_auc.9</th>\n",
       "    </tr>\n",
       "  </thead>\n",
       "  <tbody>\n",
       "    <tr>\n",
       "      <th>2</th>\n",
       "      <td>0xcac241ad1c29c4b2</td>\n",
       "      <td>600</td>\n",
       "      <td>0.9990</td>\n",
       "      <td>1.0</td>\n",
       "      <td>0.9993</td>\n",
       "      <td>1.0</td>\n",
       "      <td>0.9997</td>\n",
       "      <td>0.9992</td>\n",
       "      <td>0.9988</td>\n",
       "      <td>0.9999</td>\n",
       "      <td>0.9998</td>\n",
       "      <td>0.9945</td>\n",
       "      <td>0.9988</td>\n",
       "    </tr>\n",
       "    <tr>\n",
       "      <th>1</th>\n",
       "      <td>0xcf5a07040abf875b</td>\n",
       "      <td>800</td>\n",
       "      <td>0.9990</td>\n",
       "      <td>1.0</td>\n",
       "      <td>0.9988</td>\n",
       "      <td>1.0</td>\n",
       "      <td>0.9998</td>\n",
       "      <td>0.9995</td>\n",
       "      <td>0.9992</td>\n",
       "      <td>1.0000</td>\n",
       "      <td>0.9999</td>\n",
       "      <td>0.9935</td>\n",
       "      <td>0.9994</td>\n",
       "    </tr>\n",
       "    <tr>\n",
       "      <th>0</th>\n",
       "      <td>0xa90d82238f7df3ba</td>\n",
       "      <td>1000</td>\n",
       "      <td>0.9992</td>\n",
       "      <td>1.0</td>\n",
       "      <td>0.9990</td>\n",
       "      <td>1.0</td>\n",
       "      <td>0.9999</td>\n",
       "      <td>0.9997</td>\n",
       "      <td>0.9994</td>\n",
       "      <td>0.9999</td>\n",
       "      <td>0.9998</td>\n",
       "      <td>0.9951</td>\n",
       "      <td>0.9997</td>\n",
       "    </tr>\n",
       "    <tr>\n",
       "      <th>3</th>\n",
       "      <td>0xf15047f73b07b882</td>\n",
       "      <td>1200</td>\n",
       "      <td>0.9994</td>\n",
       "      <td>1.0</td>\n",
       "      <td>0.9991</td>\n",
       "      <td>1.0</td>\n",
       "      <td>0.9999</td>\n",
       "      <td>0.9998</td>\n",
       "      <td>0.9997</td>\n",
       "      <td>0.9999</td>\n",
       "      <td>0.9998</td>\n",
       "      <td>0.9957</td>\n",
       "      <td>0.9998</td>\n",
       "    </tr>\n",
       "  </tbody>\n",
       "</table>\n",
       "</div>"
      ],
      "text/plain": [
       "              span_id  nr_train_images  roc_auc_mean  roc_auc.0  roc_auc.1  \\\n",
       "2  0xcac241ad1c29c4b2              600        0.9990        1.0     0.9993   \n",
       "1  0xcf5a07040abf875b              800        0.9990        1.0     0.9988   \n",
       "0  0xa90d82238f7df3ba             1000        0.9992        1.0     0.9990   \n",
       "3  0xf15047f73b07b882             1200        0.9994        1.0     0.9991   \n",
       "\n",
       "   roc_auc.2  roc_auc.3  roc_auc.4  roc_auc.5  roc_auc.6  roc_auc.7  \\\n",
       "2        1.0     0.9997     0.9992     0.9988     0.9999     0.9998   \n",
       "1        1.0     0.9998     0.9995     0.9992     1.0000     0.9999   \n",
       "0        1.0     0.9999     0.9997     0.9994     0.9999     0.9998   \n",
       "3        1.0     0.9999     0.9998     0.9997     0.9999     0.9998   \n",
       "\n",
       "   roc_auc.8  roc_auc.9  \n",
       "2     0.9945     0.9988  \n",
       "1     0.9935     0.9994  \n",
       "0     0.9951     0.9997  \n",
       "3     0.9957     0.9998  "
      ]
     },
     "execution_count": 10,
     "metadata": {},
     "output_type": "execute_result"
    }
   ],
   "source": [
    "df_data.round(4)"
   ]
  },
  {
   "cell_type": "code",
   "execution_count": 11,
   "id": "a2877db0",
   "metadata": {
    "execution": {
     "iopub.execute_input": "2022-12-01T06:46:22.259977Z",
     "iopub.status.busy": "2022-12-01T06:46:22.259495Z",
     "iopub.status.idle": "2022-12-01T06:46:22.426439Z",
     "shell.execute_reply": "2022-12-01T06:46:22.425673Z"
    },
    "papermill": {
     "duration": 0.172794,
     "end_time": "2022-12-01T06:46:22.428049",
     "exception": false,
     "start_time": "2022-12-01T06:46:22.255255",
     "status": "completed"
    },
    "tags": []
   },
   "outputs": [
    {
     "data": {
      "image/png": "[encoded data removed]",
      "text/plain": [
       "<Figure size 1600x400 with 1 Axes>"
      ]
     },
     "metadata": {},
     "output_type": "display_data"
    }
   ],
   "source": [
    "def plot_classifier_performance_summary(df_data):\n",
    "    fig, ax = plt.subplots(nrows=1, ncols=1, figsize=(16, 4), sharex=True)\n",
    "\n",
    "    #\n",
    "    ax.plot(\n",
    "        df_data[\"nr_train_images\"], df_data[\"roc_auc_mean\"], marker=\"o\", linestyle=\"--\"\n",
    "    )\n",
    "    ax.set_title(\n",
    "        f\"ROC AUC digit classifier performance on evaluation digits\", fontsize=17\n",
    "    )\n",
    "    ax.set_xlabel(\"Total number of digits in training set\", fontsize=14)\n",
    "    ax.set_ylabel(\"Mean ROC AUC\", fontsize=14)\n",
    "\n",
    "    fig.tight_layout()\n",
    "    fig.show()\n",
    "\n",
    "    return fig\n",
    "\n",
    "\n",
    "fig = plot_classifier_performance_summary(df_data)"
   ]
  },
  {
   "cell_type": "code",
   "execution_count": 12,
   "id": "be273adf",
   "metadata": {
    "execution": {
     "iopub.execute_input": "2022-12-01T06:46:22.438060Z",
     "iopub.status.busy": "2022-12-01T06:46:22.437436Z",
     "iopub.status.idle": "2022-12-01T06:46:22.514175Z",
     "shell.execute_reply": "2022-12-01T06:46:22.513062Z"
    },
    "papermill": {
     "duration": 0.083356,
     "end_time": "2022-12-01T06:46:22.515765",
     "exception": false,
     "start_time": "2022-12-01T06:46:22.432409",
     "status": "completed"
    },
    "tags": []
   },
   "outputs": [],
   "source": [
    "logger.log_figure(\"auc-roc-model-performances.png\", fig)"
   ]
  },
  {
   "cell_type": "code",
   "execution_count": 13,
   "id": "5c20199e",
   "metadata": {
    "execution": {
     "iopub.execute_input": "2022-12-01T06:46:22.525120Z",
     "iopub.status.busy": "2022-12-01T06:46:22.524627Z",
     "iopub.status.idle": "2022-12-01T06:46:22.527834Z",
     "shell.execute_reply": "2022-12-01T06:46:22.527188Z"
    },
    "papermill": {
     "duration": 0.010139,
     "end_time": "2022-12-01T06:46:22.530246",
     "exception": false,
     "start_time": "2022-12-01T06:46:22.520107",
     "status": "completed"
    },
    "tags": []
   },
   "outputs": [],
   "source": [
    "###"
   ]
  },
  {
   "cell_type": "code",
   "execution_count": null,
   "id": "21f3e3c7",
   "metadata": {
    "papermill": {
     "duration": 0.003678,
     "end_time": "2022-12-01T06:46:22.537914",
     "exception": false,
     "start_time": "2022-12-01T06:46:22.534236",
     "status": "completed"
    },
    "tags": []
   },
   "outputs": [],
   "source": []
  }
 ],
 "metadata": {
  "jupytext": {
   "cell_metadata_filter": "tags,-all",
   "main_language": "python",
   "notebook_metadata_filter": "-all"
  },
  "language_info": {
   "codemirror_mode": {
    "name": "ipython",
    "version": 3
   },
   "file_extension": ".py",
   "mimetype": "text/x-python",
   "name": "python",
   "nbconvert_exporter": "python",
   "pygments_lexer": "ipython3",
   "version": "3.8.10"
  },
  "papermill": {
   "default_parameters": {},
   "duration": 4.063955,
   "end_time": "2022-12-01T06:46:23.562512",
   "environment_variables": {},
   "exception": null,
   "input_path": "/home/host_user/workspace/mnist-demo-pipeline/mnist-demo-pipeline/notebooks/temp-notebook-opk5gths.ipynb",
   "output_path": "notebooks/summary.ipynb",
   "parameters": {
    "P": {
     "_opentelemetry_traceparent": "00-aa2c1325229534922579ed4d6b486d6e-2a2a651a50089ef8-01",
     "pipeline.data_lake_root": "/pipeline-outputs/data-lake",
     "pipeline.github.actor": "matiasdahl",
     "pipeline.github.base_ref": "",
     "pipeline.github.event_name": "schedule",
     "pipeline.github.head_ref": "",
     "pipeline.github.job": "run-tests-pipeline-and-persist-pipeline-outputs",
     "pipeline.github.ref": "refs/heads/development",
     "pipeline.github.ref_name": "development",
     "pipeline.github.ref_type": "branch",
     "pipeline.github.repository": "matiasdahl/dev-mnist-digits-demo-pipeline",
     "pipeline.github.run_id": "3590161709",
     "pipeline.github.runner_name": "Hosted Agent",
     "pipeline.github.sha": "ace0d01011d5e914f1921450dd5a59c11367b38d",
     "pipeline.github.workflow": "Run automated tests, pipeline and deploy results to static reporting site",
     "pipeline.pipeline_run_id": "734ca702-880d-4b65-aa72-c5a90cc9b591",
     "pipeline.run_environment": "ci",
     "run.retry_nr": "0",
     "task.max_nr_retries": "1",
     "task.notebook": "notebooks/summary.py",
     "task.num_cpus": 1,
     "task.timeout_s": "None"
    }
   },
   "start_time": "2022-12-01T06:46:19.498557",
   "version": "2.3.3"
  }
 },
 "nbformat": 4,
 "nbformat_minor": 5
}