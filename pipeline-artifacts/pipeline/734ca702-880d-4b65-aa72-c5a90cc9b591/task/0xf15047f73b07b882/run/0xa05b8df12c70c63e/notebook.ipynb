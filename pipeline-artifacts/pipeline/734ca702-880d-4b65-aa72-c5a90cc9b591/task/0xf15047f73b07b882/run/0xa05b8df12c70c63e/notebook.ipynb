{
 "cells": [
  {
   "cell_type": "markdown",
   "id": "7e32f515",
   "metadata": {
    "papermill": {
     "duration": 0.006399,
     "end_time": "2022-12-01T06:46:10.473425",
     "exception": false,
     "start_time": "2022-12-01T06:46:10.467026",
     "status": "completed"
    },
    "tags": []
   },
   "source": [
    "# Benchmark model\n",
    "\n",
    "The purpose of this notebook is to benchmark persisted onnx-model (trained in the\n",
    "previous step) against evaluation set."
   ]
  },
  {
   "cell_type": "markdown",
   "id": "9d32feb6",
   "metadata": {
    "papermill": {
     "duration": 0.004178,
     "end_time": "2022-12-01T06:46:10.481598",
     "exception": false,
     "start_time": "2022-12-01T06:46:10.477420",
     "status": "completed"
    },
    "tags": []
   },
   "source": [
    "### Determine run parameters"
   ]
  },
  {
   "cell_type": "code",
   "execution_count": 1,
   "id": "ed176f2c",
   "metadata": {
    "execution": {
     "iopub.execute_input": "2022-12-01T06:46:10.491633Z",
     "iopub.status.busy": "2022-12-01T06:46:10.490805Z",
     "iopub.status.idle": "2022-12-01T06:46:10.500158Z",
     "shell.execute_reply": "2022-12-01T06:46:10.499649Z"
    },
    "lines_to_next_cell": 0,
    "papermill": {
     "duration": 0.015984,
     "end_time": "2022-12-01T06:46:10.501618",
     "exception": false,
     "start_time": "2022-12-01T06:46:10.485634",
     "status": "completed"
    },
    "tags": []
   },
   "outputs": [],
   "source": [
    "# ----------------- Parameters for interactive development --------------\n",
    "P = {\n",
    "    \"pipeline.data_lake_root\": \"/pipeline-outputs/data-lake\",\n",
    "    \"task.nr_train_images\": 600,\n",
    "}"
   ]
  },
  {
   "cell_type": "code",
   "execution_count": 2,
   "id": "176afc4b",
   "metadata": {
    "execution": {
     "iopub.execute_input": "2022-12-01T06:46:10.510600Z",
     "iopub.status.busy": "2022-12-01T06:46:10.510358Z",
     "iopub.status.idle": "2022-12-01T06:46:10.513336Z",
     "shell.execute_reply": "2022-12-01T06:46:10.512731Z"
    },
    "lines_to_next_cell": 0,
    "papermill": {
     "duration": 0.011027,
     "end_time": "2022-12-01T06:46:10.516351",
     "exception": false,
     "start_time": "2022-12-01T06:46:10.505324",
     "status": "completed"
    },
    "tags": [
     "parameters"
    ]
   },
   "outputs": [],
   "source": [
    "# - During automated runs parameters will be injected in the below cell -"
   ]
  },
  {
   "cell_type": "code",
   "execution_count": 3,
   "id": "9d8b3ce5",
   "metadata": {
    "execution": {
     "iopub.execute_input": "2022-12-01T06:46:10.525301Z",
     "iopub.status.busy": "2022-12-01T06:46:10.525064Z",
     "iopub.status.idle": "2022-12-01T06:46:10.530567Z",
     "shell.execute_reply": "2022-12-01T06:46:10.529822Z"
    },
    "papermill": {
     "duration": 0.012682,
     "end_time": "2022-12-01T06:46:10.532179",
     "exception": false,
     "start_time": "2022-12-01T06:46:10.519497",
     "status": "completed"
    },
    "tags": [
     "injected-parameters"
    ]
   },
   "outputs": [],
   "source": [
    "# Parameters\n",
    "P = {\n",
    "    \"pipeline.data_lake_root\": \"/pipeline-outputs/data-lake\",\n",
    "    \"pipeline.run_environment\": \"ci\",\n",
    "    \"pipeline.pipeline_run_id\": \"734ca702-880d-4b65-aa72-c5a90cc9b591\",\n",
    "    \"pipeline.github.repository\": \"matiasdahl/dev-mnist-digits-demo-pipeline\",\n",
    "    \"pipeline.github.workflow\": \"Run automated tests, pipeline and deploy results to static reporting site\",\n",
    "    \"pipeline.github.runner_name\": \"Hosted Agent\",\n",
    "    \"pipeline.github.run_id\": \"3590161709\",\n",
    "    \"pipeline.github.actor\": \"matiasdahl\",\n",
    "    \"pipeline.github.job\": \"run-tests-pipeline-and-persist-pipeline-outputs\",\n",
    "    \"pipeline.github.base_ref\": \"\",\n",
    "    \"pipeline.github.head_ref\": \"\",\n",
    "    \"pipeline.github.sha\": \"ace0d01011d5e914f1921450dd5a59c11367b38d\",\n",
    "    \"pipeline.github.ref\": \"refs/heads/development\",\n",
    "    \"pipeline.github.ref_type\": \"branch\",\n",
    "    \"pipeline.github.ref_name\": \"development\",\n",
    "    \"pipeline.github.event_name\": \"schedule\",\n",
    "    \"task.nr_train_images\": 1200,\n",
    "    \"task.notebook\": \"notebooks/benchmark-model.py\",\n",
    "    \"task.max_nr_retries\": \"1\",\n",
    "    \"run.retry_nr\": \"0\",\n",
    "    \"task.timeout_s\": \"None\",\n",
    "    \"task.num_cpus\": 1,\n",
    "    \"_opentelemetry_traceparent\": \"00-aa2c1325229534922579ed4d6b486d6e-97138cc28179e8bd-01\",\n",
    "}\n"
   ]
  },
  {
   "cell_type": "code",
   "execution_count": 4,
   "id": "823f2809",
   "metadata": {
    "execution": {
     "iopub.execute_input": "2022-12-01T06:46:10.542856Z",
     "iopub.status.busy": "2022-12-01T06:46:10.542627Z",
     "iopub.status.idle": "2022-12-01T06:46:10.545498Z",
     "shell.execute_reply": "2022-12-01T06:46:10.544990Z"
    },
    "lines_to_next_cell": 0,
    "papermill": {
     "duration": 0.011908,
     "end_time": "2022-12-01T06:46:10.548161",
     "exception": false,
     "start_time": "2022-12-01T06:46:10.536253",
     "status": "completed"
    },
    "tags": []
   },
   "outputs": [],
   "source": [
    "# -----------------------------------------------------------------------"
   ]
  },
  {
   "cell_type": "markdown",
   "id": "ca1cda21",
   "metadata": {
    "papermill": {
     "duration": 0.004108,
     "end_time": "2022-12-01T06:46:10.556163",
     "exception": false,
     "start_time": "2022-12-01T06:46:10.552055",
     "status": "completed"
    },
    "tags": []
   },
   "source": [
    "---"
   ]
  },
  {
   "cell_type": "markdown",
   "id": "6f27ad21",
   "metadata": {
    "lines_to_next_cell": 2,
    "papermill": {
     "duration": 0.004259,
     "end_time": "2022-12-01T06:46:10.565055",
     "exception": false,
     "start_time": "2022-12-01T06:46:10.560796",
     "status": "completed"
    },
    "tags": []
   },
   "source": [
    "### Notebook code"
   ]
  },
  {
   "cell_type": "code",
   "execution_count": 5,
   "id": "5c3b6c42",
   "metadata": {
    "execution": {
     "iopub.execute_input": "2022-12-01T06:46:10.574148Z",
     "iopub.status.busy": "2022-12-01T06:46:10.573920Z",
     "iopub.status.idle": "2022-12-01T06:46:11.757399Z",
     "shell.execute_reply": "2022-12-01T06:46:11.756581Z"
    },
    "papermill": {
     "duration": 1.190241,
     "end_time": "2022-12-01T06:46:11.759282",
     "exception": false,
     "start_time": "2022-12-01T06:46:10.569041",
     "status": "completed"
    },
    "tags": []
   },
   "outputs": [
    {
     "name": "stderr",
     "output_type": "stream",
     "text": [
      "2022-12-01 06:46:11,578\tINFO worker.py:842 -- Connecting to existing Ray cluster at address: 172.17.0.2:6379\n"
     ]
    }
   ],
   "source": [
    "import itertools as it\n",
    "\n",
    "#\n",
    "import numpy as np\n",
    "import matplotlib.pyplot as plt\n",
    "\n",
    "#\n",
    "from pynb_dag_runner.tasks.task_opentelemetry_logging import PydarLogger\n",
    "\n",
    "#\n",
    "from common.io import datalake_root\n",
    "\n",
    "logger = PydarLogger(P)"
   ]
  },
  {
   "cell_type": "markdown",
   "id": "1b064d55",
   "metadata": {
    "papermill": {
     "duration": 0.00392,
     "end_time": "2022-12-01T06:46:11.768057",
     "exception": false,
     "start_time": "2022-12-01T06:46:11.764137",
     "status": "completed"
    },
    "tags": []
   },
   "source": [
    "## Load persisted onnx-model and evaluation data"
   ]
  },
  {
   "cell_type": "code",
   "execution_count": 6,
   "id": "54fcef9a",
   "metadata": {
    "execution": {
     "iopub.execute_input": "2022-12-01T06:46:11.780175Z",
     "iopub.status.busy": "2022-12-01T06:46:11.779796Z",
     "iopub.status.idle": "2022-12-01T06:46:11.783374Z",
     "shell.execute_reply": "2022-12-01T06:46:11.782874Z"
    },
    "papermill": {
     "duration": 0.012532,
     "end_time": "2022-12-01T06:46:11.785486",
     "exception": false,
     "start_time": "2022-12-01T06:46:11.772954",
     "status": "completed"
    },
    "tags": []
   },
   "outputs": [],
   "source": [
    "from common.io import read_onnx, get_onnx_inputs, get_onnx_outputs, read_numpy"
   ]
  },
  {
   "cell_type": "code",
   "execution_count": 7,
   "id": "979276c8",
   "metadata": {
    "execution": {
     "iopub.execute_input": "2022-12-01T06:46:11.795088Z",
     "iopub.status.busy": "2022-12-01T06:46:11.794856Z",
     "iopub.status.idle": "2022-12-01T06:46:11.805375Z",
     "shell.execute_reply": "2022-12-01T06:46:11.804796Z"
    },
    "lines_to_next_cell": 0,
    "papermill": {
     "duration": 0.017983,
     "end_time": "2022-12-01T06:46:11.807489",
     "exception": false,
     "start_time": "2022-12-01T06:46:11.789506",
     "status": "completed"
    },
    "tags": []
   },
   "outputs": [],
   "source": [
    "onnx_inference_session = read_onnx(\n",
    "    datalake_root(P)\n",
    "    / \"models\"\n",
    "    / f\"nr_train_images={P['task.nr_train_images']}\"\n",
    "    / \"model.onnx\"\n",
    ")"
   ]
  },
  {
   "cell_type": "markdown",
   "id": "40b94831",
   "metadata": {
    "papermill": {
     "duration": 0.004195,
     "end_time": "2022-12-01T06:46:11.815813",
     "exception": false,
     "start_time": "2022-12-01T06:46:11.811618",
     "status": "completed"
    },
    "tags": []
   },
   "source": [
    "### Record structure of inputs and outputs for ONNX model\n",
    "\n",
    "(this should likely be done in training notebook)"
   ]
  },
  {
   "cell_type": "code",
   "execution_count": 8,
   "id": "74f5e9a1",
   "metadata": {
    "execution": {
     "iopub.execute_input": "2022-12-01T06:46:11.826036Z",
     "iopub.status.busy": "2022-12-01T06:46:11.825796Z",
     "iopub.status.idle": "2022-12-01T06:46:11.830789Z",
     "shell.execute_reply": "2022-12-01T06:46:11.830223Z"
    },
    "papermill": {
     "duration": 0.014046,
     "end_time": "2022-12-01T06:46:11.834301",
     "exception": false,
     "start_time": "2022-12-01T06:46:11.820255",
     "status": "completed"
    },
    "tags": []
   },
   "outputs": [
    {
     "name": "stdout",
     "output_type": "stream",
     "text": [
      "{\n",
      "  \"inputs\": [\n",
      "    {\n",
      "      \"name\": \"float_input_8x8_image\",\n",
      "      \"shape\": [\n",
      "        null,\n",
      "        64\n",
      "      ],\n",
      "      \"type\": \"tensor(float)\"\n",
      "    }\n",
      "  ],\n",
      "  \"outputs\": [\n",
      "    {\n",
      "      \"name\": \"output_label\",\n",
      "      \"shape\": [\n",
      "        null\n",
      "      ],\n",
      "      \"type\": \"tensor(int64)\"\n",
      "    },\n",
      "    {\n",
      "      \"name\": \"output_probability\",\n",
      "      \"shape\": [],\n",
      "      \"type\": \"seq(map(int64,tensor(float)))\"\n",
      "    }\n",
      "  ]\n",
      "}\n"
     ]
    }
   ],
   "source": [
    "import json\n",
    "\n",
    "onnx_io = json.dumps(\n",
    "    {\n",
    "        \"inputs\": get_onnx_inputs(onnx_inference_session),\n",
    "        \"outputs\": get_onnx_outputs(onnx_inference_session),\n",
    "    },\n",
    "    indent=2,\n",
    ")\n",
    "\n",
    "\n",
    "logger.log_artefact(\"onnx_io_structure.json\", onnx_io)\n",
    "print(onnx_io)"
   ]
  },
  {
   "cell_type": "markdown",
   "id": "e4496148",
   "metadata": {
    "papermill": {
     "duration": 0.004892,
     "end_time": "2022-12-01T06:46:11.843243",
     "exception": false,
     "start_time": "2022-12-01T06:46:11.838351",
     "status": "completed"
    },
    "tags": []
   },
   "source": [
    "### Evaluate model performance on evaluation data set"
   ]
  },
  {
   "cell_type": "code",
   "execution_count": 9,
   "id": "85fddb91",
   "metadata": {
    "execution": {
     "iopub.execute_input": "2022-12-01T06:46:11.852650Z",
     "iopub.status.busy": "2022-12-01T06:46:11.852404Z",
     "iopub.status.idle": "2022-12-01T06:46:11.857397Z",
     "shell.execute_reply": "2022-12-01T06:46:11.856860Z"
    },
    "papermill": {
     "duration": 0.01242,
     "end_time": "2022-12-01T06:46:11.859648",
     "exception": false,
     "start_time": "2022-12-01T06:46:11.847228",
     "status": "completed"
    },
    "tags": []
   },
   "outputs": [],
   "source": [
    "# load evaluation data\n",
    "X_test = read_numpy(datalake_root(P) / \"test-data\" / \"digits.numpy\")\n",
    "y_test = read_numpy(datalake_root(P) / \"test-data\" / \"labels.numpy\")"
   ]
  },
  {
   "cell_type": "code",
   "execution_count": 10,
   "id": "3dfc7b33",
   "metadata": {
    "execution": {
     "iopub.execute_input": "2022-12-01T06:46:11.869326Z",
     "iopub.status.busy": "2022-12-01T06:46:11.869047Z",
     "iopub.status.idle": "2022-12-01T06:46:11.935767Z",
     "shell.execute_reply": "2022-12-01T06:46:11.934763Z"
    },
    "papermill": {
     "duration": 0.074164,
     "end_time": "2022-12-01T06:46:11.938039",
     "exception": false,
     "start_time": "2022-12-01T06:46:11.863875",
     "status": "completed"
    },
    "tags": []
   },
   "outputs": [],
   "source": [
    "def get_model_outputs(X, onnx_inference_session):\n",
    "    y_pred_labels, y_pred_map = onnx_inference_session.run(\n",
    "        [\"output_label\", \"output_probability\"],\n",
    "        {\"float_input_8x8_image\": X.astype(np.float32)},\n",
    "    )\n",
    "    y_pred_probs = np.array(\n",
    "        [[probabilities[digit] for digit in range(10)] for probabilities in y_pred_map]\n",
    "    )\n",
    "\n",
    "    assert y_pred_labels.shape == (X.shape[0],)\n",
    "    assert y_pred_probs.shape == (X.shape[0], 10)\n",
    "\n",
    "    return y_pred_labels, y_pred_probs\n",
    "\n",
    "\n",
    "# Note: as shown in the training notebook, the predicted labels and probabilities\n",
    "# computed below need not be compatible.\n",
    "y_pred_labels_test, y_pred_probs_test = get_model_outputs(\n",
    "    X_test, onnx_inference_session\n",
    ")"
   ]
  },
  {
   "cell_type": "markdown",
   "id": "e2efad6e",
   "metadata": {
    "papermill": {
     "duration": 0.004739,
     "end_time": "2022-12-01T06:46:11.947986",
     "exception": false,
     "start_time": "2022-12-01T06:46:11.943247",
     "status": "completed"
    },
    "tags": []
   },
   "source": [
    "### Confusion matrix"
   ]
  },
  {
   "cell_type": "code",
   "execution_count": 11,
   "id": "920c3807",
   "metadata": {
    "execution": {
     "iopub.execute_input": "2022-12-01T06:46:11.957903Z",
     "iopub.status.busy": "2022-12-01T06:46:11.957639Z",
     "iopub.status.idle": "2022-12-01T06:46:11.960623Z",
     "shell.execute_reply": "2022-12-01T06:46:11.959950Z"
    },
    "papermill": {
     "duration": 0.010328,
     "end_time": "2022-12-01T06:46:11.962512",
     "exception": false,
     "start_time": "2022-12-01T06:46:11.952184",
     "status": "completed"
    },
    "tags": []
   },
   "outputs": [],
   "source": [
    "# TODO"
   ]
  },
  {
   "cell_type": "markdown",
   "id": "be309ac0",
   "metadata": {
    "papermill": {
     "duration": 0.004158,
     "end_time": "2022-12-01T06:46:11.971496",
     "exception": false,
     "start_time": "2022-12-01T06:46:11.967338",
     "status": "completed"
    },
    "tags": []
   },
   "source": [
    "### Plot predicted probabilities for each classifier over all evaluation digit images"
   ]
  },
  {
   "cell_type": "code",
   "execution_count": 12,
   "id": "433ed7a8",
   "metadata": {
    "execution": {
     "iopub.execute_input": "2022-12-01T06:46:11.988251Z",
     "iopub.status.busy": "2022-12-01T06:46:11.987874Z",
     "iopub.status.idle": "2022-12-01T06:46:14.864564Z",
     "shell.execute_reply": "2022-12-01T06:46:14.864020Z"
    },
    "papermill": {
     "duration": 2.88614,
     "end_time": "2022-12-01T06:46:14.867314",
     "exception": false,
     "start_time": "2022-12-01T06:46:11.981174",
     "status": "completed"
    },
    "tags": []
   },
   "outputs": [
    {
     "data": {
      "image/png": "[encoded data removed]",
      "text/plain": [
       "<Figure size 1600x600 with 10 Axes>"
      ]
     },
     "metadata": {},
     "output_type": "display_data"
    }
   ],
   "source": [
    "def plot_per_digit_probabilities(y_pred_probs):\n",
    "    fig, axs = plt.subplots(nrows=2, ncols=5, figsize=(16, 6))\n",
    "\n",
    "    for (r, c), digit, ax in zip(\n",
    "        it.product(range(2), range(5)), range(10), axs.reshape(-1)\n",
    "    ):\n",
    "        ax.hist(y_pred_probs_test[:, digit], bins=20)\n",
    "\n",
    "        ax.set_title(f\"Digit {digit}\")\n",
    "        if r == 1 and c == 2:\n",
    "            ax.set_xlabel(\"probability\", fontsize=16)\n",
    "\n",
    "        if c == 0:\n",
    "            ax.set_ylabel(\"counts\", fontsize=16)\n",
    "        ax.set_yscale(\"log\")\n",
    "\n",
    "    fig.tight_layout()\n",
    "    fig.suptitle(\n",
    "        f\"Distributions of prediction probabilities for each digit \"\n",
    "        f\"(on evaluation data, n={y_pred_probs.shape[0]})\",\n",
    "        fontsize=20,\n",
    "    )\n",
    "    fig.tight_layout()\n",
    "    fig.show()\n",
    "\n",
    "    return fig\n",
    "\n",
    "\n",
    "fig = plot_per_digit_probabilities(y_pred_probs_test)"
   ]
  },
  {
   "cell_type": "markdown",
   "id": "044b59f3",
   "metadata": {
    "papermill": {
     "duration": 0.005679,
     "end_time": "2022-12-01T06:46:14.878928",
     "exception": false,
     "start_time": "2022-12-01T06:46:14.873249",
     "status": "completed"
    },
    "tags": []
   },
   "source": [
    "From the above distributions we see that most digits have clear separation between\n",
    "high and lower probabilities. Morover, in each case there is roughly an order of\n",
    "magnitude more of digits with low probabilities. This is compatible with digits\n",
    "being roughly evenly distributed in the data."
   ]
  },
  {
   "cell_type": "code",
   "execution_count": 13,
   "id": "b0542f84",
   "metadata": {
    "execution": {
     "iopub.execute_input": "2022-12-01T06:46:14.891298Z",
     "iopub.status.busy": "2022-12-01T06:46:14.890728Z",
     "iopub.status.idle": "2022-12-01T06:46:15.328429Z",
     "shell.execute_reply": "2022-12-01T06:46:15.327081Z"
    },
    "papermill": {
     "duration": 0.446188,
     "end_time": "2022-12-01T06:46:15.330514",
     "exception": false,
     "start_time": "2022-12-01T06:46:14.884326",
     "status": "completed"
    },
    "tags": []
   },
   "outputs": [],
   "source": [
    "logger.log_figure(\"per-digit-probabilities.png\", fig)"
   ]
  },
  {
   "cell_type": "markdown",
   "id": "92712db4",
   "metadata": {
    "papermill": {
     "duration": 0.006102,
     "end_time": "2022-12-01T06:46:15.342128",
     "exception": false,
     "start_time": "2022-12-01T06:46:15.336026",
     "status": "completed"
    },
    "tags": []
   },
   "source": [
    "### Plot ROC curves for individual one-vs-rest classifiers"
   ]
  },
  {
   "cell_type": "code",
   "execution_count": 14,
   "id": "3ed6ca03",
   "metadata": {
    "execution": {
     "iopub.execute_input": "2022-12-01T06:46:15.353717Z",
     "iopub.status.busy": "2022-12-01T06:46:15.353264Z",
     "iopub.status.idle": "2022-12-01T06:46:15.730811Z",
     "shell.execute_reply": "2022-12-01T06:46:15.729978Z"
    },
    "papermill": {
     "duration": 0.385503,
     "end_time": "2022-12-01T06:46:15.732743",
     "exception": false,
     "start_time": "2022-12-01T06:46:15.347240",
     "status": "completed"
    },
    "tags": []
   },
   "outputs": [],
   "source": [
    "from sklearn import metrics"
   ]
  },
  {
   "cell_type": "code",
   "execution_count": 15,
   "id": "1c8aa97d",
   "metadata": {
    "execution": {
     "iopub.execute_input": "2022-12-01T06:46:15.744682Z",
     "iopub.status.busy": "2022-12-01T06:46:15.744266Z",
     "iopub.status.idle": "2022-12-01T06:46:16.762741Z",
     "shell.execute_reply": "2022-12-01T06:46:16.761697Z"
    },
    "papermill": {
     "duration": 1.025999,
     "end_time": "2022-12-01T06:46:16.764304",
     "exception": false,
     "start_time": "2022-12-01T06:46:15.738305",
     "status": "completed"
    },
    "tags": []
   },
   "outputs": [
    {
     "data": {
      "image/png": "[encoded data removed]",
      "text/plain": [
       "<Figure size 1600x800 with 10 Axes>"
      ]
     },
     "metadata": {},
     "output_type": "display_data"
    }
   ],
   "source": [
    "def plot_roc_curves(y, y_pred_probs):\n",
    "    # based on example code\n",
    "    # https://scikit-learn.org/stable/auto_examples/model_selection/plot_roc.html\n",
    "\n",
    "    fig, axs = plt.subplots(nrows=2, ncols=5, figsize=(16, 8))\n",
    "\n",
    "    roc_auc_dict = {}\n",
    "\n",
    "    for (r, c), digit, ax in zip(\n",
    "        it.product(range(2), range(5)), range(10), axs.reshape(-1)\n",
    "    ):\n",
    "        fpr, tpr, _ = metrics.roc_curve(y == digit, y_pred_probs[:, digit])\n",
    "        auc = metrics.auc(fpr, tpr)\n",
    "        roc_auc_dict[str(digit)] = auc\n",
    "\n",
    "        ax.plot(fpr, tpr, label=f\"ROC AUC={round(auc, 3)}\")\n",
    "\n",
    "        ax.set_title(f\"\\nDigit {digit}\", fontsize=16)\n",
    "        if r == 1:\n",
    "            ax.set_xlabel(\"FPR\", fontsize=18)\n",
    "\n",
    "        if c == 0:\n",
    "            ax.set_ylabel(\"TPR\", fontsize=18)\n",
    "\n",
    "        ax.set_xlim([-0.05, 1.05])\n",
    "        ax.set_ylim([-0.05, 1.05])\n",
    "        ax.legend(loc=\"lower right\", frameon=False, fontsize=14)\n",
    "\n",
    "    fig.tight_layout()\n",
    "    fig.suptitle(\n",
    "        f\"ROC plots for one-vs-rest performances \"\n",
    "        f\"(on evaluation data, n={y_pred_probs_test.shape[1]}\",\n",
    "        fontsize=22,\n",
    "    )\n",
    "    fig.tight_layout()\n",
    "    fig.show()\n",
    "\n",
    "    return roc_auc_dict, fig\n",
    "\n",
    "\n",
    "roc_auc_dict, fig = plot_roc_curves(y_test, y_pred_probs_test)"
   ]
  },
  {
   "cell_type": "code",
   "execution_count": 16,
   "id": "def785bf",
   "metadata": {
    "execution": {
     "iopub.execute_input": "2022-12-01T06:46:16.776682Z",
     "iopub.status.busy": "2022-12-01T06:46:16.776359Z",
     "iopub.status.idle": "2022-12-01T06:46:17.029793Z",
     "shell.execute_reply": "2022-12-01T06:46:17.029053Z"
    },
    "papermill": {
     "duration": 0.261954,
     "end_time": "2022-12-01T06:46:17.031697",
     "exception": false,
     "start_time": "2022-12-01T06:46:16.769743",
     "status": "completed"
    },
    "tags": []
   },
   "outputs": [],
   "source": [
    "logger.log_figure(\"per-digit-roc-curves.png\", fig)"
   ]
  },
  {
   "cell_type": "code",
   "execution_count": 17,
   "id": "62c2b18d",
   "metadata": {
    "execution": {
     "iopub.execute_input": "2022-12-01T06:46:17.047124Z",
     "iopub.status.busy": "2022-12-01T06:46:17.046665Z",
     "iopub.status.idle": "2022-12-01T06:46:17.051505Z",
     "shell.execute_reply": "2022-12-01T06:46:17.050768Z"
    },
    "papermill": {
     "duration": 0.01546,
     "end_time": "2022-12-01T06:46:17.053820",
     "exception": false,
     "start_time": "2022-12-01T06:46:17.038360",
     "status": "completed"
    },
    "tags": []
   },
   "outputs": [
    {
     "data": {
      "text/plain": [
       "{'0': 1.0,\n",
       " '1': 0.9990627928772259,\n",
       " '2': 1.0,\n",
       " '3': 0.9998500468603562,\n",
       " '4': 0.9997713763145861,\n",
       " '5': 0.9996626054358013,\n",
       " '6': 0.999923792104862,\n",
       " '7': 0.9998475842097242,\n",
       " '8': 0.9956651954602774,\n",
       " '9': 0.9997713763145862}"
      ]
     },
     "execution_count": 17,
     "metadata": {},
     "output_type": "execute_result"
    }
   ],
   "source": [
    "roc_auc_dict"
   ]
  },
  {
   "cell_type": "code",
   "execution_count": 18,
   "id": "d14d275c",
   "metadata": {
    "execution": {
     "iopub.execute_input": "2022-12-01T06:46:17.067813Z",
     "iopub.status.busy": "2022-12-01T06:46:17.067380Z",
     "iopub.status.idle": "2022-12-01T06:46:17.072220Z",
     "shell.execute_reply": "2022-12-01T06:46:17.071313Z"
    },
    "papermill": {
     "duration": 0.01515,
     "end_time": "2022-12-01T06:46:17.074905",
     "exception": false,
     "start_time": "2022-12-01T06:46:17.059755",
     "status": "completed"
    },
    "tags": []
   },
   "outputs": [
    {
     "name": "stdout",
     "output_type": "stream",
     "text": [
      " - Logging roc_auc_per_digit (json) : {'0': 1.0, '1': 0.9990627928772259, '2': 1.0, '3': 0.9998500468603562, '4': 0.9997713763145861, '5': 0.9996626054358013, '6': 0.999923792104862, '7': 0.9998475842097242, '8': 0.9956651954602774, '9': 0.9997713763145862}\n"
     ]
    }
   ],
   "source": [
    "logger.log_value(\"roc_auc_per_digit\", roc_auc_dict)"
   ]
  },
  {
   "cell_type": "markdown",
   "id": "21c608fe",
   "metadata": {
    "papermill": {
     "duration": 0.006938,
     "end_time": "2022-12-01T06:46:17.088382",
     "exception": false,
     "start_time": "2022-12-01T06:46:17.081444",
     "status": "completed"
    },
    "tags": []
   },
   "source": [
    "### Compute and log mean ROC AUC score averaged over all digits"
   ]
  },
  {
   "cell_type": "code",
   "execution_count": 19,
   "id": "e388dbd0",
   "metadata": {
    "execution": {
     "iopub.execute_input": "2022-12-01T06:46:17.102923Z",
     "iopub.status.busy": "2022-12-01T06:46:17.102326Z",
     "iopub.status.idle": "2022-12-01T06:46:17.115421Z",
     "shell.execute_reply": "2022-12-01T06:46:17.114692Z"
    },
    "papermill": {
     "duration": 0.022375,
     "end_time": "2022-12-01T06:46:17.117211",
     "exception": false,
     "start_time": "2022-12-01T06:46:17.094836",
     "status": "completed"
    },
    "tags": []
   },
   "outputs": [
    {
     "name": "stdout",
     "output_type": "stream",
     "text": [
      " - Logging roc_auc_class_mean (float) : 0.999355476957742\n"
     ]
    }
   ],
   "source": [
    "roc_auc_macro = np.mean(list(roc_auc_dict.values()))\n",
    "\n",
    "logger.log_float(\"roc_auc_class_mean\", roc_auc_macro)\n",
    "\n",
    "# assert that the same value can be computed directly using sklearn\n",
    "assert roc_auc_macro == metrics.roc_auc_score(\n",
    "    y_test, y_pred_probs_test, average=\"macro\", multi_class=\"ovr\"\n",
    ")"
   ]
  },
  {
   "cell_type": "code",
   "execution_count": 20,
   "id": "4614a224",
   "metadata": {
    "execution": {
     "iopub.execute_input": "2022-12-01T06:46:17.134982Z",
     "iopub.status.busy": "2022-12-01T06:46:17.134612Z",
     "iopub.status.idle": "2022-12-01T06:46:17.138213Z",
     "shell.execute_reply": "2022-12-01T06:46:17.137523Z"
    },
    "lines_to_next_cell": 0,
    "papermill": {
     "duration": 0.01338,
     "end_time": "2022-12-01T06:46:17.139880",
     "exception": false,
     "start_time": "2022-12-01T06:46:17.126500",
     "status": "completed"
    },
    "tags": []
   },
   "outputs": [],
   "source": [
    "# ---"
   ]
  },
  {
   "cell_type": "code",
   "execution_count": null,
   "id": "4105d09a",
   "metadata": {
    "papermill": {
     "duration": 0.007298,
     "end_time": "2022-12-01T06:46:17.154375",
     "exception": false,
     "start_time": "2022-12-01T06:46:17.147077",
     "status": "completed"
    },
    "tags": []
   },
   "outputs": [],
   "source": []
  }
 ],
 "metadata": {
  "jupytext": {
   "cell_metadata_filter": "tags,-all",
   "main_language": "python",
   "notebook_metadata_filter": "-all"
  },
  "language_info": {
   "codemirror_mode": {
    "name": "ipython",
    "version": 3
   },
   "file_extension": ".py",
   "mimetype": "text/x-python",
   "name": "python",
   "nbconvert_exporter": "python",
   "pygments_lexer": "ipython3",
   "version": "3.8.10"
  },
  "papermill": {
   "default_parameters": {},
   "duration": 8.981467,
   "end_time": "2022-12-01T06:46:18.282335",
   "environment_variables": {},
   "exception": null,
   "input_path": "/home/host_user/workspace/mnist-demo-pipeline/mnist-demo-pipeline/notebooks/temp-notebook-lm5_352n.ipynb",
   "output_path": "notebooks/benchmark-model.ipynb",
   "parameters": {
    "P": {
     "_opentelemetry_traceparent": "00-aa2c1325229534922579ed4d6b486d6e-97138cc28179e8bd-01",
     "pipeline.data_lake_root": "/pipeline-outputs/data-lake",
     "pipeline.github.actor": "matiasdahl",
     "pipeline.github.base_ref": "",
     "pipeline.github.event_name": "schedule",
     "pipeline.github.head_ref": "",
     "pipeline.github.job": "run-tests-pipeline-and-persist-pipeline-outputs",
     "pipeline.github.ref": "refs/heads/development",
     "pipeline.github.ref_name": "development",
     "pipeline.github.ref_type": "branch",
     "pipeline.github.repository": "matiasdahl/dev-mnist-digits-demo-pipeline",
     "pipeline.github.run_id": "3590161709",
     "pipeline.github.runner_name": "Hosted Agent",
     "pipeline.github.sha": "ace0d01011d5e914f1921450dd5a59c11367b38d",
     "pipeline.github.workflow": "Run automated tests, pipeline and deploy results to static reporting site",
     "pipeline.pipeline_run_id": "734ca702-880d-4b65-aa72-c5a90cc9b591",
     "pipeline.run_environment": "ci",
     "run.retry_nr": "0",
     "task.max_nr_retries": "1",
     "task.notebook": "notebooks/benchmark-model.py",
     "task.nr_train_images": 1200,
     "task.num_cpus": 1,
     "task.timeout_s": "None"
    }
   },
   "start_time": "2022-12-01T06:46:09.300868",
   "version": "2.3.3"
  }
 },
 "nbformat": 4,
 "nbformat_minor": 5
}