{
 "cells": [
  {
   "cell_type": "markdown",
   "id": "f7613b4a",
   "metadata": {
    "papermill": {
     "duration": 0.016877,
     "end_time": "2022-12-01T06:45:29.525631",
     "exception": false,
     "start_time": "2022-12-01T06:45:29.508754",
     "status": "completed"
    },
    "tags": []
   },
   "source": [
    "# Ingest toy version of MNIST digit data from sklearn"
   ]
  },
  {
   "cell_type": "markdown",
   "id": "a8cf87b1",
   "metadata": {
    "papermill": {
     "duration": 0.002466,
     "end_time": "2022-12-01T06:45:29.531496",
     "exception": false,
     "start_time": "2022-12-01T06:45:29.529030",
     "status": "completed"
    },
    "tags": []
   },
   "source": [
    "### Determine run parameters"
   ]
  },
  {
   "cell_type": "code",
   "execution_count": 1,
   "id": "47abb85b",
   "metadata": {
    "execution": {
     "iopub.execute_input": "2022-12-01T06:45:29.538903Z",
     "iopub.status.busy": "2022-12-01T06:45:29.537941Z",
     "iopub.status.idle": "2022-12-01T06:45:29.546202Z",
     "shell.execute_reply": "2022-12-01T06:45:29.545562Z"
    },
    "lines_to_next_cell": 0,
    "papermill": {
     "duration": 0.013774,
     "end_time": "2022-12-01T06:45:29.547871",
     "exception": false,
     "start_time": "2022-12-01T06:45:29.534097",
     "status": "completed"
    },
    "tags": []
   },
   "outputs": [],
   "source": [
    "# ----------------- Parameters for interactive development --------------\n",
    "P = {\n",
    "    \"pipeline.run_environment\": \"dev\",\n",
    "    \"pipeline.data_lake_root\": \"/pipeline-outputs/data-lake\",\n",
    "    \"run.retry_nr\": \"1\",\n",
    "}"
   ]
  },
  {
   "cell_type": "code",
   "execution_count": 2,
   "id": "7d24c251",
   "metadata": {
    "execution": {
     "iopub.execute_input": "2022-12-01T06:45:29.558073Z",
     "iopub.status.busy": "2022-12-01T06:45:29.557557Z",
     "iopub.status.idle": "2022-12-01T06:45:29.561733Z",
     "shell.execute_reply": "2022-12-01T06:45:29.561196Z"
    },
    "lines_to_next_cell": 0,
    "papermill": {
     "duration": 0.012529,
     "end_time": "2022-12-01T06:45:29.563230",
     "exception": false,
     "start_time": "2022-12-01T06:45:29.550701",
     "status": "completed"
    },
    "tags": [
     "parameters"
    ]
   },
   "outputs": [],
   "source": [
    "# - During automated runs parameters will be injected in the below cell -"
   ]
  },
  {
   "cell_type": "code",
   "execution_count": 3,
   "id": "5d58df13",
   "metadata": {
    "execution": {
     "iopub.execute_input": "2022-12-01T06:45:29.571423Z",
     "iopub.status.busy": "2022-12-01T06:45:29.570172Z",
     "iopub.status.idle": "2022-12-01T06:45:29.576070Z",
     "shell.execute_reply": "2022-12-01T06:45:29.575599Z"
    },
    "papermill": {
     "duration": 0.012131,
     "end_time": "2022-12-01T06:45:29.577981",
     "exception": false,
     "start_time": "2022-12-01T06:45:29.565850",
     "status": "completed"
    },
    "tags": [
     "injected-parameters"
    ]
   },
   "outputs": [],
   "source": [
    "# Parameters\n",
    "P = {\n",
    "    \"pipeline.data_lake_root\": \"/pipeline-outputs/data-lake\",\n",
    "    \"pipeline.run_environment\": \"ci\",\n",
    "    \"pipeline.pipeline_run_id\": \"734ca702-880d-4b65-aa72-c5a90cc9b591\",\n",
    "    \"pipeline.github.repository\": \"matiasdahl/dev-mnist-digits-demo-pipeline\",\n",
    "    \"pipeline.github.workflow\": \"Run automated tests, pipeline and deploy results to static reporting site\",\n",
    "    \"pipeline.github.runner_name\": \"Hosted Agent\",\n",
    "    \"pipeline.github.run_id\": \"3590161709\",\n",
    "    \"pipeline.github.actor\": \"matiasdahl\",\n",
    "    \"pipeline.github.job\": \"run-tests-pipeline-and-persist-pipeline-outputs\",\n",
    "    \"pipeline.github.base_ref\": \"\",\n",
    "    \"pipeline.github.head_ref\": \"\",\n",
    "    \"pipeline.github.sha\": \"ace0d01011d5e914f1921450dd5a59c11367b38d\",\n",
    "    \"pipeline.github.ref\": \"refs/heads/development\",\n",
    "    \"pipeline.github.ref_type\": \"branch\",\n",
    "    \"pipeline.github.ref_name\": \"development\",\n",
    "    \"pipeline.github.event_name\": \"schedule\",\n",
    "    \"task.notebook\": \"notebooks/ingest.py\",\n",
    "    \"task.max_nr_retries\": \"15\",\n",
    "    \"run.retry_nr\": \"10\",\n",
    "    \"task.timeout_s\": \"10\",\n",
    "    \"task.num_cpus\": 1,\n",
    "    \"_opentelemetry_traceparent\": \"00-aa2c1325229534922579ed4d6b486d6e-055e9b90392e9c74-01\",\n",
    "}\n"
   ]
  },
  {
   "cell_type": "code",
   "execution_count": 4,
   "id": "bffd59b8",
   "metadata": {
    "execution": {
     "iopub.execute_input": "2022-12-01T06:45:29.585022Z",
     "iopub.status.busy": "2022-12-01T06:45:29.584451Z",
     "iopub.status.idle": "2022-12-01T06:45:29.587787Z",
     "shell.execute_reply": "2022-12-01T06:45:29.587074Z"
    },
    "lines_to_next_cell": 0,
    "papermill": {
     "duration": 0.008475,
     "end_time": "2022-12-01T06:45:29.589623",
     "exception": false,
     "start_time": "2022-12-01T06:45:29.581148",
     "status": "completed"
    },
    "tags": []
   },
   "outputs": [],
   "source": [
    "# -----------------------------------------------------------------------"
   ]
  },
  {
   "cell_type": "markdown",
   "id": "97feca15",
   "metadata": {
    "lines_to_next_cell": 2,
    "papermill": {
     "duration": 0.002235,
     "end_time": "2022-12-01T06:45:29.594652",
     "exception": false,
     "start_time": "2022-12-01T06:45:29.592417",
     "status": "completed"
    },
    "tags": []
   },
   "source": [
    "---"
   ]
  },
  {
   "cell_type": "markdown",
   "id": "a5017b32",
   "metadata": {
    "papermill": {
     "duration": 0.002464,
     "end_time": "2022-12-01T06:45:29.599627",
     "exception": false,
     "start_time": "2022-12-01T06:45:29.597163",
     "status": "completed"
    },
    "tags": []
   },
   "source": [
    "### Simulate different types of failures (for testing timeout and retry logic)"
   ]
  },
  {
   "cell_type": "code",
   "execution_count": 5,
   "id": "7d51c750",
   "metadata": {
    "execution": {
     "iopub.execute_input": "2022-12-01T06:45:29.606083Z",
     "iopub.status.busy": "2022-12-01T06:45:29.605863Z",
     "iopub.status.idle": "2022-12-01T06:45:30.073162Z",
     "shell.execute_reply": "2022-12-01T06:45:30.072276Z"
    },
    "papermill": {
     "duration": 0.472589,
     "end_time": "2022-12-01T06:45:30.075212",
     "exception": false,
     "start_time": "2022-12-01T06:45:29.602623",
     "status": "completed"
    },
    "tags": []
   },
   "outputs": [
    {
     "name": "stderr",
     "output_type": "stream",
     "text": [
      "2022-12-01 06:45:29,916\tINFO worker.py:842 -- Connecting to existing Ray cluster at address: 172.17.0.2:6379\n"
     ]
    }
   ],
   "source": [
    "from pynb_dag_runner.tasks.task_opentelemetry_logging import PydarLogger\n",
    "\n",
    "logger = PydarLogger(P)"
   ]
  },
  {
   "cell_type": "code",
   "execution_count": 6,
   "id": "98214afd",
   "metadata": {
    "execution": {
     "iopub.execute_input": "2022-12-01T06:45:30.083185Z",
     "iopub.status.busy": "2022-12-01T06:45:30.082806Z",
     "iopub.status.idle": "2022-12-01T06:45:30.088014Z",
     "shell.execute_reply": "2022-12-01T06:45:30.087478Z"
    },
    "papermill": {
     "duration": 0.010961,
     "end_time": "2022-12-01T06:45:30.089606",
     "exception": false,
     "start_time": "2022-12-01T06:45:30.078645",
     "status": "completed"
    },
    "tags": []
   },
   "outputs": [],
   "source": [
    "import time, random\n",
    "\n",
    "\n",
    "def maybe_crash(retry_nr: int, run_environment: str):\n",
    "    if retry_nr == 2 and run_environment == \"ci\":\n",
    "        time.sleep(1e6)\n",
    "\n",
    "    max_retry_nr: int = 3 if run_environment == \"dev\" else 10\n",
    "\n",
    "    if retry_nr < max_retry_nr:\n",
    "        if random.random() < 0.1:\n",
    "            time.sleep(1e6)\n",
    "        else:\n",
    "            raise Exception(\"Simulated exception failure from ingestion step notebook!\")\n",
    "\n",
    "\n",
    "maybe_crash(\n",
    "    retry_nr=int(P[\"run.retry_nr\"]), run_environment=P[\"pipeline.run_environment\"]\n",
    ")"
   ]
  },
  {
   "cell_type": "markdown",
   "id": "81af2430",
   "metadata": {
    "lines_to_next_cell": 2,
    "papermill": {
     "duration": 0.003307,
     "end_time": "2022-12-01T06:45:30.095983",
     "exception": false,
     "start_time": "2022-12-01T06:45:30.092676",
     "status": "completed"
    },
    "tags": []
   },
   "source": [
    "### Notebook code"
   ]
  },
  {
   "cell_type": "code",
   "execution_count": 7,
   "id": "06e51bea",
   "metadata": {
    "execution": {
     "iopub.execute_input": "2022-12-01T06:45:30.103473Z",
     "iopub.status.busy": "2022-12-01T06:45:30.102964Z",
     "iopub.status.idle": "2022-12-01T06:45:31.553565Z",
     "shell.execute_reply": "2022-12-01T06:45:31.552832Z"
    },
    "papermill": {
     "duration": 1.456801,
     "end_time": "2022-12-01T06:45:31.555741",
     "exception": false,
     "start_time": "2022-12-01T06:45:30.098940",
     "status": "completed"
    },
    "tags": []
   },
   "outputs": [],
   "source": [
    "from sklearn import datasets\n",
    "\n",
    "#\n",
    "from common.io import datalake_root, write_numpy"
   ]
  },
  {
   "cell_type": "code",
   "execution_count": 8,
   "id": "f589f188",
   "metadata": {
    "execution": {
     "iopub.execute_input": "2022-12-01T06:45:31.565634Z",
     "iopub.status.busy": "2022-12-01T06:45:31.565334Z",
     "iopub.status.idle": "2022-12-01T06:45:31.581883Z",
     "shell.execute_reply": "2022-12-01T06:45:31.581157Z"
    },
    "lines_to_next_cell": 2,
    "papermill": {
     "duration": 0.024546,
     "end_time": "2022-12-01T06:45:31.583698",
     "exception": false,
     "start_time": "2022-12-01T06:45:31.559152",
     "status": "completed"
    },
    "tags": []
   },
   "outputs": [],
   "source": [
    "digits = datasets.load_digits()\n",
    "\n",
    "X = digits[\"data\"]\n",
    "y = digits[\"target\"]"
   ]
  },
  {
   "cell_type": "code",
   "execution_count": 9,
   "id": "3be59192",
   "metadata": {
    "execution": {
     "iopub.execute_input": "2022-12-01T06:45:31.591494Z",
     "iopub.status.busy": "2022-12-01T06:45:31.591224Z",
     "iopub.status.idle": "2022-12-01T06:45:31.608621Z",
     "shell.execute_reply": "2022-12-01T06:45:31.607915Z"
    },
    "papermill": {
     "duration": 0.023831,
     "end_time": "2022-12-01T06:45:31.610528",
     "exception": false,
     "start_time": "2022-12-01T06:45:31.586697",
     "status": "completed"
    },
    "tags": []
   },
   "outputs": [
    {
     "name": "stdout",
     "output_type": "stream",
     "text": [
      " - Logging data_shape (json) : [1797, 64]\n",
      " - Logging target_shape (json) : [1797]\n"
     ]
    },
    {
     "data": {
      "text/plain": [
       "((1797, 64), (1797,))"
      ]
     },
     "execution_count": 9,
     "metadata": {},
     "output_type": "execute_result"
    }
   ],
   "source": [
    "logger.log_value(\"data_shape\", list(X.shape))\n",
    "logger.log_value(\"target_shape\", list(y.shape))\n",
    "\n",
    "X.shape, y.shape"
   ]
  },
  {
   "cell_type": "code",
   "execution_count": 10,
   "id": "6be43bfa",
   "metadata": {
    "execution": {
     "iopub.execute_input": "2022-12-01T06:45:31.617895Z",
     "iopub.status.busy": "2022-12-01T06:45:31.617341Z",
     "iopub.status.idle": "2022-12-01T06:45:31.627316Z",
     "shell.execute_reply": "2022-12-01T06:45:31.626623Z"
    },
    "papermill": {
     "duration": 0.015435,
     "end_time": "2022-12-01T06:45:31.629054",
     "exception": false,
     "start_time": "2022-12-01T06:45:31.613619",
     "status": "completed"
    },
    "tags": []
   },
   "outputs": [],
   "source": [
    "write_numpy(datalake_root(P) / \"raw\" / \"digits.numpy\", X)\n",
    "write_numpy(datalake_root(P) / \"raw\" / \"labels.numpy\", y)"
   ]
  },
  {
   "cell_type": "code",
   "execution_count": null,
   "id": "c37ac6f3",
   "metadata": {
    "papermill": {
     "duration": 0.003058,
     "end_time": "2022-12-01T06:45:31.635101",
     "exception": false,
     "start_time": "2022-12-01T06:45:31.632043",
     "status": "completed"
    },
    "tags": []
   },
   "outputs": [],
   "source": []
  }
 ],
 "metadata": {
  "jupytext": {
   "cell_metadata_filter": "tags,-all",
   "main_language": "python",
   "notebook_metadata_filter": "-all"
  },
  "language_info": {
   "codemirror_mode": {
    "name": "ipython",
    "version": 3
   },
   "file_extension": ".py",
   "mimetype": "text/x-python",
   "name": "python",
   "nbconvert_exporter": "python",
   "pygments_lexer": "ipython3",
   "version": "3.8.10"
  },
  "papermill": {
   "default_parameters": {},
   "duration": 4.152538,
   "end_time": "2022-12-01T06:45:32.458607",
   "environment_variables": {},
   "exception": null,
   "input_path": "/home/host_user/workspace/mnist-demo-pipeline/mnist-demo-pipeline/notebooks/temp-notebook-drp82ukm.ipynb",
   "output_path": "notebooks/ingest.ipynb",
   "parameters": {
    "P": {
     "_opentelemetry_traceparent": "00-aa2c1325229534922579ed4d6b486d6e-055e9b90392e9c74-01",
     "pipeline.data_lake_root": "/pipeline-outputs/data-lake",
     "pipeline.github.actor": "matiasdahl",
     "pipeline.github.base_ref": "",
     "pipeline.github.event_name": "schedule",
     "pipeline.github.head_ref": "",
     "pipeline.github.job": "run-tests-pipeline-and-persist-pipeline-outputs",
     "pipeline.github.ref": "refs/heads/development",
     "pipeline.github.ref_name": "development",
     "pipeline.github.ref_type": "branch",
     "pipeline.github.repository": "matiasdahl/dev-mnist-digits-demo-pipeline",
     "pipeline.github.run_id": "3590161709",
     "pipeline.github.runner_name": "Hosted Agent",
     "pipeline.github.sha": "ace0d01011d5e914f1921450dd5a59c11367b38d",
     "pipeline.github.workflow": "Run automated tests, pipeline and deploy results to static reporting site",
     "pipeline.pipeline_run_id": "734ca702-880d-4b65-aa72-c5a90cc9b591",
     "pipeline.run_environment": "ci",
     "run.retry_nr": "10",
     "task.max_nr_retries": "15",
     "task.notebook": "notebooks/ingest.py",
     "task.num_cpus": 1,
     "task.timeout_s": "10"
    }
   },
   "start_time": "2022-12-01T06:45:28.306069",
   "version": "2.3.3"
  }
 },
 "nbformat": 4,
 "nbformat_minor": 5
}