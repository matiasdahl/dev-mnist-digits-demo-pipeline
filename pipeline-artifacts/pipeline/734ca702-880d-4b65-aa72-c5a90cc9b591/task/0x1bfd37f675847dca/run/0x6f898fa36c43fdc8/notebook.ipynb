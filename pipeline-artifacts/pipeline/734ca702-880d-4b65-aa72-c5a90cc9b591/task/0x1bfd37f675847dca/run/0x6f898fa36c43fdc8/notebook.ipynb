{
 "cells": [
  {
   "cell_type": "markdown",
   "id": "fecc6864",
   "metadata": {
    "papermill": {
     "duration": 0.004568,
     "end_time": "2022-12-01T06:45:35.445523",
     "exception": false,
     "start_time": "2022-12-01T06:45:35.440955",
     "status": "completed"
    },
    "tags": []
   },
   "source": [
    "# Split digits and labels into separate training and testing data sets"
   ]
  },
  {
   "cell_type": "markdown",
   "id": "fffedfbc",
   "metadata": {
    "papermill": {
     "duration": 0.002553,
     "end_time": "2022-12-01T06:45:35.451340",
     "exception": false,
     "start_time": "2022-12-01T06:45:35.448787",
     "status": "completed"
    },
    "tags": []
   },
   "source": [
    "### Determine run parameters"
   ]
  },
  {
   "cell_type": "code",
   "execution_count": 1,
   "id": "fec764a4",
   "metadata": {
    "execution": {
     "iopub.execute_input": "2022-12-01T06:45:35.458694Z",
     "iopub.status.busy": "2022-12-01T06:45:35.458321Z",
     "iopub.status.idle": "2022-12-01T06:45:35.473935Z",
     "shell.execute_reply": "2022-12-01T06:45:35.473336Z"
    },
    "lines_to_next_cell": 0,
    "papermill": {
     "duration": 0.022779,
     "end_time": "2022-12-01T06:45:35.476435",
     "exception": false,
     "start_time": "2022-12-01T06:45:35.453656",
     "status": "completed"
    },
    "tags": []
   },
   "outputs": [],
   "source": [
    "# ----------------- Parameters for interactive development --------------\n",
    "P = {\n",
    "    \"pipeline.data_lake_root\": \"/pipeline-outputs/data-lake\",\n",
    "    \"task.train_test_ratio\": 0.7,\n",
    "}"
   ]
  },
  {
   "cell_type": "code",
   "execution_count": 2,
   "id": "a43ed052",
   "metadata": {
    "execution": {
     "iopub.execute_input": "2022-12-01T06:45:35.483037Z",
     "iopub.status.busy": "2022-12-01T06:45:35.482807Z",
     "iopub.status.idle": "2022-12-01T06:45:35.486635Z",
     "shell.execute_reply": "2022-12-01T06:45:35.486127Z"
    },
    "lines_to_next_cell": 0,
    "papermill": {
     "duration": 0.010548,
     "end_time": "2022-12-01T06:45:35.490020",
     "exception": false,
     "start_time": "2022-12-01T06:45:35.479472",
     "status": "completed"
    },
    "tags": [
     "parameters"
    ]
   },
   "outputs": [],
   "source": [
    "# - During automated runs parameters will be injected in the below cell -"
   ]
  },
  {
   "cell_type": "code",
   "execution_count": 3,
   "id": "05144852",
   "metadata": {
    "execution": {
     "iopub.execute_input": "2022-12-01T06:45:35.495928Z",
     "iopub.status.busy": "2022-12-01T06:45:35.495706Z",
     "iopub.status.idle": "2022-12-01T06:45:35.500954Z",
     "shell.execute_reply": "2022-12-01T06:45:35.500541Z"
    },
    "papermill": {
     "duration": 0.010519,
     "end_time": "2022-12-01T06:45:35.502923",
     "exception": false,
     "start_time": "2022-12-01T06:45:35.492404",
     "status": "completed"
    },
    "tags": [
     "injected-parameters"
    ]
   },
   "outputs": [],
   "source": [
    "# Parameters\n",
    "P = {\n",
    "    \"pipeline.data_lake_root\": \"/pipeline-outputs/data-lake\",\n",
    "    \"pipeline.run_environment\": \"ci\",\n",
    "    \"pipeline.pipeline_run_id\": \"734ca702-880d-4b65-aa72-c5a90cc9b591\",\n",
    "    \"pipeline.github.repository\": \"matiasdahl/dev-mnist-digits-demo-pipeline\",\n",
    "    \"pipeline.github.workflow\": \"Run automated tests, pipeline and deploy results to static reporting site\",\n",
    "    \"pipeline.github.runner_name\": \"Hosted Agent\",\n",
    "    \"pipeline.github.run_id\": \"3590161709\",\n",
    "    \"pipeline.github.actor\": \"matiasdahl\",\n",
    "    \"pipeline.github.job\": \"run-tests-pipeline-and-persist-pipeline-outputs\",\n",
    "    \"pipeline.github.base_ref\": \"\",\n",
    "    \"pipeline.github.head_ref\": \"\",\n",
    "    \"pipeline.github.sha\": \"ace0d01011d5e914f1921450dd5a59c11367b38d\",\n",
    "    \"pipeline.github.ref\": \"refs/heads/development\",\n",
    "    \"pipeline.github.ref_type\": \"branch\",\n",
    "    \"pipeline.github.ref_name\": \"development\",\n",
    "    \"pipeline.github.event_name\": \"schedule\",\n",
    "    \"task.train_test_ratio\": 0.7,\n",
    "    \"task.notebook\": \"notebooks/split-train-test.py\",\n",
    "    \"task.max_nr_retries\": \"1\",\n",
    "    \"run.retry_nr\": \"0\",\n",
    "    \"task.timeout_s\": \"None\",\n",
    "    \"task.num_cpus\": 1,\n",
    "    \"_opentelemetry_traceparent\": \"00-aa2c1325229534922579ed4d6b486d6e-6e1fea4487844da1-01\",\n",
    "}\n"
   ]
  },
  {
   "cell_type": "code",
   "execution_count": 4,
   "id": "0cce6be4",
   "metadata": {
    "execution": {
     "iopub.execute_input": "2022-12-01T06:45:35.509256Z",
     "iopub.status.busy": "2022-12-01T06:45:35.508921Z",
     "iopub.status.idle": "2022-12-01T06:45:35.511908Z",
     "shell.execute_reply": "2022-12-01T06:45:35.511330Z"
    },
    "lines_to_next_cell": 0,
    "papermill": {
     "duration": 0.008732,
     "end_time": "2022-12-01T06:45:35.514321",
     "exception": false,
     "start_time": "2022-12-01T06:45:35.505589",
     "status": "completed"
    },
    "tags": []
   },
   "outputs": [],
   "source": [
    "# -----------------------------------------------------------------------"
   ]
  },
  {
   "cell_type": "markdown",
   "id": "d5e67e80",
   "metadata": {
    "papermill": {
     "duration": 0.003521,
     "end_time": "2022-12-01T06:45:35.520351",
     "exception": false,
     "start_time": "2022-12-01T06:45:35.516830",
     "status": "completed"
    },
    "tags": []
   },
   "source": [
    "---"
   ]
  },
  {
   "cell_type": "markdown",
   "id": "7ccd8e0c",
   "metadata": {
    "lines_to_next_cell": 2,
    "papermill": {
     "duration": 0.002405,
     "end_time": "2022-12-01T06:45:35.525230",
     "exception": false,
     "start_time": "2022-12-01T06:45:35.522825",
     "status": "completed"
    },
    "tags": []
   },
   "source": [
    "### Notebook code"
   ]
  },
  {
   "cell_type": "code",
   "execution_count": 5,
   "id": "d628995a",
   "metadata": {
    "execution": {
     "iopub.execute_input": "2022-12-01T06:45:35.532498Z",
     "iopub.status.busy": "2022-12-01T06:45:35.532253Z",
     "iopub.status.idle": "2022-12-01T06:45:36.089664Z",
     "shell.execute_reply": "2022-12-01T06:45:36.088801Z"
    },
    "papermill": {
     "duration": 0.563167,
     "end_time": "2022-12-01T06:45:36.091722",
     "exception": false,
     "start_time": "2022-12-01T06:45:35.528555",
     "status": "completed"
    },
    "tags": []
   },
   "outputs": [
    {
     "name": "stderr",
     "output_type": "stream",
     "text": [
      "2022-12-01 06:45:35,908\tINFO worker.py:842 -- Connecting to existing Ray cluster at address: 172.17.0.2:6379\n"
     ]
    }
   ],
   "source": [
    "from common.io import datalake_root, read_numpy, write_numpy\n",
    "from pynb_dag_runner.tasks.task_opentelemetry_logging import PydarLogger\n",
    "\n",
    "logger = PydarLogger(P)"
   ]
  },
  {
   "cell_type": "markdown",
   "id": "fb7ea5ae",
   "metadata": {
    "papermill": {
     "duration": 0.003461,
     "end_time": "2022-12-01T06:45:36.098487",
     "exception": false,
     "start_time": "2022-12-01T06:45:36.095026",
     "status": "completed"
    },
    "tags": []
   },
   "source": [
    "## Load and split digits data"
   ]
  },
  {
   "cell_type": "code",
   "execution_count": 6,
   "id": "1d8fb74e",
   "metadata": {
    "execution": {
     "iopub.execute_input": "2022-12-01T06:45:36.105493Z",
     "iopub.status.busy": "2022-12-01T06:45:36.105146Z",
     "iopub.status.idle": "2022-12-01T06:45:36.111815Z",
     "shell.execute_reply": "2022-12-01T06:45:36.111074Z"
    },
    "papermill": {
     "duration": 0.012373,
     "end_time": "2022-12-01T06:45:36.113528",
     "exception": false,
     "start_time": "2022-12-01T06:45:36.101155",
     "status": "completed"
    },
    "tags": []
   },
   "outputs": [],
   "source": [
    "X = read_numpy(datalake_root(P) / \"raw\" / \"digits.numpy\")\n",
    "y = read_numpy(datalake_root(P) / \"raw\" / \"labels.numpy\")"
   ]
  },
  {
   "cell_type": "code",
   "execution_count": 7,
   "id": "196a1732",
   "metadata": {
    "execution": {
     "iopub.execute_input": "2022-12-01T06:45:36.119323Z",
     "iopub.status.busy": "2022-12-01T06:45:36.119138Z",
     "iopub.status.idle": "2022-12-01T06:45:36.510220Z",
     "shell.execute_reply": "2022-12-01T06:45:36.509460Z"
    },
    "papermill": {
     "duration": 0.396135,
     "end_time": "2022-12-01T06:45:36.512069",
     "exception": false,
     "start_time": "2022-12-01T06:45:36.115934",
     "status": "completed"
    },
    "tags": []
   },
   "outputs": [],
   "source": [
    "from sklearn.model_selection import train_test_split\n",
    "\n",
    "X_train, X_test, y_train, y_test = train_test_split(\n",
    "    X,\n",
    "    y,\n",
    "    train_size=P[\"task.train_test_ratio\"],\n",
    "    test_size=None,\n",
    "    stratify=y,\n",
    "    shuffle=True,\n",
    "    random_state=1,\n",
    ")\n",
    "\n",
    "# assert nr of pixels per image is the same for all image vectors\n",
    "assert X.shape[1] == X_train.shape[1] == X_test.shape[1]\n",
    "\n",
    "# assert that the (X, y)-pairs have compatible sizes (for both train and test)\n",
    "assert X_train.shape[0] == len(y_train)\n",
    "assert X_test.shape[0] == len(y_test)\n",
    "\n",
    "# assert that all data is used\n",
    "assert len(y) == len(y_train) + len(y_test)"
   ]
  },
  {
   "cell_type": "code",
   "execution_count": 8,
   "id": "ad1736c9",
   "metadata": {
    "execution": {
     "iopub.execute_input": "2022-12-01T06:45:36.520425Z",
     "iopub.status.busy": "2022-12-01T06:45:36.519058Z",
     "iopub.status.idle": "2022-12-01T06:45:36.526008Z",
     "shell.execute_reply": "2022-12-01T06:45:36.525575Z"
    },
    "papermill": {
     "duration": 0.012384,
     "end_time": "2022-12-01T06:45:36.527319",
     "exception": false,
     "start_time": "2022-12-01T06:45:36.514935",
     "status": "completed"
    },
    "tags": []
   },
   "outputs": [
    {
     "name": "stdout",
     "output_type": "stream",
     "text": [
      " - Logging nr_digits_train (int) : 1257\n",
      " - Logging nr_digits_test (int) : 540\n"
     ]
    }
   ],
   "source": [
    "logger.log_int(\"nr_digits_train\", len(y_train))\n",
    "logger.log_int(\"nr_digits_test\", len(y_test))"
   ]
  },
  {
   "cell_type": "markdown",
   "id": "f26e0b45",
   "metadata": {
    "papermill": {
     "duration": 0.002679,
     "end_time": "2022-12-01T06:45:36.532486",
     "exception": false,
     "start_time": "2022-12-01T06:45:36.529807",
     "status": "completed"
    },
    "tags": []
   },
   "source": [
    "### Persist training and test data sets to separate files"
   ]
  },
  {
   "cell_type": "code",
   "execution_count": 9,
   "id": "3b8b083b",
   "metadata": {
    "execution": {
     "iopub.execute_input": "2022-12-01T06:45:36.538755Z",
     "iopub.status.busy": "2022-12-01T06:45:36.538494Z",
     "iopub.status.idle": "2022-12-01T06:45:36.543706Z",
     "shell.execute_reply": "2022-12-01T06:45:36.543263Z"
    },
    "papermill": {
     "duration": 0.010503,
     "end_time": "2022-12-01T06:45:36.545617",
     "exception": false,
     "start_time": "2022-12-01T06:45:36.535114",
     "status": "completed"
    },
    "tags": []
   },
   "outputs": [],
   "source": [
    "write_numpy(datalake_root(P) / \"train-data\" / \"digits.numpy\", X_train)\n",
    "write_numpy(datalake_root(P) / \"train-data\" / \"labels.numpy\", y_train)\n",
    "\n",
    "#\n",
    "write_numpy(datalake_root(P) / \"test-data\" / \"digits.numpy\", X_test)\n",
    "write_numpy(datalake_root(P) / \"test-data\" / \"labels.numpy\", y_test)"
   ]
  },
  {
   "cell_type": "code",
   "execution_count": null,
   "id": "33dfd3e9",
   "metadata": {
    "papermill": {
     "duration": 0.002542,
     "end_time": "2022-12-01T06:45:36.550791",
     "exception": false,
     "start_time": "2022-12-01T06:45:36.548249",
     "status": "completed"
    },
    "tags": []
   },
   "outputs": [],
   "source": []
  }
 ],
 "metadata": {
  "jupytext": {
   "cell_metadata_filter": "tags,-all",
   "main_language": "python",
   "notebook_metadata_filter": "-all"
  },
  "language_info": {
   "codemirror_mode": {
    "name": "ipython",
    "version": 3
   },
   "file_extension": ".py",
   "mimetype": "text/x-python",
   "name": "python",
   "nbconvert_exporter": "python",
   "pygments_lexer": "ipython3",
   "version": "3.8.10"
  },
  "papermill": {
   "default_parameters": {},
   "duration": 3.65136,
   "end_time": "2022-12-01T06:45:37.472500",
   "environment_variables": {},
   "exception": null,
   "input_path": "/home/host_user/workspace/mnist-demo-pipeline/mnist-demo-pipeline/notebooks/temp-notebook-bkeiwsja.ipynb",
   "output_path": "notebooks/split-train-test.ipynb",
   "parameters": {
    "P": {
     "_opentelemetry_traceparent": "00-aa2c1325229534922579ed4d6b486d6e-6e1fea4487844da1-01",
     "pipeline.data_lake_root": "/pipeline-outputs/data-lake",
     "pipeline.github.actor": "matiasdahl",
     "pipeline.github.base_ref": "",
     "pipeline.github.event_name": "schedule",
     "pipeline.github.head_ref": "",
     "pipeline.github.job": "run-tests-pipeline-and-persist-pipeline-outputs",
     "pipeline.github.ref": "refs/heads/development",
     "pipeline.github.ref_name": "development",
     "pipeline.github.ref_type": "branch",
     "pipeline.github.repository": "matiasdahl/dev-mnist-digits-demo-pipeline",
     "pipeline.github.run_id": "3590161709",
     "pipeline.github.runner_name": "Hosted Agent",
     "pipeline.github.sha": "ace0d01011d5e914f1921450dd5a59c11367b38d",
     "pipeline.github.workflow": "Run automated tests, pipeline and deploy results to static reporting site",
     "pipeline.pipeline_run_id": "734ca702-880d-4b65-aa72-c5a90cc9b591",
     "pipeline.run_environment": "ci",
     "run.retry_nr": "0",
     "task.max_nr_retries": "1",
     "task.notebook": "notebooks/split-train-test.py",
     "task.num_cpus": 1,
     "task.timeout_s": "None",
     "task.train_test_ratio": 0.7
    }
   },
   "start_time": "2022-12-01T06:45:33.821140",
   "version": "2.3.3"
  }
 },
 "nbformat": 4,
 "nbformat_minor": 5
}