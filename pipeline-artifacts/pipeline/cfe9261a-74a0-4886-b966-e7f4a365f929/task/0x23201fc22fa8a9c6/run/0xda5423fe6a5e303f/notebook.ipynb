{
 "cells": [
  {
   "cell_type": "markdown",
   "id": "6e499b30",
   "metadata": {
    "papermill": {
     "duration": 0.006232,
     "end_time": "2022-11-30T06:44:47.146536",
     "exception": false,
     "start_time": "2022-11-30T06:44:47.140304",
     "status": "completed"
    },
    "tags": []
   },
   "source": [
    "# Benchmark model\n",
    "\n",
    "The purpose of this notebook is to benchmark persisted onnx-model (trained in the\n",
    "previous step) against evaluation set."
   ]
  },
  {
   "cell_type": "markdown",
   "id": "7307a1b1",
   "metadata": {
    "papermill": {
     "duration": 0.00434,
     "end_time": "2022-11-30T06:44:47.155239",
     "exception": false,
     "start_time": "2022-11-30T06:44:47.150899",
     "status": "completed"
    },
    "tags": []
   },
   "source": [
    "### Determine run parameters"
   ]
  },
  {
   "cell_type": "code",
   "execution_count": 1,
   "id": "db7fa404",
   "metadata": {
    "execution": {
     "iopub.execute_input": "2022-11-30T06:44:47.164924Z",
     "iopub.status.busy": "2022-11-30T06:44:47.164108Z",
     "iopub.status.idle": "2022-11-30T06:44:47.171814Z",
     "shell.execute_reply": "2022-11-30T06:44:47.171303Z"
    },
    "lines_to_next_cell": 0,
    "papermill": {
     "duration": 0.020019,
     "end_time": "2022-11-30T06:44:47.179196",
     "exception": false,
     "start_time": "2022-11-30T06:44:47.159177",
     "status": "completed"
    },
    "tags": []
   },
   "outputs": [],
   "source": [
    "# ----------------- Parameters for interactive development --------------\n",
    "P = {\n",
    "    \"pipeline.data_lake_root\": \"/pipeline-outputs/data-lake\",\n",
    "    \"task.nr_train_images\": 600,\n",
    "}"
   ]
  },
  {
   "cell_type": "code",
   "execution_count": 2,
   "id": "f768d54b",
   "metadata": {
    "execution": {
     "iopub.execute_input": "2022-11-30T06:44:47.188637Z",
     "iopub.status.busy": "2022-11-30T06:44:47.188408Z",
     "iopub.status.idle": "2022-11-30T06:44:47.192379Z",
     "shell.execute_reply": "2022-11-30T06:44:47.191527Z"
    },
    "lines_to_next_cell": 0,
    "papermill": {
     "duration": 0.011676,
     "end_time": "2022-11-30T06:44:47.194798",
     "exception": false,
     "start_time": "2022-11-30T06:44:47.183122",
     "status": "completed"
    },
    "tags": [
     "parameters"
    ]
   },
   "outputs": [],
   "source": [
    "# - During automated runs parameters will be injected in the below cell -"
   ]
  },
  {
   "cell_type": "code",
   "execution_count": 3,
   "id": "c709084c",
   "metadata": {
    "execution": {
     "iopub.execute_input": "2022-11-30T06:44:47.204329Z",
     "iopub.status.busy": "2022-11-30T06:44:47.204082Z",
     "iopub.status.idle": "2022-11-30T06:44:47.209178Z",
     "shell.execute_reply": "2022-11-30T06:44:47.208687Z"
    },
    "papermill": {
     "duration": 0.012311,
     "end_time": "2022-11-30T06:44:47.211571",
     "exception": false,
     "start_time": "2022-11-30T06:44:47.199260",
     "status": "completed"
    },
    "tags": [
     "injected-parameters"
    ]
   },
   "outputs": [],
   "source": [
    "# Parameters\n",
    "P = {\n",
    "    \"pipeline.data_lake_root\": \"/pipeline-outputs/data-lake\",\n",
    "    \"pipeline.run_environment\": \"ci\",\n",
    "    \"pipeline.pipeline_run_id\": \"cfe9261a-74a0-4886-b966-e7f4a365f929\",\n",
    "    \"pipeline.github.repository\": \"matiasdahl/dev-mnist-digits-demo-pipeline\",\n",
    "    \"pipeline.github.workflow\": \"Run automated tests, pipeline and deploy results to static reporting site\",\n",
    "    \"pipeline.github.runner_name\": \"Hosted Agent\",\n",
    "    \"pipeline.github.run_id\": \"3580942443\",\n",
    "    \"pipeline.github.actor\": \"matiasdahl\",\n",
    "    \"pipeline.github.job\": \"run-tests-pipeline-and-persist-pipeline-outputs\",\n",
    "    \"pipeline.github.base_ref\": \"\",\n",
    "    \"pipeline.github.head_ref\": \"\",\n",
    "    \"pipeline.github.sha\": \"ace0d01011d5e914f1921450dd5a59c11367b38d\",\n",
    "    \"pipeline.github.ref\": \"refs/heads/development\",\n",
    "    \"pipeline.github.ref_type\": \"branch\",\n",
    "    \"pipeline.github.ref_name\": \"development\",\n",
    "    \"pipeline.github.event_name\": \"schedule\",\n",
    "    \"task.nr_train_images\": 600,\n",
    "    \"task.notebook\": \"notebooks/benchmark-model.py\",\n",
    "    \"task.max_nr_retries\": \"1\",\n",
    "    \"run.retry_nr\": \"0\",\n",
    "    \"task.timeout_s\": \"None\",\n",
    "    \"task.num_cpus\": 1,\n",
    "    \"_opentelemetry_traceparent\": \"00-9864e09d0e57f97d6c7f2117157bde4f-746630b21c7fb056-01\",\n",
    "}\n"
   ]
  },
  {
   "cell_type": "code",
   "execution_count": 4,
   "id": "feee5f07",
   "metadata": {
    "execution": {
     "iopub.execute_input": "2022-11-30T06:44:47.221729Z",
     "iopub.status.busy": "2022-11-30T06:44:47.221523Z",
     "iopub.status.idle": "2022-11-30T06:44:47.224067Z",
     "shell.execute_reply": "2022-11-30T06:44:47.223520Z"
    },
    "lines_to_next_cell": 0,
    "papermill": {
     "duration": 0.01183,
     "end_time": "2022-11-30T06:44:47.227347",
     "exception": false,
     "start_time": "2022-11-30T06:44:47.215517",
     "status": "completed"
    },
    "tags": []
   },
   "outputs": [],
   "source": [
    "# -----------------------------------------------------------------------"
   ]
  },
  {
   "cell_type": "markdown",
   "id": "183bd38b",
   "metadata": {
    "papermill": {
     "duration": 0.003834,
     "end_time": "2022-11-30T06:44:47.235360",
     "exception": false,
     "start_time": "2022-11-30T06:44:47.231526",
     "status": "completed"
    },
    "tags": []
   },
   "source": [
    "---"
   ]
  },
  {
   "cell_type": "markdown",
   "id": "58ce094d",
   "metadata": {
    "lines_to_next_cell": 2,
    "papermill": {
     "duration": 0.004528,
     "end_time": "2022-11-30T06:44:47.244471",
     "exception": false,
     "start_time": "2022-11-30T06:44:47.239943",
     "status": "completed"
    },
    "tags": []
   },
   "source": [
    "### Notebook code"
   ]
  },
  {
   "cell_type": "code",
   "execution_count": 5,
   "id": "9dc0c389",
   "metadata": {
    "execution": {
     "iopub.execute_input": "2022-11-30T06:44:47.254687Z",
     "iopub.status.busy": "2022-11-30T06:44:47.254435Z",
     "iopub.status.idle": "2022-11-30T06:44:48.657438Z",
     "shell.execute_reply": "2022-11-30T06:44:48.656865Z"
    },
    "papermill": {
     "duration": 1.410056,
     "end_time": "2022-11-30T06:44:48.659295",
     "exception": false,
     "start_time": "2022-11-30T06:44:47.249239",
     "status": "completed"
    },
    "tags": []
   },
   "outputs": [
    {
     "name": "stderr",
     "output_type": "stream",
     "text": [
      "2022-11-30 06:44:48,485\tINFO worker.py:842 -- Connecting to existing Ray cluster at address: 172.17.0.2:6379\n"
     ]
    }
   ],
   "source": [
    "import itertools as it\n",
    "\n",
    "#\n",
    "import numpy as np\n",
    "import matplotlib.pyplot as plt\n",
    "\n",
    "#\n",
    "from pynb_dag_runner.tasks.task_opentelemetry_logging import PydarLogger\n",
    "\n",
    "#\n",
    "from common.io import datalake_root\n",
    "\n",
    "logger = PydarLogger(P)"
   ]
  },
  {
   "cell_type": "markdown",
   "id": "26d2af7b",
   "metadata": {
    "papermill": {
     "duration": 0.004933,
     "end_time": "2022-11-30T06:44:48.668986",
     "exception": false,
     "start_time": "2022-11-30T06:44:48.664053",
     "status": "completed"
    },
    "tags": []
   },
   "source": [
    "## Load persisted onnx-model and evaluation data"
   ]
  },
  {
   "cell_type": "code",
   "execution_count": 6,
   "id": "0f74af73",
   "metadata": {
    "execution": {
     "iopub.execute_input": "2022-11-30T06:44:48.679418Z",
     "iopub.status.busy": "2022-11-30T06:44:48.679070Z",
     "iopub.status.idle": "2022-11-30T06:44:48.682871Z",
     "shell.execute_reply": "2022-11-30T06:44:48.682320Z"
    },
    "papermill": {
     "duration": 0.01209,
     "end_time": "2022-11-30T06:44:48.685570",
     "exception": false,
     "start_time": "2022-11-30T06:44:48.673480",
     "status": "completed"
    },
    "tags": []
   },
   "outputs": [],
   "source": [
    "from common.io import read_onnx, get_onnx_inputs, get_onnx_outputs, read_numpy"
   ]
  },
  {
   "cell_type": "code",
   "execution_count": 7,
   "id": "85d5b71b",
   "metadata": {
    "execution": {
     "iopub.execute_input": "2022-11-30T06:44:48.695636Z",
     "iopub.status.busy": "2022-11-30T06:44:48.695389Z",
     "iopub.status.idle": "2022-11-30T06:44:48.706199Z",
     "shell.execute_reply": "2022-11-30T06:44:48.705679Z"
    },
    "lines_to_next_cell": 0,
    "papermill": {
     "duration": 0.01792,
     "end_time": "2022-11-30T06:44:48.707947",
     "exception": false,
     "start_time": "2022-11-30T06:44:48.690027",
     "status": "completed"
    },
    "tags": []
   },
   "outputs": [],
   "source": [
    "onnx_inference_session = read_onnx(\n",
    "    datalake_root(P)\n",
    "    / \"models\"\n",
    "    / f\"nr_train_images={P['task.nr_train_images']}\"\n",
    "    / \"model.onnx\"\n",
    ")"
   ]
  },
  {
   "cell_type": "markdown",
   "id": "a9ec99bb",
   "metadata": {
    "papermill": {
     "duration": 0.004721,
     "end_time": "2022-11-30T06:44:48.717319",
     "exception": false,
     "start_time": "2022-11-30T06:44:48.712598",
     "status": "completed"
    },
    "tags": []
   },
   "source": [
    "### Record structure of inputs and outputs for ONNX model\n",
    "\n",
    "(this should likely be done in training notebook)"
   ]
  },
  {
   "cell_type": "code",
   "execution_count": 8,
   "id": "38ae0c6f",
   "metadata": {
    "execution": {
     "iopub.execute_input": "2022-11-30T06:44:48.727262Z",
     "iopub.status.busy": "2022-11-30T06:44:48.727011Z",
     "iopub.status.idle": "2022-11-30T06:44:48.732541Z",
     "shell.execute_reply": "2022-11-30T06:44:48.732001Z"
    },
    "papermill": {
     "duration": 0.014228,
     "end_time": "2022-11-30T06:44:48.736127",
     "exception": false,
     "start_time": "2022-11-30T06:44:48.721899",
     "status": "completed"
    },
    "tags": []
   },
   "outputs": [
    {
     "name": "stdout",
     "output_type": "stream",
     "text": [
      "{\n",
      "  \"inputs\": [\n",
      "    {\n",
      "      \"name\": \"float_input_8x8_image\",\n",
      "      \"shape\": [\n",
      "        null,\n",
      "        64\n",
      "      ],\n",
      "      \"type\": \"tensor(float)\"\n",
      "    }\n",
      "  ],\n",
      "  \"outputs\": [\n",
      "    {\n",
      "      \"name\": \"output_label\",\n",
      "      \"shape\": [\n",
      "        null\n",
      "      ],\n",
      "      \"type\": \"tensor(int64)\"\n",
      "    },\n",
      "    {\n",
      "      \"name\": \"output_probability\",\n",
      "      \"shape\": [],\n",
      "      \"type\": \"seq(map(int64,tensor(float)))\"\n",
      "    }\n",
      "  ]\n",
      "}\n"
     ]
    }
   ],
   "source": [
    "import json\n",
    "\n",
    "onnx_io = json.dumps(\n",
    "    {\n",
    "        \"inputs\": get_onnx_inputs(onnx_inference_session),\n",
    "        \"outputs\": get_onnx_outputs(onnx_inference_session),\n",
    "    },\n",
    "    indent=2,\n",
    ")\n",
    "\n",
    "\n",
    "logger.log_artefact(\"onnx_io_structure.json\", onnx_io)\n",
    "print(onnx_io)"
   ]
  },
  {
   "cell_type": "markdown",
   "id": "c7a640e8",
   "metadata": {
    "papermill": {
     "duration": 0.004872,
     "end_time": "2022-11-30T06:44:48.745307",
     "exception": false,
     "start_time": "2022-11-30T06:44:48.740435",
     "status": "completed"
    },
    "tags": []
   },
   "source": [
    "### Evaluate model performance on evaluation data set"
   ]
  },
  {
   "cell_type": "code",
   "execution_count": 9,
   "id": "08223062",
   "metadata": {
    "execution": {
     "iopub.execute_input": "2022-11-30T06:44:48.755677Z",
     "iopub.status.busy": "2022-11-30T06:44:48.755441Z",
     "iopub.status.idle": "2022-11-30T06:44:48.759715Z",
     "shell.execute_reply": "2022-11-30T06:44:48.759186Z"
    },
    "papermill": {
     "duration": 0.012346,
     "end_time": "2022-11-30T06:44:48.762420",
     "exception": false,
     "start_time": "2022-11-30T06:44:48.750074",
     "status": "completed"
    },
    "tags": []
   },
   "outputs": [],
   "source": [
    "# load evaluation data\n",
    "X_test = read_numpy(datalake_root(P) / \"test-data\" / \"digits.numpy\")\n",
    "y_test = read_numpy(datalake_root(P) / \"test-data\" / \"labels.numpy\")"
   ]
  },
  {
   "cell_type": "code",
   "execution_count": 10,
   "id": "3934e8d7",
   "metadata": {
    "execution": {
     "iopub.execute_input": "2022-11-30T06:44:48.772268Z",
     "iopub.status.busy": "2022-11-30T06:44:48.772028Z",
     "iopub.status.idle": "2022-11-30T06:44:48.826008Z",
     "shell.execute_reply": "2022-11-30T06:44:48.825431Z"
    },
    "papermill": {
     "duration": 0.060996,
     "end_time": "2022-11-30T06:44:48.827830",
     "exception": false,
     "start_time": "2022-11-30T06:44:48.766834",
     "status": "completed"
    },
    "tags": []
   },
   "outputs": [],
   "source": [
    "def get_model_outputs(X, onnx_inference_session):\n",
    "    y_pred_labels, y_pred_map = onnx_inference_session.run(\n",
    "        [\"output_label\", \"output_probability\"],\n",
    "        {\"float_input_8x8_image\": X.astype(np.float32)},\n",
    "    )\n",
    "    y_pred_probs = np.array(\n",
    "        [[probabilities[digit] for digit in range(10)] for probabilities in y_pred_map]\n",
    "    )\n",
    "\n",
    "    assert y_pred_labels.shape == (X.shape[0],)\n",
    "    assert y_pred_probs.shape == (X.shape[0], 10)\n",
    "\n",
    "    return y_pred_labels, y_pred_probs\n",
    "\n",
    "\n",
    "# Note: as shown in the training notebook, the predicted labels and probabilities\n",
    "# computed below need not be compatible.\n",
    "y_pred_labels_test, y_pred_probs_test = get_model_outputs(\n",
    "    X_test, onnx_inference_session\n",
    ")"
   ]
  },
  {
   "cell_type": "markdown",
   "id": "1c7516bb",
   "metadata": {
    "papermill": {
     "duration": 0.004982,
     "end_time": "2022-11-30T06:44:48.837589",
     "exception": false,
     "start_time": "2022-11-30T06:44:48.832607",
     "status": "completed"
    },
    "tags": []
   },
   "source": [
    "### Confusion matrix"
   ]
  },
  {
   "cell_type": "code",
   "execution_count": 11,
   "id": "f636b908",
   "metadata": {
    "execution": {
     "iopub.execute_input": "2022-11-30T06:44:48.848159Z",
     "iopub.status.busy": "2022-11-30T06:44:48.847896Z",
     "iopub.status.idle": "2022-11-30T06:44:48.850785Z",
     "shell.execute_reply": "2022-11-30T06:44:48.850247Z"
    },
    "papermill": {
     "duration": 0.011404,
     "end_time": "2022-11-30T06:44:48.853266",
     "exception": false,
     "start_time": "2022-11-30T06:44:48.841862",
     "status": "completed"
    },
    "tags": []
   },
   "outputs": [],
   "source": [
    "# TODO"
   ]
  },
  {
   "cell_type": "markdown",
   "id": "b0769dff",
   "metadata": {
    "papermill": {
     "duration": 0.004266,
     "end_time": "2022-11-30T06:44:48.862381",
     "exception": false,
     "start_time": "2022-11-30T06:44:48.858115",
     "status": "completed"
    },
    "tags": []
   },
   "source": [
    "### Plot predicted probabilities for each classifier over all evaluation digit images"
   ]
  },
  {
   "cell_type": "code",
   "execution_count": 12,
   "id": "c9673d5d",
   "metadata": {
    "execution": {
     "iopub.execute_input": "2022-11-30T06:44:48.873068Z",
     "iopub.status.busy": "2022-11-30T06:44:48.872417Z",
     "iopub.status.idle": "2022-11-30T06:44:51.742718Z",
     "shell.execute_reply": "2022-11-30T06:44:51.742045Z"
    },
    "papermill": {
     "duration": 2.877485,
     "end_time": "2022-11-30T06:44:51.744609",
     "exception": false,
     "start_time": "2022-11-30T06:44:48.867124",
     "status": "completed"
    },
    "tags": []
   },
   "outputs": [
    {
     "data": {
      "image/png": "[encoded data removed]",
      "text/plain": [
       "<Figure size 1600x600 with 10 Axes>"
      ]
     },
     "metadata": {},
     "output_type": "display_data"
    }
   ],
   "source": [
    "def plot_per_digit_probabilities(y_pred_probs):\n",
    "    fig, axs = plt.subplots(nrows=2, ncols=5, figsize=(16, 6))\n",
    "\n",
    "    for (r, c), digit, ax in zip(\n",
    "        it.product(range(2), range(5)), range(10), axs.reshape(-1)\n",
    "    ):\n",
    "        ax.hist(y_pred_probs_test[:, digit], bins=20)\n",
    "\n",
    "        ax.set_title(f\"Digit {digit}\")\n",
    "        if r == 1 and c == 2:\n",
    "            ax.set_xlabel(\"probability\", fontsize=16)\n",
    "\n",
    "        if c == 0:\n",
    "            ax.set_ylabel(\"counts\", fontsize=16)\n",
    "        ax.set_yscale(\"log\")\n",
    "\n",
    "    fig.tight_layout()\n",
    "    fig.suptitle(\n",
    "        f\"Distributions of prediction probabilities for each digit \"\n",
    "        f\"(on evaluation data, n={y_pred_probs.shape[0]})\",\n",
    "        fontsize=20,\n",
    "    )\n",
    "    fig.tight_layout()\n",
    "    fig.show()\n",
    "\n",
    "    return fig\n",
    "\n",
    "\n",
    "fig = plot_per_digit_probabilities(y_pred_probs_test)"
   ]
  },
  {
   "cell_type": "markdown",
   "id": "e3f2142b",
   "metadata": {
    "papermill": {
     "duration": 0.008046,
     "end_time": "2022-11-30T06:44:51.759692",
     "exception": false,
     "start_time": "2022-11-30T06:44:51.751646",
     "status": "completed"
    },
    "tags": []
   },
   "source": [
    "From the above distributions we see that most digits have clear separation between\n",
    "high and lower probabilities. Morover, in each case there is roughly an order of\n",
    "magnitude more of digits with low probabilities. This is compatible with digits\n",
    "being roughly evenly distributed in the data."
   ]
  },
  {
   "cell_type": "code",
   "execution_count": 13,
   "id": "974a4f07",
   "metadata": {
    "execution": {
     "iopub.execute_input": "2022-11-30T06:44:51.772046Z",
     "iopub.status.busy": "2022-11-30T06:44:51.771376Z",
     "iopub.status.idle": "2022-11-30T06:44:52.208064Z",
     "shell.execute_reply": "2022-11-30T06:44:52.207376Z"
    },
    "papermill": {
     "duration": 0.444921,
     "end_time": "2022-11-30T06:44:52.210326",
     "exception": false,
     "start_time": "2022-11-30T06:44:51.765405",
     "status": "completed"
    },
    "tags": []
   },
   "outputs": [],
   "source": [
    "logger.log_figure(\"per-digit-probabilities.png\", fig)"
   ]
  },
  {
   "cell_type": "markdown",
   "id": "a44255c8",
   "metadata": {
    "papermill": {
     "duration": 0.005694,
     "end_time": "2022-11-30T06:44:52.221671",
     "exception": false,
     "start_time": "2022-11-30T06:44:52.215977",
     "status": "completed"
    },
    "tags": []
   },
   "source": [
    "### Plot ROC curves for individual one-vs-rest classifiers"
   ]
  },
  {
   "cell_type": "code",
   "execution_count": 14,
   "id": "c3816465",
   "metadata": {
    "execution": {
     "iopub.execute_input": "2022-11-30T06:44:52.234084Z",
     "iopub.status.busy": "2022-11-30T06:44:52.233815Z",
     "iopub.status.idle": "2022-11-30T06:44:52.615880Z",
     "shell.execute_reply": "2022-11-30T06:44:52.615301Z"
    },
    "papermill": {
     "duration": 0.390046,
     "end_time": "2022-11-30T06:44:52.617770",
     "exception": false,
     "start_time": "2022-11-30T06:44:52.227724",
     "status": "completed"
    },
    "tags": []
   },
   "outputs": [],
   "source": [
    "from sklearn import metrics"
   ]
  },
  {
   "cell_type": "code",
   "execution_count": 15,
   "id": "fcfd4fc7",
   "metadata": {
    "execution": {
     "iopub.execute_input": "2022-11-30T06:44:52.631227Z",
     "iopub.status.busy": "2022-11-30T06:44:52.630532Z",
     "iopub.status.idle": "2022-11-30T06:44:53.683618Z",
     "shell.execute_reply": "2022-11-30T06:44:53.682835Z"
    },
    "papermill": {
     "duration": 1.060864,
     "end_time": "2022-11-30T06:44:53.685237",
     "exception": false,
     "start_time": "2022-11-30T06:44:52.624373",
     "status": "completed"
    },
    "tags": []
   },
   "outputs": [
    {
     "data": {
      "image/png": "[encoded data removed]",
      "text/plain": [
       "<Figure size 1600x800 with 10 Axes>"
      ]
     },
     "metadata": {},
     "output_type": "display_data"
    }
   ],
   "source": [
    "def plot_roc_curves(y, y_pred_probs):\n",
    "    # based on example code\n",
    "    # https://scikit-learn.org/stable/auto_examples/model_selection/plot_roc.html\n",
    "\n",
    "    fig, axs = plt.subplots(nrows=2, ncols=5, figsize=(16, 8))\n",
    "\n",
    "    roc_auc_dict = {}\n",
    "\n",
    "    for (r, c), digit, ax in zip(\n",
    "        it.product(range(2), range(5)), range(10), axs.reshape(-1)\n",
    "    ):\n",
    "        fpr, tpr, _ = metrics.roc_curve(y == digit, y_pred_probs[:, digit])\n",
    "        auc = metrics.auc(fpr, tpr)\n",
    "        roc_auc_dict[str(digit)] = auc\n",
    "\n",
    "        ax.plot(fpr, tpr, label=f\"ROC AUC={round(auc, 3)}\")\n",
    "\n",
    "        ax.set_title(f\"\\nDigit {digit}\", fontsize=16)\n",
    "        if r == 1:\n",
    "            ax.set_xlabel(\"FPR\", fontsize=18)\n",
    "\n",
    "        if c == 0:\n",
    "            ax.set_ylabel(\"TPR\", fontsize=18)\n",
    "\n",
    "        ax.set_xlim([-0.05, 1.05])\n",
    "        ax.set_ylim([-0.05, 1.05])\n",
    "        ax.legend(loc=\"lower right\", frameon=False, fontsize=14)\n",
    "\n",
    "    fig.tight_layout()\n",
    "    fig.suptitle(\n",
    "        f\"ROC plots for one-vs-rest performances \"\n",
    "        f\"(on evaluation data, n={y_pred_probs_test.shape[1]}\",\n",
    "        fontsize=22,\n",
    "    )\n",
    "    fig.tight_layout()\n",
    "    fig.show()\n",
    "\n",
    "    return roc_auc_dict, fig\n",
    "\n",
    "\n",
    "roc_auc_dict, fig = plot_roc_curves(y_test, y_pred_probs_test)"
   ]
  },
  {
   "cell_type": "code",
   "execution_count": 16,
   "id": "141fdb74",
   "metadata": {
    "execution": {
     "iopub.execute_input": "2022-11-30T06:44:53.699014Z",
     "iopub.status.busy": "2022-11-30T06:44:53.698770Z",
     "iopub.status.idle": "2022-11-30T06:44:53.938987Z",
     "shell.execute_reply": "2022-11-30T06:44:53.938289Z"
    },
    "papermill": {
     "duration": 0.249149,
     "end_time": "2022-11-30T06:44:53.940728",
     "exception": false,
     "start_time": "2022-11-30T06:44:53.691579",
     "status": "completed"
    },
    "tags": []
   },
   "outputs": [],
   "source": [
    "logger.log_figure(\"per-digit-roc-curves.png\", fig)"
   ]
  },
  {
   "cell_type": "code",
   "execution_count": 17,
   "id": "033d67cc",
   "metadata": {
    "execution": {
     "iopub.execute_input": "2022-11-30T06:44:53.955615Z",
     "iopub.status.busy": "2022-11-30T06:44:53.955277Z",
     "iopub.status.idle": "2022-11-30T06:44:53.960408Z",
     "shell.execute_reply": "2022-11-30T06:44:53.959785Z"
    },
    "papermill": {
     "duration": 0.014523,
     "end_time": "2022-11-30T06:44:53.962444",
     "exception": false,
     "start_time": "2022-11-30T06:44:53.947921",
     "status": "completed"
    },
    "tags": []
   },
   "outputs": [
    {
     "data": {
      "text/plain": [
       "{'0': 1.0,\n",
       " '1': 0.9991377694470478,\n",
       " '2': 1.0,\n",
       " '3': 0.9998125585754452,\n",
       " '4': 0.9991236092059138,\n",
       " '5': 0.998912839737582,\n",
       " '6': 0.999923792104862,\n",
       " '7': 0.9998475842097241,\n",
       " '8': 0.9946011979823455,\n",
       " '9': 0.998742569730224}"
      ]
     },
     "execution_count": 17,
     "metadata": {},
     "output_type": "execute_result"
    }
   ],
   "source": [
    "roc_auc_dict"
   ]
  },
  {
   "cell_type": "code",
   "execution_count": 18,
   "id": "2233499b",
   "metadata": {
    "execution": {
     "iopub.execute_input": "2022-11-30T06:44:53.976894Z",
     "iopub.status.busy": "2022-11-30T06:44:53.976555Z",
     "iopub.status.idle": "2022-11-30T06:44:53.980868Z",
     "shell.execute_reply": "2022-11-30T06:44:53.980225Z"
    },
    "papermill": {
     "duration": 0.014387,
     "end_time": "2022-11-30T06:44:53.983767",
     "exception": false,
     "start_time": "2022-11-30T06:44:53.969380",
     "status": "completed"
    },
    "tags": []
   },
   "outputs": [
    {
     "name": "stdout",
     "output_type": "stream",
     "text": [
      " - Logging roc_auc_per_digit (json) : {'0': 1.0, '1': 0.9991377694470478, '2': 1.0, '3': 0.9998125585754452, '4': 0.9991236092059138, '5': 0.998912839737582, '6': 0.999923792104862, '7': 0.9998475842097241, '8': 0.9946011979823455, '9': 0.998742569730224}\n"
     ]
    }
   ],
   "source": [
    "logger.log_value(\"roc_auc_per_digit\", roc_auc_dict)"
   ]
  },
  {
   "cell_type": "markdown",
   "id": "4484fa2b",
   "metadata": {
    "papermill": {
     "duration": 0.006221,
     "end_time": "2022-11-30T06:44:53.996318",
     "exception": false,
     "start_time": "2022-11-30T06:44:53.990097",
     "status": "completed"
    },
    "tags": []
   },
   "source": [
    "### Compute and log mean ROC AUC score averaged over all digits"
   ]
  },
  {
   "cell_type": "code",
   "execution_count": 19,
   "id": "453dd6e3",
   "metadata": {
    "execution": {
     "iopub.execute_input": "2022-11-30T06:44:54.010301Z",
     "iopub.status.busy": "2022-11-30T06:44:54.009916Z",
     "iopub.status.idle": "2022-11-30T06:44:54.022011Z",
     "shell.execute_reply": "2022-11-30T06:44:54.021285Z"
    },
    "papermill": {
     "duration": 0.020821,
     "end_time": "2022-11-30T06:44:54.023564",
     "exception": false,
     "start_time": "2022-11-30T06:44:54.002743",
     "status": "completed"
    },
    "tags": []
   },
   "outputs": [
    {
     "name": "stdout",
     "output_type": "stream",
     "text": [
      " - Logging roc_auc_class_mean (float) : 0.9990101920993146\n"
     ]
    }
   ],
   "source": [
    "roc_auc_macro = np.mean(list(roc_auc_dict.values()))\n",
    "\n",
    "logger.log_float(\"roc_auc_class_mean\", roc_auc_macro)\n",
    "\n",
    "# assert that the same value can be computed directly using sklearn\n",
    "assert roc_auc_macro == metrics.roc_auc_score(\n",
    "    y_test, y_pred_probs_test, average=\"macro\", multi_class=\"ovr\"\n",
    ")"
   ]
  },
  {
   "cell_type": "code",
   "execution_count": 20,
   "id": "4c73537e",
   "metadata": {
    "execution": {
     "iopub.execute_input": "2022-11-30T06:44:54.038361Z",
     "iopub.status.busy": "2022-11-30T06:44:54.038061Z",
     "iopub.status.idle": "2022-11-30T06:44:54.042087Z",
     "shell.execute_reply": "2022-11-30T06:44:54.041467Z"
    },
    "lines_to_next_cell": 0,
    "papermill": {
     "duration": 0.013314,
     "end_time": "2022-11-30T06:44:54.043568",
     "exception": false,
     "start_time": "2022-11-30T06:44:54.030254",
     "status": "completed"
    },
    "tags": []
   },
   "outputs": [],
   "source": [
    "# ---"
   ]
  },
  {
   "cell_type": "code",
   "execution_count": null,
   "id": "cb336577",
   "metadata": {
    "papermill": {
     "duration": 0.006414,
     "end_time": "2022-11-30T06:44:54.056971",
     "exception": false,
     "start_time": "2022-11-30T06:44:54.050557",
     "status": "completed"
    },
    "tags": []
   },
   "outputs": [],
   "source": []
  }
 ],
 "metadata": {
  "jupytext": {
   "cell_metadata_filter": "tags,-all",
   "main_language": "python",
   "notebook_metadata_filter": "-all"
  },
  "language_info": {
   "codemirror_mode": {
    "name": "ipython",
    "version": 3
   },
   "file_extension": ".py",
   "mimetype": "text/x-python",
   "name": "python",
   "nbconvert_exporter": "python",
   "pygments_lexer": "ipython3",
   "version": "3.8.10"
  },
  "papermill": {
   "default_parameters": {},
   "duration": 9.331266,
   "end_time": "2022-11-30T06:44:55.183530",
   "environment_variables": {},
   "exception": null,
   "input_path": "/home/host_user/workspace/mnist-demo-pipeline/mnist-demo-pipeline/notebooks/temp-notebook-6s1jtr4m.ipynb",
   "output_path": "notebooks/benchmark-model.ipynb",
   "parameters": {
    "P": {
     "_opentelemetry_traceparent": "00-9864e09d0e57f97d6c7f2117157bde4f-746630b21c7fb056-01",
     "pipeline.data_lake_root": "/pipeline-outputs/data-lake",
     "pipeline.github.actor": "matiasdahl",
     "pipeline.github.base_ref": "",
     "pipeline.github.event_name": "schedule",
     "pipeline.github.head_ref": "",
     "pipeline.github.job": "run-tests-pipeline-and-persist-pipeline-outputs",
     "pipeline.github.ref": "refs/heads/development",
     "pipeline.github.ref_name": "development",
     "pipeline.github.ref_type": "branch",
     "pipeline.github.repository": "matiasdahl/dev-mnist-digits-demo-pipeline",
     "pipeline.github.run_id": "3580942443",
     "pipeline.github.runner_name": "Hosted Agent",
     "pipeline.github.sha": "ace0d01011d5e914f1921450dd5a59c11367b38d",
     "pipeline.github.workflow": "Run automated tests, pipeline and deploy results to static reporting site",
     "pipeline.pipeline_run_id": "cfe9261a-74a0-4886-b966-e7f4a365f929",
     "pipeline.run_environment": "ci",
     "run.retry_nr": "0",
     "task.max_nr_retries": "1",
     "task.notebook": "notebooks/benchmark-model.py",
     "task.nr_train_images": 600,
     "task.num_cpus": 1,
     "task.timeout_s": "None"
    }
   },
   "start_time": "2022-11-30T06:44:45.852264",
   "version": "2.3.3"
  }
 },
 "nbformat": 4,
 "nbformat_minor": 5
}