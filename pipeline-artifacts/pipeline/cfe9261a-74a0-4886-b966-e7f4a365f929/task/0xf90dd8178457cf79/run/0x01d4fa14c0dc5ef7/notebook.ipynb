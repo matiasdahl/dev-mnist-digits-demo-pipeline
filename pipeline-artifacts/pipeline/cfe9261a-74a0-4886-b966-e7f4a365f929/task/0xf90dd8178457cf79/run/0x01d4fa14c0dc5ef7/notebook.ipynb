{
 "cells": [
  {
   "cell_type": "markdown",
   "id": "35fc10c9",
   "metadata": {
    "papermill": {
     "duration": 0.024084,
     "end_time": "2022-11-30T06:44:19.460618",
     "exception": false,
     "start_time": "2022-11-30T06:44:19.436534",
     "status": "completed"
    },
    "tags": []
   },
   "source": [
    "# Ingest toy version of MNIST digit data from sklearn"
   ]
  },
  {
   "cell_type": "markdown",
   "id": "bae35364",
   "metadata": {
    "papermill": {
     "duration": 0.002371,
     "end_time": "2022-11-30T06:44:19.465945",
     "exception": false,
     "start_time": "2022-11-30T06:44:19.463574",
     "status": "completed"
    },
    "tags": []
   },
   "source": [
    "### Determine run parameters"
   ]
  },
  {
   "cell_type": "code",
   "execution_count": 1,
   "id": "b4b269ac",
   "metadata": {
    "execution": {
     "iopub.execute_input": "2022-11-30T06:44:19.472352Z",
     "iopub.status.busy": "2022-11-30T06:44:19.471488Z",
     "iopub.status.idle": "2022-11-30T06:44:19.479255Z",
     "shell.execute_reply": "2022-11-30T06:44:19.478628Z"
    },
    "lines_to_next_cell": 0,
    "papermill": {
     "duration": 0.012666,
     "end_time": "2022-11-30T06:44:19.480810",
     "exception": false,
     "start_time": "2022-11-30T06:44:19.468144",
     "status": "completed"
    },
    "tags": []
   },
   "outputs": [],
   "source": [
    "# ----------------- Parameters for interactive development --------------\n",
    "P = {\n",
    "    \"pipeline.run_environment\": \"dev\",\n",
    "    \"pipeline.data_lake_root\": \"/pipeline-outputs/data-lake\",\n",
    "    \"run.retry_nr\": \"1\",\n",
    "}"
   ]
  },
  {
   "cell_type": "code",
   "execution_count": 2,
   "id": "8fbce1ef",
   "metadata": {
    "execution": {
     "iopub.execute_input": "2022-11-30T06:44:19.487011Z",
     "iopub.status.busy": "2022-11-30T06:44:19.486630Z",
     "iopub.status.idle": "2022-11-30T06:44:19.489495Z",
     "shell.execute_reply": "2022-11-30T06:44:19.489027Z"
    },
    "lines_to_next_cell": 0,
    "papermill": {
     "duration": 0.007296,
     "end_time": "2022-11-30T06:44:19.490868",
     "exception": false,
     "start_time": "2022-11-30T06:44:19.483572",
     "status": "completed"
    },
    "tags": [
     "parameters"
    ]
   },
   "outputs": [],
   "source": [
    "# - During automated runs parameters will be injected in the below cell -"
   ]
  },
  {
   "cell_type": "code",
   "execution_count": 3,
   "id": "8834d68a",
   "metadata": {
    "execution": {
     "iopub.execute_input": "2022-11-30T06:44:19.497058Z",
     "iopub.status.busy": "2022-11-30T06:44:19.496518Z",
     "iopub.status.idle": "2022-11-30T06:44:19.501561Z",
     "shell.execute_reply": "2022-11-30T06:44:19.500996Z"
    },
    "papermill": {
     "duration": 0.009561,
     "end_time": "2022-11-30T06:44:19.503011",
     "exception": false,
     "start_time": "2022-11-30T06:44:19.493450",
     "status": "completed"
    },
    "tags": [
     "injected-parameters"
    ]
   },
   "outputs": [],
   "source": [
    "# Parameters\n",
    "P = {\n",
    "    \"pipeline.data_lake_root\": \"/pipeline-outputs/data-lake\",\n",
    "    \"pipeline.run_environment\": \"ci\",\n",
    "    \"pipeline.pipeline_run_id\": \"cfe9261a-74a0-4886-b966-e7f4a365f929\",\n",
    "    \"pipeline.github.repository\": \"matiasdahl/dev-mnist-digits-demo-pipeline\",\n",
    "    \"pipeline.github.workflow\": \"Run automated tests, pipeline and deploy results to static reporting site\",\n",
    "    \"pipeline.github.runner_name\": \"Hosted Agent\",\n",
    "    \"pipeline.github.run_id\": \"3580942443\",\n",
    "    \"pipeline.github.actor\": \"matiasdahl\",\n",
    "    \"pipeline.github.job\": \"run-tests-pipeline-and-persist-pipeline-outputs\",\n",
    "    \"pipeline.github.base_ref\": \"\",\n",
    "    \"pipeline.github.head_ref\": \"\",\n",
    "    \"pipeline.github.sha\": \"ace0d01011d5e914f1921450dd5a59c11367b38d\",\n",
    "    \"pipeline.github.ref\": \"refs/heads/development\",\n",
    "    \"pipeline.github.ref_type\": \"branch\",\n",
    "    \"pipeline.github.ref_name\": \"development\",\n",
    "    \"pipeline.github.event_name\": \"schedule\",\n",
    "    \"task.notebook\": \"notebooks/ingest.py\",\n",
    "    \"task.max_nr_retries\": \"15\",\n",
    "    \"run.retry_nr\": \"10\",\n",
    "    \"task.timeout_s\": \"10\",\n",
    "    \"task.num_cpus\": 1,\n",
    "    \"_opentelemetry_traceparent\": \"00-9864e09d0e57f97d6c7f2117157bde4f-249340705d0128cc-01\",\n",
    "}\n"
   ]
  },
  {
   "cell_type": "code",
   "execution_count": 4,
   "id": "8e4a99cc",
   "metadata": {
    "execution": {
     "iopub.execute_input": "2022-11-30T06:44:19.509020Z",
     "iopub.status.busy": "2022-11-30T06:44:19.508464Z",
     "iopub.status.idle": "2022-11-30T06:44:19.511335Z",
     "shell.execute_reply": "2022-11-30T06:44:19.510802Z"
    },
    "lines_to_next_cell": 0,
    "papermill": {
     "duration": 0.00746,
     "end_time": "2022-11-30T06:44:19.512821",
     "exception": false,
     "start_time": "2022-11-30T06:44:19.505361",
     "status": "completed"
    },
    "tags": []
   },
   "outputs": [],
   "source": [
    "# -----------------------------------------------------------------------"
   ]
  },
  {
   "cell_type": "markdown",
   "id": "bce0a47b",
   "metadata": {
    "lines_to_next_cell": 2,
    "papermill": {
     "duration": 0.002389,
     "end_time": "2022-11-30T06:44:19.517456",
     "exception": false,
     "start_time": "2022-11-30T06:44:19.515067",
     "status": "completed"
    },
    "tags": []
   },
   "source": [
    "---"
   ]
  },
  {
   "cell_type": "markdown",
   "id": "2898a80c",
   "metadata": {
    "papermill": {
     "duration": 0.002171,
     "end_time": "2022-11-30T06:44:19.521935",
     "exception": false,
     "start_time": "2022-11-30T06:44:19.519764",
     "status": "completed"
    },
    "tags": []
   },
   "source": [
    "### Simulate different types of failures (for testing timeout and retry logic)"
   ]
  },
  {
   "cell_type": "code",
   "execution_count": 5,
   "id": "7055f2ce",
   "metadata": {
    "execution": {
     "iopub.execute_input": "2022-11-30T06:44:19.527676Z",
     "iopub.status.busy": "2022-11-30T06:44:19.527285Z",
     "iopub.status.idle": "2022-11-30T06:44:19.958737Z",
     "shell.execute_reply": "2022-11-30T06:44:19.958035Z"
    },
    "papermill": {
     "duration": 0.43657,
     "end_time": "2022-11-30T06:44:19.960854",
     "exception": false,
     "start_time": "2022-11-30T06:44:19.524284",
     "status": "completed"
    },
    "tags": []
   },
   "outputs": [
    {
     "name": "stderr",
     "output_type": "stream",
     "text": [
      "2022-11-30 06:44:19,812\tINFO worker.py:842 -- Connecting to existing Ray cluster at address: 172.17.0.2:6379\n"
     ]
    }
   ],
   "source": [
    "from pynb_dag_runner.tasks.task_opentelemetry_logging import PydarLogger\n",
    "\n",
    "logger = PydarLogger(P)"
   ]
  },
  {
   "cell_type": "code",
   "execution_count": 6,
   "id": "273aa001",
   "metadata": {
    "execution": {
     "iopub.execute_input": "2022-11-30T06:44:19.968073Z",
     "iopub.status.busy": "2022-11-30T06:44:19.967469Z",
     "iopub.status.idle": "2022-11-30T06:44:19.972267Z",
     "shell.execute_reply": "2022-11-30T06:44:19.971721Z"
    },
    "papermill": {
     "duration": 0.010095,
     "end_time": "2022-11-30T06:44:19.973815",
     "exception": false,
     "start_time": "2022-11-30T06:44:19.963720",
     "status": "completed"
    },
    "tags": []
   },
   "outputs": [],
   "source": [
    "import time, random\n",
    "\n",
    "\n",
    "def maybe_crash(retry_nr: int, run_environment: str):\n",
    "    if retry_nr == 2 and run_environment == \"ci\":\n",
    "        time.sleep(1e6)\n",
    "\n",
    "    max_retry_nr: int = 3 if run_environment == \"dev\" else 10\n",
    "\n",
    "    if retry_nr < max_retry_nr:\n",
    "        if random.random() < 0.1:\n",
    "            time.sleep(1e6)\n",
    "        else:\n",
    "            raise Exception(\"Simulated exception failure from ingestion step notebook!\")\n",
    "\n",
    "\n",
    "maybe_crash(\n",
    "    retry_nr=int(P[\"run.retry_nr\"]), run_environment=P[\"pipeline.run_environment\"]\n",
    ")"
   ]
  },
  {
   "cell_type": "markdown",
   "id": "e8a4b143",
   "metadata": {
    "lines_to_next_cell": 2,
    "papermill": {
     "duration": 0.003144,
     "end_time": "2022-11-30T06:44:19.979626",
     "exception": false,
     "start_time": "2022-11-30T06:44:19.976482",
     "status": "completed"
    },
    "tags": []
   },
   "source": [
    "### Notebook code"
   ]
  },
  {
   "cell_type": "code",
   "execution_count": 7,
   "id": "829ca1aa",
   "metadata": {
    "execution": {
     "iopub.execute_input": "2022-11-30T06:44:19.986170Z",
     "iopub.status.busy": "2022-11-30T06:44:19.985688Z",
     "iopub.status.idle": "2022-11-30T06:44:21.253880Z",
     "shell.execute_reply": "2022-11-30T06:44:21.253245Z"
    },
    "papermill": {
     "duration": 1.274029,
     "end_time": "2022-11-30T06:44:21.256080",
     "exception": false,
     "start_time": "2022-11-30T06:44:19.982051",
     "status": "completed"
    },
    "tags": []
   },
   "outputs": [],
   "source": [
    "from sklearn import datasets\n",
    "\n",
    "#\n",
    "from common.io import datalake_root, write_numpy"
   ]
  },
  {
   "cell_type": "code",
   "execution_count": 8,
   "id": "183219d9",
   "metadata": {
    "execution": {
     "iopub.execute_input": "2022-11-30T06:44:21.263508Z",
     "iopub.status.busy": "2022-11-30T06:44:21.263015Z",
     "iopub.status.idle": "2022-11-30T06:44:21.277409Z",
     "shell.execute_reply": "2022-11-30T06:44:21.276577Z"
    },
    "lines_to_next_cell": 2,
    "papermill": {
     "duration": 0.020101,
     "end_time": "2022-11-30T06:44:21.279099",
     "exception": false,
     "start_time": "2022-11-30T06:44:21.258998",
     "status": "completed"
    },
    "tags": []
   },
   "outputs": [],
   "source": [
    "digits = datasets.load_digits()\n",
    "\n",
    "X = digits[\"data\"]\n",
    "y = digits[\"target\"]"
   ]
  },
  {
   "cell_type": "code",
   "execution_count": 9,
   "id": "a028eaeb",
   "metadata": {
    "execution": {
     "iopub.execute_input": "2022-11-30T06:44:21.287673Z",
     "iopub.status.busy": "2022-11-30T06:44:21.286873Z",
     "iopub.status.idle": "2022-11-30T06:44:21.299054Z",
     "shell.execute_reply": "2022-11-30T06:44:21.298449Z"
    },
    "papermill": {
     "duration": 0.018018,
     "end_time": "2022-11-30T06:44:21.301316",
     "exception": false,
     "start_time": "2022-11-30T06:44:21.283298",
     "status": "completed"
    },
    "tags": []
   },
   "outputs": [
    {
     "name": "stdout",
     "output_type": "stream",
     "text": [
      " - Logging data_shape (json) : [1797, 64]\n",
      " - Logging target_shape (json) : [1797]\n"
     ]
    },
    {
     "data": {
      "text/plain": [
       "((1797, 64), (1797,))"
      ]
     },
     "execution_count": 9,
     "metadata": {},
     "output_type": "execute_result"
    }
   ],
   "source": [
    "logger.log_value(\"data_shape\", list(X.shape))\n",
    "logger.log_value(\"target_shape\", list(y.shape))\n",
    "\n",
    "X.shape, y.shape"
   ]
  },
  {
   "cell_type": "code",
   "execution_count": 10,
   "id": "226a4ae1",
   "metadata": {
    "execution": {
     "iopub.execute_input": "2022-11-30T06:44:21.308675Z",
     "iopub.status.busy": "2022-11-30T06:44:21.308433Z",
     "iopub.status.idle": "2022-11-30T06:44:21.316881Z",
     "shell.execute_reply": "2022-11-30T06:44:21.316300Z"
    },
    "papermill": {
     "duration": 0.01387,
     "end_time": "2022-11-30T06:44:21.318434",
     "exception": false,
     "start_time": "2022-11-30T06:44:21.304564",
     "status": "completed"
    },
    "tags": []
   },
   "outputs": [],
   "source": [
    "write_numpy(datalake_root(P) / \"raw\" / \"digits.numpy\", X)\n",
    "write_numpy(datalake_root(P) / \"raw\" / \"labels.numpy\", y)"
   ]
  },
  {
   "cell_type": "code",
   "execution_count": null,
   "id": "bf251183",
   "metadata": {
    "papermill": {
     "duration": 0.002968,
     "end_time": "2022-11-30T06:44:21.324186",
     "exception": false,
     "start_time": "2022-11-30T06:44:21.321218",
     "status": "completed"
    },
    "tags": []
   },
   "outputs": [],
   "source": []
  }
 ],
 "metadata": {
  "jupytext": {
   "cell_metadata_filter": "tags,-all",
   "main_language": "python",
   "notebook_metadata_filter": "-all"
  },
  "language_info": {
   "codemirror_mode": {
    "name": "ipython",
    "version": 3
   },
   "file_extension": ".py",
   "mimetype": "text/x-python",
   "name": "python",
   "nbconvert_exporter": "python",
   "pygments_lexer": "ipython3",
   "version": "3.8.10"
  },
  "papermill": {
   "default_parameters": {},
   "duration": 4.124427,
   "end_time": "2022-11-30T06:44:22.246105",
   "environment_variables": {},
   "exception": null,
   "input_path": "/home/host_user/workspace/mnist-demo-pipeline/mnist-demo-pipeline/notebooks/temp-notebook-r49xgokv.ipynb",
   "output_path": "notebooks/ingest.ipynb",
   "parameters": {
    "P": {
     "_opentelemetry_traceparent": "00-9864e09d0e57f97d6c7f2117157bde4f-249340705d0128cc-01",
     "pipeline.data_lake_root": "/pipeline-outputs/data-lake",
     "pipeline.github.actor": "matiasdahl",
     "pipeline.github.base_ref": "",
     "pipeline.github.event_name": "schedule",
     "pipeline.github.head_ref": "",
     "pipeline.github.job": "run-tests-pipeline-and-persist-pipeline-outputs",
     "pipeline.github.ref": "refs/heads/development",
     "pipeline.github.ref_name": "development",
     "pipeline.github.ref_type": "branch",
     "pipeline.github.repository": "matiasdahl/dev-mnist-digits-demo-pipeline",
     "pipeline.github.run_id": "3580942443",
     "pipeline.github.runner_name": "Hosted Agent",
     "pipeline.github.sha": "ace0d01011d5e914f1921450dd5a59c11367b38d",
     "pipeline.github.workflow": "Run automated tests, pipeline and deploy results to static reporting site",
     "pipeline.pipeline_run_id": "cfe9261a-74a0-4886-b966-e7f4a365f929",
     "pipeline.run_environment": "ci",
     "run.retry_nr": "10",
     "task.max_nr_retries": "15",
     "task.notebook": "notebooks/ingest.py",
     "task.num_cpus": 1,
     "task.timeout_s": "10"
    }
   },
   "start_time": "2022-11-30T06:44:18.121678",
   "version": "2.3.3"
  }
 },
 "nbformat": 4,
 "nbformat_minor": 5
}