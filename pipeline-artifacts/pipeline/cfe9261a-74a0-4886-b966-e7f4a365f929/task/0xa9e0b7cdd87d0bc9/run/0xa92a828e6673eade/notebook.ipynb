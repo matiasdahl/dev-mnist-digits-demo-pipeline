{
 "cells": [
  {
   "cell_type": "markdown",
   "id": "61ece433",
   "metadata": {
    "papermill": {
     "duration": 0.005185,
     "end_time": "2022-11-30T06:44:57.923113",
     "exception": false,
     "start_time": "2022-11-30T06:44:57.917928",
     "status": "completed"
    },
    "tags": []
   },
   "source": [
    "# Benchmark model\n",
    "\n",
    "The purpose of this notebook is to benchmark persisted onnx-model (trained in the\n",
    "previous step) against evaluation set."
   ]
  },
  {
   "cell_type": "markdown",
   "id": "49ec3283",
   "metadata": {
    "papermill": {
     "duration": 0.003816,
     "end_time": "2022-11-30T06:44:57.931627",
     "exception": false,
     "start_time": "2022-11-30T06:44:57.927811",
     "status": "completed"
    },
    "tags": []
   },
   "source": [
    "### Determine run parameters"
   ]
  },
  {
   "cell_type": "code",
   "execution_count": 1,
   "id": "b4722529",
   "metadata": {
    "execution": {
     "iopub.execute_input": "2022-11-30T06:44:57.941284Z",
     "iopub.status.busy": "2022-11-30T06:44:57.940987Z",
     "iopub.status.idle": "2022-11-30T06:44:57.949519Z",
     "shell.execute_reply": "2022-11-30T06:44:57.948964Z"
    },
    "lines_to_next_cell": 0,
    "papermill": {
     "duration": 0.01497,
     "end_time": "2022-11-30T06:44:57.951155",
     "exception": false,
     "start_time": "2022-11-30T06:44:57.936185",
     "status": "completed"
    },
    "tags": []
   },
   "outputs": [],
   "source": [
    "# ----------------- Parameters for interactive development --------------\n",
    "P = {\n",
    "    \"pipeline.data_lake_root\": \"/pipeline-outputs/data-lake\",\n",
    "    \"task.nr_train_images\": 600,\n",
    "}"
   ]
  },
  {
   "cell_type": "code",
   "execution_count": 2,
   "id": "46415a77",
   "metadata": {
    "execution": {
     "iopub.execute_input": "2022-11-30T06:44:57.960505Z",
     "iopub.status.busy": "2022-11-30T06:44:57.960274Z",
     "iopub.status.idle": "2022-11-30T06:44:57.963076Z",
     "shell.execute_reply": "2022-11-30T06:44:57.962573Z"
    },
    "lines_to_next_cell": 0,
    "papermill": {
     "duration": 0.010475,
     "end_time": "2022-11-30T06:44:57.965531",
     "exception": false,
     "start_time": "2022-11-30T06:44:57.955056",
     "status": "completed"
    },
    "tags": [
     "parameters"
    ]
   },
   "outputs": [],
   "source": [
    "# - During automated runs parameters will be injected in the below cell -"
   ]
  },
  {
   "cell_type": "code",
   "execution_count": 3,
   "id": "1ba2d8fd",
   "metadata": {
    "execution": {
     "iopub.execute_input": "2022-11-30T06:44:57.974351Z",
     "iopub.status.busy": "2022-11-30T06:44:57.974142Z",
     "iopub.status.idle": "2022-11-30T06:44:57.978453Z",
     "shell.execute_reply": "2022-11-30T06:44:57.977950Z"
    },
    "papermill": {
     "duration": 0.011319,
     "end_time": "2022-11-30T06:44:57.980745",
     "exception": false,
     "start_time": "2022-11-30T06:44:57.969426",
     "status": "completed"
    },
    "tags": [
     "injected-parameters"
    ]
   },
   "outputs": [],
   "source": [
    "# Parameters\n",
    "P = {\n",
    "    \"pipeline.data_lake_root\": \"/pipeline-outputs/data-lake\",\n",
    "    \"pipeline.run_environment\": \"ci\",\n",
    "    \"pipeline.pipeline_run_id\": \"cfe9261a-74a0-4886-b966-e7f4a365f929\",\n",
    "    \"pipeline.github.repository\": \"matiasdahl/dev-mnist-digits-demo-pipeline\",\n",
    "    \"pipeline.github.workflow\": \"Run automated tests, pipeline and deploy results to static reporting site\",\n",
    "    \"pipeline.github.runner_name\": \"Hosted Agent\",\n",
    "    \"pipeline.github.run_id\": \"3580942443\",\n",
    "    \"pipeline.github.actor\": \"matiasdahl\",\n",
    "    \"pipeline.github.job\": \"run-tests-pipeline-and-persist-pipeline-outputs\",\n",
    "    \"pipeline.github.base_ref\": \"\",\n",
    "    \"pipeline.github.head_ref\": \"\",\n",
    "    \"pipeline.github.sha\": \"ace0d01011d5e914f1921450dd5a59c11367b38d\",\n",
    "    \"pipeline.github.ref\": \"refs/heads/development\",\n",
    "    \"pipeline.github.ref_type\": \"branch\",\n",
    "    \"pipeline.github.ref_name\": \"development\",\n",
    "    \"pipeline.github.event_name\": \"schedule\",\n",
    "    \"task.nr_train_images\": 1000,\n",
    "    \"task.notebook\": \"notebooks/benchmark-model.py\",\n",
    "    \"task.max_nr_retries\": \"1\",\n",
    "    \"run.retry_nr\": \"0\",\n",
    "    \"task.timeout_s\": \"None\",\n",
    "    \"task.num_cpus\": 1,\n",
    "    \"_opentelemetry_traceparent\": \"00-9864e09d0e57f97d6c7f2117157bde4f-ce254768cd00ae7e-01\",\n",
    "}\n"
   ]
  },
  {
   "cell_type": "code",
   "execution_count": 4,
   "id": "ce03a148",
   "metadata": {
    "execution": {
     "iopub.execute_input": "2022-11-30T06:44:57.989568Z",
     "iopub.status.busy": "2022-11-30T06:44:57.989338Z",
     "iopub.status.idle": "2022-11-30T06:44:57.992064Z",
     "shell.execute_reply": "2022-11-30T06:44:57.991569Z"
    },
    "lines_to_next_cell": 0,
    "papermill": {
     "duration": 0.009597,
     "end_time": "2022-11-30T06:44:57.994301",
     "exception": false,
     "start_time": "2022-11-30T06:44:57.984704",
     "status": "completed"
    },
    "tags": []
   },
   "outputs": [],
   "source": [
    "# -----------------------------------------------------------------------"
   ]
  },
  {
   "cell_type": "markdown",
   "id": "3d00607c",
   "metadata": {
    "papermill": {
     "duration": 0.004462,
     "end_time": "2022-11-30T06:44:58.002689",
     "exception": false,
     "start_time": "2022-11-30T06:44:57.998227",
     "status": "completed"
    },
    "tags": []
   },
   "source": [
    "---"
   ]
  },
  {
   "cell_type": "markdown",
   "id": "ca3afcaf",
   "metadata": {
    "lines_to_next_cell": 2,
    "papermill": {
     "duration": 0.003851,
     "end_time": "2022-11-30T06:44:58.010415",
     "exception": false,
     "start_time": "2022-11-30T06:44:58.006564",
     "status": "completed"
    },
    "tags": []
   },
   "source": [
    "### Notebook code"
   ]
  },
  {
   "cell_type": "code",
   "execution_count": 5,
   "id": "afbe871b",
   "metadata": {
    "execution": {
     "iopub.execute_input": "2022-11-30T06:44:58.025008Z",
     "iopub.status.busy": "2022-11-30T06:44:58.024750Z",
     "iopub.status.idle": "2022-11-30T06:44:59.102725Z",
     "shell.execute_reply": "2022-11-30T06:44:59.101247Z"
    },
    "papermill": {
     "duration": 1.090218,
     "end_time": "2022-11-30T06:44:59.104899",
     "exception": false,
     "start_time": "2022-11-30T06:44:58.014681",
     "status": "completed"
    },
    "tags": []
   },
   "outputs": [
    {
     "name": "stderr",
     "output_type": "stream",
     "text": [
      "2022-11-30 06:44:58,934\tINFO worker.py:842 -- Connecting to existing Ray cluster at address: 172.17.0.2:6379\n"
     ]
    }
   ],
   "source": [
    "import itertools as it\n",
    "\n",
    "#\n",
    "import numpy as np\n",
    "import matplotlib.pyplot as plt\n",
    "\n",
    "#\n",
    "from pynb_dag_runner.tasks.task_opentelemetry_logging import PydarLogger\n",
    "\n",
    "#\n",
    "from common.io import datalake_root\n",
    "\n",
    "logger = PydarLogger(P)"
   ]
  },
  {
   "cell_type": "markdown",
   "id": "be78bf56",
   "metadata": {
    "papermill": {
     "duration": 0.004704,
     "end_time": "2022-11-30T06:44:59.114476",
     "exception": false,
     "start_time": "2022-11-30T06:44:59.109772",
     "status": "completed"
    },
    "tags": []
   },
   "source": [
    "## Load persisted onnx-model and evaluation data"
   ]
  },
  {
   "cell_type": "code",
   "execution_count": 6,
   "id": "347569d3",
   "metadata": {
    "execution": {
     "iopub.execute_input": "2022-11-30T06:44:59.125336Z",
     "iopub.status.busy": "2022-11-30T06:44:59.125002Z",
     "iopub.status.idle": "2022-11-30T06:44:59.132109Z",
     "shell.execute_reply": "2022-11-30T06:44:59.127857Z"
    },
    "papermill": {
     "duration": 0.015905,
     "end_time": "2022-11-30T06:44:59.134858",
     "exception": false,
     "start_time": "2022-11-30T06:44:59.118953",
     "status": "completed"
    },
    "tags": []
   },
   "outputs": [],
   "source": [
    "from common.io import read_onnx, get_onnx_inputs, get_onnx_outputs, read_numpy"
   ]
  },
  {
   "cell_type": "code",
   "execution_count": 7,
   "id": "8a401d38",
   "metadata": {
    "execution": {
     "iopub.execute_input": "2022-11-30T06:44:59.144934Z",
     "iopub.status.busy": "2022-11-30T06:44:59.144682Z",
     "iopub.status.idle": "2022-11-30T06:44:59.156113Z",
     "shell.execute_reply": "2022-11-30T06:44:59.155568Z"
    },
    "lines_to_next_cell": 0,
    "papermill": {
     "duration": 0.018573,
     "end_time": "2022-11-30T06:44:59.158096",
     "exception": false,
     "start_time": "2022-11-30T06:44:59.139523",
     "status": "completed"
    },
    "tags": []
   },
   "outputs": [],
   "source": [
    "onnx_inference_session = read_onnx(\n",
    "    datalake_root(P)\n",
    "    / \"models\"\n",
    "    / f\"nr_train_images={P['task.nr_train_images']}\"\n",
    "    / \"model.onnx\"\n",
    ")"
   ]
  },
  {
   "cell_type": "markdown",
   "id": "d3df15c6",
   "metadata": {
    "papermill": {
     "duration": 0.004483,
     "end_time": "2022-11-30T06:44:59.166976",
     "exception": false,
     "start_time": "2022-11-30T06:44:59.162493",
     "status": "completed"
    },
    "tags": []
   },
   "source": [
    "### Record structure of inputs and outputs for ONNX model\n",
    "\n",
    "(this should likely be done in training notebook)"
   ]
  },
  {
   "cell_type": "code",
   "execution_count": 8,
   "id": "2e24a391",
   "metadata": {
    "execution": {
     "iopub.execute_input": "2022-11-30T06:44:59.178726Z",
     "iopub.status.busy": "2022-11-30T06:44:59.178463Z",
     "iopub.status.idle": "2022-11-30T06:44:59.183904Z",
     "shell.execute_reply": "2022-11-30T06:44:59.183396Z"
    },
    "papermill": {
     "duration": 0.01458,
     "end_time": "2022-11-30T06:44:59.187420",
     "exception": false,
     "start_time": "2022-11-30T06:44:59.172840",
     "status": "completed"
    },
    "tags": []
   },
   "outputs": [
    {
     "name": "stdout",
     "output_type": "stream",
     "text": [
      "{\n",
      "  \"inputs\": [\n",
      "    {\n",
      "      \"name\": \"float_input_8x8_image\",\n",
      "      \"shape\": [\n",
      "        null,\n",
      "        64\n",
      "      ],\n",
      "      \"type\": \"tensor(float)\"\n",
      "    }\n",
      "  ],\n",
      "  \"outputs\": [\n",
      "    {\n",
      "      \"name\": \"output_label\",\n",
      "      \"shape\": [\n",
      "        null\n",
      "      ],\n",
      "      \"type\": \"tensor(int64)\"\n",
      "    },\n",
      "    {\n",
      "      \"name\": \"output_probability\",\n",
      "      \"shape\": [],\n",
      "      \"type\": \"seq(map(int64,tensor(float)))\"\n",
      "    }\n",
      "  ]\n",
      "}\n"
     ]
    }
   ],
   "source": [
    "import json\n",
    "\n",
    "onnx_io = json.dumps(\n",
    "    {\n",
    "        \"inputs\": get_onnx_inputs(onnx_inference_session),\n",
    "        \"outputs\": get_onnx_outputs(onnx_inference_session),\n",
    "    },\n",
    "    indent=2,\n",
    ")\n",
    "\n",
    "\n",
    "logger.log_artefact(\"onnx_io_structure.json\", onnx_io)\n",
    "print(onnx_io)"
   ]
  },
  {
   "cell_type": "markdown",
   "id": "7d07471b",
   "metadata": {
    "papermill": {
     "duration": 0.00428,
     "end_time": "2022-11-30T06:44:59.196309",
     "exception": false,
     "start_time": "2022-11-30T06:44:59.192029",
     "status": "completed"
    },
    "tags": []
   },
   "source": [
    "### Evaluate model performance on evaluation data set"
   ]
  },
  {
   "cell_type": "code",
   "execution_count": 9,
   "id": "f29c5b0b",
   "metadata": {
    "execution": {
     "iopub.execute_input": "2022-11-30T06:44:59.206306Z",
     "iopub.status.busy": "2022-11-30T06:44:59.206035Z",
     "iopub.status.idle": "2022-11-30T06:44:59.210789Z",
     "shell.execute_reply": "2022-11-30T06:44:59.210252Z"
    },
    "papermill": {
     "duration": 0.012163,
     "end_time": "2022-11-30T06:44:59.213139",
     "exception": false,
     "start_time": "2022-11-30T06:44:59.200976",
     "status": "completed"
    },
    "tags": []
   },
   "outputs": [],
   "source": [
    "# load evaluation data\n",
    "X_test = read_numpy(datalake_root(P) / \"test-data\" / \"digits.numpy\")\n",
    "y_test = read_numpy(datalake_root(P) / \"test-data\" / \"labels.numpy\")"
   ]
  },
  {
   "cell_type": "code",
   "execution_count": 10,
   "id": "f6e8294d",
   "metadata": {
    "execution": {
     "iopub.execute_input": "2022-11-30T06:44:59.223200Z",
     "iopub.status.busy": "2022-11-30T06:44:59.222962Z",
     "iopub.status.idle": "2022-11-30T06:44:59.279834Z",
     "shell.execute_reply": "2022-11-30T06:44:59.279229Z"
    },
    "papermill": {
     "duration": 0.064203,
     "end_time": "2022-11-30T06:44:59.281763",
     "exception": false,
     "start_time": "2022-11-30T06:44:59.217560",
     "status": "completed"
    },
    "tags": []
   },
   "outputs": [],
   "source": [
    "def get_model_outputs(X, onnx_inference_session):\n",
    "    y_pred_labels, y_pred_map = onnx_inference_session.run(\n",
    "        [\"output_label\", \"output_probability\"],\n",
    "        {\"float_input_8x8_image\": X.astype(np.float32)},\n",
    "    )\n",
    "    y_pred_probs = np.array(\n",
    "        [[probabilities[digit] for digit in range(10)] for probabilities in y_pred_map]\n",
    "    )\n",
    "\n",
    "    assert y_pred_labels.shape == (X.shape[0],)\n",
    "    assert y_pred_probs.shape == (X.shape[0], 10)\n",
    "\n",
    "    return y_pred_labels, y_pred_probs\n",
    "\n",
    "\n",
    "# Note: as shown in the training notebook, the predicted labels and probabilities\n",
    "# computed below need not be compatible.\n",
    "y_pred_labels_test, y_pred_probs_test = get_model_outputs(\n",
    "    X_test, onnx_inference_session\n",
    ")"
   ]
  },
  {
   "cell_type": "markdown",
   "id": "95f0a268",
   "metadata": {
    "papermill": {
     "duration": 0.004801,
     "end_time": "2022-11-30T06:44:59.291200",
     "exception": false,
     "start_time": "2022-11-30T06:44:59.286399",
     "status": "completed"
    },
    "tags": []
   },
   "source": [
    "### Confusion matrix"
   ]
  },
  {
   "cell_type": "code",
   "execution_count": 11,
   "id": "8c731c6f",
   "metadata": {
    "execution": {
     "iopub.execute_input": "2022-11-30T06:44:59.301463Z",
     "iopub.status.busy": "2022-11-30T06:44:59.301212Z",
     "iopub.status.idle": "2022-11-30T06:44:59.304314Z",
     "shell.execute_reply": "2022-11-30T06:44:59.303732Z"
    },
    "papermill": {
     "duration": 0.011225,
     "end_time": "2022-11-30T06:44:59.306839",
     "exception": false,
     "start_time": "2022-11-30T06:44:59.295614",
     "status": "completed"
    },
    "tags": []
   },
   "outputs": [],
   "source": [
    "# TODO"
   ]
  },
  {
   "cell_type": "markdown",
   "id": "71910d8d",
   "metadata": {
    "papermill": {
     "duration": 0.004377,
     "end_time": "2022-11-30T06:44:59.315801",
     "exception": false,
     "start_time": "2022-11-30T06:44:59.311424",
     "status": "completed"
    },
    "tags": []
   },
   "source": [
    "### Plot predicted probabilities for each classifier over all evaluation digit images"
   ]
  },
  {
   "cell_type": "code",
   "execution_count": 12,
   "id": "466ca4fc",
   "metadata": {
    "execution": {
     "iopub.execute_input": "2022-11-30T06:44:59.326374Z",
     "iopub.status.busy": "2022-11-30T06:44:59.326120Z",
     "iopub.status.idle": "2022-11-30T06:45:02.092725Z",
     "shell.execute_reply": "2022-11-30T06:45:02.092091Z"
    },
    "papermill": {
     "duration": 2.77347,
     "end_time": "2022-11-30T06:45:02.094308",
     "exception": false,
     "start_time": "2022-11-30T06:44:59.320838",
     "status": "completed"
    },
    "tags": []
   },
   "outputs": [
    {
     "data": {
      "image/png": "[encoded data removed]",
      "text/plain": [
       "<Figure size 1600x600 with 10 Axes>"
      ]
     },
     "metadata": {},
     "output_type": "display_data"
    }
   ],
   "source": [
    "def plot_per_digit_probabilities(y_pred_probs):\n",
    "    fig, axs = plt.subplots(nrows=2, ncols=5, figsize=(16, 6))\n",
    "\n",
    "    for (r, c), digit, ax in zip(\n",
    "        it.product(range(2), range(5)), range(10), axs.reshape(-1)\n",
    "    ):\n",
    "        ax.hist(y_pred_probs_test[:, digit], bins=20)\n",
    "\n",
    "        ax.set_title(f\"Digit {digit}\")\n",
    "        if r == 1 and c == 2:\n",
    "            ax.set_xlabel(\"probability\", fontsize=16)\n",
    "\n",
    "        if c == 0:\n",
    "            ax.set_ylabel(\"counts\", fontsize=16)\n",
    "        ax.set_yscale(\"log\")\n",
    "\n",
    "    fig.tight_layout()\n",
    "    fig.suptitle(\n",
    "        f\"Distributions of prediction probabilities for each digit \"\n",
    "        f\"(on evaluation data, n={y_pred_probs.shape[0]})\",\n",
    "        fontsize=20,\n",
    "    )\n",
    "    fig.tight_layout()\n",
    "    fig.show()\n",
    "\n",
    "    return fig\n",
    "\n",
    "\n",
    "fig = plot_per_digit_probabilities(y_pred_probs_test)"
   ]
  },
  {
   "cell_type": "markdown",
   "id": "c47d64d0",
   "metadata": {
    "papermill": {
     "duration": 0.005033,
     "end_time": "2022-11-30T06:45:02.105195",
     "exception": false,
     "start_time": "2022-11-30T06:45:02.100162",
     "status": "completed"
    },
    "tags": []
   },
   "source": [
    "From the above distributions we see that most digits have clear separation between\n",
    "high and lower probabilities. Morover, in each case there is roughly an order of\n",
    "magnitude more of digits with low probabilities. This is compatible with digits\n",
    "being roughly evenly distributed in the data."
   ]
  },
  {
   "cell_type": "code",
   "execution_count": 13,
   "id": "1508b835",
   "metadata": {
    "execution": {
     "iopub.execute_input": "2022-11-30T06:45:02.117235Z",
     "iopub.status.busy": "2022-11-30T06:45:02.116903Z",
     "iopub.status.idle": "2022-11-30T06:45:02.540376Z",
     "shell.execute_reply": "2022-11-30T06:45:02.539715Z"
    },
    "papermill": {
     "duration": 0.431763,
     "end_time": "2022-11-30T06:45:02.542476",
     "exception": false,
     "start_time": "2022-11-30T06:45:02.110713",
     "status": "completed"
    },
    "tags": []
   },
   "outputs": [],
   "source": [
    "logger.log_figure(\"per-digit-probabilities.png\", fig)"
   ]
  },
  {
   "cell_type": "markdown",
   "id": "8e6b2b2e",
   "metadata": {
    "papermill": {
     "duration": 0.005067,
     "end_time": "2022-11-30T06:45:02.553031",
     "exception": false,
     "start_time": "2022-11-30T06:45:02.547964",
     "status": "completed"
    },
    "tags": []
   },
   "source": [
    "### Plot ROC curves for individual one-vs-rest classifiers"
   ]
  },
  {
   "cell_type": "code",
   "execution_count": 14,
   "id": "2f10c8ac",
   "metadata": {
    "execution": {
     "iopub.execute_input": "2022-11-30T06:45:02.564580Z",
     "iopub.status.busy": "2022-11-30T06:45:02.564290Z",
     "iopub.status.idle": "2022-11-30T06:45:02.921165Z",
     "shell.execute_reply": "2022-11-30T06:45:02.920488Z"
    },
    "papermill": {
     "duration": 0.364988,
     "end_time": "2022-11-30T06:45:02.923110",
     "exception": false,
     "start_time": "2022-11-30T06:45:02.558122",
     "status": "completed"
    },
    "tags": []
   },
   "outputs": [],
   "source": [
    "from sklearn import metrics"
   ]
  },
  {
   "cell_type": "code",
   "execution_count": 15,
   "id": "5b730f5a",
   "metadata": {
    "execution": {
     "iopub.execute_input": "2022-11-30T06:45:02.936368Z",
     "iopub.status.busy": "2022-11-30T06:45:02.936060Z",
     "iopub.status.idle": "2022-11-30T06:45:03.913933Z",
     "shell.execute_reply": "2022-11-30T06:45:03.913023Z"
    },
    "papermill": {
     "duration": 0.986012,
     "end_time": "2022-11-30T06:45:03.915567",
     "exception": false,
     "start_time": "2022-11-30T06:45:02.929555",
     "status": "completed"
    },
    "tags": []
   },
   "outputs": [
    {
     "data": {
      "image/png": "[encoded data removed]",
      "text/plain": [
       "<Figure size 1600x800 with 10 Axes>"
      ]
     },
     "metadata": {},
     "output_type": "display_data"
    }
   ],
   "source": [
    "def plot_roc_curves(y, y_pred_probs):\n",
    "    # based on example code\n",
    "    # https://scikit-learn.org/stable/auto_examples/model_selection/plot_roc.html\n",
    "\n",
    "    fig, axs = plt.subplots(nrows=2, ncols=5, figsize=(16, 8))\n",
    "\n",
    "    roc_auc_dict = {}\n",
    "\n",
    "    for (r, c), digit, ax in zip(\n",
    "        it.product(range(2), range(5)), range(10), axs.reshape(-1)\n",
    "    ):\n",
    "        fpr, tpr, _ = metrics.roc_curve(y == digit, y_pred_probs[:, digit])\n",
    "        auc = metrics.auc(fpr, tpr)\n",
    "        roc_auc_dict[str(digit)] = auc\n",
    "\n",
    "        ax.plot(fpr, tpr, label=f\"ROC AUC={round(auc, 3)}\")\n",
    "\n",
    "        ax.set_title(f\"\\nDigit {digit}\", fontsize=16)\n",
    "        if r == 1:\n",
    "            ax.set_xlabel(\"FPR\", fontsize=18)\n",
    "\n",
    "        if c == 0:\n",
    "            ax.set_ylabel(\"TPR\", fontsize=18)\n",
    "\n",
    "        ax.set_xlim([-0.05, 1.05])\n",
    "        ax.set_ylim([-0.05, 1.05])\n",
    "        ax.legend(loc=\"lower right\", frameon=False, fontsize=14)\n",
    "\n",
    "    fig.tight_layout()\n",
    "    fig.suptitle(\n",
    "        f\"ROC plots for one-vs-rest performances \"\n",
    "        f\"(on evaluation data, n={y_pred_probs_test.shape[1]}\",\n",
    "        fontsize=22,\n",
    "    )\n",
    "    fig.tight_layout()\n",
    "    fig.show()\n",
    "\n",
    "    return roc_auc_dict, fig\n",
    "\n",
    "\n",
    "roc_auc_dict, fig = plot_roc_curves(y_test, y_pred_probs_test)"
   ]
  },
  {
   "cell_type": "code",
   "execution_count": 16,
   "id": "d10d60b6",
   "metadata": {
    "execution": {
     "iopub.execute_input": "2022-11-30T06:45:03.929579Z",
     "iopub.status.busy": "2022-11-30T06:45:03.929346Z",
     "iopub.status.idle": "2022-11-30T06:45:04.160234Z",
     "shell.execute_reply": "2022-11-30T06:45:04.159556Z"
    },
    "papermill": {
     "duration": 0.239784,
     "end_time": "2022-11-30T06:45:04.162236",
     "exception": false,
     "start_time": "2022-11-30T06:45:03.922452",
     "status": "completed"
    },
    "tags": []
   },
   "outputs": [],
   "source": [
    "logger.log_figure(\"per-digit-roc-curves.png\", fig)"
   ]
  },
  {
   "cell_type": "code",
   "execution_count": 17,
   "id": "e327dde6",
   "metadata": {
    "execution": {
     "iopub.execute_input": "2022-11-30T06:45:04.176684Z",
     "iopub.status.busy": "2022-11-30T06:45:04.176356Z",
     "iopub.status.idle": "2022-11-30T06:45:04.181005Z",
     "shell.execute_reply": "2022-11-30T06:45:04.180473Z"
    },
    "papermill": {
     "duration": 0.012985,
     "end_time": "2022-11-30T06:45:04.182518",
     "exception": false,
     "start_time": "2022-11-30T06:45:04.169533",
     "status": "completed"
    },
    "tags": []
   },
   "outputs": [
    {
     "data": {
      "text/plain": [
       "{'0': 1.0,\n",
       " '1': 0.998987816307404,\n",
       " '2': 1.0,\n",
       " '3': 0.9998125585754452,\n",
       " '4': 0.9996570644718793,\n",
       " '5': 0.9994376757263355,\n",
       " '6': 0.999923792104862,\n",
       " '7': 0.9997713763145862,\n",
       " '8': 0.9950346784363178,\n",
       " '9': 0.9995808565767414}"
      ]
     },
     "execution_count": 17,
     "metadata": {},
     "output_type": "execute_result"
    }
   ],
   "source": [
    "roc_auc_dict"
   ]
  },
  {
   "cell_type": "code",
   "execution_count": 18,
   "id": "f459f097",
   "metadata": {
    "execution": {
     "iopub.execute_input": "2022-11-30T06:45:04.197149Z",
     "iopub.status.busy": "2022-11-30T06:45:04.196796Z",
     "iopub.status.idle": "2022-11-30T06:45:04.200748Z",
     "shell.execute_reply": "2022-11-30T06:45:04.200233Z"
    },
    "papermill": {
     "duration": 0.013353,
     "end_time": "2022-11-30T06:45:04.201951",
     "exception": false,
     "start_time": "2022-11-30T06:45:04.188598",
     "status": "completed"
    },
    "tags": []
   },
   "outputs": [
    {
     "name": "stdout",
     "output_type": "stream",
     "text": [
      " - Logging roc_auc_per_digit (json) : {'0': 1.0, '1': 0.998987816307404, '2': 1.0, '3': 0.9998125585754452, '4': 0.9996570644718793, '5': 0.9994376757263355, '6': 0.999923792104862, '7': 0.9997713763145862, '8': 0.9950346784363178, '9': 0.9995808565767414}\n"
     ]
    }
   ],
   "source": [
    "logger.log_value(\"roc_auc_per_digit\", roc_auc_dict)"
   ]
  },
  {
   "cell_type": "markdown",
   "id": "dadd5557",
   "metadata": {
    "papermill": {
     "duration": 0.00604,
     "end_time": "2022-11-30T06:45:04.213990",
     "exception": false,
     "start_time": "2022-11-30T06:45:04.207950",
     "status": "completed"
    },
    "tags": []
   },
   "source": [
    "### Compute and log mean ROC AUC score averaged over all digits"
   ]
  },
  {
   "cell_type": "code",
   "execution_count": 19,
   "id": "ba72bf6e",
   "metadata": {
    "execution": {
     "iopub.execute_input": "2022-11-30T06:45:04.227507Z",
     "iopub.status.busy": "2022-11-30T06:45:04.227263Z",
     "iopub.status.idle": "2022-11-30T06:45:04.239442Z",
     "shell.execute_reply": "2022-11-30T06:45:04.238774Z"
    },
    "papermill": {
     "duration": 0.020946,
     "end_time": "2022-11-30T06:45:04.240859",
     "exception": false,
     "start_time": "2022-11-30T06:45:04.219913",
     "status": "completed"
    },
    "tags": []
   },
   "outputs": [
    {
     "name": "stdout",
     "output_type": "stream",
     "text": [
      " - Logging roc_auc_class_mean (float) : 0.9992205818513572\n"
     ]
    }
   ],
   "source": [
    "roc_auc_macro = np.mean(list(roc_auc_dict.values()))\n",
    "\n",
    "logger.log_float(\"roc_auc_class_mean\", roc_auc_macro)\n",
    "\n",
    "# assert that the same value can be computed directly using sklearn\n",
    "assert roc_auc_macro == metrics.roc_auc_score(\n",
    "    y_test, y_pred_probs_test, average=\"macro\", multi_class=\"ovr\"\n",
    ")"
   ]
  },
  {
   "cell_type": "code",
   "execution_count": 20,
   "id": "e380d668",
   "metadata": {
    "execution": {
     "iopub.execute_input": "2022-11-30T06:45:04.254805Z",
     "iopub.status.busy": "2022-11-30T06:45:04.254403Z",
     "iopub.status.idle": "2022-11-30T06:45:04.257474Z",
     "shell.execute_reply": "2022-11-30T06:45:04.256742Z"
    },
    "lines_to_next_cell": 0,
    "papermill": {
     "duration": 0.012195,
     "end_time": "2022-11-30T06:45:04.259623",
     "exception": false,
     "start_time": "2022-11-30T06:45:04.247428",
     "status": "completed"
    },
    "tags": []
   },
   "outputs": [],
   "source": [
    "# ---"
   ]
  },
  {
   "cell_type": "code",
   "execution_count": null,
   "id": "60d93a7d",
   "metadata": {
    "papermill": {
     "duration": 0.006616,
     "end_time": "2022-11-30T06:45:04.272418",
     "exception": false,
     "start_time": "2022-11-30T06:45:04.265802",
     "status": "completed"
    },
    "tags": []
   },
   "outputs": [],
   "source": []
  }
 ],
 "metadata": {
  "jupytext": {
   "cell_metadata_filter": "tags,-all",
   "main_language": "python",
   "notebook_metadata_filter": "-all"
  },
  "language_info": {
   "codemirror_mode": {
    "name": "ipython",
    "version": 3
   },
   "file_extension": ".py",
   "mimetype": "text/x-python",
   "name": "python",
   "nbconvert_exporter": "python",
   "pygments_lexer": "ipython3",
   "version": "3.8.10"
  },
  "papermill": {
   "default_parameters": {},
   "duration": 8.876522,
   "end_time": "2022-11-30T06:45:05.397405",
   "environment_variables": {},
   "exception": null,
   "input_path": "/home/host_user/workspace/mnist-demo-pipeline/mnist-demo-pipeline/notebooks/temp-notebook-73bnyuh7.ipynb",
   "output_path": "notebooks/benchmark-model.ipynb",
   "parameters": {
    "P": {
     "_opentelemetry_traceparent": "00-9864e09d0e57f97d6c7f2117157bde4f-ce254768cd00ae7e-01",
     "pipeline.data_lake_root": "/pipeline-outputs/data-lake",
     "pipeline.github.actor": "matiasdahl",
     "pipeline.github.base_ref": "",
     "pipeline.github.event_name": "schedule",
     "pipeline.github.head_ref": "",
     "pipeline.github.job": "run-tests-pipeline-and-persist-pipeline-outputs",
     "pipeline.github.ref": "refs/heads/development",
     "pipeline.github.ref_name": "development",
     "pipeline.github.ref_type": "branch",
     "pipeline.github.repository": "matiasdahl/dev-mnist-digits-demo-pipeline",
     "pipeline.github.run_id": "3580942443",
     "pipeline.github.runner_name": "Hosted Agent",
     "pipeline.github.sha": "ace0d01011d5e914f1921450dd5a59c11367b38d",
     "pipeline.github.workflow": "Run automated tests, pipeline and deploy results to static reporting site",
     "pipeline.pipeline_run_id": "cfe9261a-74a0-4886-b966-e7f4a365f929",
     "pipeline.run_environment": "ci",
     "run.retry_nr": "0",
     "task.max_nr_retries": "1",
     "task.notebook": "notebooks/benchmark-model.py",
     "task.nr_train_images": 1000,
     "task.num_cpus": 1,
     "task.timeout_s": "None"
    }
   },
   "start_time": "2022-11-30T06:44:56.520883",
   "version": "2.3.3"
  }
 },
 "nbformat": 4,
 "nbformat_minor": 5
}