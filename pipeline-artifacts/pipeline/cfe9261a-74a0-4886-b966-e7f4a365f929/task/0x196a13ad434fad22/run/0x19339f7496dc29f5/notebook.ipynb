{
 "cells": [
  {
   "cell_type": "markdown",
   "id": "46c4fabf",
   "metadata": {
    "papermill": {
     "duration": 0.008171,
     "end_time": "2022-11-30T06:44:42.454480",
     "exception": false,
     "start_time": "2022-11-30T06:44:42.446309",
     "status": "completed"
    },
    "tags": []
   },
   "source": [
    "# Benchmark model\n",
    "\n",
    "The purpose of this notebook is to benchmark persisted onnx-model (trained in the\n",
    "previous step) against evaluation set."
   ]
  },
  {
   "cell_type": "markdown",
   "id": "af71635e",
   "metadata": {
    "papermill": {
     "duration": 0.007289,
     "end_time": "2022-11-30T06:44:42.466417",
     "exception": false,
     "start_time": "2022-11-30T06:44:42.459128",
     "status": "completed"
    },
    "tags": []
   },
   "source": [
    "### Determine run parameters"
   ]
  },
  {
   "cell_type": "code",
   "execution_count": 1,
   "id": "6e208208",
   "metadata": {
    "execution": {
     "iopub.execute_input": "2022-11-30T06:44:42.476918Z",
     "iopub.status.busy": "2022-11-30T06:44:42.476620Z",
     "iopub.status.idle": "2022-11-30T06:44:42.484767Z",
     "shell.execute_reply": "2022-11-30T06:44:42.484182Z"
    },
    "lines_to_next_cell": 0,
    "papermill": {
     "duration": 0.016499,
     "end_time": "2022-11-30T06:44:42.487814",
     "exception": false,
     "start_time": "2022-11-30T06:44:42.471315",
     "status": "completed"
    },
    "tags": []
   },
   "outputs": [],
   "source": [
    "# ----------------- Parameters for interactive development --------------\n",
    "P = {\n",
    "    \"pipeline.data_lake_root\": \"/pipeline-outputs/data-lake\",\n",
    "    \"task.nr_train_images\": 600,\n",
    "}"
   ]
  },
  {
   "cell_type": "code",
   "execution_count": 2,
   "id": "ece66aab",
   "metadata": {
    "execution": {
     "iopub.execute_input": "2022-11-30T06:44:42.498503Z",
     "iopub.status.busy": "2022-11-30T06:44:42.498251Z",
     "iopub.status.idle": "2022-11-30T06:44:42.501762Z",
     "shell.execute_reply": "2022-11-30T06:44:42.501232Z"
    },
    "lines_to_next_cell": 0,
    "papermill": {
     "duration": 0.012146,
     "end_time": "2022-11-30T06:44:42.504831",
     "exception": false,
     "start_time": "2022-11-30T06:44:42.492685",
     "status": "completed"
    },
    "tags": [
     "parameters"
    ]
   },
   "outputs": [],
   "source": [
    "# - During automated runs parameters will be injected in the below cell -"
   ]
  },
  {
   "cell_type": "code",
   "execution_count": 3,
   "id": "7d821cae",
   "metadata": {
    "execution": {
     "iopub.execute_input": "2022-11-30T06:44:42.514920Z",
     "iopub.status.busy": "2022-11-30T06:44:42.514683Z",
     "iopub.status.idle": "2022-11-30T06:44:42.519541Z",
     "shell.execute_reply": "2022-11-30T06:44:42.519019Z"
    },
    "papermill": {
     "duration": 0.013672,
     "end_time": "2022-11-30T06:44:42.522574",
     "exception": false,
     "start_time": "2022-11-30T06:44:42.508902",
     "status": "completed"
    },
    "tags": [
     "injected-parameters"
    ]
   },
   "outputs": [],
   "source": [
    "# Parameters\n",
    "P = {\n",
    "    \"pipeline.data_lake_root\": \"/pipeline-outputs/data-lake\",\n",
    "    \"pipeline.run_environment\": \"ci\",\n",
    "    \"pipeline.pipeline_run_id\": \"cfe9261a-74a0-4886-b966-e7f4a365f929\",\n",
    "    \"pipeline.github.repository\": \"matiasdahl/dev-mnist-digits-demo-pipeline\",\n",
    "    \"pipeline.github.workflow\": \"Run automated tests, pipeline and deploy results to static reporting site\",\n",
    "    \"pipeline.github.runner_name\": \"Hosted Agent\",\n",
    "    \"pipeline.github.run_id\": \"3580942443\",\n",
    "    \"pipeline.github.actor\": \"matiasdahl\",\n",
    "    \"pipeline.github.job\": \"run-tests-pipeline-and-persist-pipeline-outputs\",\n",
    "    \"pipeline.github.base_ref\": \"\",\n",
    "    \"pipeline.github.head_ref\": \"\",\n",
    "    \"pipeline.github.sha\": \"ace0d01011d5e914f1921450dd5a59c11367b38d\",\n",
    "    \"pipeline.github.ref\": \"refs/heads/development\",\n",
    "    \"pipeline.github.ref_type\": \"branch\",\n",
    "    \"pipeline.github.ref_name\": \"development\",\n",
    "    \"pipeline.github.event_name\": \"schedule\",\n",
    "    \"task.nr_train_images\": 800,\n",
    "    \"task.notebook\": \"notebooks/benchmark-model.py\",\n",
    "    \"task.max_nr_retries\": \"1\",\n",
    "    \"run.retry_nr\": \"0\",\n",
    "    \"task.timeout_s\": \"None\",\n",
    "    \"task.num_cpus\": 1,\n",
    "    \"_opentelemetry_traceparent\": \"00-9864e09d0e57f97d6c7f2117157bde4f-c56d9ce5a9651b38-01\",\n",
    "}\n"
   ]
  },
  {
   "cell_type": "code",
   "execution_count": 4,
   "id": "d3b004eb",
   "metadata": {
    "execution": {
     "iopub.execute_input": "2022-11-30T06:44:42.533466Z",
     "iopub.status.busy": "2022-11-30T06:44:42.533188Z",
     "iopub.status.idle": "2022-11-30T06:44:42.537013Z",
     "shell.execute_reply": "2022-11-30T06:44:42.535983Z"
    },
    "lines_to_next_cell": 0,
    "papermill": {
     "duration": 0.012342,
     "end_time": "2022-11-30T06:44:42.539507",
     "exception": false,
     "start_time": "2022-11-30T06:44:42.527165",
     "status": "completed"
    },
    "tags": []
   },
   "outputs": [],
   "source": [
    "# -----------------------------------------------------------------------"
   ]
  },
  {
   "cell_type": "markdown",
   "id": "4771ef50",
   "metadata": {
    "papermill": {
     "duration": 0.004381,
     "end_time": "2022-11-30T06:44:42.548803",
     "exception": false,
     "start_time": "2022-11-30T06:44:42.544422",
     "status": "completed"
    },
    "tags": []
   },
   "source": [
    "---"
   ]
  },
  {
   "cell_type": "markdown",
   "id": "8aeb7eb9",
   "metadata": {
    "lines_to_next_cell": 2,
    "papermill": {
     "duration": 0.004138,
     "end_time": "2022-11-30T06:44:42.558094",
     "exception": false,
     "start_time": "2022-11-30T06:44:42.553956",
     "status": "completed"
    },
    "tags": []
   },
   "source": [
    "### Notebook code"
   ]
  },
  {
   "cell_type": "code",
   "execution_count": 5,
   "id": "58391364",
   "metadata": {
    "execution": {
     "iopub.execute_input": "2022-11-30T06:44:42.567434Z",
     "iopub.status.busy": "2022-11-30T06:44:42.567164Z",
     "iopub.status.idle": "2022-11-30T06:44:43.727736Z",
     "shell.execute_reply": "2022-11-30T06:44:43.726770Z"
    },
    "papermill": {
     "duration": 1.16776,
     "end_time": "2022-11-30T06:44:43.730095",
     "exception": false,
     "start_time": "2022-11-30T06:44:42.562335",
     "status": "completed"
    },
    "tags": []
   },
   "outputs": [
    {
     "name": "stderr",
     "output_type": "stream",
     "text": [
      "2022-11-30 06:44:43,563\tINFO worker.py:842 -- Connecting to existing Ray cluster at address: 172.17.0.2:6379\n"
     ]
    }
   ],
   "source": [
    "import itertools as it\n",
    "\n",
    "#\n",
    "import numpy as np\n",
    "import matplotlib.pyplot as plt\n",
    "\n",
    "#\n",
    "from pynb_dag_runner.tasks.task_opentelemetry_logging import PydarLogger\n",
    "\n",
    "#\n",
    "from common.io import datalake_root\n",
    "\n",
    "logger = PydarLogger(P)"
   ]
  },
  {
   "cell_type": "markdown",
   "id": "0784feed",
   "metadata": {
    "papermill": {
     "duration": 0.004338,
     "end_time": "2022-11-30T06:44:43.739292",
     "exception": false,
     "start_time": "2022-11-30T06:44:43.734954",
     "status": "completed"
    },
    "tags": []
   },
   "source": [
    "## Load persisted onnx-model and evaluation data"
   ]
  },
  {
   "cell_type": "code",
   "execution_count": 6,
   "id": "fad8f8c5",
   "metadata": {
    "execution": {
     "iopub.execute_input": "2022-11-30T06:44:43.749972Z",
     "iopub.status.busy": "2022-11-30T06:44:43.749291Z",
     "iopub.status.idle": "2022-11-30T06:44:43.752876Z",
     "shell.execute_reply": "2022-11-30T06:44:43.752257Z"
    },
    "papermill": {
     "duration": 0.010404,
     "end_time": "2022-11-30T06:44:43.754152",
     "exception": false,
     "start_time": "2022-11-30T06:44:43.743748",
     "status": "completed"
    },
    "tags": []
   },
   "outputs": [],
   "source": [
    "from common.io import read_onnx, get_onnx_inputs, get_onnx_outputs, read_numpy"
   ]
  },
  {
   "cell_type": "code",
   "execution_count": 7,
   "id": "4f492d04",
   "metadata": {
    "execution": {
     "iopub.execute_input": "2022-11-30T06:44:43.764381Z",
     "iopub.status.busy": "2022-11-30T06:44:43.763943Z",
     "iopub.status.idle": "2022-11-30T06:44:43.773733Z",
     "shell.execute_reply": "2022-11-30T06:44:43.773206Z"
    },
    "lines_to_next_cell": 0,
    "papermill": {
     "duration": 0.016561,
     "end_time": "2022-11-30T06:44:43.775239",
     "exception": false,
     "start_time": "2022-11-30T06:44:43.758678",
     "status": "completed"
    },
    "tags": []
   },
   "outputs": [],
   "source": [
    "onnx_inference_session = read_onnx(\n",
    "    datalake_root(P)\n",
    "    / \"models\"\n",
    "    / f\"nr_train_images={P['task.nr_train_images']}\"\n",
    "    / \"model.onnx\"\n",
    ")"
   ]
  },
  {
   "cell_type": "markdown",
   "id": "6a1a55c5",
   "metadata": {
    "papermill": {
     "duration": 0.004689,
     "end_time": "2022-11-30T06:44:43.784114",
     "exception": false,
     "start_time": "2022-11-30T06:44:43.779425",
     "status": "completed"
    },
    "tags": []
   },
   "source": [
    "### Record structure of inputs and outputs for ONNX model\n",
    "\n",
    "(this should likely be done in training notebook)"
   ]
  },
  {
   "cell_type": "code",
   "execution_count": 8,
   "id": "0de1b00e",
   "metadata": {
    "execution": {
     "iopub.execute_input": "2022-11-30T06:44:43.794928Z",
     "iopub.status.busy": "2022-11-30T06:44:43.794480Z",
     "iopub.status.idle": "2022-11-30T06:44:43.801103Z",
     "shell.execute_reply": "2022-11-30T06:44:43.800540Z"
    },
    "papermill": {
     "duration": 0.013621,
     "end_time": "2022-11-30T06:44:43.802616",
     "exception": false,
     "start_time": "2022-11-30T06:44:43.788995",
     "status": "completed"
    },
    "tags": []
   },
   "outputs": [
    {
     "name": "stdout",
     "output_type": "stream",
     "text": [
      "{\n",
      "  \"inputs\": [\n",
      "    {\n",
      "      \"name\": \"float_input_8x8_image\",\n",
      "      \"shape\": [\n",
      "        null,\n",
      "        64\n",
      "      ],\n",
      "      \"type\": \"tensor(float)\"\n",
      "    }\n",
      "  ],\n",
      "  \"outputs\": [\n",
      "    {\n",
      "      \"name\": \"output_label\",\n",
      "      \"shape\": [\n",
      "        null\n",
      "      ],\n",
      "      \"type\": \"tensor(int64)\"\n",
      "    },\n",
      "    {\n",
      "      \"name\": \"output_probability\",\n",
      "      \"shape\": [],\n",
      "      \"type\": \"seq(map(int64,tensor(float)))\"\n",
      "    }\n",
      "  ]\n",
      "}\n"
     ]
    }
   ],
   "source": [
    "import json\n",
    "\n",
    "onnx_io = json.dumps(\n",
    "    {\n",
    "        \"inputs\": get_onnx_inputs(onnx_inference_session),\n",
    "        \"outputs\": get_onnx_outputs(onnx_inference_session),\n",
    "    },\n",
    "    indent=2,\n",
    ")\n",
    "\n",
    "\n",
    "logger.log_artefact(\"onnx_io_structure.json\", onnx_io)\n",
    "print(onnx_io)"
   ]
  },
  {
   "cell_type": "markdown",
   "id": "ea89aa1b",
   "metadata": {
    "papermill": {
     "duration": 0.004487,
     "end_time": "2022-11-30T06:44:43.811324",
     "exception": false,
     "start_time": "2022-11-30T06:44:43.806837",
     "status": "completed"
    },
    "tags": []
   },
   "source": [
    "### Evaluate model performance on evaluation data set"
   ]
  },
  {
   "cell_type": "code",
   "execution_count": 9,
   "id": "35af0df7",
   "metadata": {
    "execution": {
     "iopub.execute_input": "2022-11-30T06:44:43.821934Z",
     "iopub.status.busy": "2022-11-30T06:44:43.821362Z",
     "iopub.status.idle": "2022-11-30T06:44:43.825844Z",
     "shell.execute_reply": "2022-11-30T06:44:43.825331Z"
    },
    "papermill": {
     "duration": 0.011415,
     "end_time": "2022-11-30T06:44:43.827122",
     "exception": false,
     "start_time": "2022-11-30T06:44:43.815707",
     "status": "completed"
    },
    "tags": []
   },
   "outputs": [],
   "source": [
    "# load evaluation data\n",
    "X_test = read_numpy(datalake_root(P) / \"test-data\" / \"digits.numpy\")\n",
    "y_test = read_numpy(datalake_root(P) / \"test-data\" / \"labels.numpy\")"
   ]
  },
  {
   "cell_type": "code",
   "execution_count": 10,
   "id": "a33112dc",
   "metadata": {
    "execution": {
     "iopub.execute_input": "2022-11-30T06:44:43.837836Z",
     "iopub.status.busy": "2022-11-30T06:44:43.837361Z",
     "iopub.status.idle": "2022-11-30T06:44:43.890507Z",
     "shell.execute_reply": "2022-11-30T06:44:43.889815Z"
    },
    "papermill": {
     "duration": 0.060457,
     "end_time": "2022-11-30T06:44:43.892629",
     "exception": false,
     "start_time": "2022-11-30T06:44:43.832172",
     "status": "completed"
    },
    "tags": []
   },
   "outputs": [],
   "source": [
    "def get_model_outputs(X, onnx_inference_session):\n",
    "    y_pred_labels, y_pred_map = onnx_inference_session.run(\n",
    "        [\"output_label\", \"output_probability\"],\n",
    "        {\"float_input_8x8_image\": X.astype(np.float32)},\n",
    "    )\n",
    "    y_pred_probs = np.array(\n",
    "        [[probabilities[digit] for digit in range(10)] for probabilities in y_pred_map]\n",
    "    )\n",
    "\n",
    "    assert y_pred_labels.shape == (X.shape[0],)\n",
    "    assert y_pred_probs.shape == (X.shape[0], 10)\n",
    "\n",
    "    return y_pred_labels, y_pred_probs\n",
    "\n",
    "\n",
    "# Note: as shown in the training notebook, the predicted labels and probabilities\n",
    "# computed below need not be compatible.\n",
    "y_pred_labels_test, y_pred_probs_test = get_model_outputs(\n",
    "    X_test, onnx_inference_session\n",
    ")"
   ]
  },
  {
   "cell_type": "markdown",
   "id": "41c48fd8",
   "metadata": {
    "papermill": {
     "duration": 0.007702,
     "end_time": "2022-11-30T06:44:43.905140",
     "exception": false,
     "start_time": "2022-11-30T06:44:43.897438",
     "status": "completed"
    },
    "tags": []
   },
   "source": [
    "### Confusion matrix"
   ]
  },
  {
   "cell_type": "code",
   "execution_count": 11,
   "id": "d2f358cb",
   "metadata": {
    "execution": {
     "iopub.execute_input": "2022-11-30T06:44:43.915729Z",
     "iopub.status.busy": "2022-11-30T06:44:43.915454Z",
     "iopub.status.idle": "2022-11-30T06:44:43.918362Z",
     "shell.execute_reply": "2022-11-30T06:44:43.917647Z"
    },
    "papermill": {
     "duration": 0.010711,
     "end_time": "2022-11-30T06:44:43.920267",
     "exception": false,
     "start_time": "2022-11-30T06:44:43.909556",
     "status": "completed"
    },
    "tags": []
   },
   "outputs": [],
   "source": [
    "# TODO"
   ]
  },
  {
   "cell_type": "markdown",
   "id": "6839374c",
   "metadata": {
    "papermill": {
     "duration": 0.004042,
     "end_time": "2022-11-30T06:44:43.929222",
     "exception": false,
     "start_time": "2022-11-30T06:44:43.925180",
     "status": "completed"
    },
    "tags": []
   },
   "source": [
    "### Plot predicted probabilities for each classifier over all evaluation digit images"
   ]
  },
  {
   "cell_type": "code",
   "execution_count": 12,
   "id": "b02c16cb",
   "metadata": {
    "execution": {
     "iopub.execute_input": "2022-11-30T06:44:43.939854Z",
     "iopub.status.busy": "2022-11-30T06:44:43.939414Z",
     "iopub.status.idle": "2022-11-30T06:44:46.737476Z",
     "shell.execute_reply": "2022-11-30T06:44:46.736632Z"
    },
    "papermill": {
     "duration": 2.805005,
     "end_time": "2022-11-30T06:44:46.739043",
     "exception": false,
     "start_time": "2022-11-30T06:44:43.934038",
     "status": "completed"
    },
    "tags": []
   },
   "outputs": [
    {
     "data": {
      "image/png": "[encoded data removed]",
      "text/plain": [
       "<Figure size 1600x600 with 10 Axes>"
      ]
     },
     "metadata": {},
     "output_type": "display_data"
    }
   ],
   "source": [
    "def plot_per_digit_probabilities(y_pred_probs):\n",
    "    fig, axs = plt.subplots(nrows=2, ncols=5, figsize=(16, 6))\n",
    "\n",
    "    for (r, c), digit, ax in zip(\n",
    "        it.product(range(2), range(5)), range(10), axs.reshape(-1)\n",
    "    ):\n",
    "        ax.hist(y_pred_probs_test[:, digit], bins=20)\n",
    "\n",
    "        ax.set_title(f\"Digit {digit}\")\n",
    "        if r == 1 and c == 2:\n",
    "            ax.set_xlabel(\"probability\", fontsize=16)\n",
    "\n",
    "        if c == 0:\n",
    "            ax.set_ylabel(\"counts\", fontsize=16)\n",
    "        ax.set_yscale(\"log\")\n",
    "\n",
    "    fig.tight_layout()\n",
    "    fig.suptitle(\n",
    "        f\"Distributions of prediction probabilities for each digit \"\n",
    "        f\"(on evaluation data, n={y_pred_probs.shape[0]})\",\n",
    "        fontsize=20,\n",
    "    )\n",
    "    fig.tight_layout()\n",
    "    fig.show()\n",
    "\n",
    "    return fig\n",
    "\n",
    "\n",
    "fig = plot_per_digit_probabilities(y_pred_probs_test)"
   ]
  },
  {
   "cell_type": "markdown",
   "id": "f72dedd5",
   "metadata": {
    "papermill": {
     "duration": 0.005248,
     "end_time": "2022-11-30T06:44:46.750345",
     "exception": false,
     "start_time": "2022-11-30T06:44:46.745097",
     "status": "completed"
    },
    "tags": []
   },
   "source": [
    "From the above distributions we see that most digits have clear separation between\n",
    "high and lower probabilities. Morover, in each case there is roughly an order of\n",
    "magnitude more of digits with low probabilities. This is compatible with digits\n",
    "being roughly evenly distributed in the data."
   ]
  },
  {
   "cell_type": "code",
   "execution_count": 13,
   "id": "c36316c8",
   "metadata": {
    "execution": {
     "iopub.execute_input": "2022-11-30T06:44:46.761696Z",
     "iopub.status.busy": "2022-11-30T06:44:46.761421Z",
     "iopub.status.idle": "2022-11-30T06:44:47.192219Z",
     "shell.execute_reply": "2022-11-30T06:44:47.191343Z"
    },
    "papermill": {
     "duration": 0.43887,
     "end_time": "2022-11-30T06:44:47.194134",
     "exception": false,
     "start_time": "2022-11-30T06:44:46.755264",
     "status": "completed"
    },
    "tags": []
   },
   "outputs": [],
   "source": [
    "logger.log_figure(\"per-digit-probabilities.png\", fig)"
   ]
  },
  {
   "cell_type": "markdown",
   "id": "b3264556",
   "metadata": {
    "papermill": {
     "duration": 0.004838,
     "end_time": "2022-11-30T06:44:47.204636",
     "exception": false,
     "start_time": "2022-11-30T06:44:47.199798",
     "status": "completed"
    },
    "tags": []
   },
   "source": [
    "### Plot ROC curves for individual one-vs-rest classifiers"
   ]
  },
  {
   "cell_type": "code",
   "execution_count": 14,
   "id": "c5286226",
   "metadata": {
    "execution": {
     "iopub.execute_input": "2022-11-30T06:44:47.215891Z",
     "iopub.status.busy": "2022-11-30T06:44:47.215636Z",
     "iopub.status.idle": "2022-11-30T06:44:47.588150Z",
     "shell.execute_reply": "2022-11-30T06:44:47.587451Z"
    },
    "papermill": {
     "duration": 0.379999,
     "end_time": "2022-11-30T06:44:47.589837",
     "exception": false,
     "start_time": "2022-11-30T06:44:47.209838",
     "status": "completed"
    },
    "tags": []
   },
   "outputs": [],
   "source": [
    "from sklearn import metrics"
   ]
  },
  {
   "cell_type": "code",
   "execution_count": 15,
   "id": "82c9af79",
   "metadata": {
    "execution": {
     "iopub.execute_input": "2022-11-30T06:44:47.602268Z",
     "iopub.status.busy": "2022-11-30T06:44:47.601935Z",
     "iopub.status.idle": "2022-11-30T06:44:49.148473Z",
     "shell.execute_reply": "2022-11-30T06:44:49.147706Z"
    },
    "papermill": {
     "duration": 1.554721,
     "end_time": "2022-11-30T06:44:49.150203",
     "exception": false,
     "start_time": "2022-11-30T06:44:47.595482",
     "status": "completed"
    },
    "tags": []
   },
   "outputs": [
    {
     "data": {
      "image/png": "[encoded data removed]",
      "text/plain": [
       "<Figure size 1600x800 with 10 Axes>"
      ]
     },
     "metadata": {},
     "output_type": "display_data"
    }
   ],
   "source": [
    "def plot_roc_curves(y, y_pred_probs):\n",
    "    # based on example code\n",
    "    # https://scikit-learn.org/stable/auto_examples/model_selection/plot_roc.html\n",
    "\n",
    "    fig, axs = plt.subplots(nrows=2, ncols=5, figsize=(16, 8))\n",
    "\n",
    "    roc_auc_dict = {}\n",
    "\n",
    "    for (r, c), digit, ax in zip(\n",
    "        it.product(range(2), range(5)), range(10), axs.reshape(-1)\n",
    "    ):\n",
    "        fpr, tpr, _ = metrics.roc_curve(y == digit, y_pred_probs[:, digit])\n",
    "        auc = metrics.auc(fpr, tpr)\n",
    "        roc_auc_dict[str(digit)] = auc\n",
    "\n",
    "        ax.plot(fpr, tpr, label=f\"ROC AUC={round(auc, 3)}\")\n",
    "\n",
    "        ax.set_title(f\"\\nDigit {digit}\", fontsize=16)\n",
    "        if r == 1:\n",
    "            ax.set_xlabel(\"FPR\", fontsize=18)\n",
    "\n",
    "        if c == 0:\n",
    "            ax.set_ylabel(\"TPR\", fontsize=18)\n",
    "\n",
    "        ax.set_xlim([-0.05, 1.05])\n",
    "        ax.set_ylim([-0.05, 1.05])\n",
    "        ax.legend(loc=\"lower right\", frameon=False, fontsize=14)\n",
    "\n",
    "    fig.tight_layout()\n",
    "    fig.suptitle(\n",
    "        f\"ROC plots for one-vs-rest performances \"\n",
    "        f\"(on evaluation data, n={y_pred_probs_test.shape[1]}\",\n",
    "        fontsize=22,\n",
    "    )\n",
    "    fig.tight_layout()\n",
    "    fig.show()\n",
    "\n",
    "    return roc_auc_dict, fig\n",
    "\n",
    "\n",
    "roc_auc_dict, fig = plot_roc_curves(y_test, y_pred_probs_test)"
   ]
  },
  {
   "cell_type": "code",
   "execution_count": 16,
   "id": "ca256965",
   "metadata": {
    "execution": {
     "iopub.execute_input": "2022-11-30T06:44:49.164529Z",
     "iopub.status.busy": "2022-11-30T06:44:49.164172Z",
     "iopub.status.idle": "2022-11-30T06:44:49.418700Z",
     "shell.execute_reply": "2022-11-30T06:44:49.417997Z"
    },
    "papermill": {
     "duration": 0.263218,
     "end_time": "2022-11-30T06:44:49.420426",
     "exception": false,
     "start_time": "2022-11-30T06:44:49.157208",
     "status": "completed"
    },
    "tags": []
   },
   "outputs": [],
   "source": [
    "logger.log_figure(\"per-digit-roc-curves.png\", fig)"
   ]
  },
  {
   "cell_type": "code",
   "execution_count": 17,
   "id": "82bb357a",
   "metadata": {
    "execution": {
     "iopub.execute_input": "2022-11-30T06:44:49.440103Z",
     "iopub.status.busy": "2022-11-30T06:44:49.439760Z",
     "iopub.status.idle": "2022-11-30T06:44:49.445046Z",
     "shell.execute_reply": "2022-11-30T06:44:49.444333Z"
    },
    "papermill": {
     "duration": 0.020178,
     "end_time": "2022-11-30T06:44:49.447712",
     "exception": false,
     "start_time": "2022-11-30T06:44:49.427534",
     "status": "completed"
    },
    "tags": []
   },
   "outputs": [
    {
     "data": {
      "text/plain": [
       "{'0': 1.0,\n",
       " '1': 0.9988003748828491,\n",
       " '2': 1.0,\n",
       " '3': 0.9998125585754452,\n",
       " '4': 0.9995808565767414,\n",
       " '5': 0.9991377694470478,\n",
       " '6': 0.999961896052431,\n",
       " '7': 0.9998856881572931,\n",
       " '8': 0.9930643127364439,\n",
       " '9': 0.9994284407864655}"
      ]
     },
     "execution_count": 17,
     "metadata": {},
     "output_type": "execute_result"
    }
   ],
   "source": [
    "roc_auc_dict"
   ]
  },
  {
   "cell_type": "code",
   "execution_count": 18,
   "id": "7b998262",
   "metadata": {
    "execution": {
     "iopub.execute_input": "2022-11-30T06:44:49.463005Z",
     "iopub.status.busy": "2022-11-30T06:44:49.462256Z",
     "iopub.status.idle": "2022-11-30T06:44:49.466965Z",
     "shell.execute_reply": "2022-11-30T06:44:49.466088Z"
    },
    "papermill": {
     "duration": 0.014833,
     "end_time": "2022-11-30T06:44:49.469587",
     "exception": false,
     "start_time": "2022-11-30T06:44:49.454754",
     "status": "completed"
    },
    "tags": []
   },
   "outputs": [
    {
     "name": "stdout",
     "output_type": "stream",
     "text": [
      " - Logging roc_auc_per_digit (json) : {'0': 1.0, '1': 0.9988003748828491, '2': 1.0, '3': 0.9998125585754452, '4': 0.9995808565767414, '5': 0.9991377694470478, '6': 0.999961896052431, '7': 0.9998856881572931, '8': 0.9930643127364439, '9': 0.9994284407864655}\n"
     ]
    }
   ],
   "source": [
    "logger.log_value(\"roc_auc_per_digit\", roc_auc_dict)"
   ]
  },
  {
   "cell_type": "markdown",
   "id": "ae88de2f",
   "metadata": {
    "papermill": {
     "duration": 0.006018,
     "end_time": "2022-11-30T06:44:49.482485",
     "exception": false,
     "start_time": "2022-11-30T06:44:49.476467",
     "status": "completed"
    },
    "tags": []
   },
   "source": [
    "### Compute and log mean ROC AUC score averaged over all digits"
   ]
  },
  {
   "cell_type": "code",
   "execution_count": 19,
   "id": "b91e8d98",
   "metadata": {
    "execution": {
     "iopub.execute_input": "2022-11-30T06:44:49.497491Z",
     "iopub.status.busy": "2022-11-30T06:44:49.497139Z",
     "iopub.status.idle": "2022-11-30T06:44:49.510596Z",
     "shell.execute_reply": "2022-11-30T06:44:49.509848Z"
    },
    "papermill": {
     "duration": 0.022914,
     "end_time": "2022-11-30T06:44:49.512264",
     "exception": false,
     "start_time": "2022-11-30T06:44:49.489350",
     "status": "completed"
    },
    "tags": []
   },
   "outputs": [
    {
     "name": "stdout",
     "output_type": "stream",
     "text": [
      " - Logging roc_auc_class_mean (float) : 0.9989671897214716\n"
     ]
    }
   ],
   "source": [
    "roc_auc_macro = np.mean(list(roc_auc_dict.values()))\n",
    "\n",
    "logger.log_float(\"roc_auc_class_mean\", roc_auc_macro)\n",
    "\n",
    "# assert that the same value can be computed directly using sklearn\n",
    "assert roc_auc_macro == metrics.roc_auc_score(\n",
    "    y_test, y_pred_probs_test, average=\"macro\", multi_class=\"ovr\"\n",
    ")"
   ]
  },
  {
   "cell_type": "code",
   "execution_count": 20,
   "id": "041c9dcd",
   "metadata": {
    "execution": {
     "iopub.execute_input": "2022-11-30T06:44:49.528176Z",
     "iopub.status.busy": "2022-11-30T06:44:49.527817Z",
     "iopub.status.idle": "2022-11-30T06:44:49.531151Z",
     "shell.execute_reply": "2022-11-30T06:44:49.530355Z"
    },
    "lines_to_next_cell": 0,
    "papermill": {
     "duration": 0.013119,
     "end_time": "2022-11-30T06:44:49.532798",
     "exception": false,
     "start_time": "2022-11-30T06:44:49.519679",
     "status": "completed"
    },
    "tags": []
   },
   "outputs": [],
   "source": [
    "# ---"
   ]
  },
  {
   "cell_type": "code",
   "execution_count": null,
   "id": "b8f0ee16",
   "metadata": {
    "papermill": {
     "duration": 0.007059,
     "end_time": "2022-11-30T06:44:49.548715",
     "exception": false,
     "start_time": "2022-11-30T06:44:49.541656",
     "status": "completed"
    },
    "tags": []
   },
   "outputs": [],
   "source": []
  }
 ],
 "metadata": {
  "jupytext": {
   "cell_metadata_filter": "tags,-all",
   "main_language": "python",
   "notebook_metadata_filter": "-all"
  },
  "language_info": {
   "codemirror_mode": {
    "name": "ipython",
    "version": 3
   },
   "file_extension": ".py",
   "mimetype": "text/x-python",
   "name": "python",
   "nbconvert_exporter": "python",
   "pygments_lexer": "ipython3",
   "version": "3.8.10"
  },
  "papermill": {
   "default_parameters": {},
   "duration": 9.333186,
   "end_time": "2022-11-30T06:44:50.574920",
   "environment_variables": {},
   "exception": null,
   "input_path": "/home/host_user/workspace/mnist-demo-pipeline/mnist-demo-pipeline/notebooks/temp-notebook-wyqy6eq9.ipynb",
   "output_path": "notebooks/benchmark-model.ipynb",
   "parameters": {
    "P": {
     "_opentelemetry_traceparent": "00-9864e09d0e57f97d6c7f2117157bde4f-c56d9ce5a9651b38-01",
     "pipeline.data_lake_root": "/pipeline-outputs/data-lake",
     "pipeline.github.actor": "matiasdahl",
     "pipeline.github.base_ref": "",
     "pipeline.github.event_name": "schedule",
     "pipeline.github.head_ref": "",
     "pipeline.github.job": "run-tests-pipeline-and-persist-pipeline-outputs",
     "pipeline.github.ref": "refs/heads/development",
     "pipeline.github.ref_name": "development",
     "pipeline.github.ref_type": "branch",
     "pipeline.github.repository": "matiasdahl/dev-mnist-digits-demo-pipeline",
     "pipeline.github.run_id": "3580942443",
     "pipeline.github.runner_name": "Hosted Agent",
     "pipeline.github.sha": "ace0d01011d5e914f1921450dd5a59c11367b38d",
     "pipeline.github.workflow": "Run automated tests, pipeline and deploy results to static reporting site",
     "pipeline.pipeline_run_id": "cfe9261a-74a0-4886-b966-e7f4a365f929",
     "pipeline.run_environment": "ci",
     "run.retry_nr": "0",
     "task.max_nr_retries": "1",
     "task.notebook": "notebooks/benchmark-model.py",
     "task.nr_train_images": 800,
     "task.num_cpus": 1,
     "task.timeout_s": "None"
    }
   },
   "start_time": "2022-11-30T06:44:41.241734",
   "version": "2.3.3"
  }
 },
 "nbformat": 4,
 "nbformat_minor": 5
}