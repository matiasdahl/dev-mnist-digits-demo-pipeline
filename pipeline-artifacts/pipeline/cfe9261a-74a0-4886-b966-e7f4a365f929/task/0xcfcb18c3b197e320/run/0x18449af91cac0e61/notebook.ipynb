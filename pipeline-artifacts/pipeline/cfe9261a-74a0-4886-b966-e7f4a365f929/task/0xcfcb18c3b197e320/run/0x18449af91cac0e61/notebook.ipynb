{
 "cells": [
  {
   "cell_type": "markdown",
   "id": "6301d130",
   "metadata": {
    "papermill": {
     "duration": 0.003537,
     "end_time": "2022-11-30T06:45:07.684069",
     "exception": false,
     "start_time": "2022-11-30T06:45:07.680532",
     "status": "completed"
    },
    "tags": []
   },
   "source": [
    "# Summarize model performances\n",
    "\n",
    "This notebooks plots the performances (using averaged ROC AUC scores) for models\n",
    "trained with different training sets."
   ]
  },
  {
   "cell_type": "markdown",
   "id": "20c16af9",
   "metadata": {
    "papermill": {
     "duration": 0.002656,
     "end_time": "2022-11-30T06:45:07.689679",
     "exception": false,
     "start_time": "2022-11-30T06:45:07.687023",
     "status": "completed"
    },
    "tags": []
   },
   "source": [
    "### Determine run parameters"
   ]
  },
  {
   "cell_type": "code",
   "execution_count": 1,
   "id": "0445f455",
   "metadata": {
    "execution": {
     "iopub.execute_input": "2022-11-30T06:45:07.696171Z",
     "iopub.status.busy": "2022-11-30T06:45:07.695605Z",
     "iopub.status.idle": "2022-11-30T06:45:07.703106Z",
     "shell.execute_reply": "2022-11-30T06:45:07.702443Z"
    },
    "lines_to_next_cell": 0,
    "papermill": {
     "duration": 0.012535,
     "end_time": "2022-11-30T06:45:07.704603",
     "exception": false,
     "start_time": "2022-11-30T06:45:07.692068",
     "status": "completed"
    },
    "tags": []
   },
   "outputs": [],
   "source": [
    "# ----------------- Parameters for interactive development --------------\n",
    "P = {\n",
    "    \"pipeline.run_environment\": \"dev\",\n",
    "}"
   ]
  },
  {
   "cell_type": "code",
   "execution_count": 2,
   "id": "18255a5f",
   "metadata": {
    "execution": {
     "iopub.execute_input": "2022-11-30T06:45:07.711351Z",
     "iopub.status.busy": "2022-11-30T06:45:07.710931Z",
     "iopub.status.idle": "2022-11-30T06:45:07.713919Z",
     "shell.execute_reply": "2022-11-30T06:45:07.713361Z"
    },
    "lines_to_next_cell": 0,
    "papermill": {
     "duration": 0.007931,
     "end_time": "2022-11-30T06:45:07.715208",
     "exception": false,
     "start_time": "2022-11-30T06:45:07.707277",
     "status": "completed"
    },
    "tags": [
     "parameters"
    ]
   },
   "outputs": [],
   "source": [
    "# - During automated runs parameters will be injected in the below cell -"
   ]
  },
  {
   "cell_type": "code",
   "execution_count": 3,
   "id": "12fee1ee",
   "metadata": {
    "execution": {
     "iopub.execute_input": "2022-11-30T06:45:07.722956Z",
     "iopub.status.busy": "2022-11-30T06:45:07.722413Z",
     "iopub.status.idle": "2022-11-30T06:45:07.727406Z",
     "shell.execute_reply": "2022-11-30T06:45:07.726913Z"
    },
    "papermill": {
     "duration": 0.011146,
     "end_time": "2022-11-30T06:45:07.728893",
     "exception": false,
     "start_time": "2022-11-30T06:45:07.717747",
     "status": "completed"
    },
    "tags": [
     "injected-parameters"
    ]
   },
   "outputs": [],
   "source": [
    "# Parameters\n",
    "P = {\n",
    "    \"pipeline.data_lake_root\": \"/pipeline-outputs/data-lake\",\n",
    "    \"pipeline.run_environment\": \"ci\",\n",
    "    \"pipeline.pipeline_run_id\": \"cfe9261a-74a0-4886-b966-e7f4a365f929\",\n",
    "    \"pipeline.github.repository\": \"matiasdahl/dev-mnist-digits-demo-pipeline\",\n",
    "    \"pipeline.github.workflow\": \"Run automated tests, pipeline and deploy results to static reporting site\",\n",
    "    \"pipeline.github.runner_name\": \"Hosted Agent\",\n",
    "    \"pipeline.github.run_id\": \"3580942443\",\n",
    "    \"pipeline.github.actor\": \"matiasdahl\",\n",
    "    \"pipeline.github.job\": \"run-tests-pipeline-and-persist-pipeline-outputs\",\n",
    "    \"pipeline.github.base_ref\": \"\",\n",
    "    \"pipeline.github.head_ref\": \"\",\n",
    "    \"pipeline.github.sha\": \"ace0d01011d5e914f1921450dd5a59c11367b38d\",\n",
    "    \"pipeline.github.ref\": \"refs/heads/development\",\n",
    "    \"pipeline.github.ref_type\": \"branch\",\n",
    "    \"pipeline.github.ref_name\": \"development\",\n",
    "    \"pipeline.github.event_name\": \"schedule\",\n",
    "    \"task.notebook\": \"notebooks/summary.py\",\n",
    "    \"task.max_nr_retries\": \"1\",\n",
    "    \"run.retry_nr\": \"0\",\n",
    "    \"task.timeout_s\": \"None\",\n",
    "    \"task.num_cpus\": 1,\n",
    "    \"_opentelemetry_traceparent\": \"00-9864e09d0e57f97d6c7f2117157bde4f-c306f90c3c6a57fe-01\",\n",
    "}\n"
   ]
  },
  {
   "cell_type": "code",
   "execution_count": 4,
   "id": "fa5beca1",
   "metadata": {
    "execution": {
     "iopub.execute_input": "2022-11-30T06:45:07.735521Z",
     "iopub.status.busy": "2022-11-30T06:45:07.735029Z",
     "iopub.status.idle": "2022-11-30T06:45:07.737847Z",
     "shell.execute_reply": "2022-11-30T06:45:07.737262Z"
    },
    "lines_to_next_cell": 0,
    "papermill": {
     "duration": 0.007513,
     "end_time": "2022-11-30T06:45:07.739196",
     "exception": false,
     "start_time": "2022-11-30T06:45:07.731683",
     "status": "completed"
    },
    "tags": []
   },
   "outputs": [],
   "source": [
    "# -----------------------------------------------------------------------"
   ]
  },
  {
   "cell_type": "markdown",
   "id": "7f0ae491",
   "metadata": {
    "papermill": {
     "duration": 0.002424,
     "end_time": "2022-11-30T06:45:07.744591",
     "exception": false,
     "start_time": "2022-11-30T06:45:07.742167",
     "status": "completed"
    },
    "tags": []
   },
   "source": [
    "---"
   ]
  },
  {
   "cell_type": "markdown",
   "id": "00e15345",
   "metadata": {
    "lines_to_next_cell": 2,
    "papermill": {
     "duration": 0.00247,
     "end_time": "2022-11-30T06:45:07.749481",
     "exception": false,
     "start_time": "2022-11-30T06:45:07.747011",
     "status": "completed"
    },
    "tags": []
   },
   "source": [
    "### Notebook code"
   ]
  },
  {
   "cell_type": "code",
   "execution_count": 5,
   "id": "7d65c6a5",
   "metadata": {
    "execution": {
     "iopub.execute_input": "2022-11-30T06:45:07.755897Z",
     "iopub.status.busy": "2022-11-30T06:45:07.755474Z",
     "iopub.status.idle": "2022-11-30T06:45:08.829471Z",
     "shell.execute_reply": "2022-11-30T06:45:08.828830Z"
    },
    "papermill": {
     "duration": 1.078859,
     "end_time": "2022-11-30T06:45:08.831138",
     "exception": false,
     "start_time": "2022-11-30T06:45:07.752279",
     "status": "completed"
    },
    "tags": []
   },
   "outputs": [],
   "source": [
    "#\n",
    "import pandas as pd\n",
    "import matplotlib.pyplot as plt\n",
    "\n",
    "#\n",
    "from pynb_dag_runner.tasks.task_opentelemetry_logging import PydarLogger"
   ]
  },
  {
   "cell_type": "code",
   "execution_count": 6,
   "id": "ca0b548f",
   "metadata": {
    "execution": {
     "iopub.execute_input": "2022-11-30T06:45:08.839060Z",
     "iopub.status.busy": "2022-11-30T06:45:08.838544Z",
     "iopub.status.idle": "2022-11-30T06:45:08.991708Z",
     "shell.execute_reply": "2022-11-30T06:45:08.989897Z"
    },
    "papermill": {
     "duration": 0.158927,
     "end_time": "2022-11-30T06:45:08.993469",
     "exception": false,
     "start_time": "2022-11-30T06:45:08.834542",
     "status": "completed"
    },
    "tags": []
   },
   "outputs": [
    {
     "name": "stderr",
     "output_type": "stream",
     "text": [
      "2022-11-30 06:45:08,842\tINFO worker.py:842 -- Connecting to existing Ray cluster at address: 172.17.0.2:6379\n"
     ]
    }
   ],
   "source": [
    "logger = PydarLogger(P=P)"
   ]
  },
  {
   "cell_type": "code",
   "execution_count": 7,
   "id": "40b70c81",
   "metadata": {
    "execution": {
     "iopub.execute_input": "2022-11-30T06:45:09.001561Z",
     "iopub.status.busy": "2022-11-30T06:45:09.000947Z",
     "iopub.status.idle": "2022-11-30T06:45:09.004370Z",
     "shell.execute_reply": "2022-11-30T06:45:09.003847Z"
    },
    "papermill": {
     "duration": 0.008765,
     "end_time": "2022-11-30T06:45:09.005730",
     "exception": false,
     "start_time": "2022-11-30T06:45:08.996965",
     "status": "completed"
    },
    "tags": []
   },
   "outputs": [],
   "source": [
    "from pynb_dag_runner.tasks.task_opentelemetry_logging import (\n",
    "    PydarLogger,\n",
    "    get_logged_values,\n",
    ")\n",
    "from pynb_dag_runner.opentelemetry_helpers import _get_all_spans, Spans"
   ]
  },
  {
   "cell_type": "code",
   "execution_count": 8,
   "id": "b2a935b1",
   "metadata": {
    "execution": {
     "iopub.execute_input": "2022-11-30T06:45:09.014039Z",
     "iopub.status.busy": "2022-11-30T06:45:09.013299Z",
     "iopub.status.idle": "2022-11-30T06:45:09.020159Z",
     "shell.execute_reply": "2022-11-30T06:45:09.019579Z"
    },
    "papermill": {
     "duration": 0.012814,
     "end_time": "2022-11-30T06:45:09.021686",
     "exception": false,
     "start_time": "2022-11-30T06:45:09.008872",
     "status": "completed"
    },
    "tags": []
   },
   "outputs": [],
   "source": [
    "def get_model_benchmarks():\n",
    "    \"\"\"\n",
    "    Query the OpenTelemetry logs for *this pipeline run* and return\n",
    "    all key-values logged from all runs of the benchmark-model.py task\n",
    "\n",
    "    For testing a json file with OpenTelemetry spans (as an array)\n",
    "    can be used as follows:\n",
    "\n",
    "    - Create output directory `mkdir /tmp/spans`\n",
    "    - Run unit tests. This will create pipeline-outputs/opentelemetry-spans.json\n",
    "    - Convert this json-array into jsonl format as follows\n",
    "\n",
    "    jq -c '.[]' /pipeline-outputs/opentelemetry-spans.json > /tmp/spans/data.txt\n",
    "\n",
    "    \"\"\"\n",
    "    spans: Spans = Spans(_get_all_spans())\n",
    "    print(f\"Found {len(spans)} spans\")\n",
    "\n",
    "    benchmark_spans = (\n",
    "        spans\n",
    "        # -\n",
    "        .filter([\"name\"], \"execute-task\")\n",
    "        # -\n",
    "        .filter([\"attributes\", \"task.notebook\"], \"notebooks/benchmark-model.py\")\n",
    "    )\n",
    "\n",
    "    result = []\n",
    "    for s in benchmark_spans:\n",
    "        result.append(\n",
    "            {\n",
    "                \"span_id\": s[\"context\"][\"span_id\"],\n",
    "                \"nr_train_images\": s[\"attributes\"][\"task.nr_train_images\"],\n",
    "                \"data\": get_logged_values(spans.bound_under(s)),\n",
    "            }\n",
    "        )\n",
    "\n",
    "    return result\n",
    "\n",
    "\n",
    "def adjust_pandas(df):\n",
    "    def column_renamer(col_name: str) -> str:\n",
    "        return (\n",
    "            col_name\n",
    "            # -- 'data.roc_auc_per_digit.4' -> 'roc_auc.4'\n",
    "            .replace(\"data.roc_auc_per_digit\", \"roc_auc\")\n",
    "            # -- 'data.roc_auc_class_mean' -> 'roc_auc_mean'\n",
    "            .replace(\"data.roc_auc_class_mean\", \"roc_auc_mean\")\n",
    "        )\n",
    "\n",
    "    return df.rename(column_renamer, axis=\"columns\").sort_values(by=\"nr_train_images\")"
   ]
  },
  {
   "cell_type": "code",
   "execution_count": 9,
   "id": "e1f03066",
   "metadata": {
    "execution": {
     "iopub.execute_input": "2022-11-30T06:45:09.029153Z",
     "iopub.status.busy": "2022-11-30T06:45:09.028775Z",
     "iopub.status.idle": "2022-11-30T06:45:09.067337Z",
     "shell.execute_reply": "2022-11-30T06:45:09.066733Z"
    },
    "papermill": {
     "duration": 0.04426,
     "end_time": "2022-11-30T06:45:09.069066",
     "exception": false,
     "start_time": "2022-11-30T06:45:09.024806",
     "status": "completed"
    },
    "tags": []
   },
   "outputs": [
    {
     "name": "stdout",
     "output_type": "stream",
     "text": [
      "Found 420 spans\n"
     ]
    }
   ],
   "source": [
    "df_data = adjust_pandas(pd.json_normalize(get_model_benchmarks()))"
   ]
  },
  {
   "cell_type": "code",
   "execution_count": 10,
   "id": "bb834e76",
   "metadata": {
    "execution": {
     "iopub.execute_input": "2022-11-30T06:45:09.076713Z",
     "iopub.status.busy": "2022-11-30T06:45:09.076241Z",
     "iopub.status.idle": "2022-11-30T06:45:09.102697Z",
     "shell.execute_reply": "2022-11-30T06:45:09.102174Z"
    },
    "papermill": {
     "duration": 0.031924,
     "end_time": "2022-11-30T06:45:09.104058",
     "exception": false,
     "start_time": "2022-11-30T06:45:09.072134",
     "status": "completed"
    },
    "tags": []
   },
   "outputs": [
    {
     "data": {
      "text/html": [
       "<div>\n",
       "<style scoped>\n",
       "    .dataframe tbody tr th:only-of-type {\n",
       "        vertical-align: middle;\n",
       "    }\n",
       "\n",
       "    .dataframe tbody tr th {\n",
       "        vertical-align: top;\n",
       "    }\n",
       "\n",
       "    .dataframe thead th {\n",
       "        text-align: right;\n",
       "    }\n",
       "</style>\n",
       "<table border=\"1\" class=\"dataframe\">\n",
       "  <thead>\n",
       "    <tr style=\"text-align: right;\">\n",
       "      <th></th>\n",
       "      <th>span_id</th>\n",
       "      <th>nr_train_images</th>\n",
       "      <th>roc_auc_mean</th>\n",
       "      <th>roc_auc.0</th>\n",
       "      <th>roc_auc.1</th>\n",
       "      <th>roc_auc.2</th>\n",
       "      <th>roc_auc.3</th>\n",
       "      <th>roc_auc.4</th>\n",
       "      <th>roc_auc.5</th>\n",
       "      <th>roc_auc.6</th>\n",
       "      <th>roc_auc.7</th>\n",
       "      <th>roc_auc.8</th>\n",
       "      <th>roc_auc.9</th>\n",
       "    </tr>\n",
       "  </thead>\n",
       "  <tbody>\n",
       "    <tr>\n",
       "      <th>2</th>\n",
       "      <td>0x23201fc22fa8a9c6</td>\n",
       "      <td>600</td>\n",
       "      <td>0.9990</td>\n",
       "      <td>1.0</td>\n",
       "      <td>0.9991</td>\n",
       "      <td>1.0</td>\n",
       "      <td>0.9998</td>\n",
       "      <td>0.9991</td>\n",
       "      <td>0.9989</td>\n",
       "      <td>0.9999</td>\n",
       "      <td>0.9998</td>\n",
       "      <td>0.9946</td>\n",
       "      <td>0.9987</td>\n",
       "    </tr>\n",
       "    <tr>\n",
       "      <th>3</th>\n",
       "      <td>0x196a13ad434fad22</td>\n",
       "      <td>800</td>\n",
       "      <td>0.9990</td>\n",
       "      <td>1.0</td>\n",
       "      <td>0.9988</td>\n",
       "      <td>1.0</td>\n",
       "      <td>0.9998</td>\n",
       "      <td>0.9996</td>\n",
       "      <td>0.9991</td>\n",
       "      <td>1.0000</td>\n",
       "      <td>0.9999</td>\n",
       "      <td>0.9931</td>\n",
       "      <td>0.9994</td>\n",
       "    </tr>\n",
       "    <tr>\n",
       "      <th>1</th>\n",
       "      <td>0xa9e0b7cdd87d0bc9</td>\n",
       "      <td>1000</td>\n",
       "      <td>0.9992</td>\n",
       "      <td>1.0</td>\n",
       "      <td>0.9990</td>\n",
       "      <td>1.0</td>\n",
       "      <td>0.9998</td>\n",
       "      <td>0.9997</td>\n",
       "      <td>0.9994</td>\n",
       "      <td>0.9999</td>\n",
       "      <td>0.9998</td>\n",
       "      <td>0.9950</td>\n",
       "      <td>0.9996</td>\n",
       "    </tr>\n",
       "    <tr>\n",
       "      <th>0</th>\n",
       "      <td>0xb095765d1ed13eb0</td>\n",
       "      <td>1200</td>\n",
       "      <td>0.9994</td>\n",
       "      <td>1.0</td>\n",
       "      <td>0.9991</td>\n",
       "      <td>1.0</td>\n",
       "      <td>0.9999</td>\n",
       "      <td>0.9998</td>\n",
       "      <td>0.9997</td>\n",
       "      <td>0.9999</td>\n",
       "      <td>0.9998</td>\n",
       "      <td>0.9960</td>\n",
       "      <td>0.9998</td>\n",
       "    </tr>\n",
       "  </tbody>\n",
       "</table>\n",
       "</div>"
      ],
      "text/plain": [
       "              span_id  nr_train_images  roc_auc_mean  roc_auc.0  roc_auc.1  \\\n",
       "2  0x23201fc22fa8a9c6              600        0.9990        1.0     0.9991   \n",
       "3  0x196a13ad434fad22              800        0.9990        1.0     0.9988   \n",
       "1  0xa9e0b7cdd87d0bc9             1000        0.9992        1.0     0.9990   \n",
       "0  0xb095765d1ed13eb0             1200        0.9994        1.0     0.9991   \n",
       "\n",
       "   roc_auc.2  roc_auc.3  roc_auc.4  roc_auc.5  roc_auc.6  roc_auc.7  \\\n",
       "2        1.0     0.9998     0.9991     0.9989     0.9999     0.9998   \n",
       "3        1.0     0.9998     0.9996     0.9991     1.0000     0.9999   \n",
       "1        1.0     0.9998     0.9997     0.9994     0.9999     0.9998   \n",
       "0        1.0     0.9999     0.9998     0.9997     0.9999     0.9998   \n",
       "\n",
       "   roc_auc.8  roc_auc.9  \n",
       "2     0.9946     0.9987  \n",
       "3     0.9931     0.9994  \n",
       "1     0.9950     0.9996  \n",
       "0     0.9960     0.9998  "
      ]
     },
     "execution_count": 10,
     "metadata": {},
     "output_type": "execute_result"
    }
   ],
   "source": [
    "df_data.round(4)"
   ]
  },
  {
   "cell_type": "code",
   "execution_count": 11,
   "id": "3cdc9660",
   "metadata": {
    "execution": {
     "iopub.execute_input": "2022-11-30T06:45:09.112640Z",
     "iopub.status.busy": "2022-11-30T06:45:09.112178Z",
     "iopub.status.idle": "2022-11-30T06:45:09.275266Z",
     "shell.execute_reply": "2022-11-30T06:45:09.274725Z"
    },
    "papermill": {
     "duration": 0.168627,
     "end_time": "2022-11-30T06:45:09.276871",
     "exception": false,
     "start_time": "2022-11-30T06:45:09.108244",
     "status": "completed"
    },
    "tags": []
   },
   "outputs": [
    {
     "data": {
      "image/png": "[encoded data removed]",
      "text/plain": [
       "<Figure size 1600x400 with 1 Axes>"
      ]
     },
     "metadata": {},
     "output_type": "display_data"
    }
   ],
   "source": [
    "def plot_classifier_performance_summary(df_data):\n",
    "    fig, ax = plt.subplots(nrows=1, ncols=1, figsize=(16, 4), sharex=True)\n",
    "\n",
    "    #\n",
    "    ax.plot(\n",
    "        df_data[\"nr_train_images\"], df_data[\"roc_auc_mean\"], marker=\"o\", linestyle=\"--\"\n",
    "    )\n",
    "    ax.set_title(\n",
    "        f\"ROC AUC digit classifier performance on evaluation digits\", fontsize=17\n",
    "    )\n",
    "    ax.set_xlabel(\"Total number of digits in training set\", fontsize=14)\n",
    "    ax.set_ylabel(\"Mean ROC AUC\", fontsize=14)\n",
    "\n",
    "    fig.tight_layout()\n",
    "    fig.show()\n",
    "\n",
    "    return fig\n",
    "\n",
    "\n",
    "fig = plot_classifier_performance_summary(df_data)"
   ]
  },
  {
   "cell_type": "code",
   "execution_count": 12,
   "id": "ae69be39",
   "metadata": {
    "execution": {
     "iopub.execute_input": "2022-11-30T06:45:09.287022Z",
     "iopub.status.busy": "2022-11-30T06:45:09.286541Z",
     "iopub.status.idle": "2022-11-30T06:45:09.357671Z",
     "shell.execute_reply": "2022-11-30T06:45:09.357047Z"
    },
    "papermill": {
     "duration": 0.077951,
     "end_time": "2022-11-30T06:45:09.359818",
     "exception": false,
     "start_time": "2022-11-30T06:45:09.281867",
     "status": "completed"
    },
    "tags": []
   },
   "outputs": [],
   "source": [
    "logger.log_figure(\"auc-roc-model-performances.png\", fig)"
   ]
  },
  {
   "cell_type": "code",
   "execution_count": 13,
   "id": "fa72bc6c",
   "metadata": {
    "execution": {
     "iopub.execute_input": "2022-11-30T06:45:09.370471Z",
     "iopub.status.busy": "2022-11-30T06:45:09.370109Z",
     "iopub.status.idle": "2022-11-30T06:45:09.374459Z",
     "shell.execute_reply": "2022-11-30T06:45:09.373858Z"
    },
    "papermill": {
     "duration": 0.011657,
     "end_time": "2022-11-30T06:45:09.376363",
     "exception": false,
     "start_time": "2022-11-30T06:45:09.364706",
     "status": "completed"
    },
    "tags": []
   },
   "outputs": [],
   "source": [
    "###"
   ]
  },
  {
   "cell_type": "code",
   "execution_count": null,
   "id": "ce95c98d",
   "metadata": {
    "papermill": {
     "duration": 0.004468,
     "end_time": "2022-11-30T06:45:09.384648",
     "exception": false,
     "start_time": "2022-11-30T06:45:09.380180",
     "status": "completed"
    },
    "tags": []
   },
   "outputs": [],
   "source": []
  }
 ],
 "metadata": {
  "jupytext": {
   "cell_metadata_filter": "tags,-all",
   "main_language": "python",
   "notebook_metadata_filter": "-all"
  },
  "language_info": {
   "codemirror_mode": {
    "name": "ipython",
    "version": 3
   },
   "file_extension": ".py",
   "mimetype": "text/x-python",
   "name": "python",
   "nbconvert_exporter": "python",
   "pygments_lexer": "ipython3",
   "version": "3.8.10"
  },
  "papermill": {
   "default_parameters": {},
   "duration": 3.811088,
   "end_time": "2022-11-30T06:45:10.407586",
   "environment_variables": {},
   "exception": null,
   "input_path": "/home/host_user/workspace/mnist-demo-pipeline/mnist-demo-pipeline/notebooks/temp-notebook-vn93m7ia.ipynb",
   "output_path": "notebooks/summary.ipynb",
   "parameters": {
    "P": {
     "_opentelemetry_traceparent": "00-9864e09d0e57f97d6c7f2117157bde4f-c306f90c3c6a57fe-01",
     "pipeline.data_lake_root": "/pipeline-outputs/data-lake",
     "pipeline.github.actor": "matiasdahl",
     "pipeline.github.base_ref": "",
     "pipeline.github.event_name": "schedule",
     "pipeline.github.head_ref": "",
     "pipeline.github.job": "run-tests-pipeline-and-persist-pipeline-outputs",
     "pipeline.github.ref": "refs/heads/development",
     "pipeline.github.ref_name": "development",
     "pipeline.github.ref_type": "branch",
     "pipeline.github.repository": "matiasdahl/dev-mnist-digits-demo-pipeline",
     "pipeline.github.run_id": "3580942443",
     "pipeline.github.runner_name": "Hosted Agent",
     "pipeline.github.sha": "ace0d01011d5e914f1921450dd5a59c11367b38d",
     "pipeline.github.workflow": "Run automated tests, pipeline and deploy results to static reporting site",
     "pipeline.pipeline_run_id": "cfe9261a-74a0-4886-b966-e7f4a365f929",
     "pipeline.run_environment": "ci",
     "run.retry_nr": "0",
     "task.max_nr_retries": "1",
     "task.notebook": "notebooks/summary.py",
     "task.num_cpus": 1,
     "task.timeout_s": "None"
    }
   },
   "start_time": "2022-11-30T06:45:06.596498",
   "version": "2.3.3"
  }
 },
 "nbformat": 4,
 "nbformat_minor": 5
}