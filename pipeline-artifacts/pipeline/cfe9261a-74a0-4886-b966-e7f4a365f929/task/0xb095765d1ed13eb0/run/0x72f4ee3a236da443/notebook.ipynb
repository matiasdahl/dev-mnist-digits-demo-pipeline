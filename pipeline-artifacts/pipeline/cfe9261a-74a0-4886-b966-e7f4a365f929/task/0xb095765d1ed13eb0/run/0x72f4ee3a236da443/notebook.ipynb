{
 "cells": [
  {
   "cell_type": "markdown",
   "id": "9754ca18",
   "metadata": {
    "papermill": {
     "duration": 0.005691,
     "end_time": "2022-11-30T06:44:53.284636",
     "exception": false,
     "start_time": "2022-11-30T06:44:53.278945",
     "status": "completed"
    },
    "tags": []
   },
   "source": [
    "# Benchmark model\n",
    "\n",
    "The purpose of this notebook is to benchmark persisted onnx-model (trained in the\n",
    "previous step) against evaluation set."
   ]
  },
  {
   "cell_type": "markdown",
   "id": "38abd300",
   "metadata": {
    "papermill": {
     "duration": 0.00398,
     "end_time": "2022-11-30T06:44:53.293060",
     "exception": false,
     "start_time": "2022-11-30T06:44:53.289080",
     "status": "completed"
    },
    "tags": []
   },
   "source": [
    "### Determine run parameters"
   ]
  },
  {
   "cell_type": "code",
   "execution_count": 1,
   "id": "107e4833",
   "metadata": {
    "execution": {
     "iopub.execute_input": "2022-11-30T06:44:53.302574Z",
     "iopub.status.busy": "2022-11-30T06:44:53.302270Z",
     "iopub.status.idle": "2022-11-30T06:44:53.310886Z",
     "shell.execute_reply": "2022-11-30T06:44:53.310265Z"
    },
    "lines_to_next_cell": 0,
    "papermill": {
     "duration": 0.015452,
     "end_time": "2022-11-30T06:44:53.312708",
     "exception": false,
     "start_time": "2022-11-30T06:44:53.297256",
     "status": "completed"
    },
    "tags": []
   },
   "outputs": [],
   "source": [
    "# ----------------- Parameters for interactive development --------------\n",
    "P = {\n",
    "    \"pipeline.data_lake_root\": \"/pipeline-outputs/data-lake\",\n",
    "    \"task.nr_train_images\": 600,\n",
    "}"
   ]
  },
  {
   "cell_type": "code",
   "execution_count": 2,
   "id": "f4f45a39",
   "metadata": {
    "execution": {
     "iopub.execute_input": "2022-11-30T06:44:53.325257Z",
     "iopub.status.busy": "2022-11-30T06:44:53.325021Z",
     "iopub.status.idle": "2022-11-30T06:44:53.328745Z",
     "shell.execute_reply": "2022-11-30T06:44:53.328025Z"
    },
    "lines_to_next_cell": 0,
    "papermill": {
     "duration": 0.014638,
     "end_time": "2022-11-30T06:44:53.331602",
     "exception": false,
     "start_time": "2022-11-30T06:44:53.316964",
     "status": "completed"
    },
    "tags": [
     "parameters"
    ]
   },
   "outputs": [],
   "source": [
    "# - During automated runs parameters will be injected in the below cell -"
   ]
  },
  {
   "cell_type": "code",
   "execution_count": 3,
   "id": "d0696ef4",
   "metadata": {
    "execution": {
     "iopub.execute_input": "2022-11-30T06:44:53.341324Z",
     "iopub.status.busy": "2022-11-30T06:44:53.341083Z",
     "iopub.status.idle": "2022-11-30T06:44:53.345697Z",
     "shell.execute_reply": "2022-11-30T06:44:53.345157Z"
    },
    "papermill": {
     "duration": 0.012377,
     "end_time": "2022-11-30T06:44:53.348143",
     "exception": false,
     "start_time": "2022-11-30T06:44:53.335766",
     "status": "completed"
    },
    "tags": [
     "injected-parameters"
    ]
   },
   "outputs": [],
   "source": [
    "# Parameters\n",
    "P = {\n",
    "    \"pipeline.data_lake_root\": \"/pipeline-outputs/data-lake\",\n",
    "    \"pipeline.run_environment\": \"ci\",\n",
    "    \"pipeline.pipeline_run_id\": \"cfe9261a-74a0-4886-b966-e7f4a365f929\",\n",
    "    \"pipeline.github.repository\": \"matiasdahl/dev-mnist-digits-demo-pipeline\",\n",
    "    \"pipeline.github.workflow\": \"Run automated tests, pipeline and deploy results to static reporting site\",\n",
    "    \"pipeline.github.runner_name\": \"Hosted Agent\",\n",
    "    \"pipeline.github.run_id\": \"3580942443\",\n",
    "    \"pipeline.github.actor\": \"matiasdahl\",\n",
    "    \"pipeline.github.job\": \"run-tests-pipeline-and-persist-pipeline-outputs\",\n",
    "    \"pipeline.github.base_ref\": \"\",\n",
    "    \"pipeline.github.head_ref\": \"\",\n",
    "    \"pipeline.github.sha\": \"ace0d01011d5e914f1921450dd5a59c11367b38d\",\n",
    "    \"pipeline.github.ref\": \"refs/heads/development\",\n",
    "    \"pipeline.github.ref_type\": \"branch\",\n",
    "    \"pipeline.github.ref_name\": \"development\",\n",
    "    \"pipeline.github.event_name\": \"schedule\",\n",
    "    \"task.nr_train_images\": 1200,\n",
    "    \"task.notebook\": \"notebooks/benchmark-model.py\",\n",
    "    \"task.max_nr_retries\": \"1\",\n",
    "    \"run.retry_nr\": \"0\",\n",
    "    \"task.timeout_s\": \"None\",\n",
    "    \"task.num_cpus\": 1,\n",
    "    \"_opentelemetry_traceparent\": \"00-9864e09d0e57f97d6c7f2117157bde4f-3c76183b14f1cffa-01\",\n",
    "}\n"
   ]
  },
  {
   "cell_type": "code",
   "execution_count": 4,
   "id": "bf1dd8e8",
   "metadata": {
    "execution": {
     "iopub.execute_input": "2022-11-30T06:44:53.358794Z",
     "iopub.status.busy": "2022-11-30T06:44:53.358384Z",
     "iopub.status.idle": "2022-11-30T06:44:53.361249Z",
     "shell.execute_reply": "2022-11-30T06:44:53.360760Z"
    },
    "lines_to_next_cell": 0,
    "papermill": {
     "duration": 0.010895,
     "end_time": "2022-11-30T06:44:53.363966",
     "exception": false,
     "start_time": "2022-11-30T06:44:53.353071",
     "status": "completed"
    },
    "tags": []
   },
   "outputs": [],
   "source": [
    "# -----------------------------------------------------------------------"
   ]
  },
  {
   "cell_type": "markdown",
   "id": "8cdef409",
   "metadata": {
    "papermill": {
     "duration": 0.003943,
     "end_time": "2022-11-30T06:44:53.372791",
     "exception": false,
     "start_time": "2022-11-30T06:44:53.368848",
     "status": "completed"
    },
    "tags": []
   },
   "source": [
    "---"
   ]
  },
  {
   "cell_type": "markdown",
   "id": "29b5f5a1",
   "metadata": {
    "lines_to_next_cell": 2,
    "papermill": {
     "duration": 0.00428,
     "end_time": "2022-11-30T06:44:53.381684",
     "exception": false,
     "start_time": "2022-11-30T06:44:53.377404",
     "status": "completed"
    },
    "tags": []
   },
   "source": [
    "### Notebook code"
   ]
  },
  {
   "cell_type": "code",
   "execution_count": 5,
   "id": "4856891b",
   "metadata": {
    "execution": {
     "iopub.execute_input": "2022-11-30T06:44:53.391571Z",
     "iopub.status.busy": "2022-11-30T06:44:53.391320Z",
     "iopub.status.idle": "2022-11-30T06:44:54.463347Z",
     "shell.execute_reply": "2022-11-30T06:44:54.462327Z"
    },
    "papermill": {
     "duration": 1.079303,
     "end_time": "2022-11-30T06:44:54.465292",
     "exception": false,
     "start_time": "2022-11-30T06:44:53.385989",
     "status": "completed"
    },
    "tags": []
   },
   "outputs": [
    {
     "name": "stderr",
     "output_type": "stream",
     "text": [
      "2022-11-30 06:44:54,314\tINFO worker.py:842 -- Connecting to existing Ray cluster at address: 172.17.0.2:6379\n"
     ]
    }
   ],
   "source": [
    "import itertools as it\n",
    "\n",
    "#\n",
    "import numpy as np\n",
    "import matplotlib.pyplot as plt\n",
    "\n",
    "#\n",
    "from pynb_dag_runner.tasks.task_opentelemetry_logging import PydarLogger\n",
    "\n",
    "#\n",
    "from common.io import datalake_root\n",
    "\n",
    "logger = PydarLogger(P)"
   ]
  },
  {
   "cell_type": "markdown",
   "id": "f544b5cd",
   "metadata": {
    "papermill": {
     "duration": 0.004245,
     "end_time": "2022-11-30T06:44:54.474582",
     "exception": false,
     "start_time": "2022-11-30T06:44:54.470337",
     "status": "completed"
    },
    "tags": []
   },
   "source": [
    "## Load persisted onnx-model and evaluation data"
   ]
  },
  {
   "cell_type": "code",
   "execution_count": 6,
   "id": "2a28551b",
   "metadata": {
    "execution": {
     "iopub.execute_input": "2022-11-30T06:44:54.485029Z",
     "iopub.status.busy": "2022-11-30T06:44:54.484268Z",
     "iopub.status.idle": "2022-11-30T06:44:54.488141Z",
     "shell.execute_reply": "2022-11-30T06:44:54.487604Z"
    },
    "papermill": {
     "duration": 0.010478,
     "end_time": "2022-11-30T06:44:54.489522",
     "exception": false,
     "start_time": "2022-11-30T06:44:54.479044",
     "status": "completed"
    },
    "tags": []
   },
   "outputs": [],
   "source": [
    "from common.io import read_onnx, get_onnx_inputs, get_onnx_outputs, read_numpy"
   ]
  },
  {
   "cell_type": "code",
   "execution_count": 7,
   "id": "8d06da25",
   "metadata": {
    "execution": {
     "iopub.execute_input": "2022-11-30T06:44:54.500183Z",
     "iopub.status.busy": "2022-11-30T06:44:54.499124Z",
     "iopub.status.idle": "2022-11-30T06:44:54.509366Z",
     "shell.execute_reply": "2022-11-30T06:44:54.508816Z"
    },
    "lines_to_next_cell": 0,
    "papermill": {
     "duration": 0.017036,
     "end_time": "2022-11-30T06:44:54.510831",
     "exception": false,
     "start_time": "2022-11-30T06:44:54.493795",
     "status": "completed"
    },
    "tags": []
   },
   "outputs": [],
   "source": [
    "onnx_inference_session = read_onnx(\n",
    "    datalake_root(P)\n",
    "    / \"models\"\n",
    "    / f\"nr_train_images={P['task.nr_train_images']}\"\n",
    "    / \"model.onnx\"\n",
    ")"
   ]
  },
  {
   "cell_type": "markdown",
   "id": "5b831f2a",
   "metadata": {
    "papermill": {
     "duration": 0.004435,
     "end_time": "2022-11-30T06:44:54.519528",
     "exception": false,
     "start_time": "2022-11-30T06:44:54.515093",
     "status": "completed"
    },
    "tags": []
   },
   "source": [
    "### Record structure of inputs and outputs for ONNX model\n",
    "\n",
    "(this should likely be done in training notebook)"
   ]
  },
  {
   "cell_type": "code",
   "execution_count": 8,
   "id": "6a21e5cc",
   "metadata": {
    "execution": {
     "iopub.execute_input": "2022-11-30T06:44:54.530307Z",
     "iopub.status.busy": "2022-11-30T06:44:54.529888Z",
     "iopub.status.idle": "2022-11-30T06:44:54.535236Z",
     "shell.execute_reply": "2022-11-30T06:44:54.534644Z"
    },
    "papermill": {
     "duration": 0.012082,
     "end_time": "2022-11-30T06:44:54.536584",
     "exception": false,
     "start_time": "2022-11-30T06:44:54.524502",
     "status": "completed"
    },
    "tags": []
   },
   "outputs": [
    {
     "name": "stdout",
     "output_type": "stream",
     "text": [
      "{\n",
      "  \"inputs\": [\n",
      "    {\n",
      "      \"name\": \"float_input_8x8_image\",\n",
      "      \"shape\": [\n",
      "        null,\n",
      "        64\n",
      "      ],\n",
      "      \"type\": \"tensor(float)\"\n",
      "    }\n",
      "  ],\n",
      "  \"outputs\": [\n",
      "    {\n",
      "      \"name\": \"output_label\",\n",
      "      \"shape\": [\n",
      "        null\n",
      "      ],\n",
      "      \"type\": \"tensor(int64)\"\n",
      "    },\n",
      "    {\n",
      "      \"name\": \"output_probability\",\n",
      "      \"shape\": [],\n",
      "      \"type\": \"seq(map(int64,tensor(float)))\"\n",
      "    }\n",
      "  ]\n",
      "}\n"
     ]
    }
   ],
   "source": [
    "import json\n",
    "\n",
    "onnx_io = json.dumps(\n",
    "    {\n",
    "        \"inputs\": get_onnx_inputs(onnx_inference_session),\n",
    "        \"outputs\": get_onnx_outputs(onnx_inference_session),\n",
    "    },\n",
    "    indent=2,\n",
    ")\n",
    "\n",
    "\n",
    "logger.log_artefact(\"onnx_io_structure.json\", onnx_io)\n",
    "print(onnx_io)"
   ]
  },
  {
   "cell_type": "markdown",
   "id": "e4d90e70",
   "metadata": {
    "papermill": {
     "duration": 0.004462,
     "end_time": "2022-11-30T06:44:54.545716",
     "exception": false,
     "start_time": "2022-11-30T06:44:54.541254",
     "status": "completed"
    },
    "tags": []
   },
   "source": [
    "### Evaluate model performance on evaluation data set"
   ]
  },
  {
   "cell_type": "code",
   "execution_count": 9,
   "id": "db3fdea7",
   "metadata": {
    "execution": {
     "iopub.execute_input": "2022-11-30T06:44:54.558053Z",
     "iopub.status.busy": "2022-11-30T06:44:54.557584Z",
     "iopub.status.idle": "2022-11-30T06:44:54.562291Z",
     "shell.execute_reply": "2022-11-30T06:44:54.561663Z"
    },
    "papermill": {
     "duration": 0.01206,
     "end_time": "2022-11-30T06:44:54.564038",
     "exception": false,
     "start_time": "2022-11-30T06:44:54.551978",
     "status": "completed"
    },
    "tags": []
   },
   "outputs": [],
   "source": [
    "# load evaluation data\n",
    "X_test = read_numpy(datalake_root(P) / \"test-data\" / \"digits.numpy\")\n",
    "y_test = read_numpy(datalake_root(P) / \"test-data\" / \"labels.numpy\")"
   ]
  },
  {
   "cell_type": "code",
   "execution_count": 10,
   "id": "a04b6983",
   "metadata": {
    "execution": {
     "iopub.execute_input": "2022-11-30T06:44:54.575807Z",
     "iopub.status.busy": "2022-11-30T06:44:54.575502Z",
     "iopub.status.idle": "2022-11-30T06:44:54.625548Z",
     "shell.execute_reply": "2022-11-30T06:44:54.624912Z"
    },
    "papermill": {
     "duration": 0.058745,
     "end_time": "2022-11-30T06:44:54.627426",
     "exception": false,
     "start_time": "2022-11-30T06:44:54.568681",
     "status": "completed"
    },
    "tags": []
   },
   "outputs": [],
   "source": [
    "def get_model_outputs(X, onnx_inference_session):\n",
    "    y_pred_labels, y_pred_map = onnx_inference_session.run(\n",
    "        [\"output_label\", \"output_probability\"],\n",
    "        {\"float_input_8x8_image\": X.astype(np.float32)},\n",
    "    )\n",
    "    y_pred_probs = np.array(\n",
    "        [[probabilities[digit] for digit in range(10)] for probabilities in y_pred_map]\n",
    "    )\n",
    "\n",
    "    assert y_pred_labels.shape == (X.shape[0],)\n",
    "    assert y_pred_probs.shape == (X.shape[0], 10)\n",
    "\n",
    "    return y_pred_labels, y_pred_probs\n",
    "\n",
    "\n",
    "# Note: as shown in the training notebook, the predicted labels and probabilities\n",
    "# computed below need not be compatible.\n",
    "y_pred_labels_test, y_pred_probs_test = get_model_outputs(\n",
    "    X_test, onnx_inference_session\n",
    ")"
   ]
  },
  {
   "cell_type": "markdown",
   "id": "d76778fb",
   "metadata": {
    "papermill": {
     "duration": 0.004552,
     "end_time": "2022-11-30T06:44:54.637134",
     "exception": false,
     "start_time": "2022-11-30T06:44:54.632582",
     "status": "completed"
    },
    "tags": []
   },
   "source": [
    "### Confusion matrix"
   ]
  },
  {
   "cell_type": "code",
   "execution_count": 11,
   "id": "daf5aed7",
   "metadata": {
    "execution": {
     "iopub.execute_input": "2022-11-30T06:44:54.647361Z",
     "iopub.status.busy": "2022-11-30T06:44:54.646898Z",
     "iopub.status.idle": "2022-11-30T06:44:54.650057Z",
     "shell.execute_reply": "2022-11-30T06:44:54.649493Z"
    },
    "papermill": {
     "duration": 0.010108,
     "end_time": "2022-11-30T06:44:54.651666",
     "exception": false,
     "start_time": "2022-11-30T06:44:54.641558",
     "status": "completed"
    },
    "tags": []
   },
   "outputs": [],
   "source": [
    "# TODO"
   ]
  },
  {
   "cell_type": "markdown",
   "id": "9caf687f",
   "metadata": {
    "papermill": {
     "duration": 0.004296,
     "end_time": "2022-11-30T06:44:54.663149",
     "exception": false,
     "start_time": "2022-11-30T06:44:54.658853",
     "status": "completed"
    },
    "tags": []
   },
   "source": [
    "### Plot predicted probabilities for each classifier over all evaluation digit images"
   ]
  },
  {
   "cell_type": "code",
   "execution_count": 12,
   "id": "b672c6af",
   "metadata": {
    "execution": {
     "iopub.execute_input": "2022-11-30T06:44:54.673278Z",
     "iopub.status.busy": "2022-11-30T06:44:54.673028Z",
     "iopub.status.idle": "2022-11-30T06:44:57.563444Z",
     "shell.execute_reply": "2022-11-30T06:44:57.562544Z"
    },
    "papermill": {
     "duration": 2.897678,
     "end_time": "2022-11-30T06:44:57.565008",
     "exception": false,
     "start_time": "2022-11-30T06:44:54.667330",
     "status": "completed"
    },
    "tags": []
   },
   "outputs": [
    {
     "data": {
      "image/png": "[encoded data removed]",
      "text/plain": [
       "<Figure size 1600x600 with 10 Axes>"
      ]
     },
     "metadata": {},
     "output_type": "display_data"
    }
   ],
   "source": [
    "def plot_per_digit_probabilities(y_pred_probs):\n",
    "    fig, axs = plt.subplots(nrows=2, ncols=5, figsize=(16, 6))\n",
    "\n",
    "    for (r, c), digit, ax in zip(\n",
    "        it.product(range(2), range(5)), range(10), axs.reshape(-1)\n",
    "    ):\n",
    "        ax.hist(y_pred_probs_test[:, digit], bins=20)\n",
    "\n",
    "        ax.set_title(f\"Digit {digit}\")\n",
    "        if r == 1 and c == 2:\n",
    "            ax.set_xlabel(\"probability\", fontsize=16)\n",
    "\n",
    "        if c == 0:\n",
    "            ax.set_ylabel(\"counts\", fontsize=16)\n",
    "        ax.set_yscale(\"log\")\n",
    "\n",
    "    fig.tight_layout()\n",
    "    fig.suptitle(\n",
    "        f\"Distributions of prediction probabilities for each digit \"\n",
    "        f\"(on evaluation data, n={y_pred_probs.shape[0]})\",\n",
    "        fontsize=20,\n",
    "    )\n",
    "    fig.tight_layout()\n",
    "    fig.show()\n",
    "\n",
    "    return fig\n",
    "\n",
    "\n",
    "fig = plot_per_digit_probabilities(y_pred_probs_test)"
   ]
  },
  {
   "cell_type": "markdown",
   "id": "3daba74a",
   "metadata": {
    "papermill": {
     "duration": 0.005133,
     "end_time": "2022-11-30T06:44:57.575702",
     "exception": false,
     "start_time": "2022-11-30T06:44:57.570569",
     "status": "completed"
    },
    "tags": []
   },
   "source": [
    "From the above distributions we see that most digits have clear separation between\n",
    "high and lower probabilities. Morover, in each case there is roughly an order of\n",
    "magnitude more of digits with low probabilities. This is compatible with digits\n",
    "being roughly evenly distributed in the data."
   ]
  },
  {
   "cell_type": "code",
   "execution_count": 13,
   "id": "09324db6",
   "metadata": {
    "execution": {
     "iopub.execute_input": "2022-11-30T06:44:57.587077Z",
     "iopub.status.busy": "2022-11-30T06:44:57.586677Z",
     "iopub.status.idle": "2022-11-30T06:44:58.016479Z",
     "shell.execute_reply": "2022-11-30T06:44:58.015792Z"
    },
    "papermill": {
     "duration": 0.437376,
     "end_time": "2022-11-30T06:44:58.018165",
     "exception": false,
     "start_time": "2022-11-30T06:44:57.580789",
     "status": "completed"
    },
    "tags": []
   },
   "outputs": [],
   "source": [
    "logger.log_figure(\"per-digit-probabilities.png\", fig)"
   ]
  },
  {
   "cell_type": "markdown",
   "id": "7ee54a40",
   "metadata": {
    "papermill": {
     "duration": 0.013997,
     "end_time": "2022-11-30T06:44:58.037663",
     "exception": false,
     "start_time": "2022-11-30T06:44:58.023666",
     "status": "completed"
    },
    "tags": []
   },
   "source": [
    "### Plot ROC curves for individual one-vs-rest classifiers"
   ]
  },
  {
   "cell_type": "code",
   "execution_count": 14,
   "id": "45aebd5b",
   "metadata": {
    "execution": {
     "iopub.execute_input": "2022-11-30T06:44:58.050437Z",
     "iopub.status.busy": "2022-11-30T06:44:58.050061Z",
     "iopub.status.idle": "2022-11-30T06:44:58.473014Z",
     "shell.execute_reply": "2022-11-30T06:44:58.471959Z"
    },
    "papermill": {
     "duration": 0.432091,
     "end_time": "2022-11-30T06:44:58.474992",
     "exception": false,
     "start_time": "2022-11-30T06:44:58.042901",
     "status": "completed"
    },
    "tags": []
   },
   "outputs": [],
   "source": [
    "from sklearn import metrics"
   ]
  },
  {
   "cell_type": "code",
   "execution_count": 15,
   "id": "ea3adb42",
   "metadata": {
    "execution": {
     "iopub.execute_input": "2022-11-30T06:44:58.488109Z",
     "iopub.status.busy": "2022-11-30T06:44:58.487768Z",
     "iopub.status.idle": "2022-11-30T06:44:59.706062Z",
     "shell.execute_reply": "2022-11-30T06:44:59.705285Z"
    },
    "papermill": {
     "duration": 1.226794,
     "end_time": "2022-11-30T06:44:59.707913",
     "exception": false,
     "start_time": "2022-11-30T06:44:58.481119",
     "status": "completed"
    },
    "tags": []
   },
   "outputs": [
    {
     "data": {
      "image/png": "[encoded data removed]",
      "text/plain": [
       "<Figure size 1600x800 with 10 Axes>"
      ]
     },
     "metadata": {},
     "output_type": "display_data"
    }
   ],
   "source": [
    "def plot_roc_curves(y, y_pred_probs):\n",
    "    # based on example code\n",
    "    # https://scikit-learn.org/stable/auto_examples/model_selection/plot_roc.html\n",
    "\n",
    "    fig, axs = plt.subplots(nrows=2, ncols=5, figsize=(16, 8))\n",
    "\n",
    "    roc_auc_dict = {}\n",
    "\n",
    "    for (r, c), digit, ax in zip(\n",
    "        it.product(range(2), range(5)), range(10), axs.reshape(-1)\n",
    "    ):\n",
    "        fpr, tpr, _ = metrics.roc_curve(y == digit, y_pred_probs[:, digit])\n",
    "        auc = metrics.auc(fpr, tpr)\n",
    "        roc_auc_dict[str(digit)] = auc\n",
    "\n",
    "        ax.plot(fpr, tpr, label=f\"ROC AUC={round(auc, 3)}\")\n",
    "\n",
    "        ax.set_title(f\"\\nDigit {digit}\", fontsize=16)\n",
    "        if r == 1:\n",
    "            ax.set_xlabel(\"FPR\", fontsize=18)\n",
    "\n",
    "        if c == 0:\n",
    "            ax.set_ylabel(\"TPR\", fontsize=18)\n",
    "\n",
    "        ax.set_xlim([-0.05, 1.05])\n",
    "        ax.set_ylim([-0.05, 1.05])\n",
    "        ax.legend(loc=\"lower right\", frameon=False, fontsize=14)\n",
    "\n",
    "    fig.tight_layout()\n",
    "    fig.suptitle(\n",
    "        f\"ROC plots for one-vs-rest performances \"\n",
    "        f\"(on evaluation data, n={y_pred_probs_test.shape[1]}\",\n",
    "        fontsize=22,\n",
    "    )\n",
    "    fig.tight_layout()\n",
    "    fig.show()\n",
    "\n",
    "    return roc_auc_dict, fig\n",
    "\n",
    "\n",
    "roc_auc_dict, fig = plot_roc_curves(y_test, y_pred_probs_test)"
   ]
  },
  {
   "cell_type": "code",
   "execution_count": 16,
   "id": "27b3d442",
   "metadata": {
    "execution": {
     "iopub.execute_input": "2022-11-30T06:44:59.722629Z",
     "iopub.status.busy": "2022-11-30T06:44:59.722289Z",
     "iopub.status.idle": "2022-11-30T06:45:00.004632Z",
     "shell.execute_reply": "2022-11-30T06:45:00.003838Z"
    },
    "papermill": {
     "duration": 0.292034,
     "end_time": "2022-11-30T06:45:00.006338",
     "exception": false,
     "start_time": "2022-11-30T06:44:59.714304",
     "status": "completed"
    },
    "tags": []
   },
   "outputs": [],
   "source": [
    "logger.log_figure(\"per-digit-roc-curves.png\", fig)"
   ]
  },
  {
   "cell_type": "code",
   "execution_count": 17,
   "id": "373575da",
   "metadata": {
    "execution": {
     "iopub.execute_input": "2022-11-30T06:45:00.022272Z",
     "iopub.status.busy": "2022-11-30T06:45:00.021931Z",
     "iopub.status.idle": "2022-11-30T06:45:00.026885Z",
     "shell.execute_reply": "2022-11-30T06:45:00.026256Z"
    },
    "papermill": {
     "duration": 0.016483,
     "end_time": "2022-11-30T06:45:00.030396",
     "exception": false,
     "start_time": "2022-11-30T06:45:00.013913",
     "status": "completed"
    },
    "tags": []
   },
   "outputs": [
    {
     "data": {
      "text/plain": [
       "{'0': 1.0,\n",
       " '1': 0.9991002811621369,\n",
       " '2': 1.0,\n",
       " '3': 0.9998500468603562,\n",
       " '4': 0.9997713763145861,\n",
       " '5': 0.9996626054358013,\n",
       " '6': 0.999923792104862,\n",
       " '7': 0.9998475842097242,\n",
       " '8': 0.9959804539722572,\n",
       " '9': 0.9998094802621552}"
      ]
     },
     "execution_count": 17,
     "metadata": {},
     "output_type": "execute_result"
    }
   ],
   "source": [
    "roc_auc_dict"
   ]
  },
  {
   "cell_type": "code",
   "execution_count": 18,
   "id": "aa09dede",
   "metadata": {
    "execution": {
     "iopub.execute_input": "2022-11-30T06:45:00.045488Z",
     "iopub.status.busy": "2022-11-30T06:45:00.045149Z",
     "iopub.status.idle": "2022-11-30T06:45:00.049957Z",
     "shell.execute_reply": "2022-11-30T06:45:00.049062Z"
    },
    "papermill": {
     "duration": 0.015372,
     "end_time": "2022-11-30T06:45:00.052206",
     "exception": false,
     "start_time": "2022-11-30T06:45:00.036834",
     "status": "completed"
    },
    "tags": []
   },
   "outputs": [
    {
     "name": "stdout",
     "output_type": "stream",
     "text": [
      " - Logging roc_auc_per_digit (json) : {'0': 1.0, '1': 0.9991002811621369, '2': 1.0, '3': 0.9998500468603562, '4': 0.9997713763145861, '5': 0.9996626054358013, '6': 0.999923792104862, '7': 0.9998475842097242, '8': 0.9959804539722572, '9': 0.9998094802621552}\n"
     ]
    }
   ],
   "source": [
    "logger.log_value(\"roc_auc_per_digit\", roc_auc_dict)"
   ]
  },
  {
   "cell_type": "markdown",
   "id": "90cfea10",
   "metadata": {
    "papermill": {
     "duration": 0.007145,
     "end_time": "2022-11-30T06:45:00.066353",
     "exception": false,
     "start_time": "2022-11-30T06:45:00.059208",
     "status": "completed"
    },
    "tags": []
   },
   "source": [
    "### Compute and log mean ROC AUC score averaged over all digits"
   ]
  },
  {
   "cell_type": "code",
   "execution_count": 19,
   "id": "78af6477",
   "metadata": {
    "execution": {
     "iopub.execute_input": "2022-11-30T06:45:00.081943Z",
     "iopub.status.busy": "2022-11-30T06:45:00.081605Z",
     "iopub.status.idle": "2022-11-30T06:45:00.100379Z",
     "shell.execute_reply": "2022-11-30T06:45:00.099568Z"
    },
    "papermill": {
     "duration": 0.028724,
     "end_time": "2022-11-30T06:45:00.102165",
     "exception": false,
     "start_time": "2022-11-30T06:45:00.073441",
     "status": "completed"
    },
    "tags": []
   },
   "outputs": [
    {
     "name": "stdout",
     "output_type": "stream",
     "text": [
      " - Logging roc_auc_class_mean (float) : 0.9993945620321878\n"
     ]
    }
   ],
   "source": [
    "roc_auc_macro = np.mean(list(roc_auc_dict.values()))\n",
    "\n",
    "logger.log_float(\"roc_auc_class_mean\", roc_auc_macro)\n",
    "\n",
    "# assert that the same value can be computed directly using sklearn\n",
    "assert roc_auc_macro == metrics.roc_auc_score(\n",
    "    y_test, y_pred_probs_test, average=\"macro\", multi_class=\"ovr\"\n",
    ")"
   ]
  },
  {
   "cell_type": "code",
   "execution_count": 20,
   "id": "2affaa39",
   "metadata": {
    "execution": {
     "iopub.execute_input": "2022-11-30T06:45:00.117589Z",
     "iopub.status.busy": "2022-11-30T06:45:00.117228Z",
     "iopub.status.idle": "2022-11-30T06:45:00.120532Z",
     "shell.execute_reply": "2022-11-30T06:45:00.119780Z"
    },
    "lines_to_next_cell": 0,
    "papermill": {
     "duration": 0.013678,
     "end_time": "2022-11-30T06:45:00.122856",
     "exception": false,
     "start_time": "2022-11-30T06:45:00.109178",
     "status": "completed"
    },
    "tags": []
   },
   "outputs": [],
   "source": [
    "# ---"
   ]
  },
  {
   "cell_type": "code",
   "execution_count": null,
   "id": "689aa0e7",
   "metadata": {
    "papermill": {
     "duration": 0.008465,
     "end_time": "2022-11-30T06:45:00.137935",
     "exception": false,
     "start_time": "2022-11-30T06:45:00.129470",
     "status": "completed"
    },
    "tags": []
   },
   "outputs": [],
   "source": []
  }
 ],
 "metadata": {
  "jupytext": {
   "cell_metadata_filter": "tags,-all",
   "main_language": "python",
   "notebook_metadata_filter": "-all"
  },
  "language_info": {
   "codemirror_mode": {
    "name": "ipython",
    "version": 3
   },
   "file_extension": ".py",
   "mimetype": "text/x-python",
   "name": "python",
   "nbconvert_exporter": "python",
   "pygments_lexer": "ipython3",
   "version": "3.8.10"
  },
  "papermill": {
   "default_parameters": {},
   "duration": 9.466794,
   "end_time": "2022-11-30T06:45:01.368060",
   "environment_variables": {},
   "exception": null,
   "input_path": "/home/host_user/workspace/mnist-demo-pipeline/mnist-demo-pipeline/notebooks/temp-notebook-32xvh6wl.ipynb",
   "output_path": "notebooks/benchmark-model.ipynb",
   "parameters": {
    "P": {
     "_opentelemetry_traceparent": "00-9864e09d0e57f97d6c7f2117157bde4f-3c76183b14f1cffa-01",
     "pipeline.data_lake_root": "/pipeline-outputs/data-lake",
     "pipeline.github.actor": "matiasdahl",
     "pipeline.github.base_ref": "",
     "pipeline.github.event_name": "schedule",
     "pipeline.github.head_ref": "",
     "pipeline.github.job": "run-tests-pipeline-and-persist-pipeline-outputs",
     "pipeline.github.ref": "refs/heads/development",
     "pipeline.github.ref_name": "development",
     "pipeline.github.ref_type": "branch",
     "pipeline.github.repository": "matiasdahl/dev-mnist-digits-demo-pipeline",
     "pipeline.github.run_id": "3580942443",
     "pipeline.github.runner_name": "Hosted Agent",
     "pipeline.github.sha": "ace0d01011d5e914f1921450dd5a59c11367b38d",
     "pipeline.github.workflow": "Run automated tests, pipeline and deploy results to static reporting site",
     "pipeline.pipeline_run_id": "cfe9261a-74a0-4886-b966-e7f4a365f929",
     "pipeline.run_environment": "ci",
     "run.retry_nr": "0",
     "task.max_nr_retries": "1",
     "task.notebook": "notebooks/benchmark-model.py",
     "task.nr_train_images": 1200,
     "task.num_cpus": 1,
     "task.timeout_s": "None"
    }
   },
   "start_time": "2022-11-30T06:44:51.901266",
   "version": "2.3.3"
  }
 },
 "nbformat": 4,
 "nbformat_minor": 5
}