{
 "cells": [
  {
   "cell_type": "markdown",
   "id": "23f63151",
   "metadata": {
    "papermill": {
     "duration": 0.004039,
     "end_time": "2022-12-04T06:40:33.622400",
     "exception": false,
     "start_time": "2022-12-04T06:40:33.618361",
     "status": "completed"
    },
    "tags": []
   },
   "source": [
    "# Summarize model performances\n",
    "\n",
    "This notebooks plots the performances (using averaged ROC AUC scores) for models\n",
    "trained with different training sets."
   ]
  },
  {
   "cell_type": "markdown",
   "id": "061bcfa5",
   "metadata": {
    "papermill": {
     "duration": 0.002306,
     "end_time": "2022-12-04T06:40:33.627561",
     "exception": false,
     "start_time": "2022-12-04T06:40:33.625255",
     "status": "completed"
    },
    "tags": []
   },
   "source": [
    "### Determine run parameters"
   ]
  },
  {
   "cell_type": "code",
   "execution_count": 1,
   "id": "83d32df9",
   "metadata": {
    "execution": {
     "iopub.execute_input": "2022-12-04T06:40:33.634455Z",
     "iopub.status.busy": "2022-12-04T06:40:33.633682Z",
     "iopub.status.idle": "2022-12-04T06:40:33.642301Z",
     "shell.execute_reply": "2022-12-04T06:40:33.641522Z"
    },
    "lines_to_next_cell": 0,
    "papermill": {
     "duration": 0.013682,
     "end_time": "2022-12-04T06:40:33.643861",
     "exception": false,
     "start_time": "2022-12-04T06:40:33.630179",
     "status": "completed"
    },
    "tags": []
   },
   "outputs": [],
   "source": [
    "# ----------------- Parameters for interactive development --------------\n",
    "P = {\n",
    "    \"pipeline.run_environment\": \"dev\",\n",
    "}"
   ]
  },
  {
   "cell_type": "code",
   "execution_count": 2,
   "id": "dfe9c279",
   "metadata": {
    "execution": {
     "iopub.execute_input": "2022-12-04T06:40:33.650348Z",
     "iopub.status.busy": "2022-12-04T06:40:33.649399Z",
     "iopub.status.idle": "2022-12-04T06:40:33.653154Z",
     "shell.execute_reply": "2022-12-04T06:40:33.652588Z"
    },
    "lines_to_next_cell": 0,
    "papermill": {
     "duration": 0.008318,
     "end_time": "2022-12-04T06:40:33.654570",
     "exception": false,
     "start_time": "2022-12-04T06:40:33.646252",
     "status": "completed"
    },
    "tags": [
     "parameters"
    ]
   },
   "outputs": [],
   "source": [
    "# - During automated runs parameters will be injected in the below cell -"
   ]
  },
  {
   "cell_type": "code",
   "execution_count": 3,
   "id": "bdbf95fa",
   "metadata": {
    "execution": {
     "iopub.execute_input": "2022-12-04T06:40:33.661026Z",
     "iopub.status.busy": "2022-12-04T06:40:33.660469Z",
     "iopub.status.idle": "2022-12-04T06:40:33.665130Z",
     "shell.execute_reply": "2022-12-04T06:40:33.664514Z"
    },
    "papermill": {
     "duration": 0.009618,
     "end_time": "2022-12-04T06:40:33.666557",
     "exception": false,
     "start_time": "2022-12-04T06:40:33.656939",
     "status": "completed"
    },
    "tags": [
     "injected-parameters"
    ]
   },
   "outputs": [],
   "source": [
    "# Parameters\n",
    "P = {\n",
    "    \"pipeline.data_lake_root\": \"/pipeline-outputs/data-lake\",\n",
    "    \"pipeline.run_environment\": \"ci\",\n",
    "    \"pipeline.pipeline_run_id\": \"52d57705-a8e1-4838-aeab-971e47144aea\",\n",
    "    \"pipeline.github.repository\": \"matiasdahl/dev-mnist-digits-demo-pipeline\",\n",
    "    \"pipeline.github.workflow\": \"Run automated tests, pipeline and deploy results to static reporting site\",\n",
    "    \"pipeline.github.runner_name\": \"Hosted Agent\",\n",
    "    \"pipeline.github.run_id\": \"3612078946\",\n",
    "    \"pipeline.github.actor\": \"matiasdahl\",\n",
    "    \"pipeline.github.job\": \"run-tests-pipeline-and-persist-pipeline-outputs\",\n",
    "    \"pipeline.github.base_ref\": \"\",\n",
    "    \"pipeline.github.head_ref\": \"\",\n",
    "    \"pipeline.github.sha\": \"ace0d01011d5e914f1921450dd5a59c11367b38d\",\n",
    "    \"pipeline.github.ref\": \"refs/heads/development\",\n",
    "    \"pipeline.github.ref_type\": \"branch\",\n",
    "    \"pipeline.github.ref_name\": \"development\",\n",
    "    \"pipeline.github.event_name\": \"schedule\",\n",
    "    \"task.notebook\": \"notebooks/summary.py\",\n",
    "    \"task.max_nr_retries\": \"1\",\n",
    "    \"run.retry_nr\": \"0\",\n",
    "    \"task.timeout_s\": \"None\",\n",
    "    \"task.num_cpus\": 1,\n",
    "    \"_opentelemetry_traceparent\": \"00-e032066985e551907c78306a67612527-4a4ac7cd00a6df13-01\",\n",
    "}\n"
   ]
  },
  {
   "cell_type": "code",
   "execution_count": 4,
   "id": "67d2c2d7",
   "metadata": {
    "execution": {
     "iopub.execute_input": "2022-12-04T06:40:33.672793Z",
     "iopub.status.busy": "2022-12-04T06:40:33.672404Z",
     "iopub.status.idle": "2022-12-04T06:40:33.675251Z",
     "shell.execute_reply": "2022-12-04T06:40:33.674645Z"
    },
    "lines_to_next_cell": 0,
    "papermill": {
     "duration": 0.007727,
     "end_time": "2022-12-04T06:40:33.676634",
     "exception": false,
     "start_time": "2022-12-04T06:40:33.668907",
     "status": "completed"
    },
    "tags": []
   },
   "outputs": [],
   "source": [
    "# -----------------------------------------------------------------------"
   ]
  },
  {
   "cell_type": "markdown",
   "id": "937d8ba3",
   "metadata": {
    "papermill": {
     "duration": 0.00269,
     "end_time": "2022-12-04T06:40:33.681712",
     "exception": false,
     "start_time": "2022-12-04T06:40:33.679022",
     "status": "completed"
    },
    "tags": []
   },
   "source": [
    "---"
   ]
  },
  {
   "cell_type": "markdown",
   "id": "43a585ab",
   "metadata": {
    "lines_to_next_cell": 2,
    "papermill": {
     "duration": 0.002365,
     "end_time": "2022-12-04T06:40:33.686714",
     "exception": false,
     "start_time": "2022-12-04T06:40:33.684349",
     "status": "completed"
    },
    "tags": []
   },
   "source": [
    "### Notebook code"
   ]
  },
  {
   "cell_type": "code",
   "execution_count": 5,
   "id": "0f81a965",
   "metadata": {
    "execution": {
     "iopub.execute_input": "2022-12-04T06:40:33.693211Z",
     "iopub.status.busy": "2022-12-04T06:40:33.692640Z",
     "iopub.status.idle": "2022-12-04T06:40:34.768670Z",
     "shell.execute_reply": "2022-12-04T06:40:34.767175Z"
    },
    "papermill": {
     "duration": 1.081978,
     "end_time": "2022-12-04T06:40:34.771158",
     "exception": false,
     "start_time": "2022-12-04T06:40:33.689180",
     "status": "completed"
    },
    "tags": []
   },
   "outputs": [],
   "source": [
    "#\n",
    "import pandas as pd\n",
    "import matplotlib.pyplot as plt\n",
    "\n",
    "#\n",
    "from pynb_dag_runner.tasks.task_opentelemetry_logging import PydarLogger"
   ]
  },
  {
   "cell_type": "code",
   "execution_count": 6,
   "id": "a3b74e17",
   "metadata": {
    "execution": {
     "iopub.execute_input": "2022-12-04T06:40:34.778613Z",
     "iopub.status.busy": "2022-12-04T06:40:34.778062Z",
     "iopub.status.idle": "2022-12-04T06:40:34.935455Z",
     "shell.execute_reply": "2022-12-04T06:40:34.934827Z"
    },
    "papermill": {
     "duration": 0.163579,
     "end_time": "2022-12-04T06:40:34.937627",
     "exception": false,
     "start_time": "2022-12-04T06:40:34.774048",
     "status": "completed"
    },
    "tags": []
   },
   "outputs": [
    {
     "name": "stderr",
     "output_type": "stream",
     "text": [
      "2022-12-04 06:40:34,782\tINFO worker.py:842 -- Connecting to existing Ray cluster at address: 172.17.0.2:6379\n"
     ]
    }
   ],
   "source": [
    "logger = PydarLogger(P=P)"
   ]
  },
  {
   "cell_type": "code",
   "execution_count": 7,
   "id": "d2b4adc0",
   "metadata": {
    "execution": {
     "iopub.execute_input": "2022-12-04T06:40:34.945172Z",
     "iopub.status.busy": "2022-12-04T06:40:34.944925Z",
     "iopub.status.idle": "2022-12-04T06:40:34.948541Z",
     "shell.execute_reply": "2022-12-04T06:40:34.947905Z"
    },
    "papermill": {
     "duration": 0.009476,
     "end_time": "2022-12-04T06:40:34.950201",
     "exception": false,
     "start_time": "2022-12-04T06:40:34.940725",
     "status": "completed"
    },
    "tags": []
   },
   "outputs": [],
   "source": [
    "from pynb_dag_runner.tasks.task_opentelemetry_logging import (\n",
    "    PydarLogger,\n",
    "    get_logged_values,\n",
    ")\n",
    "from pynb_dag_runner.opentelemetry_helpers import _get_all_spans, Spans"
   ]
  },
  {
   "cell_type": "code",
   "execution_count": 8,
   "id": "5b2f3b04",
   "metadata": {
    "execution": {
     "iopub.execute_input": "2022-12-04T06:40:34.957228Z",
     "iopub.status.busy": "2022-12-04T06:40:34.956972Z",
     "iopub.status.idle": "2022-12-04T06:40:34.963577Z",
     "shell.execute_reply": "2022-12-04T06:40:34.962937Z"
    },
    "papermill": {
     "duration": 0.01227,
     "end_time": "2022-12-04T06:40:34.965432",
     "exception": false,
     "start_time": "2022-12-04T06:40:34.953162",
     "status": "completed"
    },
    "tags": []
   },
   "outputs": [],
   "source": [
    "def get_model_benchmarks():\n",
    "    \"\"\"\n",
    "    Query the OpenTelemetry logs for *this pipeline run* and return\n",
    "    all key-values logged from all runs of the benchmark-model.py task\n",
    "\n",
    "    For testing a json file with OpenTelemetry spans (as an array)\n",
    "    can be used as follows:\n",
    "\n",
    "    - Create output directory `mkdir /tmp/spans`\n",
    "    - Run unit tests. This will create pipeline-outputs/opentelemetry-spans.json\n",
    "    - Convert this json-array into jsonl format as follows\n",
    "\n",
    "    jq -c '.[]' /pipeline-outputs/opentelemetry-spans.json > /tmp/spans/data.txt\n",
    "\n",
    "    \"\"\"\n",
    "    spans: Spans = Spans(_get_all_spans())\n",
    "    print(f\"Found {len(spans)} spans\")\n",
    "\n",
    "    benchmark_spans = (\n",
    "        spans\n",
    "        # -\n",
    "        .filter([\"name\"], \"execute-task\")\n",
    "        # -\n",
    "        .filter([\"attributes\", \"task.notebook\"], \"notebooks/benchmark-model.py\")\n",
    "    )\n",
    "\n",
    "    result = []\n",
    "    for s in benchmark_spans:\n",
    "        result.append(\n",
    "            {\n",
    "                \"span_id\": s[\"context\"][\"span_id\"],\n",
    "                \"nr_train_images\": s[\"attributes\"][\"task.nr_train_images\"],\n",
    "                \"data\": get_logged_values(spans.bound_under(s)),\n",
    "            }\n",
    "        )\n",
    "\n",
    "    return result\n",
    "\n",
    "\n",
    "def adjust_pandas(df):\n",
    "    def column_renamer(col_name: str) -> str:\n",
    "        return (\n",
    "            col_name\n",
    "            # -- 'data.roc_auc_per_digit.4' -> 'roc_auc.4'\n",
    "            .replace(\"data.roc_auc_per_digit\", \"roc_auc\")\n",
    "            # -- 'data.roc_auc_class_mean' -> 'roc_auc_mean'\n",
    "            .replace(\"data.roc_auc_class_mean\", \"roc_auc_mean\")\n",
    "        )\n",
    "\n",
    "    return df.rename(column_renamer, axis=\"columns\").sort_values(by=\"nr_train_images\")"
   ]
  },
  {
   "cell_type": "code",
   "execution_count": 9,
   "id": "7e9993bc",
   "metadata": {
    "execution": {
     "iopub.execute_input": "2022-12-04T06:40:34.972873Z",
     "iopub.status.busy": "2022-12-04T06:40:34.972463Z",
     "iopub.status.idle": "2022-12-04T06:40:35.014652Z",
     "shell.execute_reply": "2022-12-04T06:40:35.013927Z"
    },
    "papermill": {
     "duration": 0.04794,
     "end_time": "2022-12-04T06:40:35.016217",
     "exception": false,
     "start_time": "2022-12-04T06:40:34.968277",
     "status": "completed"
    },
    "tags": []
   },
   "outputs": [
    {
     "name": "stdout",
     "output_type": "stream",
     "text": [
      "Found 423 spans\n"
     ]
    }
   ],
   "source": [
    "df_data = adjust_pandas(pd.json_normalize(get_model_benchmarks()))"
   ]
  },
  {
   "cell_type": "code",
   "execution_count": 10,
   "id": "38a47ed2",
   "metadata": {
    "execution": {
     "iopub.execute_input": "2022-12-04T06:40:35.024554Z",
     "iopub.status.busy": "2022-12-04T06:40:35.024126Z",
     "iopub.status.idle": "2022-12-04T06:40:35.050626Z",
     "shell.execute_reply": "2022-12-04T06:40:35.050027Z"
    },
    "papermill": {
     "duration": 0.032093,
     "end_time": "2022-12-04T06:40:35.052016",
     "exception": false,
     "start_time": "2022-12-04T06:40:35.019923",
     "status": "completed"
    },
    "tags": []
   },
   "outputs": [
    {
     "data": {
      "text/html": [
       "<div>\n",
       "<style scoped>\n",
       "    .dataframe tbody tr th:only-of-type {\n",
       "        vertical-align: middle;\n",
       "    }\n",
       "\n",
       "    .dataframe tbody tr th {\n",
       "        vertical-align: top;\n",
       "    }\n",
       "\n",
       "    .dataframe thead th {\n",
       "        text-align: right;\n",
       "    }\n",
       "</style>\n",
       "<table border=\"1\" class=\"dataframe\">\n",
       "  <thead>\n",
       "    <tr style=\"text-align: right;\">\n",
       "      <th></th>\n",
       "      <th>span_id</th>\n",
       "      <th>nr_train_images</th>\n",
       "      <th>roc_auc_mean</th>\n",
       "      <th>roc_auc.0</th>\n",
       "      <th>roc_auc.1</th>\n",
       "      <th>roc_auc.2</th>\n",
       "      <th>roc_auc.3</th>\n",
       "      <th>roc_auc.4</th>\n",
       "      <th>roc_auc.5</th>\n",
       "      <th>roc_auc.6</th>\n",
       "      <th>roc_auc.7</th>\n",
       "      <th>roc_auc.8</th>\n",
       "      <th>roc_auc.9</th>\n",
       "    </tr>\n",
       "  </thead>\n",
       "  <tbody>\n",
       "    <tr>\n",
       "      <th>1</th>\n",
       "      <td>0x3179ddc78b1d3f72</td>\n",
       "      <td>600</td>\n",
       "      <td>0.9990</td>\n",
       "      <td>1.0</td>\n",
       "      <td>0.9993</td>\n",
       "      <td>1.0</td>\n",
       "      <td>0.9997</td>\n",
       "      <td>0.9991</td>\n",
       "      <td>0.9988</td>\n",
       "      <td>0.9999</td>\n",
       "      <td>0.9998</td>\n",
       "      <td>0.9946</td>\n",
       "      <td>0.9987</td>\n",
       "    </tr>\n",
       "    <tr>\n",
       "      <th>0</th>\n",
       "      <td>0x53b814dd00656cfa</td>\n",
       "      <td>800</td>\n",
       "      <td>0.9990</td>\n",
       "      <td>1.0</td>\n",
       "      <td>0.9988</td>\n",
       "      <td>1.0</td>\n",
       "      <td>0.9998</td>\n",
       "      <td>0.9995</td>\n",
       "      <td>0.9992</td>\n",
       "      <td>1.0000</td>\n",
       "      <td>0.9999</td>\n",
       "      <td>0.9931</td>\n",
       "      <td>0.9994</td>\n",
       "    </tr>\n",
       "    <tr>\n",
       "      <th>2</th>\n",
       "      <td>0x201b154fc8c421c0</td>\n",
       "      <td>1000</td>\n",
       "      <td>0.9992</td>\n",
       "      <td>1.0</td>\n",
       "      <td>0.9990</td>\n",
       "      <td>1.0</td>\n",
       "      <td>0.9998</td>\n",
       "      <td>0.9996</td>\n",
       "      <td>0.9994</td>\n",
       "      <td>0.9999</td>\n",
       "      <td>0.9998</td>\n",
       "      <td>0.9951</td>\n",
       "      <td>0.9996</td>\n",
       "    </tr>\n",
       "    <tr>\n",
       "      <th>3</th>\n",
       "      <td>0x86ffb401aeb97dbd</td>\n",
       "      <td>1200</td>\n",
       "      <td>0.9993</td>\n",
       "      <td>1.0</td>\n",
       "      <td>0.9990</td>\n",
       "      <td>1.0</td>\n",
       "      <td>0.9999</td>\n",
       "      <td>0.9998</td>\n",
       "      <td>0.9996</td>\n",
       "      <td>0.9999</td>\n",
       "      <td>0.9998</td>\n",
       "      <td>0.9957</td>\n",
       "      <td>0.9998</td>\n",
       "    </tr>\n",
       "  </tbody>\n",
       "</table>\n",
       "</div>"
      ],
      "text/plain": [
       "              span_id  nr_train_images  roc_auc_mean  roc_auc.0  roc_auc.1  \\\n",
       "1  0x3179ddc78b1d3f72              600        0.9990        1.0     0.9993   \n",
       "0  0x53b814dd00656cfa              800        0.9990        1.0     0.9988   \n",
       "2  0x201b154fc8c421c0             1000        0.9992        1.0     0.9990   \n",
       "3  0x86ffb401aeb97dbd             1200        0.9993        1.0     0.9990   \n",
       "\n",
       "   roc_auc.2  roc_auc.3  roc_auc.4  roc_auc.5  roc_auc.6  roc_auc.7  \\\n",
       "1        1.0     0.9997     0.9991     0.9988     0.9999     0.9998   \n",
       "0        1.0     0.9998     0.9995     0.9992     1.0000     0.9999   \n",
       "2        1.0     0.9998     0.9996     0.9994     0.9999     0.9998   \n",
       "3        1.0     0.9999     0.9998     0.9996     0.9999     0.9998   \n",
       "\n",
       "   roc_auc.8  roc_auc.9  \n",
       "1     0.9946     0.9987  \n",
       "0     0.9931     0.9994  \n",
       "2     0.9951     0.9996  \n",
       "3     0.9957     0.9998  "
      ]
     },
     "execution_count": 10,
     "metadata": {},
     "output_type": "execute_result"
    }
   ],
   "source": [
    "df_data.round(4)"
   ]
  },
  {
   "cell_type": "code",
   "execution_count": 11,
   "id": "85f47770",
   "metadata": {
    "execution": {
     "iopub.execute_input": "2022-12-04T06:40:35.060670Z",
     "iopub.status.busy": "2022-12-04T06:40:35.060253Z",
     "iopub.status.idle": "2022-12-04T06:40:35.235927Z",
     "shell.execute_reply": "2022-12-04T06:40:35.235366Z"
    },
    "papermill": {
     "duration": 0.182393,
     "end_time": "2022-12-04T06:40:35.238316",
     "exception": false,
     "start_time": "2022-12-04T06:40:35.055923",
     "status": "completed"
    },
    "tags": []
   },
   "outputs": [
    {
     "data": {
      "image/png": "[encoded data removed]",
      "text/plain": [
       "<Figure size 1600x400 with 1 Axes>"
      ]
     },
     "metadata": {},
     "output_type": "display_data"
    }
   ],
   "source": [
    "def plot_classifier_performance_summary(df_data):\n",
    "    fig, ax = plt.subplots(nrows=1, ncols=1, figsize=(16, 4), sharex=True)\n",
    "\n",
    "    #\n",
    "    ax.plot(\n",
    "        df_data[\"nr_train_images\"], df_data[\"roc_auc_mean\"], marker=\"o\", linestyle=\"--\"\n",
    "    )\n",
    "    ax.set_title(\n",
    "        f\"ROC AUC digit classifier performance on evaluation digits\", fontsize=17\n",
    "    )\n",
    "    ax.set_xlabel(\"Total number of digits in training set\", fontsize=14)\n",
    "    ax.set_ylabel(\"Mean ROC AUC\", fontsize=14)\n",
    "\n",
    "    fig.tight_layout()\n",
    "    fig.show()\n",
    "\n",
    "    return fig\n",
    "\n",
    "\n",
    "fig = plot_classifier_performance_summary(df_data)"
   ]
  },
  {
   "cell_type": "code",
   "execution_count": 12,
   "id": "66aa82c4",
   "metadata": {
    "execution": {
     "iopub.execute_input": "2022-12-04T06:40:35.247860Z",
     "iopub.status.busy": "2022-12-04T06:40:35.247090Z",
     "iopub.status.idle": "2022-12-04T06:40:35.324620Z",
     "shell.execute_reply": "2022-12-04T06:40:35.324054Z"
    },
    "papermill": {
     "duration": 0.083941,
     "end_time": "2022-12-04T06:40:35.326303",
     "exception": false,
     "start_time": "2022-12-04T06:40:35.242362",
     "status": "completed"
    },
    "tags": []
   },
   "outputs": [],
   "source": [
    "logger.log_figure(\"auc-roc-model-performances.png\", fig)"
   ]
  },
  {
   "cell_type": "code",
   "execution_count": 13,
   "id": "cc3bd0c5",
   "metadata": {
    "execution": {
     "iopub.execute_input": "2022-12-04T06:40:35.337411Z",
     "iopub.status.busy": "2022-12-04T06:40:35.336974Z",
     "iopub.status.idle": "2022-12-04T06:40:35.339789Z",
     "shell.execute_reply": "2022-12-04T06:40:35.339293Z"
    },
    "papermill": {
     "duration": 0.009737,
     "end_time": "2022-12-04T06:40:35.341280",
     "exception": false,
     "start_time": "2022-12-04T06:40:35.331543",
     "status": "completed"
    },
    "tags": []
   },
   "outputs": [],
   "source": [
    "###"
   ]
  },
  {
   "cell_type": "code",
   "execution_count": null,
   "id": "68566132",
   "metadata": {
    "papermill": {
     "duration": 0.004359,
     "end_time": "2022-12-04T06:40:35.349687",
     "exception": false,
     "start_time": "2022-12-04T06:40:35.345328",
     "status": "completed"
    },
    "tags": []
   },
   "outputs": [],
   "source": []
  }
 ],
 "metadata": {
  "jupytext": {
   "cell_metadata_filter": "tags,-all",
   "main_language": "python",
   "notebook_metadata_filter": "-all"
  },
  "language_info": {
   "codemirror_mode": {
    "name": "ipython",
    "version": 3
   },
   "file_extension": ".py",
   "mimetype": "text/x-python",
   "name": "python",
   "nbconvert_exporter": "python",
   "pygments_lexer": "ipython3",
   "version": "3.8.10"
  },
  "papermill": {
   "default_parameters": {},
   "duration": 3.788936,
   "end_time": "2022-12-04T06:40:36.272494",
   "environment_variables": {},
   "exception": null,
   "input_path": "/home/host_user/workspace/mnist-demo-pipeline/mnist-demo-pipeline/notebooks/temp-notebook-fztuwi24.ipynb",
   "output_path": "notebooks/summary.ipynb",
   "parameters": {
    "P": {
     "_opentelemetry_traceparent": "00-e032066985e551907c78306a67612527-4a4ac7cd00a6df13-01",
     "pipeline.data_lake_root": "/pipeline-outputs/data-lake",
     "pipeline.github.actor": "matiasdahl",
     "pipeline.github.base_ref": "",
     "pipeline.github.event_name": "schedule",
     "pipeline.github.head_ref": "",
     "pipeline.github.job": "run-tests-pipeline-and-persist-pipeline-outputs",
     "pipeline.github.ref": "refs/heads/development",
     "pipeline.github.ref_name": "development",
     "pipeline.github.ref_type": "branch",
     "pipeline.github.repository": "matiasdahl/dev-mnist-digits-demo-pipeline",
     "pipeline.github.run_id": "3612078946",
     "pipeline.github.runner_name": "Hosted Agent",
     "pipeline.github.sha": "ace0d01011d5e914f1921450dd5a59c11367b38d",
     "pipeline.github.workflow": "Run automated tests, pipeline and deploy results to static reporting site",
     "pipeline.pipeline_run_id": "52d57705-a8e1-4838-aeab-971e47144aea",
     "pipeline.run_environment": "ci",
     "run.retry_nr": "0",
     "task.max_nr_retries": "1",
     "task.notebook": "notebooks/summary.py",
     "task.num_cpus": 1,
     "task.timeout_s": "None"
    }
   },
   "start_time": "2022-12-04T06:40:32.483558",
   "version": "2.3.3"
  }
 },
 "nbformat": 4,
 "nbformat_minor": 5
}