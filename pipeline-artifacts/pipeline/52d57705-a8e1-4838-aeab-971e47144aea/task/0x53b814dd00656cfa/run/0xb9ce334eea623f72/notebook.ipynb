{
 "cells": [
  {
   "cell_type": "markdown",
   "id": "a9cc98f9",
   "metadata": {
    "papermill": {
     "duration": 0.005862,
     "end_time": "2022-12-04T06:40:23.508456",
     "exception": false,
     "start_time": "2022-12-04T06:40:23.502594",
     "status": "completed"
    },
    "tags": []
   },
   "source": [
    "# Benchmark model\n",
    "\n",
    "The purpose of this notebook is to benchmark persisted onnx-model (trained in the\n",
    "previous step) against evaluation set."
   ]
  },
  {
   "cell_type": "markdown",
   "id": "ebe5a10e",
   "metadata": {
    "papermill": {
     "duration": 0.003866,
     "end_time": "2022-12-04T06:40:23.516397",
     "exception": false,
     "start_time": "2022-12-04T06:40:23.512531",
     "status": "completed"
    },
    "tags": []
   },
   "source": [
    "### Determine run parameters"
   ]
  },
  {
   "cell_type": "code",
   "execution_count": 1,
   "id": "d6e814bb",
   "metadata": {
    "execution": {
     "iopub.execute_input": "2022-12-04T06:40:23.525978Z",
     "iopub.status.busy": "2022-12-04T06:40:23.525672Z",
     "iopub.status.idle": "2022-12-04T06:40:23.534896Z",
     "shell.execute_reply": "2022-12-04T06:40:23.534225Z"
    },
    "lines_to_next_cell": 0,
    "papermill": {
     "duration": 0.015658,
     "end_time": "2022-12-04T06:40:23.536598",
     "exception": false,
     "start_time": "2022-12-04T06:40:23.520940",
     "status": "completed"
    },
    "tags": []
   },
   "outputs": [],
   "source": [
    "# ----------------- Parameters for interactive development --------------\n",
    "P = {\n",
    "    \"pipeline.data_lake_root\": \"/pipeline-outputs/data-lake\",\n",
    "    \"task.nr_train_images\": 600,\n",
    "}"
   ]
  },
  {
   "cell_type": "code",
   "execution_count": 2,
   "id": "fe9462e6",
   "metadata": {
    "execution": {
     "iopub.execute_input": "2022-12-04T06:40:23.546321Z",
     "iopub.status.busy": "2022-12-04T06:40:23.546085Z",
     "iopub.status.idle": "2022-12-04T06:40:23.549803Z",
     "shell.execute_reply": "2022-12-04T06:40:23.549167Z"
    },
    "lines_to_next_cell": 0,
    "papermill": {
     "duration": 0.010838,
     "end_time": "2022-12-04T06:40:23.552390",
     "exception": false,
     "start_time": "2022-12-04T06:40:23.541552",
     "status": "completed"
    },
    "tags": [
     "parameters"
    ]
   },
   "outputs": [],
   "source": [
    "# - During automated runs parameters will be injected in the below cell -"
   ]
  },
  {
   "cell_type": "code",
   "execution_count": 3,
   "id": "53217e55",
   "metadata": {
    "execution": {
     "iopub.execute_input": "2022-12-04T06:40:23.566149Z",
     "iopub.status.busy": "2022-12-04T06:40:23.565926Z",
     "iopub.status.idle": "2022-12-04T06:40:23.571192Z",
     "shell.execute_reply": "2022-12-04T06:40:23.570658Z"
    },
    "papermill": {
     "duration": 0.012921,
     "end_time": "2022-12-04T06:40:23.573940",
     "exception": false,
     "start_time": "2022-12-04T06:40:23.561019",
     "status": "completed"
    },
    "tags": [
     "injected-parameters"
    ]
   },
   "outputs": [],
   "source": [
    "# Parameters\n",
    "P = {\n",
    "    \"pipeline.data_lake_root\": \"/pipeline-outputs/data-lake\",\n",
    "    \"pipeline.run_environment\": \"ci\",\n",
    "    \"pipeline.pipeline_run_id\": \"52d57705-a8e1-4838-aeab-971e47144aea\",\n",
    "    \"pipeline.github.repository\": \"matiasdahl/dev-mnist-digits-demo-pipeline\",\n",
    "    \"pipeline.github.workflow\": \"Run automated tests, pipeline and deploy results to static reporting site\",\n",
    "    \"pipeline.github.runner_name\": \"Hosted Agent\",\n",
    "    \"pipeline.github.run_id\": \"3612078946\",\n",
    "    \"pipeline.github.actor\": \"matiasdahl\",\n",
    "    \"pipeline.github.job\": \"run-tests-pipeline-and-persist-pipeline-outputs\",\n",
    "    \"pipeline.github.base_ref\": \"\",\n",
    "    \"pipeline.github.head_ref\": \"\",\n",
    "    \"pipeline.github.sha\": \"ace0d01011d5e914f1921450dd5a59c11367b38d\",\n",
    "    \"pipeline.github.ref\": \"refs/heads/development\",\n",
    "    \"pipeline.github.ref_type\": \"branch\",\n",
    "    \"pipeline.github.ref_name\": \"development\",\n",
    "    \"pipeline.github.event_name\": \"schedule\",\n",
    "    \"task.nr_train_images\": 800,\n",
    "    \"task.notebook\": \"notebooks/benchmark-model.py\",\n",
    "    \"task.max_nr_retries\": \"1\",\n",
    "    \"run.retry_nr\": \"0\",\n",
    "    \"task.timeout_s\": \"None\",\n",
    "    \"task.num_cpus\": 1,\n",
    "    \"_opentelemetry_traceparent\": \"00-e032066985e551907c78306a67612527-35069caf030e51d2-01\",\n",
    "}\n"
   ]
  },
  {
   "cell_type": "code",
   "execution_count": 4,
   "id": "96d0379f",
   "metadata": {
    "execution": {
     "iopub.execute_input": "2022-12-04T06:40:23.583578Z",
     "iopub.status.busy": "2022-12-04T06:40:23.583360Z",
     "iopub.status.idle": "2022-12-04T06:40:23.586021Z",
     "shell.execute_reply": "2022-12-04T06:40:23.585490Z"
    },
    "lines_to_next_cell": 0,
    "papermill": {
     "duration": 0.011071,
     "end_time": "2022-12-04T06:40:23.588883",
     "exception": false,
     "start_time": "2022-12-04T06:40:23.577812",
     "status": "completed"
    },
    "tags": []
   },
   "outputs": [],
   "source": [
    "# -----------------------------------------------------------------------"
   ]
  },
  {
   "cell_type": "markdown",
   "id": "2fa69168",
   "metadata": {
    "papermill": {
     "duration": 0.003737,
     "end_time": "2022-12-04T06:40:23.596755",
     "exception": false,
     "start_time": "2022-12-04T06:40:23.593018",
     "status": "completed"
    },
    "tags": []
   },
   "source": [
    "---"
   ]
  },
  {
   "cell_type": "markdown",
   "id": "887e176f",
   "metadata": {
    "lines_to_next_cell": 2,
    "papermill": {
     "duration": 0.004055,
     "end_time": "2022-12-04T06:40:23.605170",
     "exception": false,
     "start_time": "2022-12-04T06:40:23.601115",
     "status": "completed"
    },
    "tags": []
   },
   "source": [
    "### Notebook code"
   ]
  },
  {
   "cell_type": "code",
   "execution_count": 5,
   "id": "abc154d0",
   "metadata": {
    "execution": {
     "iopub.execute_input": "2022-12-04T06:40:23.614562Z",
     "iopub.status.busy": "2022-12-04T06:40:23.614312Z",
     "iopub.status.idle": "2022-12-04T06:40:24.729639Z",
     "shell.execute_reply": "2022-12-04T06:40:24.729028Z"
    },
    "papermill": {
     "duration": 1.12226,
     "end_time": "2022-12-04T06:40:24.731775",
     "exception": false,
     "start_time": "2022-12-04T06:40:23.609515",
     "status": "completed"
    },
    "tags": []
   },
   "outputs": [
    {
     "name": "stderr",
     "output_type": "stream",
     "text": [
      "2022-12-04 06:40:24,564\tINFO worker.py:842 -- Connecting to existing Ray cluster at address: 172.17.0.2:6379\n"
     ]
    }
   ],
   "source": [
    "import itertools as it\n",
    "\n",
    "#\n",
    "import numpy as np\n",
    "import matplotlib.pyplot as plt\n",
    "\n",
    "#\n",
    "from pynb_dag_runner.tasks.task_opentelemetry_logging import PydarLogger\n",
    "\n",
    "#\n",
    "from common.io import datalake_root\n",
    "\n",
    "logger = PydarLogger(P)"
   ]
  },
  {
   "cell_type": "markdown",
   "id": "be173ee0",
   "metadata": {
    "papermill": {
     "duration": 0.004104,
     "end_time": "2022-12-04T06:40:24.740762",
     "exception": false,
     "start_time": "2022-12-04T06:40:24.736658",
     "status": "completed"
    },
    "tags": []
   },
   "source": [
    "## Load persisted onnx-model and evaluation data"
   ]
  },
  {
   "cell_type": "code",
   "execution_count": 6,
   "id": "6d5eb6fe",
   "metadata": {
    "execution": {
     "iopub.execute_input": "2022-12-04T06:40:24.750250Z",
     "iopub.status.busy": "2022-12-04T06:40:24.749909Z",
     "iopub.status.idle": "2022-12-04T06:40:24.753219Z",
     "shell.execute_reply": "2022-12-04T06:40:24.752666Z"
    },
    "papermill": {
     "duration": 0.011171,
     "end_time": "2022-12-04T06:40:24.755901",
     "exception": false,
     "start_time": "2022-12-04T06:40:24.744730",
     "status": "completed"
    },
    "tags": []
   },
   "outputs": [],
   "source": [
    "from common.io import read_onnx, get_onnx_inputs, get_onnx_outputs, read_numpy"
   ]
  },
  {
   "cell_type": "code",
   "execution_count": 7,
   "id": "ea5eb529",
   "metadata": {
    "execution": {
     "iopub.execute_input": "2022-12-04T06:40:24.765290Z",
     "iopub.status.busy": "2022-12-04T06:40:24.765050Z",
     "iopub.status.idle": "2022-12-04T06:40:24.775334Z",
     "shell.execute_reply": "2022-12-04T06:40:24.774833Z"
    },
    "lines_to_next_cell": 0,
    "papermill": {
     "duration": 0.01714,
     "end_time": "2022-12-04T06:40:24.777316",
     "exception": false,
     "start_time": "2022-12-04T06:40:24.760176",
     "status": "completed"
    },
    "tags": []
   },
   "outputs": [],
   "source": [
    "onnx_inference_session = read_onnx(\n",
    "    datalake_root(P)\n",
    "    / \"models\"\n",
    "    / f\"nr_train_images={P['task.nr_train_images']}\"\n",
    "    / \"model.onnx\"\n",
    ")"
   ]
  },
  {
   "cell_type": "markdown",
   "id": "044a5035",
   "metadata": {
    "papermill": {
     "duration": 0.004081,
     "end_time": "2022-12-04T06:40:24.785322",
     "exception": false,
     "start_time": "2022-12-04T06:40:24.781241",
     "status": "completed"
    },
    "tags": []
   },
   "source": [
    "### Record structure of inputs and outputs for ONNX model\n",
    "\n",
    "(this should likely be done in training notebook)"
   ]
  },
  {
   "cell_type": "code",
   "execution_count": 8,
   "id": "2284ee84",
   "metadata": {
    "execution": {
     "iopub.execute_input": "2022-12-04T06:40:24.798320Z",
     "iopub.status.busy": "2022-12-04T06:40:24.798068Z",
     "iopub.status.idle": "2022-12-04T06:40:24.803254Z",
     "shell.execute_reply": "2022-12-04T06:40:24.802718Z"
    },
    "papermill": {
     "duration": 0.016205,
     "end_time": "2022-12-04T06:40:24.806565",
     "exception": false,
     "start_time": "2022-12-04T06:40:24.790360",
     "status": "completed"
    },
    "tags": []
   },
   "outputs": [
    {
     "name": "stdout",
     "output_type": "stream",
     "text": [
      "{\n",
      "  \"inputs\": [\n",
      "    {\n",
      "      \"name\": \"float_input_8x8_image\",\n",
      "      \"shape\": [\n",
      "        null,\n",
      "        64\n",
      "      ],\n",
      "      \"type\": \"tensor(float)\"\n",
      "    }\n",
      "  ],\n",
      "  \"outputs\": [\n",
      "    {\n",
      "      \"name\": \"output_label\",\n",
      "      \"shape\": [\n",
      "        null\n",
      "      ],\n",
      "      \"type\": \"tensor(int64)\"\n",
      "    },\n",
      "    {\n",
      "      \"name\": \"output_probability\",\n",
      "      \"shape\": [],\n",
      "      \"type\": \"seq(map(int64,tensor(float)))\"\n",
      "    }\n",
      "  ]\n",
      "}\n"
     ]
    }
   ],
   "source": [
    "import json\n",
    "\n",
    "onnx_io = json.dumps(\n",
    "    {\n",
    "        \"inputs\": get_onnx_inputs(onnx_inference_session),\n",
    "        \"outputs\": get_onnx_outputs(onnx_inference_session),\n",
    "    },\n",
    "    indent=2,\n",
    ")\n",
    "\n",
    "\n",
    "logger.log_artefact(\"onnx_io_structure.json\", onnx_io)\n",
    "print(onnx_io)"
   ]
  },
  {
   "cell_type": "markdown",
   "id": "f2097393",
   "metadata": {
    "papermill": {
     "duration": 0.004092,
     "end_time": "2022-12-04T06:40:24.815161",
     "exception": false,
     "start_time": "2022-12-04T06:40:24.811069",
     "status": "completed"
    },
    "tags": []
   },
   "source": [
    "### Evaluate model performance on evaluation data set"
   ]
  },
  {
   "cell_type": "code",
   "execution_count": 9,
   "id": "a5e66fb7",
   "metadata": {
    "execution": {
     "iopub.execute_input": "2022-12-04T06:40:24.824620Z",
     "iopub.status.busy": "2022-12-04T06:40:24.824391Z",
     "iopub.status.idle": "2022-12-04T06:40:24.828796Z",
     "shell.execute_reply": "2022-12-04T06:40:24.828243Z"
    },
    "papermill": {
     "duration": 0.011777,
     "end_time": "2022-12-04T06:40:24.831294",
     "exception": false,
     "start_time": "2022-12-04T06:40:24.819517",
     "status": "completed"
    },
    "tags": []
   },
   "outputs": [],
   "source": [
    "# load evaluation data\n",
    "X_test = read_numpy(datalake_root(P) / \"test-data\" / \"digits.numpy\")\n",
    "y_test = read_numpy(datalake_root(P) / \"test-data\" / \"labels.numpy\")"
   ]
  },
  {
   "cell_type": "code",
   "execution_count": 10,
   "id": "fa74dc76",
   "metadata": {
    "execution": {
     "iopub.execute_input": "2022-12-04T06:40:24.841681Z",
     "iopub.status.busy": "2022-12-04T06:40:24.841468Z",
     "iopub.status.idle": "2022-12-04T06:40:24.904857Z",
     "shell.execute_reply": "2022-12-04T06:40:24.904271Z"
    },
    "papermill": {
     "duration": 0.070642,
     "end_time": "2022-12-04T06:40:24.906884",
     "exception": false,
     "start_time": "2022-12-04T06:40:24.836242",
     "status": "completed"
    },
    "tags": []
   },
   "outputs": [],
   "source": [
    "def get_model_outputs(X, onnx_inference_session):\n",
    "    y_pred_labels, y_pred_map = onnx_inference_session.run(\n",
    "        [\"output_label\", \"output_probability\"],\n",
    "        {\"float_input_8x8_image\": X.astype(np.float32)},\n",
    "    )\n",
    "    y_pred_probs = np.array(\n",
    "        [[probabilities[digit] for digit in range(10)] for probabilities in y_pred_map]\n",
    "    )\n",
    "\n",
    "    assert y_pred_labels.shape == (X.shape[0],)\n",
    "    assert y_pred_probs.shape == (X.shape[0], 10)\n",
    "\n",
    "    return y_pred_labels, y_pred_probs\n",
    "\n",
    "\n",
    "# Note: as shown in the training notebook, the predicted labels and probabilities\n",
    "# computed below need not be compatible.\n",
    "y_pred_labels_test, y_pred_probs_test = get_model_outputs(\n",
    "    X_test, onnx_inference_session\n",
    ")"
   ]
  },
  {
   "cell_type": "markdown",
   "id": "dfef40f2",
   "metadata": {
    "papermill": {
     "duration": 0.00463,
     "end_time": "2022-12-04T06:40:24.916715",
     "exception": false,
     "start_time": "2022-12-04T06:40:24.912085",
     "status": "completed"
    },
    "tags": []
   },
   "source": [
    "### Confusion matrix"
   ]
  },
  {
   "cell_type": "code",
   "execution_count": 11,
   "id": "25271e10",
   "metadata": {
    "execution": {
     "iopub.execute_input": "2022-12-04T06:40:24.926560Z",
     "iopub.status.busy": "2022-12-04T06:40:24.926260Z",
     "iopub.status.idle": "2022-12-04T06:40:24.929476Z",
     "shell.execute_reply": "2022-12-04T06:40:24.928503Z"
    },
    "papermill": {
     "duration": 0.010694,
     "end_time": "2022-12-04T06:40:24.931870",
     "exception": false,
     "start_time": "2022-12-04T06:40:24.921176",
     "status": "completed"
    },
    "tags": []
   },
   "outputs": [],
   "source": [
    "# TODO"
   ]
  },
  {
   "cell_type": "markdown",
   "id": "a5eec29b",
   "metadata": {
    "papermill": {
     "duration": 0.004329,
     "end_time": "2022-12-04T06:40:24.940576",
     "exception": false,
     "start_time": "2022-12-04T06:40:24.936247",
     "status": "completed"
    },
    "tags": []
   },
   "source": [
    "### Plot predicted probabilities for each classifier over all evaluation digit images"
   ]
  },
  {
   "cell_type": "code",
   "execution_count": 12,
   "id": "82f6de36",
   "metadata": {
    "execution": {
     "iopub.execute_input": "2022-12-04T06:40:24.950609Z",
     "iopub.status.busy": "2022-12-04T06:40:24.950366Z",
     "iopub.status.idle": "2022-12-04T06:40:27.963882Z",
     "shell.execute_reply": "2022-12-04T06:40:27.963289Z"
    },
    "papermill": {
     "duration": 3.020681,
     "end_time": "2022-12-04T06:40:27.965760",
     "exception": false,
     "start_time": "2022-12-04T06:40:24.945079",
     "status": "completed"
    },
    "tags": []
   },
   "outputs": [
    {
     "data": {
      "image/png": "[encoded data removed]",
      "text/plain": [
       "<Figure size 1600x600 with 10 Axes>"
      ]
     },
     "metadata": {},
     "output_type": "display_data"
    }
   ],
   "source": [
    "def plot_per_digit_probabilities(y_pred_probs):\n",
    "    fig, axs = plt.subplots(nrows=2, ncols=5, figsize=(16, 6))\n",
    "\n",
    "    for (r, c), digit, ax in zip(\n",
    "        it.product(range(2), range(5)), range(10), axs.reshape(-1)\n",
    "    ):\n",
    "        ax.hist(y_pred_probs_test[:, digit], bins=20)\n",
    "\n",
    "        ax.set_title(f\"Digit {digit}\")\n",
    "        if r == 1 and c == 2:\n",
    "            ax.set_xlabel(\"probability\", fontsize=16)\n",
    "\n",
    "        if c == 0:\n",
    "            ax.set_ylabel(\"counts\", fontsize=16)\n",
    "        ax.set_yscale(\"log\")\n",
    "\n",
    "    fig.tight_layout()\n",
    "    fig.suptitle(\n",
    "        f\"Distributions of prediction probabilities for each digit \"\n",
    "        f\"(on evaluation data, n={y_pred_probs.shape[0]})\",\n",
    "        fontsize=20,\n",
    "    )\n",
    "    fig.tight_layout()\n",
    "    fig.show()\n",
    "\n",
    "    return fig\n",
    "\n",
    "\n",
    "fig = plot_per_digit_probabilities(y_pred_probs_test)"
   ]
  },
  {
   "cell_type": "markdown",
   "id": "3af4af5c",
   "metadata": {
    "papermill": {
     "duration": 0.005111,
     "end_time": "2022-12-04T06:40:27.976948",
     "exception": false,
     "start_time": "2022-12-04T06:40:27.971837",
     "status": "completed"
    },
    "tags": []
   },
   "source": [
    "From the above distributions we see that most digits have clear separation between\n",
    "high and lower probabilities. Morover, in each case there is roughly an order of\n",
    "magnitude more of digits with low probabilities. This is compatible with digits\n",
    "being roughly evenly distributed in the data."
   ]
  },
  {
   "cell_type": "code",
   "execution_count": 13,
   "id": "b84edcd0",
   "metadata": {
    "execution": {
     "iopub.execute_input": "2022-12-04T06:40:27.988912Z",
     "iopub.status.busy": "2022-12-04T06:40:27.988084Z",
     "iopub.status.idle": "2022-12-04T06:40:28.432424Z",
     "shell.execute_reply": "2022-12-04T06:40:28.431742Z"
    },
    "papermill": {
     "duration": 0.452309,
     "end_time": "2022-12-04T06:40:28.434519",
     "exception": false,
     "start_time": "2022-12-04T06:40:27.982210",
     "status": "completed"
    },
    "tags": []
   },
   "outputs": [],
   "source": [
    "logger.log_figure(\"per-digit-probabilities.png\", fig)"
   ]
  },
  {
   "cell_type": "markdown",
   "id": "d9cff8c2",
   "metadata": {
    "papermill": {
     "duration": 0.005016,
     "end_time": "2022-12-04T06:40:28.445266",
     "exception": false,
     "start_time": "2022-12-04T06:40:28.440250",
     "status": "completed"
    },
    "tags": []
   },
   "source": [
    "### Plot ROC curves for individual one-vs-rest classifiers"
   ]
  },
  {
   "cell_type": "code",
   "execution_count": 14,
   "id": "603365f4",
   "metadata": {
    "execution": {
     "iopub.execute_input": "2022-12-04T06:40:28.456634Z",
     "iopub.status.busy": "2022-12-04T06:40:28.456296Z",
     "iopub.status.idle": "2022-12-04T06:40:28.839018Z",
     "shell.execute_reply": "2022-12-04T06:40:28.838214Z"
    },
    "papermill": {
     "duration": 0.390556,
     "end_time": "2022-12-04T06:40:28.840844",
     "exception": false,
     "start_time": "2022-12-04T06:40:28.450288",
     "status": "completed"
    },
    "tags": []
   },
   "outputs": [],
   "source": [
    "from sklearn import metrics"
   ]
  },
  {
   "cell_type": "code",
   "execution_count": 15,
   "id": "ead2e978",
   "metadata": {
    "execution": {
     "iopub.execute_input": "2022-12-04T06:40:28.852747Z",
     "iopub.status.busy": "2022-12-04T06:40:28.852336Z",
     "iopub.status.idle": "2022-12-04T06:40:29.880639Z",
     "shell.execute_reply": "2022-12-04T06:40:29.879458Z"
    },
    "papermill": {
     "duration": 1.036508,
     "end_time": "2022-12-04T06:40:29.882657",
     "exception": false,
     "start_time": "2022-12-04T06:40:28.846149",
     "status": "completed"
    },
    "tags": []
   },
   "outputs": [
    {
     "data": {
      "image/png": "[encoded data removed]",
      "text/plain": [
       "<Figure size 1600x800 with 10 Axes>"
      ]
     },
     "metadata": {},
     "output_type": "display_data"
    }
   ],
   "source": [
    "def plot_roc_curves(y, y_pred_probs):\n",
    "    # based on example code\n",
    "    # https://scikit-learn.org/stable/auto_examples/model_selection/plot_roc.html\n",
    "\n",
    "    fig, axs = plt.subplots(nrows=2, ncols=5, figsize=(16, 8))\n",
    "\n",
    "    roc_auc_dict = {}\n",
    "\n",
    "    for (r, c), digit, ax in zip(\n",
    "        it.product(range(2), range(5)), range(10), axs.reshape(-1)\n",
    "    ):\n",
    "        fpr, tpr, _ = metrics.roc_curve(y == digit, y_pred_probs[:, digit])\n",
    "        auc = metrics.auc(fpr, tpr)\n",
    "        roc_auc_dict[str(digit)] = auc\n",
    "\n",
    "        ax.plot(fpr, tpr, label=f\"ROC AUC={round(auc, 3)}\")\n",
    "\n",
    "        ax.set_title(f\"\\nDigit {digit}\", fontsize=16)\n",
    "        if r == 1:\n",
    "            ax.set_xlabel(\"FPR\", fontsize=18)\n",
    "\n",
    "        if c == 0:\n",
    "            ax.set_ylabel(\"TPR\", fontsize=18)\n",
    "\n",
    "        ax.set_xlim([-0.05, 1.05])\n",
    "        ax.set_ylim([-0.05, 1.05])\n",
    "        ax.legend(loc=\"lower right\", frameon=False, fontsize=14)\n",
    "\n",
    "    fig.tight_layout()\n",
    "    fig.suptitle(\n",
    "        f\"ROC plots for one-vs-rest performances \"\n",
    "        f\"(on evaluation data, n={y_pred_probs_test.shape[1]}\",\n",
    "        fontsize=22,\n",
    "    )\n",
    "    fig.tight_layout()\n",
    "    fig.show()\n",
    "\n",
    "    return roc_auc_dict, fig\n",
    "\n",
    "\n",
    "roc_auc_dict, fig = plot_roc_curves(y_test, y_pred_probs_test)"
   ]
  },
  {
   "cell_type": "code",
   "execution_count": 16,
   "id": "0f6dbb8b",
   "metadata": {
    "execution": {
     "iopub.execute_input": "2022-12-04T06:40:29.898668Z",
     "iopub.status.busy": "2022-12-04T06:40:29.898380Z",
     "iopub.status.idle": "2022-12-04T06:40:30.145036Z",
     "shell.execute_reply": "2022-12-04T06:40:30.144119Z"
    },
    "papermill": {
     "duration": 0.255912,
     "end_time": "2022-12-04T06:40:30.146909",
     "exception": false,
     "start_time": "2022-12-04T06:40:29.890997",
     "status": "completed"
    },
    "tags": []
   },
   "outputs": [],
   "source": [
    "logger.log_figure(\"per-digit-roc-curves.png\", fig)"
   ]
  },
  {
   "cell_type": "code",
   "execution_count": 17,
   "id": "dd5c139e",
   "metadata": {
    "execution": {
     "iopub.execute_input": "2022-12-04T06:40:30.160823Z",
     "iopub.status.busy": "2022-12-04T06:40:30.160345Z",
     "iopub.status.idle": "2022-12-04T06:40:30.166109Z",
     "shell.execute_reply": "2022-12-04T06:40:30.165339Z"
    },
    "papermill": {
     "duration": 0.014745,
     "end_time": "2022-12-04T06:40:30.167730",
     "exception": false,
     "start_time": "2022-12-04T06:40:30.152985",
     "status": "completed"
    },
    "tags": []
   },
   "outputs": [
    {
     "data": {
      "text/plain": [
       "{'0': 1.0,\n",
       " '1': 0.9987628865979382,\n",
       " '2': 1.0,\n",
       " '3': 0.9998125585754452,\n",
       " '4': 0.9995046486816034,\n",
       " '5': 0.9991752577319588,\n",
       " '6': 0.999961896052431,\n",
       " '7': 0.9998856881572931,\n",
       " '8': 0.9930643127364438,\n",
       " '9': 0.9994284407864654}"
      ]
     },
     "execution_count": 17,
     "metadata": {},
     "output_type": "execute_result"
    }
   ],
   "source": [
    "roc_auc_dict"
   ]
  },
  {
   "cell_type": "code",
   "execution_count": 18,
   "id": "d40466f0",
   "metadata": {
    "execution": {
     "iopub.execute_input": "2022-12-04T06:40:30.181189Z",
     "iopub.status.busy": "2022-12-04T06:40:30.180773Z",
     "iopub.status.idle": "2022-12-04T06:40:30.185080Z",
     "shell.execute_reply": "2022-12-04T06:40:30.184331Z"
    },
    "papermill": {
     "duration": 0.01356,
     "end_time": "2022-12-04T06:40:30.187507",
     "exception": false,
     "start_time": "2022-12-04T06:40:30.173947",
     "status": "completed"
    },
    "tags": []
   },
   "outputs": [
    {
     "name": "stdout",
     "output_type": "stream",
     "text": [
      " - Logging roc_auc_per_digit (json) : {'0': 1.0, '1': 0.9987628865979382, '2': 1.0, '3': 0.9998125585754452, '4': 0.9995046486816034, '5': 0.9991752577319588, '6': 0.999961896052431, '7': 0.9998856881572931, '8': 0.9930643127364438, '9': 0.9994284407864654}\n"
     ]
    }
   ],
   "source": [
    "logger.log_value(\"roc_auc_per_digit\", roc_auc_dict)"
   ]
  },
  {
   "cell_type": "markdown",
   "id": "041d4fac",
   "metadata": {
    "papermill": {
     "duration": 0.006128,
     "end_time": "2022-12-04T06:40:30.199518",
     "exception": false,
     "start_time": "2022-12-04T06:40:30.193390",
     "status": "completed"
    },
    "tags": []
   },
   "source": [
    "### Compute and log mean ROC AUC score averaged over all digits"
   ]
  },
  {
   "cell_type": "code",
   "execution_count": 19,
   "id": "6bf91545",
   "metadata": {
    "execution": {
     "iopub.execute_input": "2022-12-04T06:40:30.212635Z",
     "iopub.status.busy": "2022-12-04T06:40:30.212205Z",
     "iopub.status.idle": "2022-12-04T06:40:30.223437Z",
     "shell.execute_reply": "2022-12-04T06:40:30.222794Z"
    },
    "papermill": {
     "duration": 0.019799,
     "end_time": "2022-12-04T06:40:30.225281",
     "exception": false,
     "start_time": "2022-12-04T06:40:30.205482",
     "status": "completed"
    },
    "tags": []
   },
   "outputs": [
    {
     "name": "stdout",
     "output_type": "stream",
     "text": [
      " - Logging roc_auc_class_mean (float) : 0.9989595689319579\n"
     ]
    }
   ],
   "source": [
    "roc_auc_macro = np.mean(list(roc_auc_dict.values()))\n",
    "\n",
    "logger.log_float(\"roc_auc_class_mean\", roc_auc_macro)\n",
    "\n",
    "# assert that the same value can be computed directly using sklearn\n",
    "assert roc_auc_macro == metrics.roc_auc_score(\n",
    "    y_test, y_pred_probs_test, average=\"macro\", multi_class=\"ovr\"\n",
    ")"
   ]
  },
  {
   "cell_type": "code",
   "execution_count": 20,
   "id": "5ba1d0c9",
   "metadata": {
    "execution": {
     "iopub.execute_input": "2022-12-04T06:40:30.238760Z",
     "iopub.status.busy": "2022-12-04T06:40:30.238331Z",
     "iopub.status.idle": "2022-12-04T06:40:30.241177Z",
     "shell.execute_reply": "2022-12-04T06:40:30.240540Z"
    },
    "lines_to_next_cell": 0,
    "papermill": {
     "duration": 0.011267,
     "end_time": "2022-12-04T06:40:30.242789",
     "exception": false,
     "start_time": "2022-12-04T06:40:30.231522",
     "status": "completed"
    },
    "tags": []
   },
   "outputs": [],
   "source": [
    "# ---"
   ]
  },
  {
   "cell_type": "code",
   "execution_count": null,
   "id": "7ece99b6",
   "metadata": {
    "papermill": {
     "duration": 0.006025,
     "end_time": "2022-12-04T06:40:30.254858",
     "exception": false,
     "start_time": "2022-12-04T06:40:30.248833",
     "status": "completed"
    },
    "tags": []
   },
   "outputs": [],
   "source": []
  }
 ],
 "metadata": {
  "jupytext": {
   "cell_metadata_filter": "tags,-all",
   "main_language": "python",
   "notebook_metadata_filter": "-all"
  },
  "language_info": {
   "codemirror_mode": {
    "name": "ipython",
    "version": 3
   },
   "file_extension": ".py",
   "mimetype": "text/x-python",
   "name": "python",
   "nbconvert_exporter": "python",
   "pygments_lexer": "ipython3",
   "version": "3.8.10"
  },
  "papermill": {
   "default_parameters": {},
   "duration": 9.086844,
   "end_time": "2022-12-04T06:40:31.283478",
   "environment_variables": {},
   "exception": null,
   "input_path": "/home/host_user/workspace/mnist-demo-pipeline/mnist-demo-pipeline/notebooks/temp-notebook-344ijv4k.ipynb",
   "output_path": "notebooks/benchmark-model.ipynb",
   "parameters": {
    "P": {
     "_opentelemetry_traceparent": "00-e032066985e551907c78306a67612527-35069caf030e51d2-01",
     "pipeline.data_lake_root": "/pipeline-outputs/data-lake",
     "pipeline.github.actor": "matiasdahl",
     "pipeline.github.base_ref": "",
     "pipeline.github.event_name": "schedule",
     "pipeline.github.head_ref": "",
     "pipeline.github.job": "run-tests-pipeline-and-persist-pipeline-outputs",
     "pipeline.github.ref": "refs/heads/development",
     "pipeline.github.ref_name": "development",
     "pipeline.github.ref_type": "branch",
     "pipeline.github.repository": "matiasdahl/dev-mnist-digits-demo-pipeline",
     "pipeline.github.run_id": "3612078946",
     "pipeline.github.runner_name": "Hosted Agent",
     "pipeline.github.sha": "ace0d01011d5e914f1921450dd5a59c11367b38d",
     "pipeline.github.workflow": "Run automated tests, pipeline and deploy results to static reporting site",
     "pipeline.pipeline_run_id": "52d57705-a8e1-4838-aeab-971e47144aea",
     "pipeline.run_environment": "ci",
     "run.retry_nr": "0",
     "task.max_nr_retries": "1",
     "task.notebook": "notebooks/benchmark-model.py",
     "task.nr_train_images": 800,
     "task.num_cpus": 1,
     "task.timeout_s": "None"
    }
   },
   "start_time": "2022-12-04T06:40:22.196634",
   "version": "2.3.3"
  }
 },
 "nbformat": 4,
 "nbformat_minor": 5
}