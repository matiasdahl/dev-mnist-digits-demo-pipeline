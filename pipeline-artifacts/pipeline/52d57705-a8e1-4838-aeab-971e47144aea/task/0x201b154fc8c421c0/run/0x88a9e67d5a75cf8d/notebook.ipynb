{
 "cells": [
  {
   "cell_type": "markdown",
   "id": "13c99cd3",
   "metadata": {
    "papermill": {
     "duration": 0.006448,
     "end_time": "2022-12-04T06:40:18.703861",
     "exception": false,
     "start_time": "2022-12-04T06:40:18.697413",
     "status": "completed"
    },
    "tags": []
   },
   "source": [
    "# Benchmark model\n",
    "\n",
    "The purpose of this notebook is to benchmark persisted onnx-model (trained in the\n",
    "previous step) against evaluation set."
   ]
  },
  {
   "cell_type": "markdown",
   "id": "4f2566dc",
   "metadata": {
    "papermill": {
     "duration": 0.00512,
     "end_time": "2022-12-04T06:40:18.713196",
     "exception": false,
     "start_time": "2022-12-04T06:40:18.708076",
     "status": "completed"
    },
    "tags": []
   },
   "source": [
    "### Determine run parameters"
   ]
  },
  {
   "cell_type": "code",
   "execution_count": 1,
   "id": "1f4060c1",
   "metadata": {
    "execution": {
     "iopub.execute_input": "2022-12-04T06:40:18.723776Z",
     "iopub.status.busy": "2022-12-04T06:40:18.723427Z",
     "iopub.status.idle": "2022-12-04T06:40:18.736183Z",
     "shell.execute_reply": "2022-12-04T06:40:18.730836Z"
    },
    "lines_to_next_cell": 0,
    "papermill": {
     "duration": 0.022596,
     "end_time": "2022-12-04T06:40:18.739890",
     "exception": false,
     "start_time": "2022-12-04T06:40:18.717294",
     "status": "completed"
    },
    "tags": []
   },
   "outputs": [],
   "source": [
    "# ----------------- Parameters for interactive development --------------\n",
    "P = {\n",
    "    \"pipeline.data_lake_root\": \"/pipeline-outputs/data-lake\",\n",
    "    \"task.nr_train_images\": 600,\n",
    "}"
   ]
  },
  {
   "cell_type": "code",
   "execution_count": 2,
   "id": "f6522190",
   "metadata": {
    "execution": {
     "iopub.execute_input": "2022-12-04T06:40:18.752249Z",
     "iopub.status.busy": "2022-12-04T06:40:18.751991Z",
     "iopub.status.idle": "2022-12-04T06:40:18.756415Z",
     "shell.execute_reply": "2022-12-04T06:40:18.755316Z"
    },
    "lines_to_next_cell": 0,
    "papermill": {
     "duration": 0.012115,
     "end_time": "2022-12-04T06:40:18.759005",
     "exception": false,
     "start_time": "2022-12-04T06:40:18.746890",
     "status": "completed"
    },
    "tags": [
     "parameters"
    ]
   },
   "outputs": [],
   "source": [
    "# - During automated runs parameters will be injected in the below cell -"
   ]
  },
  {
   "cell_type": "code",
   "execution_count": 3,
   "id": "19582349",
   "metadata": {
    "execution": {
     "iopub.execute_input": "2022-12-04T06:40:18.770043Z",
     "iopub.status.busy": "2022-12-04T06:40:18.769799Z",
     "iopub.status.idle": "2022-12-04T06:40:18.775200Z",
     "shell.execute_reply": "2022-12-04T06:40:18.774655Z"
    },
    "papermill": {
     "duration": 0.015428,
     "end_time": "2022-12-04T06:40:18.778552",
     "exception": false,
     "start_time": "2022-12-04T06:40:18.763124",
     "status": "completed"
    },
    "tags": [
     "injected-parameters"
    ]
   },
   "outputs": [],
   "source": [
    "# Parameters\n",
    "P = {\n",
    "    \"pipeline.data_lake_root\": \"/pipeline-outputs/data-lake\",\n",
    "    \"pipeline.run_environment\": \"ci\",\n",
    "    \"pipeline.pipeline_run_id\": \"52d57705-a8e1-4838-aeab-971e47144aea\",\n",
    "    \"pipeline.github.repository\": \"matiasdahl/dev-mnist-digits-demo-pipeline\",\n",
    "    \"pipeline.github.workflow\": \"Run automated tests, pipeline and deploy results to static reporting site\",\n",
    "    \"pipeline.github.runner_name\": \"Hosted Agent\",\n",
    "    \"pipeline.github.run_id\": \"3612078946\",\n",
    "    \"pipeline.github.actor\": \"matiasdahl\",\n",
    "    \"pipeline.github.job\": \"run-tests-pipeline-and-persist-pipeline-outputs\",\n",
    "    \"pipeline.github.base_ref\": \"\",\n",
    "    \"pipeline.github.head_ref\": \"\",\n",
    "    \"pipeline.github.sha\": \"ace0d01011d5e914f1921450dd5a59c11367b38d\",\n",
    "    \"pipeline.github.ref\": \"refs/heads/development\",\n",
    "    \"pipeline.github.ref_type\": \"branch\",\n",
    "    \"pipeline.github.ref_name\": \"development\",\n",
    "    \"pipeline.github.event_name\": \"schedule\",\n",
    "    \"task.nr_train_images\": 1000,\n",
    "    \"task.notebook\": \"notebooks/benchmark-model.py\",\n",
    "    \"task.max_nr_retries\": \"1\",\n",
    "    \"run.retry_nr\": \"0\",\n",
    "    \"task.timeout_s\": \"None\",\n",
    "    \"task.num_cpus\": 1,\n",
    "    \"_opentelemetry_traceparent\": \"00-e032066985e551907c78306a67612527-2959f708c80c9786-01\",\n",
    "}\n"
   ]
  },
  {
   "cell_type": "code",
   "execution_count": 4,
   "id": "93da2460",
   "metadata": {
    "execution": {
     "iopub.execute_input": "2022-12-04T06:40:18.789185Z",
     "iopub.status.busy": "2022-12-04T06:40:18.788933Z",
     "iopub.status.idle": "2022-12-04T06:40:18.791841Z",
     "shell.execute_reply": "2022-12-04T06:40:18.791329Z"
    },
    "lines_to_next_cell": 0,
    "papermill": {
     "duration": 0.012102,
     "end_time": "2022-12-04T06:40:18.795139",
     "exception": false,
     "start_time": "2022-12-04T06:40:18.783037",
     "status": "completed"
    },
    "tags": []
   },
   "outputs": [],
   "source": [
    "# -----------------------------------------------------------------------"
   ]
  },
  {
   "cell_type": "markdown",
   "id": "09fe410f",
   "metadata": {
    "papermill": {
     "duration": 0.005084,
     "end_time": "2022-12-04T06:40:18.805258",
     "exception": false,
     "start_time": "2022-12-04T06:40:18.800174",
     "status": "completed"
    },
    "tags": []
   },
   "source": [
    "---"
   ]
  },
  {
   "cell_type": "markdown",
   "id": "b0af1204",
   "metadata": {
    "lines_to_next_cell": 2,
    "papermill": {
     "duration": 0.004556,
     "end_time": "2022-12-04T06:40:18.814590",
     "exception": false,
     "start_time": "2022-12-04T06:40:18.810034",
     "status": "completed"
    },
    "tags": []
   },
   "source": [
    "### Notebook code"
   ]
  },
  {
   "cell_type": "code",
   "execution_count": 5,
   "id": "8378d3b9",
   "metadata": {
    "execution": {
     "iopub.execute_input": "2022-12-04T06:40:18.825027Z",
     "iopub.status.busy": "2022-12-04T06:40:18.824717Z",
     "iopub.status.idle": "2022-12-04T06:40:20.026522Z",
     "shell.execute_reply": "2022-12-04T06:40:20.025198Z"
    },
    "papermill": {
     "duration": 1.209549,
     "end_time": "2022-12-04T06:40:20.028853",
     "exception": false,
     "start_time": "2022-12-04T06:40:18.819304",
     "status": "completed"
    },
    "tags": []
   },
   "outputs": [
    {
     "name": "stderr",
     "output_type": "stream",
     "text": [
      "2022-12-04 06:40:19,873\tINFO worker.py:842 -- Connecting to existing Ray cluster at address: 172.17.0.2:6379\n"
     ]
    }
   ],
   "source": [
    "import itertools as it\n",
    "\n",
    "#\n",
    "import numpy as np\n",
    "import matplotlib.pyplot as plt\n",
    "\n",
    "#\n",
    "from pynb_dag_runner.tasks.task_opentelemetry_logging import PydarLogger\n",
    "\n",
    "#\n",
    "from common.io import datalake_root\n",
    "\n",
    "logger = PydarLogger(P)"
   ]
  },
  {
   "cell_type": "markdown",
   "id": "cf45a40d",
   "metadata": {
    "papermill": {
     "duration": 0.004551,
     "end_time": "2022-12-04T06:40:20.039272",
     "exception": false,
     "start_time": "2022-12-04T06:40:20.034721",
     "status": "completed"
    },
    "tags": []
   },
   "source": [
    "## Load persisted onnx-model and evaluation data"
   ]
  },
  {
   "cell_type": "code",
   "execution_count": 6,
   "id": "afc1a146",
   "metadata": {
    "execution": {
     "iopub.execute_input": "2022-12-04T06:40:20.049802Z",
     "iopub.status.busy": "2022-12-04T06:40:20.049337Z",
     "iopub.status.idle": "2022-12-04T06:40:20.056032Z",
     "shell.execute_reply": "2022-12-04T06:40:20.052634Z"
    },
    "papermill": {
     "duration": 0.014293,
     "end_time": "2022-12-04T06:40:20.058047",
     "exception": false,
     "start_time": "2022-12-04T06:40:20.043754",
     "status": "completed"
    },
    "tags": []
   },
   "outputs": [],
   "source": [
    "from common.io import read_onnx, get_onnx_inputs, get_onnx_outputs, read_numpy"
   ]
  },
  {
   "cell_type": "code",
   "execution_count": 7,
   "id": "c6cd839e",
   "metadata": {
    "execution": {
     "iopub.execute_input": "2022-12-04T06:40:20.068896Z",
     "iopub.status.busy": "2022-12-04T06:40:20.068522Z",
     "iopub.status.idle": "2022-12-04T06:40:20.081082Z",
     "shell.execute_reply": "2022-12-04T06:40:20.080383Z"
    },
    "lines_to_next_cell": 0,
    "papermill": {
     "duration": 0.020144,
     "end_time": "2022-12-04T06:40:20.082937",
     "exception": false,
     "start_time": "2022-12-04T06:40:20.062793",
     "status": "completed"
    },
    "tags": []
   },
   "outputs": [],
   "source": [
    "onnx_inference_session = read_onnx(\n",
    "    datalake_root(P)\n",
    "    / \"models\"\n",
    "    / f\"nr_train_images={P['task.nr_train_images']}\"\n",
    "    / \"model.onnx\"\n",
    ")"
   ]
  },
  {
   "cell_type": "markdown",
   "id": "e230a8b2",
   "metadata": {
    "papermill": {
     "duration": 0.004116,
     "end_time": "2022-12-04T06:40:20.092243",
     "exception": false,
     "start_time": "2022-12-04T06:40:20.088127",
     "status": "completed"
    },
    "tags": []
   },
   "source": [
    "### Record structure of inputs and outputs for ONNX model\n",
    "\n",
    "(this should likely be done in training notebook)"
   ]
  },
  {
   "cell_type": "code",
   "execution_count": 8,
   "id": "14e711dc",
   "metadata": {
    "execution": {
     "iopub.execute_input": "2022-12-04T06:40:20.104341Z",
     "iopub.status.busy": "2022-12-04T06:40:20.103430Z",
     "iopub.status.idle": "2022-12-04T06:40:20.112387Z",
     "shell.execute_reply": "2022-12-04T06:40:20.111598Z"
    },
    "papermill": {
     "duration": 0.017497,
     "end_time": "2022-12-04T06:40:20.114165",
     "exception": false,
     "start_time": "2022-12-04T06:40:20.096668",
     "status": "completed"
    },
    "tags": []
   },
   "outputs": [
    {
     "name": "stdout",
     "output_type": "stream",
     "text": [
      "{\n",
      "  \"inputs\": [\n",
      "    {\n",
      "      \"name\": \"float_input_8x8_image\",\n",
      "      \"shape\": [\n",
      "        null,\n",
      "        64\n",
      "      ],\n",
      "      \"type\": \"tensor(float)\"\n",
      "    }\n",
      "  ],\n",
      "  \"outputs\": [\n",
      "    {\n",
      "      \"name\": \"output_label\",\n",
      "      \"shape\": [\n",
      "        null\n",
      "      ],\n",
      "      \"type\": \"tensor(int64)\"\n",
      "    },\n",
      "    {\n",
      "      \"name\": \"output_probability\",\n",
      "      \"shape\": [],\n",
      "      \"type\": \"seq(map(int64,tensor(float)))\"\n",
      "    }\n",
      "  ]\n",
      "}\n"
     ]
    }
   ],
   "source": [
    "import json\n",
    "\n",
    "onnx_io = json.dumps(\n",
    "    {\n",
    "        \"inputs\": get_onnx_inputs(onnx_inference_session),\n",
    "        \"outputs\": get_onnx_outputs(onnx_inference_session),\n",
    "    },\n",
    "    indent=2,\n",
    ")\n",
    "\n",
    "\n",
    "logger.log_artefact(\"onnx_io_structure.json\", onnx_io)\n",
    "print(onnx_io)"
   ]
  },
  {
   "cell_type": "markdown",
   "id": "30a0b871",
   "metadata": {
    "papermill": {
     "duration": 0.004208,
     "end_time": "2022-12-04T06:40:20.123076",
     "exception": false,
     "start_time": "2022-12-04T06:40:20.118868",
     "status": "completed"
    },
    "tags": []
   },
   "source": [
    "### Evaluate model performance on evaluation data set"
   ]
  },
  {
   "cell_type": "code",
   "execution_count": 9,
   "id": "4248cb09",
   "metadata": {
    "execution": {
     "iopub.execute_input": "2022-12-04T06:40:20.133179Z",
     "iopub.status.busy": "2022-12-04T06:40:20.132718Z",
     "iopub.status.idle": "2022-12-04T06:40:20.138263Z",
     "shell.execute_reply": "2022-12-04T06:40:20.137369Z"
    },
    "papermill": {
     "duration": 0.012743,
     "end_time": "2022-12-04T06:40:20.140236",
     "exception": false,
     "start_time": "2022-12-04T06:40:20.127493",
     "status": "completed"
    },
    "tags": []
   },
   "outputs": [],
   "source": [
    "# load evaluation data\n",
    "X_test = read_numpy(datalake_root(P) / \"test-data\" / \"digits.numpy\")\n",
    "y_test = read_numpy(datalake_root(P) / \"test-data\" / \"labels.numpy\")"
   ]
  },
  {
   "cell_type": "code",
   "execution_count": 10,
   "id": "677a0148",
   "metadata": {
    "execution": {
     "iopub.execute_input": "2022-12-04T06:40:20.150873Z",
     "iopub.status.busy": "2022-12-04T06:40:20.150588Z",
     "iopub.status.idle": "2022-12-04T06:40:20.231442Z",
     "shell.execute_reply": "2022-12-04T06:40:20.230526Z"
    },
    "papermill": {
     "duration": 0.088651,
     "end_time": "2022-12-04T06:40:20.233376",
     "exception": false,
     "start_time": "2022-12-04T06:40:20.144725",
     "status": "completed"
    },
    "tags": []
   },
   "outputs": [],
   "source": [
    "def get_model_outputs(X, onnx_inference_session):\n",
    "    y_pred_labels, y_pred_map = onnx_inference_session.run(\n",
    "        [\"output_label\", \"output_probability\"],\n",
    "        {\"float_input_8x8_image\": X.astype(np.float32)},\n",
    "    )\n",
    "    y_pred_probs = np.array(\n",
    "        [[probabilities[digit] for digit in range(10)] for probabilities in y_pred_map]\n",
    "    )\n",
    "\n",
    "    assert y_pred_labels.shape == (X.shape[0],)\n",
    "    assert y_pred_probs.shape == (X.shape[0], 10)\n",
    "\n",
    "    return y_pred_labels, y_pred_probs\n",
    "\n",
    "\n",
    "# Note: as shown in the training notebook, the predicted labels and probabilities\n",
    "# computed below need not be compatible.\n",
    "y_pred_labels_test, y_pred_probs_test = get_model_outputs(\n",
    "    X_test, onnx_inference_session\n",
    ")"
   ]
  },
  {
   "cell_type": "markdown",
   "id": "09b32959",
   "metadata": {
    "papermill": {
     "duration": 0.004758,
     "end_time": "2022-12-04T06:40:20.243204",
     "exception": false,
     "start_time": "2022-12-04T06:40:20.238446",
     "status": "completed"
    },
    "tags": []
   },
   "source": [
    "### Confusion matrix"
   ]
  },
  {
   "cell_type": "code",
   "execution_count": 11,
   "id": "7f2cea9b",
   "metadata": {
    "execution": {
     "iopub.execute_input": "2022-12-04T06:40:20.253706Z",
     "iopub.status.busy": "2022-12-04T06:40:20.253319Z",
     "iopub.status.idle": "2022-12-04T06:40:20.256613Z",
     "shell.execute_reply": "2022-12-04T06:40:20.255933Z"
    },
    "papermill": {
     "duration": 0.010989,
     "end_time": "2022-12-04T06:40:20.258705",
     "exception": false,
     "start_time": "2022-12-04T06:40:20.247716",
     "status": "completed"
    },
    "tags": []
   },
   "outputs": [],
   "source": [
    "# TODO"
   ]
  },
  {
   "cell_type": "markdown",
   "id": "5e20df65",
   "metadata": {
    "papermill": {
     "duration": 0.004805,
     "end_time": "2022-12-04T06:40:20.268432",
     "exception": false,
     "start_time": "2022-12-04T06:40:20.263627",
     "status": "completed"
    },
    "tags": []
   },
   "source": [
    "### Plot predicted probabilities for each classifier over all evaluation digit images"
   ]
  },
  {
   "cell_type": "code",
   "execution_count": 12,
   "id": "cc839ec7",
   "metadata": {
    "execution": {
     "iopub.execute_input": "2022-12-04T06:40:20.279603Z",
     "iopub.status.busy": "2022-12-04T06:40:20.279319Z",
     "iopub.status.idle": "2022-12-04T06:40:23.466557Z",
     "shell.execute_reply": "2022-12-04T06:40:23.465883Z"
    },
    "papermill": {
     "duration": 3.195379,
     "end_time": "2022-12-04T06:40:23.468428",
     "exception": false,
     "start_time": "2022-12-04T06:40:20.273049",
     "status": "completed"
    },
    "tags": []
   },
   "outputs": [
    {
     "data": {
      "image/png": "[encoded data removed]",
      "text/plain": [
       "<Figure size 1600x600 with 10 Axes>"
      ]
     },
     "metadata": {},
     "output_type": "display_data"
    }
   ],
   "source": [
    "def plot_per_digit_probabilities(y_pred_probs):\n",
    "    fig, axs = plt.subplots(nrows=2, ncols=5, figsize=(16, 6))\n",
    "\n",
    "    for (r, c), digit, ax in zip(\n",
    "        it.product(range(2), range(5)), range(10), axs.reshape(-1)\n",
    "    ):\n",
    "        ax.hist(y_pred_probs_test[:, digit], bins=20)\n",
    "\n",
    "        ax.set_title(f\"Digit {digit}\")\n",
    "        if r == 1 and c == 2:\n",
    "            ax.set_xlabel(\"probability\", fontsize=16)\n",
    "\n",
    "        if c == 0:\n",
    "            ax.set_ylabel(\"counts\", fontsize=16)\n",
    "        ax.set_yscale(\"log\")\n",
    "\n",
    "    fig.tight_layout()\n",
    "    fig.suptitle(\n",
    "        f\"Distributions of prediction probabilities for each digit \"\n",
    "        f\"(on evaluation data, n={y_pred_probs.shape[0]})\",\n",
    "        fontsize=20,\n",
    "    )\n",
    "    fig.tight_layout()\n",
    "    fig.show()\n",
    "\n",
    "    return fig\n",
    "\n",
    "\n",
    "fig = plot_per_digit_probabilities(y_pred_probs_test)"
   ]
  },
  {
   "cell_type": "markdown",
   "id": "68ea5ff6",
   "metadata": {
    "papermill": {
     "duration": 0.005585,
     "end_time": "2022-12-04T06:40:23.479820",
     "exception": false,
     "start_time": "2022-12-04T06:40:23.474235",
     "status": "completed"
    },
    "tags": []
   },
   "source": [
    "From the above distributions we see that most digits have clear separation between\n",
    "high and lower probabilities. Morover, in each case there is roughly an order of\n",
    "magnitude more of digits with low probabilities. This is compatible with digits\n",
    "being roughly evenly distributed in the data."
   ]
  },
  {
   "cell_type": "code",
   "execution_count": 13,
   "id": "4d79bca5",
   "metadata": {
    "execution": {
     "iopub.execute_input": "2022-12-04T06:40:23.491015Z",
     "iopub.status.busy": "2022-12-04T06:40:23.490631Z",
     "iopub.status.idle": "2022-12-04T06:40:23.963785Z",
     "shell.execute_reply": "2022-12-04T06:40:23.962357Z"
    },
    "papermill": {
     "duration": 0.481129,
     "end_time": "2022-12-04T06:40:23.965747",
     "exception": false,
     "start_time": "2022-12-04T06:40:23.484618",
     "status": "completed"
    },
    "tags": []
   },
   "outputs": [],
   "source": [
    "logger.log_figure(\"per-digit-probabilities.png\", fig)"
   ]
  },
  {
   "cell_type": "markdown",
   "id": "0b88dda1",
   "metadata": {
    "papermill": {
     "duration": 0.004811,
     "end_time": "2022-12-04T06:40:23.978857",
     "exception": false,
     "start_time": "2022-12-04T06:40:23.974046",
     "status": "completed"
    },
    "tags": []
   },
   "source": [
    "### Plot ROC curves for individual one-vs-rest classifiers"
   ]
  },
  {
   "cell_type": "code",
   "execution_count": 14,
   "id": "11dc4fc4",
   "metadata": {
    "execution": {
     "iopub.execute_input": "2022-12-04T06:40:23.990566Z",
     "iopub.status.busy": "2022-12-04T06:40:23.990151Z",
     "iopub.status.idle": "2022-12-04T06:40:24.404078Z",
     "shell.execute_reply": "2022-12-04T06:40:24.403420Z"
    },
    "papermill": {
     "duration": 0.421674,
     "end_time": "2022-12-04T06:40:24.406049",
     "exception": false,
     "start_time": "2022-12-04T06:40:23.984375",
     "status": "completed"
    },
    "tags": []
   },
   "outputs": [],
   "source": [
    "from sklearn import metrics"
   ]
  },
  {
   "cell_type": "code",
   "execution_count": 15,
   "id": "ecc4a1d9",
   "metadata": {
    "execution": {
     "iopub.execute_input": "2022-12-04T06:40:24.418840Z",
     "iopub.status.busy": "2022-12-04T06:40:24.418580Z",
     "iopub.status.idle": "2022-12-04T06:40:25.594395Z",
     "shell.execute_reply": "2022-12-04T06:40:25.593839Z"
    },
    "papermill": {
     "duration": 1.183593,
     "end_time": "2022-12-04T06:40:25.596289",
     "exception": false,
     "start_time": "2022-12-04T06:40:24.412696",
     "status": "completed"
    },
    "tags": []
   },
   "outputs": [
    {
     "data": {
      "image/png": "[encoded data removed]",
      "text/plain": [
       "<Figure size 1600x800 with 10 Axes>"
      ]
     },
     "metadata": {},
     "output_type": "display_data"
    }
   ],
   "source": [
    "def plot_roc_curves(y, y_pred_probs):\n",
    "    # based on example code\n",
    "    # https://scikit-learn.org/stable/auto_examples/model_selection/plot_roc.html\n",
    "\n",
    "    fig, axs = plt.subplots(nrows=2, ncols=5, figsize=(16, 8))\n",
    "\n",
    "    roc_auc_dict = {}\n",
    "\n",
    "    for (r, c), digit, ax in zip(\n",
    "        it.product(range(2), range(5)), range(10), axs.reshape(-1)\n",
    "    ):\n",
    "        fpr, tpr, _ = metrics.roc_curve(y == digit, y_pred_probs[:, digit])\n",
    "        auc = metrics.auc(fpr, tpr)\n",
    "        roc_auc_dict[str(digit)] = auc\n",
    "\n",
    "        ax.plot(fpr, tpr, label=f\"ROC AUC={round(auc, 3)}\")\n",
    "\n",
    "        ax.set_title(f\"\\nDigit {digit}\", fontsize=16)\n",
    "        if r == 1:\n",
    "            ax.set_xlabel(\"FPR\", fontsize=18)\n",
    "\n",
    "        if c == 0:\n",
    "            ax.set_ylabel(\"TPR\", fontsize=18)\n",
    "\n",
    "        ax.set_xlim([-0.05, 1.05])\n",
    "        ax.set_ylim([-0.05, 1.05])\n",
    "        ax.legend(loc=\"lower right\", frameon=False, fontsize=14)\n",
    "\n",
    "    fig.tight_layout()\n",
    "    fig.suptitle(\n",
    "        f\"ROC plots for one-vs-rest performances \"\n",
    "        f\"(on evaluation data, n={y_pred_probs_test.shape[1]}\",\n",
    "        fontsize=22,\n",
    "    )\n",
    "    fig.tight_layout()\n",
    "    fig.show()\n",
    "\n",
    "    return roc_auc_dict, fig\n",
    "\n",
    "\n",
    "roc_auc_dict, fig = plot_roc_curves(y_test, y_pred_probs_test)"
   ]
  },
  {
   "cell_type": "code",
   "execution_count": 16,
   "id": "098e79f8",
   "metadata": {
    "execution": {
     "iopub.execute_input": "2022-12-04T06:40:25.610701Z",
     "iopub.status.busy": "2022-12-04T06:40:25.610356Z",
     "iopub.status.idle": "2022-12-04T06:40:25.896058Z",
     "shell.execute_reply": "2022-12-04T06:40:25.895441Z"
    },
    "papermill": {
     "duration": 0.294552,
     "end_time": "2022-12-04T06:40:25.897772",
     "exception": false,
     "start_time": "2022-12-04T06:40:25.603220",
     "status": "completed"
    },
    "tags": []
   },
   "outputs": [],
   "source": [
    "logger.log_figure(\"per-digit-roc-curves.png\", fig)"
   ]
  },
  {
   "cell_type": "code",
   "execution_count": 17,
   "id": "5ce6e2bf",
   "metadata": {
    "execution": {
     "iopub.execute_input": "2022-12-04T06:40:25.912132Z",
     "iopub.status.busy": "2022-12-04T06:40:25.911774Z",
     "iopub.status.idle": "2022-12-04T06:40:25.916346Z",
     "shell.execute_reply": "2022-12-04T06:40:25.915834Z"
    },
    "papermill": {
     "duration": 0.014507,
     "end_time": "2022-12-04T06:40:25.919105",
     "exception": false,
     "start_time": "2022-12-04T06:40:25.904598",
     "status": "completed"
    },
    "tags": []
   },
   "outputs": [
    {
     "data": {
      "text/plain": [
       "{'0': 1.0,\n",
       " '1': 0.998987816307404,\n",
       " '2': 1.0,\n",
       " '3': 0.9998125585754452,\n",
       " '4': 0.9996189605243103,\n",
       " '5': 0.9994001874414246,\n",
       " '6': 0.999923792104862,\n",
       " '7': 0.9997713763145862,\n",
       " '8': 0.9951134930643127,\n",
       " '9': 0.9995808565767413}"
      ]
     },
     "execution_count": 17,
     "metadata": {},
     "output_type": "execute_result"
    }
   ],
   "source": [
    "roc_auc_dict"
   ]
  },
  {
   "cell_type": "code",
   "execution_count": 18,
   "id": "65957ecd",
   "metadata": {
    "execution": {
     "iopub.execute_input": "2022-12-04T06:40:25.932880Z",
     "iopub.status.busy": "2022-12-04T06:40:25.932270Z",
     "iopub.status.idle": "2022-12-04T06:40:25.937132Z",
     "shell.execute_reply": "2022-12-04T06:40:25.936433Z"
    },
    "papermill": {
     "duration": 0.013531,
     "end_time": "2022-12-04T06:40:25.938828",
     "exception": false,
     "start_time": "2022-12-04T06:40:25.925297",
     "status": "completed"
    },
    "tags": []
   },
   "outputs": [
    {
     "name": "stdout",
     "output_type": "stream",
     "text": [
      " - Logging roc_auc_per_digit (json) : {'0': 1.0, '1': 0.998987816307404, '2': 1.0, '3': 0.9998125585754452, '4': 0.9996189605243103, '5': 0.9994001874414246, '6': 0.999923792104862, '7': 0.9997713763145862, '8': 0.9951134930643127, '9': 0.9995808565767413}\n"
     ]
    }
   ],
   "source": [
    "logger.log_value(\"roc_auc_per_digit\", roc_auc_dict)"
   ]
  },
  {
   "cell_type": "markdown",
   "id": "74c97d4e",
   "metadata": {
    "papermill": {
     "duration": 0.006226,
     "end_time": "2022-12-04T06:40:25.952384",
     "exception": false,
     "start_time": "2022-12-04T06:40:25.946158",
     "status": "completed"
    },
    "tags": []
   },
   "source": [
    "### Compute and log mean ROC AUC score averaged over all digits"
   ]
  },
  {
   "cell_type": "code",
   "execution_count": 19,
   "id": "da539c2d",
   "metadata": {
    "execution": {
     "iopub.execute_input": "2022-12-04T06:40:25.966475Z",
     "iopub.status.busy": "2022-12-04T06:40:25.965809Z",
     "iopub.status.idle": "2022-12-04T06:40:25.979924Z",
     "shell.execute_reply": "2022-12-04T06:40:25.979391Z"
    },
    "papermill": {
     "duration": 0.023051,
     "end_time": "2022-12-04T06:40:25.981661",
     "exception": false,
     "start_time": "2022-12-04T06:40:25.958610",
     "status": "completed"
    },
    "tags": []
   },
   "outputs": [
    {
     "name": "stdout",
     "output_type": "stream",
     "text": [
      " - Logging roc_auc_class_mean (float) : 0.9992209040909087\n"
     ]
    }
   ],
   "source": [
    "roc_auc_macro = np.mean(list(roc_auc_dict.values()))\n",
    "\n",
    "logger.log_float(\"roc_auc_class_mean\", roc_auc_macro)\n",
    "\n",
    "# assert that the same value can be computed directly using sklearn\n",
    "assert roc_auc_macro == metrics.roc_auc_score(\n",
    "    y_test, y_pred_probs_test, average=\"macro\", multi_class=\"ovr\"\n",
    ")"
   ]
  },
  {
   "cell_type": "code",
   "execution_count": 20,
   "id": "79138ad4",
   "metadata": {
    "execution": {
     "iopub.execute_input": "2022-12-04T06:40:25.995579Z",
     "iopub.status.busy": "2022-12-04T06:40:25.995350Z",
     "iopub.status.idle": "2022-12-04T06:40:25.998115Z",
     "shell.execute_reply": "2022-12-04T06:40:25.997534Z"
    },
    "lines_to_next_cell": 0,
    "papermill": {
     "duration": 0.012579,
     "end_time": "2022-12-04T06:40:26.000959",
     "exception": false,
     "start_time": "2022-12-04T06:40:25.988380",
     "status": "completed"
    },
    "tags": []
   },
   "outputs": [],
   "source": [
    "# ---"
   ]
  },
  {
   "cell_type": "code",
   "execution_count": null,
   "id": "13ac68af",
   "metadata": {
    "papermill": {
     "duration": 0.006345,
     "end_time": "2022-12-04T06:40:26.013805",
     "exception": false,
     "start_time": "2022-12-04T06:40:26.007460",
     "status": "completed"
    },
    "tags": []
   },
   "outputs": [],
   "source": []
  }
 ],
 "metadata": {
  "jupytext": {
   "cell_metadata_filter": "tags,-all",
   "main_language": "python",
   "notebook_metadata_filter": "-all"
  },
  "language_info": {
   "codemirror_mode": {
    "name": "ipython",
    "version": 3
   },
   "file_extension": ".py",
   "mimetype": "text/x-python",
   "name": "python",
   "nbconvert_exporter": "python",
   "pygments_lexer": "ipython3",
   "version": "3.8.10"
  },
  "papermill": {
   "default_parameters": {},
   "duration": 10.186406,
   "end_time": "2022-12-04T06:40:27.039646",
   "environment_variables": {},
   "exception": null,
   "input_path": "/home/host_user/workspace/mnist-demo-pipeline/mnist-demo-pipeline/notebooks/temp-notebook-hpnm0zgu.ipynb",
   "output_path": "notebooks/benchmark-model.ipynb",
   "parameters": {
    "P": {
     "_opentelemetry_traceparent": "00-e032066985e551907c78306a67612527-2959f708c80c9786-01",
     "pipeline.data_lake_root": "/pipeline-outputs/data-lake",
     "pipeline.github.actor": "matiasdahl",
     "pipeline.github.base_ref": "",
     "pipeline.github.event_name": "schedule",
     "pipeline.github.head_ref": "",
     "pipeline.github.job": "run-tests-pipeline-and-persist-pipeline-outputs",
     "pipeline.github.ref": "refs/heads/development",
     "pipeline.github.ref_name": "development",
     "pipeline.github.ref_type": "branch",
     "pipeline.github.repository": "matiasdahl/dev-mnist-digits-demo-pipeline",
     "pipeline.github.run_id": "3612078946",
     "pipeline.github.runner_name": "Hosted Agent",
     "pipeline.github.sha": "ace0d01011d5e914f1921450dd5a59c11367b38d",
     "pipeline.github.workflow": "Run automated tests, pipeline and deploy results to static reporting site",
     "pipeline.pipeline_run_id": "52d57705-a8e1-4838-aeab-971e47144aea",
     "pipeline.run_environment": "ci",
     "run.retry_nr": "0",
     "task.max_nr_retries": "1",
     "task.notebook": "notebooks/benchmark-model.py",
     "task.nr_train_images": 1000,
     "task.num_cpus": 1,
     "task.timeout_s": "None"
    }
   },
   "start_time": "2022-12-04T06:40:16.853240",
   "version": "2.3.3"
  }
 },
 "nbformat": 4,
 "nbformat_minor": 5
}