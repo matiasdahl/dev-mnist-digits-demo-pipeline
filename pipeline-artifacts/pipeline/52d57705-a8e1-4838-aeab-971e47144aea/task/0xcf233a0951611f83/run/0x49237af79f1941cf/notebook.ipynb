{
 "cells": [
  {
   "cell_type": "markdown",
   "id": "235057ea",
   "metadata": {
    "papermill": {
     "duration": 0.003411,
     "end_time": "2022-12-04T06:39:43.848906",
     "exception": false,
     "start_time": "2022-12-04T06:39:43.845495",
     "status": "completed"
    },
    "tags": []
   },
   "source": [
    "# Ingest toy version of MNIST digit data from sklearn"
   ]
  },
  {
   "cell_type": "markdown",
   "id": "cc704156",
   "metadata": {
    "papermill": {
     "duration": 0.002254,
     "end_time": "2022-12-04T06:39:43.854272",
     "exception": false,
     "start_time": "2022-12-04T06:39:43.852018",
     "status": "completed"
    },
    "tags": []
   },
   "source": [
    "### Determine run parameters"
   ]
  },
  {
   "cell_type": "code",
   "execution_count": 1,
   "id": "e2e18e6f",
   "metadata": {
    "execution": {
     "iopub.execute_input": "2022-12-04T06:39:43.860378Z",
     "iopub.status.busy": "2022-12-04T06:39:43.859947Z",
     "iopub.status.idle": "2022-12-04T06:39:43.867945Z",
     "shell.execute_reply": "2022-12-04T06:39:43.867302Z"
    },
    "lines_to_next_cell": 0,
    "papermill": {
     "duration": 0.013111,
     "end_time": "2022-12-04T06:39:43.869588",
     "exception": false,
     "start_time": "2022-12-04T06:39:43.856477",
     "status": "completed"
    },
    "tags": []
   },
   "outputs": [],
   "source": [
    "# ----------------- Parameters for interactive development --------------\n",
    "P = {\n",
    "    \"pipeline.run_environment\": \"dev\",\n",
    "    \"pipeline.data_lake_root\": \"/pipeline-outputs/data-lake\",\n",
    "    \"run.retry_nr\": \"1\",\n",
    "}"
   ]
  },
  {
   "cell_type": "code",
   "execution_count": 2,
   "id": "58f24243",
   "metadata": {
    "execution": {
     "iopub.execute_input": "2022-12-04T06:39:43.876693Z",
     "iopub.status.busy": "2022-12-04T06:39:43.876432Z",
     "iopub.status.idle": "2022-12-04T06:39:43.879752Z",
     "shell.execute_reply": "2022-12-04T06:39:43.879203Z"
    },
    "lines_to_next_cell": 0,
    "papermill": {
     "duration": 0.00877,
     "end_time": "2022-12-04T06:39:43.881225",
     "exception": false,
     "start_time": "2022-12-04T06:39:43.872455",
     "status": "completed"
    },
    "tags": [
     "parameters"
    ]
   },
   "outputs": [],
   "source": [
    "# - During automated runs parameters will be injected in the below cell -"
   ]
  },
  {
   "cell_type": "code",
   "execution_count": 3,
   "id": "6895fc64",
   "metadata": {
    "execution": {
     "iopub.execute_input": "2022-12-04T06:39:43.887718Z",
     "iopub.status.busy": "2022-12-04T06:39:43.886994Z",
     "iopub.status.idle": "2022-12-04T06:39:43.898773Z",
     "shell.execute_reply": "2022-12-04T06:39:43.898029Z"
    },
    "papermill": {
     "duration": 0.016869,
     "end_time": "2022-12-04T06:39:43.900535",
     "exception": false,
     "start_time": "2022-12-04T06:39:43.883666",
     "status": "completed"
    },
    "tags": [
     "injected-parameters"
    ]
   },
   "outputs": [],
   "source": [
    "# Parameters\n",
    "P = {\n",
    "    \"pipeline.data_lake_root\": \"/pipeline-outputs/data-lake\",\n",
    "    \"pipeline.run_environment\": \"ci\",\n",
    "    \"pipeline.pipeline_run_id\": \"52d57705-a8e1-4838-aeab-971e47144aea\",\n",
    "    \"pipeline.github.repository\": \"matiasdahl/dev-mnist-digits-demo-pipeline\",\n",
    "    \"pipeline.github.workflow\": \"Run automated tests, pipeline and deploy results to static reporting site\",\n",
    "    \"pipeline.github.runner_name\": \"Hosted Agent\",\n",
    "    \"pipeline.github.run_id\": \"3612078946\",\n",
    "    \"pipeline.github.actor\": \"matiasdahl\",\n",
    "    \"pipeline.github.job\": \"run-tests-pipeline-and-persist-pipeline-outputs\",\n",
    "    \"pipeline.github.base_ref\": \"\",\n",
    "    \"pipeline.github.head_ref\": \"\",\n",
    "    \"pipeline.github.sha\": \"ace0d01011d5e914f1921450dd5a59c11367b38d\",\n",
    "    \"pipeline.github.ref\": \"refs/heads/development\",\n",
    "    \"pipeline.github.ref_type\": \"branch\",\n",
    "    \"pipeline.github.ref_name\": \"development\",\n",
    "    \"pipeline.github.event_name\": \"schedule\",\n",
    "    \"task.notebook\": \"notebooks/ingest.py\",\n",
    "    \"task.max_nr_retries\": \"15\",\n",
    "    \"run.retry_nr\": \"10\",\n",
    "    \"task.timeout_s\": \"10\",\n",
    "    \"task.num_cpus\": 1,\n",
    "    \"_opentelemetry_traceparent\": \"00-e032066985e551907c78306a67612527-5afe47de115b2334-01\",\n",
    "}\n"
   ]
  },
  {
   "cell_type": "code",
   "execution_count": 4,
   "id": "dd8d148a",
   "metadata": {
    "execution": {
     "iopub.execute_input": "2022-12-04T06:39:43.907534Z",
     "iopub.status.busy": "2022-12-04T06:39:43.906851Z",
     "iopub.status.idle": "2022-12-04T06:39:43.910069Z",
     "shell.execute_reply": "2022-12-04T06:39:43.909435Z"
    },
    "lines_to_next_cell": 0,
    "papermill": {
     "duration": 0.008399,
     "end_time": "2022-12-04T06:39:43.911540",
     "exception": false,
     "start_time": "2022-12-04T06:39:43.903141",
     "status": "completed"
    },
    "tags": []
   },
   "outputs": [],
   "source": [
    "# -----------------------------------------------------------------------"
   ]
  },
  {
   "cell_type": "markdown",
   "id": "582a4439",
   "metadata": {
    "lines_to_next_cell": 2,
    "papermill": {
     "duration": 0.00247,
     "end_time": "2022-12-04T06:39:43.917005",
     "exception": false,
     "start_time": "2022-12-04T06:39:43.914535",
     "status": "completed"
    },
    "tags": []
   },
   "source": [
    "---"
   ]
  },
  {
   "cell_type": "markdown",
   "id": "5b7770e7",
   "metadata": {
    "papermill": {
     "duration": 0.002207,
     "end_time": "2022-12-04T06:39:43.921560",
     "exception": false,
     "start_time": "2022-12-04T06:39:43.919353",
     "status": "completed"
    },
    "tags": []
   },
   "source": [
    "### Simulate different types of failures (for testing timeout and retry logic)"
   ]
  },
  {
   "cell_type": "code",
   "execution_count": 5,
   "id": "89cce364",
   "metadata": {
    "execution": {
     "iopub.execute_input": "2022-12-04T06:39:43.927919Z",
     "iopub.status.busy": "2022-12-04T06:39:43.927509Z",
     "iopub.status.idle": "2022-12-04T06:39:44.357680Z",
     "shell.execute_reply": "2022-12-04T06:39:44.356737Z"
    },
    "papermill": {
     "duration": 0.435945,
     "end_time": "2022-12-04T06:39:44.359797",
     "exception": false,
     "start_time": "2022-12-04T06:39:43.923852",
     "status": "completed"
    },
    "tags": []
   },
   "outputs": [
    {
     "name": "stderr",
     "output_type": "stream",
     "text": [
      "2022-12-04 06:39:44,210\tINFO worker.py:842 -- Connecting to existing Ray cluster at address: 172.17.0.2:6379\n"
     ]
    }
   ],
   "source": [
    "from pynb_dag_runner.tasks.task_opentelemetry_logging import PydarLogger\n",
    "\n",
    "logger = PydarLogger(P)"
   ]
  },
  {
   "cell_type": "code",
   "execution_count": 6,
   "id": "8b0b0e28",
   "metadata": {
    "execution": {
     "iopub.execute_input": "2022-12-04T06:39:44.366434Z",
     "iopub.status.busy": "2022-12-04T06:39:44.366006Z",
     "iopub.status.idle": "2022-12-04T06:39:44.371202Z",
     "shell.execute_reply": "2022-12-04T06:39:44.370700Z"
    },
    "papermill": {
     "duration": 0.010038,
     "end_time": "2022-12-04T06:39:44.372623",
     "exception": false,
     "start_time": "2022-12-04T06:39:44.362585",
     "status": "completed"
    },
    "tags": []
   },
   "outputs": [],
   "source": [
    "import time, random\n",
    "\n",
    "\n",
    "def maybe_crash(retry_nr: int, run_environment: str):\n",
    "    if retry_nr == 2 and run_environment == \"ci\":\n",
    "        time.sleep(1e6)\n",
    "\n",
    "    max_retry_nr: int = 3 if run_environment == \"dev\" else 10\n",
    "\n",
    "    if retry_nr < max_retry_nr:\n",
    "        if random.random() < 0.1:\n",
    "            time.sleep(1e6)\n",
    "        else:\n",
    "            raise Exception(\"Simulated exception failure from ingestion step notebook!\")\n",
    "\n",
    "\n",
    "maybe_crash(\n",
    "    retry_nr=int(P[\"run.retry_nr\"]), run_environment=P[\"pipeline.run_environment\"]\n",
    ")"
   ]
  },
  {
   "cell_type": "markdown",
   "id": "bcfcd5e1",
   "metadata": {
    "lines_to_next_cell": 2,
    "papermill": {
     "duration": 0.002693,
     "end_time": "2022-12-04T06:39:44.377770",
     "exception": false,
     "start_time": "2022-12-04T06:39:44.375077",
     "status": "completed"
    },
    "tags": []
   },
   "source": [
    "### Notebook code"
   ]
  },
  {
   "cell_type": "code",
   "execution_count": 7,
   "id": "d4bb9533",
   "metadata": {
    "execution": {
     "iopub.execute_input": "2022-12-04T06:39:44.384141Z",
     "iopub.status.busy": "2022-12-04T06:39:44.383731Z",
     "iopub.status.idle": "2022-12-04T06:39:45.661530Z",
     "shell.execute_reply": "2022-12-04T06:39:45.660821Z"
    },
    "papermill": {
     "duration": 1.283113,
     "end_time": "2022-12-04T06:39:45.663586",
     "exception": false,
     "start_time": "2022-12-04T06:39:44.380473",
     "status": "completed"
    },
    "tags": []
   },
   "outputs": [],
   "source": [
    "from sklearn import datasets\n",
    "\n",
    "#\n",
    "from common.io import datalake_root, write_numpy"
   ]
  },
  {
   "cell_type": "code",
   "execution_count": 8,
   "id": "590cf451",
   "metadata": {
    "execution": {
     "iopub.execute_input": "2022-12-04T06:39:45.670651Z",
     "iopub.status.busy": "2022-12-04T06:39:45.670374Z",
     "iopub.status.idle": "2022-12-04T06:39:45.684920Z",
     "shell.execute_reply": "2022-12-04T06:39:45.684251Z"
    },
    "lines_to_next_cell": 2,
    "papermill": {
     "duration": 0.020202,
     "end_time": "2022-12-04T06:39:45.686633",
     "exception": false,
     "start_time": "2022-12-04T06:39:45.666431",
     "status": "completed"
    },
    "tags": []
   },
   "outputs": [],
   "source": [
    "digits = datasets.load_digits()\n",
    "\n",
    "X = digits[\"data\"]\n",
    "y = digits[\"target\"]"
   ]
  },
  {
   "cell_type": "code",
   "execution_count": 9,
   "id": "e77f80e4",
   "metadata": {
    "execution": {
     "iopub.execute_input": "2022-12-04T06:39:45.693154Z",
     "iopub.status.busy": "2022-12-04T06:39:45.692923Z",
     "iopub.status.idle": "2022-12-04T06:39:45.703951Z",
     "shell.execute_reply": "2022-12-04T06:39:45.703445Z"
    },
    "papermill": {
     "duration": 0.016021,
     "end_time": "2022-12-04T06:39:45.705299",
     "exception": false,
     "start_time": "2022-12-04T06:39:45.689278",
     "status": "completed"
    },
    "tags": []
   },
   "outputs": [
    {
     "name": "stdout",
     "output_type": "stream",
     "text": [
      " - Logging data_shape (json) : [1797, 64]\n",
      " - Logging target_shape (json) : [1797]\n"
     ]
    },
    {
     "data": {
      "text/plain": [
       "((1797, 64), (1797,))"
      ]
     },
     "execution_count": 9,
     "metadata": {},
     "output_type": "execute_result"
    }
   ],
   "source": [
    "logger.log_value(\"data_shape\", list(X.shape))\n",
    "logger.log_value(\"target_shape\", list(y.shape))\n",
    "\n",
    "X.shape, y.shape"
   ]
  },
  {
   "cell_type": "code",
   "execution_count": 10,
   "id": "749282cc",
   "metadata": {
    "execution": {
     "iopub.execute_input": "2022-12-04T06:39:45.714417Z",
     "iopub.status.busy": "2022-12-04T06:39:45.714020Z",
     "iopub.status.idle": "2022-12-04T06:39:45.722566Z",
     "shell.execute_reply": "2022-12-04T06:39:45.722043Z"
    },
    "papermill": {
     "duration": 0.015613,
     "end_time": "2022-12-04T06:39:45.724066",
     "exception": false,
     "start_time": "2022-12-04T06:39:45.708453",
     "status": "completed"
    },
    "tags": []
   },
   "outputs": [],
   "source": [
    "write_numpy(datalake_root(P) / \"raw\" / \"digits.numpy\", X)\n",
    "write_numpy(datalake_root(P) / \"raw\" / \"labels.numpy\", y)"
   ]
  },
  {
   "cell_type": "code",
   "execution_count": null,
   "id": "e2e4564c",
   "metadata": {
    "papermill": {
     "duration": 0.003683,
     "end_time": "2022-12-04T06:39:45.730918",
     "exception": false,
     "start_time": "2022-12-04T06:39:45.727235",
     "status": "completed"
    },
    "tags": []
   },
   "outputs": [],
   "source": []
  }
 ],
 "metadata": {
  "jupytext": {
   "cell_metadata_filter": "tags,-all",
   "main_language": "python",
   "notebook_metadata_filter": "-all"
  },
  "language_info": {
   "codemirror_mode": {
    "name": "ipython",
    "version": 3
   },
   "file_extension": ".py",
   "mimetype": "text/x-python",
   "name": "python",
   "nbconvert_exporter": "python",
   "pygments_lexer": "ipython3",
   "version": "3.8.10"
  },
  "papermill": {
   "default_parameters": {},
   "duration": 3.948515,
   "end_time": "2022-12-04T06:39:46.652814",
   "environment_variables": {},
   "exception": null,
   "input_path": "/home/host_user/workspace/mnist-demo-pipeline/mnist-demo-pipeline/notebooks/temp-notebook-c77hv9zk.ipynb",
   "output_path": "notebooks/ingest.ipynb",
   "parameters": {
    "P": {
     "_opentelemetry_traceparent": "00-e032066985e551907c78306a67612527-5afe47de115b2334-01",
     "pipeline.data_lake_root": "/pipeline-outputs/data-lake",
     "pipeline.github.actor": "matiasdahl",
     "pipeline.github.base_ref": "",
     "pipeline.github.event_name": "schedule",
     "pipeline.github.head_ref": "",
     "pipeline.github.job": "run-tests-pipeline-and-persist-pipeline-outputs",
     "pipeline.github.ref": "refs/heads/development",
     "pipeline.github.ref_name": "development",
     "pipeline.github.ref_type": "branch",
     "pipeline.github.repository": "matiasdahl/dev-mnist-digits-demo-pipeline",
     "pipeline.github.run_id": "3612078946",
     "pipeline.github.runner_name": "Hosted Agent",
     "pipeline.github.sha": "ace0d01011d5e914f1921450dd5a59c11367b38d",
     "pipeline.github.workflow": "Run automated tests, pipeline and deploy results to static reporting site",
     "pipeline.pipeline_run_id": "52d57705-a8e1-4838-aeab-971e47144aea",
     "pipeline.run_environment": "ci",
     "run.retry_nr": "10",
     "task.max_nr_retries": "15",
     "task.notebook": "notebooks/ingest.py",
     "task.num_cpus": 1,
     "task.timeout_s": "10"
    }
   },
   "start_time": "2022-12-04T06:39:42.704299",
   "version": "2.3.3"
  }
 },
 "nbformat": 4,
 "nbformat_minor": 5
}