{
 "cells": [
  {
   "cell_type": "markdown",
   "id": "11cad948",
   "metadata": {
    "papermill": {
     "duration": 0.016339,
     "end_time": "2022-12-04T06:39:49.226926",
     "exception": false,
     "start_time": "2022-12-04T06:39:49.210587",
     "status": "completed"
    },
    "tags": []
   },
   "source": [
    "# Split digits and labels into separate training and testing data sets"
   ]
  },
  {
   "cell_type": "markdown",
   "id": "6c320be0",
   "metadata": {
    "papermill": {
     "duration": 0.00224,
     "end_time": "2022-12-04T06:39:49.232695",
     "exception": false,
     "start_time": "2022-12-04T06:39:49.230455",
     "status": "completed"
    },
    "tags": []
   },
   "source": [
    "### Determine run parameters"
   ]
  },
  {
   "cell_type": "code",
   "execution_count": 1,
   "id": "0dcf2ee8",
   "metadata": {
    "execution": {
     "iopub.execute_input": "2022-12-04T06:39:49.238978Z",
     "iopub.status.busy": "2022-12-04T06:39:49.238655Z",
     "iopub.status.idle": "2022-12-04T06:39:49.246727Z",
     "shell.execute_reply": "2022-12-04T06:39:49.246136Z"
    },
    "lines_to_next_cell": 0,
    "papermill": {
     "duration": 0.013404,
     "end_time": "2022-12-04T06:39:49.248510",
     "exception": false,
     "start_time": "2022-12-04T06:39:49.235106",
     "status": "completed"
    },
    "tags": []
   },
   "outputs": [],
   "source": [
    "# ----------------- Parameters for interactive development --------------\n",
    "P = {\n",
    "    \"pipeline.data_lake_root\": \"/pipeline-outputs/data-lake\",\n",
    "    \"task.train_test_ratio\": 0.7,\n",
    "}"
   ]
  },
  {
   "cell_type": "code",
   "execution_count": 2,
   "id": "42ebc221",
   "metadata": {
    "execution": {
     "iopub.execute_input": "2022-12-04T06:39:49.254630Z",
     "iopub.status.busy": "2022-12-04T06:39:49.254140Z",
     "iopub.status.idle": "2022-12-04T06:39:49.257934Z",
     "shell.execute_reply": "2022-12-04T06:39:49.257349Z"
    },
    "lines_to_next_cell": 0,
    "papermill": {
     "duration": 0.008502,
     "end_time": "2022-12-04T06:39:49.259492",
     "exception": false,
     "start_time": "2022-12-04T06:39:49.250990",
     "status": "completed"
    },
    "tags": [
     "parameters"
    ]
   },
   "outputs": [],
   "source": [
    "# - During automated runs parameters will be injected in the below cell -"
   ]
  },
  {
   "cell_type": "code",
   "execution_count": 3,
   "id": "d4ed9219",
   "metadata": {
    "execution": {
     "iopub.execute_input": "2022-12-04T06:39:49.265344Z",
     "iopub.status.busy": "2022-12-04T06:39:49.265125Z",
     "iopub.status.idle": "2022-12-04T06:39:49.269643Z",
     "shell.execute_reply": "2022-12-04T06:39:49.269127Z"
    },
    "papermill": {
     "duration": 0.010456,
     "end_time": "2022-12-04T06:39:49.272441",
     "exception": false,
     "start_time": "2022-12-04T06:39:49.261985",
     "status": "completed"
    },
    "tags": [
     "injected-parameters"
    ]
   },
   "outputs": [],
   "source": [
    "# Parameters\n",
    "P = {\n",
    "    \"pipeline.data_lake_root\": \"/pipeline-outputs/data-lake\",\n",
    "    \"pipeline.run_environment\": \"ci\",\n",
    "    \"pipeline.pipeline_run_id\": \"52d57705-a8e1-4838-aeab-971e47144aea\",\n",
    "    \"pipeline.github.repository\": \"matiasdahl/dev-mnist-digits-demo-pipeline\",\n",
    "    \"pipeline.github.workflow\": \"Run automated tests, pipeline and deploy results to static reporting site\",\n",
    "    \"pipeline.github.runner_name\": \"Hosted Agent\",\n",
    "    \"pipeline.github.run_id\": \"3612078946\",\n",
    "    \"pipeline.github.actor\": \"matiasdahl\",\n",
    "    \"pipeline.github.job\": \"run-tests-pipeline-and-persist-pipeline-outputs\",\n",
    "    \"pipeline.github.base_ref\": \"\",\n",
    "    \"pipeline.github.head_ref\": \"\",\n",
    "    \"pipeline.github.sha\": \"ace0d01011d5e914f1921450dd5a59c11367b38d\",\n",
    "    \"pipeline.github.ref\": \"refs/heads/development\",\n",
    "    \"pipeline.github.ref_type\": \"branch\",\n",
    "    \"pipeline.github.ref_name\": \"development\",\n",
    "    \"pipeline.github.event_name\": \"schedule\",\n",
    "    \"task.train_test_ratio\": 0.7,\n",
    "    \"task.notebook\": \"notebooks/split-train-test.py\",\n",
    "    \"task.max_nr_retries\": \"1\",\n",
    "    \"run.retry_nr\": \"0\",\n",
    "    \"task.timeout_s\": \"None\",\n",
    "    \"task.num_cpus\": 1,\n",
    "    \"_opentelemetry_traceparent\": \"00-e032066985e551907c78306a67612527-81f2250288c3bf30-01\",\n",
    "}\n"
   ]
  },
  {
   "cell_type": "code",
   "execution_count": 4,
   "id": "c62a893d",
   "metadata": {
    "execution": {
     "iopub.execute_input": "2022-12-04T06:39:49.278086Z",
     "iopub.status.busy": "2022-12-04T06:39:49.277864Z",
     "iopub.status.idle": "2022-12-04T06:39:49.280893Z",
     "shell.execute_reply": "2022-12-04T06:39:49.280266Z"
    },
    "lines_to_next_cell": 0,
    "papermill": {
     "duration": 0.008657,
     "end_time": "2022-12-04T06:39:49.283438",
     "exception": false,
     "start_time": "2022-12-04T06:39:49.274781",
     "status": "completed"
    },
    "tags": []
   },
   "outputs": [],
   "source": [
    "# -----------------------------------------------------------------------"
   ]
  },
  {
   "cell_type": "markdown",
   "id": "9cab6170",
   "metadata": {
    "papermill": {
     "duration": 0.002329,
     "end_time": "2022-12-04T06:39:49.288022",
     "exception": false,
     "start_time": "2022-12-04T06:39:49.285693",
     "status": "completed"
    },
    "tags": []
   },
   "source": [
    "---"
   ]
  },
  {
   "cell_type": "markdown",
   "id": "aba15318",
   "metadata": {
    "lines_to_next_cell": 2,
    "papermill": {
     "duration": 0.002177,
     "end_time": "2022-12-04T06:39:49.292639",
     "exception": false,
     "start_time": "2022-12-04T06:39:49.290462",
     "status": "completed"
    },
    "tags": []
   },
   "source": [
    "### Notebook code"
   ]
  },
  {
   "cell_type": "code",
   "execution_count": 5,
   "id": "ceb7b046",
   "metadata": {
    "execution": {
     "iopub.execute_input": "2022-12-04T06:39:49.298901Z",
     "iopub.status.busy": "2022-12-04T06:39:49.298329Z",
     "iopub.status.idle": "2022-12-04T06:39:49.790008Z",
     "shell.execute_reply": "2022-12-04T06:39:49.789063Z"
    },
    "papermill": {
     "duration": 0.497443,
     "end_time": "2022-12-04T06:39:49.792496",
     "exception": false,
     "start_time": "2022-12-04T06:39:49.295053",
     "status": "completed"
    },
    "tags": []
   },
   "outputs": [
    {
     "name": "stderr",
     "output_type": "stream",
     "text": [
      "2022-12-04 06:39:49,627\tINFO worker.py:842 -- Connecting to existing Ray cluster at address: 172.17.0.2:6379\n"
     ]
    }
   ],
   "source": [
    "from common.io import datalake_root, read_numpy, write_numpy\n",
    "from pynb_dag_runner.tasks.task_opentelemetry_logging import PydarLogger\n",
    "\n",
    "logger = PydarLogger(P)"
   ]
  },
  {
   "cell_type": "markdown",
   "id": "cc3b8647",
   "metadata": {
    "papermill": {
     "duration": 0.002637,
     "end_time": "2022-12-04T06:39:49.798370",
     "exception": false,
     "start_time": "2022-12-04T06:39:49.795733",
     "status": "completed"
    },
    "tags": []
   },
   "source": [
    "## Load and split digits data"
   ]
  },
  {
   "cell_type": "code",
   "execution_count": 6,
   "id": "c57b458c",
   "metadata": {
    "execution": {
     "iopub.execute_input": "2022-12-04T06:39:49.805272Z",
     "iopub.status.busy": "2022-12-04T06:39:49.804883Z",
     "iopub.status.idle": "2022-12-04T06:39:49.810743Z",
     "shell.execute_reply": "2022-12-04T06:39:49.810017Z"
    },
    "papermill": {
     "duration": 0.012693,
     "end_time": "2022-12-04T06:39:49.813617",
     "exception": false,
     "start_time": "2022-12-04T06:39:49.800924",
     "status": "completed"
    },
    "tags": []
   },
   "outputs": [],
   "source": [
    "X = read_numpy(datalake_root(P) / \"raw\" / \"digits.numpy\")\n",
    "y = read_numpy(datalake_root(P) / \"raw\" / \"labels.numpy\")"
   ]
  },
  {
   "cell_type": "code",
   "execution_count": 7,
   "id": "0e20c27f",
   "metadata": {
    "execution": {
     "iopub.execute_input": "2022-12-04T06:39:49.820028Z",
     "iopub.status.busy": "2022-12-04T06:39:49.819796Z",
     "iopub.status.idle": "2022-12-04T06:39:50.245872Z",
     "shell.execute_reply": "2022-12-04T06:39:50.245263Z"
    },
    "papermill": {
     "duration": 0.431513,
     "end_time": "2022-12-04T06:39:50.247896",
     "exception": false,
     "start_time": "2022-12-04T06:39:49.816383",
     "status": "completed"
    },
    "tags": []
   },
   "outputs": [],
   "source": [
    "from sklearn.model_selection import train_test_split\n",
    "\n",
    "X_train, X_test, y_train, y_test = train_test_split(\n",
    "    X,\n",
    "    y,\n",
    "    train_size=P[\"task.train_test_ratio\"],\n",
    "    test_size=None,\n",
    "    stratify=y,\n",
    "    shuffle=True,\n",
    "    random_state=1,\n",
    ")\n",
    "\n",
    "# assert nr of pixels per image is the same for all image vectors\n",
    "assert X.shape[1] == X_train.shape[1] == X_test.shape[1]\n",
    "\n",
    "# assert that the (X, y)-pairs have compatible sizes (for both train and test)\n",
    "assert X_train.shape[0] == len(y_train)\n",
    "assert X_test.shape[0] == len(y_test)\n",
    "\n",
    "# assert that all data is used\n",
    "assert len(y) == len(y_train) + len(y_test)"
   ]
  },
  {
   "cell_type": "code",
   "execution_count": 8,
   "id": "631af25c",
   "metadata": {
    "execution": {
     "iopub.execute_input": "2022-12-04T06:39:50.255996Z",
     "iopub.status.busy": "2022-12-04T06:39:50.254692Z",
     "iopub.status.idle": "2022-12-04T06:39:50.262339Z",
     "shell.execute_reply": "2022-12-04T06:39:50.261800Z"
    },
    "papermill": {
     "duration": 0.013204,
     "end_time": "2022-12-04T06:39:50.263989",
     "exception": false,
     "start_time": "2022-12-04T06:39:50.250785",
     "status": "completed"
    },
    "tags": []
   },
   "outputs": [
    {
     "name": "stdout",
     "output_type": "stream",
     "text": [
      " - Logging nr_digits_train (int) : 1257\n",
      " - Logging nr_digits_test (int) : 540\n"
     ]
    }
   ],
   "source": [
    "logger.log_int(\"nr_digits_train\", len(y_train))\n",
    "logger.log_int(\"nr_digits_test\", len(y_test))"
   ]
  },
  {
   "cell_type": "markdown",
   "id": "faf81a18",
   "metadata": {
    "papermill": {
     "duration": 0.002994,
     "end_time": "2022-12-04T06:39:50.269551",
     "exception": false,
     "start_time": "2022-12-04T06:39:50.266557",
     "status": "completed"
    },
    "tags": []
   },
   "source": [
    "### Persist training and test data sets to separate files"
   ]
  },
  {
   "cell_type": "code",
   "execution_count": 9,
   "id": "f0da4baa",
   "metadata": {
    "execution": {
     "iopub.execute_input": "2022-12-04T06:39:50.275942Z",
     "iopub.status.busy": "2022-12-04T06:39:50.275693Z",
     "iopub.status.idle": "2022-12-04T06:39:50.281419Z",
     "shell.execute_reply": "2022-12-04T06:39:50.280713Z"
    },
    "papermill": {
     "duration": 0.01153,
     "end_time": "2022-12-04T06:39:50.283837",
     "exception": false,
     "start_time": "2022-12-04T06:39:50.272307",
     "status": "completed"
    },
    "tags": []
   },
   "outputs": [],
   "source": [
    "write_numpy(datalake_root(P) / \"train-data\" / \"digits.numpy\", X_train)\n",
    "write_numpy(datalake_root(P) / \"train-data\" / \"labels.numpy\", y_train)\n",
    "\n",
    "#\n",
    "write_numpy(datalake_root(P) / \"test-data\" / \"digits.numpy\", X_test)\n",
    "write_numpy(datalake_root(P) / \"test-data\" / \"labels.numpy\", y_test)"
   ]
  },
  {
   "cell_type": "code",
   "execution_count": null,
   "id": "f0d3d508",
   "metadata": {
    "papermill": {
     "duration": 0.002685,
     "end_time": "2022-12-04T06:39:50.289484",
     "exception": false,
     "start_time": "2022-12-04T06:39:50.286799",
     "status": "completed"
    },
    "tags": []
   },
   "outputs": [],
   "source": []
  }
 ],
 "metadata": {
  "jupytext": {
   "cell_metadata_filter": "tags,-all",
   "main_language": "python",
   "notebook_metadata_filter": "-all"
  },
  "language_info": {
   "codemirror_mode": {
    "name": "ipython",
    "version": 3
   },
   "file_extension": ".py",
   "mimetype": "text/x-python",
   "name": "python",
   "nbconvert_exporter": "python",
   "pygments_lexer": "ipython3",
   "version": "3.8.10"
  },
  "papermill": {
   "default_parameters": {},
   "duration": 3.255856,
   "end_time": "2022-12-04T06:39:51.217408",
   "environment_variables": {},
   "exception": null,
   "input_path": "/home/host_user/workspace/mnist-demo-pipeline/mnist-demo-pipeline/notebooks/temp-notebook-gicb9tbk.ipynb",
   "output_path": "notebooks/split-train-test.ipynb",
   "parameters": {
    "P": {
     "_opentelemetry_traceparent": "00-e032066985e551907c78306a67612527-81f2250288c3bf30-01",
     "pipeline.data_lake_root": "/pipeline-outputs/data-lake",
     "pipeline.github.actor": "matiasdahl",
     "pipeline.github.base_ref": "",
     "pipeline.github.event_name": "schedule",
     "pipeline.github.head_ref": "",
     "pipeline.github.job": "run-tests-pipeline-and-persist-pipeline-outputs",
     "pipeline.github.ref": "refs/heads/development",
     "pipeline.github.ref_name": "development",
     "pipeline.github.ref_type": "branch",
     "pipeline.github.repository": "matiasdahl/dev-mnist-digits-demo-pipeline",
     "pipeline.github.run_id": "3612078946",
     "pipeline.github.runner_name": "Hosted Agent",
     "pipeline.github.sha": "ace0d01011d5e914f1921450dd5a59c11367b38d",
     "pipeline.github.workflow": "Run automated tests, pipeline and deploy results to static reporting site",
     "pipeline.pipeline_run_id": "52d57705-a8e1-4838-aeab-971e47144aea",
     "pipeline.run_environment": "ci",
     "run.retry_nr": "0",
     "task.max_nr_retries": "1",
     "task.notebook": "notebooks/split-train-test.py",
     "task.num_cpus": 1,
     "task.timeout_s": "None",
     "task.train_test_ratio": 0.7
    }
   },
   "start_time": "2022-12-04T06:39:47.961552",
   "version": "2.3.3"
  }
 },
 "nbformat": 4,
 "nbformat_minor": 5
}