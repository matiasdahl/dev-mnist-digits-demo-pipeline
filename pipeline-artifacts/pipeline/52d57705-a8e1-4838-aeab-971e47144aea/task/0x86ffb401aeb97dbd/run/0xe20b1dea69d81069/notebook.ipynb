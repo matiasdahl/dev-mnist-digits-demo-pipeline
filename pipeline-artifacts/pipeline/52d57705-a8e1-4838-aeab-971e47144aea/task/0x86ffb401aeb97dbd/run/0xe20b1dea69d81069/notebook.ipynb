{
 "cells": [
  {
   "cell_type": "markdown",
   "id": "b528489a",
   "metadata": {
    "papermill": {
     "duration": 0.006278,
     "end_time": "2022-12-04T06:40:07.024310",
     "exception": false,
     "start_time": "2022-12-04T06:40:07.018032",
     "status": "completed"
    },
    "tags": []
   },
   "source": [
    "# Benchmark model\n",
    "\n",
    "The purpose of this notebook is to benchmark persisted onnx-model (trained in the\n",
    "previous step) against evaluation set."
   ]
  },
  {
   "cell_type": "markdown",
   "id": "56b7d850",
   "metadata": {
    "papermill": {
     "duration": 0.00448,
     "end_time": "2022-12-04T06:40:07.033553",
     "exception": false,
     "start_time": "2022-12-04T06:40:07.029073",
     "status": "completed"
    },
    "tags": []
   },
   "source": [
    "### Determine run parameters"
   ]
  },
  {
   "cell_type": "code",
   "execution_count": 1,
   "id": "b400af74",
   "metadata": {
    "execution": {
     "iopub.execute_input": "2022-12-04T06:40:07.044203Z",
     "iopub.status.busy": "2022-12-04T06:40:07.043382Z",
     "iopub.status.idle": "2022-12-04T06:40:07.051918Z",
     "shell.execute_reply": "2022-12-04T06:40:07.051351Z"
    },
    "lines_to_next_cell": 0,
    "papermill": {
     "duration": 0.016154,
     "end_time": "2022-12-04T06:40:07.054180",
     "exception": false,
     "start_time": "2022-12-04T06:40:07.038026",
     "status": "completed"
    },
    "tags": []
   },
   "outputs": [],
   "source": [
    "# ----------------- Parameters for interactive development --------------\n",
    "P = {\n",
    "    \"pipeline.data_lake_root\": \"/pipeline-outputs/data-lake\",\n",
    "    \"task.nr_train_images\": 600,\n",
    "}"
   ]
  },
  {
   "cell_type": "code",
   "execution_count": 2,
   "id": "22d77cc6",
   "metadata": {
    "execution": {
     "iopub.execute_input": "2022-12-04T06:40:07.064049Z",
     "iopub.status.busy": "2022-12-04T06:40:07.063813Z",
     "iopub.status.idle": "2022-12-04T06:40:07.067074Z",
     "shell.execute_reply": "2022-12-04T06:40:07.066325Z"
    },
    "lines_to_next_cell": 0,
    "papermill": {
     "duration": 0.011076,
     "end_time": "2022-12-04T06:40:07.070228",
     "exception": false,
     "start_time": "2022-12-04T06:40:07.059152",
     "status": "completed"
    },
    "tags": [
     "parameters"
    ]
   },
   "outputs": [],
   "source": [
    "# - During automated runs parameters will be injected in the below cell -"
   ]
  },
  {
   "cell_type": "code",
   "execution_count": 3,
   "id": "3b366316",
   "metadata": {
    "execution": {
     "iopub.execute_input": "2022-12-04T06:40:07.088230Z",
     "iopub.status.busy": "2022-12-04T06:40:07.087966Z",
     "iopub.status.idle": "2022-12-04T06:40:07.093459Z",
     "shell.execute_reply": "2022-12-04T06:40:07.092952Z"
    },
    "papermill": {
     "duration": 0.022298,
     "end_time": "2022-12-04T06:40:07.096376",
     "exception": false,
     "start_time": "2022-12-04T06:40:07.074078",
     "status": "completed"
    },
    "tags": [
     "injected-parameters"
    ]
   },
   "outputs": [],
   "source": [
    "# Parameters\n",
    "P = {\n",
    "    \"pipeline.data_lake_root\": \"/pipeline-outputs/data-lake\",\n",
    "    \"pipeline.run_environment\": \"ci\",\n",
    "    \"pipeline.pipeline_run_id\": \"52d57705-a8e1-4838-aeab-971e47144aea\",\n",
    "    \"pipeline.github.repository\": \"matiasdahl/dev-mnist-digits-demo-pipeline\",\n",
    "    \"pipeline.github.workflow\": \"Run automated tests, pipeline and deploy results to static reporting site\",\n",
    "    \"pipeline.github.runner_name\": \"Hosted Agent\",\n",
    "    \"pipeline.github.run_id\": \"3612078946\",\n",
    "    \"pipeline.github.actor\": \"matiasdahl\",\n",
    "    \"pipeline.github.job\": \"run-tests-pipeline-and-persist-pipeline-outputs\",\n",
    "    \"pipeline.github.base_ref\": \"\",\n",
    "    \"pipeline.github.head_ref\": \"\",\n",
    "    \"pipeline.github.sha\": \"ace0d01011d5e914f1921450dd5a59c11367b38d\",\n",
    "    \"pipeline.github.ref\": \"refs/heads/development\",\n",
    "    \"pipeline.github.ref_type\": \"branch\",\n",
    "    \"pipeline.github.ref_name\": \"development\",\n",
    "    \"pipeline.github.event_name\": \"schedule\",\n",
    "    \"task.nr_train_images\": 1200,\n",
    "    \"task.notebook\": \"notebooks/benchmark-model.py\",\n",
    "    \"task.max_nr_retries\": \"1\",\n",
    "    \"run.retry_nr\": \"0\",\n",
    "    \"task.timeout_s\": \"None\",\n",
    "    \"task.num_cpus\": 1,\n",
    "    \"_opentelemetry_traceparent\": \"00-e032066985e551907c78306a67612527-f92b3350726a012f-01\",\n",
    "}\n"
   ]
  },
  {
   "cell_type": "code",
   "execution_count": 4,
   "id": "737663bc",
   "metadata": {
    "execution": {
     "iopub.execute_input": "2022-12-04T06:40:07.106180Z",
     "iopub.status.busy": "2022-12-04T06:40:07.105920Z",
     "iopub.status.idle": "2022-12-04T06:40:07.108990Z",
     "shell.execute_reply": "2022-12-04T06:40:07.108484Z"
    },
    "lines_to_next_cell": 0,
    "papermill": {
     "duration": 0.011049,
     "end_time": "2022-12-04T06:40:07.111927",
     "exception": false,
     "start_time": "2022-12-04T06:40:07.100878",
     "status": "completed"
    },
    "tags": []
   },
   "outputs": [],
   "source": [
    "# -----------------------------------------------------------------------"
   ]
  },
  {
   "cell_type": "markdown",
   "id": "99145c87",
   "metadata": {
    "papermill": {
     "duration": 0.003832,
     "end_time": "2022-12-04T06:40:07.119818",
     "exception": false,
     "start_time": "2022-12-04T06:40:07.115986",
     "status": "completed"
    },
    "tags": []
   },
   "source": [
    "---"
   ]
  },
  {
   "cell_type": "markdown",
   "id": "15fa2565",
   "metadata": {
    "lines_to_next_cell": 2,
    "papermill": {
     "duration": 0.006901,
     "end_time": "2022-12-04T06:40:07.135677",
     "exception": false,
     "start_time": "2022-12-04T06:40:07.128776",
     "status": "completed"
    },
    "tags": []
   },
   "source": [
    "### Notebook code"
   ]
  },
  {
   "cell_type": "code",
   "execution_count": 5,
   "id": "944383f5",
   "metadata": {
    "execution": {
     "iopub.execute_input": "2022-12-04T06:40:07.145579Z",
     "iopub.status.busy": "2022-12-04T06:40:07.145353Z",
     "iopub.status.idle": "2022-12-04T06:40:08.567227Z",
     "shell.execute_reply": "2022-12-04T06:40:08.566387Z"
    },
    "papermill": {
     "duration": 1.429348,
     "end_time": "2022-12-04T06:40:08.568982",
     "exception": false,
     "start_time": "2022-12-04T06:40:07.139634",
     "status": "completed"
    },
    "tags": []
   },
   "outputs": [
    {
     "name": "stderr",
     "output_type": "stream",
     "text": [
      "2022-12-04 06:40:08,411\tINFO worker.py:842 -- Connecting to existing Ray cluster at address: 172.17.0.2:6379\n"
     ]
    }
   ],
   "source": [
    "import itertools as it\n",
    "\n",
    "#\n",
    "import numpy as np\n",
    "import matplotlib.pyplot as plt\n",
    "\n",
    "#\n",
    "from pynb_dag_runner.tasks.task_opentelemetry_logging import PydarLogger\n",
    "\n",
    "#\n",
    "from common.io import datalake_root\n",
    "\n",
    "logger = PydarLogger(P)"
   ]
  },
  {
   "cell_type": "markdown",
   "id": "7d7a5bb7",
   "metadata": {
    "papermill": {
     "duration": 0.004359,
     "end_time": "2022-12-04T06:40:08.580496",
     "exception": false,
     "start_time": "2022-12-04T06:40:08.576137",
     "status": "completed"
    },
    "tags": []
   },
   "source": [
    "## Load persisted onnx-model and evaluation data"
   ]
  },
  {
   "cell_type": "code",
   "execution_count": 6,
   "id": "3daadfb3",
   "metadata": {
    "execution": {
     "iopub.execute_input": "2022-12-04T06:40:08.591287Z",
     "iopub.status.busy": "2022-12-04T06:40:08.590456Z",
     "iopub.status.idle": "2022-12-04T06:40:08.594042Z",
     "shell.execute_reply": "2022-12-04T06:40:08.593531Z"
    },
    "papermill": {
     "duration": 0.010115,
     "end_time": "2022-12-04T06:40:08.595551",
     "exception": false,
     "start_time": "2022-12-04T06:40:08.585436",
     "status": "completed"
    },
    "tags": []
   },
   "outputs": [],
   "source": [
    "from common.io import read_onnx, get_onnx_inputs, get_onnx_outputs, read_numpy"
   ]
  },
  {
   "cell_type": "code",
   "execution_count": 7,
   "id": "a53c0833",
   "metadata": {
    "execution": {
     "iopub.execute_input": "2022-12-04T06:40:08.605551Z",
     "iopub.status.busy": "2022-12-04T06:40:08.604806Z",
     "iopub.status.idle": "2022-12-04T06:40:08.614256Z",
     "shell.execute_reply": "2022-12-04T06:40:08.613780Z"
    },
    "lines_to_next_cell": 0,
    "papermill": {
     "duration": 0.016213,
     "end_time": "2022-12-04T06:40:08.615796",
     "exception": false,
     "start_time": "2022-12-04T06:40:08.599583",
     "status": "completed"
    },
    "tags": []
   },
   "outputs": [],
   "source": [
    "onnx_inference_session = read_onnx(\n",
    "    datalake_root(P)\n",
    "    / \"models\"\n",
    "    / f\"nr_train_images={P['task.nr_train_images']}\"\n",
    "    / \"model.onnx\"\n",
    ")"
   ]
  },
  {
   "cell_type": "markdown",
   "id": "5d56c023",
   "metadata": {
    "papermill": {
     "duration": 0.004074,
     "end_time": "2022-12-04T06:40:08.624115",
     "exception": false,
     "start_time": "2022-12-04T06:40:08.620041",
     "status": "completed"
    },
    "tags": []
   },
   "source": [
    "### Record structure of inputs and outputs for ONNX model\n",
    "\n",
    "(this should likely be done in training notebook)"
   ]
  },
  {
   "cell_type": "code",
   "execution_count": 8,
   "id": "e767049d",
   "metadata": {
    "execution": {
     "iopub.execute_input": "2022-12-04T06:40:08.633750Z",
     "iopub.status.busy": "2022-12-04T06:40:08.633383Z",
     "iopub.status.idle": "2022-12-04T06:40:08.639246Z",
     "shell.execute_reply": "2022-12-04T06:40:08.638737Z"
    },
    "papermill": {
     "duration": 0.012491,
     "end_time": "2022-12-04T06:40:08.640712",
     "exception": false,
     "start_time": "2022-12-04T06:40:08.628221",
     "status": "completed"
    },
    "tags": []
   },
   "outputs": [
    {
     "name": "stdout",
     "output_type": "stream",
     "text": [
      "{\n",
      "  \"inputs\": [\n",
      "    {\n",
      "      \"name\": \"float_input_8x8_image\",\n",
      "      \"shape\": [\n",
      "        null,\n",
      "        64\n",
      "      ],\n",
      "      \"type\": \"tensor(float)\"\n",
      "    }\n",
      "  ],\n",
      "  \"outputs\": [\n",
      "    {\n",
      "      \"name\": \"output_label\",\n",
      "      \"shape\": [\n",
      "        null\n",
      "      ],\n",
      "      \"type\": \"tensor(int64)\"\n",
      "    },\n",
      "    {\n",
      "      \"name\": \"output_probability\",\n",
      "      \"shape\": [],\n",
      "      \"type\": \"seq(map(int64,tensor(float)))\"\n",
      "    }\n",
      "  ]\n",
      "}\n"
     ]
    }
   ],
   "source": [
    "import json\n",
    "\n",
    "onnx_io = json.dumps(\n",
    "    {\n",
    "        \"inputs\": get_onnx_inputs(onnx_inference_session),\n",
    "        \"outputs\": get_onnx_outputs(onnx_inference_session),\n",
    "    },\n",
    "    indent=2,\n",
    ")\n",
    "\n",
    "\n",
    "logger.log_artefact(\"onnx_io_structure.json\", onnx_io)\n",
    "print(onnx_io)"
   ]
  },
  {
   "cell_type": "markdown",
   "id": "796480a1",
   "metadata": {
    "papermill": {
     "duration": 0.004155,
     "end_time": "2022-12-04T06:40:08.649049",
     "exception": false,
     "start_time": "2022-12-04T06:40:08.644894",
     "status": "completed"
    },
    "tags": []
   },
   "source": [
    "### Evaluate model performance on evaluation data set"
   ]
  },
  {
   "cell_type": "code",
   "execution_count": 9,
   "id": "b2e63be0",
   "metadata": {
    "execution": {
     "iopub.execute_input": "2022-12-04T06:40:08.659190Z",
     "iopub.status.busy": "2022-12-04T06:40:08.658736Z",
     "iopub.status.idle": "2022-12-04T06:40:08.663190Z",
     "shell.execute_reply": "2022-12-04T06:40:08.662655Z"
    },
    "papermill": {
     "duration": 0.011185,
     "end_time": "2022-12-04T06:40:08.664575",
     "exception": false,
     "start_time": "2022-12-04T06:40:08.653390",
     "status": "completed"
    },
    "tags": []
   },
   "outputs": [],
   "source": [
    "# load evaluation data\n",
    "X_test = read_numpy(datalake_root(P) / \"test-data\" / \"digits.numpy\")\n",
    "y_test = read_numpy(datalake_root(P) / \"test-data\" / \"labels.numpy\")"
   ]
  },
  {
   "cell_type": "code",
   "execution_count": 10,
   "id": "5ced35d7",
   "metadata": {
    "execution": {
     "iopub.execute_input": "2022-12-04T06:40:08.674396Z",
     "iopub.status.busy": "2022-12-04T06:40:08.674005Z",
     "iopub.status.idle": "2022-12-04T06:40:08.735745Z",
     "shell.execute_reply": "2022-12-04T06:40:08.735067Z"
    },
    "papermill": {
     "duration": 0.068687,
     "end_time": "2022-12-04T06:40:08.737494",
     "exception": false,
     "start_time": "2022-12-04T06:40:08.668807",
     "status": "completed"
    },
    "tags": []
   },
   "outputs": [],
   "source": [
    "def get_model_outputs(X, onnx_inference_session):\n",
    "    y_pred_labels, y_pred_map = onnx_inference_session.run(\n",
    "        [\"output_label\", \"output_probability\"],\n",
    "        {\"float_input_8x8_image\": X.astype(np.float32)},\n",
    "    )\n",
    "    y_pred_probs = np.array(\n",
    "        [[probabilities[digit] for digit in range(10)] for probabilities in y_pred_map]\n",
    "    )\n",
    "\n",
    "    assert y_pred_labels.shape == (X.shape[0],)\n",
    "    assert y_pred_probs.shape == (X.shape[0], 10)\n",
    "\n",
    "    return y_pred_labels, y_pred_probs\n",
    "\n",
    "\n",
    "# Note: as shown in the training notebook, the predicted labels and probabilities\n",
    "# computed below need not be compatible.\n",
    "y_pred_labels_test, y_pred_probs_test = get_model_outputs(\n",
    "    X_test, onnx_inference_session\n",
    ")"
   ]
  },
  {
   "cell_type": "markdown",
   "id": "be02bb55",
   "metadata": {
    "papermill": {
     "duration": 0.004128,
     "end_time": "2022-12-04T06:40:08.746016",
     "exception": false,
     "start_time": "2022-12-04T06:40:08.741888",
     "status": "completed"
    },
    "tags": []
   },
   "source": [
    "### Confusion matrix"
   ]
  },
  {
   "cell_type": "code",
   "execution_count": 11,
   "id": "b2657e2f",
   "metadata": {
    "execution": {
     "iopub.execute_input": "2022-12-04T06:40:08.756427Z",
     "iopub.status.busy": "2022-12-04T06:40:08.756172Z",
     "iopub.status.idle": "2022-12-04T06:40:08.759529Z",
     "shell.execute_reply": "2022-12-04T06:40:08.758706Z"
    },
    "papermill": {
     "duration": 0.010269,
     "end_time": "2022-12-04T06:40:08.761052",
     "exception": false,
     "start_time": "2022-12-04T06:40:08.750783",
     "status": "completed"
    },
    "tags": []
   },
   "outputs": [],
   "source": [
    "# TODO"
   ]
  },
  {
   "cell_type": "markdown",
   "id": "d0b27e76",
   "metadata": {
    "papermill": {
     "duration": 0.003925,
     "end_time": "2022-12-04T06:40:08.769159",
     "exception": false,
     "start_time": "2022-12-04T06:40:08.765234",
     "status": "completed"
    },
    "tags": []
   },
   "source": [
    "### Plot predicted probabilities for each classifier over all evaluation digit images"
   ]
  },
  {
   "cell_type": "code",
   "execution_count": 12,
   "id": "d02236a7",
   "metadata": {
    "execution": {
     "iopub.execute_input": "2022-12-04T06:40:08.778749Z",
     "iopub.status.busy": "2022-12-04T06:40:08.778098Z",
     "iopub.status.idle": "2022-12-04T06:40:11.765843Z",
     "shell.execute_reply": "2022-12-04T06:40:11.764754Z"
    },
    "papermill": {
     "duration": 2.994421,
     "end_time": "2022-12-04T06:40:11.767604",
     "exception": false,
     "start_time": "2022-12-04T06:40:08.773183",
     "status": "completed"
    },
    "tags": []
   },
   "outputs": [
    {
     "data": {
      "image/png": "[encoded data removed]",
      "text/plain": [
       "<Figure size 1600x600 with 10 Axes>"
      ]
     },
     "metadata": {},
     "output_type": "display_data"
    }
   ],
   "source": [
    "def plot_per_digit_probabilities(y_pred_probs):\n",
    "    fig, axs = plt.subplots(nrows=2, ncols=5, figsize=(16, 6))\n",
    "\n",
    "    for (r, c), digit, ax in zip(\n",
    "        it.product(range(2), range(5)), range(10), axs.reshape(-1)\n",
    "    ):\n",
    "        ax.hist(y_pred_probs_test[:, digit], bins=20)\n",
    "\n",
    "        ax.set_title(f\"Digit {digit}\")\n",
    "        if r == 1 and c == 2:\n",
    "            ax.set_xlabel(\"probability\", fontsize=16)\n",
    "\n",
    "        if c == 0:\n",
    "            ax.set_ylabel(\"counts\", fontsize=16)\n",
    "        ax.set_yscale(\"log\")\n",
    "\n",
    "    fig.tight_layout()\n",
    "    fig.suptitle(\n",
    "        f\"Distributions of prediction probabilities for each digit \"\n",
    "        f\"(on evaluation data, n={y_pred_probs.shape[0]})\",\n",
    "        fontsize=20,\n",
    "    )\n",
    "    fig.tight_layout()\n",
    "    fig.show()\n",
    "\n",
    "    return fig\n",
    "\n",
    "\n",
    "fig = plot_per_digit_probabilities(y_pred_probs_test)"
   ]
  },
  {
   "cell_type": "markdown",
   "id": "bf7a6a13",
   "metadata": {
    "papermill": {
     "duration": 0.005283,
     "end_time": "2022-12-04T06:40:11.778422",
     "exception": false,
     "start_time": "2022-12-04T06:40:11.773139",
     "status": "completed"
    },
    "tags": []
   },
   "source": [
    "From the above distributions we see that most digits have clear separation between\n",
    "high and lower probabilities. Morover, in each case there is roughly an order of\n",
    "magnitude more of digits with low probabilities. This is compatible with digits\n",
    "being roughly evenly distributed in the data."
   ]
  },
  {
   "cell_type": "code",
   "execution_count": 13,
   "id": "4ddf8120",
   "metadata": {
    "execution": {
     "iopub.execute_input": "2022-12-04T06:40:11.790096Z",
     "iopub.status.busy": "2022-12-04T06:40:11.789726Z",
     "iopub.status.idle": "2022-12-04T06:40:12.238523Z",
     "shell.execute_reply": "2022-12-04T06:40:12.237787Z"
    },
    "papermill": {
     "duration": 0.456642,
     "end_time": "2022-12-04T06:40:12.240278",
     "exception": false,
     "start_time": "2022-12-04T06:40:11.783636",
     "status": "completed"
    },
    "tags": []
   },
   "outputs": [],
   "source": [
    "logger.log_figure(\"per-digit-probabilities.png\", fig)"
   ]
  },
  {
   "cell_type": "markdown",
   "id": "89be9b84",
   "metadata": {
    "papermill": {
     "duration": 0.005931,
     "end_time": "2022-12-04T06:40:12.252735",
     "exception": false,
     "start_time": "2022-12-04T06:40:12.246804",
     "status": "completed"
    },
    "tags": []
   },
   "source": [
    "### Plot ROC curves for individual one-vs-rest classifiers"
   ]
  },
  {
   "cell_type": "code",
   "execution_count": 14,
   "id": "f49ef067",
   "metadata": {
    "execution": {
     "iopub.execute_input": "2022-12-04T06:40:12.271181Z",
     "iopub.status.busy": "2022-12-04T06:40:12.270813Z",
     "iopub.status.idle": "2022-12-04T06:40:12.726852Z",
     "shell.execute_reply": "2022-12-04T06:40:12.726169Z"
    },
    "papermill": {
     "duration": 0.471639,
     "end_time": "2022-12-04T06:40:12.729704",
     "exception": false,
     "start_time": "2022-12-04T06:40:12.258065",
     "status": "completed"
    },
    "tags": []
   },
   "outputs": [],
   "source": [
    "from sklearn import metrics"
   ]
  },
  {
   "cell_type": "code",
   "execution_count": 15,
   "id": "b07c8be3",
   "metadata": {
    "execution": {
     "iopub.execute_input": "2022-12-04T06:40:12.742574Z",
     "iopub.status.busy": "2022-12-04T06:40:12.742287Z",
     "iopub.status.idle": "2022-12-04T06:40:13.961151Z",
     "shell.execute_reply": "2022-12-04T06:40:13.960579Z"
    },
    "papermill": {
     "duration": 1.227884,
     "end_time": "2022-12-04T06:40:13.963251",
     "exception": false,
     "start_time": "2022-12-04T06:40:12.735367",
     "status": "completed"
    },
    "tags": []
   },
   "outputs": [
    {
     "data": {
      "image/png": "[encoded data removed]",
      "text/plain": [
       "<Figure size 1600x800 with 10 Axes>"
      ]
     },
     "metadata": {},
     "output_type": "display_data"
    }
   ],
   "source": [
    "def plot_roc_curves(y, y_pred_probs):\n",
    "    # based on example code\n",
    "    # https://scikit-learn.org/stable/auto_examples/model_selection/plot_roc.html\n",
    "\n",
    "    fig, axs = plt.subplots(nrows=2, ncols=5, figsize=(16, 8))\n",
    "\n",
    "    roc_auc_dict = {}\n",
    "\n",
    "    for (r, c), digit, ax in zip(\n",
    "        it.product(range(2), range(5)), range(10), axs.reshape(-1)\n",
    "    ):\n",
    "        fpr, tpr, _ = metrics.roc_curve(y == digit, y_pred_probs[:, digit])\n",
    "        auc = metrics.auc(fpr, tpr)\n",
    "        roc_auc_dict[str(digit)] = auc\n",
    "\n",
    "        ax.plot(fpr, tpr, label=f\"ROC AUC={round(auc, 3)}\")\n",
    "\n",
    "        ax.set_title(f\"\\nDigit {digit}\", fontsize=16)\n",
    "        if r == 1:\n",
    "            ax.set_xlabel(\"FPR\", fontsize=18)\n",
    "\n",
    "        if c == 0:\n",
    "            ax.set_ylabel(\"TPR\", fontsize=18)\n",
    "\n",
    "        ax.set_xlim([-0.05, 1.05])\n",
    "        ax.set_ylim([-0.05, 1.05])\n",
    "        ax.legend(loc=\"lower right\", frameon=False, fontsize=14)\n",
    "\n",
    "    fig.tight_layout()\n",
    "    fig.suptitle(\n",
    "        f\"ROC plots for one-vs-rest performances \"\n",
    "        f\"(on evaluation data, n={y_pred_probs_test.shape[1]}\",\n",
    "        fontsize=22,\n",
    "    )\n",
    "    fig.tight_layout()\n",
    "    fig.show()\n",
    "\n",
    "    return roc_auc_dict, fig\n",
    "\n",
    "\n",
    "roc_auc_dict, fig = plot_roc_curves(y_test, y_pred_probs_test)"
   ]
  },
  {
   "cell_type": "code",
   "execution_count": 16,
   "id": "b962e0e6",
   "metadata": {
    "execution": {
     "iopub.execute_input": "2022-12-04T06:40:13.977726Z",
     "iopub.status.busy": "2022-12-04T06:40:13.977156Z",
     "iopub.status.idle": "2022-12-04T06:40:14.252259Z",
     "shell.execute_reply": "2022-12-04T06:40:14.251496Z"
    },
    "papermill": {
     "duration": 0.283895,
     "end_time": "2022-12-04T06:40:14.254121",
     "exception": false,
     "start_time": "2022-12-04T06:40:13.970226",
     "status": "completed"
    },
    "tags": []
   },
   "outputs": [],
   "source": [
    "logger.log_figure(\"per-digit-roc-curves.png\", fig)"
   ]
  },
  {
   "cell_type": "code",
   "execution_count": 17,
   "id": "5b4972ce",
   "metadata": {
    "execution": {
     "iopub.execute_input": "2022-12-04T06:40:14.268067Z",
     "iopub.status.busy": "2022-12-04T06:40:14.267727Z",
     "iopub.status.idle": "2022-12-04T06:40:14.273477Z",
     "shell.execute_reply": "2022-12-04T06:40:14.272702Z"
    },
    "papermill": {
     "duration": 0.01575,
     "end_time": "2022-12-04T06:40:14.276156",
     "exception": false,
     "start_time": "2022-12-04T06:40:14.260406",
     "status": "completed"
    },
    "tags": []
   },
   "outputs": [
    {
     "data": {
      "text/plain": [
       "{'0': 1.0,\n",
       " '1': 0.999025304592315,\n",
       " '2': 1.0,\n",
       " '3': 0.9998500468603562,\n",
       " '4': 0.9997713763145861,\n",
       " '5': 0.9996251171508904,\n",
       " '6': 0.999923792104862,\n",
       " '7': 0.9998475842097242,\n",
       " '8': 0.9956651954602775,\n",
       " '9': 0.9997713763145862}"
      ]
     },
     "execution_count": 17,
     "metadata": {},
     "output_type": "execute_result"
    }
   ],
   "source": [
    "roc_auc_dict"
   ]
  },
  {
   "cell_type": "code",
   "execution_count": 18,
   "id": "47e272f9",
   "metadata": {
    "execution": {
     "iopub.execute_input": "2022-12-04T06:40:14.291151Z",
     "iopub.status.busy": "2022-12-04T06:40:14.290634Z",
     "iopub.status.idle": "2022-12-04T06:40:14.295076Z",
     "shell.execute_reply": "2022-12-04T06:40:14.294416Z"
    },
    "papermill": {
     "duration": 0.015048,
     "end_time": "2022-12-04T06:40:14.297499",
     "exception": false,
     "start_time": "2022-12-04T06:40:14.282451",
     "status": "completed"
    },
    "tags": []
   },
   "outputs": [
    {
     "name": "stdout",
     "output_type": "stream",
     "text": [
      " - Logging roc_auc_per_digit (json) : {'0': 1.0, '1': 0.999025304592315, '2': 1.0, '3': 0.9998500468603562, '4': 0.9997713763145861, '5': 0.9996251171508904, '6': 0.999923792104862, '7': 0.9998475842097242, '8': 0.9956651954602775, '9': 0.9997713763145862}\n"
     ]
    }
   ],
   "source": [
    "logger.log_value(\"roc_auc_per_digit\", roc_auc_dict)"
   ]
  },
  {
   "cell_type": "markdown",
   "id": "89710a00",
   "metadata": {
    "papermill": {
     "duration": 0.00679,
     "end_time": "2022-12-04T06:40:14.312069",
     "exception": false,
     "start_time": "2022-12-04T06:40:14.305279",
     "status": "completed"
    },
    "tags": []
   },
   "source": [
    "### Compute and log mean ROC AUC score averaged over all digits"
   ]
  },
  {
   "cell_type": "code",
   "execution_count": 19,
   "id": "1d050827",
   "metadata": {
    "execution": {
     "iopub.execute_input": "2022-12-04T06:40:14.332231Z",
     "iopub.status.busy": "2022-12-04T06:40:14.331951Z",
     "iopub.status.idle": "2022-12-04T06:40:14.345780Z",
     "shell.execute_reply": "2022-12-04T06:40:14.344879Z"
    },
    "papermill": {
     "duration": 0.023456,
     "end_time": "2022-12-04T06:40:14.347542",
     "exception": false,
     "start_time": "2022-12-04T06:40:14.324086",
     "status": "completed"
    },
    "tags": []
   },
   "outputs": [
    {
     "name": "stdout",
     "output_type": "stream",
     "text": [
      " - Logging roc_auc_class_mean (float) : 0.9993479793007598\n"
     ]
    }
   ],
   "source": [
    "roc_auc_macro = np.mean(list(roc_auc_dict.values()))\n",
    "\n",
    "logger.log_float(\"roc_auc_class_mean\", roc_auc_macro)\n",
    "\n",
    "# assert that the same value can be computed directly using sklearn\n",
    "assert roc_auc_macro == metrics.roc_auc_score(\n",
    "    y_test, y_pred_probs_test, average=\"macro\", multi_class=\"ovr\"\n",
    ")"
   ]
  },
  {
   "cell_type": "code",
   "execution_count": 20,
   "id": "088f31af",
   "metadata": {
    "execution": {
     "iopub.execute_input": "2022-12-04T06:40:14.363376Z",
     "iopub.status.busy": "2022-12-04T06:40:14.362708Z",
     "iopub.status.idle": "2022-12-04T06:40:14.365973Z",
     "shell.execute_reply": "2022-12-04T06:40:14.365240Z"
    },
    "lines_to_next_cell": 0,
    "papermill": {
     "duration": 0.013115,
     "end_time": "2022-12-04T06:40:14.368044",
     "exception": false,
     "start_time": "2022-12-04T06:40:14.354929",
     "status": "completed"
    },
    "tags": []
   },
   "outputs": [],
   "source": [
    "# ---"
   ]
  },
  {
   "cell_type": "code",
   "execution_count": null,
   "id": "72b461ec",
   "metadata": {
    "papermill": {
     "duration": 0.005981,
     "end_time": "2022-12-04T06:40:14.381120",
     "exception": false,
     "start_time": "2022-12-04T06:40:14.375139",
     "status": "completed"
    },
    "tags": []
   },
   "outputs": [],
   "source": []
  }
 ],
 "metadata": {
  "jupytext": {
   "cell_metadata_filter": "tags,-all",
   "main_language": "python",
   "notebook_metadata_filter": "-all"
  },
  "language_info": {
   "codemirror_mode": {
    "name": "ipython",
    "version": 3
   },
   "file_extension": ".py",
   "mimetype": "text/x-python",
   "name": "python",
   "nbconvert_exporter": "python",
   "pygments_lexer": "ipython3",
   "version": "3.8.10"
  },
  "papermill": {
   "default_parameters": {},
   "duration": 9.690805,
   "end_time": "2022-12-04T06:40:15.506672",
   "environment_variables": {},
   "exception": null,
   "input_path": "/home/host_user/workspace/mnist-demo-pipeline/mnist-demo-pipeline/notebooks/temp-notebook-w99k2rvd.ipynb",
   "output_path": "notebooks/benchmark-model.ipynb",
   "parameters": {
    "P": {
     "_opentelemetry_traceparent": "00-e032066985e551907c78306a67612527-f92b3350726a012f-01",
     "pipeline.data_lake_root": "/pipeline-outputs/data-lake",
     "pipeline.github.actor": "matiasdahl",
     "pipeline.github.base_ref": "",
     "pipeline.github.event_name": "schedule",
     "pipeline.github.head_ref": "",
     "pipeline.github.job": "run-tests-pipeline-and-persist-pipeline-outputs",
     "pipeline.github.ref": "refs/heads/development",
     "pipeline.github.ref_name": "development",
     "pipeline.github.ref_type": "branch",
     "pipeline.github.repository": "matiasdahl/dev-mnist-digits-demo-pipeline",
     "pipeline.github.run_id": "3612078946",
     "pipeline.github.runner_name": "Hosted Agent",
     "pipeline.github.sha": "ace0d01011d5e914f1921450dd5a59c11367b38d",
     "pipeline.github.workflow": "Run automated tests, pipeline and deploy results to static reporting site",
     "pipeline.pipeline_run_id": "52d57705-a8e1-4838-aeab-971e47144aea",
     "pipeline.run_environment": "ci",
     "run.retry_nr": "0",
     "task.max_nr_retries": "1",
     "task.notebook": "notebooks/benchmark-model.py",
     "task.nr_train_images": 1200,
     "task.num_cpus": 1,
     "task.timeout_s": "None"
    }
   },
   "start_time": "2022-12-04T06:40:05.815867",
   "version": "2.3.3"
  }
 },
 "nbformat": 4,
 "nbformat_minor": 5
}