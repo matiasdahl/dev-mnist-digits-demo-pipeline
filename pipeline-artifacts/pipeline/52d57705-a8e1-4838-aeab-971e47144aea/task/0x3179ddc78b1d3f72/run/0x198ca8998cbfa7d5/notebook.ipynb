{
 "cells": [
  {
   "cell_type": "markdown",
   "id": "7d03bc4f",
   "metadata": {
    "papermill": {
     "duration": 0.010162,
     "end_time": "2022-12-04T06:40:12.243245",
     "exception": false,
     "start_time": "2022-12-04T06:40:12.233083",
     "status": "completed"
    },
    "tags": []
   },
   "source": [
    "# Benchmark model\n",
    "\n",
    "The purpose of this notebook is to benchmark persisted onnx-model (trained in the\n",
    "previous step) against evaluation set."
   ]
  },
  {
   "cell_type": "markdown",
   "id": "8ea2e922",
   "metadata": {
    "papermill": {
     "duration": 0.00385,
     "end_time": "2022-12-04T06:40:12.251232",
     "exception": false,
     "start_time": "2022-12-04T06:40:12.247382",
     "status": "completed"
    },
    "tags": []
   },
   "source": [
    "### Determine run parameters"
   ]
  },
  {
   "cell_type": "code",
   "execution_count": 1,
   "id": "ffb61ef2",
   "metadata": {
    "execution": {
     "iopub.execute_input": "2022-12-04T06:40:12.260425Z",
     "iopub.status.busy": "2022-12-04T06:40:12.260103Z",
     "iopub.status.idle": "2022-12-04T06:40:12.266941Z",
     "shell.execute_reply": "2022-12-04T06:40:12.266376Z"
    },
    "lines_to_next_cell": 0,
    "papermill": {
     "duration": 0.014436,
     "end_time": "2022-12-04T06:40:12.269522",
     "exception": false,
     "start_time": "2022-12-04T06:40:12.255086",
     "status": "completed"
    },
    "tags": []
   },
   "outputs": [],
   "source": [
    "# ----------------- Parameters for interactive development --------------\n",
    "P = {\n",
    "    \"pipeline.data_lake_root\": \"/pipeline-outputs/data-lake\",\n",
    "    \"task.nr_train_images\": 600,\n",
    "}"
   ]
  },
  {
   "cell_type": "code",
   "execution_count": 2,
   "id": "28468474",
   "metadata": {
    "execution": {
     "iopub.execute_input": "2022-12-04T06:40:12.290096Z",
     "iopub.status.busy": "2022-12-04T06:40:12.289837Z",
     "iopub.status.idle": "2022-12-04T06:40:12.293034Z",
     "shell.execute_reply": "2022-12-04T06:40:12.292362Z"
    },
    "lines_to_next_cell": 0,
    "papermill": {
     "duration": 0.010004,
     "end_time": "2022-12-04T06:40:12.294889",
     "exception": false,
     "start_time": "2022-12-04T06:40:12.284885",
     "status": "completed"
    },
    "tags": [
     "parameters"
    ]
   },
   "outputs": [],
   "source": [
    "# - During automated runs parameters will be injected in the below cell -"
   ]
  },
  {
   "cell_type": "code",
   "execution_count": 3,
   "id": "6f3ba6a7",
   "metadata": {
    "execution": {
     "iopub.execute_input": "2022-12-04T06:40:12.306070Z",
     "iopub.status.busy": "2022-12-04T06:40:12.305843Z",
     "iopub.status.idle": "2022-12-04T06:40:12.310274Z",
     "shell.execute_reply": "2022-12-04T06:40:12.309768Z"
    },
    "papermill": {
     "duration": 0.011892,
     "end_time": "2022-12-04T06:40:12.312529",
     "exception": false,
     "start_time": "2022-12-04T06:40:12.300637",
     "status": "completed"
    },
    "tags": [
     "injected-parameters"
    ]
   },
   "outputs": [],
   "source": [
    "# Parameters\n",
    "P = {\n",
    "    \"pipeline.data_lake_root\": \"/pipeline-outputs/data-lake\",\n",
    "    \"pipeline.run_environment\": \"ci\",\n",
    "    \"pipeline.pipeline_run_id\": \"52d57705-a8e1-4838-aeab-971e47144aea\",\n",
    "    \"pipeline.github.repository\": \"matiasdahl/dev-mnist-digits-demo-pipeline\",\n",
    "    \"pipeline.github.workflow\": \"Run automated tests, pipeline and deploy results to static reporting site\",\n",
    "    \"pipeline.github.runner_name\": \"Hosted Agent\",\n",
    "    \"pipeline.github.run_id\": \"3612078946\",\n",
    "    \"pipeline.github.actor\": \"matiasdahl\",\n",
    "    \"pipeline.github.job\": \"run-tests-pipeline-and-persist-pipeline-outputs\",\n",
    "    \"pipeline.github.base_ref\": \"\",\n",
    "    \"pipeline.github.head_ref\": \"\",\n",
    "    \"pipeline.github.sha\": \"ace0d01011d5e914f1921450dd5a59c11367b38d\",\n",
    "    \"pipeline.github.ref\": \"refs/heads/development\",\n",
    "    \"pipeline.github.ref_type\": \"branch\",\n",
    "    \"pipeline.github.ref_name\": \"development\",\n",
    "    \"pipeline.github.event_name\": \"schedule\",\n",
    "    \"task.nr_train_images\": 600,\n",
    "    \"task.notebook\": \"notebooks/benchmark-model.py\",\n",
    "    \"task.max_nr_retries\": \"1\",\n",
    "    \"run.retry_nr\": \"0\",\n",
    "    \"task.timeout_s\": \"None\",\n",
    "    \"task.num_cpus\": 1,\n",
    "    \"_opentelemetry_traceparent\": \"00-e032066985e551907c78306a67612527-357c71f92ca10384-01\",\n",
    "}\n"
   ]
  },
  {
   "cell_type": "code",
   "execution_count": 4,
   "id": "82d6cc21",
   "metadata": {
    "execution": {
     "iopub.execute_input": "2022-12-04T06:40:12.321428Z",
     "iopub.status.busy": "2022-12-04T06:40:12.321218Z",
     "iopub.status.idle": "2022-12-04T06:40:12.324211Z",
     "shell.execute_reply": "2022-12-04T06:40:12.323694Z"
    },
    "lines_to_next_cell": 0,
    "papermill": {
     "duration": 0.010193,
     "end_time": "2022-12-04T06:40:12.326718",
     "exception": false,
     "start_time": "2022-12-04T06:40:12.316525",
     "status": "completed"
    },
    "tags": []
   },
   "outputs": [],
   "source": [
    "# -----------------------------------------------------------------------"
   ]
  },
  {
   "cell_type": "markdown",
   "id": "5fcaf938",
   "metadata": {
    "papermill": {
     "duration": 0.00455,
     "end_time": "2022-12-04T06:40:12.336393",
     "exception": false,
     "start_time": "2022-12-04T06:40:12.331843",
     "status": "completed"
    },
    "tags": []
   },
   "source": [
    "---"
   ]
  },
  {
   "cell_type": "markdown",
   "id": "ff636376",
   "metadata": {
    "lines_to_next_cell": 2,
    "papermill": {
     "duration": 0.003915,
     "end_time": "2022-12-04T06:40:12.344288",
     "exception": false,
     "start_time": "2022-12-04T06:40:12.340373",
     "status": "completed"
    },
    "tags": []
   },
   "source": [
    "### Notebook code"
   ]
  },
  {
   "cell_type": "code",
   "execution_count": 5,
   "id": "3d71bb08",
   "metadata": {
    "execution": {
     "iopub.execute_input": "2022-12-04T06:40:12.353805Z",
     "iopub.status.busy": "2022-12-04T06:40:12.353529Z",
     "iopub.status.idle": "2022-12-04T06:40:13.411667Z",
     "shell.execute_reply": "2022-12-04T06:40:13.411052Z"
    },
    "papermill": {
     "duration": 1.065174,
     "end_time": "2022-12-04T06:40:13.413729",
     "exception": false,
     "start_time": "2022-12-04T06:40:12.348555",
     "status": "completed"
    },
    "tags": []
   },
   "outputs": [
    {
     "name": "stderr",
     "output_type": "stream",
     "text": [
      "2022-12-04 06:40:13,242\tINFO worker.py:842 -- Connecting to existing Ray cluster at address: 172.17.0.2:6379\n"
     ]
    }
   ],
   "source": [
    "import itertools as it\n",
    "\n",
    "#\n",
    "import numpy as np\n",
    "import matplotlib.pyplot as plt\n",
    "\n",
    "#\n",
    "from pynb_dag_runner.tasks.task_opentelemetry_logging import PydarLogger\n",
    "\n",
    "#\n",
    "from common.io import datalake_root\n",
    "\n",
    "logger = PydarLogger(P)"
   ]
  },
  {
   "cell_type": "markdown",
   "id": "65c83536",
   "metadata": {
    "papermill": {
     "duration": 0.00405,
     "end_time": "2022-12-04T06:40:13.422121",
     "exception": false,
     "start_time": "2022-12-04T06:40:13.418071",
     "status": "completed"
    },
    "tags": []
   },
   "source": [
    "## Load persisted onnx-model and evaluation data"
   ]
  },
  {
   "cell_type": "code",
   "execution_count": 6,
   "id": "fdcaf664",
   "metadata": {
    "execution": {
     "iopub.execute_input": "2022-12-04T06:40:13.431275Z",
     "iopub.status.busy": "2022-12-04T06:40:13.430958Z",
     "iopub.status.idle": "2022-12-04T06:40:13.434176Z",
     "shell.execute_reply": "2022-12-04T06:40:13.433630Z"
    },
    "papermill": {
     "duration": 0.010337,
     "end_time": "2022-12-04T06:40:13.436523",
     "exception": false,
     "start_time": "2022-12-04T06:40:13.426186",
     "status": "completed"
    },
    "tags": []
   },
   "outputs": [],
   "source": [
    "from common.io import read_onnx, get_onnx_inputs, get_onnx_outputs, read_numpy"
   ]
  },
  {
   "cell_type": "code",
   "execution_count": 7,
   "id": "d179d29d",
   "metadata": {
    "execution": {
     "iopub.execute_input": "2022-12-04T06:40:13.445607Z",
     "iopub.status.busy": "2022-12-04T06:40:13.445391Z",
     "iopub.status.idle": "2022-12-04T06:40:13.453895Z",
     "shell.execute_reply": "2022-12-04T06:40:13.453391Z"
    },
    "lines_to_next_cell": 0,
    "papermill": {
     "duration": 0.015082,
     "end_time": "2022-12-04T06:40:13.455733",
     "exception": false,
     "start_time": "2022-12-04T06:40:13.440651",
     "status": "completed"
    },
    "tags": []
   },
   "outputs": [],
   "source": [
    "onnx_inference_session = read_onnx(\n",
    "    datalake_root(P)\n",
    "    / \"models\"\n",
    "    / f\"nr_train_images={P['task.nr_train_images']}\"\n",
    "    / \"model.onnx\"\n",
    ")"
   ]
  },
  {
   "cell_type": "markdown",
   "id": "0b81e64b",
   "metadata": {
    "papermill": {
     "duration": 0.004177,
     "end_time": "2022-12-04T06:40:13.465435",
     "exception": false,
     "start_time": "2022-12-04T06:40:13.461258",
     "status": "completed"
    },
    "tags": []
   },
   "source": [
    "### Record structure of inputs and outputs for ONNX model\n",
    "\n",
    "(this should likely be done in training notebook)"
   ]
  },
  {
   "cell_type": "code",
   "execution_count": 8,
   "id": "f9d5ffd4",
   "metadata": {
    "execution": {
     "iopub.execute_input": "2022-12-04T06:40:13.475241Z",
     "iopub.status.busy": "2022-12-04T06:40:13.474992Z",
     "iopub.status.idle": "2022-12-04T06:40:13.480113Z",
     "shell.execute_reply": "2022-12-04T06:40:13.479585Z"
    },
    "papermill": {
     "duration": 0.013123,
     "end_time": "2022-12-04T06:40:13.483212",
     "exception": false,
     "start_time": "2022-12-04T06:40:13.470089",
     "status": "completed"
    },
    "tags": []
   },
   "outputs": [
    {
     "name": "stdout",
     "output_type": "stream",
     "text": [
      "{\n",
      "  \"inputs\": [\n",
      "    {\n",
      "      \"name\": \"float_input_8x8_image\",\n",
      "      \"shape\": [\n",
      "        null,\n",
      "        64\n",
      "      ],\n",
      "      \"type\": \"tensor(float)\"\n",
      "    }\n",
      "  ],\n",
      "  \"outputs\": [\n",
      "    {\n",
      "      \"name\": \"output_label\",\n",
      "      \"shape\": [\n",
      "        null\n",
      "      ],\n",
      "      \"type\": \"tensor(int64)\"\n",
      "    },\n",
      "    {\n",
      "      \"name\": \"output_probability\",\n",
      "      \"shape\": [],\n",
      "      \"type\": \"seq(map(int64,tensor(float)))\"\n",
      "    }\n",
      "  ]\n",
      "}\n"
     ]
    }
   ],
   "source": [
    "import json\n",
    "\n",
    "onnx_io = json.dumps(\n",
    "    {\n",
    "        \"inputs\": get_onnx_inputs(onnx_inference_session),\n",
    "        \"outputs\": get_onnx_outputs(onnx_inference_session),\n",
    "    },\n",
    "    indent=2,\n",
    ")\n",
    "\n",
    "\n",
    "logger.log_artefact(\"onnx_io_structure.json\", onnx_io)\n",
    "print(onnx_io)"
   ]
  },
  {
   "cell_type": "markdown",
   "id": "769f2a60",
   "metadata": {
    "papermill": {
     "duration": 0.004164,
     "end_time": "2022-12-04T06:40:13.491492",
     "exception": false,
     "start_time": "2022-12-04T06:40:13.487328",
     "status": "completed"
    },
    "tags": []
   },
   "source": [
    "### Evaluate model performance on evaluation data set"
   ]
  },
  {
   "cell_type": "code",
   "execution_count": 9,
   "id": "4b145262",
   "metadata": {
    "execution": {
     "iopub.execute_input": "2022-12-04T06:40:13.500697Z",
     "iopub.status.busy": "2022-12-04T06:40:13.500481Z",
     "iopub.status.idle": "2022-12-04T06:40:13.505694Z",
     "shell.execute_reply": "2022-12-04T06:40:13.505162Z"
    },
    "papermill": {
     "duration": 0.012147,
     "end_time": "2022-12-04T06:40:13.507886",
     "exception": false,
     "start_time": "2022-12-04T06:40:13.495739",
     "status": "completed"
    },
    "tags": []
   },
   "outputs": [],
   "source": [
    "# load evaluation data\n",
    "X_test = read_numpy(datalake_root(P) / \"test-data\" / \"digits.numpy\")\n",
    "y_test = read_numpy(datalake_root(P) / \"test-data\" / \"labels.numpy\")"
   ]
  },
  {
   "cell_type": "code",
   "execution_count": 10,
   "id": "a9f4e8f8",
   "metadata": {
    "execution": {
     "iopub.execute_input": "2022-12-04T06:40:13.517214Z",
     "iopub.status.busy": "2022-12-04T06:40:13.516988Z",
     "iopub.status.idle": "2022-12-04T06:40:13.579664Z",
     "shell.execute_reply": "2022-12-04T06:40:13.579050Z"
    },
    "papermill": {
     "duration": 0.069593,
     "end_time": "2022-12-04T06:40:13.581558",
     "exception": false,
     "start_time": "2022-12-04T06:40:13.511965",
     "status": "completed"
    },
    "tags": []
   },
   "outputs": [],
   "source": [
    "def get_model_outputs(X, onnx_inference_session):\n",
    "    y_pred_labels, y_pred_map = onnx_inference_session.run(\n",
    "        [\"output_label\", \"output_probability\"],\n",
    "        {\"float_input_8x8_image\": X.astype(np.float32)},\n",
    "    )\n",
    "    y_pred_probs = np.array(\n",
    "        [[probabilities[digit] for digit in range(10)] for probabilities in y_pred_map]\n",
    "    )\n",
    "\n",
    "    assert y_pred_labels.shape == (X.shape[0],)\n",
    "    assert y_pred_probs.shape == (X.shape[0], 10)\n",
    "\n",
    "    return y_pred_labels, y_pred_probs\n",
    "\n",
    "\n",
    "# Note: as shown in the training notebook, the predicted labels and probabilities\n",
    "# computed below need not be compatible.\n",
    "y_pred_labels_test, y_pred_probs_test = get_model_outputs(\n",
    "    X_test, onnx_inference_session\n",
    ")"
   ]
  },
  {
   "cell_type": "markdown",
   "id": "24347805",
   "metadata": {
    "papermill": {
     "duration": 0.004141,
     "end_time": "2022-12-04T06:40:13.590440",
     "exception": false,
     "start_time": "2022-12-04T06:40:13.586299",
     "status": "completed"
    },
    "tags": []
   },
   "source": [
    "### Confusion matrix"
   ]
  },
  {
   "cell_type": "code",
   "execution_count": 11,
   "id": "cea828a1",
   "metadata": {
    "execution": {
     "iopub.execute_input": "2022-12-04T06:40:13.599811Z",
     "iopub.status.busy": "2022-12-04T06:40:13.599568Z",
     "iopub.status.idle": "2022-12-04T06:40:13.602307Z",
     "shell.execute_reply": "2022-12-04T06:40:13.601762Z"
    },
    "papermill": {
     "duration": 0.010115,
     "end_time": "2022-12-04T06:40:13.604556",
     "exception": false,
     "start_time": "2022-12-04T06:40:13.594441",
     "status": "completed"
    },
    "tags": []
   },
   "outputs": [],
   "source": [
    "# TODO"
   ]
  },
  {
   "cell_type": "markdown",
   "id": "45df9eb3",
   "metadata": {
    "papermill": {
     "duration": 0.004817,
     "end_time": "2022-12-04T06:40:13.613956",
     "exception": false,
     "start_time": "2022-12-04T06:40:13.609139",
     "status": "completed"
    },
    "tags": []
   },
   "source": [
    "### Plot predicted probabilities for each classifier over all evaluation digit images"
   ]
  },
  {
   "cell_type": "code",
   "execution_count": 12,
   "id": "d22cfcfb",
   "metadata": {
    "execution": {
     "iopub.execute_input": "2022-12-04T06:40:13.623454Z",
     "iopub.status.busy": "2022-12-04T06:40:13.623202Z",
     "iopub.status.idle": "2022-12-04T06:40:16.559969Z",
     "shell.execute_reply": "2022-12-04T06:40:16.559375Z"
    },
    "papermill": {
     "duration": 2.943667,
     "end_time": "2022-12-04T06:40:16.561800",
     "exception": false,
     "start_time": "2022-12-04T06:40:13.618133",
     "status": "completed"
    },
    "tags": []
   },
   "outputs": [
    {
     "data": {
      "image/png": "[encoded data removed]",
      "text/plain": [
       "<Figure size 1600x600 with 10 Axes>"
      ]
     },
     "metadata": {},
     "output_type": "display_data"
    }
   ],
   "source": [
    "def plot_per_digit_probabilities(y_pred_probs):\n",
    "    fig, axs = plt.subplots(nrows=2, ncols=5, figsize=(16, 6))\n",
    "\n",
    "    for (r, c), digit, ax in zip(\n",
    "        it.product(range(2), range(5)), range(10), axs.reshape(-1)\n",
    "    ):\n",
    "        ax.hist(y_pred_probs_test[:, digit], bins=20)\n",
    "\n",
    "        ax.set_title(f\"Digit {digit}\")\n",
    "        if r == 1 and c == 2:\n",
    "            ax.set_xlabel(\"probability\", fontsize=16)\n",
    "\n",
    "        if c == 0:\n",
    "            ax.set_ylabel(\"counts\", fontsize=16)\n",
    "        ax.set_yscale(\"log\")\n",
    "\n",
    "    fig.tight_layout()\n",
    "    fig.suptitle(\n",
    "        f\"Distributions of prediction probabilities for each digit \"\n",
    "        f\"(on evaluation data, n={y_pred_probs.shape[0]})\",\n",
    "        fontsize=20,\n",
    "    )\n",
    "    fig.tight_layout()\n",
    "    fig.show()\n",
    "\n",
    "    return fig\n",
    "\n",
    "\n",
    "fig = plot_per_digit_probabilities(y_pred_probs_test)"
   ]
  },
  {
   "cell_type": "markdown",
   "id": "80907ca5",
   "metadata": {
    "papermill": {
     "duration": 0.005359,
     "end_time": "2022-12-04T06:40:16.573576",
     "exception": false,
     "start_time": "2022-12-04T06:40:16.568217",
     "status": "completed"
    },
    "tags": []
   },
   "source": [
    "From the above distributions we see that most digits have clear separation between\n",
    "high and lower probabilities. Morover, in each case there is roughly an order of\n",
    "magnitude more of digits with low probabilities. This is compatible with digits\n",
    "being roughly evenly distributed in the data."
   ]
  },
  {
   "cell_type": "code",
   "execution_count": 13,
   "id": "e7aeacd0",
   "metadata": {
    "execution": {
     "iopub.execute_input": "2022-12-04T06:40:16.588529Z",
     "iopub.status.busy": "2022-12-04T06:40:16.588243Z",
     "iopub.status.idle": "2022-12-04T06:40:17.064775Z",
     "shell.execute_reply": "2022-12-04T06:40:17.064189Z"
    },
    "papermill": {
     "duration": 0.486772,
     "end_time": "2022-12-04T06:40:17.066603",
     "exception": false,
     "start_time": "2022-12-04T06:40:16.579831",
     "status": "completed"
    },
    "tags": []
   },
   "outputs": [],
   "source": [
    "logger.log_figure(\"per-digit-probabilities.png\", fig)"
   ]
  },
  {
   "cell_type": "markdown",
   "id": "d3a59e38",
   "metadata": {
    "papermill": {
     "duration": 0.005042,
     "end_time": "2022-12-04T06:40:17.078312",
     "exception": false,
     "start_time": "2022-12-04T06:40:17.073270",
     "status": "completed"
    },
    "tags": []
   },
   "source": [
    "### Plot ROC curves for individual one-vs-rest classifiers"
   ]
  },
  {
   "cell_type": "code",
   "execution_count": 14,
   "id": "7cf720ed",
   "metadata": {
    "execution": {
     "iopub.execute_input": "2022-12-04T06:40:17.090727Z",
     "iopub.status.busy": "2022-12-04T06:40:17.090386Z",
     "iopub.status.idle": "2022-12-04T06:40:17.535727Z",
     "shell.execute_reply": "2022-12-04T06:40:17.534828Z"
    },
    "papermill": {
     "duration": 0.453458,
     "end_time": "2022-12-04T06:40:17.537691",
     "exception": false,
     "start_time": "2022-12-04T06:40:17.084233",
     "status": "completed"
    },
    "tags": []
   },
   "outputs": [],
   "source": [
    "from sklearn import metrics"
   ]
  },
  {
   "cell_type": "code",
   "execution_count": 15,
   "id": "2ab309b5",
   "metadata": {
    "execution": {
     "iopub.execute_input": "2022-12-04T06:40:17.551411Z",
     "iopub.status.busy": "2022-12-04T06:40:17.551036Z",
     "iopub.status.idle": "2022-12-04T06:40:19.135696Z",
     "shell.execute_reply": "2022-12-04T06:40:19.134890Z"
    },
    "papermill": {
     "duration": 1.593327,
     "end_time": "2022-12-04T06:40:19.137552",
     "exception": false,
     "start_time": "2022-12-04T06:40:17.544225",
     "status": "completed"
    },
    "tags": []
   },
   "outputs": [
    {
     "data": {
      "image/png": "[encoded data removed]",
      "text/plain": [
       "<Figure size 1600x800 with 10 Axes>"
      ]
     },
     "metadata": {},
     "output_type": "display_data"
    }
   ],
   "source": [
    "def plot_roc_curves(y, y_pred_probs):\n",
    "    # based on example code\n",
    "    # https://scikit-learn.org/stable/auto_examples/model_selection/plot_roc.html\n",
    "\n",
    "    fig, axs = plt.subplots(nrows=2, ncols=5, figsize=(16, 8))\n",
    "\n",
    "    roc_auc_dict = {}\n",
    "\n",
    "    for (r, c), digit, ax in zip(\n",
    "        it.product(range(2), range(5)), range(10), axs.reshape(-1)\n",
    "    ):\n",
    "        fpr, tpr, _ = metrics.roc_curve(y == digit, y_pred_probs[:, digit])\n",
    "        auc = metrics.auc(fpr, tpr)\n",
    "        roc_auc_dict[str(digit)] = auc\n",
    "\n",
    "        ax.plot(fpr, tpr, label=f\"ROC AUC={round(auc, 3)}\")\n",
    "\n",
    "        ax.set_title(f\"\\nDigit {digit}\", fontsize=16)\n",
    "        if r == 1:\n",
    "            ax.set_xlabel(\"FPR\", fontsize=18)\n",
    "\n",
    "        if c == 0:\n",
    "            ax.set_ylabel(\"TPR\", fontsize=18)\n",
    "\n",
    "        ax.set_xlim([-0.05, 1.05])\n",
    "        ax.set_ylim([-0.05, 1.05])\n",
    "        ax.legend(loc=\"lower right\", frameon=False, fontsize=14)\n",
    "\n",
    "    fig.tight_layout()\n",
    "    fig.suptitle(\n",
    "        f\"ROC plots for one-vs-rest performances \"\n",
    "        f\"(on evaluation data, n={y_pred_probs_test.shape[1]}\",\n",
    "        fontsize=22,\n",
    "    )\n",
    "    fig.tight_layout()\n",
    "    fig.show()\n",
    "\n",
    "    return roc_auc_dict, fig\n",
    "\n",
    "\n",
    "roc_auc_dict, fig = plot_roc_curves(y_test, y_pred_probs_test)"
   ]
  },
  {
   "cell_type": "code",
   "execution_count": 16,
   "id": "0c79f482",
   "metadata": {
    "execution": {
     "iopub.execute_input": "2022-12-04T06:40:19.152373Z",
     "iopub.status.busy": "2022-12-04T06:40:19.151997Z",
     "iopub.status.idle": "2022-12-04T06:40:19.414451Z",
     "shell.execute_reply": "2022-12-04T06:40:19.413434Z"
    },
    "papermill": {
     "duration": 0.272022,
     "end_time": "2022-12-04T06:40:19.416262",
     "exception": false,
     "start_time": "2022-12-04T06:40:19.144240",
     "status": "completed"
    },
    "tags": []
   },
   "outputs": [],
   "source": [
    "logger.log_figure(\"per-digit-roc-curves.png\", fig)"
   ]
  },
  {
   "cell_type": "code",
   "execution_count": 17,
   "id": "f57c1979",
   "metadata": {
    "execution": {
     "iopub.execute_input": "2022-12-04T06:40:19.430385Z",
     "iopub.status.busy": "2022-12-04T06:40:19.430110Z",
     "iopub.status.idle": "2022-12-04T06:40:19.435232Z",
     "shell.execute_reply": "2022-12-04T06:40:19.434542Z"
    },
    "papermill": {
     "duration": 0.015548,
     "end_time": "2022-12-04T06:40:19.438133",
     "exception": false,
     "start_time": "2022-12-04T06:40:19.422585",
     "status": "completed"
    },
    "tags": []
   },
   "outputs": [
    {
     "data": {
      "text/plain": [
       "{'0': 1.0,\n",
       " '1': 0.9992502343017807,\n",
       " '2': 1.0,\n",
       " '3': 0.9997375820056232,\n",
       " '4': 0.9991236092059138,\n",
       " '5': 0.9987628865979382,\n",
       " '6': 0.999923792104862,\n",
       " '7': 0.9998475842097241,\n",
       " '8': 0.9946011979823455,\n",
       " '9': 0.998742569730224}"
      ]
     },
     "execution_count": 17,
     "metadata": {},
     "output_type": "execute_result"
    }
   ],
   "source": [
    "roc_auc_dict"
   ]
  },
  {
   "cell_type": "code",
   "execution_count": 18,
   "id": "72780f87",
   "metadata": {
    "execution": {
     "iopub.execute_input": "2022-12-04T06:40:19.452731Z",
     "iopub.status.busy": "2022-12-04T06:40:19.451855Z",
     "iopub.status.idle": "2022-12-04T06:40:19.457055Z",
     "shell.execute_reply": "2022-12-04T06:40:19.456328Z"
    },
    "papermill": {
     "duration": 0.014296,
     "end_time": "2022-12-04T06:40:19.458982",
     "exception": false,
     "start_time": "2022-12-04T06:40:19.444686",
     "status": "completed"
    },
    "tags": []
   },
   "outputs": [
    {
     "name": "stdout",
     "output_type": "stream",
     "text": [
      " - Logging roc_auc_per_digit (json) : {'0': 1.0, '1': 0.9992502343017807, '2': 1.0, '3': 0.9997375820056232, '4': 0.9991236092059138, '5': 0.9987628865979382, '6': 0.999923792104862, '7': 0.9998475842097241, '8': 0.9946011979823455, '9': 0.998742569730224}\n"
     ]
    }
   ],
   "source": [
    "logger.log_value(\"roc_auc_per_digit\", roc_auc_dict)"
   ]
  },
  {
   "cell_type": "markdown",
   "id": "7f6325ec",
   "metadata": {
    "papermill": {
     "duration": 0.006701,
     "end_time": "2022-12-04T06:40:19.472944",
     "exception": false,
     "start_time": "2022-12-04T06:40:19.466243",
     "status": "completed"
    },
    "tags": []
   },
   "source": [
    "### Compute and log mean ROC AUC score averaged over all digits"
   ]
  },
  {
   "cell_type": "code",
   "execution_count": 19,
   "id": "d3e8d68a",
   "metadata": {
    "execution": {
     "iopub.execute_input": "2022-12-04T06:40:19.487630Z",
     "iopub.status.busy": "2022-12-04T06:40:19.487231Z",
     "iopub.status.idle": "2022-12-04T06:40:19.500950Z",
     "shell.execute_reply": "2022-12-04T06:40:19.500204Z"
    },
    "papermill": {
     "duration": 0.022897,
     "end_time": "2022-12-04T06:40:19.502595",
     "exception": false,
     "start_time": "2022-12-04T06:40:19.479698",
     "status": "completed"
    },
    "tags": []
   },
   "outputs": [
    {
     "name": "stdout",
     "output_type": "stream",
     "text": [
      " - Logging roc_auc_class_mean (float) : 0.9989989456138412\n"
     ]
    }
   ],
   "source": [
    "roc_auc_macro = np.mean(list(roc_auc_dict.values()))\n",
    "\n",
    "logger.log_float(\"roc_auc_class_mean\", roc_auc_macro)\n",
    "\n",
    "# assert that the same value can be computed directly using sklearn\n",
    "assert roc_auc_macro == metrics.roc_auc_score(\n",
    "    y_test, y_pred_probs_test, average=\"macro\", multi_class=\"ovr\"\n",
    ")"
   ]
  },
  {
   "cell_type": "code",
   "execution_count": 20,
   "id": "6080eebd",
   "metadata": {
    "execution": {
     "iopub.execute_input": "2022-12-04T06:40:19.517656Z",
     "iopub.status.busy": "2022-12-04T06:40:19.517015Z",
     "iopub.status.idle": "2022-12-04T06:40:19.520943Z",
     "shell.execute_reply": "2022-12-04T06:40:19.520217Z"
    },
    "lines_to_next_cell": 0,
    "papermill": {
     "duration": 0.013687,
     "end_time": "2022-12-04T06:40:19.523020",
     "exception": false,
     "start_time": "2022-12-04T06:40:19.509333",
     "status": "completed"
    },
    "tags": []
   },
   "outputs": [],
   "source": [
    "# ---"
   ]
  },
  {
   "cell_type": "code",
   "execution_count": null,
   "id": "e4d7d736",
   "metadata": {
    "papermill": {
     "duration": 0.006791,
     "end_time": "2022-12-04T06:40:19.536617",
     "exception": false,
     "start_time": "2022-12-04T06:40:19.529826",
     "status": "completed"
    },
    "tags": []
   },
   "outputs": [],
   "source": []
  }
 ],
 "metadata": {
  "jupytext": {
   "cell_metadata_filter": "tags,-all",
   "main_language": "python",
   "notebook_metadata_filter": "-all"
  },
  "language_info": {
   "codemirror_mode": {
    "name": "ipython",
    "version": 3
   },
   "file_extension": ".py",
   "mimetype": "text/x-python",
   "name": "python",
   "nbconvert_exporter": "python",
   "pygments_lexer": "ipython3",
   "version": "3.8.10"
  },
  "papermill": {
   "default_parameters": {},
   "duration": 9.785243,
   "end_time": "2022-12-04T06:40:20.763573",
   "environment_variables": {},
   "exception": null,
   "input_path": "/home/host_user/workspace/mnist-demo-pipeline/mnist-demo-pipeline/notebooks/temp-notebook-6tza3vgr.ipynb",
   "output_path": "notebooks/benchmark-model.ipynb",
   "parameters": {
    "P": {
     "_opentelemetry_traceparent": "00-e032066985e551907c78306a67612527-357c71f92ca10384-01",
     "pipeline.data_lake_root": "/pipeline-outputs/data-lake",
     "pipeline.github.actor": "matiasdahl",
     "pipeline.github.base_ref": "",
     "pipeline.github.event_name": "schedule",
     "pipeline.github.head_ref": "",
     "pipeline.github.job": "run-tests-pipeline-and-persist-pipeline-outputs",
     "pipeline.github.ref": "refs/heads/development",
     "pipeline.github.ref_name": "development",
     "pipeline.github.ref_type": "branch",
     "pipeline.github.repository": "matiasdahl/dev-mnist-digits-demo-pipeline",
     "pipeline.github.run_id": "3612078946",
     "pipeline.github.runner_name": "Hosted Agent",
     "pipeline.github.sha": "ace0d01011d5e914f1921450dd5a59c11367b38d",
     "pipeline.github.workflow": "Run automated tests, pipeline and deploy results to static reporting site",
     "pipeline.pipeline_run_id": "52d57705-a8e1-4838-aeab-971e47144aea",
     "pipeline.run_environment": "ci",
     "run.retry_nr": "0",
     "task.max_nr_retries": "1",
     "task.notebook": "notebooks/benchmark-model.py",
     "task.nr_train_images": 600,
     "task.num_cpus": 1,
     "task.timeout_s": "None"
    }
   },
   "start_time": "2022-12-04T06:40:10.978330",
   "version": "2.3.3"
  }
 },
 "nbformat": 4,
 "nbformat_minor": 5
}