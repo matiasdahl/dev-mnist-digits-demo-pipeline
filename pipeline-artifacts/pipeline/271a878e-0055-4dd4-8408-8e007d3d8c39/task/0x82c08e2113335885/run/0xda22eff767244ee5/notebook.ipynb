{
 "cells": [
  {
   "cell_type": "markdown",
   "id": "3567bb3c",
   "metadata": {
    "papermill": {
     "duration": 0.004207,
     "end_time": "2022-12-05T06:45:08.918962",
     "exception": false,
     "start_time": "2022-12-05T06:45:08.914755",
     "status": "completed"
    },
    "tags": []
   },
   "source": [
    "# Summarize model performances\n",
    "\n",
    "This notebooks plots the performances (using averaged ROC AUC scores) for models\n",
    "trained with different training sets."
   ]
  },
  {
   "cell_type": "markdown",
   "id": "f64340b1",
   "metadata": {
    "papermill": {
     "duration": 0.003555,
     "end_time": "2022-12-05T06:45:08.926260",
     "exception": false,
     "start_time": "2022-12-05T06:45:08.922705",
     "status": "completed"
    },
    "tags": []
   },
   "source": [
    "### Determine run parameters"
   ]
  },
  {
   "cell_type": "code",
   "execution_count": 1,
   "id": "a7929d1a",
   "metadata": {
    "execution": {
     "iopub.execute_input": "2022-12-05T06:45:08.937963Z",
     "iopub.status.busy": "2022-12-05T06:45:08.936434Z",
     "iopub.status.idle": "2022-12-05T06:45:08.948428Z",
     "shell.execute_reply": "2022-12-05T06:45:08.947386Z"
    },
    "lines_to_next_cell": 0,
    "papermill": {
     "duration": 0.02126,
     "end_time": "2022-12-05T06:45:08.950835",
     "exception": false,
     "start_time": "2022-12-05T06:45:08.929575",
     "status": "completed"
    },
    "tags": []
   },
   "outputs": [],
   "source": [
    "# ----------------- Parameters for interactive development --------------\n",
    "P = {\n",
    "    \"pipeline.run_environment\": \"dev\",\n",
    "}"
   ]
  },
  {
   "cell_type": "code",
   "execution_count": 2,
   "id": "223d3ff9",
   "metadata": {
    "execution": {
     "iopub.execute_input": "2022-12-05T06:45:08.965324Z",
     "iopub.status.busy": "2022-12-05T06:45:08.964685Z",
     "iopub.status.idle": "2022-12-05T06:45:08.969559Z",
     "shell.execute_reply": "2022-12-05T06:45:08.968608Z"
    },
    "lines_to_next_cell": 0,
    "papermill": {
     "duration": 0.016073,
     "end_time": "2022-12-05T06:45:08.971662",
     "exception": false,
     "start_time": "2022-12-05T06:45:08.955589",
     "status": "completed"
    },
    "tags": [
     "parameters"
    ]
   },
   "outputs": [],
   "source": [
    "# - During automated runs parameters will be injected in the below cell -"
   ]
  },
  {
   "cell_type": "code",
   "execution_count": 3,
   "id": "f041ccc4",
   "metadata": {
    "execution": {
     "iopub.execute_input": "2022-12-05T06:45:08.981116Z",
     "iopub.status.busy": "2022-12-05T06:45:08.980413Z",
     "iopub.status.idle": "2022-12-05T06:45:08.991315Z",
     "shell.execute_reply": "2022-12-05T06:45:08.990280Z"
    },
    "papermill": {
     "duration": 0.017502,
     "end_time": "2022-12-05T06:45:08.993420",
     "exception": false,
     "start_time": "2022-12-05T06:45:08.975918",
     "status": "completed"
    },
    "tags": [
     "injected-parameters"
    ]
   },
   "outputs": [],
   "source": [
    "# Parameters\n",
    "P = {\n",
    "    \"pipeline.data_lake_root\": \"/pipeline-outputs/data-lake\",\n",
    "    \"pipeline.run_environment\": \"ci\",\n",
    "    \"pipeline.pipeline_run_id\": \"271a878e-0055-4dd4-8408-8e007d3d8c39\",\n",
    "    \"pipeline.github.repository\": \"matiasdahl/dev-mnist-digits-demo-pipeline\",\n",
    "    \"pipeline.github.workflow\": \"Run automated tests, pipeline and deploy results to static reporting site\",\n",
    "    \"pipeline.github.runner_name\": \"Hosted Agent\",\n",
    "    \"pipeline.github.run_id\": \"3617573418\",\n",
    "    \"pipeline.github.actor\": \"matiasdahl\",\n",
    "    \"pipeline.github.job\": \"run-tests-pipeline-and-persist-pipeline-outputs\",\n",
    "    \"pipeline.github.base_ref\": \"\",\n",
    "    \"pipeline.github.head_ref\": \"\",\n",
    "    \"pipeline.github.sha\": \"ace0d01011d5e914f1921450dd5a59c11367b38d\",\n",
    "    \"pipeline.github.ref\": \"refs/heads/development\",\n",
    "    \"pipeline.github.ref_type\": \"branch\",\n",
    "    \"pipeline.github.ref_name\": \"development\",\n",
    "    \"pipeline.github.event_name\": \"schedule\",\n",
    "    \"task.notebook\": \"notebooks/summary.py\",\n",
    "    \"task.max_nr_retries\": \"1\",\n",
    "    \"run.retry_nr\": \"0\",\n",
    "    \"task.timeout_s\": \"None\",\n",
    "    \"task.num_cpus\": 1,\n",
    "    \"_opentelemetry_traceparent\": \"00-7b30746d3e4cf784eea19788fe421997-8b3a7f61df40b1b6-01\",\n",
    "}\n"
   ]
  },
  {
   "cell_type": "code",
   "execution_count": 4,
   "id": "5313297e",
   "metadata": {
    "execution": {
     "iopub.execute_input": "2022-12-05T06:45:09.003603Z",
     "iopub.status.busy": "2022-12-05T06:45:09.002715Z",
     "iopub.status.idle": "2022-12-05T06:45:09.007367Z",
     "shell.execute_reply": "2022-12-05T06:45:09.006568Z"
    },
    "lines_to_next_cell": 0,
    "papermill": {
     "duration": 0.011314,
     "end_time": "2022-12-05T06:45:09.009104",
     "exception": false,
     "start_time": "2022-12-05T06:45:08.997790",
     "status": "completed"
    },
    "tags": []
   },
   "outputs": [],
   "source": [
    "# -----------------------------------------------------------------------"
   ]
  },
  {
   "cell_type": "markdown",
   "id": "9475326d",
   "metadata": {
    "papermill": {
     "duration": 0.003629,
     "end_time": "2022-12-05T06:45:09.016515",
     "exception": false,
     "start_time": "2022-12-05T06:45:09.012886",
     "status": "completed"
    },
    "tags": []
   },
   "source": [
    "---"
   ]
  },
  {
   "cell_type": "markdown",
   "id": "4f117fb9",
   "metadata": {
    "lines_to_next_cell": 2,
    "papermill": {
     "duration": 0.004462,
     "end_time": "2022-12-05T06:45:09.024074",
     "exception": false,
     "start_time": "2022-12-05T06:45:09.019612",
     "status": "completed"
    },
    "tags": []
   },
   "source": [
    "### Notebook code"
   ]
  },
  {
   "cell_type": "code",
   "execution_count": 5,
   "id": "b3d8c853",
   "metadata": {
    "execution": {
     "iopub.execute_input": "2022-12-05T06:45:09.032373Z",
     "iopub.status.busy": "2022-12-05T06:45:09.031801Z",
     "iopub.status.idle": "2022-12-05T06:45:10.471771Z",
     "shell.execute_reply": "2022-12-05T06:45:10.470388Z"
    },
    "papermill": {
     "duration": 1.446424,
     "end_time": "2022-12-05T06:45:10.473998",
     "exception": false,
     "start_time": "2022-12-05T06:45:09.027574",
     "status": "completed"
    },
    "tags": []
   },
   "outputs": [],
   "source": [
    "#\n",
    "import pandas as pd\n",
    "import matplotlib.pyplot as plt\n",
    "\n",
    "#\n",
    "from pynb_dag_runner.tasks.task_opentelemetry_logging import PydarLogger"
   ]
  },
  {
   "cell_type": "code",
   "execution_count": 6,
   "id": "b59ab5ec",
   "metadata": {
    "execution": {
     "iopub.execute_input": "2022-12-05T06:45:10.484532Z",
     "iopub.status.busy": "2022-12-05T06:45:10.484100Z",
     "iopub.status.idle": "2022-12-05T06:45:10.668849Z",
     "shell.execute_reply": "2022-12-05T06:45:10.666588Z"
    },
    "papermill": {
     "duration": 0.193479,
     "end_time": "2022-12-05T06:45:10.671792",
     "exception": false,
     "start_time": "2022-12-05T06:45:10.478313",
     "status": "completed"
    },
    "tags": []
   },
   "outputs": [
    {
     "name": "stderr",
     "output_type": "stream",
     "text": [
      "2022-12-05 06:45:10,490\tINFO worker.py:842 -- Connecting to existing Ray cluster at address: 172.17.0.2:6379\n"
     ]
    }
   ],
   "source": [
    "logger = PydarLogger(P=P)"
   ]
  },
  {
   "cell_type": "code",
   "execution_count": 7,
   "id": "927b5261",
   "metadata": {
    "execution": {
     "iopub.execute_input": "2022-12-05T06:45:10.682053Z",
     "iopub.status.busy": "2022-12-05T06:45:10.681474Z",
     "iopub.status.idle": "2022-12-05T06:45:10.688448Z",
     "shell.execute_reply": "2022-12-05T06:45:10.687300Z"
    },
    "papermill": {
     "duration": 0.015716,
     "end_time": "2022-12-05T06:45:10.691441",
     "exception": false,
     "start_time": "2022-12-05T06:45:10.675725",
     "status": "completed"
    },
    "tags": []
   },
   "outputs": [],
   "source": [
    "from pynb_dag_runner.tasks.task_opentelemetry_logging import (\n",
    "    PydarLogger,\n",
    "    get_logged_values,\n",
    ")\n",
    "from pynb_dag_runner.opentelemetry_helpers import _get_all_spans, Spans"
   ]
  },
  {
   "cell_type": "code",
   "execution_count": 8,
   "id": "0d57835f",
   "metadata": {
    "execution": {
     "iopub.execute_input": "2022-12-05T06:45:10.702814Z",
     "iopub.status.busy": "2022-12-05T06:45:10.702484Z",
     "iopub.status.idle": "2022-12-05T06:45:10.712156Z",
     "shell.execute_reply": "2022-12-05T06:45:10.711271Z"
    },
    "papermill": {
     "duration": 0.018799,
     "end_time": "2022-12-05T06:45:10.714766",
     "exception": false,
     "start_time": "2022-12-05T06:45:10.695967",
     "status": "completed"
    },
    "tags": []
   },
   "outputs": [],
   "source": [
    "def get_model_benchmarks():\n",
    "    \"\"\"\n",
    "    Query the OpenTelemetry logs for *this pipeline run* and return\n",
    "    all key-values logged from all runs of the benchmark-model.py task\n",
    "\n",
    "    For testing a json file with OpenTelemetry spans (as an array)\n",
    "    can be used as follows:\n",
    "\n",
    "    - Create output directory `mkdir /tmp/spans`\n",
    "    - Run unit tests. This will create pipeline-outputs/opentelemetry-spans.json\n",
    "    - Convert this json-array into jsonl format as follows\n",
    "\n",
    "    jq -c '.[]' /pipeline-outputs/opentelemetry-spans.json > /tmp/spans/data.txt\n",
    "\n",
    "    \"\"\"\n",
    "    spans: Spans = Spans(_get_all_spans())\n",
    "    print(f\"Found {len(spans)} spans\")\n",
    "\n",
    "    benchmark_spans = (\n",
    "        spans\n",
    "        # -\n",
    "        .filter([\"name\"], \"execute-task\")\n",
    "        # -\n",
    "        .filter([\"attributes\", \"task.notebook\"], \"notebooks/benchmark-model.py\")\n",
    "    )\n",
    "\n",
    "    result = []\n",
    "    for s in benchmark_spans:\n",
    "        result.append(\n",
    "            {\n",
    "                \"span_id\": s[\"context\"][\"span_id\"],\n",
    "                \"nr_train_images\": s[\"attributes\"][\"task.nr_train_images\"],\n",
    "                \"data\": get_logged_values(spans.bound_under(s)),\n",
    "            }\n",
    "        )\n",
    "\n",
    "    return result\n",
    "\n",
    "\n",
    "def adjust_pandas(df):\n",
    "    def column_renamer(col_name: str) -> str:\n",
    "        return (\n",
    "            col_name\n",
    "            # -- 'data.roc_auc_per_digit.4' -> 'roc_auc.4'\n",
    "            .replace(\"data.roc_auc_per_digit\", \"roc_auc\")\n",
    "            # -- 'data.roc_auc_class_mean' -> 'roc_auc_mean'\n",
    "            .replace(\"data.roc_auc_class_mean\", \"roc_auc_mean\")\n",
    "        )\n",
    "\n",
    "    return df.rename(column_renamer, axis=\"columns\").sort_values(by=\"nr_train_images\")"
   ]
  },
  {
   "cell_type": "code",
   "execution_count": 9,
   "id": "b3d475f3",
   "metadata": {
    "execution": {
     "iopub.execute_input": "2022-12-05T06:45:10.728361Z",
     "iopub.status.busy": "2022-12-05T06:45:10.727803Z",
     "iopub.status.idle": "2022-12-05T06:45:10.778719Z",
     "shell.execute_reply": "2022-12-05T06:45:10.777869Z"
    },
    "papermill": {
     "duration": 0.060404,
     "end_time": "2022-12-05T06:45:10.780747",
     "exception": false,
     "start_time": "2022-12-05T06:45:10.720343",
     "status": "completed"
    },
    "tags": []
   },
   "outputs": [
    {
     "name": "stdout",
     "output_type": "stream",
     "text": [
      "Found 420 spans\n"
     ]
    }
   ],
   "source": [
    "df_data = adjust_pandas(pd.json_normalize(get_model_benchmarks()))"
   ]
  },
  {
   "cell_type": "code",
   "execution_count": 10,
   "id": "59e201f1",
   "metadata": {
    "execution": {
     "iopub.execute_input": "2022-12-05T06:45:10.791481Z",
     "iopub.status.busy": "2022-12-05T06:45:10.790986Z",
     "iopub.status.idle": "2022-12-05T06:45:10.826801Z",
     "shell.execute_reply": "2022-12-05T06:45:10.825586Z"
    },
    "papermill": {
     "duration": 0.046107,
     "end_time": "2022-12-05T06:45:10.831632",
     "exception": false,
     "start_time": "2022-12-05T06:45:10.785525",
     "status": "completed"
    },
    "tags": []
   },
   "outputs": [
    {
     "data": {
      "text/html": [
       "<div>\n",
       "<style scoped>\n",
       "    .dataframe tbody tr th:only-of-type {\n",
       "        vertical-align: middle;\n",
       "    }\n",
       "\n",
       "    .dataframe tbody tr th {\n",
       "        vertical-align: top;\n",
       "    }\n",
       "\n",
       "    .dataframe thead th {\n",
       "        text-align: right;\n",
       "    }\n",
       "</style>\n",
       "<table border=\"1\" class=\"dataframe\">\n",
       "  <thead>\n",
       "    <tr style=\"text-align: right;\">\n",
       "      <th></th>\n",
       "      <th>span_id</th>\n",
       "      <th>nr_train_images</th>\n",
       "      <th>roc_auc_mean</th>\n",
       "      <th>roc_auc.0</th>\n",
       "      <th>roc_auc.1</th>\n",
       "      <th>roc_auc.2</th>\n",
       "      <th>roc_auc.3</th>\n",
       "      <th>roc_auc.4</th>\n",
       "      <th>roc_auc.5</th>\n",
       "      <th>roc_auc.6</th>\n",
       "      <th>roc_auc.7</th>\n",
       "      <th>roc_auc.8</th>\n",
       "      <th>roc_auc.9</th>\n",
       "    </tr>\n",
       "  </thead>\n",
       "  <tbody>\n",
       "    <tr>\n",
       "      <th>3</th>\n",
       "      <td>0xcf29a9dbc0303f4c</td>\n",
       "      <td>600</td>\n",
       "      <td>0.9989</td>\n",
       "      <td>1.0</td>\n",
       "      <td>0.9992</td>\n",
       "      <td>1.0</td>\n",
       "      <td>0.9997</td>\n",
       "      <td>0.9991</td>\n",
       "      <td>0.9990</td>\n",
       "      <td>0.9999</td>\n",
       "      <td>0.9998</td>\n",
       "      <td>0.9940</td>\n",
       "      <td>0.9988</td>\n",
       "    </tr>\n",
       "    <tr>\n",
       "      <th>1</th>\n",
       "      <td>0x09633b128fdd623b</td>\n",
       "      <td>800</td>\n",
       "      <td>0.9990</td>\n",
       "      <td>1.0</td>\n",
       "      <td>0.9988</td>\n",
       "      <td>1.0</td>\n",
       "      <td>0.9998</td>\n",
       "      <td>0.9995</td>\n",
       "      <td>0.9991</td>\n",
       "      <td>0.9999</td>\n",
       "      <td>0.9999</td>\n",
       "      <td>0.9930</td>\n",
       "      <td>0.9994</td>\n",
       "    </tr>\n",
       "    <tr>\n",
       "      <th>0</th>\n",
       "      <td>0xcd8a15fae63dbd4e</td>\n",
       "      <td>1000</td>\n",
       "      <td>0.9992</td>\n",
       "      <td>1.0</td>\n",
       "      <td>0.9989</td>\n",
       "      <td>1.0</td>\n",
       "      <td>0.9998</td>\n",
       "      <td>0.9996</td>\n",
       "      <td>0.9994</td>\n",
       "      <td>0.9999</td>\n",
       "      <td>0.9998</td>\n",
       "      <td>0.9955</td>\n",
       "      <td>0.9995</td>\n",
       "    </tr>\n",
       "    <tr>\n",
       "      <th>2</th>\n",
       "      <td>0x3d2909ca0d7a17d4</td>\n",
       "      <td>1200</td>\n",
       "      <td>0.9994</td>\n",
       "      <td>1.0</td>\n",
       "      <td>0.9991</td>\n",
       "      <td>1.0</td>\n",
       "      <td>0.9999</td>\n",
       "      <td>0.9997</td>\n",
       "      <td>0.9997</td>\n",
       "      <td>0.9999</td>\n",
       "      <td>0.9998</td>\n",
       "      <td>0.9960</td>\n",
       "      <td>0.9998</td>\n",
       "    </tr>\n",
       "  </tbody>\n",
       "</table>\n",
       "</div>"
      ],
      "text/plain": [
       "              span_id  nr_train_images  roc_auc_mean  roc_auc.0  roc_auc.1  \\\n",
       "3  0xcf29a9dbc0303f4c              600        0.9989        1.0     0.9992   \n",
       "1  0x09633b128fdd623b              800        0.9990        1.0     0.9988   \n",
       "0  0xcd8a15fae63dbd4e             1000        0.9992        1.0     0.9989   \n",
       "2  0x3d2909ca0d7a17d4             1200        0.9994        1.0     0.9991   \n",
       "\n",
       "   roc_auc.2  roc_auc.3  roc_auc.4  roc_auc.5  roc_auc.6  roc_auc.7  \\\n",
       "3        1.0     0.9997     0.9991     0.9990     0.9999     0.9998   \n",
       "1        1.0     0.9998     0.9995     0.9991     0.9999     0.9999   \n",
       "0        1.0     0.9998     0.9996     0.9994     0.9999     0.9998   \n",
       "2        1.0     0.9999     0.9997     0.9997     0.9999     0.9998   \n",
       "\n",
       "   roc_auc.8  roc_auc.9  \n",
       "3     0.9940     0.9988  \n",
       "1     0.9930     0.9994  \n",
       "0     0.9955     0.9995  \n",
       "2     0.9960     0.9998  "
      ]
     },
     "execution_count": 10,
     "metadata": {},
     "output_type": "execute_result"
    }
   ],
   "source": [
    "df_data.round(4)"
   ]
  },
  {
   "cell_type": "code",
   "execution_count": 11,
   "id": "7144a440",
   "metadata": {
    "execution": {
     "iopub.execute_input": "2022-12-05T06:45:10.842442Z",
     "iopub.status.busy": "2022-12-05T06:45:10.842093Z",
     "iopub.status.idle": "2022-12-05T06:45:11.112792Z",
     "shell.execute_reply": "2022-12-05T06:45:11.112014Z"
    },
    "papermill": {
     "duration": 0.278598,
     "end_time": "2022-12-05T06:45:11.114830",
     "exception": false,
     "start_time": "2022-12-05T06:45:10.836232",
     "status": "completed"
    },
    "tags": []
   },
   "outputs": [
    {
     "data": {
      "image/png": "[encoded data removed]",
      "text/plain": [
       "<Figure size 1600x400 with 1 Axes>"
      ]
     },
     "metadata": {},
     "output_type": "display_data"
    }
   ],
   "source": [
    "def plot_classifier_performance_summary(df_data):\n",
    "    fig, ax = plt.subplots(nrows=1, ncols=1, figsize=(16, 4), sharex=True)\n",
    "\n",
    "    #\n",
    "    ax.plot(\n",
    "        df_data[\"nr_train_images\"], df_data[\"roc_auc_mean\"], marker=\"o\", linestyle=\"--\"\n",
    "    )\n",
    "    ax.set_title(\n",
    "        f\"ROC AUC digit classifier performance on evaluation digits\", fontsize=17\n",
    "    )\n",
    "    ax.set_xlabel(\"Total number of digits in training set\", fontsize=14)\n",
    "    ax.set_ylabel(\"Mean ROC AUC\", fontsize=14)\n",
    "\n",
    "    fig.tight_layout()\n",
    "    fig.show()\n",
    "\n",
    "    return fig\n",
    "\n",
    "\n",
    "fig = plot_classifier_performance_summary(df_data)"
   ]
  },
  {
   "cell_type": "code",
   "execution_count": 12,
   "id": "73e7ac1f",
   "metadata": {
    "execution": {
     "iopub.execute_input": "2022-12-05T06:45:11.126941Z",
     "iopub.status.busy": "2022-12-05T06:45:11.126354Z",
     "iopub.status.idle": "2022-12-05T06:45:11.226660Z",
     "shell.execute_reply": "2022-12-05T06:45:11.225641Z"
    },
    "papermill": {
     "duration": 0.108824,
     "end_time": "2022-12-05T06:45:11.228854",
     "exception": false,
     "start_time": "2022-12-05T06:45:11.120030",
     "status": "completed"
    },
    "tags": []
   },
   "outputs": [],
   "source": [
    "logger.log_figure(\"auc-roc-model-performances.png\", fig)"
   ]
  },
  {
   "cell_type": "code",
   "execution_count": 13,
   "id": "5904ad9d",
   "metadata": {
    "execution": {
     "iopub.execute_input": "2022-12-05T06:45:11.240539Z",
     "iopub.status.busy": "2022-12-05T06:45:11.240235Z",
     "iopub.status.idle": "2022-12-05T06:45:11.245295Z",
     "shell.execute_reply": "2022-12-05T06:45:11.244607Z"
    },
    "papermill": {
     "duration": 0.014482,
     "end_time": "2022-12-05T06:45:11.248597",
     "exception": false,
     "start_time": "2022-12-05T06:45:11.234115",
     "status": "completed"
    },
    "tags": []
   },
   "outputs": [],
   "source": [
    "###"
   ]
  },
  {
   "cell_type": "code",
   "execution_count": null,
   "id": "c0353ae4",
   "metadata": {
    "papermill": {
     "duration": 0.005404,
     "end_time": "2022-12-05T06:45:11.258885",
     "exception": false,
     "start_time": "2022-12-05T06:45:11.253481",
     "status": "completed"
    },
    "tags": []
   },
   "outputs": [],
   "source": []
  }
 ],
 "metadata": {
  "jupytext": {
   "cell_metadata_filter": "tags,-all",
   "main_language": "python",
   "notebook_metadata_filter": "-all"
  },
  "language_info": {
   "codemirror_mode": {
    "name": "ipython",
    "version": 3
   },
   "file_extension": ".py",
   "mimetype": "text/x-python",
   "name": "python",
   "nbconvert_exporter": "python",
   "pygments_lexer": "ipython3",
   "version": "3.8.10"
  },
  "papermill": {
   "default_parameters": {},
   "duration": 5.09186,
   "end_time": "2022-12-05T06:45:12.385583",
   "environment_variables": {},
   "exception": null,
   "input_path": "/home/host_user/workspace/mnist-demo-pipeline/mnist-demo-pipeline/notebooks/temp-notebook-s3zajd34.ipynb",
   "output_path": "notebooks/summary.ipynb",
   "parameters": {
    "P": {
     "_opentelemetry_traceparent": "00-7b30746d3e4cf784eea19788fe421997-8b3a7f61df40b1b6-01",
     "pipeline.data_lake_root": "/pipeline-outputs/data-lake",
     "pipeline.github.actor": "matiasdahl",
     "pipeline.github.base_ref": "",
     "pipeline.github.event_name": "schedule",
     "pipeline.github.head_ref": "",
     "pipeline.github.job": "run-tests-pipeline-and-persist-pipeline-outputs",
     "pipeline.github.ref": "refs/heads/development",
     "pipeline.github.ref_name": "development",
     "pipeline.github.ref_type": "branch",
     "pipeline.github.repository": "matiasdahl/dev-mnist-digits-demo-pipeline",
     "pipeline.github.run_id": "3617573418",
     "pipeline.github.runner_name": "Hosted Agent",
     "pipeline.github.sha": "ace0d01011d5e914f1921450dd5a59c11367b38d",
     "pipeline.github.workflow": "Run automated tests, pipeline and deploy results to static reporting site",
     "pipeline.pipeline_run_id": "271a878e-0055-4dd4-8408-8e007d3d8c39",
     "pipeline.run_environment": "ci",
     "run.retry_nr": "0",
     "task.max_nr_retries": "1",
     "task.notebook": "notebooks/summary.py",
     "task.num_cpus": 1,
     "task.timeout_s": "None"
    }
   },
   "start_time": "2022-12-05T06:45:07.293723",
   "version": "2.3.3"
  }
 },
 "nbformat": 4,
 "nbformat_minor": 5
}