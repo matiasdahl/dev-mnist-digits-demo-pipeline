{
 "cells": [
  {
   "cell_type": "markdown",
   "id": "fec43e60",
   "metadata": {
    "papermill": {
     "duration": 0.007756,
     "end_time": "2022-12-05T06:44:02.062873",
     "exception": false,
     "start_time": "2022-12-05T06:44:02.055117",
     "status": "completed"
    },
    "tags": []
   },
   "source": [
    "# Split digits and labels into separate training and testing data sets"
   ]
  },
  {
   "cell_type": "markdown",
   "id": "9c72e1a7",
   "metadata": {
    "papermill": {
     "duration": 0.004218,
     "end_time": "2022-12-05T06:44:02.072282",
     "exception": false,
     "start_time": "2022-12-05T06:44:02.068064",
     "status": "completed"
    },
    "tags": []
   },
   "source": [
    "### Determine run parameters"
   ]
  },
  {
   "cell_type": "code",
   "execution_count": 1,
   "id": "e377d0dd",
   "metadata": {
    "execution": {
     "iopub.execute_input": "2022-12-05T06:44:02.088449Z",
     "iopub.status.busy": "2022-12-05T06:44:02.088024Z",
     "iopub.status.idle": "2022-12-05T06:44:02.104681Z",
     "shell.execute_reply": "2022-12-05T06:44:02.103773Z"
    },
    "lines_to_next_cell": 0,
    "papermill": {
     "duration": 0.031761,
     "end_time": "2022-12-05T06:44:02.107937",
     "exception": false,
     "start_time": "2022-12-05T06:44:02.076176",
     "status": "completed"
    },
    "tags": []
   },
   "outputs": [],
   "source": [
    "# ----------------- Parameters for interactive development --------------\n",
    "P = {\n",
    "    \"pipeline.data_lake_root\": \"/pipeline-outputs/data-lake\",\n",
    "    \"task.train_test_ratio\": 0.7,\n",
    "}"
   ]
  },
  {
   "cell_type": "code",
   "execution_count": 2,
   "id": "7c44bd65",
   "metadata": {
    "execution": {
     "iopub.execute_input": "2022-12-05T06:44:02.117709Z",
     "iopub.status.busy": "2022-12-05T06:44:02.117251Z",
     "iopub.status.idle": "2022-12-05T06:44:02.123371Z",
     "shell.execute_reply": "2022-12-05T06:44:02.121839Z"
    },
    "lines_to_next_cell": 0,
    "papermill": {
     "duration": 0.015084,
     "end_time": "2022-12-05T06:44:02.127084",
     "exception": false,
     "start_time": "2022-12-05T06:44:02.112000",
     "status": "completed"
    },
    "tags": [
     "parameters"
    ]
   },
   "outputs": [],
   "source": [
    "# - During automated runs parameters will be injected in the below cell -"
   ]
  },
  {
   "cell_type": "code",
   "execution_count": 3,
   "id": "a0050493",
   "metadata": {
    "execution": {
     "iopub.execute_input": "2022-12-05T06:44:02.138533Z",
     "iopub.status.busy": "2022-12-05T06:44:02.138205Z",
     "iopub.status.idle": "2022-12-05T06:44:02.146976Z",
     "shell.execute_reply": "2022-12-05T06:44:02.146026Z"
    },
    "papermill": {
     "duration": 0.017774,
     "end_time": "2022-12-05T06:44:02.150538",
     "exception": false,
     "start_time": "2022-12-05T06:44:02.132764",
     "status": "completed"
    },
    "tags": [
     "injected-parameters"
    ]
   },
   "outputs": [],
   "source": [
    "# Parameters\n",
    "P = {\n",
    "    \"pipeline.data_lake_root\": \"/pipeline-outputs/data-lake\",\n",
    "    \"pipeline.run_environment\": \"ci\",\n",
    "    \"pipeline.pipeline_run_id\": \"271a878e-0055-4dd4-8408-8e007d3d8c39\",\n",
    "    \"pipeline.github.repository\": \"matiasdahl/dev-mnist-digits-demo-pipeline\",\n",
    "    \"pipeline.github.workflow\": \"Run automated tests, pipeline and deploy results to static reporting site\",\n",
    "    \"pipeline.github.runner_name\": \"Hosted Agent\",\n",
    "    \"pipeline.github.run_id\": \"3617573418\",\n",
    "    \"pipeline.github.actor\": \"matiasdahl\",\n",
    "    \"pipeline.github.job\": \"run-tests-pipeline-and-persist-pipeline-outputs\",\n",
    "    \"pipeline.github.base_ref\": \"\",\n",
    "    \"pipeline.github.head_ref\": \"\",\n",
    "    \"pipeline.github.sha\": \"ace0d01011d5e914f1921450dd5a59c11367b38d\",\n",
    "    \"pipeline.github.ref\": \"refs/heads/development\",\n",
    "    \"pipeline.github.ref_type\": \"branch\",\n",
    "    \"pipeline.github.ref_name\": \"development\",\n",
    "    \"pipeline.github.event_name\": \"schedule\",\n",
    "    \"task.train_test_ratio\": 0.7,\n",
    "    \"task.notebook\": \"notebooks/split-train-test.py\",\n",
    "    \"task.max_nr_retries\": \"1\",\n",
    "    \"run.retry_nr\": \"0\",\n",
    "    \"task.timeout_s\": \"None\",\n",
    "    \"task.num_cpus\": 1,\n",
    "    \"_opentelemetry_traceparent\": \"00-7b30746d3e4cf784eea19788fe421997-017e03546483cff0-01\",\n",
    "}\n"
   ]
  },
  {
   "cell_type": "code",
   "execution_count": 4,
   "id": "2edbbf2c",
   "metadata": {
    "execution": {
     "iopub.execute_input": "2022-12-05T06:44:02.161118Z",
     "iopub.status.busy": "2022-12-05T06:44:02.160509Z",
     "iopub.status.idle": "2022-12-05T06:44:02.165411Z",
     "shell.execute_reply": "2022-12-05T06:44:02.164581Z"
    },
    "lines_to_next_cell": 0,
    "papermill": {
     "duration": 0.013533,
     "end_time": "2022-12-05T06:44:02.169183",
     "exception": false,
     "start_time": "2022-12-05T06:44:02.155650",
     "status": "completed"
    },
    "tags": []
   },
   "outputs": [],
   "source": [
    "# -----------------------------------------------------------------------"
   ]
  },
  {
   "cell_type": "markdown",
   "id": "ef5f42fd",
   "metadata": {
    "papermill": {
     "duration": 0.003352,
     "end_time": "2022-12-05T06:44:02.177746",
     "exception": false,
     "start_time": "2022-12-05T06:44:02.174394",
     "status": "completed"
    },
    "tags": []
   },
   "source": [
    "---"
   ]
  },
  {
   "cell_type": "markdown",
   "id": "aaf6690d",
   "metadata": {
    "lines_to_next_cell": 2,
    "papermill": {
     "duration": 0.012199,
     "end_time": "2022-12-05T06:44:02.192961",
     "exception": false,
     "start_time": "2022-12-05T06:44:02.180762",
     "status": "completed"
    },
    "tags": []
   },
   "source": [
    "### Notebook code"
   ]
  },
  {
   "cell_type": "code",
   "execution_count": 5,
   "id": "c4ffef3e",
   "metadata": {
    "execution": {
     "iopub.execute_input": "2022-12-05T06:44:02.207505Z",
     "iopub.status.busy": "2022-12-05T06:44:02.206394Z",
     "iopub.status.idle": "2022-12-05T06:44:02.827044Z",
     "shell.execute_reply": "2022-12-05T06:44:02.826083Z"
    },
    "papermill": {
     "duration": 0.631304,
     "end_time": "2022-12-05T06:44:02.830610",
     "exception": false,
     "start_time": "2022-12-05T06:44:02.199306",
     "status": "completed"
    },
    "tags": []
   },
   "outputs": [
    {
     "name": "stderr",
     "output_type": "stream",
     "text": [
      "2022-12-05 06:44:02,642\tINFO worker.py:842 -- Connecting to existing Ray cluster at address: 172.17.0.2:6379\n"
     ]
    }
   ],
   "source": [
    "from common.io import datalake_root, read_numpy, write_numpy\n",
    "from pynb_dag_runner.tasks.task_opentelemetry_logging import PydarLogger\n",
    "\n",
    "logger = PydarLogger(P)"
   ]
  },
  {
   "cell_type": "markdown",
   "id": "21ddeeb1",
   "metadata": {
    "papermill": {
     "duration": 0.004072,
     "end_time": "2022-12-05T06:44:02.839603",
     "exception": false,
     "start_time": "2022-12-05T06:44:02.835531",
     "status": "completed"
    },
    "tags": []
   },
   "source": [
    "## Load and split digits data"
   ]
  },
  {
   "cell_type": "code",
   "execution_count": 6,
   "id": "1d06c17e",
   "metadata": {
    "execution": {
     "iopub.execute_input": "2022-12-05T06:44:02.849250Z",
     "iopub.status.busy": "2022-12-05T06:44:02.848378Z",
     "iopub.status.idle": "2022-12-05T06:44:02.857420Z",
     "shell.execute_reply": "2022-12-05T06:44:02.856418Z"
    },
    "papermill": {
     "duration": 0.017323,
     "end_time": "2022-12-05T06:44:02.860879",
     "exception": false,
     "start_time": "2022-12-05T06:44:02.843556",
     "status": "completed"
    },
    "tags": []
   },
   "outputs": [],
   "source": [
    "X = read_numpy(datalake_root(P) / \"raw\" / \"digits.numpy\")\n",
    "y = read_numpy(datalake_root(P) / \"raw\" / \"labels.numpy\")"
   ]
  },
  {
   "cell_type": "code",
   "execution_count": 7,
   "id": "2e278923",
   "metadata": {
    "execution": {
     "iopub.execute_input": "2022-12-05T06:44:02.871948Z",
     "iopub.status.busy": "2022-12-05T06:44:02.871642Z",
     "iopub.status.idle": "2022-12-05T06:44:03.574965Z",
     "shell.execute_reply": "2022-12-05T06:44:03.574151Z"
    },
    "papermill": {
     "duration": 0.714071,
     "end_time": "2022-12-05T06:44:03.579761",
     "exception": false,
     "start_time": "2022-12-05T06:44:02.865690",
     "status": "completed"
    },
    "tags": []
   },
   "outputs": [],
   "source": [
    "from sklearn.model_selection import train_test_split\n",
    "\n",
    "X_train, X_test, y_train, y_test = train_test_split(\n",
    "    X,\n",
    "    y,\n",
    "    train_size=P[\"task.train_test_ratio\"],\n",
    "    test_size=None,\n",
    "    stratify=y,\n",
    "    shuffle=True,\n",
    "    random_state=1,\n",
    ")\n",
    "\n",
    "# assert nr of pixels per image is the same for all image vectors\n",
    "assert X.shape[1] == X_train.shape[1] == X_test.shape[1]\n",
    "\n",
    "# assert that the (X, y)-pairs have compatible sizes (for both train and test)\n",
    "assert X_train.shape[0] == len(y_train)\n",
    "assert X_test.shape[0] == len(y_test)\n",
    "\n",
    "# assert that all data is used\n",
    "assert len(y) == len(y_train) + len(y_test)"
   ]
  },
  {
   "cell_type": "code",
   "execution_count": 8,
   "id": "4451da8a",
   "metadata": {
    "execution": {
     "iopub.execute_input": "2022-12-05T06:44:03.590407Z",
     "iopub.status.busy": "2022-12-05T06:44:03.589817Z",
     "iopub.status.idle": "2022-12-05T06:44:03.600390Z",
     "shell.execute_reply": "2022-12-05T06:44:03.599449Z"
    },
    "papermill": {
     "duration": 0.018945,
     "end_time": "2022-12-05T06:44:03.603018",
     "exception": false,
     "start_time": "2022-12-05T06:44:03.584073",
     "status": "completed"
    },
    "tags": []
   },
   "outputs": [
    {
     "name": "stdout",
     "output_type": "stream",
     "text": [
      " - Logging nr_digits_train (int) : 1257\n",
      " - Logging nr_digits_test (int) : 540\n"
     ]
    }
   ],
   "source": [
    "logger.log_int(\"nr_digits_train\", len(y_train))\n",
    "logger.log_int(\"nr_digits_test\", len(y_test))"
   ]
  },
  {
   "cell_type": "markdown",
   "id": "515d2e6c",
   "metadata": {
    "papermill": {
     "duration": 0.004567,
     "end_time": "2022-12-05T06:44:03.610839",
     "exception": false,
     "start_time": "2022-12-05T06:44:03.606272",
     "status": "completed"
    },
    "tags": []
   },
   "source": [
    "### Persist training and test data sets to separate files"
   ]
  },
  {
   "cell_type": "code",
   "execution_count": 9,
   "id": "1238a9fc",
   "metadata": {
    "execution": {
     "iopub.execute_input": "2022-12-05T06:44:03.620381Z",
     "iopub.status.busy": "2022-12-05T06:44:03.619576Z",
     "iopub.status.idle": "2022-12-05T06:44:03.635080Z",
     "shell.execute_reply": "2022-12-05T06:44:03.634197Z"
    },
    "papermill": {
     "duration": 0.022488,
     "end_time": "2022-12-05T06:44:03.637026",
     "exception": false,
     "start_time": "2022-12-05T06:44:03.614538",
     "status": "completed"
    },
    "tags": []
   },
   "outputs": [],
   "source": [
    "write_numpy(datalake_root(P) / \"train-data\" / \"digits.numpy\", X_train)\n",
    "write_numpy(datalake_root(P) / \"train-data\" / \"labels.numpy\", y_train)\n",
    "\n",
    "#\n",
    "write_numpy(datalake_root(P) / \"test-data\" / \"digits.numpy\", X_test)\n",
    "write_numpy(datalake_root(P) / \"test-data\" / \"labels.numpy\", y_test)"
   ]
  },
  {
   "cell_type": "code",
   "execution_count": null,
   "id": "5038312b",
   "metadata": {
    "papermill": {
     "duration": 0.003254,
     "end_time": "2022-12-05T06:44:03.644406",
     "exception": false,
     "start_time": "2022-12-05T06:44:03.641152",
     "status": "completed"
    },
    "tags": []
   },
   "outputs": [],
   "source": []
  }
 ],
 "metadata": {
  "jupytext": {
   "cell_metadata_filter": "tags,-all",
   "main_language": "python",
   "notebook_metadata_filter": "-all"
  },
  "language_info": {
   "codemirror_mode": {
    "name": "ipython",
    "version": 3
   },
   "file_extension": ".py",
   "mimetype": "text/x-python",
   "name": "python",
   "nbconvert_exporter": "python",
   "pygments_lexer": "ipython3",
   "version": "3.8.10"
  },
  "papermill": {
   "default_parameters": {},
   "duration": 4.687144,
   "end_time": "2022-12-05T06:44:04.773756",
   "environment_variables": {},
   "exception": null,
   "input_path": "/home/host_user/workspace/mnist-demo-pipeline/mnist-demo-pipeline/notebooks/temp-notebook-xfycw45h.ipynb",
   "output_path": "notebooks/split-train-test.ipynb",
   "parameters": {
    "P": {
     "_opentelemetry_traceparent": "00-7b30746d3e4cf784eea19788fe421997-017e03546483cff0-01",
     "pipeline.data_lake_root": "/pipeline-outputs/data-lake",
     "pipeline.github.actor": "matiasdahl",
     "pipeline.github.base_ref": "",
     "pipeline.github.event_name": "schedule",
     "pipeline.github.head_ref": "",
     "pipeline.github.job": "run-tests-pipeline-and-persist-pipeline-outputs",
     "pipeline.github.ref": "refs/heads/development",
     "pipeline.github.ref_name": "development",
     "pipeline.github.ref_type": "branch",
     "pipeline.github.repository": "matiasdahl/dev-mnist-digits-demo-pipeline",
     "pipeline.github.run_id": "3617573418",
     "pipeline.github.runner_name": "Hosted Agent",
     "pipeline.github.sha": "ace0d01011d5e914f1921450dd5a59c11367b38d",
     "pipeline.github.workflow": "Run automated tests, pipeline and deploy results to static reporting site",
     "pipeline.pipeline_run_id": "271a878e-0055-4dd4-8408-8e007d3d8c39",
     "pipeline.run_environment": "ci",
     "run.retry_nr": "0",
     "task.max_nr_retries": "1",
     "task.notebook": "notebooks/split-train-test.py",
     "task.num_cpus": 1,
     "task.timeout_s": "None",
     "task.train_test_ratio": 0.7
    }
   },
   "start_time": "2022-12-05T06:44:00.086612",
   "version": "2.3.3"
  }
 },
 "nbformat": 4,
 "nbformat_minor": 5
}