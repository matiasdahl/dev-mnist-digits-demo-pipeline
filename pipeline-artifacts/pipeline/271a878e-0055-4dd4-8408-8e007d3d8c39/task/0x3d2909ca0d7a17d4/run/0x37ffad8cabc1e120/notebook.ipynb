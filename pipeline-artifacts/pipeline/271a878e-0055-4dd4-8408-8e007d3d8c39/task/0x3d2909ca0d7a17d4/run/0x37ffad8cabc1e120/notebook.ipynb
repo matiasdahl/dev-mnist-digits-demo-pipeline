{
 "cells": [
  {
   "cell_type": "markdown",
   "id": "cb0602d7",
   "metadata": {
    "papermill": {
     "duration": 0.028587,
     "end_time": "2022-12-05T06:44:26.751960",
     "exception": false,
     "start_time": "2022-12-05T06:44:26.723373",
     "status": "completed"
    },
    "tags": []
   },
   "source": [
    "# Benchmark model\n",
    "\n",
    "The purpose of this notebook is to benchmark persisted onnx-model (trained in the\n",
    "previous step) against evaluation set."
   ]
  },
  {
   "cell_type": "markdown",
   "id": "4d3f97b1",
   "metadata": {
    "papermill": {
     "duration": 0.005674,
     "end_time": "2022-12-05T06:44:26.764824",
     "exception": false,
     "start_time": "2022-12-05T06:44:26.759150",
     "status": "completed"
    },
    "tags": []
   },
   "source": [
    "### Determine run parameters"
   ]
  },
  {
   "cell_type": "code",
   "execution_count": 1,
   "id": "7a37f4e4",
   "metadata": {
    "execution": {
     "iopub.execute_input": "2022-12-05T06:44:26.778687Z",
     "iopub.status.busy": "2022-12-05T06:44:26.778209Z",
     "iopub.status.idle": "2022-12-05T06:44:26.795787Z",
     "shell.execute_reply": "2022-12-05T06:44:26.788465Z"
    },
    "lines_to_next_cell": 0,
    "papermill": {
     "duration": 0.027969,
     "end_time": "2022-12-05T06:44:26.798963",
     "exception": false,
     "start_time": "2022-12-05T06:44:26.770994",
     "status": "completed"
    },
    "tags": []
   },
   "outputs": [],
   "source": [
    "# ----------------- Parameters for interactive development --------------\n",
    "P = {\n",
    "    \"pipeline.data_lake_root\": \"/pipeline-outputs/data-lake\",\n",
    "    \"task.nr_train_images\": 600,\n",
    "}"
   ]
  },
  {
   "cell_type": "code",
   "execution_count": 2,
   "id": "6ba6e80c",
   "metadata": {
    "execution": {
     "iopub.execute_input": "2022-12-05T06:44:26.812166Z",
     "iopub.status.busy": "2022-12-05T06:44:26.811826Z",
     "iopub.status.idle": "2022-12-05T06:44:26.815755Z",
     "shell.execute_reply": "2022-12-05T06:44:26.814998Z"
    },
    "lines_to_next_cell": 0,
    "papermill": {
     "duration": 0.015716,
     "end_time": "2022-12-05T06:44:26.820354",
     "exception": false,
     "start_time": "2022-12-05T06:44:26.804638",
     "status": "completed"
    },
    "tags": [
     "parameters"
    ]
   },
   "outputs": [],
   "source": [
    "# - During automated runs parameters will be injected in the below cell -"
   ]
  },
  {
   "cell_type": "code",
   "execution_count": 3,
   "id": "87455eec",
   "metadata": {
    "execution": {
     "iopub.execute_input": "2022-12-05T06:44:26.832472Z",
     "iopub.status.busy": "2022-12-05T06:44:26.832170Z",
     "iopub.status.idle": "2022-12-05T06:44:26.838607Z",
     "shell.execute_reply": "2022-12-05T06:44:26.837837Z"
    },
    "papermill": {
     "duration": 0.016498,
     "end_time": "2022-12-05T06:44:26.842146",
     "exception": false,
     "start_time": "2022-12-05T06:44:26.825648",
     "status": "completed"
    },
    "tags": [
     "injected-parameters"
    ]
   },
   "outputs": [],
   "source": [
    "# Parameters\n",
    "P = {\n",
    "    \"pipeline.data_lake_root\": \"/pipeline-outputs/data-lake\",\n",
    "    \"pipeline.run_environment\": \"ci\",\n",
    "    \"pipeline.pipeline_run_id\": \"271a878e-0055-4dd4-8408-8e007d3d8c39\",\n",
    "    \"pipeline.github.repository\": \"matiasdahl/dev-mnist-digits-demo-pipeline\",\n",
    "    \"pipeline.github.workflow\": \"Run automated tests, pipeline and deploy results to static reporting site\",\n",
    "    \"pipeline.github.runner_name\": \"Hosted Agent\",\n",
    "    \"pipeline.github.run_id\": \"3617573418\",\n",
    "    \"pipeline.github.actor\": \"matiasdahl\",\n",
    "    \"pipeline.github.job\": \"run-tests-pipeline-and-persist-pipeline-outputs\",\n",
    "    \"pipeline.github.base_ref\": \"\",\n",
    "    \"pipeline.github.head_ref\": \"\",\n",
    "    \"pipeline.github.sha\": \"ace0d01011d5e914f1921450dd5a59c11367b38d\",\n",
    "    \"pipeline.github.ref\": \"refs/heads/development\",\n",
    "    \"pipeline.github.ref_type\": \"branch\",\n",
    "    \"pipeline.github.ref_name\": \"development\",\n",
    "    \"pipeline.github.event_name\": \"schedule\",\n",
    "    \"task.nr_train_images\": 1200,\n",
    "    \"task.notebook\": \"notebooks/benchmark-model.py\",\n",
    "    \"task.max_nr_retries\": \"1\",\n",
    "    \"run.retry_nr\": \"0\",\n",
    "    \"task.timeout_s\": \"None\",\n",
    "    \"task.num_cpus\": 1,\n",
    "    \"_opentelemetry_traceparent\": \"00-7b30746d3e4cf784eea19788fe421997-b90f3de2adfdfd1a-01\",\n",
    "}\n"
   ]
  },
  {
   "cell_type": "code",
   "execution_count": 4,
   "id": "8b734bbb",
   "metadata": {
    "execution": {
     "iopub.execute_input": "2022-12-05T06:44:26.854551Z",
     "iopub.status.busy": "2022-12-05T06:44:26.854227Z",
     "iopub.status.idle": "2022-12-05T06:44:26.857787Z",
     "shell.execute_reply": "2022-12-05T06:44:26.857071Z"
    },
    "lines_to_next_cell": 0,
    "papermill": {
     "duration": 0.013974,
     "end_time": "2022-12-05T06:44:26.861385",
     "exception": false,
     "start_time": "2022-12-05T06:44:26.847411",
     "status": "completed"
    },
    "tags": []
   },
   "outputs": [],
   "source": [
    "# -----------------------------------------------------------------------"
   ]
  },
  {
   "cell_type": "markdown",
   "id": "b7e419f2",
   "metadata": {
    "papermill": {
     "duration": 0.005571,
     "end_time": "2022-12-05T06:44:26.872373",
     "exception": false,
     "start_time": "2022-12-05T06:44:26.866802",
     "status": "completed"
    },
    "tags": []
   },
   "source": [
    "---"
   ]
  },
  {
   "cell_type": "markdown",
   "id": "a602cc5f",
   "metadata": {
    "lines_to_next_cell": 2,
    "papermill": {
     "duration": 0.005519,
     "end_time": "2022-12-05T06:44:26.883885",
     "exception": false,
     "start_time": "2022-12-05T06:44:26.878366",
     "status": "completed"
    },
    "tags": []
   },
   "source": [
    "### Notebook code"
   ]
  },
  {
   "cell_type": "code",
   "execution_count": 5,
   "id": "9037776c",
   "metadata": {
    "execution": {
     "iopub.execute_input": "2022-12-05T06:44:26.897540Z",
     "iopub.status.busy": "2022-12-05T06:44:26.897175Z",
     "iopub.status.idle": "2022-12-05T06:44:28.480866Z",
     "shell.execute_reply": "2022-12-05T06:44:28.479461Z"
    },
    "papermill": {
     "duration": 1.593257,
     "end_time": "2022-12-05T06:44:28.483350",
     "exception": false,
     "start_time": "2022-12-05T06:44:26.890093",
     "status": "completed"
    },
    "tags": []
   },
   "outputs": [
    {
     "name": "stderr",
     "output_type": "stream",
     "text": [
      "2022-12-05 06:44:28,291\tINFO worker.py:842 -- Connecting to existing Ray cluster at address: 172.17.0.2:6379\n"
     ]
    }
   ],
   "source": [
    "import itertools as it\n",
    "\n",
    "#\n",
    "import numpy as np\n",
    "import matplotlib.pyplot as plt\n",
    "\n",
    "#\n",
    "from pynb_dag_runner.tasks.task_opentelemetry_logging import PydarLogger\n",
    "\n",
    "#\n",
    "from common.io import datalake_root\n",
    "\n",
    "logger = PydarLogger(P)"
   ]
  },
  {
   "cell_type": "markdown",
   "id": "9fe1abcb",
   "metadata": {
    "papermill": {
     "duration": 0.006278,
     "end_time": "2022-12-05T06:44:28.496028",
     "exception": false,
     "start_time": "2022-12-05T06:44:28.489750",
     "status": "completed"
    },
    "tags": []
   },
   "source": [
    "## Load persisted onnx-model and evaluation data"
   ]
  },
  {
   "cell_type": "code",
   "execution_count": 6,
   "id": "a6aa27db",
   "metadata": {
    "execution": {
     "iopub.execute_input": "2022-12-05T06:44:28.510623Z",
     "iopub.status.busy": "2022-12-05T06:44:28.510173Z",
     "iopub.status.idle": "2022-12-05T06:44:28.515298Z",
     "shell.execute_reply": "2022-12-05T06:44:28.514511Z"
    },
    "papermill": {
     "duration": 0.015548,
     "end_time": "2022-12-05T06:44:28.518704",
     "exception": false,
     "start_time": "2022-12-05T06:44:28.503156",
     "status": "completed"
    },
    "tags": []
   },
   "outputs": [],
   "source": [
    "from common.io import read_onnx, get_onnx_inputs, get_onnx_outputs, read_numpy"
   ]
  },
  {
   "cell_type": "code",
   "execution_count": 7,
   "id": "96b267a5",
   "metadata": {
    "execution": {
     "iopub.execute_input": "2022-12-05T06:44:28.533224Z",
     "iopub.status.busy": "2022-12-05T06:44:28.532941Z",
     "iopub.status.idle": "2022-12-05T06:44:28.549029Z",
     "shell.execute_reply": "2022-12-05T06:44:28.548166Z"
    },
    "lines_to_next_cell": 0,
    "papermill": {
     "duration": 0.024573,
     "end_time": "2022-12-05T06:44:28.550832",
     "exception": false,
     "start_time": "2022-12-05T06:44:28.526259",
     "status": "completed"
    },
    "tags": []
   },
   "outputs": [],
   "source": [
    "onnx_inference_session = read_onnx(\n",
    "    datalake_root(P)\n",
    "    / \"models\"\n",
    "    / f\"nr_train_images={P['task.nr_train_images']}\"\n",
    "    / \"model.onnx\"\n",
    ")"
   ]
  },
  {
   "cell_type": "markdown",
   "id": "69ff3692",
   "metadata": {
    "papermill": {
     "duration": 0.006432,
     "end_time": "2022-12-05T06:44:28.565891",
     "exception": false,
     "start_time": "2022-12-05T06:44:28.559459",
     "status": "completed"
    },
    "tags": []
   },
   "source": [
    "### Record structure of inputs and outputs for ONNX model\n",
    "\n",
    "(this should likely be done in training notebook)"
   ]
  },
  {
   "cell_type": "code",
   "execution_count": 8,
   "id": "5b66c61c",
   "metadata": {
    "execution": {
     "iopub.execute_input": "2022-12-05T06:44:28.580332Z",
     "iopub.status.busy": "2022-12-05T06:44:28.580049Z",
     "iopub.status.idle": "2022-12-05T06:44:28.588242Z",
     "shell.execute_reply": "2022-12-05T06:44:28.586754Z"
    },
    "papermill": {
     "duration": 0.019153,
     "end_time": "2022-12-05T06:44:28.592549",
     "exception": false,
     "start_time": "2022-12-05T06:44:28.573396",
     "status": "completed"
    },
    "tags": []
   },
   "outputs": [
    {
     "name": "stdout",
     "output_type": "stream",
     "text": [
      "{\n",
      "  \"inputs\": [\n",
      "    {\n",
      "      \"name\": \"float_input_8x8_image\",\n",
      "      \"shape\": [\n",
      "        null,\n",
      "        64\n",
      "      ],\n",
      "      \"type\": \"tensor(float)\"\n",
      "    }\n",
      "  ],\n",
      "  \"outputs\": [\n",
      "    {\n",
      "      \"name\": \"output_label\",\n",
      "      \"shape\": [\n",
      "        null\n",
      "      ],\n",
      "      \"type\": \"tensor(int64)\"\n",
      "    },\n",
      "    {\n",
      "      \"name\": \"output_probability\",\n",
      "      \"shape\": [],\n",
      "      \"type\": \"seq(map(int64,tensor(float)))\"\n",
      "    }\n",
      "  ]\n",
      "}\n"
     ]
    }
   ],
   "source": [
    "import json\n",
    "\n",
    "onnx_io = json.dumps(\n",
    "    {\n",
    "        \"inputs\": get_onnx_inputs(onnx_inference_session),\n",
    "        \"outputs\": get_onnx_outputs(onnx_inference_session),\n",
    "    },\n",
    "    indent=2,\n",
    ")\n",
    "\n",
    "\n",
    "logger.log_artefact(\"onnx_io_structure.json\", onnx_io)\n",
    "print(onnx_io)"
   ]
  },
  {
   "cell_type": "markdown",
   "id": "82ea065b",
   "metadata": {
    "papermill": {
     "duration": 0.006411,
     "end_time": "2022-12-05T06:44:28.604661",
     "exception": false,
     "start_time": "2022-12-05T06:44:28.598250",
     "status": "completed"
    },
    "tags": []
   },
   "source": [
    "### Evaluate model performance on evaluation data set"
   ]
  },
  {
   "cell_type": "code",
   "execution_count": 9,
   "id": "4f8ecd08",
   "metadata": {
    "execution": {
     "iopub.execute_input": "2022-12-05T06:44:28.617031Z",
     "iopub.status.busy": "2022-12-05T06:44:28.616760Z",
     "iopub.status.idle": "2022-12-05T06:44:28.623828Z",
     "shell.execute_reply": "2022-12-05T06:44:28.622552Z"
    },
    "papermill": {
     "duration": 0.01779,
     "end_time": "2022-12-05T06:44:28.628193",
     "exception": false,
     "start_time": "2022-12-05T06:44:28.610403",
     "status": "completed"
    },
    "tags": []
   },
   "outputs": [],
   "source": [
    "# load evaluation data\n",
    "X_test = read_numpy(datalake_root(P) / \"test-data\" / \"digits.numpy\")\n",
    "y_test = read_numpy(datalake_root(P) / \"test-data\" / \"labels.numpy\")"
   ]
  },
  {
   "cell_type": "code",
   "execution_count": 10,
   "id": "fc689ba4",
   "metadata": {
    "execution": {
     "iopub.execute_input": "2022-12-05T06:44:28.642279Z",
     "iopub.status.busy": "2022-12-05T06:44:28.641989Z",
     "iopub.status.idle": "2022-12-05T06:44:28.729279Z",
     "shell.execute_reply": "2022-12-05T06:44:28.728404Z"
    },
    "papermill": {
     "duration": 0.097247,
     "end_time": "2022-12-05T06:44:28.731802",
     "exception": false,
     "start_time": "2022-12-05T06:44:28.634555",
     "status": "completed"
    },
    "tags": []
   },
   "outputs": [],
   "source": [
    "def get_model_outputs(X, onnx_inference_session):\n",
    "    y_pred_labels, y_pred_map = onnx_inference_session.run(\n",
    "        [\"output_label\", \"output_probability\"],\n",
    "        {\"float_input_8x8_image\": X.astype(np.float32)},\n",
    "    )\n",
    "    y_pred_probs = np.array(\n",
    "        [[probabilities[digit] for digit in range(10)] for probabilities in y_pred_map]\n",
    "    )\n",
    "\n",
    "    assert y_pred_labels.shape == (X.shape[0],)\n",
    "    assert y_pred_probs.shape == (X.shape[0], 10)\n",
    "\n",
    "    return y_pred_labels, y_pred_probs\n",
    "\n",
    "\n",
    "# Note: as shown in the training notebook, the predicted labels and probabilities\n",
    "# computed below need not be compatible.\n",
    "y_pred_labels_test, y_pred_probs_test = get_model_outputs(\n",
    "    X_test, onnx_inference_session\n",
    ")"
   ]
  },
  {
   "cell_type": "markdown",
   "id": "51a5cbd7",
   "metadata": {
    "papermill": {
     "duration": 0.008667,
     "end_time": "2022-12-05T06:44:28.747321",
     "exception": false,
     "start_time": "2022-12-05T06:44:28.738654",
     "status": "completed"
    },
    "tags": []
   },
   "source": [
    "### Confusion matrix"
   ]
  },
  {
   "cell_type": "code",
   "execution_count": 11,
   "id": "7f2821af",
   "metadata": {
    "execution": {
     "iopub.execute_input": "2022-12-05T06:44:28.761212Z",
     "iopub.status.busy": "2022-12-05T06:44:28.760782Z",
     "iopub.status.idle": "2022-12-05T06:44:28.764888Z",
     "shell.execute_reply": "2022-12-05T06:44:28.764038Z"
    },
    "papermill": {
     "duration": 0.017052,
     "end_time": "2022-12-05T06:44:28.769873",
     "exception": false,
     "start_time": "2022-12-05T06:44:28.752821",
     "status": "completed"
    },
    "tags": []
   },
   "outputs": [],
   "source": [
    "# TODO"
   ]
  },
  {
   "cell_type": "markdown",
   "id": "1c7fb559",
   "metadata": {
    "papermill": {
     "duration": 0.006313,
     "end_time": "2022-12-05T06:44:28.783303",
     "exception": false,
     "start_time": "2022-12-05T06:44:28.776990",
     "status": "completed"
    },
    "tags": []
   },
   "source": [
    "### Plot predicted probabilities for each classifier over all evaluation digit images"
   ]
  },
  {
   "cell_type": "code",
   "execution_count": 12,
   "id": "19e87227",
   "metadata": {
    "execution": {
     "iopub.execute_input": "2022-12-05T06:44:28.798214Z",
     "iopub.status.busy": "2022-12-05T06:44:28.797809Z",
     "iopub.status.idle": "2022-12-05T06:44:34.934793Z",
     "shell.execute_reply": "2022-12-05T06:44:34.930835Z"
    },
    "papermill": {
     "duration": 6.148939,
     "end_time": "2022-12-05T06:44:34.938979",
     "exception": false,
     "start_time": "2022-12-05T06:44:28.790040",
     "status": "completed"
    },
    "tags": []
   },
   "outputs": [
    {
     "data": {
      "image/png": "[encoded data removed]",
      "text/plain": [
       "<Figure size 1600x600 with 10 Axes>"
      ]
     },
     "metadata": {},
     "output_type": "display_data"
    }
   ],
   "source": [
    "def plot_per_digit_probabilities(y_pred_probs):\n",
    "    fig, axs = plt.subplots(nrows=2, ncols=5, figsize=(16, 6))\n",
    "\n",
    "    for (r, c), digit, ax in zip(\n",
    "        it.product(range(2), range(5)), range(10), axs.reshape(-1)\n",
    "    ):\n",
    "        ax.hist(y_pred_probs_test[:, digit], bins=20)\n",
    "\n",
    "        ax.set_title(f\"Digit {digit}\")\n",
    "        if r == 1 and c == 2:\n",
    "            ax.set_xlabel(\"probability\", fontsize=16)\n",
    "\n",
    "        if c == 0:\n",
    "            ax.set_ylabel(\"counts\", fontsize=16)\n",
    "        ax.set_yscale(\"log\")\n",
    "\n",
    "    fig.tight_layout()\n",
    "    fig.suptitle(\n",
    "        f\"Distributions of prediction probabilities for each digit \"\n",
    "        f\"(on evaluation data, n={y_pred_probs.shape[0]})\",\n",
    "        fontsize=20,\n",
    "    )\n",
    "    fig.tight_layout()\n",
    "    fig.show()\n",
    "\n",
    "    return fig\n",
    "\n",
    "\n",
    "fig = plot_per_digit_probabilities(y_pred_probs_test)"
   ]
  },
  {
   "cell_type": "markdown",
   "id": "07affa45",
   "metadata": {
    "papermill": {
     "duration": 0.009848,
     "end_time": "2022-12-05T06:44:34.958373",
     "exception": false,
     "start_time": "2022-12-05T06:44:34.948525",
     "status": "completed"
    },
    "tags": []
   },
   "source": [
    "From the above distributions we see that most digits have clear separation between\n",
    "high and lower probabilities. Morover, in each case there is roughly an order of\n",
    "magnitude more of digits with low probabilities. This is compatible with digits\n",
    "being roughly evenly distributed in the data."
   ]
  },
  {
   "cell_type": "code",
   "execution_count": 13,
   "id": "18abcc86",
   "metadata": {
    "execution": {
     "iopub.execute_input": "2022-12-05T06:44:34.980363Z",
     "iopub.status.busy": "2022-12-05T06:44:34.980005Z",
     "iopub.status.idle": "2022-12-05T06:44:35.855878Z",
     "shell.execute_reply": "2022-12-05T06:44:35.854405Z"
    },
    "papermill": {
     "duration": 0.888551,
     "end_time": "2022-12-05T06:44:35.858659",
     "exception": false,
     "start_time": "2022-12-05T06:44:34.970108",
     "status": "completed"
    },
    "tags": []
   },
   "outputs": [],
   "source": [
    "logger.log_figure(\"per-digit-probabilities.png\", fig)"
   ]
  },
  {
   "cell_type": "markdown",
   "id": "38969b22",
   "metadata": {
    "papermill": {
     "duration": 0.007358,
     "end_time": "2022-12-05T06:44:35.873894",
     "exception": false,
     "start_time": "2022-12-05T06:44:35.866536",
     "status": "completed"
    },
    "tags": []
   },
   "source": [
    "### Plot ROC curves for individual one-vs-rest classifiers"
   ]
  },
  {
   "cell_type": "code",
   "execution_count": 14,
   "id": "85f49eba",
   "metadata": {
    "execution": {
     "iopub.execute_input": "2022-12-05T06:44:35.890501Z",
     "iopub.status.busy": "2022-12-05T06:44:35.890128Z",
     "iopub.status.idle": "2022-12-05T06:44:36.416281Z",
     "shell.execute_reply": "2022-12-05T06:44:36.414657Z"
    },
    "papermill": {
     "duration": 0.539349,
     "end_time": "2022-12-05T06:44:36.420465",
     "exception": false,
     "start_time": "2022-12-05T06:44:35.881116",
     "status": "completed"
    },
    "tags": []
   },
   "outputs": [],
   "source": [
    "from sklearn import metrics"
   ]
  },
  {
   "cell_type": "code",
   "execution_count": 15,
   "id": "e9217d9a",
   "metadata": {
    "execution": {
     "iopub.execute_input": "2022-12-05T06:44:36.436597Z",
     "iopub.status.busy": "2022-12-05T06:44:36.436255Z",
     "iopub.status.idle": "2022-12-05T06:44:38.881667Z",
     "shell.execute_reply": "2022-12-05T06:44:38.880860Z"
    },
    "papermill": {
     "duration": 2.456319,
     "end_time": "2022-12-05T06:44:38.884356",
     "exception": false,
     "start_time": "2022-12-05T06:44:36.428037",
     "status": "completed"
    },
    "tags": []
   },
   "outputs": [
    {
     "data": {
      "image/png": "[encoded data removed]",
      "text/plain": [
       "<Figure size 1600x800 with 10 Axes>"
      ]
     },
     "metadata": {},
     "output_type": "display_data"
    }
   ],
   "source": [
    "def plot_roc_curves(y, y_pred_probs):\n",
    "    # based on example code\n",
    "    # https://scikit-learn.org/stable/auto_examples/model_selection/plot_roc.html\n",
    "\n",
    "    fig, axs = plt.subplots(nrows=2, ncols=5, figsize=(16, 8))\n",
    "\n",
    "    roc_auc_dict = {}\n",
    "\n",
    "    for (r, c), digit, ax in zip(\n",
    "        it.product(range(2), range(5)), range(10), axs.reshape(-1)\n",
    "    ):\n",
    "        fpr, tpr, _ = metrics.roc_curve(y == digit, y_pred_probs[:, digit])\n",
    "        auc = metrics.auc(fpr, tpr)\n",
    "        roc_auc_dict[str(digit)] = auc\n",
    "\n",
    "        ax.plot(fpr, tpr, label=f\"ROC AUC={round(auc, 3)}\")\n",
    "\n",
    "        ax.set_title(f\"\\nDigit {digit}\", fontsize=16)\n",
    "        if r == 1:\n",
    "            ax.set_xlabel(\"FPR\", fontsize=18)\n",
    "\n",
    "        if c == 0:\n",
    "            ax.set_ylabel(\"TPR\", fontsize=18)\n",
    "\n",
    "        ax.set_xlim([-0.05, 1.05])\n",
    "        ax.set_ylim([-0.05, 1.05])\n",
    "        ax.legend(loc=\"lower right\", frameon=False, fontsize=14)\n",
    "\n",
    "    fig.tight_layout()\n",
    "    fig.suptitle(\n",
    "        f\"ROC plots for one-vs-rest performances \"\n",
    "        f\"(on evaluation data, n={y_pred_probs_test.shape[1]}\",\n",
    "        fontsize=22,\n",
    "    )\n",
    "    fig.tight_layout()\n",
    "    fig.show()\n",
    "\n",
    "    return roc_auc_dict, fig\n",
    "\n",
    "\n",
    "roc_auc_dict, fig = plot_roc_curves(y_test, y_pred_probs_test)"
   ]
  },
  {
   "cell_type": "code",
   "execution_count": 16,
   "id": "3d83654d",
   "metadata": {
    "execution": {
     "iopub.execute_input": "2022-12-05T06:44:38.906422Z",
     "iopub.status.busy": "2022-12-05T06:44:38.905724Z",
     "iopub.status.idle": "2022-12-05T06:44:40.018228Z",
     "shell.execute_reply": "2022-12-05T06:44:40.017200Z"
    },
    "papermill": {
     "duration": 1.127282,
     "end_time": "2022-12-05T06:44:40.022010",
     "exception": false,
     "start_time": "2022-12-05T06:44:38.894728",
     "status": "completed"
    },
    "tags": []
   },
   "outputs": [],
   "source": [
    "logger.log_figure(\"per-digit-roc-curves.png\", fig)"
   ]
  },
  {
   "cell_type": "code",
   "execution_count": 17,
   "id": "9271fd92",
   "metadata": {
    "execution": {
     "iopub.execute_input": "2022-12-05T06:44:40.053298Z",
     "iopub.status.busy": "2022-12-05T06:44:40.052372Z",
     "iopub.status.idle": "2022-12-05T06:44:40.071660Z",
     "shell.execute_reply": "2022-12-05T06:44:40.069971Z"
    },
    "papermill": {
     "duration": 0.049836,
     "end_time": "2022-12-05T06:44:40.083335",
     "exception": false,
     "start_time": "2022-12-05T06:44:40.033499",
     "status": "completed"
    },
    "tags": []
   },
   "outputs": [
    {
     "data": {
      "text/plain": [
       "{'0': 1.0,\n",
       " '1': 0.9990627928772259,\n",
       " '2': 1.0,\n",
       " '3': 0.9998500468603562,\n",
       " '4': 0.9996951684194482,\n",
       " '5': 0.9997000937207123,\n",
       " '6': 0.999923792104862,\n",
       " '7': 0.9998475842097242,\n",
       " '8': 0.9959804539722572,\n",
       " '9': 0.9998094802621552}"
      ]
     },
     "execution_count": 17,
     "metadata": {},
     "output_type": "execute_result"
    }
   ],
   "source": [
    "roc_auc_dict"
   ]
  },
  {
   "cell_type": "code",
   "execution_count": 18,
   "id": "b6792989",
   "metadata": {
    "execution": {
     "iopub.execute_input": "2022-12-05T06:44:40.102756Z",
     "iopub.status.busy": "2022-12-05T06:44:40.102219Z",
     "iopub.status.idle": "2022-12-05T06:44:40.108604Z",
     "shell.execute_reply": "2022-12-05T06:44:40.107431Z"
    },
    "papermill": {
     "duration": 0.020702,
     "end_time": "2022-12-05T06:44:40.112904",
     "exception": false,
     "start_time": "2022-12-05T06:44:40.092202",
     "status": "completed"
    },
    "tags": []
   },
   "outputs": [
    {
     "name": "stdout",
     "output_type": "stream",
     "text": [
      " - Logging roc_auc_per_digit (json) : {'0': 1.0, '1': 0.9990627928772259, '2': 1.0, '3': 0.9998500468603562, '4': 0.9996951684194482, '5': 0.9997000937207123, '6': 0.999923792104862, '7': 0.9998475842097242, '8': 0.9959804539722572, '9': 0.9998094802621552}\n"
     ]
    }
   ],
   "source": [
    "logger.log_value(\"roc_auc_per_digit\", roc_auc_dict)"
   ]
  },
  {
   "cell_type": "markdown",
   "id": "ebeb24ca",
   "metadata": {
    "papermill": {
     "duration": 0.009051,
     "end_time": "2022-12-05T06:44:40.130889",
     "exception": false,
     "start_time": "2022-12-05T06:44:40.121838",
     "status": "completed"
    },
    "tags": []
   },
   "source": [
    "### Compute and log mean ROC AUC score averaged over all digits"
   ]
  },
  {
   "cell_type": "code",
   "execution_count": 19,
   "id": "c63ee50b",
   "metadata": {
    "execution": {
     "iopub.execute_input": "2022-12-05T06:44:40.150836Z",
     "iopub.status.busy": "2022-12-05T06:44:40.150283Z",
     "iopub.status.idle": "2022-12-05T06:44:40.186436Z",
     "shell.execute_reply": "2022-12-05T06:44:40.185001Z"
    },
    "papermill": {
     "duration": 0.05013,
     "end_time": "2022-12-05T06:44:40.189990",
     "exception": false,
     "start_time": "2022-12-05T06:44:40.139860",
     "status": "completed"
    },
    "tags": []
   },
   "outputs": [
    {
     "name": "stdout",
     "output_type": "stream",
     "text": [
      " - Logging roc_auc_class_mean (float) : 0.999386941242674\n"
     ]
    }
   ],
   "source": [
    "roc_auc_macro = np.mean(list(roc_auc_dict.values()))\n",
    "\n",
    "logger.log_float(\"roc_auc_class_mean\", roc_auc_macro)\n",
    "\n",
    "# assert that the same value can be computed directly using sklearn\n",
    "assert roc_auc_macro == metrics.roc_auc_score(\n",
    "    y_test, y_pred_probs_test, average=\"macro\", multi_class=\"ovr\"\n",
    ")"
   ]
  },
  {
   "cell_type": "code",
   "execution_count": 20,
   "id": "ef93d854",
   "metadata": {
    "execution": {
     "iopub.execute_input": "2022-12-05T06:44:40.210747Z",
     "iopub.status.busy": "2022-12-05T06:44:40.210057Z",
     "iopub.status.idle": "2022-12-05T06:44:40.215197Z",
     "shell.execute_reply": "2022-12-05T06:44:40.213871Z"
    },
    "lines_to_next_cell": 0,
    "papermill": {
     "duration": 0.018394,
     "end_time": "2022-12-05T06:44:40.218233",
     "exception": false,
     "start_time": "2022-12-05T06:44:40.199839",
     "status": "completed"
    },
    "tags": []
   },
   "outputs": [],
   "source": [
    "# ---"
   ]
  },
  {
   "cell_type": "code",
   "execution_count": null,
   "id": "d69796e5",
   "metadata": {
    "papermill": {
     "duration": 0.010861,
     "end_time": "2022-12-05T06:44:40.239281",
     "exception": false,
     "start_time": "2022-12-05T06:44:40.228420",
     "status": "completed"
    },
    "tags": []
   },
   "outputs": [],
   "source": []
  }
 ],
 "metadata": {
  "jupytext": {
   "cell_metadata_filter": "tags,-all",
   "main_language": "python",
   "notebook_metadata_filter": "-all"
  },
  "language_info": {
   "codemirror_mode": {
    "name": "ipython",
    "version": 3
   },
   "file_extension": ".py",
   "mimetype": "text/x-python",
   "name": "python",
   "nbconvert_exporter": "python",
   "pygments_lexer": "ipython3",
   "version": "3.8.10"
  },
  "papermill": {
   "default_parameters": {},
   "duration": 16.580703,
   "end_time": "2022-12-05T06:44:41.576570",
   "environment_variables": {},
   "exception": null,
   "input_path": "/home/host_user/workspace/mnist-demo-pipeline/mnist-demo-pipeline/notebooks/temp-notebook-p8fxtv80.ipynb",
   "output_path": "notebooks/benchmark-model.ipynb",
   "parameters": {
    "P": {
     "_opentelemetry_traceparent": "00-7b30746d3e4cf784eea19788fe421997-b90f3de2adfdfd1a-01",
     "pipeline.data_lake_root": "/pipeline-outputs/data-lake",
     "pipeline.github.actor": "matiasdahl",
     "pipeline.github.base_ref": "",
     "pipeline.github.event_name": "schedule",
     "pipeline.github.head_ref": "",
     "pipeline.github.job": "run-tests-pipeline-and-persist-pipeline-outputs",
     "pipeline.github.ref": "refs/heads/development",
     "pipeline.github.ref_name": "development",
     "pipeline.github.ref_type": "branch",
     "pipeline.github.repository": "matiasdahl/dev-mnist-digits-demo-pipeline",
     "pipeline.github.run_id": "3617573418",
     "pipeline.github.runner_name": "Hosted Agent",
     "pipeline.github.sha": "ace0d01011d5e914f1921450dd5a59c11367b38d",
     "pipeline.github.workflow": "Run automated tests, pipeline and deploy results to static reporting site",
     "pipeline.pipeline_run_id": "271a878e-0055-4dd4-8408-8e007d3d8c39",
     "pipeline.run_environment": "ci",
     "run.retry_nr": "0",
     "task.max_nr_retries": "1",
     "task.notebook": "notebooks/benchmark-model.py",
     "task.nr_train_images": 1200,
     "task.num_cpus": 1,
     "task.timeout_s": "None"
    }
   },
   "start_time": "2022-12-05T06:44:24.995867",
   "version": "2.3.3"
  }
 },
 "nbformat": 4,
 "nbformat_minor": 5
}