{
 "cells": [
  {
   "cell_type": "markdown",
   "id": "072da7a6",
   "metadata": {
    "papermill": {
     "duration": 0.018559,
     "end_time": "2022-12-05T06:43:54.767696",
     "exception": false,
     "start_time": "2022-12-05T06:43:54.749137",
     "status": "completed"
    },
    "tags": []
   },
   "source": [
    "# Ingest toy version of MNIST digit data from sklearn"
   ]
  },
  {
   "cell_type": "markdown",
   "id": "a1ef61f8",
   "metadata": {
    "papermill": {
     "duration": 0.004631,
     "end_time": "2022-12-05T06:43:54.776411",
     "exception": false,
     "start_time": "2022-12-05T06:43:54.771780",
     "status": "completed"
    },
    "tags": []
   },
   "source": [
    "### Determine run parameters"
   ]
  },
  {
   "cell_type": "code",
   "execution_count": 1,
   "id": "e9cfc184",
   "metadata": {
    "execution": {
     "iopub.execute_input": "2022-12-05T06:43:54.785102Z",
     "iopub.status.busy": "2022-12-05T06:43:54.784724Z",
     "iopub.status.idle": "2022-12-05T06:43:54.796121Z",
     "shell.execute_reply": "2022-12-05T06:43:54.795280Z"
    },
    "lines_to_next_cell": 0,
    "papermill": {
     "duration": 0.018847,
     "end_time": "2022-12-05T06:43:54.798600",
     "exception": false,
     "start_time": "2022-12-05T06:43:54.779753",
     "status": "completed"
    },
    "tags": []
   },
   "outputs": [],
   "source": [
    "# ----------------- Parameters for interactive development --------------\n",
    "P = {\n",
    "    \"pipeline.run_environment\": \"dev\",\n",
    "    \"pipeline.data_lake_root\": \"/pipeline-outputs/data-lake\",\n",
    "    \"run.retry_nr\": \"1\",\n",
    "}"
   ]
  },
  {
   "cell_type": "code",
   "execution_count": 2,
   "id": "067dabd9",
   "metadata": {
    "execution": {
     "iopub.execute_input": "2022-12-05T06:43:54.807573Z",
     "iopub.status.busy": "2022-12-05T06:43:54.807015Z",
     "iopub.status.idle": "2022-12-05T06:43:54.811481Z",
     "shell.execute_reply": "2022-12-05T06:43:54.810804Z"
    },
    "lines_to_next_cell": 0,
    "papermill": {
     "duration": 0.01103,
     "end_time": "2022-12-05T06:43:54.813995",
     "exception": false,
     "start_time": "2022-12-05T06:43:54.802965",
     "status": "completed"
    },
    "tags": [
     "parameters"
    ]
   },
   "outputs": [],
   "source": [
    "# - During automated runs parameters will be injected in the below cell -"
   ]
  },
  {
   "cell_type": "code",
   "execution_count": 3,
   "id": "dccdae8a",
   "metadata": {
    "execution": {
     "iopub.execute_input": "2022-12-05T06:43:54.821494Z",
     "iopub.status.busy": "2022-12-05T06:43:54.821183Z",
     "iopub.status.idle": "2022-12-05T06:43:54.826273Z",
     "shell.execute_reply": "2022-12-05T06:43:54.825588Z"
    },
    "papermill": {
     "duration": 0.01177,
     "end_time": "2022-12-05T06:43:54.828718",
     "exception": false,
     "start_time": "2022-12-05T06:43:54.816948",
     "status": "completed"
    },
    "tags": [
     "injected-parameters"
    ]
   },
   "outputs": [],
   "source": [
    "# Parameters\n",
    "P = {\n",
    "    \"pipeline.data_lake_root\": \"/pipeline-outputs/data-lake\",\n",
    "    \"pipeline.run_environment\": \"ci\",\n",
    "    \"pipeline.pipeline_run_id\": \"271a878e-0055-4dd4-8408-8e007d3d8c39\",\n",
    "    \"pipeline.github.repository\": \"matiasdahl/dev-mnist-digits-demo-pipeline\",\n",
    "    \"pipeline.github.workflow\": \"Run automated tests, pipeline and deploy results to static reporting site\",\n",
    "    \"pipeline.github.runner_name\": \"Hosted Agent\",\n",
    "    \"pipeline.github.run_id\": \"3617573418\",\n",
    "    \"pipeline.github.actor\": \"matiasdahl\",\n",
    "    \"pipeline.github.job\": \"run-tests-pipeline-and-persist-pipeline-outputs\",\n",
    "    \"pipeline.github.base_ref\": \"\",\n",
    "    \"pipeline.github.head_ref\": \"\",\n",
    "    \"pipeline.github.sha\": \"ace0d01011d5e914f1921450dd5a59c11367b38d\",\n",
    "    \"pipeline.github.ref\": \"refs/heads/development\",\n",
    "    \"pipeline.github.ref_type\": \"branch\",\n",
    "    \"pipeline.github.ref_name\": \"development\",\n",
    "    \"pipeline.github.event_name\": \"schedule\",\n",
    "    \"task.notebook\": \"notebooks/ingest.py\",\n",
    "    \"task.max_nr_retries\": \"15\",\n",
    "    \"run.retry_nr\": \"10\",\n",
    "    \"task.timeout_s\": \"10\",\n",
    "    \"task.num_cpus\": 1,\n",
    "    \"_opentelemetry_traceparent\": \"00-7b30746d3e4cf784eea19788fe421997-d75a17c12ca9f030-01\",\n",
    "}\n"
   ]
  },
  {
   "cell_type": "code",
   "execution_count": 4,
   "id": "3d51ef97",
   "metadata": {
    "execution": {
     "iopub.execute_input": "2022-12-05T06:43:54.837280Z",
     "iopub.status.busy": "2022-12-05T06:43:54.836415Z",
     "iopub.status.idle": "2022-12-05T06:43:54.840957Z",
     "shell.execute_reply": "2022-12-05T06:43:54.839798Z"
    },
    "lines_to_next_cell": 0,
    "papermill": {
     "duration": 0.011694,
     "end_time": "2022-12-05T06:43:54.843655",
     "exception": false,
     "start_time": "2022-12-05T06:43:54.831961",
     "status": "completed"
    },
    "tags": []
   },
   "outputs": [],
   "source": [
    "# -----------------------------------------------------------------------"
   ]
  },
  {
   "cell_type": "markdown",
   "id": "79a5984c",
   "metadata": {
    "lines_to_next_cell": 2,
    "papermill": {
     "duration": 0.002998,
     "end_time": "2022-12-05T06:43:54.850232",
     "exception": false,
     "start_time": "2022-12-05T06:43:54.847234",
     "status": "completed"
    },
    "tags": []
   },
   "source": [
    "---"
   ]
  },
  {
   "cell_type": "markdown",
   "id": "2f40df1c",
   "metadata": {
    "papermill": {
     "duration": 0.003002,
     "end_time": "2022-12-05T06:43:54.856807",
     "exception": false,
     "start_time": "2022-12-05T06:43:54.853805",
     "status": "completed"
    },
    "tags": []
   },
   "source": [
    "### Simulate different types of failures (for testing timeout and retry logic)"
   ]
  },
  {
   "cell_type": "code",
   "execution_count": 5,
   "id": "574c8033",
   "metadata": {
    "execution": {
     "iopub.execute_input": "2022-12-05T06:43:54.866624Z",
     "iopub.status.busy": "2022-12-05T06:43:54.866099Z",
     "iopub.status.idle": "2022-12-05T06:43:55.440502Z",
     "shell.execute_reply": "2022-12-05T06:43:55.439452Z"
    },
    "papermill": {
     "duration": 0.584224,
     "end_time": "2022-12-05T06:43:55.445118",
     "exception": false,
     "start_time": "2022-12-05T06:43:54.860894",
     "status": "completed"
    },
    "tags": []
   },
   "outputs": [
    {
     "name": "stderr",
     "output_type": "stream",
     "text": [
      "2022-12-05 06:43:55,268\tINFO worker.py:842 -- Connecting to existing Ray cluster at address: 172.17.0.2:6379\n"
     ]
    }
   ],
   "source": [
    "from pynb_dag_runner.tasks.task_opentelemetry_logging import PydarLogger\n",
    "\n",
    "logger = PydarLogger(P)"
   ]
  },
  {
   "cell_type": "code",
   "execution_count": 6,
   "id": "1672cdf3",
   "metadata": {
    "execution": {
     "iopub.execute_input": "2022-12-05T06:43:55.455775Z",
     "iopub.status.busy": "2022-12-05T06:43:55.455172Z",
     "iopub.status.idle": "2022-12-05T06:43:55.464796Z",
     "shell.execute_reply": "2022-12-05T06:43:55.463325Z"
    },
    "papermill": {
     "duration": 0.016997,
     "end_time": "2022-12-05T06:43:55.466890",
     "exception": false,
     "start_time": "2022-12-05T06:43:55.449893",
     "status": "completed"
    },
    "tags": []
   },
   "outputs": [],
   "source": [
    "import time, random\n",
    "\n",
    "\n",
    "def maybe_crash(retry_nr: int, run_environment: str):\n",
    "    if retry_nr == 2 and run_environment == \"ci\":\n",
    "        time.sleep(1e6)\n",
    "\n",
    "    max_retry_nr: int = 3 if run_environment == \"dev\" else 10\n",
    "\n",
    "    if retry_nr < max_retry_nr:\n",
    "        if random.random() < 0.1:\n",
    "            time.sleep(1e6)\n",
    "        else:\n",
    "            raise Exception(\"Simulated exception failure from ingestion step notebook!\")\n",
    "\n",
    "\n",
    "maybe_crash(\n",
    "    retry_nr=int(P[\"run.retry_nr\"]), run_environment=P[\"pipeline.run_environment\"]\n",
    ")"
   ]
  },
  {
   "cell_type": "markdown",
   "id": "5ae87414",
   "metadata": {
    "lines_to_next_cell": 2,
    "papermill": {
     "duration": 0.003507,
     "end_time": "2022-12-05T06:43:55.474726",
     "exception": false,
     "start_time": "2022-12-05T06:43:55.471219",
     "status": "completed"
    },
    "tags": []
   },
   "source": [
    "### Notebook code"
   ]
  },
  {
   "cell_type": "code",
   "execution_count": 7,
   "id": "6b1099b8",
   "metadata": {
    "execution": {
     "iopub.execute_input": "2022-12-05T06:43:55.484391Z",
     "iopub.status.busy": "2022-12-05T06:43:55.483789Z",
     "iopub.status.idle": "2022-12-05T06:43:57.167265Z",
     "shell.execute_reply": "2022-12-05T06:43:57.165991Z"
    },
    "papermill": {
     "duration": 1.691847,
     "end_time": "2022-12-05T06:43:57.169692",
     "exception": false,
     "start_time": "2022-12-05T06:43:55.477845",
     "status": "completed"
    },
    "tags": []
   },
   "outputs": [],
   "source": [
    "from sklearn import datasets\n",
    "\n",
    "#\n",
    "from common.io import datalake_root, write_numpy"
   ]
  },
  {
   "cell_type": "code",
   "execution_count": 8,
   "id": "71c7d6c4",
   "metadata": {
    "execution": {
     "iopub.execute_input": "2022-12-05T06:43:57.180983Z",
     "iopub.status.busy": "2022-12-05T06:43:57.180427Z",
     "iopub.status.idle": "2022-12-05T06:43:57.200811Z",
     "shell.execute_reply": "2022-12-05T06:43:57.199537Z"
    },
    "lines_to_next_cell": 2,
    "papermill": {
     "duration": 0.029148,
     "end_time": "2022-12-05T06:43:57.203543",
     "exception": false,
     "start_time": "2022-12-05T06:43:57.174395",
     "status": "completed"
    },
    "tags": []
   },
   "outputs": [],
   "source": [
    "digits = datasets.load_digits()\n",
    "\n",
    "X = digits[\"data\"]\n",
    "y = digits[\"target\"]"
   ]
  },
  {
   "cell_type": "code",
   "execution_count": 9,
   "id": "fd9a1050",
   "metadata": {
    "execution": {
     "iopub.execute_input": "2022-12-05T06:43:57.214179Z",
     "iopub.status.busy": "2022-12-05T06:43:57.213863Z",
     "iopub.status.idle": "2022-12-05T06:43:57.233035Z",
     "shell.execute_reply": "2022-12-05T06:43:57.231918Z"
    },
    "papermill": {
     "duration": 0.027432,
     "end_time": "2022-12-05T06:43:57.235169",
     "exception": false,
     "start_time": "2022-12-05T06:43:57.207737",
     "status": "completed"
    },
    "tags": []
   },
   "outputs": [
    {
     "name": "stdout",
     "output_type": "stream",
     "text": [
      " - Logging data_shape (json) : [1797, 64]\n",
      " - Logging target_shape (json) : [1797]\n"
     ]
    },
    {
     "data": {
      "text/plain": [
       "((1797, 64), (1797,))"
      ]
     },
     "execution_count": 9,
     "metadata": {},
     "output_type": "execute_result"
    }
   ],
   "source": [
    "logger.log_value(\"data_shape\", list(X.shape))\n",
    "logger.log_value(\"target_shape\", list(y.shape))\n",
    "\n",
    "X.shape, y.shape"
   ]
  },
  {
   "cell_type": "code",
   "execution_count": 10,
   "id": "1c0a99e5",
   "metadata": {
    "execution": {
     "iopub.execute_input": "2022-12-05T06:43:57.250021Z",
     "iopub.status.busy": "2022-12-05T06:43:57.249132Z",
     "iopub.status.idle": "2022-12-05T06:43:57.265652Z",
     "shell.execute_reply": "2022-12-05T06:43:57.264553Z"
    },
    "papermill": {
     "duration": 0.030228,
     "end_time": "2022-12-05T06:43:57.269217",
     "exception": false,
     "start_time": "2022-12-05T06:43:57.238989",
     "status": "completed"
    },
    "tags": []
   },
   "outputs": [],
   "source": [
    "write_numpy(datalake_root(P) / \"raw\" / \"digits.numpy\", X)\n",
    "write_numpy(datalake_root(P) / \"raw\" / \"labels.numpy\", y)"
   ]
  },
  {
   "cell_type": "code",
   "execution_count": null,
   "id": "52b29286",
   "metadata": {
    "papermill": {
     "duration": 0.003889,
     "end_time": "2022-12-05T06:43:57.277373",
     "exception": false,
     "start_time": "2022-12-05T06:43:57.273484",
     "status": "completed"
    },
    "tags": []
   },
   "outputs": [],
   "source": []
  }
 ],
 "metadata": {
  "jupytext": {
   "cell_metadata_filter": "tags,-all",
   "main_language": "python",
   "notebook_metadata_filter": "-all"
  },
  "language_info": {
   "codemirror_mode": {
    "name": "ipython",
    "version": 3
   },
   "file_extension": ".py",
   "mimetype": "text/x-python",
   "name": "python",
   "nbconvert_exporter": "python",
   "pygments_lexer": "ipython3",
   "version": "3.8.10"
  },
  "papermill": {
   "default_parameters": {},
   "duration": 5.12796,
   "end_time": "2022-12-05T06:43:58.205119",
   "environment_variables": {},
   "exception": null,
   "input_path": "/home/host_user/workspace/mnist-demo-pipeline/mnist-demo-pipeline/notebooks/temp-notebook-hiqx5n58.ipynb",
   "output_path": "notebooks/ingest.ipynb",
   "parameters": {
    "P": {
     "_opentelemetry_traceparent": "00-7b30746d3e4cf784eea19788fe421997-d75a17c12ca9f030-01",
     "pipeline.data_lake_root": "/pipeline-outputs/data-lake",
     "pipeline.github.actor": "matiasdahl",
     "pipeline.github.base_ref": "",
     "pipeline.github.event_name": "schedule",
     "pipeline.github.head_ref": "",
     "pipeline.github.job": "run-tests-pipeline-and-persist-pipeline-outputs",
     "pipeline.github.ref": "refs/heads/development",
     "pipeline.github.ref_name": "development",
     "pipeline.github.ref_type": "branch",
     "pipeline.github.repository": "matiasdahl/dev-mnist-digits-demo-pipeline",
     "pipeline.github.run_id": "3617573418",
     "pipeline.github.runner_name": "Hosted Agent",
     "pipeline.github.sha": "ace0d01011d5e914f1921450dd5a59c11367b38d",
     "pipeline.github.workflow": "Run automated tests, pipeline and deploy results to static reporting site",
     "pipeline.pipeline_run_id": "271a878e-0055-4dd4-8408-8e007d3d8c39",
     "pipeline.run_environment": "ci",
     "run.retry_nr": "10",
     "task.max_nr_retries": "15",
     "task.notebook": "notebooks/ingest.py",
     "task.num_cpus": 1,
     "task.timeout_s": "10"
    }
   },
   "start_time": "2022-12-05T06:43:53.077159",
   "version": "2.3.3"
  }
 },
 "nbformat": 4,
 "nbformat_minor": 5
}