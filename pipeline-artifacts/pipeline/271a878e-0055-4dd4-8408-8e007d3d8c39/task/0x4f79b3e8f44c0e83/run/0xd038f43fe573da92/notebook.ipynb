{
 "cells": [
  {
   "cell_type": "markdown",
   "id": "1a2d0eb2",
   "metadata": {
    "tags": [
     "papermill-error-cell-tag"
    ]
   },
   "source": [
    "<span style=\"color:red; font-family:Helvetica Neue, Helvetica, Arial, sans-serif; font-size:2em;\">An Exception was encountered at '<a href=\"#papermill-error-cell\">In [6]</a>'.</span>"
   ]
  },
  {
   "cell_type": "markdown",
   "id": "e3de4ab6",
   "metadata": {
    "papermill": {
     "duration": 0.00553,
     "end_time": "2022-12-05T06:43:29.851799",
     "exception": false,
     "start_time": "2022-12-05T06:43:29.846269",
     "status": "completed"
    },
    "tags": []
   },
   "source": [
    "# Ingest toy version of MNIST digit data from sklearn"
   ]
  },
  {
   "cell_type": "markdown",
   "id": "25133ca6",
   "metadata": {
    "papermill": {
     "duration": 0.002957,
     "end_time": "2022-12-05T06:43:29.858337",
     "exception": false,
     "start_time": "2022-12-05T06:43:29.855380",
     "status": "completed"
    },
    "tags": []
   },
   "source": [
    "### Determine run parameters"
   ]
  },
  {
   "cell_type": "code",
   "execution_count": 1,
   "id": "e7cc5b9e",
   "metadata": {
    "execution": {
     "iopub.execute_input": "2022-12-05T06:43:29.867821Z",
     "iopub.status.busy": "2022-12-05T06:43:29.866961Z",
     "iopub.status.idle": "2022-12-05T06:43:29.876717Z",
     "shell.execute_reply": "2022-12-05T06:43:29.875778Z"
    },
    "lines_to_next_cell": 0,
    "papermill": {
     "duration": 0.017099,
     "end_time": "2022-12-05T06:43:29.879291",
     "exception": false,
     "start_time": "2022-12-05T06:43:29.862192",
     "status": "completed"
    },
    "tags": []
   },
   "outputs": [],
   "source": [
    "# ----------------- Parameters for interactive development --------------\n",
    "P = {\n",
    "    \"pipeline.run_environment\": \"dev\",\n",
    "    \"pipeline.data_lake_root\": \"/pipeline-outputs/data-lake\",\n",
    "    \"run.retry_nr\": \"1\",\n",
    "}"
   ]
  },
  {
   "cell_type": "code",
   "execution_count": 2,
   "id": "151d131e",
   "metadata": {
    "execution": {
     "iopub.execute_input": "2022-12-05T06:43:29.887180Z",
     "iopub.status.busy": "2022-12-05T06:43:29.886789Z",
     "iopub.status.idle": "2022-12-05T06:43:29.891026Z",
     "shell.execute_reply": "2022-12-05T06:43:29.889811Z"
    },
    "lines_to_next_cell": 0,
    "papermill": {
     "duration": 0.010191,
     "end_time": "2022-12-05T06:43:29.893145",
     "exception": false,
     "start_time": "2022-12-05T06:43:29.882954",
     "status": "completed"
    },
    "tags": [
     "parameters"
    ]
   },
   "outputs": [],
   "source": [
    "# - During automated runs parameters will be injected in the below cell -"
   ]
  },
  {
   "cell_type": "code",
   "execution_count": 3,
   "id": "6e9e3897",
   "metadata": {
    "execution": {
     "iopub.execute_input": "2022-12-05T06:43:29.903148Z",
     "iopub.status.busy": "2022-12-05T06:43:29.902520Z",
     "iopub.status.idle": "2022-12-05T06:43:29.908957Z",
     "shell.execute_reply": "2022-12-05T06:43:29.908135Z"
    },
    "papermill": {
     "duration": 0.01426,
     "end_time": "2022-12-05T06:43:29.911122",
     "exception": false,
     "start_time": "2022-12-05T06:43:29.896862",
     "status": "completed"
    },
    "tags": [
     "injected-parameters"
    ]
   },
   "outputs": [],
   "source": [
    "# Parameters\n",
    "P = {\n",
    "    \"pipeline.data_lake_root\": \"/pipeline-outputs/data-lake\",\n",
    "    \"pipeline.run_environment\": \"ci\",\n",
    "    \"pipeline.pipeline_run_id\": \"271a878e-0055-4dd4-8408-8e007d3d8c39\",\n",
    "    \"pipeline.github.repository\": \"matiasdahl/dev-mnist-digits-demo-pipeline\",\n",
    "    \"pipeline.github.workflow\": \"Run automated tests, pipeline and deploy results to static reporting site\",\n",
    "    \"pipeline.github.runner_name\": \"Hosted Agent\",\n",
    "    \"pipeline.github.run_id\": \"3617573418\",\n",
    "    \"pipeline.github.actor\": \"matiasdahl\",\n",
    "    \"pipeline.github.job\": \"run-tests-pipeline-and-persist-pipeline-outputs\",\n",
    "    \"pipeline.github.base_ref\": \"\",\n",
    "    \"pipeline.github.head_ref\": \"\",\n",
    "    \"pipeline.github.sha\": \"ace0d01011d5e914f1921450dd5a59c11367b38d\",\n",
    "    \"pipeline.github.ref\": \"refs/heads/development\",\n",
    "    \"pipeline.github.ref_type\": \"branch\",\n",
    "    \"pipeline.github.ref_name\": \"development\",\n",
    "    \"pipeline.github.event_name\": \"schedule\",\n",
    "    \"task.notebook\": \"notebooks/ingest.py\",\n",
    "    \"task.max_nr_retries\": \"15\",\n",
    "    \"run.retry_nr\": \"5\",\n",
    "    \"task.timeout_s\": \"10\",\n",
    "    \"task.num_cpus\": 1,\n",
    "    \"_opentelemetry_traceparent\": \"00-7b30746d3e4cf784eea19788fe421997-7e8095996d7c87f4-01\",\n",
    "}\n"
   ]
  },
  {
   "cell_type": "code",
   "execution_count": 4,
   "id": "79258f9a",
   "metadata": {
    "execution": {
     "iopub.execute_input": "2022-12-05T06:43:29.919511Z",
     "iopub.status.busy": "2022-12-05T06:43:29.918686Z",
     "iopub.status.idle": "2022-12-05T06:43:29.922787Z",
     "shell.execute_reply": "2022-12-05T06:43:29.921923Z"
    },
    "lines_to_next_cell": 0,
    "papermill": {
     "duration": 0.010468,
     "end_time": "2022-12-05T06:43:29.924626",
     "exception": false,
     "start_time": "2022-12-05T06:43:29.914158",
     "status": "completed"
    },
    "tags": []
   },
   "outputs": [],
   "source": [
    "# -----------------------------------------------------------------------"
   ]
  },
  {
   "cell_type": "markdown",
   "id": "e903fc5d",
   "metadata": {
    "lines_to_next_cell": 2,
    "papermill": {
     "duration": 0.003737,
     "end_time": "2022-12-05T06:43:29.931445",
     "exception": false,
     "start_time": "2022-12-05T06:43:29.927708",
     "status": "completed"
    },
    "tags": []
   },
   "source": [
    "---"
   ]
  },
  {
   "cell_type": "markdown",
   "id": "09b9f43a",
   "metadata": {
    "papermill": {
     "duration": 0.002896,
     "end_time": "2022-12-05T06:43:29.937151",
     "exception": false,
     "start_time": "2022-12-05T06:43:29.934255",
     "status": "completed"
    },
    "tags": []
   },
   "source": [
    "### Simulate different types of failures (for testing timeout and retry logic)"
   ]
  },
  {
   "cell_type": "code",
   "execution_count": 5,
   "id": "0dafd407",
   "metadata": {
    "execution": {
     "iopub.execute_input": "2022-12-05T06:43:29.946041Z",
     "iopub.status.busy": "2022-12-05T06:43:29.945300Z",
     "iopub.status.idle": "2022-12-05T06:43:30.498995Z",
     "shell.execute_reply": "2022-12-05T06:43:30.498166Z"
    },
    "papermill": {
     "duration": 0.561298,
     "end_time": "2022-12-05T06:43:30.501499",
     "exception": false,
     "start_time": "2022-12-05T06:43:29.940201",
     "status": "completed"
    },
    "tags": []
   },
   "outputs": [
    {
     "name": "stderr",
     "output_type": "stream",
     "text": [
      "2022-12-05 06:43:30,336\tINFO worker.py:842 -- Connecting to existing Ray cluster at address: 172.17.0.2:6379\n"
     ]
    }
   ],
   "source": [
    "from pynb_dag_runner.tasks.task_opentelemetry_logging import PydarLogger\n",
    "\n",
    "logger = PydarLogger(P)"
   ]
  },
  {
   "cell_type": "markdown",
   "id": "4488977f",
   "metadata": {
    "tags": [
     "papermill-error-cell-tag"
    ]
   },
   "source": [
    "<span id=\"papermill-error-cell\" style=\"color:red; font-family:Helvetica Neue, Helvetica, Arial, sans-serif; font-size:2em;\">Execution using papermill encountered an exception here and stopped:</span>"
   ]
  },
  {
   "cell_type": "code",
   "execution_count": 6,
   "id": "9d06935f",
   "metadata": {
    "execution": {
     "iopub.execute_input": "2022-12-05T06:43:30.511895Z",
     "iopub.status.busy": "2022-12-05T06:43:30.511525Z",
     "iopub.status.idle": "2022-12-05T06:43:30.715319Z",
     "shell.execute_reply": "2022-12-05T06:43:30.712285Z"
    },
    "papermill": {
     "duration": 0.211325,
     "end_time": "2022-12-05T06:43:30.717326",
     "exception": true,
     "start_time": "2022-12-05T06:43:30.506001",
     "status": "failed"
    },
    "tags": []
   },
   "outputs": [
    {
     "ename": "Exception",
     "evalue": "Simulated exception failure from ingestion step notebook!",
     "output_type": "error",
     "traceback": [
      "\u001b[0;31m---------------------------------------------------------------------------\u001b[0m",
      "\u001b[0;31mException\u001b[0m                                 Traceback (most recent call last)",
      "Cell \u001b[0;32mIn[6], line 17\u001b[0m\n\u001b[1;32m     13\u001b[0m         \u001b[38;5;28;01melse\u001b[39;00m:\n\u001b[1;32m     14\u001b[0m             \u001b[38;5;28;01mraise\u001b[39;00m \u001b[38;5;167;01mException\u001b[39;00m(\u001b[38;5;124m\"\u001b[39m\u001b[38;5;124mSimulated exception failure from ingestion step notebook!\u001b[39m\u001b[38;5;124m\"\u001b[39m)\n\u001b[0;32m---> 17\u001b[0m \u001b[43mmaybe_crash\u001b[49m\u001b[43m(\u001b[49m\n\u001b[1;32m     18\u001b[0m \u001b[43m    \u001b[49m\u001b[43mretry_nr\u001b[49m\u001b[38;5;241;43m=\u001b[39;49m\u001b[38;5;28;43mint\u001b[39;49m\u001b[43m(\u001b[49m\u001b[43mP\u001b[49m\u001b[43m[\u001b[49m\u001b[38;5;124;43m\"\u001b[39;49m\u001b[38;5;124;43mrun.retry_nr\u001b[39;49m\u001b[38;5;124;43m\"\u001b[39;49m\u001b[43m]\u001b[49m\u001b[43m)\u001b[49m\u001b[43m,\u001b[49m\u001b[43m \u001b[49m\u001b[43mrun_environment\u001b[49m\u001b[38;5;241;43m=\u001b[39;49m\u001b[43mP\u001b[49m\u001b[43m[\u001b[49m\u001b[38;5;124;43m\"\u001b[39;49m\u001b[38;5;124;43mpipeline.run_environment\u001b[39;49m\u001b[38;5;124;43m\"\u001b[39;49m\u001b[43m]\u001b[49m\n\u001b[1;32m     19\u001b[0m \u001b[43m)\u001b[49m\n",
      "Cell \u001b[0;32mIn[6], line 14\u001b[0m, in \u001b[0;36mmaybe_crash\u001b[0;34m(retry_nr, run_environment)\u001b[0m\n\u001b[1;32m     12\u001b[0m     time\u001b[38;5;241m.\u001b[39msleep(\u001b[38;5;241m1e6\u001b[39m)\n\u001b[1;32m     13\u001b[0m \u001b[38;5;28;01melse\u001b[39;00m:\n\u001b[0;32m---> 14\u001b[0m     \u001b[38;5;28;01mraise\u001b[39;00m \u001b[38;5;167;01mException\u001b[39;00m(\u001b[38;5;124m\"\u001b[39m\u001b[38;5;124mSimulated exception failure from ingestion step notebook!\u001b[39m\u001b[38;5;124m\"\u001b[39m)\n",
      "\u001b[0;31mException\u001b[0m: Simulated exception failure from ingestion step notebook!"
     ]
    }
   ],
   "source": [
    "import time, random\n",
    "\n",
    "\n",
    "def maybe_crash(retry_nr: int, run_environment: str):\n",
    "    if retry_nr == 2 and run_environment == \"ci\":\n",
    "        time.sleep(1e6)\n",
    "\n",
    "    max_retry_nr: int = 3 if run_environment == \"dev\" else 10\n",
    "\n",
    "    if retry_nr < max_retry_nr:\n",
    "        if random.random() < 0.1:\n",
    "            time.sleep(1e6)\n",
    "        else:\n",
    "            raise Exception(\"Simulated exception failure from ingestion step notebook!\")\n",
    "\n",
    "\n",
    "maybe_crash(\n",
    "    retry_nr=int(P[\"run.retry_nr\"]), run_environment=P[\"pipeline.run_environment\"]\n",
    ")"
   ]
  },
  {
   "cell_type": "markdown",
   "id": "f04802ae",
   "metadata": {
    "lines_to_next_cell": 2,
    "papermill": {
     "duration": null,
     "end_time": null,
     "exception": null,
     "start_time": null,
     "status": "pending"
    },
    "tags": []
   },
   "source": [
    "### Notebook code"
   ]
  },
  {
   "cell_type": "code",
   "execution_count": null,
   "id": "2fd95cea",
   "metadata": {
    "papermill": {
     "duration": null,
     "end_time": null,
     "exception": null,
     "start_time": null,
     "status": "pending"
    },
    "tags": []
   },
   "outputs": [],
   "source": [
    "from sklearn import datasets\n",
    "\n",
    "#\n",
    "from common.io import datalake_root, write_numpy"
   ]
  },
  {
   "cell_type": "code",
   "execution_count": null,
   "id": "5a542bdc",
   "metadata": {
    "lines_to_next_cell": 2,
    "papermill": {
     "duration": null,
     "end_time": null,
     "exception": null,
     "start_time": null,
     "status": "pending"
    },
    "tags": []
   },
   "outputs": [],
   "source": [
    "digits = datasets.load_digits()\n",
    "\n",
    "X = digits[\"data\"]\n",
    "y = digits[\"target\"]"
   ]
  },
  {
   "cell_type": "code",
   "execution_count": null,
   "id": "41ffeed7",
   "metadata": {
    "papermill": {
     "duration": null,
     "end_time": null,
     "exception": null,
     "start_time": null,
     "status": "pending"
    },
    "tags": []
   },
   "outputs": [],
   "source": [
    "logger.log_value(\"data_shape\", list(X.shape))\n",
    "logger.log_value(\"target_shape\", list(y.shape))\n",
    "\n",
    "X.shape, y.shape"
   ]
  },
  {
   "cell_type": "code",
   "execution_count": null,
   "id": "82d86e60",
   "metadata": {
    "papermill": {
     "duration": null,
     "end_time": null,
     "exception": null,
     "start_time": null,
     "status": "pending"
    },
    "tags": []
   },
   "outputs": [],
   "source": [
    "write_numpy(datalake_root(P) / \"raw\" / \"digits.numpy\", X)\n",
    "write_numpy(datalake_root(P) / \"raw\" / \"labels.numpy\", y)"
   ]
  },
  {
   "cell_type": "code",
   "execution_count": null,
   "id": "36f765e3",
   "metadata": {
    "papermill": {
     "duration": null,
     "end_time": null,
     "exception": null,
     "start_time": null,
     "status": "pending"
    },
    "tags": []
   },
   "outputs": [],
   "source": []
  }
 ],
 "metadata": {
  "jupytext": {
   "cell_metadata_filter": "tags,-all",
   "main_language": "python",
   "notebook_metadata_filter": "-all"
  },
  "language_info": {
   "codemirror_mode": {
    "name": "ipython",
    "version": 3
   },
   "file_extension": ".py",
   "mimetype": "text/x-python",
   "name": "python",
   "nbconvert_exporter": "python",
   "pygments_lexer": "ipython3",
   "version": "3.8.10"
  },
  "papermill": {
   "default_parameters": {},
   "duration": 3.307971,
   "end_time": "2022-12-05T06:43:31.743004",
   "environment_variables": {},
   "exception": true,
   "input_path": "/home/host_user/workspace/mnist-demo-pipeline/mnist-demo-pipeline/notebooks/temp-notebook-gkz55bda.ipynb",
   "output_path": "notebooks/ingest.ipynb",
   "parameters": {
    "P": {
     "_opentelemetry_traceparent": "00-7b30746d3e4cf784eea19788fe421997-7e8095996d7c87f4-01",
     "pipeline.data_lake_root": "/pipeline-outputs/data-lake",
     "pipeline.github.actor": "matiasdahl",
     "pipeline.github.base_ref": "",
     "pipeline.github.event_name": "schedule",
     "pipeline.github.head_ref": "",
     "pipeline.github.job": "run-tests-pipeline-and-persist-pipeline-outputs",
     "pipeline.github.ref": "refs/heads/development",
     "pipeline.github.ref_name": "development",
     "pipeline.github.ref_type": "branch",
     "pipeline.github.repository": "matiasdahl/dev-mnist-digits-demo-pipeline",
     "pipeline.github.run_id": "3617573418",
     "pipeline.github.runner_name": "Hosted Agent",
     "pipeline.github.sha": "ace0d01011d5e914f1921450dd5a59c11367b38d",
     "pipeline.github.workflow": "Run automated tests, pipeline and deploy results to static reporting site",
     "pipeline.pipeline_run_id": "271a878e-0055-4dd4-8408-8e007d3d8c39",
     "pipeline.run_environment": "ci",
     "run.retry_nr": "5",
     "task.max_nr_retries": "15",
     "task.notebook": "notebooks/ingest.py",
     "task.num_cpus": 1,
     "task.timeout_s": "10"
    }
   },
   "start_time": "2022-12-05T06:43:28.435033",
   "version": "2.3.3"
  }
 },
 "nbformat": 4,
 "nbformat_minor": 5
}