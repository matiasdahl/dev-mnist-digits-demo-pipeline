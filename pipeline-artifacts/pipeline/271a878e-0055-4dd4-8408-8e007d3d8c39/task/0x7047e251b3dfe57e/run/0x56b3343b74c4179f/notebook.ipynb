{
 "cells": [
  {
   "cell_type": "markdown",
   "id": "4322a06a",
   "metadata": {
    "papermill": {
     "duration": 0.004487,
     "end_time": "2022-12-05T06:44:26.524549",
     "exception": false,
     "start_time": "2022-12-05T06:44:26.520062",
     "status": "completed"
    },
    "tags": []
   },
   "source": [
    "# Train model\n",
    "\n",
    "The purpose of this notebook is:\n",
    "\n",
    "- Load all training data (images and labels).\n",
    "- Limit number of train images to `task.nr_train_images` (value provided as run parameter).\n",
    "- Train a support vector machine model using sklearn.\n",
    "- Persist the trained model using the ONNX format."
   ]
  },
  {
   "cell_type": "markdown",
   "id": "0923ac38",
   "metadata": {
    "papermill": {
     "duration": 0.004165,
     "end_time": "2022-12-05T06:44:26.532698",
     "exception": false,
     "start_time": "2022-12-05T06:44:26.528533",
     "status": "completed"
    },
    "tags": []
   },
   "source": [
    "### Determine run parameters"
   ]
  },
  {
   "cell_type": "code",
   "execution_count": 1,
   "id": "c93e2a81",
   "metadata": {
    "execution": {
     "iopub.execute_input": "2022-12-05T06:44:26.542529Z",
     "iopub.status.busy": "2022-12-05T06:44:26.541639Z",
     "iopub.status.idle": "2022-12-05T06:44:26.552668Z",
     "shell.execute_reply": "2022-12-05T06:44:26.551838Z"
    },
    "lines_to_next_cell": 0,
    "papermill": {
     "duration": 0.018348,
     "end_time": "2022-12-05T06:44:26.555027",
     "exception": false,
     "start_time": "2022-12-05T06:44:26.536679",
     "status": "completed"
    },
    "tags": []
   },
   "outputs": [],
   "source": [
    "# ----------------- Parameters for interactive development --------------\n",
    "P = {\n",
    "    \"pipeline.data_lake_root\": \"/pipeline-outputs/data-lake\",\n",
    "    \"task.nr_train_images\": 600,\n",
    "}"
   ]
  },
  {
   "cell_type": "code",
   "execution_count": 2,
   "id": "d9c982d9",
   "metadata": {
    "execution": {
     "iopub.execute_input": "2022-12-05T06:44:26.565080Z",
     "iopub.status.busy": "2022-12-05T06:44:26.564320Z",
     "iopub.status.idle": "2022-12-05T06:44:26.568804Z",
     "shell.execute_reply": "2022-12-05T06:44:26.568082Z"
    },
    "lines_to_next_cell": 0,
    "papermill": {
     "duration": 0.012037,
     "end_time": "2022-12-05T06:44:26.570832",
     "exception": false,
     "start_time": "2022-12-05T06:44:26.558795",
     "status": "completed"
    },
    "tags": [
     "parameters"
    ]
   },
   "outputs": [],
   "source": [
    "# - During automated runs parameters will be injected in the below cell -"
   ]
  },
  {
   "cell_type": "code",
   "execution_count": 3,
   "id": "d9a13e88",
   "metadata": {
    "execution": {
     "iopub.execute_input": "2022-12-05T06:44:26.580437Z",
     "iopub.status.busy": "2022-12-05T06:44:26.579795Z",
     "iopub.status.idle": "2022-12-05T06:44:26.588845Z",
     "shell.execute_reply": "2022-12-05T06:44:26.587958Z"
    },
    "papermill": {
     "duration": 0.016165,
     "end_time": "2022-12-05T06:44:26.590606",
     "exception": false,
     "start_time": "2022-12-05T06:44:26.574441",
     "status": "completed"
    },
    "tags": [
     "injected-parameters"
    ]
   },
   "outputs": [],
   "source": [
    "# Parameters\n",
    "P = {\n",
    "    \"pipeline.data_lake_root\": \"/pipeline-outputs/data-lake\",\n",
    "    \"pipeline.run_environment\": \"ci\",\n",
    "    \"pipeline.pipeline_run_id\": \"271a878e-0055-4dd4-8408-8e007d3d8c39\",\n",
    "    \"pipeline.github.repository\": \"matiasdahl/dev-mnist-digits-demo-pipeline\",\n",
    "    \"pipeline.github.workflow\": \"Run automated tests, pipeline and deploy results to static reporting site\",\n",
    "    \"pipeline.github.runner_name\": \"Hosted Agent\",\n",
    "    \"pipeline.github.run_id\": \"3617573418\",\n",
    "    \"pipeline.github.actor\": \"matiasdahl\",\n",
    "    \"pipeline.github.job\": \"run-tests-pipeline-and-persist-pipeline-outputs\",\n",
    "    \"pipeline.github.base_ref\": \"\",\n",
    "    \"pipeline.github.head_ref\": \"\",\n",
    "    \"pipeline.github.sha\": \"ace0d01011d5e914f1921450dd5a59c11367b38d\",\n",
    "    \"pipeline.github.ref\": \"refs/heads/development\",\n",
    "    \"pipeline.github.ref_type\": \"branch\",\n",
    "    \"pipeline.github.ref_name\": \"development\",\n",
    "    \"pipeline.github.event_name\": \"schedule\",\n",
    "    \"task.nr_train_images\": 1000,\n",
    "    \"task.notebook\": \"notebooks/train-model.py\",\n",
    "    \"task.max_nr_retries\": \"1\",\n",
    "    \"run.retry_nr\": \"0\",\n",
    "    \"task.timeout_s\": \"None\",\n",
    "    \"task.num_cpus\": 1,\n",
    "    \"_opentelemetry_traceparent\": \"00-7b30746d3e4cf784eea19788fe421997-920c98658e6708bc-01\",\n",
    "}\n"
   ]
  },
  {
   "cell_type": "code",
   "execution_count": 4,
   "id": "e93be350",
   "metadata": {
    "execution": {
     "iopub.execute_input": "2022-12-05T06:44:26.599519Z",
     "iopub.status.busy": "2022-12-05T06:44:26.599145Z",
     "iopub.status.idle": "2022-12-05T06:44:26.602847Z",
     "shell.execute_reply": "2022-12-05T06:44:26.601874Z"
    },
    "lines_to_next_cell": 0,
    "papermill": {
     "duration": 0.00994,
     "end_time": "2022-12-05T06:44:26.604519",
     "exception": false,
     "start_time": "2022-12-05T06:44:26.594579",
     "status": "completed"
    },
    "tags": []
   },
   "outputs": [],
   "source": [
    "# -----------------------------------------------------------------------"
   ]
  },
  {
   "cell_type": "markdown",
   "id": "54f2e220",
   "metadata": {
    "papermill": {
     "duration": 0.003116,
     "end_time": "2022-12-05T06:44:26.611310",
     "exception": false,
     "start_time": "2022-12-05T06:44:26.608194",
     "status": "completed"
    },
    "tags": []
   },
   "source": [
    "---"
   ]
  },
  {
   "cell_type": "markdown",
   "id": "29e2c1f0",
   "metadata": {
    "lines_to_next_cell": 2,
    "papermill": {
     "duration": 0.003562,
     "end_time": "2022-12-05T06:44:26.618501",
     "exception": false,
     "start_time": "2022-12-05T06:44:26.614939",
     "status": "completed"
    },
    "tags": []
   },
   "source": [
    "### Notebook code"
   ]
  },
  {
   "cell_type": "code",
   "execution_count": 5,
   "id": "466803b8",
   "metadata": {
    "execution": {
     "iopub.execute_input": "2022-12-05T06:44:26.629292Z",
     "iopub.status.busy": "2022-12-05T06:44:26.628540Z",
     "iopub.status.idle": "2022-12-05T06:44:27.359734Z",
     "shell.execute_reply": "2022-12-05T06:44:27.358837Z"
    },
    "papermill": {
     "duration": 0.740365,
     "end_time": "2022-12-05T06:44:27.362392",
     "exception": false,
     "start_time": "2022-12-05T06:44:26.622027",
     "status": "completed"
    },
    "tags": []
   },
   "outputs": [
    {
     "name": "stderr",
     "output_type": "stream",
     "text": [
      "2022-12-05 06:44:27,162\tINFO worker.py:842 -- Connecting to existing Ray cluster at address: 172.17.0.2:6379\n"
     ]
    }
   ],
   "source": [
    "from pynb_dag_runner.tasks.task_opentelemetry_logging import PydarLogger\n",
    "\n",
    "logger = PydarLogger(P)"
   ]
  },
  {
   "cell_type": "markdown",
   "id": "f09f3c91",
   "metadata": {
    "papermill": {
     "duration": 0.003909,
     "end_time": "2022-12-05T06:44:27.372407",
     "exception": false,
     "start_time": "2022-12-05T06:44:27.368498",
     "status": "completed"
    },
    "tags": []
   },
   "source": [
    "## Load and limit train data"
   ]
  },
  {
   "cell_type": "code",
   "execution_count": 6,
   "id": "d135e80b",
   "metadata": {
    "execution": {
     "iopub.execute_input": "2022-12-05T06:44:27.383290Z",
     "iopub.status.busy": "2022-12-05T06:44:27.382638Z",
     "iopub.status.idle": "2022-12-05T06:44:27.954777Z",
     "shell.execute_reply": "2022-12-05T06:44:27.953801Z"
    },
    "papermill": {
     "duration": 0.580393,
     "end_time": "2022-12-05T06:44:27.957681",
     "exception": false,
     "start_time": "2022-12-05T06:44:27.377288",
     "status": "completed"
    },
    "tags": []
   },
   "outputs": [],
   "source": [
    "def load_and_limit_train_data(P):\n",
    "    from common.io import datalake_root, read_numpy\n",
    "    from sklearn.model_selection import train_test_split\n",
    "\n",
    "    X_train_all = read_numpy(datalake_root(P) / \"train-data\" / \"digits.numpy\")\n",
    "    y_train_all = read_numpy(datalake_root(P) / \"train-data\" / \"labels.numpy\")\n",
    "\n",
    "    assert isinstance(P[\"task.nr_train_images\"], int)\n",
    "\n",
    "    # Note: train_test_split will fail if split is 0 or 100%.\n",
    "    assert 0 < P[\"task.nr_train_images\"] < len(y_train_all)\n",
    "\n",
    "    X_train, _, y_train, _ = train_test_split(\n",
    "        X_train_all,\n",
    "        y_train_all,\n",
    "        train_size=P[\"task.nr_train_images\"],\n",
    "        test_size=None,\n",
    "        stratify=y_train_all,\n",
    "        shuffle=True,\n",
    "        random_state=123,\n",
    "    )\n",
    "\n",
    "    assert X_train.shape == (len(y_train), 8 * 8)\n",
    "    return X_train, y_train\n",
    "\n",
    "\n",
    "X_train, y_train = load_and_limit_train_data(P)"
   ]
  },
  {
   "cell_type": "markdown",
   "id": "38600731",
   "metadata": {
    "papermill": {
     "duration": 0.004399,
     "end_time": "2022-12-05T06:44:27.967813",
     "exception": false,
     "start_time": "2022-12-05T06:44:27.963414",
     "status": "completed"
    },
    "tags": []
   },
   "source": [
    "## Train support vector classifier model\n",
    "\n",
    "Below we assume that the hyperparameter $C$ is known.\n",
    "\n",
    "However, this should ideally be found by a hyperparameter search. That could be\n",
    "done in parallel on the Ray cluster, but this needs some more work. Ie., to use\n",
    "multiple cores in the notebook, those cores should be reserved when starting the\n",
    "notebook task (TODO).\n",
    "\n",
    "- https://docs.ray.io/en/latest/tune/key-concepts.html\n",
    "\n",
    "Note: cv-scores would need to be computed here, since they depend on the train data.\n",
    "After this notebook only the onnx-model is available."
   ]
  },
  {
   "cell_type": "code",
   "execution_count": 7,
   "id": "4c46de12",
   "metadata": {
    "execution": {
     "iopub.execute_input": "2022-12-05T06:44:27.977533Z",
     "iopub.status.busy": "2022-12-05T06:44:27.977188Z",
     "iopub.status.idle": "2022-12-05T06:44:28.020986Z",
     "shell.execute_reply": "2022-12-05T06:44:28.020026Z"
    },
    "papermill": {
     "duration": 0.051785,
     "end_time": "2022-12-05T06:44:28.023587",
     "exception": false,
     "start_time": "2022-12-05T06:44:27.971802",
     "status": "completed"
    },
    "tags": []
   },
   "outputs": [],
   "source": [
    "from sklearn.svm import SVC"
   ]
  },
  {
   "cell_type": "code",
   "execution_count": 8,
   "id": "8f5adfb6",
   "metadata": {
    "execution": {
     "iopub.execute_input": "2022-12-05T06:44:28.041223Z",
     "iopub.status.busy": "2022-12-05T06:44:28.037536Z",
     "iopub.status.idle": "2022-12-05T06:44:28.198118Z",
     "shell.execute_reply": "2022-12-05T06:44:28.197276Z"
    },
    "papermill": {
     "duration": 0.171382,
     "end_time": "2022-12-05T06:44:28.200580",
     "exception": false,
     "start_time": "2022-12-05T06:44:28.029198",
     "status": "completed"
    },
    "tags": []
   },
   "outputs": [
    {
     "data": {
      "text/html": [
       "<style>#sk-container-id-1 {color: black;background-color: white;}#sk-container-id-1 pre{padding: 0;}#sk-container-id-1 div.sk-toggleable {background-color: white;}#sk-container-id-1 label.sk-toggleable__label {cursor: pointer;display: block;width: 100%;margin-bottom: 0;padding: 0.3em;box-sizing: border-box;text-align: center;}#sk-container-id-1 label.sk-toggleable__label-arrow:before {content: \"▸\";float: left;margin-right: 0.25em;color: #696969;}#sk-container-id-1 label.sk-toggleable__label-arrow:hover:before {color: black;}#sk-container-id-1 div.sk-estimator:hover label.sk-toggleable__label-arrow:before {color: black;}#sk-container-id-1 div.sk-toggleable__content {max-height: 0;max-width: 0;overflow: hidden;text-align: left;background-color: #f0f8ff;}#sk-container-id-1 div.sk-toggleable__content pre {margin: 0.2em;color: black;border-radius: 0.25em;background-color: #f0f8ff;}#sk-container-id-1 input.sk-toggleable__control:checked~div.sk-toggleable__content {max-height: 200px;max-width: 100%;overflow: auto;}#sk-container-id-1 input.sk-toggleable__control:checked~label.sk-toggleable__label-arrow:before {content: \"▾\";}#sk-container-id-1 div.sk-estimator input.sk-toggleable__control:checked~label.sk-toggleable__label {background-color: #d4ebff;}#sk-container-id-1 div.sk-label input.sk-toggleable__control:checked~label.sk-toggleable__label {background-color: #d4ebff;}#sk-container-id-1 input.sk-hidden--visually {border: 0;clip: rect(1px 1px 1px 1px);clip: rect(1px, 1px, 1px, 1px);height: 1px;margin: -1px;overflow: hidden;padding: 0;position: absolute;width: 1px;}#sk-container-id-1 div.sk-estimator {font-family: monospace;background-color: #f0f8ff;border: 1px dotted black;border-radius: 0.25em;box-sizing: border-box;margin-bottom: 0.5em;}#sk-container-id-1 div.sk-estimator:hover {background-color: #d4ebff;}#sk-container-id-1 div.sk-parallel-item::after {content: \"\";width: 100%;border-bottom: 1px solid gray;flex-grow: 1;}#sk-container-id-1 div.sk-label:hover label.sk-toggleable__label {background-color: #d4ebff;}#sk-container-id-1 div.sk-serial::before {content: \"\";position: absolute;border-left: 1px solid gray;box-sizing: border-box;top: 0;bottom: 0;left: 50%;z-index: 0;}#sk-container-id-1 div.sk-serial {display: flex;flex-direction: column;align-items: center;background-color: white;padding-right: 0.2em;padding-left: 0.2em;position: relative;}#sk-container-id-1 div.sk-item {position: relative;z-index: 1;}#sk-container-id-1 div.sk-parallel {display: flex;align-items: stretch;justify-content: center;background-color: white;position: relative;}#sk-container-id-1 div.sk-item::before, #sk-container-id-1 div.sk-parallel-item::before {content: \"\";position: absolute;border-left: 1px solid gray;box-sizing: border-box;top: 0;bottom: 0;left: 50%;z-index: -1;}#sk-container-id-1 div.sk-parallel-item {display: flex;flex-direction: column;z-index: 1;position: relative;background-color: white;}#sk-container-id-1 div.sk-parallel-item:first-child::after {align-self: flex-end;width: 50%;}#sk-container-id-1 div.sk-parallel-item:last-child::after {align-self: flex-start;width: 50%;}#sk-container-id-1 div.sk-parallel-item:only-child::after {width: 0;}#sk-container-id-1 div.sk-dashed-wrapped {border: 1px dashed gray;margin: 0 0.4em 0.5em 0.4em;box-sizing: border-box;padding-bottom: 0.4em;background-color: white;}#sk-container-id-1 div.sk-label label {font-family: monospace;font-weight: bold;display: inline-block;line-height: 1.2em;}#sk-container-id-1 div.sk-label-container {text-align: center;}#sk-container-id-1 div.sk-container {/* jupyter's `normalize.less` sets `[hidden] { display: none; }` but bootstrap.min.css set `[hidden] { display: none !important; }` so we also need the `!important` here to be able to override the default hidden behavior on the sphinx rendered scikit-learn.org. See: https://github.com/scikit-learn/scikit-learn/issues/21755 */display: inline-block !important;position: relative;}#sk-container-id-1 div.sk-text-repr-fallback {display: none;}</style><div id=\"sk-container-id-1\" class=\"sk-top-container\"><div class=\"sk-text-repr-fallback\"><pre>SVC(C=0.001, kernel=&#x27;linear&#x27;, probability=True)</pre><b>In a Jupyter environment, please rerun this cell to show the HTML representation or trust the notebook. <br />On GitHub, the HTML representation is unable to render, please try loading this page with nbviewer.org.</b></div><div class=\"sk-container\" hidden><div class=\"sk-item\"><div class=\"sk-estimator sk-toggleable\"><input class=\"sk-toggleable__control sk-hidden--visually\" id=\"sk-estimator-id-1\" type=\"checkbox\" checked><label for=\"sk-estimator-id-1\" class=\"sk-toggleable__label sk-toggleable__label-arrow\">SVC</label><div class=\"sk-toggleable__content\"><pre>SVC(C=0.001, kernel=&#x27;linear&#x27;, probability=True)</pre></div></div></div></div></div>"
      ],
      "text/plain": [
       "SVC(C=0.001, kernel='linear', probability=True)"
      ]
     },
     "execution_count": 8,
     "metadata": {},
     "output_type": "execute_result"
    }
   ],
   "source": [
    "model = SVC(C=0.001, kernel=\"linear\", probability=True)\n",
    "\n",
    "model.fit(X_train, y_train)"
   ]
  },
  {
   "cell_type": "markdown",
   "id": "c474dd03",
   "metadata": {
    "papermill": {
     "duration": 0.004984,
     "end_time": "2022-12-05T06:44:28.211235",
     "exception": false,
     "start_time": "2022-12-05T06:44:28.206251",
     "status": "completed"
    },
    "tags": []
   },
   "source": [
    "### Q: Can the labels returned by `predict(..)` be computed from probabilities returned by the `predict_prob`-method?"
   ]
  },
  {
   "cell_type": "code",
   "execution_count": 9,
   "id": "98cbe829",
   "metadata": {
    "execution": {
     "iopub.execute_input": "2022-12-05T06:44:28.225617Z",
     "iopub.status.busy": "2022-12-05T06:44:28.225157Z",
     "iopub.status.idle": "2022-12-05T06:44:28.315400Z",
     "shell.execute_reply": "2022-12-05T06:44:28.314446Z"
    },
    "papermill": {
     "duration": 0.102012,
     "end_time": "2022-12-05T06:44:28.318939",
     "exception": false,
     "start_time": "2022-12-05T06:44:28.216927",
     "status": "completed"
    },
    "tags": []
   },
   "outputs": [
    {
     "name": "stdout",
     "output_type": "stream",
     "text": [
      " - Logging nr_max_prob_neq_label (int) : 1\n"
     ]
    }
   ],
   "source": [
    "import numpy as np\n",
    "\n",
    "y_train_labels = model.predict(X_train)\n",
    "y_train_probabilities = model.predict_proba(X_train)\n",
    "assert y_train_probabilities.shape == (len(y_train), 10)\n",
    "\n",
    "y_train_max_prob_labels = np.argmax(y_train_probabilities, axis=1)\n",
    "assert y_train_labels.shape == y_train_max_prob_labels.shape == y_train.shape\n",
    "\n",
    "# If the predicted labels would coincide with the labels that have\n",
    "# maximum probability, the below number would be zero\n",
    "logger.log_int(\n",
    "    \"nr_max_prob_neq_label\", int(sum(y_train_max_prob_labels != y_train_labels))\n",
    ")"
   ]
  },
  {
   "cell_type": "markdown",
   "id": "6a3295de",
   "metadata": {
    "papermill": {
     "duration": 0.005972,
     "end_time": "2022-12-05T06:44:28.330443",
     "exception": false,
     "start_time": "2022-12-05T06:44:28.324471",
     "status": "completed"
    },
    "tags": []
   },
   "source": [
    "The explanation is (likely) explained in the SVC source, see\n",
    "[here](https://github.com/scikit-learn/scikit-learn/blob/main/sklearn/svm/_base.py).\n",
    "Namely, the outputs from `predict(..)` and `predict_proba(..)` may not in some\n",
    "cases be compatible since the latter is computed using cross-validation while\n",
    "the former is not. Thus, the above number need not be zero."
   ]
  },
  {
   "cell_type": "markdown",
   "id": "a0f3d2ae",
   "metadata": {
    "papermill": {
     "duration": 0.004933,
     "end_time": "2022-12-05T06:44:28.340494",
     "exception": false,
     "start_time": "2022-12-05T06:44:28.335561",
     "status": "completed"
    },
    "tags": []
   },
   "source": [
    "## Persist model"
   ]
  },
  {
   "cell_type": "code",
   "execution_count": 10,
   "id": "1c6bdbf2",
   "metadata": {
    "execution": {
     "iopub.execute_input": "2022-12-05T06:44:28.352769Z",
     "iopub.status.busy": "2022-12-05T06:44:28.352435Z",
     "iopub.status.idle": "2022-12-05T06:44:30.196329Z",
     "shell.execute_reply": "2022-12-05T06:44:30.194535Z"
    },
    "papermill": {
     "duration": 1.854065,
     "end_time": "2022-12-05T06:44:30.198948",
     "exception": false,
     "start_time": "2022-12-05T06:44:28.344883",
     "status": "completed"
    },
    "tags": []
   },
   "outputs": [],
   "source": [
    "from skl2onnx import convert_sklearn\n",
    "from skl2onnx.common.data_types import FloatTensorType\n",
    "\n",
    "#\n",
    "from common.io import datalake_root, write_onnx"
   ]
  },
  {
   "cell_type": "code",
   "execution_count": 11,
   "id": "c5315430",
   "metadata": {
    "execution": {
     "iopub.execute_input": "2022-12-05T06:44:30.219124Z",
     "iopub.status.busy": "2022-12-05T06:44:30.216756Z",
     "iopub.status.idle": "2022-12-05T06:44:30.282490Z",
     "shell.execute_reply": "2022-12-05T06:44:30.281565Z"
    },
    "papermill": {
     "duration": 0.076687,
     "end_time": "2022-12-05T06:44:30.285157",
     "exception": false,
     "start_time": "2022-12-05T06:44:30.208470",
     "status": "completed"
    },
    "tags": []
   },
   "outputs": [],
   "source": [
    "# convert sklearn model into onnx and persist to data lake\n",
    "\n",
    "model_onnx = convert_sklearn(\n",
    "    model, initial_types=[(\"float_input_8x8_image\", FloatTensorType([None, 8 * 8]))]\n",
    ")\n",
    "write_onnx(\n",
    "    datalake_root(P)\n",
    "    / \"models\"\n",
    "    / f\"nr_train_images={P['task.nr_train_images']}\"\n",
    "    / \"model.onnx\",\n",
    "    model_onnx,\n",
    ")"
   ]
  },
  {
   "cell_type": "code",
   "execution_count": null,
   "id": "a397675d",
   "metadata": {
    "papermill": {
     "duration": 0.004391,
     "end_time": "2022-12-05T06:44:30.295344",
     "exception": false,
     "start_time": "2022-12-05T06:44:30.290953",
     "status": "completed"
    },
    "tags": []
   },
   "outputs": [],
   "source": []
  }
 ],
 "metadata": {
  "jupytext": {
   "cell_metadata_filter": "tags,-all",
   "main_language": "python",
   "notebook_metadata_filter": "-all"
  },
  "language_info": {
   "codemirror_mode": {
    "name": "ipython",
    "version": 3
   },
   "file_extension": ".py",
   "mimetype": "text/x-python",
   "name": "python",
   "nbconvert_exporter": "python",
   "pygments_lexer": "ipython3",
   "version": "3.8.10"
  },
  "papermill": {
   "default_parameters": {},
   "duration": 7.089,
   "end_time": "2022-12-05T06:44:31.625085",
   "environment_variables": {},
   "exception": null,
   "input_path": "/home/host_user/workspace/mnist-demo-pipeline/mnist-demo-pipeline/notebooks/temp-notebook-qfs9rc_b.ipynb",
   "output_path": "notebooks/train-model.ipynb",
   "parameters": {
    "P": {
     "_opentelemetry_traceparent": "00-7b30746d3e4cf784eea19788fe421997-920c98658e6708bc-01",
     "pipeline.data_lake_root": "/pipeline-outputs/data-lake",
     "pipeline.github.actor": "matiasdahl",
     "pipeline.github.base_ref": "",
     "pipeline.github.event_name": "schedule",
     "pipeline.github.head_ref": "",
     "pipeline.github.job": "run-tests-pipeline-and-persist-pipeline-outputs",
     "pipeline.github.ref": "refs/heads/development",
     "pipeline.github.ref_name": "development",
     "pipeline.github.ref_type": "branch",
     "pipeline.github.repository": "matiasdahl/dev-mnist-digits-demo-pipeline",
     "pipeline.github.run_id": "3617573418",
     "pipeline.github.runner_name": "Hosted Agent",
     "pipeline.github.sha": "ace0d01011d5e914f1921450dd5a59c11367b38d",
     "pipeline.github.workflow": "Run automated tests, pipeline and deploy results to static reporting site",
     "pipeline.pipeline_run_id": "271a878e-0055-4dd4-8408-8e007d3d8c39",
     "pipeline.run_environment": "ci",
     "run.retry_nr": "0",
     "task.max_nr_retries": "1",
     "task.notebook": "notebooks/train-model.py",
     "task.nr_train_images": 1000,
     "task.num_cpus": 1,
     "task.timeout_s": "None"
    }
   },
   "start_time": "2022-12-05T06:44:24.536085",
   "version": "2.3.3"
  }
 },
 "nbformat": 4,
 "nbformat_minor": 5
}