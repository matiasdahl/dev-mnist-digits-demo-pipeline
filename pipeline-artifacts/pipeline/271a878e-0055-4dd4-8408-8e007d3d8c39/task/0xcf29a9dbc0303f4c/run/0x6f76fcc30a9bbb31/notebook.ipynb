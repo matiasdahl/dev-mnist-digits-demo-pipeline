{
 "cells": [
  {
   "cell_type": "markdown",
   "id": "4b21b856",
   "metadata": {
    "papermill": {
     "duration": 0.00756,
     "end_time": "2022-12-05T06:44:35.148766",
     "exception": false,
     "start_time": "2022-12-05T06:44:35.141206",
     "status": "completed"
    },
    "tags": []
   },
   "source": [
    "# Benchmark model\n",
    "\n",
    "The purpose of this notebook is to benchmark persisted onnx-model (trained in the\n",
    "previous step) against evaluation set."
   ]
  },
  {
   "cell_type": "markdown",
   "id": "d2a8b44e",
   "metadata": {
    "papermill": {
     "duration": 0.007656,
     "end_time": "2022-12-05T06:44:35.162283",
     "exception": false,
     "start_time": "2022-12-05T06:44:35.154627",
     "status": "completed"
    },
    "tags": []
   },
   "source": [
    "### Determine run parameters"
   ]
  },
  {
   "cell_type": "code",
   "execution_count": 1,
   "id": "9b0aeec6",
   "metadata": {
    "execution": {
     "iopub.execute_input": "2022-12-05T06:44:35.179615Z",
     "iopub.status.busy": "2022-12-05T06:44:35.179221Z",
     "iopub.status.idle": "2022-12-05T06:44:35.191466Z",
     "shell.execute_reply": "2022-12-05T06:44:35.190668Z"
    },
    "lines_to_next_cell": 0,
    "papermill": {
     "duration": 0.022222,
     "end_time": "2022-12-05T06:44:35.193855",
     "exception": false,
     "start_time": "2022-12-05T06:44:35.171633",
     "status": "completed"
    },
    "tags": []
   },
   "outputs": [],
   "source": [
    "# ----------------- Parameters for interactive development --------------\n",
    "P = {\n",
    "    \"pipeline.data_lake_root\": \"/pipeline-outputs/data-lake\",\n",
    "    \"task.nr_train_images\": 600,\n",
    "}"
   ]
  },
  {
   "cell_type": "code",
   "execution_count": 2,
   "id": "5349377b",
   "metadata": {
    "execution": {
     "iopub.execute_input": "2022-12-05T06:44:35.214894Z",
     "iopub.status.busy": "2022-12-05T06:44:35.214559Z",
     "iopub.status.idle": "2022-12-05T06:44:35.219512Z",
     "shell.execute_reply": "2022-12-05T06:44:35.218719Z"
    },
    "lines_to_next_cell": 0,
    "papermill": {
     "duration": 0.025375,
     "end_time": "2022-12-05T06:44:35.225181",
     "exception": false,
     "start_time": "2022-12-05T06:44:35.199806",
     "status": "completed"
    },
    "tags": [
     "parameters"
    ]
   },
   "outputs": [],
   "source": [
    "# - During automated runs parameters will be injected in the below cell -"
   ]
  },
  {
   "cell_type": "code",
   "execution_count": 3,
   "id": "8645f2d0",
   "metadata": {
    "execution": {
     "iopub.execute_input": "2022-12-05T06:44:35.240008Z",
     "iopub.status.busy": "2022-12-05T06:44:35.239499Z",
     "iopub.status.idle": "2022-12-05T06:44:35.247781Z",
     "shell.execute_reply": "2022-12-05T06:44:35.246781Z"
    },
    "papermill": {
     "duration": 0.018476,
     "end_time": "2022-12-05T06:44:35.250840",
     "exception": false,
     "start_time": "2022-12-05T06:44:35.232364",
     "status": "completed"
    },
    "tags": [
     "injected-parameters"
    ]
   },
   "outputs": [],
   "source": [
    "# Parameters\n",
    "P = {\n",
    "    \"pipeline.data_lake_root\": \"/pipeline-outputs/data-lake\",\n",
    "    \"pipeline.run_environment\": \"ci\",\n",
    "    \"pipeline.pipeline_run_id\": \"271a878e-0055-4dd4-8408-8e007d3d8c39\",\n",
    "    \"pipeline.github.repository\": \"matiasdahl/dev-mnist-digits-demo-pipeline\",\n",
    "    \"pipeline.github.workflow\": \"Run automated tests, pipeline and deploy results to static reporting site\",\n",
    "    \"pipeline.github.runner_name\": \"Hosted Agent\",\n",
    "    \"pipeline.github.run_id\": \"3617573418\",\n",
    "    \"pipeline.github.actor\": \"matiasdahl\",\n",
    "    \"pipeline.github.job\": \"run-tests-pipeline-and-persist-pipeline-outputs\",\n",
    "    \"pipeline.github.base_ref\": \"\",\n",
    "    \"pipeline.github.head_ref\": \"\",\n",
    "    \"pipeline.github.sha\": \"ace0d01011d5e914f1921450dd5a59c11367b38d\",\n",
    "    \"pipeline.github.ref\": \"refs/heads/development\",\n",
    "    \"pipeline.github.ref_type\": \"branch\",\n",
    "    \"pipeline.github.ref_name\": \"development\",\n",
    "    \"pipeline.github.event_name\": \"schedule\",\n",
    "    \"task.nr_train_images\": 600,\n",
    "    \"task.notebook\": \"notebooks/benchmark-model.py\",\n",
    "    \"task.max_nr_retries\": \"1\",\n",
    "    \"run.retry_nr\": \"0\",\n",
    "    \"task.timeout_s\": \"None\",\n",
    "    \"task.num_cpus\": 1,\n",
    "    \"_opentelemetry_traceparent\": \"00-7b30746d3e4cf784eea19788fe421997-173b084b789a88c4-01\",\n",
    "}\n"
   ]
  },
  {
   "cell_type": "code",
   "execution_count": 4,
   "id": "e90a4673",
   "metadata": {
    "execution": {
     "iopub.execute_input": "2022-12-05T06:44:35.264907Z",
     "iopub.status.busy": "2022-12-05T06:44:35.264588Z",
     "iopub.status.idle": "2022-12-05T06:44:35.273173Z",
     "shell.execute_reply": "2022-12-05T06:44:35.270585Z"
    },
    "lines_to_next_cell": 0,
    "papermill": {
     "duration": 0.020683,
     "end_time": "2022-12-05T06:44:35.277576",
     "exception": false,
     "start_time": "2022-12-05T06:44:35.256893",
     "status": "completed"
    },
    "tags": []
   },
   "outputs": [],
   "source": [
    "# -----------------------------------------------------------------------"
   ]
  },
  {
   "cell_type": "markdown",
   "id": "6c19ba27",
   "metadata": {
    "papermill": {
     "duration": 0.005852,
     "end_time": "2022-12-05T06:44:35.291741",
     "exception": false,
     "start_time": "2022-12-05T06:44:35.285889",
     "status": "completed"
    },
    "tags": []
   },
   "source": [
    "---"
   ]
  },
  {
   "cell_type": "markdown",
   "id": "301d076a",
   "metadata": {
    "lines_to_next_cell": 2,
    "papermill": {
     "duration": 0.005681,
     "end_time": "2022-12-05T06:44:35.304204",
     "exception": false,
     "start_time": "2022-12-05T06:44:35.298523",
     "status": "completed"
    },
    "tags": []
   },
   "source": [
    "### Notebook code"
   ]
  },
  {
   "cell_type": "code",
   "execution_count": 5,
   "id": "59435613",
   "metadata": {
    "execution": {
     "iopub.execute_input": "2022-12-05T06:44:35.318145Z",
     "iopub.status.busy": "2022-12-05T06:44:35.317758Z",
     "iopub.status.idle": "2022-12-05T06:44:36.982802Z",
     "shell.execute_reply": "2022-12-05T06:44:36.980883Z"
    },
    "papermill": {
     "duration": 1.676747,
     "end_time": "2022-12-05T06:44:36.986316",
     "exception": false,
     "start_time": "2022-12-05T06:44:35.309569",
     "status": "completed"
    },
    "tags": []
   },
   "outputs": [
    {
     "name": "stderr",
     "output_type": "stream",
     "text": [
      "2022-12-05 06:44:36,790\tINFO worker.py:842 -- Connecting to existing Ray cluster at address: 172.17.0.2:6379\n"
     ]
    }
   ],
   "source": [
    "import itertools as it\n",
    "\n",
    "#\n",
    "import numpy as np\n",
    "import matplotlib.pyplot as plt\n",
    "\n",
    "#\n",
    "from pynb_dag_runner.tasks.task_opentelemetry_logging import PydarLogger\n",
    "\n",
    "#\n",
    "from common.io import datalake_root\n",
    "\n",
    "logger = PydarLogger(P)"
   ]
  },
  {
   "cell_type": "markdown",
   "id": "dcae540a",
   "metadata": {
    "papermill": {
     "duration": 0.007012,
     "end_time": "2022-12-05T06:44:37.001654",
     "exception": false,
     "start_time": "2022-12-05T06:44:36.994642",
     "status": "completed"
    },
    "tags": []
   },
   "source": [
    "## Load persisted onnx-model and evaluation data"
   ]
  },
  {
   "cell_type": "code",
   "execution_count": 6,
   "id": "8ef5b8ae",
   "metadata": {
    "execution": {
     "iopub.execute_input": "2022-12-05T06:44:37.020376Z",
     "iopub.status.busy": "2022-12-05T06:44:37.019711Z",
     "iopub.status.idle": "2022-12-05T06:44:37.025270Z",
     "shell.execute_reply": "2022-12-05T06:44:37.024085Z"
    },
    "papermill": {
     "duration": 0.019374,
     "end_time": "2022-12-05T06:44:37.029584",
     "exception": false,
     "start_time": "2022-12-05T06:44:37.010210",
     "status": "completed"
    },
    "tags": []
   },
   "outputs": [],
   "source": [
    "from common.io import read_onnx, get_onnx_inputs, get_onnx_outputs, read_numpy"
   ]
  },
  {
   "cell_type": "code",
   "execution_count": 7,
   "id": "20e23535",
   "metadata": {
    "execution": {
     "iopub.execute_input": "2022-12-05T06:44:37.056158Z",
     "iopub.status.busy": "2022-12-05T06:44:37.055702Z",
     "iopub.status.idle": "2022-12-05T06:44:37.067768Z",
     "shell.execute_reply": "2022-12-05T06:44:37.066727Z"
    },
    "lines_to_next_cell": 0,
    "papermill": {
     "duration": 0.026406,
     "end_time": "2022-12-05T06:44:37.071038",
     "exception": false,
     "start_time": "2022-12-05T06:44:37.044632",
     "status": "completed"
    },
    "tags": []
   },
   "outputs": [],
   "source": [
    "onnx_inference_session = read_onnx(\n",
    "    datalake_root(P)\n",
    "    / \"models\"\n",
    "    / f\"nr_train_images={P['task.nr_train_images']}\"\n",
    "    / \"model.onnx\"\n",
    ")"
   ]
  },
  {
   "cell_type": "markdown",
   "id": "b0f1f261",
   "metadata": {
    "papermill": {
     "duration": 0.007069,
     "end_time": "2022-12-05T06:44:37.086783",
     "exception": false,
     "start_time": "2022-12-05T06:44:37.079714",
     "status": "completed"
    },
    "tags": []
   },
   "source": [
    "### Record structure of inputs and outputs for ONNX model\n",
    "\n",
    "(this should likely be done in training notebook)"
   ]
  },
  {
   "cell_type": "code",
   "execution_count": 8,
   "id": "3253ef12",
   "metadata": {
    "execution": {
     "iopub.execute_input": "2022-12-05T06:44:37.113568Z",
     "iopub.status.busy": "2022-12-05T06:44:37.113216Z",
     "iopub.status.idle": "2022-12-05T06:44:37.121782Z",
     "shell.execute_reply": "2022-12-05T06:44:37.120974Z"
    },
    "papermill": {
     "duration": 0.020826,
     "end_time": "2022-12-05T06:44:37.124866",
     "exception": false,
     "start_time": "2022-12-05T06:44:37.104040",
     "status": "completed"
    },
    "tags": []
   },
   "outputs": [
    {
     "name": "stdout",
     "output_type": "stream",
     "text": [
      "{\n",
      "  \"inputs\": [\n",
      "    {\n",
      "      \"name\": \"float_input_8x8_image\",\n",
      "      \"shape\": [\n",
      "        null,\n",
      "        64\n",
      "      ],\n",
      "      \"type\": \"tensor(float)\"\n",
      "    }\n",
      "  ],\n",
      "  \"outputs\": [\n",
      "    {\n",
      "      \"name\": \"output_label\",\n",
      "      \"shape\": [\n",
      "        null\n",
      "      ],\n",
      "      \"type\": \"tensor(int64)\"\n",
      "    },\n",
      "    {\n",
      "      \"name\": \"output_probability\",\n",
      "      \"shape\": [],\n",
      "      \"type\": \"seq(map(int64,tensor(float)))\"\n",
      "    }\n",
      "  ]\n",
      "}\n"
     ]
    }
   ],
   "source": [
    "import json\n",
    "\n",
    "onnx_io = json.dumps(\n",
    "    {\n",
    "        \"inputs\": get_onnx_inputs(onnx_inference_session),\n",
    "        \"outputs\": get_onnx_outputs(onnx_inference_session),\n",
    "    },\n",
    "    indent=2,\n",
    ")\n",
    "\n",
    "\n",
    "logger.log_artefact(\"onnx_io_structure.json\", onnx_io)\n",
    "print(onnx_io)"
   ]
  },
  {
   "cell_type": "markdown",
   "id": "f1e730d9",
   "metadata": {
    "papermill": {
     "duration": 0.017892,
     "end_time": "2022-12-05T06:44:37.150049",
     "exception": false,
     "start_time": "2022-12-05T06:44:37.132157",
     "status": "completed"
    },
    "tags": []
   },
   "source": [
    "### Evaluate model performance on evaluation data set"
   ]
  },
  {
   "cell_type": "code",
   "execution_count": 9,
   "id": "8c3ee5ee",
   "metadata": {
    "execution": {
     "iopub.execute_input": "2022-12-05T06:44:37.167438Z",
     "iopub.status.busy": "2022-12-05T06:44:37.166999Z",
     "iopub.status.idle": "2022-12-05T06:44:37.173828Z",
     "shell.execute_reply": "2022-12-05T06:44:37.172949Z"
    },
    "papermill": {
     "duration": 0.019661,
     "end_time": "2022-12-05T06:44:37.176854",
     "exception": false,
     "start_time": "2022-12-05T06:44:37.157193",
     "status": "completed"
    },
    "tags": []
   },
   "outputs": [],
   "source": [
    "# load evaluation data\n",
    "X_test = read_numpy(datalake_root(P) / \"test-data\" / \"digits.numpy\")\n",
    "y_test = read_numpy(datalake_root(P) / \"test-data\" / \"labels.numpy\")"
   ]
  },
  {
   "cell_type": "code",
   "execution_count": 10,
   "id": "a34fd5ff",
   "metadata": {
    "execution": {
     "iopub.execute_input": "2022-12-05T06:44:37.196377Z",
     "iopub.status.busy": "2022-12-05T06:44:37.196023Z",
     "iopub.status.idle": "2022-12-05T06:44:37.285236Z",
     "shell.execute_reply": "2022-12-05T06:44:37.284381Z"
    },
    "papermill": {
     "duration": 0.100856,
     "end_time": "2022-12-05T06:44:37.288363",
     "exception": false,
     "start_time": "2022-12-05T06:44:37.187507",
     "status": "completed"
    },
    "tags": []
   },
   "outputs": [],
   "source": [
    "def get_model_outputs(X, onnx_inference_session):\n",
    "    y_pred_labels, y_pred_map = onnx_inference_session.run(\n",
    "        [\"output_label\", \"output_probability\"],\n",
    "        {\"float_input_8x8_image\": X.astype(np.float32)},\n",
    "    )\n",
    "    y_pred_probs = np.array(\n",
    "        [[probabilities[digit] for digit in range(10)] for probabilities in y_pred_map]\n",
    "    )\n",
    "\n",
    "    assert y_pred_labels.shape == (X.shape[0],)\n",
    "    assert y_pred_probs.shape == (X.shape[0], 10)\n",
    "\n",
    "    return y_pred_labels, y_pred_probs\n",
    "\n",
    "\n",
    "# Note: as shown in the training notebook, the predicted labels and probabilities\n",
    "# computed below need not be compatible.\n",
    "y_pred_labels_test, y_pred_probs_test = get_model_outputs(\n",
    "    X_test, onnx_inference_session\n",
    ")"
   ]
  },
  {
   "cell_type": "markdown",
   "id": "f6666daf",
   "metadata": {
    "papermill": {
     "duration": 0.007328,
     "end_time": "2022-12-05T06:44:37.304374",
     "exception": false,
     "start_time": "2022-12-05T06:44:37.297046",
     "status": "completed"
    },
    "tags": []
   },
   "source": [
    "### Confusion matrix"
   ]
  },
  {
   "cell_type": "code",
   "execution_count": 11,
   "id": "fb9b6cd6",
   "metadata": {
    "execution": {
     "iopub.execute_input": "2022-12-05T06:44:37.321193Z",
     "iopub.status.busy": "2022-12-05T06:44:37.320808Z",
     "iopub.status.idle": "2022-12-05T06:44:37.325251Z",
     "shell.execute_reply": "2022-12-05T06:44:37.324424Z"
    },
    "papermill": {
     "duration": 0.015563,
     "end_time": "2022-12-05T06:44:37.327168",
     "exception": false,
     "start_time": "2022-12-05T06:44:37.311605",
     "status": "completed"
    },
    "tags": []
   },
   "outputs": [],
   "source": [
    "# TODO"
   ]
  },
  {
   "cell_type": "markdown",
   "id": "1ef2c87d",
   "metadata": {
    "papermill": {
     "duration": 0.007551,
     "end_time": "2022-12-05T06:44:37.344140",
     "exception": false,
     "start_time": "2022-12-05T06:44:37.336589",
     "status": "completed"
    },
    "tags": []
   },
   "source": [
    "### Plot predicted probabilities for each classifier over all evaluation digit images"
   ]
  },
  {
   "cell_type": "code",
   "execution_count": 12,
   "id": "b340f20b",
   "metadata": {
    "execution": {
     "iopub.execute_input": "2022-12-05T06:44:37.368608Z",
     "iopub.status.busy": "2022-12-05T06:44:37.368227Z",
     "iopub.status.idle": "2022-12-05T06:44:43.358160Z",
     "shell.execute_reply": "2022-12-05T06:44:43.357267Z"
    },
    "papermill": {
     "duration": 6.029752,
     "end_time": "2022-12-05T06:44:43.380180",
     "exception": false,
     "start_time": "2022-12-05T06:44:37.350428",
     "status": "completed"
    },
    "tags": []
   },
   "outputs": [
    {
     "data": {
      "image/png": "[encoded data removed]",
      "text/plain": [
       "<Figure size 1600x600 with 10 Axes>"
      ]
     },
     "metadata": {},
     "output_type": "display_data"
    }
   ],
   "source": [
    "def plot_per_digit_probabilities(y_pred_probs):\n",
    "    fig, axs = plt.subplots(nrows=2, ncols=5, figsize=(16, 6))\n",
    "\n",
    "    for (r, c), digit, ax in zip(\n",
    "        it.product(range(2), range(5)), range(10), axs.reshape(-1)\n",
    "    ):\n",
    "        ax.hist(y_pred_probs_test[:, digit], bins=20)\n",
    "\n",
    "        ax.set_title(f\"Digit {digit}\")\n",
    "        if r == 1 and c == 2:\n",
    "            ax.set_xlabel(\"probability\", fontsize=16)\n",
    "\n",
    "        if c == 0:\n",
    "            ax.set_ylabel(\"counts\", fontsize=16)\n",
    "        ax.set_yscale(\"log\")\n",
    "\n",
    "    fig.tight_layout()\n",
    "    fig.suptitle(\n",
    "        f\"Distributions of prediction probabilities for each digit \"\n",
    "        f\"(on evaluation data, n={y_pred_probs.shape[0]})\",\n",
    "        fontsize=20,\n",
    "    )\n",
    "    fig.tight_layout()\n",
    "    fig.show()\n",
    "\n",
    "    return fig\n",
    "\n",
    "\n",
    "fig = plot_per_digit_probabilities(y_pred_probs_test)"
   ]
  },
  {
   "cell_type": "markdown",
   "id": "dd743d43",
   "metadata": {
    "papermill": {
     "duration": 0.01424,
     "end_time": "2022-12-05T06:44:43.406829",
     "exception": false,
     "start_time": "2022-12-05T06:44:43.392589",
     "status": "completed"
    },
    "tags": []
   },
   "source": [
    "From the above distributions we see that most digits have clear separation between\n",
    "high and lower probabilities. Morover, in each case there is roughly an order of\n",
    "magnitude more of digits with low probabilities. This is compatible with digits\n",
    "being roughly evenly distributed in the data."
   ]
  },
  {
   "cell_type": "code",
   "execution_count": 13,
   "id": "d04497fe",
   "metadata": {
    "execution": {
     "iopub.execute_input": "2022-12-05T06:44:43.426689Z",
     "iopub.status.busy": "2022-12-05T06:44:43.425937Z",
     "iopub.status.idle": "2022-12-05T06:44:44.264350Z",
     "shell.execute_reply": "2022-12-05T06:44:44.262758Z"
    },
    "papermill": {
     "duration": 0.850552,
     "end_time": "2022-12-05T06:44:44.267257",
     "exception": false,
     "start_time": "2022-12-05T06:44:43.416705",
     "status": "completed"
    },
    "tags": []
   },
   "outputs": [],
   "source": [
    "logger.log_figure(\"per-digit-probabilities.png\", fig)"
   ]
  },
  {
   "cell_type": "markdown",
   "id": "a38dee4e",
   "metadata": {
    "papermill": {
     "duration": 0.00764,
     "end_time": "2022-12-05T06:44:44.285027",
     "exception": false,
     "start_time": "2022-12-05T06:44:44.277387",
     "status": "completed"
    },
    "tags": []
   },
   "source": [
    "### Plot ROC curves for individual one-vs-rest classifiers"
   ]
  },
  {
   "cell_type": "code",
   "execution_count": 14,
   "id": "1401b353",
   "metadata": {
    "execution": {
     "iopub.execute_input": "2022-12-05T06:44:44.301290Z",
     "iopub.status.busy": "2022-12-05T06:44:44.300840Z",
     "iopub.status.idle": "2022-12-05T06:44:44.817731Z",
     "shell.execute_reply": "2022-12-05T06:44:44.816676Z"
    },
    "papermill": {
     "duration": 0.528692,
     "end_time": "2022-12-05T06:44:44.820907",
     "exception": false,
     "start_time": "2022-12-05T06:44:44.292215",
     "status": "completed"
    },
    "tags": []
   },
   "outputs": [],
   "source": [
    "from sklearn import metrics"
   ]
  },
  {
   "cell_type": "code",
   "execution_count": 15,
   "id": "5e0d85c8",
   "metadata": {
    "execution": {
     "iopub.execute_input": "2022-12-05T06:44:44.854820Z",
     "iopub.status.busy": "2022-12-05T06:44:44.854392Z",
     "iopub.status.idle": "2022-12-05T06:44:47.049195Z",
     "shell.execute_reply": "2022-12-05T06:44:47.047785Z"
    },
    "papermill": {
     "duration": 2.216168,
     "end_time": "2022-12-05T06:44:47.052189",
     "exception": false,
     "start_time": "2022-12-05T06:44:44.836021",
     "status": "completed"
    },
    "tags": []
   },
   "outputs": [
    {
     "data": {
      "image/png": "[encoded data removed]",
      "text/plain": [
       "<Figure size 1600x800 with 10 Axes>"
      ]
     },
     "metadata": {},
     "output_type": "display_data"
    }
   ],
   "source": [
    "def plot_roc_curves(y, y_pred_probs):\n",
    "    # based on example code\n",
    "    # https://scikit-learn.org/stable/auto_examples/model_selection/plot_roc.html\n",
    "\n",
    "    fig, axs = plt.subplots(nrows=2, ncols=5, figsize=(16, 8))\n",
    "\n",
    "    roc_auc_dict = {}\n",
    "\n",
    "    for (r, c), digit, ax in zip(\n",
    "        it.product(range(2), range(5)), range(10), axs.reshape(-1)\n",
    "    ):\n",
    "        fpr, tpr, _ = metrics.roc_curve(y == digit, y_pred_probs[:, digit])\n",
    "        auc = metrics.auc(fpr, tpr)\n",
    "        roc_auc_dict[str(digit)] = auc\n",
    "\n",
    "        ax.plot(fpr, tpr, label=f\"ROC AUC={round(auc, 3)}\")\n",
    "\n",
    "        ax.set_title(f\"\\nDigit {digit}\", fontsize=16)\n",
    "        if r == 1:\n",
    "            ax.set_xlabel(\"FPR\", fontsize=18)\n",
    "\n",
    "        if c == 0:\n",
    "            ax.set_ylabel(\"TPR\", fontsize=18)\n",
    "\n",
    "        ax.set_xlim([-0.05, 1.05])\n",
    "        ax.set_ylim([-0.05, 1.05])\n",
    "        ax.legend(loc=\"lower right\", frameon=False, fontsize=14)\n",
    "\n",
    "    fig.tight_layout()\n",
    "    fig.suptitle(\n",
    "        f\"ROC plots for one-vs-rest performances \"\n",
    "        f\"(on evaluation data, n={y_pred_probs_test.shape[1]}\",\n",
    "        fontsize=22,\n",
    "    )\n",
    "    fig.tight_layout()\n",
    "    fig.show()\n",
    "\n",
    "    return roc_auc_dict, fig\n",
    "\n",
    "\n",
    "roc_auc_dict, fig = plot_roc_curves(y_test, y_pred_probs_test)"
   ]
  },
  {
   "cell_type": "code",
   "execution_count": 16,
   "id": "5dc95a5b",
   "metadata": {
    "execution": {
     "iopub.execute_input": "2022-12-05T06:44:47.079732Z",
     "iopub.status.busy": "2022-12-05T06:44:47.078740Z",
     "iopub.status.idle": "2022-12-05T06:44:47.618114Z",
     "shell.execute_reply": "2022-12-05T06:44:47.616924Z"
    },
    "papermill": {
     "duration": 0.555271,
     "end_time": "2022-12-05T06:44:47.620921",
     "exception": false,
     "start_time": "2022-12-05T06:44:47.065650",
     "status": "completed"
    },
    "tags": []
   },
   "outputs": [
    {
     "name": "stdout",
     "output_type": "stream",
     "text": [
      "\u001b[2m\u001b[1m\u001b[36m(scheduler +10s)\u001b[0m Tip: use `ray status` to view detailed cluster status. To disable these messages, set RAY_SCHEDULER_EVENTS=0.\n",
      "\u001b[2m\u001b[1m\u001b[33m(scheduler +10s)\u001b[0m Warning: The following resource request cannot be scheduled right now: {'CPU': 1.0}. This is likely due to all cluster resources being claimed by actors. Consider creating fewer actors or adding more nodes to this Ray cluster.\n"
     ]
    }
   ],
   "source": [
    "logger.log_figure(\"per-digit-roc-curves.png\", fig)"
   ]
  },
  {
   "cell_type": "code",
   "execution_count": 17,
   "id": "1568a005",
   "metadata": {
    "execution": {
     "iopub.execute_input": "2022-12-05T06:44:47.645053Z",
     "iopub.status.busy": "2022-12-05T06:44:47.642861Z",
     "iopub.status.idle": "2022-12-05T06:44:47.653751Z",
     "shell.execute_reply": "2022-12-05T06:44:47.652850Z"
    },
    "papermill": {
     "duration": 0.031667,
     "end_time": "2022-12-05T06:44:47.663080",
     "exception": false,
     "start_time": "2022-12-05T06:44:47.631413",
     "status": "completed"
    },
    "tags": []
   },
   "outputs": [
    {
     "data": {
      "text/plain": [
       "{'0': 1.0,\n",
       " '1': 0.9991752577319588,\n",
       " '2': 1.0,\n",
       " '3': 0.9996626054358013,\n",
       " '4': 0.9991236092059138,\n",
       " '5': 0.998950328022493,\n",
       " '6': 0.999923792104862,\n",
       " '7': 0.9998475842097241,\n",
       " '8': 0.9939706809583858,\n",
       " '9': 0.9988187776253621}"
      ]
     },
     "execution_count": 17,
     "metadata": {},
     "output_type": "execute_result"
    }
   ],
   "source": [
    "roc_auc_dict"
   ]
  },
  {
   "cell_type": "code",
   "execution_count": 18,
   "id": "fed6cdbe",
   "metadata": {
    "execution": {
     "iopub.execute_input": "2022-12-05T06:44:47.681932Z",
     "iopub.status.busy": "2022-12-05T06:44:47.681359Z",
     "iopub.status.idle": "2022-12-05T06:44:47.688096Z",
     "shell.execute_reply": "2022-12-05T06:44:47.687003Z"
    },
    "papermill": {
     "duration": 0.020563,
     "end_time": "2022-12-05T06:44:47.692231",
     "exception": false,
     "start_time": "2022-12-05T06:44:47.671668",
     "status": "completed"
    },
    "tags": []
   },
   "outputs": [
    {
     "name": "stdout",
     "output_type": "stream",
     "text": [
      " - Logging roc_auc_per_digit (json) : {'0': 1.0, '1': 0.9991752577319588, '2': 1.0, '3': 0.9996626054358013, '4': 0.9991236092059138, '5': 0.998950328022493, '6': 0.999923792104862, '7': 0.9998475842097241, '8': 0.9939706809583858, '9': 0.9988187776253621}\n"
     ]
    }
   ],
   "source": [
    "logger.log_value(\"roc_auc_per_digit\", roc_auc_dict)"
   ]
  },
  {
   "cell_type": "markdown",
   "id": "3bc4710c",
   "metadata": {
    "papermill": {
     "duration": 0.008339,
     "end_time": "2022-12-05T06:44:47.708370",
     "exception": false,
     "start_time": "2022-12-05T06:44:47.700031",
     "status": "completed"
    },
    "tags": []
   },
   "source": [
    "### Compute and log mean ROC AUC score averaged over all digits"
   ]
  },
  {
   "cell_type": "code",
   "execution_count": 19,
   "id": "05f21b72",
   "metadata": {
    "execution": {
     "iopub.execute_input": "2022-12-05T06:44:47.727207Z",
     "iopub.status.busy": "2022-12-05T06:44:47.726603Z",
     "iopub.status.idle": "2022-12-05T06:44:47.746924Z",
     "shell.execute_reply": "2022-12-05T06:44:47.745829Z"
    },
    "papermill": {
     "duration": 0.032567,
     "end_time": "2022-12-05T06:44:47.749152",
     "exception": false,
     "start_time": "2022-12-05T06:44:47.716585",
     "status": "completed"
    },
    "tags": []
   },
   "outputs": [
    {
     "name": "stdout",
     "output_type": "stream",
     "text": [
      " - Logging roc_auc_class_mean (float) : 0.9989472635294501\n"
     ]
    }
   ],
   "source": [
    "roc_auc_macro = np.mean(list(roc_auc_dict.values()))\n",
    "\n",
    "logger.log_float(\"roc_auc_class_mean\", roc_auc_macro)\n",
    "\n",
    "# assert that the same value can be computed directly using sklearn\n",
    "assert roc_auc_macro == metrics.roc_auc_score(\n",
    "    y_test, y_pred_probs_test, average=\"macro\", multi_class=\"ovr\"\n",
    ")"
   ]
  },
  {
   "cell_type": "code",
   "execution_count": 20,
   "id": "b6654268",
   "metadata": {
    "execution": {
     "iopub.execute_input": "2022-12-05T06:44:47.769899Z",
     "iopub.status.busy": "2022-12-05T06:44:47.769197Z",
     "iopub.status.idle": "2022-12-05T06:44:47.773505Z",
     "shell.execute_reply": "2022-12-05T06:44:47.772408Z"
    },
    "lines_to_next_cell": 0,
    "papermill": {
     "duration": 0.015181,
     "end_time": "2022-12-05T06:44:47.775854",
     "exception": false,
     "start_time": "2022-12-05T06:44:47.760673",
     "status": "completed"
    },
    "tags": []
   },
   "outputs": [],
   "source": [
    "# ---"
   ]
  },
  {
   "cell_type": "code",
   "execution_count": null,
   "id": "e063045b",
   "metadata": {
    "papermill": {
     "duration": 0.007925,
     "end_time": "2022-12-05T06:44:47.792891",
     "exception": false,
     "start_time": "2022-12-05T06:44:47.784966",
     "status": "completed"
    },
    "tags": []
   },
   "outputs": [],
   "source": []
  }
 ],
 "metadata": {
  "jupytext": {
   "cell_metadata_filter": "tags,-all",
   "main_language": "python",
   "notebook_metadata_filter": "-all"
  },
  "language_info": {
   "codemirror_mode": {
    "name": "ipython",
    "version": 3
   },
   "file_extension": ".py",
   "mimetype": "text/x-python",
   "name": "python",
   "nbconvert_exporter": "python",
   "pygments_lexer": "ipython3",
   "version": "3.8.10"
  },
  "papermill": {
   "default_parameters": {},
   "duration": 15.699151,
   "end_time": "2022-12-05T06:44:49.128120",
   "environment_variables": {},
   "exception": null,
   "input_path": "/home/host_user/workspace/mnist-demo-pipeline/mnist-demo-pipeline/notebooks/temp-notebook-17qb40ek.ipynb",
   "output_path": "notebooks/benchmark-model.ipynb",
   "parameters": {
    "P": {
     "_opentelemetry_traceparent": "00-7b30746d3e4cf784eea19788fe421997-173b084b789a88c4-01",
     "pipeline.data_lake_root": "/pipeline-outputs/data-lake",
     "pipeline.github.actor": "matiasdahl",
     "pipeline.github.base_ref": "",
     "pipeline.github.event_name": "schedule",
     "pipeline.github.head_ref": "",
     "pipeline.github.job": "run-tests-pipeline-and-persist-pipeline-outputs",
     "pipeline.github.ref": "refs/heads/development",
     "pipeline.github.ref_name": "development",
     "pipeline.github.ref_type": "branch",
     "pipeline.github.repository": "matiasdahl/dev-mnist-digits-demo-pipeline",
     "pipeline.github.run_id": "3617573418",
     "pipeline.github.runner_name": "Hosted Agent",
     "pipeline.github.sha": "ace0d01011d5e914f1921450dd5a59c11367b38d",
     "pipeline.github.workflow": "Run automated tests, pipeline and deploy results to static reporting site",
     "pipeline.pipeline_run_id": "271a878e-0055-4dd4-8408-8e007d3d8c39",
     "pipeline.run_environment": "ci",
     "run.retry_nr": "0",
     "task.max_nr_retries": "1",
     "task.notebook": "notebooks/benchmark-model.py",
     "task.nr_train_images": 600,
     "task.num_cpus": 1,
     "task.timeout_s": "None"
    }
   },
   "start_time": "2022-12-05T06:44:33.428969",
   "version": "2.3.3"
  }
 },
 "nbformat": 4,
 "nbformat_minor": 5
}