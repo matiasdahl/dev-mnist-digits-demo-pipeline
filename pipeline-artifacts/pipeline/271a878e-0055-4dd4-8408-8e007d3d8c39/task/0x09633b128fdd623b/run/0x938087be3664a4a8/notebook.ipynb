{
 "cells": [
  {
   "cell_type": "markdown",
   "id": "c8bef1e9",
   "metadata": {
    "papermill": {
     "duration": 0.00914,
     "end_time": "2022-12-05T06:44:45.584882",
     "exception": false,
     "start_time": "2022-12-05T06:44:45.575742",
     "status": "completed"
    },
    "tags": []
   },
   "source": [
    "# Benchmark model\n",
    "\n",
    "The purpose of this notebook is to benchmark persisted onnx-model (trained in the\n",
    "previous step) against evaluation set."
   ]
  },
  {
   "cell_type": "markdown",
   "id": "bcc667e3",
   "metadata": {
    "papermill": {
     "duration": 0.007275,
     "end_time": "2022-12-05T06:44:45.599713",
     "exception": false,
     "start_time": "2022-12-05T06:44:45.592438",
     "status": "completed"
    },
    "tags": []
   },
   "source": [
    "### Determine run parameters"
   ]
  },
  {
   "cell_type": "code",
   "execution_count": 1,
   "id": "6b105628",
   "metadata": {
    "execution": {
     "iopub.execute_input": "2022-12-05T06:44:45.613810Z",
     "iopub.status.busy": "2022-12-05T06:44:45.613411Z",
     "iopub.status.idle": "2022-12-05T06:44:45.627282Z",
     "shell.execute_reply": "2022-12-05T06:44:45.625553Z"
    },
    "lines_to_next_cell": 0,
    "papermill": {
     "duration": 0.024449,
     "end_time": "2022-12-05T06:44:45.630490",
     "exception": false,
     "start_time": "2022-12-05T06:44:45.606041",
     "status": "completed"
    },
    "tags": []
   },
   "outputs": [],
   "source": [
    "# ----------------- Parameters for interactive development --------------\n",
    "P = {\n",
    "    \"pipeline.data_lake_root\": \"/pipeline-outputs/data-lake\",\n",
    "    \"task.nr_train_images\": 600,\n",
    "}"
   ]
  },
  {
   "cell_type": "code",
   "execution_count": 2,
   "id": "954281aa",
   "metadata": {
    "execution": {
     "iopub.execute_input": "2022-12-05T06:44:45.649116Z",
     "iopub.status.busy": "2022-12-05T06:44:45.648703Z",
     "iopub.status.idle": "2022-12-05T06:44:45.653575Z",
     "shell.execute_reply": "2022-12-05T06:44:45.652698Z"
    },
    "lines_to_next_cell": 0,
    "papermill": {
     "duration": 0.026504,
     "end_time": "2022-12-05T06:44:45.666726",
     "exception": false,
     "start_time": "2022-12-05T06:44:45.640222",
     "status": "completed"
    },
    "tags": [
     "parameters"
    ]
   },
   "outputs": [],
   "source": [
    "# - During automated runs parameters will be injected in the below cell -"
   ]
  },
  {
   "cell_type": "code",
   "execution_count": 3,
   "id": "5830dae9",
   "metadata": {
    "execution": {
     "iopub.execute_input": "2022-12-05T06:44:45.681400Z",
     "iopub.status.busy": "2022-12-05T06:44:45.681035Z",
     "iopub.status.idle": "2022-12-05T06:44:45.690463Z",
     "shell.execute_reply": "2022-12-05T06:44:45.689357Z"
    },
    "papermill": {
     "duration": 0.02457,
     "end_time": "2022-12-05T06:44:45.697232",
     "exception": false,
     "start_time": "2022-12-05T06:44:45.672662",
     "status": "completed"
    },
    "tags": [
     "injected-parameters"
    ]
   },
   "outputs": [],
   "source": [
    "# Parameters\n",
    "P = {\n",
    "    \"pipeline.data_lake_root\": \"/pipeline-outputs/data-lake\",\n",
    "    \"pipeline.run_environment\": \"ci\",\n",
    "    \"pipeline.pipeline_run_id\": \"271a878e-0055-4dd4-8408-8e007d3d8c39\",\n",
    "    \"pipeline.github.repository\": \"matiasdahl/dev-mnist-digits-demo-pipeline\",\n",
    "    \"pipeline.github.workflow\": \"Run automated tests, pipeline and deploy results to static reporting site\",\n",
    "    \"pipeline.github.runner_name\": \"Hosted Agent\",\n",
    "    \"pipeline.github.run_id\": \"3617573418\",\n",
    "    \"pipeline.github.actor\": \"matiasdahl\",\n",
    "    \"pipeline.github.job\": \"run-tests-pipeline-and-persist-pipeline-outputs\",\n",
    "    \"pipeline.github.base_ref\": \"\",\n",
    "    \"pipeline.github.head_ref\": \"\",\n",
    "    \"pipeline.github.sha\": \"ace0d01011d5e914f1921450dd5a59c11367b38d\",\n",
    "    \"pipeline.github.ref\": \"refs/heads/development\",\n",
    "    \"pipeline.github.ref_type\": \"branch\",\n",
    "    \"pipeline.github.ref_name\": \"development\",\n",
    "    \"pipeline.github.event_name\": \"schedule\",\n",
    "    \"task.nr_train_images\": 800,\n",
    "    \"task.notebook\": \"notebooks/benchmark-model.py\",\n",
    "    \"task.max_nr_retries\": \"1\",\n",
    "    \"run.retry_nr\": \"0\",\n",
    "    \"task.timeout_s\": \"None\",\n",
    "    \"task.num_cpus\": 1,\n",
    "    \"_opentelemetry_traceparent\": \"00-7b30746d3e4cf784eea19788fe421997-dbe43e4b7605a27d-01\",\n",
    "}\n"
   ]
  },
  {
   "cell_type": "code",
   "execution_count": 4,
   "id": "8f6ac4e5",
   "metadata": {
    "execution": {
     "iopub.execute_input": "2022-12-05T06:44:45.712474Z",
     "iopub.status.busy": "2022-12-05T06:44:45.712138Z",
     "iopub.status.idle": "2022-12-05T06:44:45.717193Z",
     "shell.execute_reply": "2022-12-05T06:44:45.716075Z"
    },
    "lines_to_next_cell": 0,
    "papermill": {
     "duration": 0.016124,
     "end_time": "2022-12-05T06:44:45.721280",
     "exception": false,
     "start_time": "2022-12-05T06:44:45.705156",
     "status": "completed"
    },
    "tags": []
   },
   "outputs": [],
   "source": [
    "# -----------------------------------------------------------------------"
   ]
  },
  {
   "cell_type": "markdown",
   "id": "6eee1c02",
   "metadata": {
    "papermill": {
     "duration": 0.005583,
     "end_time": "2022-12-05T06:44:45.734057",
     "exception": false,
     "start_time": "2022-12-05T06:44:45.728474",
     "status": "completed"
    },
    "tags": []
   },
   "source": [
    "---"
   ]
  },
  {
   "cell_type": "markdown",
   "id": "635f1dc9",
   "metadata": {
    "lines_to_next_cell": 2,
    "papermill": {
     "duration": 0.006051,
     "end_time": "2022-12-05T06:44:45.746692",
     "exception": false,
     "start_time": "2022-12-05T06:44:45.740641",
     "status": "completed"
    },
    "tags": []
   },
   "source": [
    "### Notebook code"
   ]
  },
  {
   "cell_type": "code",
   "execution_count": 5,
   "id": "ae22c4af",
   "metadata": {
    "execution": {
     "iopub.execute_input": "2022-12-05T06:44:45.761195Z",
     "iopub.status.busy": "2022-12-05T06:44:45.760831Z",
     "iopub.status.idle": "2022-12-05T06:44:47.234856Z",
     "shell.execute_reply": "2022-12-05T06:44:47.233860Z"
    },
    "papermill": {
     "duration": 1.484788,
     "end_time": "2022-12-05T06:44:47.238524",
     "exception": false,
     "start_time": "2022-12-05T06:44:45.753736",
     "status": "completed"
    },
    "tags": []
   },
   "outputs": [
    {
     "name": "stderr",
     "output_type": "stream",
     "text": [
      "2022-12-05 06:44:47,036\tINFO worker.py:842 -- Connecting to existing Ray cluster at address: 172.17.0.2:6379\n"
     ]
    },
    {
     "name": "stdout",
     "output_type": "stream",
     "text": [
      "\u001b[2m\u001b[1m\u001b[36m(scheduler +0s)\u001b[0m Tip: use `ray status` to view detailed cluster status. To disable these messages, set RAY_SCHEDULER_EVENTS=0.\n",
      "\u001b[2m\u001b[1m\u001b[33m(scheduler +0s)\u001b[0m Warning: The following resource request cannot be scheduled right now: {'CPU': 1.0}. This is likely due to all cluster resources being claimed by actors. Consider creating fewer actors or adding more nodes to this Ray cluster.\n"
     ]
    }
   ],
   "source": [
    "import itertools as it\n",
    "\n",
    "#\n",
    "import numpy as np\n",
    "import matplotlib.pyplot as plt\n",
    "\n",
    "#\n",
    "from pynb_dag_runner.tasks.task_opentelemetry_logging import PydarLogger\n",
    "\n",
    "#\n",
    "from common.io import datalake_root\n",
    "\n",
    "logger = PydarLogger(P)"
   ]
  },
  {
   "cell_type": "markdown",
   "id": "e23d61fb",
   "metadata": {
    "papermill": {
     "duration": 0.006879,
     "end_time": "2022-12-05T06:44:47.252976",
     "exception": false,
     "start_time": "2022-12-05T06:44:47.246097",
     "status": "completed"
    },
    "tags": []
   },
   "source": [
    "## Load persisted onnx-model and evaluation data"
   ]
  },
  {
   "cell_type": "code",
   "execution_count": 6,
   "id": "2e26824d",
   "metadata": {
    "execution": {
     "iopub.execute_input": "2022-12-05T06:44:47.269029Z",
     "iopub.status.busy": "2022-12-05T06:44:47.268533Z",
     "iopub.status.idle": "2022-12-05T06:44:47.273833Z",
     "shell.execute_reply": "2022-12-05T06:44:47.273112Z"
    },
    "papermill": {
     "duration": 0.017272,
     "end_time": "2022-12-05T06:44:47.277680",
     "exception": false,
     "start_time": "2022-12-05T06:44:47.260408",
     "status": "completed"
    },
    "tags": []
   },
   "outputs": [],
   "source": [
    "from common.io import read_onnx, get_onnx_inputs, get_onnx_outputs, read_numpy"
   ]
  },
  {
   "cell_type": "code",
   "execution_count": 7,
   "id": "450352fb",
   "metadata": {
    "execution": {
     "iopub.execute_input": "2022-12-05T06:44:47.296269Z",
     "iopub.status.busy": "2022-12-05T06:44:47.295916Z",
     "iopub.status.idle": "2022-12-05T06:44:47.315244Z",
     "shell.execute_reply": "2022-12-05T06:44:47.313425Z"
    },
    "lines_to_next_cell": 0,
    "papermill": {
     "duration": 0.031025,
     "end_time": "2022-12-05T06:44:47.318574",
     "exception": false,
     "start_time": "2022-12-05T06:44:47.287549",
     "status": "completed"
    },
    "tags": []
   },
   "outputs": [],
   "source": [
    "onnx_inference_session = read_onnx(\n",
    "    datalake_root(P)\n",
    "    / \"models\"\n",
    "    / f\"nr_train_images={P['task.nr_train_images']}\"\n",
    "    / \"model.onnx\"\n",
    ")"
   ]
  },
  {
   "cell_type": "markdown",
   "id": "64632d11",
   "metadata": {
    "papermill": {
     "duration": 0.007329,
     "end_time": "2022-12-05T06:44:47.342304",
     "exception": false,
     "start_time": "2022-12-05T06:44:47.334975",
     "status": "completed"
    },
    "tags": []
   },
   "source": [
    "### Record structure of inputs and outputs for ONNX model\n",
    "\n",
    "(this should likely be done in training notebook)"
   ]
  },
  {
   "cell_type": "code",
   "execution_count": 8,
   "id": "2773e250",
   "metadata": {
    "execution": {
     "iopub.execute_input": "2022-12-05T06:44:47.360116Z",
     "iopub.status.busy": "2022-12-05T06:44:47.359695Z",
     "iopub.status.idle": "2022-12-05T06:44:47.376500Z",
     "shell.execute_reply": "2022-12-05T06:44:47.375357Z"
    },
    "papermill": {
     "duration": 0.030007,
     "end_time": "2022-12-05T06:44:47.380573",
     "exception": false,
     "start_time": "2022-12-05T06:44:47.350566",
     "status": "completed"
    },
    "tags": []
   },
   "outputs": [
    {
     "name": "stdout",
     "output_type": "stream",
     "text": [
      "{\n",
      "  \"inputs\": [\n",
      "    {\n",
      "      \"name\": \"float_input_8x8_image\",\n",
      "      \"shape\": [\n",
      "        null,\n",
      "        64\n",
      "      ],\n",
      "      \"type\": \"tensor(float)\"\n",
      "    }\n",
      "  ],\n",
      "  \"outputs\": [\n",
      "    {\n",
      "      \"name\": \"output_label\",\n",
      "      \"shape\": [\n",
      "        null\n",
      "      ],\n",
      "      \"type\": \"tensor(int64)\"\n",
      "    },\n",
      "    {\n",
      "      \"name\": \"output_probability\",\n",
      "      \"shape\": [],\n",
      "      \"type\": \"seq(map(int64,tensor(float)))\"\n",
      "    }\n",
      "  ]\n",
      "}\n"
     ]
    }
   ],
   "source": [
    "import json\n",
    "\n",
    "onnx_io = json.dumps(\n",
    "    {\n",
    "        \"inputs\": get_onnx_inputs(onnx_inference_session),\n",
    "        \"outputs\": get_onnx_outputs(onnx_inference_session),\n",
    "    },\n",
    "    indent=2,\n",
    ")\n",
    "\n",
    "\n",
    "logger.log_artefact(\"onnx_io_structure.json\", onnx_io)\n",
    "print(onnx_io)"
   ]
  },
  {
   "cell_type": "markdown",
   "id": "ce0637c4",
   "metadata": {
    "papermill": {
     "duration": 0.00712,
     "end_time": "2022-12-05T06:44:47.396005",
     "exception": false,
     "start_time": "2022-12-05T06:44:47.388885",
     "status": "completed"
    },
    "tags": []
   },
   "source": [
    "### Evaluate model performance on evaluation data set"
   ]
  },
  {
   "cell_type": "code",
   "execution_count": 9,
   "id": "3917c652",
   "metadata": {
    "execution": {
     "iopub.execute_input": "2022-12-05T06:44:47.413239Z",
     "iopub.status.busy": "2022-12-05T06:44:47.412581Z",
     "iopub.status.idle": "2022-12-05T06:44:47.424142Z",
     "shell.execute_reply": "2022-12-05T06:44:47.422926Z"
    },
    "papermill": {
     "duration": 0.024227,
     "end_time": "2022-12-05T06:44:47.428569",
     "exception": false,
     "start_time": "2022-12-05T06:44:47.404342",
     "status": "completed"
    },
    "tags": []
   },
   "outputs": [],
   "source": [
    "# load evaluation data\n",
    "X_test = read_numpy(datalake_root(P) / \"test-data\" / \"digits.numpy\")\n",
    "y_test = read_numpy(datalake_root(P) / \"test-data\" / \"labels.numpy\")"
   ]
  },
  {
   "cell_type": "code",
   "execution_count": 10,
   "id": "016db648",
   "metadata": {
    "execution": {
     "iopub.execute_input": "2022-12-05T06:44:47.457175Z",
     "iopub.status.busy": "2022-12-05T06:44:47.456823Z",
     "iopub.status.idle": "2022-12-05T06:44:47.542583Z",
     "shell.execute_reply": "2022-12-05T06:44:47.541597Z"
    },
    "papermill": {
     "duration": 0.099575,
     "end_time": "2022-12-05T06:44:47.545107",
     "exception": false,
     "start_time": "2022-12-05T06:44:47.445532",
     "status": "completed"
    },
    "tags": []
   },
   "outputs": [],
   "source": [
    "def get_model_outputs(X, onnx_inference_session):\n",
    "    y_pred_labels, y_pred_map = onnx_inference_session.run(\n",
    "        [\"output_label\", \"output_probability\"],\n",
    "        {\"float_input_8x8_image\": X.astype(np.float32)},\n",
    "    )\n",
    "    y_pred_probs = np.array(\n",
    "        [[probabilities[digit] for digit in range(10)] for probabilities in y_pred_map]\n",
    "    )\n",
    "\n",
    "    assert y_pred_labels.shape == (X.shape[0],)\n",
    "    assert y_pred_probs.shape == (X.shape[0], 10)\n",
    "\n",
    "    return y_pred_labels, y_pred_probs\n",
    "\n",
    "\n",
    "# Note: as shown in the training notebook, the predicted labels and probabilities\n",
    "# computed below need not be compatible.\n",
    "y_pred_labels_test, y_pred_probs_test = get_model_outputs(\n",
    "    X_test, onnx_inference_session\n",
    ")"
   ]
  },
  {
   "cell_type": "markdown",
   "id": "60e70d88",
   "metadata": {
    "papermill": {
     "duration": 0.006323,
     "end_time": "2022-12-05T06:44:47.558743",
     "exception": false,
     "start_time": "2022-12-05T06:44:47.552420",
     "status": "completed"
    },
    "tags": []
   },
   "source": [
    "### Confusion matrix"
   ]
  },
  {
   "cell_type": "code",
   "execution_count": 11,
   "id": "c6a3a79a",
   "metadata": {
    "execution": {
     "iopub.execute_input": "2022-12-05T06:44:47.572717Z",
     "iopub.status.busy": "2022-12-05T06:44:47.572374Z",
     "iopub.status.idle": "2022-12-05T06:44:47.577328Z",
     "shell.execute_reply": "2022-12-05T06:44:47.576033Z"
    },
    "papermill": {
     "duration": 0.015091,
     "end_time": "2022-12-05T06:44:47.579667",
     "exception": false,
     "start_time": "2022-12-05T06:44:47.564576",
     "status": "completed"
    },
    "tags": []
   },
   "outputs": [],
   "source": [
    "# TODO"
   ]
  },
  {
   "cell_type": "markdown",
   "id": "d5879019",
   "metadata": {
    "papermill": {
     "duration": 0.005945,
     "end_time": "2022-12-05T06:44:47.591320",
     "exception": false,
     "start_time": "2022-12-05T06:44:47.585375",
     "status": "completed"
    },
    "tags": []
   },
   "source": [
    "### Plot predicted probabilities for each classifier over all evaluation digit images"
   ]
  },
  {
   "cell_type": "code",
   "execution_count": 12,
   "id": "a8f28f67",
   "metadata": {
    "execution": {
     "iopub.execute_input": "2022-12-05T06:44:47.605507Z",
     "iopub.status.busy": "2022-12-05T06:44:47.605184Z",
     "iopub.status.idle": "2022-12-05T06:44:53.505025Z",
     "shell.execute_reply": "2022-12-05T06:44:53.502953Z"
    },
    "papermill": {
     "duration": 5.910446,
     "end_time": "2022-12-05T06:44:53.507177",
     "exception": false,
     "start_time": "2022-12-05T06:44:47.596731",
     "status": "completed"
    },
    "tags": []
   },
   "outputs": [
    {
     "data": {
      "image/png": "[encoded data removed]",
      "text/plain": [
       "<Figure size 1600x600 with 10 Axes>"
      ]
     },
     "metadata": {},
     "output_type": "display_data"
    }
   ],
   "source": [
    "def plot_per_digit_probabilities(y_pred_probs):\n",
    "    fig, axs = plt.subplots(nrows=2, ncols=5, figsize=(16, 6))\n",
    "\n",
    "    for (r, c), digit, ax in zip(\n",
    "        it.product(range(2), range(5)), range(10), axs.reshape(-1)\n",
    "    ):\n",
    "        ax.hist(y_pred_probs_test[:, digit], bins=20)\n",
    "\n",
    "        ax.set_title(f\"Digit {digit}\")\n",
    "        if r == 1 and c == 2:\n",
    "            ax.set_xlabel(\"probability\", fontsize=16)\n",
    "\n",
    "        if c == 0:\n",
    "            ax.set_ylabel(\"counts\", fontsize=16)\n",
    "        ax.set_yscale(\"log\")\n",
    "\n",
    "    fig.tight_layout()\n",
    "    fig.suptitle(\n",
    "        f\"Distributions of prediction probabilities for each digit \"\n",
    "        f\"(on evaluation data, n={y_pred_probs.shape[0]})\",\n",
    "        fontsize=20,\n",
    "    )\n",
    "    fig.tight_layout()\n",
    "    fig.show()\n",
    "\n",
    "    return fig\n",
    "\n",
    "\n",
    "fig = plot_per_digit_probabilities(y_pred_probs_test)"
   ]
  },
  {
   "cell_type": "markdown",
   "id": "e344ea3d",
   "metadata": {
    "papermill": {
     "duration": 0.016241,
     "end_time": "2022-12-05T06:44:53.532869",
     "exception": false,
     "start_time": "2022-12-05T06:44:53.516628",
     "status": "completed"
    },
    "tags": []
   },
   "source": [
    "From the above distributions we see that most digits have clear separation between\n",
    "high and lower probabilities. Morover, in each case there is roughly an order of\n",
    "magnitude more of digits with low probabilities. This is compatible with digits\n",
    "being roughly evenly distributed in the data."
   ]
  },
  {
   "cell_type": "code",
   "execution_count": 13,
   "id": "bc5615bc",
   "metadata": {
    "execution": {
     "iopub.execute_input": "2022-12-05T06:44:53.549977Z",
     "iopub.status.busy": "2022-12-05T06:44:53.549451Z",
     "iopub.status.idle": "2022-12-05T06:44:54.405160Z",
     "shell.execute_reply": "2022-12-05T06:44:54.404344Z"
    },
    "papermill": {
     "duration": 0.868649,
     "end_time": "2022-12-05T06:44:54.410243",
     "exception": false,
     "start_time": "2022-12-05T06:44:53.541594",
     "status": "completed"
    },
    "tags": []
   },
   "outputs": [],
   "source": [
    "logger.log_figure(\"per-digit-probabilities.png\", fig)"
   ]
  },
  {
   "cell_type": "markdown",
   "id": "0f3f160a",
   "metadata": {
    "papermill": {
     "duration": 0.009489,
     "end_time": "2022-12-05T06:44:54.430398",
     "exception": false,
     "start_time": "2022-12-05T06:44:54.420909",
     "status": "completed"
    },
    "tags": []
   },
   "source": [
    "### Plot ROC curves for individual one-vs-rest classifiers"
   ]
  },
  {
   "cell_type": "code",
   "execution_count": 14,
   "id": "221dca4e",
   "metadata": {
    "execution": {
     "iopub.execute_input": "2022-12-05T06:44:54.445149Z",
     "iopub.status.busy": "2022-12-05T06:44:54.444794Z",
     "iopub.status.idle": "2022-12-05T06:44:55.055967Z",
     "shell.execute_reply": "2022-12-05T06:44:55.054641Z"
    },
    "papermill": {
     "duration": 0.621826,
     "end_time": "2022-12-05T06:44:55.058807",
     "exception": false,
     "start_time": "2022-12-05T06:44:54.436981",
     "status": "completed"
    },
    "tags": []
   },
   "outputs": [],
   "source": [
    "from sklearn import metrics"
   ]
  },
  {
   "cell_type": "code",
   "execution_count": 15,
   "id": "1a79bde4",
   "metadata": {
    "execution": {
     "iopub.execute_input": "2022-12-05T06:44:55.088005Z",
     "iopub.status.busy": "2022-12-05T06:44:55.087371Z",
     "iopub.status.idle": "2022-12-05T06:44:57.229955Z",
     "shell.execute_reply": "2022-12-05T06:44:57.228812Z"
    },
    "papermill": {
     "duration": 2.155713,
     "end_time": "2022-12-05T06:44:57.232024",
     "exception": false,
     "start_time": "2022-12-05T06:44:55.076311",
     "status": "completed"
    },
    "tags": []
   },
   "outputs": [
    {
     "data": {
      "image/png": "[encoded data removed]",
      "text/plain": [
       "<Figure size 1600x800 with 10 Axes>"
      ]
     },
     "metadata": {},
     "output_type": "display_data"
    }
   ],
   "source": [
    "def plot_roc_curves(y, y_pred_probs):\n",
    "    # based on example code\n",
    "    # https://scikit-learn.org/stable/auto_examples/model_selection/plot_roc.html\n",
    "\n",
    "    fig, axs = plt.subplots(nrows=2, ncols=5, figsize=(16, 8))\n",
    "\n",
    "    roc_auc_dict = {}\n",
    "\n",
    "    for (r, c), digit, ax in zip(\n",
    "        it.product(range(2), range(5)), range(10), axs.reshape(-1)\n",
    "    ):\n",
    "        fpr, tpr, _ = metrics.roc_curve(y == digit, y_pred_probs[:, digit])\n",
    "        auc = metrics.auc(fpr, tpr)\n",
    "        roc_auc_dict[str(digit)] = auc\n",
    "\n",
    "        ax.plot(fpr, tpr, label=f\"ROC AUC={round(auc, 3)}\")\n",
    "\n",
    "        ax.set_title(f\"\\nDigit {digit}\", fontsize=16)\n",
    "        if r == 1:\n",
    "            ax.set_xlabel(\"FPR\", fontsize=18)\n",
    "\n",
    "        if c == 0:\n",
    "            ax.set_ylabel(\"TPR\", fontsize=18)\n",
    "\n",
    "        ax.set_xlim([-0.05, 1.05])\n",
    "        ax.set_ylim([-0.05, 1.05])\n",
    "        ax.legend(loc=\"lower right\", frameon=False, fontsize=14)\n",
    "\n",
    "    fig.tight_layout()\n",
    "    fig.suptitle(\n",
    "        f\"ROC plots for one-vs-rest performances \"\n",
    "        f\"(on evaluation data, n={y_pred_probs_test.shape[1]}\",\n",
    "        fontsize=22,\n",
    "    )\n",
    "    fig.tight_layout()\n",
    "    fig.show()\n",
    "\n",
    "    return roc_auc_dict, fig\n",
    "\n",
    "\n",
    "roc_auc_dict, fig = plot_roc_curves(y_test, y_pred_probs_test)"
   ]
  },
  {
   "cell_type": "code",
   "execution_count": 16,
   "id": "8f120580",
   "metadata": {
    "execution": {
     "iopub.execute_input": "2022-12-05T06:44:57.259507Z",
     "iopub.status.busy": "2022-12-05T06:44:57.258823Z",
     "iopub.status.idle": "2022-12-05T06:44:57.647121Z",
     "shell.execute_reply": "2022-12-05T06:44:57.645814Z"
    },
    "papermill": {
     "duration": 0.401716,
     "end_time": "2022-12-05T06:44:57.649429",
     "exception": false,
     "start_time": "2022-12-05T06:44:57.247713",
     "status": "completed"
    },
    "tags": []
   },
   "outputs": [],
   "source": [
    "logger.log_figure(\"per-digit-roc-curves.png\", fig)"
   ]
  },
  {
   "cell_type": "code",
   "execution_count": 17,
   "id": "7362eace",
   "metadata": {
    "execution": {
     "iopub.execute_input": "2022-12-05T06:44:57.680809Z",
     "iopub.status.busy": "2022-12-05T06:44:57.680131Z",
     "iopub.status.idle": "2022-12-05T06:44:57.686694Z",
     "shell.execute_reply": "2022-12-05T06:44:57.685741Z"
    },
    "papermill": {
     "duration": 0.032525,
     "end_time": "2022-12-05T06:44:57.690657",
     "exception": false,
     "start_time": "2022-12-05T06:44:57.658132",
     "status": "completed"
    },
    "tags": []
   },
   "outputs": [
    {
     "data": {
      "text/plain": [
       "{'0': 1.0,\n",
       " '1': 0.9988003748828491,\n",
       " '2': 1.0,\n",
       " '3': 0.9998125585754452,\n",
       " '4': 0.9995427526291724,\n",
       " '5': 0.9991002811621369,\n",
       " '6': 0.999923792104862,\n",
       " '7': 0.9998856881572931,\n",
       " '8': 0.9930249054224464,\n",
       " '9': 0.9994284407864655}"
      ]
     },
     "execution_count": 17,
     "metadata": {},
     "output_type": "execute_result"
    }
   ],
   "source": [
    "roc_auc_dict"
   ]
  },
  {
   "cell_type": "code",
   "execution_count": 18,
   "id": "67bdebc4",
   "metadata": {
    "execution": {
     "iopub.execute_input": "2022-12-05T06:44:57.709058Z",
     "iopub.status.busy": "2022-12-05T06:44:57.708680Z",
     "iopub.status.idle": "2022-12-05T06:44:57.715483Z",
     "shell.execute_reply": "2022-12-05T06:44:57.713711Z"
    },
    "papermill": {
     "duration": 0.020331,
     "end_time": "2022-12-05T06:44:57.719547",
     "exception": false,
     "start_time": "2022-12-05T06:44:57.699216",
     "status": "completed"
    },
    "tags": []
   },
   "outputs": [
    {
     "name": "stdout",
     "output_type": "stream",
     "text": [
      " - Logging roc_auc_per_digit (json) : {'0': 1.0, '1': 0.9988003748828491, '2': 1.0, '3': 0.9998125585754452, '4': 0.9995427526291724, '5': 0.9991002811621369, '6': 0.999923792104862, '7': 0.9998856881572931, '8': 0.9930249054224464, '9': 0.9994284407864655}\n"
     ]
    }
   ],
   "source": [
    "logger.log_value(\"roc_auc_per_digit\", roc_auc_dict)"
   ]
  },
  {
   "cell_type": "markdown",
   "id": "9543a25b",
   "metadata": {
    "papermill": {
     "duration": 0.008387,
     "end_time": "2022-12-05T06:44:57.737899",
     "exception": false,
     "start_time": "2022-12-05T06:44:57.729512",
     "status": "completed"
    },
    "tags": []
   },
   "source": [
    "### Compute and log mean ROC AUC score averaged over all digits"
   ]
  },
  {
   "cell_type": "code",
   "execution_count": 19,
   "id": "5c5f4d98",
   "metadata": {
    "execution": {
     "iopub.execute_input": "2022-12-05T06:44:57.757090Z",
     "iopub.status.busy": "2022-12-05T06:44:57.756247Z",
     "iopub.status.idle": "2022-12-05T06:44:57.779110Z",
     "shell.execute_reply": "2022-12-05T06:44:57.774119Z"
    },
    "papermill": {
     "duration": 0.03555,
     "end_time": "2022-12-05T06:44:57.781984",
     "exception": false,
     "start_time": "2022-12-05T06:44:57.746434",
     "status": "completed"
    },
    "tags": []
   },
   "outputs": [
    {
     "name": "stdout",
     "output_type": "stream",
     "text": [
      " - Logging roc_auc_class_mean (float) : 0.998951879372067\n"
     ]
    }
   ],
   "source": [
    "roc_auc_macro = np.mean(list(roc_auc_dict.values()))\n",
    "\n",
    "logger.log_float(\"roc_auc_class_mean\", roc_auc_macro)\n",
    "\n",
    "# assert that the same value can be computed directly using sklearn\n",
    "assert roc_auc_macro == metrics.roc_auc_score(\n",
    "    y_test, y_pred_probs_test, average=\"macro\", multi_class=\"ovr\"\n",
    ")"
   ]
  },
  {
   "cell_type": "code",
   "execution_count": 20,
   "id": "529cfb7b",
   "metadata": {
    "execution": {
     "iopub.execute_input": "2022-12-05T06:44:57.805499Z",
     "iopub.status.busy": "2022-12-05T06:44:57.805129Z",
     "iopub.status.idle": "2022-12-05T06:44:57.809434Z",
     "shell.execute_reply": "2022-12-05T06:44:57.808346Z"
    },
    "lines_to_next_cell": 0,
    "papermill": {
     "duration": 0.02024,
     "end_time": "2022-12-05T06:44:57.813890",
     "exception": false,
     "start_time": "2022-12-05T06:44:57.793650",
     "status": "completed"
    },
    "tags": []
   },
   "outputs": [],
   "source": [
    "# ---"
   ]
  },
  {
   "cell_type": "code",
   "execution_count": null,
   "id": "0081082f",
   "metadata": {
    "papermill": {
     "duration": 0.008903,
     "end_time": "2022-12-05T06:44:57.832662",
     "exception": false,
     "start_time": "2022-12-05T06:44:57.823759",
     "status": "completed"
    },
    "tags": []
   },
   "outputs": [],
   "source": []
  }
 ],
 "metadata": {
  "jupytext": {
   "cell_metadata_filter": "tags,-all",
   "main_language": "python",
   "notebook_metadata_filter": "-all"
  },
  "language_info": {
   "codemirror_mode": {
    "name": "ipython",
    "version": 3
   },
   "file_extension": ".py",
   "mimetype": "text/x-python",
   "name": "python",
   "nbconvert_exporter": "python",
   "pygments_lexer": "ipython3",
   "version": "3.8.10"
  },
  "papermill": {
   "default_parameters": {},
   "duration": 15.557889,
   "end_time": "2022-12-05T06:44:59.069829",
   "environment_variables": {},
   "exception": null,
   "input_path": "/home/host_user/workspace/mnist-demo-pipeline/mnist-demo-pipeline/notebooks/temp-notebook-mx8tv7a9.ipynb",
   "output_path": "notebooks/benchmark-model.ipynb",
   "parameters": {
    "P": {
     "_opentelemetry_traceparent": "00-7b30746d3e4cf784eea19788fe421997-dbe43e4b7605a27d-01",
     "pipeline.data_lake_root": "/pipeline-outputs/data-lake",
     "pipeline.github.actor": "matiasdahl",
     "pipeline.github.base_ref": "",
     "pipeline.github.event_name": "schedule",
     "pipeline.github.head_ref": "",
     "pipeline.github.job": "run-tests-pipeline-and-persist-pipeline-outputs",
     "pipeline.github.ref": "refs/heads/development",
     "pipeline.github.ref_name": "development",
     "pipeline.github.ref_type": "branch",
     "pipeline.github.repository": "matiasdahl/dev-mnist-digits-demo-pipeline",
     "pipeline.github.run_id": "3617573418",
     "pipeline.github.runner_name": "Hosted Agent",
     "pipeline.github.sha": "ace0d01011d5e914f1921450dd5a59c11367b38d",
     "pipeline.github.workflow": "Run automated tests, pipeline and deploy results to static reporting site",
     "pipeline.pipeline_run_id": "271a878e-0055-4dd4-8408-8e007d3d8c39",
     "pipeline.run_environment": "ci",
     "run.retry_nr": "0",
     "task.max_nr_retries": "1",
     "task.notebook": "notebooks/benchmark-model.py",
     "task.nr_train_images": 800,
     "task.num_cpus": 1,
     "task.timeout_s": "None"
    }
   },
   "start_time": "2022-12-05T06:44:43.511940",
   "version": "2.3.3"
  }
 },
 "nbformat": 4,
 "nbformat_minor": 5
}