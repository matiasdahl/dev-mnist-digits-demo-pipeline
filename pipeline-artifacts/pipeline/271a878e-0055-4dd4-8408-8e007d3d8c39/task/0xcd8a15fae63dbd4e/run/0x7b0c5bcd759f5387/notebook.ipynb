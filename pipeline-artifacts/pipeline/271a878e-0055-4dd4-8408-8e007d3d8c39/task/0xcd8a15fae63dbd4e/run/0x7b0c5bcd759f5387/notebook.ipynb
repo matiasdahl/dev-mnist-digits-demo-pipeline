{
 "cells": [
  {
   "cell_type": "markdown",
   "id": "6c3bc1bd",
   "metadata": {
    "papermill": {
     "duration": 0.009538,
     "end_time": "2022-12-05T06:44:53.384512",
     "exception": false,
     "start_time": "2022-12-05T06:44:53.374974",
     "status": "completed"
    },
    "tags": []
   },
   "source": [
    "# Benchmark model\n",
    "\n",
    "The purpose of this notebook is to benchmark persisted onnx-model (trained in the\n",
    "previous step) against evaluation set."
   ]
  },
  {
   "cell_type": "markdown",
   "id": "23dac937",
   "metadata": {
    "papermill": {
     "duration": 0.007425,
     "end_time": "2022-12-05T06:44:53.399267",
     "exception": false,
     "start_time": "2022-12-05T06:44:53.391842",
     "status": "completed"
    },
    "tags": []
   },
   "source": [
    "### Determine run parameters"
   ]
  },
  {
   "cell_type": "code",
   "execution_count": 1,
   "id": "6c49bfeb",
   "metadata": {
    "execution": {
     "iopub.execute_input": "2022-12-05T06:44:53.413516Z",
     "iopub.status.busy": "2022-12-05T06:44:53.413159Z",
     "iopub.status.idle": "2022-12-05T06:44:53.429538Z",
     "shell.execute_reply": "2022-12-05T06:44:53.428846Z"
    },
    "lines_to_next_cell": 0,
    "papermill": {
     "duration": 0.026761,
     "end_time": "2022-12-05T06:44:53.431711",
     "exception": false,
     "start_time": "2022-12-05T06:44:53.404950",
     "status": "completed"
    },
    "tags": []
   },
   "outputs": [],
   "source": [
    "# ----------------- Parameters for interactive development --------------\n",
    "P = {\n",
    "    \"pipeline.data_lake_root\": \"/pipeline-outputs/data-lake\",\n",
    "    \"task.nr_train_images\": 600,\n",
    "}"
   ]
  },
  {
   "cell_type": "code",
   "execution_count": 2,
   "id": "1a930988",
   "metadata": {
    "execution": {
     "iopub.execute_input": "2022-12-05T06:44:53.444269Z",
     "iopub.status.busy": "2022-12-05T06:44:53.443970Z",
     "iopub.status.idle": "2022-12-05T06:44:53.448300Z",
     "shell.execute_reply": "2022-12-05T06:44:53.447092Z"
    },
    "lines_to_next_cell": 0,
    "papermill": {
     "duration": 0.012597,
     "end_time": "2022-12-05T06:44:53.450285",
     "exception": false,
     "start_time": "2022-12-05T06:44:53.437688",
     "status": "completed"
    },
    "tags": [
     "parameters"
    ]
   },
   "outputs": [],
   "source": [
    "# - During automated runs parameters will be injected in the below cell -"
   ]
  },
  {
   "cell_type": "code",
   "execution_count": 3,
   "id": "5c0f78ea",
   "metadata": {
    "execution": {
     "iopub.execute_input": "2022-12-05T06:44:53.462808Z",
     "iopub.status.busy": "2022-12-05T06:44:53.462456Z",
     "iopub.status.idle": "2022-12-05T06:44:53.468708Z",
     "shell.execute_reply": "2022-12-05T06:44:53.467174Z"
    },
    "papermill": {
     "duration": 0.014924,
     "end_time": "2022-12-05T06:44:53.470627",
     "exception": false,
     "start_time": "2022-12-05T06:44:53.455703",
     "status": "completed"
    },
    "tags": [
     "injected-parameters"
    ]
   },
   "outputs": [],
   "source": [
    "# Parameters\n",
    "P = {\n",
    "    \"pipeline.data_lake_root\": \"/pipeline-outputs/data-lake\",\n",
    "    \"pipeline.run_environment\": \"ci\",\n",
    "    \"pipeline.pipeline_run_id\": \"271a878e-0055-4dd4-8408-8e007d3d8c39\",\n",
    "    \"pipeline.github.repository\": \"matiasdahl/dev-mnist-digits-demo-pipeline\",\n",
    "    \"pipeline.github.workflow\": \"Run automated tests, pipeline and deploy results to static reporting site\",\n",
    "    \"pipeline.github.runner_name\": \"Hosted Agent\",\n",
    "    \"pipeline.github.run_id\": \"3617573418\",\n",
    "    \"pipeline.github.actor\": \"matiasdahl\",\n",
    "    \"pipeline.github.job\": \"run-tests-pipeline-and-persist-pipeline-outputs\",\n",
    "    \"pipeline.github.base_ref\": \"\",\n",
    "    \"pipeline.github.head_ref\": \"\",\n",
    "    \"pipeline.github.sha\": \"ace0d01011d5e914f1921450dd5a59c11367b38d\",\n",
    "    \"pipeline.github.ref\": \"refs/heads/development\",\n",
    "    \"pipeline.github.ref_type\": \"branch\",\n",
    "    \"pipeline.github.ref_name\": \"development\",\n",
    "    \"pipeline.github.event_name\": \"schedule\",\n",
    "    \"task.nr_train_images\": 1000,\n",
    "    \"task.notebook\": \"notebooks/benchmark-model.py\",\n",
    "    \"task.max_nr_retries\": \"1\",\n",
    "    \"run.retry_nr\": \"0\",\n",
    "    \"task.timeout_s\": \"None\",\n",
    "    \"task.num_cpus\": 1,\n",
    "    \"_opentelemetry_traceparent\": \"00-7b30746d3e4cf784eea19788fe421997-dbe2a84fdf693abf-01\",\n",
    "}\n"
   ]
  },
  {
   "cell_type": "code",
   "execution_count": 4,
   "id": "fd2ee5fa",
   "metadata": {
    "execution": {
     "iopub.execute_input": "2022-12-05T06:44:53.483292Z",
     "iopub.status.busy": "2022-12-05T06:44:53.482978Z",
     "iopub.status.idle": "2022-12-05T06:44:53.486532Z",
     "shell.execute_reply": "2022-12-05T06:44:53.485767Z"
    },
    "lines_to_next_cell": 0,
    "papermill": {
     "duration": 0.012594,
     "end_time": "2022-12-05T06:44:53.488947",
     "exception": false,
     "start_time": "2022-12-05T06:44:53.476353",
     "status": "completed"
    },
    "tags": []
   },
   "outputs": [],
   "source": [
    "# -----------------------------------------------------------------------"
   ]
  },
  {
   "cell_type": "markdown",
   "id": "21b8d055",
   "metadata": {
    "papermill": {
     "duration": 0.007478,
     "end_time": "2022-12-05T06:44:53.501571",
     "exception": false,
     "start_time": "2022-12-05T06:44:53.494093",
     "status": "completed"
    },
    "tags": []
   },
   "source": [
    "---"
   ]
  },
  {
   "cell_type": "markdown",
   "id": "763644f5",
   "metadata": {
    "lines_to_next_cell": 2,
    "papermill": {
     "duration": 0.006519,
     "end_time": "2022-12-05T06:44:53.517516",
     "exception": false,
     "start_time": "2022-12-05T06:44:53.510997",
     "status": "completed"
    },
    "tags": []
   },
   "source": [
    "### Notebook code"
   ]
  },
  {
   "cell_type": "code",
   "execution_count": 5,
   "id": "a6710363",
   "metadata": {
    "execution": {
     "iopub.execute_input": "2022-12-05T06:44:53.531504Z",
     "iopub.status.busy": "2022-12-05T06:44:53.531201Z",
     "iopub.status.idle": "2022-12-05T06:44:55.006036Z",
     "shell.execute_reply": "2022-12-05T06:44:55.005062Z"
    },
    "papermill": {
     "duration": 1.485741,
     "end_time": "2022-12-05T06:44:55.009005",
     "exception": false,
     "start_time": "2022-12-05T06:44:53.523264",
     "status": "completed"
    },
    "tags": []
   },
   "outputs": [
    {
     "name": "stderr",
     "output_type": "stream",
     "text": [
      "2022-12-05 06:44:54,806\tINFO worker.py:842 -- Connecting to existing Ray cluster at address: 172.17.0.2:6379\n"
     ]
    }
   ],
   "source": [
    "import itertools as it\n",
    "\n",
    "#\n",
    "import numpy as np\n",
    "import matplotlib.pyplot as plt\n",
    "\n",
    "#\n",
    "from pynb_dag_runner.tasks.task_opentelemetry_logging import PydarLogger\n",
    "\n",
    "#\n",
    "from common.io import datalake_root\n",
    "\n",
    "logger = PydarLogger(P)"
   ]
  },
  {
   "cell_type": "markdown",
   "id": "372bb16c",
   "metadata": {
    "papermill": {
     "duration": 0.007121,
     "end_time": "2022-12-05T06:44:55.022845",
     "exception": false,
     "start_time": "2022-12-05T06:44:55.015724",
     "status": "completed"
    },
    "tags": []
   },
   "source": [
    "## Load persisted onnx-model and evaluation data"
   ]
  },
  {
   "cell_type": "code",
   "execution_count": 6,
   "id": "94edbfbd",
   "metadata": {
    "execution": {
     "iopub.execute_input": "2022-12-05T06:44:55.038889Z",
     "iopub.status.busy": "2022-12-05T06:44:55.037991Z",
     "iopub.status.idle": "2022-12-05T06:44:55.043134Z",
     "shell.execute_reply": "2022-12-05T06:44:55.041784Z"
    },
    "papermill": {
     "duration": 0.017232,
     "end_time": "2022-12-05T06:44:55.046532",
     "exception": false,
     "start_time": "2022-12-05T06:44:55.029300",
     "status": "completed"
    },
    "tags": []
   },
   "outputs": [],
   "source": [
    "from common.io import read_onnx, get_onnx_inputs, get_onnx_outputs, read_numpy"
   ]
  },
  {
   "cell_type": "code",
   "execution_count": 7,
   "id": "2e142716",
   "metadata": {
    "execution": {
     "iopub.execute_input": "2022-12-05T06:44:55.068398Z",
     "iopub.status.busy": "2022-12-05T06:44:55.067872Z",
     "iopub.status.idle": "2022-12-05T06:44:55.091020Z",
     "shell.execute_reply": "2022-12-05T06:44:55.089966Z"
    },
    "lines_to_next_cell": 0,
    "papermill": {
     "duration": 0.032193,
     "end_time": "2022-12-05T06:44:55.093182",
     "exception": false,
     "start_time": "2022-12-05T06:44:55.060989",
     "status": "completed"
    },
    "tags": []
   },
   "outputs": [],
   "source": [
    "onnx_inference_session = read_onnx(\n",
    "    datalake_root(P)\n",
    "    / \"models\"\n",
    "    / f\"nr_train_images={P['task.nr_train_images']}\"\n",
    "    / \"model.onnx\"\n",
    ")"
   ]
  },
  {
   "cell_type": "markdown",
   "id": "8b4217cc",
   "metadata": {
    "papermill": {
     "duration": 0.005757,
     "end_time": "2022-12-05T06:44:55.113152",
     "exception": false,
     "start_time": "2022-12-05T06:44:55.107395",
     "status": "completed"
    },
    "tags": []
   },
   "source": [
    "### Record structure of inputs and outputs for ONNX model\n",
    "\n",
    "(this should likely be done in training notebook)"
   ]
  },
  {
   "cell_type": "code",
   "execution_count": 8,
   "id": "7810d3c8",
   "metadata": {
    "execution": {
     "iopub.execute_input": "2022-12-05T06:44:55.126884Z",
     "iopub.status.busy": "2022-12-05T06:44:55.126501Z",
     "iopub.status.idle": "2022-12-05T06:44:55.140445Z",
     "shell.execute_reply": "2022-12-05T06:44:55.139569Z"
    },
    "papermill": {
     "duration": 0.023542,
     "end_time": "2022-12-05T06:44:55.142786",
     "exception": false,
     "start_time": "2022-12-05T06:44:55.119244",
     "status": "completed"
    },
    "tags": []
   },
   "outputs": [
    {
     "name": "stdout",
     "output_type": "stream",
     "text": [
      "{\n",
      "  \"inputs\": [\n",
      "    {\n",
      "      \"name\": \"float_input_8x8_image\",\n",
      "      \"shape\": [\n",
      "        null,\n",
      "        64\n",
      "      ],\n",
      "      \"type\": \"tensor(float)\"\n",
      "    }\n",
      "  ],\n",
      "  \"outputs\": [\n",
      "    {\n",
      "      \"name\": \"output_label\",\n",
      "      \"shape\": [\n",
      "        null\n",
      "      ],\n",
      "      \"type\": \"tensor(int64)\"\n",
      "    },\n",
      "    {\n",
      "      \"name\": \"output_probability\",\n",
      "      \"shape\": [],\n",
      "      \"type\": \"seq(map(int64,tensor(float)))\"\n",
      "    }\n",
      "  ]\n",
      "}\n"
     ]
    }
   ],
   "source": [
    "import json\n",
    "\n",
    "onnx_io = json.dumps(\n",
    "    {\n",
    "        \"inputs\": get_onnx_inputs(onnx_inference_session),\n",
    "        \"outputs\": get_onnx_outputs(onnx_inference_session),\n",
    "    },\n",
    "    indent=2,\n",
    ")\n",
    "\n",
    "\n",
    "logger.log_artefact(\"onnx_io_structure.json\", onnx_io)\n",
    "print(onnx_io)"
   ]
  },
  {
   "cell_type": "markdown",
   "id": "cf32c632",
   "metadata": {
    "papermill": {
     "duration": 0.006275,
     "end_time": "2022-12-05T06:44:55.154733",
     "exception": false,
     "start_time": "2022-12-05T06:44:55.148458",
     "status": "completed"
    },
    "tags": []
   },
   "source": [
    "### Evaluate model performance on evaluation data set"
   ]
  },
  {
   "cell_type": "code",
   "execution_count": 9,
   "id": "13a466a7",
   "metadata": {
    "execution": {
     "iopub.execute_input": "2022-12-05T06:44:55.170084Z",
     "iopub.status.busy": "2022-12-05T06:44:55.169527Z",
     "iopub.status.idle": "2022-12-05T06:44:55.176091Z",
     "shell.execute_reply": "2022-12-05T06:44:55.174895Z"
    },
    "papermill": {
     "duration": 0.017517,
     "end_time": "2022-12-05T06:44:55.179289",
     "exception": false,
     "start_time": "2022-12-05T06:44:55.161772",
     "status": "completed"
    },
    "tags": []
   },
   "outputs": [],
   "source": [
    "# load evaluation data\n",
    "X_test = read_numpy(datalake_root(P) / \"test-data\" / \"digits.numpy\")\n",
    "y_test = read_numpy(datalake_root(P) / \"test-data\" / \"labels.numpy\")"
   ]
  },
  {
   "cell_type": "code",
   "execution_count": 10,
   "id": "157caa38",
   "metadata": {
    "execution": {
     "iopub.execute_input": "2022-12-05T06:44:55.199553Z",
     "iopub.status.busy": "2022-12-05T06:44:55.199299Z",
     "iopub.status.idle": "2022-12-05T06:44:55.303558Z",
     "shell.execute_reply": "2022-12-05T06:44:55.302342Z"
    },
    "papermill": {
     "duration": 0.11463,
     "end_time": "2022-12-05T06:44:55.306122",
     "exception": false,
     "start_time": "2022-12-05T06:44:55.191492",
     "status": "completed"
    },
    "tags": []
   },
   "outputs": [],
   "source": [
    "def get_model_outputs(X, onnx_inference_session):\n",
    "    y_pred_labels, y_pred_map = onnx_inference_session.run(\n",
    "        [\"output_label\", \"output_probability\"],\n",
    "        {\"float_input_8x8_image\": X.astype(np.float32)},\n",
    "    )\n",
    "    y_pred_probs = np.array(\n",
    "        [[probabilities[digit] for digit in range(10)] for probabilities in y_pred_map]\n",
    "    )\n",
    "\n",
    "    assert y_pred_labels.shape == (X.shape[0],)\n",
    "    assert y_pred_probs.shape == (X.shape[0], 10)\n",
    "\n",
    "    return y_pred_labels, y_pred_probs\n",
    "\n",
    "\n",
    "# Note: as shown in the training notebook, the predicted labels and probabilities\n",
    "# computed below need not be compatible.\n",
    "y_pred_labels_test, y_pred_probs_test = get_model_outputs(\n",
    "    X_test, onnx_inference_session\n",
    ")"
   ]
  },
  {
   "cell_type": "markdown",
   "id": "005a7372",
   "metadata": {
    "papermill": {
     "duration": 0.005876,
     "end_time": "2022-12-05T06:44:55.319666",
     "exception": false,
     "start_time": "2022-12-05T06:44:55.313790",
     "status": "completed"
    },
    "tags": []
   },
   "source": [
    "### Confusion matrix"
   ]
  },
  {
   "cell_type": "code",
   "execution_count": 11,
   "id": "c72f2041",
   "metadata": {
    "execution": {
     "iopub.execute_input": "2022-12-05T06:44:55.338769Z",
     "iopub.status.busy": "2022-12-05T06:44:55.338329Z",
     "iopub.status.idle": "2022-12-05T06:44:55.343031Z",
     "shell.execute_reply": "2022-12-05T06:44:55.342237Z"
    },
    "papermill": {
     "duration": 0.020154,
     "end_time": "2022-12-05T06:44:55.346108",
     "exception": false,
     "start_time": "2022-12-05T06:44:55.325954",
     "status": "completed"
    },
    "tags": []
   },
   "outputs": [],
   "source": [
    "# TODO"
   ]
  },
  {
   "cell_type": "markdown",
   "id": "13aa9a37",
   "metadata": {
    "papermill": {
     "duration": 0.008026,
     "end_time": "2022-12-05T06:44:55.360848",
     "exception": false,
     "start_time": "2022-12-05T06:44:55.352822",
     "status": "completed"
    },
    "tags": []
   },
   "source": [
    "### Plot predicted probabilities for each classifier over all evaluation digit images"
   ]
  },
  {
   "cell_type": "code",
   "execution_count": 12,
   "id": "09769a07",
   "metadata": {
    "execution": {
     "iopub.execute_input": "2022-12-05T06:44:55.376431Z",
     "iopub.status.busy": "2022-12-05T06:44:55.376025Z",
     "iopub.status.idle": "2022-12-05T06:45:00.780565Z",
     "shell.execute_reply": "2022-12-05T06:45:00.779632Z"
    },
    "papermill": {
     "duration": 5.415325,
     "end_time": "2022-12-05T06:45:00.782850",
     "exception": false,
     "start_time": "2022-12-05T06:44:55.367525",
     "status": "completed"
    },
    "tags": []
   },
   "outputs": [
    {
     "data": {
      "image/png": "[encoded data removed]",
      "text/plain": [
       "<Figure size 1600x600 with 10 Axes>"
      ]
     },
     "metadata": {},
     "output_type": "display_data"
    }
   ],
   "source": [
    "def plot_per_digit_probabilities(y_pred_probs):\n",
    "    fig, axs = plt.subplots(nrows=2, ncols=5, figsize=(16, 6))\n",
    "\n",
    "    for (r, c), digit, ax in zip(\n",
    "        it.product(range(2), range(5)), range(10), axs.reshape(-1)\n",
    "    ):\n",
    "        ax.hist(y_pred_probs_test[:, digit], bins=20)\n",
    "\n",
    "        ax.set_title(f\"Digit {digit}\")\n",
    "        if r == 1 and c == 2:\n",
    "            ax.set_xlabel(\"probability\", fontsize=16)\n",
    "\n",
    "        if c == 0:\n",
    "            ax.set_ylabel(\"counts\", fontsize=16)\n",
    "        ax.set_yscale(\"log\")\n",
    "\n",
    "    fig.tight_layout()\n",
    "    fig.suptitle(\n",
    "        f\"Distributions of prediction probabilities for each digit \"\n",
    "        f\"(on evaluation data, n={y_pred_probs.shape[0]})\",\n",
    "        fontsize=20,\n",
    "    )\n",
    "    fig.tight_layout()\n",
    "    fig.show()\n",
    "\n",
    "    return fig\n",
    "\n",
    "\n",
    "fig = plot_per_digit_probabilities(y_pred_probs_test)"
   ]
  },
  {
   "cell_type": "markdown",
   "id": "41c9b7eb",
   "metadata": {
    "papermill": {
     "duration": 0.006999,
     "end_time": "2022-12-05T06:45:00.798107",
     "exception": false,
     "start_time": "2022-12-05T06:45:00.791108",
     "status": "completed"
    },
    "tags": []
   },
   "source": [
    "From the above distributions we see that most digits have clear separation between\n",
    "high and lower probabilities. Morover, in each case there is roughly an order of\n",
    "magnitude more of digits with low probabilities. This is compatible with digits\n",
    "being roughly evenly distributed in the data."
   ]
  },
  {
   "cell_type": "code",
   "execution_count": 13,
   "id": "765bf1c4",
   "metadata": {
    "execution": {
     "iopub.execute_input": "2022-12-05T06:45:00.813005Z",
     "iopub.status.busy": "2022-12-05T06:45:00.811975Z",
     "iopub.status.idle": "2022-12-05T06:45:01.547637Z",
     "shell.execute_reply": "2022-12-05T06:45:01.546659Z"
    },
    "papermill": {
     "duration": 0.745658,
     "end_time": "2022-12-05T06:45:01.549925",
     "exception": false,
     "start_time": "2022-12-05T06:45:00.804267",
     "status": "completed"
    },
    "tags": []
   },
   "outputs": [],
   "source": [
    "logger.log_figure(\"per-digit-probabilities.png\", fig)"
   ]
  },
  {
   "cell_type": "markdown",
   "id": "de05e15f",
   "metadata": {
    "papermill": {
     "duration": 0.005996,
     "end_time": "2022-12-05T06:45:01.562495",
     "exception": false,
     "start_time": "2022-12-05T06:45:01.556499",
     "status": "completed"
    },
    "tags": []
   },
   "source": [
    "### Plot ROC curves for individual one-vs-rest classifiers"
   ]
  },
  {
   "cell_type": "code",
   "execution_count": 14,
   "id": "51713299",
   "metadata": {
    "execution": {
     "iopub.execute_input": "2022-12-05T06:45:01.576521Z",
     "iopub.status.busy": "2022-12-05T06:45:01.575931Z",
     "iopub.status.idle": "2022-12-05T06:45:02.112849Z",
     "shell.execute_reply": "2022-12-05T06:45:02.111865Z"
    },
    "papermill": {
     "duration": 0.547016,
     "end_time": "2022-12-05T06:45:02.115629",
     "exception": false,
     "start_time": "2022-12-05T06:45:01.568613",
     "status": "completed"
    },
    "tags": []
   },
   "outputs": [],
   "source": [
    "from sklearn import metrics"
   ]
  },
  {
   "cell_type": "code",
   "execution_count": 15,
   "id": "598af18f",
   "metadata": {
    "execution": {
     "iopub.execute_input": "2022-12-05T06:45:02.135203Z",
     "iopub.status.busy": "2022-12-05T06:45:02.134530Z",
     "iopub.status.idle": "2022-12-05T06:45:03.858685Z",
     "shell.execute_reply": "2022-12-05T06:45:03.857736Z"
    },
    "papermill": {
     "duration": 1.736289,
     "end_time": "2022-12-05T06:45:03.860792",
     "exception": false,
     "start_time": "2022-12-05T06:45:02.124503",
     "status": "completed"
    },
    "tags": []
   },
   "outputs": [
    {
     "data": {
      "image/png": "[encoded data removed]",
      "text/plain": [
       "<Figure size 1600x800 with 10 Axes>"
      ]
     },
     "metadata": {},
     "output_type": "display_data"
    }
   ],
   "source": [
    "def plot_roc_curves(y, y_pred_probs):\n",
    "    # based on example code\n",
    "    # https://scikit-learn.org/stable/auto_examples/model_selection/plot_roc.html\n",
    "\n",
    "    fig, axs = plt.subplots(nrows=2, ncols=5, figsize=(16, 8))\n",
    "\n",
    "    roc_auc_dict = {}\n",
    "\n",
    "    for (r, c), digit, ax in zip(\n",
    "        it.product(range(2), range(5)), range(10), axs.reshape(-1)\n",
    "    ):\n",
    "        fpr, tpr, _ = metrics.roc_curve(y == digit, y_pred_probs[:, digit])\n",
    "        auc = metrics.auc(fpr, tpr)\n",
    "        roc_auc_dict[str(digit)] = auc\n",
    "\n",
    "        ax.plot(fpr, tpr, label=f\"ROC AUC={round(auc, 3)}\")\n",
    "\n",
    "        ax.set_title(f\"\\nDigit {digit}\", fontsize=16)\n",
    "        if r == 1:\n",
    "            ax.set_xlabel(\"FPR\", fontsize=18)\n",
    "\n",
    "        if c == 0:\n",
    "            ax.set_ylabel(\"TPR\", fontsize=18)\n",
    "\n",
    "        ax.set_xlim([-0.05, 1.05])\n",
    "        ax.set_ylim([-0.05, 1.05])\n",
    "        ax.legend(loc=\"lower right\", frameon=False, fontsize=14)\n",
    "\n",
    "    fig.tight_layout()\n",
    "    fig.suptitle(\n",
    "        f\"ROC plots for one-vs-rest performances \"\n",
    "        f\"(on evaluation data, n={y_pred_probs_test.shape[1]}\",\n",
    "        fontsize=22,\n",
    "    )\n",
    "    fig.tight_layout()\n",
    "    fig.show()\n",
    "\n",
    "    return roc_auc_dict, fig\n",
    "\n",
    "\n",
    "roc_auc_dict, fig = plot_roc_curves(y_test, y_pred_probs_test)"
   ]
  },
  {
   "cell_type": "code",
   "execution_count": 16,
   "id": "e950ed55",
   "metadata": {
    "execution": {
     "iopub.execute_input": "2022-12-05T06:45:03.881699Z",
     "iopub.status.busy": "2022-12-05T06:45:03.881382Z",
     "iopub.status.idle": "2022-12-05T06:45:04.293240Z",
     "shell.execute_reply": "2022-12-05T06:45:04.292298Z"
    },
    "papermill": {
     "duration": 0.424719,
     "end_time": "2022-12-05T06:45:04.295953",
     "exception": false,
     "start_time": "2022-12-05T06:45:03.871234",
     "status": "completed"
    },
    "tags": []
   },
   "outputs": [],
   "source": [
    "logger.log_figure(\"per-digit-roc-curves.png\", fig)"
   ]
  },
  {
   "cell_type": "code",
   "execution_count": 17,
   "id": "8596ccaf",
   "metadata": {
    "execution": {
     "iopub.execute_input": "2022-12-05T06:45:04.311656Z",
     "iopub.status.busy": "2022-12-05T06:45:04.311183Z",
     "iopub.status.idle": "2022-12-05T06:45:04.317026Z",
     "shell.execute_reply": "2022-12-05T06:45:04.315947Z"
    },
    "papermill": {
     "duration": 0.018019,
     "end_time": "2022-12-05T06:45:04.321420",
     "exception": false,
     "start_time": "2022-12-05T06:45:04.303401",
     "status": "completed"
    },
    "tags": []
   },
   "outputs": [
    {
     "data": {
      "text/plain": [
       "{'0': 1.0,\n",
       " '1': 0.998875351452671,\n",
       " '2': 1.0,\n",
       " '3': 0.9998125585754452,\n",
       " '4': 0.9996189605243103,\n",
       " '5': 0.9994001874414246,\n",
       " '6': 0.999923792104862,\n",
       " '7': 0.9997713763145862,\n",
       " '8': 0.9955075662042876,\n",
       " '9': 0.9995427526291724}"
      ]
     },
     "execution_count": 17,
     "metadata": {},
     "output_type": "execute_result"
    }
   ],
   "source": [
    "roc_auc_dict"
   ]
  },
  {
   "cell_type": "code",
   "execution_count": 18,
   "id": "bb6e9bb7",
   "metadata": {
    "execution": {
     "iopub.execute_input": "2022-12-05T06:45:04.341791Z",
     "iopub.status.busy": "2022-12-05T06:45:04.341061Z",
     "iopub.status.idle": "2022-12-05T06:45:04.346829Z",
     "shell.execute_reply": "2022-12-05T06:45:04.345789Z"
    },
    "papermill": {
     "duration": 0.018169,
     "end_time": "2022-12-05T06:45:04.350654",
     "exception": false,
     "start_time": "2022-12-05T06:45:04.332485",
     "status": "completed"
    },
    "tags": []
   },
   "outputs": [
    {
     "name": "stdout",
     "output_type": "stream",
     "text": [
      " - Logging roc_auc_per_digit (json) : {'0': 1.0, '1': 0.998875351452671, '2': 1.0, '3': 0.9998125585754452, '4': 0.9996189605243103, '5': 0.9994001874414246, '6': 0.999923792104862, '7': 0.9997713763145862, '8': 0.9955075662042876, '9': 0.9995427526291724}\n"
     ]
    }
   ],
   "source": [
    "logger.log_value(\"roc_auc_per_digit\", roc_auc_dict)"
   ]
  },
  {
   "cell_type": "markdown",
   "id": "eea0acae",
   "metadata": {
    "papermill": {
     "duration": 0.007239,
     "end_time": "2022-12-05T06:45:04.365226",
     "exception": false,
     "start_time": "2022-12-05T06:45:04.357987",
     "status": "completed"
    },
    "tags": []
   },
   "source": [
    "### Compute and log mean ROC AUC score averaged over all digits"
   ]
  },
  {
   "cell_type": "code",
   "execution_count": 19,
   "id": "27b45c88",
   "metadata": {
    "execution": {
     "iopub.execute_input": "2022-12-05T06:45:04.381662Z",
     "iopub.status.busy": "2022-12-05T06:45:04.381227Z",
     "iopub.status.idle": "2022-12-05T06:45:04.397466Z",
     "shell.execute_reply": "2022-12-05T06:45:04.396424Z"
    },
    "papermill": {
     "duration": 0.026943,
     "end_time": "2022-12-05T06:45:04.399972",
     "exception": false,
     "start_time": "2022-12-05T06:45:04.373029",
     "status": "completed"
    },
    "tags": []
   },
   "outputs": [
    {
     "name": "stdout",
     "output_type": "stream",
     "text": [
      " - Logging roc_auc_class_mean (float) : 0.9992452545246759\n"
     ]
    }
   ],
   "source": [
    "roc_auc_macro = np.mean(list(roc_auc_dict.values()))\n",
    "\n",
    "logger.log_float(\"roc_auc_class_mean\", roc_auc_macro)\n",
    "\n",
    "# assert that the same value can be computed directly using sklearn\n",
    "assert roc_auc_macro == metrics.roc_auc_score(\n",
    "    y_test, y_pred_probs_test, average=\"macro\", multi_class=\"ovr\"\n",
    ")"
   ]
  },
  {
   "cell_type": "code",
   "execution_count": 20,
   "id": "223d9819",
   "metadata": {
    "execution": {
     "iopub.execute_input": "2022-12-05T06:45:04.419851Z",
     "iopub.status.busy": "2022-12-05T06:45:04.418954Z",
     "iopub.status.idle": "2022-12-05T06:45:04.423008Z",
     "shell.execute_reply": "2022-12-05T06:45:04.422298Z"
    },
    "lines_to_next_cell": 0,
    "papermill": {
     "duration": 0.015385,
     "end_time": "2022-12-05T06:45:04.425062",
     "exception": false,
     "start_time": "2022-12-05T06:45:04.409677",
     "status": "completed"
    },
    "tags": []
   },
   "outputs": [],
   "source": [
    "# ---"
   ]
  },
  {
   "cell_type": "code",
   "execution_count": null,
   "id": "5b68089d",
   "metadata": {
    "papermill": {
     "duration": 0.007973,
     "end_time": "2022-12-05T06:45:04.441478",
     "exception": false,
     "start_time": "2022-12-05T06:45:04.433505",
     "status": "completed"
    },
    "tags": []
   },
   "outputs": [],
   "source": []
  }
 ],
 "metadata": {
  "jupytext": {
   "cell_metadata_filter": "tags,-all",
   "main_language": "python",
   "notebook_metadata_filter": "-all"
  },
  "language_info": {
   "codemirror_mode": {
    "name": "ipython",
    "version": 3
   },
   "file_extension": ".py",
   "mimetype": "text/x-python",
   "name": "python",
   "nbconvert_exporter": "python",
   "pygments_lexer": "ipython3",
   "version": "3.8.10"
  },
  "papermill": {
   "default_parameters": {},
   "duration": 14.187006,
   "end_time": "2022-12-05T06:45:05.673704",
   "environment_variables": {},
   "exception": null,
   "input_path": "/home/host_user/workspace/mnist-demo-pipeline/mnist-demo-pipeline/notebooks/temp-notebook-ggsy8jvf.ipynb",
   "output_path": "notebooks/benchmark-model.ipynb",
   "parameters": {
    "P": {
     "_opentelemetry_traceparent": "00-7b30746d3e4cf784eea19788fe421997-dbe2a84fdf693abf-01",
     "pipeline.data_lake_root": "/pipeline-outputs/data-lake",
     "pipeline.github.actor": "matiasdahl",
     "pipeline.github.base_ref": "",
     "pipeline.github.event_name": "schedule",
     "pipeline.github.head_ref": "",
     "pipeline.github.job": "run-tests-pipeline-and-persist-pipeline-outputs",
     "pipeline.github.ref": "refs/heads/development",
     "pipeline.github.ref_name": "development",
     "pipeline.github.ref_type": "branch",
     "pipeline.github.repository": "matiasdahl/dev-mnist-digits-demo-pipeline",
     "pipeline.github.run_id": "3617573418",
     "pipeline.github.runner_name": "Hosted Agent",
     "pipeline.github.sha": "ace0d01011d5e914f1921450dd5a59c11367b38d",
     "pipeline.github.workflow": "Run automated tests, pipeline and deploy results to static reporting site",
     "pipeline.pipeline_run_id": "271a878e-0055-4dd4-8408-8e007d3d8c39",
     "pipeline.run_environment": "ci",
     "run.retry_nr": "0",
     "task.max_nr_retries": "1",
     "task.notebook": "notebooks/benchmark-model.py",
     "task.nr_train_images": 1000,
     "task.num_cpus": 1,
     "task.timeout_s": "None"
    }
   },
   "start_time": "2022-12-05T06:44:51.486698",
   "version": "2.3.3"
  }
 },
 "nbformat": 4,
 "nbformat_minor": 5
}