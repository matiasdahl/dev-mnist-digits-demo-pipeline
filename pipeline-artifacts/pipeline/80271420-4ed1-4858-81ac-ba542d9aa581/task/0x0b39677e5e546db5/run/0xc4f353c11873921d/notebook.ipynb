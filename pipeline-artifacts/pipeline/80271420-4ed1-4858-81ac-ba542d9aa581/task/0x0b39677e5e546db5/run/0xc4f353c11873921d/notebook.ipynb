{
 "cells": [
  {
   "cell_type": "markdown",
   "id": "e00061c0",
   "metadata": {
    "papermill": {
     "duration": 0.006277,
     "end_time": "2022-12-13T06:43:15.136780",
     "exception": false,
     "start_time": "2022-12-13T06:43:15.130503",
     "status": "completed"
    },
    "tags": []
   },
   "source": [
    "# Benchmark model\n",
    "\n",
    "The purpose of this notebook is to benchmark persisted onnx-model (trained in the\n",
    "previous step) against evaluation set."
   ]
  },
  {
   "cell_type": "markdown",
   "id": "a015e73b",
   "metadata": {
    "papermill": {
     "duration": 0.005129,
     "end_time": "2022-12-13T06:43:15.153338",
     "exception": false,
     "start_time": "2022-12-13T06:43:15.148209",
     "status": "completed"
    },
    "tags": []
   },
   "source": [
    "### Determine run parameters"
   ]
  },
  {
   "cell_type": "code",
   "execution_count": 1,
   "id": "3de4fc5c",
   "metadata": {
    "execution": {
     "iopub.execute_input": "2022-12-13T06:43:15.163361Z",
     "iopub.status.busy": "2022-12-13T06:43:15.162654Z",
     "iopub.status.idle": "2022-12-13T06:43:15.172170Z",
     "shell.execute_reply": "2022-12-13T06:43:15.171597Z"
    },
    "lines_to_next_cell": 0,
    "papermill": {
     "duration": 0.01648,
     "end_time": "2022-12-13T06:43:15.173961",
     "exception": false,
     "start_time": "2022-12-13T06:43:15.157481",
     "status": "completed"
    },
    "tags": []
   },
   "outputs": [],
   "source": [
    "# ----------------- Parameters for interactive development --------------\n",
    "P = {\n",
    "    \"pipeline.data_lake_root\": \"/pipeline-outputs/data-lake\",\n",
    "    \"task.nr_train_images\": 600,\n",
    "}"
   ]
  },
  {
   "cell_type": "code",
   "execution_count": 2,
   "id": "05ff694a",
   "metadata": {
    "execution": {
     "iopub.execute_input": "2022-12-13T06:43:15.184742Z",
     "iopub.status.busy": "2022-12-13T06:43:15.184464Z",
     "iopub.status.idle": "2022-12-13T06:43:15.187946Z",
     "shell.execute_reply": "2022-12-13T06:43:15.187338Z"
    },
    "lines_to_next_cell": 0,
    "papermill": {
     "duration": 0.011584,
     "end_time": "2022-12-13T06:43:15.190900",
     "exception": false,
     "start_time": "2022-12-13T06:43:15.179316",
     "status": "completed"
    },
    "tags": [
     "parameters"
    ]
   },
   "outputs": [],
   "source": [
    "# - During automated runs parameters will be injected in the below cell -"
   ]
  },
  {
   "cell_type": "code",
   "execution_count": 3,
   "id": "58e7eb3d",
   "metadata": {
    "execution": {
     "iopub.execute_input": "2022-12-13T06:43:15.200687Z",
     "iopub.status.busy": "2022-12-13T06:43:15.200433Z",
     "iopub.status.idle": "2022-12-13T06:43:15.204889Z",
     "shell.execute_reply": "2022-12-13T06:43:15.204322Z"
    },
    "papermill": {
     "duration": 0.013252,
     "end_time": "2022-12-13T06:43:15.208095",
     "exception": false,
     "start_time": "2022-12-13T06:43:15.194843",
     "status": "completed"
    },
    "tags": [
     "injected-parameters"
    ]
   },
   "outputs": [],
   "source": [
    "# Parameters\n",
    "P = {\n",
    "    \"pipeline.data_lake_root\": \"/pipeline-outputs/data-lake\",\n",
    "    \"pipeline.run_environment\": \"ci\",\n",
    "    \"pipeline.pipeline_run_id\": \"80271420-4ed1-4858-81ac-ba542d9aa581\",\n",
    "    \"pipeline.github.repository\": \"matiasdahl/dev-mnist-digits-demo-pipeline\",\n",
    "    \"pipeline.github.workflow\": \"Run automated tests, pipeline and deploy results to static reporting site\",\n",
    "    \"pipeline.github.runner_name\": \"Hosted Agent\",\n",
    "    \"pipeline.github.run_id\": \"3682940783\",\n",
    "    \"pipeline.github.actor\": \"matiasdahl\",\n",
    "    \"pipeline.github.job\": \"run-tests-pipeline-and-persist-pipeline-outputs\",\n",
    "    \"pipeline.github.base_ref\": \"\",\n",
    "    \"pipeline.github.head_ref\": \"\",\n",
    "    \"pipeline.github.sha\": \"ace0d01011d5e914f1921450dd5a59c11367b38d\",\n",
    "    \"pipeline.github.ref\": \"refs/heads/development\",\n",
    "    \"pipeline.github.ref_type\": \"branch\",\n",
    "    \"pipeline.github.ref_name\": \"development\",\n",
    "    \"pipeline.github.event_name\": \"schedule\",\n",
    "    \"task.nr_train_images\": 600,\n",
    "    \"task.notebook\": \"notebooks/benchmark-model.py\",\n",
    "    \"task.max_nr_retries\": \"1\",\n",
    "    \"run.retry_nr\": \"0\",\n",
    "    \"task.timeout_s\": \"None\",\n",
    "    \"task.num_cpus\": 1,\n",
    "    \"_opentelemetry_traceparent\": \"00-659a8d30b31143831d02390663dc0fa8-8d528e8611ed0207-01\",\n",
    "}\n"
   ]
  },
  {
   "cell_type": "code",
   "execution_count": 4,
   "id": "c83e8296",
   "metadata": {
    "execution": {
     "iopub.execute_input": "2022-12-13T06:43:15.218261Z",
     "iopub.status.busy": "2022-12-13T06:43:15.217994Z",
     "iopub.status.idle": "2022-12-13T06:43:15.224473Z",
     "shell.execute_reply": "2022-12-13T06:43:15.223903Z"
    },
    "lines_to_next_cell": 0,
    "papermill": {
     "duration": 0.015541,
     "end_time": "2022-12-13T06:43:15.227953",
     "exception": false,
     "start_time": "2022-12-13T06:43:15.212412",
     "status": "completed"
    },
    "tags": []
   },
   "outputs": [],
   "source": [
    "# -----------------------------------------------------------------------"
   ]
  },
  {
   "cell_type": "markdown",
   "id": "8bda31cb",
   "metadata": {
    "papermill": {
     "duration": 0.004371,
     "end_time": "2022-12-13T06:43:15.236671",
     "exception": false,
     "start_time": "2022-12-13T06:43:15.232300",
     "status": "completed"
    },
    "tags": []
   },
   "source": [
    "---"
   ]
  },
  {
   "cell_type": "markdown",
   "id": "190a5f67",
   "metadata": {
    "lines_to_next_cell": 2,
    "papermill": {
     "duration": 0.003927,
     "end_time": "2022-12-13T06:43:15.244978",
     "exception": false,
     "start_time": "2022-12-13T06:43:15.241051",
     "status": "completed"
    },
    "tags": []
   },
   "source": [
    "### Notebook code"
   ]
  },
  {
   "cell_type": "code",
   "execution_count": 5,
   "id": "b73a6c7b",
   "metadata": {
    "execution": {
     "iopub.execute_input": "2022-12-13T06:43:15.255369Z",
     "iopub.status.busy": "2022-12-13T06:43:15.255109Z",
     "iopub.status.idle": "2022-12-13T06:43:16.417679Z",
     "shell.execute_reply": "2022-12-13T06:43:16.416930Z"
    },
    "papermill": {
     "duration": 1.17031,
     "end_time": "2022-12-13T06:43:16.419770",
     "exception": false,
     "start_time": "2022-12-13T06:43:15.249460",
     "status": "completed"
    },
    "tags": []
   },
   "outputs": [
    {
     "name": "stderr",
     "output_type": "stream",
     "text": [
      "2022-12-13 06:43:16,196\tINFO worker.py:842 -- Connecting to existing Ray cluster at address: 172.17.0.2:6379\n"
     ]
    }
   ],
   "source": [
    "import itertools as it\n",
    "\n",
    "#\n",
    "import numpy as np\n",
    "import matplotlib.pyplot as plt\n",
    "\n",
    "#\n",
    "from pynb_dag_runner.tasks.task_opentelemetry_logging import PydarLogger\n",
    "\n",
    "#\n",
    "from common.io import datalake_root\n",
    "\n",
    "logger = PydarLogger(P)"
   ]
  },
  {
   "cell_type": "markdown",
   "id": "be9c7d1c",
   "metadata": {
    "papermill": {
     "duration": 0.004652,
     "end_time": "2022-12-13T06:43:16.428887",
     "exception": false,
     "start_time": "2022-12-13T06:43:16.424235",
     "status": "completed"
    },
    "tags": []
   },
   "source": [
    "## Load persisted onnx-model and evaluation data"
   ]
  },
  {
   "cell_type": "code",
   "execution_count": 6,
   "id": "062c964d",
   "metadata": {
    "execution": {
     "iopub.execute_input": "2022-12-13T06:43:16.439203Z",
     "iopub.status.busy": "2022-12-13T06:43:16.438828Z",
     "iopub.status.idle": "2022-12-13T06:43:16.442283Z",
     "shell.execute_reply": "2022-12-13T06:43:16.441699Z"
    },
    "papermill": {
     "duration": 0.012067,
     "end_time": "2022-12-13T06:43:16.445382",
     "exception": false,
     "start_time": "2022-12-13T06:43:16.433315",
     "status": "completed"
    },
    "tags": []
   },
   "outputs": [],
   "source": [
    "from common.io import read_onnx, get_onnx_inputs, get_onnx_outputs, read_numpy"
   ]
  },
  {
   "cell_type": "code",
   "execution_count": 7,
   "id": "5c3b7ec8",
   "metadata": {
    "execution": {
     "iopub.execute_input": "2022-12-13T06:43:16.455603Z",
     "iopub.status.busy": "2022-12-13T06:43:16.455321Z",
     "iopub.status.idle": "2022-12-13T06:43:16.466084Z",
     "shell.execute_reply": "2022-12-13T06:43:16.465501Z"
    },
    "lines_to_next_cell": 0,
    "papermill": {
     "duration": 0.018388,
     "end_time": "2022-12-13T06:43:16.467914",
     "exception": false,
     "start_time": "2022-12-13T06:43:16.449526",
     "status": "completed"
    },
    "tags": []
   },
   "outputs": [],
   "source": [
    "onnx_inference_session = read_onnx(\n",
    "    datalake_root(P)\n",
    "    / \"models\"\n",
    "    / f\"nr_train_images={P['task.nr_train_images']}\"\n",
    "    / \"model.onnx\"\n",
    ")"
   ]
  },
  {
   "cell_type": "markdown",
   "id": "423a752b",
   "metadata": {
    "papermill": {
     "duration": 0.004554,
     "end_time": "2022-12-13T06:43:16.476576",
     "exception": false,
     "start_time": "2022-12-13T06:43:16.472022",
     "status": "completed"
    },
    "tags": []
   },
   "source": [
    "### Record structure of inputs and outputs for ONNX model\n",
    "\n",
    "(this should likely be done in training notebook)"
   ]
  },
  {
   "cell_type": "code",
   "execution_count": 8,
   "id": "48fb15c9",
   "metadata": {
    "execution": {
     "iopub.execute_input": "2022-12-13T06:43:16.487279Z",
     "iopub.status.busy": "2022-12-13T06:43:16.487010Z",
     "iopub.status.idle": "2022-12-13T06:43:16.493237Z",
     "shell.execute_reply": "2022-12-13T06:43:16.492709Z"
    },
    "papermill": {
     "duration": 0.015416,
     "end_time": "2022-12-13T06:43:16.497038",
     "exception": false,
     "start_time": "2022-12-13T06:43:16.481622",
     "status": "completed"
    },
    "tags": []
   },
   "outputs": [
    {
     "name": "stdout",
     "output_type": "stream",
     "text": [
      "{\n",
      "  \"inputs\": [\n",
      "    {\n",
      "      \"name\": \"float_input_8x8_image\",\n",
      "      \"shape\": [\n",
      "        null,\n",
      "        64\n",
      "      ],\n",
      "      \"type\": \"tensor(float)\"\n",
      "    }\n",
      "  ],\n",
      "  \"outputs\": [\n",
      "    {\n",
      "      \"name\": \"output_label\",\n",
      "      \"shape\": [\n",
      "        null\n",
      "      ],\n",
      "      \"type\": \"tensor(int64)\"\n",
      "    },\n",
      "    {\n",
      "      \"name\": \"output_probability\",\n",
      "      \"shape\": [],\n",
      "      \"type\": \"seq(map(int64,tensor(float)))\"\n",
      "    }\n",
      "  ]\n",
      "}\n"
     ]
    }
   ],
   "source": [
    "import json\n",
    "\n",
    "onnx_io = json.dumps(\n",
    "    {\n",
    "        \"inputs\": get_onnx_inputs(onnx_inference_session),\n",
    "        \"outputs\": get_onnx_outputs(onnx_inference_session),\n",
    "    },\n",
    "    indent=2,\n",
    ")\n",
    "\n",
    "\n",
    "logger.log_artefact(\"onnx_io_structure.json\", onnx_io)\n",
    "print(onnx_io)"
   ]
  },
  {
   "cell_type": "markdown",
   "id": "387282a2",
   "metadata": {
    "papermill": {
     "duration": 0.004435,
     "end_time": "2022-12-13T06:43:16.505877",
     "exception": false,
     "start_time": "2022-12-13T06:43:16.501442",
     "status": "completed"
    },
    "tags": []
   },
   "source": [
    "### Evaluate model performance on evaluation data set"
   ]
  },
  {
   "cell_type": "code",
   "execution_count": 9,
   "id": "642f88b0",
   "metadata": {
    "execution": {
     "iopub.execute_input": "2022-12-13T06:43:16.516446Z",
     "iopub.status.busy": "2022-12-13T06:43:16.516169Z",
     "iopub.status.idle": "2022-12-13T06:43:16.520880Z",
     "shell.execute_reply": "2022-12-13T06:43:16.520097Z"
    },
    "papermill": {
     "duration": 0.012687,
     "end_time": "2022-12-13T06:43:16.523525",
     "exception": false,
     "start_time": "2022-12-13T06:43:16.510838",
     "status": "completed"
    },
    "tags": []
   },
   "outputs": [],
   "source": [
    "# load evaluation data\n",
    "X_test = read_numpy(datalake_root(P) / \"test-data\" / \"digits.numpy\")\n",
    "y_test = read_numpy(datalake_root(P) / \"test-data\" / \"labels.numpy\")"
   ]
  },
  {
   "cell_type": "code",
   "execution_count": 10,
   "id": "b78dbef7",
   "metadata": {
    "execution": {
     "iopub.execute_input": "2022-12-13T06:43:16.534141Z",
     "iopub.status.busy": "2022-12-13T06:43:16.533838Z",
     "iopub.status.idle": "2022-12-13T06:43:16.547852Z",
     "shell.execute_reply": "2022-12-13T06:43:16.547265Z"
    },
    "papermill": {
     "duration": 0.021991,
     "end_time": "2022-12-13T06:43:16.549975",
     "exception": false,
     "start_time": "2022-12-13T06:43:16.527984",
     "status": "completed"
    },
    "tags": []
   },
   "outputs": [],
   "source": [
    "def get_model_outputs(X, onnx_inference_session):\n",
    "    y_pred_labels, y_pred_map = onnx_inference_session.run(\n",
    "        [\"output_label\", \"output_probability\"],\n",
    "        {\"float_input_8x8_image\": X.astype(np.float32)},\n",
    "    )\n",
    "    y_pred_probs = np.array(\n",
    "        [[probabilities[digit] for digit in range(10)] for probabilities in y_pred_map]\n",
    "    )\n",
    "\n",
    "    assert y_pred_labels.shape == (X.shape[0],)\n",
    "    assert y_pred_probs.shape == (X.shape[0], 10)\n",
    "\n",
    "    return y_pred_labels, y_pred_probs\n",
    "\n",
    "\n",
    "# Note: as shown in the training notebook, the predicted labels and probabilities\n",
    "# computed below need not be compatible.\n",
    "y_pred_labels_test, y_pred_probs_test = get_model_outputs(\n",
    "    X_test, onnx_inference_session\n",
    ")"
   ]
  },
  {
   "cell_type": "markdown",
   "id": "20f931b1",
   "metadata": {
    "papermill": {
     "duration": 0.004511,
     "end_time": "2022-12-13T06:43:16.559674",
     "exception": false,
     "start_time": "2022-12-13T06:43:16.555163",
     "status": "completed"
    },
    "tags": []
   },
   "source": [
    "### Confusion matrix"
   ]
  },
  {
   "cell_type": "code",
   "execution_count": 11,
   "id": "2dd73746",
   "metadata": {
    "execution": {
     "iopub.execute_input": "2022-12-13T06:43:16.570636Z",
     "iopub.status.busy": "2022-12-13T06:43:16.570332Z",
     "iopub.status.idle": "2022-12-13T06:43:16.574469Z",
     "shell.execute_reply": "2022-12-13T06:43:16.572999Z"
    },
    "papermill": {
     "duration": 0.0127,
     "end_time": "2022-12-13T06:43:16.577223",
     "exception": false,
     "start_time": "2022-12-13T06:43:16.564523",
     "status": "completed"
    },
    "tags": []
   },
   "outputs": [],
   "source": [
    "# TODO"
   ]
  },
  {
   "cell_type": "markdown",
   "id": "70f328b1",
   "metadata": {
    "papermill": {
     "duration": 0.004381,
     "end_time": "2022-12-13T06:43:16.587095",
     "exception": false,
     "start_time": "2022-12-13T06:43:16.582714",
     "status": "completed"
    },
    "tags": []
   },
   "source": [
    "### Plot predicted probabilities for each classifier over all evaluation digit images"
   ]
  },
  {
   "cell_type": "code",
   "execution_count": 12,
   "id": "79a8015c",
   "metadata": {
    "execution": {
     "iopub.execute_input": "2022-12-13T06:43:16.597866Z",
     "iopub.status.busy": "2022-12-13T06:43:16.597470Z",
     "iopub.status.idle": "2022-12-13T06:43:19.533634Z",
     "shell.execute_reply": "2022-12-13T06:43:19.533025Z"
    },
    "papermill": {
     "duration": 2.943916,
     "end_time": "2022-12-13T06:43:19.535609",
     "exception": false,
     "start_time": "2022-12-13T06:43:16.591693",
     "status": "completed"
    },
    "tags": []
   },
   "outputs": [
    {
     "data": {
      "image/png": "[encoded data removed]",
      "text/plain": [
       "<Figure size 1600x600 with 10 Axes>"
      ]
     },
     "metadata": {},
     "output_type": "display_data"
    }
   ],
   "source": [
    "def plot_per_digit_probabilities(y_pred_probs):\n",
    "    fig, axs = plt.subplots(nrows=2, ncols=5, figsize=(16, 6))\n",
    "\n",
    "    for (r, c), digit, ax in zip(\n",
    "        it.product(range(2), range(5)), range(10), axs.reshape(-1)\n",
    "    ):\n",
    "        ax.hist(y_pred_probs_test[:, digit], bins=20)\n",
    "\n",
    "        ax.set_title(f\"Digit {digit}\")\n",
    "        if r == 1 and c == 2:\n",
    "            ax.set_xlabel(\"probability\", fontsize=16)\n",
    "\n",
    "        if c == 0:\n",
    "            ax.set_ylabel(\"counts\", fontsize=16)\n",
    "        ax.set_yscale(\"log\")\n",
    "\n",
    "    fig.tight_layout()\n",
    "    fig.suptitle(\n",
    "        f\"Distributions of prediction probabilities for each digit \"\n",
    "        f\"(on evaluation data, n={y_pred_probs.shape[0]})\",\n",
    "        fontsize=20,\n",
    "    )\n",
    "    fig.tight_layout()\n",
    "    fig.show()\n",
    "\n",
    "    return fig\n",
    "\n",
    "\n",
    "fig = plot_per_digit_probabilities(y_pred_probs_test)"
   ]
  },
  {
   "cell_type": "markdown",
   "id": "9f265d50",
   "metadata": {
    "papermill": {
     "duration": 0.005323,
     "end_time": "2022-12-13T06:43:19.546776",
     "exception": false,
     "start_time": "2022-12-13T06:43:19.541453",
     "status": "completed"
    },
    "tags": []
   },
   "source": [
    "From the above distributions we see that most digits have clear separation between\n",
    "high and lower probabilities. Morover, in each case there is roughly an order of\n",
    "magnitude more of digits with low probabilities. This is compatible with digits\n",
    "being roughly evenly distributed in the data."
   ]
  },
  {
   "cell_type": "code",
   "execution_count": 13,
   "id": "94c0dd8f",
   "metadata": {
    "execution": {
     "iopub.execute_input": "2022-12-13T06:43:19.559989Z",
     "iopub.status.busy": "2022-12-13T06:43:19.559623Z",
     "iopub.status.idle": "2022-12-13T06:43:20.022631Z",
     "shell.execute_reply": "2022-12-13T06:43:20.021731Z"
    },
    "papermill": {
     "duration": 0.471297,
     "end_time": "2022-12-13T06:43:20.024376",
     "exception": false,
     "start_time": "2022-12-13T06:43:19.553079",
     "status": "completed"
    },
    "tags": []
   },
   "outputs": [],
   "source": [
    "logger.log_figure(\"per-digit-probabilities.png\", fig)"
   ]
  },
  {
   "cell_type": "markdown",
   "id": "73ad6deb",
   "metadata": {
    "papermill": {
     "duration": 0.005978,
     "end_time": "2022-12-13T06:43:20.036218",
     "exception": false,
     "start_time": "2022-12-13T06:43:20.030240",
     "status": "completed"
    },
    "tags": []
   },
   "source": [
    "### Plot ROC curves for individual one-vs-rest classifiers"
   ]
  },
  {
   "cell_type": "code",
   "execution_count": 14,
   "id": "b2425be9",
   "metadata": {
    "execution": {
     "iopub.execute_input": "2022-12-13T06:43:20.050147Z",
     "iopub.status.busy": "2022-12-13T06:43:20.049745Z",
     "iopub.status.idle": "2022-12-13T06:43:20.482035Z",
     "shell.execute_reply": "2022-12-13T06:43:20.481415Z"
    },
    "papermill": {
     "duration": 0.442309,
     "end_time": "2022-12-13T06:43:20.483697",
     "exception": false,
     "start_time": "2022-12-13T06:43:20.041388",
     "status": "completed"
    },
    "tags": []
   },
   "outputs": [],
   "source": [
    "from sklearn import metrics"
   ]
  },
  {
   "cell_type": "code",
   "execution_count": 15,
   "id": "2e58ccf6",
   "metadata": {
    "execution": {
     "iopub.execute_input": "2022-12-13T06:43:20.497103Z",
     "iopub.status.busy": "2022-12-13T06:43:20.496826Z",
     "iopub.status.idle": "2022-12-13T06:43:21.653866Z",
     "shell.execute_reply": "2022-12-13T06:43:21.653238Z"
    },
    "papermill": {
     "duration": 1.166353,
     "end_time": "2022-12-13T06:43:21.655689",
     "exception": false,
     "start_time": "2022-12-13T06:43:20.489336",
     "status": "completed"
    },
    "tags": []
   },
   "outputs": [
    {
     "data": {
      "image/png": "[encoded data removed]",
      "text/plain": [
       "<Figure size 1600x800 with 10 Axes>"
      ]
     },
     "metadata": {},
     "output_type": "display_data"
    }
   ],
   "source": [
    "def plot_roc_curves(y, y_pred_probs):\n",
    "    # based on example code\n",
    "    # https://scikit-learn.org/stable/auto_examples/model_selection/plot_roc.html\n",
    "\n",
    "    fig, axs = plt.subplots(nrows=2, ncols=5, figsize=(16, 8))\n",
    "\n",
    "    roc_auc_dict = {}\n",
    "\n",
    "    for (r, c), digit, ax in zip(\n",
    "        it.product(range(2), range(5)), range(10), axs.reshape(-1)\n",
    "    ):\n",
    "        fpr, tpr, _ = metrics.roc_curve(y == digit, y_pred_probs[:, digit])\n",
    "        auc = metrics.auc(fpr, tpr)\n",
    "        roc_auc_dict[str(digit)] = auc\n",
    "\n",
    "        ax.plot(fpr, tpr, label=f\"ROC AUC={round(auc, 3)}\")\n",
    "\n",
    "        ax.set_title(f\"\\nDigit {digit}\", fontsize=16)\n",
    "        if r == 1:\n",
    "            ax.set_xlabel(\"FPR\", fontsize=18)\n",
    "\n",
    "        if c == 0:\n",
    "            ax.set_ylabel(\"TPR\", fontsize=18)\n",
    "\n",
    "        ax.set_xlim([-0.05, 1.05])\n",
    "        ax.set_ylim([-0.05, 1.05])\n",
    "        ax.legend(loc=\"lower right\", frameon=False, fontsize=14)\n",
    "\n",
    "    fig.tight_layout()\n",
    "    fig.suptitle(\n",
    "        f\"ROC plots for one-vs-rest performances \"\n",
    "        f\"(on evaluation data, n={y_pred_probs_test.shape[1]}\",\n",
    "        fontsize=22,\n",
    "    )\n",
    "    fig.tight_layout()\n",
    "    fig.show()\n",
    "\n",
    "    return roc_auc_dict, fig\n",
    "\n",
    "\n",
    "roc_auc_dict, fig = plot_roc_curves(y_test, y_pred_probs_test)"
   ]
  },
  {
   "cell_type": "code",
   "execution_count": 16,
   "id": "734a82f7",
   "metadata": {
    "execution": {
     "iopub.execute_input": "2022-12-13T06:43:21.672561Z",
     "iopub.status.busy": "2022-12-13T06:43:21.672172Z",
     "iopub.status.idle": "2022-12-13T06:43:21.957646Z",
     "shell.execute_reply": "2022-12-13T06:43:21.956848Z"
    },
    "papermill": {
     "duration": 0.296208,
     "end_time": "2022-12-13T06:43:21.959587",
     "exception": false,
     "start_time": "2022-12-13T06:43:21.663379",
     "status": "completed"
    },
    "tags": []
   },
   "outputs": [],
   "source": [
    "logger.log_figure(\"per-digit-roc-curves.png\", fig)"
   ]
  },
  {
   "cell_type": "code",
   "execution_count": 17,
   "id": "5476c96b",
   "metadata": {
    "execution": {
     "iopub.execute_input": "2022-12-13T06:43:21.976691Z",
     "iopub.status.busy": "2022-12-13T06:43:21.976307Z",
     "iopub.status.idle": "2022-12-13T06:43:21.982286Z",
     "shell.execute_reply": "2022-12-13T06:43:21.980840Z"
    },
    "papermill": {
     "duration": 0.017484,
     "end_time": "2022-12-13T06:43:21.985401",
     "exception": false,
     "start_time": "2022-12-13T06:43:21.967917",
     "status": "completed"
    },
    "tags": []
   },
   "outputs": [
    {
     "data": {
      "text/plain": [
       "{'0': 1.0,\n",
       " '1': 0.9992127460168697,\n",
       " '2': 1.0,\n",
       " '3': 0.9997000937207123,\n",
       " '4': 0.9990474013107759,\n",
       " '5': 0.9987628865979381,\n",
       " '6': 0.999923792104862,\n",
       " '7': 0.9998475842097241,\n",
       " '8': 0.994561790668348,\n",
       " '9': 0.998780673677793}"
      ]
     },
     "execution_count": 17,
     "metadata": {},
     "output_type": "execute_result"
    }
   ],
   "source": [
    "roc_auc_dict"
   ]
  },
  {
   "cell_type": "code",
   "execution_count": 18,
   "id": "ebe71105",
   "metadata": {
    "execution": {
     "iopub.execute_input": "2022-12-13T06:43:22.001087Z",
     "iopub.status.busy": "2022-12-13T06:43:22.000719Z",
     "iopub.status.idle": "2022-12-13T06:43:22.006027Z",
     "shell.execute_reply": "2022-12-13T06:43:22.005311Z"
    },
    "papermill": {
     "duration": 0.015893,
     "end_time": "2022-12-13T06:43:22.008484",
     "exception": false,
     "start_time": "2022-12-13T06:43:21.992591",
     "status": "completed"
    },
    "tags": []
   },
   "outputs": [
    {
     "name": "stdout",
     "output_type": "stream",
     "text": [
      " - Logging roc_auc_per_digit (json) : {'0': 1.0, '1': 0.9992127460168697, '2': 1.0, '3': 0.9997000937207123, '4': 0.9990474013107759, '5': 0.9987628865979381, '6': 0.999923792104862, '7': 0.9998475842097241, '8': 0.994561790668348, '9': 0.998780673677793}\n"
     ]
    }
   ],
   "source": [
    "logger.log_value(\"roc_auc_per_digit\", roc_auc_dict)"
   ]
  },
  {
   "cell_type": "markdown",
   "id": "93ca3365",
   "metadata": {
    "papermill": {
     "duration": 0.007678,
     "end_time": "2022-12-13T06:43:22.023905",
     "exception": false,
     "start_time": "2022-12-13T06:43:22.016227",
     "status": "completed"
    },
    "tags": []
   },
   "source": [
    "### Compute and log mean ROC AUC score averaged over all digits"
   ]
  },
  {
   "cell_type": "code",
   "execution_count": 19,
   "id": "c88fee58",
   "metadata": {
    "execution": {
     "iopub.execute_input": "2022-12-13T06:43:22.040303Z",
     "iopub.status.busy": "2022-12-13T06:43:22.039912Z",
     "iopub.status.idle": "2022-12-13T06:43:22.055698Z",
     "shell.execute_reply": "2022-12-13T06:43:22.055019Z"
    },
    "papermill": {
     "duration": 0.026725,
     "end_time": "2022-12-13T06:43:22.057551",
     "exception": false,
     "start_time": "2022-12-13T06:43:22.030826",
     "status": "completed"
    },
    "tags": []
   },
   "outputs": [
    {
     "name": "stdout",
     "output_type": "stream",
     "text": [
      " - Logging roc_auc_class_mean (float) : 0.9989836968307022\n"
     ]
    }
   ],
   "source": [
    "roc_auc_macro = np.mean(list(roc_auc_dict.values()))\n",
    "\n",
    "logger.log_float(\"roc_auc_class_mean\", roc_auc_macro)\n",
    "\n",
    "# assert that the same value can be computed directly using sklearn\n",
    "assert roc_auc_macro == metrics.roc_auc_score(\n",
    "    y_test, y_pred_probs_test, average=\"macro\", multi_class=\"ovr\"\n",
    ")"
   ]
  },
  {
   "cell_type": "code",
   "execution_count": 20,
   "id": "4aae82a7",
   "metadata": {
    "execution": {
     "iopub.execute_input": "2022-12-13T06:43:22.074949Z",
     "iopub.status.busy": "2022-12-13T06:43:22.073714Z",
     "iopub.status.idle": "2022-12-13T06:43:22.077519Z",
     "shell.execute_reply": "2022-12-13T06:43:22.076850Z"
    },
    "lines_to_next_cell": 0,
    "papermill": {
     "duration": 0.014034,
     "end_time": "2022-12-13T06:43:22.079778",
     "exception": false,
     "start_time": "2022-12-13T06:43:22.065744",
     "status": "completed"
    },
    "tags": []
   },
   "outputs": [],
   "source": [
    "# ---"
   ]
  },
  {
   "cell_type": "code",
   "execution_count": null,
   "id": "e7ad320b",
   "metadata": {
    "papermill": {
     "duration": 0.008615,
     "end_time": "2022-12-13T06:43:22.096828",
     "exception": false,
     "start_time": "2022-12-13T06:43:22.088213",
     "status": "completed"
    },
    "tags": []
   },
   "outputs": [],
   "source": []
  }
 ],
 "metadata": {
  "jupytext": {
   "cell_metadata_filter": "tags,-all",
   "main_language": "python",
   "notebook_metadata_filter": "-all"
  },
  "language_info": {
   "codemirror_mode": {
    "name": "ipython",
    "version": 3
   },
   "file_extension": ".py",
   "mimetype": "text/x-python",
   "name": "python",
   "nbconvert_exporter": "python",
   "pygments_lexer": "ipython3",
   "version": "3.8.10"
  },
  "papermill": {
   "default_parameters": {},
   "duration": 9.784128,
   "end_time": "2022-12-13T06:43:23.324948",
   "environment_variables": {},
   "exception": null,
   "input_path": "/home/host_user/workspace/mnist-demo-pipeline/mnist-demo-pipeline/notebooks/temp-notebook-58m6vtcy.ipynb",
   "output_path": "notebooks/benchmark-model.ipynb",
   "parameters": {
    "P": {
     "_opentelemetry_traceparent": "00-659a8d30b31143831d02390663dc0fa8-8d528e8611ed0207-01",
     "pipeline.data_lake_root": "/pipeline-outputs/data-lake",
     "pipeline.github.actor": "matiasdahl",
     "pipeline.github.base_ref": "",
     "pipeline.github.event_name": "schedule",
     "pipeline.github.head_ref": "",
     "pipeline.github.job": "run-tests-pipeline-and-persist-pipeline-outputs",
     "pipeline.github.ref": "refs/heads/development",
     "pipeline.github.ref_name": "development",
     "pipeline.github.ref_type": "branch",
     "pipeline.github.repository": "matiasdahl/dev-mnist-digits-demo-pipeline",
     "pipeline.github.run_id": "3682940783",
     "pipeline.github.runner_name": "Hosted Agent",
     "pipeline.github.sha": "ace0d01011d5e914f1921450dd5a59c11367b38d",
     "pipeline.github.workflow": "Run automated tests, pipeline and deploy results to static reporting site",
     "pipeline.pipeline_run_id": "80271420-4ed1-4858-81ac-ba542d9aa581",
     "pipeline.run_environment": "ci",
     "run.retry_nr": "0",
     "task.max_nr_retries": "1",
     "task.notebook": "notebooks/benchmark-model.py",
     "task.nr_train_images": 600,
     "task.num_cpus": 1,
     "task.timeout_s": "None"
    }
   },
   "start_time": "2022-12-13T06:43:13.540820",
   "version": "2.3.3"
  }
 },
 "nbformat": 4,
 "nbformat_minor": 5
}