{
 "cells": [
  {
   "cell_type": "markdown",
   "id": "8dd42806",
   "metadata": {
    "papermill": {
     "duration": 0.023781,
     "end_time": "2022-12-13T06:42:57.038244",
     "exception": false,
     "start_time": "2022-12-13T06:42:57.014463",
     "status": "completed"
    },
    "tags": []
   },
   "source": [
    "# Split digits and labels into separate training and testing data sets"
   ]
  },
  {
   "cell_type": "markdown",
   "id": "1def4e63",
   "metadata": {
    "papermill": {
     "duration": 0.003286,
     "end_time": "2022-12-13T06:42:57.045143",
     "exception": false,
     "start_time": "2022-12-13T06:42:57.041857",
     "status": "completed"
    },
    "tags": []
   },
   "source": [
    "### Determine run parameters"
   ]
  },
  {
   "cell_type": "code",
   "execution_count": 1,
   "id": "bbb12e25",
   "metadata": {
    "execution": {
     "iopub.execute_input": "2022-12-13T06:42:57.051910Z",
     "iopub.status.busy": "2022-12-13T06:42:57.051219Z",
     "iopub.status.idle": "2022-12-13T06:42:57.058901Z",
     "shell.execute_reply": "2022-12-13T06:42:57.058376Z"
    },
    "lines_to_next_cell": 0,
    "papermill": {
     "duration": 0.014188,
     "end_time": "2022-12-13T06:42:57.061716",
     "exception": false,
     "start_time": "2022-12-13T06:42:57.047528",
     "status": "completed"
    },
    "tags": []
   },
   "outputs": [],
   "source": [
    "# ----------------- Parameters for interactive development --------------\n",
    "P = {\n",
    "    \"pipeline.data_lake_root\": \"/pipeline-outputs/data-lake\",\n",
    "    \"task.train_test_ratio\": 0.7,\n",
    "}"
   ]
  },
  {
   "cell_type": "code",
   "execution_count": 2,
   "id": "0e3a7c2b",
   "metadata": {
    "execution": {
     "iopub.execute_input": "2022-12-13T06:42:57.067530Z",
     "iopub.status.busy": "2022-12-13T06:42:57.067304Z",
     "iopub.status.idle": "2022-12-13T06:42:57.071377Z",
     "shell.execute_reply": "2022-12-13T06:42:57.069988Z"
    },
    "lines_to_next_cell": 0,
    "papermill": {
     "duration": 0.010482,
     "end_time": "2022-12-13T06:42:57.074677",
     "exception": false,
     "start_time": "2022-12-13T06:42:57.064195",
     "status": "completed"
    },
    "tags": [
     "parameters"
    ]
   },
   "outputs": [],
   "source": [
    "# - During automated runs parameters will be injected in the below cell -"
   ]
  },
  {
   "cell_type": "code",
   "execution_count": 3,
   "id": "193a9d97",
   "metadata": {
    "execution": {
     "iopub.execute_input": "2022-12-13T06:42:57.081185Z",
     "iopub.status.busy": "2022-12-13T06:42:57.080964Z",
     "iopub.status.idle": "2022-12-13T06:42:57.085494Z",
     "shell.execute_reply": "2022-12-13T06:42:57.085018Z"
    },
    "papermill": {
     "duration": 0.010718,
     "end_time": "2022-12-13T06:42:57.087823",
     "exception": false,
     "start_time": "2022-12-13T06:42:57.077105",
     "status": "completed"
    },
    "tags": [
     "injected-parameters"
    ]
   },
   "outputs": [],
   "source": [
    "# Parameters\n",
    "P = {\n",
    "    \"pipeline.data_lake_root\": \"/pipeline-outputs/data-lake\",\n",
    "    \"pipeline.run_environment\": \"ci\",\n",
    "    \"pipeline.pipeline_run_id\": \"80271420-4ed1-4858-81ac-ba542d9aa581\",\n",
    "    \"pipeline.github.repository\": \"matiasdahl/dev-mnist-digits-demo-pipeline\",\n",
    "    \"pipeline.github.workflow\": \"Run automated tests, pipeline and deploy results to static reporting site\",\n",
    "    \"pipeline.github.runner_name\": \"Hosted Agent\",\n",
    "    \"pipeline.github.run_id\": \"3682940783\",\n",
    "    \"pipeline.github.actor\": \"matiasdahl\",\n",
    "    \"pipeline.github.job\": \"run-tests-pipeline-and-persist-pipeline-outputs\",\n",
    "    \"pipeline.github.base_ref\": \"\",\n",
    "    \"pipeline.github.head_ref\": \"\",\n",
    "    \"pipeline.github.sha\": \"ace0d01011d5e914f1921450dd5a59c11367b38d\",\n",
    "    \"pipeline.github.ref\": \"refs/heads/development\",\n",
    "    \"pipeline.github.ref_type\": \"branch\",\n",
    "    \"pipeline.github.ref_name\": \"development\",\n",
    "    \"pipeline.github.event_name\": \"schedule\",\n",
    "    \"task.train_test_ratio\": 0.7,\n",
    "    \"task.notebook\": \"notebooks/split-train-test.py\",\n",
    "    \"task.max_nr_retries\": \"1\",\n",
    "    \"run.retry_nr\": \"0\",\n",
    "    \"task.timeout_s\": \"None\",\n",
    "    \"task.num_cpus\": 1,\n",
    "    \"_opentelemetry_traceparent\": \"00-659a8d30b31143831d02390663dc0fa8-74fab5ccf1d48b54-01\",\n",
    "}\n"
   ]
  },
  {
   "cell_type": "code",
   "execution_count": 4,
   "id": "6865a0b0",
   "metadata": {
    "execution": {
     "iopub.execute_input": "2022-12-13T06:42:57.097985Z",
     "iopub.status.busy": "2022-12-13T06:42:57.097759Z",
     "iopub.status.idle": "2022-12-13T06:42:57.101373Z",
     "shell.execute_reply": "2022-12-13T06:42:57.100546Z"
    },
    "lines_to_next_cell": 0,
    "papermill": {
     "duration": 0.013256,
     "end_time": "2022-12-13T06:42:57.103995",
     "exception": false,
     "start_time": "2022-12-13T06:42:57.090739",
     "status": "completed"
    },
    "tags": []
   },
   "outputs": [],
   "source": [
    "# -----------------------------------------------------------------------"
   ]
  },
  {
   "cell_type": "markdown",
   "id": "c69b8ebc",
   "metadata": {
    "papermill": {
     "duration": 0.002211,
     "end_time": "2022-12-13T06:42:57.112177",
     "exception": false,
     "start_time": "2022-12-13T06:42:57.109966",
     "status": "completed"
    },
    "tags": []
   },
   "source": [
    "---"
   ]
  },
  {
   "cell_type": "markdown",
   "id": "68047a87",
   "metadata": {
    "lines_to_next_cell": 2,
    "papermill": {
     "duration": 0.002349,
     "end_time": "2022-12-13T06:42:57.117041",
     "exception": false,
     "start_time": "2022-12-13T06:42:57.114692",
     "status": "completed"
    },
    "tags": []
   },
   "source": [
    "### Notebook code"
   ]
  },
  {
   "cell_type": "code",
   "execution_count": 5,
   "id": "792e91a2",
   "metadata": {
    "execution": {
     "iopub.execute_input": "2022-12-13T06:42:57.125096Z",
     "iopub.status.busy": "2022-12-13T06:42:57.124816Z",
     "iopub.status.idle": "2022-12-13T06:42:57.664153Z",
     "shell.execute_reply": "2022-12-13T06:42:57.663548Z"
    },
    "papermill": {
     "duration": 0.544313,
     "end_time": "2022-12-13T06:42:57.665878",
     "exception": false,
     "start_time": "2022-12-13T06:42:57.121565",
     "status": "completed"
    },
    "tags": []
   },
   "outputs": [
    {
     "name": "stderr",
     "output_type": "stream",
     "text": [
      "2022-12-13 06:42:57,488\tINFO worker.py:842 -- Connecting to existing Ray cluster at address: 172.17.0.2:6379\n"
     ]
    }
   ],
   "source": [
    "from common.io import datalake_root, read_numpy, write_numpy\n",
    "from pynb_dag_runner.tasks.task_opentelemetry_logging import PydarLogger\n",
    "\n",
    "logger = PydarLogger(P)"
   ]
  },
  {
   "cell_type": "markdown",
   "id": "335214fd",
   "metadata": {
    "papermill": {
     "duration": 0.002415,
     "end_time": "2022-12-13T06:42:57.672178",
     "exception": false,
     "start_time": "2022-12-13T06:42:57.669763",
     "status": "completed"
    },
    "tags": []
   },
   "source": [
    "## Load and split digits data"
   ]
  },
  {
   "cell_type": "code",
   "execution_count": 6,
   "id": "e875be9d",
   "metadata": {
    "execution": {
     "iopub.execute_input": "2022-12-13T06:42:57.679462Z",
     "iopub.status.busy": "2022-12-13T06:42:57.679013Z",
     "iopub.status.idle": "2022-12-13T06:42:57.684495Z",
     "shell.execute_reply": "2022-12-13T06:42:57.683922Z"
    },
    "papermill": {
     "duration": 0.011314,
     "end_time": "2022-12-13T06:42:57.685898",
     "exception": false,
     "start_time": "2022-12-13T06:42:57.674584",
     "status": "completed"
    },
    "tags": []
   },
   "outputs": [],
   "source": [
    "X = read_numpy(datalake_root(P) / \"raw\" / \"digits.numpy\")\n",
    "y = read_numpy(datalake_root(P) / \"raw\" / \"labels.numpy\")"
   ]
  },
  {
   "cell_type": "code",
   "execution_count": 7,
   "id": "e542aa18",
   "metadata": {
    "execution": {
     "iopub.execute_input": "2022-12-13T06:42:57.693372Z",
     "iopub.status.busy": "2022-12-13T06:42:57.693013Z",
     "iopub.status.idle": "2022-12-13T06:42:58.128907Z",
     "shell.execute_reply": "2022-12-13T06:42:58.127876Z"
    },
    "papermill": {
     "duration": 0.441119,
     "end_time": "2022-12-13T06:42:58.130680",
     "exception": false,
     "start_time": "2022-12-13T06:42:57.689561",
     "status": "completed"
    },
    "tags": []
   },
   "outputs": [],
   "source": [
    "from sklearn.model_selection import train_test_split\n",
    "\n",
    "X_train, X_test, y_train, y_test = train_test_split(\n",
    "    X,\n",
    "    y,\n",
    "    train_size=P[\"task.train_test_ratio\"],\n",
    "    test_size=None,\n",
    "    stratify=y,\n",
    "    shuffle=True,\n",
    "    random_state=1,\n",
    ")\n",
    "\n",
    "# assert nr of pixels per image is the same for all image vectors\n",
    "assert X.shape[1] == X_train.shape[1] == X_test.shape[1]\n",
    "\n",
    "# assert that the (X, y)-pairs have compatible sizes (for both train and test)\n",
    "assert X_train.shape[0] == len(y_train)\n",
    "assert X_test.shape[0] == len(y_test)\n",
    "\n",
    "# assert that all data is used\n",
    "assert len(y) == len(y_train) + len(y_test)"
   ]
  },
  {
   "cell_type": "code",
   "execution_count": 8,
   "id": "d9951312",
   "metadata": {
    "execution": {
     "iopub.execute_input": "2022-12-13T06:42:58.138814Z",
     "iopub.status.busy": "2022-12-13T06:42:58.138289Z",
     "iopub.status.idle": "2022-12-13T06:42:58.143575Z",
     "shell.execute_reply": "2022-12-13T06:42:58.143033Z"
    },
    "papermill": {
     "duration": 0.012798,
     "end_time": "2022-12-13T06:42:58.146239",
     "exception": false,
     "start_time": "2022-12-13T06:42:58.133441",
     "status": "completed"
    },
    "tags": []
   },
   "outputs": [
    {
     "name": "stdout",
     "output_type": "stream",
     "text": [
      " - Logging nr_digits_train (int) : 1257\n",
      " - Logging nr_digits_test (int) : 540\n"
     ]
    }
   ],
   "source": [
    "logger.log_int(\"nr_digits_train\", len(y_train))\n",
    "logger.log_int(\"nr_digits_test\", len(y_test))"
   ]
  },
  {
   "cell_type": "markdown",
   "id": "558d2dbe",
   "metadata": {
    "papermill": {
     "duration": 0.003203,
     "end_time": "2022-12-13T06:42:58.152552",
     "exception": false,
     "start_time": "2022-12-13T06:42:58.149349",
     "status": "completed"
    },
    "tags": []
   },
   "source": [
    "### Persist training and test data sets to separate files"
   ]
  },
  {
   "cell_type": "code",
   "execution_count": 9,
   "id": "2b5173cc",
   "metadata": {
    "execution": {
     "iopub.execute_input": "2022-12-13T06:42:58.159665Z",
     "iopub.status.busy": "2022-12-13T06:42:58.159389Z",
     "iopub.status.idle": "2022-12-13T06:42:58.165927Z",
     "shell.execute_reply": "2022-12-13T06:42:58.165090Z"
    },
    "papermill": {
     "duration": 0.013215,
     "end_time": "2022-12-13T06:42:58.168839",
     "exception": false,
     "start_time": "2022-12-13T06:42:58.155624",
     "status": "completed"
    },
    "tags": []
   },
   "outputs": [],
   "source": [
    "write_numpy(datalake_root(P) / \"train-data\" / \"digits.numpy\", X_train)\n",
    "write_numpy(datalake_root(P) / \"train-data\" / \"labels.numpy\", y_train)\n",
    "\n",
    "#\n",
    "write_numpy(datalake_root(P) / \"test-data\" / \"digits.numpy\", X_test)\n",
    "write_numpy(datalake_root(P) / \"test-data\" / \"labels.numpy\", y_test)"
   ]
  },
  {
   "cell_type": "code",
   "execution_count": null,
   "id": "13480a92",
   "metadata": {
    "papermill": {
     "duration": 0.003229,
     "end_time": "2022-12-13T06:42:58.174812",
     "exception": false,
     "start_time": "2022-12-13T06:42:58.171583",
     "status": "completed"
    },
    "tags": []
   },
   "outputs": [],
   "source": []
  }
 ],
 "metadata": {
  "jupytext": {
   "cell_metadata_filter": "tags,-all",
   "main_language": "python",
   "notebook_metadata_filter": "-all"
  },
  "language_info": {
   "codemirror_mode": {
    "name": "ipython",
    "version": 3
   },
   "file_extension": ".py",
   "mimetype": "text/x-python",
   "name": "python",
   "nbconvert_exporter": "python",
   "pygments_lexer": "ipython3",
   "version": "3.8.10"
  },
  "papermill": {
   "default_parameters": {},
   "duration": 3.402198,
   "end_time": "2022-12-13T06:42:59.195821",
   "environment_variables": {},
   "exception": null,
   "input_path": "/home/host_user/workspace/mnist-demo-pipeline/mnist-demo-pipeline/notebooks/temp-notebook-p31k6kjh.ipynb",
   "output_path": "notebooks/split-train-test.ipynb",
   "parameters": {
    "P": {
     "_opentelemetry_traceparent": "00-659a8d30b31143831d02390663dc0fa8-74fab5ccf1d48b54-01",
     "pipeline.data_lake_root": "/pipeline-outputs/data-lake",
     "pipeline.github.actor": "matiasdahl",
     "pipeline.github.base_ref": "",
     "pipeline.github.event_name": "schedule",
     "pipeline.github.head_ref": "",
     "pipeline.github.job": "run-tests-pipeline-and-persist-pipeline-outputs",
     "pipeline.github.ref": "refs/heads/development",
     "pipeline.github.ref_name": "development",
     "pipeline.github.ref_type": "branch",
     "pipeline.github.repository": "matiasdahl/dev-mnist-digits-demo-pipeline",
     "pipeline.github.run_id": "3682940783",
     "pipeline.github.runner_name": "Hosted Agent",
     "pipeline.github.sha": "ace0d01011d5e914f1921450dd5a59c11367b38d",
     "pipeline.github.workflow": "Run automated tests, pipeline and deploy results to static reporting site",
     "pipeline.pipeline_run_id": "80271420-4ed1-4858-81ac-ba542d9aa581",
     "pipeline.run_environment": "ci",
     "run.retry_nr": "0",
     "task.max_nr_retries": "1",
     "task.notebook": "notebooks/split-train-test.py",
     "task.num_cpus": 1,
     "task.timeout_s": "None",
     "task.train_test_ratio": 0.7
    }
   },
   "start_time": "2022-12-13T06:42:55.793623",
   "version": "2.3.3"
  }
 },
 "nbformat": 4,
 "nbformat_minor": 5
}