{
 "cells": [
  {
   "cell_type": "markdown",
   "id": "b3de8f69",
   "metadata": {
    "papermill": {
     "duration": 0.005884,
     "end_time": "2022-12-13T06:43:26.367298",
     "exception": false,
     "start_time": "2022-12-13T06:43:26.361414",
     "status": "completed"
    },
    "tags": []
   },
   "source": [
    "# Benchmark model\n",
    "\n",
    "The purpose of this notebook is to benchmark persisted onnx-model (trained in the\n",
    "previous step) against evaluation set."
   ]
  },
  {
   "cell_type": "markdown",
   "id": "e8887dc8",
   "metadata": {
    "papermill": {
     "duration": 0.006591,
     "end_time": "2022-12-13T06:43:26.379295",
     "exception": false,
     "start_time": "2022-12-13T06:43:26.372704",
     "status": "completed"
    },
    "tags": []
   },
   "source": [
    "### Determine run parameters"
   ]
  },
  {
   "cell_type": "code",
   "execution_count": 1,
   "id": "a5c7d3e8",
   "metadata": {
    "execution": {
     "iopub.execute_input": "2022-12-13T06:43:26.389855Z",
     "iopub.status.busy": "2022-12-13T06:43:26.389581Z",
     "iopub.status.idle": "2022-12-13T06:43:26.398885Z",
     "shell.execute_reply": "2022-12-13T06:43:26.398280Z"
    },
    "lines_to_next_cell": 0,
    "papermill": {
     "duration": 0.016853,
     "end_time": "2022-12-13T06:43:26.400434",
     "exception": false,
     "start_time": "2022-12-13T06:43:26.383581",
     "status": "completed"
    },
    "tags": []
   },
   "outputs": [],
   "source": [
    "# ----------------- Parameters for interactive development --------------\n",
    "P = {\n",
    "    \"pipeline.data_lake_root\": \"/pipeline-outputs/data-lake\",\n",
    "    \"task.nr_train_images\": 600,\n",
    "}"
   ]
  },
  {
   "cell_type": "code",
   "execution_count": 2,
   "id": "e0158797",
   "metadata": {
    "execution": {
     "iopub.execute_input": "2022-12-13T06:43:26.410092Z",
     "iopub.status.busy": "2022-12-13T06:43:26.409836Z",
     "iopub.status.idle": "2022-12-13T06:43:26.412750Z",
     "shell.execute_reply": "2022-12-13T06:43:26.412227Z"
    },
    "lines_to_next_cell": 0,
    "papermill": {
     "duration": 0.010155,
     "end_time": "2022-12-13T06:43:26.415089",
     "exception": false,
     "start_time": "2022-12-13T06:43:26.404934",
     "status": "completed"
    },
    "tags": [
     "parameters"
    ]
   },
   "outputs": [],
   "source": [
    "# - During automated runs parameters will be injected in the below cell -"
   ]
  },
  {
   "cell_type": "code",
   "execution_count": 3,
   "id": "0c0f178a",
   "metadata": {
    "execution": {
     "iopub.execute_input": "2022-12-13T06:43:26.424440Z",
     "iopub.status.busy": "2022-12-13T06:43:26.424189Z",
     "iopub.status.idle": "2022-12-13T06:43:26.428667Z",
     "shell.execute_reply": "2022-12-13T06:43:26.428098Z"
    },
    "papermill": {
     "duration": 0.012114,
     "end_time": "2022-12-13T06:43:26.431130",
     "exception": false,
     "start_time": "2022-12-13T06:43:26.419016",
     "status": "completed"
    },
    "tags": [
     "injected-parameters"
    ]
   },
   "outputs": [],
   "source": [
    "# Parameters\n",
    "P = {\n",
    "    \"pipeline.data_lake_root\": \"/pipeline-outputs/data-lake\",\n",
    "    \"pipeline.run_environment\": \"ci\",\n",
    "    \"pipeline.pipeline_run_id\": \"80271420-4ed1-4858-81ac-ba542d9aa581\",\n",
    "    \"pipeline.github.repository\": \"matiasdahl/dev-mnist-digits-demo-pipeline\",\n",
    "    \"pipeline.github.workflow\": \"Run automated tests, pipeline and deploy results to static reporting site\",\n",
    "    \"pipeline.github.runner_name\": \"Hosted Agent\",\n",
    "    \"pipeline.github.run_id\": \"3682940783\",\n",
    "    \"pipeline.github.actor\": \"matiasdahl\",\n",
    "    \"pipeline.github.job\": \"run-tests-pipeline-and-persist-pipeline-outputs\",\n",
    "    \"pipeline.github.base_ref\": \"\",\n",
    "    \"pipeline.github.head_ref\": \"\",\n",
    "    \"pipeline.github.sha\": \"ace0d01011d5e914f1921450dd5a59c11367b38d\",\n",
    "    \"pipeline.github.ref\": \"refs/heads/development\",\n",
    "    \"pipeline.github.ref_type\": \"branch\",\n",
    "    \"pipeline.github.ref_name\": \"development\",\n",
    "    \"pipeline.github.event_name\": \"schedule\",\n",
    "    \"task.nr_train_images\": 1200,\n",
    "    \"task.notebook\": \"notebooks/benchmark-model.py\",\n",
    "    \"task.max_nr_retries\": \"1\",\n",
    "    \"run.retry_nr\": \"0\",\n",
    "    \"task.timeout_s\": \"None\",\n",
    "    \"task.num_cpus\": 1,\n",
    "    \"_opentelemetry_traceparent\": \"00-659a8d30b31143831d02390663dc0fa8-a082931954f96c8e-01\",\n",
    "}\n"
   ]
  },
  {
   "cell_type": "code",
   "execution_count": 4,
   "id": "a293b0a5",
   "metadata": {
    "execution": {
     "iopub.execute_input": "2022-12-13T06:43:26.440248Z",
     "iopub.status.busy": "2022-12-13T06:43:26.439992Z",
     "iopub.status.idle": "2022-12-13T06:43:26.442779Z",
     "shell.execute_reply": "2022-12-13T06:43:26.442274Z"
    },
    "lines_to_next_cell": 0,
    "papermill": {
     "duration": 0.00998,
     "end_time": "2022-12-13T06:43:26.445122",
     "exception": false,
     "start_time": "2022-12-13T06:43:26.435142",
     "status": "completed"
    },
    "tags": []
   },
   "outputs": [],
   "source": [
    "# -----------------------------------------------------------------------"
   ]
  },
  {
   "cell_type": "markdown",
   "id": "9237b122",
   "metadata": {
    "papermill": {
     "duration": 0.005101,
     "end_time": "2022-12-13T06:43:26.455471",
     "exception": false,
     "start_time": "2022-12-13T06:43:26.450370",
     "status": "completed"
    },
    "tags": []
   },
   "source": [
    "---"
   ]
  },
  {
   "cell_type": "markdown",
   "id": "08819911",
   "metadata": {
    "lines_to_next_cell": 2,
    "papermill": {
     "duration": 0.00404,
     "end_time": "2022-12-13T06:43:26.464478",
     "exception": false,
     "start_time": "2022-12-13T06:43:26.460438",
     "status": "completed"
    },
    "tags": []
   },
   "source": [
    "### Notebook code"
   ]
  },
  {
   "cell_type": "code",
   "execution_count": 5,
   "id": "3717135a",
   "metadata": {
    "execution": {
     "iopub.execute_input": "2022-12-13T06:43:26.473986Z",
     "iopub.status.busy": "2022-12-13T06:43:26.473704Z",
     "iopub.status.idle": "2022-12-13T06:43:27.617203Z",
     "shell.execute_reply": "2022-12-13T06:43:27.616394Z"
    },
    "papermill": {
     "duration": 1.150713,
     "end_time": "2022-12-13T06:43:27.619054",
     "exception": false,
     "start_time": "2022-12-13T06:43:26.468341",
     "status": "completed"
    },
    "tags": []
   },
   "outputs": [
    {
     "name": "stderr",
     "output_type": "stream",
     "text": [
      "2022-12-13 06:43:27,389\tINFO worker.py:842 -- Connecting to existing Ray cluster at address: 172.17.0.2:6379\n"
     ]
    }
   ],
   "source": [
    "import itertools as it\n",
    "\n",
    "#\n",
    "import numpy as np\n",
    "import matplotlib.pyplot as plt\n",
    "\n",
    "#\n",
    "from pynb_dag_runner.tasks.task_opentelemetry_logging import PydarLogger\n",
    "\n",
    "#\n",
    "from common.io import datalake_root\n",
    "\n",
    "logger = PydarLogger(P)"
   ]
  },
  {
   "cell_type": "markdown",
   "id": "aeb2a7fb",
   "metadata": {
    "papermill": {
     "duration": 0.005901,
     "end_time": "2022-12-13T06:43:27.630281",
     "exception": false,
     "start_time": "2022-12-13T06:43:27.624380",
     "status": "completed"
    },
    "tags": []
   },
   "source": [
    "## Load persisted onnx-model and evaluation data"
   ]
  },
  {
   "cell_type": "code",
   "execution_count": 6,
   "id": "8d0bc30e",
   "metadata": {
    "execution": {
     "iopub.execute_input": "2022-12-13T06:43:27.640871Z",
     "iopub.status.busy": "2022-12-13T06:43:27.640498Z",
     "iopub.status.idle": "2022-12-13T06:43:27.644325Z",
     "shell.execute_reply": "2022-12-13T06:43:27.643792Z"
    },
    "papermill": {
     "duration": 0.012478,
     "end_time": "2022-12-13T06:43:27.647364",
     "exception": false,
     "start_time": "2022-12-13T06:43:27.634886",
     "status": "completed"
    },
    "tags": []
   },
   "outputs": [],
   "source": [
    "from common.io import read_onnx, get_onnx_inputs, get_onnx_outputs, read_numpy"
   ]
  },
  {
   "cell_type": "code",
   "execution_count": 7,
   "id": "da36c0a9",
   "metadata": {
    "execution": {
     "iopub.execute_input": "2022-12-13T06:43:27.658666Z",
     "iopub.status.busy": "2022-12-13T06:43:27.658393Z",
     "iopub.status.idle": "2022-12-13T06:43:27.670245Z",
     "shell.execute_reply": "2022-12-13T06:43:27.669704Z"
    },
    "lines_to_next_cell": 0,
    "papermill": {
     "duration": 0.019565,
     "end_time": "2022-12-13T06:43:27.672193",
     "exception": false,
     "start_time": "2022-12-13T06:43:27.652628",
     "status": "completed"
    },
    "tags": []
   },
   "outputs": [],
   "source": [
    "onnx_inference_session = read_onnx(\n",
    "    datalake_root(P)\n",
    "    / \"models\"\n",
    "    / f\"nr_train_images={P['task.nr_train_images']}\"\n",
    "    / \"model.onnx\"\n",
    ")"
   ]
  },
  {
   "cell_type": "markdown",
   "id": "2a8a15be",
   "metadata": {
    "papermill": {
     "duration": 0.005434,
     "end_time": "2022-12-13T06:43:27.691054",
     "exception": false,
     "start_time": "2022-12-13T06:43:27.685620",
     "status": "completed"
    },
    "tags": []
   },
   "source": [
    "### Record structure of inputs and outputs for ONNX model\n",
    "\n",
    "(this should likely be done in training notebook)"
   ]
  },
  {
   "cell_type": "code",
   "execution_count": 8,
   "id": "c4f606f8",
   "metadata": {
    "execution": {
     "iopub.execute_input": "2022-12-13T06:43:27.702130Z",
     "iopub.status.busy": "2022-12-13T06:43:27.701831Z",
     "iopub.status.idle": "2022-12-13T06:43:27.708177Z",
     "shell.execute_reply": "2022-12-13T06:43:27.707212Z"
    },
    "papermill": {
     "duration": 0.014174,
     "end_time": "2022-12-13T06:43:27.709998",
     "exception": false,
     "start_time": "2022-12-13T06:43:27.695824",
     "status": "completed"
    },
    "tags": []
   },
   "outputs": [
    {
     "name": "stdout",
     "output_type": "stream",
     "text": [
      "{\n",
      "  \"inputs\": [\n",
      "    {\n",
      "      \"name\": \"float_input_8x8_image\",\n",
      "      \"shape\": [\n",
      "        null,\n",
      "        64\n",
      "      ],\n",
      "      \"type\": \"tensor(float)\"\n",
      "    }\n",
      "  ],\n",
      "  \"outputs\": [\n",
      "    {\n",
      "      \"name\": \"output_label\",\n",
      "      \"shape\": [\n",
      "        null\n",
      "      ],\n",
      "      \"type\": \"tensor(int64)\"\n",
      "    },\n",
      "    {\n",
      "      \"name\": \"output_probability\",\n",
      "      \"shape\": [],\n",
      "      \"type\": \"seq(map(int64,tensor(float)))\"\n",
      "    }\n",
      "  ]\n",
      "}\n"
     ]
    }
   ],
   "source": [
    "import json\n",
    "\n",
    "onnx_io = json.dumps(\n",
    "    {\n",
    "        \"inputs\": get_onnx_inputs(onnx_inference_session),\n",
    "        \"outputs\": get_onnx_outputs(onnx_inference_session),\n",
    "    },\n",
    "    indent=2,\n",
    ")\n",
    "\n",
    "\n",
    "logger.log_artefact(\"onnx_io_structure.json\", onnx_io)\n",
    "print(onnx_io)"
   ]
  },
  {
   "cell_type": "markdown",
   "id": "e18353d6",
   "metadata": {
    "papermill": {
     "duration": 0.004665,
     "end_time": "2022-12-13T06:43:27.719240",
     "exception": false,
     "start_time": "2022-12-13T06:43:27.714575",
     "status": "completed"
    },
    "tags": []
   },
   "source": [
    "### Evaluate model performance on evaluation data set"
   ]
  },
  {
   "cell_type": "code",
   "execution_count": 9,
   "id": "ff6c5db9",
   "metadata": {
    "execution": {
     "iopub.execute_input": "2022-12-13T06:43:27.733751Z",
     "iopub.status.busy": "2022-12-13T06:43:27.733458Z",
     "iopub.status.idle": "2022-12-13T06:43:27.738622Z",
     "shell.execute_reply": "2022-12-13T06:43:27.737957Z"
    },
    "papermill": {
     "duration": 0.012787,
     "end_time": "2022-12-13T06:43:27.741137",
     "exception": false,
     "start_time": "2022-12-13T06:43:27.728350",
     "status": "completed"
    },
    "tags": []
   },
   "outputs": [],
   "source": [
    "# load evaluation data\n",
    "X_test = read_numpy(datalake_root(P) / \"test-data\" / \"digits.numpy\")\n",
    "y_test = read_numpy(datalake_root(P) / \"test-data\" / \"labels.numpy\")"
   ]
  },
  {
   "cell_type": "code",
   "execution_count": 10,
   "id": "67c3001f",
   "metadata": {
    "execution": {
     "iopub.execute_input": "2022-12-13T06:43:27.751768Z",
     "iopub.status.busy": "2022-12-13T06:43:27.751506Z",
     "iopub.status.idle": "2022-12-13T06:43:27.767544Z",
     "shell.execute_reply": "2022-12-13T06:43:27.766337Z"
    },
    "papermill": {
     "duration": 0.02411,
     "end_time": "2022-12-13T06:43:27.769603",
     "exception": false,
     "start_time": "2022-12-13T06:43:27.745493",
     "status": "completed"
    },
    "tags": []
   },
   "outputs": [],
   "source": [
    "def get_model_outputs(X, onnx_inference_session):\n",
    "    y_pred_labels, y_pred_map = onnx_inference_session.run(\n",
    "        [\"output_label\", \"output_probability\"],\n",
    "        {\"float_input_8x8_image\": X.astype(np.float32)},\n",
    "    )\n",
    "    y_pred_probs = np.array(\n",
    "        [[probabilities[digit] for digit in range(10)] for probabilities in y_pred_map]\n",
    "    )\n",
    "\n",
    "    assert y_pred_labels.shape == (X.shape[0],)\n",
    "    assert y_pred_probs.shape == (X.shape[0], 10)\n",
    "\n",
    "    return y_pred_labels, y_pred_probs\n",
    "\n",
    "\n",
    "# Note: as shown in the training notebook, the predicted labels and probabilities\n",
    "# computed below need not be compatible.\n",
    "y_pred_labels_test, y_pred_probs_test = get_model_outputs(\n",
    "    X_test, onnx_inference_session\n",
    ")"
   ]
  },
  {
   "cell_type": "markdown",
   "id": "6e20cc94",
   "metadata": {
    "papermill": {
     "duration": 0.004887,
     "end_time": "2022-12-13T06:43:27.779156",
     "exception": false,
     "start_time": "2022-12-13T06:43:27.774269",
     "status": "completed"
    },
    "tags": []
   },
   "source": [
    "### Confusion matrix"
   ]
  },
  {
   "cell_type": "code",
   "execution_count": 11,
   "id": "1fc20d27",
   "metadata": {
    "execution": {
     "iopub.execute_input": "2022-12-13T06:43:27.790892Z",
     "iopub.status.busy": "2022-12-13T06:43:27.790599Z",
     "iopub.status.idle": "2022-12-13T06:43:27.793591Z",
     "shell.execute_reply": "2022-12-13T06:43:27.793015Z"
    },
    "papermill": {
     "duration": 0.012215,
     "end_time": "2022-12-13T06:43:27.796003",
     "exception": false,
     "start_time": "2022-12-13T06:43:27.783788",
     "status": "completed"
    },
    "tags": []
   },
   "outputs": [],
   "source": [
    "# TODO"
   ]
  },
  {
   "cell_type": "markdown",
   "id": "4fc3df02",
   "metadata": {
    "papermill": {
     "duration": 0.00419,
     "end_time": "2022-12-13T06:43:27.805632",
     "exception": false,
     "start_time": "2022-12-13T06:43:27.801442",
     "status": "completed"
    },
    "tags": []
   },
   "source": [
    "### Plot predicted probabilities for each classifier over all evaluation digit images"
   ]
  },
  {
   "cell_type": "code",
   "execution_count": 12,
   "id": "f0df7426",
   "metadata": {
    "execution": {
     "iopub.execute_input": "2022-12-13T06:43:27.816212Z",
     "iopub.status.busy": "2022-12-13T06:43:27.815942Z",
     "iopub.status.idle": "2022-12-13T06:43:30.824325Z",
     "shell.execute_reply": "2022-12-13T06:43:30.823550Z"
    },
    "papermill": {
     "duration": 3.01562,
     "end_time": "2022-12-13T06:43:30.826418",
     "exception": false,
     "start_time": "2022-12-13T06:43:27.810798",
     "status": "completed"
    },
    "tags": []
   },
   "outputs": [
    {
     "data": {
      "image/png": "[encoded data removed]",
      "text/plain": [
       "<Figure size 1600x600 with 10 Axes>"
      ]
     },
     "metadata": {},
     "output_type": "display_data"
    }
   ],
   "source": [
    "def plot_per_digit_probabilities(y_pred_probs):\n",
    "    fig, axs = plt.subplots(nrows=2, ncols=5, figsize=(16, 6))\n",
    "\n",
    "    for (r, c), digit, ax in zip(\n",
    "        it.product(range(2), range(5)), range(10), axs.reshape(-1)\n",
    "    ):\n",
    "        ax.hist(y_pred_probs_test[:, digit], bins=20)\n",
    "\n",
    "        ax.set_title(f\"Digit {digit}\")\n",
    "        if r == 1 and c == 2:\n",
    "            ax.set_xlabel(\"probability\", fontsize=16)\n",
    "\n",
    "        if c == 0:\n",
    "            ax.set_ylabel(\"counts\", fontsize=16)\n",
    "        ax.set_yscale(\"log\")\n",
    "\n",
    "    fig.tight_layout()\n",
    "    fig.suptitle(\n",
    "        f\"Distributions of prediction probabilities for each digit \"\n",
    "        f\"(on evaluation data, n={y_pred_probs.shape[0]})\",\n",
    "        fontsize=20,\n",
    "    )\n",
    "    fig.tight_layout()\n",
    "    fig.show()\n",
    "\n",
    "    return fig\n",
    "\n",
    "\n",
    "fig = plot_per_digit_probabilities(y_pred_probs_test)"
   ]
  },
  {
   "cell_type": "markdown",
   "id": "9f026552",
   "metadata": {
    "papermill": {
     "duration": 0.005544,
     "end_time": "2022-12-13T06:43:30.838193",
     "exception": false,
     "start_time": "2022-12-13T06:43:30.832649",
     "status": "completed"
    },
    "tags": []
   },
   "source": [
    "From the above distributions we see that most digits have clear separation between\n",
    "high and lower probabilities. Morover, in each case there is roughly an order of\n",
    "magnitude more of digits with low probabilities. This is compatible with digits\n",
    "being roughly evenly distributed in the data."
   ]
  },
  {
   "cell_type": "code",
   "execution_count": 13,
   "id": "7c3350ff",
   "metadata": {
    "execution": {
     "iopub.execute_input": "2022-12-13T06:43:30.850675Z",
     "iopub.status.busy": "2022-12-13T06:43:30.850301Z",
     "iopub.status.idle": "2022-12-13T06:43:31.328523Z",
     "shell.execute_reply": "2022-12-13T06:43:31.327740Z"
    },
    "papermill": {
     "duration": 0.487366,
     "end_time": "2022-12-13T06:43:31.330942",
     "exception": false,
     "start_time": "2022-12-13T06:43:30.843576",
     "status": "completed"
    },
    "tags": []
   },
   "outputs": [],
   "source": [
    "logger.log_figure(\"per-digit-probabilities.png\", fig)"
   ]
  },
  {
   "cell_type": "markdown",
   "id": "6228fb77",
   "metadata": {
    "papermill": {
     "duration": 0.005739,
     "end_time": "2022-12-13T06:43:31.342780",
     "exception": false,
     "start_time": "2022-12-13T06:43:31.337041",
     "status": "completed"
    },
    "tags": []
   },
   "source": [
    "### Plot ROC curves for individual one-vs-rest classifiers"
   ]
  },
  {
   "cell_type": "code",
   "execution_count": 14,
   "id": "714407f1",
   "metadata": {
    "execution": {
     "iopub.execute_input": "2022-12-13T06:43:31.355673Z",
     "iopub.status.busy": "2022-12-13T06:43:31.355278Z",
     "iopub.status.idle": "2022-12-13T06:43:31.776578Z",
     "shell.execute_reply": "2022-12-13T06:43:31.775524Z"
    },
    "papermill": {
     "duration": 0.430671,
     "end_time": "2022-12-13T06:43:31.779126",
     "exception": false,
     "start_time": "2022-12-13T06:43:31.348455",
     "status": "completed"
    },
    "tags": []
   },
   "outputs": [],
   "source": [
    "from sklearn import metrics"
   ]
  },
  {
   "cell_type": "code",
   "execution_count": 15,
   "id": "362bb3c3",
   "metadata": {
    "execution": {
     "iopub.execute_input": "2022-12-13T06:43:31.791981Z",
     "iopub.status.busy": "2022-12-13T06:43:31.791700Z",
     "iopub.status.idle": "2022-12-13T06:43:32.870211Z",
     "shell.execute_reply": "2022-12-13T06:43:32.869617Z"
    },
    "papermill": {
     "duration": 1.086713,
     "end_time": "2022-12-13T06:43:32.872281",
     "exception": false,
     "start_time": "2022-12-13T06:43:31.785568",
     "status": "completed"
    },
    "tags": []
   },
   "outputs": [
    {
     "data": {
      "image/png": "[encoded data removed]",
      "text/plain": [
       "<Figure size 1600x800 with 10 Axes>"
      ]
     },
     "metadata": {},
     "output_type": "display_data"
    }
   ],
   "source": [
    "def plot_roc_curves(y, y_pred_probs):\n",
    "    # based on example code\n",
    "    # https://scikit-learn.org/stable/auto_examples/model_selection/plot_roc.html\n",
    "\n",
    "    fig, axs = plt.subplots(nrows=2, ncols=5, figsize=(16, 8))\n",
    "\n",
    "    roc_auc_dict = {}\n",
    "\n",
    "    for (r, c), digit, ax in zip(\n",
    "        it.product(range(2), range(5)), range(10), axs.reshape(-1)\n",
    "    ):\n",
    "        fpr, tpr, _ = metrics.roc_curve(y == digit, y_pred_probs[:, digit])\n",
    "        auc = metrics.auc(fpr, tpr)\n",
    "        roc_auc_dict[str(digit)] = auc\n",
    "\n",
    "        ax.plot(fpr, tpr, label=f\"ROC AUC={round(auc, 3)}\")\n",
    "\n",
    "        ax.set_title(f\"\\nDigit {digit}\", fontsize=16)\n",
    "        if r == 1:\n",
    "            ax.set_xlabel(\"FPR\", fontsize=18)\n",
    "\n",
    "        if c == 0:\n",
    "            ax.set_ylabel(\"TPR\", fontsize=18)\n",
    "\n",
    "        ax.set_xlim([-0.05, 1.05])\n",
    "        ax.set_ylim([-0.05, 1.05])\n",
    "        ax.legend(loc=\"lower right\", frameon=False, fontsize=14)\n",
    "\n",
    "    fig.tight_layout()\n",
    "    fig.suptitle(\n",
    "        f\"ROC plots for one-vs-rest performances \"\n",
    "        f\"(on evaluation data, n={y_pred_probs_test.shape[1]}\",\n",
    "        fontsize=22,\n",
    "    )\n",
    "    fig.tight_layout()\n",
    "    fig.show()\n",
    "\n",
    "    return roc_auc_dict, fig\n",
    "\n",
    "\n",
    "roc_auc_dict, fig = plot_roc_curves(y_test, y_pred_probs_test)"
   ]
  },
  {
   "cell_type": "code",
   "execution_count": 16,
   "id": "5831a88d",
   "metadata": {
    "execution": {
     "iopub.execute_input": "2022-12-13T06:43:32.887044Z",
     "iopub.status.busy": "2022-12-13T06:43:32.886679Z",
     "iopub.status.idle": "2022-12-13T06:43:33.150565Z",
     "shell.execute_reply": "2022-12-13T06:43:33.150006Z"
    },
    "papermill": {
     "duration": 0.273623,
     "end_time": "2022-12-13T06:43:33.152360",
     "exception": false,
     "start_time": "2022-12-13T06:43:32.878737",
     "status": "completed"
    },
    "tags": []
   },
   "outputs": [],
   "source": [
    "logger.log_figure(\"per-digit-roc-curves.png\", fig)"
   ]
  },
  {
   "cell_type": "code",
   "execution_count": 17,
   "id": "c593e560",
   "metadata": {
    "execution": {
     "iopub.execute_input": "2022-12-13T06:43:33.169480Z",
     "iopub.status.busy": "2022-12-13T06:43:33.167078Z",
     "iopub.status.idle": "2022-12-13T06:43:33.174087Z",
     "shell.execute_reply": "2022-12-13T06:43:33.173395Z"
    },
    "papermill": {
     "duration": 0.017894,
     "end_time": "2022-12-13T06:43:33.177772",
     "exception": false,
     "start_time": "2022-12-13T06:43:33.159878",
     "status": "completed"
    },
    "tags": []
   },
   "outputs": [
    {
     "data": {
      "text/plain": [
       "{'0': 1.0,\n",
       " '1': 0.999025304592315,\n",
       " '2': 1.0,\n",
       " '3': 0.9998500468603562,\n",
       " '4': 0.9997713763145861,\n",
       " '5': 0.9997000937207123,\n",
       " '6': 0.999923792104862,\n",
       " '7': 0.9998475842097242,\n",
       " '8': 0.9955863808322826,\n",
       " '9': 0.9997332723670171}"
      ]
     },
     "execution_count": 17,
     "metadata": {},
     "output_type": "execute_result"
    }
   ],
   "source": [
    "roc_auc_dict"
   ]
  },
  {
   "cell_type": "code",
   "execution_count": 18,
   "id": "bd80d648",
   "metadata": {
    "execution": {
     "iopub.execute_input": "2022-12-13T06:43:33.192950Z",
     "iopub.status.busy": "2022-12-13T06:43:33.192597Z",
     "iopub.status.idle": "2022-12-13T06:43:33.196745Z",
     "shell.execute_reply": "2022-12-13T06:43:33.196091Z"
    },
    "papermill": {
     "duration": 0.015212,
     "end_time": "2022-12-13T06:43:33.199748",
     "exception": false,
     "start_time": "2022-12-13T06:43:33.184536",
     "status": "completed"
    },
    "tags": []
   },
   "outputs": [
    {
     "name": "stdout",
     "output_type": "stream",
     "text": [
      " - Logging roc_auc_per_digit (json) : {'0': 1.0, '1': 0.999025304592315, '2': 1.0, '3': 0.9998500468603562, '4': 0.9997713763145861, '5': 0.9997000937207123, '6': 0.999923792104862, '7': 0.9998475842097242, '8': 0.9955863808322826, '9': 0.9997332723670171}\n"
     ]
    }
   ],
   "source": [
    "logger.log_value(\"roc_auc_per_digit\", roc_auc_dict)"
   ]
  },
  {
   "cell_type": "markdown",
   "id": "b2f48ab6",
   "metadata": {
    "papermill": {
     "duration": 0.006731,
     "end_time": "2022-12-13T06:43:33.212678",
     "exception": false,
     "start_time": "2022-12-13T06:43:33.205947",
     "status": "completed"
    },
    "tags": []
   },
   "source": [
    "### Compute and log mean ROC AUC score averaged over all digits"
   ]
  },
  {
   "cell_type": "code",
   "execution_count": 19,
   "id": "7f6956e8",
   "metadata": {
    "execution": {
     "iopub.execute_input": "2022-12-13T06:43:33.230415Z",
     "iopub.status.busy": "2022-12-13T06:43:33.229743Z",
     "iopub.status.idle": "2022-12-13T06:43:33.243273Z",
     "shell.execute_reply": "2022-12-13T06:43:33.242495Z"
    },
    "papermill": {
     "duration": 0.025722,
     "end_time": "2022-12-13T06:43:33.244712",
     "exception": false,
     "start_time": "2022-12-13T06:43:33.218990",
     "status": "completed"
    },
    "tags": []
   },
   "outputs": [
    {
     "name": "stdout",
     "output_type": "stream",
     "text": [
      " - Logging roc_auc_class_mean (float) : 0.9993437851001856\n"
     ]
    }
   ],
   "source": [
    "roc_auc_macro = np.mean(list(roc_auc_dict.values()))\n",
    "\n",
    "logger.log_float(\"roc_auc_class_mean\", roc_auc_macro)\n",
    "\n",
    "# assert that the same value can be computed directly using sklearn\n",
    "assert roc_auc_macro == metrics.roc_auc_score(\n",
    "    y_test, y_pred_probs_test, average=\"macro\", multi_class=\"ovr\"\n",
    ")"
   ]
  },
  {
   "cell_type": "code",
   "execution_count": 20,
   "id": "6f8946d4",
   "metadata": {
    "execution": {
     "iopub.execute_input": "2022-12-13T06:43:33.259550Z",
     "iopub.status.busy": "2022-12-13T06:43:33.259150Z",
     "iopub.status.idle": "2022-12-13T06:43:33.262227Z",
     "shell.execute_reply": "2022-12-13T06:43:33.261579Z"
    },
    "lines_to_next_cell": 0,
    "papermill": {
     "duration": 0.012231,
     "end_time": "2022-12-13T06:43:33.264004",
     "exception": false,
     "start_time": "2022-12-13T06:43:33.251773",
     "status": "completed"
    },
    "tags": []
   },
   "outputs": [],
   "source": [
    "# ---"
   ]
  },
  {
   "cell_type": "code",
   "execution_count": null,
   "id": "a02fbac2",
   "metadata": {
    "papermill": {
     "duration": 0.007247,
     "end_time": "2022-12-13T06:43:33.278293",
     "exception": false,
     "start_time": "2022-12-13T06:43:33.271046",
     "status": "completed"
    },
    "tags": []
   },
   "outputs": [],
   "source": []
  }
 ],
 "metadata": {
  "jupytext": {
   "cell_metadata_filter": "tags,-all",
   "main_language": "python",
   "notebook_metadata_filter": "-all"
  },
  "language_info": {
   "codemirror_mode": {
    "name": "ipython",
    "version": 3
   },
   "file_extension": ".py",
   "mimetype": "text/x-python",
   "name": "python",
   "nbconvert_exporter": "python",
   "pygments_lexer": "ipython3",
   "version": "3.8.10"
  },
  "papermill": {
   "default_parameters": {},
   "duration": 9.415359,
   "end_time": "2022-12-13T06:43:34.507741",
   "environment_variables": {},
   "exception": null,
   "input_path": "/home/host_user/workspace/mnist-demo-pipeline/mnist-demo-pipeline/notebooks/temp-notebook-pyyhwcao.ipynb",
   "output_path": "notebooks/benchmark-model.ipynb",
   "parameters": {
    "P": {
     "_opentelemetry_traceparent": "00-659a8d30b31143831d02390663dc0fa8-a082931954f96c8e-01",
     "pipeline.data_lake_root": "/pipeline-outputs/data-lake",
     "pipeline.github.actor": "matiasdahl",
     "pipeline.github.base_ref": "",
     "pipeline.github.event_name": "schedule",
     "pipeline.github.head_ref": "",
     "pipeline.github.job": "run-tests-pipeline-and-persist-pipeline-outputs",
     "pipeline.github.ref": "refs/heads/development",
     "pipeline.github.ref_name": "development",
     "pipeline.github.ref_type": "branch",
     "pipeline.github.repository": "matiasdahl/dev-mnist-digits-demo-pipeline",
     "pipeline.github.run_id": "3682940783",
     "pipeline.github.runner_name": "Hosted Agent",
     "pipeline.github.sha": "ace0d01011d5e914f1921450dd5a59c11367b38d",
     "pipeline.github.workflow": "Run automated tests, pipeline and deploy results to static reporting site",
     "pipeline.pipeline_run_id": "80271420-4ed1-4858-81ac-ba542d9aa581",
     "pipeline.run_environment": "ci",
     "run.retry_nr": "0",
     "task.max_nr_retries": "1",
     "task.notebook": "notebooks/benchmark-model.py",
     "task.nr_train_images": 1200,
     "task.num_cpus": 1,
     "task.timeout_s": "None"
    }
   },
   "start_time": "2022-12-13T06:43:25.092382",
   "version": "2.3.3"
  }
 },
 "nbformat": 4,
 "nbformat_minor": 5
}