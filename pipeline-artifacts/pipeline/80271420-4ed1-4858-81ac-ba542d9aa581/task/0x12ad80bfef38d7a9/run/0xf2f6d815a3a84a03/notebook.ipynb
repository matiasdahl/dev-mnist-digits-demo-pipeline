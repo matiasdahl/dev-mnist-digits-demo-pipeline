{
 "cells": [
  {
   "cell_type": "markdown",
   "id": "df7acd88",
   "metadata": {
    "papermill": {
     "duration": 0.003734,
     "end_time": "2022-12-13T06:42:51.594226",
     "exception": false,
     "start_time": "2022-12-13T06:42:51.590492",
     "status": "completed"
    },
    "tags": []
   },
   "source": [
    "# Ingest toy version of MNIST digit data from sklearn"
   ]
  },
  {
   "cell_type": "markdown",
   "id": "30b8437e",
   "metadata": {
    "papermill": {
     "duration": 0.002071,
     "end_time": "2022-12-13T06:42:51.599149",
     "exception": false,
     "start_time": "2022-12-13T06:42:51.597078",
     "status": "completed"
    },
    "tags": []
   },
   "source": [
    "### Determine run parameters"
   ]
  },
  {
   "cell_type": "code",
   "execution_count": 1,
   "id": "647b0113",
   "metadata": {
    "execution": {
     "iopub.execute_input": "2022-12-13T06:42:51.605660Z",
     "iopub.status.busy": "2022-12-13T06:42:51.605028Z",
     "iopub.status.idle": "2022-12-13T06:42:51.612750Z",
     "shell.execute_reply": "2022-12-13T06:42:51.611666Z"
    },
    "lines_to_next_cell": 0,
    "papermill": {
     "duration": 0.012827,
     "end_time": "2022-12-13T06:42:51.614266",
     "exception": false,
     "start_time": "2022-12-13T06:42:51.601439",
     "status": "completed"
    },
    "tags": []
   },
   "outputs": [],
   "source": [
    "# ----------------- Parameters for interactive development --------------\n",
    "P = {\n",
    "    \"pipeline.run_environment\": \"dev\",\n",
    "    \"pipeline.data_lake_root\": \"/pipeline-outputs/data-lake\",\n",
    "    \"run.retry_nr\": \"1\",\n",
    "}"
   ]
  },
  {
   "cell_type": "code",
   "execution_count": 2,
   "id": "982b69cf",
   "metadata": {
    "execution": {
     "iopub.execute_input": "2022-12-13T06:42:51.620741Z",
     "iopub.status.busy": "2022-12-13T06:42:51.619823Z",
     "iopub.status.idle": "2022-12-13T06:42:51.623316Z",
     "shell.execute_reply": "2022-12-13T06:42:51.622745Z"
    },
    "lines_to_next_cell": 0,
    "papermill": {
     "duration": 0.007922,
     "end_time": "2022-12-13T06:42:51.624602",
     "exception": false,
     "start_time": "2022-12-13T06:42:51.616680",
     "status": "completed"
    },
    "tags": [
     "parameters"
    ]
   },
   "outputs": [],
   "source": [
    "# - During automated runs parameters will be injected in the below cell -"
   ]
  },
  {
   "cell_type": "code",
   "execution_count": 3,
   "id": "779cd56f",
   "metadata": {
    "execution": {
     "iopub.execute_input": "2022-12-13T06:42:51.630374Z",
     "iopub.status.busy": "2022-12-13T06:42:51.629972Z",
     "iopub.status.idle": "2022-12-13T06:42:51.634837Z",
     "shell.execute_reply": "2022-12-13T06:42:51.634289Z"
    },
    "papermill": {
     "duration": 0.009194,
     "end_time": "2022-12-13T06:42:51.636143",
     "exception": false,
     "start_time": "2022-12-13T06:42:51.626949",
     "status": "completed"
    },
    "tags": [
     "injected-parameters"
    ]
   },
   "outputs": [],
   "source": [
    "# Parameters\n",
    "P = {\n",
    "    \"pipeline.data_lake_root\": \"/pipeline-outputs/data-lake\",\n",
    "    \"pipeline.run_environment\": \"ci\",\n",
    "    \"pipeline.pipeline_run_id\": \"80271420-4ed1-4858-81ac-ba542d9aa581\",\n",
    "    \"pipeline.github.repository\": \"matiasdahl/dev-mnist-digits-demo-pipeline\",\n",
    "    \"pipeline.github.workflow\": \"Run automated tests, pipeline and deploy results to static reporting site\",\n",
    "    \"pipeline.github.runner_name\": \"Hosted Agent\",\n",
    "    \"pipeline.github.run_id\": \"3682940783\",\n",
    "    \"pipeline.github.actor\": \"matiasdahl\",\n",
    "    \"pipeline.github.job\": \"run-tests-pipeline-and-persist-pipeline-outputs\",\n",
    "    \"pipeline.github.base_ref\": \"\",\n",
    "    \"pipeline.github.head_ref\": \"\",\n",
    "    \"pipeline.github.sha\": \"ace0d01011d5e914f1921450dd5a59c11367b38d\",\n",
    "    \"pipeline.github.ref\": \"refs/heads/development\",\n",
    "    \"pipeline.github.ref_type\": \"branch\",\n",
    "    \"pipeline.github.ref_name\": \"development\",\n",
    "    \"pipeline.github.event_name\": \"schedule\",\n",
    "    \"task.notebook\": \"notebooks/ingest.py\",\n",
    "    \"task.max_nr_retries\": \"15\",\n",
    "    \"run.retry_nr\": \"10\",\n",
    "    \"task.timeout_s\": \"10\",\n",
    "    \"task.num_cpus\": 1,\n",
    "    \"_opentelemetry_traceparent\": \"00-659a8d30b31143831d02390663dc0fa8-a0e4f3ede4db4f97-01\",\n",
    "}\n"
   ]
  },
  {
   "cell_type": "code",
   "execution_count": 4,
   "id": "99c50686",
   "metadata": {
    "execution": {
     "iopub.execute_input": "2022-12-13T06:42:51.642209Z",
     "iopub.status.busy": "2022-12-13T06:42:51.641986Z",
     "iopub.status.idle": "2022-12-13T06:42:51.645051Z",
     "shell.execute_reply": "2022-12-13T06:42:51.644462Z"
    },
    "lines_to_next_cell": 0,
    "papermill": {
     "duration": 0.007839,
     "end_time": "2022-12-13T06:42:51.646400",
     "exception": false,
     "start_time": "2022-12-13T06:42:51.638561",
     "status": "completed"
    },
    "tags": []
   },
   "outputs": [],
   "source": [
    "# -----------------------------------------------------------------------"
   ]
  },
  {
   "cell_type": "markdown",
   "id": "0f0b5567",
   "metadata": {
    "lines_to_next_cell": 2,
    "papermill": {
     "duration": 0.002239,
     "end_time": "2022-12-13T06:42:51.651075",
     "exception": false,
     "start_time": "2022-12-13T06:42:51.648836",
     "status": "completed"
    },
    "tags": []
   },
   "source": [
    "---"
   ]
  },
  {
   "cell_type": "markdown",
   "id": "0672eda5",
   "metadata": {
    "papermill": {
     "duration": 0.002217,
     "end_time": "2022-12-13T06:42:51.656054",
     "exception": false,
     "start_time": "2022-12-13T06:42:51.653837",
     "status": "completed"
    },
    "tags": []
   },
   "source": [
    "### Simulate different types of failures (for testing timeout and retry logic)"
   ]
  },
  {
   "cell_type": "code",
   "execution_count": 5,
   "id": "de055523",
   "metadata": {
    "execution": {
     "iopub.execute_input": "2022-12-13T06:42:51.664013Z",
     "iopub.status.busy": "2022-12-13T06:42:51.663375Z",
     "iopub.status.idle": "2022-12-13T06:42:52.113850Z",
     "shell.execute_reply": "2022-12-13T06:42:52.113165Z"
    },
    "papermill": {
     "duration": 0.457346,
     "end_time": "2022-12-13T06:42:52.115670",
     "exception": false,
     "start_time": "2022-12-13T06:42:51.658324",
     "status": "completed"
    },
    "tags": []
   },
   "outputs": [
    {
     "name": "stderr",
     "output_type": "stream",
     "text": [
      "2022-12-13 06:42:51,958\tINFO worker.py:842 -- Connecting to existing Ray cluster at address: 172.17.0.2:6379\n"
     ]
    }
   ],
   "source": [
    "from pynb_dag_runner.tasks.task_opentelemetry_logging import PydarLogger\n",
    "\n",
    "logger = PydarLogger(P)"
   ]
  },
  {
   "cell_type": "code",
   "execution_count": 6,
   "id": "52c8fa56",
   "metadata": {
    "execution": {
     "iopub.execute_input": "2022-12-13T06:42:52.123065Z",
     "iopub.status.busy": "2022-12-13T06:42:52.122749Z",
     "iopub.status.idle": "2022-12-13T06:42:52.127379Z",
     "shell.execute_reply": "2022-12-13T06:42:52.126865Z"
    },
    "papermill": {
     "duration": 0.010175,
     "end_time": "2022-12-13T06:42:52.128875",
     "exception": false,
     "start_time": "2022-12-13T06:42:52.118700",
     "status": "completed"
    },
    "tags": []
   },
   "outputs": [],
   "source": [
    "import time, random\n",
    "\n",
    "\n",
    "def maybe_crash(retry_nr: int, run_environment: str):\n",
    "    if retry_nr == 2 and run_environment == \"ci\":\n",
    "        time.sleep(1e6)\n",
    "\n",
    "    max_retry_nr: int = 3 if run_environment == \"dev\" else 10\n",
    "\n",
    "    if retry_nr < max_retry_nr:\n",
    "        if random.random() < 0.1:\n",
    "            time.sleep(1e6)\n",
    "        else:\n",
    "            raise Exception(\"Simulated exception failure from ingestion step notebook!\")\n",
    "\n",
    "\n",
    "maybe_crash(\n",
    "    retry_nr=int(P[\"run.retry_nr\"]), run_environment=P[\"pipeline.run_environment\"]\n",
    ")"
   ]
  },
  {
   "cell_type": "markdown",
   "id": "b1ad33b8",
   "metadata": {
    "lines_to_next_cell": 2,
    "papermill": {
     "duration": 0.002403,
     "end_time": "2022-12-13T06:42:52.134140",
     "exception": false,
     "start_time": "2022-12-13T06:42:52.131737",
     "status": "completed"
    },
    "tags": []
   },
   "source": [
    "### Notebook code"
   ]
  },
  {
   "cell_type": "code",
   "execution_count": 7,
   "id": "628037a3",
   "metadata": {
    "execution": {
     "iopub.execute_input": "2022-12-13T06:42:52.140642Z",
     "iopub.status.busy": "2022-12-13T06:42:52.140261Z",
     "iopub.status.idle": "2022-12-13T06:42:53.408666Z",
     "shell.execute_reply": "2022-12-13T06:42:53.407738Z"
    },
    "papermill": {
     "duration": 1.273999,
     "end_time": "2022-12-13T06:42:53.410643",
     "exception": false,
     "start_time": "2022-12-13T06:42:52.136644",
     "status": "completed"
    },
    "tags": []
   },
   "outputs": [],
   "source": [
    "from sklearn import datasets\n",
    "\n",
    "#\n",
    "from common.io import datalake_root, write_numpy"
   ]
  },
  {
   "cell_type": "code",
   "execution_count": 8,
   "id": "0282f2a1",
   "metadata": {
    "execution": {
     "iopub.execute_input": "2022-12-13T06:42:53.418255Z",
     "iopub.status.busy": "2022-12-13T06:42:53.417558Z",
     "iopub.status.idle": "2022-12-13T06:42:53.432041Z",
     "shell.execute_reply": "2022-12-13T06:42:53.431168Z"
    },
    "lines_to_next_cell": 2,
    "papermill": {
     "duration": 0.021036,
     "end_time": "2022-12-13T06:42:53.434772",
     "exception": false,
     "start_time": "2022-12-13T06:42:53.413736",
     "status": "completed"
    },
    "tags": []
   },
   "outputs": [],
   "source": [
    "digits = datasets.load_digits()\n",
    "\n",
    "X = digits[\"data\"]\n",
    "y = digits[\"target\"]"
   ]
  },
  {
   "cell_type": "code",
   "execution_count": 9,
   "id": "7bb58bb1",
   "metadata": {
    "execution": {
     "iopub.execute_input": "2022-12-13T06:42:53.442189Z",
     "iopub.status.busy": "2022-12-13T06:42:53.441272Z",
     "iopub.status.idle": "2022-12-13T06:42:53.454000Z",
     "shell.execute_reply": "2022-12-13T06:42:53.453032Z"
    },
    "papermill": {
     "duration": 0.018143,
     "end_time": "2022-12-13T06:42:53.455691",
     "exception": false,
     "start_time": "2022-12-13T06:42:53.437548",
     "status": "completed"
    },
    "tags": []
   },
   "outputs": [
    {
     "name": "stdout",
     "output_type": "stream",
     "text": [
      " - Logging data_shape (json) : [1797, 64]\n",
      " - Logging target_shape (json) : [1797]\n"
     ]
    },
    {
     "data": {
      "text/plain": [
       "((1797, 64), (1797,))"
      ]
     },
     "execution_count": 9,
     "metadata": {},
     "output_type": "execute_result"
    }
   ],
   "source": [
    "logger.log_value(\"data_shape\", list(X.shape))\n",
    "logger.log_value(\"target_shape\", list(y.shape))\n",
    "\n",
    "X.shape, y.shape"
   ]
  },
  {
   "cell_type": "code",
   "execution_count": 10,
   "id": "22b47a6f",
   "metadata": {
    "execution": {
     "iopub.execute_input": "2022-12-13T06:42:53.463232Z",
     "iopub.status.busy": "2022-12-13T06:42:53.462877Z",
     "iopub.status.idle": "2022-12-13T06:42:53.471806Z",
     "shell.execute_reply": "2022-12-13T06:42:53.471149Z"
    },
    "papermill": {
     "duration": 0.014736,
     "end_time": "2022-12-13T06:42:53.473652",
     "exception": false,
     "start_time": "2022-12-13T06:42:53.458916",
     "status": "completed"
    },
    "tags": []
   },
   "outputs": [],
   "source": [
    "write_numpy(datalake_root(P) / \"raw\" / \"digits.numpy\", X)\n",
    "write_numpy(datalake_root(P) / \"raw\" / \"labels.numpy\", y)"
   ]
  },
  {
   "cell_type": "code",
   "execution_count": null,
   "id": "98067fdd",
   "metadata": {
    "papermill": {
     "duration": 0.003137,
     "end_time": "2022-12-13T06:42:53.480002",
     "exception": false,
     "start_time": "2022-12-13T06:42:53.476865",
     "status": "completed"
    },
    "tags": []
   },
   "outputs": [],
   "source": []
  }
 ],
 "metadata": {
  "jupytext": {
   "cell_metadata_filter": "tags,-all",
   "main_language": "python",
   "notebook_metadata_filter": "-all"
  },
  "language_info": {
   "codemirror_mode": {
    "name": "ipython",
    "version": 3
   },
   "file_extension": ".py",
   "mimetype": "text/x-python",
   "name": "python",
   "nbconvert_exporter": "python",
   "pygments_lexer": "ipython3",
   "version": "3.8.10"
  },
  "papermill": {
   "default_parameters": {},
   "duration": 3.97187,
   "end_time": "2022-12-13T06:42:54.401790",
   "environment_variables": {},
   "exception": null,
   "input_path": "/home/host_user/workspace/mnist-demo-pipeline/mnist-demo-pipeline/notebooks/temp-notebook-ao7qq3y_.ipynb",
   "output_path": "notebooks/ingest.ipynb",
   "parameters": {
    "P": {
     "_opentelemetry_traceparent": "00-659a8d30b31143831d02390663dc0fa8-a0e4f3ede4db4f97-01",
     "pipeline.data_lake_root": "/pipeline-outputs/data-lake",
     "pipeline.github.actor": "matiasdahl",
     "pipeline.github.base_ref": "",
     "pipeline.github.event_name": "schedule",
     "pipeline.github.head_ref": "",
     "pipeline.github.job": "run-tests-pipeline-and-persist-pipeline-outputs",
     "pipeline.github.ref": "refs/heads/development",
     "pipeline.github.ref_name": "development",
     "pipeline.github.ref_type": "branch",
     "pipeline.github.repository": "matiasdahl/dev-mnist-digits-demo-pipeline",
     "pipeline.github.run_id": "3682940783",
     "pipeline.github.runner_name": "Hosted Agent",
     "pipeline.github.sha": "ace0d01011d5e914f1921450dd5a59c11367b38d",
     "pipeline.github.workflow": "Run automated tests, pipeline and deploy results to static reporting site",
     "pipeline.pipeline_run_id": "80271420-4ed1-4858-81ac-ba542d9aa581",
     "pipeline.run_environment": "ci",
     "run.retry_nr": "10",
     "task.max_nr_retries": "15",
     "task.notebook": "notebooks/ingest.py",
     "task.num_cpus": 1,
     "task.timeout_s": "10"
    }
   },
   "start_time": "2022-12-13T06:42:50.429920",
   "version": "2.3.3"
  }
 },
 "nbformat": 4,
 "nbformat_minor": 5
}