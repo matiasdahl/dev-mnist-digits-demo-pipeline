{
 "cells": [
  {
   "cell_type": "markdown",
   "id": "f38563fb",
   "metadata": {
    "papermill": {
     "duration": 0.006807,
     "end_time": "2022-12-13T06:43:32.592815",
     "exception": false,
     "start_time": "2022-12-13T06:43:32.586008",
     "status": "completed"
    },
    "tags": []
   },
   "source": [
    "# Benchmark model\n",
    "\n",
    "The purpose of this notebook is to benchmark persisted onnx-model (trained in the\n",
    "previous step) against evaluation set."
   ]
  },
  {
   "cell_type": "markdown",
   "id": "c4457d97",
   "metadata": {
    "papermill": {
     "duration": 0.00545,
     "end_time": "2022-12-13T06:43:32.604148",
     "exception": false,
     "start_time": "2022-12-13T06:43:32.598698",
     "status": "completed"
    },
    "tags": []
   },
   "source": [
    "### Determine run parameters"
   ]
  },
  {
   "cell_type": "code",
   "execution_count": 1,
   "id": "85185e2a",
   "metadata": {
    "execution": {
     "iopub.execute_input": "2022-12-13T06:43:32.614679Z",
     "iopub.status.busy": "2022-12-13T06:43:32.614395Z",
     "iopub.status.idle": "2022-12-13T06:43:32.623781Z",
     "shell.execute_reply": "2022-12-13T06:43:32.623206Z"
    },
    "lines_to_next_cell": 0,
    "papermill": {
     "duration": 0.017318,
     "end_time": "2022-12-13T06:43:32.626710",
     "exception": false,
     "start_time": "2022-12-13T06:43:32.609392",
     "status": "completed"
    },
    "tags": []
   },
   "outputs": [],
   "source": [
    "# ----------------- Parameters for interactive development --------------\n",
    "P = {\n",
    "    \"pipeline.data_lake_root\": \"/pipeline-outputs/data-lake\",\n",
    "    \"task.nr_train_images\": 600,\n",
    "}"
   ]
  },
  {
   "cell_type": "code",
   "execution_count": 2,
   "id": "447ecb8a",
   "metadata": {
    "execution": {
     "iopub.execute_input": "2022-12-13T06:43:32.637392Z",
     "iopub.status.busy": "2022-12-13T06:43:32.637117Z",
     "iopub.status.idle": "2022-12-13T06:43:32.641118Z",
     "shell.execute_reply": "2022-12-13T06:43:32.640545Z"
    },
    "lines_to_next_cell": 0,
    "papermill": {
     "duration": 0.011541,
     "end_time": "2022-12-13T06:43:32.643670",
     "exception": false,
     "start_time": "2022-12-13T06:43:32.632129",
     "status": "completed"
    },
    "tags": [
     "parameters"
    ]
   },
   "outputs": [],
   "source": [
    "# - During automated runs parameters will be injected in the below cell -"
   ]
  },
  {
   "cell_type": "code",
   "execution_count": 3,
   "id": "b8d42948",
   "metadata": {
    "execution": {
     "iopub.execute_input": "2022-12-13T06:43:32.658963Z",
     "iopub.status.busy": "2022-12-13T06:43:32.658682Z",
     "iopub.status.idle": "2022-12-13T06:43:32.664347Z",
     "shell.execute_reply": "2022-12-13T06:43:32.663789Z"
    },
    "papermill": {
     "duration": 0.019307,
     "end_time": "2022-12-13T06:43:32.667023",
     "exception": false,
     "start_time": "2022-12-13T06:43:32.647716",
     "status": "completed"
    },
    "tags": [
     "injected-parameters"
    ]
   },
   "outputs": [],
   "source": [
    "# Parameters\n",
    "P = {\n",
    "    \"pipeline.data_lake_root\": \"/pipeline-outputs/data-lake\",\n",
    "    \"pipeline.run_environment\": \"ci\",\n",
    "    \"pipeline.pipeline_run_id\": \"80271420-4ed1-4858-81ac-ba542d9aa581\",\n",
    "    \"pipeline.github.repository\": \"matiasdahl/dev-mnist-digits-demo-pipeline\",\n",
    "    \"pipeline.github.workflow\": \"Run automated tests, pipeline and deploy results to static reporting site\",\n",
    "    \"pipeline.github.runner_name\": \"Hosted Agent\",\n",
    "    \"pipeline.github.run_id\": \"3682940783\",\n",
    "    \"pipeline.github.actor\": \"matiasdahl\",\n",
    "    \"pipeline.github.job\": \"run-tests-pipeline-and-persist-pipeline-outputs\",\n",
    "    \"pipeline.github.base_ref\": \"\",\n",
    "    \"pipeline.github.head_ref\": \"\",\n",
    "    \"pipeline.github.sha\": \"ace0d01011d5e914f1921450dd5a59c11367b38d\",\n",
    "    \"pipeline.github.ref\": \"refs/heads/development\",\n",
    "    \"pipeline.github.ref_type\": \"branch\",\n",
    "    \"pipeline.github.ref_name\": \"development\",\n",
    "    \"pipeline.github.event_name\": \"schedule\",\n",
    "    \"task.nr_train_images\": 1000,\n",
    "    \"task.notebook\": \"notebooks/benchmark-model.py\",\n",
    "    \"task.max_nr_retries\": \"1\",\n",
    "    \"run.retry_nr\": \"0\",\n",
    "    \"task.timeout_s\": \"None\",\n",
    "    \"task.num_cpus\": 1,\n",
    "    \"_opentelemetry_traceparent\": \"00-659a8d30b31143831d02390663dc0fa8-5b3efa4b9c02f779-01\",\n",
    "}\n"
   ]
  },
  {
   "cell_type": "code",
   "execution_count": 4,
   "id": "c972701c",
   "metadata": {
    "execution": {
     "iopub.execute_input": "2022-12-13T06:43:32.677589Z",
     "iopub.status.busy": "2022-12-13T06:43:32.677308Z",
     "iopub.status.idle": "2022-12-13T06:43:32.680233Z",
     "shell.execute_reply": "2022-12-13T06:43:32.679703Z"
    },
    "lines_to_next_cell": 0,
    "papermill": {
     "duration": 0.012502,
     "end_time": "2022-12-13T06:43:32.684466",
     "exception": false,
     "start_time": "2022-12-13T06:43:32.671964",
     "status": "completed"
    },
    "tags": []
   },
   "outputs": [],
   "source": [
    "# -----------------------------------------------------------------------"
   ]
  },
  {
   "cell_type": "markdown",
   "id": "58920ea7",
   "metadata": {
    "papermill": {
     "duration": 0.005301,
     "end_time": "2022-12-13T06:43:32.694211",
     "exception": false,
     "start_time": "2022-12-13T06:43:32.688910",
     "status": "completed"
    },
    "tags": []
   },
   "source": [
    "---"
   ]
  },
  {
   "cell_type": "markdown",
   "id": "21084fc0",
   "metadata": {
    "lines_to_next_cell": 2,
    "papermill": {
     "duration": 0.004898,
     "end_time": "2022-12-13T06:43:32.703269",
     "exception": false,
     "start_time": "2022-12-13T06:43:32.698371",
     "status": "completed"
    },
    "tags": []
   },
   "source": [
    "### Notebook code"
   ]
  },
  {
   "cell_type": "code",
   "execution_count": 5,
   "id": "902b0843",
   "metadata": {
    "execution": {
     "iopub.execute_input": "2022-12-13T06:43:32.714041Z",
     "iopub.status.busy": "2022-12-13T06:43:32.713763Z",
     "iopub.status.idle": "2022-12-13T06:43:33.873178Z",
     "shell.execute_reply": "2022-12-13T06:43:33.872503Z"
    },
    "papermill": {
     "duration": 1.167201,
     "end_time": "2022-12-13T06:43:33.875108",
     "exception": false,
     "start_time": "2022-12-13T06:43:32.707907",
     "status": "completed"
    },
    "tags": []
   },
   "outputs": [
    {
     "name": "stderr",
     "output_type": "stream",
     "text": [
      "2022-12-13 06:43:33,672\tINFO worker.py:842 -- Connecting to existing Ray cluster at address: 172.17.0.2:6379\n"
     ]
    }
   ],
   "source": [
    "import itertools as it\n",
    "\n",
    "#\n",
    "import numpy as np\n",
    "import matplotlib.pyplot as plt\n",
    "\n",
    "#\n",
    "from pynb_dag_runner.tasks.task_opentelemetry_logging import PydarLogger\n",
    "\n",
    "#\n",
    "from common.io import datalake_root\n",
    "\n",
    "logger = PydarLogger(P)"
   ]
  },
  {
   "cell_type": "markdown",
   "id": "57cce678",
   "metadata": {
    "papermill": {
     "duration": 0.004582,
     "end_time": "2022-12-13T06:43:33.884423",
     "exception": false,
     "start_time": "2022-12-13T06:43:33.879841",
     "status": "completed"
    },
    "tags": []
   },
   "source": [
    "## Load persisted onnx-model and evaluation data"
   ]
  },
  {
   "cell_type": "code",
   "execution_count": 6,
   "id": "b59875c0",
   "metadata": {
    "execution": {
     "iopub.execute_input": "2022-12-13T06:43:33.895958Z",
     "iopub.status.busy": "2022-12-13T06:43:33.894951Z",
     "iopub.status.idle": "2022-12-13T06:43:33.898810Z",
     "shell.execute_reply": "2022-12-13T06:43:33.898257Z"
    },
    "papermill": {
     "duration": 0.011027,
     "end_time": "2022-12-13T06:43:33.900374",
     "exception": false,
     "start_time": "2022-12-13T06:43:33.889347",
     "status": "completed"
    },
    "tags": []
   },
   "outputs": [],
   "source": [
    "from common.io import read_onnx, get_onnx_inputs, get_onnx_outputs, read_numpy"
   ]
  },
  {
   "cell_type": "code",
   "execution_count": 7,
   "id": "d9061fe7",
   "metadata": {
    "execution": {
     "iopub.execute_input": "2022-12-13T06:43:33.911719Z",
     "iopub.status.busy": "2022-12-13T06:43:33.911207Z",
     "iopub.status.idle": "2022-12-13T06:43:33.920699Z",
     "shell.execute_reply": "2022-12-13T06:43:33.919530Z"
    },
    "lines_to_next_cell": 0,
    "papermill": {
     "duration": 0.017596,
     "end_time": "2022-12-13T06:43:33.922347",
     "exception": false,
     "start_time": "2022-12-13T06:43:33.904751",
     "status": "completed"
    },
    "tags": []
   },
   "outputs": [],
   "source": [
    "onnx_inference_session = read_onnx(\n",
    "    datalake_root(P)\n",
    "    / \"models\"\n",
    "    / f\"nr_train_images={P['task.nr_train_images']}\"\n",
    "    / \"model.onnx\"\n",
    ")"
   ]
  },
  {
   "cell_type": "markdown",
   "id": "650d12f7",
   "metadata": {
    "papermill": {
     "duration": 0.004468,
     "end_time": "2022-12-13T06:43:33.931429",
     "exception": false,
     "start_time": "2022-12-13T06:43:33.926961",
     "status": "completed"
    },
    "tags": []
   },
   "source": [
    "### Record structure of inputs and outputs for ONNX model\n",
    "\n",
    "(this should likely be done in training notebook)"
   ]
  },
  {
   "cell_type": "code",
   "execution_count": 8,
   "id": "3e66e41a",
   "metadata": {
    "execution": {
     "iopub.execute_input": "2022-12-13T06:43:33.942051Z",
     "iopub.status.busy": "2022-12-13T06:43:33.941700Z",
     "iopub.status.idle": "2022-12-13T06:43:33.947506Z",
     "shell.execute_reply": "2022-12-13T06:43:33.946866Z"
    },
    "papermill": {
     "duration": 0.013578,
     "end_time": "2022-12-13T06:43:33.949177",
     "exception": false,
     "start_time": "2022-12-13T06:43:33.935599",
     "status": "completed"
    },
    "tags": []
   },
   "outputs": [
    {
     "name": "stdout",
     "output_type": "stream",
     "text": [
      "{\n",
      "  \"inputs\": [\n",
      "    {\n",
      "      \"name\": \"float_input_8x8_image\",\n",
      "      \"shape\": [\n",
      "        null,\n",
      "        64\n",
      "      ],\n",
      "      \"type\": \"tensor(float)\"\n",
      "    }\n",
      "  ],\n",
      "  \"outputs\": [\n",
      "    {\n",
      "      \"name\": \"output_label\",\n",
      "      \"shape\": [\n",
      "        null\n",
      "      ],\n",
      "      \"type\": \"tensor(int64)\"\n",
      "    },\n",
      "    {\n",
      "      \"name\": \"output_probability\",\n",
      "      \"shape\": [],\n",
      "      \"type\": \"seq(map(int64,tensor(float)))\"\n",
      "    }\n",
      "  ]\n",
      "}\n"
     ]
    }
   ],
   "source": [
    "import json\n",
    "\n",
    "onnx_io = json.dumps(\n",
    "    {\n",
    "        \"inputs\": get_onnx_inputs(onnx_inference_session),\n",
    "        \"outputs\": get_onnx_outputs(onnx_inference_session),\n",
    "    },\n",
    "    indent=2,\n",
    ")\n",
    "\n",
    "\n",
    "logger.log_artefact(\"onnx_io_structure.json\", onnx_io)\n",
    "print(onnx_io)"
   ]
  },
  {
   "cell_type": "markdown",
   "id": "6f659ba9",
   "metadata": {
    "papermill": {
     "duration": 0.004551,
     "end_time": "2022-12-13T06:43:33.958207",
     "exception": false,
     "start_time": "2022-12-13T06:43:33.953656",
     "status": "completed"
    },
    "tags": []
   },
   "source": [
    "### Evaluate model performance on evaluation data set"
   ]
  },
  {
   "cell_type": "code",
   "execution_count": 9,
   "id": "9b17d652",
   "metadata": {
    "execution": {
     "iopub.execute_input": "2022-12-13T06:43:33.969249Z",
     "iopub.status.busy": "2022-12-13T06:43:33.968080Z",
     "iopub.status.idle": "2022-12-13T06:43:33.974185Z",
     "shell.execute_reply": "2022-12-13T06:43:33.973576Z"
    },
    "papermill": {
     "duration": 0.012906,
     "end_time": "2022-12-13T06:43:33.975610",
     "exception": false,
     "start_time": "2022-12-13T06:43:33.962704",
     "status": "completed"
    },
    "tags": []
   },
   "outputs": [],
   "source": [
    "# load evaluation data\n",
    "X_test = read_numpy(datalake_root(P) / \"test-data\" / \"digits.numpy\")\n",
    "y_test = read_numpy(datalake_root(P) / \"test-data\" / \"labels.numpy\")"
   ]
  },
  {
   "cell_type": "code",
   "execution_count": 10,
   "id": "2d07a5f5",
   "metadata": {
    "execution": {
     "iopub.execute_input": "2022-12-13T06:43:33.987556Z",
     "iopub.status.busy": "2022-12-13T06:43:33.987290Z",
     "iopub.status.idle": "2022-12-13T06:43:34.006795Z",
     "shell.execute_reply": "2022-12-13T06:43:34.006211Z"
    },
    "papermill": {
     "duration": 0.026708,
     "end_time": "2022-12-13T06:43:34.008561",
     "exception": false,
     "start_time": "2022-12-13T06:43:33.981853",
     "status": "completed"
    },
    "tags": []
   },
   "outputs": [],
   "source": [
    "def get_model_outputs(X, onnx_inference_session):\n",
    "    y_pred_labels, y_pred_map = onnx_inference_session.run(\n",
    "        [\"output_label\", \"output_probability\"],\n",
    "        {\"float_input_8x8_image\": X.astype(np.float32)},\n",
    "    )\n",
    "    y_pred_probs = np.array(\n",
    "        [[probabilities[digit] for digit in range(10)] for probabilities in y_pred_map]\n",
    "    )\n",
    "\n",
    "    assert y_pred_labels.shape == (X.shape[0],)\n",
    "    assert y_pred_probs.shape == (X.shape[0], 10)\n",
    "\n",
    "    return y_pred_labels, y_pred_probs\n",
    "\n",
    "\n",
    "# Note: as shown in the training notebook, the predicted labels and probabilities\n",
    "# computed below need not be compatible.\n",
    "y_pred_labels_test, y_pred_probs_test = get_model_outputs(\n",
    "    X_test, onnx_inference_session\n",
    ")"
   ]
  },
  {
   "cell_type": "markdown",
   "id": "d7d87a9b",
   "metadata": {
    "papermill": {
     "duration": 0.004465,
     "end_time": "2022-12-13T06:43:34.018927",
     "exception": false,
     "start_time": "2022-12-13T06:43:34.014462",
     "status": "completed"
    },
    "tags": []
   },
   "source": [
    "### Confusion matrix"
   ]
  },
  {
   "cell_type": "code",
   "execution_count": 11,
   "id": "a8ab1725",
   "metadata": {
    "execution": {
     "iopub.execute_input": "2022-12-13T06:43:34.030204Z",
     "iopub.status.busy": "2022-12-13T06:43:34.029908Z",
     "iopub.status.idle": "2022-12-13T06:43:34.033668Z",
     "shell.execute_reply": "2022-12-13T06:43:34.032981Z"
    },
    "papermill": {
     "duration": 0.012124,
     "end_time": "2022-12-13T06:43:34.036619",
     "exception": false,
     "start_time": "2022-12-13T06:43:34.024495",
     "status": "completed"
    },
    "tags": []
   },
   "outputs": [],
   "source": [
    "# TODO"
   ]
  },
  {
   "cell_type": "markdown",
   "id": "fea9b379",
   "metadata": {
    "papermill": {
     "duration": 0.005467,
     "end_time": "2022-12-13T06:43:34.046526",
     "exception": false,
     "start_time": "2022-12-13T06:43:34.041059",
     "status": "completed"
    },
    "tags": []
   },
   "source": [
    "### Plot predicted probabilities for each classifier over all evaluation digit images"
   ]
  },
  {
   "cell_type": "code",
   "execution_count": 12,
   "id": "0df1e25c",
   "metadata": {
    "execution": {
     "iopub.execute_input": "2022-12-13T06:43:34.057904Z",
     "iopub.status.busy": "2022-12-13T06:43:34.057503Z",
     "iopub.status.idle": "2022-12-13T06:43:36.874539Z",
     "shell.execute_reply": "2022-12-13T06:43:36.873880Z"
    },
    "papermill": {
     "duration": 2.825476,
     "end_time": "2022-12-13T06:43:36.876454",
     "exception": false,
     "start_time": "2022-12-13T06:43:34.050978",
     "status": "completed"
    },
    "tags": []
   },
   "outputs": [
    {
     "data": {
      "image/png": "[encoded data removed]",
      "text/plain": [
       "<Figure size 1600x600 with 10 Axes>"
      ]
     },
     "metadata": {},
     "output_type": "display_data"
    }
   ],
   "source": [
    "def plot_per_digit_probabilities(y_pred_probs):\n",
    "    fig, axs = plt.subplots(nrows=2, ncols=5, figsize=(16, 6))\n",
    "\n",
    "    for (r, c), digit, ax in zip(\n",
    "        it.product(range(2), range(5)), range(10), axs.reshape(-1)\n",
    "    ):\n",
    "        ax.hist(y_pred_probs_test[:, digit], bins=20)\n",
    "\n",
    "        ax.set_title(f\"Digit {digit}\")\n",
    "        if r == 1 and c == 2:\n",
    "            ax.set_xlabel(\"probability\", fontsize=16)\n",
    "\n",
    "        if c == 0:\n",
    "            ax.set_ylabel(\"counts\", fontsize=16)\n",
    "        ax.set_yscale(\"log\")\n",
    "\n",
    "    fig.tight_layout()\n",
    "    fig.suptitle(\n",
    "        f\"Distributions of prediction probabilities for each digit \"\n",
    "        f\"(on evaluation data, n={y_pred_probs.shape[0]})\",\n",
    "        fontsize=20,\n",
    "    )\n",
    "    fig.tight_layout()\n",
    "    fig.show()\n",
    "\n",
    "    return fig\n",
    "\n",
    "\n",
    "fig = plot_per_digit_probabilities(y_pred_probs_test)"
   ]
  },
  {
   "cell_type": "markdown",
   "id": "c3da7a3e",
   "metadata": {
    "papermill": {
     "duration": 0.00502,
     "end_time": "2022-12-13T06:43:36.886958",
     "exception": false,
     "start_time": "2022-12-13T06:43:36.881938",
     "status": "completed"
    },
    "tags": []
   },
   "source": [
    "From the above distributions we see that most digits have clear separation between\n",
    "high and lower probabilities. Morover, in each case there is roughly an order of\n",
    "magnitude more of digits with low probabilities. This is compatible with digits\n",
    "being roughly evenly distributed in the data."
   ]
  },
  {
   "cell_type": "code",
   "execution_count": 13,
   "id": "753f81f4",
   "metadata": {
    "execution": {
     "iopub.execute_input": "2022-12-13T06:43:36.898802Z",
     "iopub.status.busy": "2022-12-13T06:43:36.898239Z",
     "iopub.status.idle": "2022-12-13T06:43:37.337547Z",
     "shell.execute_reply": "2022-12-13T06:43:37.336685Z"
    },
    "papermill": {
     "duration": 0.447299,
     "end_time": "2022-12-13T06:43:37.339471",
     "exception": false,
     "start_time": "2022-12-13T06:43:36.892172",
     "status": "completed"
    },
    "tags": []
   },
   "outputs": [],
   "source": [
    "logger.log_figure(\"per-digit-probabilities.png\", fig)"
   ]
  },
  {
   "cell_type": "markdown",
   "id": "9c4b47ca",
   "metadata": {
    "papermill": {
     "duration": 0.005142,
     "end_time": "2022-12-13T06:43:37.351075",
     "exception": false,
     "start_time": "2022-12-13T06:43:37.345933",
     "status": "completed"
    },
    "tags": []
   },
   "source": [
    "### Plot ROC curves for individual one-vs-rest classifiers"
   ]
  },
  {
   "cell_type": "code",
   "execution_count": 14,
   "id": "91fbad3a",
   "metadata": {
    "execution": {
     "iopub.execute_input": "2022-12-13T06:43:37.363365Z",
     "iopub.status.busy": "2022-12-13T06:43:37.362836Z",
     "iopub.status.idle": "2022-12-13T06:43:37.743452Z",
     "shell.execute_reply": "2022-12-13T06:43:37.742753Z"
    },
    "papermill": {
     "duration": 0.38841,
     "end_time": "2022-12-13T06:43:37.745295",
     "exception": false,
     "start_time": "2022-12-13T06:43:37.356885",
     "status": "completed"
    },
    "tags": []
   },
   "outputs": [],
   "source": [
    "from sklearn import metrics"
   ]
  },
  {
   "cell_type": "code",
   "execution_count": 15,
   "id": "0fcd24b0",
   "metadata": {
    "execution": {
     "iopub.execute_input": "2022-12-13T06:43:37.758557Z",
     "iopub.status.busy": "2022-12-13T06:43:37.757522Z",
     "iopub.status.idle": "2022-12-13T06:43:38.765019Z",
     "shell.execute_reply": "2022-12-13T06:43:38.764450Z"
    },
    "papermill": {
     "duration": 1.01637,
     "end_time": "2022-12-13T06:43:38.767249",
     "exception": false,
     "start_time": "2022-12-13T06:43:37.750879",
     "status": "completed"
    },
    "tags": []
   },
   "outputs": [
    {
     "data": {
      "image/png": "[encoded data removed]",
      "text/plain": [
       "<Figure size 1600x800 with 10 Axes>"
      ]
     },
     "metadata": {},
     "output_type": "display_data"
    }
   ],
   "source": [
    "def plot_roc_curves(y, y_pred_probs):\n",
    "    # based on example code\n",
    "    # https://scikit-learn.org/stable/auto_examples/model_selection/plot_roc.html\n",
    "\n",
    "    fig, axs = plt.subplots(nrows=2, ncols=5, figsize=(16, 8))\n",
    "\n",
    "    roc_auc_dict = {}\n",
    "\n",
    "    for (r, c), digit, ax in zip(\n",
    "        it.product(range(2), range(5)), range(10), axs.reshape(-1)\n",
    "    ):\n",
    "        fpr, tpr, _ = metrics.roc_curve(y == digit, y_pred_probs[:, digit])\n",
    "        auc = metrics.auc(fpr, tpr)\n",
    "        roc_auc_dict[str(digit)] = auc\n",
    "\n",
    "        ax.plot(fpr, tpr, label=f\"ROC AUC={round(auc, 3)}\")\n",
    "\n",
    "        ax.set_title(f\"\\nDigit {digit}\", fontsize=16)\n",
    "        if r == 1:\n",
    "            ax.set_xlabel(\"FPR\", fontsize=18)\n",
    "\n",
    "        if c == 0:\n",
    "            ax.set_ylabel(\"TPR\", fontsize=18)\n",
    "\n",
    "        ax.set_xlim([-0.05, 1.05])\n",
    "        ax.set_ylim([-0.05, 1.05])\n",
    "        ax.legend(loc=\"lower right\", frameon=False, fontsize=14)\n",
    "\n",
    "    fig.tight_layout()\n",
    "    fig.suptitle(\n",
    "        f\"ROC plots for one-vs-rest performances \"\n",
    "        f\"(on evaluation data, n={y_pred_probs_test.shape[1]}\",\n",
    "        fontsize=22,\n",
    "    )\n",
    "    fig.tight_layout()\n",
    "    fig.show()\n",
    "\n",
    "    return roc_auc_dict, fig\n",
    "\n",
    "\n",
    "roc_auc_dict, fig = plot_roc_curves(y_test, y_pred_probs_test)"
   ]
  },
  {
   "cell_type": "code",
   "execution_count": 16,
   "id": "33ae46ee",
   "metadata": {
    "execution": {
     "iopub.execute_input": "2022-12-13T06:43:38.783227Z",
     "iopub.status.busy": "2022-12-13T06:43:38.782924Z",
     "iopub.status.idle": "2022-12-13T06:43:39.022820Z",
     "shell.execute_reply": "2022-12-13T06:43:39.021988Z"
    },
    "papermill": {
     "duration": 0.249699,
     "end_time": "2022-12-13T06:43:39.024722",
     "exception": false,
     "start_time": "2022-12-13T06:43:38.775023",
     "status": "completed"
    },
    "tags": []
   },
   "outputs": [],
   "source": [
    "logger.log_figure(\"per-digit-roc-curves.png\", fig)"
   ]
  },
  {
   "cell_type": "code",
   "execution_count": 17,
   "id": "230270b1",
   "metadata": {
    "execution": {
     "iopub.execute_input": "2022-12-13T06:43:39.040163Z",
     "iopub.status.busy": "2022-12-13T06:43:39.039633Z",
     "iopub.status.idle": "2022-12-13T06:43:39.044389Z",
     "shell.execute_reply": "2022-12-13T06:43:39.043731Z"
    },
    "papermill": {
     "duration": 0.015227,
     "end_time": "2022-12-13T06:43:39.046926",
     "exception": false,
     "start_time": "2022-12-13T06:43:39.031699",
     "status": "completed"
    },
    "tags": []
   },
   "outputs": [
    {
     "data": {
      "text/plain": [
       "{'0': 1.0,\n",
       " '1': 0.999025304592315,\n",
       " '2': 1.0,\n",
       " '3': 0.9998875351452671,\n",
       " '4': 0.9995808565767413,\n",
       " '5': 0.9993626991565135,\n",
       " '6': 0.999923792104862,\n",
       " '7': 0.9997713763145862,\n",
       " '8': 0.9950346784363178,\n",
       " '9': 0.9995046486816035}"
      ]
     },
     "execution_count": 17,
     "metadata": {},
     "output_type": "execute_result"
    }
   ],
   "source": [
    "roc_auc_dict"
   ]
  },
  {
   "cell_type": "code",
   "execution_count": 18,
   "id": "46b998bc",
   "metadata": {
    "execution": {
     "iopub.execute_input": "2022-12-13T06:43:39.062440Z",
     "iopub.status.busy": "2022-12-13T06:43:39.061902Z",
     "iopub.status.idle": "2022-12-13T06:43:39.067214Z",
     "shell.execute_reply": "2022-12-13T06:43:39.066487Z"
    },
    "papermill": {
     "duration": 0.015904,
     "end_time": "2022-12-13T06:43:39.069879",
     "exception": false,
     "start_time": "2022-12-13T06:43:39.053975",
     "status": "completed"
    },
    "tags": []
   },
   "outputs": [
    {
     "name": "stdout",
     "output_type": "stream",
     "text": [
      " - Logging roc_auc_per_digit (json) : {'0': 1.0, '1': 0.999025304592315, '2': 1.0, '3': 0.9998875351452671, '4': 0.9995808565767413, '5': 0.9993626991565135, '6': 0.999923792104862, '7': 0.9997713763145862, '8': 0.9950346784363178, '9': 0.9995046486816035}\n"
     ]
    }
   ],
   "source": [
    "logger.log_value(\"roc_auc_per_digit\", roc_auc_dict)"
   ]
  },
  {
   "cell_type": "markdown",
   "id": "8e14d05d",
   "metadata": {
    "papermill": {
     "duration": 0.006618,
     "end_time": "2022-12-13T06:43:39.082881",
     "exception": false,
     "start_time": "2022-12-13T06:43:39.076263",
     "status": "completed"
    },
    "tags": []
   },
   "source": [
    "### Compute and log mean ROC AUC score averaged over all digits"
   ]
  },
  {
   "cell_type": "code",
   "execution_count": 19,
   "id": "82cb960a",
   "metadata": {
    "execution": {
     "iopub.execute_input": "2022-12-13T06:43:39.098720Z",
     "iopub.status.busy": "2022-12-13T06:43:39.097498Z",
     "iopub.status.idle": "2022-12-13T06:43:39.112139Z",
     "shell.execute_reply": "2022-12-13T06:43:39.111455Z"
    },
    "papermill": {
     "duration": 0.024298,
     "end_time": "2022-12-13T06:43:39.113757",
     "exception": false,
     "start_time": "2022-12-13T06:43:39.089459",
     "status": "completed"
    },
    "tags": []
   },
   "outputs": [
    {
     "name": "stdout",
     "output_type": "stream",
     "text": [
      " - Logging roc_auc_class_mean (float) : 0.9992090891008207\n"
     ]
    }
   ],
   "source": [
    "roc_auc_macro = np.mean(list(roc_auc_dict.values()))\n",
    "\n",
    "logger.log_float(\"roc_auc_class_mean\", roc_auc_macro)\n",
    "\n",
    "# assert that the same value can be computed directly using sklearn\n",
    "assert roc_auc_macro == metrics.roc_auc_score(\n",
    "    y_test, y_pred_probs_test, average=\"macro\", multi_class=\"ovr\"\n",
    ")"
   ]
  },
  {
   "cell_type": "code",
   "execution_count": 20,
   "id": "e622959d",
   "metadata": {
    "execution": {
     "iopub.execute_input": "2022-12-13T06:43:39.129497Z",
     "iopub.status.busy": "2022-12-13T06:43:39.128640Z",
     "iopub.status.idle": "2022-12-13T06:43:39.132105Z",
     "shell.execute_reply": "2022-12-13T06:43:39.131482Z"
    },
    "lines_to_next_cell": 0,
    "papermill": {
     "duration": 0.013221,
     "end_time": "2022-12-13T06:43:39.133793",
     "exception": false,
     "start_time": "2022-12-13T06:43:39.120572",
     "status": "completed"
    },
    "tags": []
   },
   "outputs": [],
   "source": [
    "# ---"
   ]
  },
  {
   "cell_type": "code",
   "execution_count": null,
   "id": "de7d8487",
   "metadata": {
    "papermill": {
     "duration": 0.006732,
     "end_time": "2022-12-13T06:43:39.147071",
     "exception": false,
     "start_time": "2022-12-13T06:43:39.140339",
     "status": "completed"
    },
    "tags": []
   },
   "outputs": [],
   "source": []
  }
 ],
 "metadata": {
  "jupytext": {
   "cell_metadata_filter": "tags,-all",
   "main_language": "python",
   "notebook_metadata_filter": "-all"
  },
  "language_info": {
   "codemirror_mode": {
    "name": "ipython",
    "version": 3
   },
   "file_extension": ".py",
   "mimetype": "text/x-python",
   "name": "python",
   "nbconvert_exporter": "python",
   "pygments_lexer": "ipython3",
   "version": "3.8.10"
  },
  "papermill": {
   "default_parameters": {},
   "duration": 9.072013,
   "end_time": "2022-12-13T06:43:40.174063",
   "environment_variables": {},
   "exception": null,
   "input_path": "/home/host_user/workspace/mnist-demo-pipeline/mnist-demo-pipeline/notebooks/temp-notebook-38j7bk3r.ipynb",
   "output_path": "notebooks/benchmark-model.ipynb",
   "parameters": {
    "P": {
     "_opentelemetry_traceparent": "00-659a8d30b31143831d02390663dc0fa8-5b3efa4b9c02f779-01",
     "pipeline.data_lake_root": "/pipeline-outputs/data-lake",
     "pipeline.github.actor": "matiasdahl",
     "pipeline.github.base_ref": "",
     "pipeline.github.event_name": "schedule",
     "pipeline.github.head_ref": "",
     "pipeline.github.job": "run-tests-pipeline-and-persist-pipeline-outputs",
     "pipeline.github.ref": "refs/heads/development",
     "pipeline.github.ref_name": "development",
     "pipeline.github.ref_type": "branch",
     "pipeline.github.repository": "matiasdahl/dev-mnist-digits-demo-pipeline",
     "pipeline.github.run_id": "3682940783",
     "pipeline.github.runner_name": "Hosted Agent",
     "pipeline.github.sha": "ace0d01011d5e914f1921450dd5a59c11367b38d",
     "pipeline.github.workflow": "Run automated tests, pipeline and deploy results to static reporting site",
     "pipeline.pipeline_run_id": "80271420-4ed1-4858-81ac-ba542d9aa581",
     "pipeline.run_environment": "ci",
     "run.retry_nr": "0",
     "task.max_nr_retries": "1",
     "task.notebook": "notebooks/benchmark-model.py",
     "task.nr_train_images": 1000,
     "task.num_cpus": 1,
     "task.timeout_s": "None"
    }
   },
   "start_time": "2022-12-13T06:43:31.102050",
   "version": "2.3.3"
  }
 },
 "nbformat": 4,
 "nbformat_minor": 5
}