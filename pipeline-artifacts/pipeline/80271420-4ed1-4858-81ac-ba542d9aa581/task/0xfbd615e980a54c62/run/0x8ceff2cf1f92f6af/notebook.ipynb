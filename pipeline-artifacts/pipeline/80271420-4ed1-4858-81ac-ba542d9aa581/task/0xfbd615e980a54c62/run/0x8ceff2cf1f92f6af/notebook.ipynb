{
 "cells": [
  {
   "cell_type": "markdown",
   "id": "7518279f",
   "metadata": {
    "papermill": {
     "duration": 0.005895,
     "end_time": "2022-12-13T06:43:21.149938",
     "exception": false,
     "start_time": "2022-12-13T06:43:21.144043",
     "status": "completed"
    },
    "tags": []
   },
   "source": [
    "# Benchmark model\n",
    "\n",
    "The purpose of this notebook is to benchmark persisted onnx-model (trained in the\n",
    "previous step) against evaluation set."
   ]
  },
  {
   "cell_type": "markdown",
   "id": "933996b2",
   "metadata": {
    "papermill": {
     "duration": 0.005651,
     "end_time": "2022-12-13T06:43:21.160142",
     "exception": false,
     "start_time": "2022-12-13T06:43:21.154491",
     "status": "completed"
    },
    "tags": []
   },
   "source": [
    "### Determine run parameters"
   ]
  },
  {
   "cell_type": "code",
   "execution_count": 1,
   "id": "1accf46c",
   "metadata": {
    "execution": {
     "iopub.execute_input": "2022-12-13T06:43:21.173480Z",
     "iopub.status.busy": "2022-12-13T06:43:21.172748Z",
     "iopub.status.idle": "2022-12-13T06:43:21.180227Z",
     "shell.execute_reply": "2022-12-13T06:43:21.179230Z"
    },
    "lines_to_next_cell": 0,
    "papermill": {
     "duration": 0.019756,
     "end_time": "2022-12-13T06:43:21.183640",
     "exception": false,
     "start_time": "2022-12-13T06:43:21.163884",
     "status": "completed"
    },
    "tags": []
   },
   "outputs": [],
   "source": [
    "# ----------------- Parameters for interactive development --------------\n",
    "P = {\n",
    "    \"pipeline.data_lake_root\": \"/pipeline-outputs/data-lake\",\n",
    "    \"task.nr_train_images\": 600,\n",
    "}"
   ]
  },
  {
   "cell_type": "code",
   "execution_count": 2,
   "id": "a19bf0ce",
   "metadata": {
    "execution": {
     "iopub.execute_input": "2022-12-13T06:43:21.192780Z",
     "iopub.status.busy": "2022-12-13T06:43:21.192527Z",
     "iopub.status.idle": "2022-12-13T06:43:21.195445Z",
     "shell.execute_reply": "2022-12-13T06:43:21.194909Z"
    },
    "lines_to_next_cell": 0,
    "papermill": {
     "duration": 0.010023,
     "end_time": "2022-12-13T06:43:21.197642",
     "exception": false,
     "start_time": "2022-12-13T06:43:21.187619",
     "status": "completed"
    },
    "tags": [
     "parameters"
    ]
   },
   "outputs": [],
   "source": [
    "# - During automated runs parameters will be injected in the below cell -"
   ]
  },
  {
   "cell_type": "code",
   "execution_count": 3,
   "id": "95519845",
   "metadata": {
    "execution": {
     "iopub.execute_input": "2022-12-13T06:43:21.206750Z",
     "iopub.status.busy": "2022-12-13T06:43:21.206503Z",
     "iopub.status.idle": "2022-12-13T06:43:21.211097Z",
     "shell.execute_reply": "2022-12-13T06:43:21.210534Z"
    },
    "papermill": {
     "duration": 0.011577,
     "end_time": "2022-12-13T06:43:21.213290",
     "exception": false,
     "start_time": "2022-12-13T06:43:21.201713",
     "status": "completed"
    },
    "tags": [
     "injected-parameters"
    ]
   },
   "outputs": [],
   "source": [
    "# Parameters\n",
    "P = {\n",
    "    \"pipeline.data_lake_root\": \"/pipeline-outputs/data-lake\",\n",
    "    \"pipeline.run_environment\": \"ci\",\n",
    "    \"pipeline.pipeline_run_id\": \"80271420-4ed1-4858-81ac-ba542d9aa581\",\n",
    "    \"pipeline.github.repository\": \"matiasdahl/dev-mnist-digits-demo-pipeline\",\n",
    "    \"pipeline.github.workflow\": \"Run automated tests, pipeline and deploy results to static reporting site\",\n",
    "    \"pipeline.github.runner_name\": \"Hosted Agent\",\n",
    "    \"pipeline.github.run_id\": \"3682940783\",\n",
    "    \"pipeline.github.actor\": \"matiasdahl\",\n",
    "    \"pipeline.github.job\": \"run-tests-pipeline-and-persist-pipeline-outputs\",\n",
    "    \"pipeline.github.base_ref\": \"\",\n",
    "    \"pipeline.github.head_ref\": \"\",\n",
    "    \"pipeline.github.sha\": \"ace0d01011d5e914f1921450dd5a59c11367b38d\",\n",
    "    \"pipeline.github.ref\": \"refs/heads/development\",\n",
    "    \"pipeline.github.ref_type\": \"branch\",\n",
    "    \"pipeline.github.ref_name\": \"development\",\n",
    "    \"pipeline.github.event_name\": \"schedule\",\n",
    "    \"task.nr_train_images\": 800,\n",
    "    \"task.notebook\": \"notebooks/benchmark-model.py\",\n",
    "    \"task.max_nr_retries\": \"1\",\n",
    "    \"run.retry_nr\": \"0\",\n",
    "    \"task.timeout_s\": \"None\",\n",
    "    \"task.num_cpus\": 1,\n",
    "    \"_opentelemetry_traceparent\": \"00-659a8d30b31143831d02390663dc0fa8-1433114baffccc99-01\",\n",
    "}\n"
   ]
  },
  {
   "cell_type": "code",
   "execution_count": 4,
   "id": "27930378",
   "metadata": {
    "execution": {
     "iopub.execute_input": "2022-12-13T06:43:21.222578Z",
     "iopub.status.busy": "2022-12-13T06:43:21.222349Z",
     "iopub.status.idle": "2022-12-13T06:43:21.225095Z",
     "shell.execute_reply": "2022-12-13T06:43:21.224584Z"
    },
    "lines_to_next_cell": 0,
    "papermill": {
     "duration": 0.010118,
     "end_time": "2022-12-13T06:43:21.227415",
     "exception": false,
     "start_time": "2022-12-13T06:43:21.217297",
     "status": "completed"
    },
    "tags": []
   },
   "outputs": [],
   "source": [
    "# -----------------------------------------------------------------------"
   ]
  },
  {
   "cell_type": "markdown",
   "id": "a06f76c0",
   "metadata": {
    "papermill": {
     "duration": 0.004038,
     "end_time": "2022-12-13T06:43:21.235747",
     "exception": false,
     "start_time": "2022-12-13T06:43:21.231709",
     "status": "completed"
    },
    "tags": []
   },
   "source": [
    "---"
   ]
  },
  {
   "cell_type": "markdown",
   "id": "3f01c9cd",
   "metadata": {
    "lines_to_next_cell": 2,
    "papermill": {
     "duration": 0.004174,
     "end_time": "2022-12-13T06:43:21.243749",
     "exception": false,
     "start_time": "2022-12-13T06:43:21.239575",
     "status": "completed"
    },
    "tags": []
   },
   "source": [
    "### Notebook code"
   ]
  },
  {
   "cell_type": "code",
   "execution_count": 5,
   "id": "e3e15353",
   "metadata": {
    "execution": {
     "iopub.execute_input": "2022-12-13T06:43:21.253082Z",
     "iopub.status.busy": "2022-12-13T06:43:21.252810Z",
     "iopub.status.idle": "2022-12-13T06:43:22.403290Z",
     "shell.execute_reply": "2022-12-13T06:43:22.402628Z"
    },
    "papermill": {
     "duration": 1.157566,
     "end_time": "2022-12-13T06:43:22.405213",
     "exception": false,
     "start_time": "2022-12-13T06:43:21.247647",
     "status": "completed"
    },
    "tags": []
   },
   "outputs": [
    {
     "name": "stderr",
     "output_type": "stream",
     "text": [
      "2022-12-13 06:43:22,203\tINFO worker.py:842 -- Connecting to existing Ray cluster at address: 172.17.0.2:6379\n"
     ]
    }
   ],
   "source": [
    "import itertools as it\n",
    "\n",
    "#\n",
    "import numpy as np\n",
    "import matplotlib.pyplot as plt\n",
    "\n",
    "#\n",
    "from pynb_dag_runner.tasks.task_opentelemetry_logging import PydarLogger\n",
    "\n",
    "#\n",
    "from common.io import datalake_root\n",
    "\n",
    "logger = PydarLogger(P)"
   ]
  },
  {
   "cell_type": "markdown",
   "id": "d4401240",
   "metadata": {
    "papermill": {
     "duration": 0.00426,
     "end_time": "2022-12-13T06:43:22.414500",
     "exception": false,
     "start_time": "2022-12-13T06:43:22.410240",
     "status": "completed"
    },
    "tags": []
   },
   "source": [
    "## Load persisted onnx-model and evaluation data"
   ]
  },
  {
   "cell_type": "code",
   "execution_count": 6,
   "id": "761071c3",
   "metadata": {
    "execution": {
     "iopub.execute_input": "2022-12-13T06:43:22.424382Z",
     "iopub.status.busy": "2022-12-13T06:43:22.424023Z",
     "iopub.status.idle": "2022-12-13T06:43:22.427680Z",
     "shell.execute_reply": "2022-12-13T06:43:22.426929Z"
    },
    "papermill": {
     "duration": 0.011413,
     "end_time": "2022-12-13T06:43:22.429970",
     "exception": false,
     "start_time": "2022-12-13T06:43:22.418557",
     "status": "completed"
    },
    "tags": []
   },
   "outputs": [],
   "source": [
    "from common.io import read_onnx, get_onnx_inputs, get_onnx_outputs, read_numpy"
   ]
  },
  {
   "cell_type": "code",
   "execution_count": 7,
   "id": "53c8b1ec",
   "metadata": {
    "execution": {
     "iopub.execute_input": "2022-12-13T06:43:22.440602Z",
     "iopub.status.busy": "2022-12-13T06:43:22.440332Z",
     "iopub.status.idle": "2022-12-13T06:43:22.449163Z",
     "shell.execute_reply": "2022-12-13T06:43:22.448409Z"
    },
    "lines_to_next_cell": 0,
    "papermill": {
     "duration": 0.016661,
     "end_time": "2022-12-13T06:43:22.451079",
     "exception": false,
     "start_time": "2022-12-13T06:43:22.434418",
     "status": "completed"
    },
    "tags": []
   },
   "outputs": [],
   "source": [
    "onnx_inference_session = read_onnx(\n",
    "    datalake_root(P)\n",
    "    / \"models\"\n",
    "    / f\"nr_train_images={P['task.nr_train_images']}\"\n",
    "    / \"model.onnx\"\n",
    ")"
   ]
  },
  {
   "cell_type": "markdown",
   "id": "9fb8ab4a",
   "metadata": {
    "papermill": {
     "duration": 0.004663,
     "end_time": "2022-12-13T06:43:22.460031",
     "exception": false,
     "start_time": "2022-12-13T06:43:22.455368",
     "status": "completed"
    },
    "tags": []
   },
   "source": [
    "### Record structure of inputs and outputs for ONNX model\n",
    "\n",
    "(this should likely be done in training notebook)"
   ]
  },
  {
   "cell_type": "code",
   "execution_count": 8,
   "id": "d6524585",
   "metadata": {
    "execution": {
     "iopub.execute_input": "2022-12-13T06:43:22.470856Z",
     "iopub.status.busy": "2022-12-13T06:43:22.470489Z",
     "iopub.status.idle": "2022-12-13T06:43:22.476169Z",
     "shell.execute_reply": "2022-12-13T06:43:22.475508Z"
    },
    "papermill": {
     "duration": 0.013727,
     "end_time": "2022-12-13T06:43:22.478121",
     "exception": false,
     "start_time": "2022-12-13T06:43:22.464394",
     "status": "completed"
    },
    "tags": []
   },
   "outputs": [
    {
     "name": "stdout",
     "output_type": "stream",
     "text": [
      "{\n",
      "  \"inputs\": [\n",
      "    {\n",
      "      \"name\": \"float_input_8x8_image\",\n",
      "      \"shape\": [\n",
      "        null,\n",
      "        64\n",
      "      ],\n",
      "      \"type\": \"tensor(float)\"\n",
      "    }\n",
      "  ],\n",
      "  \"outputs\": [\n",
      "    {\n",
      "      \"name\": \"output_label\",\n",
      "      \"shape\": [\n",
      "        null\n",
      "      ],\n",
      "      \"type\": \"tensor(int64)\"\n",
      "    },\n",
      "    {\n",
      "      \"name\": \"output_probability\",\n",
      "      \"shape\": [],\n",
      "      \"type\": \"seq(map(int64,tensor(float)))\"\n",
      "    }\n",
      "  ]\n",
      "}\n"
     ]
    }
   ],
   "source": [
    "import json\n",
    "\n",
    "onnx_io = json.dumps(\n",
    "    {\n",
    "        \"inputs\": get_onnx_inputs(onnx_inference_session),\n",
    "        \"outputs\": get_onnx_outputs(onnx_inference_session),\n",
    "    },\n",
    "    indent=2,\n",
    ")\n",
    "\n",
    "\n",
    "logger.log_artefact(\"onnx_io_structure.json\", onnx_io)\n",
    "print(onnx_io)"
   ]
  },
  {
   "cell_type": "markdown",
   "id": "02cc39a6",
   "metadata": {
    "papermill": {
     "duration": 0.004107,
     "end_time": "2022-12-13T06:43:22.487000",
     "exception": false,
     "start_time": "2022-12-13T06:43:22.482893",
     "status": "completed"
    },
    "tags": []
   },
   "source": [
    "### Evaluate model performance on evaluation data set"
   ]
  },
  {
   "cell_type": "code",
   "execution_count": 9,
   "id": "5529cbc4",
   "metadata": {
    "execution": {
     "iopub.execute_input": "2022-12-13T06:43:22.497181Z",
     "iopub.status.busy": "2022-12-13T06:43:22.496791Z",
     "iopub.status.idle": "2022-12-13T06:43:22.502533Z",
     "shell.execute_reply": "2022-12-13T06:43:22.501874Z"
    },
    "papermill": {
     "duration": 0.016327,
     "end_time": "2022-12-13T06:43:22.508007",
     "exception": false,
     "start_time": "2022-12-13T06:43:22.491680",
     "status": "completed"
    },
    "tags": []
   },
   "outputs": [],
   "source": [
    "# load evaluation data\n",
    "X_test = read_numpy(datalake_root(P) / \"test-data\" / \"digits.numpy\")\n",
    "y_test = read_numpy(datalake_root(P) / \"test-data\" / \"labels.numpy\")"
   ]
  },
  {
   "cell_type": "code",
   "execution_count": 10,
   "id": "f660ca76",
   "metadata": {
    "execution": {
     "iopub.execute_input": "2022-12-13T06:43:22.519601Z",
     "iopub.status.busy": "2022-12-13T06:43:22.518815Z",
     "iopub.status.idle": "2022-12-13T06:43:22.531977Z",
     "shell.execute_reply": "2022-12-13T06:43:22.531225Z"
    },
    "papermill": {
     "duration": 0.020278,
     "end_time": "2022-12-13T06:43:22.533650",
     "exception": false,
     "start_time": "2022-12-13T06:43:22.513372",
     "status": "completed"
    },
    "tags": []
   },
   "outputs": [],
   "source": [
    "def get_model_outputs(X, onnx_inference_session):\n",
    "    y_pred_labels, y_pred_map = onnx_inference_session.run(\n",
    "        [\"output_label\", \"output_probability\"],\n",
    "        {\"float_input_8x8_image\": X.astype(np.float32)},\n",
    "    )\n",
    "    y_pred_probs = np.array(\n",
    "        [[probabilities[digit] for digit in range(10)] for probabilities in y_pred_map]\n",
    "    )\n",
    "\n",
    "    assert y_pred_labels.shape == (X.shape[0],)\n",
    "    assert y_pred_probs.shape == (X.shape[0], 10)\n",
    "\n",
    "    return y_pred_labels, y_pred_probs\n",
    "\n",
    "\n",
    "# Note: as shown in the training notebook, the predicted labels and probabilities\n",
    "# computed below need not be compatible.\n",
    "y_pred_labels_test, y_pred_probs_test = get_model_outputs(\n",
    "    X_test, onnx_inference_session\n",
    ")"
   ]
  },
  {
   "cell_type": "markdown",
   "id": "0f142043",
   "metadata": {
    "papermill": {
     "duration": 0.004762,
     "end_time": "2022-12-13T06:43:22.543033",
     "exception": false,
     "start_time": "2022-12-13T06:43:22.538271",
     "status": "completed"
    },
    "tags": []
   },
   "source": [
    "### Confusion matrix"
   ]
  },
  {
   "cell_type": "code",
   "execution_count": 11,
   "id": "14d13f65",
   "metadata": {
    "execution": {
     "iopub.execute_input": "2022-12-13T06:43:22.556607Z",
     "iopub.status.busy": "2022-12-13T06:43:22.553218Z",
     "iopub.status.idle": "2022-12-13T06:43:22.559862Z",
     "shell.execute_reply": "2022-12-13T06:43:22.559099Z"
    },
    "papermill": {
     "duration": 0.014199,
     "end_time": "2022-12-13T06:43:22.561449",
     "exception": false,
     "start_time": "2022-12-13T06:43:22.547250",
     "status": "completed"
    },
    "tags": []
   },
   "outputs": [],
   "source": [
    "# TODO"
   ]
  },
  {
   "cell_type": "markdown",
   "id": "d0ed5039",
   "metadata": {
    "papermill": {
     "duration": 0.004665,
     "end_time": "2022-12-13T06:43:22.570863",
     "exception": false,
     "start_time": "2022-12-13T06:43:22.566198",
     "status": "completed"
    },
    "tags": []
   },
   "source": [
    "### Plot predicted probabilities for each classifier over all evaluation digit images"
   ]
  },
  {
   "cell_type": "code",
   "execution_count": 12,
   "id": "cfd6e4db",
   "metadata": {
    "execution": {
     "iopub.execute_input": "2022-12-13T06:43:22.581358Z",
     "iopub.status.busy": "2022-12-13T06:43:22.580680Z",
     "iopub.status.idle": "2022-12-13T06:43:25.916414Z",
     "shell.execute_reply": "2022-12-13T06:43:25.915863Z"
    },
    "papermill": {
     "duration": 3.342674,
     "end_time": "2022-12-13T06:43:25.917981",
     "exception": false,
     "start_time": "2022-12-13T06:43:22.575307",
     "status": "completed"
    },
    "tags": []
   },
   "outputs": [
    {
     "data": {
      "image/png": "[encoded data removed]",
      "text/plain": [
       "<Figure size 1600x600 with 10 Axes>"
      ]
     },
     "metadata": {},
     "output_type": "display_data"
    }
   ],
   "source": [
    "def plot_per_digit_probabilities(y_pred_probs):\n",
    "    fig, axs = plt.subplots(nrows=2, ncols=5, figsize=(16, 6))\n",
    "\n",
    "    for (r, c), digit, ax in zip(\n",
    "        it.product(range(2), range(5)), range(10), axs.reshape(-1)\n",
    "    ):\n",
    "        ax.hist(y_pred_probs_test[:, digit], bins=20)\n",
    "\n",
    "        ax.set_title(f\"Digit {digit}\")\n",
    "        if r == 1 and c == 2:\n",
    "            ax.set_xlabel(\"probability\", fontsize=16)\n",
    "\n",
    "        if c == 0:\n",
    "            ax.set_ylabel(\"counts\", fontsize=16)\n",
    "        ax.set_yscale(\"log\")\n",
    "\n",
    "    fig.tight_layout()\n",
    "    fig.suptitle(\n",
    "        f\"Distributions of prediction probabilities for each digit \"\n",
    "        f\"(on evaluation data, n={y_pred_probs.shape[0]})\",\n",
    "        fontsize=20,\n",
    "    )\n",
    "    fig.tight_layout()\n",
    "    fig.show()\n",
    "\n",
    "    return fig\n",
    "\n",
    "\n",
    "fig = plot_per_digit_probabilities(y_pred_probs_test)"
   ]
  },
  {
   "cell_type": "markdown",
   "id": "202b1084",
   "metadata": {
    "papermill": {
     "duration": 0.005578,
     "end_time": "2022-12-13T06:43:25.929856",
     "exception": false,
     "start_time": "2022-12-13T06:43:25.924278",
     "status": "completed"
    },
    "tags": []
   },
   "source": [
    "From the above distributions we see that most digits have clear separation between\n",
    "high and lower probabilities. Morover, in each case there is roughly an order of\n",
    "magnitude more of digits with low probabilities. This is compatible with digits\n",
    "being roughly evenly distributed in the data."
   ]
  },
  {
   "cell_type": "code",
   "execution_count": 13,
   "id": "150716fd",
   "metadata": {
    "execution": {
     "iopub.execute_input": "2022-12-13T06:43:25.942746Z",
     "iopub.status.busy": "2022-12-13T06:43:25.941890Z",
     "iopub.status.idle": "2022-12-13T06:43:26.419645Z",
     "shell.execute_reply": "2022-12-13T06:43:26.418955Z"
    },
    "papermill": {
     "duration": 0.485954,
     "end_time": "2022-12-13T06:43:26.421418",
     "exception": false,
     "start_time": "2022-12-13T06:43:25.935464",
     "status": "completed"
    },
    "tags": []
   },
   "outputs": [],
   "source": [
    "logger.log_figure(\"per-digit-probabilities.png\", fig)"
   ]
  },
  {
   "cell_type": "markdown",
   "id": "4b87722e",
   "metadata": {
    "papermill": {
     "duration": 0.005682,
     "end_time": "2022-12-13T06:43:26.433412",
     "exception": false,
     "start_time": "2022-12-13T06:43:26.427730",
     "status": "completed"
    },
    "tags": []
   },
   "source": [
    "### Plot ROC curves for individual one-vs-rest classifiers"
   ]
  },
  {
   "cell_type": "code",
   "execution_count": 14,
   "id": "16a1a811",
   "metadata": {
    "execution": {
     "iopub.execute_input": "2022-12-13T06:43:26.447386Z",
     "iopub.status.busy": "2022-12-13T06:43:26.446841Z",
     "iopub.status.idle": "2022-12-13T06:43:26.810508Z",
     "shell.execute_reply": "2022-12-13T06:43:26.809140Z"
    },
    "papermill": {
     "duration": 0.372013,
     "end_time": "2022-12-13T06:43:26.812286",
     "exception": false,
     "start_time": "2022-12-13T06:43:26.440273",
     "status": "completed"
    },
    "tags": []
   },
   "outputs": [],
   "source": [
    "from sklearn import metrics"
   ]
  },
  {
   "cell_type": "code",
   "execution_count": 15,
   "id": "2e6bb4fb",
   "metadata": {
    "execution": {
     "iopub.execute_input": "2022-12-13T06:43:26.824796Z",
     "iopub.status.busy": "2022-12-13T06:43:26.824178Z",
     "iopub.status.idle": "2022-12-13T06:43:28.129993Z",
     "shell.execute_reply": "2022-12-13T06:43:28.129355Z"
    },
    "papermill": {
     "duration": 1.314524,
     "end_time": "2022-12-13T06:43:28.132377",
     "exception": false,
     "start_time": "2022-12-13T06:43:26.817853",
     "status": "completed"
    },
    "tags": []
   },
   "outputs": [
    {
     "data": {
      "image/png": "[encoded data removed]",
      "text/plain": [
       "<Figure size 1600x800 with 10 Axes>"
      ]
     },
     "metadata": {},
     "output_type": "display_data"
    }
   ],
   "source": [
    "def plot_roc_curves(y, y_pred_probs):\n",
    "    # based on example code\n",
    "    # https://scikit-learn.org/stable/auto_examples/model_selection/plot_roc.html\n",
    "\n",
    "    fig, axs = plt.subplots(nrows=2, ncols=5, figsize=(16, 8))\n",
    "\n",
    "    roc_auc_dict = {}\n",
    "\n",
    "    for (r, c), digit, ax in zip(\n",
    "        it.product(range(2), range(5)), range(10), axs.reshape(-1)\n",
    "    ):\n",
    "        fpr, tpr, _ = metrics.roc_curve(y == digit, y_pred_probs[:, digit])\n",
    "        auc = metrics.auc(fpr, tpr)\n",
    "        roc_auc_dict[str(digit)] = auc\n",
    "\n",
    "        ax.plot(fpr, tpr, label=f\"ROC AUC={round(auc, 3)}\")\n",
    "\n",
    "        ax.set_title(f\"\\nDigit {digit}\", fontsize=16)\n",
    "        if r == 1:\n",
    "            ax.set_xlabel(\"FPR\", fontsize=18)\n",
    "\n",
    "        if c == 0:\n",
    "            ax.set_ylabel(\"TPR\", fontsize=18)\n",
    "\n",
    "        ax.set_xlim([-0.05, 1.05])\n",
    "        ax.set_ylim([-0.05, 1.05])\n",
    "        ax.legend(loc=\"lower right\", frameon=False, fontsize=14)\n",
    "\n",
    "    fig.tight_layout()\n",
    "    fig.suptitle(\n",
    "        f\"ROC plots for one-vs-rest performances \"\n",
    "        f\"(on evaluation data, n={y_pred_probs_test.shape[1]}\",\n",
    "        fontsize=22,\n",
    "    )\n",
    "    fig.tight_layout()\n",
    "    fig.show()\n",
    "\n",
    "    return roc_auc_dict, fig\n",
    "\n",
    "\n",
    "roc_auc_dict, fig = plot_roc_curves(y_test, y_pred_probs_test)"
   ]
  },
  {
   "cell_type": "code",
   "execution_count": 16,
   "id": "9ba9200d",
   "metadata": {
    "execution": {
     "iopub.execute_input": "2022-12-13T06:43:28.147659Z",
     "iopub.status.busy": "2022-12-13T06:43:28.147367Z",
     "iopub.status.idle": "2022-12-13T06:43:28.429772Z",
     "shell.execute_reply": "2022-12-13T06:43:28.429183Z"
    },
    "papermill": {
     "duration": 0.291965,
     "end_time": "2022-12-13T06:43:28.431421",
     "exception": false,
     "start_time": "2022-12-13T06:43:28.139456",
     "status": "completed"
    },
    "tags": []
   },
   "outputs": [],
   "source": [
    "logger.log_figure(\"per-digit-roc-curves.png\", fig)"
   ]
  },
  {
   "cell_type": "code",
   "execution_count": 17,
   "id": "17974417",
   "metadata": {
    "execution": {
     "iopub.execute_input": "2022-12-13T06:43:28.449223Z",
     "iopub.status.busy": "2022-12-13T06:43:28.448933Z",
     "iopub.status.idle": "2022-12-13T06:43:28.453651Z",
     "shell.execute_reply": "2022-12-13T06:43:28.452931Z"
    },
    "papermill": {
     "duration": 0.01665,
     "end_time": "2022-12-13T06:43:28.456102",
     "exception": false,
     "start_time": "2022-12-13T06:43:28.439452",
     "status": "completed"
    },
    "tags": []
   },
   "outputs": [
    {
     "data": {
      "text/plain": [
       "{'0': 1.0,\n",
       " '1': 0.9988003748828491,\n",
       " '2': 1.0,\n",
       " '3': 0.9998125585754452,\n",
       " '4': 0.9995046486816034,\n",
       " '5': 0.998987816307404,\n",
       " '6': 0.999923792104862,\n",
       " '7': 0.9998856881572931,\n",
       " '8': 0.992827868852459,\n",
       " '9': 0.9994665447340344}"
      ]
     },
     "execution_count": 17,
     "metadata": {},
     "output_type": "execute_result"
    }
   ],
   "source": [
    "roc_auc_dict"
   ]
  },
  {
   "cell_type": "code",
   "execution_count": 18,
   "id": "37b8c5b0",
   "metadata": {
    "execution": {
     "iopub.execute_input": "2022-12-13T06:43:28.471726Z",
     "iopub.status.busy": "2022-12-13T06:43:28.471366Z",
     "iopub.status.idle": "2022-12-13T06:43:28.475691Z",
     "shell.execute_reply": "2022-12-13T06:43:28.475015Z"
    },
    "papermill": {
     "duration": 0.015475,
     "end_time": "2022-12-13T06:43:28.479051",
     "exception": false,
     "start_time": "2022-12-13T06:43:28.463576",
     "status": "completed"
    },
    "tags": []
   },
   "outputs": [
    {
     "name": "stdout",
     "output_type": "stream",
     "text": [
      " - Logging roc_auc_per_digit (json) : {'0': 1.0, '1': 0.9988003748828491, '2': 1.0, '3': 0.9998125585754452, '4': 0.9995046486816034, '5': 0.998987816307404, '6': 0.999923792104862, '7': 0.9998856881572931, '8': 0.992827868852459, '9': 0.9994665447340344}\n"
     ]
    }
   ],
   "source": [
    "logger.log_value(\"roc_auc_per_digit\", roc_auc_dict)"
   ]
  },
  {
   "cell_type": "markdown",
   "id": "abbcb602",
   "metadata": {
    "papermill": {
     "duration": 0.00776,
     "end_time": "2022-12-13T06:43:28.493824",
     "exception": false,
     "start_time": "2022-12-13T06:43:28.486064",
     "status": "completed"
    },
    "tags": []
   },
   "source": [
    "### Compute and log mean ROC AUC score averaged over all digits"
   ]
  },
  {
   "cell_type": "code",
   "execution_count": 19,
   "id": "6d361e9d",
   "metadata": {
    "execution": {
     "iopub.execute_input": "2022-12-13T06:43:28.508716Z",
     "iopub.status.busy": "2022-12-13T06:43:28.508348Z",
     "iopub.status.idle": "2022-12-13T06:43:28.519506Z",
     "shell.execute_reply": "2022-12-13T06:43:28.518985Z"
    },
    "papermill": {
     "duration": 0.019861,
     "end_time": "2022-12-13T06:43:28.520815",
     "exception": false,
     "start_time": "2022-12-13T06:43:28.500954",
     "status": "completed"
    },
    "tags": []
   },
   "outputs": [
    {
     "name": "stdout",
     "output_type": "stream",
     "text": [
      " - Logging roc_auc_class_mean (float) : 0.998920929229595\n"
     ]
    }
   ],
   "source": [
    "roc_auc_macro = np.mean(list(roc_auc_dict.values()))\n",
    "\n",
    "logger.log_float(\"roc_auc_class_mean\", roc_auc_macro)\n",
    "\n",
    "# assert that the same value can be computed directly using sklearn\n",
    "assert roc_auc_macro == metrics.roc_auc_score(\n",
    "    y_test, y_pred_probs_test, average=\"macro\", multi_class=\"ovr\"\n",
    ")"
   ]
  },
  {
   "cell_type": "code",
   "execution_count": 20,
   "id": "b547b372",
   "metadata": {
    "execution": {
     "iopub.execute_input": "2022-12-13T06:43:28.536121Z",
     "iopub.status.busy": "2022-12-13T06:43:28.535627Z",
     "iopub.status.idle": "2022-12-13T06:43:28.538895Z",
     "shell.execute_reply": "2022-12-13T06:43:28.538214Z"
    },
    "lines_to_next_cell": 0,
    "papermill": {
     "duration": 0.013344,
     "end_time": "2022-12-13T06:43:28.541090",
     "exception": false,
     "start_time": "2022-12-13T06:43:28.527746",
     "status": "completed"
    },
    "tags": []
   },
   "outputs": [],
   "source": [
    "# ---"
   ]
  },
  {
   "cell_type": "code",
   "execution_count": null,
   "id": "3f39eb74",
   "metadata": {
    "papermill": {
     "duration": 0.007845,
     "end_time": "2022-12-13T06:43:28.560274",
     "exception": false,
     "start_time": "2022-12-13T06:43:28.552429",
     "status": "completed"
    },
    "tags": []
   },
   "outputs": [],
   "source": []
  }
 ],
 "metadata": {
  "jupytext": {
   "cell_metadata_filter": "tags,-all",
   "main_language": "python",
   "notebook_metadata_filter": "-all"
  },
  "language_info": {
   "codemirror_mode": {
    "name": "ipython",
    "version": 3
   },
   "file_extension": ".py",
   "mimetype": "text/x-python",
   "name": "python",
   "nbconvert_exporter": "python",
   "pygments_lexer": "ipython3",
   "version": "3.8.10"
  },
  "papermill": {
   "default_parameters": {},
   "duration": 9.796038,
   "end_time": "2022-12-13T06:43:29.690698",
   "environment_variables": {},
   "exception": null,
   "input_path": "/home/host_user/workspace/mnist-demo-pipeline/mnist-demo-pipeline/notebooks/temp-notebook-kghmnb_c.ipynb",
   "output_path": "notebooks/benchmark-model.ipynb",
   "parameters": {
    "P": {
     "_opentelemetry_traceparent": "00-659a8d30b31143831d02390663dc0fa8-1433114baffccc99-01",
     "pipeline.data_lake_root": "/pipeline-outputs/data-lake",
     "pipeline.github.actor": "matiasdahl",
     "pipeline.github.base_ref": "",
     "pipeline.github.event_name": "schedule",
     "pipeline.github.head_ref": "",
     "pipeline.github.job": "run-tests-pipeline-and-persist-pipeline-outputs",
     "pipeline.github.ref": "refs/heads/development",
     "pipeline.github.ref_name": "development",
     "pipeline.github.ref_type": "branch",
     "pipeline.github.repository": "matiasdahl/dev-mnist-digits-demo-pipeline",
     "pipeline.github.run_id": "3682940783",
     "pipeline.github.runner_name": "Hosted Agent",
     "pipeline.github.sha": "ace0d01011d5e914f1921450dd5a59c11367b38d",
     "pipeline.github.workflow": "Run automated tests, pipeline and deploy results to static reporting site",
     "pipeline.pipeline_run_id": "80271420-4ed1-4858-81ac-ba542d9aa581",
     "pipeline.run_environment": "ci",
     "run.retry_nr": "0",
     "task.max_nr_retries": "1",
     "task.notebook": "notebooks/benchmark-model.py",
     "task.nr_train_images": 800,
     "task.num_cpus": 1,
     "task.timeout_s": "None"
    }
   },
   "start_time": "2022-12-13T06:43:19.894660",
   "version": "2.3.3"
  }
 },
 "nbformat": 4,
 "nbformat_minor": 5
}