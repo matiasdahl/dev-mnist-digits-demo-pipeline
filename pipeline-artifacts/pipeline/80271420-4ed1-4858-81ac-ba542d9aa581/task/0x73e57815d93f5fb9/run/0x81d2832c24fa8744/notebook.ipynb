{
 "cells": [
  {
   "cell_type": "markdown",
   "id": "70e82fb8",
   "metadata": {
    "papermill": {
     "duration": 0.004093,
     "end_time": "2022-12-13T06:43:01.917354",
     "exception": false,
     "start_time": "2022-12-13T06:43:01.913261",
     "status": "completed"
    },
    "tags": []
   },
   "source": [
    "# Train model\n",
    "\n",
    "The purpose of this notebook is:\n",
    "\n",
    "- Load all training data (images and labels).\n",
    "- Limit number of train images to `task.nr_train_images` (value provided as run parameter).\n",
    "- Train a support vector machine model using sklearn.\n",
    "- Persist the trained model using the ONNX format."
   ]
  },
  {
   "cell_type": "markdown",
   "id": "b38ca906",
   "metadata": {
    "papermill": {
     "duration": 0.010338,
     "end_time": "2022-12-13T06:43:01.930941",
     "exception": false,
     "start_time": "2022-12-13T06:43:01.920603",
     "status": "completed"
    },
    "tags": []
   },
   "source": [
    "### Determine run parameters"
   ]
  },
  {
   "cell_type": "code",
   "execution_count": 1,
   "id": "c0b75a14",
   "metadata": {
    "execution": {
     "iopub.execute_input": "2022-12-13T06:43:01.938274Z",
     "iopub.status.busy": "2022-12-13T06:43:01.937996Z",
     "iopub.status.idle": "2022-12-13T06:43:01.946153Z",
     "shell.execute_reply": "2022-12-13T06:43:01.945565Z"
    },
    "lines_to_next_cell": 0,
    "papermill": {
     "duration": 0.014616,
     "end_time": "2022-12-13T06:43:01.948781",
     "exception": false,
     "start_time": "2022-12-13T06:43:01.934165",
     "status": "completed"
    },
    "tags": []
   },
   "outputs": [],
   "source": [
    "# ----------------- Parameters for interactive development --------------\n",
    "P = {\n",
    "    \"pipeline.data_lake_root\": \"/pipeline-outputs/data-lake\",\n",
    "    \"task.nr_train_images\": 600,\n",
    "}"
   ]
  },
  {
   "cell_type": "code",
   "execution_count": 2,
   "id": "a172ff24",
   "metadata": {
    "execution": {
     "iopub.execute_input": "2022-12-13T06:43:01.956145Z",
     "iopub.status.busy": "2022-12-13T06:43:01.955895Z",
     "iopub.status.idle": "2022-12-13T06:43:01.958706Z",
     "shell.execute_reply": "2022-12-13T06:43:01.958198Z"
    },
    "lines_to_next_cell": 0,
    "papermill": {
     "duration": 0.009272,
     "end_time": "2022-12-13T06:43:01.961064",
     "exception": false,
     "start_time": "2022-12-13T06:43:01.951792",
     "status": "completed"
    },
    "tags": [
     "parameters"
    ]
   },
   "outputs": [],
   "source": [
    "# - During automated runs parameters will be injected in the below cell -"
   ]
  },
  {
   "cell_type": "code",
   "execution_count": 3,
   "id": "22558f61",
   "metadata": {
    "execution": {
     "iopub.execute_input": "2022-12-13T06:43:01.969116Z",
     "iopub.status.busy": "2022-12-13T06:43:01.968854Z",
     "iopub.status.idle": "2022-12-13T06:43:01.974431Z",
     "shell.execute_reply": "2022-12-13T06:43:01.973293Z"
    },
    "papermill": {
     "duration": 0.012151,
     "end_time": "2022-12-13T06:43:01.977063",
     "exception": false,
     "start_time": "2022-12-13T06:43:01.964912",
     "status": "completed"
    },
    "tags": [
     "injected-parameters"
    ]
   },
   "outputs": [],
   "source": [
    "# Parameters\n",
    "P = {\n",
    "    \"pipeline.data_lake_root\": \"/pipeline-outputs/data-lake\",\n",
    "    \"pipeline.run_environment\": \"ci\",\n",
    "    \"pipeline.pipeline_run_id\": \"80271420-4ed1-4858-81ac-ba542d9aa581\",\n",
    "    \"pipeline.github.repository\": \"matiasdahl/dev-mnist-digits-demo-pipeline\",\n",
    "    \"pipeline.github.workflow\": \"Run automated tests, pipeline and deploy results to static reporting site\",\n",
    "    \"pipeline.github.runner_name\": \"Hosted Agent\",\n",
    "    \"pipeline.github.run_id\": \"3682940783\",\n",
    "    \"pipeline.github.actor\": \"matiasdahl\",\n",
    "    \"pipeline.github.job\": \"run-tests-pipeline-and-persist-pipeline-outputs\",\n",
    "    \"pipeline.github.base_ref\": \"\",\n",
    "    \"pipeline.github.head_ref\": \"\",\n",
    "    \"pipeline.github.sha\": \"ace0d01011d5e914f1921450dd5a59c11367b38d\",\n",
    "    \"pipeline.github.ref\": \"refs/heads/development\",\n",
    "    \"pipeline.github.ref_type\": \"branch\",\n",
    "    \"pipeline.github.ref_name\": \"development\",\n",
    "    \"pipeline.github.event_name\": \"schedule\",\n",
    "    \"task.nr_train_images\": 600,\n",
    "    \"task.notebook\": \"notebooks/train-model.py\",\n",
    "    \"task.max_nr_retries\": \"1\",\n",
    "    \"run.retry_nr\": \"0\",\n",
    "    \"task.timeout_s\": \"None\",\n",
    "    \"task.num_cpus\": 1,\n",
    "    \"_opentelemetry_traceparent\": \"00-659a8d30b31143831d02390663dc0fa8-692334cc7520b6b0-01\",\n",
    "}\n"
   ]
  },
  {
   "cell_type": "code",
   "execution_count": 4,
   "id": "43d9d8bc",
   "metadata": {
    "execution": {
     "iopub.execute_input": "2022-12-13T06:43:01.984024Z",
     "iopub.status.busy": "2022-12-13T06:43:01.983769Z",
     "iopub.status.idle": "2022-12-13T06:43:01.987173Z",
     "shell.execute_reply": "2022-12-13T06:43:01.986647Z"
    },
    "lines_to_next_cell": 0,
    "papermill": {
     "duration": 0.009592,
     "end_time": "2022-12-13T06:43:01.989599",
     "exception": false,
     "start_time": "2022-12-13T06:43:01.980007",
     "status": "completed"
    },
    "tags": []
   },
   "outputs": [],
   "source": [
    "# -----------------------------------------------------------------------"
   ]
  },
  {
   "cell_type": "markdown",
   "id": "03006865",
   "metadata": {
    "papermill": {
     "duration": 0.002763,
     "end_time": "2022-12-13T06:43:01.995321",
     "exception": false,
     "start_time": "2022-12-13T06:43:01.992558",
     "status": "completed"
    },
    "tags": []
   },
   "source": [
    "---"
   ]
  },
  {
   "cell_type": "markdown",
   "id": "22c7ca1c",
   "metadata": {
    "lines_to_next_cell": 2,
    "papermill": {
     "duration": 0.002862,
     "end_time": "2022-12-13T06:43:02.002849",
     "exception": false,
     "start_time": "2022-12-13T06:43:01.999987",
     "status": "completed"
    },
    "tags": []
   },
   "source": [
    "### Notebook code"
   ]
  },
  {
   "cell_type": "code",
   "execution_count": 5,
   "id": "c458bbc0",
   "metadata": {
    "execution": {
     "iopub.execute_input": "2022-12-13T06:43:02.010137Z",
     "iopub.status.busy": "2022-12-13T06:43:02.009862Z",
     "iopub.status.idle": "2022-12-13T06:43:02.526649Z",
     "shell.execute_reply": "2022-12-13T06:43:02.525613Z"
    },
    "papermill": {
     "duration": 0.524221,
     "end_time": "2022-12-13T06:43:02.530334",
     "exception": false,
     "start_time": "2022-12-13T06:43:02.006113",
     "status": "completed"
    },
    "tags": []
   },
   "outputs": [
    {
     "name": "stderr",
     "output_type": "stream",
     "text": [
      "2022-12-13 06:43:02,355\tINFO worker.py:842 -- Connecting to existing Ray cluster at address: 172.17.0.2:6379\n"
     ]
    }
   ],
   "source": [
    "from pynb_dag_runner.tasks.task_opentelemetry_logging import PydarLogger\n",
    "\n",
    "logger = PydarLogger(P)"
   ]
  },
  {
   "cell_type": "markdown",
   "id": "cf25fe54",
   "metadata": {
    "papermill": {
     "duration": 0.003632,
     "end_time": "2022-12-13T06:43:02.538233",
     "exception": false,
     "start_time": "2022-12-13T06:43:02.534601",
     "status": "completed"
    },
    "tags": []
   },
   "source": [
    "## Load and limit train data"
   ]
  },
  {
   "cell_type": "code",
   "execution_count": 6,
   "id": "c7039533",
   "metadata": {
    "execution": {
     "iopub.execute_input": "2022-12-13T06:43:02.546729Z",
     "iopub.status.busy": "2022-12-13T06:43:02.546369Z",
     "iopub.status.idle": "2022-12-13T06:43:02.989542Z",
     "shell.execute_reply": "2022-12-13T06:43:02.988854Z"
    },
    "papermill": {
     "duration": 0.450794,
     "end_time": "2022-12-13T06:43:02.992115",
     "exception": false,
     "start_time": "2022-12-13T06:43:02.541321",
     "status": "completed"
    },
    "tags": []
   },
   "outputs": [],
   "source": [
    "def load_and_limit_train_data(P):\n",
    "    from common.io import datalake_root, read_numpy\n",
    "    from sklearn.model_selection import train_test_split\n",
    "\n",
    "    X_train_all = read_numpy(datalake_root(P) / \"train-data\" / \"digits.numpy\")\n",
    "    y_train_all = read_numpy(datalake_root(P) / \"train-data\" / \"labels.numpy\")\n",
    "\n",
    "    assert isinstance(P[\"task.nr_train_images\"], int)\n",
    "\n",
    "    # Note: train_test_split will fail if split is 0 or 100%.\n",
    "    assert 0 < P[\"task.nr_train_images\"] < len(y_train_all)\n",
    "\n",
    "    X_train, _, y_train, _ = train_test_split(\n",
    "        X_train_all,\n",
    "        y_train_all,\n",
    "        train_size=P[\"task.nr_train_images\"],\n",
    "        test_size=None,\n",
    "        stratify=y_train_all,\n",
    "        shuffle=True,\n",
    "        random_state=123,\n",
    "    )\n",
    "\n",
    "    assert X_train.shape == (len(y_train), 8 * 8)\n",
    "    return X_train, y_train\n",
    "\n",
    "\n",
    "X_train, y_train = load_and_limit_train_data(P)"
   ]
  },
  {
   "cell_type": "markdown",
   "id": "eab96f37",
   "metadata": {
    "papermill": {
     "duration": 0.003492,
     "end_time": "2022-12-13T06:43:02.999091",
     "exception": false,
     "start_time": "2022-12-13T06:43:02.995599",
     "status": "completed"
    },
    "tags": []
   },
   "source": [
    "## Train support vector classifier model\n",
    "\n",
    "Below we assume that the hyperparameter $C$ is known.\n",
    "\n",
    "However, this should ideally be found by a hyperparameter search. That could be\n",
    "done in parallel on the Ray cluster, but this needs some more work. Ie., to use\n",
    "multiple cores in the notebook, those cores should be reserved when starting the\n",
    "notebook task (TODO).\n",
    "\n",
    "- https://docs.ray.io/en/latest/tune/key-concepts.html\n",
    "\n",
    "Note: cv-scores would need to be computed here, since they depend on the train data.\n",
    "After this notebook only the onnx-model is available."
   ]
  },
  {
   "cell_type": "code",
   "execution_count": 7,
   "id": "42293790",
   "metadata": {
    "execution": {
     "iopub.execute_input": "2022-12-13T06:43:03.007666Z",
     "iopub.status.busy": "2022-12-13T06:43:03.007274Z",
     "iopub.status.idle": "2022-12-13T06:43:03.118640Z",
     "shell.execute_reply": "2022-12-13T06:43:03.117997Z"
    },
    "papermill": {
     "duration": 0.117849,
     "end_time": "2022-12-13T06:43:03.120645",
     "exception": false,
     "start_time": "2022-12-13T06:43:03.002796",
     "status": "completed"
    },
    "tags": []
   },
   "outputs": [],
   "source": [
    "from sklearn.svm import SVC"
   ]
  },
  {
   "cell_type": "code",
   "execution_count": 8,
   "id": "45af3e9a",
   "metadata": {
    "execution": {
     "iopub.execute_input": "2022-12-13T06:43:03.130869Z",
     "iopub.status.busy": "2022-12-13T06:43:03.130292Z",
     "iopub.status.idle": "2022-12-13T06:43:03.200933Z",
     "shell.execute_reply": "2022-12-13T06:43:03.200251Z"
    },
    "papermill": {
     "duration": 0.077651,
     "end_time": "2022-12-13T06:43:03.202689",
     "exception": false,
     "start_time": "2022-12-13T06:43:03.125038",
     "status": "completed"
    },
    "tags": []
   },
   "outputs": [
    {
     "data": {
      "text/html": [
       "<style>#sk-container-id-1 {color: black;background-color: white;}#sk-container-id-1 pre{padding: 0;}#sk-container-id-1 div.sk-toggleable {background-color: white;}#sk-container-id-1 label.sk-toggleable__label {cursor: pointer;display: block;width: 100%;margin-bottom: 0;padding: 0.3em;box-sizing: border-box;text-align: center;}#sk-container-id-1 label.sk-toggleable__label-arrow:before {content: \"▸\";float: left;margin-right: 0.25em;color: #696969;}#sk-container-id-1 label.sk-toggleable__label-arrow:hover:before {color: black;}#sk-container-id-1 div.sk-estimator:hover label.sk-toggleable__label-arrow:before {color: black;}#sk-container-id-1 div.sk-toggleable__content {max-height: 0;max-width: 0;overflow: hidden;text-align: left;background-color: #f0f8ff;}#sk-container-id-1 div.sk-toggleable__content pre {margin: 0.2em;color: black;border-radius: 0.25em;background-color: #f0f8ff;}#sk-container-id-1 input.sk-toggleable__control:checked~div.sk-toggleable__content {max-height: 200px;max-width: 100%;overflow: auto;}#sk-container-id-1 input.sk-toggleable__control:checked~label.sk-toggleable__label-arrow:before {content: \"▾\";}#sk-container-id-1 div.sk-estimator input.sk-toggleable__control:checked~label.sk-toggleable__label {background-color: #d4ebff;}#sk-container-id-1 div.sk-label input.sk-toggleable__control:checked~label.sk-toggleable__label {background-color: #d4ebff;}#sk-container-id-1 input.sk-hidden--visually {border: 0;clip: rect(1px 1px 1px 1px);clip: rect(1px, 1px, 1px, 1px);height: 1px;margin: -1px;overflow: hidden;padding: 0;position: absolute;width: 1px;}#sk-container-id-1 div.sk-estimator {font-family: monospace;background-color: #f0f8ff;border: 1px dotted black;border-radius: 0.25em;box-sizing: border-box;margin-bottom: 0.5em;}#sk-container-id-1 div.sk-estimator:hover {background-color: #d4ebff;}#sk-container-id-1 div.sk-parallel-item::after {content: \"\";width: 100%;border-bottom: 1px solid gray;flex-grow: 1;}#sk-container-id-1 div.sk-label:hover label.sk-toggleable__label {background-color: #d4ebff;}#sk-container-id-1 div.sk-serial::before {content: \"\";position: absolute;border-left: 1px solid gray;box-sizing: border-box;top: 0;bottom: 0;left: 50%;z-index: 0;}#sk-container-id-1 div.sk-serial {display: flex;flex-direction: column;align-items: center;background-color: white;padding-right: 0.2em;padding-left: 0.2em;position: relative;}#sk-container-id-1 div.sk-item {position: relative;z-index: 1;}#sk-container-id-1 div.sk-parallel {display: flex;align-items: stretch;justify-content: center;background-color: white;position: relative;}#sk-container-id-1 div.sk-item::before, #sk-container-id-1 div.sk-parallel-item::before {content: \"\";position: absolute;border-left: 1px solid gray;box-sizing: border-box;top: 0;bottom: 0;left: 50%;z-index: -1;}#sk-container-id-1 div.sk-parallel-item {display: flex;flex-direction: column;z-index: 1;position: relative;background-color: white;}#sk-container-id-1 div.sk-parallel-item:first-child::after {align-self: flex-end;width: 50%;}#sk-container-id-1 div.sk-parallel-item:last-child::after {align-self: flex-start;width: 50%;}#sk-container-id-1 div.sk-parallel-item:only-child::after {width: 0;}#sk-container-id-1 div.sk-dashed-wrapped {border: 1px dashed gray;margin: 0 0.4em 0.5em 0.4em;box-sizing: border-box;padding-bottom: 0.4em;background-color: white;}#sk-container-id-1 div.sk-label label {font-family: monospace;font-weight: bold;display: inline-block;line-height: 1.2em;}#sk-container-id-1 div.sk-label-container {text-align: center;}#sk-container-id-1 div.sk-container {/* jupyter's `normalize.less` sets `[hidden] { display: none; }` but bootstrap.min.css set `[hidden] { display: none !important; }` so we also need the `!important` here to be able to override the default hidden behavior on the sphinx rendered scikit-learn.org. See: https://github.com/scikit-learn/scikit-learn/issues/21755 */display: inline-block !important;position: relative;}#sk-container-id-1 div.sk-text-repr-fallback {display: none;}</style><div id=\"sk-container-id-1\" class=\"sk-top-container\"><div class=\"sk-text-repr-fallback\"><pre>SVC(C=0.001, kernel=&#x27;linear&#x27;, probability=True)</pre><b>In a Jupyter environment, please rerun this cell to show the HTML representation or trust the notebook. <br />On GitHub, the HTML representation is unable to render, please try loading this page with nbviewer.org.</b></div><div class=\"sk-container\" hidden><div class=\"sk-item\"><div class=\"sk-estimator sk-toggleable\"><input class=\"sk-toggleable__control sk-hidden--visually\" id=\"sk-estimator-id-1\" type=\"checkbox\" checked><label for=\"sk-estimator-id-1\" class=\"sk-toggleable__label sk-toggleable__label-arrow\">SVC</label><div class=\"sk-toggleable__content\"><pre>SVC(C=0.001, kernel=&#x27;linear&#x27;, probability=True)</pre></div></div></div></div></div>"
      ],
      "text/plain": [
       "SVC(C=0.001, kernel='linear', probability=True)"
      ]
     },
     "execution_count": 8,
     "metadata": {},
     "output_type": "execute_result"
    }
   ],
   "source": [
    "model = SVC(C=0.001, kernel=\"linear\", probability=True)\n",
    "\n",
    "model.fit(X_train, y_train)"
   ]
  },
  {
   "cell_type": "markdown",
   "id": "01c97d23",
   "metadata": {
    "papermill": {
     "duration": 0.003603,
     "end_time": "2022-12-13T06:43:03.210139",
     "exception": false,
     "start_time": "2022-12-13T06:43:03.206536",
     "status": "completed"
    },
    "tags": []
   },
   "source": [
    "### Q: Can the labels returned by `predict(..)` be computed from probabilities returned by the `predict_prob`-method?"
   ]
  },
  {
   "cell_type": "code",
   "execution_count": 9,
   "id": "475d0007",
   "metadata": {
    "execution": {
     "iopub.execute_input": "2022-12-13T06:43:03.218733Z",
     "iopub.status.busy": "2022-12-13T06:43:03.218465Z",
     "iopub.status.idle": "2022-12-13T06:43:03.249824Z",
     "shell.execute_reply": "2022-12-13T06:43:03.249080Z"
    },
    "papermill": {
     "duration": 0.038002,
     "end_time": "2022-12-13T06:43:03.251437",
     "exception": false,
     "start_time": "2022-12-13T06:43:03.213435",
     "status": "completed"
    },
    "tags": []
   },
   "outputs": [
    {
     "name": "stdout",
     "output_type": "stream",
     "text": [
      " - Logging nr_max_prob_neq_label (int) : 2\n"
     ]
    }
   ],
   "source": [
    "import numpy as np\n",
    "\n",
    "y_train_labels = model.predict(X_train)\n",
    "y_train_probabilities = model.predict_proba(X_train)\n",
    "assert y_train_probabilities.shape == (len(y_train), 10)\n",
    "\n",
    "y_train_max_prob_labels = np.argmax(y_train_probabilities, axis=1)\n",
    "assert y_train_labels.shape == y_train_max_prob_labels.shape == y_train.shape\n",
    "\n",
    "# If the predicted labels would coincide with the labels that have\n",
    "# maximum probability, the below number would be zero\n",
    "logger.log_int(\n",
    "    \"nr_max_prob_neq_label\", int(sum(y_train_max_prob_labels != y_train_labels))\n",
    ")"
   ]
  },
  {
   "cell_type": "markdown",
   "id": "30fa47a4",
   "metadata": {
    "papermill": {
     "duration": 0.003674,
     "end_time": "2022-12-13T06:43:03.258901",
     "exception": false,
     "start_time": "2022-12-13T06:43:03.255227",
     "status": "completed"
    },
    "tags": []
   },
   "source": [
    "The explanation is (likely) explained in the SVC source, see\n",
    "[here](https://github.com/scikit-learn/scikit-learn/blob/main/sklearn/svm/_base.py).\n",
    "Namely, the outputs from `predict(..)` and `predict_proba(..)` may not in some\n",
    "cases be compatible since the latter is computed using cross-validation while\n",
    "the former is not. Thus, the above number need not be zero."
   ]
  },
  {
   "cell_type": "markdown",
   "id": "1f2dcf70",
   "metadata": {
    "papermill": {
     "duration": 0.003819,
     "end_time": "2022-12-13T06:43:03.266479",
     "exception": false,
     "start_time": "2022-12-13T06:43:03.262660",
     "status": "completed"
    },
    "tags": []
   },
   "source": [
    "## Persist model"
   ]
  },
  {
   "cell_type": "code",
   "execution_count": 10,
   "id": "5d575b46",
   "metadata": {
    "execution": {
     "iopub.execute_input": "2022-12-13T06:43:03.275389Z",
     "iopub.status.busy": "2022-12-13T06:43:03.275022Z",
     "iopub.status.idle": "2022-12-13T06:43:05.000948Z",
     "shell.execute_reply": "2022-12-13T06:43:05.000367Z"
    },
    "papermill": {
     "duration": 1.732241,
     "end_time": "2022-12-13T06:43:05.002541",
     "exception": false,
     "start_time": "2022-12-13T06:43:03.270300",
     "status": "completed"
    },
    "tags": []
   },
   "outputs": [],
   "source": [
    "from skl2onnx import convert_sklearn\n",
    "from skl2onnx.common.data_types import FloatTensorType\n",
    "\n",
    "#\n",
    "from common.io import datalake_root, write_onnx"
   ]
  },
  {
   "cell_type": "code",
   "execution_count": 11,
   "id": "a75336c6",
   "metadata": {
    "execution": {
     "iopub.execute_input": "2022-12-13T06:43:05.011526Z",
     "iopub.status.busy": "2022-12-13T06:43:05.011190Z",
     "iopub.status.idle": "2022-12-13T06:43:05.049459Z",
     "shell.execute_reply": "2022-12-13T06:43:05.048689Z"
    },
    "papermill": {
     "duration": 0.044806,
     "end_time": "2022-12-13T06:43:05.051513",
     "exception": false,
     "start_time": "2022-12-13T06:43:05.006707",
     "status": "completed"
    },
    "tags": []
   },
   "outputs": [],
   "source": [
    "# convert sklearn model into onnx and persist to data lake\n",
    "\n",
    "model_onnx = convert_sklearn(\n",
    "    model, initial_types=[(\"float_input_8x8_image\", FloatTensorType([None, 8 * 8]))]\n",
    ")\n",
    "write_onnx(\n",
    "    datalake_root(P)\n",
    "    / \"models\"\n",
    "    / f\"nr_train_images={P['task.nr_train_images']}\"\n",
    "    / \"model.onnx\",\n",
    "    model_onnx,\n",
    ")"
   ]
  },
  {
   "cell_type": "code",
   "execution_count": null,
   "id": "abe3d069",
   "metadata": {
    "papermill": {
     "duration": 0.003672,
     "end_time": "2022-12-13T06:43:05.059467",
     "exception": false,
     "start_time": "2022-12-13T06:43:05.055795",
     "status": "completed"
    },
    "tags": []
   },
   "outputs": [],
   "source": []
  }
 ],
 "metadata": {
  "jupytext": {
   "cell_metadata_filter": "tags,-all",
   "main_language": "python",
   "notebook_metadata_filter": "-all"
  },
  "language_info": {
   "codemirror_mode": {
    "name": "ipython",
    "version": 3
   },
   "file_extension": ".py",
   "mimetype": "text/x-python",
   "name": "python",
   "nbconvert_exporter": "python",
   "pygments_lexer": "ipython3",
   "version": "3.8.10"
  },
  "papermill": {
   "default_parameters": {},
   "duration": 5.432965,
   "end_time": "2022-12-13T06:43:06.088548",
   "environment_variables": {},
   "exception": null,
   "input_path": "/home/host_user/workspace/mnist-demo-pipeline/mnist-demo-pipeline/notebooks/temp-notebook-u38d5uo6.ipynb",
   "output_path": "notebooks/train-model.ipynb",
   "parameters": {
    "P": {
     "_opentelemetry_traceparent": "00-659a8d30b31143831d02390663dc0fa8-692334cc7520b6b0-01",
     "pipeline.data_lake_root": "/pipeline-outputs/data-lake",
     "pipeline.github.actor": "matiasdahl",
     "pipeline.github.base_ref": "",
     "pipeline.github.event_name": "schedule",
     "pipeline.github.head_ref": "",
     "pipeline.github.job": "run-tests-pipeline-and-persist-pipeline-outputs",
     "pipeline.github.ref": "refs/heads/development",
     "pipeline.github.ref_name": "development",
     "pipeline.github.ref_type": "branch",
     "pipeline.github.repository": "matiasdahl/dev-mnist-digits-demo-pipeline",
     "pipeline.github.run_id": "3682940783",
     "pipeline.github.runner_name": "Hosted Agent",
     "pipeline.github.sha": "ace0d01011d5e914f1921450dd5a59c11367b38d",
     "pipeline.github.workflow": "Run automated tests, pipeline and deploy results to static reporting site",
     "pipeline.pipeline_run_id": "80271420-4ed1-4858-81ac-ba542d9aa581",
     "pipeline.run_environment": "ci",
     "run.retry_nr": "0",
     "task.max_nr_retries": "1",
     "task.notebook": "notebooks/train-model.py",
     "task.nr_train_images": 600,
     "task.num_cpus": 1,
     "task.timeout_s": "None"
    }
   },
   "start_time": "2022-12-13T06:43:00.655583",
   "version": "2.3.3"
  }
 },
 "nbformat": 4,
 "nbformat_minor": 5
}