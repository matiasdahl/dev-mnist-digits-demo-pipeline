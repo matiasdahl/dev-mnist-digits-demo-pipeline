{
 "cells": [
  {
   "cell_type": "markdown",
   "id": "04a96e9f",
   "metadata": {
    "papermill": {
     "duration": 0.003806,
     "end_time": "2022-12-13T06:43:42.617647",
     "exception": false,
     "start_time": "2022-12-13T06:43:42.613841",
     "status": "completed"
    },
    "tags": []
   },
   "source": [
    "# Summarize model performances\n",
    "\n",
    "This notebooks plots the performances (using averaged ROC AUC scores) for models\n",
    "trained with different training sets."
   ]
  },
  {
   "cell_type": "markdown",
   "id": "8cb443bd",
   "metadata": {
    "papermill": {
     "duration": 0.002283,
     "end_time": "2022-12-13T06:43:42.623192",
     "exception": false,
     "start_time": "2022-12-13T06:43:42.620909",
     "status": "completed"
    },
    "tags": []
   },
   "source": [
    "### Determine run parameters"
   ]
  },
  {
   "cell_type": "code",
   "execution_count": 1,
   "id": "1dce78be",
   "metadata": {
    "execution": {
     "iopub.execute_input": "2022-12-13T06:43:42.629600Z",
     "iopub.status.busy": "2022-12-13T06:43:42.629068Z",
     "iopub.status.idle": "2022-12-13T06:43:42.635765Z",
     "shell.execute_reply": "2022-12-13T06:43:42.635184Z"
    },
    "lines_to_next_cell": 0,
    "papermill": {
     "duration": 0.011654,
     "end_time": "2022-12-13T06:43:42.637189",
     "exception": false,
     "start_time": "2022-12-13T06:43:42.625535",
     "status": "completed"
    },
    "tags": []
   },
   "outputs": [],
   "source": [
    "# ----------------- Parameters for interactive development --------------\n",
    "P = {\n",
    "    \"pipeline.run_environment\": \"dev\",\n",
    "}"
   ]
  },
  {
   "cell_type": "code",
   "execution_count": 2,
   "id": "b1936e78",
   "metadata": {
    "execution": {
     "iopub.execute_input": "2022-12-13T06:43:42.643485Z",
     "iopub.status.busy": "2022-12-13T06:43:42.643081Z",
     "iopub.status.idle": "2022-12-13T06:43:42.646012Z",
     "shell.execute_reply": "2022-12-13T06:43:42.645448Z"
    },
    "lines_to_next_cell": 0,
    "papermill": {
     "duration": 0.007747,
     "end_time": "2022-12-13T06:43:42.647381",
     "exception": false,
     "start_time": "2022-12-13T06:43:42.639634",
     "status": "completed"
    },
    "tags": [
     "parameters"
    ]
   },
   "outputs": [],
   "source": [
    "# - During automated runs parameters will be injected in the below cell -"
   ]
  },
  {
   "cell_type": "code",
   "execution_count": 3,
   "id": "d689b423",
   "metadata": {
    "execution": {
     "iopub.execute_input": "2022-12-13T06:43:42.654069Z",
     "iopub.status.busy": "2022-12-13T06:43:42.653537Z",
     "iopub.status.idle": "2022-12-13T06:43:42.657986Z",
     "shell.execute_reply": "2022-12-13T06:43:42.657377Z"
    },
    "papermill": {
     "duration": 0.009502,
     "end_time": "2022-12-13T06:43:42.659282",
     "exception": false,
     "start_time": "2022-12-13T06:43:42.649780",
     "status": "completed"
    },
    "tags": [
     "injected-parameters"
    ]
   },
   "outputs": [],
   "source": [
    "# Parameters\n",
    "P = {\n",
    "    \"pipeline.data_lake_root\": \"/pipeline-outputs/data-lake\",\n",
    "    \"pipeline.run_environment\": \"ci\",\n",
    "    \"pipeline.pipeline_run_id\": \"80271420-4ed1-4858-81ac-ba542d9aa581\",\n",
    "    \"pipeline.github.repository\": \"matiasdahl/dev-mnist-digits-demo-pipeline\",\n",
    "    \"pipeline.github.workflow\": \"Run automated tests, pipeline and deploy results to static reporting site\",\n",
    "    \"pipeline.github.runner_name\": \"Hosted Agent\",\n",
    "    \"pipeline.github.run_id\": \"3682940783\",\n",
    "    \"pipeline.github.actor\": \"matiasdahl\",\n",
    "    \"pipeline.github.job\": \"run-tests-pipeline-and-persist-pipeline-outputs\",\n",
    "    \"pipeline.github.base_ref\": \"\",\n",
    "    \"pipeline.github.head_ref\": \"\",\n",
    "    \"pipeline.github.sha\": \"ace0d01011d5e914f1921450dd5a59c11367b38d\",\n",
    "    \"pipeline.github.ref\": \"refs/heads/development\",\n",
    "    \"pipeline.github.ref_type\": \"branch\",\n",
    "    \"pipeline.github.ref_name\": \"development\",\n",
    "    \"pipeline.github.event_name\": \"schedule\",\n",
    "    \"task.notebook\": \"notebooks/summary.py\",\n",
    "    \"task.max_nr_retries\": \"1\",\n",
    "    \"run.retry_nr\": \"0\",\n",
    "    \"task.timeout_s\": \"None\",\n",
    "    \"task.num_cpus\": 1,\n",
    "    \"_opentelemetry_traceparent\": \"00-659a8d30b31143831d02390663dc0fa8-dbd14353a305a99d-01\",\n",
    "}\n"
   ]
  },
  {
   "cell_type": "code",
   "execution_count": 4,
   "id": "186e42f6",
   "metadata": {
    "execution": {
     "iopub.execute_input": "2022-12-13T06:43:42.665518Z",
     "iopub.status.busy": "2022-12-13T06:43:42.665127Z",
     "iopub.status.idle": "2022-12-13T06:43:42.668076Z",
     "shell.execute_reply": "2022-12-13T06:43:42.667338Z"
    },
    "lines_to_next_cell": 0,
    "papermill": {
     "duration": 0.007498,
     "end_time": "2022-12-13T06:43:42.669367",
     "exception": false,
     "start_time": "2022-12-13T06:43:42.661869",
     "status": "completed"
    },
    "tags": []
   },
   "outputs": [],
   "source": [
    "# -----------------------------------------------------------------------"
   ]
  },
  {
   "cell_type": "markdown",
   "id": "1839e2fd",
   "metadata": {
    "papermill": {
     "duration": 0.00232,
     "end_time": "2022-12-13T06:43:42.674217",
     "exception": false,
     "start_time": "2022-12-13T06:43:42.671897",
     "status": "completed"
    },
    "tags": []
   },
   "source": [
    "---"
   ]
  },
  {
   "cell_type": "markdown",
   "id": "fe25ca04",
   "metadata": {
    "lines_to_next_cell": 2,
    "papermill": {
     "duration": 0.002481,
     "end_time": "2022-12-13T06:43:42.679252",
     "exception": false,
     "start_time": "2022-12-13T06:43:42.676771",
     "status": "completed"
    },
    "tags": []
   },
   "source": [
    "### Notebook code"
   ]
  },
  {
   "cell_type": "code",
   "execution_count": 5,
   "id": "079e62ac",
   "metadata": {
    "execution": {
     "iopub.execute_input": "2022-12-13T06:43:42.686633Z",
     "iopub.status.busy": "2022-12-13T06:43:42.686277Z",
     "iopub.status.idle": "2022-12-13T06:43:43.776770Z",
     "shell.execute_reply": "2022-12-13T06:43:43.776011Z"
    },
    "papermill": {
     "duration": 1.096442,
     "end_time": "2022-12-13T06:43:43.779517",
     "exception": false,
     "start_time": "2022-12-13T06:43:42.683075",
     "status": "completed"
    },
    "tags": []
   },
   "outputs": [],
   "source": [
    "#\n",
    "import pandas as pd\n",
    "import matplotlib.pyplot as plt\n",
    "\n",
    "#\n",
    "from pynb_dag_runner.tasks.task_opentelemetry_logging import PydarLogger"
   ]
  },
  {
   "cell_type": "code",
   "execution_count": 6,
   "id": "aaf12849",
   "metadata": {
    "execution": {
     "iopub.execute_input": "2022-12-13T06:43:43.786821Z",
     "iopub.status.busy": "2022-12-13T06:43:43.786133Z",
     "iopub.status.idle": "2022-12-13T06:43:43.939876Z",
     "shell.execute_reply": "2022-12-13T06:43:43.938387Z"
    },
    "papermill": {
     "duration": 0.159864,
     "end_time": "2022-12-13T06:43:43.942316",
     "exception": false,
     "start_time": "2022-12-13T06:43:43.782452",
     "status": "completed"
    },
    "tags": []
   },
   "outputs": [
    {
     "name": "stderr",
     "output_type": "stream",
     "text": [
      "2022-12-13 06:43:43,790\tINFO worker.py:842 -- Connecting to existing Ray cluster at address: 172.17.0.2:6379\n"
     ]
    }
   ],
   "source": [
    "logger = PydarLogger(P=P)"
   ]
  },
  {
   "cell_type": "code",
   "execution_count": 7,
   "id": "448a222f",
   "metadata": {
    "execution": {
     "iopub.execute_input": "2022-12-13T06:43:43.950310Z",
     "iopub.status.busy": "2022-12-13T06:43:43.949568Z",
     "iopub.status.idle": "2022-12-13T06:43:43.954040Z",
     "shell.execute_reply": "2022-12-13T06:43:43.953411Z"
    },
    "papermill": {
     "duration": 0.010312,
     "end_time": "2022-12-13T06:43:43.955666",
     "exception": false,
     "start_time": "2022-12-13T06:43:43.945354",
     "status": "completed"
    },
    "tags": []
   },
   "outputs": [],
   "source": [
    "from pynb_dag_runner.tasks.task_opentelemetry_logging import (\n",
    "    PydarLogger,\n",
    "    get_logged_values,\n",
    ")\n",
    "from pynb_dag_runner.opentelemetry_helpers import _get_all_spans, Spans"
   ]
  },
  {
   "cell_type": "code",
   "execution_count": 8,
   "id": "ffb6cb12",
   "metadata": {
    "execution": {
     "iopub.execute_input": "2022-12-13T06:43:43.963633Z",
     "iopub.status.busy": "2022-12-13T06:43:43.963016Z",
     "iopub.status.idle": "2022-12-13T06:43:43.969900Z",
     "shell.execute_reply": "2022-12-13T06:43:43.969175Z"
    },
    "papermill": {
     "duration": 0.013202,
     "end_time": "2022-12-13T06:43:43.972101",
     "exception": false,
     "start_time": "2022-12-13T06:43:43.958899",
     "status": "completed"
    },
    "tags": []
   },
   "outputs": [],
   "source": [
    "def get_model_benchmarks():\n",
    "    \"\"\"\n",
    "    Query the OpenTelemetry logs for *this pipeline run* and return\n",
    "    all key-values logged from all runs of the benchmark-model.py task\n",
    "\n",
    "    For testing a json file with OpenTelemetry spans (as an array)\n",
    "    can be used as follows:\n",
    "\n",
    "    - Create output directory `mkdir /tmp/spans`\n",
    "    - Run unit tests. This will create pipeline-outputs/opentelemetry-spans.json\n",
    "    - Convert this json-array into jsonl format as follows\n",
    "\n",
    "    jq -c '.[]' /pipeline-outputs/opentelemetry-spans.json > /tmp/spans/data.txt\n",
    "\n",
    "    \"\"\"\n",
    "    spans: Spans = Spans(_get_all_spans())\n",
    "    print(f\"Found {len(spans)} spans\")\n",
    "\n",
    "    benchmark_spans = (\n",
    "        spans\n",
    "        # -\n",
    "        .filter([\"name\"], \"execute-task\")\n",
    "        # -\n",
    "        .filter([\"attributes\", \"task.notebook\"], \"notebooks/benchmark-model.py\")\n",
    "    )\n",
    "\n",
    "    result = []\n",
    "    for s in benchmark_spans:\n",
    "        result.append(\n",
    "            {\n",
    "                \"span_id\": s[\"context\"][\"span_id\"],\n",
    "                \"nr_train_images\": s[\"attributes\"][\"task.nr_train_images\"],\n",
    "                \"data\": get_logged_values(spans.bound_under(s)),\n",
    "            }\n",
    "        )\n",
    "\n",
    "    return result\n",
    "\n",
    "\n",
    "def adjust_pandas(df):\n",
    "    def column_renamer(col_name: str) -> str:\n",
    "        return (\n",
    "            col_name\n",
    "            # -- 'data.roc_auc_per_digit.4' -> 'roc_auc.4'\n",
    "            .replace(\"data.roc_auc_per_digit\", \"roc_auc\")\n",
    "            # -- 'data.roc_auc_class_mean' -> 'roc_auc_mean'\n",
    "            .replace(\"data.roc_auc_class_mean\", \"roc_auc_mean\")\n",
    "        )\n",
    "\n",
    "    return df.rename(column_renamer, axis=\"columns\").sort_values(by=\"nr_train_images\")"
   ]
  },
  {
   "cell_type": "code",
   "execution_count": 9,
   "id": "7c0a4067",
   "metadata": {
    "execution": {
     "iopub.execute_input": "2022-12-13T06:43:43.979732Z",
     "iopub.status.busy": "2022-12-13T06:43:43.979262Z",
     "iopub.status.idle": "2022-12-13T06:43:44.020013Z",
     "shell.execute_reply": "2022-12-13T06:43:44.019228Z"
    },
    "papermill": {
     "duration": 0.04765,
     "end_time": "2022-12-13T06:43:44.022658",
     "exception": false,
     "start_time": "2022-12-13T06:43:43.975008",
     "status": "completed"
    },
    "tags": []
   },
   "outputs": [
    {
     "name": "stdout",
     "output_type": "stream",
     "text": [
      "Found 423 spans\n"
     ]
    }
   ],
   "source": [
    "df_data = adjust_pandas(pd.json_normalize(get_model_benchmarks()))"
   ]
  },
  {
   "cell_type": "code",
   "execution_count": 10,
   "id": "ed942d51",
   "metadata": {
    "execution": {
     "iopub.execute_input": "2022-12-13T06:43:44.033789Z",
     "iopub.status.busy": "2022-12-13T06:43:44.033445Z",
     "iopub.status.idle": "2022-12-13T06:43:44.061722Z",
     "shell.execute_reply": "2022-12-13T06:43:44.060700Z"
    },
    "papermill": {
     "duration": 0.037414,
     "end_time": "2022-12-13T06:43:44.063507",
     "exception": false,
     "start_time": "2022-12-13T06:43:44.026093",
     "status": "completed"
    },
    "tags": []
   },
   "outputs": [
    {
     "data": {
      "text/html": [
       "<div>\n",
       "<style scoped>\n",
       "    .dataframe tbody tr th:only-of-type {\n",
       "        vertical-align: middle;\n",
       "    }\n",
       "\n",
       "    .dataframe tbody tr th {\n",
       "        vertical-align: top;\n",
       "    }\n",
       "\n",
       "    .dataframe thead th {\n",
       "        text-align: right;\n",
       "    }\n",
       "</style>\n",
       "<table border=\"1\" class=\"dataframe\">\n",
       "  <thead>\n",
       "    <tr style=\"text-align: right;\">\n",
       "      <th></th>\n",
       "      <th>span_id</th>\n",
       "      <th>nr_train_images</th>\n",
       "      <th>roc_auc_mean</th>\n",
       "      <th>roc_auc.0</th>\n",
       "      <th>roc_auc.1</th>\n",
       "      <th>roc_auc.2</th>\n",
       "      <th>roc_auc.3</th>\n",
       "      <th>roc_auc.4</th>\n",
       "      <th>roc_auc.5</th>\n",
       "      <th>roc_auc.6</th>\n",
       "      <th>roc_auc.7</th>\n",
       "      <th>roc_auc.8</th>\n",
       "      <th>roc_auc.9</th>\n",
       "    </tr>\n",
       "  </thead>\n",
       "  <tbody>\n",
       "    <tr>\n",
       "      <th>3</th>\n",
       "      <td>0x0b39677e5e546db5</td>\n",
       "      <td>600</td>\n",
       "      <td>0.9990</td>\n",
       "      <td>1.0</td>\n",
       "      <td>0.9992</td>\n",
       "      <td>1.0</td>\n",
       "      <td>0.9997</td>\n",
       "      <td>0.9990</td>\n",
       "      <td>0.9988</td>\n",
       "      <td>0.9999</td>\n",
       "      <td>0.9998</td>\n",
       "      <td>0.9946</td>\n",
       "      <td>0.9988</td>\n",
       "    </tr>\n",
       "    <tr>\n",
       "      <th>1</th>\n",
       "      <td>0xfbd615e980a54c62</td>\n",
       "      <td>800</td>\n",
       "      <td>0.9989</td>\n",
       "      <td>1.0</td>\n",
       "      <td>0.9988</td>\n",
       "      <td>1.0</td>\n",
       "      <td>0.9998</td>\n",
       "      <td>0.9995</td>\n",
       "      <td>0.9990</td>\n",
       "      <td>0.9999</td>\n",
       "      <td>0.9999</td>\n",
       "      <td>0.9928</td>\n",
       "      <td>0.9995</td>\n",
       "    </tr>\n",
       "    <tr>\n",
       "      <th>2</th>\n",
       "      <td>0x7be23e6114c140da</td>\n",
       "      <td>1000</td>\n",
       "      <td>0.9992</td>\n",
       "      <td>1.0</td>\n",
       "      <td>0.9990</td>\n",
       "      <td>1.0</td>\n",
       "      <td>0.9999</td>\n",
       "      <td>0.9996</td>\n",
       "      <td>0.9994</td>\n",
       "      <td>0.9999</td>\n",
       "      <td>0.9998</td>\n",
       "      <td>0.9950</td>\n",
       "      <td>0.9995</td>\n",
       "    </tr>\n",
       "    <tr>\n",
       "      <th>0</th>\n",
       "      <td>0xa6aa08fd3a4e0d8a</td>\n",
       "      <td>1200</td>\n",
       "      <td>0.9993</td>\n",
       "      <td>1.0</td>\n",
       "      <td>0.9990</td>\n",
       "      <td>1.0</td>\n",
       "      <td>0.9999</td>\n",
       "      <td>0.9998</td>\n",
       "      <td>0.9997</td>\n",
       "      <td>0.9999</td>\n",
       "      <td>0.9998</td>\n",
       "      <td>0.9956</td>\n",
       "      <td>0.9997</td>\n",
       "    </tr>\n",
       "  </tbody>\n",
       "</table>\n",
       "</div>"
      ],
      "text/plain": [
       "              span_id  nr_train_images  roc_auc_mean  roc_auc.0  roc_auc.1  \\\n",
       "3  0x0b39677e5e546db5              600        0.9990        1.0     0.9992   \n",
       "1  0xfbd615e980a54c62              800        0.9989        1.0     0.9988   \n",
       "2  0x7be23e6114c140da             1000        0.9992        1.0     0.9990   \n",
       "0  0xa6aa08fd3a4e0d8a             1200        0.9993        1.0     0.9990   \n",
       "\n",
       "   roc_auc.2  roc_auc.3  roc_auc.4  roc_auc.5  roc_auc.6  roc_auc.7  \\\n",
       "3        1.0     0.9997     0.9990     0.9988     0.9999     0.9998   \n",
       "1        1.0     0.9998     0.9995     0.9990     0.9999     0.9999   \n",
       "2        1.0     0.9999     0.9996     0.9994     0.9999     0.9998   \n",
       "0        1.0     0.9999     0.9998     0.9997     0.9999     0.9998   \n",
       "\n",
       "   roc_auc.8  roc_auc.9  \n",
       "3     0.9946     0.9988  \n",
       "1     0.9928     0.9995  \n",
       "2     0.9950     0.9995  \n",
       "0     0.9956     0.9997  "
      ]
     },
     "execution_count": 10,
     "metadata": {},
     "output_type": "execute_result"
    }
   ],
   "source": [
    "df_data.round(4)"
   ]
  },
  {
   "cell_type": "code",
   "execution_count": 11,
   "id": "5e29df96",
   "metadata": {
    "execution": {
     "iopub.execute_input": "2022-12-13T06:43:44.072120Z",
     "iopub.status.busy": "2022-12-13T06:43:44.071732Z",
     "iopub.status.idle": "2022-12-13T06:43:44.236459Z",
     "shell.execute_reply": "2022-12-13T06:43:44.235788Z"
    },
    "papermill": {
     "duration": 0.171136,
     "end_time": "2022-12-13T06:43:44.238308",
     "exception": false,
     "start_time": "2022-12-13T06:43:44.067172",
     "status": "completed"
    },
    "tags": []
   },
   "outputs": [
    {
     "data": {
      "image/png": "[encoded data removed]",
      "text/plain": [
       "<Figure size 1600x400 with 1 Axes>"
      ]
     },
     "metadata": {},
     "output_type": "display_data"
    }
   ],
   "source": [
    "def plot_classifier_performance_summary(df_data):\n",
    "    fig, ax = plt.subplots(nrows=1, ncols=1, figsize=(16, 4), sharex=True)\n",
    "\n",
    "    #\n",
    "    ax.plot(\n",
    "        df_data[\"nr_train_images\"], df_data[\"roc_auc_mean\"], marker=\"o\", linestyle=\"--\"\n",
    "    )\n",
    "    ax.set_title(\n",
    "        f\"ROC AUC digit classifier performance on evaluation digits\", fontsize=17\n",
    "    )\n",
    "    ax.set_xlabel(\"Total number of digits in training set\", fontsize=14)\n",
    "    ax.set_ylabel(\"Mean ROC AUC\", fontsize=14)\n",
    "\n",
    "    fig.tight_layout()\n",
    "    fig.show()\n",
    "\n",
    "    return fig\n",
    "\n",
    "\n",
    "fig = plot_classifier_performance_summary(df_data)"
   ]
  },
  {
   "cell_type": "code",
   "execution_count": 12,
   "id": "d900ab74",
   "metadata": {
    "execution": {
     "iopub.execute_input": "2022-12-13T06:43:44.247696Z",
     "iopub.status.busy": "2022-12-13T06:43:44.246949Z",
     "iopub.status.idle": "2022-12-13T06:43:44.319215Z",
     "shell.execute_reply": "2022-12-13T06:43:44.318656Z"
    },
    "papermill": {
     "duration": 0.078708,
     "end_time": "2022-12-13T06:43:44.320928",
     "exception": false,
     "start_time": "2022-12-13T06:43:44.242220",
     "status": "completed"
    },
    "tags": []
   },
   "outputs": [],
   "source": [
    "logger.log_figure(\"auc-roc-model-performances.png\", fig)"
   ]
  },
  {
   "cell_type": "code",
   "execution_count": 13,
   "id": "b4d84b8d",
   "metadata": {
    "execution": {
     "iopub.execute_input": "2022-12-13T06:43:44.331495Z",
     "iopub.status.busy": "2022-12-13T06:43:44.330917Z",
     "iopub.status.idle": "2022-12-13T06:43:44.333938Z",
     "shell.execute_reply": "2022-12-13T06:43:44.333452Z"
    },
    "papermill": {
     "duration": 0.009988,
     "end_time": "2022-12-13T06:43:44.335820",
     "exception": false,
     "start_time": "2022-12-13T06:43:44.325832",
     "status": "completed"
    },
    "tags": []
   },
   "outputs": [],
   "source": [
    "###"
   ]
  },
  {
   "cell_type": "code",
   "execution_count": null,
   "id": "03809c54",
   "metadata": {
    "papermill": {
     "duration": 0.007265,
     "end_time": "2022-12-13T06:43:44.347188",
     "exception": false,
     "start_time": "2022-12-13T06:43:44.339923",
     "status": "completed"
    },
    "tags": []
   },
   "outputs": [],
   "source": []
  }
 ],
 "metadata": {
  "jupytext": {
   "cell_metadata_filter": "tags,-all",
   "main_language": "python",
   "notebook_metadata_filter": "-all"
  },
  "language_info": {
   "codemirror_mode": {
    "name": "ipython",
    "version": 3
   },
   "file_extension": ".py",
   "mimetype": "text/x-python",
   "name": "python",
   "nbconvert_exporter": "python",
   "pygments_lexer": "ipython3",
   "version": "3.8.10"
  },
  "papermill": {
   "default_parameters": {},
   "duration": 3.933721,
   "end_time": "2022-12-13T06:43:45.370342",
   "environment_variables": {},
   "exception": null,
   "input_path": "/home/host_user/workspace/mnist-demo-pipeline/mnist-demo-pipeline/notebooks/temp-notebook-mxl7jndh.ipynb",
   "output_path": "notebooks/summary.ipynb",
   "parameters": {
    "P": {
     "_opentelemetry_traceparent": "00-659a8d30b31143831d02390663dc0fa8-dbd14353a305a99d-01",
     "pipeline.data_lake_root": "/pipeline-outputs/data-lake",
     "pipeline.github.actor": "matiasdahl",
     "pipeline.github.base_ref": "",
     "pipeline.github.event_name": "schedule",
     "pipeline.github.head_ref": "",
     "pipeline.github.job": "run-tests-pipeline-and-persist-pipeline-outputs",
     "pipeline.github.ref": "refs/heads/development",
     "pipeline.github.ref_name": "development",
     "pipeline.github.ref_type": "branch",
     "pipeline.github.repository": "matiasdahl/dev-mnist-digits-demo-pipeline",
     "pipeline.github.run_id": "3682940783",
     "pipeline.github.runner_name": "Hosted Agent",
     "pipeline.github.sha": "ace0d01011d5e914f1921450dd5a59c11367b38d",
     "pipeline.github.workflow": "Run automated tests, pipeline and deploy results to static reporting site",
     "pipeline.pipeline_run_id": "80271420-4ed1-4858-81ac-ba542d9aa581",
     "pipeline.run_environment": "ci",
     "run.retry_nr": "0",
     "task.max_nr_retries": "1",
     "task.notebook": "notebooks/summary.py",
     "task.num_cpus": 1,
     "task.timeout_s": "None"
    }
   },
   "start_time": "2022-12-13T06:43:41.436621",
   "version": "2.3.3"
  }
 },
 "nbformat": 4,
 "nbformat_minor": 5
}