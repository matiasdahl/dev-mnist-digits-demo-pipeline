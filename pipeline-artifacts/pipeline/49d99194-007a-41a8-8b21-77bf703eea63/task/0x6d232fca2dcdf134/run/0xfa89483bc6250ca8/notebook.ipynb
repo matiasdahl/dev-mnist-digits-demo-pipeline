{
 "cells": [
  {
   "cell_type": "markdown",
   "id": "e2eb2cd7",
   "metadata": {
    "papermill": {
     "duration": 0.010758,
     "end_time": "2022-11-28T06:45:19.591940",
     "exception": false,
     "start_time": "2022-11-28T06:45:19.581182",
     "status": "completed"
    },
    "tags": []
   },
   "source": [
    "# Benchmark model\n",
    "\n",
    "The purpose of this notebook is to benchmark persisted onnx-model (trained in the\n",
    "previous step) against evaluation set."
   ]
  },
  {
   "cell_type": "markdown",
   "id": "c42d74ed",
   "metadata": {
    "papermill": {
     "duration": 0.003924,
     "end_time": "2022-11-28T06:45:19.603570",
     "exception": false,
     "start_time": "2022-11-28T06:45:19.599646",
     "status": "completed"
    },
    "tags": []
   },
   "source": [
    "### Determine run parameters"
   ]
  },
  {
   "cell_type": "code",
   "execution_count": 1,
   "id": "2b852cb3",
   "metadata": {
    "execution": {
     "iopub.execute_input": "2022-11-28T06:45:19.613611Z",
     "iopub.status.busy": "2022-11-28T06:45:19.613263Z",
     "iopub.status.idle": "2022-11-28T06:45:19.622767Z",
     "shell.execute_reply": "2022-11-28T06:45:19.622204Z"
    },
    "lines_to_next_cell": 0,
    "papermill": {
     "duration": 0.016959,
     "end_time": "2022-11-28T06:45:19.624528",
     "exception": false,
     "start_time": "2022-11-28T06:45:19.607569",
     "status": "completed"
    },
    "tags": []
   },
   "outputs": [],
   "source": [
    "# ----------------- Parameters for interactive development --------------\n",
    "P = {\n",
    "    \"pipeline.data_lake_root\": \"/pipeline-outputs/data-lake\",\n",
    "    \"task.nr_train_images\": 600,\n",
    "}"
   ]
  },
  {
   "cell_type": "code",
   "execution_count": 2,
   "id": "3241c303",
   "metadata": {
    "execution": {
     "iopub.execute_input": "2022-11-28T06:45:19.634324Z",
     "iopub.status.busy": "2022-11-28T06:45:19.634089Z",
     "iopub.status.idle": "2022-11-28T06:45:19.637272Z",
     "shell.execute_reply": "2022-11-28T06:45:19.636745Z"
    },
    "lines_to_next_cell": 0,
    "papermill": {
     "duration": 0.011204,
     "end_time": "2022-11-28T06:45:19.640433",
     "exception": false,
     "start_time": "2022-11-28T06:45:19.629229",
     "status": "completed"
    },
    "tags": [
     "parameters"
    ]
   },
   "outputs": [],
   "source": [
    "# - During automated runs parameters will be injected in the below cell -"
   ]
  },
  {
   "cell_type": "code",
   "execution_count": 3,
   "id": "cc5e3e4c",
   "metadata": {
    "execution": {
     "iopub.execute_input": "2022-11-28T06:45:19.649811Z",
     "iopub.status.busy": "2022-11-28T06:45:19.649577Z",
     "iopub.status.idle": "2022-11-28T06:45:19.660286Z",
     "shell.execute_reply": "2022-11-28T06:45:19.659751Z"
    },
    "papermill": {
     "duration": 0.019278,
     "end_time": "2022-11-28T06:45:19.663493",
     "exception": false,
     "start_time": "2022-11-28T06:45:19.644215",
     "status": "completed"
    },
    "tags": [
     "injected-parameters"
    ]
   },
   "outputs": [],
   "source": [
    "# Parameters\n",
    "P = {\n",
    "    \"pipeline.data_lake_root\": \"/pipeline-outputs/data-lake\",\n",
    "    \"pipeline.run_environment\": \"ci\",\n",
    "    \"pipeline.pipeline_run_id\": \"49d99194-007a-41a8-8b21-77bf703eea63\",\n",
    "    \"pipeline.github.repository\": \"matiasdahl/dev-mnist-digits-demo-pipeline\",\n",
    "    \"pipeline.github.workflow\": \"Run automated tests, pipeline and deploy results to static reporting site\",\n",
    "    \"pipeline.github.runner_name\": \"Hosted Agent\",\n",
    "    \"pipeline.github.run_id\": \"3562362414\",\n",
    "    \"pipeline.github.actor\": \"matiasdahl\",\n",
    "    \"pipeline.github.job\": \"run-tests-pipeline-and-persist-pipeline-outputs\",\n",
    "    \"pipeline.github.base_ref\": \"\",\n",
    "    \"pipeline.github.head_ref\": \"\",\n",
    "    \"pipeline.github.sha\": \"ace0d01011d5e914f1921450dd5a59c11367b38d\",\n",
    "    \"pipeline.github.ref\": \"refs/heads/development\",\n",
    "    \"pipeline.github.ref_type\": \"branch\",\n",
    "    \"pipeline.github.ref_name\": \"development\",\n",
    "    \"pipeline.github.event_name\": \"schedule\",\n",
    "    \"task.nr_train_images\": 1000,\n",
    "    \"task.notebook\": \"notebooks/benchmark-model.py\",\n",
    "    \"task.max_nr_retries\": \"1\",\n",
    "    \"run.retry_nr\": \"0\",\n",
    "    \"task.timeout_s\": \"None\",\n",
    "    \"task.num_cpus\": 1,\n",
    "    \"_opentelemetry_traceparent\": \"00-77ab81eb3be968f44ed6fb2299ede894-cb69d1c824516cd1-01\",\n",
    "}\n"
   ]
  },
  {
   "cell_type": "code",
   "execution_count": 4,
   "id": "979ca7ed",
   "metadata": {
    "execution": {
     "iopub.execute_input": "2022-11-28T06:45:19.673130Z",
     "iopub.status.busy": "2022-11-28T06:45:19.672908Z",
     "iopub.status.idle": "2022-11-28T06:45:19.675564Z",
     "shell.execute_reply": "2022-11-28T06:45:19.675047Z"
    },
    "lines_to_next_cell": 0,
    "papermill": {
     "duration": 0.010628,
     "end_time": "2022-11-28T06:45:19.678252",
     "exception": false,
     "start_time": "2022-11-28T06:45:19.667624",
     "status": "completed"
    },
    "tags": []
   },
   "outputs": [],
   "source": [
    "# -----------------------------------------------------------------------"
   ]
  },
  {
   "cell_type": "markdown",
   "id": "79233020",
   "metadata": {
    "papermill": {
     "duration": 0.004238,
     "end_time": "2022-11-28T06:45:19.687014",
     "exception": false,
     "start_time": "2022-11-28T06:45:19.682776",
     "status": "completed"
    },
    "tags": []
   },
   "source": [
    "---"
   ]
  },
  {
   "cell_type": "markdown",
   "id": "e2b7bee6",
   "metadata": {
    "lines_to_next_cell": 2,
    "papermill": {
     "duration": 0.004458,
     "end_time": "2022-11-28T06:45:19.696012",
     "exception": false,
     "start_time": "2022-11-28T06:45:19.691554",
     "status": "completed"
    },
    "tags": []
   },
   "source": [
    "### Notebook code"
   ]
  },
  {
   "cell_type": "code",
   "execution_count": 5,
   "id": "04a70d9c",
   "metadata": {
    "execution": {
     "iopub.execute_input": "2022-11-28T06:45:19.705767Z",
     "iopub.status.busy": "2022-11-28T06:45:19.705495Z",
     "iopub.status.idle": "2022-11-28T06:45:20.830010Z",
     "shell.execute_reply": "2022-11-28T06:45:20.829161Z"
    },
    "papermill": {
     "duration": 1.131857,
     "end_time": "2022-11-28T06:45:20.832140",
     "exception": false,
     "start_time": "2022-11-28T06:45:19.700283",
     "status": "completed"
    },
    "tags": []
   },
   "outputs": [
    {
     "name": "stderr",
     "output_type": "stream",
     "text": [
      "2022-11-28 06:45:20,655\tINFO worker.py:842 -- Connecting to existing Ray cluster at address: 172.17.0.2:6379\n"
     ]
    }
   ],
   "source": [
    "import itertools as it\n",
    "\n",
    "#\n",
    "import numpy as np\n",
    "import matplotlib.pyplot as plt\n",
    "\n",
    "#\n",
    "from pynb_dag_runner.tasks.task_opentelemetry_logging import PydarLogger\n",
    "\n",
    "#\n",
    "from common.io import datalake_root\n",
    "\n",
    "logger = PydarLogger(P)"
   ]
  },
  {
   "cell_type": "markdown",
   "id": "6499d466",
   "metadata": {
    "papermill": {
     "duration": 0.00457,
     "end_time": "2022-11-28T06:45:20.842695",
     "exception": false,
     "start_time": "2022-11-28T06:45:20.838125",
     "status": "completed"
    },
    "tags": []
   },
   "source": [
    "## Load persisted onnx-model and evaluation data"
   ]
  },
  {
   "cell_type": "code",
   "execution_count": 6,
   "id": "38ed4fa2",
   "metadata": {
    "execution": {
     "iopub.execute_input": "2022-11-28T06:45:20.852491Z",
     "iopub.status.busy": "2022-11-28T06:45:20.852108Z",
     "iopub.status.idle": "2022-11-28T06:45:20.856075Z",
     "shell.execute_reply": "2022-11-28T06:45:20.855031Z"
    },
    "papermill": {
     "duration": 0.011675,
     "end_time": "2022-11-28T06:45:20.858740",
     "exception": false,
     "start_time": "2022-11-28T06:45:20.847065",
     "status": "completed"
    },
    "tags": []
   },
   "outputs": [],
   "source": [
    "from common.io import read_onnx, get_onnx_inputs, get_onnx_outputs, read_numpy"
   ]
  },
  {
   "cell_type": "code",
   "execution_count": 7,
   "id": "d1ead500",
   "metadata": {
    "execution": {
     "iopub.execute_input": "2022-11-28T06:45:20.868970Z",
     "iopub.status.busy": "2022-11-28T06:45:20.868741Z",
     "iopub.status.idle": "2022-11-28T06:45:20.879568Z",
     "shell.execute_reply": "2022-11-28T06:45:20.879076Z"
    },
    "lines_to_next_cell": 0,
    "papermill": {
     "duration": 0.017971,
     "end_time": "2022-11-28T06:45:20.881303",
     "exception": false,
     "start_time": "2022-11-28T06:45:20.863332",
     "status": "completed"
    },
    "tags": []
   },
   "outputs": [],
   "source": [
    "onnx_inference_session = read_onnx(\n",
    "    datalake_root(P)\n",
    "    / \"models\"\n",
    "    / f\"nr_train_images={P['task.nr_train_images']}\"\n",
    "    / \"model.onnx\"\n",
    ")"
   ]
  },
  {
   "cell_type": "markdown",
   "id": "2f9598b3",
   "metadata": {
    "papermill": {
     "duration": 0.004534,
     "end_time": "2022-11-28T06:45:20.889863",
     "exception": false,
     "start_time": "2022-11-28T06:45:20.885329",
     "status": "completed"
    },
    "tags": []
   },
   "source": [
    "### Record structure of inputs and outputs for ONNX model\n",
    "\n",
    "(this should likely be done in training notebook)"
   ]
  },
  {
   "cell_type": "code",
   "execution_count": 8,
   "id": "1c0c6b3d",
   "metadata": {
    "execution": {
     "iopub.execute_input": "2022-11-28T06:45:20.900455Z",
     "iopub.status.busy": "2022-11-28T06:45:20.900196Z",
     "iopub.status.idle": "2022-11-28T06:45:20.905741Z",
     "shell.execute_reply": "2022-11-28T06:45:20.905208Z"
    },
    "papermill": {
     "duration": 0.014626,
     "end_time": "2022-11-28T06:45:20.909479",
     "exception": false,
     "start_time": "2022-11-28T06:45:20.894853",
     "status": "completed"
    },
    "tags": []
   },
   "outputs": [
    {
     "name": "stdout",
     "output_type": "stream",
     "text": [
      "{\n",
      "  \"inputs\": [\n",
      "    {\n",
      "      \"name\": \"float_input_8x8_image\",\n",
      "      \"shape\": [\n",
      "        null,\n",
      "        64\n",
      "      ],\n",
      "      \"type\": \"tensor(float)\"\n",
      "    }\n",
      "  ],\n",
      "  \"outputs\": [\n",
      "    {\n",
      "      \"name\": \"output_label\",\n",
      "      \"shape\": [\n",
      "        null\n",
      "      ],\n",
      "      \"type\": \"tensor(int64)\"\n",
      "    },\n",
      "    {\n",
      "      \"name\": \"output_probability\",\n",
      "      \"shape\": [],\n",
      "      \"type\": \"seq(map(int64,tensor(float)))\"\n",
      "    }\n",
      "  ]\n",
      "}\n"
     ]
    }
   ],
   "source": [
    "import json\n",
    "\n",
    "onnx_io = json.dumps(\n",
    "    {\n",
    "        \"inputs\": get_onnx_inputs(onnx_inference_session),\n",
    "        \"outputs\": get_onnx_outputs(onnx_inference_session),\n",
    "    },\n",
    "    indent=2,\n",
    ")\n",
    "\n",
    "\n",
    "logger.log_artefact(\"onnx_io_structure.json\", onnx_io)\n",
    "print(onnx_io)"
   ]
  },
  {
   "cell_type": "markdown",
   "id": "2c641f45",
   "metadata": {
    "papermill": {
     "duration": 0.004753,
     "end_time": "2022-11-28T06:45:20.918329",
     "exception": false,
     "start_time": "2022-11-28T06:45:20.913576",
     "status": "completed"
    },
    "tags": []
   },
   "source": [
    "### Evaluate model performance on evaluation data set"
   ]
  },
  {
   "cell_type": "code",
   "execution_count": 9,
   "id": "46e66885",
   "metadata": {
    "execution": {
     "iopub.execute_input": "2022-11-28T06:45:20.927988Z",
     "iopub.status.busy": "2022-11-28T06:45:20.927650Z",
     "iopub.status.idle": "2022-11-28T06:45:20.932273Z",
     "shell.execute_reply": "2022-11-28T06:45:20.931716Z"
    },
    "papermill": {
     "duration": 0.012558,
     "end_time": "2022-11-28T06:45:20.934813",
     "exception": false,
     "start_time": "2022-11-28T06:45:20.922255",
     "status": "completed"
    },
    "tags": []
   },
   "outputs": [],
   "source": [
    "# load evaluation data\n",
    "X_test = read_numpy(datalake_root(P) / \"test-data\" / \"digits.numpy\")\n",
    "y_test = read_numpy(datalake_root(P) / \"test-data\" / \"labels.numpy\")"
   ]
  },
  {
   "cell_type": "code",
   "execution_count": 10,
   "id": "04d4686b",
   "metadata": {
    "execution": {
     "iopub.execute_input": "2022-11-28T06:45:20.944989Z",
     "iopub.status.busy": "2022-11-28T06:45:20.944765Z",
     "iopub.status.idle": "2022-11-28T06:45:21.018511Z",
     "shell.execute_reply": "2022-11-28T06:45:21.017636Z"
    },
    "papermill": {
     "duration": 0.080906,
     "end_time": "2022-11-28T06:45:21.020744",
     "exception": false,
     "start_time": "2022-11-28T06:45:20.939838",
     "status": "completed"
    },
    "tags": []
   },
   "outputs": [],
   "source": [
    "def get_model_outputs(X, onnx_inference_session):\n",
    "    y_pred_labels, y_pred_map = onnx_inference_session.run(\n",
    "        [\"output_label\", \"output_probability\"],\n",
    "        {\"float_input_8x8_image\": X.astype(np.float32)},\n",
    "    )\n",
    "    y_pred_probs = np.array(\n",
    "        [[probabilities[digit] for digit in range(10)] for probabilities in y_pred_map]\n",
    "    )\n",
    "\n",
    "    assert y_pred_labels.shape == (X.shape[0],)\n",
    "    assert y_pred_probs.shape == (X.shape[0], 10)\n",
    "\n",
    "    return y_pred_labels, y_pred_probs\n",
    "\n",
    "\n",
    "# Note: as shown in the training notebook, the predicted labels and probabilities\n",
    "# computed below need not be compatible.\n",
    "y_pred_labels_test, y_pred_probs_test = get_model_outputs(\n",
    "    X_test, onnx_inference_session\n",
    ")"
   ]
  },
  {
   "cell_type": "markdown",
   "id": "2562499e",
   "metadata": {
    "papermill": {
     "duration": 0.005569,
     "end_time": "2022-11-28T06:45:21.030700",
     "exception": false,
     "start_time": "2022-11-28T06:45:21.025131",
     "status": "completed"
    },
    "tags": []
   },
   "source": [
    "### Confusion matrix"
   ]
  },
  {
   "cell_type": "code",
   "execution_count": 11,
   "id": "3aa4f775",
   "metadata": {
    "execution": {
     "iopub.execute_input": "2022-11-28T06:45:21.040707Z",
     "iopub.status.busy": "2022-11-28T06:45:21.040449Z",
     "iopub.status.idle": "2022-11-28T06:45:21.043323Z",
     "shell.execute_reply": "2022-11-28T06:45:21.042767Z"
    },
    "papermill": {
     "duration": 0.01121,
     "end_time": "2022-11-28T06:45:21.046085",
     "exception": false,
     "start_time": "2022-11-28T06:45:21.034875",
     "status": "completed"
    },
    "tags": []
   },
   "outputs": [],
   "source": [
    "# TODO"
   ]
  },
  {
   "cell_type": "markdown",
   "id": "9ebee804",
   "metadata": {
    "papermill": {
     "duration": 0.004155,
     "end_time": "2022-11-28T06:45:21.055075",
     "exception": false,
     "start_time": "2022-11-28T06:45:21.050920",
     "status": "completed"
    },
    "tags": []
   },
   "source": [
    "### Plot predicted probabilities for each classifier over all evaluation digit images"
   ]
  },
  {
   "cell_type": "code",
   "execution_count": 12,
   "id": "eaa32dde",
   "metadata": {
    "execution": {
     "iopub.execute_input": "2022-11-28T06:45:21.065659Z",
     "iopub.status.busy": "2022-11-28T06:45:21.065375Z",
     "iopub.status.idle": "2022-11-28T06:45:24.152305Z",
     "shell.execute_reply": "2022-11-28T06:45:24.151606Z"
    },
    "papermill": {
     "duration": 3.094054,
     "end_time": "2022-11-28T06:45:24.154059",
     "exception": false,
     "start_time": "2022-11-28T06:45:21.060005",
     "status": "completed"
    },
    "tags": []
   },
   "outputs": [
    {
     "data": {
      "image/png": "[encoded data removed]",
      "text/plain": [
       "<Figure size 1600x600 with 10 Axes>"
      ]
     },
     "metadata": {},
     "output_type": "display_data"
    }
   ],
   "source": [
    "def plot_per_digit_probabilities(y_pred_probs):\n",
    "    fig, axs = plt.subplots(nrows=2, ncols=5, figsize=(16, 6))\n",
    "\n",
    "    for (r, c), digit, ax in zip(\n",
    "        it.product(range(2), range(5)), range(10), axs.reshape(-1)\n",
    "    ):\n",
    "        ax.hist(y_pred_probs_test[:, digit], bins=20)\n",
    "\n",
    "        ax.set_title(f\"Digit {digit}\")\n",
    "        if r == 1 and c == 2:\n",
    "            ax.set_xlabel(\"probability\", fontsize=16)\n",
    "\n",
    "        if c == 0:\n",
    "            ax.set_ylabel(\"counts\", fontsize=16)\n",
    "        ax.set_yscale(\"log\")\n",
    "\n",
    "    fig.tight_layout()\n",
    "    fig.suptitle(\n",
    "        f\"Distributions of prediction probabilities for each digit \"\n",
    "        f\"(on evaluation data, n={y_pred_probs.shape[0]})\",\n",
    "        fontsize=20,\n",
    "    )\n",
    "    fig.tight_layout()\n",
    "    fig.show()\n",
    "\n",
    "    return fig\n",
    "\n",
    "\n",
    "fig = plot_per_digit_probabilities(y_pred_probs_test)"
   ]
  },
  {
   "cell_type": "markdown",
   "id": "5bbf954d",
   "metadata": {
    "papermill": {
     "duration": 0.005909,
     "end_time": "2022-11-28T06:45:24.165909",
     "exception": false,
     "start_time": "2022-11-28T06:45:24.160000",
     "status": "completed"
    },
    "tags": []
   },
   "source": [
    "From the above distributions we see that most digits have clear separation between\n",
    "high and lower probabilities. Morover, in each case there is roughly an order of\n",
    "magnitude more of digits with low probabilities. This is compatible with digits\n",
    "being roughly evenly distributed in the data."
   ]
  },
  {
   "cell_type": "code",
   "execution_count": 13,
   "id": "1bb229da",
   "metadata": {
    "execution": {
     "iopub.execute_input": "2022-11-28T06:45:24.180440Z",
     "iopub.status.busy": "2022-11-28T06:45:24.180078Z",
     "iopub.status.idle": "2022-11-28T06:45:24.649370Z",
     "shell.execute_reply": "2022-11-28T06:45:24.648771Z"
    },
    "papermill": {
     "duration": 0.477765,
     "end_time": "2022-11-28T06:45:24.651631",
     "exception": false,
     "start_time": "2022-11-28T06:45:24.173866",
     "status": "completed"
    },
    "tags": []
   },
   "outputs": [],
   "source": [
    "logger.log_figure(\"per-digit-probabilities.png\", fig)"
   ]
  },
  {
   "cell_type": "markdown",
   "id": "22443185",
   "metadata": {
    "papermill": {
     "duration": 0.005344,
     "end_time": "2022-11-28T06:45:24.663238",
     "exception": false,
     "start_time": "2022-11-28T06:45:24.657894",
     "status": "completed"
    },
    "tags": []
   },
   "source": [
    "### Plot ROC curves for individual one-vs-rest classifiers"
   ]
  },
  {
   "cell_type": "code",
   "execution_count": 14,
   "id": "7d5fedcc",
   "metadata": {
    "execution": {
     "iopub.execute_input": "2022-11-28T06:45:24.675026Z",
     "iopub.status.busy": "2022-11-28T06:45:24.674759Z",
     "iopub.status.idle": "2022-11-28T06:45:25.104035Z",
     "shell.execute_reply": "2022-11-28T06:45:25.103358Z"
    },
    "papermill": {
     "duration": 0.437409,
     "end_time": "2022-11-28T06:45:25.106097",
     "exception": false,
     "start_time": "2022-11-28T06:45:24.668688",
     "status": "completed"
    },
    "tags": []
   },
   "outputs": [],
   "source": [
    "from sklearn import metrics"
   ]
  },
  {
   "cell_type": "code",
   "execution_count": 15,
   "id": "9d1fa846",
   "metadata": {
    "execution": {
     "iopub.execute_input": "2022-11-28T06:45:25.118783Z",
     "iopub.status.busy": "2022-11-28T06:45:25.118386Z",
     "iopub.status.idle": "2022-11-28T06:45:26.214890Z",
     "shell.execute_reply": "2022-11-28T06:45:26.214309Z"
    },
    "papermill": {
     "duration": 1.10606,
     "end_time": "2022-11-28T06:45:26.217666",
     "exception": false,
     "start_time": "2022-11-28T06:45:25.111606",
     "status": "completed"
    },
    "tags": []
   },
   "outputs": [
    {
     "data": {
      "image/png": "[encoded data removed]",
      "text/plain": [
       "<Figure size 1600x800 with 10 Axes>"
      ]
     },
     "metadata": {},
     "output_type": "display_data"
    }
   ],
   "source": [
    "def plot_roc_curves(y, y_pred_probs):\n",
    "    # based on example code\n",
    "    # https://scikit-learn.org/stable/auto_examples/model_selection/plot_roc.html\n",
    "\n",
    "    fig, axs = plt.subplots(nrows=2, ncols=5, figsize=(16, 8))\n",
    "\n",
    "    roc_auc_dict = {}\n",
    "\n",
    "    for (r, c), digit, ax in zip(\n",
    "        it.product(range(2), range(5)), range(10), axs.reshape(-1)\n",
    "    ):\n",
    "        fpr, tpr, _ = metrics.roc_curve(y == digit, y_pred_probs[:, digit])\n",
    "        auc = metrics.auc(fpr, tpr)\n",
    "        roc_auc_dict[str(digit)] = auc\n",
    "\n",
    "        ax.plot(fpr, tpr, label=f\"ROC AUC={round(auc, 3)}\")\n",
    "\n",
    "        ax.set_title(f\"\\nDigit {digit}\", fontsize=16)\n",
    "        if r == 1:\n",
    "            ax.set_xlabel(\"FPR\", fontsize=18)\n",
    "\n",
    "        if c == 0:\n",
    "            ax.set_ylabel(\"TPR\", fontsize=18)\n",
    "\n",
    "        ax.set_xlim([-0.05, 1.05])\n",
    "        ax.set_ylim([-0.05, 1.05])\n",
    "        ax.legend(loc=\"lower right\", frameon=False, fontsize=14)\n",
    "\n",
    "    fig.tight_layout()\n",
    "    fig.suptitle(\n",
    "        f\"ROC plots for one-vs-rest performances \"\n",
    "        f\"(on evaluation data, n={y_pred_probs_test.shape[1]}\",\n",
    "        fontsize=22,\n",
    "    )\n",
    "    fig.tight_layout()\n",
    "    fig.show()\n",
    "\n",
    "    return roc_auc_dict, fig\n",
    "\n",
    "\n",
    "roc_auc_dict, fig = plot_roc_curves(y_test, y_pred_probs_test)"
   ]
  },
  {
   "cell_type": "code",
   "execution_count": 16,
   "id": "561f3450",
   "metadata": {
    "execution": {
     "iopub.execute_input": "2022-11-28T06:45:26.232673Z",
     "iopub.status.busy": "2022-11-28T06:45:26.231867Z",
     "iopub.status.idle": "2022-11-28T06:45:26.492654Z",
     "shell.execute_reply": "2022-11-28T06:45:26.491914Z"
    },
    "papermill": {
     "duration": 0.270597,
     "end_time": "2022-11-28T06:45:26.494751",
     "exception": false,
     "start_time": "2022-11-28T06:45:26.224154",
     "status": "completed"
    },
    "tags": []
   },
   "outputs": [],
   "source": [
    "logger.log_figure(\"per-digit-roc-curves.png\", fig)"
   ]
  },
  {
   "cell_type": "code",
   "execution_count": 17,
   "id": "953f0c09",
   "metadata": {
    "execution": {
     "iopub.execute_input": "2022-11-28T06:45:26.510121Z",
     "iopub.status.busy": "2022-11-28T06:45:26.509654Z",
     "iopub.status.idle": "2022-11-28T06:45:26.514281Z",
     "shell.execute_reply": "2022-11-28T06:45:26.513696Z"
    },
    "papermill": {
     "duration": 0.013658,
     "end_time": "2022-11-28T06:45:26.515840",
     "exception": false,
     "start_time": "2022-11-28T06:45:26.502182",
     "status": "completed"
    },
    "tags": []
   },
   "outputs": [
    {
     "data": {
      "text/plain": [
       "{'0': 1.0,\n",
       " '1': 0.999025304592315,\n",
       " '2': 1.0,\n",
       " '3': 0.9998875351452671,\n",
       " '4': 0.9996570644718793,\n",
       " '5': 0.9994001874414246,\n",
       " '6': 0.999923792104862,\n",
       " '7': 0.9997332723670171,\n",
       " '8': 0.9952317150063051,\n",
       " '9': 0.9995046486816035}"
      ]
     },
     "execution_count": 17,
     "metadata": {},
     "output_type": "execute_result"
    }
   ],
   "source": [
    "roc_auc_dict"
   ]
  },
  {
   "cell_type": "code",
   "execution_count": 18,
   "id": "9a9b22a1",
   "metadata": {
    "execution": {
     "iopub.execute_input": "2022-11-28T06:45:26.531294Z",
     "iopub.status.busy": "2022-11-28T06:45:26.530609Z",
     "iopub.status.idle": "2022-11-28T06:45:26.538470Z",
     "shell.execute_reply": "2022-11-28T06:45:26.537941Z"
    },
    "papermill": {
     "duration": 0.017614,
     "end_time": "2022-11-28T06:45:26.540185",
     "exception": false,
     "start_time": "2022-11-28T06:45:26.522571",
     "status": "completed"
    },
    "tags": []
   },
   "outputs": [
    {
     "name": "stdout",
     "output_type": "stream",
     "text": [
      " - Logging roc_auc_per_digit (json) : {'0': 1.0, '1': 0.999025304592315, '2': 1.0, '3': 0.9998875351452671, '4': 0.9996570644718793, '5': 0.9994001874414246, '6': 0.999923792104862, '7': 0.9997332723670171, '8': 0.9952317150063051, '9': 0.9995046486816035}\n"
     ]
    }
   ],
   "source": [
    "logger.log_value(\"roc_auc_per_digit\", roc_auc_dict)"
   ]
  },
  {
   "cell_type": "markdown",
   "id": "04acd07a",
   "metadata": {
    "papermill": {
     "duration": 0.006385,
     "end_time": "2022-11-28T06:45:26.554194",
     "exception": false,
     "start_time": "2022-11-28T06:45:26.547809",
     "status": "completed"
    },
    "tags": []
   },
   "source": [
    "### Compute and log mean ROC AUC score averaged over all digits"
   ]
  },
  {
   "cell_type": "code",
   "execution_count": 19,
   "id": "75d25ab1",
   "metadata": {
    "execution": {
     "iopub.execute_input": "2022-11-28T06:45:26.570642Z",
     "iopub.status.busy": "2022-11-28T06:45:26.569361Z",
     "iopub.status.idle": "2022-11-28T06:45:26.587419Z",
     "shell.execute_reply": "2022-11-28T06:45:26.586213Z"
    },
    "papermill": {
     "duration": 0.027137,
     "end_time": "2022-11-28T06:45:26.588904",
     "exception": false,
     "start_time": "2022-11-28T06:45:26.561767",
     "status": "completed"
    },
    "tags": []
   },
   "outputs": [
    {
     "name": "stdout",
     "output_type": "stream",
     "text": [
      " - Logging roc_auc_class_mean (float) : 0.9992363519810674\n"
     ]
    }
   ],
   "source": [
    "roc_auc_macro = np.mean(list(roc_auc_dict.values()))\n",
    "\n",
    "logger.log_float(\"roc_auc_class_mean\", roc_auc_macro)\n",
    "\n",
    "# assert that the same value can be computed directly using sklearn\n",
    "assert roc_auc_macro == metrics.roc_auc_score(\n",
    "    y_test, y_pred_probs_test, average=\"macro\", multi_class=\"ovr\"\n",
    ")"
   ]
  },
  {
   "cell_type": "code",
   "execution_count": 20,
   "id": "8d82eb6f",
   "metadata": {
    "execution": {
     "iopub.execute_input": "2022-11-28T06:45:26.604907Z",
     "iopub.status.busy": "2022-11-28T06:45:26.604654Z",
     "iopub.status.idle": "2022-11-28T06:45:26.608128Z",
     "shell.execute_reply": "2022-11-28T06:45:26.607383Z"
    },
    "lines_to_next_cell": 0,
    "papermill": {
     "duration": 0.013407,
     "end_time": "2022-11-28T06:45:26.610340",
     "exception": false,
     "start_time": "2022-11-28T06:45:26.596933",
     "status": "completed"
    },
    "tags": []
   },
   "outputs": [],
   "source": [
    "# ---"
   ]
  },
  {
   "cell_type": "code",
   "execution_count": null,
   "id": "9c51366c",
   "metadata": {
    "papermill": {
     "duration": 0.006631,
     "end_time": "2022-11-28T06:45:26.624216",
     "exception": false,
     "start_time": "2022-11-28T06:45:26.617585",
     "status": "completed"
    },
    "tags": []
   },
   "outputs": [],
   "source": []
  }
 ],
 "metadata": {
  "jupytext": {
   "cell_metadata_filter": "tags,-all",
   "main_language": "python",
   "notebook_metadata_filter": "-all"
  },
  "language_info": {
   "codemirror_mode": {
    "name": "ipython",
    "version": 3
   },
   "file_extension": ".py",
   "mimetype": "text/x-python",
   "name": "python",
   "nbconvert_exporter": "python",
   "pygments_lexer": "ipython3",
   "version": "3.8.10"
  },
  "papermill": {
   "default_parameters": {},
   "duration": 9.500308,
   "end_time": "2022-11-28T06:45:27.751198",
   "environment_variables": {},
   "exception": null,
   "input_path": "/home/host_user/workspace/mnist-demo-pipeline/mnist-demo-pipeline/notebooks/temp-notebook-bws6rimr.ipynb",
   "output_path": "notebooks/benchmark-model.ipynb",
   "parameters": {
    "P": {
     "_opentelemetry_traceparent": "00-77ab81eb3be968f44ed6fb2299ede894-cb69d1c824516cd1-01",
     "pipeline.data_lake_root": "/pipeline-outputs/data-lake",
     "pipeline.github.actor": "matiasdahl",
     "pipeline.github.base_ref": "",
     "pipeline.github.event_name": "schedule",
     "pipeline.github.head_ref": "",
     "pipeline.github.job": "run-tests-pipeline-and-persist-pipeline-outputs",
     "pipeline.github.ref": "refs/heads/development",
     "pipeline.github.ref_name": "development",
     "pipeline.github.ref_type": "branch",
     "pipeline.github.repository": "matiasdahl/dev-mnist-digits-demo-pipeline",
     "pipeline.github.run_id": "3562362414",
     "pipeline.github.runner_name": "Hosted Agent",
     "pipeline.github.sha": "ace0d01011d5e914f1921450dd5a59c11367b38d",
     "pipeline.github.workflow": "Run automated tests, pipeline and deploy results to static reporting site",
     "pipeline.pipeline_run_id": "49d99194-007a-41a8-8b21-77bf703eea63",
     "pipeline.run_environment": "ci",
     "run.retry_nr": "0",
     "task.max_nr_retries": "1",
     "task.notebook": "notebooks/benchmark-model.py",
     "task.nr_train_images": 1000,
     "task.num_cpus": 1,
     "task.timeout_s": "None"
    }
   },
   "start_time": "2022-11-28T06:45:18.250890",
   "version": "2.3.3"
  }
 },
 "nbformat": 4,
 "nbformat_minor": 5
}