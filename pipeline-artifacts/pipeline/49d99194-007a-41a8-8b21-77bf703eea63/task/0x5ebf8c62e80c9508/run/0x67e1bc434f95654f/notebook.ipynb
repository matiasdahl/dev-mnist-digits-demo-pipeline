{
 "cells": [
  {
   "cell_type": "markdown",
   "id": "295c293d",
   "metadata": {
    "papermill": {
     "duration": 0.003779,
     "end_time": "2022-11-28T06:44:45.178701",
     "exception": false,
     "start_time": "2022-11-28T06:44:45.174922",
     "status": "completed"
    },
    "tags": []
   },
   "source": [
    "# Ingest toy version of MNIST digit data from sklearn"
   ]
  },
  {
   "cell_type": "markdown",
   "id": "5bd5569d",
   "metadata": {
    "papermill": {
     "duration": 0.00219,
     "end_time": "2022-11-28T06:44:45.183933",
     "exception": false,
     "start_time": "2022-11-28T06:44:45.181743",
     "status": "completed"
    },
    "tags": []
   },
   "source": [
    "### Determine run parameters"
   ]
  },
  {
   "cell_type": "code",
   "execution_count": 1,
   "id": "19da8eac",
   "metadata": {
    "execution": {
     "iopub.execute_input": "2022-11-28T06:44:45.189895Z",
     "iopub.status.busy": "2022-11-28T06:44:45.189512Z",
     "iopub.status.idle": "2022-11-28T06:44:45.196993Z",
     "shell.execute_reply": "2022-11-28T06:44:45.196362Z"
    },
    "lines_to_next_cell": 0,
    "papermill": {
     "duration": 0.012553,
     "end_time": "2022-11-28T06:44:45.198592",
     "exception": false,
     "start_time": "2022-11-28T06:44:45.186039",
     "status": "completed"
    },
    "tags": []
   },
   "outputs": [],
   "source": [
    "# ----------------- Parameters for interactive development --------------\n",
    "P = {\n",
    "    \"pipeline.run_environment\": \"dev\",\n",
    "    \"pipeline.data_lake_root\": \"/pipeline-outputs/data-lake\",\n",
    "    \"run.retry_nr\": \"1\",\n",
    "}"
   ]
  },
  {
   "cell_type": "code",
   "execution_count": 2,
   "id": "ad4b3076",
   "metadata": {
    "execution": {
     "iopub.execute_input": "2022-11-28T06:44:45.204688Z",
     "iopub.status.busy": "2022-11-28T06:44:45.204467Z",
     "iopub.status.idle": "2022-11-28T06:44:45.207310Z",
     "shell.execute_reply": "2022-11-28T06:44:45.206664Z"
    },
    "lines_to_next_cell": 0,
    "papermill": {
     "duration": 0.007739,
     "end_time": "2022-11-28T06:44:45.208721",
     "exception": false,
     "start_time": "2022-11-28T06:44:45.200982",
     "status": "completed"
    },
    "tags": [
     "parameters"
    ]
   },
   "outputs": [],
   "source": [
    "# - During automated runs parameters will be injected in the below cell -"
   ]
  },
  {
   "cell_type": "code",
   "execution_count": 3,
   "id": "282393c2",
   "metadata": {
    "execution": {
     "iopub.execute_input": "2022-11-28T06:44:45.214300Z",
     "iopub.status.busy": "2022-11-28T06:44:45.214088Z",
     "iopub.status.idle": "2022-11-28T06:44:45.218213Z",
     "shell.execute_reply": "2022-11-28T06:44:45.217605Z"
    },
    "papermill": {
     "duration": 0.008789,
     "end_time": "2022-11-28T06:44:45.219637",
     "exception": false,
     "start_time": "2022-11-28T06:44:45.210848",
     "status": "completed"
    },
    "tags": [
     "injected-parameters"
    ]
   },
   "outputs": [],
   "source": [
    "# Parameters\n",
    "P = {\n",
    "    \"pipeline.data_lake_root\": \"/pipeline-outputs/data-lake\",\n",
    "    \"pipeline.run_environment\": \"ci\",\n",
    "    \"pipeline.pipeline_run_id\": \"49d99194-007a-41a8-8b21-77bf703eea63\",\n",
    "    \"pipeline.github.repository\": \"matiasdahl/dev-mnist-digits-demo-pipeline\",\n",
    "    \"pipeline.github.workflow\": \"Run automated tests, pipeline and deploy results to static reporting site\",\n",
    "    \"pipeline.github.runner_name\": \"Hosted Agent\",\n",
    "    \"pipeline.github.run_id\": \"3562362414\",\n",
    "    \"pipeline.github.actor\": \"matiasdahl\",\n",
    "    \"pipeline.github.job\": \"run-tests-pipeline-and-persist-pipeline-outputs\",\n",
    "    \"pipeline.github.base_ref\": \"\",\n",
    "    \"pipeline.github.head_ref\": \"\",\n",
    "    \"pipeline.github.sha\": \"ace0d01011d5e914f1921450dd5a59c11367b38d\",\n",
    "    \"pipeline.github.ref\": \"refs/heads/development\",\n",
    "    \"pipeline.github.ref_type\": \"branch\",\n",
    "    \"pipeline.github.ref_name\": \"development\",\n",
    "    \"pipeline.github.event_name\": \"schedule\",\n",
    "    \"task.notebook\": \"notebooks/ingest.py\",\n",
    "    \"task.max_nr_retries\": \"15\",\n",
    "    \"run.retry_nr\": \"10\",\n",
    "    \"task.timeout_s\": \"10\",\n",
    "    \"task.num_cpus\": 1,\n",
    "    \"_opentelemetry_traceparent\": \"00-77ab81eb3be968f44ed6fb2299ede894-188b988003c0908f-01\",\n",
    "}\n"
   ]
  },
  {
   "cell_type": "code",
   "execution_count": 4,
   "id": "16d1981f",
   "metadata": {
    "execution": {
     "iopub.execute_input": "2022-11-28T06:44:45.228376Z",
     "iopub.status.busy": "2022-11-28T06:44:45.227968Z",
     "iopub.status.idle": "2022-11-28T06:44:45.232149Z",
     "shell.execute_reply": "2022-11-28T06:44:45.231462Z"
    },
    "lines_to_next_cell": 0,
    "papermill": {
     "duration": 0.008595,
     "end_time": "2022-11-28T06:44:45.233528",
     "exception": false,
     "start_time": "2022-11-28T06:44:45.224933",
     "status": "completed"
    },
    "tags": []
   },
   "outputs": [],
   "source": [
    "# -----------------------------------------------------------------------"
   ]
  },
  {
   "cell_type": "markdown",
   "id": "8d94fbc2",
   "metadata": {
    "lines_to_next_cell": 2,
    "papermill": {
     "duration": 0.002274,
     "end_time": "2022-11-28T06:44:45.238249",
     "exception": false,
     "start_time": "2022-11-28T06:44:45.235975",
     "status": "completed"
    },
    "tags": []
   },
   "source": [
    "---"
   ]
  },
  {
   "cell_type": "markdown",
   "id": "d4870cfb",
   "metadata": {
    "papermill": {
     "duration": 0.002372,
     "end_time": "2022-11-28T06:44:45.243188",
     "exception": false,
     "start_time": "2022-11-28T06:44:45.240816",
     "status": "completed"
    },
    "tags": []
   },
   "source": [
    "### Simulate different types of failures (for testing timeout and retry logic)"
   ]
  },
  {
   "cell_type": "code",
   "execution_count": 5,
   "id": "ecf35b5a",
   "metadata": {
    "execution": {
     "iopub.execute_input": "2022-11-28T06:44:45.249106Z",
     "iopub.status.busy": "2022-11-28T06:44:45.248685Z",
     "iopub.status.idle": "2022-11-28T06:44:45.704798Z",
     "shell.execute_reply": "2022-11-28T06:44:45.704147Z"
    },
    "papermill": {
     "duration": 0.461215,
     "end_time": "2022-11-28T06:44:45.706667",
     "exception": false,
     "start_time": "2022-11-28T06:44:45.245452",
     "status": "completed"
    },
    "tags": []
   },
   "outputs": [
    {
     "name": "stderr",
     "output_type": "stream",
     "text": [
      "2022-11-28 06:44:45,556\tINFO worker.py:842 -- Connecting to existing Ray cluster at address: 172.17.0.2:6379\n"
     ]
    }
   ],
   "source": [
    "from pynb_dag_runner.tasks.task_opentelemetry_logging import PydarLogger\n",
    "\n",
    "logger = PydarLogger(P)"
   ]
  },
  {
   "cell_type": "code",
   "execution_count": 6,
   "id": "ab9eba00",
   "metadata": {
    "execution": {
     "iopub.execute_input": "2022-11-28T06:44:45.714326Z",
     "iopub.status.busy": "2022-11-28T06:44:45.713921Z",
     "iopub.status.idle": "2022-11-28T06:44:45.719164Z",
     "shell.execute_reply": "2022-11-28T06:44:45.718621Z"
    },
    "papermill": {
     "duration": 0.010963,
     "end_time": "2022-11-28T06:44:45.720803",
     "exception": false,
     "start_time": "2022-11-28T06:44:45.709840",
     "status": "completed"
    },
    "tags": []
   },
   "outputs": [],
   "source": [
    "import time, random\n",
    "\n",
    "\n",
    "def maybe_crash(retry_nr: int, run_environment: str):\n",
    "    if retry_nr == 2 and run_environment == \"ci\":\n",
    "        time.sleep(1e6)\n",
    "\n",
    "    max_retry_nr: int = 3 if run_environment == \"dev\" else 10\n",
    "\n",
    "    if retry_nr < max_retry_nr:\n",
    "        if random.random() < 0.1:\n",
    "            time.sleep(1e6)\n",
    "        else:\n",
    "            raise Exception(\"Simulated exception failure from ingestion step notebook!\")\n",
    "\n",
    "\n",
    "maybe_crash(\n",
    "    retry_nr=int(P[\"run.retry_nr\"]), run_environment=P[\"pipeline.run_environment\"]\n",
    ")"
   ]
  },
  {
   "cell_type": "markdown",
   "id": "94162e5a",
   "metadata": {
    "lines_to_next_cell": 2,
    "papermill": {
     "duration": 0.002667,
     "end_time": "2022-11-28T06:44:45.725852",
     "exception": false,
     "start_time": "2022-11-28T06:44:45.723185",
     "status": "completed"
    },
    "tags": []
   },
   "source": [
    "### Notebook code"
   ]
  },
  {
   "cell_type": "code",
   "execution_count": 7,
   "id": "1305f375",
   "metadata": {
    "execution": {
     "iopub.execute_input": "2022-11-28T06:44:45.732599Z",
     "iopub.status.busy": "2022-11-28T06:44:45.732156Z",
     "iopub.status.idle": "2022-11-28T06:44:47.010030Z",
     "shell.execute_reply": "2022-11-28T06:44:47.009382Z"
    },
    "papermill": {
     "duration": 1.287106,
     "end_time": "2022-11-28T06:44:47.015660",
     "exception": false,
     "start_time": "2022-11-28T06:44:45.728554",
     "status": "completed"
    },
    "tags": []
   },
   "outputs": [],
   "source": [
    "from sklearn import datasets\n",
    "\n",
    "#\n",
    "from common.io import datalake_root, write_numpy"
   ]
  },
  {
   "cell_type": "code",
   "execution_count": 8,
   "id": "26676241",
   "metadata": {
    "execution": {
     "iopub.execute_input": "2022-11-28T06:44:47.023535Z",
     "iopub.status.busy": "2022-11-28T06:44:47.022750Z",
     "iopub.status.idle": "2022-11-28T06:44:47.037588Z",
     "shell.execute_reply": "2022-11-28T06:44:47.036888Z"
    },
    "lines_to_next_cell": 2,
    "papermill": {
     "duration": 0.019975,
     "end_time": "2022-11-28T06:44:47.039113",
     "exception": false,
     "start_time": "2022-11-28T06:44:47.019138",
     "status": "completed"
    },
    "tags": []
   },
   "outputs": [],
   "source": [
    "digits = datasets.load_digits()\n",
    "\n",
    "X = digits[\"data\"]\n",
    "y = digits[\"target\"]"
   ]
  },
  {
   "cell_type": "code",
   "execution_count": 9,
   "id": "e6c654b2",
   "metadata": {
    "execution": {
     "iopub.execute_input": "2022-11-28T06:44:47.045315Z",
     "iopub.status.busy": "2022-11-28T06:44:47.045004Z",
     "iopub.status.idle": "2022-11-28T06:44:47.059638Z",
     "shell.execute_reply": "2022-11-28T06:44:47.057627Z"
    },
    "papermill": {
     "duration": 0.019609,
     "end_time": "2022-11-28T06:44:47.061209",
     "exception": false,
     "start_time": "2022-11-28T06:44:47.041600",
     "status": "completed"
    },
    "tags": []
   },
   "outputs": [
    {
     "name": "stdout",
     "output_type": "stream",
     "text": [
      " - Logging data_shape (json) : [1797, 64]\n",
      " - Logging target_shape (json) : [1797]\n"
     ]
    },
    {
     "data": {
      "text/plain": [
       "((1797, 64), (1797,))"
      ]
     },
     "execution_count": 9,
     "metadata": {},
     "output_type": "execute_result"
    }
   ],
   "source": [
    "logger.log_value(\"data_shape\", list(X.shape))\n",
    "logger.log_value(\"target_shape\", list(y.shape))\n",
    "\n",
    "X.shape, y.shape"
   ]
  },
  {
   "cell_type": "code",
   "execution_count": 10,
   "id": "8c5d29b1",
   "metadata": {
    "execution": {
     "iopub.execute_input": "2022-11-28T06:44:47.068340Z",
     "iopub.status.busy": "2022-11-28T06:44:47.067980Z",
     "iopub.status.idle": "2022-11-28T06:44:47.078041Z",
     "shell.execute_reply": "2022-11-28T06:44:47.077475Z"
    },
    "papermill": {
     "duration": 0.015023,
     "end_time": "2022-11-28T06:44:47.079532",
     "exception": false,
     "start_time": "2022-11-28T06:44:47.064509",
     "status": "completed"
    },
    "tags": []
   },
   "outputs": [],
   "source": [
    "write_numpy(datalake_root(P) / \"raw\" / \"digits.numpy\", X)\n",
    "write_numpy(datalake_root(P) / \"raw\" / \"labels.numpy\", y)"
   ]
  },
  {
   "cell_type": "code",
   "execution_count": null,
   "id": "0df9d68c",
   "metadata": {
    "papermill": {
     "duration": 0.002721,
     "end_time": "2022-11-28T06:44:47.084896",
     "exception": false,
     "start_time": "2022-11-28T06:44:47.082175",
     "status": "completed"
    },
    "tags": []
   },
   "outputs": [],
   "source": []
  }
 ],
 "metadata": {
  "jupytext": {
   "cell_metadata_filter": "tags,-all",
   "main_language": "python",
   "notebook_metadata_filter": "-all"
  },
  "language_info": {
   "codemirror_mode": {
    "name": "ipython",
    "version": 3
   },
   "file_extension": ".py",
   "mimetype": "text/x-python",
   "name": "python",
   "nbconvert_exporter": "python",
   "pygments_lexer": "ipython3",
   "version": "3.8.10"
  },
  "papermill": {
   "default_parameters": {},
   "duration": 4.141773,
   "end_time": "2022-11-28T06:44:48.008742",
   "environment_variables": {},
   "exception": null,
   "input_path": "/home/host_user/workspace/mnist-demo-pipeline/mnist-demo-pipeline/notebooks/temp-notebook-gdwj31af.ipynb",
   "output_path": "notebooks/ingest.ipynb",
   "parameters": {
    "P": {
     "_opentelemetry_traceparent": "00-77ab81eb3be968f44ed6fb2299ede894-188b988003c0908f-01",
     "pipeline.data_lake_root": "/pipeline-outputs/data-lake",
     "pipeline.github.actor": "matiasdahl",
     "pipeline.github.base_ref": "",
     "pipeline.github.event_name": "schedule",
     "pipeline.github.head_ref": "",
     "pipeline.github.job": "run-tests-pipeline-and-persist-pipeline-outputs",
     "pipeline.github.ref": "refs/heads/development",
     "pipeline.github.ref_name": "development",
     "pipeline.github.ref_type": "branch",
     "pipeline.github.repository": "matiasdahl/dev-mnist-digits-demo-pipeline",
     "pipeline.github.run_id": "3562362414",
     "pipeline.github.runner_name": "Hosted Agent",
     "pipeline.github.sha": "ace0d01011d5e914f1921450dd5a59c11367b38d",
     "pipeline.github.workflow": "Run automated tests, pipeline and deploy results to static reporting site",
     "pipeline.pipeline_run_id": "49d99194-007a-41a8-8b21-77bf703eea63",
     "pipeline.run_environment": "ci",
     "run.retry_nr": "10",
     "task.max_nr_retries": "15",
     "task.notebook": "notebooks/ingest.py",
     "task.num_cpus": 1,
     "task.timeout_s": "10"
    }
   },
   "start_time": "2022-11-28T06:44:43.866969",
   "version": "2.3.3"
  }
 },
 "nbformat": 4,
 "nbformat_minor": 5
}