{
 "cells": [
  {
   "cell_type": "markdown",
   "id": "89b48693",
   "metadata": {
    "papermill": {
     "duration": 0.006199,
     "end_time": "2022-11-28T06:45:14.603078",
     "exception": false,
     "start_time": "2022-11-28T06:45:14.596879",
     "status": "completed"
    },
    "tags": []
   },
   "source": [
    "# Benchmark model\n",
    "\n",
    "The purpose of this notebook is to benchmark persisted onnx-model (trained in the\n",
    "previous step) against evaluation set."
   ]
  },
  {
   "cell_type": "markdown",
   "id": "1a6380dd",
   "metadata": {
    "papermill": {
     "duration": 0.004436,
     "end_time": "2022-11-28T06:45:14.612095",
     "exception": false,
     "start_time": "2022-11-28T06:45:14.607659",
     "status": "completed"
    },
    "tags": []
   },
   "source": [
    "### Determine run parameters"
   ]
  },
  {
   "cell_type": "code",
   "execution_count": 1,
   "id": "0c90960c",
   "metadata": {
    "execution": {
     "iopub.execute_input": "2022-11-28T06:45:14.621922Z",
     "iopub.status.busy": "2022-11-28T06:45:14.621580Z",
     "iopub.status.idle": "2022-11-28T06:45:14.636138Z",
     "shell.execute_reply": "2022-11-28T06:45:14.635456Z"
    },
    "lines_to_next_cell": 0,
    "papermill": {
     "duration": 0.02182,
     "end_time": "2022-11-28T06:45:14.638213",
     "exception": false,
     "start_time": "2022-11-28T06:45:14.616393",
     "status": "completed"
    },
    "tags": []
   },
   "outputs": [],
   "source": [
    "# ----------------- Parameters for interactive development --------------\n",
    "P = {\n",
    "    \"pipeline.data_lake_root\": \"/pipeline-outputs/data-lake\",\n",
    "    \"task.nr_train_images\": 600,\n",
    "}"
   ]
  },
  {
   "cell_type": "code",
   "execution_count": 2,
   "id": "186d0252",
   "metadata": {
    "execution": {
     "iopub.execute_input": "2022-11-28T06:45:14.648539Z",
     "iopub.status.busy": "2022-11-28T06:45:14.648319Z",
     "iopub.status.idle": "2022-11-28T06:45:14.651434Z",
     "shell.execute_reply": "2022-11-28T06:45:14.650841Z"
    },
    "lines_to_next_cell": 0,
    "papermill": {
     "duration": 0.01229,
     "end_time": "2022-11-28T06:45:14.654952",
     "exception": false,
     "start_time": "2022-11-28T06:45:14.642662",
     "status": "completed"
    },
    "tags": [
     "parameters"
    ]
   },
   "outputs": [],
   "source": [
    "# - During automated runs parameters will be injected in the below cell -"
   ]
  },
  {
   "cell_type": "code",
   "execution_count": 3,
   "id": "daccd64d",
   "metadata": {
    "execution": {
     "iopub.execute_input": "2022-11-28T06:45:14.664287Z",
     "iopub.status.busy": "2022-11-28T06:45:14.664077Z",
     "iopub.status.idle": "2022-11-28T06:45:14.668871Z",
     "shell.execute_reply": "2022-11-28T06:45:14.668237Z"
    },
    "papermill": {
     "duration": 0.013043,
     "end_time": "2022-11-28T06:45:14.671936",
     "exception": false,
     "start_time": "2022-11-28T06:45:14.658893",
     "status": "completed"
    },
    "tags": [
     "injected-parameters"
    ]
   },
   "outputs": [],
   "source": [
    "# Parameters\n",
    "P = {\n",
    "    \"pipeline.data_lake_root\": \"/pipeline-outputs/data-lake\",\n",
    "    \"pipeline.run_environment\": \"ci\",\n",
    "    \"pipeline.pipeline_run_id\": \"49d99194-007a-41a8-8b21-77bf703eea63\",\n",
    "    \"pipeline.github.repository\": \"matiasdahl/dev-mnist-digits-demo-pipeline\",\n",
    "    \"pipeline.github.workflow\": \"Run automated tests, pipeline and deploy results to static reporting site\",\n",
    "    \"pipeline.github.runner_name\": \"Hosted Agent\",\n",
    "    \"pipeline.github.run_id\": \"3562362414\",\n",
    "    \"pipeline.github.actor\": \"matiasdahl\",\n",
    "    \"pipeline.github.job\": \"run-tests-pipeline-and-persist-pipeline-outputs\",\n",
    "    \"pipeline.github.base_ref\": \"\",\n",
    "    \"pipeline.github.head_ref\": \"\",\n",
    "    \"pipeline.github.sha\": \"ace0d01011d5e914f1921450dd5a59c11367b38d\",\n",
    "    \"pipeline.github.ref\": \"refs/heads/development\",\n",
    "    \"pipeline.github.ref_type\": \"branch\",\n",
    "    \"pipeline.github.ref_name\": \"development\",\n",
    "    \"pipeline.github.event_name\": \"schedule\",\n",
    "    \"task.nr_train_images\": 800,\n",
    "    \"task.notebook\": \"notebooks/benchmark-model.py\",\n",
    "    \"task.max_nr_retries\": \"1\",\n",
    "    \"run.retry_nr\": \"0\",\n",
    "    \"task.timeout_s\": \"None\",\n",
    "    \"task.num_cpus\": 1,\n",
    "    \"_opentelemetry_traceparent\": \"00-77ab81eb3be968f44ed6fb2299ede894-fe345ef60f1109d0-01\",\n",
    "}\n"
   ]
  },
  {
   "cell_type": "code",
   "execution_count": 4,
   "id": "e226b53b",
   "metadata": {
    "execution": {
     "iopub.execute_input": "2022-11-28T06:45:14.681618Z",
     "iopub.status.busy": "2022-11-28T06:45:14.681416Z",
     "iopub.status.idle": "2022-11-28T06:45:14.684366Z",
     "shell.execute_reply": "2022-11-28T06:45:14.683814Z"
    },
    "lines_to_next_cell": 0,
    "papermill": {
     "duration": 0.011001,
     "end_time": "2022-11-28T06:45:14.687366",
     "exception": false,
     "start_time": "2022-11-28T06:45:14.676365",
     "status": "completed"
    },
    "tags": []
   },
   "outputs": [],
   "source": [
    "# -----------------------------------------------------------------------"
   ]
  },
  {
   "cell_type": "markdown",
   "id": "d9fda6a8",
   "metadata": {
    "papermill": {
     "duration": 0.004196,
     "end_time": "2022-11-28T06:45:14.695769",
     "exception": false,
     "start_time": "2022-11-28T06:45:14.691573",
     "status": "completed"
    },
    "tags": []
   },
   "source": [
    "---"
   ]
  },
  {
   "cell_type": "markdown",
   "id": "fc7c0513",
   "metadata": {
    "lines_to_next_cell": 2,
    "papermill": {
     "duration": 0.004516,
     "end_time": "2022-11-28T06:45:14.704494",
     "exception": false,
     "start_time": "2022-11-28T06:45:14.699978",
     "status": "completed"
    },
    "tags": []
   },
   "source": [
    "### Notebook code"
   ]
  },
  {
   "cell_type": "code",
   "execution_count": 5,
   "id": "5ab47396",
   "metadata": {
    "execution": {
     "iopub.execute_input": "2022-11-28T06:45:14.714511Z",
     "iopub.status.busy": "2022-11-28T06:45:14.714294Z",
     "iopub.status.idle": "2022-11-28T06:45:15.878900Z",
     "shell.execute_reply": "2022-11-28T06:45:15.877127Z"
    },
    "papermill": {
     "duration": 1.171761,
     "end_time": "2022-11-28T06:45:15.880864",
     "exception": false,
     "start_time": "2022-11-28T06:45:14.709103",
     "status": "completed"
    },
    "tags": []
   },
   "outputs": [
    {
     "name": "stderr",
     "output_type": "stream",
     "text": [
      "2022-11-28 06:45:15,725\tINFO worker.py:842 -- Connecting to existing Ray cluster at address: 172.17.0.2:6379\n"
     ]
    }
   ],
   "source": [
    "import itertools as it\n",
    "\n",
    "#\n",
    "import numpy as np\n",
    "import matplotlib.pyplot as plt\n",
    "\n",
    "#\n",
    "from pynb_dag_runner.tasks.task_opentelemetry_logging import PydarLogger\n",
    "\n",
    "#\n",
    "from common.io import datalake_root\n",
    "\n",
    "logger = PydarLogger(P)"
   ]
  },
  {
   "cell_type": "markdown",
   "id": "6838a4cb",
   "metadata": {
    "papermill": {
     "duration": 0.004033,
     "end_time": "2022-11-28T06:45:15.890954",
     "exception": false,
     "start_time": "2022-11-28T06:45:15.886921",
     "status": "completed"
    },
    "tags": []
   },
   "source": [
    "## Load persisted onnx-model and evaluation data"
   ]
  },
  {
   "cell_type": "code",
   "execution_count": 6,
   "id": "f67429d5",
   "metadata": {
    "execution": {
     "iopub.execute_input": "2022-11-28T06:45:15.901025Z",
     "iopub.status.busy": "2022-11-28T06:45:15.900589Z",
     "iopub.status.idle": "2022-11-28T06:45:15.904202Z",
     "shell.execute_reply": "2022-11-28T06:45:15.903448Z"
    },
    "papermill": {
     "duration": 0.010491,
     "end_time": "2022-11-28T06:45:15.905758",
     "exception": false,
     "start_time": "2022-11-28T06:45:15.895267",
     "status": "completed"
    },
    "tags": []
   },
   "outputs": [],
   "source": [
    "from common.io import read_onnx, get_onnx_inputs, get_onnx_outputs, read_numpy"
   ]
  },
  {
   "cell_type": "code",
   "execution_count": 7,
   "id": "25fb55bb",
   "metadata": {
    "execution": {
     "iopub.execute_input": "2022-11-28T06:45:15.915489Z",
     "iopub.status.busy": "2022-11-28T06:45:15.915118Z",
     "iopub.status.idle": "2022-11-28T06:45:15.926047Z",
     "shell.execute_reply": "2022-11-28T06:45:15.925322Z"
    },
    "lines_to_next_cell": 0,
    "papermill": {
     "duration": 0.017705,
     "end_time": "2022-11-28T06:45:15.927510",
     "exception": false,
     "start_time": "2022-11-28T06:45:15.909805",
     "status": "completed"
    },
    "tags": []
   },
   "outputs": [],
   "source": [
    "onnx_inference_session = read_onnx(\n",
    "    datalake_root(P)\n",
    "    / \"models\"\n",
    "    / f\"nr_train_images={P['task.nr_train_images']}\"\n",
    "    / \"model.onnx\"\n",
    ")"
   ]
  },
  {
   "cell_type": "markdown",
   "id": "fc42d3e1",
   "metadata": {
    "papermill": {
     "duration": 0.004522,
     "end_time": "2022-11-28T06:45:15.936042",
     "exception": false,
     "start_time": "2022-11-28T06:45:15.931520",
     "status": "completed"
    },
    "tags": []
   },
   "source": [
    "### Record structure of inputs and outputs for ONNX model\n",
    "\n",
    "(this should likely be done in training notebook)"
   ]
  },
  {
   "cell_type": "code",
   "execution_count": 8,
   "id": "48c181cf",
   "metadata": {
    "execution": {
     "iopub.execute_input": "2022-11-28T06:45:15.946277Z",
     "iopub.status.busy": "2022-11-28T06:45:15.945694Z",
     "iopub.status.idle": "2022-11-28T06:45:15.951492Z",
     "shell.execute_reply": "2022-11-28T06:45:15.950986Z"
    },
    "papermill": {
     "duration": 0.01262,
     "end_time": "2022-11-28T06:45:15.952825",
     "exception": false,
     "start_time": "2022-11-28T06:45:15.940205",
     "status": "completed"
    },
    "tags": []
   },
   "outputs": [
    {
     "name": "stdout",
     "output_type": "stream",
     "text": [
      "{\n",
      "  \"inputs\": [\n",
      "    {\n",
      "      \"name\": \"float_input_8x8_image\",\n",
      "      \"shape\": [\n",
      "        null,\n",
      "        64\n",
      "      ],\n",
      "      \"type\": \"tensor(float)\"\n",
      "    }\n",
      "  ],\n",
      "  \"outputs\": [\n",
      "    {\n",
      "      \"name\": \"output_label\",\n",
      "      \"shape\": [\n",
      "        null\n",
      "      ],\n",
      "      \"type\": \"tensor(int64)\"\n",
      "    },\n",
      "    {\n",
      "      \"name\": \"output_probability\",\n",
      "      \"shape\": [],\n",
      "      \"type\": \"seq(map(int64,tensor(float)))\"\n",
      "    }\n",
      "  ]\n",
      "}\n"
     ]
    }
   ],
   "source": [
    "import json\n",
    "\n",
    "onnx_io = json.dumps(\n",
    "    {\n",
    "        \"inputs\": get_onnx_inputs(onnx_inference_session),\n",
    "        \"outputs\": get_onnx_outputs(onnx_inference_session),\n",
    "    },\n",
    "    indent=2,\n",
    ")\n",
    "\n",
    "\n",
    "logger.log_artefact(\"onnx_io_structure.json\", onnx_io)\n",
    "print(onnx_io)"
   ]
  },
  {
   "cell_type": "markdown",
   "id": "f27fc576",
   "metadata": {
    "papermill": {
     "duration": 0.006261,
     "end_time": "2022-11-28T06:45:15.963487",
     "exception": false,
     "start_time": "2022-11-28T06:45:15.957226",
     "status": "completed"
    },
    "tags": []
   },
   "source": [
    "### Evaluate model performance on evaluation data set"
   ]
  },
  {
   "cell_type": "code",
   "execution_count": 9,
   "id": "191a719f",
   "metadata": {
    "execution": {
     "iopub.execute_input": "2022-11-28T06:45:15.975096Z",
     "iopub.status.busy": "2022-11-28T06:45:15.974846Z",
     "iopub.status.idle": "2022-11-28T06:45:15.979931Z",
     "shell.execute_reply": "2022-11-28T06:45:15.979372Z"
    },
    "papermill": {
     "duration": 0.013141,
     "end_time": "2022-11-28T06:45:15.981318",
     "exception": false,
     "start_time": "2022-11-28T06:45:15.968177",
     "status": "completed"
    },
    "tags": []
   },
   "outputs": [],
   "source": [
    "# load evaluation data\n",
    "X_test = read_numpy(datalake_root(P) / \"test-data\" / \"digits.numpy\")\n",
    "y_test = read_numpy(datalake_root(P) / \"test-data\" / \"labels.numpy\")"
   ]
  },
  {
   "cell_type": "code",
   "execution_count": 10,
   "id": "ff5dabe3",
   "metadata": {
    "execution": {
     "iopub.execute_input": "2022-11-28T06:45:15.991987Z",
     "iopub.status.busy": "2022-11-28T06:45:15.991283Z",
     "iopub.status.idle": "2022-11-28T06:45:16.058088Z",
     "shell.execute_reply": "2022-11-28T06:45:16.057379Z"
    },
    "papermill": {
     "duration": 0.073899,
     "end_time": "2022-11-28T06:45:16.060020",
     "exception": false,
     "start_time": "2022-11-28T06:45:15.986121",
     "status": "completed"
    },
    "tags": []
   },
   "outputs": [],
   "source": [
    "def get_model_outputs(X, onnx_inference_session):\n",
    "    y_pred_labels, y_pred_map = onnx_inference_session.run(\n",
    "        [\"output_label\", \"output_probability\"],\n",
    "        {\"float_input_8x8_image\": X.astype(np.float32)},\n",
    "    )\n",
    "    y_pred_probs = np.array(\n",
    "        [[probabilities[digit] for digit in range(10)] for probabilities in y_pred_map]\n",
    "    )\n",
    "\n",
    "    assert y_pred_labels.shape == (X.shape[0],)\n",
    "    assert y_pred_probs.shape == (X.shape[0], 10)\n",
    "\n",
    "    return y_pred_labels, y_pred_probs\n",
    "\n",
    "\n",
    "# Note: as shown in the training notebook, the predicted labels and probabilities\n",
    "# computed below need not be compatible.\n",
    "y_pred_labels_test, y_pred_probs_test = get_model_outputs(\n",
    "    X_test, onnx_inference_session\n",
    ")"
   ]
  },
  {
   "cell_type": "markdown",
   "id": "374edcb7",
   "metadata": {
    "papermill": {
     "duration": 0.010103,
     "end_time": "2022-11-28T06:45:16.075192",
     "exception": false,
     "start_time": "2022-11-28T06:45:16.065089",
     "status": "completed"
    },
    "tags": []
   },
   "source": [
    "### Confusion matrix"
   ]
  },
  {
   "cell_type": "code",
   "execution_count": 11,
   "id": "bfbd8bb9",
   "metadata": {
    "execution": {
     "iopub.execute_input": "2022-11-28T06:45:16.086978Z",
     "iopub.status.busy": "2022-11-28T06:45:16.086333Z",
     "iopub.status.idle": "2022-11-28T06:45:16.089717Z",
     "shell.execute_reply": "2022-11-28T06:45:16.089193Z"
    },
    "papermill": {
     "duration": 0.011117,
     "end_time": "2022-11-28T06:45:16.091050",
     "exception": false,
     "start_time": "2022-11-28T06:45:16.079933",
     "status": "completed"
    },
    "tags": []
   },
   "outputs": [],
   "source": [
    "# TODO"
   ]
  },
  {
   "cell_type": "markdown",
   "id": "9b33e1a8",
   "metadata": {
    "papermill": {
     "duration": 0.004307,
     "end_time": "2022-11-28T06:45:16.100709",
     "exception": false,
     "start_time": "2022-11-28T06:45:16.096402",
     "status": "completed"
    },
    "tags": []
   },
   "source": [
    "### Plot predicted probabilities for each classifier over all evaluation digit images"
   ]
  },
  {
   "cell_type": "code",
   "execution_count": 12,
   "id": "5b32c2dc",
   "metadata": {
    "execution": {
     "iopub.execute_input": "2022-11-28T06:45:16.110410Z",
     "iopub.status.busy": "2022-11-28T06:45:16.109994Z",
     "iopub.status.idle": "2022-11-28T06:45:19.032750Z",
     "shell.execute_reply": "2022-11-28T06:45:19.032152Z"
    },
    "papermill": {
     "duration": 2.930232,
     "end_time": "2022-11-28T06:45:19.035068",
     "exception": false,
     "start_time": "2022-11-28T06:45:16.104836",
     "status": "completed"
    },
    "tags": []
   },
   "outputs": [
    {
     "data": {
      "image/png": "[encoded data removed]",
      "text/plain": [
       "<Figure size 1600x600 with 10 Axes>"
      ]
     },
     "metadata": {},
     "output_type": "display_data"
    }
   ],
   "source": [
    "def plot_per_digit_probabilities(y_pred_probs):\n",
    "    fig, axs = plt.subplots(nrows=2, ncols=5, figsize=(16, 6))\n",
    "\n",
    "    for (r, c), digit, ax in zip(\n",
    "        it.product(range(2), range(5)), range(10), axs.reshape(-1)\n",
    "    ):\n",
    "        ax.hist(y_pred_probs_test[:, digit], bins=20)\n",
    "\n",
    "        ax.set_title(f\"Digit {digit}\")\n",
    "        if r == 1 and c == 2:\n",
    "            ax.set_xlabel(\"probability\", fontsize=16)\n",
    "\n",
    "        if c == 0:\n",
    "            ax.set_ylabel(\"counts\", fontsize=16)\n",
    "        ax.set_yscale(\"log\")\n",
    "\n",
    "    fig.tight_layout()\n",
    "    fig.suptitle(\n",
    "        f\"Distributions of prediction probabilities for each digit \"\n",
    "        f\"(on evaluation data, n={y_pred_probs.shape[0]})\",\n",
    "        fontsize=20,\n",
    "    )\n",
    "    fig.tight_layout()\n",
    "    fig.show()\n",
    "\n",
    "    return fig\n",
    "\n",
    "\n",
    "fig = plot_per_digit_probabilities(y_pred_probs_test)"
   ]
  },
  {
   "cell_type": "markdown",
   "id": "5140d10e",
   "metadata": {
    "papermill": {
     "duration": 0.005946,
     "end_time": "2022-11-28T06:45:19.047156",
     "exception": false,
     "start_time": "2022-11-28T06:45:19.041210",
     "status": "completed"
    },
    "tags": []
   },
   "source": [
    "From the above distributions we see that most digits have clear separation between\n",
    "high and lower probabilities. Morover, in each case there is roughly an order of\n",
    "magnitude more of digits with low probabilities. This is compatible with digits\n",
    "being roughly evenly distributed in the data."
   ]
  },
  {
   "cell_type": "code",
   "execution_count": 13,
   "id": "525aa3a8",
   "metadata": {
    "execution": {
     "iopub.execute_input": "2022-11-28T06:45:19.059014Z",
     "iopub.status.busy": "2022-11-28T06:45:19.058726Z",
     "iopub.status.idle": "2022-11-28T06:45:19.506484Z",
     "shell.execute_reply": "2022-11-28T06:45:19.505659Z"
    },
    "papermill": {
     "duration": 0.456348,
     "end_time": "2022-11-28T06:45:19.508502",
     "exception": false,
     "start_time": "2022-11-28T06:45:19.052154",
     "status": "completed"
    },
    "tags": []
   },
   "outputs": [],
   "source": [
    "logger.log_figure(\"per-digit-probabilities.png\", fig)"
   ]
  },
  {
   "cell_type": "markdown",
   "id": "7e8b0bde",
   "metadata": {
    "papermill": {
     "duration": 0.006167,
     "end_time": "2022-11-28T06:45:19.520615",
     "exception": false,
     "start_time": "2022-11-28T06:45:19.514448",
     "status": "completed"
    },
    "tags": []
   },
   "source": [
    "### Plot ROC curves for individual one-vs-rest classifiers"
   ]
  },
  {
   "cell_type": "code",
   "execution_count": 14,
   "id": "b0dbd831",
   "metadata": {
    "execution": {
     "iopub.execute_input": "2022-11-28T06:45:19.533003Z",
     "iopub.status.busy": "2022-11-28T06:45:19.532732Z",
     "iopub.status.idle": "2022-11-28T06:45:19.953952Z",
     "shell.execute_reply": "2022-11-28T06:45:19.953094Z"
    },
    "papermill": {
     "duration": 0.430176,
     "end_time": "2022-11-28T06:45:19.955877",
     "exception": false,
     "start_time": "2022-11-28T06:45:19.525701",
     "status": "completed"
    },
    "tags": []
   },
   "outputs": [],
   "source": [
    "from sklearn import metrics"
   ]
  },
  {
   "cell_type": "code",
   "execution_count": 15,
   "id": "69d98c21",
   "metadata": {
    "execution": {
     "iopub.execute_input": "2022-11-28T06:45:19.973307Z",
     "iopub.status.busy": "2022-11-28T06:45:19.972509Z",
     "iopub.status.idle": "2022-11-28T06:45:21.066614Z",
     "shell.execute_reply": "2022-11-28T06:45:21.065776Z"
    },
    "papermill": {
     "duration": 1.111411,
     "end_time": "2022-11-28T06:45:21.073005",
     "exception": false,
     "start_time": "2022-11-28T06:45:19.961594",
     "status": "completed"
    },
    "tags": []
   },
   "outputs": [
    {
     "data": {
      "image/png": "[encoded data removed]",
      "text/plain": [
       "<Figure size 1600x800 with 10 Axes>"
      ]
     },
     "metadata": {},
     "output_type": "display_data"
    }
   ],
   "source": [
    "def plot_roc_curves(y, y_pred_probs):\n",
    "    # based on example code\n",
    "    # https://scikit-learn.org/stable/auto_examples/model_selection/plot_roc.html\n",
    "\n",
    "    fig, axs = plt.subplots(nrows=2, ncols=5, figsize=(16, 8))\n",
    "\n",
    "    roc_auc_dict = {}\n",
    "\n",
    "    for (r, c), digit, ax in zip(\n",
    "        it.product(range(2), range(5)), range(10), axs.reshape(-1)\n",
    "    ):\n",
    "        fpr, tpr, _ = metrics.roc_curve(y == digit, y_pred_probs[:, digit])\n",
    "        auc = metrics.auc(fpr, tpr)\n",
    "        roc_auc_dict[str(digit)] = auc\n",
    "\n",
    "        ax.plot(fpr, tpr, label=f\"ROC AUC={round(auc, 3)}\")\n",
    "\n",
    "        ax.set_title(f\"\\nDigit {digit}\", fontsize=16)\n",
    "        if r == 1:\n",
    "            ax.set_xlabel(\"FPR\", fontsize=18)\n",
    "\n",
    "        if c == 0:\n",
    "            ax.set_ylabel(\"TPR\", fontsize=18)\n",
    "\n",
    "        ax.set_xlim([-0.05, 1.05])\n",
    "        ax.set_ylim([-0.05, 1.05])\n",
    "        ax.legend(loc=\"lower right\", frameon=False, fontsize=14)\n",
    "\n",
    "    fig.tight_layout()\n",
    "    fig.suptitle(\n",
    "        f\"ROC plots for one-vs-rest performances \"\n",
    "        f\"(on evaluation data, n={y_pred_probs_test.shape[1]}\",\n",
    "        fontsize=22,\n",
    "    )\n",
    "    fig.tight_layout()\n",
    "    fig.show()\n",
    "\n",
    "    return roc_auc_dict, fig\n",
    "\n",
    "\n",
    "roc_auc_dict, fig = plot_roc_curves(y_test, y_pred_probs_test)"
   ]
  },
  {
   "cell_type": "code",
   "execution_count": 16,
   "id": "e26957b9",
   "metadata": {
    "execution": {
     "iopub.execute_input": "2022-11-28T06:45:21.088730Z",
     "iopub.status.busy": "2022-11-28T06:45:21.088450Z",
     "iopub.status.idle": "2022-11-28T06:45:21.360018Z",
     "shell.execute_reply": "2022-11-28T06:45:21.359232Z"
    },
    "papermill": {
     "duration": 0.281816,
     "end_time": "2022-11-28T06:45:21.362473",
     "exception": false,
     "start_time": "2022-11-28T06:45:21.080657",
     "status": "completed"
    },
    "tags": []
   },
   "outputs": [],
   "source": [
    "logger.log_figure(\"per-digit-roc-curves.png\", fig)"
   ]
  },
  {
   "cell_type": "code",
   "execution_count": 17,
   "id": "e4e4adeb",
   "metadata": {
    "execution": {
     "iopub.execute_input": "2022-11-28T06:45:21.377759Z",
     "iopub.status.busy": "2022-11-28T06:45:21.377494Z",
     "iopub.status.idle": "2022-11-28T06:45:21.382311Z",
     "shell.execute_reply": "2022-11-28T06:45:21.381791Z"
    },
    "papermill": {
     "duration": 0.016182,
     "end_time": "2022-11-28T06:45:21.386052",
     "exception": false,
     "start_time": "2022-11-28T06:45:21.369870",
     "status": "completed"
    },
    "tags": []
   },
   "outputs": [
    {
     "data": {
      "text/plain": [
       "{'0': 1.0,\n",
       " '1': 0.9988003748828491,\n",
       " '2': 1.0,\n",
       " '3': 0.9998125585754452,\n",
       " '4': 0.9995046486816034,\n",
       " '5': 0.9991752577319588,\n",
       " '6': 0.999961896052431,\n",
       " '7': 0.9998856881572931,\n",
       " '8': 0.9932613493064313,\n",
       " '9': 0.9994665447340345}"
      ]
     },
     "execution_count": 17,
     "metadata": {},
     "output_type": "execute_result"
    }
   ],
   "source": [
    "roc_auc_dict"
   ]
  },
  {
   "cell_type": "code",
   "execution_count": 18,
   "id": "d8ddfab6",
   "metadata": {
    "execution": {
     "iopub.execute_input": "2022-11-28T06:45:21.400243Z",
     "iopub.status.busy": "2022-11-28T06:45:21.400011Z",
     "iopub.status.idle": "2022-11-28T06:45:21.407985Z",
     "shell.execute_reply": "2022-11-28T06:45:21.403362Z"
    },
    "papermill": {
     "duration": 0.019735,
     "end_time": "2022-11-28T06:45:21.412018",
     "exception": false,
     "start_time": "2022-11-28T06:45:21.392283",
     "status": "completed"
    },
    "tags": []
   },
   "outputs": [
    {
     "name": "stdout",
     "output_type": "stream",
     "text": [
      " - Logging roc_auc_per_digit (json) : {'0': 1.0, '1': 0.9988003748828491, '2': 1.0, '3': 0.9998125585754452, '4': 0.9995046486816034, '5': 0.9991752577319588, '6': 0.999961896052431, '7': 0.9998856881572931, '8': 0.9932613493064313, '9': 0.9994665447340345}\n"
     ]
    }
   ],
   "source": [
    "logger.log_value(\"roc_auc_per_digit\", roc_auc_dict)"
   ]
  },
  {
   "cell_type": "markdown",
   "id": "56fda125",
   "metadata": {
    "papermill": {
     "duration": 0.006466,
     "end_time": "2022-11-28T06:45:21.425976",
     "exception": false,
     "start_time": "2022-11-28T06:45:21.419510",
     "status": "completed"
    },
    "tags": []
   },
   "source": [
    "### Compute and log mean ROC AUC score averaged over all digits"
   ]
  },
  {
   "cell_type": "code",
   "execution_count": 19,
   "id": "999de040",
   "metadata": {
    "execution": {
     "iopub.execute_input": "2022-11-28T06:45:21.440455Z",
     "iopub.status.busy": "2022-11-28T06:45:21.440170Z",
     "iopub.status.idle": "2022-11-28T06:45:21.455156Z",
     "shell.execute_reply": "2022-11-28T06:45:21.454616Z"
    },
    "papermill": {
     "duration": 0.024635,
     "end_time": "2022-11-28T06:45:21.457098",
     "exception": false,
     "start_time": "2022-11-28T06:45:21.432463",
     "status": "completed"
    },
    "tags": []
   },
   "outputs": [
    {
     "name": "stdout",
     "output_type": "stream",
     "text": [
      " - Logging roc_auc_class_mean (float) : 0.9989868318122046\n"
     ]
    }
   ],
   "source": [
    "roc_auc_macro = np.mean(list(roc_auc_dict.values()))\n",
    "\n",
    "logger.log_float(\"roc_auc_class_mean\", roc_auc_macro)\n",
    "\n",
    "# assert that the same value can be computed directly using sklearn\n",
    "assert roc_auc_macro == metrics.roc_auc_score(\n",
    "    y_test, y_pred_probs_test, average=\"macro\", multi_class=\"ovr\"\n",
    ")"
   ]
  },
  {
   "cell_type": "code",
   "execution_count": 20,
   "id": "cf9c3911",
   "metadata": {
    "execution": {
     "iopub.execute_input": "2022-11-28T06:45:21.471652Z",
     "iopub.status.busy": "2022-11-28T06:45:21.471414Z",
     "iopub.status.idle": "2022-11-28T06:45:21.474239Z",
     "shell.execute_reply": "2022-11-28T06:45:21.473655Z"
    },
    "lines_to_next_cell": 0,
    "papermill": {
     "duration": 0.013338,
     "end_time": "2022-11-28T06:45:21.477281",
     "exception": false,
     "start_time": "2022-11-28T06:45:21.463943",
     "status": "completed"
    },
    "tags": []
   },
   "outputs": [],
   "source": [
    "# ---"
   ]
  },
  {
   "cell_type": "code",
   "execution_count": null,
   "id": "d1f31b94",
   "metadata": {
    "papermill": {
     "duration": 0.006857,
     "end_time": "2022-11-28T06:45:21.490649",
     "exception": false,
     "start_time": "2022-11-28T06:45:21.483792",
     "status": "completed"
    },
    "tags": []
   },
   "outputs": [],
   "source": []
  }
 ],
 "metadata": {
  "jupytext": {
   "cell_metadata_filter": "tags,-all",
   "main_language": "python",
   "notebook_metadata_filter": "-all"
  },
  "language_info": {
   "codemirror_mode": {
    "name": "ipython",
    "version": 3
   },
   "file_extension": ".py",
   "mimetype": "text/x-python",
   "name": "python",
   "nbconvert_exporter": "python",
   "pygments_lexer": "ipython3",
   "version": "3.8.10"
  },
  "papermill": {
   "default_parameters": {},
   "duration": 9.561677,
   "end_time": "2022-11-28T06:45:22.723596",
   "environment_variables": {},
   "exception": null,
   "input_path": "/home/host_user/workspace/mnist-demo-pipeline/mnist-demo-pipeline/notebooks/temp-notebook-0q7fnubk.ipynb",
   "output_path": "notebooks/benchmark-model.ipynb",
   "parameters": {
    "P": {
     "_opentelemetry_traceparent": "00-77ab81eb3be968f44ed6fb2299ede894-fe345ef60f1109d0-01",
     "pipeline.data_lake_root": "/pipeline-outputs/data-lake",
     "pipeline.github.actor": "matiasdahl",
     "pipeline.github.base_ref": "",
     "pipeline.github.event_name": "schedule",
     "pipeline.github.head_ref": "",
     "pipeline.github.job": "run-tests-pipeline-and-persist-pipeline-outputs",
     "pipeline.github.ref": "refs/heads/development",
     "pipeline.github.ref_name": "development",
     "pipeline.github.ref_type": "branch",
     "pipeline.github.repository": "matiasdahl/dev-mnist-digits-demo-pipeline",
     "pipeline.github.run_id": "3562362414",
     "pipeline.github.runner_name": "Hosted Agent",
     "pipeline.github.sha": "ace0d01011d5e914f1921450dd5a59c11367b38d",
     "pipeline.github.workflow": "Run automated tests, pipeline and deploy results to static reporting site",
     "pipeline.pipeline_run_id": "49d99194-007a-41a8-8b21-77bf703eea63",
     "pipeline.run_environment": "ci",
     "run.retry_nr": "0",
     "task.max_nr_retries": "1",
     "task.notebook": "notebooks/benchmark-model.py",
     "task.nr_train_images": 800,
     "task.num_cpus": 1,
     "task.timeout_s": "None"
    }
   },
   "start_time": "2022-11-28T06:45:13.161919",
   "version": "2.3.3"
  }
 },
 "nbformat": 4,
 "nbformat_minor": 5
}