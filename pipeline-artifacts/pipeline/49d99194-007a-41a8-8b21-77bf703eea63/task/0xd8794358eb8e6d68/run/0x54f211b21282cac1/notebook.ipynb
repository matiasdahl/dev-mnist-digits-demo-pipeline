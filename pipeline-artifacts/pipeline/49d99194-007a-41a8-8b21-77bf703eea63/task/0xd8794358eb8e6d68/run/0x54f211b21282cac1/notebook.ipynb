{
 "cells": [
  {
   "cell_type": "markdown",
   "id": "367e6996",
   "metadata": {
    "papermill": {
     "duration": 0.003857,
     "end_time": "2022-11-28T06:45:35.545019",
     "exception": false,
     "start_time": "2022-11-28T06:45:35.541162",
     "status": "completed"
    },
    "tags": []
   },
   "source": [
    "# Summarize model performances\n",
    "\n",
    "This notebooks plots the performances (using averaged ROC AUC scores) for models\n",
    "trained with different training sets."
   ]
  },
  {
   "cell_type": "markdown",
   "id": "0154b90f",
   "metadata": {
    "papermill": {
     "duration": 0.002411,
     "end_time": "2022-11-28T06:45:35.550709",
     "exception": false,
     "start_time": "2022-11-28T06:45:35.548298",
     "status": "completed"
    },
    "tags": []
   },
   "source": [
    "### Determine run parameters"
   ]
  },
  {
   "cell_type": "code",
   "execution_count": 1,
   "id": "40a621c4",
   "metadata": {
    "execution": {
     "iopub.execute_input": "2022-11-28T06:45:35.557819Z",
     "iopub.status.busy": "2022-11-28T06:45:35.556829Z",
     "iopub.status.idle": "2022-11-28T06:45:35.564380Z",
     "shell.execute_reply": "2022-11-28T06:45:35.563732Z"
    },
    "lines_to_next_cell": 0,
    "papermill": {
     "duration": 0.013011,
     "end_time": "2022-11-28T06:45:35.566041",
     "exception": false,
     "start_time": "2022-11-28T06:45:35.553030",
     "status": "completed"
    },
    "tags": []
   },
   "outputs": [],
   "source": [
    "# ----------------- Parameters for interactive development --------------\n",
    "P = {\n",
    "    \"pipeline.run_environment\": \"dev\",\n",
    "}"
   ]
  },
  {
   "cell_type": "code",
   "execution_count": 2,
   "id": "9d33763a",
   "metadata": {
    "execution": {
     "iopub.execute_input": "2022-11-28T06:45:35.573215Z",
     "iopub.status.busy": "2022-11-28T06:45:35.572804Z",
     "iopub.status.idle": "2022-11-28T06:45:35.575915Z",
     "shell.execute_reply": "2022-11-28T06:45:35.575225Z"
    },
    "lines_to_next_cell": 0,
    "papermill": {
     "duration": 0.008411,
     "end_time": "2022-11-28T06:45:35.577339",
     "exception": false,
     "start_time": "2022-11-28T06:45:35.568928",
     "status": "completed"
    },
    "tags": [
     "parameters"
    ]
   },
   "outputs": [],
   "source": [
    "# - During automated runs parameters will be injected in the below cell -"
   ]
  },
  {
   "cell_type": "code",
   "execution_count": 3,
   "id": "29afa5c5",
   "metadata": {
    "execution": {
     "iopub.execute_input": "2022-11-28T06:45:35.583683Z",
     "iopub.status.busy": "2022-11-28T06:45:35.583472Z",
     "iopub.status.idle": "2022-11-28T06:45:35.587574Z",
     "shell.execute_reply": "2022-11-28T06:45:35.587102Z"
    },
    "papermill": {
     "duration": 0.009048,
     "end_time": "2022-11-28T06:45:35.589095",
     "exception": false,
     "start_time": "2022-11-28T06:45:35.580047",
     "status": "completed"
    },
    "tags": [
     "injected-parameters"
    ]
   },
   "outputs": [],
   "source": [
    "# Parameters\n",
    "P = {\n",
    "    \"pipeline.data_lake_root\": \"/pipeline-outputs/data-lake\",\n",
    "    \"pipeline.run_environment\": \"ci\",\n",
    "    \"pipeline.pipeline_run_id\": \"49d99194-007a-41a8-8b21-77bf703eea63\",\n",
    "    \"pipeline.github.repository\": \"matiasdahl/dev-mnist-digits-demo-pipeline\",\n",
    "    \"pipeline.github.workflow\": \"Run automated tests, pipeline and deploy results to static reporting site\",\n",
    "    \"pipeline.github.runner_name\": \"Hosted Agent\",\n",
    "    \"pipeline.github.run_id\": \"3562362414\",\n",
    "    \"pipeline.github.actor\": \"matiasdahl\",\n",
    "    \"pipeline.github.job\": \"run-tests-pipeline-and-persist-pipeline-outputs\",\n",
    "    \"pipeline.github.base_ref\": \"\",\n",
    "    \"pipeline.github.head_ref\": \"\",\n",
    "    \"pipeline.github.sha\": \"ace0d01011d5e914f1921450dd5a59c11367b38d\",\n",
    "    \"pipeline.github.ref\": \"refs/heads/development\",\n",
    "    \"pipeline.github.ref_type\": \"branch\",\n",
    "    \"pipeline.github.ref_name\": \"development\",\n",
    "    \"pipeline.github.event_name\": \"schedule\",\n",
    "    \"task.notebook\": \"notebooks/summary.py\",\n",
    "    \"task.max_nr_retries\": \"1\",\n",
    "    \"run.retry_nr\": \"0\",\n",
    "    \"task.timeout_s\": \"None\",\n",
    "    \"task.num_cpus\": 1,\n",
    "    \"_opentelemetry_traceparent\": \"00-77ab81eb3be968f44ed6fb2299ede894-36a49b7765f8052f-01\",\n",
    "}\n"
   ]
  },
  {
   "cell_type": "code",
   "execution_count": 4,
   "id": "85cd8c81",
   "metadata": {
    "execution": {
     "iopub.execute_input": "2022-11-28T06:45:35.595610Z",
     "iopub.status.busy": "2022-11-28T06:45:35.594988Z",
     "iopub.status.idle": "2022-11-28T06:45:35.598485Z",
     "shell.execute_reply": "2022-11-28T06:45:35.597699Z"
    },
    "lines_to_next_cell": 0,
    "papermill": {
     "duration": 0.008193,
     "end_time": "2022-11-28T06:45:35.599865",
     "exception": false,
     "start_time": "2022-11-28T06:45:35.591672",
     "status": "completed"
    },
    "tags": []
   },
   "outputs": [],
   "source": [
    "# -----------------------------------------------------------------------"
   ]
  },
  {
   "cell_type": "markdown",
   "id": "645da127",
   "metadata": {
    "papermill": {
     "duration": 0.002631,
     "end_time": "2022-11-28T06:45:35.604958",
     "exception": false,
     "start_time": "2022-11-28T06:45:35.602327",
     "status": "completed"
    },
    "tags": []
   },
   "source": [
    "---"
   ]
  },
  {
   "cell_type": "markdown",
   "id": "af06ac9f",
   "metadata": {
    "lines_to_next_cell": 2,
    "papermill": {
     "duration": 0.00252,
     "end_time": "2022-11-28T06:45:35.610185",
     "exception": false,
     "start_time": "2022-11-28T06:45:35.607665",
     "status": "completed"
    },
    "tags": []
   },
   "source": [
    "### Notebook code"
   ]
  },
  {
   "cell_type": "code",
   "execution_count": 5,
   "id": "37a869cb",
   "metadata": {
    "execution": {
     "iopub.execute_input": "2022-11-28T06:45:35.617398Z",
     "iopub.status.busy": "2022-11-28T06:45:35.616976Z",
     "iopub.status.idle": "2022-11-28T06:45:36.715400Z",
     "shell.execute_reply": "2022-11-28T06:45:36.714719Z"
    },
    "papermill": {
     "duration": 1.10435,
     "end_time": "2022-11-28T06:45:36.717390",
     "exception": false,
     "start_time": "2022-11-28T06:45:35.613040",
     "status": "completed"
    },
    "tags": []
   },
   "outputs": [],
   "source": [
    "#\n",
    "import pandas as pd\n",
    "import matplotlib.pyplot as plt\n",
    "\n",
    "#\n",
    "from pynb_dag_runner.tasks.task_opentelemetry_logging import PydarLogger"
   ]
  },
  {
   "cell_type": "code",
   "execution_count": 6,
   "id": "0549bf80",
   "metadata": {
    "execution": {
     "iopub.execute_input": "2022-11-28T06:45:36.729504Z",
     "iopub.status.busy": "2022-11-28T06:45:36.728791Z",
     "iopub.status.idle": "2022-11-28T06:45:36.884625Z",
     "shell.execute_reply": "2022-11-28T06:45:36.883992Z"
    },
    "papermill": {
     "duration": 0.162121,
     "end_time": "2022-11-28T06:45:36.886868",
     "exception": false,
     "start_time": "2022-11-28T06:45:36.724747",
     "status": "completed"
    },
    "tags": []
   },
   "outputs": [
    {
     "name": "stderr",
     "output_type": "stream",
     "text": [
      "2022-11-28 06:45:36,733\tINFO worker.py:842 -- Connecting to existing Ray cluster at address: 172.17.0.2:6379\n"
     ]
    }
   ],
   "source": [
    "logger = PydarLogger(P=P)"
   ]
  },
  {
   "cell_type": "code",
   "execution_count": 7,
   "id": "30beee75",
   "metadata": {
    "execution": {
     "iopub.execute_input": "2022-11-28T06:45:36.894374Z",
     "iopub.status.busy": "2022-11-28T06:45:36.893902Z",
     "iopub.status.idle": "2022-11-28T06:45:36.897865Z",
     "shell.execute_reply": "2022-11-28T06:45:36.897116Z"
    },
    "papermill": {
     "duration": 0.009537,
     "end_time": "2022-11-28T06:45:36.899563",
     "exception": false,
     "start_time": "2022-11-28T06:45:36.890026",
     "status": "completed"
    },
    "tags": []
   },
   "outputs": [],
   "source": [
    "from pynb_dag_runner.tasks.task_opentelemetry_logging import (\n",
    "    PydarLogger,\n",
    "    get_logged_values,\n",
    ")\n",
    "from pynb_dag_runner.opentelemetry_helpers import _get_all_spans, Spans"
   ]
  },
  {
   "cell_type": "code",
   "execution_count": 8,
   "id": "7f3dd9b9",
   "metadata": {
    "execution": {
     "iopub.execute_input": "2022-11-28T06:45:36.907704Z",
     "iopub.status.busy": "2022-11-28T06:45:36.907411Z",
     "iopub.status.idle": "2022-11-28T06:45:36.914201Z",
     "shell.execute_reply": "2022-11-28T06:45:36.913677Z"
    },
    "papermill": {
     "duration": 0.012569,
     "end_time": "2022-11-28T06:45:36.915729",
     "exception": false,
     "start_time": "2022-11-28T06:45:36.903160",
     "status": "completed"
    },
    "tags": []
   },
   "outputs": [],
   "source": [
    "def get_model_benchmarks():\n",
    "    \"\"\"\n",
    "    Query the OpenTelemetry logs for *this pipeline run* and return\n",
    "    all key-values logged from all runs of the benchmark-model.py task\n",
    "\n",
    "    For testing a json file with OpenTelemetry spans (as an array)\n",
    "    can be used as follows:\n",
    "\n",
    "    - Create output directory `mkdir /tmp/spans`\n",
    "    - Run unit tests. This will create pipeline-outputs/opentelemetry-spans.json\n",
    "    - Convert this json-array into jsonl format as follows\n",
    "\n",
    "    jq -c '.[]' /pipeline-outputs/opentelemetry-spans.json > /tmp/spans/data.txt\n",
    "\n",
    "    \"\"\"\n",
    "    spans: Spans = Spans(_get_all_spans())\n",
    "    print(f\"Found {len(spans)} spans\")\n",
    "\n",
    "    benchmark_spans = (\n",
    "        spans\n",
    "        # -\n",
    "        .filter([\"name\"], \"execute-task\")\n",
    "        # -\n",
    "        .filter([\"attributes\", \"task.notebook\"], \"notebooks/benchmark-model.py\")\n",
    "    )\n",
    "\n",
    "    result = []\n",
    "    for s in benchmark_spans:\n",
    "        result.append(\n",
    "            {\n",
    "                \"span_id\": s[\"context\"][\"span_id\"],\n",
    "                \"nr_train_images\": s[\"attributes\"][\"task.nr_train_images\"],\n",
    "                \"data\": get_logged_values(spans.bound_under(s)),\n",
    "            }\n",
    "        )\n",
    "\n",
    "    return result\n",
    "\n",
    "\n",
    "def adjust_pandas(df):\n",
    "    def column_renamer(col_name: str) -> str:\n",
    "        return (\n",
    "            col_name\n",
    "            # -- 'data.roc_auc_per_digit.4' -> 'roc_auc.4'\n",
    "            .replace(\"data.roc_auc_per_digit\", \"roc_auc\")\n",
    "            # -- 'data.roc_auc_class_mean' -> 'roc_auc_mean'\n",
    "            .replace(\"data.roc_auc_class_mean\", \"roc_auc_mean\")\n",
    "        )\n",
    "\n",
    "    return df.rename(column_renamer, axis=\"columns\").sort_values(by=\"nr_train_images\")"
   ]
  },
  {
   "cell_type": "code",
   "execution_count": 9,
   "id": "b2a3ac2b",
   "metadata": {
    "execution": {
     "iopub.execute_input": "2022-11-28T06:45:36.923043Z",
     "iopub.status.busy": "2022-11-28T06:45:36.922407Z",
     "iopub.status.idle": "2022-11-28T06:45:36.964447Z",
     "shell.execute_reply": "2022-11-28T06:45:36.963303Z"
    },
    "papermill": {
     "duration": 0.04765,
     "end_time": "2022-11-28T06:45:36.966585",
     "exception": false,
     "start_time": "2022-11-28T06:45:36.918935",
     "status": "completed"
    },
    "tags": []
   },
   "outputs": [
    {
     "name": "stdout",
     "output_type": "stream",
     "text": [
      "Found 423 spans\n"
     ]
    }
   ],
   "source": [
    "df_data = adjust_pandas(pd.json_normalize(get_model_benchmarks()))"
   ]
  },
  {
   "cell_type": "code",
   "execution_count": 10,
   "id": "8f2bc365",
   "metadata": {
    "execution": {
     "iopub.execute_input": "2022-11-28T06:45:36.974415Z",
     "iopub.status.busy": "2022-11-28T06:45:36.973767Z",
     "iopub.status.idle": "2022-11-28T06:45:37.000671Z",
     "shell.execute_reply": "2022-11-28T06:45:37.000150Z"
    },
    "papermill": {
     "duration": 0.031968,
     "end_time": "2022-11-28T06:45:37.002057",
     "exception": false,
     "start_time": "2022-11-28T06:45:36.970089",
     "status": "completed"
    },
    "tags": []
   },
   "outputs": [
    {
     "data": {
      "text/html": [
       "<div>\n",
       "<style scoped>\n",
       "    .dataframe tbody tr th:only-of-type {\n",
       "        vertical-align: middle;\n",
       "    }\n",
       "\n",
       "    .dataframe tbody tr th {\n",
       "        vertical-align: top;\n",
       "    }\n",
       "\n",
       "    .dataframe thead th {\n",
       "        text-align: right;\n",
       "    }\n",
       "</style>\n",
       "<table border=\"1\" class=\"dataframe\">\n",
       "  <thead>\n",
       "    <tr style=\"text-align: right;\">\n",
       "      <th></th>\n",
       "      <th>span_id</th>\n",
       "      <th>nr_train_images</th>\n",
       "      <th>roc_auc_mean</th>\n",
       "      <th>roc_auc.0</th>\n",
       "      <th>roc_auc.1</th>\n",
       "      <th>roc_auc.2</th>\n",
       "      <th>roc_auc.3</th>\n",
       "      <th>roc_auc.4</th>\n",
       "      <th>roc_auc.5</th>\n",
       "      <th>roc_auc.6</th>\n",
       "      <th>roc_auc.7</th>\n",
       "      <th>roc_auc.8</th>\n",
       "      <th>roc_auc.9</th>\n",
       "    </tr>\n",
       "  </thead>\n",
       "  <tbody>\n",
       "    <tr>\n",
       "      <th>2</th>\n",
       "      <td>0xf23323b4a0fb0d5b</td>\n",
       "      <td>600</td>\n",
       "      <td>0.9990</td>\n",
       "      <td>1.0</td>\n",
       "      <td>0.9993</td>\n",
       "      <td>1.0</td>\n",
       "      <td>0.9999</td>\n",
       "      <td>0.9990</td>\n",
       "      <td>0.9990</td>\n",
       "      <td>0.9999</td>\n",
       "      <td>0.9998</td>\n",
       "      <td>0.9948</td>\n",
       "      <td>0.9986</td>\n",
       "    </tr>\n",
       "    <tr>\n",
       "      <th>0</th>\n",
       "      <td>0x7ee5c600b958eca5</td>\n",
       "      <td>800</td>\n",
       "      <td>0.9990</td>\n",
       "      <td>1.0</td>\n",
       "      <td>0.9988</td>\n",
       "      <td>1.0</td>\n",
       "      <td>0.9998</td>\n",
       "      <td>0.9995</td>\n",
       "      <td>0.9992</td>\n",
       "      <td>1.0000</td>\n",
       "      <td>0.9999</td>\n",
       "      <td>0.9933</td>\n",
       "      <td>0.9995</td>\n",
       "    </tr>\n",
       "    <tr>\n",
       "      <th>1</th>\n",
       "      <td>0x6d232fca2dcdf134</td>\n",
       "      <td>1000</td>\n",
       "      <td>0.9992</td>\n",
       "      <td>1.0</td>\n",
       "      <td>0.9990</td>\n",
       "      <td>1.0</td>\n",
       "      <td>0.9999</td>\n",
       "      <td>0.9997</td>\n",
       "      <td>0.9994</td>\n",
       "      <td>0.9999</td>\n",
       "      <td>0.9997</td>\n",
       "      <td>0.9952</td>\n",
       "      <td>0.9995</td>\n",
       "    </tr>\n",
       "    <tr>\n",
       "      <th>3</th>\n",
       "      <td>0xa34b962c24f8c26b</td>\n",
       "      <td>1200</td>\n",
       "      <td>0.9993</td>\n",
       "      <td>1.0</td>\n",
       "      <td>0.9990</td>\n",
       "      <td>1.0</td>\n",
       "      <td>0.9999</td>\n",
       "      <td>0.9997</td>\n",
       "      <td>0.9997</td>\n",
       "      <td>0.9999</td>\n",
       "      <td>0.9998</td>\n",
       "      <td>0.9956</td>\n",
       "      <td>0.9998</td>\n",
       "    </tr>\n",
       "  </tbody>\n",
       "</table>\n",
       "</div>"
      ],
      "text/plain": [
       "              span_id  nr_train_images  roc_auc_mean  roc_auc.0  roc_auc.1  \\\n",
       "2  0xf23323b4a0fb0d5b              600        0.9990        1.0     0.9993   \n",
       "0  0x7ee5c600b958eca5              800        0.9990        1.0     0.9988   \n",
       "1  0x6d232fca2dcdf134             1000        0.9992        1.0     0.9990   \n",
       "3  0xa34b962c24f8c26b             1200        0.9993        1.0     0.9990   \n",
       "\n",
       "   roc_auc.2  roc_auc.3  roc_auc.4  roc_auc.5  roc_auc.6  roc_auc.7  \\\n",
       "2        1.0     0.9999     0.9990     0.9990     0.9999     0.9998   \n",
       "0        1.0     0.9998     0.9995     0.9992     1.0000     0.9999   \n",
       "1        1.0     0.9999     0.9997     0.9994     0.9999     0.9997   \n",
       "3        1.0     0.9999     0.9997     0.9997     0.9999     0.9998   \n",
       "\n",
       "   roc_auc.8  roc_auc.9  \n",
       "2     0.9948     0.9986  \n",
       "0     0.9933     0.9995  \n",
       "1     0.9952     0.9995  \n",
       "3     0.9956     0.9998  "
      ]
     },
     "execution_count": 10,
     "metadata": {},
     "output_type": "execute_result"
    }
   ],
   "source": [
    "df_data.round(4)"
   ]
  },
  {
   "cell_type": "code",
   "execution_count": 11,
   "id": "bd9f43e8",
   "metadata": {
    "execution": {
     "iopub.execute_input": "2022-11-28T06:45:37.010720Z",
     "iopub.status.busy": "2022-11-28T06:45:37.010289Z",
     "iopub.status.idle": "2022-11-28T06:45:37.197266Z",
     "shell.execute_reply": "2022-11-28T06:45:37.196672Z"
    },
    "papermill": {
     "duration": 0.194271,
     "end_time": "2022-11-28T06:45:37.199778",
     "exception": false,
     "start_time": "2022-11-28T06:45:37.005507",
     "status": "completed"
    },
    "tags": []
   },
   "outputs": [
    {
     "data": {
      "image/png": "[encoded data removed]",
      "text/plain": [
       "<Figure size 1600x400 with 1 Axes>"
      ]
     },
     "metadata": {},
     "output_type": "display_data"
    }
   ],
   "source": [
    "def plot_classifier_performance_summary(df_data):\n",
    "    fig, ax = plt.subplots(nrows=1, ncols=1, figsize=(16, 4), sharex=True)\n",
    "\n",
    "    #\n",
    "    ax.plot(\n",
    "        df_data[\"nr_train_images\"], df_data[\"roc_auc_mean\"], marker=\"o\", linestyle=\"--\"\n",
    "    )\n",
    "    ax.set_title(\n",
    "        f\"ROC AUC digit classifier performance on evaluation digits\", fontsize=17\n",
    "    )\n",
    "    ax.set_xlabel(\"Total number of digits in training set\", fontsize=14)\n",
    "    ax.set_ylabel(\"Mean ROC AUC\", fontsize=14)\n",
    "\n",
    "    fig.tight_layout()\n",
    "    fig.show()\n",
    "\n",
    "    return fig\n",
    "\n",
    "\n",
    "fig = plot_classifier_performance_summary(df_data)"
   ]
  },
  {
   "cell_type": "code",
   "execution_count": 12,
   "id": "64b2a297",
   "metadata": {
    "execution": {
     "iopub.execute_input": "2022-11-28T06:45:37.209745Z",
     "iopub.status.busy": "2022-11-28T06:45:37.209478Z",
     "iopub.status.idle": "2022-11-28T06:45:37.287428Z",
     "shell.execute_reply": "2022-11-28T06:45:37.286778Z"
    },
    "papermill": {
     "duration": 0.085622,
     "end_time": "2022-11-28T06:45:37.289618",
     "exception": false,
     "start_time": "2022-11-28T06:45:37.203996",
     "status": "completed"
    },
    "tags": []
   },
   "outputs": [],
   "source": [
    "logger.log_figure(\"auc-roc-model-performances.png\", fig)"
   ]
  },
  {
   "cell_type": "code",
   "execution_count": 13,
   "id": "2053606e",
   "metadata": {
    "execution": {
     "iopub.execute_input": "2022-11-28T06:45:37.298985Z",
     "iopub.status.busy": "2022-11-28T06:45:37.298597Z",
     "iopub.status.idle": "2022-11-28T06:45:37.301857Z",
     "shell.execute_reply": "2022-11-28T06:45:37.301245Z"
    },
    "papermill": {
     "duration": 0.009673,
     "end_time": "2022-11-28T06:45:37.303444",
     "exception": false,
     "start_time": "2022-11-28T06:45:37.293771",
     "status": "completed"
    },
    "tags": []
   },
   "outputs": [],
   "source": [
    "###"
   ]
  },
  {
   "cell_type": "code",
   "execution_count": null,
   "id": "b2947941",
   "metadata": {
    "papermill": {
     "duration": 0.003901,
     "end_time": "2022-11-28T06:45:37.311205",
     "exception": false,
     "start_time": "2022-11-28T06:45:37.307304",
     "status": "completed"
    },
    "tags": []
   },
   "outputs": [],
   "source": []
  }
 ],
 "metadata": {
  "jupytext": {
   "cell_metadata_filter": "tags,-all",
   "main_language": "python",
   "notebook_metadata_filter": "-all"
  },
  "language_info": {
   "codemirror_mode": {
    "name": "ipython",
    "version": 3
   },
   "file_extension": ".py",
   "mimetype": "text/x-python",
   "name": "python",
   "nbconvert_exporter": "python",
   "pygments_lexer": "ipython3",
   "version": "3.8.10"
  },
  "papermill": {
   "default_parameters": {},
   "duration": 3.845219,
   "end_time": "2022-11-28T06:45:38.239945",
   "environment_variables": {},
   "exception": null,
   "input_path": "/home/host_user/workspace/mnist-demo-pipeline/mnist-demo-pipeline/notebooks/temp-notebook-pitanq3y.ipynb",
   "output_path": "notebooks/summary.ipynb",
   "parameters": {
    "P": {
     "_opentelemetry_traceparent": "00-77ab81eb3be968f44ed6fb2299ede894-36a49b7765f8052f-01",
     "pipeline.data_lake_root": "/pipeline-outputs/data-lake",
     "pipeline.github.actor": "matiasdahl",
     "pipeline.github.base_ref": "",
     "pipeline.github.event_name": "schedule",
     "pipeline.github.head_ref": "",
     "pipeline.github.job": "run-tests-pipeline-and-persist-pipeline-outputs",
     "pipeline.github.ref": "refs/heads/development",
     "pipeline.github.ref_name": "development",
     "pipeline.github.ref_type": "branch",
     "pipeline.github.repository": "matiasdahl/dev-mnist-digits-demo-pipeline",
     "pipeline.github.run_id": "3562362414",
     "pipeline.github.runner_name": "Hosted Agent",
     "pipeline.github.sha": "ace0d01011d5e914f1921450dd5a59c11367b38d",
     "pipeline.github.workflow": "Run automated tests, pipeline and deploy results to static reporting site",
     "pipeline.pipeline_run_id": "49d99194-007a-41a8-8b21-77bf703eea63",
     "pipeline.run_environment": "ci",
     "run.retry_nr": "0",
     "task.max_nr_retries": "1",
     "task.notebook": "notebooks/summary.py",
     "task.num_cpus": 1,
     "task.timeout_s": "None"
    }
   },
   "start_time": "2022-11-28T06:45:34.394726",
   "version": "2.3.3"
  }
 },
 "nbformat": 4,
 "nbformat_minor": 5
}