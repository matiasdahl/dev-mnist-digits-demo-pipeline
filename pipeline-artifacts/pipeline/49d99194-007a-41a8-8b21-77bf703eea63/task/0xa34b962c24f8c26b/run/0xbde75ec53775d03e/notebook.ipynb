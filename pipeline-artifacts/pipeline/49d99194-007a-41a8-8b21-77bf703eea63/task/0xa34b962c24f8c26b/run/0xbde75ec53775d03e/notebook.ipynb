{
 "cells": [
  {
   "cell_type": "markdown",
   "id": "a2d084c2",
   "metadata": {
    "papermill": {
     "duration": 0.005989,
     "end_time": "2022-11-28T06:45:25.339481",
     "exception": false,
     "start_time": "2022-11-28T06:45:25.333492",
     "status": "completed"
    },
    "tags": []
   },
   "source": [
    "# Benchmark model\n",
    "\n",
    "The purpose of this notebook is to benchmark persisted onnx-model (trained in the\n",
    "previous step) against evaluation set."
   ]
  },
  {
   "cell_type": "markdown",
   "id": "2bde76f5",
   "metadata": {
    "papermill": {
     "duration": 0.004682,
     "end_time": "2022-11-28T06:45:25.348872",
     "exception": false,
     "start_time": "2022-11-28T06:45:25.344190",
     "status": "completed"
    },
    "tags": []
   },
   "source": [
    "### Determine run parameters"
   ]
  },
  {
   "cell_type": "code",
   "execution_count": 1,
   "id": "1544d5ba",
   "metadata": {
    "execution": {
     "iopub.execute_input": "2022-11-28T06:45:25.358823Z",
     "iopub.status.busy": "2022-11-28T06:45:25.358463Z",
     "iopub.status.idle": "2022-11-28T06:45:25.366706Z",
     "shell.execute_reply": "2022-11-28T06:45:25.365771Z"
    },
    "lines_to_next_cell": 0,
    "papermill": {
     "duration": 0.016608,
     "end_time": "2022-11-28T06:45:25.369383",
     "exception": false,
     "start_time": "2022-11-28T06:45:25.352775",
     "status": "completed"
    },
    "tags": []
   },
   "outputs": [],
   "source": [
    "# ----------------- Parameters for interactive development --------------\n",
    "P = {\n",
    "    \"pipeline.data_lake_root\": \"/pipeline-outputs/data-lake\",\n",
    "    \"task.nr_train_images\": 600,\n",
    "}"
   ]
  },
  {
   "cell_type": "code",
   "execution_count": 2,
   "id": "9c1d3a8a",
   "metadata": {
    "execution": {
     "iopub.execute_input": "2022-11-28T06:45:25.379211Z",
     "iopub.status.busy": "2022-11-28T06:45:25.379000Z",
     "iopub.status.idle": "2022-11-28T06:45:25.382209Z",
     "shell.execute_reply": "2022-11-28T06:45:25.381391Z"
    },
    "lines_to_next_cell": 0,
    "papermill": {
     "duration": 0.011024,
     "end_time": "2022-11-28T06:45:25.384894",
     "exception": false,
     "start_time": "2022-11-28T06:45:25.373870",
     "status": "completed"
    },
    "tags": [
     "parameters"
    ]
   },
   "outputs": [],
   "source": [
    "# - During automated runs parameters will be injected in the below cell -"
   ]
  },
  {
   "cell_type": "code",
   "execution_count": 3,
   "id": "99cd14c1",
   "metadata": {
    "execution": {
     "iopub.execute_input": "2022-11-28T06:45:25.394948Z",
     "iopub.status.busy": "2022-11-28T06:45:25.394740Z",
     "iopub.status.idle": "2022-11-28T06:45:25.399457Z",
     "shell.execute_reply": "2022-11-28T06:45:25.398967Z"
    },
    "papermill": {
     "duration": 0.012687,
     "end_time": "2022-11-28T06:45:25.402249",
     "exception": false,
     "start_time": "2022-11-28T06:45:25.389562",
     "status": "completed"
    },
    "tags": [
     "injected-parameters"
    ]
   },
   "outputs": [],
   "source": [
    "# Parameters\n",
    "P = {\n",
    "    \"pipeline.data_lake_root\": \"/pipeline-outputs/data-lake\",\n",
    "    \"pipeline.run_environment\": \"ci\",\n",
    "    \"pipeline.pipeline_run_id\": \"49d99194-007a-41a8-8b21-77bf703eea63\",\n",
    "    \"pipeline.github.repository\": \"matiasdahl/dev-mnist-digits-demo-pipeline\",\n",
    "    \"pipeline.github.workflow\": \"Run automated tests, pipeline and deploy results to static reporting site\",\n",
    "    \"pipeline.github.runner_name\": \"Hosted Agent\",\n",
    "    \"pipeline.github.run_id\": \"3562362414\",\n",
    "    \"pipeline.github.actor\": \"matiasdahl\",\n",
    "    \"pipeline.github.job\": \"run-tests-pipeline-and-persist-pipeline-outputs\",\n",
    "    \"pipeline.github.base_ref\": \"\",\n",
    "    \"pipeline.github.head_ref\": \"\",\n",
    "    \"pipeline.github.sha\": \"ace0d01011d5e914f1921450dd5a59c11367b38d\",\n",
    "    \"pipeline.github.ref\": \"refs/heads/development\",\n",
    "    \"pipeline.github.ref_type\": \"branch\",\n",
    "    \"pipeline.github.ref_name\": \"development\",\n",
    "    \"pipeline.github.event_name\": \"schedule\",\n",
    "    \"task.nr_train_images\": 1200,\n",
    "    \"task.notebook\": \"notebooks/benchmark-model.py\",\n",
    "    \"task.max_nr_retries\": \"1\",\n",
    "    \"run.retry_nr\": \"0\",\n",
    "    \"task.timeout_s\": \"None\",\n",
    "    \"task.num_cpus\": 1,\n",
    "    \"_opentelemetry_traceparent\": \"00-77ab81eb3be968f44ed6fb2299ede894-1b125bd10720ba5e-01\",\n",
    "}\n"
   ]
  },
  {
   "cell_type": "code",
   "execution_count": 4,
   "id": "55f4fc04",
   "metadata": {
    "execution": {
     "iopub.execute_input": "2022-11-28T06:45:25.412626Z",
     "iopub.status.busy": "2022-11-28T06:45:25.412404Z",
     "iopub.status.idle": "2022-11-28T06:45:25.415199Z",
     "shell.execute_reply": "2022-11-28T06:45:25.414699Z"
    },
    "lines_to_next_cell": 0,
    "papermill": {
     "duration": 0.011108,
     "end_time": "2022-11-28T06:45:25.418235",
     "exception": false,
     "start_time": "2022-11-28T06:45:25.407127",
     "status": "completed"
    },
    "tags": []
   },
   "outputs": [],
   "source": [
    "# -----------------------------------------------------------------------"
   ]
  },
  {
   "cell_type": "markdown",
   "id": "cd527b5a",
   "metadata": {
    "papermill": {
     "duration": 0.004142,
     "end_time": "2022-11-28T06:45:25.426232",
     "exception": false,
     "start_time": "2022-11-28T06:45:25.422090",
     "status": "completed"
    },
    "tags": []
   },
   "source": [
    "---"
   ]
  },
  {
   "cell_type": "markdown",
   "id": "4e7ecfe1",
   "metadata": {
    "lines_to_next_cell": 2,
    "papermill": {
     "duration": 0.004048,
     "end_time": "2022-11-28T06:45:25.435059",
     "exception": false,
     "start_time": "2022-11-28T06:45:25.431011",
     "status": "completed"
    },
    "tags": []
   },
   "source": [
    "### Notebook code"
   ]
  },
  {
   "cell_type": "code",
   "execution_count": 5,
   "id": "7ed223f8",
   "metadata": {
    "execution": {
     "iopub.execute_input": "2022-11-28T06:45:25.444898Z",
     "iopub.status.busy": "2022-11-28T06:45:25.444669Z",
     "iopub.status.idle": "2022-11-28T06:45:26.596762Z",
     "shell.execute_reply": "2022-11-28T06:45:26.595955Z"
    },
    "papermill": {
     "duration": 1.159469,
     "end_time": "2022-11-28T06:45:26.599127",
     "exception": false,
     "start_time": "2022-11-28T06:45:25.439658",
     "status": "completed"
    },
    "tags": []
   },
   "outputs": [
    {
     "name": "stderr",
     "output_type": "stream",
     "text": [
      "2022-11-28 06:45:26,422\tINFO worker.py:842 -- Connecting to existing Ray cluster at address: 172.17.0.2:6379\n"
     ]
    }
   ],
   "source": [
    "import itertools as it\n",
    "\n",
    "#\n",
    "import numpy as np\n",
    "import matplotlib.pyplot as plt\n",
    "\n",
    "#\n",
    "from pynb_dag_runner.tasks.task_opentelemetry_logging import PydarLogger\n",
    "\n",
    "#\n",
    "from common.io import datalake_root\n",
    "\n",
    "logger = PydarLogger(P)"
   ]
  },
  {
   "cell_type": "markdown",
   "id": "f9721cf9",
   "metadata": {
    "papermill": {
     "duration": 0.007907,
     "end_time": "2022-11-28T06:45:26.612510",
     "exception": false,
     "start_time": "2022-11-28T06:45:26.604603",
     "status": "completed"
    },
    "tags": []
   },
   "source": [
    "## Load persisted onnx-model and evaluation data"
   ]
  },
  {
   "cell_type": "code",
   "execution_count": 6,
   "id": "8686605c",
   "metadata": {
    "execution": {
     "iopub.execute_input": "2022-11-28T06:45:26.622538Z",
     "iopub.status.busy": "2022-11-28T06:45:26.622152Z",
     "iopub.status.idle": "2022-11-28T06:45:26.625582Z",
     "shell.execute_reply": "2022-11-28T06:45:26.625041Z"
    },
    "papermill": {
     "duration": 0.011848,
     "end_time": "2022-11-28T06:45:26.628300",
     "exception": false,
     "start_time": "2022-11-28T06:45:26.616452",
     "status": "completed"
    },
    "tags": []
   },
   "outputs": [],
   "source": [
    "from common.io import read_onnx, get_onnx_inputs, get_onnx_outputs, read_numpy"
   ]
  },
  {
   "cell_type": "code",
   "execution_count": 7,
   "id": "d0e3d5a2",
   "metadata": {
    "execution": {
     "iopub.execute_input": "2022-11-28T06:45:26.649814Z",
     "iopub.status.busy": "2022-11-28T06:45:26.649519Z",
     "iopub.status.idle": "2022-11-28T06:45:26.659930Z",
     "shell.execute_reply": "2022-11-28T06:45:26.659393Z"
    },
    "lines_to_next_cell": 0,
    "papermill": {
     "duration": 0.027059,
     "end_time": "2022-11-28T06:45:26.661291",
     "exception": false,
     "start_time": "2022-11-28T06:45:26.634232",
     "status": "completed"
    },
    "tags": []
   },
   "outputs": [],
   "source": [
    "onnx_inference_session = read_onnx(\n",
    "    datalake_root(P)\n",
    "    / \"models\"\n",
    "    / f\"nr_train_images={P['task.nr_train_images']}\"\n",
    "    / \"model.onnx\"\n",
    ")"
   ]
  },
  {
   "cell_type": "markdown",
   "id": "bab9d7a1",
   "metadata": {
    "papermill": {
     "duration": 0.004281,
     "end_time": "2022-11-28T06:45:26.669926",
     "exception": false,
     "start_time": "2022-11-28T06:45:26.665645",
     "status": "completed"
    },
    "tags": []
   },
   "source": [
    "### Record structure of inputs and outputs for ONNX model\n",
    "\n",
    "(this should likely be done in training notebook)"
   ]
  },
  {
   "cell_type": "code",
   "execution_count": 8,
   "id": "b0e65ead",
   "metadata": {
    "execution": {
     "iopub.execute_input": "2022-11-28T06:45:26.679882Z",
     "iopub.status.busy": "2022-11-28T06:45:26.679459Z",
     "iopub.status.idle": "2022-11-28T06:45:26.685065Z",
     "shell.execute_reply": "2022-11-28T06:45:26.684576Z"
    },
    "papermill": {
     "duration": 0.012017,
     "end_time": "2022-11-28T06:45:26.686349",
     "exception": false,
     "start_time": "2022-11-28T06:45:26.674332",
     "status": "completed"
    },
    "tags": []
   },
   "outputs": [
    {
     "name": "stdout",
     "output_type": "stream",
     "text": [
      "{\n",
      "  \"inputs\": [\n",
      "    {\n",
      "      \"name\": \"float_input_8x8_image\",\n",
      "      \"shape\": [\n",
      "        null,\n",
      "        64\n",
      "      ],\n",
      "      \"type\": \"tensor(float)\"\n",
      "    }\n",
      "  ],\n",
      "  \"outputs\": [\n",
      "    {\n",
      "      \"name\": \"output_label\",\n",
      "      \"shape\": [\n",
      "        null\n",
      "      ],\n",
      "      \"type\": \"tensor(int64)\"\n",
      "    },\n",
      "    {\n",
      "      \"name\": \"output_probability\",\n",
      "      \"shape\": [],\n",
      "      \"type\": \"seq(map(int64,tensor(float)))\"\n",
      "    }\n",
      "  ]\n",
      "}\n"
     ]
    }
   ],
   "source": [
    "import json\n",
    "\n",
    "onnx_io = json.dumps(\n",
    "    {\n",
    "        \"inputs\": get_onnx_inputs(onnx_inference_session),\n",
    "        \"outputs\": get_onnx_outputs(onnx_inference_session),\n",
    "    },\n",
    "    indent=2,\n",
    ")\n",
    "\n",
    "\n",
    "logger.log_artefact(\"onnx_io_structure.json\", onnx_io)\n",
    "print(onnx_io)"
   ]
  },
  {
   "cell_type": "markdown",
   "id": "7b6531a9",
   "metadata": {
    "papermill": {
     "duration": 0.004316,
     "end_time": "2022-11-28T06:45:26.695295",
     "exception": false,
     "start_time": "2022-11-28T06:45:26.690979",
     "status": "completed"
    },
    "tags": []
   },
   "source": [
    "### Evaluate model performance on evaluation data set"
   ]
  },
  {
   "cell_type": "code",
   "execution_count": 9,
   "id": "ac9797a5",
   "metadata": {
    "execution": {
     "iopub.execute_input": "2022-11-28T06:45:26.706280Z",
     "iopub.status.busy": "2022-11-28T06:45:26.705735Z",
     "iopub.status.idle": "2022-11-28T06:45:26.710774Z",
     "shell.execute_reply": "2022-11-28T06:45:26.710254Z"
    },
    "papermill": {
     "duration": 0.012787,
     "end_time": "2022-11-28T06:45:26.712417",
     "exception": false,
     "start_time": "2022-11-28T06:45:26.699630",
     "status": "completed"
    },
    "tags": []
   },
   "outputs": [],
   "source": [
    "# load evaluation data\n",
    "X_test = read_numpy(datalake_root(P) / \"test-data\" / \"digits.numpy\")\n",
    "y_test = read_numpy(datalake_root(P) / \"test-data\" / \"labels.numpy\")"
   ]
  },
  {
   "cell_type": "code",
   "execution_count": 10,
   "id": "888e6223",
   "metadata": {
    "execution": {
     "iopub.execute_input": "2022-11-28T06:45:26.722873Z",
     "iopub.status.busy": "2022-11-28T06:45:26.722116Z",
     "iopub.status.idle": "2022-11-28T06:45:26.796374Z",
     "shell.execute_reply": "2022-11-28T06:45:26.795629Z"
    },
    "papermill": {
     "duration": 0.081432,
     "end_time": "2022-11-28T06:45:26.798255",
     "exception": false,
     "start_time": "2022-11-28T06:45:26.716823",
     "status": "completed"
    },
    "tags": []
   },
   "outputs": [],
   "source": [
    "def get_model_outputs(X, onnx_inference_session):\n",
    "    y_pred_labels, y_pred_map = onnx_inference_session.run(\n",
    "        [\"output_label\", \"output_probability\"],\n",
    "        {\"float_input_8x8_image\": X.astype(np.float32)},\n",
    "    )\n",
    "    y_pred_probs = np.array(\n",
    "        [[probabilities[digit] for digit in range(10)] for probabilities in y_pred_map]\n",
    "    )\n",
    "\n",
    "    assert y_pred_labels.shape == (X.shape[0],)\n",
    "    assert y_pred_probs.shape == (X.shape[0], 10)\n",
    "\n",
    "    return y_pred_labels, y_pred_probs\n",
    "\n",
    "\n",
    "# Note: as shown in the training notebook, the predicted labels and probabilities\n",
    "# computed below need not be compatible.\n",
    "y_pred_labels_test, y_pred_probs_test = get_model_outputs(\n",
    "    X_test, onnx_inference_session\n",
    ")"
   ]
  },
  {
   "cell_type": "markdown",
   "id": "ea0424c9",
   "metadata": {
    "papermill": {
     "duration": 0.005098,
     "end_time": "2022-11-28T06:45:26.808717",
     "exception": false,
     "start_time": "2022-11-28T06:45:26.803619",
     "status": "completed"
    },
    "tags": []
   },
   "source": [
    "### Confusion matrix"
   ]
  },
  {
   "cell_type": "code",
   "execution_count": 11,
   "id": "4a58cb2a",
   "metadata": {
    "execution": {
     "iopub.execute_input": "2022-11-28T06:45:26.819736Z",
     "iopub.status.busy": "2022-11-28T06:45:26.819446Z",
     "iopub.status.idle": "2022-11-28T06:45:26.822567Z",
     "shell.execute_reply": "2022-11-28T06:45:26.821924Z"
    },
    "papermill": {
     "duration": 0.011232,
     "end_time": "2022-11-28T06:45:26.824756",
     "exception": false,
     "start_time": "2022-11-28T06:45:26.813524",
     "status": "completed"
    },
    "tags": []
   },
   "outputs": [],
   "source": [
    "# TODO"
   ]
  },
  {
   "cell_type": "markdown",
   "id": "8f967d1d",
   "metadata": {
    "papermill": {
     "duration": 0.004685,
     "end_time": "2022-11-28T06:45:26.833834",
     "exception": false,
     "start_time": "2022-11-28T06:45:26.829149",
     "status": "completed"
    },
    "tags": []
   },
   "source": [
    "### Plot predicted probabilities for each classifier over all evaluation digit images"
   ]
  },
  {
   "cell_type": "code",
   "execution_count": 12,
   "id": "571f8496",
   "metadata": {
    "execution": {
     "iopub.execute_input": "2022-11-28T06:45:26.844453Z",
     "iopub.status.busy": "2022-11-28T06:45:26.843565Z",
     "iopub.status.idle": "2022-11-28T06:45:29.793668Z",
     "shell.execute_reply": "2022-11-28T06:45:29.792875Z"
    },
    "papermill": {
     "duration": 2.957077,
     "end_time": "2022-11-28T06:45:29.795261",
     "exception": false,
     "start_time": "2022-11-28T06:45:26.838184",
     "status": "completed"
    },
    "tags": []
   },
   "outputs": [
    {
     "data": {
      "image/png": "[encoded data removed]",
      "text/plain": [
       "<Figure size 1600x600 with 10 Axes>"
      ]
     },
     "metadata": {},
     "output_type": "display_data"
    }
   ],
   "source": [
    "def plot_per_digit_probabilities(y_pred_probs):\n",
    "    fig, axs = plt.subplots(nrows=2, ncols=5, figsize=(16, 6))\n",
    "\n",
    "    for (r, c), digit, ax in zip(\n",
    "        it.product(range(2), range(5)), range(10), axs.reshape(-1)\n",
    "    ):\n",
    "        ax.hist(y_pred_probs_test[:, digit], bins=20)\n",
    "\n",
    "        ax.set_title(f\"Digit {digit}\")\n",
    "        if r == 1 and c == 2:\n",
    "            ax.set_xlabel(\"probability\", fontsize=16)\n",
    "\n",
    "        if c == 0:\n",
    "            ax.set_ylabel(\"counts\", fontsize=16)\n",
    "        ax.set_yscale(\"log\")\n",
    "\n",
    "    fig.tight_layout()\n",
    "    fig.suptitle(\n",
    "        f\"Distributions of prediction probabilities for each digit \"\n",
    "        f\"(on evaluation data, n={y_pred_probs.shape[0]})\",\n",
    "        fontsize=20,\n",
    "    )\n",
    "    fig.tight_layout()\n",
    "    fig.show()\n",
    "\n",
    "    return fig\n",
    "\n",
    "\n",
    "fig = plot_per_digit_probabilities(y_pred_probs_test)"
   ]
  },
  {
   "cell_type": "markdown",
   "id": "3d351576",
   "metadata": {
    "papermill": {
     "duration": 0.005614,
     "end_time": "2022-11-28T06:45:29.806280",
     "exception": false,
     "start_time": "2022-11-28T06:45:29.800666",
     "status": "completed"
    },
    "tags": []
   },
   "source": [
    "From the above distributions we see that most digits have clear separation between\n",
    "high and lower probabilities. Morover, in each case there is roughly an order of\n",
    "magnitude more of digits with low probabilities. This is compatible with digits\n",
    "being roughly evenly distributed in the data."
   ]
  },
  {
   "cell_type": "code",
   "execution_count": 13,
   "id": "801ad11a",
   "metadata": {
    "execution": {
     "iopub.execute_input": "2022-11-28T06:45:29.817947Z",
     "iopub.status.busy": "2022-11-28T06:45:29.817508Z",
     "iopub.status.idle": "2022-11-28T06:45:30.271461Z",
     "shell.execute_reply": "2022-11-28T06:45:30.270112Z"
    },
    "papermill": {
     "duration": 0.462395,
     "end_time": "2022-11-28T06:45:30.273568",
     "exception": false,
     "start_time": "2022-11-28T06:45:29.811173",
     "status": "completed"
    },
    "tags": []
   },
   "outputs": [],
   "source": [
    "logger.log_figure(\"per-digit-probabilities.png\", fig)"
   ]
  },
  {
   "cell_type": "markdown",
   "id": "356e2098",
   "metadata": {
    "papermill": {
     "duration": 0.005036,
     "end_time": "2022-11-28T06:45:30.284470",
     "exception": false,
     "start_time": "2022-11-28T06:45:30.279434",
     "status": "completed"
    },
    "tags": []
   },
   "source": [
    "### Plot ROC curves for individual one-vs-rest classifiers"
   ]
  },
  {
   "cell_type": "code",
   "execution_count": 14,
   "id": "5946f2ec",
   "metadata": {
    "execution": {
     "iopub.execute_input": "2022-11-28T06:45:30.296608Z",
     "iopub.status.busy": "2022-11-28T06:45:30.295987Z",
     "iopub.status.idle": "2022-11-28T06:45:30.705455Z",
     "shell.execute_reply": "2022-11-28T06:45:30.704847Z"
    },
    "papermill": {
     "duration": 0.417454,
     "end_time": "2022-11-28T06:45:30.707505",
     "exception": false,
     "start_time": "2022-11-28T06:45:30.290051",
     "status": "completed"
    },
    "tags": []
   },
   "outputs": [],
   "source": [
    "from sklearn import metrics"
   ]
  },
  {
   "cell_type": "code",
   "execution_count": 15,
   "id": "1390b6a6",
   "metadata": {
    "execution": {
     "iopub.execute_input": "2022-11-28T06:45:30.720004Z",
     "iopub.status.busy": "2022-11-28T06:45:30.719520Z",
     "iopub.status.idle": "2022-11-28T06:45:31.764699Z",
     "shell.execute_reply": "2022-11-28T06:45:31.764028Z"
    },
    "papermill": {
     "duration": 1.053431,
     "end_time": "2022-11-28T06:45:31.766502",
     "exception": false,
     "start_time": "2022-11-28T06:45:30.713071",
     "status": "completed"
    },
    "tags": []
   },
   "outputs": [
    {
     "data": {
      "image/png": "[encoded data removed]",
      "text/plain": [
       "<Figure size 1600x800 with 10 Axes>"
      ]
     },
     "metadata": {},
     "output_type": "display_data"
    }
   ],
   "source": [
    "def plot_roc_curves(y, y_pred_probs):\n",
    "    # based on example code\n",
    "    # https://scikit-learn.org/stable/auto_examples/model_selection/plot_roc.html\n",
    "\n",
    "    fig, axs = plt.subplots(nrows=2, ncols=5, figsize=(16, 8))\n",
    "\n",
    "    roc_auc_dict = {}\n",
    "\n",
    "    for (r, c), digit, ax in zip(\n",
    "        it.product(range(2), range(5)), range(10), axs.reshape(-1)\n",
    "    ):\n",
    "        fpr, tpr, _ = metrics.roc_curve(y == digit, y_pred_probs[:, digit])\n",
    "        auc = metrics.auc(fpr, tpr)\n",
    "        roc_auc_dict[str(digit)] = auc\n",
    "\n",
    "        ax.plot(fpr, tpr, label=f\"ROC AUC={round(auc, 3)}\")\n",
    "\n",
    "        ax.set_title(f\"\\nDigit {digit}\", fontsize=16)\n",
    "        if r == 1:\n",
    "            ax.set_xlabel(\"FPR\", fontsize=18)\n",
    "\n",
    "        if c == 0:\n",
    "            ax.set_ylabel(\"TPR\", fontsize=18)\n",
    "\n",
    "        ax.set_xlim([-0.05, 1.05])\n",
    "        ax.set_ylim([-0.05, 1.05])\n",
    "        ax.legend(loc=\"lower right\", frameon=False, fontsize=14)\n",
    "\n",
    "    fig.tight_layout()\n",
    "    fig.suptitle(\n",
    "        f\"ROC plots for one-vs-rest performances \"\n",
    "        f\"(on evaluation data, n={y_pred_probs_test.shape[1]}\",\n",
    "        fontsize=22,\n",
    "    )\n",
    "    fig.tight_layout()\n",
    "    fig.show()\n",
    "\n",
    "    return roc_auc_dict, fig\n",
    "\n",
    "\n",
    "roc_auc_dict, fig = plot_roc_curves(y_test, y_pred_probs_test)"
   ]
  },
  {
   "cell_type": "code",
   "execution_count": 16,
   "id": "a531b1fc",
   "metadata": {
    "execution": {
     "iopub.execute_input": "2022-11-28T06:45:31.781641Z",
     "iopub.status.busy": "2022-11-28T06:45:31.781140Z",
     "iopub.status.idle": "2022-11-28T06:45:32.024314Z",
     "shell.execute_reply": "2022-11-28T06:45:32.023595Z"
    },
    "papermill": {
     "duration": 0.253235,
     "end_time": "2022-11-28T06:45:32.026611",
     "exception": false,
     "start_time": "2022-11-28T06:45:31.773376",
     "status": "completed"
    },
    "tags": []
   },
   "outputs": [],
   "source": [
    "logger.log_figure(\"per-digit-roc-curves.png\", fig)"
   ]
  },
  {
   "cell_type": "code",
   "execution_count": 17,
   "id": "805639e9",
   "metadata": {
    "execution": {
     "iopub.execute_input": "2022-11-28T06:45:32.041264Z",
     "iopub.status.busy": "2022-11-28T06:45:32.040779Z",
     "iopub.status.idle": "2022-11-28T06:45:32.045826Z",
     "shell.execute_reply": "2022-11-28T06:45:32.045200Z"
    },
    "papermill": {
     "duration": 0.014871,
     "end_time": "2022-11-28T06:45:32.048443",
     "exception": false,
     "start_time": "2022-11-28T06:45:32.033572",
     "status": "completed"
    },
    "tags": []
   },
   "outputs": [
    {
     "data": {
      "text/plain": [
       "{'0': 1.0,\n",
       " '1': 0.998950328022493,\n",
       " '2': 1.0,\n",
       " '3': 0.9998500468603562,\n",
       " '4': 0.9997332723670173,\n",
       " '5': 0.9997000937207123,\n",
       " '6': 0.999923792104862,\n",
       " '7': 0.9998475842097242,\n",
       " '8': 0.9955863808322825,\n",
       " '9': 0.9998094802621552}"
      ]
     },
     "execution_count": 17,
     "metadata": {},
     "output_type": "execute_result"
    }
   ],
   "source": [
    "roc_auc_dict"
   ]
  },
  {
   "cell_type": "code",
   "execution_count": 18,
   "id": "8da79480",
   "metadata": {
    "execution": {
     "iopub.execute_input": "2022-11-28T06:45:32.062757Z",
     "iopub.status.busy": "2022-11-28T06:45:32.062294Z",
     "iopub.status.idle": "2022-11-28T06:45:32.068637Z",
     "shell.execute_reply": "2022-11-28T06:45:32.067994Z"
    },
    "papermill": {
     "duration": 0.015452,
     "end_time": "2022-11-28T06:45:32.070171",
     "exception": false,
     "start_time": "2022-11-28T06:45:32.054719",
     "status": "completed"
    },
    "tags": []
   },
   "outputs": [
    {
     "name": "stdout",
     "output_type": "stream",
     "text": [
      " - Logging roc_auc_per_digit (json) : {'0': 1.0, '1': 0.998950328022493, '2': 1.0, '3': 0.9998500468603562, '4': 0.9997332723670173, '5': 0.9997000937207123, '6': 0.999923792104862, '7': 0.9998475842097242, '8': 0.9955863808322825, '9': 0.9998094802621552}\n"
     ]
    }
   ],
   "source": [
    "logger.log_value(\"roc_auc_per_digit\", roc_auc_dict)"
   ]
  },
  {
   "cell_type": "markdown",
   "id": "4cdea357",
   "metadata": {
    "papermill": {
     "duration": 0.006202,
     "end_time": "2022-11-28T06:45:32.087555",
     "exception": false,
     "start_time": "2022-11-28T06:45:32.081353",
     "status": "completed"
    },
    "tags": []
   },
   "source": [
    "### Compute and log mean ROC AUC score averaged over all digits"
   ]
  },
  {
   "cell_type": "code",
   "execution_count": 19,
   "id": "69d9d5e9",
   "metadata": {
    "execution": {
     "iopub.execute_input": "2022-11-28T06:45:32.101753Z",
     "iopub.status.busy": "2022-11-28T06:45:32.101396Z",
     "iopub.status.idle": "2022-11-28T06:45:32.113340Z",
     "shell.execute_reply": "2022-11-28T06:45:32.112708Z"
    },
    "papermill": {
     "duration": 0.02112,
     "end_time": "2022-11-28T06:45:32.115205",
     "exception": false,
     "start_time": "2022-11-28T06:45:32.094085",
     "status": "completed"
    },
    "tags": []
   },
   "outputs": [
    {
     "name": "stdout",
     "output_type": "stream",
     "text": [
      " - Logging roc_auc_class_mean (float) : 0.9993400978379603\n"
     ]
    }
   ],
   "source": [
    "roc_auc_macro = np.mean(list(roc_auc_dict.values()))\n",
    "\n",
    "logger.log_float(\"roc_auc_class_mean\", roc_auc_macro)\n",
    "\n",
    "# assert that the same value can be computed directly using sklearn\n",
    "assert roc_auc_macro == metrics.roc_auc_score(\n",
    "    y_test, y_pred_probs_test, average=\"macro\", multi_class=\"ovr\"\n",
    ")"
   ]
  },
  {
   "cell_type": "code",
   "execution_count": 20,
   "id": "7379d580",
   "metadata": {
    "execution": {
     "iopub.execute_input": "2022-11-28T06:45:32.130016Z",
     "iopub.status.busy": "2022-11-28T06:45:32.129598Z",
     "iopub.status.idle": "2022-11-28T06:45:32.133141Z",
     "shell.execute_reply": "2022-11-28T06:45:32.132243Z"
    },
    "lines_to_next_cell": 0,
    "papermill": {
     "duration": 0.012707,
     "end_time": "2022-11-28T06:45:32.134791",
     "exception": false,
     "start_time": "2022-11-28T06:45:32.122084",
     "status": "completed"
    },
    "tags": []
   },
   "outputs": [],
   "source": [
    "# ---"
   ]
  },
  {
   "cell_type": "code",
   "execution_count": null,
   "id": "3b752675",
   "metadata": {
    "papermill": {
     "duration": 0.006411,
     "end_time": "2022-11-28T06:45:32.147715",
     "exception": false,
     "start_time": "2022-11-28T06:45:32.141304",
     "status": "completed"
    },
    "tags": []
   },
   "outputs": [],
   "source": []
  }
 ],
 "metadata": {
  "jupytext": {
   "cell_metadata_filter": "tags,-all",
   "main_language": "python",
   "notebook_metadata_filter": "-all"
  },
  "language_info": {
   "codemirror_mode": {
    "name": "ipython",
    "version": 3
   },
   "file_extension": ".py",
   "mimetype": "text/x-python",
   "name": "python",
   "nbconvert_exporter": "python",
   "pygments_lexer": "ipython3",
   "version": "3.8.10"
  },
  "papermill": {
   "default_parameters": {},
   "duration": 9.141991,
   "end_time": "2022-11-28T06:45:33.173242",
   "environment_variables": {},
   "exception": null,
   "input_path": "/home/host_user/workspace/mnist-demo-pipeline/mnist-demo-pipeline/notebooks/temp-notebook-3qu7k082.ipynb",
   "output_path": "notebooks/benchmark-model.ipynb",
   "parameters": {
    "P": {
     "_opentelemetry_traceparent": "00-77ab81eb3be968f44ed6fb2299ede894-1b125bd10720ba5e-01",
     "pipeline.data_lake_root": "/pipeline-outputs/data-lake",
     "pipeline.github.actor": "matiasdahl",
     "pipeline.github.base_ref": "",
     "pipeline.github.event_name": "schedule",
     "pipeline.github.head_ref": "",
     "pipeline.github.job": "run-tests-pipeline-and-persist-pipeline-outputs",
     "pipeline.github.ref": "refs/heads/development",
     "pipeline.github.ref_name": "development",
     "pipeline.github.ref_type": "branch",
     "pipeline.github.repository": "matiasdahl/dev-mnist-digits-demo-pipeline",
     "pipeline.github.run_id": "3562362414",
     "pipeline.github.runner_name": "Hosted Agent",
     "pipeline.github.sha": "ace0d01011d5e914f1921450dd5a59c11367b38d",
     "pipeline.github.workflow": "Run automated tests, pipeline and deploy results to static reporting site",
     "pipeline.pipeline_run_id": "49d99194-007a-41a8-8b21-77bf703eea63",
     "pipeline.run_environment": "ci",
     "run.retry_nr": "0",
     "task.max_nr_retries": "1",
     "task.notebook": "notebooks/benchmark-model.py",
     "task.nr_train_images": 1200,
     "task.num_cpus": 1,
     "task.timeout_s": "None"
    }
   },
   "start_time": "2022-11-28T06:45:24.031251",
   "version": "2.3.3"
  }
 },
 "nbformat": 4,
 "nbformat_minor": 5
}