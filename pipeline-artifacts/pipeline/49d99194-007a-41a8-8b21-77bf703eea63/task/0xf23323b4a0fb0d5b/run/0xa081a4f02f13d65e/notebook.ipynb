{
 "cells": [
  {
   "cell_type": "markdown",
   "id": "507062ef",
   "metadata": {
    "papermill": {
     "duration": 0.006982,
     "end_time": "2022-11-28T06:45:08.485666",
     "exception": false,
     "start_time": "2022-11-28T06:45:08.478684",
     "status": "completed"
    },
    "tags": []
   },
   "source": [
    "# Benchmark model\n",
    "\n",
    "The purpose of this notebook is to benchmark persisted onnx-model (trained in the\n",
    "previous step) against evaluation set."
   ]
  },
  {
   "cell_type": "markdown",
   "id": "317fe3dd",
   "metadata": {
    "papermill": {
     "duration": 0.012998,
     "end_time": "2022-11-28T06:45:08.503255",
     "exception": false,
     "start_time": "2022-11-28T06:45:08.490257",
     "status": "completed"
    },
    "tags": []
   },
   "source": [
    "### Determine run parameters"
   ]
  },
  {
   "cell_type": "code",
   "execution_count": 1,
   "id": "7e57e7fa",
   "metadata": {
    "execution": {
     "iopub.execute_input": "2022-11-28T06:45:08.513637Z",
     "iopub.status.busy": "2022-11-28T06:45:08.513254Z",
     "iopub.status.idle": "2022-11-28T06:45:08.521748Z",
     "shell.execute_reply": "2022-11-28T06:45:08.521218Z"
    },
    "lines_to_next_cell": 0,
    "papermill": {
     "duration": 0.016218,
     "end_time": "2022-11-28T06:45:08.523469",
     "exception": false,
     "start_time": "2022-11-28T06:45:08.507251",
     "status": "completed"
    },
    "tags": []
   },
   "outputs": [],
   "source": [
    "# ----------------- Parameters for interactive development --------------\n",
    "P = {\n",
    "    \"pipeline.data_lake_root\": \"/pipeline-outputs/data-lake\",\n",
    "    \"task.nr_train_images\": 600,\n",
    "}"
   ]
  },
  {
   "cell_type": "code",
   "execution_count": 2,
   "id": "185f7730",
   "metadata": {
    "execution": {
     "iopub.execute_input": "2022-11-28T06:45:08.532753Z",
     "iopub.status.busy": "2022-11-28T06:45:08.532524Z",
     "iopub.status.idle": "2022-11-28T06:45:08.535394Z",
     "shell.execute_reply": "2022-11-28T06:45:08.534869Z"
    },
    "lines_to_next_cell": 0,
    "papermill": {
     "duration": 0.009995,
     "end_time": "2022-11-28T06:45:08.537791",
     "exception": false,
     "start_time": "2022-11-28T06:45:08.527796",
     "status": "completed"
    },
    "tags": [
     "parameters"
    ]
   },
   "outputs": [],
   "source": [
    "# - During automated runs parameters will be injected in the below cell -"
   ]
  },
  {
   "cell_type": "code",
   "execution_count": 3,
   "id": "086110a9",
   "metadata": {
    "execution": {
     "iopub.execute_input": "2022-11-28T06:45:08.546666Z",
     "iopub.status.busy": "2022-11-28T06:45:08.546452Z",
     "iopub.status.idle": "2022-11-28T06:45:08.550688Z",
     "shell.execute_reply": "2022-11-28T06:45:08.550184Z"
    },
    "papermill": {
     "duration": 0.011284,
     "end_time": "2022-11-28T06:45:08.552992",
     "exception": false,
     "start_time": "2022-11-28T06:45:08.541708",
     "status": "completed"
    },
    "tags": [
     "injected-parameters"
    ]
   },
   "outputs": [],
   "source": [
    "# Parameters\n",
    "P = {\n",
    "    \"pipeline.data_lake_root\": \"/pipeline-outputs/data-lake\",\n",
    "    \"pipeline.run_environment\": \"ci\",\n",
    "    \"pipeline.pipeline_run_id\": \"49d99194-007a-41a8-8b21-77bf703eea63\",\n",
    "    \"pipeline.github.repository\": \"matiasdahl/dev-mnist-digits-demo-pipeline\",\n",
    "    \"pipeline.github.workflow\": \"Run automated tests, pipeline and deploy results to static reporting site\",\n",
    "    \"pipeline.github.runner_name\": \"Hosted Agent\",\n",
    "    \"pipeline.github.run_id\": \"3562362414\",\n",
    "    \"pipeline.github.actor\": \"matiasdahl\",\n",
    "    \"pipeline.github.job\": \"run-tests-pipeline-and-persist-pipeline-outputs\",\n",
    "    \"pipeline.github.base_ref\": \"\",\n",
    "    \"pipeline.github.head_ref\": \"\",\n",
    "    \"pipeline.github.sha\": \"ace0d01011d5e914f1921450dd5a59c11367b38d\",\n",
    "    \"pipeline.github.ref\": \"refs/heads/development\",\n",
    "    \"pipeline.github.ref_type\": \"branch\",\n",
    "    \"pipeline.github.ref_name\": \"development\",\n",
    "    \"pipeline.github.event_name\": \"schedule\",\n",
    "    \"task.nr_train_images\": 600,\n",
    "    \"task.notebook\": \"notebooks/benchmark-model.py\",\n",
    "    \"task.max_nr_retries\": \"1\",\n",
    "    \"run.retry_nr\": \"0\",\n",
    "    \"task.timeout_s\": \"None\",\n",
    "    \"task.num_cpus\": 1,\n",
    "    \"_opentelemetry_traceparent\": \"00-77ab81eb3be968f44ed6fb2299ede894-ce9255352b4c0238-01\",\n",
    "}\n"
   ]
  },
  {
   "cell_type": "code",
   "execution_count": 4,
   "id": "67befdad",
   "metadata": {
    "execution": {
     "iopub.execute_input": "2022-11-28T06:45:08.561838Z",
     "iopub.status.busy": "2022-11-28T06:45:08.561613Z",
     "iopub.status.idle": "2022-11-28T06:45:08.564289Z",
     "shell.execute_reply": "2022-11-28T06:45:08.563743Z"
    },
    "lines_to_next_cell": 0,
    "papermill": {
     "duration": 0.009772,
     "end_time": "2022-11-28T06:45:08.566619",
     "exception": false,
     "start_time": "2022-11-28T06:45:08.556847",
     "status": "completed"
    },
    "tags": []
   },
   "outputs": [],
   "source": [
    "# -----------------------------------------------------------------------"
   ]
  },
  {
   "cell_type": "markdown",
   "id": "5257281c",
   "metadata": {
    "papermill": {
     "duration": 0.003994,
     "end_time": "2022-11-28T06:45:08.574486",
     "exception": false,
     "start_time": "2022-11-28T06:45:08.570492",
     "status": "completed"
    },
    "tags": []
   },
   "source": [
    "---"
   ]
  },
  {
   "cell_type": "markdown",
   "id": "ef20eadb",
   "metadata": {
    "lines_to_next_cell": 2,
    "papermill": {
     "duration": 0.003775,
     "end_time": "2022-11-28T06:45:08.582882",
     "exception": false,
     "start_time": "2022-11-28T06:45:08.579107",
     "status": "completed"
    },
    "tags": []
   },
   "source": [
    "### Notebook code"
   ]
  },
  {
   "cell_type": "code",
   "execution_count": 5,
   "id": "e05fc572",
   "metadata": {
    "execution": {
     "iopub.execute_input": "2022-11-28T06:45:08.592908Z",
     "iopub.status.busy": "2022-11-28T06:45:08.592633Z",
     "iopub.status.idle": "2022-11-28T06:45:09.713535Z",
     "shell.execute_reply": "2022-11-28T06:45:09.712700Z"
    },
    "papermill": {
     "duration": 1.128524,
     "end_time": "2022-11-28T06:45:09.715453",
     "exception": false,
     "start_time": "2022-11-28T06:45:08.586929",
     "status": "completed"
    },
    "tags": []
   },
   "outputs": [
    {
     "name": "stderr",
     "output_type": "stream",
     "text": [
      "2022-11-28 06:45:09,542\tINFO worker.py:842 -- Connecting to existing Ray cluster at address: 172.17.0.2:6379\n"
     ]
    }
   ],
   "source": [
    "import itertools as it\n",
    "\n",
    "#\n",
    "import numpy as np\n",
    "import matplotlib.pyplot as plt\n",
    "\n",
    "#\n",
    "from pynb_dag_runner.tasks.task_opentelemetry_logging import PydarLogger\n",
    "\n",
    "#\n",
    "from common.io import datalake_root\n",
    "\n",
    "logger = PydarLogger(P)"
   ]
  },
  {
   "cell_type": "markdown",
   "id": "ec48e61b",
   "metadata": {
    "papermill": {
     "duration": 0.003987,
     "end_time": "2022-11-28T06:45:09.725779",
     "exception": false,
     "start_time": "2022-11-28T06:45:09.721792",
     "status": "completed"
    },
    "tags": []
   },
   "source": [
    "## Load persisted onnx-model and evaluation data"
   ]
  },
  {
   "cell_type": "code",
   "execution_count": 6,
   "id": "446592c7",
   "metadata": {
    "execution": {
     "iopub.execute_input": "2022-11-28T06:45:09.735693Z",
     "iopub.status.busy": "2022-11-28T06:45:09.735292Z",
     "iopub.status.idle": "2022-11-28T06:45:09.739297Z",
     "shell.execute_reply": "2022-11-28T06:45:09.738723Z"
    },
    "papermill": {
     "duration": 0.012134,
     "end_time": "2022-11-28T06:45:09.742163",
     "exception": false,
     "start_time": "2022-11-28T06:45:09.730029",
     "status": "completed"
    },
    "tags": []
   },
   "outputs": [],
   "source": [
    "from common.io import read_onnx, get_onnx_inputs, get_onnx_outputs, read_numpy"
   ]
  },
  {
   "cell_type": "code",
   "execution_count": 7,
   "id": "fe55bb85",
   "metadata": {
    "execution": {
     "iopub.execute_input": "2022-11-28T06:45:09.752407Z",
     "iopub.status.busy": "2022-11-28T06:45:09.752165Z",
     "iopub.status.idle": "2022-11-28T06:45:09.763167Z",
     "shell.execute_reply": "2022-11-28T06:45:09.762650Z"
    },
    "lines_to_next_cell": 0,
    "papermill": {
     "duration": 0.018285,
     "end_time": "2022-11-28T06:45:09.765046",
     "exception": false,
     "start_time": "2022-11-28T06:45:09.746761",
     "status": "completed"
    },
    "tags": []
   },
   "outputs": [],
   "source": [
    "onnx_inference_session = read_onnx(\n",
    "    datalake_root(P)\n",
    "    / \"models\"\n",
    "    / f\"nr_train_images={P['task.nr_train_images']}\"\n",
    "    / \"model.onnx\"\n",
    ")"
   ]
  },
  {
   "cell_type": "markdown",
   "id": "e1bd6e2e",
   "metadata": {
    "papermill": {
     "duration": 0.004853,
     "end_time": "2022-11-28T06:45:09.774421",
     "exception": false,
     "start_time": "2022-11-28T06:45:09.769568",
     "status": "completed"
    },
    "tags": []
   },
   "source": [
    "### Record structure of inputs and outputs for ONNX model\n",
    "\n",
    "(this should likely be done in training notebook)"
   ]
  },
  {
   "cell_type": "code",
   "execution_count": 8,
   "id": "48ec2633",
   "metadata": {
    "execution": {
     "iopub.execute_input": "2022-11-28T06:45:09.784642Z",
     "iopub.status.busy": "2022-11-28T06:45:09.784368Z",
     "iopub.status.idle": "2022-11-28T06:45:09.791060Z",
     "shell.execute_reply": "2022-11-28T06:45:09.790117Z"
    },
    "papermill": {
     "duration": 0.015408,
     "end_time": "2022-11-28T06:45:09.794362",
     "exception": false,
     "start_time": "2022-11-28T06:45:09.778954",
     "status": "completed"
    },
    "tags": []
   },
   "outputs": [
    {
     "name": "stdout",
     "output_type": "stream",
     "text": [
      "{\n",
      "  \"inputs\": [\n",
      "    {\n",
      "      \"name\": \"float_input_8x8_image\",\n",
      "      \"shape\": [\n",
      "        null,\n",
      "        64\n",
      "      ],\n",
      "      \"type\": \"tensor(float)\"\n",
      "    }\n",
      "  ],\n",
      "  \"outputs\": [\n",
      "    {\n",
      "      \"name\": \"output_label\",\n",
      "      \"shape\": [\n",
      "        null\n",
      "      ],\n",
      "      \"type\": \"tensor(int64)\"\n",
      "    },\n",
      "    {\n",
      "      \"name\": \"output_probability\",\n",
      "      \"shape\": [],\n",
      "      \"type\": \"seq(map(int64,tensor(float)))\"\n",
      "    }\n",
      "  ]\n",
      "}\n"
     ]
    }
   ],
   "source": [
    "import json\n",
    "\n",
    "onnx_io = json.dumps(\n",
    "    {\n",
    "        \"inputs\": get_onnx_inputs(onnx_inference_session),\n",
    "        \"outputs\": get_onnx_outputs(onnx_inference_session),\n",
    "    },\n",
    "    indent=2,\n",
    ")\n",
    "\n",
    "\n",
    "logger.log_artefact(\"onnx_io_structure.json\", onnx_io)\n",
    "print(onnx_io)"
   ]
  },
  {
   "cell_type": "markdown",
   "id": "986a741f",
   "metadata": {
    "papermill": {
     "duration": 0.004554,
     "end_time": "2022-11-28T06:45:09.803795",
     "exception": false,
     "start_time": "2022-11-28T06:45:09.799241",
     "status": "completed"
    },
    "tags": []
   },
   "source": [
    "### Evaluate model performance on evaluation data set"
   ]
  },
  {
   "cell_type": "code",
   "execution_count": 9,
   "id": "d604e61f",
   "metadata": {
    "execution": {
     "iopub.execute_input": "2022-11-28T06:45:09.819545Z",
     "iopub.status.busy": "2022-11-28T06:45:09.819268Z",
     "iopub.status.idle": "2022-11-28T06:45:09.825928Z",
     "shell.execute_reply": "2022-11-28T06:45:09.825337Z"
    },
    "papermill": {
     "duration": 0.020621,
     "end_time": "2022-11-28T06:45:09.829116",
     "exception": false,
     "start_time": "2022-11-28T06:45:09.808495",
     "status": "completed"
    },
    "tags": []
   },
   "outputs": [],
   "source": [
    "# load evaluation data\n",
    "X_test = read_numpy(datalake_root(P) / \"test-data\" / \"digits.numpy\")\n",
    "y_test = read_numpy(datalake_root(P) / \"test-data\" / \"labels.numpy\")"
   ]
  },
  {
   "cell_type": "code",
   "execution_count": 10,
   "id": "1e1dcaee",
   "metadata": {
    "execution": {
     "iopub.execute_input": "2022-11-28T06:45:09.840237Z",
     "iopub.status.busy": "2022-11-28T06:45:09.839979Z",
     "iopub.status.idle": "2022-11-28T06:45:09.919318Z",
     "shell.execute_reply": "2022-11-28T06:45:09.918629Z"
    },
    "papermill": {
     "duration": 0.087411,
     "end_time": "2022-11-28T06:45:09.921575",
     "exception": false,
     "start_time": "2022-11-28T06:45:09.834164",
     "status": "completed"
    },
    "tags": []
   },
   "outputs": [],
   "source": [
    "def get_model_outputs(X, onnx_inference_session):\n",
    "    y_pred_labels, y_pred_map = onnx_inference_session.run(\n",
    "        [\"output_label\", \"output_probability\"],\n",
    "        {\"float_input_8x8_image\": X.astype(np.float32)},\n",
    "    )\n",
    "    y_pred_probs = np.array(\n",
    "        [[probabilities[digit] for digit in range(10)] for probabilities in y_pred_map]\n",
    "    )\n",
    "\n",
    "    assert y_pred_labels.shape == (X.shape[0],)\n",
    "    assert y_pred_probs.shape == (X.shape[0], 10)\n",
    "\n",
    "    return y_pred_labels, y_pred_probs\n",
    "\n",
    "\n",
    "# Note: as shown in the training notebook, the predicted labels and probabilities\n",
    "# computed below need not be compatible.\n",
    "y_pred_labels_test, y_pred_probs_test = get_model_outputs(\n",
    "    X_test, onnx_inference_session\n",
    ")"
   ]
  },
  {
   "cell_type": "markdown",
   "id": "8d365499",
   "metadata": {
    "papermill": {
     "duration": 0.005186,
     "end_time": "2022-11-28T06:45:09.933148",
     "exception": false,
     "start_time": "2022-11-28T06:45:09.927962",
     "status": "completed"
    },
    "tags": []
   },
   "source": [
    "### Confusion matrix"
   ]
  },
  {
   "cell_type": "code",
   "execution_count": 11,
   "id": "0162c15b",
   "metadata": {
    "execution": {
     "iopub.execute_input": "2022-11-28T06:45:09.943610Z",
     "iopub.status.busy": "2022-11-28T06:45:09.943341Z",
     "iopub.status.idle": "2022-11-28T06:45:09.946628Z",
     "shell.execute_reply": "2022-11-28T06:45:09.946069Z"
    },
    "papermill": {
     "duration": 0.011768,
     "end_time": "2022-11-28T06:45:09.949476",
     "exception": false,
     "start_time": "2022-11-28T06:45:09.937708",
     "status": "completed"
    },
    "tags": []
   },
   "outputs": [],
   "source": [
    "# TODO"
   ]
  },
  {
   "cell_type": "markdown",
   "id": "3d6c9834",
   "metadata": {
    "papermill": {
     "duration": 0.0045,
     "end_time": "2022-11-28T06:45:09.958411",
     "exception": false,
     "start_time": "2022-11-28T06:45:09.953911",
     "status": "completed"
    },
    "tags": []
   },
   "source": [
    "### Plot predicted probabilities for each classifier over all evaluation digit images"
   ]
  },
  {
   "cell_type": "code",
   "execution_count": 12,
   "id": "c5dac23f",
   "metadata": {
    "execution": {
     "iopub.execute_input": "2022-11-28T06:45:09.969017Z",
     "iopub.status.busy": "2022-11-28T06:45:09.968725Z",
     "iopub.status.idle": "2022-11-28T06:45:13.152386Z",
     "shell.execute_reply": "2022-11-28T06:45:13.151738Z"
    },
    "papermill": {
     "duration": 3.19138,
     "end_time": "2022-11-28T06:45:13.154493",
     "exception": false,
     "start_time": "2022-11-28T06:45:09.963113",
     "status": "completed"
    },
    "tags": []
   },
   "outputs": [
    {
     "data": {
      "image/png": "[encoded data removed]",
      "text/plain": [
       "<Figure size 1600x600 with 10 Axes>"
      ]
     },
     "metadata": {},
     "output_type": "display_data"
    }
   ],
   "source": [
    "def plot_per_digit_probabilities(y_pred_probs):\n",
    "    fig, axs = plt.subplots(nrows=2, ncols=5, figsize=(16, 6))\n",
    "\n",
    "    for (r, c), digit, ax in zip(\n",
    "        it.product(range(2), range(5)), range(10), axs.reshape(-1)\n",
    "    ):\n",
    "        ax.hist(y_pred_probs_test[:, digit], bins=20)\n",
    "\n",
    "        ax.set_title(f\"Digit {digit}\")\n",
    "        if r == 1 and c == 2:\n",
    "            ax.set_xlabel(\"probability\", fontsize=16)\n",
    "\n",
    "        if c == 0:\n",
    "            ax.set_ylabel(\"counts\", fontsize=16)\n",
    "        ax.set_yscale(\"log\")\n",
    "\n",
    "    fig.tight_layout()\n",
    "    fig.suptitle(\n",
    "        f\"Distributions of prediction probabilities for each digit \"\n",
    "        f\"(on evaluation data, n={y_pred_probs.shape[0]})\",\n",
    "        fontsize=20,\n",
    "    )\n",
    "    fig.tight_layout()\n",
    "    fig.show()\n",
    "\n",
    "    return fig\n",
    "\n",
    "\n",
    "fig = plot_per_digit_probabilities(y_pred_probs_test)"
   ]
  },
  {
   "cell_type": "markdown",
   "id": "7f377ffc",
   "metadata": {
    "papermill": {
     "duration": 0.00596,
     "end_time": "2022-11-28T06:45:13.165780",
     "exception": false,
     "start_time": "2022-11-28T06:45:13.159820",
     "status": "completed"
    },
    "tags": []
   },
   "source": [
    "From the above distributions we see that most digits have clear separation between\n",
    "high and lower probabilities. Morover, in each case there is roughly an order of\n",
    "magnitude more of digits with low probabilities. This is compatible with digits\n",
    "being roughly evenly distributed in the data."
   ]
  },
  {
   "cell_type": "code",
   "execution_count": 13,
   "id": "f8ef95d6",
   "metadata": {
    "execution": {
     "iopub.execute_input": "2022-11-28T06:45:13.178705Z",
     "iopub.status.busy": "2022-11-28T06:45:13.178433Z",
     "iopub.status.idle": "2022-11-28T06:45:13.675914Z",
     "shell.execute_reply": "2022-11-28T06:45:13.675065Z"
    },
    "papermill": {
     "duration": 0.508035,
     "end_time": "2022-11-28T06:45:13.678621",
     "exception": false,
     "start_time": "2022-11-28T06:45:13.170586",
     "status": "completed"
    },
    "tags": []
   },
   "outputs": [],
   "source": [
    "logger.log_figure(\"per-digit-probabilities.png\", fig)"
   ]
  },
  {
   "cell_type": "markdown",
   "id": "b59dff13",
   "metadata": {
    "papermill": {
     "duration": 0.006483,
     "end_time": "2022-11-28T06:45:13.690657",
     "exception": false,
     "start_time": "2022-11-28T06:45:13.684174",
     "status": "completed"
    },
    "tags": []
   },
   "source": [
    "### Plot ROC curves for individual one-vs-rest classifiers"
   ]
  },
  {
   "cell_type": "code",
   "execution_count": 14,
   "id": "3d034509",
   "metadata": {
    "execution": {
     "iopub.execute_input": "2022-11-28T06:45:13.703341Z",
     "iopub.status.busy": "2022-11-28T06:45:13.702969Z",
     "iopub.status.idle": "2022-11-28T06:45:14.163418Z",
     "shell.execute_reply": "2022-11-28T06:45:14.162551Z"
    },
    "papermill": {
     "duration": 0.470178,
     "end_time": "2022-11-28T06:45:14.166368",
     "exception": false,
     "start_time": "2022-11-28T06:45:13.696190",
     "status": "completed"
    },
    "tags": []
   },
   "outputs": [],
   "source": [
    "from sklearn import metrics"
   ]
  },
  {
   "cell_type": "code",
   "execution_count": 15,
   "id": "df4f0cdc",
   "metadata": {
    "execution": {
     "iopub.execute_input": "2022-11-28T06:45:14.198981Z",
     "iopub.status.busy": "2022-11-28T06:45:14.198650Z",
     "iopub.status.idle": "2022-11-28T06:45:15.294907Z",
     "shell.execute_reply": "2022-11-28T06:45:15.294182Z"
    },
    "papermill": {
     "duration": 1.124513,
     "end_time": "2022-11-28T06:45:15.296667",
     "exception": false,
     "start_time": "2022-11-28T06:45:14.172154",
     "status": "completed"
    },
    "tags": []
   },
   "outputs": [
    {
     "data": {
      "image/png": "[encoded data removed]",
      "text/plain": [
       "<Figure size 1600x800 with 10 Axes>"
      ]
     },
     "metadata": {},
     "output_type": "display_data"
    }
   ],
   "source": [
    "def plot_roc_curves(y, y_pred_probs):\n",
    "    # based on example code\n",
    "    # https://scikit-learn.org/stable/auto_examples/model_selection/plot_roc.html\n",
    "\n",
    "    fig, axs = plt.subplots(nrows=2, ncols=5, figsize=(16, 8))\n",
    "\n",
    "    roc_auc_dict = {}\n",
    "\n",
    "    for (r, c), digit, ax in zip(\n",
    "        it.product(range(2), range(5)), range(10), axs.reshape(-1)\n",
    "    ):\n",
    "        fpr, tpr, _ = metrics.roc_curve(y == digit, y_pred_probs[:, digit])\n",
    "        auc = metrics.auc(fpr, tpr)\n",
    "        roc_auc_dict[str(digit)] = auc\n",
    "\n",
    "        ax.plot(fpr, tpr, label=f\"ROC AUC={round(auc, 3)}\")\n",
    "\n",
    "        ax.set_title(f\"\\nDigit {digit}\", fontsize=16)\n",
    "        if r == 1:\n",
    "            ax.set_xlabel(\"FPR\", fontsize=18)\n",
    "\n",
    "        if c == 0:\n",
    "            ax.set_ylabel(\"TPR\", fontsize=18)\n",
    "\n",
    "        ax.set_xlim([-0.05, 1.05])\n",
    "        ax.set_ylim([-0.05, 1.05])\n",
    "        ax.legend(loc=\"lower right\", frameon=False, fontsize=14)\n",
    "\n",
    "    fig.tight_layout()\n",
    "    fig.suptitle(\n",
    "        f\"ROC plots for one-vs-rest performances \"\n",
    "        f\"(on evaluation data, n={y_pred_probs_test.shape[1]}\",\n",
    "        fontsize=22,\n",
    "    )\n",
    "    fig.tight_layout()\n",
    "    fig.show()\n",
    "\n",
    "    return roc_auc_dict, fig\n",
    "\n",
    "\n",
    "roc_auc_dict, fig = plot_roc_curves(y_test, y_pred_probs_test)"
   ]
  },
  {
   "cell_type": "code",
   "execution_count": 16,
   "id": "ecd5d0de",
   "metadata": {
    "execution": {
     "iopub.execute_input": "2022-11-28T06:45:15.311679Z",
     "iopub.status.busy": "2022-11-28T06:45:15.311343Z",
     "iopub.status.idle": "2022-11-28T06:45:15.577738Z",
     "shell.execute_reply": "2022-11-28T06:45:15.576798Z"
    },
    "papermill": {
     "duration": 0.275693,
     "end_time": "2022-11-28T06:45:15.579881",
     "exception": false,
     "start_time": "2022-11-28T06:45:15.304188",
     "status": "completed"
    },
    "tags": []
   },
   "outputs": [],
   "source": [
    "logger.log_figure(\"per-digit-roc-curves.png\", fig)"
   ]
  },
  {
   "cell_type": "code",
   "execution_count": 17,
   "id": "76ed1c63",
   "metadata": {
    "execution": {
     "iopub.execute_input": "2022-11-28T06:45:15.597862Z",
     "iopub.status.busy": "2022-11-28T06:45:15.597430Z",
     "iopub.status.idle": "2022-11-28T06:45:15.602426Z",
     "shell.execute_reply": "2022-11-28T06:45:15.601722Z"
    },
    "papermill": {
     "duration": 0.016886,
     "end_time": "2022-11-28T06:45:15.605703",
     "exception": false,
     "start_time": "2022-11-28T06:45:15.588817",
     "status": "completed"
    },
    "tags": []
   },
   "outputs": [
    {
     "data": {
      "text/plain": [
       "{'0': 1.0,\n",
       " '1': 0.9992502343017807,\n",
       " '2': 1.0,\n",
       " '3': 0.9998500468603562,\n",
       " '4': 0.9990474013107759,\n",
       " '5': 0.998987816307404,\n",
       " '6': 0.999923792104862,\n",
       " '7': 0.9998475842097241,\n",
       " '8': 0.9947588272383354,\n",
       " '9': 0.9986282578875171}"
      ]
     },
     "execution_count": 17,
     "metadata": {},
     "output_type": "execute_result"
    }
   ],
   "source": [
    "roc_auc_dict"
   ]
  },
  {
   "cell_type": "code",
   "execution_count": 18,
   "id": "40ed9834",
   "metadata": {
    "execution": {
     "iopub.execute_input": "2022-11-28T06:45:15.620802Z",
     "iopub.status.busy": "2022-11-28T06:45:15.620345Z",
     "iopub.status.idle": "2022-11-28T06:45:15.624486Z",
     "shell.execute_reply": "2022-11-28T06:45:15.623797Z"
    },
    "papermill": {
     "duration": 0.015142,
     "end_time": "2022-11-28T06:45:15.627412",
     "exception": false,
     "start_time": "2022-11-28T06:45:15.612270",
     "status": "completed"
    },
    "tags": []
   },
   "outputs": [
    {
     "name": "stdout",
     "output_type": "stream",
     "text": [
      " - Logging roc_auc_per_digit (json) : {'0': 1.0, '1': 0.9992502343017807, '2': 1.0, '3': 0.9998500468603562, '4': 0.9990474013107759, '5': 0.998987816307404, '6': 0.999923792104862, '7': 0.9998475842097241, '8': 0.9947588272383354, '9': 0.9986282578875171}\n"
     ]
    }
   ],
   "source": [
    "logger.log_value(\"roc_auc_per_digit\", roc_auc_dict)"
   ]
  },
  {
   "cell_type": "markdown",
   "id": "6b640722",
   "metadata": {
    "papermill": {
     "duration": 0.006482,
     "end_time": "2022-11-28T06:45:15.640291",
     "exception": false,
     "start_time": "2022-11-28T06:45:15.633809",
     "status": "completed"
    },
    "tags": []
   },
   "source": [
    "### Compute and log mean ROC AUC score averaged over all digits"
   ]
  },
  {
   "cell_type": "code",
   "execution_count": 19,
   "id": "f4387102",
   "metadata": {
    "execution": {
     "iopub.execute_input": "2022-11-28T06:45:15.657091Z",
     "iopub.status.busy": "2022-11-28T06:45:15.656345Z",
     "iopub.status.idle": "2022-11-28T06:45:15.671363Z",
     "shell.execute_reply": "2022-11-28T06:45:15.668809Z"
    },
    "papermill": {
     "duration": 0.02585,
     "end_time": "2022-11-28T06:45:15.673212",
     "exception": false,
     "start_time": "2022-11-28T06:45:15.647362",
     "status": "completed"
    },
    "tags": []
   },
   "outputs": [
    {
     "name": "stdout",
     "output_type": "stream",
     "text": [
      " - Logging roc_auc_class_mean (float) : 0.9990293960220755\n"
     ]
    }
   ],
   "source": [
    "roc_auc_macro = np.mean(list(roc_auc_dict.values()))\n",
    "\n",
    "logger.log_float(\"roc_auc_class_mean\", roc_auc_macro)\n",
    "\n",
    "# assert that the same value can be computed directly using sklearn\n",
    "assert roc_auc_macro == metrics.roc_auc_score(\n",
    "    y_test, y_pred_probs_test, average=\"macro\", multi_class=\"ovr\"\n",
    ")"
   ]
  },
  {
   "cell_type": "code",
   "execution_count": 20,
   "id": "05cf411e",
   "metadata": {
    "execution": {
     "iopub.execute_input": "2022-11-28T06:45:15.688906Z",
     "iopub.status.busy": "2022-11-28T06:45:15.688563Z",
     "iopub.status.idle": "2022-11-28T06:45:15.691849Z",
     "shell.execute_reply": "2022-11-28T06:45:15.691005Z"
    },
    "lines_to_next_cell": 0,
    "papermill": {
     "duration": 0.013719,
     "end_time": "2022-11-28T06:45:15.693864",
     "exception": false,
     "start_time": "2022-11-28T06:45:15.680145",
     "status": "completed"
    },
    "tags": []
   },
   "outputs": [],
   "source": [
    "# ---"
   ]
  },
  {
   "cell_type": "code",
   "execution_count": null,
   "id": "3f01da2a",
   "metadata": {
    "papermill": {
     "duration": 0.006912,
     "end_time": "2022-11-28T06:45:15.707707",
     "exception": false,
     "start_time": "2022-11-28T06:45:15.700795",
     "status": "completed"
    },
    "tags": []
   },
   "outputs": [],
   "source": []
  }
 ],
 "metadata": {
  "jupytext": {
   "cell_metadata_filter": "tags,-all",
   "main_language": "python",
   "notebook_metadata_filter": "-all"
  },
  "language_info": {
   "codemirror_mode": {
    "name": "ipython",
    "version": 3
   },
   "file_extension": ".py",
   "mimetype": "text/x-python",
   "name": "python",
   "nbconvert_exporter": "python",
   "pygments_lexer": "ipython3",
   "version": "3.8.10"
  },
  "papermill": {
   "default_parameters": {},
   "duration": 9.59604,
   "end_time": "2022-11-28T06:45:16.839265",
   "environment_variables": {},
   "exception": null,
   "input_path": "/home/host_user/workspace/mnist-demo-pipeline/mnist-demo-pipeline/notebooks/temp-notebook-h3gc1_22.ipynb",
   "output_path": "notebooks/benchmark-model.ipynb",
   "parameters": {
    "P": {
     "_opentelemetry_traceparent": "00-77ab81eb3be968f44ed6fb2299ede894-ce9255352b4c0238-01",
     "pipeline.data_lake_root": "/pipeline-outputs/data-lake",
     "pipeline.github.actor": "matiasdahl",
     "pipeline.github.base_ref": "",
     "pipeline.github.event_name": "schedule",
     "pipeline.github.head_ref": "",
     "pipeline.github.job": "run-tests-pipeline-and-persist-pipeline-outputs",
     "pipeline.github.ref": "refs/heads/development",
     "pipeline.github.ref_name": "development",
     "pipeline.github.ref_type": "branch",
     "pipeline.github.repository": "matiasdahl/dev-mnist-digits-demo-pipeline",
     "pipeline.github.run_id": "3562362414",
     "pipeline.github.runner_name": "Hosted Agent",
     "pipeline.github.sha": "ace0d01011d5e914f1921450dd5a59c11367b38d",
     "pipeline.github.workflow": "Run automated tests, pipeline and deploy results to static reporting site",
     "pipeline.pipeline_run_id": "49d99194-007a-41a8-8b21-77bf703eea63",
     "pipeline.run_environment": "ci",
     "run.retry_nr": "0",
     "task.max_nr_retries": "1",
     "task.notebook": "notebooks/benchmark-model.py",
     "task.nr_train_images": 600,
     "task.num_cpus": 1,
     "task.timeout_s": "None"
    }
   },
   "start_time": "2022-11-28T06:45:07.243225",
   "version": "2.3.3"
  }
 },
 "nbformat": 4,
 "nbformat_minor": 5
}