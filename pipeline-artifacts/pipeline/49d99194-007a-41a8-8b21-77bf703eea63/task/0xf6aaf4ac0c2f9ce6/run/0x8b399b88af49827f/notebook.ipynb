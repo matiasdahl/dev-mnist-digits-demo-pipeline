{
 "cells": [
  {
   "cell_type": "markdown",
   "id": "7b0c0a48",
   "metadata": {
    "papermill": {
     "duration": 0.004805,
     "end_time": "2022-11-28T06:44:50.588992",
     "exception": false,
     "start_time": "2022-11-28T06:44:50.584187",
     "status": "completed"
    },
    "tags": []
   },
   "source": [
    "# Split digits and labels into separate training and testing data sets"
   ]
  },
  {
   "cell_type": "markdown",
   "id": "c043344d",
   "metadata": {
    "papermill": {
     "duration": 0.002151,
     "end_time": "2022-11-28T06:44:50.594093",
     "exception": false,
     "start_time": "2022-11-28T06:44:50.591942",
     "status": "completed"
    },
    "tags": []
   },
   "source": [
    "### Determine run parameters"
   ]
  },
  {
   "cell_type": "code",
   "execution_count": 1,
   "id": "4920a9e7",
   "metadata": {
    "execution": {
     "iopub.execute_input": "2022-11-28T06:44:50.600221Z",
     "iopub.status.busy": "2022-11-28T06:44:50.599825Z",
     "iopub.status.idle": "2022-11-28T06:44:50.607652Z",
     "shell.execute_reply": "2022-11-28T06:44:50.606673Z"
    },
    "lines_to_next_cell": 0,
    "papermill": {
     "duration": 0.013226,
     "end_time": "2022-11-28T06:44:50.609484",
     "exception": false,
     "start_time": "2022-11-28T06:44:50.596258",
     "status": "completed"
    },
    "tags": []
   },
   "outputs": [],
   "source": [
    "# ----------------- Parameters for interactive development --------------\n",
    "P = {\n",
    "    \"pipeline.data_lake_root\": \"/pipeline-outputs/data-lake\",\n",
    "    \"task.train_test_ratio\": 0.7,\n",
    "}"
   ]
  },
  {
   "cell_type": "code",
   "execution_count": 2,
   "id": "78597a83",
   "metadata": {
    "execution": {
     "iopub.execute_input": "2022-11-28T06:44:50.615532Z",
     "iopub.status.busy": "2022-11-28T06:44:50.615176Z",
     "iopub.status.idle": "2022-11-28T06:44:50.618426Z",
     "shell.execute_reply": "2022-11-28T06:44:50.617746Z"
    },
    "lines_to_next_cell": 0,
    "papermill": {
     "duration": 0.00769,
     "end_time": "2022-11-28T06:44:50.619795",
     "exception": false,
     "start_time": "2022-11-28T06:44:50.612105",
     "status": "completed"
    },
    "tags": [
     "parameters"
    ]
   },
   "outputs": [],
   "source": [
    "# - During automated runs parameters will be injected in the below cell -"
   ]
  },
  {
   "cell_type": "code",
   "execution_count": 3,
   "id": "354c8934",
   "metadata": {
    "execution": {
     "iopub.execute_input": "2022-11-28T06:44:50.629029Z",
     "iopub.status.busy": "2022-11-28T06:44:50.628036Z",
     "iopub.status.idle": "2022-11-28T06:44:50.633613Z",
     "shell.execute_reply": "2022-11-28T06:44:50.632887Z"
    },
    "papermill": {
     "duration": 0.01276,
     "end_time": "2022-11-28T06:44:50.635045",
     "exception": false,
     "start_time": "2022-11-28T06:44:50.622285",
     "status": "completed"
    },
    "tags": [
     "injected-parameters"
    ]
   },
   "outputs": [],
   "source": [
    "# Parameters\n",
    "P = {\n",
    "    \"pipeline.data_lake_root\": \"/pipeline-outputs/data-lake\",\n",
    "    \"pipeline.run_environment\": \"ci\",\n",
    "    \"pipeline.pipeline_run_id\": \"49d99194-007a-41a8-8b21-77bf703eea63\",\n",
    "    \"pipeline.github.repository\": \"matiasdahl/dev-mnist-digits-demo-pipeline\",\n",
    "    \"pipeline.github.workflow\": \"Run automated tests, pipeline and deploy results to static reporting site\",\n",
    "    \"pipeline.github.runner_name\": \"Hosted Agent\",\n",
    "    \"pipeline.github.run_id\": \"3562362414\",\n",
    "    \"pipeline.github.actor\": \"matiasdahl\",\n",
    "    \"pipeline.github.job\": \"run-tests-pipeline-and-persist-pipeline-outputs\",\n",
    "    \"pipeline.github.base_ref\": \"\",\n",
    "    \"pipeline.github.head_ref\": \"\",\n",
    "    \"pipeline.github.sha\": \"ace0d01011d5e914f1921450dd5a59c11367b38d\",\n",
    "    \"pipeline.github.ref\": \"refs/heads/development\",\n",
    "    \"pipeline.github.ref_type\": \"branch\",\n",
    "    \"pipeline.github.ref_name\": \"development\",\n",
    "    \"pipeline.github.event_name\": \"schedule\",\n",
    "    \"task.train_test_ratio\": 0.7,\n",
    "    \"task.notebook\": \"notebooks/split-train-test.py\",\n",
    "    \"task.max_nr_retries\": \"1\",\n",
    "    \"run.retry_nr\": \"0\",\n",
    "    \"task.timeout_s\": \"None\",\n",
    "    \"task.num_cpus\": 1,\n",
    "    \"_opentelemetry_traceparent\": \"00-77ab81eb3be968f44ed6fb2299ede894-3963f51be94d2687-01\",\n",
    "}\n"
   ]
  },
  {
   "cell_type": "code",
   "execution_count": 4,
   "id": "ce2320f0",
   "metadata": {
    "execution": {
     "iopub.execute_input": "2022-11-28T06:44:50.641574Z",
     "iopub.status.busy": "2022-11-28T06:44:50.640641Z",
     "iopub.status.idle": "2022-11-28T06:44:50.643968Z",
     "shell.execute_reply": "2022-11-28T06:44:50.643363Z"
    },
    "lines_to_next_cell": 0,
    "papermill": {
     "duration": 0.007871,
     "end_time": "2022-11-28T06:44:50.645436",
     "exception": false,
     "start_time": "2022-11-28T06:44:50.637565",
     "status": "completed"
    },
    "tags": []
   },
   "outputs": [],
   "source": [
    "# -----------------------------------------------------------------------"
   ]
  },
  {
   "cell_type": "markdown",
   "id": "c12fc622",
   "metadata": {
    "papermill": {
     "duration": 0.00238,
     "end_time": "2022-11-28T06:44:50.650202",
     "exception": false,
     "start_time": "2022-11-28T06:44:50.647822",
     "status": "completed"
    },
    "tags": []
   },
   "source": [
    "---"
   ]
  },
  {
   "cell_type": "markdown",
   "id": "779732cd",
   "metadata": {
    "lines_to_next_cell": 2,
    "papermill": {
     "duration": 0.0024,
     "end_time": "2022-11-28T06:44:50.655042",
     "exception": false,
     "start_time": "2022-11-28T06:44:50.652642",
     "status": "completed"
    },
    "tags": []
   },
   "source": [
    "### Notebook code"
   ]
  },
  {
   "cell_type": "code",
   "execution_count": 5,
   "id": "a34e84c6",
   "metadata": {
    "execution": {
     "iopub.execute_input": "2022-11-28T06:44:50.661063Z",
     "iopub.status.busy": "2022-11-28T06:44:50.660511Z",
     "iopub.status.idle": "2022-11-28T06:44:51.152118Z",
     "shell.execute_reply": "2022-11-28T06:44:51.151446Z"
    },
    "papermill": {
     "duration": 0.496626,
     "end_time": "2022-11-28T06:44:51.153909",
     "exception": false,
     "start_time": "2022-11-28T06:44:50.657283",
     "status": "completed"
    },
    "tags": []
   },
   "outputs": [
    {
     "name": "stderr",
     "output_type": "stream",
     "text": [
      "2022-11-28 06:44:50,982\tINFO worker.py:842 -- Connecting to existing Ray cluster at address: 172.17.0.2:6379\n"
     ]
    }
   ],
   "source": [
    "from common.io import datalake_root, read_numpy, write_numpy\n",
    "from pynb_dag_runner.tasks.task_opentelemetry_logging import PydarLogger\n",
    "\n",
    "logger = PydarLogger(P)"
   ]
  },
  {
   "cell_type": "markdown",
   "id": "a7e5405f",
   "metadata": {
    "papermill": {
     "duration": 0.002865,
     "end_time": "2022-11-28T06:44:51.160200",
     "exception": false,
     "start_time": "2022-11-28T06:44:51.157335",
     "status": "completed"
    },
    "tags": []
   },
   "source": [
    "## Load and split digits data"
   ]
  },
  {
   "cell_type": "code",
   "execution_count": 6,
   "id": "c3ecc649",
   "metadata": {
    "execution": {
     "iopub.execute_input": "2022-11-28T06:44:51.166896Z",
     "iopub.status.busy": "2022-11-28T06:44:51.166557Z",
     "iopub.status.idle": "2022-11-28T06:44:51.172187Z",
     "shell.execute_reply": "2022-11-28T06:44:51.171565Z"
    },
    "papermill": {
     "duration": 0.012684,
     "end_time": "2022-11-28T06:44:51.175329",
     "exception": false,
     "start_time": "2022-11-28T06:44:51.162645",
     "status": "completed"
    },
    "tags": []
   },
   "outputs": [],
   "source": [
    "X = read_numpy(datalake_root(P) / \"raw\" / \"digits.numpy\")\n",
    "y = read_numpy(datalake_root(P) / \"raw\" / \"labels.numpy\")"
   ]
  },
  {
   "cell_type": "code",
   "execution_count": 7,
   "id": "50ac38ef",
   "metadata": {
    "execution": {
     "iopub.execute_input": "2022-11-28T06:44:51.181492Z",
     "iopub.status.busy": "2022-11-28T06:44:51.181252Z",
     "iopub.status.idle": "2022-11-28T06:44:51.646844Z",
     "shell.execute_reply": "2022-11-28T06:44:51.646146Z"
    },
    "papermill": {
     "duration": 0.471311,
     "end_time": "2022-11-28T06:44:51.649160",
     "exception": false,
     "start_time": "2022-11-28T06:44:51.177849",
     "status": "completed"
    },
    "tags": []
   },
   "outputs": [],
   "source": [
    "from sklearn.model_selection import train_test_split\n",
    "\n",
    "X_train, X_test, y_train, y_test = train_test_split(\n",
    "    X,\n",
    "    y,\n",
    "    train_size=P[\"task.train_test_ratio\"],\n",
    "    test_size=None,\n",
    "    stratify=y,\n",
    "    shuffle=True,\n",
    "    random_state=1,\n",
    ")\n",
    "\n",
    "# assert nr of pixels per image is the same for all image vectors\n",
    "assert X.shape[1] == X_train.shape[1] == X_test.shape[1]\n",
    "\n",
    "# assert that the (X, y)-pairs have compatible sizes (for both train and test)\n",
    "assert X_train.shape[0] == len(y_train)\n",
    "assert X_test.shape[0] == len(y_test)\n",
    "\n",
    "# assert that all data is used\n",
    "assert len(y) == len(y_train) + len(y_test)"
   ]
  },
  {
   "cell_type": "code",
   "execution_count": 8,
   "id": "17636cc1",
   "metadata": {
    "execution": {
     "iopub.execute_input": "2022-11-28T06:44:51.661722Z",
     "iopub.status.busy": "2022-11-28T06:44:51.661071Z",
     "iopub.status.idle": "2022-11-28T06:44:51.669675Z",
     "shell.execute_reply": "2022-11-28T06:44:51.669018Z"
    },
    "papermill": {
     "duration": 0.019286,
     "end_time": "2022-11-28T06:44:51.671629",
     "exception": false,
     "start_time": "2022-11-28T06:44:51.652343",
     "status": "completed"
    },
    "tags": []
   },
   "outputs": [
    {
     "name": "stdout",
     "output_type": "stream",
     "text": [
      " - Logging nr_digits_train (int) : 1257\n",
      " - Logging nr_digits_test (int) : 540\n"
     ]
    }
   ],
   "source": [
    "logger.log_int(\"nr_digits_train\", len(y_train))\n",
    "logger.log_int(\"nr_digits_test\", len(y_test))"
   ]
  },
  {
   "cell_type": "markdown",
   "id": "ff1e0326",
   "metadata": {
    "papermill": {
     "duration": 0.003483,
     "end_time": "2022-11-28T06:44:51.677804",
     "exception": false,
     "start_time": "2022-11-28T06:44:51.674321",
     "status": "completed"
    },
    "tags": []
   },
   "source": [
    "### Persist training and test data sets to separate files"
   ]
  },
  {
   "cell_type": "code",
   "execution_count": 9,
   "id": "ce2a95c3",
   "metadata": {
    "execution": {
     "iopub.execute_input": "2022-11-28T06:44:51.684289Z",
     "iopub.status.busy": "2022-11-28T06:44:51.684035Z",
     "iopub.status.idle": "2022-11-28T06:44:51.690182Z",
     "shell.execute_reply": "2022-11-28T06:44:51.689614Z"
    },
    "papermill": {
     "duration": 0.012574,
     "end_time": "2022-11-28T06:44:51.693050",
     "exception": false,
     "start_time": "2022-11-28T06:44:51.680476",
     "status": "completed"
    },
    "tags": []
   },
   "outputs": [],
   "source": [
    "write_numpy(datalake_root(P) / \"train-data\" / \"digits.numpy\", X_train)\n",
    "write_numpy(datalake_root(P) / \"train-data\" / \"labels.numpy\", y_train)\n",
    "\n",
    "#\n",
    "write_numpy(datalake_root(P) / \"test-data\" / \"digits.numpy\", X_test)\n",
    "write_numpy(datalake_root(P) / \"test-data\" / \"labels.numpy\", y_test)"
   ]
  },
  {
   "cell_type": "code",
   "execution_count": null,
   "id": "0006f37f",
   "metadata": {
    "papermill": {
     "duration": 0.003786,
     "end_time": "2022-11-28T06:44:51.699426",
     "exception": false,
     "start_time": "2022-11-28T06:44:51.695640",
     "status": "completed"
    },
    "tags": []
   },
   "outputs": [],
   "source": []
  }
 ],
 "metadata": {
  "jupytext": {
   "cell_metadata_filter": "tags,-all",
   "main_language": "python",
   "notebook_metadata_filter": "-all"
  },
  "language_info": {
   "codemirror_mode": {
    "name": "ipython",
    "version": 3
   },
   "file_extension": ".py",
   "mimetype": "text/x-python",
   "name": "python",
   "nbconvert_exporter": "python",
   "pygments_lexer": "ipython3",
   "version": "3.8.10"
  },
  "papermill": {
   "default_parameters": {},
   "duration": 3.372092,
   "end_time": "2022-11-28T06:44:52.727071",
   "environment_variables": {},
   "exception": null,
   "input_path": "/home/host_user/workspace/mnist-demo-pipeline/mnist-demo-pipeline/notebooks/temp-notebook-0laqh0qf.ipynb",
   "output_path": "notebooks/split-train-test.ipynb",
   "parameters": {
    "P": {
     "_opentelemetry_traceparent": "00-77ab81eb3be968f44ed6fb2299ede894-3963f51be94d2687-01",
     "pipeline.data_lake_root": "/pipeline-outputs/data-lake",
     "pipeline.github.actor": "matiasdahl",
     "pipeline.github.base_ref": "",
     "pipeline.github.event_name": "schedule",
     "pipeline.github.head_ref": "",
     "pipeline.github.job": "run-tests-pipeline-and-persist-pipeline-outputs",
     "pipeline.github.ref": "refs/heads/development",
     "pipeline.github.ref_name": "development",
     "pipeline.github.ref_type": "branch",
     "pipeline.github.repository": "matiasdahl/dev-mnist-digits-demo-pipeline",
     "pipeline.github.run_id": "3562362414",
     "pipeline.github.runner_name": "Hosted Agent",
     "pipeline.github.sha": "ace0d01011d5e914f1921450dd5a59c11367b38d",
     "pipeline.github.workflow": "Run automated tests, pipeline and deploy results to static reporting site",
     "pipeline.pipeline_run_id": "49d99194-007a-41a8-8b21-77bf703eea63",
     "pipeline.run_environment": "ci",
     "run.retry_nr": "0",
     "task.max_nr_retries": "1",
     "task.notebook": "notebooks/split-train-test.py",
     "task.num_cpus": 1,
     "task.timeout_s": "None",
     "task.train_test_ratio": 0.7
    }
   },
   "start_time": "2022-11-28T06:44:49.354979",
   "version": "2.3.3"
  }
 },
 "nbformat": 4,
 "nbformat_minor": 5
}