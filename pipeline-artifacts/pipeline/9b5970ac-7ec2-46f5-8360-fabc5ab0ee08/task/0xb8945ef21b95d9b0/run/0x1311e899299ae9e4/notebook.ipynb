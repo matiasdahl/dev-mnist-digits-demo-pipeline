{
 "cells": [
  {
   "cell_type": "markdown",
   "id": "7e7622aa",
   "metadata": {
    "papermill": {
     "duration": 0.005317,
     "end_time": "2022-12-09T06:42:38.692982",
     "exception": false,
     "start_time": "2022-12-09T06:42:38.687665",
     "status": "completed"
    },
    "tags": []
   },
   "source": [
    "# Benchmark model\n",
    "\n",
    "The purpose of this notebook is to benchmark persisted onnx-model (trained in the\n",
    "previous step) against evaluation set."
   ]
  },
  {
   "cell_type": "markdown",
   "id": "db0c8c82",
   "metadata": {
    "papermill": {
     "duration": 0.005906,
     "end_time": "2022-12-09T06:42:38.703577",
     "exception": false,
     "start_time": "2022-12-09T06:42:38.697671",
     "status": "completed"
    },
    "tags": []
   },
   "source": [
    "### Determine run parameters"
   ]
  },
  {
   "cell_type": "code",
   "execution_count": 1,
   "id": "c39c7b32",
   "metadata": {
    "execution": {
     "iopub.execute_input": "2022-12-09T06:42:38.713914Z",
     "iopub.status.busy": "2022-12-09T06:42:38.713078Z",
     "iopub.status.idle": "2022-12-09T06:42:38.720436Z",
     "shell.execute_reply": "2022-12-09T06:42:38.719754Z"
    },
    "lines_to_next_cell": 0,
    "papermill": {
     "duration": 0.015538,
     "end_time": "2022-12-09T06:42:38.723274",
     "exception": false,
     "start_time": "2022-12-09T06:42:38.707736",
     "status": "completed"
    },
    "tags": []
   },
   "outputs": [],
   "source": [
    "# ----------------- Parameters for interactive development --------------\n",
    "P = {\n",
    "    \"pipeline.data_lake_root\": \"/pipeline-outputs/data-lake\",\n",
    "    \"task.nr_train_images\": 600,\n",
    "}"
   ]
  },
  {
   "cell_type": "code",
   "execution_count": 2,
   "id": "b1f85891",
   "metadata": {
    "execution": {
     "iopub.execute_input": "2022-12-09T06:42:38.732883Z",
     "iopub.status.busy": "2022-12-09T06:42:38.732629Z",
     "iopub.status.idle": "2022-12-09T06:42:38.735512Z",
     "shell.execute_reply": "2022-12-09T06:42:38.734972Z"
    },
    "lines_to_next_cell": 0,
    "papermill": {
     "duration": 0.01104,
     "end_time": "2022-12-09T06:42:38.738403",
     "exception": false,
     "start_time": "2022-12-09T06:42:38.727363",
     "status": "completed"
    },
    "tags": [
     "parameters"
    ]
   },
   "outputs": [],
   "source": [
    "# - During automated runs parameters will be injected in the below cell -"
   ]
  },
  {
   "cell_type": "code",
   "execution_count": 3,
   "id": "c479aa70",
   "metadata": {
    "execution": {
     "iopub.execute_input": "2022-12-09T06:42:38.748735Z",
     "iopub.status.busy": "2022-12-09T06:42:38.748447Z",
     "iopub.status.idle": "2022-12-09T06:42:38.753677Z",
     "shell.execute_reply": "2022-12-09T06:42:38.753110Z"
    },
    "papermill": {
     "duration": 0.013665,
     "end_time": "2022-12-09T06:42:38.756675",
     "exception": false,
     "start_time": "2022-12-09T06:42:38.743010",
     "status": "completed"
    },
    "tags": [
     "injected-parameters"
    ]
   },
   "outputs": [],
   "source": [
    "# Parameters\n",
    "P = {\n",
    "    \"pipeline.data_lake_root\": \"/pipeline-outputs/data-lake\",\n",
    "    \"pipeline.run_environment\": \"ci\",\n",
    "    \"pipeline.pipeline_run_id\": \"9b5970ac-7ec2-46f5-8360-fabc5ab0ee08\",\n",
    "    \"pipeline.github.repository\": \"matiasdahl/dev-mnist-digits-demo-pipeline\",\n",
    "    \"pipeline.github.workflow\": \"Run automated tests, pipeline and deploy results to static reporting site\",\n",
    "    \"pipeline.github.runner_name\": \"Hosted Agent\",\n",
    "    \"pipeline.github.run_id\": \"3655095314\",\n",
    "    \"pipeline.github.actor\": \"matiasdahl\",\n",
    "    \"pipeline.github.job\": \"run-tests-pipeline-and-persist-pipeline-outputs\",\n",
    "    \"pipeline.github.base_ref\": \"\",\n",
    "    \"pipeline.github.head_ref\": \"\",\n",
    "    \"pipeline.github.sha\": \"ace0d01011d5e914f1921450dd5a59c11367b38d\",\n",
    "    \"pipeline.github.ref\": \"refs/heads/development\",\n",
    "    \"pipeline.github.ref_type\": \"branch\",\n",
    "    \"pipeline.github.ref_name\": \"development\",\n",
    "    \"pipeline.github.event_name\": \"schedule\",\n",
    "    \"task.nr_train_images\": 1200,\n",
    "    \"task.notebook\": \"notebooks/benchmark-model.py\",\n",
    "    \"task.max_nr_retries\": \"1\",\n",
    "    \"run.retry_nr\": \"0\",\n",
    "    \"task.timeout_s\": \"None\",\n",
    "    \"task.num_cpus\": 1,\n",
    "    \"_opentelemetry_traceparent\": \"00-695f3a50fa78f53d1d682803a025c1f1-23b48737e45368f7-01\",\n",
    "}\n"
   ]
  },
  {
   "cell_type": "code",
   "execution_count": 4,
   "id": "07c6017d",
   "metadata": {
    "execution": {
     "iopub.execute_input": "2022-12-09T06:42:38.766723Z",
     "iopub.status.busy": "2022-12-09T06:42:38.766182Z",
     "iopub.status.idle": "2022-12-09T06:42:38.770302Z",
     "shell.execute_reply": "2022-12-09T06:42:38.769650Z"
    },
    "lines_to_next_cell": 0,
    "papermill": {
     "duration": 0.012369,
     "end_time": "2022-12-09T06:42:38.773390",
     "exception": false,
     "start_time": "2022-12-09T06:42:38.761021",
     "status": "completed"
    },
    "tags": []
   },
   "outputs": [],
   "source": [
    "# -----------------------------------------------------------------------"
   ]
  },
  {
   "cell_type": "markdown",
   "id": "cc750084",
   "metadata": {
    "papermill": {
     "duration": 0.010228,
     "end_time": "2022-12-09T06:42:38.788349",
     "exception": false,
     "start_time": "2022-12-09T06:42:38.778121",
     "status": "completed"
    },
    "tags": []
   },
   "source": [
    "---"
   ]
  },
  {
   "cell_type": "markdown",
   "id": "f884af3f",
   "metadata": {
    "lines_to_next_cell": 2,
    "papermill": {
     "duration": 0.00465,
     "end_time": "2022-12-09T06:42:38.799202",
     "exception": false,
     "start_time": "2022-12-09T06:42:38.794552",
     "status": "completed"
    },
    "tags": []
   },
   "source": [
    "### Notebook code"
   ]
  },
  {
   "cell_type": "code",
   "execution_count": 5,
   "id": "8a42527c",
   "metadata": {
    "execution": {
     "iopub.execute_input": "2022-12-09T06:42:38.809221Z",
     "iopub.status.busy": "2022-12-09T06:42:38.808898Z",
     "iopub.status.idle": "2022-12-09T06:42:40.037086Z",
     "shell.execute_reply": "2022-12-09T06:42:40.036380Z"
    },
    "papermill": {
     "duration": 1.235699,
     "end_time": "2022-12-09T06:42:40.039300",
     "exception": false,
     "start_time": "2022-12-09T06:42:38.803601",
     "status": "completed"
    },
    "tags": []
   },
   "outputs": [
    {
     "name": "stderr",
     "output_type": "stream",
     "text": [
      "2022-12-09 06:42:39,797\tINFO worker.py:842 -- Connecting to existing Ray cluster at address: 172.17.0.2:6379\n"
     ]
    }
   ],
   "source": [
    "import itertools as it\n",
    "\n",
    "#\n",
    "import numpy as np\n",
    "import matplotlib.pyplot as plt\n",
    "\n",
    "#\n",
    "from pynb_dag_runner.tasks.task_opentelemetry_logging import PydarLogger\n",
    "\n",
    "#\n",
    "from common.io import datalake_root\n",
    "\n",
    "logger = PydarLogger(P)"
   ]
  },
  {
   "cell_type": "markdown",
   "id": "d871b576",
   "metadata": {
    "papermill": {
     "duration": 0.00473,
     "end_time": "2022-12-09T06:42:40.048771",
     "exception": false,
     "start_time": "2022-12-09T06:42:40.044041",
     "status": "completed"
    },
    "tags": []
   },
   "source": [
    "## Load persisted onnx-model and evaluation data"
   ]
  },
  {
   "cell_type": "code",
   "execution_count": 6,
   "id": "1329d27a",
   "metadata": {
    "execution": {
     "iopub.execute_input": "2022-12-09T06:42:40.058350Z",
     "iopub.status.busy": "2022-12-09T06:42:40.058001Z",
     "iopub.status.idle": "2022-12-09T06:42:40.061356Z",
     "shell.execute_reply": "2022-12-09T06:42:40.060829Z"
    },
    "papermill": {
     "duration": 0.01147,
     "end_time": "2022-12-09T06:42:40.064157",
     "exception": false,
     "start_time": "2022-12-09T06:42:40.052687",
     "status": "completed"
    },
    "tags": []
   },
   "outputs": [],
   "source": [
    "from common.io import read_onnx, get_onnx_inputs, get_onnx_outputs, read_numpy"
   ]
  },
  {
   "cell_type": "code",
   "execution_count": 7,
   "id": "42e8b963",
   "metadata": {
    "execution": {
     "iopub.execute_input": "2022-12-09T06:42:40.073869Z",
     "iopub.status.busy": "2022-12-09T06:42:40.073638Z",
     "iopub.status.idle": "2022-12-09T06:42:40.085873Z",
     "shell.execute_reply": "2022-12-09T06:42:40.085227Z"
    },
    "lines_to_next_cell": 0,
    "papermill": {
     "duration": 0.019846,
     "end_time": "2022-12-09T06:42:40.088294",
     "exception": false,
     "start_time": "2022-12-09T06:42:40.068448",
     "status": "completed"
    },
    "tags": []
   },
   "outputs": [],
   "source": [
    "onnx_inference_session = read_onnx(\n",
    "    datalake_root(P)\n",
    "    / \"models\"\n",
    "    / f\"nr_train_images={P['task.nr_train_images']}\"\n",
    "    / \"model.onnx\"\n",
    ")"
   ]
  },
  {
   "cell_type": "markdown",
   "id": "d6b32d35",
   "metadata": {
    "papermill": {
     "duration": 0.005154,
     "end_time": "2022-12-09T06:42:40.098207",
     "exception": false,
     "start_time": "2022-12-09T06:42:40.093053",
     "status": "completed"
    },
    "tags": []
   },
   "source": [
    "### Record structure of inputs and outputs for ONNX model\n",
    "\n",
    "(this should likely be done in training notebook)"
   ]
  },
  {
   "cell_type": "code",
   "execution_count": 8,
   "id": "a7e313be",
   "metadata": {
    "execution": {
     "iopub.execute_input": "2022-12-09T06:42:40.108870Z",
     "iopub.status.busy": "2022-12-09T06:42:40.108618Z",
     "iopub.status.idle": "2022-12-09T06:42:40.114761Z",
     "shell.execute_reply": "2022-12-09T06:42:40.114168Z"
    },
    "papermill": {
     "duration": 0.015084,
     "end_time": "2022-12-09T06:42:40.118401",
     "exception": false,
     "start_time": "2022-12-09T06:42:40.103317",
     "status": "completed"
    },
    "tags": []
   },
   "outputs": [
    {
     "name": "stdout",
     "output_type": "stream",
     "text": [
      "{\n",
      "  \"inputs\": [\n",
      "    {\n",
      "      \"name\": \"float_input_8x8_image\",\n",
      "      \"shape\": [\n",
      "        null,\n",
      "        64\n",
      "      ],\n",
      "      \"type\": \"tensor(float)\"\n",
      "    }\n",
      "  ],\n",
      "  \"outputs\": [\n",
      "    {\n",
      "      \"name\": \"output_label\",\n",
      "      \"shape\": [\n",
      "        null\n",
      "      ],\n",
      "      \"type\": \"tensor(int64)\"\n",
      "    },\n",
      "    {\n",
      "      \"name\": \"output_probability\",\n",
      "      \"shape\": [],\n",
      "      \"type\": \"seq(map(int64,tensor(float)))\"\n",
      "    }\n",
      "  ]\n",
      "}\n"
     ]
    }
   ],
   "source": [
    "import json\n",
    "\n",
    "onnx_io = json.dumps(\n",
    "    {\n",
    "        \"inputs\": get_onnx_inputs(onnx_inference_session),\n",
    "        \"outputs\": get_onnx_outputs(onnx_inference_session),\n",
    "    },\n",
    "    indent=2,\n",
    ")\n",
    "\n",
    "\n",
    "logger.log_artefact(\"onnx_io_structure.json\", onnx_io)\n",
    "print(onnx_io)"
   ]
  },
  {
   "cell_type": "markdown",
   "id": "8fabf93d",
   "metadata": {
    "papermill": {
     "duration": 0.004497,
     "end_time": "2022-12-09T06:42:40.129677",
     "exception": false,
     "start_time": "2022-12-09T06:42:40.125180",
     "status": "completed"
    },
    "tags": []
   },
   "source": [
    "### Evaluate model performance on evaluation data set"
   ]
  },
  {
   "cell_type": "code",
   "execution_count": 9,
   "id": "2ad5be5e",
   "metadata": {
    "execution": {
     "iopub.execute_input": "2022-12-09T06:42:40.141265Z",
     "iopub.status.busy": "2022-12-09T06:42:40.141037Z",
     "iopub.status.idle": "2022-12-09T06:42:40.145663Z",
     "shell.execute_reply": "2022-12-09T06:42:40.145078Z"
    },
    "papermill": {
     "duration": 0.013241,
     "end_time": "2022-12-09T06:42:40.148822",
     "exception": false,
     "start_time": "2022-12-09T06:42:40.135581",
     "status": "completed"
    },
    "tags": []
   },
   "outputs": [],
   "source": [
    "# load evaluation data\n",
    "X_test = read_numpy(datalake_root(P) / \"test-data\" / \"digits.numpy\")\n",
    "y_test = read_numpy(datalake_root(P) / \"test-data\" / \"labels.numpy\")"
   ]
  },
  {
   "cell_type": "code",
   "execution_count": 10,
   "id": "ed0b256b",
   "metadata": {
    "execution": {
     "iopub.execute_input": "2022-12-09T06:42:40.158346Z",
     "iopub.status.busy": "2022-12-09T06:42:40.158109Z",
     "iopub.status.idle": "2022-12-09T06:42:40.173297Z",
     "shell.execute_reply": "2022-12-09T06:42:40.172603Z"
    },
    "papermill": {
     "duration": 0.022209,
     "end_time": "2022-12-09T06:42:40.175145",
     "exception": false,
     "start_time": "2022-12-09T06:42:40.152936",
     "status": "completed"
    },
    "tags": []
   },
   "outputs": [],
   "source": [
    "def get_model_outputs(X, onnx_inference_session):\n",
    "    y_pred_labels, y_pred_map = onnx_inference_session.run(\n",
    "        [\"output_label\", \"output_probability\"],\n",
    "        {\"float_input_8x8_image\": X.astype(np.float32)},\n",
    "    )\n",
    "    y_pred_probs = np.array(\n",
    "        [[probabilities[digit] for digit in range(10)] for probabilities in y_pred_map]\n",
    "    )\n",
    "\n",
    "    assert y_pred_labels.shape == (X.shape[0],)\n",
    "    assert y_pred_probs.shape == (X.shape[0], 10)\n",
    "\n",
    "    return y_pred_labels, y_pred_probs\n",
    "\n",
    "\n",
    "# Note: as shown in the training notebook, the predicted labels and probabilities\n",
    "# computed below need not be compatible.\n",
    "y_pred_labels_test, y_pred_probs_test = get_model_outputs(\n",
    "    X_test, onnx_inference_session\n",
    ")"
   ]
  },
  {
   "cell_type": "markdown",
   "id": "0f7b7f6f",
   "metadata": {
    "papermill": {
     "duration": 0.005084,
     "end_time": "2022-12-09T06:42:40.185055",
     "exception": false,
     "start_time": "2022-12-09T06:42:40.179971",
     "status": "completed"
    },
    "tags": []
   },
   "source": [
    "### Confusion matrix"
   ]
  },
  {
   "cell_type": "code",
   "execution_count": 11,
   "id": "abc1f0f8",
   "metadata": {
    "execution": {
     "iopub.execute_input": "2022-12-09T06:42:40.198396Z",
     "iopub.status.busy": "2022-12-09T06:42:40.197968Z",
     "iopub.status.idle": "2022-12-09T06:42:40.201523Z",
     "shell.execute_reply": "2022-12-09T06:42:40.200737Z"
    },
    "papermill": {
     "duration": 0.014314,
     "end_time": "2022-12-09T06:42:40.203844",
     "exception": false,
     "start_time": "2022-12-09T06:42:40.189530",
     "status": "completed"
    },
    "tags": []
   },
   "outputs": [],
   "source": [
    "# TODO"
   ]
  },
  {
   "cell_type": "markdown",
   "id": "ad51dac7",
   "metadata": {
    "papermill": {
     "duration": 0.004321,
     "end_time": "2022-12-09T06:42:40.213140",
     "exception": false,
     "start_time": "2022-12-09T06:42:40.208819",
     "status": "completed"
    },
    "tags": []
   },
   "source": [
    "### Plot predicted probabilities for each classifier over all evaluation digit images"
   ]
  },
  {
   "cell_type": "code",
   "execution_count": 12,
   "id": "3baa0ee8",
   "metadata": {
    "execution": {
     "iopub.execute_input": "2022-12-09T06:42:40.223700Z",
     "iopub.status.busy": "2022-12-09T06:42:40.223395Z",
     "iopub.status.idle": "2022-12-09T06:42:43.305383Z",
     "shell.execute_reply": "2022-12-09T06:42:43.304723Z"
    },
    "papermill": {
     "duration": 3.089219,
     "end_time": "2022-12-09T06:42:43.307354",
     "exception": false,
     "start_time": "2022-12-09T06:42:40.218135",
     "status": "completed"
    },
    "tags": []
   },
   "outputs": [
    {
     "data": {
      "image/png": "[encoded data removed]",
      "text/plain": [
       "<Figure size 1600x600 with 10 Axes>"
      ]
     },
     "metadata": {},
     "output_type": "display_data"
    }
   ],
   "source": [
    "def plot_per_digit_probabilities(y_pred_probs):\n",
    "    fig, axs = plt.subplots(nrows=2, ncols=5, figsize=(16, 6))\n",
    "\n",
    "    for (r, c), digit, ax in zip(\n",
    "        it.product(range(2), range(5)), range(10), axs.reshape(-1)\n",
    "    ):\n",
    "        ax.hist(y_pred_probs_test[:, digit], bins=20)\n",
    "\n",
    "        ax.set_title(f\"Digit {digit}\")\n",
    "        if r == 1 and c == 2:\n",
    "            ax.set_xlabel(\"probability\", fontsize=16)\n",
    "\n",
    "        if c == 0:\n",
    "            ax.set_ylabel(\"counts\", fontsize=16)\n",
    "        ax.set_yscale(\"log\")\n",
    "\n",
    "    fig.tight_layout()\n",
    "    fig.suptitle(\n",
    "        f\"Distributions of prediction probabilities for each digit \"\n",
    "        f\"(on evaluation data, n={y_pred_probs.shape[0]})\",\n",
    "        fontsize=20,\n",
    "    )\n",
    "    fig.tight_layout()\n",
    "    fig.show()\n",
    "\n",
    "    return fig\n",
    "\n",
    "\n",
    "fig = plot_per_digit_probabilities(y_pred_probs_test)"
   ]
  },
  {
   "cell_type": "markdown",
   "id": "79ef6bf0",
   "metadata": {
    "papermill": {
     "duration": 0.004987,
     "end_time": "2022-12-09T06:42:43.318382",
     "exception": false,
     "start_time": "2022-12-09T06:42:43.313395",
     "status": "completed"
    },
    "tags": []
   },
   "source": [
    "From the above distributions we see that most digits have clear separation between\n",
    "high and lower probabilities. Morover, in each case there is roughly an order of\n",
    "magnitude more of digits with low probabilities. This is compatible with digits\n",
    "being roughly evenly distributed in the data."
   ]
  },
  {
   "cell_type": "code",
   "execution_count": 13,
   "id": "09fe96ee",
   "metadata": {
    "execution": {
     "iopub.execute_input": "2022-12-09T06:42:43.329823Z",
     "iopub.status.busy": "2022-12-09T06:42:43.329255Z",
     "iopub.status.idle": "2022-12-09T06:42:43.770355Z",
     "shell.execute_reply": "2022-12-09T06:42:43.769664Z"
    },
    "papermill": {
     "duration": 0.448682,
     "end_time": "2022-12-09T06:42:43.772225",
     "exception": false,
     "start_time": "2022-12-09T06:42:43.323543",
     "status": "completed"
    },
    "tags": []
   },
   "outputs": [],
   "source": [
    "logger.log_figure(\"per-digit-probabilities.png\", fig)"
   ]
  },
  {
   "cell_type": "markdown",
   "id": "f5372d53",
   "metadata": {
    "papermill": {
     "duration": 0.005155,
     "end_time": "2022-12-09T06:42:43.782756",
     "exception": false,
     "start_time": "2022-12-09T06:42:43.777601",
     "status": "completed"
    },
    "tags": []
   },
   "source": [
    "### Plot ROC curves for individual one-vs-rest classifiers"
   ]
  },
  {
   "cell_type": "code",
   "execution_count": 14,
   "id": "a13c7ce4",
   "metadata": {
    "execution": {
     "iopub.execute_input": "2022-12-09T06:42:43.794207Z",
     "iopub.status.busy": "2022-12-09T06:42:43.793743Z",
     "iopub.status.idle": "2022-12-09T06:42:44.207406Z",
     "shell.execute_reply": "2022-12-09T06:42:44.206723Z"
    },
    "papermill": {
     "duration": 0.421987,
     "end_time": "2022-12-09T06:42:44.209585",
     "exception": false,
     "start_time": "2022-12-09T06:42:43.787598",
     "status": "completed"
    },
    "tags": []
   },
   "outputs": [],
   "source": [
    "from sklearn import metrics"
   ]
  },
  {
   "cell_type": "code",
   "execution_count": 15,
   "id": "3f687a30",
   "metadata": {
    "execution": {
     "iopub.execute_input": "2022-12-09T06:42:44.222284Z",
     "iopub.status.busy": "2022-12-09T06:42:44.221939Z",
     "iopub.status.idle": "2022-12-09T06:42:45.249520Z",
     "shell.execute_reply": "2022-12-09T06:42:45.248570Z"
    },
    "papermill": {
     "duration": 1.037012,
     "end_time": "2022-12-09T06:42:45.252537",
     "exception": false,
     "start_time": "2022-12-09T06:42:44.215525",
     "status": "completed"
    },
    "tags": []
   },
   "outputs": [
    {
     "data": {
      "image/png": "[encoded data removed]",
      "text/plain": [
       "<Figure size 1600x800 with 10 Axes>"
      ]
     },
     "metadata": {},
     "output_type": "display_data"
    }
   ],
   "source": [
    "def plot_roc_curves(y, y_pred_probs):\n",
    "    # based on example code\n",
    "    # https://scikit-learn.org/stable/auto_examples/model_selection/plot_roc.html\n",
    "\n",
    "    fig, axs = plt.subplots(nrows=2, ncols=5, figsize=(16, 8))\n",
    "\n",
    "    roc_auc_dict = {}\n",
    "\n",
    "    for (r, c), digit, ax in zip(\n",
    "        it.product(range(2), range(5)), range(10), axs.reshape(-1)\n",
    "    ):\n",
    "        fpr, tpr, _ = metrics.roc_curve(y == digit, y_pred_probs[:, digit])\n",
    "        auc = metrics.auc(fpr, tpr)\n",
    "        roc_auc_dict[str(digit)] = auc\n",
    "\n",
    "        ax.plot(fpr, tpr, label=f\"ROC AUC={round(auc, 3)}\")\n",
    "\n",
    "        ax.set_title(f\"\\nDigit {digit}\", fontsize=16)\n",
    "        if r == 1:\n",
    "            ax.set_xlabel(\"FPR\", fontsize=18)\n",
    "\n",
    "        if c == 0:\n",
    "            ax.set_ylabel(\"TPR\", fontsize=18)\n",
    "\n",
    "        ax.set_xlim([-0.05, 1.05])\n",
    "        ax.set_ylim([-0.05, 1.05])\n",
    "        ax.legend(loc=\"lower right\", frameon=False, fontsize=14)\n",
    "\n",
    "    fig.tight_layout()\n",
    "    fig.suptitle(\n",
    "        f\"ROC plots for one-vs-rest performances \"\n",
    "        f\"(on evaluation data, n={y_pred_probs_test.shape[1]}\",\n",
    "        fontsize=22,\n",
    "    )\n",
    "    fig.tight_layout()\n",
    "    fig.show()\n",
    "\n",
    "    return roc_auc_dict, fig\n",
    "\n",
    "\n",
    "roc_auc_dict, fig = plot_roc_curves(y_test, y_pred_probs_test)"
   ]
  },
  {
   "cell_type": "code",
   "execution_count": 16,
   "id": "4508bf0b",
   "metadata": {
    "execution": {
     "iopub.execute_input": "2022-12-09T06:42:45.266291Z",
     "iopub.status.busy": "2022-12-09T06:42:45.265916Z",
     "iopub.status.idle": "2022-12-09T06:42:45.515954Z",
     "shell.execute_reply": "2022-12-09T06:42:45.515281Z"
    },
    "papermill": {
     "duration": 0.259299,
     "end_time": "2022-12-09T06:42:45.518392",
     "exception": false,
     "start_time": "2022-12-09T06:42:45.259093",
     "status": "completed"
    },
    "tags": []
   },
   "outputs": [],
   "source": [
    "logger.log_figure(\"per-digit-roc-curves.png\", fig)"
   ]
  },
  {
   "cell_type": "code",
   "execution_count": 17,
   "id": "0f6bb43b",
   "metadata": {
    "execution": {
     "iopub.execute_input": "2022-12-09T06:42:45.532487Z",
     "iopub.status.busy": "2022-12-09T06:42:45.532087Z",
     "iopub.status.idle": "2022-12-09T06:42:45.536966Z",
     "shell.execute_reply": "2022-12-09T06:42:45.536410Z"
    },
    "papermill": {
     "duration": 0.014149,
     "end_time": "2022-12-09T06:42:45.538947",
     "exception": false,
     "start_time": "2022-12-09T06:42:45.524798",
     "status": "completed"
    },
    "tags": []
   },
   "outputs": [
    {
     "data": {
      "text/plain": [
       "{'0': 1.0,\n",
       " '1': 0.9990627928772259,\n",
       " '2': 1.0,\n",
       " '3': 0.9998500468603562,\n",
       " '4': 0.9997332723670173,\n",
       " '5': 0.9997000937207123,\n",
       " '6': 0.999923792104862,\n",
       " '7': 0.9998475842097242,\n",
       " '8': 0.9955863808322825,\n",
       " '9': 0.9996570644718793}"
      ]
     },
     "execution_count": 17,
     "metadata": {},
     "output_type": "execute_result"
    }
   ],
   "source": [
    "roc_auc_dict"
   ]
  },
  {
   "cell_type": "code",
   "execution_count": 18,
   "id": "1436202e",
   "metadata": {
    "execution": {
     "iopub.execute_input": "2022-12-09T06:42:45.553681Z",
     "iopub.status.busy": "2022-12-09T06:42:45.553113Z",
     "iopub.status.idle": "2022-12-09T06:42:45.557696Z",
     "shell.execute_reply": "2022-12-09T06:42:45.556978Z"
    },
    "papermill": {
     "duration": 0.014615,
     "end_time": "2022-12-09T06:42:45.560260",
     "exception": false,
     "start_time": "2022-12-09T06:42:45.545645",
     "status": "completed"
    },
    "tags": []
   },
   "outputs": [
    {
     "name": "stdout",
     "output_type": "stream",
     "text": [
      " - Logging roc_auc_per_digit (json) : {'0': 1.0, '1': 0.9990627928772259, '2': 1.0, '3': 0.9998500468603562, '4': 0.9997332723670173, '5': 0.9997000937207123, '6': 0.999923792104862, '7': 0.9998475842097242, '8': 0.9955863808322825, '9': 0.9996570644718793}\n"
     ]
    }
   ],
   "source": [
    "logger.log_value(\"roc_auc_per_digit\", roc_auc_dict)"
   ]
  },
  {
   "cell_type": "markdown",
   "id": "68fb5cfb",
   "metadata": {
    "papermill": {
     "duration": 0.006215,
     "end_time": "2022-12-09T06:42:45.572474",
     "exception": false,
     "start_time": "2022-12-09T06:42:45.566259",
     "status": "completed"
    },
    "tags": []
   },
   "source": [
    "### Compute and log mean ROC AUC score averaged over all digits"
   ]
  },
  {
   "cell_type": "code",
   "execution_count": 19,
   "id": "5afc491d",
   "metadata": {
    "execution": {
     "iopub.execute_input": "2022-12-09T06:42:45.585503Z",
     "iopub.status.busy": "2022-12-09T06:42:45.585111Z",
     "iopub.status.idle": "2022-12-09T06:42:45.598412Z",
     "shell.execute_reply": "2022-12-09T06:42:45.597695Z"
    },
    "papermill": {
     "duration": 0.021931,
     "end_time": "2022-12-09T06:42:45.600285",
     "exception": false,
     "start_time": "2022-12-09T06:42:45.578354",
     "status": "completed"
    },
    "tags": []
   },
   "outputs": [
    {
     "name": "stdout",
     "output_type": "stream",
     "text": [
      " - Logging roc_auc_class_mean (float) : 0.999336102744406\n"
     ]
    }
   ],
   "source": [
    "roc_auc_macro = np.mean(list(roc_auc_dict.values()))\n",
    "\n",
    "logger.log_float(\"roc_auc_class_mean\", roc_auc_macro)\n",
    "\n",
    "# assert that the same value can be computed directly using sklearn\n",
    "assert roc_auc_macro == metrics.roc_auc_score(\n",
    "    y_test, y_pred_probs_test, average=\"macro\", multi_class=\"ovr\"\n",
    ")"
   ]
  },
  {
   "cell_type": "code",
   "execution_count": 20,
   "id": "2c7dd5f8",
   "metadata": {
    "execution": {
     "iopub.execute_input": "2022-12-09T06:42:45.613612Z",
     "iopub.status.busy": "2022-12-09T06:42:45.613202Z",
     "iopub.status.idle": "2022-12-09T06:42:45.616469Z",
     "shell.execute_reply": "2022-12-09T06:42:45.615845Z"
    },
    "lines_to_next_cell": 0,
    "papermill": {
     "duration": 0.011638,
     "end_time": "2022-12-09T06:42:45.617942",
     "exception": false,
     "start_time": "2022-12-09T06:42:45.606304",
     "status": "completed"
    },
    "tags": []
   },
   "outputs": [],
   "source": [
    "# ---"
   ]
  },
  {
   "cell_type": "code",
   "execution_count": null,
   "id": "5626bd80",
   "metadata": {
    "papermill": {
     "duration": 0.005928,
     "end_time": "2022-12-09T06:42:45.629821",
     "exception": false,
     "start_time": "2022-12-09T06:42:45.623893",
     "status": "completed"
    },
    "tags": []
   },
   "outputs": [],
   "source": []
  }
 ],
 "metadata": {
  "jupytext": {
   "cell_metadata_filter": "tags,-all",
   "main_language": "python",
   "notebook_metadata_filter": "-all"
  },
  "language_info": {
   "codemirror_mode": {
    "name": "ipython",
    "version": 3
   },
   "file_extension": ".py",
   "mimetype": "text/x-python",
   "name": "python",
   "nbconvert_exporter": "python",
   "pygments_lexer": "ipython3",
   "version": "3.8.10"
  },
  "papermill": {
   "default_parameters": {},
   "duration": 9.176727,
   "end_time": "2022-12-09T06:42:46.654656",
   "environment_variables": {},
   "exception": null,
   "input_path": "/home/host_user/workspace/mnist-demo-pipeline/mnist-demo-pipeline/notebooks/temp-notebook-aafydtmg.ipynb",
   "output_path": "notebooks/benchmark-model.ipynb",
   "parameters": {
    "P": {
     "_opentelemetry_traceparent": "00-695f3a50fa78f53d1d682803a025c1f1-23b48737e45368f7-01",
     "pipeline.data_lake_root": "/pipeline-outputs/data-lake",
     "pipeline.github.actor": "matiasdahl",
     "pipeline.github.base_ref": "",
     "pipeline.github.event_name": "schedule",
     "pipeline.github.head_ref": "",
     "pipeline.github.job": "run-tests-pipeline-and-persist-pipeline-outputs",
     "pipeline.github.ref": "refs/heads/development",
     "pipeline.github.ref_name": "development",
     "pipeline.github.ref_type": "branch",
     "pipeline.github.repository": "matiasdahl/dev-mnist-digits-demo-pipeline",
     "pipeline.github.run_id": "3655095314",
     "pipeline.github.runner_name": "Hosted Agent",
     "pipeline.github.sha": "ace0d01011d5e914f1921450dd5a59c11367b38d",
     "pipeline.github.workflow": "Run automated tests, pipeline and deploy results to static reporting site",
     "pipeline.pipeline_run_id": "9b5970ac-7ec2-46f5-8360-fabc5ab0ee08",
     "pipeline.run_environment": "ci",
     "run.retry_nr": "0",
     "task.max_nr_retries": "1",
     "task.notebook": "notebooks/benchmark-model.py",
     "task.nr_train_images": 1200,
     "task.num_cpus": 1,
     "task.timeout_s": "None"
    }
   },
   "start_time": "2022-12-09T06:42:37.477929",
   "version": "2.3.3"
  }
 },
 "nbformat": 4,
 "nbformat_minor": 5
}