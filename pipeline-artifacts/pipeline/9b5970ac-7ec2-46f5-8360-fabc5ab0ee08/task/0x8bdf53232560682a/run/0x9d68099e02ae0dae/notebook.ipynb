{
 "cells": [
  {
   "cell_type": "markdown",
   "id": "ba7fde8a",
   "metadata": {
    "papermill": {
     "duration": 0.004201,
     "end_time": "2022-12-09T06:42:49.057399",
     "exception": false,
     "start_time": "2022-12-09T06:42:49.053198",
     "status": "completed"
    },
    "tags": []
   },
   "source": [
    "# Summarize model performances\n",
    "\n",
    "This notebooks plots the performances (using averaged ROC AUC scores) for models\n",
    "trained with different training sets."
   ]
  },
  {
   "cell_type": "markdown",
   "id": "9122536a",
   "metadata": {
    "papermill": {
     "duration": 0.002337,
     "end_time": "2022-12-09T06:42:49.065373",
     "exception": false,
     "start_time": "2022-12-09T06:42:49.063036",
     "status": "completed"
    },
    "tags": []
   },
   "source": [
    "### Determine run parameters"
   ]
  },
  {
   "cell_type": "code",
   "execution_count": 1,
   "id": "360dcd47",
   "metadata": {
    "execution": {
     "iopub.execute_input": "2022-12-09T06:42:49.071886Z",
     "iopub.status.busy": "2022-12-09T06:42:49.071552Z",
     "iopub.status.idle": "2022-12-09T06:42:49.079162Z",
     "shell.execute_reply": "2022-12-09T06:42:49.077991Z"
    },
    "lines_to_next_cell": 0,
    "papermill": {
     "duration": 0.013303,
     "end_time": "2022-12-09T06:42:49.081130",
     "exception": false,
     "start_time": "2022-12-09T06:42:49.067827",
     "status": "completed"
    },
    "tags": []
   },
   "outputs": [],
   "source": [
    "# ----------------- Parameters for interactive development --------------\n",
    "P = {\n",
    "    \"pipeline.run_environment\": \"dev\",\n",
    "}"
   ]
  },
  {
   "cell_type": "code",
   "execution_count": 2,
   "id": "42f0ce6d",
   "metadata": {
    "execution": {
     "iopub.execute_input": "2022-12-09T06:42:49.088364Z",
     "iopub.status.busy": "2022-12-09T06:42:49.087954Z",
     "iopub.status.idle": "2022-12-09T06:42:49.091386Z",
     "shell.execute_reply": "2022-12-09T06:42:49.090355Z"
    },
    "lines_to_next_cell": 0,
    "papermill": {
     "duration": 0.008262,
     "end_time": "2022-12-09T06:42:49.092808",
     "exception": false,
     "start_time": "2022-12-09T06:42:49.084546",
     "status": "completed"
    },
    "tags": [
     "parameters"
    ]
   },
   "outputs": [],
   "source": [
    "# - During automated runs parameters will be injected in the below cell -"
   ]
  },
  {
   "cell_type": "code",
   "execution_count": 3,
   "id": "f3ec5758",
   "metadata": {
    "execution": {
     "iopub.execute_input": "2022-12-09T06:42:49.099643Z",
     "iopub.status.busy": "2022-12-09T06:42:49.099261Z",
     "iopub.status.idle": "2022-12-09T06:42:49.103734Z",
     "shell.execute_reply": "2022-12-09T06:42:49.103158Z"
    },
    "papermill": {
     "duration": 0.009503,
     "end_time": "2022-12-09T06:42:49.105180",
     "exception": false,
     "start_time": "2022-12-09T06:42:49.095677",
     "status": "completed"
    },
    "tags": [
     "injected-parameters"
    ]
   },
   "outputs": [],
   "source": [
    "# Parameters\n",
    "P = {\n",
    "    \"pipeline.data_lake_root\": \"/pipeline-outputs/data-lake\",\n",
    "    \"pipeline.run_environment\": \"ci\",\n",
    "    \"pipeline.pipeline_run_id\": \"9b5970ac-7ec2-46f5-8360-fabc5ab0ee08\",\n",
    "    \"pipeline.github.repository\": \"matiasdahl/dev-mnist-digits-demo-pipeline\",\n",
    "    \"pipeline.github.workflow\": \"Run automated tests, pipeline and deploy results to static reporting site\",\n",
    "    \"pipeline.github.runner_name\": \"Hosted Agent\",\n",
    "    \"pipeline.github.run_id\": \"3655095314\",\n",
    "    \"pipeline.github.actor\": \"matiasdahl\",\n",
    "    \"pipeline.github.job\": \"run-tests-pipeline-and-persist-pipeline-outputs\",\n",
    "    \"pipeline.github.base_ref\": \"\",\n",
    "    \"pipeline.github.head_ref\": \"\",\n",
    "    \"pipeline.github.sha\": \"ace0d01011d5e914f1921450dd5a59c11367b38d\",\n",
    "    \"pipeline.github.ref\": \"refs/heads/development\",\n",
    "    \"pipeline.github.ref_type\": \"branch\",\n",
    "    \"pipeline.github.ref_name\": \"development\",\n",
    "    \"pipeline.github.event_name\": \"schedule\",\n",
    "    \"task.notebook\": \"notebooks/summary.py\",\n",
    "    \"task.max_nr_retries\": \"1\",\n",
    "    \"run.retry_nr\": \"0\",\n",
    "    \"task.timeout_s\": \"None\",\n",
    "    \"task.num_cpus\": 1,\n",
    "    \"_opentelemetry_traceparent\": \"00-695f3a50fa78f53d1d682803a025c1f1-be76e8c108110380-01\",\n",
    "}\n"
   ]
  },
  {
   "cell_type": "code",
   "execution_count": 4,
   "id": "2f59d607",
   "metadata": {
    "execution": {
     "iopub.execute_input": "2022-12-09T06:42:49.111394Z",
     "iopub.status.busy": "2022-12-09T06:42:49.110801Z",
     "iopub.status.idle": "2022-12-09T06:42:49.113922Z",
     "shell.execute_reply": "2022-12-09T06:42:49.113354Z"
    },
    "lines_to_next_cell": 0,
    "papermill": {
     "duration": 0.007604,
     "end_time": "2022-12-09T06:42:49.115270",
     "exception": false,
     "start_time": "2022-12-09T06:42:49.107666",
     "status": "completed"
    },
    "tags": []
   },
   "outputs": [],
   "source": [
    "# -----------------------------------------------------------------------"
   ]
  },
  {
   "cell_type": "markdown",
   "id": "f152a56f",
   "metadata": {
    "papermill": {
     "duration": 0.002379,
     "end_time": "2022-12-09T06:42:49.120006",
     "exception": false,
     "start_time": "2022-12-09T06:42:49.117627",
     "status": "completed"
    },
    "tags": []
   },
   "source": [
    "---"
   ]
  },
  {
   "cell_type": "markdown",
   "id": "0ed524d5",
   "metadata": {
    "lines_to_next_cell": 2,
    "papermill": {
     "duration": 0.00243,
     "end_time": "2022-12-09T06:42:49.125077",
     "exception": false,
     "start_time": "2022-12-09T06:42:49.122647",
     "status": "completed"
    },
    "tags": []
   },
   "source": [
    "### Notebook code"
   ]
  },
  {
   "cell_type": "code",
   "execution_count": 5,
   "id": "4f89c4e3",
   "metadata": {
    "execution": {
     "iopub.execute_input": "2022-12-09T06:42:49.132670Z",
     "iopub.status.busy": "2022-12-09T06:42:49.132215Z",
     "iopub.status.idle": "2022-12-09T06:42:50.244850Z",
     "shell.execute_reply": "2022-12-09T06:42:50.244174Z"
    },
    "papermill": {
     "duration": 1.117962,
     "end_time": "2022-12-09T06:42:50.246999",
     "exception": false,
     "start_time": "2022-12-09T06:42:49.129037",
     "status": "completed"
    },
    "tags": []
   },
   "outputs": [],
   "source": [
    "#\n",
    "import pandas as pd\n",
    "import matplotlib.pyplot as plt\n",
    "\n",
    "#\n",
    "from pynb_dag_runner.tasks.task_opentelemetry_logging import PydarLogger"
   ]
  },
  {
   "cell_type": "code",
   "execution_count": 6,
   "id": "11aa0895",
   "metadata": {
    "execution": {
     "iopub.execute_input": "2022-12-09T06:42:50.253983Z",
     "iopub.status.busy": "2022-12-09T06:42:50.253312Z",
     "iopub.status.idle": "2022-12-09T06:42:50.412956Z",
     "shell.execute_reply": "2022-12-09T06:42:50.412192Z"
    },
    "papermill": {
     "duration": 0.165022,
     "end_time": "2022-12-09T06:42:50.414827",
     "exception": false,
     "start_time": "2022-12-09T06:42:50.249805",
     "status": "completed"
    },
    "tags": []
   },
   "outputs": [
    {
     "name": "stderr",
     "output_type": "stream",
     "text": [
      "2022-12-09 06:42:50,258\tINFO worker.py:842 -- Connecting to existing Ray cluster at address: 172.17.0.2:6379\n"
     ]
    }
   ],
   "source": [
    "logger = PydarLogger(P=P)"
   ]
  },
  {
   "cell_type": "code",
   "execution_count": 7,
   "id": "c54c65c0",
   "metadata": {
    "execution": {
     "iopub.execute_input": "2022-12-09T06:42:50.422540Z",
     "iopub.status.busy": "2022-12-09T06:42:50.421780Z",
     "iopub.status.idle": "2022-12-09T06:42:50.425457Z",
     "shell.execute_reply": "2022-12-09T06:42:50.424752Z"
    },
    "papermill": {
     "duration": 0.009073,
     "end_time": "2022-12-09T06:42:50.426872",
     "exception": false,
     "start_time": "2022-12-09T06:42:50.417799",
     "status": "completed"
    },
    "tags": []
   },
   "outputs": [],
   "source": [
    "from pynb_dag_runner.tasks.task_opentelemetry_logging import (\n",
    "    PydarLogger,\n",
    "    get_logged_values,\n",
    ")\n",
    "from pynb_dag_runner.opentelemetry_helpers import _get_all_spans, Spans"
   ]
  },
  {
   "cell_type": "code",
   "execution_count": 8,
   "id": "61dc1925",
   "metadata": {
    "execution": {
     "iopub.execute_input": "2022-12-09T06:42:50.433881Z",
     "iopub.status.busy": "2022-12-09T06:42:50.433465Z",
     "iopub.status.idle": "2022-12-09T06:42:50.439967Z",
     "shell.execute_reply": "2022-12-09T06:42:50.439263Z"
    },
    "papermill": {
     "duration": 0.011852,
     "end_time": "2022-12-09T06:42:50.441476",
     "exception": false,
     "start_time": "2022-12-09T06:42:50.429624",
     "status": "completed"
    },
    "tags": []
   },
   "outputs": [],
   "source": [
    "def get_model_benchmarks():\n",
    "    \"\"\"\n",
    "    Query the OpenTelemetry logs for *this pipeline run* and return\n",
    "    all key-values logged from all runs of the benchmark-model.py task\n",
    "\n",
    "    For testing a json file with OpenTelemetry spans (as an array)\n",
    "    can be used as follows:\n",
    "\n",
    "    - Create output directory `mkdir /tmp/spans`\n",
    "    - Run unit tests. This will create pipeline-outputs/opentelemetry-spans.json\n",
    "    - Convert this json-array into jsonl format as follows\n",
    "\n",
    "    jq -c '.[]' /pipeline-outputs/opentelemetry-spans.json > /tmp/spans/data.txt\n",
    "\n",
    "    \"\"\"\n",
    "    spans: Spans = Spans(_get_all_spans())\n",
    "    print(f\"Found {len(spans)} spans\")\n",
    "\n",
    "    benchmark_spans = (\n",
    "        spans\n",
    "        # -\n",
    "        .filter([\"name\"], \"execute-task\")\n",
    "        # -\n",
    "        .filter([\"attributes\", \"task.notebook\"], \"notebooks/benchmark-model.py\")\n",
    "    )\n",
    "\n",
    "    result = []\n",
    "    for s in benchmark_spans:\n",
    "        result.append(\n",
    "            {\n",
    "                \"span_id\": s[\"context\"][\"span_id\"],\n",
    "                \"nr_train_images\": s[\"attributes\"][\"task.nr_train_images\"],\n",
    "                \"data\": get_logged_values(spans.bound_under(s)),\n",
    "            }\n",
    "        )\n",
    "\n",
    "    return result\n",
    "\n",
    "\n",
    "def adjust_pandas(df):\n",
    "    def column_renamer(col_name: str) -> str:\n",
    "        return (\n",
    "            col_name\n",
    "            # -- 'data.roc_auc_per_digit.4' -> 'roc_auc.4'\n",
    "            .replace(\"data.roc_auc_per_digit\", \"roc_auc\")\n",
    "            # -- 'data.roc_auc_class_mean' -> 'roc_auc_mean'\n",
    "            .replace(\"data.roc_auc_class_mean\", \"roc_auc_mean\")\n",
    "        )\n",
    "\n",
    "    return df.rename(column_renamer, axis=\"columns\").sort_values(by=\"nr_train_images\")"
   ]
  },
  {
   "cell_type": "code",
   "execution_count": 9,
   "id": "128f6011",
   "metadata": {
    "execution": {
     "iopub.execute_input": "2022-12-09T06:42:50.448632Z",
     "iopub.status.busy": "2022-12-09T06:42:50.448032Z",
     "iopub.status.idle": "2022-12-09T06:42:50.495119Z",
     "shell.execute_reply": "2022-12-09T06:42:50.494518Z"
    },
    "papermill": {
     "duration": 0.052176,
     "end_time": "2022-12-09T06:42:50.496543",
     "exception": false,
     "start_time": "2022-12-09T06:42:50.444367",
     "status": "completed"
    },
    "tags": []
   },
   "outputs": [
    {
     "name": "stdout",
     "output_type": "stream",
     "text": [
      "Found 417 spans\n"
     ]
    }
   ],
   "source": [
    "df_data = adjust_pandas(pd.json_normalize(get_model_benchmarks()))"
   ]
  },
  {
   "cell_type": "code",
   "execution_count": 10,
   "id": "0029719c",
   "metadata": {
    "execution": {
     "iopub.execute_input": "2022-12-09T06:42:50.506256Z",
     "iopub.status.busy": "2022-12-09T06:42:50.505822Z",
     "iopub.status.idle": "2022-12-09T06:42:50.535849Z",
     "shell.execute_reply": "2022-12-09T06:42:50.535285Z"
    },
    "papermill": {
     "duration": 0.036965,
     "end_time": "2022-12-09T06:42:50.537370",
     "exception": false,
     "start_time": "2022-12-09T06:42:50.500405",
     "status": "completed"
    },
    "tags": []
   },
   "outputs": [
    {
     "data": {
      "text/html": [
       "<div>\n",
       "<style scoped>\n",
       "    .dataframe tbody tr th:only-of-type {\n",
       "        vertical-align: middle;\n",
       "    }\n",
       "\n",
       "    .dataframe tbody tr th {\n",
       "        vertical-align: top;\n",
       "    }\n",
       "\n",
       "    .dataframe thead th {\n",
       "        text-align: right;\n",
       "    }\n",
       "</style>\n",
       "<table border=\"1\" class=\"dataframe\">\n",
       "  <thead>\n",
       "    <tr style=\"text-align: right;\">\n",
       "      <th></th>\n",
       "      <th>span_id</th>\n",
       "      <th>nr_train_images</th>\n",
       "      <th>roc_auc_mean</th>\n",
       "      <th>roc_auc.0</th>\n",
       "      <th>roc_auc.1</th>\n",
       "      <th>roc_auc.2</th>\n",
       "      <th>roc_auc.3</th>\n",
       "      <th>roc_auc.4</th>\n",
       "      <th>roc_auc.5</th>\n",
       "      <th>roc_auc.6</th>\n",
       "      <th>roc_auc.7</th>\n",
       "      <th>roc_auc.8</th>\n",
       "      <th>roc_auc.9</th>\n",
       "    </tr>\n",
       "  </thead>\n",
       "  <tbody>\n",
       "    <tr>\n",
       "      <th>1</th>\n",
       "      <td>0xe1863fcb4fb0cbd0</td>\n",
       "      <td>600</td>\n",
       "      <td>0.9990</td>\n",
       "      <td>1.0</td>\n",
       "      <td>0.9993</td>\n",
       "      <td>1.0</td>\n",
       "      <td>0.9998</td>\n",
       "      <td>0.9991</td>\n",
       "      <td>0.9988</td>\n",
       "      <td>0.9999</td>\n",
       "      <td>0.9998</td>\n",
       "      <td>0.9945</td>\n",
       "      <td>0.9989</td>\n",
       "    </tr>\n",
       "    <tr>\n",
       "      <th>3</th>\n",
       "      <td>0x06baca2942d51133</td>\n",
       "      <td>800</td>\n",
       "      <td>0.9989</td>\n",
       "      <td>1.0</td>\n",
       "      <td>0.9987</td>\n",
       "      <td>1.0</td>\n",
       "      <td>0.9998</td>\n",
       "      <td>0.9995</td>\n",
       "      <td>0.9990</td>\n",
       "      <td>0.9999</td>\n",
       "      <td>0.9999</td>\n",
       "      <td>0.9930</td>\n",
       "      <td>0.9994</td>\n",
       "    </tr>\n",
       "    <tr>\n",
       "      <th>2</th>\n",
       "      <td>0x040fcf7cc7091d8e</td>\n",
       "      <td>1000</td>\n",
       "      <td>0.9992</td>\n",
       "      <td>1.0</td>\n",
       "      <td>0.9991</td>\n",
       "      <td>1.0</td>\n",
       "      <td>0.9999</td>\n",
       "      <td>0.9997</td>\n",
       "      <td>0.9994</td>\n",
       "      <td>0.9999</td>\n",
       "      <td>0.9998</td>\n",
       "      <td>0.9950</td>\n",
       "      <td>0.9996</td>\n",
       "    </tr>\n",
       "    <tr>\n",
       "      <th>0</th>\n",
       "      <td>0xb8945ef21b95d9b0</td>\n",
       "      <td>1200</td>\n",
       "      <td>0.9993</td>\n",
       "      <td>1.0</td>\n",
       "      <td>0.9991</td>\n",
       "      <td>1.0</td>\n",
       "      <td>0.9999</td>\n",
       "      <td>0.9997</td>\n",
       "      <td>0.9997</td>\n",
       "      <td>0.9999</td>\n",
       "      <td>0.9998</td>\n",
       "      <td>0.9956</td>\n",
       "      <td>0.9997</td>\n",
       "    </tr>\n",
       "  </tbody>\n",
       "</table>\n",
       "</div>"
      ],
      "text/plain": [
       "              span_id  nr_train_images  roc_auc_mean  roc_auc.0  roc_auc.1  \\\n",
       "1  0xe1863fcb4fb0cbd0              600        0.9990        1.0     0.9993   \n",
       "3  0x06baca2942d51133              800        0.9989        1.0     0.9987   \n",
       "2  0x040fcf7cc7091d8e             1000        0.9992        1.0     0.9991   \n",
       "0  0xb8945ef21b95d9b0             1200        0.9993        1.0     0.9991   \n",
       "\n",
       "   roc_auc.2  roc_auc.3  roc_auc.4  roc_auc.5  roc_auc.6  roc_auc.7  \\\n",
       "1        1.0     0.9998     0.9991     0.9988     0.9999     0.9998   \n",
       "3        1.0     0.9998     0.9995     0.9990     0.9999     0.9999   \n",
       "2        1.0     0.9999     0.9997     0.9994     0.9999     0.9998   \n",
       "0        1.0     0.9999     0.9997     0.9997     0.9999     0.9998   \n",
       "\n",
       "   roc_auc.8  roc_auc.9  \n",
       "1     0.9945     0.9989  \n",
       "3     0.9930     0.9994  \n",
       "2     0.9950     0.9996  \n",
       "0     0.9956     0.9997  "
      ]
     },
     "execution_count": 10,
     "metadata": {},
     "output_type": "execute_result"
    }
   ],
   "source": [
    "df_data.round(4)"
   ]
  },
  {
   "cell_type": "code",
   "execution_count": 11,
   "id": "d5983263",
   "metadata": {
    "execution": {
     "iopub.execute_input": "2022-12-09T06:42:50.546009Z",
     "iopub.status.busy": "2022-12-09T06:42:50.545620Z",
     "iopub.status.idle": "2022-12-09T06:42:50.721731Z",
     "shell.execute_reply": "2022-12-09T06:42:50.720861Z"
    },
    "papermill": {
     "duration": 0.18284,
     "end_time": "2022-12-09T06:42:50.723601",
     "exception": false,
     "start_time": "2022-12-09T06:42:50.540761",
     "status": "completed"
    },
    "tags": []
   },
   "outputs": [
    {
     "data": {
      "image/png": "[encoded data removed]",
      "text/plain": [
       "<Figure size 1600x400 with 1 Axes>"
      ]
     },
     "metadata": {},
     "output_type": "display_data"
    }
   ],
   "source": [
    "def plot_classifier_performance_summary(df_data):\n",
    "    fig, ax = plt.subplots(nrows=1, ncols=1, figsize=(16, 4), sharex=True)\n",
    "\n",
    "    #\n",
    "    ax.plot(\n",
    "        df_data[\"nr_train_images\"], df_data[\"roc_auc_mean\"], marker=\"o\", linestyle=\"--\"\n",
    "    )\n",
    "    ax.set_title(\n",
    "        f\"ROC AUC digit classifier performance on evaluation digits\", fontsize=17\n",
    "    )\n",
    "    ax.set_xlabel(\"Total number of digits in training set\", fontsize=14)\n",
    "    ax.set_ylabel(\"Mean ROC AUC\", fontsize=14)\n",
    "\n",
    "    fig.tight_layout()\n",
    "    fig.show()\n",
    "\n",
    "    return fig\n",
    "\n",
    "\n",
    "fig = plot_classifier_performance_summary(df_data)"
   ]
  },
  {
   "cell_type": "code",
   "execution_count": 12,
   "id": "908ed4de",
   "metadata": {
    "execution": {
     "iopub.execute_input": "2022-12-09T06:42:50.733144Z",
     "iopub.status.busy": "2022-12-09T06:42:50.732879Z",
     "iopub.status.idle": "2022-12-09T06:42:50.807424Z",
     "shell.execute_reply": "2022-12-09T06:42:50.806040Z"
    },
    "papermill": {
     "duration": 0.082516,
     "end_time": "2022-12-09T06:42:50.810153",
     "exception": false,
     "start_time": "2022-12-09T06:42:50.727637",
     "status": "completed"
    },
    "tags": []
   },
   "outputs": [],
   "source": [
    "logger.log_figure(\"auc-roc-model-performances.png\", fig)"
   ]
  },
  {
   "cell_type": "code",
   "execution_count": 13,
   "id": "7d92290f",
   "metadata": {
    "execution": {
     "iopub.execute_input": "2022-12-09T06:42:50.820465Z",
     "iopub.status.busy": "2022-12-09T06:42:50.820177Z",
     "iopub.status.idle": "2022-12-09T06:42:50.824286Z",
     "shell.execute_reply": "2022-12-09T06:42:50.823588Z"
    },
    "papermill": {
     "duration": 0.011411,
     "end_time": "2022-12-09T06:42:50.826037",
     "exception": false,
     "start_time": "2022-12-09T06:42:50.814626",
     "status": "completed"
    },
    "tags": []
   },
   "outputs": [],
   "source": [
    "###"
   ]
  },
  {
   "cell_type": "code",
   "execution_count": null,
   "id": "a993cb0a",
   "metadata": {
    "papermill": {
     "duration": 0.003973,
     "end_time": "2022-12-09T06:42:50.834421",
     "exception": false,
     "start_time": "2022-12-09T06:42:50.830448",
     "status": "completed"
    },
    "tags": []
   },
   "outputs": [],
   "source": []
  }
 ],
 "metadata": {
  "jupytext": {
   "cell_metadata_filter": "tags,-all",
   "main_language": "python",
   "notebook_metadata_filter": "-all"
  },
  "language_info": {
   "codemirror_mode": {
    "name": "ipython",
    "version": 3
   },
   "file_extension": ".py",
   "mimetype": "text/x-python",
   "name": "python",
   "nbconvert_exporter": "python",
   "pygments_lexer": "ipython3",
   "version": "3.8.10"
  },
  "papermill": {
   "default_parameters": {},
   "duration": 3.977589,
   "end_time": "2022-12-09T06:42:51.860115",
   "environment_variables": {},
   "exception": null,
   "input_path": "/home/host_user/workspace/mnist-demo-pipeline/mnist-demo-pipeline/notebooks/temp-notebook-keq9dc29.ipynb",
   "output_path": "notebooks/summary.ipynb",
   "parameters": {
    "P": {
     "_opentelemetry_traceparent": "00-695f3a50fa78f53d1d682803a025c1f1-be76e8c108110380-01",
     "pipeline.data_lake_root": "/pipeline-outputs/data-lake",
     "pipeline.github.actor": "matiasdahl",
     "pipeline.github.base_ref": "",
     "pipeline.github.event_name": "schedule",
     "pipeline.github.head_ref": "",
     "pipeline.github.job": "run-tests-pipeline-and-persist-pipeline-outputs",
     "pipeline.github.ref": "refs/heads/development",
     "pipeline.github.ref_name": "development",
     "pipeline.github.ref_type": "branch",
     "pipeline.github.repository": "matiasdahl/dev-mnist-digits-demo-pipeline",
     "pipeline.github.run_id": "3655095314",
     "pipeline.github.runner_name": "Hosted Agent",
     "pipeline.github.sha": "ace0d01011d5e914f1921450dd5a59c11367b38d",
     "pipeline.github.workflow": "Run automated tests, pipeline and deploy results to static reporting site",
     "pipeline.pipeline_run_id": "9b5970ac-7ec2-46f5-8360-fabc5ab0ee08",
     "pipeline.run_environment": "ci",
     "run.retry_nr": "0",
     "task.max_nr_retries": "1",
     "task.notebook": "notebooks/summary.py",
     "task.num_cpus": 1,
     "task.timeout_s": "None"
    }
   },
   "start_time": "2022-12-09T06:42:47.882526",
   "version": "2.3.3"
  }
 },
 "nbformat": 4,
 "nbformat_minor": 5
}