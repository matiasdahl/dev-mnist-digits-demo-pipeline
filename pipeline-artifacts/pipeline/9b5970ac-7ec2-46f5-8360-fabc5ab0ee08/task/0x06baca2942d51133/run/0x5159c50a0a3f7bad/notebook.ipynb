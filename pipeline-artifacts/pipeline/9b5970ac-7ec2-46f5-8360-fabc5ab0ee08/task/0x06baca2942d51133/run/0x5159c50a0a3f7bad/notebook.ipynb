{
 "cells": [
  {
   "cell_type": "markdown",
   "id": "9850ae51",
   "metadata": {
    "papermill": {
     "duration": 0.006017,
     "end_time": "2022-12-09T06:42:33.858050",
     "exception": false,
     "start_time": "2022-12-09T06:42:33.852033",
     "status": "completed"
    },
    "tags": []
   },
   "source": [
    "# Benchmark model\n",
    "\n",
    "The purpose of this notebook is to benchmark persisted onnx-model (trained in the\n",
    "previous step) against evaluation set."
   ]
  },
  {
   "cell_type": "markdown",
   "id": "f3e4696f",
   "metadata": {
    "papermill": {
     "duration": 0.005812,
     "end_time": "2022-12-09T06:42:33.868660",
     "exception": false,
     "start_time": "2022-12-09T06:42:33.862848",
     "status": "completed"
    },
    "tags": []
   },
   "source": [
    "### Determine run parameters"
   ]
  },
  {
   "cell_type": "code",
   "execution_count": 1,
   "id": "97d7462a",
   "metadata": {
    "execution": {
     "iopub.execute_input": "2022-12-09T06:42:33.878838Z",
     "iopub.status.busy": "2022-12-09T06:42:33.878419Z",
     "iopub.status.idle": "2022-12-09T06:42:33.888140Z",
     "shell.execute_reply": "2022-12-09T06:42:33.887590Z"
    },
    "lines_to_next_cell": 0,
    "papermill": {
     "duration": 0.016825,
     "end_time": "2022-12-09T06:42:33.889864",
     "exception": false,
     "start_time": "2022-12-09T06:42:33.873039",
     "status": "completed"
    },
    "tags": []
   },
   "outputs": [],
   "source": [
    "# ----------------- Parameters for interactive development --------------\n",
    "P = {\n",
    "    \"pipeline.data_lake_root\": \"/pipeline-outputs/data-lake\",\n",
    "    \"task.nr_train_images\": 600,\n",
    "}"
   ]
  },
  {
   "cell_type": "code",
   "execution_count": 2,
   "id": "4ce15226",
   "metadata": {
    "execution": {
     "iopub.execute_input": "2022-12-09T06:42:33.899973Z",
     "iopub.status.busy": "2022-12-09T06:42:33.899769Z",
     "iopub.status.idle": "2022-12-09T06:42:33.903151Z",
     "shell.execute_reply": "2022-12-09T06:42:33.902671Z"
    },
    "lines_to_next_cell": 0,
    "papermill": {
     "duration": 0.010804,
     "end_time": "2022-12-09T06:42:33.905518",
     "exception": false,
     "start_time": "2022-12-09T06:42:33.894714",
     "status": "completed"
    },
    "tags": [
     "parameters"
    ]
   },
   "outputs": [],
   "source": [
    "# - During automated runs parameters will be injected in the below cell -"
   ]
  },
  {
   "cell_type": "code",
   "execution_count": 3,
   "id": "8f0ebfa4",
   "metadata": {
    "execution": {
     "iopub.execute_input": "2022-12-09T06:42:33.915506Z",
     "iopub.status.busy": "2022-12-09T06:42:33.915304Z",
     "iopub.status.idle": "2022-12-09T06:42:33.920063Z",
     "shell.execute_reply": "2022-12-09T06:42:33.919541Z"
    },
    "papermill": {
     "duration": 0.013431,
     "end_time": "2022-12-09T06:42:33.923201",
     "exception": false,
     "start_time": "2022-12-09T06:42:33.909770",
     "status": "completed"
    },
    "tags": [
     "injected-parameters"
    ]
   },
   "outputs": [],
   "source": [
    "# Parameters\n",
    "P = {\n",
    "    \"pipeline.data_lake_root\": \"/pipeline-outputs/data-lake\",\n",
    "    \"pipeline.run_environment\": \"ci\",\n",
    "    \"pipeline.pipeline_run_id\": \"9b5970ac-7ec2-46f5-8360-fabc5ab0ee08\",\n",
    "    \"pipeline.github.repository\": \"matiasdahl/dev-mnist-digits-demo-pipeline\",\n",
    "    \"pipeline.github.workflow\": \"Run automated tests, pipeline and deploy results to static reporting site\",\n",
    "    \"pipeline.github.runner_name\": \"Hosted Agent\",\n",
    "    \"pipeline.github.run_id\": \"3655095314\",\n",
    "    \"pipeline.github.actor\": \"matiasdahl\",\n",
    "    \"pipeline.github.job\": \"run-tests-pipeline-and-persist-pipeline-outputs\",\n",
    "    \"pipeline.github.base_ref\": \"\",\n",
    "    \"pipeline.github.head_ref\": \"\",\n",
    "    \"pipeline.github.sha\": \"ace0d01011d5e914f1921450dd5a59c11367b38d\",\n",
    "    \"pipeline.github.ref\": \"refs/heads/development\",\n",
    "    \"pipeline.github.ref_type\": \"branch\",\n",
    "    \"pipeline.github.ref_name\": \"development\",\n",
    "    \"pipeline.github.event_name\": \"schedule\",\n",
    "    \"task.nr_train_images\": 800,\n",
    "    \"task.notebook\": \"notebooks/benchmark-model.py\",\n",
    "    \"task.max_nr_retries\": \"1\",\n",
    "    \"run.retry_nr\": \"0\",\n",
    "    \"task.timeout_s\": \"None\",\n",
    "    \"task.num_cpus\": 1,\n",
    "    \"_opentelemetry_traceparent\": \"00-695f3a50fa78f53d1d682803a025c1f1-30fe73cc881e5256-01\",\n",
    "}\n"
   ]
  },
  {
   "cell_type": "code",
   "execution_count": 4,
   "id": "ad10bf3d",
   "metadata": {
    "execution": {
     "iopub.execute_input": "2022-12-09T06:42:33.932774Z",
     "iopub.status.busy": "2022-12-09T06:42:33.932569Z",
     "iopub.status.idle": "2022-12-09T06:42:33.935181Z",
     "shell.execute_reply": "2022-12-09T06:42:33.934685Z"
    },
    "lines_to_next_cell": 0,
    "papermill": {
     "duration": 0.009888,
     "end_time": "2022-12-09T06:42:33.936866",
     "exception": false,
     "start_time": "2022-12-09T06:42:33.926978",
     "status": "completed"
    },
    "tags": []
   },
   "outputs": [],
   "source": [
    "# -----------------------------------------------------------------------"
   ]
  },
  {
   "cell_type": "markdown",
   "id": "83680484",
   "metadata": {
    "papermill": {
     "duration": 0.004126,
     "end_time": "2022-12-09T06:42:33.945653",
     "exception": false,
     "start_time": "2022-12-09T06:42:33.941527",
     "status": "completed"
    },
    "tags": []
   },
   "source": [
    "---"
   ]
  },
  {
   "cell_type": "markdown",
   "id": "9bb8e986",
   "metadata": {
    "lines_to_next_cell": 2,
    "papermill": {
     "duration": 0.009994,
     "end_time": "2022-12-09T06:42:33.959855",
     "exception": false,
     "start_time": "2022-12-09T06:42:33.949861",
     "status": "completed"
    },
    "tags": []
   },
   "source": [
    "### Notebook code"
   ]
  },
  {
   "cell_type": "code",
   "execution_count": 5,
   "id": "336e0bb6",
   "metadata": {
    "execution": {
     "iopub.execute_input": "2022-12-09T06:42:33.971773Z",
     "iopub.status.busy": "2022-12-09T06:42:33.971490Z",
     "iopub.status.idle": "2022-12-09T06:42:35.188643Z",
     "shell.execute_reply": "2022-12-09T06:42:35.187810Z"
    },
    "papermill": {
     "duration": 1.225768,
     "end_time": "2022-12-09T06:42:35.190605",
     "exception": false,
     "start_time": "2022-12-09T06:42:33.964837",
     "status": "completed"
    },
    "tags": []
   },
   "outputs": [
    {
     "name": "stderr",
     "output_type": "stream",
     "text": [
      "2022-12-09 06:42:34,957\tINFO worker.py:842 -- Connecting to existing Ray cluster at address: 172.17.0.2:6379\n"
     ]
    }
   ],
   "source": [
    "import itertools as it\n",
    "\n",
    "#\n",
    "import numpy as np\n",
    "import matplotlib.pyplot as plt\n",
    "\n",
    "#\n",
    "from pynb_dag_runner.tasks.task_opentelemetry_logging import PydarLogger\n",
    "\n",
    "#\n",
    "from common.io import datalake_root\n",
    "\n",
    "logger = PydarLogger(P)"
   ]
  },
  {
   "cell_type": "markdown",
   "id": "732c19f5",
   "metadata": {
    "papermill": {
     "duration": 0.00428,
     "end_time": "2022-12-09T06:42:35.199361",
     "exception": false,
     "start_time": "2022-12-09T06:42:35.195081",
     "status": "completed"
    },
    "tags": []
   },
   "source": [
    "## Load persisted onnx-model and evaluation data"
   ]
  },
  {
   "cell_type": "code",
   "execution_count": 6,
   "id": "816a9350",
   "metadata": {
    "execution": {
     "iopub.execute_input": "2022-12-09T06:42:35.209776Z",
     "iopub.status.busy": "2022-12-09T06:42:35.208726Z",
     "iopub.status.idle": "2022-12-09T06:42:35.213703Z",
     "shell.execute_reply": "2022-12-09T06:42:35.212999Z"
    },
    "papermill": {
     "duration": 0.011497,
     "end_time": "2022-12-09T06:42:35.215136",
     "exception": false,
     "start_time": "2022-12-09T06:42:35.203639",
     "status": "completed"
    },
    "tags": []
   },
   "outputs": [],
   "source": [
    "from common.io import read_onnx, get_onnx_inputs, get_onnx_outputs, read_numpy"
   ]
  },
  {
   "cell_type": "code",
   "execution_count": 7,
   "id": "fbad5df3",
   "metadata": {
    "execution": {
     "iopub.execute_input": "2022-12-09T06:42:35.226035Z",
     "iopub.status.busy": "2022-12-09T06:42:35.225534Z",
     "iopub.status.idle": "2022-12-09T06:42:35.235508Z",
     "shell.execute_reply": "2022-12-09T06:42:35.235003Z"
    },
    "lines_to_next_cell": 0,
    "papermill": {
     "duration": 0.016855,
     "end_time": "2022-12-09T06:42:35.237114",
     "exception": false,
     "start_time": "2022-12-09T06:42:35.220259",
     "status": "completed"
    },
    "tags": []
   },
   "outputs": [],
   "source": [
    "onnx_inference_session = read_onnx(\n",
    "    datalake_root(P)\n",
    "    / \"models\"\n",
    "    / f\"nr_train_images={P['task.nr_train_images']}\"\n",
    "    / \"model.onnx\"\n",
    ")"
   ]
  },
  {
   "cell_type": "markdown",
   "id": "8b5a6605",
   "metadata": {
    "papermill": {
     "duration": 0.004302,
     "end_time": "2022-12-09T06:42:35.245999",
     "exception": false,
     "start_time": "2022-12-09T06:42:35.241697",
     "status": "completed"
    },
    "tags": []
   },
   "source": [
    "### Record structure of inputs and outputs for ONNX model\n",
    "\n",
    "(this should likely be done in training notebook)"
   ]
  },
  {
   "cell_type": "code",
   "execution_count": 8,
   "id": "adcc4202",
   "metadata": {
    "execution": {
     "iopub.execute_input": "2022-12-09T06:42:35.260419Z",
     "iopub.status.busy": "2022-12-09T06:42:35.259765Z",
     "iopub.status.idle": "2022-12-09T06:42:35.265359Z",
     "shell.execute_reply": "2022-12-09T06:42:35.264861Z"
    },
    "papermill": {
     "duration": 0.015636,
     "end_time": "2022-12-09T06:42:35.266673",
     "exception": false,
     "start_time": "2022-12-09T06:42:35.251037",
     "status": "completed"
    },
    "tags": []
   },
   "outputs": [
    {
     "name": "stdout",
     "output_type": "stream",
     "text": [
      "{\n",
      "  \"inputs\": [\n",
      "    {\n",
      "      \"name\": \"float_input_8x8_image\",\n",
      "      \"shape\": [\n",
      "        null,\n",
      "        64\n",
      "      ],\n",
      "      \"type\": \"tensor(float)\"\n",
      "    }\n",
      "  ],\n",
      "  \"outputs\": [\n",
      "    {\n",
      "      \"name\": \"output_label\",\n",
      "      \"shape\": [\n",
      "        null\n",
      "      ],\n",
      "      \"type\": \"tensor(int64)\"\n",
      "    },\n",
      "    {\n",
      "      \"name\": \"output_probability\",\n",
      "      \"shape\": [],\n",
      "      \"type\": \"seq(map(int64,tensor(float)))\"\n",
      "    }\n",
      "  ]\n",
      "}\n"
     ]
    }
   ],
   "source": [
    "import json\n",
    "\n",
    "onnx_io = json.dumps(\n",
    "    {\n",
    "        \"inputs\": get_onnx_inputs(onnx_inference_session),\n",
    "        \"outputs\": get_onnx_outputs(onnx_inference_session),\n",
    "    },\n",
    "    indent=2,\n",
    ")\n",
    "\n",
    "\n",
    "logger.log_artefact(\"onnx_io_structure.json\", onnx_io)\n",
    "print(onnx_io)"
   ]
  },
  {
   "cell_type": "markdown",
   "id": "040bde29",
   "metadata": {
    "papermill": {
     "duration": 0.004176,
     "end_time": "2022-12-09T06:42:35.275492",
     "exception": false,
     "start_time": "2022-12-09T06:42:35.271316",
     "status": "completed"
    },
    "tags": []
   },
   "source": [
    "### Evaluate model performance on evaluation data set"
   ]
  },
  {
   "cell_type": "code",
   "execution_count": 9,
   "id": "5bf84e21",
   "metadata": {
    "execution": {
     "iopub.execute_input": "2022-12-09T06:42:35.285767Z",
     "iopub.status.busy": "2022-12-09T06:42:35.285142Z",
     "iopub.status.idle": "2022-12-09T06:42:35.290551Z",
     "shell.execute_reply": "2022-12-09T06:42:35.289347Z"
    },
    "papermill": {
     "duration": 0.012353,
     "end_time": "2022-12-09T06:42:35.292298",
     "exception": false,
     "start_time": "2022-12-09T06:42:35.279945",
     "status": "completed"
    },
    "tags": []
   },
   "outputs": [],
   "source": [
    "# load evaluation data\n",
    "X_test = read_numpy(datalake_root(P) / \"test-data\" / \"digits.numpy\")\n",
    "y_test = read_numpy(datalake_root(P) / \"test-data\" / \"labels.numpy\")"
   ]
  },
  {
   "cell_type": "code",
   "execution_count": 10,
   "id": "e8f0f1cd",
   "metadata": {
    "execution": {
     "iopub.execute_input": "2022-12-09T06:42:35.306766Z",
     "iopub.status.busy": "2022-12-09T06:42:35.306214Z",
     "iopub.status.idle": "2022-12-09T06:42:35.319637Z",
     "shell.execute_reply": "2022-12-09T06:42:35.319043Z"
    },
    "papermill": {
     "duration": 0.024897,
     "end_time": "2022-12-09T06:42:35.321205",
     "exception": false,
     "start_time": "2022-12-09T06:42:35.296308",
     "status": "completed"
    },
    "tags": []
   },
   "outputs": [],
   "source": [
    "def get_model_outputs(X, onnx_inference_session):\n",
    "    y_pred_labels, y_pred_map = onnx_inference_session.run(\n",
    "        [\"output_label\", \"output_probability\"],\n",
    "        {\"float_input_8x8_image\": X.astype(np.float32)},\n",
    "    )\n",
    "    y_pred_probs = np.array(\n",
    "        [[probabilities[digit] for digit in range(10)] for probabilities in y_pred_map]\n",
    "    )\n",
    "\n",
    "    assert y_pred_labels.shape == (X.shape[0],)\n",
    "    assert y_pred_probs.shape == (X.shape[0], 10)\n",
    "\n",
    "    return y_pred_labels, y_pred_probs\n",
    "\n",
    "\n",
    "# Note: as shown in the training notebook, the predicted labels and probabilities\n",
    "# computed below need not be compatible.\n",
    "y_pred_labels_test, y_pred_probs_test = get_model_outputs(\n",
    "    X_test, onnx_inference_session\n",
    ")"
   ]
  },
  {
   "cell_type": "markdown",
   "id": "311208dc",
   "metadata": {
    "papermill": {
     "duration": 0.004083,
     "end_time": "2022-12-09T06:42:35.329568",
     "exception": false,
     "start_time": "2022-12-09T06:42:35.325485",
     "status": "completed"
    },
    "tags": []
   },
   "source": [
    "### Confusion matrix"
   ]
  },
  {
   "cell_type": "code",
   "execution_count": 11,
   "id": "5623a4b9",
   "metadata": {
    "execution": {
     "iopub.execute_input": "2022-12-09T06:42:35.342603Z",
     "iopub.status.busy": "2022-12-09T06:42:35.341890Z",
     "iopub.status.idle": "2022-12-09T06:42:35.346478Z",
     "shell.execute_reply": "2022-12-09T06:42:35.345241Z"
    },
    "papermill": {
     "duration": 0.011236,
     "end_time": "2022-12-09T06:42:35.347818",
     "exception": false,
     "start_time": "2022-12-09T06:42:35.336582",
     "status": "completed"
    },
    "tags": []
   },
   "outputs": [],
   "source": [
    "# TODO"
   ]
  },
  {
   "cell_type": "markdown",
   "id": "72933da1",
   "metadata": {
    "papermill": {
     "duration": 0.004089,
     "end_time": "2022-12-09T06:42:35.357268",
     "exception": false,
     "start_time": "2022-12-09T06:42:35.353179",
     "status": "completed"
    },
    "tags": []
   },
   "source": [
    "### Plot predicted probabilities for each classifier over all evaluation digit images"
   ]
  },
  {
   "cell_type": "code",
   "execution_count": 12,
   "id": "282089d8",
   "metadata": {
    "execution": {
     "iopub.execute_input": "2022-12-09T06:42:35.366900Z",
     "iopub.status.busy": "2022-12-09T06:42:35.366484Z",
     "iopub.status.idle": "2022-12-09T06:42:38.410804Z",
     "shell.execute_reply": "2022-12-09T06:42:38.410158Z"
    },
    "papermill": {
     "duration": 3.051738,
     "end_time": "2022-12-09T06:42:38.413169",
     "exception": false,
     "start_time": "2022-12-09T06:42:35.361431",
     "status": "completed"
    },
    "tags": []
   },
   "outputs": [
    {
     "data": {
      "image/png": "[encoded data removed]",
      "text/plain": [
       "<Figure size 1600x600 with 10 Axes>"
      ]
     },
     "metadata": {},
     "output_type": "display_data"
    }
   ],
   "source": [
    "def plot_per_digit_probabilities(y_pred_probs):\n",
    "    fig, axs = plt.subplots(nrows=2, ncols=5, figsize=(16, 6))\n",
    "\n",
    "    for (r, c), digit, ax in zip(\n",
    "        it.product(range(2), range(5)), range(10), axs.reshape(-1)\n",
    "    ):\n",
    "        ax.hist(y_pred_probs_test[:, digit], bins=20)\n",
    "\n",
    "        ax.set_title(f\"Digit {digit}\")\n",
    "        if r == 1 and c == 2:\n",
    "            ax.set_xlabel(\"probability\", fontsize=16)\n",
    "\n",
    "        if c == 0:\n",
    "            ax.set_ylabel(\"counts\", fontsize=16)\n",
    "        ax.set_yscale(\"log\")\n",
    "\n",
    "    fig.tight_layout()\n",
    "    fig.suptitle(\n",
    "        f\"Distributions of prediction probabilities for each digit \"\n",
    "        f\"(on evaluation data, n={y_pred_probs.shape[0]})\",\n",
    "        fontsize=20,\n",
    "    )\n",
    "    fig.tight_layout()\n",
    "    fig.show()\n",
    "\n",
    "    return fig\n",
    "\n",
    "\n",
    "fig = plot_per_digit_probabilities(y_pred_probs_test)"
   ]
  },
  {
   "cell_type": "markdown",
   "id": "62cc4e52",
   "metadata": {
    "papermill": {
     "duration": 0.005174,
     "end_time": "2022-12-09T06:42:38.424129",
     "exception": false,
     "start_time": "2022-12-09T06:42:38.418955",
     "status": "completed"
    },
    "tags": []
   },
   "source": [
    "From the above distributions we see that most digits have clear separation between\n",
    "high and lower probabilities. Morover, in each case there is roughly an order of\n",
    "magnitude more of digits with low probabilities. This is compatible with digits\n",
    "being roughly evenly distributed in the data."
   ]
  },
  {
   "cell_type": "code",
   "execution_count": 13,
   "id": "71fda715",
   "metadata": {
    "execution": {
     "iopub.execute_input": "2022-12-09T06:42:38.435526Z",
     "iopub.status.busy": "2022-12-09T06:42:38.435265Z",
     "iopub.status.idle": "2022-12-09T06:42:38.951904Z",
     "shell.execute_reply": "2022-12-09T06:42:38.951106Z"
    },
    "papermill": {
     "duration": 0.524665,
     "end_time": "2022-12-09T06:42:38.953871",
     "exception": false,
     "start_time": "2022-12-09T06:42:38.429206",
     "status": "completed"
    },
    "tags": []
   },
   "outputs": [],
   "source": [
    "logger.log_figure(\"per-digit-probabilities.png\", fig)"
   ]
  },
  {
   "cell_type": "markdown",
   "id": "44986c4e",
   "metadata": {
    "papermill": {
     "duration": 0.005264,
     "end_time": "2022-12-09T06:42:38.965200",
     "exception": false,
     "start_time": "2022-12-09T06:42:38.959936",
     "status": "completed"
    },
    "tags": []
   },
   "source": [
    "### Plot ROC curves for individual one-vs-rest classifiers"
   ]
  },
  {
   "cell_type": "code",
   "execution_count": 14,
   "id": "a5539bdb",
   "metadata": {
    "execution": {
     "iopub.execute_input": "2022-12-09T06:42:38.979275Z",
     "iopub.status.busy": "2022-12-09T06:42:38.978809Z",
     "iopub.status.idle": "2022-12-09T06:42:39.445396Z",
     "shell.execute_reply": "2022-12-09T06:42:39.444519Z"
    },
    "papermill": {
     "duration": 0.475548,
     "end_time": "2022-12-09T06:42:39.447264",
     "exception": false,
     "start_time": "2022-12-09T06:42:38.971716",
     "status": "completed"
    },
    "tags": []
   },
   "outputs": [],
   "source": [
    "from sklearn import metrics"
   ]
  },
  {
   "cell_type": "code",
   "execution_count": 15,
   "id": "22539c35",
   "metadata": {
    "execution": {
     "iopub.execute_input": "2022-12-09T06:42:39.459913Z",
     "iopub.status.busy": "2022-12-09T06:42:39.459546Z",
     "iopub.status.idle": "2022-12-09T06:42:40.624175Z",
     "shell.execute_reply": "2022-12-09T06:42:40.622943Z"
    },
    "papermill": {
     "duration": 1.173209,
     "end_time": "2022-12-09T06:42:40.626227",
     "exception": false,
     "start_time": "2022-12-09T06:42:39.453018",
     "status": "completed"
    },
    "tags": []
   },
   "outputs": [
    {
     "data": {
      "image/png": "[encoded data removed]",
      "text/plain": [
       "<Figure size 1600x800 with 10 Axes>"
      ]
     },
     "metadata": {},
     "output_type": "display_data"
    }
   ],
   "source": [
    "def plot_roc_curves(y, y_pred_probs):\n",
    "    # based on example code\n",
    "    # https://scikit-learn.org/stable/auto_examples/model_selection/plot_roc.html\n",
    "\n",
    "    fig, axs = plt.subplots(nrows=2, ncols=5, figsize=(16, 8))\n",
    "\n",
    "    roc_auc_dict = {}\n",
    "\n",
    "    for (r, c), digit, ax in zip(\n",
    "        it.product(range(2), range(5)), range(10), axs.reshape(-1)\n",
    "    ):\n",
    "        fpr, tpr, _ = metrics.roc_curve(y == digit, y_pred_probs[:, digit])\n",
    "        auc = metrics.auc(fpr, tpr)\n",
    "        roc_auc_dict[str(digit)] = auc\n",
    "\n",
    "        ax.plot(fpr, tpr, label=f\"ROC AUC={round(auc, 3)}\")\n",
    "\n",
    "        ax.set_title(f\"\\nDigit {digit}\", fontsize=16)\n",
    "        if r == 1:\n",
    "            ax.set_xlabel(\"FPR\", fontsize=18)\n",
    "\n",
    "        if c == 0:\n",
    "            ax.set_ylabel(\"TPR\", fontsize=18)\n",
    "\n",
    "        ax.set_xlim([-0.05, 1.05])\n",
    "        ax.set_ylim([-0.05, 1.05])\n",
    "        ax.legend(loc=\"lower right\", frameon=False, fontsize=14)\n",
    "\n",
    "    fig.tight_layout()\n",
    "    fig.suptitle(\n",
    "        f\"ROC plots for one-vs-rest performances \"\n",
    "        f\"(on evaluation data, n={y_pred_probs_test.shape[1]}\",\n",
    "        fontsize=22,\n",
    "    )\n",
    "    fig.tight_layout()\n",
    "    fig.show()\n",
    "\n",
    "    return roc_auc_dict, fig\n",
    "\n",
    "\n",
    "roc_auc_dict, fig = plot_roc_curves(y_test, y_pred_probs_test)"
   ]
  },
  {
   "cell_type": "code",
   "execution_count": 16,
   "id": "34c429cd",
   "metadata": {
    "execution": {
     "iopub.execute_input": "2022-12-09T06:42:40.641905Z",
     "iopub.status.busy": "2022-12-09T06:42:40.641493Z",
     "iopub.status.idle": "2022-12-09T06:42:40.906105Z",
     "shell.execute_reply": "2022-12-09T06:42:40.905227Z"
    },
    "papermill": {
     "duration": 0.275709,
     "end_time": "2022-12-09T06:42:40.908777",
     "exception": false,
     "start_time": "2022-12-09T06:42:40.633068",
     "status": "completed"
    },
    "tags": []
   },
   "outputs": [],
   "source": [
    "logger.log_figure(\"per-digit-roc-curves.png\", fig)"
   ]
  },
  {
   "cell_type": "code",
   "execution_count": 17,
   "id": "51352448",
   "metadata": {
    "execution": {
     "iopub.execute_input": "2022-12-09T06:42:40.924389Z",
     "iopub.status.busy": "2022-12-09T06:42:40.923998Z",
     "iopub.status.idle": "2022-12-09T06:42:40.929345Z",
     "shell.execute_reply": "2022-12-09T06:42:40.928700Z"
    },
    "papermill": {
     "duration": 0.01599,
     "end_time": "2022-12-09T06:42:40.932055",
     "exception": false,
     "start_time": "2022-12-09T06:42:40.916065",
     "status": "completed"
    },
    "tags": []
   },
   "outputs": [
    {
     "data": {
      "text/plain": [
       "{'0': 1.0,\n",
       " '1': 0.9986879100281162,\n",
       " '2': 1.0,\n",
       " '3': 0.9998125585754452,\n",
       " '4': 0.9995046486816034,\n",
       " '5': 0.998950328022493,\n",
       " '6': 0.999923792104862,\n",
       " '7': 0.9998856881572931,\n",
       " '8': 0.9930249054224465,\n",
       " '9': 0.9993903368388966}"
      ]
     },
     "execution_count": 17,
     "metadata": {},
     "output_type": "execute_result"
    }
   ],
   "source": [
    "roc_auc_dict"
   ]
  },
  {
   "cell_type": "code",
   "execution_count": 18,
   "id": "1bb6aebb",
   "metadata": {
    "execution": {
     "iopub.execute_input": "2022-12-09T06:42:40.947413Z",
     "iopub.status.busy": "2022-12-09T06:42:40.946710Z",
     "iopub.status.idle": "2022-12-09T06:42:40.953106Z",
     "shell.execute_reply": "2022-12-09T06:42:40.952469Z"
    },
    "papermill": {
     "duration": 0.017995,
     "end_time": "2022-12-09T06:42:40.956999",
     "exception": false,
     "start_time": "2022-12-09T06:42:40.939004",
     "status": "completed"
    },
    "tags": []
   },
   "outputs": [
    {
     "name": "stdout",
     "output_type": "stream",
     "text": [
      " - Logging roc_auc_per_digit (json) : {'0': 1.0, '1': 0.9986879100281162, '2': 1.0, '3': 0.9998125585754452, '4': 0.9995046486816034, '5': 0.998950328022493, '6': 0.999923792104862, '7': 0.9998856881572931, '8': 0.9930249054224465, '9': 0.9993903368388966}\n"
     ]
    }
   ],
   "source": [
    "logger.log_value(\"roc_auc_per_digit\", roc_auc_dict)"
   ]
  },
  {
   "cell_type": "markdown",
   "id": "b98c3129",
   "metadata": {
    "papermill": {
     "duration": 0.007325,
     "end_time": "2022-12-09T06:42:40.974823",
     "exception": false,
     "start_time": "2022-12-09T06:42:40.967498",
     "status": "completed"
    },
    "tags": []
   },
   "source": [
    "### Compute and log mean ROC AUC score averaged over all digits"
   ]
  },
  {
   "cell_type": "code",
   "execution_count": 19,
   "id": "40406c2f",
   "metadata": {
    "execution": {
     "iopub.execute_input": "2022-12-09T06:42:40.990822Z",
     "iopub.status.busy": "2022-12-09T06:42:40.990000Z",
     "iopub.status.idle": "2022-12-09T06:42:41.002102Z",
     "shell.execute_reply": "2022-12-09T06:42:41.001460Z"
    },
    "papermill": {
     "duration": 0.022237,
     "end_time": "2022-12-09T06:42:41.004026",
     "exception": false,
     "start_time": "2022-12-09T06:42:40.981789",
     "status": "completed"
    },
    "tags": []
   },
   "outputs": [
    {
     "name": "stdout",
     "output_type": "stream",
     "text": [
      " - Logging roc_auc_class_mean (float) : 0.9989180167831154\n"
     ]
    }
   ],
   "source": [
    "roc_auc_macro = np.mean(list(roc_auc_dict.values()))\n",
    "\n",
    "logger.log_float(\"roc_auc_class_mean\", roc_auc_macro)\n",
    "\n",
    "# assert that the same value can be computed directly using sklearn\n",
    "assert roc_auc_macro == metrics.roc_auc_score(\n",
    "    y_test, y_pred_probs_test, average=\"macro\", multi_class=\"ovr\"\n",
    ")"
   ]
  },
  {
   "cell_type": "code",
   "execution_count": 20,
   "id": "9e1fb736",
   "metadata": {
    "execution": {
     "iopub.execute_input": "2022-12-09T06:42:41.018839Z",
     "iopub.status.busy": "2022-12-09T06:42:41.018599Z",
     "iopub.status.idle": "2022-12-09T06:42:41.021342Z",
     "shell.execute_reply": "2022-12-09T06:42:41.020800Z"
    },
    "lines_to_next_cell": 0,
    "papermill": {
     "duration": 0.012188,
     "end_time": "2022-12-09T06:42:41.022905",
     "exception": false,
     "start_time": "2022-12-09T06:42:41.010717",
     "status": "completed"
    },
    "tags": []
   },
   "outputs": [],
   "source": [
    "# ---"
   ]
  },
  {
   "cell_type": "code",
   "execution_count": null,
   "id": "c5021ed9",
   "metadata": {
    "papermill": {
     "duration": 0.006729,
     "end_time": "2022-12-09T06:42:41.036148",
     "exception": false,
     "start_time": "2022-12-09T06:42:41.029419",
     "status": "completed"
    },
    "tags": []
   },
   "outputs": [],
   "source": []
  }
 ],
 "metadata": {
  "jupytext": {
   "cell_metadata_filter": "tags,-all",
   "main_language": "python",
   "notebook_metadata_filter": "-all"
  },
  "language_info": {
   "codemirror_mode": {
    "name": "ipython",
    "version": 3
   },
   "file_extension": ".py",
   "mimetype": "text/x-python",
   "name": "python",
   "nbconvert_exporter": "python",
   "pygments_lexer": "ipython3",
   "version": "3.8.10"
  },
  "papermill": {
   "default_parameters": {},
   "duration": 9.797808,
   "end_time": "2022-12-09T06:42:42.265240",
   "environment_variables": {},
   "exception": null,
   "input_path": "/home/host_user/workspace/mnist-demo-pipeline/mnist-demo-pipeline/notebooks/temp-notebook-ok9m96ns.ipynb",
   "output_path": "notebooks/benchmark-model.ipynb",
   "parameters": {
    "P": {
     "_opentelemetry_traceparent": "00-695f3a50fa78f53d1d682803a025c1f1-30fe73cc881e5256-01",
     "pipeline.data_lake_root": "/pipeline-outputs/data-lake",
     "pipeline.github.actor": "matiasdahl",
     "pipeline.github.base_ref": "",
     "pipeline.github.event_name": "schedule",
     "pipeline.github.head_ref": "",
     "pipeline.github.job": "run-tests-pipeline-and-persist-pipeline-outputs",
     "pipeline.github.ref": "refs/heads/development",
     "pipeline.github.ref_name": "development",
     "pipeline.github.ref_type": "branch",
     "pipeline.github.repository": "matiasdahl/dev-mnist-digits-demo-pipeline",
     "pipeline.github.run_id": "3655095314",
     "pipeline.github.runner_name": "Hosted Agent",
     "pipeline.github.sha": "ace0d01011d5e914f1921450dd5a59c11367b38d",
     "pipeline.github.workflow": "Run automated tests, pipeline and deploy results to static reporting site",
     "pipeline.pipeline_run_id": "9b5970ac-7ec2-46f5-8360-fabc5ab0ee08",
     "pipeline.run_environment": "ci",
     "run.retry_nr": "0",
     "task.max_nr_retries": "1",
     "task.notebook": "notebooks/benchmark-model.py",
     "task.nr_train_images": 800,
     "task.num_cpus": 1,
     "task.timeout_s": "None"
    }
   },
   "start_time": "2022-12-09T06:42:32.467432",
   "version": "2.3.3"
  }
 },
 "nbformat": 4,
 "nbformat_minor": 5
}