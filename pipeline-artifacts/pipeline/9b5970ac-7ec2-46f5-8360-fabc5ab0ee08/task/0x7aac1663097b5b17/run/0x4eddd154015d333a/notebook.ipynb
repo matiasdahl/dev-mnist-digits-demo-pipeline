{
 "cells": [
  {
   "cell_type": "markdown",
   "id": "758cafb8",
   "metadata": {
    "papermill": {
     "duration": 0.003471,
     "end_time": "2022-12-09T06:41:58.390499",
     "exception": false,
     "start_time": "2022-12-09T06:41:58.387028",
     "status": "completed"
    },
    "tags": []
   },
   "source": [
    "# Ingest toy version of MNIST digit data from sklearn"
   ]
  },
  {
   "cell_type": "markdown",
   "id": "66dc8a7d",
   "metadata": {
    "papermill": {
     "duration": 0.002161,
     "end_time": "2022-12-09T06:41:58.397374",
     "exception": false,
     "start_time": "2022-12-09T06:41:58.395213",
     "status": "completed"
    },
    "tags": []
   },
   "source": [
    "### Determine run parameters"
   ]
  },
  {
   "cell_type": "code",
   "execution_count": 1,
   "id": "c6b62eed",
   "metadata": {
    "execution": {
     "iopub.execute_input": "2022-12-09T06:41:58.406051Z",
     "iopub.status.busy": "2022-12-09T06:41:58.405662Z",
     "iopub.status.idle": "2022-12-09T06:41:58.415139Z",
     "shell.execute_reply": "2022-12-09T06:41:58.413138Z"
    },
    "lines_to_next_cell": 0,
    "papermill": {
     "duration": 0.019199,
     "end_time": "2022-12-09T06:41:58.419156",
     "exception": false,
     "start_time": "2022-12-09T06:41:58.399957",
     "status": "completed"
    },
    "tags": []
   },
   "outputs": [],
   "source": [
    "# ----------------- Parameters for interactive development --------------\n",
    "P = {\n",
    "    \"pipeline.run_environment\": \"dev\",\n",
    "    \"pipeline.data_lake_root\": \"/pipeline-outputs/data-lake\",\n",
    "    \"run.retry_nr\": \"1\",\n",
    "}"
   ]
  },
  {
   "cell_type": "code",
   "execution_count": 2,
   "id": "03cd4c3b",
   "metadata": {
    "execution": {
     "iopub.execute_input": "2022-12-09T06:41:58.427560Z",
     "iopub.status.busy": "2022-12-09T06:41:58.427316Z",
     "iopub.status.idle": "2022-12-09T06:41:58.430388Z",
     "shell.execute_reply": "2022-12-09T06:41:58.429784Z"
    },
    "lines_to_next_cell": 0,
    "papermill": {
     "duration": 0.01237,
     "end_time": "2022-12-09T06:41:58.434478",
     "exception": false,
     "start_time": "2022-12-09T06:41:58.422108",
     "status": "completed"
    },
    "tags": [
     "parameters"
    ]
   },
   "outputs": [],
   "source": [
    "# - During automated runs parameters will be injected in the below cell -"
   ]
  },
  {
   "cell_type": "code",
   "execution_count": 3,
   "id": "b3448bb0",
   "metadata": {
    "execution": {
     "iopub.execute_input": "2022-12-09T06:41:58.440792Z",
     "iopub.status.busy": "2022-12-09T06:41:58.440554Z",
     "iopub.status.idle": "2022-12-09T06:41:58.446648Z",
     "shell.execute_reply": "2022-12-09T06:41:58.446100Z"
    },
    "papermill": {
     "duration": 0.012219,
     "end_time": "2022-12-09T06:41:58.449234",
     "exception": false,
     "start_time": "2022-12-09T06:41:58.437015",
     "status": "completed"
    },
    "tags": [
     "injected-parameters"
    ]
   },
   "outputs": [],
   "source": [
    "# Parameters\n",
    "P = {\n",
    "    \"pipeline.data_lake_root\": \"/pipeline-outputs/data-lake\",\n",
    "    \"pipeline.run_environment\": \"ci\",\n",
    "    \"pipeline.pipeline_run_id\": \"9b5970ac-7ec2-46f5-8360-fabc5ab0ee08\",\n",
    "    \"pipeline.github.repository\": \"matiasdahl/dev-mnist-digits-demo-pipeline\",\n",
    "    \"pipeline.github.workflow\": \"Run automated tests, pipeline and deploy results to static reporting site\",\n",
    "    \"pipeline.github.runner_name\": \"Hosted Agent\",\n",
    "    \"pipeline.github.run_id\": \"3655095314\",\n",
    "    \"pipeline.github.actor\": \"matiasdahl\",\n",
    "    \"pipeline.github.job\": \"run-tests-pipeline-and-persist-pipeline-outputs\",\n",
    "    \"pipeline.github.base_ref\": \"\",\n",
    "    \"pipeline.github.head_ref\": \"\",\n",
    "    \"pipeline.github.sha\": \"ace0d01011d5e914f1921450dd5a59c11367b38d\",\n",
    "    \"pipeline.github.ref\": \"refs/heads/development\",\n",
    "    \"pipeline.github.ref_type\": \"branch\",\n",
    "    \"pipeline.github.ref_name\": \"development\",\n",
    "    \"pipeline.github.event_name\": \"schedule\",\n",
    "    \"task.notebook\": \"notebooks/ingest.py\",\n",
    "    \"task.max_nr_retries\": \"15\",\n",
    "    \"run.retry_nr\": \"10\",\n",
    "    \"task.timeout_s\": \"10\",\n",
    "    \"task.num_cpus\": 1,\n",
    "    \"_opentelemetry_traceparent\": \"00-695f3a50fa78f53d1d682803a025c1f1-da26d3d5fb004850-01\",\n",
    "}\n"
   ]
  },
  {
   "cell_type": "code",
   "execution_count": 4,
   "id": "1668b9ee",
   "metadata": {
    "execution": {
     "iopub.execute_input": "2022-12-09T06:41:58.457426Z",
     "iopub.status.busy": "2022-12-09T06:41:58.457168Z",
     "iopub.status.idle": "2022-12-09T06:41:58.460449Z",
     "shell.execute_reply": "2022-12-09T06:41:58.459715Z"
    },
    "lines_to_next_cell": 0,
    "papermill": {
     "duration": 0.012179,
     "end_time": "2022-12-09T06:41:58.464958",
     "exception": false,
     "start_time": "2022-12-09T06:41:58.452779",
     "status": "completed"
    },
    "tags": []
   },
   "outputs": [],
   "source": [
    "# -----------------------------------------------------------------------"
   ]
  },
  {
   "cell_type": "markdown",
   "id": "bea77986",
   "metadata": {
    "lines_to_next_cell": 2,
    "papermill": {
     "duration": 0.002164,
     "end_time": "2022-12-09T06:41:58.469646",
     "exception": false,
     "start_time": "2022-12-09T06:41:58.467482",
     "status": "completed"
    },
    "tags": []
   },
   "source": [
    "---"
   ]
  },
  {
   "cell_type": "markdown",
   "id": "d82fed19",
   "metadata": {
    "papermill": {
     "duration": 0.003204,
     "end_time": "2022-12-09T06:41:58.475090",
     "exception": false,
     "start_time": "2022-12-09T06:41:58.471886",
     "status": "completed"
    },
    "tags": []
   },
   "source": [
    "### Simulate different types of failures (for testing timeout and retry logic)"
   ]
  },
  {
   "cell_type": "code",
   "execution_count": 5,
   "id": "1c741624",
   "metadata": {
    "execution": {
     "iopub.execute_input": "2022-12-09T06:41:58.489076Z",
     "iopub.status.busy": "2022-12-09T06:41:58.488799Z",
     "iopub.status.idle": "2022-12-09T06:41:59.051971Z",
     "shell.execute_reply": "2022-12-09T06:41:59.051268Z"
    },
    "papermill": {
     "duration": 0.57707,
     "end_time": "2022-12-09T06:41:59.055002",
     "exception": false,
     "start_time": "2022-12-09T06:41:58.477932",
     "status": "completed"
    },
    "tags": []
   },
   "outputs": [
    {
     "name": "stderr",
     "output_type": "stream",
     "text": [
      "2022-12-09 06:41:58,850\tINFO worker.py:842 -- Connecting to existing Ray cluster at address: 172.17.0.2:6379\n"
     ]
    }
   ],
   "source": [
    "from pynb_dag_runner.tasks.task_opentelemetry_logging import PydarLogger\n",
    "\n",
    "logger = PydarLogger(P)"
   ]
  },
  {
   "cell_type": "code",
   "execution_count": 6,
   "id": "bf9b713e",
   "metadata": {
    "execution": {
     "iopub.execute_input": "2022-12-09T06:41:59.062277Z",
     "iopub.status.busy": "2022-12-09T06:41:59.061669Z",
     "iopub.status.idle": "2022-12-09T06:41:59.067287Z",
     "shell.execute_reply": "2022-12-09T06:41:59.066593Z"
    },
    "papermill": {
     "duration": 0.011259,
     "end_time": "2022-12-09T06:41:59.069356",
     "exception": false,
     "start_time": "2022-12-09T06:41:59.058097",
     "status": "completed"
    },
    "tags": []
   },
   "outputs": [],
   "source": [
    "import time, random\n",
    "\n",
    "\n",
    "def maybe_crash(retry_nr: int, run_environment: str):\n",
    "    if retry_nr == 2 and run_environment == \"ci\":\n",
    "        time.sleep(1e6)\n",
    "\n",
    "    max_retry_nr: int = 3 if run_environment == \"dev\" else 10\n",
    "\n",
    "    if retry_nr < max_retry_nr:\n",
    "        if random.random() < 0.1:\n",
    "            time.sleep(1e6)\n",
    "        else:\n",
    "            raise Exception(\"Simulated exception failure from ingestion step notebook!\")\n",
    "\n",
    "\n",
    "maybe_crash(\n",
    "    retry_nr=int(P[\"run.retry_nr\"]), run_environment=P[\"pipeline.run_environment\"]\n",
    ")"
   ]
  },
  {
   "cell_type": "markdown",
   "id": "62057425",
   "metadata": {
    "lines_to_next_cell": 2,
    "papermill": {
     "duration": 0.003485,
     "end_time": "2022-12-09T06:41:59.075365",
     "exception": false,
     "start_time": "2022-12-09T06:41:59.071880",
     "status": "completed"
    },
    "tags": []
   },
   "source": [
    "### Notebook code"
   ]
  },
  {
   "cell_type": "code",
   "execution_count": 7,
   "id": "6e4fa83b",
   "metadata": {
    "execution": {
     "iopub.execute_input": "2022-12-09T06:41:59.083137Z",
     "iopub.status.busy": "2022-12-09T06:41:59.082747Z",
     "iopub.status.idle": "2022-12-09T06:42:00.470248Z",
     "shell.execute_reply": "2022-12-09T06:42:00.469428Z"
    },
    "papermill": {
     "duration": 1.393721,
     "end_time": "2022-12-09T06:42:00.472468",
     "exception": false,
     "start_time": "2022-12-09T06:41:59.078747",
     "status": "completed"
    },
    "tags": []
   },
   "outputs": [
    {
     "name": "stderr",
     "output_type": "stream",
     "text": [
      "2022-12-09 06:41:59,250\tWARNING worker.py:1245 -- (ip=172.17.0.2) The agent on node dfa0e1abcbfd failed to be restarted 5 times. There are 3 possible problems if you see this error.\n",
      "  1. The dashboard might not display correct information on this node.\n",
      "  2. Metrics on this node won't be reported.\n",
      "  3. runtime_env APIs won't work.\n",
      "Check out the `dashboard_agent.log` to see the detailed failure messages.\n"
     ]
    }
   ],
   "source": [
    "from sklearn import datasets\n",
    "\n",
    "#\n",
    "from common.io import datalake_root, write_numpy"
   ]
  },
  {
   "cell_type": "code",
   "execution_count": 8,
   "id": "5b38f90e",
   "metadata": {
    "execution": {
     "iopub.execute_input": "2022-12-09T06:42:00.480398Z",
     "iopub.status.busy": "2022-12-09T06:42:00.479721Z",
     "iopub.status.idle": "2022-12-09T06:42:00.494632Z",
     "shell.execute_reply": "2022-12-09T06:42:00.493922Z"
    },
    "lines_to_next_cell": 2,
    "papermill": {
     "duration": 0.02081,
     "end_time": "2022-12-09T06:42:00.496183",
     "exception": false,
     "start_time": "2022-12-09T06:42:00.475373",
     "status": "completed"
    },
    "tags": []
   },
   "outputs": [],
   "source": [
    "digits = datasets.load_digits()\n",
    "\n",
    "X = digits[\"data\"]\n",
    "y = digits[\"target\"]"
   ]
  },
  {
   "cell_type": "code",
   "execution_count": 9,
   "id": "14f63ebb",
   "metadata": {
    "execution": {
     "iopub.execute_input": "2022-12-09T06:42:00.503344Z",
     "iopub.status.busy": "2022-12-09T06:42:00.502995Z",
     "iopub.status.idle": "2022-12-09T06:42:00.513950Z",
     "shell.execute_reply": "2022-12-09T06:42:00.513186Z"
    },
    "papermill": {
     "duration": 0.017265,
     "end_time": "2022-12-09T06:42:00.516679",
     "exception": false,
     "start_time": "2022-12-09T06:42:00.499414",
     "status": "completed"
    },
    "tags": []
   },
   "outputs": [
    {
     "name": "stdout",
     "output_type": "stream",
     "text": [
      " - Logging data_shape (json) : [1797, 64]\n",
      " - Logging target_shape (json) : [1797]\n"
     ]
    },
    {
     "data": {
      "text/plain": [
       "((1797, 64), (1797,))"
      ]
     },
     "execution_count": 9,
     "metadata": {},
     "output_type": "execute_result"
    }
   ],
   "source": [
    "logger.log_value(\"data_shape\", list(X.shape))\n",
    "logger.log_value(\"target_shape\", list(y.shape))\n",
    "\n",
    "X.shape, y.shape"
   ]
  },
  {
   "cell_type": "code",
   "execution_count": 10,
   "id": "a4bccc15",
   "metadata": {
    "execution": {
     "iopub.execute_input": "2022-12-09T06:42:00.524367Z",
     "iopub.status.busy": "2022-12-09T06:42:00.524094Z",
     "iopub.status.idle": "2022-12-09T06:42:00.536088Z",
     "shell.execute_reply": "2022-12-09T06:42:00.535459Z"
    },
    "papermill": {
     "duration": 0.018214,
     "end_time": "2022-12-09T06:42:00.538359",
     "exception": false,
     "start_time": "2022-12-09T06:42:00.520145",
     "status": "completed"
    },
    "tags": []
   },
   "outputs": [],
   "source": [
    "write_numpy(datalake_root(P) / \"raw\" / \"digits.numpy\", X)\n",
    "write_numpy(datalake_root(P) / \"raw\" / \"labels.numpy\", y)"
   ]
  },
  {
   "cell_type": "code",
   "execution_count": null,
   "id": "574c5709",
   "metadata": {
    "papermill": {
     "duration": 0.002844,
     "end_time": "2022-12-09T06:42:00.544918",
     "exception": false,
     "start_time": "2022-12-09T06:42:00.542074",
     "status": "completed"
    },
    "tags": []
   },
   "outputs": [],
   "source": []
  }
 ],
 "metadata": {
  "jupytext": {
   "cell_metadata_filter": "tags,-all",
   "main_language": "python",
   "notebook_metadata_filter": "-all"
  },
  "language_info": {
   "codemirror_mode": {
    "name": "ipython",
    "version": 3
   },
   "file_extension": ".py",
   "mimetype": "text/x-python",
   "name": "python",
   "nbconvert_exporter": "python",
   "pygments_lexer": "ipython3",
   "version": "3.8.10"
  },
  "papermill": {
   "default_parameters": {},
   "duration": 4.276008,
   "end_time": "2022-12-09T06:42:01.571616",
   "environment_variables": {},
   "exception": null,
   "input_path": "/home/host_user/workspace/mnist-demo-pipeline/mnist-demo-pipeline/notebooks/temp-notebook-kqtd6aha.ipynb",
   "output_path": "notebooks/ingest.ipynb",
   "parameters": {
    "P": {
     "_opentelemetry_traceparent": "00-695f3a50fa78f53d1d682803a025c1f1-da26d3d5fb004850-01",
     "pipeline.data_lake_root": "/pipeline-outputs/data-lake",
     "pipeline.github.actor": "matiasdahl",
     "pipeline.github.base_ref": "",
     "pipeline.github.event_name": "schedule",
     "pipeline.github.head_ref": "",
     "pipeline.github.job": "run-tests-pipeline-and-persist-pipeline-outputs",
     "pipeline.github.ref": "refs/heads/development",
     "pipeline.github.ref_name": "development",
     "pipeline.github.ref_type": "branch",
     "pipeline.github.repository": "matiasdahl/dev-mnist-digits-demo-pipeline",
     "pipeline.github.run_id": "3655095314",
     "pipeline.github.runner_name": "Hosted Agent",
     "pipeline.github.sha": "ace0d01011d5e914f1921450dd5a59c11367b38d",
     "pipeline.github.workflow": "Run automated tests, pipeline and deploy results to static reporting site",
     "pipeline.pipeline_run_id": "9b5970ac-7ec2-46f5-8360-fabc5ab0ee08",
     "pipeline.run_environment": "ci",
     "run.retry_nr": "10",
     "task.max_nr_retries": "15",
     "task.notebook": "notebooks/ingest.py",
     "task.num_cpus": 1,
     "task.timeout_s": "10"
    }
   },
   "start_time": "2022-12-09T06:41:57.295608",
   "version": "2.3.3"
  }
 },
 "nbformat": 4,
 "nbformat_minor": 5
}