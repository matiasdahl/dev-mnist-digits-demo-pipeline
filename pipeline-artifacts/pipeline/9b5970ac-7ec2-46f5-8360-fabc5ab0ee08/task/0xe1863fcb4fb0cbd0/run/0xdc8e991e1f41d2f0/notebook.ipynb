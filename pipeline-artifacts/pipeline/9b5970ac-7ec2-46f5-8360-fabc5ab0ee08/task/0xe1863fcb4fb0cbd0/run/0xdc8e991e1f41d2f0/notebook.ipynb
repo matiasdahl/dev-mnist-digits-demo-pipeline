{
 "cells": [
  {
   "cell_type": "markdown",
   "id": "499d224b",
   "metadata": {
    "papermill": {
     "duration": 0.012367,
     "end_time": "2022-12-09T06:42:27.387384",
     "exception": false,
     "start_time": "2022-12-09T06:42:27.375017",
     "status": "completed"
    },
    "tags": []
   },
   "source": [
    "# Benchmark model\n",
    "\n",
    "The purpose of this notebook is to benchmark persisted onnx-model (trained in the\n",
    "previous step) against evaluation set."
   ]
  },
  {
   "cell_type": "markdown",
   "id": "80961b25",
   "metadata": {
    "papermill": {
     "duration": 0.006598,
     "end_time": "2022-12-09T06:42:27.399144",
     "exception": false,
     "start_time": "2022-12-09T06:42:27.392546",
     "status": "completed"
    },
    "tags": []
   },
   "source": [
    "### Determine run parameters"
   ]
  },
  {
   "cell_type": "code",
   "execution_count": 1,
   "id": "7e16edda",
   "metadata": {
    "execution": {
     "iopub.execute_input": "2022-12-09T06:42:27.409677Z",
     "iopub.status.busy": "2022-12-09T06:42:27.408822Z",
     "iopub.status.idle": "2022-12-09T06:42:27.416941Z",
     "shell.execute_reply": "2022-12-09T06:42:27.416393Z"
    },
    "lines_to_next_cell": 0,
    "papermill": {
     "duration": 0.017163,
     "end_time": "2022-12-09T06:42:27.420194",
     "exception": false,
     "start_time": "2022-12-09T06:42:27.403031",
     "status": "completed"
    },
    "tags": []
   },
   "outputs": [],
   "source": [
    "# ----------------- Parameters for interactive development --------------\n",
    "P = {\n",
    "    \"pipeline.data_lake_root\": \"/pipeline-outputs/data-lake\",\n",
    "    \"task.nr_train_images\": 600,\n",
    "}"
   ]
  },
  {
   "cell_type": "code",
   "execution_count": 2,
   "id": "2eb7985a",
   "metadata": {
    "execution": {
     "iopub.execute_input": "2022-12-09T06:42:27.429213Z",
     "iopub.status.busy": "2022-12-09T06:42:27.428997Z",
     "iopub.status.idle": "2022-12-09T06:42:27.432123Z",
     "shell.execute_reply": "2022-12-09T06:42:27.431631Z"
    },
    "lines_to_next_cell": 0,
    "papermill": {
     "duration": 0.011074,
     "end_time": "2022-12-09T06:42:27.435301",
     "exception": false,
     "start_time": "2022-12-09T06:42:27.424227",
     "status": "completed"
    },
    "tags": [
     "parameters"
    ]
   },
   "outputs": [],
   "source": [
    "# - During automated runs parameters will be injected in the below cell -"
   ]
  },
  {
   "cell_type": "code",
   "execution_count": 3,
   "id": "3d08dc53",
   "metadata": {
    "execution": {
     "iopub.execute_input": "2022-12-09T06:42:27.444322Z",
     "iopub.status.busy": "2022-12-09T06:42:27.444111Z",
     "iopub.status.idle": "2022-12-09T06:42:27.448675Z",
     "shell.execute_reply": "2022-12-09T06:42:27.448179Z"
    },
    "papermill": {
     "duration": 0.012398,
     "end_time": "2022-12-09T06:42:27.451459",
     "exception": false,
     "start_time": "2022-12-09T06:42:27.439061",
     "status": "completed"
    },
    "tags": [
     "injected-parameters"
    ]
   },
   "outputs": [],
   "source": [
    "# Parameters\n",
    "P = {\n",
    "    \"pipeline.data_lake_root\": \"/pipeline-outputs/data-lake\",\n",
    "    \"pipeline.run_environment\": \"ci\",\n",
    "    \"pipeline.pipeline_run_id\": \"9b5970ac-7ec2-46f5-8360-fabc5ab0ee08\",\n",
    "    \"pipeline.github.repository\": \"matiasdahl/dev-mnist-digits-demo-pipeline\",\n",
    "    \"pipeline.github.workflow\": \"Run automated tests, pipeline and deploy results to static reporting site\",\n",
    "    \"pipeline.github.runner_name\": \"Hosted Agent\",\n",
    "    \"pipeline.github.run_id\": \"3655095314\",\n",
    "    \"pipeline.github.actor\": \"matiasdahl\",\n",
    "    \"pipeline.github.job\": \"run-tests-pipeline-and-persist-pipeline-outputs\",\n",
    "    \"pipeline.github.base_ref\": \"\",\n",
    "    \"pipeline.github.head_ref\": \"\",\n",
    "    \"pipeline.github.sha\": \"ace0d01011d5e914f1921450dd5a59c11367b38d\",\n",
    "    \"pipeline.github.ref\": \"refs/heads/development\",\n",
    "    \"pipeline.github.ref_type\": \"branch\",\n",
    "    \"pipeline.github.ref_name\": \"development\",\n",
    "    \"pipeline.github.event_name\": \"schedule\",\n",
    "    \"task.nr_train_images\": 600,\n",
    "    \"task.notebook\": \"notebooks/benchmark-model.py\",\n",
    "    \"task.max_nr_retries\": \"1\",\n",
    "    \"run.retry_nr\": \"0\",\n",
    "    \"task.timeout_s\": \"None\",\n",
    "    \"task.num_cpus\": 1,\n",
    "    \"_opentelemetry_traceparent\": \"00-695f3a50fa78f53d1d682803a025c1f1-41fe57c77d242aae-01\",\n",
    "}\n"
   ]
  },
  {
   "cell_type": "code",
   "execution_count": 4,
   "id": "1fc6b6e0",
   "metadata": {
    "execution": {
     "iopub.execute_input": "2022-12-09T06:42:27.460682Z",
     "iopub.status.busy": "2022-12-09T06:42:27.460445Z",
     "iopub.status.idle": "2022-12-09T06:42:27.463890Z",
     "shell.execute_reply": "2022-12-09T06:42:27.463367Z"
    },
    "lines_to_next_cell": 0,
    "papermill": {
     "duration": 0.011288,
     "end_time": "2022-12-09T06:42:27.466873",
     "exception": false,
     "start_time": "2022-12-09T06:42:27.455585",
     "status": "completed"
    },
    "tags": []
   },
   "outputs": [],
   "source": [
    "# -----------------------------------------------------------------------"
   ]
  },
  {
   "cell_type": "markdown",
   "id": "b4b88100",
   "metadata": {
    "papermill": {
     "duration": 0.004756,
     "end_time": "2022-12-09T06:42:27.475800",
     "exception": false,
     "start_time": "2022-12-09T06:42:27.471044",
     "status": "completed"
    },
    "tags": []
   },
   "source": [
    "---"
   ]
  },
  {
   "cell_type": "markdown",
   "id": "b7d94689",
   "metadata": {
    "lines_to_next_cell": 2,
    "papermill": {
     "duration": 0.004783,
     "end_time": "2022-12-09T06:42:27.484619",
     "exception": false,
     "start_time": "2022-12-09T06:42:27.479836",
     "status": "completed"
    },
    "tags": []
   },
   "source": [
    "### Notebook code"
   ]
  },
  {
   "cell_type": "code",
   "execution_count": 5,
   "id": "5f299e80",
   "metadata": {
    "execution": {
     "iopub.execute_input": "2022-12-09T06:42:27.501355Z",
     "iopub.status.busy": "2022-12-09T06:42:27.501049Z",
     "iopub.status.idle": "2022-12-09T06:42:29.203788Z",
     "shell.execute_reply": "2022-12-09T06:42:29.202563Z"
    },
    "papermill": {
     "duration": 1.711014,
     "end_time": "2022-12-09T06:42:29.205699",
     "exception": false,
     "start_time": "2022-12-09T06:42:27.494685",
     "status": "completed"
    },
    "tags": []
   },
   "outputs": [
    {
     "name": "stderr",
     "output_type": "stream",
     "text": [
      "2022-12-09 06:42:28,964\tINFO worker.py:842 -- Connecting to existing Ray cluster at address: 172.17.0.2:6379\n"
     ]
    }
   ],
   "source": [
    "import itertools as it\n",
    "\n",
    "#\n",
    "import numpy as np\n",
    "import matplotlib.pyplot as plt\n",
    "\n",
    "#\n",
    "from pynb_dag_runner.tasks.task_opentelemetry_logging import PydarLogger\n",
    "\n",
    "#\n",
    "from common.io import datalake_root\n",
    "\n",
    "logger = PydarLogger(P)"
   ]
  },
  {
   "cell_type": "markdown",
   "id": "85d6aec6",
   "metadata": {
    "papermill": {
     "duration": 0.00461,
     "end_time": "2022-12-09T06:42:29.215116",
     "exception": false,
     "start_time": "2022-12-09T06:42:29.210506",
     "status": "completed"
    },
    "tags": []
   },
   "source": [
    "## Load persisted onnx-model and evaluation data"
   ]
  },
  {
   "cell_type": "code",
   "execution_count": 6,
   "id": "428daf5a",
   "metadata": {
    "execution": {
     "iopub.execute_input": "2022-12-09T06:42:29.225294Z",
     "iopub.status.busy": "2022-12-09T06:42:29.224945Z",
     "iopub.status.idle": "2022-12-09T06:42:29.228765Z",
     "shell.execute_reply": "2022-12-09T06:42:29.228116Z"
    },
    "papermill": {
     "duration": 0.011696,
     "end_time": "2022-12-09T06:42:29.230965",
     "exception": false,
     "start_time": "2022-12-09T06:42:29.219269",
     "status": "completed"
    },
    "tags": []
   },
   "outputs": [],
   "source": [
    "from common.io import read_onnx, get_onnx_inputs, get_onnx_outputs, read_numpy"
   ]
  },
  {
   "cell_type": "code",
   "execution_count": 7,
   "id": "fd35a9f9",
   "metadata": {
    "execution": {
     "iopub.execute_input": "2022-12-09T06:42:29.242756Z",
     "iopub.status.busy": "2022-12-09T06:42:29.242430Z",
     "iopub.status.idle": "2022-12-09T06:42:29.253260Z",
     "shell.execute_reply": "2022-12-09T06:42:29.252617Z"
    },
    "lines_to_next_cell": 0,
    "papermill": {
     "duration": 0.018056,
     "end_time": "2022-12-09T06:42:29.255247",
     "exception": false,
     "start_time": "2022-12-09T06:42:29.237191",
     "status": "completed"
    },
    "tags": []
   },
   "outputs": [],
   "source": [
    "onnx_inference_session = read_onnx(\n",
    "    datalake_root(P)\n",
    "    / \"models\"\n",
    "    / f\"nr_train_images={P['task.nr_train_images']}\"\n",
    "    / \"model.onnx\"\n",
    ")"
   ]
  },
  {
   "cell_type": "markdown",
   "id": "c07461f7",
   "metadata": {
    "papermill": {
     "duration": 0.004379,
     "end_time": "2022-12-09T06:42:29.263800",
     "exception": false,
     "start_time": "2022-12-09T06:42:29.259421",
     "status": "completed"
    },
    "tags": []
   },
   "source": [
    "### Record structure of inputs and outputs for ONNX model\n",
    "\n",
    "(this should likely be done in training notebook)"
   ]
  },
  {
   "cell_type": "code",
   "execution_count": 8,
   "id": "ad4350f1",
   "metadata": {
    "execution": {
     "iopub.execute_input": "2022-12-09T06:42:29.273726Z",
     "iopub.status.busy": "2022-12-09T06:42:29.273480Z",
     "iopub.status.idle": "2022-12-09T06:42:29.279827Z",
     "shell.execute_reply": "2022-12-09T06:42:29.279158Z"
    },
    "papermill": {
     "duration": 0.014079,
     "end_time": "2022-12-09T06:42:29.282256",
     "exception": false,
     "start_time": "2022-12-09T06:42:29.268177",
     "status": "completed"
    },
    "tags": []
   },
   "outputs": [
    {
     "name": "stdout",
     "output_type": "stream",
     "text": [
      "{\n",
      "  \"inputs\": [\n",
      "    {\n",
      "      \"name\": \"float_input_8x8_image\",\n",
      "      \"shape\": [\n",
      "        null,\n",
      "        64\n",
      "      ],\n",
      "      \"type\": \"tensor(float)\"\n",
      "    }\n",
      "  ],\n",
      "  \"outputs\": [\n",
      "    {\n",
      "      \"name\": \"output_label\",\n",
      "      \"shape\": [\n",
      "        null\n",
      "      ],\n",
      "      \"type\": \"tensor(int64)\"\n",
      "    },\n",
      "    {\n",
      "      \"name\": \"output_probability\",\n",
      "      \"shape\": [],\n",
      "      \"type\": \"seq(map(int64,tensor(float)))\"\n",
      "    }\n",
      "  ]\n",
      "}\n"
     ]
    }
   ],
   "source": [
    "import json\n",
    "\n",
    "onnx_io = json.dumps(\n",
    "    {\n",
    "        \"inputs\": get_onnx_inputs(onnx_inference_session),\n",
    "        \"outputs\": get_onnx_outputs(onnx_inference_session),\n",
    "    },\n",
    "    indent=2,\n",
    ")\n",
    "\n",
    "\n",
    "logger.log_artefact(\"onnx_io_structure.json\", onnx_io)\n",
    "print(onnx_io)"
   ]
  },
  {
   "cell_type": "markdown",
   "id": "5f2e586f",
   "metadata": {
    "papermill": {
     "duration": 0.005352,
     "end_time": "2022-12-09T06:42:29.293601",
     "exception": false,
     "start_time": "2022-12-09T06:42:29.288249",
     "status": "completed"
    },
    "tags": []
   },
   "source": [
    "### Evaluate model performance on evaluation data set"
   ]
  },
  {
   "cell_type": "code",
   "execution_count": 9,
   "id": "2a5cdfe6",
   "metadata": {
    "execution": {
     "iopub.execute_input": "2022-12-09T06:42:29.303781Z",
     "iopub.status.busy": "2022-12-09T06:42:29.303529Z",
     "iopub.status.idle": "2022-12-09T06:42:29.308144Z",
     "shell.execute_reply": "2022-12-09T06:42:29.307439Z"
    },
    "papermill": {
     "duration": 0.012245,
     "end_time": "2022-12-09T06:42:29.310383",
     "exception": false,
     "start_time": "2022-12-09T06:42:29.298138",
     "status": "completed"
    },
    "tags": []
   },
   "outputs": [],
   "source": [
    "# load evaluation data\n",
    "X_test = read_numpy(datalake_root(P) / \"test-data\" / \"digits.numpy\")\n",
    "y_test = read_numpy(datalake_root(P) / \"test-data\" / \"labels.numpy\")"
   ]
  },
  {
   "cell_type": "code",
   "execution_count": 10,
   "id": "1b04dbc9",
   "metadata": {
    "execution": {
     "iopub.execute_input": "2022-12-09T06:42:29.320534Z",
     "iopub.status.busy": "2022-12-09T06:42:29.320206Z",
     "iopub.status.idle": "2022-12-09T06:42:29.338747Z",
     "shell.execute_reply": "2022-12-09T06:42:29.337887Z"
    },
    "papermill": {
     "duration": 0.025881,
     "end_time": "2022-12-09T06:42:29.340749",
     "exception": false,
     "start_time": "2022-12-09T06:42:29.314868",
     "status": "completed"
    },
    "tags": []
   },
   "outputs": [],
   "source": [
    "def get_model_outputs(X, onnx_inference_session):\n",
    "    y_pred_labels, y_pred_map = onnx_inference_session.run(\n",
    "        [\"output_label\", \"output_probability\"],\n",
    "        {\"float_input_8x8_image\": X.astype(np.float32)},\n",
    "    )\n",
    "    y_pred_probs = np.array(\n",
    "        [[probabilities[digit] for digit in range(10)] for probabilities in y_pred_map]\n",
    "    )\n",
    "\n",
    "    assert y_pred_labels.shape == (X.shape[0],)\n",
    "    assert y_pred_probs.shape == (X.shape[0], 10)\n",
    "\n",
    "    return y_pred_labels, y_pred_probs\n",
    "\n",
    "\n",
    "# Note: as shown in the training notebook, the predicted labels and probabilities\n",
    "# computed below need not be compatible.\n",
    "y_pred_labels_test, y_pred_probs_test = get_model_outputs(\n",
    "    X_test, onnx_inference_session\n",
    ")"
   ]
  },
  {
   "cell_type": "markdown",
   "id": "013d275e",
   "metadata": {
    "papermill": {
     "duration": 0.004636,
     "end_time": "2022-12-09T06:42:29.350601",
     "exception": false,
     "start_time": "2022-12-09T06:42:29.345965",
     "status": "completed"
    },
    "tags": []
   },
   "source": [
    "### Confusion matrix"
   ]
  },
  {
   "cell_type": "code",
   "execution_count": 11,
   "id": "e4115e40",
   "metadata": {
    "execution": {
     "iopub.execute_input": "2022-12-09T06:42:29.360567Z",
     "iopub.status.busy": "2022-12-09T06:42:29.360245Z",
     "iopub.status.idle": "2022-12-09T06:42:29.363676Z",
     "shell.execute_reply": "2022-12-09T06:42:29.362927Z"
    },
    "papermill": {
     "duration": 0.010663,
     "end_time": "2022-12-09T06:42:29.365764",
     "exception": false,
     "start_time": "2022-12-09T06:42:29.355101",
     "status": "completed"
    },
    "tags": []
   },
   "outputs": [],
   "source": [
    "# TODO"
   ]
  },
  {
   "cell_type": "markdown",
   "id": "3b1d464e",
   "metadata": {
    "papermill": {
     "duration": 0.0047,
     "end_time": "2022-12-09T06:42:29.374934",
     "exception": false,
     "start_time": "2022-12-09T06:42:29.370234",
     "status": "completed"
    },
    "tags": []
   },
   "source": [
    "### Plot predicted probabilities for each classifier over all evaluation digit images"
   ]
  },
  {
   "cell_type": "code",
   "execution_count": 12,
   "id": "e1c089da",
   "metadata": {
    "execution": {
     "iopub.execute_input": "2022-12-09T06:42:29.385526Z",
     "iopub.status.busy": "2022-12-09T06:42:29.385084Z",
     "iopub.status.idle": "2022-12-09T06:42:32.407602Z",
     "shell.execute_reply": "2022-12-09T06:42:32.406848Z"
    },
    "papermill": {
     "duration": 3.029622,
     "end_time": "2022-12-09T06:42:32.409348",
     "exception": false,
     "start_time": "2022-12-09T06:42:29.379726",
     "status": "completed"
    },
    "tags": []
   },
   "outputs": [
    {
     "data": {
      "image/png": "[encoded data removed]",
      "text/plain": [
       "<Figure size 1600x600 with 10 Axes>"
      ]
     },
     "metadata": {},
     "output_type": "display_data"
    }
   ],
   "source": [
    "def plot_per_digit_probabilities(y_pred_probs):\n",
    "    fig, axs = plt.subplots(nrows=2, ncols=5, figsize=(16, 6))\n",
    "\n",
    "    for (r, c), digit, ax in zip(\n",
    "        it.product(range(2), range(5)), range(10), axs.reshape(-1)\n",
    "    ):\n",
    "        ax.hist(y_pred_probs_test[:, digit], bins=20)\n",
    "\n",
    "        ax.set_title(f\"Digit {digit}\")\n",
    "        if r == 1 and c == 2:\n",
    "            ax.set_xlabel(\"probability\", fontsize=16)\n",
    "\n",
    "        if c == 0:\n",
    "            ax.set_ylabel(\"counts\", fontsize=16)\n",
    "        ax.set_yscale(\"log\")\n",
    "\n",
    "    fig.tight_layout()\n",
    "    fig.suptitle(\n",
    "        f\"Distributions of prediction probabilities for each digit \"\n",
    "        f\"(on evaluation data, n={y_pred_probs.shape[0]})\",\n",
    "        fontsize=20,\n",
    "    )\n",
    "    fig.tight_layout()\n",
    "    fig.show()\n",
    "\n",
    "    return fig\n",
    "\n",
    "\n",
    "fig = plot_per_digit_probabilities(y_pred_probs_test)"
   ]
  },
  {
   "cell_type": "markdown",
   "id": "fc25d8ca",
   "metadata": {
    "papermill": {
     "duration": 0.005663,
     "end_time": "2022-12-09T06:42:32.421002",
     "exception": false,
     "start_time": "2022-12-09T06:42:32.415339",
     "status": "completed"
    },
    "tags": []
   },
   "source": [
    "From the above distributions we see that most digits have clear separation between\n",
    "high and lower probabilities. Morover, in each case there is roughly an order of\n",
    "magnitude more of digits with low probabilities. This is compatible with digits\n",
    "being roughly evenly distributed in the data."
   ]
  },
  {
   "cell_type": "code",
   "execution_count": 13,
   "id": "06cbcee0",
   "metadata": {
    "execution": {
     "iopub.execute_input": "2022-12-09T06:42:32.432638Z",
     "iopub.status.busy": "2022-12-09T06:42:32.432372Z",
     "iopub.status.idle": "2022-12-09T06:42:32.895109Z",
     "shell.execute_reply": "2022-12-09T06:42:32.894283Z"
    },
    "papermill": {
     "duration": 0.470801,
     "end_time": "2022-12-09T06:42:32.897309",
     "exception": false,
     "start_time": "2022-12-09T06:42:32.426508",
     "status": "completed"
    },
    "tags": []
   },
   "outputs": [],
   "source": [
    "logger.log_figure(\"per-digit-probabilities.png\", fig)"
   ]
  },
  {
   "cell_type": "markdown",
   "id": "4e1974bf",
   "metadata": {
    "papermill": {
     "duration": 0.005055,
     "end_time": "2022-12-09T06:42:32.907980",
     "exception": false,
     "start_time": "2022-12-09T06:42:32.902925",
     "status": "completed"
    },
    "tags": []
   },
   "source": [
    "### Plot ROC curves for individual one-vs-rest classifiers"
   ]
  },
  {
   "cell_type": "code",
   "execution_count": 14,
   "id": "fccf4493",
   "metadata": {
    "execution": {
     "iopub.execute_input": "2022-12-09T06:42:32.919573Z",
     "iopub.status.busy": "2022-12-09T06:42:32.919308Z",
     "iopub.status.idle": "2022-12-09T06:42:33.357872Z",
     "shell.execute_reply": "2022-12-09T06:42:33.356953Z"
    },
    "papermill": {
     "duration": 0.446934,
     "end_time": "2022-12-09T06:42:33.360131",
     "exception": false,
     "start_time": "2022-12-09T06:42:32.913197",
     "status": "completed"
    },
    "tags": []
   },
   "outputs": [],
   "source": [
    "from sklearn import metrics"
   ]
  },
  {
   "cell_type": "code",
   "execution_count": 15,
   "id": "879169ff",
   "metadata": {
    "execution": {
     "iopub.execute_input": "2022-12-09T06:42:33.372710Z",
     "iopub.status.busy": "2022-12-09T06:42:33.372423Z",
     "iopub.status.idle": "2022-12-09T06:42:34.439625Z",
     "shell.execute_reply": "2022-12-09T06:42:34.438611Z"
    },
    "papermill": {
     "duration": 1.07525,
     "end_time": "2022-12-09T06:42:34.441350",
     "exception": false,
     "start_time": "2022-12-09T06:42:33.366100",
     "status": "completed"
    },
    "tags": []
   },
   "outputs": [
    {
     "data": {
      "image/png": "[encoded data removed]",
      "text/plain": [
       "<Figure size 1600x800 with 10 Axes>"
      ]
     },
     "metadata": {},
     "output_type": "display_data"
    }
   ],
   "source": [
    "def plot_roc_curves(y, y_pred_probs):\n",
    "    # based on example code\n",
    "    # https://scikit-learn.org/stable/auto_examples/model_selection/plot_roc.html\n",
    "\n",
    "    fig, axs = plt.subplots(nrows=2, ncols=5, figsize=(16, 8))\n",
    "\n",
    "    roc_auc_dict = {}\n",
    "\n",
    "    for (r, c), digit, ax in zip(\n",
    "        it.product(range(2), range(5)), range(10), axs.reshape(-1)\n",
    "    ):\n",
    "        fpr, tpr, _ = metrics.roc_curve(y == digit, y_pred_probs[:, digit])\n",
    "        auc = metrics.auc(fpr, tpr)\n",
    "        roc_auc_dict[str(digit)] = auc\n",
    "\n",
    "        ax.plot(fpr, tpr, label=f\"ROC AUC={round(auc, 3)}\")\n",
    "\n",
    "        ax.set_title(f\"\\nDigit {digit}\", fontsize=16)\n",
    "        if r == 1:\n",
    "            ax.set_xlabel(\"FPR\", fontsize=18)\n",
    "\n",
    "        if c == 0:\n",
    "            ax.set_ylabel(\"TPR\", fontsize=18)\n",
    "\n",
    "        ax.set_xlim([-0.05, 1.05])\n",
    "        ax.set_ylim([-0.05, 1.05])\n",
    "        ax.legend(loc=\"lower right\", frameon=False, fontsize=14)\n",
    "\n",
    "    fig.tight_layout()\n",
    "    fig.suptitle(\n",
    "        f\"ROC plots for one-vs-rest performances \"\n",
    "        f\"(on evaluation data, n={y_pred_probs_test.shape[1]}\",\n",
    "        fontsize=22,\n",
    "    )\n",
    "    fig.tight_layout()\n",
    "    fig.show()\n",
    "\n",
    "    return roc_auc_dict, fig\n",
    "\n",
    "\n",
    "roc_auc_dict, fig = plot_roc_curves(y_test, y_pred_probs_test)"
   ]
  },
  {
   "cell_type": "code",
   "execution_count": 16,
   "id": "96d9485c",
   "metadata": {
    "execution": {
     "iopub.execute_input": "2022-12-09T06:42:34.456153Z",
     "iopub.status.busy": "2022-12-09T06:42:34.455892Z",
     "iopub.status.idle": "2022-12-09T06:42:34.744564Z",
     "shell.execute_reply": "2022-12-09T06:42:34.743596Z"
    },
    "papermill": {
     "duration": 0.298388,
     "end_time": "2022-12-09T06:42:34.746649",
     "exception": false,
     "start_time": "2022-12-09T06:42:34.448261",
     "status": "completed"
    },
    "tags": []
   },
   "outputs": [],
   "source": [
    "logger.log_figure(\"per-digit-roc-curves.png\", fig)"
   ]
  },
  {
   "cell_type": "code",
   "execution_count": 17,
   "id": "39e6e89d",
   "metadata": {
    "execution": {
     "iopub.execute_input": "2022-12-09T06:42:34.761713Z",
     "iopub.status.busy": "2022-12-09T06:42:34.761459Z",
     "iopub.status.idle": "2022-12-09T06:42:34.766507Z",
     "shell.execute_reply": "2022-12-09T06:42:34.765954Z"
    },
    "papermill": {
     "duration": 0.015662,
     "end_time": "2022-12-09T06:42:34.770029",
     "exception": false,
     "start_time": "2022-12-09T06:42:34.754367",
     "status": "completed"
    },
    "tags": []
   },
   "outputs": [
    {
     "data": {
      "text/plain": [
       "{'0': 1.0,\n",
       " '1': 0.9992877225866916,\n",
       " '2': 1.0,\n",
       " '3': 0.9998125585754452,\n",
       " '4': 0.9991236092059138,\n",
       " '5': 0.9988003748828491,\n",
       " '6': 0.999923792104862,\n",
       " '7': 0.9998475842097241,\n",
       " '8': 0.9945223833543506,\n",
       " '9': 0.998856881572931}"
      ]
     },
     "execution_count": 17,
     "metadata": {},
     "output_type": "execute_result"
    }
   ],
   "source": [
    "roc_auc_dict"
   ]
  },
  {
   "cell_type": "code",
   "execution_count": 18,
   "id": "5daf5274",
   "metadata": {
    "execution": {
     "iopub.execute_input": "2022-12-09T06:42:34.787941Z",
     "iopub.status.busy": "2022-12-09T06:42:34.787657Z",
     "iopub.status.idle": "2022-12-09T06:42:34.791951Z",
     "shell.execute_reply": "2022-12-09T06:42:34.791382Z"
    },
    "papermill": {
     "duration": 0.016694,
     "end_time": "2022-12-09T06:42:34.795876",
     "exception": false,
     "start_time": "2022-12-09T06:42:34.779182",
     "status": "completed"
    },
    "tags": []
   },
   "outputs": [
    {
     "name": "stdout",
     "output_type": "stream",
     "text": [
      " - Logging roc_auc_per_digit (json) : {'0': 1.0, '1': 0.9992877225866916, '2': 1.0, '3': 0.9998125585754452, '4': 0.9991236092059138, '5': 0.9988003748828491, '6': 0.999923792104862, '7': 0.9998475842097241, '8': 0.9945223833543506, '9': 0.998856881572931}\n"
     ]
    }
   ],
   "source": [
    "logger.log_value(\"roc_auc_per_digit\", roc_auc_dict)"
   ]
  },
  {
   "cell_type": "markdown",
   "id": "28b3f374",
   "metadata": {
    "papermill": {
     "duration": 0.006733,
     "end_time": "2022-12-09T06:42:34.809084",
     "exception": false,
     "start_time": "2022-12-09T06:42:34.802351",
     "status": "completed"
    },
    "tags": []
   },
   "source": [
    "### Compute and log mean ROC AUC score averaged over all digits"
   ]
  },
  {
   "cell_type": "code",
   "execution_count": 19,
   "id": "200756aa",
   "metadata": {
    "execution": {
     "iopub.execute_input": "2022-12-09T06:42:34.823776Z",
     "iopub.status.busy": "2022-12-09T06:42:34.823511Z",
     "iopub.status.idle": "2022-12-09T06:42:34.840648Z",
     "shell.execute_reply": "2022-12-09T06:42:34.840104Z"
    },
    "papermill": {
     "duration": 0.026241,
     "end_time": "2022-12-09T06:42:34.842646",
     "exception": false,
     "start_time": "2022-12-09T06:42:34.816405",
     "status": "completed"
    },
    "tags": []
   },
   "outputs": [
    {
     "name": "stdout",
     "output_type": "stream",
     "text": [
      " - Logging roc_auc_class_mean (float) : 0.9990174906492767\n"
     ]
    }
   ],
   "source": [
    "roc_auc_macro = np.mean(list(roc_auc_dict.values()))\n",
    "\n",
    "logger.log_float(\"roc_auc_class_mean\", roc_auc_macro)\n",
    "\n",
    "# assert that the same value can be computed directly using sklearn\n",
    "assert roc_auc_macro == metrics.roc_auc_score(\n",
    "    y_test, y_pred_probs_test, average=\"macro\", multi_class=\"ovr\"\n",
    ")"
   ]
  },
  {
   "cell_type": "code",
   "execution_count": 20,
   "id": "18754f4c",
   "metadata": {
    "execution": {
     "iopub.execute_input": "2022-12-09T06:42:34.858160Z",
     "iopub.status.busy": "2022-12-09T06:42:34.857895Z",
     "iopub.status.idle": "2022-12-09T06:42:34.860636Z",
     "shell.execute_reply": "2022-12-09T06:42:34.860112Z"
    },
    "lines_to_next_cell": 0,
    "papermill": {
     "duration": 0.012085,
     "end_time": "2022-12-09T06:42:34.861983",
     "exception": false,
     "start_time": "2022-12-09T06:42:34.849898",
     "status": "completed"
    },
    "tags": []
   },
   "outputs": [],
   "source": [
    "# ---"
   ]
  },
  {
   "cell_type": "code",
   "execution_count": null,
   "id": "e63ea068",
   "metadata": {
    "papermill": {
     "duration": 0.006048,
     "end_time": "2022-12-09T06:42:34.874302",
     "exception": false,
     "start_time": "2022-12-09T06:42:34.868254",
     "status": "completed"
    },
    "tags": []
   },
   "outputs": [],
   "source": []
  }
 ],
 "metadata": {
  "jupytext": {
   "cell_metadata_filter": "tags,-all",
   "main_language": "python",
   "notebook_metadata_filter": "-all"
  },
  "language_info": {
   "codemirror_mode": {
    "name": "ipython",
    "version": 3
   },
   "file_extension": ".py",
   "mimetype": "text/x-python",
   "name": "python",
   "nbconvert_exporter": "python",
   "pygments_lexer": "ipython3",
   "version": "3.8.10"
  },
  "papermill": {
   "default_parameters": {},
   "duration": 10.133462,
   "end_time": "2022-12-09T06:42:36.106668",
   "environment_variables": {},
   "exception": null,
   "input_path": "/home/host_user/workspace/mnist-demo-pipeline/mnist-demo-pipeline/notebooks/temp-notebook-sfmh2g4t.ipynb",
   "output_path": "notebooks/benchmark-model.ipynb",
   "parameters": {
    "P": {
     "_opentelemetry_traceparent": "00-695f3a50fa78f53d1d682803a025c1f1-41fe57c77d242aae-01",
     "pipeline.data_lake_root": "/pipeline-outputs/data-lake",
     "pipeline.github.actor": "matiasdahl",
     "pipeline.github.base_ref": "",
     "pipeline.github.event_name": "schedule",
     "pipeline.github.head_ref": "",
     "pipeline.github.job": "run-tests-pipeline-and-persist-pipeline-outputs",
     "pipeline.github.ref": "refs/heads/development",
     "pipeline.github.ref_name": "development",
     "pipeline.github.ref_type": "branch",
     "pipeline.github.repository": "matiasdahl/dev-mnist-digits-demo-pipeline",
     "pipeline.github.run_id": "3655095314",
     "pipeline.github.runner_name": "Hosted Agent",
     "pipeline.github.sha": "ace0d01011d5e914f1921450dd5a59c11367b38d",
     "pipeline.github.workflow": "Run automated tests, pipeline and deploy results to static reporting site",
     "pipeline.pipeline_run_id": "9b5970ac-7ec2-46f5-8360-fabc5ab0ee08",
     "pipeline.run_environment": "ci",
     "run.retry_nr": "0",
     "task.max_nr_retries": "1",
     "task.notebook": "notebooks/benchmark-model.py",
     "task.nr_train_images": 600,
     "task.num_cpus": 1,
     "task.timeout_s": "None"
    }
   },
   "start_time": "2022-12-09T06:42:25.973206",
   "version": "2.3.3"
  }
 },
 "nbformat": 4,
 "nbformat_minor": 5
}