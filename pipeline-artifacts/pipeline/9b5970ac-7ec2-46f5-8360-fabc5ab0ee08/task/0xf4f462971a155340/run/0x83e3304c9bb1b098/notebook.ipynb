{
 "cells": [
  {
   "cell_type": "markdown",
   "id": "830a6ce1",
   "metadata": {
    "papermill": {
     "duration": 0.00425,
     "end_time": "2022-12-09T06:42:04.150959",
     "exception": false,
     "start_time": "2022-12-09T06:42:04.146709",
     "status": "completed"
    },
    "tags": []
   },
   "source": [
    "# Split digits and labels into separate training and testing data sets"
   ]
  },
  {
   "cell_type": "markdown",
   "id": "5765962d",
   "metadata": {
    "papermill": {
     "duration": 0.002429,
     "end_time": "2022-12-09T06:42:04.156522",
     "exception": false,
     "start_time": "2022-12-09T06:42:04.154093",
     "status": "completed"
    },
    "tags": []
   },
   "source": [
    "### Determine run parameters"
   ]
  },
  {
   "cell_type": "code",
   "execution_count": 1,
   "id": "1861cef1",
   "metadata": {
    "execution": {
     "iopub.execute_input": "2022-12-09T06:42:04.163383Z",
     "iopub.status.busy": "2022-12-09T06:42:04.162637Z",
     "iopub.status.idle": "2022-12-09T06:42:04.170395Z",
     "shell.execute_reply": "2022-12-09T06:42:04.169763Z"
    },
    "lines_to_next_cell": 0,
    "papermill": {
     "duration": 0.013263,
     "end_time": "2022-12-09T06:42:04.172044",
     "exception": false,
     "start_time": "2022-12-09T06:42:04.158781",
     "status": "completed"
    },
    "tags": []
   },
   "outputs": [],
   "source": [
    "# ----------------- Parameters for interactive development --------------\n",
    "P = {\n",
    "    \"pipeline.data_lake_root\": \"/pipeline-outputs/data-lake\",\n",
    "    \"task.train_test_ratio\": 0.7,\n",
    "}"
   ]
  },
  {
   "cell_type": "code",
   "execution_count": 2,
   "id": "3d09aa98",
   "metadata": {
    "execution": {
     "iopub.execute_input": "2022-12-09T06:42:04.182783Z",
     "iopub.status.busy": "2022-12-09T06:42:04.182141Z",
     "iopub.status.idle": "2022-12-09T06:42:04.187187Z",
     "shell.execute_reply": "2022-12-09T06:42:04.186684Z"
    },
    "lines_to_next_cell": 0,
    "papermill": {
     "duration": 0.014055,
     "end_time": "2022-12-09T06:42:04.188740",
     "exception": false,
     "start_time": "2022-12-09T06:42:04.174685",
     "status": "completed"
    },
    "tags": [
     "parameters"
    ]
   },
   "outputs": [],
   "source": [
    "# - During automated runs parameters will be injected in the below cell -"
   ]
  },
  {
   "cell_type": "code",
   "execution_count": 3,
   "id": "a72da971",
   "metadata": {
    "execution": {
     "iopub.execute_input": "2022-12-09T06:42:04.194552Z",
     "iopub.status.busy": "2022-12-09T06:42:04.194018Z",
     "iopub.status.idle": "2022-12-09T06:42:04.210544Z",
     "shell.execute_reply": "2022-12-09T06:42:04.208490Z"
    },
    "papermill": {
     "duration": 0.022115,
     "end_time": "2022-12-09T06:42:04.213016",
     "exception": false,
     "start_time": "2022-12-09T06:42:04.190901",
     "status": "completed"
    },
    "tags": [
     "injected-parameters"
    ]
   },
   "outputs": [],
   "source": [
    "# Parameters\n",
    "P = {\n",
    "    \"pipeline.data_lake_root\": \"/pipeline-outputs/data-lake\",\n",
    "    \"pipeline.run_environment\": \"ci\",\n",
    "    \"pipeline.pipeline_run_id\": \"9b5970ac-7ec2-46f5-8360-fabc5ab0ee08\",\n",
    "    \"pipeline.github.repository\": \"matiasdahl/dev-mnist-digits-demo-pipeline\",\n",
    "    \"pipeline.github.workflow\": \"Run automated tests, pipeline and deploy results to static reporting site\",\n",
    "    \"pipeline.github.runner_name\": \"Hosted Agent\",\n",
    "    \"pipeline.github.run_id\": \"3655095314\",\n",
    "    \"pipeline.github.actor\": \"matiasdahl\",\n",
    "    \"pipeline.github.job\": \"run-tests-pipeline-and-persist-pipeline-outputs\",\n",
    "    \"pipeline.github.base_ref\": \"\",\n",
    "    \"pipeline.github.head_ref\": \"\",\n",
    "    \"pipeline.github.sha\": \"ace0d01011d5e914f1921450dd5a59c11367b38d\",\n",
    "    \"pipeline.github.ref\": \"refs/heads/development\",\n",
    "    \"pipeline.github.ref_type\": \"branch\",\n",
    "    \"pipeline.github.ref_name\": \"development\",\n",
    "    \"pipeline.github.event_name\": \"schedule\",\n",
    "    \"task.train_test_ratio\": 0.7,\n",
    "    \"task.notebook\": \"notebooks/split-train-test.py\",\n",
    "    \"task.max_nr_retries\": \"1\",\n",
    "    \"run.retry_nr\": \"0\",\n",
    "    \"task.timeout_s\": \"None\",\n",
    "    \"task.num_cpus\": 1,\n",
    "    \"_opentelemetry_traceparent\": \"00-695f3a50fa78f53d1d682803a025c1f1-9c31c07e79413b68-01\",\n",
    "}\n"
   ]
  },
  {
   "cell_type": "code",
   "execution_count": 4,
   "id": "a85bed63",
   "metadata": {
    "execution": {
     "iopub.execute_input": "2022-12-09T06:42:04.220440Z",
     "iopub.status.busy": "2022-12-09T06:42:04.219834Z",
     "iopub.status.idle": "2022-12-09T06:42:04.223327Z",
     "shell.execute_reply": "2022-12-09T06:42:04.222838Z"
    },
    "lines_to_next_cell": 0,
    "papermill": {
     "duration": 0.009559,
     "end_time": "2022-12-09T06:42:04.225275",
     "exception": false,
     "start_time": "2022-12-09T06:42:04.215716",
     "status": "completed"
    },
    "tags": []
   },
   "outputs": [],
   "source": [
    "# -----------------------------------------------------------------------"
   ]
  },
  {
   "cell_type": "markdown",
   "id": "95dc33f9",
   "metadata": {
    "papermill": {
     "duration": 0.002441,
     "end_time": "2022-12-09T06:42:04.230500",
     "exception": false,
     "start_time": "2022-12-09T06:42:04.228059",
     "status": "completed"
    },
    "tags": []
   },
   "source": [
    "---"
   ]
  },
  {
   "cell_type": "markdown",
   "id": "f6ce0980",
   "metadata": {
    "lines_to_next_cell": 2,
    "papermill": {
     "duration": 0.002531,
     "end_time": "2022-12-09T06:42:04.235415",
     "exception": false,
     "start_time": "2022-12-09T06:42:04.232884",
     "status": "completed"
    },
    "tags": []
   },
   "source": [
    "### Notebook code"
   ]
  },
  {
   "cell_type": "code",
   "execution_count": 5,
   "id": "512602cd",
   "metadata": {
    "execution": {
     "iopub.execute_input": "2022-12-09T06:42:04.243625Z",
     "iopub.status.busy": "2022-12-09T06:42:04.243407Z",
     "iopub.status.idle": "2022-12-09T06:42:04.783001Z",
     "shell.execute_reply": "2022-12-09T06:42:04.782114Z"
    },
    "papermill": {
     "duration": 0.545651,
     "end_time": "2022-12-09T06:42:04.785488",
     "exception": false,
     "start_time": "2022-12-09T06:42:04.239837",
     "status": "completed"
    },
    "tags": []
   },
   "outputs": [
    {
     "name": "stderr",
     "output_type": "stream",
     "text": [
      "2022-12-09 06:42:04,614\tINFO worker.py:842 -- Connecting to existing Ray cluster at address: 172.17.0.2:6379\n"
     ]
    }
   ],
   "source": [
    "from common.io import datalake_root, read_numpy, write_numpy\n",
    "from pynb_dag_runner.tasks.task_opentelemetry_logging import PydarLogger\n",
    "\n",
    "logger = PydarLogger(P)"
   ]
  },
  {
   "cell_type": "markdown",
   "id": "4e534d68",
   "metadata": {
    "papermill": {
     "duration": 0.003018,
     "end_time": "2022-12-09T06:42:04.792008",
     "exception": false,
     "start_time": "2022-12-09T06:42:04.788990",
     "status": "completed"
    },
    "tags": []
   },
   "source": [
    "## Load and split digits data"
   ]
  },
  {
   "cell_type": "code",
   "execution_count": 6,
   "id": "511e55d3",
   "metadata": {
    "execution": {
     "iopub.execute_input": "2022-12-09T06:42:04.799346Z",
     "iopub.status.busy": "2022-12-09T06:42:04.798519Z",
     "iopub.status.idle": "2022-12-09T06:42:04.804406Z",
     "shell.execute_reply": "2022-12-09T06:42:04.803779Z"
    },
    "papermill": {
     "duration": 0.010937,
     "end_time": "2022-12-09T06:42:04.805999",
     "exception": false,
     "start_time": "2022-12-09T06:42:04.795062",
     "status": "completed"
    },
    "tags": []
   },
   "outputs": [],
   "source": [
    "X = read_numpy(datalake_root(P) / \"raw\" / \"digits.numpy\")\n",
    "y = read_numpy(datalake_root(P) / \"raw\" / \"labels.numpy\")"
   ]
  },
  {
   "cell_type": "code",
   "execution_count": 7,
   "id": "ec7aa54d",
   "metadata": {
    "execution": {
     "iopub.execute_input": "2022-12-09T06:42:04.812541Z",
     "iopub.status.busy": "2022-12-09T06:42:04.812319Z",
     "iopub.status.idle": "2022-12-09T06:42:05.257650Z",
     "shell.execute_reply": "2022-12-09T06:42:05.256824Z"
    },
    "papermill": {
     "duration": 0.450951,
     "end_time": "2022-12-09T06:42:05.259744",
     "exception": false,
     "start_time": "2022-12-09T06:42:04.808793",
     "status": "completed"
    },
    "tags": []
   },
   "outputs": [],
   "source": [
    "from sklearn.model_selection import train_test_split\n",
    "\n",
    "X_train, X_test, y_train, y_test = train_test_split(\n",
    "    X,\n",
    "    y,\n",
    "    train_size=P[\"task.train_test_ratio\"],\n",
    "    test_size=None,\n",
    "    stratify=y,\n",
    "    shuffle=True,\n",
    "    random_state=1,\n",
    ")\n",
    "\n",
    "# assert nr of pixels per image is the same for all image vectors\n",
    "assert X.shape[1] == X_train.shape[1] == X_test.shape[1]\n",
    "\n",
    "# assert that the (X, y)-pairs have compatible sizes (for both train and test)\n",
    "assert X_train.shape[0] == len(y_train)\n",
    "assert X_test.shape[0] == len(y_test)\n",
    "\n",
    "# assert that all data is used\n",
    "assert len(y) == len(y_train) + len(y_test)"
   ]
  },
  {
   "cell_type": "code",
   "execution_count": 8,
   "id": "96219fc5",
   "metadata": {
    "execution": {
     "iopub.execute_input": "2022-12-09T06:42:05.269384Z",
     "iopub.status.busy": "2022-12-09T06:42:05.267608Z",
     "iopub.status.idle": "2022-12-09T06:42:05.274675Z",
     "shell.execute_reply": "2022-12-09T06:42:05.273944Z"
    },
    "papermill": {
     "duration": 0.015799,
     "end_time": "2022-12-09T06:42:05.279047",
     "exception": false,
     "start_time": "2022-12-09T06:42:05.263248",
     "status": "completed"
    },
    "tags": []
   },
   "outputs": [
    {
     "name": "stdout",
     "output_type": "stream",
     "text": [
      " - Logging nr_digits_train (int) : 1257\n",
      " - Logging nr_digits_test (int) : 540\n"
     ]
    }
   ],
   "source": [
    "logger.log_int(\"nr_digits_train\", len(y_train))\n",
    "logger.log_int(\"nr_digits_test\", len(y_test))"
   ]
  },
  {
   "cell_type": "markdown",
   "id": "ba7de6c9",
   "metadata": {
    "papermill": {
     "duration": 0.002746,
     "end_time": "2022-12-09T06:42:05.284848",
     "exception": false,
     "start_time": "2022-12-09T06:42:05.282102",
     "status": "completed"
    },
    "tags": []
   },
   "source": [
    "### Persist training and test data sets to separate files"
   ]
  },
  {
   "cell_type": "code",
   "execution_count": 9,
   "id": "4edaf60f",
   "metadata": {
    "execution": {
     "iopub.execute_input": "2022-12-09T06:42:05.291293Z",
     "iopub.status.busy": "2022-12-09T06:42:05.290965Z",
     "iopub.status.idle": "2022-12-09T06:42:05.297649Z",
     "shell.execute_reply": "2022-12-09T06:42:05.296951Z"
    },
    "papermill": {
     "duration": 0.011895,
     "end_time": "2022-12-09T06:42:05.299266",
     "exception": false,
     "start_time": "2022-12-09T06:42:05.287371",
     "status": "completed"
    },
    "tags": []
   },
   "outputs": [],
   "source": [
    "write_numpy(datalake_root(P) / \"train-data\" / \"digits.numpy\", X_train)\n",
    "write_numpy(datalake_root(P) / \"train-data\" / \"labels.numpy\", y_train)\n",
    "\n",
    "#\n",
    "write_numpy(datalake_root(P) / \"test-data\" / \"digits.numpy\", X_test)\n",
    "write_numpy(datalake_root(P) / \"test-data\" / \"labels.numpy\", y_test)"
   ]
  },
  {
   "cell_type": "code",
   "execution_count": null,
   "id": "7113d7ed",
   "metadata": {
    "papermill": {
     "duration": 0.002795,
     "end_time": "2022-12-09T06:42:05.304703",
     "exception": false,
     "start_time": "2022-12-09T06:42:05.301908",
     "status": "completed"
    },
    "tags": []
   },
   "outputs": [],
   "source": []
  }
 ],
 "metadata": {
  "jupytext": {
   "cell_metadata_filter": "tags,-all",
   "main_language": "python",
   "notebook_metadata_filter": "-all"
  },
  "language_info": {
   "codemirror_mode": {
    "name": "ipython",
    "version": 3
   },
   "file_extension": ".py",
   "mimetype": "text/x-python",
   "name": "python",
   "nbconvert_exporter": "python",
   "pygments_lexer": "ipython3",
   "version": "3.8.10"
  },
  "papermill": {
   "default_parameters": {},
   "duration": 3.398806,
   "end_time": "2022-12-09T06:42:06.329694",
   "environment_variables": {},
   "exception": null,
   "input_path": "/home/host_user/workspace/mnist-demo-pipeline/mnist-demo-pipeline/notebooks/temp-notebook-l1rrkvis.ipynb",
   "output_path": "notebooks/split-train-test.ipynb",
   "parameters": {
    "P": {
     "_opentelemetry_traceparent": "00-695f3a50fa78f53d1d682803a025c1f1-9c31c07e79413b68-01",
     "pipeline.data_lake_root": "/pipeline-outputs/data-lake",
     "pipeline.github.actor": "matiasdahl",
     "pipeline.github.base_ref": "",
     "pipeline.github.event_name": "schedule",
     "pipeline.github.head_ref": "",
     "pipeline.github.job": "run-tests-pipeline-and-persist-pipeline-outputs",
     "pipeline.github.ref": "refs/heads/development",
     "pipeline.github.ref_name": "development",
     "pipeline.github.ref_type": "branch",
     "pipeline.github.repository": "matiasdahl/dev-mnist-digits-demo-pipeline",
     "pipeline.github.run_id": "3655095314",
     "pipeline.github.runner_name": "Hosted Agent",
     "pipeline.github.sha": "ace0d01011d5e914f1921450dd5a59c11367b38d",
     "pipeline.github.workflow": "Run automated tests, pipeline and deploy results to static reporting site",
     "pipeline.pipeline_run_id": "9b5970ac-7ec2-46f5-8360-fabc5ab0ee08",
     "pipeline.run_environment": "ci",
     "run.retry_nr": "0",
     "task.max_nr_retries": "1",
     "task.notebook": "notebooks/split-train-test.py",
     "task.num_cpus": 1,
     "task.timeout_s": "None",
     "task.train_test_ratio": 0.7
    }
   },
   "start_time": "2022-12-09T06:42:02.930888",
   "version": "2.3.3"
  }
 },
 "nbformat": 4,
 "nbformat_minor": 5
}