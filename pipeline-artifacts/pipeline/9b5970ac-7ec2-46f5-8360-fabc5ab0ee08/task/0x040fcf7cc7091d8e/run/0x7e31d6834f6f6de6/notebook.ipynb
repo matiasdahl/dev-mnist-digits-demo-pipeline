{
 "cells": [
  {
   "cell_type": "markdown",
   "id": "c4f09a2f",
   "metadata": {
    "papermill": {
     "duration": 0.014254,
     "end_time": "2022-12-09T06:42:22.239761",
     "exception": false,
     "start_time": "2022-12-09T06:42:22.225507",
     "status": "completed"
    },
    "tags": []
   },
   "source": [
    "# Benchmark model\n",
    "\n",
    "The purpose of this notebook is to benchmark persisted onnx-model (trained in the\n",
    "previous step) against evaluation set."
   ]
  },
  {
   "cell_type": "markdown",
   "id": "9c47dd42",
   "metadata": {
    "papermill": {
     "duration": 0.00644,
     "end_time": "2022-12-09T06:42:22.255601",
     "exception": false,
     "start_time": "2022-12-09T06:42:22.249161",
     "status": "completed"
    },
    "tags": []
   },
   "source": [
    "### Determine run parameters"
   ]
  },
  {
   "cell_type": "code",
   "execution_count": 1,
   "id": "38c19484",
   "metadata": {
    "execution": {
     "iopub.execute_input": "2022-12-09T06:42:22.266403Z",
     "iopub.status.busy": "2022-12-09T06:42:22.266040Z",
     "iopub.status.idle": "2022-12-09T06:42:22.275767Z",
     "shell.execute_reply": "2022-12-09T06:42:22.275229Z"
    },
    "lines_to_next_cell": 0,
    "papermill": {
     "duration": 0.017329,
     "end_time": "2022-12-09T06:42:22.277980",
     "exception": false,
     "start_time": "2022-12-09T06:42:22.260651",
     "status": "completed"
    },
    "tags": []
   },
   "outputs": [],
   "source": [
    "# ----------------- Parameters for interactive development --------------\n",
    "P = {\n",
    "    \"pipeline.data_lake_root\": \"/pipeline-outputs/data-lake\",\n",
    "    \"task.nr_train_images\": 600,\n",
    "}"
   ]
  },
  {
   "cell_type": "code",
   "execution_count": 2,
   "id": "daf8e7a8",
   "metadata": {
    "execution": {
     "iopub.execute_input": "2022-12-09T06:42:22.287349Z",
     "iopub.status.busy": "2022-12-09T06:42:22.287129Z",
     "iopub.status.idle": "2022-12-09T06:42:22.289825Z",
     "shell.execute_reply": "2022-12-09T06:42:22.289320Z"
    },
    "lines_to_next_cell": 0,
    "papermill": {
     "duration": 0.010203,
     "end_time": "2022-12-09T06:42:22.292649",
     "exception": false,
     "start_time": "2022-12-09T06:42:22.282446",
     "status": "completed"
    },
    "tags": [
     "parameters"
    ]
   },
   "outputs": [],
   "source": [
    "# - During automated runs parameters will be injected in the below cell -"
   ]
  },
  {
   "cell_type": "code",
   "execution_count": 3,
   "id": "6d5bb553",
   "metadata": {
    "execution": {
     "iopub.execute_input": "2022-12-09T06:42:22.301484Z",
     "iopub.status.busy": "2022-12-09T06:42:22.301265Z",
     "iopub.status.idle": "2022-12-09T06:42:22.305747Z",
     "shell.execute_reply": "2022-12-09T06:42:22.305179Z"
    },
    "papermill": {
     "duration": 0.011572,
     "end_time": "2022-12-09T06:42:22.308062",
     "exception": false,
     "start_time": "2022-12-09T06:42:22.296490",
     "status": "completed"
    },
    "tags": [
     "injected-parameters"
    ]
   },
   "outputs": [],
   "source": [
    "# Parameters\n",
    "P = {\n",
    "    \"pipeline.data_lake_root\": \"/pipeline-outputs/data-lake\",\n",
    "    \"pipeline.run_environment\": \"ci\",\n",
    "    \"pipeline.pipeline_run_id\": \"9b5970ac-7ec2-46f5-8360-fabc5ab0ee08\",\n",
    "    \"pipeline.github.repository\": \"matiasdahl/dev-mnist-digits-demo-pipeline\",\n",
    "    \"pipeline.github.workflow\": \"Run automated tests, pipeline and deploy results to static reporting site\",\n",
    "    \"pipeline.github.runner_name\": \"Hosted Agent\",\n",
    "    \"pipeline.github.run_id\": \"3655095314\",\n",
    "    \"pipeline.github.actor\": \"matiasdahl\",\n",
    "    \"pipeline.github.job\": \"run-tests-pipeline-and-persist-pipeline-outputs\",\n",
    "    \"pipeline.github.base_ref\": \"\",\n",
    "    \"pipeline.github.head_ref\": \"\",\n",
    "    \"pipeline.github.sha\": \"ace0d01011d5e914f1921450dd5a59c11367b38d\",\n",
    "    \"pipeline.github.ref\": \"refs/heads/development\",\n",
    "    \"pipeline.github.ref_type\": \"branch\",\n",
    "    \"pipeline.github.ref_name\": \"development\",\n",
    "    \"pipeline.github.event_name\": \"schedule\",\n",
    "    \"task.nr_train_images\": 1000,\n",
    "    \"task.notebook\": \"notebooks/benchmark-model.py\",\n",
    "    \"task.max_nr_retries\": \"1\",\n",
    "    \"run.retry_nr\": \"0\",\n",
    "    \"task.timeout_s\": \"None\",\n",
    "    \"task.num_cpus\": 1,\n",
    "    \"_opentelemetry_traceparent\": \"00-695f3a50fa78f53d1d682803a025c1f1-a9955322760763e1-01\",\n",
    "}\n"
   ]
  },
  {
   "cell_type": "code",
   "execution_count": 4,
   "id": "00fa42ab",
   "metadata": {
    "execution": {
     "iopub.execute_input": "2022-12-09T06:42:22.316942Z",
     "iopub.status.busy": "2022-12-09T06:42:22.316734Z",
     "iopub.status.idle": "2022-12-09T06:42:22.319420Z",
     "shell.execute_reply": "2022-12-09T06:42:22.318909Z"
    },
    "lines_to_next_cell": 0,
    "papermill": {
     "duration": 0.009877,
     "end_time": "2022-12-09T06:42:22.321953",
     "exception": false,
     "start_time": "2022-12-09T06:42:22.312076",
     "status": "completed"
    },
    "tags": []
   },
   "outputs": [],
   "source": [
    "# -----------------------------------------------------------------------"
   ]
  },
  {
   "cell_type": "markdown",
   "id": "75fe00b9",
   "metadata": {
    "papermill": {
     "duration": 0.003813,
     "end_time": "2022-12-09T06:42:22.330165",
     "exception": false,
     "start_time": "2022-12-09T06:42:22.326352",
     "status": "completed"
    },
    "tags": []
   },
   "source": [
    "---"
   ]
  },
  {
   "cell_type": "markdown",
   "id": "a6c675bf",
   "metadata": {
    "lines_to_next_cell": 2,
    "papermill": {
     "duration": 0.004321,
     "end_time": "2022-12-09T06:42:22.338614",
     "exception": false,
     "start_time": "2022-12-09T06:42:22.334293",
     "status": "completed"
    },
    "tags": []
   },
   "source": [
    "### Notebook code"
   ]
  },
  {
   "cell_type": "code",
   "execution_count": 5,
   "id": "3a7cd083",
   "metadata": {
    "execution": {
     "iopub.execute_input": "2022-12-09T06:42:22.347730Z",
     "iopub.status.busy": "2022-12-09T06:42:22.347493Z",
     "iopub.status.idle": "2022-12-09T06:42:23.570871Z",
     "shell.execute_reply": "2022-12-09T06:42:23.570119Z"
    },
    "papermill": {
     "duration": 1.230527,
     "end_time": "2022-12-09T06:42:23.573259",
     "exception": false,
     "start_time": "2022-12-09T06:42:22.342732",
     "status": "completed"
    },
    "tags": []
   },
   "outputs": [
    {
     "name": "stderr",
     "output_type": "stream",
     "text": [
      "2022-12-09 06:42:23,332\tINFO worker.py:842 -- Connecting to existing Ray cluster at address: 172.17.0.2:6379\n"
     ]
    }
   ],
   "source": [
    "import itertools as it\n",
    "\n",
    "#\n",
    "import numpy as np\n",
    "import matplotlib.pyplot as plt\n",
    "\n",
    "#\n",
    "from pynb_dag_runner.tasks.task_opentelemetry_logging import PydarLogger\n",
    "\n",
    "#\n",
    "from common.io import datalake_root\n",
    "\n",
    "logger = PydarLogger(P)"
   ]
  },
  {
   "cell_type": "markdown",
   "id": "17e93381",
   "metadata": {
    "papermill": {
     "duration": 0.004747,
     "end_time": "2022-12-09T06:42:23.582761",
     "exception": false,
     "start_time": "2022-12-09T06:42:23.578014",
     "status": "completed"
    },
    "tags": []
   },
   "source": [
    "## Load persisted onnx-model and evaluation data"
   ]
  },
  {
   "cell_type": "code",
   "execution_count": 6,
   "id": "8795fb4d",
   "metadata": {
    "execution": {
     "iopub.execute_input": "2022-12-09T06:42:23.595442Z",
     "iopub.status.busy": "2022-12-09T06:42:23.594883Z",
     "iopub.status.idle": "2022-12-09T06:42:23.599840Z",
     "shell.execute_reply": "2022-12-09T06:42:23.599086Z"
    },
    "papermill": {
     "duration": 0.014468,
     "end_time": "2022-12-09T06:42:23.601361",
     "exception": false,
     "start_time": "2022-12-09T06:42:23.586893",
     "status": "completed"
    },
    "tags": []
   },
   "outputs": [],
   "source": [
    "from common.io import read_onnx, get_onnx_inputs, get_onnx_outputs, read_numpy"
   ]
  },
  {
   "cell_type": "code",
   "execution_count": 7,
   "id": "d458347b",
   "metadata": {
    "execution": {
     "iopub.execute_input": "2022-12-09T06:42:23.613211Z",
     "iopub.status.busy": "2022-12-09T06:42:23.612565Z",
     "iopub.status.idle": "2022-12-09T06:42:23.622337Z",
     "shell.execute_reply": "2022-12-09T06:42:23.621745Z"
    },
    "lines_to_next_cell": 0,
    "papermill": {
     "duration": 0.016544,
     "end_time": "2022-12-09T06:42:23.624051",
     "exception": false,
     "start_time": "2022-12-09T06:42:23.607507",
     "status": "completed"
    },
    "tags": []
   },
   "outputs": [],
   "source": [
    "onnx_inference_session = read_onnx(\n",
    "    datalake_root(P)\n",
    "    / \"models\"\n",
    "    / f\"nr_train_images={P['task.nr_train_images']}\"\n",
    "    / \"model.onnx\"\n",
    ")"
   ]
  },
  {
   "cell_type": "markdown",
   "id": "1e7599c3",
   "metadata": {
    "papermill": {
     "duration": 0.004155,
     "end_time": "2022-12-09T06:42:23.632854",
     "exception": false,
     "start_time": "2022-12-09T06:42:23.628699",
     "status": "completed"
    },
    "tags": []
   },
   "source": [
    "### Record structure of inputs and outputs for ONNX model\n",
    "\n",
    "(this should likely be done in training notebook)"
   ]
  },
  {
   "cell_type": "code",
   "execution_count": 8,
   "id": "b49a2891",
   "metadata": {
    "execution": {
     "iopub.execute_input": "2022-12-09T06:42:23.642345Z",
     "iopub.status.busy": "2022-12-09T06:42:23.641879Z",
     "iopub.status.idle": "2022-12-09T06:42:23.647921Z",
     "shell.execute_reply": "2022-12-09T06:42:23.647288Z"
    },
    "papermill": {
     "duration": 0.012721,
     "end_time": "2022-12-09T06:42:23.649639",
     "exception": false,
     "start_time": "2022-12-09T06:42:23.636918",
     "status": "completed"
    },
    "tags": []
   },
   "outputs": [
    {
     "name": "stdout",
     "output_type": "stream",
     "text": [
      "{\n",
      "  \"inputs\": [\n",
      "    {\n",
      "      \"name\": \"float_input_8x8_image\",\n",
      "      \"shape\": [\n",
      "        null,\n",
      "        64\n",
      "      ],\n",
      "      \"type\": \"tensor(float)\"\n",
      "    }\n",
      "  ],\n",
      "  \"outputs\": [\n",
      "    {\n",
      "      \"name\": \"output_label\",\n",
      "      \"shape\": [\n",
      "        null\n",
      "      ],\n",
      "      \"type\": \"tensor(int64)\"\n",
      "    },\n",
      "    {\n",
      "      \"name\": \"output_probability\",\n",
      "      \"shape\": [],\n",
      "      \"type\": \"seq(map(int64,tensor(float)))\"\n",
      "    }\n",
      "  ]\n",
      "}\n"
     ]
    }
   ],
   "source": [
    "import json\n",
    "\n",
    "onnx_io = json.dumps(\n",
    "    {\n",
    "        \"inputs\": get_onnx_inputs(onnx_inference_session),\n",
    "        \"outputs\": get_onnx_outputs(onnx_inference_session),\n",
    "    },\n",
    "    indent=2,\n",
    ")\n",
    "\n",
    "\n",
    "logger.log_artefact(\"onnx_io_structure.json\", onnx_io)\n",
    "print(onnx_io)"
   ]
  },
  {
   "cell_type": "markdown",
   "id": "6a648c07",
   "metadata": {
    "papermill": {
     "duration": 0.003854,
     "end_time": "2022-12-09T06:42:23.657691",
     "exception": false,
     "start_time": "2022-12-09T06:42:23.653837",
     "status": "completed"
    },
    "tags": []
   },
   "source": [
    "### Evaluate model performance on evaluation data set"
   ]
  },
  {
   "cell_type": "code",
   "execution_count": 9,
   "id": "d1bdbd5a",
   "metadata": {
    "execution": {
     "iopub.execute_input": "2022-12-09T06:42:23.667055Z",
     "iopub.status.busy": "2022-12-09T06:42:23.666663Z",
     "iopub.status.idle": "2022-12-09T06:42:23.671377Z",
     "shell.execute_reply": "2022-12-09T06:42:23.670648Z"
    },
    "papermill": {
     "duration": 0.011161,
     "end_time": "2022-12-09T06:42:23.672875",
     "exception": false,
     "start_time": "2022-12-09T06:42:23.661714",
     "status": "completed"
    },
    "tags": []
   },
   "outputs": [],
   "source": [
    "# load evaluation data\n",
    "X_test = read_numpy(datalake_root(P) / \"test-data\" / \"digits.numpy\")\n",
    "y_test = read_numpy(datalake_root(P) / \"test-data\" / \"labels.numpy\")"
   ]
  },
  {
   "cell_type": "code",
   "execution_count": 10,
   "id": "a51cd01b",
   "metadata": {
    "execution": {
     "iopub.execute_input": "2022-12-09T06:42:23.682316Z",
     "iopub.status.busy": "2022-12-09T06:42:23.681971Z",
     "iopub.status.idle": "2022-12-09T06:42:23.694777Z",
     "shell.execute_reply": "2022-12-09T06:42:23.694103Z"
    },
    "papermill": {
     "duration": 0.021503,
     "end_time": "2022-12-09T06:42:23.698287",
     "exception": false,
     "start_time": "2022-12-09T06:42:23.676784",
     "status": "completed"
    },
    "tags": []
   },
   "outputs": [],
   "source": [
    "def get_model_outputs(X, onnx_inference_session):\n",
    "    y_pred_labels, y_pred_map = onnx_inference_session.run(\n",
    "        [\"output_label\", \"output_probability\"],\n",
    "        {\"float_input_8x8_image\": X.astype(np.float32)},\n",
    "    )\n",
    "    y_pred_probs = np.array(\n",
    "        [[probabilities[digit] for digit in range(10)] for probabilities in y_pred_map]\n",
    "    )\n",
    "\n",
    "    assert y_pred_labels.shape == (X.shape[0],)\n",
    "    assert y_pred_probs.shape == (X.shape[0], 10)\n",
    "\n",
    "    return y_pred_labels, y_pred_probs\n",
    "\n",
    "\n",
    "# Note: as shown in the training notebook, the predicted labels and probabilities\n",
    "# computed below need not be compatible.\n",
    "y_pred_labels_test, y_pred_probs_test = get_model_outputs(\n",
    "    X_test, onnx_inference_session\n",
    ")"
   ]
  },
  {
   "cell_type": "markdown",
   "id": "2a18a083",
   "metadata": {
    "papermill": {
     "duration": 0.004244,
     "end_time": "2022-12-09T06:42:23.706895",
     "exception": false,
     "start_time": "2022-12-09T06:42:23.702651",
     "status": "completed"
    },
    "tags": []
   },
   "source": [
    "### Confusion matrix"
   ]
  },
  {
   "cell_type": "code",
   "execution_count": 11,
   "id": "8bc86090",
   "metadata": {
    "execution": {
     "iopub.execute_input": "2022-12-09T06:42:23.716214Z",
     "iopub.status.busy": "2022-12-09T06:42:23.715841Z",
     "iopub.status.idle": "2022-12-09T06:42:23.718825Z",
     "shell.execute_reply": "2022-12-09T06:42:23.718210Z"
    },
    "papermill": {
     "duration": 0.009687,
     "end_time": "2022-12-09T06:42:23.720605",
     "exception": false,
     "start_time": "2022-12-09T06:42:23.710918",
     "status": "completed"
    },
    "tags": []
   },
   "outputs": [],
   "source": [
    "# TODO"
   ]
  },
  {
   "cell_type": "markdown",
   "id": "23b245fd",
   "metadata": {
    "papermill": {
     "duration": 0.003872,
     "end_time": "2022-12-09T06:42:23.728713",
     "exception": false,
     "start_time": "2022-12-09T06:42:23.724841",
     "status": "completed"
    },
    "tags": []
   },
   "source": [
    "### Plot predicted probabilities for each classifier over all evaluation digit images"
   ]
  },
  {
   "cell_type": "code",
   "execution_count": 12,
   "id": "f79c6463",
   "metadata": {
    "execution": {
     "iopub.execute_input": "2022-12-09T06:42:23.737866Z",
     "iopub.status.busy": "2022-12-09T06:42:23.737562Z",
     "iopub.status.idle": "2022-12-09T06:42:26.849433Z",
     "shell.execute_reply": "2022-12-09T06:42:26.848430Z"
    },
    "papermill": {
     "duration": 3.118992,
     "end_time": "2022-12-09T06:42:26.851719",
     "exception": false,
     "start_time": "2022-12-09T06:42:23.732727",
     "status": "completed"
    },
    "tags": []
   },
   "outputs": [
    {
     "data": {
      "image/png": "[encoded data removed]",
      "text/plain": [
       "<Figure size 1600x600 with 10 Axes>"
      ]
     },
     "metadata": {},
     "output_type": "display_data"
    }
   ],
   "source": [
    "def plot_per_digit_probabilities(y_pred_probs):\n",
    "    fig, axs = plt.subplots(nrows=2, ncols=5, figsize=(16, 6))\n",
    "\n",
    "    for (r, c), digit, ax in zip(\n",
    "        it.product(range(2), range(5)), range(10), axs.reshape(-1)\n",
    "    ):\n",
    "        ax.hist(y_pred_probs_test[:, digit], bins=20)\n",
    "\n",
    "        ax.set_title(f\"Digit {digit}\")\n",
    "        if r == 1 and c == 2:\n",
    "            ax.set_xlabel(\"probability\", fontsize=16)\n",
    "\n",
    "        if c == 0:\n",
    "            ax.set_ylabel(\"counts\", fontsize=16)\n",
    "        ax.set_yscale(\"log\")\n",
    "\n",
    "    fig.tight_layout()\n",
    "    fig.suptitle(\n",
    "        f\"Distributions of prediction probabilities for each digit \"\n",
    "        f\"(on evaluation data, n={y_pred_probs.shape[0]})\",\n",
    "        fontsize=20,\n",
    "    )\n",
    "    fig.tight_layout()\n",
    "    fig.show()\n",
    "\n",
    "    return fig\n",
    "\n",
    "\n",
    "fig = plot_per_digit_probabilities(y_pred_probs_test)"
   ]
  },
  {
   "cell_type": "markdown",
   "id": "33f795f8",
   "metadata": {
    "papermill": {
     "duration": 0.005799,
     "end_time": "2022-12-09T06:42:26.862771",
     "exception": false,
     "start_time": "2022-12-09T06:42:26.856972",
     "status": "completed"
    },
    "tags": []
   },
   "source": [
    "From the above distributions we see that most digits have clear separation between\n",
    "high and lower probabilities. Morover, in each case there is roughly an order of\n",
    "magnitude more of digits with low probabilities. This is compatible with digits\n",
    "being roughly evenly distributed in the data."
   ]
  },
  {
   "cell_type": "code",
   "execution_count": 13,
   "id": "ae1967aa",
   "metadata": {
    "execution": {
     "iopub.execute_input": "2022-12-09T06:42:26.876490Z",
     "iopub.status.busy": "2022-12-09T06:42:26.875122Z",
     "iopub.status.idle": "2022-12-09T06:42:27.324396Z",
     "shell.execute_reply": "2022-12-09T06:42:27.323612Z"
    },
    "papermill": {
     "duration": 0.45864,
     "end_time": "2022-12-09T06:42:27.326332",
     "exception": false,
     "start_time": "2022-12-09T06:42:26.867692",
     "status": "completed"
    },
    "tags": []
   },
   "outputs": [],
   "source": [
    "logger.log_figure(\"per-digit-probabilities.png\", fig)"
   ]
  },
  {
   "cell_type": "markdown",
   "id": "2e9cd1b0",
   "metadata": {
    "papermill": {
     "duration": 0.006022,
     "end_time": "2022-12-09T06:42:27.338301",
     "exception": false,
     "start_time": "2022-12-09T06:42:27.332279",
     "status": "completed"
    },
    "tags": []
   },
   "source": [
    "### Plot ROC curves for individual one-vs-rest classifiers"
   ]
  },
  {
   "cell_type": "code",
   "execution_count": 14,
   "id": "f7454dce",
   "metadata": {
    "execution": {
     "iopub.execute_input": "2022-12-09T06:42:27.350311Z",
     "iopub.status.busy": "2022-12-09T06:42:27.349622Z",
     "iopub.status.idle": "2022-12-09T06:42:28.358152Z",
     "shell.execute_reply": "2022-12-09T06:42:28.357356Z"
    },
    "papermill": {
     "duration": 1.016724,
     "end_time": "2022-12-09T06:42:28.360023",
     "exception": false,
     "start_time": "2022-12-09T06:42:27.343299",
     "status": "completed"
    },
    "tags": []
   },
   "outputs": [],
   "source": [
    "from sklearn import metrics"
   ]
  },
  {
   "cell_type": "code",
   "execution_count": 15,
   "id": "0cb7d71c",
   "metadata": {
    "execution": {
     "iopub.execute_input": "2022-12-09T06:42:28.373124Z",
     "iopub.status.busy": "2022-12-09T06:42:28.372869Z",
     "iopub.status.idle": "2022-12-09T06:42:29.463338Z",
     "shell.execute_reply": "2022-12-09T06:42:29.462737Z"
    },
    "papermill": {
     "duration": 1.09921,
     "end_time": "2022-12-09T06:42:29.465691",
     "exception": false,
     "start_time": "2022-12-09T06:42:28.366481",
     "status": "completed"
    },
    "tags": []
   },
   "outputs": [
    {
     "data": {
      "image/png": "[encoded data removed]",
      "text/plain": [
       "<Figure size 1600x800 with 10 Axes>"
      ]
     },
     "metadata": {},
     "output_type": "display_data"
    }
   ],
   "source": [
    "def plot_roc_curves(y, y_pred_probs):\n",
    "    # based on example code\n",
    "    # https://scikit-learn.org/stable/auto_examples/model_selection/plot_roc.html\n",
    "\n",
    "    fig, axs = plt.subplots(nrows=2, ncols=5, figsize=(16, 8))\n",
    "\n",
    "    roc_auc_dict = {}\n",
    "\n",
    "    for (r, c), digit, ax in zip(\n",
    "        it.product(range(2), range(5)), range(10), axs.reshape(-1)\n",
    "    ):\n",
    "        fpr, tpr, _ = metrics.roc_curve(y == digit, y_pred_probs[:, digit])\n",
    "        auc = metrics.auc(fpr, tpr)\n",
    "        roc_auc_dict[str(digit)] = auc\n",
    "\n",
    "        ax.plot(fpr, tpr, label=f\"ROC AUC={round(auc, 3)}\")\n",
    "\n",
    "        ax.set_title(f\"\\nDigit {digit}\", fontsize=16)\n",
    "        if r == 1:\n",
    "            ax.set_xlabel(\"FPR\", fontsize=18)\n",
    "\n",
    "        if c == 0:\n",
    "            ax.set_ylabel(\"TPR\", fontsize=18)\n",
    "\n",
    "        ax.set_xlim([-0.05, 1.05])\n",
    "        ax.set_ylim([-0.05, 1.05])\n",
    "        ax.legend(loc=\"lower right\", frameon=False, fontsize=14)\n",
    "\n",
    "    fig.tight_layout()\n",
    "    fig.suptitle(\n",
    "        f\"ROC plots for one-vs-rest performances \"\n",
    "        f\"(on evaluation data, n={y_pred_probs_test.shape[1]}\",\n",
    "        fontsize=22,\n",
    "    )\n",
    "    fig.tight_layout()\n",
    "    fig.show()\n",
    "\n",
    "    return roc_auc_dict, fig\n",
    "\n",
    "\n",
    "roc_auc_dict, fig = plot_roc_curves(y_test, y_pred_probs_test)"
   ]
  },
  {
   "cell_type": "code",
   "execution_count": 16,
   "id": "7dd26b3a",
   "metadata": {
    "execution": {
     "iopub.execute_input": "2022-12-09T06:42:29.480776Z",
     "iopub.status.busy": "2022-12-09T06:42:29.480432Z",
     "iopub.status.idle": "2022-12-09T06:42:29.729126Z",
     "shell.execute_reply": "2022-12-09T06:42:29.728263Z"
    },
    "papermill": {
     "duration": 0.258336,
     "end_time": "2022-12-09T06:42:29.731116",
     "exception": false,
     "start_time": "2022-12-09T06:42:29.472780",
     "status": "completed"
    },
    "tags": []
   },
   "outputs": [],
   "source": [
    "logger.log_figure(\"per-digit-roc-curves.png\", fig)"
   ]
  },
  {
   "cell_type": "code",
   "execution_count": 17,
   "id": "404c776d",
   "metadata": {
    "execution": {
     "iopub.execute_input": "2022-12-09T06:42:29.746810Z",
     "iopub.status.busy": "2022-12-09T06:42:29.746077Z",
     "iopub.status.idle": "2022-12-09T06:42:29.750916Z",
     "shell.execute_reply": "2022-12-09T06:42:29.750376Z"
    },
    "papermill": {
     "duration": 0.018254,
     "end_time": "2022-12-09T06:42:29.756562",
     "exception": false,
     "start_time": "2022-12-09T06:42:29.738308",
     "status": "completed"
    },
    "tags": []
   },
   "outputs": [
    {
     "data": {
      "text/plain": [
       "{'0': 1.0,\n",
       " '1': 0.9990627928772259,\n",
       " '2': 1.0,\n",
       " '3': 0.9998875351452671,\n",
       " '4': 0.9996570644718793,\n",
       " '5': 0.9994001874414246,\n",
       " '6': 0.999923792104862,\n",
       " '7': 0.9997713763145862,\n",
       " '8': 0.9950346784363178,\n",
       " '9': 0.9995808565767414}"
      ]
     },
     "execution_count": 17,
     "metadata": {},
     "output_type": "execute_result"
    }
   ],
   "source": [
    "roc_auc_dict"
   ]
  },
  {
   "cell_type": "code",
   "execution_count": 18,
   "id": "fa2ee645",
   "metadata": {
    "execution": {
     "iopub.execute_input": "2022-12-09T06:42:29.773502Z",
     "iopub.status.busy": "2022-12-09T06:42:29.772984Z",
     "iopub.status.idle": "2022-12-09T06:42:29.777626Z",
     "shell.execute_reply": "2022-12-09T06:42:29.776960Z"
    },
    "papermill": {
     "duration": 0.015305,
     "end_time": "2022-12-09T06:42:29.780723",
     "exception": false,
     "start_time": "2022-12-09T06:42:29.765418",
     "status": "completed"
    },
    "tags": []
   },
   "outputs": [
    {
     "name": "stdout",
     "output_type": "stream",
     "text": [
      " - Logging roc_auc_per_digit (json) : {'0': 1.0, '1': 0.9990627928772259, '2': 1.0, '3': 0.9998875351452671, '4': 0.9996570644718793, '5': 0.9994001874414246, '6': 0.999923792104862, '7': 0.9997713763145862, '8': 0.9950346784363178, '9': 0.9995808565767414}\n"
     ]
    }
   ],
   "source": [
    "logger.log_value(\"roc_auc_per_digit\", roc_auc_dict)"
   ]
  },
  {
   "cell_type": "markdown",
   "id": "ca14f666",
   "metadata": {
    "papermill": {
     "duration": 0.007207,
     "end_time": "2022-12-09T06:42:29.794731",
     "exception": false,
     "start_time": "2022-12-09T06:42:29.787524",
     "status": "completed"
    },
    "tags": []
   },
   "source": [
    "### Compute and log mean ROC AUC score averaged over all digits"
   ]
  },
  {
   "cell_type": "code",
   "execution_count": 19,
   "id": "c6a2695f",
   "metadata": {
    "execution": {
     "iopub.execute_input": "2022-12-09T06:42:29.809365Z",
     "iopub.status.busy": "2022-12-09T06:42:29.809089Z",
     "iopub.status.idle": "2022-12-09T06:42:29.821415Z",
     "shell.execute_reply": "2022-12-09T06:42:29.820721Z"
    },
    "papermill": {
     "duration": 0.021677,
     "end_time": "2022-12-09T06:42:29.823190",
     "exception": false,
     "start_time": "2022-12-09T06:42:29.801513",
     "status": "completed"
    },
    "tags": []
   },
   "outputs": [
    {
     "name": "stdout",
     "output_type": "stream",
     "text": [
      " - Logging roc_auc_class_mean (float) : 0.9992318283368304\n"
     ]
    }
   ],
   "source": [
    "roc_auc_macro = np.mean(list(roc_auc_dict.values()))\n",
    "\n",
    "logger.log_float(\"roc_auc_class_mean\", roc_auc_macro)\n",
    "\n",
    "# assert that the same value can be computed directly using sklearn\n",
    "assert roc_auc_macro == metrics.roc_auc_score(\n",
    "    y_test, y_pred_probs_test, average=\"macro\", multi_class=\"ovr\"\n",
    ")"
   ]
  },
  {
   "cell_type": "code",
   "execution_count": 20,
   "id": "683714cb",
   "metadata": {
    "execution": {
     "iopub.execute_input": "2022-12-09T06:42:29.838578Z",
     "iopub.status.busy": "2022-12-09T06:42:29.838128Z",
     "iopub.status.idle": "2022-12-09T06:42:29.841288Z",
     "shell.execute_reply": "2022-12-09T06:42:29.840570Z"
    },
    "lines_to_next_cell": 0,
    "papermill": {
     "duration": 0.015365,
     "end_time": "2022-12-09T06:42:29.845904",
     "exception": false,
     "start_time": "2022-12-09T06:42:29.830539",
     "status": "completed"
    },
    "tags": []
   },
   "outputs": [],
   "source": [
    "# ---"
   ]
  },
  {
   "cell_type": "code",
   "execution_count": null,
   "id": "de27bcc7",
   "metadata": {
    "papermill": {
     "duration": 0.007238,
     "end_time": "2022-12-09T06:42:29.861193",
     "exception": false,
     "start_time": "2022-12-09T06:42:29.853955",
     "status": "completed"
    },
    "tags": []
   },
   "outputs": [],
   "source": []
  }
 ],
 "metadata": {
  "jupytext": {
   "cell_metadata_filter": "tags,-all",
   "main_language": "python",
   "notebook_metadata_filter": "-all"
  },
  "language_info": {
   "codemirror_mode": {
    "name": "ipython",
    "version": 3
   },
   "file_extension": ".py",
   "mimetype": "text/x-python",
   "name": "python",
   "nbconvert_exporter": "python",
   "pygments_lexer": "ipython3",
   "version": "3.8.10"
  },
  "papermill": {
   "default_parameters": {},
   "duration": 9.970224,
   "end_time": "2022-12-09T06:42:30.987294",
   "environment_variables": {},
   "exception": null,
   "input_path": "/home/host_user/workspace/mnist-demo-pipeline/mnist-demo-pipeline/notebooks/temp-notebook-7zr100yq.ipynb",
   "output_path": "notebooks/benchmark-model.ipynb",
   "parameters": {
    "P": {
     "_opentelemetry_traceparent": "00-695f3a50fa78f53d1d682803a025c1f1-a9955322760763e1-01",
     "pipeline.data_lake_root": "/pipeline-outputs/data-lake",
     "pipeline.github.actor": "matiasdahl",
     "pipeline.github.base_ref": "",
     "pipeline.github.event_name": "schedule",
     "pipeline.github.head_ref": "",
     "pipeline.github.job": "run-tests-pipeline-and-persist-pipeline-outputs",
     "pipeline.github.ref": "refs/heads/development",
     "pipeline.github.ref_name": "development",
     "pipeline.github.ref_type": "branch",
     "pipeline.github.repository": "matiasdahl/dev-mnist-digits-demo-pipeline",
     "pipeline.github.run_id": "3655095314",
     "pipeline.github.runner_name": "Hosted Agent",
     "pipeline.github.sha": "ace0d01011d5e914f1921450dd5a59c11367b38d",
     "pipeline.github.workflow": "Run automated tests, pipeline and deploy results to static reporting site",
     "pipeline.pipeline_run_id": "9b5970ac-7ec2-46f5-8360-fabc5ab0ee08",
     "pipeline.run_environment": "ci",
     "run.retry_nr": "0",
     "task.max_nr_retries": "1",
     "task.notebook": "notebooks/benchmark-model.py",
     "task.nr_train_images": 1000,
     "task.num_cpus": 1,
     "task.timeout_s": "None"
    }
   },
   "start_time": "2022-12-09T06:42:21.017070",
   "version": "2.3.3"
  }
 },
 "nbformat": 4,
 "nbformat_minor": 5
}