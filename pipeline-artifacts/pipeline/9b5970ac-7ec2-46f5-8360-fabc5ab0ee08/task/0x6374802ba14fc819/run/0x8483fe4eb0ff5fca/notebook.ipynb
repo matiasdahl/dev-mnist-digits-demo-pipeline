{
 "cells": [
  {
   "cell_type": "markdown",
   "id": "9b4375cf",
   "metadata": {
    "papermill": {
     "duration": 0.004703,
     "end_time": "2022-12-09T06:42:16.082189",
     "exception": false,
     "start_time": "2022-12-09T06:42:16.077486",
     "status": "completed"
    },
    "tags": []
   },
   "source": [
    "# Train model\n",
    "\n",
    "The purpose of this notebook is:\n",
    "\n",
    "- Load all training data (images and labels).\n",
    "- Limit number of train images to `task.nr_train_images` (value provided as run parameter).\n",
    "- Train a support vector machine model using sklearn.\n",
    "- Persist the trained model using the ONNX format."
   ]
  },
  {
   "cell_type": "markdown",
   "id": "ac861753",
   "metadata": {
    "papermill": {
     "duration": 0.002954,
     "end_time": "2022-12-09T06:42:16.088347",
     "exception": false,
     "start_time": "2022-12-09T06:42:16.085393",
     "status": "completed"
    },
    "tags": []
   },
   "source": [
    "### Determine run parameters"
   ]
  },
  {
   "cell_type": "code",
   "execution_count": 1,
   "id": "ce527469",
   "metadata": {
    "execution": {
     "iopub.execute_input": "2022-12-09T06:42:16.095604Z",
     "iopub.status.busy": "2022-12-09T06:42:16.095314Z",
     "iopub.status.idle": "2022-12-09T06:42:16.109807Z",
     "shell.execute_reply": "2022-12-09T06:42:16.109263Z"
    },
    "lines_to_next_cell": 0,
    "papermill": {
     "duration": 0.020196,
     "end_time": "2022-12-09T06:42:16.111628",
     "exception": false,
     "start_time": "2022-12-09T06:42:16.091432",
     "status": "completed"
    },
    "tags": []
   },
   "outputs": [],
   "source": [
    "# ----------------- Parameters for interactive development --------------\n",
    "P = {\n",
    "    \"pipeline.data_lake_root\": \"/pipeline-outputs/data-lake\",\n",
    "    \"task.nr_train_images\": 600,\n",
    "}"
   ]
  },
  {
   "cell_type": "code",
   "execution_count": 2,
   "id": "47c455ec",
   "metadata": {
    "execution": {
     "iopub.execute_input": "2022-12-09T06:42:16.119331Z",
     "iopub.status.busy": "2022-12-09T06:42:16.119111Z",
     "iopub.status.idle": "2022-12-09T06:42:16.121772Z",
     "shell.execute_reply": "2022-12-09T06:42:16.121273Z"
    },
    "lines_to_next_cell": 0,
    "papermill": {
     "duration": 0.009223,
     "end_time": "2022-12-09T06:42:16.124443",
     "exception": false,
     "start_time": "2022-12-09T06:42:16.115220",
     "status": "completed"
    },
    "tags": [
     "parameters"
    ]
   },
   "outputs": [],
   "source": [
    "# - During automated runs parameters will be injected in the below cell -"
   ]
  },
  {
   "cell_type": "code",
   "execution_count": 3,
   "id": "409a7d50",
   "metadata": {
    "execution": {
     "iopub.execute_input": "2022-12-09T06:42:16.131499Z",
     "iopub.status.busy": "2022-12-09T06:42:16.130972Z",
     "iopub.status.idle": "2022-12-09T06:42:16.135907Z",
     "shell.execute_reply": "2022-12-09T06:42:16.135415Z"
    },
    "papermill": {
     "duration": 0.011678,
     "end_time": "2022-12-09T06:42:16.139130",
     "exception": false,
     "start_time": "2022-12-09T06:42:16.127452",
     "status": "completed"
    },
    "tags": [
     "injected-parameters"
    ]
   },
   "outputs": [],
   "source": [
    "# Parameters\n",
    "P = {\n",
    "    \"pipeline.data_lake_root\": \"/pipeline-outputs/data-lake\",\n",
    "    \"pipeline.run_environment\": \"ci\",\n",
    "    \"pipeline.pipeline_run_id\": \"9b5970ac-7ec2-46f5-8360-fabc5ab0ee08\",\n",
    "    \"pipeline.github.repository\": \"matiasdahl/dev-mnist-digits-demo-pipeline\",\n",
    "    \"pipeline.github.workflow\": \"Run automated tests, pipeline and deploy results to static reporting site\",\n",
    "    \"pipeline.github.runner_name\": \"Hosted Agent\",\n",
    "    \"pipeline.github.run_id\": \"3655095314\",\n",
    "    \"pipeline.github.actor\": \"matiasdahl\",\n",
    "    \"pipeline.github.job\": \"run-tests-pipeline-and-persist-pipeline-outputs\",\n",
    "    \"pipeline.github.base_ref\": \"\",\n",
    "    \"pipeline.github.head_ref\": \"\",\n",
    "    \"pipeline.github.sha\": \"ace0d01011d5e914f1921450dd5a59c11367b38d\",\n",
    "    \"pipeline.github.ref\": \"refs/heads/development\",\n",
    "    \"pipeline.github.ref_type\": \"branch\",\n",
    "    \"pipeline.github.ref_name\": \"development\",\n",
    "    \"pipeline.github.event_name\": \"schedule\",\n",
    "    \"task.nr_train_images\": 800,\n",
    "    \"task.notebook\": \"notebooks/train-model.py\",\n",
    "    \"task.max_nr_retries\": \"1\",\n",
    "    \"run.retry_nr\": \"0\",\n",
    "    \"task.timeout_s\": \"None\",\n",
    "    \"task.num_cpus\": 1,\n",
    "    \"_opentelemetry_traceparent\": \"00-695f3a50fa78f53d1d682803a025c1f1-5cf0f2c99f5759dd-01\",\n",
    "}\n"
   ]
  },
  {
   "cell_type": "code",
   "execution_count": 4,
   "id": "79757111",
   "metadata": {
    "execution": {
     "iopub.execute_input": "2022-12-09T06:42:16.145915Z",
     "iopub.status.busy": "2022-12-09T06:42:16.145708Z",
     "iopub.status.idle": "2022-12-09T06:42:16.148976Z",
     "shell.execute_reply": "2022-12-09T06:42:16.148466Z"
    },
    "lines_to_next_cell": 0,
    "papermill": {
     "duration": 0.009169,
     "end_time": "2022-12-09T06:42:16.151172",
     "exception": false,
     "start_time": "2022-12-09T06:42:16.142003",
     "status": "completed"
    },
    "tags": []
   },
   "outputs": [],
   "source": [
    "# -----------------------------------------------------------------------"
   ]
  },
  {
   "cell_type": "markdown",
   "id": "32335f45",
   "metadata": {
    "papermill": {
     "duration": 0.002806,
     "end_time": "2022-12-09T06:42:16.157001",
     "exception": false,
     "start_time": "2022-12-09T06:42:16.154195",
     "status": "completed"
    },
    "tags": []
   },
   "source": [
    "---"
   ]
  },
  {
   "cell_type": "markdown",
   "id": "51168d9b",
   "metadata": {
    "lines_to_next_cell": 2,
    "papermill": {
     "duration": 0.00314,
     "end_time": "2022-12-09T06:42:16.164717",
     "exception": false,
     "start_time": "2022-12-09T06:42:16.161577",
     "status": "completed"
    },
    "tags": []
   },
   "source": [
    "### Notebook code"
   ]
  },
  {
   "cell_type": "code",
   "execution_count": 5,
   "id": "ca0e90b7",
   "metadata": {
    "execution": {
     "iopub.execute_input": "2022-12-09T06:42:16.171657Z",
     "iopub.status.busy": "2022-12-09T06:42:16.171388Z",
     "iopub.status.idle": "2022-12-09T06:42:16.709547Z",
     "shell.execute_reply": "2022-12-09T06:42:16.708531Z"
    },
    "papermill": {
     "duration": 0.54387,
     "end_time": "2022-12-09T06:42:16.711363",
     "exception": false,
     "start_time": "2022-12-09T06:42:16.167493",
     "status": "completed"
    },
    "tags": []
   },
   "outputs": [
    {
     "name": "stderr",
     "output_type": "stream",
     "text": [
      "2022-12-09 06:42:16,538\tINFO worker.py:842 -- Connecting to existing Ray cluster at address: 172.17.0.2:6379\n"
     ]
    }
   ],
   "source": [
    "from pynb_dag_runner.tasks.task_opentelemetry_logging import PydarLogger\n",
    "\n",
    "logger = PydarLogger(P)"
   ]
  },
  {
   "cell_type": "markdown",
   "id": "41d5a2fc",
   "metadata": {
    "papermill": {
     "duration": 0.00637,
     "end_time": "2022-12-09T06:42:16.721348",
     "exception": false,
     "start_time": "2022-12-09T06:42:16.714978",
     "status": "completed"
    },
    "tags": []
   },
   "source": [
    "## Load and limit train data"
   ]
  },
  {
   "cell_type": "code",
   "execution_count": 6,
   "id": "e6fa2170",
   "metadata": {
    "execution": {
     "iopub.execute_input": "2022-12-09T06:42:16.736911Z",
     "iopub.status.busy": "2022-12-09T06:42:16.736167Z",
     "iopub.status.idle": "2022-12-09T06:42:17.170551Z",
     "shell.execute_reply": "2022-12-09T06:42:17.169909Z"
    },
    "papermill": {
     "duration": 0.446186,
     "end_time": "2022-12-09T06:42:17.173356",
     "exception": false,
     "start_time": "2022-12-09T06:42:16.727170",
     "status": "completed"
    },
    "tags": []
   },
   "outputs": [],
   "source": [
    "def load_and_limit_train_data(P):\n",
    "    from common.io import datalake_root, read_numpy\n",
    "    from sklearn.model_selection import train_test_split\n",
    "\n",
    "    X_train_all = read_numpy(datalake_root(P) / \"train-data\" / \"digits.numpy\")\n",
    "    y_train_all = read_numpy(datalake_root(P) / \"train-data\" / \"labels.numpy\")\n",
    "\n",
    "    assert isinstance(P[\"task.nr_train_images\"], int)\n",
    "\n",
    "    # Note: train_test_split will fail if split is 0 or 100%.\n",
    "    assert 0 < P[\"task.nr_train_images\"] < len(y_train_all)\n",
    "\n",
    "    X_train, _, y_train, _ = train_test_split(\n",
    "        X_train_all,\n",
    "        y_train_all,\n",
    "        train_size=P[\"task.nr_train_images\"],\n",
    "        test_size=None,\n",
    "        stratify=y_train_all,\n",
    "        shuffle=True,\n",
    "        random_state=123,\n",
    "    )\n",
    "\n",
    "    assert X_train.shape == (len(y_train), 8 * 8)\n",
    "    return X_train, y_train\n",
    "\n",
    "\n",
    "X_train, y_train = load_and_limit_train_data(P)"
   ]
  },
  {
   "cell_type": "markdown",
   "id": "78d78f88",
   "metadata": {
    "papermill": {
     "duration": 0.002825,
     "end_time": "2022-12-09T06:42:17.179867",
     "exception": false,
     "start_time": "2022-12-09T06:42:17.177042",
     "status": "completed"
    },
    "tags": []
   },
   "source": [
    "## Train support vector classifier model\n",
    "\n",
    "Below we assume that the hyperparameter $C$ is known.\n",
    "\n",
    "However, this should ideally be found by a hyperparameter search. That could be\n",
    "done in parallel on the Ray cluster, but this needs some more work. Ie., to use\n",
    "multiple cores in the notebook, those cores should be reserved when starting the\n",
    "notebook task (TODO).\n",
    "\n",
    "- https://docs.ray.io/en/latest/tune/key-concepts.html\n",
    "\n",
    "Note: cv-scores would need to be computed here, since they depend on the train data.\n",
    "After this notebook only the onnx-model is available."
   ]
  },
  {
   "cell_type": "code",
   "execution_count": 7,
   "id": "527c460c",
   "metadata": {
    "execution": {
     "iopub.execute_input": "2022-12-09T06:42:17.187235Z",
     "iopub.status.busy": "2022-12-09T06:42:17.186978Z",
     "iopub.status.idle": "2022-12-09T06:42:17.211151Z",
     "shell.execute_reply": "2022-12-09T06:42:17.210553Z"
    },
    "papermill": {
     "duration": 0.030107,
     "end_time": "2022-12-09T06:42:17.213047",
     "exception": false,
     "start_time": "2022-12-09T06:42:17.182940",
     "status": "completed"
    },
    "tags": []
   },
   "outputs": [],
   "source": [
    "from sklearn.svm import SVC"
   ]
  },
  {
   "cell_type": "code",
   "execution_count": 8,
   "id": "c11eaa74",
   "metadata": {
    "execution": {
     "iopub.execute_input": "2022-12-09T06:42:17.221965Z",
     "iopub.status.busy": "2022-12-09T06:42:17.221525Z",
     "iopub.status.idle": "2022-12-09T06:42:17.311225Z",
     "shell.execute_reply": "2022-12-09T06:42:17.310690Z"
    },
    "papermill": {
     "duration": 0.095711,
     "end_time": "2022-12-09T06:42:17.312990",
     "exception": false,
     "start_time": "2022-12-09T06:42:17.217279",
     "status": "completed"
    },
    "tags": []
   },
   "outputs": [
    {
     "data": {
      "text/html": [
       "<style>#sk-container-id-1 {color: black;background-color: white;}#sk-container-id-1 pre{padding: 0;}#sk-container-id-1 div.sk-toggleable {background-color: white;}#sk-container-id-1 label.sk-toggleable__label {cursor: pointer;display: block;width: 100%;margin-bottom: 0;padding: 0.3em;box-sizing: border-box;text-align: center;}#sk-container-id-1 label.sk-toggleable__label-arrow:before {content: \"▸\";float: left;margin-right: 0.25em;color: #696969;}#sk-container-id-1 label.sk-toggleable__label-arrow:hover:before {color: black;}#sk-container-id-1 div.sk-estimator:hover label.sk-toggleable__label-arrow:before {color: black;}#sk-container-id-1 div.sk-toggleable__content {max-height: 0;max-width: 0;overflow: hidden;text-align: left;background-color: #f0f8ff;}#sk-container-id-1 div.sk-toggleable__content pre {margin: 0.2em;color: black;border-radius: 0.25em;background-color: #f0f8ff;}#sk-container-id-1 input.sk-toggleable__control:checked~div.sk-toggleable__content {max-height: 200px;max-width: 100%;overflow: auto;}#sk-container-id-1 input.sk-toggleable__control:checked~label.sk-toggleable__label-arrow:before {content: \"▾\";}#sk-container-id-1 div.sk-estimator input.sk-toggleable__control:checked~label.sk-toggleable__label {background-color: #d4ebff;}#sk-container-id-1 div.sk-label input.sk-toggleable__control:checked~label.sk-toggleable__label {background-color: #d4ebff;}#sk-container-id-1 input.sk-hidden--visually {border: 0;clip: rect(1px 1px 1px 1px);clip: rect(1px, 1px, 1px, 1px);height: 1px;margin: -1px;overflow: hidden;padding: 0;position: absolute;width: 1px;}#sk-container-id-1 div.sk-estimator {font-family: monospace;background-color: #f0f8ff;border: 1px dotted black;border-radius: 0.25em;box-sizing: border-box;margin-bottom: 0.5em;}#sk-container-id-1 div.sk-estimator:hover {background-color: #d4ebff;}#sk-container-id-1 div.sk-parallel-item::after {content: \"\";width: 100%;border-bottom: 1px solid gray;flex-grow: 1;}#sk-container-id-1 div.sk-label:hover label.sk-toggleable__label {background-color: #d4ebff;}#sk-container-id-1 div.sk-serial::before {content: \"\";position: absolute;border-left: 1px solid gray;box-sizing: border-box;top: 0;bottom: 0;left: 50%;z-index: 0;}#sk-container-id-1 div.sk-serial {display: flex;flex-direction: column;align-items: center;background-color: white;padding-right: 0.2em;padding-left: 0.2em;position: relative;}#sk-container-id-1 div.sk-item {position: relative;z-index: 1;}#sk-container-id-1 div.sk-parallel {display: flex;align-items: stretch;justify-content: center;background-color: white;position: relative;}#sk-container-id-1 div.sk-item::before, #sk-container-id-1 div.sk-parallel-item::before {content: \"\";position: absolute;border-left: 1px solid gray;box-sizing: border-box;top: 0;bottom: 0;left: 50%;z-index: -1;}#sk-container-id-1 div.sk-parallel-item {display: flex;flex-direction: column;z-index: 1;position: relative;background-color: white;}#sk-container-id-1 div.sk-parallel-item:first-child::after {align-self: flex-end;width: 50%;}#sk-container-id-1 div.sk-parallel-item:last-child::after {align-self: flex-start;width: 50%;}#sk-container-id-1 div.sk-parallel-item:only-child::after {width: 0;}#sk-container-id-1 div.sk-dashed-wrapped {border: 1px dashed gray;margin: 0 0.4em 0.5em 0.4em;box-sizing: border-box;padding-bottom: 0.4em;background-color: white;}#sk-container-id-1 div.sk-label label {font-family: monospace;font-weight: bold;display: inline-block;line-height: 1.2em;}#sk-container-id-1 div.sk-label-container {text-align: center;}#sk-container-id-1 div.sk-container {/* jupyter's `normalize.less` sets `[hidden] { display: none; }` but bootstrap.min.css set `[hidden] { display: none !important; }` so we also need the `!important` here to be able to override the default hidden behavior on the sphinx rendered scikit-learn.org. See: https://github.com/scikit-learn/scikit-learn/issues/21755 */display: inline-block !important;position: relative;}#sk-container-id-1 div.sk-text-repr-fallback {display: none;}</style><div id=\"sk-container-id-1\" class=\"sk-top-container\"><div class=\"sk-text-repr-fallback\"><pre>SVC(C=0.001, kernel=&#x27;linear&#x27;, probability=True)</pre><b>In a Jupyter environment, please rerun this cell to show the HTML representation or trust the notebook. <br />On GitHub, the HTML representation is unable to render, please try loading this page with nbviewer.org.</b></div><div class=\"sk-container\" hidden><div class=\"sk-item\"><div class=\"sk-estimator sk-toggleable\"><input class=\"sk-toggleable__control sk-hidden--visually\" id=\"sk-estimator-id-1\" type=\"checkbox\" checked><label for=\"sk-estimator-id-1\" class=\"sk-toggleable__label sk-toggleable__label-arrow\">SVC</label><div class=\"sk-toggleable__content\"><pre>SVC(C=0.001, kernel=&#x27;linear&#x27;, probability=True)</pre></div></div></div></div></div>"
      ],
      "text/plain": [
       "SVC(C=0.001, kernel='linear', probability=True)"
      ]
     },
     "execution_count": 8,
     "metadata": {},
     "output_type": "execute_result"
    }
   ],
   "source": [
    "model = SVC(C=0.001, kernel=\"linear\", probability=True)\n",
    "\n",
    "model.fit(X_train, y_train)"
   ]
  },
  {
   "cell_type": "markdown",
   "id": "9796bcd5",
   "metadata": {
    "papermill": {
     "duration": 0.003489,
     "end_time": "2022-12-09T06:42:17.321023",
     "exception": false,
     "start_time": "2022-12-09T06:42:17.317534",
     "status": "completed"
    },
    "tags": []
   },
   "source": [
    "### Q: Can the labels returned by `predict(..)` be computed from probabilities returned by the `predict_prob`-method?"
   ]
  },
  {
   "cell_type": "code",
   "execution_count": 9,
   "id": "230e56a2",
   "metadata": {
    "execution": {
     "iopub.execute_input": "2022-12-09T06:42:17.329420Z",
     "iopub.status.busy": "2022-12-09T06:42:17.329173Z",
     "iopub.status.idle": "2022-12-09T06:42:17.370630Z",
     "shell.execute_reply": "2022-12-09T06:42:17.370085Z"
    },
    "papermill": {
     "duration": 0.047954,
     "end_time": "2022-12-09T06:42:17.372191",
     "exception": false,
     "start_time": "2022-12-09T06:42:17.324237",
     "status": "completed"
    },
    "tags": []
   },
   "outputs": [
    {
     "name": "stdout",
     "output_type": "stream",
     "text": [
      " - Logging nr_max_prob_neq_label (int) : 1\n"
     ]
    }
   ],
   "source": [
    "import numpy as np\n",
    "\n",
    "y_train_labels = model.predict(X_train)\n",
    "y_train_probabilities = model.predict_proba(X_train)\n",
    "assert y_train_probabilities.shape == (len(y_train), 10)\n",
    "\n",
    "y_train_max_prob_labels = np.argmax(y_train_probabilities, axis=1)\n",
    "assert y_train_labels.shape == y_train_max_prob_labels.shape == y_train.shape\n",
    "\n",
    "# If the predicted labels would coincide with the labels that have\n",
    "# maximum probability, the below number would be zero\n",
    "logger.log_int(\n",
    "    \"nr_max_prob_neq_label\", int(sum(y_train_max_prob_labels != y_train_labels))\n",
    ")"
   ]
  },
  {
   "cell_type": "markdown",
   "id": "79e0780e",
   "metadata": {
    "papermill": {
     "duration": 0.003725,
     "end_time": "2022-12-09T06:42:17.379454",
     "exception": false,
     "start_time": "2022-12-09T06:42:17.375729",
     "status": "completed"
    },
    "tags": []
   },
   "source": [
    "The explanation is (likely) explained in the SVC source, see\n",
    "[here](https://github.com/scikit-learn/scikit-learn/blob/main/sklearn/svm/_base.py).\n",
    "Namely, the outputs from `predict(..)` and `predict_proba(..)` may not in some\n",
    "cases be compatible since the latter is computed using cross-validation while\n",
    "the former is not. Thus, the above number need not be zero."
   ]
  },
  {
   "cell_type": "markdown",
   "id": "a22ea0be",
   "metadata": {
    "papermill": {
     "duration": 0.003491,
     "end_time": "2022-12-09T06:42:17.386713",
     "exception": false,
     "start_time": "2022-12-09T06:42:17.383222",
     "status": "completed"
    },
    "tags": []
   },
   "source": [
    "## Persist model"
   ]
  },
  {
   "cell_type": "code",
   "execution_count": 10,
   "id": "38ad78d7",
   "metadata": {
    "execution": {
     "iopub.execute_input": "2022-12-09T06:42:17.394360Z",
     "iopub.status.busy": "2022-12-09T06:42:17.394121Z",
     "iopub.status.idle": "2022-12-09T06:42:18.222834Z",
     "shell.execute_reply": "2022-12-09T06:42:18.221855Z"
    },
    "papermill": {
     "duration": 0.835038,
     "end_time": "2022-12-09T06:42:18.225122",
     "exception": false,
     "start_time": "2022-12-09T06:42:17.390084",
     "status": "completed"
    },
    "tags": []
   },
   "outputs": [],
   "source": [
    "from skl2onnx import convert_sklearn\n",
    "from skl2onnx.common.data_types import FloatTensorType\n",
    "\n",
    "#\n",
    "from common.io import datalake_root, write_onnx"
   ]
  },
  {
   "cell_type": "code",
   "execution_count": 11,
   "id": "6e665678",
   "metadata": {
    "execution": {
     "iopub.execute_input": "2022-12-09T06:42:18.234754Z",
     "iopub.status.busy": "2022-12-09T06:42:18.234211Z",
     "iopub.status.idle": "2022-12-09T06:42:18.281366Z",
     "shell.execute_reply": "2022-12-09T06:42:18.280588Z"
    },
    "papermill": {
     "duration": 0.053761,
     "end_time": "2022-12-09T06:42:18.283402",
     "exception": false,
     "start_time": "2022-12-09T06:42:18.229641",
     "status": "completed"
    },
    "tags": []
   },
   "outputs": [],
   "source": [
    "# convert sklearn model into onnx and persist to data lake\n",
    "\n",
    "model_onnx = convert_sklearn(\n",
    "    model, initial_types=[(\"float_input_8x8_image\", FloatTensorType([None, 8 * 8]))]\n",
    ")\n",
    "write_onnx(\n",
    "    datalake_root(P)\n",
    "    / \"models\"\n",
    "    / f\"nr_train_images={P['task.nr_train_images']}\"\n",
    "    / \"model.onnx\",\n",
    "    model_onnx,\n",
    ")"
   ]
  },
  {
   "cell_type": "code",
   "execution_count": null,
   "id": "4c19b99d",
   "metadata": {
    "papermill": {
     "duration": 0.004506,
     "end_time": "2022-12-09T06:42:18.291511",
     "exception": false,
     "start_time": "2022-12-09T06:42:18.287005",
     "status": "completed"
    },
    "tags": []
   },
   "outputs": [],
   "source": []
  }
 ],
 "metadata": {
  "jupytext": {
   "cell_metadata_filter": "tags,-all",
   "main_language": "python",
   "notebook_metadata_filter": "-all"
  },
  "language_info": {
   "codemirror_mode": {
    "name": "ipython",
    "version": 3
   },
   "file_extension": ".py",
   "mimetype": "text/x-python",
   "name": "python",
   "nbconvert_exporter": "python",
   "pygments_lexer": "ipython3",
   "version": "3.8.10"
  },
  "papermill": {
   "default_parameters": {},
   "duration": 4.990955,
   "end_time": "2022-12-09T06:42:19.621648",
   "environment_variables": {},
   "exception": null,
   "input_path": "/home/host_user/workspace/mnist-demo-pipeline/mnist-demo-pipeline/notebooks/temp-notebook-vebiwqkj.ipynb",
   "output_path": "notebooks/train-model.ipynb",
   "parameters": {
    "P": {
     "_opentelemetry_traceparent": "00-695f3a50fa78f53d1d682803a025c1f1-5cf0f2c99f5759dd-01",
     "pipeline.data_lake_root": "/pipeline-outputs/data-lake",
     "pipeline.github.actor": "matiasdahl",
     "pipeline.github.base_ref": "",
     "pipeline.github.event_name": "schedule",
     "pipeline.github.head_ref": "",
     "pipeline.github.job": "run-tests-pipeline-and-persist-pipeline-outputs",
     "pipeline.github.ref": "refs/heads/development",
     "pipeline.github.ref_name": "development",
     "pipeline.github.ref_type": "branch",
     "pipeline.github.repository": "matiasdahl/dev-mnist-digits-demo-pipeline",
     "pipeline.github.run_id": "3655095314",
     "pipeline.github.runner_name": "Hosted Agent",
     "pipeline.github.sha": "ace0d01011d5e914f1921450dd5a59c11367b38d",
     "pipeline.github.workflow": "Run automated tests, pipeline and deploy results to static reporting site",
     "pipeline.pipeline_run_id": "9b5970ac-7ec2-46f5-8360-fabc5ab0ee08",
     "pipeline.run_environment": "ci",
     "run.retry_nr": "0",
     "task.max_nr_retries": "1",
     "task.notebook": "notebooks/train-model.py",
     "task.nr_train_images": 800,
     "task.num_cpus": 1,
     "task.timeout_s": "None"
    }
   },
   "start_time": "2022-12-09T06:42:14.630693",
   "version": "2.3.3"
  }
 },
 "nbformat": 4,
 "nbformat_minor": 5
}