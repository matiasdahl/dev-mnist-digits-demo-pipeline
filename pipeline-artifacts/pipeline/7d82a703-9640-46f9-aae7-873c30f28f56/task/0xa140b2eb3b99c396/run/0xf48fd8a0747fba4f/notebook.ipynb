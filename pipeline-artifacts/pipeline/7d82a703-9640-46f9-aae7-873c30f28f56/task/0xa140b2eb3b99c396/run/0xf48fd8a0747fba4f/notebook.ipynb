{
 "cells": [
  {
   "cell_type": "markdown",
   "id": "98fc37c0",
   "metadata": {
    "papermill": {
     "duration": 0.004128,
     "end_time": "2022-12-15T06:43:26.235440",
     "exception": false,
     "start_time": "2022-12-15T06:43:26.231312",
     "status": "completed"
    },
    "tags": []
   },
   "source": [
    "# Ingest toy version of MNIST digit data from sklearn"
   ]
  },
  {
   "cell_type": "markdown",
   "id": "73bd5b7f",
   "metadata": {
    "papermill": {
     "duration": 0.003192,
     "end_time": "2022-12-15T06:43:26.241778",
     "exception": false,
     "start_time": "2022-12-15T06:43:26.238586",
     "status": "completed"
    },
    "tags": []
   },
   "source": [
    "### Determine run parameters"
   ]
  },
  {
   "cell_type": "code",
   "execution_count": 1,
   "id": "b8d05184",
   "metadata": {
    "execution": {
     "iopub.execute_input": "2022-12-15T06:43:26.249608Z",
     "iopub.status.busy": "2022-12-15T06:43:26.248363Z",
     "iopub.status.idle": "2022-12-15T06:43:26.258702Z",
     "shell.execute_reply": "2022-12-15T06:43:26.257392Z"
    },
    "lines_to_next_cell": 0,
    "papermill": {
     "duration": 0.017318,
     "end_time": "2022-12-15T06:43:26.261824",
     "exception": false,
     "start_time": "2022-12-15T06:43:26.244506",
     "status": "completed"
    },
    "tags": []
   },
   "outputs": [],
   "source": [
    "# ----------------- Parameters for interactive development --------------\n",
    "P = {\n",
    "    \"pipeline.run_environment\": \"dev\",\n",
    "    \"pipeline.data_lake_root\": \"/pipeline-outputs/data-lake\",\n",
    "    \"run.retry_nr\": \"1\",\n",
    "}"
   ]
  },
  {
   "cell_type": "code",
   "execution_count": 2,
   "id": "bd709889",
   "metadata": {
    "execution": {
     "iopub.execute_input": "2022-12-15T06:43:26.268792Z",
     "iopub.status.busy": "2022-12-15T06:43:26.268295Z",
     "iopub.status.idle": "2022-12-15T06:43:26.271826Z",
     "shell.execute_reply": "2022-12-15T06:43:26.271248Z"
    },
    "lines_to_next_cell": 0,
    "papermill": {
     "duration": 0.008871,
     "end_time": "2022-12-15T06:43:26.273572",
     "exception": false,
     "start_time": "2022-12-15T06:43:26.264701",
     "status": "completed"
    },
    "tags": [
     "parameters"
    ]
   },
   "outputs": [],
   "source": [
    "# - During automated runs parameters will be injected in the below cell -"
   ]
  },
  {
   "cell_type": "code",
   "execution_count": 3,
   "id": "b39f23d3",
   "metadata": {
    "execution": {
     "iopub.execute_input": "2022-12-15T06:43:26.280658Z",
     "iopub.status.busy": "2022-12-15T06:43:26.280387Z",
     "iopub.status.idle": "2022-12-15T06:43:26.286488Z",
     "shell.execute_reply": "2022-12-15T06:43:26.285795Z"
    },
    "papermill": {
     "duration": 0.012648,
     "end_time": "2022-12-15T06:43:26.289083",
     "exception": false,
     "start_time": "2022-12-15T06:43:26.276435",
     "status": "completed"
    },
    "tags": [
     "injected-parameters"
    ]
   },
   "outputs": [],
   "source": [
    "# Parameters\n",
    "P = {\n",
    "    \"pipeline.data_lake_root\": \"/pipeline-outputs/data-lake\",\n",
    "    \"pipeline.run_environment\": \"ci\",\n",
    "    \"pipeline.pipeline_run_id\": \"7d82a703-9640-46f9-aae7-873c30f28f56\",\n",
    "    \"pipeline.github.repository\": \"matiasdahl/dev-mnist-digits-demo-pipeline\",\n",
    "    \"pipeline.github.workflow\": \"Run automated tests, pipeline and deploy results to static reporting site\",\n",
    "    \"pipeline.github.runner_name\": \"Hosted Agent\",\n",
    "    \"pipeline.github.run_id\": \"3701709453\",\n",
    "    \"pipeline.github.actor\": \"matiasdahl\",\n",
    "    \"pipeline.github.job\": \"run-tests-pipeline-and-persist-pipeline-outputs\",\n",
    "    \"pipeline.github.base_ref\": \"\",\n",
    "    \"pipeline.github.head_ref\": \"\",\n",
    "    \"pipeline.github.sha\": \"ace0d01011d5e914f1921450dd5a59c11367b38d\",\n",
    "    \"pipeline.github.ref\": \"refs/heads/development\",\n",
    "    \"pipeline.github.ref_type\": \"branch\",\n",
    "    \"pipeline.github.ref_name\": \"development\",\n",
    "    \"pipeline.github.event_name\": \"schedule\",\n",
    "    \"task.notebook\": \"notebooks/ingest.py\",\n",
    "    \"task.max_nr_retries\": \"15\",\n",
    "    \"run.retry_nr\": \"10\",\n",
    "    \"task.timeout_s\": \"10\",\n",
    "    \"task.num_cpus\": 1,\n",
    "    \"_opentelemetry_traceparent\": \"00-e6c434243e35448fc318c1f3aee023bf-e60ac53d345f7ec6-01\",\n",
    "}\n"
   ]
  },
  {
   "cell_type": "code",
   "execution_count": 4,
   "id": "9fdbb9a8",
   "metadata": {
    "execution": {
     "iopub.execute_input": "2022-12-15T06:43:26.297231Z",
     "iopub.status.busy": "2022-12-15T06:43:26.295964Z",
     "iopub.status.idle": "2022-12-15T06:43:26.299928Z",
     "shell.execute_reply": "2022-12-15T06:43:26.299282Z"
    },
    "lines_to_next_cell": 0,
    "papermill": {
     "duration": 0.00991,
     "end_time": "2022-12-15T06:43:26.302022",
     "exception": false,
     "start_time": "2022-12-15T06:43:26.292112",
     "status": "completed"
    },
    "tags": []
   },
   "outputs": [],
   "source": [
    "# -----------------------------------------------------------------------"
   ]
  },
  {
   "cell_type": "markdown",
   "id": "1b3da6bd",
   "metadata": {
    "lines_to_next_cell": 2,
    "papermill": {
     "duration": 0.002705,
     "end_time": "2022-12-15T06:43:26.307807",
     "exception": false,
     "start_time": "2022-12-15T06:43:26.305102",
     "status": "completed"
    },
    "tags": []
   },
   "source": [
    "---"
   ]
  },
  {
   "cell_type": "markdown",
   "id": "79a907b4",
   "metadata": {
    "papermill": {
     "duration": 0.002867,
     "end_time": "2022-12-15T06:43:26.313696",
     "exception": false,
     "start_time": "2022-12-15T06:43:26.310829",
     "status": "completed"
    },
    "tags": []
   },
   "source": [
    "### Simulate different types of failures (for testing timeout and retry logic)"
   ]
  },
  {
   "cell_type": "code",
   "execution_count": 5,
   "id": "499b54f2",
   "metadata": {
    "execution": {
     "iopub.execute_input": "2022-12-15T06:43:26.323155Z",
     "iopub.status.busy": "2022-12-15T06:43:26.322827Z",
     "iopub.status.idle": "2022-12-15T06:43:26.877847Z",
     "shell.execute_reply": "2022-12-15T06:43:26.877016Z"
    },
    "papermill": {
     "duration": 0.564346,
     "end_time": "2022-12-15T06:43:26.880653",
     "exception": false,
     "start_time": "2022-12-15T06:43:26.316307",
     "status": "completed"
    },
    "tags": []
   },
   "outputs": [
    {
     "name": "stderr",
     "output_type": "stream",
     "text": [
      "2022-12-15 06:43:26,710\tINFO worker.py:842 -- Connecting to existing Ray cluster at address: 172.17.0.2:6379\n"
     ]
    }
   ],
   "source": [
    "from pynb_dag_runner.tasks.task_opentelemetry_logging import PydarLogger\n",
    "\n",
    "logger = PydarLogger(P)"
   ]
  },
  {
   "cell_type": "code",
   "execution_count": 6,
   "id": "14dd298d",
   "metadata": {
    "execution": {
     "iopub.execute_input": "2022-12-15T06:43:26.890120Z",
     "iopub.status.busy": "2022-12-15T06:43:26.889006Z",
     "iopub.status.idle": "2022-12-15T06:43:26.897340Z",
     "shell.execute_reply": "2022-12-15T06:43:26.896661Z"
    },
    "papermill": {
     "duration": 0.014545,
     "end_time": "2022-12-15T06:43:26.899206",
     "exception": false,
     "start_time": "2022-12-15T06:43:26.884661",
     "status": "completed"
    },
    "tags": []
   },
   "outputs": [],
   "source": [
    "import time, random\n",
    "\n",
    "\n",
    "def maybe_crash(retry_nr: int, run_environment: str):\n",
    "    if retry_nr == 2 and run_environment == \"ci\":\n",
    "        time.sleep(1e6)\n",
    "\n",
    "    max_retry_nr: int = 3 if run_environment == \"dev\" else 10\n",
    "\n",
    "    if retry_nr < max_retry_nr:\n",
    "        if random.random() < 0.1:\n",
    "            time.sleep(1e6)\n",
    "        else:\n",
    "            raise Exception(\"Simulated exception failure from ingestion step notebook!\")\n",
    "\n",
    "\n",
    "maybe_crash(\n",
    "    retry_nr=int(P[\"run.retry_nr\"]), run_environment=P[\"pipeline.run_environment\"]\n",
    ")"
   ]
  },
  {
   "cell_type": "markdown",
   "id": "29b40805",
   "metadata": {
    "lines_to_next_cell": 2,
    "papermill": {
     "duration": 0.003248,
     "end_time": "2022-12-15T06:43:26.906627",
     "exception": false,
     "start_time": "2022-12-15T06:43:26.903379",
     "status": "completed"
    },
    "tags": []
   },
   "source": [
    "### Notebook code"
   ]
  },
  {
   "cell_type": "code",
   "execution_count": 7,
   "id": "1015fc6a",
   "metadata": {
    "execution": {
     "iopub.execute_input": "2022-12-15T06:43:26.915543Z",
     "iopub.status.busy": "2022-12-15T06:43:26.914987Z",
     "iopub.status.idle": "2022-12-15T06:43:28.608387Z",
     "shell.execute_reply": "2022-12-15T06:43:28.607606Z"
    },
    "papermill": {
     "duration": 1.700912,
     "end_time": "2022-12-15T06:43:28.611048",
     "exception": false,
     "start_time": "2022-12-15T06:43:26.910136",
     "status": "completed"
    },
    "tags": []
   },
   "outputs": [
    {
     "name": "stderr",
     "output_type": "stream",
     "text": [
      "2022-12-15 06:43:28,595\tWARNING worker.py:1245 -- (ip=172.17.0.2) The agent on node 57f8d65727ce failed to be restarted 5 times. There are 3 possible problems if you see this error.\n",
      "  1. The dashboard might not display correct information on this node.\n",
      "  2. Metrics on this node won't be reported.\n",
      "  3. runtime_env APIs won't work.\n",
      "Check out the `dashboard_agent.log` to see the detailed failure messages.\n"
     ]
    }
   ],
   "source": [
    "from sklearn import datasets\n",
    "\n",
    "#\n",
    "from common.io import datalake_root, write_numpy"
   ]
  },
  {
   "cell_type": "code",
   "execution_count": 8,
   "id": "640becb4",
   "metadata": {
    "execution": {
     "iopub.execute_input": "2022-12-15T06:43:28.621834Z",
     "iopub.status.busy": "2022-12-15T06:43:28.620964Z",
     "iopub.status.idle": "2022-12-15T06:43:28.641420Z",
     "shell.execute_reply": "2022-12-15T06:43:28.640278Z"
    },
    "lines_to_next_cell": 2,
    "papermill": {
     "duration": 0.028708,
     "end_time": "2022-12-15T06:43:28.643881",
     "exception": false,
     "start_time": "2022-12-15T06:43:28.615173",
     "status": "completed"
    },
    "tags": []
   },
   "outputs": [],
   "source": [
    "digits = datasets.load_digits()\n",
    "\n",
    "X = digits[\"data\"]\n",
    "y = digits[\"target\"]"
   ]
  },
  {
   "cell_type": "code",
   "execution_count": 9,
   "id": "6dd2393f",
   "metadata": {
    "execution": {
     "iopub.execute_input": "2022-12-15T06:43:28.652727Z",
     "iopub.status.busy": "2022-12-15T06:43:28.651903Z",
     "iopub.status.idle": "2022-12-15T06:43:28.670048Z",
     "shell.execute_reply": "2022-12-15T06:43:28.669254Z"
    },
    "papermill": {
     "duration": 0.025331,
     "end_time": "2022-12-15T06:43:28.672374",
     "exception": false,
     "start_time": "2022-12-15T06:43:28.647043",
     "status": "completed"
    },
    "tags": []
   },
   "outputs": [
    {
     "name": "stdout",
     "output_type": "stream",
     "text": [
      " - Logging data_shape (json) : [1797, 64]\n",
      " - Logging target_shape (json) : [1797]\n"
     ]
    },
    {
     "data": {
      "text/plain": [
       "((1797, 64), (1797,))"
      ]
     },
     "execution_count": 9,
     "metadata": {},
     "output_type": "execute_result"
    }
   ],
   "source": [
    "logger.log_value(\"data_shape\", list(X.shape))\n",
    "logger.log_value(\"target_shape\", list(y.shape))\n",
    "\n",
    "X.shape, y.shape"
   ]
  },
  {
   "cell_type": "code",
   "execution_count": 10,
   "id": "ac0f2b77",
   "metadata": {
    "execution": {
     "iopub.execute_input": "2022-12-15T06:43:28.681575Z",
     "iopub.status.busy": "2022-12-15T06:43:28.680914Z",
     "iopub.status.idle": "2022-12-15T06:43:28.693421Z",
     "shell.execute_reply": "2022-12-15T06:43:28.692589Z"
    },
    "papermill": {
     "duration": 0.019737,
     "end_time": "2022-12-15T06:43:28.696195",
     "exception": false,
     "start_time": "2022-12-15T06:43:28.676458",
     "status": "completed"
    },
    "tags": []
   },
   "outputs": [],
   "source": [
    "write_numpy(datalake_root(P) / \"raw\" / \"digits.numpy\", X)\n",
    "write_numpy(datalake_root(P) / \"raw\" / \"labels.numpy\", y)"
   ]
  },
  {
   "cell_type": "code",
   "execution_count": null,
   "id": "ee8fd7b5",
   "metadata": {
    "papermill": {
     "duration": 0.004711,
     "end_time": "2022-12-15T06:43:28.704316",
     "exception": false,
     "start_time": "2022-12-15T06:43:28.699605",
     "status": "completed"
    },
    "tags": []
   },
   "outputs": [],
   "source": []
  }
 ],
 "metadata": {
  "jupytext": {
   "cell_metadata_filter": "tags,-all",
   "main_language": "python",
   "notebook_metadata_filter": "-all"
  },
  "language_info": {
   "codemirror_mode": {
    "name": "ipython",
    "version": 3
   },
   "file_extension": ".py",
   "mimetype": "text/x-python",
   "name": "python",
   "nbconvert_exporter": "python",
   "pygments_lexer": "ipython3",
   "version": "3.8.10"
  },
  "papermill": {
   "default_parameters": {},
   "duration": 4.782814,
   "end_time": "2022-12-15T06:43:29.629633",
   "environment_variables": {},
   "exception": null,
   "input_path": "/home/host_user/workspace/mnist-demo-pipeline/mnist-demo-pipeline/notebooks/temp-notebook-cw4ek0tp.ipynb",
   "output_path": "notebooks/ingest.ipynb",
   "parameters": {
    "P": {
     "_opentelemetry_traceparent": "00-e6c434243e35448fc318c1f3aee023bf-e60ac53d345f7ec6-01",
     "pipeline.data_lake_root": "/pipeline-outputs/data-lake",
     "pipeline.github.actor": "matiasdahl",
     "pipeline.github.base_ref": "",
     "pipeline.github.event_name": "schedule",
     "pipeline.github.head_ref": "",
     "pipeline.github.job": "run-tests-pipeline-and-persist-pipeline-outputs",
     "pipeline.github.ref": "refs/heads/development",
     "pipeline.github.ref_name": "development",
     "pipeline.github.ref_type": "branch",
     "pipeline.github.repository": "matiasdahl/dev-mnist-digits-demo-pipeline",
     "pipeline.github.run_id": "3701709453",
     "pipeline.github.runner_name": "Hosted Agent",
     "pipeline.github.sha": "ace0d01011d5e914f1921450dd5a59c11367b38d",
     "pipeline.github.workflow": "Run automated tests, pipeline and deploy results to static reporting site",
     "pipeline.pipeline_run_id": "7d82a703-9640-46f9-aae7-873c30f28f56",
     "pipeline.run_environment": "ci",
     "run.retry_nr": "10",
     "task.max_nr_retries": "15",
     "task.notebook": "notebooks/ingest.py",
     "task.num_cpus": 1,
     "task.timeout_s": "10"
    }
   },
   "start_time": "2022-12-15T06:43:24.846819",
   "version": "2.3.3"
  }
 },
 "nbformat": 4,
 "nbformat_minor": 5
}