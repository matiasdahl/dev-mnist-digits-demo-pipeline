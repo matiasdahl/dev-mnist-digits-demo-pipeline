{
 "cells": [
  {
   "cell_type": "markdown",
   "id": "00d05635",
   "metadata": {
    "papermill": {
     "duration": 0.00789,
     "end_time": "2022-12-15T06:44:01.867569",
     "exception": false,
     "start_time": "2022-12-15T06:44:01.859679",
     "status": "completed"
    },
    "tags": []
   },
   "source": [
    "# Benchmark model\n",
    "\n",
    "The purpose of this notebook is to benchmark persisted onnx-model (trained in the\n",
    "previous step) against evaluation set."
   ]
  },
  {
   "cell_type": "markdown",
   "id": "578c9e3f",
   "metadata": {
    "papermill": {
     "duration": 0.007823,
     "end_time": "2022-12-15T06:44:01.882073",
     "exception": false,
     "start_time": "2022-12-15T06:44:01.874250",
     "status": "completed"
    },
    "tags": []
   },
   "source": [
    "### Determine run parameters"
   ]
  },
  {
   "cell_type": "code",
   "execution_count": 1,
   "id": "90858e8a",
   "metadata": {
    "execution": {
     "iopub.execute_input": "2022-12-15T06:44:01.895290Z",
     "iopub.status.busy": "2022-12-15T06:44:01.894964Z",
     "iopub.status.idle": "2022-12-15T06:44:01.905288Z",
     "shell.execute_reply": "2022-12-15T06:44:01.904622Z"
    },
    "lines_to_next_cell": 0,
    "papermill": {
     "duration": 0.019877,
     "end_time": "2022-12-15T06:44:01.907371",
     "exception": false,
     "start_time": "2022-12-15T06:44:01.887494",
     "status": "completed"
    },
    "tags": []
   },
   "outputs": [],
   "source": [
    "# ----------------- Parameters for interactive development --------------\n",
    "P = {\n",
    "    \"pipeline.data_lake_root\": \"/pipeline-outputs/data-lake\",\n",
    "    \"task.nr_train_images\": 600,\n",
    "}"
   ]
  },
  {
   "cell_type": "code",
   "execution_count": 2,
   "id": "a85556e2",
   "metadata": {
    "execution": {
     "iopub.execute_input": "2022-12-15T06:44:01.919090Z",
     "iopub.status.busy": "2022-12-15T06:44:01.918763Z",
     "iopub.status.idle": "2022-12-15T06:44:01.922327Z",
     "shell.execute_reply": "2022-12-15T06:44:01.921656Z"
    },
    "lines_to_next_cell": 0,
    "papermill": {
     "duration": 0.013228,
     "end_time": "2022-12-15T06:44:01.926034",
     "exception": false,
     "start_time": "2022-12-15T06:44:01.912806",
     "status": "completed"
    },
    "tags": [
     "parameters"
    ]
   },
   "outputs": [],
   "source": [
    "# - During automated runs parameters will be injected in the below cell -"
   ]
  },
  {
   "cell_type": "code",
   "execution_count": 3,
   "id": "aedd9f65",
   "metadata": {
    "execution": {
     "iopub.execute_input": "2022-12-15T06:44:01.937783Z",
     "iopub.status.busy": "2022-12-15T06:44:01.937425Z",
     "iopub.status.idle": "2022-12-15T06:44:01.943248Z",
     "shell.execute_reply": "2022-12-15T06:44:01.942535Z"
    },
    "papermill": {
     "duration": 0.015324,
     "end_time": "2022-12-15T06:44:01.946436",
     "exception": false,
     "start_time": "2022-12-15T06:44:01.931112",
     "status": "completed"
    },
    "tags": [
     "injected-parameters"
    ]
   },
   "outputs": [],
   "source": [
    "# Parameters\n",
    "P = {\n",
    "    \"pipeline.data_lake_root\": \"/pipeline-outputs/data-lake\",\n",
    "    \"pipeline.run_environment\": \"ci\",\n",
    "    \"pipeline.pipeline_run_id\": \"7d82a703-9640-46f9-aae7-873c30f28f56\",\n",
    "    \"pipeline.github.repository\": \"matiasdahl/dev-mnist-digits-demo-pipeline\",\n",
    "    \"pipeline.github.workflow\": \"Run automated tests, pipeline and deploy results to static reporting site\",\n",
    "    \"pipeline.github.runner_name\": \"Hosted Agent\",\n",
    "    \"pipeline.github.run_id\": \"3701709453\",\n",
    "    \"pipeline.github.actor\": \"matiasdahl\",\n",
    "    \"pipeline.github.job\": \"run-tests-pipeline-and-persist-pipeline-outputs\",\n",
    "    \"pipeline.github.base_ref\": \"\",\n",
    "    \"pipeline.github.head_ref\": \"\",\n",
    "    \"pipeline.github.sha\": \"ace0d01011d5e914f1921450dd5a59c11367b38d\",\n",
    "    \"pipeline.github.ref\": \"refs/heads/development\",\n",
    "    \"pipeline.github.ref_type\": \"branch\",\n",
    "    \"pipeline.github.ref_name\": \"development\",\n",
    "    \"pipeline.github.event_name\": \"schedule\",\n",
    "    \"task.nr_train_images\": 800,\n",
    "    \"task.notebook\": \"notebooks/benchmark-model.py\",\n",
    "    \"task.max_nr_retries\": \"1\",\n",
    "    \"run.retry_nr\": \"0\",\n",
    "    \"task.timeout_s\": \"None\",\n",
    "    \"task.num_cpus\": 1,\n",
    "    \"_opentelemetry_traceparent\": \"00-e6c434243e35448fc318c1f3aee023bf-c3288e75fa253a3d-01\",\n",
    "}\n"
   ]
  },
  {
   "cell_type": "code",
   "execution_count": 4,
   "id": "c3ff8d78",
   "metadata": {
    "execution": {
     "iopub.execute_input": "2022-12-15T06:44:01.959502Z",
     "iopub.status.busy": "2022-12-15T06:44:01.959167Z",
     "iopub.status.idle": "2022-12-15T06:44:01.963205Z",
     "shell.execute_reply": "2022-12-15T06:44:01.962268Z"
    },
    "lines_to_next_cell": 0,
    "papermill": {
     "duration": 0.015118,
     "end_time": "2022-12-15T06:44:01.966401",
     "exception": false,
     "start_time": "2022-12-15T06:44:01.951283",
     "status": "completed"
    },
    "tags": []
   },
   "outputs": [],
   "source": [
    "# -----------------------------------------------------------------------"
   ]
  },
  {
   "cell_type": "markdown",
   "id": "4051811e",
   "metadata": {
    "papermill": {
     "duration": 0.004644,
     "end_time": "2022-12-15T06:44:01.976644",
     "exception": false,
     "start_time": "2022-12-15T06:44:01.972000",
     "status": "completed"
    },
    "tags": []
   },
   "source": [
    "---"
   ]
  },
  {
   "cell_type": "markdown",
   "id": "86171852",
   "metadata": {
    "lines_to_next_cell": 2,
    "papermill": {
     "duration": 0.005013,
     "end_time": "2022-12-15T06:44:01.986590",
     "exception": false,
     "start_time": "2022-12-15T06:44:01.981577",
     "status": "completed"
    },
    "tags": []
   },
   "source": [
    "### Notebook code"
   ]
  },
  {
   "cell_type": "code",
   "execution_count": 5,
   "id": "457685d4",
   "metadata": {
    "execution": {
     "iopub.execute_input": "2022-12-15T06:44:01.997549Z",
     "iopub.status.busy": "2022-12-15T06:44:01.997222Z",
     "iopub.status.idle": "2022-12-15T06:44:03.437939Z",
     "shell.execute_reply": "2022-12-15T06:44:03.437043Z"
    },
    "papermill": {
     "duration": 1.449444,
     "end_time": "2022-12-15T06:44:03.440648",
     "exception": false,
     "start_time": "2022-12-15T06:44:01.991204",
     "status": "completed"
    },
    "tags": []
   },
   "outputs": [
    {
     "name": "stderr",
     "output_type": "stream",
     "text": [
      "2022-12-15 06:44:03,164\tINFO worker.py:842 -- Connecting to existing Ray cluster at address: 172.17.0.2:6379\n"
     ]
    }
   ],
   "source": [
    "import itertools as it\n",
    "\n",
    "#\n",
    "import numpy as np\n",
    "import matplotlib.pyplot as plt\n",
    "\n",
    "#\n",
    "from pynb_dag_runner.tasks.task_opentelemetry_logging import PydarLogger\n",
    "\n",
    "#\n",
    "from common.io import datalake_root\n",
    "\n",
    "logger = PydarLogger(P)"
   ]
  },
  {
   "cell_type": "markdown",
   "id": "2346b96d",
   "metadata": {
    "papermill": {
     "duration": 0.00522,
     "end_time": "2022-12-15T06:44:03.452295",
     "exception": false,
     "start_time": "2022-12-15T06:44:03.447075",
     "status": "completed"
    },
    "tags": []
   },
   "source": [
    "## Load persisted onnx-model and evaluation data"
   ]
  },
  {
   "cell_type": "code",
   "execution_count": 6,
   "id": "ad937311",
   "metadata": {
    "execution": {
     "iopub.execute_input": "2022-12-15T06:44:03.464980Z",
     "iopub.status.busy": "2022-12-15T06:44:03.464478Z",
     "iopub.status.idle": "2022-12-15T06:44:03.468617Z",
     "shell.execute_reply": "2022-12-15T06:44:03.467790Z"
    },
    "papermill": {
     "duration": 0.013472,
     "end_time": "2022-12-15T06:44:03.471764",
     "exception": false,
     "start_time": "2022-12-15T06:44:03.458292",
     "status": "completed"
    },
    "tags": []
   },
   "outputs": [],
   "source": [
    "from common.io import read_onnx, get_onnx_inputs, get_onnx_outputs, read_numpy"
   ]
  },
  {
   "cell_type": "code",
   "execution_count": 7,
   "id": "ee5055f9",
   "metadata": {
    "execution": {
     "iopub.execute_input": "2022-12-15T06:44:03.485242Z",
     "iopub.status.busy": "2022-12-15T06:44:03.484922Z",
     "iopub.status.idle": "2022-12-15T06:44:03.499621Z",
     "shell.execute_reply": "2022-12-15T06:44:03.498929Z"
    },
    "lines_to_next_cell": 0,
    "papermill": {
     "duration": 0.024711,
     "end_time": "2022-12-15T06:44:03.502494",
     "exception": false,
     "start_time": "2022-12-15T06:44:03.477783",
     "status": "completed"
    },
    "tags": []
   },
   "outputs": [],
   "source": [
    "onnx_inference_session = read_onnx(\n",
    "    datalake_root(P)\n",
    "    / \"models\"\n",
    "    / f\"nr_train_images={P['task.nr_train_images']}\"\n",
    "    / \"model.onnx\"\n",
    ")"
   ]
  },
  {
   "cell_type": "markdown",
   "id": "0cb4f607",
   "metadata": {
    "papermill": {
     "duration": 0.008783,
     "end_time": "2022-12-15T06:44:03.517508",
     "exception": false,
     "start_time": "2022-12-15T06:44:03.508725",
     "status": "completed"
    },
    "tags": []
   },
   "source": [
    "### Record structure of inputs and outputs for ONNX model\n",
    "\n",
    "(this should likely be done in training notebook)"
   ]
  },
  {
   "cell_type": "code",
   "execution_count": 8,
   "id": "c69fb120",
   "metadata": {
    "execution": {
     "iopub.execute_input": "2022-12-15T06:44:03.531001Z",
     "iopub.status.busy": "2022-12-15T06:44:03.530651Z",
     "iopub.status.idle": "2022-12-15T06:44:03.539853Z",
     "shell.execute_reply": "2022-12-15T06:44:03.539167Z"
    },
    "papermill": {
     "duration": 0.021376,
     "end_time": "2022-12-15T06:44:03.544726",
     "exception": false,
     "start_time": "2022-12-15T06:44:03.523350",
     "status": "completed"
    },
    "tags": []
   },
   "outputs": [
    {
     "name": "stdout",
     "output_type": "stream",
     "text": [
      "{\n",
      "  \"inputs\": [\n",
      "    {\n",
      "      \"name\": \"float_input_8x8_image\",\n",
      "      \"shape\": [\n",
      "        null,\n",
      "        64\n",
      "      ],\n",
      "      \"type\": \"tensor(float)\"\n",
      "    }\n",
      "  ],\n",
      "  \"outputs\": [\n",
      "    {\n",
      "      \"name\": \"output_label\",\n",
      "      \"shape\": [\n",
      "        null\n",
      "      ],\n",
      "      \"type\": \"tensor(int64)\"\n",
      "    },\n",
      "    {\n",
      "      \"name\": \"output_probability\",\n",
      "      \"shape\": [],\n",
      "      \"type\": \"seq(map(int64,tensor(float)))\"\n",
      "    }\n",
      "  ]\n",
      "}\n"
     ]
    }
   ],
   "source": [
    "import json\n",
    "\n",
    "onnx_io = json.dumps(\n",
    "    {\n",
    "        \"inputs\": get_onnx_inputs(onnx_inference_session),\n",
    "        \"outputs\": get_onnx_outputs(onnx_inference_session),\n",
    "    },\n",
    "    indent=2,\n",
    ")\n",
    "\n",
    "\n",
    "logger.log_artefact(\"onnx_io_structure.json\", onnx_io)\n",
    "print(onnx_io)"
   ]
  },
  {
   "cell_type": "markdown",
   "id": "6a96e6dc",
   "metadata": {
    "papermill": {
     "duration": 0.006284,
     "end_time": "2022-12-15T06:44:03.557956",
     "exception": false,
     "start_time": "2022-12-15T06:44:03.551672",
     "status": "completed"
    },
    "tags": []
   },
   "source": [
    "### Evaluate model performance on evaluation data set"
   ]
  },
  {
   "cell_type": "code",
   "execution_count": 9,
   "id": "171479d7",
   "metadata": {
    "execution": {
     "iopub.execute_input": "2022-12-15T06:44:03.571425Z",
     "iopub.status.busy": "2022-12-15T06:44:03.571095Z",
     "iopub.status.idle": "2022-12-15T06:44:03.577443Z",
     "shell.execute_reply": "2022-12-15T06:44:03.576105Z"
    },
    "papermill": {
     "duration": 0.01798,
     "end_time": "2022-12-15T06:44:03.581361",
     "exception": false,
     "start_time": "2022-12-15T06:44:03.563381",
     "status": "completed"
    },
    "tags": []
   },
   "outputs": [],
   "source": [
    "# load evaluation data\n",
    "X_test = read_numpy(datalake_root(P) / \"test-data\" / \"digits.numpy\")\n",
    "y_test = read_numpy(datalake_root(P) / \"test-data\" / \"labels.numpy\")"
   ]
  },
  {
   "cell_type": "code",
   "execution_count": 10,
   "id": "cc50c6fc",
   "metadata": {
    "execution": {
     "iopub.execute_input": "2022-12-15T06:44:03.595517Z",
     "iopub.status.busy": "2022-12-15T06:44:03.595183Z",
     "iopub.status.idle": "2022-12-15T06:44:03.614231Z",
     "shell.execute_reply": "2022-12-15T06:44:03.613242Z"
    },
    "papermill": {
     "duration": 0.031319,
     "end_time": "2022-12-15T06:44:03.619607",
     "exception": false,
     "start_time": "2022-12-15T06:44:03.588288",
     "status": "completed"
    },
    "tags": []
   },
   "outputs": [],
   "source": [
    "def get_model_outputs(X, onnx_inference_session):\n",
    "    y_pred_labels, y_pred_map = onnx_inference_session.run(\n",
    "        [\"output_label\", \"output_probability\"],\n",
    "        {\"float_input_8x8_image\": X.astype(np.float32)},\n",
    "    )\n",
    "    y_pred_probs = np.array(\n",
    "        [[probabilities[digit] for digit in range(10)] for probabilities in y_pred_map]\n",
    "    )\n",
    "\n",
    "    assert y_pred_labels.shape == (X.shape[0],)\n",
    "    assert y_pred_probs.shape == (X.shape[0], 10)\n",
    "\n",
    "    return y_pred_labels, y_pred_probs\n",
    "\n",
    "\n",
    "# Note: as shown in the training notebook, the predicted labels and probabilities\n",
    "# computed below need not be compatible.\n",
    "y_pred_labels_test, y_pred_probs_test = get_model_outputs(\n",
    "    X_test, onnx_inference_session\n",
    ")"
   ]
  },
  {
   "cell_type": "markdown",
   "id": "003b8c22",
   "metadata": {
    "papermill": {
     "duration": 0.006606,
     "end_time": "2022-12-15T06:44:03.634149",
     "exception": false,
     "start_time": "2022-12-15T06:44:03.627543",
     "status": "completed"
    },
    "tags": []
   },
   "source": [
    "### Confusion matrix"
   ]
  },
  {
   "cell_type": "code",
   "execution_count": 11,
   "id": "89fca977",
   "metadata": {
    "execution": {
     "iopub.execute_input": "2022-12-15T06:44:03.647397Z",
     "iopub.status.busy": "2022-12-15T06:44:03.647052Z",
     "iopub.status.idle": "2022-12-15T06:44:03.650895Z",
     "shell.execute_reply": "2022-12-15T06:44:03.650222Z"
    },
    "papermill": {
     "duration": 0.014534,
     "end_time": "2022-12-15T06:44:03.654773",
     "exception": false,
     "start_time": "2022-12-15T06:44:03.640239",
     "status": "completed"
    },
    "tags": []
   },
   "outputs": [],
   "source": [
    "# TODO"
   ]
  },
  {
   "cell_type": "markdown",
   "id": "35dd896a",
   "metadata": {
    "papermill": {
     "duration": 0.006457,
     "end_time": "2022-12-15T06:44:03.667004",
     "exception": false,
     "start_time": "2022-12-15T06:44:03.660547",
     "status": "completed"
    },
    "tags": []
   },
   "source": [
    "### Plot predicted probabilities for each classifier over all evaluation digit images"
   ]
  },
  {
   "cell_type": "code",
   "execution_count": 12,
   "id": "8712d7f1",
   "metadata": {
    "execution": {
     "iopub.execute_input": "2022-12-15T06:44:03.680814Z",
     "iopub.status.busy": "2022-12-15T06:44:03.679730Z",
     "iopub.status.idle": "2022-12-15T06:44:08.365385Z",
     "shell.execute_reply": "2022-12-15T06:44:08.364717Z"
    },
    "papermill": {
     "duration": 4.697735,
     "end_time": "2022-12-15T06:44:08.370488",
     "exception": false,
     "start_time": "2022-12-15T06:44:03.672753",
     "status": "completed"
    },
    "tags": []
   },
   "outputs": [
    {
     "data": {
      "image/png": "[encoded data removed]",
      "text/plain": [
       "<Figure size 1600x600 with 10 Axes>"
      ]
     },
     "metadata": {},
     "output_type": "display_data"
    }
   ],
   "source": [
    "def plot_per_digit_probabilities(y_pred_probs):\n",
    "    fig, axs = plt.subplots(nrows=2, ncols=5, figsize=(16, 6))\n",
    "\n",
    "    for (r, c), digit, ax in zip(\n",
    "        it.product(range(2), range(5)), range(10), axs.reshape(-1)\n",
    "    ):\n",
    "        ax.hist(y_pred_probs_test[:, digit], bins=20)\n",
    "\n",
    "        ax.set_title(f\"Digit {digit}\")\n",
    "        if r == 1 and c == 2:\n",
    "            ax.set_xlabel(\"probability\", fontsize=16)\n",
    "\n",
    "        if c == 0:\n",
    "            ax.set_ylabel(\"counts\", fontsize=16)\n",
    "        ax.set_yscale(\"log\")\n",
    "\n",
    "    fig.tight_layout()\n",
    "    fig.suptitle(\n",
    "        f\"Distributions of prediction probabilities for each digit \"\n",
    "        f\"(on evaluation data, n={y_pred_probs.shape[0]})\",\n",
    "        fontsize=20,\n",
    "    )\n",
    "    fig.tight_layout()\n",
    "    fig.show()\n",
    "\n",
    "    return fig\n",
    "\n",
    "\n",
    "fig = plot_per_digit_probabilities(y_pred_probs_test)"
   ]
  },
  {
   "cell_type": "markdown",
   "id": "7480a1dd",
   "metadata": {
    "papermill": {
     "duration": 0.006294,
     "end_time": "2022-12-15T06:44:08.387670",
     "exception": false,
     "start_time": "2022-12-15T06:44:08.381376",
     "status": "completed"
    },
    "tags": []
   },
   "source": [
    "From the above distributions we see that most digits have clear separation between\n",
    "high and lower probabilities. Morover, in each case there is roughly an order of\n",
    "magnitude more of digits with low probabilities. This is compatible with digits\n",
    "being roughly evenly distributed in the data."
   ]
  },
  {
   "cell_type": "code",
   "execution_count": 13,
   "id": "886ace46",
   "metadata": {
    "execution": {
     "iopub.execute_input": "2022-12-15T06:44:08.402249Z",
     "iopub.status.busy": "2022-12-15T06:44:08.401867Z",
     "iopub.status.idle": "2022-12-15T06:44:09.016634Z",
     "shell.execute_reply": "2022-12-15T06:44:09.015390Z"
    },
    "papermill": {
     "duration": 0.625095,
     "end_time": "2022-12-15T06:44:09.018818",
     "exception": false,
     "start_time": "2022-12-15T06:44:08.393723",
     "status": "completed"
    },
    "tags": []
   },
   "outputs": [],
   "source": [
    "logger.log_figure(\"per-digit-probabilities.png\", fig)"
   ]
  },
  {
   "cell_type": "markdown",
   "id": "9ca23d6e",
   "metadata": {
    "papermill": {
     "duration": 0.006842,
     "end_time": "2022-12-15T06:44:09.033524",
     "exception": false,
     "start_time": "2022-12-15T06:44:09.026682",
     "status": "completed"
    },
    "tags": []
   },
   "source": [
    "### Plot ROC curves for individual one-vs-rest classifiers"
   ]
  },
  {
   "cell_type": "code",
   "execution_count": 14,
   "id": "1ac5a304",
   "metadata": {
    "execution": {
     "iopub.execute_input": "2022-12-15T06:44:09.049494Z",
     "iopub.status.busy": "2022-12-15T06:44:09.049029Z",
     "iopub.status.idle": "2022-12-15T06:44:09.587705Z",
     "shell.execute_reply": "2022-12-15T06:44:09.586630Z"
    },
    "papermill": {
     "duration": 0.548683,
     "end_time": "2022-12-15T06:44:09.589820",
     "exception": false,
     "start_time": "2022-12-15T06:44:09.041137",
     "status": "completed"
    },
    "tags": []
   },
   "outputs": [],
   "source": [
    "from sklearn import metrics"
   ]
  },
  {
   "cell_type": "code",
   "execution_count": 15,
   "id": "5d511fdb",
   "metadata": {
    "execution": {
     "iopub.execute_input": "2022-12-15T06:44:09.605008Z",
     "iopub.status.busy": "2022-12-15T06:44:09.604674Z",
     "iopub.status.idle": "2022-12-15T06:44:11.208699Z",
     "shell.execute_reply": "2022-12-15T06:44:11.200099Z"
    },
    "papermill": {
     "duration": 1.615082,
     "end_time": "2022-12-15T06:44:11.211735",
     "exception": false,
     "start_time": "2022-12-15T06:44:09.596653",
     "status": "completed"
    },
    "tags": []
   },
   "outputs": [
    {
     "data": {
      "image/png": "[encoded data removed]",
      "text/plain": [
       "<Figure size 1600x800 with 10 Axes>"
      ]
     },
     "metadata": {},
     "output_type": "display_data"
    }
   ],
   "source": [
    "def plot_roc_curves(y, y_pred_probs):\n",
    "    # based on example code\n",
    "    # https://scikit-learn.org/stable/auto_examples/model_selection/plot_roc.html\n",
    "\n",
    "    fig, axs = plt.subplots(nrows=2, ncols=5, figsize=(16, 8))\n",
    "\n",
    "    roc_auc_dict = {}\n",
    "\n",
    "    for (r, c), digit, ax in zip(\n",
    "        it.product(range(2), range(5)), range(10), axs.reshape(-1)\n",
    "    ):\n",
    "        fpr, tpr, _ = metrics.roc_curve(y == digit, y_pred_probs[:, digit])\n",
    "        auc = metrics.auc(fpr, tpr)\n",
    "        roc_auc_dict[str(digit)] = auc\n",
    "\n",
    "        ax.plot(fpr, tpr, label=f\"ROC AUC={round(auc, 3)}\")\n",
    "\n",
    "        ax.set_title(f\"\\nDigit {digit}\", fontsize=16)\n",
    "        if r == 1:\n",
    "            ax.set_xlabel(\"FPR\", fontsize=18)\n",
    "\n",
    "        if c == 0:\n",
    "            ax.set_ylabel(\"TPR\", fontsize=18)\n",
    "\n",
    "        ax.set_xlim([-0.05, 1.05])\n",
    "        ax.set_ylim([-0.05, 1.05])\n",
    "        ax.legend(loc=\"lower right\", frameon=False, fontsize=14)\n",
    "\n",
    "    fig.tight_layout()\n",
    "    fig.suptitle(\n",
    "        f\"ROC plots for one-vs-rest performances \"\n",
    "        f\"(on evaluation data, n={y_pred_probs_test.shape[1]}\",\n",
    "        fontsize=22,\n",
    "    )\n",
    "    fig.tight_layout()\n",
    "    fig.show()\n",
    "\n",
    "    return roc_auc_dict, fig\n",
    "\n",
    "\n",
    "roc_auc_dict, fig = plot_roc_curves(y_test, y_pred_probs_test)"
   ]
  },
  {
   "cell_type": "code",
   "execution_count": 16,
   "id": "611755f4",
   "metadata": {
    "execution": {
     "iopub.execute_input": "2022-12-15T06:44:11.232023Z",
     "iopub.status.busy": "2022-12-15T06:44:11.231678Z",
     "iopub.status.idle": "2022-12-15T06:44:11.641630Z",
     "shell.execute_reply": "2022-12-15T06:44:11.640714Z"
    },
    "papermill": {
     "duration": 0.423044,
     "end_time": "2022-12-15T06:44:11.643860",
     "exception": false,
     "start_time": "2022-12-15T06:44:11.220816",
     "status": "completed"
    },
    "tags": []
   },
   "outputs": [],
   "source": [
    "logger.log_figure(\"per-digit-roc-curves.png\", fig)"
   ]
  },
  {
   "cell_type": "code",
   "execution_count": 17,
   "id": "d77e468d",
   "metadata": {
    "execution": {
     "iopub.execute_input": "2022-12-15T06:44:11.663832Z",
     "iopub.status.busy": "2022-12-15T06:44:11.663370Z",
     "iopub.status.idle": "2022-12-15T06:44:11.679030Z",
     "shell.execute_reply": "2022-12-15T06:44:11.678086Z"
    },
    "papermill": {
     "duration": 0.029875,
     "end_time": "2022-12-15T06:44:11.683725",
     "exception": false,
     "start_time": "2022-12-15T06:44:11.653850",
     "status": "completed"
    },
    "tags": []
   },
   "outputs": [
    {
     "data": {
      "text/plain": [
       "{'0': 1.0,\n",
       " '1': 0.9987628865979382,\n",
       " '2': 1.0,\n",
       " '3': 0.9998125585754452,\n",
       " '4': 0.9995427526291724,\n",
       " '5': 0.9991002811621369,\n",
       " '6': 0.999923792104862,\n",
       " '7': 0.9998856881572931,\n",
       " '8': 0.9932219419924339,\n",
       " '9': 0.9994284407864655}"
      ]
     },
     "execution_count": 17,
     "metadata": {},
     "output_type": "execute_result"
    }
   ],
   "source": [
    "roc_auc_dict"
   ]
  },
  {
   "cell_type": "code",
   "execution_count": 18,
   "id": "f3625463",
   "metadata": {
    "execution": {
     "iopub.execute_input": "2022-12-15T06:44:11.703306Z",
     "iopub.status.busy": "2022-12-15T06:44:11.702663Z",
     "iopub.status.idle": "2022-12-15T06:44:11.708781Z",
     "shell.execute_reply": "2022-12-15T06:44:11.707297Z"
    },
    "papermill": {
     "duration": 0.01999,
     "end_time": "2022-12-15T06:44:11.712694",
     "exception": false,
     "start_time": "2022-12-15T06:44:11.692704",
     "status": "completed"
    },
    "tags": []
   },
   "outputs": [
    {
     "name": "stdout",
     "output_type": "stream",
     "text": [
      " - Logging roc_auc_per_digit (json) : {'0': 1.0, '1': 0.9987628865979382, '2': 1.0, '3': 0.9998125585754452, '4': 0.9995427526291724, '5': 0.9991002811621369, '6': 0.999923792104862, '7': 0.9998856881572931, '8': 0.9932219419924339, '9': 0.9994284407864655}\n"
     ]
    }
   ],
   "source": [
    "logger.log_value(\"roc_auc_per_digit\", roc_auc_dict)"
   ]
  },
  {
   "cell_type": "markdown",
   "id": "46e51c69",
   "metadata": {
    "papermill": {
     "duration": 0.010011,
     "end_time": "2022-12-15T06:44:11.732479",
     "exception": false,
     "start_time": "2022-12-15T06:44:11.722468",
     "status": "completed"
    },
    "tags": []
   },
   "source": [
    "### Compute and log mean ROC AUC score averaged over all digits"
   ]
  },
  {
   "cell_type": "code",
   "execution_count": 19,
   "id": "0510ce9b",
   "metadata": {
    "execution": {
     "iopub.execute_input": "2022-12-15T06:44:11.754694Z",
     "iopub.status.busy": "2022-12-15T06:44:11.754242Z",
     "iopub.status.idle": "2022-12-15T06:44:11.776390Z",
     "shell.execute_reply": "2022-12-15T06:44:11.772835Z"
    },
    "papermill": {
     "duration": 0.037243,
     "end_time": "2022-12-15T06:44:11.780401",
     "exception": false,
     "start_time": "2022-12-15T06:44:11.743158",
     "status": "completed"
    },
    "tags": []
   },
   "outputs": [
    {
     "name": "stdout",
     "output_type": "stream",
     "text": [
      " - Logging roc_auc_class_mean (float) : 0.9989678342005746\n"
     ]
    }
   ],
   "source": [
    "roc_auc_macro = np.mean(list(roc_auc_dict.values()))\n",
    "\n",
    "logger.log_float(\"roc_auc_class_mean\", roc_auc_macro)\n",
    "\n",
    "# assert that the same value can be computed directly using sklearn\n",
    "assert roc_auc_macro == metrics.roc_auc_score(\n",
    "    y_test, y_pred_probs_test, average=\"macro\", multi_class=\"ovr\"\n",
    ")"
   ]
  },
  {
   "cell_type": "code",
   "execution_count": 20,
   "id": "bc4f9118",
   "metadata": {
    "execution": {
     "iopub.execute_input": "2022-12-15T06:44:11.807713Z",
     "iopub.status.busy": "2022-12-15T06:44:11.807150Z",
     "iopub.status.idle": "2022-12-15T06:44:11.812787Z",
     "shell.execute_reply": "2022-12-15T06:44:11.811669Z"
    },
    "lines_to_next_cell": 0,
    "papermill": {
     "duration": 0.01798,
     "end_time": "2022-12-15T06:44:11.815045",
     "exception": false,
     "start_time": "2022-12-15T06:44:11.797065",
     "status": "completed"
    },
    "tags": []
   },
   "outputs": [],
   "source": [
    "# ---"
   ]
  },
  {
   "cell_type": "code",
   "execution_count": null,
   "id": "36d6b989",
   "metadata": {
    "papermill": {
     "duration": 0.009735,
     "end_time": "2022-12-15T06:44:11.833683",
     "exception": false,
     "start_time": "2022-12-15T06:44:11.823948",
     "status": "completed"
    },
    "tags": []
   },
   "outputs": [],
   "source": []
  }
 ],
 "metadata": {
  "jupytext": {
   "cell_metadata_filter": "tags,-all",
   "main_language": "python",
   "notebook_metadata_filter": "-all"
  },
  "language_info": {
   "codemirror_mode": {
    "name": "ipython",
    "version": 3
   },
   "file_extension": ".py",
   "mimetype": "text/x-python",
   "name": "python",
   "nbconvert_exporter": "python",
   "pygments_lexer": "ipython3",
   "version": "3.8.10"
  },
  "papermill": {
   "default_parameters": {},
   "duration": 12.841613,
   "end_time": "2022-12-15T06:44:13.167312",
   "environment_variables": {},
   "exception": null,
   "input_path": "/home/host_user/workspace/mnist-demo-pipeline/mnist-demo-pipeline/notebooks/temp-notebook-qxk0_n67.ipynb",
   "output_path": "notebooks/benchmark-model.ipynb",
   "parameters": {
    "P": {
     "_opentelemetry_traceparent": "00-e6c434243e35448fc318c1f3aee023bf-c3288e75fa253a3d-01",
     "pipeline.data_lake_root": "/pipeline-outputs/data-lake",
     "pipeline.github.actor": "matiasdahl",
     "pipeline.github.base_ref": "",
     "pipeline.github.event_name": "schedule",
     "pipeline.github.head_ref": "",
     "pipeline.github.job": "run-tests-pipeline-and-persist-pipeline-outputs",
     "pipeline.github.ref": "refs/heads/development",
     "pipeline.github.ref_name": "development",
     "pipeline.github.ref_type": "branch",
     "pipeline.github.repository": "matiasdahl/dev-mnist-digits-demo-pipeline",
     "pipeline.github.run_id": "3701709453",
     "pipeline.github.runner_name": "Hosted Agent",
     "pipeline.github.sha": "ace0d01011d5e914f1921450dd5a59c11367b38d",
     "pipeline.github.workflow": "Run automated tests, pipeline and deploy results to static reporting site",
     "pipeline.pipeline_run_id": "7d82a703-9640-46f9-aae7-873c30f28f56",
     "pipeline.run_environment": "ci",
     "run.retry_nr": "0",
     "task.max_nr_retries": "1",
     "task.notebook": "notebooks/benchmark-model.py",
     "task.nr_train_images": 800,
     "task.num_cpus": 1,
     "task.timeout_s": "None"
    }
   },
   "start_time": "2022-12-15T06:44:00.325699",
   "version": "2.3.3"
  }
 },
 "nbformat": 4,
 "nbformat_minor": 5
}