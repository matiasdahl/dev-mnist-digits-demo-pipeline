{
 "cells": [
  {
   "cell_type": "markdown",
   "id": "a7400608",
   "metadata": {
    "papermill": {
     "duration": 0.006783,
     "end_time": "2022-12-15T06:44:09.666451",
     "exception": false,
     "start_time": "2022-12-15T06:44:09.659668",
     "status": "completed"
    },
    "tags": []
   },
   "source": [
    "# Benchmark model\n",
    "\n",
    "The purpose of this notebook is to benchmark persisted onnx-model (trained in the\n",
    "previous step) against evaluation set."
   ]
  },
  {
   "cell_type": "markdown",
   "id": "76ab4274",
   "metadata": {
    "papermill": {
     "duration": 0.007122,
     "end_time": "2022-12-15T06:44:09.679152",
     "exception": false,
     "start_time": "2022-12-15T06:44:09.672030",
     "status": "completed"
    },
    "tags": []
   },
   "source": [
    "### Determine run parameters"
   ]
  },
  {
   "cell_type": "code",
   "execution_count": 1,
   "id": "2114c9ce",
   "metadata": {
    "execution": {
     "iopub.execute_input": "2022-12-15T06:44:09.691582Z",
     "iopub.status.busy": "2022-12-15T06:44:09.691251Z",
     "iopub.status.idle": "2022-12-15T06:44:09.702067Z",
     "shell.execute_reply": "2022-12-15T06:44:09.701394Z"
    },
    "lines_to_next_cell": 0,
    "papermill": {
     "duration": 0.020404,
     "end_time": "2022-12-15T06:44:09.704080",
     "exception": false,
     "start_time": "2022-12-15T06:44:09.683676",
     "status": "completed"
    },
    "tags": []
   },
   "outputs": [],
   "source": [
    "# ----------------- Parameters for interactive development --------------\n",
    "P = {\n",
    "    \"pipeline.data_lake_root\": \"/pipeline-outputs/data-lake\",\n",
    "    \"task.nr_train_images\": 600,\n",
    "}"
   ]
  },
  {
   "cell_type": "code",
   "execution_count": 2,
   "id": "f4dc7ef6",
   "metadata": {
    "execution": {
     "iopub.execute_input": "2022-12-15T06:44:09.715317Z",
     "iopub.status.busy": "2022-12-15T06:44:09.715006Z",
     "iopub.status.idle": "2022-12-15T06:44:09.718920Z",
     "shell.execute_reply": "2022-12-15T06:44:09.717953Z"
    },
    "lines_to_next_cell": 0,
    "papermill": {
     "duration": 0.012708,
     "end_time": "2022-12-15T06:44:09.722130",
     "exception": false,
     "start_time": "2022-12-15T06:44:09.709422",
     "status": "completed"
    },
    "tags": [
     "parameters"
    ]
   },
   "outputs": [],
   "source": [
    "# - During automated runs parameters will be injected in the below cell -"
   ]
  },
  {
   "cell_type": "code",
   "execution_count": 3,
   "id": "a6e1f5f9",
   "metadata": {
    "execution": {
     "iopub.execute_input": "2022-12-15T06:44:09.733458Z",
     "iopub.status.busy": "2022-12-15T06:44:09.733164Z",
     "iopub.status.idle": "2022-12-15T06:44:09.738457Z",
     "shell.execute_reply": "2022-12-15T06:44:09.737834Z"
    },
    "papermill": {
     "duration": 0.015117,
     "end_time": "2022-12-15T06:44:09.741980",
     "exception": false,
     "start_time": "2022-12-15T06:44:09.726863",
     "status": "completed"
    },
    "tags": [
     "injected-parameters"
    ]
   },
   "outputs": [],
   "source": [
    "# Parameters\n",
    "P = {\n",
    "    \"pipeline.data_lake_root\": \"/pipeline-outputs/data-lake\",\n",
    "    \"pipeline.run_environment\": \"ci\",\n",
    "    \"pipeline.pipeline_run_id\": \"7d82a703-9640-46f9-aae7-873c30f28f56\",\n",
    "    \"pipeline.github.repository\": \"matiasdahl/dev-mnist-digits-demo-pipeline\",\n",
    "    \"pipeline.github.workflow\": \"Run automated tests, pipeline and deploy results to static reporting site\",\n",
    "    \"pipeline.github.runner_name\": \"Hosted Agent\",\n",
    "    \"pipeline.github.run_id\": \"3701709453\",\n",
    "    \"pipeline.github.actor\": \"matiasdahl\",\n",
    "    \"pipeline.github.job\": \"run-tests-pipeline-and-persist-pipeline-outputs\",\n",
    "    \"pipeline.github.base_ref\": \"\",\n",
    "    \"pipeline.github.head_ref\": \"\",\n",
    "    \"pipeline.github.sha\": \"ace0d01011d5e914f1921450dd5a59c11367b38d\",\n",
    "    \"pipeline.github.ref\": \"refs/heads/development\",\n",
    "    \"pipeline.github.ref_type\": \"branch\",\n",
    "    \"pipeline.github.ref_name\": \"development\",\n",
    "    \"pipeline.github.event_name\": \"schedule\",\n",
    "    \"task.nr_train_images\": 600,\n",
    "    \"task.notebook\": \"notebooks/benchmark-model.py\",\n",
    "    \"task.max_nr_retries\": \"1\",\n",
    "    \"run.retry_nr\": \"0\",\n",
    "    \"task.timeout_s\": \"None\",\n",
    "    \"task.num_cpus\": 1,\n",
    "    \"_opentelemetry_traceparent\": \"00-e6c434243e35448fc318c1f3aee023bf-2c5acfb82bd889f9-01\",\n",
    "}\n"
   ]
  },
  {
   "cell_type": "code",
   "execution_count": 4,
   "id": "c43259ac",
   "metadata": {
    "execution": {
     "iopub.execute_input": "2022-12-15T06:44:09.754077Z",
     "iopub.status.busy": "2022-12-15T06:44:09.753763Z",
     "iopub.status.idle": "2022-12-15T06:44:09.757218Z",
     "shell.execute_reply": "2022-12-15T06:44:09.756343Z"
    },
    "lines_to_next_cell": 0,
    "papermill": {
     "duration": 0.013924,
     "end_time": "2022-12-15T06:44:09.761015",
     "exception": false,
     "start_time": "2022-12-15T06:44:09.747091",
     "status": "completed"
    },
    "tags": []
   },
   "outputs": [],
   "source": [
    "# -----------------------------------------------------------------------"
   ]
  },
  {
   "cell_type": "markdown",
   "id": "094ececc",
   "metadata": {
    "papermill": {
     "duration": 0.005227,
     "end_time": "2022-12-15T06:44:09.779848",
     "exception": false,
     "start_time": "2022-12-15T06:44:09.774621",
     "status": "completed"
    },
    "tags": []
   },
   "source": [
    "---"
   ]
  },
  {
   "cell_type": "markdown",
   "id": "087fb2b6",
   "metadata": {
    "lines_to_next_cell": 2,
    "papermill": {
     "duration": 0.005399,
     "end_time": "2022-12-15T06:44:09.790584",
     "exception": false,
     "start_time": "2022-12-15T06:44:09.785185",
     "status": "completed"
    },
    "tags": []
   },
   "source": [
    "### Notebook code"
   ]
  },
  {
   "cell_type": "code",
   "execution_count": 5,
   "id": "e3f85e18",
   "metadata": {
    "execution": {
     "iopub.execute_input": "2022-12-15T06:44:09.803905Z",
     "iopub.status.busy": "2022-12-15T06:44:09.803583Z",
     "iopub.status.idle": "2022-12-15T06:44:11.304983Z",
     "shell.execute_reply": "2022-12-15T06:44:11.303931Z"
    },
    "papermill": {
     "duration": 1.510885,
     "end_time": "2022-12-15T06:44:11.307264",
     "exception": false,
     "start_time": "2022-12-15T06:44:09.796379",
     "status": "completed"
    },
    "tags": []
   },
   "outputs": [
    {
     "name": "stderr",
     "output_type": "stream",
     "text": [
      "2022-12-15 06:44:11,021\tINFO worker.py:842 -- Connecting to existing Ray cluster at address: 172.17.0.2:6379\n"
     ]
    }
   ],
   "source": [
    "import itertools as it\n",
    "\n",
    "#\n",
    "import numpy as np\n",
    "import matplotlib.pyplot as plt\n",
    "\n",
    "#\n",
    "from pynb_dag_runner.tasks.task_opentelemetry_logging import PydarLogger\n",
    "\n",
    "#\n",
    "from common.io import datalake_root\n",
    "\n",
    "logger = PydarLogger(P)"
   ]
  },
  {
   "cell_type": "markdown",
   "id": "23741f5b",
   "metadata": {
    "papermill": {
     "duration": 0.005231,
     "end_time": "2022-12-15T06:44:11.319033",
     "exception": false,
     "start_time": "2022-12-15T06:44:11.313802",
     "status": "completed"
    },
    "tags": []
   },
   "source": [
    "## Load persisted onnx-model and evaluation data"
   ]
  },
  {
   "cell_type": "code",
   "execution_count": 6,
   "id": "26760706",
   "metadata": {
    "execution": {
     "iopub.execute_input": "2022-12-15T06:44:11.331146Z",
     "iopub.status.busy": "2022-12-15T06:44:11.330717Z",
     "iopub.status.idle": "2022-12-15T06:44:11.335370Z",
     "shell.execute_reply": "2022-12-15T06:44:11.334427Z"
    },
    "papermill": {
     "duration": 0.014433,
     "end_time": "2022-12-15T06:44:11.338824",
     "exception": false,
     "start_time": "2022-12-15T06:44:11.324391",
     "status": "completed"
    },
    "tags": []
   },
   "outputs": [],
   "source": [
    "from common.io import read_onnx, get_onnx_inputs, get_onnx_outputs, read_numpy"
   ]
  },
  {
   "cell_type": "code",
   "execution_count": 7,
   "id": "9919fb98",
   "metadata": {
    "execution": {
     "iopub.execute_input": "2022-12-15T06:44:11.351532Z",
     "iopub.status.busy": "2022-12-15T06:44:11.351206Z",
     "iopub.status.idle": "2022-12-15T06:44:11.365948Z",
     "shell.execute_reply": "2022-12-15T06:44:11.365004Z"
    },
    "lines_to_next_cell": 0,
    "papermill": {
     "duration": 0.023876,
     "end_time": "2022-12-15T06:44:11.367988",
     "exception": false,
     "start_time": "2022-12-15T06:44:11.344112",
     "status": "completed"
    },
    "tags": []
   },
   "outputs": [],
   "source": [
    "onnx_inference_session = read_onnx(\n",
    "    datalake_root(P)\n",
    "    / \"models\"\n",
    "    / f\"nr_train_images={P['task.nr_train_images']}\"\n",
    "    / \"model.onnx\"\n",
    ")"
   ]
  },
  {
   "cell_type": "markdown",
   "id": "bdff46a0",
   "metadata": {
    "papermill": {
     "duration": 0.005828,
     "end_time": "2022-12-15T06:44:11.380482",
     "exception": false,
     "start_time": "2022-12-15T06:44:11.374654",
     "status": "completed"
    },
    "tags": []
   },
   "source": [
    "### Record structure of inputs and outputs for ONNX model\n",
    "\n",
    "(this should likely be done in training notebook)"
   ]
  },
  {
   "cell_type": "code",
   "execution_count": 8,
   "id": "acebe8d5",
   "metadata": {
    "execution": {
     "iopub.execute_input": "2022-12-15T06:44:11.393174Z",
     "iopub.status.busy": "2022-12-15T06:44:11.392840Z",
     "iopub.status.idle": "2022-12-15T06:44:11.401548Z",
     "shell.execute_reply": "2022-12-15T06:44:11.400759Z"
    },
    "papermill": {
     "duration": 0.019251,
     "end_time": "2022-12-15T06:44:11.405733",
     "exception": false,
     "start_time": "2022-12-15T06:44:11.386482",
     "status": "completed"
    },
    "tags": []
   },
   "outputs": [
    {
     "name": "stdout",
     "output_type": "stream",
     "text": [
      "{\n",
      "  \"inputs\": [\n",
      "    {\n",
      "      \"name\": \"float_input_8x8_image\",\n",
      "      \"shape\": [\n",
      "        null,\n",
      "        64\n",
      "      ],\n",
      "      \"type\": \"tensor(float)\"\n",
      "    }\n",
      "  ],\n",
      "  \"outputs\": [\n",
      "    {\n",
      "      \"name\": \"output_label\",\n",
      "      \"shape\": [\n",
      "        null\n",
      "      ],\n",
      "      \"type\": \"tensor(int64)\"\n",
      "    },\n",
      "    {\n",
      "      \"name\": \"output_probability\",\n",
      "      \"shape\": [],\n",
      "      \"type\": \"seq(map(int64,tensor(float)))\"\n",
      "    }\n",
      "  ]\n",
      "}\n"
     ]
    }
   ],
   "source": [
    "import json\n",
    "\n",
    "onnx_io = json.dumps(\n",
    "    {\n",
    "        \"inputs\": get_onnx_inputs(onnx_inference_session),\n",
    "        \"outputs\": get_onnx_outputs(onnx_inference_session),\n",
    "    },\n",
    "    indent=2,\n",
    ")\n",
    "\n",
    "\n",
    "logger.log_artefact(\"onnx_io_structure.json\", onnx_io)\n",
    "print(onnx_io)"
   ]
  },
  {
   "cell_type": "markdown",
   "id": "3855de72",
   "metadata": {
    "papermill": {
     "duration": 0.005665,
     "end_time": "2022-12-15T06:44:11.417260",
     "exception": false,
     "start_time": "2022-12-15T06:44:11.411595",
     "status": "completed"
    },
    "tags": []
   },
   "source": [
    "### Evaluate model performance on evaluation data set"
   ]
  },
  {
   "cell_type": "code",
   "execution_count": 9,
   "id": "be36ccaf",
   "metadata": {
    "execution": {
     "iopub.execute_input": "2022-12-15T06:44:11.430693Z",
     "iopub.status.busy": "2022-12-15T06:44:11.430359Z",
     "iopub.status.idle": "2022-12-15T06:44:11.436010Z",
     "shell.execute_reply": "2022-12-15T06:44:11.435327Z"
    },
    "papermill": {
     "duration": 0.017396,
     "end_time": "2022-12-15T06:44:11.440318",
     "exception": false,
     "start_time": "2022-12-15T06:44:11.422922",
     "status": "completed"
    },
    "tags": []
   },
   "outputs": [],
   "source": [
    "# load evaluation data\n",
    "X_test = read_numpy(datalake_root(P) / \"test-data\" / \"digits.numpy\")\n",
    "y_test = read_numpy(datalake_root(P) / \"test-data\" / \"labels.numpy\")"
   ]
  },
  {
   "cell_type": "code",
   "execution_count": 10,
   "id": "08306125",
   "metadata": {
    "execution": {
     "iopub.execute_input": "2022-12-15T06:44:11.453393Z",
     "iopub.status.busy": "2022-12-15T06:44:11.453073Z",
     "iopub.status.idle": "2022-12-15T06:44:11.471944Z",
     "shell.execute_reply": "2022-12-15T06:44:11.471246Z"
    },
    "papermill": {
     "duration": 0.027862,
     "end_time": "2022-12-15T06:44:11.473969",
     "exception": false,
     "start_time": "2022-12-15T06:44:11.446107",
     "status": "completed"
    },
    "tags": []
   },
   "outputs": [],
   "source": [
    "def get_model_outputs(X, onnx_inference_session):\n",
    "    y_pred_labels, y_pred_map = onnx_inference_session.run(\n",
    "        [\"output_label\", \"output_probability\"],\n",
    "        {\"float_input_8x8_image\": X.astype(np.float32)},\n",
    "    )\n",
    "    y_pred_probs = np.array(\n",
    "        [[probabilities[digit] for digit in range(10)] for probabilities in y_pred_map]\n",
    "    )\n",
    "\n",
    "    assert y_pred_labels.shape == (X.shape[0],)\n",
    "    assert y_pred_probs.shape == (X.shape[0], 10)\n",
    "\n",
    "    return y_pred_labels, y_pred_probs\n",
    "\n",
    "\n",
    "# Note: as shown in the training notebook, the predicted labels and probabilities\n",
    "# computed below need not be compatible.\n",
    "y_pred_labels_test, y_pred_probs_test = get_model_outputs(\n",
    "    X_test, onnx_inference_session\n",
    ")"
   ]
  },
  {
   "cell_type": "markdown",
   "id": "ea403ada",
   "metadata": {
    "papermill": {
     "duration": 0.005913,
     "end_time": "2022-12-15T06:44:11.486423",
     "exception": false,
     "start_time": "2022-12-15T06:44:11.480510",
     "status": "completed"
    },
    "tags": []
   },
   "source": [
    "### Confusion matrix"
   ]
  },
  {
   "cell_type": "code",
   "execution_count": 11,
   "id": "61cf283f",
   "metadata": {
    "execution": {
     "iopub.execute_input": "2022-12-15T06:44:11.499615Z",
     "iopub.status.busy": "2022-12-15T06:44:11.499257Z",
     "iopub.status.idle": "2022-12-15T06:44:11.503415Z",
     "shell.execute_reply": "2022-12-15T06:44:11.502700Z"
    },
    "papermill": {
     "duration": 0.01542,
     "end_time": "2022-12-15T06:44:11.507338",
     "exception": false,
     "start_time": "2022-12-15T06:44:11.491918",
     "status": "completed"
    },
    "tags": []
   },
   "outputs": [],
   "source": [
    "# TODO"
   ]
  },
  {
   "cell_type": "markdown",
   "id": "f1aa2e55",
   "metadata": {
    "papermill": {
     "duration": 0.005998,
     "end_time": "2022-12-15T06:44:11.519086",
     "exception": false,
     "start_time": "2022-12-15T06:44:11.513088",
     "status": "completed"
    },
    "tags": []
   },
   "source": [
    "### Plot predicted probabilities for each classifier over all evaluation digit images"
   ]
  },
  {
   "cell_type": "code",
   "execution_count": 12,
   "id": "4094bc66",
   "metadata": {
    "execution": {
     "iopub.execute_input": "2022-12-15T06:44:11.531937Z",
     "iopub.status.busy": "2022-12-15T06:44:11.531600Z",
     "iopub.status.idle": "2022-12-15T06:44:15.084417Z",
     "shell.execute_reply": "2022-12-15T06:44:15.083668Z"
    },
    "papermill": {
     "duration": 3.561926,
     "end_time": "2022-12-15T06:44:15.086630",
     "exception": false,
     "start_time": "2022-12-15T06:44:11.524704",
     "status": "completed"
    },
    "tags": []
   },
   "outputs": [
    {
     "data": {
      "image/png": "[encoded data removed]",
      "text/plain": [
       "<Figure size 1600x600 with 10 Axes>"
      ]
     },
     "metadata": {},
     "output_type": "display_data"
    }
   ],
   "source": [
    "def plot_per_digit_probabilities(y_pred_probs):\n",
    "    fig, axs = plt.subplots(nrows=2, ncols=5, figsize=(16, 6))\n",
    "\n",
    "    for (r, c), digit, ax in zip(\n",
    "        it.product(range(2), range(5)), range(10), axs.reshape(-1)\n",
    "    ):\n",
    "        ax.hist(y_pred_probs_test[:, digit], bins=20)\n",
    "\n",
    "        ax.set_title(f\"Digit {digit}\")\n",
    "        if r == 1 and c == 2:\n",
    "            ax.set_xlabel(\"probability\", fontsize=16)\n",
    "\n",
    "        if c == 0:\n",
    "            ax.set_ylabel(\"counts\", fontsize=16)\n",
    "        ax.set_yscale(\"log\")\n",
    "\n",
    "    fig.tight_layout()\n",
    "    fig.suptitle(\n",
    "        f\"Distributions of prediction probabilities for each digit \"\n",
    "        f\"(on evaluation data, n={y_pred_probs.shape[0]})\",\n",
    "        fontsize=20,\n",
    "    )\n",
    "    fig.tight_layout()\n",
    "    fig.show()\n",
    "\n",
    "    return fig\n",
    "\n",
    "\n",
    "fig = plot_per_digit_probabilities(y_pred_probs_test)"
   ]
  },
  {
   "cell_type": "markdown",
   "id": "c68d877d",
   "metadata": {
    "papermill": {
     "duration": 0.006298,
     "end_time": "2022-12-15T06:44:15.099979",
     "exception": false,
     "start_time": "2022-12-15T06:44:15.093681",
     "status": "completed"
    },
    "tags": []
   },
   "source": [
    "From the above distributions we see that most digits have clear separation between\n",
    "high and lower probabilities. Morover, in each case there is roughly an order of\n",
    "magnitude more of digits with low probabilities. This is compatible with digits\n",
    "being roughly evenly distributed in the data."
   ]
  },
  {
   "cell_type": "code",
   "execution_count": 13,
   "id": "47afb16c",
   "metadata": {
    "execution": {
     "iopub.execute_input": "2022-12-15T06:44:15.114436Z",
     "iopub.status.busy": "2022-12-15T06:44:15.114105Z",
     "iopub.status.idle": "2022-12-15T06:44:15.662783Z",
     "shell.execute_reply": "2022-12-15T06:44:15.662109Z"
    },
    "papermill": {
     "duration": 0.55902,
     "end_time": "2022-12-15T06:44:15.665099",
     "exception": false,
     "start_time": "2022-12-15T06:44:15.106079",
     "status": "completed"
    },
    "tags": []
   },
   "outputs": [],
   "source": [
    "logger.log_figure(\"per-digit-probabilities.png\", fig)"
   ]
  },
  {
   "cell_type": "markdown",
   "id": "762f503c",
   "metadata": {
    "papermill": {
     "duration": 0.006243,
     "end_time": "2022-12-15T06:44:15.678693",
     "exception": false,
     "start_time": "2022-12-15T06:44:15.672450",
     "status": "completed"
    },
    "tags": []
   },
   "source": [
    "### Plot ROC curves for individual one-vs-rest classifiers"
   ]
  },
  {
   "cell_type": "code",
   "execution_count": 14,
   "id": "bc7e928c",
   "metadata": {
    "execution": {
     "iopub.execute_input": "2022-12-15T06:44:15.692675Z",
     "iopub.status.busy": "2022-12-15T06:44:15.692342Z",
     "iopub.status.idle": "2022-12-15T06:44:16.197515Z",
     "shell.execute_reply": "2022-12-15T06:44:16.196785Z"
    },
    "papermill": {
     "duration": 0.514618,
     "end_time": "2022-12-15T06:44:16.199785",
     "exception": false,
     "start_time": "2022-12-15T06:44:15.685167",
     "status": "completed"
    },
    "tags": []
   },
   "outputs": [],
   "source": [
    "from sklearn import metrics"
   ]
  },
  {
   "cell_type": "code",
   "execution_count": 15,
   "id": "df732ad5",
   "metadata": {
    "execution": {
     "iopub.execute_input": "2022-12-15T06:44:16.215054Z",
     "iopub.status.busy": "2022-12-15T06:44:16.214688Z",
     "iopub.status.idle": "2022-12-15T06:44:17.614020Z",
     "shell.execute_reply": "2022-12-15T06:44:17.613162Z"
    },
    "papermill": {
     "duration": 1.409456,
     "end_time": "2022-12-15T06:44:17.616463",
     "exception": false,
     "start_time": "2022-12-15T06:44:16.207007",
     "status": "completed"
    },
    "tags": []
   },
   "outputs": [
    {
     "data": {
      "image/png": "[encoded data removed]",
      "text/plain": [
       "<Figure size 1600x800 with 10 Axes>"
      ]
     },
     "metadata": {},
     "output_type": "display_data"
    }
   ],
   "source": [
    "def plot_roc_curves(y, y_pred_probs):\n",
    "    # based on example code\n",
    "    # https://scikit-learn.org/stable/auto_examples/model_selection/plot_roc.html\n",
    "\n",
    "    fig, axs = plt.subplots(nrows=2, ncols=5, figsize=(16, 8))\n",
    "\n",
    "    roc_auc_dict = {}\n",
    "\n",
    "    for (r, c), digit, ax in zip(\n",
    "        it.product(range(2), range(5)), range(10), axs.reshape(-1)\n",
    "    ):\n",
    "        fpr, tpr, _ = metrics.roc_curve(y == digit, y_pred_probs[:, digit])\n",
    "        auc = metrics.auc(fpr, tpr)\n",
    "        roc_auc_dict[str(digit)] = auc\n",
    "\n",
    "        ax.plot(fpr, tpr, label=f\"ROC AUC={round(auc, 3)}\")\n",
    "\n",
    "        ax.set_title(f\"\\nDigit {digit}\", fontsize=16)\n",
    "        if r == 1:\n",
    "            ax.set_xlabel(\"FPR\", fontsize=18)\n",
    "\n",
    "        if c == 0:\n",
    "            ax.set_ylabel(\"TPR\", fontsize=18)\n",
    "\n",
    "        ax.set_xlim([-0.05, 1.05])\n",
    "        ax.set_ylim([-0.05, 1.05])\n",
    "        ax.legend(loc=\"lower right\", frameon=False, fontsize=14)\n",
    "\n",
    "    fig.tight_layout()\n",
    "    fig.suptitle(\n",
    "        f\"ROC plots for one-vs-rest performances \"\n",
    "        f\"(on evaluation data, n={y_pred_probs_test.shape[1]}\",\n",
    "        fontsize=22,\n",
    "    )\n",
    "    fig.tight_layout()\n",
    "    fig.show()\n",
    "\n",
    "    return roc_auc_dict, fig\n",
    "\n",
    "\n",
    "roc_auc_dict, fig = plot_roc_curves(y_test, y_pred_probs_test)"
   ]
  },
  {
   "cell_type": "code",
   "execution_count": 16,
   "id": "bb2a5bb7",
   "metadata": {
    "execution": {
     "iopub.execute_input": "2022-12-15T06:44:17.634921Z",
     "iopub.status.busy": "2022-12-15T06:44:17.634591Z",
     "iopub.status.idle": "2022-12-15T06:44:17.969144Z",
     "shell.execute_reply": "2022-12-15T06:44:17.968421Z"
    },
    "papermill": {
     "duration": 0.346418,
     "end_time": "2022-12-15T06:44:17.971407",
     "exception": false,
     "start_time": "2022-12-15T06:44:17.624989",
     "status": "completed"
    },
    "tags": []
   },
   "outputs": [],
   "source": [
    "logger.log_figure(\"per-digit-roc-curves.png\", fig)"
   ]
  },
  {
   "cell_type": "code",
   "execution_count": 17,
   "id": "e8a0294c",
   "metadata": {
    "execution": {
     "iopub.execute_input": "2022-12-15T06:44:17.989975Z",
     "iopub.status.busy": "2022-12-15T06:44:17.989648Z",
     "iopub.status.idle": "2022-12-15T06:44:17.995182Z",
     "shell.execute_reply": "2022-12-15T06:44:17.994327Z"
    },
    "papermill": {
     "duration": 0.019865,
     "end_time": "2022-12-15T06:44:18.000176",
     "exception": false,
     "start_time": "2022-12-15T06:44:17.980311",
     "status": "completed"
    },
    "tags": []
   },
   "outputs": [
    {
     "data": {
      "text/plain": [
       "{'0': 1.0,\n",
       " '1': 0.9993252108716026,\n",
       " '2': 1.0,\n",
       " '3': 0.9997750702905343,\n",
       " '4': 0.9991236092059138,\n",
       " '5': 0.998950328022493,\n",
       " '6': 0.999923792104862,\n",
       " '7': 0.9998475842097241,\n",
       " '8': 0.9946011979823455,\n",
       " '9': 0.998704465782655}"
      ]
     },
     "execution_count": 17,
     "metadata": {},
     "output_type": "execute_result"
    }
   ],
   "source": [
    "roc_auc_dict"
   ]
  },
  {
   "cell_type": "code",
   "execution_count": 18,
   "id": "c19f45fd",
   "metadata": {
    "execution": {
     "iopub.execute_input": "2022-12-15T06:44:18.018369Z",
     "iopub.status.busy": "2022-12-15T06:44:18.018038Z",
     "iopub.status.idle": "2022-12-15T06:44:18.023121Z",
     "shell.execute_reply": "2022-12-15T06:44:18.022250Z"
    },
    "papermill": {
     "duration": 0.018334,
     "end_time": "2022-12-15T06:44:18.027514",
     "exception": false,
     "start_time": "2022-12-15T06:44:18.009180",
     "status": "completed"
    },
    "tags": []
   },
   "outputs": [
    {
     "name": "stdout",
     "output_type": "stream",
     "text": [
      " - Logging roc_auc_per_digit (json) : {'0': 1.0, '1': 0.9993252108716026, '2': 1.0, '3': 0.9997750702905343, '4': 0.9991236092059138, '5': 0.998950328022493, '6': 0.999923792104862, '7': 0.9998475842097241, '8': 0.9946011979823455, '9': 0.998704465782655}\n"
     ]
    }
   ],
   "source": [
    "logger.log_value(\"roc_auc_per_digit\", roc_auc_dict)"
   ]
  },
  {
   "cell_type": "markdown",
   "id": "ac88faa7",
   "metadata": {
    "papermill": {
     "duration": 0.007986,
     "end_time": "2022-12-15T06:44:18.043728",
     "exception": false,
     "start_time": "2022-12-15T06:44:18.035742",
     "status": "completed"
    },
    "tags": []
   },
   "source": [
    "### Compute and log mean ROC AUC score averaged over all digits"
   ]
  },
  {
   "cell_type": "code",
   "execution_count": 19,
   "id": "d0c2ae7f",
   "metadata": {
    "execution": {
     "iopub.execute_input": "2022-12-15T06:44:18.061342Z",
     "iopub.status.busy": "2022-12-15T06:44:18.060969Z",
     "iopub.status.idle": "2022-12-15T06:44:18.079416Z",
     "shell.execute_reply": "2022-12-15T06:44:18.078546Z"
    },
    "papermill": {
     "duration": 0.030499,
     "end_time": "2022-12-15T06:44:18.082428",
     "exception": false,
     "start_time": "2022-12-15T06:44:18.051929",
     "status": "completed"
    },
    "tags": []
   },
   "outputs": [
    {
     "name": "stdout",
     "output_type": "stream",
     "text": [
      " - Logging roc_auc_class_mean (float) : 0.9990251258470131\n"
     ]
    }
   ],
   "source": [
    "roc_auc_macro = np.mean(list(roc_auc_dict.values()))\n",
    "\n",
    "logger.log_float(\"roc_auc_class_mean\", roc_auc_macro)\n",
    "\n",
    "# assert that the same value can be computed directly using sklearn\n",
    "assert roc_auc_macro == metrics.roc_auc_score(\n",
    "    y_test, y_pred_probs_test, average=\"macro\", multi_class=\"ovr\"\n",
    ")"
   ]
  },
  {
   "cell_type": "code",
   "execution_count": 20,
   "id": "89855a7c",
   "metadata": {
    "execution": {
     "iopub.execute_input": "2022-12-15T06:44:18.102734Z",
     "iopub.status.busy": "2022-12-15T06:44:18.102388Z",
     "iopub.status.idle": "2022-12-15T06:44:18.106891Z",
     "shell.execute_reply": "2022-12-15T06:44:18.105637Z"
    },
    "lines_to_next_cell": 0,
    "papermill": {
     "duration": 0.019107,
     "end_time": "2022-12-15T06:44:18.110540",
     "exception": false,
     "start_time": "2022-12-15T06:44:18.091433",
     "status": "completed"
    },
    "tags": []
   },
   "outputs": [],
   "source": [
    "# ---"
   ]
  },
  {
   "cell_type": "code",
   "execution_count": null,
   "id": "5938b63c",
   "metadata": {
    "papermill": {
     "duration": 0.008635,
     "end_time": "2022-12-15T06:44:18.128510",
     "exception": false,
     "start_time": "2022-12-15T06:44:18.119875",
     "status": "completed"
    },
    "tags": []
   },
   "outputs": [],
   "source": []
  }
 ],
 "metadata": {
  "jupytext": {
   "cell_metadata_filter": "tags,-all",
   "main_language": "python",
   "notebook_metadata_filter": "-all"
  },
  "language_info": {
   "codemirror_mode": {
    "name": "ipython",
    "version": 3
   },
   "file_extension": ".py",
   "mimetype": "text/x-python",
   "name": "python",
   "nbconvert_exporter": "python",
   "pygments_lexer": "ipython3",
   "version": "3.8.10"
  },
  "papermill": {
   "default_parameters": {},
   "duration": 11.554936,
   "end_time": "2022-12-15T06:44:19.459611",
   "environment_variables": {},
   "exception": null,
   "input_path": "/home/host_user/workspace/mnist-demo-pipeline/mnist-demo-pipeline/notebooks/temp-notebook-1npnlh9l.ipynb",
   "output_path": "notebooks/benchmark-model.ipynb",
   "parameters": {
    "P": {
     "_opentelemetry_traceparent": "00-e6c434243e35448fc318c1f3aee023bf-2c5acfb82bd889f9-01",
     "pipeline.data_lake_root": "/pipeline-outputs/data-lake",
     "pipeline.github.actor": "matiasdahl",
     "pipeline.github.base_ref": "",
     "pipeline.github.event_name": "schedule",
     "pipeline.github.head_ref": "",
     "pipeline.github.job": "run-tests-pipeline-and-persist-pipeline-outputs",
     "pipeline.github.ref": "refs/heads/development",
     "pipeline.github.ref_name": "development",
     "pipeline.github.ref_type": "branch",
     "pipeline.github.repository": "matiasdahl/dev-mnist-digits-demo-pipeline",
     "pipeline.github.run_id": "3701709453",
     "pipeline.github.runner_name": "Hosted Agent",
     "pipeline.github.sha": "ace0d01011d5e914f1921450dd5a59c11367b38d",
     "pipeline.github.workflow": "Run automated tests, pipeline and deploy results to static reporting site",
     "pipeline.pipeline_run_id": "7d82a703-9640-46f9-aae7-873c30f28f56",
     "pipeline.run_environment": "ci",
     "run.retry_nr": "0",
     "task.max_nr_retries": "1",
     "task.notebook": "notebooks/benchmark-model.py",
     "task.nr_train_images": 600,
     "task.num_cpus": 1,
     "task.timeout_s": "None"
    }
   },
   "start_time": "2022-12-15T06:44:07.904675",
   "version": "2.3.3"
  }
 },
 "nbformat": 4,
 "nbformat_minor": 5
}