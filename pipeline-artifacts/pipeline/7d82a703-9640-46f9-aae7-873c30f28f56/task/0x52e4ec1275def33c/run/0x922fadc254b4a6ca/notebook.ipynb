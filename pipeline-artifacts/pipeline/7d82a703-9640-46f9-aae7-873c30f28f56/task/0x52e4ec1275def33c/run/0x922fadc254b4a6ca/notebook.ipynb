{
 "cells": [
  {
   "cell_type": "markdown",
   "id": "bee73f0a",
   "metadata": {
    "papermill": {
     "duration": 0.004237,
     "end_time": "2022-12-15T06:43:33.072624",
     "exception": false,
     "start_time": "2022-12-15T06:43:33.068387",
     "status": "completed"
    },
    "tags": []
   },
   "source": [
    "# Split digits and labels into separate training and testing data sets"
   ]
  },
  {
   "cell_type": "markdown",
   "id": "7dcf5034",
   "metadata": {
    "papermill": {
     "duration": 0.002498,
     "end_time": "2022-12-15T06:43:33.080631",
     "exception": false,
     "start_time": "2022-12-15T06:43:33.078133",
     "status": "completed"
    },
    "tags": []
   },
   "source": [
    "### Determine run parameters"
   ]
  },
  {
   "cell_type": "code",
   "execution_count": 1,
   "id": "dee8de15",
   "metadata": {
    "execution": {
     "iopub.execute_input": "2022-12-15T06:43:33.088795Z",
     "iopub.status.busy": "2022-12-15T06:43:33.088467Z",
     "iopub.status.idle": "2022-12-15T06:43:33.099792Z",
     "shell.execute_reply": "2022-12-15T06:43:33.099136Z"
    },
    "lines_to_next_cell": 0,
    "papermill": {
     "duration": 0.01862,
     "end_time": "2022-12-15T06:43:33.101853",
     "exception": false,
     "start_time": "2022-12-15T06:43:33.083233",
     "status": "completed"
    },
    "tags": []
   },
   "outputs": [],
   "source": [
    "# ----------------- Parameters for interactive development --------------\n",
    "P = {\n",
    "    \"pipeline.data_lake_root\": \"/pipeline-outputs/data-lake\",\n",
    "    \"task.train_test_ratio\": 0.7,\n",
    "}"
   ]
  },
  {
   "cell_type": "code",
   "execution_count": 2,
   "id": "adb67a6c",
   "metadata": {
    "execution": {
     "iopub.execute_input": "2022-12-15T06:43:33.112224Z",
     "iopub.status.busy": "2022-12-15T06:43:33.111829Z",
     "iopub.status.idle": "2022-12-15T06:43:33.116088Z",
     "shell.execute_reply": "2022-12-15T06:43:33.114677Z"
    },
    "lines_to_next_cell": 0,
    "papermill": {
     "duration": 0.014562,
     "end_time": "2022-12-15T06:43:33.119964",
     "exception": false,
     "start_time": "2022-12-15T06:43:33.105402",
     "status": "completed"
    },
    "tags": [
     "parameters"
    ]
   },
   "outputs": [],
   "source": [
    "# - During automated runs parameters will be injected in the below cell -"
   ]
  },
  {
   "cell_type": "code",
   "execution_count": 3,
   "id": "69c9a97a",
   "metadata": {
    "execution": {
     "iopub.execute_input": "2022-12-15T06:43:33.128994Z",
     "iopub.status.busy": "2022-12-15T06:43:33.128705Z",
     "iopub.status.idle": "2022-12-15T06:43:33.133815Z",
     "shell.execute_reply": "2022-12-15T06:43:33.133213Z"
    },
    "papermill": {
     "duration": 0.016263,
     "end_time": "2022-12-15T06:43:33.139357",
     "exception": false,
     "start_time": "2022-12-15T06:43:33.123094",
     "status": "completed"
    },
    "tags": [
     "injected-parameters"
    ]
   },
   "outputs": [],
   "source": [
    "# Parameters\n",
    "P = {\n",
    "    \"pipeline.data_lake_root\": \"/pipeline-outputs/data-lake\",\n",
    "    \"pipeline.run_environment\": \"ci\",\n",
    "    \"pipeline.pipeline_run_id\": \"7d82a703-9640-46f9-aae7-873c30f28f56\",\n",
    "    \"pipeline.github.repository\": \"matiasdahl/dev-mnist-digits-demo-pipeline\",\n",
    "    \"pipeline.github.workflow\": \"Run automated tests, pipeline and deploy results to static reporting site\",\n",
    "    \"pipeline.github.runner_name\": \"Hosted Agent\",\n",
    "    \"pipeline.github.run_id\": \"3701709453\",\n",
    "    \"pipeline.github.actor\": \"matiasdahl\",\n",
    "    \"pipeline.github.job\": \"run-tests-pipeline-and-persist-pipeline-outputs\",\n",
    "    \"pipeline.github.base_ref\": \"\",\n",
    "    \"pipeline.github.head_ref\": \"\",\n",
    "    \"pipeline.github.sha\": \"ace0d01011d5e914f1921450dd5a59c11367b38d\",\n",
    "    \"pipeline.github.ref\": \"refs/heads/development\",\n",
    "    \"pipeline.github.ref_type\": \"branch\",\n",
    "    \"pipeline.github.ref_name\": \"development\",\n",
    "    \"pipeline.github.event_name\": \"schedule\",\n",
    "    \"task.train_test_ratio\": 0.7,\n",
    "    \"task.notebook\": \"notebooks/split-train-test.py\",\n",
    "    \"task.max_nr_retries\": \"1\",\n",
    "    \"run.retry_nr\": \"0\",\n",
    "    \"task.timeout_s\": \"None\",\n",
    "    \"task.num_cpus\": 1,\n",
    "    \"_opentelemetry_traceparent\": \"00-e6c434243e35448fc318c1f3aee023bf-1c4ecb3f63972342-01\",\n",
    "}\n"
   ]
  },
  {
   "cell_type": "code",
   "execution_count": 4,
   "id": "145b218e",
   "metadata": {
    "execution": {
     "iopub.execute_input": "2022-12-15T06:43:33.158212Z",
     "iopub.status.busy": "2022-12-15T06:43:33.157788Z",
     "iopub.status.idle": "2022-12-15T06:43:33.162096Z",
     "shell.execute_reply": "2022-12-15T06:43:33.161468Z"
    },
    "lines_to_next_cell": 0,
    "papermill": {
     "duration": 0.023885,
     "end_time": "2022-12-15T06:43:33.166161",
     "exception": false,
     "start_time": "2022-12-15T06:43:33.142276",
     "status": "completed"
    },
    "tags": []
   },
   "outputs": [],
   "source": [
    "# -----------------------------------------------------------------------"
   ]
  },
  {
   "cell_type": "markdown",
   "id": "99cf710b",
   "metadata": {
    "papermill": {
     "duration": 0.003827,
     "end_time": "2022-12-15T06:43:33.173000",
     "exception": false,
     "start_time": "2022-12-15T06:43:33.169173",
     "status": "completed"
    },
    "tags": []
   },
   "source": [
    "---"
   ]
  },
  {
   "cell_type": "markdown",
   "id": "9e207c5d",
   "metadata": {
    "lines_to_next_cell": 2,
    "papermill": {
     "duration": 0.002994,
     "end_time": "2022-12-15T06:43:33.179411",
     "exception": false,
     "start_time": "2022-12-15T06:43:33.176417",
     "status": "completed"
    },
    "tags": []
   },
   "source": [
    "### Notebook code"
   ]
  },
  {
   "cell_type": "code",
   "execution_count": 5,
   "id": "10374b49",
   "metadata": {
    "execution": {
     "iopub.execute_input": "2022-12-15T06:43:33.189939Z",
     "iopub.status.busy": "2022-12-15T06:43:33.189609Z",
     "iopub.status.idle": "2022-12-15T06:43:33.889600Z",
     "shell.execute_reply": "2022-12-15T06:43:33.888032Z"
    },
    "papermill": {
     "duration": 0.707151,
     "end_time": "2022-12-15T06:43:33.892665",
     "exception": false,
     "start_time": "2022-12-15T06:43:33.185514",
     "status": "completed"
    },
    "tags": []
   },
   "outputs": [
    {
     "name": "stderr",
     "output_type": "stream",
     "text": [
      "2022-12-15 06:43:33,718\tINFO worker.py:842 -- Connecting to existing Ray cluster at address: 172.17.0.2:6379\n"
     ]
    }
   ],
   "source": [
    "from common.io import datalake_root, read_numpy, write_numpy\n",
    "from pynb_dag_runner.tasks.task_opentelemetry_logging import PydarLogger\n",
    "\n",
    "logger = PydarLogger(P)"
   ]
  },
  {
   "cell_type": "markdown",
   "id": "c207959a",
   "metadata": {
    "papermill": {
     "duration": 0.004393,
     "end_time": "2022-12-15T06:43:33.900568",
     "exception": false,
     "start_time": "2022-12-15T06:43:33.896175",
     "status": "completed"
    },
    "tags": []
   },
   "source": [
    "## Load and split digits data"
   ]
  },
  {
   "cell_type": "code",
   "execution_count": 6,
   "id": "921d92ba",
   "metadata": {
    "execution": {
     "iopub.execute_input": "2022-12-15T06:43:33.917252Z",
     "iopub.status.busy": "2022-12-15T06:43:33.916791Z",
     "iopub.status.idle": "2022-12-15T06:43:33.926217Z",
     "shell.execute_reply": "2022-12-15T06:43:33.925038Z"
    },
    "papermill": {
     "duration": 0.016189,
     "end_time": "2022-12-15T06:43:33.928323",
     "exception": false,
     "start_time": "2022-12-15T06:43:33.912134",
     "status": "completed"
    },
    "tags": []
   },
   "outputs": [],
   "source": [
    "X = read_numpy(datalake_root(P) / \"raw\" / \"digits.numpy\")\n",
    "y = read_numpy(datalake_root(P) / \"raw\" / \"labels.numpy\")"
   ]
  },
  {
   "cell_type": "code",
   "execution_count": 7,
   "id": "396fd09d",
   "metadata": {
    "execution": {
     "iopub.execute_input": "2022-12-15T06:43:33.937756Z",
     "iopub.status.busy": "2022-12-15T06:43:33.937454Z",
     "iopub.status.idle": "2022-12-15T06:43:34.548306Z",
     "shell.execute_reply": "2022-12-15T06:43:34.547168Z"
    },
    "papermill": {
     "duration": 0.618549,
     "end_time": "2022-12-15T06:43:34.551601",
     "exception": false,
     "start_time": "2022-12-15T06:43:33.933052",
     "status": "completed"
    },
    "tags": []
   },
   "outputs": [],
   "source": [
    "from sklearn.model_selection import train_test_split\n",
    "\n",
    "X_train, X_test, y_train, y_test = train_test_split(\n",
    "    X,\n",
    "    y,\n",
    "    train_size=P[\"task.train_test_ratio\"],\n",
    "    test_size=None,\n",
    "    stratify=y,\n",
    "    shuffle=True,\n",
    "    random_state=1,\n",
    ")\n",
    "\n",
    "# assert nr of pixels per image is the same for all image vectors\n",
    "assert X.shape[1] == X_train.shape[1] == X_test.shape[1]\n",
    "\n",
    "# assert that the (X, y)-pairs have compatible sizes (for both train and test)\n",
    "assert X_train.shape[0] == len(y_train)\n",
    "assert X_test.shape[0] == len(y_test)\n",
    "\n",
    "# assert that all data is used\n",
    "assert len(y) == len(y_train) + len(y_test)"
   ]
  },
  {
   "cell_type": "code",
   "execution_count": 8,
   "id": "0744d5ea",
   "metadata": {
    "execution": {
     "iopub.execute_input": "2022-12-15T06:43:34.561717Z",
     "iopub.status.busy": "2022-12-15T06:43:34.561143Z",
     "iopub.status.idle": "2022-12-15T06:43:34.570181Z",
     "shell.execute_reply": "2022-12-15T06:43:34.569337Z"
    },
    "papermill": {
     "duration": 0.017898,
     "end_time": "2022-12-15T06:43:34.573027",
     "exception": false,
     "start_time": "2022-12-15T06:43:34.555129",
     "status": "completed"
    },
    "tags": []
   },
   "outputs": [
    {
     "name": "stdout",
     "output_type": "stream",
     "text": [
      " - Logging nr_digits_train (int) : 1257\n",
      " - Logging nr_digits_test (int) : 540\n"
     ]
    }
   ],
   "source": [
    "logger.log_int(\"nr_digits_train\", len(y_train))\n",
    "logger.log_int(\"nr_digits_test\", len(y_test))"
   ]
  },
  {
   "cell_type": "markdown",
   "id": "b32650a2",
   "metadata": {
    "papermill": {
     "duration": 0.004914,
     "end_time": "2022-12-15T06:43:34.581349",
     "exception": false,
     "start_time": "2022-12-15T06:43:34.576435",
     "status": "completed"
    },
    "tags": []
   },
   "source": [
    "### Persist training and test data sets to separate files"
   ]
  },
  {
   "cell_type": "code",
   "execution_count": 9,
   "id": "bb80f7b3",
   "metadata": {
    "execution": {
     "iopub.execute_input": "2022-12-15T06:43:34.589313Z",
     "iopub.status.busy": "2022-12-15T06:43:34.588980Z",
     "iopub.status.idle": "2022-12-15T06:43:34.600509Z",
     "shell.execute_reply": "2022-12-15T06:43:34.599702Z"
    },
    "papermill": {
     "duration": 0.020703,
     "end_time": "2022-12-15T06:43:34.605183",
     "exception": false,
     "start_time": "2022-12-15T06:43:34.584480",
     "status": "completed"
    },
    "tags": []
   },
   "outputs": [],
   "source": [
    "write_numpy(datalake_root(P) / \"train-data\" / \"digits.numpy\", X_train)\n",
    "write_numpy(datalake_root(P) / \"train-data\" / \"labels.numpy\", y_train)\n",
    "\n",
    "#\n",
    "write_numpy(datalake_root(P) / \"test-data\" / \"digits.numpy\", X_test)\n",
    "write_numpy(datalake_root(P) / \"test-data\" / \"labels.numpy\", y_test)"
   ]
  },
  {
   "cell_type": "code",
   "execution_count": null,
   "id": "b9755c8e",
   "metadata": {
    "papermill": {
     "duration": 0.004416,
     "end_time": "2022-12-15T06:43:34.613126",
     "exception": false,
     "start_time": "2022-12-15T06:43:34.608710",
     "status": "completed"
    },
    "tags": []
   },
   "outputs": [],
   "source": []
  }
 ],
 "metadata": {
  "jupytext": {
   "cell_metadata_filter": "tags,-all",
   "main_language": "python",
   "notebook_metadata_filter": "-all"
  },
  "language_info": {
   "codemirror_mode": {
    "name": "ipython",
    "version": 3
   },
   "file_extension": ".py",
   "mimetype": "text/x-python",
   "name": "python",
   "nbconvert_exporter": "python",
   "pygments_lexer": "ipython3",
   "version": "3.8.10"
  },
  "papermill": {
   "default_parameters": {},
   "duration": 4.428327,
   "end_time": "2022-12-15T06:43:35.740185",
   "environment_variables": {},
   "exception": null,
   "input_path": "/home/host_user/workspace/mnist-demo-pipeline/mnist-demo-pipeline/notebooks/temp-notebook-pzfqkw55.ipynb",
   "output_path": "notebooks/split-train-test.ipynb",
   "parameters": {
    "P": {
     "_opentelemetry_traceparent": "00-e6c434243e35448fc318c1f3aee023bf-1c4ecb3f63972342-01",
     "pipeline.data_lake_root": "/pipeline-outputs/data-lake",
     "pipeline.github.actor": "matiasdahl",
     "pipeline.github.base_ref": "",
     "pipeline.github.event_name": "schedule",
     "pipeline.github.head_ref": "",
     "pipeline.github.job": "run-tests-pipeline-and-persist-pipeline-outputs",
     "pipeline.github.ref": "refs/heads/development",
     "pipeline.github.ref_name": "development",
     "pipeline.github.ref_type": "branch",
     "pipeline.github.repository": "matiasdahl/dev-mnist-digits-demo-pipeline",
     "pipeline.github.run_id": "3701709453",
     "pipeline.github.runner_name": "Hosted Agent",
     "pipeline.github.sha": "ace0d01011d5e914f1921450dd5a59c11367b38d",
     "pipeline.github.workflow": "Run automated tests, pipeline and deploy results to static reporting site",
     "pipeline.pipeline_run_id": "7d82a703-9640-46f9-aae7-873c30f28f56",
     "pipeline.run_environment": "ci",
     "run.retry_nr": "0",
     "task.max_nr_retries": "1",
     "task.notebook": "notebooks/split-train-test.py",
     "task.num_cpus": 1,
     "task.timeout_s": "None",
     "task.train_test_ratio": 0.7
    }
   },
   "start_time": "2022-12-15T06:43:31.311858",
   "version": "2.3.3"
  }
 },
 "nbformat": 4,
 "nbformat_minor": 5
}