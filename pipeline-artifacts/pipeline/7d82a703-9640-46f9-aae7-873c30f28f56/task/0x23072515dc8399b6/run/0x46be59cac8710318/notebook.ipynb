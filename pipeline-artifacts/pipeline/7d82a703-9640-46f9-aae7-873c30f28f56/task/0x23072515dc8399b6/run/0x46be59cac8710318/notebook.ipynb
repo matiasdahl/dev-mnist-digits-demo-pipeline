{
 "cells": [
  {
   "cell_type": "markdown",
   "id": "0fa60b6b",
   "metadata": {
    "papermill": {
     "duration": 0.007281,
     "end_time": "2022-12-15T06:44:16.720891",
     "exception": false,
     "start_time": "2022-12-15T06:44:16.713610",
     "status": "completed"
    },
    "tags": []
   },
   "source": [
    "# Benchmark model\n",
    "\n",
    "The purpose of this notebook is to benchmark persisted onnx-model (trained in the\n",
    "previous step) against evaluation set."
   ]
  },
  {
   "cell_type": "markdown",
   "id": "b6d1992a",
   "metadata": {
    "papermill": {
     "duration": 0.010256,
     "end_time": "2022-12-15T06:44:16.736550",
     "exception": false,
     "start_time": "2022-12-15T06:44:16.726294",
     "status": "completed"
    },
    "tags": []
   },
   "source": [
    "### Determine run parameters"
   ]
  },
  {
   "cell_type": "code",
   "execution_count": 1,
   "id": "2086b6ee",
   "metadata": {
    "execution": {
     "iopub.execute_input": "2022-12-15T06:44:16.750017Z",
     "iopub.status.busy": "2022-12-15T06:44:16.749656Z",
     "iopub.status.idle": "2022-12-15T06:44:16.766288Z",
     "shell.execute_reply": "2022-12-15T06:44:16.765366Z"
    },
    "lines_to_next_cell": 0,
    "papermill": {
     "duration": 0.028069,
     "end_time": "2022-12-15T06:44:16.769728",
     "exception": false,
     "start_time": "2022-12-15T06:44:16.741659",
     "status": "completed"
    },
    "tags": []
   },
   "outputs": [],
   "source": [
    "# ----------------- Parameters for interactive development --------------\n",
    "P = {\n",
    "    \"pipeline.data_lake_root\": \"/pipeline-outputs/data-lake\",\n",
    "    \"task.nr_train_images\": 600,\n",
    "}"
   ]
  },
  {
   "cell_type": "code",
   "execution_count": 2,
   "id": "d3610bbc",
   "metadata": {
    "execution": {
     "iopub.execute_input": "2022-12-15T06:44:16.781147Z",
     "iopub.status.busy": "2022-12-15T06:44:16.780851Z",
     "iopub.status.idle": "2022-12-15T06:44:16.784161Z",
     "shell.execute_reply": "2022-12-15T06:44:16.783522Z"
    },
    "lines_to_next_cell": 0,
    "papermill": {
     "duration": 0.013707,
     "end_time": "2022-12-15T06:44:16.788155",
     "exception": false,
     "start_time": "2022-12-15T06:44:16.774448",
     "status": "completed"
    },
    "tags": [
     "parameters"
    ]
   },
   "outputs": [],
   "source": [
    "# - During automated runs parameters will be injected in the below cell -"
   ]
  },
  {
   "cell_type": "code",
   "execution_count": 3,
   "id": "b9f0193f",
   "metadata": {
    "execution": {
     "iopub.execute_input": "2022-12-15T06:44:16.799982Z",
     "iopub.status.busy": "2022-12-15T06:44:16.799687Z",
     "iopub.status.idle": "2022-12-15T06:44:16.804848Z",
     "shell.execute_reply": "2022-12-15T06:44:16.804232Z"
    },
    "papermill": {
     "duration": 0.015822,
     "end_time": "2022-12-15T06:44:16.808625",
     "exception": false,
     "start_time": "2022-12-15T06:44:16.792803",
     "status": "completed"
    },
    "tags": [
     "injected-parameters"
    ]
   },
   "outputs": [],
   "source": [
    "# Parameters\n",
    "P = {\n",
    "    \"pipeline.data_lake_root\": \"/pipeline-outputs/data-lake\",\n",
    "    \"pipeline.run_environment\": \"ci\",\n",
    "    \"pipeline.pipeline_run_id\": \"7d82a703-9640-46f9-aae7-873c30f28f56\",\n",
    "    \"pipeline.github.repository\": \"matiasdahl/dev-mnist-digits-demo-pipeline\",\n",
    "    \"pipeline.github.workflow\": \"Run automated tests, pipeline and deploy results to static reporting site\",\n",
    "    \"pipeline.github.runner_name\": \"Hosted Agent\",\n",
    "    \"pipeline.github.run_id\": \"3701709453\",\n",
    "    \"pipeline.github.actor\": \"matiasdahl\",\n",
    "    \"pipeline.github.job\": \"run-tests-pipeline-and-persist-pipeline-outputs\",\n",
    "    \"pipeline.github.base_ref\": \"\",\n",
    "    \"pipeline.github.head_ref\": \"\",\n",
    "    \"pipeline.github.sha\": \"ace0d01011d5e914f1921450dd5a59c11367b38d\",\n",
    "    \"pipeline.github.ref\": \"refs/heads/development\",\n",
    "    \"pipeline.github.ref_type\": \"branch\",\n",
    "    \"pipeline.github.ref_name\": \"development\",\n",
    "    \"pipeline.github.event_name\": \"schedule\",\n",
    "    \"task.nr_train_images\": 1000,\n",
    "    \"task.notebook\": \"notebooks/benchmark-model.py\",\n",
    "    \"task.max_nr_retries\": \"1\",\n",
    "    \"run.retry_nr\": \"0\",\n",
    "    \"task.timeout_s\": \"None\",\n",
    "    \"task.num_cpus\": 1,\n",
    "    \"_opentelemetry_traceparent\": \"00-e6c434243e35448fc318c1f3aee023bf-1334b725171a950f-01\",\n",
    "}\n"
   ]
  },
  {
   "cell_type": "code",
   "execution_count": 4,
   "id": "cb9e378d",
   "metadata": {
    "execution": {
     "iopub.execute_input": "2022-12-15T06:44:16.821210Z",
     "iopub.status.busy": "2022-12-15T06:44:16.820909Z",
     "iopub.status.idle": "2022-12-15T06:44:16.824148Z",
     "shell.execute_reply": "2022-12-15T06:44:16.823498Z"
    },
    "lines_to_next_cell": 0,
    "papermill": {
     "duration": 0.013833,
     "end_time": "2022-12-15T06:44:16.827470",
     "exception": false,
     "start_time": "2022-12-15T06:44:16.813637",
     "status": "completed"
    },
    "tags": []
   },
   "outputs": [],
   "source": [
    "# -----------------------------------------------------------------------"
   ]
  },
  {
   "cell_type": "markdown",
   "id": "d6dd33c5",
   "metadata": {
    "papermill": {
     "duration": 0.006126,
     "end_time": "2022-12-15T06:44:16.848567",
     "exception": false,
     "start_time": "2022-12-15T06:44:16.842441",
     "status": "completed"
    },
    "tags": []
   },
   "source": [
    "---"
   ]
  },
  {
   "cell_type": "markdown",
   "id": "a2c252a9",
   "metadata": {
    "lines_to_next_cell": 2,
    "papermill": {
     "duration": 0.005743,
     "end_time": "2022-12-15T06:44:16.859452",
     "exception": false,
     "start_time": "2022-12-15T06:44:16.853709",
     "status": "completed"
    },
    "tags": []
   },
   "source": [
    "### Notebook code"
   ]
  },
  {
   "cell_type": "code",
   "execution_count": 5,
   "id": "7892b7fe",
   "metadata": {
    "execution": {
     "iopub.execute_input": "2022-12-15T06:44:16.880284Z",
     "iopub.status.busy": "2022-12-15T06:44:16.879915Z",
     "iopub.status.idle": "2022-12-15T06:44:18.312881Z",
     "shell.execute_reply": "2022-12-15T06:44:18.312167Z"
    },
    "papermill": {
     "duration": 1.445143,
     "end_time": "2022-12-15T06:44:18.317810",
     "exception": false,
     "start_time": "2022-12-15T06:44:16.872667",
     "status": "completed"
    },
    "tags": []
   },
   "outputs": [
    {
     "name": "stderr",
     "output_type": "stream",
     "text": [
      "2022-12-15 06:44:18,053\tINFO worker.py:842 -- Connecting to existing Ray cluster at address: 172.17.0.2:6379\n"
     ]
    }
   ],
   "source": [
    "import itertools as it\n",
    "\n",
    "#\n",
    "import numpy as np\n",
    "import matplotlib.pyplot as plt\n",
    "\n",
    "#\n",
    "from pynb_dag_runner.tasks.task_opentelemetry_logging import PydarLogger\n",
    "\n",
    "#\n",
    "from common.io import datalake_root\n",
    "\n",
    "logger = PydarLogger(P)"
   ]
  },
  {
   "cell_type": "markdown",
   "id": "d39c6591",
   "metadata": {
    "papermill": {
     "duration": 0.00608,
     "end_time": "2022-12-15T06:44:18.330861",
     "exception": false,
     "start_time": "2022-12-15T06:44:18.324781",
     "status": "completed"
    },
    "tags": []
   },
   "source": [
    "## Load persisted onnx-model and evaluation data"
   ]
  },
  {
   "cell_type": "code",
   "execution_count": 6,
   "id": "b73c4010",
   "metadata": {
    "execution": {
     "iopub.execute_input": "2022-12-15T06:44:18.343943Z",
     "iopub.status.busy": "2022-12-15T06:44:18.342985Z",
     "iopub.status.idle": "2022-12-15T06:44:18.348587Z",
     "shell.execute_reply": "2022-12-15T06:44:18.347858Z"
    },
    "papermill": {
     "duration": 0.015077,
     "end_time": "2022-12-15T06:44:18.350919",
     "exception": false,
     "start_time": "2022-12-15T06:44:18.335842",
     "status": "completed"
    },
    "tags": []
   },
   "outputs": [],
   "source": [
    "from common.io import read_onnx, get_onnx_inputs, get_onnx_outputs, read_numpy"
   ]
  },
  {
   "cell_type": "code",
   "execution_count": 7,
   "id": "dd65cb5f",
   "metadata": {
    "execution": {
     "iopub.execute_input": "2022-12-15T06:44:18.362843Z",
     "iopub.status.busy": "2022-12-15T06:44:18.362528Z",
     "iopub.status.idle": "2022-12-15T06:44:18.374176Z",
     "shell.execute_reply": "2022-12-15T06:44:18.373500Z"
    },
    "lines_to_next_cell": 0,
    "papermill": {
     "duration": 0.020003,
     "end_time": "2022-12-15T06:44:18.375988",
     "exception": false,
     "start_time": "2022-12-15T06:44:18.355985",
     "status": "completed"
    },
    "tags": []
   },
   "outputs": [],
   "source": [
    "onnx_inference_session = read_onnx(\n",
    "    datalake_root(P)\n",
    "    / \"models\"\n",
    "    / f\"nr_train_images={P['task.nr_train_images']}\"\n",
    "    / \"model.onnx\"\n",
    ")"
   ]
  },
  {
   "cell_type": "markdown",
   "id": "299feb35",
   "metadata": {
    "papermill": {
     "duration": 0.004776,
     "end_time": "2022-12-15T06:44:18.386583",
     "exception": false,
     "start_time": "2022-12-15T06:44:18.381807",
     "status": "completed"
    },
    "tags": []
   },
   "source": [
    "### Record structure of inputs and outputs for ONNX model\n",
    "\n",
    "(this should likely be done in training notebook)"
   ]
  },
  {
   "cell_type": "code",
   "execution_count": 8,
   "id": "61af5566",
   "metadata": {
    "execution": {
     "iopub.execute_input": "2022-12-15T06:44:18.398477Z",
     "iopub.status.busy": "2022-12-15T06:44:18.397965Z",
     "iopub.status.idle": "2022-12-15T06:44:18.405165Z",
     "shell.execute_reply": "2022-12-15T06:44:18.404549Z"
    },
    "papermill": {
     "duration": 0.0151,
     "end_time": "2022-12-15T06:44:18.406870",
     "exception": false,
     "start_time": "2022-12-15T06:44:18.391770",
     "status": "completed"
    },
    "tags": []
   },
   "outputs": [
    {
     "name": "stdout",
     "output_type": "stream",
     "text": [
      "{\n",
      "  \"inputs\": [\n",
      "    {\n",
      "      \"name\": \"float_input_8x8_image\",\n",
      "      \"shape\": [\n",
      "        null,\n",
      "        64\n",
      "      ],\n",
      "      \"type\": \"tensor(float)\"\n",
      "    }\n",
      "  ],\n",
      "  \"outputs\": [\n",
      "    {\n",
      "      \"name\": \"output_label\",\n",
      "      \"shape\": [\n",
      "        null\n",
      "      ],\n",
      "      \"type\": \"tensor(int64)\"\n",
      "    },\n",
      "    {\n",
      "      \"name\": \"output_probability\",\n",
      "      \"shape\": [],\n",
      "      \"type\": \"seq(map(int64,tensor(float)))\"\n",
      "    }\n",
      "  ]\n",
      "}\n"
     ]
    }
   ],
   "source": [
    "import json\n",
    "\n",
    "onnx_io = json.dumps(\n",
    "    {\n",
    "        \"inputs\": get_onnx_inputs(onnx_inference_session),\n",
    "        \"outputs\": get_onnx_outputs(onnx_inference_session),\n",
    "    },\n",
    "    indent=2,\n",
    ")\n",
    "\n",
    "\n",
    "logger.log_artefact(\"onnx_io_structure.json\", onnx_io)\n",
    "print(onnx_io)"
   ]
  },
  {
   "cell_type": "markdown",
   "id": "257e103b",
   "metadata": {
    "papermill": {
     "duration": 0.005024,
     "end_time": "2022-12-15T06:44:18.417331",
     "exception": false,
     "start_time": "2022-12-15T06:44:18.412307",
     "status": "completed"
    },
    "tags": []
   },
   "source": [
    "### Evaluate model performance on evaluation data set"
   ]
  },
  {
   "cell_type": "code",
   "execution_count": 9,
   "id": "6660d98b",
   "metadata": {
    "execution": {
     "iopub.execute_input": "2022-12-15T06:44:18.429635Z",
     "iopub.status.busy": "2022-12-15T06:44:18.429133Z",
     "iopub.status.idle": "2022-12-15T06:44:18.435862Z",
     "shell.execute_reply": "2022-12-15T06:44:18.435203Z"
    },
    "papermill": {
     "duration": 0.015397,
     "end_time": "2022-12-15T06:44:18.437910",
     "exception": false,
     "start_time": "2022-12-15T06:44:18.422513",
     "status": "completed"
    },
    "tags": []
   },
   "outputs": [],
   "source": [
    "# load evaluation data\n",
    "X_test = read_numpy(datalake_root(P) / \"test-data\" / \"digits.numpy\")\n",
    "y_test = read_numpy(datalake_root(P) / \"test-data\" / \"labels.numpy\")"
   ]
  },
  {
   "cell_type": "code",
   "execution_count": 10,
   "id": "d1eaa5b5",
   "metadata": {
    "execution": {
     "iopub.execute_input": "2022-12-15T06:44:18.450816Z",
     "iopub.status.busy": "2022-12-15T06:44:18.449918Z",
     "iopub.status.idle": "2022-12-15T06:44:18.467068Z",
     "shell.execute_reply": "2022-12-15T06:44:18.466352Z"
    },
    "papermill": {
     "duration": 0.025785,
     "end_time": "2022-12-15T06:44:18.469242",
     "exception": false,
     "start_time": "2022-12-15T06:44:18.443457",
     "status": "completed"
    },
    "tags": []
   },
   "outputs": [],
   "source": [
    "def get_model_outputs(X, onnx_inference_session):\n",
    "    y_pred_labels, y_pred_map = onnx_inference_session.run(\n",
    "        [\"output_label\", \"output_probability\"],\n",
    "        {\"float_input_8x8_image\": X.astype(np.float32)},\n",
    "    )\n",
    "    y_pred_probs = np.array(\n",
    "        [[probabilities[digit] for digit in range(10)] for probabilities in y_pred_map]\n",
    "    )\n",
    "\n",
    "    assert y_pred_labels.shape == (X.shape[0],)\n",
    "    assert y_pred_probs.shape == (X.shape[0], 10)\n",
    "\n",
    "    return y_pred_labels, y_pred_probs\n",
    "\n",
    "\n",
    "# Note: as shown in the training notebook, the predicted labels and probabilities\n",
    "# computed below need not be compatible.\n",
    "y_pred_labels_test, y_pred_probs_test = get_model_outputs(\n",
    "    X_test, onnx_inference_session\n",
    ")"
   ]
  },
  {
   "cell_type": "markdown",
   "id": "2dcb3c47",
   "metadata": {
    "papermill": {
     "duration": 0.00546,
     "end_time": "2022-12-15T06:44:18.480311",
     "exception": false,
     "start_time": "2022-12-15T06:44:18.474851",
     "status": "completed"
    },
    "tags": []
   },
   "source": [
    "### Confusion matrix"
   ]
  },
  {
   "cell_type": "code",
   "execution_count": 11,
   "id": "3071773c",
   "metadata": {
    "execution": {
     "iopub.execute_input": "2022-12-15T06:44:18.492856Z",
     "iopub.status.busy": "2022-12-15T06:44:18.492036Z",
     "iopub.status.idle": "2022-12-15T06:44:18.497132Z",
     "shell.execute_reply": "2022-12-15T06:44:18.496379Z"
    },
    "papermill": {
     "duration": 0.013414,
     "end_time": "2022-12-15T06:44:18.499026",
     "exception": false,
     "start_time": "2022-12-15T06:44:18.485612",
     "status": "completed"
    },
    "tags": []
   },
   "outputs": [],
   "source": [
    "# TODO"
   ]
  },
  {
   "cell_type": "markdown",
   "id": "04571aee",
   "metadata": {
    "papermill": {
     "duration": 0.00511,
     "end_time": "2022-12-15T06:44:18.509179",
     "exception": false,
     "start_time": "2022-12-15T06:44:18.504069",
     "status": "completed"
    },
    "tags": []
   },
   "source": [
    "### Plot predicted probabilities for each classifier over all evaluation digit images"
   ]
  },
  {
   "cell_type": "code",
   "execution_count": 12,
   "id": "a8c6e398",
   "metadata": {
    "execution": {
     "iopub.execute_input": "2022-12-15T06:44:18.520211Z",
     "iopub.status.busy": "2022-12-15T06:44:18.519856Z",
     "iopub.status.idle": "2022-12-15T06:44:21.976296Z",
     "shell.execute_reply": "2022-12-15T06:44:21.975505Z"
    },
    "papermill": {
     "duration": 3.464291,
     "end_time": "2022-12-15T06:44:21.978229",
     "exception": false,
     "start_time": "2022-12-15T06:44:18.513938",
     "status": "completed"
    },
    "tags": []
   },
   "outputs": [
    {
     "data": {
      "image/png": "[encoded data removed]",
      "text/plain": [
       "<Figure size 1600x600 with 10 Axes>"
      ]
     },
     "metadata": {},
     "output_type": "display_data"
    }
   ],
   "source": [
    "def plot_per_digit_probabilities(y_pred_probs):\n",
    "    fig, axs = plt.subplots(nrows=2, ncols=5, figsize=(16, 6))\n",
    "\n",
    "    for (r, c), digit, ax in zip(\n",
    "        it.product(range(2), range(5)), range(10), axs.reshape(-1)\n",
    "    ):\n",
    "        ax.hist(y_pred_probs_test[:, digit], bins=20)\n",
    "\n",
    "        ax.set_title(f\"Digit {digit}\")\n",
    "        if r == 1 and c == 2:\n",
    "            ax.set_xlabel(\"probability\", fontsize=16)\n",
    "\n",
    "        if c == 0:\n",
    "            ax.set_ylabel(\"counts\", fontsize=16)\n",
    "        ax.set_yscale(\"log\")\n",
    "\n",
    "    fig.tight_layout()\n",
    "    fig.suptitle(\n",
    "        f\"Distributions of prediction probabilities for each digit \"\n",
    "        f\"(on evaluation data, n={y_pred_probs.shape[0]})\",\n",
    "        fontsize=20,\n",
    "    )\n",
    "    fig.tight_layout()\n",
    "    fig.show()\n",
    "\n",
    "    return fig\n",
    "\n",
    "\n",
    "fig = plot_per_digit_probabilities(y_pred_probs_test)"
   ]
  },
  {
   "cell_type": "markdown",
   "id": "e0325d9f",
   "metadata": {
    "papermill": {
     "duration": 0.005891,
     "end_time": "2022-12-15T06:44:21.991031",
     "exception": false,
     "start_time": "2022-12-15T06:44:21.985140",
     "status": "completed"
    },
    "tags": []
   },
   "source": [
    "From the above distributions we see that most digits have clear separation between\n",
    "high and lower probabilities. Morover, in each case there is roughly an order of\n",
    "magnitude more of digits with low probabilities. This is compatible with digits\n",
    "being roughly evenly distributed in the data."
   ]
  },
  {
   "cell_type": "code",
   "execution_count": 13,
   "id": "bb94541f",
   "metadata": {
    "execution": {
     "iopub.execute_input": "2022-12-15T06:44:22.004541Z",
     "iopub.status.busy": "2022-12-15T06:44:22.004200Z",
     "iopub.status.idle": "2022-12-15T06:44:22.528202Z",
     "shell.execute_reply": "2022-12-15T06:44:22.527435Z"
    },
    "papermill": {
     "duration": 0.533325,
     "end_time": "2022-12-15T06:44:22.530390",
     "exception": false,
     "start_time": "2022-12-15T06:44:21.997065",
     "status": "completed"
    },
    "tags": []
   },
   "outputs": [],
   "source": [
    "logger.log_figure(\"per-digit-probabilities.png\", fig)"
   ]
  },
  {
   "cell_type": "markdown",
   "id": "cfcbd556",
   "metadata": {
    "papermill": {
     "duration": 0.005898,
     "end_time": "2022-12-15T06:44:22.543936",
     "exception": false,
     "start_time": "2022-12-15T06:44:22.538038",
     "status": "completed"
    },
    "tags": []
   },
   "source": [
    "### Plot ROC curves for individual one-vs-rest classifiers"
   ]
  },
  {
   "cell_type": "code",
   "execution_count": 14,
   "id": "de46d120",
   "metadata": {
    "execution": {
     "iopub.execute_input": "2022-12-15T06:44:22.557340Z",
     "iopub.status.busy": "2022-12-15T06:44:22.556977Z",
     "iopub.status.idle": "2022-12-15T06:44:23.034243Z",
     "shell.execute_reply": "2022-12-15T06:44:23.033407Z"
    },
    "papermill": {
     "duration": 0.48662,
     "end_time": "2022-12-15T06:44:23.036648",
     "exception": false,
     "start_time": "2022-12-15T06:44:22.550028",
     "status": "completed"
    },
    "tags": []
   },
   "outputs": [],
   "source": [
    "from sklearn import metrics"
   ]
  },
  {
   "cell_type": "code",
   "execution_count": 15,
   "id": "df9a4948",
   "metadata": {
    "execution": {
     "iopub.execute_input": "2022-12-15T06:44:23.058472Z",
     "iopub.status.busy": "2022-12-15T06:44:23.057959Z",
     "iopub.status.idle": "2022-12-15T06:44:24.310088Z",
     "shell.execute_reply": "2022-12-15T06:44:24.308897Z"
    },
    "papermill": {
     "duration": 1.267028,
     "end_time": "2022-12-15T06:44:24.311982",
     "exception": false,
     "start_time": "2022-12-15T06:44:23.044954",
     "status": "completed"
    },
    "tags": []
   },
   "outputs": [
    {
     "data": {
      "image/png": "[encoded data removed]",
      "text/plain": [
       "<Figure size 1600x800 with 10 Axes>"
      ]
     },
     "metadata": {},
     "output_type": "display_data"
    }
   ],
   "source": [
    "def plot_roc_curves(y, y_pred_probs):\n",
    "    # based on example code\n",
    "    # https://scikit-learn.org/stable/auto_examples/model_selection/plot_roc.html\n",
    "\n",
    "    fig, axs = plt.subplots(nrows=2, ncols=5, figsize=(16, 8))\n",
    "\n",
    "    roc_auc_dict = {}\n",
    "\n",
    "    for (r, c), digit, ax in zip(\n",
    "        it.product(range(2), range(5)), range(10), axs.reshape(-1)\n",
    "    ):\n",
    "        fpr, tpr, _ = metrics.roc_curve(y == digit, y_pred_probs[:, digit])\n",
    "        auc = metrics.auc(fpr, tpr)\n",
    "        roc_auc_dict[str(digit)] = auc\n",
    "\n",
    "        ax.plot(fpr, tpr, label=f\"ROC AUC={round(auc, 3)}\")\n",
    "\n",
    "        ax.set_title(f\"\\nDigit {digit}\", fontsize=16)\n",
    "        if r == 1:\n",
    "            ax.set_xlabel(\"FPR\", fontsize=18)\n",
    "\n",
    "        if c == 0:\n",
    "            ax.set_ylabel(\"TPR\", fontsize=18)\n",
    "\n",
    "        ax.set_xlim([-0.05, 1.05])\n",
    "        ax.set_ylim([-0.05, 1.05])\n",
    "        ax.legend(loc=\"lower right\", frameon=False, fontsize=14)\n",
    "\n",
    "    fig.tight_layout()\n",
    "    fig.suptitle(\n",
    "        f\"ROC plots for one-vs-rest performances \"\n",
    "        f\"(on evaluation data, n={y_pred_probs_test.shape[1]}\",\n",
    "        fontsize=22,\n",
    "    )\n",
    "    fig.tight_layout()\n",
    "    fig.show()\n",
    "\n",
    "    return roc_auc_dict, fig\n",
    "\n",
    "\n",
    "roc_auc_dict, fig = plot_roc_curves(y_test, y_pred_probs_test)"
   ]
  },
  {
   "cell_type": "code",
   "execution_count": 16,
   "id": "9f86a64b",
   "metadata": {
    "execution": {
     "iopub.execute_input": "2022-12-15T06:44:24.334452Z",
     "iopub.status.busy": "2022-12-15T06:44:24.333835Z",
     "iopub.status.idle": "2022-12-15T06:44:24.618662Z",
     "shell.execute_reply": "2022-12-15T06:44:24.617544Z"
    },
    "papermill": {
     "duration": 0.297867,
     "end_time": "2022-12-15T06:44:24.621149",
     "exception": false,
     "start_time": "2022-12-15T06:44:24.323282",
     "status": "completed"
    },
    "tags": []
   },
   "outputs": [],
   "source": [
    "logger.log_figure(\"per-digit-roc-curves.png\", fig)"
   ]
  },
  {
   "cell_type": "code",
   "execution_count": 17,
   "id": "c296581a",
   "metadata": {
    "execution": {
     "iopub.execute_input": "2022-12-15T06:44:24.639707Z",
     "iopub.status.busy": "2022-12-15T06:44:24.639359Z",
     "iopub.status.idle": "2022-12-15T06:44:24.647132Z",
     "shell.execute_reply": "2022-12-15T06:44:24.646363Z"
    },
    "papermill": {
     "duration": 0.021842,
     "end_time": "2022-12-15T06:44:24.651408",
     "exception": false,
     "start_time": "2022-12-15T06:44:24.629566",
     "status": "completed"
    },
    "tags": []
   },
   "outputs": [
    {
     "data": {
      "text/plain": [
       "{'0': 1.0,\n",
       " '1': 0.998912839737582,\n",
       " '2': 1.0,\n",
       " '3': 0.9998500468603562,\n",
       " '4': 0.9996189605243103,\n",
       " '5': 0.9994001874414246,\n",
       " '6': 0.999923792104862,\n",
       " '7': 0.9997713763145862,\n",
       " '8': 0.9951134930643126,\n",
       " '9': 0.9995808565767413}"
      ]
     },
     "execution_count": 17,
     "metadata": {},
     "output_type": "execute_result"
    }
   ],
   "source": [
    "roc_auc_dict"
   ]
  },
  {
   "cell_type": "code",
   "execution_count": 18,
   "id": "5e0c6bfc",
   "metadata": {
    "execution": {
     "iopub.execute_input": "2022-12-15T06:44:24.673503Z",
     "iopub.status.busy": "2022-12-15T06:44:24.673052Z",
     "iopub.status.idle": "2022-12-15T06:44:24.680433Z",
     "shell.execute_reply": "2022-12-15T06:44:24.679648Z"
    },
    "papermill": {
     "duration": 0.023036,
     "end_time": "2022-12-15T06:44:24.683152",
     "exception": false,
     "start_time": "2022-12-15T06:44:24.660116",
     "status": "completed"
    },
    "tags": []
   },
   "outputs": [
    {
     "name": "stdout",
     "output_type": "stream",
     "text": [
      " - Logging roc_auc_per_digit (json) : {'0': 1.0, '1': 0.998912839737582, '2': 1.0, '3': 0.9998500468603562, '4': 0.9996189605243103, '5': 0.9994001874414246, '6': 0.999923792104862, '7': 0.9997713763145862, '8': 0.9951134930643126, '9': 0.9995808565767413}\n"
     ]
    }
   ],
   "source": [
    "logger.log_value(\"roc_auc_per_digit\", roc_auc_dict)"
   ]
  },
  {
   "cell_type": "markdown",
   "id": "f3ea1fae",
   "metadata": {
    "papermill": {
     "duration": 0.008296,
     "end_time": "2022-12-15T06:44:24.699708",
     "exception": false,
     "start_time": "2022-12-15T06:44:24.691412",
     "status": "completed"
    },
    "tags": []
   },
   "source": [
    "### Compute and log mean ROC AUC score averaged over all digits"
   ]
  },
  {
   "cell_type": "code",
   "execution_count": 19,
   "id": "20a0660f",
   "metadata": {
    "execution": {
     "iopub.execute_input": "2022-12-15T06:44:24.719615Z",
     "iopub.status.busy": "2022-12-15T06:44:24.718400Z",
     "iopub.status.idle": "2022-12-15T06:44:24.736657Z",
     "shell.execute_reply": "2022-12-15T06:44:24.735687Z"
    },
    "papermill": {
     "duration": 0.030465,
     "end_time": "2022-12-15T06:44:24.738756",
     "exception": false,
     "start_time": "2022-12-15T06:44:24.708291",
     "status": "completed"
    },
    "tags": []
   },
   "outputs": [
    {
     "name": "stdout",
     "output_type": "stream",
     "text": [
      " - Logging roc_auc_class_mean (float) : 0.9992171552624176\n"
     ]
    }
   ],
   "source": [
    "roc_auc_macro = np.mean(list(roc_auc_dict.values()))\n",
    "\n",
    "logger.log_float(\"roc_auc_class_mean\", roc_auc_macro)\n",
    "\n",
    "# assert that the same value can be computed directly using sklearn\n",
    "assert roc_auc_macro == metrics.roc_auc_score(\n",
    "    y_test, y_pred_probs_test, average=\"macro\", multi_class=\"ovr\"\n",
    ")"
   ]
  },
  {
   "cell_type": "code",
   "execution_count": 20,
   "id": "30085f82",
   "metadata": {
    "execution": {
     "iopub.execute_input": "2022-12-15T06:44:24.756911Z",
     "iopub.status.busy": "2022-12-15T06:44:24.755491Z",
     "iopub.status.idle": "2022-12-15T06:44:24.768853Z",
     "shell.execute_reply": "2022-12-15T06:44:24.759298Z"
    },
    "lines_to_next_cell": 0,
    "papermill": {
     "duration": 0.024919,
     "end_time": "2022-12-15T06:44:24.771550",
     "exception": false,
     "start_time": "2022-12-15T06:44:24.746631",
     "status": "completed"
    },
    "tags": []
   },
   "outputs": [],
   "source": [
    "# ---"
   ]
  },
  {
   "cell_type": "code",
   "execution_count": null,
   "id": "4addfb60",
   "metadata": {
    "papermill": {
     "duration": 0.007513,
     "end_time": "2022-12-15T06:44:24.790027",
     "exception": false,
     "start_time": "2022-12-15T06:44:24.782514",
     "status": "completed"
    },
    "tags": []
   },
   "outputs": [],
   "source": []
  }
 ],
 "metadata": {
  "jupytext": {
   "cell_metadata_filter": "tags,-all",
   "main_language": "python",
   "notebook_metadata_filter": "-all"
  },
  "language_info": {
   "codemirror_mode": {
    "name": "ipython",
    "version": 3
   },
   "file_extension": ".py",
   "mimetype": "text/x-python",
   "name": "python",
   "nbconvert_exporter": "python",
   "pygments_lexer": "ipython3",
   "version": "3.8.10"
  },
  "papermill": {
   "default_parameters": {},
   "duration": 11.082024,
   "end_time": "2022-12-15T06:44:26.021337",
   "environment_variables": {},
   "exception": null,
   "input_path": "/home/host_user/workspace/mnist-demo-pipeline/mnist-demo-pipeline/notebooks/temp-notebook-mog6p_sj.ipynb",
   "output_path": "notebooks/benchmark-model.ipynb",
   "parameters": {
    "P": {
     "_opentelemetry_traceparent": "00-e6c434243e35448fc318c1f3aee023bf-1334b725171a950f-01",
     "pipeline.data_lake_root": "/pipeline-outputs/data-lake",
     "pipeline.github.actor": "matiasdahl",
     "pipeline.github.base_ref": "",
     "pipeline.github.event_name": "schedule",
     "pipeline.github.head_ref": "",
     "pipeline.github.job": "run-tests-pipeline-and-persist-pipeline-outputs",
     "pipeline.github.ref": "refs/heads/development",
     "pipeline.github.ref_name": "development",
     "pipeline.github.ref_type": "branch",
     "pipeline.github.repository": "matiasdahl/dev-mnist-digits-demo-pipeline",
     "pipeline.github.run_id": "3701709453",
     "pipeline.github.runner_name": "Hosted Agent",
     "pipeline.github.sha": "ace0d01011d5e914f1921450dd5a59c11367b38d",
     "pipeline.github.workflow": "Run automated tests, pipeline and deploy results to static reporting site",
     "pipeline.pipeline_run_id": "7d82a703-9640-46f9-aae7-873c30f28f56",
     "pipeline.run_environment": "ci",
     "run.retry_nr": "0",
     "task.max_nr_retries": "1",
     "task.notebook": "notebooks/benchmark-model.py",
     "task.nr_train_images": 1000,
     "task.num_cpus": 1,
     "task.timeout_s": "None"
    }
   },
   "start_time": "2022-12-15T06:44:14.939313",
   "version": "2.3.3"
  }
 },
 "nbformat": 4,
 "nbformat_minor": 5
}