{
 "cells": [
  {
   "cell_type": "markdown",
   "id": "78152345",
   "metadata": {
    "papermill": {
     "duration": 0.006563,
     "end_time": "2022-12-15T06:44:29.070929",
     "exception": false,
     "start_time": "2022-12-15T06:44:29.064366",
     "status": "completed"
    },
    "tags": []
   },
   "source": [
    "# Summarize model performances\n",
    "\n",
    "This notebooks plots the performances (using averaged ROC AUC scores) for models\n",
    "trained with different training sets."
   ]
  },
  {
   "cell_type": "markdown",
   "id": "5354348a",
   "metadata": {
    "papermill": {
     "duration": 0.002777,
     "end_time": "2022-12-15T06:44:29.077401",
     "exception": false,
     "start_time": "2022-12-15T06:44:29.074624",
     "status": "completed"
    },
    "tags": []
   },
   "source": [
    "### Determine run parameters"
   ]
  },
  {
   "cell_type": "code",
   "execution_count": 1,
   "id": "87948699",
   "metadata": {
    "execution": {
     "iopub.execute_input": "2022-12-15T06:44:29.085682Z",
     "iopub.status.busy": "2022-12-15T06:44:29.085046Z",
     "iopub.status.idle": "2022-12-15T06:44:29.094271Z",
     "shell.execute_reply": "2022-12-15T06:44:29.093428Z"
    },
    "lines_to_next_cell": 0,
    "papermill": {
     "duration": 0.015184,
     "end_time": "2022-12-15T06:44:29.096008",
     "exception": false,
     "start_time": "2022-12-15T06:44:29.080824",
     "status": "completed"
    },
    "tags": []
   },
   "outputs": [],
   "source": [
    "# ----------------- Parameters for interactive development --------------\n",
    "P = {\n",
    "    \"pipeline.run_environment\": \"dev\",\n",
    "}"
   ]
  },
  {
   "cell_type": "code",
   "execution_count": 2,
   "id": "6166d408",
   "metadata": {
    "execution": {
     "iopub.execute_input": "2022-12-15T06:44:29.105327Z",
     "iopub.status.busy": "2022-12-15T06:44:29.104823Z",
     "iopub.status.idle": "2022-12-15T06:44:29.108914Z",
     "shell.execute_reply": "2022-12-15T06:44:29.107664Z"
    },
    "lines_to_next_cell": 0,
    "papermill": {
     "duration": 0.010881,
     "end_time": "2022-12-15T06:44:29.110591",
     "exception": false,
     "start_time": "2022-12-15T06:44:29.099710",
     "status": "completed"
    },
    "tags": [
     "parameters"
    ]
   },
   "outputs": [],
   "source": [
    "# - During automated runs parameters will be injected in the below cell -"
   ]
  },
  {
   "cell_type": "code",
   "execution_count": 3,
   "id": "e573696d",
   "metadata": {
    "execution": {
     "iopub.execute_input": "2022-12-15T06:44:29.121982Z",
     "iopub.status.busy": "2022-12-15T06:44:29.121665Z",
     "iopub.status.idle": "2022-12-15T06:44:29.126721Z",
     "shell.execute_reply": "2022-12-15T06:44:29.126120Z"
    },
    "papermill": {
     "duration": 0.015174,
     "end_time": "2022-12-15T06:44:29.129181",
     "exception": false,
     "start_time": "2022-12-15T06:44:29.114007",
     "status": "completed"
    },
    "tags": [
     "injected-parameters"
    ]
   },
   "outputs": [],
   "source": [
    "# Parameters\n",
    "P = {\n",
    "    \"pipeline.data_lake_root\": \"/pipeline-outputs/data-lake\",\n",
    "    \"pipeline.run_environment\": \"ci\",\n",
    "    \"pipeline.pipeline_run_id\": \"7d82a703-9640-46f9-aae7-873c30f28f56\",\n",
    "    \"pipeline.github.repository\": \"matiasdahl/dev-mnist-digits-demo-pipeline\",\n",
    "    \"pipeline.github.workflow\": \"Run automated tests, pipeline and deploy results to static reporting site\",\n",
    "    \"pipeline.github.runner_name\": \"Hosted Agent\",\n",
    "    \"pipeline.github.run_id\": \"3701709453\",\n",
    "    \"pipeline.github.actor\": \"matiasdahl\",\n",
    "    \"pipeline.github.job\": \"run-tests-pipeline-and-persist-pipeline-outputs\",\n",
    "    \"pipeline.github.base_ref\": \"\",\n",
    "    \"pipeline.github.head_ref\": \"\",\n",
    "    \"pipeline.github.sha\": \"ace0d01011d5e914f1921450dd5a59c11367b38d\",\n",
    "    \"pipeline.github.ref\": \"refs/heads/development\",\n",
    "    \"pipeline.github.ref_type\": \"branch\",\n",
    "    \"pipeline.github.ref_name\": \"development\",\n",
    "    \"pipeline.github.event_name\": \"schedule\",\n",
    "    \"task.notebook\": \"notebooks/summary.py\",\n",
    "    \"task.max_nr_retries\": \"1\",\n",
    "    \"run.retry_nr\": \"0\",\n",
    "    \"task.timeout_s\": \"None\",\n",
    "    \"task.num_cpus\": 1,\n",
    "    \"_opentelemetry_traceparent\": \"00-e6c434243e35448fc318c1f3aee023bf-920808bff4c75306-01\",\n",
    "}\n"
   ]
  },
  {
   "cell_type": "code",
   "execution_count": 4,
   "id": "be7049b4",
   "metadata": {
    "execution": {
     "iopub.execute_input": "2022-12-15T06:44:29.137140Z",
     "iopub.status.busy": "2022-12-15T06:44:29.136605Z",
     "iopub.status.idle": "2022-12-15T06:44:29.140079Z",
     "shell.execute_reply": "2022-12-15T06:44:29.139431Z"
    },
    "lines_to_next_cell": 0,
    "papermill": {
     "duration": 0.0094,
     "end_time": "2022-12-15T06:44:29.141721",
     "exception": false,
     "start_time": "2022-12-15T06:44:29.132321",
     "status": "completed"
    },
    "tags": []
   },
   "outputs": [],
   "source": [
    "# -----------------------------------------------------------------------"
   ]
  },
  {
   "cell_type": "markdown",
   "id": "18d9755a",
   "metadata": {
    "papermill": {
     "duration": 0.003227,
     "end_time": "2022-12-15T06:44:29.148231",
     "exception": false,
     "start_time": "2022-12-15T06:44:29.145004",
     "status": "completed"
    },
    "tags": []
   },
   "source": [
    "---"
   ]
  },
  {
   "cell_type": "markdown",
   "id": "9bb2b2c4",
   "metadata": {
    "lines_to_next_cell": 2,
    "papermill": {
     "duration": 0.002943,
     "end_time": "2022-12-15T06:44:29.154314",
     "exception": false,
     "start_time": "2022-12-15T06:44:29.151371",
     "status": "completed"
    },
    "tags": []
   },
   "source": [
    "### Notebook code"
   ]
  },
  {
   "cell_type": "code",
   "execution_count": 5,
   "id": "4c1233d5",
   "metadata": {
    "execution": {
     "iopub.execute_input": "2022-12-15T06:44:29.163970Z",
     "iopub.status.busy": "2022-12-15T06:44:29.163193Z",
     "iopub.status.idle": "2022-12-15T06:44:30.484427Z",
     "shell.execute_reply": "2022-12-15T06:44:30.483521Z"
    },
    "papermill": {
     "duration": 1.327998,
     "end_time": "2022-12-15T06:44:30.486976",
     "exception": false,
     "start_time": "2022-12-15T06:44:29.158978",
     "status": "completed"
    },
    "tags": []
   },
   "outputs": [],
   "source": [
    "#\n",
    "import pandas as pd\n",
    "import matplotlib.pyplot as plt\n",
    "\n",
    "#\n",
    "from pynb_dag_runner.tasks.task_opentelemetry_logging import PydarLogger"
   ]
  },
  {
   "cell_type": "code",
   "execution_count": 6,
   "id": "63918fb7",
   "metadata": {
    "execution": {
     "iopub.execute_input": "2022-12-15T06:44:30.496971Z",
     "iopub.status.busy": "2022-12-15T06:44:30.496529Z",
     "iopub.status.idle": "2022-12-15T06:44:30.667170Z",
     "shell.execute_reply": "2022-12-15T06:44:30.664811Z"
    },
    "papermill": {
     "duration": 0.179112,
     "end_time": "2022-12-15T06:44:30.669410",
     "exception": false,
     "start_time": "2022-12-15T06:44:30.490298",
     "status": "completed"
    },
    "tags": []
   },
   "outputs": [
    {
     "name": "stderr",
     "output_type": "stream",
     "text": [
      "2022-12-15 06:44:30,503\tINFO worker.py:842 -- Connecting to existing Ray cluster at address: 172.17.0.2:6379\n"
     ]
    }
   ],
   "source": [
    "logger = PydarLogger(P=P)"
   ]
  },
  {
   "cell_type": "code",
   "execution_count": 7,
   "id": "0825d9f9",
   "metadata": {
    "execution": {
     "iopub.execute_input": "2022-12-15T06:44:30.678968Z",
     "iopub.status.busy": "2022-12-15T06:44:30.678399Z",
     "iopub.status.idle": "2022-12-15T06:44:30.682474Z",
     "shell.execute_reply": "2022-12-15T06:44:30.681770Z"
    },
    "papermill": {
     "duration": 0.011991,
     "end_time": "2022-12-15T06:44:30.685098",
     "exception": false,
     "start_time": "2022-12-15T06:44:30.673107",
     "status": "completed"
    },
    "tags": []
   },
   "outputs": [],
   "source": [
    "from pynb_dag_runner.tasks.task_opentelemetry_logging import (\n",
    "    PydarLogger,\n",
    "    get_logged_values,\n",
    ")\n",
    "from pynb_dag_runner.opentelemetry_helpers import _get_all_spans, Spans"
   ]
  },
  {
   "cell_type": "code",
   "execution_count": 8,
   "id": "cbb2d091",
   "metadata": {
    "execution": {
     "iopub.execute_input": "2022-12-15T06:44:30.693363Z",
     "iopub.status.busy": "2022-12-15T06:44:30.692930Z",
     "iopub.status.idle": "2022-12-15T06:44:30.702337Z",
     "shell.execute_reply": "2022-12-15T06:44:30.701687Z"
    },
    "papermill": {
     "duration": 0.015966,
     "end_time": "2022-12-15T06:44:30.704437",
     "exception": false,
     "start_time": "2022-12-15T06:44:30.688471",
     "status": "completed"
    },
    "tags": []
   },
   "outputs": [],
   "source": [
    "def get_model_benchmarks():\n",
    "    \"\"\"\n",
    "    Query the OpenTelemetry logs for *this pipeline run* and return\n",
    "    all key-values logged from all runs of the benchmark-model.py task\n",
    "\n",
    "    For testing a json file with OpenTelemetry spans (as an array)\n",
    "    can be used as follows:\n",
    "\n",
    "    - Create output directory `mkdir /tmp/spans`\n",
    "    - Run unit tests. This will create pipeline-outputs/opentelemetry-spans.json\n",
    "    - Convert this json-array into jsonl format as follows\n",
    "\n",
    "    jq -c '.[]' /pipeline-outputs/opentelemetry-spans.json > /tmp/spans/data.txt\n",
    "\n",
    "    \"\"\"\n",
    "    spans: Spans = Spans(_get_all_spans())\n",
    "    print(f\"Found {len(spans)} spans\")\n",
    "\n",
    "    benchmark_spans = (\n",
    "        spans\n",
    "        # -\n",
    "        .filter([\"name\"], \"execute-task\")\n",
    "        # -\n",
    "        .filter([\"attributes\", \"task.notebook\"], \"notebooks/benchmark-model.py\")\n",
    "    )\n",
    "\n",
    "    result = []\n",
    "    for s in benchmark_spans:\n",
    "        result.append(\n",
    "            {\n",
    "                \"span_id\": s[\"context\"][\"span_id\"],\n",
    "                \"nr_train_images\": s[\"attributes\"][\"task.nr_train_images\"],\n",
    "                \"data\": get_logged_values(spans.bound_under(s)),\n",
    "            }\n",
    "        )\n",
    "\n",
    "    return result\n",
    "\n",
    "\n",
    "def adjust_pandas(df):\n",
    "    def column_renamer(col_name: str) -> str:\n",
    "        return (\n",
    "            col_name\n",
    "            # -- 'data.roc_auc_per_digit.4' -> 'roc_auc.4'\n",
    "            .replace(\"data.roc_auc_per_digit\", \"roc_auc\")\n",
    "            # -- 'data.roc_auc_class_mean' -> 'roc_auc_mean'\n",
    "            .replace(\"data.roc_auc_class_mean\", \"roc_auc_mean\")\n",
    "        )\n",
    "\n",
    "    return df.rename(column_renamer, axis=\"columns\").sort_values(by=\"nr_train_images\")"
   ]
  },
  {
   "cell_type": "code",
   "execution_count": 9,
   "id": "ed33991c",
   "metadata": {
    "execution": {
     "iopub.execute_input": "2022-12-15T06:44:30.714664Z",
     "iopub.status.busy": "2022-12-15T06:44:30.713583Z",
     "iopub.status.idle": "2022-12-15T06:44:30.767777Z",
     "shell.execute_reply": "2022-12-15T06:44:30.766920Z"
    },
    "papermill": {
     "duration": 0.060982,
     "end_time": "2022-12-15T06:44:30.770133",
     "exception": false,
     "start_time": "2022-12-15T06:44:30.709151",
     "status": "completed"
    },
    "tags": []
   },
   "outputs": [
    {
     "name": "stdout",
     "output_type": "stream",
     "text": [
      "Found 420 spans\n"
     ]
    }
   ],
   "source": [
    "df_data = adjust_pandas(pd.json_normalize(get_model_benchmarks()))"
   ]
  },
  {
   "cell_type": "code",
   "execution_count": 10,
   "id": "5c841c95",
   "metadata": {
    "execution": {
     "iopub.execute_input": "2022-12-15T06:44:30.780970Z",
     "iopub.status.busy": "2022-12-15T06:44:30.780413Z",
     "iopub.status.idle": "2022-12-15T06:44:30.818525Z",
     "shell.execute_reply": "2022-12-15T06:44:30.817724Z"
    },
    "papermill": {
     "duration": 0.045582,
     "end_time": "2022-12-15T06:44:30.820430",
     "exception": false,
     "start_time": "2022-12-15T06:44:30.774848",
     "status": "completed"
    },
    "tags": []
   },
   "outputs": [
    {
     "data": {
      "text/html": [
       "<div>\n",
       "<style scoped>\n",
       "    .dataframe tbody tr th:only-of-type {\n",
       "        vertical-align: middle;\n",
       "    }\n",
       "\n",
       "    .dataframe tbody tr th {\n",
       "        vertical-align: top;\n",
       "    }\n",
       "\n",
       "    .dataframe thead th {\n",
       "        text-align: right;\n",
       "    }\n",
       "</style>\n",
       "<table border=\"1\" class=\"dataframe\">\n",
       "  <thead>\n",
       "    <tr style=\"text-align: right;\">\n",
       "      <th></th>\n",
       "      <th>span_id</th>\n",
       "      <th>nr_train_images</th>\n",
       "      <th>roc_auc_mean</th>\n",
       "      <th>roc_auc.0</th>\n",
       "      <th>roc_auc.1</th>\n",
       "      <th>roc_auc.2</th>\n",
       "      <th>roc_auc.3</th>\n",
       "      <th>roc_auc.4</th>\n",
       "      <th>roc_auc.5</th>\n",
       "      <th>roc_auc.6</th>\n",
       "      <th>roc_auc.7</th>\n",
       "      <th>roc_auc.8</th>\n",
       "      <th>roc_auc.9</th>\n",
       "    </tr>\n",
       "  </thead>\n",
       "  <tbody>\n",
       "    <tr>\n",
       "      <th>0</th>\n",
       "      <td>0x859f02fff3cf372b</td>\n",
       "      <td>600</td>\n",
       "      <td>0.9990</td>\n",
       "      <td>1.0</td>\n",
       "      <td>0.9993</td>\n",
       "      <td>1.0</td>\n",
       "      <td>0.9998</td>\n",
       "      <td>0.9991</td>\n",
       "      <td>0.9990</td>\n",
       "      <td>0.9999</td>\n",
       "      <td>0.9998</td>\n",
       "      <td>0.9946</td>\n",
       "      <td>0.9987</td>\n",
       "    </tr>\n",
       "    <tr>\n",
       "      <th>3</th>\n",
       "      <td>0x50f780154aea543e</td>\n",
       "      <td>800</td>\n",
       "      <td>0.9990</td>\n",
       "      <td>1.0</td>\n",
       "      <td>0.9988</td>\n",
       "      <td>1.0</td>\n",
       "      <td>0.9998</td>\n",
       "      <td>0.9995</td>\n",
       "      <td>0.9991</td>\n",
       "      <td>0.9999</td>\n",
       "      <td>0.9999</td>\n",
       "      <td>0.9932</td>\n",
       "      <td>0.9994</td>\n",
       "    </tr>\n",
       "    <tr>\n",
       "      <th>1</th>\n",
       "      <td>0x23072515dc8399b6</td>\n",
       "      <td>1000</td>\n",
       "      <td>0.9992</td>\n",
       "      <td>1.0</td>\n",
       "      <td>0.9989</td>\n",
       "      <td>1.0</td>\n",
       "      <td>0.9999</td>\n",
       "      <td>0.9996</td>\n",
       "      <td>0.9994</td>\n",
       "      <td>0.9999</td>\n",
       "      <td>0.9998</td>\n",
       "      <td>0.9951</td>\n",
       "      <td>0.9996</td>\n",
       "    </tr>\n",
       "    <tr>\n",
       "      <th>2</th>\n",
       "      <td>0x912c8a6b424ff935</td>\n",
       "      <td>1200</td>\n",
       "      <td>0.9993</td>\n",
       "      <td>1.0</td>\n",
       "      <td>0.9991</td>\n",
       "      <td>1.0</td>\n",
       "      <td>0.9999</td>\n",
       "      <td>0.9998</td>\n",
       "      <td>0.9996</td>\n",
       "      <td>0.9999</td>\n",
       "      <td>0.9998</td>\n",
       "      <td>0.9956</td>\n",
       "      <td>0.9998</td>\n",
       "    </tr>\n",
       "  </tbody>\n",
       "</table>\n",
       "</div>"
      ],
      "text/plain": [
       "              span_id  nr_train_images  roc_auc_mean  roc_auc.0  roc_auc.1  \\\n",
       "0  0x859f02fff3cf372b              600        0.9990        1.0     0.9993   \n",
       "3  0x50f780154aea543e              800        0.9990        1.0     0.9988   \n",
       "1  0x23072515dc8399b6             1000        0.9992        1.0     0.9989   \n",
       "2  0x912c8a6b424ff935             1200        0.9993        1.0     0.9991   \n",
       "\n",
       "   roc_auc.2  roc_auc.3  roc_auc.4  roc_auc.5  roc_auc.6  roc_auc.7  \\\n",
       "0        1.0     0.9998     0.9991     0.9990     0.9999     0.9998   \n",
       "3        1.0     0.9998     0.9995     0.9991     0.9999     0.9999   \n",
       "1        1.0     0.9999     0.9996     0.9994     0.9999     0.9998   \n",
       "2        1.0     0.9999     0.9998     0.9996     0.9999     0.9998   \n",
       "\n",
       "   roc_auc.8  roc_auc.9  \n",
       "0     0.9946     0.9987  \n",
       "3     0.9932     0.9994  \n",
       "1     0.9951     0.9996  \n",
       "2     0.9956     0.9998  "
      ]
     },
     "execution_count": 10,
     "metadata": {},
     "output_type": "execute_result"
    }
   ],
   "source": [
    "df_data.round(4)"
   ]
  },
  {
   "cell_type": "code",
   "execution_count": 11,
   "id": "a336c39c",
   "metadata": {
    "execution": {
     "iopub.execute_input": "2022-12-15T06:44:30.831576Z",
     "iopub.status.busy": "2022-12-15T06:44:30.830979Z",
     "iopub.status.idle": "2022-12-15T06:44:31.054357Z",
     "shell.execute_reply": "2022-12-15T06:44:31.053566Z"
    },
    "papermill": {
     "duration": 0.231132,
     "end_time": "2022-12-15T06:44:31.056442",
     "exception": false,
     "start_time": "2022-12-15T06:44:30.825310",
     "status": "completed"
    },
    "tags": []
   },
   "outputs": [
    {
     "data": {
      "image/png": "[encoded data removed]",
      "text/plain": [
       "<Figure size 1600x400 with 1 Axes>"
      ]
     },
     "metadata": {},
     "output_type": "display_data"
    }
   ],
   "source": [
    "def plot_classifier_performance_summary(df_data):\n",
    "    fig, ax = plt.subplots(nrows=1, ncols=1, figsize=(16, 4), sharex=True)\n",
    "\n",
    "    #\n",
    "    ax.plot(\n",
    "        df_data[\"nr_train_images\"], df_data[\"roc_auc_mean\"], marker=\"o\", linestyle=\"--\"\n",
    "    )\n",
    "    ax.set_title(\n",
    "        f\"ROC AUC digit classifier performance on evaluation digits\", fontsize=17\n",
    "    )\n",
    "    ax.set_xlabel(\"Total number of digits in training set\", fontsize=14)\n",
    "    ax.set_ylabel(\"Mean ROC AUC\", fontsize=14)\n",
    "\n",
    "    fig.tight_layout()\n",
    "    fig.show()\n",
    "\n",
    "    return fig\n",
    "\n",
    "\n",
    "fig = plot_classifier_performance_summary(df_data)"
   ]
  },
  {
   "cell_type": "code",
   "execution_count": 12,
   "id": "42175654",
   "metadata": {
    "execution": {
     "iopub.execute_input": "2022-12-15T06:44:31.069407Z",
     "iopub.status.busy": "2022-12-15T06:44:31.068960Z",
     "iopub.status.idle": "2022-12-15T06:44:31.170703Z",
     "shell.execute_reply": "2022-12-15T06:44:31.169876Z"
    },
    "papermill": {
     "duration": 0.111215,
     "end_time": "2022-12-15T06:44:31.173102",
     "exception": false,
     "start_time": "2022-12-15T06:44:31.061887",
     "status": "completed"
    },
    "tags": []
   },
   "outputs": [],
   "source": [
    "logger.log_figure(\"auc-roc-model-performances.png\", fig)"
   ]
  },
  {
   "cell_type": "code",
   "execution_count": 13,
   "id": "6f121e31",
   "metadata": {
    "execution": {
     "iopub.execute_input": "2022-12-15T06:44:31.186146Z",
     "iopub.status.busy": "2022-12-15T06:44:31.185349Z",
     "iopub.status.idle": "2022-12-15T06:44:31.189534Z",
     "shell.execute_reply": "2022-12-15T06:44:31.188804Z"
    },
    "papermill": {
     "duration": 0.012139,
     "end_time": "2022-12-15T06:44:31.191314",
     "exception": false,
     "start_time": "2022-12-15T06:44:31.179175",
     "status": "completed"
    },
    "tags": []
   },
   "outputs": [],
   "source": [
    "###"
   ]
  },
  {
   "cell_type": "code",
   "execution_count": null,
   "id": "e7e32694",
   "metadata": {
    "papermill": {
     "duration": 0.005227,
     "end_time": "2022-12-15T06:44:31.202236",
     "exception": false,
     "start_time": "2022-12-15T06:44:31.197009",
     "status": "completed"
    },
    "tags": []
   },
   "outputs": [],
   "source": []
  }
 ],
 "metadata": {
  "jupytext": {
   "cell_metadata_filter": "tags,-all",
   "main_language": "python",
   "notebook_metadata_filter": "-all"
  },
  "language_info": {
   "codemirror_mode": {
    "name": "ipython",
    "version": 3
   },
   "file_extension": ".py",
   "mimetype": "text/x-python",
   "name": "python",
   "nbconvert_exporter": "python",
   "pygments_lexer": "ipython3",
   "version": "3.8.10"
  },
  "papermill": {
   "default_parameters": {},
   "duration": 4.677328,
   "end_time": "2022-12-15T06:44:32.236762",
   "environment_variables": {},
   "exception": null,
   "input_path": "/home/host_user/workspace/mnist-demo-pipeline/mnist-demo-pipeline/notebooks/temp-notebook-9am_oc9a.ipynb",
   "output_path": "notebooks/summary.ipynb",
   "parameters": {
    "P": {
     "_opentelemetry_traceparent": "00-e6c434243e35448fc318c1f3aee023bf-920808bff4c75306-01",
     "pipeline.data_lake_root": "/pipeline-outputs/data-lake",
     "pipeline.github.actor": "matiasdahl",
     "pipeline.github.base_ref": "",
     "pipeline.github.event_name": "schedule",
     "pipeline.github.head_ref": "",
     "pipeline.github.job": "run-tests-pipeline-and-persist-pipeline-outputs",
     "pipeline.github.ref": "refs/heads/development",
     "pipeline.github.ref_name": "development",
     "pipeline.github.ref_type": "branch",
     "pipeline.github.repository": "matiasdahl/dev-mnist-digits-demo-pipeline",
     "pipeline.github.run_id": "3701709453",
     "pipeline.github.runner_name": "Hosted Agent",
     "pipeline.github.sha": "ace0d01011d5e914f1921450dd5a59c11367b38d",
     "pipeline.github.workflow": "Run automated tests, pipeline and deploy results to static reporting site",
     "pipeline.pipeline_run_id": "7d82a703-9640-46f9-aae7-873c30f28f56",
     "pipeline.run_environment": "ci",
     "run.retry_nr": "0",
     "task.max_nr_retries": "1",
     "task.notebook": "notebooks/summary.py",
     "task.num_cpus": 1,
     "task.timeout_s": "None"
    }
   },
   "start_time": "2022-12-15T06:44:27.559434",
   "version": "2.3.3"
  }
 },
 "nbformat": 4,
 "nbformat_minor": 5
}