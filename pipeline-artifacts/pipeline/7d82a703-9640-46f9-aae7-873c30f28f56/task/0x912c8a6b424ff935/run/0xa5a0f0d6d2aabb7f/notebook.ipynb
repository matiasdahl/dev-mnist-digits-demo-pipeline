{
 "cells": [
  {
   "cell_type": "markdown",
   "id": "91af6a65",
   "metadata": {
    "papermill": {
     "duration": 0.007169,
     "end_time": "2022-12-15T06:43:55.230627",
     "exception": false,
     "start_time": "2022-12-15T06:43:55.223458",
     "status": "completed"
    },
    "tags": []
   },
   "source": [
    "# Benchmark model\n",
    "\n",
    "The purpose of this notebook is to benchmark persisted onnx-model (trained in the\n",
    "previous step) against evaluation set."
   ]
  },
  {
   "cell_type": "markdown",
   "id": "df25cd71",
   "metadata": {
    "papermill": {
     "duration": 0.007827,
     "end_time": "2022-12-15T06:43:55.245371",
     "exception": false,
     "start_time": "2022-12-15T06:43:55.237544",
     "status": "completed"
    },
    "tags": []
   },
   "source": [
    "### Determine run parameters"
   ]
  },
  {
   "cell_type": "code",
   "execution_count": 1,
   "id": "c9611a34",
   "metadata": {
    "execution": {
     "iopub.execute_input": "2022-12-15T06:43:55.259209Z",
     "iopub.status.busy": "2022-12-15T06:43:55.258881Z",
     "iopub.status.idle": "2022-12-15T06:43:55.278109Z",
     "shell.execute_reply": "2022-12-15T06:43:55.276555Z"
    },
    "lines_to_next_cell": 0,
    "papermill": {
     "duration": 0.033548,
     "end_time": "2022-12-15T06:43:55.285068",
     "exception": false,
     "start_time": "2022-12-15T06:43:55.251520",
     "status": "completed"
    },
    "tags": []
   },
   "outputs": [],
   "source": [
    "# ----------------- Parameters for interactive development --------------\n",
    "P = {\n",
    "    \"pipeline.data_lake_root\": \"/pipeline-outputs/data-lake\",\n",
    "    \"task.nr_train_images\": 600,\n",
    "}"
   ]
  },
  {
   "cell_type": "code",
   "execution_count": 2,
   "id": "990233b3",
   "metadata": {
    "execution": {
     "iopub.execute_input": "2022-12-15T06:43:55.299988Z",
     "iopub.status.busy": "2022-12-15T06:43:55.299674Z",
     "iopub.status.idle": "2022-12-15T06:43:55.308871Z",
     "shell.execute_reply": "2022-12-15T06:43:55.307160Z"
    },
    "lines_to_next_cell": 0,
    "papermill": {
     "duration": 0.021977,
     "end_time": "2022-12-15T06:43:55.312799",
     "exception": false,
     "start_time": "2022-12-15T06:43:55.290822",
     "status": "completed"
    },
    "tags": [
     "parameters"
    ]
   },
   "outputs": [],
   "source": [
    "# - During automated runs parameters will be injected in the below cell -"
   ]
  },
  {
   "cell_type": "code",
   "execution_count": 3,
   "id": "185422d0",
   "metadata": {
    "execution": {
     "iopub.execute_input": "2022-12-15T06:43:55.325670Z",
     "iopub.status.busy": "2022-12-15T06:43:55.323897Z",
     "iopub.status.idle": "2022-12-15T06:43:55.333430Z",
     "shell.execute_reply": "2022-12-15T06:43:55.331644Z"
    },
    "papermill": {
     "duration": 0.017202,
     "end_time": "2022-12-15T06:43:55.335146",
     "exception": false,
     "start_time": "2022-12-15T06:43:55.317944",
     "status": "completed"
    },
    "tags": [
     "injected-parameters"
    ]
   },
   "outputs": [],
   "source": [
    "# Parameters\n",
    "P = {\n",
    "    \"pipeline.data_lake_root\": \"/pipeline-outputs/data-lake\",\n",
    "    \"pipeline.run_environment\": \"ci\",\n",
    "    \"pipeline.pipeline_run_id\": \"7d82a703-9640-46f9-aae7-873c30f28f56\",\n",
    "    \"pipeline.github.repository\": \"matiasdahl/dev-mnist-digits-demo-pipeline\",\n",
    "    \"pipeline.github.workflow\": \"Run automated tests, pipeline and deploy results to static reporting site\",\n",
    "    \"pipeline.github.runner_name\": \"Hosted Agent\",\n",
    "    \"pipeline.github.run_id\": \"3701709453\",\n",
    "    \"pipeline.github.actor\": \"matiasdahl\",\n",
    "    \"pipeline.github.job\": \"run-tests-pipeline-and-persist-pipeline-outputs\",\n",
    "    \"pipeline.github.base_ref\": \"\",\n",
    "    \"pipeline.github.head_ref\": \"\",\n",
    "    \"pipeline.github.sha\": \"ace0d01011d5e914f1921450dd5a59c11367b38d\",\n",
    "    \"pipeline.github.ref\": \"refs/heads/development\",\n",
    "    \"pipeline.github.ref_type\": \"branch\",\n",
    "    \"pipeline.github.ref_name\": \"development\",\n",
    "    \"pipeline.github.event_name\": \"schedule\",\n",
    "    \"task.nr_train_images\": 1200,\n",
    "    \"task.notebook\": \"notebooks/benchmark-model.py\",\n",
    "    \"task.max_nr_retries\": \"1\",\n",
    "    \"run.retry_nr\": \"0\",\n",
    "    \"task.timeout_s\": \"None\",\n",
    "    \"task.num_cpus\": 1,\n",
    "    \"_opentelemetry_traceparent\": \"00-e6c434243e35448fc318c1f3aee023bf-5a0d9fcb857fb5ff-01\",\n",
    "}\n"
   ]
  },
  {
   "cell_type": "code",
   "execution_count": 4,
   "id": "72c23c77",
   "metadata": {
    "execution": {
     "iopub.execute_input": "2022-12-15T06:43:55.346633Z",
     "iopub.status.busy": "2022-12-15T06:43:55.346048Z",
     "iopub.status.idle": "2022-12-15T06:43:55.349942Z",
     "shell.execute_reply": "2022-12-15T06:43:55.349171Z"
    },
    "lines_to_next_cell": 0,
    "papermill": {
     "duration": 0.011735,
     "end_time": "2022-12-15T06:43:55.351851",
     "exception": false,
     "start_time": "2022-12-15T06:43:55.340116",
     "status": "completed"
    },
    "tags": []
   },
   "outputs": [],
   "source": [
    "# -----------------------------------------------------------------------"
   ]
  },
  {
   "cell_type": "markdown",
   "id": "7f00f6a9",
   "metadata": {
    "papermill": {
     "duration": 0.004524,
     "end_time": "2022-12-15T06:43:55.361244",
     "exception": false,
     "start_time": "2022-12-15T06:43:55.356720",
     "status": "completed"
    },
    "tags": []
   },
   "source": [
    "---"
   ]
  },
  {
   "cell_type": "markdown",
   "id": "7af93778",
   "metadata": {
    "lines_to_next_cell": 2,
    "papermill": {
     "duration": 0.00492,
     "end_time": "2022-12-15T06:43:55.370704",
     "exception": false,
     "start_time": "2022-12-15T06:43:55.365784",
     "status": "completed"
    },
    "tags": []
   },
   "source": [
    "### Notebook code"
   ]
  },
  {
   "cell_type": "code",
   "execution_count": 5,
   "id": "d3065b37",
   "metadata": {
    "execution": {
     "iopub.execute_input": "2022-12-15T06:43:55.381602Z",
     "iopub.status.busy": "2022-12-15T06:43:55.380848Z",
     "iopub.status.idle": "2022-12-15T06:43:56.764798Z",
     "shell.execute_reply": "2022-12-15T06:43:56.761623Z"
    },
    "papermill": {
     "duration": 1.392436,
     "end_time": "2022-12-15T06:43:56.767587",
     "exception": false,
     "start_time": "2022-12-15T06:43:55.375151",
     "status": "completed"
    },
    "tags": []
   },
   "outputs": [
    {
     "name": "stderr",
     "output_type": "stream",
     "text": [
      "2022-12-15 06:43:56,479\tINFO worker.py:842 -- Connecting to existing Ray cluster at address: 172.17.0.2:6379\n"
     ]
    }
   ],
   "source": [
    "import itertools as it\n",
    "\n",
    "#\n",
    "import numpy as np\n",
    "import matplotlib.pyplot as plt\n",
    "\n",
    "#\n",
    "from pynb_dag_runner.tasks.task_opentelemetry_logging import PydarLogger\n",
    "\n",
    "#\n",
    "from common.io import datalake_root\n",
    "\n",
    "logger = PydarLogger(P)"
   ]
  },
  {
   "cell_type": "markdown",
   "id": "5dc94871",
   "metadata": {
    "papermill": {
     "duration": 0.005842,
     "end_time": "2022-12-15T06:43:56.780359",
     "exception": false,
     "start_time": "2022-12-15T06:43:56.774517",
     "status": "completed"
    },
    "tags": []
   },
   "source": [
    "## Load persisted onnx-model and evaluation data"
   ]
  },
  {
   "cell_type": "code",
   "execution_count": 6,
   "id": "87e32cbb",
   "metadata": {
    "execution": {
     "iopub.execute_input": "2022-12-15T06:43:56.793125Z",
     "iopub.status.busy": "2022-12-15T06:43:56.792653Z",
     "iopub.status.idle": "2022-12-15T06:43:56.797038Z",
     "shell.execute_reply": "2022-12-15T06:43:56.796343Z"
    },
    "papermill": {
     "duration": 0.015142,
     "end_time": "2022-12-15T06:43:56.801130",
     "exception": false,
     "start_time": "2022-12-15T06:43:56.785988",
     "status": "completed"
    },
    "tags": []
   },
   "outputs": [],
   "source": [
    "from common.io import read_onnx, get_onnx_inputs, get_onnx_outputs, read_numpy"
   ]
  },
  {
   "cell_type": "code",
   "execution_count": 7,
   "id": "60031264",
   "metadata": {
    "execution": {
     "iopub.execute_input": "2022-12-15T06:43:56.814064Z",
     "iopub.status.busy": "2022-12-15T06:43:56.813734Z",
     "iopub.status.idle": "2022-12-15T06:43:56.828381Z",
     "shell.execute_reply": "2022-12-15T06:43:56.827470Z"
    },
    "lines_to_next_cell": 0,
    "papermill": {
     "duration": 0.023916,
     "end_time": "2022-12-15T06:43:56.831101",
     "exception": false,
     "start_time": "2022-12-15T06:43:56.807185",
     "status": "completed"
    },
    "tags": []
   },
   "outputs": [],
   "source": [
    "onnx_inference_session = read_onnx(\n",
    "    datalake_root(P)\n",
    "    / \"models\"\n",
    "    / f\"nr_train_images={P['task.nr_train_images']}\"\n",
    "    / \"model.onnx\"\n",
    ")"
   ]
  },
  {
   "cell_type": "markdown",
   "id": "9e7ef33b",
   "metadata": {
    "papermill": {
     "duration": 0.005498,
     "end_time": "2022-12-15T06:43:56.843066",
     "exception": false,
     "start_time": "2022-12-15T06:43:56.837568",
     "status": "completed"
    },
    "tags": []
   },
   "source": [
    "### Record structure of inputs and outputs for ONNX model\n",
    "\n",
    "(this should likely be done in training notebook)"
   ]
  },
  {
   "cell_type": "code",
   "execution_count": 8,
   "id": "dd28e0d0",
   "metadata": {
    "execution": {
     "iopub.execute_input": "2022-12-15T06:43:56.856096Z",
     "iopub.status.busy": "2022-12-15T06:43:56.855718Z",
     "iopub.status.idle": "2022-12-15T06:43:56.871433Z",
     "shell.execute_reply": "2022-12-15T06:43:56.870028Z"
    },
    "papermill": {
     "duration": 0.026793,
     "end_time": "2022-12-15T06:43:56.875575",
     "exception": false,
     "start_time": "2022-12-15T06:43:56.848782",
     "status": "completed"
    },
    "tags": []
   },
   "outputs": [
    {
     "name": "stdout",
     "output_type": "stream",
     "text": [
      "{\n",
      "  \"inputs\": [\n",
      "    {\n",
      "      \"name\": \"float_input_8x8_image\",\n",
      "      \"shape\": [\n",
      "        null,\n",
      "        64\n",
      "      ],\n",
      "      \"type\": \"tensor(float)\"\n",
      "    }\n",
      "  ],\n",
      "  \"outputs\": [\n",
      "    {\n",
      "      \"name\": \"output_label\",\n",
      "      \"shape\": [\n",
      "        null\n",
      "      ],\n",
      "      \"type\": \"tensor(int64)\"\n",
      "    },\n",
      "    {\n",
      "      \"name\": \"output_probability\",\n",
      "      \"shape\": [],\n",
      "      \"type\": \"seq(map(int64,tensor(float)))\"\n",
      "    }\n",
      "  ]\n",
      "}\n"
     ]
    }
   ],
   "source": [
    "import json\n",
    "\n",
    "onnx_io = json.dumps(\n",
    "    {\n",
    "        \"inputs\": get_onnx_inputs(onnx_inference_session),\n",
    "        \"outputs\": get_onnx_outputs(onnx_inference_session),\n",
    "    },\n",
    "    indent=2,\n",
    ")\n",
    "\n",
    "\n",
    "logger.log_artefact(\"onnx_io_structure.json\", onnx_io)\n",
    "print(onnx_io)"
   ]
  },
  {
   "cell_type": "markdown",
   "id": "37f18796",
   "metadata": {
    "papermill": {
     "duration": 0.005167,
     "end_time": "2022-12-15T06:43:56.887301",
     "exception": false,
     "start_time": "2022-12-15T06:43:56.882134",
     "status": "completed"
    },
    "tags": []
   },
   "source": [
    "### Evaluate model performance on evaluation data set"
   ]
  },
  {
   "cell_type": "code",
   "execution_count": 9,
   "id": "2ca4fa5e",
   "metadata": {
    "execution": {
     "iopub.execute_input": "2022-12-15T06:43:56.901750Z",
     "iopub.status.busy": "2022-12-15T06:43:56.900410Z",
     "iopub.status.idle": "2022-12-15T06:43:56.906665Z",
     "shell.execute_reply": "2022-12-15T06:43:56.905938Z"
    },
    "papermill": {
     "duration": 0.016788,
     "end_time": "2022-12-15T06:43:56.910478",
     "exception": false,
     "start_time": "2022-12-15T06:43:56.893690",
     "status": "completed"
    },
    "tags": []
   },
   "outputs": [],
   "source": [
    "# load evaluation data\n",
    "X_test = read_numpy(datalake_root(P) / \"test-data\" / \"digits.numpy\")\n",
    "y_test = read_numpy(datalake_root(P) / \"test-data\" / \"labels.numpy\")"
   ]
  },
  {
   "cell_type": "code",
   "execution_count": 10,
   "id": "012fe372",
   "metadata": {
    "execution": {
     "iopub.execute_input": "2022-12-15T06:43:56.923386Z",
     "iopub.status.busy": "2022-12-15T06:43:56.923069Z",
     "iopub.status.idle": "2022-12-15T06:43:56.943835Z",
     "shell.execute_reply": "2022-12-15T06:43:56.943138Z"
    },
    "papermill": {
     "duration": 0.030088,
     "end_time": "2022-12-15T06:43:56.946375",
     "exception": false,
     "start_time": "2022-12-15T06:43:56.916287",
     "status": "completed"
    },
    "tags": []
   },
   "outputs": [],
   "source": [
    "def get_model_outputs(X, onnx_inference_session):\n",
    "    y_pred_labels, y_pred_map = onnx_inference_session.run(\n",
    "        [\"output_label\", \"output_probability\"],\n",
    "        {\"float_input_8x8_image\": X.astype(np.float32)},\n",
    "    )\n",
    "    y_pred_probs = np.array(\n",
    "        [[probabilities[digit] for digit in range(10)] for probabilities in y_pred_map]\n",
    "    )\n",
    "\n",
    "    assert y_pred_labels.shape == (X.shape[0],)\n",
    "    assert y_pred_probs.shape == (X.shape[0], 10)\n",
    "\n",
    "    return y_pred_labels, y_pred_probs\n",
    "\n",
    "\n",
    "# Note: as shown in the training notebook, the predicted labels and probabilities\n",
    "# computed below need not be compatible.\n",
    "y_pred_labels_test, y_pred_probs_test = get_model_outputs(\n",
    "    X_test, onnx_inference_session\n",
    ")"
   ]
  },
  {
   "cell_type": "markdown",
   "id": "60f190d9",
   "metadata": {
    "papermill": {
     "duration": 0.005612,
     "end_time": "2022-12-15T06:43:56.958254",
     "exception": false,
     "start_time": "2022-12-15T06:43:56.952642",
     "status": "completed"
    },
    "tags": []
   },
   "source": [
    "### Confusion matrix"
   ]
  },
  {
   "cell_type": "code",
   "execution_count": 11,
   "id": "9c20ba5a",
   "metadata": {
    "execution": {
     "iopub.execute_input": "2022-12-15T06:43:56.971103Z",
     "iopub.status.busy": "2022-12-15T06:43:56.970761Z",
     "iopub.status.idle": "2022-12-15T06:43:56.974711Z",
     "shell.execute_reply": "2022-12-15T06:43:56.973993Z"
    },
    "papermill": {
     "duration": 0.015725,
     "end_time": "2022-12-15T06:43:56.980075",
     "exception": false,
     "start_time": "2022-12-15T06:43:56.964350",
     "status": "completed"
    },
    "tags": []
   },
   "outputs": [],
   "source": [
    "# TODO"
   ]
  },
  {
   "cell_type": "markdown",
   "id": "1bac098d",
   "metadata": {
    "papermill": {
     "duration": 0.005638,
     "end_time": "2022-12-15T06:43:56.991307",
     "exception": false,
     "start_time": "2022-12-15T06:43:56.985669",
     "status": "completed"
    },
    "tags": []
   },
   "source": [
    "### Plot predicted probabilities for each classifier over all evaluation digit images"
   ]
  },
  {
   "cell_type": "code",
   "execution_count": 12,
   "id": "710cedf6",
   "metadata": {
    "execution": {
     "iopub.execute_input": "2022-12-15T06:43:57.003914Z",
     "iopub.status.busy": "2022-12-15T06:43:57.003571Z",
     "iopub.status.idle": "2022-12-15T06:44:01.049440Z",
     "shell.execute_reply": "2022-12-15T06:44:01.048358Z"
    },
    "papermill": {
     "duration": 4.054598,
     "end_time": "2022-12-15T06:44:01.051428",
     "exception": false,
     "start_time": "2022-12-15T06:43:56.996830",
     "status": "completed"
    },
    "tags": []
   },
   "outputs": [
    {
     "name": "stdout",
     "output_type": "stream",
     "text": [
      "\u001b[2m\u001b[1m\u001b[36m(scheduler +0s)\u001b[0m Tip: use `ray status` to view detailed cluster status. To disable these messages, set RAY_SCHEDULER_EVENTS=0.\n",
      "\u001b[2m\u001b[1m\u001b[33m(scheduler +0s)\u001b[0m Warning: The following resource request cannot be scheduled right now: {'CPU': 1.0}. This is likely due to all cluster resources being claimed by actors. Consider creating fewer actors or adding more nodes to this Ray cluster.\n"
     ]
    },
    {
     "data": {
      "image/png": "[encoded data removed]",
      "text/plain": [
       "<Figure size 1600x600 with 10 Axes>"
      ]
     },
     "metadata": {},
     "output_type": "display_data"
    }
   ],
   "source": [
    "def plot_per_digit_probabilities(y_pred_probs):\n",
    "    fig, axs = plt.subplots(nrows=2, ncols=5, figsize=(16, 6))\n",
    "\n",
    "    for (r, c), digit, ax in zip(\n",
    "        it.product(range(2), range(5)), range(10), axs.reshape(-1)\n",
    "    ):\n",
    "        ax.hist(y_pred_probs_test[:, digit], bins=20)\n",
    "\n",
    "        ax.set_title(f\"Digit {digit}\")\n",
    "        if r == 1 and c == 2:\n",
    "            ax.set_xlabel(\"probability\", fontsize=16)\n",
    "\n",
    "        if c == 0:\n",
    "            ax.set_ylabel(\"counts\", fontsize=16)\n",
    "        ax.set_yscale(\"log\")\n",
    "\n",
    "    fig.tight_layout()\n",
    "    fig.suptitle(\n",
    "        f\"Distributions of prediction probabilities for each digit \"\n",
    "        f\"(on evaluation data, n={y_pred_probs.shape[0]})\",\n",
    "        fontsize=20,\n",
    "    )\n",
    "    fig.tight_layout()\n",
    "    fig.show()\n",
    "\n",
    "    return fig\n",
    "\n",
    "\n",
    "fig = plot_per_digit_probabilities(y_pred_probs_test)"
   ]
  },
  {
   "cell_type": "markdown",
   "id": "3c43ca91",
   "metadata": {
    "papermill": {
     "duration": 0.006196,
     "end_time": "2022-12-15T06:44:01.065592",
     "exception": false,
     "start_time": "2022-12-15T06:44:01.059396",
     "status": "completed"
    },
    "tags": []
   },
   "source": [
    "From the above distributions we see that most digits have clear separation between\n",
    "high and lower probabilities. Morover, in each case there is roughly an order of\n",
    "magnitude more of digits with low probabilities. This is compatible with digits\n",
    "being roughly evenly distributed in the data."
   ]
  },
  {
   "cell_type": "code",
   "execution_count": 13,
   "id": "9af48d4e",
   "metadata": {
    "execution": {
     "iopub.execute_input": "2022-12-15T06:44:01.082161Z",
     "iopub.status.busy": "2022-12-15T06:44:01.081690Z",
     "iopub.status.idle": "2022-12-15T06:44:01.695379Z",
     "shell.execute_reply": "2022-12-15T06:44:01.694507Z"
    },
    "papermill": {
     "duration": 0.624956,
     "end_time": "2022-12-15T06:44:01.697939",
     "exception": false,
     "start_time": "2022-12-15T06:44:01.072983",
     "status": "completed"
    },
    "tags": []
   },
   "outputs": [],
   "source": [
    "logger.log_figure(\"per-digit-probabilities.png\", fig)"
   ]
  },
  {
   "cell_type": "markdown",
   "id": "7db3c040",
   "metadata": {
    "papermill": {
     "duration": 0.006483,
     "end_time": "2022-12-15T06:44:01.711303",
     "exception": false,
     "start_time": "2022-12-15T06:44:01.704820",
     "status": "completed"
    },
    "tags": []
   },
   "source": [
    "### Plot ROC curves for individual one-vs-rest classifiers"
   ]
  },
  {
   "cell_type": "code",
   "execution_count": 14,
   "id": "1976c767",
   "metadata": {
    "execution": {
     "iopub.execute_input": "2022-12-15T06:44:01.726669Z",
     "iopub.status.busy": "2022-12-15T06:44:01.726035Z",
     "iopub.status.idle": "2022-12-15T06:44:02.323329Z",
     "shell.execute_reply": "2022-12-15T06:44:02.322265Z"
    },
    "papermill": {
     "duration": 0.607279,
     "end_time": "2022-12-15T06:44:02.325589",
     "exception": false,
     "start_time": "2022-12-15T06:44:01.718310",
     "status": "completed"
    },
    "tags": []
   },
   "outputs": [],
   "source": [
    "from sklearn import metrics"
   ]
  },
  {
   "cell_type": "code",
   "execution_count": 15,
   "id": "bba34b12",
   "metadata": {
    "execution": {
     "iopub.execute_input": "2022-12-15T06:44:02.346216Z",
     "iopub.status.busy": "2022-12-15T06:44:02.345746Z",
     "iopub.status.idle": "2022-12-15T06:44:03.853049Z",
     "shell.execute_reply": "2022-12-15T06:44:03.852184Z"
    },
    "papermill": {
     "duration": 1.521839,
     "end_time": "2022-12-15T06:44:03.855942",
     "exception": false,
     "start_time": "2022-12-15T06:44:02.334103",
     "status": "completed"
    },
    "tags": []
   },
   "outputs": [
    {
     "data": {
      "image/png": "[encoded data removed]",
      "text/plain": [
       "<Figure size 1600x800 with 10 Axes>"
      ]
     },
     "metadata": {},
     "output_type": "display_data"
    }
   ],
   "source": [
    "def plot_roc_curves(y, y_pred_probs):\n",
    "    # based on example code\n",
    "    # https://scikit-learn.org/stable/auto_examples/model_selection/plot_roc.html\n",
    "\n",
    "    fig, axs = plt.subplots(nrows=2, ncols=5, figsize=(16, 8))\n",
    "\n",
    "    roc_auc_dict = {}\n",
    "\n",
    "    for (r, c), digit, ax in zip(\n",
    "        it.product(range(2), range(5)), range(10), axs.reshape(-1)\n",
    "    ):\n",
    "        fpr, tpr, _ = metrics.roc_curve(y == digit, y_pred_probs[:, digit])\n",
    "        auc = metrics.auc(fpr, tpr)\n",
    "        roc_auc_dict[str(digit)] = auc\n",
    "\n",
    "        ax.plot(fpr, tpr, label=f\"ROC AUC={round(auc, 3)}\")\n",
    "\n",
    "        ax.set_title(f\"\\nDigit {digit}\", fontsize=16)\n",
    "        if r == 1:\n",
    "            ax.set_xlabel(\"FPR\", fontsize=18)\n",
    "\n",
    "        if c == 0:\n",
    "            ax.set_ylabel(\"TPR\", fontsize=18)\n",
    "\n",
    "        ax.set_xlim([-0.05, 1.05])\n",
    "        ax.set_ylim([-0.05, 1.05])\n",
    "        ax.legend(loc=\"lower right\", frameon=False, fontsize=14)\n",
    "\n",
    "    fig.tight_layout()\n",
    "    fig.suptitle(\n",
    "        f\"ROC plots for one-vs-rest performances \"\n",
    "        f\"(on evaluation data, n={y_pred_probs_test.shape[1]}\",\n",
    "        fontsize=22,\n",
    "    )\n",
    "    fig.tight_layout()\n",
    "    fig.show()\n",
    "\n",
    "    return roc_auc_dict, fig\n",
    "\n",
    "\n",
    "roc_auc_dict, fig = plot_roc_curves(y_test, y_pred_probs_test)"
   ]
  },
  {
   "cell_type": "code",
   "execution_count": 16,
   "id": "91a5c5d8",
   "metadata": {
    "execution": {
     "iopub.execute_input": "2022-12-15T06:44:03.876751Z",
     "iopub.status.busy": "2022-12-15T06:44:03.876290Z",
     "iopub.status.idle": "2022-12-15T06:44:04.252368Z",
     "shell.execute_reply": "2022-12-15T06:44:04.251339Z"
    },
    "papermill": {
     "duration": 0.389134,
     "end_time": "2022-12-15T06:44:04.254766",
     "exception": false,
     "start_time": "2022-12-15T06:44:03.865632",
     "status": "completed"
    },
    "tags": []
   },
   "outputs": [],
   "source": [
    "logger.log_figure(\"per-digit-roc-curves.png\", fig)"
   ]
  },
  {
   "cell_type": "code",
   "execution_count": 17,
   "id": "591d07b9",
   "metadata": {
    "execution": {
     "iopub.execute_input": "2022-12-15T06:44:04.274160Z",
     "iopub.status.busy": "2022-12-15T06:44:04.273629Z",
     "iopub.status.idle": "2022-12-15T06:44:04.279857Z",
     "shell.execute_reply": "2022-12-15T06:44:04.279057Z"
    },
    "papermill": {
     "duration": 0.020845,
     "end_time": "2022-12-15T06:44:04.283990",
     "exception": false,
     "start_time": "2022-12-15T06:44:04.263145",
     "status": "completed"
    },
    "tags": []
   },
   "outputs": [
    {
     "data": {
      "text/plain": [
       "{'0': 1.0,\n",
       " '1': 0.9990627928772259,\n",
       " '2': 1.0,\n",
       " '3': 0.9998500468603562,\n",
       " '4': 0.9997713763145861,\n",
       " '5': 0.9996251171508904,\n",
       " '6': 0.999923792104862,\n",
       " '7': 0.9998475842097242,\n",
       " '8': 0.99562578814628,\n",
       " '9': 0.9997713763145862}"
      ]
     },
     "execution_count": 17,
     "metadata": {},
     "output_type": "execute_result"
    }
   ],
   "source": [
    "roc_auc_dict"
   ]
  },
  {
   "cell_type": "code",
   "execution_count": 18,
   "id": "deeed783",
   "metadata": {
    "execution": {
     "iopub.execute_input": "2022-12-15T06:44:04.305169Z",
     "iopub.status.busy": "2022-12-15T06:44:04.304281Z",
     "iopub.status.idle": "2022-12-15T06:44:04.312546Z",
     "shell.execute_reply": "2022-12-15T06:44:04.311571Z"
    },
    "papermill": {
     "duration": 0.022008,
     "end_time": "2022-12-15T06:44:04.315317",
     "exception": false,
     "start_time": "2022-12-15T06:44:04.293309",
     "status": "completed"
    },
    "tags": []
   },
   "outputs": [
    {
     "name": "stdout",
     "output_type": "stream",
     "text": [
      " - Logging roc_auc_per_digit (json) : {'0': 1.0, '1': 0.9990627928772259, '2': 1.0, '3': 0.9998500468603562, '4': 0.9997713763145861, '5': 0.9996251171508904, '6': 0.999923792104862, '7': 0.9998475842097242, '8': 0.99562578814628, '9': 0.9997713763145862}\n"
     ]
    }
   ],
   "source": [
    "logger.log_value(\"roc_auc_per_digit\", roc_auc_dict)"
   ]
  },
  {
   "cell_type": "markdown",
   "id": "d34c72bc",
   "metadata": {
    "papermill": {
     "duration": 0.014285,
     "end_time": "2022-12-15T06:44:04.338852",
     "exception": false,
     "start_time": "2022-12-15T06:44:04.324567",
     "status": "completed"
    },
    "tags": []
   },
   "source": [
    "### Compute and log mean ROC AUC score averaged over all digits"
   ]
  },
  {
   "cell_type": "code",
   "execution_count": 19,
   "id": "a0a4ca38",
   "metadata": {
    "execution": {
     "iopub.execute_input": "2022-12-15T06:44:04.366673Z",
     "iopub.status.busy": "2022-12-15T06:44:04.365747Z",
     "iopub.status.idle": "2022-12-15T06:44:04.385651Z",
     "shell.execute_reply": "2022-12-15T06:44:04.384750Z"
    },
    "papermill": {
     "duration": 0.034293,
     "end_time": "2022-12-15T06:44:04.389088",
     "exception": false,
     "start_time": "2022-12-15T06:44:04.354795",
     "status": "completed"
    },
    "tags": []
   },
   "outputs": [
    {
     "name": "stdout",
     "output_type": "stream",
     "text": [
      " - Logging roc_auc_class_mean (float) : 0.9993477873978509\n"
     ]
    }
   ],
   "source": [
    "roc_auc_macro = np.mean(list(roc_auc_dict.values()))\n",
    "\n",
    "logger.log_float(\"roc_auc_class_mean\", roc_auc_macro)\n",
    "\n",
    "# assert that the same value can be computed directly using sklearn\n",
    "assert roc_auc_macro == metrics.roc_auc_score(\n",
    "    y_test, y_pred_probs_test, average=\"macro\", multi_class=\"ovr\"\n",
    ")"
   ]
  },
  {
   "cell_type": "code",
   "execution_count": 20,
   "id": "5b429cbd",
   "metadata": {
    "execution": {
     "iopub.execute_input": "2022-12-15T06:44:04.408108Z",
     "iopub.status.busy": "2022-12-15T06:44:04.407153Z",
     "iopub.status.idle": "2022-12-15T06:44:04.411738Z",
     "shell.execute_reply": "2022-12-15T06:44:04.410673Z"
    },
    "lines_to_next_cell": 0,
    "papermill": {
     "duration": 0.016297,
     "end_time": "2022-12-15T06:44:04.414537",
     "exception": false,
     "start_time": "2022-12-15T06:44:04.398240",
     "status": "completed"
    },
    "tags": []
   },
   "outputs": [],
   "source": [
    "# ---"
   ]
  },
  {
   "cell_type": "code",
   "execution_count": null,
   "id": "7be48ede",
   "metadata": {
    "papermill": {
     "duration": 0.009317,
     "end_time": "2022-12-15T06:44:04.432476",
     "exception": false,
     "start_time": "2022-12-15T06:44:04.423159",
     "status": "completed"
    },
    "tags": []
   },
   "outputs": [],
   "source": []
  }
 ],
 "metadata": {
  "jupytext": {
   "cell_metadata_filter": "tags,-all",
   "main_language": "python",
   "notebook_metadata_filter": "-all"
  },
  "language_info": {
   "codemirror_mode": {
    "name": "ipython",
    "version": 3
   },
   "file_extension": ".py",
   "mimetype": "text/x-python",
   "name": "python",
   "nbconvert_exporter": "python",
   "pygments_lexer": "ipython3",
   "version": "3.8.10"
  },
  "papermill": {
   "default_parameters": {},
   "duration": 12.559525,
   "end_time": "2022-12-15T06:44:06.050623",
   "environment_variables": {},
   "exception": null,
   "input_path": "/home/host_user/workspace/mnist-demo-pipeline/mnist-demo-pipeline/notebooks/temp-notebook-59y24964.ipynb",
   "output_path": "notebooks/benchmark-model.ipynb",
   "parameters": {
    "P": {
     "_opentelemetry_traceparent": "00-e6c434243e35448fc318c1f3aee023bf-5a0d9fcb857fb5ff-01",
     "pipeline.data_lake_root": "/pipeline-outputs/data-lake",
     "pipeline.github.actor": "matiasdahl",
     "pipeline.github.base_ref": "",
     "pipeline.github.event_name": "schedule",
     "pipeline.github.head_ref": "",
     "pipeline.github.job": "run-tests-pipeline-and-persist-pipeline-outputs",
     "pipeline.github.ref": "refs/heads/development",
     "pipeline.github.ref_name": "development",
     "pipeline.github.ref_type": "branch",
     "pipeline.github.repository": "matiasdahl/dev-mnist-digits-demo-pipeline",
     "pipeline.github.run_id": "3701709453",
     "pipeline.github.runner_name": "Hosted Agent",
     "pipeline.github.sha": "ace0d01011d5e914f1921450dd5a59c11367b38d",
     "pipeline.github.workflow": "Run automated tests, pipeline and deploy results to static reporting site",
     "pipeline.pipeline_run_id": "7d82a703-9640-46f9-aae7-873c30f28f56",
     "pipeline.run_environment": "ci",
     "run.retry_nr": "0",
     "task.max_nr_retries": "1",
     "task.notebook": "notebooks/benchmark-model.py",
     "task.nr_train_images": 1200,
     "task.num_cpus": 1,
     "task.timeout_s": "None"
    }
   },
   "start_time": "2022-12-15T06:43:53.491098",
   "version": "2.3.3"
  }
 },
 "nbformat": 4,
 "nbformat_minor": 5
}