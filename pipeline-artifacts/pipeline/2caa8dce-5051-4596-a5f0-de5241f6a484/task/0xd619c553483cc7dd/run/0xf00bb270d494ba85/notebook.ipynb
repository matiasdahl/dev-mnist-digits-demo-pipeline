{
 "cells": [
  {
   "cell_type": "markdown",
   "id": "ac0a4534",
   "metadata": {
    "papermill": {
     "duration": 0.025123,
     "end_time": "2022-12-16T06:39:35.270904",
     "exception": false,
     "start_time": "2022-12-16T06:39:35.245781",
     "status": "completed"
    },
    "tags": []
   },
   "source": [
    "# Split digits and labels into separate training and testing data sets"
   ]
  },
  {
   "cell_type": "markdown",
   "id": "c349ec72",
   "metadata": {
    "papermill": {
     "duration": 0.002133,
     "end_time": "2022-12-16T06:39:35.275536",
     "exception": false,
     "start_time": "2022-12-16T06:39:35.273403",
     "status": "completed"
    },
    "tags": []
   },
   "source": [
    "### Determine run parameters"
   ]
  },
  {
   "cell_type": "code",
   "execution_count": 1,
   "id": "ee8811d9",
   "metadata": {
    "execution": {
     "iopub.execute_input": "2022-12-16T06:39:35.281127Z",
     "iopub.status.busy": "2022-12-16T06:39:35.280866Z",
     "iopub.status.idle": "2022-12-16T06:39:35.288149Z",
     "shell.execute_reply": "2022-12-16T06:39:35.287617Z"
    },
    "lines_to_next_cell": 0,
    "papermill": {
     "duration": 0.012245,
     "end_time": "2022-12-16T06:39:35.289918",
     "exception": false,
     "start_time": "2022-12-16T06:39:35.277673",
     "status": "completed"
    },
    "tags": []
   },
   "outputs": [],
   "source": [
    "# ----------------- Parameters for interactive development --------------\n",
    "P = {\n",
    "    \"pipeline.data_lake_root\": \"/pipeline-outputs/data-lake\",\n",
    "    \"task.train_test_ratio\": 0.7,\n",
    "}"
   ]
  },
  {
   "cell_type": "code",
   "execution_count": 2,
   "id": "06c3f8be",
   "metadata": {
    "execution": {
     "iopub.execute_input": "2022-12-16T06:39:35.295225Z",
     "iopub.status.busy": "2022-12-16T06:39:35.295010Z",
     "iopub.status.idle": "2022-12-16T06:39:35.297758Z",
     "shell.execute_reply": "2022-12-16T06:39:35.297263Z"
    },
    "lines_to_next_cell": 0,
    "papermill": {
     "duration": 0.007795,
     "end_time": "2022-12-16T06:39:35.299973",
     "exception": false,
     "start_time": "2022-12-16T06:39:35.292178",
     "status": "completed"
    },
    "tags": [
     "parameters"
    ]
   },
   "outputs": [],
   "source": [
    "# - During automated runs parameters will be injected in the below cell -"
   ]
  },
  {
   "cell_type": "code",
   "execution_count": 3,
   "id": "a3f1025d",
   "metadata": {
    "execution": {
     "iopub.execute_input": "2022-12-16T06:39:35.305924Z",
     "iopub.status.busy": "2022-12-16T06:39:35.305267Z",
     "iopub.status.idle": "2022-12-16T06:39:35.310363Z",
     "shell.execute_reply": "2022-12-16T06:39:35.309771Z"
    },
    "papermill": {
     "duration": 0.009799,
     "end_time": "2022-12-16T06:39:35.311990",
     "exception": false,
     "start_time": "2022-12-16T06:39:35.302191",
     "status": "completed"
    },
    "tags": [
     "injected-parameters"
    ]
   },
   "outputs": [],
   "source": [
    "# Parameters\n",
    "P = {\n",
    "    \"pipeline.data_lake_root\": \"/pipeline-outputs/data-lake\",\n",
    "    \"pipeline.run_environment\": \"ci\",\n",
    "    \"pipeline.pipeline_run_id\": \"2caa8dce-5051-4596-a5f0-de5241f6a484\",\n",
    "    \"pipeline.github.repository\": \"matiasdahl/dev-mnist-digits-demo-pipeline\",\n",
    "    \"pipeline.github.workflow\": \"Run automated tests, pipeline and deploy results to static reporting site\",\n",
    "    \"pipeline.github.runner_name\": \"Hosted Agent\",\n",
    "    \"pipeline.github.run_id\": \"3710884777\",\n",
    "    \"pipeline.github.actor\": \"matiasdahl\",\n",
    "    \"pipeline.github.job\": \"run-tests-pipeline-and-persist-pipeline-outputs\",\n",
    "    \"pipeline.github.base_ref\": \"\",\n",
    "    \"pipeline.github.head_ref\": \"\",\n",
    "    \"pipeline.github.sha\": \"ace0d01011d5e914f1921450dd5a59c11367b38d\",\n",
    "    \"pipeline.github.ref\": \"refs/heads/development\",\n",
    "    \"pipeline.github.ref_type\": \"branch\",\n",
    "    \"pipeline.github.ref_name\": \"development\",\n",
    "    \"pipeline.github.event_name\": \"schedule\",\n",
    "    \"task.train_test_ratio\": 0.7,\n",
    "    \"task.notebook\": \"notebooks/split-train-test.py\",\n",
    "    \"task.max_nr_retries\": \"1\",\n",
    "    \"run.retry_nr\": \"0\",\n",
    "    \"task.timeout_s\": \"None\",\n",
    "    \"task.num_cpus\": 1,\n",
    "    \"_opentelemetry_traceparent\": \"00-2c7c60ef416f61cec4fdb89ff37718a6-1b2b969e61f07126-01\",\n",
    "}\n"
   ]
  },
  {
   "cell_type": "code",
   "execution_count": 4,
   "id": "614a990b",
   "metadata": {
    "execution": {
     "iopub.execute_input": "2022-12-16T06:39:35.317422Z",
     "iopub.status.busy": "2022-12-16T06:39:35.317217Z",
     "iopub.status.idle": "2022-12-16T06:39:35.320814Z",
     "shell.execute_reply": "2022-12-16T06:39:35.320123Z"
    },
    "lines_to_next_cell": 0,
    "papermill": {
     "duration": 0.008847,
     "end_time": "2022-12-16T06:39:35.323151",
     "exception": false,
     "start_time": "2022-12-16T06:39:35.314304",
     "status": "completed"
    },
    "tags": []
   },
   "outputs": [],
   "source": [
    "# -----------------------------------------------------------------------"
   ]
  },
  {
   "cell_type": "markdown",
   "id": "438fde20",
   "metadata": {
    "papermill": {
     "duration": 0.002167,
     "end_time": "2022-12-16T06:39:35.327513",
     "exception": false,
     "start_time": "2022-12-16T06:39:35.325346",
     "status": "completed"
    },
    "tags": []
   },
   "source": [
    "---"
   ]
  },
  {
   "cell_type": "markdown",
   "id": "bd5fcb76",
   "metadata": {
    "lines_to_next_cell": 2,
    "papermill": {
     "duration": 0.002347,
     "end_time": "2022-12-16T06:39:35.332209",
     "exception": false,
     "start_time": "2022-12-16T06:39:35.329862",
     "status": "completed"
    },
    "tags": []
   },
   "source": [
    "### Notebook code"
   ]
  },
  {
   "cell_type": "code",
   "execution_count": 5,
   "id": "ac909c3b",
   "metadata": {
    "execution": {
     "iopub.execute_input": "2022-12-16T06:39:35.338747Z",
     "iopub.status.busy": "2022-12-16T06:39:35.338522Z",
     "iopub.status.idle": "2022-12-16T06:39:35.840373Z",
     "shell.execute_reply": "2022-12-16T06:39:35.839455Z"
    },
    "papermill": {
     "duration": 0.506566,
     "end_time": "2022-12-16T06:39:35.842241",
     "exception": false,
     "start_time": "2022-12-16T06:39:35.335675",
     "status": "completed"
    },
    "tags": []
   },
   "outputs": [
    {
     "name": "stderr",
     "output_type": "stream",
     "text": [
      "2022-12-16 06:39:35,660\tINFO worker.py:842 -- Connecting to existing Ray cluster at address: 172.17.0.2:6379\n"
     ]
    }
   ],
   "source": [
    "from common.io import datalake_root, read_numpy, write_numpy\n",
    "from pynb_dag_runner.tasks.task_opentelemetry_logging import PydarLogger\n",
    "\n",
    "logger = PydarLogger(P)"
   ]
  },
  {
   "cell_type": "markdown",
   "id": "e7f565b5",
   "metadata": {
    "papermill": {
     "duration": 0.002757,
     "end_time": "2022-12-16T06:39:35.848567",
     "exception": false,
     "start_time": "2022-12-16T06:39:35.845810",
     "status": "completed"
    },
    "tags": []
   },
   "source": [
    "## Load and split digits data"
   ]
  },
  {
   "cell_type": "code",
   "execution_count": 6,
   "id": "07c893af",
   "metadata": {
    "execution": {
     "iopub.execute_input": "2022-12-16T06:39:35.854608Z",
     "iopub.status.busy": "2022-12-16T06:39:35.854324Z",
     "iopub.status.idle": "2022-12-16T06:39:35.859485Z",
     "shell.execute_reply": "2022-12-16T06:39:35.858959Z"
    },
    "papermill": {
     "duration": 0.010972,
     "end_time": "2022-12-16T06:39:35.862061",
     "exception": false,
     "start_time": "2022-12-16T06:39:35.851089",
     "status": "completed"
    },
    "tags": []
   },
   "outputs": [],
   "source": [
    "X = read_numpy(datalake_root(P) / \"raw\" / \"digits.numpy\")\n",
    "y = read_numpy(datalake_root(P) / \"raw\" / \"labels.numpy\")"
   ]
  },
  {
   "cell_type": "code",
   "execution_count": 7,
   "id": "f50cfc10",
   "metadata": {
    "execution": {
     "iopub.execute_input": "2022-12-16T06:39:35.868384Z",
     "iopub.status.busy": "2022-12-16T06:39:35.868171Z",
     "iopub.status.idle": "2022-12-16T06:39:36.293624Z",
     "shell.execute_reply": "2022-12-16T06:39:36.293019Z"
    },
    "papermill": {
     "duration": 0.431033,
     "end_time": "2022-12-16T06:39:36.295475",
     "exception": false,
     "start_time": "2022-12-16T06:39:35.864442",
     "status": "completed"
    },
    "tags": []
   },
   "outputs": [],
   "source": [
    "from sklearn.model_selection import train_test_split\n",
    "\n",
    "X_train, X_test, y_train, y_test = train_test_split(\n",
    "    X,\n",
    "    y,\n",
    "    train_size=P[\"task.train_test_ratio\"],\n",
    "    test_size=None,\n",
    "    stratify=y,\n",
    "    shuffle=True,\n",
    "    random_state=1,\n",
    ")\n",
    "\n",
    "# assert nr of pixels per image is the same for all image vectors\n",
    "assert X.shape[1] == X_train.shape[1] == X_test.shape[1]\n",
    "\n",
    "# assert that the (X, y)-pairs have compatible sizes (for both train and test)\n",
    "assert X_train.shape[0] == len(y_train)\n",
    "assert X_test.shape[0] == len(y_test)\n",
    "\n",
    "# assert that all data is used\n",
    "assert len(y) == len(y_train) + len(y_test)"
   ]
  },
  {
   "cell_type": "code",
   "execution_count": 8,
   "id": "7e8d078a",
   "metadata": {
    "execution": {
     "iopub.execute_input": "2022-12-16T06:39:36.303749Z",
     "iopub.status.busy": "2022-12-16T06:39:36.302819Z",
     "iopub.status.idle": "2022-12-16T06:39:36.310483Z",
     "shell.execute_reply": "2022-12-16T06:39:36.309986Z"
    },
    "papermill": {
     "duration": 0.014571,
     "end_time": "2022-12-16T06:39:36.312975",
     "exception": false,
     "start_time": "2022-12-16T06:39:36.298404",
     "status": "completed"
    },
    "tags": []
   },
   "outputs": [
    {
     "name": "stdout",
     "output_type": "stream",
     "text": [
      " - Logging nr_digits_train (int) : 1257\n",
      " - Logging nr_digits_test (int) : 540\n"
     ]
    }
   ],
   "source": [
    "logger.log_int(\"nr_digits_train\", len(y_train))\n",
    "logger.log_int(\"nr_digits_test\", len(y_test))"
   ]
  },
  {
   "cell_type": "markdown",
   "id": "639d950a",
   "metadata": {
    "papermill": {
     "duration": 0.002895,
     "end_time": "2022-12-16T06:39:36.318953",
     "exception": false,
     "start_time": "2022-12-16T06:39:36.316058",
     "status": "completed"
    },
    "tags": []
   },
   "source": [
    "### Persist training and test data sets to separate files"
   ]
  },
  {
   "cell_type": "code",
   "execution_count": 9,
   "id": "4a9df140",
   "metadata": {
    "execution": {
     "iopub.execute_input": "2022-12-16T06:39:36.326189Z",
     "iopub.status.busy": "2022-12-16T06:39:36.325970Z",
     "iopub.status.idle": "2022-12-16T06:39:36.332306Z",
     "shell.execute_reply": "2022-12-16T06:39:36.330913Z"
    },
    "papermill": {
     "duration": 0.012303,
     "end_time": "2022-12-16T06:39:36.334621",
     "exception": false,
     "start_time": "2022-12-16T06:39:36.322318",
     "status": "completed"
    },
    "tags": []
   },
   "outputs": [],
   "source": [
    "write_numpy(datalake_root(P) / \"train-data\" / \"digits.numpy\", X_train)\n",
    "write_numpy(datalake_root(P) / \"train-data\" / \"labels.numpy\", y_train)\n",
    "\n",
    "#\n",
    "write_numpy(datalake_root(P) / \"test-data\" / \"digits.numpy\", X_test)\n",
    "write_numpy(datalake_root(P) / \"test-data\" / \"labels.numpy\", y_test)"
   ]
  },
  {
   "cell_type": "code",
   "execution_count": null,
   "id": "0be6d3f0",
   "metadata": {
    "papermill": {
     "duration": 0.002806,
     "end_time": "2022-12-16T06:39:36.339862",
     "exception": false,
     "start_time": "2022-12-16T06:39:36.337056",
     "status": "completed"
    },
    "tags": []
   },
   "outputs": [],
   "source": []
  }
 ],
 "metadata": {
  "jupytext": {
   "cell_metadata_filter": "tags,-all",
   "main_language": "python",
   "notebook_metadata_filter": "-all"
  },
  "language_info": {
   "codemirror_mode": {
    "name": "ipython",
    "version": 3
   },
   "file_extension": ".py",
   "mimetype": "text/x-python",
   "name": "python",
   "nbconvert_exporter": "python",
   "pygments_lexer": "ipython3",
   "version": "3.8.10"
  },
  "papermill": {
   "default_parameters": {},
   "duration": 3.201685,
   "end_time": "2022-12-16T06:39:37.265816",
   "environment_variables": {},
   "exception": null,
   "input_path": "/home/host_user/workspace/mnist-demo-pipeline/mnist-demo-pipeline/notebooks/temp-notebook-som3b2au.ipynb",
   "output_path": "notebooks/split-train-test.ipynb",
   "parameters": {
    "P": {
     "_opentelemetry_traceparent": "00-2c7c60ef416f61cec4fdb89ff37718a6-1b2b969e61f07126-01",
     "pipeline.data_lake_root": "/pipeline-outputs/data-lake",
     "pipeline.github.actor": "matiasdahl",
     "pipeline.github.base_ref": "",
     "pipeline.github.event_name": "schedule",
     "pipeline.github.head_ref": "",
     "pipeline.github.job": "run-tests-pipeline-and-persist-pipeline-outputs",
     "pipeline.github.ref": "refs/heads/development",
     "pipeline.github.ref_name": "development",
     "pipeline.github.ref_type": "branch",
     "pipeline.github.repository": "matiasdahl/dev-mnist-digits-demo-pipeline",
     "pipeline.github.run_id": "3710884777",
     "pipeline.github.runner_name": "Hosted Agent",
     "pipeline.github.sha": "ace0d01011d5e914f1921450dd5a59c11367b38d",
     "pipeline.github.workflow": "Run automated tests, pipeline and deploy results to static reporting site",
     "pipeline.pipeline_run_id": "2caa8dce-5051-4596-a5f0-de5241f6a484",
     "pipeline.run_environment": "ci",
     "run.retry_nr": "0",
     "task.max_nr_retries": "1",
     "task.notebook": "notebooks/split-train-test.py",
     "task.num_cpus": 1,
     "task.timeout_s": "None",
     "task.train_test_ratio": 0.7
    }
   },
   "start_time": "2022-12-16T06:39:34.064131",
   "version": "2.3.3"
  }
 },
 "nbformat": 4,
 "nbformat_minor": 5
}