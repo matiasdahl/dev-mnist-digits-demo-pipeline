{
 "cells": [
  {
   "cell_type": "markdown",
   "id": "855f8b3e",
   "metadata": {
    "papermill": {
     "duration": 0.005197,
     "end_time": "2022-12-16T06:40:02.780379",
     "exception": false,
     "start_time": "2022-12-16T06:40:02.775182",
     "status": "completed"
    },
    "tags": []
   },
   "source": [
    "# Benchmark model\n",
    "\n",
    "The purpose of this notebook is to benchmark persisted onnx-model (trained in the\n",
    "previous step) against evaluation set."
   ]
  },
  {
   "cell_type": "markdown",
   "id": "792ea2b1",
   "metadata": {
    "papermill": {
     "duration": 0.005147,
     "end_time": "2022-12-16T06:40:02.790854",
     "exception": false,
     "start_time": "2022-12-16T06:40:02.785707",
     "status": "completed"
    },
    "tags": []
   },
   "source": [
    "### Determine run parameters"
   ]
  },
  {
   "cell_type": "code",
   "execution_count": 1,
   "id": "cc86b7de",
   "metadata": {
    "execution": {
     "iopub.execute_input": "2022-12-16T06:40:02.801181Z",
     "iopub.status.busy": "2022-12-16T06:40:02.800910Z",
     "iopub.status.idle": "2022-12-16T06:40:02.816038Z",
     "shell.execute_reply": "2022-12-16T06:40:02.815273Z"
    },
    "lines_to_next_cell": 0,
    "papermill": {
     "duration": 0.022687,
     "end_time": "2022-12-16T06:40:02.818817",
     "exception": false,
     "start_time": "2022-12-16T06:40:02.796130",
     "status": "completed"
    },
    "tags": []
   },
   "outputs": [],
   "source": [
    "# ----------------- Parameters for interactive development --------------\n",
    "P = {\n",
    "    \"pipeline.data_lake_root\": \"/pipeline-outputs/data-lake\",\n",
    "    \"task.nr_train_images\": 600,\n",
    "}"
   ]
  },
  {
   "cell_type": "code",
   "execution_count": 2,
   "id": "9ccdaf3f",
   "metadata": {
    "execution": {
     "iopub.execute_input": "2022-12-16T06:40:02.828544Z",
     "iopub.status.busy": "2022-12-16T06:40:02.828332Z",
     "iopub.status.idle": "2022-12-16T06:40:02.831189Z",
     "shell.execute_reply": "2022-12-16T06:40:02.830564Z"
    },
    "lines_to_next_cell": 0,
    "papermill": {
     "duration": 0.010799,
     "end_time": "2022-12-16T06:40:02.833680",
     "exception": false,
     "start_time": "2022-12-16T06:40:02.822881",
     "status": "completed"
    },
    "tags": [
     "parameters"
    ]
   },
   "outputs": [],
   "source": [
    "# - During automated runs parameters will be injected in the below cell -"
   ]
  },
  {
   "cell_type": "code",
   "execution_count": 3,
   "id": "892ad794",
   "metadata": {
    "execution": {
     "iopub.execute_input": "2022-12-16T06:40:02.847549Z",
     "iopub.status.busy": "2022-12-16T06:40:02.847343Z",
     "iopub.status.idle": "2022-12-16T06:40:02.853541Z",
     "shell.execute_reply": "2022-12-16T06:40:02.853029Z"
    },
    "papermill": {
     "duration": 0.016743,
     "end_time": "2022-12-16T06:40:02.855036",
     "exception": false,
     "start_time": "2022-12-16T06:40:02.838293",
     "status": "completed"
    },
    "tags": [
     "injected-parameters"
    ]
   },
   "outputs": [],
   "source": [
    "# Parameters\n",
    "P = {\n",
    "    \"pipeline.data_lake_root\": \"/pipeline-outputs/data-lake\",\n",
    "    \"pipeline.run_environment\": \"ci\",\n",
    "    \"pipeline.pipeline_run_id\": \"2caa8dce-5051-4596-a5f0-de5241f6a484\",\n",
    "    \"pipeline.github.repository\": \"matiasdahl/dev-mnist-digits-demo-pipeline\",\n",
    "    \"pipeline.github.workflow\": \"Run automated tests, pipeline and deploy results to static reporting site\",\n",
    "    \"pipeline.github.runner_name\": \"Hosted Agent\",\n",
    "    \"pipeline.github.run_id\": \"3710884777\",\n",
    "    \"pipeline.github.actor\": \"matiasdahl\",\n",
    "    \"pipeline.github.job\": \"run-tests-pipeline-and-persist-pipeline-outputs\",\n",
    "    \"pipeline.github.base_ref\": \"\",\n",
    "    \"pipeline.github.head_ref\": \"\",\n",
    "    \"pipeline.github.sha\": \"ace0d01011d5e914f1921450dd5a59c11367b38d\",\n",
    "    \"pipeline.github.ref\": \"refs/heads/development\",\n",
    "    \"pipeline.github.ref_type\": \"branch\",\n",
    "    \"pipeline.github.ref_name\": \"development\",\n",
    "    \"pipeline.github.event_name\": \"schedule\",\n",
    "    \"task.nr_train_images\": 1000,\n",
    "    \"task.notebook\": \"notebooks/benchmark-model.py\",\n",
    "    \"task.max_nr_retries\": \"1\",\n",
    "    \"run.retry_nr\": \"0\",\n",
    "    \"task.timeout_s\": \"None\",\n",
    "    \"task.num_cpus\": 1,\n",
    "    \"_opentelemetry_traceparent\": \"00-2c7c60ef416f61cec4fdb89ff37718a6-9f01c6e47519aa40-01\",\n",
    "}\n"
   ]
  },
  {
   "cell_type": "code",
   "execution_count": 4,
   "id": "758495e2",
   "metadata": {
    "execution": {
     "iopub.execute_input": "2022-12-16T06:40:02.864798Z",
     "iopub.status.busy": "2022-12-16T06:40:02.864597Z",
     "iopub.status.idle": "2022-12-16T06:40:02.867278Z",
     "shell.execute_reply": "2022-12-16T06:40:02.866763Z"
    },
    "lines_to_next_cell": 0,
    "papermill": {
     "duration": 0.01061,
     "end_time": "2022-12-16T06:40:02.869960",
     "exception": false,
     "start_time": "2022-12-16T06:40:02.859350",
     "status": "completed"
    },
    "tags": []
   },
   "outputs": [],
   "source": [
    "# -----------------------------------------------------------------------"
   ]
  },
  {
   "cell_type": "markdown",
   "id": "e89af3ab",
   "metadata": {
    "papermill": {
     "duration": 0.004087,
     "end_time": "2022-12-16T06:40:02.878630",
     "exception": false,
     "start_time": "2022-12-16T06:40:02.874543",
     "status": "completed"
    },
    "tags": []
   },
   "source": [
    "---"
   ]
  },
  {
   "cell_type": "markdown",
   "id": "1d649d5e",
   "metadata": {
    "lines_to_next_cell": 2,
    "papermill": {
     "duration": 0.004388,
     "end_time": "2022-12-16T06:40:02.887245",
     "exception": false,
     "start_time": "2022-12-16T06:40:02.882857",
     "status": "completed"
    },
    "tags": []
   },
   "source": [
    "### Notebook code"
   ]
  },
  {
   "cell_type": "code",
   "execution_count": 5,
   "id": "b3e5f6cb",
   "metadata": {
    "execution": {
     "iopub.execute_input": "2022-12-16T06:40:02.896827Z",
     "iopub.status.busy": "2022-12-16T06:40:02.896598Z",
     "iopub.status.idle": "2022-12-16T06:40:04.096440Z",
     "shell.execute_reply": "2022-12-16T06:40:04.095459Z"
    },
    "papermill": {
     "duration": 1.206804,
     "end_time": "2022-12-16T06:40:04.098107",
     "exception": false,
     "start_time": "2022-12-16T06:40:02.891303",
     "status": "completed"
    },
    "tags": []
   },
   "outputs": [
    {
     "name": "stderr",
     "output_type": "stream",
     "text": [
      "2022-12-16 06:40:03,901\tINFO worker.py:842 -- Connecting to existing Ray cluster at address: 172.17.0.2:6379\n"
     ]
    }
   ],
   "source": [
    "import itertools as it\n",
    "\n",
    "#\n",
    "import numpy as np\n",
    "import matplotlib.pyplot as plt\n",
    "\n",
    "#\n",
    "from pynb_dag_runner.tasks.task_opentelemetry_logging import PydarLogger\n",
    "\n",
    "#\n",
    "from common.io import datalake_root\n",
    "\n",
    "logger = PydarLogger(P)"
   ]
  },
  {
   "cell_type": "markdown",
   "id": "6f41ff45",
   "metadata": {
    "papermill": {
     "duration": 0.004241,
     "end_time": "2022-12-16T06:40:04.111545",
     "exception": false,
     "start_time": "2022-12-16T06:40:04.107304",
     "status": "completed"
    },
    "tags": []
   },
   "source": [
    "## Load persisted onnx-model and evaluation data"
   ]
  },
  {
   "cell_type": "code",
   "execution_count": 6,
   "id": "313cf0d0",
   "metadata": {
    "execution": {
     "iopub.execute_input": "2022-12-16T06:40:04.126597Z",
     "iopub.status.busy": "2022-12-16T06:40:04.126297Z",
     "iopub.status.idle": "2022-12-16T06:40:04.129644Z",
     "shell.execute_reply": "2022-12-16T06:40:04.129098Z"
    },
    "papermill": {
     "duration": 0.016444,
     "end_time": "2022-12-16T06:40:04.132355",
     "exception": false,
     "start_time": "2022-12-16T06:40:04.115911",
     "status": "completed"
    },
    "tags": []
   },
   "outputs": [],
   "source": [
    "from common.io import read_onnx, get_onnx_inputs, get_onnx_outputs, read_numpy"
   ]
  },
  {
   "cell_type": "code",
   "execution_count": 7,
   "id": "0f647f49",
   "metadata": {
    "execution": {
     "iopub.execute_input": "2022-12-16T06:40:04.149292Z",
     "iopub.status.busy": "2022-12-16T06:40:04.149082Z",
     "iopub.status.idle": "2022-12-16T06:40:04.158215Z",
     "shell.execute_reply": "2022-12-16T06:40:04.157751Z"
    },
    "lines_to_next_cell": 0,
    "papermill": {
     "duration": 0.021812,
     "end_time": "2022-12-16T06:40:04.159480",
     "exception": false,
     "start_time": "2022-12-16T06:40:04.137668",
     "status": "completed"
    },
    "tags": []
   },
   "outputs": [],
   "source": [
    "onnx_inference_session = read_onnx(\n",
    "    datalake_root(P)\n",
    "    / \"models\"\n",
    "    / f\"nr_train_images={P['task.nr_train_images']}\"\n",
    "    / \"model.onnx\"\n",
    ")"
   ]
  },
  {
   "cell_type": "markdown",
   "id": "5fa528e3",
   "metadata": {
    "papermill": {
     "duration": 0.003999,
     "end_time": "2022-12-16T06:40:04.167437",
     "exception": false,
     "start_time": "2022-12-16T06:40:04.163438",
     "status": "completed"
    },
    "tags": []
   },
   "source": [
    "### Record structure of inputs and outputs for ONNX model\n",
    "\n",
    "(this should likely be done in training notebook)"
   ]
  },
  {
   "cell_type": "code",
   "execution_count": 8,
   "id": "e5e096ff",
   "metadata": {
    "execution": {
     "iopub.execute_input": "2022-12-16T06:40:04.176719Z",
     "iopub.status.busy": "2022-12-16T06:40:04.176499Z",
     "iopub.status.idle": "2022-12-16T06:40:04.187352Z",
     "shell.execute_reply": "2022-12-16T06:40:04.181976Z"
    },
    "papermill": {
     "duration": 0.021493,
     "end_time": "2022-12-16T06:40:04.193169",
     "exception": false,
     "start_time": "2022-12-16T06:40:04.171676",
     "status": "completed"
    },
    "tags": []
   },
   "outputs": [
    {
     "name": "stdout",
     "output_type": "stream",
     "text": [
      "{\n",
      "  \"inputs\": [\n",
      "    {\n",
      "      \"name\": \"float_input_8x8_image\",\n",
      "      \"shape\": [\n",
      "        null,\n",
      "        64\n",
      "      ],\n",
      "      \"type\": \"tensor(float)\"\n",
      "    }\n",
      "  ],\n",
      "  \"outputs\": [\n",
      "    {\n",
      "      \"name\": \"output_label\",\n",
      "      \"shape\": [\n",
      "        null\n",
      "      ],\n",
      "      \"type\": \"tensor(int64)\"\n",
      "    },\n",
      "    {\n",
      "      \"name\": \"output_probability\",\n",
      "      \"shape\": [],\n",
      "      \"type\": \"seq(map(int64,tensor(float)))\"\n",
      "    }\n",
      "  ]\n",
      "}\n"
     ]
    }
   ],
   "source": [
    "import json\n",
    "\n",
    "onnx_io = json.dumps(\n",
    "    {\n",
    "        \"inputs\": get_onnx_inputs(onnx_inference_session),\n",
    "        \"outputs\": get_onnx_outputs(onnx_inference_session),\n",
    "    },\n",
    "    indent=2,\n",
    ")\n",
    "\n",
    "\n",
    "logger.log_artefact(\"onnx_io_structure.json\", onnx_io)\n",
    "print(onnx_io)"
   ]
  },
  {
   "cell_type": "markdown",
   "id": "5887634c",
   "metadata": {
    "papermill": {
     "duration": 0.004382,
     "end_time": "2022-12-16T06:40:04.203494",
     "exception": false,
     "start_time": "2022-12-16T06:40:04.199112",
     "status": "completed"
    },
    "tags": []
   },
   "source": [
    "### Evaluate model performance on evaluation data set"
   ]
  },
  {
   "cell_type": "code",
   "execution_count": 9,
   "id": "763667f6",
   "metadata": {
    "execution": {
     "iopub.execute_input": "2022-12-16T06:40:04.217507Z",
     "iopub.status.busy": "2022-12-16T06:40:04.216793Z",
     "iopub.status.idle": "2022-12-16T06:40:04.221468Z",
     "shell.execute_reply": "2022-12-16T06:40:04.220919Z"
    },
    "papermill": {
     "duration": 0.015075,
     "end_time": "2022-12-16T06:40:04.223254",
     "exception": false,
     "start_time": "2022-12-16T06:40:04.208179",
     "status": "completed"
    },
    "tags": []
   },
   "outputs": [],
   "source": [
    "# load evaluation data\n",
    "X_test = read_numpy(datalake_root(P) / \"test-data\" / \"digits.numpy\")\n",
    "y_test = read_numpy(datalake_root(P) / \"test-data\" / \"labels.numpy\")"
   ]
  },
  {
   "cell_type": "code",
   "execution_count": 10,
   "id": "88b14e93",
   "metadata": {
    "execution": {
     "iopub.execute_input": "2022-12-16T06:40:04.232831Z",
     "iopub.status.busy": "2022-12-16T06:40:04.232424Z",
     "iopub.status.idle": "2022-12-16T06:40:04.248095Z",
     "shell.execute_reply": "2022-12-16T06:40:04.247584Z"
    },
    "papermill": {
     "duration": 0.023157,
     "end_time": "2022-12-16T06:40:04.250574",
     "exception": false,
     "start_time": "2022-12-16T06:40:04.227417",
     "status": "completed"
    },
    "tags": []
   },
   "outputs": [],
   "source": [
    "def get_model_outputs(X, onnx_inference_session):\n",
    "    y_pred_labels, y_pred_map = onnx_inference_session.run(\n",
    "        [\"output_label\", \"output_probability\"],\n",
    "        {\"float_input_8x8_image\": X.astype(np.float32)},\n",
    "    )\n",
    "    y_pred_probs = np.array(\n",
    "        [[probabilities[digit] for digit in range(10)] for probabilities in y_pred_map]\n",
    "    )\n",
    "\n",
    "    assert y_pred_labels.shape == (X.shape[0],)\n",
    "    assert y_pred_probs.shape == (X.shape[0], 10)\n",
    "\n",
    "    return y_pred_labels, y_pred_probs\n",
    "\n",
    "\n",
    "# Note: as shown in the training notebook, the predicted labels and probabilities\n",
    "# computed below need not be compatible.\n",
    "y_pred_labels_test, y_pred_probs_test = get_model_outputs(\n",
    "    X_test, onnx_inference_session\n",
    ")"
   ]
  },
  {
   "cell_type": "markdown",
   "id": "265050dd",
   "metadata": {
    "papermill": {
     "duration": 0.00413,
     "end_time": "2022-12-16T06:40:04.259776",
     "exception": false,
     "start_time": "2022-12-16T06:40:04.255646",
     "status": "completed"
    },
    "tags": []
   },
   "source": [
    "### Confusion matrix"
   ]
  },
  {
   "cell_type": "code",
   "execution_count": 11,
   "id": "872514cf",
   "metadata": {
    "execution": {
     "iopub.execute_input": "2022-12-16T06:40:04.270145Z",
     "iopub.status.busy": "2022-12-16T06:40:04.269552Z",
     "iopub.status.idle": "2022-12-16T06:40:04.273066Z",
     "shell.execute_reply": "2022-12-16T06:40:04.272444Z"
    },
    "papermill": {
     "duration": 0.010536,
     "end_time": "2022-12-16T06:40:04.274767",
     "exception": false,
     "start_time": "2022-12-16T06:40:04.264231",
     "status": "completed"
    },
    "tags": []
   },
   "outputs": [],
   "source": [
    "# TODO"
   ]
  },
  {
   "cell_type": "markdown",
   "id": "26b13bbd",
   "metadata": {
    "papermill": {
     "duration": 0.00435,
     "end_time": "2022-12-16T06:40:04.283373",
     "exception": false,
     "start_time": "2022-12-16T06:40:04.279023",
     "status": "completed"
    },
    "tags": []
   },
   "source": [
    "### Plot predicted probabilities for each classifier over all evaluation digit images"
   ]
  },
  {
   "cell_type": "code",
   "execution_count": 12,
   "id": "8dfee49b",
   "metadata": {
    "execution": {
     "iopub.execute_input": "2022-12-16T06:40:04.297353Z",
     "iopub.status.busy": "2022-12-16T06:40:04.297051Z",
     "iopub.status.idle": "2022-12-16T06:40:07.116555Z",
     "shell.execute_reply": "2022-12-16T06:40:07.115765Z"
    },
    "papermill": {
     "duration": 2.830745,
     "end_time": "2022-12-16T06:40:07.118358",
     "exception": false,
     "start_time": "2022-12-16T06:40:04.287613",
     "status": "completed"
    },
    "tags": []
   },
   "outputs": [
    {
     "data": {
      "image/png": "[encoded data removed]",
      "text/plain": [
       "<Figure size 1600x600 with 10 Axes>"
      ]
     },
     "metadata": {},
     "output_type": "display_data"
    }
   ],
   "source": [
    "def plot_per_digit_probabilities(y_pred_probs):\n",
    "    fig, axs = plt.subplots(nrows=2, ncols=5, figsize=(16, 6))\n",
    "\n",
    "    for (r, c), digit, ax in zip(\n",
    "        it.product(range(2), range(5)), range(10), axs.reshape(-1)\n",
    "    ):\n",
    "        ax.hist(y_pred_probs_test[:, digit], bins=20)\n",
    "\n",
    "        ax.set_title(f\"Digit {digit}\")\n",
    "        if r == 1 and c == 2:\n",
    "            ax.set_xlabel(\"probability\", fontsize=16)\n",
    "\n",
    "        if c == 0:\n",
    "            ax.set_ylabel(\"counts\", fontsize=16)\n",
    "        ax.set_yscale(\"log\")\n",
    "\n",
    "    fig.tight_layout()\n",
    "    fig.suptitle(\n",
    "        f\"Distributions of prediction probabilities for each digit \"\n",
    "        f\"(on evaluation data, n={y_pred_probs.shape[0]})\",\n",
    "        fontsize=20,\n",
    "    )\n",
    "    fig.tight_layout()\n",
    "    fig.show()\n",
    "\n",
    "    return fig\n",
    "\n",
    "\n",
    "fig = plot_per_digit_probabilities(y_pred_probs_test)"
   ]
  },
  {
   "cell_type": "markdown",
   "id": "ed2942a9",
   "metadata": {
    "papermill": {
     "duration": 0.005335,
     "end_time": "2022-12-16T06:40:07.129418",
     "exception": false,
     "start_time": "2022-12-16T06:40:07.124083",
     "status": "completed"
    },
    "tags": []
   },
   "source": [
    "From the above distributions we see that most digits have clear separation between\n",
    "high and lower probabilities. Morover, in each case there is roughly an order of\n",
    "magnitude more of digits with low probabilities. This is compatible with digits\n",
    "being roughly evenly distributed in the data."
   ]
  },
  {
   "cell_type": "code",
   "execution_count": 13,
   "id": "9accc728",
   "metadata": {
    "execution": {
     "iopub.execute_input": "2022-12-16T06:40:07.141343Z",
     "iopub.status.busy": "2022-12-16T06:40:07.141023Z",
     "iopub.status.idle": "2022-12-16T06:40:07.583012Z",
     "shell.execute_reply": "2022-12-16T06:40:07.582393Z"
    },
    "papermill": {
     "duration": 0.450146,
     "end_time": "2022-12-16T06:40:07.584993",
     "exception": false,
     "start_time": "2022-12-16T06:40:07.134847",
     "status": "completed"
    },
    "tags": []
   },
   "outputs": [],
   "source": [
    "logger.log_figure(\"per-digit-probabilities.png\", fig)"
   ]
  },
  {
   "cell_type": "markdown",
   "id": "ef3e2b7d",
   "metadata": {
    "papermill": {
     "duration": 0.004985,
     "end_time": "2022-12-16T06:40:07.595690",
     "exception": false,
     "start_time": "2022-12-16T06:40:07.590705",
     "status": "completed"
    },
    "tags": []
   },
   "source": [
    "### Plot ROC curves for individual one-vs-rest classifiers"
   ]
  },
  {
   "cell_type": "code",
   "execution_count": 14,
   "id": "2c587578",
   "metadata": {
    "execution": {
     "iopub.execute_input": "2022-12-16T06:40:07.607238Z",
     "iopub.status.busy": "2022-12-16T06:40:07.606685Z",
     "iopub.status.idle": "2022-12-16T06:40:07.968733Z",
     "shell.execute_reply": "2022-12-16T06:40:07.968123Z"
    },
    "papermill": {
     "duration": 0.369444,
     "end_time": "2022-12-16T06:40:07.970304",
     "exception": false,
     "start_time": "2022-12-16T06:40:07.600860",
     "status": "completed"
    },
    "tags": []
   },
   "outputs": [],
   "source": [
    "from sklearn import metrics"
   ]
  },
  {
   "cell_type": "code",
   "execution_count": 15,
   "id": "0761d837",
   "metadata": {
    "execution": {
     "iopub.execute_input": "2022-12-16T06:40:07.989121Z",
     "iopub.status.busy": "2022-12-16T06:40:07.988637Z",
     "iopub.status.idle": "2022-12-16T06:40:09.025146Z",
     "shell.execute_reply": "2022-12-16T06:40:09.024594Z"
    },
    "papermill": {
     "duration": 1.047648,
     "end_time": "2022-12-16T06:40:09.029534",
     "exception": false,
     "start_time": "2022-12-16T06:40:07.981886",
     "status": "completed"
    },
    "tags": []
   },
   "outputs": [
    {
     "data": {
      "image/png": "[encoded data removed]",
      "text/plain": [
       "<Figure size 1600x800 with 10 Axes>"
      ]
     },
     "metadata": {},
     "output_type": "display_data"
    }
   ],
   "source": [
    "def plot_roc_curves(y, y_pred_probs):\n",
    "    # based on example code\n",
    "    # https://scikit-learn.org/stable/auto_examples/model_selection/plot_roc.html\n",
    "\n",
    "    fig, axs = plt.subplots(nrows=2, ncols=5, figsize=(16, 8))\n",
    "\n",
    "    roc_auc_dict = {}\n",
    "\n",
    "    for (r, c), digit, ax in zip(\n",
    "        it.product(range(2), range(5)), range(10), axs.reshape(-1)\n",
    "    ):\n",
    "        fpr, tpr, _ = metrics.roc_curve(y == digit, y_pred_probs[:, digit])\n",
    "        auc = metrics.auc(fpr, tpr)\n",
    "        roc_auc_dict[str(digit)] = auc\n",
    "\n",
    "        ax.plot(fpr, tpr, label=f\"ROC AUC={round(auc, 3)}\")\n",
    "\n",
    "        ax.set_title(f\"\\nDigit {digit}\", fontsize=16)\n",
    "        if r == 1:\n",
    "            ax.set_xlabel(\"FPR\", fontsize=18)\n",
    "\n",
    "        if c == 0:\n",
    "            ax.set_ylabel(\"TPR\", fontsize=18)\n",
    "\n",
    "        ax.set_xlim([-0.05, 1.05])\n",
    "        ax.set_ylim([-0.05, 1.05])\n",
    "        ax.legend(loc=\"lower right\", frameon=False, fontsize=14)\n",
    "\n",
    "    fig.tight_layout()\n",
    "    fig.suptitle(\n",
    "        f\"ROC plots for one-vs-rest performances \"\n",
    "        f\"(on evaluation data, n={y_pred_probs_test.shape[1]}\",\n",
    "        fontsize=22,\n",
    "    )\n",
    "    fig.tight_layout()\n",
    "    fig.show()\n",
    "\n",
    "    return roc_auc_dict, fig\n",
    "\n",
    "\n",
    "roc_auc_dict, fig = plot_roc_curves(y_test, y_pred_probs_test)"
   ]
  },
  {
   "cell_type": "code",
   "execution_count": 16,
   "id": "780e8e48",
   "metadata": {
    "execution": {
     "iopub.execute_input": "2022-12-16T06:40:09.051603Z",
     "iopub.status.busy": "2022-12-16T06:40:09.051331Z",
     "iopub.status.idle": "2022-12-16T06:40:09.332838Z",
     "shell.execute_reply": "2022-12-16T06:40:09.332200Z"
    },
    "papermill": {
     "duration": 0.290773,
     "end_time": "2022-12-16T06:40:09.334574",
     "exception": false,
     "start_time": "2022-12-16T06:40:09.043801",
     "status": "completed"
    },
    "tags": []
   },
   "outputs": [],
   "source": [
    "logger.log_figure(\"per-digit-roc-curves.png\", fig)"
   ]
  },
  {
   "cell_type": "code",
   "execution_count": 17,
   "id": "6f31421f",
   "metadata": {
    "execution": {
     "iopub.execute_input": "2022-12-16T06:40:09.350951Z",
     "iopub.status.busy": "2022-12-16T06:40:09.350354Z",
     "iopub.status.idle": "2022-12-16T06:40:09.355413Z",
     "shell.execute_reply": "2022-12-16T06:40:09.354716Z"
    },
    "papermill": {
     "duration": 0.017044,
     "end_time": "2022-12-16T06:40:09.359595",
     "exception": false,
     "start_time": "2022-12-16T06:40:09.342551",
     "status": "completed"
    },
    "tags": []
   },
   "outputs": [
    {
     "data": {
      "text/plain": [
       "{'0': 1.0,\n",
       " '1': 0.998987816307404,\n",
       " '2': 1.0,\n",
       " '3': 0.9998875351452671,\n",
       " '4': 0.9995808565767413,\n",
       " '5': 0.9994001874414246,\n",
       " '6': 0.999923792104862,\n",
       " '7': 0.9997713763145862,\n",
       " '8': 0.9952711223203027,\n",
       " '9': 0.9995808565767414}"
      ]
     },
     "execution_count": 17,
     "metadata": {},
     "output_type": "execute_result"
    }
   ],
   "source": [
    "roc_auc_dict"
   ]
  },
  {
   "cell_type": "code",
   "execution_count": 18,
   "id": "9bca6882",
   "metadata": {
    "execution": {
     "iopub.execute_input": "2022-12-16T06:40:09.375224Z",
     "iopub.status.busy": "2022-12-16T06:40:09.374819Z",
     "iopub.status.idle": "2022-12-16T06:40:09.379238Z",
     "shell.execute_reply": "2022-12-16T06:40:09.378584Z"
    },
    "papermill": {
     "duration": 0.01561,
     "end_time": "2022-12-16T06:40:09.382483",
     "exception": false,
     "start_time": "2022-12-16T06:40:09.366873",
     "status": "completed"
    },
    "tags": []
   },
   "outputs": [
    {
     "name": "stdout",
     "output_type": "stream",
     "text": [
      " - Logging roc_auc_per_digit (json) : {'0': 1.0, '1': 0.998987816307404, '2': 1.0, '3': 0.9998875351452671, '4': 0.9995808565767413, '5': 0.9994001874414246, '6': 0.999923792104862, '7': 0.9997713763145862, '8': 0.9952711223203027, '9': 0.9995808565767414}\n"
     ]
    }
   ],
   "source": [
    "logger.log_value(\"roc_auc_per_digit\", roc_auc_dict)"
   ]
  },
  {
   "cell_type": "markdown",
   "id": "da432768",
   "metadata": {
    "papermill": {
     "duration": 0.006316,
     "end_time": "2022-12-16T06:40:09.398053",
     "exception": false,
     "start_time": "2022-12-16T06:40:09.391737",
     "status": "completed"
    },
    "tags": []
   },
   "source": [
    "### Compute and log mean ROC AUC score averaged over all digits"
   ]
  },
  {
   "cell_type": "code",
   "execution_count": 19,
   "id": "902f18e1",
   "metadata": {
    "execution": {
     "iopub.execute_input": "2022-12-16T06:40:09.416150Z",
     "iopub.status.busy": "2022-12-16T06:40:09.415876Z",
     "iopub.status.idle": "2022-12-16T06:40:09.430511Z",
     "shell.execute_reply": "2022-12-16T06:40:09.429689Z"
    },
    "papermill": {
     "duration": 0.025917,
     "end_time": "2022-12-16T06:40:09.432418",
     "exception": false,
     "start_time": "2022-12-16T06:40:09.406501",
     "status": "completed"
    },
    "tags": []
   },
   "outputs": [
    {
     "name": "stdout",
     "output_type": "stream",
     "text": [
      " - Logging roc_auc_class_mean (float) : 0.9992403542787329\n"
     ]
    }
   ],
   "source": [
    "roc_auc_macro = np.mean(list(roc_auc_dict.values()))\n",
    "\n",
    "logger.log_float(\"roc_auc_class_mean\", roc_auc_macro)\n",
    "\n",
    "# assert that the same value can be computed directly using sklearn\n",
    "assert roc_auc_macro == metrics.roc_auc_score(\n",
    "    y_test, y_pred_probs_test, average=\"macro\", multi_class=\"ovr\"\n",
    ")"
   ]
  },
  {
   "cell_type": "code",
   "execution_count": 20,
   "id": "40558fe0",
   "metadata": {
    "execution": {
     "iopub.execute_input": "2022-12-16T06:40:09.446660Z",
     "iopub.status.busy": "2022-12-16T06:40:09.446346Z",
     "iopub.status.idle": "2022-12-16T06:40:09.449808Z",
     "shell.execute_reply": "2022-12-16T06:40:09.448700Z"
    },
    "lines_to_next_cell": 0,
    "papermill": {
     "duration": 0.012182,
     "end_time": "2022-12-16T06:40:09.451370",
     "exception": false,
     "start_time": "2022-12-16T06:40:09.439188",
     "status": "completed"
    },
    "tags": []
   },
   "outputs": [],
   "source": [
    "# ---"
   ]
  },
  {
   "cell_type": "code",
   "execution_count": null,
   "id": "f17dd57b",
   "metadata": {
    "papermill": {
     "duration": 0.006313,
     "end_time": "2022-12-16T06:40:09.464317",
     "exception": false,
     "start_time": "2022-12-16T06:40:09.458004",
     "status": "completed"
    },
    "tags": []
   },
   "outputs": [],
   "source": []
  }
 ],
 "metadata": {
  "jupytext": {
   "cell_metadata_filter": "tags,-all",
   "main_language": "python",
   "notebook_metadata_filter": "-all"
  },
  "language_info": {
   "codemirror_mode": {
    "name": "ipython",
    "version": 3
   },
   "file_extension": ".py",
   "mimetype": "text/x-python",
   "name": "python",
   "nbconvert_exporter": "python",
   "pygments_lexer": "ipython3",
   "version": "3.8.10"
  },
  "papermill": {
   "default_parameters": {},
   "duration": 9.203332,
   "end_time": "2022-12-16T06:40:10.589030",
   "environment_variables": {},
   "exception": null,
   "input_path": "/home/host_user/workspace/mnist-demo-pipeline/mnist-demo-pipeline/notebooks/temp-notebook-gw4eriin.ipynb",
   "output_path": "notebooks/benchmark-model.ipynb",
   "parameters": {
    "P": {
     "_opentelemetry_traceparent": "00-2c7c60ef416f61cec4fdb89ff37718a6-9f01c6e47519aa40-01",
     "pipeline.data_lake_root": "/pipeline-outputs/data-lake",
     "pipeline.github.actor": "matiasdahl",
     "pipeline.github.base_ref": "",
     "pipeline.github.event_name": "schedule",
     "pipeline.github.head_ref": "",
     "pipeline.github.job": "run-tests-pipeline-and-persist-pipeline-outputs",
     "pipeline.github.ref": "refs/heads/development",
     "pipeline.github.ref_name": "development",
     "pipeline.github.ref_type": "branch",
     "pipeline.github.repository": "matiasdahl/dev-mnist-digits-demo-pipeline",
     "pipeline.github.run_id": "3710884777",
     "pipeline.github.runner_name": "Hosted Agent",
     "pipeline.github.sha": "ace0d01011d5e914f1921450dd5a59c11367b38d",
     "pipeline.github.workflow": "Run automated tests, pipeline and deploy results to static reporting site",
     "pipeline.pipeline_run_id": "2caa8dce-5051-4596-a5f0-de5241f6a484",
     "pipeline.run_environment": "ci",
     "run.retry_nr": "0",
     "task.max_nr_retries": "1",
     "task.notebook": "notebooks/benchmark-model.py",
     "task.nr_train_images": 1000,
     "task.num_cpus": 1,
     "task.timeout_s": "None"
    }
   },
   "start_time": "2022-12-16T06:40:01.385698",
   "version": "2.3.3"
  }
 },
 "nbformat": 4,
 "nbformat_minor": 5
}