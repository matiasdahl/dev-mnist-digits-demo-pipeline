{
 "cells": [
  {
   "cell_type": "markdown",
   "id": "19555401",
   "metadata": {
    "papermill": {
     "duration": 0.018285,
     "end_time": "2022-12-16T06:39:30.186407",
     "exception": false,
     "start_time": "2022-12-16T06:39:30.168122",
     "status": "completed"
    },
    "tags": []
   },
   "source": [
    "# Ingest toy version of MNIST digit data from sklearn"
   ]
  },
  {
   "cell_type": "markdown",
   "id": "2b93ac70",
   "metadata": {
    "papermill": {
     "duration": 0.002074,
     "end_time": "2022-12-16T06:39:30.191297",
     "exception": false,
     "start_time": "2022-12-16T06:39:30.189223",
     "status": "completed"
    },
    "tags": []
   },
   "source": [
    "### Determine run parameters"
   ]
  },
  {
   "cell_type": "code",
   "execution_count": 1,
   "id": "8da3492c",
   "metadata": {
    "execution": {
     "iopub.execute_input": "2022-12-16T06:39:30.197599Z",
     "iopub.status.busy": "2022-12-16T06:39:30.197305Z",
     "iopub.status.idle": "2022-12-16T06:39:30.203812Z",
     "shell.execute_reply": "2022-12-16T06:39:30.203220Z"
    },
    "lines_to_next_cell": 0,
    "papermill": {
     "duration": 0.011879,
     "end_time": "2022-12-16T06:39:30.205261",
     "exception": false,
     "start_time": "2022-12-16T06:39:30.193382",
     "status": "completed"
    },
    "tags": []
   },
   "outputs": [],
   "source": [
    "# ----------------- Parameters for interactive development --------------\n",
    "P = {\n",
    "    \"pipeline.run_environment\": \"dev\",\n",
    "    \"pipeline.data_lake_root\": \"/pipeline-outputs/data-lake\",\n",
    "    \"run.retry_nr\": \"1\",\n",
    "}"
   ]
  },
  {
   "cell_type": "code",
   "execution_count": 2,
   "id": "a4828485",
   "metadata": {
    "execution": {
     "iopub.execute_input": "2022-12-16T06:39:30.211064Z",
     "iopub.status.busy": "2022-12-16T06:39:30.210859Z",
     "iopub.status.idle": "2022-12-16T06:39:30.213352Z",
     "shell.execute_reply": "2022-12-16T06:39:30.212823Z"
    },
    "lines_to_next_cell": 0,
    "papermill": {
     "duration": 0.00693,
     "end_time": "2022-12-16T06:39:30.214651",
     "exception": false,
     "start_time": "2022-12-16T06:39:30.207721",
     "status": "completed"
    },
    "tags": [
     "parameters"
    ]
   },
   "outputs": [],
   "source": [
    "# - During automated runs parameters will be injected in the below cell -"
   ]
  },
  {
   "cell_type": "code",
   "execution_count": 3,
   "id": "5103515b",
   "metadata": {
    "execution": {
     "iopub.execute_input": "2022-12-16T06:39:30.220814Z",
     "iopub.status.busy": "2022-12-16T06:39:30.220276Z",
     "iopub.status.idle": "2022-12-16T06:39:30.224517Z",
     "shell.execute_reply": "2022-12-16T06:39:30.223982Z"
    },
    "papermill": {
     "duration": 0.008563,
     "end_time": "2022-12-16T06:39:30.225833",
     "exception": false,
     "start_time": "2022-12-16T06:39:30.217270",
     "status": "completed"
    },
    "tags": [
     "injected-parameters"
    ]
   },
   "outputs": [],
   "source": [
    "# Parameters\n",
    "P = {\n",
    "    \"pipeline.data_lake_root\": \"/pipeline-outputs/data-lake\",\n",
    "    \"pipeline.run_environment\": \"ci\",\n",
    "    \"pipeline.pipeline_run_id\": \"2caa8dce-5051-4596-a5f0-de5241f6a484\",\n",
    "    \"pipeline.github.repository\": \"matiasdahl/dev-mnist-digits-demo-pipeline\",\n",
    "    \"pipeline.github.workflow\": \"Run automated tests, pipeline and deploy results to static reporting site\",\n",
    "    \"pipeline.github.runner_name\": \"Hosted Agent\",\n",
    "    \"pipeline.github.run_id\": \"3710884777\",\n",
    "    \"pipeline.github.actor\": \"matiasdahl\",\n",
    "    \"pipeline.github.job\": \"run-tests-pipeline-and-persist-pipeline-outputs\",\n",
    "    \"pipeline.github.base_ref\": \"\",\n",
    "    \"pipeline.github.head_ref\": \"\",\n",
    "    \"pipeline.github.sha\": \"ace0d01011d5e914f1921450dd5a59c11367b38d\",\n",
    "    \"pipeline.github.ref\": \"refs/heads/development\",\n",
    "    \"pipeline.github.ref_type\": \"branch\",\n",
    "    \"pipeline.github.ref_name\": \"development\",\n",
    "    \"pipeline.github.event_name\": \"schedule\",\n",
    "    \"task.notebook\": \"notebooks/ingest.py\",\n",
    "    \"task.max_nr_retries\": \"15\",\n",
    "    \"run.retry_nr\": \"10\",\n",
    "    \"task.timeout_s\": \"10\",\n",
    "    \"task.num_cpus\": 1,\n",
    "    \"_opentelemetry_traceparent\": \"00-2c7c60ef416f61cec4fdb89ff37718a6-579e3d9b9f17076d-01\",\n",
    "}\n"
   ]
  },
  {
   "cell_type": "code",
   "execution_count": 4,
   "id": "f54d0327",
   "metadata": {
    "execution": {
     "iopub.execute_input": "2022-12-16T06:39:30.232306Z",
     "iopub.status.busy": "2022-12-16T06:39:30.231796Z",
     "iopub.status.idle": "2022-12-16T06:39:30.234401Z",
     "shell.execute_reply": "2022-12-16T06:39:30.233968Z"
    },
    "lines_to_next_cell": 0,
    "papermill": {
     "duration": 0.006833,
     "end_time": "2022-12-16T06:39:30.235723",
     "exception": false,
     "start_time": "2022-12-16T06:39:30.228890",
     "status": "completed"
    },
    "tags": []
   },
   "outputs": [],
   "source": [
    "# -----------------------------------------------------------------------"
   ]
  },
  {
   "cell_type": "markdown",
   "id": "f7195971",
   "metadata": {
    "lines_to_next_cell": 2,
    "papermill": {
     "duration": 0.002272,
     "end_time": "2022-12-16T06:39:30.241061",
     "exception": false,
     "start_time": "2022-12-16T06:39:30.238789",
     "status": "completed"
    },
    "tags": []
   },
   "source": [
    "---"
   ]
  },
  {
   "cell_type": "markdown",
   "id": "acb0f2c2",
   "metadata": {
    "papermill": {
     "duration": 0.002108,
     "end_time": "2022-12-16T06:39:30.245458",
     "exception": false,
     "start_time": "2022-12-16T06:39:30.243350",
     "status": "completed"
    },
    "tags": []
   },
   "source": [
    "### Simulate different types of failures (for testing timeout and retry logic)"
   ]
  },
  {
   "cell_type": "code",
   "execution_count": 5,
   "id": "ff637c61",
   "metadata": {
    "execution": {
     "iopub.execute_input": "2022-12-16T06:39:30.252443Z",
     "iopub.status.busy": "2022-12-16T06:39:30.252057Z",
     "iopub.status.idle": "2022-12-16T06:39:30.669874Z",
     "shell.execute_reply": "2022-12-16T06:39:30.669272Z"
    },
    "papermill": {
     "duration": 0.424091,
     "end_time": "2022-12-16T06:39:30.671963",
     "exception": false,
     "start_time": "2022-12-16T06:39:30.247872",
     "status": "completed"
    },
    "tags": []
   },
   "outputs": [
    {
     "name": "stderr",
     "output_type": "stream",
     "text": [
      "2022-12-16 06:39:30,521\tINFO worker.py:842 -- Connecting to existing Ray cluster at address: 172.17.0.2:6379\n"
     ]
    }
   ],
   "source": [
    "from pynb_dag_runner.tasks.task_opentelemetry_logging import PydarLogger\n",
    "\n",
    "logger = PydarLogger(P)"
   ]
  },
  {
   "cell_type": "code",
   "execution_count": 6,
   "id": "887cb592",
   "metadata": {
    "execution": {
     "iopub.execute_input": "2022-12-16T06:39:30.678798Z",
     "iopub.status.busy": "2022-12-16T06:39:30.678377Z",
     "iopub.status.idle": "2022-12-16T06:39:30.683088Z",
     "shell.execute_reply": "2022-12-16T06:39:30.682555Z"
    },
    "papermill": {
     "duration": 0.00964,
     "end_time": "2022-12-16T06:39:30.684562",
     "exception": false,
     "start_time": "2022-12-16T06:39:30.674922",
     "status": "completed"
    },
    "tags": []
   },
   "outputs": [],
   "source": [
    "import time, random\n",
    "\n",
    "\n",
    "def maybe_crash(retry_nr: int, run_environment: str):\n",
    "    if retry_nr == 2 and run_environment == \"ci\":\n",
    "        time.sleep(1e6)\n",
    "\n",
    "    max_retry_nr: int = 3 if run_environment == \"dev\" else 10\n",
    "\n",
    "    if retry_nr < max_retry_nr:\n",
    "        if random.random() < 0.1:\n",
    "            time.sleep(1e6)\n",
    "        else:\n",
    "            raise Exception(\"Simulated exception failure from ingestion step notebook!\")\n",
    "\n",
    "\n",
    "maybe_crash(\n",
    "    retry_nr=int(P[\"run.retry_nr\"]), run_environment=P[\"pipeline.run_environment\"]\n",
    ")"
   ]
  },
  {
   "cell_type": "markdown",
   "id": "3370a5df",
   "metadata": {
    "lines_to_next_cell": 2,
    "papermill": {
     "duration": 0.002489,
     "end_time": "2022-12-16T06:39:30.689427",
     "exception": false,
     "start_time": "2022-12-16T06:39:30.686938",
     "status": "completed"
    },
    "tags": []
   },
   "source": [
    "### Notebook code"
   ]
  },
  {
   "cell_type": "code",
   "execution_count": 7,
   "id": "03c33417",
   "metadata": {
    "execution": {
     "iopub.execute_input": "2022-12-16T06:39:30.695595Z",
     "iopub.status.busy": "2022-12-16T06:39:30.695268Z",
     "iopub.status.idle": "2022-12-16T06:39:31.911451Z",
     "shell.execute_reply": "2022-12-16T06:39:31.910823Z"
    },
    "papermill": {
     "duration": 1.221156,
     "end_time": "2022-12-16T06:39:31.913201",
     "exception": false,
     "start_time": "2022-12-16T06:39:30.692045",
     "status": "completed"
    },
    "tags": []
   },
   "outputs": [],
   "source": [
    "from sklearn import datasets\n",
    "\n",
    "#\n",
    "from common.io import datalake_root, write_numpy"
   ]
  },
  {
   "cell_type": "code",
   "execution_count": 8,
   "id": "a8e5c18b",
   "metadata": {
    "execution": {
     "iopub.execute_input": "2022-12-16T06:39:31.920186Z",
     "iopub.status.busy": "2022-12-16T06:39:31.919707Z",
     "iopub.status.idle": "2022-12-16T06:39:31.932600Z",
     "shell.execute_reply": "2022-12-16T06:39:31.932057Z"
    },
    "lines_to_next_cell": 2,
    "papermill": {
     "duration": 0.017863,
     "end_time": "2022-12-16T06:39:31.934071",
     "exception": false,
     "start_time": "2022-12-16T06:39:31.916208",
     "status": "completed"
    },
    "tags": []
   },
   "outputs": [],
   "source": [
    "digits = datasets.load_digits()\n",
    "\n",
    "X = digits[\"data\"]\n",
    "y = digits[\"target\"]"
   ]
  },
  {
   "cell_type": "code",
   "execution_count": 9,
   "id": "17c3734a",
   "metadata": {
    "execution": {
     "iopub.execute_input": "2022-12-16T06:39:31.940876Z",
     "iopub.status.busy": "2022-12-16T06:39:31.940380Z",
     "iopub.status.idle": "2022-12-16T06:39:31.950064Z",
     "shell.execute_reply": "2022-12-16T06:39:31.949501Z"
    },
    "papermill": {
     "duration": 0.015078,
     "end_time": "2022-12-16T06:39:31.952181",
     "exception": false,
     "start_time": "2022-12-16T06:39:31.937103",
     "status": "completed"
    },
    "tags": []
   },
   "outputs": [
    {
     "name": "stdout",
     "output_type": "stream",
     "text": [
      " - Logging data_shape (json) : [1797, 64]\n",
      " - Logging target_shape (json) : [1797]\n"
     ]
    },
    {
     "data": {
      "text/plain": [
       "((1797, 64), (1797,))"
      ]
     },
     "execution_count": 9,
     "metadata": {},
     "output_type": "execute_result"
    }
   ],
   "source": [
    "logger.log_value(\"data_shape\", list(X.shape))\n",
    "logger.log_value(\"target_shape\", list(y.shape))\n",
    "\n",
    "X.shape, y.shape"
   ]
  },
  {
   "cell_type": "code",
   "execution_count": 10,
   "id": "ce27ac71",
   "metadata": {
    "execution": {
     "iopub.execute_input": "2022-12-16T06:39:31.959625Z",
     "iopub.status.busy": "2022-12-16T06:39:31.959101Z",
     "iopub.status.idle": "2022-12-16T06:39:31.967515Z",
     "shell.execute_reply": "2022-12-16T06:39:31.966744Z"
    },
    "papermill": {
     "duration": 0.014333,
     "end_time": "2022-12-16T06:39:31.969115",
     "exception": false,
     "start_time": "2022-12-16T06:39:31.954782",
     "status": "completed"
    },
    "tags": []
   },
   "outputs": [],
   "source": [
    "write_numpy(datalake_root(P) / \"raw\" / \"digits.numpy\", X)\n",
    "write_numpy(datalake_root(P) / \"raw\" / \"labels.numpy\", y)"
   ]
  },
  {
   "cell_type": "code",
   "execution_count": null,
   "id": "d982d481",
   "metadata": {
    "papermill": {
     "duration": 0.002616,
     "end_time": "2022-12-16T06:39:31.974402",
     "exception": false,
     "start_time": "2022-12-16T06:39:31.971786",
     "status": "completed"
    },
    "tags": []
   },
   "outputs": [],
   "source": []
  }
 ],
 "metadata": {
  "jupytext": {
   "cell_metadata_filter": "tags,-all",
   "main_language": "python",
   "notebook_metadata_filter": "-all"
  },
  "language_info": {
   "codemirror_mode": {
    "name": "ipython",
    "version": 3
   },
   "file_extension": ".py",
   "mimetype": "text/x-python",
   "name": "python",
   "nbconvert_exporter": "python",
   "pygments_lexer": "ipython3",
   "version": "3.8.10"
  },
  "papermill": {
   "default_parameters": {},
   "duration": 3.9447,
   "end_time": "2022-12-16T06:39:32.795045",
   "environment_variables": {},
   "exception": null,
   "input_path": "/home/host_user/workspace/mnist-demo-pipeline/mnist-demo-pipeline/notebooks/temp-notebook-m886yvn6.ipynb",
   "output_path": "notebooks/ingest.ipynb",
   "parameters": {
    "P": {
     "_opentelemetry_traceparent": "00-2c7c60ef416f61cec4fdb89ff37718a6-579e3d9b9f17076d-01",
     "pipeline.data_lake_root": "/pipeline-outputs/data-lake",
     "pipeline.github.actor": "matiasdahl",
     "pipeline.github.base_ref": "",
     "pipeline.github.event_name": "schedule",
     "pipeline.github.head_ref": "",
     "pipeline.github.job": "run-tests-pipeline-and-persist-pipeline-outputs",
     "pipeline.github.ref": "refs/heads/development",
     "pipeline.github.ref_name": "development",
     "pipeline.github.ref_type": "branch",
     "pipeline.github.repository": "matiasdahl/dev-mnist-digits-demo-pipeline",
     "pipeline.github.run_id": "3710884777",
     "pipeline.github.runner_name": "Hosted Agent",
     "pipeline.github.sha": "ace0d01011d5e914f1921450dd5a59c11367b38d",
     "pipeline.github.workflow": "Run automated tests, pipeline and deploy results to static reporting site",
     "pipeline.pipeline_run_id": "2caa8dce-5051-4596-a5f0-de5241f6a484",
     "pipeline.run_environment": "ci",
     "run.retry_nr": "10",
     "task.max_nr_retries": "15",
     "task.notebook": "notebooks/ingest.py",
     "task.num_cpus": 1,
     "task.timeout_s": "10"
    }
   },
   "start_time": "2022-12-16T06:39:28.850345",
   "version": "2.3.3"
  }
 },
 "nbformat": 4,
 "nbformat_minor": 5
}