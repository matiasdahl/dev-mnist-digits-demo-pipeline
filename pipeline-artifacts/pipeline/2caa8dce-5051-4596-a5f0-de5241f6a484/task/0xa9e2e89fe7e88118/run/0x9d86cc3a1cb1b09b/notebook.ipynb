{
 "cells": [
  {
   "cell_type": "markdown",
   "id": "27806c28",
   "metadata": {
    "papermill": {
     "duration": 0.005839,
     "end_time": "2022-12-16T06:40:07.910301",
     "exception": false,
     "start_time": "2022-12-16T06:40:07.904462",
     "status": "completed"
    },
    "tags": []
   },
   "source": [
    "# Benchmark model\n",
    "\n",
    "The purpose of this notebook is to benchmark persisted onnx-model (trained in the\n",
    "previous step) against evaluation set."
   ]
  },
  {
   "cell_type": "markdown",
   "id": "5526b589",
   "metadata": {
    "papermill": {
     "duration": 0.006049,
     "end_time": "2022-12-16T06:40:07.921208",
     "exception": false,
     "start_time": "2022-12-16T06:40:07.915159",
     "status": "completed"
    },
    "tags": []
   },
   "source": [
    "### Determine run parameters"
   ]
  },
  {
   "cell_type": "code",
   "execution_count": 1,
   "id": "76f08c41",
   "metadata": {
    "execution": {
     "iopub.execute_input": "2022-12-16T06:40:07.930679Z",
     "iopub.status.busy": "2022-12-16T06:40:07.930402Z",
     "iopub.status.idle": "2022-12-16T06:40:07.938124Z",
     "shell.execute_reply": "2022-12-16T06:40:07.937599Z"
    },
    "lines_to_next_cell": 0,
    "papermill": {
     "duration": 0.01542,
     "end_time": "2022-12-16T06:40:07.940573",
     "exception": false,
     "start_time": "2022-12-16T06:40:07.925153",
     "status": "completed"
    },
    "tags": []
   },
   "outputs": [],
   "source": [
    "# ----------------- Parameters for interactive development --------------\n",
    "P = {\n",
    "    \"pipeline.data_lake_root\": \"/pipeline-outputs/data-lake\",\n",
    "    \"task.nr_train_images\": 600,\n",
    "}"
   ]
  },
  {
   "cell_type": "code",
   "execution_count": 2,
   "id": "6eab393e",
   "metadata": {
    "execution": {
     "iopub.execute_input": "2022-12-16T06:40:07.950283Z",
     "iopub.status.busy": "2022-12-16T06:40:07.950062Z",
     "iopub.status.idle": "2022-12-16T06:40:07.952837Z",
     "shell.execute_reply": "2022-12-16T06:40:07.952241Z"
    },
    "lines_to_next_cell": 0,
    "papermill": {
     "duration": 0.010162,
     "end_time": "2022-12-16T06:40:07.955264",
     "exception": false,
     "start_time": "2022-12-16T06:40:07.945102",
     "status": "completed"
    },
    "tags": [
     "parameters"
    ]
   },
   "outputs": [],
   "source": [
    "# - During automated runs parameters will be injected in the below cell -"
   ]
  },
  {
   "cell_type": "code",
   "execution_count": 3,
   "id": "cc32d021",
   "metadata": {
    "execution": {
     "iopub.execute_input": "2022-12-16T06:40:07.964807Z",
     "iopub.status.busy": "2022-12-16T06:40:07.964603Z",
     "iopub.status.idle": "2022-12-16T06:40:07.977910Z",
     "shell.execute_reply": "2022-12-16T06:40:07.968897Z"
    },
    "papermill": {
     "duration": 0.020784,
     "end_time": "2022-12-16T06:40:07.980421",
     "exception": false,
     "start_time": "2022-12-16T06:40:07.959637",
     "status": "completed"
    },
    "tags": [
     "injected-parameters"
    ]
   },
   "outputs": [],
   "source": [
    "# Parameters\n",
    "P = {\n",
    "    \"pipeline.data_lake_root\": \"/pipeline-outputs/data-lake\",\n",
    "    \"pipeline.run_environment\": \"ci\",\n",
    "    \"pipeline.pipeline_run_id\": \"2caa8dce-5051-4596-a5f0-de5241f6a484\",\n",
    "    \"pipeline.github.repository\": \"matiasdahl/dev-mnist-digits-demo-pipeline\",\n",
    "    \"pipeline.github.workflow\": \"Run automated tests, pipeline and deploy results to static reporting site\",\n",
    "    \"pipeline.github.runner_name\": \"Hosted Agent\",\n",
    "    \"pipeline.github.run_id\": \"3710884777\",\n",
    "    \"pipeline.github.actor\": \"matiasdahl\",\n",
    "    \"pipeline.github.job\": \"run-tests-pipeline-and-persist-pipeline-outputs\",\n",
    "    \"pipeline.github.base_ref\": \"\",\n",
    "    \"pipeline.github.head_ref\": \"\",\n",
    "    \"pipeline.github.sha\": \"ace0d01011d5e914f1921450dd5a59c11367b38d\",\n",
    "    \"pipeline.github.ref\": \"refs/heads/development\",\n",
    "    \"pipeline.github.ref_type\": \"branch\",\n",
    "    \"pipeline.github.ref_name\": \"development\",\n",
    "    \"pipeline.github.event_name\": \"schedule\",\n",
    "    \"task.nr_train_images\": 1200,\n",
    "    \"task.notebook\": \"notebooks/benchmark-model.py\",\n",
    "    \"task.max_nr_retries\": \"1\",\n",
    "    \"run.retry_nr\": \"0\",\n",
    "    \"task.timeout_s\": \"None\",\n",
    "    \"task.num_cpus\": 1,\n",
    "    \"_opentelemetry_traceparent\": \"00-2c7c60ef416f61cec4fdb89ff37718a6-cfd2ebc0694a279c-01\",\n",
    "}\n"
   ]
  },
  {
   "cell_type": "code",
   "execution_count": 4,
   "id": "00f5035f",
   "metadata": {
    "execution": {
     "iopub.execute_input": "2022-12-16T06:40:07.994650Z",
     "iopub.status.busy": "2022-12-16T06:40:07.994440Z",
     "iopub.status.idle": "2022-12-16T06:40:07.997303Z",
     "shell.execute_reply": "2022-12-16T06:40:07.996566Z"
    },
    "lines_to_next_cell": 0,
    "papermill": {
     "duration": 0.0171,
     "end_time": "2022-12-16T06:40:08.001285",
     "exception": false,
     "start_time": "2022-12-16T06:40:07.984185",
     "status": "completed"
    },
    "tags": []
   },
   "outputs": [],
   "source": [
    "# -----------------------------------------------------------------------"
   ]
  },
  {
   "cell_type": "markdown",
   "id": "ab7620e7",
   "metadata": {
    "papermill": {
     "duration": 0.004799,
     "end_time": "2022-12-16T06:40:08.010074",
     "exception": false,
     "start_time": "2022-12-16T06:40:08.005275",
     "status": "completed"
    },
    "tags": []
   },
   "source": [
    "---"
   ]
  },
  {
   "cell_type": "markdown",
   "id": "a43bdd90",
   "metadata": {
    "lines_to_next_cell": 2,
    "papermill": {
     "duration": 0.004879,
     "end_time": "2022-12-16T06:40:08.019224",
     "exception": false,
     "start_time": "2022-12-16T06:40:08.014345",
     "status": "completed"
    },
    "tags": []
   },
   "source": [
    "### Notebook code"
   ]
  },
  {
   "cell_type": "code",
   "execution_count": 5,
   "id": "f5644d0e",
   "metadata": {
    "execution": {
     "iopub.execute_input": "2022-12-16T06:40:08.029087Z",
     "iopub.status.busy": "2022-12-16T06:40:08.028836Z",
     "iopub.status.idle": "2022-12-16T06:40:09.215475Z",
     "shell.execute_reply": "2022-12-16T06:40:09.214716Z"
    },
    "papermill": {
     "duration": 1.193557,
     "end_time": "2022-12-16T06:40:09.217248",
     "exception": false,
     "start_time": "2022-12-16T06:40:08.023691",
     "status": "completed"
    },
    "tags": []
   },
   "outputs": [
    {
     "name": "stderr",
     "output_type": "stream",
     "text": [
      "2022-12-16 06:40:08,996\tINFO worker.py:842 -- Connecting to existing Ray cluster at address: 172.17.0.2:6379\n"
     ]
    }
   ],
   "source": [
    "import itertools as it\n",
    "\n",
    "#\n",
    "import numpy as np\n",
    "import matplotlib.pyplot as plt\n",
    "\n",
    "#\n",
    "from pynb_dag_runner.tasks.task_opentelemetry_logging import PydarLogger\n",
    "\n",
    "#\n",
    "from common.io import datalake_root\n",
    "\n",
    "logger = PydarLogger(P)"
   ]
  },
  {
   "cell_type": "markdown",
   "id": "92a0459e",
   "metadata": {
    "papermill": {
     "duration": 0.004986,
     "end_time": "2022-12-16T06:40:09.227041",
     "exception": false,
     "start_time": "2022-12-16T06:40:09.222055",
     "status": "completed"
    },
    "tags": []
   },
   "source": [
    "## Load persisted onnx-model and evaluation data"
   ]
  },
  {
   "cell_type": "code",
   "execution_count": 6,
   "id": "3b14e0ca",
   "metadata": {
    "execution": {
     "iopub.execute_input": "2022-12-16T06:40:09.237622Z",
     "iopub.status.busy": "2022-12-16T06:40:09.237129Z",
     "iopub.status.idle": "2022-12-16T06:40:09.240679Z",
     "shell.execute_reply": "2022-12-16T06:40:09.240029Z"
    },
    "papermill": {
     "duration": 0.011297,
     "end_time": "2022-12-16T06:40:09.242622",
     "exception": false,
     "start_time": "2022-12-16T06:40:09.231325",
     "status": "completed"
    },
    "tags": []
   },
   "outputs": [],
   "source": [
    "from common.io import read_onnx, get_onnx_inputs, get_onnx_outputs, read_numpy"
   ]
  },
  {
   "cell_type": "code",
   "execution_count": 7,
   "id": "e50f25be",
   "metadata": {
    "execution": {
     "iopub.execute_input": "2022-12-16T06:40:09.252573Z",
     "iopub.status.busy": "2022-12-16T06:40:09.252178Z",
     "iopub.status.idle": "2022-12-16T06:40:09.262474Z",
     "shell.execute_reply": "2022-12-16T06:40:09.261901Z"
    },
    "lines_to_next_cell": 0,
    "papermill": {
     "duration": 0.017287,
     "end_time": "2022-12-16T06:40:09.264748",
     "exception": false,
     "start_time": "2022-12-16T06:40:09.247461",
     "status": "completed"
    },
    "tags": []
   },
   "outputs": [],
   "source": [
    "onnx_inference_session = read_onnx(\n",
    "    datalake_root(P)\n",
    "    / \"models\"\n",
    "    / f\"nr_train_images={P['task.nr_train_images']}\"\n",
    "    / \"model.onnx\"\n",
    ")"
   ]
  },
  {
   "cell_type": "markdown",
   "id": "8e4386e4",
   "metadata": {
    "papermill": {
     "duration": 0.004657,
     "end_time": "2022-12-16T06:40:09.274187",
     "exception": false,
     "start_time": "2022-12-16T06:40:09.269530",
     "status": "completed"
    },
    "tags": []
   },
   "source": [
    "### Record structure of inputs and outputs for ONNX model\n",
    "\n",
    "(this should likely be done in training notebook)"
   ]
  },
  {
   "cell_type": "code",
   "execution_count": 8,
   "id": "1784a0f2",
   "metadata": {
    "execution": {
     "iopub.execute_input": "2022-12-16T06:40:09.283493Z",
     "iopub.status.busy": "2022-12-16T06:40:09.283266Z",
     "iopub.status.idle": "2022-12-16T06:40:09.289153Z",
     "shell.execute_reply": "2022-12-16T06:40:09.288578Z"
    },
    "papermill": {
     "duration": 0.013916,
     "end_time": "2022-12-16T06:40:09.292240",
     "exception": false,
     "start_time": "2022-12-16T06:40:09.278324",
     "status": "completed"
    },
    "tags": []
   },
   "outputs": [
    {
     "name": "stdout",
     "output_type": "stream",
     "text": [
      "{\n",
      "  \"inputs\": [\n",
      "    {\n",
      "      \"name\": \"float_input_8x8_image\",\n",
      "      \"shape\": [\n",
      "        null,\n",
      "        64\n",
      "      ],\n",
      "      \"type\": \"tensor(float)\"\n",
      "    }\n",
      "  ],\n",
      "  \"outputs\": [\n",
      "    {\n",
      "      \"name\": \"output_label\",\n",
      "      \"shape\": [\n",
      "        null\n",
      "      ],\n",
      "      \"type\": \"tensor(int64)\"\n",
      "    },\n",
      "    {\n",
      "      \"name\": \"output_probability\",\n",
      "      \"shape\": [],\n",
      "      \"type\": \"seq(map(int64,tensor(float)))\"\n",
      "    }\n",
      "  ]\n",
      "}\n"
     ]
    }
   ],
   "source": [
    "import json\n",
    "\n",
    "onnx_io = json.dumps(\n",
    "    {\n",
    "        \"inputs\": get_onnx_inputs(onnx_inference_session),\n",
    "        \"outputs\": get_onnx_outputs(onnx_inference_session),\n",
    "    },\n",
    "    indent=2,\n",
    ")\n",
    "\n",
    "\n",
    "logger.log_artefact(\"onnx_io_structure.json\", onnx_io)\n",
    "print(onnx_io)"
   ]
  },
  {
   "cell_type": "markdown",
   "id": "940ad741",
   "metadata": {
    "papermill": {
     "duration": 0.004208,
     "end_time": "2022-12-16T06:40:09.301319",
     "exception": false,
     "start_time": "2022-12-16T06:40:09.297111",
     "status": "completed"
    },
    "tags": []
   },
   "source": [
    "### Evaluate model performance on evaluation data set"
   ]
  },
  {
   "cell_type": "code",
   "execution_count": 9,
   "id": "09b756d1",
   "metadata": {
    "execution": {
     "iopub.execute_input": "2022-12-16T06:40:09.315766Z",
     "iopub.status.busy": "2022-12-16T06:40:09.315519Z",
     "iopub.status.idle": "2022-12-16T06:40:09.322366Z",
     "shell.execute_reply": "2022-12-16T06:40:09.321525Z"
    },
    "papermill": {
     "duration": 0.018527,
     "end_time": "2022-12-16T06:40:09.324078",
     "exception": false,
     "start_time": "2022-12-16T06:40:09.305551",
     "status": "completed"
    },
    "tags": []
   },
   "outputs": [],
   "source": [
    "# load evaluation data\n",
    "X_test = read_numpy(datalake_root(P) / \"test-data\" / \"digits.numpy\")\n",
    "y_test = read_numpy(datalake_root(P) / \"test-data\" / \"labels.numpy\")"
   ]
  },
  {
   "cell_type": "code",
   "execution_count": 10,
   "id": "d1fdca0c",
   "metadata": {
    "execution": {
     "iopub.execute_input": "2022-12-16T06:40:09.338740Z",
     "iopub.status.busy": "2022-12-16T06:40:09.338418Z",
     "iopub.status.idle": "2022-12-16T06:40:09.356861Z",
     "shell.execute_reply": "2022-12-16T06:40:09.356209Z"
    },
    "papermill": {
     "duration": 0.029897,
     "end_time": "2022-12-16T06:40:09.358451",
     "exception": false,
     "start_time": "2022-12-16T06:40:09.328554",
     "status": "completed"
    },
    "tags": []
   },
   "outputs": [],
   "source": [
    "def get_model_outputs(X, onnx_inference_session):\n",
    "    y_pred_labels, y_pred_map = onnx_inference_session.run(\n",
    "        [\"output_label\", \"output_probability\"],\n",
    "        {\"float_input_8x8_image\": X.astype(np.float32)},\n",
    "    )\n",
    "    y_pred_probs = np.array(\n",
    "        [[probabilities[digit] for digit in range(10)] for probabilities in y_pred_map]\n",
    "    )\n",
    "\n",
    "    assert y_pred_labels.shape == (X.shape[0],)\n",
    "    assert y_pred_probs.shape == (X.shape[0], 10)\n",
    "\n",
    "    return y_pred_labels, y_pred_probs\n",
    "\n",
    "\n",
    "# Note: as shown in the training notebook, the predicted labels and probabilities\n",
    "# computed below need not be compatible.\n",
    "y_pred_labels_test, y_pred_probs_test = get_model_outputs(\n",
    "    X_test, onnx_inference_session\n",
    ")"
   ]
  },
  {
   "cell_type": "markdown",
   "id": "cc30198b",
   "metadata": {
    "papermill": {
     "duration": 0.004688,
     "end_time": "2022-12-16T06:40:09.367957",
     "exception": false,
     "start_time": "2022-12-16T06:40:09.363269",
     "status": "completed"
    },
    "tags": []
   },
   "source": [
    "### Confusion matrix"
   ]
  },
  {
   "cell_type": "code",
   "execution_count": 11,
   "id": "6ef01697",
   "metadata": {
    "execution": {
     "iopub.execute_input": "2022-12-16T06:40:09.382752Z",
     "iopub.status.busy": "2022-12-16T06:40:09.382411Z",
     "iopub.status.idle": "2022-12-16T06:40:09.385603Z",
     "shell.execute_reply": "2022-12-16T06:40:09.384875Z"
    },
    "papermill": {
     "duration": 0.014714,
     "end_time": "2022-12-16T06:40:09.386983",
     "exception": false,
     "start_time": "2022-12-16T06:40:09.372269",
     "status": "completed"
    },
    "tags": []
   },
   "outputs": [],
   "source": [
    "# TODO"
   ]
  },
  {
   "cell_type": "markdown",
   "id": "8257b62f",
   "metadata": {
    "papermill": {
     "duration": 0.004318,
     "end_time": "2022-12-16T06:40:09.395590",
     "exception": false,
     "start_time": "2022-12-16T06:40:09.391272",
     "status": "completed"
    },
    "tags": []
   },
   "source": [
    "### Plot predicted probabilities for each classifier over all evaluation digit images"
   ]
  },
  {
   "cell_type": "code",
   "execution_count": 12,
   "id": "0391d925",
   "metadata": {
    "execution": {
     "iopub.execute_input": "2022-12-16T06:40:09.405637Z",
     "iopub.status.busy": "2022-12-16T06:40:09.405344Z",
     "iopub.status.idle": "2022-12-16T06:40:12.167190Z",
     "shell.execute_reply": "2022-12-16T06:40:12.166584Z"
    },
    "papermill": {
     "duration": 2.769201,
     "end_time": "2022-12-16T06:40:12.168830",
     "exception": false,
     "start_time": "2022-12-16T06:40:09.399629",
     "status": "completed"
    },
    "tags": []
   },
   "outputs": [
    {
     "data": {
      "image/png": "[encoded data removed]",
      "text/plain": [
       "<Figure size 1600x600 with 10 Axes>"
      ]
     },
     "metadata": {},
     "output_type": "display_data"
    }
   ],
   "source": [
    "def plot_per_digit_probabilities(y_pred_probs):\n",
    "    fig, axs = plt.subplots(nrows=2, ncols=5, figsize=(16, 6))\n",
    "\n",
    "    for (r, c), digit, ax in zip(\n",
    "        it.product(range(2), range(5)), range(10), axs.reshape(-1)\n",
    "    ):\n",
    "        ax.hist(y_pred_probs_test[:, digit], bins=20)\n",
    "\n",
    "        ax.set_title(f\"Digit {digit}\")\n",
    "        if r == 1 and c == 2:\n",
    "            ax.set_xlabel(\"probability\", fontsize=16)\n",
    "\n",
    "        if c == 0:\n",
    "            ax.set_ylabel(\"counts\", fontsize=16)\n",
    "        ax.set_yscale(\"log\")\n",
    "\n",
    "    fig.tight_layout()\n",
    "    fig.suptitle(\n",
    "        f\"Distributions of prediction probabilities for each digit \"\n",
    "        f\"(on evaluation data, n={y_pred_probs.shape[0]})\",\n",
    "        fontsize=20,\n",
    "    )\n",
    "    fig.tight_layout()\n",
    "    fig.show()\n",
    "\n",
    "    return fig\n",
    "\n",
    "\n",
    "fig = plot_per_digit_probabilities(y_pred_probs_test)"
   ]
  },
  {
   "cell_type": "markdown",
   "id": "b4736a90",
   "metadata": {
    "papermill": {
     "duration": 0.005145,
     "end_time": "2022-12-16T06:40:12.179313",
     "exception": false,
     "start_time": "2022-12-16T06:40:12.174168",
     "status": "completed"
    },
    "tags": []
   },
   "source": [
    "From the above distributions we see that most digits have clear separation between\n",
    "high and lower probabilities. Morover, in each case there is roughly an order of\n",
    "magnitude more of digits with low probabilities. This is compatible with digits\n",
    "being roughly evenly distributed in the data."
   ]
  },
  {
   "cell_type": "code",
   "execution_count": 13,
   "id": "3f4ceccd",
   "metadata": {
    "execution": {
     "iopub.execute_input": "2022-12-16T06:40:12.190760Z",
     "iopub.status.busy": "2022-12-16T06:40:12.190480Z",
     "iopub.status.idle": "2022-12-16T06:40:12.603639Z",
     "shell.execute_reply": "2022-12-16T06:40:12.603017Z"
    },
    "papermill": {
     "duration": 0.420815,
     "end_time": "2022-12-16T06:40:12.605287",
     "exception": false,
     "start_time": "2022-12-16T06:40:12.184472",
     "status": "completed"
    },
    "tags": []
   },
   "outputs": [],
   "source": [
    "logger.log_figure(\"per-digit-probabilities.png\", fig)"
   ]
  },
  {
   "cell_type": "markdown",
   "id": "e3cef769",
   "metadata": {
    "papermill": {
     "duration": 0.00484,
     "end_time": "2022-12-16T06:40:12.615391",
     "exception": false,
     "start_time": "2022-12-16T06:40:12.610551",
     "status": "completed"
    },
    "tags": []
   },
   "source": [
    "### Plot ROC curves for individual one-vs-rest classifiers"
   ]
  },
  {
   "cell_type": "code",
   "execution_count": 14,
   "id": "6ac955ed",
   "metadata": {
    "execution": {
     "iopub.execute_input": "2022-12-16T06:40:12.626896Z",
     "iopub.status.busy": "2022-12-16T06:40:12.626368Z",
     "iopub.status.idle": "2022-12-16T06:40:12.984283Z",
     "shell.execute_reply": "2022-12-16T06:40:12.983654Z"
    },
    "papermill": {
     "duration": 0.365979,
     "end_time": "2022-12-16T06:40:12.986284",
     "exception": false,
     "start_time": "2022-12-16T06:40:12.620305",
     "status": "completed"
    },
    "tags": []
   },
   "outputs": [],
   "source": [
    "from sklearn import metrics"
   ]
  },
  {
   "cell_type": "code",
   "execution_count": 15,
   "id": "f38b8f85",
   "metadata": {
    "execution": {
     "iopub.execute_input": "2022-12-16T06:40:12.999991Z",
     "iopub.status.busy": "2022-12-16T06:40:12.999519Z",
     "iopub.status.idle": "2022-12-16T06:40:14.010799Z",
     "shell.execute_reply": "2022-12-16T06:40:14.010251Z"
    },
    "papermill": {
     "duration": 1.021136,
     "end_time": "2022-12-16T06:40:14.012891",
     "exception": false,
     "start_time": "2022-12-16T06:40:12.991755",
     "status": "completed"
    },
    "tags": []
   },
   "outputs": [
    {
     "data": {
      "image/png": "[encoded data removed]",
      "text/plain": [
       "<Figure size 1600x800 with 10 Axes>"
      ]
     },
     "metadata": {},
     "output_type": "display_data"
    }
   ],
   "source": [
    "def plot_roc_curves(y, y_pred_probs):\n",
    "    # based on example code\n",
    "    # https://scikit-learn.org/stable/auto_examples/model_selection/plot_roc.html\n",
    "\n",
    "    fig, axs = plt.subplots(nrows=2, ncols=5, figsize=(16, 8))\n",
    "\n",
    "    roc_auc_dict = {}\n",
    "\n",
    "    for (r, c), digit, ax in zip(\n",
    "        it.product(range(2), range(5)), range(10), axs.reshape(-1)\n",
    "    ):\n",
    "        fpr, tpr, _ = metrics.roc_curve(y == digit, y_pred_probs[:, digit])\n",
    "        auc = metrics.auc(fpr, tpr)\n",
    "        roc_auc_dict[str(digit)] = auc\n",
    "\n",
    "        ax.plot(fpr, tpr, label=f\"ROC AUC={round(auc, 3)}\")\n",
    "\n",
    "        ax.set_title(f\"\\nDigit {digit}\", fontsize=16)\n",
    "        if r == 1:\n",
    "            ax.set_xlabel(\"FPR\", fontsize=18)\n",
    "\n",
    "        if c == 0:\n",
    "            ax.set_ylabel(\"TPR\", fontsize=18)\n",
    "\n",
    "        ax.set_xlim([-0.05, 1.05])\n",
    "        ax.set_ylim([-0.05, 1.05])\n",
    "        ax.legend(loc=\"lower right\", frameon=False, fontsize=14)\n",
    "\n",
    "    fig.tight_layout()\n",
    "    fig.suptitle(\n",
    "        f\"ROC plots for one-vs-rest performances \"\n",
    "        f\"(on evaluation data, n={y_pred_probs_test.shape[1]}\",\n",
    "        fontsize=22,\n",
    "    )\n",
    "    fig.tight_layout()\n",
    "    fig.show()\n",
    "\n",
    "    return roc_auc_dict, fig\n",
    "\n",
    "\n",
    "roc_auc_dict, fig = plot_roc_curves(y_test, y_pred_probs_test)"
   ]
  },
  {
   "cell_type": "code",
   "execution_count": 16,
   "id": "ad002cac",
   "metadata": {
    "execution": {
     "iopub.execute_input": "2022-12-16T06:40:14.026872Z",
     "iopub.status.busy": "2022-12-16T06:40:14.026625Z",
     "iopub.status.idle": "2022-12-16T06:40:14.264550Z",
     "shell.execute_reply": "2022-12-16T06:40:14.263865Z"
    },
    "papermill": {
     "duration": 0.247438,
     "end_time": "2022-12-16T06:40:14.266600",
     "exception": false,
     "start_time": "2022-12-16T06:40:14.019162",
     "status": "completed"
    },
    "tags": []
   },
   "outputs": [],
   "source": [
    "logger.log_figure(\"per-digit-roc-curves.png\", fig)"
   ]
  },
  {
   "cell_type": "code",
   "execution_count": 17,
   "id": "2274390a",
   "metadata": {
    "execution": {
     "iopub.execute_input": "2022-12-16T06:40:14.281210Z",
     "iopub.status.busy": "2022-12-16T06:40:14.280791Z",
     "iopub.status.idle": "2022-12-16T06:40:14.285411Z",
     "shell.execute_reply": "2022-12-16T06:40:14.284623Z"
    },
    "papermill": {
     "duration": 0.013894,
     "end_time": "2022-12-16T06:40:14.287474",
     "exception": false,
     "start_time": "2022-12-16T06:40:14.273580",
     "status": "completed"
    },
    "tags": []
   },
   "outputs": [
    {
     "data": {
      "text/plain": [
       "{'0': 1.0,\n",
       " '1': 0.998987816307404,\n",
       " '2': 1.0,\n",
       " '3': 0.9998500468603562,\n",
       " '4': 0.9997713763145861,\n",
       " '5': 0.9997000937207123,\n",
       " '6': 0.999923792104862,\n",
       " '7': 0.9998475842097242,\n",
       " '8': 0.9957046027742749,\n",
       " '9': 0.9997713763145862}"
      ]
     },
     "execution_count": 17,
     "metadata": {},
     "output_type": "execute_result"
    }
   ],
   "source": [
    "roc_auc_dict"
   ]
  },
  {
   "cell_type": "code",
   "execution_count": 18,
   "id": "146e512b",
   "metadata": {
    "execution": {
     "iopub.execute_input": "2022-12-16T06:40:14.302143Z",
     "iopub.status.busy": "2022-12-16T06:40:14.301624Z",
     "iopub.status.idle": "2022-12-16T06:40:14.306627Z",
     "shell.execute_reply": "2022-12-16T06:40:14.305652Z"
    },
    "papermill": {
     "duration": 0.014897,
     "end_time": "2022-12-16T06:40:14.308593",
     "exception": false,
     "start_time": "2022-12-16T06:40:14.293696",
     "status": "completed"
    },
    "tags": []
   },
   "outputs": [
    {
     "name": "stdout",
     "output_type": "stream",
     "text": [
      " - Logging roc_auc_per_digit (json) : {'0': 1.0, '1': 0.998987816307404, '2': 1.0, '3': 0.9998500468603562, '4': 0.9997713763145861, '5': 0.9997000937207123, '6': 0.999923792104862, '7': 0.9998475842097242, '8': 0.9957046027742749, '9': 0.9997713763145862}\n"
     ]
    }
   ],
   "source": [
    "logger.log_value(\"roc_auc_per_digit\", roc_auc_dict)"
   ]
  },
  {
   "cell_type": "markdown",
   "id": "e8546857",
   "metadata": {
    "papermill": {
     "duration": 0.006494,
     "end_time": "2022-12-16T06:40:14.321616",
     "exception": false,
     "start_time": "2022-12-16T06:40:14.315122",
     "status": "completed"
    },
    "tags": []
   },
   "source": [
    "### Compute and log mean ROC AUC score averaged over all digits"
   ]
  },
  {
   "cell_type": "code",
   "execution_count": 19,
   "id": "8abddf98",
   "metadata": {
    "execution": {
     "iopub.execute_input": "2022-12-16T06:40:14.337644Z",
     "iopub.status.busy": "2022-12-16T06:40:14.336977Z",
     "iopub.status.idle": "2022-12-16T06:40:14.347611Z",
     "shell.execute_reply": "2022-12-16T06:40:14.346975Z"
    },
    "papermill": {
     "duration": 0.019521,
     "end_time": "2022-12-16T06:40:14.349029",
     "exception": false,
     "start_time": "2022-12-16T06:40:14.329508",
     "status": "completed"
    },
    "tags": []
   },
   "outputs": [
    {
     "name": "stdout",
     "output_type": "stream",
     "text": [
      " - Logging roc_auc_class_mean (float) : 0.9993556688606505\n"
     ]
    }
   ],
   "source": [
    "roc_auc_macro = np.mean(list(roc_auc_dict.values()))\n",
    "\n",
    "logger.log_float(\"roc_auc_class_mean\", roc_auc_macro)\n",
    "\n",
    "# assert that the same value can be computed directly using sklearn\n",
    "assert roc_auc_macro == metrics.roc_auc_score(\n",
    "    y_test, y_pred_probs_test, average=\"macro\", multi_class=\"ovr\"\n",
    ")"
   ]
  },
  {
   "cell_type": "code",
   "execution_count": 20,
   "id": "c032a74b",
   "metadata": {
    "execution": {
     "iopub.execute_input": "2022-12-16T06:40:14.363596Z",
     "iopub.status.busy": "2022-12-16T06:40:14.363085Z",
     "iopub.status.idle": "2022-12-16T06:40:14.367080Z",
     "shell.execute_reply": "2022-12-16T06:40:14.365579Z"
    },
    "lines_to_next_cell": 0,
    "papermill": {
     "duration": 0.013198,
     "end_time": "2022-12-16T06:40:14.368647",
     "exception": false,
     "start_time": "2022-12-16T06:40:14.355449",
     "status": "completed"
    },
    "tags": []
   },
   "outputs": [],
   "source": [
    "# ---"
   ]
  },
  {
   "cell_type": "code",
   "execution_count": null,
   "id": "d500e6c3",
   "metadata": {
    "papermill": {
     "duration": 0.006671,
     "end_time": "2022-12-16T06:40:14.381802",
     "exception": false,
     "start_time": "2022-12-16T06:40:14.375131",
     "status": "completed"
    },
    "tags": []
   },
   "outputs": [],
   "source": []
  }
 ],
 "metadata": {
  "jupytext": {
   "cell_metadata_filter": "tags,-all",
   "main_language": "python",
   "notebook_metadata_filter": "-all"
  },
  "language_info": {
   "codemirror_mode": {
    "name": "ipython",
    "version": 3
   },
   "file_extension": ".py",
   "mimetype": "text/x-python",
   "name": "python",
   "nbconvert_exporter": "python",
   "pygments_lexer": "ipython3",
   "version": "3.8.10"
  },
  "papermill": {
   "default_parameters": {},
   "duration": 8.88061,
   "end_time": "2022-12-16T06:40:15.407043",
   "environment_variables": {},
   "exception": null,
   "input_path": "/home/host_user/workspace/mnist-demo-pipeline/mnist-demo-pipeline/notebooks/temp-notebook-q23ym_q_.ipynb",
   "output_path": "notebooks/benchmark-model.ipynb",
   "parameters": {
    "P": {
     "_opentelemetry_traceparent": "00-2c7c60ef416f61cec4fdb89ff37718a6-cfd2ebc0694a279c-01",
     "pipeline.data_lake_root": "/pipeline-outputs/data-lake",
     "pipeline.github.actor": "matiasdahl",
     "pipeline.github.base_ref": "",
     "pipeline.github.event_name": "schedule",
     "pipeline.github.head_ref": "",
     "pipeline.github.job": "run-tests-pipeline-and-persist-pipeline-outputs",
     "pipeline.github.ref": "refs/heads/development",
     "pipeline.github.ref_name": "development",
     "pipeline.github.ref_type": "branch",
     "pipeline.github.repository": "matiasdahl/dev-mnist-digits-demo-pipeline",
     "pipeline.github.run_id": "3710884777",
     "pipeline.github.runner_name": "Hosted Agent",
     "pipeline.github.sha": "ace0d01011d5e914f1921450dd5a59c11367b38d",
     "pipeline.github.workflow": "Run automated tests, pipeline and deploy results to static reporting site",
     "pipeline.pipeline_run_id": "2caa8dce-5051-4596-a5f0-de5241f6a484",
     "pipeline.run_environment": "ci",
     "run.retry_nr": "0",
     "task.max_nr_retries": "1",
     "task.notebook": "notebooks/benchmark-model.py",
     "task.nr_train_images": 1200,
     "task.num_cpus": 1,
     "task.timeout_s": "None"
    }
   },
   "start_time": "2022-12-16T06:40:06.526433",
   "version": "2.3.3"
  }
 },
 "nbformat": 4,
 "nbformat_minor": 5
}