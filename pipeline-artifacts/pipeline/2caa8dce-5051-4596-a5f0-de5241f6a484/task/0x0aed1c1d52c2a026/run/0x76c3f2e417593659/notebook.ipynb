{
 "cells": [
  {
   "cell_type": "markdown",
   "id": "e37f79c1",
   "metadata": {
    "papermill": {
     "duration": 0.00498,
     "end_time": "2022-12-16T06:39:57.796506",
     "exception": false,
     "start_time": "2022-12-16T06:39:57.791526",
     "status": "completed"
    },
    "tags": []
   },
   "source": [
    "# Benchmark model\n",
    "\n",
    "The purpose of this notebook is to benchmark persisted onnx-model (trained in the\n",
    "previous step) against evaluation set."
   ]
  },
  {
   "cell_type": "markdown",
   "id": "de248716",
   "metadata": {
    "papermill": {
     "duration": 0.005034,
     "end_time": "2022-12-16T06:39:57.806575",
     "exception": false,
     "start_time": "2022-12-16T06:39:57.801541",
     "status": "completed"
    },
    "tags": []
   },
   "source": [
    "### Determine run parameters"
   ]
  },
  {
   "cell_type": "code",
   "execution_count": 1,
   "id": "41971bd9",
   "metadata": {
    "execution": {
     "iopub.execute_input": "2022-12-16T06:39:57.815620Z",
     "iopub.status.busy": "2022-12-16T06:39:57.815347Z",
     "iopub.status.idle": "2022-12-16T06:39:57.822118Z",
     "shell.execute_reply": "2022-12-16T06:39:57.821568Z"
    },
    "lines_to_next_cell": 0,
    "papermill": {
     "duration": 0.01436,
     "end_time": "2022-12-16T06:39:57.824842",
     "exception": false,
     "start_time": "2022-12-16T06:39:57.810482",
     "status": "completed"
    },
    "tags": []
   },
   "outputs": [],
   "source": [
    "# ----------------- Parameters for interactive development --------------\n",
    "P = {\n",
    "    \"pipeline.data_lake_root\": \"/pipeline-outputs/data-lake\",\n",
    "    \"task.nr_train_images\": 600,\n",
    "}"
   ]
  },
  {
   "cell_type": "code",
   "execution_count": 2,
   "id": "d80afbf4",
   "metadata": {
    "execution": {
     "iopub.execute_input": "2022-12-16T06:39:57.835499Z",
     "iopub.status.busy": "2022-12-16T06:39:57.835285Z",
     "iopub.status.idle": "2022-12-16T06:39:57.838052Z",
     "shell.execute_reply": "2022-12-16T06:39:57.837468Z"
    },
    "lines_to_next_cell": 0,
    "papermill": {
     "duration": 0.012287,
     "end_time": "2022-12-16T06:39:57.841028",
     "exception": false,
     "start_time": "2022-12-16T06:39:57.828741",
     "status": "completed"
    },
    "tags": [
     "parameters"
    ]
   },
   "outputs": [],
   "source": [
    "# - During automated runs parameters will be injected in the below cell -"
   ]
  },
  {
   "cell_type": "code",
   "execution_count": 3,
   "id": "1c741307",
   "metadata": {
    "execution": {
     "iopub.execute_input": "2022-12-16T06:39:57.850192Z",
     "iopub.status.busy": "2022-12-16T06:39:57.849991Z",
     "iopub.status.idle": "2022-12-16T06:39:57.854856Z",
     "shell.execute_reply": "2022-12-16T06:39:57.854386Z"
    },
    "papermill": {
     "duration": 0.011987,
     "end_time": "2022-12-16T06:39:57.857202",
     "exception": false,
     "start_time": "2022-12-16T06:39:57.845215",
     "status": "completed"
    },
    "tags": [
     "injected-parameters"
    ]
   },
   "outputs": [],
   "source": [
    "# Parameters\n",
    "P = {\n",
    "    \"pipeline.data_lake_root\": \"/pipeline-outputs/data-lake\",\n",
    "    \"pipeline.run_environment\": \"ci\",\n",
    "    \"pipeline.pipeline_run_id\": \"2caa8dce-5051-4596-a5f0-de5241f6a484\",\n",
    "    \"pipeline.github.repository\": \"matiasdahl/dev-mnist-digits-demo-pipeline\",\n",
    "    \"pipeline.github.workflow\": \"Run automated tests, pipeline and deploy results to static reporting site\",\n",
    "    \"pipeline.github.runner_name\": \"Hosted Agent\",\n",
    "    \"pipeline.github.run_id\": \"3710884777\",\n",
    "    \"pipeline.github.actor\": \"matiasdahl\",\n",
    "    \"pipeline.github.job\": \"run-tests-pipeline-and-persist-pipeline-outputs\",\n",
    "    \"pipeline.github.base_ref\": \"\",\n",
    "    \"pipeline.github.head_ref\": \"\",\n",
    "    \"pipeline.github.sha\": \"ace0d01011d5e914f1921450dd5a59c11367b38d\",\n",
    "    \"pipeline.github.ref\": \"refs/heads/development\",\n",
    "    \"pipeline.github.ref_type\": \"branch\",\n",
    "    \"pipeline.github.ref_name\": \"development\",\n",
    "    \"pipeline.github.event_name\": \"schedule\",\n",
    "    \"task.nr_train_images\": 800,\n",
    "    \"task.notebook\": \"notebooks/benchmark-model.py\",\n",
    "    \"task.max_nr_retries\": \"1\",\n",
    "    \"run.retry_nr\": \"0\",\n",
    "    \"task.timeout_s\": \"None\",\n",
    "    \"task.num_cpus\": 1,\n",
    "    \"_opentelemetry_traceparent\": \"00-2c7c60ef416f61cec4fdb89ff37718a6-1dcc7457a8da7b9d-01\",\n",
    "}\n"
   ]
  },
  {
   "cell_type": "code",
   "execution_count": 4,
   "id": "26e0ebe1",
   "metadata": {
    "execution": {
     "iopub.execute_input": "2022-12-16T06:39:57.866191Z",
     "iopub.status.busy": "2022-12-16T06:39:57.865990Z",
     "iopub.status.idle": "2022-12-16T06:39:57.868830Z",
     "shell.execute_reply": "2022-12-16T06:39:57.868317Z"
    },
    "lines_to_next_cell": 0,
    "papermill": {
     "duration": 0.009965,
     "end_time": "2022-12-16T06:39:57.871103",
     "exception": false,
     "start_time": "2022-12-16T06:39:57.861138",
     "status": "completed"
    },
    "tags": []
   },
   "outputs": [],
   "source": [
    "# -----------------------------------------------------------------------"
   ]
  },
  {
   "cell_type": "markdown",
   "id": "75ce0fc4",
   "metadata": {
    "papermill": {
     "duration": 0.004168,
     "end_time": "2022-12-16T06:39:57.879647",
     "exception": false,
     "start_time": "2022-12-16T06:39:57.875479",
     "status": "completed"
    },
    "tags": []
   },
   "source": [
    "---"
   ]
  },
  {
   "cell_type": "markdown",
   "id": "1d742655",
   "metadata": {
    "lines_to_next_cell": 2,
    "papermill": {
     "duration": 0.003947,
     "end_time": "2022-12-16T06:39:57.888000",
     "exception": false,
     "start_time": "2022-12-16T06:39:57.884053",
     "status": "completed"
    },
    "tags": []
   },
   "source": [
    "### Notebook code"
   ]
  },
  {
   "cell_type": "code",
   "execution_count": 5,
   "id": "796a978e",
   "metadata": {
    "execution": {
     "iopub.execute_input": "2022-12-16T06:39:57.897506Z",
     "iopub.status.busy": "2022-12-16T06:39:57.897239Z",
     "iopub.status.idle": "2022-12-16T06:39:58.997394Z",
     "shell.execute_reply": "2022-12-16T06:39:58.995828Z"
    },
    "papermill": {
     "duration": 1.107283,
     "end_time": "2022-12-16T06:39:58.999285",
     "exception": false,
     "start_time": "2022-12-16T06:39:57.892002",
     "status": "completed"
    },
    "tags": []
   },
   "outputs": [
    {
     "name": "stderr",
     "output_type": "stream",
     "text": [
      "2022-12-16 06:39:58,795\tINFO worker.py:842 -- Connecting to existing Ray cluster at address: 172.17.0.2:6379\n"
     ]
    }
   ],
   "source": [
    "import itertools as it\n",
    "\n",
    "#\n",
    "import numpy as np\n",
    "import matplotlib.pyplot as plt\n",
    "\n",
    "#\n",
    "from pynb_dag_runner.tasks.task_opentelemetry_logging import PydarLogger\n",
    "\n",
    "#\n",
    "from common.io import datalake_root\n",
    "\n",
    "logger = PydarLogger(P)"
   ]
  },
  {
   "cell_type": "markdown",
   "id": "61f2d878",
   "metadata": {
    "papermill": {
     "duration": 0.003905,
     "end_time": "2022-12-16T06:39:59.008296",
     "exception": false,
     "start_time": "2022-12-16T06:39:59.004391",
     "status": "completed"
    },
    "tags": []
   },
   "source": [
    "## Load persisted onnx-model and evaluation data"
   ]
  },
  {
   "cell_type": "code",
   "execution_count": 6,
   "id": "26ec3f3f",
   "metadata": {
    "execution": {
     "iopub.execute_input": "2022-12-16T06:39:59.018714Z",
     "iopub.status.busy": "2022-12-16T06:39:59.017993Z",
     "iopub.status.idle": "2022-12-16T06:39:59.021293Z",
     "shell.execute_reply": "2022-12-16T06:39:59.020829Z"
    },
    "papermill": {
     "duration": 0.010193,
     "end_time": "2022-12-16T06:39:59.022818",
     "exception": false,
     "start_time": "2022-12-16T06:39:59.012625",
     "status": "completed"
    },
    "tags": []
   },
   "outputs": [],
   "source": [
    "from common.io import read_onnx, get_onnx_inputs, get_onnx_outputs, read_numpy"
   ]
  },
  {
   "cell_type": "code",
   "execution_count": 7,
   "id": "ff3a4a33",
   "metadata": {
    "execution": {
     "iopub.execute_input": "2022-12-16T06:39:59.032151Z",
     "iopub.status.busy": "2022-12-16T06:39:59.031800Z",
     "iopub.status.idle": "2022-12-16T06:39:59.040623Z",
     "shell.execute_reply": "2022-12-16T06:39:59.040098Z"
    },
    "lines_to_next_cell": 0,
    "papermill": {
     "duration": 0.014884,
     "end_time": "2022-12-16T06:39:59.042073",
     "exception": false,
     "start_time": "2022-12-16T06:39:59.027189",
     "status": "completed"
    },
    "tags": []
   },
   "outputs": [],
   "source": [
    "onnx_inference_session = read_onnx(\n",
    "    datalake_root(P)\n",
    "    / \"models\"\n",
    "    / f\"nr_train_images={P['task.nr_train_images']}\"\n",
    "    / \"model.onnx\"\n",
    ")"
   ]
  },
  {
   "cell_type": "markdown",
   "id": "15ff7caf",
   "metadata": {
    "papermill": {
     "duration": 0.003906,
     "end_time": "2022-12-16T06:39:59.050471",
     "exception": false,
     "start_time": "2022-12-16T06:39:59.046565",
     "status": "completed"
    },
    "tags": []
   },
   "source": [
    "### Record structure of inputs and outputs for ONNX model\n",
    "\n",
    "(this should likely be done in training notebook)"
   ]
  },
  {
   "cell_type": "code",
   "execution_count": 8,
   "id": "a1c9ac85",
   "metadata": {
    "execution": {
     "iopub.execute_input": "2022-12-16T06:39:59.062535Z",
     "iopub.status.busy": "2022-12-16T06:39:59.062018Z",
     "iopub.status.idle": "2022-12-16T06:39:59.069245Z",
     "shell.execute_reply": "2022-12-16T06:39:59.068562Z"
    },
    "papermill": {
     "duration": 0.017025,
     "end_time": "2022-12-16T06:39:59.072087",
     "exception": false,
     "start_time": "2022-12-16T06:39:59.055062",
     "status": "completed"
    },
    "tags": []
   },
   "outputs": [
    {
     "name": "stdout",
     "output_type": "stream",
     "text": [
      "{\n",
      "  \"inputs\": [\n",
      "    {\n",
      "      \"name\": \"float_input_8x8_image\",\n",
      "      \"shape\": [\n",
      "        null,\n",
      "        64\n",
      "      ],\n",
      "      \"type\": \"tensor(float)\"\n",
      "    }\n",
      "  ],\n",
      "  \"outputs\": [\n",
      "    {\n",
      "      \"name\": \"output_label\",\n",
      "      \"shape\": [\n",
      "        null\n",
      "      ],\n",
      "      \"type\": \"tensor(int64)\"\n",
      "    },\n",
      "    {\n",
      "      \"name\": \"output_probability\",\n",
      "      \"shape\": [],\n",
      "      \"type\": \"seq(map(int64,tensor(float)))\"\n",
      "    }\n",
      "  ]\n",
      "}\n"
     ]
    }
   ],
   "source": [
    "import json\n",
    "\n",
    "onnx_io = json.dumps(\n",
    "    {\n",
    "        \"inputs\": get_onnx_inputs(onnx_inference_session),\n",
    "        \"outputs\": get_onnx_outputs(onnx_inference_session),\n",
    "    },\n",
    "    indent=2,\n",
    ")\n",
    "\n",
    "\n",
    "logger.log_artefact(\"onnx_io_structure.json\", onnx_io)\n",
    "print(onnx_io)"
   ]
  },
  {
   "cell_type": "markdown",
   "id": "83865c40",
   "metadata": {
    "papermill": {
     "duration": 0.004014,
     "end_time": "2022-12-16T06:39:59.080628",
     "exception": false,
     "start_time": "2022-12-16T06:39:59.076614",
     "status": "completed"
    },
    "tags": []
   },
   "source": [
    "### Evaluate model performance on evaluation data set"
   ]
  },
  {
   "cell_type": "code",
   "execution_count": 9,
   "id": "fb552407",
   "metadata": {
    "execution": {
     "iopub.execute_input": "2022-12-16T06:39:59.090552Z",
     "iopub.status.busy": "2022-12-16T06:39:59.089971Z",
     "iopub.status.idle": "2022-12-16T06:39:59.096073Z",
     "shell.execute_reply": "2022-12-16T06:39:59.095471Z"
    },
    "papermill": {
     "duration": 0.012402,
     "end_time": "2022-12-16T06:39:59.097454",
     "exception": false,
     "start_time": "2022-12-16T06:39:59.085052",
     "status": "completed"
    },
    "tags": []
   },
   "outputs": [],
   "source": [
    "# load evaluation data\n",
    "X_test = read_numpy(datalake_root(P) / \"test-data\" / \"digits.numpy\")\n",
    "y_test = read_numpy(datalake_root(P) / \"test-data\" / \"labels.numpy\")"
   ]
  },
  {
   "cell_type": "code",
   "execution_count": 10,
   "id": "bad50469",
   "metadata": {
    "execution": {
     "iopub.execute_input": "2022-12-16T06:39:59.107232Z",
     "iopub.status.busy": "2022-12-16T06:39:59.106506Z",
     "iopub.status.idle": "2022-12-16T06:39:59.118548Z",
     "shell.execute_reply": "2022-12-16T06:39:59.117960Z"
    },
    "papermill": {
     "duration": 0.018602,
     "end_time": "2022-12-16T06:39:59.119998",
     "exception": false,
     "start_time": "2022-12-16T06:39:59.101396",
     "status": "completed"
    },
    "tags": []
   },
   "outputs": [],
   "source": [
    "def get_model_outputs(X, onnx_inference_session):\n",
    "    y_pred_labels, y_pred_map = onnx_inference_session.run(\n",
    "        [\"output_label\", \"output_probability\"],\n",
    "        {\"float_input_8x8_image\": X.astype(np.float32)},\n",
    "    )\n",
    "    y_pred_probs = np.array(\n",
    "        [[probabilities[digit] for digit in range(10)] for probabilities in y_pred_map]\n",
    "    )\n",
    "\n",
    "    assert y_pred_labels.shape == (X.shape[0],)\n",
    "    assert y_pred_probs.shape == (X.shape[0], 10)\n",
    "\n",
    "    return y_pred_labels, y_pred_probs\n",
    "\n",
    "\n",
    "# Note: as shown in the training notebook, the predicted labels and probabilities\n",
    "# computed below need not be compatible.\n",
    "y_pred_labels_test, y_pred_probs_test = get_model_outputs(\n",
    "    X_test, onnx_inference_session\n",
    ")"
   ]
  },
  {
   "cell_type": "markdown",
   "id": "c7e1f172",
   "metadata": {
    "papermill": {
     "duration": 0.00424,
     "end_time": "2022-12-16T06:39:59.128707",
     "exception": false,
     "start_time": "2022-12-16T06:39:59.124467",
     "status": "completed"
    },
    "tags": []
   },
   "source": [
    "### Confusion matrix"
   ]
  },
  {
   "cell_type": "code",
   "execution_count": 11,
   "id": "90e32dda",
   "metadata": {
    "execution": {
     "iopub.execute_input": "2022-12-16T06:39:59.138145Z",
     "iopub.status.busy": "2022-12-16T06:39:59.137654Z",
     "iopub.status.idle": "2022-12-16T06:39:59.140628Z",
     "shell.execute_reply": "2022-12-16T06:39:59.140071Z"
    },
    "papermill": {
     "duration": 0.009289,
     "end_time": "2022-12-16T06:39:59.141967",
     "exception": false,
     "start_time": "2022-12-16T06:39:59.132678",
     "status": "completed"
    },
    "tags": []
   },
   "outputs": [],
   "source": [
    "# TODO"
   ]
  },
  {
   "cell_type": "markdown",
   "id": "a7d185bf",
   "metadata": {
    "papermill": {
     "duration": 0.004046,
     "end_time": "2022-12-16T06:39:59.150318",
     "exception": false,
     "start_time": "2022-12-16T06:39:59.146272",
     "status": "completed"
    },
    "tags": []
   },
   "source": [
    "### Plot predicted probabilities for each classifier over all evaluation digit images"
   ]
  },
  {
   "cell_type": "code",
   "execution_count": 12,
   "id": "443b0119",
   "metadata": {
    "execution": {
     "iopub.execute_input": "2022-12-16T06:39:59.159753Z",
     "iopub.status.busy": "2022-12-16T06:39:59.159171Z",
     "iopub.status.idle": "2022-12-16T06:40:01.979755Z",
     "shell.execute_reply": "2022-12-16T06:40:01.979177Z"
    },
    "papermill": {
     "duration": 2.827211,
     "end_time": "2022-12-16T06:40:01.981573",
     "exception": false,
     "start_time": "2022-12-16T06:39:59.154362",
     "status": "completed"
    },
    "tags": []
   },
   "outputs": [
    {
     "data": {
      "image/png": "[encoded data removed]",
      "text/plain": [
       "<Figure size 1600x600 with 10 Axes>"
      ]
     },
     "metadata": {},
     "output_type": "display_data"
    }
   ],
   "source": [
    "def plot_per_digit_probabilities(y_pred_probs):\n",
    "    fig, axs = plt.subplots(nrows=2, ncols=5, figsize=(16, 6))\n",
    "\n",
    "    for (r, c), digit, ax in zip(\n",
    "        it.product(range(2), range(5)), range(10), axs.reshape(-1)\n",
    "    ):\n",
    "        ax.hist(y_pred_probs_test[:, digit], bins=20)\n",
    "\n",
    "        ax.set_title(f\"Digit {digit}\")\n",
    "        if r == 1 and c == 2:\n",
    "            ax.set_xlabel(\"probability\", fontsize=16)\n",
    "\n",
    "        if c == 0:\n",
    "            ax.set_ylabel(\"counts\", fontsize=16)\n",
    "        ax.set_yscale(\"log\")\n",
    "\n",
    "    fig.tight_layout()\n",
    "    fig.suptitle(\n",
    "        f\"Distributions of prediction probabilities for each digit \"\n",
    "        f\"(on evaluation data, n={y_pred_probs.shape[0]})\",\n",
    "        fontsize=20,\n",
    "    )\n",
    "    fig.tight_layout()\n",
    "    fig.show()\n",
    "\n",
    "    return fig\n",
    "\n",
    "\n",
    "fig = plot_per_digit_probabilities(y_pred_probs_test)"
   ]
  },
  {
   "cell_type": "markdown",
   "id": "51bac400",
   "metadata": {
    "papermill": {
     "duration": 0.004845,
     "end_time": "2022-12-16T06:40:01.992197",
     "exception": false,
     "start_time": "2022-12-16T06:40:01.987352",
     "status": "completed"
    },
    "tags": []
   },
   "source": [
    "From the above distributions we see that most digits have clear separation between\n",
    "high and lower probabilities. Morover, in each case there is roughly an order of\n",
    "magnitude more of digits with low probabilities. This is compatible with digits\n",
    "being roughly evenly distributed in the data."
   ]
  },
  {
   "cell_type": "code",
   "execution_count": 13,
   "id": "585bc39f",
   "metadata": {
    "execution": {
     "iopub.execute_input": "2022-12-16T06:40:02.004003Z",
     "iopub.status.busy": "2022-12-16T06:40:02.002955Z",
     "iopub.status.idle": "2022-12-16T06:40:02.419112Z",
     "shell.execute_reply": "2022-12-16T06:40:02.418390Z"
    },
    "papermill": {
     "duration": 0.423414,
     "end_time": "2022-12-16T06:40:02.420767",
     "exception": false,
     "start_time": "2022-12-16T06:40:01.997353",
     "status": "completed"
    },
    "tags": []
   },
   "outputs": [],
   "source": [
    "logger.log_figure(\"per-digit-probabilities.png\", fig)"
   ]
  },
  {
   "cell_type": "markdown",
   "id": "e9c4c210",
   "metadata": {
    "papermill": {
     "duration": 0.00498,
     "end_time": "2022-12-16T06:40:02.431087",
     "exception": false,
     "start_time": "2022-12-16T06:40:02.426107",
     "status": "completed"
    },
    "tags": []
   },
   "source": [
    "### Plot ROC curves for individual one-vs-rest classifiers"
   ]
  },
  {
   "cell_type": "code",
   "execution_count": 14,
   "id": "3b3d4146",
   "metadata": {
    "execution": {
     "iopub.execute_input": "2022-12-16T06:40:02.442859Z",
     "iopub.status.busy": "2022-12-16T06:40:02.442367Z",
     "iopub.status.idle": "2022-12-16T06:40:02.794351Z",
     "shell.execute_reply": "2022-12-16T06:40:02.793691Z"
    },
    "papermill": {
     "duration": 0.360014,
     "end_time": "2022-12-16T06:40:02.796173",
     "exception": false,
     "start_time": "2022-12-16T06:40:02.436159",
     "status": "completed"
    },
    "tags": []
   },
   "outputs": [],
   "source": [
    "from sklearn import metrics"
   ]
  },
  {
   "cell_type": "code",
   "execution_count": 15,
   "id": "53e6828f",
   "metadata": {
    "execution": {
     "iopub.execute_input": "2022-12-16T06:40:02.808283Z",
     "iopub.status.busy": "2022-12-16T06:40:02.808028Z",
     "iopub.status.idle": "2022-12-16T06:40:03.836347Z",
     "shell.execute_reply": "2022-12-16T06:40:03.835587Z"
    },
    "papermill": {
     "duration": 1.036709,
     "end_time": "2022-12-16T06:40:03.838088",
     "exception": false,
     "start_time": "2022-12-16T06:40:02.801379",
     "status": "completed"
    },
    "tags": []
   },
   "outputs": [
    {
     "data": {
      "image/png": "[encoded data removed]",
      "text/plain": [
       "<Figure size 1600x800 with 10 Axes>"
      ]
     },
     "metadata": {},
     "output_type": "display_data"
    }
   ],
   "source": [
    "def plot_roc_curves(y, y_pred_probs):\n",
    "    # based on example code\n",
    "    # https://scikit-learn.org/stable/auto_examples/model_selection/plot_roc.html\n",
    "\n",
    "    fig, axs = plt.subplots(nrows=2, ncols=5, figsize=(16, 8))\n",
    "\n",
    "    roc_auc_dict = {}\n",
    "\n",
    "    for (r, c), digit, ax in zip(\n",
    "        it.product(range(2), range(5)), range(10), axs.reshape(-1)\n",
    "    ):\n",
    "        fpr, tpr, _ = metrics.roc_curve(y == digit, y_pred_probs[:, digit])\n",
    "        auc = metrics.auc(fpr, tpr)\n",
    "        roc_auc_dict[str(digit)] = auc\n",
    "\n",
    "        ax.plot(fpr, tpr, label=f\"ROC AUC={round(auc, 3)}\")\n",
    "\n",
    "        ax.set_title(f\"\\nDigit {digit}\", fontsize=16)\n",
    "        if r == 1:\n",
    "            ax.set_xlabel(\"FPR\", fontsize=18)\n",
    "\n",
    "        if c == 0:\n",
    "            ax.set_ylabel(\"TPR\", fontsize=18)\n",
    "\n",
    "        ax.set_xlim([-0.05, 1.05])\n",
    "        ax.set_ylim([-0.05, 1.05])\n",
    "        ax.legend(loc=\"lower right\", frameon=False, fontsize=14)\n",
    "\n",
    "    fig.tight_layout()\n",
    "    fig.suptitle(\n",
    "        f\"ROC plots for one-vs-rest performances \"\n",
    "        f\"(on evaluation data, n={y_pred_probs_test.shape[1]}\",\n",
    "        fontsize=22,\n",
    "    )\n",
    "    fig.tight_layout()\n",
    "    fig.show()\n",
    "\n",
    "    return roc_auc_dict, fig\n",
    "\n",
    "\n",
    "roc_auc_dict, fig = plot_roc_curves(y_test, y_pred_probs_test)"
   ]
  },
  {
   "cell_type": "code",
   "execution_count": 16,
   "id": "4d0d871f",
   "metadata": {
    "execution": {
     "iopub.execute_input": "2022-12-16T06:40:03.852169Z",
     "iopub.status.busy": "2022-12-16T06:40:03.851621Z",
     "iopub.status.idle": "2022-12-16T06:40:04.097861Z",
     "shell.execute_reply": "2022-12-16T06:40:04.096463Z"
    },
    "papermill": {
     "duration": 0.260215,
     "end_time": "2022-12-16T06:40:04.104590",
     "exception": false,
     "start_time": "2022-12-16T06:40:03.844375",
     "status": "completed"
    },
    "tags": []
   },
   "outputs": [],
   "source": [
    "logger.log_figure(\"per-digit-roc-curves.png\", fig)"
   ]
  },
  {
   "cell_type": "code",
   "execution_count": 17,
   "id": "48e92039",
   "metadata": {
    "execution": {
     "iopub.execute_input": "2022-12-16T06:40:04.118187Z",
     "iopub.status.busy": "2022-12-16T06:40:04.117940Z",
     "iopub.status.idle": "2022-12-16T06:40:04.122324Z",
     "shell.execute_reply": "2022-12-16T06:40:04.121841Z"
    },
    "papermill": {
     "duration": 0.013229,
     "end_time": "2022-12-16T06:40:04.123883",
     "exception": false,
     "start_time": "2022-12-16T06:40:04.110654",
     "status": "completed"
    },
    "tags": []
   },
   "outputs": [
    {
     "data": {
      "text/plain": [
       "{'0': 1.0,\n",
       " '1': 0.9988003748828491,\n",
       " '2': 1.0,\n",
       " '3': 0.9998125585754452,\n",
       " '4': 0.9995427526291724,\n",
       " '5': 0.9991752577319588,\n",
       " '6': 0.999961896052431,\n",
       " '7': 0.9998856881572931,\n",
       " '8': 0.9933007566204287,\n",
       " '9': 0.9994665447340344}"
      ]
     },
     "execution_count": 17,
     "metadata": {},
     "output_type": "execute_result"
    }
   ],
   "source": [
    "roc_auc_dict"
   ]
  },
  {
   "cell_type": "code",
   "execution_count": 18,
   "id": "a71d2e36",
   "metadata": {
    "execution": {
     "iopub.execute_input": "2022-12-16T06:40:04.137430Z",
     "iopub.status.busy": "2022-12-16T06:40:04.137212Z",
     "iopub.status.idle": "2022-12-16T06:40:04.141098Z",
     "shell.execute_reply": "2022-12-16T06:40:04.140430Z"
    },
    "papermill": {
     "duration": 0.015962,
     "end_time": "2022-12-16T06:40:04.146173",
     "exception": false,
     "start_time": "2022-12-16T06:40:04.130211",
     "status": "completed"
    },
    "tags": []
   },
   "outputs": [
    {
     "name": "stdout",
     "output_type": "stream",
     "text": [
      " - Logging roc_auc_per_digit (json) : {'0': 1.0, '1': 0.9988003748828491, '2': 1.0, '3': 0.9998125585754452, '4': 0.9995427526291724, '5': 0.9991752577319588, '6': 0.999961896052431, '7': 0.9998856881572931, '8': 0.9933007566204287, '9': 0.9994665447340344}\n"
     ]
    }
   ],
   "source": [
    "logger.log_value(\"roc_auc_per_digit\", roc_auc_dict)"
   ]
  },
  {
   "cell_type": "markdown",
   "id": "ae522f74",
   "metadata": {
    "papermill": {
     "duration": 0.012993,
     "end_time": "2022-12-16T06:40:04.166196",
     "exception": false,
     "start_time": "2022-12-16T06:40:04.153203",
     "status": "completed"
    },
    "tags": []
   },
   "source": [
    "### Compute and log mean ROC AUC score averaged over all digits"
   ]
  },
  {
   "cell_type": "code",
   "execution_count": 19,
   "id": "d9bb01e2",
   "metadata": {
    "execution": {
     "iopub.execute_input": "2022-12-16T06:40:04.182157Z",
     "iopub.status.busy": "2022-12-16T06:40:04.181824Z",
     "iopub.status.idle": "2022-12-16T06:40:04.196721Z",
     "shell.execute_reply": "2022-12-16T06:40:04.196215Z"
    },
    "papermill": {
     "duration": 0.025479,
     "end_time": "2022-12-16T06:40:04.198181",
     "exception": false,
     "start_time": "2022-12-16T06:40:04.172702",
     "status": "completed"
    },
    "tags": []
   },
   "outputs": [
    {
     "name": "stdout",
     "output_type": "stream",
     "text": [
      " - Logging roc_auc_class_mean (float) : 0.9989945829383611\n"
     ]
    }
   ],
   "source": [
    "roc_auc_macro = np.mean(list(roc_auc_dict.values()))\n",
    "\n",
    "logger.log_float(\"roc_auc_class_mean\", roc_auc_macro)\n",
    "\n",
    "# assert that the same value can be computed directly using sklearn\n",
    "assert roc_auc_macro == metrics.roc_auc_score(\n",
    "    y_test, y_pred_probs_test, average=\"macro\", multi_class=\"ovr\"\n",
    ")"
   ]
  },
  {
   "cell_type": "code",
   "execution_count": 20,
   "id": "efb50d00",
   "metadata": {
    "execution": {
     "iopub.execute_input": "2022-12-16T06:40:04.212320Z",
     "iopub.status.busy": "2022-12-16T06:40:04.212007Z",
     "iopub.status.idle": "2022-12-16T06:40:04.215266Z",
     "shell.execute_reply": "2022-12-16T06:40:04.214356Z"
    },
    "lines_to_next_cell": 0,
    "papermill": {
     "duration": 0.016777,
     "end_time": "2022-12-16T06:40:04.221718",
     "exception": false,
     "start_time": "2022-12-16T06:40:04.204941",
     "status": "completed"
    },
    "tags": []
   },
   "outputs": [],
   "source": [
    "# ---"
   ]
  },
  {
   "cell_type": "code",
   "execution_count": null,
   "id": "e2fa5b18",
   "metadata": {
    "papermill": {
     "duration": 0.007575,
     "end_time": "2022-12-16T06:40:04.235799",
     "exception": false,
     "start_time": "2022-12-16T06:40:04.228224",
     "status": "completed"
    },
    "tags": []
   },
   "outputs": [],
   "source": []
  }
 ],
 "metadata": {
  "jupytext": {
   "cell_metadata_filter": "tags,-all",
   "main_language": "python",
   "notebook_metadata_filter": "-all"
  },
  "language_info": {
   "codemirror_mode": {
    "name": "ipython",
    "version": 3
   },
   "file_extension": ".py",
   "mimetype": "text/x-python",
   "name": "python",
   "nbconvert_exporter": "python",
   "pygments_lexer": "ipython3",
   "version": "3.8.10"
  },
  "papermill": {
   "default_parameters": {},
   "duration": 8.651277,
   "end_time": "2022-12-16T06:40:05.261087",
   "environment_variables": {},
   "exception": null,
   "input_path": "/home/host_user/workspace/mnist-demo-pipeline/mnist-demo-pipeline/notebooks/temp-notebook-tct8nz1d.ipynb",
   "output_path": "notebooks/benchmark-model.ipynb",
   "parameters": {
    "P": {
     "_opentelemetry_traceparent": "00-2c7c60ef416f61cec4fdb89ff37718a6-1dcc7457a8da7b9d-01",
     "pipeline.data_lake_root": "/pipeline-outputs/data-lake",
     "pipeline.github.actor": "matiasdahl",
     "pipeline.github.base_ref": "",
     "pipeline.github.event_name": "schedule",
     "pipeline.github.head_ref": "",
     "pipeline.github.job": "run-tests-pipeline-and-persist-pipeline-outputs",
     "pipeline.github.ref": "refs/heads/development",
     "pipeline.github.ref_name": "development",
     "pipeline.github.ref_type": "branch",
     "pipeline.github.repository": "matiasdahl/dev-mnist-digits-demo-pipeline",
     "pipeline.github.run_id": "3710884777",
     "pipeline.github.runner_name": "Hosted Agent",
     "pipeline.github.sha": "ace0d01011d5e914f1921450dd5a59c11367b38d",
     "pipeline.github.workflow": "Run automated tests, pipeline and deploy results to static reporting site",
     "pipeline.pipeline_run_id": "2caa8dce-5051-4596-a5f0-de5241f6a484",
     "pipeline.run_environment": "ci",
     "run.retry_nr": "0",
     "task.max_nr_retries": "1",
     "task.notebook": "notebooks/benchmark-model.py",
     "task.nr_train_images": 800,
     "task.num_cpus": 1,
     "task.timeout_s": "None"
    }
   },
   "start_time": "2022-12-16T06:39:56.609810",
   "version": "2.3.3"
  }
 },
 "nbformat": 4,
 "nbformat_minor": 5
}