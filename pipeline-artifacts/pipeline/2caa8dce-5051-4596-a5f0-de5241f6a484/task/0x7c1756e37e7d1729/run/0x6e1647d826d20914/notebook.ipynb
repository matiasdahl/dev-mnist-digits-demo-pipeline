{
 "cells": [
  {
   "cell_type": "markdown",
   "id": "46e9675d",
   "metadata": {
    "papermill": {
     "duration": 0.003779,
     "end_time": "2022-12-16T06:40:17.753020",
     "exception": false,
     "start_time": "2022-12-16T06:40:17.749241",
     "status": "completed"
    },
    "tags": []
   },
   "source": [
    "# Summarize model performances\n",
    "\n",
    "This notebooks plots the performances (using averaged ROC AUC scores) for models\n",
    "trained with different training sets."
   ]
  },
  {
   "cell_type": "markdown",
   "id": "45af552e",
   "metadata": {
    "papermill": {
     "duration": 0.002466,
     "end_time": "2022-12-16T06:40:17.758429",
     "exception": false,
     "start_time": "2022-12-16T06:40:17.755963",
     "status": "completed"
    },
    "tags": []
   },
   "source": [
    "### Determine run parameters"
   ]
  },
  {
   "cell_type": "code",
   "execution_count": 1,
   "id": "40486ca6",
   "metadata": {
    "execution": {
     "iopub.execute_input": "2022-12-16T06:40:17.765105Z",
     "iopub.status.busy": "2022-12-16T06:40:17.764481Z",
     "iopub.status.idle": "2022-12-16T06:40:17.771157Z",
     "shell.execute_reply": "2022-12-16T06:40:17.770556Z"
    },
    "lines_to_next_cell": 0,
    "papermill": {
     "duration": 0.011816,
     "end_time": "2022-12-16T06:40:17.772583",
     "exception": false,
     "start_time": "2022-12-16T06:40:17.760767",
     "status": "completed"
    },
    "tags": []
   },
   "outputs": [],
   "source": [
    "# ----------------- Parameters for interactive development --------------\n",
    "P = {\n",
    "    \"pipeline.run_environment\": \"dev\",\n",
    "}"
   ]
  },
  {
   "cell_type": "code",
   "execution_count": 2,
   "id": "7165a424",
   "metadata": {
    "execution": {
     "iopub.execute_input": "2022-12-16T06:40:17.778670Z",
     "iopub.status.busy": "2022-12-16T06:40:17.778290Z",
     "iopub.status.idle": "2022-12-16T06:40:17.780994Z",
     "shell.execute_reply": "2022-12-16T06:40:17.780461Z"
    },
    "lines_to_next_cell": 0,
    "papermill": {
     "duration": 0.007166,
     "end_time": "2022-12-16T06:40:17.782279",
     "exception": false,
     "start_time": "2022-12-16T06:40:17.775113",
     "status": "completed"
    },
    "tags": [
     "parameters"
    ]
   },
   "outputs": [],
   "source": [
    "# - During automated runs parameters will be injected in the below cell -"
   ]
  },
  {
   "cell_type": "code",
   "execution_count": 3,
   "id": "391e4def",
   "metadata": {
    "execution": {
     "iopub.execute_input": "2022-12-16T06:40:17.788551Z",
     "iopub.status.busy": "2022-12-16T06:40:17.788138Z",
     "iopub.status.idle": "2022-12-16T06:40:17.792522Z",
     "shell.execute_reply": "2022-12-16T06:40:17.791949Z"
    },
    "papermill": {
     "duration": 0.009407,
     "end_time": "2022-12-16T06:40:17.794185",
     "exception": false,
     "start_time": "2022-12-16T06:40:17.784778",
     "status": "completed"
    },
    "tags": [
     "injected-parameters"
    ]
   },
   "outputs": [],
   "source": [
    "# Parameters\n",
    "P = {\n",
    "    \"pipeline.data_lake_root\": \"/pipeline-outputs/data-lake\",\n",
    "    \"pipeline.run_environment\": \"ci\",\n",
    "    \"pipeline.pipeline_run_id\": \"2caa8dce-5051-4596-a5f0-de5241f6a484\",\n",
    "    \"pipeline.github.repository\": \"matiasdahl/dev-mnist-digits-demo-pipeline\",\n",
    "    \"pipeline.github.workflow\": \"Run automated tests, pipeline and deploy results to static reporting site\",\n",
    "    \"pipeline.github.runner_name\": \"Hosted Agent\",\n",
    "    \"pipeline.github.run_id\": \"3710884777\",\n",
    "    \"pipeline.github.actor\": \"matiasdahl\",\n",
    "    \"pipeline.github.job\": \"run-tests-pipeline-and-persist-pipeline-outputs\",\n",
    "    \"pipeline.github.base_ref\": \"\",\n",
    "    \"pipeline.github.head_ref\": \"\",\n",
    "    \"pipeline.github.sha\": \"ace0d01011d5e914f1921450dd5a59c11367b38d\",\n",
    "    \"pipeline.github.ref\": \"refs/heads/development\",\n",
    "    \"pipeline.github.ref_type\": \"branch\",\n",
    "    \"pipeline.github.ref_name\": \"development\",\n",
    "    \"pipeline.github.event_name\": \"schedule\",\n",
    "    \"task.notebook\": \"notebooks/summary.py\",\n",
    "    \"task.max_nr_retries\": \"1\",\n",
    "    \"run.retry_nr\": \"0\",\n",
    "    \"task.timeout_s\": \"None\",\n",
    "    \"task.num_cpus\": 1,\n",
    "    \"_opentelemetry_traceparent\": \"00-2c7c60ef416f61cec4fdb89ff37718a6-bc1d54564a169b58-01\",\n",
    "}\n"
   ]
  },
  {
   "cell_type": "code",
   "execution_count": 4,
   "id": "7f00b604",
   "metadata": {
    "execution": {
     "iopub.execute_input": "2022-12-16T06:40:17.800284Z",
     "iopub.status.busy": "2022-12-16T06:40:17.800071Z",
     "iopub.status.idle": "2022-12-16T06:40:17.802589Z",
     "shell.execute_reply": "2022-12-16T06:40:17.802043Z"
    },
    "lines_to_next_cell": 0,
    "papermill": {
     "duration": 0.007592,
     "end_time": "2022-12-16T06:40:17.804212",
     "exception": false,
     "start_time": "2022-12-16T06:40:17.796620",
     "status": "completed"
    },
    "tags": []
   },
   "outputs": [],
   "source": [
    "# -----------------------------------------------------------------------"
   ]
  },
  {
   "cell_type": "markdown",
   "id": "cc441d2e",
   "metadata": {
    "papermill": {
     "duration": 0.0023,
     "end_time": "2022-12-16T06:40:17.808955",
     "exception": false,
     "start_time": "2022-12-16T06:40:17.806655",
     "status": "completed"
    },
    "tags": []
   },
   "source": [
    "---"
   ]
  },
  {
   "cell_type": "markdown",
   "id": "fa40fddd",
   "metadata": {
    "lines_to_next_cell": 2,
    "papermill": {
     "duration": 0.002513,
     "end_time": "2022-12-16T06:40:17.813937",
     "exception": false,
     "start_time": "2022-12-16T06:40:17.811424",
     "status": "completed"
    },
    "tags": []
   },
   "source": [
    "### Notebook code"
   ]
  },
  {
   "cell_type": "code",
   "execution_count": 5,
   "id": "6520cbda",
   "metadata": {
    "execution": {
     "iopub.execute_input": "2022-12-16T06:40:17.821215Z",
     "iopub.status.busy": "2022-12-16T06:40:17.820819Z",
     "iopub.status.idle": "2022-12-16T06:40:18.879156Z",
     "shell.execute_reply": "2022-12-16T06:40:18.878530Z"
    },
    "papermill": {
     "duration": 1.063141,
     "end_time": "2022-12-16T06:40:18.880837",
     "exception": false,
     "start_time": "2022-12-16T06:40:17.817696",
     "status": "completed"
    },
    "tags": []
   },
   "outputs": [],
   "source": [
    "#\n",
    "import pandas as pd\n",
    "import matplotlib.pyplot as plt\n",
    "\n",
    "#\n",
    "from pynb_dag_runner.tasks.task_opentelemetry_logging import PydarLogger"
   ]
  },
  {
   "cell_type": "code",
   "execution_count": 6,
   "id": "c531a3f2",
   "metadata": {
    "execution": {
     "iopub.execute_input": "2022-12-16T06:40:18.888140Z",
     "iopub.status.busy": "2022-12-16T06:40:18.887636Z",
     "iopub.status.idle": "2022-12-16T06:40:19.037554Z",
     "shell.execute_reply": "2022-12-16T06:40:19.036685Z"
    },
    "papermill": {
     "duration": 0.157894,
     "end_time": "2022-12-16T06:40:19.041531",
     "exception": false,
     "start_time": "2022-12-16T06:40:18.883637",
     "status": "completed"
    },
    "tags": []
   },
   "outputs": [
    {
     "name": "stderr",
     "output_type": "stream",
     "text": [
      "2022-12-16 06:40:18,891\tINFO worker.py:842 -- Connecting to existing Ray cluster at address: 172.17.0.2:6379\n"
     ]
    }
   ],
   "source": [
    "logger = PydarLogger(P=P)"
   ]
  },
  {
   "cell_type": "code",
   "execution_count": 7,
   "id": "3d2656b0",
   "metadata": {
    "execution": {
     "iopub.execute_input": "2022-12-16T06:40:19.048750Z",
     "iopub.status.busy": "2022-12-16T06:40:19.048509Z",
     "iopub.status.idle": "2022-12-16T06:40:19.051833Z",
     "shell.execute_reply": "2022-12-16T06:40:19.051197Z"
    },
    "papermill": {
     "duration": 0.008834,
     "end_time": "2022-12-16T06:40:19.053513",
     "exception": false,
     "start_time": "2022-12-16T06:40:19.044679",
     "status": "completed"
    },
    "tags": []
   },
   "outputs": [],
   "source": [
    "from pynb_dag_runner.tasks.task_opentelemetry_logging import (\n",
    "    PydarLogger,\n",
    "    get_logged_values,\n",
    ")\n",
    "from pynb_dag_runner.opentelemetry_helpers import _get_all_spans, Spans"
   ]
  },
  {
   "cell_type": "code",
   "execution_count": 8,
   "id": "57d0e1ce",
   "metadata": {
    "execution": {
     "iopub.execute_input": "2022-12-16T06:40:19.060754Z",
     "iopub.status.busy": "2022-12-16T06:40:19.060153Z",
     "iopub.status.idle": "2022-12-16T06:40:19.066875Z",
     "shell.execute_reply": "2022-12-16T06:40:19.066201Z"
    },
    "papermill": {
     "duration": 0.012585,
     "end_time": "2022-12-16T06:40:19.068848",
     "exception": false,
     "start_time": "2022-12-16T06:40:19.056263",
     "status": "completed"
    },
    "tags": []
   },
   "outputs": [],
   "source": [
    "def get_model_benchmarks():\n",
    "    \"\"\"\n",
    "    Query the OpenTelemetry logs for *this pipeline run* and return\n",
    "    all key-values logged from all runs of the benchmark-model.py task\n",
    "\n",
    "    For testing a json file with OpenTelemetry spans (as an array)\n",
    "    can be used as follows:\n",
    "\n",
    "    - Create output directory `mkdir /tmp/spans`\n",
    "    - Run unit tests. This will create pipeline-outputs/opentelemetry-spans.json\n",
    "    - Convert this json-array into jsonl format as follows\n",
    "\n",
    "    jq -c '.[]' /pipeline-outputs/opentelemetry-spans.json > /tmp/spans/data.txt\n",
    "\n",
    "    \"\"\"\n",
    "    spans: Spans = Spans(_get_all_spans())\n",
    "    print(f\"Found {len(spans)} spans\")\n",
    "\n",
    "    benchmark_spans = (\n",
    "        spans\n",
    "        # -\n",
    "        .filter([\"name\"], \"execute-task\")\n",
    "        # -\n",
    "        .filter([\"attributes\", \"task.notebook\"], \"notebooks/benchmark-model.py\")\n",
    "    )\n",
    "\n",
    "    result = []\n",
    "    for s in benchmark_spans:\n",
    "        result.append(\n",
    "            {\n",
    "                \"span_id\": s[\"context\"][\"span_id\"],\n",
    "                \"nr_train_images\": s[\"attributes\"][\"task.nr_train_images\"],\n",
    "                \"data\": get_logged_values(spans.bound_under(s)),\n",
    "            }\n",
    "        )\n",
    "\n",
    "    return result\n",
    "\n",
    "\n",
    "def adjust_pandas(df):\n",
    "    def column_renamer(col_name: str) -> str:\n",
    "        return (\n",
    "            col_name\n",
    "            # -- 'data.roc_auc_per_digit.4' -> 'roc_auc.4'\n",
    "            .replace(\"data.roc_auc_per_digit\", \"roc_auc\")\n",
    "            # -- 'data.roc_auc_class_mean' -> 'roc_auc_mean'\n",
    "            .replace(\"data.roc_auc_class_mean\", \"roc_auc_mean\")\n",
    "        )\n",
    "\n",
    "    return df.rename(column_renamer, axis=\"columns\").sort_values(by=\"nr_train_images\")"
   ]
  },
  {
   "cell_type": "code",
   "execution_count": 9,
   "id": "18a911c4",
   "metadata": {
    "execution": {
     "iopub.execute_input": "2022-12-16T06:40:19.075563Z",
     "iopub.status.busy": "2022-12-16T06:40:19.075343Z",
     "iopub.status.idle": "2022-12-16T06:40:19.113793Z",
     "shell.execute_reply": "2022-12-16T06:40:19.113116Z"
    },
    "papermill": {
     "duration": 0.043516,
     "end_time": "2022-12-16T06:40:19.115426",
     "exception": false,
     "start_time": "2022-12-16T06:40:19.071910",
     "status": "completed"
    },
    "tags": []
   },
   "outputs": [
    {
     "name": "stdout",
     "output_type": "stream",
     "text": [
      "Found 423 spans\n"
     ]
    }
   ],
   "source": [
    "df_data = adjust_pandas(pd.json_normalize(get_model_benchmarks()))"
   ]
  },
  {
   "cell_type": "code",
   "execution_count": 10,
   "id": "910177ec",
   "metadata": {
    "execution": {
     "iopub.execute_input": "2022-12-16T06:40:19.122890Z",
     "iopub.status.busy": "2022-12-16T06:40:19.122326Z",
     "iopub.status.idle": "2022-12-16T06:40:19.146785Z",
     "shell.execute_reply": "2022-12-16T06:40:19.146167Z"
    },
    "papermill": {
     "duration": 0.030486,
     "end_time": "2022-12-16T06:40:19.149189",
     "exception": false,
     "start_time": "2022-12-16T06:40:19.118703",
     "status": "completed"
    },
    "tags": []
   },
   "outputs": [
    {
     "data": {
      "text/html": [
       "<div>\n",
       "<style scoped>\n",
       "    .dataframe tbody tr th:only-of-type {\n",
       "        vertical-align: middle;\n",
       "    }\n",
       "\n",
       "    .dataframe tbody tr th {\n",
       "        vertical-align: top;\n",
       "    }\n",
       "\n",
       "    .dataframe thead th {\n",
       "        text-align: right;\n",
       "    }\n",
       "</style>\n",
       "<table border=\"1\" class=\"dataframe\">\n",
       "  <thead>\n",
       "    <tr style=\"text-align: right;\">\n",
       "      <th></th>\n",
       "      <th>span_id</th>\n",
       "      <th>nr_train_images</th>\n",
       "      <th>roc_auc_mean</th>\n",
       "      <th>roc_auc.0</th>\n",
       "      <th>roc_auc.1</th>\n",
       "      <th>roc_auc.2</th>\n",
       "      <th>roc_auc.3</th>\n",
       "      <th>roc_auc.4</th>\n",
       "      <th>roc_auc.5</th>\n",
       "      <th>roc_auc.6</th>\n",
       "      <th>roc_auc.7</th>\n",
       "      <th>roc_auc.8</th>\n",
       "      <th>roc_auc.9</th>\n",
       "    </tr>\n",
       "  </thead>\n",
       "  <tbody>\n",
       "    <tr>\n",
       "      <th>0</th>\n",
       "      <td>0x3069563e1af586f4</td>\n",
       "      <td>600</td>\n",
       "      <td>0.9990</td>\n",
       "      <td>1.0</td>\n",
       "      <td>0.9993</td>\n",
       "      <td>1.0</td>\n",
       "      <td>0.9997</td>\n",
       "      <td>0.9990</td>\n",
       "      <td>0.9989</td>\n",
       "      <td>0.9999</td>\n",
       "      <td>0.9998</td>\n",
       "      <td>0.9944</td>\n",
       "      <td>0.9989</td>\n",
       "    </tr>\n",
       "    <tr>\n",
       "      <th>1</th>\n",
       "      <td>0x0aed1c1d52c2a026</td>\n",
       "      <td>800</td>\n",
       "      <td>0.9990</td>\n",
       "      <td>1.0</td>\n",
       "      <td>0.9988</td>\n",
       "      <td>1.0</td>\n",
       "      <td>0.9998</td>\n",
       "      <td>0.9995</td>\n",
       "      <td>0.9992</td>\n",
       "      <td>1.0000</td>\n",
       "      <td>0.9999</td>\n",
       "      <td>0.9933</td>\n",
       "      <td>0.9995</td>\n",
       "    </tr>\n",
       "    <tr>\n",
       "      <th>3</th>\n",
       "      <td>0x5d3d8d20c15f8a49</td>\n",
       "      <td>1000</td>\n",
       "      <td>0.9992</td>\n",
       "      <td>1.0</td>\n",
       "      <td>0.9990</td>\n",
       "      <td>1.0</td>\n",
       "      <td>0.9999</td>\n",
       "      <td>0.9996</td>\n",
       "      <td>0.9994</td>\n",
       "      <td>0.9999</td>\n",
       "      <td>0.9998</td>\n",
       "      <td>0.9953</td>\n",
       "      <td>0.9996</td>\n",
       "    </tr>\n",
       "    <tr>\n",
       "      <th>2</th>\n",
       "      <td>0xa9e2e89fe7e88118</td>\n",
       "      <td>1200</td>\n",
       "      <td>0.9994</td>\n",
       "      <td>1.0</td>\n",
       "      <td>0.9990</td>\n",
       "      <td>1.0</td>\n",
       "      <td>0.9999</td>\n",
       "      <td>0.9998</td>\n",
       "      <td>0.9997</td>\n",
       "      <td>0.9999</td>\n",
       "      <td>0.9998</td>\n",
       "      <td>0.9957</td>\n",
       "      <td>0.9998</td>\n",
       "    </tr>\n",
       "  </tbody>\n",
       "</table>\n",
       "</div>"
      ],
      "text/plain": [
       "              span_id  nr_train_images  roc_auc_mean  roc_auc.0  roc_auc.1  \\\n",
       "0  0x3069563e1af586f4              600        0.9990        1.0     0.9993   \n",
       "1  0x0aed1c1d52c2a026              800        0.9990        1.0     0.9988   \n",
       "3  0x5d3d8d20c15f8a49             1000        0.9992        1.0     0.9990   \n",
       "2  0xa9e2e89fe7e88118             1200        0.9994        1.0     0.9990   \n",
       "\n",
       "   roc_auc.2  roc_auc.3  roc_auc.4  roc_auc.5  roc_auc.6  roc_auc.7  \\\n",
       "0        1.0     0.9997     0.9990     0.9989     0.9999     0.9998   \n",
       "1        1.0     0.9998     0.9995     0.9992     1.0000     0.9999   \n",
       "3        1.0     0.9999     0.9996     0.9994     0.9999     0.9998   \n",
       "2        1.0     0.9999     0.9998     0.9997     0.9999     0.9998   \n",
       "\n",
       "   roc_auc.8  roc_auc.9  \n",
       "0     0.9944     0.9989  \n",
       "1     0.9933     0.9995  \n",
       "3     0.9953     0.9996  \n",
       "2     0.9957     0.9998  "
      ]
     },
     "execution_count": 10,
     "metadata": {},
     "output_type": "execute_result"
    }
   ],
   "source": [
    "df_data.round(4)"
   ]
  },
  {
   "cell_type": "code",
   "execution_count": 11,
   "id": "447cf0d0",
   "metadata": {
    "execution": {
     "iopub.execute_input": "2022-12-16T06:40:19.158056Z",
     "iopub.status.busy": "2022-12-16T06:40:19.157328Z",
     "iopub.status.idle": "2022-12-16T06:40:19.328933Z",
     "shell.execute_reply": "2022-12-16T06:40:19.328369Z"
    },
    "papermill": {
     "duration": 0.178369,
     "end_time": "2022-12-16T06:40:19.331248",
     "exception": false,
     "start_time": "2022-12-16T06:40:19.152879",
     "status": "completed"
    },
    "tags": []
   },
   "outputs": [
    {
     "data": {
      "image/png": "[encoded data removed]",
      "text/plain": [
       "<Figure size 1600x400 with 1 Axes>"
      ]
     },
     "metadata": {},
     "output_type": "display_data"
    }
   ],
   "source": [
    "def plot_classifier_performance_summary(df_data):\n",
    "    fig, ax = plt.subplots(nrows=1, ncols=1, figsize=(16, 4), sharex=True)\n",
    "\n",
    "    #\n",
    "    ax.plot(\n",
    "        df_data[\"nr_train_images\"], df_data[\"roc_auc_mean\"], marker=\"o\", linestyle=\"--\"\n",
    "    )\n",
    "    ax.set_title(\n",
    "        f\"ROC AUC digit classifier performance on evaluation digits\", fontsize=17\n",
    "    )\n",
    "    ax.set_xlabel(\"Total number of digits in training set\", fontsize=14)\n",
    "    ax.set_ylabel(\"Mean ROC AUC\", fontsize=14)\n",
    "\n",
    "    fig.tight_layout()\n",
    "    fig.show()\n",
    "\n",
    "    return fig\n",
    "\n",
    "\n",
    "fig = plot_classifier_performance_summary(df_data)"
   ]
  },
  {
   "cell_type": "code",
   "execution_count": 12,
   "id": "84e29a3f",
   "metadata": {
    "execution": {
     "iopub.execute_input": "2022-12-16T06:40:19.340513Z",
     "iopub.status.busy": "2022-12-16T06:40:19.340281Z",
     "iopub.status.idle": "2022-12-16T06:40:19.417332Z",
     "shell.execute_reply": "2022-12-16T06:40:19.416681Z"
    },
    "papermill": {
     "duration": 0.083675,
     "end_time": "2022-12-16T06:40:19.419156",
     "exception": false,
     "start_time": "2022-12-16T06:40:19.335481",
     "status": "completed"
    },
    "tags": []
   },
   "outputs": [],
   "source": [
    "logger.log_figure(\"auc-roc-model-performances.png\", fig)"
   ]
  },
  {
   "cell_type": "code",
   "execution_count": 13,
   "id": "2e3e0b31",
   "metadata": {
    "execution": {
     "iopub.execute_input": "2022-12-16T06:40:19.429219Z",
     "iopub.status.busy": "2022-12-16T06:40:19.428701Z",
     "iopub.status.idle": "2022-12-16T06:40:19.431852Z",
     "shell.execute_reply": "2022-12-16T06:40:19.431384Z"
    },
    "papermill": {
     "duration": 0.009775,
     "end_time": "2022-12-16T06:40:19.433502",
     "exception": false,
     "start_time": "2022-12-16T06:40:19.423727",
     "status": "completed"
    },
    "tags": []
   },
   "outputs": [],
   "source": [
    "###"
   ]
  },
  {
   "cell_type": "code",
   "execution_count": null,
   "id": "de1caa4a",
   "metadata": {
    "papermill": {
     "duration": 0.003905,
     "end_time": "2022-12-16T06:40:19.441670",
     "exception": false,
     "start_time": "2022-12-16T06:40:19.437765",
     "status": "completed"
    },
    "tags": []
   },
   "outputs": [],
   "source": []
  }
 ],
 "metadata": {
  "jupytext": {
   "cell_metadata_filter": "tags,-all",
   "main_language": "python",
   "notebook_metadata_filter": "-all"
  },
  "language_info": {
   "codemirror_mode": {
    "name": "ipython",
    "version": 3
   },
   "file_extension": ".py",
   "mimetype": "text/x-python",
   "name": "python",
   "nbconvert_exporter": "python",
   "pygments_lexer": "ipython3",
   "version": "3.8.10"
  },
  "papermill": {
   "default_parameters": {},
   "duration": 3.752793,
   "end_time": "2022-12-16T06:40:20.365675",
   "environment_variables": {},
   "exception": null,
   "input_path": "/home/host_user/workspace/mnist-demo-pipeline/mnist-demo-pipeline/notebooks/temp-notebook-t3rqplej.ipynb",
   "output_path": "notebooks/summary.ipynb",
   "parameters": {
    "P": {
     "_opentelemetry_traceparent": "00-2c7c60ef416f61cec4fdb89ff37718a6-bc1d54564a169b58-01",
     "pipeline.data_lake_root": "/pipeline-outputs/data-lake",
     "pipeline.github.actor": "matiasdahl",
     "pipeline.github.base_ref": "",
     "pipeline.github.event_name": "schedule",
     "pipeline.github.head_ref": "",
     "pipeline.github.job": "run-tests-pipeline-and-persist-pipeline-outputs",
     "pipeline.github.ref": "refs/heads/development",
     "pipeline.github.ref_name": "development",
     "pipeline.github.ref_type": "branch",
     "pipeline.github.repository": "matiasdahl/dev-mnist-digits-demo-pipeline",
     "pipeline.github.run_id": "3710884777",
     "pipeline.github.runner_name": "Hosted Agent",
     "pipeline.github.sha": "ace0d01011d5e914f1921450dd5a59c11367b38d",
     "pipeline.github.workflow": "Run automated tests, pipeline and deploy results to static reporting site",
     "pipeline.pipeline_run_id": "2caa8dce-5051-4596-a5f0-de5241f6a484",
     "pipeline.run_environment": "ci",
     "run.retry_nr": "0",
     "task.max_nr_retries": "1",
     "task.notebook": "notebooks/summary.py",
     "task.num_cpus": 1,
     "task.timeout_s": "None"
    }
   },
   "start_time": "2022-12-16T06:40:16.612882",
   "version": "2.3.3"
  }
 },
 "nbformat": 4,
 "nbformat_minor": 5
}