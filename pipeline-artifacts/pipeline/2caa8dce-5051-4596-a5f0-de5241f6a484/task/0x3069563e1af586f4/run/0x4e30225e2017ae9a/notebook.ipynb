{
 "cells": [
  {
   "cell_type": "markdown",
   "id": "ad26989d",
   "metadata": {
    "papermill": {
     "duration": 0.006768,
     "end_time": "2022-12-16T06:39:52.069154",
     "exception": false,
     "start_time": "2022-12-16T06:39:52.062386",
     "status": "completed"
    },
    "tags": []
   },
   "source": [
    "# Benchmark model\n",
    "\n",
    "The purpose of this notebook is to benchmark persisted onnx-model (trained in the\n",
    "previous step) against evaluation set."
   ]
  },
  {
   "cell_type": "markdown",
   "id": "11de766d",
   "metadata": {
    "papermill": {
     "duration": 0.005716,
     "end_time": "2022-12-16T06:39:52.080487",
     "exception": false,
     "start_time": "2022-12-16T06:39:52.074771",
     "status": "completed"
    },
    "tags": []
   },
   "source": [
    "### Determine run parameters"
   ]
  },
  {
   "cell_type": "code",
   "execution_count": 1,
   "id": "332200c3",
   "metadata": {
    "execution": {
     "iopub.execute_input": "2022-12-16T06:39:52.090322Z",
     "iopub.status.busy": "2022-12-16T06:39:52.089439Z",
     "iopub.status.idle": "2022-12-16T06:39:52.100728Z",
     "shell.execute_reply": "2022-12-16T06:39:52.095825Z"
    },
    "lines_to_next_cell": 0,
    "papermill": {
     "duration": 0.020001,
     "end_time": "2022-12-16T06:39:52.104288",
     "exception": false,
     "start_time": "2022-12-16T06:39:52.084287",
     "status": "completed"
    },
    "tags": []
   },
   "outputs": [],
   "source": [
    "# ----------------- Parameters for interactive development --------------\n",
    "P = {\n",
    "    \"pipeline.data_lake_root\": \"/pipeline-outputs/data-lake\",\n",
    "    \"task.nr_train_images\": 600,\n",
    "}"
   ]
  },
  {
   "cell_type": "code",
   "execution_count": 2,
   "id": "c48e766a",
   "metadata": {
    "execution": {
     "iopub.execute_input": "2022-12-16T06:39:52.115702Z",
     "iopub.status.busy": "2022-12-16T06:39:52.115485Z",
     "iopub.status.idle": "2022-12-16T06:39:52.118317Z",
     "shell.execute_reply": "2022-12-16T06:39:52.117595Z"
    },
    "lines_to_next_cell": 0,
    "papermill": {
     "duration": 0.009361,
     "end_time": "2022-12-16T06:39:52.120403",
     "exception": false,
     "start_time": "2022-12-16T06:39:52.111042",
     "status": "completed"
    },
    "tags": [
     "parameters"
    ]
   },
   "outputs": [],
   "source": [
    "# - During automated runs parameters will be injected in the below cell -"
   ]
  },
  {
   "cell_type": "code",
   "execution_count": 3,
   "id": "0078ce15",
   "metadata": {
    "execution": {
     "iopub.execute_input": "2022-12-16T06:39:52.129408Z",
     "iopub.status.busy": "2022-12-16T06:39:52.129206Z",
     "iopub.status.idle": "2022-12-16T06:39:52.133325Z",
     "shell.execute_reply": "2022-12-16T06:39:52.132845Z"
    },
    "papermill": {
     "duration": 0.011278,
     "end_time": "2022-12-16T06:39:52.135656",
     "exception": false,
     "start_time": "2022-12-16T06:39:52.124378",
     "status": "completed"
    },
    "tags": [
     "injected-parameters"
    ]
   },
   "outputs": [],
   "source": [
    "# Parameters\n",
    "P = {\n",
    "    \"pipeline.data_lake_root\": \"/pipeline-outputs/data-lake\",\n",
    "    \"pipeline.run_environment\": \"ci\",\n",
    "    \"pipeline.pipeline_run_id\": \"2caa8dce-5051-4596-a5f0-de5241f6a484\",\n",
    "    \"pipeline.github.repository\": \"matiasdahl/dev-mnist-digits-demo-pipeline\",\n",
    "    \"pipeline.github.workflow\": \"Run automated tests, pipeline and deploy results to static reporting site\",\n",
    "    \"pipeline.github.runner_name\": \"Hosted Agent\",\n",
    "    \"pipeline.github.run_id\": \"3710884777\",\n",
    "    \"pipeline.github.actor\": \"matiasdahl\",\n",
    "    \"pipeline.github.job\": \"run-tests-pipeline-and-persist-pipeline-outputs\",\n",
    "    \"pipeline.github.base_ref\": \"\",\n",
    "    \"pipeline.github.head_ref\": \"\",\n",
    "    \"pipeline.github.sha\": \"ace0d01011d5e914f1921450dd5a59c11367b38d\",\n",
    "    \"pipeline.github.ref\": \"refs/heads/development\",\n",
    "    \"pipeline.github.ref_type\": \"branch\",\n",
    "    \"pipeline.github.ref_name\": \"development\",\n",
    "    \"pipeline.github.event_name\": \"schedule\",\n",
    "    \"task.nr_train_images\": 600,\n",
    "    \"task.notebook\": \"notebooks/benchmark-model.py\",\n",
    "    \"task.max_nr_retries\": \"1\",\n",
    "    \"run.retry_nr\": \"0\",\n",
    "    \"task.timeout_s\": \"None\",\n",
    "    \"task.num_cpus\": 1,\n",
    "    \"_opentelemetry_traceparent\": \"00-2c7c60ef416f61cec4fdb89ff37718a6-bad1a061bc4e0093-01\",\n",
    "}\n"
   ]
  },
  {
   "cell_type": "code",
   "execution_count": 4,
   "id": "a44337bf",
   "metadata": {
    "execution": {
     "iopub.execute_input": "2022-12-16T06:39:52.144265Z",
     "iopub.status.busy": "2022-12-16T06:39:52.144057Z",
     "iopub.status.idle": "2022-12-16T06:39:52.146762Z",
     "shell.execute_reply": "2022-12-16T06:39:52.146280Z"
    },
    "lines_to_next_cell": 0,
    "papermill": {
     "duration": 0.009707,
     "end_time": "2022-12-16T06:39:52.149308",
     "exception": false,
     "start_time": "2022-12-16T06:39:52.139601",
     "status": "completed"
    },
    "tags": []
   },
   "outputs": [],
   "source": [
    "# -----------------------------------------------------------------------"
   ]
  },
  {
   "cell_type": "markdown",
   "id": "800dfba7",
   "metadata": {
    "papermill": {
     "duration": 0.0039,
     "end_time": "2022-12-16T06:39:52.157080",
     "exception": false,
     "start_time": "2022-12-16T06:39:52.153180",
     "status": "completed"
    },
    "tags": []
   },
   "source": [
    "---"
   ]
  },
  {
   "cell_type": "markdown",
   "id": "71d42b9b",
   "metadata": {
    "lines_to_next_cell": 2,
    "papermill": {
     "duration": 0.003725,
     "end_time": "2022-12-16T06:39:52.164787",
     "exception": false,
     "start_time": "2022-12-16T06:39:52.161062",
     "status": "completed"
    },
    "tags": []
   },
   "source": [
    "### Notebook code"
   ]
  },
  {
   "cell_type": "code",
   "execution_count": 5,
   "id": "fc979afe",
   "metadata": {
    "execution": {
     "iopub.execute_input": "2022-12-16T06:39:52.173764Z",
     "iopub.status.busy": "2022-12-16T06:39:52.173552Z",
     "iopub.status.idle": "2022-12-16T06:39:53.289465Z",
     "shell.execute_reply": "2022-12-16T06:39:53.288575Z"
    },
    "papermill": {
     "duration": 1.122426,
     "end_time": "2022-12-16T06:39:53.291344",
     "exception": false,
     "start_time": "2022-12-16T06:39:52.168918",
     "status": "completed"
    },
    "tags": []
   },
   "outputs": [
    {
     "name": "stderr",
     "output_type": "stream",
     "text": [
      "2022-12-16 06:39:53,088\tINFO worker.py:842 -- Connecting to existing Ray cluster at address: 172.17.0.2:6379\n"
     ]
    }
   ],
   "source": [
    "import itertools as it\n",
    "\n",
    "#\n",
    "import numpy as np\n",
    "import matplotlib.pyplot as plt\n",
    "\n",
    "#\n",
    "from pynb_dag_runner.tasks.task_opentelemetry_logging import PydarLogger\n",
    "\n",
    "#\n",
    "from common.io import datalake_root\n",
    "\n",
    "logger = PydarLogger(P)"
   ]
  },
  {
   "cell_type": "markdown",
   "id": "dfe1c720",
   "metadata": {
    "papermill": {
     "duration": 0.00411,
     "end_time": "2022-12-16T06:39:53.300841",
     "exception": false,
     "start_time": "2022-12-16T06:39:53.296731",
     "status": "completed"
    },
    "tags": []
   },
   "source": [
    "## Load persisted onnx-model and evaluation data"
   ]
  },
  {
   "cell_type": "code",
   "execution_count": 6,
   "id": "d3be2da1",
   "metadata": {
    "execution": {
     "iopub.execute_input": "2022-12-16T06:39:53.310904Z",
     "iopub.status.busy": "2022-12-16T06:39:53.310526Z",
     "iopub.status.idle": "2022-12-16T06:39:53.314018Z",
     "shell.execute_reply": "2022-12-16T06:39:53.313348Z"
    },
    "papermill": {
     "duration": 0.010674,
     "end_time": "2022-12-16T06:39:53.315629",
     "exception": false,
     "start_time": "2022-12-16T06:39:53.304955",
     "status": "completed"
    },
    "tags": []
   },
   "outputs": [],
   "source": [
    "from common.io import read_onnx, get_onnx_inputs, get_onnx_outputs, read_numpy"
   ]
  },
  {
   "cell_type": "code",
   "execution_count": 7,
   "id": "ae20cd01",
   "metadata": {
    "execution": {
     "iopub.execute_input": "2022-12-16T06:39:53.325996Z",
     "iopub.status.busy": "2022-12-16T06:39:53.325380Z",
     "iopub.status.idle": "2022-12-16T06:39:53.335124Z",
     "shell.execute_reply": "2022-12-16T06:39:53.334453Z"
    },
    "lines_to_next_cell": 0,
    "papermill": {
     "duration": 0.016358,
     "end_time": "2022-12-16T06:39:53.336744",
     "exception": false,
     "start_time": "2022-12-16T06:39:53.320386",
     "status": "completed"
    },
    "tags": []
   },
   "outputs": [],
   "source": [
    "onnx_inference_session = read_onnx(\n",
    "    datalake_root(P)\n",
    "    / \"models\"\n",
    "    / f\"nr_train_images={P['task.nr_train_images']}\"\n",
    "    / \"model.onnx\"\n",
    ")"
   ]
  },
  {
   "cell_type": "markdown",
   "id": "bea7ea44",
   "metadata": {
    "papermill": {
     "duration": 0.004099,
     "end_time": "2022-12-16T06:39:53.345499",
     "exception": false,
     "start_time": "2022-12-16T06:39:53.341400",
     "status": "completed"
    },
    "tags": []
   },
   "source": [
    "### Record structure of inputs and outputs for ONNX model\n",
    "\n",
    "(this should likely be done in training notebook)"
   ]
  },
  {
   "cell_type": "code",
   "execution_count": 8,
   "id": "319f4f07",
   "metadata": {
    "execution": {
     "iopub.execute_input": "2022-12-16T06:39:53.355866Z",
     "iopub.status.busy": "2022-12-16T06:39:53.355181Z",
     "iopub.status.idle": "2022-12-16T06:39:53.360889Z",
     "shell.execute_reply": "2022-12-16T06:39:53.360281Z"
    },
    "papermill": {
     "duration": 0.013153,
     "end_time": "2022-12-16T06:39:53.363446",
     "exception": false,
     "start_time": "2022-12-16T06:39:53.350293",
     "status": "completed"
    },
    "tags": []
   },
   "outputs": [
    {
     "name": "stdout",
     "output_type": "stream",
     "text": [
      "{\n",
      "  \"inputs\": [\n",
      "    {\n",
      "      \"name\": \"float_input_8x8_image\",\n",
      "      \"shape\": [\n",
      "        null,\n",
      "        64\n",
      "      ],\n",
      "      \"type\": \"tensor(float)\"\n",
      "    }\n",
      "  ],\n",
      "  \"outputs\": [\n",
      "    {\n",
      "      \"name\": \"output_label\",\n",
      "      \"shape\": [\n",
      "        null\n",
      "      ],\n",
      "      \"type\": \"tensor(int64)\"\n",
      "    },\n",
      "    {\n",
      "      \"name\": \"output_probability\",\n",
      "      \"shape\": [],\n",
      "      \"type\": \"seq(map(int64,tensor(float)))\"\n",
      "    }\n",
      "  ]\n",
      "}\n"
     ]
    }
   ],
   "source": [
    "import json\n",
    "\n",
    "onnx_io = json.dumps(\n",
    "    {\n",
    "        \"inputs\": get_onnx_inputs(onnx_inference_session),\n",
    "        \"outputs\": get_onnx_outputs(onnx_inference_session),\n",
    "    },\n",
    "    indent=2,\n",
    ")\n",
    "\n",
    "\n",
    "logger.log_artefact(\"onnx_io_structure.json\", onnx_io)\n",
    "print(onnx_io)"
   ]
  },
  {
   "cell_type": "markdown",
   "id": "2882aef1",
   "metadata": {
    "papermill": {
     "duration": 0.004247,
     "end_time": "2022-12-16T06:39:53.372052",
     "exception": false,
     "start_time": "2022-12-16T06:39:53.367805",
     "status": "completed"
    },
    "tags": []
   },
   "source": [
    "### Evaluate model performance on evaluation data set"
   ]
  },
  {
   "cell_type": "code",
   "execution_count": 9,
   "id": "6e59ecb8",
   "metadata": {
    "execution": {
     "iopub.execute_input": "2022-12-16T06:39:53.381747Z",
     "iopub.status.busy": "2022-12-16T06:39:53.381397Z",
     "iopub.status.idle": "2022-12-16T06:39:53.385847Z",
     "shell.execute_reply": "2022-12-16T06:39:53.385210Z"
    },
    "papermill": {
     "duration": 0.01101,
     "end_time": "2022-12-16T06:39:53.387576",
     "exception": false,
     "start_time": "2022-12-16T06:39:53.376566",
     "status": "completed"
    },
    "tags": []
   },
   "outputs": [],
   "source": [
    "# load evaluation data\n",
    "X_test = read_numpy(datalake_root(P) / \"test-data\" / \"digits.numpy\")\n",
    "y_test = read_numpy(datalake_root(P) / \"test-data\" / \"labels.numpy\")"
   ]
  },
  {
   "cell_type": "code",
   "execution_count": 10,
   "id": "69a79ba6",
   "metadata": {
    "execution": {
     "iopub.execute_input": "2022-12-16T06:39:53.397209Z",
     "iopub.status.busy": "2022-12-16T06:39:53.396915Z",
     "iopub.status.idle": "2022-12-16T06:39:53.409673Z",
     "shell.execute_reply": "2022-12-16T06:39:53.408960Z"
    },
    "papermill": {
     "duration": 0.019537,
     "end_time": "2022-12-16T06:39:53.411327",
     "exception": false,
     "start_time": "2022-12-16T06:39:53.391790",
     "status": "completed"
    },
    "tags": []
   },
   "outputs": [],
   "source": [
    "def get_model_outputs(X, onnx_inference_session):\n",
    "    y_pred_labels, y_pred_map = onnx_inference_session.run(\n",
    "        [\"output_label\", \"output_probability\"],\n",
    "        {\"float_input_8x8_image\": X.astype(np.float32)},\n",
    "    )\n",
    "    y_pred_probs = np.array(\n",
    "        [[probabilities[digit] for digit in range(10)] for probabilities in y_pred_map]\n",
    "    )\n",
    "\n",
    "    assert y_pred_labels.shape == (X.shape[0],)\n",
    "    assert y_pred_probs.shape == (X.shape[0], 10)\n",
    "\n",
    "    return y_pred_labels, y_pred_probs\n",
    "\n",
    "\n",
    "# Note: as shown in the training notebook, the predicted labels and probabilities\n",
    "# computed below need not be compatible.\n",
    "y_pred_labels_test, y_pred_probs_test = get_model_outputs(\n",
    "    X_test, onnx_inference_session\n",
    ")"
   ]
  },
  {
   "cell_type": "markdown",
   "id": "e2d2b58f",
   "metadata": {
    "papermill": {
     "duration": 0.004164,
     "end_time": "2022-12-16T06:39:53.420286",
     "exception": false,
     "start_time": "2022-12-16T06:39:53.416122",
     "status": "completed"
    },
    "tags": []
   },
   "source": [
    "### Confusion matrix"
   ]
  },
  {
   "cell_type": "code",
   "execution_count": 11,
   "id": "aeefd8dd",
   "metadata": {
    "execution": {
     "iopub.execute_input": "2022-12-16T06:39:53.430200Z",
     "iopub.status.busy": "2022-12-16T06:39:53.429785Z",
     "iopub.status.idle": "2022-12-16T06:39:53.432779Z",
     "shell.execute_reply": "2022-12-16T06:39:53.432161Z"
    },
    "papermill": {
     "duration": 0.012323,
     "end_time": "2022-12-16T06:39:53.436909",
     "exception": false,
     "start_time": "2022-12-16T06:39:53.424586",
     "status": "completed"
    },
    "tags": []
   },
   "outputs": [],
   "source": [
    "# TODO"
   ]
  },
  {
   "cell_type": "markdown",
   "id": "64c68658",
   "metadata": {
    "papermill": {
     "duration": 0.004743,
     "end_time": "2022-12-16T06:39:53.447113",
     "exception": false,
     "start_time": "2022-12-16T06:39:53.442370",
     "status": "completed"
    },
    "tags": []
   },
   "source": [
    "### Plot predicted probabilities for each classifier over all evaluation digit images"
   ]
  },
  {
   "cell_type": "code",
   "execution_count": 12,
   "id": "4b80c315",
   "metadata": {
    "execution": {
     "iopub.execute_input": "2022-12-16T06:39:53.456838Z",
     "iopub.status.busy": "2022-12-16T06:39:53.456527Z",
     "iopub.status.idle": "2022-12-16T06:39:56.616564Z",
     "shell.execute_reply": "2022-12-16T06:39:56.616034Z"
    },
    "papermill": {
     "duration": 3.167495,
     "end_time": "2022-12-16T06:39:56.618798",
     "exception": false,
     "start_time": "2022-12-16T06:39:53.451303",
     "status": "completed"
    },
    "tags": []
   },
   "outputs": [
    {
     "data": {
      "image/png": "[encoded data removed]",
      "text/plain": [
       "<Figure size 1600x600 with 10 Axes>"
      ]
     },
     "metadata": {},
     "output_type": "display_data"
    }
   ],
   "source": [
    "def plot_per_digit_probabilities(y_pred_probs):\n",
    "    fig, axs = plt.subplots(nrows=2, ncols=5, figsize=(16, 6))\n",
    "\n",
    "    for (r, c), digit, ax in zip(\n",
    "        it.product(range(2), range(5)), range(10), axs.reshape(-1)\n",
    "    ):\n",
    "        ax.hist(y_pred_probs_test[:, digit], bins=20)\n",
    "\n",
    "        ax.set_title(f\"Digit {digit}\")\n",
    "        if r == 1 and c == 2:\n",
    "            ax.set_xlabel(\"probability\", fontsize=16)\n",
    "\n",
    "        if c == 0:\n",
    "            ax.set_ylabel(\"counts\", fontsize=16)\n",
    "        ax.set_yscale(\"log\")\n",
    "\n",
    "    fig.tight_layout()\n",
    "    fig.suptitle(\n",
    "        f\"Distributions of prediction probabilities for each digit \"\n",
    "        f\"(on evaluation data, n={y_pred_probs.shape[0]})\",\n",
    "        fontsize=20,\n",
    "    )\n",
    "    fig.tight_layout()\n",
    "    fig.show()\n",
    "\n",
    "    return fig\n",
    "\n",
    "\n",
    "fig = plot_per_digit_probabilities(y_pred_probs_test)"
   ]
  },
  {
   "cell_type": "markdown",
   "id": "1ab7eb37",
   "metadata": {
    "papermill": {
     "duration": 0.005204,
     "end_time": "2022-12-16T06:39:56.630179",
     "exception": false,
     "start_time": "2022-12-16T06:39:56.624975",
     "status": "completed"
    },
    "tags": []
   },
   "source": [
    "From the above distributions we see that most digits have clear separation between\n",
    "high and lower probabilities. Morover, in each case there is roughly an order of\n",
    "magnitude more of digits with low probabilities. This is compatible with digits\n",
    "being roughly evenly distributed in the data."
   ]
  },
  {
   "cell_type": "code",
   "execution_count": 13,
   "id": "49e81cf1",
   "metadata": {
    "execution": {
     "iopub.execute_input": "2022-12-16T06:39:56.642184Z",
     "iopub.status.busy": "2022-12-16T06:39:56.641816Z",
     "iopub.status.idle": "2022-12-16T06:39:57.086768Z",
     "shell.execute_reply": "2022-12-16T06:39:57.085934Z"
    },
    "papermill": {
     "duration": 0.453064,
     "end_time": "2022-12-16T06:39:57.088582",
     "exception": false,
     "start_time": "2022-12-16T06:39:56.635518",
     "status": "completed"
    },
    "tags": []
   },
   "outputs": [],
   "source": [
    "logger.log_figure(\"per-digit-probabilities.png\", fig)"
   ]
  },
  {
   "cell_type": "markdown",
   "id": "89a84111",
   "metadata": {
    "papermill": {
     "duration": 0.005724,
     "end_time": "2022-12-16T06:39:57.100095",
     "exception": false,
     "start_time": "2022-12-16T06:39:57.094371",
     "status": "completed"
    },
    "tags": []
   },
   "source": [
    "### Plot ROC curves for individual one-vs-rest classifiers"
   ]
  },
  {
   "cell_type": "code",
   "execution_count": 14,
   "id": "f3910bac",
   "metadata": {
    "execution": {
     "iopub.execute_input": "2022-12-16T06:39:57.111909Z",
     "iopub.status.busy": "2022-12-16T06:39:57.111642Z",
     "iopub.status.idle": "2022-12-16T06:39:57.421338Z",
     "shell.execute_reply": "2022-12-16T06:39:57.420750Z"
    },
    "papermill": {
     "duration": 0.317526,
     "end_time": "2022-12-16T06:39:57.423033",
     "exception": false,
     "start_time": "2022-12-16T06:39:57.105507",
     "status": "completed"
    },
    "tags": []
   },
   "outputs": [],
   "source": [
    "from sklearn import metrics"
   ]
  },
  {
   "cell_type": "code",
   "execution_count": 15,
   "id": "939b9928",
   "metadata": {
    "execution": {
     "iopub.execute_input": "2022-12-16T06:39:57.435665Z",
     "iopub.status.busy": "2022-12-16T06:39:57.435330Z",
     "iopub.status.idle": "2022-12-16T06:39:58.543568Z",
     "shell.execute_reply": "2022-12-16T06:39:58.543028Z"
    },
    "papermill": {
     "duration": 1.11828,
     "end_time": "2022-12-16T06:39:58.546831",
     "exception": false,
     "start_time": "2022-12-16T06:39:57.428551",
     "status": "completed"
    },
    "tags": []
   },
   "outputs": [
    {
     "data": {
      "image/png": "[encoded data removed]",
      "text/plain": [
       "<Figure size 1600x800 with 10 Axes>"
      ]
     },
     "metadata": {},
     "output_type": "display_data"
    }
   ],
   "source": [
    "def plot_roc_curves(y, y_pred_probs):\n",
    "    # based on example code\n",
    "    # https://scikit-learn.org/stable/auto_examples/model_selection/plot_roc.html\n",
    "\n",
    "    fig, axs = plt.subplots(nrows=2, ncols=5, figsize=(16, 8))\n",
    "\n",
    "    roc_auc_dict = {}\n",
    "\n",
    "    for (r, c), digit, ax in zip(\n",
    "        it.product(range(2), range(5)), range(10), axs.reshape(-1)\n",
    "    ):\n",
    "        fpr, tpr, _ = metrics.roc_curve(y == digit, y_pred_probs[:, digit])\n",
    "        auc = metrics.auc(fpr, tpr)\n",
    "        roc_auc_dict[str(digit)] = auc\n",
    "\n",
    "        ax.plot(fpr, tpr, label=f\"ROC AUC={round(auc, 3)}\")\n",
    "\n",
    "        ax.set_title(f\"\\nDigit {digit}\", fontsize=16)\n",
    "        if r == 1:\n",
    "            ax.set_xlabel(\"FPR\", fontsize=18)\n",
    "\n",
    "        if c == 0:\n",
    "            ax.set_ylabel(\"TPR\", fontsize=18)\n",
    "\n",
    "        ax.set_xlim([-0.05, 1.05])\n",
    "        ax.set_ylim([-0.05, 1.05])\n",
    "        ax.legend(loc=\"lower right\", frameon=False, fontsize=14)\n",
    "\n",
    "    fig.tight_layout()\n",
    "    fig.suptitle(\n",
    "        f\"ROC plots for one-vs-rest performances \"\n",
    "        f\"(on evaluation data, n={y_pred_probs_test.shape[1]}\",\n",
    "        fontsize=22,\n",
    "    )\n",
    "    fig.tight_layout()\n",
    "    fig.show()\n",
    "\n",
    "    return roc_auc_dict, fig\n",
    "\n",
    "\n",
    "roc_auc_dict, fig = plot_roc_curves(y_test, y_pred_probs_test)"
   ]
  },
  {
   "cell_type": "code",
   "execution_count": 16,
   "id": "41c31836",
   "metadata": {
    "execution": {
     "iopub.execute_input": "2022-12-16T06:39:58.560665Z",
     "iopub.status.busy": "2022-12-16T06:39:58.560419Z",
     "iopub.status.idle": "2022-12-16T06:39:58.809742Z",
     "shell.execute_reply": "2022-12-16T06:39:58.809078Z"
    },
    "papermill": {
     "duration": 0.258336,
     "end_time": "2022-12-16T06:39:58.811458",
     "exception": false,
     "start_time": "2022-12-16T06:39:58.553122",
     "status": "completed"
    },
    "tags": []
   },
   "outputs": [],
   "source": [
    "logger.log_figure(\"per-digit-roc-curves.png\", fig)"
   ]
  },
  {
   "cell_type": "code",
   "execution_count": 17,
   "id": "d43085d4",
   "metadata": {
    "execution": {
     "iopub.execute_input": "2022-12-16T06:39:58.825654Z",
     "iopub.status.busy": "2022-12-16T06:39:58.825350Z",
     "iopub.status.idle": "2022-12-16T06:39:58.829841Z",
     "shell.execute_reply": "2022-12-16T06:39:58.829131Z"
    },
    "papermill": {
     "duration": 0.015795,
     "end_time": "2022-12-16T06:39:58.833389",
     "exception": false,
     "start_time": "2022-12-16T06:39:58.817594",
     "status": "completed"
    },
    "tags": []
   },
   "outputs": [
    {
     "data": {
      "text/plain": [
       "{'0': 1.0,\n",
       " '1': 0.9992502343017807,\n",
       " '2': 1.0,\n",
       " '3': 0.9997375820056232,\n",
       " '4': 0.9990092973632069,\n",
       " '5': 0.998912839737582,\n",
       " '6': 0.999923792104862,\n",
       " '7': 0.9998094802621551,\n",
       " '8': 0.9944041614123581,\n",
       " '9': 0.9989330894680689}"
      ]
     },
     "execution_count": 17,
     "metadata": {},
     "output_type": "execute_result"
    }
   ],
   "source": [
    "roc_auc_dict"
   ]
  },
  {
   "cell_type": "code",
   "execution_count": 18,
   "id": "50be58b2",
   "metadata": {
    "execution": {
     "iopub.execute_input": "2022-12-16T06:39:58.849599Z",
     "iopub.status.busy": "2022-12-16T06:39:58.849303Z",
     "iopub.status.idle": "2022-12-16T06:39:58.855774Z",
     "shell.execute_reply": "2022-12-16T06:39:58.855163Z"
    },
    "papermill": {
     "duration": 0.015332,
     "end_time": "2022-12-16T06:39:58.857686",
     "exception": false,
     "start_time": "2022-12-16T06:39:58.842354",
     "status": "completed"
    },
    "tags": []
   },
   "outputs": [
    {
     "name": "stdout",
     "output_type": "stream",
     "text": [
      " - Logging roc_auc_per_digit (json) : {'0': 1.0, '1': 0.9992502343017807, '2': 1.0, '3': 0.9997375820056232, '4': 0.9990092973632069, '5': 0.998912839737582, '6': 0.999923792104862, '7': 0.9998094802621551, '8': 0.9944041614123581, '9': 0.9989330894680689}\n"
     ]
    }
   ],
   "source": [
    "logger.log_value(\"roc_auc_per_digit\", roc_auc_dict)"
   ]
  },
  {
   "cell_type": "markdown",
   "id": "3d6f5816",
   "metadata": {
    "papermill": {
     "duration": 0.006921,
     "end_time": "2022-12-16T06:39:58.872196",
     "exception": false,
     "start_time": "2022-12-16T06:39:58.865275",
     "status": "completed"
    },
    "tags": []
   },
   "source": [
    "### Compute and log mean ROC AUC score averaged over all digits"
   ]
  },
  {
   "cell_type": "code",
   "execution_count": 19,
   "id": "6ce3cf67",
   "metadata": {
    "execution": {
     "iopub.execute_input": "2022-12-16T06:39:58.886137Z",
     "iopub.status.busy": "2022-12-16T06:39:58.885846Z",
     "iopub.status.idle": "2022-12-16T06:39:58.896307Z",
     "shell.execute_reply": "2022-12-16T06:39:58.895719Z"
    },
    "papermill": {
     "duration": 0.019566,
     "end_time": "2022-12-16T06:39:58.897993",
     "exception": false,
     "start_time": "2022-12-16T06:39:58.878427",
     "status": "completed"
    },
    "tags": []
   },
   "outputs": [
    {
     "name": "stdout",
     "output_type": "stream",
     "text": [
      " - Logging roc_auc_class_mean (float) : 0.9989980476655639\n"
     ]
    }
   ],
   "source": [
    "roc_auc_macro = np.mean(list(roc_auc_dict.values()))\n",
    "\n",
    "logger.log_float(\"roc_auc_class_mean\", roc_auc_macro)\n",
    "\n",
    "# assert that the same value can be computed directly using sklearn\n",
    "assert roc_auc_macro == metrics.roc_auc_score(\n",
    "    y_test, y_pred_probs_test, average=\"macro\", multi_class=\"ovr\"\n",
    ")"
   ]
  },
  {
   "cell_type": "code",
   "execution_count": 20,
   "id": "e494b06b",
   "metadata": {
    "execution": {
     "iopub.execute_input": "2022-12-16T06:39:58.912716Z",
     "iopub.status.busy": "2022-12-16T06:39:58.912343Z",
     "iopub.status.idle": "2022-12-16T06:39:58.915164Z",
     "shell.execute_reply": "2022-12-16T06:39:58.914591Z"
    },
    "lines_to_next_cell": 0,
    "papermill": {
     "duration": 0.012483,
     "end_time": "2022-12-16T06:39:58.917203",
     "exception": false,
     "start_time": "2022-12-16T06:39:58.904720",
     "status": "completed"
    },
    "tags": []
   },
   "outputs": [],
   "source": [
    "# ---"
   ]
  },
  {
   "cell_type": "code",
   "execution_count": null,
   "id": "73d569a5",
   "metadata": {
    "papermill": {
     "duration": 0.006852,
     "end_time": "2022-12-16T06:39:58.930720",
     "exception": false,
     "start_time": "2022-12-16T06:39:58.923868",
     "status": "completed"
    },
    "tags": []
   },
   "outputs": [],
   "source": []
  }
 ],
 "metadata": {
  "jupytext": {
   "cell_metadata_filter": "tags,-all",
   "main_language": "python",
   "notebook_metadata_filter": "-all"
  },
  "language_info": {
   "codemirror_mode": {
    "name": "ipython",
    "version": 3
   },
   "file_extension": ".py",
   "mimetype": "text/x-python",
   "name": "python",
   "nbconvert_exporter": "python",
   "pygments_lexer": "ipython3",
   "version": "3.8.10"
  },
  "papermill": {
   "default_parameters": {},
   "duration": 9.209409,
   "end_time": "2022-12-16T06:40:00.056355",
   "environment_variables": {},
   "exception": null,
   "input_path": "/home/host_user/workspace/mnist-demo-pipeline/mnist-demo-pipeline/notebooks/temp-notebook-059toc75.ipynb",
   "output_path": "notebooks/benchmark-model.ipynb",
   "parameters": {
    "P": {
     "_opentelemetry_traceparent": "00-2c7c60ef416f61cec4fdb89ff37718a6-bad1a061bc4e0093-01",
     "pipeline.data_lake_root": "/pipeline-outputs/data-lake",
     "pipeline.github.actor": "matiasdahl",
     "pipeline.github.base_ref": "",
     "pipeline.github.event_name": "schedule",
     "pipeline.github.head_ref": "",
     "pipeline.github.job": "run-tests-pipeline-and-persist-pipeline-outputs",
     "pipeline.github.ref": "refs/heads/development",
     "pipeline.github.ref_name": "development",
     "pipeline.github.ref_type": "branch",
     "pipeline.github.repository": "matiasdahl/dev-mnist-digits-demo-pipeline",
     "pipeline.github.run_id": "3710884777",
     "pipeline.github.runner_name": "Hosted Agent",
     "pipeline.github.sha": "ace0d01011d5e914f1921450dd5a59c11367b38d",
     "pipeline.github.workflow": "Run automated tests, pipeline and deploy results to static reporting site",
     "pipeline.pipeline_run_id": "2caa8dce-5051-4596-a5f0-de5241f6a484",
     "pipeline.run_environment": "ci",
     "run.retry_nr": "0",
     "task.max_nr_retries": "1",
     "task.notebook": "notebooks/benchmark-model.py",
     "task.nr_train_images": 600,
     "task.num_cpus": 1,
     "task.timeout_s": "None"
    }
   },
   "start_time": "2022-12-16T06:39:50.846946",
   "version": "2.3.3"
  }
 },
 "nbformat": 4,
 "nbformat_minor": 5
}