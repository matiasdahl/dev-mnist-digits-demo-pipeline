{
 "cells": [
  {
   "cell_type": "markdown",
   "id": "9116a3a8",
   "metadata": {
    "papermill": {
     "duration": 0.006199,
     "end_time": "2022-12-14T06:43:06.037323",
     "exception": false,
     "start_time": "2022-12-14T06:43:06.031124",
     "status": "completed"
    },
    "tags": []
   },
   "source": [
    "# Benchmark model\n",
    "\n",
    "The purpose of this notebook is to benchmark persisted onnx-model (trained in the\n",
    "previous step) against evaluation set."
   ]
  },
  {
   "cell_type": "markdown",
   "id": "c18e21e7",
   "metadata": {
    "papermill": {
     "duration": 0.00632,
     "end_time": "2022-12-14T06:43:06.047731",
     "exception": false,
     "start_time": "2022-12-14T06:43:06.041411",
     "status": "completed"
    },
    "tags": []
   },
   "source": [
    "### Determine run parameters"
   ]
  },
  {
   "cell_type": "code",
   "execution_count": 1,
   "id": "57b2b512",
   "metadata": {
    "execution": {
     "iopub.execute_input": "2022-12-14T06:43:06.058408Z",
     "iopub.status.busy": "2022-12-14T06:43:06.058092Z",
     "iopub.status.idle": "2022-12-14T06:43:06.067856Z",
     "shell.execute_reply": "2022-12-14T06:43:06.067325Z"
    },
    "lines_to_next_cell": 0,
    "papermill": {
     "duration": 0.024218,
     "end_time": "2022-12-14T06:43:06.075965",
     "exception": false,
     "start_time": "2022-12-14T06:43:06.051747",
     "status": "completed"
    },
    "tags": []
   },
   "outputs": [],
   "source": [
    "# ----------------- Parameters for interactive development --------------\n",
    "P = {\n",
    "    \"pipeline.data_lake_root\": \"/pipeline-outputs/data-lake\",\n",
    "    \"task.nr_train_images\": 600,\n",
    "}"
   ]
  },
  {
   "cell_type": "code",
   "execution_count": 2,
   "id": "7869a45a",
   "metadata": {
    "execution": {
     "iopub.execute_input": "2022-12-14T06:43:06.098571Z",
     "iopub.status.busy": "2022-12-14T06:43:06.098267Z",
     "iopub.status.idle": "2022-12-14T06:43:06.101725Z",
     "shell.execute_reply": "2022-12-14T06:43:06.101059Z"
    },
    "lines_to_next_cell": 0,
    "papermill": {
     "duration": 0.013905,
     "end_time": "2022-12-14T06:43:06.105559",
     "exception": false,
     "start_time": "2022-12-14T06:43:06.091654",
     "status": "completed"
    },
    "tags": [
     "parameters"
    ]
   },
   "outputs": [],
   "source": [
    "# - During automated runs parameters will be injected in the below cell -"
   ]
  },
  {
   "cell_type": "code",
   "execution_count": 3,
   "id": "c125d861",
   "metadata": {
    "execution": {
     "iopub.execute_input": "2022-12-14T06:43:06.117536Z",
     "iopub.status.busy": "2022-12-14T06:43:06.117250Z",
     "iopub.status.idle": "2022-12-14T06:43:06.122580Z",
     "shell.execute_reply": "2022-12-14T06:43:06.121853Z"
    },
    "papermill": {
     "duration": 0.015978,
     "end_time": "2022-12-14T06:43:06.126295",
     "exception": false,
     "start_time": "2022-12-14T06:43:06.110317",
     "status": "completed"
    },
    "tags": [
     "injected-parameters"
    ]
   },
   "outputs": [],
   "source": [
    "# Parameters\n",
    "P = {\n",
    "    \"pipeline.data_lake_root\": \"/pipeline-outputs/data-lake\",\n",
    "    \"pipeline.run_environment\": \"ci\",\n",
    "    \"pipeline.pipeline_run_id\": \"0159318e-b312-4e65-9488-32edd10b3b52\",\n",
    "    \"pipeline.github.repository\": \"matiasdahl/dev-mnist-digits-demo-pipeline\",\n",
    "    \"pipeline.github.workflow\": \"Run automated tests, pipeline and deploy results to static reporting site\",\n",
    "    \"pipeline.github.runner_name\": \"Hosted Agent\",\n",
    "    \"pipeline.github.run_id\": \"3692391613\",\n",
    "    \"pipeline.github.actor\": \"matiasdahl\",\n",
    "    \"pipeline.github.job\": \"run-tests-pipeline-and-persist-pipeline-outputs\",\n",
    "    \"pipeline.github.base_ref\": \"\",\n",
    "    \"pipeline.github.head_ref\": \"\",\n",
    "    \"pipeline.github.sha\": \"ace0d01011d5e914f1921450dd5a59c11367b38d\",\n",
    "    \"pipeline.github.ref\": \"refs/heads/development\",\n",
    "    \"pipeline.github.ref_type\": \"branch\",\n",
    "    \"pipeline.github.ref_name\": \"development\",\n",
    "    \"pipeline.github.event_name\": \"schedule\",\n",
    "    \"task.nr_train_images\": 600,\n",
    "    \"task.notebook\": \"notebooks/benchmark-model.py\",\n",
    "    \"task.max_nr_retries\": \"1\",\n",
    "    \"run.retry_nr\": \"0\",\n",
    "    \"task.timeout_s\": \"None\",\n",
    "    \"task.num_cpus\": 1,\n",
    "    \"_opentelemetry_traceparent\": \"00-c27396a3280c91e4c63f8fc39a45671a-8b6df488a9e1ead5-01\",\n",
    "}\n"
   ]
  },
  {
   "cell_type": "code",
   "execution_count": 4,
   "id": "0c16c764",
   "metadata": {
    "execution": {
     "iopub.execute_input": "2022-12-14T06:43:06.137687Z",
     "iopub.status.busy": "2022-12-14T06:43:06.137406Z",
     "iopub.status.idle": "2022-12-14T06:43:06.140835Z",
     "shell.execute_reply": "2022-12-14T06:43:06.140176Z"
    },
    "lines_to_next_cell": 0,
    "papermill": {
     "duration": 0.012554,
     "end_time": "2022-12-14T06:43:06.143684",
     "exception": false,
     "start_time": "2022-12-14T06:43:06.131130",
     "status": "completed"
    },
    "tags": []
   },
   "outputs": [],
   "source": [
    "# -----------------------------------------------------------------------"
   ]
  },
  {
   "cell_type": "markdown",
   "id": "79043ea0",
   "metadata": {
    "papermill": {
     "duration": 0.00449,
     "end_time": "2022-12-14T06:43:06.154104",
     "exception": false,
     "start_time": "2022-12-14T06:43:06.149614",
     "status": "completed"
    },
    "tags": []
   },
   "source": [
    "---"
   ]
  },
  {
   "cell_type": "markdown",
   "id": "7d6a2562",
   "metadata": {
    "lines_to_next_cell": 2,
    "papermill": {
     "duration": 0.004825,
     "end_time": "2022-12-14T06:43:06.163937",
     "exception": false,
     "start_time": "2022-12-14T06:43:06.159112",
     "status": "completed"
    },
    "tags": []
   },
   "source": [
    "### Notebook code"
   ]
  },
  {
   "cell_type": "code",
   "execution_count": 5,
   "id": "caba3aec",
   "metadata": {
    "execution": {
     "iopub.execute_input": "2022-12-14T06:43:06.174176Z",
     "iopub.status.busy": "2022-12-14T06:43:06.173899Z",
     "iopub.status.idle": "2022-12-14T06:43:07.867487Z",
     "shell.execute_reply": "2022-12-14T06:43:07.866680Z"
    },
    "papermill": {
     "duration": 1.700772,
     "end_time": "2022-12-14T06:43:07.869340",
     "exception": false,
     "start_time": "2022-12-14T06:43:06.168568",
     "status": "completed"
    },
    "tags": []
   },
   "outputs": [
    {
     "name": "stderr",
     "output_type": "stream",
     "text": [
      "2022-12-14 06:43:07,634\tINFO worker.py:842 -- Connecting to existing Ray cluster at address: 172.17.0.2:6379\n"
     ]
    }
   ],
   "source": [
    "import itertools as it\n",
    "\n",
    "#\n",
    "import numpy as np\n",
    "import matplotlib.pyplot as plt\n",
    "\n",
    "#\n",
    "from pynb_dag_runner.tasks.task_opentelemetry_logging import PydarLogger\n",
    "\n",
    "#\n",
    "from common.io import datalake_root\n",
    "\n",
    "logger = PydarLogger(P)"
   ]
  },
  {
   "cell_type": "markdown",
   "id": "42e7eb3e",
   "metadata": {
    "papermill": {
     "duration": 0.004791,
     "end_time": "2022-12-14T06:43:07.880210",
     "exception": false,
     "start_time": "2022-12-14T06:43:07.875419",
     "status": "completed"
    },
    "tags": []
   },
   "source": [
    "## Load persisted onnx-model and evaluation data"
   ]
  },
  {
   "cell_type": "code",
   "execution_count": 6,
   "id": "1c4c7e80",
   "metadata": {
    "execution": {
     "iopub.execute_input": "2022-12-14T06:43:07.891180Z",
     "iopub.status.busy": "2022-12-14T06:43:07.890674Z",
     "iopub.status.idle": "2022-12-14T06:43:07.895226Z",
     "shell.execute_reply": "2022-12-14T06:43:07.894343Z"
    },
    "papermill": {
     "duration": 0.012092,
     "end_time": "2022-12-14T06:43:07.897373",
     "exception": false,
     "start_time": "2022-12-14T06:43:07.885281",
     "status": "completed"
    },
    "tags": []
   },
   "outputs": [],
   "source": [
    "from common.io import read_onnx, get_onnx_inputs, get_onnx_outputs, read_numpy"
   ]
  },
  {
   "cell_type": "code",
   "execution_count": 7,
   "id": "ccb71666",
   "metadata": {
    "execution": {
     "iopub.execute_input": "2022-12-14T06:43:07.908621Z",
     "iopub.status.busy": "2022-12-14T06:43:07.908291Z",
     "iopub.status.idle": "2022-12-14T06:43:07.920297Z",
     "shell.execute_reply": "2022-12-14T06:43:07.919553Z"
    },
    "lines_to_next_cell": 0,
    "papermill": {
     "duration": 0.019059,
     "end_time": "2022-12-14T06:43:07.921951",
     "exception": false,
     "start_time": "2022-12-14T06:43:07.902892",
     "status": "completed"
    },
    "tags": []
   },
   "outputs": [],
   "source": [
    "onnx_inference_session = read_onnx(\n",
    "    datalake_root(P)\n",
    "    / \"models\"\n",
    "    / f\"nr_train_images={P['task.nr_train_images']}\"\n",
    "    / \"model.onnx\"\n",
    ")"
   ]
  },
  {
   "cell_type": "markdown",
   "id": "47ab6493",
   "metadata": {
    "papermill": {
     "duration": 0.004569,
     "end_time": "2022-12-14T06:43:07.932004",
     "exception": false,
     "start_time": "2022-12-14T06:43:07.927435",
     "status": "completed"
    },
    "tags": []
   },
   "source": [
    "### Record structure of inputs and outputs for ONNX model\n",
    "\n",
    "(this should likely be done in training notebook)"
   ]
  },
  {
   "cell_type": "code",
   "execution_count": 8,
   "id": "6dd7becf",
   "metadata": {
    "execution": {
     "iopub.execute_input": "2022-12-14T06:43:07.948563Z",
     "iopub.status.busy": "2022-12-14T06:43:07.948087Z",
     "iopub.status.idle": "2022-12-14T06:43:07.954521Z",
     "shell.execute_reply": "2022-12-14T06:43:07.953500Z"
    },
    "papermill": {
     "duration": 0.019892,
     "end_time": "2022-12-14T06:43:07.956797",
     "exception": false,
     "start_time": "2022-12-14T06:43:07.936905",
     "status": "completed"
    },
    "tags": []
   },
   "outputs": [
    {
     "name": "stdout",
     "output_type": "stream",
     "text": [
      "{\n",
      "  \"inputs\": [\n",
      "    {\n",
      "      \"name\": \"float_input_8x8_image\",\n",
      "      \"shape\": [\n",
      "        null,\n",
      "        64\n",
      "      ],\n",
      "      \"type\": \"tensor(float)\"\n",
      "    }\n",
      "  ],\n",
      "  \"outputs\": [\n",
      "    {\n",
      "      \"name\": \"output_label\",\n",
      "      \"shape\": [\n",
      "        null\n",
      "      ],\n",
      "      \"type\": \"tensor(int64)\"\n",
      "    },\n",
      "    {\n",
      "      \"name\": \"output_probability\",\n",
      "      \"shape\": [],\n",
      "      \"type\": \"seq(map(int64,tensor(float)))\"\n",
      "    }\n",
      "  ]\n",
      "}\n"
     ]
    }
   ],
   "source": [
    "import json\n",
    "\n",
    "onnx_io = json.dumps(\n",
    "    {\n",
    "        \"inputs\": get_onnx_inputs(onnx_inference_session),\n",
    "        \"outputs\": get_onnx_outputs(onnx_inference_session),\n",
    "    },\n",
    "    indent=2,\n",
    ")\n",
    "\n",
    "\n",
    "logger.log_artefact(\"onnx_io_structure.json\", onnx_io)\n",
    "print(onnx_io)"
   ]
  },
  {
   "cell_type": "markdown",
   "id": "aae3cfe9",
   "metadata": {
    "papermill": {
     "duration": 0.00477,
     "end_time": "2022-12-14T06:43:07.965268",
     "exception": false,
     "start_time": "2022-12-14T06:43:07.960498",
     "status": "completed"
    },
    "tags": []
   },
   "source": [
    "### Evaluate model performance on evaluation data set"
   ]
  },
  {
   "cell_type": "code",
   "execution_count": 9,
   "id": "d5a42260",
   "metadata": {
    "execution": {
     "iopub.execute_input": "2022-12-14T06:43:07.974943Z",
     "iopub.status.busy": "2022-12-14T06:43:07.974176Z",
     "iopub.status.idle": "2022-12-14T06:43:07.978996Z",
     "shell.execute_reply": "2022-12-14T06:43:07.978336Z"
    },
    "papermill": {
     "duration": 0.011635,
     "end_time": "2022-12-14T06:43:07.980561",
     "exception": false,
     "start_time": "2022-12-14T06:43:07.968926",
     "status": "completed"
    },
    "tags": []
   },
   "outputs": [],
   "source": [
    "# load evaluation data\n",
    "X_test = read_numpy(datalake_root(P) / \"test-data\" / \"digits.numpy\")\n",
    "y_test = read_numpy(datalake_root(P) / \"test-data\" / \"labels.numpy\")"
   ]
  },
  {
   "cell_type": "code",
   "execution_count": 10,
   "id": "82b3119c",
   "metadata": {
    "execution": {
     "iopub.execute_input": "2022-12-14T06:43:07.991227Z",
     "iopub.status.busy": "2022-12-14T06:43:07.990980Z",
     "iopub.status.idle": "2022-12-14T06:43:08.003813Z",
     "shell.execute_reply": "2022-12-14T06:43:08.003258Z"
    },
    "papermill": {
     "duration": 0.020636,
     "end_time": "2022-12-14T06:43:08.006183",
     "exception": false,
     "start_time": "2022-12-14T06:43:07.985547",
     "status": "completed"
    },
    "tags": []
   },
   "outputs": [],
   "source": [
    "def get_model_outputs(X, onnx_inference_session):\n",
    "    y_pred_labels, y_pred_map = onnx_inference_session.run(\n",
    "        [\"output_label\", \"output_probability\"],\n",
    "        {\"float_input_8x8_image\": X.astype(np.float32)},\n",
    "    )\n",
    "    y_pred_probs = np.array(\n",
    "        [[probabilities[digit] for digit in range(10)] for probabilities in y_pred_map]\n",
    "    )\n",
    "\n",
    "    assert y_pred_labels.shape == (X.shape[0],)\n",
    "    assert y_pred_probs.shape == (X.shape[0], 10)\n",
    "\n",
    "    return y_pred_labels, y_pred_probs\n",
    "\n",
    "\n",
    "# Note: as shown in the training notebook, the predicted labels and probabilities\n",
    "# computed below need not be compatible.\n",
    "y_pred_labels_test, y_pred_probs_test = get_model_outputs(\n",
    "    X_test, onnx_inference_session\n",
    ")"
   ]
  },
  {
   "cell_type": "markdown",
   "id": "fe11fb95",
   "metadata": {
    "papermill": {
     "duration": 0.004112,
     "end_time": "2022-12-14T06:43:08.014716",
     "exception": false,
     "start_time": "2022-12-14T06:43:08.010604",
     "status": "completed"
    },
    "tags": []
   },
   "source": [
    "### Confusion matrix"
   ]
  },
  {
   "cell_type": "code",
   "execution_count": 11,
   "id": "77515a96",
   "metadata": {
    "execution": {
     "iopub.execute_input": "2022-12-14T06:43:08.024901Z",
     "iopub.status.busy": "2022-12-14T06:43:08.024632Z",
     "iopub.status.idle": "2022-12-14T06:43:08.027808Z",
     "shell.execute_reply": "2022-12-14T06:43:08.027231Z"
    },
    "papermill": {
     "duration": 0.010584,
     "end_time": "2022-12-14T06:43:08.029884",
     "exception": false,
     "start_time": "2022-12-14T06:43:08.019300",
     "status": "completed"
    },
    "tags": []
   },
   "outputs": [],
   "source": [
    "# TODO"
   ]
  },
  {
   "cell_type": "markdown",
   "id": "227a0de8",
   "metadata": {
    "papermill": {
     "duration": 0.005352,
     "end_time": "2022-12-14T06:43:08.039257",
     "exception": false,
     "start_time": "2022-12-14T06:43:08.033905",
     "status": "completed"
    },
    "tags": []
   },
   "source": [
    "### Plot predicted probabilities for each classifier over all evaluation digit images"
   ]
  },
  {
   "cell_type": "code",
   "execution_count": 12,
   "id": "36827864",
   "metadata": {
    "execution": {
     "iopub.execute_input": "2022-12-14T06:43:08.057434Z",
     "iopub.status.busy": "2022-12-14T06:43:08.057154Z",
     "iopub.status.idle": "2022-12-14T06:43:11.162051Z",
     "shell.execute_reply": "2022-12-14T06:43:11.161487Z"
    },
    "papermill": {
     "duration": 3.119651,
     "end_time": "2022-12-14T06:43:11.163686",
     "exception": false,
     "start_time": "2022-12-14T06:43:08.044035",
     "status": "completed"
    },
    "tags": []
   },
   "outputs": [
    {
     "data": {
      "image/png": "[encoded data removed]",
      "text/plain": [
       "<Figure size 1600x600 with 10 Axes>"
      ]
     },
     "metadata": {},
     "output_type": "display_data"
    }
   ],
   "source": [
    "def plot_per_digit_probabilities(y_pred_probs):\n",
    "    fig, axs = plt.subplots(nrows=2, ncols=5, figsize=(16, 6))\n",
    "\n",
    "    for (r, c), digit, ax in zip(\n",
    "        it.product(range(2), range(5)), range(10), axs.reshape(-1)\n",
    "    ):\n",
    "        ax.hist(y_pred_probs_test[:, digit], bins=20)\n",
    "\n",
    "        ax.set_title(f\"Digit {digit}\")\n",
    "        if r == 1 and c == 2:\n",
    "            ax.set_xlabel(\"probability\", fontsize=16)\n",
    "\n",
    "        if c == 0:\n",
    "            ax.set_ylabel(\"counts\", fontsize=16)\n",
    "        ax.set_yscale(\"log\")\n",
    "\n",
    "    fig.tight_layout()\n",
    "    fig.suptitle(\n",
    "        f\"Distributions of prediction probabilities for each digit \"\n",
    "        f\"(on evaluation data, n={y_pred_probs.shape[0]})\",\n",
    "        fontsize=20,\n",
    "    )\n",
    "    fig.tight_layout()\n",
    "    fig.show()\n",
    "\n",
    "    return fig\n",
    "\n",
    "\n",
    "fig = plot_per_digit_probabilities(y_pred_probs_test)"
   ]
  },
  {
   "cell_type": "markdown",
   "id": "bf315428",
   "metadata": {
    "papermill": {
     "duration": 0.005595,
     "end_time": "2022-12-14T06:43:11.174920",
     "exception": false,
     "start_time": "2022-12-14T06:43:11.169325",
     "status": "completed"
    },
    "tags": []
   },
   "source": [
    "From the above distributions we see that most digits have clear separation between\n",
    "high and lower probabilities. Morover, in each case there is roughly an order of\n",
    "magnitude more of digits with low probabilities. This is compatible with digits\n",
    "being roughly evenly distributed in the data."
   ]
  },
  {
   "cell_type": "code",
   "execution_count": 13,
   "id": "9d19f6ca",
   "metadata": {
    "execution": {
     "iopub.execute_input": "2022-12-14T06:43:11.187723Z",
     "iopub.status.busy": "2022-12-14T06:43:11.187461Z",
     "iopub.status.idle": "2022-12-14T06:43:11.654874Z",
     "shell.execute_reply": "2022-12-14T06:43:11.654361Z"
    },
    "papermill": {
     "duration": 0.475456,
     "end_time": "2022-12-14T06:43:11.656404",
     "exception": false,
     "start_time": "2022-12-14T06:43:11.180948",
     "status": "completed"
    },
    "tags": []
   },
   "outputs": [],
   "source": [
    "logger.log_figure(\"per-digit-probabilities.png\", fig)"
   ]
  },
  {
   "cell_type": "markdown",
   "id": "eb636e35",
   "metadata": {
    "papermill": {
     "duration": 0.004833,
     "end_time": "2022-12-14T06:43:11.666851",
     "exception": false,
     "start_time": "2022-12-14T06:43:11.662018",
     "status": "completed"
    },
    "tags": []
   },
   "source": [
    "### Plot ROC curves for individual one-vs-rest classifiers"
   ]
  },
  {
   "cell_type": "code",
   "execution_count": 14,
   "id": "f8107f57",
   "metadata": {
    "execution": {
     "iopub.execute_input": "2022-12-14T06:43:11.678886Z",
     "iopub.status.busy": "2022-12-14T06:43:11.678507Z",
     "iopub.status.idle": "2022-12-14T06:43:12.105187Z",
     "shell.execute_reply": "2022-12-14T06:43:12.104335Z"
    },
    "papermill": {
     "duration": 0.435574,
     "end_time": "2022-12-14T06:43:12.108148",
     "exception": false,
     "start_time": "2022-12-14T06:43:11.672574",
     "status": "completed"
    },
    "tags": []
   },
   "outputs": [],
   "source": [
    "from sklearn import metrics"
   ]
  },
  {
   "cell_type": "code",
   "execution_count": 15,
   "id": "4f9ffd37",
   "metadata": {
    "execution": {
     "iopub.execute_input": "2022-12-14T06:43:12.124344Z",
     "iopub.status.busy": "2022-12-14T06:43:12.124024Z",
     "iopub.status.idle": "2022-12-14T06:43:13.389344Z",
     "shell.execute_reply": "2022-12-14T06:43:13.388723Z"
    },
    "papermill": {
     "duration": 1.277588,
     "end_time": "2022-12-14T06:43:13.392259",
     "exception": false,
     "start_time": "2022-12-14T06:43:12.114671",
     "status": "completed"
    },
    "tags": []
   },
   "outputs": [
    {
     "data": {
      "image/png": "[encoded data removed]",
      "text/plain": [
       "<Figure size 1600x800 with 10 Axes>"
      ]
     },
     "metadata": {},
     "output_type": "display_data"
    }
   ],
   "source": [
    "def plot_roc_curves(y, y_pred_probs):\n",
    "    # based on example code\n",
    "    # https://scikit-learn.org/stable/auto_examples/model_selection/plot_roc.html\n",
    "\n",
    "    fig, axs = plt.subplots(nrows=2, ncols=5, figsize=(16, 8))\n",
    "\n",
    "    roc_auc_dict = {}\n",
    "\n",
    "    for (r, c), digit, ax in zip(\n",
    "        it.product(range(2), range(5)), range(10), axs.reshape(-1)\n",
    "    ):\n",
    "        fpr, tpr, _ = metrics.roc_curve(y == digit, y_pred_probs[:, digit])\n",
    "        auc = metrics.auc(fpr, tpr)\n",
    "        roc_auc_dict[str(digit)] = auc\n",
    "\n",
    "        ax.plot(fpr, tpr, label=f\"ROC AUC={round(auc, 3)}\")\n",
    "\n",
    "        ax.set_title(f\"\\nDigit {digit}\", fontsize=16)\n",
    "        if r == 1:\n",
    "            ax.set_xlabel(\"FPR\", fontsize=18)\n",
    "\n",
    "        if c == 0:\n",
    "            ax.set_ylabel(\"TPR\", fontsize=18)\n",
    "\n",
    "        ax.set_xlim([-0.05, 1.05])\n",
    "        ax.set_ylim([-0.05, 1.05])\n",
    "        ax.legend(loc=\"lower right\", frameon=False, fontsize=14)\n",
    "\n",
    "    fig.tight_layout()\n",
    "    fig.suptitle(\n",
    "        f\"ROC plots for one-vs-rest performances \"\n",
    "        f\"(on evaluation data, n={y_pred_probs_test.shape[1]}\",\n",
    "        fontsize=22,\n",
    "    )\n",
    "    fig.tight_layout()\n",
    "    fig.show()\n",
    "\n",
    "    return roc_auc_dict, fig\n",
    "\n",
    "\n",
    "roc_auc_dict, fig = plot_roc_curves(y_test, y_pred_probs_test)"
   ]
  },
  {
   "cell_type": "code",
   "execution_count": 16,
   "id": "57a94bbd",
   "metadata": {
    "execution": {
     "iopub.execute_input": "2022-12-14T06:43:13.412243Z",
     "iopub.status.busy": "2022-12-14T06:43:13.411988Z",
     "iopub.status.idle": "2022-12-14T06:43:13.695962Z",
     "shell.execute_reply": "2022-12-14T06:43:13.695194Z"
    },
    "papermill": {
     "duration": 0.298554,
     "end_time": "2022-12-14T06:43:13.697980",
     "exception": false,
     "start_time": "2022-12-14T06:43:13.399426",
     "status": "completed"
    },
    "tags": []
   },
   "outputs": [],
   "source": [
    "logger.log_figure(\"per-digit-roc-curves.png\", fig)"
   ]
  },
  {
   "cell_type": "code",
   "execution_count": 17,
   "id": "cef4d08b",
   "metadata": {
    "execution": {
     "iopub.execute_input": "2022-12-14T06:43:13.715826Z",
     "iopub.status.busy": "2022-12-14T06:43:13.713497Z",
     "iopub.status.idle": "2022-12-14T06:43:13.720479Z",
     "shell.execute_reply": "2022-12-14T06:43:13.719915Z"
    },
    "papermill": {
     "duration": 0.019754,
     "end_time": "2022-12-14T06:43:13.725440",
     "exception": false,
     "start_time": "2022-12-14T06:43:13.705686",
     "status": "completed"
    },
    "tags": []
   },
   "outputs": [
    {
     "data": {
      "text/plain": [
       "{'0': 1.0,\n",
       " '1': 0.9992127460168697,\n",
       " '2': 1.0,\n",
       " '3': 0.9998875351452671,\n",
       " '4': 0.9991236092059138,\n",
       " '5': 0.9988753514526711,\n",
       " '6': 0.999923792104862,\n",
       " '7': 0.9998475842097241,\n",
       " '8': 0.9942859394703656,\n",
       " '9': 0.9986663618350862}"
      ]
     },
     "execution_count": 17,
     "metadata": {},
     "output_type": "execute_result"
    }
   ],
   "source": [
    "roc_auc_dict"
   ]
  },
  {
   "cell_type": "code",
   "execution_count": 18,
   "id": "43be15b6",
   "metadata": {
    "execution": {
     "iopub.execute_input": "2022-12-14T06:43:13.741211Z",
     "iopub.status.busy": "2022-12-14T06:43:13.740922Z",
     "iopub.status.idle": "2022-12-14T06:43:13.745039Z",
     "shell.execute_reply": "2022-12-14T06:43:13.744232Z"
    },
    "papermill": {
     "duration": 0.014828,
     "end_time": "2022-12-14T06:43:13.747676",
     "exception": false,
     "start_time": "2022-12-14T06:43:13.732848",
     "status": "completed"
    },
    "tags": []
   },
   "outputs": [
    {
     "name": "stdout",
     "output_type": "stream",
     "text": [
      " - Logging roc_auc_per_digit (json) : {'0': 1.0, '1': 0.9992127460168697, '2': 1.0, '3': 0.9998875351452671, '4': 0.9991236092059138, '5': 0.9988753514526711, '6': 0.999923792104862, '7': 0.9998475842097241, '8': 0.9942859394703656, '9': 0.9986663618350862}\n"
     ]
    }
   ],
   "source": [
    "logger.log_value(\"roc_auc_per_digit\", roc_auc_dict)"
   ]
  },
  {
   "cell_type": "markdown",
   "id": "da62da32",
   "metadata": {
    "papermill": {
     "duration": 0.006604,
     "end_time": "2022-12-14T06:43:13.761516",
     "exception": false,
     "start_time": "2022-12-14T06:43:13.754912",
     "status": "completed"
    },
    "tags": []
   },
   "source": [
    "### Compute and log mean ROC AUC score averaged over all digits"
   ]
  },
  {
   "cell_type": "code",
   "execution_count": 19,
   "id": "45febfb1",
   "metadata": {
    "execution": {
     "iopub.execute_input": "2022-12-14T06:43:13.776179Z",
     "iopub.status.busy": "2022-12-14T06:43:13.775932Z",
     "iopub.status.idle": "2022-12-14T06:43:13.790121Z",
     "shell.execute_reply": "2022-12-14T06:43:13.789224Z"
    },
    "papermill": {
     "duration": 0.022676,
     "end_time": "2022-12-14T06:43:13.791632",
     "exception": false,
     "start_time": "2022-12-14T06:43:13.768956",
     "status": "completed"
    },
    "tags": []
   },
   "outputs": [
    {
     "name": "stdout",
     "output_type": "stream",
     "text": [
      " - Logging roc_auc_class_mean (float) : 0.9989822919440761\n"
     ]
    }
   ],
   "source": [
    "roc_auc_macro = np.mean(list(roc_auc_dict.values()))\n",
    "\n",
    "logger.log_float(\"roc_auc_class_mean\", roc_auc_macro)\n",
    "\n",
    "# assert that the same value can be computed directly using sklearn\n",
    "assert roc_auc_macro == metrics.roc_auc_score(\n",
    "    y_test, y_pred_probs_test, average=\"macro\", multi_class=\"ovr\"\n",
    ")"
   ]
  },
  {
   "cell_type": "code",
   "execution_count": 20,
   "id": "22057490",
   "metadata": {
    "execution": {
     "iopub.execute_input": "2022-12-14T06:43:13.808555Z",
     "iopub.status.busy": "2022-12-14T06:43:13.808317Z",
     "iopub.status.idle": "2022-12-14T06:43:13.811828Z",
     "shell.execute_reply": "2022-12-14T06:43:13.811279Z"
    },
    "lines_to_next_cell": 0,
    "papermill": {
     "duration": 0.016254,
     "end_time": "2022-12-14T06:43:13.814221",
     "exception": false,
     "start_time": "2022-12-14T06:43:13.797967",
     "status": "completed"
    },
    "tags": []
   },
   "outputs": [],
   "source": [
    "# ---"
   ]
  },
  {
   "cell_type": "code",
   "execution_count": null,
   "id": "30e476e6",
   "metadata": {
    "papermill": {
     "duration": 0.007807,
     "end_time": "2022-12-14T06:43:13.834601",
     "exception": false,
     "start_time": "2022-12-14T06:43:13.826794",
     "status": "completed"
    },
    "tags": []
   },
   "outputs": [],
   "source": []
  }
 ],
 "metadata": {
  "jupytext": {
   "cell_metadata_filter": "tags,-all",
   "main_language": "python",
   "notebook_metadata_filter": "-all"
  },
  "language_info": {
   "codemirror_mode": {
    "name": "ipython",
    "version": 3
   },
   "file_extension": ".py",
   "mimetype": "text/x-python",
   "name": "python",
   "nbconvert_exporter": "python",
   "pygments_lexer": "ipython3",
   "version": "3.8.10"
  },
  "papermill": {
   "default_parameters": {},
   "duration": 10.221558,
   "end_time": "2022-12-14T06:43:14.965779",
   "environment_variables": {},
   "exception": null,
   "input_path": "/home/host_user/workspace/mnist-demo-pipeline/mnist-demo-pipeline/notebooks/temp-notebook-e31ojx8h.ipynb",
   "output_path": "notebooks/benchmark-model.ipynb",
   "parameters": {
    "P": {
     "_opentelemetry_traceparent": "00-c27396a3280c91e4c63f8fc39a45671a-8b6df488a9e1ead5-01",
     "pipeline.data_lake_root": "/pipeline-outputs/data-lake",
     "pipeline.github.actor": "matiasdahl",
     "pipeline.github.base_ref": "",
     "pipeline.github.event_name": "schedule",
     "pipeline.github.head_ref": "",
     "pipeline.github.job": "run-tests-pipeline-and-persist-pipeline-outputs",
     "pipeline.github.ref": "refs/heads/development",
     "pipeline.github.ref_name": "development",
     "pipeline.github.ref_type": "branch",
     "pipeline.github.repository": "matiasdahl/dev-mnist-digits-demo-pipeline",
     "pipeline.github.run_id": "3692391613",
     "pipeline.github.runner_name": "Hosted Agent",
     "pipeline.github.sha": "ace0d01011d5e914f1921450dd5a59c11367b38d",
     "pipeline.github.workflow": "Run automated tests, pipeline and deploy results to static reporting site",
     "pipeline.pipeline_run_id": "0159318e-b312-4e65-9488-32edd10b3b52",
     "pipeline.run_environment": "ci",
     "run.retry_nr": "0",
     "task.max_nr_retries": "1",
     "task.notebook": "notebooks/benchmark-model.py",
     "task.nr_train_images": 600,
     "task.num_cpus": 1,
     "task.timeout_s": "None"
    }
   },
   "start_time": "2022-12-14T06:43:04.744221",
   "version": "2.3.3"
  }
 },
 "nbformat": 4,
 "nbformat_minor": 5
}