{
 "cells": [
  {
   "cell_type": "markdown",
   "id": "ec5b5a8b",
   "metadata": {
    "papermill": {
     "duration": 0.005627,
     "end_time": "2022-12-14T06:43:24.277018",
     "exception": false,
     "start_time": "2022-12-14T06:43:24.271391",
     "status": "completed"
    },
    "tags": []
   },
   "source": [
    "# Benchmark model\n",
    "\n",
    "The purpose of this notebook is to benchmark persisted onnx-model (trained in the\n",
    "previous step) against evaluation set."
   ]
  },
  {
   "cell_type": "markdown",
   "id": "9ba38b8d",
   "metadata": {
    "papermill": {
     "duration": 0.006631,
     "end_time": "2022-12-14T06:43:24.289639",
     "exception": false,
     "start_time": "2022-12-14T06:43:24.283008",
     "status": "completed"
    },
    "tags": []
   },
   "source": [
    "### Determine run parameters"
   ]
  },
  {
   "cell_type": "code",
   "execution_count": 1,
   "id": "cdb8919f",
   "metadata": {
    "execution": {
     "iopub.execute_input": "2022-12-14T06:43:24.310915Z",
     "iopub.status.busy": "2022-12-14T06:43:24.310633Z",
     "iopub.status.idle": "2022-12-14T06:43:24.325909Z",
     "shell.execute_reply": "2022-12-14T06:43:24.325192Z"
    },
    "lines_to_next_cell": 0,
    "papermill": {
     "duration": 0.033155,
     "end_time": "2022-12-14T06:43:24.327769",
     "exception": false,
     "start_time": "2022-12-14T06:43:24.294614",
     "status": "completed"
    },
    "tags": []
   },
   "outputs": [],
   "source": [
    "# ----------------- Parameters for interactive development --------------\n",
    "P = {\n",
    "    \"pipeline.data_lake_root\": \"/pipeline-outputs/data-lake\",\n",
    "    \"task.nr_train_images\": 600,\n",
    "}"
   ]
  },
  {
   "cell_type": "code",
   "execution_count": 2,
   "id": "135689af",
   "metadata": {
    "execution": {
     "iopub.execute_input": "2022-12-14T06:43:24.339162Z",
     "iopub.status.busy": "2022-12-14T06:43:24.338901Z",
     "iopub.status.idle": "2022-12-14T06:43:24.342762Z",
     "shell.execute_reply": "2022-12-14T06:43:24.342185Z"
    },
    "lines_to_next_cell": 0,
    "papermill": {
     "duration": 0.019282,
     "end_time": "2022-12-14T06:43:24.352590",
     "exception": false,
     "start_time": "2022-12-14T06:43:24.333308",
     "status": "completed"
    },
    "tags": [
     "parameters"
    ]
   },
   "outputs": [],
   "source": [
    "# - During automated runs parameters will be injected in the below cell -"
   ]
  },
  {
   "cell_type": "code",
   "execution_count": 3,
   "id": "76e44b8e",
   "metadata": {
    "execution": {
     "iopub.execute_input": "2022-12-14T06:43:24.363690Z",
     "iopub.status.busy": "2022-12-14T06:43:24.363360Z",
     "iopub.status.idle": "2022-12-14T06:43:24.369154Z",
     "shell.execute_reply": "2022-12-14T06:43:24.368572Z"
    },
    "papermill": {
     "duration": 0.015697,
     "end_time": "2022-12-14T06:43:24.372996",
     "exception": false,
     "start_time": "2022-12-14T06:43:24.357299",
     "status": "completed"
    },
    "tags": [
     "injected-parameters"
    ]
   },
   "outputs": [],
   "source": [
    "# Parameters\n",
    "P = {\n",
    "    \"pipeline.data_lake_root\": \"/pipeline-outputs/data-lake\",\n",
    "    \"pipeline.run_environment\": \"ci\",\n",
    "    \"pipeline.pipeline_run_id\": \"0159318e-b312-4e65-9488-32edd10b3b52\",\n",
    "    \"pipeline.github.repository\": \"matiasdahl/dev-mnist-digits-demo-pipeline\",\n",
    "    \"pipeline.github.workflow\": \"Run automated tests, pipeline and deploy results to static reporting site\",\n",
    "    \"pipeline.github.runner_name\": \"Hosted Agent\",\n",
    "    \"pipeline.github.run_id\": \"3692391613\",\n",
    "    \"pipeline.github.actor\": \"matiasdahl\",\n",
    "    \"pipeline.github.job\": \"run-tests-pipeline-and-persist-pipeline-outputs\",\n",
    "    \"pipeline.github.base_ref\": \"\",\n",
    "    \"pipeline.github.head_ref\": \"\",\n",
    "    \"pipeline.github.sha\": \"ace0d01011d5e914f1921450dd5a59c11367b38d\",\n",
    "    \"pipeline.github.ref\": \"refs/heads/development\",\n",
    "    \"pipeline.github.ref_type\": \"branch\",\n",
    "    \"pipeline.github.ref_name\": \"development\",\n",
    "    \"pipeline.github.event_name\": \"schedule\",\n",
    "    \"task.nr_train_images\": 1200,\n",
    "    \"task.notebook\": \"notebooks/benchmark-model.py\",\n",
    "    \"task.max_nr_retries\": \"1\",\n",
    "    \"run.retry_nr\": \"0\",\n",
    "    \"task.timeout_s\": \"None\",\n",
    "    \"task.num_cpus\": 1,\n",
    "    \"_opentelemetry_traceparent\": \"00-c27396a3280c91e4c63f8fc39a45671a-2cd335743c341116-01\",\n",
    "}\n"
   ]
  },
  {
   "cell_type": "code",
   "execution_count": 4,
   "id": "df54e6b2",
   "metadata": {
    "execution": {
     "iopub.execute_input": "2022-12-14T06:43:24.384187Z",
     "iopub.status.busy": "2022-12-14T06:43:24.383944Z",
     "iopub.status.idle": "2022-12-14T06:43:24.387039Z",
     "shell.execute_reply": "2022-12-14T06:43:24.386370Z"
    },
    "lines_to_next_cell": 0,
    "papermill": {
     "duration": 0.0129,
     "end_time": "2022-12-14T06:43:24.390264",
     "exception": false,
     "start_time": "2022-12-14T06:43:24.377364",
     "status": "completed"
    },
    "tags": []
   },
   "outputs": [],
   "source": [
    "# -----------------------------------------------------------------------"
   ]
  },
  {
   "cell_type": "markdown",
   "id": "e4acd1ca",
   "metadata": {
    "papermill": {
     "duration": 0.005529,
     "end_time": "2022-12-14T06:43:24.403187",
     "exception": false,
     "start_time": "2022-12-14T06:43:24.397658",
     "status": "completed"
    },
    "tags": []
   },
   "source": [
    "---"
   ]
  },
  {
   "cell_type": "markdown",
   "id": "d26b1460",
   "metadata": {
    "lines_to_next_cell": 2,
    "papermill": {
     "duration": 0.005812,
     "end_time": "2022-12-14T06:43:24.413362",
     "exception": false,
     "start_time": "2022-12-14T06:43:24.407550",
     "status": "completed"
    },
    "tags": []
   },
   "source": [
    "### Notebook code"
   ]
  },
  {
   "cell_type": "code",
   "execution_count": 5,
   "id": "230d9f65",
   "metadata": {
    "execution": {
     "iopub.execute_input": "2022-12-14T06:43:24.425342Z",
     "iopub.status.busy": "2022-12-14T06:43:24.425054Z",
     "iopub.status.idle": "2022-12-14T06:43:25.666780Z",
     "shell.execute_reply": "2022-12-14T06:43:25.665896Z"
    },
    "papermill": {
     "duration": 1.250471,
     "end_time": "2022-12-14T06:43:25.668743",
     "exception": false,
     "start_time": "2022-12-14T06:43:24.418272",
     "status": "completed"
    },
    "tags": []
   },
   "outputs": [
    {
     "name": "stderr",
     "output_type": "stream",
     "text": [
      "2022-12-14 06:43:25,458\tINFO worker.py:842 -- Connecting to existing Ray cluster at address: 172.17.0.2:6379\n"
     ]
    }
   ],
   "source": [
    "import itertools as it\n",
    "\n",
    "#\n",
    "import numpy as np\n",
    "import matplotlib.pyplot as plt\n",
    "\n",
    "#\n",
    "from pynb_dag_runner.tasks.task_opentelemetry_logging import PydarLogger\n",
    "\n",
    "#\n",
    "from common.io import datalake_root\n",
    "\n",
    "logger = PydarLogger(P)"
   ]
  },
  {
   "cell_type": "markdown",
   "id": "d1691c24",
   "metadata": {
    "papermill": {
     "duration": 0.004693,
     "end_time": "2022-12-14T06:43:25.679127",
     "exception": false,
     "start_time": "2022-12-14T06:43:25.674434",
     "status": "completed"
    },
    "tags": []
   },
   "source": [
    "## Load persisted onnx-model and evaluation data"
   ]
  },
  {
   "cell_type": "code",
   "execution_count": 6,
   "id": "d2ebacca",
   "metadata": {
    "execution": {
     "iopub.execute_input": "2022-12-14T06:43:25.689695Z",
     "iopub.status.busy": "2022-12-14T06:43:25.689358Z",
     "iopub.status.idle": "2022-12-14T06:43:25.694306Z",
     "shell.execute_reply": "2022-12-14T06:43:25.693590Z"
    },
    "papermill": {
     "duration": 0.014315,
     "end_time": "2022-12-14T06:43:25.698325",
     "exception": false,
     "start_time": "2022-12-14T06:43:25.684010",
     "status": "completed"
    },
    "tags": []
   },
   "outputs": [],
   "source": [
    "from common.io import read_onnx, get_onnx_inputs, get_onnx_outputs, read_numpy"
   ]
  },
  {
   "cell_type": "code",
   "execution_count": 7,
   "id": "dc62b65c",
   "metadata": {
    "execution": {
     "iopub.execute_input": "2022-12-14T06:43:25.708874Z",
     "iopub.status.busy": "2022-12-14T06:43:25.708505Z",
     "iopub.status.idle": "2022-12-14T06:43:25.719404Z",
     "shell.execute_reply": "2022-12-14T06:43:25.718383Z"
    },
    "lines_to_next_cell": 0,
    "papermill": {
     "duration": 0.017277,
     "end_time": "2022-12-14T06:43:25.720849",
     "exception": false,
     "start_time": "2022-12-14T06:43:25.703572",
     "status": "completed"
    },
    "tags": []
   },
   "outputs": [],
   "source": [
    "onnx_inference_session = read_onnx(\n",
    "    datalake_root(P)\n",
    "    / \"models\"\n",
    "    / f\"nr_train_images={P['task.nr_train_images']}\"\n",
    "    / \"model.onnx\"\n",
    ")"
   ]
  },
  {
   "cell_type": "markdown",
   "id": "b4a85fde",
   "metadata": {
    "papermill": {
     "duration": 0.004621,
     "end_time": "2022-12-14T06:43:25.730318",
     "exception": false,
     "start_time": "2022-12-14T06:43:25.725697",
     "status": "completed"
    },
    "tags": []
   },
   "source": [
    "### Record structure of inputs and outputs for ONNX model\n",
    "\n",
    "(this should likely be done in training notebook)"
   ]
  },
  {
   "cell_type": "code",
   "execution_count": 8,
   "id": "ca7bdb5e",
   "metadata": {
    "execution": {
     "iopub.execute_input": "2022-12-14T06:43:25.739589Z",
     "iopub.status.busy": "2022-12-14T06:43:25.739256Z",
     "iopub.status.idle": "2022-12-14T06:43:25.745172Z",
     "shell.execute_reply": "2022-12-14T06:43:25.744467Z"
    },
    "papermill": {
     "duration": 0.012137,
     "end_time": "2022-12-14T06:43:25.746753",
     "exception": false,
     "start_time": "2022-12-14T06:43:25.734616",
     "status": "completed"
    },
    "tags": []
   },
   "outputs": [
    {
     "name": "stdout",
     "output_type": "stream",
     "text": [
      "{\n",
      "  \"inputs\": [\n",
      "    {\n",
      "      \"name\": \"float_input_8x8_image\",\n",
      "      \"shape\": [\n",
      "        null,\n",
      "        64\n",
      "      ],\n",
      "      \"type\": \"tensor(float)\"\n",
      "    }\n",
      "  ],\n",
      "  \"outputs\": [\n",
      "    {\n",
      "      \"name\": \"output_label\",\n",
      "      \"shape\": [\n",
      "        null\n",
      "      ],\n",
      "      \"type\": \"tensor(int64)\"\n",
      "    },\n",
      "    {\n",
      "      \"name\": \"output_probability\",\n",
      "      \"shape\": [],\n",
      "      \"type\": \"seq(map(int64,tensor(float)))\"\n",
      "    }\n",
      "  ]\n",
      "}\n"
     ]
    }
   ],
   "source": [
    "import json\n",
    "\n",
    "onnx_io = json.dumps(\n",
    "    {\n",
    "        \"inputs\": get_onnx_inputs(onnx_inference_session),\n",
    "        \"outputs\": get_onnx_outputs(onnx_inference_session),\n",
    "    },\n",
    "    indent=2,\n",
    ")\n",
    "\n",
    "\n",
    "logger.log_artefact(\"onnx_io_structure.json\", onnx_io)\n",
    "print(onnx_io)"
   ]
  },
  {
   "cell_type": "markdown",
   "id": "1a2e7080",
   "metadata": {
    "papermill": {
     "duration": 0.004305,
     "end_time": "2022-12-14T06:43:25.755374",
     "exception": false,
     "start_time": "2022-12-14T06:43:25.751069",
     "status": "completed"
    },
    "tags": []
   },
   "source": [
    "### Evaluate model performance on evaluation data set"
   ]
  },
  {
   "cell_type": "code",
   "execution_count": 9,
   "id": "b51fa488",
   "metadata": {
    "execution": {
     "iopub.execute_input": "2022-12-14T06:43:25.764685Z",
     "iopub.status.busy": "2022-12-14T06:43:25.764157Z",
     "iopub.status.idle": "2022-12-14T06:43:25.769803Z",
     "shell.execute_reply": "2022-12-14T06:43:25.768558Z"
    },
    "papermill": {
     "duration": 0.012155,
     "end_time": "2022-12-14T06:43:25.771457",
     "exception": false,
     "start_time": "2022-12-14T06:43:25.759302",
     "status": "completed"
    },
    "tags": []
   },
   "outputs": [],
   "source": [
    "# load evaluation data\n",
    "X_test = read_numpy(datalake_root(P) / \"test-data\" / \"digits.numpy\")\n",
    "y_test = read_numpy(datalake_root(P) / \"test-data\" / \"labels.numpy\")"
   ]
  },
  {
   "cell_type": "code",
   "execution_count": 10,
   "id": "63984913",
   "metadata": {
    "execution": {
     "iopub.execute_input": "2022-12-14T06:43:25.780845Z",
     "iopub.status.busy": "2022-12-14T06:43:25.780555Z",
     "iopub.status.idle": "2022-12-14T06:43:25.794499Z",
     "shell.execute_reply": "2022-12-14T06:43:25.793522Z"
    },
    "papermill": {
     "duration": 0.019818,
     "end_time": "2022-12-14T06:43:25.795784",
     "exception": false,
     "start_time": "2022-12-14T06:43:25.775966",
     "status": "completed"
    },
    "tags": []
   },
   "outputs": [],
   "source": [
    "def get_model_outputs(X, onnx_inference_session):\n",
    "    y_pred_labels, y_pred_map = onnx_inference_session.run(\n",
    "        [\"output_label\", \"output_probability\"],\n",
    "        {\"float_input_8x8_image\": X.astype(np.float32)},\n",
    "    )\n",
    "    y_pred_probs = np.array(\n",
    "        [[probabilities[digit] for digit in range(10)] for probabilities in y_pred_map]\n",
    "    )\n",
    "\n",
    "    assert y_pred_labels.shape == (X.shape[0],)\n",
    "    assert y_pred_probs.shape == (X.shape[0], 10)\n",
    "\n",
    "    return y_pred_labels, y_pred_probs\n",
    "\n",
    "\n",
    "# Note: as shown in the training notebook, the predicted labels and probabilities\n",
    "# computed below need not be compatible.\n",
    "y_pred_labels_test, y_pred_probs_test = get_model_outputs(\n",
    "    X_test, onnx_inference_session\n",
    ")"
   ]
  },
  {
   "cell_type": "markdown",
   "id": "d698ac83",
   "metadata": {
    "papermill": {
     "duration": 0.004319,
     "end_time": "2022-12-14T06:43:25.804009",
     "exception": false,
     "start_time": "2022-12-14T06:43:25.799690",
     "status": "completed"
    },
    "tags": []
   },
   "source": [
    "### Confusion matrix"
   ]
  },
  {
   "cell_type": "code",
   "execution_count": 11,
   "id": "a04d091e",
   "metadata": {
    "execution": {
     "iopub.execute_input": "2022-12-14T06:43:25.814579Z",
     "iopub.status.busy": "2022-12-14T06:43:25.814112Z",
     "iopub.status.idle": "2022-12-14T06:43:25.817772Z",
     "shell.execute_reply": "2022-12-14T06:43:25.816759Z"
    },
    "papermill": {
     "duration": 0.012158,
     "end_time": "2022-12-14T06:43:25.819919",
     "exception": false,
     "start_time": "2022-12-14T06:43:25.807761",
     "status": "completed"
    },
    "tags": []
   },
   "outputs": [],
   "source": [
    "# TODO"
   ]
  },
  {
   "cell_type": "markdown",
   "id": "45377136",
   "metadata": {
    "papermill": {
     "duration": 0.003464,
     "end_time": "2022-12-14T06:43:25.827939",
     "exception": false,
     "start_time": "2022-12-14T06:43:25.824475",
     "status": "completed"
    },
    "tags": []
   },
   "source": [
    "### Plot predicted probabilities for each classifier over all evaluation digit images"
   ]
  },
  {
   "cell_type": "code",
   "execution_count": 12,
   "id": "597bda04",
   "metadata": {
    "execution": {
     "iopub.execute_input": "2022-12-14T06:43:25.838038Z",
     "iopub.status.busy": "2022-12-14T06:43:25.837464Z",
     "iopub.status.idle": "2022-12-14T06:43:28.869773Z",
     "shell.execute_reply": "2022-12-14T06:43:28.869081Z"
    },
    "papermill": {
     "duration": 3.040018,
     "end_time": "2022-12-14T06:43:28.871542",
     "exception": false,
     "start_time": "2022-12-14T06:43:25.831524",
     "status": "completed"
    },
    "tags": []
   },
   "outputs": [
    {
     "data": {
      "image/png": "[encoded data removed]",
      "text/plain": [
       "<Figure size 1600x600 with 10 Axes>"
      ]
     },
     "metadata": {},
     "output_type": "display_data"
    }
   ],
   "source": [
    "def plot_per_digit_probabilities(y_pred_probs):\n",
    "    fig, axs = plt.subplots(nrows=2, ncols=5, figsize=(16, 6))\n",
    "\n",
    "    for (r, c), digit, ax in zip(\n",
    "        it.product(range(2), range(5)), range(10), axs.reshape(-1)\n",
    "    ):\n",
    "        ax.hist(y_pred_probs_test[:, digit], bins=20)\n",
    "\n",
    "        ax.set_title(f\"Digit {digit}\")\n",
    "        if r == 1 and c == 2:\n",
    "            ax.set_xlabel(\"probability\", fontsize=16)\n",
    "\n",
    "        if c == 0:\n",
    "            ax.set_ylabel(\"counts\", fontsize=16)\n",
    "        ax.set_yscale(\"log\")\n",
    "\n",
    "    fig.tight_layout()\n",
    "    fig.suptitle(\n",
    "        f\"Distributions of prediction probabilities for each digit \"\n",
    "        f\"(on evaluation data, n={y_pred_probs.shape[0]})\",\n",
    "        fontsize=20,\n",
    "    )\n",
    "    fig.tight_layout()\n",
    "    fig.show()\n",
    "\n",
    "    return fig\n",
    "\n",
    "\n",
    "fig = plot_per_digit_probabilities(y_pred_probs_test)"
   ]
  },
  {
   "cell_type": "markdown",
   "id": "e4758e85",
   "metadata": {
    "papermill": {
     "duration": 0.004599,
     "end_time": "2022-12-14T06:43:28.882402",
     "exception": false,
     "start_time": "2022-12-14T06:43:28.877803",
     "status": "completed"
    },
    "tags": []
   },
   "source": [
    "From the above distributions we see that most digits have clear separation between\n",
    "high and lower probabilities. Morover, in each case there is roughly an order of\n",
    "magnitude more of digits with low probabilities. This is compatible with digits\n",
    "being roughly evenly distributed in the data."
   ]
  },
  {
   "cell_type": "code",
   "execution_count": 13,
   "id": "ce73a602",
   "metadata": {
    "execution": {
     "iopub.execute_input": "2022-12-14T06:43:28.895255Z",
     "iopub.status.busy": "2022-12-14T06:43:28.893990Z",
     "iopub.status.idle": "2022-12-14T06:43:29.338354Z",
     "shell.execute_reply": "2022-12-14T06:43:29.337619Z"
    },
    "papermill": {
     "duration": 0.451942,
     "end_time": "2022-12-14T06:43:29.340070",
     "exception": false,
     "start_time": "2022-12-14T06:43:28.888128",
     "status": "completed"
    },
    "tags": []
   },
   "outputs": [],
   "source": [
    "logger.log_figure(\"per-digit-probabilities.png\", fig)"
   ]
  },
  {
   "cell_type": "markdown",
   "id": "b0dc7527",
   "metadata": {
    "papermill": {
     "duration": 0.004627,
     "end_time": "2022-12-14T06:43:29.349932",
     "exception": false,
     "start_time": "2022-12-14T06:43:29.345305",
     "status": "completed"
    },
    "tags": []
   },
   "source": [
    "### Plot ROC curves for individual one-vs-rest classifiers"
   ]
  },
  {
   "cell_type": "code",
   "execution_count": 14,
   "id": "d81703f3",
   "metadata": {
    "execution": {
     "iopub.execute_input": "2022-12-14T06:43:29.361636Z",
     "iopub.status.busy": "2022-12-14T06:43:29.360372Z",
     "iopub.status.idle": "2022-12-14T06:43:29.738287Z",
     "shell.execute_reply": "2022-12-14T06:43:29.737575Z"
    },
    "papermill": {
     "duration": 0.385103,
     "end_time": "2022-12-14T06:43:29.739858",
     "exception": false,
     "start_time": "2022-12-14T06:43:29.354755",
     "status": "completed"
    },
    "tags": []
   },
   "outputs": [],
   "source": [
    "from sklearn import metrics"
   ]
  },
  {
   "cell_type": "code",
   "execution_count": 15,
   "id": "0bbf0270",
   "metadata": {
    "execution": {
     "iopub.execute_input": "2022-12-14T06:43:29.752977Z",
     "iopub.status.busy": "2022-12-14T06:43:29.751966Z",
     "iopub.status.idle": "2022-12-14T06:43:30.890094Z",
     "shell.execute_reply": "2022-12-14T06:43:30.889467Z"
    },
    "papermill": {
     "duration": 1.146764,
     "end_time": "2022-12-14T06:43:30.891748",
     "exception": false,
     "start_time": "2022-12-14T06:43:29.744984",
     "status": "completed"
    },
    "tags": []
   },
   "outputs": [
    {
     "data": {
      "image/png": "[encoded data removed]",
      "text/plain": [
       "<Figure size 1600x800 with 10 Axes>"
      ]
     },
     "metadata": {},
     "output_type": "display_data"
    }
   ],
   "source": [
    "def plot_roc_curves(y, y_pred_probs):\n",
    "    # based on example code\n",
    "    # https://scikit-learn.org/stable/auto_examples/model_selection/plot_roc.html\n",
    "\n",
    "    fig, axs = plt.subplots(nrows=2, ncols=5, figsize=(16, 8))\n",
    "\n",
    "    roc_auc_dict = {}\n",
    "\n",
    "    for (r, c), digit, ax in zip(\n",
    "        it.product(range(2), range(5)), range(10), axs.reshape(-1)\n",
    "    ):\n",
    "        fpr, tpr, _ = metrics.roc_curve(y == digit, y_pred_probs[:, digit])\n",
    "        auc = metrics.auc(fpr, tpr)\n",
    "        roc_auc_dict[str(digit)] = auc\n",
    "\n",
    "        ax.plot(fpr, tpr, label=f\"ROC AUC={round(auc, 3)}\")\n",
    "\n",
    "        ax.set_title(f\"\\nDigit {digit}\", fontsize=16)\n",
    "        if r == 1:\n",
    "            ax.set_xlabel(\"FPR\", fontsize=18)\n",
    "\n",
    "        if c == 0:\n",
    "            ax.set_ylabel(\"TPR\", fontsize=18)\n",
    "\n",
    "        ax.set_xlim([-0.05, 1.05])\n",
    "        ax.set_ylim([-0.05, 1.05])\n",
    "        ax.legend(loc=\"lower right\", frameon=False, fontsize=14)\n",
    "\n",
    "    fig.tight_layout()\n",
    "    fig.suptitle(\n",
    "        f\"ROC plots for one-vs-rest performances \"\n",
    "        f\"(on evaluation data, n={y_pred_probs_test.shape[1]}\",\n",
    "        fontsize=22,\n",
    "    )\n",
    "    fig.tight_layout()\n",
    "    fig.show()\n",
    "\n",
    "    return roc_auc_dict, fig\n",
    "\n",
    "\n",
    "roc_auc_dict, fig = plot_roc_curves(y_test, y_pred_probs_test)"
   ]
  },
  {
   "cell_type": "code",
   "execution_count": 16,
   "id": "d1affa9b",
   "metadata": {
    "execution": {
     "iopub.execute_input": "2022-12-14T06:43:30.908398Z",
     "iopub.status.busy": "2022-12-14T06:43:30.907809Z",
     "iopub.status.idle": "2022-12-14T06:43:31.160072Z",
     "shell.execute_reply": "2022-12-14T06:43:31.159158Z"
    },
    "papermill": {
     "duration": 0.262566,
     "end_time": "2022-12-14T06:43:31.162245",
     "exception": false,
     "start_time": "2022-12-14T06:43:30.899679",
     "status": "completed"
    },
    "tags": []
   },
   "outputs": [],
   "source": [
    "logger.log_figure(\"per-digit-roc-curves.png\", fig)"
   ]
  },
  {
   "cell_type": "code",
   "execution_count": 17,
   "id": "38750ddb",
   "metadata": {
    "execution": {
     "iopub.execute_input": "2022-12-14T06:43:31.176744Z",
     "iopub.status.busy": "2022-12-14T06:43:31.176202Z",
     "iopub.status.idle": "2022-12-14T06:43:31.181952Z",
     "shell.execute_reply": "2022-12-14T06:43:31.181236Z"
    },
    "papermill": {
     "duration": 0.015728,
     "end_time": "2022-12-14T06:43:31.183893",
     "exception": false,
     "start_time": "2022-12-14T06:43:31.168165",
     "status": "completed"
    },
    "tags": []
   },
   "outputs": [
    {
     "data": {
      "text/plain": [
       "{'0': 1.0,\n",
       " '1': 0.998987816307404,\n",
       " '2': 1.0,\n",
       " '3': 0.9998500468603562,\n",
       " '4': 0.9997713763145861,\n",
       " '5': 0.9996626054358013,\n",
       " '6': 0.999923792104862,\n",
       " '7': 0.9998475842097242,\n",
       " '8': 0.9957046027742749,\n",
       " '9': 0.9997713763145862}"
      ]
     },
     "execution_count": 17,
     "metadata": {},
     "output_type": "execute_result"
    }
   ],
   "source": [
    "roc_auc_dict"
   ]
  },
  {
   "cell_type": "code",
   "execution_count": 18,
   "id": "de5a7b6e",
   "metadata": {
    "execution": {
     "iopub.execute_input": "2022-12-14T06:43:31.197965Z",
     "iopub.status.busy": "2022-12-14T06:43:31.197492Z",
     "iopub.status.idle": "2022-12-14T06:43:31.203676Z",
     "shell.execute_reply": "2022-12-14T06:43:31.202890Z"
    },
    "papermill": {
     "duration": 0.014525,
     "end_time": "2022-12-14T06:43:31.205264",
     "exception": false,
     "start_time": "2022-12-14T06:43:31.190739",
     "status": "completed"
    },
    "tags": []
   },
   "outputs": [
    {
     "name": "stdout",
     "output_type": "stream",
     "text": [
      " - Logging roc_auc_per_digit (json) : {'0': 1.0, '1': 0.998987816307404, '2': 1.0, '3': 0.9998500468603562, '4': 0.9997713763145861, '5': 0.9996626054358013, '6': 0.999923792104862, '7': 0.9998475842097242, '8': 0.9957046027742749, '9': 0.9997713763145862}\n"
     ]
    }
   ],
   "source": [
    "logger.log_value(\"roc_auc_per_digit\", roc_auc_dict)"
   ]
  },
  {
   "cell_type": "markdown",
   "id": "45f2e833",
   "metadata": {
    "papermill": {
     "duration": 0.005875,
     "end_time": "2022-12-14T06:43:31.217216",
     "exception": false,
     "start_time": "2022-12-14T06:43:31.211341",
     "status": "completed"
    },
    "tags": []
   },
   "source": [
    "### Compute and log mean ROC AUC score averaged over all digits"
   ]
  },
  {
   "cell_type": "code",
   "execution_count": 19,
   "id": "3f316215",
   "metadata": {
    "execution": {
     "iopub.execute_input": "2022-12-14T06:43:31.230893Z",
     "iopub.status.busy": "2022-12-14T06:43:31.229714Z",
     "iopub.status.idle": "2022-12-14T06:43:31.241828Z",
     "shell.execute_reply": "2022-12-14T06:43:31.241104Z"
    },
    "papermill": {
     "duration": 0.019827,
     "end_time": "2022-12-14T06:43:31.243166",
     "exception": false,
     "start_time": "2022-12-14T06:43:31.223339",
     "status": "completed"
    },
    "tags": []
   },
   "outputs": [
    {
     "name": "stdout",
     "output_type": "stream",
     "text": [
      " - Logging roc_auc_class_mean (float) : 0.9993519200321594\n"
     ]
    }
   ],
   "source": [
    "roc_auc_macro = np.mean(list(roc_auc_dict.values()))\n",
    "\n",
    "logger.log_float(\"roc_auc_class_mean\", roc_auc_macro)\n",
    "\n",
    "# assert that the same value can be computed directly using sklearn\n",
    "assert roc_auc_macro == metrics.roc_auc_score(\n",
    "    y_test, y_pred_probs_test, average=\"macro\", multi_class=\"ovr\"\n",
    ")"
   ]
  },
  {
   "cell_type": "code",
   "execution_count": 20,
   "id": "956038dc",
   "metadata": {
    "execution": {
     "iopub.execute_input": "2022-12-14T06:43:31.255801Z",
     "iopub.status.busy": "2022-12-14T06:43:31.255548Z",
     "iopub.status.idle": "2022-12-14T06:43:31.262052Z",
     "shell.execute_reply": "2022-12-14T06:43:31.261049Z"
    },
    "lines_to_next_cell": 0,
    "papermill": {
     "duration": 0.01508,
     "end_time": "2022-12-14T06:43:31.263640",
     "exception": false,
     "start_time": "2022-12-14T06:43:31.248560",
     "status": "completed"
    },
    "tags": []
   },
   "outputs": [],
   "source": [
    "# ---"
   ]
  },
  {
   "cell_type": "code",
   "execution_count": null,
   "id": "b4e91153",
   "metadata": {
    "papermill": {
     "duration": 0.006595,
     "end_time": "2022-12-14T06:43:31.275978",
     "exception": false,
     "start_time": "2022-12-14T06:43:31.269383",
     "status": "completed"
    },
    "tags": []
   },
   "outputs": [],
   "source": []
  }
 ],
 "metadata": {
  "jupytext": {
   "cell_metadata_filter": "tags,-all",
   "main_language": "python",
   "notebook_metadata_filter": "-all"
  },
  "language_info": {
   "codemirror_mode": {
    "name": "ipython",
    "version": 3
   },
   "file_extension": ".py",
   "mimetype": "text/x-python",
   "name": "python",
   "nbconvert_exporter": "python",
   "pygments_lexer": "ipython3",
   "version": "3.8.10"
  },
  "papermill": {
   "default_parameters": {},
   "duration": 9.410995,
   "end_time": "2022-12-14T06:43:32.303853",
   "environment_variables": {},
   "exception": null,
   "input_path": "/home/host_user/workspace/mnist-demo-pipeline/mnist-demo-pipeline/notebooks/temp-notebook-d93sp3n1.ipynb",
   "output_path": "notebooks/benchmark-model.ipynb",
   "parameters": {
    "P": {
     "_opentelemetry_traceparent": "00-c27396a3280c91e4c63f8fc39a45671a-2cd335743c341116-01",
     "pipeline.data_lake_root": "/pipeline-outputs/data-lake",
     "pipeline.github.actor": "matiasdahl",
     "pipeline.github.base_ref": "",
     "pipeline.github.event_name": "schedule",
     "pipeline.github.head_ref": "",
     "pipeline.github.job": "run-tests-pipeline-and-persist-pipeline-outputs",
     "pipeline.github.ref": "refs/heads/development",
     "pipeline.github.ref_name": "development",
     "pipeline.github.ref_type": "branch",
     "pipeline.github.repository": "matiasdahl/dev-mnist-digits-demo-pipeline",
     "pipeline.github.run_id": "3692391613",
     "pipeline.github.runner_name": "Hosted Agent",
     "pipeline.github.sha": "ace0d01011d5e914f1921450dd5a59c11367b38d",
     "pipeline.github.workflow": "Run automated tests, pipeline and deploy results to static reporting site",
     "pipeline.pipeline_run_id": "0159318e-b312-4e65-9488-32edd10b3b52",
     "pipeline.run_environment": "ci",
     "run.retry_nr": "0",
     "task.max_nr_retries": "1",
     "task.notebook": "notebooks/benchmark-model.py",
     "task.nr_train_images": 1200,
     "task.num_cpus": 1,
     "task.timeout_s": "None"
    }
   },
   "start_time": "2022-12-14T06:43:22.892858",
   "version": "2.3.3"
  }
 },
 "nbformat": 4,
 "nbformat_minor": 5
}