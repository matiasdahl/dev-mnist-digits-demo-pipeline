{
 "cells": [
  {
   "cell_type": "markdown",
   "id": "6fda6546",
   "metadata": {
    "papermill": {
     "duration": 0.006783,
     "end_time": "2022-12-14T06:43:18.145556",
     "exception": false,
     "start_time": "2022-12-14T06:43:18.138773",
     "status": "completed"
    },
    "tags": []
   },
   "source": [
    "# Benchmark model\n",
    "\n",
    "The purpose of this notebook is to benchmark persisted onnx-model (trained in the\n",
    "previous step) against evaluation set."
   ]
  },
  {
   "cell_type": "markdown",
   "id": "6d389924",
   "metadata": {
    "papermill": {
     "duration": 0.012114,
     "end_time": "2022-12-14T06:43:18.169655",
     "exception": false,
     "start_time": "2022-12-14T06:43:18.157541",
     "status": "completed"
    },
    "tags": []
   },
   "source": [
    "### Determine run parameters"
   ]
  },
  {
   "cell_type": "code",
   "execution_count": 1,
   "id": "e02919df",
   "metadata": {
    "execution": {
     "iopub.execute_input": "2022-12-14T06:43:18.182422Z",
     "iopub.status.busy": "2022-12-14T06:43:18.182106Z",
     "iopub.status.idle": "2022-12-14T06:43:18.196730Z",
     "shell.execute_reply": "2022-12-14T06:43:18.196100Z"
    },
    "lines_to_next_cell": 0,
    "papermill": {
     "duration": 0.022809,
     "end_time": "2022-12-14T06:43:18.199255",
     "exception": false,
     "start_time": "2022-12-14T06:43:18.176446",
     "status": "completed"
    },
    "tags": []
   },
   "outputs": [],
   "source": [
    "# ----------------- Parameters for interactive development --------------\n",
    "P = {\n",
    "    \"pipeline.data_lake_root\": \"/pipeline-outputs/data-lake\",\n",
    "    \"task.nr_train_images\": 600,\n",
    "}"
   ]
  },
  {
   "cell_type": "code",
   "execution_count": 2,
   "id": "cd842eb2",
   "metadata": {
    "execution": {
     "iopub.execute_input": "2022-12-14T06:43:18.210065Z",
     "iopub.status.busy": "2022-12-14T06:43:18.209773Z",
     "iopub.status.idle": "2022-12-14T06:43:18.212701Z",
     "shell.execute_reply": "2022-12-14T06:43:18.212225Z"
    },
    "lines_to_next_cell": 0,
    "papermill": {
     "duration": 0.012262,
     "end_time": "2022-12-14T06:43:18.215667",
     "exception": false,
     "start_time": "2022-12-14T06:43:18.203405",
     "status": "completed"
    },
    "tags": [
     "parameters"
    ]
   },
   "outputs": [],
   "source": [
    "# - During automated runs parameters will be injected in the below cell -"
   ]
  },
  {
   "cell_type": "code",
   "execution_count": 3,
   "id": "ff76aeed",
   "metadata": {
    "execution": {
     "iopub.execute_input": "2022-12-14T06:43:18.225003Z",
     "iopub.status.busy": "2022-12-14T06:43:18.224761Z",
     "iopub.status.idle": "2022-12-14T06:43:18.229846Z",
     "shell.execute_reply": "2022-12-14T06:43:18.229302Z"
    },
    "papermill": {
     "duration": 0.012543,
     "end_time": "2022-12-14T06:43:18.232402",
     "exception": false,
     "start_time": "2022-12-14T06:43:18.219859",
     "status": "completed"
    },
    "tags": [
     "injected-parameters"
    ]
   },
   "outputs": [],
   "source": [
    "# Parameters\n",
    "P = {\n",
    "    \"pipeline.data_lake_root\": \"/pipeline-outputs/data-lake\",\n",
    "    \"pipeline.run_environment\": \"ci\",\n",
    "    \"pipeline.pipeline_run_id\": \"0159318e-b312-4e65-9488-32edd10b3b52\",\n",
    "    \"pipeline.github.repository\": \"matiasdahl/dev-mnist-digits-demo-pipeline\",\n",
    "    \"pipeline.github.workflow\": \"Run automated tests, pipeline and deploy results to static reporting site\",\n",
    "    \"pipeline.github.runner_name\": \"Hosted Agent\",\n",
    "    \"pipeline.github.run_id\": \"3692391613\",\n",
    "    \"pipeline.github.actor\": \"matiasdahl\",\n",
    "    \"pipeline.github.job\": \"run-tests-pipeline-and-persist-pipeline-outputs\",\n",
    "    \"pipeline.github.base_ref\": \"\",\n",
    "    \"pipeline.github.head_ref\": \"\",\n",
    "    \"pipeline.github.sha\": \"ace0d01011d5e914f1921450dd5a59c11367b38d\",\n",
    "    \"pipeline.github.ref\": \"refs/heads/development\",\n",
    "    \"pipeline.github.ref_type\": \"branch\",\n",
    "    \"pipeline.github.ref_name\": \"development\",\n",
    "    \"pipeline.github.event_name\": \"schedule\",\n",
    "    \"task.nr_train_images\": 1000,\n",
    "    \"task.notebook\": \"notebooks/benchmark-model.py\",\n",
    "    \"task.max_nr_retries\": \"1\",\n",
    "    \"run.retry_nr\": \"0\",\n",
    "    \"task.timeout_s\": \"None\",\n",
    "    \"task.num_cpus\": 1,\n",
    "    \"_opentelemetry_traceparent\": \"00-c27396a3280c91e4c63f8fc39a45671a-be3f89ce76baa357-01\",\n",
    "}\n"
   ]
  },
  {
   "cell_type": "code",
   "execution_count": 4,
   "id": "57327cf3",
   "metadata": {
    "execution": {
     "iopub.execute_input": "2022-12-14T06:43:18.242205Z",
     "iopub.status.busy": "2022-12-14T06:43:18.241971Z",
     "iopub.status.idle": "2022-12-14T06:43:18.244701Z",
     "shell.execute_reply": "2022-12-14T06:43:18.244105Z"
    },
    "lines_to_next_cell": 0,
    "papermill": {
     "duration": 0.010547,
     "end_time": "2022-12-14T06:43:18.247043",
     "exception": false,
     "start_time": "2022-12-14T06:43:18.236496",
     "status": "completed"
    },
    "tags": []
   },
   "outputs": [],
   "source": [
    "# -----------------------------------------------------------------------"
   ]
  },
  {
   "cell_type": "markdown",
   "id": "bd62c956",
   "metadata": {
    "papermill": {
     "duration": 0.004387,
     "end_time": "2022-12-14T06:43:18.256422",
     "exception": false,
     "start_time": "2022-12-14T06:43:18.252035",
     "status": "completed"
    },
    "tags": []
   },
   "source": [
    "---"
   ]
  },
  {
   "cell_type": "markdown",
   "id": "2e27210d",
   "metadata": {
    "lines_to_next_cell": 2,
    "papermill": {
     "duration": 0.010917,
     "end_time": "2022-12-14T06:43:18.272441",
     "exception": false,
     "start_time": "2022-12-14T06:43:18.261524",
     "status": "completed"
    },
    "tags": []
   },
   "source": [
    "### Notebook code"
   ]
  },
  {
   "cell_type": "code",
   "execution_count": 5,
   "id": "8823dfd1",
   "metadata": {
    "execution": {
     "iopub.execute_input": "2022-12-14T06:43:18.283693Z",
     "iopub.status.busy": "2022-12-14T06:43:18.283420Z",
     "iopub.status.idle": "2022-12-14T06:43:19.487520Z",
     "shell.execute_reply": "2022-12-14T06:43:19.486812Z"
    },
    "papermill": {
     "duration": 1.212858,
     "end_time": "2022-12-14T06:43:19.490170",
     "exception": false,
     "start_time": "2022-12-14T06:43:18.277312",
     "status": "completed"
    },
    "tags": []
   },
   "outputs": [
    {
     "name": "stderr",
     "output_type": "stream",
     "text": [
      "2022-12-14 06:43:19,269\tINFO worker.py:842 -- Connecting to existing Ray cluster at address: 172.17.0.2:6379\n"
     ]
    }
   ],
   "source": [
    "import itertools as it\n",
    "\n",
    "#\n",
    "import numpy as np\n",
    "import matplotlib.pyplot as plt\n",
    "\n",
    "#\n",
    "from pynb_dag_runner.tasks.task_opentelemetry_logging import PydarLogger\n",
    "\n",
    "#\n",
    "from common.io import datalake_root\n",
    "\n",
    "logger = PydarLogger(P)"
   ]
  },
  {
   "cell_type": "markdown",
   "id": "431d6bd2",
   "metadata": {
    "papermill": {
     "duration": 0.004592,
     "end_time": "2022-12-14T06:43:19.499918",
     "exception": false,
     "start_time": "2022-12-14T06:43:19.495326",
     "status": "completed"
    },
    "tags": []
   },
   "source": [
    "## Load persisted onnx-model and evaluation data"
   ]
  },
  {
   "cell_type": "code",
   "execution_count": 6,
   "id": "9a9c876f",
   "metadata": {
    "execution": {
     "iopub.execute_input": "2022-12-14T06:43:19.511111Z",
     "iopub.status.busy": "2022-12-14T06:43:19.510737Z",
     "iopub.status.idle": "2022-12-14T06:43:19.514084Z",
     "shell.execute_reply": "2022-12-14T06:43:19.513569Z"
    },
    "papermill": {
     "duration": 0.01244,
     "end_time": "2022-12-14T06:43:19.516897",
     "exception": false,
     "start_time": "2022-12-14T06:43:19.504457",
     "status": "completed"
    },
    "tags": []
   },
   "outputs": [],
   "source": [
    "from common.io import read_onnx, get_onnx_inputs, get_onnx_outputs, read_numpy"
   ]
  },
  {
   "cell_type": "code",
   "execution_count": 7,
   "id": "bd512c45",
   "metadata": {
    "execution": {
     "iopub.execute_input": "2022-12-14T06:43:19.528438Z",
     "iopub.status.busy": "2022-12-14T06:43:19.528207Z",
     "iopub.status.idle": "2022-12-14T06:43:19.539856Z",
     "shell.execute_reply": "2022-12-14T06:43:19.539301Z"
    },
    "lines_to_next_cell": 0,
    "papermill": {
     "duration": 0.01884,
     "end_time": "2022-12-14T06:43:19.541478",
     "exception": false,
     "start_time": "2022-12-14T06:43:19.522638",
     "status": "completed"
    },
    "tags": []
   },
   "outputs": [],
   "source": [
    "onnx_inference_session = read_onnx(\n",
    "    datalake_root(P)\n",
    "    / \"models\"\n",
    "    / f\"nr_train_images={P['task.nr_train_images']}\"\n",
    "    / \"model.onnx\"\n",
    ")"
   ]
  },
  {
   "cell_type": "markdown",
   "id": "9922e738",
   "metadata": {
    "papermill": {
     "duration": 0.004647,
     "end_time": "2022-12-14T06:43:19.550620",
     "exception": false,
     "start_time": "2022-12-14T06:43:19.545973",
     "status": "completed"
    },
    "tags": []
   },
   "source": [
    "### Record structure of inputs and outputs for ONNX model\n",
    "\n",
    "(this should likely be done in training notebook)"
   ]
  },
  {
   "cell_type": "code",
   "execution_count": 8,
   "id": "b622bbb1",
   "metadata": {
    "execution": {
     "iopub.execute_input": "2022-12-14T06:43:19.561236Z",
     "iopub.status.busy": "2022-12-14T06:43:19.560987Z",
     "iopub.status.idle": "2022-12-14T06:43:19.566663Z",
     "shell.execute_reply": "2022-12-14T06:43:19.566164Z"
    },
    "papermill": {
     "duration": 0.014749,
     "end_time": "2022-12-14T06:43:19.570469",
     "exception": false,
     "start_time": "2022-12-14T06:43:19.555720",
     "status": "completed"
    },
    "tags": []
   },
   "outputs": [
    {
     "name": "stdout",
     "output_type": "stream",
     "text": [
      "{\n",
      "  \"inputs\": [\n",
      "    {\n",
      "      \"name\": \"float_input_8x8_image\",\n",
      "      \"shape\": [\n",
      "        null,\n",
      "        64\n",
      "      ],\n",
      "      \"type\": \"tensor(float)\"\n",
      "    }\n",
      "  ],\n",
      "  \"outputs\": [\n",
      "    {\n",
      "      \"name\": \"output_label\",\n",
      "      \"shape\": [\n",
      "        null\n",
      "      ],\n",
      "      \"type\": \"tensor(int64)\"\n",
      "    },\n",
      "    {\n",
      "      \"name\": \"output_probability\",\n",
      "      \"shape\": [],\n",
      "      \"type\": \"seq(map(int64,tensor(float)))\"\n",
      "    }\n",
      "  ]\n",
      "}\n"
     ]
    }
   ],
   "source": [
    "import json\n",
    "\n",
    "onnx_io = json.dumps(\n",
    "    {\n",
    "        \"inputs\": get_onnx_inputs(onnx_inference_session),\n",
    "        \"outputs\": get_onnx_outputs(onnx_inference_session),\n",
    "    },\n",
    "    indent=2,\n",
    ")\n",
    "\n",
    "\n",
    "logger.log_artefact(\"onnx_io_structure.json\", onnx_io)\n",
    "print(onnx_io)"
   ]
  },
  {
   "cell_type": "markdown",
   "id": "e937081b",
   "metadata": {
    "papermill": {
     "duration": 0.004491,
     "end_time": "2022-12-14T06:43:19.579189",
     "exception": false,
     "start_time": "2022-12-14T06:43:19.574698",
     "status": "completed"
    },
    "tags": []
   },
   "source": [
    "### Evaluate model performance on evaluation data set"
   ]
  },
  {
   "cell_type": "code",
   "execution_count": 9,
   "id": "59073f06",
   "metadata": {
    "execution": {
     "iopub.execute_input": "2022-12-14T06:43:19.590196Z",
     "iopub.status.busy": "2022-12-14T06:43:19.589950Z",
     "iopub.status.idle": "2022-12-14T06:43:19.594143Z",
     "shell.execute_reply": "2022-12-14T06:43:19.593612Z"
    },
    "papermill": {
     "duration": 0.015397,
     "end_time": "2022-12-14T06:43:19.599342",
     "exception": false,
     "start_time": "2022-12-14T06:43:19.583945",
     "status": "completed"
    },
    "tags": []
   },
   "outputs": [],
   "source": [
    "# load evaluation data\n",
    "X_test = read_numpy(datalake_root(P) / \"test-data\" / \"digits.numpy\")\n",
    "y_test = read_numpy(datalake_root(P) / \"test-data\" / \"labels.numpy\")"
   ]
  },
  {
   "cell_type": "code",
   "execution_count": 10,
   "id": "53361292",
   "metadata": {
    "execution": {
     "iopub.execute_input": "2022-12-14T06:43:19.614210Z",
     "iopub.status.busy": "2022-12-14T06:43:19.613976Z",
     "iopub.status.idle": "2022-12-14T06:43:19.630972Z",
     "shell.execute_reply": "2022-12-14T06:43:19.630365Z"
    },
    "papermill": {
     "duration": 0.0266,
     "end_time": "2022-12-14T06:43:19.632998",
     "exception": false,
     "start_time": "2022-12-14T06:43:19.606398",
     "status": "completed"
    },
    "tags": []
   },
   "outputs": [],
   "source": [
    "def get_model_outputs(X, onnx_inference_session):\n",
    "    y_pred_labels, y_pred_map = onnx_inference_session.run(\n",
    "        [\"output_label\", \"output_probability\"],\n",
    "        {\"float_input_8x8_image\": X.astype(np.float32)},\n",
    "    )\n",
    "    y_pred_probs = np.array(\n",
    "        [[probabilities[digit] for digit in range(10)] for probabilities in y_pred_map]\n",
    "    )\n",
    "\n",
    "    assert y_pred_labels.shape == (X.shape[0],)\n",
    "    assert y_pred_probs.shape == (X.shape[0], 10)\n",
    "\n",
    "    return y_pred_labels, y_pred_probs\n",
    "\n",
    "\n",
    "# Note: as shown in the training notebook, the predicted labels and probabilities\n",
    "# computed below need not be compatible.\n",
    "y_pred_labels_test, y_pred_probs_test = get_model_outputs(\n",
    "    X_test, onnx_inference_session\n",
    ")"
   ]
  },
  {
   "cell_type": "markdown",
   "id": "36b4d45a",
   "metadata": {
    "papermill": {
     "duration": 0.004547,
     "end_time": "2022-12-14T06:43:19.642626",
     "exception": false,
     "start_time": "2022-12-14T06:43:19.638079",
     "status": "completed"
    },
    "tags": []
   },
   "source": [
    "### Confusion matrix"
   ]
  },
  {
   "cell_type": "code",
   "execution_count": 11,
   "id": "16bacb9c",
   "metadata": {
    "execution": {
     "iopub.execute_input": "2022-12-14T06:43:19.653765Z",
     "iopub.status.busy": "2022-12-14T06:43:19.653506Z",
     "iopub.status.idle": "2022-12-14T06:43:19.656442Z",
     "shell.execute_reply": "2022-12-14T06:43:19.655795Z"
    },
    "papermill": {
     "duration": 0.011361,
     "end_time": "2022-12-14T06:43:19.658841",
     "exception": false,
     "start_time": "2022-12-14T06:43:19.647480",
     "status": "completed"
    },
    "tags": []
   },
   "outputs": [],
   "source": [
    "# TODO"
   ]
  },
  {
   "cell_type": "markdown",
   "id": "8be5e4db",
   "metadata": {
    "papermill": {
     "duration": 0.005016,
     "end_time": "2022-12-14T06:43:19.668593",
     "exception": false,
     "start_time": "2022-12-14T06:43:19.663577",
     "status": "completed"
    },
    "tags": []
   },
   "source": [
    "### Plot predicted probabilities for each classifier over all evaluation digit images"
   ]
  },
  {
   "cell_type": "code",
   "execution_count": 12,
   "id": "13f2568b",
   "metadata": {
    "execution": {
     "iopub.execute_input": "2022-12-14T06:43:19.679224Z",
     "iopub.status.busy": "2022-12-14T06:43:19.678967Z",
     "iopub.status.idle": "2022-12-14T06:43:22.842106Z",
     "shell.execute_reply": "2022-12-14T06:43:22.841549Z"
    },
    "papermill": {
     "duration": 3.170288,
     "end_time": "2022-12-14T06:43:22.843842",
     "exception": false,
     "start_time": "2022-12-14T06:43:19.673554",
     "status": "completed"
    },
    "tags": []
   },
   "outputs": [
    {
     "data": {
      "image/png": "[encoded data removed]",
      "text/plain": [
       "<Figure size 1600x600 with 10 Axes>"
      ]
     },
     "metadata": {},
     "output_type": "display_data"
    }
   ],
   "source": [
    "def plot_per_digit_probabilities(y_pred_probs):\n",
    "    fig, axs = plt.subplots(nrows=2, ncols=5, figsize=(16, 6))\n",
    "\n",
    "    for (r, c), digit, ax in zip(\n",
    "        it.product(range(2), range(5)), range(10), axs.reshape(-1)\n",
    "    ):\n",
    "        ax.hist(y_pred_probs_test[:, digit], bins=20)\n",
    "\n",
    "        ax.set_title(f\"Digit {digit}\")\n",
    "        if r == 1 and c == 2:\n",
    "            ax.set_xlabel(\"probability\", fontsize=16)\n",
    "\n",
    "        if c == 0:\n",
    "            ax.set_ylabel(\"counts\", fontsize=16)\n",
    "        ax.set_yscale(\"log\")\n",
    "\n",
    "    fig.tight_layout()\n",
    "    fig.suptitle(\n",
    "        f\"Distributions of prediction probabilities for each digit \"\n",
    "        f\"(on evaluation data, n={y_pred_probs.shape[0]})\",\n",
    "        fontsize=20,\n",
    "    )\n",
    "    fig.tight_layout()\n",
    "    fig.show()\n",
    "\n",
    "    return fig\n",
    "\n",
    "\n",
    "fig = plot_per_digit_probabilities(y_pred_probs_test)"
   ]
  },
  {
   "cell_type": "markdown",
   "id": "03507594",
   "metadata": {
    "papermill": {
     "duration": 0.005836,
     "end_time": "2022-12-14T06:43:22.855963",
     "exception": false,
     "start_time": "2022-12-14T06:43:22.850127",
     "status": "completed"
    },
    "tags": []
   },
   "source": [
    "From the above distributions we see that most digits have clear separation between\n",
    "high and lower probabilities. Morover, in each case there is roughly an order of\n",
    "magnitude more of digits with low probabilities. This is compatible with digits\n",
    "being roughly evenly distributed in the data."
   ]
  },
  {
   "cell_type": "code",
   "execution_count": 13,
   "id": "ec9001c7",
   "metadata": {
    "execution": {
     "iopub.execute_input": "2022-12-14T06:43:22.868219Z",
     "iopub.status.busy": "2022-12-14T06:43:22.867934Z",
     "iopub.status.idle": "2022-12-14T06:43:23.364557Z",
     "shell.execute_reply": "2022-12-14T06:43:23.363804Z"
    },
    "papermill": {
     "duration": 0.504482,
     "end_time": "2022-12-14T06:43:23.366476",
     "exception": false,
     "start_time": "2022-12-14T06:43:22.861994",
     "status": "completed"
    },
    "tags": []
   },
   "outputs": [],
   "source": [
    "logger.log_figure(\"per-digit-probabilities.png\", fig)"
   ]
  },
  {
   "cell_type": "markdown",
   "id": "204258a3",
   "metadata": {
    "papermill": {
     "duration": 0.006268,
     "end_time": "2022-12-14T06:43:23.378328",
     "exception": false,
     "start_time": "2022-12-14T06:43:23.372060",
     "status": "completed"
    },
    "tags": []
   },
   "source": [
    "### Plot ROC curves for individual one-vs-rest classifiers"
   ]
  },
  {
   "cell_type": "code",
   "execution_count": 14,
   "id": "d6ec9641",
   "metadata": {
    "execution": {
     "iopub.execute_input": "2022-12-14T06:43:23.390598Z",
     "iopub.status.busy": "2022-12-14T06:43:23.390152Z",
     "iopub.status.idle": "2022-12-14T06:43:23.805595Z",
     "shell.execute_reply": "2022-12-14T06:43:23.804592Z"
    },
    "papermill": {
     "duration": 0.42363,
     "end_time": "2022-12-14T06:43:23.807330",
     "exception": false,
     "start_time": "2022-12-14T06:43:23.383700",
     "status": "completed"
    },
    "tags": []
   },
   "outputs": [],
   "source": [
    "from sklearn import metrics"
   ]
  },
  {
   "cell_type": "code",
   "execution_count": 15,
   "id": "cba585af",
   "metadata": {
    "execution": {
     "iopub.execute_input": "2022-12-14T06:43:23.821826Z",
     "iopub.status.busy": "2022-12-14T06:43:23.821445Z",
     "iopub.status.idle": "2022-12-14T06:43:24.945946Z",
     "shell.execute_reply": "2022-12-14T06:43:24.945184Z"
    },
    "papermill": {
     "duration": 1.134994,
     "end_time": "2022-12-14T06:43:24.948069",
     "exception": false,
     "start_time": "2022-12-14T06:43:23.813075",
     "status": "completed"
    },
    "tags": []
   },
   "outputs": [
    {
     "data": {
      "image/png": "[encoded data removed]",
      "text/plain": [
       "<Figure size 1600x800 with 10 Axes>"
      ]
     },
     "metadata": {},
     "output_type": "display_data"
    }
   ],
   "source": [
    "def plot_roc_curves(y, y_pred_probs):\n",
    "    # based on example code\n",
    "    # https://scikit-learn.org/stable/auto_examples/model_selection/plot_roc.html\n",
    "\n",
    "    fig, axs = plt.subplots(nrows=2, ncols=5, figsize=(16, 8))\n",
    "\n",
    "    roc_auc_dict = {}\n",
    "\n",
    "    for (r, c), digit, ax in zip(\n",
    "        it.product(range(2), range(5)), range(10), axs.reshape(-1)\n",
    "    ):\n",
    "        fpr, tpr, _ = metrics.roc_curve(y == digit, y_pred_probs[:, digit])\n",
    "        auc = metrics.auc(fpr, tpr)\n",
    "        roc_auc_dict[str(digit)] = auc\n",
    "\n",
    "        ax.plot(fpr, tpr, label=f\"ROC AUC={round(auc, 3)}\")\n",
    "\n",
    "        ax.set_title(f\"\\nDigit {digit}\", fontsize=16)\n",
    "        if r == 1:\n",
    "            ax.set_xlabel(\"FPR\", fontsize=18)\n",
    "\n",
    "        if c == 0:\n",
    "            ax.set_ylabel(\"TPR\", fontsize=18)\n",
    "\n",
    "        ax.set_xlim([-0.05, 1.05])\n",
    "        ax.set_ylim([-0.05, 1.05])\n",
    "        ax.legend(loc=\"lower right\", frameon=False, fontsize=14)\n",
    "\n",
    "    fig.tight_layout()\n",
    "    fig.suptitle(\n",
    "        f\"ROC plots for one-vs-rest performances \"\n",
    "        f\"(on evaluation data, n={y_pred_probs_test.shape[1]}\",\n",
    "        fontsize=22,\n",
    "    )\n",
    "    fig.tight_layout()\n",
    "    fig.show()\n",
    "\n",
    "    return roc_auc_dict, fig\n",
    "\n",
    "\n",
    "roc_auc_dict, fig = plot_roc_curves(y_test, y_pred_probs_test)"
   ]
  },
  {
   "cell_type": "code",
   "execution_count": 16,
   "id": "a3851189",
   "metadata": {
    "execution": {
     "iopub.execute_input": "2022-12-14T06:43:24.964277Z",
     "iopub.status.busy": "2022-12-14T06:43:24.963749Z",
     "iopub.status.idle": "2022-12-14T06:43:25.259640Z",
     "shell.execute_reply": "2022-12-14T06:43:25.259028Z"
    },
    "papermill": {
     "duration": 0.306047,
     "end_time": "2022-12-14T06:43:25.261601",
     "exception": false,
     "start_time": "2022-12-14T06:43:24.955554",
     "status": "completed"
    },
    "tags": []
   },
   "outputs": [],
   "source": [
    "logger.log_figure(\"per-digit-roc-curves.png\", fig)"
   ]
  },
  {
   "cell_type": "code",
   "execution_count": 17,
   "id": "daa63e9d",
   "metadata": {
    "execution": {
     "iopub.execute_input": "2022-12-14T06:43:25.277399Z",
     "iopub.status.busy": "2022-12-14T06:43:25.277139Z",
     "iopub.status.idle": "2022-12-14T06:43:25.285432Z",
     "shell.execute_reply": "2022-12-14T06:43:25.284842Z"
    },
    "papermill": {
     "duration": 0.020314,
     "end_time": "2022-12-14T06:43:25.289647",
     "exception": false,
     "start_time": "2022-12-14T06:43:25.269333",
     "status": "completed"
    },
    "tags": []
   },
   "outputs": [
    {
     "data": {
      "text/plain": [
       "{'0': 1.0,\n",
       " '1': 0.998987816307404,\n",
       " '2': 1.0,\n",
       " '3': 0.9998875351452671,\n",
       " '4': 0.9995808565767413,\n",
       " '5': 0.9994001874414246,\n",
       " '6': 0.999923792104862,\n",
       " '7': 0.9997332723670171,\n",
       " '8': 0.9949558638083228,\n",
       " '9': 0.9995808565767413}"
      ]
     },
     "execution_count": 17,
     "metadata": {},
     "output_type": "execute_result"
    }
   ],
   "source": [
    "roc_auc_dict"
   ]
  },
  {
   "cell_type": "code",
   "execution_count": 18,
   "id": "5b8726fa",
   "metadata": {
    "execution": {
     "iopub.execute_input": "2022-12-14T06:43:25.304764Z",
     "iopub.status.busy": "2022-12-14T06:43:25.304494Z",
     "iopub.status.idle": "2022-12-14T06:43:25.308417Z",
     "shell.execute_reply": "2022-12-14T06:43:25.307902Z"
    },
    "papermill": {
     "duration": 0.015963,
     "end_time": "2022-12-14T06:43:25.312467",
     "exception": false,
     "start_time": "2022-12-14T06:43:25.296504",
     "status": "completed"
    },
    "tags": []
   },
   "outputs": [
    {
     "name": "stdout",
     "output_type": "stream",
     "text": [
      " - Logging roc_auc_per_digit (json) : {'0': 1.0, '1': 0.998987816307404, '2': 1.0, '3': 0.9998875351452671, '4': 0.9995808565767413, '5': 0.9994001874414246, '6': 0.999923792104862, '7': 0.9997332723670171, '8': 0.9949558638083228, '9': 0.9995808565767413}\n"
     ]
    }
   ],
   "source": [
    "logger.log_value(\"roc_auc_per_digit\", roc_auc_dict)"
   ]
  },
  {
   "cell_type": "markdown",
   "id": "e2971322",
   "metadata": {
    "papermill": {
     "duration": 0.006567,
     "end_time": "2022-12-14T06:43:25.327322",
     "exception": false,
     "start_time": "2022-12-14T06:43:25.320755",
     "status": "completed"
    },
    "tags": []
   },
   "source": [
    "### Compute and log mean ROC AUC score averaged over all digits"
   ]
  },
  {
   "cell_type": "code",
   "execution_count": 19,
   "id": "4c7fe725",
   "metadata": {
    "execution": {
     "iopub.execute_input": "2022-12-14T06:43:25.342708Z",
     "iopub.status.busy": "2022-12-14T06:43:25.342463Z",
     "iopub.status.idle": "2022-12-14T06:43:25.357512Z",
     "shell.execute_reply": "2022-12-14T06:43:25.356818Z"
    },
    "papermill": {
     "duration": 0.024172,
     "end_time": "2022-12-14T06:43:25.359046",
     "exception": false,
     "start_time": "2022-12-14T06:43:25.334874",
     "status": "completed"
    },
    "tags": []
   },
   "outputs": [
    {
     "name": "stdout",
     "output_type": "stream",
     "text": [
      " - Logging roc_auc_class_mean (float) : 0.9992050180327782\n"
     ]
    }
   ],
   "source": [
    "roc_auc_macro = np.mean(list(roc_auc_dict.values()))\n",
    "\n",
    "logger.log_float(\"roc_auc_class_mean\", roc_auc_macro)\n",
    "\n",
    "# assert that the same value can be computed directly using sklearn\n",
    "assert roc_auc_macro == metrics.roc_auc_score(\n",
    "    y_test, y_pred_probs_test, average=\"macro\", multi_class=\"ovr\"\n",
    ")"
   ]
  },
  {
   "cell_type": "code",
   "execution_count": 20,
   "id": "44d92f42",
   "metadata": {
    "execution": {
     "iopub.execute_input": "2022-12-14T06:43:25.374720Z",
     "iopub.status.busy": "2022-12-14T06:43:25.374449Z",
     "iopub.status.idle": "2022-12-14T06:43:25.377770Z",
     "shell.execute_reply": "2022-12-14T06:43:25.376953Z"
    },
    "lines_to_next_cell": 0,
    "papermill": {
     "duration": 0.013692,
     "end_time": "2022-12-14T06:43:25.380445",
     "exception": false,
     "start_time": "2022-12-14T06:43:25.366753",
     "status": "completed"
    },
    "tags": []
   },
   "outputs": [],
   "source": [
    "# ---"
   ]
  },
  {
   "cell_type": "code",
   "execution_count": null,
   "id": "92f09f37",
   "metadata": {
    "papermill": {
     "duration": 0.00714,
     "end_time": "2022-12-14T06:43:25.399688",
     "exception": false,
     "start_time": "2022-12-14T06:43:25.392548",
     "status": "completed"
    },
    "tags": []
   },
   "outputs": [],
   "source": []
  }
 ],
 "metadata": {
  "jupytext": {
   "cell_metadata_filter": "tags,-all",
   "main_language": "python",
   "notebook_metadata_filter": "-all"
  },
  "language_info": {
   "codemirror_mode": {
    "name": "ipython",
    "version": 3
   },
   "file_extension": ".py",
   "mimetype": "text/x-python",
   "name": "python",
   "nbconvert_exporter": "python",
   "pygments_lexer": "ipython3",
   "version": "3.8.10"
  },
  "papermill": {
   "default_parameters": {},
   "duration": 10.083567,
   "end_time": "2022-12-14T06:43:26.532609",
   "environment_variables": {},
   "exception": null,
   "input_path": "/home/host_user/workspace/mnist-demo-pipeline/mnist-demo-pipeline/notebooks/temp-notebook-boxr9byp.ipynb",
   "output_path": "notebooks/benchmark-model.ipynb",
   "parameters": {
    "P": {
     "_opentelemetry_traceparent": "00-c27396a3280c91e4c63f8fc39a45671a-be3f89ce76baa357-01",
     "pipeline.data_lake_root": "/pipeline-outputs/data-lake",
     "pipeline.github.actor": "matiasdahl",
     "pipeline.github.base_ref": "",
     "pipeline.github.event_name": "schedule",
     "pipeline.github.head_ref": "",
     "pipeline.github.job": "run-tests-pipeline-and-persist-pipeline-outputs",
     "pipeline.github.ref": "refs/heads/development",
     "pipeline.github.ref_name": "development",
     "pipeline.github.ref_type": "branch",
     "pipeline.github.repository": "matiasdahl/dev-mnist-digits-demo-pipeline",
     "pipeline.github.run_id": "3692391613",
     "pipeline.github.runner_name": "Hosted Agent",
     "pipeline.github.sha": "ace0d01011d5e914f1921450dd5a59c11367b38d",
     "pipeline.github.workflow": "Run automated tests, pipeline and deploy results to static reporting site",
     "pipeline.pipeline_run_id": "0159318e-b312-4e65-9488-32edd10b3b52",
     "pipeline.run_environment": "ci",
     "run.retry_nr": "0",
     "task.max_nr_retries": "1",
     "task.notebook": "notebooks/benchmark-model.py",
     "task.nr_train_images": 1000,
     "task.num_cpus": 1,
     "task.timeout_s": "None"
    }
   },
   "start_time": "2022-12-14T06:43:16.449042",
   "version": "2.3.3"
  }
 },
 "nbformat": 4,
 "nbformat_minor": 5
}