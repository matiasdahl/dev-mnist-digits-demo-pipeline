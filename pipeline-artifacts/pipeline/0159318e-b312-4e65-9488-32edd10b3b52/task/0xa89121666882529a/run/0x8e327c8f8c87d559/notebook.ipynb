{
 "cells": [
  {
   "cell_type": "markdown",
   "id": "2050fca9",
   "metadata": {
    "papermill": {
     "duration": 0.004255,
     "end_time": "2022-12-14T06:42:42.424649",
     "exception": false,
     "start_time": "2022-12-14T06:42:42.420394",
     "status": "completed"
    },
    "tags": []
   },
   "source": [
    "# Ingest toy version of MNIST digit data from sklearn"
   ]
  },
  {
   "cell_type": "markdown",
   "id": "86fa59d4",
   "metadata": {
    "papermill": {
     "duration": 0.002509,
     "end_time": "2022-12-14T06:42:42.430614",
     "exception": false,
     "start_time": "2022-12-14T06:42:42.428105",
     "status": "completed"
    },
    "tags": []
   },
   "source": [
    "### Determine run parameters"
   ]
  },
  {
   "cell_type": "code",
   "execution_count": 1,
   "id": "f489c773",
   "metadata": {
    "execution": {
     "iopub.execute_input": "2022-12-14T06:42:42.439142Z",
     "iopub.status.busy": "2022-12-14T06:42:42.438440Z",
     "iopub.status.idle": "2022-12-14T06:42:42.446388Z",
     "shell.execute_reply": "2022-12-14T06:42:42.445811Z"
    },
    "lines_to_next_cell": 0,
    "papermill": {
     "duration": 0.014667,
     "end_time": "2022-12-14T06:42:42.448050",
     "exception": false,
     "start_time": "2022-12-14T06:42:42.433383",
     "status": "completed"
    },
    "tags": []
   },
   "outputs": [],
   "source": [
    "# ----------------- Parameters for interactive development --------------\n",
    "P = {\n",
    "    \"pipeline.run_environment\": \"dev\",\n",
    "    \"pipeline.data_lake_root\": \"/pipeline-outputs/data-lake\",\n",
    "    \"run.retry_nr\": \"1\",\n",
    "}"
   ]
  },
  {
   "cell_type": "code",
   "execution_count": 2,
   "id": "e3723cd5",
   "metadata": {
    "execution": {
     "iopub.execute_input": "2022-12-14T06:42:42.454310Z",
     "iopub.status.busy": "2022-12-14T06:42:42.453704Z",
     "iopub.status.idle": "2022-12-14T06:42:42.456778Z",
     "shell.execute_reply": "2022-12-14T06:42:42.456157Z"
    },
    "lines_to_next_cell": 0,
    "papermill": {
     "duration": 0.007848,
     "end_time": "2022-12-14T06:42:42.457971",
     "exception": false,
     "start_time": "2022-12-14T06:42:42.450123",
     "status": "completed"
    },
    "tags": [
     "parameters"
    ]
   },
   "outputs": [],
   "source": [
    "# - During automated runs parameters will be injected in the below cell -"
   ]
  },
  {
   "cell_type": "code",
   "execution_count": 3,
   "id": "126e83c3",
   "metadata": {
    "execution": {
     "iopub.execute_input": "2022-12-14T06:42:42.463494Z",
     "iopub.status.busy": "2022-12-14T06:42:42.463251Z",
     "iopub.status.idle": "2022-12-14T06:42:42.468048Z",
     "shell.execute_reply": "2022-12-14T06:42:42.467212Z"
    },
    "papermill": {
     "duration": 0.009572,
     "end_time": "2022-12-14T06:42:42.469646",
     "exception": false,
     "start_time": "2022-12-14T06:42:42.460074",
     "status": "completed"
    },
    "tags": [
     "injected-parameters"
    ]
   },
   "outputs": [],
   "source": [
    "# Parameters\n",
    "P = {\n",
    "    \"pipeline.data_lake_root\": \"/pipeline-outputs/data-lake\",\n",
    "    \"pipeline.run_environment\": \"ci\",\n",
    "    \"pipeline.pipeline_run_id\": \"0159318e-b312-4e65-9488-32edd10b3b52\",\n",
    "    \"pipeline.github.repository\": \"matiasdahl/dev-mnist-digits-demo-pipeline\",\n",
    "    \"pipeline.github.workflow\": \"Run automated tests, pipeline and deploy results to static reporting site\",\n",
    "    \"pipeline.github.runner_name\": \"Hosted Agent\",\n",
    "    \"pipeline.github.run_id\": \"3692391613\",\n",
    "    \"pipeline.github.actor\": \"matiasdahl\",\n",
    "    \"pipeline.github.job\": \"run-tests-pipeline-and-persist-pipeline-outputs\",\n",
    "    \"pipeline.github.base_ref\": \"\",\n",
    "    \"pipeline.github.head_ref\": \"\",\n",
    "    \"pipeline.github.sha\": \"ace0d01011d5e914f1921450dd5a59c11367b38d\",\n",
    "    \"pipeline.github.ref\": \"refs/heads/development\",\n",
    "    \"pipeline.github.ref_type\": \"branch\",\n",
    "    \"pipeline.github.ref_name\": \"development\",\n",
    "    \"pipeline.github.event_name\": \"schedule\",\n",
    "    \"task.notebook\": \"notebooks/ingest.py\",\n",
    "    \"task.max_nr_retries\": \"15\",\n",
    "    \"run.retry_nr\": \"10\",\n",
    "    \"task.timeout_s\": \"10\",\n",
    "    \"task.num_cpus\": 1,\n",
    "    \"_opentelemetry_traceparent\": \"00-c27396a3280c91e4c63f8fc39a45671a-130ef5a0cf1d2246-01\",\n",
    "}\n"
   ]
  },
  {
   "cell_type": "code",
   "execution_count": 4,
   "id": "09692e4a",
   "metadata": {
    "execution": {
     "iopub.execute_input": "2022-12-14T06:42:42.476370Z",
     "iopub.status.busy": "2022-12-14T06:42:42.475946Z",
     "iopub.status.idle": "2022-12-14T06:42:42.478933Z",
     "shell.execute_reply": "2022-12-14T06:42:42.478268Z"
    },
    "lines_to_next_cell": 0,
    "papermill": {
     "duration": 0.008001,
     "end_time": "2022-12-14T06:42:42.480428",
     "exception": false,
     "start_time": "2022-12-14T06:42:42.472427",
     "status": "completed"
    },
    "tags": []
   },
   "outputs": [],
   "source": [
    "# -----------------------------------------------------------------------"
   ]
  },
  {
   "cell_type": "markdown",
   "id": "de235640",
   "metadata": {
    "lines_to_next_cell": 2,
    "papermill": {
     "duration": 0.002481,
     "end_time": "2022-12-14T06:42:42.485584",
     "exception": false,
     "start_time": "2022-12-14T06:42:42.483103",
     "status": "completed"
    },
    "tags": []
   },
   "source": [
    "---"
   ]
  },
  {
   "cell_type": "markdown",
   "id": "2d1c91e4",
   "metadata": {
    "papermill": {
     "duration": 0.002376,
     "end_time": "2022-12-14T06:42:42.490668",
     "exception": false,
     "start_time": "2022-12-14T06:42:42.488292",
     "status": "completed"
    },
    "tags": []
   },
   "source": [
    "### Simulate different types of failures (for testing timeout and retry logic)"
   ]
  },
  {
   "cell_type": "code",
   "execution_count": 5,
   "id": "a61b2b13",
   "metadata": {
    "execution": {
     "iopub.execute_input": "2022-12-14T06:42:42.499103Z",
     "iopub.status.busy": "2022-12-14T06:42:42.498753Z",
     "iopub.status.idle": "2022-12-14T06:42:42.954955Z",
     "shell.execute_reply": "2022-12-14T06:42:42.953954Z"
    },
    "papermill": {
     "duration": 0.463487,
     "end_time": "2022-12-14T06:42:42.956857",
     "exception": false,
     "start_time": "2022-12-14T06:42:42.493370",
     "status": "completed"
    },
    "tags": []
   },
   "outputs": [
    {
     "name": "stderr",
     "output_type": "stream",
     "text": [
      "2022-12-14 06:42:42,799\tINFO worker.py:842 -- Connecting to existing Ray cluster at address: 172.17.0.2:6379\n"
     ]
    }
   ],
   "source": [
    "from pynb_dag_runner.tasks.task_opentelemetry_logging import PydarLogger\n",
    "\n",
    "logger = PydarLogger(P)"
   ]
  },
  {
   "cell_type": "code",
   "execution_count": 6,
   "id": "2e39847c",
   "metadata": {
    "execution": {
     "iopub.execute_input": "2022-12-14T06:42:42.964617Z",
     "iopub.status.busy": "2022-12-14T06:42:42.963912Z",
     "iopub.status.idle": "2022-12-14T06:42:42.969079Z",
     "shell.execute_reply": "2022-12-14T06:42:42.968544Z"
    },
    "papermill": {
     "duration": 0.010968,
     "end_time": "2022-12-14T06:42:42.971007",
     "exception": false,
     "start_time": "2022-12-14T06:42:42.960039",
     "status": "completed"
    },
    "tags": []
   },
   "outputs": [],
   "source": [
    "import time, random\n",
    "\n",
    "\n",
    "def maybe_crash(retry_nr: int, run_environment: str):\n",
    "    if retry_nr == 2 and run_environment == \"ci\":\n",
    "        time.sleep(1e6)\n",
    "\n",
    "    max_retry_nr: int = 3 if run_environment == \"dev\" else 10\n",
    "\n",
    "    if retry_nr < max_retry_nr:\n",
    "        if random.random() < 0.1:\n",
    "            time.sleep(1e6)\n",
    "        else:\n",
    "            raise Exception(\"Simulated exception failure from ingestion step notebook!\")\n",
    "\n",
    "\n",
    "maybe_crash(\n",
    "    retry_nr=int(P[\"run.retry_nr\"]), run_environment=P[\"pipeline.run_environment\"]\n",
    ")"
   ]
  },
  {
   "cell_type": "markdown",
   "id": "0f161694",
   "metadata": {
    "lines_to_next_cell": 2,
    "papermill": {
     "duration": 0.00265,
     "end_time": "2022-12-14T06:42:42.976136",
     "exception": false,
     "start_time": "2022-12-14T06:42:42.973486",
     "status": "completed"
    },
    "tags": []
   },
   "source": [
    "### Notebook code"
   ]
  },
  {
   "cell_type": "code",
   "execution_count": 7,
   "id": "3651fcad",
   "metadata": {
    "execution": {
     "iopub.execute_input": "2022-12-14T06:42:42.983065Z",
     "iopub.status.busy": "2022-12-14T06:42:42.982657Z",
     "iopub.status.idle": "2022-12-14T06:42:44.367349Z",
     "shell.execute_reply": "2022-12-14T06:42:44.366593Z"
    },
    "papermill": {
     "duration": 1.390114,
     "end_time": "2022-12-14T06:42:44.369305",
     "exception": false,
     "start_time": "2022-12-14T06:42:42.979191",
     "status": "completed"
    },
    "tags": []
   },
   "outputs": [],
   "source": [
    "from sklearn import datasets\n",
    "\n",
    "#\n",
    "from common.io import datalake_root, write_numpy"
   ]
  },
  {
   "cell_type": "code",
   "execution_count": 8,
   "id": "281f1274",
   "metadata": {
    "execution": {
     "iopub.execute_input": "2022-12-14T06:42:44.378867Z",
     "iopub.status.busy": "2022-12-14T06:42:44.378446Z",
     "iopub.status.idle": "2022-12-14T06:42:44.396190Z",
     "shell.execute_reply": "2022-12-14T06:42:44.395378Z"
    },
    "lines_to_next_cell": 2,
    "papermill": {
     "duration": 0.026188,
     "end_time": "2022-12-14T06:42:44.398123",
     "exception": false,
     "start_time": "2022-12-14T06:42:44.371935",
     "status": "completed"
    },
    "tags": []
   },
   "outputs": [],
   "source": [
    "digits = datasets.load_digits()\n",
    "\n",
    "X = digits[\"data\"]\n",
    "y = digits[\"target\"]"
   ]
  },
  {
   "cell_type": "code",
   "execution_count": 9,
   "id": "6d7a05df",
   "metadata": {
    "execution": {
     "iopub.execute_input": "2022-12-14T06:42:44.404612Z",
     "iopub.status.busy": "2022-12-14T06:42:44.404160Z",
     "iopub.status.idle": "2022-12-14T06:42:44.416578Z",
     "shell.execute_reply": "2022-12-14T06:42:44.415748Z"
    },
    "papermill": {
     "duration": 0.01744,
     "end_time": "2022-12-14T06:42:44.418233",
     "exception": false,
     "start_time": "2022-12-14T06:42:44.400793",
     "status": "completed"
    },
    "tags": []
   },
   "outputs": [
    {
     "name": "stdout",
     "output_type": "stream",
     "text": [
      " - Logging data_shape (json) : [1797, 64]\n",
      " - Logging target_shape (json) : [1797]\n"
     ]
    },
    {
     "data": {
      "text/plain": [
       "((1797, 64), (1797,))"
      ]
     },
     "execution_count": 9,
     "metadata": {},
     "output_type": "execute_result"
    }
   ],
   "source": [
    "logger.log_value(\"data_shape\", list(X.shape))\n",
    "logger.log_value(\"target_shape\", list(y.shape))\n",
    "\n",
    "X.shape, y.shape"
   ]
  },
  {
   "cell_type": "code",
   "execution_count": 10,
   "id": "cd036af4",
   "metadata": {
    "execution": {
     "iopub.execute_input": "2022-12-14T06:42:44.424352Z",
     "iopub.status.busy": "2022-12-14T06:42:44.423827Z",
     "iopub.status.idle": "2022-12-14T06:42:44.433385Z",
     "shell.execute_reply": "2022-12-14T06:42:44.431731Z"
    },
    "papermill": {
     "duration": 0.014529,
     "end_time": "2022-12-14T06:42:44.434935",
     "exception": false,
     "start_time": "2022-12-14T06:42:44.420406",
     "status": "completed"
    },
    "tags": []
   },
   "outputs": [],
   "source": [
    "write_numpy(datalake_root(P) / \"raw\" / \"digits.numpy\", X)\n",
    "write_numpy(datalake_root(P) / \"raw\" / \"labels.numpy\", y)"
   ]
  },
  {
   "cell_type": "code",
   "execution_count": null,
   "id": "5f130ab0",
   "metadata": {
    "papermill": {
     "duration": 0.002618,
     "end_time": "2022-12-14T06:42:44.440967",
     "exception": false,
     "start_time": "2022-12-14T06:42:44.438349",
     "status": "completed"
    },
    "tags": []
   },
   "outputs": [],
   "source": []
  }
 ],
 "metadata": {
  "jupytext": {
   "cell_metadata_filter": "tags,-all",
   "main_language": "python",
   "notebook_metadata_filter": "-all"
  },
  "language_info": {
   "codemirror_mode": {
    "name": "ipython",
    "version": 3
   },
   "file_extension": ".py",
   "mimetype": "text/x-python",
   "name": "python",
   "nbconvert_exporter": "python",
   "pygments_lexer": "ipython3",
   "version": "3.8.10"
  },
  "papermill": {
   "default_parameters": {},
   "duration": 4.478228,
   "end_time": "2022-12-14T06:42:45.463399",
   "environment_variables": {},
   "exception": null,
   "input_path": "/home/host_user/workspace/mnist-demo-pipeline/mnist-demo-pipeline/notebooks/temp-notebook-omm85mpf.ipynb",
   "output_path": "notebooks/ingest.ipynb",
   "parameters": {
    "P": {
     "_opentelemetry_traceparent": "00-c27396a3280c91e4c63f8fc39a45671a-130ef5a0cf1d2246-01",
     "pipeline.data_lake_root": "/pipeline-outputs/data-lake",
     "pipeline.github.actor": "matiasdahl",
     "pipeline.github.base_ref": "",
     "pipeline.github.event_name": "schedule",
     "pipeline.github.head_ref": "",
     "pipeline.github.job": "run-tests-pipeline-and-persist-pipeline-outputs",
     "pipeline.github.ref": "refs/heads/development",
     "pipeline.github.ref_name": "development",
     "pipeline.github.ref_type": "branch",
     "pipeline.github.repository": "matiasdahl/dev-mnist-digits-demo-pipeline",
     "pipeline.github.run_id": "3692391613",
     "pipeline.github.runner_name": "Hosted Agent",
     "pipeline.github.sha": "ace0d01011d5e914f1921450dd5a59c11367b38d",
     "pipeline.github.workflow": "Run automated tests, pipeline and deploy results to static reporting site",
     "pipeline.pipeline_run_id": "0159318e-b312-4e65-9488-32edd10b3b52",
     "pipeline.run_environment": "ci",
     "run.retry_nr": "10",
     "task.max_nr_retries": "15",
     "task.notebook": "notebooks/ingest.py",
     "task.num_cpus": 1,
     "task.timeout_s": "10"
    }
   },
   "start_time": "2022-12-14T06:42:40.985171",
   "version": "2.3.3"
  }
 },
 "nbformat": 4,
 "nbformat_minor": 5
}