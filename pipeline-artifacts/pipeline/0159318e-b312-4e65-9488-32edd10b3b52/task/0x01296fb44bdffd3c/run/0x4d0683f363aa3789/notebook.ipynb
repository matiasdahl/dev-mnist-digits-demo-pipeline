{
 "cells": [
  {
   "cell_type": "markdown",
   "id": "de0f0436",
   "metadata": {
    "papermill": {
     "duration": 0.006838,
     "end_time": "2022-12-14T06:43:12.367290",
     "exception": false,
     "start_time": "2022-12-14T06:43:12.360452",
     "status": "completed"
    },
    "tags": []
   },
   "source": [
    "# Benchmark model\n",
    "\n",
    "The purpose of this notebook is to benchmark persisted onnx-model (trained in the\n",
    "previous step) against evaluation set."
   ]
  },
  {
   "cell_type": "markdown",
   "id": "f4e12314",
   "metadata": {
    "papermill": {
     "duration": 0.007074,
     "end_time": "2022-12-14T06:43:12.379460",
     "exception": false,
     "start_time": "2022-12-14T06:43:12.372386",
     "status": "completed"
    },
    "tags": []
   },
   "source": [
    "### Determine run parameters"
   ]
  },
  {
   "cell_type": "code",
   "execution_count": 1,
   "id": "a7435985",
   "metadata": {
    "execution": {
     "iopub.execute_input": "2022-12-14T06:43:12.391371Z",
     "iopub.status.busy": "2022-12-14T06:43:12.391041Z",
     "iopub.status.idle": "2022-12-14T06:43:12.400421Z",
     "shell.execute_reply": "2022-12-14T06:43:12.399721Z"
    },
    "lines_to_next_cell": 0,
    "papermill": {
     "duration": 0.017705,
     "end_time": "2022-12-14T06:43:12.402325",
     "exception": false,
     "start_time": "2022-12-14T06:43:12.384620",
     "status": "completed"
    },
    "tags": []
   },
   "outputs": [],
   "source": [
    "# ----------------- Parameters for interactive development --------------\n",
    "P = {\n",
    "    \"pipeline.data_lake_root\": \"/pipeline-outputs/data-lake\",\n",
    "    \"task.nr_train_images\": 600,\n",
    "}"
   ]
  },
  {
   "cell_type": "code",
   "execution_count": 2,
   "id": "ee341406",
   "metadata": {
    "execution": {
     "iopub.execute_input": "2022-12-14T06:43:12.413639Z",
     "iopub.status.busy": "2022-12-14T06:43:12.413390Z",
     "iopub.status.idle": "2022-12-14T06:43:12.416528Z",
     "shell.execute_reply": "2022-12-14T06:43:12.415972Z"
    },
    "lines_to_next_cell": 0,
    "papermill": {
     "duration": 0.012328,
     "end_time": "2022-12-14T06:43:12.419188",
     "exception": false,
     "start_time": "2022-12-14T06:43:12.406860",
     "status": "completed"
    },
    "tags": [
     "parameters"
    ]
   },
   "outputs": [],
   "source": [
    "# - During automated runs parameters will be injected in the below cell -"
   ]
  },
  {
   "cell_type": "code",
   "execution_count": 3,
   "id": "226939c3",
   "metadata": {
    "execution": {
     "iopub.execute_input": "2022-12-14T06:43:12.429452Z",
     "iopub.status.busy": "2022-12-14T06:43:12.429230Z",
     "iopub.status.idle": "2022-12-14T06:43:12.434252Z",
     "shell.execute_reply": "2022-12-14T06:43:12.433405Z"
    },
    "papermill": {
     "duration": 0.013083,
     "end_time": "2022-12-14T06:43:12.436895",
     "exception": false,
     "start_time": "2022-12-14T06:43:12.423812",
     "status": "completed"
    },
    "tags": [
     "injected-parameters"
    ]
   },
   "outputs": [],
   "source": [
    "# Parameters\n",
    "P = {\n",
    "    \"pipeline.data_lake_root\": \"/pipeline-outputs/data-lake\",\n",
    "    \"pipeline.run_environment\": \"ci\",\n",
    "    \"pipeline.pipeline_run_id\": \"0159318e-b312-4e65-9488-32edd10b3b52\",\n",
    "    \"pipeline.github.repository\": \"matiasdahl/dev-mnist-digits-demo-pipeline\",\n",
    "    \"pipeline.github.workflow\": \"Run automated tests, pipeline and deploy results to static reporting site\",\n",
    "    \"pipeline.github.runner_name\": \"Hosted Agent\",\n",
    "    \"pipeline.github.run_id\": \"3692391613\",\n",
    "    \"pipeline.github.actor\": \"matiasdahl\",\n",
    "    \"pipeline.github.job\": \"run-tests-pipeline-and-persist-pipeline-outputs\",\n",
    "    \"pipeline.github.base_ref\": \"\",\n",
    "    \"pipeline.github.head_ref\": \"\",\n",
    "    \"pipeline.github.sha\": \"ace0d01011d5e914f1921450dd5a59c11367b38d\",\n",
    "    \"pipeline.github.ref\": \"refs/heads/development\",\n",
    "    \"pipeline.github.ref_type\": \"branch\",\n",
    "    \"pipeline.github.ref_name\": \"development\",\n",
    "    \"pipeline.github.event_name\": \"schedule\",\n",
    "    \"task.nr_train_images\": 800,\n",
    "    \"task.notebook\": \"notebooks/benchmark-model.py\",\n",
    "    \"task.max_nr_retries\": \"1\",\n",
    "    \"run.retry_nr\": \"0\",\n",
    "    \"task.timeout_s\": \"None\",\n",
    "    \"task.num_cpus\": 1,\n",
    "    \"_opentelemetry_traceparent\": \"00-c27396a3280c91e4c63f8fc39a45671a-dd163a7d929d8281-01\",\n",
    "}\n"
   ]
  },
  {
   "cell_type": "code",
   "execution_count": 4,
   "id": "82fe5a30",
   "metadata": {
    "execution": {
     "iopub.execute_input": "2022-12-14T06:43:12.446646Z",
     "iopub.status.busy": "2022-12-14T06:43:12.446431Z",
     "iopub.status.idle": "2022-12-14T06:43:12.449086Z",
     "shell.execute_reply": "2022-12-14T06:43:12.448526Z"
    },
    "lines_to_next_cell": 0,
    "papermill": {
     "duration": 0.010437,
     "end_time": "2022-12-14T06:43:12.451924",
     "exception": false,
     "start_time": "2022-12-14T06:43:12.441487",
     "status": "completed"
    },
    "tags": []
   },
   "outputs": [],
   "source": [
    "# -----------------------------------------------------------------------"
   ]
  },
  {
   "cell_type": "markdown",
   "id": "db6cec46",
   "metadata": {
    "papermill": {
     "duration": 0.004119,
     "end_time": "2022-12-14T06:43:12.460608",
     "exception": false,
     "start_time": "2022-12-14T06:43:12.456489",
     "status": "completed"
    },
    "tags": []
   },
   "source": [
    "---"
   ]
  },
  {
   "cell_type": "markdown",
   "id": "3d4f79f7",
   "metadata": {
    "lines_to_next_cell": 2,
    "papermill": {
     "duration": 0.0039,
     "end_time": "2022-12-14T06:43:12.469176",
     "exception": false,
     "start_time": "2022-12-14T06:43:12.465276",
     "status": "completed"
    },
    "tags": []
   },
   "source": [
    "### Notebook code"
   ]
  },
  {
   "cell_type": "code",
   "execution_count": 5,
   "id": "8a023f72",
   "metadata": {
    "execution": {
     "iopub.execute_input": "2022-12-14T06:43:12.485673Z",
     "iopub.status.busy": "2022-12-14T06:43:12.485419Z",
     "iopub.status.idle": "2022-12-14T06:43:13.730838Z",
     "shell.execute_reply": "2022-12-14T06:43:13.730295Z"
    },
    "papermill": {
     "duration": 1.252523,
     "end_time": "2022-12-14T06:43:13.732609",
     "exception": false,
     "start_time": "2022-12-14T06:43:12.480086",
     "status": "completed"
    },
    "tags": []
   },
   "outputs": [
    {
     "name": "stderr",
     "output_type": "stream",
     "text": [
      "2022-12-14 06:43:13,478\tINFO worker.py:842 -- Connecting to existing Ray cluster at address: 172.17.0.2:6379\n"
     ]
    }
   ],
   "source": [
    "import itertools as it\n",
    "\n",
    "#\n",
    "import numpy as np\n",
    "import matplotlib.pyplot as plt\n",
    "\n",
    "#\n",
    "from pynb_dag_runner.tasks.task_opentelemetry_logging import PydarLogger\n",
    "\n",
    "#\n",
    "from common.io import datalake_root\n",
    "\n",
    "logger = PydarLogger(P)"
   ]
  },
  {
   "cell_type": "markdown",
   "id": "ece194a9",
   "metadata": {
    "papermill": {
     "duration": 0.004899,
     "end_time": "2022-12-14T06:43:13.742808",
     "exception": false,
     "start_time": "2022-12-14T06:43:13.737909",
     "status": "completed"
    },
    "tags": []
   },
   "source": [
    "## Load persisted onnx-model and evaluation data"
   ]
  },
  {
   "cell_type": "code",
   "execution_count": 6,
   "id": "2f2f5f45",
   "metadata": {
    "execution": {
     "iopub.execute_input": "2022-12-14T06:43:13.754849Z",
     "iopub.status.busy": "2022-12-14T06:43:13.754432Z",
     "iopub.status.idle": "2022-12-14T06:43:13.757736Z",
     "shell.execute_reply": "2022-12-14T06:43:13.757283Z"
    },
    "papermill": {
     "duration": 0.0115,
     "end_time": "2022-12-14T06:43:13.760714",
     "exception": false,
     "start_time": "2022-12-14T06:43:13.749214",
     "status": "completed"
    },
    "tags": []
   },
   "outputs": [],
   "source": [
    "from common.io import read_onnx, get_onnx_inputs, get_onnx_outputs, read_numpy"
   ]
  },
  {
   "cell_type": "code",
   "execution_count": 7,
   "id": "94d384dc",
   "metadata": {
    "execution": {
     "iopub.execute_input": "2022-12-14T06:43:13.771291Z",
     "iopub.status.busy": "2022-12-14T06:43:13.771083Z",
     "iopub.status.idle": "2022-12-14T06:43:13.783142Z",
     "shell.execute_reply": "2022-12-14T06:43:13.782405Z"
    },
    "lines_to_next_cell": 0,
    "papermill": {
     "duration": 0.020128,
     "end_time": "2022-12-14T06:43:13.784968",
     "exception": false,
     "start_time": "2022-12-14T06:43:13.764840",
     "status": "completed"
    },
    "tags": []
   },
   "outputs": [],
   "source": [
    "onnx_inference_session = read_onnx(\n",
    "    datalake_root(P)\n",
    "    / \"models\"\n",
    "    / f\"nr_train_images={P['task.nr_train_images']}\"\n",
    "    / \"model.onnx\"\n",
    ")"
   ]
  },
  {
   "cell_type": "markdown",
   "id": "224ca691",
   "metadata": {
    "papermill": {
     "duration": 0.003824,
     "end_time": "2022-12-14T06:43:13.795355",
     "exception": false,
     "start_time": "2022-12-14T06:43:13.791531",
     "status": "completed"
    },
    "tags": []
   },
   "source": [
    "### Record structure of inputs and outputs for ONNX model\n",
    "\n",
    "(this should likely be done in training notebook)"
   ]
  },
  {
   "cell_type": "code",
   "execution_count": 8,
   "id": "bfc02cba",
   "metadata": {
    "execution": {
     "iopub.execute_input": "2022-12-14T06:43:13.805187Z",
     "iopub.status.busy": "2022-12-14T06:43:13.804979Z",
     "iopub.status.idle": "2022-12-14T06:43:13.810735Z",
     "shell.execute_reply": "2022-12-14T06:43:13.810121Z"
    },
    "papermill": {
     "duration": 0.014434,
     "end_time": "2022-12-14T06:43:13.814606",
     "exception": false,
     "start_time": "2022-12-14T06:43:13.800172",
     "status": "completed"
    },
    "tags": []
   },
   "outputs": [
    {
     "name": "stdout",
     "output_type": "stream",
     "text": [
      "{\n",
      "  \"inputs\": [\n",
      "    {\n",
      "      \"name\": \"float_input_8x8_image\",\n",
      "      \"shape\": [\n",
      "        null,\n",
      "        64\n",
      "      ],\n",
      "      \"type\": \"tensor(float)\"\n",
      "    }\n",
      "  ],\n",
      "  \"outputs\": [\n",
      "    {\n",
      "      \"name\": \"output_label\",\n",
      "      \"shape\": [\n",
      "        null\n",
      "      ],\n",
      "      \"type\": \"tensor(int64)\"\n",
      "    },\n",
      "    {\n",
      "      \"name\": \"output_probability\",\n",
      "      \"shape\": [],\n",
      "      \"type\": \"seq(map(int64,tensor(float)))\"\n",
      "    }\n",
      "  ]\n",
      "}\n"
     ]
    }
   ],
   "source": [
    "import json\n",
    "\n",
    "onnx_io = json.dumps(\n",
    "    {\n",
    "        \"inputs\": get_onnx_inputs(onnx_inference_session),\n",
    "        \"outputs\": get_onnx_outputs(onnx_inference_session),\n",
    "    },\n",
    "    indent=2,\n",
    ")\n",
    "\n",
    "\n",
    "logger.log_artefact(\"onnx_io_structure.json\", onnx_io)\n",
    "print(onnx_io)"
   ]
  },
  {
   "cell_type": "markdown",
   "id": "d88ebd24",
   "metadata": {
    "papermill": {
     "duration": 0.003759,
     "end_time": "2022-12-14T06:43:13.825323",
     "exception": false,
     "start_time": "2022-12-14T06:43:13.821564",
     "status": "completed"
    },
    "tags": []
   },
   "source": [
    "### Evaluate model performance on evaluation data set"
   ]
  },
  {
   "cell_type": "code",
   "execution_count": 9,
   "id": "5d42fcf8",
   "metadata": {
    "execution": {
     "iopub.execute_input": "2022-12-14T06:43:13.836222Z",
     "iopub.status.busy": "2022-12-14T06:43:13.836002Z",
     "iopub.status.idle": "2022-12-14T06:43:13.840860Z",
     "shell.execute_reply": "2022-12-14T06:43:13.840055Z"
    },
    "papermill": {
     "duration": 0.012734,
     "end_time": "2022-12-14T06:43:13.843061",
     "exception": false,
     "start_time": "2022-12-14T06:43:13.830327",
     "status": "completed"
    },
    "tags": []
   },
   "outputs": [],
   "source": [
    "# load evaluation data\n",
    "X_test = read_numpy(datalake_root(P) / \"test-data\" / \"digits.numpy\")\n",
    "y_test = read_numpy(datalake_root(P) / \"test-data\" / \"labels.numpy\")"
   ]
  },
  {
   "cell_type": "code",
   "execution_count": 10,
   "id": "34ef5c50",
   "metadata": {
    "execution": {
     "iopub.execute_input": "2022-12-14T06:43:13.852631Z",
     "iopub.status.busy": "2022-12-14T06:43:13.852405Z",
     "iopub.status.idle": "2022-12-14T06:43:13.865514Z",
     "shell.execute_reply": "2022-12-14T06:43:13.864782Z"
    },
    "papermill": {
     "duration": 0.019697,
     "end_time": "2022-12-14T06:43:13.866733",
     "exception": false,
     "start_time": "2022-12-14T06:43:13.847036",
     "status": "completed"
    },
    "tags": []
   },
   "outputs": [],
   "source": [
    "def get_model_outputs(X, onnx_inference_session):\n",
    "    y_pred_labels, y_pred_map = onnx_inference_session.run(\n",
    "        [\"output_label\", \"output_probability\"],\n",
    "        {\"float_input_8x8_image\": X.astype(np.float32)},\n",
    "    )\n",
    "    y_pred_probs = np.array(\n",
    "        [[probabilities[digit] for digit in range(10)] for probabilities in y_pred_map]\n",
    "    )\n",
    "\n",
    "    assert y_pred_labels.shape == (X.shape[0],)\n",
    "    assert y_pred_probs.shape == (X.shape[0], 10)\n",
    "\n",
    "    return y_pred_labels, y_pred_probs\n",
    "\n",
    "\n",
    "# Note: as shown in the training notebook, the predicted labels and probabilities\n",
    "# computed below need not be compatible.\n",
    "y_pred_labels_test, y_pred_probs_test = get_model_outputs(\n",
    "    X_test, onnx_inference_session\n",
    ")"
   ]
  },
  {
   "cell_type": "markdown",
   "id": "bdbd642d",
   "metadata": {
    "papermill": {
     "duration": 0.004278,
     "end_time": "2022-12-14T06:43:13.875661",
     "exception": false,
     "start_time": "2022-12-14T06:43:13.871383",
     "status": "completed"
    },
    "tags": []
   },
   "source": [
    "### Confusion matrix"
   ]
  },
  {
   "cell_type": "code",
   "execution_count": 11,
   "id": "ca6b538b",
   "metadata": {
    "execution": {
     "iopub.execute_input": "2022-12-14T06:43:13.885615Z",
     "iopub.status.busy": "2022-12-14T06:43:13.885189Z",
     "iopub.status.idle": "2022-12-14T06:43:13.888896Z",
     "shell.execute_reply": "2022-12-14T06:43:13.888248Z"
    },
    "papermill": {
     "duration": 0.010618,
     "end_time": "2022-12-14T06:43:13.890860",
     "exception": false,
     "start_time": "2022-12-14T06:43:13.880242",
     "status": "completed"
    },
    "tags": []
   },
   "outputs": [],
   "source": [
    "# TODO"
   ]
  },
  {
   "cell_type": "markdown",
   "id": "f58ef934",
   "metadata": {
    "papermill": {
     "duration": 0.004809,
     "end_time": "2022-12-14T06:43:13.900491",
     "exception": false,
     "start_time": "2022-12-14T06:43:13.895682",
     "status": "completed"
    },
    "tags": []
   },
   "source": [
    "### Plot predicted probabilities for each classifier over all evaluation digit images"
   ]
  },
  {
   "cell_type": "code",
   "execution_count": 12,
   "id": "fe6ba8d8",
   "metadata": {
    "execution": {
     "iopub.execute_input": "2022-12-14T06:43:13.910590Z",
     "iopub.status.busy": "2022-12-14T06:43:13.909852Z",
     "iopub.status.idle": "2022-12-14T06:43:17.642275Z",
     "shell.execute_reply": "2022-12-14T06:43:17.641640Z"
    },
    "papermill": {
     "duration": 3.739819,
     "end_time": "2022-12-14T06:43:17.644601",
     "exception": false,
     "start_time": "2022-12-14T06:43:13.904782",
     "status": "completed"
    },
    "tags": []
   },
   "outputs": [
    {
     "data": {
      "image/png": "[encoded data removed]",
      "text/plain": [
       "<Figure size 1600x600 with 10 Axes>"
      ]
     },
     "metadata": {},
     "output_type": "display_data"
    }
   ],
   "source": [
    "def plot_per_digit_probabilities(y_pred_probs):\n",
    "    fig, axs = plt.subplots(nrows=2, ncols=5, figsize=(16, 6))\n",
    "\n",
    "    for (r, c), digit, ax in zip(\n",
    "        it.product(range(2), range(5)), range(10), axs.reshape(-1)\n",
    "    ):\n",
    "        ax.hist(y_pred_probs_test[:, digit], bins=20)\n",
    "\n",
    "        ax.set_title(f\"Digit {digit}\")\n",
    "        if r == 1 and c == 2:\n",
    "            ax.set_xlabel(\"probability\", fontsize=16)\n",
    "\n",
    "        if c == 0:\n",
    "            ax.set_ylabel(\"counts\", fontsize=16)\n",
    "        ax.set_yscale(\"log\")\n",
    "\n",
    "    fig.tight_layout()\n",
    "    fig.suptitle(\n",
    "        f\"Distributions of prediction probabilities for each digit \"\n",
    "        f\"(on evaluation data, n={y_pred_probs.shape[0]})\",\n",
    "        fontsize=20,\n",
    "    )\n",
    "    fig.tight_layout()\n",
    "    fig.show()\n",
    "\n",
    "    return fig\n",
    "\n",
    "\n",
    "fig = plot_per_digit_probabilities(y_pred_probs_test)"
   ]
  },
  {
   "cell_type": "markdown",
   "id": "5dd204d2",
   "metadata": {
    "papermill": {
     "duration": 0.005493,
     "end_time": "2022-12-14T06:43:17.655001",
     "exception": false,
     "start_time": "2022-12-14T06:43:17.649508",
     "status": "completed"
    },
    "tags": []
   },
   "source": [
    "From the above distributions we see that most digits have clear separation between\n",
    "high and lower probabilities. Morover, in each case there is roughly an order of\n",
    "magnitude more of digits with low probabilities. This is compatible with digits\n",
    "being roughly evenly distributed in the data."
   ]
  },
  {
   "cell_type": "code",
   "execution_count": 13,
   "id": "57559f92",
   "metadata": {
    "execution": {
     "iopub.execute_input": "2022-12-14T06:43:17.666124Z",
     "iopub.status.busy": "2022-12-14T06:43:17.665869Z",
     "iopub.status.idle": "2022-12-14T06:43:18.113138Z",
     "shell.execute_reply": "2022-12-14T06:43:18.111864Z"
    },
    "papermill": {
     "duration": 0.458304,
     "end_time": "2022-12-14T06:43:18.118021",
     "exception": false,
     "start_time": "2022-12-14T06:43:17.659717",
     "status": "completed"
    },
    "tags": []
   },
   "outputs": [],
   "source": [
    "logger.log_figure(\"per-digit-probabilities.png\", fig)"
   ]
  },
  {
   "cell_type": "markdown",
   "id": "47480386",
   "metadata": {
    "papermill": {
     "duration": 0.005953,
     "end_time": "2022-12-14T06:43:18.132511",
     "exception": false,
     "start_time": "2022-12-14T06:43:18.126558",
     "status": "completed"
    },
    "tags": []
   },
   "source": [
    "### Plot ROC curves for individual one-vs-rest classifiers"
   ]
  },
  {
   "cell_type": "code",
   "execution_count": 14,
   "id": "7824b731",
   "metadata": {
    "execution": {
     "iopub.execute_input": "2022-12-14T06:43:18.147301Z",
     "iopub.status.busy": "2022-12-14T06:43:18.146985Z",
     "iopub.status.idle": "2022-12-14T06:43:18.545648Z",
     "shell.execute_reply": "2022-12-14T06:43:18.544790Z"
    },
    "papermill": {
     "duration": 0.408588,
     "end_time": "2022-12-14T06:43:18.547743",
     "exception": false,
     "start_time": "2022-12-14T06:43:18.139155",
     "status": "completed"
    },
    "tags": []
   },
   "outputs": [],
   "source": [
    "from sklearn import metrics"
   ]
  },
  {
   "cell_type": "code",
   "execution_count": 15,
   "id": "66bf4629",
   "metadata": {
    "execution": {
     "iopub.execute_input": "2022-12-14T06:43:18.561569Z",
     "iopub.status.busy": "2022-12-14T06:43:18.561177Z",
     "iopub.status.idle": "2022-12-14T06:43:19.900629Z",
     "shell.execute_reply": "2022-12-14T06:43:19.899879Z"
    },
    "papermill": {
     "duration": 1.349021,
     "end_time": "2022-12-14T06:43:19.903253",
     "exception": false,
     "start_time": "2022-12-14T06:43:18.554232",
     "status": "completed"
    },
    "tags": []
   },
   "outputs": [
    {
     "data": {
      "image/png": "[encoded data removed]",
      "text/plain": [
       "<Figure size 1600x800 with 10 Axes>"
      ]
     },
     "metadata": {},
     "output_type": "display_data"
    }
   ],
   "source": [
    "def plot_roc_curves(y, y_pred_probs):\n",
    "    # based on example code\n",
    "    # https://scikit-learn.org/stable/auto_examples/model_selection/plot_roc.html\n",
    "\n",
    "    fig, axs = plt.subplots(nrows=2, ncols=5, figsize=(16, 8))\n",
    "\n",
    "    roc_auc_dict = {}\n",
    "\n",
    "    for (r, c), digit, ax in zip(\n",
    "        it.product(range(2), range(5)), range(10), axs.reshape(-1)\n",
    "    ):\n",
    "        fpr, tpr, _ = metrics.roc_curve(y == digit, y_pred_probs[:, digit])\n",
    "        auc = metrics.auc(fpr, tpr)\n",
    "        roc_auc_dict[str(digit)] = auc\n",
    "\n",
    "        ax.plot(fpr, tpr, label=f\"ROC AUC={round(auc, 3)}\")\n",
    "\n",
    "        ax.set_title(f\"\\nDigit {digit}\", fontsize=16)\n",
    "        if r == 1:\n",
    "            ax.set_xlabel(\"FPR\", fontsize=18)\n",
    "\n",
    "        if c == 0:\n",
    "            ax.set_ylabel(\"TPR\", fontsize=18)\n",
    "\n",
    "        ax.set_xlim([-0.05, 1.05])\n",
    "        ax.set_ylim([-0.05, 1.05])\n",
    "        ax.legend(loc=\"lower right\", frameon=False, fontsize=14)\n",
    "\n",
    "    fig.tight_layout()\n",
    "    fig.suptitle(\n",
    "        f\"ROC plots for one-vs-rest performances \"\n",
    "        f\"(on evaluation data, n={y_pred_probs_test.shape[1]}\",\n",
    "        fontsize=22,\n",
    "    )\n",
    "    fig.tight_layout()\n",
    "    fig.show()\n",
    "\n",
    "    return roc_auc_dict, fig\n",
    "\n",
    "\n",
    "roc_auc_dict, fig = plot_roc_curves(y_test, y_pred_probs_test)"
   ]
  },
  {
   "cell_type": "code",
   "execution_count": 16,
   "id": "dbbfc0c2",
   "metadata": {
    "execution": {
     "iopub.execute_input": "2022-12-14T06:43:19.918659Z",
     "iopub.status.busy": "2022-12-14T06:43:19.918411Z",
     "iopub.status.idle": "2022-12-14T06:43:20.218760Z",
     "shell.execute_reply": "2022-12-14T06:43:20.218105Z"
    },
    "papermill": {
     "duration": 0.311174,
     "end_time": "2022-12-14T06:43:20.221759",
     "exception": false,
     "start_time": "2022-12-14T06:43:19.910585",
     "status": "completed"
    },
    "tags": []
   },
   "outputs": [],
   "source": [
    "logger.log_figure(\"per-digit-roc-curves.png\", fig)"
   ]
  },
  {
   "cell_type": "code",
   "execution_count": 17,
   "id": "0890d967",
   "metadata": {
    "execution": {
     "iopub.execute_input": "2022-12-14T06:43:20.239382Z",
     "iopub.status.busy": "2022-12-14T06:43:20.239120Z",
     "iopub.status.idle": "2022-12-14T06:43:20.244059Z",
     "shell.execute_reply": "2022-12-14T06:43:20.243479Z"
    },
    "papermill": {
     "duration": 0.015867,
     "end_time": "2022-12-14T06:43:20.247615",
     "exception": false,
     "start_time": "2022-12-14T06:43:20.231748",
     "status": "completed"
    },
    "tags": []
   },
   "outputs": [
    {
     "data": {
      "text/plain": [
       "{'0': 1.0,\n",
       " '1': 0.9988003748828491,\n",
       " '2': 1.0,\n",
       " '3': 0.9997750702905343,\n",
       " '4': 0.9994665447340345,\n",
       " '5': 0.998950328022493,\n",
       " '6': 0.999961896052431,\n",
       " '7': 0.9998856881572931,\n",
       " '8': 0.9928672761664565,\n",
       " '9': 0.9994284407864654}"
      ]
     },
     "execution_count": 17,
     "metadata": {},
     "output_type": "execute_result"
    }
   ],
   "source": [
    "roc_auc_dict"
   ]
  },
  {
   "cell_type": "code",
   "execution_count": 18,
   "id": "2b305464",
   "metadata": {
    "execution": {
     "iopub.execute_input": "2022-12-14T06:43:20.262078Z",
     "iopub.status.busy": "2022-12-14T06:43:20.261806Z",
     "iopub.status.idle": "2022-12-14T06:43:20.266292Z",
     "shell.execute_reply": "2022-12-14T06:43:20.265735Z"
    },
    "papermill": {
     "duration": 0.016632,
     "end_time": "2022-12-14T06:43:20.271116",
     "exception": false,
     "start_time": "2022-12-14T06:43:20.254484",
     "status": "completed"
    },
    "tags": []
   },
   "outputs": [
    {
     "name": "stdout",
     "output_type": "stream",
     "text": [
      " - Logging roc_auc_per_digit (json) : {'0': 1.0, '1': 0.9988003748828491, '2': 1.0, '3': 0.9997750702905343, '4': 0.9994665447340345, '5': 0.998950328022493, '6': 0.999961896052431, '7': 0.9998856881572931, '8': 0.9928672761664565, '9': 0.9994284407864654}\n"
     ]
    }
   ],
   "source": [
    "logger.log_value(\"roc_auc_per_digit\", roc_auc_dict)"
   ]
  },
  {
   "cell_type": "markdown",
   "id": "269ebfbf",
   "metadata": {
    "papermill": {
     "duration": 0.007315,
     "end_time": "2022-12-14T06:43:20.286073",
     "exception": false,
     "start_time": "2022-12-14T06:43:20.278758",
     "status": "completed"
    },
    "tags": []
   },
   "source": [
    "### Compute and log mean ROC AUC score averaged over all digits"
   ]
  },
  {
   "cell_type": "code",
   "execution_count": 19,
   "id": "24bfb032",
   "metadata": {
    "execution": {
     "iopub.execute_input": "2022-12-14T06:43:20.301252Z",
     "iopub.status.busy": "2022-12-14T06:43:20.300562Z",
     "iopub.status.idle": "2022-12-14T06:43:20.313601Z",
     "shell.execute_reply": "2022-12-14T06:43:20.312945Z"
    },
    "papermill": {
     "duration": 0.0228,
     "end_time": "2022-12-14T06:43:20.315748",
     "exception": false,
     "start_time": "2022-12-14T06:43:20.292948",
     "status": "completed"
    },
    "tags": []
   },
   "outputs": [
    {
     "name": "stdout",
     "output_type": "stream",
     "text": [
      " - Logging roc_auc_class_mean (float) : 0.9989135619092556\n"
     ]
    }
   ],
   "source": [
    "roc_auc_macro = np.mean(list(roc_auc_dict.values()))\n",
    "\n",
    "logger.log_float(\"roc_auc_class_mean\", roc_auc_macro)\n",
    "\n",
    "# assert that the same value can be computed directly using sklearn\n",
    "assert roc_auc_macro == metrics.roc_auc_score(\n",
    "    y_test, y_pred_probs_test, average=\"macro\", multi_class=\"ovr\"\n",
    ")"
   ]
  },
  {
   "cell_type": "code",
   "execution_count": 20,
   "id": "99278000",
   "metadata": {
    "execution": {
     "iopub.execute_input": "2022-12-14T06:43:20.330965Z",
     "iopub.status.busy": "2022-12-14T06:43:20.330647Z",
     "iopub.status.idle": "2022-12-14T06:43:20.338291Z",
     "shell.execute_reply": "2022-12-14T06:43:20.337771Z"
    },
    "lines_to_next_cell": 0,
    "papermill": {
     "duration": 0.01711,
     "end_time": "2022-12-14T06:43:20.340013",
     "exception": false,
     "start_time": "2022-12-14T06:43:20.322903",
     "status": "completed"
    },
    "tags": []
   },
   "outputs": [],
   "source": [
    "# ---"
   ]
  },
  {
   "cell_type": "code",
   "execution_count": null,
   "id": "04a2bfe9",
   "metadata": {
    "papermill": {
     "duration": 0.00755,
     "end_time": "2022-12-14T06:43:20.361287",
     "exception": false,
     "start_time": "2022-12-14T06:43:20.353737",
     "status": "completed"
    },
    "tags": []
   },
   "outputs": [],
   "source": []
  }
 ],
 "metadata": {
  "jupytext": {
   "cell_metadata_filter": "tags,-all",
   "main_language": "python",
   "notebook_metadata_filter": "-all"
  },
  "language_info": {
   "codemirror_mode": {
    "name": "ipython",
    "version": 3
   },
   "file_extension": ".py",
   "mimetype": "text/x-python",
   "name": "python",
   "nbconvert_exporter": "python",
   "pygments_lexer": "ipython3",
   "version": "3.8.10"
  },
  "papermill": {
   "default_parameters": {},
   "duration": 10.468249,
   "end_time": "2022-12-14T06:43:21.590644",
   "environment_variables": {},
   "exception": null,
   "input_path": "/home/host_user/workspace/mnist-demo-pipeline/mnist-demo-pipeline/notebooks/temp-notebook-c9u9_emh.ipynb",
   "output_path": "notebooks/benchmark-model.ipynb",
   "parameters": {
    "P": {
     "_opentelemetry_traceparent": "00-c27396a3280c91e4c63f8fc39a45671a-dd163a7d929d8281-01",
     "pipeline.data_lake_root": "/pipeline-outputs/data-lake",
     "pipeline.github.actor": "matiasdahl",
     "pipeline.github.base_ref": "",
     "pipeline.github.event_name": "schedule",
     "pipeline.github.head_ref": "",
     "pipeline.github.job": "run-tests-pipeline-and-persist-pipeline-outputs",
     "pipeline.github.ref": "refs/heads/development",
     "pipeline.github.ref_name": "development",
     "pipeline.github.ref_type": "branch",
     "pipeline.github.repository": "matiasdahl/dev-mnist-digits-demo-pipeline",
     "pipeline.github.run_id": "3692391613",
     "pipeline.github.runner_name": "Hosted Agent",
     "pipeline.github.sha": "ace0d01011d5e914f1921450dd5a59c11367b38d",
     "pipeline.github.workflow": "Run automated tests, pipeline and deploy results to static reporting site",
     "pipeline.pipeline_run_id": "0159318e-b312-4e65-9488-32edd10b3b52",
     "pipeline.run_environment": "ci",
     "run.retry_nr": "0",
     "task.max_nr_retries": "1",
     "task.notebook": "notebooks/benchmark-model.py",
     "task.nr_train_images": 800,
     "task.num_cpus": 1,
     "task.timeout_s": "None"
    }
   },
   "start_time": "2022-12-14T06:43:11.122395",
   "version": "2.3.3"
  }
 },
 "nbformat": 4,
 "nbformat_minor": 5
}