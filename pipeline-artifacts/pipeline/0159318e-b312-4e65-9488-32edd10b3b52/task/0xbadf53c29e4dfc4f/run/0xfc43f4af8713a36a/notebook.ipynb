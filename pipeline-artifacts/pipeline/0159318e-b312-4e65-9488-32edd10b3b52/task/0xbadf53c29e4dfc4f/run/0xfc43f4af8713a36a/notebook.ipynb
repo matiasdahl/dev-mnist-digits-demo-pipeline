{
 "cells": [
  {
   "cell_type": "markdown",
   "id": "ef1da582",
   "metadata": {
    "papermill": {
     "duration": 0.003894,
     "end_time": "2022-12-14T06:43:34.917968",
     "exception": false,
     "start_time": "2022-12-14T06:43:34.914074",
     "status": "completed"
    },
    "tags": []
   },
   "source": [
    "# Summarize model performances\n",
    "\n",
    "This notebooks plots the performances (using averaged ROC AUC scores) for models\n",
    "trained with different training sets."
   ]
  },
  {
   "cell_type": "markdown",
   "id": "9ffdf773",
   "metadata": {
    "papermill": {
     "duration": 0.002329,
     "end_time": "2022-12-14T06:43:34.923753",
     "exception": false,
     "start_time": "2022-12-14T06:43:34.921424",
     "status": "completed"
    },
    "tags": []
   },
   "source": [
    "### Determine run parameters"
   ]
  },
  {
   "cell_type": "code",
   "execution_count": 1,
   "id": "57eb117c",
   "metadata": {
    "execution": {
     "iopub.execute_input": "2022-12-14T06:43:34.930988Z",
     "iopub.status.busy": "2022-12-14T06:43:34.930547Z",
     "iopub.status.idle": "2022-12-14T06:43:34.937777Z",
     "shell.execute_reply": "2022-12-14T06:43:34.937144Z"
    },
    "lines_to_next_cell": 0,
    "papermill": {
     "duration": 0.012956,
     "end_time": "2022-12-14T06:43:34.939322",
     "exception": false,
     "start_time": "2022-12-14T06:43:34.926366",
     "status": "completed"
    },
    "tags": []
   },
   "outputs": [],
   "source": [
    "# ----------------- Parameters for interactive development --------------\n",
    "P = {\n",
    "    \"pipeline.run_environment\": \"dev\",\n",
    "}"
   ]
  },
  {
   "cell_type": "code",
   "execution_count": 2,
   "id": "2d02085e",
   "metadata": {
    "execution": {
     "iopub.execute_input": "2022-12-14T06:43:34.945887Z",
     "iopub.status.busy": "2022-12-14T06:43:34.945417Z",
     "iopub.status.idle": "2022-12-14T06:43:34.948709Z",
     "shell.execute_reply": "2022-12-14T06:43:34.948113Z"
    },
    "lines_to_next_cell": 0,
    "papermill": {
     "duration": 0.008472,
     "end_time": "2022-12-14T06:43:34.950586",
     "exception": false,
     "start_time": "2022-12-14T06:43:34.942114",
     "status": "completed"
    },
    "tags": [
     "parameters"
    ]
   },
   "outputs": [],
   "source": [
    "# - During automated runs parameters will be injected in the below cell -"
   ]
  },
  {
   "cell_type": "code",
   "execution_count": 3,
   "id": "6c10a164",
   "metadata": {
    "execution": {
     "iopub.execute_input": "2022-12-14T06:43:34.957483Z",
     "iopub.status.busy": "2022-12-14T06:43:34.957243Z",
     "iopub.status.idle": "2022-12-14T06:43:34.962633Z",
     "shell.execute_reply": "2022-12-14T06:43:34.962022Z"
    },
    "papermill": {
     "duration": 0.010957,
     "end_time": "2022-12-14T06:43:34.964318",
     "exception": false,
     "start_time": "2022-12-14T06:43:34.953361",
     "status": "completed"
    },
    "tags": [
     "injected-parameters"
    ]
   },
   "outputs": [],
   "source": [
    "# Parameters\n",
    "P = {\n",
    "    \"pipeline.data_lake_root\": \"/pipeline-outputs/data-lake\",\n",
    "    \"pipeline.run_environment\": \"ci\",\n",
    "    \"pipeline.pipeline_run_id\": \"0159318e-b312-4e65-9488-32edd10b3b52\",\n",
    "    \"pipeline.github.repository\": \"matiasdahl/dev-mnist-digits-demo-pipeline\",\n",
    "    \"pipeline.github.workflow\": \"Run automated tests, pipeline and deploy results to static reporting site\",\n",
    "    \"pipeline.github.runner_name\": \"Hosted Agent\",\n",
    "    \"pipeline.github.run_id\": \"3692391613\",\n",
    "    \"pipeline.github.actor\": \"matiasdahl\",\n",
    "    \"pipeline.github.job\": \"run-tests-pipeline-and-persist-pipeline-outputs\",\n",
    "    \"pipeline.github.base_ref\": \"\",\n",
    "    \"pipeline.github.head_ref\": \"\",\n",
    "    \"pipeline.github.sha\": \"ace0d01011d5e914f1921450dd5a59c11367b38d\",\n",
    "    \"pipeline.github.ref\": \"refs/heads/development\",\n",
    "    \"pipeline.github.ref_type\": \"branch\",\n",
    "    \"pipeline.github.ref_name\": \"development\",\n",
    "    \"pipeline.github.event_name\": \"schedule\",\n",
    "    \"task.notebook\": \"notebooks/summary.py\",\n",
    "    \"task.max_nr_retries\": \"1\",\n",
    "    \"run.retry_nr\": \"0\",\n",
    "    \"task.timeout_s\": \"None\",\n",
    "    \"task.num_cpus\": 1,\n",
    "    \"_opentelemetry_traceparent\": \"00-c27396a3280c91e4c63f8fc39a45671a-6138dc7dc81bfb50-01\",\n",
    "}\n"
   ]
  },
  {
   "cell_type": "code",
   "execution_count": 4,
   "id": "1e2515f3",
   "metadata": {
    "execution": {
     "iopub.execute_input": "2022-12-14T06:43:34.971143Z",
     "iopub.status.busy": "2022-12-14T06:43:34.970549Z",
     "iopub.status.idle": "2022-12-14T06:43:34.974429Z",
     "shell.execute_reply": "2022-12-14T06:43:34.973885Z"
    },
    "lines_to_next_cell": 0,
    "papermill": {
     "duration": 0.009427,
     "end_time": "2022-12-14T06:43:34.976420",
     "exception": false,
     "start_time": "2022-12-14T06:43:34.966993",
     "status": "completed"
    },
    "tags": []
   },
   "outputs": [],
   "source": [
    "# -----------------------------------------------------------------------"
   ]
  },
  {
   "cell_type": "markdown",
   "id": "87616de3",
   "metadata": {
    "papermill": {
     "duration": 0.003258,
     "end_time": "2022-12-14T06:43:34.982437",
     "exception": false,
     "start_time": "2022-12-14T06:43:34.979179",
     "status": "completed"
    },
    "tags": []
   },
   "source": [
    "---"
   ]
  },
  {
   "cell_type": "markdown",
   "id": "e9163924",
   "metadata": {
    "lines_to_next_cell": 2,
    "papermill": {
     "duration": 0.002964,
     "end_time": "2022-12-14T06:43:34.988036",
     "exception": false,
     "start_time": "2022-12-14T06:43:34.985072",
     "status": "completed"
    },
    "tags": []
   },
   "source": [
    "### Notebook code"
   ]
  },
  {
   "cell_type": "code",
   "execution_count": 5,
   "id": "c3a33aae",
   "metadata": {
    "execution": {
     "iopub.execute_input": "2022-12-14T06:43:34.996492Z",
     "iopub.status.busy": "2022-12-14T06:43:34.995907Z",
     "iopub.status.idle": "2022-12-14T06:43:36.066196Z",
     "shell.execute_reply": "2022-12-14T06:43:36.065263Z"
    },
    "papermill": {
     "duration": 1.075887,
     "end_time": "2022-12-14T06:43:36.068413",
     "exception": false,
     "start_time": "2022-12-14T06:43:34.992526",
     "status": "completed"
    },
    "tags": []
   },
   "outputs": [],
   "source": [
    "#\n",
    "import pandas as pd\n",
    "import matplotlib.pyplot as plt\n",
    "\n",
    "#\n",
    "from pynb_dag_runner.tasks.task_opentelemetry_logging import PydarLogger"
   ]
  },
  {
   "cell_type": "code",
   "execution_count": 6,
   "id": "3d151165",
   "metadata": {
    "execution": {
     "iopub.execute_input": "2022-12-14T06:43:36.076064Z",
     "iopub.status.busy": "2022-12-14T06:43:36.075560Z",
     "iopub.status.idle": "2022-12-14T06:43:36.233299Z",
     "shell.execute_reply": "2022-12-14T06:43:36.232308Z"
    },
    "papermill": {
     "duration": 0.164006,
     "end_time": "2022-12-14T06:43:36.235404",
     "exception": false,
     "start_time": "2022-12-14T06:43:36.071398",
     "status": "completed"
    },
    "tags": []
   },
   "outputs": [
    {
     "name": "stderr",
     "output_type": "stream",
     "text": [
      "2022-12-14 06:43:36,079\tINFO worker.py:842 -- Connecting to existing Ray cluster at address: 172.17.0.2:6379\n"
     ]
    }
   ],
   "source": [
    "logger = PydarLogger(P=P)"
   ]
  },
  {
   "cell_type": "code",
   "execution_count": 7,
   "id": "03a5b4c8",
   "metadata": {
    "execution": {
     "iopub.execute_input": "2022-12-14T06:43:36.243605Z",
     "iopub.status.busy": "2022-12-14T06:43:36.243168Z",
     "iopub.status.idle": "2022-12-14T06:43:36.246538Z",
     "shell.execute_reply": "2022-12-14T06:43:36.245950Z"
    },
    "papermill": {
     "duration": 0.00923,
     "end_time": "2022-12-14T06:43:36.248382",
     "exception": false,
     "start_time": "2022-12-14T06:43:36.239152",
     "status": "completed"
    },
    "tags": []
   },
   "outputs": [],
   "source": [
    "from pynb_dag_runner.tasks.task_opentelemetry_logging import (\n",
    "    PydarLogger,\n",
    "    get_logged_values,\n",
    ")\n",
    "from pynb_dag_runner.opentelemetry_helpers import _get_all_spans, Spans"
   ]
  },
  {
   "cell_type": "code",
   "execution_count": 8,
   "id": "5b0eabcd",
   "metadata": {
    "execution": {
     "iopub.execute_input": "2022-12-14T06:43:36.254891Z",
     "iopub.status.busy": "2022-12-14T06:43:36.254288Z",
     "iopub.status.idle": "2022-12-14T06:43:36.261595Z",
     "shell.execute_reply": "2022-12-14T06:43:36.260877Z"
    },
    "papermill": {
     "duration": 0.011689,
     "end_time": "2022-12-14T06:43:36.262778",
     "exception": false,
     "start_time": "2022-12-14T06:43:36.251089",
     "status": "completed"
    },
    "tags": []
   },
   "outputs": [],
   "source": [
    "def get_model_benchmarks():\n",
    "    \"\"\"\n",
    "    Query the OpenTelemetry logs for *this pipeline run* and return\n",
    "    all key-values logged from all runs of the benchmark-model.py task\n",
    "\n",
    "    For testing a json file with OpenTelemetry spans (as an array)\n",
    "    can be used as follows:\n",
    "\n",
    "    - Create output directory `mkdir /tmp/spans`\n",
    "    - Run unit tests. This will create pipeline-outputs/opentelemetry-spans.json\n",
    "    - Convert this json-array into jsonl format as follows\n",
    "\n",
    "    jq -c '.[]' /pipeline-outputs/opentelemetry-spans.json > /tmp/spans/data.txt\n",
    "\n",
    "    \"\"\"\n",
    "    spans: Spans = Spans(_get_all_spans())\n",
    "    print(f\"Found {len(spans)} spans\")\n",
    "\n",
    "    benchmark_spans = (\n",
    "        spans\n",
    "        # -\n",
    "        .filter([\"name\"], \"execute-task\")\n",
    "        # -\n",
    "        .filter([\"attributes\", \"task.notebook\"], \"notebooks/benchmark-model.py\")\n",
    "    )\n",
    "\n",
    "    result = []\n",
    "    for s in benchmark_spans:\n",
    "        result.append(\n",
    "            {\n",
    "                \"span_id\": s[\"context\"][\"span_id\"],\n",
    "                \"nr_train_images\": s[\"attributes\"][\"task.nr_train_images\"],\n",
    "                \"data\": get_logged_values(spans.bound_under(s)),\n",
    "            }\n",
    "        )\n",
    "\n",
    "    return result\n",
    "\n",
    "\n",
    "def adjust_pandas(df):\n",
    "    def column_renamer(col_name: str) -> str:\n",
    "        return (\n",
    "            col_name\n",
    "            # -- 'data.roc_auc_per_digit.4' -> 'roc_auc.4'\n",
    "            .replace(\"data.roc_auc_per_digit\", \"roc_auc\")\n",
    "            # -- 'data.roc_auc_class_mean' -> 'roc_auc_mean'\n",
    "            .replace(\"data.roc_auc_class_mean\", \"roc_auc_mean\")\n",
    "        )\n",
    "\n",
    "    return df.rename(column_renamer, axis=\"columns\").sort_values(by=\"nr_train_images\")"
   ]
  },
  {
   "cell_type": "code",
   "execution_count": 9,
   "id": "0cbef747",
   "metadata": {
    "execution": {
     "iopub.execute_input": "2022-12-14T06:43:36.269224Z",
     "iopub.status.busy": "2022-12-14T06:43:36.268577Z",
     "iopub.status.idle": "2022-12-14T06:43:36.316130Z",
     "shell.execute_reply": "2022-12-14T06:43:36.315471Z"
    },
    "papermill": {
     "duration": 0.053201,
     "end_time": "2022-12-14T06:43:36.318353",
     "exception": false,
     "start_time": "2022-12-14T06:43:36.265152",
     "status": "completed"
    },
    "tags": []
   },
   "outputs": [
    {
     "name": "stdout",
     "output_type": "stream",
     "text": [
      "Found 414 spans\n"
     ]
    }
   ],
   "source": [
    "df_data = adjust_pandas(pd.json_normalize(get_model_benchmarks()))"
   ]
  },
  {
   "cell_type": "code",
   "execution_count": 10,
   "id": "09c78308",
   "metadata": {
    "execution": {
     "iopub.execute_input": "2022-12-14T06:43:36.327114Z",
     "iopub.status.busy": "2022-12-14T06:43:36.326557Z",
     "iopub.status.idle": "2022-12-14T06:43:36.361101Z",
     "shell.execute_reply": "2022-12-14T06:43:36.360419Z"
    },
    "papermill": {
     "duration": 0.040749,
     "end_time": "2022-12-14T06:43:36.363140",
     "exception": false,
     "start_time": "2022-12-14T06:43:36.322391",
     "status": "completed"
    },
    "tags": []
   },
   "outputs": [
    {
     "data": {
      "text/html": [
       "<div>\n",
       "<style scoped>\n",
       "    .dataframe tbody tr th:only-of-type {\n",
       "        vertical-align: middle;\n",
       "    }\n",
       "\n",
       "    .dataframe tbody tr th {\n",
       "        vertical-align: top;\n",
       "    }\n",
       "\n",
       "    .dataframe thead th {\n",
       "        text-align: right;\n",
       "    }\n",
       "</style>\n",
       "<table border=\"1\" class=\"dataframe\">\n",
       "  <thead>\n",
       "    <tr style=\"text-align: right;\">\n",
       "      <th></th>\n",
       "      <th>span_id</th>\n",
       "      <th>nr_train_images</th>\n",
       "      <th>roc_auc_mean</th>\n",
       "      <th>roc_auc.0</th>\n",
       "      <th>roc_auc.1</th>\n",
       "      <th>roc_auc.2</th>\n",
       "      <th>roc_auc.3</th>\n",
       "      <th>roc_auc.4</th>\n",
       "      <th>roc_auc.5</th>\n",
       "      <th>roc_auc.6</th>\n",
       "      <th>roc_auc.7</th>\n",
       "      <th>roc_auc.8</th>\n",
       "      <th>roc_auc.9</th>\n",
       "    </tr>\n",
       "  </thead>\n",
       "  <tbody>\n",
       "    <tr>\n",
       "      <th>0</th>\n",
       "      <td>0x1cbd653802cc8b1f</td>\n",
       "      <td>600</td>\n",
       "      <td>0.9990</td>\n",
       "      <td>1.0</td>\n",
       "      <td>0.9992</td>\n",
       "      <td>1.0</td>\n",
       "      <td>0.9999</td>\n",
       "      <td>0.9991</td>\n",
       "      <td>0.9989</td>\n",
       "      <td>0.9999</td>\n",
       "      <td>0.9998</td>\n",
       "      <td>0.9943</td>\n",
       "      <td>0.9987</td>\n",
       "    </tr>\n",
       "    <tr>\n",
       "      <th>3</th>\n",
       "      <td>0x01296fb44bdffd3c</td>\n",
       "      <td>800</td>\n",
       "      <td>0.9989</td>\n",
       "      <td>1.0</td>\n",
       "      <td>0.9988</td>\n",
       "      <td>1.0</td>\n",
       "      <td>0.9998</td>\n",
       "      <td>0.9995</td>\n",
       "      <td>0.9990</td>\n",
       "      <td>1.0000</td>\n",
       "      <td>0.9999</td>\n",
       "      <td>0.9929</td>\n",
       "      <td>0.9994</td>\n",
       "    </tr>\n",
       "    <tr>\n",
       "      <th>2</th>\n",
       "      <td>0xcbb9e6e42404ae7e</td>\n",
       "      <td>1000</td>\n",
       "      <td>0.9992</td>\n",
       "      <td>1.0</td>\n",
       "      <td>0.9990</td>\n",
       "      <td>1.0</td>\n",
       "      <td>0.9999</td>\n",
       "      <td>0.9996</td>\n",
       "      <td>0.9994</td>\n",
       "      <td>0.9999</td>\n",
       "      <td>0.9997</td>\n",
       "      <td>0.9950</td>\n",
       "      <td>0.9996</td>\n",
       "    </tr>\n",
       "    <tr>\n",
       "      <th>1</th>\n",
       "      <td>0x2c2c16ccb1a654ab</td>\n",
       "      <td>1200</td>\n",
       "      <td>0.9994</td>\n",
       "      <td>1.0</td>\n",
       "      <td>0.9990</td>\n",
       "      <td>1.0</td>\n",
       "      <td>0.9999</td>\n",
       "      <td>0.9998</td>\n",
       "      <td>0.9997</td>\n",
       "      <td>0.9999</td>\n",
       "      <td>0.9998</td>\n",
       "      <td>0.9957</td>\n",
       "      <td>0.9998</td>\n",
       "    </tr>\n",
       "  </tbody>\n",
       "</table>\n",
       "</div>"
      ],
      "text/plain": [
       "              span_id  nr_train_images  roc_auc_mean  roc_auc.0  roc_auc.1  \\\n",
       "0  0x1cbd653802cc8b1f              600        0.9990        1.0     0.9992   \n",
       "3  0x01296fb44bdffd3c              800        0.9989        1.0     0.9988   \n",
       "2  0xcbb9e6e42404ae7e             1000        0.9992        1.0     0.9990   \n",
       "1  0x2c2c16ccb1a654ab             1200        0.9994        1.0     0.9990   \n",
       "\n",
       "   roc_auc.2  roc_auc.3  roc_auc.4  roc_auc.5  roc_auc.6  roc_auc.7  \\\n",
       "0        1.0     0.9999     0.9991     0.9989     0.9999     0.9998   \n",
       "3        1.0     0.9998     0.9995     0.9990     1.0000     0.9999   \n",
       "2        1.0     0.9999     0.9996     0.9994     0.9999     0.9997   \n",
       "1        1.0     0.9999     0.9998     0.9997     0.9999     0.9998   \n",
       "\n",
       "   roc_auc.8  roc_auc.9  \n",
       "0     0.9943     0.9987  \n",
       "3     0.9929     0.9994  \n",
       "2     0.9950     0.9996  \n",
       "1     0.9957     0.9998  "
      ]
     },
     "execution_count": 10,
     "metadata": {},
     "output_type": "execute_result"
    }
   ],
   "source": [
    "df_data.round(4)"
   ]
  },
  {
   "cell_type": "code",
   "execution_count": 11,
   "id": "cfed39cb",
   "metadata": {
    "execution": {
     "iopub.execute_input": "2022-12-14T06:43:36.372962Z",
     "iopub.status.busy": "2022-12-14T06:43:36.372432Z",
     "iopub.status.idle": "2022-12-14T06:43:36.560086Z",
     "shell.execute_reply": "2022-12-14T06:43:36.559338Z"
    },
    "papermill": {
     "duration": 0.194998,
     "end_time": "2022-12-14T06:43:36.562103",
     "exception": false,
     "start_time": "2022-12-14T06:43:36.367105",
     "status": "completed"
    },
    "tags": []
   },
   "outputs": [
    {
     "data": {
      "image/png": "[encoded data removed]",
      "text/plain": [
       "<Figure size 1600x400 with 1 Axes>"
      ]
     },
     "metadata": {},
     "output_type": "display_data"
    }
   ],
   "source": [
    "def plot_classifier_performance_summary(df_data):\n",
    "    fig, ax = plt.subplots(nrows=1, ncols=1, figsize=(16, 4), sharex=True)\n",
    "\n",
    "    #\n",
    "    ax.plot(\n",
    "        df_data[\"nr_train_images\"], df_data[\"roc_auc_mean\"], marker=\"o\", linestyle=\"--\"\n",
    "    )\n",
    "    ax.set_title(\n",
    "        f\"ROC AUC digit classifier performance on evaluation digits\", fontsize=17\n",
    "    )\n",
    "    ax.set_xlabel(\"Total number of digits in training set\", fontsize=14)\n",
    "    ax.set_ylabel(\"Mean ROC AUC\", fontsize=14)\n",
    "\n",
    "    fig.tight_layout()\n",
    "    fig.show()\n",
    "\n",
    "    return fig\n",
    "\n",
    "\n",
    "fig = plot_classifier_performance_summary(df_data)"
   ]
  },
  {
   "cell_type": "code",
   "execution_count": 12,
   "id": "4248efa0",
   "metadata": {
    "execution": {
     "iopub.execute_input": "2022-12-14T06:43:36.572485Z",
     "iopub.status.busy": "2022-12-14T06:43:36.572192Z",
     "iopub.status.idle": "2022-12-14T06:43:36.652870Z",
     "shell.execute_reply": "2022-12-14T06:43:36.651395Z"
    },
    "papermill": {
     "duration": 0.088291,
     "end_time": "2022-12-14T06:43:36.655059",
     "exception": false,
     "start_time": "2022-12-14T06:43:36.566768",
     "status": "completed"
    },
    "tags": []
   },
   "outputs": [],
   "source": [
    "logger.log_figure(\"auc-roc-model-performances.png\", fig)"
   ]
  },
  {
   "cell_type": "code",
   "execution_count": 13,
   "id": "d4247a5f",
   "metadata": {
    "execution": {
     "iopub.execute_input": "2022-12-14T06:43:36.665878Z",
     "iopub.status.busy": "2022-12-14T06:43:36.665617Z",
     "iopub.status.idle": "2022-12-14T06:43:36.668837Z",
     "shell.execute_reply": "2022-12-14T06:43:36.668088Z"
    },
    "papermill": {
     "duration": 0.011107,
     "end_time": "2022-12-14T06:43:36.671042",
     "exception": false,
     "start_time": "2022-12-14T06:43:36.659935",
     "status": "completed"
    },
    "tags": []
   },
   "outputs": [],
   "source": [
    "###"
   ]
  },
  {
   "cell_type": "code",
   "execution_count": null,
   "id": "386ad2ca",
   "metadata": {
    "papermill": {
     "duration": 0.004568,
     "end_time": "2022-12-14T06:43:36.680067",
     "exception": false,
     "start_time": "2022-12-14T06:43:36.675499",
     "status": "completed"
    },
    "tags": []
   },
   "outputs": [],
   "source": []
  }
 ],
 "metadata": {
  "jupytext": {
   "cell_metadata_filter": "tags,-all",
   "main_language": "python",
   "notebook_metadata_filter": "-all"
  },
  "language_info": {
   "codemirror_mode": {
    "name": "ipython",
    "version": 3
   },
   "file_extension": ".py",
   "mimetype": "text/x-python",
   "name": "python",
   "nbconvert_exporter": "python",
   "pygments_lexer": "ipython3",
   "version": "3.8.10"
  },
  "papermill": {
   "default_parameters": {},
   "duration": 4.076919,
   "end_time": "2022-12-14T06:43:37.704230",
   "environment_variables": {},
   "exception": null,
   "input_path": "/home/host_user/workspace/mnist-demo-pipeline/mnist-demo-pipeline/notebooks/temp-notebook-fu461a0e.ipynb",
   "output_path": "notebooks/summary.ipynb",
   "parameters": {
    "P": {
     "_opentelemetry_traceparent": "00-c27396a3280c91e4c63f8fc39a45671a-6138dc7dc81bfb50-01",
     "pipeline.data_lake_root": "/pipeline-outputs/data-lake",
     "pipeline.github.actor": "matiasdahl",
     "pipeline.github.base_ref": "",
     "pipeline.github.event_name": "schedule",
     "pipeline.github.head_ref": "",
     "pipeline.github.job": "run-tests-pipeline-and-persist-pipeline-outputs",
     "pipeline.github.ref": "refs/heads/development",
     "pipeline.github.ref_name": "development",
     "pipeline.github.ref_type": "branch",
     "pipeline.github.repository": "matiasdahl/dev-mnist-digits-demo-pipeline",
     "pipeline.github.run_id": "3692391613",
     "pipeline.github.runner_name": "Hosted Agent",
     "pipeline.github.sha": "ace0d01011d5e914f1921450dd5a59c11367b38d",
     "pipeline.github.workflow": "Run automated tests, pipeline and deploy results to static reporting site",
     "pipeline.pipeline_run_id": "0159318e-b312-4e65-9488-32edd10b3b52",
     "pipeline.run_environment": "ci",
     "run.retry_nr": "0",
     "task.max_nr_retries": "1",
     "task.notebook": "notebooks/summary.py",
     "task.num_cpus": 1,
     "task.timeout_s": "None"
    }
   },
   "start_time": "2022-12-14T06:43:33.627311",
   "version": "2.3.3"
  }
 },
 "nbformat": 4,
 "nbformat_minor": 5
}