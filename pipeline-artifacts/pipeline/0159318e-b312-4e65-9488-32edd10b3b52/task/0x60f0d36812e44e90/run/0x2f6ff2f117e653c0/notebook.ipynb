{
 "cells": [
  {
   "cell_type": "markdown",
   "id": "db081ca3",
   "metadata": {
    "papermill": {
     "duration": 0.004083,
     "end_time": "2022-12-14T06:42:48.104549",
     "exception": false,
     "start_time": "2022-12-14T06:42:48.100466",
     "status": "completed"
    },
    "tags": []
   },
   "source": [
    "# Split digits and labels into separate training and testing data sets"
   ]
  },
  {
   "cell_type": "markdown",
   "id": "ad5ae6f3",
   "metadata": {
    "papermill": {
     "duration": 0.002446,
     "end_time": "2022-12-14T06:42:48.110235",
     "exception": false,
     "start_time": "2022-12-14T06:42:48.107789",
     "status": "completed"
    },
    "tags": []
   },
   "source": [
    "### Determine run parameters"
   ]
  },
  {
   "cell_type": "code",
   "execution_count": 1,
   "id": "6ad183f8",
   "metadata": {
    "execution": {
     "iopub.execute_input": "2022-12-14T06:42:48.117661Z",
     "iopub.status.busy": "2022-12-14T06:42:48.117316Z",
     "iopub.status.idle": "2022-12-14T06:42:48.125332Z",
     "shell.execute_reply": "2022-12-14T06:42:48.124597Z"
    },
    "lines_to_next_cell": 0,
    "papermill": {
     "duration": 0.014144,
     "end_time": "2022-12-14T06:42:48.127284",
     "exception": false,
     "start_time": "2022-12-14T06:42:48.113140",
     "status": "completed"
    },
    "tags": []
   },
   "outputs": [],
   "source": [
    "# ----------------- Parameters for interactive development --------------\n",
    "P = {\n",
    "    \"pipeline.data_lake_root\": \"/pipeline-outputs/data-lake\",\n",
    "    \"task.train_test_ratio\": 0.7,\n",
    "}"
   ]
  },
  {
   "cell_type": "code",
   "execution_count": 2,
   "id": "7054bf3b",
   "metadata": {
    "execution": {
     "iopub.execute_input": "2022-12-14T06:42:48.134265Z",
     "iopub.status.busy": "2022-12-14T06:42:48.133759Z",
     "iopub.status.idle": "2022-12-14T06:42:48.136946Z",
     "shell.execute_reply": "2022-12-14T06:42:48.136325Z"
    },
    "lines_to_next_cell": 0,
    "papermill": {
     "duration": 0.008379,
     "end_time": "2022-12-14T06:42:48.138413",
     "exception": false,
     "start_time": "2022-12-14T06:42:48.130034",
     "status": "completed"
    },
    "tags": [
     "parameters"
    ]
   },
   "outputs": [],
   "source": [
    "# - During automated runs parameters will be injected in the below cell -"
   ]
  },
  {
   "cell_type": "code",
   "execution_count": 3,
   "id": "98a733da",
   "metadata": {
    "execution": {
     "iopub.execute_input": "2022-12-14T06:42:48.145177Z",
     "iopub.status.busy": "2022-12-14T06:42:48.144727Z",
     "iopub.status.idle": "2022-12-14T06:42:48.149959Z",
     "shell.execute_reply": "2022-12-14T06:42:48.149419Z"
    },
    "papermill": {
     "duration": 0.010109,
     "end_time": "2022-12-14T06:42:48.151270",
     "exception": false,
     "start_time": "2022-12-14T06:42:48.141161",
     "status": "completed"
    },
    "tags": [
     "injected-parameters"
    ]
   },
   "outputs": [],
   "source": [
    "# Parameters\n",
    "P = {\n",
    "    \"pipeline.data_lake_root\": \"/pipeline-outputs/data-lake\",\n",
    "    \"pipeline.run_environment\": \"ci\",\n",
    "    \"pipeline.pipeline_run_id\": \"0159318e-b312-4e65-9488-32edd10b3b52\",\n",
    "    \"pipeline.github.repository\": \"matiasdahl/dev-mnist-digits-demo-pipeline\",\n",
    "    \"pipeline.github.workflow\": \"Run automated tests, pipeline and deploy results to static reporting site\",\n",
    "    \"pipeline.github.runner_name\": \"Hosted Agent\",\n",
    "    \"pipeline.github.run_id\": \"3692391613\",\n",
    "    \"pipeline.github.actor\": \"matiasdahl\",\n",
    "    \"pipeline.github.job\": \"run-tests-pipeline-and-persist-pipeline-outputs\",\n",
    "    \"pipeline.github.base_ref\": \"\",\n",
    "    \"pipeline.github.head_ref\": \"\",\n",
    "    \"pipeline.github.sha\": \"ace0d01011d5e914f1921450dd5a59c11367b38d\",\n",
    "    \"pipeline.github.ref\": \"refs/heads/development\",\n",
    "    \"pipeline.github.ref_type\": \"branch\",\n",
    "    \"pipeline.github.ref_name\": \"development\",\n",
    "    \"pipeline.github.event_name\": \"schedule\",\n",
    "    \"task.train_test_ratio\": 0.7,\n",
    "    \"task.notebook\": \"notebooks/split-train-test.py\",\n",
    "    \"task.max_nr_retries\": \"1\",\n",
    "    \"run.retry_nr\": \"0\",\n",
    "    \"task.timeout_s\": \"None\",\n",
    "    \"task.num_cpus\": 1,\n",
    "    \"_opentelemetry_traceparent\": \"00-c27396a3280c91e4c63f8fc39a45671a-0c130dda3a47cc96-01\",\n",
    "}\n"
   ]
  },
  {
   "cell_type": "code",
   "execution_count": 4,
   "id": "09cefed4",
   "metadata": {
    "execution": {
     "iopub.execute_input": "2022-12-14T06:42:48.157412Z",
     "iopub.status.busy": "2022-12-14T06:42:48.157177Z",
     "iopub.status.idle": "2022-12-14T06:42:48.159739Z",
     "shell.execute_reply": "2022-12-14T06:42:48.159132Z"
    },
    "lines_to_next_cell": 0,
    "papermill": {
     "duration": 0.008198,
     "end_time": "2022-12-14T06:42:48.161638",
     "exception": false,
     "start_time": "2022-12-14T06:42:48.153440",
     "status": "completed"
    },
    "tags": []
   },
   "outputs": [],
   "source": [
    "# -----------------------------------------------------------------------"
   ]
  },
  {
   "cell_type": "markdown",
   "id": "1227bbe9",
   "metadata": {
    "papermill": {
     "duration": 0.003242,
     "end_time": "2022-12-14T06:42:48.167532",
     "exception": false,
     "start_time": "2022-12-14T06:42:48.164290",
     "status": "completed"
    },
    "tags": []
   },
   "source": [
    "---"
   ]
  },
  {
   "cell_type": "markdown",
   "id": "a0676458",
   "metadata": {
    "lines_to_next_cell": 2,
    "papermill": {
     "duration": 0.002125,
     "end_time": "2022-12-14T06:42:48.172338",
     "exception": false,
     "start_time": "2022-12-14T06:42:48.170213",
     "status": "completed"
    },
    "tags": []
   },
   "source": [
    "### Notebook code"
   ]
  },
  {
   "cell_type": "code",
   "execution_count": 5,
   "id": "dd12483a",
   "metadata": {
    "execution": {
     "iopub.execute_input": "2022-12-14T06:42:48.180548Z",
     "iopub.status.busy": "2022-12-14T06:42:48.179988Z",
     "iopub.status.idle": "2022-12-14T06:42:48.713739Z",
     "shell.execute_reply": "2022-12-14T06:42:48.712285Z"
    },
    "papermill": {
     "duration": 0.539535,
     "end_time": "2022-12-14T06:42:48.716038",
     "exception": false,
     "start_time": "2022-12-14T06:42:48.176503",
     "status": "completed"
    },
    "tags": []
   },
   "outputs": [
    {
     "name": "stderr",
     "output_type": "stream",
     "text": [
      "2022-12-14 06:42:48,546\tINFO worker.py:842 -- Connecting to existing Ray cluster at address: 172.17.0.2:6379\n"
     ]
    }
   ],
   "source": [
    "from common.io import datalake_root, read_numpy, write_numpy\n",
    "from pynb_dag_runner.tasks.task_opentelemetry_logging import PydarLogger\n",
    "\n",
    "logger = PydarLogger(P)"
   ]
  },
  {
   "cell_type": "markdown",
   "id": "43f588de",
   "metadata": {
    "papermill": {
     "duration": 0.003693,
     "end_time": "2022-12-14T06:42:48.723369",
     "exception": false,
     "start_time": "2022-12-14T06:42:48.719676",
     "status": "completed"
    },
    "tags": []
   },
   "source": [
    "## Load and split digits data"
   ]
  },
  {
   "cell_type": "code",
   "execution_count": 6,
   "id": "1e465773",
   "metadata": {
    "execution": {
     "iopub.execute_input": "2022-12-14T06:42:48.730940Z",
     "iopub.status.busy": "2022-12-14T06:42:48.730571Z",
     "iopub.status.idle": "2022-12-14T06:42:48.736621Z",
     "shell.execute_reply": "2022-12-14T06:42:48.736078Z"
    },
    "papermill": {
     "duration": 0.013472,
     "end_time": "2022-12-14T06:42:48.739664",
     "exception": false,
     "start_time": "2022-12-14T06:42:48.726192",
     "status": "completed"
    },
    "tags": []
   },
   "outputs": [],
   "source": [
    "X = read_numpy(datalake_root(P) / \"raw\" / \"digits.numpy\")\n",
    "y = read_numpy(datalake_root(P) / \"raw\" / \"labels.numpy\")"
   ]
  },
  {
   "cell_type": "code",
   "execution_count": 7,
   "id": "c92d6aa5",
   "metadata": {
    "execution": {
     "iopub.execute_input": "2022-12-14T06:42:48.747396Z",
     "iopub.status.busy": "2022-12-14T06:42:48.747069Z",
     "iopub.status.idle": "2022-12-14T06:42:49.285772Z",
     "shell.execute_reply": "2022-12-14T06:42:49.285011Z"
    },
    "papermill": {
     "duration": 0.545293,
     "end_time": "2022-12-14T06:42:49.287770",
     "exception": false,
     "start_time": "2022-12-14T06:42:48.742477",
     "status": "completed"
    },
    "tags": []
   },
   "outputs": [],
   "source": [
    "from sklearn.model_selection import train_test_split\n",
    "\n",
    "X_train, X_test, y_train, y_test = train_test_split(\n",
    "    X,\n",
    "    y,\n",
    "    train_size=P[\"task.train_test_ratio\"],\n",
    "    test_size=None,\n",
    "    stratify=y,\n",
    "    shuffle=True,\n",
    "    random_state=1,\n",
    ")\n",
    "\n",
    "# assert nr of pixels per image is the same for all image vectors\n",
    "assert X.shape[1] == X_train.shape[1] == X_test.shape[1]\n",
    "\n",
    "# assert that the (X, y)-pairs have compatible sizes (for both train and test)\n",
    "assert X_train.shape[0] == len(y_train)\n",
    "assert X_test.shape[0] == len(y_test)\n",
    "\n",
    "# assert that all data is used\n",
    "assert len(y) == len(y_train) + len(y_test)"
   ]
  },
  {
   "cell_type": "code",
   "execution_count": 8,
   "id": "01ce35ca",
   "metadata": {
    "execution": {
     "iopub.execute_input": "2022-12-14T06:42:49.297017Z",
     "iopub.status.busy": "2022-12-14T06:42:49.296480Z",
     "iopub.status.idle": "2022-12-14T06:42:49.310579Z",
     "shell.execute_reply": "2022-12-14T06:42:49.309588Z"
    },
    "papermill": {
     "duration": 0.020893,
     "end_time": "2022-12-14T06:42:49.312772",
     "exception": false,
     "start_time": "2022-12-14T06:42:49.291879",
     "status": "completed"
    },
    "tags": []
   },
   "outputs": [
    {
     "name": "stdout",
     "output_type": "stream",
     "text": [
      " - Logging nr_digits_train (int) : 1257\n",
      " - Logging nr_digits_test (int) : 540\n"
     ]
    }
   ],
   "source": [
    "logger.log_int(\"nr_digits_train\", len(y_train))\n",
    "logger.log_int(\"nr_digits_test\", len(y_test))"
   ]
  },
  {
   "cell_type": "markdown",
   "id": "5d6a6aae",
   "metadata": {
    "papermill": {
     "duration": 0.002748,
     "end_time": "2022-12-14T06:42:49.318075",
     "exception": false,
     "start_time": "2022-12-14T06:42:49.315327",
     "status": "completed"
    },
    "tags": []
   },
   "source": [
    "### Persist training and test data sets to separate files"
   ]
  },
  {
   "cell_type": "code",
   "execution_count": 9,
   "id": "a99323b9",
   "metadata": {
    "execution": {
     "iopub.execute_input": "2022-12-14T06:42:49.324749Z",
     "iopub.status.busy": "2022-12-14T06:42:49.324473Z",
     "iopub.status.idle": "2022-12-14T06:42:49.330166Z",
     "shell.execute_reply": "2022-12-14T06:42:49.329696Z"
    },
    "papermill": {
     "duration": 0.012652,
     "end_time": "2022-12-14T06:42:49.333289",
     "exception": false,
     "start_time": "2022-12-14T06:42:49.320637",
     "status": "completed"
    },
    "tags": []
   },
   "outputs": [],
   "source": [
    "write_numpy(datalake_root(P) / \"train-data\" / \"digits.numpy\", X_train)\n",
    "write_numpy(datalake_root(P) / \"train-data\" / \"labels.numpy\", y_train)\n",
    "\n",
    "#\n",
    "write_numpy(datalake_root(P) / \"test-data\" / \"digits.numpy\", X_test)\n",
    "write_numpy(datalake_root(P) / \"test-data\" / \"labels.numpy\", y_test)"
   ]
  },
  {
   "cell_type": "code",
   "execution_count": null,
   "id": "2ed31177",
   "metadata": {
    "papermill": {
     "duration": 0.002883,
     "end_time": "2022-12-14T06:42:49.338278",
     "exception": false,
     "start_time": "2022-12-14T06:42:49.335395",
     "status": "completed"
    },
    "tags": []
   },
   "outputs": [],
   "source": []
  }
 ],
 "metadata": {
  "jupytext": {
   "cell_metadata_filter": "tags,-all",
   "main_language": "python",
   "notebook_metadata_filter": "-all"
  },
  "language_info": {
   "codemirror_mode": {
    "name": "ipython",
    "version": 3
   },
   "file_extension": ".py",
   "mimetype": "text/x-python",
   "name": "python",
   "nbconvert_exporter": "python",
   "pygments_lexer": "ipython3",
   "version": "3.8.10"
  },
  "papermill": {
   "default_parameters": {},
   "duration": 3.376776,
   "end_time": "2022-12-14T06:42:50.265662",
   "environment_variables": {},
   "exception": null,
   "input_path": "/home/host_user/workspace/mnist-demo-pipeline/mnist-demo-pipeline/notebooks/temp-notebook-897a5eh8.ipynb",
   "output_path": "notebooks/split-train-test.ipynb",
   "parameters": {
    "P": {
     "_opentelemetry_traceparent": "00-c27396a3280c91e4c63f8fc39a45671a-0c130dda3a47cc96-01",
     "pipeline.data_lake_root": "/pipeline-outputs/data-lake",
     "pipeline.github.actor": "matiasdahl",
     "pipeline.github.base_ref": "",
     "pipeline.github.event_name": "schedule",
     "pipeline.github.head_ref": "",
     "pipeline.github.job": "run-tests-pipeline-and-persist-pipeline-outputs",
     "pipeline.github.ref": "refs/heads/development",
     "pipeline.github.ref_name": "development",
     "pipeline.github.ref_type": "branch",
     "pipeline.github.repository": "matiasdahl/dev-mnist-digits-demo-pipeline",
     "pipeline.github.run_id": "3692391613",
     "pipeline.github.runner_name": "Hosted Agent",
     "pipeline.github.sha": "ace0d01011d5e914f1921450dd5a59c11367b38d",
     "pipeline.github.workflow": "Run automated tests, pipeline and deploy results to static reporting site",
     "pipeline.pipeline_run_id": "0159318e-b312-4e65-9488-32edd10b3b52",
     "pipeline.run_environment": "ci",
     "run.retry_nr": "0",
     "task.max_nr_retries": "1",
     "task.notebook": "notebooks/split-train-test.py",
     "task.num_cpus": 1,
     "task.timeout_s": "None",
     "task.train_test_ratio": 0.7
    }
   },
   "start_time": "2022-12-14T06:42:46.888886",
   "version": "2.3.3"
  }
 },
 "nbformat": 4,
 "nbformat_minor": 5
}