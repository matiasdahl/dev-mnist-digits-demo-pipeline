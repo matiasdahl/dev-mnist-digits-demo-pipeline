{
 "cells": [
  {
   "cell_type": "markdown",
   "id": "95681c06",
   "metadata": {
    "papermill": {
     "duration": 0.009866,
     "end_time": "2022-12-03T06:40:37.059406",
     "exception": false,
     "start_time": "2022-12-03T06:40:37.049540",
     "status": "completed"
    },
    "tags": []
   },
   "source": [
    "# Benchmark model\n",
    "\n",
    "The purpose of this notebook is to benchmark persisted onnx-model (trained in the\n",
    "previous step) against evaluation set."
   ]
  },
  {
   "cell_type": "markdown",
   "id": "d79fb879",
   "metadata": {
    "papermill": {
     "duration": 0.009146,
     "end_time": "2022-12-03T06:40:37.073130",
     "exception": false,
     "start_time": "2022-12-03T06:40:37.063984",
     "status": "completed"
    },
    "tags": []
   },
   "source": [
    "### Determine run parameters"
   ]
  },
  {
   "cell_type": "code",
   "execution_count": 1,
   "id": "570cc162",
   "metadata": {
    "execution": {
     "iopub.execute_input": "2022-12-03T06:40:37.086598Z",
     "iopub.status.busy": "2022-12-03T06:40:37.085609Z",
     "iopub.status.idle": "2022-12-03T06:40:37.095596Z",
     "shell.execute_reply": "2022-12-03T06:40:37.095044Z"
    },
    "lines_to_next_cell": 0,
    "papermill": {
     "duration": 0.01846,
     "end_time": "2022-12-03T06:40:37.098135",
     "exception": false,
     "start_time": "2022-12-03T06:40:37.079675",
     "status": "completed"
    },
    "tags": []
   },
   "outputs": [],
   "source": [
    "# ----------------- Parameters for interactive development --------------\n",
    "P = {\n",
    "    \"pipeline.data_lake_root\": \"/pipeline-outputs/data-lake\",\n",
    "    \"task.nr_train_images\": 600,\n",
    "}"
   ]
  },
  {
   "cell_type": "code",
   "execution_count": 2,
   "id": "c3bd8df4",
   "metadata": {
    "execution": {
     "iopub.execute_input": "2022-12-03T06:40:37.108136Z",
     "iopub.status.busy": "2022-12-03T06:40:37.107876Z",
     "iopub.status.idle": "2022-12-03T06:40:37.111208Z",
     "shell.execute_reply": "2022-12-03T06:40:37.110653Z"
    },
    "lines_to_next_cell": 0,
    "papermill": {
     "duration": 0.012407,
     "end_time": "2022-12-03T06:40:37.114870",
     "exception": false,
     "start_time": "2022-12-03T06:40:37.102463",
     "status": "completed"
    },
    "tags": [
     "parameters"
    ]
   },
   "outputs": [],
   "source": [
    "# - During automated runs parameters will be injected in the below cell -"
   ]
  },
  {
   "cell_type": "code",
   "execution_count": 3,
   "id": "6a35394f",
   "metadata": {
    "execution": {
     "iopub.execute_input": "2022-12-03T06:40:37.126480Z",
     "iopub.status.busy": "2022-12-03T06:40:37.126181Z",
     "iopub.status.idle": "2022-12-03T06:40:37.132137Z",
     "shell.execute_reply": "2022-12-03T06:40:37.131565Z"
    },
    "papermill": {
     "duration": 0.015726,
     "end_time": "2022-12-03T06:40:37.135168",
     "exception": false,
     "start_time": "2022-12-03T06:40:37.119442",
     "status": "completed"
    },
    "tags": [
     "injected-parameters"
    ]
   },
   "outputs": [],
   "source": [
    "# Parameters\n",
    "P = {\n",
    "    \"pipeline.data_lake_root\": \"/pipeline-outputs/data-lake\",\n",
    "    \"pipeline.run_environment\": \"ci\",\n",
    "    \"pipeline.pipeline_run_id\": \"c19a4e1f-84ff-4746-b6a2-ba3b4384e131\",\n",
    "    \"pipeline.github.repository\": \"matiasdahl/dev-mnist-digits-demo-pipeline\",\n",
    "    \"pipeline.github.workflow\": \"Run automated tests, pipeline and deploy results to static reporting site\",\n",
    "    \"pipeline.github.runner_name\": \"Hosted Agent\",\n",
    "    \"pipeline.github.run_id\": \"3607389562\",\n",
    "    \"pipeline.github.actor\": \"matiasdahl\",\n",
    "    \"pipeline.github.job\": \"run-tests-pipeline-and-persist-pipeline-outputs\",\n",
    "    \"pipeline.github.base_ref\": \"\",\n",
    "    \"pipeline.github.head_ref\": \"\",\n",
    "    \"pipeline.github.sha\": \"ace0d01011d5e914f1921450dd5a59c11367b38d\",\n",
    "    \"pipeline.github.ref\": \"refs/heads/development\",\n",
    "    \"pipeline.github.ref_type\": \"branch\",\n",
    "    \"pipeline.github.ref_name\": \"development\",\n",
    "    \"pipeline.github.event_name\": \"schedule\",\n",
    "    \"task.nr_train_images\": 800,\n",
    "    \"task.notebook\": \"notebooks/benchmark-model.py\",\n",
    "    \"task.max_nr_retries\": \"1\",\n",
    "    \"run.retry_nr\": \"0\",\n",
    "    \"task.timeout_s\": \"None\",\n",
    "    \"task.num_cpus\": 1,\n",
    "    \"_opentelemetry_traceparent\": \"00-faba51c76038564603f28dd2974b5c1f-9a2f4a1a53d9e5bb-01\",\n",
    "}\n"
   ]
  },
  {
   "cell_type": "code",
   "execution_count": 4,
   "id": "0e1a9531",
   "metadata": {
    "execution": {
     "iopub.execute_input": "2022-12-03T06:40:37.146413Z",
     "iopub.status.busy": "2022-12-03T06:40:37.146160Z",
     "iopub.status.idle": "2022-12-03T06:40:37.149108Z",
     "shell.execute_reply": "2022-12-03T06:40:37.148528Z"
    },
    "lines_to_next_cell": 0,
    "papermill": {
     "duration": 0.012324,
     "end_time": "2022-12-03T06:40:37.152601",
     "exception": false,
     "start_time": "2022-12-03T06:40:37.140277",
     "status": "completed"
    },
    "tags": []
   },
   "outputs": [],
   "source": [
    "# -----------------------------------------------------------------------"
   ]
  },
  {
   "cell_type": "markdown",
   "id": "39324dba",
   "metadata": {
    "papermill": {
     "duration": 0.005158,
     "end_time": "2022-12-03T06:40:37.162375",
     "exception": false,
     "start_time": "2022-12-03T06:40:37.157217",
     "status": "completed"
    },
    "tags": []
   },
   "source": [
    "---"
   ]
  },
  {
   "cell_type": "markdown",
   "id": "8f4a3408",
   "metadata": {
    "lines_to_next_cell": 2,
    "papermill": {
     "duration": 0.004266,
     "end_time": "2022-12-03T06:40:37.170940",
     "exception": false,
     "start_time": "2022-12-03T06:40:37.166674",
     "status": "completed"
    },
    "tags": []
   },
   "source": [
    "### Notebook code"
   ]
  },
  {
   "cell_type": "code",
   "execution_count": 5,
   "id": "5f757442",
   "metadata": {
    "execution": {
     "iopub.execute_input": "2022-12-03T06:40:37.186737Z",
     "iopub.status.busy": "2022-12-03T06:40:37.186443Z",
     "iopub.status.idle": "2022-12-03T06:40:38.805633Z",
     "shell.execute_reply": "2022-12-03T06:40:38.804756Z"
    },
    "papermill": {
     "duration": 1.62869,
     "end_time": "2022-12-03T06:40:38.807835",
     "exception": false,
     "start_time": "2022-12-03T06:40:37.179145",
     "status": "completed"
    },
    "tags": []
   },
   "outputs": [
    {
     "name": "stderr",
     "output_type": "stream",
     "text": [
      "2022-12-03 06:40:38,640\tINFO worker.py:842 -- Connecting to existing Ray cluster at address: 172.17.0.2:6379\n"
     ]
    }
   ],
   "source": [
    "import itertools as it\n",
    "\n",
    "#\n",
    "import numpy as np\n",
    "import matplotlib.pyplot as plt\n",
    "\n",
    "#\n",
    "from pynb_dag_runner.tasks.task_opentelemetry_logging import PydarLogger\n",
    "\n",
    "#\n",
    "from common.io import datalake_root\n",
    "\n",
    "logger = PydarLogger(P)"
   ]
  },
  {
   "cell_type": "markdown",
   "id": "efa4bf8f",
   "metadata": {
    "papermill": {
     "duration": 0.009014,
     "end_time": "2022-12-03T06:40:38.821237",
     "exception": false,
     "start_time": "2022-12-03T06:40:38.812223",
     "status": "completed"
    },
    "tags": []
   },
   "source": [
    "## Load persisted onnx-model and evaluation data"
   ]
  },
  {
   "cell_type": "code",
   "execution_count": 6,
   "id": "2c89cf55",
   "metadata": {
    "execution": {
     "iopub.execute_input": "2022-12-03T06:40:38.831196Z",
     "iopub.status.busy": "2022-12-03T06:40:38.830361Z",
     "iopub.status.idle": "2022-12-03T06:40:38.834403Z",
     "shell.execute_reply": "2022-12-03T06:40:38.833688Z"
    },
    "papermill": {
     "duration": 0.010972,
     "end_time": "2022-12-03T06:40:38.836328",
     "exception": false,
     "start_time": "2022-12-03T06:40:38.825356",
     "status": "completed"
    },
    "tags": []
   },
   "outputs": [],
   "source": [
    "from common.io import read_onnx, get_onnx_inputs, get_onnx_outputs, read_numpy"
   ]
  },
  {
   "cell_type": "code",
   "execution_count": 7,
   "id": "5a1948bb",
   "metadata": {
    "execution": {
     "iopub.execute_input": "2022-12-03T06:40:38.846618Z",
     "iopub.status.busy": "2022-12-03T06:40:38.846247Z",
     "iopub.status.idle": "2022-12-03T06:40:38.857028Z",
     "shell.execute_reply": "2022-12-03T06:40:38.856240Z"
    },
    "lines_to_next_cell": 0,
    "papermill": {
     "duration": 0.01771,
     "end_time": "2022-12-03T06:40:38.858551",
     "exception": false,
     "start_time": "2022-12-03T06:40:38.840841",
     "status": "completed"
    },
    "tags": []
   },
   "outputs": [],
   "source": [
    "onnx_inference_session = read_onnx(\n",
    "    datalake_root(P)\n",
    "    / \"models\"\n",
    "    / f\"nr_train_images={P['task.nr_train_images']}\"\n",
    "    / \"model.onnx\"\n",
    ")"
   ]
  },
  {
   "cell_type": "markdown",
   "id": "af2ca9c4",
   "metadata": {
    "papermill": {
     "duration": 0.004569,
     "end_time": "2022-12-03T06:40:38.867743",
     "exception": false,
     "start_time": "2022-12-03T06:40:38.863174",
     "status": "completed"
    },
    "tags": []
   },
   "source": [
    "### Record structure of inputs and outputs for ONNX model\n",
    "\n",
    "(this should likely be done in training notebook)"
   ]
  },
  {
   "cell_type": "code",
   "execution_count": 8,
   "id": "673ccca0",
   "metadata": {
    "execution": {
     "iopub.execute_input": "2022-12-03T06:40:38.877579Z",
     "iopub.status.busy": "2022-12-03T06:40:38.877120Z",
     "iopub.status.idle": "2022-12-03T06:40:38.883334Z",
     "shell.execute_reply": "2022-12-03T06:40:38.882660Z"
    },
    "papermill": {
     "duration": 0.013541,
     "end_time": "2022-12-03T06:40:38.885617",
     "exception": false,
     "start_time": "2022-12-03T06:40:38.872076",
     "status": "completed"
    },
    "tags": []
   },
   "outputs": [
    {
     "name": "stdout",
     "output_type": "stream",
     "text": [
      "{\n",
      "  \"inputs\": [\n",
      "    {\n",
      "      \"name\": \"float_input_8x8_image\",\n",
      "      \"shape\": [\n",
      "        null,\n",
      "        64\n",
      "      ],\n",
      "      \"type\": \"tensor(float)\"\n",
      "    }\n",
      "  ],\n",
      "  \"outputs\": [\n",
      "    {\n",
      "      \"name\": \"output_label\",\n",
      "      \"shape\": [\n",
      "        null\n",
      "      ],\n",
      "      \"type\": \"tensor(int64)\"\n",
      "    },\n",
      "    {\n",
      "      \"name\": \"output_probability\",\n",
      "      \"shape\": [],\n",
      "      \"type\": \"seq(map(int64,tensor(float)))\"\n",
      "    }\n",
      "  ]\n",
      "}\n"
     ]
    }
   ],
   "source": [
    "import json\n",
    "\n",
    "onnx_io = json.dumps(\n",
    "    {\n",
    "        \"inputs\": get_onnx_inputs(onnx_inference_session),\n",
    "        \"outputs\": get_onnx_outputs(onnx_inference_session),\n",
    "    },\n",
    "    indent=2,\n",
    ")\n",
    "\n",
    "\n",
    "logger.log_artefact(\"onnx_io_structure.json\", onnx_io)\n",
    "print(onnx_io)"
   ]
  },
  {
   "cell_type": "markdown",
   "id": "66092562",
   "metadata": {
    "papermill": {
     "duration": 0.00467,
     "end_time": "2022-12-03T06:40:38.894632",
     "exception": false,
     "start_time": "2022-12-03T06:40:38.889962",
     "status": "completed"
    },
    "tags": []
   },
   "source": [
    "### Evaluate model performance on evaluation data set"
   ]
  },
  {
   "cell_type": "code",
   "execution_count": 9,
   "id": "46365ad1",
   "metadata": {
    "execution": {
     "iopub.execute_input": "2022-12-03T06:40:38.911643Z",
     "iopub.status.busy": "2022-12-03T06:40:38.911196Z",
     "iopub.status.idle": "2022-12-03T06:40:38.919756Z",
     "shell.execute_reply": "2022-12-03T06:40:38.915878Z"
    },
    "papermill": {
     "duration": 0.023247,
     "end_time": "2022-12-03T06:40:38.922229",
     "exception": false,
     "start_time": "2022-12-03T06:40:38.898982",
     "status": "completed"
    },
    "tags": []
   },
   "outputs": [],
   "source": [
    "# load evaluation data\n",
    "X_test = read_numpy(datalake_root(P) / \"test-data\" / \"digits.numpy\")\n",
    "y_test = read_numpy(datalake_root(P) / \"test-data\" / \"labels.numpy\")"
   ]
  },
  {
   "cell_type": "code",
   "execution_count": 10,
   "id": "0dad3f58",
   "metadata": {
    "execution": {
     "iopub.execute_input": "2022-12-03T06:40:38.934323Z",
     "iopub.status.busy": "2022-12-03T06:40:38.933979Z",
     "iopub.status.idle": "2022-12-03T06:40:39.013292Z",
     "shell.execute_reply": "2022-12-03T06:40:39.012210Z"
    },
    "papermill": {
     "duration": 0.087465,
     "end_time": "2022-12-03T06:40:39.015802",
     "exception": false,
     "start_time": "2022-12-03T06:40:38.928337",
     "status": "completed"
    },
    "tags": []
   },
   "outputs": [],
   "source": [
    "def get_model_outputs(X, onnx_inference_session):\n",
    "    y_pred_labels, y_pred_map = onnx_inference_session.run(\n",
    "        [\"output_label\", \"output_probability\"],\n",
    "        {\"float_input_8x8_image\": X.astype(np.float32)},\n",
    "    )\n",
    "    y_pred_probs = np.array(\n",
    "        [[probabilities[digit] for digit in range(10)] for probabilities in y_pred_map]\n",
    "    )\n",
    "\n",
    "    assert y_pred_labels.shape == (X.shape[0],)\n",
    "    assert y_pred_probs.shape == (X.shape[0], 10)\n",
    "\n",
    "    return y_pred_labels, y_pred_probs\n",
    "\n",
    "\n",
    "# Note: as shown in the training notebook, the predicted labels and probabilities\n",
    "# computed below need not be compatible.\n",
    "y_pred_labels_test, y_pred_probs_test = get_model_outputs(\n",
    "    X_test, onnx_inference_session\n",
    ")"
   ]
  },
  {
   "cell_type": "markdown",
   "id": "f15d3023",
   "metadata": {
    "papermill": {
     "duration": 0.011148,
     "end_time": "2022-12-03T06:40:39.031582",
     "exception": false,
     "start_time": "2022-12-03T06:40:39.020434",
     "status": "completed"
    },
    "tags": []
   },
   "source": [
    "### Confusion matrix"
   ]
  },
  {
   "cell_type": "code",
   "execution_count": 11,
   "id": "1e3ef090",
   "metadata": {
    "execution": {
     "iopub.execute_input": "2022-12-03T06:40:39.042730Z",
     "iopub.status.busy": "2022-12-03T06:40:39.042301Z",
     "iopub.status.idle": "2022-12-03T06:40:39.046002Z",
     "shell.execute_reply": "2022-12-03T06:40:39.045251Z"
    },
    "papermill": {
     "duration": 0.011554,
     "end_time": "2022-12-03T06:40:39.048112",
     "exception": false,
     "start_time": "2022-12-03T06:40:39.036558",
     "status": "completed"
    },
    "tags": []
   },
   "outputs": [],
   "source": [
    "# TODO"
   ]
  },
  {
   "cell_type": "markdown",
   "id": "7bd5c14a",
   "metadata": {
    "papermill": {
     "duration": 0.004863,
     "end_time": "2022-12-03T06:40:39.057289",
     "exception": false,
     "start_time": "2022-12-03T06:40:39.052426",
     "status": "completed"
    },
    "tags": []
   },
   "source": [
    "### Plot predicted probabilities for each classifier over all evaluation digit images"
   ]
  },
  {
   "cell_type": "code",
   "execution_count": 12,
   "id": "0fa99e5e",
   "metadata": {
    "execution": {
     "iopub.execute_input": "2022-12-03T06:40:39.068562Z",
     "iopub.status.busy": "2022-12-03T06:40:39.068198Z",
     "iopub.status.idle": "2022-12-03T06:40:42.217754Z",
     "shell.execute_reply": "2022-12-03T06:40:42.215632Z"
    },
    "papermill": {
     "duration": 3.157646,
     "end_time": "2022-12-03T06:40:42.219972",
     "exception": false,
     "start_time": "2022-12-03T06:40:39.062326",
     "status": "completed"
    },
    "tags": []
   },
   "outputs": [
    {
     "data": {
      "image/png": "[encoded data removed]",
      "text/plain": [
       "<Figure size 1600x600 with 10 Axes>"
      ]
     },
     "metadata": {},
     "output_type": "display_data"
    }
   ],
   "source": [
    "def plot_per_digit_probabilities(y_pred_probs):\n",
    "    fig, axs = plt.subplots(nrows=2, ncols=5, figsize=(16, 6))\n",
    "\n",
    "    for (r, c), digit, ax in zip(\n",
    "        it.product(range(2), range(5)), range(10), axs.reshape(-1)\n",
    "    ):\n",
    "        ax.hist(y_pred_probs_test[:, digit], bins=20)\n",
    "\n",
    "        ax.set_title(f\"Digit {digit}\")\n",
    "        if r == 1 and c == 2:\n",
    "            ax.set_xlabel(\"probability\", fontsize=16)\n",
    "\n",
    "        if c == 0:\n",
    "            ax.set_ylabel(\"counts\", fontsize=16)\n",
    "        ax.set_yscale(\"log\")\n",
    "\n",
    "    fig.tight_layout()\n",
    "    fig.suptitle(\n",
    "        f\"Distributions of prediction probabilities for each digit \"\n",
    "        f\"(on evaluation data, n={y_pred_probs.shape[0]})\",\n",
    "        fontsize=20,\n",
    "    )\n",
    "    fig.tight_layout()\n",
    "    fig.show()\n",
    "\n",
    "    return fig\n",
    "\n",
    "\n",
    "fig = plot_per_digit_probabilities(y_pred_probs_test)"
   ]
  },
  {
   "cell_type": "markdown",
   "id": "fb0945f6",
   "metadata": {
    "papermill": {
     "duration": 0.005283,
     "end_time": "2022-12-03T06:40:42.231292",
     "exception": false,
     "start_time": "2022-12-03T06:40:42.226009",
     "status": "completed"
    },
    "tags": []
   },
   "source": [
    "From the above distributions we see that most digits have clear separation between\n",
    "high and lower probabilities. Morover, in each case there is roughly an order of\n",
    "magnitude more of digits with low probabilities. This is compatible with digits\n",
    "being roughly evenly distributed in the data."
   ]
  },
  {
   "cell_type": "code",
   "execution_count": 13,
   "id": "ed901e9b",
   "metadata": {
    "execution": {
     "iopub.execute_input": "2022-12-03T06:40:42.243616Z",
     "iopub.status.busy": "2022-12-03T06:40:42.243296Z",
     "iopub.status.idle": "2022-12-03T06:40:42.750495Z",
     "shell.execute_reply": "2022-12-03T06:40:42.749799Z"
    },
    "papermill": {
     "duration": 0.516285,
     "end_time": "2022-12-03T06:40:42.752897",
     "exception": false,
     "start_time": "2022-12-03T06:40:42.236612",
     "status": "completed"
    },
    "tags": []
   },
   "outputs": [],
   "source": [
    "logger.log_figure(\"per-digit-probabilities.png\", fig)"
   ]
  },
  {
   "cell_type": "markdown",
   "id": "f96d9a9b",
   "metadata": {
    "papermill": {
     "duration": 0.007159,
     "end_time": "2022-12-03T06:40:42.767037",
     "exception": false,
     "start_time": "2022-12-03T06:40:42.759878",
     "status": "completed"
    },
    "tags": []
   },
   "source": [
    "### Plot ROC curves for individual one-vs-rest classifiers"
   ]
  },
  {
   "cell_type": "code",
   "execution_count": 14,
   "id": "c13ee3be",
   "metadata": {
    "execution": {
     "iopub.execute_input": "2022-12-03T06:40:42.779324Z",
     "iopub.status.busy": "2022-12-03T06:40:42.779035Z",
     "iopub.status.idle": "2022-12-03T06:40:43.236276Z",
     "shell.execute_reply": "2022-12-03T06:40:43.235634Z"
    },
    "papermill": {
     "duration": 0.466227,
     "end_time": "2022-12-03T06:40:43.238460",
     "exception": false,
     "start_time": "2022-12-03T06:40:42.772233",
     "status": "completed"
    },
    "tags": []
   },
   "outputs": [],
   "source": [
    "from sklearn import metrics"
   ]
  },
  {
   "cell_type": "code",
   "execution_count": 15,
   "id": "b6b62171",
   "metadata": {
    "execution": {
     "iopub.execute_input": "2022-12-03T06:40:43.251192Z",
     "iopub.status.busy": "2022-12-03T06:40:43.250886Z",
     "iopub.status.idle": "2022-12-03T06:40:44.343766Z",
     "shell.execute_reply": "2022-12-03T06:40:44.343169Z"
    },
    "papermill": {
     "duration": 1.101497,
     "end_time": "2022-12-03T06:40:44.345848",
     "exception": false,
     "start_time": "2022-12-03T06:40:43.244351",
     "status": "completed"
    },
    "tags": []
   },
   "outputs": [
    {
     "data": {
      "image/png": "[encoded data removed]",
      "text/plain": [
       "<Figure size 1600x800 with 10 Axes>"
      ]
     },
     "metadata": {},
     "output_type": "display_data"
    }
   ],
   "source": [
    "def plot_roc_curves(y, y_pred_probs):\n",
    "    # based on example code\n",
    "    # https://scikit-learn.org/stable/auto_examples/model_selection/plot_roc.html\n",
    "\n",
    "    fig, axs = plt.subplots(nrows=2, ncols=5, figsize=(16, 8))\n",
    "\n",
    "    roc_auc_dict = {}\n",
    "\n",
    "    for (r, c), digit, ax in zip(\n",
    "        it.product(range(2), range(5)), range(10), axs.reshape(-1)\n",
    "    ):\n",
    "        fpr, tpr, _ = metrics.roc_curve(y == digit, y_pred_probs[:, digit])\n",
    "        auc = metrics.auc(fpr, tpr)\n",
    "        roc_auc_dict[str(digit)] = auc\n",
    "\n",
    "        ax.plot(fpr, tpr, label=f\"ROC AUC={round(auc, 3)}\")\n",
    "\n",
    "        ax.set_title(f\"\\nDigit {digit}\", fontsize=16)\n",
    "        if r == 1:\n",
    "            ax.set_xlabel(\"FPR\", fontsize=18)\n",
    "\n",
    "        if c == 0:\n",
    "            ax.set_ylabel(\"TPR\", fontsize=18)\n",
    "\n",
    "        ax.set_xlim([-0.05, 1.05])\n",
    "        ax.set_ylim([-0.05, 1.05])\n",
    "        ax.legend(loc=\"lower right\", frameon=False, fontsize=14)\n",
    "\n",
    "    fig.tight_layout()\n",
    "    fig.suptitle(\n",
    "        f\"ROC plots for one-vs-rest performances \"\n",
    "        f\"(on evaluation data, n={y_pred_probs_test.shape[1]}\",\n",
    "        fontsize=22,\n",
    "    )\n",
    "    fig.tight_layout()\n",
    "    fig.show()\n",
    "\n",
    "    return roc_auc_dict, fig\n",
    "\n",
    "\n",
    "roc_auc_dict, fig = plot_roc_curves(y_test, y_pred_probs_test)"
   ]
  },
  {
   "cell_type": "code",
   "execution_count": 16,
   "id": "ed689361",
   "metadata": {
    "execution": {
     "iopub.execute_input": "2022-12-03T06:40:44.360055Z",
     "iopub.status.busy": "2022-12-03T06:40:44.359520Z",
     "iopub.status.idle": "2022-12-03T06:40:44.639627Z",
     "shell.execute_reply": "2022-12-03T06:40:44.638924Z"
    },
    "papermill": {
     "duration": 0.289164,
     "end_time": "2022-12-03T06:40:44.641490",
     "exception": false,
     "start_time": "2022-12-03T06:40:44.352326",
     "status": "completed"
    },
    "tags": []
   },
   "outputs": [],
   "source": [
    "logger.log_figure(\"per-digit-roc-curves.png\", fig)"
   ]
  },
  {
   "cell_type": "code",
   "execution_count": 17,
   "id": "42c69a78",
   "metadata": {
    "execution": {
     "iopub.execute_input": "2022-12-03T06:40:44.655763Z",
     "iopub.status.busy": "2022-12-03T06:40:44.655492Z",
     "iopub.status.idle": "2022-12-03T06:40:44.660416Z",
     "shell.execute_reply": "2022-12-03T06:40:44.659717Z"
    },
    "papermill": {
     "duration": 0.013541,
     "end_time": "2022-12-03T06:40:44.661958",
     "exception": false,
     "start_time": "2022-12-03T06:40:44.648417",
     "status": "completed"
    },
    "tags": []
   },
   "outputs": [
    {
     "data": {
      "text/plain": [
       "{'0': 1.0,\n",
       " '1': 0.9988378631677601,\n",
       " '2': 1.0,\n",
       " '3': 0.9998125585754452,\n",
       " '4': 0.9995046486816034,\n",
       " '5': 0.9991002811621369,\n",
       " '6': 0.999961896052431,\n",
       " '7': 0.9998856881572931,\n",
       " '8': 0.9929066834804541,\n",
       " '9': 0.9994665447340344}"
      ]
     },
     "execution_count": 17,
     "metadata": {},
     "output_type": "execute_result"
    }
   ],
   "source": [
    "roc_auc_dict"
   ]
  },
  {
   "cell_type": "code",
   "execution_count": 18,
   "id": "77ffc33d",
   "metadata": {
    "execution": {
     "iopub.execute_input": "2022-12-03T06:40:44.680179Z",
     "iopub.status.busy": "2022-12-03T06:40:44.679903Z",
     "iopub.status.idle": "2022-12-03T06:40:44.686398Z",
     "shell.execute_reply": "2022-12-03T06:40:44.683640Z"
    },
    "papermill": {
     "duration": 0.02132,
     "end_time": "2022-12-03T06:40:44.689603",
     "exception": false,
     "start_time": "2022-12-03T06:40:44.668283",
     "status": "completed"
    },
    "tags": []
   },
   "outputs": [
    {
     "name": "stdout",
     "output_type": "stream",
     "text": [
      " - Logging roc_auc_per_digit (json) : {'0': 1.0, '1': 0.9988378631677601, '2': 1.0, '3': 0.9998125585754452, '4': 0.9995046486816034, '5': 0.9991002811621369, '6': 0.999961896052431, '7': 0.9998856881572931, '8': 0.9929066834804541, '9': 0.9994665447340344}\n"
     ]
    }
   ],
   "source": [
    "logger.log_value(\"roc_auc_per_digit\", roc_auc_dict)"
   ]
  },
  {
   "cell_type": "markdown",
   "id": "fc43d3df",
   "metadata": {
    "papermill": {
     "duration": 0.006278,
     "end_time": "2022-12-03T06:40:44.702733",
     "exception": false,
     "start_time": "2022-12-03T06:40:44.696455",
     "status": "completed"
    },
    "tags": []
   },
   "source": [
    "### Compute and log mean ROC AUC score averaged over all digits"
   ]
  },
  {
   "cell_type": "code",
   "execution_count": 19,
   "id": "665d102b",
   "metadata": {
    "execution": {
     "iopub.execute_input": "2022-12-03T06:40:44.717991Z",
     "iopub.status.busy": "2022-12-03T06:40:44.717722Z",
     "iopub.status.idle": "2022-12-03T06:40:44.732129Z",
     "shell.execute_reply": "2022-12-03T06:40:44.731466Z"
    },
    "papermill": {
     "duration": 0.023811,
     "end_time": "2022-12-03T06:40:44.733835",
     "exception": false,
     "start_time": "2022-12-03T06:40:44.710024",
     "status": "completed"
    },
    "tags": []
   },
   "outputs": [
    {
     "name": "stdout",
     "output_type": "stream",
     "text": [
      " - Logging roc_auc_class_mean (float) : 0.9989476164011158\n"
     ]
    }
   ],
   "source": [
    "roc_auc_macro = np.mean(list(roc_auc_dict.values()))\n",
    "\n",
    "logger.log_float(\"roc_auc_class_mean\", roc_auc_macro)\n",
    "\n",
    "# assert that the same value can be computed directly using sklearn\n",
    "assert roc_auc_macro == metrics.roc_auc_score(\n",
    "    y_test, y_pred_probs_test, average=\"macro\", multi_class=\"ovr\"\n",
    ")"
   ]
  },
  {
   "cell_type": "code",
   "execution_count": 20,
   "id": "da0ebf50",
   "metadata": {
    "execution": {
     "iopub.execute_input": "2022-12-03T06:40:44.749983Z",
     "iopub.status.busy": "2022-12-03T06:40:44.749614Z",
     "iopub.status.idle": "2022-12-03T06:40:44.752997Z",
     "shell.execute_reply": "2022-12-03T06:40:44.752280Z"
    },
    "lines_to_next_cell": 0,
    "papermill": {
     "duration": 0.013359,
     "end_time": "2022-12-03T06:40:44.754953",
     "exception": false,
     "start_time": "2022-12-03T06:40:44.741594",
     "status": "completed"
    },
    "tags": []
   },
   "outputs": [],
   "source": [
    "# ---"
   ]
  },
  {
   "cell_type": "code",
   "execution_count": null,
   "id": "4b099edd",
   "metadata": {
    "papermill": {
     "duration": 0.007698,
     "end_time": "2022-12-03T06:40:44.770531",
     "exception": false,
     "start_time": "2022-12-03T06:40:44.762833",
     "status": "completed"
    },
    "tags": []
   },
   "outputs": [],
   "source": []
  }
 ],
 "metadata": {
  "jupytext": {
   "cell_metadata_filter": "tags,-all",
   "main_language": "python",
   "notebook_metadata_filter": "-all"
  },
  "language_info": {
   "codemirror_mode": {
    "name": "ipython",
    "version": 3
   },
   "file_extension": ".py",
   "mimetype": "text/x-python",
   "name": "python",
   "nbconvert_exporter": "python",
   "pygments_lexer": "ipython3",
   "version": "3.8.10"
  },
  "papermill": {
   "default_parameters": {},
   "duration": 10.133499,
   "end_time": "2022-12-03T06:40:45.902772",
   "environment_variables": {},
   "exception": null,
   "input_path": "/home/host_user/workspace/mnist-demo-pipeline/mnist-demo-pipeline/notebooks/temp-notebook-vzoc16ed.ipynb",
   "output_path": "notebooks/benchmark-model.ipynb",
   "parameters": {
    "P": {
     "_opentelemetry_traceparent": "00-faba51c76038564603f28dd2974b5c1f-9a2f4a1a53d9e5bb-01",
     "pipeline.data_lake_root": "/pipeline-outputs/data-lake",
     "pipeline.github.actor": "matiasdahl",
     "pipeline.github.base_ref": "",
     "pipeline.github.event_name": "schedule",
     "pipeline.github.head_ref": "",
     "pipeline.github.job": "run-tests-pipeline-and-persist-pipeline-outputs",
     "pipeline.github.ref": "refs/heads/development",
     "pipeline.github.ref_name": "development",
     "pipeline.github.ref_type": "branch",
     "pipeline.github.repository": "matiasdahl/dev-mnist-digits-demo-pipeline",
     "pipeline.github.run_id": "3607389562",
     "pipeline.github.runner_name": "Hosted Agent",
     "pipeline.github.sha": "ace0d01011d5e914f1921450dd5a59c11367b38d",
     "pipeline.github.workflow": "Run automated tests, pipeline and deploy results to static reporting site",
     "pipeline.pipeline_run_id": "c19a4e1f-84ff-4746-b6a2-ba3b4384e131",
     "pipeline.run_environment": "ci",
     "run.retry_nr": "0",
     "task.max_nr_retries": "1",
     "task.notebook": "notebooks/benchmark-model.py",
     "task.nr_train_images": 800,
     "task.num_cpus": 1,
     "task.timeout_s": "None"
    }
   },
   "start_time": "2022-12-03T06:40:35.769273",
   "version": "2.3.3"
  }
 },
 "nbformat": 4,
 "nbformat_minor": 5
}