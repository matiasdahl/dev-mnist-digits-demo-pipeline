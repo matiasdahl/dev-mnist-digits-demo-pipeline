{
 "cells": [
  {
   "cell_type": "markdown",
   "id": "524d6504",
   "metadata": {
    "papermill": {
     "duration": 0.003408,
     "end_time": "2022-12-03T06:40:07.312869",
     "exception": false,
     "start_time": "2022-12-03T06:40:07.309461",
     "status": "completed"
    },
    "tags": []
   },
   "source": [
    "# Split digits and labels into separate training and testing data sets"
   ]
  },
  {
   "cell_type": "markdown",
   "id": "616ec68b",
   "metadata": {
    "papermill": {
     "duration": 0.003798,
     "end_time": "2022-12-03T06:40:07.319273",
     "exception": false,
     "start_time": "2022-12-03T06:40:07.315475",
     "status": "completed"
    },
    "tags": []
   },
   "source": [
    "### Determine run parameters"
   ]
  },
  {
   "cell_type": "code",
   "execution_count": 1,
   "id": "e8cf0265",
   "metadata": {
    "execution": {
     "iopub.execute_input": "2022-12-03T06:40:07.325684Z",
     "iopub.status.busy": "2022-12-03T06:40:07.324884Z",
     "iopub.status.idle": "2022-12-03T06:40:07.332514Z",
     "shell.execute_reply": "2022-12-03T06:40:07.331869Z"
    },
    "lines_to_next_cell": 0,
    "papermill": {
     "duration": 0.012692,
     "end_time": "2022-12-03T06:40:07.334163",
     "exception": false,
     "start_time": "2022-12-03T06:40:07.321471",
     "status": "completed"
    },
    "tags": []
   },
   "outputs": [],
   "source": [
    "# ----------------- Parameters for interactive development --------------\n",
    "P = {\n",
    "    \"pipeline.data_lake_root\": \"/pipeline-outputs/data-lake\",\n",
    "    \"task.train_test_ratio\": 0.7,\n",
    "}"
   ]
  },
  {
   "cell_type": "code",
   "execution_count": 2,
   "id": "554ddf94",
   "metadata": {
    "execution": {
     "iopub.execute_input": "2022-12-03T06:40:07.339927Z",
     "iopub.status.busy": "2022-12-03T06:40:07.339697Z",
     "iopub.status.idle": "2022-12-03T06:40:07.342561Z",
     "shell.execute_reply": "2022-12-03T06:40:07.342074Z"
    },
    "lines_to_next_cell": 0,
    "papermill": {
     "duration": 0.00751,
     "end_time": "2022-12-03T06:40:07.343945",
     "exception": false,
     "start_time": "2022-12-03T06:40:07.336435",
     "status": "completed"
    },
    "tags": [
     "parameters"
    ]
   },
   "outputs": [],
   "source": [
    "# - During automated runs parameters will be injected in the below cell -"
   ]
  },
  {
   "cell_type": "code",
   "execution_count": 3,
   "id": "495b13f8",
   "metadata": {
    "execution": {
     "iopub.execute_input": "2022-12-03T06:40:07.349818Z",
     "iopub.status.busy": "2022-12-03T06:40:07.349217Z",
     "iopub.status.idle": "2022-12-03T06:40:07.353672Z",
     "shell.execute_reply": "2022-12-03T06:40:07.353112Z"
    },
    "papermill": {
     "duration": 0.009027,
     "end_time": "2022-12-03T06:40:07.355274",
     "exception": false,
     "start_time": "2022-12-03T06:40:07.346247",
     "status": "completed"
    },
    "tags": [
     "injected-parameters"
    ]
   },
   "outputs": [],
   "source": [
    "# Parameters\n",
    "P = {\n",
    "    \"pipeline.data_lake_root\": \"/pipeline-outputs/data-lake\",\n",
    "    \"pipeline.run_environment\": \"ci\",\n",
    "    \"pipeline.pipeline_run_id\": \"c19a4e1f-84ff-4746-b6a2-ba3b4384e131\",\n",
    "    \"pipeline.github.repository\": \"matiasdahl/dev-mnist-digits-demo-pipeline\",\n",
    "    \"pipeline.github.workflow\": \"Run automated tests, pipeline and deploy results to static reporting site\",\n",
    "    \"pipeline.github.runner_name\": \"Hosted Agent\",\n",
    "    \"pipeline.github.run_id\": \"3607389562\",\n",
    "    \"pipeline.github.actor\": \"matiasdahl\",\n",
    "    \"pipeline.github.job\": \"run-tests-pipeline-and-persist-pipeline-outputs\",\n",
    "    \"pipeline.github.base_ref\": \"\",\n",
    "    \"pipeline.github.head_ref\": \"\",\n",
    "    \"pipeline.github.sha\": \"ace0d01011d5e914f1921450dd5a59c11367b38d\",\n",
    "    \"pipeline.github.ref\": \"refs/heads/development\",\n",
    "    \"pipeline.github.ref_type\": \"branch\",\n",
    "    \"pipeline.github.ref_name\": \"development\",\n",
    "    \"pipeline.github.event_name\": \"schedule\",\n",
    "    \"task.train_test_ratio\": 0.7,\n",
    "    \"task.notebook\": \"notebooks/split-train-test.py\",\n",
    "    \"task.max_nr_retries\": \"1\",\n",
    "    \"run.retry_nr\": \"0\",\n",
    "    \"task.timeout_s\": \"None\",\n",
    "    \"task.num_cpus\": 1,\n",
    "    \"_opentelemetry_traceparent\": \"00-faba51c76038564603f28dd2974b5c1f-3ba14b771c5ca3ae-01\",\n",
    "}\n"
   ]
  },
  {
   "cell_type": "code",
   "execution_count": 4,
   "id": "69181736",
   "metadata": {
    "execution": {
     "iopub.execute_input": "2022-12-03T06:40:07.360905Z",
     "iopub.status.busy": "2022-12-03T06:40:07.360515Z",
     "iopub.status.idle": "2022-12-03T06:40:07.363299Z",
     "shell.execute_reply": "2022-12-03T06:40:07.362744Z"
    },
    "lines_to_next_cell": 0,
    "papermill": {
     "duration": 0.00725,
     "end_time": "2022-12-03T06:40:07.364680",
     "exception": false,
     "start_time": "2022-12-03T06:40:07.357430",
     "status": "completed"
    },
    "tags": []
   },
   "outputs": [],
   "source": [
    "# -----------------------------------------------------------------------"
   ]
  },
  {
   "cell_type": "markdown",
   "id": "0351e06d",
   "metadata": {
    "papermill": {
     "duration": 0.002177,
     "end_time": "2022-12-03T06:40:07.369151",
     "exception": false,
     "start_time": "2022-12-03T06:40:07.366974",
     "status": "completed"
    },
    "tags": []
   },
   "source": [
    "---"
   ]
  },
  {
   "cell_type": "markdown",
   "id": "3fb6449b",
   "metadata": {
    "lines_to_next_cell": 2,
    "papermill": {
     "duration": 0.002157,
     "end_time": "2022-12-03T06:40:07.373891",
     "exception": false,
     "start_time": "2022-12-03T06:40:07.371734",
     "status": "completed"
    },
    "tags": []
   },
   "source": [
    "### Notebook code"
   ]
  },
  {
   "cell_type": "code",
   "execution_count": 5,
   "id": "9467e56b",
   "metadata": {
    "execution": {
     "iopub.execute_input": "2022-12-03T06:40:07.379930Z",
     "iopub.status.busy": "2022-12-03T06:40:07.379412Z",
     "iopub.status.idle": "2022-12-03T06:40:07.922526Z",
     "shell.execute_reply": "2022-12-03T06:40:07.921676Z"
    },
    "papermill": {
     "duration": 0.548584,
     "end_time": "2022-12-03T06:40:07.924751",
     "exception": false,
     "start_time": "2022-12-03T06:40:07.376167",
     "status": "completed"
    },
    "tags": []
   },
   "outputs": [
    {
     "name": "stderr",
     "output_type": "stream",
     "text": [
      "2022-12-03 06:40:07,752\tINFO worker.py:842 -- Connecting to existing Ray cluster at address: 172.17.0.2:6379\n"
     ]
    }
   ],
   "source": [
    "from common.io import datalake_root, read_numpy, write_numpy\n",
    "from pynb_dag_runner.tasks.task_opentelemetry_logging import PydarLogger\n",
    "\n",
    "logger = PydarLogger(P)"
   ]
  },
  {
   "cell_type": "markdown",
   "id": "e22df9c2",
   "metadata": {
    "papermill": {
     "duration": 0.002791,
     "end_time": "2022-12-03T06:40:07.930417",
     "exception": false,
     "start_time": "2022-12-03T06:40:07.927626",
     "status": "completed"
    },
    "tags": []
   },
   "source": [
    "## Load and split digits data"
   ]
  },
  {
   "cell_type": "code",
   "execution_count": 6,
   "id": "1032a2c7",
   "metadata": {
    "execution": {
     "iopub.execute_input": "2022-12-03T06:40:07.942892Z",
     "iopub.status.busy": "2022-12-03T06:40:07.942531Z",
     "iopub.status.idle": "2022-12-03T06:40:07.947595Z",
     "shell.execute_reply": "2022-12-03T06:40:07.947052Z"
    },
    "papermill": {
     "duration": 0.020646,
     "end_time": "2022-12-03T06:40:07.953371",
     "exception": false,
     "start_time": "2022-12-03T06:40:07.932725",
     "status": "completed"
    },
    "tags": []
   },
   "outputs": [],
   "source": [
    "X = read_numpy(datalake_root(P) / \"raw\" / \"digits.numpy\")\n",
    "y = read_numpy(datalake_root(P) / \"raw\" / \"labels.numpy\")"
   ]
  },
  {
   "cell_type": "code",
   "execution_count": 7,
   "id": "eb53f23d",
   "metadata": {
    "execution": {
     "iopub.execute_input": "2022-12-03T06:40:07.961888Z",
     "iopub.status.busy": "2022-12-03T06:40:07.961592Z",
     "iopub.status.idle": "2022-12-03T06:40:08.916346Z",
     "shell.execute_reply": "2022-12-03T06:40:08.913458Z"
    },
    "papermill": {
     "duration": 0.960269,
     "end_time": "2022-12-03T06:40:08.918454",
     "exception": false,
     "start_time": "2022-12-03T06:40:07.958185",
     "status": "completed"
    },
    "tags": []
   },
   "outputs": [],
   "source": [
    "from sklearn.model_selection import train_test_split\n",
    "\n",
    "X_train, X_test, y_train, y_test = train_test_split(\n",
    "    X,\n",
    "    y,\n",
    "    train_size=P[\"task.train_test_ratio\"],\n",
    "    test_size=None,\n",
    "    stratify=y,\n",
    "    shuffle=True,\n",
    "    random_state=1,\n",
    ")\n",
    "\n",
    "# assert nr of pixels per image is the same for all image vectors\n",
    "assert X.shape[1] == X_train.shape[1] == X_test.shape[1]\n",
    "\n",
    "# assert that the (X, y)-pairs have compatible sizes (for both train and test)\n",
    "assert X_train.shape[0] == len(y_train)\n",
    "assert X_test.shape[0] == len(y_test)\n",
    "\n",
    "# assert that all data is used\n",
    "assert len(y) == len(y_train) + len(y_test)"
   ]
  },
  {
   "cell_type": "code",
   "execution_count": 8,
   "id": "e1808fb1",
   "metadata": {
    "execution": {
     "iopub.execute_input": "2022-12-03T06:40:08.928824Z",
     "iopub.status.busy": "2022-12-03T06:40:08.928554Z",
     "iopub.status.idle": "2022-12-03T06:40:08.936043Z",
     "shell.execute_reply": "2022-12-03T06:40:08.935324Z"
    },
    "papermill": {
     "duration": 0.017316,
     "end_time": "2022-12-03T06:40:08.940437",
     "exception": false,
     "start_time": "2022-12-03T06:40:08.923121",
     "status": "completed"
    },
    "tags": []
   },
   "outputs": [
    {
     "name": "stdout",
     "output_type": "stream",
     "text": [
      " - Logging nr_digits_train (int) : 1257\n",
      " - Logging nr_digits_test (int) : 540\n"
     ]
    }
   ],
   "source": [
    "logger.log_int(\"nr_digits_train\", len(y_train))\n",
    "logger.log_int(\"nr_digits_test\", len(y_test))"
   ]
  },
  {
   "cell_type": "markdown",
   "id": "a26f4a54",
   "metadata": {
    "papermill": {
     "duration": 0.002418,
     "end_time": "2022-12-03T06:40:08.950634",
     "exception": false,
     "start_time": "2022-12-03T06:40:08.948216",
     "status": "completed"
    },
    "tags": []
   },
   "source": [
    "### Persist training and test data sets to separate files"
   ]
  },
  {
   "cell_type": "code",
   "execution_count": 9,
   "id": "82fa90b6",
   "metadata": {
    "execution": {
     "iopub.execute_input": "2022-12-03T06:40:08.964421Z",
     "iopub.status.busy": "2022-12-03T06:40:08.964152Z",
     "iopub.status.idle": "2022-12-03T06:40:08.969895Z",
     "shell.execute_reply": "2022-12-03T06:40:08.969150Z"
    },
    "papermill": {
     "duration": 0.018707,
     "end_time": "2022-12-03T06:40:08.971812",
     "exception": false,
     "start_time": "2022-12-03T06:40:08.953105",
     "status": "completed"
    },
    "tags": []
   },
   "outputs": [],
   "source": [
    "write_numpy(datalake_root(P) / \"train-data\" / \"digits.numpy\", X_train)\n",
    "write_numpy(datalake_root(P) / \"train-data\" / \"labels.numpy\", y_train)\n",
    "\n",
    "#\n",
    "write_numpy(datalake_root(P) / \"test-data\" / \"digits.numpy\", X_test)\n",
    "write_numpy(datalake_root(P) / \"test-data\" / \"labels.numpy\", y_test)"
   ]
  },
  {
   "cell_type": "code",
   "execution_count": null,
   "id": "49f81723",
   "metadata": {
    "papermill": {
     "duration": 0.002434,
     "end_time": "2022-12-03T06:40:08.976833",
     "exception": false,
     "start_time": "2022-12-03T06:40:08.974399",
     "status": "completed"
    },
    "tags": []
   },
   "outputs": [],
   "source": []
  }
 ],
 "metadata": {
  "jupytext": {
   "cell_metadata_filter": "tags,-all",
   "main_language": "python",
   "notebook_metadata_filter": "-all"
  },
  "language_info": {
   "codemirror_mode": {
    "name": "ipython",
    "version": 3
   },
   "file_extension": ".py",
   "mimetype": "text/x-python",
   "name": "python",
   "nbconvert_exporter": "python",
   "pygments_lexer": "ipython3",
   "version": "3.8.10"
  },
  "papermill": {
   "default_parameters": {},
   "duration": 3.933399,
   "end_time": "2022-12-03T06:40:10.003584",
   "environment_variables": {},
   "exception": null,
   "input_path": "/home/host_user/workspace/mnist-demo-pipeline/mnist-demo-pipeline/notebooks/temp-notebook-qu0gkl3f.ipynb",
   "output_path": "notebooks/split-train-test.ipynb",
   "parameters": {
    "P": {
     "_opentelemetry_traceparent": "00-faba51c76038564603f28dd2974b5c1f-3ba14b771c5ca3ae-01",
     "pipeline.data_lake_root": "/pipeline-outputs/data-lake",
     "pipeline.github.actor": "matiasdahl",
     "pipeline.github.base_ref": "",
     "pipeline.github.event_name": "schedule",
     "pipeline.github.head_ref": "",
     "pipeline.github.job": "run-tests-pipeline-and-persist-pipeline-outputs",
     "pipeline.github.ref": "refs/heads/development",
     "pipeline.github.ref_name": "development",
     "pipeline.github.ref_type": "branch",
     "pipeline.github.repository": "matiasdahl/dev-mnist-digits-demo-pipeline",
     "pipeline.github.run_id": "3607389562",
     "pipeline.github.runner_name": "Hosted Agent",
     "pipeline.github.sha": "ace0d01011d5e914f1921450dd5a59c11367b38d",
     "pipeline.github.workflow": "Run automated tests, pipeline and deploy results to static reporting site",
     "pipeline.pipeline_run_id": "c19a4e1f-84ff-4746-b6a2-ba3b4384e131",
     "pipeline.run_environment": "ci",
     "run.retry_nr": "0",
     "task.max_nr_retries": "1",
     "task.notebook": "notebooks/split-train-test.py",
     "task.num_cpus": 1,
     "task.timeout_s": "None",
     "task.train_test_ratio": 0.7
    }
   },
   "start_time": "2022-12-03T06:40:06.070185",
   "version": "2.3.3"
  }
 },
 "nbformat": 4,
 "nbformat_minor": 5
}