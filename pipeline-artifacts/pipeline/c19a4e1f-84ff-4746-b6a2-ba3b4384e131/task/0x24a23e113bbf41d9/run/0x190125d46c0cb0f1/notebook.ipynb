{
 "cells": [
  {
   "cell_type": "markdown",
   "id": "d62dd331",
   "metadata": {
    "papermill": {
     "duration": 0.006075,
     "end_time": "2022-12-03T06:40:32.039927",
     "exception": false,
     "start_time": "2022-12-03T06:40:32.033852",
     "status": "completed"
    },
    "tags": []
   },
   "source": [
    "# Benchmark model\n",
    "\n",
    "The purpose of this notebook is to benchmark persisted onnx-model (trained in the\n",
    "previous step) against evaluation set."
   ]
  },
  {
   "cell_type": "markdown",
   "id": "8e5efbf2",
   "metadata": {
    "papermill": {
     "duration": 0.005933,
     "end_time": "2022-12-03T06:40:32.053198",
     "exception": false,
     "start_time": "2022-12-03T06:40:32.047265",
     "status": "completed"
    },
    "tags": []
   },
   "source": [
    "### Determine run parameters"
   ]
  },
  {
   "cell_type": "code",
   "execution_count": 1,
   "id": "c79c90ef",
   "metadata": {
    "execution": {
     "iopub.execute_input": "2022-12-03T06:40:32.063461Z",
     "iopub.status.busy": "2022-12-03T06:40:32.063083Z",
     "iopub.status.idle": "2022-12-03T06:40:32.072478Z",
     "shell.execute_reply": "2022-12-03T06:40:32.071902Z"
    },
    "lines_to_next_cell": 0,
    "papermill": {
     "duration": 0.016719,
     "end_time": "2022-12-03T06:40:32.074546",
     "exception": false,
     "start_time": "2022-12-03T06:40:32.057827",
     "status": "completed"
    },
    "tags": []
   },
   "outputs": [],
   "source": [
    "# ----------------- Parameters for interactive development --------------\n",
    "P = {\n",
    "    \"pipeline.data_lake_root\": \"/pipeline-outputs/data-lake\",\n",
    "    \"task.nr_train_images\": 600,\n",
    "}"
   ]
  },
  {
   "cell_type": "code",
   "execution_count": 2,
   "id": "166b7bea",
   "metadata": {
    "execution": {
     "iopub.execute_input": "2022-12-03T06:40:32.084955Z",
     "iopub.status.busy": "2022-12-03T06:40:32.084699Z",
     "iopub.status.idle": "2022-12-03T06:40:32.088188Z",
     "shell.execute_reply": "2022-12-03T06:40:32.087308Z"
    },
    "lines_to_next_cell": 0,
    "papermill": {
     "duration": 0.012107,
     "end_time": "2022-12-03T06:40:32.091348",
     "exception": false,
     "start_time": "2022-12-03T06:40:32.079241",
     "status": "completed"
    },
    "tags": [
     "parameters"
    ]
   },
   "outputs": [],
   "source": [
    "# - During automated runs parameters will be injected in the below cell -"
   ]
  },
  {
   "cell_type": "code",
   "execution_count": 3,
   "id": "d552fab9",
   "metadata": {
    "execution": {
     "iopub.execute_input": "2022-12-03T06:40:32.100656Z",
     "iopub.status.busy": "2022-12-03T06:40:32.100441Z",
     "iopub.status.idle": "2022-12-03T06:40:32.105215Z",
     "shell.execute_reply": "2022-12-03T06:40:32.104687Z"
    },
    "papermill": {
     "duration": 0.013237,
     "end_time": "2022-12-03T06:40:32.108418",
     "exception": false,
     "start_time": "2022-12-03T06:40:32.095181",
     "status": "completed"
    },
    "tags": [
     "injected-parameters"
    ]
   },
   "outputs": [],
   "source": [
    "# Parameters\n",
    "P = {\n",
    "    \"pipeline.data_lake_root\": \"/pipeline-outputs/data-lake\",\n",
    "    \"pipeline.run_environment\": \"ci\",\n",
    "    \"pipeline.pipeline_run_id\": \"c19a4e1f-84ff-4746-b6a2-ba3b4384e131\",\n",
    "    \"pipeline.github.repository\": \"matiasdahl/dev-mnist-digits-demo-pipeline\",\n",
    "    \"pipeline.github.workflow\": \"Run automated tests, pipeline and deploy results to static reporting site\",\n",
    "    \"pipeline.github.runner_name\": \"Hosted Agent\",\n",
    "    \"pipeline.github.run_id\": \"3607389562\",\n",
    "    \"pipeline.github.actor\": \"matiasdahl\",\n",
    "    \"pipeline.github.job\": \"run-tests-pipeline-and-persist-pipeline-outputs\",\n",
    "    \"pipeline.github.base_ref\": \"\",\n",
    "    \"pipeline.github.head_ref\": \"\",\n",
    "    \"pipeline.github.sha\": \"ace0d01011d5e914f1921450dd5a59c11367b38d\",\n",
    "    \"pipeline.github.ref\": \"refs/heads/development\",\n",
    "    \"pipeline.github.ref_type\": \"branch\",\n",
    "    \"pipeline.github.ref_name\": \"development\",\n",
    "    \"pipeline.github.event_name\": \"schedule\",\n",
    "    \"task.nr_train_images\": 1000,\n",
    "    \"task.notebook\": \"notebooks/benchmark-model.py\",\n",
    "    \"task.max_nr_retries\": \"1\",\n",
    "    \"run.retry_nr\": \"0\",\n",
    "    \"task.timeout_s\": \"None\",\n",
    "    \"task.num_cpus\": 1,\n",
    "    \"_opentelemetry_traceparent\": \"00-faba51c76038564603f28dd2974b5c1f-b52d1f28dc9280fc-01\",\n",
    "}\n"
   ]
  },
  {
   "cell_type": "code",
   "execution_count": 4,
   "id": "765fb923",
   "metadata": {
    "execution": {
     "iopub.execute_input": "2022-12-03T06:40:32.117502Z",
     "iopub.status.busy": "2022-12-03T06:40:32.117272Z",
     "iopub.status.idle": "2022-12-03T06:40:32.121032Z",
     "shell.execute_reply": "2022-12-03T06:40:32.120263Z"
    },
    "lines_to_next_cell": 0,
    "papermill": {
     "duration": 0.011352,
     "end_time": "2022-12-03T06:40:32.123577",
     "exception": false,
     "start_time": "2022-12-03T06:40:32.112225",
     "status": "completed"
    },
    "tags": []
   },
   "outputs": [],
   "source": [
    "# -----------------------------------------------------------------------"
   ]
  },
  {
   "cell_type": "markdown",
   "id": "8f73d922",
   "metadata": {
    "papermill": {
     "duration": 0.00439,
     "end_time": "2022-12-03T06:40:32.131962",
     "exception": false,
     "start_time": "2022-12-03T06:40:32.127572",
     "status": "completed"
    },
    "tags": []
   },
   "source": [
    "---"
   ]
  },
  {
   "cell_type": "markdown",
   "id": "c6db39a7",
   "metadata": {
    "lines_to_next_cell": 2,
    "papermill": {
     "duration": 0.004674,
     "end_time": "2022-12-03T06:40:32.140661",
     "exception": false,
     "start_time": "2022-12-03T06:40:32.135987",
     "status": "completed"
    },
    "tags": []
   },
   "source": [
    "### Notebook code"
   ]
  },
  {
   "cell_type": "code",
   "execution_count": 5,
   "id": "78533ce3",
   "metadata": {
    "execution": {
     "iopub.execute_input": "2022-12-03T06:40:32.155414Z",
     "iopub.status.busy": "2022-12-03T06:40:32.155129Z",
     "iopub.status.idle": "2022-12-03T06:40:33.288078Z",
     "shell.execute_reply": "2022-12-03T06:40:33.287110Z"
    },
    "papermill": {
     "duration": 1.145589,
     "end_time": "2022-12-03T06:40:33.290373",
     "exception": false,
     "start_time": "2022-12-03T06:40:32.144784",
     "status": "completed"
    },
    "tags": []
   },
   "outputs": [
    {
     "name": "stderr",
     "output_type": "stream",
     "text": [
      "2022-12-03 06:40:33,111\tINFO worker.py:842 -- Connecting to existing Ray cluster at address: 172.17.0.2:6379\n"
     ]
    }
   ],
   "source": [
    "import itertools as it\n",
    "\n",
    "#\n",
    "import numpy as np\n",
    "import matplotlib.pyplot as plt\n",
    "\n",
    "#\n",
    "from pynb_dag_runner.tasks.task_opentelemetry_logging import PydarLogger\n",
    "\n",
    "#\n",
    "from common.io import datalake_root\n",
    "\n",
    "logger = PydarLogger(P)"
   ]
  },
  {
   "cell_type": "markdown",
   "id": "0751f9d4",
   "metadata": {
    "papermill": {
     "duration": 0.004034,
     "end_time": "2022-12-03T06:40:33.299503",
     "exception": false,
     "start_time": "2022-12-03T06:40:33.295469",
     "status": "completed"
    },
    "tags": []
   },
   "source": [
    "## Load persisted onnx-model and evaluation data"
   ]
  },
  {
   "cell_type": "code",
   "execution_count": 6,
   "id": "b0b3095c",
   "metadata": {
    "execution": {
     "iopub.execute_input": "2022-12-03T06:40:33.310594Z",
     "iopub.status.busy": "2022-12-03T06:40:33.309517Z",
     "iopub.status.idle": "2022-12-03T06:40:33.313401Z",
     "shell.execute_reply": "2022-12-03T06:40:33.312899Z"
    },
    "papermill": {
     "duration": 0.011397,
     "end_time": "2022-12-03T06:40:33.315232",
     "exception": false,
     "start_time": "2022-12-03T06:40:33.303835",
     "status": "completed"
    },
    "tags": []
   },
   "outputs": [],
   "source": [
    "from common.io import read_onnx, get_onnx_inputs, get_onnx_outputs, read_numpy"
   ]
  },
  {
   "cell_type": "code",
   "execution_count": 7,
   "id": "e8890f5a",
   "metadata": {
    "execution": {
     "iopub.execute_input": "2022-12-03T06:40:33.325544Z",
     "iopub.status.busy": "2022-12-03T06:40:33.325017Z",
     "iopub.status.idle": "2022-12-03T06:40:33.335043Z",
     "shell.execute_reply": "2022-12-03T06:40:33.334513Z"
    },
    "lines_to_next_cell": 0,
    "papermill": {
     "duration": 0.016989,
     "end_time": "2022-12-03T06:40:33.336452",
     "exception": false,
     "start_time": "2022-12-03T06:40:33.319463",
     "status": "completed"
    },
    "tags": []
   },
   "outputs": [],
   "source": [
    "onnx_inference_session = read_onnx(\n",
    "    datalake_root(P)\n",
    "    / \"models\"\n",
    "    / f\"nr_train_images={P['task.nr_train_images']}\"\n",
    "    / \"model.onnx\"\n",
    ")"
   ]
  },
  {
   "cell_type": "markdown",
   "id": "3f92daf7",
   "metadata": {
    "papermill": {
     "duration": 0.004704,
     "end_time": "2022-12-03T06:40:33.345408",
     "exception": false,
     "start_time": "2022-12-03T06:40:33.340704",
     "status": "completed"
    },
    "tags": []
   },
   "source": [
    "### Record structure of inputs and outputs for ONNX model\n",
    "\n",
    "(this should likely be done in training notebook)"
   ]
  },
  {
   "cell_type": "code",
   "execution_count": 8,
   "id": "ca3bfe73",
   "metadata": {
    "execution": {
     "iopub.execute_input": "2022-12-03T06:40:33.357643Z",
     "iopub.status.busy": "2022-12-03T06:40:33.356423Z",
     "iopub.status.idle": "2022-12-03T06:40:33.363829Z",
     "shell.execute_reply": "2022-12-03T06:40:33.363293Z"
    },
    "papermill": {
     "duration": 0.015662,
     "end_time": "2022-12-03T06:40:33.365922",
     "exception": false,
     "start_time": "2022-12-03T06:40:33.350260",
     "status": "completed"
    },
    "tags": []
   },
   "outputs": [
    {
     "name": "stdout",
     "output_type": "stream",
     "text": [
      "{\n",
      "  \"inputs\": [\n",
      "    {\n",
      "      \"name\": \"float_input_8x8_image\",\n",
      "      \"shape\": [\n",
      "        null,\n",
      "        64\n",
      "      ],\n",
      "      \"type\": \"tensor(float)\"\n",
      "    }\n",
      "  ],\n",
      "  \"outputs\": [\n",
      "    {\n",
      "      \"name\": \"output_label\",\n",
      "      \"shape\": [\n",
      "        null\n",
      "      ],\n",
      "      \"type\": \"tensor(int64)\"\n",
      "    },\n",
      "    {\n",
      "      \"name\": \"output_probability\",\n",
      "      \"shape\": [],\n",
      "      \"type\": \"seq(map(int64,tensor(float)))\"\n",
      "    }\n",
      "  ]\n",
      "}\n"
     ]
    }
   ],
   "source": [
    "import json\n",
    "\n",
    "onnx_io = json.dumps(\n",
    "    {\n",
    "        \"inputs\": get_onnx_inputs(onnx_inference_session),\n",
    "        \"outputs\": get_onnx_outputs(onnx_inference_session),\n",
    "    },\n",
    "    indent=2,\n",
    ")\n",
    "\n",
    "\n",
    "logger.log_artefact(\"onnx_io_structure.json\", onnx_io)\n",
    "print(onnx_io)"
   ]
  },
  {
   "cell_type": "markdown",
   "id": "6cbd77fd",
   "metadata": {
    "papermill": {
     "duration": 0.004435,
     "end_time": "2022-12-03T06:40:33.374567",
     "exception": false,
     "start_time": "2022-12-03T06:40:33.370132",
     "status": "completed"
    },
    "tags": []
   },
   "source": [
    "### Evaluate model performance on evaluation data set"
   ]
  },
  {
   "cell_type": "code",
   "execution_count": 9,
   "id": "5325af78",
   "metadata": {
    "execution": {
     "iopub.execute_input": "2022-12-03T06:40:33.388204Z",
     "iopub.status.busy": "2022-12-03T06:40:33.387555Z",
     "iopub.status.idle": "2022-12-03T06:40:33.393576Z",
     "shell.execute_reply": "2022-12-03T06:40:33.392966Z"
    },
    "papermill": {
     "duration": 0.015574,
     "end_time": "2022-12-03T06:40:33.395610",
     "exception": false,
     "start_time": "2022-12-03T06:40:33.380036",
     "status": "completed"
    },
    "tags": []
   },
   "outputs": [],
   "source": [
    "# load evaluation data\n",
    "X_test = read_numpy(datalake_root(P) / \"test-data\" / \"digits.numpy\")\n",
    "y_test = read_numpy(datalake_root(P) / \"test-data\" / \"labels.numpy\")"
   ]
  },
  {
   "cell_type": "code",
   "execution_count": 10,
   "id": "90e4515e",
   "metadata": {
    "execution": {
     "iopub.execute_input": "2022-12-03T06:40:33.405128Z",
     "iopub.status.busy": "2022-12-03T06:40:33.404819Z",
     "iopub.status.idle": "2022-12-03T06:40:33.476821Z",
     "shell.execute_reply": "2022-12-03T06:40:33.476090Z"
    },
    "papermill": {
     "duration": 0.078932,
     "end_time": "2022-12-03T06:40:33.478838",
     "exception": false,
     "start_time": "2022-12-03T06:40:33.399906",
     "status": "completed"
    },
    "tags": []
   },
   "outputs": [],
   "source": [
    "def get_model_outputs(X, onnx_inference_session):\n",
    "    y_pred_labels, y_pred_map = onnx_inference_session.run(\n",
    "        [\"output_label\", \"output_probability\"],\n",
    "        {\"float_input_8x8_image\": X.astype(np.float32)},\n",
    "    )\n",
    "    y_pred_probs = np.array(\n",
    "        [[probabilities[digit] for digit in range(10)] for probabilities in y_pred_map]\n",
    "    )\n",
    "\n",
    "    assert y_pred_labels.shape == (X.shape[0],)\n",
    "    assert y_pred_probs.shape == (X.shape[0], 10)\n",
    "\n",
    "    return y_pred_labels, y_pred_probs\n",
    "\n",
    "\n",
    "# Note: as shown in the training notebook, the predicted labels and probabilities\n",
    "# computed below need not be compatible.\n",
    "y_pred_labels_test, y_pred_probs_test = get_model_outputs(\n",
    "    X_test, onnx_inference_session\n",
    ")"
   ]
  },
  {
   "cell_type": "markdown",
   "id": "b3b380d5",
   "metadata": {
    "papermill": {
     "duration": 0.005095,
     "end_time": "2022-12-03T06:40:33.491725",
     "exception": false,
     "start_time": "2022-12-03T06:40:33.486630",
     "status": "completed"
    },
    "tags": []
   },
   "source": [
    "### Confusion matrix"
   ]
  },
  {
   "cell_type": "code",
   "execution_count": 11,
   "id": "922e8291",
   "metadata": {
    "execution": {
     "iopub.execute_input": "2022-12-03T06:40:33.501365Z",
     "iopub.status.busy": "2022-12-03T06:40:33.500927Z",
     "iopub.status.idle": "2022-12-03T06:40:33.504206Z",
     "shell.execute_reply": "2022-12-03T06:40:33.503491Z"
    },
    "papermill": {
     "duration": 0.010159,
     "end_time": "2022-12-03T06:40:33.506089",
     "exception": false,
     "start_time": "2022-12-03T06:40:33.495930",
     "status": "completed"
    },
    "tags": []
   },
   "outputs": [],
   "source": [
    "# TODO"
   ]
  },
  {
   "cell_type": "markdown",
   "id": "307e5450",
   "metadata": {
    "papermill": {
     "duration": 0.004138,
     "end_time": "2022-12-03T06:40:33.514728",
     "exception": false,
     "start_time": "2022-12-03T06:40:33.510590",
     "status": "completed"
    },
    "tags": []
   },
   "source": [
    "### Plot predicted probabilities for each classifier over all evaluation digit images"
   ]
  },
  {
   "cell_type": "code",
   "execution_count": 12,
   "id": "5186a9a1",
   "metadata": {
    "execution": {
     "iopub.execute_input": "2022-12-03T06:40:33.524784Z",
     "iopub.status.busy": "2022-12-03T06:40:33.524312Z",
     "iopub.status.idle": "2022-12-03T06:40:36.701186Z",
     "shell.execute_reply": "2022-12-03T06:40:36.700437Z"
    },
    "papermill": {
     "duration": 3.184336,
     "end_time": "2022-12-03T06:40:36.703418",
     "exception": false,
     "start_time": "2022-12-03T06:40:33.519082",
     "status": "completed"
    },
    "tags": []
   },
   "outputs": [
    {
     "data": {
      "image/png": "[encoded data removed]",
      "text/plain": [
       "<Figure size 1600x600 with 10 Axes>"
      ]
     },
     "metadata": {},
     "output_type": "display_data"
    }
   ],
   "source": [
    "def plot_per_digit_probabilities(y_pred_probs):\n",
    "    fig, axs = plt.subplots(nrows=2, ncols=5, figsize=(16, 6))\n",
    "\n",
    "    for (r, c), digit, ax in zip(\n",
    "        it.product(range(2), range(5)), range(10), axs.reshape(-1)\n",
    "    ):\n",
    "        ax.hist(y_pred_probs_test[:, digit], bins=20)\n",
    "\n",
    "        ax.set_title(f\"Digit {digit}\")\n",
    "        if r == 1 and c == 2:\n",
    "            ax.set_xlabel(\"probability\", fontsize=16)\n",
    "\n",
    "        if c == 0:\n",
    "            ax.set_ylabel(\"counts\", fontsize=16)\n",
    "        ax.set_yscale(\"log\")\n",
    "\n",
    "    fig.tight_layout()\n",
    "    fig.suptitle(\n",
    "        f\"Distributions of prediction probabilities for each digit \"\n",
    "        f\"(on evaluation data, n={y_pred_probs.shape[0]})\",\n",
    "        fontsize=20,\n",
    "    )\n",
    "    fig.tight_layout()\n",
    "    fig.show()\n",
    "\n",
    "    return fig\n",
    "\n",
    "\n",
    "fig = plot_per_digit_probabilities(y_pred_probs_test)"
   ]
  },
  {
   "cell_type": "markdown",
   "id": "c3b9114c",
   "metadata": {
    "papermill": {
     "duration": 0.005492,
     "end_time": "2022-12-03T06:40:36.714486",
     "exception": false,
     "start_time": "2022-12-03T06:40:36.708994",
     "status": "completed"
    },
    "tags": []
   },
   "source": [
    "From the above distributions we see that most digits have clear separation between\n",
    "high and lower probabilities. Morover, in each case there is roughly an order of\n",
    "magnitude more of digits with low probabilities. This is compatible with digits\n",
    "being roughly evenly distributed in the data."
   ]
  },
  {
   "cell_type": "code",
   "execution_count": 13,
   "id": "6876076c",
   "metadata": {
    "execution": {
     "iopub.execute_input": "2022-12-03T06:40:36.727011Z",
     "iopub.status.busy": "2022-12-03T06:40:36.726516Z",
     "iopub.status.idle": "2022-12-03T06:40:37.201058Z",
     "shell.execute_reply": "2022-12-03T06:40:37.200399Z"
    },
    "papermill": {
     "duration": 0.483412,
     "end_time": "2022-12-03T06:40:37.203398",
     "exception": false,
     "start_time": "2022-12-03T06:40:36.719986",
     "status": "completed"
    },
    "tags": []
   },
   "outputs": [],
   "source": [
    "logger.log_figure(\"per-digit-probabilities.png\", fig)"
   ]
  },
  {
   "cell_type": "markdown",
   "id": "906a6f22",
   "metadata": {
    "papermill": {
     "duration": 0.008519,
     "end_time": "2022-12-03T06:40:37.219451",
     "exception": false,
     "start_time": "2022-12-03T06:40:37.210932",
     "status": "completed"
    },
    "tags": []
   },
   "source": [
    "### Plot ROC curves for individual one-vs-rest classifiers"
   ]
  },
  {
   "cell_type": "code",
   "execution_count": 14,
   "id": "807752dc",
   "metadata": {
    "execution": {
     "iopub.execute_input": "2022-12-03T06:40:37.232604Z",
     "iopub.status.busy": "2022-12-03T06:40:37.232307Z",
     "iopub.status.idle": "2022-12-03T06:40:38.097878Z",
     "shell.execute_reply": "2022-12-03T06:40:38.097185Z"
    },
    "papermill": {
     "duration": 0.874216,
     "end_time": "2022-12-03T06:40:38.099687",
     "exception": false,
     "start_time": "2022-12-03T06:40:37.225471",
     "status": "completed"
    },
    "tags": []
   },
   "outputs": [],
   "source": [
    "from sklearn import metrics"
   ]
  },
  {
   "cell_type": "code",
   "execution_count": 15,
   "id": "2bcaa21d",
   "metadata": {
    "execution": {
     "iopub.execute_input": "2022-12-03T06:40:38.112631Z",
     "iopub.status.busy": "2022-12-03T06:40:38.112362Z",
     "iopub.status.idle": "2022-12-03T06:40:39.286932Z",
     "shell.execute_reply": "2022-12-03T06:40:39.286340Z"
    },
    "papermill": {
     "duration": 1.182961,
     "end_time": "2022-12-03T06:40:39.288476",
     "exception": false,
     "start_time": "2022-12-03T06:40:38.105515",
     "status": "completed"
    },
    "tags": []
   },
   "outputs": [
    {
     "data": {
      "image/png": "[encoded data removed]",
      "text/plain": [
       "<Figure size 1600x800 with 10 Axes>"
      ]
     },
     "metadata": {},
     "output_type": "display_data"
    }
   ],
   "source": [
    "def plot_roc_curves(y, y_pred_probs):\n",
    "    # based on example code\n",
    "    # https://scikit-learn.org/stable/auto_examples/model_selection/plot_roc.html\n",
    "\n",
    "    fig, axs = plt.subplots(nrows=2, ncols=5, figsize=(16, 8))\n",
    "\n",
    "    roc_auc_dict = {}\n",
    "\n",
    "    for (r, c), digit, ax in zip(\n",
    "        it.product(range(2), range(5)), range(10), axs.reshape(-1)\n",
    "    ):\n",
    "        fpr, tpr, _ = metrics.roc_curve(y == digit, y_pred_probs[:, digit])\n",
    "        auc = metrics.auc(fpr, tpr)\n",
    "        roc_auc_dict[str(digit)] = auc\n",
    "\n",
    "        ax.plot(fpr, tpr, label=f\"ROC AUC={round(auc, 3)}\")\n",
    "\n",
    "        ax.set_title(f\"\\nDigit {digit}\", fontsize=16)\n",
    "        if r == 1:\n",
    "            ax.set_xlabel(\"FPR\", fontsize=18)\n",
    "\n",
    "        if c == 0:\n",
    "            ax.set_ylabel(\"TPR\", fontsize=18)\n",
    "\n",
    "        ax.set_xlim([-0.05, 1.05])\n",
    "        ax.set_ylim([-0.05, 1.05])\n",
    "        ax.legend(loc=\"lower right\", frameon=False, fontsize=14)\n",
    "\n",
    "    fig.tight_layout()\n",
    "    fig.suptitle(\n",
    "        f\"ROC plots for one-vs-rest performances \"\n",
    "        f\"(on evaluation data, n={y_pred_probs_test.shape[1]}\",\n",
    "        fontsize=22,\n",
    "    )\n",
    "    fig.tight_layout()\n",
    "    fig.show()\n",
    "\n",
    "    return roc_auc_dict, fig\n",
    "\n",
    "\n",
    "roc_auc_dict, fig = plot_roc_curves(y_test, y_pred_probs_test)"
   ]
  },
  {
   "cell_type": "code",
   "execution_count": 16,
   "id": "bd72be0d",
   "metadata": {
    "execution": {
     "iopub.execute_input": "2022-12-03T06:40:39.303313Z",
     "iopub.status.busy": "2022-12-03T06:40:39.303043Z",
     "iopub.status.idle": "2022-12-03T06:40:39.549014Z",
     "shell.execute_reply": "2022-12-03T06:40:39.548158Z"
    },
    "papermill": {
     "duration": 0.255645,
     "end_time": "2022-12-03T06:40:39.551034",
     "exception": false,
     "start_time": "2022-12-03T06:40:39.295389",
     "status": "completed"
    },
    "tags": []
   },
   "outputs": [],
   "source": [
    "logger.log_figure(\"per-digit-roc-curves.png\", fig)"
   ]
  },
  {
   "cell_type": "code",
   "execution_count": 17,
   "id": "2efc9745",
   "metadata": {
    "execution": {
     "iopub.execute_input": "2022-12-03T06:40:39.566984Z",
     "iopub.status.busy": "2022-12-03T06:40:39.566526Z",
     "iopub.status.idle": "2022-12-03T06:40:39.572221Z",
     "shell.execute_reply": "2022-12-03T06:40:39.571508Z"
    },
    "papermill": {
     "duration": 0.015966,
     "end_time": "2022-12-03T06:40:39.575157",
     "exception": false,
     "start_time": "2022-12-03T06:40:39.559191",
     "status": "completed"
    },
    "tags": []
   },
   "outputs": [
    {
     "data": {
      "text/plain": [
       "{'0': 1.0,\n",
       " '1': 0.998987816307404,\n",
       " '2': 1.0,\n",
       " '3': 0.9998875351452671,\n",
       " '4': 0.9996189605243103,\n",
       " '5': 0.9994376757263355,\n",
       " '6': 0.999923792104862,\n",
       " '7': 0.9997332723670171,\n",
       " '8': 0.9951134930643127,\n",
       " '9': 0.9995808565767413}"
      ]
     },
     "execution_count": 17,
     "metadata": {},
     "output_type": "execute_result"
    }
   ],
   "source": [
    "roc_auc_dict"
   ]
  },
  {
   "cell_type": "code",
   "execution_count": 18,
   "id": "8e095664",
   "metadata": {
    "execution": {
     "iopub.execute_input": "2022-12-03T06:40:39.590418Z",
     "iopub.status.busy": "2022-12-03T06:40:39.590022Z",
     "iopub.status.idle": "2022-12-03T06:40:39.594849Z",
     "shell.execute_reply": "2022-12-03T06:40:39.594303Z"
    },
    "papermill": {
     "duration": 0.016754,
     "end_time": "2022-12-03T06:40:39.599046",
     "exception": false,
     "start_time": "2022-12-03T06:40:39.582292",
     "status": "completed"
    },
    "tags": []
   },
   "outputs": [
    {
     "name": "stdout",
     "output_type": "stream",
     "text": [
      " - Logging roc_auc_per_digit (json) : {'0': 1.0, '1': 0.998987816307404, '2': 1.0, '3': 0.9998875351452671, '4': 0.9996189605243103, '5': 0.9994376757263355, '6': 0.999923792104862, '7': 0.9997332723670171, '8': 0.9951134930643127, '9': 0.9995808565767413}\n"
     ]
    }
   ],
   "source": [
    "logger.log_value(\"roc_auc_per_digit\", roc_auc_dict)"
   ]
  },
  {
   "cell_type": "markdown",
   "id": "26c2a1e2",
   "metadata": {
    "papermill": {
     "duration": 0.006417,
     "end_time": "2022-12-03T06:40:39.612511",
     "exception": false,
     "start_time": "2022-12-03T06:40:39.606094",
     "status": "completed"
    },
    "tags": []
   },
   "source": [
    "### Compute and log mean ROC AUC score averaged over all digits"
   ]
  },
  {
   "cell_type": "code",
   "execution_count": 19,
   "id": "efe10993",
   "metadata": {
    "execution": {
     "iopub.execute_input": "2022-12-03T06:40:39.627332Z",
     "iopub.status.busy": "2022-12-03T06:40:39.626991Z",
     "iopub.status.idle": "2022-12-03T06:40:39.643988Z",
     "shell.execute_reply": "2022-12-03T06:40:39.642489Z"
    },
    "papermill": {
     "duration": 0.026648,
     "end_time": "2022-12-03T06:40:39.646237",
     "exception": false,
     "start_time": "2022-12-03T06:40:39.619589",
     "status": "completed"
    },
    "tags": []
   },
   "outputs": [
    {
     "name": "stdout",
     "output_type": "stream",
     "text": [
      " - Logging roc_auc_class_mean (float) : 0.999228340181625\n"
     ]
    }
   ],
   "source": [
    "roc_auc_macro = np.mean(list(roc_auc_dict.values()))\n",
    "\n",
    "logger.log_float(\"roc_auc_class_mean\", roc_auc_macro)\n",
    "\n",
    "# assert that the same value can be computed directly using sklearn\n",
    "assert roc_auc_macro == metrics.roc_auc_score(\n",
    "    y_test, y_pred_probs_test, average=\"macro\", multi_class=\"ovr\"\n",
    ")"
   ]
  },
  {
   "cell_type": "code",
   "execution_count": 20,
   "id": "722c0885",
   "metadata": {
    "execution": {
     "iopub.execute_input": "2022-12-03T06:40:39.662044Z",
     "iopub.status.busy": "2022-12-03T06:40:39.661776Z",
     "iopub.status.idle": "2022-12-03T06:40:39.665376Z",
     "shell.execute_reply": "2022-12-03T06:40:39.664532Z"
    },
    "lines_to_next_cell": 0,
    "papermill": {
     "duration": 0.014542,
     "end_time": "2022-12-03T06:40:39.667826",
     "exception": false,
     "start_time": "2022-12-03T06:40:39.653284",
     "status": "completed"
    },
    "tags": []
   },
   "outputs": [],
   "source": [
    "# ---"
   ]
  },
  {
   "cell_type": "code",
   "execution_count": null,
   "id": "e1080021",
   "metadata": {
    "papermill": {
     "duration": 0.007119,
     "end_time": "2022-12-03T06:40:39.682316",
     "exception": false,
     "start_time": "2022-12-03T06:40:39.675197",
     "status": "completed"
    },
    "tags": []
   },
   "outputs": [],
   "source": []
  }
 ],
 "metadata": {
  "jupytext": {
   "cell_metadata_filter": "tags,-all",
   "main_language": "python",
   "notebook_metadata_filter": "-all"
  },
  "language_info": {
   "codemirror_mode": {
    "name": "ipython",
    "version": 3
   },
   "file_extension": ".py",
   "mimetype": "text/x-python",
   "name": "python",
   "nbconvert_exporter": "python",
   "pygments_lexer": "ipython3",
   "version": "3.8.10"
  },
  "papermill": {
   "default_parameters": {},
   "duration": 10.217934,
   "end_time": "2022-12-03T06:40:41.013053",
   "environment_variables": {},
   "exception": null,
   "input_path": "/home/host_user/workspace/mnist-demo-pipeline/mnist-demo-pipeline/notebooks/temp-notebook-nqhgikbg.ipynb",
   "output_path": "notebooks/benchmark-model.ipynb",
   "parameters": {
    "P": {
     "_opentelemetry_traceparent": "00-faba51c76038564603f28dd2974b5c1f-b52d1f28dc9280fc-01",
     "pipeline.data_lake_root": "/pipeline-outputs/data-lake",
     "pipeline.github.actor": "matiasdahl",
     "pipeline.github.base_ref": "",
     "pipeline.github.event_name": "schedule",
     "pipeline.github.head_ref": "",
     "pipeline.github.job": "run-tests-pipeline-and-persist-pipeline-outputs",
     "pipeline.github.ref": "refs/heads/development",
     "pipeline.github.ref_name": "development",
     "pipeline.github.ref_type": "branch",
     "pipeline.github.repository": "matiasdahl/dev-mnist-digits-demo-pipeline",
     "pipeline.github.run_id": "3607389562",
     "pipeline.github.runner_name": "Hosted Agent",
     "pipeline.github.sha": "ace0d01011d5e914f1921450dd5a59c11367b38d",
     "pipeline.github.workflow": "Run automated tests, pipeline and deploy results to static reporting site",
     "pipeline.pipeline_run_id": "c19a4e1f-84ff-4746-b6a2-ba3b4384e131",
     "pipeline.run_environment": "ci",
     "run.retry_nr": "0",
     "task.max_nr_retries": "1",
     "task.notebook": "notebooks/benchmark-model.py",
     "task.nr_train_images": 1000,
     "task.num_cpus": 1,
     "task.timeout_s": "None"
    }
   },
   "start_time": "2022-12-03T06:40:30.795119",
   "version": "2.3.3"
  }
 },
 "nbformat": 4,
 "nbformat_minor": 5
}