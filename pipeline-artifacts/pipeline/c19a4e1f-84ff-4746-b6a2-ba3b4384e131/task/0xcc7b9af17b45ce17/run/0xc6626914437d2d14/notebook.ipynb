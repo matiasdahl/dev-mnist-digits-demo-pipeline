{
 "cells": [
  {
   "cell_type": "markdown",
   "id": "9ab5fcc5",
   "metadata": {
    "papermill": {
     "duration": 0.005344,
     "end_time": "2022-12-03T06:40:25.627086",
     "exception": false,
     "start_time": "2022-12-03T06:40:25.621742",
     "status": "completed"
    },
    "tags": []
   },
   "source": [
    "# Benchmark model\n",
    "\n",
    "The purpose of this notebook is to benchmark persisted onnx-model (trained in the\n",
    "previous step) against evaluation set."
   ]
  },
  {
   "cell_type": "markdown",
   "id": "99f93208",
   "metadata": {
    "papermill": {
     "duration": 0.003765,
     "end_time": "2022-12-03T06:40:25.635159",
     "exception": false,
     "start_time": "2022-12-03T06:40:25.631394",
     "status": "completed"
    },
    "tags": []
   },
   "source": [
    "### Determine run parameters"
   ]
  },
  {
   "cell_type": "code",
   "execution_count": 1,
   "id": "5ae94766",
   "metadata": {
    "execution": {
     "iopub.execute_input": "2022-12-03T06:40:25.644808Z",
     "iopub.status.busy": "2022-12-03T06:40:25.643986Z",
     "iopub.status.idle": "2022-12-03T06:40:25.652043Z",
     "shell.execute_reply": "2022-12-03T06:40:25.651391Z"
    },
    "lines_to_next_cell": 0,
    "papermill": {
     "duration": 0.015073,
     "end_time": "2022-12-03T06:40:25.653858",
     "exception": false,
     "start_time": "2022-12-03T06:40:25.638785",
     "status": "completed"
    },
    "tags": []
   },
   "outputs": [],
   "source": [
    "# ----------------- Parameters for interactive development --------------\n",
    "P = {\n",
    "    \"pipeline.data_lake_root\": \"/pipeline-outputs/data-lake\",\n",
    "    \"task.nr_train_images\": 600,\n",
    "}"
   ]
  },
  {
   "cell_type": "code",
   "execution_count": 2,
   "id": "ec11b85d",
   "metadata": {
    "execution": {
     "iopub.execute_input": "2022-12-03T06:40:25.667345Z",
     "iopub.status.busy": "2022-12-03T06:40:25.667067Z",
     "iopub.status.idle": "2022-12-03T06:40:25.670162Z",
     "shell.execute_reply": "2022-12-03T06:40:25.669599Z"
    },
    "lines_to_next_cell": 0,
    "papermill": {
     "duration": 0.010945,
     "end_time": "2022-12-03T06:40:25.673086",
     "exception": false,
     "start_time": "2022-12-03T06:40:25.662141",
     "status": "completed"
    },
    "tags": [
     "parameters"
    ]
   },
   "outputs": [],
   "source": [
    "# - During automated runs parameters will be injected in the below cell -"
   ]
  },
  {
   "cell_type": "code",
   "execution_count": 3,
   "id": "64bf44dd",
   "metadata": {
    "execution": {
     "iopub.execute_input": "2022-12-03T06:40:25.683486Z",
     "iopub.status.busy": "2022-12-03T06:40:25.683174Z",
     "iopub.status.idle": "2022-12-03T06:40:25.688313Z",
     "shell.execute_reply": "2022-12-03T06:40:25.687590Z"
    },
    "papermill": {
     "duration": 0.013614,
     "end_time": "2022-12-03T06:40:25.690656",
     "exception": false,
     "start_time": "2022-12-03T06:40:25.677042",
     "status": "completed"
    },
    "tags": [
     "injected-parameters"
    ]
   },
   "outputs": [],
   "source": [
    "# Parameters\n",
    "P = {\n",
    "    \"pipeline.data_lake_root\": \"/pipeline-outputs/data-lake\",\n",
    "    \"pipeline.run_environment\": \"ci\",\n",
    "    \"pipeline.pipeline_run_id\": \"c19a4e1f-84ff-4746-b6a2-ba3b4384e131\",\n",
    "    \"pipeline.github.repository\": \"matiasdahl/dev-mnist-digits-demo-pipeline\",\n",
    "    \"pipeline.github.workflow\": \"Run automated tests, pipeline and deploy results to static reporting site\",\n",
    "    \"pipeline.github.runner_name\": \"Hosted Agent\",\n",
    "    \"pipeline.github.run_id\": \"3607389562\",\n",
    "    \"pipeline.github.actor\": \"matiasdahl\",\n",
    "    \"pipeline.github.job\": \"run-tests-pipeline-and-persist-pipeline-outputs\",\n",
    "    \"pipeline.github.base_ref\": \"\",\n",
    "    \"pipeline.github.head_ref\": \"\",\n",
    "    \"pipeline.github.sha\": \"ace0d01011d5e914f1921450dd5a59c11367b38d\",\n",
    "    \"pipeline.github.ref\": \"refs/heads/development\",\n",
    "    \"pipeline.github.ref_type\": \"branch\",\n",
    "    \"pipeline.github.ref_name\": \"development\",\n",
    "    \"pipeline.github.event_name\": \"schedule\",\n",
    "    \"task.nr_train_images\": 600,\n",
    "    \"task.notebook\": \"notebooks/benchmark-model.py\",\n",
    "    \"task.max_nr_retries\": \"1\",\n",
    "    \"run.retry_nr\": \"0\",\n",
    "    \"task.timeout_s\": \"None\",\n",
    "    \"task.num_cpus\": 1,\n",
    "    \"_opentelemetry_traceparent\": \"00-faba51c76038564603f28dd2974b5c1f-7f9b1cc2ef67106f-01\",\n",
    "}\n"
   ]
  },
  {
   "cell_type": "code",
   "execution_count": 4,
   "id": "f92a36cc",
   "metadata": {
    "execution": {
     "iopub.execute_input": "2022-12-03T06:40:25.699536Z",
     "iopub.status.busy": "2022-12-03T06:40:25.699316Z",
     "iopub.status.idle": "2022-12-03T06:40:25.702082Z",
     "shell.execute_reply": "2022-12-03T06:40:25.701503Z"
    },
    "lines_to_next_cell": 0,
    "papermill": {
     "duration": 0.009826,
     "end_time": "2022-12-03T06:40:25.704439",
     "exception": false,
     "start_time": "2022-12-03T06:40:25.694613",
     "status": "completed"
    },
    "tags": []
   },
   "outputs": [],
   "source": [
    "# -----------------------------------------------------------------------"
   ]
  },
  {
   "cell_type": "markdown",
   "id": "999ea856",
   "metadata": {
    "papermill": {
     "duration": 0.003698,
     "end_time": "2022-12-03T06:40:25.712010",
     "exception": false,
     "start_time": "2022-12-03T06:40:25.708312",
     "status": "completed"
    },
    "tags": []
   },
   "source": [
    "---"
   ]
  },
  {
   "cell_type": "markdown",
   "id": "9d28e6e3",
   "metadata": {
    "lines_to_next_cell": 2,
    "papermill": {
     "duration": 0.003803,
     "end_time": "2022-12-03T06:40:25.719784",
     "exception": false,
     "start_time": "2022-12-03T06:40:25.715981",
     "status": "completed"
    },
    "tags": []
   },
   "source": [
    "### Notebook code"
   ]
  },
  {
   "cell_type": "code",
   "execution_count": 5,
   "id": "14f9aa39",
   "metadata": {
    "execution": {
     "iopub.execute_input": "2022-12-03T06:40:25.729014Z",
     "iopub.status.busy": "2022-12-03T06:40:25.728723Z",
     "iopub.status.idle": "2022-12-03T06:40:26.833404Z",
     "shell.execute_reply": "2022-12-03T06:40:26.832752Z"
    },
    "papermill": {
     "duration": 1.111866,
     "end_time": "2022-12-03T06:40:26.835541",
     "exception": false,
     "start_time": "2022-12-03T06:40:25.723675",
     "status": "completed"
    },
    "tags": []
   },
   "outputs": [
    {
     "name": "stderr",
     "output_type": "stream",
     "text": [
      "2022-12-03 06:40:26,661\tINFO worker.py:842 -- Connecting to existing Ray cluster at address: 172.17.0.2:6379\n"
     ]
    }
   ],
   "source": [
    "import itertools as it\n",
    "\n",
    "#\n",
    "import numpy as np\n",
    "import matplotlib.pyplot as plt\n",
    "\n",
    "#\n",
    "from pynb_dag_runner.tasks.task_opentelemetry_logging import PydarLogger\n",
    "\n",
    "#\n",
    "from common.io import datalake_root\n",
    "\n",
    "logger = PydarLogger(P)"
   ]
  },
  {
   "cell_type": "markdown",
   "id": "4d12fca6",
   "metadata": {
    "papermill": {
     "duration": 0.003979,
     "end_time": "2022-12-03T06:40:26.844495",
     "exception": false,
     "start_time": "2022-12-03T06:40:26.840516",
     "status": "completed"
    },
    "tags": []
   },
   "source": [
    "## Load persisted onnx-model and evaluation data"
   ]
  },
  {
   "cell_type": "code",
   "execution_count": 6,
   "id": "82a89cbe",
   "metadata": {
    "execution": {
     "iopub.execute_input": "2022-12-03T06:40:26.855571Z",
     "iopub.status.busy": "2022-12-03T06:40:26.855212Z",
     "iopub.status.idle": "2022-12-03T06:40:26.859032Z",
     "shell.execute_reply": "2022-12-03T06:40:26.858474Z"
    },
    "papermill": {
     "duration": 0.012686,
     "end_time": "2022-12-03T06:40:26.861583",
     "exception": false,
     "start_time": "2022-12-03T06:40:26.848897",
     "status": "completed"
    },
    "tags": []
   },
   "outputs": [],
   "source": [
    "from common.io import read_onnx, get_onnx_inputs, get_onnx_outputs, read_numpy"
   ]
  },
  {
   "cell_type": "code",
   "execution_count": 7,
   "id": "478a9bcf",
   "metadata": {
    "execution": {
     "iopub.execute_input": "2022-12-03T06:40:26.871407Z",
     "iopub.status.busy": "2022-12-03T06:40:26.871152Z",
     "iopub.status.idle": "2022-12-03T06:40:26.882846Z",
     "shell.execute_reply": "2022-12-03T06:40:26.882318Z"
    },
    "lines_to_next_cell": 0,
    "papermill": {
     "duration": 0.01875,
     "end_time": "2022-12-03T06:40:26.884637",
     "exception": false,
     "start_time": "2022-12-03T06:40:26.865887",
     "status": "completed"
    },
    "tags": []
   },
   "outputs": [],
   "source": [
    "onnx_inference_session = read_onnx(\n",
    "    datalake_root(P)\n",
    "    / \"models\"\n",
    "    / f\"nr_train_images={P['task.nr_train_images']}\"\n",
    "    / \"model.onnx\"\n",
    ")"
   ]
  },
  {
   "cell_type": "markdown",
   "id": "ce183457",
   "metadata": {
    "papermill": {
     "duration": 0.004044,
     "end_time": "2022-12-03T06:40:26.893192",
     "exception": false,
     "start_time": "2022-12-03T06:40:26.889148",
     "status": "completed"
    },
    "tags": []
   },
   "source": [
    "### Record structure of inputs and outputs for ONNX model\n",
    "\n",
    "(this should likely be done in training notebook)"
   ]
  },
  {
   "cell_type": "code",
   "execution_count": 8,
   "id": "842991c5",
   "metadata": {
    "execution": {
     "iopub.execute_input": "2022-12-03T06:40:26.903312Z",
     "iopub.status.busy": "2022-12-03T06:40:26.903068Z",
     "iopub.status.idle": "2022-12-03T06:40:26.908746Z",
     "shell.execute_reply": "2022-12-03T06:40:26.908170Z"
    },
    "papermill": {
     "duration": 0.014666,
     "end_time": "2022-12-03T06:40:26.912713",
     "exception": false,
     "start_time": "2022-12-03T06:40:26.898047",
     "status": "completed"
    },
    "tags": []
   },
   "outputs": [
    {
     "name": "stdout",
     "output_type": "stream",
     "text": [
      "{\n",
      "  \"inputs\": [\n",
      "    {\n",
      "      \"name\": \"float_input_8x8_image\",\n",
      "      \"shape\": [\n",
      "        null,\n",
      "        64\n",
      "      ],\n",
      "      \"type\": \"tensor(float)\"\n",
      "    }\n",
      "  ],\n",
      "  \"outputs\": [\n",
      "    {\n",
      "      \"name\": \"output_label\",\n",
      "      \"shape\": [\n",
      "        null\n",
      "      ],\n",
      "      \"type\": \"tensor(int64)\"\n",
      "    },\n",
      "    {\n",
      "      \"name\": \"output_probability\",\n",
      "      \"shape\": [],\n",
      "      \"type\": \"seq(map(int64,tensor(float)))\"\n",
      "    }\n",
      "  ]\n",
      "}\n"
     ]
    }
   ],
   "source": [
    "import json\n",
    "\n",
    "onnx_io = json.dumps(\n",
    "    {\n",
    "        \"inputs\": get_onnx_inputs(onnx_inference_session),\n",
    "        \"outputs\": get_onnx_outputs(onnx_inference_session),\n",
    "    },\n",
    "    indent=2,\n",
    ")\n",
    "\n",
    "\n",
    "logger.log_artefact(\"onnx_io_structure.json\", onnx_io)\n",
    "print(onnx_io)"
   ]
  },
  {
   "cell_type": "markdown",
   "id": "7b061180",
   "metadata": {
    "papermill": {
     "duration": 0.005768,
     "end_time": "2022-12-03T06:40:26.922519",
     "exception": false,
     "start_time": "2022-12-03T06:40:26.916751",
     "status": "completed"
    },
    "tags": []
   },
   "source": [
    "### Evaluate model performance on evaluation data set"
   ]
  },
  {
   "cell_type": "code",
   "execution_count": 9,
   "id": "fb627b48",
   "metadata": {
    "execution": {
     "iopub.execute_input": "2022-12-03T06:40:26.934164Z",
     "iopub.status.busy": "2022-12-03T06:40:26.933872Z",
     "iopub.status.idle": "2022-12-03T06:40:26.938876Z",
     "shell.execute_reply": "2022-12-03T06:40:26.937968Z"
    },
    "papermill": {
     "duration": 0.01395,
     "end_time": "2022-12-03T06:40:26.941514",
     "exception": false,
     "start_time": "2022-12-03T06:40:26.927564",
     "status": "completed"
    },
    "tags": []
   },
   "outputs": [],
   "source": [
    "# load evaluation data\n",
    "X_test = read_numpy(datalake_root(P) / \"test-data\" / \"digits.numpy\")\n",
    "y_test = read_numpy(datalake_root(P) / \"test-data\" / \"labels.numpy\")"
   ]
  },
  {
   "cell_type": "code",
   "execution_count": 10,
   "id": "e5343bad",
   "metadata": {
    "execution": {
     "iopub.execute_input": "2022-12-03T06:40:26.951385Z",
     "iopub.status.busy": "2022-12-03T06:40:26.951143Z",
     "iopub.status.idle": "2022-12-03T06:40:27.030144Z",
     "shell.execute_reply": "2022-12-03T06:40:27.029080Z"
    },
    "papermill": {
     "duration": 0.086356,
     "end_time": "2022-12-03T06:40:27.032178",
     "exception": false,
     "start_time": "2022-12-03T06:40:26.945822",
     "status": "completed"
    },
    "tags": []
   },
   "outputs": [],
   "source": [
    "def get_model_outputs(X, onnx_inference_session):\n",
    "    y_pred_labels, y_pred_map = onnx_inference_session.run(\n",
    "        [\"output_label\", \"output_probability\"],\n",
    "        {\"float_input_8x8_image\": X.astype(np.float32)},\n",
    "    )\n",
    "    y_pred_probs = np.array(\n",
    "        [[probabilities[digit] for digit in range(10)] for probabilities in y_pred_map]\n",
    "    )\n",
    "\n",
    "    assert y_pred_labels.shape == (X.shape[0],)\n",
    "    assert y_pred_probs.shape == (X.shape[0], 10)\n",
    "\n",
    "    return y_pred_labels, y_pred_probs\n",
    "\n",
    "\n",
    "# Note: as shown in the training notebook, the predicted labels and probabilities\n",
    "# computed below need not be compatible.\n",
    "y_pred_labels_test, y_pred_probs_test = get_model_outputs(\n",
    "    X_test, onnx_inference_session\n",
    ")"
   ]
  },
  {
   "cell_type": "markdown",
   "id": "c82e7aef",
   "metadata": {
    "papermill": {
     "duration": 0.004994,
     "end_time": "2022-12-03T06:40:27.041765",
     "exception": false,
     "start_time": "2022-12-03T06:40:27.036771",
     "status": "completed"
    },
    "tags": []
   },
   "source": [
    "### Confusion matrix"
   ]
  },
  {
   "cell_type": "code",
   "execution_count": 11,
   "id": "2a392eb7",
   "metadata": {
    "execution": {
     "iopub.execute_input": "2022-12-03T06:40:27.054265Z",
     "iopub.status.busy": "2022-12-03T06:40:27.053960Z",
     "iopub.status.idle": "2022-12-03T06:40:27.057180Z",
     "shell.execute_reply": "2022-12-03T06:40:27.056624Z"
    },
    "papermill": {
     "duration": 0.014559,
     "end_time": "2022-12-03T06:40:27.060313",
     "exception": false,
     "start_time": "2022-12-03T06:40:27.045754",
     "status": "completed"
    },
    "tags": []
   },
   "outputs": [],
   "source": [
    "# TODO"
   ]
  },
  {
   "cell_type": "markdown",
   "id": "fda69f5d",
   "metadata": {
    "papermill": {
     "duration": 0.004291,
     "end_time": "2022-12-03T06:40:27.068893",
     "exception": false,
     "start_time": "2022-12-03T06:40:27.064602",
     "status": "completed"
    },
    "tags": []
   },
   "source": [
    "### Plot predicted probabilities for each classifier over all evaluation digit images"
   ]
  },
  {
   "cell_type": "code",
   "execution_count": 12,
   "id": "954d7b52",
   "metadata": {
    "execution": {
     "iopub.execute_input": "2022-12-03T06:40:27.079553Z",
     "iopub.status.busy": "2022-12-03T06:40:27.079261Z",
     "iopub.status.idle": "2022-12-03T06:40:30.732108Z",
     "shell.execute_reply": "2022-12-03T06:40:30.731186Z"
    },
    "papermill": {
     "duration": 3.660032,
     "end_time": "2022-12-03T06:40:30.733893",
     "exception": false,
     "start_time": "2022-12-03T06:40:27.073861",
     "status": "completed"
    },
    "tags": []
   },
   "outputs": [
    {
     "data": {
      "image/png": "[encoded data removed]",
      "text/plain": [
       "<Figure size 1600x600 with 10 Axes>"
      ]
     },
     "metadata": {},
     "output_type": "display_data"
    }
   ],
   "source": [
    "def plot_per_digit_probabilities(y_pred_probs):\n",
    "    fig, axs = plt.subplots(nrows=2, ncols=5, figsize=(16, 6))\n",
    "\n",
    "    for (r, c), digit, ax in zip(\n",
    "        it.product(range(2), range(5)), range(10), axs.reshape(-1)\n",
    "    ):\n",
    "        ax.hist(y_pred_probs_test[:, digit], bins=20)\n",
    "\n",
    "        ax.set_title(f\"Digit {digit}\")\n",
    "        if r == 1 and c == 2:\n",
    "            ax.set_xlabel(\"probability\", fontsize=16)\n",
    "\n",
    "        if c == 0:\n",
    "            ax.set_ylabel(\"counts\", fontsize=16)\n",
    "        ax.set_yscale(\"log\")\n",
    "\n",
    "    fig.tight_layout()\n",
    "    fig.suptitle(\n",
    "        f\"Distributions of prediction probabilities for each digit \"\n",
    "        f\"(on evaluation data, n={y_pred_probs.shape[0]})\",\n",
    "        fontsize=20,\n",
    "    )\n",
    "    fig.tight_layout()\n",
    "    fig.show()\n",
    "\n",
    "    return fig\n",
    "\n",
    "\n",
    "fig = plot_per_digit_probabilities(y_pred_probs_test)"
   ]
  },
  {
   "cell_type": "markdown",
   "id": "16709da8",
   "metadata": {
    "papermill": {
     "duration": 0.005417,
     "end_time": "2022-12-03T06:40:30.745031",
     "exception": false,
     "start_time": "2022-12-03T06:40:30.739614",
     "status": "completed"
    },
    "tags": []
   },
   "source": [
    "From the above distributions we see that most digits have clear separation between\n",
    "high and lower probabilities. Morover, in each case there is roughly an order of\n",
    "magnitude more of digits with low probabilities. This is compatible with digits\n",
    "being roughly evenly distributed in the data."
   ]
  },
  {
   "cell_type": "code",
   "execution_count": 13,
   "id": "5a9fb78a",
   "metadata": {
    "execution": {
     "iopub.execute_input": "2022-12-03T06:40:30.756870Z",
     "iopub.status.busy": "2022-12-03T06:40:30.756588Z",
     "iopub.status.idle": "2022-12-03T06:40:31.247546Z",
     "shell.execute_reply": "2022-12-03T06:40:31.246715Z"
    },
    "papermill": {
     "duration": 0.499614,
     "end_time": "2022-12-03T06:40:31.250076",
     "exception": false,
     "start_time": "2022-12-03T06:40:30.750462",
     "status": "completed"
    },
    "tags": []
   },
   "outputs": [],
   "source": [
    "logger.log_figure(\"per-digit-probabilities.png\", fig)"
   ]
  },
  {
   "cell_type": "markdown",
   "id": "e122951d",
   "metadata": {
    "papermill": {
     "duration": 0.005551,
     "end_time": "2022-12-03T06:40:31.261036",
     "exception": false,
     "start_time": "2022-12-03T06:40:31.255485",
     "status": "completed"
    },
    "tags": []
   },
   "source": [
    "### Plot ROC curves for individual one-vs-rest classifiers"
   ]
  },
  {
   "cell_type": "code",
   "execution_count": 14,
   "id": "45bd8c0b",
   "metadata": {
    "execution": {
     "iopub.execute_input": "2022-12-03T06:40:31.274116Z",
     "iopub.status.busy": "2022-12-03T06:40:31.273558Z",
     "iopub.status.idle": "2022-12-03T06:40:31.600360Z",
     "shell.execute_reply": "2022-12-03T06:40:31.599541Z"
    },
    "papermill": {
     "duration": 0.335073,
     "end_time": "2022-12-03T06:40:31.602271",
     "exception": false,
     "start_time": "2022-12-03T06:40:31.267198",
     "status": "completed"
    },
    "tags": []
   },
   "outputs": [],
   "source": [
    "from sklearn import metrics"
   ]
  },
  {
   "cell_type": "code",
   "execution_count": 15,
   "id": "0f81aacc",
   "metadata": {
    "execution": {
     "iopub.execute_input": "2022-12-03T06:40:31.615947Z",
     "iopub.status.busy": "2022-12-03T06:40:31.615573Z",
     "iopub.status.idle": "2022-12-03T06:40:32.798913Z",
     "shell.execute_reply": "2022-12-03T06:40:32.798188Z"
    },
    "papermill": {
     "duration": 1.192322,
     "end_time": "2022-12-03T06:40:32.800924",
     "exception": false,
     "start_time": "2022-12-03T06:40:31.608602",
     "status": "completed"
    },
    "tags": []
   },
   "outputs": [
    {
     "data": {
      "image/png": "[encoded data removed]",
      "text/plain": [
       "<Figure size 1600x800 with 10 Axes>"
      ]
     },
     "metadata": {},
     "output_type": "display_data"
    }
   ],
   "source": [
    "def plot_roc_curves(y, y_pred_probs):\n",
    "    # based on example code\n",
    "    # https://scikit-learn.org/stable/auto_examples/model_selection/plot_roc.html\n",
    "\n",
    "    fig, axs = plt.subplots(nrows=2, ncols=5, figsize=(16, 8))\n",
    "\n",
    "    roc_auc_dict = {}\n",
    "\n",
    "    for (r, c), digit, ax in zip(\n",
    "        it.product(range(2), range(5)), range(10), axs.reshape(-1)\n",
    "    ):\n",
    "        fpr, tpr, _ = metrics.roc_curve(y == digit, y_pred_probs[:, digit])\n",
    "        auc = metrics.auc(fpr, tpr)\n",
    "        roc_auc_dict[str(digit)] = auc\n",
    "\n",
    "        ax.plot(fpr, tpr, label=f\"ROC AUC={round(auc, 3)}\")\n",
    "\n",
    "        ax.set_title(f\"\\nDigit {digit}\", fontsize=16)\n",
    "        if r == 1:\n",
    "            ax.set_xlabel(\"FPR\", fontsize=18)\n",
    "\n",
    "        if c == 0:\n",
    "            ax.set_ylabel(\"TPR\", fontsize=18)\n",
    "\n",
    "        ax.set_xlim([-0.05, 1.05])\n",
    "        ax.set_ylim([-0.05, 1.05])\n",
    "        ax.legend(loc=\"lower right\", frameon=False, fontsize=14)\n",
    "\n",
    "    fig.tight_layout()\n",
    "    fig.suptitle(\n",
    "        f\"ROC plots for one-vs-rest performances \"\n",
    "        f\"(on evaluation data, n={y_pred_probs_test.shape[1]}\",\n",
    "        fontsize=22,\n",
    "    )\n",
    "    fig.tight_layout()\n",
    "    fig.show()\n",
    "\n",
    "    return roc_auc_dict, fig\n",
    "\n",
    "\n",
    "roc_auc_dict, fig = plot_roc_curves(y_test, y_pred_probs_test)"
   ]
  },
  {
   "cell_type": "code",
   "execution_count": 16,
   "id": "5228a1af",
   "metadata": {
    "execution": {
     "iopub.execute_input": "2022-12-03T06:40:32.815964Z",
     "iopub.status.busy": "2022-12-03T06:40:32.815617Z",
     "iopub.status.idle": "2022-12-03T06:40:33.078510Z",
     "shell.execute_reply": "2022-12-03T06:40:33.077572Z"
    },
    "papermill": {
     "duration": 0.272427,
     "end_time": "2022-12-03T06:40:33.080594",
     "exception": false,
     "start_time": "2022-12-03T06:40:32.808167",
     "status": "completed"
    },
    "tags": []
   },
   "outputs": [],
   "source": [
    "logger.log_figure(\"per-digit-roc-curves.png\", fig)"
   ]
  },
  {
   "cell_type": "code",
   "execution_count": 17,
   "id": "69be5071",
   "metadata": {
    "execution": {
     "iopub.execute_input": "2022-12-03T06:40:33.096492Z",
     "iopub.status.busy": "2022-12-03T06:40:33.096204Z",
     "iopub.status.idle": "2022-12-03T06:40:33.100983Z",
     "shell.execute_reply": "2022-12-03T06:40:33.100433Z"
    },
    "papermill": {
     "duration": 0.016315,
     "end_time": "2022-12-03T06:40:33.104808",
     "exception": false,
     "start_time": "2022-12-03T06:40:33.088493",
     "status": "completed"
    },
    "tags": []
   },
   "outputs": [
    {
     "data": {
      "text/plain": [
       "{'0': 1.0,\n",
       " '1': 0.9992877225866916,\n",
       " '2': 1.0,\n",
       " '3': 0.9997750702905343,\n",
       " '4': 0.9991236092059138,\n",
       " '5': 0.99883786316776,\n",
       " '6': 0.999923792104862,\n",
       " '7': 0.9998475842097241,\n",
       " '8': 0.9946800126103406,\n",
       " '9': 0.998742569730224}"
      ]
     },
     "execution_count": 17,
     "metadata": {},
     "output_type": "execute_result"
    }
   ],
   "source": [
    "roc_auc_dict"
   ]
  },
  {
   "cell_type": "code",
   "execution_count": 18,
   "id": "0f91fecb",
   "metadata": {
    "execution": {
     "iopub.execute_input": "2022-12-03T06:40:33.120276Z",
     "iopub.status.busy": "2022-12-03T06:40:33.120019Z",
     "iopub.status.idle": "2022-12-03T06:40:33.124764Z",
     "shell.execute_reply": "2022-12-03T06:40:33.124225Z"
    },
    "papermill": {
     "duration": 0.015872,
     "end_time": "2022-12-03T06:40:33.127639",
     "exception": false,
     "start_time": "2022-12-03T06:40:33.111767",
     "status": "completed"
    },
    "tags": []
   },
   "outputs": [
    {
     "name": "stdout",
     "output_type": "stream",
     "text": [
      " - Logging roc_auc_per_digit (json) : {'0': 1.0, '1': 0.9992877225866916, '2': 1.0, '3': 0.9997750702905343, '4': 0.9991236092059138, '5': 0.99883786316776, '6': 0.999923792104862, '7': 0.9998475842097241, '8': 0.9946800126103406, '9': 0.998742569730224}\n"
     ]
    }
   ],
   "source": [
    "logger.log_value(\"roc_auc_per_digit\", roc_auc_dict)"
   ]
  },
  {
   "cell_type": "markdown",
   "id": "0d4c2fde",
   "metadata": {
    "papermill": {
     "duration": 0.007128,
     "end_time": "2022-12-03T06:40:33.142506",
     "exception": false,
     "start_time": "2022-12-03T06:40:33.135378",
     "status": "completed"
    },
    "tags": []
   },
   "source": [
    "### Compute and log mean ROC AUC score averaged over all digits"
   ]
  },
  {
   "cell_type": "code",
   "execution_count": 19,
   "id": "97a86982",
   "metadata": {
    "execution": {
     "iopub.execute_input": "2022-12-03T06:40:33.158199Z",
     "iopub.status.busy": "2022-12-03T06:40:33.157443Z",
     "iopub.status.idle": "2022-12-03T06:40:33.174108Z",
     "shell.execute_reply": "2022-12-03T06:40:33.173397Z"
    },
    "papermill": {
     "duration": 0.027241,
     "end_time": "2022-12-03T06:40:33.176377",
     "exception": false,
     "start_time": "2022-12-03T06:40:33.149136",
     "status": "completed"
    },
    "tags": []
   },
   "outputs": [
    {
     "name": "stdout",
     "output_type": "stream",
     "text": [
      " - Logging roc_auc_class_mean (float) : 0.999021822390605\n"
     ]
    }
   ],
   "source": [
    "roc_auc_macro = np.mean(list(roc_auc_dict.values()))\n",
    "\n",
    "logger.log_float(\"roc_auc_class_mean\", roc_auc_macro)\n",
    "\n",
    "# assert that the same value can be computed directly using sklearn\n",
    "assert roc_auc_macro == metrics.roc_auc_score(\n",
    "    y_test, y_pred_probs_test, average=\"macro\", multi_class=\"ovr\"\n",
    ")"
   ]
  },
  {
   "cell_type": "code",
   "execution_count": 20,
   "id": "ac202f66",
   "metadata": {
    "execution": {
     "iopub.execute_input": "2022-12-03T06:40:33.191751Z",
     "iopub.status.busy": "2022-12-03T06:40:33.191005Z",
     "iopub.status.idle": "2022-12-03T06:40:33.194682Z",
     "shell.execute_reply": "2022-12-03T06:40:33.194018Z"
    },
    "lines_to_next_cell": 0,
    "papermill": {
     "duration": 0.012531,
     "end_time": "2022-12-03T06:40:33.196158",
     "exception": false,
     "start_time": "2022-12-03T06:40:33.183627",
     "status": "completed"
    },
    "tags": []
   },
   "outputs": [],
   "source": [
    "# ---"
   ]
  },
  {
   "cell_type": "code",
   "execution_count": null,
   "id": "38320438",
   "metadata": {
    "papermill": {
     "duration": 0.006578,
     "end_time": "2022-12-03T06:40:33.209611",
     "exception": false,
     "start_time": "2022-12-03T06:40:33.203033",
     "status": "completed"
    },
    "tags": []
   },
   "outputs": [],
   "source": []
  }
 ],
 "metadata": {
  "jupytext": {
   "cell_metadata_filter": "tags,-all",
   "main_language": "python",
   "notebook_metadata_filter": "-all"
  },
  "language_info": {
   "codemirror_mode": {
    "name": "ipython",
    "version": 3
   },
   "file_extension": ".py",
   "mimetype": "text/x-python",
   "name": "python",
   "nbconvert_exporter": "python",
   "pygments_lexer": "ipython3",
   "version": "3.8.10"
  },
  "papermill": {
   "default_parameters": {},
   "duration": 10.022454,
   "end_time": "2022-12-03T06:40:34.437441",
   "environment_variables": {},
   "exception": null,
   "input_path": "/home/host_user/workspace/mnist-demo-pipeline/mnist-demo-pipeline/notebooks/temp-notebook-sn180mcd.ipynb",
   "output_path": "notebooks/benchmark-model.ipynb",
   "parameters": {
    "P": {
     "_opentelemetry_traceparent": "00-faba51c76038564603f28dd2974b5c1f-7f9b1cc2ef67106f-01",
     "pipeline.data_lake_root": "/pipeline-outputs/data-lake",
     "pipeline.github.actor": "matiasdahl",
     "pipeline.github.base_ref": "",
     "pipeline.github.event_name": "schedule",
     "pipeline.github.head_ref": "",
     "pipeline.github.job": "run-tests-pipeline-and-persist-pipeline-outputs",
     "pipeline.github.ref": "refs/heads/development",
     "pipeline.github.ref_name": "development",
     "pipeline.github.ref_type": "branch",
     "pipeline.github.repository": "matiasdahl/dev-mnist-digits-demo-pipeline",
     "pipeline.github.run_id": "3607389562",
     "pipeline.github.runner_name": "Hosted Agent",
     "pipeline.github.sha": "ace0d01011d5e914f1921450dd5a59c11367b38d",
     "pipeline.github.workflow": "Run automated tests, pipeline and deploy results to static reporting site",
     "pipeline.pipeline_run_id": "c19a4e1f-84ff-4746-b6a2-ba3b4384e131",
     "pipeline.run_environment": "ci",
     "run.retry_nr": "0",
     "task.max_nr_retries": "1",
     "task.notebook": "notebooks/benchmark-model.py",
     "task.nr_train_images": 600,
     "task.num_cpus": 1,
     "task.timeout_s": "None"
    }
   },
   "start_time": "2022-12-03T06:40:24.414987",
   "version": "2.3.3"
  }
 },
 "nbformat": 4,
 "nbformat_minor": 5
}