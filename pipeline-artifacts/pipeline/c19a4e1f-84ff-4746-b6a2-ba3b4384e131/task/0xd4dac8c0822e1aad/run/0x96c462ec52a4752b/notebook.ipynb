{
 "cells": [
  {
   "cell_type": "markdown",
   "id": "4a405aeb",
   "metadata": {
    "papermill": {
     "duration": 0.003614,
     "end_time": "2022-12-03T06:40:53.964167",
     "exception": false,
     "start_time": "2022-12-03T06:40:53.960553",
     "status": "completed"
    },
    "tags": []
   },
   "source": [
    "# Summarize model performances\n",
    "\n",
    "This notebooks plots the performances (using averaged ROC AUC scores) for models\n",
    "trained with different training sets."
   ]
  },
  {
   "cell_type": "markdown",
   "id": "bd847047",
   "metadata": {
    "papermill": {
     "duration": 0.002649,
     "end_time": "2022-12-03T06:40:53.970115",
     "exception": false,
     "start_time": "2022-12-03T06:40:53.967466",
     "status": "completed"
    },
    "tags": []
   },
   "source": [
    "### Determine run parameters"
   ]
  },
  {
   "cell_type": "code",
   "execution_count": 1,
   "id": "ac79f572",
   "metadata": {
    "execution": {
     "iopub.execute_input": "2022-12-03T06:40:53.977064Z",
     "iopub.status.busy": "2022-12-03T06:40:53.976231Z",
     "iopub.status.idle": "2022-12-03T06:40:53.984032Z",
     "shell.execute_reply": "2022-12-03T06:40:53.983444Z"
    },
    "lines_to_next_cell": 0,
    "papermill": {
     "duration": 0.012974,
     "end_time": "2022-12-03T06:40:53.985537",
     "exception": false,
     "start_time": "2022-12-03T06:40:53.972563",
     "status": "completed"
    },
    "tags": []
   },
   "outputs": [],
   "source": [
    "# ----------------- Parameters for interactive development --------------\n",
    "P = {\n",
    "    \"pipeline.run_environment\": \"dev\",\n",
    "}"
   ]
  },
  {
   "cell_type": "code",
   "execution_count": 2,
   "id": "75e511d0",
   "metadata": {
    "execution": {
     "iopub.execute_input": "2022-12-03T06:40:53.992630Z",
     "iopub.status.busy": "2022-12-03T06:40:53.991985Z",
     "iopub.status.idle": "2022-12-03T06:40:53.995258Z",
     "shell.execute_reply": "2022-12-03T06:40:53.994719Z"
    },
    "lines_to_next_cell": 0,
    "papermill": {
     "duration": 0.00821,
     "end_time": "2022-12-03T06:40:53.996680",
     "exception": false,
     "start_time": "2022-12-03T06:40:53.988470",
     "status": "completed"
    },
    "tags": [
     "parameters"
    ]
   },
   "outputs": [],
   "source": [
    "# - During automated runs parameters will be injected in the below cell -"
   ]
  },
  {
   "cell_type": "code",
   "execution_count": 3,
   "id": "08e24603",
   "metadata": {
    "execution": {
     "iopub.execute_input": "2022-12-03T06:40:54.003450Z",
     "iopub.status.busy": "2022-12-03T06:40:54.002821Z",
     "iopub.status.idle": "2022-12-03T06:40:54.007852Z",
     "shell.execute_reply": "2022-12-03T06:40:54.007254Z"
    },
    "papermill": {
     "duration": 0.010078,
     "end_time": "2022-12-03T06:40:54.009274",
     "exception": false,
     "start_time": "2022-12-03T06:40:53.999196",
     "status": "completed"
    },
    "tags": [
     "injected-parameters"
    ]
   },
   "outputs": [],
   "source": [
    "# Parameters\n",
    "P = {\n",
    "    \"pipeline.data_lake_root\": \"/pipeline-outputs/data-lake\",\n",
    "    \"pipeline.run_environment\": \"ci\",\n",
    "    \"pipeline.pipeline_run_id\": \"c19a4e1f-84ff-4746-b6a2-ba3b4384e131\",\n",
    "    \"pipeline.github.repository\": \"matiasdahl/dev-mnist-digits-demo-pipeline\",\n",
    "    \"pipeline.github.workflow\": \"Run automated tests, pipeline and deploy results to static reporting site\",\n",
    "    \"pipeline.github.runner_name\": \"Hosted Agent\",\n",
    "    \"pipeline.github.run_id\": \"3607389562\",\n",
    "    \"pipeline.github.actor\": \"matiasdahl\",\n",
    "    \"pipeline.github.job\": \"run-tests-pipeline-and-persist-pipeline-outputs\",\n",
    "    \"pipeline.github.base_ref\": \"\",\n",
    "    \"pipeline.github.head_ref\": \"\",\n",
    "    \"pipeline.github.sha\": \"ace0d01011d5e914f1921450dd5a59c11367b38d\",\n",
    "    \"pipeline.github.ref\": \"refs/heads/development\",\n",
    "    \"pipeline.github.ref_type\": \"branch\",\n",
    "    \"pipeline.github.ref_name\": \"development\",\n",
    "    \"pipeline.github.event_name\": \"schedule\",\n",
    "    \"task.notebook\": \"notebooks/summary.py\",\n",
    "    \"task.max_nr_retries\": \"1\",\n",
    "    \"run.retry_nr\": \"0\",\n",
    "    \"task.timeout_s\": \"None\",\n",
    "    \"task.num_cpus\": 1,\n",
    "    \"_opentelemetry_traceparent\": \"00-faba51c76038564603f28dd2974b5c1f-4c3fc97fa7f57428-01\",\n",
    "}\n"
   ]
  },
  {
   "cell_type": "code",
   "execution_count": 4,
   "id": "8e0bed99",
   "metadata": {
    "execution": {
     "iopub.execute_input": "2022-12-03T06:40:54.015681Z",
     "iopub.status.busy": "2022-12-03T06:40:54.015229Z",
     "iopub.status.idle": "2022-12-03T06:40:54.018432Z",
     "shell.execute_reply": "2022-12-03T06:40:54.017851Z"
    },
    "lines_to_next_cell": 0,
    "papermill": {
     "duration": 0.008405,
     "end_time": "2022-12-03T06:40:54.020363",
     "exception": false,
     "start_time": "2022-12-03T06:40:54.011958",
     "status": "completed"
    },
    "tags": []
   },
   "outputs": [],
   "source": [
    "# -----------------------------------------------------------------------"
   ]
  },
  {
   "cell_type": "markdown",
   "id": "74599bec",
   "metadata": {
    "papermill": {
     "duration": 0.003641,
     "end_time": "2022-12-03T06:40:54.028329",
     "exception": false,
     "start_time": "2022-12-03T06:40:54.024688",
     "status": "completed"
    },
    "tags": []
   },
   "source": [
    "---"
   ]
  },
  {
   "cell_type": "markdown",
   "id": "a5092bf6",
   "metadata": {
    "lines_to_next_cell": 2,
    "papermill": {
     "duration": 0.00244,
     "end_time": "2022-12-03T06:40:54.033313",
     "exception": false,
     "start_time": "2022-12-03T06:40:54.030873",
     "status": "completed"
    },
    "tags": []
   },
   "source": [
    "### Notebook code"
   ]
  },
  {
   "cell_type": "code",
   "execution_count": 5,
   "id": "7d2d18dd",
   "metadata": {
    "execution": {
     "iopub.execute_input": "2022-12-03T06:40:54.044177Z",
     "iopub.status.busy": "2022-12-03T06:40:54.043474Z",
     "iopub.status.idle": "2022-12-03T06:40:55.141095Z",
     "shell.execute_reply": "2022-12-03T06:40:55.140401Z"
    },
    "papermill": {
     "duration": 1.107103,
     "end_time": "2022-12-03T06:40:55.142987",
     "exception": false,
     "start_time": "2022-12-03T06:40:54.035884",
     "status": "completed"
    },
    "tags": []
   },
   "outputs": [],
   "source": [
    "#\n",
    "import pandas as pd\n",
    "import matplotlib.pyplot as plt\n",
    "\n",
    "#\n",
    "from pynb_dag_runner.tasks.task_opentelemetry_logging import PydarLogger"
   ]
  },
  {
   "cell_type": "code",
   "execution_count": 6,
   "id": "a0841f27",
   "metadata": {
    "execution": {
     "iopub.execute_input": "2022-12-03T06:40:55.151352Z",
     "iopub.status.busy": "2022-12-03T06:40:55.150770Z",
     "iopub.status.idle": "2022-12-03T06:40:55.308999Z",
     "shell.execute_reply": "2022-12-03T06:40:55.307896Z"
    },
    "papermill": {
     "duration": 0.164405,
     "end_time": "2022-12-03T06:40:55.311400",
     "exception": false,
     "start_time": "2022-12-03T06:40:55.146995",
     "status": "completed"
    },
    "tags": []
   },
   "outputs": [
    {
     "name": "stderr",
     "output_type": "stream",
     "text": [
      "2022-12-03 06:40:55,155\tINFO worker.py:842 -- Connecting to existing Ray cluster at address: 172.17.0.2:6379\n"
     ]
    }
   ],
   "source": [
    "logger = PydarLogger(P=P)"
   ]
  },
  {
   "cell_type": "code",
   "execution_count": 7,
   "id": "34c3cdb7",
   "metadata": {
    "execution": {
     "iopub.execute_input": "2022-12-03T06:40:55.318857Z",
     "iopub.status.busy": "2022-12-03T06:40:55.318588Z",
     "iopub.status.idle": "2022-12-03T06:40:55.322474Z",
     "shell.execute_reply": "2022-12-03T06:40:55.321903Z"
    },
    "papermill": {
     "duration": 0.009386,
     "end_time": "2022-12-03T06:40:55.323839",
     "exception": false,
     "start_time": "2022-12-03T06:40:55.314453",
     "status": "completed"
    },
    "tags": []
   },
   "outputs": [],
   "source": [
    "from pynb_dag_runner.tasks.task_opentelemetry_logging import (\n",
    "    PydarLogger,\n",
    "    get_logged_values,\n",
    ")\n",
    "from pynb_dag_runner.opentelemetry_helpers import _get_all_spans, Spans"
   ]
  },
  {
   "cell_type": "code",
   "execution_count": 8,
   "id": "03ac10df",
   "metadata": {
    "execution": {
     "iopub.execute_input": "2022-12-03T06:40:55.331362Z",
     "iopub.status.busy": "2022-12-03T06:40:55.330864Z",
     "iopub.status.idle": "2022-12-03T06:40:55.337377Z",
     "shell.execute_reply": "2022-12-03T06:40:55.336856Z"
    },
    "papermill": {
     "duration": 0.012667,
     "end_time": "2022-12-03T06:40:55.339212",
     "exception": false,
     "start_time": "2022-12-03T06:40:55.326545",
     "status": "completed"
    },
    "tags": []
   },
   "outputs": [],
   "source": [
    "def get_model_benchmarks():\n",
    "    \"\"\"\n",
    "    Query the OpenTelemetry logs for *this pipeline run* and return\n",
    "    all key-values logged from all runs of the benchmark-model.py task\n",
    "\n",
    "    For testing a json file with OpenTelemetry spans (as an array)\n",
    "    can be used as follows:\n",
    "\n",
    "    - Create output directory `mkdir /tmp/spans`\n",
    "    - Run unit tests. This will create pipeline-outputs/opentelemetry-spans.json\n",
    "    - Convert this json-array into jsonl format as follows\n",
    "\n",
    "    jq -c '.[]' /pipeline-outputs/opentelemetry-spans.json > /tmp/spans/data.txt\n",
    "\n",
    "    \"\"\"\n",
    "    spans: Spans = Spans(_get_all_spans())\n",
    "    print(f\"Found {len(spans)} spans\")\n",
    "\n",
    "    benchmark_spans = (\n",
    "        spans\n",
    "        # -\n",
    "        .filter([\"name\"], \"execute-task\")\n",
    "        # -\n",
    "        .filter([\"attributes\", \"task.notebook\"], \"notebooks/benchmark-model.py\")\n",
    "    )\n",
    "\n",
    "    result = []\n",
    "    for s in benchmark_spans:\n",
    "        result.append(\n",
    "            {\n",
    "                \"span_id\": s[\"context\"][\"span_id\"],\n",
    "                \"nr_train_images\": s[\"attributes\"][\"task.nr_train_images\"],\n",
    "                \"data\": get_logged_values(spans.bound_under(s)),\n",
    "            }\n",
    "        )\n",
    "\n",
    "    return result\n",
    "\n",
    "\n",
    "def adjust_pandas(df):\n",
    "    def column_renamer(col_name: str) -> str:\n",
    "        return (\n",
    "            col_name\n",
    "            # -- 'data.roc_auc_per_digit.4' -> 'roc_auc.4'\n",
    "            .replace(\"data.roc_auc_per_digit\", \"roc_auc\")\n",
    "            # -- 'data.roc_auc_class_mean' -> 'roc_auc_mean'\n",
    "            .replace(\"data.roc_auc_class_mean\", \"roc_auc_mean\")\n",
    "        )\n",
    "\n",
    "    return df.rename(column_renamer, axis=\"columns\").sort_values(by=\"nr_train_images\")"
   ]
  },
  {
   "cell_type": "code",
   "execution_count": 9,
   "id": "b74c9aca",
   "metadata": {
    "execution": {
     "iopub.execute_input": "2022-12-03T06:40:55.346838Z",
     "iopub.status.busy": "2022-12-03T06:40:55.345751Z",
     "iopub.status.idle": "2022-12-03T06:40:55.390855Z",
     "shell.execute_reply": "2022-12-03T06:40:55.390221Z"
    },
    "papermill": {
     "duration": 0.050455,
     "end_time": "2022-12-03T06:40:55.392474",
     "exception": false,
     "start_time": "2022-12-03T06:40:55.342019",
     "status": "completed"
    },
    "tags": []
   },
   "outputs": [
    {
     "name": "stdout",
     "output_type": "stream",
     "text": [
      "Found 420 spans\n"
     ]
    }
   ],
   "source": [
    "df_data = adjust_pandas(pd.json_normalize(get_model_benchmarks()))"
   ]
  },
  {
   "cell_type": "code",
   "execution_count": 10,
   "id": "86f68d40",
   "metadata": {
    "execution": {
     "iopub.execute_input": "2022-12-03T06:40:55.400494Z",
     "iopub.status.busy": "2022-12-03T06:40:55.400061Z",
     "iopub.status.idle": "2022-12-03T06:40:55.429570Z",
     "shell.execute_reply": "2022-12-03T06:40:55.428566Z"
    },
    "papermill": {
     "duration": 0.036146,
     "end_time": "2022-12-03T06:40:55.431563",
     "exception": false,
     "start_time": "2022-12-03T06:40:55.395417",
     "status": "completed"
    },
    "tags": []
   },
   "outputs": [
    {
     "data": {
      "text/html": [
       "<div>\n",
       "<style scoped>\n",
       "    .dataframe tbody tr th:only-of-type {\n",
       "        vertical-align: middle;\n",
       "    }\n",
       "\n",
       "    .dataframe tbody tr th {\n",
       "        vertical-align: top;\n",
       "    }\n",
       "\n",
       "    .dataframe thead th {\n",
       "        text-align: right;\n",
       "    }\n",
       "</style>\n",
       "<table border=\"1\" class=\"dataframe\">\n",
       "  <thead>\n",
       "    <tr style=\"text-align: right;\">\n",
       "      <th></th>\n",
       "      <th>span_id</th>\n",
       "      <th>nr_train_images</th>\n",
       "      <th>roc_auc_mean</th>\n",
       "      <th>roc_auc.0</th>\n",
       "      <th>roc_auc.1</th>\n",
       "      <th>roc_auc.2</th>\n",
       "      <th>roc_auc.3</th>\n",
       "      <th>roc_auc.4</th>\n",
       "      <th>roc_auc.5</th>\n",
       "      <th>roc_auc.6</th>\n",
       "      <th>roc_auc.7</th>\n",
       "      <th>roc_auc.8</th>\n",
       "      <th>roc_auc.9</th>\n",
       "    </tr>\n",
       "  </thead>\n",
       "  <tbody>\n",
       "    <tr>\n",
       "      <th>0</th>\n",
       "      <td>0xcc7b9af17b45ce17</td>\n",
       "      <td>600</td>\n",
       "      <td>0.9990</td>\n",
       "      <td>1.0</td>\n",
       "      <td>0.9993</td>\n",
       "      <td>1.0</td>\n",
       "      <td>0.9998</td>\n",
       "      <td>0.9991</td>\n",
       "      <td>0.9988</td>\n",
       "      <td>0.9999</td>\n",
       "      <td>0.9998</td>\n",
       "      <td>0.9947</td>\n",
       "      <td>0.9987</td>\n",
       "    </tr>\n",
       "    <tr>\n",
       "      <th>3</th>\n",
       "      <td>0x67c7ffc7b48e80aa</td>\n",
       "      <td>800</td>\n",
       "      <td>0.9989</td>\n",
       "      <td>1.0</td>\n",
       "      <td>0.9988</td>\n",
       "      <td>1.0</td>\n",
       "      <td>0.9998</td>\n",
       "      <td>0.9995</td>\n",
       "      <td>0.9991</td>\n",
       "      <td>1.0000</td>\n",
       "      <td>0.9999</td>\n",
       "      <td>0.9929</td>\n",
       "      <td>0.9995</td>\n",
       "    </tr>\n",
       "    <tr>\n",
       "      <th>2</th>\n",
       "      <td>0x24a23e113bbf41d9</td>\n",
       "      <td>1000</td>\n",
       "      <td>0.9992</td>\n",
       "      <td>1.0</td>\n",
       "      <td>0.9990</td>\n",
       "      <td>1.0</td>\n",
       "      <td>0.9999</td>\n",
       "      <td>0.9996</td>\n",
       "      <td>0.9994</td>\n",
       "      <td>0.9999</td>\n",
       "      <td>0.9997</td>\n",
       "      <td>0.9951</td>\n",
       "      <td>0.9996</td>\n",
       "    </tr>\n",
       "    <tr>\n",
       "      <th>1</th>\n",
       "      <td>0x5ea93b9d20a831cb</td>\n",
       "      <td>1200</td>\n",
       "      <td>0.9993</td>\n",
       "      <td>1.0</td>\n",
       "      <td>0.9990</td>\n",
       "      <td>1.0</td>\n",
       "      <td>0.9999</td>\n",
       "      <td>0.9998</td>\n",
       "      <td>0.9997</td>\n",
       "      <td>0.9999</td>\n",
       "      <td>0.9998</td>\n",
       "      <td>0.9956</td>\n",
       "      <td>0.9998</td>\n",
       "    </tr>\n",
       "  </tbody>\n",
       "</table>\n",
       "</div>"
      ],
      "text/plain": [
       "              span_id  nr_train_images  roc_auc_mean  roc_auc.0  roc_auc.1  \\\n",
       "0  0xcc7b9af17b45ce17              600        0.9990        1.0     0.9993   \n",
       "3  0x67c7ffc7b48e80aa              800        0.9989        1.0     0.9988   \n",
       "2  0x24a23e113bbf41d9             1000        0.9992        1.0     0.9990   \n",
       "1  0x5ea93b9d20a831cb             1200        0.9993        1.0     0.9990   \n",
       "\n",
       "   roc_auc.2  roc_auc.3  roc_auc.4  roc_auc.5  roc_auc.6  roc_auc.7  \\\n",
       "0        1.0     0.9998     0.9991     0.9988     0.9999     0.9998   \n",
       "3        1.0     0.9998     0.9995     0.9991     1.0000     0.9999   \n",
       "2        1.0     0.9999     0.9996     0.9994     0.9999     0.9997   \n",
       "1        1.0     0.9999     0.9998     0.9997     0.9999     0.9998   \n",
       "\n",
       "   roc_auc.8  roc_auc.9  \n",
       "0     0.9947     0.9987  \n",
       "3     0.9929     0.9995  \n",
       "2     0.9951     0.9996  \n",
       "1     0.9956     0.9998  "
      ]
     },
     "execution_count": 10,
     "metadata": {},
     "output_type": "execute_result"
    }
   ],
   "source": [
    "df_data.round(4)"
   ]
  },
  {
   "cell_type": "code",
   "execution_count": 11,
   "id": "74f4743d",
   "metadata": {
    "execution": {
     "iopub.execute_input": "2022-12-03T06:40:55.439241Z",
     "iopub.status.busy": "2022-12-03T06:40:55.438848Z",
     "iopub.status.idle": "2022-12-03T06:40:55.615048Z",
     "shell.execute_reply": "2022-12-03T06:40:55.614440Z"
    },
    "papermill": {
     "duration": 0.182434,
     "end_time": "2022-12-03T06:40:55.617245",
     "exception": false,
     "start_time": "2022-12-03T06:40:55.434811",
     "status": "completed"
    },
    "tags": []
   },
   "outputs": [
    {
     "data": {
      "image/png": "[encoded data removed]",
      "text/plain": [
       "<Figure size 1600x400 with 1 Axes>"
      ]
     },
     "metadata": {},
     "output_type": "display_data"
    }
   ],
   "source": [
    "def plot_classifier_performance_summary(df_data):\n",
    "    fig, ax = plt.subplots(nrows=1, ncols=1, figsize=(16, 4), sharex=True)\n",
    "\n",
    "    #\n",
    "    ax.plot(\n",
    "        df_data[\"nr_train_images\"], df_data[\"roc_auc_mean\"], marker=\"o\", linestyle=\"--\"\n",
    "    )\n",
    "    ax.set_title(\n",
    "        f\"ROC AUC digit classifier performance on evaluation digits\", fontsize=17\n",
    "    )\n",
    "    ax.set_xlabel(\"Total number of digits in training set\", fontsize=14)\n",
    "    ax.set_ylabel(\"Mean ROC AUC\", fontsize=14)\n",
    "\n",
    "    fig.tight_layout()\n",
    "    fig.show()\n",
    "\n",
    "    return fig\n",
    "\n",
    "\n",
    "fig = plot_classifier_performance_summary(df_data)"
   ]
  },
  {
   "cell_type": "code",
   "execution_count": 12,
   "id": "4c71e19c",
   "metadata": {
    "execution": {
     "iopub.execute_input": "2022-12-03T06:40:55.627024Z",
     "iopub.status.busy": "2022-12-03T06:40:55.626715Z",
     "iopub.status.idle": "2022-12-03T06:40:55.717215Z",
     "shell.execute_reply": "2022-12-03T06:40:55.716456Z"
    },
    "papermill": {
     "duration": 0.098071,
     "end_time": "2022-12-03T06:40:55.719351",
     "exception": false,
     "start_time": "2022-12-03T06:40:55.621280",
     "status": "completed"
    },
    "tags": []
   },
   "outputs": [],
   "source": [
    "logger.log_figure(\"auc-roc-model-performances.png\", fig)"
   ]
  },
  {
   "cell_type": "code",
   "execution_count": 13,
   "id": "5274ac67",
   "metadata": {
    "execution": {
     "iopub.execute_input": "2022-12-03T06:40:55.729520Z",
     "iopub.status.busy": "2022-12-03T06:40:55.729133Z",
     "iopub.status.idle": "2022-12-03T06:40:55.732224Z",
     "shell.execute_reply": "2022-12-03T06:40:55.731600Z"
    },
    "papermill": {
     "duration": 0.009917,
     "end_time": "2022-12-03T06:40:55.733850",
     "exception": false,
     "start_time": "2022-12-03T06:40:55.723933",
     "status": "completed"
    },
    "tags": []
   },
   "outputs": [],
   "source": [
    "###"
   ]
  },
  {
   "cell_type": "code",
   "execution_count": null,
   "id": "96793a64",
   "metadata": {
    "papermill": {
     "duration": 0.003978,
     "end_time": "2022-12-03T06:40:55.741651",
     "exception": false,
     "start_time": "2022-12-03T06:40:55.737673",
     "status": "completed"
    },
    "tags": []
   },
   "outputs": [],
   "source": []
  }
 ],
 "metadata": {
  "jupytext": {
   "cell_metadata_filter": "tags,-all",
   "main_language": "python",
   "notebook_metadata_filter": "-all"
  },
  "language_info": {
   "codemirror_mode": {
    "name": "ipython",
    "version": 3
   },
   "file_extension": ".py",
   "mimetype": "text/x-python",
   "name": "python",
   "nbconvert_exporter": "python",
   "pygments_lexer": "ipython3",
   "version": "3.8.10"
  },
  "papermill": {
   "default_parameters": {},
   "duration": 3.855233,
   "end_time": "2022-12-03T06:40:56.666780",
   "environment_variables": {},
   "exception": null,
   "input_path": "/home/host_user/workspace/mnist-demo-pipeline/mnist-demo-pipeline/notebooks/temp-notebook-e0opoyqv.ipynb",
   "output_path": "notebooks/summary.ipynb",
   "parameters": {
    "P": {
     "_opentelemetry_traceparent": "00-faba51c76038564603f28dd2974b5c1f-4c3fc97fa7f57428-01",
     "pipeline.data_lake_root": "/pipeline-outputs/data-lake",
     "pipeline.github.actor": "matiasdahl",
     "pipeline.github.base_ref": "",
     "pipeline.github.event_name": "schedule",
     "pipeline.github.head_ref": "",
     "pipeline.github.job": "run-tests-pipeline-and-persist-pipeline-outputs",
     "pipeline.github.ref": "refs/heads/development",
     "pipeline.github.ref_name": "development",
     "pipeline.github.ref_type": "branch",
     "pipeline.github.repository": "matiasdahl/dev-mnist-digits-demo-pipeline",
     "pipeline.github.run_id": "3607389562",
     "pipeline.github.runner_name": "Hosted Agent",
     "pipeline.github.sha": "ace0d01011d5e914f1921450dd5a59c11367b38d",
     "pipeline.github.workflow": "Run automated tests, pipeline and deploy results to static reporting site",
     "pipeline.pipeline_run_id": "c19a4e1f-84ff-4746-b6a2-ba3b4384e131",
     "pipeline.run_environment": "ci",
     "run.retry_nr": "0",
     "task.max_nr_retries": "1",
     "task.notebook": "notebooks/summary.py",
     "task.num_cpus": 1,
     "task.timeout_s": "None"
    }
   },
   "start_time": "2022-12-03T06:40:52.811547",
   "version": "2.3.3"
  }
 },
 "nbformat": 4,
 "nbformat_minor": 5
}