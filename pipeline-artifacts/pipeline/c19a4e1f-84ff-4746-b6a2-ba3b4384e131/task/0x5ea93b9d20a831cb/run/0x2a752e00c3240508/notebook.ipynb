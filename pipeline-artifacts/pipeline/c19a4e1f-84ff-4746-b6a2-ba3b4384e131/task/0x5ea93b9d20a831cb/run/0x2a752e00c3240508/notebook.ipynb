{
 "cells": [
  {
   "cell_type": "markdown",
   "id": "dae4b8f6",
   "metadata": {
    "papermill": {
     "duration": 0.006168,
     "end_time": "2022-12-03T06:40:43.723137",
     "exception": false,
     "start_time": "2022-12-03T06:40:43.716969",
     "status": "completed"
    },
    "tags": []
   },
   "source": [
    "# Benchmark model\n",
    "\n",
    "The purpose of this notebook is to benchmark persisted onnx-model (trained in the\n",
    "previous step) against evaluation set."
   ]
  },
  {
   "cell_type": "markdown",
   "id": "bcd5bb66",
   "metadata": {
    "papermill": {
     "duration": 0.004528,
     "end_time": "2022-12-03T06:40:43.732169",
     "exception": false,
     "start_time": "2022-12-03T06:40:43.727641",
     "status": "completed"
    },
    "tags": []
   },
   "source": [
    "### Determine run parameters"
   ]
  },
  {
   "cell_type": "code",
   "execution_count": 1,
   "id": "3672d545",
   "metadata": {
    "execution": {
     "iopub.execute_input": "2022-12-03T06:40:43.743756Z",
     "iopub.status.busy": "2022-12-03T06:40:43.742500Z",
     "iopub.status.idle": "2022-12-03T06:40:43.754264Z",
     "shell.execute_reply": "2022-12-03T06:40:43.753640Z"
    },
    "lines_to_next_cell": 0,
    "papermill": {
     "duration": 0.020674,
     "end_time": "2022-12-03T06:40:43.757332",
     "exception": false,
     "start_time": "2022-12-03T06:40:43.736658",
     "status": "completed"
    },
    "tags": []
   },
   "outputs": [],
   "source": [
    "# ----------------- Parameters for interactive development --------------\n",
    "P = {\n",
    "    \"pipeline.data_lake_root\": \"/pipeline-outputs/data-lake\",\n",
    "    \"task.nr_train_images\": 600,\n",
    "}"
   ]
  },
  {
   "cell_type": "code",
   "execution_count": 2,
   "id": "96a7f8fb",
   "metadata": {
    "execution": {
     "iopub.execute_input": "2022-12-03T06:40:43.769122Z",
     "iopub.status.busy": "2022-12-03T06:40:43.768861Z",
     "iopub.status.idle": "2022-12-03T06:40:43.772664Z",
     "shell.execute_reply": "2022-12-03T06:40:43.772071Z"
    },
    "lines_to_next_cell": 0,
    "papermill": {
     "duration": 0.013163,
     "end_time": "2022-12-03T06:40:43.775974",
     "exception": false,
     "start_time": "2022-12-03T06:40:43.762811",
     "status": "completed"
    },
    "tags": [
     "parameters"
    ]
   },
   "outputs": [],
   "source": [
    "# - During automated runs parameters will be injected in the below cell -"
   ]
  },
  {
   "cell_type": "code",
   "execution_count": 3,
   "id": "ec5e9617",
   "metadata": {
    "execution": {
     "iopub.execute_input": "2022-12-03T06:40:43.786504Z",
     "iopub.status.busy": "2022-12-03T06:40:43.786250Z",
     "iopub.status.idle": "2022-12-03T06:40:43.791127Z",
     "shell.execute_reply": "2022-12-03T06:40:43.790619Z"
    },
    "papermill": {
     "duration": 0.014755,
     "end_time": "2022-12-03T06:40:43.795093",
     "exception": false,
     "start_time": "2022-12-03T06:40:43.780338",
     "status": "completed"
    },
    "tags": [
     "injected-parameters"
    ]
   },
   "outputs": [],
   "source": [
    "# Parameters\n",
    "P = {\n",
    "    \"pipeline.data_lake_root\": \"/pipeline-outputs/data-lake\",\n",
    "    \"pipeline.run_environment\": \"ci\",\n",
    "    \"pipeline.pipeline_run_id\": \"c19a4e1f-84ff-4746-b6a2-ba3b4384e131\",\n",
    "    \"pipeline.github.repository\": \"matiasdahl/dev-mnist-digits-demo-pipeline\",\n",
    "    \"pipeline.github.workflow\": \"Run automated tests, pipeline and deploy results to static reporting site\",\n",
    "    \"pipeline.github.runner_name\": \"Hosted Agent\",\n",
    "    \"pipeline.github.run_id\": \"3607389562\",\n",
    "    \"pipeline.github.actor\": \"matiasdahl\",\n",
    "    \"pipeline.github.job\": \"run-tests-pipeline-and-persist-pipeline-outputs\",\n",
    "    \"pipeline.github.base_ref\": \"\",\n",
    "    \"pipeline.github.head_ref\": \"\",\n",
    "    \"pipeline.github.sha\": \"ace0d01011d5e914f1921450dd5a59c11367b38d\",\n",
    "    \"pipeline.github.ref\": \"refs/heads/development\",\n",
    "    \"pipeline.github.ref_type\": \"branch\",\n",
    "    \"pipeline.github.ref_name\": \"development\",\n",
    "    \"pipeline.github.event_name\": \"schedule\",\n",
    "    \"task.nr_train_images\": 1200,\n",
    "    \"task.notebook\": \"notebooks/benchmark-model.py\",\n",
    "    \"task.max_nr_retries\": \"1\",\n",
    "    \"run.retry_nr\": \"0\",\n",
    "    \"task.timeout_s\": \"None\",\n",
    "    \"task.num_cpus\": 1,\n",
    "    \"_opentelemetry_traceparent\": \"00-faba51c76038564603f28dd2974b5c1f-016b06f1da15265e-01\",\n",
    "}\n"
   ]
  },
  {
   "cell_type": "code",
   "execution_count": 4,
   "id": "990e337d",
   "metadata": {
    "execution": {
     "iopub.execute_input": "2022-12-03T06:40:43.806039Z",
     "iopub.status.busy": "2022-12-03T06:40:43.805673Z",
     "iopub.status.idle": "2022-12-03T06:40:43.808967Z",
     "shell.execute_reply": "2022-12-03T06:40:43.808406Z"
    },
    "lines_to_next_cell": 0,
    "papermill": {
     "duration": 0.012373,
     "end_time": "2022-12-03T06:40:43.812315",
     "exception": false,
     "start_time": "2022-12-03T06:40:43.799942",
     "status": "completed"
    },
    "tags": []
   },
   "outputs": [],
   "source": [
    "# -----------------------------------------------------------------------"
   ]
  },
  {
   "cell_type": "markdown",
   "id": "6b29cdec",
   "metadata": {
    "papermill": {
     "duration": 0.004131,
     "end_time": "2022-12-03T06:40:43.821087",
     "exception": false,
     "start_time": "2022-12-03T06:40:43.816956",
     "status": "completed"
    },
    "tags": []
   },
   "source": [
    "---"
   ]
  },
  {
   "cell_type": "markdown",
   "id": "3008758c",
   "metadata": {
    "lines_to_next_cell": 2,
    "papermill": {
     "duration": 0.004346,
     "end_time": "2022-12-03T06:40:43.830282",
     "exception": false,
     "start_time": "2022-12-03T06:40:43.825936",
     "status": "completed"
    },
    "tags": []
   },
   "source": [
    "### Notebook code"
   ]
  },
  {
   "cell_type": "code",
   "execution_count": 5,
   "id": "2ecec3c3",
   "metadata": {
    "execution": {
     "iopub.execute_input": "2022-12-03T06:40:43.840728Z",
     "iopub.status.busy": "2022-12-03T06:40:43.840013Z",
     "iopub.status.idle": "2022-12-03T06:40:44.982709Z",
     "shell.execute_reply": "2022-12-03T06:40:44.981245Z"
    },
    "papermill": {
     "duration": 1.150839,
     "end_time": "2022-12-03T06:40:44.985909",
     "exception": false,
     "start_time": "2022-12-03T06:40:43.835070",
     "status": "completed"
    },
    "tags": []
   },
   "outputs": [
    {
     "name": "stderr",
     "output_type": "stream",
     "text": [
      "2022-12-03 06:40:44,828\tINFO worker.py:842 -- Connecting to existing Ray cluster at address: 172.17.0.2:6379\n"
     ]
    }
   ],
   "source": [
    "import itertools as it\n",
    "\n",
    "#\n",
    "import numpy as np\n",
    "import matplotlib.pyplot as plt\n",
    "\n",
    "#\n",
    "from pynb_dag_runner.tasks.task_opentelemetry_logging import PydarLogger\n",
    "\n",
    "#\n",
    "from common.io import datalake_root\n",
    "\n",
    "logger = PydarLogger(P)"
   ]
  },
  {
   "cell_type": "markdown",
   "id": "a0b74b78",
   "metadata": {
    "papermill": {
     "duration": 0.004601,
     "end_time": "2022-12-03T06:40:44.997629",
     "exception": false,
     "start_time": "2022-12-03T06:40:44.993028",
     "status": "completed"
    },
    "tags": []
   },
   "source": [
    "## Load persisted onnx-model and evaluation data"
   ]
  },
  {
   "cell_type": "code",
   "execution_count": 6,
   "id": "33e3b233",
   "metadata": {
    "execution": {
     "iopub.execute_input": "2022-12-03T06:40:45.007318Z",
     "iopub.status.busy": "2022-12-03T06:40:45.006831Z",
     "iopub.status.idle": "2022-12-03T06:40:45.011766Z",
     "shell.execute_reply": "2022-12-03T06:40:45.010982Z"
    },
    "papermill": {
     "duration": 0.01149,
     "end_time": "2022-12-03T06:40:45.013277",
     "exception": false,
     "start_time": "2022-12-03T06:40:45.001787",
     "status": "completed"
    },
    "tags": []
   },
   "outputs": [],
   "source": [
    "from common.io import read_onnx, get_onnx_inputs, get_onnx_outputs, read_numpy"
   ]
  },
  {
   "cell_type": "code",
   "execution_count": 7,
   "id": "13b0d19a",
   "metadata": {
    "execution": {
     "iopub.execute_input": "2022-12-03T06:40:45.023070Z",
     "iopub.status.busy": "2022-12-03T06:40:45.022676Z",
     "iopub.status.idle": "2022-12-03T06:40:45.033272Z",
     "shell.execute_reply": "2022-12-03T06:40:45.032648Z"
    },
    "lines_to_next_cell": 0,
    "papermill": {
     "duration": 0.017713,
     "end_time": "2022-12-03T06:40:45.035055",
     "exception": false,
     "start_time": "2022-12-03T06:40:45.017342",
     "status": "completed"
    },
    "tags": []
   },
   "outputs": [],
   "source": [
    "onnx_inference_session = read_onnx(\n",
    "    datalake_root(P)\n",
    "    / \"models\"\n",
    "    / f\"nr_train_images={P['task.nr_train_images']}\"\n",
    "    / \"model.onnx\"\n",
    ")"
   ]
  },
  {
   "cell_type": "markdown",
   "id": "29b04e70",
   "metadata": {
    "papermill": {
     "duration": 0.004218,
     "end_time": "2022-12-03T06:40:45.043707",
     "exception": false,
     "start_time": "2022-12-03T06:40:45.039489",
     "status": "completed"
    },
    "tags": []
   },
   "source": [
    "### Record structure of inputs and outputs for ONNX model\n",
    "\n",
    "(this should likely be done in training notebook)"
   ]
  },
  {
   "cell_type": "code",
   "execution_count": 8,
   "id": "51060776",
   "metadata": {
    "execution": {
     "iopub.execute_input": "2022-12-03T06:40:45.054193Z",
     "iopub.status.busy": "2022-12-03T06:40:45.053757Z",
     "iopub.status.idle": "2022-12-03T06:40:45.060171Z",
     "shell.execute_reply": "2022-12-03T06:40:45.059453Z"
    },
    "papermill": {
     "duration": 0.013095,
     "end_time": "2022-12-03T06:40:45.061717",
     "exception": false,
     "start_time": "2022-12-03T06:40:45.048622",
     "status": "completed"
    },
    "tags": []
   },
   "outputs": [
    {
     "name": "stdout",
     "output_type": "stream",
     "text": [
      "{\n",
      "  \"inputs\": [\n",
      "    {\n",
      "      \"name\": \"float_input_8x8_image\",\n",
      "      \"shape\": [\n",
      "        null,\n",
      "        64\n",
      "      ],\n",
      "      \"type\": \"tensor(float)\"\n",
      "    }\n",
      "  ],\n",
      "  \"outputs\": [\n",
      "    {\n",
      "      \"name\": \"output_label\",\n",
      "      \"shape\": [\n",
      "        null\n",
      "      ],\n",
      "      \"type\": \"tensor(int64)\"\n",
      "    },\n",
      "    {\n",
      "      \"name\": \"output_probability\",\n",
      "      \"shape\": [],\n",
      "      \"type\": \"seq(map(int64,tensor(float)))\"\n",
      "    }\n",
      "  ]\n",
      "}\n"
     ]
    }
   ],
   "source": [
    "import json\n",
    "\n",
    "onnx_io = json.dumps(\n",
    "    {\n",
    "        \"inputs\": get_onnx_inputs(onnx_inference_session),\n",
    "        \"outputs\": get_onnx_outputs(onnx_inference_session),\n",
    "    },\n",
    "    indent=2,\n",
    ")\n",
    "\n",
    "\n",
    "logger.log_artefact(\"onnx_io_structure.json\", onnx_io)\n",
    "print(onnx_io)"
   ]
  },
  {
   "cell_type": "markdown",
   "id": "9ad730a4",
   "metadata": {
    "papermill": {
     "duration": 0.004254,
     "end_time": "2022-12-03T06:40:45.070984",
     "exception": false,
     "start_time": "2022-12-03T06:40:45.066730",
     "status": "completed"
    },
    "tags": []
   },
   "source": [
    "### Evaluate model performance on evaluation data set"
   ]
  },
  {
   "cell_type": "code",
   "execution_count": 9,
   "id": "041808ed",
   "metadata": {
    "execution": {
     "iopub.execute_input": "2022-12-03T06:40:45.081412Z",
     "iopub.status.busy": "2022-12-03T06:40:45.080945Z",
     "iopub.status.idle": "2022-12-03T06:40:45.086169Z",
     "shell.execute_reply": "2022-12-03T06:40:45.085153Z"
    },
    "papermill": {
     "duration": 0.012375,
     "end_time": "2022-12-03T06:40:45.087611",
     "exception": false,
     "start_time": "2022-12-03T06:40:45.075236",
     "status": "completed"
    },
    "tags": []
   },
   "outputs": [],
   "source": [
    "# load evaluation data\n",
    "X_test = read_numpy(datalake_root(P) / \"test-data\" / \"digits.numpy\")\n",
    "y_test = read_numpy(datalake_root(P) / \"test-data\" / \"labels.numpy\")"
   ]
  },
  {
   "cell_type": "code",
   "execution_count": 10,
   "id": "d4a74f77",
   "metadata": {
    "execution": {
     "iopub.execute_input": "2022-12-03T06:40:45.102439Z",
     "iopub.status.busy": "2022-12-03T06:40:45.101993Z",
     "iopub.status.idle": "2022-12-03T06:40:45.176227Z",
     "shell.execute_reply": "2022-12-03T06:40:45.175464Z"
    },
    "papermill": {
     "duration": 0.081494,
     "end_time": "2022-12-03T06:40:45.178318",
     "exception": false,
     "start_time": "2022-12-03T06:40:45.096824",
     "status": "completed"
    },
    "tags": []
   },
   "outputs": [],
   "source": [
    "def get_model_outputs(X, onnx_inference_session):\n",
    "    y_pred_labels, y_pred_map = onnx_inference_session.run(\n",
    "        [\"output_label\", \"output_probability\"],\n",
    "        {\"float_input_8x8_image\": X.astype(np.float32)},\n",
    "    )\n",
    "    y_pred_probs = np.array(\n",
    "        [[probabilities[digit] for digit in range(10)] for probabilities in y_pred_map]\n",
    "    )\n",
    "\n",
    "    assert y_pred_labels.shape == (X.shape[0],)\n",
    "    assert y_pred_probs.shape == (X.shape[0], 10)\n",
    "\n",
    "    return y_pred_labels, y_pred_probs\n",
    "\n",
    "\n",
    "# Note: as shown in the training notebook, the predicted labels and probabilities\n",
    "# computed below need not be compatible.\n",
    "y_pred_labels_test, y_pred_probs_test = get_model_outputs(\n",
    "    X_test, onnx_inference_session\n",
    ")"
   ]
  },
  {
   "cell_type": "markdown",
   "id": "7fa6e552",
   "metadata": {
    "papermill": {
     "duration": 0.004861,
     "end_time": "2022-12-03T06:40:45.188290",
     "exception": false,
     "start_time": "2022-12-03T06:40:45.183429",
     "status": "completed"
    },
    "tags": []
   },
   "source": [
    "### Confusion matrix"
   ]
  },
  {
   "cell_type": "code",
   "execution_count": 11,
   "id": "1c711fb2",
   "metadata": {
    "execution": {
     "iopub.execute_input": "2022-12-03T06:40:45.200555Z",
     "iopub.status.busy": "2022-12-03T06:40:45.200001Z",
     "iopub.status.idle": "2022-12-03T06:40:45.204484Z",
     "shell.execute_reply": "2022-12-03T06:40:45.203453Z"
    },
    "papermill": {
     "duration": 0.014295,
     "end_time": "2022-12-03T06:40:45.206782",
     "exception": false,
     "start_time": "2022-12-03T06:40:45.192487",
     "status": "completed"
    },
    "tags": []
   },
   "outputs": [],
   "source": [
    "# TODO"
   ]
  },
  {
   "cell_type": "markdown",
   "id": "876a5a15",
   "metadata": {
    "papermill": {
     "duration": 0.004319,
     "end_time": "2022-12-03T06:40:45.215833",
     "exception": false,
     "start_time": "2022-12-03T06:40:45.211514",
     "status": "completed"
    },
    "tags": []
   },
   "source": [
    "### Plot predicted probabilities for each classifier over all evaluation digit images"
   ]
  },
  {
   "cell_type": "code",
   "execution_count": 12,
   "id": "51544904",
   "metadata": {
    "execution": {
     "iopub.execute_input": "2022-12-03T06:40:45.225866Z",
     "iopub.status.busy": "2022-12-03T06:40:45.225472Z",
     "iopub.status.idle": "2022-12-03T06:40:48.113075Z",
     "shell.execute_reply": "2022-12-03T06:40:48.112417Z"
    },
    "papermill": {
     "duration": 2.895555,
     "end_time": "2022-12-03T06:40:48.115666",
     "exception": false,
     "start_time": "2022-12-03T06:40:45.220111",
     "status": "completed"
    },
    "tags": []
   },
   "outputs": [
    {
     "data": {
      "image/png": "[encoded data removed]",
      "text/plain": [
       "<Figure size 1600x600 with 10 Axes>"
      ]
     },
     "metadata": {},
     "output_type": "display_data"
    }
   ],
   "source": [
    "def plot_per_digit_probabilities(y_pred_probs):\n",
    "    fig, axs = plt.subplots(nrows=2, ncols=5, figsize=(16, 6))\n",
    "\n",
    "    for (r, c), digit, ax in zip(\n",
    "        it.product(range(2), range(5)), range(10), axs.reshape(-1)\n",
    "    ):\n",
    "        ax.hist(y_pred_probs_test[:, digit], bins=20)\n",
    "\n",
    "        ax.set_title(f\"Digit {digit}\")\n",
    "        if r == 1 and c == 2:\n",
    "            ax.set_xlabel(\"probability\", fontsize=16)\n",
    "\n",
    "        if c == 0:\n",
    "            ax.set_ylabel(\"counts\", fontsize=16)\n",
    "        ax.set_yscale(\"log\")\n",
    "\n",
    "    fig.tight_layout()\n",
    "    fig.suptitle(\n",
    "        f\"Distributions of prediction probabilities for each digit \"\n",
    "        f\"(on evaluation data, n={y_pred_probs.shape[0]})\",\n",
    "        fontsize=20,\n",
    "    )\n",
    "    fig.tight_layout()\n",
    "    fig.show()\n",
    "\n",
    "    return fig\n",
    "\n",
    "\n",
    "fig = plot_per_digit_probabilities(y_pred_probs_test)"
   ]
  },
  {
   "cell_type": "markdown",
   "id": "6a0c9052",
   "metadata": {
    "papermill": {
     "duration": 0.005717,
     "end_time": "2022-12-03T06:40:48.126851",
     "exception": false,
     "start_time": "2022-12-03T06:40:48.121134",
     "status": "completed"
    },
    "tags": []
   },
   "source": [
    "From the above distributions we see that most digits have clear separation between\n",
    "high and lower probabilities. Morover, in each case there is roughly an order of\n",
    "magnitude more of digits with low probabilities. This is compatible with digits\n",
    "being roughly evenly distributed in the data."
   ]
  },
  {
   "cell_type": "code",
   "execution_count": 13,
   "id": "7a9fed35",
   "metadata": {
    "execution": {
     "iopub.execute_input": "2022-12-03T06:40:48.138434Z",
     "iopub.status.busy": "2022-12-03T06:40:48.138167Z",
     "iopub.status.idle": "2022-12-03T06:40:48.579761Z",
     "shell.execute_reply": "2022-12-03T06:40:48.579089Z"
    },
    "papermill": {
     "duration": 0.449856,
     "end_time": "2022-12-03T06:40:48.581680",
     "exception": false,
     "start_time": "2022-12-03T06:40:48.131824",
     "status": "completed"
    },
    "tags": []
   },
   "outputs": [],
   "source": [
    "logger.log_figure(\"per-digit-probabilities.png\", fig)"
   ]
  },
  {
   "cell_type": "markdown",
   "id": "712471d4",
   "metadata": {
    "papermill": {
     "duration": 0.004849,
     "end_time": "2022-12-03T06:40:48.592688",
     "exception": false,
     "start_time": "2022-12-03T06:40:48.587839",
     "status": "completed"
    },
    "tags": []
   },
   "source": [
    "### Plot ROC curves for individual one-vs-rest classifiers"
   ]
  },
  {
   "cell_type": "code",
   "execution_count": 14,
   "id": "c1d0c151",
   "metadata": {
    "execution": {
     "iopub.execute_input": "2022-12-03T06:40:48.604240Z",
     "iopub.status.busy": "2022-12-03T06:40:48.603702Z",
     "iopub.status.idle": "2022-12-03T06:40:49.027223Z",
     "shell.execute_reply": "2022-12-03T06:40:49.026470Z"
    },
    "papermill": {
     "duration": 0.431743,
     "end_time": "2022-12-03T06:40:49.029377",
     "exception": false,
     "start_time": "2022-12-03T06:40:48.597634",
     "status": "completed"
    },
    "tags": []
   },
   "outputs": [],
   "source": [
    "from sklearn import metrics"
   ]
  },
  {
   "cell_type": "code",
   "execution_count": 15,
   "id": "5e7d0260",
   "metadata": {
    "execution": {
     "iopub.execute_input": "2022-12-03T06:40:49.043065Z",
     "iopub.status.busy": "2022-12-03T06:40:49.042643Z",
     "iopub.status.idle": "2022-12-03T06:40:50.069920Z",
     "shell.execute_reply": "2022-12-03T06:40:50.069098Z"
    },
    "papermill": {
     "duration": 1.035926,
     "end_time": "2022-12-03T06:40:50.072042",
     "exception": false,
     "start_time": "2022-12-03T06:40:49.036116",
     "status": "completed"
    },
    "tags": []
   },
   "outputs": [
    {
     "data": {
      "image/png": "[encoded data removed]",
      "text/plain": [
       "<Figure size 1600x800 with 10 Axes>"
      ]
     },
     "metadata": {},
     "output_type": "display_data"
    }
   ],
   "source": [
    "def plot_roc_curves(y, y_pred_probs):\n",
    "    # based on example code\n",
    "    # https://scikit-learn.org/stable/auto_examples/model_selection/plot_roc.html\n",
    "\n",
    "    fig, axs = plt.subplots(nrows=2, ncols=5, figsize=(16, 8))\n",
    "\n",
    "    roc_auc_dict = {}\n",
    "\n",
    "    for (r, c), digit, ax in zip(\n",
    "        it.product(range(2), range(5)), range(10), axs.reshape(-1)\n",
    "    ):\n",
    "        fpr, tpr, _ = metrics.roc_curve(y == digit, y_pred_probs[:, digit])\n",
    "        auc = metrics.auc(fpr, tpr)\n",
    "        roc_auc_dict[str(digit)] = auc\n",
    "\n",
    "        ax.plot(fpr, tpr, label=f\"ROC AUC={round(auc, 3)}\")\n",
    "\n",
    "        ax.set_title(f\"\\nDigit {digit}\", fontsize=16)\n",
    "        if r == 1:\n",
    "            ax.set_xlabel(\"FPR\", fontsize=18)\n",
    "\n",
    "        if c == 0:\n",
    "            ax.set_ylabel(\"TPR\", fontsize=18)\n",
    "\n",
    "        ax.set_xlim([-0.05, 1.05])\n",
    "        ax.set_ylim([-0.05, 1.05])\n",
    "        ax.legend(loc=\"lower right\", frameon=False, fontsize=14)\n",
    "\n",
    "    fig.tight_layout()\n",
    "    fig.suptitle(\n",
    "        f\"ROC plots for one-vs-rest performances \"\n",
    "        f\"(on evaluation data, n={y_pred_probs_test.shape[1]}\",\n",
    "        fontsize=22,\n",
    "    )\n",
    "    fig.tight_layout()\n",
    "    fig.show()\n",
    "\n",
    "    return roc_auc_dict, fig\n",
    "\n",
    "\n",
    "roc_auc_dict, fig = plot_roc_curves(y_test, y_pred_probs_test)"
   ]
  },
  {
   "cell_type": "code",
   "execution_count": 16,
   "id": "9e4ea5d8",
   "metadata": {
    "execution": {
     "iopub.execute_input": "2022-12-03T06:40:50.087024Z",
     "iopub.status.busy": "2022-12-03T06:40:50.086765Z",
     "iopub.status.idle": "2022-12-03T06:40:50.325844Z",
     "shell.execute_reply": "2022-12-03T06:40:50.325113Z"
    },
    "papermill": {
     "duration": 0.249362,
     "end_time": "2022-12-03T06:40:50.327989",
     "exception": false,
     "start_time": "2022-12-03T06:40:50.078627",
     "status": "completed"
    },
    "tags": []
   },
   "outputs": [],
   "source": [
    "logger.log_figure(\"per-digit-roc-curves.png\", fig)"
   ]
  },
  {
   "cell_type": "code",
   "execution_count": 17,
   "id": "94b41e63",
   "metadata": {
    "execution": {
     "iopub.execute_input": "2022-12-03T06:40:50.344215Z",
     "iopub.status.busy": "2022-12-03T06:40:50.343037Z",
     "iopub.status.idle": "2022-12-03T06:40:50.349389Z",
     "shell.execute_reply": "2022-12-03T06:40:50.348758Z"
    },
    "papermill": {
     "duration": 0.017408,
     "end_time": "2022-12-03T06:40:50.352039",
     "exception": false,
     "start_time": "2022-12-03T06:40:50.334631",
     "status": "completed"
    },
    "tags": []
   },
   "outputs": [
    {
     "data": {
      "text/plain": [
       "{'0': 1.0,\n",
       " '1': 0.999025304592315,\n",
       " '2': 1.0,\n",
       " '3': 0.9998500468603562,\n",
       " '4': 0.9997713763145861,\n",
       " '5': 0.9996626054358013,\n",
       " '6': 0.999923792104862,\n",
       " '7': 0.9998475842097242,\n",
       " '8': 0.9955863808322825,\n",
       " '9': 0.9998094802621552}"
      ]
     },
     "execution_count": 17,
     "metadata": {},
     "output_type": "execute_result"
    }
   ],
   "source": [
    "roc_auc_dict"
   ]
  },
  {
   "cell_type": "code",
   "execution_count": 18,
   "id": "f1dc08ca",
   "metadata": {
    "execution": {
     "iopub.execute_input": "2022-12-03T06:40:50.366018Z",
     "iopub.status.busy": "2022-12-03T06:40:50.365574Z",
     "iopub.status.idle": "2022-12-03T06:40:50.370057Z",
     "shell.execute_reply": "2022-12-03T06:40:50.369385Z"
    },
    "papermill": {
     "duration": 0.013893,
     "end_time": "2022-12-03T06:40:50.372461",
     "exception": false,
     "start_time": "2022-12-03T06:40:50.358568",
     "status": "completed"
    },
    "tags": []
   },
   "outputs": [
    {
     "name": "stdout",
     "output_type": "stream",
     "text": [
      " - Logging roc_auc_per_digit (json) : {'0': 1.0, '1': 0.999025304592315, '2': 1.0, '3': 0.9998500468603562, '4': 0.9997713763145861, '5': 0.9996626054358013, '6': 0.999923792104862, '7': 0.9998475842097242, '8': 0.9955863808322825, '9': 0.9998094802621552}\n"
     ]
    }
   ],
   "source": [
    "logger.log_value(\"roc_auc_per_digit\", roc_auc_dict)"
   ]
  },
  {
   "cell_type": "markdown",
   "id": "61dcfd24",
   "metadata": {
    "papermill": {
     "duration": 0.006143,
     "end_time": "2022-12-03T06:40:50.384826",
     "exception": false,
     "start_time": "2022-12-03T06:40:50.378683",
     "status": "completed"
    },
    "tags": []
   },
   "source": [
    "### Compute and log mean ROC AUC score averaged over all digits"
   ]
  },
  {
   "cell_type": "code",
   "execution_count": 19,
   "id": "a2c1d71a",
   "metadata": {
    "execution": {
     "iopub.execute_input": "2022-12-03T06:40:50.398272Z",
     "iopub.status.busy": "2022-12-03T06:40:50.397653Z",
     "iopub.status.idle": "2022-12-03T06:40:50.409833Z",
     "shell.execute_reply": "2022-12-03T06:40:50.409168Z"
    },
    "papermill": {
     "duration": 0.020649,
     "end_time": "2022-12-03T06:40:50.411466",
     "exception": false,
     "start_time": "2022-12-03T06:40:50.390817",
     "status": "completed"
    },
    "tags": []
   },
   "outputs": [
    {
     "name": "stdout",
     "output_type": "stream",
     "text": [
      " - Logging roc_auc_class_mean (float) : 0.9993476570612081\n"
     ]
    }
   ],
   "source": [
    "roc_auc_macro = np.mean(list(roc_auc_dict.values()))\n",
    "\n",
    "logger.log_float(\"roc_auc_class_mean\", roc_auc_macro)\n",
    "\n",
    "# assert that the same value can be computed directly using sklearn\n",
    "assert roc_auc_macro == metrics.roc_auc_score(\n",
    "    y_test, y_pred_probs_test, average=\"macro\", multi_class=\"ovr\"\n",
    ")"
   ]
  },
  {
   "cell_type": "code",
   "execution_count": 20,
   "id": "3efa9077",
   "metadata": {
    "execution": {
     "iopub.execute_input": "2022-12-03T06:40:50.426005Z",
     "iopub.status.busy": "2022-12-03T06:40:50.425345Z",
     "iopub.status.idle": "2022-12-03T06:40:50.428842Z",
     "shell.execute_reply": "2022-12-03T06:40:50.428026Z"
    },
    "lines_to_next_cell": 0,
    "papermill": {
     "duration": 0.012362,
     "end_time": "2022-12-03T06:40:50.430328",
     "exception": false,
     "start_time": "2022-12-03T06:40:50.417966",
     "status": "completed"
    },
    "tags": []
   },
   "outputs": [],
   "source": [
    "# ---"
   ]
  },
  {
   "cell_type": "code",
   "execution_count": null,
   "id": "c5afcfd6",
   "metadata": {
    "papermill": {
     "duration": 0.007104,
     "end_time": "2022-12-03T06:40:50.443790",
     "exception": false,
     "start_time": "2022-12-03T06:40:50.436686",
     "status": "completed"
    },
    "tags": []
   },
   "outputs": [],
   "source": []
  }
 ],
 "metadata": {
  "jupytext": {
   "cell_metadata_filter": "tags,-all",
   "main_language": "python",
   "notebook_metadata_filter": "-all"
  },
  "language_info": {
   "codemirror_mode": {
    "name": "ipython",
    "version": 3
   },
   "file_extension": ".py",
   "mimetype": "text/x-python",
   "name": "python",
   "nbconvert_exporter": "python",
   "pygments_lexer": "ipython3",
   "version": "3.8.10"
  },
  "papermill": {
   "default_parameters": {},
   "duration": 9.096242,
   "end_time": "2022-12-03T06:40:51.571090",
   "environment_variables": {},
   "exception": null,
   "input_path": "/home/host_user/workspace/mnist-demo-pipeline/mnist-demo-pipeline/notebooks/temp-notebook-f9g1eemo.ipynb",
   "output_path": "notebooks/benchmark-model.ipynb",
   "parameters": {
    "P": {
     "_opentelemetry_traceparent": "00-faba51c76038564603f28dd2974b5c1f-016b06f1da15265e-01",
     "pipeline.data_lake_root": "/pipeline-outputs/data-lake",
     "pipeline.github.actor": "matiasdahl",
     "pipeline.github.base_ref": "",
     "pipeline.github.event_name": "schedule",
     "pipeline.github.head_ref": "",
     "pipeline.github.job": "run-tests-pipeline-and-persist-pipeline-outputs",
     "pipeline.github.ref": "refs/heads/development",
     "pipeline.github.ref_name": "development",
     "pipeline.github.ref_type": "branch",
     "pipeline.github.repository": "matiasdahl/dev-mnist-digits-demo-pipeline",
     "pipeline.github.run_id": "3607389562",
     "pipeline.github.runner_name": "Hosted Agent",
     "pipeline.github.sha": "ace0d01011d5e914f1921450dd5a59c11367b38d",
     "pipeline.github.workflow": "Run automated tests, pipeline and deploy results to static reporting site",
     "pipeline.pipeline_run_id": "c19a4e1f-84ff-4746-b6a2-ba3b4384e131",
     "pipeline.run_environment": "ci",
     "run.retry_nr": "0",
     "task.max_nr_retries": "1",
     "task.notebook": "notebooks/benchmark-model.py",
     "task.nr_train_images": 1200,
     "task.num_cpus": 1,
     "task.timeout_s": "None"
    }
   },
   "start_time": "2022-12-03T06:40:42.474848",
   "version": "2.3.3"
  }
 },
 "nbformat": 4,
 "nbformat_minor": 5
}