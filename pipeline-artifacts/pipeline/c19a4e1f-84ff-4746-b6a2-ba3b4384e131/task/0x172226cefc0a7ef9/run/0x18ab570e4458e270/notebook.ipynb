{
 "cells": [
  {
   "cell_type": "markdown",
   "id": "e27eb3ae",
   "metadata": {
    "papermill": {
     "duration": 0.021523,
     "end_time": "2022-12-03T06:40:01.758267",
     "exception": false,
     "start_time": "2022-12-03T06:40:01.736744",
     "status": "completed"
    },
    "tags": []
   },
   "source": [
    "# Ingest toy version of MNIST digit data from sklearn"
   ]
  },
  {
   "cell_type": "markdown",
   "id": "59377e47",
   "metadata": {
    "papermill": {
     "duration": 0.002242,
     "end_time": "2022-12-03T06:40:01.764210",
     "exception": false,
     "start_time": "2022-12-03T06:40:01.761968",
     "status": "completed"
    },
    "tags": []
   },
   "source": [
    "### Determine run parameters"
   ]
  },
  {
   "cell_type": "code",
   "execution_count": 1,
   "id": "833105d2",
   "metadata": {
    "execution": {
     "iopub.execute_input": "2022-12-03T06:40:01.770638Z",
     "iopub.status.busy": "2022-12-03T06:40:01.770116Z",
     "iopub.status.idle": "2022-12-03T06:40:01.778029Z",
     "shell.execute_reply": "2022-12-03T06:40:01.777360Z"
    },
    "lines_to_next_cell": 0,
    "papermill": {
     "duration": 0.017469,
     "end_time": "2022-12-03T06:40:01.784026",
     "exception": false,
     "start_time": "2022-12-03T06:40:01.766557",
     "status": "completed"
    },
    "tags": []
   },
   "outputs": [],
   "source": [
    "# ----------------- Parameters for interactive development --------------\n",
    "P = {\n",
    "    \"pipeline.run_environment\": \"dev\",\n",
    "    \"pipeline.data_lake_root\": \"/pipeline-outputs/data-lake\",\n",
    "    \"run.retry_nr\": \"1\",\n",
    "}"
   ]
  },
  {
   "cell_type": "code",
   "execution_count": 2,
   "id": "1ea04222",
   "metadata": {
    "execution": {
     "iopub.execute_input": "2022-12-03T06:40:01.790415Z",
     "iopub.status.busy": "2022-12-03T06:40:01.789838Z",
     "iopub.status.idle": "2022-12-03T06:40:01.793306Z",
     "shell.execute_reply": "2022-12-03T06:40:01.792635Z"
    },
    "lines_to_next_cell": 0,
    "papermill": {
     "duration": 0.008356,
     "end_time": "2022-12-03T06:40:01.794790",
     "exception": false,
     "start_time": "2022-12-03T06:40:01.786434",
     "status": "completed"
    },
    "tags": [
     "parameters"
    ]
   },
   "outputs": [],
   "source": [
    "# - During automated runs parameters will be injected in the below cell -"
   ]
  },
  {
   "cell_type": "code",
   "execution_count": 3,
   "id": "b72afe61",
   "metadata": {
    "execution": {
     "iopub.execute_input": "2022-12-03T06:40:01.800622Z",
     "iopub.status.busy": "2022-12-03T06:40:01.800270Z",
     "iopub.status.idle": "2022-12-03T06:40:01.804982Z",
     "shell.execute_reply": "2022-12-03T06:40:01.804395Z"
    },
    "papermill": {
     "duration": 0.009392,
     "end_time": "2022-12-03T06:40:01.806504",
     "exception": false,
     "start_time": "2022-12-03T06:40:01.797112",
     "status": "completed"
    },
    "tags": [
     "injected-parameters"
    ]
   },
   "outputs": [],
   "source": [
    "# Parameters\n",
    "P = {\n",
    "    \"pipeline.data_lake_root\": \"/pipeline-outputs/data-lake\",\n",
    "    \"pipeline.run_environment\": \"ci\",\n",
    "    \"pipeline.pipeline_run_id\": \"c19a4e1f-84ff-4746-b6a2-ba3b4384e131\",\n",
    "    \"pipeline.github.repository\": \"matiasdahl/dev-mnist-digits-demo-pipeline\",\n",
    "    \"pipeline.github.workflow\": \"Run automated tests, pipeline and deploy results to static reporting site\",\n",
    "    \"pipeline.github.runner_name\": \"Hosted Agent\",\n",
    "    \"pipeline.github.run_id\": \"3607389562\",\n",
    "    \"pipeline.github.actor\": \"matiasdahl\",\n",
    "    \"pipeline.github.job\": \"run-tests-pipeline-and-persist-pipeline-outputs\",\n",
    "    \"pipeline.github.base_ref\": \"\",\n",
    "    \"pipeline.github.head_ref\": \"\",\n",
    "    \"pipeline.github.sha\": \"ace0d01011d5e914f1921450dd5a59c11367b38d\",\n",
    "    \"pipeline.github.ref\": \"refs/heads/development\",\n",
    "    \"pipeline.github.ref_type\": \"branch\",\n",
    "    \"pipeline.github.ref_name\": \"development\",\n",
    "    \"pipeline.github.event_name\": \"schedule\",\n",
    "    \"task.notebook\": \"notebooks/ingest.py\",\n",
    "    \"task.max_nr_retries\": \"15\",\n",
    "    \"run.retry_nr\": \"10\",\n",
    "    \"task.timeout_s\": \"10\",\n",
    "    \"task.num_cpus\": 1,\n",
    "    \"_opentelemetry_traceparent\": \"00-faba51c76038564603f28dd2974b5c1f-7f684a10de22b227-01\",\n",
    "}\n"
   ]
  },
  {
   "cell_type": "code",
   "execution_count": 4,
   "id": "34847786",
   "metadata": {
    "execution": {
     "iopub.execute_input": "2022-12-03T06:40:01.812685Z",
     "iopub.status.busy": "2022-12-03T06:40:01.812112Z",
     "iopub.status.idle": "2022-12-03T06:40:01.815242Z",
     "shell.execute_reply": "2022-12-03T06:40:01.814626Z"
    },
    "lines_to_next_cell": 0,
    "papermill": {
     "duration": 0.007532,
     "end_time": "2022-12-03T06:40:01.816569",
     "exception": false,
     "start_time": "2022-12-03T06:40:01.809037",
     "status": "completed"
    },
    "tags": []
   },
   "outputs": [],
   "source": [
    "# -----------------------------------------------------------------------"
   ]
  },
  {
   "cell_type": "markdown",
   "id": "1a7b3100",
   "metadata": {
    "lines_to_next_cell": 2,
    "papermill": {
     "duration": 0.002243,
     "end_time": "2022-12-03T06:40:01.821106",
     "exception": false,
     "start_time": "2022-12-03T06:40:01.818863",
     "status": "completed"
    },
    "tags": []
   },
   "source": [
    "---"
   ]
  },
  {
   "cell_type": "markdown",
   "id": "2479a8ed",
   "metadata": {
    "papermill": {
     "duration": 0.002305,
     "end_time": "2022-12-03T06:40:01.825878",
     "exception": false,
     "start_time": "2022-12-03T06:40:01.823573",
     "status": "completed"
    },
    "tags": []
   },
   "source": [
    "### Simulate different types of failures (for testing timeout and retry logic)"
   ]
  },
  {
   "cell_type": "code",
   "execution_count": 5,
   "id": "9cbe47b1",
   "metadata": {
    "execution": {
     "iopub.execute_input": "2022-12-03T06:40:01.831612Z",
     "iopub.status.busy": "2022-12-03T06:40:01.831196Z",
     "iopub.status.idle": "2022-12-03T06:40:02.283771Z",
     "shell.execute_reply": "2022-12-03T06:40:02.283129Z"
    },
    "papermill": {
     "duration": 0.457492,
     "end_time": "2022-12-03T06:40:02.285595",
     "exception": false,
     "start_time": "2022-12-03T06:40:01.828103",
     "status": "completed"
    },
    "tags": []
   },
   "outputs": [
    {
     "name": "stderr",
     "output_type": "stream",
     "text": [
      "2022-12-03 06:40:02,131\tINFO worker.py:842 -- Connecting to existing Ray cluster at address: 172.17.0.2:6379\n"
     ]
    }
   ],
   "source": [
    "from pynb_dag_runner.tasks.task_opentelemetry_logging import PydarLogger\n",
    "\n",
    "logger = PydarLogger(P)"
   ]
  },
  {
   "cell_type": "code",
   "execution_count": 6,
   "id": "0e04dcc9",
   "metadata": {
    "execution": {
     "iopub.execute_input": "2022-12-03T06:40:02.295561Z",
     "iopub.status.busy": "2022-12-03T06:40:02.294977Z",
     "iopub.status.idle": "2022-12-03T06:40:02.299756Z",
     "shell.execute_reply": "2022-12-03T06:40:02.299192Z"
    },
    "papermill": {
     "duration": 0.013718,
     "end_time": "2022-12-03T06:40:02.302442",
     "exception": false,
     "start_time": "2022-12-03T06:40:02.288724",
     "status": "completed"
    },
    "tags": []
   },
   "outputs": [],
   "source": [
    "import time, random\n",
    "\n",
    "\n",
    "def maybe_crash(retry_nr: int, run_environment: str):\n",
    "    if retry_nr == 2 and run_environment == \"ci\":\n",
    "        time.sleep(1e6)\n",
    "\n",
    "    max_retry_nr: int = 3 if run_environment == \"dev\" else 10\n",
    "\n",
    "    if retry_nr < max_retry_nr:\n",
    "        if random.random() < 0.1:\n",
    "            time.sleep(1e6)\n",
    "        else:\n",
    "            raise Exception(\"Simulated exception failure from ingestion step notebook!\")\n",
    "\n",
    "\n",
    "maybe_crash(\n",
    "    retry_nr=int(P[\"run.retry_nr\"]), run_environment=P[\"pipeline.run_environment\"]\n",
    ")"
   ]
  },
  {
   "cell_type": "markdown",
   "id": "cf7cfd1d",
   "metadata": {
    "lines_to_next_cell": 2,
    "papermill": {
     "duration": 0.002416,
     "end_time": "2022-12-03T06:40:02.307652",
     "exception": false,
     "start_time": "2022-12-03T06:40:02.305236",
     "status": "completed"
    },
    "tags": []
   },
   "source": [
    "### Notebook code"
   ]
  },
  {
   "cell_type": "code",
   "execution_count": 7,
   "id": "ff7ddb16",
   "metadata": {
    "execution": {
     "iopub.execute_input": "2022-12-03T06:40:02.314749Z",
     "iopub.status.busy": "2022-12-03T06:40:02.314324Z",
     "iopub.status.idle": "2022-12-03T06:40:03.612375Z",
     "shell.execute_reply": "2022-12-03T06:40:03.611447Z"
    },
    "papermill": {
     "duration": 1.304126,
     "end_time": "2022-12-03T06:40:03.614625",
     "exception": false,
     "start_time": "2022-12-03T06:40:02.310499",
     "status": "completed"
    },
    "tags": []
   },
   "outputs": [],
   "source": [
    "from sklearn import datasets\n",
    "\n",
    "#\n",
    "from common.io import datalake_root, write_numpy"
   ]
  },
  {
   "cell_type": "code",
   "execution_count": 8,
   "id": "978ff6b4",
   "metadata": {
    "execution": {
     "iopub.execute_input": "2022-12-03T06:40:03.623250Z",
     "iopub.status.busy": "2022-12-03T06:40:03.622849Z",
     "iopub.status.idle": "2022-12-03T06:40:03.638525Z",
     "shell.execute_reply": "2022-12-03T06:40:03.637816Z"
    },
    "lines_to_next_cell": 2,
    "papermill": {
     "duration": 0.021183,
     "end_time": "2022-12-03T06:40:03.640344",
     "exception": false,
     "start_time": "2022-12-03T06:40:03.619161",
     "status": "completed"
    },
    "tags": []
   },
   "outputs": [],
   "source": [
    "digits = datasets.load_digits()\n",
    "\n",
    "X = digits[\"data\"]\n",
    "y = digits[\"target\"]"
   ]
  },
  {
   "cell_type": "code",
   "execution_count": 9,
   "id": "3288a455",
   "metadata": {
    "execution": {
     "iopub.execute_input": "2022-12-03T06:40:03.646881Z",
     "iopub.status.busy": "2022-12-03T06:40:03.646445Z",
     "iopub.status.idle": "2022-12-03T06:40:03.658347Z",
     "shell.execute_reply": "2022-12-03T06:40:03.657521Z"
    },
    "papermill": {
     "duration": 0.016819,
     "end_time": "2022-12-03T06:40:03.659817",
     "exception": false,
     "start_time": "2022-12-03T06:40:03.642998",
     "status": "completed"
    },
    "tags": []
   },
   "outputs": [
    {
     "name": "stdout",
     "output_type": "stream",
     "text": [
      " - Logging data_shape (json) : [1797, 64]\n",
      " - Logging target_shape (json) : [1797]\n"
     ]
    },
    {
     "data": {
      "text/plain": [
       "((1797, 64), (1797,))"
      ]
     },
     "execution_count": 9,
     "metadata": {},
     "output_type": "execute_result"
    }
   ],
   "source": [
    "logger.log_value(\"data_shape\", list(X.shape))\n",
    "logger.log_value(\"target_shape\", list(y.shape))\n",
    "\n",
    "X.shape, y.shape"
   ]
  },
  {
   "cell_type": "code",
   "execution_count": 10,
   "id": "e043b8c7",
   "metadata": {
    "execution": {
     "iopub.execute_input": "2022-12-03T06:40:03.667035Z",
     "iopub.status.busy": "2022-12-03T06:40:03.666523Z",
     "iopub.status.idle": "2022-12-03T06:40:03.674904Z",
     "shell.execute_reply": "2022-12-03T06:40:03.674400Z"
    },
    "papermill": {
     "duration": 0.013763,
     "end_time": "2022-12-03T06:40:03.676533",
     "exception": false,
     "start_time": "2022-12-03T06:40:03.662770",
     "status": "completed"
    },
    "tags": []
   },
   "outputs": [],
   "source": [
    "write_numpy(datalake_root(P) / \"raw\" / \"digits.numpy\", X)\n",
    "write_numpy(datalake_root(P) / \"raw\" / \"labels.numpy\", y)"
   ]
  },
  {
   "cell_type": "code",
   "execution_count": null,
   "id": "24061235",
   "metadata": {
    "papermill": {
     "duration": 0.00285,
     "end_time": "2022-12-03T06:40:03.682290",
     "exception": false,
     "start_time": "2022-12-03T06:40:03.679440",
     "status": "completed"
    },
    "tags": []
   },
   "outputs": [],
   "source": []
  }
 ],
 "metadata": {
  "jupytext": {
   "cell_metadata_filter": "tags,-all",
   "main_language": "python",
   "notebook_metadata_filter": "-all"
  },
  "language_info": {
   "codemirror_mode": {
    "name": "ipython",
    "version": 3
   },
   "file_extension": ".py",
   "mimetype": "text/x-python",
   "name": "python",
   "nbconvert_exporter": "python",
   "pygments_lexer": "ipython3",
   "version": "3.8.10"
  },
  "papermill": {
   "default_parameters": {},
   "duration": 4.119397,
   "end_time": "2022-12-03T06:40:04.706080",
   "environment_variables": {},
   "exception": null,
   "input_path": "/home/host_user/workspace/mnist-demo-pipeline/mnist-demo-pipeline/notebooks/temp-notebook-gago1r4o.ipynb",
   "output_path": "notebooks/ingest.ipynb",
   "parameters": {
    "P": {
     "_opentelemetry_traceparent": "00-faba51c76038564603f28dd2974b5c1f-7f684a10de22b227-01",
     "pipeline.data_lake_root": "/pipeline-outputs/data-lake",
     "pipeline.github.actor": "matiasdahl",
     "pipeline.github.base_ref": "",
     "pipeline.github.event_name": "schedule",
     "pipeline.github.head_ref": "",
     "pipeline.github.job": "run-tests-pipeline-and-persist-pipeline-outputs",
     "pipeline.github.ref": "refs/heads/development",
     "pipeline.github.ref_name": "development",
     "pipeline.github.ref_type": "branch",
     "pipeline.github.repository": "matiasdahl/dev-mnist-digits-demo-pipeline",
     "pipeline.github.run_id": "3607389562",
     "pipeline.github.runner_name": "Hosted Agent",
     "pipeline.github.sha": "ace0d01011d5e914f1921450dd5a59c11367b38d",
     "pipeline.github.workflow": "Run automated tests, pipeline and deploy results to static reporting site",
     "pipeline.pipeline_run_id": "c19a4e1f-84ff-4746-b6a2-ba3b4384e131",
     "pipeline.run_environment": "ci",
     "run.retry_nr": "10",
     "task.max_nr_retries": "15",
     "task.notebook": "notebooks/ingest.py",
     "task.num_cpus": 1,
     "task.timeout_s": "10"
    }
   },
   "start_time": "2022-12-03T06:40:00.586683",
   "version": "2.3.3"
  }
 },
 "nbformat": 4,
 "nbformat_minor": 5
}