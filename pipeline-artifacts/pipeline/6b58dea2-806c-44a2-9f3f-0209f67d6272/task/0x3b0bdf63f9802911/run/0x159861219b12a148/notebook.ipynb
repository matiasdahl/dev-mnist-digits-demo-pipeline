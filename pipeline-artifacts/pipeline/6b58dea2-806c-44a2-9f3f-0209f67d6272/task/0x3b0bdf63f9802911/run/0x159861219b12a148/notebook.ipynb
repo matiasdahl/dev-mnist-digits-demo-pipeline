{
 "cells": [
  {
   "cell_type": "markdown",
   "id": "717fd248",
   "metadata": {
    "papermill": {
     "duration": 0.003931,
     "end_time": "2022-12-12T06:43:43.129799",
     "exception": false,
     "start_time": "2022-12-12T06:43:43.125868",
     "status": "completed"
    },
    "tags": []
   },
   "source": [
    "# Summarize model performances\n",
    "\n",
    "This notebooks plots the performances (using averaged ROC AUC scores) for models\n",
    "trained with different training sets."
   ]
  },
  {
   "cell_type": "markdown",
   "id": "57c62a66",
   "metadata": {
    "papermill": {
     "duration": 0.002704,
     "end_time": "2022-12-12T06:43:43.135496",
     "exception": false,
     "start_time": "2022-12-12T06:43:43.132792",
     "status": "completed"
    },
    "tags": []
   },
   "source": [
    "### Determine run parameters"
   ]
  },
  {
   "cell_type": "code",
   "execution_count": 1,
   "id": "c36d1f0f",
   "metadata": {
    "execution": {
     "iopub.execute_input": "2022-12-12T06:43:43.141941Z",
     "iopub.status.busy": "2022-12-12T06:43:43.141456Z",
     "iopub.status.idle": "2022-12-12T06:43:43.148627Z",
     "shell.execute_reply": "2022-12-12T06:43:43.148025Z"
    },
    "lines_to_next_cell": 0,
    "papermill": {
     "duration": 0.012159,
     "end_time": "2022-12-12T06:43:43.150085",
     "exception": false,
     "start_time": "2022-12-12T06:43:43.137926",
     "status": "completed"
    },
    "tags": []
   },
   "outputs": [],
   "source": [
    "# ----------------- Parameters for interactive development --------------\n",
    "P = {\n",
    "    \"pipeline.run_environment\": \"dev\",\n",
    "}"
   ]
  },
  {
   "cell_type": "code",
   "execution_count": 2,
   "id": "225eb7e8",
   "metadata": {
    "execution": {
     "iopub.execute_input": "2022-12-12T06:43:43.156547Z",
     "iopub.status.busy": "2022-12-12T06:43:43.155994Z",
     "iopub.status.idle": "2022-12-12T06:43:43.159094Z",
     "shell.execute_reply": "2022-12-12T06:43:43.158499Z"
    },
    "lines_to_next_cell": 0,
    "papermill": {
     "duration": 0.007928,
     "end_time": "2022-12-12T06:43:43.160459",
     "exception": false,
     "start_time": "2022-12-12T06:43:43.152531",
     "status": "completed"
    },
    "tags": [
     "parameters"
    ]
   },
   "outputs": [],
   "source": [
    "# - During automated runs parameters will be injected in the below cell -"
   ]
  },
  {
   "cell_type": "code",
   "execution_count": 3,
   "id": "1d320408",
   "metadata": {
    "execution": {
     "iopub.execute_input": "2022-12-12T06:43:43.167018Z",
     "iopub.status.busy": "2022-12-12T06:43:43.166789Z",
     "iopub.status.idle": "2022-12-12T06:43:43.171071Z",
     "shell.execute_reply": "2022-12-12T06:43:43.170491Z"
    },
    "papermill": {
     "duration": 0.009432,
     "end_time": "2022-12-12T06:43:43.172403",
     "exception": false,
     "start_time": "2022-12-12T06:43:43.162971",
     "status": "completed"
    },
    "tags": [
     "injected-parameters"
    ]
   },
   "outputs": [],
   "source": [
    "# Parameters\n",
    "P = {\n",
    "    \"pipeline.data_lake_root\": \"/pipeline-outputs/data-lake\",\n",
    "    \"pipeline.run_environment\": \"ci\",\n",
    "    \"pipeline.pipeline_run_id\": \"6b58dea2-806c-44a2-9f3f-0209f67d6272\",\n",
    "    \"pipeline.github.repository\": \"matiasdahl/dev-mnist-digits-demo-pipeline\",\n",
    "    \"pipeline.github.workflow\": \"Run automated tests, pipeline and deploy results to static reporting site\",\n",
    "    \"pipeline.github.runner_name\": \"Hosted Agent\",\n",
    "    \"pipeline.github.run_id\": \"3673319405\",\n",
    "    \"pipeline.github.actor\": \"matiasdahl\",\n",
    "    \"pipeline.github.job\": \"run-tests-pipeline-and-persist-pipeline-outputs\",\n",
    "    \"pipeline.github.base_ref\": \"\",\n",
    "    \"pipeline.github.head_ref\": \"\",\n",
    "    \"pipeline.github.sha\": \"ace0d01011d5e914f1921450dd5a59c11367b38d\",\n",
    "    \"pipeline.github.ref\": \"refs/heads/development\",\n",
    "    \"pipeline.github.ref_type\": \"branch\",\n",
    "    \"pipeline.github.ref_name\": \"development\",\n",
    "    \"pipeline.github.event_name\": \"schedule\",\n",
    "    \"task.notebook\": \"notebooks/summary.py\",\n",
    "    \"task.max_nr_retries\": \"1\",\n",
    "    \"run.retry_nr\": \"0\",\n",
    "    \"task.timeout_s\": \"None\",\n",
    "    \"task.num_cpus\": 1,\n",
    "    \"_opentelemetry_traceparent\": \"00-81120cfa575541747c90cc1ec8bd1d4e-e34d085c6a67e6eb-01\",\n",
    "}\n"
   ]
  },
  {
   "cell_type": "code",
   "execution_count": 4,
   "id": "225cf58f",
   "metadata": {
    "execution": {
     "iopub.execute_input": "2022-12-12T06:43:43.179290Z",
     "iopub.status.busy": "2022-12-12T06:43:43.178687Z",
     "iopub.status.idle": "2022-12-12T06:43:43.181640Z",
     "shell.execute_reply": "2022-12-12T06:43:43.181094Z"
    },
    "lines_to_next_cell": 0,
    "papermill": {
     "duration": 0.008041,
     "end_time": "2022-12-12T06:43:43.183140",
     "exception": false,
     "start_time": "2022-12-12T06:43:43.175099",
     "status": "completed"
    },
    "tags": []
   },
   "outputs": [],
   "source": [
    "# -----------------------------------------------------------------------"
   ]
  },
  {
   "cell_type": "markdown",
   "id": "c7ba4e9d",
   "metadata": {
    "papermill": {
     "duration": 0.00256,
     "end_time": "2022-12-12T06:43:43.188527",
     "exception": false,
     "start_time": "2022-12-12T06:43:43.185967",
     "status": "completed"
    },
    "tags": []
   },
   "source": [
    "---"
   ]
  },
  {
   "cell_type": "markdown",
   "id": "52244f0b",
   "metadata": {
    "lines_to_next_cell": 2,
    "papermill": {
     "duration": 0.002338,
     "end_time": "2022-12-12T06:43:43.193292",
     "exception": false,
     "start_time": "2022-12-12T06:43:43.190954",
     "status": "completed"
    },
    "tags": []
   },
   "source": [
    "### Notebook code"
   ]
  },
  {
   "cell_type": "code",
   "execution_count": 5,
   "id": "efe6f19e",
   "metadata": {
    "execution": {
     "iopub.execute_input": "2022-12-12T06:43:43.201634Z",
     "iopub.status.busy": "2022-12-12T06:43:43.200988Z",
     "iopub.status.idle": "2022-12-12T06:43:44.313704Z",
     "shell.execute_reply": "2022-12-12T06:43:44.312811Z"
    },
    "papermill": {
     "duration": 1.118266,
     "end_time": "2022-12-12T06:43:44.315914",
     "exception": false,
     "start_time": "2022-12-12T06:43:43.197648",
     "status": "completed"
    },
    "tags": []
   },
   "outputs": [],
   "source": [
    "#\n",
    "import pandas as pd\n",
    "import matplotlib.pyplot as plt\n",
    "\n",
    "#\n",
    "from pynb_dag_runner.tasks.task_opentelemetry_logging import PydarLogger"
   ]
  },
  {
   "cell_type": "code",
   "execution_count": 6,
   "id": "75f98b25",
   "metadata": {
    "execution": {
     "iopub.execute_input": "2022-12-12T06:43:44.323278Z",
     "iopub.status.busy": "2022-12-12T06:43:44.322919Z",
     "iopub.status.idle": "2022-12-12T06:43:44.482492Z",
     "shell.execute_reply": "2022-12-12T06:43:44.481803Z"
    },
    "papermill": {
     "duration": 0.165568,
     "end_time": "2022-12-12T06:43:44.484411",
     "exception": false,
     "start_time": "2022-12-12T06:43:44.318843",
     "status": "completed"
    },
    "tags": []
   },
   "outputs": [
    {
     "name": "stderr",
     "output_type": "stream",
     "text": [
      "2022-12-12 06:43:44,327\tINFO worker.py:842 -- Connecting to existing Ray cluster at address: 172.17.0.2:6379\n"
     ]
    }
   ],
   "source": [
    "logger = PydarLogger(P=P)"
   ]
  },
  {
   "cell_type": "code",
   "execution_count": 7,
   "id": "cfa7089e",
   "metadata": {
    "execution": {
     "iopub.execute_input": "2022-12-12T06:43:44.491678Z",
     "iopub.status.busy": "2022-12-12T06:43:44.491427Z",
     "iopub.status.idle": "2022-12-12T06:43:44.495309Z",
     "shell.execute_reply": "2022-12-12T06:43:44.494615Z"
    },
    "papermill": {
     "duration": 0.009106,
     "end_time": "2022-12-12T06:43:44.496918",
     "exception": false,
     "start_time": "2022-12-12T06:43:44.487812",
     "status": "completed"
    },
    "tags": []
   },
   "outputs": [],
   "source": [
    "from pynb_dag_runner.tasks.task_opentelemetry_logging import (\n",
    "    PydarLogger,\n",
    "    get_logged_values,\n",
    ")\n",
    "from pynb_dag_runner.opentelemetry_helpers import _get_all_spans, Spans"
   ]
  },
  {
   "cell_type": "code",
   "execution_count": 8,
   "id": "607c9ff1",
   "metadata": {
    "execution": {
     "iopub.execute_input": "2022-12-12T06:43:44.503574Z",
     "iopub.status.busy": "2022-12-12T06:43:44.503001Z",
     "iopub.status.idle": "2022-12-12T06:43:44.510072Z",
     "shell.execute_reply": "2022-12-12T06:43:44.509519Z"
    },
    "papermill": {
     "duration": 0.011961,
     "end_time": "2022-12-12T06:43:44.511527",
     "exception": false,
     "start_time": "2022-12-12T06:43:44.499566",
     "status": "completed"
    },
    "tags": []
   },
   "outputs": [],
   "source": [
    "def get_model_benchmarks():\n",
    "    \"\"\"\n",
    "    Query the OpenTelemetry logs for *this pipeline run* and return\n",
    "    all key-values logged from all runs of the benchmark-model.py task\n",
    "\n",
    "    For testing a json file with OpenTelemetry spans (as an array)\n",
    "    can be used as follows:\n",
    "\n",
    "    - Create output directory `mkdir /tmp/spans`\n",
    "    - Run unit tests. This will create pipeline-outputs/opentelemetry-spans.json\n",
    "    - Convert this json-array into jsonl format as follows\n",
    "\n",
    "    jq -c '.[]' /pipeline-outputs/opentelemetry-spans.json > /tmp/spans/data.txt\n",
    "\n",
    "    \"\"\"\n",
    "    spans: Spans = Spans(_get_all_spans())\n",
    "    print(f\"Found {len(spans)} spans\")\n",
    "\n",
    "    benchmark_spans = (\n",
    "        spans\n",
    "        # -\n",
    "        .filter([\"name\"], \"execute-task\")\n",
    "        # -\n",
    "        .filter([\"attributes\", \"task.notebook\"], \"notebooks/benchmark-model.py\")\n",
    "    )\n",
    "\n",
    "    result = []\n",
    "    for s in benchmark_spans:\n",
    "        result.append(\n",
    "            {\n",
    "                \"span_id\": s[\"context\"][\"span_id\"],\n",
    "                \"nr_train_images\": s[\"attributes\"][\"task.nr_train_images\"],\n",
    "                \"data\": get_logged_values(spans.bound_under(s)),\n",
    "            }\n",
    "        )\n",
    "\n",
    "    return result\n",
    "\n",
    "\n",
    "def adjust_pandas(df):\n",
    "    def column_renamer(col_name: str) -> str:\n",
    "        return (\n",
    "            col_name\n",
    "            # -- 'data.roc_auc_per_digit.4' -> 'roc_auc.4'\n",
    "            .replace(\"data.roc_auc_per_digit\", \"roc_auc\")\n",
    "            # -- 'data.roc_auc_class_mean' -> 'roc_auc_mean'\n",
    "            .replace(\"data.roc_auc_class_mean\", \"roc_auc_mean\")\n",
    "        )\n",
    "\n",
    "    return df.rename(column_renamer, axis=\"columns\").sort_values(by=\"nr_train_images\")"
   ]
  },
  {
   "cell_type": "code",
   "execution_count": 9,
   "id": "693bd6df",
   "metadata": {
    "execution": {
     "iopub.execute_input": "2022-12-12T06:43:44.518502Z",
     "iopub.status.busy": "2022-12-12T06:43:44.517936Z",
     "iopub.status.idle": "2022-12-12T06:43:44.561595Z",
     "shell.execute_reply": "2022-12-12T06:43:44.560865Z"
    },
    "papermill": {
     "duration": 0.049483,
     "end_time": "2022-12-12T06:43:44.563744",
     "exception": false,
     "start_time": "2022-12-12T06:43:44.514261",
     "status": "completed"
    },
    "tags": []
   },
   "outputs": [
    {
     "name": "stdout",
     "output_type": "stream",
     "text": [
      "Found 417 spans\n"
     ]
    }
   ],
   "source": [
    "df_data = adjust_pandas(pd.json_normalize(get_model_benchmarks()))"
   ]
  },
  {
   "cell_type": "code",
   "execution_count": 10,
   "id": "02cb9319",
   "metadata": {
    "execution": {
     "iopub.execute_input": "2022-12-12T06:43:44.571535Z",
     "iopub.status.busy": "2022-12-12T06:43:44.571310Z",
     "iopub.status.idle": "2022-12-12T06:43:44.595340Z",
     "shell.execute_reply": "2022-12-12T06:43:44.594687Z"
    },
    "papermill": {
     "duration": 0.030846,
     "end_time": "2022-12-12T06:43:44.598348",
     "exception": false,
     "start_time": "2022-12-12T06:43:44.567502",
     "status": "completed"
    },
    "tags": []
   },
   "outputs": [
    {
     "data": {
      "text/html": [
       "<div>\n",
       "<style scoped>\n",
       "    .dataframe tbody tr th:only-of-type {\n",
       "        vertical-align: middle;\n",
       "    }\n",
       "\n",
       "    .dataframe tbody tr th {\n",
       "        vertical-align: top;\n",
       "    }\n",
       "\n",
       "    .dataframe thead th {\n",
       "        text-align: right;\n",
       "    }\n",
       "</style>\n",
       "<table border=\"1\" class=\"dataframe\">\n",
       "  <thead>\n",
       "    <tr style=\"text-align: right;\">\n",
       "      <th></th>\n",
       "      <th>span_id</th>\n",
       "      <th>nr_train_images</th>\n",
       "      <th>roc_auc_mean</th>\n",
       "      <th>roc_auc.0</th>\n",
       "      <th>roc_auc.1</th>\n",
       "      <th>roc_auc.2</th>\n",
       "      <th>roc_auc.3</th>\n",
       "      <th>roc_auc.4</th>\n",
       "      <th>roc_auc.5</th>\n",
       "      <th>roc_auc.6</th>\n",
       "      <th>roc_auc.7</th>\n",
       "      <th>roc_auc.8</th>\n",
       "      <th>roc_auc.9</th>\n",
       "    </tr>\n",
       "  </thead>\n",
       "  <tbody>\n",
       "    <tr>\n",
       "      <th>3</th>\n",
       "      <td>0xe099e57b0d25402b</td>\n",
       "      <td>600</td>\n",
       "      <td>0.9991</td>\n",
       "      <td>1.0</td>\n",
       "      <td>0.9992</td>\n",
       "      <td>1.0</td>\n",
       "      <td>0.9998</td>\n",
       "      <td>0.9992</td>\n",
       "      <td>0.9990</td>\n",
       "      <td>0.9999</td>\n",
       "      <td>0.9998</td>\n",
       "      <td>0.9946</td>\n",
       "      <td>0.9990</td>\n",
       "    </tr>\n",
       "    <tr>\n",
       "      <th>2</th>\n",
       "      <td>0xfd3a32de6f761a3d</td>\n",
       "      <td>800</td>\n",
       "      <td>0.9990</td>\n",
       "      <td>1.0</td>\n",
       "      <td>0.9987</td>\n",
       "      <td>1.0</td>\n",
       "      <td>0.9999</td>\n",
       "      <td>0.9995</td>\n",
       "      <td>0.9993</td>\n",
       "      <td>1.0000</td>\n",
       "      <td>0.9999</td>\n",
       "      <td>0.9935</td>\n",
       "      <td>0.9994</td>\n",
       "    </tr>\n",
       "    <tr>\n",
       "      <th>1</th>\n",
       "      <td>0xf7771c922abf0199</td>\n",
       "      <td>1000</td>\n",
       "      <td>0.9992</td>\n",
       "      <td>1.0</td>\n",
       "      <td>0.9989</td>\n",
       "      <td>1.0</td>\n",
       "      <td>0.9998</td>\n",
       "      <td>0.9997</td>\n",
       "      <td>0.9994</td>\n",
       "      <td>0.9999</td>\n",
       "      <td>0.9998</td>\n",
       "      <td>0.9952</td>\n",
       "      <td>0.9996</td>\n",
       "    </tr>\n",
       "    <tr>\n",
       "      <th>0</th>\n",
       "      <td>0xb69fe239cbecaed9</td>\n",
       "      <td>1200</td>\n",
       "      <td>0.9993</td>\n",
       "      <td>1.0</td>\n",
       "      <td>0.9989</td>\n",
       "      <td>1.0</td>\n",
       "      <td>0.9999</td>\n",
       "      <td>0.9998</td>\n",
       "      <td>0.9997</td>\n",
       "      <td>0.9999</td>\n",
       "      <td>0.9998</td>\n",
       "      <td>0.9958</td>\n",
       "      <td>0.9997</td>\n",
       "    </tr>\n",
       "  </tbody>\n",
       "</table>\n",
       "</div>"
      ],
      "text/plain": [
       "              span_id  nr_train_images  roc_auc_mean  roc_auc.0  roc_auc.1  \\\n",
       "3  0xe099e57b0d25402b              600        0.9991        1.0     0.9992   \n",
       "2  0xfd3a32de6f761a3d              800        0.9990        1.0     0.9987   \n",
       "1  0xf7771c922abf0199             1000        0.9992        1.0     0.9989   \n",
       "0  0xb69fe239cbecaed9             1200        0.9993        1.0     0.9989   \n",
       "\n",
       "   roc_auc.2  roc_auc.3  roc_auc.4  roc_auc.5  roc_auc.6  roc_auc.7  \\\n",
       "3        1.0     0.9998     0.9992     0.9990     0.9999     0.9998   \n",
       "2        1.0     0.9999     0.9995     0.9993     1.0000     0.9999   \n",
       "1        1.0     0.9998     0.9997     0.9994     0.9999     0.9998   \n",
       "0        1.0     0.9999     0.9998     0.9997     0.9999     0.9998   \n",
       "\n",
       "   roc_auc.8  roc_auc.9  \n",
       "3     0.9946     0.9990  \n",
       "2     0.9935     0.9994  \n",
       "1     0.9952     0.9996  \n",
       "0     0.9958     0.9997  "
      ]
     },
     "execution_count": 10,
     "metadata": {},
     "output_type": "execute_result"
    }
   ],
   "source": [
    "df_data.round(4)"
   ]
  },
  {
   "cell_type": "code",
   "execution_count": 11,
   "id": "e361b99a",
   "metadata": {
    "execution": {
     "iopub.execute_input": "2022-12-12T06:43:44.606283Z",
     "iopub.status.busy": "2022-12-12T06:43:44.605982Z",
     "iopub.status.idle": "2022-12-12T06:43:44.777402Z",
     "shell.execute_reply": "2022-12-12T06:43:44.776846Z"
    },
    "papermill": {
     "duration": 0.177541,
     "end_time": "2022-12-12T06:43:44.779359",
     "exception": false,
     "start_time": "2022-12-12T06:43:44.601818",
     "status": "completed"
    },
    "tags": []
   },
   "outputs": [
    {
     "data": {
      "image/png": "[encoded data removed]",
      "text/plain": [
       "<Figure size 1600x400 with 1 Axes>"
      ]
     },
     "metadata": {},
     "output_type": "display_data"
    }
   ],
   "source": [
    "def plot_classifier_performance_summary(df_data):\n",
    "    fig, ax = plt.subplots(nrows=1, ncols=1, figsize=(16, 4), sharex=True)\n",
    "\n",
    "    #\n",
    "    ax.plot(\n",
    "        df_data[\"nr_train_images\"], df_data[\"roc_auc_mean\"], marker=\"o\", linestyle=\"--\"\n",
    "    )\n",
    "    ax.set_title(\n",
    "        f\"ROC AUC digit classifier performance on evaluation digits\", fontsize=17\n",
    "    )\n",
    "    ax.set_xlabel(\"Total number of digits in training set\", fontsize=14)\n",
    "    ax.set_ylabel(\"Mean ROC AUC\", fontsize=14)\n",
    "\n",
    "    fig.tight_layout()\n",
    "    fig.show()\n",
    "\n",
    "    return fig\n",
    "\n",
    "\n",
    "fig = plot_classifier_performance_summary(df_data)"
   ]
  },
  {
   "cell_type": "code",
   "execution_count": 12,
   "id": "bda1737e",
   "metadata": {
    "execution": {
     "iopub.execute_input": "2022-12-12T06:43:44.789359Z",
     "iopub.status.busy": "2022-12-12T06:43:44.789099Z",
     "iopub.status.idle": "2022-12-12T06:43:44.866973Z",
     "shell.execute_reply": "2022-12-12T06:43:44.866334Z"
    },
    "papermill": {
     "duration": 0.084639,
     "end_time": "2022-12-12T06:43:44.868913",
     "exception": false,
     "start_time": "2022-12-12T06:43:44.784274",
     "status": "completed"
    },
    "tags": []
   },
   "outputs": [],
   "source": [
    "logger.log_figure(\"auc-roc-model-performances.png\", fig)"
   ]
  },
  {
   "cell_type": "code",
   "execution_count": 13,
   "id": "016744d7",
   "metadata": {
    "execution": {
     "iopub.execute_input": "2022-12-12T06:43:44.881360Z",
     "iopub.status.busy": "2022-12-12T06:43:44.880969Z",
     "iopub.status.idle": "2022-12-12T06:43:44.884613Z",
     "shell.execute_reply": "2022-12-12T06:43:44.883868Z"
    },
    "papermill": {
     "duration": 0.010519,
     "end_time": "2022-12-12T06:43:44.886503",
     "exception": false,
     "start_time": "2022-12-12T06:43:44.875984",
     "status": "completed"
    },
    "tags": []
   },
   "outputs": [],
   "source": [
    "###"
   ]
  },
  {
   "cell_type": "code",
   "execution_count": null,
   "id": "a5051b22",
   "metadata": {
    "papermill": {
     "duration": 0.004376,
     "end_time": "2022-12-12T06:43:44.894750",
     "exception": false,
     "start_time": "2022-12-12T06:43:44.890374",
     "status": "completed"
    },
    "tags": []
   },
   "outputs": [],
   "source": []
  }
 ],
 "metadata": {
  "jupytext": {
   "cell_metadata_filter": "tags,-all",
   "main_language": "python",
   "notebook_metadata_filter": "-all"
  },
  "language_info": {
   "codemirror_mode": {
    "name": "ipython",
    "version": 3
   },
   "file_extension": ".py",
   "mimetype": "text/x-python",
   "name": "python",
   "nbconvert_exporter": "python",
   "pygments_lexer": "ipython3",
   "version": "3.8.10"
  },
  "papermill": {
   "default_parameters": {},
   "duration": 3.986667,
   "end_time": "2022-12-12T06:43:45.820880",
   "environment_variables": {},
   "exception": null,
   "input_path": "/home/host_user/workspace/mnist-demo-pipeline/mnist-demo-pipeline/notebooks/temp-notebook-jpt19gci.ipynb",
   "output_path": "notebooks/summary.ipynb",
   "parameters": {
    "P": {
     "_opentelemetry_traceparent": "00-81120cfa575541747c90cc1ec8bd1d4e-e34d085c6a67e6eb-01",
     "pipeline.data_lake_root": "/pipeline-outputs/data-lake",
     "pipeline.github.actor": "matiasdahl",
     "pipeline.github.base_ref": "",
     "pipeline.github.event_name": "schedule",
     "pipeline.github.head_ref": "",
     "pipeline.github.job": "run-tests-pipeline-and-persist-pipeline-outputs",
     "pipeline.github.ref": "refs/heads/development",
     "pipeline.github.ref_name": "development",
     "pipeline.github.ref_type": "branch",
     "pipeline.github.repository": "matiasdahl/dev-mnist-digits-demo-pipeline",
     "pipeline.github.run_id": "3673319405",
     "pipeline.github.runner_name": "Hosted Agent",
     "pipeline.github.sha": "ace0d01011d5e914f1921450dd5a59c11367b38d",
     "pipeline.github.workflow": "Run automated tests, pipeline and deploy results to static reporting site",
     "pipeline.pipeline_run_id": "6b58dea2-806c-44a2-9f3f-0209f67d6272",
     "pipeline.run_environment": "ci",
     "run.retry_nr": "0",
     "task.max_nr_retries": "1",
     "task.notebook": "notebooks/summary.py",
     "task.num_cpus": 1,
     "task.timeout_s": "None"
    }
   },
   "start_time": "2022-12-12T06:43:41.834213",
   "version": "2.3.3"
  }
 },
 "nbformat": 4,
 "nbformat_minor": 5
}