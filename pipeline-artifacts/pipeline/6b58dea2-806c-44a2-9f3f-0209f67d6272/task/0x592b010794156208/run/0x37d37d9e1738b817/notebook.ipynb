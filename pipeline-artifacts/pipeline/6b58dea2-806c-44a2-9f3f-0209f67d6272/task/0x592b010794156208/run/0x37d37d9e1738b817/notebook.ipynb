{
 "cells": [
  {
   "cell_type": "markdown",
   "id": "88552b50",
   "metadata": {
    "papermill": {
     "duration": 0.003418,
     "end_time": "2022-12-12T06:42:51.572707",
     "exception": false,
     "start_time": "2022-12-12T06:42:51.569289",
     "status": "completed"
    },
    "tags": []
   },
   "source": [
    "# Ingest toy version of MNIST digit data from sklearn"
   ]
  },
  {
   "cell_type": "markdown",
   "id": "52a592fe",
   "metadata": {
    "papermill": {
     "duration": 0.002262,
     "end_time": "2022-12-12T06:42:51.578651",
     "exception": false,
     "start_time": "2022-12-12T06:42:51.576389",
     "status": "completed"
    },
    "tags": []
   },
   "source": [
    "### Determine run parameters"
   ]
  },
  {
   "cell_type": "code",
   "execution_count": 1,
   "id": "ea3cbd7a",
   "metadata": {
    "execution": {
     "iopub.execute_input": "2022-12-12T06:42:51.585846Z",
     "iopub.status.busy": "2022-12-12T06:42:51.584991Z",
     "iopub.status.idle": "2022-12-12T06:42:51.594264Z",
     "shell.execute_reply": "2022-12-12T06:42:51.592897Z"
    },
    "lines_to_next_cell": 0,
    "papermill": {
     "duration": 0.015604,
     "end_time": "2022-12-12T06:42:51.596425",
     "exception": false,
     "start_time": "2022-12-12T06:42:51.580821",
     "status": "completed"
    },
    "tags": []
   },
   "outputs": [],
   "source": [
    "# ----------------- Parameters for interactive development --------------\n",
    "P = {\n",
    "    \"pipeline.run_environment\": \"dev\",\n",
    "    \"pipeline.data_lake_root\": \"/pipeline-outputs/data-lake\",\n",
    "    \"run.retry_nr\": \"1\",\n",
    "}"
   ]
  },
  {
   "cell_type": "code",
   "execution_count": 2,
   "id": "70250a8b",
   "metadata": {
    "execution": {
     "iopub.execute_input": "2022-12-12T06:42:51.604996Z",
     "iopub.status.busy": "2022-12-12T06:42:51.604766Z",
     "iopub.status.idle": "2022-12-12T06:42:51.607659Z",
     "shell.execute_reply": "2022-12-12T06:42:51.607144Z"
    },
    "lines_to_next_cell": 0,
    "papermill": {
     "duration": 0.00919,
     "end_time": "2022-12-12T06:42:51.610160",
     "exception": false,
     "start_time": "2022-12-12T06:42:51.600970",
     "status": "completed"
    },
    "tags": [
     "parameters"
    ]
   },
   "outputs": [],
   "source": [
    "# - During automated runs parameters will be injected in the below cell -"
   ]
  },
  {
   "cell_type": "code",
   "execution_count": 3,
   "id": "8963f16e",
   "metadata": {
    "execution": {
     "iopub.execute_input": "2022-12-12T06:42:51.616283Z",
     "iopub.status.busy": "2022-12-12T06:42:51.616058Z",
     "iopub.status.idle": "2022-12-12T06:42:51.620409Z",
     "shell.execute_reply": "2022-12-12T06:42:51.619886Z"
    },
    "papermill": {
     "duration": 0.010483,
     "end_time": "2022-12-12T06:42:51.622958",
     "exception": false,
     "start_time": "2022-12-12T06:42:51.612475",
     "status": "completed"
    },
    "tags": [
     "injected-parameters"
    ]
   },
   "outputs": [],
   "source": [
    "# Parameters\n",
    "P = {\n",
    "    \"pipeline.data_lake_root\": \"/pipeline-outputs/data-lake\",\n",
    "    \"pipeline.run_environment\": \"ci\",\n",
    "    \"pipeline.pipeline_run_id\": \"6b58dea2-806c-44a2-9f3f-0209f67d6272\",\n",
    "    \"pipeline.github.repository\": \"matiasdahl/dev-mnist-digits-demo-pipeline\",\n",
    "    \"pipeline.github.workflow\": \"Run automated tests, pipeline and deploy results to static reporting site\",\n",
    "    \"pipeline.github.runner_name\": \"Hosted Agent\",\n",
    "    \"pipeline.github.run_id\": \"3673319405\",\n",
    "    \"pipeline.github.actor\": \"matiasdahl\",\n",
    "    \"pipeline.github.job\": \"run-tests-pipeline-and-persist-pipeline-outputs\",\n",
    "    \"pipeline.github.base_ref\": \"\",\n",
    "    \"pipeline.github.head_ref\": \"\",\n",
    "    \"pipeline.github.sha\": \"ace0d01011d5e914f1921450dd5a59c11367b38d\",\n",
    "    \"pipeline.github.ref\": \"refs/heads/development\",\n",
    "    \"pipeline.github.ref_type\": \"branch\",\n",
    "    \"pipeline.github.ref_name\": \"development\",\n",
    "    \"pipeline.github.event_name\": \"schedule\",\n",
    "    \"task.notebook\": \"notebooks/ingest.py\",\n",
    "    \"task.max_nr_retries\": \"15\",\n",
    "    \"run.retry_nr\": \"10\",\n",
    "    \"task.timeout_s\": \"10\",\n",
    "    \"task.num_cpus\": 1,\n",
    "    \"_opentelemetry_traceparent\": \"00-81120cfa575541747c90cc1ec8bd1d4e-f19492543059db31-01\",\n",
    "}\n"
   ]
  },
  {
   "cell_type": "code",
   "execution_count": 4,
   "id": "8164a974",
   "metadata": {
    "execution": {
     "iopub.execute_input": "2022-12-12T06:42:51.629045Z",
     "iopub.status.busy": "2022-12-12T06:42:51.628829Z",
     "iopub.status.idle": "2022-12-12T06:42:51.631563Z",
     "shell.execute_reply": "2022-12-12T06:42:51.631056Z"
    },
    "lines_to_next_cell": 0,
    "papermill": {
     "duration": 0.008536,
     "end_time": "2022-12-12T06:42:51.634459",
     "exception": false,
     "start_time": "2022-12-12T06:42:51.625923",
     "status": "completed"
    },
    "tags": []
   },
   "outputs": [],
   "source": [
    "# -----------------------------------------------------------------------"
   ]
  },
  {
   "cell_type": "markdown",
   "id": "5cfeceda",
   "metadata": {
    "lines_to_next_cell": 2,
    "papermill": {
     "duration": 0.002251,
     "end_time": "2022-12-12T06:42:51.638957",
     "exception": false,
     "start_time": "2022-12-12T06:42:51.636706",
     "status": "completed"
    },
    "tags": []
   },
   "source": [
    "---"
   ]
  },
  {
   "cell_type": "markdown",
   "id": "0f88a467",
   "metadata": {
    "papermill": {
     "duration": 0.002234,
     "end_time": "2022-12-12T06:42:51.643557",
     "exception": false,
     "start_time": "2022-12-12T06:42:51.641323",
     "status": "completed"
    },
    "tags": []
   },
   "source": [
    "### Simulate different types of failures (for testing timeout and retry logic)"
   ]
  },
  {
   "cell_type": "code",
   "execution_count": 5,
   "id": "5dbca803",
   "metadata": {
    "execution": {
     "iopub.execute_input": "2022-12-12T06:42:51.649632Z",
     "iopub.status.busy": "2022-12-12T06:42:51.649404Z",
     "iopub.status.idle": "2022-12-12T06:42:52.161440Z",
     "shell.execute_reply": "2022-12-12T06:42:52.160528Z"
    },
    "papermill": {
     "duration": 0.517926,
     "end_time": "2022-12-12T06:42:52.164312",
     "exception": false,
     "start_time": "2022-12-12T06:42:51.646386",
     "status": "completed"
    },
    "tags": []
   },
   "outputs": [
    {
     "name": "stderr",
     "output_type": "stream",
     "text": [
      "2022-12-12 06:42:51,990\tINFO worker.py:842 -- Connecting to existing Ray cluster at address: 172.17.0.2:6379\n"
     ]
    }
   ],
   "source": [
    "from pynb_dag_runner.tasks.task_opentelemetry_logging import PydarLogger\n",
    "\n",
    "logger = PydarLogger(P)"
   ]
  },
  {
   "cell_type": "code",
   "execution_count": 6,
   "id": "91118cdb",
   "metadata": {
    "execution": {
     "iopub.execute_input": "2022-12-12T06:42:52.173351Z",
     "iopub.status.busy": "2022-12-12T06:42:52.172857Z",
     "iopub.status.idle": "2022-12-12T06:42:52.178354Z",
     "shell.execute_reply": "2022-12-12T06:42:52.177644Z"
    },
    "papermill": {
     "duration": 0.013357,
     "end_time": "2022-12-12T06:42:52.182329",
     "exception": false,
     "start_time": "2022-12-12T06:42:52.168972",
     "status": "completed"
    },
    "tags": []
   },
   "outputs": [],
   "source": [
    "import time, random\n",
    "\n",
    "\n",
    "def maybe_crash(retry_nr: int, run_environment: str):\n",
    "    if retry_nr == 2 and run_environment == \"ci\":\n",
    "        time.sleep(1e6)\n",
    "\n",
    "    max_retry_nr: int = 3 if run_environment == \"dev\" else 10\n",
    "\n",
    "    if retry_nr < max_retry_nr:\n",
    "        if random.random() < 0.1:\n",
    "            time.sleep(1e6)\n",
    "        else:\n",
    "            raise Exception(\"Simulated exception failure from ingestion step notebook!\")\n",
    "\n",
    "\n",
    "maybe_crash(\n",
    "    retry_nr=int(P[\"run.retry_nr\"]), run_environment=P[\"pipeline.run_environment\"]\n",
    ")"
   ]
  },
  {
   "cell_type": "markdown",
   "id": "f17363ec",
   "metadata": {
    "lines_to_next_cell": 2,
    "papermill": {
     "duration": 0.002523,
     "end_time": "2022-12-12T06:42:52.187283",
     "exception": false,
     "start_time": "2022-12-12T06:42:52.184760",
     "status": "completed"
    },
    "tags": []
   },
   "source": [
    "### Notebook code"
   ]
  },
  {
   "cell_type": "code",
   "execution_count": 7,
   "id": "361190a0",
   "metadata": {
    "execution": {
     "iopub.execute_input": "2022-12-12T06:42:52.193690Z",
     "iopub.status.busy": "2022-12-12T06:42:52.193431Z",
     "iopub.status.idle": "2022-12-12T06:42:53.539658Z",
     "shell.execute_reply": "2022-12-12T06:42:53.538492Z"
    },
    "papermill": {
     "duration": 1.351874,
     "end_time": "2022-12-12T06:42:53.541893",
     "exception": false,
     "start_time": "2022-12-12T06:42:52.190019",
     "status": "completed"
    },
    "tags": []
   },
   "outputs": [
    {
     "name": "stderr",
     "output_type": "stream",
     "text": [
      "2022-12-12 06:42:52,642\tWARNING worker.py:1245 -- (ip=172.17.0.2) The agent on node 30128d5c45b4 failed to be restarted 5 times. There are 3 possible problems if you see this error.\n",
      "  1. The dashboard might not display correct information on this node.\n",
      "  2. Metrics on this node won't be reported.\n",
      "  3. runtime_env APIs won't work.\n",
      "Check out the `dashboard_agent.log` to see the detailed failure messages.\n"
     ]
    }
   ],
   "source": [
    "from sklearn import datasets\n",
    "\n",
    "#\n",
    "from common.io import datalake_root, write_numpy"
   ]
  },
  {
   "cell_type": "code",
   "execution_count": 8,
   "id": "549220e9",
   "metadata": {
    "execution": {
     "iopub.execute_input": "2022-12-12T06:42:53.549121Z",
     "iopub.status.busy": "2022-12-12T06:42:53.548575Z",
     "iopub.status.idle": "2022-12-12T06:42:53.562805Z",
     "shell.execute_reply": "2022-12-12T06:42:53.562124Z"
    },
    "lines_to_next_cell": 2,
    "papermill": {
     "duration": 0.019611,
     "end_time": "2022-12-12T06:42:53.564362",
     "exception": false,
     "start_time": "2022-12-12T06:42:53.544751",
     "status": "completed"
    },
    "tags": []
   },
   "outputs": [],
   "source": [
    "digits = datasets.load_digits()\n",
    "\n",
    "X = digits[\"data\"]\n",
    "y = digits[\"target\"]"
   ]
  },
  {
   "cell_type": "code",
   "execution_count": 9,
   "id": "82d8dc7c",
   "metadata": {
    "execution": {
     "iopub.execute_input": "2022-12-12T06:42:53.571371Z",
     "iopub.status.busy": "2022-12-12T06:42:53.570943Z",
     "iopub.status.idle": "2022-12-12T06:42:53.582006Z",
     "shell.execute_reply": "2022-12-12T06:42:53.581326Z"
    },
    "papermill": {
     "duration": 0.017162,
     "end_time": "2022-12-12T06:42:53.584247",
     "exception": false,
     "start_time": "2022-12-12T06:42:53.567085",
     "status": "completed"
    },
    "tags": []
   },
   "outputs": [
    {
     "name": "stdout",
     "output_type": "stream",
     "text": [
      " - Logging data_shape (json) : [1797, 64]\n",
      " - Logging target_shape (json) : [1797]\n"
     ]
    },
    {
     "data": {
      "text/plain": [
       "((1797, 64), (1797,))"
      ]
     },
     "execution_count": 9,
     "metadata": {},
     "output_type": "execute_result"
    }
   ],
   "source": [
    "logger.log_value(\"data_shape\", list(X.shape))\n",
    "logger.log_value(\"target_shape\", list(y.shape))\n",
    "\n",
    "X.shape, y.shape"
   ]
  },
  {
   "cell_type": "code",
   "execution_count": 10,
   "id": "bcde883b",
   "metadata": {
    "execution": {
     "iopub.execute_input": "2022-12-12T06:42:53.591395Z",
     "iopub.status.busy": "2022-12-12T06:42:53.590996Z",
     "iopub.status.idle": "2022-12-12T06:42:53.599541Z",
     "shell.execute_reply": "2022-12-12T06:42:53.598929Z"
    },
    "papermill": {
     "duration": 0.013743,
     "end_time": "2022-12-12T06:42:53.601087",
     "exception": false,
     "start_time": "2022-12-12T06:42:53.587344",
     "status": "completed"
    },
    "tags": []
   },
   "outputs": [],
   "source": [
    "write_numpy(datalake_root(P) / \"raw\" / \"digits.numpy\", X)\n",
    "write_numpy(datalake_root(P) / \"raw\" / \"labels.numpy\", y)"
   ]
  },
  {
   "cell_type": "code",
   "execution_count": null,
   "id": "195d9b3f",
   "metadata": {
    "papermill": {
     "duration": 0.002773,
     "end_time": "2022-12-12T06:42:53.606717",
     "exception": false,
     "start_time": "2022-12-12T06:42:53.603944",
     "status": "completed"
    },
    "tags": []
   },
   "outputs": [],
   "source": []
  }
 ],
 "metadata": {
  "jupytext": {
   "cell_metadata_filter": "tags,-all",
   "main_language": "python",
   "notebook_metadata_filter": "-all"
  },
  "language_info": {
   "codemirror_mode": {
    "name": "ipython",
    "version": 3
   },
   "file_extension": ".py",
   "mimetype": "text/x-python",
   "name": "python",
   "nbconvert_exporter": "python",
   "pygments_lexer": "ipython3",
   "version": "3.8.10"
  },
  "papermill": {
   "default_parameters": {},
   "duration": 4.355594,
   "end_time": "2022-12-12T06:42:54.629167",
   "environment_variables": {},
   "exception": null,
   "input_path": "/home/host_user/workspace/mnist-demo-pipeline/mnist-demo-pipeline/notebooks/temp-notebook-doh23fy4.ipynb",
   "output_path": "notebooks/ingest.ipynb",
   "parameters": {
    "P": {
     "_opentelemetry_traceparent": "00-81120cfa575541747c90cc1ec8bd1d4e-f19492543059db31-01",
     "pipeline.data_lake_root": "/pipeline-outputs/data-lake",
     "pipeline.github.actor": "matiasdahl",
     "pipeline.github.base_ref": "",
     "pipeline.github.event_name": "schedule",
     "pipeline.github.head_ref": "",
     "pipeline.github.job": "run-tests-pipeline-and-persist-pipeline-outputs",
     "pipeline.github.ref": "refs/heads/development",
     "pipeline.github.ref_name": "development",
     "pipeline.github.ref_type": "branch",
     "pipeline.github.repository": "matiasdahl/dev-mnist-digits-demo-pipeline",
     "pipeline.github.run_id": "3673319405",
     "pipeline.github.runner_name": "Hosted Agent",
     "pipeline.github.sha": "ace0d01011d5e914f1921450dd5a59c11367b38d",
     "pipeline.github.workflow": "Run automated tests, pipeline and deploy results to static reporting site",
     "pipeline.pipeline_run_id": "6b58dea2-806c-44a2-9f3f-0209f67d6272",
     "pipeline.run_environment": "ci",
     "run.retry_nr": "10",
     "task.max_nr_retries": "15",
     "task.notebook": "notebooks/ingest.py",
     "task.num_cpus": 1,
     "task.timeout_s": "10"
    }
   },
   "start_time": "2022-12-12T06:42:50.273573",
   "version": "2.3.3"
  }
 },
 "nbformat": 4,
 "nbformat_minor": 5
}