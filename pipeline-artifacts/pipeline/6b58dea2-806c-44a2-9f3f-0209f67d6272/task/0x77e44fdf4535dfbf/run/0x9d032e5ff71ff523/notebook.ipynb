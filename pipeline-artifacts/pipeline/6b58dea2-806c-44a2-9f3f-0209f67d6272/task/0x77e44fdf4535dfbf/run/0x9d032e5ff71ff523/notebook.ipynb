{
 "cells": [
  {
   "cell_type": "markdown",
   "id": "76fbee5b",
   "metadata": {
    "papermill": {
     "duration": 0.00455,
     "end_time": "2022-12-12T06:42:57.500837",
     "exception": false,
     "start_time": "2022-12-12T06:42:57.496287",
     "status": "completed"
    },
    "tags": []
   },
   "source": [
    "# Split digits and labels into separate training and testing data sets"
   ]
  },
  {
   "cell_type": "markdown",
   "id": "40f9914a",
   "metadata": {
    "papermill": {
     "duration": 0.002339,
     "end_time": "2022-12-12T06:42:57.506479",
     "exception": false,
     "start_time": "2022-12-12T06:42:57.504140",
     "status": "completed"
    },
    "tags": []
   },
   "source": [
    "### Determine run parameters"
   ]
  },
  {
   "cell_type": "code",
   "execution_count": 1,
   "id": "ecc98b8d",
   "metadata": {
    "execution": {
     "iopub.execute_input": "2022-12-12T06:42:57.513377Z",
     "iopub.status.busy": "2022-12-12T06:42:57.513065Z",
     "iopub.status.idle": "2022-12-12T06:42:57.526686Z",
     "shell.execute_reply": "2022-12-12T06:42:57.526079Z"
    },
    "lines_to_next_cell": 0,
    "papermill": {
     "duration": 0.020898,
     "end_time": "2022-12-12T06:42:57.529600",
     "exception": false,
     "start_time": "2022-12-12T06:42:57.508702",
     "status": "completed"
    },
    "tags": []
   },
   "outputs": [],
   "source": [
    "# ----------------- Parameters for interactive development --------------\n",
    "P = {\n",
    "    \"pipeline.data_lake_root\": \"/pipeline-outputs/data-lake\",\n",
    "    \"task.train_test_ratio\": 0.7,\n",
    "}"
   ]
  },
  {
   "cell_type": "code",
   "execution_count": 2,
   "id": "3ce4e42f",
   "metadata": {
    "execution": {
     "iopub.execute_input": "2022-12-12T06:42:57.536685Z",
     "iopub.status.busy": "2022-12-12T06:42:57.536434Z",
     "iopub.status.idle": "2022-12-12T06:42:57.539784Z",
     "shell.execute_reply": "2022-12-12T06:42:57.538786Z"
    },
    "lines_to_next_cell": 0,
    "papermill": {
     "duration": 0.010046,
     "end_time": "2022-12-12T06:42:57.543072",
     "exception": false,
     "start_time": "2022-12-12T06:42:57.533026",
     "status": "completed"
    },
    "tags": [
     "parameters"
    ]
   },
   "outputs": [],
   "source": [
    "# - During automated runs parameters will be injected in the below cell -"
   ]
  },
  {
   "cell_type": "code",
   "execution_count": 3,
   "id": "29ed053c",
   "metadata": {
    "execution": {
     "iopub.execute_input": "2022-12-12T06:42:57.548997Z",
     "iopub.status.busy": "2022-12-12T06:42:57.548772Z",
     "iopub.status.idle": "2022-12-12T06:42:57.554541Z",
     "shell.execute_reply": "2022-12-12T06:42:57.553950Z"
    },
    "papermill": {
     "duration": 0.011854,
     "end_time": "2022-12-12T06:42:57.557112",
     "exception": false,
     "start_time": "2022-12-12T06:42:57.545258",
     "status": "completed"
    },
    "tags": [
     "injected-parameters"
    ]
   },
   "outputs": [],
   "source": [
    "# Parameters\n",
    "P = {\n",
    "    \"pipeline.data_lake_root\": \"/pipeline-outputs/data-lake\",\n",
    "    \"pipeline.run_environment\": \"ci\",\n",
    "    \"pipeline.pipeline_run_id\": \"6b58dea2-806c-44a2-9f3f-0209f67d6272\",\n",
    "    \"pipeline.github.repository\": \"matiasdahl/dev-mnist-digits-demo-pipeline\",\n",
    "    \"pipeline.github.workflow\": \"Run automated tests, pipeline and deploy results to static reporting site\",\n",
    "    \"pipeline.github.runner_name\": \"Hosted Agent\",\n",
    "    \"pipeline.github.run_id\": \"3673319405\",\n",
    "    \"pipeline.github.actor\": \"matiasdahl\",\n",
    "    \"pipeline.github.job\": \"run-tests-pipeline-and-persist-pipeline-outputs\",\n",
    "    \"pipeline.github.base_ref\": \"\",\n",
    "    \"pipeline.github.head_ref\": \"\",\n",
    "    \"pipeline.github.sha\": \"ace0d01011d5e914f1921450dd5a59c11367b38d\",\n",
    "    \"pipeline.github.ref\": \"refs/heads/development\",\n",
    "    \"pipeline.github.ref_type\": \"branch\",\n",
    "    \"pipeline.github.ref_name\": \"development\",\n",
    "    \"pipeline.github.event_name\": \"schedule\",\n",
    "    \"task.train_test_ratio\": 0.7,\n",
    "    \"task.notebook\": \"notebooks/split-train-test.py\",\n",
    "    \"task.max_nr_retries\": \"1\",\n",
    "    \"run.retry_nr\": \"0\",\n",
    "    \"task.timeout_s\": \"None\",\n",
    "    \"task.num_cpus\": 1,\n",
    "    \"_opentelemetry_traceparent\": \"00-81120cfa575541747c90cc1ec8bd1d4e-a97828240a1bd563-01\",\n",
    "}\n"
   ]
  },
  {
   "cell_type": "code",
   "execution_count": 4,
   "id": "c97c6ef6",
   "metadata": {
    "execution": {
     "iopub.execute_input": "2022-12-12T06:42:57.563849Z",
     "iopub.status.busy": "2022-12-12T06:42:57.563637Z",
     "iopub.status.idle": "2022-12-12T06:42:57.566540Z",
     "shell.execute_reply": "2022-12-12T06:42:57.565720Z"
    },
    "lines_to_next_cell": 0,
    "papermill": {
     "duration": 0.00968,
     "end_time": "2022-12-12T06:42:57.569212",
     "exception": false,
     "start_time": "2022-12-12T06:42:57.559532",
     "status": "completed"
    },
    "tags": []
   },
   "outputs": [],
   "source": [
    "# -----------------------------------------------------------------------"
   ]
  },
  {
   "cell_type": "markdown",
   "id": "aa37f9fa",
   "metadata": {
    "papermill": {
     "duration": 0.002535,
     "end_time": "2022-12-12T06:42:57.574646",
     "exception": false,
     "start_time": "2022-12-12T06:42:57.572111",
     "status": "completed"
    },
    "tags": []
   },
   "source": [
    "---"
   ]
  },
  {
   "cell_type": "markdown",
   "id": "323a61ba",
   "metadata": {
    "lines_to_next_cell": 2,
    "papermill": {
     "duration": 0.002268,
     "end_time": "2022-12-12T06:42:57.579335",
     "exception": false,
     "start_time": "2022-12-12T06:42:57.577067",
     "status": "completed"
    },
    "tags": []
   },
   "source": [
    "### Notebook code"
   ]
  },
  {
   "cell_type": "code",
   "execution_count": 5,
   "id": "0ceda202",
   "metadata": {
    "execution": {
     "iopub.execute_input": "2022-12-12T06:42:57.587658Z",
     "iopub.status.busy": "2022-12-12T06:42:57.587443Z",
     "iopub.status.idle": "2022-12-12T06:42:58.129075Z",
     "shell.execute_reply": "2022-12-12T06:42:58.128432Z"
    },
    "papermill": {
     "duration": 0.54708,
     "end_time": "2022-12-12T06:42:58.131086",
     "exception": false,
     "start_time": "2022-12-12T06:42:57.584006",
     "status": "completed"
    },
    "tags": []
   },
   "outputs": [
    {
     "name": "stderr",
     "output_type": "stream",
     "text": [
      "2022-12-12 06:42:57,962\tINFO worker.py:842 -- Connecting to existing Ray cluster at address: 172.17.0.2:6379\n"
     ]
    }
   ],
   "source": [
    "from common.io import datalake_root, read_numpy, write_numpy\n",
    "from pynb_dag_runner.tasks.task_opentelemetry_logging import PydarLogger\n",
    "\n",
    "logger = PydarLogger(P)"
   ]
  },
  {
   "cell_type": "markdown",
   "id": "66ef06e8",
   "metadata": {
    "papermill": {
     "duration": 0.00256,
     "end_time": "2022-12-12T06:42:58.138314",
     "exception": false,
     "start_time": "2022-12-12T06:42:58.135754",
     "status": "completed"
    },
    "tags": []
   },
   "source": [
    "## Load and split digits data"
   ]
  },
  {
   "cell_type": "code",
   "execution_count": 6,
   "id": "e9bdd274",
   "metadata": {
    "execution": {
     "iopub.execute_input": "2022-12-12T06:42:58.145294Z",
     "iopub.status.busy": "2022-12-12T06:42:58.144961Z",
     "iopub.status.idle": "2022-12-12T06:42:58.150484Z",
     "shell.execute_reply": "2022-12-12T06:42:58.149790Z"
    },
    "papermill": {
     "duration": 0.011996,
     "end_time": "2022-12-12T06:42:58.153237",
     "exception": false,
     "start_time": "2022-12-12T06:42:58.141241",
     "status": "completed"
    },
    "tags": []
   },
   "outputs": [],
   "source": [
    "X = read_numpy(datalake_root(P) / \"raw\" / \"digits.numpy\")\n",
    "y = read_numpy(datalake_root(P) / \"raw\" / \"labels.numpy\")"
   ]
  },
  {
   "cell_type": "code",
   "execution_count": 7,
   "id": "e0a8dd50",
   "metadata": {
    "execution": {
     "iopub.execute_input": "2022-12-12T06:42:58.161106Z",
     "iopub.status.busy": "2022-12-12T06:42:58.160845Z",
     "iopub.status.idle": "2022-12-12T06:42:58.664505Z",
     "shell.execute_reply": "2022-12-12T06:42:58.663877Z"
    },
    "papermill": {
     "duration": 0.511925,
     "end_time": "2022-12-12T06:42:58.668042",
     "exception": false,
     "start_time": "2022-12-12T06:42:58.156117",
     "status": "completed"
    },
    "tags": []
   },
   "outputs": [],
   "source": [
    "from sklearn.model_selection import train_test_split\n",
    "\n",
    "X_train, X_test, y_train, y_test = train_test_split(\n",
    "    X,\n",
    "    y,\n",
    "    train_size=P[\"task.train_test_ratio\"],\n",
    "    test_size=None,\n",
    "    stratify=y,\n",
    "    shuffle=True,\n",
    "    random_state=1,\n",
    ")\n",
    "\n",
    "# assert nr of pixels per image is the same for all image vectors\n",
    "assert X.shape[1] == X_train.shape[1] == X_test.shape[1]\n",
    "\n",
    "# assert that the (X, y)-pairs have compatible sizes (for both train and test)\n",
    "assert X_train.shape[0] == len(y_train)\n",
    "assert X_test.shape[0] == len(y_test)\n",
    "\n",
    "# assert that all data is used\n",
    "assert len(y) == len(y_train) + len(y_test)"
   ]
  },
  {
   "cell_type": "code",
   "execution_count": 8,
   "id": "27753c0c",
   "metadata": {
    "execution": {
     "iopub.execute_input": "2022-12-12T06:42:58.676330Z",
     "iopub.status.busy": "2022-12-12T06:42:58.675844Z",
     "iopub.status.idle": "2022-12-12T06:42:58.684577Z",
     "shell.execute_reply": "2022-12-12T06:42:58.684059Z"
    },
    "papermill": {
     "duration": 0.014589,
     "end_time": "2022-12-12T06:42:58.686307",
     "exception": false,
     "start_time": "2022-12-12T06:42:58.671718",
     "status": "completed"
    },
    "tags": []
   },
   "outputs": [
    {
     "name": "stdout",
     "output_type": "stream",
     "text": [
      " - Logging nr_digits_train (int) : 1257\n",
      " - Logging nr_digits_test (int) : 540\n"
     ]
    }
   ],
   "source": [
    "logger.log_int(\"nr_digits_train\", len(y_train))\n",
    "logger.log_int(\"nr_digits_test\", len(y_test))"
   ]
  },
  {
   "cell_type": "markdown",
   "id": "c933bd8f",
   "metadata": {
    "papermill": {
     "duration": 0.002671,
     "end_time": "2022-12-12T06:42:58.692757",
     "exception": false,
     "start_time": "2022-12-12T06:42:58.690086",
     "status": "completed"
    },
    "tags": []
   },
   "source": [
    "### Persist training and test data sets to separate files"
   ]
  },
  {
   "cell_type": "code",
   "execution_count": 9,
   "id": "00db056a",
   "metadata": {
    "execution": {
     "iopub.execute_input": "2022-12-12T06:42:58.699473Z",
     "iopub.status.busy": "2022-12-12T06:42:58.699226Z",
     "iopub.status.idle": "2022-12-12T06:42:58.705269Z",
     "shell.execute_reply": "2022-12-12T06:42:58.704687Z"
    },
    "papermill": {
     "duration": 0.013523,
     "end_time": "2022-12-12T06:42:58.708831",
     "exception": false,
     "start_time": "2022-12-12T06:42:58.695308",
     "status": "completed"
    },
    "tags": []
   },
   "outputs": [],
   "source": [
    "write_numpy(datalake_root(P) / \"train-data\" / \"digits.numpy\", X_train)\n",
    "write_numpy(datalake_root(P) / \"train-data\" / \"labels.numpy\", y_train)\n",
    "\n",
    "#\n",
    "write_numpy(datalake_root(P) / \"test-data\" / \"digits.numpy\", X_test)\n",
    "write_numpy(datalake_root(P) / \"test-data\" / \"labels.numpy\", y_test)"
   ]
  },
  {
   "cell_type": "code",
   "execution_count": null,
   "id": "ce95e6fc",
   "metadata": {
    "papermill": {
     "duration": 0.003087,
     "end_time": "2022-12-12T06:42:58.714753",
     "exception": false,
     "start_time": "2022-12-12T06:42:58.711666",
     "status": "completed"
    },
    "tags": []
   },
   "outputs": [],
   "source": []
  }
 ],
 "metadata": {
  "jupytext": {
   "cell_metadata_filter": "tags,-all",
   "main_language": "python",
   "notebook_metadata_filter": "-all"
  },
  "language_info": {
   "codemirror_mode": {
    "name": "ipython",
    "version": 3
   },
   "file_extension": ".py",
   "mimetype": "text/x-python",
   "name": "python",
   "nbconvert_exporter": "python",
   "pygments_lexer": "ipython3",
   "version": "3.8.10"
  },
  "papermill": {
   "default_parameters": {},
   "duration": 3.724032,
   "end_time": "2022-12-12T06:42:59.741871",
   "environment_variables": {},
   "exception": null,
   "input_path": "/home/host_user/workspace/mnist-demo-pipeline/mnist-demo-pipeline/notebooks/temp-notebook-1dw65ys0.ipynb",
   "output_path": "notebooks/split-train-test.ipynb",
   "parameters": {
    "P": {
     "_opentelemetry_traceparent": "00-81120cfa575541747c90cc1ec8bd1d4e-a97828240a1bd563-01",
     "pipeline.data_lake_root": "/pipeline-outputs/data-lake",
     "pipeline.github.actor": "matiasdahl",
     "pipeline.github.base_ref": "",
     "pipeline.github.event_name": "schedule",
     "pipeline.github.head_ref": "",
     "pipeline.github.job": "run-tests-pipeline-and-persist-pipeline-outputs",
     "pipeline.github.ref": "refs/heads/development",
     "pipeline.github.ref_name": "development",
     "pipeline.github.ref_type": "branch",
     "pipeline.github.repository": "matiasdahl/dev-mnist-digits-demo-pipeline",
     "pipeline.github.run_id": "3673319405",
     "pipeline.github.runner_name": "Hosted Agent",
     "pipeline.github.sha": "ace0d01011d5e914f1921450dd5a59c11367b38d",
     "pipeline.github.workflow": "Run automated tests, pipeline and deploy results to static reporting site",
     "pipeline.pipeline_run_id": "6b58dea2-806c-44a2-9f3f-0209f67d6272",
     "pipeline.run_environment": "ci",
     "run.retry_nr": "0",
     "task.max_nr_retries": "1",
     "task.notebook": "notebooks/split-train-test.py",
     "task.num_cpus": 1,
     "task.timeout_s": "None",
     "task.train_test_ratio": 0.7
    }
   },
   "start_time": "2022-12-12T06:42:56.017839",
   "version": "2.3.3"
  }
 },
 "nbformat": 4,
 "nbformat_minor": 5
}