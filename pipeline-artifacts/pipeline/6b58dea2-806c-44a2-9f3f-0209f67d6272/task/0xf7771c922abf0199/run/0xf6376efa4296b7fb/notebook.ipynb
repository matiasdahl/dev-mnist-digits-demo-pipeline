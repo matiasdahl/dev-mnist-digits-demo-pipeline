{
 "cells": [
  {
   "cell_type": "markdown",
   "id": "e3094856",
   "metadata": {
    "papermill": {
     "duration": 0.006093,
     "end_time": "2022-12-12T06:43:15.490758",
     "exception": false,
     "start_time": "2022-12-12T06:43:15.484665",
     "status": "completed"
    },
    "tags": []
   },
   "source": [
    "# Benchmark model\n",
    "\n",
    "The purpose of this notebook is to benchmark persisted onnx-model (trained in the\n",
    "previous step) against evaluation set."
   ]
  },
  {
   "cell_type": "markdown",
   "id": "4460c592",
   "metadata": {
    "papermill": {
     "duration": 0.012356,
     "end_time": "2022-12-12T06:43:15.510719",
     "exception": false,
     "start_time": "2022-12-12T06:43:15.498363",
     "status": "completed"
    },
    "tags": []
   },
   "source": [
    "### Determine run parameters"
   ]
  },
  {
   "cell_type": "code",
   "execution_count": 1,
   "id": "04ceed83",
   "metadata": {
    "execution": {
     "iopub.execute_input": "2022-12-12T06:43:15.531599Z",
     "iopub.status.busy": "2022-12-12T06:43:15.531267Z",
     "iopub.status.idle": "2022-12-12T06:43:15.540189Z",
     "shell.execute_reply": "2022-12-12T06:43:15.539434Z"
    },
    "lines_to_next_cell": 0,
    "papermill": {
     "duration": 0.02873,
     "end_time": "2022-12-12T06:43:15.543976",
     "exception": false,
     "start_time": "2022-12-12T06:43:15.515246",
     "status": "completed"
    },
    "tags": []
   },
   "outputs": [],
   "source": [
    "# ----------------- Parameters for interactive development --------------\n",
    "P = {\n",
    "    \"pipeline.data_lake_root\": \"/pipeline-outputs/data-lake\",\n",
    "    \"task.nr_train_images\": 600,\n",
    "}"
   ]
  },
  {
   "cell_type": "code",
   "execution_count": 2,
   "id": "ddad33cb",
   "metadata": {
    "execution": {
     "iopub.execute_input": "2022-12-12T06:43:15.554351Z",
     "iopub.status.busy": "2022-12-12T06:43:15.554096Z",
     "iopub.status.idle": "2022-12-12T06:43:15.558377Z",
     "shell.execute_reply": "2022-12-12T06:43:15.557706Z"
    },
    "lines_to_next_cell": 0,
    "papermill": {
     "duration": 0.012913,
     "end_time": "2022-12-12T06:43:15.561349",
     "exception": false,
     "start_time": "2022-12-12T06:43:15.548436",
     "status": "completed"
    },
    "tags": [
     "parameters"
    ]
   },
   "outputs": [],
   "source": [
    "# - During automated runs parameters will be injected in the below cell -"
   ]
  },
  {
   "cell_type": "code",
   "execution_count": 3,
   "id": "09349705",
   "metadata": {
    "execution": {
     "iopub.execute_input": "2022-12-12T06:43:15.571812Z",
     "iopub.status.busy": "2022-12-12T06:43:15.571569Z",
     "iopub.status.idle": "2022-12-12T06:43:15.576486Z",
     "shell.execute_reply": "2022-12-12T06:43:15.575686Z"
    },
    "papermill": {
     "duration": 0.013988,
     "end_time": "2022-12-12T06:43:15.579232",
     "exception": false,
     "start_time": "2022-12-12T06:43:15.565244",
     "status": "completed"
    },
    "tags": [
     "injected-parameters"
    ]
   },
   "outputs": [],
   "source": [
    "# Parameters\n",
    "P = {\n",
    "    \"pipeline.data_lake_root\": \"/pipeline-outputs/data-lake\",\n",
    "    \"pipeline.run_environment\": \"ci\",\n",
    "    \"pipeline.pipeline_run_id\": \"6b58dea2-806c-44a2-9f3f-0209f67d6272\",\n",
    "    \"pipeline.github.repository\": \"matiasdahl/dev-mnist-digits-demo-pipeline\",\n",
    "    \"pipeline.github.workflow\": \"Run automated tests, pipeline and deploy results to static reporting site\",\n",
    "    \"pipeline.github.runner_name\": \"Hosted Agent\",\n",
    "    \"pipeline.github.run_id\": \"3673319405\",\n",
    "    \"pipeline.github.actor\": \"matiasdahl\",\n",
    "    \"pipeline.github.job\": \"run-tests-pipeline-and-persist-pipeline-outputs\",\n",
    "    \"pipeline.github.base_ref\": \"\",\n",
    "    \"pipeline.github.head_ref\": \"\",\n",
    "    \"pipeline.github.sha\": \"ace0d01011d5e914f1921450dd5a59c11367b38d\",\n",
    "    \"pipeline.github.ref\": \"refs/heads/development\",\n",
    "    \"pipeline.github.ref_type\": \"branch\",\n",
    "    \"pipeline.github.ref_name\": \"development\",\n",
    "    \"pipeline.github.event_name\": \"schedule\",\n",
    "    \"task.nr_train_images\": 1000,\n",
    "    \"task.notebook\": \"notebooks/benchmark-model.py\",\n",
    "    \"task.max_nr_retries\": \"1\",\n",
    "    \"run.retry_nr\": \"0\",\n",
    "    \"task.timeout_s\": \"None\",\n",
    "    \"task.num_cpus\": 1,\n",
    "    \"_opentelemetry_traceparent\": \"00-81120cfa575541747c90cc1ec8bd1d4e-f1f1aa72cc750971-01\",\n",
    "}\n"
   ]
  },
  {
   "cell_type": "code",
   "execution_count": 4,
   "id": "b30057ca",
   "metadata": {
    "execution": {
     "iopub.execute_input": "2022-12-12T06:43:15.589175Z",
     "iopub.status.busy": "2022-12-12T06:43:15.588966Z",
     "iopub.status.idle": "2022-12-12T06:43:15.592330Z",
     "shell.execute_reply": "2022-12-12T06:43:15.591821Z"
    },
    "lines_to_next_cell": 0,
    "papermill": {
     "duration": 0.015614,
     "end_time": "2022-12-12T06:43:15.599308",
     "exception": false,
     "start_time": "2022-12-12T06:43:15.583694",
     "status": "completed"
    },
    "tags": []
   },
   "outputs": [],
   "source": [
    "# -----------------------------------------------------------------------"
   ]
  },
  {
   "cell_type": "markdown",
   "id": "6607ff14",
   "metadata": {
    "papermill": {
     "duration": 0.005128,
     "end_time": "2022-12-12T06:43:15.608976",
     "exception": false,
     "start_time": "2022-12-12T06:43:15.603848",
     "status": "completed"
    },
    "tags": []
   },
   "source": [
    "---"
   ]
  },
  {
   "cell_type": "markdown",
   "id": "1ae943e2",
   "metadata": {
    "lines_to_next_cell": 2,
    "papermill": {
     "duration": 0.004284,
     "end_time": "2022-12-12T06:43:15.617379",
     "exception": false,
     "start_time": "2022-12-12T06:43:15.613095",
     "status": "completed"
    },
    "tags": []
   },
   "source": [
    "### Notebook code"
   ]
  },
  {
   "cell_type": "code",
   "execution_count": 5,
   "id": "1c2eef8e",
   "metadata": {
    "execution": {
     "iopub.execute_input": "2022-12-12T06:43:15.627213Z",
     "iopub.status.busy": "2022-12-12T06:43:15.626928Z",
     "iopub.status.idle": "2022-12-12T06:43:16.870083Z",
     "shell.execute_reply": "2022-12-12T06:43:16.868839Z"
    },
    "papermill": {
     "duration": 1.250642,
     "end_time": "2022-12-12T06:43:16.872630",
     "exception": false,
     "start_time": "2022-12-12T06:43:15.621988",
     "status": "completed"
    },
    "tags": []
   },
   "outputs": [
    {
     "name": "stderr",
     "output_type": "stream",
     "text": [
      "2022-12-12 06:43:16,632\tINFO worker.py:842 -- Connecting to existing Ray cluster at address: 172.17.0.2:6379\n"
     ]
    }
   ],
   "source": [
    "import itertools as it\n",
    "\n",
    "#\n",
    "import numpy as np\n",
    "import matplotlib.pyplot as plt\n",
    "\n",
    "#\n",
    "from pynb_dag_runner.tasks.task_opentelemetry_logging import PydarLogger\n",
    "\n",
    "#\n",
    "from common.io import datalake_root\n",
    "\n",
    "logger = PydarLogger(P)"
   ]
  },
  {
   "cell_type": "markdown",
   "id": "f60b9024",
   "metadata": {
    "papermill": {
     "duration": 0.005351,
     "end_time": "2022-12-12T06:43:16.882681",
     "exception": false,
     "start_time": "2022-12-12T06:43:16.877330",
     "status": "completed"
    },
    "tags": []
   },
   "source": [
    "## Load persisted onnx-model and evaluation data"
   ]
  },
  {
   "cell_type": "code",
   "execution_count": 6,
   "id": "6cee7b2e",
   "metadata": {
    "execution": {
     "iopub.execute_input": "2022-12-12T06:43:16.893917Z",
     "iopub.status.busy": "2022-12-12T06:43:16.893180Z",
     "iopub.status.idle": "2022-12-12T06:43:16.896919Z",
     "shell.execute_reply": "2022-12-12T06:43:16.896403Z"
    },
    "papermill": {
     "duration": 0.011406,
     "end_time": "2022-12-12T06:43:16.898369",
     "exception": false,
     "start_time": "2022-12-12T06:43:16.886963",
     "status": "completed"
    },
    "tags": []
   },
   "outputs": [],
   "source": [
    "from common.io import read_onnx, get_onnx_inputs, get_onnx_outputs, read_numpy"
   ]
  },
  {
   "cell_type": "code",
   "execution_count": 7,
   "id": "35790fac",
   "metadata": {
    "execution": {
     "iopub.execute_input": "2022-12-12T06:43:16.909174Z",
     "iopub.status.busy": "2022-12-12T06:43:16.908717Z",
     "iopub.status.idle": "2022-12-12T06:43:16.918758Z",
     "shell.execute_reply": "2022-12-12T06:43:16.918150Z"
    },
    "lines_to_next_cell": 0,
    "papermill": {
     "duration": 0.018135,
     "end_time": "2022-12-12T06:43:16.921565",
     "exception": false,
     "start_time": "2022-12-12T06:43:16.903430",
     "status": "completed"
    },
    "tags": []
   },
   "outputs": [],
   "source": [
    "onnx_inference_session = read_onnx(\n",
    "    datalake_root(P)\n",
    "    / \"models\"\n",
    "    / f\"nr_train_images={P['task.nr_train_images']}\"\n",
    "    / \"model.onnx\"\n",
    ")"
   ]
  },
  {
   "cell_type": "markdown",
   "id": "f089abc9",
   "metadata": {
    "papermill": {
     "duration": 0.004893,
     "end_time": "2022-12-12T06:43:16.931418",
     "exception": false,
     "start_time": "2022-12-12T06:43:16.926525",
     "status": "completed"
    },
    "tags": []
   },
   "source": [
    "### Record structure of inputs and outputs for ONNX model\n",
    "\n",
    "(this should likely be done in training notebook)"
   ]
  },
  {
   "cell_type": "code",
   "execution_count": 8,
   "id": "239bde7d",
   "metadata": {
    "execution": {
     "iopub.execute_input": "2022-12-12T06:43:16.943083Z",
     "iopub.status.busy": "2022-12-12T06:43:16.942801Z",
     "iopub.status.idle": "2022-12-12T06:43:16.949694Z",
     "shell.execute_reply": "2022-12-12T06:43:16.949169Z"
    },
    "papermill": {
     "duration": 0.014362,
     "end_time": "2022-12-12T06:43:16.951761",
     "exception": false,
     "start_time": "2022-12-12T06:43:16.937399",
     "status": "completed"
    },
    "tags": []
   },
   "outputs": [
    {
     "name": "stdout",
     "output_type": "stream",
     "text": [
      "{\n",
      "  \"inputs\": [\n",
      "    {\n",
      "      \"name\": \"float_input_8x8_image\",\n",
      "      \"shape\": [\n",
      "        null,\n",
      "        64\n",
      "      ],\n",
      "      \"type\": \"tensor(float)\"\n",
      "    }\n",
      "  ],\n",
      "  \"outputs\": [\n",
      "    {\n",
      "      \"name\": \"output_label\",\n",
      "      \"shape\": [\n",
      "        null\n",
      "      ],\n",
      "      \"type\": \"tensor(int64)\"\n",
      "    },\n",
      "    {\n",
      "      \"name\": \"output_probability\",\n",
      "      \"shape\": [],\n",
      "      \"type\": \"seq(map(int64,tensor(float)))\"\n",
      "    }\n",
      "  ]\n",
      "}\n"
     ]
    }
   ],
   "source": [
    "import json\n",
    "\n",
    "onnx_io = json.dumps(\n",
    "    {\n",
    "        \"inputs\": get_onnx_inputs(onnx_inference_session),\n",
    "        \"outputs\": get_onnx_outputs(onnx_inference_session),\n",
    "    },\n",
    "    indent=2,\n",
    ")\n",
    "\n",
    "\n",
    "logger.log_artefact(\"onnx_io_structure.json\", onnx_io)\n",
    "print(onnx_io)"
   ]
  },
  {
   "cell_type": "markdown",
   "id": "210d81b6",
   "metadata": {
    "papermill": {
     "duration": 0.004402,
     "end_time": "2022-12-12T06:43:16.960568",
     "exception": false,
     "start_time": "2022-12-12T06:43:16.956166",
     "status": "completed"
    },
    "tags": []
   },
   "source": [
    "### Evaluate model performance on evaluation data set"
   ]
  },
  {
   "cell_type": "code",
   "execution_count": 9,
   "id": "8151a66d",
   "metadata": {
    "execution": {
     "iopub.execute_input": "2022-12-12T06:43:16.971421Z",
     "iopub.status.busy": "2022-12-12T06:43:16.970910Z",
     "iopub.status.idle": "2022-12-12T06:43:16.975849Z",
     "shell.execute_reply": "2022-12-12T06:43:16.975326Z"
    },
    "papermill": {
     "duration": 0.012244,
     "end_time": "2022-12-12T06:43:16.977470",
     "exception": false,
     "start_time": "2022-12-12T06:43:16.965226",
     "status": "completed"
    },
    "tags": []
   },
   "outputs": [],
   "source": [
    "# load evaluation data\n",
    "X_test = read_numpy(datalake_root(P) / \"test-data\" / \"digits.numpy\")\n",
    "y_test = read_numpy(datalake_root(P) / \"test-data\" / \"labels.numpy\")"
   ]
  },
  {
   "cell_type": "code",
   "execution_count": 10,
   "id": "b814a53f",
   "metadata": {
    "execution": {
     "iopub.execute_input": "2022-12-12T06:43:16.988315Z",
     "iopub.status.busy": "2022-12-12T06:43:16.987574Z",
     "iopub.status.idle": "2022-12-12T06:43:17.001552Z",
     "shell.execute_reply": "2022-12-12T06:43:17.000664Z"
    },
    "papermill": {
     "duration": 0.020682,
     "end_time": "2022-12-12T06:43:17.003162",
     "exception": false,
     "start_time": "2022-12-12T06:43:16.982480",
     "status": "completed"
    },
    "tags": []
   },
   "outputs": [],
   "source": [
    "def get_model_outputs(X, onnx_inference_session):\n",
    "    y_pred_labels, y_pred_map = onnx_inference_session.run(\n",
    "        [\"output_label\", \"output_probability\"],\n",
    "        {\"float_input_8x8_image\": X.astype(np.float32)},\n",
    "    )\n",
    "    y_pred_probs = np.array(\n",
    "        [[probabilities[digit] for digit in range(10)] for probabilities in y_pred_map]\n",
    "    )\n",
    "\n",
    "    assert y_pred_labels.shape == (X.shape[0],)\n",
    "    assert y_pred_probs.shape == (X.shape[0], 10)\n",
    "\n",
    "    return y_pred_labels, y_pred_probs\n",
    "\n",
    "\n",
    "# Note: as shown in the training notebook, the predicted labels and probabilities\n",
    "# computed below need not be compatible.\n",
    "y_pred_labels_test, y_pred_probs_test = get_model_outputs(\n",
    "    X_test, onnx_inference_session\n",
    ")"
   ]
  },
  {
   "cell_type": "markdown",
   "id": "2d63eec2",
   "metadata": {
    "papermill": {
     "duration": 0.004909,
     "end_time": "2022-12-12T06:43:17.013061",
     "exception": false,
     "start_time": "2022-12-12T06:43:17.008152",
     "status": "completed"
    },
    "tags": []
   },
   "source": [
    "### Confusion matrix"
   ]
  },
  {
   "cell_type": "code",
   "execution_count": 11,
   "id": "2576a4a0",
   "metadata": {
    "execution": {
     "iopub.execute_input": "2022-12-12T06:43:17.023528Z",
     "iopub.status.busy": "2022-12-12T06:43:17.023088Z",
     "iopub.status.idle": "2022-12-12T06:43:17.026524Z",
     "shell.execute_reply": "2022-12-12T06:43:17.025991Z"
    },
    "papermill": {
     "duration": 0.010829,
     "end_time": "2022-12-12T06:43:17.028132",
     "exception": false,
     "start_time": "2022-12-12T06:43:17.017303",
     "status": "completed"
    },
    "tags": []
   },
   "outputs": [],
   "source": [
    "# TODO"
   ]
  },
  {
   "cell_type": "markdown",
   "id": "2125c0cd",
   "metadata": {
    "papermill": {
     "duration": 0.004721,
     "end_time": "2022-12-12T06:43:17.037350",
     "exception": false,
     "start_time": "2022-12-12T06:43:17.032629",
     "status": "completed"
    },
    "tags": []
   },
   "source": [
    "### Plot predicted probabilities for each classifier over all evaluation digit images"
   ]
  },
  {
   "cell_type": "code",
   "execution_count": 12,
   "id": "7c4f3a91",
   "metadata": {
    "execution": {
     "iopub.execute_input": "2022-12-12T06:43:17.053294Z",
     "iopub.status.busy": "2022-12-12T06:43:17.052759Z",
     "iopub.status.idle": "2022-12-12T06:43:20.176126Z",
     "shell.execute_reply": "2022-12-12T06:43:20.175197Z"
    },
    "papermill": {
     "duration": 3.132003,
     "end_time": "2022-12-12T06:43:20.177912",
     "exception": false,
     "start_time": "2022-12-12T06:43:17.045909",
     "status": "completed"
    },
    "tags": []
   },
   "outputs": [
    {
     "data": {
      "image/png": "[encoded data removed]",
      "text/plain": [
       "<Figure size 1600x600 with 10 Axes>"
      ]
     },
     "metadata": {},
     "output_type": "display_data"
    }
   ],
   "source": [
    "def plot_per_digit_probabilities(y_pred_probs):\n",
    "    fig, axs = plt.subplots(nrows=2, ncols=5, figsize=(16, 6))\n",
    "\n",
    "    for (r, c), digit, ax in zip(\n",
    "        it.product(range(2), range(5)), range(10), axs.reshape(-1)\n",
    "    ):\n",
    "        ax.hist(y_pred_probs_test[:, digit], bins=20)\n",
    "\n",
    "        ax.set_title(f\"Digit {digit}\")\n",
    "        if r == 1 and c == 2:\n",
    "            ax.set_xlabel(\"probability\", fontsize=16)\n",
    "\n",
    "        if c == 0:\n",
    "            ax.set_ylabel(\"counts\", fontsize=16)\n",
    "        ax.set_yscale(\"log\")\n",
    "\n",
    "    fig.tight_layout()\n",
    "    fig.suptitle(\n",
    "        f\"Distributions of prediction probabilities for each digit \"\n",
    "        f\"(on evaluation data, n={y_pred_probs.shape[0]})\",\n",
    "        fontsize=20,\n",
    "    )\n",
    "    fig.tight_layout()\n",
    "    fig.show()\n",
    "\n",
    "    return fig\n",
    "\n",
    "\n",
    "fig = plot_per_digit_probabilities(y_pred_probs_test)"
   ]
  },
  {
   "cell_type": "markdown",
   "id": "e9893b76",
   "metadata": {
    "papermill": {
     "duration": 0.005233,
     "end_time": "2022-12-12T06:43:20.188868",
     "exception": false,
     "start_time": "2022-12-12T06:43:20.183635",
     "status": "completed"
    },
    "tags": []
   },
   "source": [
    "From the above distributions we see that most digits have clear separation between\n",
    "high and lower probabilities. Morover, in each case there is roughly an order of\n",
    "magnitude more of digits with low probabilities. This is compatible with digits\n",
    "being roughly evenly distributed in the data."
   ]
  },
  {
   "cell_type": "code",
   "execution_count": 13,
   "id": "59fddaac",
   "metadata": {
    "execution": {
     "iopub.execute_input": "2022-12-12T06:43:20.200021Z",
     "iopub.status.busy": "2022-12-12T06:43:20.199740Z",
     "iopub.status.idle": "2022-12-12T06:43:20.670914Z",
     "shell.execute_reply": "2022-12-12T06:43:20.669621Z"
    },
    "papermill": {
     "duration": 0.479525,
     "end_time": "2022-12-12T06:43:20.673337",
     "exception": false,
     "start_time": "2022-12-12T06:43:20.193812",
     "status": "completed"
    },
    "tags": []
   },
   "outputs": [],
   "source": [
    "logger.log_figure(\"per-digit-probabilities.png\", fig)"
   ]
  },
  {
   "cell_type": "markdown",
   "id": "82512916",
   "metadata": {
    "papermill": {
     "duration": 0.004922,
     "end_time": "2022-12-12T06:43:20.683947",
     "exception": false,
     "start_time": "2022-12-12T06:43:20.679025",
     "status": "completed"
    },
    "tags": []
   },
   "source": [
    "### Plot ROC curves for individual one-vs-rest classifiers"
   ]
  },
  {
   "cell_type": "code",
   "execution_count": 14,
   "id": "6cdbfc3d",
   "metadata": {
    "execution": {
     "iopub.execute_input": "2022-12-12T06:43:20.695391Z",
     "iopub.status.busy": "2022-12-12T06:43:20.694963Z",
     "iopub.status.idle": "2022-12-12T06:43:21.669538Z",
     "shell.execute_reply": "2022-12-12T06:43:21.668604Z"
    },
    "papermill": {
     "duration": 0.98248,
     "end_time": "2022-12-12T06:43:21.671482",
     "exception": false,
     "start_time": "2022-12-12T06:43:20.689002",
     "status": "completed"
    },
    "tags": []
   },
   "outputs": [],
   "source": [
    "from sklearn import metrics"
   ]
  },
  {
   "cell_type": "code",
   "execution_count": 15,
   "id": "3590d676",
   "metadata": {
    "execution": {
     "iopub.execute_input": "2022-12-12T06:43:21.684309Z",
     "iopub.status.busy": "2022-12-12T06:43:21.684043Z",
     "iopub.status.idle": "2022-12-12T06:43:22.823845Z",
     "shell.execute_reply": "2022-12-12T06:43:22.822893Z"
    },
    "papermill": {
     "duration": 1.148432,
     "end_time": "2022-12-12T06:43:22.826115",
     "exception": false,
     "start_time": "2022-12-12T06:43:21.677683",
     "status": "completed"
    },
    "tags": []
   },
   "outputs": [
    {
     "data": {
      "image/png": "[encoded data removed]",
      "text/plain": [
       "<Figure size 1600x800 with 10 Axes>"
      ]
     },
     "metadata": {},
     "output_type": "display_data"
    }
   ],
   "source": [
    "def plot_roc_curves(y, y_pred_probs):\n",
    "    # based on example code\n",
    "    # https://scikit-learn.org/stable/auto_examples/model_selection/plot_roc.html\n",
    "\n",
    "    fig, axs = plt.subplots(nrows=2, ncols=5, figsize=(16, 8))\n",
    "\n",
    "    roc_auc_dict = {}\n",
    "\n",
    "    for (r, c), digit, ax in zip(\n",
    "        it.product(range(2), range(5)), range(10), axs.reshape(-1)\n",
    "    ):\n",
    "        fpr, tpr, _ = metrics.roc_curve(y == digit, y_pred_probs[:, digit])\n",
    "        auc = metrics.auc(fpr, tpr)\n",
    "        roc_auc_dict[str(digit)] = auc\n",
    "\n",
    "        ax.plot(fpr, tpr, label=f\"ROC AUC={round(auc, 3)}\")\n",
    "\n",
    "        ax.set_title(f\"\\nDigit {digit}\", fontsize=16)\n",
    "        if r == 1:\n",
    "            ax.set_xlabel(\"FPR\", fontsize=18)\n",
    "\n",
    "        if c == 0:\n",
    "            ax.set_ylabel(\"TPR\", fontsize=18)\n",
    "\n",
    "        ax.set_xlim([-0.05, 1.05])\n",
    "        ax.set_ylim([-0.05, 1.05])\n",
    "        ax.legend(loc=\"lower right\", frameon=False, fontsize=14)\n",
    "\n",
    "    fig.tight_layout()\n",
    "    fig.suptitle(\n",
    "        f\"ROC plots for one-vs-rest performances \"\n",
    "        f\"(on evaluation data, n={y_pred_probs_test.shape[1]}\",\n",
    "        fontsize=22,\n",
    "    )\n",
    "    fig.tight_layout()\n",
    "    fig.show()\n",
    "\n",
    "    return roc_auc_dict, fig\n",
    "\n",
    "\n",
    "roc_auc_dict, fig = plot_roc_curves(y_test, y_pred_probs_test)"
   ]
  },
  {
   "cell_type": "code",
   "execution_count": 16,
   "id": "b806b068",
   "metadata": {
    "execution": {
     "iopub.execute_input": "2022-12-12T06:43:22.850001Z",
     "iopub.status.busy": "2022-12-12T06:43:22.849553Z",
     "iopub.status.idle": "2022-12-12T06:43:23.154643Z",
     "shell.execute_reply": "2022-12-12T06:43:23.153804Z"
    },
    "papermill": {
     "duration": 0.318483,
     "end_time": "2022-12-12T06:43:23.156729",
     "exception": false,
     "start_time": "2022-12-12T06:43:22.838246",
     "status": "completed"
    },
    "tags": []
   },
   "outputs": [],
   "source": [
    "logger.log_figure(\"per-digit-roc-curves.png\", fig)"
   ]
  },
  {
   "cell_type": "code",
   "execution_count": 17,
   "id": "bc5c2073",
   "metadata": {
    "execution": {
     "iopub.execute_input": "2022-12-12T06:43:23.171195Z",
     "iopub.status.busy": "2022-12-12T06:43:23.170879Z",
     "iopub.status.idle": "2022-12-12T06:43:23.176162Z",
     "shell.execute_reply": "2022-12-12T06:43:23.175375Z"
    },
    "papermill": {
     "duration": 0.015833,
     "end_time": "2022-12-12T06:43:23.179298",
     "exception": false,
     "start_time": "2022-12-12T06:43:23.163465",
     "status": "completed"
    },
    "tags": []
   },
   "outputs": [
    {
     "data": {
      "text/plain": [
       "{'0': 1.0,\n",
       " '1': 0.998912839737582,\n",
       " '2': 1.0,\n",
       " '3': 0.9998125585754452,\n",
       " '4': 0.9996570644718793,\n",
       " '5': 0.9994001874414246,\n",
       " '6': 0.999923792104862,\n",
       " '7': 0.9997713763145862,\n",
       " '8': 0.9951529003783102,\n",
       " '9': 0.9996189605243103}"
      ]
     },
     "execution_count": 17,
     "metadata": {},
     "output_type": "execute_result"
    }
   ],
   "source": [
    "roc_auc_dict"
   ]
  },
  {
   "cell_type": "code",
   "execution_count": 18,
   "id": "6cf606c6",
   "metadata": {
    "execution": {
     "iopub.execute_input": "2022-12-12T06:43:23.202055Z",
     "iopub.status.busy": "2022-12-12T06:43:23.201651Z",
     "iopub.status.idle": "2022-12-12T06:43:23.209305Z",
     "shell.execute_reply": "2022-12-12T06:43:23.208224Z"
    },
    "papermill": {
     "duration": 0.025491,
     "end_time": "2022-12-12T06:43:23.211632",
     "exception": false,
     "start_time": "2022-12-12T06:43:23.186141",
     "status": "completed"
    },
    "tags": []
   },
   "outputs": [
    {
     "name": "stdout",
     "output_type": "stream",
     "text": [
      " - Logging roc_auc_per_digit (json) : {'0': 1.0, '1': 0.998912839737582, '2': 1.0, '3': 0.9998125585754452, '4': 0.9996570644718793, '5': 0.9994001874414246, '6': 0.999923792104862, '7': 0.9997713763145862, '8': 0.9951529003783102, '9': 0.9996189605243103}\n"
     ]
    }
   ],
   "source": [
    "logger.log_value(\"roc_auc_per_digit\", roc_auc_dict)"
   ]
  },
  {
   "cell_type": "markdown",
   "id": "b540de11",
   "metadata": {
    "papermill": {
     "duration": 0.006693,
     "end_time": "2022-12-12T06:43:23.225954",
     "exception": false,
     "start_time": "2022-12-12T06:43:23.219261",
     "status": "completed"
    },
    "tags": []
   },
   "source": [
    "### Compute and log mean ROC AUC score averaged over all digits"
   ]
  },
  {
   "cell_type": "code",
   "execution_count": 19,
   "id": "5dab00e9",
   "metadata": {
    "execution": {
     "iopub.execute_input": "2022-12-12T06:43:23.241055Z",
     "iopub.status.busy": "2022-12-12T06:43:23.240689Z",
     "iopub.status.idle": "2022-12-12T06:43:23.255441Z",
     "shell.execute_reply": "2022-12-12T06:43:23.254762Z"
    },
    "papermill": {
     "duration": 0.024471,
     "end_time": "2022-12-12T06:43:23.257035",
     "exception": false,
     "start_time": "2022-12-12T06:43:23.232564",
     "status": "completed"
    },
    "tags": []
   },
   "outputs": [
    {
     "name": "stdout",
     "output_type": "stream",
     "text": [
      " - Logging roc_auc_class_mean (float) : 0.9992249679548401\n"
     ]
    }
   ],
   "source": [
    "roc_auc_macro = np.mean(list(roc_auc_dict.values()))\n",
    "\n",
    "logger.log_float(\"roc_auc_class_mean\", roc_auc_macro)\n",
    "\n",
    "# assert that the same value can be computed directly using sklearn\n",
    "assert roc_auc_macro == metrics.roc_auc_score(\n",
    "    y_test, y_pred_probs_test, average=\"macro\", multi_class=\"ovr\"\n",
    ")"
   ]
  },
  {
   "cell_type": "code",
   "execution_count": 20,
   "id": "8ab16a65",
   "metadata": {
    "execution": {
     "iopub.execute_input": "2022-12-12T06:43:23.272531Z",
     "iopub.status.busy": "2022-12-12T06:43:23.272194Z",
     "iopub.status.idle": "2022-12-12T06:43:23.275430Z",
     "shell.execute_reply": "2022-12-12T06:43:23.274763Z"
    },
    "lines_to_next_cell": 0,
    "papermill": {
     "duration": 0.012873,
     "end_time": "2022-12-12T06:43:23.277460",
     "exception": false,
     "start_time": "2022-12-12T06:43:23.264587",
     "status": "completed"
    },
    "tags": []
   },
   "outputs": [],
   "source": [
    "# ---"
   ]
  },
  {
   "cell_type": "code",
   "execution_count": null,
   "id": "4ba102f8",
   "metadata": {
    "papermill": {
     "duration": 0.007101,
     "end_time": "2022-12-12T06:43:23.291230",
     "exception": false,
     "start_time": "2022-12-12T06:43:23.284129",
     "status": "completed"
    },
    "tags": []
   },
   "outputs": [],
   "source": []
  }
 ],
 "metadata": {
  "jupytext": {
   "cell_metadata_filter": "tags,-all",
   "main_language": "python",
   "notebook_metadata_filter": "-all"
  },
  "language_info": {
   "codemirror_mode": {
    "name": "ipython",
    "version": 3
   },
   "file_extension": ".py",
   "mimetype": "text/x-python",
   "name": "python",
   "nbconvert_exporter": "python",
   "pygments_lexer": "ipython3",
   "version": "3.8.10"
  },
  "papermill": {
   "default_parameters": {},
   "duration": 10.27689,
   "end_time": "2022-12-12T06:43:24.523039",
   "environment_variables": {},
   "exception": null,
   "input_path": "/home/host_user/workspace/mnist-demo-pipeline/mnist-demo-pipeline/notebooks/temp-notebook-_ej5g1hc.ipynb",
   "output_path": "notebooks/benchmark-model.ipynb",
   "parameters": {
    "P": {
     "_opentelemetry_traceparent": "00-81120cfa575541747c90cc1ec8bd1d4e-f1f1aa72cc750971-01",
     "pipeline.data_lake_root": "/pipeline-outputs/data-lake",
     "pipeline.github.actor": "matiasdahl",
     "pipeline.github.base_ref": "",
     "pipeline.github.event_name": "schedule",
     "pipeline.github.head_ref": "",
     "pipeline.github.job": "run-tests-pipeline-and-persist-pipeline-outputs",
     "pipeline.github.ref": "refs/heads/development",
     "pipeline.github.ref_name": "development",
     "pipeline.github.ref_type": "branch",
     "pipeline.github.repository": "matiasdahl/dev-mnist-digits-demo-pipeline",
     "pipeline.github.run_id": "3673319405",
     "pipeline.github.runner_name": "Hosted Agent",
     "pipeline.github.sha": "ace0d01011d5e914f1921450dd5a59c11367b38d",
     "pipeline.github.workflow": "Run automated tests, pipeline and deploy results to static reporting site",
     "pipeline.pipeline_run_id": "6b58dea2-806c-44a2-9f3f-0209f67d6272",
     "pipeline.run_environment": "ci",
     "run.retry_nr": "0",
     "task.max_nr_retries": "1",
     "task.notebook": "notebooks/benchmark-model.py",
     "task.nr_train_images": 1000,
     "task.num_cpus": 1,
     "task.timeout_s": "None"
    }
   },
   "start_time": "2022-12-12T06:43:14.246149",
   "version": "2.3.3"
  }
 },
 "nbformat": 4,
 "nbformat_minor": 5
}