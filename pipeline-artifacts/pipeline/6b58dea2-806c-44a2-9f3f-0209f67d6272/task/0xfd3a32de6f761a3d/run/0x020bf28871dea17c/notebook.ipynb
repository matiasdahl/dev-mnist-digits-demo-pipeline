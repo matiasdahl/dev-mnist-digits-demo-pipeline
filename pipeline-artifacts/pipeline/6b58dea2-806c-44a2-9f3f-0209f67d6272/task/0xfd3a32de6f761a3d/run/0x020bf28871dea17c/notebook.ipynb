{
 "cells": [
  {
   "cell_type": "markdown",
   "id": "28064a41",
   "metadata": {
    "papermill": {
     "duration": 0.006853,
     "end_time": "2022-12-12T06:43:27.304293",
     "exception": false,
     "start_time": "2022-12-12T06:43:27.297440",
     "status": "completed"
    },
    "tags": []
   },
   "source": [
    "# Benchmark model\n",
    "\n",
    "The purpose of this notebook is to benchmark persisted onnx-model (trained in the\n",
    "previous step) against evaluation set."
   ]
  },
  {
   "cell_type": "markdown",
   "id": "3feb76fd",
   "metadata": {
    "papermill": {
     "duration": 0.006364,
     "end_time": "2022-12-12T06:43:27.314824",
     "exception": false,
     "start_time": "2022-12-12T06:43:27.308460",
     "status": "completed"
    },
    "tags": []
   },
   "source": [
    "### Determine run parameters"
   ]
  },
  {
   "cell_type": "code",
   "execution_count": 1,
   "id": "7817f15b",
   "metadata": {
    "execution": {
     "iopub.execute_input": "2022-12-12T06:43:27.325060Z",
     "iopub.status.busy": "2022-12-12T06:43:27.324758Z",
     "iopub.status.idle": "2022-12-12T06:43:27.332774Z",
     "shell.execute_reply": "2022-12-12T06:43:27.332216Z"
    },
    "lines_to_next_cell": 0,
    "papermill": {
     "duration": 0.016531,
     "end_time": "2022-12-12T06:43:27.335189",
     "exception": false,
     "start_time": "2022-12-12T06:43:27.318658",
     "status": "completed"
    },
    "tags": []
   },
   "outputs": [],
   "source": [
    "# ----------------- Parameters for interactive development --------------\n",
    "P = {\n",
    "    \"pipeline.data_lake_root\": \"/pipeline-outputs/data-lake\",\n",
    "    \"task.nr_train_images\": 600,\n",
    "}"
   ]
  },
  {
   "cell_type": "code",
   "execution_count": 2,
   "id": "078f2069",
   "metadata": {
    "execution": {
     "iopub.execute_input": "2022-12-12T06:43:27.344215Z",
     "iopub.status.busy": "2022-12-12T06:43:27.343992Z",
     "iopub.status.idle": "2022-12-12T06:43:27.346826Z",
     "shell.execute_reply": "2022-12-12T06:43:27.346324Z"
    },
    "lines_to_next_cell": 0,
    "papermill": {
     "duration": 0.01035,
     "end_time": "2022-12-12T06:43:27.349323",
     "exception": false,
     "start_time": "2022-12-12T06:43:27.338973",
     "status": "completed"
    },
    "tags": [
     "parameters"
    ]
   },
   "outputs": [],
   "source": [
    "# - During automated runs parameters will be injected in the below cell -"
   ]
  },
  {
   "cell_type": "code",
   "execution_count": 3,
   "id": "43bfcfc5",
   "metadata": {
    "execution": {
     "iopub.execute_input": "2022-12-12T06:43:27.358907Z",
     "iopub.status.busy": "2022-12-12T06:43:27.358712Z",
     "iopub.status.idle": "2022-12-12T06:43:27.364422Z",
     "shell.execute_reply": "2022-12-12T06:43:27.363913Z"
    },
    "papermill": {
     "duration": 0.012986,
     "end_time": "2022-12-12T06:43:27.366919",
     "exception": false,
     "start_time": "2022-12-12T06:43:27.353933",
     "status": "completed"
    },
    "tags": [
     "injected-parameters"
    ]
   },
   "outputs": [],
   "source": [
    "# Parameters\n",
    "P = {\n",
    "    \"pipeline.data_lake_root\": \"/pipeline-outputs/data-lake\",\n",
    "    \"pipeline.run_environment\": \"ci\",\n",
    "    \"pipeline.pipeline_run_id\": \"6b58dea2-806c-44a2-9f3f-0209f67d6272\",\n",
    "    \"pipeline.github.repository\": \"matiasdahl/dev-mnist-digits-demo-pipeline\",\n",
    "    \"pipeline.github.workflow\": \"Run automated tests, pipeline and deploy results to static reporting site\",\n",
    "    \"pipeline.github.runner_name\": \"Hosted Agent\",\n",
    "    \"pipeline.github.run_id\": \"3673319405\",\n",
    "    \"pipeline.github.actor\": \"matiasdahl\",\n",
    "    \"pipeline.github.job\": \"run-tests-pipeline-and-persist-pipeline-outputs\",\n",
    "    \"pipeline.github.base_ref\": \"\",\n",
    "    \"pipeline.github.head_ref\": \"\",\n",
    "    \"pipeline.github.sha\": \"ace0d01011d5e914f1921450dd5a59c11367b38d\",\n",
    "    \"pipeline.github.ref\": \"refs/heads/development\",\n",
    "    \"pipeline.github.ref_type\": \"branch\",\n",
    "    \"pipeline.github.ref_name\": \"development\",\n",
    "    \"pipeline.github.event_name\": \"schedule\",\n",
    "    \"task.nr_train_images\": 800,\n",
    "    \"task.notebook\": \"notebooks/benchmark-model.py\",\n",
    "    \"task.max_nr_retries\": \"1\",\n",
    "    \"run.retry_nr\": \"0\",\n",
    "    \"task.timeout_s\": \"None\",\n",
    "    \"task.num_cpus\": 1,\n",
    "    \"_opentelemetry_traceparent\": \"00-81120cfa575541747c90cc1ec8bd1d4e-60307f08f744ba2c-01\",\n",
    "}\n"
   ]
  },
  {
   "cell_type": "code",
   "execution_count": 4,
   "id": "1e0950d7",
   "metadata": {
    "execution": {
     "iopub.execute_input": "2022-12-12T06:43:27.376966Z",
     "iopub.status.busy": "2022-12-12T06:43:27.376748Z",
     "iopub.status.idle": "2022-12-12T06:43:27.379437Z",
     "shell.execute_reply": "2022-12-12T06:43:27.378893Z"
    },
    "lines_to_next_cell": 0,
    "papermill": {
     "duration": 0.011209,
     "end_time": "2022-12-12T06:43:27.382941",
     "exception": false,
     "start_time": "2022-12-12T06:43:27.371732",
     "status": "completed"
    },
    "tags": []
   },
   "outputs": [],
   "source": [
    "# -----------------------------------------------------------------------"
   ]
  },
  {
   "cell_type": "markdown",
   "id": "6c97a7f3",
   "metadata": {
    "papermill": {
     "duration": 0.003984,
     "end_time": "2022-12-12T06:43:27.390884",
     "exception": false,
     "start_time": "2022-12-12T06:43:27.386900",
     "status": "completed"
    },
    "tags": []
   },
   "source": [
    "---"
   ]
  },
  {
   "cell_type": "markdown",
   "id": "18fa975d",
   "metadata": {
    "lines_to_next_cell": 2,
    "papermill": {
     "duration": 0.009651,
     "end_time": "2022-12-12T06:43:27.405271",
     "exception": false,
     "start_time": "2022-12-12T06:43:27.395620",
     "status": "completed"
    },
    "tags": []
   },
   "source": [
    "### Notebook code"
   ]
  },
  {
   "cell_type": "code",
   "execution_count": 5,
   "id": "0a60c3da",
   "metadata": {
    "execution": {
     "iopub.execute_input": "2022-12-12T06:43:27.414869Z",
     "iopub.status.busy": "2022-12-12T06:43:27.414627Z",
     "iopub.status.idle": "2022-12-12T06:43:28.674609Z",
     "shell.execute_reply": "2022-12-12T06:43:28.673621Z"
    },
    "papermill": {
     "duration": 1.267479,
     "end_time": "2022-12-12T06:43:28.676724",
     "exception": false,
     "start_time": "2022-12-12T06:43:27.409245",
     "status": "completed"
    },
    "tags": []
   },
   "outputs": [
    {
     "name": "stderr",
     "output_type": "stream",
     "text": [
      "2022-12-12 06:43:28,436\tINFO worker.py:842 -- Connecting to existing Ray cluster at address: 172.17.0.2:6379\n"
     ]
    }
   ],
   "source": [
    "import itertools as it\n",
    "\n",
    "#\n",
    "import numpy as np\n",
    "import matplotlib.pyplot as plt\n",
    "\n",
    "#\n",
    "from pynb_dag_runner.tasks.task_opentelemetry_logging import PydarLogger\n",
    "\n",
    "#\n",
    "from common.io import datalake_root\n",
    "\n",
    "logger = PydarLogger(P)"
   ]
  },
  {
   "cell_type": "markdown",
   "id": "289de82d",
   "metadata": {
    "papermill": {
     "duration": 0.004582,
     "end_time": "2022-12-12T06:43:28.685983",
     "exception": false,
     "start_time": "2022-12-12T06:43:28.681401",
     "status": "completed"
    },
    "tags": []
   },
   "source": [
    "## Load persisted onnx-model and evaluation data"
   ]
  },
  {
   "cell_type": "code",
   "execution_count": 6,
   "id": "f1dbaf23",
   "metadata": {
    "execution": {
     "iopub.execute_input": "2022-12-12T06:43:28.695524Z",
     "iopub.status.busy": "2022-12-12T06:43:28.695147Z",
     "iopub.status.idle": "2022-12-12T06:43:28.698543Z",
     "shell.execute_reply": "2022-12-12T06:43:28.697875Z"
    },
    "papermill": {
     "duration": 0.010364,
     "end_time": "2022-12-12T06:43:28.700343",
     "exception": false,
     "start_time": "2022-12-12T06:43:28.689979",
     "status": "completed"
    },
    "tags": []
   },
   "outputs": [],
   "source": [
    "from common.io import read_onnx, get_onnx_inputs, get_onnx_outputs, read_numpy"
   ]
  },
  {
   "cell_type": "code",
   "execution_count": 7,
   "id": "97fa23bc",
   "metadata": {
    "execution": {
     "iopub.execute_input": "2022-12-12T06:43:28.711021Z",
     "iopub.status.busy": "2022-12-12T06:43:28.710075Z",
     "iopub.status.idle": "2022-12-12T06:43:28.719927Z",
     "shell.execute_reply": "2022-12-12T06:43:28.719174Z"
    },
    "lines_to_next_cell": 0,
    "papermill": {
     "duration": 0.016929,
     "end_time": "2022-12-12T06:43:28.721490",
     "exception": false,
     "start_time": "2022-12-12T06:43:28.704561",
     "status": "completed"
    },
    "tags": []
   },
   "outputs": [],
   "source": [
    "onnx_inference_session = read_onnx(\n",
    "    datalake_root(P)\n",
    "    / \"models\"\n",
    "    / f\"nr_train_images={P['task.nr_train_images']}\"\n",
    "    / \"model.onnx\"\n",
    ")"
   ]
  },
  {
   "cell_type": "markdown",
   "id": "76c5ec3a",
   "metadata": {
    "papermill": {
     "duration": 0.004017,
     "end_time": "2022-12-12T06:43:28.729577",
     "exception": false,
     "start_time": "2022-12-12T06:43:28.725560",
     "status": "completed"
    },
    "tags": []
   },
   "source": [
    "### Record structure of inputs and outputs for ONNX model\n",
    "\n",
    "(this should likely be done in training notebook)"
   ]
  },
  {
   "cell_type": "code",
   "execution_count": 8,
   "id": "ba00f94d",
   "metadata": {
    "execution": {
     "iopub.execute_input": "2022-12-12T06:43:28.739603Z",
     "iopub.status.busy": "2022-12-12T06:43:28.738941Z",
     "iopub.status.idle": "2022-12-12T06:43:28.745205Z",
     "shell.execute_reply": "2022-12-12T06:43:28.744716Z"
    },
    "papermill": {
     "duration": 0.012556,
     "end_time": "2022-12-12T06:43:28.746558",
     "exception": false,
     "start_time": "2022-12-12T06:43:28.734002",
     "status": "completed"
    },
    "tags": []
   },
   "outputs": [
    {
     "name": "stdout",
     "output_type": "stream",
     "text": [
      "{\n",
      "  \"inputs\": [\n",
      "    {\n",
      "      \"name\": \"float_input_8x8_image\",\n",
      "      \"shape\": [\n",
      "        null,\n",
      "        64\n",
      "      ],\n",
      "      \"type\": \"tensor(float)\"\n",
      "    }\n",
      "  ],\n",
      "  \"outputs\": [\n",
      "    {\n",
      "      \"name\": \"output_label\",\n",
      "      \"shape\": [\n",
      "        null\n",
      "      ],\n",
      "      \"type\": \"tensor(int64)\"\n",
      "    },\n",
      "    {\n",
      "      \"name\": \"output_probability\",\n",
      "      \"shape\": [],\n",
      "      \"type\": \"seq(map(int64,tensor(float)))\"\n",
      "    }\n",
      "  ]\n",
      "}\n"
     ]
    }
   ],
   "source": [
    "import json\n",
    "\n",
    "onnx_io = json.dumps(\n",
    "    {\n",
    "        \"inputs\": get_onnx_inputs(onnx_inference_session),\n",
    "        \"outputs\": get_onnx_outputs(onnx_inference_session),\n",
    "    },\n",
    "    indent=2,\n",
    ")\n",
    "\n",
    "\n",
    "logger.log_artefact(\"onnx_io_structure.json\", onnx_io)\n",
    "print(onnx_io)"
   ]
  },
  {
   "cell_type": "markdown",
   "id": "992975d0",
   "metadata": {
    "papermill": {
     "duration": 0.00407,
     "end_time": "2022-12-12T06:43:28.754849",
     "exception": false,
     "start_time": "2022-12-12T06:43:28.750779",
     "status": "completed"
    },
    "tags": []
   },
   "source": [
    "### Evaluate model performance on evaluation data set"
   ]
  },
  {
   "cell_type": "code",
   "execution_count": 9,
   "id": "e29857e3",
   "metadata": {
    "execution": {
     "iopub.execute_input": "2022-12-12T06:43:28.764432Z",
     "iopub.status.busy": "2022-12-12T06:43:28.763909Z",
     "iopub.status.idle": "2022-12-12T06:43:28.768645Z",
     "shell.execute_reply": "2022-12-12T06:43:28.768092Z"
    },
    "papermill": {
     "duration": 0.011311,
     "end_time": "2022-12-12T06:43:28.770278",
     "exception": false,
     "start_time": "2022-12-12T06:43:28.758967",
     "status": "completed"
    },
    "tags": []
   },
   "outputs": [],
   "source": [
    "# load evaluation data\n",
    "X_test = read_numpy(datalake_root(P) / \"test-data\" / \"digits.numpy\")\n",
    "y_test = read_numpy(datalake_root(P) / \"test-data\" / \"labels.numpy\")"
   ]
  },
  {
   "cell_type": "code",
   "execution_count": 10,
   "id": "3cc1bcc3",
   "metadata": {
    "execution": {
     "iopub.execute_input": "2022-12-12T06:43:28.779986Z",
     "iopub.status.busy": "2022-12-12T06:43:28.779535Z",
     "iopub.status.idle": "2022-12-12T06:43:28.793595Z",
     "shell.execute_reply": "2022-12-12T06:43:28.792984Z"
    },
    "papermill": {
     "duration": 0.020752,
     "end_time": "2022-12-12T06:43:28.795277",
     "exception": false,
     "start_time": "2022-12-12T06:43:28.774525",
     "status": "completed"
    },
    "tags": []
   },
   "outputs": [],
   "source": [
    "def get_model_outputs(X, onnx_inference_session):\n",
    "    y_pred_labels, y_pred_map = onnx_inference_session.run(\n",
    "        [\"output_label\", \"output_probability\"],\n",
    "        {\"float_input_8x8_image\": X.astype(np.float32)},\n",
    "    )\n",
    "    y_pred_probs = np.array(\n",
    "        [[probabilities[digit] for digit in range(10)] for probabilities in y_pred_map]\n",
    "    )\n",
    "\n",
    "    assert y_pred_labels.shape == (X.shape[0],)\n",
    "    assert y_pred_probs.shape == (X.shape[0], 10)\n",
    "\n",
    "    return y_pred_labels, y_pred_probs\n",
    "\n",
    "\n",
    "# Note: as shown in the training notebook, the predicted labels and probabilities\n",
    "# computed below need not be compatible.\n",
    "y_pred_labels_test, y_pred_probs_test = get_model_outputs(\n",
    "    X_test, onnx_inference_session\n",
    ")"
   ]
  },
  {
   "cell_type": "markdown",
   "id": "1b33f71f",
   "metadata": {
    "papermill": {
     "duration": 0.004324,
     "end_time": "2022-12-12T06:43:28.804120",
     "exception": false,
     "start_time": "2022-12-12T06:43:28.799796",
     "status": "completed"
    },
    "tags": []
   },
   "source": [
    "### Confusion matrix"
   ]
  },
  {
   "cell_type": "code",
   "execution_count": 11,
   "id": "03853d14",
   "metadata": {
    "execution": {
     "iopub.execute_input": "2022-12-12T06:43:28.813683Z",
     "iopub.status.busy": "2022-12-12T06:43:28.813424Z",
     "iopub.status.idle": "2022-12-12T06:43:28.816761Z",
     "shell.execute_reply": "2022-12-12T06:43:28.816060Z"
    },
    "papermill": {
     "duration": 0.010123,
     "end_time": "2022-12-12T06:43:28.818220",
     "exception": false,
     "start_time": "2022-12-12T06:43:28.808097",
     "status": "completed"
    },
    "tags": []
   },
   "outputs": [],
   "source": [
    "# TODO"
   ]
  },
  {
   "cell_type": "markdown",
   "id": "dc499925",
   "metadata": {
    "papermill": {
     "duration": 0.004103,
     "end_time": "2022-12-12T06:43:28.826706",
     "exception": false,
     "start_time": "2022-12-12T06:43:28.822603",
     "status": "completed"
    },
    "tags": []
   },
   "source": [
    "### Plot predicted probabilities for each classifier over all evaluation digit images"
   ]
  },
  {
   "cell_type": "code",
   "execution_count": 12,
   "id": "684269ce",
   "metadata": {
    "execution": {
     "iopub.execute_input": "2022-12-12T06:43:28.837629Z",
     "iopub.status.busy": "2022-12-12T06:43:28.837408Z",
     "iopub.status.idle": "2022-12-12T06:43:31.913694Z",
     "shell.execute_reply": "2022-12-12T06:43:31.912605Z"
    },
    "papermill": {
     "duration": 3.08443,
     "end_time": "2022-12-12T06:43:31.915254",
     "exception": false,
     "start_time": "2022-12-12T06:43:28.830824",
     "status": "completed"
    },
    "tags": []
   },
   "outputs": [
    {
     "data": {
      "image/png": "[encoded data removed]",
      "text/plain": [
       "<Figure size 1600x600 with 10 Axes>"
      ]
     },
     "metadata": {},
     "output_type": "display_data"
    }
   ],
   "source": [
    "def plot_per_digit_probabilities(y_pred_probs):\n",
    "    fig, axs = plt.subplots(nrows=2, ncols=5, figsize=(16, 6))\n",
    "\n",
    "    for (r, c), digit, ax in zip(\n",
    "        it.product(range(2), range(5)), range(10), axs.reshape(-1)\n",
    "    ):\n",
    "        ax.hist(y_pred_probs_test[:, digit], bins=20)\n",
    "\n",
    "        ax.set_title(f\"Digit {digit}\")\n",
    "        if r == 1 and c == 2:\n",
    "            ax.set_xlabel(\"probability\", fontsize=16)\n",
    "\n",
    "        if c == 0:\n",
    "            ax.set_ylabel(\"counts\", fontsize=16)\n",
    "        ax.set_yscale(\"log\")\n",
    "\n",
    "    fig.tight_layout()\n",
    "    fig.suptitle(\n",
    "        f\"Distributions of prediction probabilities for each digit \"\n",
    "        f\"(on evaluation data, n={y_pred_probs.shape[0]})\",\n",
    "        fontsize=20,\n",
    "    )\n",
    "    fig.tight_layout()\n",
    "    fig.show()\n",
    "\n",
    "    return fig\n",
    "\n",
    "\n",
    "fig = plot_per_digit_probabilities(y_pred_probs_test)"
   ]
  },
  {
   "cell_type": "markdown",
   "id": "cb3e5678",
   "metadata": {
    "papermill": {
     "duration": 0.005963,
     "end_time": "2022-12-12T06:43:31.927082",
     "exception": false,
     "start_time": "2022-12-12T06:43:31.921119",
     "status": "completed"
    },
    "tags": []
   },
   "source": [
    "From the above distributions we see that most digits have clear separation between\n",
    "high and lower probabilities. Morover, in each case there is roughly an order of\n",
    "magnitude more of digits with low probabilities. This is compatible with digits\n",
    "being roughly evenly distributed in the data."
   ]
  },
  {
   "cell_type": "code",
   "execution_count": 13,
   "id": "ef7b930c",
   "metadata": {
    "execution": {
     "iopub.execute_input": "2022-12-12T06:43:31.938817Z",
     "iopub.status.busy": "2022-12-12T06:43:31.938537Z",
     "iopub.status.idle": "2022-12-12T06:43:32.430683Z",
     "shell.execute_reply": "2022-12-12T06:43:32.428718Z"
    },
    "papermill": {
     "duration": 0.50006,
     "end_time": "2022-12-12T06:43:32.432571",
     "exception": false,
     "start_time": "2022-12-12T06:43:31.932511",
     "status": "completed"
    },
    "tags": []
   },
   "outputs": [],
   "source": [
    "logger.log_figure(\"per-digit-probabilities.png\", fig)"
   ]
  },
  {
   "cell_type": "markdown",
   "id": "9f20bad9",
   "metadata": {
    "papermill": {
     "duration": 0.005578,
     "end_time": "2022-12-12T06:43:32.444237",
     "exception": false,
     "start_time": "2022-12-12T06:43:32.438659",
     "status": "completed"
    },
    "tags": []
   },
   "source": [
    "### Plot ROC curves for individual one-vs-rest classifiers"
   ]
  },
  {
   "cell_type": "code",
   "execution_count": 14,
   "id": "e7187e96",
   "metadata": {
    "execution": {
     "iopub.execute_input": "2022-12-12T06:43:32.457087Z",
     "iopub.status.busy": "2022-12-12T06:43:32.456801Z",
     "iopub.status.idle": "2022-12-12T06:43:32.898115Z",
     "shell.execute_reply": "2022-12-12T06:43:32.897267Z"
    },
    "papermill": {
     "duration": 0.450534,
     "end_time": "2022-12-12T06:43:32.900329",
     "exception": false,
     "start_time": "2022-12-12T06:43:32.449795",
     "status": "completed"
    },
    "tags": []
   },
   "outputs": [],
   "source": [
    "from sklearn import metrics"
   ]
  },
  {
   "cell_type": "code",
   "execution_count": 15,
   "id": "c49c4fc0",
   "metadata": {
    "execution": {
     "iopub.execute_input": "2022-12-12T06:43:32.912939Z",
     "iopub.status.busy": "2022-12-12T06:43:32.912563Z",
     "iopub.status.idle": "2022-12-12T06:43:33.978225Z",
     "shell.execute_reply": "2022-12-12T06:43:33.977550Z"
    },
    "papermill": {
     "duration": 1.074024,
     "end_time": "2022-12-12T06:43:33.980241",
     "exception": false,
     "start_time": "2022-12-12T06:43:32.906217",
     "status": "completed"
    },
    "tags": []
   },
   "outputs": [
    {
     "data": {
      "image/png": "[encoded data removed]",
      "text/plain": [
       "<Figure size 1600x800 with 10 Axes>"
      ]
     },
     "metadata": {},
     "output_type": "display_data"
    }
   ],
   "source": [
    "def plot_roc_curves(y, y_pred_probs):\n",
    "    # based on example code\n",
    "    # https://scikit-learn.org/stable/auto_examples/model_selection/plot_roc.html\n",
    "\n",
    "    fig, axs = plt.subplots(nrows=2, ncols=5, figsize=(16, 8))\n",
    "\n",
    "    roc_auc_dict = {}\n",
    "\n",
    "    for (r, c), digit, ax in zip(\n",
    "        it.product(range(2), range(5)), range(10), axs.reshape(-1)\n",
    "    ):\n",
    "        fpr, tpr, _ = metrics.roc_curve(y == digit, y_pred_probs[:, digit])\n",
    "        auc = metrics.auc(fpr, tpr)\n",
    "        roc_auc_dict[str(digit)] = auc\n",
    "\n",
    "        ax.plot(fpr, tpr, label=f\"ROC AUC={round(auc, 3)}\")\n",
    "\n",
    "        ax.set_title(f\"\\nDigit {digit}\", fontsize=16)\n",
    "        if r == 1:\n",
    "            ax.set_xlabel(\"FPR\", fontsize=18)\n",
    "\n",
    "        if c == 0:\n",
    "            ax.set_ylabel(\"TPR\", fontsize=18)\n",
    "\n",
    "        ax.set_xlim([-0.05, 1.05])\n",
    "        ax.set_ylim([-0.05, 1.05])\n",
    "        ax.legend(loc=\"lower right\", frameon=False, fontsize=14)\n",
    "\n",
    "    fig.tight_layout()\n",
    "    fig.suptitle(\n",
    "        f\"ROC plots for one-vs-rest performances \"\n",
    "        f\"(on evaluation data, n={y_pred_probs_test.shape[1]}\",\n",
    "        fontsize=22,\n",
    "    )\n",
    "    fig.tight_layout()\n",
    "    fig.show()\n",
    "\n",
    "    return roc_auc_dict, fig\n",
    "\n",
    "\n",
    "roc_auc_dict, fig = plot_roc_curves(y_test, y_pred_probs_test)"
   ]
  },
  {
   "cell_type": "code",
   "execution_count": 16,
   "id": "a999c7bf",
   "metadata": {
    "execution": {
     "iopub.execute_input": "2022-12-12T06:43:33.994776Z",
     "iopub.status.busy": "2022-12-12T06:43:33.994485Z",
     "iopub.status.idle": "2022-12-12T06:43:34.258262Z",
     "shell.execute_reply": "2022-12-12T06:43:34.257622Z"
    },
    "papermill": {
     "duration": 0.273267,
     "end_time": "2022-12-12T06:43:34.260233",
     "exception": false,
     "start_time": "2022-12-12T06:43:33.986966",
     "status": "completed"
    },
    "tags": []
   },
   "outputs": [],
   "source": [
    "logger.log_figure(\"per-digit-roc-curves.png\", fig)"
   ]
  },
  {
   "cell_type": "code",
   "execution_count": 17,
   "id": "80d62447",
   "metadata": {
    "execution": {
     "iopub.execute_input": "2022-12-12T06:43:34.274552Z",
     "iopub.status.busy": "2022-12-12T06:43:34.274296Z",
     "iopub.status.idle": "2022-12-12T06:43:34.279489Z",
     "shell.execute_reply": "2022-12-12T06:43:34.278804Z"
    },
    "papermill": {
     "duration": 0.015068,
     "end_time": "2022-12-12T06:43:34.282314",
     "exception": false,
     "start_time": "2022-12-12T06:43:34.267246",
     "status": "completed"
    },
    "tags": []
   },
   "outputs": [
    {
     "data": {
      "text/plain": [
       "{'0': 1.0,\n",
       " '1': 0.9987253983130272,\n",
       " '2': 1.0,\n",
       " '3': 0.9998500468603562,\n",
       " '4': 0.9995046486816034,\n",
       " '5': 0.9992877225866916,\n",
       " '6': 0.999961896052431,\n",
       " '7': 0.9998856881572931,\n",
       " '8': 0.9934583858764187,\n",
       " '9': 0.9994284407864655}"
      ]
     },
     "execution_count": 17,
     "metadata": {},
     "output_type": "execute_result"
    }
   ],
   "source": [
    "roc_auc_dict"
   ]
  },
  {
   "cell_type": "code",
   "execution_count": 18,
   "id": "74cafbe2",
   "metadata": {
    "execution": {
     "iopub.execute_input": "2022-12-12T06:43:34.296257Z",
     "iopub.status.busy": "2022-12-12T06:43:34.295985Z",
     "iopub.status.idle": "2022-12-12T06:43:34.300769Z",
     "shell.execute_reply": "2022-12-12T06:43:34.300209Z"
    },
    "papermill": {
     "duration": 0.015986,
     "end_time": "2022-12-12T06:43:34.304761",
     "exception": false,
     "start_time": "2022-12-12T06:43:34.288775",
     "status": "completed"
    },
    "tags": []
   },
   "outputs": [
    {
     "name": "stdout",
     "output_type": "stream",
     "text": [
      " - Logging roc_auc_per_digit (json) : {'0': 1.0, '1': 0.9987253983130272, '2': 1.0, '3': 0.9998500468603562, '4': 0.9995046486816034, '5': 0.9992877225866916, '6': 0.999961896052431, '7': 0.9998856881572931, '8': 0.9934583858764187, '9': 0.9994284407864655}\n"
     ]
    }
   ],
   "source": [
    "logger.log_value(\"roc_auc_per_digit\", roc_auc_dict)"
   ]
  },
  {
   "cell_type": "markdown",
   "id": "703e25e8",
   "metadata": {
    "papermill": {
     "duration": 0.006575,
     "end_time": "2022-12-12T06:43:34.319411",
     "exception": false,
     "start_time": "2022-12-12T06:43:34.312836",
     "status": "completed"
    },
    "tags": []
   },
   "source": [
    "### Compute and log mean ROC AUC score averaged over all digits"
   ]
  },
  {
   "cell_type": "code",
   "execution_count": 19,
   "id": "f88e8f4d",
   "metadata": {
    "execution": {
     "iopub.execute_input": "2022-12-12T06:43:34.334698Z",
     "iopub.status.busy": "2022-12-12T06:43:34.334372Z",
     "iopub.status.idle": "2022-12-12T06:43:34.349641Z",
     "shell.execute_reply": "2022-12-12T06:43:34.348865Z"
    },
    "papermill": {
     "duration": 0.02464,
     "end_time": "2022-12-12T06:43:34.351107",
     "exception": false,
     "start_time": "2022-12-12T06:43:34.326467",
     "status": "completed"
    },
    "tags": []
   },
   "outputs": [
    {
     "name": "stdout",
     "output_type": "stream",
     "text": [
      " - Logging roc_auc_class_mean (float) : 0.9990102227314287\n"
     ]
    }
   ],
   "source": [
    "roc_auc_macro = np.mean(list(roc_auc_dict.values()))\n",
    "\n",
    "logger.log_float(\"roc_auc_class_mean\", roc_auc_macro)\n",
    "\n",
    "# assert that the same value can be computed directly using sklearn\n",
    "assert roc_auc_macro == metrics.roc_auc_score(\n",
    "    y_test, y_pred_probs_test, average=\"macro\", multi_class=\"ovr\"\n",
    ")"
   ]
  },
  {
   "cell_type": "code",
   "execution_count": 20,
   "id": "64226565",
   "metadata": {
    "execution": {
     "iopub.execute_input": "2022-12-12T06:43:34.366641Z",
     "iopub.status.busy": "2022-12-12T06:43:34.366360Z",
     "iopub.status.idle": "2022-12-12T06:43:34.369408Z",
     "shell.execute_reply": "2022-12-12T06:43:34.368673Z"
    },
    "lines_to_next_cell": 0,
    "papermill": {
     "duration": 0.013583,
     "end_time": "2022-12-12T06:43:34.371798",
     "exception": false,
     "start_time": "2022-12-12T06:43:34.358215",
     "status": "completed"
    },
    "tags": []
   },
   "outputs": [],
   "source": [
    "# ---"
   ]
  },
  {
   "cell_type": "code",
   "execution_count": null,
   "id": "36de2c6d",
   "metadata": {
    "papermill": {
     "duration": 0.00683,
     "end_time": "2022-12-12T06:43:34.385385",
     "exception": false,
     "start_time": "2022-12-12T06:43:34.378555",
     "status": "completed"
    },
    "tags": []
   },
   "outputs": [],
   "source": []
  }
 ],
 "metadata": {
  "jupytext": {
   "cell_metadata_filter": "tags,-all",
   "main_language": "python",
   "notebook_metadata_filter": "-all"
  },
  "language_info": {
   "codemirror_mode": {
    "name": "ipython",
    "version": 3
   },
   "file_extension": ".py",
   "mimetype": "text/x-python",
   "name": "python",
   "nbconvert_exporter": "python",
   "pygments_lexer": "ipython3",
   "version": "3.8.10"
  },
  "papermill": {
   "default_parameters": {},
   "duration": 9.745401,
   "end_time": "2022-12-12T06:43:35.621042",
   "environment_variables": {},
   "exception": null,
   "input_path": "/home/host_user/workspace/mnist-demo-pipeline/mnist-demo-pipeline/notebooks/temp-notebook-az4v_ywi.ipynb",
   "output_path": "notebooks/benchmark-model.ipynb",
   "parameters": {
    "P": {
     "_opentelemetry_traceparent": "00-81120cfa575541747c90cc1ec8bd1d4e-60307f08f744ba2c-01",
     "pipeline.data_lake_root": "/pipeline-outputs/data-lake",
     "pipeline.github.actor": "matiasdahl",
     "pipeline.github.base_ref": "",
     "pipeline.github.event_name": "schedule",
     "pipeline.github.head_ref": "",
     "pipeline.github.job": "run-tests-pipeline-and-persist-pipeline-outputs",
     "pipeline.github.ref": "refs/heads/development",
     "pipeline.github.ref_name": "development",
     "pipeline.github.ref_type": "branch",
     "pipeline.github.repository": "matiasdahl/dev-mnist-digits-demo-pipeline",
     "pipeline.github.run_id": "3673319405",
     "pipeline.github.runner_name": "Hosted Agent",
     "pipeline.github.sha": "ace0d01011d5e914f1921450dd5a59c11367b38d",
     "pipeline.github.workflow": "Run automated tests, pipeline and deploy results to static reporting site",
     "pipeline.pipeline_run_id": "6b58dea2-806c-44a2-9f3f-0209f67d6272",
     "pipeline.run_environment": "ci",
     "run.retry_nr": "0",
     "task.max_nr_retries": "1",
     "task.notebook": "notebooks/benchmark-model.py",
     "task.nr_train_images": 800,
     "task.num_cpus": 1,
     "task.timeout_s": "None"
    }
   },
   "start_time": "2022-12-12T06:43:25.875641",
   "version": "2.3.3"
  }
 },
 "nbformat": 4,
 "nbformat_minor": 5
}