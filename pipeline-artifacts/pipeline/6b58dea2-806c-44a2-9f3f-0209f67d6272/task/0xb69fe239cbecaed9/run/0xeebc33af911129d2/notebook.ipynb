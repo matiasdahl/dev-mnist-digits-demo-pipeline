{
 "cells": [
  {
   "cell_type": "markdown",
   "id": "28099f84",
   "metadata": {
    "papermill": {
     "duration": 0.005638,
     "end_time": "2022-12-12T06:43:32.623523",
     "exception": false,
     "start_time": "2022-12-12T06:43:32.617885",
     "status": "completed"
    },
    "tags": []
   },
   "source": [
    "# Benchmark model\n",
    "\n",
    "The purpose of this notebook is to benchmark persisted onnx-model (trained in the\n",
    "previous step) against evaluation set."
   ]
  },
  {
   "cell_type": "markdown",
   "id": "bf7f19c6",
   "metadata": {
    "papermill": {
     "duration": 0.006102,
     "end_time": "2022-12-12T06:43:32.634567",
     "exception": false,
     "start_time": "2022-12-12T06:43:32.628465",
     "status": "completed"
    },
    "tags": []
   },
   "source": [
    "### Determine run parameters"
   ]
  },
  {
   "cell_type": "code",
   "execution_count": 1,
   "id": "c0d0c76f",
   "metadata": {
    "execution": {
     "iopub.execute_input": "2022-12-12T06:43:32.659289Z",
     "iopub.status.busy": "2022-12-12T06:43:32.658517Z",
     "iopub.status.idle": "2022-12-12T06:43:32.667860Z",
     "shell.execute_reply": "2022-12-12T06:43:32.667006Z"
    },
    "lines_to_next_cell": 0,
    "papermill": {
     "duration": 0.026,
     "end_time": "2022-12-12T06:43:32.669834",
     "exception": false,
     "start_time": "2022-12-12T06:43:32.643834",
     "status": "completed"
    },
    "tags": []
   },
   "outputs": [],
   "source": [
    "# ----------------- Parameters for interactive development --------------\n",
    "P = {\n",
    "    \"pipeline.data_lake_root\": \"/pipeline-outputs/data-lake\",\n",
    "    \"task.nr_train_images\": 600,\n",
    "}"
   ]
  },
  {
   "cell_type": "code",
   "execution_count": 2,
   "id": "e3b24c18",
   "metadata": {
    "execution": {
     "iopub.execute_input": "2022-12-12T06:43:32.680588Z",
     "iopub.status.busy": "2022-12-12T06:43:32.680340Z",
     "iopub.status.idle": "2022-12-12T06:43:32.683791Z",
     "shell.execute_reply": "2022-12-12T06:43:32.682763Z"
    },
    "lines_to_next_cell": 0,
    "papermill": {
     "duration": 0.011439,
     "end_time": "2022-12-12T06:43:32.686367",
     "exception": false,
     "start_time": "2022-12-12T06:43:32.674928",
     "status": "completed"
    },
    "tags": [
     "parameters"
    ]
   },
   "outputs": [],
   "source": [
    "# - During automated runs parameters will be injected in the below cell -"
   ]
  },
  {
   "cell_type": "code",
   "execution_count": 3,
   "id": "5368a425",
   "metadata": {
    "execution": {
     "iopub.execute_input": "2022-12-12T06:43:32.696238Z",
     "iopub.status.busy": "2022-12-12T06:43:32.696011Z",
     "iopub.status.idle": "2022-12-12T06:43:32.700953Z",
     "shell.execute_reply": "2022-12-12T06:43:32.700454Z"
    },
    "papermill": {
     "duration": 0.013668,
     "end_time": "2022-12-12T06:43:32.704227",
     "exception": false,
     "start_time": "2022-12-12T06:43:32.690559",
     "status": "completed"
    },
    "tags": [
     "injected-parameters"
    ]
   },
   "outputs": [],
   "source": [
    "# Parameters\n",
    "P = {\n",
    "    \"pipeline.data_lake_root\": \"/pipeline-outputs/data-lake\",\n",
    "    \"pipeline.run_environment\": \"ci\",\n",
    "    \"pipeline.pipeline_run_id\": \"6b58dea2-806c-44a2-9f3f-0209f67d6272\",\n",
    "    \"pipeline.github.repository\": \"matiasdahl/dev-mnist-digits-demo-pipeline\",\n",
    "    \"pipeline.github.workflow\": \"Run automated tests, pipeline and deploy results to static reporting site\",\n",
    "    \"pipeline.github.runner_name\": \"Hosted Agent\",\n",
    "    \"pipeline.github.run_id\": \"3673319405\",\n",
    "    \"pipeline.github.actor\": \"matiasdahl\",\n",
    "    \"pipeline.github.job\": \"run-tests-pipeline-and-persist-pipeline-outputs\",\n",
    "    \"pipeline.github.base_ref\": \"\",\n",
    "    \"pipeline.github.head_ref\": \"\",\n",
    "    \"pipeline.github.sha\": \"ace0d01011d5e914f1921450dd5a59c11367b38d\",\n",
    "    \"pipeline.github.ref\": \"refs/heads/development\",\n",
    "    \"pipeline.github.ref_type\": \"branch\",\n",
    "    \"pipeline.github.ref_name\": \"development\",\n",
    "    \"pipeline.github.event_name\": \"schedule\",\n",
    "    \"task.nr_train_images\": 1200,\n",
    "    \"task.notebook\": \"notebooks/benchmark-model.py\",\n",
    "    \"task.max_nr_retries\": \"1\",\n",
    "    \"run.retry_nr\": \"0\",\n",
    "    \"task.timeout_s\": \"None\",\n",
    "    \"task.num_cpus\": 1,\n",
    "    \"_opentelemetry_traceparent\": \"00-81120cfa575541747c90cc1ec8bd1d4e-c8dae1003658c7f4-01\",\n",
    "}\n"
   ]
  },
  {
   "cell_type": "code",
   "execution_count": 4,
   "id": "81fb370d",
   "metadata": {
    "execution": {
     "iopub.execute_input": "2022-12-12T06:43:32.714919Z",
     "iopub.status.busy": "2022-12-12T06:43:32.714697Z",
     "iopub.status.idle": "2022-12-12T06:43:32.717516Z",
     "shell.execute_reply": "2022-12-12T06:43:32.717002Z"
    },
    "lines_to_next_cell": 0,
    "papermill": {
     "duration": 0.011225,
     "end_time": "2022-12-12T06:43:32.720349",
     "exception": false,
     "start_time": "2022-12-12T06:43:32.709124",
     "status": "completed"
    },
    "tags": []
   },
   "outputs": [],
   "source": [
    "# -----------------------------------------------------------------------"
   ]
  },
  {
   "cell_type": "markdown",
   "id": "93925df3",
   "metadata": {
    "papermill": {
     "duration": 0.004116,
     "end_time": "2022-12-12T06:43:32.729043",
     "exception": false,
     "start_time": "2022-12-12T06:43:32.724927",
     "status": "completed"
    },
    "tags": []
   },
   "source": [
    "---"
   ]
  },
  {
   "cell_type": "markdown",
   "id": "af9baca4",
   "metadata": {
    "lines_to_next_cell": 2,
    "papermill": {
     "duration": 0.004329,
     "end_time": "2022-12-12T06:43:32.737590",
     "exception": false,
     "start_time": "2022-12-12T06:43:32.733261",
     "status": "completed"
    },
    "tags": []
   },
   "source": [
    "### Notebook code"
   ]
  },
  {
   "cell_type": "code",
   "execution_count": 5,
   "id": "cb284bc4",
   "metadata": {
    "execution": {
     "iopub.execute_input": "2022-12-12T06:43:32.754456Z",
     "iopub.status.busy": "2022-12-12T06:43:32.754172Z",
     "iopub.status.idle": "2022-12-12T06:43:34.017773Z",
     "shell.execute_reply": "2022-12-12T06:43:34.017145Z"
    },
    "papermill": {
     "duration": 1.271515,
     "end_time": "2022-12-12T06:43:34.020137",
     "exception": false,
     "start_time": "2022-12-12T06:43:32.748622",
     "status": "completed"
    },
    "tags": []
   },
   "outputs": [
    {
     "name": "stderr",
     "output_type": "stream",
     "text": [
      "2022-12-12 06:43:33,763\tINFO worker.py:842 -- Connecting to existing Ray cluster at address: 172.17.0.2:6379\n"
     ]
    }
   ],
   "source": [
    "import itertools as it\n",
    "\n",
    "#\n",
    "import numpy as np\n",
    "import matplotlib.pyplot as plt\n",
    "\n",
    "#\n",
    "from pynb_dag_runner.tasks.task_opentelemetry_logging import PydarLogger\n",
    "\n",
    "#\n",
    "from common.io import datalake_root\n",
    "\n",
    "logger = PydarLogger(P)"
   ]
  },
  {
   "cell_type": "markdown",
   "id": "e3616e38",
   "metadata": {
    "papermill": {
     "duration": 0.0051,
     "end_time": "2022-12-12T06:43:34.029728",
     "exception": false,
     "start_time": "2022-12-12T06:43:34.024628",
     "status": "completed"
    },
    "tags": []
   },
   "source": [
    "## Load persisted onnx-model and evaluation data"
   ]
  },
  {
   "cell_type": "code",
   "execution_count": 6,
   "id": "0a5f3254",
   "metadata": {
    "execution": {
     "iopub.execute_input": "2022-12-12T06:43:34.039621Z",
     "iopub.status.busy": "2022-12-12T06:43:34.039269Z",
     "iopub.status.idle": "2022-12-12T06:43:34.043063Z",
     "shell.execute_reply": "2022-12-12T06:43:34.042518Z"
    },
    "papermill": {
     "duration": 0.012513,
     "end_time": "2022-12-12T06:43:34.046084",
     "exception": false,
     "start_time": "2022-12-12T06:43:34.033571",
     "status": "completed"
    },
    "tags": []
   },
   "outputs": [],
   "source": [
    "from common.io import read_onnx, get_onnx_inputs, get_onnx_outputs, read_numpy"
   ]
  },
  {
   "cell_type": "code",
   "execution_count": 7,
   "id": "676b0157",
   "metadata": {
    "execution": {
     "iopub.execute_input": "2022-12-12T06:43:34.056581Z",
     "iopub.status.busy": "2022-12-12T06:43:34.056334Z",
     "iopub.status.idle": "2022-12-12T06:43:34.067022Z",
     "shell.execute_reply": "2022-12-12T06:43:34.066298Z"
    },
    "lines_to_next_cell": 0,
    "papermill": {
     "duration": 0.019965,
     "end_time": "2022-12-12T06:43:34.070910",
     "exception": false,
     "start_time": "2022-12-12T06:43:34.050945",
     "status": "completed"
    },
    "tags": []
   },
   "outputs": [],
   "source": [
    "onnx_inference_session = read_onnx(\n",
    "    datalake_root(P)\n",
    "    / \"models\"\n",
    "    / f\"nr_train_images={P['task.nr_train_images']}\"\n",
    "    / \"model.onnx\"\n",
    ")"
   ]
  },
  {
   "cell_type": "markdown",
   "id": "9c62031a",
   "metadata": {
    "papermill": {
     "duration": 0.013965,
     "end_time": "2022-12-12T06:43:34.089974",
     "exception": false,
     "start_time": "2022-12-12T06:43:34.076009",
     "status": "completed"
    },
    "tags": []
   },
   "source": [
    "### Record structure of inputs and outputs for ONNX model\n",
    "\n",
    "(this should likely be done in training notebook)"
   ]
  },
  {
   "cell_type": "code",
   "execution_count": 8,
   "id": "d9d279d9",
   "metadata": {
    "execution": {
     "iopub.execute_input": "2022-12-12T06:43:34.102641Z",
     "iopub.status.busy": "2022-12-12T06:43:34.102357Z",
     "iopub.status.idle": "2022-12-12T06:43:34.108562Z",
     "shell.execute_reply": "2022-12-12T06:43:34.107914Z"
    },
    "papermill": {
     "duration": 0.018128,
     "end_time": "2022-12-12T06:43:34.112692",
     "exception": false,
     "start_time": "2022-12-12T06:43:34.094564",
     "status": "completed"
    },
    "tags": []
   },
   "outputs": [
    {
     "name": "stdout",
     "output_type": "stream",
     "text": [
      "{\n",
      "  \"inputs\": [\n",
      "    {\n",
      "      \"name\": \"float_input_8x8_image\",\n",
      "      \"shape\": [\n",
      "        null,\n",
      "        64\n",
      "      ],\n",
      "      \"type\": \"tensor(float)\"\n",
      "    }\n",
      "  ],\n",
      "  \"outputs\": [\n",
      "    {\n",
      "      \"name\": \"output_label\",\n",
      "      \"shape\": [\n",
      "        null\n",
      "      ],\n",
      "      \"type\": \"tensor(int64)\"\n",
      "    },\n",
      "    {\n",
      "      \"name\": \"output_probability\",\n",
      "      \"shape\": [],\n",
      "      \"type\": \"seq(map(int64,tensor(float)))\"\n",
      "    }\n",
      "  ]\n",
      "}\n"
     ]
    }
   ],
   "source": [
    "import json\n",
    "\n",
    "onnx_io = json.dumps(\n",
    "    {\n",
    "        \"inputs\": get_onnx_inputs(onnx_inference_session),\n",
    "        \"outputs\": get_onnx_outputs(onnx_inference_session),\n",
    "    },\n",
    "    indent=2,\n",
    ")\n",
    "\n",
    "\n",
    "logger.log_artefact(\"onnx_io_structure.json\", onnx_io)\n",
    "print(onnx_io)"
   ]
  },
  {
   "cell_type": "markdown",
   "id": "1fc900f3",
   "metadata": {
    "papermill": {
     "duration": 0.005002,
     "end_time": "2022-12-12T06:43:34.121979",
     "exception": false,
     "start_time": "2022-12-12T06:43:34.116977",
     "status": "completed"
    },
    "tags": []
   },
   "source": [
    "### Evaluate model performance on evaluation data set"
   ]
  },
  {
   "cell_type": "code",
   "execution_count": 9,
   "id": "6ec6fb7d",
   "metadata": {
    "execution": {
     "iopub.execute_input": "2022-12-12T06:43:34.132370Z",
     "iopub.status.busy": "2022-12-12T06:43:34.132133Z",
     "iopub.status.idle": "2022-12-12T06:43:34.136744Z",
     "shell.execute_reply": "2022-12-12T06:43:34.136196Z"
    },
    "papermill": {
     "duration": 0.013433,
     "end_time": "2022-12-12T06:43:34.139891",
     "exception": false,
     "start_time": "2022-12-12T06:43:34.126458",
     "status": "completed"
    },
    "tags": []
   },
   "outputs": [],
   "source": [
    "# load evaluation data\n",
    "X_test = read_numpy(datalake_root(P) / \"test-data\" / \"digits.numpy\")\n",
    "y_test = read_numpy(datalake_root(P) / \"test-data\" / \"labels.numpy\")"
   ]
  },
  {
   "cell_type": "code",
   "execution_count": 10,
   "id": "a3141765",
   "metadata": {
    "execution": {
     "iopub.execute_input": "2022-12-12T06:43:34.150704Z",
     "iopub.status.busy": "2022-12-12T06:43:34.150018Z",
     "iopub.status.idle": "2022-12-12T06:43:34.165282Z",
     "shell.execute_reply": "2022-12-12T06:43:34.164713Z"
    },
    "papermill": {
     "duration": 0.022066,
     "end_time": "2022-12-12T06:43:34.166893",
     "exception": false,
     "start_time": "2022-12-12T06:43:34.144827",
     "status": "completed"
    },
    "tags": []
   },
   "outputs": [],
   "source": [
    "def get_model_outputs(X, onnx_inference_session):\n",
    "    y_pred_labels, y_pred_map = onnx_inference_session.run(\n",
    "        [\"output_label\", \"output_probability\"],\n",
    "        {\"float_input_8x8_image\": X.astype(np.float32)},\n",
    "    )\n",
    "    y_pred_probs = np.array(\n",
    "        [[probabilities[digit] for digit in range(10)] for probabilities in y_pred_map]\n",
    "    )\n",
    "\n",
    "    assert y_pred_labels.shape == (X.shape[0],)\n",
    "    assert y_pred_probs.shape == (X.shape[0], 10)\n",
    "\n",
    "    return y_pred_labels, y_pred_probs\n",
    "\n",
    "\n",
    "# Note: as shown in the training notebook, the predicted labels and probabilities\n",
    "# computed below need not be compatible.\n",
    "y_pred_labels_test, y_pred_probs_test = get_model_outputs(\n",
    "    X_test, onnx_inference_session\n",
    ")"
   ]
  },
  {
   "cell_type": "markdown",
   "id": "8cde8f91",
   "metadata": {
    "papermill": {
     "duration": 0.004765,
     "end_time": "2022-12-12T06:43:34.176621",
     "exception": false,
     "start_time": "2022-12-12T06:43:34.171856",
     "status": "completed"
    },
    "tags": []
   },
   "source": [
    "### Confusion matrix"
   ]
  },
  {
   "cell_type": "code",
   "execution_count": 11,
   "id": "556a9739",
   "metadata": {
    "execution": {
     "iopub.execute_input": "2022-12-12T06:43:34.187956Z",
     "iopub.status.busy": "2022-12-12T06:43:34.187446Z",
     "iopub.status.idle": "2022-12-12T06:43:34.195163Z",
     "shell.execute_reply": "2022-12-12T06:43:34.192545Z"
    },
    "papermill": {
     "duration": 0.017216,
     "end_time": "2022-12-12T06:43:34.198339",
     "exception": false,
     "start_time": "2022-12-12T06:43:34.181123",
     "status": "completed"
    },
    "tags": []
   },
   "outputs": [],
   "source": [
    "# TODO"
   ]
  },
  {
   "cell_type": "markdown",
   "id": "d9bf4bfe",
   "metadata": {
    "papermill": {
     "duration": 0.004693,
     "end_time": "2022-12-12T06:43:34.209435",
     "exception": false,
     "start_time": "2022-12-12T06:43:34.204742",
     "status": "completed"
    },
    "tags": []
   },
   "source": [
    "### Plot predicted probabilities for each classifier over all evaluation digit images"
   ]
  },
  {
   "cell_type": "code",
   "execution_count": 12,
   "id": "a33b2e12",
   "metadata": {
    "execution": {
     "iopub.execute_input": "2022-12-12T06:43:34.219575Z",
     "iopub.status.busy": "2022-12-12T06:43:34.219218Z",
     "iopub.status.idle": "2022-12-12T06:43:37.135703Z",
     "shell.execute_reply": "2022-12-12T06:43:37.134518Z"
    },
    "papermill": {
     "duration": 2.923268,
     "end_time": "2022-12-12T06:43:37.137292",
     "exception": false,
     "start_time": "2022-12-12T06:43:34.214024",
     "status": "completed"
    },
    "tags": []
   },
   "outputs": [
    {
     "data": {
      "image/png": "[encoded data removed]",
      "text/plain": [
       "<Figure size 1600x600 with 10 Axes>"
      ]
     },
     "metadata": {},
     "output_type": "display_data"
    }
   ],
   "source": [
    "def plot_per_digit_probabilities(y_pred_probs):\n",
    "    fig, axs = plt.subplots(nrows=2, ncols=5, figsize=(16, 6))\n",
    "\n",
    "    for (r, c), digit, ax in zip(\n",
    "        it.product(range(2), range(5)), range(10), axs.reshape(-1)\n",
    "    ):\n",
    "        ax.hist(y_pred_probs_test[:, digit], bins=20)\n",
    "\n",
    "        ax.set_title(f\"Digit {digit}\")\n",
    "        if r == 1 and c == 2:\n",
    "            ax.set_xlabel(\"probability\", fontsize=16)\n",
    "\n",
    "        if c == 0:\n",
    "            ax.set_ylabel(\"counts\", fontsize=16)\n",
    "        ax.set_yscale(\"log\")\n",
    "\n",
    "    fig.tight_layout()\n",
    "    fig.suptitle(\n",
    "        f\"Distributions of prediction probabilities for each digit \"\n",
    "        f\"(on evaluation data, n={y_pred_probs.shape[0]})\",\n",
    "        fontsize=20,\n",
    "    )\n",
    "    fig.tight_layout()\n",
    "    fig.show()\n",
    "\n",
    "    return fig\n",
    "\n",
    "\n",
    "fig = plot_per_digit_probabilities(y_pred_probs_test)"
   ]
  },
  {
   "cell_type": "markdown",
   "id": "3ac4119b",
   "metadata": {
    "papermill": {
     "duration": 0.00494,
     "end_time": "2022-12-12T06:43:37.147687",
     "exception": false,
     "start_time": "2022-12-12T06:43:37.142747",
     "status": "completed"
    },
    "tags": []
   },
   "source": [
    "From the above distributions we see that most digits have clear separation between\n",
    "high and lower probabilities. Morover, in each case there is roughly an order of\n",
    "magnitude more of digits with low probabilities. This is compatible with digits\n",
    "being roughly evenly distributed in the data."
   ]
  },
  {
   "cell_type": "code",
   "execution_count": 13,
   "id": "d0219fba",
   "metadata": {
    "execution": {
     "iopub.execute_input": "2022-12-12T06:43:37.159154Z",
     "iopub.status.busy": "2022-12-12T06:43:37.158519Z",
     "iopub.status.idle": "2022-12-12T06:43:37.600614Z",
     "shell.execute_reply": "2022-12-12T06:43:37.599952Z"
    },
    "papermill": {
     "duration": 0.450029,
     "end_time": "2022-12-12T06:43:37.602548",
     "exception": false,
     "start_time": "2022-12-12T06:43:37.152519",
     "status": "completed"
    },
    "tags": []
   },
   "outputs": [],
   "source": [
    "logger.log_figure(\"per-digit-probabilities.png\", fig)"
   ]
  },
  {
   "cell_type": "markdown",
   "id": "63c95701",
   "metadata": {
    "papermill": {
     "duration": 0.004883,
     "end_time": "2022-12-12T06:43:37.613558",
     "exception": false,
     "start_time": "2022-12-12T06:43:37.608675",
     "status": "completed"
    },
    "tags": []
   },
   "source": [
    "### Plot ROC curves for individual one-vs-rest classifiers"
   ]
  },
  {
   "cell_type": "code",
   "execution_count": 14,
   "id": "fccc934b",
   "metadata": {
    "execution": {
     "iopub.execute_input": "2022-12-12T06:43:37.625392Z",
     "iopub.status.busy": "2022-12-12T06:43:37.624921Z",
     "iopub.status.idle": "2022-12-12T06:43:38.040906Z",
     "shell.execute_reply": "2022-12-12T06:43:38.040234Z"
    },
    "papermill": {
     "duration": 0.424044,
     "end_time": "2022-12-12T06:43:38.043274",
     "exception": false,
     "start_time": "2022-12-12T06:43:37.619230",
     "status": "completed"
    },
    "tags": []
   },
   "outputs": [],
   "source": [
    "from sklearn import metrics"
   ]
  },
  {
   "cell_type": "code",
   "execution_count": 15,
   "id": "50ec67e4",
   "metadata": {
    "execution": {
     "iopub.execute_input": "2022-12-12T06:43:38.055754Z",
     "iopub.status.busy": "2022-12-12T06:43:38.055325Z",
     "iopub.status.idle": "2022-12-12T06:43:39.092880Z",
     "shell.execute_reply": "2022-12-12T06:43:39.092268Z"
    },
    "papermill": {
     "duration": 1.046252,
     "end_time": "2022-12-12T06:43:39.095090",
     "exception": false,
     "start_time": "2022-12-12T06:43:38.048838",
     "status": "completed"
    },
    "tags": []
   },
   "outputs": [
    {
     "data": {
      "image/png": "[encoded data removed]",
      "text/plain": [
       "<Figure size 1600x800 with 10 Axes>"
      ]
     },
     "metadata": {},
     "output_type": "display_data"
    }
   ],
   "source": [
    "def plot_roc_curves(y, y_pred_probs):\n",
    "    # based on example code\n",
    "    # https://scikit-learn.org/stable/auto_examples/model_selection/plot_roc.html\n",
    "\n",
    "    fig, axs = plt.subplots(nrows=2, ncols=5, figsize=(16, 8))\n",
    "\n",
    "    roc_auc_dict = {}\n",
    "\n",
    "    for (r, c), digit, ax in zip(\n",
    "        it.product(range(2), range(5)), range(10), axs.reshape(-1)\n",
    "    ):\n",
    "        fpr, tpr, _ = metrics.roc_curve(y == digit, y_pred_probs[:, digit])\n",
    "        auc = metrics.auc(fpr, tpr)\n",
    "        roc_auc_dict[str(digit)] = auc\n",
    "\n",
    "        ax.plot(fpr, tpr, label=f\"ROC AUC={round(auc, 3)}\")\n",
    "\n",
    "        ax.set_title(f\"\\nDigit {digit}\", fontsize=16)\n",
    "        if r == 1:\n",
    "            ax.set_xlabel(\"FPR\", fontsize=18)\n",
    "\n",
    "        if c == 0:\n",
    "            ax.set_ylabel(\"TPR\", fontsize=18)\n",
    "\n",
    "        ax.set_xlim([-0.05, 1.05])\n",
    "        ax.set_ylim([-0.05, 1.05])\n",
    "        ax.legend(loc=\"lower right\", frameon=False, fontsize=14)\n",
    "\n",
    "    fig.tight_layout()\n",
    "    fig.suptitle(\n",
    "        f\"ROC plots for one-vs-rest performances \"\n",
    "        f\"(on evaluation data, n={y_pred_probs_test.shape[1]}\",\n",
    "        fontsize=22,\n",
    "    )\n",
    "    fig.tight_layout()\n",
    "    fig.show()\n",
    "\n",
    "    return roc_auc_dict, fig\n",
    "\n",
    "\n",
    "roc_auc_dict, fig = plot_roc_curves(y_test, y_pred_probs_test)"
   ]
  },
  {
   "cell_type": "code",
   "execution_count": 16,
   "id": "d0c99122",
   "metadata": {
    "execution": {
     "iopub.execute_input": "2022-12-12T06:43:39.109551Z",
     "iopub.status.busy": "2022-12-12T06:43:39.108841Z",
     "iopub.status.idle": "2022-12-12T06:43:39.349397Z",
     "shell.execute_reply": "2022-12-12T06:43:39.348394Z"
    },
    "papermill": {
     "duration": 0.249547,
     "end_time": "2022-12-12T06:43:39.351341",
     "exception": false,
     "start_time": "2022-12-12T06:43:39.101794",
     "status": "completed"
    },
    "tags": []
   },
   "outputs": [],
   "source": [
    "logger.log_figure(\"per-digit-roc-curves.png\", fig)"
   ]
  },
  {
   "cell_type": "code",
   "execution_count": 17,
   "id": "63c3d502",
   "metadata": {
    "execution": {
     "iopub.execute_input": "2022-12-12T06:43:39.364654Z",
     "iopub.status.busy": "2022-12-12T06:43:39.364398Z",
     "iopub.status.idle": "2022-12-12T06:43:39.368964Z",
     "shell.execute_reply": "2022-12-12T06:43:39.368390Z"
    },
    "papermill": {
     "duration": 0.013316,
     "end_time": "2022-12-12T06:43:39.370617",
     "exception": false,
     "start_time": "2022-12-12T06:43:39.357301",
     "status": "completed"
    },
    "tags": []
   },
   "outputs": [
    {
     "data": {
      "text/plain": [
       "{'0': 1.0,\n",
       " '1': 0.998912839737582,\n",
       " '2': 1.0,\n",
       " '3': 0.9998500468603562,\n",
       " '4': 0.9997713763145861,\n",
       " '5': 0.9996626054358013,\n",
       " '6': 0.999923792104862,\n",
       " '7': 0.9998475842097242,\n",
       " '8': 0.9957834174022698,\n",
       " '9': 0.9997332723670171}"
      ]
     },
     "execution_count": 17,
     "metadata": {},
     "output_type": "execute_result"
    }
   ],
   "source": [
    "roc_auc_dict"
   ]
  },
  {
   "cell_type": "code",
   "execution_count": 18,
   "id": "a6cd7dda",
   "metadata": {
    "execution": {
     "iopub.execute_input": "2022-12-12T06:43:39.384195Z",
     "iopub.status.busy": "2022-12-12T06:43:39.383317Z",
     "iopub.status.idle": "2022-12-12T06:43:39.388009Z",
     "shell.execute_reply": "2022-12-12T06:43:39.387371Z"
    },
    "papermill": {
     "duration": 0.013021,
     "end_time": "2022-12-12T06:43:39.389739",
     "exception": false,
     "start_time": "2022-12-12T06:43:39.376718",
     "status": "completed"
    },
    "tags": []
   },
   "outputs": [
    {
     "name": "stdout",
     "output_type": "stream",
     "text": [
      " - Logging roc_auc_per_digit (json) : {'0': 1.0, '1': 0.998912839737582, '2': 1.0, '3': 0.9998500468603562, '4': 0.9997713763145861, '5': 0.9996626054358013, '6': 0.999923792104862, '7': 0.9998475842097242, '8': 0.9957834174022698, '9': 0.9997332723670171}\n"
     ]
    }
   ],
   "source": [
    "logger.log_value(\"roc_auc_per_digit\", roc_auc_dict)"
   ]
  },
  {
   "cell_type": "markdown",
   "id": "8efff080",
   "metadata": {
    "papermill": {
     "duration": 0.00596,
     "end_time": "2022-12-12T06:43:39.401673",
     "exception": false,
     "start_time": "2022-12-12T06:43:39.395713",
     "status": "completed"
    },
    "tags": []
   },
   "source": [
    "### Compute and log mean ROC AUC score averaged over all digits"
   ]
  },
  {
   "cell_type": "code",
   "execution_count": 19,
   "id": "0d974c74",
   "metadata": {
    "execution": {
     "iopub.execute_input": "2022-12-12T06:43:39.415237Z",
     "iopub.status.busy": "2022-12-12T06:43:39.414766Z",
     "iopub.status.idle": "2022-12-12T06:43:39.430347Z",
     "shell.execute_reply": "2022-12-12T06:43:39.429678Z"
    },
    "papermill": {
     "duration": 0.024355,
     "end_time": "2022-12-12T06:43:39.431935",
     "exception": false,
     "start_time": "2022-12-12T06:43:39.407580",
     "status": "completed"
    },
    "tags": []
   },
   "outputs": [
    {
     "name": "stdout",
     "output_type": "stream",
     "text": [
      " - Logging roc_auc_class_mean (float) : 0.99934849344322\n"
     ]
    }
   ],
   "source": [
    "roc_auc_macro = np.mean(list(roc_auc_dict.values()))\n",
    "\n",
    "logger.log_float(\"roc_auc_class_mean\", roc_auc_macro)\n",
    "\n",
    "# assert that the same value can be computed directly using sklearn\n",
    "assert roc_auc_macro == metrics.roc_auc_score(\n",
    "    y_test, y_pred_probs_test, average=\"macro\", multi_class=\"ovr\"\n",
    ")"
   ]
  },
  {
   "cell_type": "code",
   "execution_count": 20,
   "id": "91bb4333",
   "metadata": {
    "execution": {
     "iopub.execute_input": "2022-12-12T06:43:39.447068Z",
     "iopub.status.busy": "2022-12-12T06:43:39.446592Z",
     "iopub.status.idle": "2022-12-12T06:43:39.449984Z",
     "shell.execute_reply": "2022-12-12T06:43:39.449071Z"
    },
    "lines_to_next_cell": 0,
    "papermill": {
     "duration": 0.012717,
     "end_time": "2022-12-12T06:43:39.451645",
     "exception": false,
     "start_time": "2022-12-12T06:43:39.438928",
     "status": "completed"
    },
    "tags": []
   },
   "outputs": [],
   "source": [
    "# ---"
   ]
  },
  {
   "cell_type": "code",
   "execution_count": null,
   "id": "d94a0524",
   "metadata": {
    "papermill": {
     "duration": 0.006277,
     "end_time": "2022-12-12T06:43:39.464672",
     "exception": false,
     "start_time": "2022-12-12T06:43:39.458395",
     "status": "completed"
    },
    "tags": []
   },
   "outputs": [],
   "source": []
  }
 ],
 "metadata": {
  "jupytext": {
   "cell_metadata_filter": "tags,-all",
   "main_language": "python",
   "notebook_metadata_filter": "-all"
  },
  "language_info": {
   "codemirror_mode": {
    "name": "ipython",
    "version": 3
   },
   "file_extension": ".py",
   "mimetype": "text/x-python",
   "name": "python",
   "nbconvert_exporter": "python",
   "pygments_lexer": "ipython3",
   "version": "3.8.10"
  },
  "papermill": {
   "default_parameters": {},
   "duration": 9.271091,
   "end_time": "2022-12-12T06:43:40.592188",
   "environment_variables": {},
   "exception": null,
   "input_path": "/home/host_user/workspace/mnist-demo-pipeline/mnist-demo-pipeline/notebooks/temp-notebook-97244yx4.ipynb",
   "output_path": "notebooks/benchmark-model.ipynb",
   "parameters": {
    "P": {
     "_opentelemetry_traceparent": "00-81120cfa575541747c90cc1ec8bd1d4e-c8dae1003658c7f4-01",
     "pipeline.data_lake_root": "/pipeline-outputs/data-lake",
     "pipeline.github.actor": "matiasdahl",
     "pipeline.github.base_ref": "",
     "pipeline.github.event_name": "schedule",
     "pipeline.github.head_ref": "",
     "pipeline.github.job": "run-tests-pipeline-and-persist-pipeline-outputs",
     "pipeline.github.ref": "refs/heads/development",
     "pipeline.github.ref_name": "development",
     "pipeline.github.ref_type": "branch",
     "pipeline.github.repository": "matiasdahl/dev-mnist-digits-demo-pipeline",
     "pipeline.github.run_id": "3673319405",
     "pipeline.github.runner_name": "Hosted Agent",
     "pipeline.github.sha": "ace0d01011d5e914f1921450dd5a59c11367b38d",
     "pipeline.github.workflow": "Run automated tests, pipeline and deploy results to static reporting site",
     "pipeline.pipeline_run_id": "6b58dea2-806c-44a2-9f3f-0209f67d6272",
     "pipeline.run_environment": "ci",
     "run.retry_nr": "0",
     "task.max_nr_retries": "1",
     "task.notebook": "notebooks/benchmark-model.py",
     "task.nr_train_images": 1200,
     "task.num_cpus": 1,
     "task.timeout_s": "None"
    }
   },
   "start_time": "2022-12-12T06:43:31.321097",
   "version": "2.3.3"
  }
 },
 "nbformat": 4,
 "nbformat_minor": 5
}