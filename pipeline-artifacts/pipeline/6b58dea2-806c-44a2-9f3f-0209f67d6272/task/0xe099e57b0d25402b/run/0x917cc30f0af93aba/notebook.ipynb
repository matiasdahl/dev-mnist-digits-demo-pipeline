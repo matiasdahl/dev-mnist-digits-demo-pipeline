{
 "cells": [
  {
   "cell_type": "markdown",
   "id": "6110e02e",
   "metadata": {
    "papermill": {
     "duration": 0.006477,
     "end_time": "2022-12-12T06:43:20.847989",
     "exception": false,
     "start_time": "2022-12-12T06:43:20.841512",
     "status": "completed"
    },
    "tags": []
   },
   "source": [
    "# Benchmark model\n",
    "\n",
    "The purpose of this notebook is to benchmark persisted onnx-model (trained in the\n",
    "previous step) against evaluation set."
   ]
  },
  {
   "cell_type": "markdown",
   "id": "f1edc264",
   "metadata": {
    "papermill": {
     "duration": 0.00687,
     "end_time": "2022-12-12T06:43:20.859665",
     "exception": false,
     "start_time": "2022-12-12T06:43:20.852795",
     "status": "completed"
    },
    "tags": []
   },
   "source": [
    "### Determine run parameters"
   ]
  },
  {
   "cell_type": "code",
   "execution_count": 1,
   "id": "5af2afe1",
   "metadata": {
    "execution": {
     "iopub.execute_input": "2022-12-12T06:43:20.870244Z",
     "iopub.status.busy": "2022-12-12T06:43:20.869612Z",
     "iopub.status.idle": "2022-12-12T06:43:20.877617Z",
     "shell.execute_reply": "2022-12-12T06:43:20.876993Z"
    },
    "lines_to_next_cell": 0,
    "papermill": {
     "duration": 0.017136,
     "end_time": "2022-12-12T06:43:20.881042",
     "exception": false,
     "start_time": "2022-12-12T06:43:20.863906",
     "status": "completed"
    },
    "tags": []
   },
   "outputs": [],
   "source": [
    "# ----------------- Parameters for interactive development --------------\n",
    "P = {\n",
    "    \"pipeline.data_lake_root\": \"/pipeline-outputs/data-lake\",\n",
    "    \"task.nr_train_images\": 600,\n",
    "}"
   ]
  },
  {
   "cell_type": "code",
   "execution_count": 2,
   "id": "516f2248",
   "metadata": {
    "execution": {
     "iopub.execute_input": "2022-12-12T06:43:20.892661Z",
     "iopub.status.busy": "2022-12-12T06:43:20.892384Z",
     "iopub.status.idle": "2022-12-12T06:43:20.896990Z",
     "shell.execute_reply": "2022-12-12T06:43:20.896443Z"
    },
    "lines_to_next_cell": 0,
    "papermill": {
     "duration": 0.012597,
     "end_time": "2022-12-12T06:43:20.899762",
     "exception": false,
     "start_time": "2022-12-12T06:43:20.887165",
     "status": "completed"
    },
    "tags": [
     "parameters"
    ]
   },
   "outputs": [],
   "source": [
    "# - During automated runs parameters will be injected in the below cell -"
   ]
  },
  {
   "cell_type": "code",
   "execution_count": 3,
   "id": "d5d5f7ea",
   "metadata": {
    "execution": {
     "iopub.execute_input": "2022-12-12T06:43:20.909894Z",
     "iopub.status.busy": "2022-12-12T06:43:20.909640Z",
     "iopub.status.idle": "2022-12-12T06:43:20.914339Z",
     "shell.execute_reply": "2022-12-12T06:43:20.913644Z"
    },
    "papermill": {
     "duration": 0.014325,
     "end_time": "2022-12-12T06:43:20.918076",
     "exception": false,
     "start_time": "2022-12-12T06:43:20.903751",
     "status": "completed"
    },
    "tags": [
     "injected-parameters"
    ]
   },
   "outputs": [],
   "source": [
    "# Parameters\n",
    "P = {\n",
    "    \"pipeline.data_lake_root\": \"/pipeline-outputs/data-lake\",\n",
    "    \"pipeline.run_environment\": \"ci\",\n",
    "    \"pipeline.pipeline_run_id\": \"6b58dea2-806c-44a2-9f3f-0209f67d6272\",\n",
    "    \"pipeline.github.repository\": \"matiasdahl/dev-mnist-digits-demo-pipeline\",\n",
    "    \"pipeline.github.workflow\": \"Run automated tests, pipeline and deploy results to static reporting site\",\n",
    "    \"pipeline.github.runner_name\": \"Hosted Agent\",\n",
    "    \"pipeline.github.run_id\": \"3673319405\",\n",
    "    \"pipeline.github.actor\": \"matiasdahl\",\n",
    "    \"pipeline.github.job\": \"run-tests-pipeline-and-persist-pipeline-outputs\",\n",
    "    \"pipeline.github.base_ref\": \"\",\n",
    "    \"pipeline.github.head_ref\": \"\",\n",
    "    \"pipeline.github.sha\": \"ace0d01011d5e914f1921450dd5a59c11367b38d\",\n",
    "    \"pipeline.github.ref\": \"refs/heads/development\",\n",
    "    \"pipeline.github.ref_type\": \"branch\",\n",
    "    \"pipeline.github.ref_name\": \"development\",\n",
    "    \"pipeline.github.event_name\": \"schedule\",\n",
    "    \"task.nr_train_images\": 600,\n",
    "    \"task.notebook\": \"notebooks/benchmark-model.py\",\n",
    "    \"task.max_nr_retries\": \"1\",\n",
    "    \"run.retry_nr\": \"0\",\n",
    "    \"task.timeout_s\": \"None\",\n",
    "    \"task.num_cpus\": 1,\n",
    "    \"_opentelemetry_traceparent\": \"00-81120cfa575541747c90cc1ec8bd1d4e-5a9ca042013a4975-01\",\n",
    "}\n"
   ]
  },
  {
   "cell_type": "code",
   "execution_count": 4,
   "id": "957e2ea1",
   "metadata": {
    "execution": {
     "iopub.execute_input": "2022-12-12T06:43:20.928553Z",
     "iopub.status.busy": "2022-12-12T06:43:20.928326Z",
     "iopub.status.idle": "2022-12-12T06:43:20.931212Z",
     "shell.execute_reply": "2022-12-12T06:43:20.930691Z"
    },
    "lines_to_next_cell": 0,
    "papermill": {
     "duration": 0.015021,
     "end_time": "2022-12-12T06:43:20.937536",
     "exception": false,
     "start_time": "2022-12-12T06:43:20.922515",
     "status": "completed"
    },
    "tags": []
   },
   "outputs": [],
   "source": [
    "# -----------------------------------------------------------------------"
   ]
  },
  {
   "cell_type": "markdown",
   "id": "539a27b2",
   "metadata": {
    "papermill": {
     "duration": 0.004376,
     "end_time": "2022-12-12T06:43:20.953284",
     "exception": false,
     "start_time": "2022-12-12T06:43:20.948908",
     "status": "completed"
    },
    "tags": []
   },
   "source": [
    "---"
   ]
  },
  {
   "cell_type": "markdown",
   "id": "b9b23c45",
   "metadata": {
    "lines_to_next_cell": 2,
    "papermill": {
     "duration": 0.521239,
     "end_time": "2022-12-12T06:43:21.479463",
     "exception": false,
     "start_time": "2022-12-12T06:43:20.958224",
     "status": "completed"
    },
    "tags": []
   },
   "source": [
    "### Notebook code"
   ]
  },
  {
   "cell_type": "code",
   "execution_count": 5,
   "id": "3210f099",
   "metadata": {
    "execution": {
     "iopub.execute_input": "2022-12-12T06:43:21.490536Z",
     "iopub.status.busy": "2022-12-12T06:43:21.490216Z",
     "iopub.status.idle": "2022-12-12T06:43:22.788470Z",
     "shell.execute_reply": "2022-12-12T06:43:22.787318Z"
    },
    "papermill": {
     "duration": 1.306416,
     "end_time": "2022-12-12T06:43:22.790471",
     "exception": false,
     "start_time": "2022-12-12T06:43:21.484055",
     "status": "completed"
    },
    "tags": []
   },
   "outputs": [
    {
     "name": "stderr",
     "output_type": "stream",
     "text": [
      "2022-12-12 06:43:22,545\tINFO worker.py:842 -- Connecting to existing Ray cluster at address: 172.17.0.2:6379\n"
     ]
    }
   ],
   "source": [
    "import itertools as it\n",
    "\n",
    "#\n",
    "import numpy as np\n",
    "import matplotlib.pyplot as plt\n",
    "\n",
    "#\n",
    "from pynb_dag_runner.tasks.task_opentelemetry_logging import PydarLogger\n",
    "\n",
    "#\n",
    "from common.io import datalake_root\n",
    "\n",
    "logger = PydarLogger(P)"
   ]
  },
  {
   "cell_type": "markdown",
   "id": "4afa5e6e",
   "metadata": {
    "papermill": {
     "duration": 0.004866,
     "end_time": "2022-12-12T06:43:22.800279",
     "exception": false,
     "start_time": "2022-12-12T06:43:22.795413",
     "status": "completed"
    },
    "tags": []
   },
   "source": [
    "## Load persisted onnx-model and evaluation data"
   ]
  },
  {
   "cell_type": "code",
   "execution_count": 6,
   "id": "09c0c60c",
   "metadata": {
    "execution": {
     "iopub.execute_input": "2022-12-12T06:43:22.812040Z",
     "iopub.status.busy": "2022-12-12T06:43:22.811552Z",
     "iopub.status.idle": "2022-12-12T06:43:22.815287Z",
     "shell.execute_reply": "2022-12-12T06:43:22.814613Z"
    },
    "papermill": {
     "duration": 0.014043,
     "end_time": "2022-12-12T06:43:22.819090",
     "exception": false,
     "start_time": "2022-12-12T06:43:22.805047",
     "status": "completed"
    },
    "tags": []
   },
   "outputs": [],
   "source": [
    "from common.io import read_onnx, get_onnx_inputs, get_onnx_outputs, read_numpy"
   ]
  },
  {
   "cell_type": "code",
   "execution_count": 7,
   "id": "3835c1cd",
   "metadata": {
    "execution": {
     "iopub.execute_input": "2022-12-12T06:43:22.833632Z",
     "iopub.status.busy": "2022-12-12T06:43:22.833221Z",
     "iopub.status.idle": "2022-12-12T06:43:22.842582Z",
     "shell.execute_reply": "2022-12-12T06:43:22.841509Z"
    },
    "lines_to_next_cell": 0,
    "papermill": {
     "duration": 0.016,
     "end_time": "2022-12-12T06:43:22.844292",
     "exception": false,
     "start_time": "2022-12-12T06:43:22.828292",
     "status": "completed"
    },
    "tags": []
   },
   "outputs": [],
   "source": [
    "onnx_inference_session = read_onnx(\n",
    "    datalake_root(P)\n",
    "    / \"models\"\n",
    "    / f\"nr_train_images={P['task.nr_train_images']}\"\n",
    "    / \"model.onnx\"\n",
    ")"
   ]
  },
  {
   "cell_type": "markdown",
   "id": "9bc59254",
   "metadata": {
    "papermill": {
     "duration": 0.004987,
     "end_time": "2022-12-12T06:43:22.854247",
     "exception": false,
     "start_time": "2022-12-12T06:43:22.849260",
     "status": "completed"
    },
    "tags": []
   },
   "source": [
    "### Record structure of inputs and outputs for ONNX model\n",
    "\n",
    "(this should likely be done in training notebook)"
   ]
  },
  {
   "cell_type": "code",
   "execution_count": 8,
   "id": "a030ff4b",
   "metadata": {
    "execution": {
     "iopub.execute_input": "2022-12-12T06:43:22.865277Z",
     "iopub.status.busy": "2022-12-12T06:43:22.864778Z",
     "iopub.status.idle": "2022-12-12T06:43:22.871078Z",
     "shell.execute_reply": "2022-12-12T06:43:22.870375Z"
    },
    "papermill": {
     "duration": 0.015193,
     "end_time": "2022-12-12T06:43:22.873830",
     "exception": false,
     "start_time": "2022-12-12T06:43:22.858637",
     "status": "completed"
    },
    "tags": []
   },
   "outputs": [
    {
     "name": "stdout",
     "output_type": "stream",
     "text": [
      "{\n",
      "  \"inputs\": [\n",
      "    {\n",
      "      \"name\": \"float_input_8x8_image\",\n",
      "      \"shape\": [\n",
      "        null,\n",
      "        64\n",
      "      ],\n",
      "      \"type\": \"tensor(float)\"\n",
      "    }\n",
      "  ],\n",
      "  \"outputs\": [\n",
      "    {\n",
      "      \"name\": \"output_label\",\n",
      "      \"shape\": [\n",
      "        null\n",
      "      ],\n",
      "      \"type\": \"tensor(int64)\"\n",
      "    },\n",
      "    {\n",
      "      \"name\": \"output_probability\",\n",
      "      \"shape\": [],\n",
      "      \"type\": \"seq(map(int64,tensor(float)))\"\n",
      "    }\n",
      "  ]\n",
      "}\n"
     ]
    }
   ],
   "source": [
    "import json\n",
    "\n",
    "onnx_io = json.dumps(\n",
    "    {\n",
    "        \"inputs\": get_onnx_inputs(onnx_inference_session),\n",
    "        \"outputs\": get_onnx_outputs(onnx_inference_session),\n",
    "    },\n",
    "    indent=2,\n",
    ")\n",
    "\n",
    "\n",
    "logger.log_artefact(\"onnx_io_structure.json\", onnx_io)\n",
    "print(onnx_io)"
   ]
  },
  {
   "cell_type": "markdown",
   "id": "d1347f6d",
   "metadata": {
    "papermill": {
     "duration": 0.004211,
     "end_time": "2022-12-12T06:43:22.883066",
     "exception": false,
     "start_time": "2022-12-12T06:43:22.878855",
     "status": "completed"
    },
    "tags": []
   },
   "source": [
    "### Evaluate model performance on evaluation data set"
   ]
  },
  {
   "cell_type": "code",
   "execution_count": 9,
   "id": "50e12296",
   "metadata": {
    "execution": {
     "iopub.execute_input": "2022-12-12T06:43:22.901232Z",
     "iopub.status.busy": "2022-12-12T06:43:22.900842Z",
     "iopub.status.idle": "2022-12-12T06:43:22.906437Z",
     "shell.execute_reply": "2022-12-12T06:43:22.905708Z"
    },
    "papermill": {
     "duration": 0.016336,
     "end_time": "2022-12-12T06:43:22.908791",
     "exception": false,
     "start_time": "2022-12-12T06:43:22.892455",
     "status": "completed"
    },
    "tags": []
   },
   "outputs": [],
   "source": [
    "# load evaluation data\n",
    "X_test = read_numpy(datalake_root(P) / \"test-data\" / \"digits.numpy\")\n",
    "y_test = read_numpy(datalake_root(P) / \"test-data\" / \"labels.numpy\")"
   ]
  },
  {
   "cell_type": "code",
   "execution_count": 10,
   "id": "fc6193f7",
   "metadata": {
    "execution": {
     "iopub.execute_input": "2022-12-12T06:43:22.919545Z",
     "iopub.status.busy": "2022-12-12T06:43:22.919168Z",
     "iopub.status.idle": "2022-12-12T06:43:22.938624Z",
     "shell.execute_reply": "2022-12-12T06:43:22.934358Z"
    },
    "papermill": {
     "duration": 0.028174,
     "end_time": "2022-12-12T06:43:22.941461",
     "exception": false,
     "start_time": "2022-12-12T06:43:22.913287",
     "status": "completed"
    },
    "tags": []
   },
   "outputs": [],
   "source": [
    "def get_model_outputs(X, onnx_inference_session):\n",
    "    y_pred_labels, y_pred_map = onnx_inference_session.run(\n",
    "        [\"output_label\", \"output_probability\"],\n",
    "        {\"float_input_8x8_image\": X.astype(np.float32)},\n",
    "    )\n",
    "    y_pred_probs = np.array(\n",
    "        [[probabilities[digit] for digit in range(10)] for probabilities in y_pred_map]\n",
    "    )\n",
    "\n",
    "    assert y_pred_labels.shape == (X.shape[0],)\n",
    "    assert y_pred_probs.shape == (X.shape[0], 10)\n",
    "\n",
    "    return y_pred_labels, y_pred_probs\n",
    "\n",
    "\n",
    "# Note: as shown in the training notebook, the predicted labels and probabilities\n",
    "# computed below need not be compatible.\n",
    "y_pred_labels_test, y_pred_probs_test = get_model_outputs(\n",
    "    X_test, onnx_inference_session\n",
    ")"
   ]
  },
  {
   "cell_type": "markdown",
   "id": "460c4355",
   "metadata": {
    "papermill": {
     "duration": 0.005264,
     "end_time": "2022-12-12T06:43:22.952239",
     "exception": false,
     "start_time": "2022-12-12T06:43:22.946975",
     "status": "completed"
    },
    "tags": []
   },
   "source": [
    "### Confusion matrix"
   ]
  },
  {
   "cell_type": "code",
   "execution_count": 11,
   "id": "a2cedb42",
   "metadata": {
    "execution": {
     "iopub.execute_input": "2022-12-12T06:43:22.964435Z",
     "iopub.status.busy": "2022-12-12T06:43:22.963482Z",
     "iopub.status.idle": "2022-12-12T06:43:22.967421Z",
     "shell.execute_reply": "2022-12-12T06:43:22.966697Z"
    },
    "papermill": {
     "duration": 0.013539,
     "end_time": "2022-12-12T06:43:22.970382",
     "exception": false,
     "start_time": "2022-12-12T06:43:22.956843",
     "status": "completed"
    },
    "tags": []
   },
   "outputs": [],
   "source": [
    "# TODO"
   ]
  },
  {
   "cell_type": "markdown",
   "id": "a5b8db6e",
   "metadata": {
    "papermill": {
     "duration": 0.005284,
     "end_time": "2022-12-12T06:43:22.980585",
     "exception": false,
     "start_time": "2022-12-12T06:43:22.975301",
     "status": "completed"
    },
    "tags": []
   },
   "source": [
    "### Plot predicted probabilities for each classifier over all evaluation digit images"
   ]
  },
  {
   "cell_type": "code",
   "execution_count": 12,
   "id": "1b06015f",
   "metadata": {
    "execution": {
     "iopub.execute_input": "2022-12-12T06:43:22.996572Z",
     "iopub.status.busy": "2022-12-12T06:43:22.995858Z",
     "iopub.status.idle": "2022-12-12T06:43:26.092949Z",
     "shell.execute_reply": "2022-12-12T06:43:26.092366Z"
    },
    "papermill": {
     "duration": 3.109538,
     "end_time": "2022-12-12T06:43:26.094600",
     "exception": false,
     "start_time": "2022-12-12T06:43:22.985062",
     "status": "completed"
    },
    "tags": []
   },
   "outputs": [
    {
     "data": {
      "image/png": "[encoded data removed]",
      "text/plain": [
       "<Figure size 1600x600 with 10 Axes>"
      ]
     },
     "metadata": {},
     "output_type": "display_data"
    }
   ],
   "source": [
    "def plot_per_digit_probabilities(y_pred_probs):\n",
    "    fig, axs = plt.subplots(nrows=2, ncols=5, figsize=(16, 6))\n",
    "\n",
    "    for (r, c), digit, ax in zip(\n",
    "        it.product(range(2), range(5)), range(10), axs.reshape(-1)\n",
    "    ):\n",
    "        ax.hist(y_pred_probs_test[:, digit], bins=20)\n",
    "\n",
    "        ax.set_title(f\"Digit {digit}\")\n",
    "        if r == 1 and c == 2:\n",
    "            ax.set_xlabel(\"probability\", fontsize=16)\n",
    "\n",
    "        if c == 0:\n",
    "            ax.set_ylabel(\"counts\", fontsize=16)\n",
    "        ax.set_yscale(\"log\")\n",
    "\n",
    "    fig.tight_layout()\n",
    "    fig.suptitle(\n",
    "        f\"Distributions of prediction probabilities for each digit \"\n",
    "        f\"(on evaluation data, n={y_pred_probs.shape[0]})\",\n",
    "        fontsize=20,\n",
    "    )\n",
    "    fig.tight_layout()\n",
    "    fig.show()\n",
    "\n",
    "    return fig\n",
    "\n",
    "\n",
    "fig = plot_per_digit_probabilities(y_pred_probs_test)"
   ]
  },
  {
   "cell_type": "markdown",
   "id": "3c4e2032",
   "metadata": {
    "papermill": {
     "duration": 0.00515,
     "end_time": "2022-12-12T06:43:26.105611",
     "exception": false,
     "start_time": "2022-12-12T06:43:26.100461",
     "status": "completed"
    },
    "tags": []
   },
   "source": [
    "From the above distributions we see that most digits have clear separation between\n",
    "high and lower probabilities. Morover, in each case there is roughly an order of\n",
    "magnitude more of digits with low probabilities. This is compatible with digits\n",
    "being roughly evenly distributed in the data."
   ]
  },
  {
   "cell_type": "code",
   "execution_count": 13,
   "id": "9c325f30",
   "metadata": {
    "execution": {
     "iopub.execute_input": "2022-12-12T06:43:26.117960Z",
     "iopub.status.busy": "2022-12-12T06:43:26.117391Z",
     "iopub.status.idle": "2022-12-12T06:43:26.595790Z",
     "shell.execute_reply": "2022-12-12T06:43:26.595104Z"
    },
    "papermill": {
     "duration": 0.486983,
     "end_time": "2022-12-12T06:43:26.597927",
     "exception": false,
     "start_time": "2022-12-12T06:43:26.110944",
     "status": "completed"
    },
    "tags": []
   },
   "outputs": [],
   "source": [
    "logger.log_figure(\"per-digit-probabilities.png\", fig)"
   ]
  },
  {
   "cell_type": "markdown",
   "id": "c41928fb",
   "metadata": {
    "papermill": {
     "duration": 0.006229,
     "end_time": "2022-12-12T06:43:26.614321",
     "exception": false,
     "start_time": "2022-12-12T06:43:26.608092",
     "status": "completed"
    },
    "tags": []
   },
   "source": [
    "### Plot ROC curves for individual one-vs-rest classifiers"
   ]
  },
  {
   "cell_type": "code",
   "execution_count": 14,
   "id": "2e32ccc8",
   "metadata": {
    "execution": {
     "iopub.execute_input": "2022-12-12T06:43:26.626970Z",
     "iopub.status.busy": "2022-12-12T06:43:26.626662Z",
     "iopub.status.idle": "2022-12-12T06:43:27.071353Z",
     "shell.execute_reply": "2022-12-12T06:43:27.070250Z"
    },
    "papermill": {
     "duration": 0.453601,
     "end_time": "2022-12-12T06:43:27.073255",
     "exception": false,
     "start_time": "2022-12-12T06:43:26.619654",
     "status": "completed"
    },
    "tags": []
   },
   "outputs": [],
   "source": [
    "from sklearn import metrics"
   ]
  },
  {
   "cell_type": "code",
   "execution_count": 15,
   "id": "1aa02638",
   "metadata": {
    "execution": {
     "iopub.execute_input": "2022-12-12T06:43:27.085739Z",
     "iopub.status.busy": "2022-12-12T06:43:27.085023Z",
     "iopub.status.idle": "2022-12-12T06:43:28.166287Z",
     "shell.execute_reply": "2022-12-12T06:43:28.165540Z"
    },
    "papermill": {
     "duration": 1.08905,
     "end_time": "2022-12-12T06:43:28.168051",
     "exception": false,
     "start_time": "2022-12-12T06:43:27.079001",
     "status": "completed"
    },
    "tags": []
   },
   "outputs": [
    {
     "data": {
      "image/png": "[encoded data removed]",
      "text/plain": [
       "<Figure size 1600x800 with 10 Axes>"
      ]
     },
     "metadata": {},
     "output_type": "display_data"
    }
   ],
   "source": [
    "def plot_roc_curves(y, y_pred_probs):\n",
    "    # based on example code\n",
    "    # https://scikit-learn.org/stable/auto_examples/model_selection/plot_roc.html\n",
    "\n",
    "    fig, axs = plt.subplots(nrows=2, ncols=5, figsize=(16, 8))\n",
    "\n",
    "    roc_auc_dict = {}\n",
    "\n",
    "    for (r, c), digit, ax in zip(\n",
    "        it.product(range(2), range(5)), range(10), axs.reshape(-1)\n",
    "    ):\n",
    "        fpr, tpr, _ = metrics.roc_curve(y == digit, y_pred_probs[:, digit])\n",
    "        auc = metrics.auc(fpr, tpr)\n",
    "        roc_auc_dict[str(digit)] = auc\n",
    "\n",
    "        ax.plot(fpr, tpr, label=f\"ROC AUC={round(auc, 3)}\")\n",
    "\n",
    "        ax.set_title(f\"\\nDigit {digit}\", fontsize=16)\n",
    "        if r == 1:\n",
    "            ax.set_xlabel(\"FPR\", fontsize=18)\n",
    "\n",
    "        if c == 0:\n",
    "            ax.set_ylabel(\"TPR\", fontsize=18)\n",
    "\n",
    "        ax.set_xlim([-0.05, 1.05])\n",
    "        ax.set_ylim([-0.05, 1.05])\n",
    "        ax.legend(loc=\"lower right\", frameon=False, fontsize=14)\n",
    "\n",
    "    fig.tight_layout()\n",
    "    fig.suptitle(\n",
    "        f\"ROC plots for one-vs-rest performances \"\n",
    "        f\"(on evaluation data, n={y_pred_probs_test.shape[1]}\",\n",
    "        fontsize=22,\n",
    "    )\n",
    "    fig.tight_layout()\n",
    "    fig.show()\n",
    "\n",
    "    return roc_auc_dict, fig\n",
    "\n",
    "\n",
    "roc_auc_dict, fig = plot_roc_curves(y_test, y_pred_probs_test)"
   ]
  },
  {
   "cell_type": "code",
   "execution_count": 16,
   "id": "915e61c3",
   "metadata": {
    "execution": {
     "iopub.execute_input": "2022-12-12T06:43:28.185990Z",
     "iopub.status.busy": "2022-12-12T06:43:28.185633Z",
     "iopub.status.idle": "2022-12-12T06:43:28.450433Z",
     "shell.execute_reply": "2022-12-12T06:43:28.449247Z"
    },
    "papermill": {
     "duration": 0.274648,
     "end_time": "2022-12-12T06:43:28.452495",
     "exception": false,
     "start_time": "2022-12-12T06:43:28.177847",
     "status": "completed"
    },
    "tags": []
   },
   "outputs": [],
   "source": [
    "logger.log_figure(\"per-digit-roc-curves.png\", fig)"
   ]
  },
  {
   "cell_type": "code",
   "execution_count": 17,
   "id": "67009bc3",
   "metadata": {
    "execution": {
     "iopub.execute_input": "2022-12-12T06:43:28.470480Z",
     "iopub.status.busy": "2022-12-12T06:43:28.470201Z",
     "iopub.status.idle": "2022-12-12T06:43:28.475363Z",
     "shell.execute_reply": "2022-12-12T06:43:28.474724Z"
    },
    "papermill": {
     "duration": 0.016795,
     "end_time": "2022-12-12T06:43:28.477789",
     "exception": false,
     "start_time": "2022-12-12T06:43:28.460994",
     "status": "completed"
    },
    "tags": []
   },
   "outputs": [
    {
     "data": {
      "text/plain": [
       "{'0': 1.0,\n",
       " '1': 0.9992127460168697,\n",
       " '2': 1.0,\n",
       " '3': 0.9998125585754452,\n",
       " '4': 0.9991617131534827,\n",
       " '5': 0.998987816307404,\n",
       " '6': 0.999923792104862,\n",
       " '7': 0.9998475842097241,\n",
       " '8': 0.994640605296343,\n",
       " '9': 0.9989711934156379}"
      ]
     },
     "execution_count": 17,
     "metadata": {},
     "output_type": "execute_result"
    }
   ],
   "source": [
    "roc_auc_dict"
   ]
  },
  {
   "cell_type": "code",
   "execution_count": 18,
   "id": "7d120449",
   "metadata": {
    "execution": {
     "iopub.execute_input": "2022-12-12T06:43:28.492749Z",
     "iopub.status.busy": "2022-12-12T06:43:28.492501Z",
     "iopub.status.idle": "2022-12-12T06:43:28.496963Z",
     "shell.execute_reply": "2022-12-12T06:43:28.496321Z"
    },
    "papermill": {
     "duration": 0.015198,
     "end_time": "2022-12-12T06:43:28.500012",
     "exception": false,
     "start_time": "2022-12-12T06:43:28.484814",
     "status": "completed"
    },
    "tags": []
   },
   "outputs": [
    {
     "name": "stdout",
     "output_type": "stream",
     "text": [
      " - Logging roc_auc_per_digit (json) : {'0': 1.0, '1': 0.9992127460168697, '2': 1.0, '3': 0.9998125585754452, '4': 0.9991617131534827, '5': 0.998987816307404, '6': 0.999923792104862, '7': 0.9998475842097241, '8': 0.994640605296343, '9': 0.9989711934156379}\n"
     ]
    }
   ],
   "source": [
    "logger.log_value(\"roc_auc_per_digit\", roc_auc_dict)"
   ]
  },
  {
   "cell_type": "markdown",
   "id": "1e693393",
   "metadata": {
    "papermill": {
     "duration": 0.008335,
     "end_time": "2022-12-12T06:43:28.515297",
     "exception": false,
     "start_time": "2022-12-12T06:43:28.506962",
     "status": "completed"
    },
    "tags": []
   },
   "source": [
    "### Compute and log mean ROC AUC score averaged over all digits"
   ]
  },
  {
   "cell_type": "code",
   "execution_count": 19,
   "id": "73a6efd2",
   "metadata": {
    "execution": {
     "iopub.execute_input": "2022-12-12T06:43:28.531165Z",
     "iopub.status.busy": "2022-12-12T06:43:28.530671Z",
     "iopub.status.idle": "2022-12-12T06:43:28.543061Z",
     "shell.execute_reply": "2022-12-12T06:43:28.542446Z"
    },
    "papermill": {
     "duration": 0.022223,
     "end_time": "2022-12-12T06:43:28.544446",
     "exception": false,
     "start_time": "2022-12-12T06:43:28.522223",
     "status": "completed"
    },
    "tags": []
   },
   "outputs": [
    {
     "name": "stdout",
     "output_type": "stream",
     "text": [
      " - Logging roc_auc_class_mean (float) : 0.9990558009079769\n"
     ]
    }
   ],
   "source": [
    "roc_auc_macro = np.mean(list(roc_auc_dict.values()))\n",
    "\n",
    "logger.log_float(\"roc_auc_class_mean\", roc_auc_macro)\n",
    "\n",
    "# assert that the same value can be computed directly using sklearn\n",
    "assert roc_auc_macro == metrics.roc_auc_score(\n",
    "    y_test, y_pred_probs_test, average=\"macro\", multi_class=\"ovr\"\n",
    ")"
   ]
  },
  {
   "cell_type": "code",
   "execution_count": 20,
   "id": "fc7342d2",
   "metadata": {
    "execution": {
     "iopub.execute_input": "2022-12-12T06:43:28.559460Z",
     "iopub.status.busy": "2022-12-12T06:43:28.558668Z",
     "iopub.status.idle": "2022-12-12T06:43:28.561881Z",
     "shell.execute_reply": "2022-12-12T06:43:28.561326Z"
    },
    "lines_to_next_cell": 0,
    "papermill": {
     "duration": 0.011926,
     "end_time": "2022-12-12T06:43:28.563186",
     "exception": false,
     "start_time": "2022-12-12T06:43:28.551260",
     "status": "completed"
    },
    "tags": []
   },
   "outputs": [],
   "source": [
    "# ---"
   ]
  },
  {
   "cell_type": "code",
   "execution_count": null,
   "id": "73f79b16",
   "metadata": {
    "papermill": {
     "duration": 0.006443,
     "end_time": "2022-12-12T06:43:28.576281",
     "exception": false,
     "start_time": "2022-12-12T06:43:28.569838",
     "status": "completed"
    },
    "tags": []
   },
   "outputs": [],
   "source": []
  }
 ],
 "metadata": {
  "jupytext": {
   "cell_metadata_filter": "tags,-all",
   "main_language": "python",
   "notebook_metadata_filter": "-all"
  },
  "language_info": {
   "codemirror_mode": {
    "name": "ipython",
    "version": 3
   },
   "file_extension": ".py",
   "mimetype": "text/x-python",
   "name": "python",
   "nbconvert_exporter": "python",
   "pygments_lexer": "ipython3",
   "version": "3.8.10"
  },
  "papermill": {
   "default_parameters": {},
   "duration": 10.536661,
   "end_time": "2022-12-12T06:43:29.904642",
   "environment_variables": {},
   "exception": null,
   "input_path": "/home/host_user/workspace/mnist-demo-pipeline/mnist-demo-pipeline/notebooks/temp-notebook-2_tz4_sv.ipynb",
   "output_path": "notebooks/benchmark-model.ipynb",
   "parameters": {
    "P": {
     "_opentelemetry_traceparent": "00-81120cfa575541747c90cc1ec8bd1d4e-5a9ca042013a4975-01",
     "pipeline.data_lake_root": "/pipeline-outputs/data-lake",
     "pipeline.github.actor": "matiasdahl",
     "pipeline.github.base_ref": "",
     "pipeline.github.event_name": "schedule",
     "pipeline.github.head_ref": "",
     "pipeline.github.job": "run-tests-pipeline-and-persist-pipeline-outputs",
     "pipeline.github.ref": "refs/heads/development",
     "pipeline.github.ref_name": "development",
     "pipeline.github.ref_type": "branch",
     "pipeline.github.repository": "matiasdahl/dev-mnist-digits-demo-pipeline",
     "pipeline.github.run_id": "3673319405",
     "pipeline.github.runner_name": "Hosted Agent",
     "pipeline.github.sha": "ace0d01011d5e914f1921450dd5a59c11367b38d",
     "pipeline.github.workflow": "Run automated tests, pipeline and deploy results to static reporting site",
     "pipeline.pipeline_run_id": "6b58dea2-806c-44a2-9f3f-0209f67d6272",
     "pipeline.run_environment": "ci",
     "run.retry_nr": "0",
     "task.max_nr_retries": "1",
     "task.notebook": "notebooks/benchmark-model.py",
     "task.nr_train_images": 600,
     "task.num_cpus": 1,
     "task.timeout_s": "None"
    }
   },
   "start_time": "2022-12-12T06:43:19.367981",
   "version": "2.3.3"
  }
 },
 "nbformat": 4,
 "nbformat_minor": 5
}