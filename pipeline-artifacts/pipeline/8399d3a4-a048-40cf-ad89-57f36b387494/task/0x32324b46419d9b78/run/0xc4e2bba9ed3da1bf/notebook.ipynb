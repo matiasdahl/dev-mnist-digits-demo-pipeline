{
 "cells": [
  {
   "cell_type": "markdown",
   "id": "245c31f5",
   "metadata": {
    "papermill": {
     "duration": 0.003556,
     "end_time": "2022-12-08T06:43:04.250658",
     "exception": false,
     "start_time": "2022-12-08T06:43:04.247102",
     "status": "completed"
    },
    "tags": []
   },
   "source": [
    "# Summarize model performances\n",
    "\n",
    "This notebooks plots the performances (using averaged ROC AUC scores) for models\n",
    "trained with different training sets."
   ]
  },
  {
   "cell_type": "markdown",
   "id": "c2cfafd8",
   "metadata": {
    "papermill": {
     "duration": 0.002439,
     "end_time": "2022-12-08T06:43:04.256399",
     "exception": false,
     "start_time": "2022-12-08T06:43:04.253960",
     "status": "completed"
    },
    "tags": []
   },
   "source": [
    "### Determine run parameters"
   ]
  },
  {
   "cell_type": "code",
   "execution_count": 1,
   "id": "89da57c3",
   "metadata": {
    "execution": {
     "iopub.execute_input": "2022-12-08T06:43:04.263349Z",
     "iopub.status.busy": "2022-12-08T06:43:04.262428Z",
     "iopub.status.idle": "2022-12-08T06:43:04.270812Z",
     "shell.execute_reply": "2022-12-08T06:43:04.270239Z"
    },
    "lines_to_next_cell": 0,
    "papermill": {
     "duration": 0.013284,
     "end_time": "2022-12-08T06:43:04.272245",
     "exception": false,
     "start_time": "2022-12-08T06:43:04.258961",
     "status": "completed"
    },
    "tags": []
   },
   "outputs": [],
   "source": [
    "# ----------------- Parameters for interactive development --------------\n",
    "P = {\n",
    "    \"pipeline.run_environment\": \"dev\",\n",
    "}"
   ]
  },
  {
   "cell_type": "code",
   "execution_count": 2,
   "id": "fcfb2ab8",
   "metadata": {
    "execution": {
     "iopub.execute_input": "2022-12-08T06:43:04.281556Z",
     "iopub.status.busy": "2022-12-08T06:43:04.281145Z",
     "iopub.status.idle": "2022-12-08T06:43:04.284376Z",
     "shell.execute_reply": "2022-12-08T06:43:04.283878Z"
    },
    "lines_to_next_cell": 0,
    "papermill": {
     "duration": 0.010546,
     "end_time": "2022-12-08T06:43:04.285821",
     "exception": false,
     "start_time": "2022-12-08T06:43:04.275275",
     "status": "completed"
    },
    "tags": [
     "parameters"
    ]
   },
   "outputs": [],
   "source": [
    "# - During automated runs parameters will be injected in the below cell -"
   ]
  },
  {
   "cell_type": "code",
   "execution_count": 3,
   "id": "c8ce6a35",
   "metadata": {
    "execution": {
     "iopub.execute_input": "2022-12-08T06:43:04.292047Z",
     "iopub.status.busy": "2022-12-08T06:43:04.291545Z",
     "iopub.status.idle": "2022-12-08T06:43:04.296044Z",
     "shell.execute_reply": "2022-12-08T06:43:04.295386Z"
    },
    "papermill": {
     "duration": 0.009142,
     "end_time": "2022-12-08T06:43:04.297437",
     "exception": false,
     "start_time": "2022-12-08T06:43:04.288295",
     "status": "completed"
    },
    "tags": [
     "injected-parameters"
    ]
   },
   "outputs": [],
   "source": [
    "# Parameters\n",
    "P = {\n",
    "    \"pipeline.data_lake_root\": \"/pipeline-outputs/data-lake\",\n",
    "    \"pipeline.run_environment\": \"ci\",\n",
    "    \"pipeline.pipeline_run_id\": \"8399d3a4-a048-40cf-ad89-57f36b387494\",\n",
    "    \"pipeline.github.repository\": \"matiasdahl/dev-mnist-digits-demo-pipeline\",\n",
    "    \"pipeline.github.workflow\": \"Run automated tests, pipeline and deploy results to static reporting site\",\n",
    "    \"pipeline.github.runner_name\": \"Hosted Agent\",\n",
    "    \"pipeline.github.run_id\": \"3645923404\",\n",
    "    \"pipeline.github.actor\": \"matiasdahl\",\n",
    "    \"pipeline.github.job\": \"run-tests-pipeline-and-persist-pipeline-outputs\",\n",
    "    \"pipeline.github.base_ref\": \"\",\n",
    "    \"pipeline.github.head_ref\": \"\",\n",
    "    \"pipeline.github.sha\": \"ace0d01011d5e914f1921450dd5a59c11367b38d\",\n",
    "    \"pipeline.github.ref\": \"refs/heads/development\",\n",
    "    \"pipeline.github.ref_type\": \"branch\",\n",
    "    \"pipeline.github.ref_name\": \"development\",\n",
    "    \"pipeline.github.event_name\": \"schedule\",\n",
    "    \"task.notebook\": \"notebooks/summary.py\",\n",
    "    \"task.max_nr_retries\": \"1\",\n",
    "    \"run.retry_nr\": \"0\",\n",
    "    \"task.timeout_s\": \"None\",\n",
    "    \"task.num_cpus\": 1,\n",
    "    \"_opentelemetry_traceparent\": \"00-2d2770f1382e84497779055bc8562e6a-7bc39f7175acb18a-01\",\n",
    "}\n"
   ]
  },
  {
   "cell_type": "code",
   "execution_count": 4,
   "id": "41eb5be2",
   "metadata": {
    "execution": {
     "iopub.execute_input": "2022-12-08T06:43:04.303966Z",
     "iopub.status.busy": "2022-12-08T06:43:04.303079Z",
     "iopub.status.idle": "2022-12-08T06:43:04.306270Z",
     "shell.execute_reply": "2022-12-08T06:43:04.305742Z"
    },
    "lines_to_next_cell": 0,
    "papermill": {
     "duration": 0.007645,
     "end_time": "2022-12-08T06:43:04.307586",
     "exception": false,
     "start_time": "2022-12-08T06:43:04.299941",
     "status": "completed"
    },
    "tags": []
   },
   "outputs": [],
   "source": [
    "# -----------------------------------------------------------------------"
   ]
  },
  {
   "cell_type": "markdown",
   "id": "ade04730",
   "metadata": {
    "papermill": {
     "duration": 0.002408,
     "end_time": "2022-12-08T06:43:04.312546",
     "exception": false,
     "start_time": "2022-12-08T06:43:04.310138",
     "status": "completed"
    },
    "tags": []
   },
   "source": [
    "---"
   ]
  },
  {
   "cell_type": "markdown",
   "id": "d6d56981",
   "metadata": {
    "lines_to_next_cell": 2,
    "papermill": {
     "duration": 0.002593,
     "end_time": "2022-12-08T06:43:04.317832",
     "exception": false,
     "start_time": "2022-12-08T06:43:04.315239",
     "status": "completed"
    },
    "tags": []
   },
   "source": [
    "### Notebook code"
   ]
  },
  {
   "cell_type": "code",
   "execution_count": 5,
   "id": "fd6488aa",
   "metadata": {
    "execution": {
     "iopub.execute_input": "2022-12-08T06:43:04.324263Z",
     "iopub.status.busy": "2022-12-08T06:43:04.323551Z",
     "iopub.status.idle": "2022-12-08T06:43:05.366105Z",
     "shell.execute_reply": "2022-12-08T06:43:05.365417Z"
    },
    "papermill": {
     "duration": 1.047413,
     "end_time": "2022-12-08T06:43:05.367844",
     "exception": false,
     "start_time": "2022-12-08T06:43:04.320431",
     "status": "completed"
    },
    "tags": []
   },
   "outputs": [],
   "source": [
    "#\n",
    "import pandas as pd\n",
    "import matplotlib.pyplot as plt\n",
    "\n",
    "#\n",
    "from pynb_dag_runner.tasks.task_opentelemetry_logging import PydarLogger"
   ]
  },
  {
   "cell_type": "code",
   "execution_count": 6,
   "id": "cad317d2",
   "metadata": {
    "execution": {
     "iopub.execute_input": "2022-12-08T06:43:05.375024Z",
     "iopub.status.busy": "2022-12-08T06:43:05.374545Z",
     "iopub.status.idle": "2022-12-08T06:43:05.523977Z",
     "shell.execute_reply": "2022-12-08T06:43:05.523029Z"
    },
    "papermill": {
     "duration": 0.155586,
     "end_time": "2022-12-08T06:43:05.526242",
     "exception": false,
     "start_time": "2022-12-08T06:43:05.370656",
     "status": "completed"
    },
    "tags": []
   },
   "outputs": [
    {
     "name": "stderr",
     "output_type": "stream",
     "text": [
      "2022-12-08 06:43:05,378\tINFO worker.py:842 -- Connecting to existing Ray cluster at address: 172.17.0.2:6379\n"
     ]
    }
   ],
   "source": [
    "logger = PydarLogger(P=P)"
   ]
  },
  {
   "cell_type": "code",
   "execution_count": 7,
   "id": "8a8c7e75",
   "metadata": {
    "execution": {
     "iopub.execute_input": "2022-12-08T06:43:05.535554Z",
     "iopub.status.busy": "2022-12-08T06:43:05.535155Z",
     "iopub.status.idle": "2022-12-08T06:43:05.543061Z",
     "shell.execute_reply": "2022-12-08T06:43:05.541365Z"
    },
    "papermill": {
     "duration": 0.013497,
     "end_time": "2022-12-08T06:43:05.544637",
     "exception": false,
     "start_time": "2022-12-08T06:43:05.531140",
     "status": "completed"
    },
    "tags": []
   },
   "outputs": [],
   "source": [
    "from pynb_dag_runner.tasks.task_opentelemetry_logging import (\n",
    "    PydarLogger,\n",
    "    get_logged_values,\n",
    ")\n",
    "from pynb_dag_runner.opentelemetry_helpers import _get_all_spans, Spans"
   ]
  },
  {
   "cell_type": "code",
   "execution_count": 8,
   "id": "c662f732",
   "metadata": {
    "execution": {
     "iopub.execute_input": "2022-12-08T06:43:05.551601Z",
     "iopub.status.busy": "2022-12-08T06:43:05.551385Z",
     "iopub.status.idle": "2022-12-08T06:43:05.559069Z",
     "shell.execute_reply": "2022-12-08T06:43:05.558107Z"
    },
    "papermill": {
     "duration": 0.012978,
     "end_time": "2022-12-08T06:43:05.560536",
     "exception": false,
     "start_time": "2022-12-08T06:43:05.547558",
     "status": "completed"
    },
    "tags": []
   },
   "outputs": [],
   "source": [
    "def get_model_benchmarks():\n",
    "    \"\"\"\n",
    "    Query the OpenTelemetry logs for *this pipeline run* and return\n",
    "    all key-values logged from all runs of the benchmark-model.py task\n",
    "\n",
    "    For testing a json file with OpenTelemetry spans (as an array)\n",
    "    can be used as follows:\n",
    "\n",
    "    - Create output directory `mkdir /tmp/spans`\n",
    "    - Run unit tests. This will create pipeline-outputs/opentelemetry-spans.json\n",
    "    - Convert this json-array into jsonl format as follows\n",
    "\n",
    "    jq -c '.[]' /pipeline-outputs/opentelemetry-spans.json > /tmp/spans/data.txt\n",
    "\n",
    "    \"\"\"\n",
    "    spans: Spans = Spans(_get_all_spans())\n",
    "    print(f\"Found {len(spans)} spans\")\n",
    "\n",
    "    benchmark_spans = (\n",
    "        spans\n",
    "        # -\n",
    "        .filter([\"name\"], \"execute-task\")\n",
    "        # -\n",
    "        .filter([\"attributes\", \"task.notebook\"], \"notebooks/benchmark-model.py\")\n",
    "    )\n",
    "\n",
    "    result = []\n",
    "    for s in benchmark_spans:\n",
    "        result.append(\n",
    "            {\n",
    "                \"span_id\": s[\"context\"][\"span_id\"],\n",
    "                \"nr_train_images\": s[\"attributes\"][\"task.nr_train_images\"],\n",
    "                \"data\": get_logged_values(spans.bound_under(s)),\n",
    "            }\n",
    "        )\n",
    "\n",
    "    return result\n",
    "\n",
    "\n",
    "def adjust_pandas(df):\n",
    "    def column_renamer(col_name: str) -> str:\n",
    "        return (\n",
    "            col_name\n",
    "            # -- 'data.roc_auc_per_digit.4' -> 'roc_auc.4'\n",
    "            .replace(\"data.roc_auc_per_digit\", \"roc_auc\")\n",
    "            # -- 'data.roc_auc_class_mean' -> 'roc_auc_mean'\n",
    "            .replace(\"data.roc_auc_class_mean\", \"roc_auc_mean\")\n",
    "        )\n",
    "\n",
    "    return df.rename(column_renamer, axis=\"columns\").sort_values(by=\"nr_train_images\")"
   ]
  },
  {
   "cell_type": "code",
   "execution_count": 9,
   "id": "c7bd7fc0",
   "metadata": {
    "execution": {
     "iopub.execute_input": "2022-12-08T06:43:05.567662Z",
     "iopub.status.busy": "2022-12-08T06:43:05.567431Z",
     "iopub.status.idle": "2022-12-08T06:43:05.605306Z",
     "shell.execute_reply": "2022-12-08T06:43:05.604674Z"
    },
    "papermill": {
     "duration": 0.043617,
     "end_time": "2022-12-08T06:43:05.607043",
     "exception": false,
     "start_time": "2022-12-08T06:43:05.563426",
     "status": "completed"
    },
    "tags": []
   },
   "outputs": [
    {
     "name": "stdout",
     "output_type": "stream",
     "text": [
      "Found 420 spans\n"
     ]
    }
   ],
   "source": [
    "df_data = adjust_pandas(pd.json_normalize(get_model_benchmarks()))"
   ]
  },
  {
   "cell_type": "code",
   "execution_count": 10,
   "id": "d7b1c39a",
   "metadata": {
    "execution": {
     "iopub.execute_input": "2022-12-08T06:43:05.615283Z",
     "iopub.status.busy": "2022-12-08T06:43:05.615050Z",
     "iopub.status.idle": "2022-12-08T06:43:05.642150Z",
     "shell.execute_reply": "2022-12-08T06:43:05.641568Z"
    },
    "papermill": {
     "duration": 0.032601,
     "end_time": "2022-12-08T06:43:05.643914",
     "exception": false,
     "start_time": "2022-12-08T06:43:05.611313",
     "status": "completed"
    },
    "tags": []
   },
   "outputs": [
    {
     "data": {
      "text/html": [
       "<div>\n",
       "<style scoped>\n",
       "    .dataframe tbody tr th:only-of-type {\n",
       "        vertical-align: middle;\n",
       "    }\n",
       "\n",
       "    .dataframe tbody tr th {\n",
       "        vertical-align: top;\n",
       "    }\n",
       "\n",
       "    .dataframe thead th {\n",
       "        text-align: right;\n",
       "    }\n",
       "</style>\n",
       "<table border=\"1\" class=\"dataframe\">\n",
       "  <thead>\n",
       "    <tr style=\"text-align: right;\">\n",
       "      <th></th>\n",
       "      <th>span_id</th>\n",
       "      <th>nr_train_images</th>\n",
       "      <th>roc_auc_mean</th>\n",
       "      <th>roc_auc.0</th>\n",
       "      <th>roc_auc.1</th>\n",
       "      <th>roc_auc.2</th>\n",
       "      <th>roc_auc.3</th>\n",
       "      <th>roc_auc.4</th>\n",
       "      <th>roc_auc.5</th>\n",
       "      <th>roc_auc.6</th>\n",
       "      <th>roc_auc.7</th>\n",
       "      <th>roc_auc.8</th>\n",
       "      <th>roc_auc.9</th>\n",
       "    </tr>\n",
       "  </thead>\n",
       "  <tbody>\n",
       "    <tr>\n",
       "      <th>2</th>\n",
       "      <td>0x33213f2667a2b45c</td>\n",
       "      <td>600</td>\n",
       "      <td>0.9990</td>\n",
       "      <td>1.0</td>\n",
       "      <td>0.9992</td>\n",
       "      <td>1.0</td>\n",
       "      <td>0.9998</td>\n",
       "      <td>0.9991</td>\n",
       "      <td>0.9988</td>\n",
       "      <td>0.9999</td>\n",
       "      <td>0.9998</td>\n",
       "      <td>0.9946</td>\n",
       "      <td>0.9988</td>\n",
       "    </tr>\n",
       "    <tr>\n",
       "      <th>3</th>\n",
       "      <td>0x02eda1e9c8e094ef</td>\n",
       "      <td>800</td>\n",
       "      <td>0.9989</td>\n",
       "      <td>1.0</td>\n",
       "      <td>0.9988</td>\n",
       "      <td>1.0</td>\n",
       "      <td>0.9998</td>\n",
       "      <td>0.9995</td>\n",
       "      <td>0.9992</td>\n",
       "      <td>1.0000</td>\n",
       "      <td>0.9999</td>\n",
       "      <td>0.9927</td>\n",
       "      <td>0.9994</td>\n",
       "    </tr>\n",
       "    <tr>\n",
       "      <th>1</th>\n",
       "      <td>0x9b1d3d585c98d82b</td>\n",
       "      <td>1000</td>\n",
       "      <td>0.9992</td>\n",
       "      <td>1.0</td>\n",
       "      <td>0.9990</td>\n",
       "      <td>1.0</td>\n",
       "      <td>0.9999</td>\n",
       "      <td>0.9997</td>\n",
       "      <td>0.9994</td>\n",
       "      <td>0.9999</td>\n",
       "      <td>0.9998</td>\n",
       "      <td>0.9951</td>\n",
       "      <td>0.9996</td>\n",
       "    </tr>\n",
       "    <tr>\n",
       "      <th>0</th>\n",
       "      <td>0xc4286012447af252</td>\n",
       "      <td>1200</td>\n",
       "      <td>0.9994</td>\n",
       "      <td>1.0</td>\n",
       "      <td>0.9991</td>\n",
       "      <td>1.0</td>\n",
       "      <td>0.9999</td>\n",
       "      <td>0.9997</td>\n",
       "      <td>0.9997</td>\n",
       "      <td>0.9999</td>\n",
       "      <td>0.9998</td>\n",
       "      <td>0.9959</td>\n",
       "      <td>0.9998</td>\n",
       "    </tr>\n",
       "  </tbody>\n",
       "</table>\n",
       "</div>"
      ],
      "text/plain": [
       "              span_id  nr_train_images  roc_auc_mean  roc_auc.0  roc_auc.1  \\\n",
       "2  0x33213f2667a2b45c              600        0.9990        1.0     0.9992   \n",
       "3  0x02eda1e9c8e094ef              800        0.9989        1.0     0.9988   \n",
       "1  0x9b1d3d585c98d82b             1000        0.9992        1.0     0.9990   \n",
       "0  0xc4286012447af252             1200        0.9994        1.0     0.9991   \n",
       "\n",
       "   roc_auc.2  roc_auc.3  roc_auc.4  roc_auc.5  roc_auc.6  roc_auc.7  \\\n",
       "2        1.0     0.9998     0.9991     0.9988     0.9999     0.9998   \n",
       "3        1.0     0.9998     0.9995     0.9992     1.0000     0.9999   \n",
       "1        1.0     0.9999     0.9997     0.9994     0.9999     0.9998   \n",
       "0        1.0     0.9999     0.9997     0.9997     0.9999     0.9998   \n",
       "\n",
       "   roc_auc.8  roc_auc.9  \n",
       "2     0.9946     0.9988  \n",
       "3     0.9927     0.9994  \n",
       "1     0.9951     0.9996  \n",
       "0     0.9959     0.9998  "
      ]
     },
     "execution_count": 10,
     "metadata": {},
     "output_type": "execute_result"
    }
   ],
   "source": [
    "df_data.round(4)"
   ]
  },
  {
   "cell_type": "code",
   "execution_count": 11,
   "id": "3c8242c4",
   "metadata": {
    "execution": {
     "iopub.execute_input": "2022-12-08T06:43:05.651880Z",
     "iopub.status.busy": "2022-12-08T06:43:05.651457Z",
     "iopub.status.idle": "2022-12-08T06:43:05.810682Z",
     "shell.execute_reply": "2022-12-08T06:43:05.809997Z"
    },
    "papermill": {
     "duration": 0.164647,
     "end_time": "2022-12-08T06:43:05.812106",
     "exception": false,
     "start_time": "2022-12-08T06:43:05.647459",
     "status": "completed"
    },
    "tags": []
   },
   "outputs": [
    {
     "data": {
      "image/png": "[encoded data removed]",
      "text/plain": [
       "<Figure size 1600x400 with 1 Axes>"
      ]
     },
     "metadata": {},
     "output_type": "display_data"
    }
   ],
   "source": [
    "def plot_classifier_performance_summary(df_data):\n",
    "    fig, ax = plt.subplots(nrows=1, ncols=1, figsize=(16, 4), sharex=True)\n",
    "\n",
    "    #\n",
    "    ax.plot(\n",
    "        df_data[\"nr_train_images\"], df_data[\"roc_auc_mean\"], marker=\"o\", linestyle=\"--\"\n",
    "    )\n",
    "    ax.set_title(\n",
    "        f\"ROC AUC digit classifier performance on evaluation digits\", fontsize=17\n",
    "    )\n",
    "    ax.set_xlabel(\"Total number of digits in training set\", fontsize=14)\n",
    "    ax.set_ylabel(\"Mean ROC AUC\", fontsize=14)\n",
    "\n",
    "    fig.tight_layout()\n",
    "    fig.show()\n",
    "\n",
    "    return fig\n",
    "\n",
    "\n",
    "fig = plot_classifier_performance_summary(df_data)"
   ]
  },
  {
   "cell_type": "code",
   "execution_count": 12,
   "id": "9aa80946",
   "metadata": {
    "execution": {
     "iopub.execute_input": "2022-12-08T06:43:05.821091Z",
     "iopub.status.busy": "2022-12-08T06:43:05.820783Z",
     "iopub.status.idle": "2022-12-08T06:43:05.891262Z",
     "shell.execute_reply": "2022-12-08T06:43:05.890659Z"
    },
    "papermill": {
     "duration": 0.077499,
     "end_time": "2022-12-08T06:43:05.893403",
     "exception": false,
     "start_time": "2022-12-08T06:43:05.815904",
     "status": "completed"
    },
    "tags": []
   },
   "outputs": [],
   "source": [
    "logger.log_figure(\"auc-roc-model-performances.png\", fig)"
   ]
  },
  {
   "cell_type": "code",
   "execution_count": 13,
   "id": "226516cd",
   "metadata": {
    "execution": {
     "iopub.execute_input": "2022-12-08T06:43:05.903813Z",
     "iopub.status.busy": "2022-12-08T06:43:05.903573Z",
     "iopub.status.idle": "2022-12-08T06:43:05.906488Z",
     "shell.execute_reply": "2022-12-08T06:43:05.905925Z"
    },
    "papermill": {
     "duration": 0.010046,
     "end_time": "2022-12-08T06:43:05.907780",
     "exception": false,
     "start_time": "2022-12-08T06:43:05.897734",
     "status": "completed"
    },
    "tags": []
   },
   "outputs": [],
   "source": [
    "###"
   ]
  },
  {
   "cell_type": "code",
   "execution_count": null,
   "id": "7c3c89d3",
   "metadata": {
    "papermill": {
     "duration": 0.004032,
     "end_time": "2022-12-08T06:43:05.915675",
     "exception": false,
     "start_time": "2022-12-08T06:43:05.911643",
     "status": "completed"
    },
    "tags": []
   },
   "outputs": [],
   "source": []
  }
 ],
 "metadata": {
  "jupytext": {
   "cell_metadata_filter": "tags,-all",
   "main_language": "python",
   "notebook_metadata_filter": "-all"
  },
  "language_info": {
   "codemirror_mode": {
    "name": "ipython",
    "version": 3
   },
   "file_extension": ".py",
   "mimetype": "text/x-python",
   "name": "python",
   "nbconvert_exporter": "python",
   "pygments_lexer": "ipython3",
   "version": "3.8.10"
  },
  "papermill": {
   "default_parameters": {},
   "duration": 3.718014,
   "end_time": "2022-12-08T06:43:06.840217",
   "environment_variables": {},
   "exception": null,
   "input_path": "/home/host_user/workspace/mnist-demo-pipeline/mnist-demo-pipeline/notebooks/temp-notebook-pn7nor_0.ipynb",
   "output_path": "notebooks/summary.ipynb",
   "parameters": {
    "P": {
     "_opentelemetry_traceparent": "00-2d2770f1382e84497779055bc8562e6a-7bc39f7175acb18a-01",
     "pipeline.data_lake_root": "/pipeline-outputs/data-lake",
     "pipeline.github.actor": "matiasdahl",
     "pipeline.github.base_ref": "",
     "pipeline.github.event_name": "schedule",
     "pipeline.github.head_ref": "",
     "pipeline.github.job": "run-tests-pipeline-and-persist-pipeline-outputs",
     "pipeline.github.ref": "refs/heads/development",
     "pipeline.github.ref_name": "development",
     "pipeline.github.ref_type": "branch",
     "pipeline.github.repository": "matiasdahl/dev-mnist-digits-demo-pipeline",
     "pipeline.github.run_id": "3645923404",
     "pipeline.github.runner_name": "Hosted Agent",
     "pipeline.github.sha": "ace0d01011d5e914f1921450dd5a59c11367b38d",
     "pipeline.github.workflow": "Run automated tests, pipeline and deploy results to static reporting site",
     "pipeline.pipeline_run_id": "8399d3a4-a048-40cf-ad89-57f36b387494",
     "pipeline.run_environment": "ci",
     "run.retry_nr": "0",
     "task.max_nr_retries": "1",
     "task.notebook": "notebooks/summary.py",
     "task.num_cpus": 1,
     "task.timeout_s": "None"
    }
   },
   "start_time": "2022-12-08T06:43:03.122203",
   "version": "2.3.3"
  }
 },
 "nbformat": 4,
 "nbformat_minor": 5
}