{
 "cells": [
  {
   "cell_type": "markdown",
   "id": "3158c937",
   "metadata": {
    "papermill": {
     "duration": 0.005722,
     "end_time": "2022-12-08T06:42:49.357182",
     "exception": false,
     "start_time": "2022-12-08T06:42:49.351460",
     "status": "completed"
    },
    "tags": []
   },
   "source": [
    "# Benchmark model\n",
    "\n",
    "The purpose of this notebook is to benchmark persisted onnx-model (trained in the\n",
    "previous step) against evaluation set."
   ]
  },
  {
   "cell_type": "markdown",
   "id": "430a8ce2",
   "metadata": {
    "papermill": {
     "duration": 0.00454,
     "end_time": "2022-12-08T06:42:49.366302",
     "exception": false,
     "start_time": "2022-12-08T06:42:49.361762",
     "status": "completed"
    },
    "tags": []
   },
   "source": [
    "### Determine run parameters"
   ]
  },
  {
   "cell_type": "code",
   "execution_count": 1,
   "id": "4bc2b7ce",
   "metadata": {
    "execution": {
     "iopub.execute_input": "2022-12-08T06:42:49.375911Z",
     "iopub.status.busy": "2022-12-08T06:42:49.375608Z",
     "iopub.status.idle": "2022-12-08T06:42:49.384494Z",
     "shell.execute_reply": "2022-12-08T06:42:49.383936Z"
    },
    "lines_to_next_cell": 0,
    "papermill": {
     "duration": 0.016017,
     "end_time": "2022-12-08T06:42:49.386344",
     "exception": false,
     "start_time": "2022-12-08T06:42:49.370327",
     "status": "completed"
    },
    "tags": []
   },
   "outputs": [],
   "source": [
    "# ----------------- Parameters for interactive development --------------\n",
    "P = {\n",
    "    \"pipeline.data_lake_root\": \"/pipeline-outputs/data-lake\",\n",
    "    \"task.nr_train_images\": 600,\n",
    "}"
   ]
  },
  {
   "cell_type": "code",
   "execution_count": 2,
   "id": "f2a07b09",
   "metadata": {
    "execution": {
     "iopub.execute_input": "2022-12-08T06:42:49.395995Z",
     "iopub.status.busy": "2022-12-08T06:42:49.395791Z",
     "iopub.status.idle": "2022-12-08T06:42:49.398801Z",
     "shell.execute_reply": "2022-12-08T06:42:49.398286Z"
    },
    "lines_to_next_cell": 0,
    "papermill": {
     "duration": 0.010742,
     "end_time": "2022-12-08T06:42:49.401415",
     "exception": false,
     "start_time": "2022-12-08T06:42:49.390673",
     "status": "completed"
    },
    "tags": [
     "parameters"
    ]
   },
   "outputs": [],
   "source": [
    "# - During automated runs parameters will be injected in the below cell -"
   ]
  },
  {
   "cell_type": "code",
   "execution_count": 3,
   "id": "286aae8f",
   "metadata": {
    "execution": {
     "iopub.execute_input": "2022-12-08T06:42:49.411266Z",
     "iopub.status.busy": "2022-12-08T06:42:49.411063Z",
     "iopub.status.idle": "2022-12-08T06:42:49.415685Z",
     "shell.execute_reply": "2022-12-08T06:42:49.415201Z"
    },
    "papermill": {
     "duration": 0.012274,
     "end_time": "2022-12-08T06:42:49.418014",
     "exception": false,
     "start_time": "2022-12-08T06:42:49.405740",
     "status": "completed"
    },
    "tags": [
     "injected-parameters"
    ]
   },
   "outputs": [],
   "source": [
    "# Parameters\n",
    "P = {\n",
    "    \"pipeline.data_lake_root\": \"/pipeline-outputs/data-lake\",\n",
    "    \"pipeline.run_environment\": \"ci\",\n",
    "    \"pipeline.pipeline_run_id\": \"8399d3a4-a048-40cf-ad89-57f36b387494\",\n",
    "    \"pipeline.github.repository\": \"matiasdahl/dev-mnist-digits-demo-pipeline\",\n",
    "    \"pipeline.github.workflow\": \"Run automated tests, pipeline and deploy results to static reporting site\",\n",
    "    \"pipeline.github.runner_name\": \"Hosted Agent\",\n",
    "    \"pipeline.github.run_id\": \"3645923404\",\n",
    "    \"pipeline.github.actor\": \"matiasdahl\",\n",
    "    \"pipeline.github.job\": \"run-tests-pipeline-and-persist-pipeline-outputs\",\n",
    "    \"pipeline.github.base_ref\": \"\",\n",
    "    \"pipeline.github.head_ref\": \"\",\n",
    "    \"pipeline.github.sha\": \"ace0d01011d5e914f1921450dd5a59c11367b38d\",\n",
    "    \"pipeline.github.ref\": \"refs/heads/development\",\n",
    "    \"pipeline.github.ref_type\": \"branch\",\n",
    "    \"pipeline.github.ref_name\": \"development\",\n",
    "    \"pipeline.github.event_name\": \"schedule\",\n",
    "    \"task.nr_train_images\": 1000,\n",
    "    \"task.notebook\": \"notebooks/benchmark-model.py\",\n",
    "    \"task.max_nr_retries\": \"1\",\n",
    "    \"run.retry_nr\": \"0\",\n",
    "    \"task.timeout_s\": \"None\",\n",
    "    \"task.num_cpus\": 1,\n",
    "    \"_opentelemetry_traceparent\": \"00-2d2770f1382e84497779055bc8562e6a-2f4f31f491c4ca06-01\",\n",
    "}\n"
   ]
  },
  {
   "cell_type": "code",
   "execution_count": 4,
   "id": "e0de2e13",
   "metadata": {
    "execution": {
     "iopub.execute_input": "2022-12-08T06:42:49.436020Z",
     "iopub.status.busy": "2022-12-08T06:42:49.435816Z",
     "iopub.status.idle": "2022-12-08T06:42:49.439084Z",
     "shell.execute_reply": "2022-12-08T06:42:49.437854Z"
    },
    "lines_to_next_cell": 0,
    "papermill": {
     "duration": 0.019312,
     "end_time": "2022-12-08T06:42:49.441685",
     "exception": false,
     "start_time": "2022-12-08T06:42:49.422373",
     "status": "completed"
    },
    "tags": []
   },
   "outputs": [],
   "source": [
    "# -----------------------------------------------------------------------"
   ]
  },
  {
   "cell_type": "markdown",
   "id": "1d6ca4f9",
   "metadata": {
    "papermill": {
     "duration": 0.004156,
     "end_time": "2022-12-08T06:42:49.450280",
     "exception": false,
     "start_time": "2022-12-08T06:42:49.446124",
     "status": "completed"
    },
    "tags": []
   },
   "source": [
    "---"
   ]
  },
  {
   "cell_type": "markdown",
   "id": "cc7fcaf5",
   "metadata": {
    "lines_to_next_cell": 2,
    "papermill": {
     "duration": 0.004246,
     "end_time": "2022-12-08T06:42:49.458742",
     "exception": false,
     "start_time": "2022-12-08T06:42:49.454496",
     "status": "completed"
    },
    "tags": []
   },
   "source": [
    "### Notebook code"
   ]
  },
  {
   "cell_type": "code",
   "execution_count": 5,
   "id": "229f4a8a",
   "metadata": {
    "execution": {
     "iopub.execute_input": "2022-12-08T06:42:49.468566Z",
     "iopub.status.busy": "2022-12-08T06:42:49.468354Z",
     "iopub.status.idle": "2022-12-08T06:42:50.518664Z",
     "shell.execute_reply": "2022-12-08T06:42:50.517742Z"
    },
    "papermill": {
     "duration": 1.057529,
     "end_time": "2022-12-08T06:42:50.520551",
     "exception": false,
     "start_time": "2022-12-08T06:42:49.463022",
     "status": "completed"
    },
    "tags": []
   },
   "outputs": [
    {
     "name": "stderr",
     "output_type": "stream",
     "text": [
      "2022-12-08 06:42:50,364\tINFO worker.py:842 -- Connecting to existing Ray cluster at address: 172.17.0.2:6379\n"
     ]
    }
   ],
   "source": [
    "import itertools as it\n",
    "\n",
    "#\n",
    "import numpy as np\n",
    "import matplotlib.pyplot as plt\n",
    "\n",
    "#\n",
    "from pynb_dag_runner.tasks.task_opentelemetry_logging import PydarLogger\n",
    "\n",
    "#\n",
    "from common.io import datalake_root\n",
    "\n",
    "logger = PydarLogger(P)"
   ]
  },
  {
   "cell_type": "markdown",
   "id": "57db1d21",
   "metadata": {
    "papermill": {
     "duration": 0.004239,
     "end_time": "2022-12-08T06:42:50.529606",
     "exception": false,
     "start_time": "2022-12-08T06:42:50.525367",
     "status": "completed"
    },
    "tags": []
   },
   "source": [
    "## Load persisted onnx-model and evaluation data"
   ]
  },
  {
   "cell_type": "code",
   "execution_count": 6,
   "id": "8a505437",
   "metadata": {
    "execution": {
     "iopub.execute_input": "2022-12-08T06:42:50.539074Z",
     "iopub.status.busy": "2022-12-08T06:42:50.538763Z",
     "iopub.status.idle": "2022-12-08T06:42:50.541864Z",
     "shell.execute_reply": "2022-12-08T06:42:50.541320Z"
    },
    "papermill": {
     "duration": 0.01063,
     "end_time": "2022-12-08T06:42:50.544354",
     "exception": false,
     "start_time": "2022-12-08T06:42:50.533724",
     "status": "completed"
    },
    "tags": []
   },
   "outputs": [],
   "source": [
    "from common.io import read_onnx, get_onnx_inputs, get_onnx_outputs, read_numpy"
   ]
  },
  {
   "cell_type": "code",
   "execution_count": 7,
   "id": "376594a0",
   "metadata": {
    "execution": {
     "iopub.execute_input": "2022-12-08T06:42:50.554326Z",
     "iopub.status.busy": "2022-12-08T06:42:50.554115Z",
     "iopub.status.idle": "2022-12-08T06:42:50.564471Z",
     "shell.execute_reply": "2022-12-08T06:42:50.563958Z"
    },
    "lines_to_next_cell": 0,
    "papermill": {
     "duration": 0.016705,
     "end_time": "2022-12-08T06:42:50.566108",
     "exception": false,
     "start_time": "2022-12-08T06:42:50.549403",
     "status": "completed"
    },
    "tags": []
   },
   "outputs": [],
   "source": [
    "onnx_inference_session = read_onnx(\n",
    "    datalake_root(P)\n",
    "    / \"models\"\n",
    "    / f\"nr_train_images={P['task.nr_train_images']}\"\n",
    "    / \"model.onnx\"\n",
    ")"
   ]
  },
  {
   "cell_type": "markdown",
   "id": "044cfe72",
   "metadata": {
    "papermill": {
     "duration": 0.00415,
     "end_time": "2022-12-08T06:42:50.574335",
     "exception": false,
     "start_time": "2022-12-08T06:42:50.570185",
     "status": "completed"
    },
    "tags": []
   },
   "source": [
    "### Record structure of inputs and outputs for ONNX model\n",
    "\n",
    "(this should likely be done in training notebook)"
   ]
  },
  {
   "cell_type": "code",
   "execution_count": 8,
   "id": "fb888a45",
   "metadata": {
    "execution": {
     "iopub.execute_input": "2022-12-08T06:42:50.583730Z",
     "iopub.status.busy": "2022-12-08T06:42:50.583521Z",
     "iopub.status.idle": "2022-12-08T06:42:50.592033Z",
     "shell.execute_reply": "2022-12-08T06:42:50.591358Z"
    },
    "papermill": {
     "duration": 0.015107,
     "end_time": "2022-12-08T06:42:50.593697",
     "exception": false,
     "start_time": "2022-12-08T06:42:50.578590",
     "status": "completed"
    },
    "tags": []
   },
   "outputs": [
    {
     "name": "stdout",
     "output_type": "stream",
     "text": [
      "{\n",
      "  \"inputs\": [\n",
      "    {\n",
      "      \"name\": \"float_input_8x8_image\",\n",
      "      \"shape\": [\n",
      "        null,\n",
      "        64\n",
      "      ],\n",
      "      \"type\": \"tensor(float)\"\n",
      "    }\n",
      "  ],\n",
      "  \"outputs\": [\n",
      "    {\n",
      "      \"name\": \"output_label\",\n",
      "      \"shape\": [\n",
      "        null\n",
      "      ],\n",
      "      \"type\": \"tensor(int64)\"\n",
      "    },\n",
      "    {\n",
      "      \"name\": \"output_probability\",\n",
      "      \"shape\": [],\n",
      "      \"type\": \"seq(map(int64,tensor(float)))\"\n",
      "    }\n",
      "  ]\n",
      "}\n"
     ]
    }
   ],
   "source": [
    "import json\n",
    "\n",
    "onnx_io = json.dumps(\n",
    "    {\n",
    "        \"inputs\": get_onnx_inputs(onnx_inference_session),\n",
    "        \"outputs\": get_onnx_outputs(onnx_inference_session),\n",
    "    },\n",
    "    indent=2,\n",
    ")\n",
    "\n",
    "\n",
    "logger.log_artefact(\"onnx_io_structure.json\", onnx_io)\n",
    "print(onnx_io)"
   ]
  },
  {
   "cell_type": "markdown",
   "id": "456d6694",
   "metadata": {
    "papermill": {
     "duration": 0.004072,
     "end_time": "2022-12-08T06:42:50.602150",
     "exception": false,
     "start_time": "2022-12-08T06:42:50.598078",
     "status": "completed"
    },
    "tags": []
   },
   "source": [
    "### Evaluate model performance on evaluation data set"
   ]
  },
  {
   "cell_type": "code",
   "execution_count": 9,
   "id": "d4b29ad7",
   "metadata": {
    "execution": {
     "iopub.execute_input": "2022-12-08T06:42:50.611571Z",
     "iopub.status.busy": "2022-12-08T06:42:50.611364Z",
     "iopub.status.idle": "2022-12-08T06:42:50.615611Z",
     "shell.execute_reply": "2022-12-08T06:42:50.615082Z"
    },
    "papermill": {
     "duration": 0.011584,
     "end_time": "2022-12-08T06:42:50.618170",
     "exception": false,
     "start_time": "2022-12-08T06:42:50.606586",
     "status": "completed"
    },
    "tags": []
   },
   "outputs": [],
   "source": [
    "# load evaluation data\n",
    "X_test = read_numpy(datalake_root(P) / \"test-data\" / \"digits.numpy\")\n",
    "y_test = read_numpy(datalake_root(P) / \"test-data\" / \"labels.numpy\")"
   ]
  },
  {
   "cell_type": "code",
   "execution_count": 10,
   "id": "21688279",
   "metadata": {
    "execution": {
     "iopub.execute_input": "2022-12-08T06:42:50.628080Z",
     "iopub.status.busy": "2022-12-08T06:42:50.627873Z",
     "iopub.status.idle": "2022-12-08T06:42:50.675973Z",
     "shell.execute_reply": "2022-12-08T06:42:50.675446Z"
    },
    "papermill": {
     "duration": 0.055556,
     "end_time": "2022-12-08T06:42:50.677943",
     "exception": false,
     "start_time": "2022-12-08T06:42:50.622387",
     "status": "completed"
    },
    "tags": []
   },
   "outputs": [],
   "source": [
    "def get_model_outputs(X, onnx_inference_session):\n",
    "    y_pred_labels, y_pred_map = onnx_inference_session.run(\n",
    "        [\"output_label\", \"output_probability\"],\n",
    "        {\"float_input_8x8_image\": X.astype(np.float32)},\n",
    "    )\n",
    "    y_pred_probs = np.array(\n",
    "        [[probabilities[digit] for digit in range(10)] for probabilities in y_pred_map]\n",
    "    )\n",
    "\n",
    "    assert y_pred_labels.shape == (X.shape[0],)\n",
    "    assert y_pred_probs.shape == (X.shape[0], 10)\n",
    "\n",
    "    return y_pred_labels, y_pred_probs\n",
    "\n",
    "\n",
    "# Note: as shown in the training notebook, the predicted labels and probabilities\n",
    "# computed below need not be compatible.\n",
    "y_pred_labels_test, y_pred_probs_test = get_model_outputs(\n",
    "    X_test, onnx_inference_session\n",
    ")"
   ]
  },
  {
   "cell_type": "markdown",
   "id": "052b15d2",
   "metadata": {
    "papermill": {
     "duration": 0.004894,
     "end_time": "2022-12-08T06:42:50.687722",
     "exception": false,
     "start_time": "2022-12-08T06:42:50.682828",
     "status": "completed"
    },
    "tags": []
   },
   "source": [
    "### Confusion matrix"
   ]
  },
  {
   "cell_type": "code",
   "execution_count": 11,
   "id": "d0eae815",
   "metadata": {
    "execution": {
     "iopub.execute_input": "2022-12-08T06:42:50.697125Z",
     "iopub.status.busy": "2022-12-08T06:42:50.696902Z",
     "iopub.status.idle": "2022-12-08T06:42:50.699842Z",
     "shell.execute_reply": "2022-12-08T06:42:50.699332Z"
    },
    "papermill": {
     "duration": 0.010243,
     "end_time": "2022-12-08T06:42:50.702078",
     "exception": false,
     "start_time": "2022-12-08T06:42:50.691835",
     "status": "completed"
    },
    "tags": []
   },
   "outputs": [],
   "source": [
    "# TODO"
   ]
  },
  {
   "cell_type": "markdown",
   "id": "b25f1bde",
   "metadata": {
    "papermill": {
     "duration": 0.004227,
     "end_time": "2022-12-08T06:42:50.711093",
     "exception": false,
     "start_time": "2022-12-08T06:42:50.706866",
     "status": "completed"
    },
    "tags": []
   },
   "source": [
    "### Plot predicted probabilities for each classifier over all evaluation digit images"
   ]
  },
  {
   "cell_type": "code",
   "execution_count": 12,
   "id": "0a2845c6",
   "metadata": {
    "execution": {
     "iopub.execute_input": "2022-12-08T06:42:50.721014Z",
     "iopub.status.busy": "2022-12-08T06:42:50.720803Z",
     "iopub.status.idle": "2022-12-08T06:42:53.372163Z",
     "shell.execute_reply": "2022-12-08T06:42:53.371460Z"
    },
    "papermill": {
     "duration": 2.657965,
     "end_time": "2022-12-08T06:42:53.373660",
     "exception": false,
     "start_time": "2022-12-08T06:42:50.715695",
     "status": "completed"
    },
    "tags": []
   },
   "outputs": [
    {
     "data": {
      "image/png": "[encoded data removed]",
      "text/plain": [
       "<Figure size 1600x600 with 10 Axes>"
      ]
     },
     "metadata": {},
     "output_type": "display_data"
    }
   ],
   "source": [
    "def plot_per_digit_probabilities(y_pred_probs):\n",
    "    fig, axs = plt.subplots(nrows=2, ncols=5, figsize=(16, 6))\n",
    "\n",
    "    for (r, c), digit, ax in zip(\n",
    "        it.product(range(2), range(5)), range(10), axs.reshape(-1)\n",
    "    ):\n",
    "        ax.hist(y_pred_probs_test[:, digit], bins=20)\n",
    "\n",
    "        ax.set_title(f\"Digit {digit}\")\n",
    "        if r == 1 and c == 2:\n",
    "            ax.set_xlabel(\"probability\", fontsize=16)\n",
    "\n",
    "        if c == 0:\n",
    "            ax.set_ylabel(\"counts\", fontsize=16)\n",
    "        ax.set_yscale(\"log\")\n",
    "\n",
    "    fig.tight_layout()\n",
    "    fig.suptitle(\n",
    "        f\"Distributions of prediction probabilities for each digit \"\n",
    "        f\"(on evaluation data, n={y_pred_probs.shape[0]})\",\n",
    "        fontsize=20,\n",
    "    )\n",
    "    fig.tight_layout()\n",
    "    fig.show()\n",
    "\n",
    "    return fig\n",
    "\n",
    "\n",
    "fig = plot_per_digit_probabilities(y_pred_probs_test)"
   ]
  },
  {
   "cell_type": "markdown",
   "id": "ff2774fc",
   "metadata": {
    "papermill": {
     "duration": 0.004952,
     "end_time": "2022-12-08T06:42:53.384137",
     "exception": false,
     "start_time": "2022-12-08T06:42:53.379185",
     "status": "completed"
    },
    "tags": []
   },
   "source": [
    "From the above distributions we see that most digits have clear separation between\n",
    "high and lower probabilities. Morover, in each case there is roughly an order of\n",
    "magnitude more of digits with low probabilities. This is compatible with digits\n",
    "being roughly evenly distributed in the data."
   ]
  },
  {
   "cell_type": "code",
   "execution_count": 13,
   "id": "879b1db9",
   "metadata": {
    "execution": {
     "iopub.execute_input": "2022-12-08T06:42:53.395403Z",
     "iopub.status.busy": "2022-12-08T06:42:53.395152Z",
     "iopub.status.idle": "2022-12-08T06:42:53.825835Z",
     "shell.execute_reply": "2022-12-08T06:42:53.825014Z"
    },
    "papermill": {
     "duration": 0.438368,
     "end_time": "2022-12-08T06:42:53.827585",
     "exception": false,
     "start_time": "2022-12-08T06:42:53.389217",
     "status": "completed"
    },
    "tags": []
   },
   "outputs": [],
   "source": [
    "logger.log_figure(\"per-digit-probabilities.png\", fig)"
   ]
  },
  {
   "cell_type": "markdown",
   "id": "62b19840",
   "metadata": {
    "papermill": {
     "duration": 0.005135,
     "end_time": "2022-12-08T06:42:53.839295",
     "exception": false,
     "start_time": "2022-12-08T06:42:53.834160",
     "status": "completed"
    },
    "tags": []
   },
   "source": [
    "### Plot ROC curves for individual one-vs-rest classifiers"
   ]
  },
  {
   "cell_type": "code",
   "execution_count": 14,
   "id": "b7663dfa",
   "metadata": {
    "execution": {
     "iopub.execute_input": "2022-12-08T06:42:53.853036Z",
     "iopub.status.busy": "2022-12-08T06:42:53.852709Z",
     "iopub.status.idle": "2022-12-08T06:42:54.219093Z",
     "shell.execute_reply": "2022-12-08T06:42:54.218097Z"
    },
    "papermill": {
     "duration": 0.374337,
     "end_time": "2022-12-08T06:42:54.220786",
     "exception": false,
     "start_time": "2022-12-08T06:42:53.846449",
     "status": "completed"
    },
    "tags": []
   },
   "outputs": [],
   "source": [
    "from sklearn import metrics"
   ]
  },
  {
   "cell_type": "code",
   "execution_count": 15,
   "id": "799b8c53",
   "metadata": {
    "execution": {
     "iopub.execute_input": "2022-12-08T06:42:54.233560Z",
     "iopub.status.busy": "2022-12-08T06:42:54.233154Z",
     "iopub.status.idle": "2022-12-08T06:42:55.274128Z",
     "shell.execute_reply": "2022-12-08T06:42:55.273409Z"
    },
    "papermill": {
     "duration": 1.048976,
     "end_time": "2022-12-08T06:42:55.275919",
     "exception": false,
     "start_time": "2022-12-08T06:42:54.226943",
     "status": "completed"
    },
    "tags": []
   },
   "outputs": [
    {
     "data": {
      "image/png": "[encoded data removed]",
      "text/plain": [
       "<Figure size 1600x800 with 10 Axes>"
      ]
     },
     "metadata": {},
     "output_type": "display_data"
    }
   ],
   "source": [
    "def plot_roc_curves(y, y_pred_probs):\n",
    "    # based on example code\n",
    "    # https://scikit-learn.org/stable/auto_examples/model_selection/plot_roc.html\n",
    "\n",
    "    fig, axs = plt.subplots(nrows=2, ncols=5, figsize=(16, 8))\n",
    "\n",
    "    roc_auc_dict = {}\n",
    "\n",
    "    for (r, c), digit, ax in zip(\n",
    "        it.product(range(2), range(5)), range(10), axs.reshape(-1)\n",
    "    ):\n",
    "        fpr, tpr, _ = metrics.roc_curve(y == digit, y_pred_probs[:, digit])\n",
    "        auc = metrics.auc(fpr, tpr)\n",
    "        roc_auc_dict[str(digit)] = auc\n",
    "\n",
    "        ax.plot(fpr, tpr, label=f\"ROC AUC={round(auc, 3)}\")\n",
    "\n",
    "        ax.set_title(f\"\\nDigit {digit}\", fontsize=16)\n",
    "        if r == 1:\n",
    "            ax.set_xlabel(\"FPR\", fontsize=18)\n",
    "\n",
    "        if c == 0:\n",
    "            ax.set_ylabel(\"TPR\", fontsize=18)\n",
    "\n",
    "        ax.set_xlim([-0.05, 1.05])\n",
    "        ax.set_ylim([-0.05, 1.05])\n",
    "        ax.legend(loc=\"lower right\", frameon=False, fontsize=14)\n",
    "\n",
    "    fig.tight_layout()\n",
    "    fig.suptitle(\n",
    "        f\"ROC plots for one-vs-rest performances \"\n",
    "        f\"(on evaluation data, n={y_pred_probs_test.shape[1]}\",\n",
    "        fontsize=22,\n",
    "    )\n",
    "    fig.tight_layout()\n",
    "    fig.show()\n",
    "\n",
    "    return roc_auc_dict, fig\n",
    "\n",
    "\n",
    "roc_auc_dict, fig = plot_roc_curves(y_test, y_pred_probs_test)"
   ]
  },
  {
   "cell_type": "code",
   "execution_count": 16,
   "id": "77b13c9a",
   "metadata": {
    "execution": {
     "iopub.execute_input": "2022-12-08T06:42:55.290008Z",
     "iopub.status.busy": "2022-12-08T06:42:55.289710Z",
     "iopub.status.idle": "2022-12-08T06:42:55.533990Z",
     "shell.execute_reply": "2022-12-08T06:42:55.533311Z"
    },
    "papermill": {
     "duration": 0.253316,
     "end_time": "2022-12-08T06:42:55.535661",
     "exception": false,
     "start_time": "2022-12-08T06:42:55.282345",
     "status": "completed"
    },
    "tags": []
   },
   "outputs": [],
   "source": [
    "logger.log_figure(\"per-digit-roc-curves.png\", fig)"
   ]
  },
  {
   "cell_type": "code",
   "execution_count": 17,
   "id": "cd81bf42",
   "metadata": {
    "execution": {
     "iopub.execute_input": "2022-12-08T06:42:55.549973Z",
     "iopub.status.busy": "2022-12-08T06:42:55.549605Z",
     "iopub.status.idle": "2022-12-08T06:42:55.554106Z",
     "shell.execute_reply": "2022-12-08T06:42:55.553518Z"
    },
    "papermill": {
     "duration": 0.014351,
     "end_time": "2022-12-08T06:42:55.556705",
     "exception": false,
     "start_time": "2022-12-08T06:42:55.542354",
     "status": "completed"
    },
    "tags": []
   },
   "outputs": [
    {
     "data": {
      "text/plain": [
       "{'0': 1.0,\n",
       " '1': 0.998987816307404,\n",
       " '2': 1.0,\n",
       " '3': 0.9998500468603562,\n",
       " '4': 0.9996570644718793,\n",
       " '5': 0.9994001874414246,\n",
       " '6': 0.999923792104862,\n",
       " '7': 0.9997713763145862,\n",
       " '8': 0.9950740857503153,\n",
       " '9': 0.9995808565767414}"
      ]
     },
     "execution_count": 17,
     "metadata": {},
     "output_type": "execute_result"
    }
   ],
   "source": [
    "roc_auc_dict"
   ]
  },
  {
   "cell_type": "code",
   "execution_count": 18,
   "id": "f45f1a4e",
   "metadata": {
    "execution": {
     "iopub.execute_input": "2022-12-08T06:42:55.571125Z",
     "iopub.status.busy": "2022-12-08T06:42:55.570827Z",
     "iopub.status.idle": "2022-12-08T06:42:55.574922Z",
     "shell.execute_reply": "2022-12-08T06:42:55.574285Z"
    },
    "papermill": {
     "duration": 0.013657,
     "end_time": "2022-12-08T06:42:55.577299",
     "exception": false,
     "start_time": "2022-12-08T06:42:55.563642",
     "status": "completed"
    },
    "tags": []
   },
   "outputs": [
    {
     "name": "stdout",
     "output_type": "stream",
     "text": [
      " - Logging roc_auc_per_digit (json) : {'0': 1.0, '1': 0.998987816307404, '2': 1.0, '3': 0.9998500468603562, '4': 0.9996570644718793, '5': 0.9994001874414246, '6': 0.999923792104862, '7': 0.9997713763145862, '8': 0.9950740857503153, '9': 0.9995808565767414}\n"
     ]
    }
   ],
   "source": [
    "logger.log_value(\"roc_auc_per_digit\", roc_auc_dict)"
   ]
  },
  {
   "cell_type": "markdown",
   "id": "ca963718",
   "metadata": {
    "papermill": {
     "duration": 0.007072,
     "end_time": "2022-12-08T06:42:55.591465",
     "exception": false,
     "start_time": "2022-12-08T06:42:55.584393",
     "status": "completed"
    },
    "tags": []
   },
   "source": [
    "### Compute and log mean ROC AUC score averaged over all digits"
   ]
  },
  {
   "cell_type": "code",
   "execution_count": 19,
   "id": "fcf59941",
   "metadata": {
    "execution": {
     "iopub.execute_input": "2022-12-08T06:42:55.605834Z",
     "iopub.status.busy": "2022-12-08T06:42:55.605137Z",
     "iopub.status.idle": "2022-12-08T06:42:55.617158Z",
     "shell.execute_reply": "2022-12-08T06:42:55.616582Z"
    },
    "papermill": {
     "duration": 0.020908,
     "end_time": "2022-12-08T06:42:55.618794",
     "exception": false,
     "start_time": "2022-12-08T06:42:55.597886",
     "status": "completed"
    },
    "tags": []
   },
   "outputs": [
    {
     "name": "stdout",
     "output_type": "stream",
     "text": [
      " - Logging roc_auc_class_mean (float) : 0.9992245225827571\n"
     ]
    }
   ],
   "source": [
    "roc_auc_macro = np.mean(list(roc_auc_dict.values()))\n",
    "\n",
    "logger.log_float(\"roc_auc_class_mean\", roc_auc_macro)\n",
    "\n",
    "# assert that the same value can be computed directly using sklearn\n",
    "assert roc_auc_macro == metrics.roc_auc_score(\n",
    "    y_test, y_pred_probs_test, average=\"macro\", multi_class=\"ovr\"\n",
    ")"
   ]
  },
  {
   "cell_type": "code",
   "execution_count": 20,
   "id": "9a98e706",
   "metadata": {
    "execution": {
     "iopub.execute_input": "2022-12-08T06:42:55.633820Z",
     "iopub.status.busy": "2022-12-08T06:42:55.633480Z",
     "iopub.status.idle": "2022-12-08T06:42:55.636634Z",
     "shell.execute_reply": "2022-12-08T06:42:55.635913Z"
    },
    "lines_to_next_cell": 0,
    "papermill": {
     "duration": 0.012583,
     "end_time": "2022-12-08T06:42:55.638293",
     "exception": false,
     "start_time": "2022-12-08T06:42:55.625710",
     "status": "completed"
    },
    "tags": []
   },
   "outputs": [],
   "source": [
    "# ---"
   ]
  },
  {
   "cell_type": "code",
   "execution_count": null,
   "id": "70f39e0b",
   "metadata": {
    "papermill": {
     "duration": 0.006639,
     "end_time": "2022-12-08T06:42:55.651425",
     "exception": false,
     "start_time": "2022-12-08T06:42:55.644786",
     "status": "completed"
    },
    "tags": []
   },
   "outputs": [],
   "source": []
  }
 ],
 "metadata": {
  "jupytext": {
   "cell_metadata_filter": "tags,-all",
   "main_language": "python",
   "notebook_metadata_filter": "-all"
  },
  "language_info": {
   "codemirror_mode": {
    "name": "ipython",
    "version": 3
   },
   "file_extension": ".py",
   "mimetype": "text/x-python",
   "name": "python",
   "nbconvert_exporter": "python",
   "pygments_lexer": "ipython3",
   "version": "3.8.10"
  },
  "papermill": {
   "default_parameters": {},
   "duration": 8.416377,
   "end_time": "2022-12-08T06:42:56.575934",
   "environment_variables": {},
   "exception": null,
   "input_path": "/home/host_user/workspace/mnist-demo-pipeline/mnist-demo-pipeline/notebooks/temp-notebook-flip7_8q.ipynb",
   "output_path": "notebooks/benchmark-model.ipynb",
   "parameters": {
    "P": {
     "_opentelemetry_traceparent": "00-2d2770f1382e84497779055bc8562e6a-2f4f31f491c4ca06-01",
     "pipeline.data_lake_root": "/pipeline-outputs/data-lake",
     "pipeline.github.actor": "matiasdahl",
     "pipeline.github.base_ref": "",
     "pipeline.github.event_name": "schedule",
     "pipeline.github.head_ref": "",
     "pipeline.github.job": "run-tests-pipeline-and-persist-pipeline-outputs",
     "pipeline.github.ref": "refs/heads/development",
     "pipeline.github.ref_name": "development",
     "pipeline.github.ref_type": "branch",
     "pipeline.github.repository": "matiasdahl/dev-mnist-digits-demo-pipeline",
     "pipeline.github.run_id": "3645923404",
     "pipeline.github.runner_name": "Hosted Agent",
     "pipeline.github.sha": "ace0d01011d5e914f1921450dd5a59c11367b38d",
     "pipeline.github.workflow": "Run automated tests, pipeline and deploy results to static reporting site",
     "pipeline.pipeline_run_id": "8399d3a4-a048-40cf-ad89-57f36b387494",
     "pipeline.run_environment": "ci",
     "run.retry_nr": "0",
     "task.max_nr_retries": "1",
     "task.notebook": "notebooks/benchmark-model.py",
     "task.nr_train_images": 1000,
     "task.num_cpus": 1,
     "task.timeout_s": "None"
    }
   },
   "start_time": "2022-12-08T06:42:48.159557",
   "version": "2.3.3"
  }
 },
 "nbformat": 4,
 "nbformat_minor": 5
}