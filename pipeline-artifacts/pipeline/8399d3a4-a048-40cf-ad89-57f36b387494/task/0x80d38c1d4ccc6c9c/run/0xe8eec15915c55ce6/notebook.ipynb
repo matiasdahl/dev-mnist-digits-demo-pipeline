{
 "cells": [
  {
   "cell_type": "markdown",
   "id": "eb001a2b",
   "metadata": {
    "papermill": {
     "duration": 0.003485,
     "end_time": "2022-12-08T06:42:22.728296",
     "exception": false,
     "start_time": "2022-12-08T06:42:22.724811",
     "status": "completed"
    },
    "tags": []
   },
   "source": [
    "# Split digits and labels into separate training and testing data sets"
   ]
  },
  {
   "cell_type": "markdown",
   "id": "b945ce83",
   "metadata": {
    "papermill": {
     "duration": 0.002228,
     "end_time": "2022-12-08T06:42:22.733116",
     "exception": false,
     "start_time": "2022-12-08T06:42:22.730888",
     "status": "completed"
    },
    "tags": []
   },
   "source": [
    "### Determine run parameters"
   ]
  },
  {
   "cell_type": "code",
   "execution_count": 1,
   "id": "5e1cc80a",
   "metadata": {
    "execution": {
     "iopub.execute_input": "2022-12-08T06:42:22.740362Z",
     "iopub.status.busy": "2022-12-08T06:42:22.739939Z",
     "iopub.status.idle": "2022-12-08T06:42:22.747889Z",
     "shell.execute_reply": "2022-12-08T06:42:22.747292Z"
    },
    "lines_to_next_cell": 0,
    "papermill": {
     "duration": 0.014148,
     "end_time": "2022-12-08T06:42:22.749443",
     "exception": false,
     "start_time": "2022-12-08T06:42:22.735295",
     "status": "completed"
    },
    "tags": []
   },
   "outputs": [],
   "source": [
    "# ----------------- Parameters for interactive development --------------\n",
    "P = {\n",
    "    \"pipeline.data_lake_root\": \"/pipeline-outputs/data-lake\",\n",
    "    \"task.train_test_ratio\": 0.7,\n",
    "}"
   ]
  },
  {
   "cell_type": "code",
   "execution_count": 2,
   "id": "8e1de4d4",
   "metadata": {
    "execution": {
     "iopub.execute_input": "2022-12-08T06:42:22.755529Z",
     "iopub.status.busy": "2022-12-08T06:42:22.755207Z",
     "iopub.status.idle": "2022-12-08T06:42:22.760369Z",
     "shell.execute_reply": "2022-12-08T06:42:22.759788Z"
    },
    "lines_to_next_cell": 0,
    "papermill": {
     "duration": 0.010943,
     "end_time": "2022-12-08T06:42:22.762863",
     "exception": false,
     "start_time": "2022-12-08T06:42:22.751920",
     "status": "completed"
    },
    "tags": [
     "parameters"
    ]
   },
   "outputs": [],
   "source": [
    "# - During automated runs parameters will be injected in the below cell -"
   ]
  },
  {
   "cell_type": "code",
   "execution_count": 3,
   "id": "4734bc17",
   "metadata": {
    "execution": {
     "iopub.execute_input": "2022-12-08T06:42:22.768760Z",
     "iopub.status.busy": "2022-12-08T06:42:22.768558Z",
     "iopub.status.idle": "2022-12-08T06:42:22.772884Z",
     "shell.execute_reply": "2022-12-08T06:42:22.772249Z"
    },
    "papermill": {
     "duration": 0.009688,
     "end_time": "2022-12-08T06:42:22.775260",
     "exception": false,
     "start_time": "2022-12-08T06:42:22.765572",
     "status": "completed"
    },
    "tags": [
     "injected-parameters"
    ]
   },
   "outputs": [],
   "source": [
    "# Parameters\n",
    "P = {\n",
    "    \"pipeline.data_lake_root\": \"/pipeline-outputs/data-lake\",\n",
    "    \"pipeline.run_environment\": \"ci\",\n",
    "    \"pipeline.pipeline_run_id\": \"8399d3a4-a048-40cf-ad89-57f36b387494\",\n",
    "    \"pipeline.github.repository\": \"matiasdahl/dev-mnist-digits-demo-pipeline\",\n",
    "    \"pipeline.github.workflow\": \"Run automated tests, pipeline and deploy results to static reporting site\",\n",
    "    \"pipeline.github.runner_name\": \"Hosted Agent\",\n",
    "    \"pipeline.github.run_id\": \"3645923404\",\n",
    "    \"pipeline.github.actor\": \"matiasdahl\",\n",
    "    \"pipeline.github.job\": \"run-tests-pipeline-and-persist-pipeline-outputs\",\n",
    "    \"pipeline.github.base_ref\": \"\",\n",
    "    \"pipeline.github.head_ref\": \"\",\n",
    "    \"pipeline.github.sha\": \"ace0d01011d5e914f1921450dd5a59c11367b38d\",\n",
    "    \"pipeline.github.ref\": \"refs/heads/development\",\n",
    "    \"pipeline.github.ref_type\": \"branch\",\n",
    "    \"pipeline.github.ref_name\": \"development\",\n",
    "    \"pipeline.github.event_name\": \"schedule\",\n",
    "    \"task.train_test_ratio\": 0.7,\n",
    "    \"task.notebook\": \"notebooks/split-train-test.py\",\n",
    "    \"task.max_nr_retries\": \"1\",\n",
    "    \"run.retry_nr\": \"0\",\n",
    "    \"task.timeout_s\": \"None\",\n",
    "    \"task.num_cpus\": 1,\n",
    "    \"_opentelemetry_traceparent\": \"00-2d2770f1382e84497779055bc8562e6a-8e451d2ee4af4a73-01\",\n",
    "}\n"
   ]
  },
  {
   "cell_type": "code",
   "execution_count": 4,
   "id": "01061681",
   "metadata": {
    "execution": {
     "iopub.execute_input": "2022-12-08T06:42:22.780671Z",
     "iopub.status.busy": "2022-12-08T06:42:22.780473Z",
     "iopub.status.idle": "2022-12-08T06:42:22.783624Z",
     "shell.execute_reply": "2022-12-08T06:42:22.783140Z"
    },
    "lines_to_next_cell": 0,
    "papermill": {
     "duration": 0.008396,
     "end_time": "2022-12-08T06:42:22.786011",
     "exception": false,
     "start_time": "2022-12-08T06:42:22.777615",
     "status": "completed"
    },
    "tags": []
   },
   "outputs": [],
   "source": [
    "# -----------------------------------------------------------------------"
   ]
  },
  {
   "cell_type": "markdown",
   "id": "c8484135",
   "metadata": {
    "papermill": {
     "duration": 0.002288,
     "end_time": "2022-12-08T06:42:22.790575",
     "exception": false,
     "start_time": "2022-12-08T06:42:22.788287",
     "status": "completed"
    },
    "tags": []
   },
   "source": [
    "---"
   ]
  },
  {
   "cell_type": "markdown",
   "id": "2d02c7c6",
   "metadata": {
    "lines_to_next_cell": 2,
    "papermill": {
     "duration": 0.002527,
     "end_time": "2022-12-08T06:42:22.795974",
     "exception": false,
     "start_time": "2022-12-08T06:42:22.793447",
     "status": "completed"
    },
    "tags": []
   },
   "source": [
    "### Notebook code"
   ]
  },
  {
   "cell_type": "code",
   "execution_count": 5,
   "id": "c42994ae",
   "metadata": {
    "execution": {
     "iopub.execute_input": "2022-12-08T06:42:22.801247Z",
     "iopub.status.busy": "2022-12-08T06:42:22.801051Z",
     "iopub.status.idle": "2022-12-08T06:42:23.297506Z",
     "shell.execute_reply": "2022-12-08T06:42:23.296873Z"
    },
    "papermill": {
     "duration": 0.501094,
     "end_time": "2022-12-08T06:42:23.299326",
     "exception": false,
     "start_time": "2022-12-08T06:42:22.798232",
     "status": "completed"
    },
    "tags": []
   },
   "outputs": [
    {
     "name": "stderr",
     "output_type": "stream",
     "text": [
      "2022-12-08 06:42:23,131\tINFO worker.py:842 -- Connecting to existing Ray cluster at address: 172.17.0.2:6379\n"
     ]
    }
   ],
   "source": [
    "from common.io import datalake_root, read_numpy, write_numpy\n",
    "from pynb_dag_runner.tasks.task_opentelemetry_logging import PydarLogger\n",
    "\n",
    "logger = PydarLogger(P)"
   ]
  },
  {
   "cell_type": "markdown",
   "id": "81b7116a",
   "metadata": {
    "papermill": {
     "duration": 0.002611,
     "end_time": "2022-12-08T06:42:23.304969",
     "exception": false,
     "start_time": "2022-12-08T06:42:23.302358",
     "status": "completed"
    },
    "tags": []
   },
   "source": [
    "## Load and split digits data"
   ]
  },
  {
   "cell_type": "code",
   "execution_count": 6,
   "id": "03b09761",
   "metadata": {
    "execution": {
     "iopub.execute_input": "2022-12-08T06:42:23.311100Z",
     "iopub.status.busy": "2022-12-08T06:42:23.310815Z",
     "iopub.status.idle": "2022-12-08T06:42:23.315876Z",
     "shell.execute_reply": "2022-12-08T06:42:23.315294Z"
    },
    "papermill": {
     "duration": 0.010396,
     "end_time": "2022-12-08T06:42:23.318077",
     "exception": false,
     "start_time": "2022-12-08T06:42:23.307681",
     "status": "completed"
    },
    "tags": []
   },
   "outputs": [],
   "source": [
    "X = read_numpy(datalake_root(P) / \"raw\" / \"digits.numpy\")\n",
    "y = read_numpy(datalake_root(P) / \"raw\" / \"labels.numpy\")"
   ]
  },
  {
   "cell_type": "code",
   "execution_count": 7,
   "id": "46f7fa83",
   "metadata": {
    "execution": {
     "iopub.execute_input": "2022-12-08T06:42:23.327720Z",
     "iopub.status.busy": "2022-12-08T06:42:23.327512Z",
     "iopub.status.idle": "2022-12-08T06:42:23.721539Z",
     "shell.execute_reply": "2022-12-08T06:42:23.720890Z"
    },
    "papermill": {
     "duration": 0.40283,
     "end_time": "2022-12-08T06:42:23.723335",
     "exception": false,
     "start_time": "2022-12-08T06:42:23.320505",
     "status": "completed"
    },
    "tags": []
   },
   "outputs": [],
   "source": [
    "from sklearn.model_selection import train_test_split\n",
    "\n",
    "X_train, X_test, y_train, y_test = train_test_split(\n",
    "    X,\n",
    "    y,\n",
    "    train_size=P[\"task.train_test_ratio\"],\n",
    "    test_size=None,\n",
    "    stratify=y,\n",
    "    shuffle=True,\n",
    "    random_state=1,\n",
    ")\n",
    "\n",
    "# assert nr of pixels per image is the same for all image vectors\n",
    "assert X.shape[1] == X_train.shape[1] == X_test.shape[1]\n",
    "\n",
    "# assert that the (X, y)-pairs have compatible sizes (for both train and test)\n",
    "assert X_train.shape[0] == len(y_train)\n",
    "assert X_test.shape[0] == len(y_test)\n",
    "\n",
    "# assert that all data is used\n",
    "assert len(y) == len(y_train) + len(y_test)"
   ]
  },
  {
   "cell_type": "code",
   "execution_count": 8,
   "id": "b771e048",
   "metadata": {
    "execution": {
     "iopub.execute_input": "2022-12-08T06:42:23.734892Z",
     "iopub.status.busy": "2022-12-08T06:42:23.730783Z",
     "iopub.status.idle": "2022-12-08T06:42:23.742117Z",
     "shell.execute_reply": "2022-12-08T06:42:23.741627Z"
    },
    "papermill": {
     "duration": 0.016957,
     "end_time": "2022-12-08T06:42:23.743593",
     "exception": false,
     "start_time": "2022-12-08T06:42:23.726636",
     "status": "completed"
    },
    "tags": []
   },
   "outputs": [
    {
     "name": "stdout",
     "output_type": "stream",
     "text": [
      " - Logging nr_digits_train (int) : 1257\n",
      " - Logging nr_digits_test (int) : 540\n"
     ]
    }
   ],
   "source": [
    "logger.log_int(\"nr_digits_train\", len(y_train))\n",
    "logger.log_int(\"nr_digits_test\", len(y_test))"
   ]
  },
  {
   "cell_type": "markdown",
   "id": "3baee93a",
   "metadata": {
    "papermill": {
     "duration": 0.003174,
     "end_time": "2022-12-08T06:42:23.749497",
     "exception": false,
     "start_time": "2022-12-08T06:42:23.746323",
     "status": "completed"
    },
    "tags": []
   },
   "source": [
    "### Persist training and test data sets to separate files"
   ]
  },
  {
   "cell_type": "code",
   "execution_count": 9,
   "id": "b1f5601f",
   "metadata": {
    "execution": {
     "iopub.execute_input": "2022-12-08T06:42:23.755581Z",
     "iopub.status.busy": "2022-12-08T06:42:23.755367Z",
     "iopub.status.idle": "2022-12-08T06:42:23.761241Z",
     "shell.execute_reply": "2022-12-08T06:42:23.760729Z"
    },
    "papermill": {
     "duration": 0.011454,
     "end_time": "2022-12-08T06:42:23.763533",
     "exception": false,
     "start_time": "2022-12-08T06:42:23.752079",
     "status": "completed"
    },
    "tags": []
   },
   "outputs": [],
   "source": [
    "write_numpy(datalake_root(P) / \"train-data\" / \"digits.numpy\", X_train)\n",
    "write_numpy(datalake_root(P) / \"train-data\" / \"labels.numpy\", y_train)\n",
    "\n",
    "#\n",
    "write_numpy(datalake_root(P) / \"test-data\" / \"digits.numpy\", X_test)\n",
    "write_numpy(datalake_root(P) / \"test-data\" / \"labels.numpy\", y_test)"
   ]
  },
  {
   "cell_type": "code",
   "execution_count": null,
   "id": "b0873c51",
   "metadata": {
    "papermill": {
     "duration": 0.002988,
     "end_time": "2022-12-08T06:42:23.769399",
     "exception": false,
     "start_time": "2022-12-08T06:42:23.766411",
     "status": "completed"
    },
    "tags": []
   },
   "outputs": [],
   "source": []
  }
 ],
 "metadata": {
  "jupytext": {
   "cell_metadata_filter": "tags,-all",
   "main_language": "python",
   "notebook_metadata_filter": "-all"
  },
  "language_info": {
   "codemirror_mode": {
    "name": "ipython",
    "version": 3
   },
   "file_extension": ".py",
   "mimetype": "text/x-python",
   "name": "python",
   "nbconvert_exporter": "python",
   "pygments_lexer": "ipython3",
   "version": "3.8.10"
  },
  "papermill": {
   "default_parameters": {},
   "duration": 3.247575,
   "end_time": "2022-12-08T06:42:24.594336",
   "environment_variables": {},
   "exception": null,
   "input_path": "/home/host_user/workspace/mnist-demo-pipeline/mnist-demo-pipeline/notebooks/temp-notebook-l8g3f0bl.ipynb",
   "output_path": "notebooks/split-train-test.ipynb",
   "parameters": {
    "P": {
     "_opentelemetry_traceparent": "00-2d2770f1382e84497779055bc8562e6a-8e451d2ee4af4a73-01",
     "pipeline.data_lake_root": "/pipeline-outputs/data-lake",
     "pipeline.github.actor": "matiasdahl",
     "pipeline.github.base_ref": "",
     "pipeline.github.event_name": "schedule",
     "pipeline.github.head_ref": "",
     "pipeline.github.job": "run-tests-pipeline-and-persist-pipeline-outputs",
     "pipeline.github.ref": "refs/heads/development",
     "pipeline.github.ref_name": "development",
     "pipeline.github.ref_type": "branch",
     "pipeline.github.repository": "matiasdahl/dev-mnist-digits-demo-pipeline",
     "pipeline.github.run_id": "3645923404",
     "pipeline.github.runner_name": "Hosted Agent",
     "pipeline.github.sha": "ace0d01011d5e914f1921450dd5a59c11367b38d",
     "pipeline.github.workflow": "Run automated tests, pipeline and deploy results to static reporting site",
     "pipeline.pipeline_run_id": "8399d3a4-a048-40cf-ad89-57f36b387494",
     "pipeline.run_environment": "ci",
     "run.retry_nr": "0",
     "task.max_nr_retries": "1",
     "task.notebook": "notebooks/split-train-test.py",
     "task.num_cpus": 1,
     "task.timeout_s": "None",
     "task.train_test_ratio": 0.7
    }
   },
   "start_time": "2022-12-08T06:42:21.346761",
   "version": "2.3.3"
  }
 },
 "nbformat": 4,
 "nbformat_minor": 5
}