{
 "cells": [
  {
   "cell_type": "markdown",
   "id": "0969a8c2",
   "metadata": {
    "papermill": {
     "duration": 0.006158,
     "end_time": "2022-12-08T06:42:44.762986",
     "exception": false,
     "start_time": "2022-12-08T06:42:44.756828",
     "status": "completed"
    },
    "tags": []
   },
   "source": [
    "# Benchmark model\n",
    "\n",
    "The purpose of this notebook is to benchmark persisted onnx-model (trained in the\n",
    "previous step) against evaluation set."
   ]
  },
  {
   "cell_type": "markdown",
   "id": "144043e3",
   "metadata": {
    "papermill": {
     "duration": 0.004299,
     "end_time": "2022-12-08T06:42:44.771651",
     "exception": false,
     "start_time": "2022-12-08T06:42:44.767352",
     "status": "completed"
    },
    "tags": []
   },
   "source": [
    "### Determine run parameters"
   ]
  },
  {
   "cell_type": "code",
   "execution_count": 1,
   "id": "c6ad395f",
   "metadata": {
    "execution": {
     "iopub.execute_input": "2022-12-08T06:42:44.780739Z",
     "iopub.status.busy": "2022-12-08T06:42:44.780439Z",
     "iopub.status.idle": "2022-12-08T06:42:44.789037Z",
     "shell.execute_reply": "2022-12-08T06:42:44.788523Z"
    },
    "lines_to_next_cell": 0,
    "papermill": {
     "duration": 0.014975,
     "end_time": "2022-12-08T06:42:44.790616",
     "exception": false,
     "start_time": "2022-12-08T06:42:44.775641",
     "status": "completed"
    },
    "tags": []
   },
   "outputs": [],
   "source": [
    "# ----------------- Parameters for interactive development --------------\n",
    "P = {\n",
    "    \"pipeline.data_lake_root\": \"/pipeline-outputs/data-lake\",\n",
    "    \"task.nr_train_images\": 600,\n",
    "}"
   ]
  },
  {
   "cell_type": "code",
   "execution_count": 2,
   "id": "5de39c04",
   "metadata": {
    "execution": {
     "iopub.execute_input": "2022-12-08T06:42:44.800410Z",
     "iopub.status.busy": "2022-12-08T06:42:44.800210Z",
     "iopub.status.idle": "2022-12-08T06:42:44.803449Z",
     "shell.execute_reply": "2022-12-08T06:42:44.802824Z"
    },
    "lines_to_next_cell": 0,
    "papermill": {
     "duration": 0.010591,
     "end_time": "2022-12-08T06:42:44.805897",
     "exception": false,
     "start_time": "2022-12-08T06:42:44.795306",
     "status": "completed"
    },
    "tags": [
     "parameters"
    ]
   },
   "outputs": [],
   "source": [
    "# - During automated runs parameters will be injected in the below cell -"
   ]
  },
  {
   "cell_type": "code",
   "execution_count": 3,
   "id": "84adefa1",
   "metadata": {
    "execution": {
     "iopub.execute_input": "2022-12-08T06:42:44.814929Z",
     "iopub.status.busy": "2022-12-08T06:42:44.814731Z",
     "iopub.status.idle": "2022-12-08T06:42:44.819282Z",
     "shell.execute_reply": "2022-12-08T06:42:44.818310Z"
    },
    "papermill": {
     "duration": 0.012735,
     "end_time": "2022-12-08T06:42:44.822462",
     "exception": false,
     "start_time": "2022-12-08T06:42:44.809727",
     "status": "completed"
    },
    "tags": [
     "injected-parameters"
    ]
   },
   "outputs": [],
   "source": [
    "# Parameters\n",
    "P = {\n",
    "    \"pipeline.data_lake_root\": \"/pipeline-outputs/data-lake\",\n",
    "    \"pipeline.run_environment\": \"ci\",\n",
    "    \"pipeline.pipeline_run_id\": \"8399d3a4-a048-40cf-ad89-57f36b387494\",\n",
    "    \"pipeline.github.repository\": \"matiasdahl/dev-mnist-digits-demo-pipeline\",\n",
    "    \"pipeline.github.workflow\": \"Run automated tests, pipeline and deploy results to static reporting site\",\n",
    "    \"pipeline.github.runner_name\": \"Hosted Agent\",\n",
    "    \"pipeline.github.run_id\": \"3645923404\",\n",
    "    \"pipeline.github.actor\": \"matiasdahl\",\n",
    "    \"pipeline.github.job\": \"run-tests-pipeline-and-persist-pipeline-outputs\",\n",
    "    \"pipeline.github.base_ref\": \"\",\n",
    "    \"pipeline.github.head_ref\": \"\",\n",
    "    \"pipeline.github.sha\": \"ace0d01011d5e914f1921450dd5a59c11367b38d\",\n",
    "    \"pipeline.github.ref\": \"refs/heads/development\",\n",
    "    \"pipeline.github.ref_type\": \"branch\",\n",
    "    \"pipeline.github.ref_name\": \"development\",\n",
    "    \"pipeline.github.event_name\": \"schedule\",\n",
    "    \"task.nr_train_images\": 800,\n",
    "    \"task.notebook\": \"notebooks/benchmark-model.py\",\n",
    "    \"task.max_nr_retries\": \"1\",\n",
    "    \"run.retry_nr\": \"0\",\n",
    "    \"task.timeout_s\": \"None\",\n",
    "    \"task.num_cpus\": 1,\n",
    "    \"_opentelemetry_traceparent\": \"00-2d2770f1382e84497779055bc8562e6a-014b49f572d44e52-01\",\n",
    "}\n"
   ]
  },
  {
   "cell_type": "code",
   "execution_count": 4,
   "id": "eb417bb5",
   "metadata": {
    "execution": {
     "iopub.execute_input": "2022-12-08T06:42:44.832109Z",
     "iopub.status.busy": "2022-12-08T06:42:44.831908Z",
     "iopub.status.idle": "2022-12-08T06:42:44.834979Z",
     "shell.execute_reply": "2022-12-08T06:42:44.834472Z"
    },
    "lines_to_next_cell": 0,
    "papermill": {
     "duration": 0.010099,
     "end_time": "2022-12-08T06:42:44.837201",
     "exception": false,
     "start_time": "2022-12-08T06:42:44.827102",
     "status": "completed"
    },
    "tags": []
   },
   "outputs": [],
   "source": [
    "# -----------------------------------------------------------------------"
   ]
  },
  {
   "cell_type": "markdown",
   "id": "2af03601",
   "metadata": {
    "papermill": {
     "duration": 0.004308,
     "end_time": "2022-12-08T06:42:44.845401",
     "exception": false,
     "start_time": "2022-12-08T06:42:44.841093",
     "status": "completed"
    },
    "tags": []
   },
   "source": [
    "---"
   ]
  },
  {
   "cell_type": "markdown",
   "id": "bced39a2",
   "metadata": {
    "lines_to_next_cell": 2,
    "papermill": {
     "duration": 0.003981,
     "end_time": "2022-12-08T06:42:44.853283",
     "exception": false,
     "start_time": "2022-12-08T06:42:44.849302",
     "status": "completed"
    },
    "tags": []
   },
   "source": [
    "### Notebook code"
   ]
  },
  {
   "cell_type": "code",
   "execution_count": 5,
   "id": "1eeb4091",
   "metadata": {
    "execution": {
     "iopub.execute_input": "2022-12-08T06:42:44.862526Z",
     "iopub.status.busy": "2022-12-08T06:42:44.862334Z",
     "iopub.status.idle": "2022-12-08T06:42:45.895037Z",
     "shell.execute_reply": "2022-12-08T06:42:45.894359Z"
    },
    "papermill": {
     "duration": 1.039247,
     "end_time": "2022-12-08T06:42:45.896844",
     "exception": false,
     "start_time": "2022-12-08T06:42:44.857597",
     "status": "completed"
    },
    "tags": []
   },
   "outputs": [
    {
     "name": "stderr",
     "output_type": "stream",
     "text": [
      "2022-12-08 06:42:45,721\tINFO worker.py:842 -- Connecting to existing Ray cluster at address: 172.17.0.2:6379\n"
     ]
    }
   ],
   "source": [
    "import itertools as it\n",
    "\n",
    "#\n",
    "import numpy as np\n",
    "import matplotlib.pyplot as plt\n",
    "\n",
    "#\n",
    "from pynb_dag_runner.tasks.task_opentelemetry_logging import PydarLogger\n",
    "\n",
    "#\n",
    "from common.io import datalake_root\n",
    "\n",
    "logger = PydarLogger(P)"
   ]
  },
  {
   "cell_type": "markdown",
   "id": "1c8e81ce",
   "metadata": {
    "papermill": {
     "duration": 0.004359,
     "end_time": "2022-12-08T06:42:45.905795",
     "exception": false,
     "start_time": "2022-12-08T06:42:45.901436",
     "status": "completed"
    },
    "tags": []
   },
   "source": [
    "## Load persisted onnx-model and evaluation data"
   ]
  },
  {
   "cell_type": "code",
   "execution_count": 6,
   "id": "1b3f0b65",
   "metadata": {
    "execution": {
     "iopub.execute_input": "2022-12-08T06:42:45.915244Z",
     "iopub.status.busy": "2022-12-08T06:42:45.914752Z",
     "iopub.status.idle": "2022-12-08T06:42:45.917888Z",
     "shell.execute_reply": "2022-12-08T06:42:45.917276Z"
    },
    "papermill": {
     "duration": 0.00955,
     "end_time": "2022-12-08T06:42:45.919435",
     "exception": false,
     "start_time": "2022-12-08T06:42:45.909885",
     "status": "completed"
    },
    "tags": []
   },
   "outputs": [],
   "source": [
    "from common.io import read_onnx, get_onnx_inputs, get_onnx_outputs, read_numpy"
   ]
  },
  {
   "cell_type": "code",
   "execution_count": 7,
   "id": "5800a50d",
   "metadata": {
    "execution": {
     "iopub.execute_input": "2022-12-08T06:42:45.929801Z",
     "iopub.status.busy": "2022-12-08T06:42:45.928906Z",
     "iopub.status.idle": "2022-12-08T06:42:45.938502Z",
     "shell.execute_reply": "2022-12-08T06:42:45.937569Z"
    },
    "lines_to_next_cell": 0,
    "papermill": {
     "duration": 0.016059,
     "end_time": "2022-12-08T06:42:45.940098",
     "exception": false,
     "start_time": "2022-12-08T06:42:45.924039",
     "status": "completed"
    },
    "tags": []
   },
   "outputs": [],
   "source": [
    "onnx_inference_session = read_onnx(\n",
    "    datalake_root(P)\n",
    "    / \"models\"\n",
    "    / f\"nr_train_images={P['task.nr_train_images']}\"\n",
    "    / \"model.onnx\"\n",
    ")"
   ]
  },
  {
   "cell_type": "markdown",
   "id": "6399e00e",
   "metadata": {
    "papermill": {
     "duration": 0.004906,
     "end_time": "2022-12-08T06:42:45.948881",
     "exception": false,
     "start_time": "2022-12-08T06:42:45.943975",
     "status": "completed"
    },
    "tags": []
   },
   "source": [
    "### Record structure of inputs and outputs for ONNX model\n",
    "\n",
    "(this should likely be done in training notebook)"
   ]
  },
  {
   "cell_type": "code",
   "execution_count": 8,
   "id": "71cfbb44",
   "metadata": {
    "execution": {
     "iopub.execute_input": "2022-12-08T06:42:45.959097Z",
     "iopub.status.busy": "2022-12-08T06:42:45.958701Z",
     "iopub.status.idle": "2022-12-08T06:42:45.965325Z",
     "shell.execute_reply": "2022-12-08T06:42:45.964810Z"
    },
    "papermill": {
     "duration": 0.013019,
     "end_time": "2022-12-08T06:42:45.966736",
     "exception": false,
     "start_time": "2022-12-08T06:42:45.953717",
     "status": "completed"
    },
    "tags": []
   },
   "outputs": [
    {
     "name": "stdout",
     "output_type": "stream",
     "text": [
      "{\n",
      "  \"inputs\": [\n",
      "    {\n",
      "      \"name\": \"float_input_8x8_image\",\n",
      "      \"shape\": [\n",
      "        null,\n",
      "        64\n",
      "      ],\n",
      "      \"type\": \"tensor(float)\"\n",
      "    }\n",
      "  ],\n",
      "  \"outputs\": [\n",
      "    {\n",
      "      \"name\": \"output_label\",\n",
      "      \"shape\": [\n",
      "        null\n",
      "      ],\n",
      "      \"type\": \"tensor(int64)\"\n",
      "    },\n",
      "    {\n",
      "      \"name\": \"output_probability\",\n",
      "      \"shape\": [],\n",
      "      \"type\": \"seq(map(int64,tensor(float)))\"\n",
      "    }\n",
      "  ]\n",
      "}\n"
     ]
    }
   ],
   "source": [
    "import json\n",
    "\n",
    "onnx_io = json.dumps(\n",
    "    {\n",
    "        \"inputs\": get_onnx_inputs(onnx_inference_session),\n",
    "        \"outputs\": get_onnx_outputs(onnx_inference_session),\n",
    "    },\n",
    "    indent=2,\n",
    ")\n",
    "\n",
    "\n",
    "logger.log_artefact(\"onnx_io_structure.json\", onnx_io)\n",
    "print(onnx_io)"
   ]
  },
  {
   "cell_type": "markdown",
   "id": "2699d0b9",
   "metadata": {
    "papermill": {
     "duration": 0.003921,
     "end_time": "2022-12-08T06:42:45.974985",
     "exception": false,
     "start_time": "2022-12-08T06:42:45.971064",
     "status": "completed"
    },
    "tags": []
   },
   "source": [
    "### Evaluate model performance on evaluation data set"
   ]
  },
  {
   "cell_type": "code",
   "execution_count": 9,
   "id": "2871561f",
   "metadata": {
    "execution": {
     "iopub.execute_input": "2022-12-08T06:42:45.984635Z",
     "iopub.status.busy": "2022-12-08T06:42:45.984073Z",
     "iopub.status.idle": "2022-12-08T06:42:45.988773Z",
     "shell.execute_reply": "2022-12-08T06:42:45.987907Z"
    },
    "papermill": {
     "duration": 0.010766,
     "end_time": "2022-12-08T06:42:45.990117",
     "exception": false,
     "start_time": "2022-12-08T06:42:45.979351",
     "status": "completed"
    },
    "tags": []
   },
   "outputs": [],
   "source": [
    "# load evaluation data\n",
    "X_test = read_numpy(datalake_root(P) / \"test-data\" / \"digits.numpy\")\n",
    "y_test = read_numpy(datalake_root(P) / \"test-data\" / \"labels.numpy\")"
   ]
  },
  {
   "cell_type": "code",
   "execution_count": 10,
   "id": "53ce13f6",
   "metadata": {
    "execution": {
     "iopub.execute_input": "2022-12-08T06:42:45.999739Z",
     "iopub.status.busy": "2022-12-08T06:42:45.999167Z",
     "iopub.status.idle": "2022-12-08T06:42:46.044901Z",
     "shell.execute_reply": "2022-12-08T06:42:46.044295Z"
    },
    "papermill": {
     "duration": 0.052643,
     "end_time": "2022-12-08T06:42:46.046844",
     "exception": false,
     "start_time": "2022-12-08T06:42:45.994201",
     "status": "completed"
    },
    "tags": []
   },
   "outputs": [],
   "source": [
    "def get_model_outputs(X, onnx_inference_session):\n",
    "    y_pred_labels, y_pred_map = onnx_inference_session.run(\n",
    "        [\"output_label\", \"output_probability\"],\n",
    "        {\"float_input_8x8_image\": X.astype(np.float32)},\n",
    "    )\n",
    "    y_pred_probs = np.array(\n",
    "        [[probabilities[digit] for digit in range(10)] for probabilities in y_pred_map]\n",
    "    )\n",
    "\n",
    "    assert y_pred_labels.shape == (X.shape[0],)\n",
    "    assert y_pred_probs.shape == (X.shape[0], 10)\n",
    "\n",
    "    return y_pred_labels, y_pred_probs\n",
    "\n",
    "\n",
    "# Note: as shown in the training notebook, the predicted labels and probabilities\n",
    "# computed below need not be compatible.\n",
    "y_pred_labels_test, y_pred_probs_test = get_model_outputs(\n",
    "    X_test, onnx_inference_session\n",
    ")"
   ]
  },
  {
   "cell_type": "markdown",
   "id": "919ed337",
   "metadata": {
    "papermill": {
     "duration": 0.004314,
     "end_time": "2022-12-08T06:42:46.056051",
     "exception": false,
     "start_time": "2022-12-08T06:42:46.051737",
     "status": "completed"
    },
    "tags": []
   },
   "source": [
    "### Confusion matrix"
   ]
  },
  {
   "cell_type": "code",
   "execution_count": 11,
   "id": "b721a208",
   "metadata": {
    "execution": {
     "iopub.execute_input": "2022-12-08T06:42:46.065601Z",
     "iopub.status.busy": "2022-12-08T06:42:46.065330Z",
     "iopub.status.idle": "2022-12-08T06:42:46.067999Z",
     "shell.execute_reply": "2022-12-08T06:42:46.067528Z"
    },
    "papermill": {
     "duration": 0.009131,
     "end_time": "2022-12-08T06:42:46.069398",
     "exception": false,
     "start_time": "2022-12-08T06:42:46.060267",
     "status": "completed"
    },
    "tags": []
   },
   "outputs": [],
   "source": [
    "# TODO"
   ]
  },
  {
   "cell_type": "markdown",
   "id": "0aba52d9",
   "metadata": {
    "papermill": {
     "duration": 0.004138,
     "end_time": "2022-12-08T06:42:46.077772",
     "exception": false,
     "start_time": "2022-12-08T06:42:46.073634",
     "status": "completed"
    },
    "tags": []
   },
   "source": [
    "### Plot predicted probabilities for each classifier over all evaluation digit images"
   ]
  },
  {
   "cell_type": "code",
   "execution_count": 12,
   "id": "958deba7",
   "metadata": {
    "execution": {
     "iopub.execute_input": "2022-12-08T06:42:46.087417Z",
     "iopub.status.busy": "2022-12-08T06:42:46.086929Z",
     "iopub.status.idle": "2022-12-08T06:42:48.926556Z",
     "shell.execute_reply": "2022-12-08T06:42:48.925909Z"
    },
    "papermill": {
     "duration": 2.845928,
     "end_time": "2022-12-08T06:42:48.928016",
     "exception": false,
     "start_time": "2022-12-08T06:42:46.082088",
     "status": "completed"
    },
    "tags": []
   },
   "outputs": [
    {
     "data": {
      "image/png": "[encoded data removed]",
      "text/plain": [
       "<Figure size 1600x600 with 10 Axes>"
      ]
     },
     "metadata": {},
     "output_type": "display_data"
    }
   ],
   "source": [
    "def plot_per_digit_probabilities(y_pred_probs):\n",
    "    fig, axs = plt.subplots(nrows=2, ncols=5, figsize=(16, 6))\n",
    "\n",
    "    for (r, c), digit, ax in zip(\n",
    "        it.product(range(2), range(5)), range(10), axs.reshape(-1)\n",
    "    ):\n",
    "        ax.hist(y_pred_probs_test[:, digit], bins=20)\n",
    "\n",
    "        ax.set_title(f\"Digit {digit}\")\n",
    "        if r == 1 and c == 2:\n",
    "            ax.set_xlabel(\"probability\", fontsize=16)\n",
    "\n",
    "        if c == 0:\n",
    "            ax.set_ylabel(\"counts\", fontsize=16)\n",
    "        ax.set_yscale(\"log\")\n",
    "\n",
    "    fig.tight_layout()\n",
    "    fig.suptitle(\n",
    "        f\"Distributions of prediction probabilities for each digit \"\n",
    "        f\"(on evaluation data, n={y_pred_probs.shape[0]})\",\n",
    "        fontsize=20,\n",
    "    )\n",
    "    fig.tight_layout()\n",
    "    fig.show()\n",
    "\n",
    "    return fig\n",
    "\n",
    "\n",
    "fig = plot_per_digit_probabilities(y_pred_probs_test)"
   ]
  },
  {
   "cell_type": "markdown",
   "id": "1ca26184",
   "metadata": {
    "papermill": {
     "duration": 0.005345,
     "end_time": "2022-12-08T06:42:48.938627",
     "exception": false,
     "start_time": "2022-12-08T06:42:48.933282",
     "status": "completed"
    },
    "tags": []
   },
   "source": [
    "From the above distributions we see that most digits have clear separation between\n",
    "high and lower probabilities. Morover, in each case there is roughly an order of\n",
    "magnitude more of digits with low probabilities. This is compatible with digits\n",
    "being roughly evenly distributed in the data."
   ]
  },
  {
   "cell_type": "code",
   "execution_count": 13,
   "id": "1325b6d4",
   "metadata": {
    "execution": {
     "iopub.execute_input": "2022-12-08T06:42:48.950155Z",
     "iopub.status.busy": "2022-12-08T06:42:48.949731Z",
     "iopub.status.idle": "2022-12-08T06:42:49.370570Z",
     "shell.execute_reply": "2022-12-08T06:42:49.369991Z"
    },
    "papermill": {
     "duration": 0.428831,
     "end_time": "2022-12-08T06:42:49.372373",
     "exception": false,
     "start_time": "2022-12-08T06:42:48.943542",
     "status": "completed"
    },
    "tags": []
   },
   "outputs": [],
   "source": [
    "logger.log_figure(\"per-digit-probabilities.png\", fig)"
   ]
  },
  {
   "cell_type": "markdown",
   "id": "fa5dffe3",
   "metadata": {
    "papermill": {
     "duration": 0.005419,
     "end_time": "2022-12-08T06:42:49.383191",
     "exception": false,
     "start_time": "2022-12-08T06:42:49.377772",
     "status": "completed"
    },
    "tags": []
   },
   "source": [
    "### Plot ROC curves for individual one-vs-rest classifiers"
   ]
  },
  {
   "cell_type": "code",
   "execution_count": 14,
   "id": "e9f382d4",
   "metadata": {
    "execution": {
     "iopub.execute_input": "2022-12-08T06:42:49.394458Z",
     "iopub.status.busy": "2022-12-08T06:42:49.394231Z",
     "iopub.status.idle": "2022-12-08T06:42:49.754196Z",
     "shell.execute_reply": "2022-12-08T06:42:49.753567Z"
    },
    "papermill": {
     "duration": 0.367721,
     "end_time": "2022-12-08T06:42:49.756049",
     "exception": false,
     "start_time": "2022-12-08T06:42:49.388328",
     "status": "completed"
    },
    "tags": []
   },
   "outputs": [],
   "source": [
    "from sklearn import metrics"
   ]
  },
  {
   "cell_type": "code",
   "execution_count": 15,
   "id": "9c11bd7d",
   "metadata": {
    "execution": {
     "iopub.execute_input": "2022-12-08T06:42:49.768951Z",
     "iopub.status.busy": "2022-12-08T06:42:49.768724Z",
     "iopub.status.idle": "2022-12-08T06:42:50.809471Z",
     "shell.execute_reply": "2022-12-08T06:42:50.808914Z"
    },
    "papermill": {
     "duration": 1.049288,
     "end_time": "2022-12-08T06:42:50.811421",
     "exception": false,
     "start_time": "2022-12-08T06:42:49.762133",
     "status": "completed"
    },
    "tags": []
   },
   "outputs": [
    {
     "data": {
      "image/png": "[encoded data removed]",
      "text/plain": [
       "<Figure size 1600x800 with 10 Axes>"
      ]
     },
     "metadata": {},
     "output_type": "display_data"
    }
   ],
   "source": [
    "def plot_roc_curves(y, y_pred_probs):\n",
    "    # based on example code\n",
    "    # https://scikit-learn.org/stable/auto_examples/model_selection/plot_roc.html\n",
    "\n",
    "    fig, axs = plt.subplots(nrows=2, ncols=5, figsize=(16, 8))\n",
    "\n",
    "    roc_auc_dict = {}\n",
    "\n",
    "    for (r, c), digit, ax in zip(\n",
    "        it.product(range(2), range(5)), range(10), axs.reshape(-1)\n",
    "    ):\n",
    "        fpr, tpr, _ = metrics.roc_curve(y == digit, y_pred_probs[:, digit])\n",
    "        auc = metrics.auc(fpr, tpr)\n",
    "        roc_auc_dict[str(digit)] = auc\n",
    "\n",
    "        ax.plot(fpr, tpr, label=f\"ROC AUC={round(auc, 3)}\")\n",
    "\n",
    "        ax.set_title(f\"\\nDigit {digit}\", fontsize=16)\n",
    "        if r == 1:\n",
    "            ax.set_xlabel(\"FPR\", fontsize=18)\n",
    "\n",
    "        if c == 0:\n",
    "            ax.set_ylabel(\"TPR\", fontsize=18)\n",
    "\n",
    "        ax.set_xlim([-0.05, 1.05])\n",
    "        ax.set_ylim([-0.05, 1.05])\n",
    "        ax.legend(loc=\"lower right\", frameon=False, fontsize=14)\n",
    "\n",
    "    fig.tight_layout()\n",
    "    fig.suptitle(\n",
    "        f\"ROC plots for one-vs-rest performances \"\n",
    "        f\"(on evaluation data, n={y_pred_probs_test.shape[1]}\",\n",
    "        fontsize=22,\n",
    "    )\n",
    "    fig.tight_layout()\n",
    "    fig.show()\n",
    "\n",
    "    return roc_auc_dict, fig\n",
    "\n",
    "\n",
    "roc_auc_dict, fig = plot_roc_curves(y_test, y_pred_probs_test)"
   ]
  },
  {
   "cell_type": "code",
   "execution_count": 16,
   "id": "41ef7202",
   "metadata": {
    "execution": {
     "iopub.execute_input": "2022-12-08T06:42:50.825796Z",
     "iopub.status.busy": "2022-12-08T06:42:50.825578Z",
     "iopub.status.idle": "2022-12-08T06:42:51.081208Z",
     "shell.execute_reply": "2022-12-08T06:42:51.080631Z"
    },
    "papermill": {
     "duration": 0.264838,
     "end_time": "2022-12-08T06:42:51.083124",
     "exception": false,
     "start_time": "2022-12-08T06:42:50.818286",
     "status": "completed"
    },
    "tags": []
   },
   "outputs": [],
   "source": [
    "logger.log_figure(\"per-digit-roc-curves.png\", fig)"
   ]
  },
  {
   "cell_type": "code",
   "execution_count": 17,
   "id": "fd7ee38a",
   "metadata": {
    "execution": {
     "iopub.execute_input": "2022-12-08T06:42:51.097929Z",
     "iopub.status.busy": "2022-12-08T06:42:51.097681Z",
     "iopub.status.idle": "2022-12-08T06:42:51.102031Z",
     "shell.execute_reply": "2022-12-08T06:42:51.101529Z"
    },
    "papermill": {
     "duration": 0.015305,
     "end_time": "2022-12-08T06:42:51.105183",
     "exception": false,
     "start_time": "2022-12-08T06:42:51.089878",
     "status": "completed"
    },
    "tags": []
   },
   "outputs": [
    {
     "data": {
      "text/plain": [
       "{'0': 1.0,\n",
       " '1': 0.9987628865979382,\n",
       " '2': 1.0,\n",
       " '3': 0.9998125585754452,\n",
       " '4': 0.9995046486816034,\n",
       " '5': 0.9991752577319588,\n",
       " '6': 0.999961896052431,\n",
       " '7': 0.9998856881572931,\n",
       " '8': 0.992670239596469,\n",
       " '9': 0.9994284407864655}"
      ]
     },
     "execution_count": 17,
     "metadata": {},
     "output_type": "execute_result"
    }
   ],
   "source": [
    "roc_auc_dict"
   ]
  },
  {
   "cell_type": "code",
   "execution_count": 18,
   "id": "d0fdf2bb",
   "metadata": {
    "execution": {
     "iopub.execute_input": "2022-12-08T06:42:51.119583Z",
     "iopub.status.busy": "2022-12-08T06:42:51.119378Z",
     "iopub.status.idle": "2022-12-08T06:42:51.123106Z",
     "shell.execute_reply": "2022-12-08T06:42:51.122520Z"
    },
    "papermill": {
     "duration": 0.014491,
     "end_time": "2022-12-08T06:42:51.126463",
     "exception": false,
     "start_time": "2022-12-08T06:42:51.111972",
     "status": "completed"
    },
    "tags": []
   },
   "outputs": [
    {
     "name": "stdout",
     "output_type": "stream",
     "text": [
      " - Logging roc_auc_per_digit (json) : {'0': 1.0, '1': 0.9987628865979382, '2': 1.0, '3': 0.9998125585754452, '4': 0.9995046486816034, '5': 0.9991752577319588, '6': 0.999961896052431, '7': 0.9998856881572931, '8': 0.992670239596469, '9': 0.9994284407864655}\n"
     ]
    }
   ],
   "source": [
    "logger.log_value(\"roc_auc_per_digit\", roc_auc_dict)"
   ]
  },
  {
   "cell_type": "markdown",
   "id": "ea327c6e",
   "metadata": {
    "papermill": {
     "duration": 0.006619,
     "end_time": "2022-12-08T06:42:51.140062",
     "exception": false,
     "start_time": "2022-12-08T06:42:51.133443",
     "status": "completed"
    },
    "tags": []
   },
   "source": [
    "### Compute and log mean ROC AUC score averaged over all digits"
   ]
  },
  {
   "cell_type": "code",
   "execution_count": 19,
   "id": "83e6c06a",
   "metadata": {
    "execution": {
     "iopub.execute_input": "2022-12-08T06:42:51.154025Z",
     "iopub.status.busy": "2022-12-08T06:42:51.153820Z",
     "iopub.status.idle": "2022-12-08T06:42:51.166692Z",
     "shell.execute_reply": "2022-12-08T06:42:51.165916Z"
    },
    "papermill": {
     "duration": 0.021877,
     "end_time": "2022-12-08T06:42:51.168485",
     "exception": false,
     "start_time": "2022-12-08T06:42:51.146608",
     "status": "completed"
    },
    "tags": []
   },
   "outputs": [
    {
     "name": "stdout",
     "output_type": "stream",
     "text": [
      " - Logging roc_auc_class_mean (float) : 0.9989201616179603\n"
     ]
    }
   ],
   "source": [
    "roc_auc_macro = np.mean(list(roc_auc_dict.values()))\n",
    "\n",
    "logger.log_float(\"roc_auc_class_mean\", roc_auc_macro)\n",
    "\n",
    "# assert that the same value can be computed directly using sklearn\n",
    "assert roc_auc_macro == metrics.roc_auc_score(\n",
    "    y_test, y_pred_probs_test, average=\"macro\", multi_class=\"ovr\"\n",
    ")"
   ]
  },
  {
   "cell_type": "code",
   "execution_count": 20,
   "id": "5d66e471",
   "metadata": {
    "execution": {
     "iopub.execute_input": "2022-12-08T06:42:51.186026Z",
     "iopub.status.busy": "2022-12-08T06:42:51.185751Z",
     "iopub.status.idle": "2022-12-08T06:42:51.189320Z",
     "shell.execute_reply": "2022-12-08T06:42:51.188542Z"
    },
    "lines_to_next_cell": 0,
    "papermill": {
     "duration": 0.016404,
     "end_time": "2022-12-08T06:42:51.191532",
     "exception": false,
     "start_time": "2022-12-08T06:42:51.175128",
     "status": "completed"
    },
    "tags": []
   },
   "outputs": [],
   "source": [
    "# ---"
   ]
  },
  {
   "cell_type": "code",
   "execution_count": null,
   "id": "73e00b29",
   "metadata": {
    "papermill": {
     "duration": 0.006817,
     "end_time": "2022-12-08T06:42:51.205155",
     "exception": false,
     "start_time": "2022-12-08T06:42:51.198338",
     "status": "completed"
    },
    "tags": []
   },
   "outputs": [],
   "source": []
  }
 ],
 "metadata": {
  "jupytext": {
   "cell_metadata_filter": "tags,-all",
   "main_language": "python",
   "notebook_metadata_filter": "-all"
  },
  "language_info": {
   "codemirror_mode": {
    "name": "ipython",
    "version": 3
   },
   "file_extension": ".py",
   "mimetype": "text/x-python",
   "name": "python",
   "nbconvert_exporter": "python",
   "pygments_lexer": "ipython3",
   "version": "3.8.10"
  },
  "papermill": {
   "default_parameters": {},
   "duration": 8.841848,
   "end_time": "2022-12-08T06:42:52.235303",
   "environment_variables": {},
   "exception": null,
   "input_path": "/home/host_user/workspace/mnist-demo-pipeline/mnist-demo-pipeline/notebooks/temp-notebook-jjtyz5jx.ipynb",
   "output_path": "notebooks/benchmark-model.ipynb",
   "parameters": {
    "P": {
     "_opentelemetry_traceparent": "00-2d2770f1382e84497779055bc8562e6a-014b49f572d44e52-01",
     "pipeline.data_lake_root": "/pipeline-outputs/data-lake",
     "pipeline.github.actor": "matiasdahl",
     "pipeline.github.base_ref": "",
     "pipeline.github.event_name": "schedule",
     "pipeline.github.head_ref": "",
     "pipeline.github.job": "run-tests-pipeline-and-persist-pipeline-outputs",
     "pipeline.github.ref": "refs/heads/development",
     "pipeline.github.ref_name": "development",
     "pipeline.github.ref_type": "branch",
     "pipeline.github.repository": "matiasdahl/dev-mnist-digits-demo-pipeline",
     "pipeline.github.run_id": "3645923404",
     "pipeline.github.runner_name": "Hosted Agent",
     "pipeline.github.sha": "ace0d01011d5e914f1921450dd5a59c11367b38d",
     "pipeline.github.workflow": "Run automated tests, pipeline and deploy results to static reporting site",
     "pipeline.pipeline_run_id": "8399d3a4-a048-40cf-ad89-57f36b387494",
     "pipeline.run_environment": "ci",
     "run.retry_nr": "0",
     "task.max_nr_retries": "1",
     "task.notebook": "notebooks/benchmark-model.py",
     "task.nr_train_images": 800,
     "task.num_cpus": 1,
     "task.timeout_s": "None"
    }
   },
   "start_time": "2022-12-08T06:42:43.393455",
   "version": "2.3.3"
  }
 },
 "nbformat": 4,
 "nbformat_minor": 5
}