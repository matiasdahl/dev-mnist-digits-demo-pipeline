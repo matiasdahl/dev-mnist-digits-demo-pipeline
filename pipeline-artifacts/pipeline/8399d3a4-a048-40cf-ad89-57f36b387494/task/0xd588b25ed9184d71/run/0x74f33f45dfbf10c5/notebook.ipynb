{
 "cells": [
  {
   "cell_type": "markdown",
   "id": "5b725a1b",
   "metadata": {
    "papermill": {
     "duration": 0.016902,
     "end_time": "2022-12-08T06:42:17.381789",
     "exception": false,
     "start_time": "2022-12-08T06:42:17.364887",
     "status": "completed"
    },
    "tags": []
   },
   "source": [
    "# Ingest toy version of MNIST digit data from sklearn"
   ]
  },
  {
   "cell_type": "markdown",
   "id": "a18950e7",
   "metadata": {
    "papermill": {
     "duration": 0.002267,
     "end_time": "2022-12-08T06:42:17.386742",
     "exception": false,
     "start_time": "2022-12-08T06:42:17.384475",
     "status": "completed"
    },
    "tags": []
   },
   "source": [
    "### Determine run parameters"
   ]
  },
  {
   "cell_type": "code",
   "execution_count": 1,
   "id": "3e9db3a3",
   "metadata": {
    "execution": {
     "iopub.execute_input": "2022-12-08T06:42:17.393048Z",
     "iopub.status.busy": "2022-12-08T06:42:17.392343Z",
     "iopub.status.idle": "2022-12-08T06:42:17.399905Z",
     "shell.execute_reply": "2022-12-08T06:42:17.399212Z"
    },
    "lines_to_next_cell": 0,
    "papermill": {
     "duration": 0.012222,
     "end_time": "2022-12-08T06:42:17.401356",
     "exception": false,
     "start_time": "2022-12-08T06:42:17.389134",
     "status": "completed"
    },
    "tags": []
   },
   "outputs": [],
   "source": [
    "# ----------------- Parameters for interactive development --------------\n",
    "P = {\n",
    "    \"pipeline.run_environment\": \"dev\",\n",
    "    \"pipeline.data_lake_root\": \"/pipeline-outputs/data-lake\",\n",
    "    \"run.retry_nr\": \"1\",\n",
    "}"
   ]
  },
  {
   "cell_type": "code",
   "execution_count": 2,
   "id": "c7654092",
   "metadata": {
    "execution": {
     "iopub.execute_input": "2022-12-08T06:42:17.407183Z",
     "iopub.status.busy": "2022-12-08T06:42:17.406711Z",
     "iopub.status.idle": "2022-12-08T06:42:17.409778Z",
     "shell.execute_reply": "2022-12-08T06:42:17.409117Z"
    },
    "lines_to_next_cell": 0,
    "papermill": {
     "duration": 0.007497,
     "end_time": "2022-12-08T06:42:17.411073",
     "exception": false,
     "start_time": "2022-12-08T06:42:17.403576",
     "status": "completed"
    },
    "tags": [
     "parameters"
    ]
   },
   "outputs": [],
   "source": [
    "# - During automated runs parameters will be injected in the below cell -"
   ]
  },
  {
   "cell_type": "code",
   "execution_count": 3,
   "id": "faf9403e",
   "metadata": {
    "execution": {
     "iopub.execute_input": "2022-12-08T06:42:17.418378Z",
     "iopub.status.busy": "2022-12-08T06:42:17.418027Z",
     "iopub.status.idle": "2022-12-08T06:42:17.422943Z",
     "shell.execute_reply": "2022-12-08T06:42:17.422282Z"
    },
    "papermill": {
     "duration": 0.010958,
     "end_time": "2022-12-08T06:42:17.424252",
     "exception": false,
     "start_time": "2022-12-08T06:42:17.413294",
     "status": "completed"
    },
    "tags": [
     "injected-parameters"
    ]
   },
   "outputs": [],
   "source": [
    "# Parameters\n",
    "P = {\n",
    "    \"pipeline.data_lake_root\": \"/pipeline-outputs/data-lake\",\n",
    "    \"pipeline.run_environment\": \"ci\",\n",
    "    \"pipeline.pipeline_run_id\": \"8399d3a4-a048-40cf-ad89-57f36b387494\",\n",
    "    \"pipeline.github.repository\": \"matiasdahl/dev-mnist-digits-demo-pipeline\",\n",
    "    \"pipeline.github.workflow\": \"Run automated tests, pipeline and deploy results to static reporting site\",\n",
    "    \"pipeline.github.runner_name\": \"Hosted Agent\",\n",
    "    \"pipeline.github.run_id\": \"3645923404\",\n",
    "    \"pipeline.github.actor\": \"matiasdahl\",\n",
    "    \"pipeline.github.job\": \"run-tests-pipeline-and-persist-pipeline-outputs\",\n",
    "    \"pipeline.github.base_ref\": \"\",\n",
    "    \"pipeline.github.head_ref\": \"\",\n",
    "    \"pipeline.github.sha\": \"ace0d01011d5e914f1921450dd5a59c11367b38d\",\n",
    "    \"pipeline.github.ref\": \"refs/heads/development\",\n",
    "    \"pipeline.github.ref_type\": \"branch\",\n",
    "    \"pipeline.github.ref_name\": \"development\",\n",
    "    \"pipeline.github.event_name\": \"schedule\",\n",
    "    \"task.notebook\": \"notebooks/ingest.py\",\n",
    "    \"task.max_nr_retries\": \"15\",\n",
    "    \"run.retry_nr\": \"10\",\n",
    "    \"task.timeout_s\": \"10\",\n",
    "    \"task.num_cpus\": 1,\n",
    "    \"_opentelemetry_traceparent\": \"00-2d2770f1382e84497779055bc8562e6a-05b1a8a4adaefe0e-01\",\n",
    "}\n"
   ]
  },
  {
   "cell_type": "code",
   "execution_count": 4,
   "id": "8df1fc2c",
   "metadata": {
    "execution": {
     "iopub.execute_input": "2022-12-08T06:42:17.429945Z",
     "iopub.status.busy": "2022-12-08T06:42:17.429620Z",
     "iopub.status.idle": "2022-12-08T06:42:17.432284Z",
     "shell.execute_reply": "2022-12-08T06:42:17.431737Z"
    },
    "lines_to_next_cell": 0,
    "papermill": {
     "duration": 0.006971,
     "end_time": "2022-12-08T06:42:17.433581",
     "exception": false,
     "start_time": "2022-12-08T06:42:17.426610",
     "status": "completed"
    },
    "tags": []
   },
   "outputs": [],
   "source": [
    "# -----------------------------------------------------------------------"
   ]
  },
  {
   "cell_type": "markdown",
   "id": "018b2513",
   "metadata": {
    "lines_to_next_cell": 2,
    "papermill": {
     "duration": 0.002312,
     "end_time": "2022-12-08T06:42:17.438313",
     "exception": false,
     "start_time": "2022-12-08T06:42:17.436001",
     "status": "completed"
    },
    "tags": []
   },
   "source": [
    "---"
   ]
  },
  {
   "cell_type": "markdown",
   "id": "611b5a2c",
   "metadata": {
    "papermill": {
     "duration": 0.002178,
     "end_time": "2022-12-08T06:42:17.442834",
     "exception": false,
     "start_time": "2022-12-08T06:42:17.440656",
     "status": "completed"
    },
    "tags": []
   },
   "source": [
    "### Simulate different types of failures (for testing timeout and retry logic)"
   ]
  },
  {
   "cell_type": "code",
   "execution_count": 5,
   "id": "b0d78b52",
   "metadata": {
    "execution": {
     "iopub.execute_input": "2022-12-08T06:42:17.448977Z",
     "iopub.status.busy": "2022-12-08T06:42:17.448370Z",
     "iopub.status.idle": "2022-12-08T06:42:17.865402Z",
     "shell.execute_reply": "2022-12-08T06:42:17.864728Z"
    },
    "papermill": {
     "duration": 0.422116,
     "end_time": "2022-12-08T06:42:17.867149",
     "exception": false,
     "start_time": "2022-12-08T06:42:17.445033",
     "status": "completed"
    },
    "tags": []
   },
   "outputs": [
    {
     "name": "stderr",
     "output_type": "stream",
     "text": [
      "2022-12-08 06:42:17,716\tINFO worker.py:842 -- Connecting to existing Ray cluster at address: 172.17.0.2:6379\n"
     ]
    }
   ],
   "source": [
    "from pynb_dag_runner.tasks.task_opentelemetry_logging import PydarLogger\n",
    "\n",
    "logger = PydarLogger(P)"
   ]
  },
  {
   "cell_type": "code",
   "execution_count": 6,
   "id": "922518bc",
   "metadata": {
    "execution": {
     "iopub.execute_input": "2022-12-08T06:42:17.874151Z",
     "iopub.status.busy": "2022-12-08T06:42:17.873715Z",
     "iopub.status.idle": "2022-12-08T06:42:17.878583Z",
     "shell.execute_reply": "2022-12-08T06:42:17.878089Z"
    },
    "papermill": {
     "duration": 0.010037,
     "end_time": "2022-12-08T06:42:17.879875",
     "exception": false,
     "start_time": "2022-12-08T06:42:17.869838",
     "status": "completed"
    },
    "tags": []
   },
   "outputs": [],
   "source": [
    "import time, random\n",
    "\n",
    "\n",
    "def maybe_crash(retry_nr: int, run_environment: str):\n",
    "    if retry_nr == 2 and run_environment == \"ci\":\n",
    "        time.sleep(1e6)\n",
    "\n",
    "    max_retry_nr: int = 3 if run_environment == \"dev\" else 10\n",
    "\n",
    "    if retry_nr < max_retry_nr:\n",
    "        if random.random() < 0.1:\n",
    "            time.sleep(1e6)\n",
    "        else:\n",
    "            raise Exception(\"Simulated exception failure from ingestion step notebook!\")\n",
    "\n",
    "\n",
    "maybe_crash(\n",
    "    retry_nr=int(P[\"run.retry_nr\"]), run_environment=P[\"pipeline.run_environment\"]\n",
    ")"
   ]
  },
  {
   "cell_type": "markdown",
   "id": "37bfc557",
   "metadata": {
    "lines_to_next_cell": 2,
    "papermill": {
     "duration": 0.002716,
     "end_time": "2022-12-08T06:42:17.885167",
     "exception": false,
     "start_time": "2022-12-08T06:42:17.882451",
     "status": "completed"
    },
    "tags": []
   },
   "source": [
    "### Notebook code"
   ]
  },
  {
   "cell_type": "code",
   "execution_count": 7,
   "id": "7192bd24",
   "metadata": {
    "execution": {
     "iopub.execute_input": "2022-12-08T06:42:17.891344Z",
     "iopub.status.busy": "2022-12-08T06:42:17.891014Z",
     "iopub.status.idle": "2022-12-08T06:42:19.110452Z",
     "shell.execute_reply": "2022-12-08T06:42:19.109809Z"
    },
    "papermill": {
     "duration": 1.224564,
     "end_time": "2022-12-08T06:42:19.112183",
     "exception": false,
     "start_time": "2022-12-08T06:42:17.887619",
     "status": "completed"
    },
    "tags": []
   },
   "outputs": [],
   "source": [
    "from sklearn import datasets\n",
    "\n",
    "#\n",
    "from common.io import datalake_root, write_numpy"
   ]
  },
  {
   "cell_type": "code",
   "execution_count": 8,
   "id": "046407fa",
   "metadata": {
    "execution": {
     "iopub.execute_input": "2022-12-08T06:42:19.119574Z",
     "iopub.status.busy": "2022-12-08T06:42:19.119066Z",
     "iopub.status.idle": "2022-12-08T06:42:19.132949Z",
     "shell.execute_reply": "2022-12-08T06:42:19.132405Z"
    },
    "lines_to_next_cell": 2,
    "papermill": {
     "duration": 0.019331,
     "end_time": "2022-12-08T06:42:19.134555",
     "exception": false,
     "start_time": "2022-12-08T06:42:19.115224",
     "status": "completed"
    },
    "tags": []
   },
   "outputs": [],
   "source": [
    "digits = datasets.load_digits()\n",
    "\n",
    "X = digits[\"data\"]\n",
    "y = digits[\"target\"]"
   ]
  },
  {
   "cell_type": "code",
   "execution_count": 9,
   "id": "32c82621",
   "metadata": {
    "execution": {
     "iopub.execute_input": "2022-12-08T06:42:19.140717Z",
     "iopub.status.busy": "2022-12-08T06:42:19.140382Z",
     "iopub.status.idle": "2022-12-08T06:42:19.153197Z",
     "shell.execute_reply": "2022-12-08T06:42:19.152617Z"
    },
    "papermill": {
     "duration": 0.018298,
     "end_time": "2022-12-08T06:42:19.155342",
     "exception": false,
     "start_time": "2022-12-08T06:42:19.137044",
     "status": "completed"
    },
    "tags": []
   },
   "outputs": [
    {
     "name": "stdout",
     "output_type": "stream",
     "text": [
      " - Logging data_shape (json) : [1797, 64]\n",
      " - Logging target_shape (json) : [1797]\n"
     ]
    },
    {
     "data": {
      "text/plain": [
       "((1797, 64), (1797,))"
      ]
     },
     "execution_count": 9,
     "metadata": {},
     "output_type": "execute_result"
    }
   ],
   "source": [
    "logger.log_value(\"data_shape\", list(X.shape))\n",
    "logger.log_value(\"target_shape\", list(y.shape))\n",
    "\n",
    "X.shape, y.shape"
   ]
  },
  {
   "cell_type": "code",
   "execution_count": 10,
   "id": "2ed7c8c6",
   "metadata": {
    "execution": {
     "iopub.execute_input": "2022-12-08T06:42:19.162645Z",
     "iopub.status.busy": "2022-12-08T06:42:19.162324Z",
     "iopub.status.idle": "2022-12-08T06:42:19.170364Z",
     "shell.execute_reply": "2022-12-08T06:42:19.169824Z"
    },
    "papermill": {
     "duration": 0.01273,
     "end_time": "2022-12-08T06:42:19.171759",
     "exception": false,
     "start_time": "2022-12-08T06:42:19.159029",
     "status": "completed"
    },
    "tags": []
   },
   "outputs": [],
   "source": [
    "write_numpy(datalake_root(P) / \"raw\" / \"digits.numpy\", X)\n",
    "write_numpy(datalake_root(P) / \"raw\" / \"labels.numpy\", y)"
   ]
  },
  {
   "cell_type": "code",
   "execution_count": null,
   "id": "1644418f",
   "metadata": {
    "papermill": {
     "duration": 0.00262,
     "end_time": "2022-12-08T06:42:19.177026",
     "exception": false,
     "start_time": "2022-12-08T06:42:19.174406",
     "status": "completed"
    },
    "tags": []
   },
   "outputs": [],
   "source": []
  }
 ],
 "metadata": {
  "jupytext": {
   "cell_metadata_filter": "tags,-all",
   "main_language": "python",
   "notebook_metadata_filter": "-all"
  },
  "language_info": {
   "codemirror_mode": {
    "name": "ipython",
    "version": 3
   },
   "file_extension": ".py",
   "mimetype": "text/x-python",
   "name": "python",
   "nbconvert_exporter": "python",
   "pygments_lexer": "ipython3",
   "version": "3.8.10"
  },
  "papermill": {
   "default_parameters": {},
   "duration": 3.845275,
   "end_time": "2022-12-08T06:42:20.097640",
   "environment_variables": {},
   "exception": null,
   "input_path": "/home/host_user/workspace/mnist-demo-pipeline/mnist-demo-pipeline/notebooks/temp-notebook-mm9k6hgs.ipynb",
   "output_path": "notebooks/ingest.ipynb",
   "parameters": {
    "P": {
     "_opentelemetry_traceparent": "00-2d2770f1382e84497779055bc8562e6a-05b1a8a4adaefe0e-01",
     "pipeline.data_lake_root": "/pipeline-outputs/data-lake",
     "pipeline.github.actor": "matiasdahl",
     "pipeline.github.base_ref": "",
     "pipeline.github.event_name": "schedule",
     "pipeline.github.head_ref": "",
     "pipeline.github.job": "run-tests-pipeline-and-persist-pipeline-outputs",
     "pipeline.github.ref": "refs/heads/development",
     "pipeline.github.ref_name": "development",
     "pipeline.github.ref_type": "branch",
     "pipeline.github.repository": "matiasdahl/dev-mnist-digits-demo-pipeline",
     "pipeline.github.run_id": "3645923404",
     "pipeline.github.runner_name": "Hosted Agent",
     "pipeline.github.sha": "ace0d01011d5e914f1921450dd5a59c11367b38d",
     "pipeline.github.workflow": "Run automated tests, pipeline and deploy results to static reporting site",
     "pipeline.pipeline_run_id": "8399d3a4-a048-40cf-ad89-57f36b387494",
     "pipeline.run_environment": "ci",
     "run.retry_nr": "10",
     "task.max_nr_retries": "15",
     "task.notebook": "notebooks/ingest.py",
     "task.num_cpus": 1,
     "task.timeout_s": "10"
    }
   },
   "start_time": "2022-12-08T06:42:16.252365",
   "version": "2.3.3"
  }
 },
 "nbformat": 4,
 "nbformat_minor": 5
}