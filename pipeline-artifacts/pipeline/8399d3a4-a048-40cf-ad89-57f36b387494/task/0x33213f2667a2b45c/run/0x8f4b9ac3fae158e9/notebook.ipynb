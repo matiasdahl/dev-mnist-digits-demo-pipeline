{
 "cells": [
  {
   "cell_type": "markdown",
   "id": "c3a805d2",
   "metadata": {
    "papermill": {
     "duration": 0.005354,
     "end_time": "2022-12-08T06:42:39.409285",
     "exception": false,
     "start_time": "2022-12-08T06:42:39.403931",
     "status": "completed"
    },
    "tags": []
   },
   "source": [
    "# Benchmark model\n",
    "\n",
    "The purpose of this notebook is to benchmark persisted onnx-model (trained in the\n",
    "previous step) against evaluation set."
   ]
  },
  {
   "cell_type": "markdown",
   "id": "321c01fa",
   "metadata": {
    "papermill": {
     "duration": 0.003917,
     "end_time": "2022-12-08T06:42:39.417875",
     "exception": false,
     "start_time": "2022-12-08T06:42:39.413958",
     "status": "completed"
    },
    "tags": []
   },
   "source": [
    "### Determine run parameters"
   ]
  },
  {
   "cell_type": "code",
   "execution_count": 1,
   "id": "2aeff556",
   "metadata": {
    "execution": {
     "iopub.execute_input": "2022-12-08T06:42:39.427432Z",
     "iopub.status.busy": "2022-12-08T06:42:39.427135Z",
     "iopub.status.idle": "2022-12-08T06:42:39.434635Z",
     "shell.execute_reply": "2022-12-08T06:42:39.434137Z"
    },
    "lines_to_next_cell": 0,
    "papermill": {
     "duration": 0.015083,
     "end_time": "2022-12-08T06:42:39.437230",
     "exception": false,
     "start_time": "2022-12-08T06:42:39.422147",
     "status": "completed"
    },
    "tags": []
   },
   "outputs": [],
   "source": [
    "# ----------------- Parameters for interactive development --------------\n",
    "P = {\n",
    "    \"pipeline.data_lake_root\": \"/pipeline-outputs/data-lake\",\n",
    "    \"task.nr_train_images\": 600,\n",
    "}"
   ]
  },
  {
   "cell_type": "code",
   "execution_count": 2,
   "id": "d26681f4",
   "metadata": {
    "execution": {
     "iopub.execute_input": "2022-12-08T06:42:39.446372Z",
     "iopub.status.busy": "2022-12-08T06:42:39.446172Z",
     "iopub.status.idle": "2022-12-08T06:42:39.448987Z",
     "shell.execute_reply": "2022-12-08T06:42:39.448415Z"
    },
    "lines_to_next_cell": 0,
    "papermill": {
     "duration": 0.010077,
     "end_time": "2022-12-08T06:42:39.451510",
     "exception": false,
     "start_time": "2022-12-08T06:42:39.441433",
     "status": "completed"
    },
    "tags": [
     "parameters"
    ]
   },
   "outputs": [],
   "source": [
    "# - During automated runs parameters will be injected in the below cell -"
   ]
  },
  {
   "cell_type": "code",
   "execution_count": 3,
   "id": "16a5874c",
   "metadata": {
    "execution": {
     "iopub.execute_input": "2022-12-08T06:42:39.460673Z",
     "iopub.status.busy": "2022-12-08T06:42:39.460474Z",
     "iopub.status.idle": "2022-12-08T06:42:39.465218Z",
     "shell.execute_reply": "2022-12-08T06:42:39.464730Z"
    },
    "papermill": {
     "duration": 0.011711,
     "end_time": "2022-12-08T06:42:39.467457",
     "exception": false,
     "start_time": "2022-12-08T06:42:39.455746",
     "status": "completed"
    },
    "tags": [
     "injected-parameters"
    ]
   },
   "outputs": [],
   "source": [
    "# Parameters\n",
    "P = {\n",
    "    \"pipeline.data_lake_root\": \"/pipeline-outputs/data-lake\",\n",
    "    \"pipeline.run_environment\": \"ci\",\n",
    "    \"pipeline.pipeline_run_id\": \"8399d3a4-a048-40cf-ad89-57f36b387494\",\n",
    "    \"pipeline.github.repository\": \"matiasdahl/dev-mnist-digits-demo-pipeline\",\n",
    "    \"pipeline.github.workflow\": \"Run automated tests, pipeline and deploy results to static reporting site\",\n",
    "    \"pipeline.github.runner_name\": \"Hosted Agent\",\n",
    "    \"pipeline.github.run_id\": \"3645923404\",\n",
    "    \"pipeline.github.actor\": \"matiasdahl\",\n",
    "    \"pipeline.github.job\": \"run-tests-pipeline-and-persist-pipeline-outputs\",\n",
    "    \"pipeline.github.base_ref\": \"\",\n",
    "    \"pipeline.github.head_ref\": \"\",\n",
    "    \"pipeline.github.sha\": \"ace0d01011d5e914f1921450dd5a59c11367b38d\",\n",
    "    \"pipeline.github.ref\": \"refs/heads/development\",\n",
    "    \"pipeline.github.ref_type\": \"branch\",\n",
    "    \"pipeline.github.ref_name\": \"development\",\n",
    "    \"pipeline.github.event_name\": \"schedule\",\n",
    "    \"task.nr_train_images\": 600,\n",
    "    \"task.notebook\": \"notebooks/benchmark-model.py\",\n",
    "    \"task.max_nr_retries\": \"1\",\n",
    "    \"run.retry_nr\": \"0\",\n",
    "    \"task.timeout_s\": \"None\",\n",
    "    \"task.num_cpus\": 1,\n",
    "    \"_opentelemetry_traceparent\": \"00-2d2770f1382e84497779055bc8562e6a-c865e1171fc48ab4-01\",\n",
    "}\n"
   ]
  },
  {
   "cell_type": "code",
   "execution_count": 4,
   "id": "02800dfe",
   "metadata": {
    "execution": {
     "iopub.execute_input": "2022-12-08T06:42:39.476518Z",
     "iopub.status.busy": "2022-12-08T06:42:39.476322Z",
     "iopub.status.idle": "2022-12-08T06:42:39.479024Z",
     "shell.execute_reply": "2022-12-08T06:42:39.478545Z"
    },
    "lines_to_next_cell": 0,
    "papermill": {
     "duration": 0.010033,
     "end_time": "2022-12-08T06:42:39.481401",
     "exception": false,
     "start_time": "2022-12-08T06:42:39.471368",
     "status": "completed"
    },
    "tags": []
   },
   "outputs": [],
   "source": [
    "# -----------------------------------------------------------------------"
   ]
  },
  {
   "cell_type": "markdown",
   "id": "96ea4016",
   "metadata": {
    "papermill": {
     "duration": 0.003979,
     "end_time": "2022-12-08T06:42:39.489835",
     "exception": false,
     "start_time": "2022-12-08T06:42:39.485856",
     "status": "completed"
    },
    "tags": []
   },
   "source": [
    "---"
   ]
  },
  {
   "cell_type": "markdown",
   "id": "e0cf02a9",
   "metadata": {
    "lines_to_next_cell": 2,
    "papermill": {
     "duration": 0.006005,
     "end_time": "2022-12-08T06:42:39.505107",
     "exception": false,
     "start_time": "2022-12-08T06:42:39.499102",
     "status": "completed"
    },
    "tags": []
   },
   "source": [
    "### Notebook code"
   ]
  },
  {
   "cell_type": "code",
   "execution_count": 5,
   "id": "61288ea5",
   "metadata": {
    "execution": {
     "iopub.execute_input": "2022-12-08T06:42:39.515060Z",
     "iopub.status.busy": "2022-12-08T06:42:39.514851Z",
     "iopub.status.idle": "2022-12-08T06:42:40.559798Z",
     "shell.execute_reply": "2022-12-08T06:42:40.559214Z"
    },
    "papermill": {
     "duration": 1.051652,
     "end_time": "2022-12-08T06:42:40.561605",
     "exception": false,
     "start_time": "2022-12-08T06:42:39.509953",
     "status": "completed"
    },
    "tags": []
   },
   "outputs": [
    {
     "name": "stderr",
     "output_type": "stream",
     "text": [
      "2022-12-08 06:42:40,392\tINFO worker.py:842 -- Connecting to existing Ray cluster at address: 172.17.0.2:6379\n"
     ]
    }
   ],
   "source": [
    "import itertools as it\n",
    "\n",
    "#\n",
    "import numpy as np\n",
    "import matplotlib.pyplot as plt\n",
    "\n",
    "#\n",
    "from pynb_dag_runner.tasks.task_opentelemetry_logging import PydarLogger\n",
    "\n",
    "#\n",
    "from common.io import datalake_root\n",
    "\n",
    "logger = PydarLogger(P)"
   ]
  },
  {
   "cell_type": "markdown",
   "id": "1e513057",
   "metadata": {
    "papermill": {
     "duration": 0.00453,
     "end_time": "2022-12-08T06:42:40.570835",
     "exception": false,
     "start_time": "2022-12-08T06:42:40.566305",
     "status": "completed"
    },
    "tags": []
   },
   "source": [
    "## Load persisted onnx-model and evaluation data"
   ]
  },
  {
   "cell_type": "code",
   "execution_count": 6,
   "id": "32adff0d",
   "metadata": {
    "execution": {
     "iopub.execute_input": "2022-12-08T06:42:40.581222Z",
     "iopub.status.busy": "2022-12-08T06:42:40.580711Z",
     "iopub.status.idle": "2022-12-08T06:42:40.584416Z",
     "shell.execute_reply": "2022-12-08T06:42:40.583776Z"
    },
    "papermill": {
     "duration": 0.011815,
     "end_time": "2022-12-08T06:42:40.586784",
     "exception": false,
     "start_time": "2022-12-08T06:42:40.574969",
     "status": "completed"
    },
    "tags": []
   },
   "outputs": [],
   "source": [
    "from common.io import read_onnx, get_onnx_inputs, get_onnx_outputs, read_numpy"
   ]
  },
  {
   "cell_type": "code",
   "execution_count": 7,
   "id": "61ce4586",
   "metadata": {
    "execution": {
     "iopub.execute_input": "2022-12-08T06:42:40.597356Z",
     "iopub.status.busy": "2022-12-08T06:42:40.597028Z",
     "iopub.status.idle": "2022-12-08T06:42:40.606138Z",
     "shell.execute_reply": "2022-12-08T06:42:40.605663Z"
    },
    "lines_to_next_cell": 0,
    "papermill": {
     "duration": 0.016529,
     "end_time": "2022-12-08T06:42:40.608444",
     "exception": false,
     "start_time": "2022-12-08T06:42:40.591915",
     "status": "completed"
    },
    "tags": []
   },
   "outputs": [],
   "source": [
    "onnx_inference_session = read_onnx(\n",
    "    datalake_root(P)\n",
    "    / \"models\"\n",
    "    / f\"nr_train_images={P['task.nr_train_images']}\"\n",
    "    / \"model.onnx\"\n",
    ")"
   ]
  },
  {
   "cell_type": "markdown",
   "id": "5bd939bc",
   "metadata": {
    "papermill": {
     "duration": 0.004081,
     "end_time": "2022-12-08T06:42:40.616606",
     "exception": false,
     "start_time": "2022-12-08T06:42:40.612525",
     "status": "completed"
    },
    "tags": []
   },
   "source": [
    "### Record structure of inputs and outputs for ONNX model\n",
    "\n",
    "(this should likely be done in training notebook)"
   ]
  },
  {
   "cell_type": "code",
   "execution_count": 8,
   "id": "c8bea680",
   "metadata": {
    "execution": {
     "iopub.execute_input": "2022-12-08T06:42:40.631958Z",
     "iopub.status.busy": "2022-12-08T06:42:40.631496Z",
     "iopub.status.idle": "2022-12-08T06:42:40.639756Z",
     "shell.execute_reply": "2022-12-08T06:42:40.639236Z"
    },
    "papermill": {
     "duration": 0.021258,
     "end_time": "2022-12-08T06:42:40.642686",
     "exception": false,
     "start_time": "2022-12-08T06:42:40.621428",
     "status": "completed"
    },
    "tags": []
   },
   "outputs": [
    {
     "name": "stdout",
     "output_type": "stream",
     "text": [
      "{\n",
      "  \"inputs\": [\n",
      "    {\n",
      "      \"name\": \"float_input_8x8_image\",\n",
      "      \"shape\": [\n",
      "        null,\n",
      "        64\n",
      "      ],\n",
      "      \"type\": \"tensor(float)\"\n",
      "    }\n",
      "  ],\n",
      "  \"outputs\": [\n",
      "    {\n",
      "      \"name\": \"output_label\",\n",
      "      \"shape\": [\n",
      "        null\n",
      "      ],\n",
      "      \"type\": \"tensor(int64)\"\n",
      "    },\n",
      "    {\n",
      "      \"name\": \"output_probability\",\n",
      "      \"shape\": [],\n",
      "      \"type\": \"seq(map(int64,tensor(float)))\"\n",
      "    }\n",
      "  ]\n",
      "}\n"
     ]
    }
   ],
   "source": [
    "import json\n",
    "\n",
    "onnx_io = json.dumps(\n",
    "    {\n",
    "        \"inputs\": get_onnx_inputs(onnx_inference_session),\n",
    "        \"outputs\": get_onnx_outputs(onnx_inference_session),\n",
    "    },\n",
    "    indent=2,\n",
    ")\n",
    "\n",
    "\n",
    "logger.log_artefact(\"onnx_io_structure.json\", onnx_io)\n",
    "print(onnx_io)"
   ]
  },
  {
   "cell_type": "markdown",
   "id": "8958b26e",
   "metadata": {
    "papermill": {
     "duration": 0.004686,
     "end_time": "2022-12-08T06:42:40.651642",
     "exception": false,
     "start_time": "2022-12-08T06:42:40.646956",
     "status": "completed"
    },
    "tags": []
   },
   "source": [
    "### Evaluate model performance on evaluation data set"
   ]
  },
  {
   "cell_type": "code",
   "execution_count": 9,
   "id": "77311106",
   "metadata": {
    "execution": {
     "iopub.execute_input": "2022-12-08T06:42:40.661522Z",
     "iopub.status.busy": "2022-12-08T06:42:40.661190Z",
     "iopub.status.idle": "2022-12-08T06:42:40.665811Z",
     "shell.execute_reply": "2022-12-08T06:42:40.665063Z"
    },
    "papermill": {
     "duration": 0.011991,
     "end_time": "2022-12-08T06:42:40.667961",
     "exception": false,
     "start_time": "2022-12-08T06:42:40.655970",
     "status": "completed"
    },
    "tags": []
   },
   "outputs": [],
   "source": [
    "# load evaluation data\n",
    "X_test = read_numpy(datalake_root(P) / \"test-data\" / \"digits.numpy\")\n",
    "y_test = read_numpy(datalake_root(P) / \"test-data\" / \"labels.numpy\")"
   ]
  },
  {
   "cell_type": "code",
   "execution_count": 10,
   "id": "e72d45fa",
   "metadata": {
    "execution": {
     "iopub.execute_input": "2022-12-08T06:42:40.678235Z",
     "iopub.status.busy": "2022-12-08T06:42:40.678030Z",
     "iopub.status.idle": "2022-12-08T06:42:40.733491Z",
     "shell.execute_reply": "2022-12-08T06:42:40.732752Z"
    },
    "papermill": {
     "duration": 0.062944,
     "end_time": "2022-12-08T06:42:40.735595",
     "exception": false,
     "start_time": "2022-12-08T06:42:40.672651",
     "status": "completed"
    },
    "tags": []
   },
   "outputs": [],
   "source": [
    "def get_model_outputs(X, onnx_inference_session):\n",
    "    y_pred_labels, y_pred_map = onnx_inference_session.run(\n",
    "        [\"output_label\", \"output_probability\"],\n",
    "        {\"float_input_8x8_image\": X.astype(np.float32)},\n",
    "    )\n",
    "    y_pred_probs = np.array(\n",
    "        [[probabilities[digit] for digit in range(10)] for probabilities in y_pred_map]\n",
    "    )\n",
    "\n",
    "    assert y_pred_labels.shape == (X.shape[0],)\n",
    "    assert y_pred_probs.shape == (X.shape[0], 10)\n",
    "\n",
    "    return y_pred_labels, y_pred_probs\n",
    "\n",
    "\n",
    "# Note: as shown in the training notebook, the predicted labels and probabilities\n",
    "# computed below need not be compatible.\n",
    "y_pred_labels_test, y_pred_probs_test = get_model_outputs(\n",
    "    X_test, onnx_inference_session\n",
    ")"
   ]
  },
  {
   "cell_type": "markdown",
   "id": "604e9e6a",
   "metadata": {
    "papermill": {
     "duration": 0.004515,
     "end_time": "2022-12-08T06:42:40.745358",
     "exception": false,
     "start_time": "2022-12-08T06:42:40.740843",
     "status": "completed"
    },
    "tags": []
   },
   "source": [
    "### Confusion matrix"
   ]
  },
  {
   "cell_type": "code",
   "execution_count": 11,
   "id": "e6f0e9ca",
   "metadata": {
    "execution": {
     "iopub.execute_input": "2022-12-08T06:42:40.755590Z",
     "iopub.status.busy": "2022-12-08T06:42:40.755339Z",
     "iopub.status.idle": "2022-12-08T06:42:40.758070Z",
     "shell.execute_reply": "2022-12-08T06:42:40.757544Z"
    },
    "papermill": {
     "duration": 0.010572,
     "end_time": "2022-12-08T06:42:40.760398",
     "exception": false,
     "start_time": "2022-12-08T06:42:40.749826",
     "status": "completed"
    },
    "tags": []
   },
   "outputs": [],
   "source": [
    "# TODO"
   ]
  },
  {
   "cell_type": "markdown",
   "id": "8841505d",
   "metadata": {
    "papermill": {
     "duration": 0.004612,
     "end_time": "2022-12-08T06:42:40.769846",
     "exception": false,
     "start_time": "2022-12-08T06:42:40.765234",
     "status": "completed"
    },
    "tags": []
   },
   "source": [
    "### Plot predicted probabilities for each classifier over all evaluation digit images"
   ]
  },
  {
   "cell_type": "code",
   "execution_count": 12,
   "id": "b8bc7f37",
   "metadata": {
    "execution": {
     "iopub.execute_input": "2022-12-08T06:42:40.780464Z",
     "iopub.status.busy": "2022-12-08T06:42:40.780128Z",
     "iopub.status.idle": "2022-12-08T06:42:43.605819Z",
     "shell.execute_reply": "2022-12-08T06:42:43.605240Z"
    },
    "papermill": {
     "duration": 2.833051,
     "end_time": "2022-12-08T06:42:43.607777",
     "exception": false,
     "start_time": "2022-12-08T06:42:40.774726",
     "status": "completed"
    },
    "tags": []
   },
   "outputs": [
    {
     "data": {
      "image/png": "[encoded data removed]",
      "text/plain": [
       "<Figure size 1600x600 with 10 Axes>"
      ]
     },
     "metadata": {},
     "output_type": "display_data"
    }
   ],
   "source": [
    "def plot_per_digit_probabilities(y_pred_probs):\n",
    "    fig, axs = plt.subplots(nrows=2, ncols=5, figsize=(16, 6))\n",
    "\n",
    "    for (r, c), digit, ax in zip(\n",
    "        it.product(range(2), range(5)), range(10), axs.reshape(-1)\n",
    "    ):\n",
    "        ax.hist(y_pred_probs_test[:, digit], bins=20)\n",
    "\n",
    "        ax.set_title(f\"Digit {digit}\")\n",
    "        if r == 1 and c == 2:\n",
    "            ax.set_xlabel(\"probability\", fontsize=16)\n",
    "\n",
    "        if c == 0:\n",
    "            ax.set_ylabel(\"counts\", fontsize=16)\n",
    "        ax.set_yscale(\"log\")\n",
    "\n",
    "    fig.tight_layout()\n",
    "    fig.suptitle(\n",
    "        f\"Distributions of prediction probabilities for each digit \"\n",
    "        f\"(on evaluation data, n={y_pred_probs.shape[0]})\",\n",
    "        fontsize=20,\n",
    "    )\n",
    "    fig.tight_layout()\n",
    "    fig.show()\n",
    "\n",
    "    return fig\n",
    "\n",
    "\n",
    "fig = plot_per_digit_probabilities(y_pred_probs_test)"
   ]
  },
  {
   "cell_type": "markdown",
   "id": "6fdaea9e",
   "metadata": {
    "papermill": {
     "duration": 0.005439,
     "end_time": "2022-12-08T06:42:43.618949",
     "exception": false,
     "start_time": "2022-12-08T06:42:43.613510",
     "status": "completed"
    },
    "tags": []
   },
   "source": [
    "From the above distributions we see that most digits have clear separation between\n",
    "high and lower probabilities. Morover, in each case there is roughly an order of\n",
    "magnitude more of digits with low probabilities. This is compatible with digits\n",
    "being roughly evenly distributed in the data."
   ]
  },
  {
   "cell_type": "code",
   "execution_count": 13,
   "id": "da0a10b8",
   "metadata": {
    "execution": {
     "iopub.execute_input": "2022-12-08T06:42:43.630392Z",
     "iopub.status.busy": "2022-12-08T06:42:43.630141Z",
     "iopub.status.idle": "2022-12-08T06:42:44.049104Z",
     "shell.execute_reply": "2022-12-08T06:42:44.048560Z"
    },
    "papermill": {
     "duration": 0.427112,
     "end_time": "2022-12-08T06:42:44.051027",
     "exception": false,
     "start_time": "2022-12-08T06:42:43.623915",
     "status": "completed"
    },
    "tags": []
   },
   "outputs": [],
   "source": [
    "logger.log_figure(\"per-digit-probabilities.png\", fig)"
   ]
  },
  {
   "cell_type": "markdown",
   "id": "3b97c8e3",
   "metadata": {
    "papermill": {
     "duration": 0.00501,
     "end_time": "2022-12-08T06:42:44.061892",
     "exception": false,
     "start_time": "2022-12-08T06:42:44.056882",
     "status": "completed"
    },
    "tags": []
   },
   "source": [
    "### Plot ROC curves for individual one-vs-rest classifiers"
   ]
  },
  {
   "cell_type": "code",
   "execution_count": 14,
   "id": "36f8be06",
   "metadata": {
    "execution": {
     "iopub.execute_input": "2022-12-08T06:42:44.073508Z",
     "iopub.status.busy": "2022-12-08T06:42:44.073225Z",
     "iopub.status.idle": "2022-12-08T06:42:44.434991Z",
     "shell.execute_reply": "2022-12-08T06:42:44.434322Z"
    },
    "papermill": {
     "duration": 0.369547,
     "end_time": "2022-12-08T06:42:44.436857",
     "exception": false,
     "start_time": "2022-12-08T06:42:44.067310",
     "status": "completed"
    },
    "tags": []
   },
   "outputs": [],
   "source": [
    "from sklearn import metrics"
   ]
  },
  {
   "cell_type": "code",
   "execution_count": 15,
   "id": "08a250d4",
   "metadata": {
    "execution": {
     "iopub.execute_input": "2022-12-08T06:42:44.449050Z",
     "iopub.status.busy": "2022-12-08T06:42:44.448700Z",
     "iopub.status.idle": "2022-12-08T06:42:45.467067Z",
     "shell.execute_reply": "2022-12-08T06:42:45.466444Z"
    },
    "papermill": {
     "duration": 1.026222,
     "end_time": "2022-12-08T06:42:45.468600",
     "exception": false,
     "start_time": "2022-12-08T06:42:44.442378",
     "status": "completed"
    },
    "tags": []
   },
   "outputs": [
    {
     "data": {
      "image/png": "[encoded data removed]",
      "text/plain": [
       "<Figure size 1600x800 with 10 Axes>"
      ]
     },
     "metadata": {},
     "output_type": "display_data"
    }
   ],
   "source": [
    "def plot_roc_curves(y, y_pred_probs):\n",
    "    # based on example code\n",
    "    # https://scikit-learn.org/stable/auto_examples/model_selection/plot_roc.html\n",
    "\n",
    "    fig, axs = plt.subplots(nrows=2, ncols=5, figsize=(16, 8))\n",
    "\n",
    "    roc_auc_dict = {}\n",
    "\n",
    "    for (r, c), digit, ax in zip(\n",
    "        it.product(range(2), range(5)), range(10), axs.reshape(-1)\n",
    "    ):\n",
    "        fpr, tpr, _ = metrics.roc_curve(y == digit, y_pred_probs[:, digit])\n",
    "        auc = metrics.auc(fpr, tpr)\n",
    "        roc_auc_dict[str(digit)] = auc\n",
    "\n",
    "        ax.plot(fpr, tpr, label=f\"ROC AUC={round(auc, 3)}\")\n",
    "\n",
    "        ax.set_title(f\"\\nDigit {digit}\", fontsize=16)\n",
    "        if r == 1:\n",
    "            ax.set_xlabel(\"FPR\", fontsize=18)\n",
    "\n",
    "        if c == 0:\n",
    "            ax.set_ylabel(\"TPR\", fontsize=18)\n",
    "\n",
    "        ax.set_xlim([-0.05, 1.05])\n",
    "        ax.set_ylim([-0.05, 1.05])\n",
    "        ax.legend(loc=\"lower right\", frameon=False, fontsize=14)\n",
    "\n",
    "    fig.tight_layout()\n",
    "    fig.suptitle(\n",
    "        f\"ROC plots for one-vs-rest performances \"\n",
    "        f\"(on evaluation data, n={y_pred_probs_test.shape[1]}\",\n",
    "        fontsize=22,\n",
    "    )\n",
    "    fig.tight_layout()\n",
    "    fig.show()\n",
    "\n",
    "    return roc_auc_dict, fig\n",
    "\n",
    "\n",
    "roc_auc_dict, fig = plot_roc_curves(y_test, y_pred_probs_test)"
   ]
  },
  {
   "cell_type": "code",
   "execution_count": 16,
   "id": "c2c60a15",
   "metadata": {
    "execution": {
     "iopub.execute_input": "2022-12-08T06:42:45.483576Z",
     "iopub.status.busy": "2022-12-08T06:42:45.483037Z",
     "iopub.status.idle": "2022-12-08T06:42:45.731744Z",
     "shell.execute_reply": "2022-12-08T06:42:45.731148Z"
    },
    "papermill": {
     "duration": 0.258079,
     "end_time": "2022-12-08T06:42:45.733545",
     "exception": false,
     "start_time": "2022-12-08T06:42:45.475466",
     "status": "completed"
    },
    "tags": []
   },
   "outputs": [],
   "source": [
    "logger.log_figure(\"per-digit-roc-curves.png\", fig)"
   ]
  },
  {
   "cell_type": "code",
   "execution_count": 17,
   "id": "eb5f5ffc",
   "metadata": {
    "execution": {
     "iopub.execute_input": "2022-12-08T06:42:45.753699Z",
     "iopub.status.busy": "2022-12-08T06:42:45.753292Z",
     "iopub.status.idle": "2022-12-08T06:42:45.757988Z",
     "shell.execute_reply": "2022-12-08T06:42:45.757306Z"
    },
    "papermill": {
     "duration": 0.017627,
     "end_time": "2022-12-08T06:42:45.762096",
     "exception": false,
     "start_time": "2022-12-08T06:42:45.744469",
     "status": "completed"
    },
    "tags": []
   },
   "outputs": [
    {
     "data": {
      "text/plain": [
       "{'0': 1.0,\n",
       " '1': 0.9992127460168697,\n",
       " '2': 1.0,\n",
       " '3': 0.9998125585754452,\n",
       " '4': 0.9990855052583447,\n",
       " '5': 0.998800374882849,\n",
       " '6': 0.999923792104862,\n",
       " '7': 0.9998475842097241,\n",
       " '8': 0.9945617906683479,\n",
       " '9': 0.9987806736777931}"
      ]
     },
     "execution_count": 17,
     "metadata": {},
     "output_type": "execute_result"
    }
   ],
   "source": [
    "roc_auc_dict"
   ]
  },
  {
   "cell_type": "code",
   "execution_count": 18,
   "id": "aca2b1cb",
   "metadata": {
    "execution": {
     "iopub.execute_input": "2022-12-08T06:42:45.776477Z",
     "iopub.status.busy": "2022-12-08T06:42:45.776070Z",
     "iopub.status.idle": "2022-12-08T06:42:45.780214Z",
     "shell.execute_reply": "2022-12-08T06:42:45.779607Z"
    },
    "papermill": {
     "duration": 0.013136,
     "end_time": "2022-12-08T06:42:45.782339",
     "exception": false,
     "start_time": "2022-12-08T06:42:45.769203",
     "status": "completed"
    },
    "tags": []
   },
   "outputs": [
    {
     "name": "stdout",
     "output_type": "stream",
     "text": [
      " - Logging roc_auc_per_digit (json) : {'0': 1.0, '1': 0.9992127460168697, '2': 1.0, '3': 0.9998125585754452, '4': 0.9990855052583447, '5': 0.998800374882849, '6': 0.999923792104862, '7': 0.9998475842097241, '8': 0.9945617906683479, '9': 0.9987806736777931}\n"
     ]
    }
   ],
   "source": [
    "logger.log_value(\"roc_auc_per_digit\", roc_auc_dict)"
   ]
  },
  {
   "cell_type": "markdown",
   "id": "59182aab",
   "metadata": {
    "papermill": {
     "duration": 0.006383,
     "end_time": "2022-12-08T06:42:45.795394",
     "exception": false,
     "start_time": "2022-12-08T06:42:45.789011",
     "status": "completed"
    },
    "tags": []
   },
   "source": [
    "### Compute and log mean ROC AUC score averaged over all digits"
   ]
  },
  {
   "cell_type": "code",
   "execution_count": 19,
   "id": "2787d115",
   "metadata": {
    "execution": {
     "iopub.execute_input": "2022-12-08T06:42:45.809990Z",
     "iopub.status.busy": "2022-12-08T06:42:45.809578Z",
     "iopub.status.idle": "2022-12-08T06:42:45.820034Z",
     "shell.execute_reply": "2022-12-08T06:42:45.819443Z"
    },
    "papermill": {
     "duration": 0.019132,
     "end_time": "2022-12-08T06:42:45.821361",
     "exception": false,
     "start_time": "2022-12-08T06:42:45.802229",
     "status": "completed"
    },
    "tags": []
   },
   "outputs": [
    {
     "name": "stdout",
     "output_type": "stream",
     "text": [
      " - Logging roc_auc_class_mean (float) : 0.9990025025394236\n"
     ]
    }
   ],
   "source": [
    "roc_auc_macro = np.mean(list(roc_auc_dict.values()))\n",
    "\n",
    "logger.log_float(\"roc_auc_class_mean\", roc_auc_macro)\n",
    "\n",
    "# assert that the same value can be computed directly using sklearn\n",
    "assert roc_auc_macro == metrics.roc_auc_score(\n",
    "    y_test, y_pred_probs_test, average=\"macro\", multi_class=\"ovr\"\n",
    ")"
   ]
  },
  {
   "cell_type": "code",
   "execution_count": 20,
   "id": "31989ee9",
   "metadata": {
    "execution": {
     "iopub.execute_input": "2022-12-08T06:42:45.836182Z",
     "iopub.status.busy": "2022-12-08T06:42:45.835677Z",
     "iopub.status.idle": "2022-12-08T06:42:45.838863Z",
     "shell.execute_reply": "2022-12-08T06:42:45.838245Z"
    },
    "lines_to_next_cell": 0,
    "papermill": {
     "duration": 0.011752,
     "end_time": "2022-12-08T06:42:45.840354",
     "exception": false,
     "start_time": "2022-12-08T06:42:45.828602",
     "status": "completed"
    },
    "tags": []
   },
   "outputs": [],
   "source": [
    "# ---"
   ]
  },
  {
   "cell_type": "code",
   "execution_count": null,
   "id": "965721da",
   "metadata": {
    "papermill": {
     "duration": 0.006383,
     "end_time": "2022-12-08T06:42:45.854818",
     "exception": false,
     "start_time": "2022-12-08T06:42:45.848435",
     "status": "completed"
    },
    "tags": []
   },
   "outputs": [],
   "source": []
  }
 ],
 "metadata": {
  "jupytext": {
   "cell_metadata_filter": "tags,-all",
   "main_language": "python",
   "notebook_metadata_filter": "-all"
  },
  "language_info": {
   "codemirror_mode": {
    "name": "ipython",
    "version": 3
   },
   "file_extension": ".py",
   "mimetype": "text/x-python",
   "name": "python",
   "nbconvert_exporter": "python",
   "pygments_lexer": "ipython3",
   "version": "3.8.10"
  },
  "papermill": {
   "default_parameters": {},
   "duration": 8.643383,
   "end_time": "2022-12-08T06:42:46.880668",
   "environment_variables": {},
   "exception": null,
   "input_path": "/home/host_user/workspace/mnist-demo-pipeline/mnist-demo-pipeline/notebooks/temp-notebook-1jt0nkic.ipynb",
   "output_path": "notebooks/benchmark-model.ipynb",
   "parameters": {
    "P": {
     "_opentelemetry_traceparent": "00-2d2770f1382e84497779055bc8562e6a-c865e1171fc48ab4-01",
     "pipeline.data_lake_root": "/pipeline-outputs/data-lake",
     "pipeline.github.actor": "matiasdahl",
     "pipeline.github.base_ref": "",
     "pipeline.github.event_name": "schedule",
     "pipeline.github.head_ref": "",
     "pipeline.github.job": "run-tests-pipeline-and-persist-pipeline-outputs",
     "pipeline.github.ref": "refs/heads/development",
     "pipeline.github.ref_name": "development",
     "pipeline.github.ref_type": "branch",
     "pipeline.github.repository": "matiasdahl/dev-mnist-digits-demo-pipeline",
     "pipeline.github.run_id": "3645923404",
     "pipeline.github.runner_name": "Hosted Agent",
     "pipeline.github.sha": "ace0d01011d5e914f1921450dd5a59c11367b38d",
     "pipeline.github.workflow": "Run automated tests, pipeline and deploy results to static reporting site",
     "pipeline.pipeline_run_id": "8399d3a4-a048-40cf-ad89-57f36b387494",
     "pipeline.run_environment": "ci",
     "run.retry_nr": "0",
     "task.max_nr_retries": "1",
     "task.notebook": "notebooks/benchmark-model.py",
     "task.nr_train_images": 600,
     "task.num_cpus": 1,
     "task.timeout_s": "None"
    }
   },
   "start_time": "2022-12-08T06:42:38.237285",
   "version": "2.3.3"
  }
 },
 "nbformat": 4,
 "nbformat_minor": 5
}