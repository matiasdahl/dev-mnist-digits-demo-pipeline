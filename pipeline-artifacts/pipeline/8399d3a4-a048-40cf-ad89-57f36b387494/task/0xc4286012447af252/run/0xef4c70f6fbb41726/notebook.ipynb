{
 "cells": [
  {
   "cell_type": "markdown",
   "id": "2ed443c0",
   "metadata": {
    "papermill": {
     "duration": 0.005654,
     "end_time": "2022-12-08T06:42:54.756997",
     "exception": false,
     "start_time": "2022-12-08T06:42:54.751343",
     "status": "completed"
    },
    "tags": []
   },
   "source": [
    "# Benchmark model\n",
    "\n",
    "The purpose of this notebook is to benchmark persisted onnx-model (trained in the\n",
    "previous step) against evaluation set."
   ]
  },
  {
   "cell_type": "markdown",
   "id": "8fd5c913",
   "metadata": {
    "papermill": {
     "duration": 0.004157,
     "end_time": "2022-12-08T06:42:54.767632",
     "exception": false,
     "start_time": "2022-12-08T06:42:54.763475",
     "status": "completed"
    },
    "tags": []
   },
   "source": [
    "### Determine run parameters"
   ]
  },
  {
   "cell_type": "code",
   "execution_count": 1,
   "id": "f0e199f4",
   "metadata": {
    "execution": {
     "iopub.execute_input": "2022-12-08T06:42:54.777867Z",
     "iopub.status.busy": "2022-12-08T06:42:54.777068Z",
     "iopub.status.idle": "2022-12-08T06:42:54.784591Z",
     "shell.execute_reply": "2022-12-08T06:42:54.784086Z"
    },
    "lines_to_next_cell": 0,
    "papermill": {
     "duration": 0.015059,
     "end_time": "2022-12-08T06:42:54.787136",
     "exception": false,
     "start_time": "2022-12-08T06:42:54.772077",
     "status": "completed"
    },
    "tags": []
   },
   "outputs": [],
   "source": [
    "# ----------------- Parameters for interactive development --------------\n",
    "P = {\n",
    "    \"pipeline.data_lake_root\": \"/pipeline-outputs/data-lake\",\n",
    "    \"task.nr_train_images\": 600,\n",
    "}"
   ]
  },
  {
   "cell_type": "code",
   "execution_count": 2,
   "id": "eeb3f2f4",
   "metadata": {
    "execution": {
     "iopub.execute_input": "2022-12-08T06:42:54.796595Z",
     "iopub.status.busy": "2022-12-08T06:42:54.796393Z",
     "iopub.status.idle": "2022-12-08T06:42:54.799221Z",
     "shell.execute_reply": "2022-12-08T06:42:54.798739Z"
    },
    "lines_to_next_cell": 0,
    "papermill": {
     "duration": 0.010833,
     "end_time": "2022-12-08T06:42:54.801815",
     "exception": false,
     "start_time": "2022-12-08T06:42:54.790982",
     "status": "completed"
    },
    "tags": [
     "parameters"
    ]
   },
   "outputs": [],
   "source": [
    "# - During automated runs parameters will be injected in the below cell -"
   ]
  },
  {
   "cell_type": "code",
   "execution_count": 3,
   "id": "2e760695",
   "metadata": {
    "execution": {
     "iopub.execute_input": "2022-12-08T06:42:54.811349Z",
     "iopub.status.busy": "2022-12-08T06:42:54.811148Z",
     "iopub.status.idle": "2022-12-08T06:42:54.815869Z",
     "shell.execute_reply": "2022-12-08T06:42:54.815401Z"
    },
    "papermill": {
     "duration": 0.011646,
     "end_time": "2022-12-08T06:42:54.818177",
     "exception": false,
     "start_time": "2022-12-08T06:42:54.806531",
     "status": "completed"
    },
    "tags": [
     "injected-parameters"
    ]
   },
   "outputs": [],
   "source": [
    "# Parameters\n",
    "P = {\n",
    "    \"pipeline.data_lake_root\": \"/pipeline-outputs/data-lake\",\n",
    "    \"pipeline.run_environment\": \"ci\",\n",
    "    \"pipeline.pipeline_run_id\": \"8399d3a4-a048-40cf-ad89-57f36b387494\",\n",
    "    \"pipeline.github.repository\": \"matiasdahl/dev-mnist-digits-demo-pipeline\",\n",
    "    \"pipeline.github.workflow\": \"Run automated tests, pipeline and deploy results to static reporting site\",\n",
    "    \"pipeline.github.runner_name\": \"Hosted Agent\",\n",
    "    \"pipeline.github.run_id\": \"3645923404\",\n",
    "    \"pipeline.github.actor\": \"matiasdahl\",\n",
    "    \"pipeline.github.job\": \"run-tests-pipeline-and-persist-pipeline-outputs\",\n",
    "    \"pipeline.github.base_ref\": \"\",\n",
    "    \"pipeline.github.head_ref\": \"\",\n",
    "    \"pipeline.github.sha\": \"ace0d01011d5e914f1921450dd5a59c11367b38d\",\n",
    "    \"pipeline.github.ref\": \"refs/heads/development\",\n",
    "    \"pipeline.github.ref_type\": \"branch\",\n",
    "    \"pipeline.github.ref_name\": \"development\",\n",
    "    \"pipeline.github.event_name\": \"schedule\",\n",
    "    \"task.nr_train_images\": 1200,\n",
    "    \"task.notebook\": \"notebooks/benchmark-model.py\",\n",
    "    \"task.max_nr_retries\": \"1\",\n",
    "    \"run.retry_nr\": \"0\",\n",
    "    \"task.timeout_s\": \"None\",\n",
    "    \"task.num_cpus\": 1,\n",
    "    \"_opentelemetry_traceparent\": \"00-2d2770f1382e84497779055bc8562e6a-f8d1a2f4fb2adcce-01\",\n",
    "}\n"
   ]
  },
  {
   "cell_type": "code",
   "execution_count": 4,
   "id": "e38c6c39",
   "metadata": {
    "execution": {
     "iopub.execute_input": "2022-12-08T06:42:54.827318Z",
     "iopub.status.busy": "2022-12-08T06:42:54.827122Z",
     "iopub.status.idle": "2022-12-08T06:42:54.829748Z",
     "shell.execute_reply": "2022-12-08T06:42:54.829258Z"
    },
    "lines_to_next_cell": 0,
    "papermill": {
     "duration": 0.010092,
     "end_time": "2022-12-08T06:42:54.832044",
     "exception": false,
     "start_time": "2022-12-08T06:42:54.821952",
     "status": "completed"
    },
    "tags": []
   },
   "outputs": [],
   "source": [
    "# -----------------------------------------------------------------------"
   ]
  },
  {
   "cell_type": "markdown",
   "id": "879e4220",
   "metadata": {
    "papermill": {
     "duration": 0.003944,
     "end_time": "2022-12-08T06:42:54.840696",
     "exception": false,
     "start_time": "2022-12-08T06:42:54.836752",
     "status": "completed"
    },
    "tags": []
   },
   "source": [
    "---"
   ]
  },
  {
   "cell_type": "markdown",
   "id": "41691c81",
   "metadata": {
    "lines_to_next_cell": 2,
    "papermill": {
     "duration": 0.00442,
     "end_time": "2022-12-08T06:42:54.849330",
     "exception": false,
     "start_time": "2022-12-08T06:42:54.844910",
     "status": "completed"
    },
    "tags": []
   },
   "source": [
    "### Notebook code"
   ]
  },
  {
   "cell_type": "code",
   "execution_count": 5,
   "id": "756454d4",
   "metadata": {
    "execution": {
     "iopub.execute_input": "2022-12-08T06:42:54.858817Z",
     "iopub.status.busy": "2022-12-08T06:42:54.858597Z",
     "iopub.status.idle": "2022-12-08T06:42:55.936375Z",
     "shell.execute_reply": "2022-12-08T06:42:55.935715Z"
    },
    "papermill": {
     "duration": 1.085541,
     "end_time": "2022-12-08T06:42:55.938706",
     "exception": false,
     "start_time": "2022-12-08T06:42:54.853165",
     "status": "completed"
    },
    "tags": []
   },
   "outputs": [
    {
     "name": "stderr",
     "output_type": "stream",
     "text": [
      "2022-12-08 06:42:55,788\tINFO worker.py:842 -- Connecting to existing Ray cluster at address: 172.17.0.2:6379\n"
     ]
    }
   ],
   "source": [
    "import itertools as it\n",
    "\n",
    "#\n",
    "import numpy as np\n",
    "import matplotlib.pyplot as plt\n",
    "\n",
    "#\n",
    "from pynb_dag_runner.tasks.task_opentelemetry_logging import PydarLogger\n",
    "\n",
    "#\n",
    "from common.io import datalake_root\n",
    "\n",
    "logger = PydarLogger(P)"
   ]
  },
  {
   "cell_type": "markdown",
   "id": "45f2d071",
   "metadata": {
    "papermill": {
     "duration": 0.004367,
     "end_time": "2022-12-08T06:42:55.948118",
     "exception": false,
     "start_time": "2022-12-08T06:42:55.943751",
     "status": "completed"
    },
    "tags": []
   },
   "source": [
    "## Load persisted onnx-model and evaluation data"
   ]
  },
  {
   "cell_type": "code",
   "execution_count": 6,
   "id": "80ce9d0c",
   "metadata": {
    "execution": {
     "iopub.execute_input": "2022-12-08T06:42:55.957863Z",
     "iopub.status.busy": "2022-12-08T06:42:55.957165Z",
     "iopub.status.idle": "2022-12-08T06:42:55.960705Z",
     "shell.execute_reply": "2022-12-08T06:42:55.960098Z"
    },
    "papermill": {
     "duration": 0.010132,
     "end_time": "2022-12-08T06:42:55.962247",
     "exception": false,
     "start_time": "2022-12-08T06:42:55.952115",
     "status": "completed"
    },
    "tags": []
   },
   "outputs": [],
   "source": [
    "from common.io import read_onnx, get_onnx_inputs, get_onnx_outputs, read_numpy"
   ]
  },
  {
   "cell_type": "code",
   "execution_count": 7,
   "id": "640c50fa",
   "metadata": {
    "execution": {
     "iopub.execute_input": "2022-12-08T06:42:55.972806Z",
     "iopub.status.busy": "2022-12-08T06:42:55.972454Z",
     "iopub.status.idle": "2022-12-08T06:42:55.981878Z",
     "shell.execute_reply": "2022-12-08T06:42:55.981279Z"
    },
    "lines_to_next_cell": 0,
    "papermill": {
     "duration": 0.016585,
     "end_time": "2022-12-08T06:42:55.983595",
     "exception": false,
     "start_time": "2022-12-08T06:42:55.967010",
     "status": "completed"
    },
    "tags": []
   },
   "outputs": [],
   "source": [
    "onnx_inference_session = read_onnx(\n",
    "    datalake_root(P)\n",
    "    / \"models\"\n",
    "    / f\"nr_train_images={P['task.nr_train_images']}\"\n",
    "    / \"model.onnx\"\n",
    ")"
   ]
  },
  {
   "cell_type": "markdown",
   "id": "eab24711",
   "metadata": {
    "papermill": {
     "duration": 0.004245,
     "end_time": "2022-12-08T06:42:55.992029",
     "exception": false,
     "start_time": "2022-12-08T06:42:55.987784",
     "status": "completed"
    },
    "tags": []
   },
   "source": [
    "### Record structure of inputs and outputs for ONNX model\n",
    "\n",
    "(this should likely be done in training notebook)"
   ]
  },
  {
   "cell_type": "code",
   "execution_count": 8,
   "id": "49b7f1d7",
   "metadata": {
    "execution": {
     "iopub.execute_input": "2022-12-08T06:42:56.003494Z",
     "iopub.status.busy": "2022-12-08T06:42:56.002148Z",
     "iopub.status.idle": "2022-12-08T06:42:56.008518Z",
     "shell.execute_reply": "2022-12-08T06:42:56.007856Z"
    },
    "papermill": {
     "duration": 0.014552,
     "end_time": "2022-12-08T06:42:56.011316",
     "exception": false,
     "start_time": "2022-12-08T06:42:55.996764",
     "status": "completed"
    },
    "tags": []
   },
   "outputs": [
    {
     "name": "stdout",
     "output_type": "stream",
     "text": [
      "{\n",
      "  \"inputs\": [\n",
      "    {\n",
      "      \"name\": \"float_input_8x8_image\",\n",
      "      \"shape\": [\n",
      "        null,\n",
      "        64\n",
      "      ],\n",
      "      \"type\": \"tensor(float)\"\n",
      "    }\n",
      "  ],\n",
      "  \"outputs\": [\n",
      "    {\n",
      "      \"name\": \"output_label\",\n",
      "      \"shape\": [\n",
      "        null\n",
      "      ],\n",
      "      \"type\": \"tensor(int64)\"\n",
      "    },\n",
      "    {\n",
      "      \"name\": \"output_probability\",\n",
      "      \"shape\": [],\n",
      "      \"type\": \"seq(map(int64,tensor(float)))\"\n",
      "    }\n",
      "  ]\n",
      "}\n"
     ]
    }
   ],
   "source": [
    "import json\n",
    "\n",
    "onnx_io = json.dumps(\n",
    "    {\n",
    "        \"inputs\": get_onnx_inputs(onnx_inference_session),\n",
    "        \"outputs\": get_onnx_outputs(onnx_inference_session),\n",
    "    },\n",
    "    indent=2,\n",
    ")\n",
    "\n",
    "\n",
    "logger.log_artefact(\"onnx_io_structure.json\", onnx_io)\n",
    "print(onnx_io)"
   ]
  },
  {
   "cell_type": "markdown",
   "id": "9e45e375",
   "metadata": {
    "papermill": {
     "duration": 0.00423,
     "end_time": "2022-12-08T06:42:56.019891",
     "exception": false,
     "start_time": "2022-12-08T06:42:56.015661",
     "status": "completed"
    },
    "tags": []
   },
   "source": [
    "### Evaluate model performance on evaluation data set"
   ]
  },
  {
   "cell_type": "code",
   "execution_count": 9,
   "id": "018296d7",
   "metadata": {
    "execution": {
     "iopub.execute_input": "2022-12-08T06:42:56.029649Z",
     "iopub.status.busy": "2022-12-08T06:42:56.029295Z",
     "iopub.status.idle": "2022-12-08T06:42:56.033282Z",
     "shell.execute_reply": "2022-12-08T06:42:56.032758Z"
    },
    "papermill": {
     "duration": 0.010376,
     "end_time": "2022-12-08T06:42:56.034712",
     "exception": false,
     "start_time": "2022-12-08T06:42:56.024336",
     "status": "completed"
    },
    "tags": []
   },
   "outputs": [],
   "source": [
    "# load evaluation data\n",
    "X_test = read_numpy(datalake_root(P) / \"test-data\" / \"digits.numpy\")\n",
    "y_test = read_numpy(datalake_root(P) / \"test-data\" / \"labels.numpy\")"
   ]
  },
  {
   "cell_type": "code",
   "execution_count": 10,
   "id": "3aa10040",
   "metadata": {
    "execution": {
     "iopub.execute_input": "2022-12-08T06:42:56.044604Z",
     "iopub.status.busy": "2022-12-08T06:42:56.044223Z",
     "iopub.status.idle": "2022-12-08T06:42:56.092477Z",
     "shell.execute_reply": "2022-12-08T06:42:56.091883Z"
    },
    "papermill": {
     "duration": 0.05536,
     "end_time": "2022-12-08T06:42:56.094281",
     "exception": false,
     "start_time": "2022-12-08T06:42:56.038921",
     "status": "completed"
    },
    "tags": []
   },
   "outputs": [],
   "source": [
    "def get_model_outputs(X, onnx_inference_session):\n",
    "    y_pred_labels, y_pred_map = onnx_inference_session.run(\n",
    "        [\"output_label\", \"output_probability\"],\n",
    "        {\"float_input_8x8_image\": X.astype(np.float32)},\n",
    "    )\n",
    "    y_pred_probs = np.array(\n",
    "        [[probabilities[digit] for digit in range(10)] for probabilities in y_pred_map]\n",
    "    )\n",
    "\n",
    "    assert y_pred_labels.shape == (X.shape[0],)\n",
    "    assert y_pred_probs.shape == (X.shape[0], 10)\n",
    "\n",
    "    return y_pred_labels, y_pred_probs\n",
    "\n",
    "\n",
    "# Note: as shown in the training notebook, the predicted labels and probabilities\n",
    "# computed below need not be compatible.\n",
    "y_pred_labels_test, y_pred_probs_test = get_model_outputs(\n",
    "    X_test, onnx_inference_session\n",
    ")"
   ]
  },
  {
   "cell_type": "markdown",
   "id": "0dfdd178",
   "metadata": {
    "papermill": {
     "duration": 0.00417,
     "end_time": "2022-12-08T06:42:56.103096",
     "exception": false,
     "start_time": "2022-12-08T06:42:56.098926",
     "status": "completed"
    },
    "tags": []
   },
   "source": [
    "### Confusion matrix"
   ]
  },
  {
   "cell_type": "code",
   "execution_count": 11,
   "id": "b05973ff",
   "metadata": {
    "execution": {
     "iopub.execute_input": "2022-12-08T06:42:56.112668Z",
     "iopub.status.busy": "2022-12-08T06:42:56.112314Z",
     "iopub.status.idle": "2022-12-08T06:42:56.116605Z",
     "shell.execute_reply": "2022-12-08T06:42:56.116009Z"
    },
    "papermill": {
     "duration": 0.010901,
     "end_time": "2022-12-08T06:42:56.118103",
     "exception": false,
     "start_time": "2022-12-08T06:42:56.107202",
     "status": "completed"
    },
    "tags": []
   },
   "outputs": [],
   "source": [
    "# TODO"
   ]
  },
  {
   "cell_type": "markdown",
   "id": "1b21d350",
   "metadata": {
    "papermill": {
     "duration": 0.0043,
     "end_time": "2022-12-08T06:42:56.126589",
     "exception": false,
     "start_time": "2022-12-08T06:42:56.122289",
     "status": "completed"
    },
    "tags": []
   },
   "source": [
    "### Plot predicted probabilities for each classifier over all evaluation digit images"
   ]
  },
  {
   "cell_type": "code",
   "execution_count": 12,
   "id": "18cbc565",
   "metadata": {
    "execution": {
     "iopub.execute_input": "2022-12-08T06:42:56.136031Z",
     "iopub.status.busy": "2022-12-08T06:42:56.135641Z",
     "iopub.status.idle": "2022-12-08T06:42:58.798278Z",
     "shell.execute_reply": "2022-12-08T06:42:58.797604Z"
    },
    "papermill": {
     "duration": 2.668952,
     "end_time": "2022-12-08T06:42:58.799784",
     "exception": false,
     "start_time": "2022-12-08T06:42:56.130832",
     "status": "completed"
    },
    "tags": []
   },
   "outputs": [
    {
     "data": {
      "image/png": "[encoded data removed]",
      "text/plain": [
       "<Figure size 1600x600 with 10 Axes>"
      ]
     },
     "metadata": {},
     "output_type": "display_data"
    }
   ],
   "source": [
    "def plot_per_digit_probabilities(y_pred_probs):\n",
    "    fig, axs = plt.subplots(nrows=2, ncols=5, figsize=(16, 6))\n",
    "\n",
    "    for (r, c), digit, ax in zip(\n",
    "        it.product(range(2), range(5)), range(10), axs.reshape(-1)\n",
    "    ):\n",
    "        ax.hist(y_pred_probs_test[:, digit], bins=20)\n",
    "\n",
    "        ax.set_title(f\"Digit {digit}\")\n",
    "        if r == 1 and c == 2:\n",
    "            ax.set_xlabel(\"probability\", fontsize=16)\n",
    "\n",
    "        if c == 0:\n",
    "            ax.set_ylabel(\"counts\", fontsize=16)\n",
    "        ax.set_yscale(\"log\")\n",
    "\n",
    "    fig.tight_layout()\n",
    "    fig.suptitle(\n",
    "        f\"Distributions of prediction probabilities for each digit \"\n",
    "        f\"(on evaluation data, n={y_pred_probs.shape[0]})\",\n",
    "        fontsize=20,\n",
    "    )\n",
    "    fig.tight_layout()\n",
    "    fig.show()\n",
    "\n",
    "    return fig\n",
    "\n",
    "\n",
    "fig = plot_per_digit_probabilities(y_pred_probs_test)"
   ]
  },
  {
   "cell_type": "markdown",
   "id": "fceb7f6c",
   "metadata": {
    "papermill": {
     "duration": 0.005421,
     "end_time": "2022-12-08T06:42:58.810710",
     "exception": false,
     "start_time": "2022-12-08T06:42:58.805289",
     "status": "completed"
    },
    "tags": []
   },
   "source": [
    "From the above distributions we see that most digits have clear separation between\n",
    "high and lower probabilities. Morover, in each case there is roughly an order of\n",
    "magnitude more of digits with low probabilities. This is compatible with digits\n",
    "being roughly evenly distributed in the data."
   ]
  },
  {
   "cell_type": "code",
   "execution_count": 13,
   "id": "c88a98cd",
   "metadata": {
    "execution": {
     "iopub.execute_input": "2022-12-08T06:42:58.822450Z",
     "iopub.status.busy": "2022-12-08T06:42:58.821913Z",
     "iopub.status.idle": "2022-12-08T06:42:59.230275Z",
     "shell.execute_reply": "2022-12-08T06:42:59.229622Z"
    },
    "papermill": {
     "duration": 0.416145,
     "end_time": "2022-12-08T06:42:59.232054",
     "exception": false,
     "start_time": "2022-12-08T06:42:58.815909",
     "status": "completed"
    },
    "tags": []
   },
   "outputs": [],
   "source": [
    "logger.log_figure(\"per-digit-probabilities.png\", fig)"
   ]
  },
  {
   "cell_type": "markdown",
   "id": "eb1f3538",
   "metadata": {
    "papermill": {
     "duration": 0.005303,
     "end_time": "2022-12-08T06:42:59.242667",
     "exception": false,
     "start_time": "2022-12-08T06:42:59.237364",
     "status": "completed"
    },
    "tags": []
   },
   "source": [
    "### Plot ROC curves for individual one-vs-rest classifiers"
   ]
  },
  {
   "cell_type": "code",
   "execution_count": 14,
   "id": "6fddf76d",
   "metadata": {
    "execution": {
     "iopub.execute_input": "2022-12-08T06:42:59.253892Z",
     "iopub.status.busy": "2022-12-08T06:42:59.253440Z",
     "iopub.status.idle": "2022-12-08T06:42:59.603752Z",
     "shell.execute_reply": "2022-12-08T06:42:59.603123Z"
    },
    "papermill": {
     "duration": 0.358154,
     "end_time": "2022-12-08T06:42:59.605708",
     "exception": false,
     "start_time": "2022-12-08T06:42:59.247554",
     "status": "completed"
    },
    "tags": []
   },
   "outputs": [],
   "source": [
    "from sklearn import metrics"
   ]
  },
  {
   "cell_type": "code",
   "execution_count": 15,
   "id": "757168e3",
   "metadata": {
    "execution": {
     "iopub.execute_input": "2022-12-08T06:42:59.618323Z",
     "iopub.status.busy": "2022-12-08T06:42:59.617699Z",
     "iopub.status.idle": "2022-12-08T06:43:00.584409Z",
     "shell.execute_reply": "2022-12-08T06:43:00.583800Z"
    },
    "papermill": {
     "duration": 0.97448,
     "end_time": "2022-12-08T06:43:00.586131",
     "exception": false,
     "start_time": "2022-12-08T06:42:59.611651",
     "status": "completed"
    },
    "tags": []
   },
   "outputs": [
    {
     "data": {
      "image/png": "[encoded data removed]",
      "text/plain": [
       "<Figure size 1600x800 with 10 Axes>"
      ]
     },
     "metadata": {},
     "output_type": "display_data"
    }
   ],
   "source": [
    "def plot_roc_curves(y, y_pred_probs):\n",
    "    # based on example code\n",
    "    # https://scikit-learn.org/stable/auto_examples/model_selection/plot_roc.html\n",
    "\n",
    "    fig, axs = plt.subplots(nrows=2, ncols=5, figsize=(16, 8))\n",
    "\n",
    "    roc_auc_dict = {}\n",
    "\n",
    "    for (r, c), digit, ax in zip(\n",
    "        it.product(range(2), range(5)), range(10), axs.reshape(-1)\n",
    "    ):\n",
    "        fpr, tpr, _ = metrics.roc_curve(y == digit, y_pred_probs[:, digit])\n",
    "        auc = metrics.auc(fpr, tpr)\n",
    "        roc_auc_dict[str(digit)] = auc\n",
    "\n",
    "        ax.plot(fpr, tpr, label=f\"ROC AUC={round(auc, 3)}\")\n",
    "\n",
    "        ax.set_title(f\"\\nDigit {digit}\", fontsize=16)\n",
    "        if r == 1:\n",
    "            ax.set_xlabel(\"FPR\", fontsize=18)\n",
    "\n",
    "        if c == 0:\n",
    "            ax.set_ylabel(\"TPR\", fontsize=18)\n",
    "\n",
    "        ax.set_xlim([-0.05, 1.05])\n",
    "        ax.set_ylim([-0.05, 1.05])\n",
    "        ax.legend(loc=\"lower right\", frameon=False, fontsize=14)\n",
    "\n",
    "    fig.tight_layout()\n",
    "    fig.suptitle(\n",
    "        f\"ROC plots for one-vs-rest performances \"\n",
    "        f\"(on evaluation data, n={y_pred_probs_test.shape[1]}\",\n",
    "        fontsize=22,\n",
    "    )\n",
    "    fig.tight_layout()\n",
    "    fig.show()\n",
    "\n",
    "    return roc_auc_dict, fig\n",
    "\n",
    "\n",
    "roc_auc_dict, fig = plot_roc_curves(y_test, y_pred_probs_test)"
   ]
  },
  {
   "cell_type": "code",
   "execution_count": 16,
   "id": "9cd5410e",
   "metadata": {
    "execution": {
     "iopub.execute_input": "2022-12-08T06:43:00.599764Z",
     "iopub.status.busy": "2022-12-08T06:43:00.599349Z",
     "iopub.status.idle": "2022-12-08T06:43:00.821122Z",
     "shell.execute_reply": "2022-12-08T06:43:00.820422Z"
    },
    "papermill": {
     "duration": 0.230236,
     "end_time": "2022-12-08T06:43:00.822844",
     "exception": false,
     "start_time": "2022-12-08T06:43:00.592608",
     "status": "completed"
    },
    "tags": []
   },
   "outputs": [],
   "source": [
    "logger.log_figure(\"per-digit-roc-curves.png\", fig)"
   ]
  },
  {
   "cell_type": "code",
   "execution_count": 17,
   "id": "98a621a1",
   "metadata": {
    "execution": {
     "iopub.execute_input": "2022-12-08T06:43:00.837882Z",
     "iopub.status.busy": "2022-12-08T06:43:00.837306Z",
     "iopub.status.idle": "2022-12-08T06:43:00.841958Z",
     "shell.execute_reply": "2022-12-08T06:43:00.841310Z"
    },
    "papermill": {
     "duration": 0.014066,
     "end_time": "2022-12-08T06:43:00.844271",
     "exception": false,
     "start_time": "2022-12-08T06:43:00.830205",
     "status": "completed"
    },
    "tags": []
   },
   "outputs": [
    {
     "data": {
      "text/plain": [
       "{'0': 1.0,\n",
       " '1': 0.9991002811621369,\n",
       " '2': 1.0,\n",
       " '3': 0.9998500468603562,\n",
       " '4': 0.9997332723670173,\n",
       " '5': 0.9997000937207123,\n",
       " '6': 0.999923792104862,\n",
       " '7': 0.9998475842097242,\n",
       " '8': 0.9958622320302648,\n",
       " '9': 0.9998094802621552}"
      ]
     },
     "execution_count": 17,
     "metadata": {},
     "output_type": "execute_result"
    }
   ],
   "source": [
    "roc_auc_dict"
   ]
  },
  {
   "cell_type": "code",
   "execution_count": 18,
   "id": "9e513868",
   "metadata": {
    "execution": {
     "iopub.execute_input": "2022-12-08T06:43:00.857918Z",
     "iopub.status.busy": "2022-12-08T06:43:00.857587Z",
     "iopub.status.idle": "2022-12-08T06:43:00.861617Z",
     "shell.execute_reply": "2022-12-08T06:43:00.860865Z"
    },
    "papermill": {
     "duration": 0.013191,
     "end_time": "2022-12-08T06:43:00.863823",
     "exception": false,
     "start_time": "2022-12-08T06:43:00.850632",
     "status": "completed"
    },
    "tags": []
   },
   "outputs": [
    {
     "name": "stdout",
     "output_type": "stream",
     "text": [
      " - Logging roc_auc_per_digit (json) : {'0': 1.0, '1': 0.9991002811621369, '2': 1.0, '3': 0.9998500468603562, '4': 0.9997332723670173, '5': 0.9997000937207123, '6': 0.999923792104862, '7': 0.9998475842097242, '8': 0.9958622320302648, '9': 0.9998094802621552}\n"
     ]
    }
   ],
   "source": [
    "logger.log_value(\"roc_auc_per_digit\", roc_auc_dict)"
   ]
  },
  {
   "cell_type": "markdown",
   "id": "e7f5d4fd",
   "metadata": {
    "papermill": {
     "duration": 0.006255,
     "end_time": "2022-12-08T06:43:00.876316",
     "exception": false,
     "start_time": "2022-12-08T06:43:00.870061",
     "status": "completed"
    },
    "tags": []
   },
   "source": [
    "### Compute and log mean ROC AUC score averaged over all digits"
   ]
  },
  {
   "cell_type": "code",
   "execution_count": 19,
   "id": "d18020da",
   "metadata": {
    "execution": {
     "iopub.execute_input": "2022-12-08T06:43:00.890159Z",
     "iopub.status.busy": "2022-12-08T06:43:00.889642Z",
     "iopub.status.idle": "2022-12-08T06:43:00.903460Z",
     "shell.execute_reply": "2022-12-08T06:43:00.902808Z"
    },
    "papermill": {
     "duration": 0.022239,
     "end_time": "2022-12-08T06:43:00.904837",
     "exception": false,
     "start_time": "2022-12-08T06:43:00.882598",
     "status": "completed"
    },
    "tags": []
   },
   "outputs": [
    {
     "name": "stdout",
     "output_type": "stream",
     "text": [
      " - Logging roc_auc_class_mean (float) : 0.9993826782717228\n"
     ]
    }
   ],
   "source": [
    "roc_auc_macro = np.mean(list(roc_auc_dict.values()))\n",
    "\n",
    "logger.log_float(\"roc_auc_class_mean\", roc_auc_macro)\n",
    "\n",
    "# assert that the same value can be computed directly using sklearn\n",
    "assert roc_auc_macro == metrics.roc_auc_score(\n",
    "    y_test, y_pred_probs_test, average=\"macro\", multi_class=\"ovr\"\n",
    ")"
   ]
  },
  {
   "cell_type": "code",
   "execution_count": 20,
   "id": "08be46e8",
   "metadata": {
    "execution": {
     "iopub.execute_input": "2022-12-08T06:43:00.919008Z",
     "iopub.status.busy": "2022-12-08T06:43:00.918674Z",
     "iopub.status.idle": "2022-12-08T06:43:00.921915Z",
     "shell.execute_reply": "2022-12-08T06:43:00.921172Z"
    },
    "lines_to_next_cell": 0,
    "papermill": {
     "duration": 0.011789,
     "end_time": "2022-12-08T06:43:00.923300",
     "exception": false,
     "start_time": "2022-12-08T06:43:00.911511",
     "status": "completed"
    },
    "tags": []
   },
   "outputs": [],
   "source": [
    "# ---"
   ]
  },
  {
   "cell_type": "code",
   "execution_count": null,
   "id": "c2ea05ce",
   "metadata": {
    "papermill": {
     "duration": 0.006176,
     "end_time": "2022-12-08T06:43:00.935907",
     "exception": false,
     "start_time": "2022-12-08T06:43:00.929731",
     "status": "completed"
    },
    "tags": []
   },
   "outputs": [],
   "source": []
  }
 ],
 "metadata": {
  "jupytext": {
   "cell_metadata_filter": "tags,-all",
   "main_language": "python",
   "notebook_metadata_filter": "-all"
  },
  "language_info": {
   "codemirror_mode": {
    "name": "ipython",
    "version": 3
   },
   "file_extension": ".py",
   "mimetype": "text/x-python",
   "name": "python",
   "nbconvert_exporter": "python",
   "pygments_lexer": "ipython3",
   "version": "3.8.10"
  },
  "papermill": {
   "default_parameters": {},
   "duration": 8.376503,
   "end_time": "2022-12-08T06:43:01.960712",
   "environment_variables": {},
   "exception": null,
   "input_path": "/home/host_user/workspace/mnist-demo-pipeline/mnist-demo-pipeline/notebooks/temp-notebook-h_pcv2b7.ipynb",
   "output_path": "notebooks/benchmark-model.ipynb",
   "parameters": {
    "P": {
     "_opentelemetry_traceparent": "00-2d2770f1382e84497779055bc8562e6a-f8d1a2f4fb2adcce-01",
     "pipeline.data_lake_root": "/pipeline-outputs/data-lake",
     "pipeline.github.actor": "matiasdahl",
     "pipeline.github.base_ref": "",
     "pipeline.github.event_name": "schedule",
     "pipeline.github.head_ref": "",
     "pipeline.github.job": "run-tests-pipeline-and-persist-pipeline-outputs",
     "pipeline.github.ref": "refs/heads/development",
     "pipeline.github.ref_name": "development",
     "pipeline.github.ref_type": "branch",
     "pipeline.github.repository": "matiasdahl/dev-mnist-digits-demo-pipeline",
     "pipeline.github.run_id": "3645923404",
     "pipeline.github.runner_name": "Hosted Agent",
     "pipeline.github.sha": "ace0d01011d5e914f1921450dd5a59c11367b38d",
     "pipeline.github.workflow": "Run automated tests, pipeline and deploy results to static reporting site",
     "pipeline.pipeline_run_id": "8399d3a4-a048-40cf-ad89-57f36b387494",
     "pipeline.run_environment": "ci",
     "run.retry_nr": "0",
     "task.max_nr_retries": "1",
     "task.notebook": "notebooks/benchmark-model.py",
     "task.nr_train_images": 1200,
     "task.num_cpus": 1,
     "task.timeout_s": "None"
    }
   },
   "start_time": "2022-12-08T06:42:53.584209",
   "version": "2.3.3"
  }
 },
 "nbformat": 4,
 "nbformat_minor": 5
}