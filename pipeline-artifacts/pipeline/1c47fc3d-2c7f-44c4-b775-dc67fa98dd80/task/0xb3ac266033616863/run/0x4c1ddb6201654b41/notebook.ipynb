{
 "cells": [
  {
   "cell_type": "markdown",
   "id": "4d52390c",
   "metadata": {
    "papermill": {
     "duration": 0.006223,
     "end_time": "2022-12-17T06:38:12.917501",
     "exception": false,
     "start_time": "2022-12-17T06:38:12.911278",
     "status": "completed"
    },
    "tags": []
   },
   "source": [
    "# Benchmark model\n",
    "\n",
    "The purpose of this notebook is to benchmark persisted onnx-model (trained in the\n",
    "previous step) against evaluation set."
   ]
  },
  {
   "cell_type": "markdown",
   "id": "bdfba815",
   "metadata": {
    "papermill": {
     "duration": 0.006383,
     "end_time": "2022-12-17T06:38:12.928176",
     "exception": false,
     "start_time": "2022-12-17T06:38:12.921793",
     "status": "completed"
    },
    "tags": []
   },
   "source": [
    "### Determine run parameters"
   ]
  },
  {
   "cell_type": "code",
   "execution_count": 1,
   "id": "c658c721",
   "metadata": {
    "execution": {
     "iopub.execute_input": "2022-12-17T06:38:12.939704Z",
     "iopub.status.busy": "2022-12-17T06:38:12.939321Z",
     "iopub.status.idle": "2022-12-17T06:38:12.947449Z",
     "shell.execute_reply": "2022-12-17T06:38:12.946915Z"
    },
    "lines_to_next_cell": 0,
    "papermill": {
     "duration": 0.017603,
     "end_time": "2022-12-17T06:38:12.950189",
     "exception": false,
     "start_time": "2022-12-17T06:38:12.932586",
     "status": "completed"
    },
    "tags": []
   },
   "outputs": [],
   "source": [
    "# ----------------- Parameters for interactive development --------------\n",
    "P = {\n",
    "    \"pipeline.data_lake_root\": \"/pipeline-outputs/data-lake\",\n",
    "    \"task.nr_train_images\": 600,\n",
    "}"
   ]
  },
  {
   "cell_type": "code",
   "execution_count": 2,
   "id": "084c5a58",
   "metadata": {
    "execution": {
     "iopub.execute_input": "2022-12-17T06:38:12.960351Z",
     "iopub.status.busy": "2022-12-17T06:38:12.960124Z",
     "iopub.status.idle": "2022-12-17T06:38:12.963481Z",
     "shell.execute_reply": "2022-12-17T06:38:12.962404Z"
    },
    "lines_to_next_cell": 0,
    "papermill": {
     "duration": 0.011383,
     "end_time": "2022-12-17T06:38:12.966548",
     "exception": false,
     "start_time": "2022-12-17T06:38:12.955165",
     "status": "completed"
    },
    "tags": [
     "parameters"
    ]
   },
   "outputs": [],
   "source": [
    "# - During automated runs parameters will be injected in the below cell -"
   ]
  },
  {
   "cell_type": "code",
   "execution_count": 3,
   "id": "2fa0e96c",
   "metadata": {
    "execution": {
     "iopub.execute_input": "2022-12-17T06:38:12.976364Z",
     "iopub.status.busy": "2022-12-17T06:38:12.976148Z",
     "iopub.status.idle": "2022-12-17T06:38:12.980621Z",
     "shell.execute_reply": "2022-12-17T06:38:12.980094Z"
    },
    "papermill": {
     "duration": 0.012464,
     "end_time": "2022-12-17T06:38:12.983001",
     "exception": false,
     "start_time": "2022-12-17T06:38:12.970537",
     "status": "completed"
    },
    "tags": [
     "injected-parameters"
    ]
   },
   "outputs": [],
   "source": [
    "# Parameters\n",
    "P = {\n",
    "    \"pipeline.data_lake_root\": \"/pipeline-outputs/data-lake\",\n",
    "    \"pipeline.run_environment\": \"ci\",\n",
    "    \"pipeline.pipeline_run_id\": \"1c47fc3d-2c7f-44c4-b775-dc67fa98dd80\",\n",
    "    \"pipeline.github.repository\": \"matiasdahl/dev-mnist-digits-demo-pipeline\",\n",
    "    \"pipeline.github.workflow\": \"Run automated tests, pipeline and deploy results to static reporting site\",\n",
    "    \"pipeline.github.runner_name\": \"Hosted Agent\",\n",
    "    \"pipeline.github.run_id\": \"3718869532\",\n",
    "    \"pipeline.github.actor\": \"matiasdahl\",\n",
    "    \"pipeline.github.job\": \"run-tests-pipeline-and-persist-pipeline-outputs\",\n",
    "    \"pipeline.github.base_ref\": \"\",\n",
    "    \"pipeline.github.head_ref\": \"\",\n",
    "    \"pipeline.github.sha\": \"ace0d01011d5e914f1921450dd5a59c11367b38d\",\n",
    "    \"pipeline.github.ref\": \"refs/heads/development\",\n",
    "    \"pipeline.github.ref_type\": \"branch\",\n",
    "    \"pipeline.github.ref_name\": \"development\",\n",
    "    \"pipeline.github.event_name\": \"schedule\",\n",
    "    \"task.nr_train_images\": 600,\n",
    "    \"task.notebook\": \"notebooks/benchmark-model.py\",\n",
    "    \"task.max_nr_retries\": \"1\",\n",
    "    \"run.retry_nr\": \"0\",\n",
    "    \"task.timeout_s\": \"None\",\n",
    "    \"task.num_cpus\": 1,\n",
    "    \"_opentelemetry_traceparent\": \"00-2c31cb83729d9fbe447adcd9d2dd0f79-b6a53eb2f30b57b5-01\",\n",
    "}\n"
   ]
  },
  {
   "cell_type": "code",
   "execution_count": 4,
   "id": "4687ae54",
   "metadata": {
    "execution": {
     "iopub.execute_input": "2022-12-17T06:38:12.992742Z",
     "iopub.status.busy": "2022-12-17T06:38:12.992513Z",
     "iopub.status.idle": "2022-12-17T06:38:12.995647Z",
     "shell.execute_reply": "2022-12-17T06:38:12.994820Z"
    },
    "lines_to_next_cell": 0,
    "papermill": {
     "duration": 0.010652,
     "end_time": "2022-12-17T06:38:12.998313",
     "exception": false,
     "start_time": "2022-12-17T06:38:12.987661",
     "status": "completed"
    },
    "tags": []
   },
   "outputs": [],
   "source": [
    "# -----------------------------------------------------------------------"
   ]
  },
  {
   "cell_type": "markdown",
   "id": "23acc4b0",
   "metadata": {
    "papermill": {
     "duration": 0.004726,
     "end_time": "2022-12-17T06:38:13.012566",
     "exception": false,
     "start_time": "2022-12-17T06:38:13.007840",
     "status": "completed"
    },
    "tags": []
   },
   "source": [
    "---"
   ]
  },
  {
   "cell_type": "markdown",
   "id": "eab4b66c",
   "metadata": {
    "lines_to_next_cell": 2,
    "papermill": {
     "duration": 0.004353,
     "end_time": "2022-12-17T06:38:13.021401",
     "exception": false,
     "start_time": "2022-12-17T06:38:13.017048",
     "status": "completed"
    },
    "tags": []
   },
   "source": [
    "### Notebook code"
   ]
  },
  {
   "cell_type": "code",
   "execution_count": 5,
   "id": "1ccd7f8f",
   "metadata": {
    "execution": {
     "iopub.execute_input": "2022-12-17T06:38:13.031727Z",
     "iopub.status.busy": "2022-12-17T06:38:13.030965Z",
     "iopub.status.idle": "2022-12-17T06:38:14.265873Z",
     "shell.execute_reply": "2022-12-17T06:38:14.263610Z"
    },
    "papermill": {
     "duration": 1.242092,
     "end_time": "2022-12-17T06:38:14.267971",
     "exception": false,
     "start_time": "2022-12-17T06:38:13.025879",
     "status": "completed"
    },
    "tags": []
   },
   "outputs": [
    {
     "name": "stderr",
     "output_type": "stream",
     "text": [
      "2022-12-17 06:38:14,017\tINFO worker.py:842 -- Connecting to existing Ray cluster at address: 172.17.0.2:6379\n"
     ]
    }
   ],
   "source": [
    "import itertools as it\n",
    "\n",
    "#\n",
    "import numpy as np\n",
    "import matplotlib.pyplot as plt\n",
    "\n",
    "#\n",
    "from pynb_dag_runner.tasks.task_opentelemetry_logging import PydarLogger\n",
    "\n",
    "#\n",
    "from common.io import datalake_root\n",
    "\n",
    "logger = PydarLogger(P)"
   ]
  },
  {
   "cell_type": "markdown",
   "id": "fe4f1fe7",
   "metadata": {
    "papermill": {
     "duration": 0.005953,
     "end_time": "2022-12-17T06:38:14.279524",
     "exception": false,
     "start_time": "2022-12-17T06:38:14.273571",
     "status": "completed"
    },
    "tags": []
   },
   "source": [
    "## Load persisted onnx-model and evaluation data"
   ]
  },
  {
   "cell_type": "code",
   "execution_count": 6,
   "id": "d2b7e83b",
   "metadata": {
    "execution": {
     "iopub.execute_input": "2022-12-17T06:38:14.290640Z",
     "iopub.status.busy": "2022-12-17T06:38:14.289842Z",
     "iopub.status.idle": "2022-12-17T06:38:14.293827Z",
     "shell.execute_reply": "2022-12-17T06:38:14.293014Z"
    },
    "papermill": {
     "duration": 0.014456,
     "end_time": "2022-12-17T06:38:14.298462",
     "exception": false,
     "start_time": "2022-12-17T06:38:14.284006",
     "status": "completed"
    },
    "tags": []
   },
   "outputs": [],
   "source": [
    "from common.io import read_onnx, get_onnx_inputs, get_onnx_outputs, read_numpy"
   ]
  },
  {
   "cell_type": "code",
   "execution_count": 7,
   "id": "43470cd9",
   "metadata": {
    "execution": {
     "iopub.execute_input": "2022-12-17T06:38:14.309447Z",
     "iopub.status.busy": "2022-12-17T06:38:14.309086Z",
     "iopub.status.idle": "2022-12-17T06:38:14.322542Z",
     "shell.execute_reply": "2022-12-17T06:38:14.321875Z"
    },
    "lines_to_next_cell": 0,
    "papermill": {
     "duration": 0.021323,
     "end_time": "2022-12-17T06:38:14.324464",
     "exception": false,
     "start_time": "2022-12-17T06:38:14.303141",
     "status": "completed"
    },
    "tags": []
   },
   "outputs": [],
   "source": [
    "onnx_inference_session = read_onnx(\n",
    "    datalake_root(P)\n",
    "    / \"models\"\n",
    "    / f\"nr_train_images={P['task.nr_train_images']}\"\n",
    "    / \"model.onnx\"\n",
    ")"
   ]
  },
  {
   "cell_type": "markdown",
   "id": "35cda263",
   "metadata": {
    "papermill": {
     "duration": 0.00452,
     "end_time": "2022-12-17T06:38:14.334203",
     "exception": false,
     "start_time": "2022-12-17T06:38:14.329683",
     "status": "completed"
    },
    "tags": []
   },
   "source": [
    "### Record structure of inputs and outputs for ONNX model\n",
    "\n",
    "(this should likely be done in training notebook)"
   ]
  },
  {
   "cell_type": "code",
   "execution_count": 8,
   "id": "50956df2",
   "metadata": {
    "execution": {
     "iopub.execute_input": "2022-12-17T06:38:14.348084Z",
     "iopub.status.busy": "2022-12-17T06:38:14.347552Z",
     "iopub.status.idle": "2022-12-17T06:38:14.354659Z",
     "shell.execute_reply": "2022-12-17T06:38:14.353746Z"
    },
    "papermill": {
     "duration": 0.015042,
     "end_time": "2022-12-17T06:38:14.356167",
     "exception": false,
     "start_time": "2022-12-17T06:38:14.341125",
     "status": "completed"
    },
    "tags": []
   },
   "outputs": [
    {
     "name": "stdout",
     "output_type": "stream",
     "text": [
      "{\n",
      "  \"inputs\": [\n",
      "    {\n",
      "      \"name\": \"float_input_8x8_image\",\n",
      "      \"shape\": [\n",
      "        null,\n",
      "        64\n",
      "      ],\n",
      "      \"type\": \"tensor(float)\"\n",
      "    }\n",
      "  ],\n",
      "  \"outputs\": [\n",
      "    {\n",
      "      \"name\": \"output_label\",\n",
      "      \"shape\": [\n",
      "        null\n",
      "      ],\n",
      "      \"type\": \"tensor(int64)\"\n",
      "    },\n",
      "    {\n",
      "      \"name\": \"output_probability\",\n",
      "      \"shape\": [],\n",
      "      \"type\": \"seq(map(int64,tensor(float)))\"\n",
      "    }\n",
      "  ]\n",
      "}\n"
     ]
    }
   ],
   "source": [
    "import json\n",
    "\n",
    "onnx_io = json.dumps(\n",
    "    {\n",
    "        \"inputs\": get_onnx_inputs(onnx_inference_session),\n",
    "        \"outputs\": get_onnx_outputs(onnx_inference_session),\n",
    "    },\n",
    "    indent=2,\n",
    ")\n",
    "\n",
    "\n",
    "logger.log_artefact(\"onnx_io_structure.json\", onnx_io)\n",
    "print(onnx_io)"
   ]
  },
  {
   "cell_type": "markdown",
   "id": "844500e3",
   "metadata": {
    "papermill": {
     "duration": 0.004071,
     "end_time": "2022-12-17T06:38:14.364641",
     "exception": false,
     "start_time": "2022-12-17T06:38:14.360570",
     "status": "completed"
    },
    "tags": []
   },
   "source": [
    "### Evaluate model performance on evaluation data set"
   ]
  },
  {
   "cell_type": "code",
   "execution_count": 9,
   "id": "7653ef29",
   "metadata": {
    "execution": {
     "iopub.execute_input": "2022-12-17T06:38:14.374905Z",
     "iopub.status.busy": "2022-12-17T06:38:14.374331Z",
     "iopub.status.idle": "2022-12-17T06:38:14.379940Z",
     "shell.execute_reply": "2022-12-17T06:38:14.379253Z"
    },
    "papermill": {
     "duration": 0.012165,
     "end_time": "2022-12-17T06:38:14.381424",
     "exception": false,
     "start_time": "2022-12-17T06:38:14.369259",
     "status": "completed"
    },
    "tags": []
   },
   "outputs": [],
   "source": [
    "# load evaluation data\n",
    "X_test = read_numpy(datalake_root(P) / \"test-data\" / \"digits.numpy\")\n",
    "y_test = read_numpy(datalake_root(P) / \"test-data\" / \"labels.numpy\")"
   ]
  },
  {
   "cell_type": "code",
   "execution_count": 10,
   "id": "e9a63126",
   "metadata": {
    "execution": {
     "iopub.execute_input": "2022-12-17T06:38:14.391302Z",
     "iopub.status.busy": "2022-12-17T06:38:14.390815Z",
     "iopub.status.idle": "2022-12-17T06:38:14.403283Z",
     "shell.execute_reply": "2022-12-17T06:38:14.402674Z"
    },
    "papermill": {
     "duration": 0.019251,
     "end_time": "2022-12-17T06:38:14.404929",
     "exception": false,
     "start_time": "2022-12-17T06:38:14.385678",
     "status": "completed"
    },
    "tags": []
   },
   "outputs": [],
   "source": [
    "def get_model_outputs(X, onnx_inference_session):\n",
    "    y_pred_labels, y_pred_map = onnx_inference_session.run(\n",
    "        [\"output_label\", \"output_probability\"],\n",
    "        {\"float_input_8x8_image\": X.astype(np.float32)},\n",
    "    )\n",
    "    y_pred_probs = np.array(\n",
    "        [[probabilities[digit] for digit in range(10)] for probabilities in y_pred_map]\n",
    "    )\n",
    "\n",
    "    assert y_pred_labels.shape == (X.shape[0],)\n",
    "    assert y_pred_probs.shape == (X.shape[0], 10)\n",
    "\n",
    "    return y_pred_labels, y_pred_probs\n",
    "\n",
    "\n",
    "# Note: as shown in the training notebook, the predicted labels and probabilities\n",
    "# computed below need not be compatible.\n",
    "y_pred_labels_test, y_pred_probs_test = get_model_outputs(\n",
    "    X_test, onnx_inference_session\n",
    ")"
   ]
  },
  {
   "cell_type": "markdown",
   "id": "8b4a3d12",
   "metadata": {
    "papermill": {
     "duration": 0.004096,
     "end_time": "2022-12-17T06:38:14.413674",
     "exception": false,
     "start_time": "2022-12-17T06:38:14.409578",
     "status": "completed"
    },
    "tags": []
   },
   "source": [
    "### Confusion matrix"
   ]
  },
  {
   "cell_type": "code",
   "execution_count": 11,
   "id": "13f3e0eb",
   "metadata": {
    "execution": {
     "iopub.execute_input": "2022-12-17T06:38:14.423547Z",
     "iopub.status.busy": "2022-12-17T06:38:14.423087Z",
     "iopub.status.idle": "2022-12-17T06:38:14.426211Z",
     "shell.execute_reply": "2022-12-17T06:38:14.425569Z"
    },
    "papermill": {
     "duration": 0.010139,
     "end_time": "2022-12-17T06:38:14.428264",
     "exception": false,
     "start_time": "2022-12-17T06:38:14.418125",
     "status": "completed"
    },
    "tags": []
   },
   "outputs": [],
   "source": [
    "# TODO"
   ]
  },
  {
   "cell_type": "markdown",
   "id": "d7a0f1ff",
   "metadata": {
    "papermill": {
     "duration": 0.004125,
     "end_time": "2022-12-17T06:38:14.436978",
     "exception": false,
     "start_time": "2022-12-17T06:38:14.432853",
     "status": "completed"
    },
    "tags": []
   },
   "source": [
    "### Plot predicted probabilities for each classifier over all evaluation digit images"
   ]
  },
  {
   "cell_type": "code",
   "execution_count": 12,
   "id": "ca4c25a2",
   "metadata": {
    "execution": {
     "iopub.execute_input": "2022-12-17T06:38:14.448008Z",
     "iopub.status.busy": "2022-12-17T06:38:14.447473Z",
     "iopub.status.idle": "2022-12-17T06:38:17.598250Z",
     "shell.execute_reply": "2022-12-17T06:38:17.597470Z"
    },
    "papermill": {
     "duration": 3.159336,
     "end_time": "2022-12-17T06:38:17.600543",
     "exception": false,
     "start_time": "2022-12-17T06:38:14.441207",
     "status": "completed"
    },
    "tags": []
   },
   "outputs": [
    {
     "data": {
      "image/png": "[encoded data removed]",
      "text/plain": [
       "<Figure size 1600x600 with 10 Axes>"
      ]
     },
     "metadata": {},
     "output_type": "display_data"
    }
   ],
   "source": [
    "def plot_per_digit_probabilities(y_pred_probs):\n",
    "    fig, axs = plt.subplots(nrows=2, ncols=5, figsize=(16, 6))\n",
    "\n",
    "    for (r, c), digit, ax in zip(\n",
    "        it.product(range(2), range(5)), range(10), axs.reshape(-1)\n",
    "    ):\n",
    "        ax.hist(y_pred_probs_test[:, digit], bins=20)\n",
    "\n",
    "        ax.set_title(f\"Digit {digit}\")\n",
    "        if r == 1 and c == 2:\n",
    "            ax.set_xlabel(\"probability\", fontsize=16)\n",
    "\n",
    "        if c == 0:\n",
    "            ax.set_ylabel(\"counts\", fontsize=16)\n",
    "        ax.set_yscale(\"log\")\n",
    "\n",
    "    fig.tight_layout()\n",
    "    fig.suptitle(\n",
    "        f\"Distributions of prediction probabilities for each digit \"\n",
    "        f\"(on evaluation data, n={y_pred_probs.shape[0]})\",\n",
    "        fontsize=20,\n",
    "    )\n",
    "    fig.tight_layout()\n",
    "    fig.show()\n",
    "\n",
    "    return fig\n",
    "\n",
    "\n",
    "fig = plot_per_digit_probabilities(y_pred_probs_test)"
   ]
  },
  {
   "cell_type": "markdown",
   "id": "72ba9521",
   "metadata": {
    "papermill": {
     "duration": 0.005356,
     "end_time": "2022-12-17T06:38:17.611186",
     "exception": false,
     "start_time": "2022-12-17T06:38:17.605830",
     "status": "completed"
    },
    "tags": []
   },
   "source": [
    "From the above distributions we see that most digits have clear separation between\n",
    "high and lower probabilities. Morover, in each case there is roughly an order of\n",
    "magnitude more of digits with low probabilities. This is compatible with digits\n",
    "being roughly evenly distributed in the data."
   ]
  },
  {
   "cell_type": "code",
   "execution_count": 13,
   "id": "d8ccf2d9",
   "metadata": {
    "execution": {
     "iopub.execute_input": "2022-12-17T06:38:17.622812Z",
     "iopub.status.busy": "2022-12-17T06:38:17.622546Z",
     "iopub.status.idle": "2022-12-17T06:38:18.083544Z",
     "shell.execute_reply": "2022-12-17T06:38:18.082825Z"
    },
    "papermill": {
     "duration": 0.469385,
     "end_time": "2022-12-17T06:38:18.085839",
     "exception": false,
     "start_time": "2022-12-17T06:38:17.616454",
     "status": "completed"
    },
    "tags": []
   },
   "outputs": [],
   "source": [
    "logger.log_figure(\"per-digit-probabilities.png\", fig)"
   ]
  },
  {
   "cell_type": "markdown",
   "id": "bc67f09f",
   "metadata": {
    "papermill": {
     "duration": 0.005065,
     "end_time": "2022-12-17T06:38:18.096112",
     "exception": false,
     "start_time": "2022-12-17T06:38:18.091047",
     "status": "completed"
    },
    "tags": []
   },
   "source": [
    "### Plot ROC curves for individual one-vs-rest classifiers"
   ]
  },
  {
   "cell_type": "code",
   "execution_count": 14,
   "id": "19bad9cb",
   "metadata": {
    "execution": {
     "iopub.execute_input": "2022-12-17T06:38:18.107364Z",
     "iopub.status.busy": "2022-12-17T06:38:18.106999Z",
     "iopub.status.idle": "2022-12-17T06:38:18.540578Z",
     "shell.execute_reply": "2022-12-17T06:38:18.539969Z"
    },
    "papermill": {
     "duration": 0.441145,
     "end_time": "2022-12-17T06:38:18.542259",
     "exception": false,
     "start_time": "2022-12-17T06:38:18.101114",
     "status": "completed"
    },
    "tags": []
   },
   "outputs": [],
   "source": [
    "from sklearn import metrics"
   ]
  },
  {
   "cell_type": "code",
   "execution_count": 15,
   "id": "7d6190d6",
   "metadata": {
    "execution": {
     "iopub.execute_input": "2022-12-17T06:38:18.557653Z",
     "iopub.status.busy": "2022-12-17T06:38:18.557296Z",
     "iopub.status.idle": "2022-12-17T06:38:19.735632Z",
     "shell.execute_reply": "2022-12-17T06:38:19.734559Z"
    },
    "papermill": {
     "duration": 1.188721,
     "end_time": "2022-12-17T06:38:19.737429",
     "exception": false,
     "start_time": "2022-12-17T06:38:18.548708",
     "status": "completed"
    },
    "tags": []
   },
   "outputs": [
    {
     "data": {
      "image/png": "[encoded data removed]",
      "text/plain": [
       "<Figure size 1600x800 with 10 Axes>"
      ]
     },
     "metadata": {},
     "output_type": "display_data"
    }
   ],
   "source": [
    "def plot_roc_curves(y, y_pred_probs):\n",
    "    # based on example code\n",
    "    # https://scikit-learn.org/stable/auto_examples/model_selection/plot_roc.html\n",
    "\n",
    "    fig, axs = plt.subplots(nrows=2, ncols=5, figsize=(16, 8))\n",
    "\n",
    "    roc_auc_dict = {}\n",
    "\n",
    "    for (r, c), digit, ax in zip(\n",
    "        it.product(range(2), range(5)), range(10), axs.reshape(-1)\n",
    "    ):\n",
    "        fpr, tpr, _ = metrics.roc_curve(y == digit, y_pred_probs[:, digit])\n",
    "        auc = metrics.auc(fpr, tpr)\n",
    "        roc_auc_dict[str(digit)] = auc\n",
    "\n",
    "        ax.plot(fpr, tpr, label=f\"ROC AUC={round(auc, 3)}\")\n",
    "\n",
    "        ax.set_title(f\"\\nDigit {digit}\", fontsize=16)\n",
    "        if r == 1:\n",
    "            ax.set_xlabel(\"FPR\", fontsize=18)\n",
    "\n",
    "        if c == 0:\n",
    "            ax.set_ylabel(\"TPR\", fontsize=18)\n",
    "\n",
    "        ax.set_xlim([-0.05, 1.05])\n",
    "        ax.set_ylim([-0.05, 1.05])\n",
    "        ax.legend(loc=\"lower right\", frameon=False, fontsize=14)\n",
    "\n",
    "    fig.tight_layout()\n",
    "    fig.suptitle(\n",
    "        f\"ROC plots for one-vs-rest performances \"\n",
    "        f\"(on evaluation data, n={y_pred_probs_test.shape[1]}\",\n",
    "        fontsize=22,\n",
    "    )\n",
    "    fig.tight_layout()\n",
    "    fig.show()\n",
    "\n",
    "    return roc_auc_dict, fig\n",
    "\n",
    "\n",
    "roc_auc_dict, fig = plot_roc_curves(y_test, y_pred_probs_test)"
   ]
  },
  {
   "cell_type": "code",
   "execution_count": 16,
   "id": "fb4978f6",
   "metadata": {
    "execution": {
     "iopub.execute_input": "2022-12-17T06:38:20.265411Z",
     "iopub.status.busy": "2022-12-17T06:38:20.265007Z",
     "iopub.status.idle": "2022-12-17T06:38:20.516621Z",
     "shell.execute_reply": "2022-12-17T06:38:20.516041Z"
    },
    "papermill": {
     "duration": 0.294285,
     "end_time": "2022-12-17T06:38:20.518773",
     "exception": false,
     "start_time": "2022-12-17T06:38:20.224488",
     "status": "completed"
    },
    "tags": []
   },
   "outputs": [],
   "source": [
    "logger.log_figure(\"per-digit-roc-curves.png\", fig)"
   ]
  },
  {
   "cell_type": "code",
   "execution_count": 17,
   "id": "1cf8ca02",
   "metadata": {
    "execution": {
     "iopub.execute_input": "2022-12-17T06:38:20.533572Z",
     "iopub.status.busy": "2022-12-17T06:38:20.533310Z",
     "iopub.status.idle": "2022-12-17T06:38:20.537942Z",
     "shell.execute_reply": "2022-12-17T06:38:20.537356Z"
    },
    "papermill": {
     "duration": 0.015867,
     "end_time": "2022-12-17T06:38:20.541643",
     "exception": false,
     "start_time": "2022-12-17T06:38:20.525776",
     "status": "completed"
    },
    "tags": []
   },
   "outputs": [
    {
     "data": {
      "text/plain": [
       "{'0': 1.0,\n",
       " '1': 0.9992127460168697,\n",
       " '2': 1.0,\n",
       " '3': 0.9998125585754452,\n",
       " '4': 0.9990855052583447,\n",
       " '5': 0.9988753514526711,\n",
       " '6': 0.999923792104862,\n",
       " '7': 0.9998475842097241,\n",
       " '8': 0.9946800126103404,\n",
       " '9': 0.998856881572931}"
      ]
     },
     "execution_count": 17,
     "metadata": {},
     "output_type": "execute_result"
    }
   ],
   "source": [
    "roc_auc_dict"
   ]
  },
  {
   "cell_type": "code",
   "execution_count": 18,
   "id": "550d1020",
   "metadata": {
    "execution": {
     "iopub.execute_input": "2022-12-17T06:38:20.556134Z",
     "iopub.status.busy": "2022-12-17T06:38:20.555873Z",
     "iopub.status.idle": "2022-12-17T06:38:20.560557Z",
     "shell.execute_reply": "2022-12-17T06:38:20.559897Z"
    },
    "papermill": {
     "duration": 0.016076,
     "end_time": "2022-12-17T06:38:20.564356",
     "exception": false,
     "start_time": "2022-12-17T06:38:20.548280",
     "status": "completed"
    },
    "tags": []
   },
   "outputs": [
    {
     "name": "stdout",
     "output_type": "stream",
     "text": [
      " - Logging roc_auc_per_digit (json) : {'0': 1.0, '1': 0.9992127460168697, '2': 1.0, '3': 0.9998125585754452, '4': 0.9990855052583447, '5': 0.9988753514526711, '6': 0.999923792104862, '7': 0.9998475842097241, '8': 0.9946800126103404, '9': 0.998856881572931}\n"
     ]
    }
   ],
   "source": [
    "logger.log_value(\"roc_auc_per_digit\", roc_auc_dict)"
   ]
  },
  {
   "cell_type": "markdown",
   "id": "a76d0100",
   "metadata": {
    "papermill": {
     "duration": 0.006971,
     "end_time": "2022-12-17T06:38:20.577997",
     "exception": false,
     "start_time": "2022-12-17T06:38:20.571026",
     "status": "completed"
    },
    "tags": []
   },
   "source": [
    "### Compute and log mean ROC AUC score averaged over all digits"
   ]
  },
  {
   "cell_type": "code",
   "execution_count": 19,
   "id": "fb44d830",
   "metadata": {
    "execution": {
     "iopub.execute_input": "2022-12-17T06:38:20.592767Z",
     "iopub.status.busy": "2022-12-17T06:38:20.592467Z",
     "iopub.status.idle": "2022-12-17T06:38:20.607182Z",
     "shell.execute_reply": "2022-12-17T06:38:20.606204Z"
    },
    "papermill": {
     "duration": 0.024176,
     "end_time": "2022-12-17T06:38:20.609021",
     "exception": false,
     "start_time": "2022-12-17T06:38:20.584845",
     "status": "completed"
    },
    "tags": []
   },
   "outputs": [
    {
     "name": "stdout",
     "output_type": "stream",
     "text": [
      " - Logging roc_auc_class_mean (float) : 0.9990294431801188\n"
     ]
    }
   ],
   "source": [
    "roc_auc_macro = np.mean(list(roc_auc_dict.values()))\n",
    "\n",
    "logger.log_float(\"roc_auc_class_mean\", roc_auc_macro)\n",
    "\n",
    "# assert that the same value can be computed directly using sklearn\n",
    "assert roc_auc_macro == metrics.roc_auc_score(\n",
    "    y_test, y_pred_probs_test, average=\"macro\", multi_class=\"ovr\"\n",
    ")"
   ]
  },
  {
   "cell_type": "code",
   "execution_count": 20,
   "id": "3c9b4fae",
   "metadata": {
    "execution": {
     "iopub.execute_input": "2022-12-17T06:38:20.624976Z",
     "iopub.status.busy": "2022-12-17T06:38:20.624687Z",
     "iopub.status.idle": "2022-12-17T06:38:20.628287Z",
     "shell.execute_reply": "2022-12-17T06:38:20.627649Z"
    },
    "lines_to_next_cell": 0,
    "papermill": {
     "duration": 0.014864,
     "end_time": "2022-12-17T06:38:20.631173",
     "exception": false,
     "start_time": "2022-12-17T06:38:20.616309",
     "status": "completed"
    },
    "tags": []
   },
   "outputs": [],
   "source": [
    "# ---"
   ]
  },
  {
   "cell_type": "code",
   "execution_count": null,
   "id": "d0eb5f85",
   "metadata": {
    "papermill": {
     "duration": 0.006415,
     "end_time": "2022-12-17T06:38:20.645459",
     "exception": false,
     "start_time": "2022-12-17T06:38:20.639044",
     "status": "completed"
    },
    "tags": []
   },
   "outputs": [],
   "source": []
  }
 ],
 "metadata": {
  "jupytext": {
   "cell_metadata_filter": "tags,-all",
   "main_language": "python",
   "notebook_metadata_filter": "-all"
  },
  "language_info": {
   "codemirror_mode": {
    "name": "ipython",
    "version": 3
   },
   "file_extension": ".py",
   "mimetype": "text/x-python",
   "name": "python",
   "nbconvert_exporter": "python",
   "pygments_lexer": "ipython3",
   "version": "3.8.10"
  },
  "papermill": {
   "default_parameters": {},
   "duration": 10.086201,
   "end_time": "2022-12-17T06:38:21.575516",
   "environment_variables": {},
   "exception": null,
   "input_path": "/home/host_user/workspace/mnist-demo-pipeline/mnist-demo-pipeline/notebooks/temp-notebook-7vsueuoo.ipynb",
   "output_path": "notebooks/benchmark-model.ipynb",
   "parameters": {
    "P": {
     "_opentelemetry_traceparent": "00-2c31cb83729d9fbe447adcd9d2dd0f79-b6a53eb2f30b57b5-01",
     "pipeline.data_lake_root": "/pipeline-outputs/data-lake",
     "pipeline.github.actor": "matiasdahl",
     "pipeline.github.base_ref": "",
     "pipeline.github.event_name": "schedule",
     "pipeline.github.head_ref": "",
     "pipeline.github.job": "run-tests-pipeline-and-persist-pipeline-outputs",
     "pipeline.github.ref": "refs/heads/development",
     "pipeline.github.ref_name": "development",
     "pipeline.github.ref_type": "branch",
     "pipeline.github.repository": "matiasdahl/dev-mnist-digits-demo-pipeline",
     "pipeline.github.run_id": "3718869532",
     "pipeline.github.runner_name": "Hosted Agent",
     "pipeline.github.sha": "ace0d01011d5e914f1921450dd5a59c11367b38d",
     "pipeline.github.workflow": "Run automated tests, pipeline and deploy results to static reporting site",
     "pipeline.pipeline_run_id": "1c47fc3d-2c7f-44c4-b775-dc67fa98dd80",
     "pipeline.run_environment": "ci",
     "run.retry_nr": "0",
     "task.max_nr_retries": "1",
     "task.notebook": "notebooks/benchmark-model.py",
     "task.nr_train_images": 600,
     "task.num_cpus": 1,
     "task.timeout_s": "None"
    }
   },
   "start_time": "2022-12-17T06:38:11.489315",
   "version": "2.3.3"
  }
 },
 "nbformat": 4,
 "nbformat_minor": 5
}