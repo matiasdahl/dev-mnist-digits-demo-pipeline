{
 "cells": [
  {
   "cell_type": "markdown",
   "id": "37fc1dbb",
   "metadata": {
    "papermill": {
     "duration": 0.003311,
     "end_time": "2022-12-17T06:37:42.946122",
     "exception": false,
     "start_time": "2022-12-17T06:37:42.942811",
     "status": "completed"
    },
    "tags": []
   },
   "source": [
    "# Ingest toy version of MNIST digit data from sklearn"
   ]
  },
  {
   "cell_type": "markdown",
   "id": "2a4404ba",
   "metadata": {
    "papermill": {
     "duration": 0.002072,
     "end_time": "2022-12-17T06:37:42.951374",
     "exception": false,
     "start_time": "2022-12-17T06:37:42.949302",
     "status": "completed"
    },
    "tags": []
   },
   "source": [
    "### Determine run parameters"
   ]
  },
  {
   "cell_type": "code",
   "execution_count": 1,
   "id": "8bef29c1",
   "metadata": {
    "execution": {
     "iopub.execute_input": "2022-12-17T06:37:42.959661Z",
     "iopub.status.busy": "2022-12-17T06:37:42.959382Z",
     "iopub.status.idle": "2022-12-17T06:37:42.965686Z",
     "shell.execute_reply": "2022-12-17T06:37:42.965081Z"
    },
    "lines_to_next_cell": 0,
    "papermill": {
     "duration": 0.013795,
     "end_time": "2022-12-17T06:37:42.967298",
     "exception": false,
     "start_time": "2022-12-17T06:37:42.953503",
     "status": "completed"
    },
    "tags": []
   },
   "outputs": [],
   "source": [
    "# ----------------- Parameters for interactive development --------------\n",
    "P = {\n",
    "    \"pipeline.run_environment\": \"dev\",\n",
    "    \"pipeline.data_lake_root\": \"/pipeline-outputs/data-lake\",\n",
    "    \"run.retry_nr\": \"1\",\n",
    "}"
   ]
  },
  {
   "cell_type": "code",
   "execution_count": 2,
   "id": "006a268f",
   "metadata": {
    "execution": {
     "iopub.execute_input": "2022-12-17T06:37:42.973529Z",
     "iopub.status.busy": "2022-12-17T06:37:42.973059Z",
     "iopub.status.idle": "2022-12-17T06:37:42.977463Z",
     "shell.execute_reply": "2022-12-17T06:37:42.976277Z"
    },
    "lines_to_next_cell": 0,
    "papermill": {
     "duration": 0.009473,
     "end_time": "2022-12-17T06:37:42.979176",
     "exception": false,
     "start_time": "2022-12-17T06:37:42.969703",
     "status": "completed"
    },
    "tags": [
     "parameters"
    ]
   },
   "outputs": [],
   "source": [
    "# - During automated runs parameters will be injected in the below cell -"
   ]
  },
  {
   "cell_type": "code",
   "execution_count": 3,
   "id": "8ca38afc",
   "metadata": {
    "execution": {
     "iopub.execute_input": "2022-12-17T06:37:42.984827Z",
     "iopub.status.busy": "2022-12-17T06:37:42.984429Z",
     "iopub.status.idle": "2022-12-17T06:37:42.989995Z",
     "shell.execute_reply": "2022-12-17T06:37:42.989435Z"
    },
    "papermill": {
     "duration": 0.009897,
     "end_time": "2022-12-17T06:37:42.991319",
     "exception": false,
     "start_time": "2022-12-17T06:37:42.981422",
     "status": "completed"
    },
    "tags": [
     "injected-parameters"
    ]
   },
   "outputs": [],
   "source": [
    "# Parameters\n",
    "P = {\n",
    "    \"pipeline.data_lake_root\": \"/pipeline-outputs/data-lake\",\n",
    "    \"pipeline.run_environment\": \"ci\",\n",
    "    \"pipeline.pipeline_run_id\": \"1c47fc3d-2c7f-44c4-b775-dc67fa98dd80\",\n",
    "    \"pipeline.github.repository\": \"matiasdahl/dev-mnist-digits-demo-pipeline\",\n",
    "    \"pipeline.github.workflow\": \"Run automated tests, pipeline and deploy results to static reporting site\",\n",
    "    \"pipeline.github.runner_name\": \"Hosted Agent\",\n",
    "    \"pipeline.github.run_id\": \"3718869532\",\n",
    "    \"pipeline.github.actor\": \"matiasdahl\",\n",
    "    \"pipeline.github.job\": \"run-tests-pipeline-and-persist-pipeline-outputs\",\n",
    "    \"pipeline.github.base_ref\": \"\",\n",
    "    \"pipeline.github.head_ref\": \"\",\n",
    "    \"pipeline.github.sha\": \"ace0d01011d5e914f1921450dd5a59c11367b38d\",\n",
    "    \"pipeline.github.ref\": \"refs/heads/development\",\n",
    "    \"pipeline.github.ref_type\": \"branch\",\n",
    "    \"pipeline.github.ref_name\": \"development\",\n",
    "    \"pipeline.github.event_name\": \"schedule\",\n",
    "    \"task.notebook\": \"notebooks/ingest.py\",\n",
    "    \"task.max_nr_retries\": \"15\",\n",
    "    \"run.retry_nr\": \"10\",\n",
    "    \"task.timeout_s\": \"10\",\n",
    "    \"task.num_cpus\": 1,\n",
    "    \"_opentelemetry_traceparent\": \"00-2c31cb83729d9fbe447adcd9d2dd0f79-b23f01ae893fa8ea-01\",\n",
    "}\n"
   ]
  },
  {
   "cell_type": "code",
   "execution_count": 4,
   "id": "bd6bd6ef",
   "metadata": {
    "execution": {
     "iopub.execute_input": "2022-12-17T06:37:42.996924Z",
     "iopub.status.busy": "2022-12-17T06:37:42.996416Z",
     "iopub.status.idle": "2022-12-17T06:37:42.999346Z",
     "shell.execute_reply": "2022-12-17T06:37:42.998783Z"
    },
    "lines_to_next_cell": 0,
    "papermill": {
     "duration": 0.007299,
     "end_time": "2022-12-17T06:37:43.000846",
     "exception": false,
     "start_time": "2022-12-17T06:37:42.993547",
     "status": "completed"
    },
    "tags": []
   },
   "outputs": [],
   "source": [
    "# -----------------------------------------------------------------------"
   ]
  },
  {
   "cell_type": "markdown",
   "id": "11b0f1ea",
   "metadata": {
    "lines_to_next_cell": 2,
    "papermill": {
     "duration": 0.002342,
     "end_time": "2022-12-17T06:37:43.005660",
     "exception": false,
     "start_time": "2022-12-17T06:37:43.003318",
     "status": "completed"
    },
    "tags": []
   },
   "source": [
    "---"
   ]
  },
  {
   "cell_type": "markdown",
   "id": "a256f6aa",
   "metadata": {
    "papermill": {
     "duration": 0.002283,
     "end_time": "2022-12-17T06:37:43.010126",
     "exception": false,
     "start_time": "2022-12-17T06:37:43.007843",
     "status": "completed"
    },
    "tags": []
   },
   "source": [
    "### Simulate different types of failures (for testing timeout and retry logic)"
   ]
  },
  {
   "cell_type": "code",
   "execution_count": 5,
   "id": "8c2a6d65",
   "metadata": {
    "execution": {
     "iopub.execute_input": "2022-12-17T06:37:43.017349Z",
     "iopub.status.busy": "2022-12-17T06:37:43.016734Z",
     "iopub.status.idle": "2022-12-17T06:37:43.460170Z",
     "shell.execute_reply": "2022-12-17T06:37:43.459547Z"
    },
    "papermill": {
     "duration": 0.449844,
     "end_time": "2022-12-17T06:37:43.462152",
     "exception": false,
     "start_time": "2022-12-17T06:37:43.012308",
     "status": "completed"
    },
    "tags": []
   },
   "outputs": [
    {
     "name": "stderr",
     "output_type": "stream",
     "text": [
      "2022-12-17 06:37:43,311\tINFO worker.py:842 -- Connecting to existing Ray cluster at address: 172.17.0.2:6379\n"
     ]
    }
   ],
   "source": [
    "from pynb_dag_runner.tasks.task_opentelemetry_logging import PydarLogger\n",
    "\n",
    "logger = PydarLogger(P)"
   ]
  },
  {
   "cell_type": "code",
   "execution_count": 6,
   "id": "3b7ce867",
   "metadata": {
    "execution": {
     "iopub.execute_input": "2022-12-17T06:37:43.470165Z",
     "iopub.status.busy": "2022-12-17T06:37:43.469347Z",
     "iopub.status.idle": "2022-12-17T06:37:43.476042Z",
     "shell.execute_reply": "2022-12-17T06:37:43.475497Z"
    },
    "papermill": {
     "duration": 0.012293,
     "end_time": "2022-12-17T06:37:43.477576",
     "exception": false,
     "start_time": "2022-12-17T06:37:43.465283",
     "status": "completed"
    },
    "tags": []
   },
   "outputs": [],
   "source": [
    "import time, random\n",
    "\n",
    "\n",
    "def maybe_crash(retry_nr: int, run_environment: str):\n",
    "    if retry_nr == 2 and run_environment == \"ci\":\n",
    "        time.sleep(1e6)\n",
    "\n",
    "    max_retry_nr: int = 3 if run_environment == \"dev\" else 10\n",
    "\n",
    "    if retry_nr < max_retry_nr:\n",
    "        if random.random() < 0.1:\n",
    "            time.sleep(1e6)\n",
    "        else:\n",
    "            raise Exception(\"Simulated exception failure from ingestion step notebook!\")\n",
    "\n",
    "\n",
    "maybe_crash(\n",
    "    retry_nr=int(P[\"run.retry_nr\"]), run_environment=P[\"pipeline.run_environment\"]\n",
    ")"
   ]
  },
  {
   "cell_type": "markdown",
   "id": "c729bcba",
   "metadata": {
    "lines_to_next_cell": 2,
    "papermill": {
     "duration": 0.002352,
     "end_time": "2022-12-17T06:37:43.482631",
     "exception": false,
     "start_time": "2022-12-17T06:37:43.480279",
     "status": "completed"
    },
    "tags": []
   },
   "source": [
    "### Notebook code"
   ]
  },
  {
   "cell_type": "code",
   "execution_count": 7,
   "id": "7ca7c92e",
   "metadata": {
    "execution": {
     "iopub.execute_input": "2022-12-17T06:37:43.488935Z",
     "iopub.status.busy": "2022-12-17T06:37:43.488663Z",
     "iopub.status.idle": "2022-12-17T06:37:44.758602Z",
     "shell.execute_reply": "2022-12-17T06:37:44.757638Z"
    },
    "papermill": {
     "duration": 1.274848,
     "end_time": "2022-12-17T06:37:44.760333",
     "exception": false,
     "start_time": "2022-12-17T06:37:43.485485",
     "status": "completed"
    },
    "tags": []
   },
   "outputs": [],
   "source": [
    "from sklearn import datasets\n",
    "\n",
    "#\n",
    "from common.io import datalake_root, write_numpy"
   ]
  },
  {
   "cell_type": "code",
   "execution_count": 8,
   "id": "a9a6cc21",
   "metadata": {
    "execution": {
     "iopub.execute_input": "2022-12-17T06:37:44.767554Z",
     "iopub.status.busy": "2022-12-17T06:37:44.767026Z",
     "iopub.status.idle": "2022-12-17T06:37:44.780525Z",
     "shell.execute_reply": "2022-12-17T06:37:44.779966Z"
    },
    "lines_to_next_cell": 2,
    "papermill": {
     "duration": 0.01867,
     "end_time": "2022-12-17T06:37:44.782021",
     "exception": false,
     "start_time": "2022-12-17T06:37:44.763351",
     "status": "completed"
    },
    "tags": []
   },
   "outputs": [],
   "source": [
    "digits = datasets.load_digits()\n",
    "\n",
    "X = digits[\"data\"]\n",
    "y = digits[\"target\"]"
   ]
  },
  {
   "cell_type": "code",
   "execution_count": 9,
   "id": "3e5e399a",
   "metadata": {
    "execution": {
     "iopub.execute_input": "2022-12-17T06:37:44.788593Z",
     "iopub.status.busy": "2022-12-17T06:37:44.788131Z",
     "iopub.status.idle": "2022-12-17T06:37:44.801093Z",
     "shell.execute_reply": "2022-12-17T06:37:44.800498Z"
    },
    "papermill": {
     "duration": 0.018048,
     "end_time": "2022-12-17T06:37:44.802549",
     "exception": false,
     "start_time": "2022-12-17T06:37:44.784501",
     "status": "completed"
    },
    "tags": []
   },
   "outputs": [
    {
     "name": "stdout",
     "output_type": "stream",
     "text": [
      " - Logging data_shape (json) : [1797, 64]\n",
      " - Logging target_shape (json) : [1797]\n"
     ]
    },
    {
     "data": {
      "text/plain": [
       "((1797, 64), (1797,))"
      ]
     },
     "execution_count": 9,
     "metadata": {},
     "output_type": "execute_result"
    }
   ],
   "source": [
    "logger.log_value(\"data_shape\", list(X.shape))\n",
    "logger.log_value(\"target_shape\", list(y.shape))\n",
    "\n",
    "X.shape, y.shape"
   ]
  },
  {
   "cell_type": "code",
   "execution_count": 10,
   "id": "c2eeebdb",
   "metadata": {
    "execution": {
     "iopub.execute_input": "2022-12-17T06:37:44.809549Z",
     "iopub.status.busy": "2022-12-17T06:37:44.809129Z",
     "iopub.status.idle": "2022-12-17T06:37:44.818609Z",
     "shell.execute_reply": "2022-12-17T06:37:44.818065Z"
    },
    "papermill": {
     "duration": 0.014539,
     "end_time": "2022-12-17T06:37:44.820129",
     "exception": false,
     "start_time": "2022-12-17T06:37:44.805590",
     "status": "completed"
    },
    "tags": []
   },
   "outputs": [],
   "source": [
    "write_numpy(datalake_root(P) / \"raw\" / \"digits.numpy\", X)\n",
    "write_numpy(datalake_root(P) / \"raw\" / \"labels.numpy\", y)"
   ]
  },
  {
   "cell_type": "code",
   "execution_count": null,
   "id": "dedabd56",
   "metadata": {
    "papermill": {
     "duration": 0.003717,
     "end_time": "2022-12-17T06:37:44.826991",
     "exception": false,
     "start_time": "2022-12-17T06:37:44.823274",
     "status": "completed"
    },
    "tags": []
   },
   "outputs": [],
   "source": []
  }
 ],
 "metadata": {
  "jupytext": {
   "cell_metadata_filter": "tags,-all",
   "main_language": "python",
   "notebook_metadata_filter": "-all"
  },
  "language_info": {
   "codemirror_mode": {
    "name": "ipython",
    "version": 3
   },
   "file_extension": ".py",
   "mimetype": "text/x-python",
   "name": "python",
   "nbconvert_exporter": "python",
   "pygments_lexer": "ipython3",
   "version": "3.8.10"
  },
  "papermill": {
   "default_parameters": {},
   "duration": 3.952146,
   "end_time": "2022-12-17T06:37:45.749458",
   "environment_variables": {},
   "exception": null,
   "input_path": "/home/host_user/workspace/mnist-demo-pipeline/mnist-demo-pipeline/notebooks/temp-notebook-3o917qq3.ipynb",
   "output_path": "notebooks/ingest.ipynb",
   "parameters": {
    "P": {
     "_opentelemetry_traceparent": "00-2c31cb83729d9fbe447adcd9d2dd0f79-b23f01ae893fa8ea-01",
     "pipeline.data_lake_root": "/pipeline-outputs/data-lake",
     "pipeline.github.actor": "matiasdahl",
     "pipeline.github.base_ref": "",
     "pipeline.github.event_name": "schedule",
     "pipeline.github.head_ref": "",
     "pipeline.github.job": "run-tests-pipeline-and-persist-pipeline-outputs",
     "pipeline.github.ref": "refs/heads/development",
     "pipeline.github.ref_name": "development",
     "pipeline.github.ref_type": "branch",
     "pipeline.github.repository": "matiasdahl/dev-mnist-digits-demo-pipeline",
     "pipeline.github.run_id": "3718869532",
     "pipeline.github.runner_name": "Hosted Agent",
     "pipeline.github.sha": "ace0d01011d5e914f1921450dd5a59c11367b38d",
     "pipeline.github.workflow": "Run automated tests, pipeline and deploy results to static reporting site",
     "pipeline.pipeline_run_id": "1c47fc3d-2c7f-44c4-b775-dc67fa98dd80",
     "pipeline.run_environment": "ci",
     "run.retry_nr": "10",
     "task.max_nr_retries": "15",
     "task.notebook": "notebooks/ingest.py",
     "task.num_cpus": 1,
     "task.timeout_s": "10"
    }
   },
   "start_time": "2022-12-17T06:37:41.797312",
   "version": "2.3.3"
  }
 },
 "nbformat": 4,
 "nbformat_minor": 5
}