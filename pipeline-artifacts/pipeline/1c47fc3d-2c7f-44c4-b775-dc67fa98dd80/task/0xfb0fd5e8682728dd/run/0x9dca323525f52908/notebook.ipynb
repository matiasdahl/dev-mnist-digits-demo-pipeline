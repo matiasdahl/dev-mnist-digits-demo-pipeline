{
 "cells": [
  {
   "cell_type": "markdown",
   "id": "ba87f876",
   "metadata": {
    "papermill": {
     "duration": 0.003843,
     "end_time": "2022-12-17T06:37:48.428475",
     "exception": false,
     "start_time": "2022-12-17T06:37:48.424632",
     "status": "completed"
    },
    "tags": []
   },
   "source": [
    "# Split digits and labels into separate training and testing data sets"
   ]
  },
  {
   "cell_type": "markdown",
   "id": "50d4571a",
   "metadata": {
    "papermill": {
     "duration": 0.002299,
     "end_time": "2022-12-17T06:37:48.433477",
     "exception": false,
     "start_time": "2022-12-17T06:37:48.431178",
     "status": "completed"
    },
    "tags": []
   },
   "source": [
    "### Determine run parameters"
   ]
  },
  {
   "cell_type": "code",
   "execution_count": 1,
   "id": "1ec6fd94",
   "metadata": {
    "execution": {
     "iopub.execute_input": "2022-12-17T06:37:48.439558Z",
     "iopub.status.busy": "2022-12-17T06:37:48.439117Z",
     "iopub.status.idle": "2022-12-17T06:37:48.446215Z",
     "shell.execute_reply": "2022-12-17T06:37:48.445588Z"
    },
    "lines_to_next_cell": 0,
    "papermill": {
     "duration": 0.012027,
     "end_time": "2022-12-17T06:37:48.447703",
     "exception": false,
     "start_time": "2022-12-17T06:37:48.435676",
     "status": "completed"
    },
    "tags": []
   },
   "outputs": [],
   "source": [
    "# ----------------- Parameters for interactive development --------------\n",
    "P = {\n",
    "    \"pipeline.data_lake_root\": \"/pipeline-outputs/data-lake\",\n",
    "    \"task.train_test_ratio\": 0.7,\n",
    "}"
   ]
  },
  {
   "cell_type": "code",
   "execution_count": 2,
   "id": "c90d27c2",
   "metadata": {
    "execution": {
     "iopub.execute_input": "2022-12-17T06:37:48.454217Z",
     "iopub.status.busy": "2022-12-17T06:37:48.453370Z",
     "iopub.status.idle": "2022-12-17T06:37:48.456850Z",
     "shell.execute_reply": "2022-12-17T06:37:48.456110Z"
    },
    "lines_to_next_cell": 0,
    "papermill": {
     "duration": 0.008034,
     "end_time": "2022-12-17T06:37:48.458198",
     "exception": false,
     "start_time": "2022-12-17T06:37:48.450164",
     "status": "completed"
    },
    "tags": [
     "parameters"
    ]
   },
   "outputs": [],
   "source": [
    "# - During automated runs parameters will be injected in the below cell -"
   ]
  },
  {
   "cell_type": "code",
   "execution_count": 3,
   "id": "ec458e92",
   "metadata": {
    "execution": {
     "iopub.execute_input": "2022-12-17T06:37:48.464157Z",
     "iopub.status.busy": "2022-12-17T06:37:48.463944Z",
     "iopub.status.idle": "2022-12-17T06:37:48.468306Z",
     "shell.execute_reply": "2022-12-17T06:37:48.467664Z"
    },
    "papermill": {
     "duration": 0.009102,
     "end_time": "2022-12-17T06:37:48.469669",
     "exception": false,
     "start_time": "2022-12-17T06:37:48.460567",
     "status": "completed"
    },
    "tags": [
     "injected-parameters"
    ]
   },
   "outputs": [],
   "source": [
    "# Parameters\n",
    "P = {\n",
    "    \"pipeline.data_lake_root\": \"/pipeline-outputs/data-lake\",\n",
    "    \"pipeline.run_environment\": \"ci\",\n",
    "    \"pipeline.pipeline_run_id\": \"1c47fc3d-2c7f-44c4-b775-dc67fa98dd80\",\n",
    "    \"pipeline.github.repository\": \"matiasdahl/dev-mnist-digits-demo-pipeline\",\n",
    "    \"pipeline.github.workflow\": \"Run automated tests, pipeline and deploy results to static reporting site\",\n",
    "    \"pipeline.github.runner_name\": \"Hosted Agent\",\n",
    "    \"pipeline.github.run_id\": \"3718869532\",\n",
    "    \"pipeline.github.actor\": \"matiasdahl\",\n",
    "    \"pipeline.github.job\": \"run-tests-pipeline-and-persist-pipeline-outputs\",\n",
    "    \"pipeline.github.base_ref\": \"\",\n",
    "    \"pipeline.github.head_ref\": \"\",\n",
    "    \"pipeline.github.sha\": \"ace0d01011d5e914f1921450dd5a59c11367b38d\",\n",
    "    \"pipeline.github.ref\": \"refs/heads/development\",\n",
    "    \"pipeline.github.ref_type\": \"branch\",\n",
    "    \"pipeline.github.ref_name\": \"development\",\n",
    "    \"pipeline.github.event_name\": \"schedule\",\n",
    "    \"task.train_test_ratio\": 0.7,\n",
    "    \"task.notebook\": \"notebooks/split-train-test.py\",\n",
    "    \"task.max_nr_retries\": \"1\",\n",
    "    \"run.retry_nr\": \"0\",\n",
    "    \"task.timeout_s\": \"None\",\n",
    "    \"task.num_cpus\": 1,\n",
    "    \"_opentelemetry_traceparent\": \"00-2c31cb83729d9fbe447adcd9d2dd0f79-69ebdbbfb9e55ef3-01\",\n",
    "}\n"
   ]
  },
  {
   "cell_type": "code",
   "execution_count": 4,
   "id": "79f42f7f",
   "metadata": {
    "execution": {
     "iopub.execute_input": "2022-12-17T06:37:48.475488Z",
     "iopub.status.busy": "2022-12-17T06:37:48.475109Z",
     "iopub.status.idle": "2022-12-17T06:37:48.477691Z",
     "shell.execute_reply": "2022-12-17T06:37:48.477224Z"
    },
    "lines_to_next_cell": 0,
    "papermill": {
     "duration": 0.007125,
     "end_time": "2022-12-17T06:37:48.479131",
     "exception": false,
     "start_time": "2022-12-17T06:37:48.472006",
     "status": "completed"
    },
    "tags": []
   },
   "outputs": [],
   "source": [
    "# -----------------------------------------------------------------------"
   ]
  },
  {
   "cell_type": "markdown",
   "id": "8425156e",
   "metadata": {
    "papermill": {
     "duration": 0.002207,
     "end_time": "2022-12-17T06:37:48.483632",
     "exception": false,
     "start_time": "2022-12-17T06:37:48.481425",
     "status": "completed"
    },
    "tags": []
   },
   "source": [
    "---"
   ]
  },
  {
   "cell_type": "markdown",
   "id": "a3568f6e",
   "metadata": {
    "lines_to_next_cell": 2,
    "papermill": {
     "duration": 0.002314,
     "end_time": "2022-12-17T06:37:48.488261",
     "exception": false,
     "start_time": "2022-12-17T06:37:48.485947",
     "status": "completed"
    },
    "tags": []
   },
   "source": [
    "### Notebook code"
   ]
  },
  {
   "cell_type": "code",
   "execution_count": 5,
   "id": "cb9fcb7e",
   "metadata": {
    "execution": {
     "iopub.execute_input": "2022-12-17T06:37:48.496708Z",
     "iopub.status.busy": "2022-12-17T06:37:48.495955Z",
     "iopub.status.idle": "2022-12-17T06:37:49.001457Z",
     "shell.execute_reply": "2022-12-17T06:37:48.994240Z"
    },
    "papermill": {
     "duration": 0.511885,
     "end_time": "2022-12-17T06:37:49.003856",
     "exception": false,
     "start_time": "2022-12-17T06:37:48.491971",
     "status": "completed"
    },
    "tags": []
   },
   "outputs": [
    {
     "name": "stderr",
     "output_type": "stream",
     "text": [
      "2022-12-17 06:37:48,825\tINFO worker.py:842 -- Connecting to existing Ray cluster at address: 172.17.0.2:6379\n"
     ]
    }
   ],
   "source": [
    "from common.io import datalake_root, read_numpy, write_numpy\n",
    "from pynb_dag_runner.tasks.task_opentelemetry_logging import PydarLogger\n",
    "\n",
    "logger = PydarLogger(P)"
   ]
  },
  {
   "cell_type": "markdown",
   "id": "43e31ec9",
   "metadata": {
    "papermill": {
     "duration": 0.002428,
     "end_time": "2022-12-17T06:37:49.009950",
     "exception": false,
     "start_time": "2022-12-17T06:37:49.007522",
     "status": "completed"
    },
    "tags": []
   },
   "source": [
    "## Load and split digits data"
   ]
  },
  {
   "cell_type": "code",
   "execution_count": 6,
   "id": "d83b4161",
   "metadata": {
    "execution": {
     "iopub.execute_input": "2022-12-17T06:37:49.017596Z",
     "iopub.status.busy": "2022-12-17T06:37:49.017232Z",
     "iopub.status.idle": "2022-12-17T06:37:49.023249Z",
     "shell.execute_reply": "2022-12-17T06:37:49.022452Z"
    },
    "papermill": {
     "duration": 0.013362,
     "end_time": "2022-12-17T06:37:49.026563",
     "exception": false,
     "start_time": "2022-12-17T06:37:49.013201",
     "status": "completed"
    },
    "tags": []
   },
   "outputs": [],
   "source": [
    "X = read_numpy(datalake_root(P) / \"raw\" / \"digits.numpy\")\n",
    "y = read_numpy(datalake_root(P) / \"raw\" / \"labels.numpy\")"
   ]
  },
  {
   "cell_type": "code",
   "execution_count": 7,
   "id": "d444e794",
   "metadata": {
    "execution": {
     "iopub.execute_input": "2022-12-17T06:37:49.033671Z",
     "iopub.status.busy": "2022-12-17T06:37:49.033406Z",
     "iopub.status.idle": "2022-12-17T06:37:49.496339Z",
     "shell.execute_reply": "2022-12-17T06:37:49.495737Z"
    },
    "papermill": {
     "duration": 0.469243,
     "end_time": "2022-12-17T06:37:49.498413",
     "exception": false,
     "start_time": "2022-12-17T06:37:49.029170",
     "status": "completed"
    },
    "tags": []
   },
   "outputs": [],
   "source": [
    "from sklearn.model_selection import train_test_split\n",
    "\n",
    "X_train, X_test, y_train, y_test = train_test_split(\n",
    "    X,\n",
    "    y,\n",
    "    train_size=P[\"task.train_test_ratio\"],\n",
    "    test_size=None,\n",
    "    stratify=y,\n",
    "    shuffle=True,\n",
    "    random_state=1,\n",
    ")\n",
    "\n",
    "# assert nr of pixels per image is the same for all image vectors\n",
    "assert X.shape[1] == X_train.shape[1] == X_test.shape[1]\n",
    "\n",
    "# assert that the (X, y)-pairs have compatible sizes (for both train and test)\n",
    "assert X_train.shape[0] == len(y_train)\n",
    "assert X_test.shape[0] == len(y_test)\n",
    "\n",
    "# assert that all data is used\n",
    "assert len(y) == len(y_train) + len(y_test)"
   ]
  },
  {
   "cell_type": "code",
   "execution_count": 8,
   "id": "28f883fb",
   "metadata": {
    "execution": {
     "iopub.execute_input": "2022-12-17T06:37:49.506707Z",
     "iopub.status.busy": "2022-12-17T06:37:49.506219Z",
     "iopub.status.idle": "2022-12-17T06:37:49.514826Z",
     "shell.execute_reply": "2022-12-17T06:37:49.514056Z"
    },
    "papermill": {
     "duration": 0.014641,
     "end_time": "2022-12-17T06:37:49.516630",
     "exception": false,
     "start_time": "2022-12-17T06:37:49.501989",
     "status": "completed"
    },
    "tags": []
   },
   "outputs": [
    {
     "name": "stdout",
     "output_type": "stream",
     "text": [
      " - Logging nr_digits_train (int) : 1257\n",
      " - Logging nr_digits_test (int) : 540\n"
     ]
    }
   ],
   "source": [
    "logger.log_int(\"nr_digits_train\", len(y_train))\n",
    "logger.log_int(\"nr_digits_test\", len(y_test))"
   ]
  },
  {
   "cell_type": "markdown",
   "id": "6fb22f15",
   "metadata": {
    "papermill": {
     "duration": 0.003988,
     "end_time": "2022-12-17T06:37:49.523659",
     "exception": false,
     "start_time": "2022-12-17T06:37:49.519671",
     "status": "completed"
    },
    "tags": []
   },
   "source": [
    "### Persist training and test data sets to separate files"
   ]
  },
  {
   "cell_type": "code",
   "execution_count": 9,
   "id": "1a0fb3fb",
   "metadata": {
    "execution": {
     "iopub.execute_input": "2022-12-17T06:37:49.530116Z",
     "iopub.status.busy": "2022-12-17T06:37:49.529884Z",
     "iopub.status.idle": "2022-12-17T06:37:49.536457Z",
     "shell.execute_reply": "2022-12-17T06:37:49.535855Z"
    },
    "papermill": {
     "duration": 0.012685,
     "end_time": "2022-12-17T06:37:49.538973",
     "exception": false,
     "start_time": "2022-12-17T06:37:49.526288",
     "status": "completed"
    },
    "tags": []
   },
   "outputs": [],
   "source": [
    "write_numpy(datalake_root(P) / \"train-data\" / \"digits.numpy\", X_train)\n",
    "write_numpy(datalake_root(P) / \"train-data\" / \"labels.numpy\", y_train)\n",
    "\n",
    "#\n",
    "write_numpy(datalake_root(P) / \"test-data\" / \"digits.numpy\", X_test)\n",
    "write_numpy(datalake_root(P) / \"test-data\" / \"labels.numpy\", y_test)"
   ]
  },
  {
   "cell_type": "code",
   "execution_count": null,
   "id": "da055fc9",
   "metadata": {
    "papermill": {
     "duration": 0.004226,
     "end_time": "2022-12-17T06:37:49.546058",
     "exception": false,
     "start_time": "2022-12-17T06:37:49.541832",
     "status": "completed"
    },
    "tags": []
   },
   "outputs": [],
   "source": []
  }
 ],
 "metadata": {
  "jupytext": {
   "cell_metadata_filter": "tags,-all",
   "main_language": "python",
   "notebook_metadata_filter": "-all"
  },
  "language_info": {
   "codemirror_mode": {
    "name": "ipython",
    "version": 3
   },
   "file_extension": ".py",
   "mimetype": "text/x-python",
   "name": "python",
   "nbconvert_exporter": "python",
   "pygments_lexer": "ipython3",
   "version": "3.8.10"
  },
  "papermill": {
   "default_parameters": {},
   "duration": 3.500812,
   "end_time": "2022-12-17T06:37:50.674567",
   "environment_variables": {},
   "exception": null,
   "input_path": "/home/host_user/workspace/mnist-demo-pipeline/mnist-demo-pipeline/notebooks/temp-notebook-_q66ib0u.ipynb",
   "output_path": "notebooks/split-train-test.ipynb",
   "parameters": {
    "P": {
     "_opentelemetry_traceparent": "00-2c31cb83729d9fbe447adcd9d2dd0f79-69ebdbbfb9e55ef3-01",
     "pipeline.data_lake_root": "/pipeline-outputs/data-lake",
     "pipeline.github.actor": "matiasdahl",
     "pipeline.github.base_ref": "",
     "pipeline.github.event_name": "schedule",
     "pipeline.github.head_ref": "",
     "pipeline.github.job": "run-tests-pipeline-and-persist-pipeline-outputs",
     "pipeline.github.ref": "refs/heads/development",
     "pipeline.github.ref_name": "development",
     "pipeline.github.ref_type": "branch",
     "pipeline.github.repository": "matiasdahl/dev-mnist-digits-demo-pipeline",
     "pipeline.github.run_id": "3718869532",
     "pipeline.github.runner_name": "Hosted Agent",
     "pipeline.github.sha": "ace0d01011d5e914f1921450dd5a59c11367b38d",
     "pipeline.github.workflow": "Run automated tests, pipeline and deploy results to static reporting site",
     "pipeline.pipeline_run_id": "1c47fc3d-2c7f-44c4-b775-dc67fa98dd80",
     "pipeline.run_environment": "ci",
     "run.retry_nr": "0",
     "task.max_nr_retries": "1",
     "task.notebook": "notebooks/split-train-test.py",
     "task.num_cpus": 1,
     "task.timeout_s": "None",
     "task.train_test_ratio": 0.7
    }
   },
   "start_time": "2022-12-17T06:37:47.173755",
   "version": "2.3.3"
  }
 },
 "nbformat": 4,
 "nbformat_minor": 5
}