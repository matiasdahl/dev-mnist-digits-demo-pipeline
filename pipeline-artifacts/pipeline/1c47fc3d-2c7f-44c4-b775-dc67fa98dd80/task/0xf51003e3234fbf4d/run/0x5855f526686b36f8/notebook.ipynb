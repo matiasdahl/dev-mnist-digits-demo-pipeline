{
 "cells": [
  {
   "cell_type": "markdown",
   "id": "ab5946c9",
   "metadata": {
    "papermill": {
     "duration": 0.005254,
     "end_time": "2022-12-17T06:38:24.317668",
     "exception": false,
     "start_time": "2022-12-17T06:38:24.312414",
     "status": "completed"
    },
    "tags": []
   },
   "source": [
    "# Benchmark model\n",
    "\n",
    "The purpose of this notebook is to benchmark persisted onnx-model (trained in the\n",
    "previous step) against evaluation set."
   ]
  },
  {
   "cell_type": "markdown",
   "id": "a24d9a7d",
   "metadata": {
    "papermill": {
     "duration": 0.005876,
     "end_time": "2022-12-17T06:38:24.328906",
     "exception": false,
     "start_time": "2022-12-17T06:38:24.323030",
     "status": "completed"
    },
    "tags": []
   },
   "source": [
    "### Determine run parameters"
   ]
  },
  {
   "cell_type": "code",
   "execution_count": 1,
   "id": "9fc43f58",
   "metadata": {
    "execution": {
     "iopub.execute_input": "2022-12-17T06:38:24.338884Z",
     "iopub.status.busy": "2022-12-17T06:38:24.338594Z",
     "iopub.status.idle": "2022-12-17T06:38:24.346989Z",
     "shell.execute_reply": "2022-12-17T06:38:24.346397Z"
    },
    "lines_to_next_cell": 0,
    "papermill": {
     "duration": 0.016487,
     "end_time": "2022-12-17T06:38:24.349928",
     "exception": false,
     "start_time": "2022-12-17T06:38:24.333441",
     "status": "completed"
    },
    "tags": []
   },
   "outputs": [],
   "source": [
    "# ----------------- Parameters for interactive development --------------\n",
    "P = {\n",
    "    \"pipeline.data_lake_root\": \"/pipeline-outputs/data-lake\",\n",
    "    \"task.nr_train_images\": 600,\n",
    "}"
   ]
  },
  {
   "cell_type": "code",
   "execution_count": 2,
   "id": "bfe48fdd",
   "metadata": {
    "execution": {
     "iopub.execute_input": "2022-12-17T06:38:24.360534Z",
     "iopub.status.busy": "2022-12-17T06:38:24.360277Z",
     "iopub.status.idle": "2022-12-17T06:38:24.363930Z",
     "shell.execute_reply": "2022-12-17T06:38:24.363414Z"
    },
    "lines_to_next_cell": 0,
    "papermill": {
     "duration": 0.011054,
     "end_time": "2022-12-17T06:38:24.366476",
     "exception": false,
     "start_time": "2022-12-17T06:38:24.355422",
     "status": "completed"
    },
    "tags": [
     "parameters"
    ]
   },
   "outputs": [],
   "source": [
    "# - During automated runs parameters will be injected in the below cell -"
   ]
  },
  {
   "cell_type": "code",
   "execution_count": 3,
   "id": "c672402d",
   "metadata": {
    "execution": {
     "iopub.execute_input": "2022-12-17T06:38:24.376225Z",
     "iopub.status.busy": "2022-12-17T06:38:24.376008Z",
     "iopub.status.idle": "2022-12-17T06:38:24.380960Z",
     "shell.execute_reply": "2022-12-17T06:38:24.380352Z"
    },
    "papermill": {
     "duration": 0.013636,
     "end_time": "2022-12-17T06:38:24.384184",
     "exception": false,
     "start_time": "2022-12-17T06:38:24.370548",
     "status": "completed"
    },
    "tags": [
     "injected-parameters"
    ]
   },
   "outputs": [],
   "source": [
    "# Parameters\n",
    "P = {\n",
    "    \"pipeline.data_lake_root\": \"/pipeline-outputs/data-lake\",\n",
    "    \"pipeline.run_environment\": \"ci\",\n",
    "    \"pipeline.pipeline_run_id\": \"1c47fc3d-2c7f-44c4-b775-dc67fa98dd80\",\n",
    "    \"pipeline.github.repository\": \"matiasdahl/dev-mnist-digits-demo-pipeline\",\n",
    "    \"pipeline.github.workflow\": \"Run automated tests, pipeline and deploy results to static reporting site\",\n",
    "    \"pipeline.github.runner_name\": \"Hosted Agent\",\n",
    "    \"pipeline.github.run_id\": \"3718869532\",\n",
    "    \"pipeline.github.actor\": \"matiasdahl\",\n",
    "    \"pipeline.github.job\": \"run-tests-pipeline-and-persist-pipeline-outputs\",\n",
    "    \"pipeline.github.base_ref\": \"\",\n",
    "    \"pipeline.github.head_ref\": \"\",\n",
    "    \"pipeline.github.sha\": \"ace0d01011d5e914f1921450dd5a59c11367b38d\",\n",
    "    \"pipeline.github.ref\": \"refs/heads/development\",\n",
    "    \"pipeline.github.ref_type\": \"branch\",\n",
    "    \"pipeline.github.ref_name\": \"development\",\n",
    "    \"pipeline.github.event_name\": \"schedule\",\n",
    "    \"task.nr_train_images\": 1200,\n",
    "    \"task.notebook\": \"notebooks/benchmark-model.py\",\n",
    "    \"task.max_nr_retries\": \"1\",\n",
    "    \"run.retry_nr\": \"0\",\n",
    "    \"task.timeout_s\": \"None\",\n",
    "    \"task.num_cpus\": 1,\n",
    "    \"_opentelemetry_traceparent\": \"00-2c31cb83729d9fbe447adcd9d2dd0f79-d08be72ec7e46ed7-01\",\n",
    "}\n"
   ]
  },
  {
   "cell_type": "code",
   "execution_count": 4,
   "id": "97994155",
   "metadata": {
    "execution": {
     "iopub.execute_input": "2022-12-17T06:38:24.399311Z",
     "iopub.status.busy": "2022-12-17T06:38:24.399081Z",
     "iopub.status.idle": "2022-12-17T06:38:24.401952Z",
     "shell.execute_reply": "2022-12-17T06:38:24.401220Z"
    },
    "lines_to_next_cell": 0,
    "papermill": {
     "duration": 0.01571,
     "end_time": "2022-12-17T06:38:24.404219",
     "exception": false,
     "start_time": "2022-12-17T06:38:24.388509",
     "status": "completed"
    },
    "tags": []
   },
   "outputs": [],
   "source": [
    "# -----------------------------------------------------------------------"
   ]
  },
  {
   "cell_type": "markdown",
   "id": "4a289dad",
   "metadata": {
    "papermill": {
     "duration": 0.004012,
     "end_time": "2022-12-17T06:38:24.414155",
     "exception": false,
     "start_time": "2022-12-17T06:38:24.410143",
     "status": "completed"
    },
    "tags": []
   },
   "source": [
    "---"
   ]
  },
  {
   "cell_type": "markdown",
   "id": "e0be38f5",
   "metadata": {
    "lines_to_next_cell": 2,
    "papermill": {
     "duration": 0.004099,
     "end_time": "2022-12-17T06:38:24.422941",
     "exception": false,
     "start_time": "2022-12-17T06:38:24.418842",
     "status": "completed"
    },
    "tags": []
   },
   "source": [
    "### Notebook code"
   ]
  },
  {
   "cell_type": "code",
   "execution_count": 5,
   "id": "a3adb911",
   "metadata": {
    "execution": {
     "iopub.execute_input": "2022-12-17T06:38:24.432907Z",
     "iopub.status.busy": "2022-12-17T06:38:24.432635Z",
     "iopub.status.idle": "2022-12-17T06:38:25.651927Z",
     "shell.execute_reply": "2022-12-17T06:38:25.651328Z"
    },
    "papermill": {
     "duration": 1.227104,
     "end_time": "2022-12-17T06:38:25.654559",
     "exception": false,
     "start_time": "2022-12-17T06:38:24.427455",
     "status": "completed"
    },
    "tags": []
   },
   "outputs": [
    {
     "name": "stderr",
     "output_type": "stream",
     "text": [
      "2022-12-17 06:38:25,433\tINFO worker.py:842 -- Connecting to existing Ray cluster at address: 172.17.0.2:6379\n"
     ]
    }
   ],
   "source": [
    "import itertools as it\n",
    "\n",
    "#\n",
    "import numpy as np\n",
    "import matplotlib.pyplot as plt\n",
    "\n",
    "#\n",
    "from pynb_dag_runner.tasks.task_opentelemetry_logging import PydarLogger\n",
    "\n",
    "#\n",
    "from common.io import datalake_root\n",
    "\n",
    "logger = PydarLogger(P)"
   ]
  },
  {
   "cell_type": "markdown",
   "id": "c33283a1",
   "metadata": {
    "papermill": {
     "duration": 0.006225,
     "end_time": "2022-12-17T06:38:25.666871",
     "exception": false,
     "start_time": "2022-12-17T06:38:25.660646",
     "status": "completed"
    },
    "tags": []
   },
   "source": [
    "## Load persisted onnx-model and evaluation data"
   ]
  },
  {
   "cell_type": "code",
   "execution_count": 6,
   "id": "98816622",
   "metadata": {
    "execution": {
     "iopub.execute_input": "2022-12-17T06:38:25.677558Z",
     "iopub.status.busy": "2022-12-17T06:38:25.677193Z",
     "iopub.status.idle": "2022-12-17T06:38:25.682400Z",
     "shell.execute_reply": "2022-12-17T06:38:25.680532Z"
    },
    "papermill": {
     "duration": 0.014708,
     "end_time": "2022-12-17T06:38:25.686238",
     "exception": false,
     "start_time": "2022-12-17T06:38:25.671530",
     "status": "completed"
    },
    "tags": []
   },
   "outputs": [],
   "source": [
    "from common.io import read_onnx, get_onnx_inputs, get_onnx_outputs, read_numpy"
   ]
  },
  {
   "cell_type": "code",
   "execution_count": 7,
   "id": "fbc04491",
   "metadata": {
    "execution": {
     "iopub.execute_input": "2022-12-17T06:38:25.696377Z",
     "iopub.status.busy": "2022-12-17T06:38:25.696144Z",
     "iopub.status.idle": "2022-12-17T06:38:25.713388Z",
     "shell.execute_reply": "2022-12-17T06:38:25.711851Z"
    },
    "lines_to_next_cell": 0,
    "papermill": {
     "duration": 0.025919,
     "end_time": "2022-12-17T06:38:25.716714",
     "exception": false,
     "start_time": "2022-12-17T06:38:25.690795",
     "status": "completed"
    },
    "tags": []
   },
   "outputs": [],
   "source": [
    "onnx_inference_session = read_onnx(\n",
    "    datalake_root(P)\n",
    "    / \"models\"\n",
    "    / f\"nr_train_images={P['task.nr_train_images']}\"\n",
    "    / \"model.onnx\"\n",
    ")"
   ]
  },
  {
   "cell_type": "markdown",
   "id": "2f0eb626",
   "metadata": {
    "papermill": {
     "duration": 0.004755,
     "end_time": "2022-12-17T06:38:25.726422",
     "exception": false,
     "start_time": "2022-12-17T06:38:25.721667",
     "status": "completed"
    },
    "tags": []
   },
   "source": [
    "### Record structure of inputs and outputs for ONNX model\n",
    "\n",
    "(this should likely be done in training notebook)"
   ]
  },
  {
   "cell_type": "code",
   "execution_count": 8,
   "id": "7b68dd42",
   "metadata": {
    "execution": {
     "iopub.execute_input": "2022-12-17T06:38:25.739158Z",
     "iopub.status.busy": "2022-12-17T06:38:25.738482Z",
     "iopub.status.idle": "2022-12-17T06:38:25.744543Z",
     "shell.execute_reply": "2022-12-17T06:38:25.743995Z"
    },
    "papermill": {
     "duration": 0.014843,
     "end_time": "2022-12-17T06:38:25.745898",
     "exception": false,
     "start_time": "2022-12-17T06:38:25.731055",
     "status": "completed"
    },
    "tags": []
   },
   "outputs": [
    {
     "name": "stdout",
     "output_type": "stream",
     "text": [
      "{\n",
      "  \"inputs\": [\n",
      "    {\n",
      "      \"name\": \"float_input_8x8_image\",\n",
      "      \"shape\": [\n",
      "        null,\n",
      "        64\n",
      "      ],\n",
      "      \"type\": \"tensor(float)\"\n",
      "    }\n",
      "  ],\n",
      "  \"outputs\": [\n",
      "    {\n",
      "      \"name\": \"output_label\",\n",
      "      \"shape\": [\n",
      "        null\n",
      "      ],\n",
      "      \"type\": \"tensor(int64)\"\n",
      "    },\n",
      "    {\n",
      "      \"name\": \"output_probability\",\n",
      "      \"shape\": [],\n",
      "      \"type\": \"seq(map(int64,tensor(float)))\"\n",
      "    }\n",
      "  ]\n",
      "}\n"
     ]
    }
   ],
   "source": [
    "import json\n",
    "\n",
    "onnx_io = json.dumps(\n",
    "    {\n",
    "        \"inputs\": get_onnx_inputs(onnx_inference_session),\n",
    "        \"outputs\": get_onnx_outputs(onnx_inference_session),\n",
    "    },\n",
    "    indent=2,\n",
    ")\n",
    "\n",
    "\n",
    "logger.log_artefact(\"onnx_io_structure.json\", onnx_io)\n",
    "print(onnx_io)"
   ]
  },
  {
   "cell_type": "markdown",
   "id": "e7718890",
   "metadata": {
    "papermill": {
     "duration": 0.004499,
     "end_time": "2022-12-17T06:38:25.755190",
     "exception": false,
     "start_time": "2022-12-17T06:38:25.750691",
     "status": "completed"
    },
    "tags": []
   },
   "source": [
    "### Evaluate model performance on evaluation data set"
   ]
  },
  {
   "cell_type": "code",
   "execution_count": 9,
   "id": "43153b9a",
   "metadata": {
    "execution": {
     "iopub.execute_input": "2022-12-17T06:38:25.765505Z",
     "iopub.status.busy": "2022-12-17T06:38:25.764871Z",
     "iopub.status.idle": "2022-12-17T06:38:25.769854Z",
     "shell.execute_reply": "2022-12-17T06:38:25.769325Z"
    },
    "papermill": {
     "duration": 0.011864,
     "end_time": "2022-12-17T06:38:25.771285",
     "exception": false,
     "start_time": "2022-12-17T06:38:25.759421",
     "status": "completed"
    },
    "tags": []
   },
   "outputs": [],
   "source": [
    "# load evaluation data\n",
    "X_test = read_numpy(datalake_root(P) / \"test-data\" / \"digits.numpy\")\n",
    "y_test = read_numpy(datalake_root(P) / \"test-data\" / \"labels.numpy\")"
   ]
  },
  {
   "cell_type": "code",
   "execution_count": 10,
   "id": "0fc22bd7",
   "metadata": {
    "execution": {
     "iopub.execute_input": "2022-12-17T06:38:25.782107Z",
     "iopub.status.busy": "2022-12-17T06:38:25.781392Z",
     "iopub.status.idle": "2022-12-17T06:38:25.794234Z",
     "shell.execute_reply": "2022-12-17T06:38:25.793617Z"
    },
    "papermill": {
     "duration": 0.020187,
     "end_time": "2022-12-17T06:38:25.796138",
     "exception": false,
     "start_time": "2022-12-17T06:38:25.775951",
     "status": "completed"
    },
    "tags": []
   },
   "outputs": [],
   "source": [
    "def get_model_outputs(X, onnx_inference_session):\n",
    "    y_pred_labels, y_pred_map = onnx_inference_session.run(\n",
    "        [\"output_label\", \"output_probability\"],\n",
    "        {\"float_input_8x8_image\": X.astype(np.float32)},\n",
    "    )\n",
    "    y_pred_probs = np.array(\n",
    "        [[probabilities[digit] for digit in range(10)] for probabilities in y_pred_map]\n",
    "    )\n",
    "\n",
    "    assert y_pred_labels.shape == (X.shape[0],)\n",
    "    assert y_pred_probs.shape == (X.shape[0], 10)\n",
    "\n",
    "    return y_pred_labels, y_pred_probs\n",
    "\n",
    "\n",
    "# Note: as shown in the training notebook, the predicted labels and probabilities\n",
    "# computed below need not be compatible.\n",
    "y_pred_labels_test, y_pred_probs_test = get_model_outputs(\n",
    "    X_test, onnx_inference_session\n",
    ")"
   ]
  },
  {
   "cell_type": "markdown",
   "id": "327b035d",
   "metadata": {
    "papermill": {
     "duration": 0.004574,
     "end_time": "2022-12-17T06:38:25.805374",
     "exception": false,
     "start_time": "2022-12-17T06:38:25.800800",
     "status": "completed"
    },
    "tags": []
   },
   "source": [
    "### Confusion matrix"
   ]
  },
  {
   "cell_type": "code",
   "execution_count": 11,
   "id": "e266937a",
   "metadata": {
    "execution": {
     "iopub.execute_input": "2022-12-17T06:38:25.815428Z",
     "iopub.status.busy": "2022-12-17T06:38:25.814937Z",
     "iopub.status.idle": "2022-12-17T06:38:25.818465Z",
     "shell.execute_reply": "2022-12-17T06:38:25.817638Z"
    },
    "papermill": {
     "duration": 0.010506,
     "end_time": "2022-12-17T06:38:25.820168",
     "exception": false,
     "start_time": "2022-12-17T06:38:25.809662",
     "status": "completed"
    },
    "tags": []
   },
   "outputs": [],
   "source": [
    "# TODO"
   ]
  },
  {
   "cell_type": "markdown",
   "id": "088dc1a1",
   "metadata": {
    "papermill": {
     "duration": 0.004366,
     "end_time": "2022-12-17T06:38:25.829748",
     "exception": false,
     "start_time": "2022-12-17T06:38:25.825382",
     "status": "completed"
    },
    "tags": []
   },
   "source": [
    "### Plot predicted probabilities for each classifier over all evaluation digit images"
   ]
  },
  {
   "cell_type": "code",
   "execution_count": 12,
   "id": "36c3afdd",
   "metadata": {
    "execution": {
     "iopub.execute_input": "2022-12-17T06:38:25.840590Z",
     "iopub.status.busy": "2022-12-17T06:38:25.839902Z",
     "iopub.status.idle": "2022-12-17T06:38:28.752831Z",
     "shell.execute_reply": "2022-12-17T06:38:28.752152Z"
    },
    "papermill": {
     "duration": 2.920145,
     "end_time": "2022-12-17T06:38:28.754480",
     "exception": false,
     "start_time": "2022-12-17T06:38:25.834335",
     "status": "completed"
    },
    "tags": []
   },
   "outputs": [
    {
     "data": {
      "image/png": "[encoded data removed]",
      "text/plain": [
       "<Figure size 1600x600 with 10 Axes>"
      ]
     },
     "metadata": {},
     "output_type": "display_data"
    }
   ],
   "source": [
    "def plot_per_digit_probabilities(y_pred_probs):\n",
    "    fig, axs = plt.subplots(nrows=2, ncols=5, figsize=(16, 6))\n",
    "\n",
    "    for (r, c), digit, ax in zip(\n",
    "        it.product(range(2), range(5)), range(10), axs.reshape(-1)\n",
    "    ):\n",
    "        ax.hist(y_pred_probs_test[:, digit], bins=20)\n",
    "\n",
    "        ax.set_title(f\"Digit {digit}\")\n",
    "        if r == 1 and c == 2:\n",
    "            ax.set_xlabel(\"probability\", fontsize=16)\n",
    "\n",
    "        if c == 0:\n",
    "            ax.set_ylabel(\"counts\", fontsize=16)\n",
    "        ax.set_yscale(\"log\")\n",
    "\n",
    "    fig.tight_layout()\n",
    "    fig.suptitle(\n",
    "        f\"Distributions of prediction probabilities for each digit \"\n",
    "        f\"(on evaluation data, n={y_pred_probs.shape[0]})\",\n",
    "        fontsize=20,\n",
    "    )\n",
    "    fig.tight_layout()\n",
    "    fig.show()\n",
    "\n",
    "    return fig\n",
    "\n",
    "\n",
    "fig = plot_per_digit_probabilities(y_pred_probs_test)"
   ]
  },
  {
   "cell_type": "markdown",
   "id": "961434e0",
   "metadata": {
    "papermill": {
     "duration": 0.005252,
     "end_time": "2022-12-17T06:38:28.765180",
     "exception": false,
     "start_time": "2022-12-17T06:38:28.759928",
     "status": "completed"
    },
    "tags": []
   },
   "source": [
    "From the above distributions we see that most digits have clear separation between\n",
    "high and lower probabilities. Morover, in each case there is roughly an order of\n",
    "magnitude more of digits with low probabilities. This is compatible with digits\n",
    "being roughly evenly distributed in the data."
   ]
  },
  {
   "cell_type": "code",
   "execution_count": 13,
   "id": "1215418f",
   "metadata": {
    "execution": {
     "iopub.execute_input": "2022-12-17T06:38:28.776869Z",
     "iopub.status.busy": "2022-12-17T06:38:28.776374Z",
     "iopub.status.idle": "2022-12-17T06:38:29.232908Z",
     "shell.execute_reply": "2022-12-17T06:38:29.232125Z"
    },
    "papermill": {
     "duration": 0.464802,
     "end_time": "2022-12-17T06:38:29.235177",
     "exception": false,
     "start_time": "2022-12-17T06:38:28.770375",
     "status": "completed"
    },
    "tags": []
   },
   "outputs": [],
   "source": [
    "logger.log_figure(\"per-digit-probabilities.png\", fig)"
   ]
  },
  {
   "cell_type": "markdown",
   "id": "bd1106e3",
   "metadata": {
    "papermill": {
     "duration": 0.005144,
     "end_time": "2022-12-17T06:38:29.245913",
     "exception": false,
     "start_time": "2022-12-17T06:38:29.240769",
     "status": "completed"
    },
    "tags": []
   },
   "source": [
    "### Plot ROC curves for individual one-vs-rest classifiers"
   ]
  },
  {
   "cell_type": "code",
   "execution_count": 14,
   "id": "13d9f9b2",
   "metadata": {
    "execution": {
     "iopub.execute_input": "2022-12-17T06:38:29.258009Z",
     "iopub.status.busy": "2022-12-17T06:38:29.257356Z",
     "iopub.status.idle": "2022-12-17T06:38:29.650203Z",
     "shell.execute_reply": "2022-12-17T06:38:29.649239Z"
    },
    "papermill": {
     "duration": 0.401205,
     "end_time": "2022-12-17T06:38:29.652491",
     "exception": false,
     "start_time": "2022-12-17T06:38:29.251286",
     "status": "completed"
    },
    "tags": []
   },
   "outputs": [],
   "source": [
    "from sklearn import metrics"
   ]
  },
  {
   "cell_type": "code",
   "execution_count": 15,
   "id": "6393dfde",
   "metadata": {
    "execution": {
     "iopub.execute_input": "2022-12-17T06:38:29.664645Z",
     "iopub.status.busy": "2022-12-17T06:38:29.664057Z",
     "iopub.status.idle": "2022-12-17T06:38:30.699854Z",
     "shell.execute_reply": "2022-12-17T06:38:30.697962Z"
    },
    "papermill": {
     "duration": 1.043911,
     "end_time": "2022-12-17T06:38:30.701882",
     "exception": false,
     "start_time": "2022-12-17T06:38:29.657971",
     "status": "completed"
    },
    "tags": []
   },
   "outputs": [
    {
     "data": {
      "image/png": "[encoded data removed]",
      "text/plain": [
       "<Figure size 1600x800 with 10 Axes>"
      ]
     },
     "metadata": {},
     "output_type": "display_data"
    }
   ],
   "source": [
    "def plot_roc_curves(y, y_pred_probs):\n",
    "    # based on example code\n",
    "    # https://scikit-learn.org/stable/auto_examples/model_selection/plot_roc.html\n",
    "\n",
    "    fig, axs = plt.subplots(nrows=2, ncols=5, figsize=(16, 8))\n",
    "\n",
    "    roc_auc_dict = {}\n",
    "\n",
    "    for (r, c), digit, ax in zip(\n",
    "        it.product(range(2), range(5)), range(10), axs.reshape(-1)\n",
    "    ):\n",
    "        fpr, tpr, _ = metrics.roc_curve(y == digit, y_pred_probs[:, digit])\n",
    "        auc = metrics.auc(fpr, tpr)\n",
    "        roc_auc_dict[str(digit)] = auc\n",
    "\n",
    "        ax.plot(fpr, tpr, label=f\"ROC AUC={round(auc, 3)}\")\n",
    "\n",
    "        ax.set_title(f\"\\nDigit {digit}\", fontsize=16)\n",
    "        if r == 1:\n",
    "            ax.set_xlabel(\"FPR\", fontsize=18)\n",
    "\n",
    "        if c == 0:\n",
    "            ax.set_ylabel(\"TPR\", fontsize=18)\n",
    "\n",
    "        ax.set_xlim([-0.05, 1.05])\n",
    "        ax.set_ylim([-0.05, 1.05])\n",
    "        ax.legend(loc=\"lower right\", frameon=False, fontsize=14)\n",
    "\n",
    "    fig.tight_layout()\n",
    "    fig.suptitle(\n",
    "        f\"ROC plots for one-vs-rest performances \"\n",
    "        f\"(on evaluation data, n={y_pred_probs_test.shape[1]}\",\n",
    "        fontsize=22,\n",
    "    )\n",
    "    fig.tight_layout()\n",
    "    fig.show()\n",
    "\n",
    "    return roc_auc_dict, fig\n",
    "\n",
    "\n",
    "roc_auc_dict, fig = plot_roc_curves(y_test, y_pred_probs_test)"
   ]
  },
  {
   "cell_type": "code",
   "execution_count": 16,
   "id": "f93a8c19",
   "metadata": {
    "execution": {
     "iopub.execute_input": "2022-12-17T06:38:30.717665Z",
     "iopub.status.busy": "2022-12-17T06:38:30.717194Z",
     "iopub.status.idle": "2022-12-17T06:38:30.960375Z",
     "shell.execute_reply": "2022-12-17T06:38:30.959725Z"
    },
    "papermill": {
     "duration": 0.253586,
     "end_time": "2022-12-17T06:38:30.962391",
     "exception": false,
     "start_time": "2022-12-17T06:38:30.708805",
     "status": "completed"
    },
    "tags": []
   },
   "outputs": [],
   "source": [
    "logger.log_figure(\"per-digit-roc-curves.png\", fig)"
   ]
  },
  {
   "cell_type": "code",
   "execution_count": 17,
   "id": "0418a5a8",
   "metadata": {
    "execution": {
     "iopub.execute_input": "2022-12-17T06:38:30.976036Z",
     "iopub.status.busy": "2022-12-17T06:38:30.975585Z",
     "iopub.status.idle": "2022-12-17T06:38:30.980355Z",
     "shell.execute_reply": "2022-12-17T06:38:30.979733Z"
    },
    "papermill": {
     "duration": 0.014246,
     "end_time": "2022-12-17T06:38:30.982733",
     "exception": false,
     "start_time": "2022-12-17T06:38:30.968487",
     "status": "completed"
    },
    "tags": []
   },
   "outputs": [
    {
     "data": {
      "text/plain": [
       "{'0': 1.0,\n",
       " '1': 0.9991002811621369,\n",
       " '2': 1.0,\n",
       " '3': 0.9998500468603562,\n",
       " '4': 0.9997713763145861,\n",
       " '5': 0.9997000937207123,\n",
       " '6': 0.999923792104862,\n",
       " '7': 0.9998475842097242,\n",
       " '8': 0.9959804539722572,\n",
       " '9': 0.9997713763145862}"
      ]
     },
     "execution_count": 17,
     "metadata": {},
     "output_type": "execute_result"
    }
   ],
   "source": [
    "roc_auc_dict"
   ]
  },
  {
   "cell_type": "code",
   "execution_count": 18,
   "id": "1cf424ec",
   "metadata": {
    "execution": {
     "iopub.execute_input": "2022-12-17T06:38:30.996301Z",
     "iopub.status.busy": "2022-12-17T06:38:30.995841Z",
     "iopub.status.idle": "2022-12-17T06:38:31.000563Z",
     "shell.execute_reply": "2022-12-17T06:38:30.999946Z"
    },
    "papermill": {
     "duration": 0.01298,
     "end_time": "2022-12-17T06:38:31.002024",
     "exception": false,
     "start_time": "2022-12-17T06:38:30.989044",
     "status": "completed"
    },
    "tags": []
   },
   "outputs": [
    {
     "name": "stdout",
     "output_type": "stream",
     "text": [
      " - Logging roc_auc_per_digit (json) : {'0': 1.0, '1': 0.9991002811621369, '2': 1.0, '3': 0.9998500468603562, '4': 0.9997713763145861, '5': 0.9997000937207123, '6': 0.999923792104862, '7': 0.9998475842097242, '8': 0.9959804539722572, '9': 0.9997713763145862}\n"
     ]
    }
   ],
   "source": [
    "logger.log_value(\"roc_auc_per_digit\", roc_auc_dict)"
   ]
  },
  {
   "cell_type": "markdown",
   "id": "1fe2b8d3",
   "metadata": {
    "papermill": {
     "duration": 0.006053,
     "end_time": "2022-12-17T06:38:31.014137",
     "exception": false,
     "start_time": "2022-12-17T06:38:31.008084",
     "status": "completed"
    },
    "tags": []
   },
   "source": [
    "### Compute and log mean ROC AUC score averaged over all digits"
   ]
  },
  {
   "cell_type": "code",
   "execution_count": 19,
   "id": "cf1af915",
   "metadata": {
    "execution": {
     "iopub.execute_input": "2022-12-17T06:38:31.027512Z",
     "iopub.status.busy": "2022-12-17T06:38:31.027063Z",
     "iopub.status.idle": "2022-12-17T06:38:31.039568Z",
     "shell.execute_reply": "2022-12-17T06:38:31.038947Z"
    },
    "papermill": {
     "duration": 0.020946,
     "end_time": "2022-12-17T06:38:31.041085",
     "exception": false,
     "start_time": "2022-12-17T06:38:31.020139",
     "status": "completed"
    },
    "tags": []
   },
   "outputs": [
    {
     "name": "stdout",
     "output_type": "stream",
     "text": [
      " - Logging roc_auc_class_mean (float) : 0.999394500465922\n"
     ]
    }
   ],
   "source": [
    "roc_auc_macro = np.mean(list(roc_auc_dict.values()))\n",
    "\n",
    "logger.log_float(\"roc_auc_class_mean\", roc_auc_macro)\n",
    "\n",
    "# assert that the same value can be computed directly using sklearn\n",
    "assert roc_auc_macro == metrics.roc_auc_score(\n",
    "    y_test, y_pred_probs_test, average=\"macro\", multi_class=\"ovr\"\n",
    ")"
   ]
  },
  {
   "cell_type": "code",
   "execution_count": 20,
   "id": "ec2ce0d8",
   "metadata": {
    "execution": {
     "iopub.execute_input": "2022-12-17T06:38:31.054729Z",
     "iopub.status.busy": "2022-12-17T06:38:31.054351Z",
     "iopub.status.idle": "2022-12-17T06:38:31.059482Z",
     "shell.execute_reply": "2022-12-17T06:38:31.058299Z"
    },
    "lines_to_next_cell": 0,
    "papermill": {
     "duration": 0.016428,
     "end_time": "2022-12-17T06:38:31.063605",
     "exception": false,
     "start_time": "2022-12-17T06:38:31.047177",
     "status": "completed"
    },
    "tags": []
   },
   "outputs": [],
   "source": [
    "# ---"
   ]
  },
  {
   "cell_type": "code",
   "execution_count": null,
   "id": "5a638418",
   "metadata": {
    "papermill": {
     "duration": 0.007045,
     "end_time": "2022-12-17T06:38:31.077072",
     "exception": false,
     "start_time": "2022-12-17T06:38:31.070027",
     "status": "completed"
    },
    "tags": []
   },
   "outputs": [],
   "source": []
  }
 ],
 "metadata": {
  "jupytext": {
   "cell_metadata_filter": "tags,-all",
   "main_language": "python",
   "notebook_metadata_filter": "-all"
  },
  "language_info": {
   "codemirror_mode": {
    "name": "ipython",
    "version": 3
   },
   "file_extension": ".py",
   "mimetype": "text/x-python",
   "name": "python",
   "nbconvert_exporter": "python",
   "pygments_lexer": "ipython3",
   "version": "3.8.10"
  },
  "papermill": {
   "default_parameters": {},
   "duration": 9.189737,
   "end_time": "2022-12-17T06:38:32.203722",
   "environment_variables": {},
   "exception": null,
   "input_path": "/home/host_user/workspace/mnist-demo-pipeline/mnist-demo-pipeline/notebooks/temp-notebook-dwc2oryf.ipynb",
   "output_path": "notebooks/benchmark-model.ipynb",
   "parameters": {
    "P": {
     "_opentelemetry_traceparent": "00-2c31cb83729d9fbe447adcd9d2dd0f79-d08be72ec7e46ed7-01",
     "pipeline.data_lake_root": "/pipeline-outputs/data-lake",
     "pipeline.github.actor": "matiasdahl",
     "pipeline.github.base_ref": "",
     "pipeline.github.event_name": "schedule",
     "pipeline.github.head_ref": "",
     "pipeline.github.job": "run-tests-pipeline-and-persist-pipeline-outputs",
     "pipeline.github.ref": "refs/heads/development",
     "pipeline.github.ref_name": "development",
     "pipeline.github.ref_type": "branch",
     "pipeline.github.repository": "matiasdahl/dev-mnist-digits-demo-pipeline",
     "pipeline.github.run_id": "3718869532",
     "pipeline.github.runner_name": "Hosted Agent",
     "pipeline.github.sha": "ace0d01011d5e914f1921450dd5a59c11367b38d",
     "pipeline.github.workflow": "Run automated tests, pipeline and deploy results to static reporting site",
     "pipeline.pipeline_run_id": "1c47fc3d-2c7f-44c4-b775-dc67fa98dd80",
     "pipeline.run_environment": "ci",
     "run.retry_nr": "0",
     "task.max_nr_retries": "1",
     "task.notebook": "notebooks/benchmark-model.py",
     "task.nr_train_images": 1200,
     "task.num_cpus": 1,
     "task.timeout_s": "None"
    }
   },
   "start_time": "2022-12-17T06:38:23.013985",
   "version": "2.3.3"
  }
 },
 "nbformat": 4,
 "nbformat_minor": 5
}