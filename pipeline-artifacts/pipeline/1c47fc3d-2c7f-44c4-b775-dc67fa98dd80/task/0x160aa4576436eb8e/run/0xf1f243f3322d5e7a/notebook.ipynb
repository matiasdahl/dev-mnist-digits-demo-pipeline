{
 "cells": [
  {
   "cell_type": "markdown",
   "id": "2cfbcdef",
   "metadata": {
    "papermill": {
     "duration": 0.005673,
     "end_time": "2022-12-17T06:38:06.786144",
     "exception": false,
     "start_time": "2022-12-17T06:38:06.780471",
     "status": "completed"
    },
    "tags": []
   },
   "source": [
    "# Benchmark model\n",
    "\n",
    "The purpose of this notebook is to benchmark persisted onnx-model (trained in the\n",
    "previous step) against evaluation set."
   ]
  },
  {
   "cell_type": "markdown",
   "id": "923336bd",
   "metadata": {
    "papermill": {
     "duration": 0.006061,
     "end_time": "2022-12-17T06:38:06.797181",
     "exception": false,
     "start_time": "2022-12-17T06:38:06.791120",
     "status": "completed"
    },
    "tags": []
   },
   "source": [
    "### Determine run parameters"
   ]
  },
  {
   "cell_type": "code",
   "execution_count": 1,
   "id": "735fb5a2",
   "metadata": {
    "execution": {
     "iopub.execute_input": "2022-12-17T06:38:06.807793Z",
     "iopub.status.busy": "2022-12-17T06:38:06.807502Z",
     "iopub.status.idle": "2022-12-17T06:38:06.815474Z",
     "shell.execute_reply": "2022-12-17T06:38:06.814946Z"
    },
    "lines_to_next_cell": 0,
    "papermill": {
     "duration": 0.015566,
     "end_time": "2022-12-17T06:38:06.817339",
     "exception": false,
     "start_time": "2022-12-17T06:38:06.801773",
     "status": "completed"
    },
    "tags": []
   },
   "outputs": [],
   "source": [
    "# ----------------- Parameters for interactive development --------------\n",
    "P = {\n",
    "    \"pipeline.data_lake_root\": \"/pipeline-outputs/data-lake\",\n",
    "    \"task.nr_train_images\": 600,\n",
    "}"
   ]
  },
  {
   "cell_type": "code",
   "execution_count": 2,
   "id": "2e80ca66",
   "metadata": {
    "execution": {
     "iopub.execute_input": "2022-12-17T06:38:06.826261Z",
     "iopub.status.busy": "2022-12-17T06:38:06.826014Z",
     "iopub.status.idle": "2022-12-17T06:38:06.828774Z",
     "shell.execute_reply": "2022-12-17T06:38:06.828245Z"
    },
    "lines_to_next_cell": 0,
    "papermill": {
     "duration": 0.00959,
     "end_time": "2022-12-17T06:38:06.831120",
     "exception": false,
     "start_time": "2022-12-17T06:38:06.821530",
     "status": "completed"
    },
    "tags": [
     "parameters"
    ]
   },
   "outputs": [],
   "source": [
    "# - During automated runs parameters will be injected in the below cell -"
   ]
  },
  {
   "cell_type": "code",
   "execution_count": 3,
   "id": "51c8f32b",
   "metadata": {
    "execution": {
     "iopub.execute_input": "2022-12-17T06:38:06.839831Z",
     "iopub.status.busy": "2022-12-17T06:38:06.839619Z",
     "iopub.status.idle": "2022-12-17T06:38:06.843768Z",
     "shell.execute_reply": "2022-12-17T06:38:06.843271Z"
    },
    "papermill": {
     "duration": 0.012127,
     "end_time": "2022-12-17T06:38:06.847247",
     "exception": false,
     "start_time": "2022-12-17T06:38:06.835120",
     "status": "completed"
    },
    "tags": [
     "injected-parameters"
    ]
   },
   "outputs": [],
   "source": [
    "# Parameters\n",
    "P = {\n",
    "    \"pipeline.data_lake_root\": \"/pipeline-outputs/data-lake\",\n",
    "    \"pipeline.run_environment\": \"ci\",\n",
    "    \"pipeline.pipeline_run_id\": \"1c47fc3d-2c7f-44c4-b775-dc67fa98dd80\",\n",
    "    \"pipeline.github.repository\": \"matiasdahl/dev-mnist-digits-demo-pipeline\",\n",
    "    \"pipeline.github.workflow\": \"Run automated tests, pipeline and deploy results to static reporting site\",\n",
    "    \"pipeline.github.runner_name\": \"Hosted Agent\",\n",
    "    \"pipeline.github.run_id\": \"3718869532\",\n",
    "    \"pipeline.github.actor\": \"matiasdahl\",\n",
    "    \"pipeline.github.job\": \"run-tests-pipeline-and-persist-pipeline-outputs\",\n",
    "    \"pipeline.github.base_ref\": \"\",\n",
    "    \"pipeline.github.head_ref\": \"\",\n",
    "    \"pipeline.github.sha\": \"ace0d01011d5e914f1921450dd5a59c11367b38d\",\n",
    "    \"pipeline.github.ref\": \"refs/heads/development\",\n",
    "    \"pipeline.github.ref_type\": \"branch\",\n",
    "    \"pipeline.github.ref_name\": \"development\",\n",
    "    \"pipeline.github.event_name\": \"schedule\",\n",
    "    \"task.nr_train_images\": 1000,\n",
    "    \"task.notebook\": \"notebooks/benchmark-model.py\",\n",
    "    \"task.max_nr_retries\": \"1\",\n",
    "    \"run.retry_nr\": \"0\",\n",
    "    \"task.timeout_s\": \"None\",\n",
    "    \"task.num_cpus\": 1,\n",
    "    \"_opentelemetry_traceparent\": \"00-2c31cb83729d9fbe447adcd9d2dd0f79-d46c98aaed6d717e-01\",\n",
    "}\n"
   ]
  },
  {
   "cell_type": "code",
   "execution_count": 4,
   "id": "cb74dc56",
   "metadata": {
    "execution": {
     "iopub.execute_input": "2022-12-17T06:38:06.856427Z",
     "iopub.status.busy": "2022-12-17T06:38:06.856171Z",
     "iopub.status.idle": "2022-12-17T06:38:06.858977Z",
     "shell.execute_reply": "2022-12-17T06:38:06.858438Z"
    },
    "lines_to_next_cell": 0,
    "papermill": {
     "duration": 0.010238,
     "end_time": "2022-12-17T06:38:06.861602",
     "exception": false,
     "start_time": "2022-12-17T06:38:06.851364",
     "status": "completed"
    },
    "tags": []
   },
   "outputs": [],
   "source": [
    "# -----------------------------------------------------------------------"
   ]
  },
  {
   "cell_type": "markdown",
   "id": "57bf00df",
   "metadata": {
    "papermill": {
     "duration": 0.003805,
     "end_time": "2022-12-17T06:38:06.869269",
     "exception": false,
     "start_time": "2022-12-17T06:38:06.865464",
     "status": "completed"
    },
    "tags": []
   },
   "source": [
    "---"
   ]
  },
  {
   "cell_type": "markdown",
   "id": "e516ea01",
   "metadata": {
    "lines_to_next_cell": 2,
    "papermill": {
     "duration": 0.003719,
     "end_time": "2022-12-17T06:38:06.876745",
     "exception": false,
     "start_time": "2022-12-17T06:38:06.873026",
     "status": "completed"
    },
    "tags": []
   },
   "source": [
    "### Notebook code"
   ]
  },
  {
   "cell_type": "code",
   "execution_count": 5,
   "id": "4eb1484f",
   "metadata": {
    "execution": {
     "iopub.execute_input": "2022-12-17T06:38:06.885612Z",
     "iopub.status.busy": "2022-12-17T06:38:06.885331Z",
     "iopub.status.idle": "2022-12-17T06:38:08.148418Z",
     "shell.execute_reply": "2022-12-17T06:38:08.147648Z"
    },
    "papermill": {
     "duration": 1.269729,
     "end_time": "2022-12-17T06:38:08.150326",
     "exception": false,
     "start_time": "2022-12-17T06:38:06.880597",
     "status": "completed"
    },
    "tags": []
   },
   "outputs": [
    {
     "name": "stderr",
     "output_type": "stream",
     "text": [
      "2022-12-17 06:38:07,907\tINFO worker.py:842 -- Connecting to existing Ray cluster at address: 172.17.0.2:6379\n"
     ]
    }
   ],
   "source": [
    "import itertools as it\n",
    "\n",
    "#\n",
    "import numpy as np\n",
    "import matplotlib.pyplot as plt\n",
    "\n",
    "#\n",
    "from pynb_dag_runner.tasks.task_opentelemetry_logging import PydarLogger\n",
    "\n",
    "#\n",
    "from common.io import datalake_root\n",
    "\n",
    "logger = PydarLogger(P)"
   ]
  },
  {
   "cell_type": "markdown",
   "id": "5b7b0f98",
   "metadata": {
    "papermill": {
     "duration": 0.00755,
     "end_time": "2022-12-17T06:38:08.162236",
     "exception": false,
     "start_time": "2022-12-17T06:38:08.154686",
     "status": "completed"
    },
    "tags": []
   },
   "source": [
    "## Load persisted onnx-model and evaluation data"
   ]
  },
  {
   "cell_type": "code",
   "execution_count": 6,
   "id": "690d7d03",
   "metadata": {
    "execution": {
     "iopub.execute_input": "2022-12-17T06:38:08.171989Z",
     "iopub.status.busy": "2022-12-17T06:38:08.171532Z",
     "iopub.status.idle": "2022-12-17T06:38:08.175272Z",
     "shell.execute_reply": "2022-12-17T06:38:08.174623Z"
    },
    "papermill": {
     "duration": 0.012468,
     "end_time": "2022-12-17T06:38:08.178901",
     "exception": false,
     "start_time": "2022-12-17T06:38:08.166433",
     "status": "completed"
    },
    "tags": []
   },
   "outputs": [],
   "source": [
    "from common.io import read_onnx, get_onnx_inputs, get_onnx_outputs, read_numpy"
   ]
  },
  {
   "cell_type": "code",
   "execution_count": 7,
   "id": "4693afaa",
   "metadata": {
    "execution": {
     "iopub.execute_input": "2022-12-17T06:38:08.194090Z",
     "iopub.status.busy": "2022-12-17T06:38:08.193602Z",
     "iopub.status.idle": "2022-12-17T06:38:08.206636Z",
     "shell.execute_reply": "2022-12-17T06:38:08.205923Z"
    },
    "lines_to_next_cell": 0,
    "papermill": {
     "duration": 0.025144,
     "end_time": "2022-12-17T06:38:08.208300",
     "exception": false,
     "start_time": "2022-12-17T06:38:08.183156",
     "status": "completed"
    },
    "tags": []
   },
   "outputs": [],
   "source": [
    "onnx_inference_session = read_onnx(\n",
    "    datalake_root(P)\n",
    "    / \"models\"\n",
    "    / f\"nr_train_images={P['task.nr_train_images']}\"\n",
    "    / \"model.onnx\"\n",
    ")"
   ]
  },
  {
   "cell_type": "markdown",
   "id": "9a02d4db",
   "metadata": {
    "papermill": {
     "duration": 0.004174,
     "end_time": "2022-12-17T06:38:08.217925",
     "exception": false,
     "start_time": "2022-12-17T06:38:08.213751",
     "status": "completed"
    },
    "tags": []
   },
   "source": [
    "### Record structure of inputs and outputs for ONNX model\n",
    "\n",
    "(this should likely be done in training notebook)"
   ]
  },
  {
   "cell_type": "code",
   "execution_count": 8,
   "id": "77165e8b",
   "metadata": {
    "execution": {
     "iopub.execute_input": "2022-12-17T06:38:08.229951Z",
     "iopub.status.busy": "2022-12-17T06:38:08.228261Z",
     "iopub.status.idle": "2022-12-17T06:38:08.235562Z",
     "shell.execute_reply": "2022-12-17T06:38:08.234899Z"
    },
    "papermill": {
     "duration": 0.014896,
     "end_time": "2022-12-17T06:38:08.238061",
     "exception": false,
     "start_time": "2022-12-17T06:38:08.223165",
     "status": "completed"
    },
    "tags": []
   },
   "outputs": [
    {
     "name": "stdout",
     "output_type": "stream",
     "text": [
      "{\n",
      "  \"inputs\": [\n",
      "    {\n",
      "      \"name\": \"float_input_8x8_image\",\n",
      "      \"shape\": [\n",
      "        null,\n",
      "        64\n",
      "      ],\n",
      "      \"type\": \"tensor(float)\"\n",
      "    }\n",
      "  ],\n",
      "  \"outputs\": [\n",
      "    {\n",
      "      \"name\": \"output_label\",\n",
      "      \"shape\": [\n",
      "        null\n",
      "      ],\n",
      "      \"type\": \"tensor(int64)\"\n",
      "    },\n",
      "    {\n",
      "      \"name\": \"output_probability\",\n",
      "      \"shape\": [],\n",
      "      \"type\": \"seq(map(int64,tensor(float)))\"\n",
      "    }\n",
      "  ]\n",
      "}\n"
     ]
    }
   ],
   "source": [
    "import json\n",
    "\n",
    "onnx_io = json.dumps(\n",
    "    {\n",
    "        \"inputs\": get_onnx_inputs(onnx_inference_session),\n",
    "        \"outputs\": get_onnx_outputs(onnx_inference_session),\n",
    "    },\n",
    "    indent=2,\n",
    ")\n",
    "\n",
    "\n",
    "logger.log_artefact(\"onnx_io_structure.json\", onnx_io)\n",
    "print(onnx_io)"
   ]
  },
  {
   "cell_type": "markdown",
   "id": "ecb033b6",
   "metadata": {
    "papermill": {
     "duration": 0.004469,
     "end_time": "2022-12-17T06:38:08.247760",
     "exception": false,
     "start_time": "2022-12-17T06:38:08.243291",
     "status": "completed"
    },
    "tags": []
   },
   "source": [
    "### Evaluate model performance on evaluation data set"
   ]
  },
  {
   "cell_type": "code",
   "execution_count": 9,
   "id": "ce1f82bb",
   "metadata": {
    "execution": {
     "iopub.execute_input": "2022-12-17T06:38:08.259137Z",
     "iopub.status.busy": "2022-12-17T06:38:08.258776Z",
     "iopub.status.idle": "2022-12-17T06:38:08.264074Z",
     "shell.execute_reply": "2022-12-17T06:38:08.263397Z"
    },
    "papermill": {
     "duration": 0.012591,
     "end_time": "2022-12-17T06:38:08.265676",
     "exception": false,
     "start_time": "2022-12-17T06:38:08.253085",
     "status": "completed"
    },
    "tags": []
   },
   "outputs": [],
   "source": [
    "# load evaluation data\n",
    "X_test = read_numpy(datalake_root(P) / \"test-data\" / \"digits.numpy\")\n",
    "y_test = read_numpy(datalake_root(P) / \"test-data\" / \"labels.numpy\")"
   ]
  },
  {
   "cell_type": "code",
   "execution_count": 10,
   "id": "d2ef9aee",
   "metadata": {
    "execution": {
     "iopub.execute_input": "2022-12-17T06:38:08.276423Z",
     "iopub.status.busy": "2022-12-17T06:38:08.276081Z",
     "iopub.status.idle": "2022-12-17T06:38:08.290670Z",
     "shell.execute_reply": "2022-12-17T06:38:08.289927Z"
    },
    "papermill": {
     "duration": 0.027647,
     "end_time": "2022-12-17T06:38:08.297810",
     "exception": false,
     "start_time": "2022-12-17T06:38:08.270163",
     "status": "completed"
    },
    "tags": []
   },
   "outputs": [],
   "source": [
    "def get_model_outputs(X, onnx_inference_session):\n",
    "    y_pred_labels, y_pred_map = onnx_inference_session.run(\n",
    "        [\"output_label\", \"output_probability\"],\n",
    "        {\"float_input_8x8_image\": X.astype(np.float32)},\n",
    "    )\n",
    "    y_pred_probs = np.array(\n",
    "        [[probabilities[digit] for digit in range(10)] for probabilities in y_pred_map]\n",
    "    )\n",
    "\n",
    "    assert y_pred_labels.shape == (X.shape[0],)\n",
    "    assert y_pred_probs.shape == (X.shape[0], 10)\n",
    "\n",
    "    return y_pred_labels, y_pred_probs\n",
    "\n",
    "\n",
    "# Note: as shown in the training notebook, the predicted labels and probabilities\n",
    "# computed below need not be compatible.\n",
    "y_pred_labels_test, y_pred_probs_test = get_model_outputs(\n",
    "    X_test, onnx_inference_session\n",
    ")"
   ]
  },
  {
   "cell_type": "markdown",
   "id": "4d27a1d3",
   "metadata": {
    "papermill": {
     "duration": 0.00544,
     "end_time": "2022-12-17T06:38:08.308398",
     "exception": false,
     "start_time": "2022-12-17T06:38:08.302958",
     "status": "completed"
    },
    "tags": []
   },
   "source": [
    "### Confusion matrix"
   ]
  },
  {
   "cell_type": "code",
   "execution_count": 11,
   "id": "e659f522",
   "metadata": {
    "execution": {
     "iopub.execute_input": "2022-12-17T06:38:08.319123Z",
     "iopub.status.busy": "2022-12-17T06:38:08.318768Z",
     "iopub.status.idle": "2022-12-17T06:38:08.322264Z",
     "shell.execute_reply": "2022-12-17T06:38:08.321332Z"
    },
    "papermill": {
     "duration": 0.011191,
     "end_time": "2022-12-17T06:38:08.324558",
     "exception": false,
     "start_time": "2022-12-17T06:38:08.313367",
     "status": "completed"
    },
    "tags": []
   },
   "outputs": [],
   "source": [
    "# TODO"
   ]
  },
  {
   "cell_type": "markdown",
   "id": "3e87a063",
   "metadata": {
    "papermill": {
     "duration": 0.004644,
     "end_time": "2022-12-17T06:38:08.333676",
     "exception": false,
     "start_time": "2022-12-17T06:38:08.329032",
     "status": "completed"
    },
    "tags": []
   },
   "source": [
    "### Plot predicted probabilities for each classifier over all evaluation digit images"
   ]
  },
  {
   "cell_type": "code",
   "execution_count": 12,
   "id": "f979b5b0",
   "metadata": {
    "execution": {
     "iopub.execute_input": "2022-12-17T06:38:08.344233Z",
     "iopub.status.busy": "2022-12-17T06:38:08.343600Z",
     "iopub.status.idle": "2022-12-17T06:38:11.871172Z",
     "shell.execute_reply": "2022-12-17T06:38:11.870460Z"
    },
    "papermill": {
     "duration": 3.534736,
     "end_time": "2022-12-17T06:38:11.872876",
     "exception": false,
     "start_time": "2022-12-17T06:38:08.338140",
     "status": "completed"
    },
    "tags": []
   },
   "outputs": [
    {
     "data": {
      "image/png": "[encoded data removed]",
      "text/plain": [
       "<Figure size 1600x600 with 10 Axes>"
      ]
     },
     "metadata": {},
     "output_type": "display_data"
    }
   ],
   "source": [
    "def plot_per_digit_probabilities(y_pred_probs):\n",
    "    fig, axs = plt.subplots(nrows=2, ncols=5, figsize=(16, 6))\n",
    "\n",
    "    for (r, c), digit, ax in zip(\n",
    "        it.product(range(2), range(5)), range(10), axs.reshape(-1)\n",
    "    ):\n",
    "        ax.hist(y_pred_probs_test[:, digit], bins=20)\n",
    "\n",
    "        ax.set_title(f\"Digit {digit}\")\n",
    "        if r == 1 and c == 2:\n",
    "            ax.set_xlabel(\"probability\", fontsize=16)\n",
    "\n",
    "        if c == 0:\n",
    "            ax.set_ylabel(\"counts\", fontsize=16)\n",
    "        ax.set_yscale(\"log\")\n",
    "\n",
    "    fig.tight_layout()\n",
    "    fig.suptitle(\n",
    "        f\"Distributions of prediction probabilities for each digit \"\n",
    "        f\"(on evaluation data, n={y_pred_probs.shape[0]})\",\n",
    "        fontsize=20,\n",
    "    )\n",
    "    fig.tight_layout()\n",
    "    fig.show()\n",
    "\n",
    "    return fig\n",
    "\n",
    "\n",
    "fig = plot_per_digit_probabilities(y_pred_probs_test)"
   ]
  },
  {
   "cell_type": "markdown",
   "id": "50f5cd0a",
   "metadata": {
    "papermill": {
     "duration": 0.005132,
     "end_time": "2022-12-17T06:38:11.886693",
     "exception": false,
     "start_time": "2022-12-17T06:38:11.881561",
     "status": "completed"
    },
    "tags": []
   },
   "source": [
    "From the above distributions we see that most digits have clear separation between\n",
    "high and lower probabilities. Morover, in each case there is roughly an order of\n",
    "magnitude more of digits with low probabilities. This is compatible with digits\n",
    "being roughly evenly distributed in the data."
   ]
  },
  {
   "cell_type": "code",
   "execution_count": 13,
   "id": "ab15610f",
   "metadata": {
    "execution": {
     "iopub.execute_input": "2022-12-17T06:38:11.900495Z",
     "iopub.status.busy": "2022-12-17T06:38:11.900205Z",
     "iopub.status.idle": "2022-12-17T06:38:12.355769Z",
     "shell.execute_reply": "2022-12-17T06:38:12.355130Z"
    },
    "papermill": {
     "duration": 0.464005,
     "end_time": "2022-12-17T06:38:12.357624",
     "exception": false,
     "start_time": "2022-12-17T06:38:11.893619",
     "status": "completed"
    },
    "tags": []
   },
   "outputs": [],
   "source": [
    "logger.log_figure(\"per-digit-probabilities.png\", fig)"
   ]
  },
  {
   "cell_type": "markdown",
   "id": "cebde2e3",
   "metadata": {
    "papermill": {
     "duration": 0.00573,
     "end_time": "2022-12-17T06:38:12.369789",
     "exception": false,
     "start_time": "2022-12-17T06:38:12.364059",
     "status": "completed"
    },
    "tags": []
   },
   "source": [
    "### Plot ROC curves for individual one-vs-rest classifiers"
   ]
  },
  {
   "cell_type": "code",
   "execution_count": 14,
   "id": "b89580df",
   "metadata": {
    "execution": {
     "iopub.execute_input": "2022-12-17T06:38:12.382094Z",
     "iopub.status.busy": "2022-12-17T06:38:12.381688Z",
     "iopub.status.idle": "2022-12-17T06:38:12.722283Z",
     "shell.execute_reply": "2022-12-17T06:38:12.721586Z"
    },
    "papermill": {
     "duration": 0.349501,
     "end_time": "2022-12-17T06:38:12.724381",
     "exception": false,
     "start_time": "2022-12-17T06:38:12.374880",
     "status": "completed"
    },
    "tags": []
   },
   "outputs": [],
   "source": [
    "from sklearn import metrics"
   ]
  },
  {
   "cell_type": "code",
   "execution_count": 15,
   "id": "a20d0005",
   "metadata": {
    "execution": {
     "iopub.execute_input": "2022-12-17T06:38:12.737223Z",
     "iopub.status.busy": "2022-12-17T06:38:12.736587Z",
     "iopub.status.idle": "2022-12-17T06:38:13.909312Z",
     "shell.execute_reply": "2022-12-17T06:38:13.908611Z"
    },
    "papermill": {
     "duration": 1.180851,
     "end_time": "2022-12-17T06:38:13.911217",
     "exception": false,
     "start_time": "2022-12-17T06:38:12.730366",
     "status": "completed"
    },
    "tags": []
   },
   "outputs": [
    {
     "data": {
      "image/png": "[encoded data removed]",
      "text/plain": [
       "<Figure size 1600x800 with 10 Axes>"
      ]
     },
     "metadata": {},
     "output_type": "display_data"
    }
   ],
   "source": [
    "def plot_roc_curves(y, y_pred_probs):\n",
    "    # based on example code\n",
    "    # https://scikit-learn.org/stable/auto_examples/model_selection/plot_roc.html\n",
    "\n",
    "    fig, axs = plt.subplots(nrows=2, ncols=5, figsize=(16, 8))\n",
    "\n",
    "    roc_auc_dict = {}\n",
    "\n",
    "    for (r, c), digit, ax in zip(\n",
    "        it.product(range(2), range(5)), range(10), axs.reshape(-1)\n",
    "    ):\n",
    "        fpr, tpr, _ = metrics.roc_curve(y == digit, y_pred_probs[:, digit])\n",
    "        auc = metrics.auc(fpr, tpr)\n",
    "        roc_auc_dict[str(digit)] = auc\n",
    "\n",
    "        ax.plot(fpr, tpr, label=f\"ROC AUC={round(auc, 3)}\")\n",
    "\n",
    "        ax.set_title(f\"\\nDigit {digit}\", fontsize=16)\n",
    "        if r == 1:\n",
    "            ax.set_xlabel(\"FPR\", fontsize=18)\n",
    "\n",
    "        if c == 0:\n",
    "            ax.set_ylabel(\"TPR\", fontsize=18)\n",
    "\n",
    "        ax.set_xlim([-0.05, 1.05])\n",
    "        ax.set_ylim([-0.05, 1.05])\n",
    "        ax.legend(loc=\"lower right\", frameon=False, fontsize=14)\n",
    "\n",
    "    fig.tight_layout()\n",
    "    fig.suptitle(\n",
    "        f\"ROC plots for one-vs-rest performances \"\n",
    "        f\"(on evaluation data, n={y_pred_probs_test.shape[1]}\",\n",
    "        fontsize=22,\n",
    "    )\n",
    "    fig.tight_layout()\n",
    "    fig.show()\n",
    "\n",
    "    return roc_auc_dict, fig\n",
    "\n",
    "\n",
    "roc_auc_dict, fig = plot_roc_curves(y_test, y_pred_probs_test)"
   ]
  },
  {
   "cell_type": "code",
   "execution_count": 16,
   "id": "dbe5e7c5",
   "metadata": {
    "execution": {
     "iopub.execute_input": "2022-12-17T06:38:13.925480Z",
     "iopub.status.busy": "2022-12-17T06:38:13.925196Z",
     "iopub.status.idle": "2022-12-17T06:38:14.178170Z",
     "shell.execute_reply": "2022-12-17T06:38:14.176613Z"
    },
    "papermill": {
     "duration": 0.262626,
     "end_time": "2022-12-17T06:38:14.180227",
     "exception": false,
     "start_time": "2022-12-17T06:38:13.917601",
     "status": "completed"
    },
    "tags": []
   },
   "outputs": [],
   "source": [
    "logger.log_figure(\"per-digit-roc-curves.png\", fig)"
   ]
  },
  {
   "cell_type": "code",
   "execution_count": 17,
   "id": "c5329515",
   "metadata": {
    "execution": {
     "iopub.execute_input": "2022-12-17T06:38:14.195274Z",
     "iopub.status.busy": "2022-12-17T06:38:14.194979Z",
     "iopub.status.idle": "2022-12-17T06:38:14.199370Z",
     "shell.execute_reply": "2022-12-17T06:38:14.198811Z"
    },
    "papermill": {
     "duration": 0.015316,
     "end_time": "2022-12-17T06:38:14.203014",
     "exception": false,
     "start_time": "2022-12-17T06:38:14.187698",
     "status": "completed"
    },
    "tags": []
   },
   "outputs": [
    {
     "data": {
      "text/plain": [
       "{'0': 1.0,\n",
       " '1': 0.998875351452671,\n",
       " '2': 1.0,\n",
       " '3': 0.9998500468603562,\n",
       " '4': 0.9996570644718793,\n",
       " '5': 0.9994001874414246,\n",
       " '6': 0.999923792104862,\n",
       " '7': 0.9997713763145862,\n",
       " '8': 0.9952317150063051,\n",
       " '9': 0.9995427526291724}"
      ]
     },
     "execution_count": 17,
     "metadata": {},
     "output_type": "execute_result"
    }
   ],
   "source": [
    "roc_auc_dict"
   ]
  },
  {
   "cell_type": "code",
   "execution_count": 18,
   "id": "38b29c78",
   "metadata": {
    "execution": {
     "iopub.execute_input": "2022-12-17T06:38:14.222560Z",
     "iopub.status.busy": "2022-12-17T06:38:14.222242Z",
     "iopub.status.idle": "2022-12-17T06:38:14.226827Z",
     "shell.execute_reply": "2022-12-17T06:38:14.226255Z"
    },
    "papermill": {
     "duration": 0.015591,
     "end_time": "2022-12-17T06:38:14.230287",
     "exception": false,
     "start_time": "2022-12-17T06:38:14.214696",
     "status": "completed"
    },
    "tags": []
   },
   "outputs": [
    {
     "name": "stdout",
     "output_type": "stream",
     "text": [
      " - Logging roc_auc_per_digit (json) : {'0': 1.0, '1': 0.998875351452671, '2': 1.0, '3': 0.9998500468603562, '4': 0.9996570644718793, '5': 0.9994001874414246, '6': 0.999923792104862, '7': 0.9997713763145862, '8': 0.9952317150063051, '9': 0.9995427526291724}\n"
     ]
    }
   ],
   "source": [
    "logger.log_value(\"roc_auc_per_digit\", roc_auc_dict)"
   ]
  },
  {
   "cell_type": "markdown",
   "id": "7caab042",
   "metadata": {
    "papermill": {
     "duration": 0.006868,
     "end_time": "2022-12-17T06:38:14.245915",
     "exception": false,
     "start_time": "2022-12-17T06:38:14.239047",
     "status": "completed"
    },
    "tags": []
   },
   "source": [
    "### Compute and log mean ROC AUC score averaged over all digits"
   ]
  },
  {
   "cell_type": "code",
   "execution_count": 19,
   "id": "7ccc70e5",
   "metadata": {
    "execution": {
     "iopub.execute_input": "2022-12-17T06:38:14.260823Z",
     "iopub.status.busy": "2022-12-17T06:38:14.260544Z",
     "iopub.status.idle": "2022-12-17T06:38:14.274916Z",
     "shell.execute_reply": "2022-12-17T06:38:14.274085Z"
    },
    "papermill": {
     "duration": 0.023778,
     "end_time": "2022-12-17T06:38:14.276855",
     "exception": false,
     "start_time": "2022-12-17T06:38:14.253077",
     "status": "completed"
    },
    "tags": []
   },
   "outputs": [
    {
     "name": "stdout",
     "output_type": "stream",
     "text": [
      " - Logging roc_auc_class_mean (float) : 0.9992252286281257\n"
     ]
    }
   ],
   "source": [
    "roc_auc_macro = np.mean(list(roc_auc_dict.values()))\n",
    "\n",
    "logger.log_float(\"roc_auc_class_mean\", roc_auc_macro)\n",
    "\n",
    "# assert that the same value can be computed directly using sklearn\n",
    "assert roc_auc_macro == metrics.roc_auc_score(\n",
    "    y_test, y_pred_probs_test, average=\"macro\", multi_class=\"ovr\"\n",
    ")"
   ]
  },
  {
   "cell_type": "code",
   "execution_count": 20,
   "id": "19cde2b0",
   "metadata": {
    "execution": {
     "iopub.execute_input": "2022-12-17T06:38:14.291387Z",
     "iopub.status.busy": "2022-12-17T06:38:14.291126Z",
     "iopub.status.idle": "2022-12-17T06:38:14.294723Z",
     "shell.execute_reply": "2022-12-17T06:38:14.294041Z"
    },
    "lines_to_next_cell": 0,
    "papermill": {
     "duration": 0.013313,
     "end_time": "2022-12-17T06:38:14.296785",
     "exception": false,
     "start_time": "2022-12-17T06:38:14.283472",
     "status": "completed"
    },
    "tags": []
   },
   "outputs": [],
   "source": [
    "# ---"
   ]
  },
  {
   "cell_type": "code",
   "execution_count": null,
   "id": "5acf56be",
   "metadata": {
    "papermill": {
     "duration": 0.008134,
     "end_time": "2022-12-17T06:38:14.311445",
     "exception": false,
     "start_time": "2022-12-17T06:38:14.303311",
     "status": "completed"
    },
    "tags": []
   },
   "outputs": [],
   "source": []
  }
 ],
 "metadata": {
  "jupytext": {
   "cell_metadata_filter": "tags,-all",
   "main_language": "python",
   "notebook_metadata_filter": "-all"
  },
  "language_info": {
   "codemirror_mode": {
    "name": "ipython",
    "version": 3
   },
   "file_extension": ".py",
   "mimetype": "text/x-python",
   "name": "python",
   "nbconvert_exporter": "python",
   "pygments_lexer": "ipython3",
   "version": "3.8.10"
  },
  "papermill": {
   "default_parameters": {},
   "duration": 9.998878,
   "end_time": "2022-12-17T06:38:15.443932",
   "environment_variables": {},
   "exception": null,
   "input_path": "/home/host_user/workspace/mnist-demo-pipeline/mnist-demo-pipeline/notebooks/temp-notebook-27l0ffpq.ipynb",
   "output_path": "notebooks/benchmark-model.ipynb",
   "parameters": {
    "P": {
     "_opentelemetry_traceparent": "00-2c31cb83729d9fbe447adcd9d2dd0f79-d46c98aaed6d717e-01",
     "pipeline.data_lake_root": "/pipeline-outputs/data-lake",
     "pipeline.github.actor": "matiasdahl",
     "pipeline.github.base_ref": "",
     "pipeline.github.event_name": "schedule",
     "pipeline.github.head_ref": "",
     "pipeline.github.job": "run-tests-pipeline-and-persist-pipeline-outputs",
     "pipeline.github.ref": "refs/heads/development",
     "pipeline.github.ref_name": "development",
     "pipeline.github.ref_type": "branch",
     "pipeline.github.repository": "matiasdahl/dev-mnist-digits-demo-pipeline",
     "pipeline.github.run_id": "3718869532",
     "pipeline.github.runner_name": "Hosted Agent",
     "pipeline.github.sha": "ace0d01011d5e914f1921450dd5a59c11367b38d",
     "pipeline.github.workflow": "Run automated tests, pipeline and deploy results to static reporting site",
     "pipeline.pipeline_run_id": "1c47fc3d-2c7f-44c4-b775-dc67fa98dd80",
     "pipeline.run_environment": "ci",
     "run.retry_nr": "0",
     "task.max_nr_retries": "1",
     "task.notebook": "notebooks/benchmark-model.py",
     "task.nr_train_images": 1000,
     "task.num_cpus": 1,
     "task.timeout_s": "None"
    }
   },
   "start_time": "2022-12-17T06:38:05.445054",
   "version": "2.3.3"
  }
 },
 "nbformat": 4,
 "nbformat_minor": 5
}