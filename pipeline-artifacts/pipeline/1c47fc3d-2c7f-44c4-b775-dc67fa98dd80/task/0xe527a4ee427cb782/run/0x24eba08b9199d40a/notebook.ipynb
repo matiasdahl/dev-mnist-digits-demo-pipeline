{
 "cells": [
  {
   "cell_type": "markdown",
   "id": "47ca36f8",
   "metadata": {
    "papermill": {
     "duration": 0.005001,
     "end_time": "2022-12-17T06:37:53.872770",
     "exception": false,
     "start_time": "2022-12-17T06:37:53.867769",
     "status": "completed"
    },
    "tags": []
   },
   "source": [
    "# Train model\n",
    "\n",
    "The purpose of this notebook is:\n",
    "\n",
    "- Load all training data (images and labels).\n",
    "- Limit number of train images to `task.nr_train_images` (value provided as run parameter).\n",
    "- Train a support vector machine model using sklearn.\n",
    "- Persist the trained model using the ONNX format."
   ]
  },
  {
   "cell_type": "markdown",
   "id": "023bf3e4",
   "metadata": {
    "papermill": {
     "duration": 0.002817,
     "end_time": "2022-12-17T06:37:53.879228",
     "exception": false,
     "start_time": "2022-12-17T06:37:53.876411",
     "status": "completed"
    },
    "tags": []
   },
   "source": [
    "### Determine run parameters"
   ]
  },
  {
   "cell_type": "code",
   "execution_count": 1,
   "id": "e5430b91",
   "metadata": {
    "execution": {
     "iopub.execute_input": "2022-12-17T06:37:53.887363Z",
     "iopub.status.busy": "2022-12-17T06:37:53.887089Z",
     "iopub.status.idle": "2022-12-17T06:37:53.896059Z",
     "shell.execute_reply": "2022-12-17T06:37:53.895355Z"
    },
    "lines_to_next_cell": 0,
    "papermill": {
     "duration": 0.015275,
     "end_time": "2022-12-17T06:37:53.898339",
     "exception": false,
     "start_time": "2022-12-17T06:37:53.883064",
     "status": "completed"
    },
    "tags": []
   },
   "outputs": [],
   "source": [
    "# ----------------- Parameters for interactive development --------------\n",
    "P = {\n",
    "    \"pipeline.data_lake_root\": \"/pipeline-outputs/data-lake\",\n",
    "    \"task.nr_train_images\": 600,\n",
    "}"
   ]
  },
  {
   "cell_type": "code",
   "execution_count": 2,
   "id": "bf7fb2dc",
   "metadata": {
    "execution": {
     "iopub.execute_input": "2022-12-17T06:37:53.905845Z",
     "iopub.status.busy": "2022-12-17T06:37:53.905609Z",
     "iopub.status.idle": "2022-12-17T06:37:53.908619Z",
     "shell.execute_reply": "2022-12-17T06:37:53.908060Z"
    },
    "lines_to_next_cell": 0,
    "papermill": {
     "duration": 0.009898,
     "end_time": "2022-12-17T06:37:53.911794",
     "exception": false,
     "start_time": "2022-12-17T06:37:53.901896",
     "status": "completed"
    },
    "tags": [
     "parameters"
    ]
   },
   "outputs": [],
   "source": [
    "# - During automated runs parameters will be injected in the below cell -"
   ]
  },
  {
   "cell_type": "code",
   "execution_count": 3,
   "id": "7827728d",
   "metadata": {
    "execution": {
     "iopub.execute_input": "2022-12-17T06:37:53.920744Z",
     "iopub.status.busy": "2022-12-17T06:37:53.920478Z",
     "iopub.status.idle": "2022-12-17T06:37:53.927348Z",
     "shell.execute_reply": "2022-12-17T06:37:53.926687Z"
    },
    "papermill": {
     "duration": 0.015448,
     "end_time": "2022-12-17T06:37:53.930113",
     "exception": false,
     "start_time": "2022-12-17T06:37:53.914665",
     "status": "completed"
    },
    "tags": [
     "injected-parameters"
    ]
   },
   "outputs": [],
   "source": [
    "# Parameters\n",
    "P = {\n",
    "    \"pipeline.data_lake_root\": \"/pipeline-outputs/data-lake\",\n",
    "    \"pipeline.run_environment\": \"ci\",\n",
    "    \"pipeline.pipeline_run_id\": \"1c47fc3d-2c7f-44c4-b775-dc67fa98dd80\",\n",
    "    \"pipeline.github.repository\": \"matiasdahl/dev-mnist-digits-demo-pipeline\",\n",
    "    \"pipeline.github.workflow\": \"Run automated tests, pipeline and deploy results to static reporting site\",\n",
    "    \"pipeline.github.runner_name\": \"Hosted Agent\",\n",
    "    \"pipeline.github.run_id\": \"3718869532\",\n",
    "    \"pipeline.github.actor\": \"matiasdahl\",\n",
    "    \"pipeline.github.job\": \"run-tests-pipeline-and-persist-pipeline-outputs\",\n",
    "    \"pipeline.github.base_ref\": \"\",\n",
    "    \"pipeline.github.head_ref\": \"\",\n",
    "    \"pipeline.github.sha\": \"ace0d01011d5e914f1921450dd5a59c11367b38d\",\n",
    "    \"pipeline.github.ref\": \"refs/heads/development\",\n",
    "    \"pipeline.github.ref_type\": \"branch\",\n",
    "    \"pipeline.github.ref_name\": \"development\",\n",
    "    \"pipeline.github.event_name\": \"schedule\",\n",
    "    \"task.nr_train_images\": 1000,\n",
    "    \"task.notebook\": \"notebooks/train-model.py\",\n",
    "    \"task.max_nr_retries\": \"1\",\n",
    "    \"run.retry_nr\": \"0\",\n",
    "    \"task.timeout_s\": \"None\",\n",
    "    \"task.num_cpus\": 1,\n",
    "    \"_opentelemetry_traceparent\": \"00-2c31cb83729d9fbe447adcd9d2dd0f79-d8f6686a2e7180f8-01\",\n",
    "}\n"
   ]
  },
  {
   "cell_type": "code",
   "execution_count": 4,
   "id": "fa5a7949",
   "metadata": {
    "execution": {
     "iopub.execute_input": "2022-12-17T06:37:53.938326Z",
     "iopub.status.busy": "2022-12-17T06:37:53.938085Z",
     "iopub.status.idle": "2022-12-17T06:37:53.941145Z",
     "shell.execute_reply": "2022-12-17T06:37:53.940378Z"
    },
    "lines_to_next_cell": 0,
    "papermill": {
     "duration": 0.010254,
     "end_time": "2022-12-17T06:37:53.944415",
     "exception": false,
     "start_time": "2022-12-17T06:37:53.934161",
     "status": "completed"
    },
    "tags": []
   },
   "outputs": [],
   "source": [
    "# -----------------------------------------------------------------------"
   ]
  },
  {
   "cell_type": "markdown",
   "id": "1b5f9a96",
   "metadata": {
    "papermill": {
     "duration": 0.003057,
     "end_time": "2022-12-17T06:37:53.950611",
     "exception": false,
     "start_time": "2022-12-17T06:37:53.947554",
     "status": "completed"
    },
    "tags": []
   },
   "source": [
    "---"
   ]
  },
  {
   "cell_type": "markdown",
   "id": "4feb9735",
   "metadata": {
    "lines_to_next_cell": 2,
    "papermill": {
     "duration": 0.002736,
     "end_time": "2022-12-17T06:37:53.958470",
     "exception": false,
     "start_time": "2022-12-17T06:37:53.955734",
     "status": "completed"
    },
    "tags": []
   },
   "source": [
    "### Notebook code"
   ]
  },
  {
   "cell_type": "code",
   "execution_count": 5,
   "id": "d4e6cba8",
   "metadata": {
    "execution": {
     "iopub.execute_input": "2022-12-17T06:37:53.966151Z",
     "iopub.status.busy": "2022-12-17T06:37:53.965856Z",
     "iopub.status.idle": "2022-12-17T06:37:54.513599Z",
     "shell.execute_reply": "2022-12-17T06:37:54.511843Z"
    },
    "papermill": {
     "duration": 0.554254,
     "end_time": "2022-12-17T06:37:54.515576",
     "exception": false,
     "start_time": "2022-12-17T06:37:53.961322",
     "status": "completed"
    },
    "tags": []
   },
   "outputs": [
    {
     "name": "stderr",
     "output_type": "stream",
     "text": [
      "2022-12-17 06:37:54,340\tINFO worker.py:842 -- Connecting to existing Ray cluster at address: 172.17.0.2:6379\n"
     ]
    }
   ],
   "source": [
    "from pynb_dag_runner.tasks.task_opentelemetry_logging import PydarLogger\n",
    "\n",
    "logger = PydarLogger(P)"
   ]
  },
  {
   "cell_type": "markdown",
   "id": "fad71f3c",
   "metadata": {
    "papermill": {
     "duration": 0.004621,
     "end_time": "2022-12-17T06:37:54.523592",
     "exception": false,
     "start_time": "2022-12-17T06:37:54.518971",
     "status": "completed"
    },
    "tags": []
   },
   "source": [
    "## Load and limit train data"
   ]
  },
  {
   "cell_type": "code",
   "execution_count": 6,
   "id": "aab93919",
   "metadata": {
    "execution": {
     "iopub.execute_input": "2022-12-17T06:37:54.538583Z",
     "iopub.status.busy": "2022-12-17T06:37:54.538229Z",
     "iopub.status.idle": "2022-12-17T06:37:55.036647Z",
     "shell.execute_reply": "2022-12-17T06:37:55.036052Z"
    },
    "papermill": {
     "duration": 0.511905,
     "end_time": "2022-12-17T06:37:55.038933",
     "exception": false,
     "start_time": "2022-12-17T06:37:54.527028",
     "status": "completed"
    },
    "tags": []
   },
   "outputs": [],
   "source": [
    "def load_and_limit_train_data(P):\n",
    "    from common.io import datalake_root, read_numpy\n",
    "    from sklearn.model_selection import train_test_split\n",
    "\n",
    "    X_train_all = read_numpy(datalake_root(P) / \"train-data\" / \"digits.numpy\")\n",
    "    y_train_all = read_numpy(datalake_root(P) / \"train-data\" / \"labels.numpy\")\n",
    "\n",
    "    assert isinstance(P[\"task.nr_train_images\"], int)\n",
    "\n",
    "    # Note: train_test_split will fail if split is 0 or 100%.\n",
    "    assert 0 < P[\"task.nr_train_images\"] < len(y_train_all)\n",
    "\n",
    "    X_train, _, y_train, _ = train_test_split(\n",
    "        X_train_all,\n",
    "        y_train_all,\n",
    "        train_size=P[\"task.nr_train_images\"],\n",
    "        test_size=None,\n",
    "        stratify=y_train_all,\n",
    "        shuffle=True,\n",
    "        random_state=123,\n",
    "    )\n",
    "\n",
    "    assert X_train.shape == (len(y_train), 8 * 8)\n",
    "    return X_train, y_train\n",
    "\n",
    "\n",
    "X_train, y_train = load_and_limit_train_data(P)"
   ]
  },
  {
   "cell_type": "markdown",
   "id": "74c5b5bf",
   "metadata": {
    "papermill": {
     "duration": 0.003632,
     "end_time": "2022-12-17T06:37:55.048951",
     "exception": false,
     "start_time": "2022-12-17T06:37:55.045319",
     "status": "completed"
    },
    "tags": []
   },
   "source": [
    "## Train support vector classifier model\n",
    "\n",
    "Below we assume that the hyperparameter $C$ is known.\n",
    "\n",
    "However, this should ideally be found by a hyperparameter search. That could be\n",
    "done in parallel on the Ray cluster, but this needs some more work. Ie., to use\n",
    "multiple cores in the notebook, those cores should be reserved when starting the\n",
    "notebook task (TODO).\n",
    "\n",
    "- https://docs.ray.io/en/latest/tune/key-concepts.html\n",
    "\n",
    "Note: cv-scores would need to be computed here, since they depend on the train data.\n",
    "After this notebook only the onnx-model is available."
   ]
  },
  {
   "cell_type": "code",
   "execution_count": 7,
   "id": "cafae4c2",
   "metadata": {
    "execution": {
     "iopub.execute_input": "2022-12-17T06:37:55.064086Z",
     "iopub.status.busy": "2022-12-17T06:37:55.063710Z",
     "iopub.status.idle": "2022-12-17T06:37:55.172120Z",
     "shell.execute_reply": "2022-12-17T06:37:55.171395Z"
    },
    "papermill": {
     "duration": 0.115113,
     "end_time": "2022-12-17T06:37:55.174128",
     "exception": false,
     "start_time": "2022-12-17T06:37:55.059015",
     "status": "completed"
    },
    "tags": []
   },
   "outputs": [],
   "source": [
    "from sklearn.svm import SVC"
   ]
  },
  {
   "cell_type": "code",
   "execution_count": 8,
   "id": "45f15550",
   "metadata": {
    "execution": {
     "iopub.execute_input": "2022-12-17T06:37:55.183159Z",
     "iopub.status.busy": "2022-12-17T06:37:55.182700Z",
     "iopub.status.idle": "2022-12-17T06:37:55.285236Z",
     "shell.execute_reply": "2022-12-17T06:37:55.284650Z"
    },
    "papermill": {
     "duration": 0.109126,
     "end_time": "2022-12-17T06:37:55.286907",
     "exception": false,
     "start_time": "2022-12-17T06:37:55.177781",
     "status": "completed"
    },
    "tags": []
   },
   "outputs": [
    {
     "data": {
      "text/html": [
       "<style>#sk-container-id-1 {color: black;background-color: white;}#sk-container-id-1 pre{padding: 0;}#sk-container-id-1 div.sk-toggleable {background-color: white;}#sk-container-id-1 label.sk-toggleable__label {cursor: pointer;display: block;width: 100%;margin-bottom: 0;padding: 0.3em;box-sizing: border-box;text-align: center;}#sk-container-id-1 label.sk-toggleable__label-arrow:before {content: \"▸\";float: left;margin-right: 0.25em;color: #696969;}#sk-container-id-1 label.sk-toggleable__label-arrow:hover:before {color: black;}#sk-container-id-1 div.sk-estimator:hover label.sk-toggleable__label-arrow:before {color: black;}#sk-container-id-1 div.sk-toggleable__content {max-height: 0;max-width: 0;overflow: hidden;text-align: left;background-color: #f0f8ff;}#sk-container-id-1 div.sk-toggleable__content pre {margin: 0.2em;color: black;border-radius: 0.25em;background-color: #f0f8ff;}#sk-container-id-1 input.sk-toggleable__control:checked~div.sk-toggleable__content {max-height: 200px;max-width: 100%;overflow: auto;}#sk-container-id-1 input.sk-toggleable__control:checked~label.sk-toggleable__label-arrow:before {content: \"▾\";}#sk-container-id-1 div.sk-estimator input.sk-toggleable__control:checked~label.sk-toggleable__label {background-color: #d4ebff;}#sk-container-id-1 div.sk-label input.sk-toggleable__control:checked~label.sk-toggleable__label {background-color: #d4ebff;}#sk-container-id-1 input.sk-hidden--visually {border: 0;clip: rect(1px 1px 1px 1px);clip: rect(1px, 1px, 1px, 1px);height: 1px;margin: -1px;overflow: hidden;padding: 0;position: absolute;width: 1px;}#sk-container-id-1 div.sk-estimator {font-family: monospace;background-color: #f0f8ff;border: 1px dotted black;border-radius: 0.25em;box-sizing: border-box;margin-bottom: 0.5em;}#sk-container-id-1 div.sk-estimator:hover {background-color: #d4ebff;}#sk-container-id-1 div.sk-parallel-item::after {content: \"\";width: 100%;border-bottom: 1px solid gray;flex-grow: 1;}#sk-container-id-1 div.sk-label:hover label.sk-toggleable__label {background-color: #d4ebff;}#sk-container-id-1 div.sk-serial::before {content: \"\";position: absolute;border-left: 1px solid gray;box-sizing: border-box;top: 0;bottom: 0;left: 50%;z-index: 0;}#sk-container-id-1 div.sk-serial {display: flex;flex-direction: column;align-items: center;background-color: white;padding-right: 0.2em;padding-left: 0.2em;position: relative;}#sk-container-id-1 div.sk-item {position: relative;z-index: 1;}#sk-container-id-1 div.sk-parallel {display: flex;align-items: stretch;justify-content: center;background-color: white;position: relative;}#sk-container-id-1 div.sk-item::before, #sk-container-id-1 div.sk-parallel-item::before {content: \"\";position: absolute;border-left: 1px solid gray;box-sizing: border-box;top: 0;bottom: 0;left: 50%;z-index: -1;}#sk-container-id-1 div.sk-parallel-item {display: flex;flex-direction: column;z-index: 1;position: relative;background-color: white;}#sk-container-id-1 div.sk-parallel-item:first-child::after {align-self: flex-end;width: 50%;}#sk-container-id-1 div.sk-parallel-item:last-child::after {align-self: flex-start;width: 50%;}#sk-container-id-1 div.sk-parallel-item:only-child::after {width: 0;}#sk-container-id-1 div.sk-dashed-wrapped {border: 1px dashed gray;margin: 0 0.4em 0.5em 0.4em;box-sizing: border-box;padding-bottom: 0.4em;background-color: white;}#sk-container-id-1 div.sk-label label {font-family: monospace;font-weight: bold;display: inline-block;line-height: 1.2em;}#sk-container-id-1 div.sk-label-container {text-align: center;}#sk-container-id-1 div.sk-container {/* jupyter's `normalize.less` sets `[hidden] { display: none; }` but bootstrap.min.css set `[hidden] { display: none !important; }` so we also need the `!important` here to be able to override the default hidden behavior on the sphinx rendered scikit-learn.org. See: https://github.com/scikit-learn/scikit-learn/issues/21755 */display: inline-block !important;position: relative;}#sk-container-id-1 div.sk-text-repr-fallback {display: none;}</style><div id=\"sk-container-id-1\" class=\"sk-top-container\"><div class=\"sk-text-repr-fallback\"><pre>SVC(C=0.001, kernel=&#x27;linear&#x27;, probability=True)</pre><b>In a Jupyter environment, please rerun this cell to show the HTML representation or trust the notebook. <br />On GitHub, the HTML representation is unable to render, please try loading this page with nbviewer.org.</b></div><div class=\"sk-container\" hidden><div class=\"sk-item\"><div class=\"sk-estimator sk-toggleable\"><input class=\"sk-toggleable__control sk-hidden--visually\" id=\"sk-estimator-id-1\" type=\"checkbox\" checked><label for=\"sk-estimator-id-1\" class=\"sk-toggleable__label sk-toggleable__label-arrow\">SVC</label><div class=\"sk-toggleable__content\"><pre>SVC(C=0.001, kernel=&#x27;linear&#x27;, probability=True)</pre></div></div></div></div></div>"
      ],
      "text/plain": [
       "SVC(C=0.001, kernel='linear', probability=True)"
      ]
     },
     "execution_count": 8,
     "metadata": {},
     "output_type": "execute_result"
    }
   ],
   "source": [
    "model = SVC(C=0.001, kernel=\"linear\", probability=True)\n",
    "\n",
    "model.fit(X_train, y_train)"
   ]
  },
  {
   "cell_type": "markdown",
   "id": "bdb39027",
   "metadata": {
    "papermill": {
     "duration": 0.00358,
     "end_time": "2022-12-17T06:37:55.294975",
     "exception": false,
     "start_time": "2022-12-17T06:37:55.291395",
     "status": "completed"
    },
    "tags": []
   },
   "source": [
    "### Q: Can the labels returned by `predict(..)` be computed from probabilities returned by the `predict_prob`-method?"
   ]
  },
  {
   "cell_type": "code",
   "execution_count": 9,
   "id": "1dcfd31e",
   "metadata": {
    "execution": {
     "iopub.execute_input": "2022-12-17T06:37:55.304397Z",
     "iopub.status.busy": "2022-12-17T06:37:55.304097Z",
     "iopub.status.idle": "2022-12-17T06:37:55.356571Z",
     "shell.execute_reply": "2022-12-17T06:37:55.355554Z"
    },
    "papermill": {
     "duration": 0.059194,
     "end_time": "2022-12-17T06:37:55.358323",
     "exception": false,
     "start_time": "2022-12-17T06:37:55.299129",
     "status": "completed"
    },
    "tags": []
   },
   "outputs": [
    {
     "name": "stdout",
     "output_type": "stream",
     "text": [
      " - Logging nr_max_prob_neq_label (int) : 1\n"
     ]
    }
   ],
   "source": [
    "import numpy as np\n",
    "\n",
    "y_train_labels = model.predict(X_train)\n",
    "y_train_probabilities = model.predict_proba(X_train)\n",
    "assert y_train_probabilities.shape == (len(y_train), 10)\n",
    "\n",
    "y_train_max_prob_labels = np.argmax(y_train_probabilities, axis=1)\n",
    "assert y_train_labels.shape == y_train_max_prob_labels.shape == y_train.shape\n",
    "\n",
    "# If the predicted labels would coincide with the labels that have\n",
    "# maximum probability, the below number would be zero\n",
    "logger.log_int(\n",
    "    \"nr_max_prob_neq_label\", int(sum(y_train_max_prob_labels != y_train_labels))\n",
    ")"
   ]
  },
  {
   "cell_type": "markdown",
   "id": "9bd11a4b",
   "metadata": {
    "papermill": {
     "duration": 0.003888,
     "end_time": "2022-12-17T06:37:55.366602",
     "exception": false,
     "start_time": "2022-12-17T06:37:55.362714",
     "status": "completed"
    },
    "tags": []
   },
   "source": [
    "The explanation is (likely) explained in the SVC source, see\n",
    "[here](https://github.com/scikit-learn/scikit-learn/blob/main/sklearn/svm/_base.py).\n",
    "Namely, the outputs from `predict(..)` and `predict_proba(..)` may not in some\n",
    "cases be compatible since the latter is computed using cross-validation while\n",
    "the former is not. Thus, the above number need not be zero."
   ]
  },
  {
   "cell_type": "markdown",
   "id": "3cfc8651",
   "metadata": {
    "papermill": {
     "duration": 0.003143,
     "end_time": "2022-12-17T06:37:55.373281",
     "exception": false,
     "start_time": "2022-12-17T06:37:55.370138",
     "status": "completed"
    },
    "tags": []
   },
   "source": [
    "## Persist model"
   ]
  },
  {
   "cell_type": "code",
   "execution_count": 10,
   "id": "2189fcbd",
   "metadata": {
    "execution": {
     "iopub.execute_input": "2022-12-17T06:37:55.382426Z",
     "iopub.status.busy": "2022-12-17T06:37:55.382152Z",
     "iopub.status.idle": "2022-12-17T06:37:56.712828Z",
     "shell.execute_reply": "2022-12-17T06:37:56.711482Z"
    },
    "papermill": {
     "duration": 1.338431,
     "end_time": "2022-12-17T06:37:56.715127",
     "exception": false,
     "start_time": "2022-12-17T06:37:55.376696",
     "status": "completed"
    },
    "tags": []
   },
   "outputs": [],
   "source": [
    "from skl2onnx import convert_sklearn\n",
    "from skl2onnx.common.data_types import FloatTensorType\n",
    "\n",
    "#\n",
    "from common.io import datalake_root, write_onnx"
   ]
  },
  {
   "cell_type": "code",
   "execution_count": 11,
   "id": "671fe149",
   "metadata": {
    "execution": {
     "iopub.execute_input": "2022-12-17T06:37:56.725796Z",
     "iopub.status.busy": "2022-12-17T06:37:56.725199Z",
     "iopub.status.idle": "2022-12-17T06:37:56.775204Z",
     "shell.execute_reply": "2022-12-17T06:37:56.774597Z"
    },
    "papermill": {
     "duration": 0.058053,
     "end_time": "2022-12-17T06:37:56.777123",
     "exception": false,
     "start_time": "2022-12-17T06:37:56.719070",
     "status": "completed"
    },
    "tags": []
   },
   "outputs": [],
   "source": [
    "# convert sklearn model into onnx and persist to data lake\n",
    "\n",
    "model_onnx = convert_sklearn(\n",
    "    model, initial_types=[(\"float_input_8x8_image\", FloatTensorType([None, 8 * 8]))]\n",
    ")\n",
    "write_onnx(\n",
    "    datalake_root(P)\n",
    "    / \"models\"\n",
    "    / f\"nr_train_images={P['task.nr_train_images']}\"\n",
    "    / \"model.onnx\",\n",
    "    model_onnx,\n",
    ")"
   ]
  },
  {
   "cell_type": "code",
   "execution_count": null,
   "id": "641b2cc7",
   "metadata": {
    "papermill": {
     "duration": 0.004917,
     "end_time": "2022-12-17T06:37:56.787006",
     "exception": false,
     "start_time": "2022-12-17T06:37:56.782089",
     "status": "completed"
    },
    "tags": []
   },
   "outputs": [],
   "source": []
  }
 ],
 "metadata": {
  "jupytext": {
   "cell_metadata_filter": "tags,-all",
   "main_language": "python",
   "notebook_metadata_filter": "-all"
  },
  "language_info": {
   "codemirror_mode": {
    "name": "ipython",
    "version": 3
   },
   "file_extension": ".py",
   "mimetype": "text/x-python",
   "name": "python",
   "nbconvert_exporter": "python",
   "pygments_lexer": "ipython3",
   "version": "3.8.10"
  },
  "papermill": {
   "default_parameters": {},
   "duration": 5.754046,
   "end_time": "2022-12-17T06:37:58.014427",
   "environment_variables": {},
   "exception": null,
   "input_path": "/home/host_user/workspace/mnist-demo-pipeline/mnist-demo-pipeline/notebooks/temp-notebook-z2dl5xvi.ipynb",
   "output_path": "notebooks/train-model.ipynb",
   "parameters": {
    "P": {
     "_opentelemetry_traceparent": "00-2c31cb83729d9fbe447adcd9d2dd0f79-d8f6686a2e7180f8-01",
     "pipeline.data_lake_root": "/pipeline-outputs/data-lake",
     "pipeline.github.actor": "matiasdahl",
     "pipeline.github.base_ref": "",
     "pipeline.github.event_name": "schedule",
     "pipeline.github.head_ref": "",
     "pipeline.github.job": "run-tests-pipeline-and-persist-pipeline-outputs",
     "pipeline.github.ref": "refs/heads/development",
     "pipeline.github.ref_name": "development",
     "pipeline.github.ref_type": "branch",
     "pipeline.github.repository": "matiasdahl/dev-mnist-digits-demo-pipeline",
     "pipeline.github.run_id": "3718869532",
     "pipeline.github.runner_name": "Hosted Agent",
     "pipeline.github.sha": "ace0d01011d5e914f1921450dd5a59c11367b38d",
     "pipeline.github.workflow": "Run automated tests, pipeline and deploy results to static reporting site",
     "pipeline.pipeline_run_id": "1c47fc3d-2c7f-44c4-b775-dc67fa98dd80",
     "pipeline.run_environment": "ci",
     "run.retry_nr": "0",
     "task.max_nr_retries": "1",
     "task.notebook": "notebooks/train-model.py",
     "task.nr_train_images": 1000,
     "task.num_cpus": 1,
     "task.timeout_s": "None"
    }
   },
   "start_time": "2022-12-17T06:37:52.260381",
   "version": "2.3.3"
  }
 },
 "nbformat": 4,
 "nbformat_minor": 5
}