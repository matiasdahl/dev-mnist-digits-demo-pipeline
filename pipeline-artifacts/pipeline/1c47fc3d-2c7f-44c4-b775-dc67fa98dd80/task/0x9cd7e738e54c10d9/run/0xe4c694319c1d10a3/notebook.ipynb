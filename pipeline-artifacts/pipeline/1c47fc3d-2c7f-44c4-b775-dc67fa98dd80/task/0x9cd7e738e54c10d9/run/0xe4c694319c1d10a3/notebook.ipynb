{
 "cells": [
  {
   "cell_type": "markdown",
   "id": "2f95ebfb",
   "metadata": {
    "papermill": {
     "duration": 0.005485,
     "end_time": "2022-12-17T06:38:18.145859",
     "exception": false,
     "start_time": "2022-12-17T06:38:18.140374",
     "status": "completed"
    },
    "tags": []
   },
   "source": [
    "# Benchmark model\n",
    "\n",
    "The purpose of this notebook is to benchmark persisted onnx-model (trained in the\n",
    "previous step) against evaluation set."
   ]
  },
  {
   "cell_type": "markdown",
   "id": "e5ed09ce",
   "metadata": {
    "papermill": {
     "duration": 0.006082,
     "end_time": "2022-12-17T06:38:18.158549",
     "exception": false,
     "start_time": "2022-12-17T06:38:18.152467",
     "status": "completed"
    },
    "tags": []
   },
   "source": [
    "### Determine run parameters"
   ]
  },
  {
   "cell_type": "code",
   "execution_count": 1,
   "id": "08c6f3c5",
   "metadata": {
    "execution": {
     "iopub.execute_input": "2022-12-17T06:38:18.168778Z",
     "iopub.status.busy": "2022-12-17T06:38:18.168481Z",
     "iopub.status.idle": "2022-12-17T06:38:18.176247Z",
     "shell.execute_reply": "2022-12-17T06:38:18.175517Z"
    },
    "lines_to_next_cell": 0,
    "papermill": {
     "duration": 0.016074,
     "end_time": "2022-12-17T06:38:18.179026",
     "exception": false,
     "start_time": "2022-12-17T06:38:18.162952",
     "status": "completed"
    },
    "tags": []
   },
   "outputs": [],
   "source": [
    "# ----------------- Parameters for interactive development --------------\n",
    "P = {\n",
    "    \"pipeline.data_lake_root\": \"/pipeline-outputs/data-lake\",\n",
    "    \"task.nr_train_images\": 600,\n",
    "}"
   ]
  },
  {
   "cell_type": "code",
   "execution_count": 2,
   "id": "5891219a",
   "metadata": {
    "execution": {
     "iopub.execute_input": "2022-12-17T06:38:18.189476Z",
     "iopub.status.busy": "2022-12-17T06:38:18.189235Z",
     "iopub.status.idle": "2022-12-17T06:38:18.192258Z",
     "shell.execute_reply": "2022-12-17T06:38:18.191663Z"
    },
    "lines_to_next_cell": 0,
    "papermill": {
     "duration": 0.01158,
     "end_time": "2022-12-17T06:38:18.195238",
     "exception": false,
     "start_time": "2022-12-17T06:38:18.183658",
     "status": "completed"
    },
    "tags": [
     "parameters"
    ]
   },
   "outputs": [],
   "source": [
    "# - During automated runs parameters will be injected in the below cell -"
   ]
  },
  {
   "cell_type": "code",
   "execution_count": 3,
   "id": "61c936ee",
   "metadata": {
    "execution": {
     "iopub.execute_input": "2022-12-17T06:38:18.204638Z",
     "iopub.status.busy": "2022-12-17T06:38:18.204403Z",
     "iopub.status.idle": "2022-12-17T06:38:18.210088Z",
     "shell.execute_reply": "2022-12-17T06:38:18.209591Z"
    },
    "papermill": {
     "duration": 0.012206,
     "end_time": "2022-12-17T06:38:18.211730",
     "exception": false,
     "start_time": "2022-12-17T06:38:18.199524",
     "status": "completed"
    },
    "tags": [
     "injected-parameters"
    ]
   },
   "outputs": [],
   "source": [
    "# Parameters\n",
    "P = {\n",
    "    \"pipeline.data_lake_root\": \"/pipeline-outputs/data-lake\",\n",
    "    \"pipeline.run_environment\": \"ci\",\n",
    "    \"pipeline.pipeline_run_id\": \"1c47fc3d-2c7f-44c4-b775-dc67fa98dd80\",\n",
    "    \"pipeline.github.repository\": \"matiasdahl/dev-mnist-digits-demo-pipeline\",\n",
    "    \"pipeline.github.workflow\": \"Run automated tests, pipeline and deploy results to static reporting site\",\n",
    "    \"pipeline.github.runner_name\": \"Hosted Agent\",\n",
    "    \"pipeline.github.run_id\": \"3718869532\",\n",
    "    \"pipeline.github.actor\": \"matiasdahl\",\n",
    "    \"pipeline.github.job\": \"run-tests-pipeline-and-persist-pipeline-outputs\",\n",
    "    \"pipeline.github.base_ref\": \"\",\n",
    "    \"pipeline.github.head_ref\": \"\",\n",
    "    \"pipeline.github.sha\": \"ace0d01011d5e914f1921450dd5a59c11367b38d\",\n",
    "    \"pipeline.github.ref\": \"refs/heads/development\",\n",
    "    \"pipeline.github.ref_type\": \"branch\",\n",
    "    \"pipeline.github.ref_name\": \"development\",\n",
    "    \"pipeline.github.event_name\": \"schedule\",\n",
    "    \"task.nr_train_images\": 800,\n",
    "    \"task.notebook\": \"notebooks/benchmark-model.py\",\n",
    "    \"task.max_nr_retries\": \"1\",\n",
    "    \"run.retry_nr\": \"0\",\n",
    "    \"task.timeout_s\": \"None\",\n",
    "    \"task.num_cpus\": 1,\n",
    "    \"_opentelemetry_traceparent\": \"00-2c31cb83729d9fbe447adcd9d2dd0f79-32c24ba92a8e7270-01\",\n",
    "}\n"
   ]
  },
  {
   "cell_type": "code",
   "execution_count": 4,
   "id": "e1ea412a",
   "metadata": {
    "execution": {
     "iopub.execute_input": "2022-12-17T06:38:18.223907Z",
     "iopub.status.busy": "2022-12-17T06:38:18.223684Z",
     "iopub.status.idle": "2022-12-17T06:38:18.227009Z",
     "shell.execute_reply": "2022-12-17T06:38:18.225984Z"
    },
    "lines_to_next_cell": 0,
    "papermill": {
     "duration": 0.013774,
     "end_time": "2022-12-17T06:38:18.229507",
     "exception": false,
     "start_time": "2022-12-17T06:38:18.215733",
     "status": "completed"
    },
    "tags": []
   },
   "outputs": [],
   "source": [
    "# -----------------------------------------------------------------------"
   ]
  },
  {
   "cell_type": "markdown",
   "id": "8c0948aa",
   "metadata": {
    "papermill": {
     "duration": 0.016072,
     "end_time": "2022-12-17T06:38:18.249626",
     "exception": false,
     "start_time": "2022-12-17T06:38:18.233554",
     "status": "completed"
    },
    "tags": []
   },
   "source": [
    "---"
   ]
  },
  {
   "cell_type": "markdown",
   "id": "d41c6949",
   "metadata": {
    "lines_to_next_cell": 2,
    "papermill": {
     "duration": 0.004873,
     "end_time": "2022-12-17T06:38:18.258621",
     "exception": false,
     "start_time": "2022-12-17T06:38:18.253748",
     "status": "completed"
    },
    "tags": []
   },
   "source": [
    "### Notebook code"
   ]
  },
  {
   "cell_type": "code",
   "execution_count": 5,
   "id": "9498c889",
   "metadata": {
    "execution": {
     "iopub.execute_input": "2022-12-17T06:38:18.268015Z",
     "iopub.status.busy": "2022-12-17T06:38:18.267733Z",
     "iopub.status.idle": "2022-12-17T06:38:19.463529Z",
     "shell.execute_reply": "2022-12-17T06:38:19.462738Z"
    },
    "papermill": {
     "duration": 1.203068,
     "end_time": "2022-12-17T06:38:19.465479",
     "exception": false,
     "start_time": "2022-12-17T06:38:18.262411",
     "status": "completed"
    },
    "tags": []
   },
   "outputs": [
    {
     "name": "stderr",
     "output_type": "stream",
     "text": [
      "2022-12-17 06:38:19,229\tINFO worker.py:842 -- Connecting to existing Ray cluster at address: 172.17.0.2:6379\n"
     ]
    }
   ],
   "source": [
    "import itertools as it\n",
    "\n",
    "#\n",
    "import numpy as np\n",
    "import matplotlib.pyplot as plt\n",
    "\n",
    "#\n",
    "from pynb_dag_runner.tasks.task_opentelemetry_logging import PydarLogger\n",
    "\n",
    "#\n",
    "from common.io import datalake_root\n",
    "\n",
    "logger = PydarLogger(P)"
   ]
  },
  {
   "cell_type": "markdown",
   "id": "091d35d1",
   "metadata": {
    "papermill": {
     "duration": 0.006224,
     "end_time": "2022-12-17T06:38:19.476165",
     "exception": false,
     "start_time": "2022-12-17T06:38:19.469941",
     "status": "completed"
    },
    "tags": []
   },
   "source": [
    "## Load persisted onnx-model and evaluation data"
   ]
  },
  {
   "cell_type": "code",
   "execution_count": 6,
   "id": "a282d988",
   "metadata": {
    "execution": {
     "iopub.execute_input": "2022-12-17T06:38:19.487087Z",
     "iopub.status.busy": "2022-12-17T06:38:19.486496Z",
     "iopub.status.idle": "2022-12-17T06:38:19.490330Z",
     "shell.execute_reply": "2022-12-17T06:38:19.489641Z"
    },
    "papermill": {
     "duration": 0.011325,
     "end_time": "2022-12-17T06:38:19.492592",
     "exception": false,
     "start_time": "2022-12-17T06:38:19.481267",
     "status": "completed"
    },
    "tags": []
   },
   "outputs": [],
   "source": [
    "from common.io import read_onnx, get_onnx_inputs, get_onnx_outputs, read_numpy"
   ]
  },
  {
   "cell_type": "code",
   "execution_count": 7,
   "id": "37a10728",
   "metadata": {
    "execution": {
     "iopub.execute_input": "2022-12-17T06:38:19.502350Z",
     "iopub.status.busy": "2022-12-17T06:38:19.502109Z",
     "iopub.status.idle": "2022-12-17T06:38:19.513149Z",
     "shell.execute_reply": "2022-12-17T06:38:19.512449Z"
    },
    "lines_to_next_cell": 0,
    "papermill": {
     "duration": 0.018354,
     "end_time": "2022-12-17T06:38:19.515221",
     "exception": false,
     "start_time": "2022-12-17T06:38:19.496867",
     "status": "completed"
    },
    "tags": []
   },
   "outputs": [],
   "source": [
    "onnx_inference_session = read_onnx(\n",
    "    datalake_root(P)\n",
    "    / \"models\"\n",
    "    / f\"nr_train_images={P['task.nr_train_images']}\"\n",
    "    / \"model.onnx\"\n",
    ")"
   ]
  },
  {
   "cell_type": "markdown",
   "id": "57e76341",
   "metadata": {
    "papermill": {
     "duration": 0.00418,
     "end_time": "2022-12-17T06:38:19.524096",
     "exception": false,
     "start_time": "2022-12-17T06:38:19.519916",
     "status": "completed"
    },
    "tags": []
   },
   "source": [
    "### Record structure of inputs and outputs for ONNX model\n",
    "\n",
    "(this should likely be done in training notebook)"
   ]
  },
  {
   "cell_type": "code",
   "execution_count": 8,
   "id": "3ed21715",
   "metadata": {
    "execution": {
     "iopub.execute_input": "2022-12-17T06:38:19.534844Z",
     "iopub.status.busy": "2022-12-17T06:38:19.534424Z",
     "iopub.status.idle": "2022-12-17T06:38:19.541009Z",
     "shell.execute_reply": "2022-12-17T06:38:19.540161Z"
    },
    "papermill": {
     "duration": 0.016298,
     "end_time": "2022-12-17T06:38:19.545449",
     "exception": false,
     "start_time": "2022-12-17T06:38:19.529151",
     "status": "completed"
    },
    "tags": []
   },
   "outputs": [
    {
     "name": "stdout",
     "output_type": "stream",
     "text": [
      "{\n",
      "  \"inputs\": [\n",
      "    {\n",
      "      \"name\": \"float_input_8x8_image\",\n",
      "      \"shape\": [\n",
      "        null,\n",
      "        64\n",
      "      ],\n",
      "      \"type\": \"tensor(float)\"\n",
      "    }\n",
      "  ],\n",
      "  \"outputs\": [\n",
      "    {\n",
      "      \"name\": \"output_label\",\n",
      "      \"shape\": [\n",
      "        null\n",
      "      ],\n",
      "      \"type\": \"tensor(int64)\"\n",
      "    },\n",
      "    {\n",
      "      \"name\": \"output_probability\",\n",
      "      \"shape\": [],\n",
      "      \"type\": \"seq(map(int64,tensor(float)))\"\n",
      "    }\n",
      "  ]\n",
      "}\n"
     ]
    }
   ],
   "source": [
    "import json\n",
    "\n",
    "onnx_io = json.dumps(\n",
    "    {\n",
    "        \"inputs\": get_onnx_inputs(onnx_inference_session),\n",
    "        \"outputs\": get_onnx_outputs(onnx_inference_session),\n",
    "    },\n",
    "    indent=2,\n",
    ")\n",
    "\n",
    "\n",
    "logger.log_artefact(\"onnx_io_structure.json\", onnx_io)\n",
    "print(onnx_io)"
   ]
  },
  {
   "cell_type": "markdown",
   "id": "f4f03c1c",
   "metadata": {
    "papermill": {
     "duration": 0.004322,
     "end_time": "2022-12-17T06:38:19.554372",
     "exception": false,
     "start_time": "2022-12-17T06:38:19.550050",
     "status": "completed"
    },
    "tags": []
   },
   "source": [
    "### Evaluate model performance on evaluation data set"
   ]
  },
  {
   "cell_type": "code",
   "execution_count": 9,
   "id": "46b5029b",
   "metadata": {
    "execution": {
     "iopub.execute_input": "2022-12-17T06:38:19.564453Z",
     "iopub.status.busy": "2022-12-17T06:38:19.564122Z",
     "iopub.status.idle": "2022-12-17T06:38:19.569018Z",
     "shell.execute_reply": "2022-12-17T06:38:19.568320Z"
    },
    "papermill": {
     "duration": 0.012776,
     "end_time": "2022-12-17T06:38:19.571542",
     "exception": false,
     "start_time": "2022-12-17T06:38:19.558766",
     "status": "completed"
    },
    "tags": []
   },
   "outputs": [],
   "source": [
    "# load evaluation data\n",
    "X_test = read_numpy(datalake_root(P) / \"test-data\" / \"digits.numpy\")\n",
    "y_test = read_numpy(datalake_root(P) / \"test-data\" / \"labels.numpy\")"
   ]
  },
  {
   "cell_type": "code",
   "execution_count": 10,
   "id": "1f447bf2",
   "metadata": {
    "execution": {
     "iopub.execute_input": "2022-12-17T06:38:19.590147Z",
     "iopub.status.busy": "2022-12-17T06:38:19.589409Z",
     "iopub.status.idle": "2022-12-17T06:38:19.605581Z",
     "shell.execute_reply": "2022-12-17T06:38:19.604869Z"
    },
    "papermill": {
     "duration": 0.023067,
     "end_time": "2022-12-17T06:38:19.607101",
     "exception": false,
     "start_time": "2022-12-17T06:38:19.584034",
     "status": "completed"
    },
    "tags": []
   },
   "outputs": [],
   "source": [
    "def get_model_outputs(X, onnx_inference_session):\n",
    "    y_pred_labels, y_pred_map = onnx_inference_session.run(\n",
    "        [\"output_label\", \"output_probability\"],\n",
    "        {\"float_input_8x8_image\": X.astype(np.float32)},\n",
    "    )\n",
    "    y_pred_probs = np.array(\n",
    "        [[probabilities[digit] for digit in range(10)] for probabilities in y_pred_map]\n",
    "    )\n",
    "\n",
    "    assert y_pred_labels.shape == (X.shape[0],)\n",
    "    assert y_pred_probs.shape == (X.shape[0], 10)\n",
    "\n",
    "    return y_pred_labels, y_pred_probs\n",
    "\n",
    "\n",
    "# Note: as shown in the training notebook, the predicted labels and probabilities\n",
    "# computed below need not be compatible.\n",
    "y_pred_labels_test, y_pred_probs_test = get_model_outputs(\n",
    "    X_test, onnx_inference_session\n",
    ")"
   ]
  },
  {
   "cell_type": "markdown",
   "id": "3646c041",
   "metadata": {
    "papermill": {
     "duration": 0.004718,
     "end_time": "2022-12-17T06:38:19.616440",
     "exception": false,
     "start_time": "2022-12-17T06:38:19.611722",
     "status": "completed"
    },
    "tags": []
   },
   "source": [
    "### Confusion matrix"
   ]
  },
  {
   "cell_type": "code",
   "execution_count": 11,
   "id": "99a7f908",
   "metadata": {
    "execution": {
     "iopub.execute_input": "2022-12-17T06:38:19.626569Z",
     "iopub.status.busy": "2022-12-17T06:38:19.625968Z",
     "iopub.status.idle": "2022-12-17T06:38:19.629197Z",
     "shell.execute_reply": "2022-12-17T06:38:19.628440Z"
    },
    "papermill": {
     "duration": 0.010033,
     "end_time": "2022-12-17T06:38:19.630747",
     "exception": false,
     "start_time": "2022-12-17T06:38:19.620714",
     "status": "completed"
    },
    "tags": []
   },
   "outputs": [],
   "source": [
    "# TODO"
   ]
  },
  {
   "cell_type": "markdown",
   "id": "bd18f886",
   "metadata": {
    "papermill": {
     "duration": 0.004334,
     "end_time": "2022-12-17T06:38:19.639900",
     "exception": false,
     "start_time": "2022-12-17T06:38:19.635566",
     "status": "completed"
    },
    "tags": []
   },
   "source": [
    "### Plot predicted probabilities for each classifier over all evaluation digit images"
   ]
  },
  {
   "cell_type": "code",
   "execution_count": 12,
   "id": "5385338e",
   "metadata": {
    "execution": {
     "iopub.execute_input": "2022-12-17T06:38:19.650413Z",
     "iopub.status.busy": "2022-12-17T06:38:19.649970Z",
     "iopub.status.idle": "2022-12-17T06:38:23.247950Z",
     "shell.execute_reply": "2022-12-17T06:38:23.247368Z"
    },
    "papermill": {
     "duration": 3.60496,
     "end_time": "2022-12-17T06:38:23.249811",
     "exception": false,
     "start_time": "2022-12-17T06:38:19.644851",
     "status": "completed"
    },
    "tags": []
   },
   "outputs": [
    {
     "data": {
      "image/png": "[encoded data removed]",
      "text/plain": [
       "<Figure size 1600x600 with 10 Axes>"
      ]
     },
     "metadata": {},
     "output_type": "display_data"
    }
   ],
   "source": [
    "def plot_per_digit_probabilities(y_pred_probs):\n",
    "    fig, axs = plt.subplots(nrows=2, ncols=5, figsize=(16, 6))\n",
    "\n",
    "    for (r, c), digit, ax in zip(\n",
    "        it.product(range(2), range(5)), range(10), axs.reshape(-1)\n",
    "    ):\n",
    "        ax.hist(y_pred_probs_test[:, digit], bins=20)\n",
    "\n",
    "        ax.set_title(f\"Digit {digit}\")\n",
    "        if r == 1 and c == 2:\n",
    "            ax.set_xlabel(\"probability\", fontsize=16)\n",
    "\n",
    "        if c == 0:\n",
    "            ax.set_ylabel(\"counts\", fontsize=16)\n",
    "        ax.set_yscale(\"log\")\n",
    "\n",
    "    fig.tight_layout()\n",
    "    fig.suptitle(\n",
    "        f\"Distributions of prediction probabilities for each digit \"\n",
    "        f\"(on evaluation data, n={y_pred_probs.shape[0]})\",\n",
    "        fontsize=20,\n",
    "    )\n",
    "    fig.tight_layout()\n",
    "    fig.show()\n",
    "\n",
    "    return fig\n",
    "\n",
    "\n",
    "fig = plot_per_digit_probabilities(y_pred_probs_test)"
   ]
  },
  {
   "cell_type": "markdown",
   "id": "f7604948",
   "metadata": {
    "papermill": {
     "duration": 0.005151,
     "end_time": "2022-12-17T06:38:23.260823",
     "exception": false,
     "start_time": "2022-12-17T06:38:23.255672",
     "status": "completed"
    },
    "tags": []
   },
   "source": [
    "From the above distributions we see that most digits have clear separation between\n",
    "high and lower probabilities. Morover, in each case there is roughly an order of\n",
    "magnitude more of digits with low probabilities. This is compatible with digits\n",
    "being roughly evenly distributed in the data."
   ]
  },
  {
   "cell_type": "code",
   "execution_count": 13,
   "id": "e10a630a",
   "metadata": {
    "execution": {
     "iopub.execute_input": "2022-12-17T06:38:23.275820Z",
     "iopub.status.busy": "2022-12-17T06:38:23.274980Z",
     "iopub.status.idle": "2022-12-17T06:38:23.755357Z",
     "shell.execute_reply": "2022-12-17T06:38:23.754661Z"
    },
    "papermill": {
     "duration": 0.491183,
     "end_time": "2022-12-17T06:38:23.757398",
     "exception": false,
     "start_time": "2022-12-17T06:38:23.266215",
     "status": "completed"
    },
    "tags": []
   },
   "outputs": [],
   "source": [
    "logger.log_figure(\"per-digit-probabilities.png\", fig)"
   ]
  },
  {
   "cell_type": "markdown",
   "id": "5107ea78",
   "metadata": {
    "papermill": {
     "duration": 0.005305,
     "end_time": "2022-12-17T06:38:23.768653",
     "exception": false,
     "start_time": "2022-12-17T06:38:23.763348",
     "status": "completed"
    },
    "tags": []
   },
   "source": [
    "### Plot ROC curves for individual one-vs-rest classifiers"
   ]
  },
  {
   "cell_type": "code",
   "execution_count": 14,
   "id": "bfa4a09a",
   "metadata": {
    "execution": {
     "iopub.execute_input": "2022-12-17T06:38:23.785474Z",
     "iopub.status.busy": "2022-12-17T06:38:23.784967Z",
     "iopub.status.idle": "2022-12-17T06:38:24.129775Z",
     "shell.execute_reply": "2022-12-17T06:38:24.129045Z"
    },
    "papermill": {
     "duration": 0.357425,
     "end_time": "2022-12-17T06:38:24.131963",
     "exception": false,
     "start_time": "2022-12-17T06:38:23.774538",
     "status": "completed"
    },
    "tags": []
   },
   "outputs": [],
   "source": [
    "from sklearn import metrics"
   ]
  },
  {
   "cell_type": "code",
   "execution_count": 15,
   "id": "aa2c6971",
   "metadata": {
    "execution": {
     "iopub.execute_input": "2022-12-17T06:38:24.145538Z",
     "iopub.status.busy": "2022-12-17T06:38:24.145046Z",
     "iopub.status.idle": "2022-12-17T06:38:25.275486Z",
     "shell.execute_reply": "2022-12-17T06:38:25.274790Z"
    },
    "papermill": {
     "duration": 1.138926,
     "end_time": "2022-12-17T06:38:25.277414",
     "exception": false,
     "start_time": "2022-12-17T06:38:24.138488",
     "status": "completed"
    },
    "tags": []
   },
   "outputs": [
    {
     "data": {
      "image/png": "[encoded data removed]",
      "text/plain": [
       "<Figure size 1600x800 with 10 Axes>"
      ]
     },
     "metadata": {},
     "output_type": "display_data"
    }
   ],
   "source": [
    "def plot_roc_curves(y, y_pred_probs):\n",
    "    # based on example code\n",
    "    # https://scikit-learn.org/stable/auto_examples/model_selection/plot_roc.html\n",
    "\n",
    "    fig, axs = plt.subplots(nrows=2, ncols=5, figsize=(16, 8))\n",
    "\n",
    "    roc_auc_dict = {}\n",
    "\n",
    "    for (r, c), digit, ax in zip(\n",
    "        it.product(range(2), range(5)), range(10), axs.reshape(-1)\n",
    "    ):\n",
    "        fpr, tpr, _ = metrics.roc_curve(y == digit, y_pred_probs[:, digit])\n",
    "        auc = metrics.auc(fpr, tpr)\n",
    "        roc_auc_dict[str(digit)] = auc\n",
    "\n",
    "        ax.plot(fpr, tpr, label=f\"ROC AUC={round(auc, 3)}\")\n",
    "\n",
    "        ax.set_title(f\"\\nDigit {digit}\", fontsize=16)\n",
    "        if r == 1:\n",
    "            ax.set_xlabel(\"FPR\", fontsize=18)\n",
    "\n",
    "        if c == 0:\n",
    "            ax.set_ylabel(\"TPR\", fontsize=18)\n",
    "\n",
    "        ax.set_xlim([-0.05, 1.05])\n",
    "        ax.set_ylim([-0.05, 1.05])\n",
    "        ax.legend(loc=\"lower right\", frameon=False, fontsize=14)\n",
    "\n",
    "    fig.tight_layout()\n",
    "    fig.suptitle(\n",
    "        f\"ROC plots for one-vs-rest performances \"\n",
    "        f\"(on evaluation data, n={y_pred_probs_test.shape[1]}\",\n",
    "        fontsize=22,\n",
    "    )\n",
    "    fig.tight_layout()\n",
    "    fig.show()\n",
    "\n",
    "    return roc_auc_dict, fig\n",
    "\n",
    "\n",
    "roc_auc_dict, fig = plot_roc_curves(y_test, y_pred_probs_test)"
   ]
  },
  {
   "cell_type": "code",
   "execution_count": 16,
   "id": "7a8c8698",
   "metadata": {
    "execution": {
     "iopub.execute_input": "2022-12-17T06:38:25.292966Z",
     "iopub.status.busy": "2022-12-17T06:38:25.292535Z",
     "iopub.status.idle": "2022-12-17T06:38:25.555724Z",
     "shell.execute_reply": "2022-12-17T06:38:25.554934Z"
    },
    "papermill": {
     "duration": 0.272634,
     "end_time": "2022-12-17T06:38:25.557587",
     "exception": false,
     "start_time": "2022-12-17T06:38:25.284953",
     "status": "completed"
    },
    "tags": []
   },
   "outputs": [],
   "source": [
    "logger.log_figure(\"per-digit-roc-curves.png\", fig)"
   ]
  },
  {
   "cell_type": "code",
   "execution_count": 17,
   "id": "7c768ac2",
   "metadata": {
    "execution": {
     "iopub.execute_input": "2022-12-17T06:38:25.572154Z",
     "iopub.status.busy": "2022-12-17T06:38:25.571859Z",
     "iopub.status.idle": "2022-12-17T06:38:25.577745Z",
     "shell.execute_reply": "2022-12-17T06:38:25.576067Z"
    },
    "papermill": {
     "duration": 0.015049,
     "end_time": "2022-12-17T06:38:25.579961",
     "exception": false,
     "start_time": "2022-12-17T06:38:25.564912",
     "status": "completed"
    },
    "tags": []
   },
   "outputs": [
    {
     "data": {
      "text/plain": [
       "{'0': 1.0,\n",
       " '1': 0.9988003748828491,\n",
       " '2': 1.0,\n",
       " '3': 0.9998125585754452,\n",
       " '4': 0.9995046486816034,\n",
       " '5': 0.9993252108716026,\n",
       " '6': 0.999961896052431,\n",
       " '7': 0.9998856881572931,\n",
       " '8': 0.992827868852459,\n",
       " '9': 0.9994284407864655}"
      ]
     },
     "execution_count": 17,
     "metadata": {},
     "output_type": "execute_result"
    }
   ],
   "source": [
    "roc_auc_dict"
   ]
  },
  {
   "cell_type": "code",
   "execution_count": 18,
   "id": "19a14d92",
   "metadata": {
    "execution": {
     "iopub.execute_input": "2022-12-17T06:38:25.598402Z",
     "iopub.status.busy": "2022-12-17T06:38:25.598031Z",
     "iopub.status.idle": "2022-12-17T06:38:25.603007Z",
     "shell.execute_reply": "2022-12-17T06:38:25.602244Z"
    },
    "papermill": {
     "duration": 0.016072,
     "end_time": "2022-12-17T06:38:25.606091",
     "exception": false,
     "start_time": "2022-12-17T06:38:25.590019",
     "status": "completed"
    },
    "tags": []
   },
   "outputs": [
    {
     "name": "stdout",
     "output_type": "stream",
     "text": [
      " - Logging roc_auc_per_digit (json) : {'0': 1.0, '1': 0.9988003748828491, '2': 1.0, '3': 0.9998125585754452, '4': 0.9995046486816034, '5': 0.9993252108716026, '6': 0.999961896052431, '7': 0.9998856881572931, '8': 0.992827868852459, '9': 0.9994284407864655}\n"
     ]
    }
   ],
   "source": [
    "logger.log_value(\"roc_auc_per_digit\", roc_auc_dict)"
   ]
  },
  {
   "cell_type": "markdown",
   "id": "42b90159",
   "metadata": {
    "papermill": {
     "duration": 0.006305,
     "end_time": "2022-12-17T06:38:25.620081",
     "exception": false,
     "start_time": "2022-12-17T06:38:25.613776",
     "status": "completed"
    },
    "tags": []
   },
   "source": [
    "### Compute and log mean ROC AUC score averaged over all digits"
   ]
  },
  {
   "cell_type": "code",
   "execution_count": 19,
   "id": "3a36c1dd",
   "metadata": {
    "execution": {
     "iopub.execute_input": "2022-12-17T06:38:25.650519Z",
     "iopub.status.busy": "2022-12-17T06:38:25.650231Z",
     "iopub.status.idle": "2022-12-17T06:38:25.664107Z",
     "shell.execute_reply": "2022-12-17T06:38:25.663348Z"
    },
    "papermill": {
     "duration": 0.038365,
     "end_time": "2022-12-17T06:38:25.665687",
     "exception": false,
     "start_time": "2022-12-17T06:38:25.627322",
     "status": "completed"
    },
    "tags": []
   },
   "outputs": [
    {
     "name": "stdout",
     "output_type": "stream",
     "text": [
      " - Logging roc_auc_class_mean (float) : 0.9989546686860148\n"
     ]
    }
   ],
   "source": [
    "roc_auc_macro = np.mean(list(roc_auc_dict.values()))\n",
    "\n",
    "logger.log_float(\"roc_auc_class_mean\", roc_auc_macro)\n",
    "\n",
    "# assert that the same value can be computed directly using sklearn\n",
    "assert roc_auc_macro == metrics.roc_auc_score(\n",
    "    y_test, y_pred_probs_test, average=\"macro\", multi_class=\"ovr\"\n",
    ")"
   ]
  },
  {
   "cell_type": "code",
   "execution_count": 20,
   "id": "866b86a7",
   "metadata": {
    "execution": {
     "iopub.execute_input": "2022-12-17T06:38:25.679884Z",
     "iopub.status.busy": "2022-12-17T06:38:25.679631Z",
     "iopub.status.idle": "2022-12-17T06:38:25.683506Z",
     "shell.execute_reply": "2022-12-17T06:38:25.682818Z"
    },
    "lines_to_next_cell": 0,
    "papermill": {
     "duration": 0.012766,
     "end_time": "2022-12-17T06:38:25.685267",
     "exception": false,
     "start_time": "2022-12-17T06:38:25.672501",
     "status": "completed"
    },
    "tags": []
   },
   "outputs": [],
   "source": [
    "# ---"
   ]
  },
  {
   "cell_type": "code",
   "execution_count": null,
   "id": "afd691ed",
   "metadata": {
    "papermill": {
     "duration": 0.006178,
     "end_time": "2022-12-17T06:38:25.697798",
     "exception": false,
     "start_time": "2022-12-17T06:38:25.691620",
     "status": "completed"
    },
    "tags": []
   },
   "outputs": [],
   "source": []
  }
 ],
 "metadata": {
  "jupytext": {
   "cell_metadata_filter": "tags,-all",
   "main_language": "python",
   "notebook_metadata_filter": "-all"
  },
  "language_info": {
   "codemirror_mode": {
    "name": "ipython",
    "version": 3
   },
   "file_extension": ".py",
   "mimetype": "text/x-python",
   "name": "python",
   "nbconvert_exporter": "python",
   "pygments_lexer": "ipython3",
   "version": "3.8.10"
  },
  "papermill": {
   "default_parameters": {},
   "duration": 10.08949,
   "end_time": "2022-12-17T06:38:26.822754",
   "environment_variables": {},
   "exception": null,
   "input_path": "/home/host_user/workspace/mnist-demo-pipeline/mnist-demo-pipeline/notebooks/temp-notebook-r6lp0fbo.ipynb",
   "output_path": "notebooks/benchmark-model.ipynb",
   "parameters": {
    "P": {
     "_opentelemetry_traceparent": "00-2c31cb83729d9fbe447adcd9d2dd0f79-32c24ba92a8e7270-01",
     "pipeline.data_lake_root": "/pipeline-outputs/data-lake",
     "pipeline.github.actor": "matiasdahl",
     "pipeline.github.base_ref": "",
     "pipeline.github.event_name": "schedule",
     "pipeline.github.head_ref": "",
     "pipeline.github.job": "run-tests-pipeline-and-persist-pipeline-outputs",
     "pipeline.github.ref": "refs/heads/development",
     "pipeline.github.ref_name": "development",
     "pipeline.github.ref_type": "branch",
     "pipeline.github.repository": "matiasdahl/dev-mnist-digits-demo-pipeline",
     "pipeline.github.run_id": "3718869532",
     "pipeline.github.runner_name": "Hosted Agent",
     "pipeline.github.sha": "ace0d01011d5e914f1921450dd5a59c11367b38d",
     "pipeline.github.workflow": "Run automated tests, pipeline and deploy results to static reporting site",
     "pipeline.pipeline_run_id": "1c47fc3d-2c7f-44c4-b775-dc67fa98dd80",
     "pipeline.run_environment": "ci",
     "run.retry_nr": "0",
     "task.max_nr_retries": "1",
     "task.notebook": "notebooks/benchmark-model.py",
     "task.nr_train_images": 800,
     "task.num_cpus": 1,
     "task.timeout_s": "None"
    }
   },
   "start_time": "2022-12-17T06:38:16.733264",
   "version": "2.3.3"
  }
 },
 "nbformat": 4,
 "nbformat_minor": 5
}