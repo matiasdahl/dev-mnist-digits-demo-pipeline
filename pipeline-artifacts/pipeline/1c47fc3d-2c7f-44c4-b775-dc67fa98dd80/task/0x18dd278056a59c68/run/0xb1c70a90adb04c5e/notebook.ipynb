{
 "cells": [
  {
   "cell_type": "markdown",
   "id": "3adc4736",
   "metadata": {
    "papermill": {
     "duration": 0.004006,
     "end_time": "2022-12-17T06:38:34.845239",
     "exception": false,
     "start_time": "2022-12-17T06:38:34.841233",
     "status": "completed"
    },
    "tags": []
   },
   "source": [
    "# Summarize model performances\n",
    "\n",
    "This notebooks plots the performances (using averaged ROC AUC scores) for models\n",
    "trained with different training sets."
   ]
  },
  {
   "cell_type": "markdown",
   "id": "ed67c2ea",
   "metadata": {
    "papermill": {
     "duration": 0.002315,
     "end_time": "2022-12-17T06:38:34.850676",
     "exception": false,
     "start_time": "2022-12-17T06:38:34.848361",
     "status": "completed"
    },
    "tags": []
   },
   "source": [
    "### Determine run parameters"
   ]
  },
  {
   "cell_type": "code",
   "execution_count": 1,
   "id": "b50a32a0",
   "metadata": {
    "execution": {
     "iopub.execute_input": "2022-12-17T06:38:34.857615Z",
     "iopub.status.busy": "2022-12-17T06:38:34.856937Z",
     "iopub.status.idle": "2022-12-17T06:38:34.864506Z",
     "shell.execute_reply": "2022-12-17T06:38:34.863303Z"
    },
    "lines_to_next_cell": 0,
    "papermill": {
     "duration": 0.013887,
     "end_time": "2022-12-17T06:38:34.867111",
     "exception": false,
     "start_time": "2022-12-17T06:38:34.853224",
     "status": "completed"
    },
    "tags": []
   },
   "outputs": [],
   "source": [
    "# ----------------- Parameters for interactive development --------------\n",
    "P = {\n",
    "    \"pipeline.run_environment\": \"dev\",\n",
    "}"
   ]
  },
  {
   "cell_type": "code",
   "execution_count": 2,
   "id": "4824406b",
   "metadata": {
    "execution": {
     "iopub.execute_input": "2022-12-17T06:38:34.873675Z",
     "iopub.status.busy": "2022-12-17T06:38:34.873180Z",
     "iopub.status.idle": "2022-12-17T06:38:34.877202Z",
     "shell.execute_reply": "2022-12-17T06:38:34.876566Z"
    },
    "lines_to_next_cell": 0,
    "papermill": {
     "duration": 0.00886,
     "end_time": "2022-12-17T06:38:34.878540",
     "exception": false,
     "start_time": "2022-12-17T06:38:34.869680",
     "status": "completed"
    },
    "tags": [
     "parameters"
    ]
   },
   "outputs": [],
   "source": [
    "# - During automated runs parameters will be injected in the below cell -"
   ]
  },
  {
   "cell_type": "code",
   "execution_count": 3,
   "id": "89607828",
   "metadata": {
    "execution": {
     "iopub.execute_input": "2022-12-17T06:38:34.885533Z",
     "iopub.status.busy": "2022-12-17T06:38:34.884561Z",
     "iopub.status.idle": "2022-12-17T06:38:34.891667Z",
     "shell.execute_reply": "2022-12-17T06:38:34.890751Z"
    },
    "papermill": {
     "duration": 0.012225,
     "end_time": "2022-12-17T06:38:34.893244",
     "exception": false,
     "start_time": "2022-12-17T06:38:34.881019",
     "status": "completed"
    },
    "tags": [
     "injected-parameters"
    ]
   },
   "outputs": [],
   "source": [
    "# Parameters\n",
    "P = {\n",
    "    \"pipeline.data_lake_root\": \"/pipeline-outputs/data-lake\",\n",
    "    \"pipeline.run_environment\": \"ci\",\n",
    "    \"pipeline.pipeline_run_id\": \"1c47fc3d-2c7f-44c4-b775-dc67fa98dd80\",\n",
    "    \"pipeline.github.repository\": \"matiasdahl/dev-mnist-digits-demo-pipeline\",\n",
    "    \"pipeline.github.workflow\": \"Run automated tests, pipeline and deploy results to static reporting site\",\n",
    "    \"pipeline.github.runner_name\": \"Hosted Agent\",\n",
    "    \"pipeline.github.run_id\": \"3718869532\",\n",
    "    \"pipeline.github.actor\": \"matiasdahl\",\n",
    "    \"pipeline.github.job\": \"run-tests-pipeline-and-persist-pipeline-outputs\",\n",
    "    \"pipeline.github.base_ref\": \"\",\n",
    "    \"pipeline.github.head_ref\": \"\",\n",
    "    \"pipeline.github.sha\": \"ace0d01011d5e914f1921450dd5a59c11367b38d\",\n",
    "    \"pipeline.github.ref\": \"refs/heads/development\",\n",
    "    \"pipeline.github.ref_type\": \"branch\",\n",
    "    \"pipeline.github.ref_name\": \"development\",\n",
    "    \"pipeline.github.event_name\": \"schedule\",\n",
    "    \"task.notebook\": \"notebooks/summary.py\",\n",
    "    \"task.max_nr_retries\": \"1\",\n",
    "    \"run.retry_nr\": \"0\",\n",
    "    \"task.timeout_s\": \"None\",\n",
    "    \"task.num_cpus\": 1,\n",
    "    \"_opentelemetry_traceparent\": \"00-2c31cb83729d9fbe447adcd9d2dd0f79-012199dc9baf0dc5-01\",\n",
    "}\n"
   ]
  },
  {
   "cell_type": "code",
   "execution_count": 4,
   "id": "09672f47",
   "metadata": {
    "execution": {
     "iopub.execute_input": "2022-12-17T06:38:34.900945Z",
     "iopub.status.busy": "2022-12-17T06:38:34.900060Z",
     "iopub.status.idle": "2022-12-17T06:38:34.903763Z",
     "shell.execute_reply": "2022-12-17T06:38:34.903197Z"
    },
    "lines_to_next_cell": 0,
    "papermill": {
     "duration": 0.008955,
     "end_time": "2022-12-17T06:38:34.905271",
     "exception": false,
     "start_time": "2022-12-17T06:38:34.896316",
     "status": "completed"
    },
    "tags": []
   },
   "outputs": [],
   "source": [
    "# -----------------------------------------------------------------------"
   ]
  },
  {
   "cell_type": "markdown",
   "id": "60b7f6af",
   "metadata": {
    "papermill": {
     "duration": 0.002475,
     "end_time": "2022-12-17T06:38:34.910572",
     "exception": false,
     "start_time": "2022-12-17T06:38:34.908097",
     "status": "completed"
    },
    "tags": []
   },
   "source": [
    "---"
   ]
  },
  {
   "cell_type": "markdown",
   "id": "bdb13376",
   "metadata": {
    "lines_to_next_cell": 2,
    "papermill": {
     "duration": 0.002487,
     "end_time": "2022-12-17T06:38:34.915618",
     "exception": false,
     "start_time": "2022-12-17T06:38:34.913131",
     "status": "completed"
    },
    "tags": []
   },
   "source": [
    "### Notebook code"
   ]
  },
  {
   "cell_type": "code",
   "execution_count": 5,
   "id": "2abcf817",
   "metadata": {
    "execution": {
     "iopub.execute_input": "2022-12-17T06:38:34.923820Z",
     "iopub.status.busy": "2022-12-17T06:38:34.923310Z",
     "iopub.status.idle": "2022-12-17T06:38:36.072981Z",
     "shell.execute_reply": "2022-12-17T06:38:36.072265Z"
    },
    "papermill": {
     "duration": 1.156016,
     "end_time": "2022-12-17T06:38:36.075828",
     "exception": false,
     "start_time": "2022-12-17T06:38:34.919812",
     "status": "completed"
    },
    "tags": []
   },
   "outputs": [],
   "source": [
    "#\n",
    "import pandas as pd\n",
    "import matplotlib.pyplot as plt\n",
    "\n",
    "#\n",
    "from pynb_dag_runner.tasks.task_opentelemetry_logging import PydarLogger"
   ]
  },
  {
   "cell_type": "code",
   "execution_count": 6,
   "id": "f0815c1b",
   "metadata": {
    "execution": {
     "iopub.execute_input": "2022-12-17T06:38:36.083638Z",
     "iopub.status.busy": "2022-12-17T06:38:36.083008Z",
     "iopub.status.idle": "2022-12-17T06:38:36.235193Z",
     "shell.execute_reply": "2022-12-17T06:38:36.233918Z"
    },
    "papermill": {
     "duration": 0.158102,
     "end_time": "2022-12-17T06:38:36.237368",
     "exception": false,
     "start_time": "2022-12-17T06:38:36.079266",
     "status": "completed"
    },
    "tags": []
   },
   "outputs": [
    {
     "name": "stderr",
     "output_type": "stream",
     "text": [
      "2022-12-17 06:38:36,087\tINFO worker.py:842 -- Connecting to existing Ray cluster at address: 172.17.0.2:6379\n"
     ]
    }
   ],
   "source": [
    "logger = PydarLogger(P=P)"
   ]
  },
  {
   "cell_type": "code",
   "execution_count": 7,
   "id": "0823ff14",
   "metadata": {
    "execution": {
     "iopub.execute_input": "2022-12-17T06:38:36.248743Z",
     "iopub.status.busy": "2022-12-17T06:38:36.246879Z",
     "iopub.status.idle": "2022-12-17T06:38:36.252423Z",
     "shell.execute_reply": "2022-12-17T06:38:36.251880Z"
    },
    "papermill": {
     "duration": 0.012893,
     "end_time": "2022-12-17T06:38:36.254076",
     "exception": false,
     "start_time": "2022-12-17T06:38:36.241183",
     "status": "completed"
    },
    "tags": []
   },
   "outputs": [],
   "source": [
    "from pynb_dag_runner.tasks.task_opentelemetry_logging import (\n",
    "    PydarLogger,\n",
    "    get_logged_values,\n",
    ")\n",
    "from pynb_dag_runner.opentelemetry_helpers import _get_all_spans, Spans"
   ]
  },
  {
   "cell_type": "code",
   "execution_count": 8,
   "id": "7a6b788a",
   "metadata": {
    "execution": {
     "iopub.execute_input": "2022-12-17T06:38:36.261509Z",
     "iopub.status.busy": "2022-12-17T06:38:36.260869Z",
     "iopub.status.idle": "2022-12-17T06:38:36.267704Z",
     "shell.execute_reply": "2022-12-17T06:38:36.267204Z"
    },
    "papermill": {
     "duration": 0.011993,
     "end_time": "2022-12-17T06:38:36.269125",
     "exception": false,
     "start_time": "2022-12-17T06:38:36.257132",
     "status": "completed"
    },
    "tags": []
   },
   "outputs": [],
   "source": [
    "def get_model_benchmarks():\n",
    "    \"\"\"\n",
    "    Query the OpenTelemetry logs for *this pipeline run* and return\n",
    "    all key-values logged from all runs of the benchmark-model.py task\n",
    "\n",
    "    For testing a json file with OpenTelemetry spans (as an array)\n",
    "    can be used as follows:\n",
    "\n",
    "    - Create output directory `mkdir /tmp/spans`\n",
    "    - Run unit tests. This will create pipeline-outputs/opentelemetry-spans.json\n",
    "    - Convert this json-array into jsonl format as follows\n",
    "\n",
    "    jq -c '.[]' /pipeline-outputs/opentelemetry-spans.json > /tmp/spans/data.txt\n",
    "\n",
    "    \"\"\"\n",
    "    spans: Spans = Spans(_get_all_spans())\n",
    "    print(f\"Found {len(spans)} spans\")\n",
    "\n",
    "    benchmark_spans = (\n",
    "        spans\n",
    "        # -\n",
    "        .filter([\"name\"], \"execute-task\")\n",
    "        # -\n",
    "        .filter([\"attributes\", \"task.notebook\"], \"notebooks/benchmark-model.py\")\n",
    "    )\n",
    "\n",
    "    result = []\n",
    "    for s in benchmark_spans:\n",
    "        result.append(\n",
    "            {\n",
    "                \"span_id\": s[\"context\"][\"span_id\"],\n",
    "                \"nr_train_images\": s[\"attributes\"][\"task.nr_train_images\"],\n",
    "                \"data\": get_logged_values(spans.bound_under(s)),\n",
    "            }\n",
    "        )\n",
    "\n",
    "    return result\n",
    "\n",
    "\n",
    "def adjust_pandas(df):\n",
    "    def column_renamer(col_name: str) -> str:\n",
    "        return (\n",
    "            col_name\n",
    "            # -- 'data.roc_auc_per_digit.4' -> 'roc_auc.4'\n",
    "            .replace(\"data.roc_auc_per_digit\", \"roc_auc\")\n",
    "            # -- 'data.roc_auc_class_mean' -> 'roc_auc_mean'\n",
    "            .replace(\"data.roc_auc_class_mean\", \"roc_auc_mean\")\n",
    "        )\n",
    "\n",
    "    return df.rename(column_renamer, axis=\"columns\").sort_values(by=\"nr_train_images\")"
   ]
  },
  {
   "cell_type": "code",
   "execution_count": 9,
   "id": "11b71a49",
   "metadata": {
    "execution": {
     "iopub.execute_input": "2022-12-17T06:38:36.276052Z",
     "iopub.status.busy": "2022-12-17T06:38:36.275550Z",
     "iopub.status.idle": "2022-12-17T06:38:36.322380Z",
     "shell.execute_reply": "2022-12-17T06:38:36.321642Z"
    },
    "papermill": {
     "duration": 0.052194,
     "end_time": "2022-12-17T06:38:36.323999",
     "exception": false,
     "start_time": "2022-12-17T06:38:36.271805",
     "status": "completed"
    },
    "tags": []
   },
   "outputs": [
    {
     "name": "stdout",
     "output_type": "stream",
     "text": [
      "Found 420 spans\n"
     ]
    }
   ],
   "source": [
    "df_data = adjust_pandas(pd.json_normalize(get_model_benchmarks()))"
   ]
  },
  {
   "cell_type": "code",
   "execution_count": 10,
   "id": "c1a6277b",
   "metadata": {
    "execution": {
     "iopub.execute_input": "2022-12-17T06:38:36.332267Z",
     "iopub.status.busy": "2022-12-17T06:38:36.331832Z",
     "iopub.status.idle": "2022-12-17T06:38:36.357217Z",
     "shell.execute_reply": "2022-12-17T06:38:36.356647Z"
    },
    "papermill": {
     "duration": 0.031358,
     "end_time": "2022-12-17T06:38:36.358670",
     "exception": false,
     "start_time": "2022-12-17T06:38:36.327312",
     "status": "completed"
    },
    "tags": []
   },
   "outputs": [
    {
     "data": {
      "text/html": [
       "<div>\n",
       "<style scoped>\n",
       "    .dataframe tbody tr th:only-of-type {\n",
       "        vertical-align: middle;\n",
       "    }\n",
       "\n",
       "    .dataframe tbody tr th {\n",
       "        vertical-align: top;\n",
       "    }\n",
       "\n",
       "    .dataframe thead th {\n",
       "        text-align: right;\n",
       "    }\n",
       "</style>\n",
       "<table border=\"1\" class=\"dataframe\">\n",
       "  <thead>\n",
       "    <tr style=\"text-align: right;\">\n",
       "      <th></th>\n",
       "      <th>span_id</th>\n",
       "      <th>nr_train_images</th>\n",
       "      <th>roc_auc_mean</th>\n",
       "      <th>roc_auc.0</th>\n",
       "      <th>roc_auc.1</th>\n",
       "      <th>roc_auc.2</th>\n",
       "      <th>roc_auc.3</th>\n",
       "      <th>roc_auc.4</th>\n",
       "      <th>roc_auc.5</th>\n",
       "      <th>roc_auc.6</th>\n",
       "      <th>roc_auc.7</th>\n",
       "      <th>roc_auc.8</th>\n",
       "      <th>roc_auc.9</th>\n",
       "    </tr>\n",
       "  </thead>\n",
       "  <tbody>\n",
       "    <tr>\n",
       "      <th>3</th>\n",
       "      <td>0xb3ac266033616863</td>\n",
       "      <td>600</td>\n",
       "      <td>0.9990</td>\n",
       "      <td>1.0</td>\n",
       "      <td>0.9992</td>\n",
       "      <td>1.0</td>\n",
       "      <td>0.9998</td>\n",
       "      <td>0.9991</td>\n",
       "      <td>0.9989</td>\n",
       "      <td>0.9999</td>\n",
       "      <td>0.9998</td>\n",
       "      <td>0.9947</td>\n",
       "      <td>0.9989</td>\n",
       "    </tr>\n",
       "    <tr>\n",
       "      <th>0</th>\n",
       "      <td>0x9cd7e738e54c10d9</td>\n",
       "      <td>800</td>\n",
       "      <td>0.9990</td>\n",
       "      <td>1.0</td>\n",
       "      <td>0.9988</td>\n",
       "      <td>1.0</td>\n",
       "      <td>0.9998</td>\n",
       "      <td>0.9995</td>\n",
       "      <td>0.9993</td>\n",
       "      <td>1.0000</td>\n",
       "      <td>0.9999</td>\n",
       "      <td>0.9928</td>\n",
       "      <td>0.9994</td>\n",
       "    </tr>\n",
       "    <tr>\n",
       "      <th>2</th>\n",
       "      <td>0x160aa4576436eb8e</td>\n",
       "      <td>1000</td>\n",
       "      <td>0.9992</td>\n",
       "      <td>1.0</td>\n",
       "      <td>0.9989</td>\n",
       "      <td>1.0</td>\n",
       "      <td>0.9999</td>\n",
       "      <td>0.9997</td>\n",
       "      <td>0.9994</td>\n",
       "      <td>0.9999</td>\n",
       "      <td>0.9998</td>\n",
       "      <td>0.9952</td>\n",
       "      <td>0.9995</td>\n",
       "    </tr>\n",
       "    <tr>\n",
       "      <th>1</th>\n",
       "      <td>0xf51003e3234fbf4d</td>\n",
       "      <td>1200</td>\n",
       "      <td>0.9994</td>\n",
       "      <td>1.0</td>\n",
       "      <td>0.9991</td>\n",
       "      <td>1.0</td>\n",
       "      <td>0.9999</td>\n",
       "      <td>0.9998</td>\n",
       "      <td>0.9997</td>\n",
       "      <td>0.9999</td>\n",
       "      <td>0.9998</td>\n",
       "      <td>0.9960</td>\n",
       "      <td>0.9998</td>\n",
       "    </tr>\n",
       "  </tbody>\n",
       "</table>\n",
       "</div>"
      ],
      "text/plain": [
       "              span_id  nr_train_images  roc_auc_mean  roc_auc.0  roc_auc.1  \\\n",
       "3  0xb3ac266033616863              600        0.9990        1.0     0.9992   \n",
       "0  0x9cd7e738e54c10d9              800        0.9990        1.0     0.9988   \n",
       "2  0x160aa4576436eb8e             1000        0.9992        1.0     0.9989   \n",
       "1  0xf51003e3234fbf4d             1200        0.9994        1.0     0.9991   \n",
       "\n",
       "   roc_auc.2  roc_auc.3  roc_auc.4  roc_auc.5  roc_auc.6  roc_auc.7  \\\n",
       "3        1.0     0.9998     0.9991     0.9989     0.9999     0.9998   \n",
       "0        1.0     0.9998     0.9995     0.9993     1.0000     0.9999   \n",
       "2        1.0     0.9999     0.9997     0.9994     0.9999     0.9998   \n",
       "1        1.0     0.9999     0.9998     0.9997     0.9999     0.9998   \n",
       "\n",
       "   roc_auc.8  roc_auc.9  \n",
       "3     0.9947     0.9989  \n",
       "0     0.9928     0.9994  \n",
       "2     0.9952     0.9995  \n",
       "1     0.9960     0.9998  "
      ]
     },
     "execution_count": 10,
     "metadata": {},
     "output_type": "execute_result"
    }
   ],
   "source": [
    "df_data.round(4)"
   ]
  },
  {
   "cell_type": "code",
   "execution_count": 11,
   "id": "a7cd2e17",
   "metadata": {
    "execution": {
     "iopub.execute_input": "2022-12-17T06:38:36.367689Z",
     "iopub.status.busy": "2022-12-17T06:38:36.367033Z",
     "iopub.status.idle": "2022-12-17T06:38:36.546052Z",
     "shell.execute_reply": "2022-12-17T06:38:36.545390Z"
    },
    "papermill": {
     "duration": 0.185358,
     "end_time": "2022-12-17T06:38:36.547909",
     "exception": false,
     "start_time": "2022-12-17T06:38:36.362551",
     "status": "completed"
    },
    "tags": []
   },
   "outputs": [
    {
     "data": {
      "image/png": "[encoded data removed]",
      "text/plain": [
       "<Figure size 1600x400 with 1 Axes>"
      ]
     },
     "metadata": {},
     "output_type": "display_data"
    }
   ],
   "source": [
    "def plot_classifier_performance_summary(df_data):\n",
    "    fig, ax = plt.subplots(nrows=1, ncols=1, figsize=(16, 4), sharex=True)\n",
    "\n",
    "    #\n",
    "    ax.plot(\n",
    "        df_data[\"nr_train_images\"], df_data[\"roc_auc_mean\"], marker=\"o\", linestyle=\"--\"\n",
    "    )\n",
    "    ax.set_title(\n",
    "        f\"ROC AUC digit classifier performance on evaluation digits\", fontsize=17\n",
    "    )\n",
    "    ax.set_xlabel(\"Total number of digits in training set\", fontsize=14)\n",
    "    ax.set_ylabel(\"Mean ROC AUC\", fontsize=14)\n",
    "\n",
    "    fig.tight_layout()\n",
    "    fig.show()\n",
    "\n",
    "    return fig\n",
    "\n",
    "\n",
    "fig = plot_classifier_performance_summary(df_data)"
   ]
  },
  {
   "cell_type": "code",
   "execution_count": 12,
   "id": "58da64c4",
   "metadata": {
    "execution": {
     "iopub.execute_input": "2022-12-17T06:38:36.557208Z",
     "iopub.status.busy": "2022-12-17T06:38:36.556834Z",
     "iopub.status.idle": "2022-12-17T06:38:36.634550Z",
     "shell.execute_reply": "2022-12-17T06:38:36.633851Z"
    },
    "papermill": {
     "duration": 0.084647,
     "end_time": "2022-12-17T06:38:36.636750",
     "exception": false,
     "start_time": "2022-12-17T06:38:36.552103",
     "status": "completed"
    },
    "tags": []
   },
   "outputs": [],
   "source": [
    "logger.log_figure(\"auc-roc-model-performances.png\", fig)"
   ]
  },
  {
   "cell_type": "code",
   "execution_count": 13,
   "id": "ef86bc2b",
   "metadata": {
    "execution": {
     "iopub.execute_input": "2022-12-17T06:38:36.648283Z",
     "iopub.status.busy": "2022-12-17T06:38:36.647808Z",
     "iopub.status.idle": "2022-12-17T06:38:36.651193Z",
     "shell.execute_reply": "2022-12-17T06:38:36.650390Z"
    },
    "papermill": {
     "duration": 0.011328,
     "end_time": "2022-12-17T06:38:36.653333",
     "exception": false,
     "start_time": "2022-12-17T06:38:36.642005",
     "status": "completed"
    },
    "tags": []
   },
   "outputs": [],
   "source": [
    "###"
   ]
  },
  {
   "cell_type": "code",
   "execution_count": null,
   "id": "e497a1ad",
   "metadata": {
    "papermill": {
     "duration": 0.003864,
     "end_time": "2022-12-17T06:38:36.661155",
     "exception": false,
     "start_time": "2022-12-17T06:38:36.657291",
     "status": "completed"
    },
    "tags": []
   },
   "outputs": [],
   "source": []
  }
 ],
 "metadata": {
  "jupytext": {
   "cell_metadata_filter": "tags,-all",
   "main_language": "python",
   "notebook_metadata_filter": "-all"
  },
  "language_info": {
   "codemirror_mode": {
    "name": "ipython",
    "version": 3
   },
   "file_extension": ".py",
   "mimetype": "text/x-python",
   "name": "python",
   "nbconvert_exporter": "python",
   "pygments_lexer": "ipython3",
   "version": "3.8.10"
  },
  "papermill": {
   "default_parameters": {},
   "duration": 4.122611,
   "end_time": "2022-12-17T06:38:37.584636",
   "environment_variables": {},
   "exception": null,
   "input_path": "/home/host_user/workspace/mnist-demo-pipeline/mnist-demo-pipeline/notebooks/temp-notebook-v0lnsf64.ipynb",
   "output_path": "notebooks/summary.ipynb",
   "parameters": {
    "P": {
     "_opentelemetry_traceparent": "00-2c31cb83729d9fbe447adcd9d2dd0f79-012199dc9baf0dc5-01",
     "pipeline.data_lake_root": "/pipeline-outputs/data-lake",
     "pipeline.github.actor": "matiasdahl",
     "pipeline.github.base_ref": "",
     "pipeline.github.event_name": "schedule",
     "pipeline.github.head_ref": "",
     "pipeline.github.job": "run-tests-pipeline-and-persist-pipeline-outputs",
     "pipeline.github.ref": "refs/heads/development",
     "pipeline.github.ref_name": "development",
     "pipeline.github.ref_type": "branch",
     "pipeline.github.repository": "matiasdahl/dev-mnist-digits-demo-pipeline",
     "pipeline.github.run_id": "3718869532",
     "pipeline.github.runner_name": "Hosted Agent",
     "pipeline.github.sha": "ace0d01011d5e914f1921450dd5a59c11367b38d",
     "pipeline.github.workflow": "Run automated tests, pipeline and deploy results to static reporting site",
     "pipeline.pipeline_run_id": "1c47fc3d-2c7f-44c4-b775-dc67fa98dd80",
     "pipeline.run_environment": "ci",
     "run.retry_nr": "0",
     "task.max_nr_retries": "1",
     "task.notebook": "notebooks/summary.py",
     "task.num_cpus": 1,
     "task.timeout_s": "None"
    }
   },
   "start_time": "2022-12-17T06:38:33.462025",
   "version": "2.3.3"
  }
 },
 "nbformat": 4,
 "nbformat_minor": 5
}