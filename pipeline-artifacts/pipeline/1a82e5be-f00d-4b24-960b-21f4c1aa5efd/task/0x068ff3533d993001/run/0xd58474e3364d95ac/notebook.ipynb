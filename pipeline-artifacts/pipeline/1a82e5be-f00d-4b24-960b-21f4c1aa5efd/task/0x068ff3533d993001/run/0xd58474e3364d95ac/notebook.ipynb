{
 "cells": [
  {
   "cell_type": "markdown",
   "id": "458db3a6",
   "metadata": {
    "papermill": {
     "duration": 0.007045,
     "end_time": "2022-12-02T06:43:47.572075",
     "exception": false,
     "start_time": "2022-12-02T06:43:47.565030",
     "status": "completed"
    },
    "tags": []
   },
   "source": [
    "# Benchmark model\n",
    "\n",
    "The purpose of this notebook is to benchmark persisted onnx-model (trained in the\n",
    "previous step) against evaluation set."
   ]
  },
  {
   "cell_type": "markdown",
   "id": "d2724981",
   "metadata": {
    "papermill": {
     "duration": 0.005063,
     "end_time": "2022-12-02T06:43:47.588065",
     "exception": false,
     "start_time": "2022-12-02T06:43:47.583002",
     "status": "completed"
    },
    "tags": []
   },
   "source": [
    "### Determine run parameters"
   ]
  },
  {
   "cell_type": "code",
   "execution_count": 1,
   "id": "46bef859",
   "metadata": {
    "execution": {
     "iopub.execute_input": "2022-12-02T06:43:47.598886Z",
     "iopub.status.busy": "2022-12-02T06:43:47.598525Z",
     "iopub.status.idle": "2022-12-02T06:43:47.608294Z",
     "shell.execute_reply": "2022-12-02T06:43:47.607628Z"
    },
    "lines_to_next_cell": 0,
    "papermill": {
     "duration": 0.017518,
     "end_time": "2022-12-02T06:43:47.610503",
     "exception": false,
     "start_time": "2022-12-02T06:43:47.592985",
     "status": "completed"
    },
    "tags": []
   },
   "outputs": [],
   "source": [
    "# ----------------- Parameters for interactive development --------------\n",
    "P = {\n",
    "    \"pipeline.data_lake_root\": \"/pipeline-outputs/data-lake\",\n",
    "    \"task.nr_train_images\": 600,\n",
    "}"
   ]
  },
  {
   "cell_type": "code",
   "execution_count": 2,
   "id": "6c89b82e",
   "metadata": {
    "execution": {
     "iopub.execute_input": "2022-12-02T06:43:47.620519Z",
     "iopub.status.busy": "2022-12-02T06:43:47.620233Z",
     "iopub.status.idle": "2022-12-02T06:43:47.623538Z",
     "shell.execute_reply": "2022-12-02T06:43:47.622918Z"
    },
    "lines_to_next_cell": 0,
    "papermill": {
     "duration": 0.011533,
     "end_time": "2022-12-02T06:43:47.626504",
     "exception": false,
     "start_time": "2022-12-02T06:43:47.614971",
     "status": "completed"
    },
    "tags": [
     "parameters"
    ]
   },
   "outputs": [],
   "source": [
    "# - During automated runs parameters will be injected in the below cell -"
   ]
  },
  {
   "cell_type": "code",
   "execution_count": 3,
   "id": "a66e661a",
   "metadata": {
    "execution": {
     "iopub.execute_input": "2022-12-02T06:43:47.636549Z",
     "iopub.status.busy": "2022-12-02T06:43:47.636280Z",
     "iopub.status.idle": "2022-12-02T06:43:47.641367Z",
     "shell.execute_reply": "2022-12-02T06:43:47.640757Z"
    },
    "papermill": {
     "duration": 0.013484,
     "end_time": "2022-12-02T06:43:47.644350",
     "exception": false,
     "start_time": "2022-12-02T06:43:47.630866",
     "status": "completed"
    },
    "tags": [
     "injected-parameters"
    ]
   },
   "outputs": [],
   "source": [
    "# Parameters\n",
    "P = {\n",
    "    \"pipeline.data_lake_root\": \"/pipeline-outputs/data-lake\",\n",
    "    \"pipeline.run_environment\": \"ci\",\n",
    "    \"pipeline.pipeline_run_id\": \"1a82e5be-f00d-4b24-960b-21f4c1aa5efd\",\n",
    "    \"pipeline.github.repository\": \"matiasdahl/dev-mnist-digits-demo-pipeline\",\n",
    "    \"pipeline.github.workflow\": \"Run automated tests, pipeline and deploy results to static reporting site\",\n",
    "    \"pipeline.github.runner_name\": \"Hosted Agent\",\n",
    "    \"pipeline.github.run_id\": \"3599489336\",\n",
    "    \"pipeline.github.actor\": \"matiasdahl\",\n",
    "    \"pipeline.github.job\": \"run-tests-pipeline-and-persist-pipeline-outputs\",\n",
    "    \"pipeline.github.base_ref\": \"\",\n",
    "    \"pipeline.github.head_ref\": \"\",\n",
    "    \"pipeline.github.sha\": \"ace0d01011d5e914f1921450dd5a59c11367b38d\",\n",
    "    \"pipeline.github.ref\": \"refs/heads/development\",\n",
    "    \"pipeline.github.ref_type\": \"branch\",\n",
    "    \"pipeline.github.ref_name\": \"development\",\n",
    "    \"pipeline.github.event_name\": \"schedule\",\n",
    "    \"task.nr_train_images\": 1000,\n",
    "    \"task.notebook\": \"notebooks/benchmark-model.py\",\n",
    "    \"task.max_nr_retries\": \"1\",\n",
    "    \"run.retry_nr\": \"0\",\n",
    "    \"task.timeout_s\": \"None\",\n",
    "    \"task.num_cpus\": 1,\n",
    "    \"_opentelemetry_traceparent\": \"00-a311194a9e76b94214368f783f39d555-4d1ddead6ebc03f2-01\",\n",
    "}\n"
   ]
  },
  {
   "cell_type": "code",
   "execution_count": 4,
   "id": "976a9bf0",
   "metadata": {
    "execution": {
     "iopub.execute_input": "2022-12-02T06:43:47.654550Z",
     "iopub.status.busy": "2022-12-02T06:43:47.654272Z",
     "iopub.status.idle": "2022-12-02T06:43:47.657680Z",
     "shell.execute_reply": "2022-12-02T06:43:47.657068Z"
    },
    "lines_to_next_cell": 0,
    "papermill": {
     "duration": 0.01211,
     "end_time": "2022-12-02T06:43:47.660842",
     "exception": false,
     "start_time": "2022-12-02T06:43:47.648732",
     "status": "completed"
    },
    "tags": []
   },
   "outputs": [],
   "source": [
    "# -----------------------------------------------------------------------"
   ]
  },
  {
   "cell_type": "markdown",
   "id": "aec7bf5f",
   "metadata": {
    "papermill": {
     "duration": 0.004399,
     "end_time": "2022-12-02T06:43:47.669943",
     "exception": false,
     "start_time": "2022-12-02T06:43:47.665544",
     "status": "completed"
    },
    "tags": []
   },
   "source": [
    "---"
   ]
  },
  {
   "cell_type": "markdown",
   "id": "db0a7cf0",
   "metadata": {
    "lines_to_next_cell": 2,
    "papermill": {
     "duration": 0.004383,
     "end_time": "2022-12-02T06:43:47.679034",
     "exception": false,
     "start_time": "2022-12-02T06:43:47.674651",
     "status": "completed"
    },
    "tags": []
   },
   "source": [
    "### Notebook code"
   ]
  },
  {
   "cell_type": "code",
   "execution_count": 5,
   "id": "40b85f3c",
   "metadata": {
    "execution": {
     "iopub.execute_input": "2022-12-02T06:43:47.695598Z",
     "iopub.status.busy": "2022-12-02T06:43:47.695295Z",
     "iopub.status.idle": "2022-12-02T06:43:49.405596Z",
     "shell.execute_reply": "2022-12-02T06:43:49.404480Z"
    },
    "papermill": {
     "duration": 1.719319,
     "end_time": "2022-12-02T06:43:49.408400",
     "exception": false,
     "start_time": "2022-12-02T06:43:47.689081",
     "status": "completed"
    },
    "tags": []
   },
   "outputs": [
    {
     "name": "stderr",
     "output_type": "stream",
     "text": [
      "2022-12-02 06:43:49,223\tINFO worker.py:842 -- Connecting to existing Ray cluster at address: 172.17.0.2:6379\n"
     ]
    }
   ],
   "source": [
    "import itertools as it\n",
    "\n",
    "#\n",
    "import numpy as np\n",
    "import matplotlib.pyplot as plt\n",
    "\n",
    "#\n",
    "from pynb_dag_runner.tasks.task_opentelemetry_logging import PydarLogger\n",
    "\n",
    "#\n",
    "from common.io import datalake_root\n",
    "\n",
    "logger = PydarLogger(P)"
   ]
  },
  {
   "cell_type": "markdown",
   "id": "bfb62b6a",
   "metadata": {
    "papermill": {
     "duration": 0.004756,
     "end_time": "2022-12-02T06:43:49.419102",
     "exception": false,
     "start_time": "2022-12-02T06:43:49.414346",
     "status": "completed"
    },
    "tags": []
   },
   "source": [
    "## Load persisted onnx-model and evaluation data"
   ]
  },
  {
   "cell_type": "code",
   "execution_count": 6,
   "id": "8f032d27",
   "metadata": {
    "execution": {
     "iopub.execute_input": "2022-12-02T06:43:49.436753Z",
     "iopub.status.busy": "2022-12-02T06:43:49.436335Z",
     "iopub.status.idle": "2022-12-02T06:43:49.440425Z",
     "shell.execute_reply": "2022-12-02T06:43:49.439527Z"
    },
    "papermill": {
     "duration": 0.014804,
     "end_time": "2022-12-02T06:43:49.443619",
     "exception": false,
     "start_time": "2022-12-02T06:43:49.428815",
     "status": "completed"
    },
    "tags": []
   },
   "outputs": [],
   "source": [
    "from common.io import read_onnx, get_onnx_inputs, get_onnx_outputs, read_numpy"
   ]
  },
  {
   "cell_type": "code",
   "execution_count": 7,
   "id": "b7a782c3",
   "metadata": {
    "execution": {
     "iopub.execute_input": "2022-12-02T06:43:49.455449Z",
     "iopub.status.busy": "2022-12-02T06:43:49.455162Z",
     "iopub.status.idle": "2022-12-02T06:43:49.471849Z",
     "shell.execute_reply": "2022-12-02T06:43:49.471030Z"
    },
    "lines_to_next_cell": 0,
    "papermill": {
     "duration": 0.024862,
     "end_time": "2022-12-02T06:43:49.473881",
     "exception": false,
     "start_time": "2022-12-02T06:43:49.449019",
     "status": "completed"
    },
    "tags": []
   },
   "outputs": [],
   "source": [
    "onnx_inference_session = read_onnx(\n",
    "    datalake_root(P)\n",
    "    / \"models\"\n",
    "    / f\"nr_train_images={P['task.nr_train_images']}\"\n",
    "    / \"model.onnx\"\n",
    ")"
   ]
  },
  {
   "cell_type": "markdown",
   "id": "c9245779",
   "metadata": {
    "papermill": {
     "duration": 0.00487,
     "end_time": "2022-12-02T06:43:49.485827",
     "exception": false,
     "start_time": "2022-12-02T06:43:49.480957",
     "status": "completed"
    },
    "tags": []
   },
   "source": [
    "### Record structure of inputs and outputs for ONNX model\n",
    "\n",
    "(this should likely be done in training notebook)"
   ]
  },
  {
   "cell_type": "code",
   "execution_count": 8,
   "id": "d8490bd2",
   "metadata": {
    "execution": {
     "iopub.execute_input": "2022-12-02T06:43:49.497672Z",
     "iopub.status.busy": "2022-12-02T06:43:49.497388Z",
     "iopub.status.idle": "2022-12-02T06:43:49.504583Z",
     "shell.execute_reply": "2022-12-02T06:43:49.503935Z"
    },
    "papermill": {
     "duration": 0.017945,
     "end_time": "2022-12-02T06:43:49.508988",
     "exception": false,
     "start_time": "2022-12-02T06:43:49.491043",
     "status": "completed"
    },
    "tags": []
   },
   "outputs": [
    {
     "name": "stdout",
     "output_type": "stream",
     "text": [
      "{\n",
      "  \"inputs\": [\n",
      "    {\n",
      "      \"name\": \"float_input_8x8_image\",\n",
      "      \"shape\": [\n",
      "        null,\n",
      "        64\n",
      "      ],\n",
      "      \"type\": \"tensor(float)\"\n",
      "    }\n",
      "  ],\n",
      "  \"outputs\": [\n",
      "    {\n",
      "      \"name\": \"output_label\",\n",
      "      \"shape\": [\n",
      "        null\n",
      "      ],\n",
      "      \"type\": \"tensor(int64)\"\n",
      "    },\n",
      "    {\n",
      "      \"name\": \"output_probability\",\n",
      "      \"shape\": [],\n",
      "      \"type\": \"seq(map(int64,tensor(float)))\"\n",
      "    }\n",
      "  ]\n",
      "}\n"
     ]
    }
   ],
   "source": [
    "import json\n",
    "\n",
    "onnx_io = json.dumps(\n",
    "    {\n",
    "        \"inputs\": get_onnx_inputs(onnx_inference_session),\n",
    "        \"outputs\": get_onnx_outputs(onnx_inference_session),\n",
    "    },\n",
    "    indent=2,\n",
    ")\n",
    "\n",
    "\n",
    "logger.log_artefact(\"onnx_io_structure.json\", onnx_io)\n",
    "print(onnx_io)"
   ]
  },
  {
   "cell_type": "markdown",
   "id": "7e456996",
   "metadata": {
    "papermill": {
     "duration": 0.004663,
     "end_time": "2022-12-02T06:43:49.519441",
     "exception": false,
     "start_time": "2022-12-02T06:43:49.514778",
     "status": "completed"
    },
    "tags": []
   },
   "source": [
    "### Evaluate model performance on evaluation data set"
   ]
  },
  {
   "cell_type": "code",
   "execution_count": 9,
   "id": "8bbe65bc",
   "metadata": {
    "execution": {
     "iopub.execute_input": "2022-12-02T06:43:49.532998Z",
     "iopub.status.busy": "2022-12-02T06:43:49.532296Z",
     "iopub.status.idle": "2022-12-02T06:43:49.537770Z",
     "shell.execute_reply": "2022-12-02T06:43:49.537077Z"
    },
    "papermill": {
     "duration": 0.015711,
     "end_time": "2022-12-02T06:43:49.541032",
     "exception": false,
     "start_time": "2022-12-02T06:43:49.525321",
     "status": "completed"
    },
    "tags": []
   },
   "outputs": [],
   "source": [
    "# load evaluation data\n",
    "X_test = read_numpy(datalake_root(P) / \"test-data\" / \"digits.numpy\")\n",
    "y_test = read_numpy(datalake_root(P) / \"test-data\" / \"labels.numpy\")"
   ]
  },
  {
   "cell_type": "code",
   "execution_count": 10,
   "id": "ce15c8d4",
   "metadata": {
    "execution": {
     "iopub.execute_input": "2022-12-02T06:43:49.553151Z",
     "iopub.status.busy": "2022-12-02T06:43:49.552845Z",
     "iopub.status.idle": "2022-12-02T06:43:49.630685Z",
     "shell.execute_reply": "2022-12-02T06:43:49.629829Z"
    },
    "papermill": {
     "duration": 0.087057,
     "end_time": "2022-12-02T06:43:49.633430",
     "exception": false,
     "start_time": "2022-12-02T06:43:49.546373",
     "status": "completed"
    },
    "tags": []
   },
   "outputs": [],
   "source": [
    "def get_model_outputs(X, onnx_inference_session):\n",
    "    y_pred_labels, y_pred_map = onnx_inference_session.run(\n",
    "        [\"output_label\", \"output_probability\"],\n",
    "        {\"float_input_8x8_image\": X.astype(np.float32)},\n",
    "    )\n",
    "    y_pred_probs = np.array(\n",
    "        [[probabilities[digit] for digit in range(10)] for probabilities in y_pred_map]\n",
    "    )\n",
    "\n",
    "    assert y_pred_labels.shape == (X.shape[0],)\n",
    "    assert y_pred_probs.shape == (X.shape[0], 10)\n",
    "\n",
    "    return y_pred_labels, y_pred_probs\n",
    "\n",
    "\n",
    "# Note: as shown in the training notebook, the predicted labels and probabilities\n",
    "# computed below need not be compatible.\n",
    "y_pred_labels_test, y_pred_probs_test = get_model_outputs(\n",
    "    X_test, onnx_inference_session\n",
    ")"
   ]
  },
  {
   "cell_type": "markdown",
   "id": "fce37ea3",
   "metadata": {
    "papermill": {
     "duration": 0.006371,
     "end_time": "2022-12-02T06:43:49.645216",
     "exception": false,
     "start_time": "2022-12-02T06:43:49.638845",
     "status": "completed"
    },
    "tags": []
   },
   "source": [
    "### Confusion matrix"
   ]
  },
  {
   "cell_type": "code",
   "execution_count": 11,
   "id": "0442c3f4",
   "metadata": {
    "execution": {
     "iopub.execute_input": "2022-12-02T06:43:49.656933Z",
     "iopub.status.busy": "2022-12-02T06:43:49.656647Z",
     "iopub.status.idle": "2022-12-02T06:43:49.660496Z",
     "shell.execute_reply": "2022-12-02T06:43:49.659552Z"
    },
    "papermill": {
     "duration": 0.014084,
     "end_time": "2022-12-02T06:43:49.664275",
     "exception": false,
     "start_time": "2022-12-02T06:43:49.650191",
     "status": "completed"
    },
    "tags": []
   },
   "outputs": [],
   "source": [
    "# TODO"
   ]
  },
  {
   "cell_type": "markdown",
   "id": "762d81f7",
   "metadata": {
    "papermill": {
     "duration": 0.005504,
     "end_time": "2022-12-02T06:43:49.674973",
     "exception": false,
     "start_time": "2022-12-02T06:43:49.669469",
     "status": "completed"
    },
    "tags": []
   },
   "source": [
    "### Plot predicted probabilities for each classifier over all evaluation digit images"
   ]
  },
  {
   "cell_type": "code",
   "execution_count": 12,
   "id": "5d9c621f",
   "metadata": {
    "execution": {
     "iopub.execute_input": "2022-12-02T06:43:49.687783Z",
     "iopub.status.busy": "2022-12-02T06:43:49.687471Z",
     "iopub.status.idle": "2022-12-02T06:43:53.407344Z",
     "shell.execute_reply": "2022-12-02T06:43:53.406207Z"
    },
    "papermill": {
     "duration": 3.729062,
     "end_time": "2022-12-02T06:43:53.409279",
     "exception": false,
     "start_time": "2022-12-02T06:43:49.680217",
     "status": "completed"
    },
    "tags": []
   },
   "outputs": [
    {
     "data": {
      "image/png": "[encoded data removed]",
      "text/plain": [
       "<Figure size 1600x600 with 10 Axes>"
      ]
     },
     "metadata": {},
     "output_type": "display_data"
    }
   ],
   "source": [
    "def plot_per_digit_probabilities(y_pred_probs):\n",
    "    fig, axs = plt.subplots(nrows=2, ncols=5, figsize=(16, 6))\n",
    "\n",
    "    for (r, c), digit, ax in zip(\n",
    "        it.product(range(2), range(5)), range(10), axs.reshape(-1)\n",
    "    ):\n",
    "        ax.hist(y_pred_probs_test[:, digit], bins=20)\n",
    "\n",
    "        ax.set_title(f\"Digit {digit}\")\n",
    "        if r == 1 and c == 2:\n",
    "            ax.set_xlabel(\"probability\", fontsize=16)\n",
    "\n",
    "        if c == 0:\n",
    "            ax.set_ylabel(\"counts\", fontsize=16)\n",
    "        ax.set_yscale(\"log\")\n",
    "\n",
    "    fig.tight_layout()\n",
    "    fig.suptitle(\n",
    "        f\"Distributions of prediction probabilities for each digit \"\n",
    "        f\"(on evaluation data, n={y_pred_probs.shape[0]})\",\n",
    "        fontsize=20,\n",
    "    )\n",
    "    fig.tight_layout()\n",
    "    fig.show()\n",
    "\n",
    "    return fig\n",
    "\n",
    "\n",
    "fig = plot_per_digit_probabilities(y_pred_probs_test)"
   ]
  },
  {
   "cell_type": "markdown",
   "id": "e9c2e84a",
   "metadata": {
    "papermill": {
     "duration": 0.005732,
     "end_time": "2022-12-02T06:43:53.421777",
     "exception": false,
     "start_time": "2022-12-02T06:43:53.416045",
     "status": "completed"
    },
    "tags": []
   },
   "source": [
    "From the above distributions we see that most digits have clear separation between\n",
    "high and lower probabilities. Morover, in each case there is roughly an order of\n",
    "magnitude more of digits with low probabilities. This is compatible with digits\n",
    "being roughly evenly distributed in the data."
   ]
  },
  {
   "cell_type": "code",
   "execution_count": 13,
   "id": "4d05f575",
   "metadata": {
    "execution": {
     "iopub.execute_input": "2022-12-02T06:43:53.437030Z",
     "iopub.status.busy": "2022-12-02T06:43:53.436075Z",
     "iopub.status.idle": "2022-12-02T06:43:53.991388Z",
     "shell.execute_reply": "2022-12-02T06:43:53.990724Z"
    },
    "papermill": {
     "duration": 0.565262,
     "end_time": "2022-12-02T06:43:53.993594",
     "exception": false,
     "start_time": "2022-12-02T06:43:53.428332",
     "status": "completed"
    },
    "tags": []
   },
   "outputs": [],
   "source": [
    "logger.log_figure(\"per-digit-probabilities.png\", fig)"
   ]
  },
  {
   "cell_type": "markdown",
   "id": "89a9d4e0",
   "metadata": {
    "papermill": {
     "duration": 0.00623,
     "end_time": "2022-12-02T06:43:54.006972",
     "exception": false,
     "start_time": "2022-12-02T06:43:54.000742",
     "status": "completed"
    },
    "tags": []
   },
   "source": [
    "### Plot ROC curves for individual one-vs-rest classifiers"
   ]
  },
  {
   "cell_type": "code",
   "execution_count": 14,
   "id": "d0cd7416",
   "metadata": {
    "execution": {
     "iopub.execute_input": "2022-12-02T06:43:54.021295Z",
     "iopub.status.busy": "2022-12-02T06:43:54.020985Z",
     "iopub.status.idle": "2022-12-02T06:43:54.505252Z",
     "shell.execute_reply": "2022-12-02T06:43:54.504298Z"
    },
    "papermill": {
     "duration": 0.494127,
     "end_time": "2022-12-02T06:43:54.507136",
     "exception": false,
     "start_time": "2022-12-02T06:43:54.013009",
     "status": "completed"
    },
    "tags": []
   },
   "outputs": [],
   "source": [
    "from sklearn import metrics"
   ]
  },
  {
   "cell_type": "code",
   "execution_count": 15,
   "id": "26b59aa4",
   "metadata": {
    "execution": {
     "iopub.execute_input": "2022-12-02T06:43:54.521711Z",
     "iopub.status.busy": "2022-12-02T06:43:54.521146Z",
     "iopub.status.idle": "2022-12-02T06:43:55.841486Z",
     "shell.execute_reply": "2022-12-02T06:43:55.840156Z"
    },
    "papermill": {
     "duration": 1.330008,
     "end_time": "2022-12-02T06:43:55.843700",
     "exception": false,
     "start_time": "2022-12-02T06:43:54.513692",
     "status": "completed"
    },
    "tags": []
   },
   "outputs": [
    {
     "data": {
      "image/png": "[encoded data removed]",
      "text/plain": [
       "<Figure size 1600x800 with 10 Axes>"
      ]
     },
     "metadata": {},
     "output_type": "display_data"
    }
   ],
   "source": [
    "def plot_roc_curves(y, y_pred_probs):\n",
    "    # based on example code\n",
    "    # https://scikit-learn.org/stable/auto_examples/model_selection/plot_roc.html\n",
    "\n",
    "    fig, axs = plt.subplots(nrows=2, ncols=5, figsize=(16, 8))\n",
    "\n",
    "    roc_auc_dict = {}\n",
    "\n",
    "    for (r, c), digit, ax in zip(\n",
    "        it.product(range(2), range(5)), range(10), axs.reshape(-1)\n",
    "    ):\n",
    "        fpr, tpr, _ = metrics.roc_curve(y == digit, y_pred_probs[:, digit])\n",
    "        auc = metrics.auc(fpr, tpr)\n",
    "        roc_auc_dict[str(digit)] = auc\n",
    "\n",
    "        ax.plot(fpr, tpr, label=f\"ROC AUC={round(auc, 3)}\")\n",
    "\n",
    "        ax.set_title(f\"\\nDigit {digit}\", fontsize=16)\n",
    "        if r == 1:\n",
    "            ax.set_xlabel(\"FPR\", fontsize=18)\n",
    "\n",
    "        if c == 0:\n",
    "            ax.set_ylabel(\"TPR\", fontsize=18)\n",
    "\n",
    "        ax.set_xlim([-0.05, 1.05])\n",
    "        ax.set_ylim([-0.05, 1.05])\n",
    "        ax.legend(loc=\"lower right\", frameon=False, fontsize=14)\n",
    "\n",
    "    fig.tight_layout()\n",
    "    fig.suptitle(\n",
    "        f\"ROC plots for one-vs-rest performances \"\n",
    "        f\"(on evaluation data, n={y_pred_probs_test.shape[1]}\",\n",
    "        fontsize=22,\n",
    "    )\n",
    "    fig.tight_layout()\n",
    "    fig.show()\n",
    "\n",
    "    return roc_auc_dict, fig\n",
    "\n",
    "\n",
    "roc_auc_dict, fig = plot_roc_curves(y_test, y_pred_probs_test)"
   ]
  },
  {
   "cell_type": "code",
   "execution_count": 16,
   "id": "a8adc521",
   "metadata": {
    "execution": {
     "iopub.execute_input": "2022-12-02T06:43:55.860175Z",
     "iopub.status.busy": "2022-12-02T06:43:55.859846Z",
     "iopub.status.idle": "2022-12-02T06:43:56.189968Z",
     "shell.execute_reply": "2022-12-02T06:43:56.189097Z"
    },
    "papermill": {
     "duration": 0.340437,
     "end_time": "2022-12-02T06:43:56.192162",
     "exception": false,
     "start_time": "2022-12-02T06:43:55.851725",
     "status": "completed"
    },
    "tags": []
   },
   "outputs": [],
   "source": [
    "logger.log_figure(\"per-digit-roc-curves.png\", fig)"
   ]
  },
  {
   "cell_type": "code",
   "execution_count": 17,
   "id": "12842536",
   "metadata": {
    "execution": {
     "iopub.execute_input": "2022-12-02T06:43:56.220593Z",
     "iopub.status.busy": "2022-12-02T06:43:56.220171Z",
     "iopub.status.idle": "2022-12-02T06:43:56.228289Z",
     "shell.execute_reply": "2022-12-02T06:43:56.225876Z"
    },
    "papermill": {
     "duration": 0.023716,
     "end_time": "2022-12-02T06:43:56.230741",
     "exception": false,
     "start_time": "2022-12-02T06:43:56.207025",
     "status": "completed"
    },
    "tags": []
   },
   "outputs": [
    {
     "data": {
      "text/plain": [
       "{'0': 1.0,\n",
       " '1': 0.998950328022493,\n",
       " '2': 1.0,\n",
       " '3': 0.9998125585754452,\n",
       " '4': 0.9996189605243103,\n",
       " '5': 0.9994001874414246,\n",
       " '6': 0.999923792104862,\n",
       " '7': 0.9997713763145862,\n",
       " '8': 0.9947588272383354,\n",
       " '9': 0.9996189605243103}"
      ]
     },
     "execution_count": 17,
     "metadata": {},
     "output_type": "execute_result"
    }
   ],
   "source": [
    "roc_auc_dict"
   ]
  },
  {
   "cell_type": "code",
   "execution_count": 18,
   "id": "6afeffea",
   "metadata": {
    "execution": {
     "iopub.execute_input": "2022-12-02T06:43:56.266061Z",
     "iopub.status.busy": "2022-12-02T06:43:56.264383Z",
     "iopub.status.idle": "2022-12-02T06:43:56.271206Z",
     "shell.execute_reply": "2022-12-02T06:43:56.270386Z"
    },
    "papermill": {
     "duration": 0.021789,
     "end_time": "2022-12-02T06:43:56.274050",
     "exception": false,
     "start_time": "2022-12-02T06:43:56.252261",
     "status": "completed"
    },
    "tags": []
   },
   "outputs": [
    {
     "name": "stdout",
     "output_type": "stream",
     "text": [
      " - Logging roc_auc_per_digit (json) : {'0': 1.0, '1': 0.998950328022493, '2': 1.0, '3': 0.9998125585754452, '4': 0.9996189605243103, '5': 0.9994001874414246, '6': 0.999923792104862, '7': 0.9997713763145862, '8': 0.9947588272383354, '9': 0.9996189605243103}\n"
     ]
    }
   ],
   "source": [
    "logger.log_value(\"roc_auc_per_digit\", roc_auc_dict)"
   ]
  },
  {
   "cell_type": "markdown",
   "id": "d72003dc",
   "metadata": {
    "papermill": {
     "duration": 0.008315,
     "end_time": "2022-12-02T06:43:56.291210",
     "exception": false,
     "start_time": "2022-12-02T06:43:56.282895",
     "status": "completed"
    },
    "tags": []
   },
   "source": [
    "### Compute and log mean ROC AUC score averaged over all digits"
   ]
  },
  {
   "cell_type": "code",
   "execution_count": 19,
   "id": "135bf98b",
   "metadata": {
    "execution": {
     "iopub.execute_input": "2022-12-02T06:43:56.316280Z",
     "iopub.status.busy": "2022-12-02T06:43:56.315798Z",
     "iopub.status.idle": "2022-12-02T06:43:56.337311Z",
     "shell.execute_reply": "2022-12-02T06:43:56.336609Z"
    },
    "papermill": {
     "duration": 0.03985,
     "end_time": "2022-12-02T06:43:56.339062",
     "exception": false,
     "start_time": "2022-12-02T06:43:56.299212",
     "status": "completed"
    },
    "tags": []
   },
   "outputs": [
    {
     "name": "stdout",
     "output_type": "stream",
     "text": [
      " - Logging roc_auc_class_mean (float) : 0.9991854990745768\n"
     ]
    }
   ],
   "source": [
    "roc_auc_macro = np.mean(list(roc_auc_dict.values()))\n",
    "\n",
    "logger.log_float(\"roc_auc_class_mean\", roc_auc_macro)\n",
    "\n",
    "# assert that the same value can be computed directly using sklearn\n",
    "assert roc_auc_macro == metrics.roc_auc_score(\n",
    "    y_test, y_pred_probs_test, average=\"macro\", multi_class=\"ovr\"\n",
    ")"
   ]
  },
  {
   "cell_type": "code",
   "execution_count": 20,
   "id": "4e916e13",
   "metadata": {
    "execution": {
     "iopub.execute_input": "2022-12-02T06:43:56.357532Z",
     "iopub.status.busy": "2022-12-02T06:43:56.357202Z",
     "iopub.status.idle": "2022-12-02T06:43:56.361381Z",
     "shell.execute_reply": "2022-12-02T06:43:56.360724Z"
    },
    "lines_to_next_cell": 0,
    "papermill": {
     "duration": 0.01748,
     "end_time": "2022-12-02T06:43:56.365018",
     "exception": false,
     "start_time": "2022-12-02T06:43:56.347538",
     "status": "completed"
    },
    "tags": []
   },
   "outputs": [],
   "source": [
    "# ---"
   ]
  },
  {
   "cell_type": "code",
   "execution_count": null,
   "id": "96291a23",
   "metadata": {
    "papermill": {
     "duration": 0.007539,
     "end_time": "2022-12-02T06:43:56.380300",
     "exception": false,
     "start_time": "2022-12-02T06:43:56.372761",
     "status": "completed"
    },
    "tags": []
   },
   "outputs": [],
   "source": []
  }
 ],
 "metadata": {
  "jupytext": {
   "cell_metadata_filter": "tags,-all",
   "main_language": "python",
   "notebook_metadata_filter": "-all"
  },
  "language_info": {
   "codemirror_mode": {
    "name": "ipython",
    "version": 3
   },
   "file_extension": ".py",
   "mimetype": "text/x-python",
   "name": "python",
   "nbconvert_exporter": "python",
   "pygments_lexer": "ipython3",
   "version": "3.8.10"
  },
  "papermill": {
   "default_parameters": {},
   "duration": 11.579445,
   "end_time": "2022-12-02T06:43:57.611589",
   "environment_variables": {},
   "exception": null,
   "input_path": "/home/host_user/workspace/mnist-demo-pipeline/mnist-demo-pipeline/notebooks/temp-notebook-slbutbag.ipynb",
   "output_path": "notebooks/benchmark-model.ipynb",
   "parameters": {
    "P": {
     "_opentelemetry_traceparent": "00-a311194a9e76b94214368f783f39d555-4d1ddead6ebc03f2-01",
     "pipeline.data_lake_root": "/pipeline-outputs/data-lake",
     "pipeline.github.actor": "matiasdahl",
     "pipeline.github.base_ref": "",
     "pipeline.github.event_name": "schedule",
     "pipeline.github.head_ref": "",
     "pipeline.github.job": "run-tests-pipeline-and-persist-pipeline-outputs",
     "pipeline.github.ref": "refs/heads/development",
     "pipeline.github.ref_name": "development",
     "pipeline.github.ref_type": "branch",
     "pipeline.github.repository": "matiasdahl/dev-mnist-digits-demo-pipeline",
     "pipeline.github.run_id": "3599489336",
     "pipeline.github.runner_name": "Hosted Agent",
     "pipeline.github.sha": "ace0d01011d5e914f1921450dd5a59c11367b38d",
     "pipeline.github.workflow": "Run automated tests, pipeline and deploy results to static reporting site",
     "pipeline.pipeline_run_id": "1a82e5be-f00d-4b24-960b-21f4c1aa5efd",
     "pipeline.run_environment": "ci",
     "run.retry_nr": "0",
     "task.max_nr_retries": "1",
     "task.notebook": "notebooks/benchmark-model.py",
     "task.nr_train_images": 1000,
     "task.num_cpus": 1,
     "task.timeout_s": "None"
    }
   },
   "start_time": "2022-12-02T06:43:46.032144",
   "version": "2.3.3"
  }
 },
 "nbformat": 4,
 "nbformat_minor": 5
}