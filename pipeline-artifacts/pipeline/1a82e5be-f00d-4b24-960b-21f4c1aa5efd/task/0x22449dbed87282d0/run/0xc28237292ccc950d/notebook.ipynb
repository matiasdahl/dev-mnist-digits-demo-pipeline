{
 "cells": [
  {
   "cell_type": "markdown",
   "id": "afb86809",
   "metadata": {
    "papermill": {
     "duration": 0.007177,
     "end_time": "2022-12-02T06:43:54.773167",
     "exception": false,
     "start_time": "2022-12-02T06:43:54.765990",
     "status": "completed"
    },
    "tags": []
   },
   "source": [
    "# Benchmark model\n",
    "\n",
    "The purpose of this notebook is to benchmark persisted onnx-model (trained in the\n",
    "previous step) against evaluation set."
   ]
  },
  {
   "cell_type": "markdown",
   "id": "83bd3031",
   "metadata": {
    "papermill": {
     "duration": 0.004831,
     "end_time": "2022-12-02T06:43:54.782875",
     "exception": false,
     "start_time": "2022-12-02T06:43:54.778044",
     "status": "completed"
    },
    "tags": []
   },
   "source": [
    "### Determine run parameters"
   ]
  },
  {
   "cell_type": "code",
   "execution_count": 1,
   "id": "1a848c7d",
   "metadata": {
    "execution": {
     "iopub.execute_input": "2022-12-02T06:43:54.802205Z",
     "iopub.status.busy": "2022-12-02T06:43:54.801820Z",
     "iopub.status.idle": "2022-12-02T06:43:54.811662Z",
     "shell.execute_reply": "2022-12-02T06:43:54.811053Z"
    },
    "lines_to_next_cell": 0,
    "papermill": {
     "duration": 0.017966,
     "end_time": "2022-12-02T06:43:54.813871",
     "exception": false,
     "start_time": "2022-12-02T06:43:54.795905",
     "status": "completed"
    },
    "tags": []
   },
   "outputs": [],
   "source": [
    "# ----------------- Parameters for interactive development --------------\n",
    "P = {\n",
    "    \"pipeline.data_lake_root\": \"/pipeline-outputs/data-lake\",\n",
    "    \"task.nr_train_images\": 600,\n",
    "}"
   ]
  },
  {
   "cell_type": "code",
   "execution_count": 2,
   "id": "51ff1328",
   "metadata": {
    "execution": {
     "iopub.execute_input": "2022-12-02T06:43:54.825665Z",
     "iopub.status.busy": "2022-12-02T06:43:54.825377Z",
     "iopub.status.idle": "2022-12-02T06:43:54.828599Z",
     "shell.execute_reply": "2022-12-02T06:43:54.828028Z"
    },
    "lines_to_next_cell": 0,
    "papermill": {
     "duration": 0.012327,
     "end_time": "2022-12-02T06:43:54.832120",
     "exception": false,
     "start_time": "2022-12-02T06:43:54.819793",
     "status": "completed"
    },
    "tags": [
     "parameters"
    ]
   },
   "outputs": [],
   "source": [
    "# - During automated runs parameters will be injected in the below cell -"
   ]
  },
  {
   "cell_type": "code",
   "execution_count": 3,
   "id": "8de6b43a",
   "metadata": {
    "execution": {
     "iopub.execute_input": "2022-12-02T06:43:54.842866Z",
     "iopub.status.busy": "2022-12-02T06:43:54.842612Z",
     "iopub.status.idle": "2022-12-02T06:43:54.847453Z",
     "shell.execute_reply": "2022-12-02T06:43:54.846853Z"
    },
    "papermill": {
     "duration": 0.014186,
     "end_time": "2022-12-02T06:43:54.850742",
     "exception": false,
     "start_time": "2022-12-02T06:43:54.836556",
     "status": "completed"
    },
    "tags": [
     "injected-parameters"
    ]
   },
   "outputs": [],
   "source": [
    "# Parameters\n",
    "P = {\n",
    "    \"pipeline.data_lake_root\": \"/pipeline-outputs/data-lake\",\n",
    "    \"pipeline.run_environment\": \"ci\",\n",
    "    \"pipeline.pipeline_run_id\": \"1a82e5be-f00d-4b24-960b-21f4c1aa5efd\",\n",
    "    \"pipeline.github.repository\": \"matiasdahl/dev-mnist-digits-demo-pipeline\",\n",
    "    \"pipeline.github.workflow\": \"Run automated tests, pipeline and deploy results to static reporting site\",\n",
    "    \"pipeline.github.runner_name\": \"Hosted Agent\",\n",
    "    \"pipeline.github.run_id\": \"3599489336\",\n",
    "    \"pipeline.github.actor\": \"matiasdahl\",\n",
    "    \"pipeline.github.job\": \"run-tests-pipeline-and-persist-pipeline-outputs\",\n",
    "    \"pipeline.github.base_ref\": \"\",\n",
    "    \"pipeline.github.head_ref\": \"\",\n",
    "    \"pipeline.github.sha\": \"ace0d01011d5e914f1921450dd5a59c11367b38d\",\n",
    "    \"pipeline.github.ref\": \"refs/heads/development\",\n",
    "    \"pipeline.github.ref_type\": \"branch\",\n",
    "    \"pipeline.github.ref_name\": \"development\",\n",
    "    \"pipeline.github.event_name\": \"schedule\",\n",
    "    \"task.nr_train_images\": 1200,\n",
    "    \"task.notebook\": \"notebooks/benchmark-model.py\",\n",
    "    \"task.max_nr_retries\": \"1\",\n",
    "    \"run.retry_nr\": \"0\",\n",
    "    \"task.timeout_s\": \"None\",\n",
    "    \"task.num_cpus\": 1,\n",
    "    \"_opentelemetry_traceparent\": \"00-a311194a9e76b94214368f783f39d555-6c6eceaa5a185d35-01\",\n",
    "}\n"
   ]
  },
  {
   "cell_type": "code",
   "execution_count": 4,
   "id": "82bd7a45",
   "metadata": {
    "execution": {
     "iopub.execute_input": "2022-12-02T06:43:54.867725Z",
     "iopub.status.busy": "2022-12-02T06:43:54.867450Z",
     "iopub.status.idle": "2022-12-02T06:43:54.870511Z",
     "shell.execute_reply": "2022-12-02T06:43:54.869908Z"
    },
    "lines_to_next_cell": 0,
    "papermill": {
     "duration": 0.012022,
     "end_time": "2022-12-02T06:43:54.873807",
     "exception": false,
     "start_time": "2022-12-02T06:43:54.861785",
     "status": "completed"
    },
    "tags": []
   },
   "outputs": [],
   "source": [
    "# -----------------------------------------------------------------------"
   ]
  },
  {
   "cell_type": "markdown",
   "id": "6417117f",
   "metadata": {
    "papermill": {
     "duration": 0.006236,
     "end_time": "2022-12-02T06:43:54.885604",
     "exception": false,
     "start_time": "2022-12-02T06:43:54.879368",
     "status": "completed"
    },
    "tags": []
   },
   "source": [
    "---"
   ]
  },
  {
   "cell_type": "markdown",
   "id": "0e95438f",
   "metadata": {
    "lines_to_next_cell": 2,
    "papermill": {
     "duration": 0.004729,
     "end_time": "2022-12-02T06:43:54.898326",
     "exception": false,
     "start_time": "2022-12-02T06:43:54.893597",
     "status": "completed"
    },
    "tags": []
   },
   "source": [
    "### Notebook code"
   ]
  },
  {
   "cell_type": "code",
   "execution_count": 5,
   "id": "345b0aa6",
   "metadata": {
    "execution": {
     "iopub.execute_input": "2022-12-02T06:43:54.918167Z",
     "iopub.status.busy": "2022-12-02T06:43:54.917846Z",
     "iopub.status.idle": "2022-12-02T06:43:56.166367Z",
     "shell.execute_reply": "2022-12-02T06:43:56.165548Z"
    },
    "papermill": {
     "duration": 1.257448,
     "end_time": "2022-12-02T06:43:56.168998",
     "exception": false,
     "start_time": "2022-12-02T06:43:54.911550",
     "status": "completed"
    },
    "tags": []
   },
   "outputs": [
    {
     "name": "stderr",
     "output_type": "stream",
     "text": [
      "2022-12-02 06:43:55,999\tINFO worker.py:842 -- Connecting to existing Ray cluster at address: 172.17.0.2:6379\n"
     ]
    }
   ],
   "source": [
    "import itertools as it\n",
    "\n",
    "#\n",
    "import numpy as np\n",
    "import matplotlib.pyplot as plt\n",
    "\n",
    "#\n",
    "from pynb_dag_runner.tasks.task_opentelemetry_logging import PydarLogger\n",
    "\n",
    "#\n",
    "from common.io import datalake_root\n",
    "\n",
    "logger = PydarLogger(P)"
   ]
  },
  {
   "cell_type": "markdown",
   "id": "26429a74",
   "metadata": {
    "papermill": {
     "duration": 0.005644,
     "end_time": "2022-12-02T06:43:56.180432",
     "exception": false,
     "start_time": "2022-12-02T06:43:56.174788",
     "status": "completed"
    },
    "tags": []
   },
   "source": [
    "## Load persisted onnx-model and evaluation data"
   ]
  },
  {
   "cell_type": "code",
   "execution_count": 6,
   "id": "2f0c07c9",
   "metadata": {
    "execution": {
     "iopub.execute_input": "2022-12-02T06:43:56.196035Z",
     "iopub.status.busy": "2022-12-02T06:43:56.195474Z",
     "iopub.status.idle": "2022-12-02T06:43:56.203211Z",
     "shell.execute_reply": "2022-12-02T06:43:56.200045Z"
    },
    "papermill": {
     "duration": 0.023551,
     "end_time": "2022-12-02T06:43:56.209556",
     "exception": false,
     "start_time": "2022-12-02T06:43:56.186005",
     "status": "completed"
    },
    "tags": []
   },
   "outputs": [],
   "source": [
    "from common.io import read_onnx, get_onnx_inputs, get_onnx_outputs, read_numpy"
   ]
  },
  {
   "cell_type": "code",
   "execution_count": 7,
   "id": "a9c1fa66",
   "metadata": {
    "execution": {
     "iopub.execute_input": "2022-12-02T06:43:56.222887Z",
     "iopub.status.busy": "2022-12-02T06:43:56.222576Z",
     "iopub.status.idle": "2022-12-02T06:43:56.240020Z",
     "shell.execute_reply": "2022-12-02T06:43:56.239100Z"
    },
    "lines_to_next_cell": 0,
    "papermill": {
     "duration": 0.029713,
     "end_time": "2022-12-02T06:43:56.245605",
     "exception": false,
     "start_time": "2022-12-02T06:43:56.215892",
     "status": "completed"
    },
    "tags": []
   },
   "outputs": [],
   "source": [
    "onnx_inference_session = read_onnx(\n",
    "    datalake_root(P)\n",
    "    / \"models\"\n",
    "    / f\"nr_train_images={P['task.nr_train_images']}\"\n",
    "    / \"model.onnx\"\n",
    ")"
   ]
  },
  {
   "cell_type": "markdown",
   "id": "96bc312c",
   "metadata": {
    "papermill": {
     "duration": 0.009728,
     "end_time": "2022-12-02T06:43:56.272396",
     "exception": false,
     "start_time": "2022-12-02T06:43:56.262668",
     "status": "completed"
    },
    "tags": []
   },
   "source": [
    "### Record structure of inputs and outputs for ONNX model\n",
    "\n",
    "(this should likely be done in training notebook)"
   ]
  },
  {
   "cell_type": "code",
   "execution_count": 8,
   "id": "4408284e",
   "metadata": {
    "execution": {
     "iopub.execute_input": "2022-12-02T06:43:56.286573Z",
     "iopub.status.busy": "2022-12-02T06:43:56.286231Z",
     "iopub.status.idle": "2022-12-02T06:43:56.295062Z",
     "shell.execute_reply": "2022-12-02T06:43:56.294350Z"
    },
    "papermill": {
     "duration": 0.019278,
     "end_time": "2022-12-02T06:43:56.298667",
     "exception": false,
     "start_time": "2022-12-02T06:43:56.279389",
     "status": "completed"
    },
    "tags": []
   },
   "outputs": [
    {
     "name": "stdout",
     "output_type": "stream",
     "text": [
      "{\n",
      "  \"inputs\": [\n",
      "    {\n",
      "      \"name\": \"float_input_8x8_image\",\n",
      "      \"shape\": [\n",
      "        null,\n",
      "        64\n",
      "      ],\n",
      "      \"type\": \"tensor(float)\"\n",
      "    }\n",
      "  ],\n",
      "  \"outputs\": [\n",
      "    {\n",
      "      \"name\": \"output_label\",\n",
      "      \"shape\": [\n",
      "        null\n",
      "      ],\n",
      "      \"type\": \"tensor(int64)\"\n",
      "    },\n",
      "    {\n",
      "      \"name\": \"output_probability\",\n",
      "      \"shape\": [],\n",
      "      \"type\": \"seq(map(int64,tensor(float)))\"\n",
      "    }\n",
      "  ]\n",
      "}\n"
     ]
    }
   ],
   "source": [
    "import json\n",
    "\n",
    "onnx_io = json.dumps(\n",
    "    {\n",
    "        \"inputs\": get_onnx_inputs(onnx_inference_session),\n",
    "        \"outputs\": get_onnx_outputs(onnx_inference_session),\n",
    "    },\n",
    "    indent=2,\n",
    ")\n",
    "\n",
    "\n",
    "logger.log_artefact(\"onnx_io_structure.json\", onnx_io)\n",
    "print(onnx_io)"
   ]
  },
  {
   "cell_type": "markdown",
   "id": "0db66eb3",
   "metadata": {
    "papermill": {
     "duration": 0.007125,
     "end_time": "2022-12-02T06:43:56.311282",
     "exception": false,
     "start_time": "2022-12-02T06:43:56.304157",
     "status": "completed"
    },
    "tags": []
   },
   "source": [
    "### Evaluate model performance on evaluation data set"
   ]
  },
  {
   "cell_type": "code",
   "execution_count": 9,
   "id": "b6a4990a",
   "metadata": {
    "execution": {
     "iopub.execute_input": "2022-12-02T06:43:56.325886Z",
     "iopub.status.busy": "2022-12-02T06:43:56.325557Z",
     "iopub.status.idle": "2022-12-02T06:43:56.332856Z",
     "shell.execute_reply": "2022-12-02T06:43:56.331048Z"
    },
    "papermill": {
     "duration": 0.018711,
     "end_time": "2022-12-02T06:43:56.335424",
     "exception": false,
     "start_time": "2022-12-02T06:43:56.316713",
     "status": "completed"
    },
    "tags": []
   },
   "outputs": [],
   "source": [
    "# load evaluation data\n",
    "X_test = read_numpy(datalake_root(P) / \"test-data\" / \"digits.numpy\")\n",
    "y_test = read_numpy(datalake_root(P) / \"test-data\" / \"labels.numpy\")"
   ]
  },
  {
   "cell_type": "code",
   "execution_count": 10,
   "id": "5cdf0581",
   "metadata": {
    "execution": {
     "iopub.execute_input": "2022-12-02T06:43:56.350447Z",
     "iopub.status.busy": "2022-12-02T06:43:56.350104Z",
     "iopub.status.idle": "2022-12-02T06:43:56.443543Z",
     "shell.execute_reply": "2022-12-02T06:43:56.442589Z"
    },
    "papermill": {
     "duration": 0.102457,
     "end_time": "2022-12-02T06:43:56.445923",
     "exception": false,
     "start_time": "2022-12-02T06:43:56.343466",
     "status": "completed"
    },
    "tags": []
   },
   "outputs": [],
   "source": [
    "def get_model_outputs(X, onnx_inference_session):\n",
    "    y_pred_labels, y_pred_map = onnx_inference_session.run(\n",
    "        [\"output_label\", \"output_probability\"],\n",
    "        {\"float_input_8x8_image\": X.astype(np.float32)},\n",
    "    )\n",
    "    y_pred_probs = np.array(\n",
    "        [[probabilities[digit] for digit in range(10)] for probabilities in y_pred_map]\n",
    "    )\n",
    "\n",
    "    assert y_pred_labels.shape == (X.shape[0],)\n",
    "    assert y_pred_probs.shape == (X.shape[0], 10)\n",
    "\n",
    "    return y_pred_labels, y_pred_probs\n",
    "\n",
    "\n",
    "# Note: as shown in the training notebook, the predicted labels and probabilities\n",
    "# computed below need not be compatible.\n",
    "y_pred_labels_test, y_pred_probs_test = get_model_outputs(\n",
    "    X_test, onnx_inference_session\n",
    ")"
   ]
  },
  {
   "cell_type": "markdown",
   "id": "68602159",
   "metadata": {
    "papermill": {
     "duration": 0.006044,
     "end_time": "2022-12-02T06:43:56.457458",
     "exception": false,
     "start_time": "2022-12-02T06:43:56.451414",
     "status": "completed"
    },
    "tags": []
   },
   "source": [
    "### Confusion matrix"
   ]
  },
  {
   "cell_type": "code",
   "execution_count": 11,
   "id": "574825be",
   "metadata": {
    "execution": {
     "iopub.execute_input": "2022-12-02T06:43:56.470544Z",
     "iopub.status.busy": "2022-12-02T06:43:56.469687Z",
     "iopub.status.idle": "2022-12-02T06:43:56.474473Z",
     "shell.execute_reply": "2022-12-02T06:43:56.473293Z"
    },
    "papermill": {
     "duration": 0.013647,
     "end_time": "2022-12-02T06:43:56.476607",
     "exception": false,
     "start_time": "2022-12-02T06:43:56.462960",
     "status": "completed"
    },
    "tags": []
   },
   "outputs": [],
   "source": [
    "# TODO"
   ]
  },
  {
   "cell_type": "markdown",
   "id": "0e756b60",
   "metadata": {
    "papermill": {
     "duration": 0.013041,
     "end_time": "2022-12-02T06:43:56.496069",
     "exception": false,
     "start_time": "2022-12-02T06:43:56.483028",
     "status": "completed"
    },
    "tags": []
   },
   "source": [
    "### Plot predicted probabilities for each classifier over all evaluation digit images"
   ]
  },
  {
   "cell_type": "code",
   "execution_count": 12,
   "id": "86190875",
   "metadata": {
    "execution": {
     "iopub.execute_input": "2022-12-02T06:43:56.508987Z",
     "iopub.status.busy": "2022-12-02T06:43:56.508197Z",
     "iopub.status.idle": "2022-12-02T06:43:59.891395Z",
     "shell.execute_reply": "2022-12-02T06:43:59.890630Z"
    },
    "papermill": {
     "duration": 3.392468,
     "end_time": "2022-12-02T06:43:59.893618",
     "exception": false,
     "start_time": "2022-12-02T06:43:56.501150",
     "status": "completed"
    },
    "tags": []
   },
   "outputs": [
    {
     "data": {
      "image/png": "[encoded data removed]",
      "text/plain": [
       "<Figure size 1600x600 with 10 Axes>"
      ]
     },
     "metadata": {},
     "output_type": "display_data"
    }
   ],
   "source": [
    "def plot_per_digit_probabilities(y_pred_probs):\n",
    "    fig, axs = plt.subplots(nrows=2, ncols=5, figsize=(16, 6))\n",
    "\n",
    "    for (r, c), digit, ax in zip(\n",
    "        it.product(range(2), range(5)), range(10), axs.reshape(-1)\n",
    "    ):\n",
    "        ax.hist(y_pred_probs_test[:, digit], bins=20)\n",
    "\n",
    "        ax.set_title(f\"Digit {digit}\")\n",
    "        if r == 1 and c == 2:\n",
    "            ax.set_xlabel(\"probability\", fontsize=16)\n",
    "\n",
    "        if c == 0:\n",
    "            ax.set_ylabel(\"counts\", fontsize=16)\n",
    "        ax.set_yscale(\"log\")\n",
    "\n",
    "    fig.tight_layout()\n",
    "    fig.suptitle(\n",
    "        f\"Distributions of prediction probabilities for each digit \"\n",
    "        f\"(on evaluation data, n={y_pred_probs.shape[0]})\",\n",
    "        fontsize=20,\n",
    "    )\n",
    "    fig.tight_layout()\n",
    "    fig.show()\n",
    "\n",
    "    return fig\n",
    "\n",
    "\n",
    "fig = plot_per_digit_probabilities(y_pred_probs_test)"
   ]
  },
  {
   "cell_type": "markdown",
   "id": "e19e8a44",
   "metadata": {
    "papermill": {
     "duration": 0.00575,
     "end_time": "2022-12-02T06:43:59.905551",
     "exception": false,
     "start_time": "2022-12-02T06:43:59.899801",
     "status": "completed"
    },
    "tags": []
   },
   "source": [
    "From the above distributions we see that most digits have clear separation between\n",
    "high and lower probabilities. Morover, in each case there is roughly an order of\n",
    "magnitude more of digits with low probabilities. This is compatible with digits\n",
    "being roughly evenly distributed in the data."
   ]
  },
  {
   "cell_type": "code",
   "execution_count": 13,
   "id": "af67fbd2",
   "metadata": {
    "execution": {
     "iopub.execute_input": "2022-12-02T06:43:59.918192Z",
     "iopub.status.busy": "2022-12-02T06:43:59.917805Z",
     "iopub.status.idle": "2022-12-02T06:44:00.438316Z",
     "shell.execute_reply": "2022-12-02T06:44:00.437522Z"
    },
    "papermill": {
     "duration": 0.529549,
     "end_time": "2022-12-02T06:44:00.440611",
     "exception": false,
     "start_time": "2022-12-02T06:43:59.911062",
     "status": "completed"
    },
    "tags": []
   },
   "outputs": [],
   "source": [
    "logger.log_figure(\"per-digit-probabilities.png\", fig)"
   ]
  },
  {
   "cell_type": "markdown",
   "id": "8bee1cac",
   "metadata": {
    "papermill": {
     "duration": 0.00602,
     "end_time": "2022-12-02T06:44:00.454253",
     "exception": false,
     "start_time": "2022-12-02T06:44:00.448233",
     "status": "completed"
    },
    "tags": []
   },
   "source": [
    "### Plot ROC curves for individual one-vs-rest classifiers"
   ]
  },
  {
   "cell_type": "code",
   "execution_count": 14,
   "id": "e0508a67",
   "metadata": {
    "execution": {
     "iopub.execute_input": "2022-12-02T06:44:00.467797Z",
     "iopub.status.busy": "2022-12-02T06:44:00.466893Z",
     "iopub.status.idle": "2022-12-02T06:44:00.925794Z",
     "shell.execute_reply": "2022-12-02T06:44:00.925101Z"
    },
    "papermill": {
     "duration": 0.467681,
     "end_time": "2022-12-02T06:44:00.927684",
     "exception": false,
     "start_time": "2022-12-02T06:44:00.460003",
     "status": "completed"
    },
    "tags": []
   },
   "outputs": [],
   "source": [
    "from sklearn import metrics"
   ]
  },
  {
   "cell_type": "code",
   "execution_count": 15,
   "id": "e1eedc86",
   "metadata": {
    "execution": {
     "iopub.execute_input": "2022-12-02T06:44:00.944656Z",
     "iopub.status.busy": "2022-12-02T06:44:00.942920Z",
     "iopub.status.idle": "2022-12-02T06:44:02.210565Z",
     "shell.execute_reply": "2022-12-02T06:44:02.209797Z"
    },
    "papermill": {
     "duration": 1.2772,
     "end_time": "2022-12-02T06:44:02.212662",
     "exception": false,
     "start_time": "2022-12-02T06:44:00.935462",
     "status": "completed"
    },
    "tags": []
   },
   "outputs": [
    {
     "data": {
      "image/png": "[encoded data removed]",
      "text/plain": [
       "<Figure size 1600x800 with 10 Axes>"
      ]
     },
     "metadata": {},
     "output_type": "display_data"
    }
   ],
   "source": [
    "def plot_roc_curves(y, y_pred_probs):\n",
    "    # based on example code\n",
    "    # https://scikit-learn.org/stable/auto_examples/model_selection/plot_roc.html\n",
    "\n",
    "    fig, axs = plt.subplots(nrows=2, ncols=5, figsize=(16, 8))\n",
    "\n",
    "    roc_auc_dict = {}\n",
    "\n",
    "    for (r, c), digit, ax in zip(\n",
    "        it.product(range(2), range(5)), range(10), axs.reshape(-1)\n",
    "    ):\n",
    "        fpr, tpr, _ = metrics.roc_curve(y == digit, y_pred_probs[:, digit])\n",
    "        auc = metrics.auc(fpr, tpr)\n",
    "        roc_auc_dict[str(digit)] = auc\n",
    "\n",
    "        ax.plot(fpr, tpr, label=f\"ROC AUC={round(auc, 3)}\")\n",
    "\n",
    "        ax.set_title(f\"\\nDigit {digit}\", fontsize=16)\n",
    "        if r == 1:\n",
    "            ax.set_xlabel(\"FPR\", fontsize=18)\n",
    "\n",
    "        if c == 0:\n",
    "            ax.set_ylabel(\"TPR\", fontsize=18)\n",
    "\n",
    "        ax.set_xlim([-0.05, 1.05])\n",
    "        ax.set_ylim([-0.05, 1.05])\n",
    "        ax.legend(loc=\"lower right\", frameon=False, fontsize=14)\n",
    "\n",
    "    fig.tight_layout()\n",
    "    fig.suptitle(\n",
    "        f\"ROC plots for one-vs-rest performances \"\n",
    "        f\"(on evaluation data, n={y_pred_probs_test.shape[1]}\",\n",
    "        fontsize=22,\n",
    "    )\n",
    "    fig.tight_layout()\n",
    "    fig.show()\n",
    "\n",
    "    return roc_auc_dict, fig\n",
    "\n",
    "\n",
    "roc_auc_dict, fig = plot_roc_curves(y_test, y_pred_probs_test)"
   ]
  },
  {
   "cell_type": "code",
   "execution_count": 16,
   "id": "6f9d0fe7",
   "metadata": {
    "execution": {
     "iopub.execute_input": "2022-12-02T06:44:02.228695Z",
     "iopub.status.busy": "2022-12-02T06:44:02.228230Z",
     "iopub.status.idle": "2022-12-02T06:44:02.511264Z",
     "shell.execute_reply": "2022-12-02T06:44:02.510385Z"
    },
    "papermill": {
     "duration": 0.293215,
     "end_time": "2022-12-02T06:44:02.513255",
     "exception": false,
     "start_time": "2022-12-02T06:44:02.220040",
     "status": "completed"
    },
    "tags": []
   },
   "outputs": [],
   "source": [
    "logger.log_figure(\"per-digit-roc-curves.png\", fig)"
   ]
  },
  {
   "cell_type": "code",
   "execution_count": 17,
   "id": "560e8430",
   "metadata": {
    "execution": {
     "iopub.execute_input": "2022-12-02T06:44:02.533000Z",
     "iopub.status.busy": "2022-12-02T06:44:02.532403Z",
     "iopub.status.idle": "2022-12-02T06:44:02.538472Z",
     "shell.execute_reply": "2022-12-02T06:44:02.537657Z"
    },
    "papermill": {
     "duration": 0.028159,
     "end_time": "2022-12-02T06:44:02.549949",
     "exception": false,
     "start_time": "2022-12-02T06:44:02.521790",
     "status": "completed"
    },
    "tags": []
   },
   "outputs": [
    {
     "data": {
      "text/plain": [
       "{'0': 1.0,\n",
       " '1': 0.9991002811621369,\n",
       " '2': 1.0,\n",
       " '3': 0.9998500468603562,\n",
       " '4': 0.9997713763145861,\n",
       " '5': 0.9997000937207123,\n",
       " '6': 0.999923792104862,\n",
       " '7': 0.9998475842097242,\n",
       " '8': 0.9958228247162673,\n",
       " '9': 0.9997713763145862}"
      ]
     },
     "execution_count": 17,
     "metadata": {},
     "output_type": "execute_result"
    }
   ],
   "source": [
    "roc_auc_dict"
   ]
  },
  {
   "cell_type": "code",
   "execution_count": 18,
   "id": "7b685ad8",
   "metadata": {
    "execution": {
     "iopub.execute_input": "2022-12-02T06:44:02.568530Z",
     "iopub.status.busy": "2022-12-02T06:44:02.568207Z",
     "iopub.status.idle": "2022-12-02T06:44:02.573610Z",
     "shell.execute_reply": "2022-12-02T06:44:02.572856Z"
    },
    "papermill": {
     "duration": 0.018075,
     "end_time": "2022-12-02T06:44:02.576770",
     "exception": false,
     "start_time": "2022-12-02T06:44:02.558695",
     "status": "completed"
    },
    "tags": []
   },
   "outputs": [
    {
     "name": "stdout",
     "output_type": "stream",
     "text": [
      " - Logging roc_auc_per_digit (json) : {'0': 1.0, '1': 0.9991002811621369, '2': 1.0, '3': 0.9998500468603562, '4': 0.9997713763145861, '5': 0.9997000937207123, '6': 0.999923792104862, '7': 0.9998475842097242, '8': 0.9958228247162673, '9': 0.9997713763145862}\n"
     ]
    }
   ],
   "source": [
    "logger.log_value(\"roc_auc_per_digit\", roc_auc_dict)"
   ]
  },
  {
   "cell_type": "markdown",
   "id": "ac67512f",
   "metadata": {
    "papermill": {
     "duration": 0.007648,
     "end_time": "2022-12-02T06:44:02.591948",
     "exception": false,
     "start_time": "2022-12-02T06:44:02.584300",
     "status": "completed"
    },
    "tags": []
   },
   "source": [
    "### Compute and log mean ROC AUC score averaged over all digits"
   ]
  },
  {
   "cell_type": "code",
   "execution_count": 19,
   "id": "48d84e9e",
   "metadata": {
    "execution": {
     "iopub.execute_input": "2022-12-02T06:44:02.608539Z",
     "iopub.status.busy": "2022-12-02T06:44:02.607899Z",
     "iopub.status.idle": "2022-12-02T06:44:02.625337Z",
     "shell.execute_reply": "2022-12-02T06:44:02.624448Z"
    },
    "papermill": {
     "duration": 0.02828,
     "end_time": "2022-12-02T06:44:02.627750",
     "exception": false,
     "start_time": "2022-12-02T06:44:02.599470",
     "status": "completed"
    },
    "tags": []
   },
   "outputs": [
    {
     "name": "stdout",
     "output_type": "stream",
     "text": [
      " - Logging roc_auc_class_mean (float) : 0.9993787375403231\n"
     ]
    }
   ],
   "source": [
    "roc_auc_macro = np.mean(list(roc_auc_dict.values()))\n",
    "\n",
    "logger.log_float(\"roc_auc_class_mean\", roc_auc_macro)\n",
    "\n",
    "# assert that the same value can be computed directly using sklearn\n",
    "assert roc_auc_macro == metrics.roc_auc_score(\n",
    "    y_test, y_pred_probs_test, average=\"macro\", multi_class=\"ovr\"\n",
    ")"
   ]
  },
  {
   "cell_type": "code",
   "execution_count": 20,
   "id": "14d51f4a",
   "metadata": {
    "execution": {
     "iopub.execute_input": "2022-12-02T06:44:02.645673Z",
     "iopub.status.busy": "2022-12-02T06:44:02.645014Z",
     "iopub.status.idle": "2022-12-02T06:44:02.649414Z",
     "shell.execute_reply": "2022-12-02T06:44:02.648665Z"
    },
    "lines_to_next_cell": 0,
    "papermill": {
     "duration": 0.015369,
     "end_time": "2022-12-02T06:44:02.651330",
     "exception": false,
     "start_time": "2022-12-02T06:44:02.635961",
     "status": "completed"
    },
    "tags": []
   },
   "outputs": [],
   "source": [
    "# ---"
   ]
  },
  {
   "cell_type": "code",
   "execution_count": null,
   "id": "466bf284",
   "metadata": {
    "papermill": {
     "duration": 0.007975,
     "end_time": "2022-12-02T06:44:02.667071",
     "exception": false,
     "start_time": "2022-12-02T06:44:02.659096",
     "status": "completed"
    },
    "tags": []
   },
   "outputs": [],
   "source": []
  }
 ],
 "metadata": {
  "jupytext": {
   "cell_metadata_filter": "tags,-all",
   "main_language": "python",
   "notebook_metadata_filter": "-all"
  },
  "language_info": {
   "codemirror_mode": {
    "name": "ipython",
    "version": 3
   },
   "file_extension": ".py",
   "mimetype": "text/x-python",
   "name": "python",
   "nbconvert_exporter": "python",
   "pygments_lexer": "ipython3",
   "version": "3.8.10"
  },
  "papermill": {
   "default_parameters": {},
   "duration": 10.516393,
   "end_time": "2022-12-02T06:44:03.796243",
   "environment_variables": {},
   "exception": null,
   "input_path": "/home/host_user/workspace/mnist-demo-pipeline/mnist-demo-pipeline/notebooks/temp-notebook-wuf_rsk2.ipynb",
   "output_path": "notebooks/benchmark-model.ipynb",
   "parameters": {
    "P": {
     "_opentelemetry_traceparent": "00-a311194a9e76b94214368f783f39d555-6c6eceaa5a185d35-01",
     "pipeline.data_lake_root": "/pipeline-outputs/data-lake",
     "pipeline.github.actor": "matiasdahl",
     "pipeline.github.base_ref": "",
     "pipeline.github.event_name": "schedule",
     "pipeline.github.head_ref": "",
     "pipeline.github.job": "run-tests-pipeline-and-persist-pipeline-outputs",
     "pipeline.github.ref": "refs/heads/development",
     "pipeline.github.ref_name": "development",
     "pipeline.github.ref_type": "branch",
     "pipeline.github.repository": "matiasdahl/dev-mnist-digits-demo-pipeline",
     "pipeline.github.run_id": "3599489336",
     "pipeline.github.runner_name": "Hosted Agent",
     "pipeline.github.sha": "ace0d01011d5e914f1921450dd5a59c11367b38d",
     "pipeline.github.workflow": "Run automated tests, pipeline and deploy results to static reporting site",
     "pipeline.pipeline_run_id": "1a82e5be-f00d-4b24-960b-21f4c1aa5efd",
     "pipeline.run_environment": "ci",
     "run.retry_nr": "0",
     "task.max_nr_retries": "1",
     "task.notebook": "notebooks/benchmark-model.py",
     "task.nr_train_images": 1200,
     "task.num_cpus": 1,
     "task.timeout_s": "None"
    }
   },
   "start_time": "2022-12-02T06:43:53.279850",
   "version": "2.3.3"
  }
 },
 "nbformat": 4,
 "nbformat_minor": 5
}