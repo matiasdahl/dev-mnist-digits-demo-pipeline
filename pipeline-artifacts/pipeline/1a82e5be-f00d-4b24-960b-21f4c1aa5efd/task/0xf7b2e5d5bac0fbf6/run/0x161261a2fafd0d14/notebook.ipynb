{
 "cells": [
  {
   "cell_type": "markdown",
   "id": "ad203b6a",
   "metadata": {
    "papermill": {
     "duration": 0.017871,
     "end_time": "2022-12-02T06:43:34.571204",
     "exception": false,
     "start_time": "2022-12-02T06:43:34.553333",
     "status": "completed"
    },
    "tags": []
   },
   "source": [
    "# Benchmark model\n",
    "\n",
    "The purpose of this notebook is to benchmark persisted onnx-model (trained in the\n",
    "previous step) against evaluation set."
   ]
  },
  {
   "cell_type": "markdown",
   "id": "0c49aecd",
   "metadata": {
    "papermill": {
     "duration": 0.00655,
     "end_time": "2022-12-02T06:43:34.587900",
     "exception": false,
     "start_time": "2022-12-02T06:43:34.581350",
     "status": "completed"
    },
    "tags": []
   },
   "source": [
    "### Determine run parameters"
   ]
  },
  {
   "cell_type": "code",
   "execution_count": 1,
   "id": "02123667",
   "metadata": {
    "execution": {
     "iopub.execute_input": "2022-12-02T06:43:34.602413Z",
     "iopub.status.busy": "2022-12-02T06:43:34.602043Z",
     "iopub.status.idle": "2022-12-02T06:43:34.619303Z",
     "shell.execute_reply": "2022-12-02T06:43:34.618674Z"
    },
    "lines_to_next_cell": 0,
    "papermill": {
     "duration": 0.027047,
     "end_time": "2022-12-02T06:43:34.621318",
     "exception": false,
     "start_time": "2022-12-02T06:43:34.594271",
     "status": "completed"
    },
    "tags": []
   },
   "outputs": [],
   "source": [
    "# ----------------- Parameters for interactive development --------------\n",
    "P = {\n",
    "    \"pipeline.data_lake_root\": \"/pipeline-outputs/data-lake\",\n",
    "    \"task.nr_train_images\": 600,\n",
    "}"
   ]
  },
  {
   "cell_type": "code",
   "execution_count": 2,
   "id": "09588f2c",
   "metadata": {
    "execution": {
     "iopub.execute_input": "2022-12-02T06:43:34.632424Z",
     "iopub.status.busy": "2022-12-02T06:43:34.631875Z",
     "iopub.status.idle": "2022-12-02T06:43:34.635341Z",
     "shell.execute_reply": "2022-12-02T06:43:34.634727Z"
    },
    "lines_to_next_cell": 0,
    "papermill": {
     "duration": 0.011916,
     "end_time": "2022-12-02T06:43:34.638346",
     "exception": false,
     "start_time": "2022-12-02T06:43:34.626430",
     "status": "completed"
    },
    "tags": [
     "parameters"
    ]
   },
   "outputs": [],
   "source": [
    "# - During automated runs parameters will be injected in the below cell -"
   ]
  },
  {
   "cell_type": "code",
   "execution_count": 3,
   "id": "af997c7d",
   "metadata": {
    "execution": {
     "iopub.execute_input": "2022-12-02T06:43:34.650144Z",
     "iopub.status.busy": "2022-12-02T06:43:34.649527Z",
     "iopub.status.idle": "2022-12-02T06:43:34.654438Z",
     "shell.execute_reply": "2022-12-02T06:43:34.653874Z"
    },
    "papermill": {
     "duration": 0.013389,
     "end_time": "2022-12-02T06:43:34.656366",
     "exception": false,
     "start_time": "2022-12-02T06:43:34.642977",
     "status": "completed"
    },
    "tags": [
     "injected-parameters"
    ]
   },
   "outputs": [],
   "source": [
    "# Parameters\n",
    "P = {\n",
    "    \"pipeline.data_lake_root\": \"/pipeline-outputs/data-lake\",\n",
    "    \"pipeline.run_environment\": \"ci\",\n",
    "    \"pipeline.pipeline_run_id\": \"1a82e5be-f00d-4b24-960b-21f4c1aa5efd\",\n",
    "    \"pipeline.github.repository\": \"matiasdahl/dev-mnist-digits-demo-pipeline\",\n",
    "    \"pipeline.github.workflow\": \"Run automated tests, pipeline and deploy results to static reporting site\",\n",
    "    \"pipeline.github.runner_name\": \"Hosted Agent\",\n",
    "    \"pipeline.github.run_id\": \"3599489336\",\n",
    "    \"pipeline.github.actor\": \"matiasdahl\",\n",
    "    \"pipeline.github.job\": \"run-tests-pipeline-and-persist-pipeline-outputs\",\n",
    "    \"pipeline.github.base_ref\": \"\",\n",
    "    \"pipeline.github.head_ref\": \"\",\n",
    "    \"pipeline.github.sha\": \"ace0d01011d5e914f1921450dd5a59c11367b38d\",\n",
    "    \"pipeline.github.ref\": \"refs/heads/development\",\n",
    "    \"pipeline.github.ref_type\": \"branch\",\n",
    "    \"pipeline.github.ref_name\": \"development\",\n",
    "    \"pipeline.github.event_name\": \"schedule\",\n",
    "    \"task.nr_train_images\": 600,\n",
    "    \"task.notebook\": \"notebooks/benchmark-model.py\",\n",
    "    \"task.max_nr_retries\": \"1\",\n",
    "    \"run.retry_nr\": \"0\",\n",
    "    \"task.timeout_s\": \"None\",\n",
    "    \"task.num_cpus\": 1,\n",
    "    \"_opentelemetry_traceparent\": \"00-a311194a9e76b94214368f783f39d555-0e3aa6c5bf9a536a-01\",\n",
    "}\n"
   ]
  },
  {
   "cell_type": "code",
   "execution_count": 4,
   "id": "aa8da711",
   "metadata": {
    "execution": {
     "iopub.execute_input": "2022-12-02T06:43:34.667778Z",
     "iopub.status.busy": "2022-12-02T06:43:34.667373Z",
     "iopub.status.idle": "2022-12-02T06:43:34.670293Z",
     "shell.execute_reply": "2022-12-02T06:43:34.669714Z"
    },
    "lines_to_next_cell": 0,
    "papermill": {
     "duration": 0.013647,
     "end_time": "2022-12-02T06:43:34.675133",
     "exception": false,
     "start_time": "2022-12-02T06:43:34.661486",
     "status": "completed"
    },
    "tags": []
   },
   "outputs": [],
   "source": [
    "# -----------------------------------------------------------------------"
   ]
  },
  {
   "cell_type": "markdown",
   "id": "dc6979ad",
   "metadata": {
    "papermill": {
     "duration": 0.004337,
     "end_time": "2022-12-02T06:43:34.684662",
     "exception": false,
     "start_time": "2022-12-02T06:43:34.680325",
     "status": "completed"
    },
    "tags": []
   },
   "source": [
    "---"
   ]
  },
  {
   "cell_type": "markdown",
   "id": "b789c83a",
   "metadata": {
    "lines_to_next_cell": 2,
    "papermill": {
     "duration": 0.004369,
     "end_time": "2022-12-02T06:43:34.694300",
     "exception": false,
     "start_time": "2022-12-02T06:43:34.689931",
     "status": "completed"
    },
    "tags": []
   },
   "source": [
    "### Notebook code"
   ]
  },
  {
   "cell_type": "code",
   "execution_count": 5,
   "id": "6b870e89",
   "metadata": {
    "execution": {
     "iopub.execute_input": "2022-12-02T06:43:34.705232Z",
     "iopub.status.busy": "2022-12-02T06:43:34.704908Z",
     "iopub.status.idle": "2022-12-02T06:43:35.972513Z",
     "shell.execute_reply": "2022-12-02T06:43:35.971782Z"
    },
    "papermill": {
     "duration": 1.275881,
     "end_time": "2022-12-02T06:43:35.974977",
     "exception": false,
     "start_time": "2022-12-02T06:43:34.699096",
     "status": "completed"
    },
    "tags": []
   },
   "outputs": [
    {
     "name": "stderr",
     "output_type": "stream",
     "text": [
      "2022-12-02 06:43:35,790\tINFO worker.py:842 -- Connecting to existing Ray cluster at address: 172.17.0.2:6379\n"
     ]
    }
   ],
   "source": [
    "import itertools as it\n",
    "\n",
    "#\n",
    "import numpy as np\n",
    "import matplotlib.pyplot as plt\n",
    "\n",
    "#\n",
    "from pynb_dag_runner.tasks.task_opentelemetry_logging import PydarLogger\n",
    "\n",
    "#\n",
    "from common.io import datalake_root\n",
    "\n",
    "logger = PydarLogger(P)"
   ]
  },
  {
   "cell_type": "markdown",
   "id": "fa77dd15",
   "metadata": {
    "papermill": {
     "duration": 0.004486,
     "end_time": "2022-12-02T06:43:35.985501",
     "exception": false,
     "start_time": "2022-12-02T06:43:35.981015",
     "status": "completed"
    },
    "tags": []
   },
   "source": [
    "## Load persisted onnx-model and evaluation data"
   ]
  },
  {
   "cell_type": "code",
   "execution_count": 6,
   "id": "06dbb222",
   "metadata": {
    "execution": {
     "iopub.execute_input": "2022-12-02T06:43:35.997788Z",
     "iopub.status.busy": "2022-12-02T06:43:35.997279Z",
     "iopub.status.idle": "2022-12-02T06:43:36.002650Z",
     "shell.execute_reply": "2022-12-02T06:43:36.001814Z"
    },
    "papermill": {
     "duration": 0.013517,
     "end_time": "2022-12-02T06:43:36.004902",
     "exception": false,
     "start_time": "2022-12-02T06:43:35.991385",
     "status": "completed"
    },
    "tags": []
   },
   "outputs": [],
   "source": [
    "from common.io import read_onnx, get_onnx_inputs, get_onnx_outputs, read_numpy"
   ]
  },
  {
   "cell_type": "code",
   "execution_count": 7,
   "id": "0bf8d198",
   "metadata": {
    "execution": {
     "iopub.execute_input": "2022-12-02T06:43:36.016337Z",
     "iopub.status.busy": "2022-12-02T06:43:36.015963Z",
     "iopub.status.idle": "2022-12-02T06:43:36.029739Z",
     "shell.execute_reply": "2022-12-02T06:43:36.028911Z"
    },
    "lines_to_next_cell": 0,
    "papermill": {
     "duration": 0.026831,
     "end_time": "2022-12-02T06:43:36.037217",
     "exception": false,
     "start_time": "2022-12-02T06:43:36.010386",
     "status": "completed"
    },
    "tags": []
   },
   "outputs": [],
   "source": [
    "onnx_inference_session = read_onnx(\n",
    "    datalake_root(P)\n",
    "    / \"models\"\n",
    "    / f\"nr_train_images={P['task.nr_train_images']}\"\n",
    "    / \"model.onnx\"\n",
    ")"
   ]
  },
  {
   "cell_type": "markdown",
   "id": "3438b168",
   "metadata": {
    "papermill": {
     "duration": 0.005344,
     "end_time": "2022-12-02T06:43:36.049001",
     "exception": false,
     "start_time": "2022-12-02T06:43:36.043657",
     "status": "completed"
    },
    "tags": []
   },
   "source": [
    "### Record structure of inputs and outputs for ONNX model\n",
    "\n",
    "(this should likely be done in training notebook)"
   ]
  },
  {
   "cell_type": "code",
   "execution_count": 8,
   "id": "11dc7ad2",
   "metadata": {
    "execution": {
     "iopub.execute_input": "2022-12-02T06:43:36.061457Z",
     "iopub.status.busy": "2022-12-02T06:43:36.061042Z",
     "iopub.status.idle": "2022-12-02T06:43:36.068657Z",
     "shell.execute_reply": "2022-12-02T06:43:36.067576Z"
    },
    "papermill": {
     "duration": 0.01673,
     "end_time": "2022-12-02T06:43:36.071481",
     "exception": false,
     "start_time": "2022-12-02T06:43:36.054751",
     "status": "completed"
    },
    "tags": []
   },
   "outputs": [
    {
     "name": "stdout",
     "output_type": "stream",
     "text": [
      "{\n",
      "  \"inputs\": [\n",
      "    {\n",
      "      \"name\": \"float_input_8x8_image\",\n",
      "      \"shape\": [\n",
      "        null,\n",
      "        64\n",
      "      ],\n",
      "      \"type\": \"tensor(float)\"\n",
      "    }\n",
      "  ],\n",
      "  \"outputs\": [\n",
      "    {\n",
      "      \"name\": \"output_label\",\n",
      "      \"shape\": [\n",
      "        null\n",
      "      ],\n",
      "      \"type\": \"tensor(int64)\"\n",
      "    },\n",
      "    {\n",
      "      \"name\": \"output_probability\",\n",
      "      \"shape\": [],\n",
      "      \"type\": \"seq(map(int64,tensor(float)))\"\n",
      "    }\n",
      "  ]\n",
      "}\n"
     ]
    }
   ],
   "source": [
    "import json\n",
    "\n",
    "onnx_io = json.dumps(\n",
    "    {\n",
    "        \"inputs\": get_onnx_inputs(onnx_inference_session),\n",
    "        \"outputs\": get_onnx_outputs(onnx_inference_session),\n",
    "    },\n",
    "    indent=2,\n",
    ")\n",
    "\n",
    "\n",
    "logger.log_artefact(\"onnx_io_structure.json\", onnx_io)\n",
    "print(onnx_io)"
   ]
  },
  {
   "cell_type": "markdown",
   "id": "4f2e1177",
   "metadata": {
    "papermill": {
     "duration": 0.007147,
     "end_time": "2022-12-02T06:43:36.084894",
     "exception": false,
     "start_time": "2022-12-02T06:43:36.077747",
     "status": "completed"
    },
    "tags": []
   },
   "source": [
    "### Evaluate model performance on evaluation data set"
   ]
  },
  {
   "cell_type": "code",
   "execution_count": 9,
   "id": "3979dbc7",
   "metadata": {
    "execution": {
     "iopub.execute_input": "2022-12-02T06:43:36.096890Z",
     "iopub.status.busy": "2022-12-02T06:43:36.096505Z",
     "iopub.status.idle": "2022-12-02T06:43:36.102108Z",
     "shell.execute_reply": "2022-12-02T06:43:36.101332Z"
    },
    "papermill": {
     "duration": 0.014914,
     "end_time": "2022-12-02T06:43:36.105057",
     "exception": false,
     "start_time": "2022-12-02T06:43:36.090143",
     "status": "completed"
    },
    "tags": []
   },
   "outputs": [],
   "source": [
    "# load evaluation data\n",
    "X_test = read_numpy(datalake_root(P) / \"test-data\" / \"digits.numpy\")\n",
    "y_test = read_numpy(datalake_root(P) / \"test-data\" / \"labels.numpy\")"
   ]
  },
  {
   "cell_type": "code",
   "execution_count": 10,
   "id": "19e59ec6",
   "metadata": {
    "execution": {
     "iopub.execute_input": "2022-12-02T06:43:36.117113Z",
     "iopub.status.busy": "2022-12-02T06:43:36.116746Z",
     "iopub.status.idle": "2022-12-02T06:43:36.200170Z",
     "shell.execute_reply": "2022-12-02T06:43:36.198884Z"
    },
    "papermill": {
     "duration": 0.091895,
     "end_time": "2022-12-02T06:43:36.202698",
     "exception": false,
     "start_time": "2022-12-02T06:43:36.110803",
     "status": "completed"
    },
    "tags": []
   },
   "outputs": [],
   "source": [
    "def get_model_outputs(X, onnx_inference_session):\n",
    "    y_pred_labels, y_pred_map = onnx_inference_session.run(\n",
    "        [\"output_label\", \"output_probability\"],\n",
    "        {\"float_input_8x8_image\": X.astype(np.float32)},\n",
    "    )\n",
    "    y_pred_probs = np.array(\n",
    "        [[probabilities[digit] for digit in range(10)] for probabilities in y_pred_map]\n",
    "    )\n",
    "\n",
    "    assert y_pred_labels.shape == (X.shape[0],)\n",
    "    assert y_pred_probs.shape == (X.shape[0], 10)\n",
    "\n",
    "    return y_pred_labels, y_pred_probs\n",
    "\n",
    "\n",
    "# Note: as shown in the training notebook, the predicted labels and probabilities\n",
    "# computed below need not be compatible.\n",
    "y_pred_labels_test, y_pred_probs_test = get_model_outputs(\n",
    "    X_test, onnx_inference_session\n",
    ")"
   ]
  },
  {
   "cell_type": "markdown",
   "id": "90bfc718",
   "metadata": {
    "papermill": {
     "duration": 0.005127,
     "end_time": "2022-12-02T06:43:36.213791",
     "exception": false,
     "start_time": "2022-12-02T06:43:36.208664",
     "status": "completed"
    },
    "tags": []
   },
   "source": [
    "### Confusion matrix"
   ]
  },
  {
   "cell_type": "code",
   "execution_count": 11,
   "id": "af4224b1",
   "metadata": {
    "execution": {
     "iopub.execute_input": "2022-12-02T06:43:36.225907Z",
     "iopub.status.busy": "2022-12-02T06:43:36.225203Z",
     "iopub.status.idle": "2022-12-02T06:43:36.228835Z",
     "shell.execute_reply": "2022-12-02T06:43:36.228068Z"
    },
    "papermill": {
     "duration": 0.012492,
     "end_time": "2022-12-02T06:43:36.231497",
     "exception": false,
     "start_time": "2022-12-02T06:43:36.219005",
     "status": "completed"
    },
    "tags": []
   },
   "outputs": [],
   "source": [
    "# TODO"
   ]
  },
  {
   "cell_type": "markdown",
   "id": "9ebe0303",
   "metadata": {
    "papermill": {
     "duration": 0.007842,
     "end_time": "2022-12-02T06:43:36.244990",
     "exception": false,
     "start_time": "2022-12-02T06:43:36.237148",
     "status": "completed"
    },
    "tags": []
   },
   "source": [
    "### Plot predicted probabilities for each classifier over all evaluation digit images"
   ]
  },
  {
   "cell_type": "code",
   "execution_count": 12,
   "id": "96dac495",
   "metadata": {
    "execution": {
     "iopub.execute_input": "2022-12-02T06:43:36.257337Z",
     "iopub.status.busy": "2022-12-02T06:43:36.256634Z",
     "iopub.status.idle": "2022-12-02T06:43:40.228256Z",
     "shell.execute_reply": "2022-12-02T06:43:40.227026Z"
    },
    "papermill": {
     "duration": 3.979662,
     "end_time": "2022-12-02T06:43:40.230277",
     "exception": false,
     "start_time": "2022-12-02T06:43:36.250615",
     "status": "completed"
    },
    "tags": []
   },
   "outputs": [
    {
     "data": {
      "image/png": "[encoded data removed]",
      "text/plain": [
       "<Figure size 1600x600 with 10 Axes>"
      ]
     },
     "metadata": {},
     "output_type": "display_data"
    }
   ],
   "source": [
    "def plot_per_digit_probabilities(y_pred_probs):\n",
    "    fig, axs = plt.subplots(nrows=2, ncols=5, figsize=(16, 6))\n",
    "\n",
    "    for (r, c), digit, ax in zip(\n",
    "        it.product(range(2), range(5)), range(10), axs.reshape(-1)\n",
    "    ):\n",
    "        ax.hist(y_pred_probs_test[:, digit], bins=20)\n",
    "\n",
    "        ax.set_title(f\"Digit {digit}\")\n",
    "        if r == 1 and c == 2:\n",
    "            ax.set_xlabel(\"probability\", fontsize=16)\n",
    "\n",
    "        if c == 0:\n",
    "            ax.set_ylabel(\"counts\", fontsize=16)\n",
    "        ax.set_yscale(\"log\")\n",
    "\n",
    "    fig.tight_layout()\n",
    "    fig.suptitle(\n",
    "        f\"Distributions of prediction probabilities for each digit \"\n",
    "        f\"(on evaluation data, n={y_pred_probs.shape[0]})\",\n",
    "        fontsize=20,\n",
    "    )\n",
    "    fig.tight_layout()\n",
    "    fig.show()\n",
    "\n",
    "    return fig\n",
    "\n",
    "\n",
    "fig = plot_per_digit_probabilities(y_pred_probs_test)"
   ]
  },
  {
   "cell_type": "markdown",
   "id": "9e33376b",
   "metadata": {
    "papermill": {
     "duration": 0.006184,
     "end_time": "2022-12-02T06:43:40.243544",
     "exception": false,
     "start_time": "2022-12-02T06:43:40.237360",
     "status": "completed"
    },
    "tags": []
   },
   "source": [
    "From the above distributions we see that most digits have clear separation between\n",
    "high and lower probabilities. Morover, in each case there is roughly an order of\n",
    "magnitude more of digits with low probabilities. This is compatible with digits\n",
    "being roughly evenly distributed in the data."
   ]
  },
  {
   "cell_type": "code",
   "execution_count": 13,
   "id": "792315ff",
   "metadata": {
    "execution": {
     "iopub.execute_input": "2022-12-02T06:43:40.258602Z",
     "iopub.status.busy": "2022-12-02T06:43:40.258299Z",
     "iopub.status.idle": "2022-12-02T06:43:40.804838Z",
     "shell.execute_reply": "2022-12-02T06:43:40.804038Z"
    },
    "papermill": {
     "duration": 0.556002,
     "end_time": "2022-12-02T06:43:40.806833",
     "exception": false,
     "start_time": "2022-12-02T06:43:40.250831",
     "status": "completed"
    },
    "tags": []
   },
   "outputs": [],
   "source": [
    "logger.log_figure(\"per-digit-probabilities.png\", fig)"
   ]
  },
  {
   "cell_type": "markdown",
   "id": "21f7f2d1",
   "metadata": {
    "papermill": {
     "duration": 0.006806,
     "end_time": "2022-12-02T06:43:40.819965",
     "exception": false,
     "start_time": "2022-12-02T06:43:40.813159",
     "status": "completed"
    },
    "tags": []
   },
   "source": [
    "### Plot ROC curves for individual one-vs-rest classifiers"
   ]
  },
  {
   "cell_type": "code",
   "execution_count": 14,
   "id": "f3f357f0",
   "metadata": {
    "execution": {
     "iopub.execute_input": "2022-12-02T06:43:40.834017Z",
     "iopub.status.busy": "2022-12-02T06:43:40.833514Z",
     "iopub.status.idle": "2022-12-02T06:43:41.223421Z",
     "shell.execute_reply": "2022-12-02T06:43:41.222531Z"
    },
    "papermill": {
     "duration": 0.399307,
     "end_time": "2022-12-02T06:43:41.225567",
     "exception": false,
     "start_time": "2022-12-02T06:43:40.826260",
     "status": "completed"
    },
    "tags": []
   },
   "outputs": [],
   "source": [
    "from sklearn import metrics"
   ]
  },
  {
   "cell_type": "code",
   "execution_count": 15,
   "id": "0e06b01a",
   "metadata": {
    "execution": {
     "iopub.execute_input": "2022-12-02T06:43:41.241539Z",
     "iopub.status.busy": "2022-12-02T06:43:41.241209Z",
     "iopub.status.idle": "2022-12-02T06:43:42.657828Z",
     "shell.execute_reply": "2022-12-02T06:43:42.656839Z"
    },
    "papermill": {
     "duration": 1.426988,
     "end_time": "2022-12-02T06:43:42.659887",
     "exception": false,
     "start_time": "2022-12-02T06:43:41.232899",
     "status": "completed"
    },
    "tags": []
   },
   "outputs": [
    {
     "data": {
      "image/png": "[encoded data removed]",
      "text/plain": [
       "<Figure size 1600x800 with 10 Axes>"
      ]
     },
     "metadata": {},
     "output_type": "display_data"
    }
   ],
   "source": [
    "def plot_roc_curves(y, y_pred_probs):\n",
    "    # based on example code\n",
    "    # https://scikit-learn.org/stable/auto_examples/model_selection/plot_roc.html\n",
    "\n",
    "    fig, axs = plt.subplots(nrows=2, ncols=5, figsize=(16, 8))\n",
    "\n",
    "    roc_auc_dict = {}\n",
    "\n",
    "    for (r, c), digit, ax in zip(\n",
    "        it.product(range(2), range(5)), range(10), axs.reshape(-1)\n",
    "    ):\n",
    "        fpr, tpr, _ = metrics.roc_curve(y == digit, y_pred_probs[:, digit])\n",
    "        auc = metrics.auc(fpr, tpr)\n",
    "        roc_auc_dict[str(digit)] = auc\n",
    "\n",
    "        ax.plot(fpr, tpr, label=f\"ROC AUC={round(auc, 3)}\")\n",
    "\n",
    "        ax.set_title(f\"\\nDigit {digit}\", fontsize=16)\n",
    "        if r == 1:\n",
    "            ax.set_xlabel(\"FPR\", fontsize=18)\n",
    "\n",
    "        if c == 0:\n",
    "            ax.set_ylabel(\"TPR\", fontsize=18)\n",
    "\n",
    "        ax.set_xlim([-0.05, 1.05])\n",
    "        ax.set_ylim([-0.05, 1.05])\n",
    "        ax.legend(loc=\"lower right\", frameon=False, fontsize=14)\n",
    "\n",
    "    fig.tight_layout()\n",
    "    fig.suptitle(\n",
    "        f\"ROC plots for one-vs-rest performances \"\n",
    "        f\"(on evaluation data, n={y_pred_probs_test.shape[1]}\",\n",
    "        fontsize=22,\n",
    "    )\n",
    "    fig.tight_layout()\n",
    "    fig.show()\n",
    "\n",
    "    return roc_auc_dict, fig\n",
    "\n",
    "\n",
    "roc_auc_dict, fig = plot_roc_curves(y_test, y_pred_probs_test)"
   ]
  },
  {
   "cell_type": "code",
   "execution_count": 16,
   "id": "f565f5fa",
   "metadata": {
    "execution": {
     "iopub.execute_input": "2022-12-02T06:43:42.676851Z",
     "iopub.status.busy": "2022-12-02T06:43:42.676572Z",
     "iopub.status.idle": "2022-12-02T06:43:43.008054Z",
     "shell.execute_reply": "2022-12-02T06:43:43.007306Z"
    },
    "papermill": {
     "duration": 0.341751,
     "end_time": "2022-12-02T06:43:43.009868",
     "exception": false,
     "start_time": "2022-12-02T06:43:42.668117",
     "status": "completed"
    },
    "tags": []
   },
   "outputs": [],
   "source": [
    "logger.log_figure(\"per-digit-roc-curves.png\", fig)"
   ]
  },
  {
   "cell_type": "code",
   "execution_count": 17,
   "id": "3c4c153a",
   "metadata": {
    "execution": {
     "iopub.execute_input": "2022-12-02T06:43:43.028952Z",
     "iopub.status.busy": "2022-12-02T06:43:43.028539Z",
     "iopub.status.idle": "2022-12-02T06:43:43.036240Z",
     "shell.execute_reply": "2022-12-02T06:43:43.035091Z"
    },
    "papermill": {
     "duration": 0.022468,
     "end_time": "2022-12-02T06:43:43.040788",
     "exception": false,
     "start_time": "2022-12-02T06:43:43.018320",
     "status": "completed"
    },
    "tags": []
   },
   "outputs": [
    {
     "data": {
      "text/plain": [
       "{'0': 1.0,\n",
       " '1': 0.9992502343017807,\n",
       " '2': 1.0,\n",
       " '3': 0.9997750702905343,\n",
       " '4': 0.9990855052583447,\n",
       " '5': 0.9988003748828491,\n",
       " '6': 0.999923792104862,\n",
       " '7': 0.9998475842097241,\n",
       " '8': 0.9942859394703657,\n",
       " '9': 0.998818777625362}"
      ]
     },
     "execution_count": 17,
     "metadata": {},
     "output_type": "execute_result"
    }
   ],
   "source": [
    "roc_auc_dict"
   ]
  },
  {
   "cell_type": "code",
   "execution_count": 18,
   "id": "2c840724",
   "metadata": {
    "execution": {
     "iopub.execute_input": "2022-12-02T06:43:43.058216Z",
     "iopub.status.busy": "2022-12-02T06:43:43.057754Z",
     "iopub.status.idle": "2022-12-02T06:43:43.062975Z",
     "shell.execute_reply": "2022-12-02T06:43:43.062048Z"
    },
    "papermill": {
     "duration": 0.017725,
     "end_time": "2022-12-02T06:43:43.066770",
     "exception": false,
     "start_time": "2022-12-02T06:43:43.049045",
     "status": "completed"
    },
    "tags": []
   },
   "outputs": [
    {
     "name": "stdout",
     "output_type": "stream",
     "text": [
      " - Logging roc_auc_per_digit (json) : {'0': 1.0, '1': 0.9992502343017807, '2': 1.0, '3': 0.9997750702905343, '4': 0.9990855052583447, '5': 0.9988003748828491, '6': 0.999923792104862, '7': 0.9998475842097241, '8': 0.9942859394703657, '9': 0.998818777625362}\n"
     ]
    }
   ],
   "source": [
    "logger.log_value(\"roc_auc_per_digit\", roc_auc_dict)"
   ]
  },
  {
   "cell_type": "markdown",
   "id": "b7bd8054",
   "metadata": {
    "papermill": {
     "duration": 0.007681,
     "end_time": "2022-12-02T06:43:43.083333",
     "exception": false,
     "start_time": "2022-12-02T06:43:43.075652",
     "status": "completed"
    },
    "tags": []
   },
   "source": [
    "### Compute and log mean ROC AUC score averaged over all digits"
   ]
  },
  {
   "cell_type": "code",
   "execution_count": 19,
   "id": "0fe36c32",
   "metadata": {
    "execution": {
     "iopub.execute_input": "2022-12-02T06:43:43.114322Z",
     "iopub.status.busy": "2022-12-02T06:43:43.113885Z",
     "iopub.status.idle": "2022-12-02T06:43:43.130405Z",
     "shell.execute_reply": "2022-12-02T06:43:43.127453Z"
    },
    "papermill": {
     "duration": 0.037716,
     "end_time": "2022-12-02T06:43:43.136079",
     "exception": false,
     "start_time": "2022-12-02T06:43:43.098363",
     "status": "completed"
    },
    "tags": []
   },
   "outputs": [
    {
     "name": "stdout",
     "output_type": "stream",
     "text": [
      " - Logging roc_auc_class_mean (float) : 0.9989787278143822\n"
     ]
    }
   ],
   "source": [
    "roc_auc_macro = np.mean(list(roc_auc_dict.values()))\n",
    "\n",
    "logger.log_float(\"roc_auc_class_mean\", roc_auc_macro)\n",
    "\n",
    "# assert that the same value can be computed directly using sklearn\n",
    "assert roc_auc_macro == metrics.roc_auc_score(\n",
    "    y_test, y_pred_probs_test, average=\"macro\", multi_class=\"ovr\"\n",
    ")"
   ]
  },
  {
   "cell_type": "code",
   "execution_count": 20,
   "id": "924be470",
   "metadata": {
    "execution": {
     "iopub.execute_input": "2022-12-02T06:43:43.158751Z",
     "iopub.status.busy": "2022-12-02T06:43:43.157900Z",
     "iopub.status.idle": "2022-12-02T06:43:43.163740Z",
     "shell.execute_reply": "2022-12-02T06:43:43.162885Z"
    },
    "lines_to_next_cell": 0,
    "papermill": {
     "duration": 0.020133,
     "end_time": "2022-12-02T06:43:43.168653",
     "exception": false,
     "start_time": "2022-12-02T06:43:43.148520",
     "status": "completed"
    },
    "tags": []
   },
   "outputs": [],
   "source": [
    "# ---"
   ]
  },
  {
   "cell_type": "code",
   "execution_count": null,
   "id": "d0740007",
   "metadata": {
    "papermill": {
     "duration": 0.008384,
     "end_time": "2022-12-02T06:43:43.185458",
     "exception": false,
     "start_time": "2022-12-02T06:43:43.177074",
     "status": "completed"
    },
    "tags": []
   },
   "outputs": [],
   "source": []
  }
 ],
 "metadata": {
  "jupytext": {
   "cell_metadata_filter": "tags,-all",
   "main_language": "python",
   "notebook_metadata_filter": "-all"
  },
  "language_info": {
   "codemirror_mode": {
    "name": "ipython",
    "version": 3
   },
   "file_extension": ".py",
   "mimetype": "text/x-python",
   "name": "python",
   "nbconvert_exporter": "python",
   "pygments_lexer": "ipython3",
   "version": "3.8.10"
  },
  "papermill": {
   "default_parameters": {},
   "duration": 11.390045,
   "end_time": "2022-12-02T06:43:44.420389",
   "environment_variables": {},
   "exception": null,
   "input_path": "/home/host_user/workspace/mnist-demo-pipeline/mnist-demo-pipeline/notebooks/temp-notebook-a17dkq7m.ipynb",
   "output_path": "notebooks/benchmark-model.ipynb",
   "parameters": {
    "P": {
     "_opentelemetry_traceparent": "00-a311194a9e76b94214368f783f39d555-0e3aa6c5bf9a536a-01",
     "pipeline.data_lake_root": "/pipeline-outputs/data-lake",
     "pipeline.github.actor": "matiasdahl",
     "pipeline.github.base_ref": "",
     "pipeline.github.event_name": "schedule",
     "pipeline.github.head_ref": "",
     "pipeline.github.job": "run-tests-pipeline-and-persist-pipeline-outputs",
     "pipeline.github.ref": "refs/heads/development",
     "pipeline.github.ref_name": "development",
     "pipeline.github.ref_type": "branch",
     "pipeline.github.repository": "matiasdahl/dev-mnist-digits-demo-pipeline",
     "pipeline.github.run_id": "3599489336",
     "pipeline.github.runner_name": "Hosted Agent",
     "pipeline.github.sha": "ace0d01011d5e914f1921450dd5a59c11367b38d",
     "pipeline.github.workflow": "Run automated tests, pipeline and deploy results to static reporting site",
     "pipeline.pipeline_run_id": "1a82e5be-f00d-4b24-960b-21f4c1aa5efd",
     "pipeline.run_environment": "ci",
     "run.retry_nr": "0",
     "task.max_nr_retries": "1",
     "task.notebook": "notebooks/benchmark-model.py",
     "task.nr_train_images": 600,
     "task.num_cpus": 1,
     "task.timeout_s": "None"
    }
   },
   "start_time": "2022-12-02T06:43:33.030344",
   "version": "2.3.3"
  }
 },
 "nbformat": 4,
 "nbformat_minor": 5
}