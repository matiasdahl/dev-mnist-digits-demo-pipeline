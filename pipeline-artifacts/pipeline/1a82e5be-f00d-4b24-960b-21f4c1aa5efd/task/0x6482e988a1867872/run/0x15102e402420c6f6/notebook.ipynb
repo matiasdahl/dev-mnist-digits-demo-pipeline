{
 "cells": [
  {
   "cell_type": "markdown",
   "id": "6546b2eb",
   "metadata": {
    "papermill": {
     "duration": 0.004152,
     "end_time": "2022-12-02T06:43:14.607361",
     "exception": false,
     "start_time": "2022-12-02T06:43:14.603209",
     "status": "completed"
    },
    "tags": []
   },
   "source": [
    "# Split digits and labels into separate training and testing data sets"
   ]
  },
  {
   "cell_type": "markdown",
   "id": "1ed8a254",
   "metadata": {
    "papermill": {
     "duration": 0.002551,
     "end_time": "2022-12-02T06:43:14.612961",
     "exception": false,
     "start_time": "2022-12-02T06:43:14.610410",
     "status": "completed"
    },
    "tags": []
   },
   "source": [
    "### Determine run parameters"
   ]
  },
  {
   "cell_type": "code",
   "execution_count": 1,
   "id": "f0a81e26",
   "metadata": {
    "execution": {
     "iopub.execute_input": "2022-12-02T06:43:14.620489Z",
     "iopub.status.busy": "2022-12-02T06:43:14.619549Z",
     "iopub.status.idle": "2022-12-02T06:43:14.628712Z",
     "shell.execute_reply": "2022-12-02T06:43:14.628012Z"
    },
    "lines_to_next_cell": 0,
    "papermill": {
     "duration": 0.014827,
     "end_time": "2022-12-02T06:43:14.630447",
     "exception": false,
     "start_time": "2022-12-02T06:43:14.615620",
     "status": "completed"
    },
    "tags": []
   },
   "outputs": [],
   "source": [
    "# ----------------- Parameters for interactive development --------------\n",
    "P = {\n",
    "    \"pipeline.data_lake_root\": \"/pipeline-outputs/data-lake\",\n",
    "    \"task.train_test_ratio\": 0.7,\n",
    "}"
   ]
  },
  {
   "cell_type": "code",
   "execution_count": 2,
   "id": "95960c73",
   "metadata": {
    "execution": {
     "iopub.execute_input": "2022-12-02T06:43:14.637577Z",
     "iopub.status.busy": "2022-12-02T06:43:14.637084Z",
     "iopub.status.idle": "2022-12-02T06:43:14.640591Z",
     "shell.execute_reply": "2022-12-02T06:43:14.639851Z"
    },
    "lines_to_next_cell": 0,
    "papermill": {
     "duration": 0.009129,
     "end_time": "2022-12-02T06:43:14.642213",
     "exception": false,
     "start_time": "2022-12-02T06:43:14.633084",
     "status": "completed"
    },
    "tags": [
     "parameters"
    ]
   },
   "outputs": [],
   "source": [
    "# - During automated runs parameters will be injected in the below cell -"
   ]
  },
  {
   "cell_type": "code",
   "execution_count": 3,
   "id": "b449b290",
   "metadata": {
    "execution": {
     "iopub.execute_input": "2022-12-02T06:43:14.651792Z",
     "iopub.status.busy": "2022-12-02T06:43:14.650314Z",
     "iopub.status.idle": "2022-12-02T06:43:14.656514Z",
     "shell.execute_reply": "2022-12-02T06:43:14.655660Z"
    },
    "papermill": {
     "duration": 0.013585,
     "end_time": "2022-12-02T06:43:14.658557",
     "exception": false,
     "start_time": "2022-12-02T06:43:14.644972",
     "status": "completed"
    },
    "tags": [
     "injected-parameters"
    ]
   },
   "outputs": [],
   "source": [
    "# Parameters\n",
    "P = {\n",
    "    \"pipeline.data_lake_root\": \"/pipeline-outputs/data-lake\",\n",
    "    \"pipeline.run_environment\": \"ci\",\n",
    "    \"pipeline.pipeline_run_id\": \"1a82e5be-f00d-4b24-960b-21f4c1aa5efd\",\n",
    "    \"pipeline.github.repository\": \"matiasdahl/dev-mnist-digits-demo-pipeline\",\n",
    "    \"pipeline.github.workflow\": \"Run automated tests, pipeline and deploy results to static reporting site\",\n",
    "    \"pipeline.github.runner_name\": \"Hosted Agent\",\n",
    "    \"pipeline.github.run_id\": \"3599489336\",\n",
    "    \"pipeline.github.actor\": \"matiasdahl\",\n",
    "    \"pipeline.github.job\": \"run-tests-pipeline-and-persist-pipeline-outputs\",\n",
    "    \"pipeline.github.base_ref\": \"\",\n",
    "    \"pipeline.github.head_ref\": \"\",\n",
    "    \"pipeline.github.sha\": \"ace0d01011d5e914f1921450dd5a59c11367b38d\",\n",
    "    \"pipeline.github.ref\": \"refs/heads/development\",\n",
    "    \"pipeline.github.ref_type\": \"branch\",\n",
    "    \"pipeline.github.ref_name\": \"development\",\n",
    "    \"pipeline.github.event_name\": \"schedule\",\n",
    "    \"task.train_test_ratio\": 0.7,\n",
    "    \"task.notebook\": \"notebooks/split-train-test.py\",\n",
    "    \"task.max_nr_retries\": \"1\",\n",
    "    \"run.retry_nr\": \"0\",\n",
    "    \"task.timeout_s\": \"None\",\n",
    "    \"task.num_cpus\": 1,\n",
    "    \"_opentelemetry_traceparent\": \"00-a311194a9e76b94214368f783f39d555-a12187e44e9e19d2-01\",\n",
    "}\n"
   ]
  },
  {
   "cell_type": "code",
   "execution_count": 4,
   "id": "b570063d",
   "metadata": {
    "execution": {
     "iopub.execute_input": "2022-12-02T06:43:14.672429Z",
     "iopub.status.busy": "2022-12-02T06:43:14.671823Z",
     "iopub.status.idle": "2022-12-02T06:43:14.675338Z",
     "shell.execute_reply": "2022-12-02T06:43:14.674578Z"
    },
    "lines_to_next_cell": 0,
    "papermill": {
     "duration": 0.011416,
     "end_time": "2022-12-02T06:43:14.677466",
     "exception": false,
     "start_time": "2022-12-02T06:43:14.666050",
     "status": "completed"
    },
    "tags": []
   },
   "outputs": [],
   "source": [
    "# -----------------------------------------------------------------------"
   ]
  },
  {
   "cell_type": "markdown",
   "id": "a5f15bc7",
   "metadata": {
    "papermill": {
     "duration": 0.003203,
     "end_time": "2022-12-02T06:43:14.683668",
     "exception": false,
     "start_time": "2022-12-02T06:43:14.680465",
     "status": "completed"
    },
    "tags": []
   },
   "source": [
    "---"
   ]
  },
  {
   "cell_type": "markdown",
   "id": "12d0dacd",
   "metadata": {
    "lines_to_next_cell": 2,
    "papermill": {
     "duration": 0.003807,
     "end_time": "2022-12-02T06:43:14.690469",
     "exception": false,
     "start_time": "2022-12-02T06:43:14.686662",
     "status": "completed"
    },
    "tags": []
   },
   "source": [
    "### Notebook code"
   ]
  },
  {
   "cell_type": "code",
   "execution_count": 5,
   "id": "81021974",
   "metadata": {
    "execution": {
     "iopub.execute_input": "2022-12-02T06:43:14.697471Z",
     "iopub.status.busy": "2022-12-02T06:43:14.697157Z",
     "iopub.status.idle": "2022-12-02T06:43:15.311356Z",
     "shell.execute_reply": "2022-12-02T06:43:15.310575Z"
    },
    "papermill": {
     "duration": 0.620936,
     "end_time": "2022-12-02T06:43:15.314187",
     "exception": false,
     "start_time": "2022-12-02T06:43:14.693251",
     "status": "completed"
    },
    "tags": []
   },
   "outputs": [
    {
     "name": "stderr",
     "output_type": "stream",
     "text": [
      "2022-12-02 06:43:15,122\tINFO worker.py:842 -- Connecting to existing Ray cluster at address: 172.17.0.2:6379\n"
     ]
    }
   ],
   "source": [
    "from common.io import datalake_root, read_numpy, write_numpy\n",
    "from pynb_dag_runner.tasks.task_opentelemetry_logging import PydarLogger\n",
    "\n",
    "logger = PydarLogger(P)"
   ]
  },
  {
   "cell_type": "markdown",
   "id": "6a7e5260",
   "metadata": {
    "papermill": {
     "duration": 0.003818,
     "end_time": "2022-12-02T06:43:15.321344",
     "exception": false,
     "start_time": "2022-12-02T06:43:15.317526",
     "status": "completed"
    },
    "tags": []
   },
   "source": [
    "## Load and split digits data"
   ]
  },
  {
   "cell_type": "code",
   "execution_count": 6,
   "id": "e060c5dd",
   "metadata": {
    "execution": {
     "iopub.execute_input": "2022-12-02T06:43:15.328997Z",
     "iopub.status.busy": "2022-12-02T06:43:15.328608Z",
     "iopub.status.idle": "2022-12-02T06:43:15.334944Z",
     "shell.execute_reply": "2022-12-02T06:43:15.334358Z"
    },
    "papermill": {
     "duration": 0.013227,
     "end_time": "2022-12-02T06:43:15.337578",
     "exception": false,
     "start_time": "2022-12-02T06:43:15.324351",
     "status": "completed"
    },
    "tags": []
   },
   "outputs": [],
   "source": [
    "X = read_numpy(datalake_root(P) / \"raw\" / \"digits.numpy\")\n",
    "y = read_numpy(datalake_root(P) / \"raw\" / \"labels.numpy\")"
   ]
  },
  {
   "cell_type": "code",
   "execution_count": 7,
   "id": "a18d77fc",
   "metadata": {
    "execution": {
     "iopub.execute_input": "2022-12-02T06:43:15.345227Z",
     "iopub.status.busy": "2022-12-02T06:43:15.344941Z",
     "iopub.status.idle": "2022-12-02T06:43:15.862119Z",
     "shell.execute_reply": "2022-12-02T06:43:15.861423Z"
    },
    "papermill": {
     "duration": 0.523527,
     "end_time": "2022-12-02T06:43:15.864195",
     "exception": false,
     "start_time": "2022-12-02T06:43:15.340668",
     "status": "completed"
    },
    "tags": []
   },
   "outputs": [],
   "source": [
    "from sklearn.model_selection import train_test_split\n",
    "\n",
    "X_train, X_test, y_train, y_test = train_test_split(\n",
    "    X,\n",
    "    y,\n",
    "    train_size=P[\"task.train_test_ratio\"],\n",
    "    test_size=None,\n",
    "    stratify=y,\n",
    "    shuffle=True,\n",
    "    random_state=1,\n",
    ")\n",
    "\n",
    "# assert nr of pixels per image is the same for all image vectors\n",
    "assert X.shape[1] == X_train.shape[1] == X_test.shape[1]\n",
    "\n",
    "# assert that the (X, y)-pairs have compatible sizes (for both train and test)\n",
    "assert X_train.shape[0] == len(y_train)\n",
    "assert X_test.shape[0] == len(y_test)\n",
    "\n",
    "# assert that all data is used\n",
    "assert len(y) == len(y_train) + len(y_test)"
   ]
  },
  {
   "cell_type": "code",
   "execution_count": 8,
   "id": "18d6d101",
   "metadata": {
    "execution": {
     "iopub.execute_input": "2022-12-02T06:43:15.872744Z",
     "iopub.status.busy": "2022-12-02T06:43:15.871897Z",
     "iopub.status.idle": "2022-12-02T06:43:15.878979Z",
     "shell.execute_reply": "2022-12-02T06:43:15.878274Z"
    },
    "papermill": {
     "duration": 0.012916,
     "end_time": "2022-12-02T06:43:15.880797",
     "exception": false,
     "start_time": "2022-12-02T06:43:15.867881",
     "status": "completed"
    },
    "tags": []
   },
   "outputs": [
    {
     "name": "stdout",
     "output_type": "stream",
     "text": [
      " - Logging nr_digits_train (int) : 1257\n",
      " - Logging nr_digits_test (int) : 540\n"
     ]
    }
   ],
   "source": [
    "logger.log_int(\"nr_digits_train\", len(y_train))\n",
    "logger.log_int(\"nr_digits_test\", len(y_test))"
   ]
  },
  {
   "cell_type": "markdown",
   "id": "7780b79a",
   "metadata": {
    "papermill": {
     "duration": 0.003705,
     "end_time": "2022-12-02T06:43:15.887540",
     "exception": false,
     "start_time": "2022-12-02T06:43:15.883835",
     "status": "completed"
    },
    "tags": []
   },
   "source": [
    "### Persist training and test data sets to separate files"
   ]
  },
  {
   "cell_type": "code",
   "execution_count": 9,
   "id": "7e6bc47d",
   "metadata": {
    "execution": {
     "iopub.execute_input": "2022-12-02T06:43:15.894981Z",
     "iopub.status.busy": "2022-12-02T06:43:15.894620Z",
     "iopub.status.idle": "2022-12-02T06:43:15.904774Z",
     "shell.execute_reply": "2022-12-02T06:43:15.903751Z"
    },
    "papermill": {
     "duration": 0.016714,
     "end_time": "2022-12-02T06:43:15.907573",
     "exception": false,
     "start_time": "2022-12-02T06:43:15.890859",
     "status": "completed"
    },
    "tags": []
   },
   "outputs": [],
   "source": [
    "write_numpy(datalake_root(P) / \"train-data\" / \"digits.numpy\", X_train)\n",
    "write_numpy(datalake_root(P) / \"train-data\" / \"labels.numpy\", y_train)\n",
    "\n",
    "#\n",
    "write_numpy(datalake_root(P) / \"test-data\" / \"digits.numpy\", X_test)\n",
    "write_numpy(datalake_root(P) / \"test-data\" / \"labels.numpy\", y_test)"
   ]
  },
  {
   "cell_type": "code",
   "execution_count": null,
   "id": "ca03fb06",
   "metadata": {
    "papermill": {
     "duration": 0.00293,
     "end_time": "2022-12-02T06:43:15.913858",
     "exception": false,
     "start_time": "2022-12-02T06:43:15.910928",
     "status": "completed"
    },
    "tags": []
   },
   "outputs": [],
   "source": []
  }
 ],
 "metadata": {
  "jupytext": {
   "cell_metadata_filter": "tags,-all",
   "main_language": "python",
   "notebook_metadata_filter": "-all"
  },
  "language_info": {
   "codemirror_mode": {
    "name": "ipython",
    "version": 3
   },
   "file_extension": ".py",
   "mimetype": "text/x-python",
   "name": "python",
   "nbconvert_exporter": "python",
   "pygments_lexer": "ipython3",
   "version": "3.8.10"
  },
  "papermill": {
   "default_parameters": {},
   "duration": 3.904803,
   "end_time": "2022-12-02T06:43:16.939240",
   "environment_variables": {},
   "exception": null,
   "input_path": "/home/host_user/workspace/mnist-demo-pipeline/mnist-demo-pipeline/notebooks/temp-notebook-zuh2c2ti.ipynb",
   "output_path": "notebooks/split-train-test.ipynb",
   "parameters": {
    "P": {
     "_opentelemetry_traceparent": "00-a311194a9e76b94214368f783f39d555-a12187e44e9e19d2-01",
     "pipeline.data_lake_root": "/pipeline-outputs/data-lake",
     "pipeline.github.actor": "matiasdahl",
     "pipeline.github.base_ref": "",
     "pipeline.github.event_name": "schedule",
     "pipeline.github.head_ref": "",
     "pipeline.github.job": "run-tests-pipeline-and-persist-pipeline-outputs",
     "pipeline.github.ref": "refs/heads/development",
     "pipeline.github.ref_name": "development",
     "pipeline.github.ref_type": "branch",
     "pipeline.github.repository": "matiasdahl/dev-mnist-digits-demo-pipeline",
     "pipeline.github.run_id": "3599489336",
     "pipeline.github.runner_name": "Hosted Agent",
     "pipeline.github.sha": "ace0d01011d5e914f1921450dd5a59c11367b38d",
     "pipeline.github.workflow": "Run automated tests, pipeline and deploy results to static reporting site",
     "pipeline.pipeline_run_id": "1a82e5be-f00d-4b24-960b-21f4c1aa5efd",
     "pipeline.run_environment": "ci",
     "run.retry_nr": "0",
     "task.max_nr_retries": "1",
     "task.notebook": "notebooks/split-train-test.py",
     "task.num_cpus": 1,
     "task.timeout_s": "None",
     "task.train_test_ratio": 0.7
    }
   },
   "start_time": "2022-12-02T06:43:13.034437",
   "version": "2.3.3"
  }
 },
 "nbformat": 4,
 "nbformat_minor": 5
}