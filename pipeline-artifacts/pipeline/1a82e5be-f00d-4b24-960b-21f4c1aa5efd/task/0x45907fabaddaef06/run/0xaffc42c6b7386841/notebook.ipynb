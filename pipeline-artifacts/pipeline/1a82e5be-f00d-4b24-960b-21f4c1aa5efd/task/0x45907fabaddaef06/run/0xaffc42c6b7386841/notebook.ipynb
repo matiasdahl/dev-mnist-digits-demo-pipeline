{
 "cells": [
  {
   "cell_type": "markdown",
   "id": "ac1c4b51",
   "metadata": {
    "papermill": {
     "duration": 0.0048,
     "end_time": "2022-12-02T06:43:20.247407",
     "exception": false,
     "start_time": "2022-12-02T06:43:20.242607",
     "status": "completed"
    },
    "tags": []
   },
   "source": [
    "# Train model\n",
    "\n",
    "The purpose of this notebook is:\n",
    "\n",
    "- Load all training data (images and labels).\n",
    "- Limit number of train images to `task.nr_train_images` (value provided as run parameter).\n",
    "- Train a support vector machine model using sklearn.\n",
    "- Persist the trained model using the ONNX format."
   ]
  },
  {
   "cell_type": "markdown",
   "id": "b1fd9f1b",
   "metadata": {
    "papermill": {
     "duration": 0.003422,
     "end_time": "2022-12-02T06:43:20.255310",
     "exception": false,
     "start_time": "2022-12-02T06:43:20.251888",
     "status": "completed"
    },
    "tags": []
   },
   "source": [
    "### Determine run parameters"
   ]
  },
  {
   "cell_type": "code",
   "execution_count": 1,
   "id": "22cbb110",
   "metadata": {
    "execution": {
     "iopub.execute_input": "2022-12-02T06:43:20.265051Z",
     "iopub.status.busy": "2022-12-02T06:43:20.264685Z",
     "iopub.status.idle": "2022-12-02T06:43:20.275421Z",
     "shell.execute_reply": "2022-12-02T06:43:20.274793Z"
    },
    "lines_to_next_cell": 0,
    "papermill": {
     "duration": 0.018253,
     "end_time": "2022-12-02T06:43:20.277467",
     "exception": false,
     "start_time": "2022-12-02T06:43:20.259214",
     "status": "completed"
    },
    "tags": []
   },
   "outputs": [],
   "source": [
    "# ----------------- Parameters for interactive development --------------\n",
    "P = {\n",
    "    \"pipeline.data_lake_root\": \"/pipeline-outputs/data-lake\",\n",
    "    \"task.nr_train_images\": 600,\n",
    "}"
   ]
  },
  {
   "cell_type": "code",
   "execution_count": 2,
   "id": "0974f142",
   "metadata": {
    "execution": {
     "iopub.execute_input": "2022-12-02T06:43:20.286440Z",
     "iopub.status.busy": "2022-12-02T06:43:20.286150Z",
     "iopub.status.idle": "2022-12-02T06:43:20.289865Z",
     "shell.execute_reply": "2022-12-02T06:43:20.289258Z"
    },
    "lines_to_next_cell": 0,
    "papermill": {
     "duration": 0.012164,
     "end_time": "2022-12-02T06:43:20.294160",
     "exception": false,
     "start_time": "2022-12-02T06:43:20.281996",
     "status": "completed"
    },
    "tags": [
     "parameters"
    ]
   },
   "outputs": [],
   "source": [
    "# - During automated runs parameters will be injected in the below cell -"
   ]
  },
  {
   "cell_type": "code",
   "execution_count": 3,
   "id": "7217fa7f",
   "metadata": {
    "execution": {
     "iopub.execute_input": "2022-12-02T06:43:20.303675Z",
     "iopub.status.busy": "2022-12-02T06:43:20.303391Z",
     "iopub.status.idle": "2022-12-02T06:43:20.308273Z",
     "shell.execute_reply": "2022-12-02T06:43:20.307598Z"
    },
    "papermill": {
     "duration": 0.015013,
     "end_time": "2022-12-02T06:43:20.312536",
     "exception": false,
     "start_time": "2022-12-02T06:43:20.297523",
     "status": "completed"
    },
    "tags": [
     "injected-parameters"
    ]
   },
   "outputs": [],
   "source": [
    "# Parameters\n",
    "P = {\n",
    "    \"pipeline.data_lake_root\": \"/pipeline-outputs/data-lake\",\n",
    "    \"pipeline.run_environment\": \"ci\",\n",
    "    \"pipeline.pipeline_run_id\": \"1a82e5be-f00d-4b24-960b-21f4c1aa5efd\",\n",
    "    \"pipeline.github.repository\": \"matiasdahl/dev-mnist-digits-demo-pipeline\",\n",
    "    \"pipeline.github.workflow\": \"Run automated tests, pipeline and deploy results to static reporting site\",\n",
    "    \"pipeline.github.runner_name\": \"Hosted Agent\",\n",
    "    \"pipeline.github.run_id\": \"3599489336\",\n",
    "    \"pipeline.github.actor\": \"matiasdahl\",\n",
    "    \"pipeline.github.job\": \"run-tests-pipeline-and-persist-pipeline-outputs\",\n",
    "    \"pipeline.github.base_ref\": \"\",\n",
    "    \"pipeline.github.head_ref\": \"\",\n",
    "    \"pipeline.github.sha\": \"ace0d01011d5e914f1921450dd5a59c11367b38d\",\n",
    "    \"pipeline.github.ref\": \"refs/heads/development\",\n",
    "    \"pipeline.github.ref_type\": \"branch\",\n",
    "    \"pipeline.github.ref_name\": \"development\",\n",
    "    \"pipeline.github.event_name\": \"schedule\",\n",
    "    \"task.nr_train_images\": 600,\n",
    "    \"task.notebook\": \"notebooks/train-model.py\",\n",
    "    \"task.max_nr_retries\": \"1\",\n",
    "    \"run.retry_nr\": \"0\",\n",
    "    \"task.timeout_s\": \"None\",\n",
    "    \"task.num_cpus\": 1,\n",
    "    \"_opentelemetry_traceparent\": \"00-a311194a9e76b94214368f783f39d555-1c9b7a0697d2b990-01\",\n",
    "}\n"
   ]
  },
  {
   "cell_type": "code",
   "execution_count": 4,
   "id": "68e7f34b",
   "metadata": {
    "execution": {
     "iopub.execute_input": "2022-12-02T06:43:20.321094Z",
     "iopub.status.busy": "2022-12-02T06:43:20.320790Z",
     "iopub.status.idle": "2022-12-02T06:43:20.324850Z",
     "shell.execute_reply": "2022-12-02T06:43:20.324166Z"
    },
    "lines_to_next_cell": 0,
    "papermill": {
     "duration": 0.012329,
     "end_time": "2022-12-02T06:43:20.328132",
     "exception": false,
     "start_time": "2022-12-02T06:43:20.315803",
     "status": "completed"
    },
    "tags": []
   },
   "outputs": [],
   "source": [
    "# -----------------------------------------------------------------------"
   ]
  },
  {
   "cell_type": "markdown",
   "id": "7ef8b354",
   "metadata": {
    "papermill": {
     "duration": 0.003821,
     "end_time": "2022-12-02T06:43:20.344549",
     "exception": false,
     "start_time": "2022-12-02T06:43:20.340728",
     "status": "completed"
    },
    "tags": []
   },
   "source": [
    "---"
   ]
  },
  {
   "cell_type": "markdown",
   "id": "d0de1301",
   "metadata": {
    "lines_to_next_cell": 2,
    "papermill": {
     "duration": 0.003836,
     "end_time": "2022-12-02T06:43:20.353489",
     "exception": false,
     "start_time": "2022-12-02T06:43:20.349653",
     "status": "completed"
    },
    "tags": []
   },
   "source": [
    "### Notebook code"
   ]
  },
  {
   "cell_type": "code",
   "execution_count": 5,
   "id": "81311a49",
   "metadata": {
    "execution": {
     "iopub.execute_input": "2022-12-02T06:43:20.363428Z",
     "iopub.status.busy": "2022-12-02T06:43:20.363092Z",
     "iopub.status.idle": "2022-12-02T06:43:20.977934Z",
     "shell.execute_reply": "2022-12-02T06:43:20.976988Z"
    },
    "papermill": {
     "duration": 0.622235,
     "end_time": "2022-12-02T06:43:20.980314",
     "exception": false,
     "start_time": "2022-12-02T06:43:20.358079",
     "status": "completed"
    },
    "tags": []
   },
   "outputs": [
    {
     "name": "stderr",
     "output_type": "stream",
     "text": [
      "2022-12-02 06:43:20,797\tINFO worker.py:842 -- Connecting to existing Ray cluster at address: 172.17.0.2:6379\n"
     ]
    }
   ],
   "source": [
    "from pynb_dag_runner.tasks.task_opentelemetry_logging import PydarLogger\n",
    "\n",
    "logger = PydarLogger(P)"
   ]
  },
  {
   "cell_type": "markdown",
   "id": "b3d2cf10",
   "metadata": {
    "papermill": {
     "duration": 0.004996,
     "end_time": "2022-12-02T06:43:20.989700",
     "exception": false,
     "start_time": "2022-12-02T06:43:20.984704",
     "status": "completed"
    },
    "tags": []
   },
   "source": [
    "## Load and limit train data"
   ]
  },
  {
   "cell_type": "code",
   "execution_count": 6,
   "id": "853714a6",
   "metadata": {
    "execution": {
     "iopub.execute_input": "2022-12-02T06:43:21.000888Z",
     "iopub.status.busy": "2022-12-02T06:43:21.000377Z",
     "iopub.status.idle": "2022-12-02T06:43:21.549610Z",
     "shell.execute_reply": "2022-12-02T06:43:21.548947Z"
    },
    "papermill": {
     "duration": 0.55828,
     "end_time": "2022-12-02T06:43:21.552090",
     "exception": false,
     "start_time": "2022-12-02T06:43:20.993810",
     "status": "completed"
    },
    "tags": []
   },
   "outputs": [],
   "source": [
    "def load_and_limit_train_data(P):\n",
    "    from common.io import datalake_root, read_numpy\n",
    "    from sklearn.model_selection import train_test_split\n",
    "\n",
    "    X_train_all = read_numpy(datalake_root(P) / \"train-data\" / \"digits.numpy\")\n",
    "    y_train_all = read_numpy(datalake_root(P) / \"train-data\" / \"labels.numpy\")\n",
    "\n",
    "    assert isinstance(P[\"task.nr_train_images\"], int)\n",
    "\n",
    "    # Note: train_test_split will fail if split is 0 or 100%.\n",
    "    assert 0 < P[\"task.nr_train_images\"] < len(y_train_all)\n",
    "\n",
    "    X_train, _, y_train, _ = train_test_split(\n",
    "        X_train_all,\n",
    "        y_train_all,\n",
    "        train_size=P[\"task.nr_train_images\"],\n",
    "        test_size=None,\n",
    "        stratify=y_train_all,\n",
    "        shuffle=True,\n",
    "        random_state=123,\n",
    "    )\n",
    "\n",
    "    assert X_train.shape == (len(y_train), 8 * 8)\n",
    "    return X_train, y_train\n",
    "\n",
    "\n",
    "X_train, y_train = load_and_limit_train_data(P)"
   ]
  },
  {
   "cell_type": "markdown",
   "id": "42d5003f",
   "metadata": {
    "papermill": {
     "duration": 0.003724,
     "end_time": "2022-12-02T06:43:21.562886",
     "exception": false,
     "start_time": "2022-12-02T06:43:21.559162",
     "status": "completed"
    },
    "tags": []
   },
   "source": [
    "## Train support vector classifier model\n",
    "\n",
    "Below we assume that the hyperparameter $C$ is known.\n",
    "\n",
    "However, this should ideally be found by a hyperparameter search. That could be\n",
    "done in parallel on the Ray cluster, but this needs some more work. Ie., to use\n",
    "multiple cores in the notebook, those cores should be reserved when starting the\n",
    "notebook task (TODO).\n",
    "\n",
    "- https://docs.ray.io/en/latest/tune/key-concepts.html\n",
    "\n",
    "Note: cv-scores would need to be computed here, since they depend on the train data.\n",
    "After this notebook only the onnx-model is available."
   ]
  },
  {
   "cell_type": "code",
   "execution_count": 7,
   "id": "74ed6adc",
   "metadata": {
    "execution": {
     "iopub.execute_input": "2022-12-02T06:43:21.573049Z",
     "iopub.status.busy": "2022-12-02T06:43:21.572740Z",
     "iopub.status.idle": "2022-12-02T06:43:21.701303Z",
     "shell.execute_reply": "2022-12-02T06:43:21.700396Z"
    },
    "papermill": {
     "duration": 0.136677,
     "end_time": "2022-12-02T06:43:21.703479",
     "exception": false,
     "start_time": "2022-12-02T06:43:21.566802",
     "status": "completed"
    },
    "tags": []
   },
   "outputs": [],
   "source": [
    "from sklearn.svm import SVC"
   ]
  },
  {
   "cell_type": "code",
   "execution_count": 8,
   "id": "2ef17b98",
   "metadata": {
    "execution": {
     "iopub.execute_input": "2022-12-02T06:43:21.712941Z",
     "iopub.status.busy": "2022-12-02T06:43:21.712632Z",
     "iopub.status.idle": "2022-12-02T06:43:21.782034Z",
     "shell.execute_reply": "2022-12-02T06:43:21.781234Z"
    },
    "papermill": {
     "duration": 0.076623,
     "end_time": "2022-12-02T06:43:21.784082",
     "exception": false,
     "start_time": "2022-12-02T06:43:21.707459",
     "status": "completed"
    },
    "tags": []
   },
   "outputs": [
    {
     "data": {
      "text/html": [
       "<style>#sk-container-id-1 {color: black;background-color: white;}#sk-container-id-1 pre{padding: 0;}#sk-container-id-1 div.sk-toggleable {background-color: white;}#sk-container-id-1 label.sk-toggleable__label {cursor: pointer;display: block;width: 100%;margin-bottom: 0;padding: 0.3em;box-sizing: border-box;text-align: center;}#sk-container-id-1 label.sk-toggleable__label-arrow:before {content: \"▸\";float: left;margin-right: 0.25em;color: #696969;}#sk-container-id-1 label.sk-toggleable__label-arrow:hover:before {color: black;}#sk-container-id-1 div.sk-estimator:hover label.sk-toggleable__label-arrow:before {color: black;}#sk-container-id-1 div.sk-toggleable__content {max-height: 0;max-width: 0;overflow: hidden;text-align: left;background-color: #f0f8ff;}#sk-container-id-1 div.sk-toggleable__content pre {margin: 0.2em;color: black;border-radius: 0.25em;background-color: #f0f8ff;}#sk-container-id-1 input.sk-toggleable__control:checked~div.sk-toggleable__content {max-height: 200px;max-width: 100%;overflow: auto;}#sk-container-id-1 input.sk-toggleable__control:checked~label.sk-toggleable__label-arrow:before {content: \"▾\";}#sk-container-id-1 div.sk-estimator input.sk-toggleable__control:checked~label.sk-toggleable__label {background-color: #d4ebff;}#sk-container-id-1 div.sk-label input.sk-toggleable__control:checked~label.sk-toggleable__label {background-color: #d4ebff;}#sk-container-id-1 input.sk-hidden--visually {border: 0;clip: rect(1px 1px 1px 1px);clip: rect(1px, 1px, 1px, 1px);height: 1px;margin: -1px;overflow: hidden;padding: 0;position: absolute;width: 1px;}#sk-container-id-1 div.sk-estimator {font-family: monospace;background-color: #f0f8ff;border: 1px dotted black;border-radius: 0.25em;box-sizing: border-box;margin-bottom: 0.5em;}#sk-container-id-1 div.sk-estimator:hover {background-color: #d4ebff;}#sk-container-id-1 div.sk-parallel-item::after {content: \"\";width: 100%;border-bottom: 1px solid gray;flex-grow: 1;}#sk-container-id-1 div.sk-label:hover label.sk-toggleable__label {background-color: #d4ebff;}#sk-container-id-1 div.sk-serial::before {content: \"\";position: absolute;border-left: 1px solid gray;box-sizing: border-box;top: 0;bottom: 0;left: 50%;z-index: 0;}#sk-container-id-1 div.sk-serial {display: flex;flex-direction: column;align-items: center;background-color: white;padding-right: 0.2em;padding-left: 0.2em;position: relative;}#sk-container-id-1 div.sk-item {position: relative;z-index: 1;}#sk-container-id-1 div.sk-parallel {display: flex;align-items: stretch;justify-content: center;background-color: white;position: relative;}#sk-container-id-1 div.sk-item::before, #sk-container-id-1 div.sk-parallel-item::before {content: \"\";position: absolute;border-left: 1px solid gray;box-sizing: border-box;top: 0;bottom: 0;left: 50%;z-index: -1;}#sk-container-id-1 div.sk-parallel-item {display: flex;flex-direction: column;z-index: 1;position: relative;background-color: white;}#sk-container-id-1 div.sk-parallel-item:first-child::after {align-self: flex-end;width: 50%;}#sk-container-id-1 div.sk-parallel-item:last-child::after {align-self: flex-start;width: 50%;}#sk-container-id-1 div.sk-parallel-item:only-child::after {width: 0;}#sk-container-id-1 div.sk-dashed-wrapped {border: 1px dashed gray;margin: 0 0.4em 0.5em 0.4em;box-sizing: border-box;padding-bottom: 0.4em;background-color: white;}#sk-container-id-1 div.sk-label label {font-family: monospace;font-weight: bold;display: inline-block;line-height: 1.2em;}#sk-container-id-1 div.sk-label-container {text-align: center;}#sk-container-id-1 div.sk-container {/* jupyter's `normalize.less` sets `[hidden] { display: none; }` but bootstrap.min.css set `[hidden] { display: none !important; }` so we also need the `!important` here to be able to override the default hidden behavior on the sphinx rendered scikit-learn.org. See: https://github.com/scikit-learn/scikit-learn/issues/21755 */display: inline-block !important;position: relative;}#sk-container-id-1 div.sk-text-repr-fallback {display: none;}</style><div id=\"sk-container-id-1\" class=\"sk-top-container\"><div class=\"sk-text-repr-fallback\"><pre>SVC(C=0.001, kernel=&#x27;linear&#x27;, probability=True)</pre><b>In a Jupyter environment, please rerun this cell to show the HTML representation or trust the notebook. <br />On GitHub, the HTML representation is unable to render, please try loading this page with nbviewer.org.</b></div><div class=\"sk-container\" hidden><div class=\"sk-item\"><div class=\"sk-estimator sk-toggleable\"><input class=\"sk-toggleable__control sk-hidden--visually\" id=\"sk-estimator-id-1\" type=\"checkbox\" checked><label for=\"sk-estimator-id-1\" class=\"sk-toggleable__label sk-toggleable__label-arrow\">SVC</label><div class=\"sk-toggleable__content\"><pre>SVC(C=0.001, kernel=&#x27;linear&#x27;, probability=True)</pre></div></div></div></div></div>"
      ],
      "text/plain": [
       "SVC(C=0.001, kernel='linear', probability=True)"
      ]
     },
     "execution_count": 8,
     "metadata": {},
     "output_type": "execute_result"
    }
   ],
   "source": [
    "model = SVC(C=0.001, kernel=\"linear\", probability=True)\n",
    "\n",
    "model.fit(X_train, y_train)"
   ]
  },
  {
   "cell_type": "markdown",
   "id": "61873386",
   "metadata": {
    "papermill": {
     "duration": 0.004303,
     "end_time": "2022-12-02T06:43:21.792727",
     "exception": false,
     "start_time": "2022-12-02T06:43:21.788424",
     "status": "completed"
    },
    "tags": []
   },
   "source": [
    "### Q: Can the labels returned by `predict(..)` be computed from probabilities returned by the `predict_prob`-method?"
   ]
  },
  {
   "cell_type": "code",
   "execution_count": 9,
   "id": "f74ecbec",
   "metadata": {
    "execution": {
     "iopub.execute_input": "2022-12-02T06:43:21.802466Z",
     "iopub.status.busy": "2022-12-02T06:43:21.802092Z",
     "iopub.status.idle": "2022-12-02T06:43:21.832717Z",
     "shell.execute_reply": "2022-12-02T06:43:21.831883Z"
    },
    "papermill": {
     "duration": 0.038309,
     "end_time": "2022-12-02T06:43:21.835038",
     "exception": false,
     "start_time": "2022-12-02T06:43:21.796729",
     "status": "completed"
    },
    "tags": []
   },
   "outputs": [
    {
     "name": "stdout",
     "output_type": "stream",
     "text": [
      " - Logging nr_max_prob_neq_label (int) : 2\n"
     ]
    }
   ],
   "source": [
    "import numpy as np\n",
    "\n",
    "y_train_labels = model.predict(X_train)\n",
    "y_train_probabilities = model.predict_proba(X_train)\n",
    "assert y_train_probabilities.shape == (len(y_train), 10)\n",
    "\n",
    "y_train_max_prob_labels = np.argmax(y_train_probabilities, axis=1)\n",
    "assert y_train_labels.shape == y_train_max_prob_labels.shape == y_train.shape\n",
    "\n",
    "# If the predicted labels would coincide with the labels that have\n",
    "# maximum probability, the below number would be zero\n",
    "logger.log_int(\n",
    "    \"nr_max_prob_neq_label\", int(sum(y_train_max_prob_labels != y_train_labels))\n",
    ")"
   ]
  },
  {
   "cell_type": "markdown",
   "id": "2f6fc1b1",
   "metadata": {
    "papermill": {
     "duration": 0.006564,
     "end_time": "2022-12-02T06:43:21.845631",
     "exception": false,
     "start_time": "2022-12-02T06:43:21.839067",
     "status": "completed"
    },
    "tags": []
   },
   "source": [
    "The explanation is (likely) explained in the SVC source, see\n",
    "[here](https://github.com/scikit-learn/scikit-learn/blob/main/sklearn/svm/_base.py).\n",
    "Namely, the outputs from `predict(..)` and `predict_proba(..)` may not in some\n",
    "cases be compatible since the latter is computed using cross-validation while\n",
    "the former is not. Thus, the above number need not be zero."
   ]
  },
  {
   "cell_type": "markdown",
   "id": "5c82396d",
   "metadata": {
    "papermill": {
     "duration": 0.003928,
     "end_time": "2022-12-02T06:43:21.853642",
     "exception": false,
     "start_time": "2022-12-02T06:43:21.849714",
     "status": "completed"
    },
    "tags": []
   },
   "source": [
    "## Persist model"
   ]
  },
  {
   "cell_type": "code",
   "execution_count": 10,
   "id": "608c1174",
   "metadata": {
    "execution": {
     "iopub.execute_input": "2022-12-02T06:43:21.864287Z",
     "iopub.status.busy": "2022-12-02T06:43:21.863505Z",
     "iopub.status.idle": "2022-12-02T06:43:23.349143Z",
     "shell.execute_reply": "2022-12-02T06:43:23.347592Z"
    },
    "papermill": {
     "duration": 1.493415,
     "end_time": "2022-12-02T06:43:23.351249",
     "exception": false,
     "start_time": "2022-12-02T06:43:21.857834",
     "status": "completed"
    },
    "tags": []
   },
   "outputs": [],
   "source": [
    "from skl2onnx import convert_sklearn\n",
    "from skl2onnx.common.data_types import FloatTensorType\n",
    "\n",
    "#\n",
    "from common.io import datalake_root, write_onnx"
   ]
  },
  {
   "cell_type": "code",
   "execution_count": 11,
   "id": "62909fd4",
   "metadata": {
    "execution": {
     "iopub.execute_input": "2022-12-02T06:43:23.363295Z",
     "iopub.status.busy": "2022-12-02T06:43:23.362762Z",
     "iopub.status.idle": "2022-12-02T06:43:23.409982Z",
     "shell.execute_reply": "2022-12-02T06:43:23.409084Z"
    },
    "papermill": {
     "duration": 0.055708,
     "end_time": "2022-12-02T06:43:23.412089",
     "exception": false,
     "start_time": "2022-12-02T06:43:23.356381",
     "status": "completed"
    },
    "tags": []
   },
   "outputs": [],
   "source": [
    "# convert sklearn model into onnx and persist to data lake\n",
    "\n",
    "model_onnx = convert_sklearn(\n",
    "    model, initial_types=[(\"float_input_8x8_image\", FloatTensorType([None, 8 * 8]))]\n",
    ")\n",
    "write_onnx(\n",
    "    datalake_root(P)\n",
    "    / \"models\"\n",
    "    / f\"nr_train_images={P['task.nr_train_images']}\"\n",
    "    / \"model.onnx\",\n",
    "    model_onnx,\n",
    ")"
   ]
  },
  {
   "cell_type": "code",
   "execution_count": null,
   "id": "14b36b92",
   "metadata": {
    "papermill": {
     "duration": 0.004768,
     "end_time": "2022-12-02T06:43:23.421021",
     "exception": false,
     "start_time": "2022-12-02T06:43:23.416253",
     "status": "completed"
    },
    "tags": []
   },
   "outputs": [],
   "source": []
  }
 ],
 "metadata": {
  "jupytext": {
   "cell_metadata_filter": "tags,-all",
   "main_language": "python",
   "notebook_metadata_filter": "-all"
  },
  "language_info": {
   "codemirror_mode": {
    "name": "ipython",
    "version": 3
   },
   "file_extension": ".py",
   "mimetype": "text/x-python",
   "name": "python",
   "nbconvert_exporter": "python",
   "pygments_lexer": "ipython3",
   "version": "3.8.10"
  },
  "papermill": {
   "default_parameters": {},
   "duration": 5.918602,
   "end_time": "2022-12-02T06:43:24.549703",
   "environment_variables": {},
   "exception": null,
   "input_path": "/home/host_user/workspace/mnist-demo-pipeline/mnist-demo-pipeline/notebooks/temp-notebook-c_b3oywp.ipynb",
   "output_path": "notebooks/train-model.ipynb",
   "parameters": {
    "P": {
     "_opentelemetry_traceparent": "00-a311194a9e76b94214368f783f39d555-1c9b7a0697d2b990-01",
     "pipeline.data_lake_root": "/pipeline-outputs/data-lake",
     "pipeline.github.actor": "matiasdahl",
     "pipeline.github.base_ref": "",
     "pipeline.github.event_name": "schedule",
     "pipeline.github.head_ref": "",
     "pipeline.github.job": "run-tests-pipeline-and-persist-pipeline-outputs",
     "pipeline.github.ref": "refs/heads/development",
     "pipeline.github.ref_name": "development",
     "pipeline.github.ref_type": "branch",
     "pipeline.github.repository": "matiasdahl/dev-mnist-digits-demo-pipeline",
     "pipeline.github.run_id": "3599489336",
     "pipeline.github.runner_name": "Hosted Agent",
     "pipeline.github.sha": "ace0d01011d5e914f1921450dd5a59c11367b38d",
     "pipeline.github.workflow": "Run automated tests, pipeline and deploy results to static reporting site",
     "pipeline.pipeline_run_id": "1a82e5be-f00d-4b24-960b-21f4c1aa5efd",
     "pipeline.run_environment": "ci",
     "run.retry_nr": "0",
     "task.max_nr_retries": "1",
     "task.notebook": "notebooks/train-model.py",
     "task.nr_train_images": 600,
     "task.num_cpus": 1,
     "task.timeout_s": "None"
    }
   },
   "start_time": "2022-12-02T06:43:18.631101",
   "version": "2.3.3"
  }
 },
 "nbformat": 4,
 "nbformat_minor": 5
}