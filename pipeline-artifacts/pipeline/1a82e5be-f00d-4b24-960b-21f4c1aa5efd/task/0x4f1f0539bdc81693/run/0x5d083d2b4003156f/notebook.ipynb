{
 "cells": [
  {
   "cell_type": "markdown",
   "id": "7da1ecdf",
   "metadata": {
    "papermill": {
     "duration": 0.007944,
     "end_time": "2022-12-02T06:43:41.415850",
     "exception": false,
     "start_time": "2022-12-02T06:43:41.407906",
     "status": "completed"
    },
    "tags": []
   },
   "source": [
    "# Benchmark model\n",
    "\n",
    "The purpose of this notebook is to benchmark persisted onnx-model (trained in the\n",
    "previous step) against evaluation set."
   ]
  },
  {
   "cell_type": "markdown",
   "id": "da179c15",
   "metadata": {
    "papermill": {
     "duration": 0.00593,
     "end_time": "2022-12-02T06:43:41.428024",
     "exception": false,
     "start_time": "2022-12-02T06:43:41.422094",
     "status": "completed"
    },
    "tags": []
   },
   "source": [
    "### Determine run parameters"
   ]
  },
  {
   "cell_type": "code",
   "execution_count": 1,
   "id": "3f9e02f1",
   "metadata": {
    "execution": {
     "iopub.execute_input": "2022-12-02T06:43:41.440540Z",
     "iopub.status.busy": "2022-12-02T06:43:41.440152Z",
     "iopub.status.idle": "2022-12-02T06:43:41.452571Z",
     "shell.execute_reply": "2022-12-02T06:43:41.450971Z"
    },
    "lines_to_next_cell": 0,
    "papermill": {
     "duration": 0.021025,
     "end_time": "2022-12-02T06:43:41.454951",
     "exception": false,
     "start_time": "2022-12-02T06:43:41.433926",
     "status": "completed"
    },
    "tags": []
   },
   "outputs": [],
   "source": [
    "# ----------------- Parameters for interactive development --------------\n",
    "P = {\n",
    "    \"pipeline.data_lake_root\": \"/pipeline-outputs/data-lake\",\n",
    "    \"task.nr_train_images\": 600,\n",
    "}"
   ]
  },
  {
   "cell_type": "code",
   "execution_count": 2,
   "id": "3ba0db8c",
   "metadata": {
    "execution": {
     "iopub.execute_input": "2022-12-02T06:43:41.473981Z",
     "iopub.status.busy": "2022-12-02T06:43:41.473664Z",
     "iopub.status.idle": "2022-12-02T06:43:41.478364Z",
     "shell.execute_reply": "2022-12-02T06:43:41.477686Z"
    },
    "lines_to_next_cell": 0,
    "papermill": {
     "duration": 0.021574,
     "end_time": "2022-12-02T06:43:41.481605",
     "exception": false,
     "start_time": "2022-12-02T06:43:41.460031",
     "status": "completed"
    },
    "tags": [
     "parameters"
    ]
   },
   "outputs": [],
   "source": [
    "# - During automated runs parameters will be injected in the below cell -"
   ]
  },
  {
   "cell_type": "code",
   "execution_count": 3,
   "id": "f82b09a5",
   "metadata": {
    "execution": {
     "iopub.execute_input": "2022-12-02T06:43:41.495535Z",
     "iopub.status.busy": "2022-12-02T06:43:41.495233Z",
     "iopub.status.idle": "2022-12-02T06:43:41.501412Z",
     "shell.execute_reply": "2022-12-02T06:43:41.500785Z"
    },
    "papermill": {
     "duration": 0.017263,
     "end_time": "2022-12-02T06:43:41.505519",
     "exception": false,
     "start_time": "2022-12-02T06:43:41.488256",
     "status": "completed"
    },
    "tags": [
     "injected-parameters"
    ]
   },
   "outputs": [],
   "source": [
    "# Parameters\n",
    "P = {\n",
    "    \"pipeline.data_lake_root\": \"/pipeline-outputs/data-lake\",\n",
    "    \"pipeline.run_environment\": \"ci\",\n",
    "    \"pipeline.pipeline_run_id\": \"1a82e5be-f00d-4b24-960b-21f4c1aa5efd\",\n",
    "    \"pipeline.github.repository\": \"matiasdahl/dev-mnist-digits-demo-pipeline\",\n",
    "    \"pipeline.github.workflow\": \"Run automated tests, pipeline and deploy results to static reporting site\",\n",
    "    \"pipeline.github.runner_name\": \"Hosted Agent\",\n",
    "    \"pipeline.github.run_id\": \"3599489336\",\n",
    "    \"pipeline.github.actor\": \"matiasdahl\",\n",
    "    \"pipeline.github.job\": \"run-tests-pipeline-and-persist-pipeline-outputs\",\n",
    "    \"pipeline.github.base_ref\": \"\",\n",
    "    \"pipeline.github.head_ref\": \"\",\n",
    "    \"pipeline.github.sha\": \"ace0d01011d5e914f1921450dd5a59c11367b38d\",\n",
    "    \"pipeline.github.ref\": \"refs/heads/development\",\n",
    "    \"pipeline.github.ref_type\": \"branch\",\n",
    "    \"pipeline.github.ref_name\": \"development\",\n",
    "    \"pipeline.github.event_name\": \"schedule\",\n",
    "    \"task.nr_train_images\": 800,\n",
    "    \"task.notebook\": \"notebooks/benchmark-model.py\",\n",
    "    \"task.max_nr_retries\": \"1\",\n",
    "    \"run.retry_nr\": \"0\",\n",
    "    \"task.timeout_s\": \"None\",\n",
    "    \"task.num_cpus\": 1,\n",
    "    \"_opentelemetry_traceparent\": \"00-a311194a9e76b94214368f783f39d555-ab9a43e8f0858be7-01\",\n",
    "}\n"
   ]
  },
  {
   "cell_type": "code",
   "execution_count": 4,
   "id": "72194e83",
   "metadata": {
    "execution": {
     "iopub.execute_input": "2022-12-02T06:43:41.518546Z",
     "iopub.status.busy": "2022-12-02T06:43:41.518231Z",
     "iopub.status.idle": "2022-12-02T06:43:41.522380Z",
     "shell.execute_reply": "2022-12-02T06:43:41.521623Z"
    },
    "lines_to_next_cell": 0,
    "papermill": {
     "duration": 0.015067,
     "end_time": "2022-12-02T06:43:41.526424",
     "exception": false,
     "start_time": "2022-12-02T06:43:41.511357",
     "status": "completed"
    },
    "tags": []
   },
   "outputs": [],
   "source": [
    "# -----------------------------------------------------------------------"
   ]
  },
  {
   "cell_type": "markdown",
   "id": "13cea0b1",
   "metadata": {
    "papermill": {
     "duration": 0.005782,
     "end_time": "2022-12-02T06:43:41.538377",
     "exception": false,
     "start_time": "2022-12-02T06:43:41.532595",
     "status": "completed"
    },
    "tags": []
   },
   "source": [
    "---"
   ]
  },
  {
   "cell_type": "markdown",
   "id": "da66f1ba",
   "metadata": {
    "lines_to_next_cell": 2,
    "papermill": {
     "duration": 0.004879,
     "end_time": "2022-12-02T06:43:41.549490",
     "exception": false,
     "start_time": "2022-12-02T06:43:41.544611",
     "status": "completed"
    },
    "tags": []
   },
   "source": [
    "### Notebook code"
   ]
  },
  {
   "cell_type": "code",
   "execution_count": 5,
   "id": "964d95a6",
   "metadata": {
    "execution": {
     "iopub.execute_input": "2022-12-02T06:43:41.562571Z",
     "iopub.status.busy": "2022-12-02T06:43:41.562234Z",
     "iopub.status.idle": "2022-12-02T06:43:42.983029Z",
     "shell.execute_reply": "2022-12-02T06:43:42.982220Z"
    },
    "papermill": {
     "duration": 1.429925,
     "end_time": "2022-12-02T06:43:42.985361",
     "exception": false,
     "start_time": "2022-12-02T06:43:41.555436",
     "status": "completed"
    },
    "tags": []
   },
   "outputs": [
    {
     "name": "stderr",
     "output_type": "stream",
     "text": [
      "2022-12-02 06:43:42,779\tINFO worker.py:842 -- Connecting to existing Ray cluster at address: 172.17.0.2:6379\n"
     ]
    }
   ],
   "source": [
    "import itertools as it\n",
    "\n",
    "#\n",
    "import numpy as np\n",
    "import matplotlib.pyplot as plt\n",
    "\n",
    "#\n",
    "from pynb_dag_runner.tasks.task_opentelemetry_logging import PydarLogger\n",
    "\n",
    "#\n",
    "from common.io import datalake_root\n",
    "\n",
    "logger = PydarLogger(P)"
   ]
  },
  {
   "cell_type": "markdown",
   "id": "e075f93d",
   "metadata": {
    "papermill": {
     "duration": 0.005289,
     "end_time": "2022-12-02T06:43:42.998296",
     "exception": false,
     "start_time": "2022-12-02T06:43:42.993007",
     "status": "completed"
    },
    "tags": []
   },
   "source": [
    "## Load persisted onnx-model and evaluation data"
   ]
  },
  {
   "cell_type": "code",
   "execution_count": 6,
   "id": "fa38bc14",
   "metadata": {
    "execution": {
     "iopub.execute_input": "2022-12-02T06:43:43.013670Z",
     "iopub.status.busy": "2022-12-02T06:43:43.013283Z",
     "iopub.status.idle": "2022-12-02T06:43:43.017144Z",
     "shell.execute_reply": "2022-12-02T06:43:43.016474Z"
    },
    "papermill": {
     "duration": 0.020393,
     "end_time": "2022-12-02T06:43:43.023202",
     "exception": false,
     "start_time": "2022-12-02T06:43:43.002809",
     "status": "completed"
    },
    "tags": []
   },
   "outputs": [],
   "source": [
    "from common.io import read_onnx, get_onnx_inputs, get_onnx_outputs, read_numpy"
   ]
  },
  {
   "cell_type": "code",
   "execution_count": 7,
   "id": "46b6b73f",
   "metadata": {
    "execution": {
     "iopub.execute_input": "2022-12-02T06:43:43.044885Z",
     "iopub.status.busy": "2022-12-02T06:43:43.044595Z",
     "iopub.status.idle": "2022-12-02T06:43:43.058450Z",
     "shell.execute_reply": "2022-12-02T06:43:43.057635Z"
    },
    "lines_to_next_cell": 0,
    "papermill": {
     "duration": 0.024315,
     "end_time": "2022-12-02T06:43:43.063024",
     "exception": false,
     "start_time": "2022-12-02T06:43:43.038709",
     "status": "completed"
    },
    "tags": []
   },
   "outputs": [],
   "source": [
    "onnx_inference_session = read_onnx(\n",
    "    datalake_root(P)\n",
    "    / \"models\"\n",
    "    / f\"nr_train_images={P['task.nr_train_images']}\"\n",
    "    / \"model.onnx\"\n",
    ")"
   ]
  },
  {
   "cell_type": "markdown",
   "id": "a0c72d62",
   "metadata": {
    "papermill": {
     "duration": 0.005569,
     "end_time": "2022-12-02T06:43:43.074061",
     "exception": false,
     "start_time": "2022-12-02T06:43:43.068492",
     "status": "completed"
    },
    "tags": []
   },
   "source": [
    "### Record structure of inputs and outputs for ONNX model\n",
    "\n",
    "(this should likely be done in training notebook)"
   ]
  },
  {
   "cell_type": "code",
   "execution_count": 8,
   "id": "c4f2a615",
   "metadata": {
    "execution": {
     "iopub.execute_input": "2022-12-02T06:43:43.087170Z",
     "iopub.status.busy": "2022-12-02T06:43:43.086693Z",
     "iopub.status.idle": "2022-12-02T06:43:43.100074Z",
     "shell.execute_reply": "2022-12-02T06:43:43.098670Z"
    },
    "papermill": {
     "duration": 0.021315,
     "end_time": "2022-12-02T06:43:43.101951",
     "exception": false,
     "start_time": "2022-12-02T06:43:43.080636",
     "status": "completed"
    },
    "tags": []
   },
   "outputs": [
    {
     "name": "stdout",
     "output_type": "stream",
     "text": [
      "{\n",
      "  \"inputs\": [\n",
      "    {\n",
      "      \"name\": \"float_input_8x8_image\",\n",
      "      \"shape\": [\n",
      "        null,\n",
      "        64\n",
      "      ],\n",
      "      \"type\": \"tensor(float)\"\n",
      "    }\n",
      "  ],\n",
      "  \"outputs\": [\n",
      "    {\n",
      "      \"name\": \"output_label\",\n",
      "      \"shape\": [\n",
      "        null\n",
      "      ],\n",
      "      \"type\": \"tensor(int64)\"\n",
      "    },\n",
      "    {\n",
      "      \"name\": \"output_probability\",\n",
      "      \"shape\": [],\n",
      "      \"type\": \"seq(map(int64,tensor(float)))\"\n",
      "    }\n",
      "  ]\n",
      "}\n"
     ]
    }
   ],
   "source": [
    "import json\n",
    "\n",
    "onnx_io = json.dumps(\n",
    "    {\n",
    "        \"inputs\": get_onnx_inputs(onnx_inference_session),\n",
    "        \"outputs\": get_onnx_outputs(onnx_inference_session),\n",
    "    },\n",
    "    indent=2,\n",
    ")\n",
    "\n",
    "\n",
    "logger.log_artefact(\"onnx_io_structure.json\", onnx_io)\n",
    "print(onnx_io)"
   ]
  },
  {
   "cell_type": "markdown",
   "id": "53af7973",
   "metadata": {
    "papermill": {
     "duration": 0.005994,
     "end_time": "2022-12-02T06:43:43.113206",
     "exception": false,
     "start_time": "2022-12-02T06:43:43.107212",
     "status": "completed"
    },
    "tags": []
   },
   "source": [
    "### Evaluate model performance on evaluation data set"
   ]
  },
  {
   "cell_type": "code",
   "execution_count": 9,
   "id": "bc546dcc",
   "metadata": {
    "execution": {
     "iopub.execute_input": "2022-12-02T06:43:43.135937Z",
     "iopub.status.busy": "2022-12-02T06:43:43.135520Z",
     "iopub.status.idle": "2022-12-02T06:43:43.141050Z",
     "shell.execute_reply": "2022-12-02T06:43:43.140282Z"
    },
    "papermill": {
     "duration": 0.022821,
     "end_time": "2022-12-02T06:43:43.144941",
     "exception": false,
     "start_time": "2022-12-02T06:43:43.122120",
     "status": "completed"
    },
    "tags": []
   },
   "outputs": [],
   "source": [
    "# load evaluation data\n",
    "X_test = read_numpy(datalake_root(P) / \"test-data\" / \"digits.numpy\")\n",
    "y_test = read_numpy(datalake_root(P) / \"test-data\" / \"labels.numpy\")"
   ]
  },
  {
   "cell_type": "code",
   "execution_count": 10,
   "id": "152e61e7",
   "metadata": {
    "execution": {
     "iopub.execute_input": "2022-12-02T06:43:43.156430Z",
     "iopub.status.busy": "2022-12-02T06:43:43.156088Z",
     "iopub.status.idle": "2022-12-02T06:43:43.239089Z",
     "shell.execute_reply": "2022-12-02T06:43:43.236391Z"
    },
    "papermill": {
     "duration": 0.091235,
     "end_time": "2022-12-02T06:43:43.241510",
     "exception": false,
     "start_time": "2022-12-02T06:43:43.150275",
     "status": "completed"
    },
    "tags": []
   },
   "outputs": [],
   "source": [
    "def get_model_outputs(X, onnx_inference_session):\n",
    "    y_pred_labels, y_pred_map = onnx_inference_session.run(\n",
    "        [\"output_label\", \"output_probability\"],\n",
    "        {\"float_input_8x8_image\": X.astype(np.float32)},\n",
    "    )\n",
    "    y_pred_probs = np.array(\n",
    "        [[probabilities[digit] for digit in range(10)] for probabilities in y_pred_map]\n",
    "    )\n",
    "\n",
    "    assert y_pred_labels.shape == (X.shape[0],)\n",
    "    assert y_pred_probs.shape == (X.shape[0], 10)\n",
    "\n",
    "    return y_pred_labels, y_pred_probs\n",
    "\n",
    "\n",
    "# Note: as shown in the training notebook, the predicted labels and probabilities\n",
    "# computed below need not be compatible.\n",
    "y_pred_labels_test, y_pred_probs_test = get_model_outputs(\n",
    "    X_test, onnx_inference_session\n",
    ")"
   ]
  },
  {
   "cell_type": "markdown",
   "id": "63e052a2",
   "metadata": {
    "papermill": {
     "duration": 0.005007,
     "end_time": "2022-12-02T06:43:43.254816",
     "exception": false,
     "start_time": "2022-12-02T06:43:43.249809",
     "status": "completed"
    },
    "tags": []
   },
   "source": [
    "### Confusion matrix"
   ]
  },
  {
   "cell_type": "code",
   "execution_count": 11,
   "id": "8bbab997",
   "metadata": {
    "execution": {
     "iopub.execute_input": "2022-12-02T06:43:43.266703Z",
     "iopub.status.busy": "2022-12-02T06:43:43.266235Z",
     "iopub.status.idle": "2022-12-02T06:43:43.270075Z",
     "shell.execute_reply": "2022-12-02T06:43:43.269141Z"
    },
    "papermill": {
     "duration": 0.012569,
     "end_time": "2022-12-02T06:43:43.272711",
     "exception": false,
     "start_time": "2022-12-02T06:43:43.260142",
     "status": "completed"
    },
    "tags": []
   },
   "outputs": [],
   "source": [
    "# TODO"
   ]
  },
  {
   "cell_type": "markdown",
   "id": "d7799d5c",
   "metadata": {
    "papermill": {
     "duration": 0.005339,
     "end_time": "2022-12-02T06:43:43.282958",
     "exception": false,
     "start_time": "2022-12-02T06:43:43.277619",
     "status": "completed"
    },
    "tags": []
   },
   "source": [
    "### Plot predicted probabilities for each classifier over all evaluation digit images"
   ]
  },
  {
   "cell_type": "code",
   "execution_count": 12,
   "id": "397c77d1",
   "metadata": {
    "execution": {
     "iopub.execute_input": "2022-12-02T06:43:43.294716Z",
     "iopub.status.busy": "2022-12-02T06:43:43.294288Z",
     "iopub.status.idle": "2022-12-02T06:43:46.942782Z",
     "shell.execute_reply": "2022-12-02T06:43:46.942134Z"
    },
    "papermill": {
     "duration": 3.657378,
     "end_time": "2022-12-02T06:43:46.945232",
     "exception": false,
     "start_time": "2022-12-02T06:43:43.287854",
     "status": "completed"
    },
    "tags": []
   },
   "outputs": [
    {
     "data": {
      "image/png": "[encoded data removed]",
      "text/plain": [
       "<Figure size 1600x600 with 10 Axes>"
      ]
     },
     "metadata": {},
     "output_type": "display_data"
    }
   ],
   "source": [
    "def plot_per_digit_probabilities(y_pred_probs):\n",
    "    fig, axs = plt.subplots(nrows=2, ncols=5, figsize=(16, 6))\n",
    "\n",
    "    for (r, c), digit, ax in zip(\n",
    "        it.product(range(2), range(5)), range(10), axs.reshape(-1)\n",
    "    ):\n",
    "        ax.hist(y_pred_probs_test[:, digit], bins=20)\n",
    "\n",
    "        ax.set_title(f\"Digit {digit}\")\n",
    "        if r == 1 and c == 2:\n",
    "            ax.set_xlabel(\"probability\", fontsize=16)\n",
    "\n",
    "        if c == 0:\n",
    "            ax.set_ylabel(\"counts\", fontsize=16)\n",
    "        ax.set_yscale(\"log\")\n",
    "\n",
    "    fig.tight_layout()\n",
    "    fig.suptitle(\n",
    "        f\"Distributions of prediction probabilities for each digit \"\n",
    "        f\"(on evaluation data, n={y_pred_probs.shape[0]})\",\n",
    "        fontsize=20,\n",
    "    )\n",
    "    fig.tight_layout()\n",
    "    fig.show()\n",
    "\n",
    "    return fig\n",
    "\n",
    "\n",
    "fig = plot_per_digit_probabilities(y_pred_probs_test)"
   ]
  },
  {
   "cell_type": "markdown",
   "id": "c0b8d530",
   "metadata": {
    "papermill": {
     "duration": 0.012084,
     "end_time": "2022-12-02T06:43:46.965789",
     "exception": false,
     "start_time": "2022-12-02T06:43:46.953705",
     "status": "completed"
    },
    "tags": []
   },
   "source": [
    "From the above distributions we see that most digits have clear separation between\n",
    "high and lower probabilities. Morover, in each case there is roughly an order of\n",
    "magnitude more of digits with low probabilities. This is compatible with digits\n",
    "being roughly evenly distributed in the data."
   ]
  },
  {
   "cell_type": "code",
   "execution_count": 13,
   "id": "6ee1f060",
   "metadata": {
    "execution": {
     "iopub.execute_input": "2022-12-02T06:43:46.982028Z",
     "iopub.status.busy": "2022-12-02T06:43:46.981707Z",
     "iopub.status.idle": "2022-12-02T06:43:47.539087Z",
     "shell.execute_reply": "2022-12-02T06:43:47.538364Z"
    },
    "papermill": {
     "duration": 0.567807,
     "end_time": "2022-12-02T06:43:47.541144",
     "exception": false,
     "start_time": "2022-12-02T06:43:46.973337",
     "status": "completed"
    },
    "tags": []
   },
   "outputs": [],
   "source": [
    "logger.log_figure(\"per-digit-probabilities.png\", fig)"
   ]
  },
  {
   "cell_type": "markdown",
   "id": "5c31bb57",
   "metadata": {
    "papermill": {
     "duration": 0.006346,
     "end_time": "2022-12-02T06:43:47.554004",
     "exception": false,
     "start_time": "2022-12-02T06:43:47.547658",
     "status": "completed"
    },
    "tags": []
   },
   "source": [
    "### Plot ROC curves for individual one-vs-rest classifiers"
   ]
  },
  {
   "cell_type": "code",
   "execution_count": 14,
   "id": "91f16987",
   "metadata": {
    "execution": {
     "iopub.execute_input": "2022-12-02T06:43:47.571045Z",
     "iopub.status.busy": "2022-12-02T06:43:47.570179Z",
     "iopub.status.idle": "2022-12-02T06:43:48.093626Z",
     "shell.execute_reply": "2022-12-02T06:43:48.092913Z"
    },
    "papermill": {
     "duration": 0.536387,
     "end_time": "2022-12-02T06:43:48.096619",
     "exception": false,
     "start_time": "2022-12-02T06:43:47.560232",
     "status": "completed"
    },
    "tags": []
   },
   "outputs": [],
   "source": [
    "from sklearn import metrics"
   ]
  },
  {
   "cell_type": "code",
   "execution_count": 15,
   "id": "4d9ef39b",
   "metadata": {
    "execution": {
     "iopub.execute_input": "2022-12-02T06:43:48.112563Z",
     "iopub.status.busy": "2022-12-02T06:43:48.112143Z",
     "iopub.status.idle": "2022-12-02T06:43:50.137576Z",
     "shell.execute_reply": "2022-12-02T06:43:50.136775Z"
    },
    "papermill": {
     "duration": 2.036242,
     "end_time": "2022-12-02T06:43:50.139587",
     "exception": false,
     "start_time": "2022-12-02T06:43:48.103345",
     "status": "completed"
    },
    "tags": []
   },
   "outputs": [
    {
     "data": {
      "image/png": "[encoded data removed]",
      "text/plain": [
       "<Figure size 1600x800 with 10 Axes>"
      ]
     },
     "metadata": {},
     "output_type": "display_data"
    }
   ],
   "source": [
    "def plot_roc_curves(y, y_pred_probs):\n",
    "    # based on example code\n",
    "    # https://scikit-learn.org/stable/auto_examples/model_selection/plot_roc.html\n",
    "\n",
    "    fig, axs = plt.subplots(nrows=2, ncols=5, figsize=(16, 8))\n",
    "\n",
    "    roc_auc_dict = {}\n",
    "\n",
    "    for (r, c), digit, ax in zip(\n",
    "        it.product(range(2), range(5)), range(10), axs.reshape(-1)\n",
    "    ):\n",
    "        fpr, tpr, _ = metrics.roc_curve(y == digit, y_pred_probs[:, digit])\n",
    "        auc = metrics.auc(fpr, tpr)\n",
    "        roc_auc_dict[str(digit)] = auc\n",
    "\n",
    "        ax.plot(fpr, tpr, label=f\"ROC AUC={round(auc, 3)}\")\n",
    "\n",
    "        ax.set_title(f\"\\nDigit {digit}\", fontsize=16)\n",
    "        if r == 1:\n",
    "            ax.set_xlabel(\"FPR\", fontsize=18)\n",
    "\n",
    "        if c == 0:\n",
    "            ax.set_ylabel(\"TPR\", fontsize=18)\n",
    "\n",
    "        ax.set_xlim([-0.05, 1.05])\n",
    "        ax.set_ylim([-0.05, 1.05])\n",
    "        ax.legend(loc=\"lower right\", frameon=False, fontsize=14)\n",
    "\n",
    "    fig.tight_layout()\n",
    "    fig.suptitle(\n",
    "        f\"ROC plots for one-vs-rest performances \"\n",
    "        f\"(on evaluation data, n={y_pred_probs_test.shape[1]}\",\n",
    "        fontsize=22,\n",
    "    )\n",
    "    fig.tight_layout()\n",
    "    fig.show()\n",
    "\n",
    "    return roc_auc_dict, fig\n",
    "\n",
    "\n",
    "roc_auc_dict, fig = plot_roc_curves(y_test, y_pred_probs_test)"
   ]
  },
  {
   "cell_type": "code",
   "execution_count": 16,
   "id": "2d00fb99",
   "metadata": {
    "execution": {
     "iopub.execute_input": "2022-12-02T06:43:50.157187Z",
     "iopub.status.busy": "2022-12-02T06:43:50.156745Z",
     "iopub.status.idle": "2022-12-02T06:43:50.489276Z",
     "shell.execute_reply": "2022-12-02T06:43:50.488456Z"
    },
    "papermill": {
     "duration": 0.343345,
     "end_time": "2022-12-02T06:43:50.491519",
     "exception": false,
     "start_time": "2022-12-02T06:43:50.148174",
     "status": "completed"
    },
    "tags": []
   },
   "outputs": [],
   "source": [
    "logger.log_figure(\"per-digit-roc-curves.png\", fig)"
   ]
  },
  {
   "cell_type": "code",
   "execution_count": 17,
   "id": "b208df9c",
   "metadata": {
    "execution": {
     "iopub.execute_input": "2022-12-02T06:43:50.516672Z",
     "iopub.status.busy": "2022-12-02T06:43:50.516113Z",
     "iopub.status.idle": "2022-12-02T06:43:50.522358Z",
     "shell.execute_reply": "2022-12-02T06:43:50.521580Z"
    },
    "papermill": {
     "duration": 0.025215,
     "end_time": "2022-12-02T06:43:50.525894",
     "exception": false,
     "start_time": "2022-12-02T06:43:50.500679",
     "status": "completed"
    },
    "tags": []
   },
   "outputs": [
    {
     "data": {
      "text/plain": [
       "{'0': 1.0,\n",
       " '1': 0.9987253983130272,\n",
       " '2': 1.0,\n",
       " '3': 0.9998125585754452,\n",
       " '4': 0.9995046486816034,\n",
       " '5': 0.9990627928772259,\n",
       " '6': 0.999961896052431,\n",
       " '7': 0.9998856881572931,\n",
       " '8': 0.9922761664564943,\n",
       " '9': 0.9994665447340345}"
      ]
     },
     "execution_count": 17,
     "metadata": {},
     "output_type": "execute_result"
    }
   ],
   "source": [
    "roc_auc_dict"
   ]
  },
  {
   "cell_type": "code",
   "execution_count": 18,
   "id": "e899ae2e",
   "metadata": {
    "execution": {
     "iopub.execute_input": "2022-12-02T06:43:50.543736Z",
     "iopub.status.busy": "2022-12-02T06:43:50.543300Z",
     "iopub.status.idle": "2022-12-02T06:43:50.548625Z",
     "shell.execute_reply": "2022-12-02T06:43:50.547790Z"
    },
    "papermill": {
     "duration": 0.018516,
     "end_time": "2022-12-02T06:43:50.552543",
     "exception": false,
     "start_time": "2022-12-02T06:43:50.534027",
     "status": "completed"
    },
    "tags": []
   },
   "outputs": [
    {
     "name": "stdout",
     "output_type": "stream",
     "text": [
      " - Logging roc_auc_per_digit (json) : {'0': 1.0, '1': 0.9987253983130272, '2': 1.0, '3': 0.9998125585754452, '4': 0.9995046486816034, '5': 0.9990627928772259, '6': 0.999961896052431, '7': 0.9998856881572931, '8': 0.9922761664564943, '9': 0.9994665447340345}\n"
     ]
    }
   ],
   "source": [
    "logger.log_value(\"roc_auc_per_digit\", roc_auc_dict)"
   ]
  },
  {
   "cell_type": "markdown",
   "id": "d4ca91a0",
   "metadata": {
    "papermill": {
     "duration": 0.008351,
     "end_time": "2022-12-02T06:43:50.569869",
     "exception": false,
     "start_time": "2022-12-02T06:43:50.561518",
     "status": "completed"
    },
    "tags": []
   },
   "source": [
    "### Compute and log mean ROC AUC score averaged over all digits"
   ]
  },
  {
   "cell_type": "code",
   "execution_count": 19,
   "id": "380c5c94",
   "metadata": {
    "execution": {
     "iopub.execute_input": "2022-12-02T06:43:50.587537Z",
     "iopub.status.busy": "2022-12-02T06:43:50.586932Z",
     "iopub.status.idle": "2022-12-02T06:43:50.604410Z",
     "shell.execute_reply": "2022-12-02T06:43:50.603544Z"
    },
    "papermill": {
     "duration": 0.028921,
     "end_time": "2022-12-02T06:43:50.606608",
     "exception": false,
     "start_time": "2022-12-02T06:43:50.577687",
     "status": "completed"
    },
    "tags": []
   },
   "outputs": [
    {
     "name": "stdout",
     "output_type": "stream",
     "text": [
      " - Logging roc_auc_class_mean (float) : 0.9988695693847554\n"
     ]
    }
   ],
   "source": [
    "roc_auc_macro = np.mean(list(roc_auc_dict.values()))\n",
    "\n",
    "logger.log_float(\"roc_auc_class_mean\", roc_auc_macro)\n",
    "\n",
    "# assert that the same value can be computed directly using sklearn\n",
    "assert roc_auc_macro == metrics.roc_auc_score(\n",
    "    y_test, y_pred_probs_test, average=\"macro\", multi_class=\"ovr\"\n",
    ")"
   ]
  },
  {
   "cell_type": "code",
   "execution_count": 20,
   "id": "e5d09f96",
   "metadata": {
    "execution": {
     "iopub.execute_input": "2022-12-02T06:43:50.627565Z",
     "iopub.status.busy": "2022-12-02T06:43:50.627152Z",
     "iopub.status.idle": "2022-12-02T06:43:50.631076Z",
     "shell.execute_reply": "2022-12-02T06:43:50.630071Z"
    },
    "lines_to_next_cell": 0,
    "papermill": {
     "duration": 0.01573,
     "end_time": "2022-12-02T06:43:50.633471",
     "exception": false,
     "start_time": "2022-12-02T06:43:50.617741",
     "status": "completed"
    },
    "tags": []
   },
   "outputs": [],
   "source": [
    "# ---"
   ]
  },
  {
   "cell_type": "code",
   "execution_count": null,
   "id": "2c1cc40c",
   "metadata": {
    "papermill": {
     "duration": 0.007447,
     "end_time": "2022-12-02T06:43:50.649119",
     "exception": false,
     "start_time": "2022-12-02T06:43:50.641672",
     "status": "completed"
    },
    "tags": []
   },
   "outputs": [],
   "source": []
  }
 ],
 "metadata": {
  "jupytext": {
   "cell_metadata_filter": "tags,-all",
   "main_language": "python",
   "notebook_metadata_filter": "-all"
  },
  "language_info": {
   "codemirror_mode": {
    "name": "ipython",
    "version": 3
   },
   "file_extension": ".py",
   "mimetype": "text/x-python",
   "name": "python",
   "nbconvert_exporter": "python",
   "pygments_lexer": "ipython3",
   "version": "3.8.10"
  },
  "papermill": {
   "default_parameters": {},
   "duration": 12.004123,
   "end_time": "2022-12-02T06:43:51.778727",
   "environment_variables": {},
   "exception": null,
   "input_path": "/home/host_user/workspace/mnist-demo-pipeline/mnist-demo-pipeline/notebooks/temp-notebook-kvbvqgya.ipynb",
   "output_path": "notebooks/benchmark-model.ipynb",
   "parameters": {
    "P": {
     "_opentelemetry_traceparent": "00-a311194a9e76b94214368f783f39d555-ab9a43e8f0858be7-01",
     "pipeline.data_lake_root": "/pipeline-outputs/data-lake",
     "pipeline.github.actor": "matiasdahl",
     "pipeline.github.base_ref": "",
     "pipeline.github.event_name": "schedule",
     "pipeline.github.head_ref": "",
     "pipeline.github.job": "run-tests-pipeline-and-persist-pipeline-outputs",
     "pipeline.github.ref": "refs/heads/development",
     "pipeline.github.ref_name": "development",
     "pipeline.github.ref_type": "branch",
     "pipeline.github.repository": "matiasdahl/dev-mnist-digits-demo-pipeline",
     "pipeline.github.run_id": "3599489336",
     "pipeline.github.runner_name": "Hosted Agent",
     "pipeline.github.sha": "ace0d01011d5e914f1921450dd5a59c11367b38d",
     "pipeline.github.workflow": "Run automated tests, pipeline and deploy results to static reporting site",
     "pipeline.pipeline_run_id": "1a82e5be-f00d-4b24-960b-21f4c1aa5efd",
     "pipeline.run_environment": "ci",
     "run.retry_nr": "0",
     "task.max_nr_retries": "1",
     "task.notebook": "notebooks/benchmark-model.py",
     "task.nr_train_images": 800,
     "task.num_cpus": 1,
     "task.timeout_s": "None"
    }
   },
   "start_time": "2022-12-02T06:43:39.774604",
   "version": "2.3.3"
  }
 },
 "nbformat": 4,
 "nbformat_minor": 5
}