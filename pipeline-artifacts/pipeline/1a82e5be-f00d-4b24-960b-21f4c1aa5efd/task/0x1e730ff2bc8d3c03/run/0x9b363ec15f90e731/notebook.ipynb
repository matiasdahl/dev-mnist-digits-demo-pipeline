{
 "cells": [
  {
   "cell_type": "markdown",
   "id": "92b79dfe",
   "metadata": {
    "papermill": {
     "duration": 0.004327,
     "end_time": "2022-12-02T06:44:06.636482",
     "exception": false,
     "start_time": "2022-12-02T06:44:06.632155",
     "status": "completed"
    },
    "tags": []
   },
   "source": [
    "# Summarize model performances\n",
    "\n",
    "This notebooks plots the performances (using averaged ROC AUC scores) for models\n",
    "trained with different training sets."
   ]
  },
  {
   "cell_type": "markdown",
   "id": "ded0c5d5",
   "metadata": {
    "papermill": {
     "duration": 0.00316,
     "end_time": "2022-12-02T06:44:06.642998",
     "exception": false,
     "start_time": "2022-12-02T06:44:06.639838",
     "status": "completed"
    },
    "tags": []
   },
   "source": [
    "### Determine run parameters"
   ]
  },
  {
   "cell_type": "code",
   "execution_count": 1,
   "id": "e553a7ab",
   "metadata": {
    "execution": {
     "iopub.execute_input": "2022-12-02T06:44:06.651136Z",
     "iopub.status.busy": "2022-12-02T06:44:06.649875Z",
     "iopub.status.idle": "2022-12-02T06:44:06.660052Z",
     "shell.execute_reply": "2022-12-02T06:44:06.659355Z"
    },
    "lines_to_next_cell": 0,
    "papermill": {
     "duration": 0.016193,
     "end_time": "2022-12-02T06:44:06.662093",
     "exception": false,
     "start_time": "2022-12-02T06:44:06.645900",
     "status": "completed"
    },
    "tags": []
   },
   "outputs": [],
   "source": [
    "# ----------------- Parameters for interactive development --------------\n",
    "P = {\n",
    "    \"pipeline.run_environment\": \"dev\",\n",
    "}"
   ]
  },
  {
   "cell_type": "code",
   "execution_count": 2,
   "id": "96f5fce8",
   "metadata": {
    "execution": {
     "iopub.execute_input": "2022-12-02T06:44:06.669622Z",
     "iopub.status.busy": "2022-12-02T06:44:06.669148Z",
     "iopub.status.idle": "2022-12-02T06:44:06.672705Z",
     "shell.execute_reply": "2022-12-02T06:44:06.671963Z"
    },
    "lines_to_next_cell": 0,
    "papermill": {
     "duration": 0.009077,
     "end_time": "2022-12-02T06:44:06.674248",
     "exception": false,
     "start_time": "2022-12-02T06:44:06.665171",
     "status": "completed"
    },
    "tags": [
     "parameters"
    ]
   },
   "outputs": [],
   "source": [
    "# - During automated runs parameters will be injected in the below cell -"
   ]
  },
  {
   "cell_type": "code",
   "execution_count": 3,
   "id": "a93d9925",
   "metadata": {
    "execution": {
     "iopub.execute_input": "2022-12-02T06:44:06.681464Z",
     "iopub.status.busy": "2022-12-02T06:44:06.680789Z",
     "iopub.status.idle": "2022-12-02T06:44:06.686269Z",
     "shell.execute_reply": "2022-12-02T06:44:06.685635Z"
    },
    "papermill": {
     "duration": 0.010877,
     "end_time": "2022-12-02T06:44:06.688092",
     "exception": false,
     "start_time": "2022-12-02T06:44:06.677215",
     "status": "completed"
    },
    "tags": [
     "injected-parameters"
    ]
   },
   "outputs": [],
   "source": [
    "# Parameters\n",
    "P = {\n",
    "    \"pipeline.data_lake_root\": \"/pipeline-outputs/data-lake\",\n",
    "    \"pipeline.run_environment\": \"ci\",\n",
    "    \"pipeline.pipeline_run_id\": \"1a82e5be-f00d-4b24-960b-21f4c1aa5efd\",\n",
    "    \"pipeline.github.repository\": \"matiasdahl/dev-mnist-digits-demo-pipeline\",\n",
    "    \"pipeline.github.workflow\": \"Run automated tests, pipeline and deploy results to static reporting site\",\n",
    "    \"pipeline.github.runner_name\": \"Hosted Agent\",\n",
    "    \"pipeline.github.run_id\": \"3599489336\",\n",
    "    \"pipeline.github.actor\": \"matiasdahl\",\n",
    "    \"pipeline.github.job\": \"run-tests-pipeline-and-persist-pipeline-outputs\",\n",
    "    \"pipeline.github.base_ref\": \"\",\n",
    "    \"pipeline.github.head_ref\": \"\",\n",
    "    \"pipeline.github.sha\": \"ace0d01011d5e914f1921450dd5a59c11367b38d\",\n",
    "    \"pipeline.github.ref\": \"refs/heads/development\",\n",
    "    \"pipeline.github.ref_type\": \"branch\",\n",
    "    \"pipeline.github.ref_name\": \"development\",\n",
    "    \"pipeline.github.event_name\": \"schedule\",\n",
    "    \"task.notebook\": \"notebooks/summary.py\",\n",
    "    \"task.max_nr_retries\": \"1\",\n",
    "    \"run.retry_nr\": \"0\",\n",
    "    \"task.timeout_s\": \"None\",\n",
    "    \"task.num_cpus\": 1,\n",
    "    \"_opentelemetry_traceparent\": \"00-a311194a9e76b94214368f783f39d555-154ab4cadb0755a8-01\",\n",
    "}\n"
   ]
  },
  {
   "cell_type": "code",
   "execution_count": 4,
   "id": "082456cb",
   "metadata": {
    "execution": {
     "iopub.execute_input": "2022-12-02T06:44:06.696063Z",
     "iopub.status.busy": "2022-12-02T06:44:06.695523Z",
     "iopub.status.idle": "2022-12-02T06:44:06.699350Z",
     "shell.execute_reply": "2022-12-02T06:44:06.698600Z"
    },
    "lines_to_next_cell": 0,
    "papermill": {
     "duration": 0.00972,
     "end_time": "2022-12-02T06:44:06.700984",
     "exception": false,
     "start_time": "2022-12-02T06:44:06.691264",
     "status": "completed"
    },
    "tags": []
   },
   "outputs": [],
   "source": [
    "# -----------------------------------------------------------------------"
   ]
  },
  {
   "cell_type": "markdown",
   "id": "dad9f17e",
   "metadata": {
    "papermill": {
     "duration": 0.002964,
     "end_time": "2022-12-02T06:44:06.706865",
     "exception": false,
     "start_time": "2022-12-02T06:44:06.703901",
     "status": "completed"
    },
    "tags": []
   },
   "source": [
    "---"
   ]
  },
  {
   "cell_type": "markdown",
   "id": "8247cada",
   "metadata": {
    "lines_to_next_cell": 2,
    "papermill": {
     "duration": 0.002746,
     "end_time": "2022-12-02T06:44:06.712565",
     "exception": false,
     "start_time": "2022-12-02T06:44:06.709819",
     "status": "completed"
    },
    "tags": []
   },
   "source": [
    "### Notebook code"
   ]
  },
  {
   "cell_type": "code",
   "execution_count": 5,
   "id": "14c55d90",
   "metadata": {
    "execution": {
     "iopub.execute_input": "2022-12-02T06:44:06.719771Z",
     "iopub.status.busy": "2022-12-02T06:44:06.719251Z",
     "iopub.status.idle": "2022-12-02T06:44:07.980869Z",
     "shell.execute_reply": "2022-12-02T06:44:07.980120Z"
    },
    "papermill": {
     "duration": 1.267614,
     "end_time": "2022-12-02T06:44:07.983065",
     "exception": false,
     "start_time": "2022-12-02T06:44:06.715451",
     "status": "completed"
    },
    "tags": []
   },
   "outputs": [],
   "source": [
    "#\n",
    "import pandas as pd\n",
    "import matplotlib.pyplot as plt\n",
    "\n",
    "#\n",
    "from pynb_dag_runner.tasks.task_opentelemetry_logging import PydarLogger"
   ]
  },
  {
   "cell_type": "code",
   "execution_count": 6,
   "id": "1a0fcc52",
   "metadata": {
    "execution": {
     "iopub.execute_input": "2022-12-02T06:44:07.992780Z",
     "iopub.status.busy": "2022-12-02T06:44:07.991270Z",
     "iopub.status.idle": "2022-12-02T06:44:08.163510Z",
     "shell.execute_reply": "2022-12-02T06:44:08.162458Z"
    },
    "papermill": {
     "duration": 0.179829,
     "end_time": "2022-12-02T06:44:08.166720",
     "exception": false,
     "start_time": "2022-12-02T06:44:07.986891",
     "status": "completed"
    },
    "tags": []
   },
   "outputs": [
    {
     "name": "stderr",
     "output_type": "stream",
     "text": [
      "2022-12-02 06:44:07,997\tINFO worker.py:842 -- Connecting to existing Ray cluster at address: 172.17.0.2:6379\n"
     ]
    }
   ],
   "source": [
    "logger = PydarLogger(P=P)"
   ]
  },
  {
   "cell_type": "code",
   "execution_count": 7,
   "id": "29578320",
   "metadata": {
    "execution": {
     "iopub.execute_input": "2022-12-02T06:44:08.175617Z",
     "iopub.status.busy": "2022-12-02T06:44:08.175297Z",
     "iopub.status.idle": "2022-12-02T06:44:08.179923Z",
     "shell.execute_reply": "2022-12-02T06:44:08.179198Z"
    },
    "papermill": {
     "duration": 0.011306,
     "end_time": "2022-12-02T06:44:08.181855",
     "exception": false,
     "start_time": "2022-12-02T06:44:08.170549",
     "status": "completed"
    },
    "tags": []
   },
   "outputs": [],
   "source": [
    "from pynb_dag_runner.tasks.task_opentelemetry_logging import (\n",
    "    PydarLogger,\n",
    "    get_logged_values,\n",
    ")\n",
    "from pynb_dag_runner.opentelemetry_helpers import _get_all_spans, Spans"
   ]
  },
  {
   "cell_type": "code",
   "execution_count": 8,
   "id": "c8309190",
   "metadata": {
    "execution": {
     "iopub.execute_input": "2022-12-02T06:44:08.191008Z",
     "iopub.status.busy": "2022-12-02T06:44:08.190162Z",
     "iopub.status.idle": "2022-12-02T06:44:08.199169Z",
     "shell.execute_reply": "2022-12-02T06:44:08.198051Z"
    },
    "papermill": {
     "duration": 0.016306,
     "end_time": "2022-12-02T06:44:08.201316",
     "exception": false,
     "start_time": "2022-12-02T06:44:08.185010",
     "status": "completed"
    },
    "tags": []
   },
   "outputs": [],
   "source": [
    "def get_model_benchmarks():\n",
    "    \"\"\"\n",
    "    Query the OpenTelemetry logs for *this pipeline run* and return\n",
    "    all key-values logged from all runs of the benchmark-model.py task\n",
    "\n",
    "    For testing a json file with OpenTelemetry spans (as an array)\n",
    "    can be used as follows:\n",
    "\n",
    "    - Create output directory `mkdir /tmp/spans`\n",
    "    - Run unit tests. This will create pipeline-outputs/opentelemetry-spans.json\n",
    "    - Convert this json-array into jsonl format as follows\n",
    "\n",
    "    jq -c '.[]' /pipeline-outputs/opentelemetry-spans.json > /tmp/spans/data.txt\n",
    "\n",
    "    \"\"\"\n",
    "    spans: Spans = Spans(_get_all_spans())\n",
    "    print(f\"Found {len(spans)} spans\")\n",
    "\n",
    "    benchmark_spans = (\n",
    "        spans\n",
    "        # -\n",
    "        .filter([\"name\"], \"execute-task\")\n",
    "        # -\n",
    "        .filter([\"attributes\", \"task.notebook\"], \"notebooks/benchmark-model.py\")\n",
    "    )\n",
    "\n",
    "    result = []\n",
    "    for s in benchmark_spans:\n",
    "        result.append(\n",
    "            {\n",
    "                \"span_id\": s[\"context\"][\"span_id\"],\n",
    "                \"nr_train_images\": s[\"attributes\"][\"task.nr_train_images\"],\n",
    "                \"data\": get_logged_values(spans.bound_under(s)),\n",
    "            }\n",
    "        )\n",
    "\n",
    "    return result\n",
    "\n",
    "\n",
    "def adjust_pandas(df):\n",
    "    def column_renamer(col_name: str) -> str:\n",
    "        return (\n",
    "            col_name\n",
    "            # -- 'data.roc_auc_per_digit.4' -> 'roc_auc.4'\n",
    "            .replace(\"data.roc_auc_per_digit\", \"roc_auc\")\n",
    "            # -- 'data.roc_auc_class_mean' -> 'roc_auc_mean'\n",
    "            .replace(\"data.roc_auc_class_mean\", \"roc_auc_mean\")\n",
    "        )\n",
    "\n",
    "    return df.rename(column_renamer, axis=\"columns\").sort_values(by=\"nr_train_images\")"
   ]
  },
  {
   "cell_type": "code",
   "execution_count": 9,
   "id": "4627728d",
   "metadata": {
    "execution": {
     "iopub.execute_input": "2022-12-02T06:44:08.210351Z",
     "iopub.status.busy": "2022-12-02T06:44:08.209826Z",
     "iopub.status.idle": "2022-12-02T06:44:08.259899Z",
     "shell.execute_reply": "2022-12-02T06:44:08.258741Z"
    },
    "papermill": {
     "duration": 0.057351,
     "end_time": "2022-12-02T06:44:08.261985",
     "exception": false,
     "start_time": "2022-12-02T06:44:08.204634",
     "status": "completed"
    },
    "tags": []
   },
   "outputs": [
    {
     "name": "stdout",
     "output_type": "stream",
     "text": [
      "Found 414 spans\n"
     ]
    }
   ],
   "source": [
    "df_data = adjust_pandas(pd.json_normalize(get_model_benchmarks()))"
   ]
  },
  {
   "cell_type": "code",
   "execution_count": 10,
   "id": "e517bd23",
   "metadata": {
    "execution": {
     "iopub.execute_input": "2022-12-02T06:44:08.271790Z",
     "iopub.status.busy": "2022-12-02T06:44:08.271239Z",
     "iopub.status.idle": "2022-12-02T06:44:08.306994Z",
     "shell.execute_reply": "2022-12-02T06:44:08.305999Z"
    },
    "papermill": {
     "duration": 0.043928,
     "end_time": "2022-12-02T06:44:08.309469",
     "exception": false,
     "start_time": "2022-12-02T06:44:08.265541",
     "status": "completed"
    },
    "tags": []
   },
   "outputs": [
    {
     "data": {
      "text/html": [
       "<div>\n",
       "<style scoped>\n",
       "    .dataframe tbody tr th:only-of-type {\n",
       "        vertical-align: middle;\n",
       "    }\n",
       "\n",
       "    .dataframe tbody tr th {\n",
       "        vertical-align: top;\n",
       "    }\n",
       "\n",
       "    .dataframe thead th {\n",
       "        text-align: right;\n",
       "    }\n",
       "</style>\n",
       "<table border=\"1\" class=\"dataframe\">\n",
       "  <thead>\n",
       "    <tr style=\"text-align: right;\">\n",
       "      <th></th>\n",
       "      <th>span_id</th>\n",
       "      <th>nr_train_images</th>\n",
       "      <th>roc_auc_mean</th>\n",
       "      <th>roc_auc.0</th>\n",
       "      <th>roc_auc.1</th>\n",
       "      <th>roc_auc.2</th>\n",
       "      <th>roc_auc.3</th>\n",
       "      <th>roc_auc.4</th>\n",
       "      <th>roc_auc.5</th>\n",
       "      <th>roc_auc.6</th>\n",
       "      <th>roc_auc.7</th>\n",
       "      <th>roc_auc.8</th>\n",
       "      <th>roc_auc.9</th>\n",
       "    </tr>\n",
       "  </thead>\n",
       "  <tbody>\n",
       "    <tr>\n",
       "      <th>1</th>\n",
       "      <td>0xf7b2e5d5bac0fbf6</td>\n",
       "      <td>600</td>\n",
       "      <td>0.9990</td>\n",
       "      <td>1.0</td>\n",
       "      <td>0.9993</td>\n",
       "      <td>1.0</td>\n",
       "      <td>0.9998</td>\n",
       "      <td>0.9991</td>\n",
       "      <td>0.9988</td>\n",
       "      <td>0.9999</td>\n",
       "      <td>0.9998</td>\n",
       "      <td>0.9943</td>\n",
       "      <td>0.9988</td>\n",
       "    </tr>\n",
       "    <tr>\n",
       "      <th>3</th>\n",
       "      <td>0x4f1f0539bdc81693</td>\n",
       "      <td>800</td>\n",
       "      <td>0.9989</td>\n",
       "      <td>1.0</td>\n",
       "      <td>0.9987</td>\n",
       "      <td>1.0</td>\n",
       "      <td>0.9998</td>\n",
       "      <td>0.9995</td>\n",
       "      <td>0.9991</td>\n",
       "      <td>1.0000</td>\n",
       "      <td>0.9999</td>\n",
       "      <td>0.9923</td>\n",
       "      <td>0.9995</td>\n",
       "    </tr>\n",
       "    <tr>\n",
       "      <th>0</th>\n",
       "      <td>0x068ff3533d993001</td>\n",
       "      <td>1000</td>\n",
       "      <td>0.9992</td>\n",
       "      <td>1.0</td>\n",
       "      <td>0.9990</td>\n",
       "      <td>1.0</td>\n",
       "      <td>0.9998</td>\n",
       "      <td>0.9996</td>\n",
       "      <td>0.9994</td>\n",
       "      <td>0.9999</td>\n",
       "      <td>0.9998</td>\n",
       "      <td>0.9948</td>\n",
       "      <td>0.9996</td>\n",
       "    </tr>\n",
       "    <tr>\n",
       "      <th>2</th>\n",
       "      <td>0x22449dbed87282d0</td>\n",
       "      <td>1200</td>\n",
       "      <td>0.9994</td>\n",
       "      <td>1.0</td>\n",
       "      <td>0.9991</td>\n",
       "      <td>1.0</td>\n",
       "      <td>0.9999</td>\n",
       "      <td>0.9998</td>\n",
       "      <td>0.9997</td>\n",
       "      <td>0.9999</td>\n",
       "      <td>0.9998</td>\n",
       "      <td>0.9958</td>\n",
       "      <td>0.9998</td>\n",
       "    </tr>\n",
       "  </tbody>\n",
       "</table>\n",
       "</div>"
      ],
      "text/plain": [
       "              span_id  nr_train_images  roc_auc_mean  roc_auc.0  roc_auc.1  \\\n",
       "1  0xf7b2e5d5bac0fbf6              600        0.9990        1.0     0.9993   \n",
       "3  0x4f1f0539bdc81693              800        0.9989        1.0     0.9987   \n",
       "0  0x068ff3533d993001             1000        0.9992        1.0     0.9990   \n",
       "2  0x22449dbed87282d0             1200        0.9994        1.0     0.9991   \n",
       "\n",
       "   roc_auc.2  roc_auc.3  roc_auc.4  roc_auc.5  roc_auc.6  roc_auc.7  \\\n",
       "1        1.0     0.9998     0.9991     0.9988     0.9999     0.9998   \n",
       "3        1.0     0.9998     0.9995     0.9991     1.0000     0.9999   \n",
       "0        1.0     0.9998     0.9996     0.9994     0.9999     0.9998   \n",
       "2        1.0     0.9999     0.9998     0.9997     0.9999     0.9998   \n",
       "\n",
       "   roc_auc.8  roc_auc.9  \n",
       "1     0.9943     0.9988  \n",
       "3     0.9923     0.9995  \n",
       "0     0.9948     0.9996  \n",
       "2     0.9958     0.9998  "
      ]
     },
     "execution_count": 10,
     "metadata": {},
     "output_type": "execute_result"
    }
   ],
   "source": [
    "df_data.round(4)"
   ]
  },
  {
   "cell_type": "code",
   "execution_count": 11,
   "id": "0ad06ecb",
   "metadata": {
    "execution": {
     "iopub.execute_input": "2022-12-02T06:44:08.319070Z",
     "iopub.status.busy": "2022-12-02T06:44:08.318289Z",
     "iopub.status.idle": "2022-12-02T06:44:08.516113Z",
     "shell.execute_reply": "2022-12-02T06:44:08.515294Z"
    },
    "papermill": {
     "duration": 0.204564,
     "end_time": "2022-12-02T06:44:08.518125",
     "exception": false,
     "start_time": "2022-12-02T06:44:08.313561",
     "status": "completed"
    },
    "tags": []
   },
   "outputs": [
    {
     "data": {
      "image/png": "[encoded data removed]",
      "text/plain": [
       "<Figure size 1600x400 with 1 Axes>"
      ]
     },
     "metadata": {},
     "output_type": "display_data"
    }
   ],
   "source": [
    "def plot_classifier_performance_summary(df_data):\n",
    "    fig, ax = plt.subplots(nrows=1, ncols=1, figsize=(16, 4), sharex=True)\n",
    "\n",
    "    #\n",
    "    ax.plot(\n",
    "        df_data[\"nr_train_images\"], df_data[\"roc_auc_mean\"], marker=\"o\", linestyle=\"--\"\n",
    "    )\n",
    "    ax.set_title(\n",
    "        f\"ROC AUC digit classifier performance on evaluation digits\", fontsize=17\n",
    "    )\n",
    "    ax.set_xlabel(\"Total number of digits in training set\", fontsize=14)\n",
    "    ax.set_ylabel(\"Mean ROC AUC\", fontsize=14)\n",
    "\n",
    "    fig.tight_layout()\n",
    "    fig.show()\n",
    "\n",
    "    return fig\n",
    "\n",
    "\n",
    "fig = plot_classifier_performance_summary(df_data)"
   ]
  },
  {
   "cell_type": "code",
   "execution_count": 12,
   "id": "8bd2ce8b",
   "metadata": {
    "execution": {
     "iopub.execute_input": "2022-12-02T06:44:08.533306Z",
     "iopub.status.busy": "2022-12-02T06:44:08.532644Z",
     "iopub.status.idle": "2022-12-02T06:44:08.628679Z",
     "shell.execute_reply": "2022-12-02T06:44:08.627697Z"
    },
    "papermill": {
     "duration": 0.11028,
     "end_time": "2022-12-02T06:44:08.633580",
     "exception": false,
     "start_time": "2022-12-02T06:44:08.523300",
     "status": "completed"
    },
    "tags": []
   },
   "outputs": [],
   "source": [
    "logger.log_figure(\"auc-roc-model-performances.png\", fig)"
   ]
  },
  {
   "cell_type": "code",
   "execution_count": 13,
   "id": "1f1dc7a5",
   "metadata": {
    "execution": {
     "iopub.execute_input": "2022-12-02T06:44:08.646330Z",
     "iopub.status.busy": "2022-12-02T06:44:08.645796Z",
     "iopub.status.idle": "2022-12-02T06:44:08.650716Z",
     "shell.execute_reply": "2022-12-02T06:44:08.650063Z"
    },
    "papermill": {
     "duration": 0.012341,
     "end_time": "2022-12-02T06:44:08.652391",
     "exception": false,
     "start_time": "2022-12-02T06:44:08.640050",
     "status": "completed"
    },
    "tags": []
   },
   "outputs": [],
   "source": [
    "###"
   ]
  },
  {
   "cell_type": "code",
   "execution_count": null,
   "id": "4c07c777",
   "metadata": {
    "papermill": {
     "duration": 0.00455,
     "end_time": "2022-12-02T06:44:08.661701",
     "exception": false,
     "start_time": "2022-12-02T06:44:08.657151",
     "status": "completed"
    },
    "tags": []
   },
   "outputs": [],
   "source": []
  }
 ],
 "metadata": {
  "jupytext": {
   "cell_metadata_filter": "tags,-all",
   "main_language": "python",
   "notebook_metadata_filter": "-all"
  },
  "language_info": {
   "codemirror_mode": {
    "name": "ipython",
    "version": 3
   },
   "file_extension": ".py",
   "mimetype": "text/x-python",
   "name": "python",
   "nbconvert_exporter": "python",
   "pygments_lexer": "ipython3",
   "version": "3.8.10"
  },
  "papermill": {
   "default_parameters": {},
   "duration": 4.574394,
   "end_time": "2022-12-02T06:44:09.787814",
   "environment_variables": {},
   "exception": null,
   "input_path": "/home/host_user/workspace/mnist-demo-pipeline/mnist-demo-pipeline/notebooks/temp-notebook-bm3606vc.ipynb",
   "output_path": "notebooks/summary.ipynb",
   "parameters": {
    "P": {
     "_opentelemetry_traceparent": "00-a311194a9e76b94214368f783f39d555-154ab4cadb0755a8-01",
     "pipeline.data_lake_root": "/pipeline-outputs/data-lake",
     "pipeline.github.actor": "matiasdahl",
     "pipeline.github.base_ref": "",
     "pipeline.github.event_name": "schedule",
     "pipeline.github.head_ref": "",
     "pipeline.github.job": "run-tests-pipeline-and-persist-pipeline-outputs",
     "pipeline.github.ref": "refs/heads/development",
     "pipeline.github.ref_name": "development",
     "pipeline.github.ref_type": "branch",
     "pipeline.github.repository": "matiasdahl/dev-mnist-digits-demo-pipeline",
     "pipeline.github.run_id": "3599489336",
     "pipeline.github.runner_name": "Hosted Agent",
     "pipeline.github.sha": "ace0d01011d5e914f1921450dd5a59c11367b38d",
     "pipeline.github.workflow": "Run automated tests, pipeline and deploy results to static reporting site",
     "pipeline.pipeline_run_id": "1a82e5be-f00d-4b24-960b-21f4c1aa5efd",
     "pipeline.run_environment": "ci",
     "run.retry_nr": "0",
     "task.max_nr_retries": "1",
     "task.notebook": "notebooks/summary.py",
     "task.num_cpus": 1,
     "task.timeout_s": "None"
    }
   },
   "start_time": "2022-12-02T06:44:05.213420",
   "version": "2.3.3"
  }
 },
 "nbformat": 4,
 "nbformat_minor": 5
}