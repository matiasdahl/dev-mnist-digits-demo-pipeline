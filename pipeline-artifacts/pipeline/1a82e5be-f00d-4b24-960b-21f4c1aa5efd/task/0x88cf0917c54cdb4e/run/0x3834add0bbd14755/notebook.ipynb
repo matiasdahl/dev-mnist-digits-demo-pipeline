{
 "cells": [
  {
   "cell_type": "markdown",
   "id": "7d359d51",
   "metadata": {
    "papermill": {
     "duration": 0.004518,
     "end_time": "2022-12-02T06:43:08.179579",
     "exception": false,
     "start_time": "2022-12-02T06:43:08.175061",
     "status": "completed"
    },
    "tags": []
   },
   "source": [
    "# Ingest toy version of MNIST digit data from sklearn"
   ]
  },
  {
   "cell_type": "markdown",
   "id": "ef37095b",
   "metadata": {
    "papermill": {
     "duration": 0.002703,
     "end_time": "2022-12-02T06:43:08.185413",
     "exception": false,
     "start_time": "2022-12-02T06:43:08.182710",
     "status": "completed"
    },
    "tags": []
   },
   "source": [
    "### Determine run parameters"
   ]
  },
  {
   "cell_type": "code",
   "execution_count": 1,
   "id": "f168f264",
   "metadata": {
    "execution": {
     "iopub.execute_input": "2022-12-02T06:43:08.195346Z",
     "iopub.status.busy": "2022-12-02T06:43:08.194974Z",
     "iopub.status.idle": "2022-12-02T06:43:08.203850Z",
     "shell.execute_reply": "2022-12-02T06:43:08.203179Z"
    },
    "lines_to_next_cell": 0,
    "papermill": {
     "duration": 0.015107,
     "end_time": "2022-12-02T06:43:08.206130",
     "exception": false,
     "start_time": "2022-12-02T06:43:08.191023",
     "status": "completed"
    },
    "tags": []
   },
   "outputs": [],
   "source": [
    "# ----------------- Parameters for interactive development --------------\n",
    "P = {\n",
    "    \"pipeline.run_environment\": \"dev\",\n",
    "    \"pipeline.data_lake_root\": \"/pipeline-outputs/data-lake\",\n",
    "    \"run.retry_nr\": \"1\",\n",
    "}"
   ]
  },
  {
   "cell_type": "code",
   "execution_count": 2,
   "id": "858fcd00",
   "metadata": {
    "execution": {
     "iopub.execute_input": "2022-12-02T06:43:08.213654Z",
     "iopub.status.busy": "2022-12-02T06:43:08.212978Z",
     "iopub.status.idle": "2022-12-02T06:43:08.216896Z",
     "shell.execute_reply": "2022-12-02T06:43:08.216152Z"
    },
    "lines_to_next_cell": 0,
    "papermill": {
     "duration": 0.009838,
     "end_time": "2022-12-02T06:43:08.218913",
     "exception": false,
     "start_time": "2022-12-02T06:43:08.209075",
     "status": "completed"
    },
    "tags": [
     "parameters"
    ]
   },
   "outputs": [],
   "source": [
    "# - During automated runs parameters will be injected in the below cell -"
   ]
  },
  {
   "cell_type": "code",
   "execution_count": 3,
   "id": "ac61f271",
   "metadata": {
    "execution": {
     "iopub.execute_input": "2022-12-02T06:43:08.226377Z",
     "iopub.status.busy": "2022-12-02T06:43:08.225633Z",
     "iopub.status.idle": "2022-12-02T06:43:08.231437Z",
     "shell.execute_reply": "2022-12-02T06:43:08.230607Z"
    },
    "papermill": {
     "duration": 0.012179,
     "end_time": "2022-12-02T06:43:08.233763",
     "exception": false,
     "start_time": "2022-12-02T06:43:08.221584",
     "status": "completed"
    },
    "tags": [
     "injected-parameters"
    ]
   },
   "outputs": [],
   "source": [
    "# Parameters\n",
    "P = {\n",
    "    \"pipeline.data_lake_root\": \"/pipeline-outputs/data-lake\",\n",
    "    \"pipeline.run_environment\": \"ci\",\n",
    "    \"pipeline.pipeline_run_id\": \"1a82e5be-f00d-4b24-960b-21f4c1aa5efd\",\n",
    "    \"pipeline.github.repository\": \"matiasdahl/dev-mnist-digits-demo-pipeline\",\n",
    "    \"pipeline.github.workflow\": \"Run automated tests, pipeline and deploy results to static reporting site\",\n",
    "    \"pipeline.github.runner_name\": \"Hosted Agent\",\n",
    "    \"pipeline.github.run_id\": \"3599489336\",\n",
    "    \"pipeline.github.actor\": \"matiasdahl\",\n",
    "    \"pipeline.github.job\": \"run-tests-pipeline-and-persist-pipeline-outputs\",\n",
    "    \"pipeline.github.base_ref\": \"\",\n",
    "    \"pipeline.github.head_ref\": \"\",\n",
    "    \"pipeline.github.sha\": \"ace0d01011d5e914f1921450dd5a59c11367b38d\",\n",
    "    \"pipeline.github.ref\": \"refs/heads/development\",\n",
    "    \"pipeline.github.ref_type\": \"branch\",\n",
    "    \"pipeline.github.ref_name\": \"development\",\n",
    "    \"pipeline.github.event_name\": \"schedule\",\n",
    "    \"task.notebook\": \"notebooks/ingest.py\",\n",
    "    \"task.max_nr_retries\": \"15\",\n",
    "    \"run.retry_nr\": \"10\",\n",
    "    \"task.timeout_s\": \"10\",\n",
    "    \"task.num_cpus\": 1,\n",
    "    \"_opentelemetry_traceparent\": \"00-a311194a9e76b94214368f783f39d555-61359ae400a1f540-01\",\n",
    "}\n"
   ]
  },
  {
   "cell_type": "code",
   "execution_count": 4,
   "id": "66faee13",
   "metadata": {
    "execution": {
     "iopub.execute_input": "2022-12-02T06:43:08.241538Z",
     "iopub.status.busy": "2022-12-02T06:43:08.240736Z",
     "iopub.status.idle": "2022-12-02T06:43:08.244096Z",
     "shell.execute_reply": "2022-12-02T06:43:08.243500Z"
    },
    "lines_to_next_cell": 0,
    "papermill": {
     "duration": 0.008989,
     "end_time": "2022-12-02T06:43:08.246012",
     "exception": false,
     "start_time": "2022-12-02T06:43:08.237023",
     "status": "completed"
    },
    "tags": []
   },
   "outputs": [],
   "source": [
    "# -----------------------------------------------------------------------"
   ]
  },
  {
   "cell_type": "markdown",
   "id": "542670e8",
   "metadata": {
    "lines_to_next_cell": 2,
    "papermill": {
     "duration": 0.002553,
     "end_time": "2022-12-02T06:43:08.251504",
     "exception": false,
     "start_time": "2022-12-02T06:43:08.248951",
     "status": "completed"
    },
    "tags": []
   },
   "source": [
    "---"
   ]
  },
  {
   "cell_type": "markdown",
   "id": "03e6ef70",
   "metadata": {
    "papermill": {
     "duration": 0.002773,
     "end_time": "2022-12-02T06:43:08.257054",
     "exception": false,
     "start_time": "2022-12-02T06:43:08.254281",
     "status": "completed"
    },
    "tags": []
   },
   "source": [
    "### Simulate different types of failures (for testing timeout and retry logic)"
   ]
  },
  {
   "cell_type": "code",
   "execution_count": 5,
   "id": "2bcdcbdf",
   "metadata": {
    "execution": {
     "iopub.execute_input": "2022-12-02T06:43:08.264409Z",
     "iopub.status.busy": "2022-12-02T06:43:08.263631Z",
     "iopub.status.idle": "2022-12-02T06:43:08.758339Z",
     "shell.execute_reply": "2022-12-02T06:43:08.757537Z"
    },
    "papermill": {
     "duration": 0.500731,
     "end_time": "2022-12-02T06:43:08.760602",
     "exception": false,
     "start_time": "2022-12-02T06:43:08.259871",
     "status": "completed"
    },
    "tags": []
   },
   "outputs": [
    {
     "name": "stderr",
     "output_type": "stream",
     "text": [
      "2022-12-02 06:43:08,603\tINFO worker.py:842 -- Connecting to existing Ray cluster at address: 172.17.0.2:6379\n"
     ]
    }
   ],
   "source": [
    "from pynb_dag_runner.tasks.task_opentelemetry_logging import PydarLogger\n",
    "\n",
    "logger = PydarLogger(P)"
   ]
  },
  {
   "cell_type": "code",
   "execution_count": 6,
   "id": "fb02184d",
   "metadata": {
    "execution": {
     "iopub.execute_input": "2022-12-02T06:43:08.769121Z",
     "iopub.status.busy": "2022-12-02T06:43:08.768519Z",
     "iopub.status.idle": "2022-12-02T06:43:08.774111Z",
     "shell.execute_reply": "2022-12-02T06:43:08.773316Z"
    },
    "papermill": {
     "duration": 0.012748,
     "end_time": "2022-12-02T06:43:08.776536",
     "exception": false,
     "start_time": "2022-12-02T06:43:08.763788",
     "status": "completed"
    },
    "tags": []
   },
   "outputs": [],
   "source": [
    "import time, random\n",
    "\n",
    "\n",
    "def maybe_crash(retry_nr: int, run_environment: str):\n",
    "    if retry_nr == 2 and run_environment == \"ci\":\n",
    "        time.sleep(1e6)\n",
    "\n",
    "    max_retry_nr: int = 3 if run_environment == \"dev\" else 10\n",
    "\n",
    "    if retry_nr < max_retry_nr:\n",
    "        if random.random() < 0.1:\n",
    "            time.sleep(1e6)\n",
    "        else:\n",
    "            raise Exception(\"Simulated exception failure from ingestion step notebook!\")\n",
    "\n",
    "\n",
    "maybe_crash(\n",
    "    retry_nr=int(P[\"run.retry_nr\"]), run_environment=P[\"pipeline.run_environment\"]\n",
    ")"
   ]
  },
  {
   "cell_type": "markdown",
   "id": "4ccb2566",
   "metadata": {
    "lines_to_next_cell": 2,
    "papermill": {
     "duration": 0.00288,
     "end_time": "2022-12-02T06:43:08.782205",
     "exception": false,
     "start_time": "2022-12-02T06:43:08.779325",
     "status": "completed"
    },
    "tags": []
   },
   "source": [
    "### Notebook code"
   ]
  },
  {
   "cell_type": "code",
   "execution_count": 7,
   "id": "d6978cc5",
   "metadata": {
    "execution": {
     "iopub.execute_input": "2022-12-02T06:43:08.790377Z",
     "iopub.status.busy": "2022-12-02T06:43:08.789857Z",
     "iopub.status.idle": "2022-12-02T06:43:10.361991Z",
     "shell.execute_reply": "2022-12-02T06:43:10.358231Z"
    },
    "papermill": {
     "duration": 1.578473,
     "end_time": "2022-12-02T06:43:10.364254",
     "exception": false,
     "start_time": "2022-12-02T06:43:08.785781",
     "status": "completed"
    },
    "tags": []
   },
   "outputs": [],
   "source": [
    "from sklearn import datasets\n",
    "\n",
    "#\n",
    "from common.io import datalake_root, write_numpy"
   ]
  },
  {
   "cell_type": "code",
   "execution_count": 8,
   "id": "794556c5",
   "metadata": {
    "execution": {
     "iopub.execute_input": "2022-12-02T06:43:10.372775Z",
     "iopub.status.busy": "2022-12-02T06:43:10.372111Z",
     "iopub.status.idle": "2022-12-02T06:43:10.391736Z",
     "shell.execute_reply": "2022-12-02T06:43:10.389566Z"
    },
    "lines_to_next_cell": 2,
    "papermill": {
     "duration": 0.026166,
     "end_time": "2022-12-02T06:43:10.393677",
     "exception": false,
     "start_time": "2022-12-02T06:43:10.367511",
     "status": "completed"
    },
    "tags": []
   },
   "outputs": [],
   "source": [
    "digits = datasets.load_digits()\n",
    "\n",
    "X = digits[\"data\"]\n",
    "y = digits[\"target\"]"
   ]
  },
  {
   "cell_type": "code",
   "execution_count": 9,
   "id": "87127cf9",
   "metadata": {
    "execution": {
     "iopub.execute_input": "2022-12-02T06:43:10.405604Z",
     "iopub.status.busy": "2022-12-02T06:43:10.404712Z",
     "iopub.status.idle": "2022-12-02T06:43:10.421534Z",
     "shell.execute_reply": "2022-12-02T06:43:10.420775Z"
    },
    "papermill": {
     "duration": 0.02637,
     "end_time": "2022-12-02T06:43:10.423330",
     "exception": false,
     "start_time": "2022-12-02T06:43:10.396960",
     "status": "completed"
    },
    "tags": []
   },
   "outputs": [
    {
     "name": "stdout",
     "output_type": "stream",
     "text": [
      " - Logging data_shape (json) : [1797, 64]\n",
      " - Logging target_shape (json) : [1797]\n"
     ]
    },
    {
     "data": {
      "text/plain": [
       "((1797, 64), (1797,))"
      ]
     },
     "execution_count": 9,
     "metadata": {},
     "output_type": "execute_result"
    }
   ],
   "source": [
    "logger.log_value(\"data_shape\", list(X.shape))\n",
    "logger.log_value(\"target_shape\", list(y.shape))\n",
    "\n",
    "X.shape, y.shape"
   ]
  },
  {
   "cell_type": "code",
   "execution_count": 10,
   "id": "e8d552c4",
   "metadata": {
    "execution": {
     "iopub.execute_input": "2022-12-02T06:43:10.431322Z",
     "iopub.status.busy": "2022-12-02T06:43:10.430826Z",
     "iopub.status.idle": "2022-12-02T06:43:10.443039Z",
     "shell.execute_reply": "2022-12-02T06:43:10.441489Z"
    },
    "papermill": {
     "duration": 0.018947,
     "end_time": "2022-12-02T06:43:10.445515",
     "exception": false,
     "start_time": "2022-12-02T06:43:10.426568",
     "status": "completed"
    },
    "tags": []
   },
   "outputs": [],
   "source": [
    "write_numpy(datalake_root(P) / \"raw\" / \"digits.numpy\", X)\n",
    "write_numpy(datalake_root(P) / \"raw\" / \"labels.numpy\", y)"
   ]
  },
  {
   "cell_type": "code",
   "execution_count": null,
   "id": "eb3b53da",
   "metadata": {
    "papermill": {
     "duration": 0.003781,
     "end_time": "2022-12-02T06:43:10.452727",
     "exception": false,
     "start_time": "2022-12-02T06:43:10.448946",
     "status": "completed"
    },
    "tags": []
   },
   "outputs": [],
   "source": []
  }
 ],
 "metadata": {
  "jupytext": {
   "cell_metadata_filter": "tags,-all",
   "main_language": "python",
   "notebook_metadata_filter": "-all"
  },
  "language_info": {
   "codemirror_mode": {
    "name": "ipython",
    "version": 3
   },
   "file_extension": ".py",
   "mimetype": "text/x-python",
   "name": "python",
   "nbconvert_exporter": "python",
   "pygments_lexer": "ipython3",
   "version": "3.8.10"
  },
  "papermill": {
   "default_parameters": {},
   "duration": 4.566722,
   "end_time": "2022-12-02T06:43:11.483994",
   "environment_variables": {},
   "exception": null,
   "input_path": "/home/host_user/workspace/mnist-demo-pipeline/mnist-demo-pipeline/notebooks/temp-notebook-cof19qfj.ipynb",
   "output_path": "notebooks/ingest.ipynb",
   "parameters": {
    "P": {
     "_opentelemetry_traceparent": "00-a311194a9e76b94214368f783f39d555-61359ae400a1f540-01",
     "pipeline.data_lake_root": "/pipeline-outputs/data-lake",
     "pipeline.github.actor": "matiasdahl",
     "pipeline.github.base_ref": "",
     "pipeline.github.event_name": "schedule",
     "pipeline.github.head_ref": "",
     "pipeline.github.job": "run-tests-pipeline-and-persist-pipeline-outputs",
     "pipeline.github.ref": "refs/heads/development",
     "pipeline.github.ref_name": "development",
     "pipeline.github.ref_type": "branch",
     "pipeline.github.repository": "matiasdahl/dev-mnist-digits-demo-pipeline",
     "pipeline.github.run_id": "3599489336",
     "pipeline.github.runner_name": "Hosted Agent",
     "pipeline.github.sha": "ace0d01011d5e914f1921450dd5a59c11367b38d",
     "pipeline.github.workflow": "Run automated tests, pipeline and deploy results to static reporting site",
     "pipeline.pipeline_run_id": "1a82e5be-f00d-4b24-960b-21f4c1aa5efd",
     "pipeline.run_environment": "ci",
     "run.retry_nr": "10",
     "task.max_nr_retries": "15",
     "task.notebook": "notebooks/ingest.py",
     "task.num_cpus": 1,
     "task.timeout_s": "10"
    }
   },
   "start_time": "2022-12-02T06:43:06.917272",
   "version": "2.3.3"
  }
 },
 "nbformat": 4,
 "nbformat_minor": 5
}