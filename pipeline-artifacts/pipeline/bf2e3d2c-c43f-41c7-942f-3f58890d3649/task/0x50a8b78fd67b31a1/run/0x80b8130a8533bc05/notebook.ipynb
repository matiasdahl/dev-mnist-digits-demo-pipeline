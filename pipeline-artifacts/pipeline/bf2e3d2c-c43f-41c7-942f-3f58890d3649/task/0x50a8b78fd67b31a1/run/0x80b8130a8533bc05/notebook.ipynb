{
 "cells": [
  {
   "cell_type": "markdown",
   "id": "0f01a918",
   "metadata": {
    "papermill": {
     "duration": 0.004667,
     "end_time": "2022-12-06T06:43:28.142925",
     "exception": false,
     "start_time": "2022-12-06T06:43:28.138258",
     "status": "completed"
    },
    "tags": []
   },
   "source": [
    "# Summarize model performances\n",
    "\n",
    "This notebooks plots the performances (using averaged ROC AUC scores) for models\n",
    "trained with different training sets."
   ]
  },
  {
   "cell_type": "markdown",
   "id": "c2e84fd9",
   "metadata": {
    "papermill": {
     "duration": 0.002689,
     "end_time": "2022-12-06T06:43:28.148955",
     "exception": false,
     "start_time": "2022-12-06T06:43:28.146266",
     "status": "completed"
    },
    "tags": []
   },
   "source": [
    "### Determine run parameters"
   ]
  },
  {
   "cell_type": "code",
   "execution_count": 1,
   "id": "06247567",
   "metadata": {
    "execution": {
     "iopub.execute_input": "2022-12-06T06:43:28.156536Z",
     "iopub.status.busy": "2022-12-06T06:43:28.155984Z",
     "iopub.status.idle": "2022-12-06T06:43:28.167234Z",
     "shell.execute_reply": "2022-12-06T06:43:28.163805Z"
    },
    "lines_to_next_cell": 0,
    "papermill": {
     "duration": 0.017387,
     "end_time": "2022-12-06T06:43:28.169162",
     "exception": false,
     "start_time": "2022-12-06T06:43:28.151775",
     "status": "completed"
    },
    "tags": []
   },
   "outputs": [],
   "source": [
    "# ----------------- Parameters for interactive development --------------\n",
    "P = {\n",
    "    \"pipeline.run_environment\": \"dev\",\n",
    "}"
   ]
  },
  {
   "cell_type": "code",
   "execution_count": 2,
   "id": "df167d1d",
   "metadata": {
    "execution": {
     "iopub.execute_input": "2022-12-06T06:43:28.177523Z",
     "iopub.status.busy": "2022-12-06T06:43:28.177038Z",
     "iopub.status.idle": "2022-12-06T06:43:28.180549Z",
     "shell.execute_reply": "2022-12-06T06:43:28.179842Z"
    },
    "lines_to_next_cell": 0,
    "papermill": {
     "duration": 0.010137,
     "end_time": "2022-12-06T06:43:28.182538",
     "exception": false,
     "start_time": "2022-12-06T06:43:28.172401",
     "status": "completed"
    },
    "tags": [
     "parameters"
    ]
   },
   "outputs": [],
   "source": [
    "# - During automated runs parameters will be injected in the below cell -"
   ]
  },
  {
   "cell_type": "code",
   "execution_count": 3,
   "id": "97b74317",
   "metadata": {
    "execution": {
     "iopub.execute_input": "2022-12-06T06:43:28.190314Z",
     "iopub.status.busy": "2022-12-06T06:43:28.189735Z",
     "iopub.status.idle": "2022-12-06T06:43:28.196271Z",
     "shell.execute_reply": "2022-12-06T06:43:28.195553Z"
    },
    "papermill": {
     "duration": 0.012509,
     "end_time": "2022-12-06T06:43:28.197902",
     "exception": false,
     "start_time": "2022-12-06T06:43:28.185393",
     "status": "completed"
    },
    "tags": [
     "injected-parameters"
    ]
   },
   "outputs": [],
   "source": [
    "# Parameters\n",
    "P = {\n",
    "    \"pipeline.data_lake_root\": \"/pipeline-outputs/data-lake\",\n",
    "    \"pipeline.run_environment\": \"ci\",\n",
    "    \"pipeline.pipeline_run_id\": \"bf2e3d2c-c43f-41c7-942f-3f58890d3649\",\n",
    "    \"pipeline.github.repository\": \"matiasdahl/dev-mnist-digits-demo-pipeline\",\n",
    "    \"pipeline.github.workflow\": \"Run automated tests, pipeline and deploy results to static reporting site\",\n",
    "    \"pipeline.github.runner_name\": \"Hosted Agent\",\n",
    "    \"pipeline.github.run_id\": \"3627132107\",\n",
    "    \"pipeline.github.actor\": \"matiasdahl\",\n",
    "    \"pipeline.github.job\": \"run-tests-pipeline-and-persist-pipeline-outputs\",\n",
    "    \"pipeline.github.base_ref\": \"\",\n",
    "    \"pipeline.github.head_ref\": \"\",\n",
    "    \"pipeline.github.sha\": \"ace0d01011d5e914f1921450dd5a59c11367b38d\",\n",
    "    \"pipeline.github.ref\": \"refs/heads/development\",\n",
    "    \"pipeline.github.ref_type\": \"branch\",\n",
    "    \"pipeline.github.ref_name\": \"development\",\n",
    "    \"pipeline.github.event_name\": \"schedule\",\n",
    "    \"task.notebook\": \"notebooks/summary.py\",\n",
    "    \"task.max_nr_retries\": \"1\",\n",
    "    \"run.retry_nr\": \"0\",\n",
    "    \"task.timeout_s\": \"None\",\n",
    "    \"task.num_cpus\": 1,\n",
    "    \"_opentelemetry_traceparent\": \"00-fc58cfcfae3a12f61dcf247fa53287f2-1048d71423a0c334-01\",\n",
    "}\n"
   ]
  },
  {
   "cell_type": "code",
   "execution_count": 4,
   "id": "e1e66180",
   "metadata": {
    "execution": {
     "iopub.execute_input": "2022-12-06T06:43:28.205038Z",
     "iopub.status.busy": "2022-12-06T06:43:28.204567Z",
     "iopub.status.idle": "2022-12-06T06:43:28.208501Z",
     "shell.execute_reply": "2022-12-06T06:43:28.207671Z"
    },
    "lines_to_next_cell": 0,
    "papermill": {
     "duration": 0.009873,
     "end_time": "2022-12-06T06:43:28.210540",
     "exception": false,
     "start_time": "2022-12-06T06:43:28.200667",
     "status": "completed"
    },
    "tags": []
   },
   "outputs": [],
   "source": [
    "# -----------------------------------------------------------------------"
   ]
  },
  {
   "cell_type": "markdown",
   "id": "2b27e03a",
   "metadata": {
    "papermill": {
     "duration": 0.002862,
     "end_time": "2022-12-06T06:43:28.216529",
     "exception": false,
     "start_time": "2022-12-06T06:43:28.213667",
     "status": "completed"
    },
    "tags": []
   },
   "source": [
    "---"
   ]
  },
  {
   "cell_type": "markdown",
   "id": "fae2a311",
   "metadata": {
    "lines_to_next_cell": 2,
    "papermill": {
     "duration": 0.005037,
     "end_time": "2022-12-06T06:43:28.224454",
     "exception": false,
     "start_time": "2022-12-06T06:43:28.219417",
     "status": "completed"
    },
    "tags": []
   },
   "source": [
    "### Notebook code"
   ]
  },
  {
   "cell_type": "code",
   "execution_count": 5,
   "id": "397e3bcf",
   "metadata": {
    "execution": {
     "iopub.execute_input": "2022-12-06T06:43:28.232292Z",
     "iopub.status.busy": "2022-12-06T06:43:28.231546Z",
     "iopub.status.idle": "2022-12-06T06:43:29.489506Z",
     "shell.execute_reply": "2022-12-06T06:43:29.488709Z"
    },
    "papermill": {
     "duration": 1.26414,
     "end_time": "2022-12-06T06:43:29.491611",
     "exception": false,
     "start_time": "2022-12-06T06:43:28.227471",
     "status": "completed"
    },
    "tags": []
   },
   "outputs": [],
   "source": [
    "#\n",
    "import pandas as pd\n",
    "import matplotlib.pyplot as plt\n",
    "\n",
    "#\n",
    "from pynb_dag_runner.tasks.task_opentelemetry_logging import PydarLogger"
   ]
  },
  {
   "cell_type": "code",
   "execution_count": 6,
   "id": "afa4c946",
   "metadata": {
    "execution": {
     "iopub.execute_input": "2022-12-06T06:43:29.501136Z",
     "iopub.status.busy": "2022-12-06T06:43:29.500520Z",
     "iopub.status.idle": "2022-12-06T06:43:29.663123Z",
     "shell.execute_reply": "2022-12-06T06:43:29.661738Z"
    },
    "papermill": {
     "duration": 0.168772,
     "end_time": "2022-12-06T06:43:29.665152",
     "exception": false,
     "start_time": "2022-12-06T06:43:29.496380",
     "status": "completed"
    },
    "tags": []
   },
   "outputs": [
    {
     "name": "stderr",
     "output_type": "stream",
     "text": [
      "2022-12-06 06:43:29,505\tINFO worker.py:842 -- Connecting to existing Ray cluster at address: 172.17.0.2:6379\n"
     ]
    }
   ],
   "source": [
    "logger = PydarLogger(P=P)"
   ]
  },
  {
   "cell_type": "code",
   "execution_count": 7,
   "id": "7ff179e7",
   "metadata": {
    "execution": {
     "iopub.execute_input": "2022-12-06T06:43:29.674367Z",
     "iopub.status.busy": "2022-12-06T06:43:29.673908Z",
     "iopub.status.idle": "2022-12-06T06:43:29.678193Z",
     "shell.execute_reply": "2022-12-06T06:43:29.677406Z"
    },
    "papermill": {
     "duration": 0.010926,
     "end_time": "2022-12-06T06:43:29.680246",
     "exception": false,
     "start_time": "2022-12-06T06:43:29.669320",
     "status": "completed"
    },
    "tags": []
   },
   "outputs": [],
   "source": [
    "from pynb_dag_runner.tasks.task_opentelemetry_logging import (\n",
    "    PydarLogger,\n",
    "    get_logged_values,\n",
    ")\n",
    "from pynb_dag_runner.opentelemetry_helpers import _get_all_spans, Spans"
   ]
  },
  {
   "cell_type": "code",
   "execution_count": 8,
   "id": "b16cc6ef",
   "metadata": {
    "execution": {
     "iopub.execute_input": "2022-12-06T06:43:29.689168Z",
     "iopub.status.busy": "2022-12-06T06:43:29.688307Z",
     "iopub.status.idle": "2022-12-06T06:43:29.696169Z",
     "shell.execute_reply": "2022-12-06T06:43:29.695409Z"
    },
    "papermill": {
     "duration": 0.014261,
     "end_time": "2022-12-06T06:43:29.697568",
     "exception": false,
     "start_time": "2022-12-06T06:43:29.683307",
     "status": "completed"
    },
    "tags": []
   },
   "outputs": [],
   "source": [
    "def get_model_benchmarks():\n",
    "    \"\"\"\n",
    "    Query the OpenTelemetry logs for *this pipeline run* and return\n",
    "    all key-values logged from all runs of the benchmark-model.py task\n",
    "\n",
    "    For testing a json file with OpenTelemetry spans (as an array)\n",
    "    can be used as follows:\n",
    "\n",
    "    - Create output directory `mkdir /tmp/spans`\n",
    "    - Run unit tests. This will create pipeline-outputs/opentelemetry-spans.json\n",
    "    - Convert this json-array into jsonl format as follows\n",
    "\n",
    "    jq -c '.[]' /pipeline-outputs/opentelemetry-spans.json > /tmp/spans/data.txt\n",
    "\n",
    "    \"\"\"\n",
    "    spans: Spans = Spans(_get_all_spans())\n",
    "    print(f\"Found {len(spans)} spans\")\n",
    "\n",
    "    benchmark_spans = (\n",
    "        spans\n",
    "        # -\n",
    "        .filter([\"name\"], \"execute-task\")\n",
    "        # -\n",
    "        .filter([\"attributes\", \"task.notebook\"], \"notebooks/benchmark-model.py\")\n",
    "    )\n",
    "\n",
    "    result = []\n",
    "    for s in benchmark_spans:\n",
    "        result.append(\n",
    "            {\n",
    "                \"span_id\": s[\"context\"][\"span_id\"],\n",
    "                \"nr_train_images\": s[\"attributes\"][\"task.nr_train_images\"],\n",
    "                \"data\": get_logged_values(spans.bound_under(s)),\n",
    "            }\n",
    "        )\n",
    "\n",
    "    return result\n",
    "\n",
    "\n",
    "def adjust_pandas(df):\n",
    "    def column_renamer(col_name: str) -> str:\n",
    "        return (\n",
    "            col_name\n",
    "            # -- 'data.roc_auc_per_digit.4' -> 'roc_auc.4'\n",
    "            .replace(\"data.roc_auc_per_digit\", \"roc_auc\")\n",
    "            # -- 'data.roc_auc_class_mean' -> 'roc_auc_mean'\n",
    "            .replace(\"data.roc_auc_class_mean\", \"roc_auc_mean\")\n",
    "        )\n",
    "\n",
    "    return df.rename(column_renamer, axis=\"columns\").sort_values(by=\"nr_train_images\")"
   ]
  },
  {
   "cell_type": "code",
   "execution_count": 9,
   "id": "3284903e",
   "metadata": {
    "execution": {
     "iopub.execute_input": "2022-12-06T06:43:29.706134Z",
     "iopub.status.busy": "2022-12-06T06:43:29.705333Z",
     "iopub.status.idle": "2022-12-06T06:43:29.757433Z",
     "shell.execute_reply": "2022-12-06T06:43:29.756784Z"
    },
    "papermill": {
     "duration": 0.058175,
     "end_time": "2022-12-06T06:43:29.759140",
     "exception": false,
     "start_time": "2022-12-06T06:43:29.700965",
     "status": "completed"
    },
    "tags": []
   },
   "outputs": [
    {
     "name": "stdout",
     "output_type": "stream",
     "text": [
      "Found 420 spans\n"
     ]
    }
   ],
   "source": [
    "df_data = adjust_pandas(pd.json_normalize(get_model_benchmarks()))"
   ]
  },
  {
   "cell_type": "code",
   "execution_count": 10,
   "id": "786821fb",
   "metadata": {
    "execution": {
     "iopub.execute_input": "2022-12-06T06:43:29.769715Z",
     "iopub.status.busy": "2022-12-06T06:43:29.768842Z",
     "iopub.status.idle": "2022-12-06T06:43:29.803074Z",
     "shell.execute_reply": "2022-12-06T06:43:29.802317Z"
    },
    "papermill": {
     "duration": 0.043034,
     "end_time": "2022-12-06T06:43:29.806268",
     "exception": false,
     "start_time": "2022-12-06T06:43:29.763234",
     "status": "completed"
    },
    "tags": []
   },
   "outputs": [
    {
     "data": {
      "text/html": [
       "<div>\n",
       "<style scoped>\n",
       "    .dataframe tbody tr th:only-of-type {\n",
       "        vertical-align: middle;\n",
       "    }\n",
       "\n",
       "    .dataframe tbody tr th {\n",
       "        vertical-align: top;\n",
       "    }\n",
       "\n",
       "    .dataframe thead th {\n",
       "        text-align: right;\n",
       "    }\n",
       "</style>\n",
       "<table border=\"1\" class=\"dataframe\">\n",
       "  <thead>\n",
       "    <tr style=\"text-align: right;\">\n",
       "      <th></th>\n",
       "      <th>span_id</th>\n",
       "      <th>nr_train_images</th>\n",
       "      <th>roc_auc_mean</th>\n",
       "      <th>roc_auc.0</th>\n",
       "      <th>roc_auc.1</th>\n",
       "      <th>roc_auc.2</th>\n",
       "      <th>roc_auc.3</th>\n",
       "      <th>roc_auc.4</th>\n",
       "      <th>roc_auc.5</th>\n",
       "      <th>roc_auc.6</th>\n",
       "      <th>roc_auc.7</th>\n",
       "      <th>roc_auc.8</th>\n",
       "      <th>roc_auc.9</th>\n",
       "    </tr>\n",
       "  </thead>\n",
       "  <tbody>\n",
       "    <tr>\n",
       "      <th>3</th>\n",
       "      <td>0x3d07736608c7d887</td>\n",
       "      <td>600</td>\n",
       "      <td>0.9990</td>\n",
       "      <td>1.0</td>\n",
       "      <td>0.9993</td>\n",
       "      <td>1.0</td>\n",
       "      <td>0.9998</td>\n",
       "      <td>0.9991</td>\n",
       "      <td>0.9989</td>\n",
       "      <td>0.9999</td>\n",
       "      <td>0.9998</td>\n",
       "      <td>0.9946</td>\n",
       "      <td>0.9987</td>\n",
       "    </tr>\n",
       "    <tr>\n",
       "      <th>0</th>\n",
       "      <td>0xa5ff27f8983ca7b0</td>\n",
       "      <td>800</td>\n",
       "      <td>0.9989</td>\n",
       "      <td>1.0</td>\n",
       "      <td>0.9988</td>\n",
       "      <td>1.0</td>\n",
       "      <td>0.9998</td>\n",
       "      <td>0.9995</td>\n",
       "      <td>0.9990</td>\n",
       "      <td>1.0000</td>\n",
       "      <td>0.9999</td>\n",
       "      <td>0.9929</td>\n",
       "      <td>0.9994</td>\n",
       "    </tr>\n",
       "    <tr>\n",
       "      <th>1</th>\n",
       "      <td>0xd7f97c55c5cafe26</td>\n",
       "      <td>1000</td>\n",
       "      <td>0.9992</td>\n",
       "      <td>1.0</td>\n",
       "      <td>0.9990</td>\n",
       "      <td>1.0</td>\n",
       "      <td>0.9998</td>\n",
       "      <td>0.9997</td>\n",
       "      <td>0.9994</td>\n",
       "      <td>0.9999</td>\n",
       "      <td>0.9998</td>\n",
       "      <td>0.9952</td>\n",
       "      <td>0.9996</td>\n",
       "    </tr>\n",
       "    <tr>\n",
       "      <th>2</th>\n",
       "      <td>0xd80b421e0ed82695</td>\n",
       "      <td>1200</td>\n",
       "      <td>0.9994</td>\n",
       "      <td>1.0</td>\n",
       "      <td>0.9991</td>\n",
       "      <td>1.0</td>\n",
       "      <td>0.9999</td>\n",
       "      <td>0.9998</td>\n",
       "      <td>0.9997</td>\n",
       "      <td>0.9999</td>\n",
       "      <td>0.9998</td>\n",
       "      <td>0.9957</td>\n",
       "      <td>0.9998</td>\n",
       "    </tr>\n",
       "  </tbody>\n",
       "</table>\n",
       "</div>"
      ],
      "text/plain": [
       "              span_id  nr_train_images  roc_auc_mean  roc_auc.0  roc_auc.1  \\\n",
       "3  0x3d07736608c7d887              600        0.9990        1.0     0.9993   \n",
       "0  0xa5ff27f8983ca7b0              800        0.9989        1.0     0.9988   \n",
       "1  0xd7f97c55c5cafe26             1000        0.9992        1.0     0.9990   \n",
       "2  0xd80b421e0ed82695             1200        0.9994        1.0     0.9991   \n",
       "\n",
       "   roc_auc.2  roc_auc.3  roc_auc.4  roc_auc.5  roc_auc.6  roc_auc.7  \\\n",
       "3        1.0     0.9998     0.9991     0.9989     0.9999     0.9998   \n",
       "0        1.0     0.9998     0.9995     0.9990     1.0000     0.9999   \n",
       "1        1.0     0.9998     0.9997     0.9994     0.9999     0.9998   \n",
       "2        1.0     0.9999     0.9998     0.9997     0.9999     0.9998   \n",
       "\n",
       "   roc_auc.8  roc_auc.9  \n",
       "3     0.9946     0.9987  \n",
       "0     0.9929     0.9994  \n",
       "1     0.9952     0.9996  \n",
       "2     0.9957     0.9998  "
      ]
     },
     "execution_count": 10,
     "metadata": {},
     "output_type": "execute_result"
    }
   ],
   "source": [
    "df_data.round(4)"
   ]
  },
  {
   "cell_type": "code",
   "execution_count": 11,
   "id": "9bc326a5",
   "metadata": {
    "execution": {
     "iopub.execute_input": "2022-12-06T06:43:29.820012Z",
     "iopub.status.busy": "2022-12-06T06:43:29.819401Z",
     "iopub.status.idle": "2022-12-06T06:43:30.006914Z",
     "shell.execute_reply": "2022-12-06T06:43:30.006140Z"
    },
    "papermill": {
     "duration": 0.197618,
     "end_time": "2022-12-06T06:43:30.009067",
     "exception": false,
     "start_time": "2022-12-06T06:43:29.811449",
     "status": "completed"
    },
    "tags": []
   },
   "outputs": [
    {
     "data": {
      "image/png": "[encoded data removed]",
      "text/plain": [
       "<Figure size 1600x400 with 1 Axes>"
      ]
     },
     "metadata": {},
     "output_type": "display_data"
    }
   ],
   "source": [
    "def plot_classifier_performance_summary(df_data):\n",
    "    fig, ax = plt.subplots(nrows=1, ncols=1, figsize=(16, 4), sharex=True)\n",
    "\n",
    "    #\n",
    "    ax.plot(\n",
    "        df_data[\"nr_train_images\"], df_data[\"roc_auc_mean\"], marker=\"o\", linestyle=\"--\"\n",
    "    )\n",
    "    ax.set_title(\n",
    "        f\"ROC AUC digit classifier performance on evaluation digits\", fontsize=17\n",
    "    )\n",
    "    ax.set_xlabel(\"Total number of digits in training set\", fontsize=14)\n",
    "    ax.set_ylabel(\"Mean ROC AUC\", fontsize=14)\n",
    "\n",
    "    fig.tight_layout()\n",
    "    fig.show()\n",
    "\n",
    "    return fig\n",
    "\n",
    "\n",
    "fig = plot_classifier_performance_summary(df_data)"
   ]
  },
  {
   "cell_type": "code",
   "execution_count": 12,
   "id": "b04b3dd4",
   "metadata": {
    "execution": {
     "iopub.execute_input": "2022-12-06T06:43:30.019155Z",
     "iopub.status.busy": "2022-12-06T06:43:30.018836Z",
     "iopub.status.idle": "2022-12-06T06:43:30.101398Z",
     "shell.execute_reply": "2022-12-06T06:43:30.100639Z"
    },
    "papermill": {
     "duration": 0.090899,
     "end_time": "2022-12-06T06:43:30.104323",
     "exception": false,
     "start_time": "2022-12-06T06:43:30.013424",
     "status": "completed"
    },
    "tags": []
   },
   "outputs": [],
   "source": [
    "logger.log_figure(\"auc-roc-model-performances.png\", fig)"
   ]
  },
  {
   "cell_type": "code",
   "execution_count": 13,
   "id": "ee21d811",
   "metadata": {
    "execution": {
     "iopub.execute_input": "2022-12-06T06:43:30.119524Z",
     "iopub.status.busy": "2022-12-06T06:43:30.119081Z",
     "iopub.status.idle": "2022-12-06T06:43:30.123118Z",
     "shell.execute_reply": "2022-12-06T06:43:30.122358Z"
    },
    "papermill": {
     "duration": 0.014815,
     "end_time": "2022-12-06T06:43:30.125632",
     "exception": false,
     "start_time": "2022-12-06T06:43:30.110817",
     "status": "completed"
    },
    "tags": []
   },
   "outputs": [],
   "source": [
    "###"
   ]
  },
  {
   "cell_type": "code",
   "execution_count": null,
   "id": "1ad03b87",
   "metadata": {
    "papermill": {
     "duration": 0.00587,
     "end_time": "2022-12-06T06:43:30.136608",
     "exception": false,
     "start_time": "2022-12-06T06:43:30.130738",
     "status": "completed"
    },
    "tags": []
   },
   "outputs": [],
   "source": []
  }
 ],
 "metadata": {
  "jupytext": {
   "cell_metadata_filter": "tags,-all",
   "main_language": "python",
   "notebook_metadata_filter": "-all"
  },
  "language_info": {
   "codemirror_mode": {
    "name": "ipython",
    "version": 3
   },
   "file_extension": ".py",
   "mimetype": "text/x-python",
   "name": "python",
   "nbconvert_exporter": "python",
   "pygments_lexer": "ipython3",
   "version": "3.8.10"
  },
  "papermill": {
   "default_parameters": {},
   "duration": 4.174783,
   "end_time": "2022-12-06T06:43:31.065362",
   "environment_variables": {},
   "exception": null,
   "input_path": "/home/host_user/workspace/mnist-demo-pipeline/mnist-demo-pipeline/notebooks/temp-notebook-9gwhqyss.ipynb",
   "output_path": "notebooks/summary.ipynb",
   "parameters": {
    "P": {
     "_opentelemetry_traceparent": "00-fc58cfcfae3a12f61dcf247fa53287f2-1048d71423a0c334-01",
     "pipeline.data_lake_root": "/pipeline-outputs/data-lake",
     "pipeline.github.actor": "matiasdahl",
     "pipeline.github.base_ref": "",
     "pipeline.github.event_name": "schedule",
     "pipeline.github.head_ref": "",
     "pipeline.github.job": "run-tests-pipeline-and-persist-pipeline-outputs",
     "pipeline.github.ref": "refs/heads/development",
     "pipeline.github.ref_name": "development",
     "pipeline.github.ref_type": "branch",
     "pipeline.github.repository": "matiasdahl/dev-mnist-digits-demo-pipeline",
     "pipeline.github.run_id": "3627132107",
     "pipeline.github.runner_name": "Hosted Agent",
     "pipeline.github.sha": "ace0d01011d5e914f1921450dd5a59c11367b38d",
     "pipeline.github.workflow": "Run automated tests, pipeline and deploy results to static reporting site",
     "pipeline.pipeline_run_id": "bf2e3d2c-c43f-41c7-942f-3f58890d3649",
     "pipeline.run_environment": "ci",
     "run.retry_nr": "0",
     "task.max_nr_retries": "1",
     "task.notebook": "notebooks/summary.py",
     "task.num_cpus": 1,
     "task.timeout_s": "None"
    }
   },
   "start_time": "2022-12-06T06:43:26.890579",
   "version": "2.3.3"
  }
 },
 "nbformat": 4,
 "nbformat_minor": 5
}