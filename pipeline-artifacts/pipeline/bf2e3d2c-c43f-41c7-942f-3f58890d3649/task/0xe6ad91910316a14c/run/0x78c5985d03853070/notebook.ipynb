{
 "cells": [
  {
   "cell_type": "markdown",
   "id": "f80ed59e",
   "metadata": {
    "papermill": {
     "duration": 0.003857,
     "end_time": "2022-12-06T06:42:35.968137",
     "exception": false,
     "start_time": "2022-12-06T06:42:35.964280",
     "status": "completed"
    },
    "tags": []
   },
   "source": [
    "# Split digits and labels into separate training and testing data sets"
   ]
  },
  {
   "cell_type": "markdown",
   "id": "d2ef4ee6",
   "metadata": {
    "papermill": {
     "duration": 0.003067,
     "end_time": "2022-12-06T06:42:35.974296",
     "exception": false,
     "start_time": "2022-12-06T06:42:35.971229",
     "status": "completed"
    },
    "tags": []
   },
   "source": [
    "### Determine run parameters"
   ]
  },
  {
   "cell_type": "code",
   "execution_count": 1,
   "id": "fb231dfc",
   "metadata": {
    "execution": {
     "iopub.execute_input": "2022-12-06T06:42:35.981105Z",
     "iopub.status.busy": "2022-12-06T06:42:35.980556Z",
     "iopub.status.idle": "2022-12-06T06:42:35.989249Z",
     "shell.execute_reply": "2022-12-06T06:42:35.988521Z"
    },
    "lines_to_next_cell": 0,
    "papermill": {
     "duration": 0.014203,
     "end_time": "2022-12-06T06:42:35.991067",
     "exception": false,
     "start_time": "2022-12-06T06:42:35.976864",
     "status": "completed"
    },
    "tags": []
   },
   "outputs": [],
   "source": [
    "# ----------------- Parameters for interactive development --------------\n",
    "P = {\n",
    "    \"pipeline.data_lake_root\": \"/pipeline-outputs/data-lake\",\n",
    "    \"task.train_test_ratio\": 0.7,\n",
    "}"
   ]
  },
  {
   "cell_type": "code",
   "execution_count": 2,
   "id": "f8882ba2",
   "metadata": {
    "execution": {
     "iopub.execute_input": "2022-12-06T06:42:35.997723Z",
     "iopub.status.busy": "2022-12-06T06:42:35.997466Z",
     "iopub.status.idle": "2022-12-06T06:42:36.000709Z",
     "shell.execute_reply": "2022-12-06T06:42:35.999950Z"
    },
    "lines_to_next_cell": 0,
    "papermill": {
     "duration": 0.008664,
     "end_time": "2022-12-06T06:42:36.002404",
     "exception": false,
     "start_time": "2022-12-06T06:42:35.993740",
     "status": "completed"
    },
    "tags": [
     "parameters"
    ]
   },
   "outputs": [],
   "source": [
    "# - During automated runs parameters will be injected in the below cell -"
   ]
  },
  {
   "cell_type": "code",
   "execution_count": 3,
   "id": "42f7f1c5",
   "metadata": {
    "execution": {
     "iopub.execute_input": "2022-12-06T06:42:36.009240Z",
     "iopub.status.busy": "2022-12-06T06:42:36.008803Z",
     "iopub.status.idle": "2022-12-06T06:42:36.013769Z",
     "shell.execute_reply": "2022-12-06T06:42:36.012751Z"
    },
    "papermill": {
     "duration": 0.01032,
     "end_time": "2022-12-06T06:42:36.015510",
     "exception": false,
     "start_time": "2022-12-06T06:42:36.005190",
     "status": "completed"
    },
    "tags": [
     "injected-parameters"
    ]
   },
   "outputs": [],
   "source": [
    "# Parameters\n",
    "P = {\n",
    "    \"pipeline.data_lake_root\": \"/pipeline-outputs/data-lake\",\n",
    "    \"pipeline.run_environment\": \"ci\",\n",
    "    \"pipeline.pipeline_run_id\": \"bf2e3d2c-c43f-41c7-942f-3f58890d3649\",\n",
    "    \"pipeline.github.repository\": \"matiasdahl/dev-mnist-digits-demo-pipeline\",\n",
    "    \"pipeline.github.workflow\": \"Run automated tests, pipeline and deploy results to static reporting site\",\n",
    "    \"pipeline.github.runner_name\": \"Hosted Agent\",\n",
    "    \"pipeline.github.run_id\": \"3627132107\",\n",
    "    \"pipeline.github.actor\": \"matiasdahl\",\n",
    "    \"pipeline.github.job\": \"run-tests-pipeline-and-persist-pipeline-outputs\",\n",
    "    \"pipeline.github.base_ref\": \"\",\n",
    "    \"pipeline.github.head_ref\": \"\",\n",
    "    \"pipeline.github.sha\": \"ace0d01011d5e914f1921450dd5a59c11367b38d\",\n",
    "    \"pipeline.github.ref\": \"refs/heads/development\",\n",
    "    \"pipeline.github.ref_type\": \"branch\",\n",
    "    \"pipeline.github.ref_name\": \"development\",\n",
    "    \"pipeline.github.event_name\": \"schedule\",\n",
    "    \"task.train_test_ratio\": 0.7,\n",
    "    \"task.notebook\": \"notebooks/split-train-test.py\",\n",
    "    \"task.max_nr_retries\": \"1\",\n",
    "    \"run.retry_nr\": \"0\",\n",
    "    \"task.timeout_s\": \"None\",\n",
    "    \"task.num_cpus\": 1,\n",
    "    \"_opentelemetry_traceparent\": \"00-fc58cfcfae3a12f61dcf247fa53287f2-870324818c7885c8-01\",\n",
    "}\n"
   ]
  },
  {
   "cell_type": "code",
   "execution_count": 4,
   "id": "bb2a2823",
   "metadata": {
    "execution": {
     "iopub.execute_input": "2022-12-06T06:42:36.022553Z",
     "iopub.status.busy": "2022-12-06T06:42:36.022012Z",
     "iopub.status.idle": "2022-12-06T06:42:36.032072Z",
     "shell.execute_reply": "2022-12-06T06:42:36.031501Z"
    },
    "lines_to_next_cell": 0,
    "papermill": {
     "duration": 0.015783,
     "end_time": "2022-12-06T06:42:36.034115",
     "exception": false,
     "start_time": "2022-12-06T06:42:36.018332",
     "status": "completed"
    },
    "tags": []
   },
   "outputs": [],
   "source": [
    "# -----------------------------------------------------------------------"
   ]
  },
  {
   "cell_type": "markdown",
   "id": "cba32d00",
   "metadata": {
    "papermill": {
     "duration": 0.002787,
     "end_time": "2022-12-06T06:42:36.040122",
     "exception": false,
     "start_time": "2022-12-06T06:42:36.037335",
     "status": "completed"
    },
    "tags": []
   },
   "source": [
    "---"
   ]
  },
  {
   "cell_type": "markdown",
   "id": "b0d840ae",
   "metadata": {
    "lines_to_next_cell": 2,
    "papermill": {
     "duration": 0.003254,
     "end_time": "2022-12-06T06:42:36.046108",
     "exception": false,
     "start_time": "2022-12-06T06:42:36.042854",
     "status": "completed"
    },
    "tags": []
   },
   "source": [
    "### Notebook code"
   ]
  },
  {
   "cell_type": "code",
   "execution_count": 5,
   "id": "aa70ffe2",
   "metadata": {
    "execution": {
     "iopub.execute_input": "2022-12-06T06:42:36.053579Z",
     "iopub.status.busy": "2022-12-06T06:42:36.053308Z",
     "iopub.status.idle": "2022-12-06T06:42:36.636236Z",
     "shell.execute_reply": "2022-12-06T06:42:36.635397Z"
    },
    "papermill": {
     "duration": 0.589616,
     "end_time": "2022-12-06T06:42:36.638743",
     "exception": false,
     "start_time": "2022-12-06T06:42:36.049127",
     "status": "completed"
    },
    "tags": []
   },
   "outputs": [
    {
     "name": "stderr",
     "output_type": "stream",
     "text": [
      "2022-12-06 06:42:36,465\tINFO worker.py:842 -- Connecting to existing Ray cluster at address: 172.17.0.2:6379\n"
     ]
    }
   ],
   "source": [
    "from common.io import datalake_root, read_numpy, write_numpy\n",
    "from pynb_dag_runner.tasks.task_opentelemetry_logging import PydarLogger\n",
    "\n",
    "logger = PydarLogger(P)"
   ]
  },
  {
   "cell_type": "markdown",
   "id": "1b45ffab",
   "metadata": {
    "papermill": {
     "duration": 0.003706,
     "end_time": "2022-12-06T06:42:36.646161",
     "exception": false,
     "start_time": "2022-12-06T06:42:36.642455",
     "status": "completed"
    },
    "tags": []
   },
   "source": [
    "## Load and split digits data"
   ]
  },
  {
   "cell_type": "code",
   "execution_count": 6,
   "id": "f5649e71",
   "metadata": {
    "execution": {
     "iopub.execute_input": "2022-12-06T06:42:36.654368Z",
     "iopub.status.busy": "2022-12-06T06:42:36.653980Z",
     "iopub.status.idle": "2022-12-06T06:42:36.660710Z",
     "shell.execute_reply": "2022-12-06T06:42:36.660021Z"
    },
    "papermill": {
     "duration": 0.014437,
     "end_time": "2022-12-06T06:42:36.664169",
     "exception": false,
     "start_time": "2022-12-06T06:42:36.649732",
     "status": "completed"
    },
    "tags": []
   },
   "outputs": [],
   "source": [
    "X = read_numpy(datalake_root(P) / \"raw\" / \"digits.numpy\")\n",
    "y = read_numpy(datalake_root(P) / \"raw\" / \"labels.numpy\")"
   ]
  },
  {
   "cell_type": "code",
   "execution_count": 7,
   "id": "78132bfd",
   "metadata": {
    "execution": {
     "iopub.execute_input": "2022-12-06T06:42:36.672536Z",
     "iopub.status.busy": "2022-12-06T06:42:36.672225Z",
     "iopub.status.idle": "2022-12-06T06:42:37.226018Z",
     "shell.execute_reply": "2022-12-06T06:42:37.225348Z"
    },
    "papermill": {
     "duration": 0.561041,
     "end_time": "2022-12-06T06:42:37.228521",
     "exception": false,
     "start_time": "2022-12-06T06:42:36.667480",
     "status": "completed"
    },
    "tags": []
   },
   "outputs": [],
   "source": [
    "from sklearn.model_selection import train_test_split\n",
    "\n",
    "X_train, X_test, y_train, y_test = train_test_split(\n",
    "    X,\n",
    "    y,\n",
    "    train_size=P[\"task.train_test_ratio\"],\n",
    "    test_size=None,\n",
    "    stratify=y,\n",
    "    shuffle=True,\n",
    "    random_state=1,\n",
    ")\n",
    "\n",
    "# assert nr of pixels per image is the same for all image vectors\n",
    "assert X.shape[1] == X_train.shape[1] == X_test.shape[1]\n",
    "\n",
    "# assert that the (X, y)-pairs have compatible sizes (for both train and test)\n",
    "assert X_train.shape[0] == len(y_train)\n",
    "assert X_test.shape[0] == len(y_test)\n",
    "\n",
    "# assert that all data is used\n",
    "assert len(y) == len(y_train) + len(y_test)"
   ]
  },
  {
   "cell_type": "code",
   "execution_count": 8,
   "id": "26f1fe2b",
   "metadata": {
    "execution": {
     "iopub.execute_input": "2022-12-06T06:42:37.237579Z",
     "iopub.status.busy": "2022-12-06T06:42:37.236837Z",
     "iopub.status.idle": "2022-12-06T06:42:37.246014Z",
     "shell.execute_reply": "2022-12-06T06:42:37.245291Z"
    },
    "papermill": {
     "duration": 0.016066,
     "end_time": "2022-12-06T06:42:37.248131",
     "exception": false,
     "start_time": "2022-12-06T06:42:37.232065",
     "status": "completed"
    },
    "tags": []
   },
   "outputs": [
    {
     "name": "stdout",
     "output_type": "stream",
     "text": [
      " - Logging nr_digits_train (int) : 1257\n",
      " - Logging nr_digits_test (int) : 540\n"
     ]
    }
   ],
   "source": [
    "logger.log_int(\"nr_digits_train\", len(y_train))\n",
    "logger.log_int(\"nr_digits_test\", len(y_test))"
   ]
  },
  {
   "cell_type": "markdown",
   "id": "792f762d",
   "metadata": {
    "papermill": {
     "duration": 0.003536,
     "end_time": "2022-12-06T06:42:37.254985",
     "exception": false,
     "start_time": "2022-12-06T06:42:37.251449",
     "status": "completed"
    },
    "tags": []
   },
   "source": [
    "### Persist training and test data sets to separate files"
   ]
  },
  {
   "cell_type": "code",
   "execution_count": 9,
   "id": "95ff41ef",
   "metadata": {
    "execution": {
     "iopub.execute_input": "2022-12-06T06:42:37.262606Z",
     "iopub.status.busy": "2022-12-06T06:42:37.262179Z",
     "iopub.status.idle": "2022-12-06T06:42:37.270698Z",
     "shell.execute_reply": "2022-12-06T06:42:37.269992Z"
    },
    "papermill": {
     "duration": 0.014786,
     "end_time": "2022-12-06T06:42:37.272949",
     "exception": false,
     "start_time": "2022-12-06T06:42:37.258163",
     "status": "completed"
    },
    "tags": []
   },
   "outputs": [],
   "source": [
    "write_numpy(datalake_root(P) / \"train-data\" / \"digits.numpy\", X_train)\n",
    "write_numpy(datalake_root(P) / \"train-data\" / \"labels.numpy\", y_train)\n",
    "\n",
    "#\n",
    "write_numpy(datalake_root(P) / \"test-data\" / \"digits.numpy\", X_test)\n",
    "write_numpy(datalake_root(P) / \"test-data\" / \"labels.numpy\", y_test)"
   ]
  },
  {
   "cell_type": "code",
   "execution_count": null,
   "id": "da4ce7c2",
   "metadata": {
    "papermill": {
     "duration": 0.003228,
     "end_time": "2022-12-06T06:42:37.279912",
     "exception": false,
     "start_time": "2022-12-06T06:42:37.276684",
     "status": "completed"
    },
    "tags": []
   },
   "outputs": [],
   "source": []
  }
 ],
 "metadata": {
  "jupytext": {
   "cell_metadata_filter": "tags,-all",
   "main_language": "python",
   "notebook_metadata_filter": "-all"
  },
  "language_info": {
   "codemirror_mode": {
    "name": "ipython",
    "version": 3
   },
   "file_extension": ".py",
   "mimetype": "text/x-python",
   "name": "python",
   "nbconvert_exporter": "python",
   "pygments_lexer": "ipython3",
   "version": "3.8.10"
  },
  "papermill": {
   "default_parameters": {},
   "duration": 3.634266,
   "end_time": "2022-12-06T06:42:38.208647",
   "environment_variables": {},
   "exception": null,
   "input_path": "/home/host_user/workspace/mnist-demo-pipeline/mnist-demo-pipeline/notebooks/temp-notebook-h6afnbuf.ipynb",
   "output_path": "notebooks/split-train-test.ipynb",
   "parameters": {
    "P": {
     "_opentelemetry_traceparent": "00-fc58cfcfae3a12f61dcf247fa53287f2-870324818c7885c8-01",
     "pipeline.data_lake_root": "/pipeline-outputs/data-lake",
     "pipeline.github.actor": "matiasdahl",
     "pipeline.github.base_ref": "",
     "pipeline.github.event_name": "schedule",
     "pipeline.github.head_ref": "",
     "pipeline.github.job": "run-tests-pipeline-and-persist-pipeline-outputs",
     "pipeline.github.ref": "refs/heads/development",
     "pipeline.github.ref_name": "development",
     "pipeline.github.ref_type": "branch",
     "pipeline.github.repository": "matiasdahl/dev-mnist-digits-demo-pipeline",
     "pipeline.github.run_id": "3627132107",
     "pipeline.github.runner_name": "Hosted Agent",
     "pipeline.github.sha": "ace0d01011d5e914f1921450dd5a59c11367b38d",
     "pipeline.github.workflow": "Run automated tests, pipeline and deploy results to static reporting site",
     "pipeline.pipeline_run_id": "bf2e3d2c-c43f-41c7-942f-3f58890d3649",
     "pipeline.run_environment": "ci",
     "run.retry_nr": "0",
     "task.max_nr_retries": "1",
     "task.notebook": "notebooks/split-train-test.py",
     "task.num_cpus": 1,
     "task.timeout_s": "None",
     "task.train_test_ratio": 0.7
    }
   },
   "start_time": "2022-12-06T06:42:34.574381",
   "version": "2.3.3"
  }
 },
 "nbformat": 4,
 "nbformat_minor": 5
}