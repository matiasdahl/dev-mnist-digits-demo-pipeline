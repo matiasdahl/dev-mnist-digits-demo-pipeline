{
 "cells": [
  {
   "cell_type": "markdown",
   "id": "9be4c540",
   "metadata": {
    "papermill": {
     "duration": 0.006865,
     "end_time": "2022-12-06T06:43:03.147353",
     "exception": false,
     "start_time": "2022-12-06T06:43:03.140488",
     "status": "completed"
    },
    "tags": []
   },
   "source": [
    "# Benchmark model\n",
    "\n",
    "The purpose of this notebook is to benchmark persisted onnx-model (trained in the\n",
    "previous step) against evaluation set."
   ]
  },
  {
   "cell_type": "markdown",
   "id": "7c650c10",
   "metadata": {
    "papermill": {
     "duration": 0.005307,
     "end_time": "2022-12-06T06:43:03.157251",
     "exception": false,
     "start_time": "2022-12-06T06:43:03.151944",
     "status": "completed"
    },
    "tags": []
   },
   "source": [
    "### Determine run parameters"
   ]
  },
  {
   "cell_type": "code",
   "execution_count": 1,
   "id": "bac8ac21",
   "metadata": {
    "execution": {
     "iopub.execute_input": "2022-12-06T06:43:03.168178Z",
     "iopub.status.busy": "2022-12-06T06:43:03.167824Z",
     "iopub.status.idle": "2022-12-06T06:43:03.178313Z",
     "shell.execute_reply": "2022-12-06T06:43:03.177711Z"
    },
    "lines_to_next_cell": 0,
    "papermill": {
     "duration": 0.018831,
     "end_time": "2022-12-06T06:43:03.180380",
     "exception": false,
     "start_time": "2022-12-06T06:43:03.161549",
     "status": "completed"
    },
    "tags": []
   },
   "outputs": [],
   "source": [
    "# ----------------- Parameters for interactive development --------------\n",
    "P = {\n",
    "    \"pipeline.data_lake_root\": \"/pipeline-outputs/data-lake\",\n",
    "    \"task.nr_train_images\": 600,\n",
    "}"
   ]
  },
  {
   "cell_type": "code",
   "execution_count": 2,
   "id": "2a53e373",
   "metadata": {
    "execution": {
     "iopub.execute_input": "2022-12-06T06:43:03.191374Z",
     "iopub.status.busy": "2022-12-06T06:43:03.191117Z",
     "iopub.status.idle": "2022-12-06T06:43:03.194912Z",
     "shell.execute_reply": "2022-12-06T06:43:03.193743Z"
    },
    "lines_to_next_cell": 0,
    "papermill": {
     "duration": 0.013185,
     "end_time": "2022-12-06T06:43:03.198619",
     "exception": false,
     "start_time": "2022-12-06T06:43:03.185434",
     "status": "completed"
    },
    "tags": [
     "parameters"
    ]
   },
   "outputs": [],
   "source": [
    "# - During automated runs parameters will be injected in the below cell -"
   ]
  },
  {
   "cell_type": "code",
   "execution_count": 3,
   "id": "23f2b8a3",
   "metadata": {
    "execution": {
     "iopub.execute_input": "2022-12-06T06:43:03.209704Z",
     "iopub.status.busy": "2022-12-06T06:43:03.209438Z",
     "iopub.status.idle": "2022-12-06T06:43:03.215516Z",
     "shell.execute_reply": "2022-12-06T06:43:03.214224Z"
    },
    "papermill": {
     "duration": 0.015569,
     "end_time": "2022-12-06T06:43:03.218742",
     "exception": false,
     "start_time": "2022-12-06T06:43:03.203173",
     "status": "completed"
    },
    "tags": [
     "injected-parameters"
    ]
   },
   "outputs": [],
   "source": [
    "# Parameters\n",
    "P = {\n",
    "    \"pipeline.data_lake_root\": \"/pipeline-outputs/data-lake\",\n",
    "    \"pipeline.run_environment\": \"ci\",\n",
    "    \"pipeline.pipeline_run_id\": \"bf2e3d2c-c43f-41c7-942f-3f58890d3649\",\n",
    "    \"pipeline.github.repository\": \"matiasdahl/dev-mnist-digits-demo-pipeline\",\n",
    "    \"pipeline.github.workflow\": \"Run automated tests, pipeline and deploy results to static reporting site\",\n",
    "    \"pipeline.github.runner_name\": \"Hosted Agent\",\n",
    "    \"pipeline.github.run_id\": \"3627132107\",\n",
    "    \"pipeline.github.actor\": \"matiasdahl\",\n",
    "    \"pipeline.github.job\": \"run-tests-pipeline-and-persist-pipeline-outputs\",\n",
    "    \"pipeline.github.base_ref\": \"\",\n",
    "    \"pipeline.github.head_ref\": \"\",\n",
    "    \"pipeline.github.sha\": \"ace0d01011d5e914f1921450dd5a59c11367b38d\",\n",
    "    \"pipeline.github.ref\": \"refs/heads/development\",\n",
    "    \"pipeline.github.ref_type\": \"branch\",\n",
    "    \"pipeline.github.ref_name\": \"development\",\n",
    "    \"pipeline.github.event_name\": \"schedule\",\n",
    "    \"task.nr_train_images\": 1200,\n",
    "    \"task.notebook\": \"notebooks/benchmark-model.py\",\n",
    "    \"task.max_nr_retries\": \"1\",\n",
    "    \"run.retry_nr\": \"0\",\n",
    "    \"task.timeout_s\": \"None\",\n",
    "    \"task.num_cpus\": 1,\n",
    "    \"_opentelemetry_traceparent\": \"00-fc58cfcfae3a12f61dcf247fa53287f2-3cb621f1bc24c0b5-01\",\n",
    "}\n"
   ]
  },
  {
   "cell_type": "code",
   "execution_count": 4,
   "id": "ef53ae54",
   "metadata": {
    "execution": {
     "iopub.execute_input": "2022-12-06T06:43:03.235617Z",
     "iopub.status.busy": "2022-12-06T06:43:03.235345Z",
     "iopub.status.idle": "2022-12-06T06:43:03.239109Z",
     "shell.execute_reply": "2022-12-06T06:43:03.237786Z"
    },
    "lines_to_next_cell": 0,
    "papermill": {
     "duration": 0.013134,
     "end_time": "2022-12-06T06:43:03.242523",
     "exception": false,
     "start_time": "2022-12-06T06:43:03.229389",
     "status": "completed"
    },
    "tags": []
   },
   "outputs": [],
   "source": [
    "# -----------------------------------------------------------------------"
   ]
  },
  {
   "cell_type": "markdown",
   "id": "fd7af9f2",
   "metadata": {
    "papermill": {
     "duration": 0.005645,
     "end_time": "2022-12-06T06:43:03.252621",
     "exception": false,
     "start_time": "2022-12-06T06:43:03.246976",
     "status": "completed"
    },
    "tags": []
   },
   "source": [
    "---"
   ]
  },
  {
   "cell_type": "markdown",
   "id": "3c8fffb6",
   "metadata": {
    "lines_to_next_cell": 2,
    "papermill": {
     "duration": 0.005698,
     "end_time": "2022-12-06T06:43:03.262990",
     "exception": false,
     "start_time": "2022-12-06T06:43:03.257292",
     "status": "completed"
    },
    "tags": []
   },
   "source": [
    "### Notebook code"
   ]
  },
  {
   "cell_type": "code",
   "execution_count": 5,
   "id": "09e67129",
   "metadata": {
    "execution": {
     "iopub.execute_input": "2022-12-06T06:43:03.274144Z",
     "iopub.status.busy": "2022-12-06T06:43:03.273845Z",
     "iopub.status.idle": "2022-12-06T06:43:04.602839Z",
     "shell.execute_reply": "2022-12-06T06:43:04.592515Z"
    },
    "papermill": {
     "duration": 1.337512,
     "end_time": "2022-12-06T06:43:04.605030",
     "exception": false,
     "start_time": "2022-12-06T06:43:03.267518",
     "status": "completed"
    },
    "tags": []
   },
   "outputs": [
    {
     "name": "stderr",
     "output_type": "stream",
     "text": [
      "2022-12-06 06:43:04,404\tINFO worker.py:842 -- Connecting to existing Ray cluster at address: 172.17.0.2:6379\n"
     ]
    }
   ],
   "source": [
    "import itertools as it\n",
    "\n",
    "#\n",
    "import numpy as np\n",
    "import matplotlib.pyplot as plt\n",
    "\n",
    "#\n",
    "from pynb_dag_runner.tasks.task_opentelemetry_logging import PydarLogger\n",
    "\n",
    "#\n",
    "from common.io import datalake_root\n",
    "\n",
    "logger = PydarLogger(P)"
   ]
  },
  {
   "cell_type": "markdown",
   "id": "a4af518e",
   "metadata": {
    "papermill": {
     "duration": 0.004732,
     "end_time": "2022-12-06T06:43:04.616366",
     "exception": false,
     "start_time": "2022-12-06T06:43:04.611634",
     "status": "completed"
    },
    "tags": []
   },
   "source": [
    "## Load persisted onnx-model and evaluation data"
   ]
  },
  {
   "cell_type": "code",
   "execution_count": 6,
   "id": "d0796805",
   "metadata": {
    "execution": {
     "iopub.execute_input": "2022-12-06T06:43:04.628105Z",
     "iopub.status.busy": "2022-12-06T06:43:04.627696Z",
     "iopub.status.idle": "2022-12-06T06:43:04.632458Z",
     "shell.execute_reply": "2022-12-06T06:43:04.631680Z"
    },
    "papermill": {
     "duration": 0.013268,
     "end_time": "2022-12-06T06:43:04.635133",
     "exception": false,
     "start_time": "2022-12-06T06:43:04.621865",
     "status": "completed"
    },
    "tags": []
   },
   "outputs": [],
   "source": [
    "from common.io import read_onnx, get_onnx_inputs, get_onnx_outputs, read_numpy"
   ]
  },
  {
   "cell_type": "code",
   "execution_count": 7,
   "id": "2f21b640",
   "metadata": {
    "execution": {
     "iopub.execute_input": "2022-12-06T06:43:04.647101Z",
     "iopub.status.busy": "2022-12-06T06:43:04.646839Z",
     "iopub.status.idle": "2022-12-06T06:43:04.660443Z",
     "shell.execute_reply": "2022-12-06T06:43:04.659203Z"
    },
    "lines_to_next_cell": 0,
    "papermill": {
     "duration": 0.021948,
     "end_time": "2022-12-06T06:43:04.663332",
     "exception": false,
     "start_time": "2022-12-06T06:43:04.641384",
     "status": "completed"
    },
    "tags": []
   },
   "outputs": [],
   "source": [
    "onnx_inference_session = read_onnx(\n",
    "    datalake_root(P)\n",
    "    / \"models\"\n",
    "    / f\"nr_train_images={P['task.nr_train_images']}\"\n",
    "    / \"model.onnx\"\n",
    ")"
   ]
  },
  {
   "cell_type": "markdown",
   "id": "641aff2b",
   "metadata": {
    "papermill": {
     "duration": 0.006712,
     "end_time": "2022-12-06T06:43:04.675525",
     "exception": false,
     "start_time": "2022-12-06T06:43:04.668813",
     "status": "completed"
    },
    "tags": []
   },
   "source": [
    "### Record structure of inputs and outputs for ONNX model\n",
    "\n",
    "(this should likely be done in training notebook)"
   ]
  },
  {
   "cell_type": "code",
   "execution_count": 8,
   "id": "4cac7a04",
   "metadata": {
    "execution": {
     "iopub.execute_input": "2022-12-06T06:43:04.688990Z",
     "iopub.status.busy": "2022-12-06T06:43:04.687371Z",
     "iopub.status.idle": "2022-12-06T06:43:04.702777Z",
     "shell.execute_reply": "2022-12-06T06:43:04.702118Z"
    },
    "papermill": {
     "duration": 0.023634,
     "end_time": "2022-12-06T06:43:04.704624",
     "exception": false,
     "start_time": "2022-12-06T06:43:04.680990",
     "status": "completed"
    },
    "tags": []
   },
   "outputs": [
    {
     "name": "stdout",
     "output_type": "stream",
     "text": [
      "{\n",
      "  \"inputs\": [\n",
      "    {\n",
      "      \"name\": \"float_input_8x8_image\",\n",
      "      \"shape\": [\n",
      "        null,\n",
      "        64\n",
      "      ],\n",
      "      \"type\": \"tensor(float)\"\n",
      "    }\n",
      "  ],\n",
      "  \"outputs\": [\n",
      "    {\n",
      "      \"name\": \"output_label\",\n",
      "      \"shape\": [\n",
      "        null\n",
      "      ],\n",
      "      \"type\": \"tensor(int64)\"\n",
      "    },\n",
      "    {\n",
      "      \"name\": \"output_probability\",\n",
      "      \"shape\": [],\n",
      "      \"type\": \"seq(map(int64,tensor(float)))\"\n",
      "    }\n",
      "  ]\n",
      "}\n"
     ]
    }
   ],
   "source": [
    "import json\n",
    "\n",
    "onnx_io = json.dumps(\n",
    "    {\n",
    "        \"inputs\": get_onnx_inputs(onnx_inference_session),\n",
    "        \"outputs\": get_onnx_outputs(onnx_inference_session),\n",
    "    },\n",
    "    indent=2,\n",
    ")\n",
    "\n",
    "\n",
    "logger.log_artefact(\"onnx_io_structure.json\", onnx_io)\n",
    "print(onnx_io)"
   ]
  },
  {
   "cell_type": "markdown",
   "id": "dc1592a9",
   "metadata": {
    "papermill": {
     "duration": 0.005357,
     "end_time": "2022-12-06T06:43:04.716144",
     "exception": false,
     "start_time": "2022-12-06T06:43:04.710787",
     "status": "completed"
    },
    "tags": []
   },
   "source": [
    "### Evaluate model performance on evaluation data set"
   ]
  },
  {
   "cell_type": "code",
   "execution_count": 9,
   "id": "8545288c",
   "metadata": {
    "execution": {
     "iopub.execute_input": "2022-12-06T06:43:04.729970Z",
     "iopub.status.busy": "2022-12-06T06:43:04.728911Z",
     "iopub.status.idle": "2022-12-06T06:43:04.736085Z",
     "shell.execute_reply": "2022-12-06T06:43:04.735393Z"
    },
    "papermill": {
     "duration": 0.016695,
     "end_time": "2022-12-06T06:43:04.739221",
     "exception": false,
     "start_time": "2022-12-06T06:43:04.722526",
     "status": "completed"
    },
    "tags": []
   },
   "outputs": [],
   "source": [
    "# load evaluation data\n",
    "X_test = read_numpy(datalake_root(P) / \"test-data\" / \"digits.numpy\")\n",
    "y_test = read_numpy(datalake_root(P) / \"test-data\" / \"labels.numpy\")"
   ]
  },
  {
   "cell_type": "code",
   "execution_count": 10,
   "id": "1507c036",
   "metadata": {
    "execution": {
     "iopub.execute_input": "2022-12-06T06:43:04.751269Z",
     "iopub.status.busy": "2022-12-06T06:43:04.750971Z",
     "iopub.status.idle": "2022-12-06T06:43:04.830226Z",
     "shell.execute_reply": "2022-12-06T06:43:04.829331Z"
    },
    "papermill": {
     "duration": 0.087074,
     "end_time": "2022-12-06T06:43:04.832230",
     "exception": false,
     "start_time": "2022-12-06T06:43:04.745156",
     "status": "completed"
    },
    "tags": []
   },
   "outputs": [],
   "source": [
    "def get_model_outputs(X, onnx_inference_session):\n",
    "    y_pred_labels, y_pred_map = onnx_inference_session.run(\n",
    "        [\"output_label\", \"output_probability\"],\n",
    "        {\"float_input_8x8_image\": X.astype(np.float32)},\n",
    "    )\n",
    "    y_pred_probs = np.array(\n",
    "        [[probabilities[digit] for digit in range(10)] for probabilities in y_pred_map]\n",
    "    )\n",
    "\n",
    "    assert y_pred_labels.shape == (X.shape[0],)\n",
    "    assert y_pred_probs.shape == (X.shape[0], 10)\n",
    "\n",
    "    return y_pred_labels, y_pred_probs\n",
    "\n",
    "\n",
    "# Note: as shown in the training notebook, the predicted labels and probabilities\n",
    "# computed below need not be compatible.\n",
    "y_pred_labels_test, y_pred_probs_test = get_model_outputs(\n",
    "    X_test, onnx_inference_session\n",
    ")"
   ]
  },
  {
   "cell_type": "markdown",
   "id": "82174eb2",
   "metadata": {
    "papermill": {
     "duration": 0.005048,
     "end_time": "2022-12-06T06:43:04.842824",
     "exception": false,
     "start_time": "2022-12-06T06:43:04.837776",
     "status": "completed"
    },
    "tags": []
   },
   "source": [
    "### Confusion matrix"
   ]
  },
  {
   "cell_type": "code",
   "execution_count": 11,
   "id": "68480d6c",
   "metadata": {
    "execution": {
     "iopub.execute_input": "2022-12-06T06:43:04.855023Z",
     "iopub.status.busy": "2022-12-06T06:43:04.854506Z",
     "iopub.status.idle": "2022-12-06T06:43:04.858579Z",
     "shell.execute_reply": "2022-12-06T06:43:04.857768Z"
    },
    "papermill": {
     "duration": 0.012586,
     "end_time": "2022-12-06T06:43:04.860874",
     "exception": false,
     "start_time": "2022-12-06T06:43:04.848288",
     "status": "completed"
    },
    "tags": []
   },
   "outputs": [],
   "source": [
    "# TODO"
   ]
  },
  {
   "cell_type": "markdown",
   "id": "24beaeff",
   "metadata": {
    "papermill": {
     "duration": 0.005028,
     "end_time": "2022-12-06T06:43:04.870761",
     "exception": false,
     "start_time": "2022-12-06T06:43:04.865733",
     "status": "completed"
    },
    "tags": []
   },
   "source": [
    "### Plot predicted probabilities for each classifier over all evaluation digit images"
   ]
  },
  {
   "cell_type": "code",
   "execution_count": 12,
   "id": "e952b676",
   "metadata": {
    "execution": {
     "iopub.execute_input": "2022-12-06T06:43:04.884793Z",
     "iopub.status.busy": "2022-12-06T06:43:04.884428Z",
     "iopub.status.idle": "2022-12-06T06:43:08.559253Z",
     "shell.execute_reply": "2022-12-06T06:43:08.558433Z"
    },
    "papermill": {
     "duration": 3.682606,
     "end_time": "2022-12-06T06:43:08.560964",
     "exception": false,
     "start_time": "2022-12-06T06:43:04.878358",
     "status": "completed"
    },
    "tags": []
   },
   "outputs": [
    {
     "data": {
      "image/png": "[encoded data removed]",
      "text/plain": [
       "<Figure size 1600x600 with 10 Axes>"
      ]
     },
     "metadata": {},
     "output_type": "display_data"
    }
   ],
   "source": [
    "def plot_per_digit_probabilities(y_pred_probs):\n",
    "    fig, axs = plt.subplots(nrows=2, ncols=5, figsize=(16, 6))\n",
    "\n",
    "    for (r, c), digit, ax in zip(\n",
    "        it.product(range(2), range(5)), range(10), axs.reshape(-1)\n",
    "    ):\n",
    "        ax.hist(y_pred_probs_test[:, digit], bins=20)\n",
    "\n",
    "        ax.set_title(f\"Digit {digit}\")\n",
    "        if r == 1 and c == 2:\n",
    "            ax.set_xlabel(\"probability\", fontsize=16)\n",
    "\n",
    "        if c == 0:\n",
    "            ax.set_ylabel(\"counts\", fontsize=16)\n",
    "        ax.set_yscale(\"log\")\n",
    "\n",
    "    fig.tight_layout()\n",
    "    fig.suptitle(\n",
    "        f\"Distributions of prediction probabilities for each digit \"\n",
    "        f\"(on evaluation data, n={y_pred_probs.shape[0]})\",\n",
    "        fontsize=20,\n",
    "    )\n",
    "    fig.tight_layout()\n",
    "    fig.show()\n",
    "\n",
    "    return fig\n",
    "\n",
    "\n",
    "fig = plot_per_digit_probabilities(y_pred_probs_test)"
   ]
  },
  {
   "cell_type": "markdown",
   "id": "9c396b1c",
   "metadata": {
    "papermill": {
     "duration": 0.006562,
     "end_time": "2022-12-06T06:43:08.574430",
     "exception": false,
     "start_time": "2022-12-06T06:43:08.567868",
     "status": "completed"
    },
    "tags": []
   },
   "source": [
    "From the above distributions we see that most digits have clear separation between\n",
    "high and lower probabilities. Morover, in each case there is roughly an order of\n",
    "magnitude more of digits with low probabilities. This is compatible with digits\n",
    "being roughly evenly distributed in the data."
   ]
  },
  {
   "cell_type": "code",
   "execution_count": 13,
   "id": "9a62295b",
   "metadata": {
    "execution": {
     "iopub.execute_input": "2022-12-06T06:43:08.588781Z",
     "iopub.status.busy": "2022-12-06T06:43:08.588454Z",
     "iopub.status.idle": "2022-12-06T06:43:09.147257Z",
     "shell.execute_reply": "2022-12-06T06:43:09.146425Z"
    },
    "papermill": {
     "duration": 0.568094,
     "end_time": "2022-12-06T06:43:09.149347",
     "exception": false,
     "start_time": "2022-12-06T06:43:08.581253",
     "status": "completed"
    },
    "tags": []
   },
   "outputs": [],
   "source": [
    "logger.log_figure(\"per-digit-probabilities.png\", fig)"
   ]
  },
  {
   "cell_type": "markdown",
   "id": "75df027e",
   "metadata": {
    "papermill": {
     "duration": 0.006371,
     "end_time": "2022-12-06T06:43:09.162608",
     "exception": false,
     "start_time": "2022-12-06T06:43:09.156237",
     "status": "completed"
    },
    "tags": []
   },
   "source": [
    "### Plot ROC curves for individual one-vs-rest classifiers"
   ]
  },
  {
   "cell_type": "code",
   "execution_count": 14,
   "id": "f4311c3f",
   "metadata": {
    "execution": {
     "iopub.execute_input": "2022-12-06T06:43:09.177070Z",
     "iopub.status.busy": "2022-12-06T06:43:09.176500Z",
     "iopub.status.idle": "2022-12-06T06:43:09.654423Z",
     "shell.execute_reply": "2022-12-06T06:43:09.653496Z"
    },
    "papermill": {
     "duration": 0.48779,
     "end_time": "2022-12-06T06:43:09.656532",
     "exception": false,
     "start_time": "2022-12-06T06:43:09.168742",
     "status": "completed"
    },
    "tags": []
   },
   "outputs": [],
   "source": [
    "from sklearn import metrics"
   ]
  },
  {
   "cell_type": "code",
   "execution_count": 15,
   "id": "435d2e61",
   "metadata": {
    "execution": {
     "iopub.execute_input": "2022-12-06T06:43:09.671856Z",
     "iopub.status.busy": "2022-12-06T06:43:09.671321Z",
     "iopub.status.idle": "2022-12-06T06:43:11.518009Z",
     "shell.execute_reply": "2022-12-06T06:43:11.517183Z"
    },
    "papermill": {
     "duration": 1.856521,
     "end_time": "2022-12-06T06:43:11.520470",
     "exception": false,
     "start_time": "2022-12-06T06:43:09.663949",
     "status": "completed"
    },
    "tags": []
   },
   "outputs": [
    {
     "data": {
      "image/png": "[encoded data removed]",
      "text/plain": [
       "<Figure size 1600x800 with 10 Axes>"
      ]
     },
     "metadata": {},
     "output_type": "display_data"
    }
   ],
   "source": [
    "def plot_roc_curves(y, y_pred_probs):\n",
    "    # based on example code\n",
    "    # https://scikit-learn.org/stable/auto_examples/model_selection/plot_roc.html\n",
    "\n",
    "    fig, axs = plt.subplots(nrows=2, ncols=5, figsize=(16, 8))\n",
    "\n",
    "    roc_auc_dict = {}\n",
    "\n",
    "    for (r, c), digit, ax in zip(\n",
    "        it.product(range(2), range(5)), range(10), axs.reshape(-1)\n",
    "    ):\n",
    "        fpr, tpr, _ = metrics.roc_curve(y == digit, y_pred_probs[:, digit])\n",
    "        auc = metrics.auc(fpr, tpr)\n",
    "        roc_auc_dict[str(digit)] = auc\n",
    "\n",
    "        ax.plot(fpr, tpr, label=f\"ROC AUC={round(auc, 3)}\")\n",
    "\n",
    "        ax.set_title(f\"\\nDigit {digit}\", fontsize=16)\n",
    "        if r == 1:\n",
    "            ax.set_xlabel(\"FPR\", fontsize=18)\n",
    "\n",
    "        if c == 0:\n",
    "            ax.set_ylabel(\"TPR\", fontsize=18)\n",
    "\n",
    "        ax.set_xlim([-0.05, 1.05])\n",
    "        ax.set_ylim([-0.05, 1.05])\n",
    "        ax.legend(loc=\"lower right\", frameon=False, fontsize=14)\n",
    "\n",
    "    fig.tight_layout()\n",
    "    fig.suptitle(\n",
    "        f\"ROC plots for one-vs-rest performances \"\n",
    "        f\"(on evaluation data, n={y_pred_probs_test.shape[1]}\",\n",
    "        fontsize=22,\n",
    "    )\n",
    "    fig.tight_layout()\n",
    "    fig.show()\n",
    "\n",
    "    return roc_auc_dict, fig\n",
    "\n",
    "\n",
    "roc_auc_dict, fig = plot_roc_curves(y_test, y_pred_probs_test)"
   ]
  },
  {
   "cell_type": "code",
   "execution_count": 16,
   "id": "76f7be20",
   "metadata": {
    "execution": {
     "iopub.execute_input": "2022-12-06T06:43:11.537896Z",
     "iopub.status.busy": "2022-12-06T06:43:11.536933Z",
     "iopub.status.idle": "2022-12-06T06:43:11.863969Z",
     "shell.execute_reply": "2022-12-06T06:43:11.862935Z"
    },
    "papermill": {
     "duration": 0.337764,
     "end_time": "2022-12-06T06:43:11.866001",
     "exception": false,
     "start_time": "2022-12-06T06:43:11.528237",
     "status": "completed"
    },
    "tags": []
   },
   "outputs": [],
   "source": [
    "logger.log_figure(\"per-digit-roc-curves.png\", fig)"
   ]
  },
  {
   "cell_type": "code",
   "execution_count": 17,
   "id": "81387ed4",
   "metadata": {
    "execution": {
     "iopub.execute_input": "2022-12-06T06:43:11.886054Z",
     "iopub.status.busy": "2022-12-06T06:43:11.885559Z",
     "iopub.status.idle": "2022-12-06T06:43:11.891994Z",
     "shell.execute_reply": "2022-12-06T06:43:11.890940Z"
    },
    "papermill": {
     "duration": 0.021042,
     "end_time": "2022-12-06T06:43:11.895534",
     "exception": false,
     "start_time": "2022-12-06T06:43:11.874492",
     "status": "completed"
    },
    "tags": []
   },
   "outputs": [
    {
     "data": {
      "text/plain": [
       "{'0': 1.0,\n",
       " '1': 0.9991002811621369,\n",
       " '2': 1.0,\n",
       " '3': 0.9998500468603562,\n",
       " '4': 0.9997713763145861,\n",
       " '5': 0.9996626054358013,\n",
       " '6': 0.999923792104862,\n",
       " '7': 0.9998475842097242,\n",
       " '8': 0.9957440100882723,\n",
       " '9': 0.9997713763145862}"
      ]
     },
     "execution_count": 17,
     "metadata": {},
     "output_type": "execute_result"
    }
   ],
   "source": [
    "roc_auc_dict"
   ]
  },
  {
   "cell_type": "code",
   "execution_count": 18,
   "id": "44a8b341",
   "metadata": {
    "execution": {
     "iopub.execute_input": "2022-12-06T06:43:11.912618Z",
     "iopub.status.busy": "2022-12-06T06:43:11.912166Z",
     "iopub.status.idle": "2022-12-06T06:43:11.919199Z",
     "shell.execute_reply": "2022-12-06T06:43:11.918159Z"
    },
    "papermill": {
     "duration": 0.018991,
     "end_time": "2022-12-06T06:43:11.922083",
     "exception": false,
     "start_time": "2022-12-06T06:43:11.903092",
     "status": "completed"
    },
    "tags": []
   },
   "outputs": [
    {
     "name": "stdout",
     "output_type": "stream",
     "text": [
      " - Logging roc_auc_per_digit (json) : {'0': 1.0, '1': 0.9991002811621369, '2': 1.0, '3': 0.9998500468603562, '4': 0.9997713763145861, '5': 0.9996626054358013, '6': 0.999923792104862, '7': 0.9998475842097242, '8': 0.9957440100882723, '9': 0.9997713763145862}\n"
     ]
    }
   ],
   "source": [
    "logger.log_value(\"roc_auc_per_digit\", roc_auc_dict)"
   ]
  },
  {
   "cell_type": "markdown",
   "id": "dc40a49b",
   "metadata": {
    "papermill": {
     "duration": 0.007598,
     "end_time": "2022-12-06T06:43:11.938369",
     "exception": false,
     "start_time": "2022-12-06T06:43:11.930771",
     "status": "completed"
    },
    "tags": []
   },
   "source": [
    "### Compute and log mean ROC AUC score averaged over all digits"
   ]
  },
  {
   "cell_type": "code",
   "execution_count": 19,
   "id": "be645481",
   "metadata": {
    "execution": {
     "iopub.execute_input": "2022-12-06T06:43:11.955645Z",
     "iopub.status.busy": "2022-12-06T06:43:11.955136Z",
     "iopub.status.idle": "2022-12-06T06:43:11.971635Z",
     "shell.execute_reply": "2022-12-06T06:43:11.970816Z"
    },
    "papermill": {
     "duration": 0.027962,
     "end_time": "2022-12-06T06:43:11.973669",
     "exception": false,
     "start_time": "2022-12-06T06:43:11.945707",
     "status": "completed"
    },
    "tags": []
   },
   "outputs": [
    {
     "name": "stdout",
     "output_type": "stream",
     "text": [
      " - Logging roc_auc_class_mean (float) : 0.9993671072490324\n"
     ]
    }
   ],
   "source": [
    "roc_auc_macro = np.mean(list(roc_auc_dict.values()))\n",
    "\n",
    "logger.log_float(\"roc_auc_class_mean\", roc_auc_macro)\n",
    "\n",
    "# assert that the same value can be computed directly using sklearn\n",
    "assert roc_auc_macro == metrics.roc_auc_score(\n",
    "    y_test, y_pred_probs_test, average=\"macro\", multi_class=\"ovr\"\n",
    ")"
   ]
  },
  {
   "cell_type": "code",
   "execution_count": 20,
   "id": "9a5b9910",
   "metadata": {
    "execution": {
     "iopub.execute_input": "2022-12-06T06:43:11.991048Z",
     "iopub.status.busy": "2022-12-06T06:43:11.990711Z",
     "iopub.status.idle": "2022-12-06T06:43:11.994043Z",
     "shell.execute_reply": "2022-12-06T06:43:11.993298Z"
    },
    "lines_to_next_cell": 0,
    "papermill": {
     "duration": 0.014473,
     "end_time": "2022-12-06T06:43:11.996602",
     "exception": false,
     "start_time": "2022-12-06T06:43:11.982129",
     "status": "completed"
    },
    "tags": []
   },
   "outputs": [],
   "source": [
    "# ---"
   ]
  },
  {
   "cell_type": "code",
   "execution_count": null,
   "id": "f963cd7e",
   "metadata": {
    "papermill": {
     "duration": 0.007129,
     "end_time": "2022-12-06T06:43:12.011338",
     "exception": false,
     "start_time": "2022-12-06T06:43:12.004209",
     "status": "completed"
    },
    "tags": []
   },
   "outputs": [],
   "source": []
  }
 ],
 "metadata": {
  "jupytext": {
   "cell_metadata_filter": "tags,-all",
   "main_language": "python",
   "notebook_metadata_filter": "-all"
  },
  "language_info": {
   "codemirror_mode": {
    "name": "ipython",
    "version": 3
   },
   "file_extension": ".py",
   "mimetype": "text/x-python",
   "name": "python",
   "nbconvert_exporter": "python",
   "pygments_lexer": "ipython3",
   "version": "3.8.10"
  },
  "papermill": {
   "default_parameters": {},
   "duration": 11.844153,
   "end_time": "2022-12-06T06:43:13.343503",
   "environment_variables": {},
   "exception": null,
   "input_path": "/home/host_user/workspace/mnist-demo-pipeline/mnist-demo-pipeline/notebooks/temp-notebook-7ipr_426.ipynb",
   "output_path": "notebooks/benchmark-model.ipynb",
   "parameters": {
    "P": {
     "_opentelemetry_traceparent": "00-fc58cfcfae3a12f61dcf247fa53287f2-3cb621f1bc24c0b5-01",
     "pipeline.data_lake_root": "/pipeline-outputs/data-lake",
     "pipeline.github.actor": "matiasdahl",
     "pipeline.github.base_ref": "",
     "pipeline.github.event_name": "schedule",
     "pipeline.github.head_ref": "",
     "pipeline.github.job": "run-tests-pipeline-and-persist-pipeline-outputs",
     "pipeline.github.ref": "refs/heads/development",
     "pipeline.github.ref_name": "development",
     "pipeline.github.ref_type": "branch",
     "pipeline.github.repository": "matiasdahl/dev-mnist-digits-demo-pipeline",
     "pipeline.github.run_id": "3627132107",
     "pipeline.github.runner_name": "Hosted Agent",
     "pipeline.github.sha": "ace0d01011d5e914f1921450dd5a59c11367b38d",
     "pipeline.github.workflow": "Run automated tests, pipeline and deploy results to static reporting site",
     "pipeline.pipeline_run_id": "bf2e3d2c-c43f-41c7-942f-3f58890d3649",
     "pipeline.run_environment": "ci",
     "run.retry_nr": "0",
     "task.max_nr_retries": "1",
     "task.notebook": "notebooks/benchmark-model.py",
     "task.nr_train_images": 1200,
     "task.num_cpus": 1,
     "task.timeout_s": "None"
    }
   },
   "start_time": "2022-12-06T06:43:01.499350",
   "version": "2.3.3"
  }
 },
 "nbformat": 4,
 "nbformat_minor": 5
}