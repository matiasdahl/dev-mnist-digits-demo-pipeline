{
 "cells": [
  {
   "cell_type": "markdown",
   "id": "2834954c",
   "metadata": {
    "papermill": {
     "duration": 0.006075,
     "end_time": "2022-12-06T06:43:16.401589",
     "exception": false,
     "start_time": "2022-12-06T06:43:16.395514",
     "status": "completed"
    },
    "tags": []
   },
   "source": [
    "# Benchmark model\n",
    "\n",
    "The purpose of this notebook is to benchmark persisted onnx-model (trained in the\n",
    "previous step) against evaluation set."
   ]
  },
  {
   "cell_type": "markdown",
   "id": "ee1c4f5d",
   "metadata": {
    "papermill": {
     "duration": 0.004437,
     "end_time": "2022-12-06T06:43:16.411814",
     "exception": false,
     "start_time": "2022-12-06T06:43:16.407377",
     "status": "completed"
    },
    "tags": []
   },
   "source": [
    "### Determine run parameters"
   ]
  },
  {
   "cell_type": "code",
   "execution_count": 1,
   "id": "7af71728",
   "metadata": {
    "execution": {
     "iopub.execute_input": "2022-12-06T06:43:16.424634Z",
     "iopub.status.busy": "2022-12-06T06:43:16.423132Z",
     "iopub.status.idle": "2022-12-06T06:43:16.434998Z",
     "shell.execute_reply": "2022-12-06T06:43:16.434351Z"
    },
    "lines_to_next_cell": 0,
    "papermill": {
     "duration": 0.019443,
     "end_time": "2022-12-06T06:43:16.436838",
     "exception": false,
     "start_time": "2022-12-06T06:43:16.417395",
     "status": "completed"
    },
    "tags": []
   },
   "outputs": [],
   "source": [
    "# ----------------- Parameters for interactive development --------------\n",
    "P = {\n",
    "    \"pipeline.data_lake_root\": \"/pipeline-outputs/data-lake\",\n",
    "    \"task.nr_train_images\": 600,\n",
    "}"
   ]
  },
  {
   "cell_type": "code",
   "execution_count": 2,
   "id": "16f07b46",
   "metadata": {
    "execution": {
     "iopub.execute_input": "2022-12-06T06:43:16.448588Z",
     "iopub.status.busy": "2022-12-06T06:43:16.448302Z",
     "iopub.status.idle": "2022-12-06T06:43:16.451507Z",
     "shell.execute_reply": "2022-12-06T06:43:16.450929Z"
    },
    "lines_to_next_cell": 0,
    "papermill": {
     "duration": 0.01234,
     "end_time": "2022-12-06T06:43:16.454748",
     "exception": false,
     "start_time": "2022-12-06T06:43:16.442408",
     "status": "completed"
    },
    "tags": [
     "parameters"
    ]
   },
   "outputs": [],
   "source": [
    "# - During automated runs parameters will be injected in the below cell -"
   ]
  },
  {
   "cell_type": "code",
   "execution_count": 3,
   "id": "8dde4a27",
   "metadata": {
    "execution": {
     "iopub.execute_input": "2022-12-06T06:43:16.473300Z",
     "iopub.status.busy": "2022-12-06T06:43:16.473007Z",
     "iopub.status.idle": "2022-12-06T06:43:16.485352Z",
     "shell.execute_reply": "2022-12-06T06:43:16.478352Z"
    },
    "papermill": {
     "duration": 0.021929,
     "end_time": "2022-12-06T06:43:16.487231",
     "exception": false,
     "start_time": "2022-12-06T06:43:16.465302",
     "status": "completed"
    },
    "tags": [
     "injected-parameters"
    ]
   },
   "outputs": [],
   "source": [
    "# Parameters\n",
    "P = {\n",
    "    \"pipeline.data_lake_root\": \"/pipeline-outputs/data-lake\",\n",
    "    \"pipeline.run_environment\": \"ci\",\n",
    "    \"pipeline.pipeline_run_id\": \"bf2e3d2c-c43f-41c7-942f-3f58890d3649\",\n",
    "    \"pipeline.github.repository\": \"matiasdahl/dev-mnist-digits-demo-pipeline\",\n",
    "    \"pipeline.github.workflow\": \"Run automated tests, pipeline and deploy results to static reporting site\",\n",
    "    \"pipeline.github.runner_name\": \"Hosted Agent\",\n",
    "    \"pipeline.github.run_id\": \"3627132107\",\n",
    "    \"pipeline.github.actor\": \"matiasdahl\",\n",
    "    \"pipeline.github.job\": \"run-tests-pipeline-and-persist-pipeline-outputs\",\n",
    "    \"pipeline.github.base_ref\": \"\",\n",
    "    \"pipeline.github.head_ref\": \"\",\n",
    "    \"pipeline.github.sha\": \"ace0d01011d5e914f1921450dd5a59c11367b38d\",\n",
    "    \"pipeline.github.ref\": \"refs/heads/development\",\n",
    "    \"pipeline.github.ref_type\": \"branch\",\n",
    "    \"pipeline.github.ref_name\": \"development\",\n",
    "    \"pipeline.github.event_name\": \"schedule\",\n",
    "    \"task.nr_train_images\": 800,\n",
    "    \"task.notebook\": \"notebooks/benchmark-model.py\",\n",
    "    \"task.max_nr_retries\": \"1\",\n",
    "    \"run.retry_nr\": \"0\",\n",
    "    \"task.timeout_s\": \"None\",\n",
    "    \"task.num_cpus\": 1,\n",
    "    \"_opentelemetry_traceparent\": \"00-fc58cfcfae3a12f61dcf247fa53287f2-3aa19bd4d5edc385-01\",\n",
    "}\n"
   ]
  },
  {
   "cell_type": "code",
   "execution_count": 4,
   "id": "b95a80ec",
   "metadata": {
    "execution": {
     "iopub.execute_input": "2022-12-06T06:43:16.506160Z",
     "iopub.status.busy": "2022-12-06T06:43:16.505870Z",
     "iopub.status.idle": "2022-12-06T06:43:16.509261Z",
     "shell.execute_reply": "2022-12-06T06:43:16.508547Z"
    },
    "lines_to_next_cell": 0,
    "papermill": {
     "duration": 0.019063,
     "end_time": "2022-12-06T06:43:16.511402",
     "exception": false,
     "start_time": "2022-12-06T06:43:16.492339",
     "status": "completed"
    },
    "tags": []
   },
   "outputs": [],
   "source": [
    "# -----------------------------------------------------------------------"
   ]
  },
  {
   "cell_type": "markdown",
   "id": "2ca2e711",
   "metadata": {
    "papermill": {
     "duration": 0.00506,
     "end_time": "2022-12-06T06:43:16.524011",
     "exception": false,
     "start_time": "2022-12-06T06:43:16.518951",
     "status": "completed"
    },
    "tags": []
   },
   "source": [
    "---"
   ]
  },
  {
   "cell_type": "markdown",
   "id": "52285518",
   "metadata": {
    "lines_to_next_cell": 2,
    "papermill": {
     "duration": 0.004992,
     "end_time": "2022-12-06T06:43:16.533975",
     "exception": false,
     "start_time": "2022-12-06T06:43:16.528983",
     "status": "completed"
    },
    "tags": []
   },
   "source": [
    "### Notebook code"
   ]
  },
  {
   "cell_type": "code",
   "execution_count": 5,
   "id": "aa761528",
   "metadata": {
    "execution": {
     "iopub.execute_input": "2022-12-06T06:43:16.545665Z",
     "iopub.status.busy": "2022-12-06T06:43:16.545353Z",
     "iopub.status.idle": "2022-12-06T06:43:17.893746Z",
     "shell.execute_reply": "2022-12-06T06:43:17.892545Z"
    },
    "papermill": {
     "duration": 1.356982,
     "end_time": "2022-12-06T06:43:17.896104",
     "exception": false,
     "start_time": "2022-12-06T06:43:16.539122",
     "status": "completed"
    },
    "tags": []
   },
   "outputs": [
    {
     "name": "stderr",
     "output_type": "stream",
     "text": [
      "2022-12-06 06:43:17,700\tINFO worker.py:842 -- Connecting to existing Ray cluster at address: 172.17.0.2:6379\n"
     ]
    }
   ],
   "source": [
    "import itertools as it\n",
    "\n",
    "#\n",
    "import numpy as np\n",
    "import matplotlib.pyplot as plt\n",
    "\n",
    "#\n",
    "from pynb_dag_runner.tasks.task_opentelemetry_logging import PydarLogger\n",
    "\n",
    "#\n",
    "from common.io import datalake_root\n",
    "\n",
    "logger = PydarLogger(P)"
   ]
  },
  {
   "cell_type": "markdown",
   "id": "e1ce00b1",
   "metadata": {
    "papermill": {
     "duration": 0.005082,
     "end_time": "2022-12-06T06:43:17.906948",
     "exception": false,
     "start_time": "2022-12-06T06:43:17.901866",
     "status": "completed"
    },
    "tags": []
   },
   "source": [
    "## Load persisted onnx-model and evaluation data"
   ]
  },
  {
   "cell_type": "code",
   "execution_count": 6,
   "id": "3c3b9fbf",
   "metadata": {
    "execution": {
     "iopub.execute_input": "2022-12-06T06:43:17.921019Z",
     "iopub.status.busy": "2022-12-06T06:43:17.920349Z",
     "iopub.status.idle": "2022-12-06T06:43:17.925833Z",
     "shell.execute_reply": "2022-12-06T06:43:17.924111Z"
    },
    "papermill": {
     "duration": 0.013341,
     "end_time": "2022-12-06T06:43:17.927856",
     "exception": false,
     "start_time": "2022-12-06T06:43:17.914515",
     "status": "completed"
    },
    "tags": []
   },
   "outputs": [],
   "source": [
    "from common.io import read_onnx, get_onnx_inputs, get_onnx_outputs, read_numpy"
   ]
  },
  {
   "cell_type": "code",
   "execution_count": 7,
   "id": "db482ec5",
   "metadata": {
    "execution": {
     "iopub.execute_input": "2022-12-06T06:43:17.940709Z",
     "iopub.status.busy": "2022-12-06T06:43:17.940175Z",
     "iopub.status.idle": "2022-12-06T06:43:17.951288Z",
     "shell.execute_reply": "2022-12-06T06:43:17.950447Z"
    },
    "lines_to_next_cell": 0,
    "papermill": {
     "duration": 0.019288,
     "end_time": "2022-12-06T06:43:17.953186",
     "exception": false,
     "start_time": "2022-12-06T06:43:17.933898",
     "status": "completed"
    },
    "tags": []
   },
   "outputs": [],
   "source": [
    "onnx_inference_session = read_onnx(\n",
    "    datalake_root(P)\n",
    "    / \"models\"\n",
    "    / f\"nr_train_images={P['task.nr_train_images']}\"\n",
    "    / \"model.onnx\"\n",
    ")"
   ]
  },
  {
   "cell_type": "markdown",
   "id": "e1b3a5e9",
   "metadata": {
    "papermill": {
     "duration": 0.004743,
     "end_time": "2022-12-06T06:43:17.963730",
     "exception": false,
     "start_time": "2022-12-06T06:43:17.958987",
     "status": "completed"
    },
    "tags": []
   },
   "source": [
    "### Record structure of inputs and outputs for ONNX model\n",
    "\n",
    "(this should likely be done in training notebook)"
   ]
  },
  {
   "cell_type": "code",
   "execution_count": 8,
   "id": "e4be1400",
   "metadata": {
    "execution": {
     "iopub.execute_input": "2022-12-06T06:43:17.975569Z",
     "iopub.status.busy": "2022-12-06T06:43:17.975126Z",
     "iopub.status.idle": "2022-12-06T06:43:17.985905Z",
     "shell.execute_reply": "2022-12-06T06:43:17.985136Z"
    },
    "papermill": {
     "duration": 0.018361,
     "end_time": "2022-12-06T06:43:17.987654",
     "exception": false,
     "start_time": "2022-12-06T06:43:17.969293",
     "status": "completed"
    },
    "tags": []
   },
   "outputs": [
    {
     "name": "stdout",
     "output_type": "stream",
     "text": [
      "{\n",
      "  \"inputs\": [\n",
      "    {\n",
      "      \"name\": \"float_input_8x8_image\",\n",
      "      \"shape\": [\n",
      "        null,\n",
      "        64\n",
      "      ],\n",
      "      \"type\": \"tensor(float)\"\n",
      "    }\n",
      "  ],\n",
      "  \"outputs\": [\n",
      "    {\n",
      "      \"name\": \"output_label\",\n",
      "      \"shape\": [\n",
      "        null\n",
      "      ],\n",
      "      \"type\": \"tensor(int64)\"\n",
      "    },\n",
      "    {\n",
      "      \"name\": \"output_probability\",\n",
      "      \"shape\": [],\n",
      "      \"type\": \"seq(map(int64,tensor(float)))\"\n",
      "    }\n",
      "  ]\n",
      "}\n"
     ]
    }
   ],
   "source": [
    "import json\n",
    "\n",
    "onnx_io = json.dumps(\n",
    "    {\n",
    "        \"inputs\": get_onnx_inputs(onnx_inference_session),\n",
    "        \"outputs\": get_onnx_outputs(onnx_inference_session),\n",
    "    },\n",
    "    indent=2,\n",
    ")\n",
    "\n",
    "\n",
    "logger.log_artefact(\"onnx_io_structure.json\", onnx_io)\n",
    "print(onnx_io)"
   ]
  },
  {
   "cell_type": "markdown",
   "id": "4e1d952c",
   "metadata": {
    "papermill": {
     "duration": 0.005015,
     "end_time": "2022-12-06T06:43:17.998341",
     "exception": false,
     "start_time": "2022-12-06T06:43:17.993326",
     "status": "completed"
    },
    "tags": []
   },
   "source": [
    "### Evaluate model performance on evaluation data set"
   ]
  },
  {
   "cell_type": "code",
   "execution_count": 9,
   "id": "6f488c22",
   "metadata": {
    "execution": {
     "iopub.execute_input": "2022-12-06T06:43:18.010481Z",
     "iopub.status.busy": "2022-12-06T06:43:18.010164Z",
     "iopub.status.idle": "2022-12-06T06:43:18.019072Z",
     "shell.execute_reply": "2022-12-06T06:43:18.018163Z"
    },
    "papermill": {
     "duration": 0.017162,
     "end_time": "2022-12-06T06:43:18.021219",
     "exception": false,
     "start_time": "2022-12-06T06:43:18.004057",
     "status": "completed"
    },
    "tags": []
   },
   "outputs": [],
   "source": [
    "# load evaluation data\n",
    "X_test = read_numpy(datalake_root(P) / \"test-data\" / \"digits.numpy\")\n",
    "y_test = read_numpy(datalake_root(P) / \"test-data\" / \"labels.numpy\")"
   ]
  },
  {
   "cell_type": "code",
   "execution_count": 10,
   "id": "a632cb28",
   "metadata": {
    "execution": {
     "iopub.execute_input": "2022-12-06T06:43:18.039903Z",
     "iopub.status.busy": "2022-12-06T06:43:18.039612Z",
     "iopub.status.idle": "2022-12-06T06:43:18.120593Z",
     "shell.execute_reply": "2022-12-06T06:43:18.119743Z"
    },
    "papermill": {
     "duration": 0.089294,
     "end_time": "2022-12-06T06:43:18.122629",
     "exception": false,
     "start_time": "2022-12-06T06:43:18.033335",
     "status": "completed"
    },
    "tags": []
   },
   "outputs": [],
   "source": [
    "def get_model_outputs(X, onnx_inference_session):\n",
    "    y_pred_labels, y_pred_map = onnx_inference_session.run(\n",
    "        [\"output_label\", \"output_probability\"],\n",
    "        {\"float_input_8x8_image\": X.astype(np.float32)},\n",
    "    )\n",
    "    y_pred_probs = np.array(\n",
    "        [[probabilities[digit] for digit in range(10)] for probabilities in y_pred_map]\n",
    "    )\n",
    "\n",
    "    assert y_pred_labels.shape == (X.shape[0],)\n",
    "    assert y_pred_probs.shape == (X.shape[0], 10)\n",
    "\n",
    "    return y_pred_labels, y_pred_probs\n",
    "\n",
    "\n",
    "# Note: as shown in the training notebook, the predicted labels and probabilities\n",
    "# computed below need not be compatible.\n",
    "y_pred_labels_test, y_pred_probs_test = get_model_outputs(\n",
    "    X_test, onnx_inference_session\n",
    ")"
   ]
  },
  {
   "cell_type": "markdown",
   "id": "2441ce98",
   "metadata": {
    "papermill": {
     "duration": 0.005183,
     "end_time": "2022-12-06T06:43:18.133765",
     "exception": false,
     "start_time": "2022-12-06T06:43:18.128582",
     "status": "completed"
    },
    "tags": []
   },
   "source": [
    "### Confusion matrix"
   ]
  },
  {
   "cell_type": "code",
   "execution_count": 11,
   "id": "9e5b783c",
   "metadata": {
    "execution": {
     "iopub.execute_input": "2022-12-06T06:43:18.146359Z",
     "iopub.status.busy": "2022-12-06T06:43:18.145854Z",
     "iopub.status.idle": "2022-12-06T06:43:18.150053Z",
     "shell.execute_reply": "2022-12-06T06:43:18.149138Z"
    },
    "papermill": {
     "duration": 0.013305,
     "end_time": "2022-12-06T06:43:18.152627",
     "exception": false,
     "start_time": "2022-12-06T06:43:18.139322",
     "status": "completed"
    },
    "tags": []
   },
   "outputs": [],
   "source": [
    "# TODO"
   ]
  },
  {
   "cell_type": "markdown",
   "id": "697d9d33",
   "metadata": {
    "papermill": {
     "duration": 0.005079,
     "end_time": "2022-12-06T06:43:18.163655",
     "exception": false,
     "start_time": "2022-12-06T06:43:18.158576",
     "status": "completed"
    },
    "tags": []
   },
   "source": [
    "### Plot predicted probabilities for each classifier over all evaluation digit images"
   ]
  },
  {
   "cell_type": "code",
   "execution_count": 12,
   "id": "430cb7ab",
   "metadata": {
    "execution": {
     "iopub.execute_input": "2022-12-06T06:43:18.175942Z",
     "iopub.status.busy": "2022-12-06T06:43:18.175226Z",
     "iopub.status.idle": "2022-12-06T06:43:21.595944Z",
     "shell.execute_reply": "2022-12-06T06:43:21.595227Z"
    },
    "papermill": {
     "duration": 3.428984,
     "end_time": "2022-12-06T06:43:21.597996",
     "exception": false,
     "start_time": "2022-12-06T06:43:18.169012",
     "status": "completed"
    },
    "tags": []
   },
   "outputs": [
    {
     "data": {
      "image/png": "[encoded data removed]",
      "text/plain": [
       "<Figure size 1600x600 with 10 Axes>"
      ]
     },
     "metadata": {},
     "output_type": "display_data"
    }
   ],
   "source": [
    "def plot_per_digit_probabilities(y_pred_probs):\n",
    "    fig, axs = plt.subplots(nrows=2, ncols=5, figsize=(16, 6))\n",
    "\n",
    "    for (r, c), digit, ax in zip(\n",
    "        it.product(range(2), range(5)), range(10), axs.reshape(-1)\n",
    "    ):\n",
    "        ax.hist(y_pred_probs_test[:, digit], bins=20)\n",
    "\n",
    "        ax.set_title(f\"Digit {digit}\")\n",
    "        if r == 1 and c == 2:\n",
    "            ax.set_xlabel(\"probability\", fontsize=16)\n",
    "\n",
    "        if c == 0:\n",
    "            ax.set_ylabel(\"counts\", fontsize=16)\n",
    "        ax.set_yscale(\"log\")\n",
    "\n",
    "    fig.tight_layout()\n",
    "    fig.suptitle(\n",
    "        f\"Distributions of prediction probabilities for each digit \"\n",
    "        f\"(on evaluation data, n={y_pred_probs.shape[0]})\",\n",
    "        fontsize=20,\n",
    "    )\n",
    "    fig.tight_layout()\n",
    "    fig.show()\n",
    "\n",
    "    return fig\n",
    "\n",
    "\n",
    "fig = plot_per_digit_probabilities(y_pred_probs_test)"
   ]
  },
  {
   "cell_type": "markdown",
   "id": "68215362",
   "metadata": {
    "papermill": {
     "duration": 0.006003,
     "end_time": "2022-12-06T06:43:21.610654",
     "exception": false,
     "start_time": "2022-12-06T06:43:21.604651",
     "status": "completed"
    },
    "tags": []
   },
   "source": [
    "From the above distributions we see that most digits have clear separation between\n",
    "high and lower probabilities. Morover, in each case there is roughly an order of\n",
    "magnitude more of digits with low probabilities. This is compatible with digits\n",
    "being roughly evenly distributed in the data."
   ]
  },
  {
   "cell_type": "code",
   "execution_count": 13,
   "id": "1ac908ee",
   "metadata": {
    "execution": {
     "iopub.execute_input": "2022-12-06T06:43:21.623989Z",
     "iopub.status.busy": "2022-12-06T06:43:21.623670Z",
     "iopub.status.idle": "2022-12-06T06:43:22.146700Z",
     "shell.execute_reply": "2022-12-06T06:43:22.145862Z"
    },
    "papermill": {
     "duration": 0.532626,
     "end_time": "2022-12-06T06:43:22.148950",
     "exception": false,
     "start_time": "2022-12-06T06:43:21.616324",
     "status": "completed"
    },
    "tags": []
   },
   "outputs": [],
   "source": [
    "logger.log_figure(\"per-digit-probabilities.png\", fig)"
   ]
  },
  {
   "cell_type": "markdown",
   "id": "18748e9c",
   "metadata": {
    "papermill": {
     "duration": 0.00733,
     "end_time": "2022-12-06T06:43:22.162892",
     "exception": false,
     "start_time": "2022-12-06T06:43:22.155562",
     "status": "completed"
    },
    "tags": []
   },
   "source": [
    "### Plot ROC curves for individual one-vs-rest classifiers"
   ]
  },
  {
   "cell_type": "code",
   "execution_count": 14,
   "id": "45e8f57b",
   "metadata": {
    "execution": {
     "iopub.execute_input": "2022-12-06T06:43:22.177527Z",
     "iopub.status.busy": "2022-12-06T06:43:22.177167Z",
     "iopub.status.idle": "2022-12-06T06:43:22.638312Z",
     "shell.execute_reply": "2022-12-06T06:43:22.637364Z"
    },
    "papermill": {
     "duration": 0.472179,
     "end_time": "2022-12-06T06:43:22.640921",
     "exception": false,
     "start_time": "2022-12-06T06:43:22.168742",
     "status": "completed"
    },
    "tags": []
   },
   "outputs": [],
   "source": [
    "from sklearn import metrics"
   ]
  },
  {
   "cell_type": "code",
   "execution_count": 15,
   "id": "5a0a0a7b",
   "metadata": {
    "execution": {
     "iopub.execute_input": "2022-12-06T06:43:22.655121Z",
     "iopub.status.busy": "2022-12-06T06:43:22.654620Z",
     "iopub.status.idle": "2022-12-06T06:43:23.869208Z",
     "shell.execute_reply": "2022-12-06T06:43:23.867516Z"
    },
    "papermill": {
     "duration": 1.223903,
     "end_time": "2022-12-06T06:43:23.871268",
     "exception": false,
     "start_time": "2022-12-06T06:43:22.647365",
     "status": "completed"
    },
    "tags": []
   },
   "outputs": [
    {
     "data": {
      "image/png": "[encoded data removed]",
      "text/plain": [
       "<Figure size 1600x800 with 10 Axes>"
      ]
     },
     "metadata": {},
     "output_type": "display_data"
    }
   ],
   "source": [
    "def plot_roc_curves(y, y_pred_probs):\n",
    "    # based on example code\n",
    "    # https://scikit-learn.org/stable/auto_examples/model_selection/plot_roc.html\n",
    "\n",
    "    fig, axs = plt.subplots(nrows=2, ncols=5, figsize=(16, 8))\n",
    "\n",
    "    roc_auc_dict = {}\n",
    "\n",
    "    for (r, c), digit, ax in zip(\n",
    "        it.product(range(2), range(5)), range(10), axs.reshape(-1)\n",
    "    ):\n",
    "        fpr, tpr, _ = metrics.roc_curve(y == digit, y_pred_probs[:, digit])\n",
    "        auc = metrics.auc(fpr, tpr)\n",
    "        roc_auc_dict[str(digit)] = auc\n",
    "\n",
    "        ax.plot(fpr, tpr, label=f\"ROC AUC={round(auc, 3)}\")\n",
    "\n",
    "        ax.set_title(f\"\\nDigit {digit}\", fontsize=16)\n",
    "        if r == 1:\n",
    "            ax.set_xlabel(\"FPR\", fontsize=18)\n",
    "\n",
    "        if c == 0:\n",
    "            ax.set_ylabel(\"TPR\", fontsize=18)\n",
    "\n",
    "        ax.set_xlim([-0.05, 1.05])\n",
    "        ax.set_ylim([-0.05, 1.05])\n",
    "        ax.legend(loc=\"lower right\", frameon=False, fontsize=14)\n",
    "\n",
    "    fig.tight_layout()\n",
    "    fig.suptitle(\n",
    "        f\"ROC plots for one-vs-rest performances \"\n",
    "        f\"(on evaluation data, n={y_pred_probs_test.shape[1]}\",\n",
    "        fontsize=22,\n",
    "    )\n",
    "    fig.tight_layout()\n",
    "    fig.show()\n",
    "\n",
    "    return roc_auc_dict, fig\n",
    "\n",
    "\n",
    "roc_auc_dict, fig = plot_roc_curves(y_test, y_pred_probs_test)"
   ]
  },
  {
   "cell_type": "code",
   "execution_count": 16,
   "id": "bf8f1efc",
   "metadata": {
    "execution": {
     "iopub.execute_input": "2022-12-06T06:43:23.886406Z",
     "iopub.status.busy": "2022-12-06T06:43:23.886120Z",
     "iopub.status.idle": "2022-12-06T06:43:24.164729Z",
     "shell.execute_reply": "2022-12-06T06:43:24.164012Z"
    },
    "papermill": {
     "duration": 0.288508,
     "end_time": "2022-12-06T06:43:24.167055",
     "exception": false,
     "start_time": "2022-12-06T06:43:23.878547",
     "status": "completed"
    },
    "tags": []
   },
   "outputs": [],
   "source": [
    "logger.log_figure(\"per-digit-roc-curves.png\", fig)"
   ]
  },
  {
   "cell_type": "code",
   "execution_count": 17,
   "id": "fbf59a9c",
   "metadata": {
    "execution": {
     "iopub.execute_input": "2022-12-06T06:43:24.184657Z",
     "iopub.status.busy": "2022-12-06T06:43:24.184080Z",
     "iopub.status.idle": "2022-12-06T06:43:24.192308Z",
     "shell.execute_reply": "2022-12-06T06:43:24.191625Z"
    },
    "papermill": {
     "duration": 0.019343,
     "end_time": "2022-12-06T06:43:24.194393",
     "exception": false,
     "start_time": "2022-12-06T06:43:24.175050",
     "status": "completed"
    },
    "tags": []
   },
   "outputs": [
    {
     "data": {
      "text/plain": [
       "{'0': 1.0,\n",
       " '1': 0.9988003748828491,\n",
       " '2': 1.0,\n",
       " '3': 0.9998125585754452,\n",
       " '4': 0.9994665447340345,\n",
       " '5': 0.998950328022493,\n",
       " '6': 0.999961896052431,\n",
       " '7': 0.9998856881572931,\n",
       " '8': 0.9928672761664564,\n",
       " '9': 0.9994284407864654}"
      ]
     },
     "execution_count": 17,
     "metadata": {},
     "output_type": "execute_result"
    }
   ],
   "source": [
    "roc_auc_dict"
   ]
  },
  {
   "cell_type": "code",
   "execution_count": 18,
   "id": "3c64ca84",
   "metadata": {
    "execution": {
     "iopub.execute_input": "2022-12-06T06:43:24.210992Z",
     "iopub.status.busy": "2022-12-06T06:43:24.210198Z",
     "iopub.status.idle": "2022-12-06T06:43:24.215463Z",
     "shell.execute_reply": "2022-12-06T06:43:24.214693Z"
    },
    "papermill": {
     "duration": 0.016497,
     "end_time": "2022-12-06T06:43:24.217755",
     "exception": false,
     "start_time": "2022-12-06T06:43:24.201258",
     "status": "completed"
    },
    "tags": []
   },
   "outputs": [
    {
     "name": "stdout",
     "output_type": "stream",
     "text": [
      " - Logging roc_auc_per_digit (json) : {'0': 1.0, '1': 0.9988003748828491, '2': 1.0, '3': 0.9998125585754452, '4': 0.9994665447340345, '5': 0.998950328022493, '6': 0.999961896052431, '7': 0.9998856881572931, '8': 0.9928672761664564, '9': 0.9994284407864654}\n"
     ]
    }
   ],
   "source": [
    "logger.log_value(\"roc_auc_per_digit\", roc_auc_dict)"
   ]
  },
  {
   "cell_type": "markdown",
   "id": "5ea81818",
   "metadata": {
    "papermill": {
     "duration": 0.007322,
     "end_time": "2022-12-06T06:43:24.234502",
     "exception": false,
     "start_time": "2022-12-06T06:43:24.227180",
     "status": "completed"
    },
    "tags": []
   },
   "source": [
    "### Compute and log mean ROC AUC score averaged over all digits"
   ]
  },
  {
   "cell_type": "code",
   "execution_count": 19,
   "id": "41f59981",
   "metadata": {
    "execution": {
     "iopub.execute_input": "2022-12-06T06:43:24.250717Z",
     "iopub.status.busy": "2022-12-06T06:43:24.249929Z",
     "iopub.status.idle": "2022-12-06T06:43:24.263553Z",
     "shell.execute_reply": "2022-12-06T06:43:24.262452Z"
    },
    "papermill": {
     "duration": 0.023724,
     "end_time": "2022-12-06T06:43:24.265405",
     "exception": false,
     "start_time": "2022-12-06T06:43:24.241681",
     "status": "completed"
    },
    "tags": []
   },
   "outputs": [
    {
     "name": "stdout",
     "output_type": "stream",
     "text": [
      " - Logging roc_auc_class_mean (float) : 0.9989173107377468\n"
     ]
    }
   ],
   "source": [
    "roc_auc_macro = np.mean(list(roc_auc_dict.values()))\n",
    "\n",
    "logger.log_float(\"roc_auc_class_mean\", roc_auc_macro)\n",
    "\n",
    "# assert that the same value can be computed directly using sklearn\n",
    "assert roc_auc_macro == metrics.roc_auc_score(\n",
    "    y_test, y_pred_probs_test, average=\"macro\", multi_class=\"ovr\"\n",
    ")"
   ]
  },
  {
   "cell_type": "code",
   "execution_count": 20,
   "id": "153261d3",
   "metadata": {
    "execution": {
     "iopub.execute_input": "2022-12-06T06:43:24.281662Z",
     "iopub.status.busy": "2022-12-06T06:43:24.281147Z",
     "iopub.status.idle": "2022-12-06T06:43:24.286335Z",
     "shell.execute_reply": "2022-12-06T06:43:24.285524Z"
    },
    "lines_to_next_cell": 0,
    "papermill": {
     "duration": 0.015419,
     "end_time": "2022-12-06T06:43:24.288215",
     "exception": false,
     "start_time": "2022-12-06T06:43:24.272796",
     "status": "completed"
    },
    "tags": []
   },
   "outputs": [],
   "source": [
    "# ---"
   ]
  },
  {
   "cell_type": "code",
   "execution_count": null,
   "id": "768648fb",
   "metadata": {
    "papermill": {
     "duration": 0.007131,
     "end_time": "2022-12-06T06:43:24.302728",
     "exception": false,
     "start_time": "2022-12-06T06:43:24.295597",
     "status": "completed"
    },
    "tags": []
   },
   "outputs": [],
   "source": []
  }
 ],
 "metadata": {
  "jupytext": {
   "cell_metadata_filter": "tags,-all",
   "main_language": "python",
   "notebook_metadata_filter": "-all"
  },
  "language_info": {
   "codemirror_mode": {
    "name": "ipython",
    "version": 3
   },
   "file_extension": ".py",
   "mimetype": "text/x-python",
   "name": "python",
   "nbconvert_exporter": "python",
   "pygments_lexer": "ipython3",
   "version": "3.8.10"
  },
  "papermill": {
   "default_parameters": {},
   "duration": 10.471462,
   "end_time": "2022-12-06T06:43:25.432418",
   "environment_variables": {},
   "exception": null,
   "input_path": "/home/host_user/workspace/mnist-demo-pipeline/mnist-demo-pipeline/notebooks/temp-notebook-kdq7x5o_.ipynb",
   "output_path": "notebooks/benchmark-model.ipynb",
   "parameters": {
    "P": {
     "_opentelemetry_traceparent": "00-fc58cfcfae3a12f61dcf247fa53287f2-3aa19bd4d5edc385-01",
     "pipeline.data_lake_root": "/pipeline-outputs/data-lake",
     "pipeline.github.actor": "matiasdahl",
     "pipeline.github.base_ref": "",
     "pipeline.github.event_name": "schedule",
     "pipeline.github.head_ref": "",
     "pipeline.github.job": "run-tests-pipeline-and-persist-pipeline-outputs",
     "pipeline.github.ref": "refs/heads/development",
     "pipeline.github.ref_name": "development",
     "pipeline.github.ref_type": "branch",
     "pipeline.github.repository": "matiasdahl/dev-mnist-digits-demo-pipeline",
     "pipeline.github.run_id": "3627132107",
     "pipeline.github.runner_name": "Hosted Agent",
     "pipeline.github.sha": "ace0d01011d5e914f1921450dd5a59c11367b38d",
     "pipeline.github.workflow": "Run automated tests, pipeline and deploy results to static reporting site",
     "pipeline.pipeline_run_id": "bf2e3d2c-c43f-41c7-942f-3f58890d3649",
     "pipeline.run_environment": "ci",
     "run.retry_nr": "0",
     "task.max_nr_retries": "1",
     "task.notebook": "notebooks/benchmark-model.py",
     "task.nr_train_images": 800,
     "task.num_cpus": 1,
     "task.timeout_s": "None"
    }
   },
   "start_time": "2022-12-06T06:43:14.960956",
   "version": "2.3.3"
  }
 },
 "nbformat": 4,
 "nbformat_minor": 5
}