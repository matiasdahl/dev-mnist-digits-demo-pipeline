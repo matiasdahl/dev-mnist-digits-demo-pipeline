{
 "cells": [
  {
   "cell_type": "markdown",
   "id": "9f6cff65",
   "metadata": {
    "papermill": {
     "duration": 0.007272,
     "end_time": "2022-12-06T06:43:09.336580",
     "exception": false,
     "start_time": "2022-12-06T06:43:09.329308",
     "status": "completed"
    },
    "tags": []
   },
   "source": [
    "# Benchmark model\n",
    "\n",
    "The purpose of this notebook is to benchmark persisted onnx-model (trained in the\n",
    "previous step) against evaluation set."
   ]
  },
  {
   "cell_type": "markdown",
   "id": "f86b3b2b",
   "metadata": {
    "papermill": {
     "duration": 0.005975,
     "end_time": "2022-12-06T06:43:09.347687",
     "exception": false,
     "start_time": "2022-12-06T06:43:09.341712",
     "status": "completed"
    },
    "tags": []
   },
   "source": [
    "### Determine run parameters"
   ]
  },
  {
   "cell_type": "code",
   "execution_count": 1,
   "id": "5b81eda7",
   "metadata": {
    "execution": {
     "iopub.execute_input": "2022-12-06T06:43:09.359835Z",
     "iopub.status.busy": "2022-12-06T06:43:09.359431Z",
     "iopub.status.idle": "2022-12-06T06:43:09.371178Z",
     "shell.execute_reply": "2022-12-06T06:43:09.370503Z"
    },
    "lines_to_next_cell": 0,
    "papermill": {
     "duration": 0.022224,
     "end_time": "2022-12-06T06:43:09.374511",
     "exception": false,
     "start_time": "2022-12-06T06:43:09.352287",
     "status": "completed"
    },
    "tags": []
   },
   "outputs": [],
   "source": [
    "# ----------------- Parameters for interactive development --------------\n",
    "P = {\n",
    "    \"pipeline.data_lake_root\": \"/pipeline-outputs/data-lake\",\n",
    "    \"task.nr_train_images\": 600,\n",
    "}"
   ]
  },
  {
   "cell_type": "code",
   "execution_count": 2,
   "id": "021ccc41",
   "metadata": {
    "execution": {
     "iopub.execute_input": "2022-12-06T06:43:09.386652Z",
     "iopub.status.busy": "2022-12-06T06:43:09.386348Z",
     "iopub.status.idle": "2022-12-06T06:43:09.389858Z",
     "shell.execute_reply": "2022-12-06T06:43:09.389215Z"
    },
    "lines_to_next_cell": 0,
    "papermill": {
     "duration": 0.013788,
     "end_time": "2022-12-06T06:43:09.393165",
     "exception": false,
     "start_time": "2022-12-06T06:43:09.379377",
     "status": "completed"
    },
    "tags": [
     "parameters"
    ]
   },
   "outputs": [],
   "source": [
    "# - During automated runs parameters will be injected in the below cell -"
   ]
  },
  {
   "cell_type": "code",
   "execution_count": 3,
   "id": "6741e71b",
   "metadata": {
    "execution": {
     "iopub.execute_input": "2022-12-06T06:43:09.406605Z",
     "iopub.status.busy": "2022-12-06T06:43:09.406318Z",
     "iopub.status.idle": "2022-12-06T06:43:09.411666Z",
     "shell.execute_reply": "2022-12-06T06:43:09.411085Z"
    },
    "papermill": {
     "duration": 0.017639,
     "end_time": "2022-12-06T06:43:09.416874",
     "exception": false,
     "start_time": "2022-12-06T06:43:09.399235",
     "status": "completed"
    },
    "tags": [
     "injected-parameters"
    ]
   },
   "outputs": [],
   "source": [
    "# Parameters\n",
    "P = {\n",
    "    \"pipeline.data_lake_root\": \"/pipeline-outputs/data-lake\",\n",
    "    \"pipeline.run_environment\": \"ci\",\n",
    "    \"pipeline.pipeline_run_id\": \"bf2e3d2c-c43f-41c7-942f-3f58890d3649\",\n",
    "    \"pipeline.github.repository\": \"matiasdahl/dev-mnist-digits-demo-pipeline\",\n",
    "    \"pipeline.github.workflow\": \"Run automated tests, pipeline and deploy results to static reporting site\",\n",
    "    \"pipeline.github.runner_name\": \"Hosted Agent\",\n",
    "    \"pipeline.github.run_id\": \"3627132107\",\n",
    "    \"pipeline.github.actor\": \"matiasdahl\",\n",
    "    \"pipeline.github.job\": \"run-tests-pipeline-and-persist-pipeline-outputs\",\n",
    "    \"pipeline.github.base_ref\": \"\",\n",
    "    \"pipeline.github.head_ref\": \"\",\n",
    "    \"pipeline.github.sha\": \"ace0d01011d5e914f1921450dd5a59c11367b38d\",\n",
    "    \"pipeline.github.ref\": \"refs/heads/development\",\n",
    "    \"pipeline.github.ref_type\": \"branch\",\n",
    "    \"pipeline.github.ref_name\": \"development\",\n",
    "    \"pipeline.github.event_name\": \"schedule\",\n",
    "    \"task.nr_train_images\": 1000,\n",
    "    \"task.notebook\": \"notebooks/benchmark-model.py\",\n",
    "    \"task.max_nr_retries\": \"1\",\n",
    "    \"run.retry_nr\": \"0\",\n",
    "    \"task.timeout_s\": \"None\",\n",
    "    \"task.num_cpus\": 1,\n",
    "    \"_opentelemetry_traceparent\": \"00-fc58cfcfae3a12f61dcf247fa53287f2-64a44f479813453f-01\",\n",
    "}\n"
   ]
  },
  {
   "cell_type": "code",
   "execution_count": 4,
   "id": "dfcda563",
   "metadata": {
    "execution": {
     "iopub.execute_input": "2022-12-06T06:43:09.437605Z",
     "iopub.status.busy": "2022-12-06T06:43:09.437273Z",
     "iopub.status.idle": "2022-12-06T06:43:09.440639Z",
     "shell.execute_reply": "2022-12-06T06:43:09.440016Z"
    },
    "lines_to_next_cell": 0,
    "papermill": {
     "duration": 0.014756,
     "end_time": "2022-12-06T06:43:09.444767",
     "exception": false,
     "start_time": "2022-12-06T06:43:09.430011",
     "status": "completed"
    },
    "tags": []
   },
   "outputs": [],
   "source": [
    "# -----------------------------------------------------------------------"
   ]
  },
  {
   "cell_type": "markdown",
   "id": "532b18f9",
   "metadata": {
    "papermill": {
     "duration": 0.005494,
     "end_time": "2022-12-06T06:43:09.456028",
     "exception": false,
     "start_time": "2022-12-06T06:43:09.450534",
     "status": "completed"
    },
    "tags": []
   },
   "source": [
    "---"
   ]
  },
  {
   "cell_type": "markdown",
   "id": "76e17d69",
   "metadata": {
    "lines_to_next_cell": 2,
    "papermill": {
     "duration": 0.005747,
     "end_time": "2022-12-06T06:43:09.466985",
     "exception": false,
     "start_time": "2022-12-06T06:43:09.461238",
     "status": "completed"
    },
    "tags": []
   },
   "source": [
    "### Notebook code"
   ]
  },
  {
   "cell_type": "code",
   "execution_count": 5,
   "id": "48460486",
   "metadata": {
    "execution": {
     "iopub.execute_input": "2022-12-06T06:43:09.478652Z",
     "iopub.status.busy": "2022-12-06T06:43:09.478337Z",
     "iopub.status.idle": "2022-12-06T06:43:11.316215Z",
     "shell.execute_reply": "2022-12-06T06:43:11.315457Z"
    },
    "papermill": {
     "duration": 1.847095,
     "end_time": "2022-12-06T06:43:11.318612",
     "exception": false,
     "start_time": "2022-12-06T06:43:09.471517",
     "status": "completed"
    },
    "tags": []
   },
   "outputs": [
    {
     "name": "stderr",
     "output_type": "stream",
     "text": [
      "2022-12-06 06:43:11,139\tINFO worker.py:842 -- Connecting to existing Ray cluster at address: 172.17.0.2:6379\n"
     ]
    }
   ],
   "source": [
    "import itertools as it\n",
    "\n",
    "#\n",
    "import numpy as np\n",
    "import matplotlib.pyplot as plt\n",
    "\n",
    "#\n",
    "from pynb_dag_runner.tasks.task_opentelemetry_logging import PydarLogger\n",
    "\n",
    "#\n",
    "from common.io import datalake_root\n",
    "\n",
    "logger = PydarLogger(P)"
   ]
  },
  {
   "cell_type": "markdown",
   "id": "d968b5a0",
   "metadata": {
    "papermill": {
     "duration": 0.005279,
     "end_time": "2022-12-06T06:43:11.330278",
     "exception": false,
     "start_time": "2022-12-06T06:43:11.324999",
     "status": "completed"
    },
    "tags": []
   },
   "source": [
    "## Load persisted onnx-model and evaluation data"
   ]
  },
  {
   "cell_type": "code",
   "execution_count": 6,
   "id": "1247cb33",
   "metadata": {
    "execution": {
     "iopub.execute_input": "2022-12-06T06:43:11.342548Z",
     "iopub.status.busy": "2022-12-06T06:43:11.342130Z",
     "iopub.status.idle": "2022-12-06T06:43:11.345993Z",
     "shell.execute_reply": "2022-12-06T06:43:11.345335Z"
    },
    "papermill": {
     "duration": 0.014119,
     "end_time": "2022-12-06T06:43:11.349593",
     "exception": false,
     "start_time": "2022-12-06T06:43:11.335474",
     "status": "completed"
    },
    "tags": []
   },
   "outputs": [],
   "source": [
    "from common.io import read_onnx, get_onnx_inputs, get_onnx_outputs, read_numpy"
   ]
  },
  {
   "cell_type": "code",
   "execution_count": 7,
   "id": "0c00a37f",
   "metadata": {
    "execution": {
     "iopub.execute_input": "2022-12-06T06:43:11.362069Z",
     "iopub.status.busy": "2022-12-06T06:43:11.361785Z",
     "iopub.status.idle": "2022-12-06T06:43:11.375692Z",
     "shell.execute_reply": "2022-12-06T06:43:11.375064Z"
    },
    "lines_to_next_cell": 0,
    "papermill": {
     "duration": 0.022585,
     "end_time": "2022-12-06T06:43:11.377829",
     "exception": false,
     "start_time": "2022-12-06T06:43:11.355244",
     "status": "completed"
    },
    "tags": []
   },
   "outputs": [],
   "source": [
    "onnx_inference_session = read_onnx(\n",
    "    datalake_root(P)\n",
    "    / \"models\"\n",
    "    / f\"nr_train_images={P['task.nr_train_images']}\"\n",
    "    / \"model.onnx\"\n",
    ")"
   ]
  },
  {
   "cell_type": "markdown",
   "id": "2e4695e6",
   "metadata": {
    "papermill": {
     "duration": 0.006149,
     "end_time": "2022-12-06T06:43:11.394800",
     "exception": false,
     "start_time": "2022-12-06T06:43:11.388651",
     "status": "completed"
    },
    "tags": []
   },
   "source": [
    "### Record structure of inputs and outputs for ONNX model\n",
    "\n",
    "(this should likely be done in training notebook)"
   ]
  },
  {
   "cell_type": "code",
   "execution_count": 8,
   "id": "5f38af33",
   "metadata": {
    "execution": {
     "iopub.execute_input": "2022-12-06T06:43:11.406869Z",
     "iopub.status.busy": "2022-12-06T06:43:11.406543Z",
     "iopub.status.idle": "2022-12-06T06:43:11.417927Z",
     "shell.execute_reply": "2022-12-06T06:43:11.417045Z"
    },
    "papermill": {
     "duration": 0.020223,
     "end_time": "2022-12-06T06:43:11.419859",
     "exception": false,
     "start_time": "2022-12-06T06:43:11.399636",
     "status": "completed"
    },
    "tags": []
   },
   "outputs": [
    {
     "name": "stdout",
     "output_type": "stream",
     "text": [
      "{\n",
      "  \"inputs\": [\n",
      "    {\n",
      "      \"name\": \"float_input_8x8_image\",\n",
      "      \"shape\": [\n",
      "        null,\n",
      "        64\n",
      "      ],\n",
      "      \"type\": \"tensor(float)\"\n",
      "    }\n",
      "  ],\n",
      "  \"outputs\": [\n",
      "    {\n",
      "      \"name\": \"output_label\",\n",
      "      \"shape\": [\n",
      "        null\n",
      "      ],\n",
      "      \"type\": \"tensor(int64)\"\n",
      "    },\n",
      "    {\n",
      "      \"name\": \"output_probability\",\n",
      "      \"shape\": [],\n",
      "      \"type\": \"seq(map(int64,tensor(float)))\"\n",
      "    }\n",
      "  ]\n",
      "}\n"
     ]
    }
   ],
   "source": [
    "import json\n",
    "\n",
    "onnx_io = json.dumps(\n",
    "    {\n",
    "        \"inputs\": get_onnx_inputs(onnx_inference_session),\n",
    "        \"outputs\": get_onnx_outputs(onnx_inference_session),\n",
    "    },\n",
    "    indent=2,\n",
    ")\n",
    "\n",
    "\n",
    "logger.log_artefact(\"onnx_io_structure.json\", onnx_io)\n",
    "print(onnx_io)"
   ]
  },
  {
   "cell_type": "markdown",
   "id": "479796de",
   "metadata": {
    "papermill": {
     "duration": 0.00484,
     "end_time": "2022-12-06T06:43:11.430624",
     "exception": false,
     "start_time": "2022-12-06T06:43:11.425784",
     "status": "completed"
    },
    "tags": []
   },
   "source": [
    "### Evaluate model performance on evaluation data set"
   ]
  },
  {
   "cell_type": "code",
   "execution_count": 9,
   "id": "93bb1acc",
   "metadata": {
    "execution": {
     "iopub.execute_input": "2022-12-06T06:43:11.444107Z",
     "iopub.status.busy": "2022-12-06T06:43:11.443811Z",
     "iopub.status.idle": "2022-12-06T06:43:11.448955Z",
     "shell.execute_reply": "2022-12-06T06:43:11.448339Z"
    },
    "papermill": {
     "duration": 0.016402,
     "end_time": "2022-12-06T06:43:11.452719",
     "exception": false,
     "start_time": "2022-12-06T06:43:11.436317",
     "status": "completed"
    },
    "tags": []
   },
   "outputs": [],
   "source": [
    "# load evaluation data\n",
    "X_test = read_numpy(datalake_root(P) / \"test-data\" / \"digits.numpy\")\n",
    "y_test = read_numpy(datalake_root(P) / \"test-data\" / \"labels.numpy\")"
   ]
  },
  {
   "cell_type": "code",
   "execution_count": 10,
   "id": "bb8b3f8e",
   "metadata": {
    "execution": {
     "iopub.execute_input": "2022-12-06T06:43:11.464885Z",
     "iopub.status.busy": "2022-12-06T06:43:11.464589Z",
     "iopub.status.idle": "2022-12-06T06:43:11.554786Z",
     "shell.execute_reply": "2022-12-06T06:43:11.553017Z"
    },
    "papermill": {
     "duration": 0.099274,
     "end_time": "2022-12-06T06:43:11.557089",
     "exception": false,
     "start_time": "2022-12-06T06:43:11.457815",
     "status": "completed"
    },
    "tags": []
   },
   "outputs": [],
   "source": [
    "def get_model_outputs(X, onnx_inference_session):\n",
    "    y_pred_labels, y_pred_map = onnx_inference_session.run(\n",
    "        [\"output_label\", \"output_probability\"],\n",
    "        {\"float_input_8x8_image\": X.astype(np.float32)},\n",
    "    )\n",
    "    y_pred_probs = np.array(\n",
    "        [[probabilities[digit] for digit in range(10)] for probabilities in y_pred_map]\n",
    "    )\n",
    "\n",
    "    assert y_pred_labels.shape == (X.shape[0],)\n",
    "    assert y_pred_probs.shape == (X.shape[0], 10)\n",
    "\n",
    "    return y_pred_labels, y_pred_probs\n",
    "\n",
    "\n",
    "# Note: as shown in the training notebook, the predicted labels and probabilities\n",
    "# computed below need not be compatible.\n",
    "y_pred_labels_test, y_pred_probs_test = get_model_outputs(\n",
    "    X_test, onnx_inference_session\n",
    ")"
   ]
  },
  {
   "cell_type": "markdown",
   "id": "63abf35f",
   "metadata": {
    "papermill": {
     "duration": 0.006133,
     "end_time": "2022-12-06T06:43:11.569105",
     "exception": false,
     "start_time": "2022-12-06T06:43:11.562972",
     "status": "completed"
    },
    "tags": []
   },
   "source": [
    "### Confusion matrix"
   ]
  },
  {
   "cell_type": "code",
   "execution_count": 11,
   "id": "ec287234",
   "metadata": {
    "execution": {
     "iopub.execute_input": "2022-12-06T06:43:11.582305Z",
     "iopub.status.busy": "2022-12-06T06:43:11.581959Z",
     "iopub.status.idle": "2022-12-06T06:43:11.586714Z",
     "shell.execute_reply": "2022-12-06T06:43:11.585988Z"
    },
    "papermill": {
     "duration": 0.0141,
     "end_time": "2022-12-06T06:43:11.589600",
     "exception": false,
     "start_time": "2022-12-06T06:43:11.575500",
     "status": "completed"
    },
    "tags": []
   },
   "outputs": [],
   "source": [
    "# TODO"
   ]
  },
  {
   "cell_type": "markdown",
   "id": "602a280a",
   "metadata": {
    "papermill": {
     "duration": 0.006473,
     "end_time": "2022-12-06T06:43:11.607721",
     "exception": false,
     "start_time": "2022-12-06T06:43:11.601248",
     "status": "completed"
    },
    "tags": []
   },
   "source": [
    "### Plot predicted probabilities for each classifier over all evaluation digit images"
   ]
  },
  {
   "cell_type": "code",
   "execution_count": 12,
   "id": "ef5d58f2",
   "metadata": {
    "execution": {
     "iopub.execute_input": "2022-12-06T06:43:11.621180Z",
     "iopub.status.busy": "2022-12-06T06:43:11.620862Z",
     "iopub.status.idle": "2022-12-06T06:43:15.301220Z",
     "shell.execute_reply": "2022-12-06T06:43:15.299616Z"
    },
    "papermill": {
     "duration": 3.690488,
     "end_time": "2022-12-06T06:43:15.303342",
     "exception": false,
     "start_time": "2022-12-06T06:43:11.612854",
     "status": "completed"
    },
    "tags": []
   },
   "outputs": [
    {
     "data": {
      "image/png": "[encoded data removed]",
      "text/plain": [
       "<Figure size 1600x600 with 10 Axes>"
      ]
     },
     "metadata": {},
     "output_type": "display_data"
    }
   ],
   "source": [
    "def plot_per_digit_probabilities(y_pred_probs):\n",
    "    fig, axs = plt.subplots(nrows=2, ncols=5, figsize=(16, 6))\n",
    "\n",
    "    for (r, c), digit, ax in zip(\n",
    "        it.product(range(2), range(5)), range(10), axs.reshape(-1)\n",
    "    ):\n",
    "        ax.hist(y_pred_probs_test[:, digit], bins=20)\n",
    "\n",
    "        ax.set_title(f\"Digit {digit}\")\n",
    "        if r == 1 and c == 2:\n",
    "            ax.set_xlabel(\"probability\", fontsize=16)\n",
    "\n",
    "        if c == 0:\n",
    "            ax.set_ylabel(\"counts\", fontsize=16)\n",
    "        ax.set_yscale(\"log\")\n",
    "\n",
    "    fig.tight_layout()\n",
    "    fig.suptitle(\n",
    "        f\"Distributions of prediction probabilities for each digit \"\n",
    "        f\"(on evaluation data, n={y_pred_probs.shape[0]})\",\n",
    "        fontsize=20,\n",
    "    )\n",
    "    fig.tight_layout()\n",
    "    fig.show()\n",
    "\n",
    "    return fig\n",
    "\n",
    "\n",
    "fig = plot_per_digit_probabilities(y_pred_probs_test)"
   ]
  },
  {
   "cell_type": "markdown",
   "id": "797c6b04",
   "metadata": {
    "papermill": {
     "duration": 0.006631,
     "end_time": "2022-12-06T06:43:15.316141",
     "exception": false,
     "start_time": "2022-12-06T06:43:15.309510",
     "status": "completed"
    },
    "tags": []
   },
   "source": [
    "From the above distributions we see that most digits have clear separation between\n",
    "high and lower probabilities. Morover, in each case there is roughly an order of\n",
    "magnitude more of digits with low probabilities. This is compatible with digits\n",
    "being roughly evenly distributed in the data."
   ]
  },
  {
   "cell_type": "code",
   "execution_count": 13,
   "id": "677ccc0c",
   "metadata": {
    "execution": {
     "iopub.execute_input": "2022-12-06T06:43:15.337307Z",
     "iopub.status.busy": "2022-12-06T06:43:15.336889Z",
     "iopub.status.idle": "2022-12-06T06:43:15.933816Z",
     "shell.execute_reply": "2022-12-06T06:43:15.932980Z"
    },
    "papermill": {
     "duration": 0.607182,
     "end_time": "2022-12-06T06:43:15.935910",
     "exception": false,
     "start_time": "2022-12-06T06:43:15.328728",
     "status": "completed"
    },
    "tags": []
   },
   "outputs": [],
   "source": [
    "logger.log_figure(\"per-digit-probabilities.png\", fig)"
   ]
  },
  {
   "cell_type": "markdown",
   "id": "8f837210",
   "metadata": {
    "papermill": {
     "duration": 0.007194,
     "end_time": "2022-12-06T06:43:15.952504",
     "exception": false,
     "start_time": "2022-12-06T06:43:15.945310",
     "status": "completed"
    },
    "tags": []
   },
   "source": [
    "### Plot ROC curves for individual one-vs-rest classifiers"
   ]
  },
  {
   "cell_type": "code",
   "execution_count": 14,
   "id": "2a528795",
   "metadata": {
    "execution": {
     "iopub.execute_input": "2022-12-06T06:43:15.967096Z",
     "iopub.status.busy": "2022-12-06T06:43:15.966159Z",
     "iopub.status.idle": "2022-12-06T06:43:16.478961Z",
     "shell.execute_reply": "2022-12-06T06:43:16.478003Z"
    },
    "papermill": {
     "duration": 0.522734,
     "end_time": "2022-12-06T06:43:16.481396",
     "exception": false,
     "start_time": "2022-12-06T06:43:15.958662",
     "status": "completed"
    },
    "tags": []
   },
   "outputs": [],
   "source": [
    "from sklearn import metrics"
   ]
  },
  {
   "cell_type": "code",
   "execution_count": 15,
   "id": "d625b7c2",
   "metadata": {
    "execution": {
     "iopub.execute_input": "2022-12-06T06:43:16.497637Z",
     "iopub.status.busy": "2022-12-06T06:43:16.497043Z",
     "iopub.status.idle": "2022-12-06T06:43:17.836319Z",
     "shell.execute_reply": "2022-12-06T06:43:17.835704Z"
    },
    "papermill": {
     "duration": 1.348628,
     "end_time": "2022-12-06T06:43:17.838068",
     "exception": false,
     "start_time": "2022-12-06T06:43:16.489440",
     "status": "completed"
    },
    "tags": []
   },
   "outputs": [
    {
     "data": {
      "image/png": "[encoded data removed]",
      "text/plain": [
       "<Figure size 1600x800 with 10 Axes>"
      ]
     },
     "metadata": {},
     "output_type": "display_data"
    }
   ],
   "source": [
    "def plot_roc_curves(y, y_pred_probs):\n",
    "    # based on example code\n",
    "    # https://scikit-learn.org/stable/auto_examples/model_selection/plot_roc.html\n",
    "\n",
    "    fig, axs = plt.subplots(nrows=2, ncols=5, figsize=(16, 8))\n",
    "\n",
    "    roc_auc_dict = {}\n",
    "\n",
    "    for (r, c), digit, ax in zip(\n",
    "        it.product(range(2), range(5)), range(10), axs.reshape(-1)\n",
    "    ):\n",
    "        fpr, tpr, _ = metrics.roc_curve(y == digit, y_pred_probs[:, digit])\n",
    "        auc = metrics.auc(fpr, tpr)\n",
    "        roc_auc_dict[str(digit)] = auc\n",
    "\n",
    "        ax.plot(fpr, tpr, label=f\"ROC AUC={round(auc, 3)}\")\n",
    "\n",
    "        ax.set_title(f\"\\nDigit {digit}\", fontsize=16)\n",
    "        if r == 1:\n",
    "            ax.set_xlabel(\"FPR\", fontsize=18)\n",
    "\n",
    "        if c == 0:\n",
    "            ax.set_ylabel(\"TPR\", fontsize=18)\n",
    "\n",
    "        ax.set_xlim([-0.05, 1.05])\n",
    "        ax.set_ylim([-0.05, 1.05])\n",
    "        ax.legend(loc=\"lower right\", frameon=False, fontsize=14)\n",
    "\n",
    "    fig.tight_layout()\n",
    "    fig.suptitle(\n",
    "        f\"ROC plots for one-vs-rest performances \"\n",
    "        f\"(on evaluation data, n={y_pred_probs_test.shape[1]}\",\n",
    "        fontsize=22,\n",
    "    )\n",
    "    fig.tight_layout()\n",
    "    fig.show()\n",
    "\n",
    "    return roc_auc_dict, fig\n",
    "\n",
    "\n",
    "roc_auc_dict, fig = plot_roc_curves(y_test, y_pred_probs_test)"
   ]
  },
  {
   "cell_type": "code",
   "execution_count": 16,
   "id": "eb89aee3",
   "metadata": {
    "execution": {
     "iopub.execute_input": "2022-12-06T06:43:17.855546Z",
     "iopub.status.busy": "2022-12-06T06:43:17.855157Z",
     "iopub.status.idle": "2022-12-06T06:43:18.258922Z",
     "shell.execute_reply": "2022-12-06T06:43:18.257198Z"
    },
    "papermill": {
     "duration": 0.415081,
     "end_time": "2022-12-06T06:43:18.260932",
     "exception": false,
     "start_time": "2022-12-06T06:43:17.845851",
     "status": "completed"
    },
    "tags": []
   },
   "outputs": [],
   "source": [
    "logger.log_figure(\"per-digit-roc-curves.png\", fig)"
   ]
  },
  {
   "cell_type": "code",
   "execution_count": 17,
   "id": "f7aabe1c",
   "metadata": {
    "execution": {
     "iopub.execute_input": "2022-12-06T06:43:18.278577Z",
     "iopub.status.busy": "2022-12-06T06:43:18.278201Z",
     "iopub.status.idle": "2022-12-06T06:43:18.284274Z",
     "shell.execute_reply": "2022-12-06T06:43:18.283398Z"
    },
    "papermill": {
     "duration": 0.021475,
     "end_time": "2022-12-06T06:43:18.291021",
     "exception": false,
     "start_time": "2022-12-06T06:43:18.269546",
     "status": "completed"
    },
    "tags": []
   },
   "outputs": [
    {
     "data": {
      "text/plain": [
       "{'0': 1.0,\n",
       " '1': 0.998987816307404,\n",
       " '2': 1.0,\n",
       " '3': 0.9998125585754452,\n",
       " '4': 0.9996570644718793,\n",
       " '5': 0.9994001874414246,\n",
       " '6': 0.999923792104862,\n",
       " '7': 0.9997713763145862,\n",
       " '8': 0.9952317150063051,\n",
       " '9': 0.9995808565767414}"
      ]
     },
     "execution_count": 17,
     "metadata": {},
     "output_type": "execute_result"
    }
   ],
   "source": [
    "roc_auc_dict"
   ]
  },
  {
   "cell_type": "code",
   "execution_count": 18,
   "id": "9878c4fe",
   "metadata": {
    "execution": {
     "iopub.execute_input": "2022-12-06T06:43:18.314959Z",
     "iopub.status.busy": "2022-12-06T06:43:18.314168Z",
     "iopub.status.idle": "2022-12-06T06:43:18.319353Z",
     "shell.execute_reply": "2022-12-06T06:43:18.318528Z"
    },
    "papermill": {
     "duration": 0.019819,
     "end_time": "2022-12-06T06:43:18.323640",
     "exception": false,
     "start_time": "2022-12-06T06:43:18.303821",
     "status": "completed"
    },
    "tags": []
   },
   "outputs": [
    {
     "name": "stdout",
     "output_type": "stream",
     "text": [
      " - Logging roc_auc_per_digit (json) : {'0': 1.0, '1': 0.998987816307404, '2': 1.0, '3': 0.9998125585754452, '4': 0.9996570644718793, '5': 0.9994001874414246, '6': 0.999923792104862, '7': 0.9997713763145862, '8': 0.9952317150063051, '9': 0.9995808565767414}\n"
     ]
    }
   ],
   "source": [
    "logger.log_value(\"roc_auc_per_digit\", roc_auc_dict)"
   ]
  },
  {
   "cell_type": "markdown",
   "id": "c756dd0f",
   "metadata": {
    "papermill": {
     "duration": 0.00826,
     "end_time": "2022-12-06T06:43:18.347743",
     "exception": false,
     "start_time": "2022-12-06T06:43:18.339483",
     "status": "completed"
    },
    "tags": []
   },
   "source": [
    "### Compute and log mean ROC AUC score averaged over all digits"
   ]
  },
  {
   "cell_type": "code",
   "execution_count": 19,
   "id": "b5c872b1",
   "metadata": {
    "execution": {
     "iopub.execute_input": "2022-12-06T06:43:18.368779Z",
     "iopub.status.busy": "2022-12-06T06:43:18.368351Z",
     "iopub.status.idle": "2022-12-06T06:43:18.384483Z",
     "shell.execute_reply": "2022-12-06T06:43:18.383578Z"
    },
    "papermill": {
     "duration": 0.029591,
     "end_time": "2022-12-06T06:43:18.386297",
     "exception": false,
     "start_time": "2022-12-06T06:43:18.356706",
     "status": "completed"
    },
    "tags": []
   },
   "outputs": [
    {
     "name": "stdout",
     "output_type": "stream",
     "text": [
      " - Logging roc_auc_class_mean (float) : 0.9992365366798648\n"
     ]
    }
   ],
   "source": [
    "roc_auc_macro = np.mean(list(roc_auc_dict.values()))\n",
    "\n",
    "logger.log_float(\"roc_auc_class_mean\", roc_auc_macro)\n",
    "\n",
    "# assert that the same value can be computed directly using sklearn\n",
    "assert roc_auc_macro == metrics.roc_auc_score(\n",
    "    y_test, y_pred_probs_test, average=\"macro\", multi_class=\"ovr\"\n",
    ")"
   ]
  },
  {
   "cell_type": "code",
   "execution_count": 20,
   "id": "01d1da32",
   "metadata": {
    "execution": {
     "iopub.execute_input": "2022-12-06T06:43:18.404431Z",
     "iopub.status.busy": "2022-12-06T06:43:18.403948Z",
     "iopub.status.idle": "2022-12-06T06:43:18.407639Z",
     "shell.execute_reply": "2022-12-06T06:43:18.406642Z"
    },
    "lines_to_next_cell": 0,
    "papermill": {
     "duration": 0.0151,
     "end_time": "2022-12-06T06:43:18.409891",
     "exception": false,
     "start_time": "2022-12-06T06:43:18.394791",
     "status": "completed"
    },
    "tags": []
   },
   "outputs": [],
   "source": [
    "# ---"
   ]
  },
  {
   "cell_type": "code",
   "execution_count": null,
   "id": "a1b8e6f3",
   "metadata": {
    "papermill": {
     "duration": 0.008869,
     "end_time": "2022-12-06T06:43:18.427439",
     "exception": false,
     "start_time": "2022-12-06T06:43:18.418570",
     "status": "completed"
    },
    "tags": []
   },
   "outputs": [],
   "source": []
  }
 ],
 "metadata": {
  "jupytext": {
   "cell_metadata_filter": "tags,-all",
   "main_language": "python",
   "notebook_metadata_filter": "-all"
  },
  "language_info": {
   "codemirror_mode": {
    "name": "ipython",
    "version": 3
   },
   "file_extension": ".py",
   "mimetype": "text/x-python",
   "name": "python",
   "nbconvert_exporter": "python",
   "pygments_lexer": "ipython3",
   "version": "3.8.10"
  },
  "papermill": {
   "default_parameters": {},
   "duration": 11.733011,
   "end_time": "2022-12-06T06:43:19.669535",
   "environment_variables": {},
   "exception": null,
   "input_path": "/home/host_user/workspace/mnist-demo-pipeline/mnist-demo-pipeline/notebooks/temp-notebook-q5flyjzb.ipynb",
   "output_path": "notebooks/benchmark-model.ipynb",
   "parameters": {
    "P": {
     "_opentelemetry_traceparent": "00-fc58cfcfae3a12f61dcf247fa53287f2-64a44f479813453f-01",
     "pipeline.data_lake_root": "/pipeline-outputs/data-lake",
     "pipeline.github.actor": "matiasdahl",
     "pipeline.github.base_ref": "",
     "pipeline.github.event_name": "schedule",
     "pipeline.github.head_ref": "",
     "pipeline.github.job": "run-tests-pipeline-and-persist-pipeline-outputs",
     "pipeline.github.ref": "refs/heads/development",
     "pipeline.github.ref_name": "development",
     "pipeline.github.ref_type": "branch",
     "pipeline.github.repository": "matiasdahl/dev-mnist-digits-demo-pipeline",
     "pipeline.github.run_id": "3627132107",
     "pipeline.github.runner_name": "Hosted Agent",
     "pipeline.github.sha": "ace0d01011d5e914f1921450dd5a59c11367b38d",
     "pipeline.github.workflow": "Run automated tests, pipeline and deploy results to static reporting site",
     "pipeline.pipeline_run_id": "bf2e3d2c-c43f-41c7-942f-3f58890d3649",
     "pipeline.run_environment": "ci",
     "run.retry_nr": "0",
     "task.max_nr_retries": "1",
     "task.notebook": "notebooks/benchmark-model.py",
     "task.nr_train_images": 1000,
     "task.num_cpus": 1,
     "task.timeout_s": "None"
    }
   },
   "start_time": "2022-12-06T06:43:07.936524",
   "version": "2.3.3"
  }
 },
 "nbformat": 4,
 "nbformat_minor": 5
}