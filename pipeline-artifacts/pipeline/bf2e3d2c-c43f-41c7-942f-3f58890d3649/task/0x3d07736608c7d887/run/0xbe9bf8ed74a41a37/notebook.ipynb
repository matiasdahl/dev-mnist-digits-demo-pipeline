{
 "cells": [
  {
   "cell_type": "markdown",
   "id": "258e935f",
   "metadata": {
    "papermill": {
     "duration": 0.010764,
     "end_time": "2022-12-06T06:42:56.533982",
     "exception": false,
     "start_time": "2022-12-06T06:42:56.523218",
     "status": "completed"
    },
    "tags": []
   },
   "source": [
    "# Benchmark model\n",
    "\n",
    "The purpose of this notebook is to benchmark persisted onnx-model (trained in the\n",
    "previous step) against evaluation set."
   ]
  },
  {
   "cell_type": "markdown",
   "id": "6fab62fc",
   "metadata": {
    "papermill": {
     "duration": 0.004768,
     "end_time": "2022-12-06T06:42:56.544982",
     "exception": false,
     "start_time": "2022-12-06T06:42:56.540214",
     "status": "completed"
    },
    "tags": []
   },
   "source": [
    "### Determine run parameters"
   ]
  },
  {
   "cell_type": "code",
   "execution_count": 1,
   "id": "abc894b7",
   "metadata": {
    "execution": {
     "iopub.execute_input": "2022-12-06T06:42:56.555691Z",
     "iopub.status.busy": "2022-12-06T06:42:56.555324Z",
     "iopub.status.idle": "2022-12-06T06:42:56.564706Z",
     "shell.execute_reply": "2022-12-06T06:42:56.564088Z"
    },
    "lines_to_next_cell": 0,
    "papermill": {
     "duration": 0.016948,
     "end_time": "2022-12-06T06:42:56.566621",
     "exception": false,
     "start_time": "2022-12-06T06:42:56.549673",
     "status": "completed"
    },
    "tags": []
   },
   "outputs": [],
   "source": [
    "# ----------------- Parameters for interactive development --------------\n",
    "P = {\n",
    "    \"pipeline.data_lake_root\": \"/pipeline-outputs/data-lake\",\n",
    "    \"task.nr_train_images\": 600,\n",
    "}"
   ]
  },
  {
   "cell_type": "code",
   "execution_count": 2,
   "id": "9a86af0c",
   "metadata": {
    "execution": {
     "iopub.execute_input": "2022-12-06T06:42:56.577170Z",
     "iopub.status.busy": "2022-12-06T06:42:56.576932Z",
     "iopub.status.idle": "2022-12-06T06:42:56.580618Z",
     "shell.execute_reply": "2022-12-06T06:42:56.579938Z"
    },
    "lines_to_next_cell": 0,
    "papermill": {
     "duration": 0.012321,
     "end_time": "2022-12-06T06:42:56.583522",
     "exception": false,
     "start_time": "2022-12-06T06:42:56.571201",
     "status": "completed"
    },
    "tags": [
     "parameters"
    ]
   },
   "outputs": [],
   "source": [
    "# - During automated runs parameters will be injected in the below cell -"
   ]
  },
  {
   "cell_type": "code",
   "execution_count": 3,
   "id": "0d2360b7",
   "metadata": {
    "execution": {
     "iopub.execute_input": "2022-12-06T06:42:56.593556Z",
     "iopub.status.busy": "2022-12-06T06:42:56.593304Z",
     "iopub.status.idle": "2022-12-06T06:42:56.598054Z",
     "shell.execute_reply": "2022-12-06T06:42:56.597474Z"
    },
    "papermill": {
     "duration": 0.013345,
     "end_time": "2022-12-06T06:42:56.600799",
     "exception": false,
     "start_time": "2022-12-06T06:42:56.587454",
     "status": "completed"
    },
    "tags": [
     "injected-parameters"
    ]
   },
   "outputs": [],
   "source": [
    "# Parameters\n",
    "P = {\n",
    "    \"pipeline.data_lake_root\": \"/pipeline-outputs/data-lake\",\n",
    "    \"pipeline.run_environment\": \"ci\",\n",
    "    \"pipeline.pipeline_run_id\": \"bf2e3d2c-c43f-41c7-942f-3f58890d3649\",\n",
    "    \"pipeline.github.repository\": \"matiasdahl/dev-mnist-digits-demo-pipeline\",\n",
    "    \"pipeline.github.workflow\": \"Run automated tests, pipeline and deploy results to static reporting site\",\n",
    "    \"pipeline.github.runner_name\": \"Hosted Agent\",\n",
    "    \"pipeline.github.run_id\": \"3627132107\",\n",
    "    \"pipeline.github.actor\": \"matiasdahl\",\n",
    "    \"pipeline.github.job\": \"run-tests-pipeline-and-persist-pipeline-outputs\",\n",
    "    \"pipeline.github.base_ref\": \"\",\n",
    "    \"pipeline.github.head_ref\": \"\",\n",
    "    \"pipeline.github.sha\": \"ace0d01011d5e914f1921450dd5a59c11367b38d\",\n",
    "    \"pipeline.github.ref\": \"refs/heads/development\",\n",
    "    \"pipeline.github.ref_type\": \"branch\",\n",
    "    \"pipeline.github.ref_name\": \"development\",\n",
    "    \"pipeline.github.event_name\": \"schedule\",\n",
    "    \"task.nr_train_images\": 600,\n",
    "    \"task.notebook\": \"notebooks/benchmark-model.py\",\n",
    "    \"task.max_nr_retries\": \"1\",\n",
    "    \"run.retry_nr\": \"0\",\n",
    "    \"task.timeout_s\": \"None\",\n",
    "    \"task.num_cpus\": 1,\n",
    "    \"_opentelemetry_traceparent\": \"00-fc58cfcfae3a12f61dcf247fa53287f2-96e6976cb0ba9981-01\",\n",
    "}\n"
   ]
  },
  {
   "cell_type": "code",
   "execution_count": 4,
   "id": "c0ee6f2d",
   "metadata": {
    "execution": {
     "iopub.execute_input": "2022-12-06T06:42:56.611232Z",
     "iopub.status.busy": "2022-12-06T06:42:56.610980Z",
     "iopub.status.idle": "2022-12-06T06:42:56.614495Z",
     "shell.execute_reply": "2022-12-06T06:42:56.613884Z"
    },
    "lines_to_next_cell": 0,
    "papermill": {
     "duration": 0.014066,
     "end_time": "2022-12-06T06:42:56.619625",
     "exception": false,
     "start_time": "2022-12-06T06:42:56.605559",
     "status": "completed"
    },
    "tags": []
   },
   "outputs": [],
   "source": [
    "# -----------------------------------------------------------------------"
   ]
  },
  {
   "cell_type": "markdown",
   "id": "348939b4",
   "metadata": {
    "papermill": {
     "duration": 0.005625,
     "end_time": "2022-12-06T06:42:56.630049",
     "exception": false,
     "start_time": "2022-12-06T06:42:56.624424",
     "status": "completed"
    },
    "tags": []
   },
   "source": [
    "---"
   ]
  },
  {
   "cell_type": "markdown",
   "id": "0931c6ef",
   "metadata": {
    "lines_to_next_cell": 2,
    "papermill": {
     "duration": 0.004662,
     "end_time": "2022-12-06T06:42:56.639667",
     "exception": false,
     "start_time": "2022-12-06T06:42:56.635005",
     "status": "completed"
    },
    "tags": []
   },
   "source": [
    "### Notebook code"
   ]
  },
  {
   "cell_type": "code",
   "execution_count": 5,
   "id": "88ac6c44",
   "metadata": {
    "execution": {
     "iopub.execute_input": "2022-12-06T06:42:56.650317Z",
     "iopub.status.busy": "2022-12-06T06:42:56.649987Z",
     "iopub.status.idle": "2022-12-06T06:42:57.901263Z",
     "shell.execute_reply": "2022-12-06T06:42:57.899879Z"
    },
    "papermill": {
     "duration": 1.259041,
     "end_time": "2022-12-06T06:42:57.903503",
     "exception": false,
     "start_time": "2022-12-06T06:42:56.644462",
     "status": "completed"
    },
    "tags": []
   },
   "outputs": [
    {
     "name": "stderr",
     "output_type": "stream",
     "text": [
      "2022-12-06 06:42:57,724\tINFO worker.py:842 -- Connecting to existing Ray cluster at address: 172.17.0.2:6379\n"
     ]
    }
   ],
   "source": [
    "import itertools as it\n",
    "\n",
    "#\n",
    "import numpy as np\n",
    "import matplotlib.pyplot as plt\n",
    "\n",
    "#\n",
    "from pynb_dag_runner.tasks.task_opentelemetry_logging import PydarLogger\n",
    "\n",
    "#\n",
    "from common.io import datalake_root\n",
    "\n",
    "logger = PydarLogger(P)"
   ]
  },
  {
   "cell_type": "markdown",
   "id": "cf3266c5",
   "metadata": {
    "papermill": {
     "duration": 0.005618,
     "end_time": "2022-12-06T06:42:57.913981",
     "exception": false,
     "start_time": "2022-12-06T06:42:57.908363",
     "status": "completed"
    },
    "tags": []
   },
   "source": [
    "## Load persisted onnx-model and evaluation data"
   ]
  },
  {
   "cell_type": "code",
   "execution_count": 6,
   "id": "609e0006",
   "metadata": {
    "execution": {
     "iopub.execute_input": "2022-12-06T06:42:57.925846Z",
     "iopub.status.busy": "2022-12-06T06:42:57.925453Z",
     "iopub.status.idle": "2022-12-06T06:42:57.929218Z",
     "shell.execute_reply": "2022-12-06T06:42:57.928597Z"
    },
    "papermill": {
     "duration": 0.014086,
     "end_time": "2022-12-06T06:42:57.932724",
     "exception": false,
     "start_time": "2022-12-06T06:42:57.918638",
     "status": "completed"
    },
    "tags": []
   },
   "outputs": [],
   "source": [
    "from common.io import read_onnx, get_onnx_inputs, get_onnx_outputs, read_numpy"
   ]
  },
  {
   "cell_type": "code",
   "execution_count": 7,
   "id": "60977fdf",
   "metadata": {
    "execution": {
     "iopub.execute_input": "2022-12-06T06:42:57.944464Z",
     "iopub.status.busy": "2022-12-06T06:42:57.944219Z",
     "iopub.status.idle": "2022-12-06T06:42:57.956205Z",
     "shell.execute_reply": "2022-12-06T06:42:57.955647Z"
    },
    "lines_to_next_cell": 0,
    "papermill": {
     "duration": 0.020249,
     "end_time": "2022-12-06T06:42:57.958127",
     "exception": false,
     "start_time": "2022-12-06T06:42:57.937878",
     "status": "completed"
    },
    "tags": []
   },
   "outputs": [],
   "source": [
    "onnx_inference_session = read_onnx(\n",
    "    datalake_root(P)\n",
    "    / \"models\"\n",
    "    / f\"nr_train_images={P['task.nr_train_images']}\"\n",
    "    / \"model.onnx\"\n",
    ")"
   ]
  },
  {
   "cell_type": "markdown",
   "id": "a60b6b37",
   "metadata": {
    "papermill": {
     "duration": 0.008294,
     "end_time": "2022-12-06T06:42:57.972303",
     "exception": false,
     "start_time": "2022-12-06T06:42:57.964009",
     "status": "completed"
    },
    "tags": []
   },
   "source": [
    "### Record structure of inputs and outputs for ONNX model\n",
    "\n",
    "(this should likely be done in training notebook)"
   ]
  },
  {
   "cell_type": "code",
   "execution_count": 8,
   "id": "cfff4f86",
   "metadata": {
    "execution": {
     "iopub.execute_input": "2022-12-06T06:42:57.983884Z",
     "iopub.status.busy": "2022-12-06T06:42:57.983632Z",
     "iopub.status.idle": "2022-12-06T06:42:57.991885Z",
     "shell.execute_reply": "2022-12-06T06:42:57.990470Z"
    },
    "papermill": {
     "duration": 0.018726,
     "end_time": "2022-12-06T06:42:57.995633",
     "exception": false,
     "start_time": "2022-12-06T06:42:57.976907",
     "status": "completed"
    },
    "tags": []
   },
   "outputs": [
    {
     "name": "stdout",
     "output_type": "stream",
     "text": [
      "{\n",
      "  \"inputs\": [\n",
      "    {\n",
      "      \"name\": \"float_input_8x8_image\",\n",
      "      \"shape\": [\n",
      "        null,\n",
      "        64\n",
      "      ],\n",
      "      \"type\": \"tensor(float)\"\n",
      "    }\n",
      "  ],\n",
      "  \"outputs\": [\n",
      "    {\n",
      "      \"name\": \"output_label\",\n",
      "      \"shape\": [\n",
      "        null\n",
      "      ],\n",
      "      \"type\": \"tensor(int64)\"\n",
      "    },\n",
      "    {\n",
      "      \"name\": \"output_probability\",\n",
      "      \"shape\": [],\n",
      "      \"type\": \"seq(map(int64,tensor(float)))\"\n",
      "    }\n",
      "  ]\n",
      "}\n"
     ]
    }
   ],
   "source": [
    "import json\n",
    "\n",
    "onnx_io = json.dumps(\n",
    "    {\n",
    "        \"inputs\": get_onnx_inputs(onnx_inference_session),\n",
    "        \"outputs\": get_onnx_outputs(onnx_inference_session),\n",
    "    },\n",
    "    indent=2,\n",
    ")\n",
    "\n",
    "\n",
    "logger.log_artefact(\"onnx_io_structure.json\", onnx_io)\n",
    "print(onnx_io)"
   ]
  },
  {
   "cell_type": "markdown",
   "id": "2cfa210d",
   "metadata": {
    "papermill": {
     "duration": 0.005282,
     "end_time": "2022-12-06T06:42:58.006032",
     "exception": false,
     "start_time": "2022-12-06T06:42:58.000750",
     "status": "completed"
    },
    "tags": []
   },
   "source": [
    "### Evaluate model performance on evaluation data set"
   ]
  },
  {
   "cell_type": "code",
   "execution_count": 9,
   "id": "538212b1",
   "metadata": {
    "execution": {
     "iopub.execute_input": "2022-12-06T06:42:58.017737Z",
     "iopub.status.busy": "2022-12-06T06:42:58.017440Z",
     "iopub.status.idle": "2022-12-06T06:42:58.023699Z",
     "shell.execute_reply": "2022-12-06T06:42:58.023068Z"
    },
    "papermill": {
     "duration": 0.014888,
     "end_time": "2022-12-06T06:42:58.026406",
     "exception": false,
     "start_time": "2022-12-06T06:42:58.011518",
     "status": "completed"
    },
    "tags": []
   },
   "outputs": [],
   "source": [
    "# load evaluation data\n",
    "X_test = read_numpy(datalake_root(P) / \"test-data\" / \"digits.numpy\")\n",
    "y_test = read_numpy(datalake_root(P) / \"test-data\" / \"labels.numpy\")"
   ]
  },
  {
   "cell_type": "code",
   "execution_count": 10,
   "id": "9539d4ac",
   "metadata": {
    "execution": {
     "iopub.execute_input": "2022-12-06T06:42:58.038298Z",
     "iopub.status.busy": "2022-12-06T06:42:58.038005Z",
     "iopub.status.idle": "2022-12-06T06:42:58.113526Z",
     "shell.execute_reply": "2022-12-06T06:42:58.112159Z"
    },
    "papermill": {
     "duration": 0.083513,
     "end_time": "2022-12-06T06:42:58.115847",
     "exception": false,
     "start_time": "2022-12-06T06:42:58.032334",
     "status": "completed"
    },
    "tags": []
   },
   "outputs": [],
   "source": [
    "def get_model_outputs(X, onnx_inference_session):\n",
    "    y_pred_labels, y_pred_map = onnx_inference_session.run(\n",
    "        [\"output_label\", \"output_probability\"],\n",
    "        {\"float_input_8x8_image\": X.astype(np.float32)},\n",
    "    )\n",
    "    y_pred_probs = np.array(\n",
    "        [[probabilities[digit] for digit in range(10)] for probabilities in y_pred_map]\n",
    "    )\n",
    "\n",
    "    assert y_pred_labels.shape == (X.shape[0],)\n",
    "    assert y_pred_probs.shape == (X.shape[0], 10)\n",
    "\n",
    "    return y_pred_labels, y_pred_probs\n",
    "\n",
    "\n",
    "# Note: as shown in the training notebook, the predicted labels and probabilities\n",
    "# computed below need not be compatible.\n",
    "y_pred_labels_test, y_pred_probs_test = get_model_outputs(\n",
    "    X_test, onnx_inference_session\n",
    ")"
   ]
  },
  {
   "cell_type": "markdown",
   "id": "3cb680ce",
   "metadata": {
    "papermill": {
     "duration": 0.005819,
     "end_time": "2022-12-06T06:42:58.127375",
     "exception": false,
     "start_time": "2022-12-06T06:42:58.121556",
     "status": "completed"
    },
    "tags": []
   },
   "source": [
    "### Confusion matrix"
   ]
  },
  {
   "cell_type": "code",
   "execution_count": 11,
   "id": "985cfb06",
   "metadata": {
    "execution": {
     "iopub.execute_input": "2022-12-06T06:42:58.138947Z",
     "iopub.status.busy": "2022-12-06T06:42:58.138589Z",
     "iopub.status.idle": "2022-12-06T06:42:58.142033Z",
     "shell.execute_reply": "2022-12-06T06:42:58.141297Z"
    },
    "papermill": {
     "duration": 0.012672,
     "end_time": "2022-12-06T06:42:58.145243",
     "exception": false,
     "start_time": "2022-12-06T06:42:58.132571",
     "status": "completed"
    },
    "tags": []
   },
   "outputs": [],
   "source": [
    "# TODO"
   ]
  },
  {
   "cell_type": "markdown",
   "id": "94474e94",
   "metadata": {
    "papermill": {
     "duration": 0.005585,
     "end_time": "2022-12-06T06:42:58.155028",
     "exception": false,
     "start_time": "2022-12-06T06:42:58.149443",
     "status": "completed"
    },
    "tags": []
   },
   "source": [
    "### Plot predicted probabilities for each classifier over all evaluation digit images"
   ]
  },
  {
   "cell_type": "code",
   "execution_count": 12,
   "id": "0df19650",
   "metadata": {
    "execution": {
     "iopub.execute_input": "2022-12-06T06:42:58.166114Z",
     "iopub.status.busy": "2022-12-06T06:42:58.165858Z",
     "iopub.status.idle": "2022-12-06T06:43:02.206567Z",
     "shell.execute_reply": "2022-12-06T06:43:02.205547Z"
    },
    "papermill": {
     "duration": 4.049109,
     "end_time": "2022-12-06T06:43:02.208791",
     "exception": false,
     "start_time": "2022-12-06T06:42:58.159682",
     "status": "completed"
    },
    "tags": []
   },
   "outputs": [
    {
     "data": {
      "image/png": "[encoded data removed]",
      "text/plain": [
       "<Figure size 1600x600 with 10 Axes>"
      ]
     },
     "metadata": {},
     "output_type": "display_data"
    }
   ],
   "source": [
    "def plot_per_digit_probabilities(y_pred_probs):\n",
    "    fig, axs = plt.subplots(nrows=2, ncols=5, figsize=(16, 6))\n",
    "\n",
    "    for (r, c), digit, ax in zip(\n",
    "        it.product(range(2), range(5)), range(10), axs.reshape(-1)\n",
    "    ):\n",
    "        ax.hist(y_pred_probs_test[:, digit], bins=20)\n",
    "\n",
    "        ax.set_title(f\"Digit {digit}\")\n",
    "        if r == 1 and c == 2:\n",
    "            ax.set_xlabel(\"probability\", fontsize=16)\n",
    "\n",
    "        if c == 0:\n",
    "            ax.set_ylabel(\"counts\", fontsize=16)\n",
    "        ax.set_yscale(\"log\")\n",
    "\n",
    "    fig.tight_layout()\n",
    "    fig.suptitle(\n",
    "        f\"Distributions of prediction probabilities for each digit \"\n",
    "        f\"(on evaluation data, n={y_pred_probs.shape[0]})\",\n",
    "        fontsize=20,\n",
    "    )\n",
    "    fig.tight_layout()\n",
    "    fig.show()\n",
    "\n",
    "    return fig\n",
    "\n",
    "\n",
    "fig = plot_per_digit_probabilities(y_pred_probs_test)"
   ]
  },
  {
   "cell_type": "markdown",
   "id": "517dee9a",
   "metadata": {
    "papermill": {
     "duration": 0.006474,
     "end_time": "2022-12-06T06:43:02.221514",
     "exception": false,
     "start_time": "2022-12-06T06:43:02.215040",
     "status": "completed"
    },
    "tags": []
   },
   "source": [
    "From the above distributions we see that most digits have clear separation between\n",
    "high and lower probabilities. Morover, in each case there is roughly an order of\n",
    "magnitude more of digits with low probabilities. This is compatible with digits\n",
    "being roughly evenly distributed in the data."
   ]
  },
  {
   "cell_type": "code",
   "execution_count": 13,
   "id": "de5c1935",
   "metadata": {
    "execution": {
     "iopub.execute_input": "2022-12-06T06:43:02.236807Z",
     "iopub.status.busy": "2022-12-06T06:43:02.235899Z",
     "iopub.status.idle": "2022-12-06T06:43:02.781220Z",
     "shell.execute_reply": "2022-12-06T06:43:02.780488Z"
    },
    "papermill": {
     "duration": 0.555817,
     "end_time": "2022-12-06T06:43:02.784084",
     "exception": false,
     "start_time": "2022-12-06T06:43:02.228267",
     "status": "completed"
    },
    "tags": []
   },
   "outputs": [],
   "source": [
    "logger.log_figure(\"per-digit-probabilities.png\", fig)"
   ]
  },
  {
   "cell_type": "markdown",
   "id": "85913c87",
   "metadata": {
    "papermill": {
     "duration": 0.005925,
     "end_time": "2022-12-06T06:43:02.796021",
     "exception": false,
     "start_time": "2022-12-06T06:43:02.790096",
     "status": "completed"
    },
    "tags": []
   },
   "source": [
    "### Plot ROC curves for individual one-vs-rest classifiers"
   ]
  },
  {
   "cell_type": "code",
   "execution_count": 14,
   "id": "15bef05d",
   "metadata": {
    "execution": {
     "iopub.execute_input": "2022-12-06T06:43:02.812522Z",
     "iopub.status.busy": "2022-12-06T06:43:02.811816Z",
     "iopub.status.idle": "2022-12-06T06:43:03.173557Z",
     "shell.execute_reply": "2022-12-06T06:43:03.172853Z"
    },
    "papermill": {
     "duration": 0.373384,
     "end_time": "2022-12-06T06:43:03.175686",
     "exception": false,
     "start_time": "2022-12-06T06:43:02.802302",
     "status": "completed"
    },
    "tags": []
   },
   "outputs": [],
   "source": [
    "from sklearn import metrics"
   ]
  },
  {
   "cell_type": "code",
   "execution_count": 15,
   "id": "87921266",
   "metadata": {
    "execution": {
     "iopub.execute_input": "2022-12-06T06:43:03.190107Z",
     "iopub.status.busy": "2022-12-06T06:43:03.189795Z",
     "iopub.status.idle": "2022-12-06T06:43:04.699620Z",
     "shell.execute_reply": "2022-12-06T06:43:04.699034Z"
    },
    "papermill": {
     "duration": 1.5196,
     "end_time": "2022-12-06T06:43:04.702063",
     "exception": false,
     "start_time": "2022-12-06T06:43:03.182463",
     "status": "completed"
    },
    "tags": []
   },
   "outputs": [
    {
     "data": {
      "image/png": "[encoded data removed]",
      "text/plain": [
       "<Figure size 1600x800 with 10 Axes>"
      ]
     },
     "metadata": {},
     "output_type": "display_data"
    }
   ],
   "source": [
    "def plot_roc_curves(y, y_pred_probs):\n",
    "    # based on example code\n",
    "    # https://scikit-learn.org/stable/auto_examples/model_selection/plot_roc.html\n",
    "\n",
    "    fig, axs = plt.subplots(nrows=2, ncols=5, figsize=(16, 8))\n",
    "\n",
    "    roc_auc_dict = {}\n",
    "\n",
    "    for (r, c), digit, ax in zip(\n",
    "        it.product(range(2), range(5)), range(10), axs.reshape(-1)\n",
    "    ):\n",
    "        fpr, tpr, _ = metrics.roc_curve(y == digit, y_pred_probs[:, digit])\n",
    "        auc = metrics.auc(fpr, tpr)\n",
    "        roc_auc_dict[str(digit)] = auc\n",
    "\n",
    "        ax.plot(fpr, tpr, label=f\"ROC AUC={round(auc, 3)}\")\n",
    "\n",
    "        ax.set_title(f\"\\nDigit {digit}\", fontsize=16)\n",
    "        if r == 1:\n",
    "            ax.set_xlabel(\"FPR\", fontsize=18)\n",
    "\n",
    "        if c == 0:\n",
    "            ax.set_ylabel(\"TPR\", fontsize=18)\n",
    "\n",
    "        ax.set_xlim([-0.05, 1.05])\n",
    "        ax.set_ylim([-0.05, 1.05])\n",
    "        ax.legend(loc=\"lower right\", frameon=False, fontsize=14)\n",
    "\n",
    "    fig.tight_layout()\n",
    "    fig.suptitle(\n",
    "        f\"ROC plots for one-vs-rest performances \"\n",
    "        f\"(on evaluation data, n={y_pred_probs_test.shape[1]}\",\n",
    "        fontsize=22,\n",
    "    )\n",
    "    fig.tight_layout()\n",
    "    fig.show()\n",
    "\n",
    "    return roc_auc_dict, fig\n",
    "\n",
    "\n",
    "roc_auc_dict, fig = plot_roc_curves(y_test, y_pred_probs_test)"
   ]
  },
  {
   "cell_type": "code",
   "execution_count": 16,
   "id": "2c9d58df",
   "metadata": {
    "execution": {
     "iopub.execute_input": "2022-12-06T06:43:04.719152Z",
     "iopub.status.busy": "2022-12-06T06:43:04.718317Z",
     "iopub.status.idle": "2022-12-06T06:43:05.043606Z",
     "shell.execute_reply": "2022-12-06T06:43:05.042749Z"
    },
    "papermill": {
     "duration": 0.33603,
     "end_time": "2022-12-06T06:43:05.045767",
     "exception": false,
     "start_time": "2022-12-06T06:43:04.709737",
     "status": "completed"
    },
    "tags": []
   },
   "outputs": [],
   "source": [
    "logger.log_figure(\"per-digit-roc-curves.png\", fig)"
   ]
  },
  {
   "cell_type": "code",
   "execution_count": 17,
   "id": "1471df9a",
   "metadata": {
    "execution": {
     "iopub.execute_input": "2022-12-06T06:43:05.064145Z",
     "iopub.status.busy": "2022-12-06T06:43:05.063670Z",
     "iopub.status.idle": "2022-12-06T06:43:05.070383Z",
     "shell.execute_reply": "2022-12-06T06:43:05.069578Z"
    },
    "papermill": {
     "duration": 0.019107,
     "end_time": "2022-12-06T06:43:05.073822",
     "exception": false,
     "start_time": "2022-12-06T06:43:05.054715",
     "status": "completed"
    },
    "tags": []
   },
   "outputs": [
    {
     "data": {
      "text/plain": [
       "{'0': 1.0,\n",
       " '1': 0.9992502343017807,\n",
       " '2': 1.0,\n",
       " '3': 0.9998125585754452,\n",
       " '4': 0.9991236092059138,\n",
       " '5': 0.9988753514526711,\n",
       " '6': 0.999923792104862,\n",
       " '7': 0.9998475842097241,\n",
       " '8': 0.9946011979823455,\n",
       " '9': 0.998742569730224}"
      ]
     },
     "execution_count": 17,
     "metadata": {},
     "output_type": "execute_result"
    }
   ],
   "source": [
    "roc_auc_dict"
   ]
  },
  {
   "cell_type": "code",
   "execution_count": 18,
   "id": "ddd3e110",
   "metadata": {
    "execution": {
     "iopub.execute_input": "2022-12-06T06:43:05.094539Z",
     "iopub.status.busy": "2022-12-06T06:43:05.094121Z",
     "iopub.status.idle": "2022-12-06T06:43:05.099254Z",
     "shell.execute_reply": "2022-12-06T06:43:05.098274Z"
    },
    "papermill": {
     "duration": 0.021667,
     "end_time": "2022-12-06T06:43:05.103080",
     "exception": false,
     "start_time": "2022-12-06T06:43:05.081413",
     "status": "completed"
    },
    "tags": []
   },
   "outputs": [
    {
     "name": "stdout",
     "output_type": "stream",
     "text": [
      " - Logging roc_auc_per_digit (json) : {'0': 1.0, '1': 0.9992502343017807, '2': 1.0, '3': 0.9998125585754452, '4': 0.9991236092059138, '5': 0.9988753514526711, '6': 0.999923792104862, '7': 0.9998475842097241, '8': 0.9946011979823455, '9': 0.998742569730224}\n"
     ]
    }
   ],
   "source": [
    "logger.log_value(\"roc_auc_per_digit\", roc_auc_dict)"
   ]
  },
  {
   "cell_type": "markdown",
   "id": "92c5b4c6",
   "metadata": {
    "papermill": {
     "duration": 0.007306,
     "end_time": "2022-12-06T06:43:05.118798",
     "exception": false,
     "start_time": "2022-12-06T06:43:05.111492",
     "status": "completed"
    },
    "tags": []
   },
   "source": [
    "### Compute and log mean ROC AUC score averaged over all digits"
   ]
  },
  {
   "cell_type": "code",
   "execution_count": 19,
   "id": "b876ed8a",
   "metadata": {
    "execution": {
     "iopub.execute_input": "2022-12-06T06:43:05.136648Z",
     "iopub.status.busy": "2022-12-06T06:43:05.136250Z",
     "iopub.status.idle": "2022-12-06T06:43:05.153281Z",
     "shell.execute_reply": "2022-12-06T06:43:05.152553Z"
    },
    "papermill": {
     "duration": 0.02862,
     "end_time": "2022-12-06T06:43:05.155387",
     "exception": false,
     "start_time": "2022-12-06T06:43:05.126767",
     "status": "completed"
    },
    "tags": []
   },
   "outputs": [
    {
     "name": "stdout",
     "output_type": "stream",
     "text": [
      " - Logging roc_auc_class_mean (float) : 0.9990176897562966\n"
     ]
    }
   ],
   "source": [
    "roc_auc_macro = np.mean(list(roc_auc_dict.values()))\n",
    "\n",
    "logger.log_float(\"roc_auc_class_mean\", roc_auc_macro)\n",
    "\n",
    "# assert that the same value can be computed directly using sklearn\n",
    "assert roc_auc_macro == metrics.roc_auc_score(\n",
    "    y_test, y_pred_probs_test, average=\"macro\", multi_class=\"ovr\"\n",
    ")"
   ]
  },
  {
   "cell_type": "code",
   "execution_count": 20,
   "id": "f516eb76",
   "metadata": {
    "execution": {
     "iopub.execute_input": "2022-12-06T06:43:05.173460Z",
     "iopub.status.busy": "2022-12-06T06:43:05.172933Z",
     "iopub.status.idle": "2022-12-06T06:43:05.176600Z",
     "shell.execute_reply": "2022-12-06T06:43:05.175841Z"
    },
    "lines_to_next_cell": 0,
    "papermill": {
     "duration": 0.015008,
     "end_time": "2022-12-06T06:43:05.178640",
     "exception": false,
     "start_time": "2022-12-06T06:43:05.163632",
     "status": "completed"
    },
    "tags": []
   },
   "outputs": [],
   "source": [
    "# ---"
   ]
  },
  {
   "cell_type": "code",
   "execution_count": null,
   "id": "722a7342",
   "metadata": {
    "papermill": {
     "duration": 0.014641,
     "end_time": "2022-12-06T06:43:05.201160",
     "exception": false,
     "start_time": "2022-12-06T06:43:05.186519",
     "status": "completed"
    },
    "tags": []
   },
   "outputs": [],
   "source": []
  }
 ],
 "metadata": {
  "jupytext": {
   "cell_metadata_filter": "tags,-all",
   "main_language": "python",
   "notebook_metadata_filter": "-all"
  },
  "language_info": {
   "codemirror_mode": {
    "name": "ipython",
    "version": 3
   },
   "file_extension": ".py",
   "mimetype": "text/x-python",
   "name": "python",
   "nbconvert_exporter": "python",
   "pygments_lexer": "ipython3",
   "version": "3.8.10"
  },
  "papermill": {
   "default_parameters": {},
   "duration": 11.387678,
   "end_time": "2022-12-06T06:43:06.431031",
   "environment_variables": {},
   "exception": null,
   "input_path": "/home/host_user/workspace/mnist-demo-pipeline/mnist-demo-pipeline/notebooks/temp-notebook-jx_7q5u5.ipynb",
   "output_path": "notebooks/benchmark-model.ipynb",
   "parameters": {
    "P": {
     "_opentelemetry_traceparent": "00-fc58cfcfae3a12f61dcf247fa53287f2-96e6976cb0ba9981-01",
     "pipeline.data_lake_root": "/pipeline-outputs/data-lake",
     "pipeline.github.actor": "matiasdahl",
     "pipeline.github.base_ref": "",
     "pipeline.github.event_name": "schedule",
     "pipeline.github.head_ref": "",
     "pipeline.github.job": "run-tests-pipeline-and-persist-pipeline-outputs",
     "pipeline.github.ref": "refs/heads/development",
     "pipeline.github.ref_name": "development",
     "pipeline.github.ref_type": "branch",
     "pipeline.github.repository": "matiasdahl/dev-mnist-digits-demo-pipeline",
     "pipeline.github.run_id": "3627132107",
     "pipeline.github.runner_name": "Hosted Agent",
     "pipeline.github.sha": "ace0d01011d5e914f1921450dd5a59c11367b38d",
     "pipeline.github.workflow": "Run automated tests, pipeline and deploy results to static reporting site",
     "pipeline.pipeline_run_id": "bf2e3d2c-c43f-41c7-942f-3f58890d3649",
     "pipeline.run_environment": "ci",
     "run.retry_nr": "0",
     "task.max_nr_retries": "1",
     "task.notebook": "notebooks/benchmark-model.py",
     "task.nr_train_images": 600,
     "task.num_cpus": 1,
     "task.timeout_s": "None"
    }
   },
   "start_time": "2022-12-06T06:42:55.043353",
   "version": "2.3.3"
  }
 },
 "nbformat": 4,
 "nbformat_minor": 5
}