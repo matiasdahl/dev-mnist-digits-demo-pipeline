{
 "cells": [
  {
   "cell_type": "markdown",
   "id": "1e2b57da",
   "metadata": {
    "papermill": {
     "duration": 0.004512,
     "end_time": "2022-12-06T06:42:29.802301",
     "exception": false,
     "start_time": "2022-12-06T06:42:29.797789",
     "status": "completed"
    },
    "tags": []
   },
   "source": [
    "# Ingest toy version of MNIST digit data from sklearn"
   ]
  },
  {
   "cell_type": "markdown",
   "id": "86000c07",
   "metadata": {
    "papermill": {
     "duration": 0.002499,
     "end_time": "2022-12-06T06:42:29.808138",
     "exception": false,
     "start_time": "2022-12-06T06:42:29.805639",
     "status": "completed"
    },
    "tags": []
   },
   "source": [
    "### Determine run parameters"
   ]
  },
  {
   "cell_type": "code",
   "execution_count": 1,
   "id": "2cd67b15",
   "metadata": {
    "execution": {
     "iopub.execute_input": "2022-12-06T06:42:29.815968Z",
     "iopub.status.busy": "2022-12-06T06:42:29.815043Z",
     "iopub.status.idle": "2022-12-06T06:42:29.824629Z",
     "shell.execute_reply": "2022-12-06T06:42:29.823569Z"
    },
    "lines_to_next_cell": 0,
    "papermill": {
     "duration": 0.015519,
     "end_time": "2022-12-06T06:42:29.826564",
     "exception": false,
     "start_time": "2022-12-06T06:42:29.811045",
     "status": "completed"
    },
    "tags": []
   },
   "outputs": [],
   "source": [
    "# ----------------- Parameters for interactive development --------------\n",
    "P = {\n",
    "    \"pipeline.run_environment\": \"dev\",\n",
    "    \"pipeline.data_lake_root\": \"/pipeline-outputs/data-lake\",\n",
    "    \"run.retry_nr\": \"1\",\n",
    "}"
   ]
  },
  {
   "cell_type": "code",
   "execution_count": 2,
   "id": "6e8426df",
   "metadata": {
    "execution": {
     "iopub.execute_input": "2022-12-06T06:42:29.834085Z",
     "iopub.status.busy": "2022-12-06T06:42:29.833597Z",
     "iopub.status.idle": "2022-12-06T06:42:29.837281Z",
     "shell.execute_reply": "2022-12-06T06:42:29.836529Z"
    },
    "lines_to_next_cell": 0,
    "papermill": {
     "duration": 0.009393,
     "end_time": "2022-12-06T06:42:29.838994",
     "exception": false,
     "start_time": "2022-12-06T06:42:29.829601",
     "status": "completed"
    },
    "tags": [
     "parameters"
    ]
   },
   "outputs": [],
   "source": [
    "# - During automated runs parameters will be injected in the below cell -"
   ]
  },
  {
   "cell_type": "code",
   "execution_count": 3,
   "id": "86382002",
   "metadata": {
    "execution": {
     "iopub.execute_input": "2022-12-06T06:42:29.846022Z",
     "iopub.status.busy": "2022-12-06T06:42:29.845425Z",
     "iopub.status.idle": "2022-12-06T06:42:29.850426Z",
     "shell.execute_reply": "2022-12-06T06:42:29.849843Z"
    },
    "papermill": {
     "duration": 0.01031,
     "end_time": "2022-12-06T06:42:29.852325",
     "exception": false,
     "start_time": "2022-12-06T06:42:29.842015",
     "status": "completed"
    },
    "tags": [
     "injected-parameters"
    ]
   },
   "outputs": [],
   "source": [
    "# Parameters\n",
    "P = {\n",
    "    \"pipeline.data_lake_root\": \"/pipeline-outputs/data-lake\",\n",
    "    \"pipeline.run_environment\": \"ci\",\n",
    "    \"pipeline.pipeline_run_id\": \"bf2e3d2c-c43f-41c7-942f-3f58890d3649\",\n",
    "    \"pipeline.github.repository\": \"matiasdahl/dev-mnist-digits-demo-pipeline\",\n",
    "    \"pipeline.github.workflow\": \"Run automated tests, pipeline and deploy results to static reporting site\",\n",
    "    \"pipeline.github.runner_name\": \"Hosted Agent\",\n",
    "    \"pipeline.github.run_id\": \"3627132107\",\n",
    "    \"pipeline.github.actor\": \"matiasdahl\",\n",
    "    \"pipeline.github.job\": \"run-tests-pipeline-and-persist-pipeline-outputs\",\n",
    "    \"pipeline.github.base_ref\": \"\",\n",
    "    \"pipeline.github.head_ref\": \"\",\n",
    "    \"pipeline.github.sha\": \"ace0d01011d5e914f1921450dd5a59c11367b38d\",\n",
    "    \"pipeline.github.ref\": \"refs/heads/development\",\n",
    "    \"pipeline.github.ref_type\": \"branch\",\n",
    "    \"pipeline.github.ref_name\": \"development\",\n",
    "    \"pipeline.github.event_name\": \"schedule\",\n",
    "    \"task.notebook\": \"notebooks/ingest.py\",\n",
    "    \"task.max_nr_retries\": \"15\",\n",
    "    \"run.retry_nr\": \"10\",\n",
    "    \"task.timeout_s\": \"10\",\n",
    "    \"task.num_cpus\": 1,\n",
    "    \"_opentelemetry_traceparent\": \"00-fc58cfcfae3a12f61dcf247fa53287f2-775590a026c01560-01\",\n",
    "}\n"
   ]
  },
  {
   "cell_type": "code",
   "execution_count": 4,
   "id": "14fcb048",
   "metadata": {
    "execution": {
     "iopub.execute_input": "2022-12-06T06:42:29.858972Z",
     "iopub.status.busy": "2022-12-06T06:42:29.858497Z",
     "iopub.status.idle": "2022-12-06T06:42:29.862185Z",
     "shell.execute_reply": "2022-12-06T06:42:29.861468Z"
    },
    "lines_to_next_cell": 0,
    "papermill": {
     "duration": 0.008835,
     "end_time": "2022-12-06T06:42:29.863889",
     "exception": false,
     "start_time": "2022-12-06T06:42:29.855054",
     "status": "completed"
    },
    "tags": []
   },
   "outputs": [],
   "source": [
    "# -----------------------------------------------------------------------"
   ]
  },
  {
   "cell_type": "markdown",
   "id": "5a37b12a",
   "metadata": {
    "lines_to_next_cell": 2,
    "papermill": {
     "duration": 0.00303,
     "end_time": "2022-12-06T06:42:29.869626",
     "exception": false,
     "start_time": "2022-12-06T06:42:29.866596",
     "status": "completed"
    },
    "tags": []
   },
   "source": [
    "---"
   ]
  },
  {
   "cell_type": "markdown",
   "id": "339afa37",
   "metadata": {
    "papermill": {
     "duration": 0.00284,
     "end_time": "2022-12-06T06:42:29.875285",
     "exception": false,
     "start_time": "2022-12-06T06:42:29.872445",
     "status": "completed"
    },
    "tags": []
   },
   "source": [
    "### Simulate different types of failures (for testing timeout and retry logic)"
   ]
  },
  {
   "cell_type": "code",
   "execution_count": 5,
   "id": "f2ec7b75",
   "metadata": {
    "execution": {
     "iopub.execute_input": "2022-12-06T06:42:29.882896Z",
     "iopub.status.busy": "2022-12-06T06:42:29.882293Z",
     "iopub.status.idle": "2022-12-06T06:42:30.374261Z",
     "shell.execute_reply": "2022-12-06T06:42:30.373552Z"
    },
    "papermill": {
     "duration": 0.498626,
     "end_time": "2022-12-06T06:42:30.376664",
     "exception": false,
     "start_time": "2022-12-06T06:42:29.878038",
     "status": "completed"
    },
    "tags": []
   },
   "outputs": [
    {
     "name": "stderr",
     "output_type": "stream",
     "text": [
      "2022-12-06 06:42:30,218\tINFO worker.py:842 -- Connecting to existing Ray cluster at address: 172.17.0.2:6379\n"
     ]
    }
   ],
   "source": [
    "from pynb_dag_runner.tasks.task_opentelemetry_logging import PydarLogger\n",
    "\n",
    "logger = PydarLogger(P)"
   ]
  },
  {
   "cell_type": "code",
   "execution_count": 6,
   "id": "af404079",
   "metadata": {
    "execution": {
     "iopub.execute_input": "2022-12-06T06:42:30.384645Z",
     "iopub.status.busy": "2022-12-06T06:42:30.383805Z",
     "iopub.status.idle": "2022-12-06T06:42:30.389766Z",
     "shell.execute_reply": "2022-12-06T06:42:30.389067Z"
    },
    "papermill": {
     "duration": 0.011722,
     "end_time": "2022-12-06T06:42:30.391667",
     "exception": false,
     "start_time": "2022-12-06T06:42:30.379945",
     "status": "completed"
    },
    "tags": []
   },
   "outputs": [],
   "source": [
    "import time, random\n",
    "\n",
    "\n",
    "def maybe_crash(retry_nr: int, run_environment: str):\n",
    "    if retry_nr == 2 and run_environment == \"ci\":\n",
    "        time.sleep(1e6)\n",
    "\n",
    "    max_retry_nr: int = 3 if run_environment == \"dev\" else 10\n",
    "\n",
    "    if retry_nr < max_retry_nr:\n",
    "        if random.random() < 0.1:\n",
    "            time.sleep(1e6)\n",
    "        else:\n",
    "            raise Exception(\"Simulated exception failure from ingestion step notebook!\")\n",
    "\n",
    "\n",
    "maybe_crash(\n",
    "    retry_nr=int(P[\"run.retry_nr\"]), run_environment=P[\"pipeline.run_environment\"]\n",
    ")"
   ]
  },
  {
   "cell_type": "markdown",
   "id": "6f4c363f",
   "metadata": {
    "lines_to_next_cell": 2,
    "papermill": {
     "duration": 0.002492,
     "end_time": "2022-12-06T06:42:30.396949",
     "exception": false,
     "start_time": "2022-12-06T06:42:30.394457",
     "status": "completed"
    },
    "tags": []
   },
   "source": [
    "### Notebook code"
   ]
  },
  {
   "cell_type": "code",
   "execution_count": 7,
   "id": "092d1e48",
   "metadata": {
    "execution": {
     "iopub.execute_input": "2022-12-06T06:42:30.404345Z",
     "iopub.status.busy": "2022-12-06T06:42:30.403700Z",
     "iopub.status.idle": "2022-12-06T06:42:31.958600Z",
     "shell.execute_reply": "2022-12-06T06:42:31.957576Z"
    },
    "papermill": {
     "duration": 1.560904,
     "end_time": "2022-12-06T06:42:31.960704",
     "exception": false,
     "start_time": "2022-12-06T06:42:30.399800",
     "status": "completed"
    },
    "tags": []
   },
   "outputs": [],
   "source": [
    "from sklearn import datasets\n",
    "\n",
    "#\n",
    "from common.io import datalake_root, write_numpy"
   ]
  },
  {
   "cell_type": "code",
   "execution_count": 8,
   "id": "0e60762b",
   "metadata": {
    "execution": {
     "iopub.execute_input": "2022-12-06T06:42:31.969904Z",
     "iopub.status.busy": "2022-12-06T06:42:31.968993Z",
     "iopub.status.idle": "2022-12-06T06:42:31.988365Z",
     "shell.execute_reply": "2022-12-06T06:42:31.987628Z"
    },
    "lines_to_next_cell": 2,
    "papermill": {
     "duration": 0.02647,
     "end_time": "2022-12-06T06:42:31.990635",
     "exception": false,
     "start_time": "2022-12-06T06:42:31.964165",
     "status": "completed"
    },
    "tags": []
   },
   "outputs": [],
   "source": [
    "digits = datasets.load_digits()\n",
    "\n",
    "X = digits[\"data\"]\n",
    "y = digits[\"target\"]"
   ]
  },
  {
   "cell_type": "code",
   "execution_count": 9,
   "id": "f455e515",
   "metadata": {
    "execution": {
     "iopub.execute_input": "2022-12-06T06:42:31.999172Z",
     "iopub.status.busy": "2022-12-06T06:42:31.998291Z",
     "iopub.status.idle": "2022-12-06T06:42:32.017618Z",
     "shell.execute_reply": "2022-12-06T06:42:32.016104Z"
    },
    "papermill": {
     "duration": 0.026062,
     "end_time": "2022-12-06T06:42:32.019727",
     "exception": false,
     "start_time": "2022-12-06T06:42:31.993665",
     "status": "completed"
    },
    "tags": []
   },
   "outputs": [
    {
     "name": "stdout",
     "output_type": "stream",
     "text": [
      " - Logging data_shape (json) : [1797, 64]\n",
      " - Logging target_shape (json) : [1797]\n"
     ]
    },
    {
     "data": {
      "text/plain": [
       "((1797, 64), (1797,))"
      ]
     },
     "execution_count": 9,
     "metadata": {},
     "output_type": "execute_result"
    }
   ],
   "source": [
    "logger.log_value(\"data_shape\", list(X.shape))\n",
    "logger.log_value(\"target_shape\", list(y.shape))\n",
    "\n",
    "X.shape, y.shape"
   ]
  },
  {
   "cell_type": "code",
   "execution_count": 10,
   "id": "9dd3266e",
   "metadata": {
    "execution": {
     "iopub.execute_input": "2022-12-06T06:42:32.031720Z",
     "iopub.status.busy": "2022-12-06T06:42:32.031097Z",
     "iopub.status.idle": "2022-12-06T06:42:32.043543Z",
     "shell.execute_reply": "2022-12-06T06:42:32.042751Z"
    },
    "papermill": {
     "duration": 0.019221,
     "end_time": "2022-12-06T06:42:32.045694",
     "exception": false,
     "start_time": "2022-12-06T06:42:32.026473",
     "status": "completed"
    },
    "tags": []
   },
   "outputs": [],
   "source": [
    "write_numpy(datalake_root(P) / \"raw\" / \"digits.numpy\", X)\n",
    "write_numpy(datalake_root(P) / \"raw\" / \"labels.numpy\", y)"
   ]
  },
  {
   "cell_type": "code",
   "execution_count": null,
   "id": "7cd1e9b5",
   "metadata": {
    "papermill": {
     "duration": 0.003552,
     "end_time": "2022-12-06T06:42:32.052771",
     "exception": false,
     "start_time": "2022-12-06T06:42:32.049219",
     "status": "completed"
    },
    "tags": []
   },
   "outputs": [],
   "source": []
  }
 ],
 "metadata": {
  "jupytext": {
   "cell_metadata_filter": "tags,-all",
   "main_language": "python",
   "notebook_metadata_filter": "-all"
  },
  "language_info": {
   "codemirror_mode": {
    "name": "ipython",
    "version": 3
   },
   "file_extension": ".py",
   "mimetype": "text/x-python",
   "name": "python",
   "nbconvert_exporter": "python",
   "pygments_lexer": "ipython3",
   "version": "3.8.10"
  },
  "papermill": {
   "default_parameters": {},
   "duration": 4.486661,
   "end_time": "2022-12-06T06:42:32.979955",
   "environment_variables": {},
   "exception": null,
   "input_path": "/home/host_user/workspace/mnist-demo-pipeline/mnist-demo-pipeline/notebooks/temp-notebook-29rmnkrz.ipynb",
   "output_path": "notebooks/ingest.ipynb",
   "parameters": {
    "P": {
     "_opentelemetry_traceparent": "00-fc58cfcfae3a12f61dcf247fa53287f2-775590a026c01560-01",
     "pipeline.data_lake_root": "/pipeline-outputs/data-lake",
     "pipeline.github.actor": "matiasdahl",
     "pipeline.github.base_ref": "",
     "pipeline.github.event_name": "schedule",
     "pipeline.github.head_ref": "",
     "pipeline.github.job": "run-tests-pipeline-and-persist-pipeline-outputs",
     "pipeline.github.ref": "refs/heads/development",
     "pipeline.github.ref_name": "development",
     "pipeline.github.ref_type": "branch",
     "pipeline.github.repository": "matiasdahl/dev-mnist-digits-demo-pipeline",
     "pipeline.github.run_id": "3627132107",
     "pipeline.github.runner_name": "Hosted Agent",
     "pipeline.github.sha": "ace0d01011d5e914f1921450dd5a59c11367b38d",
     "pipeline.github.workflow": "Run automated tests, pipeline and deploy results to static reporting site",
     "pipeline.pipeline_run_id": "bf2e3d2c-c43f-41c7-942f-3f58890d3649",
     "pipeline.run_environment": "ci",
     "run.retry_nr": "10",
     "task.max_nr_retries": "15",
     "task.notebook": "notebooks/ingest.py",
     "task.num_cpus": 1,
     "task.timeout_s": "10"
    }
   },
   "start_time": "2022-12-06T06:42:28.493294",
   "version": "2.3.3"
  }
 },
 "nbformat": 4,
 "nbformat_minor": 5
}