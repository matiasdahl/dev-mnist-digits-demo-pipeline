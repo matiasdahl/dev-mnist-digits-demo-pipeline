{
 "cells": [
  {
   "cell_type": "markdown",
   "id": "f2de1c3d",
   "metadata": {
    "papermill": {
     "duration": 0.005493,
     "end_time": "2022-12-11T06:41:02.041695",
     "exception": false,
     "start_time": "2022-12-11T06:41:02.036202",
     "status": "completed"
    },
    "tags": []
   },
   "source": [
    "# Benchmark model\n",
    "\n",
    "The purpose of this notebook is to benchmark persisted onnx-model (trained in the\n",
    "previous step) against evaluation set."
   ]
  },
  {
   "cell_type": "markdown",
   "id": "24aeb242",
   "metadata": {
    "papermill": {
     "duration": 0.005608,
     "end_time": "2022-12-11T06:41:02.051908",
     "exception": false,
     "start_time": "2022-12-11T06:41:02.046300",
     "status": "completed"
    },
    "tags": []
   },
   "source": [
    "### Determine run parameters"
   ]
  },
  {
   "cell_type": "code",
   "execution_count": 1,
   "id": "9aadeb36",
   "metadata": {
    "execution": {
     "iopub.execute_input": "2022-12-11T06:41:02.061653Z",
     "iopub.status.busy": "2022-12-11T06:41:02.061363Z",
     "iopub.status.idle": "2022-12-11T06:41:02.070952Z",
     "shell.execute_reply": "2022-12-11T06:41:02.070015Z"
    },
    "lines_to_next_cell": 0,
    "papermill": {
     "duration": 0.017834,
     "end_time": "2022-12-11T06:41:02.073917",
     "exception": false,
     "start_time": "2022-12-11T06:41:02.056083",
     "status": "completed"
    },
    "tags": []
   },
   "outputs": [],
   "source": [
    "# ----------------- Parameters for interactive development --------------\n",
    "P = {\n",
    "    \"pipeline.data_lake_root\": \"/pipeline-outputs/data-lake\",\n",
    "    \"task.nr_train_images\": 600,\n",
    "}"
   ]
  },
  {
   "cell_type": "code",
   "execution_count": 2,
   "id": "6939e153",
   "metadata": {
    "execution": {
     "iopub.execute_input": "2022-12-11T06:41:02.083818Z",
     "iopub.status.busy": "2022-12-11T06:41:02.083564Z",
     "iopub.status.idle": "2022-12-11T06:41:02.086866Z",
     "shell.execute_reply": "2022-12-11T06:41:02.086252Z"
    },
    "lines_to_next_cell": 0,
    "papermill": {
     "duration": 0.01101,
     "end_time": "2022-12-11T06:41:02.089357",
     "exception": false,
     "start_time": "2022-12-11T06:41:02.078347",
     "status": "completed"
    },
    "tags": [
     "parameters"
    ]
   },
   "outputs": [],
   "source": [
    "# - During automated runs parameters will be injected in the below cell -"
   ]
  },
  {
   "cell_type": "code",
   "execution_count": 3,
   "id": "57832e7f",
   "metadata": {
    "execution": {
     "iopub.execute_input": "2022-12-11T06:41:02.099151Z",
     "iopub.status.busy": "2022-12-11T06:41:02.098941Z",
     "iopub.status.idle": "2022-12-11T06:41:02.103814Z",
     "shell.execute_reply": "2022-12-11T06:41:02.103292Z"
    },
    "papermill": {
     "duration": 0.012714,
     "end_time": "2022-12-11T06:41:02.106506",
     "exception": false,
     "start_time": "2022-12-11T06:41:02.093792",
     "status": "completed"
    },
    "tags": [
     "injected-parameters"
    ]
   },
   "outputs": [],
   "source": [
    "# Parameters\n",
    "P = {\n",
    "    \"pipeline.data_lake_root\": \"/pipeline-outputs/data-lake\",\n",
    "    \"pipeline.run_environment\": \"ci\",\n",
    "    \"pipeline.pipeline_run_id\": \"b3ff047b-f05b-4270-8ac0-9227d96a1a35\",\n",
    "    \"pipeline.github.repository\": \"matiasdahl/dev-mnist-digits-demo-pipeline\",\n",
    "    \"pipeline.github.workflow\": \"Run automated tests, pipeline and deploy results to static reporting site\",\n",
    "    \"pipeline.github.runner_name\": \"Hosted Agent\",\n",
    "    \"pipeline.github.run_id\": \"3667777653\",\n",
    "    \"pipeline.github.actor\": \"matiasdahl\",\n",
    "    \"pipeline.github.job\": \"run-tests-pipeline-and-persist-pipeline-outputs\",\n",
    "    \"pipeline.github.base_ref\": \"\",\n",
    "    \"pipeline.github.head_ref\": \"\",\n",
    "    \"pipeline.github.sha\": \"ace0d01011d5e914f1921450dd5a59c11367b38d\",\n",
    "    \"pipeline.github.ref\": \"refs/heads/development\",\n",
    "    \"pipeline.github.ref_type\": \"branch\",\n",
    "    \"pipeline.github.ref_name\": \"development\",\n",
    "    \"pipeline.github.event_name\": \"schedule\",\n",
    "    \"task.nr_train_images\": 800,\n",
    "    \"task.notebook\": \"notebooks/benchmark-model.py\",\n",
    "    \"task.max_nr_retries\": \"1\",\n",
    "    \"run.retry_nr\": \"0\",\n",
    "    \"task.timeout_s\": \"None\",\n",
    "    \"task.num_cpus\": 1,\n",
    "    \"_opentelemetry_traceparent\": \"00-9dd51a17dc70753ce85eae75616a86fd-97cd19427e8227eb-01\",\n",
    "}\n"
   ]
  },
  {
   "cell_type": "code",
   "execution_count": 4,
   "id": "6696027e",
   "metadata": {
    "execution": {
     "iopub.execute_input": "2022-12-11T06:41:02.115355Z",
     "iopub.status.busy": "2022-12-11T06:41:02.115151Z",
     "iopub.status.idle": "2022-12-11T06:41:02.118134Z",
     "shell.execute_reply": "2022-12-11T06:41:02.117608Z"
    },
    "lines_to_next_cell": 0,
    "papermill": {
     "duration": 0.010214,
     "end_time": "2022-12-11T06:41:02.120367",
     "exception": false,
     "start_time": "2022-12-11T06:41:02.110153",
     "status": "completed"
    },
    "tags": []
   },
   "outputs": [],
   "source": [
    "# -----------------------------------------------------------------------"
   ]
  },
  {
   "cell_type": "markdown",
   "id": "fff7874c",
   "metadata": {
    "papermill": {
     "duration": 0.004443,
     "end_time": "2022-12-11T06:41:02.129712",
     "exception": false,
     "start_time": "2022-12-11T06:41:02.125269",
     "status": "completed"
    },
    "tags": []
   },
   "source": [
    "---"
   ]
  },
  {
   "cell_type": "markdown",
   "id": "7dbe2bcf",
   "metadata": {
    "lines_to_next_cell": 2,
    "papermill": {
     "duration": 0.004339,
     "end_time": "2022-12-11T06:41:02.138574",
     "exception": false,
     "start_time": "2022-12-11T06:41:02.134235",
     "status": "completed"
    },
    "tags": []
   },
   "source": [
    "### Notebook code"
   ]
  },
  {
   "cell_type": "code",
   "execution_count": 5,
   "id": "4ecdb96a",
   "metadata": {
    "execution": {
     "iopub.execute_input": "2022-12-11T06:41:02.148137Z",
     "iopub.status.busy": "2022-12-11T06:41:02.147910Z",
     "iopub.status.idle": "2022-12-11T06:41:03.366326Z",
     "shell.execute_reply": "2022-12-11T06:41:03.365674Z"
    },
    "papermill": {
     "duration": 1.225355,
     "end_time": "2022-12-11T06:41:03.368270",
     "exception": false,
     "start_time": "2022-12-11T06:41:02.142915",
     "status": "completed"
    },
    "tags": []
   },
   "outputs": [
    {
     "name": "stderr",
     "output_type": "stream",
     "text": [
      "2022-12-11 06:41:03,136\tINFO worker.py:842 -- Connecting to existing Ray cluster at address: 172.17.0.2:6379\n"
     ]
    }
   ],
   "source": [
    "import itertools as it\n",
    "\n",
    "#\n",
    "import numpy as np\n",
    "import matplotlib.pyplot as plt\n",
    "\n",
    "#\n",
    "from pynb_dag_runner.tasks.task_opentelemetry_logging import PydarLogger\n",
    "\n",
    "#\n",
    "from common.io import datalake_root\n",
    "\n",
    "logger = PydarLogger(P)"
   ]
  },
  {
   "cell_type": "markdown",
   "id": "ba11ffb1",
   "metadata": {
    "papermill": {
     "duration": 0.00443,
     "end_time": "2022-12-11T06:41:03.377656",
     "exception": false,
     "start_time": "2022-12-11T06:41:03.373226",
     "status": "completed"
    },
    "tags": []
   },
   "source": [
    "## Load persisted onnx-model and evaluation data"
   ]
  },
  {
   "cell_type": "code",
   "execution_count": 6,
   "id": "48093836",
   "metadata": {
    "execution": {
     "iopub.execute_input": "2022-12-11T06:41:03.387437Z",
     "iopub.status.busy": "2022-12-11T06:41:03.387122Z",
     "iopub.status.idle": "2022-12-11T06:41:03.390337Z",
     "shell.execute_reply": "2022-12-11T06:41:03.389787Z"
    },
    "papermill": {
     "duration": 0.011161,
     "end_time": "2022-12-11T06:41:03.392668",
     "exception": false,
     "start_time": "2022-12-11T06:41:03.381507",
     "status": "completed"
    },
    "tags": []
   },
   "outputs": [],
   "source": [
    "from common.io import read_onnx, get_onnx_inputs, get_onnx_outputs, read_numpy"
   ]
  },
  {
   "cell_type": "code",
   "execution_count": 7,
   "id": "05ae1999",
   "metadata": {
    "execution": {
     "iopub.execute_input": "2022-12-11T06:41:03.407317Z",
     "iopub.status.busy": "2022-12-11T06:41:03.407104Z",
     "iopub.status.idle": "2022-12-11T06:41:03.422600Z",
     "shell.execute_reply": "2022-12-11T06:41:03.421939Z"
    },
    "lines_to_next_cell": 0,
    "papermill": {
     "duration": 0.023331,
     "end_time": "2022-12-11T06:41:03.424306",
     "exception": false,
     "start_time": "2022-12-11T06:41:03.400975",
     "status": "completed"
    },
    "tags": []
   },
   "outputs": [],
   "source": [
    "onnx_inference_session = read_onnx(\n",
    "    datalake_root(P)\n",
    "    / \"models\"\n",
    "    / f\"nr_train_images={P['task.nr_train_images']}\"\n",
    "    / \"model.onnx\"\n",
    ")"
   ]
  },
  {
   "cell_type": "markdown",
   "id": "7e92d022",
   "metadata": {
    "papermill": {
     "duration": 0.003984,
     "end_time": "2022-12-11T06:41:03.432918",
     "exception": false,
     "start_time": "2022-12-11T06:41:03.428934",
     "status": "completed"
    },
    "tags": []
   },
   "source": [
    "### Record structure of inputs and outputs for ONNX model\n",
    "\n",
    "(this should likely be done in training notebook)"
   ]
  },
  {
   "cell_type": "code",
   "execution_count": 8,
   "id": "2b258bb0",
   "metadata": {
    "execution": {
     "iopub.execute_input": "2022-12-11T06:41:03.442820Z",
     "iopub.status.busy": "2022-12-11T06:41:03.442322Z",
     "iopub.status.idle": "2022-12-11T06:41:03.448260Z",
     "shell.execute_reply": "2022-12-11T06:41:03.447762Z"
    },
    "papermill": {
     "duration": 0.012015,
     "end_time": "2022-12-11T06:41:03.449589",
     "exception": false,
     "start_time": "2022-12-11T06:41:03.437574",
     "status": "completed"
    },
    "tags": []
   },
   "outputs": [
    {
     "name": "stdout",
     "output_type": "stream",
     "text": [
      "{\n",
      "  \"inputs\": [\n",
      "    {\n",
      "      \"name\": \"float_input_8x8_image\",\n",
      "      \"shape\": [\n",
      "        null,\n",
      "        64\n",
      "      ],\n",
      "      \"type\": \"tensor(float)\"\n",
      "    }\n",
      "  ],\n",
      "  \"outputs\": [\n",
      "    {\n",
      "      \"name\": \"output_label\",\n",
      "      \"shape\": [\n",
      "        null\n",
      "      ],\n",
      "      \"type\": \"tensor(int64)\"\n",
      "    },\n",
      "    {\n",
      "      \"name\": \"output_probability\",\n",
      "      \"shape\": [],\n",
      "      \"type\": \"seq(map(int64,tensor(float)))\"\n",
      "    }\n",
      "  ]\n",
      "}\n"
     ]
    }
   ],
   "source": [
    "import json\n",
    "\n",
    "onnx_io = json.dumps(\n",
    "    {\n",
    "        \"inputs\": get_onnx_inputs(onnx_inference_session),\n",
    "        \"outputs\": get_onnx_outputs(onnx_inference_session),\n",
    "    },\n",
    "    indent=2,\n",
    ")\n",
    "\n",
    "\n",
    "logger.log_artefact(\"onnx_io_structure.json\", onnx_io)\n",
    "print(onnx_io)"
   ]
  },
  {
   "cell_type": "markdown",
   "id": "4137d25b",
   "metadata": {
    "papermill": {
     "duration": 0.004398,
     "end_time": "2022-12-11T06:41:03.458034",
     "exception": false,
     "start_time": "2022-12-11T06:41:03.453636",
     "status": "completed"
    },
    "tags": []
   },
   "source": [
    "### Evaluate model performance on evaluation data set"
   ]
  },
  {
   "cell_type": "code",
   "execution_count": 9,
   "id": "eef635b3",
   "metadata": {
    "execution": {
     "iopub.execute_input": "2022-12-11T06:41:03.467575Z",
     "iopub.status.busy": "2022-12-11T06:41:03.467155Z",
     "iopub.status.idle": "2022-12-11T06:41:03.472176Z",
     "shell.execute_reply": "2022-12-11T06:41:03.470977Z"
    },
    "papermill": {
     "duration": 0.011399,
     "end_time": "2022-12-11T06:41:03.473533",
     "exception": false,
     "start_time": "2022-12-11T06:41:03.462134",
     "status": "completed"
    },
    "tags": []
   },
   "outputs": [],
   "source": [
    "# load evaluation data\n",
    "X_test = read_numpy(datalake_root(P) / \"test-data\" / \"digits.numpy\")\n",
    "y_test = read_numpy(datalake_root(P) / \"test-data\" / \"labels.numpy\")"
   ]
  },
  {
   "cell_type": "code",
   "execution_count": 10,
   "id": "13ed4d19",
   "metadata": {
    "execution": {
     "iopub.execute_input": "2022-12-11T06:41:03.483730Z",
     "iopub.status.busy": "2022-12-11T06:41:03.483326Z",
     "iopub.status.idle": "2022-12-11T06:41:03.495731Z",
     "shell.execute_reply": "2022-12-11T06:41:03.494558Z"
    },
    "papermill": {
     "duration": 0.019939,
     "end_time": "2022-12-11T06:41:03.498288",
     "exception": false,
     "start_time": "2022-12-11T06:41:03.478349",
     "status": "completed"
    },
    "tags": []
   },
   "outputs": [],
   "source": [
    "def get_model_outputs(X, onnx_inference_session):\n",
    "    y_pred_labels, y_pred_map = onnx_inference_session.run(\n",
    "        [\"output_label\", \"output_probability\"],\n",
    "        {\"float_input_8x8_image\": X.astype(np.float32)},\n",
    "    )\n",
    "    y_pred_probs = np.array(\n",
    "        [[probabilities[digit] for digit in range(10)] for probabilities in y_pred_map]\n",
    "    )\n",
    "\n",
    "    assert y_pred_labels.shape == (X.shape[0],)\n",
    "    assert y_pred_probs.shape == (X.shape[0], 10)\n",
    "\n",
    "    return y_pred_labels, y_pred_probs\n",
    "\n",
    "\n",
    "# Note: as shown in the training notebook, the predicted labels and probabilities\n",
    "# computed below need not be compatible.\n",
    "y_pred_labels_test, y_pred_probs_test = get_model_outputs(\n",
    "    X_test, onnx_inference_session\n",
    ")"
   ]
  },
  {
   "cell_type": "markdown",
   "id": "4f638684",
   "metadata": {
    "papermill": {
     "duration": 0.005137,
     "end_time": "2022-12-11T06:41:03.508667",
     "exception": false,
     "start_time": "2022-12-11T06:41:03.503530",
     "status": "completed"
    },
    "tags": []
   },
   "source": [
    "### Confusion matrix"
   ]
  },
  {
   "cell_type": "code",
   "execution_count": 11,
   "id": "94ad3cf5",
   "metadata": {
    "execution": {
     "iopub.execute_input": "2022-12-11T06:41:03.518163Z",
     "iopub.status.busy": "2022-12-11T06:41:03.517765Z",
     "iopub.status.idle": "2022-12-11T06:41:03.520672Z",
     "shell.execute_reply": "2022-12-11T06:41:03.520177Z"
    },
    "papermill": {
     "duration": 0.009266,
     "end_time": "2022-12-11T06:41:03.521985",
     "exception": false,
     "start_time": "2022-12-11T06:41:03.512719",
     "status": "completed"
    },
    "tags": []
   },
   "outputs": [],
   "source": [
    "# TODO"
   ]
  },
  {
   "cell_type": "markdown",
   "id": "bc6527b3",
   "metadata": {
    "papermill": {
     "duration": 0.004462,
     "end_time": "2022-12-11T06:41:03.530875",
     "exception": false,
     "start_time": "2022-12-11T06:41:03.526413",
     "status": "completed"
    },
    "tags": []
   },
   "source": [
    "### Plot predicted probabilities for each classifier over all evaluation digit images"
   ]
  },
  {
   "cell_type": "code",
   "execution_count": 12,
   "id": "54628b1f",
   "metadata": {
    "execution": {
     "iopub.execute_input": "2022-12-11T06:41:03.541104Z",
     "iopub.status.busy": "2022-12-11T06:41:03.540320Z",
     "iopub.status.idle": "2022-12-11T06:41:06.543471Z",
     "shell.execute_reply": "2022-12-11T06:41:06.542877Z"
    },
    "papermill": {
     "duration": 3.010145,
     "end_time": "2022-12-11T06:41:06.545070",
     "exception": false,
     "start_time": "2022-12-11T06:41:03.534925",
     "status": "completed"
    },
    "tags": []
   },
   "outputs": [
    {
     "data": {
      "image/png": "[encoded data removed]",
      "text/plain": [
       "<Figure size 1600x600 with 10 Axes>"
      ]
     },
     "metadata": {},
     "output_type": "display_data"
    }
   ],
   "source": [
    "def plot_per_digit_probabilities(y_pred_probs):\n",
    "    fig, axs = plt.subplots(nrows=2, ncols=5, figsize=(16, 6))\n",
    "\n",
    "    for (r, c), digit, ax in zip(\n",
    "        it.product(range(2), range(5)), range(10), axs.reshape(-1)\n",
    "    ):\n",
    "        ax.hist(y_pred_probs_test[:, digit], bins=20)\n",
    "\n",
    "        ax.set_title(f\"Digit {digit}\")\n",
    "        if r == 1 and c == 2:\n",
    "            ax.set_xlabel(\"probability\", fontsize=16)\n",
    "\n",
    "        if c == 0:\n",
    "            ax.set_ylabel(\"counts\", fontsize=16)\n",
    "        ax.set_yscale(\"log\")\n",
    "\n",
    "    fig.tight_layout()\n",
    "    fig.suptitle(\n",
    "        f\"Distributions of prediction probabilities for each digit \"\n",
    "        f\"(on evaluation data, n={y_pred_probs.shape[0]})\",\n",
    "        fontsize=20,\n",
    "    )\n",
    "    fig.tight_layout()\n",
    "    fig.show()\n",
    "\n",
    "    return fig\n",
    "\n",
    "\n",
    "fig = plot_per_digit_probabilities(y_pred_probs_test)"
   ]
  },
  {
   "cell_type": "markdown",
   "id": "097cc693",
   "metadata": {
    "papermill": {
     "duration": 0.004946,
     "end_time": "2022-12-11T06:41:06.555699",
     "exception": false,
     "start_time": "2022-12-11T06:41:06.550753",
     "status": "completed"
    },
    "tags": []
   },
   "source": [
    "From the above distributions we see that most digits have clear separation between\n",
    "high and lower probabilities. Morover, in each case there is roughly an order of\n",
    "magnitude more of digits with low probabilities. This is compatible with digits\n",
    "being roughly evenly distributed in the data."
   ]
  },
  {
   "cell_type": "code",
   "execution_count": 13,
   "id": "0cc36fa8",
   "metadata": {
    "execution": {
     "iopub.execute_input": "2022-12-11T06:41:06.571564Z",
     "iopub.status.busy": "2022-12-11T06:41:06.570989Z",
     "iopub.status.idle": "2022-12-11T06:41:07.451819Z",
     "shell.execute_reply": "2022-12-11T06:41:07.449673Z"
    },
    "papermill": {
     "duration": 0.892799,
     "end_time": "2022-12-11T06:41:07.453609",
     "exception": false,
     "start_time": "2022-12-11T06:41:06.560810",
     "status": "completed"
    },
    "tags": []
   },
   "outputs": [],
   "source": [
    "logger.log_figure(\"per-digit-probabilities.png\", fig)"
   ]
  },
  {
   "cell_type": "markdown",
   "id": "12962bd7",
   "metadata": {
    "papermill": {
     "duration": 0.005283,
     "end_time": "2022-12-11T06:41:07.465155",
     "exception": false,
     "start_time": "2022-12-11T06:41:07.459872",
     "status": "completed"
    },
    "tags": []
   },
   "source": [
    "### Plot ROC curves for individual one-vs-rest classifiers"
   ]
  },
  {
   "cell_type": "code",
   "execution_count": 14,
   "id": "549bee80",
   "metadata": {
    "execution": {
     "iopub.execute_input": "2022-12-11T06:41:07.477472Z",
     "iopub.status.busy": "2022-12-11T06:41:07.476974Z",
     "iopub.status.idle": "2022-12-11T06:41:07.787993Z",
     "shell.execute_reply": "2022-12-11T06:41:07.787368Z"
    },
    "papermill": {
     "duration": 0.319053,
     "end_time": "2022-12-11T06:41:07.789937",
     "exception": false,
     "start_time": "2022-12-11T06:41:07.470884",
     "status": "completed"
    },
    "tags": []
   },
   "outputs": [],
   "source": [
    "from sklearn import metrics"
   ]
  },
  {
   "cell_type": "code",
   "execution_count": 15,
   "id": "b151abb0",
   "metadata": {
    "execution": {
     "iopub.execute_input": "2022-12-11T06:41:07.803842Z",
     "iopub.status.busy": "2022-12-11T06:41:07.803441Z",
     "iopub.status.idle": "2022-12-11T06:41:08.983713Z",
     "shell.execute_reply": "2022-12-11T06:41:08.983104Z"
    },
    "papermill": {
     "duration": 1.188108,
     "end_time": "2022-12-11T06:41:08.985548",
     "exception": false,
     "start_time": "2022-12-11T06:41:07.797440",
     "status": "completed"
    },
    "tags": []
   },
   "outputs": [
    {
     "data": {
      "image/png": "[encoded data removed]",
      "text/plain": [
       "<Figure size 1600x800 with 10 Axes>"
      ]
     },
     "metadata": {},
     "output_type": "display_data"
    }
   ],
   "source": [
    "def plot_roc_curves(y, y_pred_probs):\n",
    "    # based on example code\n",
    "    # https://scikit-learn.org/stable/auto_examples/model_selection/plot_roc.html\n",
    "\n",
    "    fig, axs = plt.subplots(nrows=2, ncols=5, figsize=(16, 8))\n",
    "\n",
    "    roc_auc_dict = {}\n",
    "\n",
    "    for (r, c), digit, ax in zip(\n",
    "        it.product(range(2), range(5)), range(10), axs.reshape(-1)\n",
    "    ):\n",
    "        fpr, tpr, _ = metrics.roc_curve(y == digit, y_pred_probs[:, digit])\n",
    "        auc = metrics.auc(fpr, tpr)\n",
    "        roc_auc_dict[str(digit)] = auc\n",
    "\n",
    "        ax.plot(fpr, tpr, label=f\"ROC AUC={round(auc, 3)}\")\n",
    "\n",
    "        ax.set_title(f\"\\nDigit {digit}\", fontsize=16)\n",
    "        if r == 1:\n",
    "            ax.set_xlabel(\"FPR\", fontsize=18)\n",
    "\n",
    "        if c == 0:\n",
    "            ax.set_ylabel(\"TPR\", fontsize=18)\n",
    "\n",
    "        ax.set_xlim([-0.05, 1.05])\n",
    "        ax.set_ylim([-0.05, 1.05])\n",
    "        ax.legend(loc=\"lower right\", frameon=False, fontsize=14)\n",
    "\n",
    "    fig.tight_layout()\n",
    "    fig.suptitle(\n",
    "        f\"ROC plots for one-vs-rest performances \"\n",
    "        f\"(on evaluation data, n={y_pred_probs_test.shape[1]}\",\n",
    "        fontsize=22,\n",
    "    )\n",
    "    fig.tight_layout()\n",
    "    fig.show()\n",
    "\n",
    "    return roc_auc_dict, fig\n",
    "\n",
    "\n",
    "roc_auc_dict, fig = plot_roc_curves(y_test, y_pred_probs_test)"
   ]
  },
  {
   "cell_type": "code",
   "execution_count": 16,
   "id": "1260b732",
   "metadata": {
    "execution": {
     "iopub.execute_input": "2022-12-11T06:41:08.999659Z",
     "iopub.status.busy": "2022-12-11T06:41:08.998762Z",
     "iopub.status.idle": "2022-12-11T06:41:09.253196Z",
     "shell.execute_reply": "2022-12-11T06:41:09.252520Z"
    },
    "papermill": {
     "duration": 0.263014,
     "end_time": "2022-12-11T06:41:09.255121",
     "exception": false,
     "start_time": "2022-12-11T06:41:08.992107",
     "status": "completed"
    },
    "tags": []
   },
   "outputs": [],
   "source": [
    "logger.log_figure(\"per-digit-roc-curves.png\", fig)"
   ]
  },
  {
   "cell_type": "code",
   "execution_count": 17,
   "id": "61fe3338",
   "metadata": {
    "execution": {
     "iopub.execute_input": "2022-12-11T06:41:09.268970Z",
     "iopub.status.busy": "2022-12-11T06:41:09.268717Z",
     "iopub.status.idle": "2022-12-11T06:41:09.273292Z",
     "shell.execute_reply": "2022-12-11T06:41:09.272766Z"
    },
    "papermill": {
     "duration": 0.015425,
     "end_time": "2022-12-11T06:41:09.276925",
     "exception": false,
     "start_time": "2022-12-11T06:41:09.261500",
     "status": "completed"
    },
    "tags": []
   },
   "outputs": [
    {
     "data": {
      "text/plain": [
       "{'0': 1.0,\n",
       " '1': 0.9988003748828491,\n",
       " '2': 1.0,\n",
       " '3': 0.9998500468603562,\n",
       " '4': 0.9995046486816034,\n",
       " '5': 0.9991002811621369,\n",
       " '6': 0.999923792104862,\n",
       " '7': 0.9998856881572931,\n",
       " '8': 0.9934189785624212,\n",
       " '9': 0.9993903368388964}"
      ]
     },
     "execution_count": 17,
     "metadata": {},
     "output_type": "execute_result"
    }
   ],
   "source": [
    "roc_auc_dict"
   ]
  },
  {
   "cell_type": "code",
   "execution_count": 18,
   "id": "5a9178a7",
   "metadata": {
    "execution": {
     "iopub.execute_input": "2022-12-11T06:41:09.290705Z",
     "iopub.status.busy": "2022-12-11T06:41:09.290433Z",
     "iopub.status.idle": "2022-12-11T06:41:09.294953Z",
     "shell.execute_reply": "2022-12-11T06:41:09.294408Z"
    },
    "papermill": {
     "duration": 0.014574,
     "end_time": "2022-12-11T06:41:09.298135",
     "exception": false,
     "start_time": "2022-12-11T06:41:09.283561",
     "status": "completed"
    },
    "tags": []
   },
   "outputs": [
    {
     "name": "stdout",
     "output_type": "stream",
     "text": [
      " - Logging roc_auc_per_digit (json) : {'0': 1.0, '1': 0.9988003748828491, '2': 1.0, '3': 0.9998500468603562, '4': 0.9995046486816034, '5': 0.9991002811621369, '6': 0.999923792104862, '7': 0.9998856881572931, '8': 0.9934189785624212, '9': 0.9993903368388964}\n"
     ]
    }
   ],
   "source": [
    "logger.log_value(\"roc_auc_per_digit\", roc_auc_dict)"
   ]
  },
  {
   "cell_type": "markdown",
   "id": "7671c69b",
   "metadata": {
    "papermill": {
     "duration": 0.005974,
     "end_time": "2022-12-11T06:41:09.310523",
     "exception": false,
     "start_time": "2022-12-11T06:41:09.304549",
     "status": "completed"
    },
    "tags": []
   },
   "source": [
    "### Compute and log mean ROC AUC score averaged over all digits"
   ]
  },
  {
   "cell_type": "code",
   "execution_count": 19,
   "id": "c2838d0b",
   "metadata": {
    "execution": {
     "iopub.execute_input": "2022-12-11T06:41:09.325109Z",
     "iopub.status.busy": "2022-12-11T06:41:09.324853Z",
     "iopub.status.idle": "2022-12-11T06:41:09.344424Z",
     "shell.execute_reply": "2022-12-11T06:41:09.343481Z"
    },
    "papermill": {
     "duration": 0.029067,
     "end_time": "2022-12-11T06:41:09.346083",
     "exception": false,
     "start_time": "2022-12-11T06:41:09.317016",
     "status": "completed"
    },
    "tags": []
   },
   "outputs": [
    {
     "name": "stdout",
     "output_type": "stream",
     "text": [
      " - Logging roc_auc_class_mean (float) : 0.9989874147250418\n"
     ]
    }
   ],
   "source": [
    "roc_auc_macro = np.mean(list(roc_auc_dict.values()))\n",
    "\n",
    "logger.log_float(\"roc_auc_class_mean\", roc_auc_macro)\n",
    "\n",
    "# assert that the same value can be computed directly using sklearn\n",
    "assert roc_auc_macro == metrics.roc_auc_score(\n",
    "    y_test, y_pred_probs_test, average=\"macro\", multi_class=\"ovr\"\n",
    ")"
   ]
  },
  {
   "cell_type": "code",
   "execution_count": 20,
   "id": "6c6abadd",
   "metadata": {
    "execution": {
     "iopub.execute_input": "2022-12-11T06:41:09.361169Z",
     "iopub.status.busy": "2022-12-11T06:41:09.360919Z",
     "iopub.status.idle": "2022-12-11T06:41:09.364009Z",
     "shell.execute_reply": "2022-12-11T06:41:09.363098Z"
    },
    "lines_to_next_cell": 0,
    "papermill": {
     "duration": 0.013263,
     "end_time": "2022-12-11T06:41:09.366479",
     "exception": false,
     "start_time": "2022-12-11T06:41:09.353216",
     "status": "completed"
    },
    "tags": []
   },
   "outputs": [],
   "source": [
    "# ---"
   ]
  },
  {
   "cell_type": "code",
   "execution_count": null,
   "id": "cac5cc43",
   "metadata": {
    "papermill": {
     "duration": 0.006378,
     "end_time": "2022-12-11T06:41:09.379251",
     "exception": false,
     "start_time": "2022-12-11T06:41:09.372873",
     "status": "completed"
    },
    "tags": []
   },
   "outputs": [],
   "source": []
  }
 ],
 "metadata": {
  "jupytext": {
   "cell_metadata_filter": "tags,-all",
   "main_language": "python",
   "notebook_metadata_filter": "-all"
  },
  "language_info": {
   "codemirror_mode": {
    "name": "ipython",
    "version": 3
   },
   "file_extension": ".py",
   "mimetype": "text/x-python",
   "name": "python",
   "nbconvert_exporter": "python",
   "pygments_lexer": "ipython3",
   "version": "3.8.10"
  },
  "papermill": {
   "default_parameters": {},
   "duration": 9.80978,
   "end_time": "2022-12-11T06:41:10.511753",
   "environment_variables": {},
   "exception": null,
   "input_path": "/home/host_user/workspace/mnist-demo-pipeline/mnist-demo-pipeline/notebooks/temp-notebook-pk7ane3l.ipynb",
   "output_path": "notebooks/benchmark-model.ipynb",
   "parameters": {
    "P": {
     "_opentelemetry_traceparent": "00-9dd51a17dc70753ce85eae75616a86fd-97cd19427e8227eb-01",
     "pipeline.data_lake_root": "/pipeline-outputs/data-lake",
     "pipeline.github.actor": "matiasdahl",
     "pipeline.github.base_ref": "",
     "pipeline.github.event_name": "schedule",
     "pipeline.github.head_ref": "",
     "pipeline.github.job": "run-tests-pipeline-and-persist-pipeline-outputs",
     "pipeline.github.ref": "refs/heads/development",
     "pipeline.github.ref_name": "development",
     "pipeline.github.ref_type": "branch",
     "pipeline.github.repository": "matiasdahl/dev-mnist-digits-demo-pipeline",
     "pipeline.github.run_id": "3667777653",
     "pipeline.github.runner_name": "Hosted Agent",
     "pipeline.github.sha": "ace0d01011d5e914f1921450dd5a59c11367b38d",
     "pipeline.github.workflow": "Run automated tests, pipeline and deploy results to static reporting site",
     "pipeline.pipeline_run_id": "b3ff047b-f05b-4270-8ac0-9227d96a1a35",
     "pipeline.run_environment": "ci",
     "run.retry_nr": "0",
     "task.max_nr_retries": "1",
     "task.notebook": "notebooks/benchmark-model.py",
     "task.nr_train_images": 800,
     "task.num_cpus": 1,
     "task.timeout_s": "None"
    }
   },
   "start_time": "2022-12-11T06:41:00.701973",
   "version": "2.3.3"
  }
 },
 "nbformat": 4,
 "nbformat_minor": 5
}