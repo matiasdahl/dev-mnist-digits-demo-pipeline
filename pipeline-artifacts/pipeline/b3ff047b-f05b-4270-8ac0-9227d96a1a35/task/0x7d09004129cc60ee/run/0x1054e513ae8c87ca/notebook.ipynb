{
 "cells": [
  {
   "cell_type": "markdown",
   "id": "963608eb",
   "metadata": {
    "papermill": {
     "duration": 0.025326,
     "end_time": "2022-12-11T06:40:44.059852",
     "exception": false,
     "start_time": "2022-12-11T06:40:44.034526",
     "status": "completed"
    },
    "tags": []
   },
   "source": [
    "# Split digits and labels into separate training and testing data sets"
   ]
  },
  {
   "cell_type": "markdown",
   "id": "390361f6",
   "metadata": {
    "papermill": {
     "duration": 0.002237,
     "end_time": "2022-12-11T06:40:44.065008",
     "exception": false,
     "start_time": "2022-12-11T06:40:44.062771",
     "status": "completed"
    },
    "tags": []
   },
   "source": [
    "### Determine run parameters"
   ]
  },
  {
   "cell_type": "code",
   "execution_count": 1,
   "id": "e6249a3f",
   "metadata": {
    "execution": {
     "iopub.execute_input": "2022-12-11T06:40:44.074823Z",
     "iopub.status.busy": "2022-12-11T06:40:44.074360Z",
     "iopub.status.idle": "2022-12-11T06:40:44.081227Z",
     "shell.execute_reply": "2022-12-11T06:40:44.080719Z"
    },
    "lines_to_next_cell": 0,
    "papermill": {
     "duration": 0.020312,
     "end_time": "2022-12-11T06:40:44.087526",
     "exception": false,
     "start_time": "2022-12-11T06:40:44.067214",
     "status": "completed"
    },
    "tags": []
   },
   "outputs": [],
   "source": [
    "# ----------------- Parameters for interactive development --------------\n",
    "P = {\n",
    "    \"pipeline.data_lake_root\": \"/pipeline-outputs/data-lake\",\n",
    "    \"task.train_test_ratio\": 0.7,\n",
    "}"
   ]
  },
  {
   "cell_type": "code",
   "execution_count": 2,
   "id": "66f57eda",
   "metadata": {
    "execution": {
     "iopub.execute_input": "2022-12-11T06:40:44.093737Z",
     "iopub.status.busy": "2022-12-11T06:40:44.093054Z",
     "iopub.status.idle": "2022-12-11T06:40:44.097258Z",
     "shell.execute_reply": "2022-12-11T06:40:44.096569Z"
    },
    "lines_to_next_cell": 0,
    "papermill": {
     "duration": 0.009265,
     "end_time": "2022-12-11T06:40:44.099014",
     "exception": false,
     "start_time": "2022-12-11T06:40:44.089749",
     "status": "completed"
    },
    "tags": [
     "parameters"
    ]
   },
   "outputs": [],
   "source": [
    "# - During automated runs parameters will be injected in the below cell -"
   ]
  },
  {
   "cell_type": "code",
   "execution_count": 3,
   "id": "841f6fe4",
   "metadata": {
    "execution": {
     "iopub.execute_input": "2022-12-11T06:40:44.104632Z",
     "iopub.status.busy": "2022-12-11T06:40:44.104428Z",
     "iopub.status.idle": "2022-12-11T06:40:44.109360Z",
     "shell.execute_reply": "2022-12-11T06:40:44.108879Z"
    },
    "papermill": {
     "duration": 0.015583,
     "end_time": "2022-12-11T06:40:44.116896",
     "exception": false,
     "start_time": "2022-12-11T06:40:44.101313",
     "status": "completed"
    },
    "tags": [
     "injected-parameters"
    ]
   },
   "outputs": [],
   "source": [
    "# Parameters\n",
    "P = {\n",
    "    \"pipeline.data_lake_root\": \"/pipeline-outputs/data-lake\",\n",
    "    \"pipeline.run_environment\": \"ci\",\n",
    "    \"pipeline.pipeline_run_id\": \"b3ff047b-f05b-4270-8ac0-9227d96a1a35\",\n",
    "    \"pipeline.github.repository\": \"matiasdahl/dev-mnist-digits-demo-pipeline\",\n",
    "    \"pipeline.github.workflow\": \"Run automated tests, pipeline and deploy results to static reporting site\",\n",
    "    \"pipeline.github.runner_name\": \"Hosted Agent\",\n",
    "    \"pipeline.github.run_id\": \"3667777653\",\n",
    "    \"pipeline.github.actor\": \"matiasdahl\",\n",
    "    \"pipeline.github.job\": \"run-tests-pipeline-and-persist-pipeline-outputs\",\n",
    "    \"pipeline.github.base_ref\": \"\",\n",
    "    \"pipeline.github.head_ref\": \"\",\n",
    "    \"pipeline.github.sha\": \"ace0d01011d5e914f1921450dd5a59c11367b38d\",\n",
    "    \"pipeline.github.ref\": \"refs/heads/development\",\n",
    "    \"pipeline.github.ref_type\": \"branch\",\n",
    "    \"pipeline.github.ref_name\": \"development\",\n",
    "    \"pipeline.github.event_name\": \"schedule\",\n",
    "    \"task.train_test_ratio\": 0.7,\n",
    "    \"task.notebook\": \"notebooks/split-train-test.py\",\n",
    "    \"task.max_nr_retries\": \"1\",\n",
    "    \"run.retry_nr\": \"0\",\n",
    "    \"task.timeout_s\": \"None\",\n",
    "    \"task.num_cpus\": 1,\n",
    "    \"_opentelemetry_traceparent\": \"00-9dd51a17dc70753ce85eae75616a86fd-0c5d7fb22c74cb48-01\",\n",
    "}\n"
   ]
  },
  {
   "cell_type": "code",
   "execution_count": 4,
   "id": "5d3e741d",
   "metadata": {
    "execution": {
     "iopub.execute_input": "2022-12-11T06:40:44.122636Z",
     "iopub.status.busy": "2022-12-11T06:40:44.122436Z",
     "iopub.status.idle": "2022-12-11T06:40:44.125104Z",
     "shell.execute_reply": "2022-12-11T06:40:44.124604Z"
    },
    "lines_to_next_cell": 0,
    "papermill": {
     "duration": 0.008177,
     "end_time": "2022-12-11T06:40:44.127317",
     "exception": false,
     "start_time": "2022-12-11T06:40:44.119140",
     "status": "completed"
    },
    "tags": []
   },
   "outputs": [],
   "source": [
    "# -----------------------------------------------------------------------"
   ]
  },
  {
   "cell_type": "markdown",
   "id": "2ca3879b",
   "metadata": {
    "papermill": {
     "duration": 0.002167,
     "end_time": "2022-12-11T06:40:44.131761",
     "exception": false,
     "start_time": "2022-12-11T06:40:44.129594",
     "status": "completed"
    },
    "tags": []
   },
   "source": [
    "---"
   ]
  },
  {
   "cell_type": "markdown",
   "id": "5ef759ef",
   "metadata": {
    "lines_to_next_cell": 2,
    "papermill": {
     "duration": 0.00217,
     "end_time": "2022-12-11T06:40:44.136426",
     "exception": false,
     "start_time": "2022-12-11T06:40:44.134256",
     "status": "completed"
    },
    "tags": []
   },
   "source": [
    "### Notebook code"
   ]
  },
  {
   "cell_type": "code",
   "execution_count": 5,
   "id": "0928a99a",
   "metadata": {
    "execution": {
     "iopub.execute_input": "2022-12-11T06:40:44.143246Z",
     "iopub.status.busy": "2022-12-11T06:40:44.143032Z",
     "iopub.status.idle": "2022-12-11T06:40:44.656278Z",
     "shell.execute_reply": "2022-12-11T06:40:44.655499Z"
    },
    "papermill": {
     "duration": 0.518072,
     "end_time": "2022-12-11T06:40:44.658203",
     "exception": false,
     "start_time": "2022-12-11T06:40:44.140131",
     "status": "completed"
    },
    "tags": []
   },
   "outputs": [
    {
     "name": "stderr",
     "output_type": "stream",
     "text": [
      "2022-12-11 06:40:44,471\tINFO worker.py:842 -- Connecting to existing Ray cluster at address: 172.17.0.2:6379\n"
     ]
    }
   ],
   "source": [
    "from common.io import datalake_root, read_numpy, write_numpy\n",
    "from pynb_dag_runner.tasks.task_opentelemetry_logging import PydarLogger\n",
    "\n",
    "logger = PydarLogger(P)"
   ]
  },
  {
   "cell_type": "markdown",
   "id": "1aa297d5",
   "metadata": {
    "papermill": {
     "duration": 0.002734,
     "end_time": "2022-12-11T06:40:44.664211",
     "exception": false,
     "start_time": "2022-12-11T06:40:44.661477",
     "status": "completed"
    },
    "tags": []
   },
   "source": [
    "## Load and split digits data"
   ]
  },
  {
   "cell_type": "code",
   "execution_count": 6,
   "id": "d78e93ad",
   "metadata": {
    "execution": {
     "iopub.execute_input": "2022-12-11T06:40:44.671084Z",
     "iopub.status.busy": "2022-12-11T06:40:44.670781Z",
     "iopub.status.idle": "2022-12-11T06:40:44.675718Z",
     "shell.execute_reply": "2022-12-11T06:40:44.675143Z"
    },
    "papermill": {
     "duration": 0.010988,
     "end_time": "2022-12-11T06:40:44.678014",
     "exception": false,
     "start_time": "2022-12-11T06:40:44.667026",
     "status": "completed"
    },
    "tags": []
   },
   "outputs": [],
   "source": [
    "X = read_numpy(datalake_root(P) / \"raw\" / \"digits.numpy\")\n",
    "y = read_numpy(datalake_root(P) / \"raw\" / \"labels.numpy\")"
   ]
  },
  {
   "cell_type": "code",
   "execution_count": 7,
   "id": "e9a66430",
   "metadata": {
    "execution": {
     "iopub.execute_input": "2022-12-11T06:40:44.684542Z",
     "iopub.status.busy": "2022-12-11T06:40:44.684329Z",
     "iopub.status.idle": "2022-12-11T06:40:45.152448Z",
     "shell.execute_reply": "2022-12-11T06:40:45.151669Z"
    },
    "papermill": {
     "duration": 0.473847,
     "end_time": "2022-12-11T06:40:45.154741",
     "exception": false,
     "start_time": "2022-12-11T06:40:44.680894",
     "status": "completed"
    },
    "tags": []
   },
   "outputs": [],
   "source": [
    "from sklearn.model_selection import train_test_split\n",
    "\n",
    "X_train, X_test, y_train, y_test = train_test_split(\n",
    "    X,\n",
    "    y,\n",
    "    train_size=P[\"task.train_test_ratio\"],\n",
    "    test_size=None,\n",
    "    stratify=y,\n",
    "    shuffle=True,\n",
    "    random_state=1,\n",
    ")\n",
    "\n",
    "# assert nr of pixels per image is the same for all image vectors\n",
    "assert X.shape[1] == X_train.shape[1] == X_test.shape[1]\n",
    "\n",
    "# assert that the (X, y)-pairs have compatible sizes (for both train and test)\n",
    "assert X_train.shape[0] == len(y_train)\n",
    "assert X_test.shape[0] == len(y_test)\n",
    "\n",
    "# assert that all data is used\n",
    "assert len(y) == len(y_train) + len(y_test)"
   ]
  },
  {
   "cell_type": "code",
   "execution_count": 8,
   "id": "e13c09dc",
   "metadata": {
    "execution": {
     "iopub.execute_input": "2022-12-11T06:40:45.162461Z",
     "iopub.status.busy": "2022-12-11T06:40:45.161913Z",
     "iopub.status.idle": "2022-12-11T06:40:45.169892Z",
     "shell.execute_reply": "2022-12-11T06:40:45.169261Z"
    },
    "papermill": {
     "duration": 0.013735,
     "end_time": "2022-12-11T06:40:45.171841",
     "exception": false,
     "start_time": "2022-12-11T06:40:45.158106",
     "status": "completed"
    },
    "tags": []
   },
   "outputs": [
    {
     "name": "stdout",
     "output_type": "stream",
     "text": [
      " - Logging nr_digits_train (int) : 1257\n",
      " - Logging nr_digits_test (int) : 540\n"
     ]
    }
   ],
   "source": [
    "logger.log_int(\"nr_digits_train\", len(y_train))\n",
    "logger.log_int(\"nr_digits_test\", len(y_test))"
   ]
  },
  {
   "cell_type": "markdown",
   "id": "61d0360a",
   "metadata": {
    "papermill": {
     "duration": 0.002983,
     "end_time": "2022-12-11T06:40:45.177578",
     "exception": false,
     "start_time": "2022-12-11T06:40:45.174595",
     "status": "completed"
    },
    "tags": []
   },
   "source": [
    "### Persist training and test data sets to separate files"
   ]
  },
  {
   "cell_type": "code",
   "execution_count": 9,
   "id": "edaf65fb",
   "metadata": {
    "execution": {
     "iopub.execute_input": "2022-12-11T06:40:45.184030Z",
     "iopub.status.busy": "2022-12-11T06:40:45.183729Z",
     "iopub.status.idle": "2022-12-11T06:40:45.189993Z",
     "shell.execute_reply": "2022-12-11T06:40:45.189219Z"
    },
    "papermill": {
     "duration": 0.011759,
     "end_time": "2022-12-11T06:40:45.191826",
     "exception": false,
     "start_time": "2022-12-11T06:40:45.180067",
     "status": "completed"
    },
    "tags": []
   },
   "outputs": [],
   "source": [
    "write_numpy(datalake_root(P) / \"train-data\" / \"digits.numpy\", X_train)\n",
    "write_numpy(datalake_root(P) / \"train-data\" / \"labels.numpy\", y_train)\n",
    "\n",
    "#\n",
    "write_numpy(datalake_root(P) / \"test-data\" / \"digits.numpy\", X_test)\n",
    "write_numpy(datalake_root(P) / \"test-data\" / \"labels.numpy\", y_test)"
   ]
  },
  {
   "cell_type": "code",
   "execution_count": null,
   "id": "ace2c6a5",
   "metadata": {
    "papermill": {
     "duration": 0.003279,
     "end_time": "2022-12-11T06:40:45.198133",
     "exception": false,
     "start_time": "2022-12-11T06:40:45.194854",
     "status": "completed"
    },
    "tags": []
   },
   "outputs": [],
   "source": []
  }
 ],
 "metadata": {
  "jupytext": {
   "cell_metadata_filter": "tags,-all",
   "main_language": "python",
   "notebook_metadata_filter": "-all"
  },
  "language_info": {
   "codemirror_mode": {
    "name": "ipython",
    "version": 3
   },
   "file_extension": ".py",
   "mimetype": "text/x-python",
   "name": "python",
   "nbconvert_exporter": "python",
   "pygments_lexer": "ipython3",
   "version": "3.8.10"
  },
  "papermill": {
   "default_parameters": {},
   "duration": 3.210381,
   "end_time": "2022-12-11T06:40:46.020591",
   "environment_variables": {},
   "exception": null,
   "input_path": "/home/host_user/workspace/mnist-demo-pipeline/mnist-demo-pipeline/notebooks/temp-notebook-01esiclq.ipynb",
   "output_path": "notebooks/split-train-test.ipynb",
   "parameters": {
    "P": {
     "_opentelemetry_traceparent": "00-9dd51a17dc70753ce85eae75616a86fd-0c5d7fb22c74cb48-01",
     "pipeline.data_lake_root": "/pipeline-outputs/data-lake",
     "pipeline.github.actor": "matiasdahl",
     "pipeline.github.base_ref": "",
     "pipeline.github.event_name": "schedule",
     "pipeline.github.head_ref": "",
     "pipeline.github.job": "run-tests-pipeline-and-persist-pipeline-outputs",
     "pipeline.github.ref": "refs/heads/development",
     "pipeline.github.ref_name": "development",
     "pipeline.github.ref_type": "branch",
     "pipeline.github.repository": "matiasdahl/dev-mnist-digits-demo-pipeline",
     "pipeline.github.run_id": "3667777653",
     "pipeline.github.runner_name": "Hosted Agent",
     "pipeline.github.sha": "ace0d01011d5e914f1921450dd5a59c11367b38d",
     "pipeline.github.workflow": "Run automated tests, pipeline and deploy results to static reporting site",
     "pipeline.pipeline_run_id": "b3ff047b-f05b-4270-8ac0-9227d96a1a35",
     "pipeline.run_environment": "ci",
     "run.retry_nr": "0",
     "task.max_nr_retries": "1",
     "task.notebook": "notebooks/split-train-test.py",
     "task.num_cpus": 1,
     "task.timeout_s": "None",
     "task.train_test_ratio": 0.7
    }
   },
   "start_time": "2022-12-11T06:40:42.810210",
   "version": "2.3.3"
  }
 },
 "nbformat": 4,
 "nbformat_minor": 5
}