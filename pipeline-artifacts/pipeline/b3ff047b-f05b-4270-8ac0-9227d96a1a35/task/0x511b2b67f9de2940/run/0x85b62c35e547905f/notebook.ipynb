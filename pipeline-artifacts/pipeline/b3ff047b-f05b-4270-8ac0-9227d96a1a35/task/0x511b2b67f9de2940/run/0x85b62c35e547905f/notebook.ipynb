{
 "cells": [
  {
   "cell_type": "markdown",
   "id": "b5a0581e",
   "metadata": {
    "papermill": {
     "duration": 0.017209,
     "end_time": "2022-12-11T06:40:38.800132",
     "exception": false,
     "start_time": "2022-12-11T06:40:38.782923",
     "status": "completed"
    },
    "tags": []
   },
   "source": [
    "# Ingest toy version of MNIST digit data from sklearn"
   ]
  },
  {
   "cell_type": "markdown",
   "id": "a9c2ba0c",
   "metadata": {
    "papermill": {
     "duration": 0.00219,
     "end_time": "2022-12-11T06:40:38.805241",
     "exception": false,
     "start_time": "2022-12-11T06:40:38.803051",
     "status": "completed"
    },
    "tags": []
   },
   "source": [
    "### Determine run parameters"
   ]
  },
  {
   "cell_type": "code",
   "execution_count": 1,
   "id": "de566cfe",
   "metadata": {
    "execution": {
     "iopub.execute_input": "2022-12-11T06:40:38.812269Z",
     "iopub.status.busy": "2022-12-11T06:40:38.811734Z",
     "iopub.status.idle": "2022-12-11T06:40:38.820071Z",
     "shell.execute_reply": "2022-12-11T06:40:38.819486Z"
    },
    "lines_to_next_cell": 0,
    "papermill": {
     "duration": 0.013838,
     "end_time": "2022-12-11T06:40:38.822105",
     "exception": false,
     "start_time": "2022-12-11T06:40:38.808267",
     "status": "completed"
    },
    "tags": []
   },
   "outputs": [],
   "source": [
    "# ----------------- Parameters for interactive development --------------\n",
    "P = {\n",
    "    \"pipeline.run_environment\": \"dev\",\n",
    "    \"pipeline.data_lake_root\": \"/pipeline-outputs/data-lake\",\n",
    "    \"run.retry_nr\": \"1\",\n",
    "}"
   ]
  },
  {
   "cell_type": "code",
   "execution_count": 2,
   "id": "2f324c6b",
   "metadata": {
    "execution": {
     "iopub.execute_input": "2022-12-11T06:40:38.828034Z",
     "iopub.status.busy": "2022-12-11T06:40:38.827654Z",
     "iopub.status.idle": "2022-12-11T06:40:38.830874Z",
     "shell.execute_reply": "2022-12-11T06:40:38.830267Z"
    },
    "lines_to_next_cell": 0,
    "papermill": {
     "duration": 0.008395,
     "end_time": "2022-12-11T06:40:38.832913",
     "exception": false,
     "start_time": "2022-12-11T06:40:38.824518",
     "status": "completed"
    },
    "tags": [
     "parameters"
    ]
   },
   "outputs": [],
   "source": [
    "# - During automated runs parameters will be injected in the below cell -"
   ]
  },
  {
   "cell_type": "code",
   "execution_count": 3,
   "id": "60a57235",
   "metadata": {
    "execution": {
     "iopub.execute_input": "2022-12-11T06:40:38.838442Z",
     "iopub.status.busy": "2022-12-11T06:40:38.838232Z",
     "iopub.status.idle": "2022-12-11T06:40:38.842714Z",
     "shell.execute_reply": "2022-12-11T06:40:38.842201Z"
    },
    "papermill": {
     "duration": 0.009059,
     "end_time": "2022-12-11T06:40:38.844256",
     "exception": false,
     "start_time": "2022-12-11T06:40:38.835197",
     "status": "completed"
    },
    "tags": [
     "injected-parameters"
    ]
   },
   "outputs": [],
   "source": [
    "# Parameters\n",
    "P = {\n",
    "    \"pipeline.data_lake_root\": \"/pipeline-outputs/data-lake\",\n",
    "    \"pipeline.run_environment\": \"ci\",\n",
    "    \"pipeline.pipeline_run_id\": \"b3ff047b-f05b-4270-8ac0-9227d96a1a35\",\n",
    "    \"pipeline.github.repository\": \"matiasdahl/dev-mnist-digits-demo-pipeline\",\n",
    "    \"pipeline.github.workflow\": \"Run automated tests, pipeline and deploy results to static reporting site\",\n",
    "    \"pipeline.github.runner_name\": \"Hosted Agent\",\n",
    "    \"pipeline.github.run_id\": \"3667777653\",\n",
    "    \"pipeline.github.actor\": \"matiasdahl\",\n",
    "    \"pipeline.github.job\": \"run-tests-pipeline-and-persist-pipeline-outputs\",\n",
    "    \"pipeline.github.base_ref\": \"\",\n",
    "    \"pipeline.github.head_ref\": \"\",\n",
    "    \"pipeline.github.sha\": \"ace0d01011d5e914f1921450dd5a59c11367b38d\",\n",
    "    \"pipeline.github.ref\": \"refs/heads/development\",\n",
    "    \"pipeline.github.ref_type\": \"branch\",\n",
    "    \"pipeline.github.ref_name\": \"development\",\n",
    "    \"pipeline.github.event_name\": \"schedule\",\n",
    "    \"task.notebook\": \"notebooks/ingest.py\",\n",
    "    \"task.max_nr_retries\": \"15\",\n",
    "    \"run.retry_nr\": \"10\",\n",
    "    \"task.timeout_s\": \"10\",\n",
    "    \"task.num_cpus\": 1,\n",
    "    \"_opentelemetry_traceparent\": \"00-9dd51a17dc70753ce85eae75616a86fd-961b49090c11e092-01\",\n",
    "}\n"
   ]
  },
  {
   "cell_type": "code",
   "execution_count": 4,
   "id": "4fd10a32",
   "metadata": {
    "execution": {
     "iopub.execute_input": "2022-12-11T06:40:38.850027Z",
     "iopub.status.busy": "2022-12-11T06:40:38.849641Z",
     "iopub.status.idle": "2022-12-11T06:40:38.852779Z",
     "shell.execute_reply": "2022-12-11T06:40:38.852095Z"
    },
    "lines_to_next_cell": 0,
    "papermill": {
     "duration": 0.007596,
     "end_time": "2022-12-11T06:40:38.854283",
     "exception": false,
     "start_time": "2022-12-11T06:40:38.846687",
     "status": "completed"
    },
    "tags": []
   },
   "outputs": [],
   "source": [
    "# -----------------------------------------------------------------------"
   ]
  },
  {
   "cell_type": "markdown",
   "id": "b9184fd7",
   "metadata": {
    "lines_to_next_cell": 2,
    "papermill": {
     "duration": 0.002253,
     "end_time": "2022-12-11T06:40:38.858799",
     "exception": false,
     "start_time": "2022-12-11T06:40:38.856546",
     "status": "completed"
    },
    "tags": []
   },
   "source": [
    "---"
   ]
  },
  {
   "cell_type": "markdown",
   "id": "995ba7dc",
   "metadata": {
    "papermill": {
     "duration": 0.002257,
     "end_time": "2022-12-11T06:40:38.863265",
     "exception": false,
     "start_time": "2022-12-11T06:40:38.861008",
     "status": "completed"
    },
    "tags": []
   },
   "source": [
    "### Simulate different types of failures (for testing timeout and retry logic)"
   ]
  },
  {
   "cell_type": "code",
   "execution_count": 5,
   "id": "4078ade9",
   "metadata": {
    "execution": {
     "iopub.execute_input": "2022-12-11T06:40:38.870454Z",
     "iopub.status.busy": "2022-12-11T06:40:38.870036Z",
     "iopub.status.idle": "2022-12-11T06:40:39.301022Z",
     "shell.execute_reply": "2022-12-11T06:40:39.300315Z"
    },
    "papermill": {
     "duration": 0.437325,
     "end_time": "2022-12-11T06:40:39.302908",
     "exception": false,
     "start_time": "2022-12-11T06:40:38.865583",
     "status": "completed"
    },
    "tags": []
   },
   "outputs": [
    {
     "name": "stderr",
     "output_type": "stream",
     "text": [
      "2022-12-11 06:40:39,152\tINFO worker.py:842 -- Connecting to existing Ray cluster at address: 172.17.0.2:6379\n"
     ]
    }
   ],
   "source": [
    "from pynb_dag_runner.tasks.task_opentelemetry_logging import PydarLogger\n",
    "\n",
    "logger = PydarLogger(P)"
   ]
  },
  {
   "cell_type": "code",
   "execution_count": 6,
   "id": "2cfda510",
   "metadata": {
    "execution": {
     "iopub.execute_input": "2022-12-11T06:40:39.310043Z",
     "iopub.status.busy": "2022-12-11T06:40:39.309518Z",
     "iopub.status.idle": "2022-12-11T06:40:39.314431Z",
     "shell.execute_reply": "2022-12-11T06:40:39.313915Z"
    },
    "papermill": {
     "duration": 0.010248,
     "end_time": "2022-12-11T06:40:39.316058",
     "exception": false,
     "start_time": "2022-12-11T06:40:39.305810",
     "status": "completed"
    },
    "tags": []
   },
   "outputs": [],
   "source": [
    "import time, random\n",
    "\n",
    "\n",
    "def maybe_crash(retry_nr: int, run_environment: str):\n",
    "    if retry_nr == 2 and run_environment == \"ci\":\n",
    "        time.sleep(1e6)\n",
    "\n",
    "    max_retry_nr: int = 3 if run_environment == \"dev\" else 10\n",
    "\n",
    "    if retry_nr < max_retry_nr:\n",
    "        if random.random() < 0.1:\n",
    "            time.sleep(1e6)\n",
    "        else:\n",
    "            raise Exception(\"Simulated exception failure from ingestion step notebook!\")\n",
    "\n",
    "\n",
    "maybe_crash(\n",
    "    retry_nr=int(P[\"run.retry_nr\"]), run_environment=P[\"pipeline.run_environment\"]\n",
    ")"
   ]
  },
  {
   "cell_type": "markdown",
   "id": "9b40a25e",
   "metadata": {
    "lines_to_next_cell": 2,
    "papermill": {
     "duration": 0.002702,
     "end_time": "2022-12-11T06:40:39.321721",
     "exception": false,
     "start_time": "2022-12-11T06:40:39.319019",
     "status": "completed"
    },
    "tags": []
   },
   "source": [
    "### Notebook code"
   ]
  },
  {
   "cell_type": "code",
   "execution_count": 7,
   "id": "8d124ecd",
   "metadata": {
    "execution": {
     "iopub.execute_input": "2022-12-11T06:40:39.328011Z",
     "iopub.status.busy": "2022-12-11T06:40:39.327642Z",
     "iopub.status.idle": "2022-12-11T06:40:40.581988Z",
     "shell.execute_reply": "2022-12-11T06:40:40.581315Z"
    },
    "papermill": {
     "duration": 1.259728,
     "end_time": "2022-12-11T06:40:40.583967",
     "exception": false,
     "start_time": "2022-12-11T06:40:39.324239",
     "status": "completed"
    },
    "tags": []
   },
   "outputs": [],
   "source": [
    "from sklearn import datasets\n",
    "\n",
    "#\n",
    "from common.io import datalake_root, write_numpy"
   ]
  },
  {
   "cell_type": "code",
   "execution_count": 8,
   "id": "f5714612",
   "metadata": {
    "execution": {
     "iopub.execute_input": "2022-12-11T06:40:40.590898Z",
     "iopub.status.busy": "2022-12-11T06:40:40.590482Z",
     "iopub.status.idle": "2022-12-11T06:40:40.605283Z",
     "shell.execute_reply": "2022-12-11T06:40:40.604186Z"
    },
    "lines_to_next_cell": 2,
    "papermill": {
     "duration": 0.020125,
     "end_time": "2022-12-11T06:40:40.607156",
     "exception": false,
     "start_time": "2022-12-11T06:40:40.587031",
     "status": "completed"
    },
    "tags": []
   },
   "outputs": [],
   "source": [
    "digits = datasets.load_digits()\n",
    "\n",
    "X = digits[\"data\"]\n",
    "y = digits[\"target\"]"
   ]
  },
  {
   "cell_type": "code",
   "execution_count": 9,
   "id": "c1b1c729",
   "metadata": {
    "execution": {
     "iopub.execute_input": "2022-12-11T06:40:40.613616Z",
     "iopub.status.busy": "2022-12-11T06:40:40.613385Z",
     "iopub.status.idle": "2022-12-11T06:40:40.623841Z",
     "shell.execute_reply": "2022-12-11T06:40:40.622958Z"
    },
    "papermill": {
     "duration": 0.016512,
     "end_time": "2022-12-11T06:40:40.626155",
     "exception": false,
     "start_time": "2022-12-11T06:40:40.609643",
     "status": "completed"
    },
    "tags": []
   },
   "outputs": [
    {
     "name": "stdout",
     "output_type": "stream",
     "text": [
      " - Logging data_shape (json) : [1797, 64]\n",
      " - Logging target_shape (json) : [1797]\n"
     ]
    },
    {
     "data": {
      "text/plain": [
       "((1797, 64), (1797,))"
      ]
     },
     "execution_count": 9,
     "metadata": {},
     "output_type": "execute_result"
    }
   ],
   "source": [
    "logger.log_value(\"data_shape\", list(X.shape))\n",
    "logger.log_value(\"target_shape\", list(y.shape))\n",
    "\n",
    "X.shape, y.shape"
   ]
  },
  {
   "cell_type": "code",
   "execution_count": 10,
   "id": "4474ea27",
   "metadata": {
    "execution": {
     "iopub.execute_input": "2022-12-11T06:40:40.632926Z",
     "iopub.status.busy": "2022-12-11T06:40:40.632326Z",
     "iopub.status.idle": "2022-12-11T06:40:40.643771Z",
     "shell.execute_reply": "2022-12-11T06:40:40.640468Z"
    },
    "papermill": {
     "duration": 0.016519,
     "end_time": "2022-12-11T06:40:40.645407",
     "exception": false,
     "start_time": "2022-12-11T06:40:40.628888",
     "status": "completed"
    },
    "tags": []
   },
   "outputs": [],
   "source": [
    "write_numpy(datalake_root(P) / \"raw\" / \"digits.numpy\", X)\n",
    "write_numpy(datalake_root(P) / \"raw\" / \"labels.numpy\", y)"
   ]
  },
  {
   "cell_type": "code",
   "execution_count": null,
   "id": "20e5084e",
   "metadata": {
    "papermill": {
     "duration": 0.002637,
     "end_time": "2022-12-11T06:40:40.651763",
     "exception": false,
     "start_time": "2022-12-11T06:40:40.649126",
     "status": "completed"
    },
    "tags": []
   },
   "outputs": [],
   "source": []
  }
 ],
 "metadata": {
  "jupytext": {
   "cell_metadata_filter": "tags,-all",
   "main_language": "python",
   "notebook_metadata_filter": "-all"
  },
  "language_info": {
   "codemirror_mode": {
    "name": "ipython",
    "version": 3
   },
   "file_extension": ".py",
   "mimetype": "text/x-python",
   "name": "python",
   "nbconvert_exporter": "python",
   "pygments_lexer": "ipython3",
   "version": "3.8.10"
  },
  "papermill": {
   "default_parameters": {},
   "duration": 3.850072,
   "end_time": "2022-12-11T06:40:41.472781",
   "environment_variables": {},
   "exception": null,
   "input_path": "/home/host_user/workspace/mnist-demo-pipeline/mnist-demo-pipeline/notebooks/temp-notebook-sojl0f4h.ipynb",
   "output_path": "notebooks/ingest.ipynb",
   "parameters": {
    "P": {
     "_opentelemetry_traceparent": "00-9dd51a17dc70753ce85eae75616a86fd-961b49090c11e092-01",
     "pipeline.data_lake_root": "/pipeline-outputs/data-lake",
     "pipeline.github.actor": "matiasdahl",
     "pipeline.github.base_ref": "",
     "pipeline.github.event_name": "schedule",
     "pipeline.github.head_ref": "",
     "pipeline.github.job": "run-tests-pipeline-and-persist-pipeline-outputs",
     "pipeline.github.ref": "refs/heads/development",
     "pipeline.github.ref_name": "development",
     "pipeline.github.ref_type": "branch",
     "pipeline.github.repository": "matiasdahl/dev-mnist-digits-demo-pipeline",
     "pipeline.github.run_id": "3667777653",
     "pipeline.github.runner_name": "Hosted Agent",
     "pipeline.github.sha": "ace0d01011d5e914f1921450dd5a59c11367b38d",
     "pipeline.github.workflow": "Run automated tests, pipeline and deploy results to static reporting site",
     "pipeline.pipeline_run_id": "b3ff047b-f05b-4270-8ac0-9227d96a1a35",
     "pipeline.run_environment": "ci",
     "run.retry_nr": "10",
     "task.max_nr_retries": "15",
     "task.notebook": "notebooks/ingest.py",
     "task.num_cpus": 1,
     "task.timeout_s": "10"
    }
   },
   "start_time": "2022-12-11T06:40:37.622709",
   "version": "2.3.3"
  }
 },
 "nbformat": 4,
 "nbformat_minor": 5
}