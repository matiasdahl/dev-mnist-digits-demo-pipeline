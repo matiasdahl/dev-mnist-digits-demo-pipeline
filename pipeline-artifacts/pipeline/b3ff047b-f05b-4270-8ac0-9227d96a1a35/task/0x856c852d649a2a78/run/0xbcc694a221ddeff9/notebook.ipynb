{
 "cells": [
  {
   "cell_type": "markdown",
   "id": "358a6e81",
   "metadata": {
    "papermill": {
     "duration": 0.005294,
     "end_time": "2022-12-11T06:41:13.167436",
     "exception": false,
     "start_time": "2022-12-11T06:41:13.162142",
     "status": "completed"
    },
    "tags": []
   },
   "source": [
    "# Benchmark model\n",
    "\n",
    "The purpose of this notebook is to benchmark persisted onnx-model (trained in the\n",
    "previous step) against evaluation set."
   ]
  },
  {
   "cell_type": "markdown",
   "id": "5a37c7e1",
   "metadata": {
    "papermill": {
     "duration": 0.005239,
     "end_time": "2022-12-11T06:41:13.177737",
     "exception": false,
     "start_time": "2022-12-11T06:41:13.172498",
     "status": "completed"
    },
    "tags": []
   },
   "source": [
    "### Determine run parameters"
   ]
  },
  {
   "cell_type": "code",
   "execution_count": 1,
   "id": "1e705df0",
   "metadata": {
    "execution": {
     "iopub.execute_input": "2022-12-11T06:41:13.187193Z",
     "iopub.status.busy": "2022-12-11T06:41:13.186903Z",
     "iopub.status.idle": "2022-12-11T06:41:13.205912Z",
     "shell.execute_reply": "2022-12-11T06:41:13.204432Z"
    },
    "lines_to_next_cell": 0,
    "papermill": {
     "duration": 0.026428,
     "end_time": "2022-12-11T06:41:13.208453",
     "exception": false,
     "start_time": "2022-12-11T06:41:13.182025",
     "status": "completed"
    },
    "tags": []
   },
   "outputs": [],
   "source": [
    "# ----------------- Parameters for interactive development --------------\n",
    "P = {\n",
    "    \"pipeline.data_lake_root\": \"/pipeline-outputs/data-lake\",\n",
    "    \"task.nr_train_images\": 600,\n",
    "}"
   ]
  },
  {
   "cell_type": "code",
   "execution_count": 2,
   "id": "5dc3acc1",
   "metadata": {
    "execution": {
     "iopub.execute_input": "2022-12-11T06:41:13.218248Z",
     "iopub.status.busy": "2022-12-11T06:41:13.217992Z",
     "iopub.status.idle": "2022-12-11T06:41:13.220893Z",
     "shell.execute_reply": "2022-12-11T06:41:13.220389Z"
    },
    "lines_to_next_cell": 0,
    "papermill": {
     "duration": 0.012895,
     "end_time": "2022-12-11T06:41:13.225082",
     "exception": false,
     "start_time": "2022-12-11T06:41:13.212187",
     "status": "completed"
    },
    "tags": [
     "parameters"
    ]
   },
   "outputs": [],
   "source": [
    "# - During automated runs parameters will be injected in the below cell -"
   ]
  },
  {
   "cell_type": "code",
   "execution_count": 3,
   "id": "65cd1889",
   "metadata": {
    "execution": {
     "iopub.execute_input": "2022-12-11T06:41:13.240290Z",
     "iopub.status.busy": "2022-12-11T06:41:13.240061Z",
     "iopub.status.idle": "2022-12-11T06:41:13.244472Z",
     "shell.execute_reply": "2022-12-11T06:41:13.243953Z"
    },
    "papermill": {
     "duration": 0.012011,
     "end_time": "2022-12-11T06:41:13.246933",
     "exception": false,
     "start_time": "2022-12-11T06:41:13.234922",
     "status": "completed"
    },
    "tags": [
     "injected-parameters"
    ]
   },
   "outputs": [],
   "source": [
    "# Parameters\n",
    "P = {\n",
    "    \"pipeline.data_lake_root\": \"/pipeline-outputs/data-lake\",\n",
    "    \"pipeline.run_environment\": \"ci\",\n",
    "    \"pipeline.pipeline_run_id\": \"b3ff047b-f05b-4270-8ac0-9227d96a1a35\",\n",
    "    \"pipeline.github.repository\": \"matiasdahl/dev-mnist-digits-demo-pipeline\",\n",
    "    \"pipeline.github.workflow\": \"Run automated tests, pipeline and deploy results to static reporting site\",\n",
    "    \"pipeline.github.runner_name\": \"Hosted Agent\",\n",
    "    \"pipeline.github.run_id\": \"3667777653\",\n",
    "    \"pipeline.github.actor\": \"matiasdahl\",\n",
    "    \"pipeline.github.job\": \"run-tests-pipeline-and-persist-pipeline-outputs\",\n",
    "    \"pipeline.github.base_ref\": \"\",\n",
    "    \"pipeline.github.head_ref\": \"\",\n",
    "    \"pipeline.github.sha\": \"ace0d01011d5e914f1921450dd5a59c11367b38d\",\n",
    "    \"pipeline.github.ref\": \"refs/heads/development\",\n",
    "    \"pipeline.github.ref_type\": \"branch\",\n",
    "    \"pipeline.github.ref_name\": \"development\",\n",
    "    \"pipeline.github.event_name\": \"schedule\",\n",
    "    \"task.nr_train_images\": 600,\n",
    "    \"task.notebook\": \"notebooks/benchmark-model.py\",\n",
    "    \"task.max_nr_retries\": \"1\",\n",
    "    \"run.retry_nr\": \"0\",\n",
    "    \"task.timeout_s\": \"None\",\n",
    "    \"task.num_cpus\": 1,\n",
    "    \"_opentelemetry_traceparent\": \"00-9dd51a17dc70753ce85eae75616a86fd-a0196252a1fa8d5b-01\",\n",
    "}\n"
   ]
  },
  {
   "cell_type": "code",
   "execution_count": 4,
   "id": "1f9f88ca",
   "metadata": {
    "execution": {
     "iopub.execute_input": "2022-12-11T06:41:13.255804Z",
     "iopub.status.busy": "2022-12-11T06:41:13.255588Z",
     "iopub.status.idle": "2022-12-11T06:41:13.258167Z",
     "shell.execute_reply": "2022-12-11T06:41:13.257668Z"
    },
    "lines_to_next_cell": 0,
    "papermill": {
     "duration": 0.009967,
     "end_time": "2022-12-11T06:41:13.260718",
     "exception": false,
     "start_time": "2022-12-11T06:41:13.250751",
     "status": "completed"
    },
    "tags": []
   },
   "outputs": [],
   "source": [
    "# -----------------------------------------------------------------------"
   ]
  },
  {
   "cell_type": "markdown",
   "id": "fd4af7d4",
   "metadata": {
    "papermill": {
     "duration": 0.003922,
     "end_time": "2022-12-11T06:41:13.268559",
     "exception": false,
     "start_time": "2022-12-11T06:41:13.264637",
     "status": "completed"
    },
    "tags": []
   },
   "source": [
    "---"
   ]
  },
  {
   "cell_type": "markdown",
   "id": "80a82c9f",
   "metadata": {
    "lines_to_next_cell": 2,
    "papermill": {
     "duration": 0.004252,
     "end_time": "2022-12-11T06:41:13.276477",
     "exception": false,
     "start_time": "2022-12-11T06:41:13.272225",
     "status": "completed"
    },
    "tags": []
   },
   "source": [
    "### Notebook code"
   ]
  },
  {
   "cell_type": "code",
   "execution_count": 5,
   "id": "d9b5951b",
   "metadata": {
    "execution": {
     "iopub.execute_input": "2022-12-11T06:41:13.285206Z",
     "iopub.status.busy": "2022-12-11T06:41:13.284994Z",
     "iopub.status.idle": "2022-12-11T06:41:14.412150Z",
     "shell.execute_reply": "2022-12-11T06:41:14.411421Z"
    },
    "papermill": {
     "duration": 1.134004,
     "end_time": "2022-12-11T06:41:14.414508",
     "exception": false,
     "start_time": "2022-12-11T06:41:13.280504",
     "status": "completed"
    },
    "tags": []
   },
   "outputs": [
    {
     "name": "stderr",
     "output_type": "stream",
     "text": [
      "2022-12-11 06:41:14,179\tINFO worker.py:842 -- Connecting to existing Ray cluster at address: 172.17.0.2:6379\n"
     ]
    }
   ],
   "source": [
    "import itertools as it\n",
    "\n",
    "#\n",
    "import numpy as np\n",
    "import matplotlib.pyplot as plt\n",
    "\n",
    "#\n",
    "from pynb_dag_runner.tasks.task_opentelemetry_logging import PydarLogger\n",
    "\n",
    "#\n",
    "from common.io import datalake_root\n",
    "\n",
    "logger = PydarLogger(P)"
   ]
  },
  {
   "cell_type": "markdown",
   "id": "b0b36a00",
   "metadata": {
    "papermill": {
     "duration": 0.008473,
     "end_time": "2022-12-11T06:41:14.427613",
     "exception": false,
     "start_time": "2022-12-11T06:41:14.419140",
     "status": "completed"
    },
    "tags": []
   },
   "source": [
    "## Load persisted onnx-model and evaluation data"
   ]
  },
  {
   "cell_type": "code",
   "execution_count": 6,
   "id": "1c86db60",
   "metadata": {
    "execution": {
     "iopub.execute_input": "2022-12-11T06:41:14.438700Z",
     "iopub.status.busy": "2022-12-11T06:41:14.438371Z",
     "iopub.status.idle": "2022-12-11T06:41:14.441609Z",
     "shell.execute_reply": "2022-12-11T06:41:14.441079Z"
    },
    "papermill": {
     "duration": 0.011612,
     "end_time": "2022-12-11T06:41:14.444726",
     "exception": false,
     "start_time": "2022-12-11T06:41:14.433114",
     "status": "completed"
    },
    "tags": []
   },
   "outputs": [],
   "source": [
    "from common.io import read_onnx, get_onnx_inputs, get_onnx_outputs, read_numpy"
   ]
  },
  {
   "cell_type": "code",
   "execution_count": 7,
   "id": "3e67cd99",
   "metadata": {
    "execution": {
     "iopub.execute_input": "2022-12-11T06:41:14.463806Z",
     "iopub.status.busy": "2022-12-11T06:41:14.463473Z",
     "iopub.status.idle": "2022-12-11T06:41:14.472795Z",
     "shell.execute_reply": "2022-12-11T06:41:14.472116Z"
    },
    "lines_to_next_cell": 0,
    "papermill": {
     "duration": 0.018736,
     "end_time": "2022-12-11T06:41:14.474295",
     "exception": false,
     "start_time": "2022-12-11T06:41:14.455559",
     "status": "completed"
    },
    "tags": []
   },
   "outputs": [],
   "source": [
    "onnx_inference_session = read_onnx(\n",
    "    datalake_root(P)\n",
    "    / \"models\"\n",
    "    / f\"nr_train_images={P['task.nr_train_images']}\"\n",
    "    / \"model.onnx\"\n",
    ")"
   ]
  },
  {
   "cell_type": "markdown",
   "id": "a1883e09",
   "metadata": {
    "papermill": {
     "duration": 0.004499,
     "end_time": "2022-12-11T06:41:14.483650",
     "exception": false,
     "start_time": "2022-12-11T06:41:14.479151",
     "status": "completed"
    },
    "tags": []
   },
   "source": [
    "### Record structure of inputs and outputs for ONNX model\n",
    "\n",
    "(this should likely be done in training notebook)"
   ]
  },
  {
   "cell_type": "code",
   "execution_count": 8,
   "id": "a951b50e",
   "metadata": {
    "execution": {
     "iopub.execute_input": "2022-12-11T06:41:14.494676Z",
     "iopub.status.busy": "2022-12-11T06:41:14.494383Z",
     "iopub.status.idle": "2022-12-11T06:41:14.504602Z",
     "shell.execute_reply": "2022-12-11T06:41:14.499764Z"
    },
    "papermill": {
     "duration": 0.019213,
     "end_time": "2022-12-11T06:41:14.507986",
     "exception": false,
     "start_time": "2022-12-11T06:41:14.488773",
     "status": "completed"
    },
    "tags": []
   },
   "outputs": [
    {
     "name": "stdout",
     "output_type": "stream",
     "text": [
      "{\n",
      "  \"inputs\": [\n",
      "    {\n",
      "      \"name\": \"float_input_8x8_image\",\n",
      "      \"shape\": [\n",
      "        null,\n",
      "        64\n",
      "      ],\n",
      "      \"type\": \"tensor(float)\"\n",
      "    }\n",
      "  ],\n",
      "  \"outputs\": [\n",
      "    {\n",
      "      \"name\": \"output_label\",\n",
      "      \"shape\": [\n",
      "        null\n",
      "      ],\n",
      "      \"type\": \"tensor(int64)\"\n",
      "    },\n",
      "    {\n",
      "      \"name\": \"output_probability\",\n",
      "      \"shape\": [],\n",
      "      \"type\": \"seq(map(int64,tensor(float)))\"\n",
      "    }\n",
      "  ]\n",
      "}\n"
     ]
    }
   ],
   "source": [
    "import json\n",
    "\n",
    "onnx_io = json.dumps(\n",
    "    {\n",
    "        \"inputs\": get_onnx_inputs(onnx_inference_session),\n",
    "        \"outputs\": get_onnx_outputs(onnx_inference_session),\n",
    "    },\n",
    "    indent=2,\n",
    ")\n",
    "\n",
    "\n",
    "logger.log_artefact(\"onnx_io_structure.json\", onnx_io)\n",
    "print(onnx_io)"
   ]
  },
  {
   "cell_type": "markdown",
   "id": "198e6adc",
   "metadata": {
    "papermill": {
     "duration": 0.011177,
     "end_time": "2022-12-11T06:41:14.525755",
     "exception": false,
     "start_time": "2022-12-11T06:41:14.514578",
     "status": "completed"
    },
    "tags": []
   },
   "source": [
    "### Evaluate model performance on evaluation data set"
   ]
  },
  {
   "cell_type": "code",
   "execution_count": 9,
   "id": "3de3be8d",
   "metadata": {
    "execution": {
     "iopub.execute_input": "2022-12-11T06:41:14.538633Z",
     "iopub.status.busy": "2022-12-11T06:41:14.537412Z",
     "iopub.status.idle": "2022-12-11T06:41:14.542962Z",
     "shell.execute_reply": "2022-12-11T06:41:14.542293Z"
    },
    "papermill": {
     "duration": 0.015547,
     "end_time": "2022-12-11T06:41:14.545654",
     "exception": false,
     "start_time": "2022-12-11T06:41:14.530107",
     "status": "completed"
    },
    "tags": []
   },
   "outputs": [],
   "source": [
    "# load evaluation data\n",
    "X_test = read_numpy(datalake_root(P) / \"test-data\" / \"digits.numpy\")\n",
    "y_test = read_numpy(datalake_root(P) / \"test-data\" / \"labels.numpy\")"
   ]
  },
  {
   "cell_type": "code",
   "execution_count": 10,
   "id": "fb431b7e",
   "metadata": {
    "execution": {
     "iopub.execute_input": "2022-12-11T06:41:14.560469Z",
     "iopub.status.busy": "2022-12-11T06:41:14.560215Z",
     "iopub.status.idle": "2022-12-11T06:41:14.574163Z",
     "shell.execute_reply": "2022-12-11T06:41:14.572819Z"
    },
    "papermill": {
     "duration": 0.025416,
     "end_time": "2022-12-11T06:41:14.575816",
     "exception": false,
     "start_time": "2022-12-11T06:41:14.550400",
     "status": "completed"
    },
    "tags": []
   },
   "outputs": [],
   "source": [
    "def get_model_outputs(X, onnx_inference_session):\n",
    "    y_pred_labels, y_pred_map = onnx_inference_session.run(\n",
    "        [\"output_label\", \"output_probability\"],\n",
    "        {\"float_input_8x8_image\": X.astype(np.float32)},\n",
    "    )\n",
    "    y_pred_probs = np.array(\n",
    "        [[probabilities[digit] for digit in range(10)] for probabilities in y_pred_map]\n",
    "    )\n",
    "\n",
    "    assert y_pred_labels.shape == (X.shape[0],)\n",
    "    assert y_pred_probs.shape == (X.shape[0], 10)\n",
    "\n",
    "    return y_pred_labels, y_pred_probs\n",
    "\n",
    "\n",
    "# Note: as shown in the training notebook, the predicted labels and probabilities\n",
    "# computed below need not be compatible.\n",
    "y_pred_labels_test, y_pred_probs_test = get_model_outputs(\n",
    "    X_test, onnx_inference_session\n",
    ")"
   ]
  },
  {
   "cell_type": "markdown",
   "id": "c5fd257c",
   "metadata": {
    "papermill": {
     "duration": 0.004337,
     "end_time": "2022-12-11T06:41:14.592371",
     "exception": false,
     "start_time": "2022-12-11T06:41:14.588034",
     "status": "completed"
    },
    "tags": []
   },
   "source": [
    "### Confusion matrix"
   ]
  },
  {
   "cell_type": "code",
   "execution_count": 11,
   "id": "7279e22c",
   "metadata": {
    "execution": {
     "iopub.execute_input": "2022-12-11T06:41:14.602103Z",
     "iopub.status.busy": "2022-12-11T06:41:14.601648Z",
     "iopub.status.idle": "2022-12-11T06:41:14.604651Z",
     "shell.execute_reply": "2022-12-11T06:41:14.603986Z"
    },
    "papermill": {
     "duration": 0.009704,
     "end_time": "2022-12-11T06:41:14.606304",
     "exception": false,
     "start_time": "2022-12-11T06:41:14.596600",
     "status": "completed"
    },
    "tags": []
   },
   "outputs": [],
   "source": [
    "# TODO"
   ]
  },
  {
   "cell_type": "markdown",
   "id": "09bbad5d",
   "metadata": {
    "papermill": {
     "duration": 0.004104,
     "end_time": "2022-12-11T06:41:14.614701",
     "exception": false,
     "start_time": "2022-12-11T06:41:14.610597",
     "status": "completed"
    },
    "tags": []
   },
   "source": [
    "### Plot predicted probabilities for each classifier over all evaluation digit images"
   ]
  },
  {
   "cell_type": "code",
   "execution_count": 12,
   "id": "611e251b",
   "metadata": {
    "execution": {
     "iopub.execute_input": "2022-12-11T06:41:14.624850Z",
     "iopub.status.busy": "2022-12-11T06:41:14.624239Z",
     "iopub.status.idle": "2022-12-11T06:41:17.543238Z",
     "shell.execute_reply": "2022-12-11T06:41:17.542666Z"
    },
    "papermill": {
     "duration": 2.925824,
     "end_time": "2022-12-11T06:41:17.544970",
     "exception": false,
     "start_time": "2022-12-11T06:41:14.619146",
     "status": "completed"
    },
    "tags": []
   },
   "outputs": [
    {
     "data": {
      "image/png": "[encoded data removed]",
      "text/plain": [
       "<Figure size 1600x600 with 10 Axes>"
      ]
     },
     "metadata": {},
     "output_type": "display_data"
    }
   ],
   "source": [
    "def plot_per_digit_probabilities(y_pred_probs):\n",
    "    fig, axs = plt.subplots(nrows=2, ncols=5, figsize=(16, 6))\n",
    "\n",
    "    for (r, c), digit, ax in zip(\n",
    "        it.product(range(2), range(5)), range(10), axs.reshape(-1)\n",
    "    ):\n",
    "        ax.hist(y_pred_probs_test[:, digit], bins=20)\n",
    "\n",
    "        ax.set_title(f\"Digit {digit}\")\n",
    "        if r == 1 and c == 2:\n",
    "            ax.set_xlabel(\"probability\", fontsize=16)\n",
    "\n",
    "        if c == 0:\n",
    "            ax.set_ylabel(\"counts\", fontsize=16)\n",
    "        ax.set_yscale(\"log\")\n",
    "\n",
    "    fig.tight_layout()\n",
    "    fig.suptitle(\n",
    "        f\"Distributions of prediction probabilities for each digit \"\n",
    "        f\"(on evaluation data, n={y_pred_probs.shape[0]})\",\n",
    "        fontsize=20,\n",
    "    )\n",
    "    fig.tight_layout()\n",
    "    fig.show()\n",
    "\n",
    "    return fig\n",
    "\n",
    "\n",
    "fig = plot_per_digit_probabilities(y_pred_probs_test)"
   ]
  },
  {
   "cell_type": "markdown",
   "id": "e8d9cea5",
   "metadata": {
    "papermill": {
     "duration": 0.005004,
     "end_time": "2022-12-11T06:41:17.556380",
     "exception": false,
     "start_time": "2022-12-11T06:41:17.551376",
     "status": "completed"
    },
    "tags": []
   },
   "source": [
    "From the above distributions we see that most digits have clear separation between\n",
    "high and lower probabilities. Morover, in each case there is roughly an order of\n",
    "magnitude more of digits with low probabilities. This is compatible with digits\n",
    "being roughly evenly distributed in the data."
   ]
  },
  {
   "cell_type": "code",
   "execution_count": 13,
   "id": "6a3a7afe",
   "metadata": {
    "execution": {
     "iopub.execute_input": "2022-12-11T06:41:17.568264Z",
     "iopub.status.busy": "2022-12-11T06:41:17.567993Z",
     "iopub.status.idle": "2022-12-11T06:41:18.031981Z",
     "shell.execute_reply": "2022-12-11T06:41:18.031361Z"
    },
    "papermill": {
     "duration": 0.471768,
     "end_time": "2022-12-11T06:41:18.033979",
     "exception": false,
     "start_time": "2022-12-11T06:41:17.562211",
     "status": "completed"
    },
    "tags": []
   },
   "outputs": [],
   "source": [
    "logger.log_figure(\"per-digit-probabilities.png\", fig)"
   ]
  },
  {
   "cell_type": "markdown",
   "id": "0437e3ea",
   "metadata": {
    "papermill": {
     "duration": 0.00603,
     "end_time": "2022-12-11T06:41:18.046339",
     "exception": false,
     "start_time": "2022-12-11T06:41:18.040309",
     "status": "completed"
    },
    "tags": []
   },
   "source": [
    "### Plot ROC curves for individual one-vs-rest classifiers"
   ]
  },
  {
   "cell_type": "code",
   "execution_count": 14,
   "id": "72fb2150",
   "metadata": {
    "execution": {
     "iopub.execute_input": "2022-12-11T06:41:18.058661Z",
     "iopub.status.busy": "2022-12-11T06:41:18.058381Z",
     "iopub.status.idle": "2022-12-11T06:41:18.477753Z",
     "shell.execute_reply": "2022-12-11T06:41:18.477178Z"
    },
    "papermill": {
     "duration": 0.427964,
     "end_time": "2022-12-11T06:41:18.479670",
     "exception": false,
     "start_time": "2022-12-11T06:41:18.051706",
     "status": "completed"
    },
    "tags": []
   },
   "outputs": [],
   "source": [
    "from sklearn import metrics"
   ]
  },
  {
   "cell_type": "code",
   "execution_count": 15,
   "id": "bb224163",
   "metadata": {
    "execution": {
     "iopub.execute_input": "2022-12-11T06:41:18.491413Z",
     "iopub.status.busy": "2022-12-11T06:41:18.491161Z",
     "iopub.status.idle": "2022-12-11T06:41:19.523865Z",
     "shell.execute_reply": "2022-12-11T06:41:19.522875Z"
    },
    "papermill": {
     "duration": 1.040841,
     "end_time": "2022-12-11T06:41:19.525724",
     "exception": false,
     "start_time": "2022-12-11T06:41:18.484883",
     "status": "completed"
    },
    "tags": []
   },
   "outputs": [
    {
     "data": {
      "image/png": "[encoded data removed]",
      "text/plain": [
       "<Figure size 1600x800 with 10 Axes>"
      ]
     },
     "metadata": {},
     "output_type": "display_data"
    }
   ],
   "source": [
    "def plot_roc_curves(y, y_pred_probs):\n",
    "    # based on example code\n",
    "    # https://scikit-learn.org/stable/auto_examples/model_selection/plot_roc.html\n",
    "\n",
    "    fig, axs = plt.subplots(nrows=2, ncols=5, figsize=(16, 8))\n",
    "\n",
    "    roc_auc_dict = {}\n",
    "\n",
    "    for (r, c), digit, ax in zip(\n",
    "        it.product(range(2), range(5)), range(10), axs.reshape(-1)\n",
    "    ):\n",
    "        fpr, tpr, _ = metrics.roc_curve(y == digit, y_pred_probs[:, digit])\n",
    "        auc = metrics.auc(fpr, tpr)\n",
    "        roc_auc_dict[str(digit)] = auc\n",
    "\n",
    "        ax.plot(fpr, tpr, label=f\"ROC AUC={round(auc, 3)}\")\n",
    "\n",
    "        ax.set_title(f\"\\nDigit {digit}\", fontsize=16)\n",
    "        if r == 1:\n",
    "            ax.set_xlabel(\"FPR\", fontsize=18)\n",
    "\n",
    "        if c == 0:\n",
    "            ax.set_ylabel(\"TPR\", fontsize=18)\n",
    "\n",
    "        ax.set_xlim([-0.05, 1.05])\n",
    "        ax.set_ylim([-0.05, 1.05])\n",
    "        ax.legend(loc=\"lower right\", frameon=False, fontsize=14)\n",
    "\n",
    "    fig.tight_layout()\n",
    "    fig.suptitle(\n",
    "        f\"ROC plots for one-vs-rest performances \"\n",
    "        f\"(on evaluation data, n={y_pred_probs_test.shape[1]}\",\n",
    "        fontsize=22,\n",
    "    )\n",
    "    fig.tight_layout()\n",
    "    fig.show()\n",
    "\n",
    "    return roc_auc_dict, fig\n",
    "\n",
    "\n",
    "roc_auc_dict, fig = plot_roc_curves(y_test, y_pred_probs_test)"
   ]
  },
  {
   "cell_type": "code",
   "execution_count": 16,
   "id": "2563e376",
   "metadata": {
    "execution": {
     "iopub.execute_input": "2022-12-11T06:41:19.542100Z",
     "iopub.status.busy": "2022-12-11T06:41:19.541842Z",
     "iopub.status.idle": "2022-12-11T06:41:19.825153Z",
     "shell.execute_reply": "2022-12-11T06:41:19.824594Z"
    },
    "papermill": {
     "duration": 0.296231,
     "end_time": "2022-12-11T06:41:19.828963",
     "exception": false,
     "start_time": "2022-12-11T06:41:19.532732",
     "status": "completed"
    },
    "tags": []
   },
   "outputs": [],
   "source": [
    "logger.log_figure(\"per-digit-roc-curves.png\", fig)"
   ]
  },
  {
   "cell_type": "code",
   "execution_count": 17,
   "id": "2da78a58",
   "metadata": {
    "execution": {
     "iopub.execute_input": "2022-12-11T06:41:19.845944Z",
     "iopub.status.busy": "2022-12-11T06:41:19.845451Z",
     "iopub.status.idle": "2022-12-11T06:41:19.850831Z",
     "shell.execute_reply": "2022-12-11T06:41:19.849519Z"
    },
    "papermill": {
     "duration": 0.017364,
     "end_time": "2022-12-11T06:41:19.855382",
     "exception": false,
     "start_time": "2022-12-11T06:41:19.838018",
     "status": "completed"
    },
    "tags": []
   },
   "outputs": [
    {
     "data": {
      "text/plain": [
       "{'0': 1.0,\n",
       " '1': 0.9992502343017807,\n",
       " '2': 1.0,\n",
       " '3': 0.9998125585754452,\n",
       " '4': 0.9991236092059138,\n",
       " '5': 0.9988378631677601,\n",
       " '6': 0.999923792104862,\n",
       " '7': 0.9998475842097241,\n",
       " '8': 0.9947588272383354,\n",
       " '9': 0.998818777625362}"
      ]
     },
     "execution_count": 17,
     "metadata": {},
     "output_type": "execute_result"
    }
   ],
   "source": [
    "roc_auc_dict"
   ]
  },
  {
   "cell_type": "code",
   "execution_count": 18,
   "id": "9a150334",
   "metadata": {
    "execution": {
     "iopub.execute_input": "2022-12-11T06:41:19.877581Z",
     "iopub.status.busy": "2022-12-11T06:41:19.877128Z",
     "iopub.status.idle": "2022-12-11T06:41:19.881329Z",
     "shell.execute_reply": "2022-12-11T06:41:19.880675Z"
    },
    "papermill": {
     "duration": 0.016156,
     "end_time": "2022-12-11T06:41:19.884276",
     "exception": false,
     "start_time": "2022-12-11T06:41:19.868120",
     "status": "completed"
    },
    "tags": []
   },
   "outputs": [
    {
     "name": "stdout",
     "output_type": "stream",
     "text": [
      " - Logging roc_auc_per_digit (json) : {'0': 1.0, '1': 0.9992502343017807, '2': 1.0, '3': 0.9998125585754452, '4': 0.9991236092059138, '5': 0.9988378631677601, '6': 0.999923792104862, '7': 0.9998475842097241, '8': 0.9947588272383354, '9': 0.998818777625362}\n"
     ]
    }
   ],
   "source": [
    "logger.log_value(\"roc_auc_per_digit\", roc_auc_dict)"
   ]
  },
  {
   "cell_type": "markdown",
   "id": "9bad0240",
   "metadata": {
    "papermill": {
     "duration": 0.010166,
     "end_time": "2022-12-11T06:41:19.900930",
     "exception": false,
     "start_time": "2022-12-11T06:41:19.890764",
     "status": "completed"
    },
    "tags": []
   },
   "source": [
    "### Compute and log mean ROC AUC score averaged over all digits"
   ]
  },
  {
   "cell_type": "code",
   "execution_count": 19,
   "id": "b37a6bcc",
   "metadata": {
    "execution": {
     "iopub.execute_input": "2022-12-11T06:41:19.923240Z",
     "iopub.status.busy": "2022-12-11T06:41:19.922966Z",
     "iopub.status.idle": "2022-12-11T06:41:19.937276Z",
     "shell.execute_reply": "2022-12-11T06:41:19.936344Z"
    },
    "papermill": {
     "duration": 0.023635,
     "end_time": "2022-12-11T06:41:19.938670",
     "exception": false,
     "start_time": "2022-12-11T06:41:19.915035",
     "status": "completed"
    },
    "tags": []
   },
   "outputs": [
    {
     "name": "stdout",
     "output_type": "stream",
     "text": [
      " - Logging roc_auc_class_mean (float) : 0.9990373246429183\n"
     ]
    }
   ],
   "source": [
    "roc_auc_macro = np.mean(list(roc_auc_dict.values()))\n",
    "\n",
    "logger.log_float(\"roc_auc_class_mean\", roc_auc_macro)\n",
    "\n",
    "# assert that the same value can be computed directly using sklearn\n",
    "assert roc_auc_macro == metrics.roc_auc_score(\n",
    "    y_test, y_pred_probs_test, average=\"macro\", multi_class=\"ovr\"\n",
    ")"
   ]
  },
  {
   "cell_type": "code",
   "execution_count": 20,
   "id": "c68715f2",
   "metadata": {
    "execution": {
     "iopub.execute_input": "2022-12-11T06:41:19.953505Z",
     "iopub.status.busy": "2022-12-11T06:41:19.953061Z",
     "iopub.status.idle": "2022-12-11T06:41:19.956391Z",
     "shell.execute_reply": "2022-12-11T06:41:19.955494Z"
    },
    "lines_to_next_cell": 0,
    "papermill": {
     "duration": 0.013122,
     "end_time": "2022-12-11T06:41:19.958681",
     "exception": false,
     "start_time": "2022-12-11T06:41:19.945559",
     "status": "completed"
    },
    "tags": []
   },
   "outputs": [],
   "source": [
    "# ---"
   ]
  },
  {
   "cell_type": "code",
   "execution_count": null,
   "id": "e02b39e7",
   "metadata": {
    "papermill": {
     "duration": 0.006439,
     "end_time": "2022-12-11T06:41:19.971995",
     "exception": false,
     "start_time": "2022-12-11T06:41:19.965556",
     "status": "completed"
    },
    "tags": []
   },
   "outputs": [],
   "source": []
  }
 ],
 "metadata": {
  "jupytext": {
   "cell_metadata_filter": "tags,-all",
   "main_language": "python",
   "notebook_metadata_filter": "-all"
  },
  "language_info": {
   "codemirror_mode": {
    "name": "ipython",
    "version": 3
   },
   "file_extension": ".py",
   "mimetype": "text/x-python",
   "name": "python",
   "nbconvert_exporter": "python",
   "pygments_lexer": "ipython3",
   "version": "3.8.10"
  },
  "papermill": {
   "default_parameters": {},
   "duration": 9.251378,
   "end_time": "2022-12-11T06:41:21.099357",
   "environment_variables": {},
   "exception": null,
   "input_path": "/home/host_user/workspace/mnist-demo-pipeline/mnist-demo-pipeline/notebooks/temp-notebook-8paodtgk.ipynb",
   "output_path": "notebooks/benchmark-model.ipynb",
   "parameters": {
    "P": {
     "_opentelemetry_traceparent": "00-9dd51a17dc70753ce85eae75616a86fd-a0196252a1fa8d5b-01",
     "pipeline.data_lake_root": "/pipeline-outputs/data-lake",
     "pipeline.github.actor": "matiasdahl",
     "pipeline.github.base_ref": "",
     "pipeline.github.event_name": "schedule",
     "pipeline.github.head_ref": "",
     "pipeline.github.job": "run-tests-pipeline-and-persist-pipeline-outputs",
     "pipeline.github.ref": "refs/heads/development",
     "pipeline.github.ref_name": "development",
     "pipeline.github.ref_type": "branch",
     "pipeline.github.repository": "matiasdahl/dev-mnist-digits-demo-pipeline",
     "pipeline.github.run_id": "3667777653",
     "pipeline.github.runner_name": "Hosted Agent",
     "pipeline.github.sha": "ace0d01011d5e914f1921450dd5a59c11367b38d",
     "pipeline.github.workflow": "Run automated tests, pipeline and deploy results to static reporting site",
     "pipeline.pipeline_run_id": "b3ff047b-f05b-4270-8ac0-9227d96a1a35",
     "pipeline.run_environment": "ci",
     "run.retry_nr": "0",
     "task.max_nr_retries": "1",
     "task.notebook": "notebooks/benchmark-model.py",
     "task.nr_train_images": 600,
     "task.num_cpus": 1,
     "task.timeout_s": "None"
    }
   },
   "start_time": "2022-12-11T06:41:11.847979",
   "version": "2.3.3"
  }
 },
 "nbformat": 4,
 "nbformat_minor": 5
}