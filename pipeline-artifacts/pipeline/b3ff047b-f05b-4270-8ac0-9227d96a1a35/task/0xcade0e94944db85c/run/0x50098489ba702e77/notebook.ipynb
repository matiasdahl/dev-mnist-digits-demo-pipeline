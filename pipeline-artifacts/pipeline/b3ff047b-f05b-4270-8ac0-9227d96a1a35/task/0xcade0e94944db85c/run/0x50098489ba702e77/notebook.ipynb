{
 "cells": [
  {
   "cell_type": "markdown",
   "id": "0ef58fc1",
   "metadata": {
    "papermill": {
     "duration": 0.0035,
     "end_time": "2022-12-11T06:41:28.769205",
     "exception": false,
     "start_time": "2022-12-11T06:41:28.765705",
     "status": "completed"
    },
    "tags": []
   },
   "source": [
    "# Summarize model performances\n",
    "\n",
    "This notebooks plots the performances (using averaged ROC AUC scores) for models\n",
    "trained with different training sets."
   ]
  },
  {
   "cell_type": "markdown",
   "id": "c0380ffa",
   "metadata": {
    "papermill": {
     "duration": 0.002431,
     "end_time": "2022-12-11T06:41:28.774530",
     "exception": false,
     "start_time": "2022-12-11T06:41:28.772099",
     "status": "completed"
    },
    "tags": []
   },
   "source": [
    "### Determine run parameters"
   ]
  },
  {
   "cell_type": "code",
   "execution_count": 1,
   "id": "4050ed80",
   "metadata": {
    "execution": {
     "iopub.execute_input": "2022-12-11T06:41:28.781203Z",
     "iopub.status.busy": "2022-12-11T06:41:28.780431Z",
     "iopub.status.idle": "2022-12-11T06:41:28.787573Z",
     "shell.execute_reply": "2022-12-11T06:41:28.786993Z"
    },
    "lines_to_next_cell": 0,
    "papermill": {
     "duration": 0.011993,
     "end_time": "2022-12-11T06:41:28.789052",
     "exception": false,
     "start_time": "2022-12-11T06:41:28.777059",
     "status": "completed"
    },
    "tags": []
   },
   "outputs": [],
   "source": [
    "# ----------------- Parameters for interactive development --------------\n",
    "P = {\n",
    "    \"pipeline.run_environment\": \"dev\",\n",
    "}"
   ]
  },
  {
   "cell_type": "code",
   "execution_count": 2,
   "id": "ece36ea5",
   "metadata": {
    "execution": {
     "iopub.execute_input": "2022-12-11T06:41:28.795169Z",
     "iopub.status.busy": "2022-12-11T06:41:28.794720Z",
     "iopub.status.idle": "2022-12-11T06:41:28.797511Z",
     "shell.execute_reply": "2022-12-11T06:41:28.797020Z"
    },
    "lines_to_next_cell": 0,
    "papermill": {
     "duration": 0.00746,
     "end_time": "2022-12-11T06:41:28.798862",
     "exception": false,
     "start_time": "2022-12-11T06:41:28.791402",
     "status": "completed"
    },
    "tags": [
     "parameters"
    ]
   },
   "outputs": [],
   "source": [
    "# - During automated runs parameters will be injected in the below cell -"
   ]
  },
  {
   "cell_type": "code",
   "execution_count": 3,
   "id": "e74c9745",
   "metadata": {
    "execution": {
     "iopub.execute_input": "2022-12-11T06:41:28.805108Z",
     "iopub.status.busy": "2022-12-11T06:41:28.804469Z",
     "iopub.status.idle": "2022-12-11T06:41:28.809165Z",
     "shell.execute_reply": "2022-12-11T06:41:28.808494Z"
    },
    "papermill": {
     "duration": 0.009367,
     "end_time": "2022-12-11T06:41:28.810547",
     "exception": false,
     "start_time": "2022-12-11T06:41:28.801180",
     "status": "completed"
    },
    "tags": [
     "injected-parameters"
    ]
   },
   "outputs": [],
   "source": [
    "# Parameters\n",
    "P = {\n",
    "    \"pipeline.data_lake_root\": \"/pipeline-outputs/data-lake\",\n",
    "    \"pipeline.run_environment\": \"ci\",\n",
    "    \"pipeline.pipeline_run_id\": \"b3ff047b-f05b-4270-8ac0-9227d96a1a35\",\n",
    "    \"pipeline.github.repository\": \"matiasdahl/dev-mnist-digits-demo-pipeline\",\n",
    "    \"pipeline.github.workflow\": \"Run automated tests, pipeline and deploy results to static reporting site\",\n",
    "    \"pipeline.github.runner_name\": \"Hosted Agent\",\n",
    "    \"pipeline.github.run_id\": \"3667777653\",\n",
    "    \"pipeline.github.actor\": \"matiasdahl\",\n",
    "    \"pipeline.github.job\": \"run-tests-pipeline-and-persist-pipeline-outputs\",\n",
    "    \"pipeline.github.base_ref\": \"\",\n",
    "    \"pipeline.github.head_ref\": \"\",\n",
    "    \"pipeline.github.sha\": \"ace0d01011d5e914f1921450dd5a59c11367b38d\",\n",
    "    \"pipeline.github.ref\": \"refs/heads/development\",\n",
    "    \"pipeline.github.ref_type\": \"branch\",\n",
    "    \"pipeline.github.ref_name\": \"development\",\n",
    "    \"pipeline.github.event_name\": \"schedule\",\n",
    "    \"task.notebook\": \"notebooks/summary.py\",\n",
    "    \"task.max_nr_retries\": \"1\",\n",
    "    \"run.retry_nr\": \"0\",\n",
    "    \"task.timeout_s\": \"None\",\n",
    "    \"task.num_cpus\": 1,\n",
    "    \"_opentelemetry_traceparent\": \"00-9dd51a17dc70753ce85eae75616a86fd-e680bfa24271f279-01\",\n",
    "}\n"
   ]
  },
  {
   "cell_type": "code",
   "execution_count": 4,
   "id": "b1e4394c",
   "metadata": {
    "execution": {
     "iopub.execute_input": "2022-12-11T06:41:28.816930Z",
     "iopub.status.busy": "2022-12-11T06:41:28.816360Z",
     "iopub.status.idle": "2022-12-11T06:41:28.820200Z",
     "shell.execute_reply": "2022-12-11T06:41:28.818868Z"
    },
    "lines_to_next_cell": 0,
    "papermill": {
     "duration": 0.008494,
     "end_time": "2022-12-11T06:41:28.821549",
     "exception": false,
     "start_time": "2022-12-11T06:41:28.813055",
     "status": "completed"
    },
    "tags": []
   },
   "outputs": [],
   "source": [
    "# -----------------------------------------------------------------------"
   ]
  },
  {
   "cell_type": "markdown",
   "id": "ad650f41",
   "metadata": {
    "papermill": {
     "duration": 0.002319,
     "end_time": "2022-12-11T06:41:28.826315",
     "exception": false,
     "start_time": "2022-12-11T06:41:28.823996",
     "status": "completed"
    },
    "tags": []
   },
   "source": [
    "---"
   ]
  },
  {
   "cell_type": "markdown",
   "id": "d427f8ab",
   "metadata": {
    "lines_to_next_cell": 2,
    "papermill": {
     "duration": 0.002407,
     "end_time": "2022-12-11T06:41:28.831198",
     "exception": false,
     "start_time": "2022-12-11T06:41:28.828791",
     "status": "completed"
    },
    "tags": []
   },
   "source": [
    "### Notebook code"
   ]
  },
  {
   "cell_type": "code",
   "execution_count": 5,
   "id": "d098c5d3",
   "metadata": {
    "execution": {
     "iopub.execute_input": "2022-12-11T06:41:28.841185Z",
     "iopub.status.busy": "2022-12-11T06:41:28.839967Z",
     "iopub.status.idle": "2022-12-11T06:41:29.905471Z",
     "shell.execute_reply": "2022-12-11T06:41:29.904713Z"
    },
    "papermill": {
     "duration": 1.070871,
     "end_time": "2022-12-11T06:41:29.907618",
     "exception": false,
     "start_time": "2022-12-11T06:41:28.836747",
     "status": "completed"
    },
    "tags": []
   },
   "outputs": [],
   "source": [
    "#\n",
    "import pandas as pd\n",
    "import matplotlib.pyplot as plt\n",
    "\n",
    "#\n",
    "from pynb_dag_runner.tasks.task_opentelemetry_logging import PydarLogger"
   ]
  },
  {
   "cell_type": "code",
   "execution_count": 6,
   "id": "7c2ba1d8",
   "metadata": {
    "execution": {
     "iopub.execute_input": "2022-12-11T06:41:29.914680Z",
     "iopub.status.busy": "2022-12-11T06:41:29.914148Z",
     "iopub.status.idle": "2022-12-11T06:41:30.065891Z",
     "shell.execute_reply": "2022-12-11T06:41:30.065264Z"
    },
    "papermill": {
     "duration": 0.157277,
     "end_time": "2022-12-11T06:41:30.067808",
     "exception": false,
     "start_time": "2022-12-11T06:41:29.910531",
     "status": "completed"
    },
    "tags": []
   },
   "outputs": [
    {
     "name": "stderr",
     "output_type": "stream",
     "text": [
      "2022-12-11 06:41:29,918\tINFO worker.py:842 -- Connecting to existing Ray cluster at address: 172.17.0.2:6379\n"
     ]
    }
   ],
   "source": [
    "logger = PydarLogger(P=P)"
   ]
  },
  {
   "cell_type": "code",
   "execution_count": 7,
   "id": "0d467a1d",
   "metadata": {
    "execution": {
     "iopub.execute_input": "2022-12-11T06:41:30.075865Z",
     "iopub.status.busy": "2022-12-11T06:41:30.075092Z",
     "iopub.status.idle": "2022-12-11T06:41:30.078869Z",
     "shell.execute_reply": "2022-12-11T06:41:30.078340Z"
    },
    "papermill": {
     "duration": 0.009155,
     "end_time": "2022-12-11T06:41:30.080247",
     "exception": false,
     "start_time": "2022-12-11T06:41:30.071092",
     "status": "completed"
    },
    "tags": []
   },
   "outputs": [],
   "source": [
    "from pynb_dag_runner.tasks.task_opentelemetry_logging import (\n",
    "    PydarLogger,\n",
    "    get_logged_values,\n",
    ")\n",
    "from pynb_dag_runner.opentelemetry_helpers import _get_all_spans, Spans"
   ]
  },
  {
   "cell_type": "code",
   "execution_count": 8,
   "id": "9d104da0",
   "metadata": {
    "execution": {
     "iopub.execute_input": "2022-12-11T06:41:30.087918Z",
     "iopub.status.busy": "2022-12-11T06:41:30.087124Z",
     "iopub.status.idle": "2022-12-11T06:41:30.094014Z",
     "shell.execute_reply": "2022-12-11T06:41:30.093493Z"
    },
    "papermill": {
     "duration": 0.012047,
     "end_time": "2022-12-11T06:41:30.095411",
     "exception": false,
     "start_time": "2022-12-11T06:41:30.083364",
     "status": "completed"
    },
    "tags": []
   },
   "outputs": [],
   "source": [
    "def get_model_benchmarks():\n",
    "    \"\"\"\n",
    "    Query the OpenTelemetry logs for *this pipeline run* and return\n",
    "    all key-values logged from all runs of the benchmark-model.py task\n",
    "\n",
    "    For testing a json file with OpenTelemetry spans (as an array)\n",
    "    can be used as follows:\n",
    "\n",
    "    - Create output directory `mkdir /tmp/spans`\n",
    "    - Run unit tests. This will create pipeline-outputs/opentelemetry-spans.json\n",
    "    - Convert this json-array into jsonl format as follows\n",
    "\n",
    "    jq -c '.[]' /pipeline-outputs/opentelemetry-spans.json > /tmp/spans/data.txt\n",
    "\n",
    "    \"\"\"\n",
    "    spans: Spans = Spans(_get_all_spans())\n",
    "    print(f\"Found {len(spans)} spans\")\n",
    "\n",
    "    benchmark_spans = (\n",
    "        spans\n",
    "        # -\n",
    "        .filter([\"name\"], \"execute-task\")\n",
    "        # -\n",
    "        .filter([\"attributes\", \"task.notebook\"], \"notebooks/benchmark-model.py\")\n",
    "    )\n",
    "\n",
    "    result = []\n",
    "    for s in benchmark_spans:\n",
    "        result.append(\n",
    "            {\n",
    "                \"span_id\": s[\"context\"][\"span_id\"],\n",
    "                \"nr_train_images\": s[\"attributes\"][\"task.nr_train_images\"],\n",
    "                \"data\": get_logged_values(spans.bound_under(s)),\n",
    "            }\n",
    "        )\n",
    "\n",
    "    return result\n",
    "\n",
    "\n",
    "def adjust_pandas(df):\n",
    "    def column_renamer(col_name: str) -> str:\n",
    "        return (\n",
    "            col_name\n",
    "            # -- 'data.roc_auc_per_digit.4' -> 'roc_auc.4'\n",
    "            .replace(\"data.roc_auc_per_digit\", \"roc_auc\")\n",
    "            # -- 'data.roc_auc_class_mean' -> 'roc_auc_mean'\n",
    "            .replace(\"data.roc_auc_class_mean\", \"roc_auc_mean\")\n",
    "        )\n",
    "\n",
    "    return df.rename(column_renamer, axis=\"columns\").sort_values(by=\"nr_train_images\")"
   ]
  },
  {
   "cell_type": "code",
   "execution_count": 9,
   "id": "758d6307",
   "metadata": {
    "execution": {
     "iopub.execute_input": "2022-12-11T06:41:30.102631Z",
     "iopub.status.busy": "2022-12-11T06:41:30.102219Z",
     "iopub.status.idle": "2022-12-11T06:41:30.141013Z",
     "shell.execute_reply": "2022-12-11T06:41:30.140491Z"
    },
    "papermill": {
     "duration": 0.04425,
     "end_time": "2022-12-11T06:41:30.142606",
     "exception": false,
     "start_time": "2022-12-11T06:41:30.098356",
     "status": "completed"
    },
    "tags": []
   },
   "outputs": [
    {
     "name": "stdout",
     "output_type": "stream",
     "text": [
      "Found 420 spans\n"
     ]
    }
   ],
   "source": [
    "df_data = adjust_pandas(pd.json_normalize(get_model_benchmarks()))"
   ]
  },
  {
   "cell_type": "code",
   "execution_count": 10,
   "id": "aec71aa3",
   "metadata": {
    "execution": {
     "iopub.execute_input": "2022-12-11T06:41:30.149912Z",
     "iopub.status.busy": "2022-12-11T06:41:30.149567Z",
     "iopub.status.idle": "2022-12-11T06:41:30.172965Z",
     "shell.execute_reply": "2022-12-11T06:41:30.172422Z"
    },
    "papermill": {
     "duration": 0.030365,
     "end_time": "2022-12-11T06:41:30.175972",
     "exception": false,
     "start_time": "2022-12-11T06:41:30.145607",
     "status": "completed"
    },
    "tags": []
   },
   "outputs": [
    {
     "data": {
      "text/html": [
       "<div>\n",
       "<style scoped>\n",
       "    .dataframe tbody tr th:only-of-type {\n",
       "        vertical-align: middle;\n",
       "    }\n",
       "\n",
       "    .dataframe tbody tr th {\n",
       "        vertical-align: top;\n",
       "    }\n",
       "\n",
       "    .dataframe thead th {\n",
       "        text-align: right;\n",
       "    }\n",
       "</style>\n",
       "<table border=\"1\" class=\"dataframe\">\n",
       "  <thead>\n",
       "    <tr style=\"text-align: right;\">\n",
       "      <th></th>\n",
       "      <th>span_id</th>\n",
       "      <th>nr_train_images</th>\n",
       "      <th>roc_auc_mean</th>\n",
       "      <th>roc_auc.0</th>\n",
       "      <th>roc_auc.1</th>\n",
       "      <th>roc_auc.2</th>\n",
       "      <th>roc_auc.3</th>\n",
       "      <th>roc_auc.4</th>\n",
       "      <th>roc_auc.5</th>\n",
       "      <th>roc_auc.6</th>\n",
       "      <th>roc_auc.7</th>\n",
       "      <th>roc_auc.8</th>\n",
       "      <th>roc_auc.9</th>\n",
       "    </tr>\n",
       "  </thead>\n",
       "  <tbody>\n",
       "    <tr>\n",
       "      <th>2</th>\n",
       "      <td>0x856c852d649a2a78</td>\n",
       "      <td>600</td>\n",
       "      <td>0.9990</td>\n",
       "      <td>1.0</td>\n",
       "      <td>0.9993</td>\n",
       "      <td>1.0</td>\n",
       "      <td>0.9998</td>\n",
       "      <td>0.9991</td>\n",
       "      <td>0.9988</td>\n",
       "      <td>0.9999</td>\n",
       "      <td>0.9998</td>\n",
       "      <td>0.9948</td>\n",
       "      <td>0.9988</td>\n",
       "    </tr>\n",
       "    <tr>\n",
       "      <th>0</th>\n",
       "      <td>0xda0aa4f7a4d640f2</td>\n",
       "      <td>800</td>\n",
       "      <td>0.9990</td>\n",
       "      <td>1.0</td>\n",
       "      <td>0.9988</td>\n",
       "      <td>1.0</td>\n",
       "      <td>0.9999</td>\n",
       "      <td>0.9995</td>\n",
       "      <td>0.9991</td>\n",
       "      <td>0.9999</td>\n",
       "      <td>0.9999</td>\n",
       "      <td>0.9934</td>\n",
       "      <td>0.9994</td>\n",
       "    </tr>\n",
       "    <tr>\n",
       "      <th>3</th>\n",
       "      <td>0x7ba17a2f05f2020d</td>\n",
       "      <td>1000</td>\n",
       "      <td>0.9992</td>\n",
       "      <td>1.0</td>\n",
       "      <td>0.9990</td>\n",
       "      <td>1.0</td>\n",
       "      <td>0.9999</td>\n",
       "      <td>0.9996</td>\n",
       "      <td>0.9994</td>\n",
       "      <td>0.9999</td>\n",
       "      <td>0.9998</td>\n",
       "      <td>0.9953</td>\n",
       "      <td>0.9996</td>\n",
       "    </tr>\n",
       "    <tr>\n",
       "      <th>1</th>\n",
       "      <td>0x51e057646607a422</td>\n",
       "      <td>1200</td>\n",
       "      <td>0.9993</td>\n",
       "      <td>1.0</td>\n",
       "      <td>0.9989</td>\n",
       "      <td>1.0</td>\n",
       "      <td>0.9999</td>\n",
       "      <td>0.9997</td>\n",
       "      <td>0.9997</td>\n",
       "      <td>0.9999</td>\n",
       "      <td>0.9998</td>\n",
       "      <td>0.9957</td>\n",
       "      <td>0.9997</td>\n",
       "    </tr>\n",
       "  </tbody>\n",
       "</table>\n",
       "</div>"
      ],
      "text/plain": [
       "              span_id  nr_train_images  roc_auc_mean  roc_auc.0  roc_auc.1  \\\n",
       "2  0x856c852d649a2a78              600        0.9990        1.0     0.9993   \n",
       "0  0xda0aa4f7a4d640f2              800        0.9990        1.0     0.9988   \n",
       "3  0x7ba17a2f05f2020d             1000        0.9992        1.0     0.9990   \n",
       "1  0x51e057646607a422             1200        0.9993        1.0     0.9989   \n",
       "\n",
       "   roc_auc.2  roc_auc.3  roc_auc.4  roc_auc.5  roc_auc.6  roc_auc.7  \\\n",
       "2        1.0     0.9998     0.9991     0.9988     0.9999     0.9998   \n",
       "0        1.0     0.9999     0.9995     0.9991     0.9999     0.9999   \n",
       "3        1.0     0.9999     0.9996     0.9994     0.9999     0.9998   \n",
       "1        1.0     0.9999     0.9997     0.9997     0.9999     0.9998   \n",
       "\n",
       "   roc_auc.8  roc_auc.9  \n",
       "2     0.9948     0.9988  \n",
       "0     0.9934     0.9994  \n",
       "3     0.9953     0.9996  \n",
       "1     0.9957     0.9997  "
      ]
     },
     "execution_count": 10,
     "metadata": {},
     "output_type": "execute_result"
    }
   ],
   "source": [
    "df_data.round(4)"
   ]
  },
  {
   "cell_type": "code",
   "execution_count": 11,
   "id": "73990afe",
   "metadata": {
    "execution": {
     "iopub.execute_input": "2022-12-11T06:41:30.184502Z",
     "iopub.status.busy": "2022-12-11T06:41:30.183991Z",
     "iopub.status.idle": "2022-12-11T06:41:30.363675Z",
     "shell.execute_reply": "2022-12-11T06:41:30.362900Z"
    },
    "papermill": {
     "duration": 0.186052,
     "end_time": "2022-12-11T06:41:30.365840",
     "exception": false,
     "start_time": "2022-12-11T06:41:30.179788",
     "status": "completed"
    },
    "tags": []
   },
   "outputs": [
    {
     "data": {
      "image/png": "[encoded data removed]",
      "text/plain": [
       "<Figure size 1600x400 with 1 Axes>"
      ]
     },
     "metadata": {},
     "output_type": "display_data"
    }
   ],
   "source": [
    "def plot_classifier_performance_summary(df_data):\n",
    "    fig, ax = plt.subplots(nrows=1, ncols=1, figsize=(16, 4), sharex=True)\n",
    "\n",
    "    #\n",
    "    ax.plot(\n",
    "        df_data[\"nr_train_images\"], df_data[\"roc_auc_mean\"], marker=\"o\", linestyle=\"--\"\n",
    "    )\n",
    "    ax.set_title(\n",
    "        f\"ROC AUC digit classifier performance on evaluation digits\", fontsize=17\n",
    "    )\n",
    "    ax.set_xlabel(\"Total number of digits in training set\", fontsize=14)\n",
    "    ax.set_ylabel(\"Mean ROC AUC\", fontsize=14)\n",
    "\n",
    "    fig.tight_layout()\n",
    "    fig.show()\n",
    "\n",
    "    return fig\n",
    "\n",
    "\n",
    "fig = plot_classifier_performance_summary(df_data)"
   ]
  },
  {
   "cell_type": "code",
   "execution_count": 12,
   "id": "612e8dca",
   "metadata": {
    "execution": {
     "iopub.execute_input": "2022-12-11T06:41:30.375491Z",
     "iopub.status.busy": "2022-12-11T06:41:30.375194Z",
     "iopub.status.idle": "2022-12-11T06:41:30.450194Z",
     "shell.execute_reply": "2022-12-11T06:41:30.449537Z"
    },
    "papermill": {
     "duration": 0.082157,
     "end_time": "2022-12-11T06:41:30.452233",
     "exception": false,
     "start_time": "2022-12-11T06:41:30.370076",
     "status": "completed"
    },
    "tags": []
   },
   "outputs": [],
   "source": [
    "logger.log_figure(\"auc-roc-model-performances.png\", fig)"
   ]
  },
  {
   "cell_type": "code",
   "execution_count": 13,
   "id": "4064b478",
   "metadata": {
    "execution": {
     "iopub.execute_input": "2022-12-11T06:41:30.461613Z",
     "iopub.status.busy": "2022-12-11T06:41:30.461204Z",
     "iopub.status.idle": "2022-12-11T06:41:30.464459Z",
     "shell.execute_reply": "2022-12-11T06:41:30.463681Z"
    },
    "papermill": {
     "duration": 0.009676,
     "end_time": "2022-12-11T06:41:30.466013",
     "exception": false,
     "start_time": "2022-12-11T06:41:30.456337",
     "status": "completed"
    },
    "tags": []
   },
   "outputs": [],
   "source": [
    "###"
   ]
  },
  {
   "cell_type": "code",
   "execution_count": null,
   "id": "88616b8b",
   "metadata": {
    "papermill": {
     "duration": 0.003859,
     "end_time": "2022-12-11T06:41:30.473715",
     "exception": false,
     "start_time": "2022-12-11T06:41:30.469856",
     "status": "completed"
    },
    "tags": []
   },
   "outputs": [],
   "source": []
  }
 ],
 "metadata": {
  "jupytext": {
   "cell_metadata_filter": "tags,-all",
   "main_language": "python",
   "notebook_metadata_filter": "-all"
  },
  "language_info": {
   "codemirror_mode": {
    "name": "ipython",
    "version": 3
   },
   "file_extension": ".py",
   "mimetype": "text/x-python",
   "name": "python",
   "nbconvert_exporter": "python",
   "pygments_lexer": "ipython3",
   "version": "3.8.10"
  },
  "papermill": {
   "default_parameters": {},
   "duration": 4.102528,
   "end_time": "2022-12-11T06:41:31.498536",
   "environment_variables": {},
   "exception": null,
   "input_path": "/home/host_user/workspace/mnist-demo-pipeline/mnist-demo-pipeline/notebooks/temp-notebook-eslye_up.ipynb",
   "output_path": "notebooks/summary.ipynb",
   "parameters": {
    "P": {
     "_opentelemetry_traceparent": "00-9dd51a17dc70753ce85eae75616a86fd-e680bfa24271f279-01",
     "pipeline.data_lake_root": "/pipeline-outputs/data-lake",
     "pipeline.github.actor": "matiasdahl",
     "pipeline.github.base_ref": "",
     "pipeline.github.event_name": "schedule",
     "pipeline.github.head_ref": "",
     "pipeline.github.job": "run-tests-pipeline-and-persist-pipeline-outputs",
     "pipeline.github.ref": "refs/heads/development",
     "pipeline.github.ref_name": "development",
     "pipeline.github.ref_type": "branch",
     "pipeline.github.repository": "matiasdahl/dev-mnist-digits-demo-pipeline",
     "pipeline.github.run_id": "3667777653",
     "pipeline.github.runner_name": "Hosted Agent",
     "pipeline.github.sha": "ace0d01011d5e914f1921450dd5a59c11367b38d",
     "pipeline.github.workflow": "Run automated tests, pipeline and deploy results to static reporting site",
     "pipeline.pipeline_run_id": "b3ff047b-f05b-4270-8ac0-9227d96a1a35",
     "pipeline.run_environment": "ci",
     "run.retry_nr": "0",
     "task.max_nr_retries": "1",
     "task.notebook": "notebooks/summary.py",
     "task.num_cpus": 1,
     "task.timeout_s": "None"
    }
   },
   "start_time": "2022-12-11T06:41:27.396008",
   "version": "2.3.3"
  }
 },
 "nbformat": 4,
 "nbformat_minor": 5
}