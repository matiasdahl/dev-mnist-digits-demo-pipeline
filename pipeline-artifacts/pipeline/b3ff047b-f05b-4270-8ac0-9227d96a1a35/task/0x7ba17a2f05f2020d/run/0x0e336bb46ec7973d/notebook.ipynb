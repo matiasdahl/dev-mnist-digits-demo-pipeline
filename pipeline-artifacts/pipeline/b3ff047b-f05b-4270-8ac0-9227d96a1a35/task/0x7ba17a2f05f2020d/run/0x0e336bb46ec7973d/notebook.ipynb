{
 "cells": [
  {
   "cell_type": "markdown",
   "id": "22111cd3",
   "metadata": {
    "papermill": {
     "duration": 0.005206,
     "end_time": "2022-12-11T06:41:07.626645",
     "exception": false,
     "start_time": "2022-12-11T06:41:07.621439",
     "status": "completed"
    },
    "tags": []
   },
   "source": [
    "# Benchmark model\n",
    "\n",
    "The purpose of this notebook is to benchmark persisted onnx-model (trained in the\n",
    "previous step) against evaluation set."
   ]
  },
  {
   "cell_type": "markdown",
   "id": "edc9d595",
   "metadata": {
    "papermill": {
     "duration": 0.003951,
     "end_time": "2022-12-11T06:41:07.635611",
     "exception": false,
     "start_time": "2022-12-11T06:41:07.631660",
     "status": "completed"
    },
    "tags": []
   },
   "source": [
    "### Determine run parameters"
   ]
  },
  {
   "cell_type": "code",
   "execution_count": 1,
   "id": "18764d63",
   "metadata": {
    "execution": {
     "iopub.execute_input": "2022-12-11T06:41:07.645729Z",
     "iopub.status.busy": "2022-12-11T06:41:07.645432Z",
     "iopub.status.idle": "2022-12-11T06:41:07.653160Z",
     "shell.execute_reply": "2022-12-11T06:41:07.652383Z"
    },
    "lines_to_next_cell": 0,
    "papermill": {
     "duration": 0.016133,
     "end_time": "2022-12-11T06:41:07.655789",
     "exception": false,
     "start_time": "2022-12-11T06:41:07.639656",
     "status": "completed"
    },
    "tags": []
   },
   "outputs": [],
   "source": [
    "# ----------------- Parameters for interactive development --------------\n",
    "P = {\n",
    "    \"pipeline.data_lake_root\": \"/pipeline-outputs/data-lake\",\n",
    "    \"task.nr_train_images\": 600,\n",
    "}"
   ]
  },
  {
   "cell_type": "code",
   "execution_count": 2,
   "id": "c510958b",
   "metadata": {
    "execution": {
     "iopub.execute_input": "2022-12-11T06:41:07.664909Z",
     "iopub.status.busy": "2022-12-11T06:41:07.664675Z",
     "iopub.status.idle": "2022-12-11T06:41:07.667412Z",
     "shell.execute_reply": "2022-12-11T06:41:07.666910Z"
    },
    "lines_to_next_cell": 0,
    "papermill": {
     "duration": 0.010197,
     "end_time": "2022-12-11T06:41:07.669766",
     "exception": false,
     "start_time": "2022-12-11T06:41:07.659569",
     "status": "completed"
    },
    "tags": [
     "parameters"
    ]
   },
   "outputs": [],
   "source": [
    "# - During automated runs parameters will be injected in the below cell -"
   ]
  },
  {
   "cell_type": "code",
   "execution_count": 3,
   "id": "984186e7",
   "metadata": {
    "execution": {
     "iopub.execute_input": "2022-12-11T06:41:07.679139Z",
     "iopub.status.busy": "2022-12-11T06:41:07.678930Z",
     "iopub.status.idle": "2022-12-11T06:41:07.683578Z",
     "shell.execute_reply": "2022-12-11T06:41:07.683070Z"
    },
    "papermill": {
     "duration": 0.011749,
     "end_time": "2022-12-11T06:41:07.685984",
     "exception": false,
     "start_time": "2022-12-11T06:41:07.674235",
     "status": "completed"
    },
    "tags": [
     "injected-parameters"
    ]
   },
   "outputs": [],
   "source": [
    "# Parameters\n",
    "P = {\n",
    "    \"pipeline.data_lake_root\": \"/pipeline-outputs/data-lake\",\n",
    "    \"pipeline.run_environment\": \"ci\",\n",
    "    \"pipeline.pipeline_run_id\": \"b3ff047b-f05b-4270-8ac0-9227d96a1a35\",\n",
    "    \"pipeline.github.repository\": \"matiasdahl/dev-mnist-digits-demo-pipeline\",\n",
    "    \"pipeline.github.workflow\": \"Run automated tests, pipeline and deploy results to static reporting site\",\n",
    "    \"pipeline.github.runner_name\": \"Hosted Agent\",\n",
    "    \"pipeline.github.run_id\": \"3667777653\",\n",
    "    \"pipeline.github.actor\": \"matiasdahl\",\n",
    "    \"pipeline.github.job\": \"run-tests-pipeline-and-persist-pipeline-outputs\",\n",
    "    \"pipeline.github.base_ref\": \"\",\n",
    "    \"pipeline.github.head_ref\": \"\",\n",
    "    \"pipeline.github.sha\": \"ace0d01011d5e914f1921450dd5a59c11367b38d\",\n",
    "    \"pipeline.github.ref\": \"refs/heads/development\",\n",
    "    \"pipeline.github.ref_type\": \"branch\",\n",
    "    \"pipeline.github.ref_name\": \"development\",\n",
    "    \"pipeline.github.event_name\": \"schedule\",\n",
    "    \"task.nr_train_images\": 1000,\n",
    "    \"task.notebook\": \"notebooks/benchmark-model.py\",\n",
    "    \"task.max_nr_retries\": \"1\",\n",
    "    \"run.retry_nr\": \"0\",\n",
    "    \"task.timeout_s\": \"None\",\n",
    "    \"task.num_cpus\": 1,\n",
    "    \"_opentelemetry_traceparent\": \"00-9dd51a17dc70753ce85eae75616a86fd-2347938de007d75f-01\",\n",
    "}\n"
   ]
  },
  {
   "cell_type": "code",
   "execution_count": 4,
   "id": "a5dc35d0",
   "metadata": {
    "execution": {
     "iopub.execute_input": "2022-12-11T06:41:07.695208Z",
     "iopub.status.busy": "2022-12-11T06:41:07.694989Z",
     "iopub.status.idle": "2022-12-11T06:41:07.697593Z",
     "shell.execute_reply": "2022-12-11T06:41:07.697093Z"
    },
    "lines_to_next_cell": 0,
    "papermill": {
     "duration": 0.010253,
     "end_time": "2022-12-11T06:41:07.700182",
     "exception": false,
     "start_time": "2022-12-11T06:41:07.689929",
     "status": "completed"
    },
    "tags": []
   },
   "outputs": [],
   "source": [
    "# -----------------------------------------------------------------------"
   ]
  },
  {
   "cell_type": "markdown",
   "id": "4452ef57",
   "metadata": {
    "papermill": {
     "duration": 0.003809,
     "end_time": "2022-12-11T06:41:07.709426",
     "exception": false,
     "start_time": "2022-12-11T06:41:07.705617",
     "status": "completed"
    },
    "tags": []
   },
   "source": [
    "---"
   ]
  },
  {
   "cell_type": "markdown",
   "id": "7cb1dc98",
   "metadata": {
    "lines_to_next_cell": 2,
    "papermill": {
     "duration": 0.004317,
     "end_time": "2022-12-11T06:41:07.718072",
     "exception": false,
     "start_time": "2022-12-11T06:41:07.713755",
     "status": "completed"
    },
    "tags": []
   },
   "source": [
    "### Notebook code"
   ]
  },
  {
   "cell_type": "code",
   "execution_count": 5,
   "id": "82237a83",
   "metadata": {
    "execution": {
     "iopub.execute_input": "2022-12-11T06:41:07.727830Z",
     "iopub.status.busy": "2022-12-11T06:41:07.727575Z",
     "iopub.status.idle": "2022-12-11T06:41:08.893297Z",
     "shell.execute_reply": "2022-12-11T06:41:08.892669Z"
    },
    "papermill": {
     "duration": 1.173388,
     "end_time": "2022-12-11T06:41:08.895664",
     "exception": false,
     "start_time": "2022-12-11T06:41:07.722276",
     "status": "completed"
    },
    "tags": []
   },
   "outputs": [
    {
     "name": "stderr",
     "output_type": "stream",
     "text": [
      "2022-12-11 06:41:08,661\tINFO worker.py:842 -- Connecting to existing Ray cluster at address: 172.17.0.2:6379\n"
     ]
    }
   ],
   "source": [
    "import itertools as it\n",
    "\n",
    "#\n",
    "import numpy as np\n",
    "import matplotlib.pyplot as plt\n",
    "\n",
    "#\n",
    "from pynb_dag_runner.tasks.task_opentelemetry_logging import PydarLogger\n",
    "\n",
    "#\n",
    "from common.io import datalake_root\n",
    "\n",
    "logger = PydarLogger(P)"
   ]
  },
  {
   "cell_type": "markdown",
   "id": "418eed15",
   "metadata": {
    "papermill": {
     "duration": 0.004353,
     "end_time": "2022-12-11T06:41:08.905159",
     "exception": false,
     "start_time": "2022-12-11T06:41:08.900806",
     "status": "completed"
    },
    "tags": []
   },
   "source": [
    "## Load persisted onnx-model and evaluation data"
   ]
  },
  {
   "cell_type": "code",
   "execution_count": 6,
   "id": "5c5f9ad6",
   "metadata": {
    "execution": {
     "iopub.execute_input": "2022-12-11T06:41:08.914919Z",
     "iopub.status.busy": "2022-12-11T06:41:08.914575Z",
     "iopub.status.idle": "2022-12-11T06:41:08.918067Z",
     "shell.execute_reply": "2022-12-11T06:41:08.917421Z"
    },
    "papermill": {
     "duration": 0.012896,
     "end_time": "2022-12-11T06:41:08.922721",
     "exception": false,
     "start_time": "2022-12-11T06:41:08.909825",
     "status": "completed"
    },
    "tags": []
   },
   "outputs": [],
   "source": [
    "from common.io import read_onnx, get_onnx_inputs, get_onnx_outputs, read_numpy"
   ]
  },
  {
   "cell_type": "code",
   "execution_count": 7,
   "id": "66c9f1a1",
   "metadata": {
    "execution": {
     "iopub.execute_input": "2022-12-11T06:41:08.932545Z",
     "iopub.status.busy": "2022-12-11T06:41:08.932327Z",
     "iopub.status.idle": "2022-12-11T06:41:08.943601Z",
     "shell.execute_reply": "2022-12-11T06:41:08.943079Z"
    },
    "lines_to_next_cell": 0,
    "papermill": {
     "duration": 0.017961,
     "end_time": "2022-12-11T06:41:08.945444",
     "exception": false,
     "start_time": "2022-12-11T06:41:08.927483",
     "status": "completed"
    },
    "tags": []
   },
   "outputs": [],
   "source": [
    "onnx_inference_session = read_onnx(\n",
    "    datalake_root(P)\n",
    "    / \"models\"\n",
    "    / f\"nr_train_images={P['task.nr_train_images']}\"\n",
    "    / \"model.onnx\"\n",
    ")"
   ]
  },
  {
   "cell_type": "markdown",
   "id": "06442efc",
   "metadata": {
    "papermill": {
     "duration": 0.00403,
     "end_time": "2022-12-11T06:41:08.954073",
     "exception": false,
     "start_time": "2022-12-11T06:41:08.950043",
     "status": "completed"
    },
    "tags": []
   },
   "source": [
    "### Record structure of inputs and outputs for ONNX model\n",
    "\n",
    "(this should likely be done in training notebook)"
   ]
  },
  {
   "cell_type": "code",
   "execution_count": 8,
   "id": "d69fa9ba",
   "metadata": {
    "execution": {
     "iopub.execute_input": "2022-12-11T06:41:08.963970Z",
     "iopub.status.busy": "2022-12-11T06:41:08.963752Z",
     "iopub.status.idle": "2022-12-11T06:41:08.969106Z",
     "shell.execute_reply": "2022-12-11T06:41:08.968588Z"
    },
    "papermill": {
     "duration": 0.013835,
     "end_time": "2022-12-11T06:41:08.972550",
     "exception": false,
     "start_time": "2022-12-11T06:41:08.958715",
     "status": "completed"
    },
    "tags": []
   },
   "outputs": [
    {
     "name": "stdout",
     "output_type": "stream",
     "text": [
      "{\n",
      "  \"inputs\": [\n",
      "    {\n",
      "      \"name\": \"float_input_8x8_image\",\n",
      "      \"shape\": [\n",
      "        null,\n",
      "        64\n",
      "      ],\n",
      "      \"type\": \"tensor(float)\"\n",
      "    }\n",
      "  ],\n",
      "  \"outputs\": [\n",
      "    {\n",
      "      \"name\": \"output_label\",\n",
      "      \"shape\": [\n",
      "        null\n",
      "      ],\n",
      "      \"type\": \"tensor(int64)\"\n",
      "    },\n",
      "    {\n",
      "      \"name\": \"output_probability\",\n",
      "      \"shape\": [],\n",
      "      \"type\": \"seq(map(int64,tensor(float)))\"\n",
      "    }\n",
      "  ]\n",
      "}\n"
     ]
    }
   ],
   "source": [
    "import json\n",
    "\n",
    "onnx_io = json.dumps(\n",
    "    {\n",
    "        \"inputs\": get_onnx_inputs(onnx_inference_session),\n",
    "        \"outputs\": get_onnx_outputs(onnx_inference_session),\n",
    "    },\n",
    "    indent=2,\n",
    ")\n",
    "\n",
    "\n",
    "logger.log_artefact(\"onnx_io_structure.json\", onnx_io)\n",
    "print(onnx_io)"
   ]
  },
  {
   "cell_type": "markdown",
   "id": "d00e0d32",
   "metadata": {
    "papermill": {
     "duration": 0.004741,
     "end_time": "2022-12-11T06:41:08.981257",
     "exception": false,
     "start_time": "2022-12-11T06:41:08.976516",
     "status": "completed"
    },
    "tags": []
   },
   "source": [
    "### Evaluate model performance on evaluation data set"
   ]
  },
  {
   "cell_type": "code",
   "execution_count": 9,
   "id": "940c273e",
   "metadata": {
    "execution": {
     "iopub.execute_input": "2022-12-11T06:41:08.991042Z",
     "iopub.status.busy": "2022-12-11T06:41:08.990819Z",
     "iopub.status.idle": "2022-12-11T06:41:08.995415Z",
     "shell.execute_reply": "2022-12-11T06:41:08.994891Z"
    },
    "papermill": {
     "duration": 0.012889,
     "end_time": "2022-12-11T06:41:08.998236",
     "exception": false,
     "start_time": "2022-12-11T06:41:08.985347",
     "status": "completed"
    },
    "tags": []
   },
   "outputs": [],
   "source": [
    "# load evaluation data\n",
    "X_test = read_numpy(datalake_root(P) / \"test-data\" / \"digits.numpy\")\n",
    "y_test = read_numpy(datalake_root(P) / \"test-data\" / \"labels.numpy\")"
   ]
  },
  {
   "cell_type": "code",
   "execution_count": 10,
   "id": "2cbbbb06",
   "metadata": {
    "execution": {
     "iopub.execute_input": "2022-12-11T06:41:09.007946Z",
     "iopub.status.busy": "2022-12-11T06:41:09.007704Z",
     "iopub.status.idle": "2022-12-11T06:41:09.022303Z",
     "shell.execute_reply": "2022-12-11T06:41:09.021797Z"
    },
    "papermill": {
     "duration": 0.022292,
     "end_time": "2022-12-11T06:41:09.025098",
     "exception": false,
     "start_time": "2022-12-11T06:41:09.002806",
     "status": "completed"
    },
    "tags": []
   },
   "outputs": [],
   "source": [
    "def get_model_outputs(X, onnx_inference_session):\n",
    "    y_pred_labels, y_pred_map = onnx_inference_session.run(\n",
    "        [\"output_label\", \"output_probability\"],\n",
    "        {\"float_input_8x8_image\": X.astype(np.float32)},\n",
    "    )\n",
    "    y_pred_probs = np.array(\n",
    "        [[probabilities[digit] for digit in range(10)] for probabilities in y_pred_map]\n",
    "    )\n",
    "\n",
    "    assert y_pred_labels.shape == (X.shape[0],)\n",
    "    assert y_pred_probs.shape == (X.shape[0], 10)\n",
    "\n",
    "    return y_pred_labels, y_pred_probs\n",
    "\n",
    "\n",
    "# Note: as shown in the training notebook, the predicted labels and probabilities\n",
    "# computed below need not be compatible.\n",
    "y_pred_labels_test, y_pred_probs_test = get_model_outputs(\n",
    "    X_test, onnx_inference_session\n",
    ")"
   ]
  },
  {
   "cell_type": "markdown",
   "id": "9c9b8cd8",
   "metadata": {
    "papermill": {
     "duration": 0.007225,
     "end_time": "2022-12-11T06:41:09.036721",
     "exception": false,
     "start_time": "2022-12-11T06:41:09.029496",
     "status": "completed"
    },
    "tags": []
   },
   "source": [
    "### Confusion matrix"
   ]
  },
  {
   "cell_type": "code",
   "execution_count": 11,
   "id": "ffcf55e1",
   "metadata": {
    "execution": {
     "iopub.execute_input": "2022-12-11T06:41:09.047169Z",
     "iopub.status.busy": "2022-12-11T06:41:09.046910Z",
     "iopub.status.idle": "2022-12-11T06:41:09.049868Z",
     "shell.execute_reply": "2022-12-11T06:41:09.049324Z"
    },
    "papermill": {
     "duration": 0.011218,
     "end_time": "2022-12-11T06:41:09.052890",
     "exception": false,
     "start_time": "2022-12-11T06:41:09.041672",
     "status": "completed"
    },
    "tags": []
   },
   "outputs": [],
   "source": [
    "# TODO"
   ]
  },
  {
   "cell_type": "markdown",
   "id": "b24a9d38",
   "metadata": {
    "papermill": {
     "duration": 0.004918,
     "end_time": "2022-12-11T06:41:09.062212",
     "exception": false,
     "start_time": "2022-12-11T06:41:09.057294",
     "status": "completed"
    },
    "tags": []
   },
   "source": [
    "### Plot predicted probabilities for each classifier over all evaluation digit images"
   ]
  },
  {
   "cell_type": "code",
   "execution_count": 12,
   "id": "979c2442",
   "metadata": {
    "execution": {
     "iopub.execute_input": "2022-12-11T06:41:09.072669Z",
     "iopub.status.busy": "2022-12-11T06:41:09.072397Z",
     "iopub.status.idle": "2022-12-11T06:41:12.054967Z",
     "shell.execute_reply": "2022-12-11T06:41:12.054404Z"
    },
    "papermill": {
     "duration": 2.990366,
     "end_time": "2022-12-11T06:41:12.057026",
     "exception": false,
     "start_time": "2022-12-11T06:41:09.066660",
     "status": "completed"
    },
    "tags": []
   },
   "outputs": [
    {
     "data": {
      "image/png": "[encoded data removed]",
      "text/plain": [
       "<Figure size 1600x600 with 10 Axes>"
      ]
     },
     "metadata": {},
     "output_type": "display_data"
    }
   ],
   "source": [
    "def plot_per_digit_probabilities(y_pred_probs):\n",
    "    fig, axs = plt.subplots(nrows=2, ncols=5, figsize=(16, 6))\n",
    "\n",
    "    for (r, c), digit, ax in zip(\n",
    "        it.product(range(2), range(5)), range(10), axs.reshape(-1)\n",
    "    ):\n",
    "        ax.hist(y_pred_probs_test[:, digit], bins=20)\n",
    "\n",
    "        ax.set_title(f\"Digit {digit}\")\n",
    "        if r == 1 and c == 2:\n",
    "            ax.set_xlabel(\"probability\", fontsize=16)\n",
    "\n",
    "        if c == 0:\n",
    "            ax.set_ylabel(\"counts\", fontsize=16)\n",
    "        ax.set_yscale(\"log\")\n",
    "\n",
    "    fig.tight_layout()\n",
    "    fig.suptitle(\n",
    "        f\"Distributions of prediction probabilities for each digit \"\n",
    "        f\"(on evaluation data, n={y_pred_probs.shape[0]})\",\n",
    "        fontsize=20,\n",
    "    )\n",
    "    fig.tight_layout()\n",
    "    fig.show()\n",
    "\n",
    "    return fig\n",
    "\n",
    "\n",
    "fig = plot_per_digit_probabilities(y_pred_probs_test)"
   ]
  },
  {
   "cell_type": "markdown",
   "id": "e23f70cc",
   "metadata": {
    "papermill": {
     "duration": 0.005711,
     "end_time": "2022-12-11T06:41:12.068272",
     "exception": false,
     "start_time": "2022-12-11T06:41:12.062561",
     "status": "completed"
    },
    "tags": []
   },
   "source": [
    "From the above distributions we see that most digits have clear separation between\n",
    "high and lower probabilities. Morover, in each case there is roughly an order of\n",
    "magnitude more of digits with low probabilities. This is compatible with digits\n",
    "being roughly evenly distributed in the data."
   ]
  },
  {
   "cell_type": "code",
   "execution_count": 13,
   "id": "4a73d324",
   "metadata": {
    "execution": {
     "iopub.execute_input": "2022-12-11T06:41:12.080377Z",
     "iopub.status.busy": "2022-12-11T06:41:12.080002Z",
     "iopub.status.idle": "2022-12-11T06:41:12.547805Z",
     "shell.execute_reply": "2022-12-11T06:41:12.547149Z"
    },
    "papermill": {
     "duration": 0.476171,
     "end_time": "2022-12-11T06:41:12.549551",
     "exception": false,
     "start_time": "2022-12-11T06:41:12.073380",
     "status": "completed"
    },
    "tags": []
   },
   "outputs": [],
   "source": [
    "logger.log_figure(\"per-digit-probabilities.png\", fig)"
   ]
  },
  {
   "cell_type": "markdown",
   "id": "0c4a0b43",
   "metadata": {
    "papermill": {
     "duration": 0.005597,
     "end_time": "2022-12-11T06:41:12.560704",
     "exception": false,
     "start_time": "2022-12-11T06:41:12.555107",
     "status": "completed"
    },
    "tags": []
   },
   "source": [
    "### Plot ROC curves for individual one-vs-rest classifiers"
   ]
  },
  {
   "cell_type": "code",
   "execution_count": 14,
   "id": "a6b250aa",
   "metadata": {
    "execution": {
     "iopub.execute_input": "2022-12-11T06:41:12.572912Z",
     "iopub.status.busy": "2022-12-11T06:41:12.572546Z",
     "iopub.status.idle": "2022-12-11T06:41:12.982494Z",
     "shell.execute_reply": "2022-12-11T06:41:12.981833Z"
    },
    "papermill": {
     "duration": 0.418426,
     "end_time": "2022-12-11T06:41:12.984472",
     "exception": false,
     "start_time": "2022-12-11T06:41:12.566046",
     "status": "completed"
    },
    "tags": []
   },
   "outputs": [],
   "source": [
    "from sklearn import metrics"
   ]
  },
  {
   "cell_type": "code",
   "execution_count": 15,
   "id": "dba690f8",
   "metadata": {
    "execution": {
     "iopub.execute_input": "2022-12-11T06:41:12.997451Z",
     "iopub.status.busy": "2022-12-11T06:41:12.997150Z",
     "iopub.status.idle": "2022-12-11T06:41:14.107936Z",
     "shell.execute_reply": "2022-12-11T06:41:14.107206Z"
    },
    "papermill": {
     "duration": 1.119066,
     "end_time": "2022-12-11T06:41:14.109919",
     "exception": false,
     "start_time": "2022-12-11T06:41:12.990853",
     "status": "completed"
    },
    "tags": []
   },
   "outputs": [
    {
     "data": {
      "image/png": "[encoded data removed]",
      "text/plain": [
       "<Figure size 1600x800 with 10 Axes>"
      ]
     },
     "metadata": {},
     "output_type": "display_data"
    }
   ],
   "source": [
    "def plot_roc_curves(y, y_pred_probs):\n",
    "    # based on example code\n",
    "    # https://scikit-learn.org/stable/auto_examples/model_selection/plot_roc.html\n",
    "\n",
    "    fig, axs = plt.subplots(nrows=2, ncols=5, figsize=(16, 8))\n",
    "\n",
    "    roc_auc_dict = {}\n",
    "\n",
    "    for (r, c), digit, ax in zip(\n",
    "        it.product(range(2), range(5)), range(10), axs.reshape(-1)\n",
    "    ):\n",
    "        fpr, tpr, _ = metrics.roc_curve(y == digit, y_pred_probs[:, digit])\n",
    "        auc = metrics.auc(fpr, tpr)\n",
    "        roc_auc_dict[str(digit)] = auc\n",
    "\n",
    "        ax.plot(fpr, tpr, label=f\"ROC AUC={round(auc, 3)}\")\n",
    "\n",
    "        ax.set_title(f\"\\nDigit {digit}\", fontsize=16)\n",
    "        if r == 1:\n",
    "            ax.set_xlabel(\"FPR\", fontsize=18)\n",
    "\n",
    "        if c == 0:\n",
    "            ax.set_ylabel(\"TPR\", fontsize=18)\n",
    "\n",
    "        ax.set_xlim([-0.05, 1.05])\n",
    "        ax.set_ylim([-0.05, 1.05])\n",
    "        ax.legend(loc=\"lower right\", frameon=False, fontsize=14)\n",
    "\n",
    "    fig.tight_layout()\n",
    "    fig.suptitle(\n",
    "        f\"ROC plots for one-vs-rest performances \"\n",
    "        f\"(on evaluation data, n={y_pred_probs_test.shape[1]}\",\n",
    "        fontsize=22,\n",
    "    )\n",
    "    fig.tight_layout()\n",
    "    fig.show()\n",
    "\n",
    "    return roc_auc_dict, fig\n",
    "\n",
    "\n",
    "roc_auc_dict, fig = plot_roc_curves(y_test, y_pred_probs_test)"
   ]
  },
  {
   "cell_type": "code",
   "execution_count": 16,
   "id": "aa7c98d3",
   "metadata": {
    "execution": {
     "iopub.execute_input": "2022-12-11T06:41:14.124572Z",
     "iopub.status.busy": "2022-12-11T06:41:14.124232Z",
     "iopub.status.idle": "2022-12-11T06:41:14.405224Z",
     "shell.execute_reply": "2022-12-11T06:41:14.404102Z"
    },
    "papermill": {
     "duration": 0.29026,
     "end_time": "2022-12-11T06:41:14.407084",
     "exception": false,
     "start_time": "2022-12-11T06:41:14.116824",
     "status": "completed"
    },
    "tags": []
   },
   "outputs": [],
   "source": [
    "logger.log_figure(\"per-digit-roc-curves.png\", fig)"
   ]
  },
  {
   "cell_type": "code",
   "execution_count": 17,
   "id": "1a999114",
   "metadata": {
    "execution": {
     "iopub.execute_input": "2022-12-11T06:41:14.422994Z",
     "iopub.status.busy": "2022-12-11T06:41:14.422216Z",
     "iopub.status.idle": "2022-12-11T06:41:14.430332Z",
     "shell.execute_reply": "2022-12-11T06:41:14.429728Z"
    },
    "papermill": {
     "duration": 0.018202,
     "end_time": "2022-12-11T06:41:14.432027",
     "exception": false,
     "start_time": "2022-12-11T06:41:14.413825",
     "status": "completed"
    },
    "tags": []
   },
   "outputs": [
    {
     "data": {
      "text/plain": [
       "{'0': 1.0,\n",
       " '1': 0.999025304592315,\n",
       " '2': 1.0,\n",
       " '3': 0.9998500468603562,\n",
       " '4': 0.9995808565767413,\n",
       " '5': 0.9994001874414246,\n",
       " '6': 0.999923792104862,\n",
       " '7': 0.9997713763145862,\n",
       " '8': 0.9953105296343001,\n",
       " '9': 0.9995808565767414}"
      ]
     },
     "execution_count": 17,
     "metadata": {},
     "output_type": "execute_result"
    }
   ],
   "source": [
    "roc_auc_dict"
   ]
  },
  {
   "cell_type": "code",
   "execution_count": 18,
   "id": "aa0472aa",
   "metadata": {
    "execution": {
     "iopub.execute_input": "2022-12-11T06:41:14.447264Z",
     "iopub.status.busy": "2022-12-11T06:41:14.447030Z",
     "iopub.status.idle": "2022-12-11T06:41:14.451324Z",
     "shell.execute_reply": "2022-12-11T06:41:14.450715Z"
    },
    "papermill": {
     "duration": 0.018174,
     "end_time": "2022-12-11T06:41:14.457073",
     "exception": false,
     "start_time": "2022-12-11T06:41:14.438899",
     "status": "completed"
    },
    "tags": []
   },
   "outputs": [
    {
     "name": "stdout",
     "output_type": "stream",
     "text": [
      " - Logging roc_auc_per_digit (json) : {'0': 1.0, '1': 0.999025304592315, '2': 1.0, '3': 0.9998500468603562, '4': 0.9995808565767413, '5': 0.9994001874414246, '6': 0.999923792104862, '7': 0.9997713763145862, '8': 0.9953105296343001, '9': 0.9995808565767414}\n"
     ]
    }
   ],
   "source": [
    "logger.log_value(\"roc_auc_per_digit\", roc_auc_dict)"
   ]
  },
  {
   "cell_type": "markdown",
   "id": "acb0d08e",
   "metadata": {
    "papermill": {
     "duration": 0.008978,
     "end_time": "2022-12-11T06:41:14.480300",
     "exception": false,
     "start_time": "2022-12-11T06:41:14.471322",
     "status": "completed"
    },
    "tags": []
   },
   "source": [
    "### Compute and log mean ROC AUC score averaged over all digits"
   ]
  },
  {
   "cell_type": "code",
   "execution_count": 19,
   "id": "7047369b",
   "metadata": {
    "execution": {
     "iopub.execute_input": "2022-12-11T06:41:14.507879Z",
     "iopub.status.busy": "2022-12-11T06:41:14.506634Z",
     "iopub.status.idle": "2022-12-11T06:41:14.518694Z",
     "shell.execute_reply": "2022-12-11T06:41:14.517937Z"
    },
    "papermill": {
     "duration": 0.033215,
     "end_time": "2022-12-11T06:41:14.520421",
     "exception": false,
     "start_time": "2022-12-11T06:41:14.487206",
     "status": "completed"
    },
    "tags": []
   },
   "outputs": [
    {
     "name": "stdout",
     "output_type": "stream",
     "text": [
      " - Logging roc_auc_class_mean (float) : 0.9992442950101328\n"
     ]
    }
   ],
   "source": [
    "roc_auc_macro = np.mean(list(roc_auc_dict.values()))\n",
    "\n",
    "logger.log_float(\"roc_auc_class_mean\", roc_auc_macro)\n",
    "\n",
    "# assert that the same value can be computed directly using sklearn\n",
    "assert roc_auc_macro == metrics.roc_auc_score(\n",
    "    y_test, y_pred_probs_test, average=\"macro\", multi_class=\"ovr\"\n",
    ")"
   ]
  },
  {
   "cell_type": "code",
   "execution_count": 20,
   "id": "95455514",
   "metadata": {
    "execution": {
     "iopub.execute_input": "2022-12-11T06:41:14.535969Z",
     "iopub.status.busy": "2022-12-11T06:41:14.535589Z",
     "iopub.status.idle": "2022-12-11T06:41:14.540167Z",
     "shell.execute_reply": "2022-12-11T06:41:14.538898Z"
    },
    "lines_to_next_cell": 0,
    "papermill": {
     "duration": 0.016628,
     "end_time": "2022-12-11T06:41:14.544392",
     "exception": false,
     "start_time": "2022-12-11T06:41:14.527764",
     "status": "completed"
    },
    "tags": []
   },
   "outputs": [],
   "source": [
    "# ---"
   ]
  },
  {
   "cell_type": "code",
   "execution_count": null,
   "id": "28f666bf",
   "metadata": {
    "papermill": {
     "duration": 0.016095,
     "end_time": "2022-12-11T06:41:14.567376",
     "exception": false,
     "start_time": "2022-12-11T06:41:14.551281",
     "status": "completed"
    },
    "tags": []
   },
   "outputs": [],
   "source": []
  }
 ],
 "metadata": {
  "jupytext": {
   "cell_metadata_filter": "tags,-all",
   "main_language": "python",
   "notebook_metadata_filter": "-all"
  },
  "language_info": {
   "codemirror_mode": {
    "name": "ipython",
    "version": 3
   },
   "file_extension": ".py",
   "mimetype": "text/x-python",
   "name": "python",
   "nbconvert_exporter": "python",
   "pygments_lexer": "ipython3",
   "version": "3.8.10"
  },
  "papermill": {
   "default_parameters": {},
   "duration": 9.908493,
   "end_time": "2022-12-11T06:41:15.806062",
   "environment_variables": {},
   "exception": null,
   "input_path": "/home/host_user/workspace/mnist-demo-pipeline/mnist-demo-pipeline/notebooks/temp-notebook-3mkqxejy.ipynb",
   "output_path": "notebooks/benchmark-model.ipynb",
   "parameters": {
    "P": {
     "_opentelemetry_traceparent": "00-9dd51a17dc70753ce85eae75616a86fd-2347938de007d75f-01",
     "pipeline.data_lake_root": "/pipeline-outputs/data-lake",
     "pipeline.github.actor": "matiasdahl",
     "pipeline.github.base_ref": "",
     "pipeline.github.event_name": "schedule",
     "pipeline.github.head_ref": "",
     "pipeline.github.job": "run-tests-pipeline-and-persist-pipeline-outputs",
     "pipeline.github.ref": "refs/heads/development",
     "pipeline.github.ref_name": "development",
     "pipeline.github.ref_type": "branch",
     "pipeline.github.repository": "matiasdahl/dev-mnist-digits-demo-pipeline",
     "pipeline.github.run_id": "3667777653",
     "pipeline.github.runner_name": "Hosted Agent",
     "pipeline.github.sha": "ace0d01011d5e914f1921450dd5a59c11367b38d",
     "pipeline.github.workflow": "Run automated tests, pipeline and deploy results to static reporting site",
     "pipeline.pipeline_run_id": "b3ff047b-f05b-4270-8ac0-9227d96a1a35",
     "pipeline.run_environment": "ci",
     "run.retry_nr": "0",
     "task.max_nr_retries": "1",
     "task.notebook": "notebooks/benchmark-model.py",
     "task.nr_train_images": 1000,
     "task.num_cpus": 1,
     "task.timeout_s": "None"
    }
   },
   "start_time": "2022-12-11T06:41:05.897569",
   "version": "2.3.3"
  }
 },
 "nbformat": 4,
 "nbformat_minor": 5
}