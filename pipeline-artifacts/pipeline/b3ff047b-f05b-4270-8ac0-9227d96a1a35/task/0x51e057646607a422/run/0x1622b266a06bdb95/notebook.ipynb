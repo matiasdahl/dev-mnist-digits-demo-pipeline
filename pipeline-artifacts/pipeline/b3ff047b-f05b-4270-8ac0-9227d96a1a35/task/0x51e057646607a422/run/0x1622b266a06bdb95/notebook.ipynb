{
 "cells": [
  {
   "cell_type": "markdown",
   "id": "dab1ee7b",
   "metadata": {
    "papermill": {
     "duration": 0.008623,
     "end_time": "2022-12-11T06:41:18.363149",
     "exception": false,
     "start_time": "2022-12-11T06:41:18.354526",
     "status": "completed"
    },
    "tags": []
   },
   "source": [
    "# Benchmark model\n",
    "\n",
    "The purpose of this notebook is to benchmark persisted onnx-model (trained in the\n",
    "previous step) against evaluation set."
   ]
  },
  {
   "cell_type": "markdown",
   "id": "7c12aefc",
   "metadata": {
    "papermill": {
     "duration": 0.009443,
     "end_time": "2022-12-11T06:41:18.377733",
     "exception": false,
     "start_time": "2022-12-11T06:41:18.368290",
     "status": "completed"
    },
    "tags": []
   },
   "source": [
    "### Determine run parameters"
   ]
  },
  {
   "cell_type": "code",
   "execution_count": 1,
   "id": "2b3b82ca",
   "metadata": {
    "execution": {
     "iopub.execute_input": "2022-12-11T06:41:18.389138Z",
     "iopub.status.busy": "2022-12-11T06:41:18.388830Z",
     "iopub.status.idle": "2022-12-11T06:41:18.397815Z",
     "shell.execute_reply": "2022-12-11T06:41:18.397164Z"
    },
    "lines_to_next_cell": 0,
    "papermill": {
     "duration": 0.019262,
     "end_time": "2022-12-11T06:41:18.402023",
     "exception": false,
     "start_time": "2022-12-11T06:41:18.382761",
     "status": "completed"
    },
    "tags": []
   },
   "outputs": [],
   "source": [
    "# ----------------- Parameters for interactive development --------------\n",
    "P = {\n",
    "    \"pipeline.data_lake_root\": \"/pipeline-outputs/data-lake\",\n",
    "    \"task.nr_train_images\": 600,\n",
    "}"
   ]
  },
  {
   "cell_type": "code",
   "execution_count": 2,
   "id": "16d14aaa",
   "metadata": {
    "execution": {
     "iopub.execute_input": "2022-12-11T06:41:18.411997Z",
     "iopub.status.busy": "2022-12-11T06:41:18.411772Z",
     "iopub.status.idle": "2022-12-11T06:41:18.414501Z",
     "shell.execute_reply": "2022-12-11T06:41:18.414003Z"
    },
    "lines_to_next_cell": 0,
    "papermill": {
     "duration": 0.010811,
     "end_time": "2022-12-11T06:41:18.416978",
     "exception": false,
     "start_time": "2022-12-11T06:41:18.406167",
     "status": "completed"
    },
    "tags": [
     "parameters"
    ]
   },
   "outputs": [],
   "source": [
    "# - During automated runs parameters will be injected in the below cell -"
   ]
  },
  {
   "cell_type": "code",
   "execution_count": 3,
   "id": "2ed38bd5",
   "metadata": {
    "execution": {
     "iopub.execute_input": "2022-12-11T06:41:18.426736Z",
     "iopub.status.busy": "2022-12-11T06:41:18.426526Z",
     "iopub.status.idle": "2022-12-11T06:41:18.431056Z",
     "shell.execute_reply": "2022-12-11T06:41:18.430289Z"
    },
    "papermill": {
     "duration": 0.012705,
     "end_time": "2022-12-11T06:41:18.434053",
     "exception": false,
     "start_time": "2022-12-11T06:41:18.421348",
     "status": "completed"
    },
    "tags": [
     "injected-parameters"
    ]
   },
   "outputs": [],
   "source": [
    "# Parameters\n",
    "P = {\n",
    "    \"pipeline.data_lake_root\": \"/pipeline-outputs/data-lake\",\n",
    "    \"pipeline.run_environment\": \"ci\",\n",
    "    \"pipeline.pipeline_run_id\": \"b3ff047b-f05b-4270-8ac0-9227d96a1a35\",\n",
    "    \"pipeline.github.repository\": \"matiasdahl/dev-mnist-digits-demo-pipeline\",\n",
    "    \"pipeline.github.workflow\": \"Run automated tests, pipeline and deploy results to static reporting site\",\n",
    "    \"pipeline.github.runner_name\": \"Hosted Agent\",\n",
    "    \"pipeline.github.run_id\": \"3667777653\",\n",
    "    \"pipeline.github.actor\": \"matiasdahl\",\n",
    "    \"pipeline.github.job\": \"run-tests-pipeline-and-persist-pipeline-outputs\",\n",
    "    \"pipeline.github.base_ref\": \"\",\n",
    "    \"pipeline.github.head_ref\": \"\",\n",
    "    \"pipeline.github.sha\": \"ace0d01011d5e914f1921450dd5a59c11367b38d\",\n",
    "    \"pipeline.github.ref\": \"refs/heads/development\",\n",
    "    \"pipeline.github.ref_type\": \"branch\",\n",
    "    \"pipeline.github.ref_name\": \"development\",\n",
    "    \"pipeline.github.event_name\": \"schedule\",\n",
    "    \"task.nr_train_images\": 1200,\n",
    "    \"task.notebook\": \"notebooks/benchmark-model.py\",\n",
    "    \"task.max_nr_retries\": \"1\",\n",
    "    \"run.retry_nr\": \"0\",\n",
    "    \"task.timeout_s\": \"None\",\n",
    "    \"task.num_cpus\": 1,\n",
    "    \"_opentelemetry_traceparent\": \"00-9dd51a17dc70753ce85eae75616a86fd-60944b5b098ea334-01\",\n",
    "}\n"
   ]
  },
  {
   "cell_type": "code",
   "execution_count": 4,
   "id": "84f2cdcd",
   "metadata": {
    "execution": {
     "iopub.execute_input": "2022-12-11T06:41:18.443966Z",
     "iopub.status.busy": "2022-12-11T06:41:18.443761Z",
     "iopub.status.idle": "2022-12-11T06:41:18.446579Z",
     "shell.execute_reply": "2022-12-11T06:41:18.446073Z"
    },
    "lines_to_next_cell": 0,
    "papermill": {
     "duration": 0.01147,
     "end_time": "2022-12-11T06:41:18.449305",
     "exception": false,
     "start_time": "2022-12-11T06:41:18.437835",
     "status": "completed"
    },
    "tags": []
   },
   "outputs": [],
   "source": [
    "# -----------------------------------------------------------------------"
   ]
  },
  {
   "cell_type": "markdown",
   "id": "64ccd9df",
   "metadata": {
    "papermill": {
     "duration": 0.003976,
     "end_time": "2022-12-11T06:41:18.458561",
     "exception": false,
     "start_time": "2022-12-11T06:41:18.454585",
     "status": "completed"
    },
    "tags": []
   },
   "source": [
    "---"
   ]
  },
  {
   "cell_type": "markdown",
   "id": "4df3ae3c",
   "metadata": {
    "lines_to_next_cell": 2,
    "papermill": {
     "duration": 0.006211,
     "end_time": "2022-12-11T06:41:18.474295",
     "exception": false,
     "start_time": "2022-12-11T06:41:18.468084",
     "status": "completed"
    },
    "tags": []
   },
   "source": [
    "### Notebook code"
   ]
  },
  {
   "cell_type": "code",
   "execution_count": 5,
   "id": "1ec82df5",
   "metadata": {
    "execution": {
     "iopub.execute_input": "2022-12-11T06:41:18.484477Z",
     "iopub.status.busy": "2022-12-11T06:41:18.484234Z",
     "iopub.status.idle": "2022-12-11T06:41:19.728753Z",
     "shell.execute_reply": "2022-12-11T06:41:19.727877Z"
    },
    "papermill": {
     "duration": 1.252426,
     "end_time": "2022-12-11T06:41:19.730668",
     "exception": false,
     "start_time": "2022-12-11T06:41:18.478242",
     "status": "completed"
    },
    "tags": []
   },
   "outputs": [
    {
     "name": "stderr",
     "output_type": "stream",
     "text": [
      "2022-12-11 06:41:19,500\tINFO worker.py:842 -- Connecting to existing Ray cluster at address: 172.17.0.2:6379\n"
     ]
    }
   ],
   "source": [
    "import itertools as it\n",
    "\n",
    "#\n",
    "import numpy as np\n",
    "import matplotlib.pyplot as plt\n",
    "\n",
    "#\n",
    "from pynb_dag_runner.tasks.task_opentelemetry_logging import PydarLogger\n",
    "\n",
    "#\n",
    "from common.io import datalake_root\n",
    "\n",
    "logger = PydarLogger(P)"
   ]
  },
  {
   "cell_type": "markdown",
   "id": "475d57da",
   "metadata": {
    "papermill": {
     "duration": 0.005992,
     "end_time": "2022-12-11T06:41:19.743486",
     "exception": false,
     "start_time": "2022-12-11T06:41:19.737494",
     "status": "completed"
    },
    "tags": []
   },
   "source": [
    "## Load persisted onnx-model and evaluation data"
   ]
  },
  {
   "cell_type": "code",
   "execution_count": 6,
   "id": "f4c972e6",
   "metadata": {
    "execution": {
     "iopub.execute_input": "2022-12-11T06:41:19.753127Z",
     "iopub.status.busy": "2022-12-11T06:41:19.752483Z",
     "iopub.status.idle": "2022-12-11T06:41:19.756084Z",
     "shell.execute_reply": "2022-12-11T06:41:19.755420Z"
    },
    "papermill": {
     "duration": 0.010572,
     "end_time": "2022-12-11T06:41:19.758174",
     "exception": false,
     "start_time": "2022-12-11T06:41:19.747602",
     "status": "completed"
    },
    "tags": []
   },
   "outputs": [],
   "source": [
    "from common.io import read_onnx, get_onnx_inputs, get_onnx_outputs, read_numpy"
   ]
  },
  {
   "cell_type": "code",
   "execution_count": 7,
   "id": "3405d454",
   "metadata": {
    "execution": {
     "iopub.execute_input": "2022-12-11T06:41:19.768037Z",
     "iopub.status.busy": "2022-12-11T06:41:19.767568Z",
     "iopub.status.idle": "2022-12-11T06:41:19.777664Z",
     "shell.execute_reply": "2022-12-11T06:41:19.777003Z"
    },
    "lines_to_next_cell": 0,
    "papermill": {
     "duration": 0.016583,
     "end_time": "2022-12-11T06:41:19.779318",
     "exception": false,
     "start_time": "2022-12-11T06:41:19.762735",
     "status": "completed"
    },
    "tags": []
   },
   "outputs": [],
   "source": [
    "onnx_inference_session = read_onnx(\n",
    "    datalake_root(P)\n",
    "    / \"models\"\n",
    "    / f\"nr_train_images={P['task.nr_train_images']}\"\n",
    "    / \"model.onnx\"\n",
    ")"
   ]
  },
  {
   "cell_type": "markdown",
   "id": "31be8b06",
   "metadata": {
    "papermill": {
     "duration": 0.003975,
     "end_time": "2022-12-11T06:41:19.787575",
     "exception": false,
     "start_time": "2022-12-11T06:41:19.783600",
     "status": "completed"
    },
    "tags": []
   },
   "source": [
    "### Record structure of inputs and outputs for ONNX model\n",
    "\n",
    "(this should likely be done in training notebook)"
   ]
  },
  {
   "cell_type": "code",
   "execution_count": 8,
   "id": "abc95cde",
   "metadata": {
    "execution": {
     "iopub.execute_input": "2022-12-11T06:41:19.796808Z",
     "iopub.status.busy": "2022-12-11T06:41:19.796591Z",
     "iopub.status.idle": "2022-12-11T06:41:19.803001Z",
     "shell.execute_reply": "2022-12-11T06:41:19.802031Z"
    },
    "papermill": {
     "duration": 0.01623,
     "end_time": "2022-12-11T06:41:19.807792",
     "exception": false,
     "start_time": "2022-12-11T06:41:19.791562",
     "status": "completed"
    },
    "tags": []
   },
   "outputs": [
    {
     "name": "stdout",
     "output_type": "stream",
     "text": [
      "{\n",
      "  \"inputs\": [\n",
      "    {\n",
      "      \"name\": \"float_input_8x8_image\",\n",
      "      \"shape\": [\n",
      "        null,\n",
      "        64\n",
      "      ],\n",
      "      \"type\": \"tensor(float)\"\n",
      "    }\n",
      "  ],\n",
      "  \"outputs\": [\n",
      "    {\n",
      "      \"name\": \"output_label\",\n",
      "      \"shape\": [\n",
      "        null\n",
      "      ],\n",
      "      \"type\": \"tensor(int64)\"\n",
      "    },\n",
      "    {\n",
      "      \"name\": \"output_probability\",\n",
      "      \"shape\": [],\n",
      "      \"type\": \"seq(map(int64,tensor(float)))\"\n",
      "    }\n",
      "  ]\n",
      "}\n"
     ]
    }
   ],
   "source": [
    "import json\n",
    "\n",
    "onnx_io = json.dumps(\n",
    "    {\n",
    "        \"inputs\": get_onnx_inputs(onnx_inference_session),\n",
    "        \"outputs\": get_onnx_outputs(onnx_inference_session),\n",
    "    },\n",
    "    indent=2,\n",
    ")\n",
    "\n",
    "\n",
    "logger.log_artefact(\"onnx_io_structure.json\", onnx_io)\n",
    "print(onnx_io)"
   ]
  },
  {
   "cell_type": "markdown",
   "id": "a3ebe935",
   "metadata": {
    "papermill": {
     "duration": 0.003993,
     "end_time": "2022-12-11T06:41:19.816754",
     "exception": false,
     "start_time": "2022-12-11T06:41:19.812761",
     "status": "completed"
    },
    "tags": []
   },
   "source": [
    "### Evaluate model performance on evaluation data set"
   ]
  },
  {
   "cell_type": "code",
   "execution_count": 9,
   "id": "04dcb7c2",
   "metadata": {
    "execution": {
     "iopub.execute_input": "2022-12-11T06:41:19.827053Z",
     "iopub.status.busy": "2022-12-11T06:41:19.826717Z",
     "iopub.status.idle": "2022-12-11T06:41:19.837466Z",
     "shell.execute_reply": "2022-12-11T06:41:19.836831Z"
    },
    "papermill": {
     "duration": 0.018164,
     "end_time": "2022-12-11T06:41:19.839047",
     "exception": false,
     "start_time": "2022-12-11T06:41:19.820883",
     "status": "completed"
    },
    "tags": []
   },
   "outputs": [],
   "source": [
    "# load evaluation data\n",
    "X_test = read_numpy(datalake_root(P) / \"test-data\" / \"digits.numpy\")\n",
    "y_test = read_numpy(datalake_root(P) / \"test-data\" / \"labels.numpy\")"
   ]
  },
  {
   "cell_type": "code",
   "execution_count": 10,
   "id": "f6a8197e",
   "metadata": {
    "execution": {
     "iopub.execute_input": "2022-12-11T06:41:19.857946Z",
     "iopub.status.busy": "2022-12-11T06:41:19.857589Z",
     "iopub.status.idle": "2022-12-11T06:41:19.870560Z",
     "shell.execute_reply": "2022-12-11T06:41:19.869835Z"
    },
    "papermill": {
     "duration": 0.028585,
     "end_time": "2022-12-11T06:41:19.872031",
     "exception": false,
     "start_time": "2022-12-11T06:41:19.843446",
     "status": "completed"
    },
    "tags": []
   },
   "outputs": [],
   "source": [
    "def get_model_outputs(X, onnx_inference_session):\n",
    "    y_pred_labels, y_pred_map = onnx_inference_session.run(\n",
    "        [\"output_label\", \"output_probability\"],\n",
    "        {\"float_input_8x8_image\": X.astype(np.float32)},\n",
    "    )\n",
    "    y_pred_probs = np.array(\n",
    "        [[probabilities[digit] for digit in range(10)] for probabilities in y_pred_map]\n",
    "    )\n",
    "\n",
    "    assert y_pred_labels.shape == (X.shape[0],)\n",
    "    assert y_pred_probs.shape == (X.shape[0], 10)\n",
    "\n",
    "    return y_pred_labels, y_pred_probs\n",
    "\n",
    "\n",
    "# Note: as shown in the training notebook, the predicted labels and probabilities\n",
    "# computed below need not be compatible.\n",
    "y_pred_labels_test, y_pred_probs_test = get_model_outputs(\n",
    "    X_test, onnx_inference_session\n",
    ")"
   ]
  },
  {
   "cell_type": "markdown",
   "id": "900ab990",
   "metadata": {
    "papermill": {
     "duration": 0.005893,
     "end_time": "2022-12-11T06:41:19.885474",
     "exception": false,
     "start_time": "2022-12-11T06:41:19.879581",
     "status": "completed"
    },
    "tags": []
   },
   "source": [
    "### Confusion matrix"
   ]
  },
  {
   "cell_type": "code",
   "execution_count": 11,
   "id": "a1581907",
   "metadata": {
    "execution": {
     "iopub.execute_input": "2022-12-11T06:41:19.896148Z",
     "iopub.status.busy": "2022-12-11T06:41:19.895510Z",
     "iopub.status.idle": "2022-12-11T06:41:19.898503Z",
     "shell.execute_reply": "2022-12-11T06:41:19.897993Z"
    },
    "papermill": {
     "duration": 0.010505,
     "end_time": "2022-12-11T06:41:19.900700",
     "exception": false,
     "start_time": "2022-12-11T06:41:19.890195",
     "status": "completed"
    },
    "tags": []
   },
   "outputs": [],
   "source": [
    "# TODO"
   ]
  },
  {
   "cell_type": "markdown",
   "id": "64e0e76a",
   "metadata": {
    "papermill": {
     "duration": 0.004265,
     "end_time": "2022-12-11T06:41:19.911945",
     "exception": false,
     "start_time": "2022-12-11T06:41:19.907680",
     "status": "completed"
    },
    "tags": []
   },
   "source": [
    "### Plot predicted probabilities for each classifier over all evaluation digit images"
   ]
  },
  {
   "cell_type": "code",
   "execution_count": 12,
   "id": "99d602cc",
   "metadata": {
    "execution": {
     "iopub.execute_input": "2022-12-11T06:41:19.922139Z",
     "iopub.status.busy": "2022-12-11T06:41:19.921382Z",
     "iopub.status.idle": "2022-12-11T06:41:22.844829Z",
     "shell.execute_reply": "2022-12-11T06:41:22.844257Z"
    },
    "papermill": {
     "duration": 2.929999,
     "end_time": "2022-12-11T06:41:22.846611",
     "exception": false,
     "start_time": "2022-12-11T06:41:19.916612",
     "status": "completed"
    },
    "tags": []
   },
   "outputs": [
    {
     "data": {
      "image/png": "[encoded data removed]",
      "text/plain": [
       "<Figure size 1600x600 with 10 Axes>"
      ]
     },
     "metadata": {},
     "output_type": "display_data"
    }
   ],
   "source": [
    "def plot_per_digit_probabilities(y_pred_probs):\n",
    "    fig, axs = plt.subplots(nrows=2, ncols=5, figsize=(16, 6))\n",
    "\n",
    "    for (r, c), digit, ax in zip(\n",
    "        it.product(range(2), range(5)), range(10), axs.reshape(-1)\n",
    "    ):\n",
    "        ax.hist(y_pred_probs_test[:, digit], bins=20)\n",
    "\n",
    "        ax.set_title(f\"Digit {digit}\")\n",
    "        if r == 1 and c == 2:\n",
    "            ax.set_xlabel(\"probability\", fontsize=16)\n",
    "\n",
    "        if c == 0:\n",
    "            ax.set_ylabel(\"counts\", fontsize=16)\n",
    "        ax.set_yscale(\"log\")\n",
    "\n",
    "    fig.tight_layout()\n",
    "    fig.suptitle(\n",
    "        f\"Distributions of prediction probabilities for each digit \"\n",
    "        f\"(on evaluation data, n={y_pred_probs.shape[0]})\",\n",
    "        fontsize=20,\n",
    "    )\n",
    "    fig.tight_layout()\n",
    "    fig.show()\n",
    "\n",
    "    return fig\n",
    "\n",
    "\n",
    "fig = plot_per_digit_probabilities(y_pred_probs_test)"
   ]
  },
  {
   "cell_type": "markdown",
   "id": "61afcfc5",
   "metadata": {
    "papermill": {
     "duration": 0.005623,
     "end_time": "2022-12-11T06:41:22.858536",
     "exception": false,
     "start_time": "2022-12-11T06:41:22.852913",
     "status": "completed"
    },
    "tags": []
   },
   "source": [
    "From the above distributions we see that most digits have clear separation between\n",
    "high and lower probabilities. Morover, in each case there is roughly an order of\n",
    "magnitude more of digits with low probabilities. This is compatible with digits\n",
    "being roughly evenly distributed in the data."
   ]
  },
  {
   "cell_type": "code",
   "execution_count": 13,
   "id": "9875182d",
   "metadata": {
    "execution": {
     "iopub.execute_input": "2022-12-11T06:41:22.870584Z",
     "iopub.status.busy": "2022-12-11T06:41:22.870203Z",
     "iopub.status.idle": "2022-12-11T06:41:23.316590Z",
     "shell.execute_reply": "2022-12-11T06:41:23.315462Z"
    },
    "papermill": {
     "duration": 0.455058,
     "end_time": "2022-12-11T06:41:23.318607",
     "exception": false,
     "start_time": "2022-12-11T06:41:22.863549",
     "status": "completed"
    },
    "tags": []
   },
   "outputs": [],
   "source": [
    "logger.log_figure(\"per-digit-probabilities.png\", fig)"
   ]
  },
  {
   "cell_type": "markdown",
   "id": "ff6fdeaa",
   "metadata": {
    "papermill": {
     "duration": 0.0051,
     "end_time": "2022-12-11T06:41:23.329016",
     "exception": false,
     "start_time": "2022-12-11T06:41:23.323916",
     "status": "completed"
    },
    "tags": []
   },
   "source": [
    "### Plot ROC curves for individual one-vs-rest classifiers"
   ]
  },
  {
   "cell_type": "code",
   "execution_count": 14,
   "id": "18530367",
   "metadata": {
    "execution": {
     "iopub.execute_input": "2022-12-11T06:41:23.340690Z",
     "iopub.status.busy": "2022-12-11T06:41:23.340193Z",
     "iopub.status.idle": "2022-12-11T06:41:23.728432Z",
     "shell.execute_reply": "2022-12-11T06:41:23.727739Z"
    },
    "papermill": {
     "duration": 0.396174,
     "end_time": "2022-12-11T06:41:23.730248",
     "exception": false,
     "start_time": "2022-12-11T06:41:23.334074",
     "status": "completed"
    },
    "tags": []
   },
   "outputs": [],
   "source": [
    "from sklearn import metrics"
   ]
  },
  {
   "cell_type": "code",
   "execution_count": 15,
   "id": "bf4944fc",
   "metadata": {
    "execution": {
     "iopub.execute_input": "2022-12-11T06:41:23.742648Z",
     "iopub.status.busy": "2022-12-11T06:41:23.741975Z",
     "iopub.status.idle": "2022-12-11T06:41:24.783488Z",
     "shell.execute_reply": "2022-12-11T06:41:24.782774Z"
    },
    "papermill": {
     "duration": 1.049285,
     "end_time": "2022-12-11T06:41:24.785249",
     "exception": false,
     "start_time": "2022-12-11T06:41:23.735964",
     "status": "completed"
    },
    "tags": []
   },
   "outputs": [
    {
     "data": {
      "image/png": "[encoded data removed]",
      "text/plain": [
       "<Figure size 1600x800 with 10 Axes>"
      ]
     },
     "metadata": {},
     "output_type": "display_data"
    }
   ],
   "source": [
    "def plot_roc_curves(y, y_pred_probs):\n",
    "    # based on example code\n",
    "    # https://scikit-learn.org/stable/auto_examples/model_selection/plot_roc.html\n",
    "\n",
    "    fig, axs = plt.subplots(nrows=2, ncols=5, figsize=(16, 8))\n",
    "\n",
    "    roc_auc_dict = {}\n",
    "\n",
    "    for (r, c), digit, ax in zip(\n",
    "        it.product(range(2), range(5)), range(10), axs.reshape(-1)\n",
    "    ):\n",
    "        fpr, tpr, _ = metrics.roc_curve(y == digit, y_pred_probs[:, digit])\n",
    "        auc = metrics.auc(fpr, tpr)\n",
    "        roc_auc_dict[str(digit)] = auc\n",
    "\n",
    "        ax.plot(fpr, tpr, label=f\"ROC AUC={round(auc, 3)}\")\n",
    "\n",
    "        ax.set_title(f\"\\nDigit {digit}\", fontsize=16)\n",
    "        if r == 1:\n",
    "            ax.set_xlabel(\"FPR\", fontsize=18)\n",
    "\n",
    "        if c == 0:\n",
    "            ax.set_ylabel(\"TPR\", fontsize=18)\n",
    "\n",
    "        ax.set_xlim([-0.05, 1.05])\n",
    "        ax.set_ylim([-0.05, 1.05])\n",
    "        ax.legend(loc=\"lower right\", frameon=False, fontsize=14)\n",
    "\n",
    "    fig.tight_layout()\n",
    "    fig.suptitle(\n",
    "        f\"ROC plots for one-vs-rest performances \"\n",
    "        f\"(on evaluation data, n={y_pred_probs_test.shape[1]}\",\n",
    "        fontsize=22,\n",
    "    )\n",
    "    fig.tight_layout()\n",
    "    fig.show()\n",
    "\n",
    "    return roc_auc_dict, fig\n",
    "\n",
    "\n",
    "roc_auc_dict, fig = plot_roc_curves(y_test, y_pred_probs_test)"
   ]
  },
  {
   "cell_type": "code",
   "execution_count": 16,
   "id": "3c988cc4",
   "metadata": {
    "execution": {
     "iopub.execute_input": "2022-12-11T06:41:24.798548Z",
     "iopub.status.busy": "2022-12-11T06:41:24.798151Z",
     "iopub.status.idle": "2022-12-11T06:41:25.035274Z",
     "shell.execute_reply": "2022-12-11T06:41:25.034324Z"
    },
    "papermill": {
     "duration": 0.245695,
     "end_time": "2022-12-11T06:41:25.037198",
     "exception": false,
     "start_time": "2022-12-11T06:41:24.791503",
     "status": "completed"
    },
    "tags": []
   },
   "outputs": [],
   "source": [
    "logger.log_figure(\"per-digit-roc-curves.png\", fig)"
   ]
  },
  {
   "cell_type": "code",
   "execution_count": 17,
   "id": "f30ca02d",
   "metadata": {
    "execution": {
     "iopub.execute_input": "2022-12-11T06:41:25.051244Z",
     "iopub.status.busy": "2022-12-11T06:41:25.050785Z",
     "iopub.status.idle": "2022-12-11T06:41:25.055658Z",
     "shell.execute_reply": "2022-12-11T06:41:25.054891Z"
    },
    "papermill": {
     "duration": 0.014217,
     "end_time": "2022-12-11T06:41:25.058001",
     "exception": false,
     "start_time": "2022-12-11T06:41:25.043784",
     "status": "completed"
    },
    "tags": []
   },
   "outputs": [
    {
     "data": {
      "text/plain": [
       "{'0': 1.0,\n",
       " '1': 0.998912839737582,\n",
       " '2': 1.0,\n",
       " '3': 0.9998500468603562,\n",
       " '4': 0.9996951684194482,\n",
       " '5': 0.9996626054358013,\n",
       " '6': 0.999923792104862,\n",
       " '7': 0.9998475842097242,\n",
       " '8': 0.9956651954602775,\n",
       " '9': 0.9996951684194483}"
      ]
     },
     "execution_count": 17,
     "metadata": {},
     "output_type": "execute_result"
    }
   ],
   "source": [
    "roc_auc_dict"
   ]
  },
  {
   "cell_type": "code",
   "execution_count": 18,
   "id": "f60e8965",
   "metadata": {
    "execution": {
     "iopub.execute_input": "2022-12-11T06:41:25.072594Z",
     "iopub.status.busy": "2022-12-11T06:41:25.072174Z",
     "iopub.status.idle": "2022-12-11T06:41:25.076255Z",
     "shell.execute_reply": "2022-12-11T06:41:25.075730Z"
    },
    "papermill": {
     "duration": 0.013258,
     "end_time": "2022-12-11T06:41:25.078218",
     "exception": false,
     "start_time": "2022-12-11T06:41:25.064960",
     "status": "completed"
    },
    "tags": []
   },
   "outputs": [
    {
     "name": "stdout",
     "output_type": "stream",
     "text": [
      " - Logging roc_auc_per_digit (json) : {'0': 1.0, '1': 0.998912839737582, '2': 1.0, '3': 0.9998500468603562, '4': 0.9996951684194482, '5': 0.9996626054358013, '6': 0.999923792104862, '7': 0.9998475842097242, '8': 0.9956651954602775, '9': 0.9996951684194483}\n"
     ]
    }
   ],
   "source": [
    "logger.log_value(\"roc_auc_per_digit\", roc_auc_dict)"
   ]
  },
  {
   "cell_type": "markdown",
   "id": "ddb5a035",
   "metadata": {
    "papermill": {
     "duration": 0.006241,
     "end_time": "2022-12-11T06:41:25.090720",
     "exception": false,
     "start_time": "2022-12-11T06:41:25.084479",
     "status": "completed"
    },
    "tags": []
   },
   "source": [
    "### Compute and log mean ROC AUC score averaged over all digits"
   ]
  },
  {
   "cell_type": "code",
   "execution_count": 19,
   "id": "6fbe9e64",
   "metadata": {
    "execution": {
     "iopub.execute_input": "2022-12-11T06:41:25.104474Z",
     "iopub.status.busy": "2022-12-11T06:41:25.103721Z",
     "iopub.status.idle": "2022-12-11T06:41:25.115111Z",
     "shell.execute_reply": "2022-12-11T06:41:25.114429Z"
    },
    "papermill": {
     "duration": 0.019841,
     "end_time": "2022-12-11T06:41:25.116565",
     "exception": false,
     "start_time": "2022-12-11T06:41:25.096724",
     "status": "completed"
    },
    "tags": []
   },
   "outputs": [
    {
     "name": "stdout",
     "output_type": "stream",
     "text": [
      " - Logging roc_auc_class_mean (float) : 0.9993252400647499\n"
     ]
    }
   ],
   "source": [
    "roc_auc_macro = np.mean(list(roc_auc_dict.values()))\n",
    "\n",
    "logger.log_float(\"roc_auc_class_mean\", roc_auc_macro)\n",
    "\n",
    "# assert that the same value can be computed directly using sklearn\n",
    "assert roc_auc_macro == metrics.roc_auc_score(\n",
    "    y_test, y_pred_probs_test, average=\"macro\", multi_class=\"ovr\"\n",
    ")"
   ]
  },
  {
   "cell_type": "code",
   "execution_count": 20,
   "id": "6debfe24",
   "metadata": {
    "execution": {
     "iopub.execute_input": "2022-12-11T06:41:25.130592Z",
     "iopub.status.busy": "2022-12-11T06:41:25.130213Z",
     "iopub.status.idle": "2022-12-11T06:41:25.135800Z",
     "shell.execute_reply": "2022-12-11T06:41:25.132674Z"
    },
    "lines_to_next_cell": 0,
    "papermill": {
     "duration": 0.015964,
     "end_time": "2022-12-11T06:41:25.138876",
     "exception": false,
     "start_time": "2022-12-11T06:41:25.122912",
     "status": "completed"
    },
    "tags": []
   },
   "outputs": [],
   "source": [
    "# ---"
   ]
  },
  {
   "cell_type": "code",
   "execution_count": null,
   "id": "400d0424",
   "metadata": {
    "papermill": {
     "duration": 0.006094,
     "end_time": "2022-12-11T06:41:25.151912",
     "exception": false,
     "start_time": "2022-12-11T06:41:25.145818",
     "status": "completed"
    },
    "tags": []
   },
   "outputs": [],
   "source": []
  }
 ],
 "metadata": {
  "jupytext": {
   "cell_metadata_filter": "tags,-all",
   "main_language": "python",
   "notebook_metadata_filter": "-all"
  },
  "language_info": {
   "codemirror_mode": {
    "name": "ipython",
    "version": 3
   },
   "file_extension": ".py",
   "mimetype": "text/x-python",
   "name": "python",
   "nbconvert_exporter": "python",
   "pygments_lexer": "ipython3",
   "version": "3.8.10"
  },
  "papermill": {
   "default_parameters": {},
   "duration": 9.136969,
   "end_time": "2022-12-11T06:41:26.282102",
   "environment_variables": {},
   "exception": null,
   "input_path": "/home/host_user/workspace/mnist-demo-pipeline/mnist-demo-pipeline/notebooks/temp-notebook-_k87pq5q.ipynb",
   "output_path": "notebooks/benchmark-model.ipynb",
   "parameters": {
    "P": {
     "_opentelemetry_traceparent": "00-9dd51a17dc70753ce85eae75616a86fd-60944b5b098ea334-01",
     "pipeline.data_lake_root": "/pipeline-outputs/data-lake",
     "pipeline.github.actor": "matiasdahl",
     "pipeline.github.base_ref": "",
     "pipeline.github.event_name": "schedule",
     "pipeline.github.head_ref": "",
     "pipeline.github.job": "run-tests-pipeline-and-persist-pipeline-outputs",
     "pipeline.github.ref": "refs/heads/development",
     "pipeline.github.ref_name": "development",
     "pipeline.github.ref_type": "branch",
     "pipeline.github.repository": "matiasdahl/dev-mnist-digits-demo-pipeline",
     "pipeline.github.run_id": "3667777653",
     "pipeline.github.runner_name": "Hosted Agent",
     "pipeline.github.sha": "ace0d01011d5e914f1921450dd5a59c11367b38d",
     "pipeline.github.workflow": "Run automated tests, pipeline and deploy results to static reporting site",
     "pipeline.pipeline_run_id": "b3ff047b-f05b-4270-8ac0-9227d96a1a35",
     "pipeline.run_environment": "ci",
     "run.retry_nr": "0",
     "task.max_nr_retries": "1",
     "task.notebook": "notebooks/benchmark-model.py",
     "task.nr_train_images": 1200,
     "task.num_cpus": 1,
     "task.timeout_s": "None"
    }
   },
   "start_time": "2022-12-11T06:41:17.145133",
   "version": "2.3.3"
  }
 },
 "nbformat": 4,
 "nbformat_minor": 5
}