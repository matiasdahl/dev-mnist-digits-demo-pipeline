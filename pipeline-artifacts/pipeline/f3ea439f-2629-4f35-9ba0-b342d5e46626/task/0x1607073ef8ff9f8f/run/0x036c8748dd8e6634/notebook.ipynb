{
 "cells": [
  {
   "cell_type": "markdown",
   "id": "30ef8b95",
   "metadata": {
    "papermill": {
     "duration": 0.006217,
     "end_time": "2022-12-07T06:43:51.771035",
     "exception": false,
     "start_time": "2022-12-07T06:43:51.764818",
     "status": "completed"
    },
    "tags": []
   },
   "source": [
    "# Benchmark model\n",
    "\n",
    "The purpose of this notebook is to benchmark persisted onnx-model (trained in the\n",
    "previous step) against evaluation set."
   ]
  },
  {
   "cell_type": "markdown",
   "id": "311907e3",
   "metadata": {
    "papermill": {
     "duration": 0.004617,
     "end_time": "2022-12-07T06:43:51.780507",
     "exception": false,
     "start_time": "2022-12-07T06:43:51.775890",
     "status": "completed"
    },
    "tags": []
   },
   "source": [
    "### Determine run parameters"
   ]
  },
  {
   "cell_type": "code",
   "execution_count": 1,
   "id": "4091af96",
   "metadata": {
    "execution": {
     "iopub.execute_input": "2022-12-07T06:43:51.791512Z",
     "iopub.status.busy": "2022-12-07T06:43:51.791127Z",
     "iopub.status.idle": "2022-12-07T06:43:51.800971Z",
     "shell.execute_reply": "2022-12-07T06:43:51.800336Z"
    },
    "lines_to_next_cell": 0,
    "papermill": {
     "duration": 0.01781,
     "end_time": "2022-12-07T06:43:51.802957",
     "exception": false,
     "start_time": "2022-12-07T06:43:51.785147",
     "status": "completed"
    },
    "tags": []
   },
   "outputs": [],
   "source": [
    "# ----------------- Parameters for interactive development --------------\n",
    "P = {\n",
    "    \"pipeline.data_lake_root\": \"/pipeline-outputs/data-lake\",\n",
    "    \"task.nr_train_images\": 600,\n",
    "}"
   ]
  },
  {
   "cell_type": "code",
   "execution_count": 2,
   "id": "32312fcc",
   "metadata": {
    "execution": {
     "iopub.execute_input": "2022-12-07T06:43:51.813320Z",
     "iopub.status.busy": "2022-12-07T06:43:51.813056Z",
     "iopub.status.idle": "2022-12-07T06:43:51.816462Z",
     "shell.execute_reply": "2022-12-07T06:43:51.815840Z"
    },
    "lines_to_next_cell": 0,
    "papermill": {
     "duration": 0.012365,
     "end_time": "2022-12-07T06:43:51.820105",
     "exception": false,
     "start_time": "2022-12-07T06:43:51.807740",
     "status": "completed"
    },
    "tags": [
     "parameters"
    ]
   },
   "outputs": [],
   "source": [
    "# - During automated runs parameters will be injected in the below cell -"
   ]
  },
  {
   "cell_type": "code",
   "execution_count": 3,
   "id": "cff35ebc",
   "metadata": {
    "execution": {
     "iopub.execute_input": "2022-12-07T06:43:51.830019Z",
     "iopub.status.busy": "2022-12-07T06:43:51.829775Z",
     "iopub.status.idle": "2022-12-07T06:43:51.835410Z",
     "shell.execute_reply": "2022-12-07T06:43:51.834692Z"
    },
    "papermill": {
     "duration": 0.01519,
     "end_time": "2022-12-07T06:43:51.839591",
     "exception": false,
     "start_time": "2022-12-07T06:43:51.824401",
     "status": "completed"
    },
    "tags": [
     "injected-parameters"
    ]
   },
   "outputs": [],
   "source": [
    "# Parameters\n",
    "P = {\n",
    "    \"pipeline.data_lake_root\": \"/pipeline-outputs/data-lake\",\n",
    "    \"pipeline.run_environment\": \"ci\",\n",
    "    \"pipeline.pipeline_run_id\": \"f3ea439f-2629-4f35-9ba0-b342d5e46626\",\n",
    "    \"pipeline.github.repository\": \"matiasdahl/dev-mnist-digits-demo-pipeline\",\n",
    "    \"pipeline.github.workflow\": \"Run automated tests, pipeline and deploy results to static reporting site\",\n",
    "    \"pipeline.github.runner_name\": \"Hosted Agent\",\n",
    "    \"pipeline.github.run_id\": \"3636482485\",\n",
    "    \"pipeline.github.actor\": \"matiasdahl\",\n",
    "    \"pipeline.github.job\": \"run-tests-pipeline-and-persist-pipeline-outputs\",\n",
    "    \"pipeline.github.base_ref\": \"\",\n",
    "    \"pipeline.github.head_ref\": \"\",\n",
    "    \"pipeline.github.sha\": \"ace0d01011d5e914f1921450dd5a59c11367b38d\",\n",
    "    \"pipeline.github.ref\": \"refs/heads/development\",\n",
    "    \"pipeline.github.ref_type\": \"branch\",\n",
    "    \"pipeline.github.ref_name\": \"development\",\n",
    "    \"pipeline.github.event_name\": \"schedule\",\n",
    "    \"task.nr_train_images\": 1000,\n",
    "    \"task.notebook\": \"notebooks/benchmark-model.py\",\n",
    "    \"task.max_nr_retries\": \"1\",\n",
    "    \"run.retry_nr\": \"0\",\n",
    "    \"task.timeout_s\": \"None\",\n",
    "    \"task.num_cpus\": 1,\n",
    "    \"_opentelemetry_traceparent\": \"00-dcc7a682a10aa94c0c3676ffb75c1a75-a78a3971d190aaa4-01\",\n",
    "}\n"
   ]
  },
  {
   "cell_type": "code",
   "execution_count": 4,
   "id": "6b5597f6",
   "metadata": {
    "execution": {
     "iopub.execute_input": "2022-12-07T06:43:51.850219Z",
     "iopub.status.busy": "2022-12-07T06:43:51.849964Z",
     "iopub.status.idle": "2022-12-07T06:43:51.853583Z",
     "shell.execute_reply": "2022-12-07T06:43:51.852748Z"
    },
    "lines_to_next_cell": 0,
    "papermill": {
     "duration": 0.012317,
     "end_time": "2022-12-07T06:43:51.856536",
     "exception": false,
     "start_time": "2022-12-07T06:43:51.844219",
     "status": "completed"
    },
    "tags": []
   },
   "outputs": [],
   "source": [
    "# -----------------------------------------------------------------------"
   ]
  },
  {
   "cell_type": "markdown",
   "id": "32693a7f",
   "metadata": {
    "papermill": {
     "duration": 0.004943,
     "end_time": "2022-12-07T06:43:51.866218",
     "exception": false,
     "start_time": "2022-12-07T06:43:51.861275",
     "status": "completed"
    },
    "tags": []
   },
   "source": [
    "---"
   ]
  },
  {
   "cell_type": "markdown",
   "id": "ef043388",
   "metadata": {
    "lines_to_next_cell": 2,
    "papermill": {
     "duration": 0.004438,
     "end_time": "2022-12-07T06:43:51.876075",
     "exception": false,
     "start_time": "2022-12-07T06:43:51.871637",
     "status": "completed"
    },
    "tags": []
   },
   "source": [
    "### Notebook code"
   ]
  },
  {
   "cell_type": "code",
   "execution_count": 5,
   "id": "fcee9d6f",
   "metadata": {
    "execution": {
     "iopub.execute_input": "2022-12-07T06:43:51.887172Z",
     "iopub.status.busy": "2022-12-07T06:43:51.886593Z",
     "iopub.status.idle": "2022-12-07T06:43:53.167671Z",
     "shell.execute_reply": "2022-12-07T06:43:53.166818Z"
    },
    "papermill": {
     "duration": 1.289477,
     "end_time": "2022-12-07T06:43:53.170282",
     "exception": false,
     "start_time": "2022-12-07T06:43:51.880805",
     "status": "completed"
    },
    "tags": []
   },
   "outputs": [
    {
     "name": "stderr",
     "output_type": "stream",
     "text": [
      "2022-12-07 06:43:52,991\tINFO worker.py:842 -- Connecting to existing Ray cluster at address: 172.17.0.2:6379\n"
     ]
    }
   ],
   "source": [
    "import itertools as it\n",
    "\n",
    "#\n",
    "import numpy as np\n",
    "import matplotlib.pyplot as plt\n",
    "\n",
    "#\n",
    "from pynb_dag_runner.tasks.task_opentelemetry_logging import PydarLogger\n",
    "\n",
    "#\n",
    "from common.io import datalake_root\n",
    "\n",
    "logger = PydarLogger(P)"
   ]
  },
  {
   "cell_type": "markdown",
   "id": "d54f148d",
   "metadata": {
    "papermill": {
     "duration": 0.005674,
     "end_time": "2022-12-07T06:43:53.185622",
     "exception": false,
     "start_time": "2022-12-07T06:43:53.179948",
     "status": "completed"
    },
    "tags": []
   },
   "source": [
    "## Load persisted onnx-model and evaluation data"
   ]
  },
  {
   "cell_type": "code",
   "execution_count": 6,
   "id": "6a6badc6",
   "metadata": {
    "execution": {
     "iopub.execute_input": "2022-12-07T06:43:53.197531Z",
     "iopub.status.busy": "2022-12-07T06:43:53.197107Z",
     "iopub.status.idle": "2022-12-07T06:43:53.201161Z",
     "shell.execute_reply": "2022-12-07T06:43:53.200554Z"
    },
    "papermill": {
     "duration": 0.014611,
     "end_time": "2022-12-07T06:43:53.205149",
     "exception": false,
     "start_time": "2022-12-07T06:43:53.190538",
     "status": "completed"
    },
    "tags": []
   },
   "outputs": [],
   "source": [
    "from common.io import read_onnx, get_onnx_inputs, get_onnx_outputs, read_numpy"
   ]
  },
  {
   "cell_type": "code",
   "execution_count": 7,
   "id": "7db03939",
   "metadata": {
    "execution": {
     "iopub.execute_input": "2022-12-07T06:43:53.218205Z",
     "iopub.status.busy": "2022-12-07T06:43:53.217901Z",
     "iopub.status.idle": "2022-12-07T06:43:53.233041Z",
     "shell.execute_reply": "2022-12-07T06:43:53.232271Z"
    },
    "lines_to_next_cell": 0,
    "papermill": {
     "duration": 0.024935,
     "end_time": "2022-12-07T06:43:53.236112",
     "exception": false,
     "start_time": "2022-12-07T06:43:53.211177",
     "status": "completed"
    },
    "tags": []
   },
   "outputs": [],
   "source": [
    "onnx_inference_session = read_onnx(\n",
    "    datalake_root(P)\n",
    "    / \"models\"\n",
    "    / f\"nr_train_images={P['task.nr_train_images']}\"\n",
    "    / \"model.onnx\"\n",
    ")"
   ]
  },
  {
   "cell_type": "markdown",
   "id": "42569423",
   "metadata": {
    "papermill": {
     "duration": 0.006298,
     "end_time": "2022-12-07T06:43:53.248502",
     "exception": false,
     "start_time": "2022-12-07T06:43:53.242204",
     "status": "completed"
    },
    "tags": []
   },
   "source": [
    "### Record structure of inputs and outputs for ONNX model\n",
    "\n",
    "(this should likely be done in training notebook)"
   ]
  },
  {
   "cell_type": "code",
   "execution_count": 8,
   "id": "ba3fc1d3",
   "metadata": {
    "execution": {
     "iopub.execute_input": "2022-12-07T06:43:53.264285Z",
     "iopub.status.busy": "2022-12-07T06:43:53.263936Z",
     "iopub.status.idle": "2022-12-07T06:43:53.274678Z",
     "shell.execute_reply": "2022-12-07T06:43:53.273977Z"
    },
    "papermill": {
     "duration": 0.032202,
     "end_time": "2022-12-07T06:43:53.288672",
     "exception": false,
     "start_time": "2022-12-07T06:43:53.256470",
     "status": "completed"
    },
    "tags": []
   },
   "outputs": [
    {
     "name": "stdout",
     "output_type": "stream",
     "text": [
      "{\n",
      "  \"inputs\": [\n",
      "    {\n",
      "      \"name\": \"float_input_8x8_image\",\n",
      "      \"shape\": [\n",
      "        null,\n",
      "        64\n",
      "      ],\n",
      "      \"type\": \"tensor(float)\"\n",
      "    }\n",
      "  ],\n",
      "  \"outputs\": [\n",
      "    {\n",
      "      \"name\": \"output_label\",\n",
      "      \"shape\": [\n",
      "        null\n",
      "      ],\n",
      "      \"type\": \"tensor(int64)\"\n",
      "    },\n",
      "    {\n",
      "      \"name\": \"output_probability\",\n",
      "      \"shape\": [],\n",
      "      \"type\": \"seq(map(int64,tensor(float)))\"\n",
      "    }\n",
      "  ]\n",
      "}\n"
     ]
    }
   ],
   "source": [
    "import json\n",
    "\n",
    "onnx_io = json.dumps(\n",
    "    {\n",
    "        \"inputs\": get_onnx_inputs(onnx_inference_session),\n",
    "        \"outputs\": get_onnx_outputs(onnx_inference_session),\n",
    "    },\n",
    "    indent=2,\n",
    ")\n",
    "\n",
    "\n",
    "logger.log_artefact(\"onnx_io_structure.json\", onnx_io)\n",
    "print(onnx_io)"
   ]
  },
  {
   "cell_type": "markdown",
   "id": "3100b9ba",
   "metadata": {
    "papermill": {
     "duration": 0.006488,
     "end_time": "2022-12-07T06:43:53.300872",
     "exception": false,
     "start_time": "2022-12-07T06:43:53.294384",
     "status": "completed"
    },
    "tags": []
   },
   "source": [
    "### Evaluate model performance on evaluation data set"
   ]
  },
  {
   "cell_type": "code",
   "execution_count": 9,
   "id": "1fa1dd34",
   "metadata": {
    "execution": {
     "iopub.execute_input": "2022-12-07T06:43:53.314644Z",
     "iopub.status.busy": "2022-12-07T06:43:53.314317Z",
     "iopub.status.idle": "2022-12-07T06:43:53.322206Z",
     "shell.execute_reply": "2022-12-07T06:43:53.320376Z"
    },
    "papermill": {
     "duration": 0.018914,
     "end_time": "2022-12-07T06:43:53.325359",
     "exception": false,
     "start_time": "2022-12-07T06:43:53.306445",
     "status": "completed"
    },
    "tags": []
   },
   "outputs": [],
   "source": [
    "# load evaluation data\n",
    "X_test = read_numpy(datalake_root(P) / \"test-data\" / \"digits.numpy\")\n",
    "y_test = read_numpy(datalake_root(P) / \"test-data\" / \"labels.numpy\")"
   ]
  },
  {
   "cell_type": "code",
   "execution_count": 10,
   "id": "720151b2",
   "metadata": {
    "execution": {
     "iopub.execute_input": "2022-12-07T06:43:53.339959Z",
     "iopub.status.busy": "2022-12-07T06:43:53.339546Z",
     "iopub.status.idle": "2022-12-07T06:43:53.422714Z",
     "shell.execute_reply": "2022-12-07T06:43:53.421705Z"
    },
    "papermill": {
     "duration": 0.092971,
     "end_time": "2022-12-07T06:43:53.424930",
     "exception": false,
     "start_time": "2022-12-07T06:43:53.331959",
     "status": "completed"
    },
    "tags": []
   },
   "outputs": [],
   "source": [
    "def get_model_outputs(X, onnx_inference_session):\n",
    "    y_pred_labels, y_pred_map = onnx_inference_session.run(\n",
    "        [\"output_label\", \"output_probability\"],\n",
    "        {\"float_input_8x8_image\": X.astype(np.float32)},\n",
    "    )\n",
    "    y_pred_probs = np.array(\n",
    "        [[probabilities[digit] for digit in range(10)] for probabilities in y_pred_map]\n",
    "    )\n",
    "\n",
    "    assert y_pred_labels.shape == (X.shape[0],)\n",
    "    assert y_pred_probs.shape == (X.shape[0], 10)\n",
    "\n",
    "    return y_pred_labels, y_pred_probs\n",
    "\n",
    "\n",
    "# Note: as shown in the training notebook, the predicted labels and probabilities\n",
    "# computed below need not be compatible.\n",
    "y_pred_labels_test, y_pred_probs_test = get_model_outputs(\n",
    "    X_test, onnx_inference_session\n",
    ")"
   ]
  },
  {
   "cell_type": "markdown",
   "id": "88fd3f9a",
   "metadata": {
    "papermill": {
     "duration": 0.005265,
     "end_time": "2022-12-07T06:43:53.437010",
     "exception": false,
     "start_time": "2022-12-07T06:43:53.431745",
     "status": "completed"
    },
    "tags": []
   },
   "source": [
    "### Confusion matrix"
   ]
  },
  {
   "cell_type": "code",
   "execution_count": 11,
   "id": "be3f030d",
   "metadata": {
    "execution": {
     "iopub.execute_input": "2022-12-07T06:43:53.451560Z",
     "iopub.status.busy": "2022-12-07T06:43:53.451025Z",
     "iopub.status.idle": "2022-12-07T06:43:53.455021Z",
     "shell.execute_reply": "2022-12-07T06:43:53.454197Z"
    },
    "papermill": {
     "duration": 0.014818,
     "end_time": "2022-12-07T06:43:53.458109",
     "exception": false,
     "start_time": "2022-12-07T06:43:53.443291",
     "status": "completed"
    },
    "tags": []
   },
   "outputs": [],
   "source": [
    "# TODO"
   ]
  },
  {
   "cell_type": "markdown",
   "id": "0b301e1d",
   "metadata": {
    "papermill": {
     "duration": 0.005,
     "end_time": "2022-12-07T06:43:53.469111",
     "exception": false,
     "start_time": "2022-12-07T06:43:53.464111",
     "status": "completed"
    },
    "tags": []
   },
   "source": [
    "### Plot predicted probabilities for each classifier over all evaluation digit images"
   ]
  },
  {
   "cell_type": "code",
   "execution_count": 12,
   "id": "52189936",
   "metadata": {
    "execution": {
     "iopub.execute_input": "2022-12-07T06:43:53.482567Z",
     "iopub.status.busy": "2022-12-07T06:43:53.481968Z",
     "iopub.status.idle": "2022-12-07T06:43:56.976626Z",
     "shell.execute_reply": "2022-12-07T06:43:56.975762Z"
    },
    "papermill": {
     "duration": 3.503594,
     "end_time": "2022-12-07T06:43:56.978771",
     "exception": false,
     "start_time": "2022-12-07T06:43:53.475177",
     "status": "completed"
    },
    "tags": []
   },
   "outputs": [
    {
     "data": {
      "image/png": "[encoded data removed]",
      "text/plain": [
       "<Figure size 1600x600 with 10 Axes>"
      ]
     },
     "metadata": {},
     "output_type": "display_data"
    }
   ],
   "source": [
    "def plot_per_digit_probabilities(y_pred_probs):\n",
    "    fig, axs = plt.subplots(nrows=2, ncols=5, figsize=(16, 6))\n",
    "\n",
    "    for (r, c), digit, ax in zip(\n",
    "        it.product(range(2), range(5)), range(10), axs.reshape(-1)\n",
    "    ):\n",
    "        ax.hist(y_pred_probs_test[:, digit], bins=20)\n",
    "\n",
    "        ax.set_title(f\"Digit {digit}\")\n",
    "        if r == 1 and c == 2:\n",
    "            ax.set_xlabel(\"probability\", fontsize=16)\n",
    "\n",
    "        if c == 0:\n",
    "            ax.set_ylabel(\"counts\", fontsize=16)\n",
    "        ax.set_yscale(\"log\")\n",
    "\n",
    "    fig.tight_layout()\n",
    "    fig.suptitle(\n",
    "        f\"Distributions of prediction probabilities for each digit \"\n",
    "        f\"(on evaluation data, n={y_pred_probs.shape[0]})\",\n",
    "        fontsize=20,\n",
    "    )\n",
    "    fig.tight_layout()\n",
    "    fig.show()\n",
    "\n",
    "    return fig\n",
    "\n",
    "\n",
    "fig = plot_per_digit_probabilities(y_pred_probs_test)"
   ]
  },
  {
   "cell_type": "markdown",
   "id": "2350cb1c",
   "metadata": {
    "papermill": {
     "duration": 0.00582,
     "end_time": "2022-12-07T06:43:56.991380",
     "exception": false,
     "start_time": "2022-12-07T06:43:56.985560",
     "status": "completed"
    },
    "tags": []
   },
   "source": [
    "From the above distributions we see that most digits have clear separation between\n",
    "high and lower probabilities. Morover, in each case there is roughly an order of\n",
    "magnitude more of digits with low probabilities. This is compatible with digits\n",
    "being roughly evenly distributed in the data."
   ]
  },
  {
   "cell_type": "code",
   "execution_count": 13,
   "id": "bd9052ab",
   "metadata": {
    "execution": {
     "iopub.execute_input": "2022-12-07T06:43:57.007267Z",
     "iopub.status.busy": "2022-12-07T06:43:57.006910Z",
     "iopub.status.idle": "2022-12-07T06:43:57.612591Z",
     "shell.execute_reply": "2022-12-07T06:43:57.611966Z"
    },
    "papermill": {
     "duration": 0.616911,
     "end_time": "2022-12-07T06:43:57.614612",
     "exception": false,
     "start_time": "2022-12-07T06:43:56.997701",
     "status": "completed"
    },
    "tags": []
   },
   "outputs": [],
   "source": [
    "logger.log_figure(\"per-digit-probabilities.png\", fig)"
   ]
  },
  {
   "cell_type": "markdown",
   "id": "ab221ea6",
   "metadata": {
    "papermill": {
     "duration": 0.00679,
     "end_time": "2022-12-07T06:43:57.628300",
     "exception": false,
     "start_time": "2022-12-07T06:43:57.621510",
     "status": "completed"
    },
    "tags": []
   },
   "source": [
    "### Plot ROC curves for individual one-vs-rest classifiers"
   ]
  },
  {
   "cell_type": "code",
   "execution_count": 14,
   "id": "4842964b",
   "metadata": {
    "execution": {
     "iopub.execute_input": "2022-12-07T06:43:57.649522Z",
     "iopub.status.busy": "2022-12-07T06:43:57.649202Z",
     "iopub.status.idle": "2022-12-07T06:43:58.612501Z",
     "shell.execute_reply": "2022-12-07T06:43:58.611800Z"
    },
    "papermill": {
     "duration": 0.974038,
     "end_time": "2022-12-07T06:43:58.615195",
     "exception": false,
     "start_time": "2022-12-07T06:43:57.641157",
     "status": "completed"
    },
    "tags": []
   },
   "outputs": [],
   "source": [
    "from sklearn import metrics"
   ]
  },
  {
   "cell_type": "code",
   "execution_count": 15,
   "id": "d2833f66",
   "metadata": {
    "execution": {
     "iopub.execute_input": "2022-12-07T06:43:58.632937Z",
     "iopub.status.busy": "2022-12-07T06:43:58.632637Z",
     "iopub.status.idle": "2022-12-07T06:43:59.904031Z",
     "shell.execute_reply": "2022-12-07T06:43:59.903218Z"
    },
    "papermill": {
     "duration": 1.283585,
     "end_time": "2022-12-07T06:43:59.906217",
     "exception": false,
     "start_time": "2022-12-07T06:43:58.622632",
     "status": "completed"
    },
    "tags": []
   },
   "outputs": [
    {
     "data": {
      "image/png": "[encoded data removed]",
      "text/plain": [
       "<Figure size 1600x800 with 10 Axes>"
      ]
     },
     "metadata": {},
     "output_type": "display_data"
    }
   ],
   "source": [
    "def plot_roc_curves(y, y_pred_probs):\n",
    "    # based on example code\n",
    "    # https://scikit-learn.org/stable/auto_examples/model_selection/plot_roc.html\n",
    "\n",
    "    fig, axs = plt.subplots(nrows=2, ncols=5, figsize=(16, 8))\n",
    "\n",
    "    roc_auc_dict = {}\n",
    "\n",
    "    for (r, c), digit, ax in zip(\n",
    "        it.product(range(2), range(5)), range(10), axs.reshape(-1)\n",
    "    ):\n",
    "        fpr, tpr, _ = metrics.roc_curve(y == digit, y_pred_probs[:, digit])\n",
    "        auc = metrics.auc(fpr, tpr)\n",
    "        roc_auc_dict[str(digit)] = auc\n",
    "\n",
    "        ax.plot(fpr, tpr, label=f\"ROC AUC={round(auc, 3)}\")\n",
    "\n",
    "        ax.set_title(f\"\\nDigit {digit}\", fontsize=16)\n",
    "        if r == 1:\n",
    "            ax.set_xlabel(\"FPR\", fontsize=18)\n",
    "\n",
    "        if c == 0:\n",
    "            ax.set_ylabel(\"TPR\", fontsize=18)\n",
    "\n",
    "        ax.set_xlim([-0.05, 1.05])\n",
    "        ax.set_ylim([-0.05, 1.05])\n",
    "        ax.legend(loc=\"lower right\", frameon=False, fontsize=14)\n",
    "\n",
    "    fig.tight_layout()\n",
    "    fig.suptitle(\n",
    "        f\"ROC plots for one-vs-rest performances \"\n",
    "        f\"(on evaluation data, n={y_pred_probs_test.shape[1]}\",\n",
    "        fontsize=22,\n",
    "    )\n",
    "    fig.tight_layout()\n",
    "    fig.show()\n",
    "\n",
    "    return roc_auc_dict, fig\n",
    "\n",
    "\n",
    "roc_auc_dict, fig = plot_roc_curves(y_test, y_pred_probs_test)"
   ]
  },
  {
   "cell_type": "code",
   "execution_count": 16,
   "id": "2d3d42fd",
   "metadata": {
    "execution": {
     "iopub.execute_input": "2022-12-07T06:43:59.922296Z",
     "iopub.status.busy": "2022-12-07T06:43:59.921994Z",
     "iopub.status.idle": "2022-12-07T06:44:00.307433Z",
     "shell.execute_reply": "2022-12-07T06:44:00.306507Z"
    },
    "papermill": {
     "duration": 0.399107,
     "end_time": "2022-12-07T06:44:00.312948",
     "exception": false,
     "start_time": "2022-12-07T06:43:59.913841",
     "status": "completed"
    },
    "tags": []
   },
   "outputs": [],
   "source": [
    "logger.log_figure(\"per-digit-roc-curves.png\", fig)"
   ]
  },
  {
   "cell_type": "code",
   "execution_count": 17,
   "id": "bac2df99",
   "metadata": {
    "execution": {
     "iopub.execute_input": "2022-12-07T06:44:00.335478Z",
     "iopub.status.busy": "2022-12-07T06:44:00.334877Z",
     "iopub.status.idle": "2022-12-07T06:44:00.342457Z",
     "shell.execute_reply": "2022-12-07T06:44:00.341778Z"
    },
    "papermill": {
     "duration": 0.02264,
     "end_time": "2022-12-07T06:44:00.346691",
     "exception": false,
     "start_time": "2022-12-07T06:44:00.324051",
     "status": "completed"
    },
    "tags": []
   },
   "outputs": [
    {
     "data": {
      "text/plain": [
       "{'0': 1.0,\n",
       " '1': 0.998912839737582,\n",
       " '2': 1.0,\n",
       " '3': 0.9999250234301781,\n",
       " '4': 0.9996189605243103,\n",
       " '5': 0.9994001874414246,\n",
       " '6': 0.999923792104862,\n",
       " '7': 0.9997713763145862,\n",
       " '8': 0.9950346784363178,\n",
       " '9': 0.9995808565767414}"
      ]
     },
     "execution_count": 17,
     "metadata": {},
     "output_type": "execute_result"
    }
   ],
   "source": [
    "roc_auc_dict"
   ]
  },
  {
   "cell_type": "code",
   "execution_count": 18,
   "id": "f32e65d2",
   "metadata": {
    "execution": {
     "iopub.execute_input": "2022-12-07T06:44:00.369704Z",
     "iopub.status.busy": "2022-12-07T06:44:00.369396Z",
     "iopub.status.idle": "2022-12-07T06:44:00.374606Z",
     "shell.execute_reply": "2022-12-07T06:44:00.373951Z"
    },
    "papermill": {
     "duration": 0.023131,
     "end_time": "2022-12-07T06:44:00.378661",
     "exception": false,
     "start_time": "2022-12-07T06:44:00.355530",
     "status": "completed"
    },
    "tags": []
   },
   "outputs": [
    {
     "name": "stdout",
     "output_type": "stream",
     "text": [
      " - Logging roc_auc_per_digit (json) : {'0': 1.0, '1': 0.998912839737582, '2': 1.0, '3': 0.9999250234301781, '4': 0.9996189605243103, '5': 0.9994001874414246, '6': 0.999923792104862, '7': 0.9997713763145862, '8': 0.9950346784363178, '9': 0.9995808565767414}\n"
     ]
    }
   ],
   "source": [
    "logger.log_value(\"roc_auc_per_digit\", roc_auc_dict)"
   ]
  },
  {
   "cell_type": "markdown",
   "id": "9f30faee",
   "metadata": {
    "papermill": {
     "duration": 0.008719,
     "end_time": "2022-12-07T06:44:00.395409",
     "exception": false,
     "start_time": "2022-12-07T06:44:00.386690",
     "status": "completed"
    },
    "tags": []
   },
   "source": [
    "### Compute and log mean ROC AUC score averaged over all digits"
   ]
  },
  {
   "cell_type": "code",
   "execution_count": 19,
   "id": "dfee0ae6",
   "metadata": {
    "execution": {
     "iopub.execute_input": "2022-12-07T06:44:00.416982Z",
     "iopub.status.busy": "2022-12-07T06:44:00.416660Z",
     "iopub.status.idle": "2022-12-07T06:44:00.438820Z",
     "shell.execute_reply": "2022-12-07T06:44:00.438061Z"
    },
    "papermill": {
     "duration": 0.032947,
     "end_time": "2022-12-07T06:44:00.440582",
     "exception": false,
     "start_time": "2022-12-07T06:44:00.407635",
     "status": "completed"
    },
    "tags": []
   },
   "outputs": [
    {
     "name": "stdout",
     "output_type": "stream",
     "text": [
      " - Logging roc_auc_class_mean (float) : 0.9992167714566003\n"
     ]
    }
   ],
   "source": [
    "roc_auc_macro = np.mean(list(roc_auc_dict.values()))\n",
    "\n",
    "logger.log_float(\"roc_auc_class_mean\", roc_auc_macro)\n",
    "\n",
    "# assert that the same value can be computed directly using sklearn\n",
    "assert roc_auc_macro == metrics.roc_auc_score(\n",
    "    y_test, y_pred_probs_test, average=\"macro\", multi_class=\"ovr\"\n",
    ")"
   ]
  },
  {
   "cell_type": "code",
   "execution_count": 20,
   "id": "6b99469f",
   "metadata": {
    "execution": {
     "iopub.execute_input": "2022-12-07T06:44:00.460411Z",
     "iopub.status.busy": "2022-12-07T06:44:00.460096Z",
     "iopub.status.idle": "2022-12-07T06:44:00.464242Z",
     "shell.execute_reply": "2022-12-07T06:44:00.463008Z"
    },
    "lines_to_next_cell": 0,
    "papermill": {
     "duration": 0.015773,
     "end_time": "2022-12-07T06:44:00.465935",
     "exception": false,
     "start_time": "2022-12-07T06:44:00.450162",
     "status": "completed"
    },
    "tags": []
   },
   "outputs": [],
   "source": [
    "# ---"
   ]
  },
  {
   "cell_type": "code",
   "execution_count": null,
   "id": "71907e3f",
   "metadata": {
    "papermill": {
     "duration": 0.008426,
     "end_time": "2022-12-07T06:44:00.483415",
     "exception": false,
     "start_time": "2022-12-07T06:44:00.474989",
     "status": "completed"
    },
    "tags": []
   },
   "outputs": [],
   "source": []
  }
 ],
 "metadata": {
  "jupytext": {
   "cell_metadata_filter": "tags,-all",
   "main_language": "python",
   "notebook_metadata_filter": "-all"
  },
  "language_info": {
   "codemirror_mode": {
    "name": "ipython",
    "version": 3
   },
   "file_extension": ".py",
   "mimetype": "text/x-python",
   "name": "python",
   "nbconvert_exporter": "python",
   "pygments_lexer": "ipython3",
   "version": "3.8.10"
  },
  "papermill": {
   "default_parameters": {},
   "duration": 11.444185,
   "end_time": "2022-12-07T06:44:01.712768",
   "environment_variables": {},
   "exception": null,
   "input_path": "/home/host_user/workspace/mnist-demo-pipeline/mnist-demo-pipeline/notebooks/temp-notebook-kvnt1lpb.ipynb",
   "output_path": "notebooks/benchmark-model.ipynb",
   "parameters": {
    "P": {
     "_opentelemetry_traceparent": "00-dcc7a682a10aa94c0c3676ffb75c1a75-a78a3971d190aaa4-01",
     "pipeline.data_lake_root": "/pipeline-outputs/data-lake",
     "pipeline.github.actor": "matiasdahl",
     "pipeline.github.base_ref": "",
     "pipeline.github.event_name": "schedule",
     "pipeline.github.head_ref": "",
     "pipeline.github.job": "run-tests-pipeline-and-persist-pipeline-outputs",
     "pipeline.github.ref": "refs/heads/development",
     "pipeline.github.ref_name": "development",
     "pipeline.github.ref_type": "branch",
     "pipeline.github.repository": "matiasdahl/dev-mnist-digits-demo-pipeline",
     "pipeline.github.run_id": "3636482485",
     "pipeline.github.runner_name": "Hosted Agent",
     "pipeline.github.sha": "ace0d01011d5e914f1921450dd5a59c11367b38d",
     "pipeline.github.workflow": "Run automated tests, pipeline and deploy results to static reporting site",
     "pipeline.pipeline_run_id": "f3ea439f-2629-4f35-9ba0-b342d5e46626",
     "pipeline.run_environment": "ci",
     "run.retry_nr": "0",
     "task.max_nr_retries": "1",
     "task.notebook": "notebooks/benchmark-model.py",
     "task.nr_train_images": 1000,
     "task.num_cpus": 1,
     "task.timeout_s": "None"
    }
   },
   "start_time": "2022-12-07T06:43:50.268583",
   "version": "2.3.3"
  }
 },
 "nbformat": 4,
 "nbformat_minor": 5
}