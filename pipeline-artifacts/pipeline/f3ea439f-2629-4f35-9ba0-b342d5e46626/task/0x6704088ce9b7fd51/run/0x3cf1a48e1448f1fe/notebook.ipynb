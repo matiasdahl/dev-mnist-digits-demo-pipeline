{
 "cells": [
  {
   "cell_type": "markdown",
   "id": "922563a6",
   "metadata": {
    "papermill": {
     "duration": 0.007171,
     "end_time": "2022-12-07T06:43:44.593827",
     "exception": false,
     "start_time": "2022-12-07T06:43:44.586656",
     "status": "completed"
    },
    "tags": []
   },
   "source": [
    "# Benchmark model\n",
    "\n",
    "The purpose of this notebook is to benchmark persisted onnx-model (trained in the\n",
    "previous step) against evaluation set."
   ]
  },
  {
   "cell_type": "markdown",
   "id": "532c6b16",
   "metadata": {
    "papermill": {
     "duration": 0.004377,
     "end_time": "2022-12-07T06:43:44.603180",
     "exception": false,
     "start_time": "2022-12-07T06:43:44.598803",
     "status": "completed"
    },
    "tags": []
   },
   "source": [
    "### Determine run parameters"
   ]
  },
  {
   "cell_type": "code",
   "execution_count": 1,
   "id": "7a505e57",
   "metadata": {
    "execution": {
     "iopub.execute_input": "2022-12-07T06:43:44.613956Z",
     "iopub.status.busy": "2022-12-07T06:43:44.613386Z",
     "iopub.status.idle": "2022-12-07T06:43:44.621978Z",
     "shell.execute_reply": "2022-12-07T06:43:44.621210Z"
    },
    "lines_to_next_cell": 0,
    "papermill": {
     "duration": 0.016126,
     "end_time": "2022-12-07T06:43:44.623934",
     "exception": false,
     "start_time": "2022-12-07T06:43:44.607808",
     "status": "completed"
    },
    "tags": []
   },
   "outputs": [],
   "source": [
    "# ----------------- Parameters for interactive development --------------\n",
    "P = {\n",
    "    \"pipeline.data_lake_root\": \"/pipeline-outputs/data-lake\",\n",
    "    \"task.nr_train_images\": 600,\n",
    "}"
   ]
  },
  {
   "cell_type": "code",
   "execution_count": 2,
   "id": "c658d891",
   "metadata": {
    "execution": {
     "iopub.execute_input": "2022-12-07T06:43:44.636280Z",
     "iopub.status.busy": "2022-12-07T06:43:44.635625Z",
     "iopub.status.idle": "2022-12-07T06:43:44.641139Z",
     "shell.execute_reply": "2022-12-07T06:43:44.638932Z"
    },
    "lines_to_next_cell": 0,
    "papermill": {
     "duration": 0.013681,
     "end_time": "2022-12-07T06:43:44.643186",
     "exception": false,
     "start_time": "2022-12-07T06:43:44.629505",
     "status": "completed"
    },
    "tags": [
     "parameters"
    ]
   },
   "outputs": [],
   "source": [
    "# - During automated runs parameters will be injected in the below cell -"
   ]
  },
  {
   "cell_type": "code",
   "execution_count": 3,
   "id": "627b1ef5",
   "metadata": {
    "execution": {
     "iopub.execute_input": "2022-12-07T06:43:44.654247Z",
     "iopub.status.busy": "2022-12-07T06:43:44.653980Z",
     "iopub.status.idle": "2022-12-07T06:43:44.660190Z",
     "shell.execute_reply": "2022-12-07T06:43:44.659599Z"
    },
    "papermill": {
     "duration": 0.015507,
     "end_time": "2022-12-07T06:43:44.663206",
     "exception": false,
     "start_time": "2022-12-07T06:43:44.647699",
     "status": "completed"
    },
    "tags": [
     "injected-parameters"
    ]
   },
   "outputs": [],
   "source": [
    "# Parameters\n",
    "P = {\n",
    "    \"pipeline.data_lake_root\": \"/pipeline-outputs/data-lake\",\n",
    "    \"pipeline.run_environment\": \"ci\",\n",
    "    \"pipeline.pipeline_run_id\": \"f3ea439f-2629-4f35-9ba0-b342d5e46626\",\n",
    "    \"pipeline.github.repository\": \"matiasdahl/dev-mnist-digits-demo-pipeline\",\n",
    "    \"pipeline.github.workflow\": \"Run automated tests, pipeline and deploy results to static reporting site\",\n",
    "    \"pipeline.github.runner_name\": \"Hosted Agent\",\n",
    "    \"pipeline.github.run_id\": \"3636482485\",\n",
    "    \"pipeline.github.actor\": \"matiasdahl\",\n",
    "    \"pipeline.github.job\": \"run-tests-pipeline-and-persist-pipeline-outputs\",\n",
    "    \"pipeline.github.base_ref\": \"\",\n",
    "    \"pipeline.github.head_ref\": \"\",\n",
    "    \"pipeline.github.sha\": \"ace0d01011d5e914f1921450dd5a59c11367b38d\",\n",
    "    \"pipeline.github.ref\": \"refs/heads/development\",\n",
    "    \"pipeline.github.ref_type\": \"branch\",\n",
    "    \"pipeline.github.ref_name\": \"development\",\n",
    "    \"pipeline.github.event_name\": \"schedule\",\n",
    "    \"task.nr_train_images\": 600,\n",
    "    \"task.notebook\": \"notebooks/benchmark-model.py\",\n",
    "    \"task.max_nr_retries\": \"1\",\n",
    "    \"run.retry_nr\": \"0\",\n",
    "    \"task.timeout_s\": \"None\",\n",
    "    \"task.num_cpus\": 1,\n",
    "    \"_opentelemetry_traceparent\": \"00-dcc7a682a10aa94c0c3676ffb75c1a75-bc0bf7c7aa2a8d27-01\",\n",
    "}\n"
   ]
  },
  {
   "cell_type": "code",
   "execution_count": 4,
   "id": "afacdfab",
   "metadata": {
    "execution": {
     "iopub.execute_input": "2022-12-07T06:43:44.674477Z",
     "iopub.status.busy": "2022-12-07T06:43:44.674219Z",
     "iopub.status.idle": "2022-12-07T06:43:44.677297Z",
     "shell.execute_reply": "2022-12-07T06:43:44.676712Z"
    },
    "lines_to_next_cell": 0,
    "papermill": {
     "duration": 0.012081,
     "end_time": "2022-12-07T06:43:44.679612",
     "exception": false,
     "start_time": "2022-12-07T06:43:44.667531",
     "status": "completed"
    },
    "tags": []
   },
   "outputs": [],
   "source": [
    "# -----------------------------------------------------------------------"
   ]
  },
  {
   "cell_type": "markdown",
   "id": "8a23f3e4",
   "metadata": {
    "papermill": {
     "duration": 0.007975,
     "end_time": "2022-12-07T06:43:44.692363",
     "exception": false,
     "start_time": "2022-12-07T06:43:44.684388",
     "status": "completed"
    },
    "tags": []
   },
   "source": [
    "---"
   ]
  },
  {
   "cell_type": "markdown",
   "id": "34c4c5d1",
   "metadata": {
    "lines_to_next_cell": 2,
    "papermill": {
     "duration": 0.005206,
     "end_time": "2022-12-07T06:43:44.702013",
     "exception": false,
     "start_time": "2022-12-07T06:43:44.696807",
     "status": "completed"
    },
    "tags": []
   },
   "source": [
    "### Notebook code"
   ]
  },
  {
   "cell_type": "code",
   "execution_count": 5,
   "id": "29d2fce2",
   "metadata": {
    "execution": {
     "iopub.execute_input": "2022-12-07T06:43:44.713800Z",
     "iopub.status.busy": "2022-12-07T06:43:44.713522Z",
     "iopub.status.idle": "2022-12-07T06:43:46.089337Z",
     "shell.execute_reply": "2022-12-07T06:43:46.088303Z"
    },
    "papermill": {
     "duration": 1.385126,
     "end_time": "2022-12-07T06:43:46.092082",
     "exception": false,
     "start_time": "2022-12-07T06:43:44.706956",
     "status": "completed"
    },
    "tags": []
   },
   "outputs": [
    {
     "name": "stderr",
     "output_type": "stream",
     "text": [
      "2022-12-07 06:43:45,914\tINFO worker.py:842 -- Connecting to existing Ray cluster at address: 172.17.0.2:6379\n"
     ]
    }
   ],
   "source": [
    "import itertools as it\n",
    "\n",
    "#\n",
    "import numpy as np\n",
    "import matplotlib.pyplot as plt\n",
    "\n",
    "#\n",
    "from pynb_dag_runner.tasks.task_opentelemetry_logging import PydarLogger\n",
    "\n",
    "#\n",
    "from common.io import datalake_root\n",
    "\n",
    "logger = PydarLogger(P)"
   ]
  },
  {
   "cell_type": "markdown",
   "id": "a2e4fa8c",
   "metadata": {
    "papermill": {
     "duration": 0.005222,
     "end_time": "2022-12-07T06:43:46.102676",
     "exception": false,
     "start_time": "2022-12-07T06:43:46.097454",
     "status": "completed"
    },
    "tags": []
   },
   "source": [
    "## Load persisted onnx-model and evaluation data"
   ]
  },
  {
   "cell_type": "code",
   "execution_count": 6,
   "id": "bbdd71be",
   "metadata": {
    "execution": {
     "iopub.execute_input": "2022-12-07T06:43:46.118439Z",
     "iopub.status.busy": "2022-12-07T06:43:46.117889Z",
     "iopub.status.idle": "2022-12-07T06:43:46.122244Z",
     "shell.execute_reply": "2022-12-07T06:43:46.121388Z"
    },
    "papermill": {
     "duration": 0.017063,
     "end_time": "2022-12-07T06:43:46.124673",
     "exception": false,
     "start_time": "2022-12-07T06:43:46.107610",
     "status": "completed"
    },
    "tags": []
   },
   "outputs": [],
   "source": [
    "from common.io import read_onnx, get_onnx_inputs, get_onnx_outputs, read_numpy"
   ]
  },
  {
   "cell_type": "code",
   "execution_count": 7,
   "id": "b9e93868",
   "metadata": {
    "execution": {
     "iopub.execute_input": "2022-12-07T06:43:46.139317Z",
     "iopub.status.busy": "2022-12-07T06:43:46.138797Z",
     "iopub.status.idle": "2022-12-07T06:43:46.152813Z",
     "shell.execute_reply": "2022-12-07T06:43:46.151696Z"
    },
    "lines_to_next_cell": 0,
    "papermill": {
     "duration": 0.024555,
     "end_time": "2022-12-07T06:43:46.154814",
     "exception": false,
     "start_time": "2022-12-07T06:43:46.130259",
     "status": "completed"
    },
    "tags": []
   },
   "outputs": [],
   "source": [
    "onnx_inference_session = read_onnx(\n",
    "    datalake_root(P)\n",
    "    / \"models\"\n",
    "    / f\"nr_train_images={P['task.nr_train_images']}\"\n",
    "    / \"model.onnx\"\n",
    ")"
   ]
  },
  {
   "cell_type": "markdown",
   "id": "33962ffc",
   "metadata": {
    "papermill": {
     "duration": 0.004863,
     "end_time": "2022-12-07T06:43:46.166844",
     "exception": false,
     "start_time": "2022-12-07T06:43:46.161981",
     "status": "completed"
    },
    "tags": []
   },
   "source": [
    "### Record structure of inputs and outputs for ONNX model\n",
    "\n",
    "(this should likely be done in training notebook)"
   ]
  },
  {
   "cell_type": "code",
   "execution_count": 8,
   "id": "b2c6f331",
   "metadata": {
    "execution": {
     "iopub.execute_input": "2022-12-07T06:43:46.178995Z",
     "iopub.status.busy": "2022-12-07T06:43:46.178551Z",
     "iopub.status.idle": "2022-12-07T06:43:46.189019Z",
     "shell.execute_reply": "2022-12-07T06:43:46.188254Z"
    },
    "papermill": {
     "duration": 0.018187,
     "end_time": "2022-12-07T06:43:46.191018",
     "exception": false,
     "start_time": "2022-12-07T06:43:46.172831",
     "status": "completed"
    },
    "tags": []
   },
   "outputs": [
    {
     "name": "stdout",
     "output_type": "stream",
     "text": [
      "{\n",
      "  \"inputs\": [\n",
      "    {\n",
      "      \"name\": \"float_input_8x8_image\",\n",
      "      \"shape\": [\n",
      "        null,\n",
      "        64\n",
      "      ],\n",
      "      \"type\": \"tensor(float)\"\n",
      "    }\n",
      "  ],\n",
      "  \"outputs\": [\n",
      "    {\n",
      "      \"name\": \"output_label\",\n",
      "      \"shape\": [\n",
      "        null\n",
      "      ],\n",
      "      \"type\": \"tensor(int64)\"\n",
      "    },\n",
      "    {\n",
      "      \"name\": \"output_probability\",\n",
      "      \"shape\": [],\n",
      "      \"type\": \"seq(map(int64,tensor(float)))\"\n",
      "    }\n",
      "  ]\n",
      "}\n"
     ]
    }
   ],
   "source": [
    "import json\n",
    "\n",
    "onnx_io = json.dumps(\n",
    "    {\n",
    "        \"inputs\": get_onnx_inputs(onnx_inference_session),\n",
    "        \"outputs\": get_onnx_outputs(onnx_inference_session),\n",
    "    },\n",
    "    indent=2,\n",
    ")\n",
    "\n",
    "\n",
    "logger.log_artefact(\"onnx_io_structure.json\", onnx_io)\n",
    "print(onnx_io)"
   ]
  },
  {
   "cell_type": "markdown",
   "id": "fc246c0a",
   "metadata": {
    "papermill": {
     "duration": 0.004659,
     "end_time": "2022-12-07T06:43:46.201078",
     "exception": false,
     "start_time": "2022-12-07T06:43:46.196419",
     "status": "completed"
    },
    "tags": []
   },
   "source": [
    "### Evaluate model performance on evaluation data set"
   ]
  },
  {
   "cell_type": "code",
   "execution_count": 9,
   "id": "c35d239f",
   "metadata": {
    "execution": {
     "iopub.execute_input": "2022-12-07T06:43:46.213368Z",
     "iopub.status.busy": "2022-12-07T06:43:46.212558Z",
     "iopub.status.idle": "2022-12-07T06:43:46.218569Z",
     "shell.execute_reply": "2022-12-07T06:43:46.217773Z"
    },
    "papermill": {
     "duration": 0.014754,
     "end_time": "2022-12-07T06:43:46.221196",
     "exception": false,
     "start_time": "2022-12-07T06:43:46.206442",
     "status": "completed"
    },
    "tags": []
   },
   "outputs": [],
   "source": [
    "# load evaluation data\n",
    "X_test = read_numpy(datalake_root(P) / \"test-data\" / \"digits.numpy\")\n",
    "y_test = read_numpy(datalake_root(P) / \"test-data\" / \"labels.numpy\")"
   ]
  },
  {
   "cell_type": "code",
   "execution_count": 10,
   "id": "d1b36b3d",
   "metadata": {
    "execution": {
     "iopub.execute_input": "2022-12-07T06:43:46.232945Z",
     "iopub.status.busy": "2022-12-07T06:43:46.232536Z",
     "iopub.status.idle": "2022-12-07T06:43:46.311106Z",
     "shell.execute_reply": "2022-12-07T06:43:46.310240Z"
    },
    "papermill": {
     "duration": 0.086808,
     "end_time": "2022-12-07T06:43:46.313274",
     "exception": false,
     "start_time": "2022-12-07T06:43:46.226466",
     "status": "completed"
    },
    "tags": []
   },
   "outputs": [],
   "source": [
    "def get_model_outputs(X, onnx_inference_session):\n",
    "    y_pred_labels, y_pred_map = onnx_inference_session.run(\n",
    "        [\"output_label\", \"output_probability\"],\n",
    "        {\"float_input_8x8_image\": X.astype(np.float32)},\n",
    "    )\n",
    "    y_pred_probs = np.array(\n",
    "        [[probabilities[digit] for digit in range(10)] for probabilities in y_pred_map]\n",
    "    )\n",
    "\n",
    "    assert y_pred_labels.shape == (X.shape[0],)\n",
    "    assert y_pred_probs.shape == (X.shape[0], 10)\n",
    "\n",
    "    return y_pred_labels, y_pred_probs\n",
    "\n",
    "\n",
    "# Note: as shown in the training notebook, the predicted labels and probabilities\n",
    "# computed below need not be compatible.\n",
    "y_pred_labels_test, y_pred_probs_test = get_model_outputs(\n",
    "    X_test, onnx_inference_session\n",
    ")"
   ]
  },
  {
   "cell_type": "markdown",
   "id": "591ae692",
   "metadata": {
    "papermill": {
     "duration": 0.004984,
     "end_time": "2022-12-07T06:43:46.324971",
     "exception": false,
     "start_time": "2022-12-07T06:43:46.319987",
     "status": "completed"
    },
    "tags": []
   },
   "source": [
    "### Confusion matrix"
   ]
  },
  {
   "cell_type": "code",
   "execution_count": 11,
   "id": "5730e80c",
   "metadata": {
    "execution": {
     "iopub.execute_input": "2022-12-07T06:43:46.338060Z",
     "iopub.status.busy": "2022-12-07T06:43:46.337450Z",
     "iopub.status.idle": "2022-12-07T06:43:46.341842Z",
     "shell.execute_reply": "2022-12-07T06:43:46.340785Z"
    },
    "papermill": {
     "duration": 0.013288,
     "end_time": "2022-12-07T06:43:46.344518",
     "exception": false,
     "start_time": "2022-12-07T06:43:46.331230",
     "status": "completed"
    },
    "tags": []
   },
   "outputs": [],
   "source": [
    "# TODO"
   ]
  },
  {
   "cell_type": "markdown",
   "id": "f44bd517",
   "metadata": {
    "papermill": {
     "duration": 0.005897,
     "end_time": "2022-12-07T06:43:46.356256",
     "exception": false,
     "start_time": "2022-12-07T06:43:46.350359",
     "status": "completed"
    },
    "tags": []
   },
   "source": [
    "### Plot predicted probabilities for each classifier over all evaluation digit images"
   ]
  },
  {
   "cell_type": "code",
   "execution_count": 12,
   "id": "3376a896",
   "metadata": {
    "execution": {
     "iopub.execute_input": "2022-12-07T06:43:46.369150Z",
     "iopub.status.busy": "2022-12-07T06:43:46.368530Z",
     "iopub.status.idle": "2022-12-07T06:43:50.598386Z",
     "shell.execute_reply": "2022-12-07T06:43:50.597793Z"
    },
    "papermill": {
     "duration": 4.238188,
     "end_time": "2022-12-07T06:43:50.600252",
     "exception": false,
     "start_time": "2022-12-07T06:43:46.362064",
     "status": "completed"
    },
    "tags": []
   },
   "outputs": [
    {
     "data": {
      "image/png": "[encoded data removed]",
      "text/plain": [
       "<Figure size 1600x600 with 10 Axes>"
      ]
     },
     "metadata": {},
     "output_type": "display_data"
    }
   ],
   "source": [
    "def plot_per_digit_probabilities(y_pred_probs):\n",
    "    fig, axs = plt.subplots(nrows=2, ncols=5, figsize=(16, 6))\n",
    "\n",
    "    for (r, c), digit, ax in zip(\n",
    "        it.product(range(2), range(5)), range(10), axs.reshape(-1)\n",
    "    ):\n",
    "        ax.hist(y_pred_probs_test[:, digit], bins=20)\n",
    "\n",
    "        ax.set_title(f\"Digit {digit}\")\n",
    "        if r == 1 and c == 2:\n",
    "            ax.set_xlabel(\"probability\", fontsize=16)\n",
    "\n",
    "        if c == 0:\n",
    "            ax.set_ylabel(\"counts\", fontsize=16)\n",
    "        ax.set_yscale(\"log\")\n",
    "\n",
    "    fig.tight_layout()\n",
    "    fig.suptitle(\n",
    "        f\"Distributions of prediction probabilities for each digit \"\n",
    "        f\"(on evaluation data, n={y_pred_probs.shape[0]})\",\n",
    "        fontsize=20,\n",
    "    )\n",
    "    fig.tight_layout()\n",
    "    fig.show()\n",
    "\n",
    "    return fig\n",
    "\n",
    "\n",
    "fig = plot_per_digit_probabilities(y_pred_probs_test)"
   ]
  },
  {
   "cell_type": "markdown",
   "id": "d4767663",
   "metadata": {
    "papermill": {
     "duration": 0.005689,
     "end_time": "2022-12-07T06:43:50.613876",
     "exception": false,
     "start_time": "2022-12-07T06:43:50.608187",
     "status": "completed"
    },
    "tags": []
   },
   "source": [
    "From the above distributions we see that most digits have clear separation between\n",
    "high and lower probabilities. Morover, in each case there is roughly an order of\n",
    "magnitude more of digits with low probabilities. This is compatible with digits\n",
    "being roughly evenly distributed in the data."
   ]
  },
  {
   "cell_type": "code",
   "execution_count": 13,
   "id": "0bad3b62",
   "metadata": {
    "execution": {
     "iopub.execute_input": "2022-12-07T06:43:50.627159Z",
     "iopub.status.busy": "2022-12-07T06:43:50.626832Z",
     "iopub.status.idle": "2022-12-07T06:43:51.201533Z",
     "shell.execute_reply": "2022-12-07T06:43:51.200722Z"
    },
    "papermill": {
     "duration": 0.585272,
     "end_time": "2022-12-07T06:43:51.205272",
     "exception": false,
     "start_time": "2022-12-07T06:43:50.620000",
     "status": "completed"
    },
    "tags": []
   },
   "outputs": [],
   "source": [
    "logger.log_figure(\"per-digit-probabilities.png\", fig)"
   ]
  },
  {
   "cell_type": "markdown",
   "id": "abd835af",
   "metadata": {
    "papermill": {
     "duration": 0.005767,
     "end_time": "2022-12-07T06:43:51.217457",
     "exception": false,
     "start_time": "2022-12-07T06:43:51.211690",
     "status": "completed"
    },
    "tags": []
   },
   "source": [
    "### Plot ROC curves for individual one-vs-rest classifiers"
   ]
  },
  {
   "cell_type": "code",
   "execution_count": 14,
   "id": "185c9eb2",
   "metadata": {
    "execution": {
     "iopub.execute_input": "2022-12-07T06:43:51.230572Z",
     "iopub.status.busy": "2022-12-07T06:43:51.230155Z",
     "iopub.status.idle": "2022-12-07T06:43:51.640537Z",
     "shell.execute_reply": "2022-12-07T06:43:51.638874Z"
    },
    "papermill": {
     "duration": 0.420619,
     "end_time": "2022-12-07T06:43:51.643580",
     "exception": false,
     "start_time": "2022-12-07T06:43:51.222961",
     "status": "completed"
    },
    "tags": []
   },
   "outputs": [],
   "source": [
    "from sklearn import metrics"
   ]
  },
  {
   "cell_type": "code",
   "execution_count": 15,
   "id": "de0347de",
   "metadata": {
    "execution": {
     "iopub.execute_input": "2022-12-07T06:43:51.658430Z",
     "iopub.status.busy": "2022-12-07T06:43:51.657916Z",
     "iopub.status.idle": "2022-12-07T06:43:53.224972Z",
     "shell.execute_reply": "2022-12-07T06:43:53.224238Z"
    },
    "papermill": {
     "duration": 1.576517,
     "end_time": "2022-12-07T06:43:53.227417",
     "exception": false,
     "start_time": "2022-12-07T06:43:51.650900",
     "status": "completed"
    },
    "tags": []
   },
   "outputs": [
    {
     "data": {
      "image/png": "[encoded data removed]",
      "text/plain": [
       "<Figure size 1600x800 with 10 Axes>"
      ]
     },
     "metadata": {},
     "output_type": "display_data"
    }
   ],
   "source": [
    "def plot_roc_curves(y, y_pred_probs):\n",
    "    # based on example code\n",
    "    # https://scikit-learn.org/stable/auto_examples/model_selection/plot_roc.html\n",
    "\n",
    "    fig, axs = plt.subplots(nrows=2, ncols=5, figsize=(16, 8))\n",
    "\n",
    "    roc_auc_dict = {}\n",
    "\n",
    "    for (r, c), digit, ax in zip(\n",
    "        it.product(range(2), range(5)), range(10), axs.reshape(-1)\n",
    "    ):\n",
    "        fpr, tpr, _ = metrics.roc_curve(y == digit, y_pred_probs[:, digit])\n",
    "        auc = metrics.auc(fpr, tpr)\n",
    "        roc_auc_dict[str(digit)] = auc\n",
    "\n",
    "        ax.plot(fpr, tpr, label=f\"ROC AUC={round(auc, 3)}\")\n",
    "\n",
    "        ax.set_title(f\"\\nDigit {digit}\", fontsize=16)\n",
    "        if r == 1:\n",
    "            ax.set_xlabel(\"FPR\", fontsize=18)\n",
    "\n",
    "        if c == 0:\n",
    "            ax.set_ylabel(\"TPR\", fontsize=18)\n",
    "\n",
    "        ax.set_xlim([-0.05, 1.05])\n",
    "        ax.set_ylim([-0.05, 1.05])\n",
    "        ax.legend(loc=\"lower right\", frameon=False, fontsize=14)\n",
    "\n",
    "    fig.tight_layout()\n",
    "    fig.suptitle(\n",
    "        f\"ROC plots for one-vs-rest performances \"\n",
    "        f\"(on evaluation data, n={y_pred_probs_test.shape[1]}\",\n",
    "        fontsize=22,\n",
    "    )\n",
    "    fig.tight_layout()\n",
    "    fig.show()\n",
    "\n",
    "    return roc_auc_dict, fig\n",
    "\n",
    "\n",
    "roc_auc_dict, fig = plot_roc_curves(y_test, y_pred_probs_test)"
   ]
  },
  {
   "cell_type": "code",
   "execution_count": 16,
   "id": "f6db32ce",
   "metadata": {
    "execution": {
     "iopub.execute_input": "2022-12-07T06:43:53.243777Z",
     "iopub.status.busy": "2022-12-07T06:43:53.243434Z",
     "iopub.status.idle": "2022-12-07T06:43:53.577085Z",
     "shell.execute_reply": "2022-12-07T06:43:53.576301Z"
    },
    "papermill": {
     "duration": 0.344443,
     "end_time": "2022-12-07T06:43:53.579406",
     "exception": false,
     "start_time": "2022-12-07T06:43:53.234963",
     "status": "completed"
    },
    "tags": []
   },
   "outputs": [],
   "source": [
    "logger.log_figure(\"per-digit-roc-curves.png\", fig)"
   ]
  },
  {
   "cell_type": "code",
   "execution_count": 17,
   "id": "2c504d39",
   "metadata": {
    "execution": {
     "iopub.execute_input": "2022-12-07T06:43:53.596321Z",
     "iopub.status.busy": "2022-12-07T06:43:53.596017Z",
     "iopub.status.idle": "2022-12-07T06:43:53.602781Z",
     "shell.execute_reply": "2022-12-07T06:43:53.602177Z"
    },
    "papermill": {
     "duration": 0.0191,
     "end_time": "2022-12-07T06:43:53.606749",
     "exception": false,
     "start_time": "2022-12-07T06:43:53.587649",
     "status": "completed"
    },
    "tags": []
   },
   "outputs": [
    {
     "data": {
      "text/plain": [
       "{'0': 1.0,\n",
       " '1': 0.9992127460168697,\n",
       " '2': 1.0,\n",
       " '3': 0.9997750702905343,\n",
       " '4': 0.9989711934156378,\n",
       " '5': 0.998950328022493,\n",
       " '6': 0.999923792104862,\n",
       " '7': 0.9998475842097241,\n",
       " '8': 0.9947588272383354,\n",
       " '9': 0.998818777625362}"
      ]
     },
     "execution_count": 17,
     "metadata": {},
     "output_type": "execute_result"
    }
   ],
   "source": [
    "roc_auc_dict"
   ]
  },
  {
   "cell_type": "code",
   "execution_count": 18,
   "id": "cccd95ae",
   "metadata": {
    "execution": {
     "iopub.execute_input": "2022-12-07T06:43:53.623463Z",
     "iopub.status.busy": "2022-12-07T06:43:53.623171Z",
     "iopub.status.idle": "2022-12-07T06:43:53.627457Z",
     "shell.execute_reply": "2022-12-07T06:43:53.626819Z"
    },
    "papermill": {
     "duration": 0.016811,
     "end_time": "2022-12-07T06:43:53.631410",
     "exception": false,
     "start_time": "2022-12-07T06:43:53.614599",
     "status": "completed"
    },
    "tags": []
   },
   "outputs": [
    {
     "name": "stdout",
     "output_type": "stream",
     "text": [
      " - Logging roc_auc_per_digit (json) : {'0': 1.0, '1': 0.9992127460168697, '2': 1.0, '3': 0.9997750702905343, '4': 0.9989711934156378, '5': 0.998950328022493, '6': 0.999923792104862, '7': 0.9998475842097241, '8': 0.9947588272383354, '9': 0.998818777625362}\n"
     ]
    }
   ],
   "source": [
    "logger.log_value(\"roc_auc_per_digit\", roc_auc_dict)"
   ]
  },
  {
   "cell_type": "markdown",
   "id": "f4bda99f",
   "metadata": {
    "papermill": {
     "duration": 0.007661,
     "end_time": "2022-12-07T06:43:53.646394",
     "exception": false,
     "start_time": "2022-12-07T06:43:53.638733",
     "status": "completed"
    },
    "tags": []
   },
   "source": [
    "### Compute and log mean ROC AUC score averaged over all digits"
   ]
  },
  {
   "cell_type": "code",
   "execution_count": 19,
   "id": "2c73a744",
   "metadata": {
    "execution": {
     "iopub.execute_input": "2022-12-07T06:43:53.662689Z",
     "iopub.status.busy": "2022-12-07T06:43:53.662358Z",
     "iopub.status.idle": "2022-12-07T06:43:53.678628Z",
     "shell.execute_reply": "2022-12-07T06:43:53.678001Z"
    },
    "papermill": {
     "duration": 0.026858,
     "end_time": "2022-12-07T06:43:53.680824",
     "exception": false,
     "start_time": "2022-12-07T06:43:53.653966",
     "status": "completed"
    },
    "tags": []
   },
   "outputs": [
    {
     "name": "stdout",
     "output_type": "stream",
     "text": [
      " - Logging roc_auc_class_mean (float) : 0.9990258318923818\n"
     ]
    }
   ],
   "source": [
    "roc_auc_macro = np.mean(list(roc_auc_dict.values()))\n",
    "\n",
    "logger.log_float(\"roc_auc_class_mean\", roc_auc_macro)\n",
    "\n",
    "# assert that the same value can be computed directly using sklearn\n",
    "assert roc_auc_macro == metrics.roc_auc_score(\n",
    "    y_test, y_pred_probs_test, average=\"macro\", multi_class=\"ovr\"\n",
    ")"
   ]
  },
  {
   "cell_type": "code",
   "execution_count": 20,
   "id": "02e3c32f",
   "metadata": {
    "execution": {
     "iopub.execute_input": "2022-12-07T06:43:53.698242Z",
     "iopub.status.busy": "2022-12-07T06:43:53.697903Z",
     "iopub.status.idle": "2022-12-07T06:43:53.701449Z",
     "shell.execute_reply": "2022-12-07T06:43:53.700696Z"
    },
    "lines_to_next_cell": 0,
    "papermill": {
     "duration": 0.016568,
     "end_time": "2022-12-07T06:43:53.705450",
     "exception": false,
     "start_time": "2022-12-07T06:43:53.688882",
     "status": "completed"
    },
    "tags": []
   },
   "outputs": [],
   "source": [
    "# ---"
   ]
  },
  {
   "cell_type": "code",
   "execution_count": null,
   "id": "8e2979ed",
   "metadata": {
    "papermill": {
     "duration": 0.008368,
     "end_time": "2022-12-07T06:43:53.721921",
     "exception": false,
     "start_time": "2022-12-07T06:43:53.713553",
     "status": "completed"
    },
    "tags": []
   },
   "outputs": [],
   "source": []
  }
 ],
 "metadata": {
  "jupytext": {
   "cell_metadata_filter": "tags,-all",
   "main_language": "python",
   "notebook_metadata_filter": "-all"
  },
  "language_info": {
   "codemirror_mode": {
    "name": "ipython",
    "version": 3
   },
   "file_extension": ".py",
   "mimetype": "text/x-python",
   "name": "python",
   "nbconvert_exporter": "python",
   "pygments_lexer": "ipython3",
   "version": "3.8.10"
  },
  "papermill": {
   "default_parameters": {},
   "duration": 11.849053,
   "end_time": "2022-12-07T06:43:54.955571",
   "environment_variables": {},
   "exception": null,
   "input_path": "/home/host_user/workspace/mnist-demo-pipeline/mnist-demo-pipeline/notebooks/temp-notebook-7f4s9wv1.ipynb",
   "output_path": "notebooks/benchmark-model.ipynb",
   "parameters": {
    "P": {
     "_opentelemetry_traceparent": "00-dcc7a682a10aa94c0c3676ffb75c1a75-bc0bf7c7aa2a8d27-01",
     "pipeline.data_lake_root": "/pipeline-outputs/data-lake",
     "pipeline.github.actor": "matiasdahl",
     "pipeline.github.base_ref": "",
     "pipeline.github.event_name": "schedule",
     "pipeline.github.head_ref": "",
     "pipeline.github.job": "run-tests-pipeline-and-persist-pipeline-outputs",
     "pipeline.github.ref": "refs/heads/development",
     "pipeline.github.ref_name": "development",
     "pipeline.github.ref_type": "branch",
     "pipeline.github.repository": "matiasdahl/dev-mnist-digits-demo-pipeline",
     "pipeline.github.run_id": "3636482485",
     "pipeline.github.runner_name": "Hosted Agent",
     "pipeline.github.sha": "ace0d01011d5e914f1921450dd5a59c11367b38d",
     "pipeline.github.workflow": "Run automated tests, pipeline and deploy results to static reporting site",
     "pipeline.pipeline_run_id": "f3ea439f-2629-4f35-9ba0-b342d5e46626",
     "pipeline.run_environment": "ci",
     "run.retry_nr": "0",
     "task.max_nr_retries": "1",
     "task.notebook": "notebooks/benchmark-model.py",
     "task.nr_train_images": 600,
     "task.num_cpus": 1,
     "task.timeout_s": "None"
    }
   },
   "start_time": "2022-12-07T06:43:43.106518",
   "version": "2.3.3"
  }
 },
 "nbformat": 4,
 "nbformat_minor": 5
}