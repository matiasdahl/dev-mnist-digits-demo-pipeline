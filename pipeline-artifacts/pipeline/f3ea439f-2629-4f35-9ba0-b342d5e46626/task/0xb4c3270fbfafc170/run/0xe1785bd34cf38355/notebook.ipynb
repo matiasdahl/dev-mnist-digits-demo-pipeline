{
 "cells": [
  {
   "cell_type": "markdown",
   "id": "4ba33254",
   "metadata": {
    "papermill": {
     "duration": 0.006857,
     "end_time": "2022-12-07T06:44:04.832176",
     "exception": false,
     "start_time": "2022-12-07T06:44:04.825319",
     "status": "completed"
    },
    "tags": []
   },
   "source": [
    "# Benchmark model\n",
    "\n",
    "The purpose of this notebook is to benchmark persisted onnx-model (trained in the\n",
    "previous step) against evaluation set."
   ]
  },
  {
   "cell_type": "markdown",
   "id": "4e422986",
   "metadata": {
    "papermill": {
     "duration": 0.004546,
     "end_time": "2022-12-07T06:44:04.842431",
     "exception": false,
     "start_time": "2022-12-07T06:44:04.837885",
     "status": "completed"
    },
    "tags": []
   },
   "source": [
    "### Determine run parameters"
   ]
  },
  {
   "cell_type": "code",
   "execution_count": 1,
   "id": "75483f19",
   "metadata": {
    "execution": {
     "iopub.execute_input": "2022-12-07T06:44:04.853706Z",
     "iopub.status.busy": "2022-12-07T06:44:04.853314Z",
     "iopub.status.idle": "2022-12-07T06:44:04.872503Z",
     "shell.execute_reply": "2022-12-07T06:44:04.871845Z"
    },
    "lines_to_next_cell": 0,
    "papermill": {
     "duration": 0.027289,
     "end_time": "2022-12-07T06:44:04.874505",
     "exception": false,
     "start_time": "2022-12-07T06:44:04.847216",
     "status": "completed"
    },
    "tags": []
   },
   "outputs": [],
   "source": [
    "# ----------------- Parameters for interactive development --------------\n",
    "P = {\n",
    "    \"pipeline.data_lake_root\": \"/pipeline-outputs/data-lake\",\n",
    "    \"task.nr_train_images\": 600,\n",
    "}"
   ]
  },
  {
   "cell_type": "code",
   "execution_count": 2,
   "id": "87a7c494",
   "metadata": {
    "execution": {
     "iopub.execute_input": "2022-12-07T06:44:04.885901Z",
     "iopub.status.busy": "2022-12-07T06:44:04.885592Z",
     "iopub.status.idle": "2022-12-07T06:44:04.890061Z",
     "shell.execute_reply": "2022-12-07T06:44:04.889426Z"
    },
    "lines_to_next_cell": 0,
    "papermill": {
     "duration": 0.013305,
     "end_time": "2022-12-07T06:44:04.893440",
     "exception": false,
     "start_time": "2022-12-07T06:44:04.880135",
     "status": "completed"
    },
    "tags": [
     "parameters"
    ]
   },
   "outputs": [],
   "source": [
    "# - During automated runs parameters will be injected in the below cell -"
   ]
  },
  {
   "cell_type": "code",
   "execution_count": 3,
   "id": "3ef9f652",
   "metadata": {
    "execution": {
     "iopub.execute_input": "2022-12-07T06:44:04.904707Z",
     "iopub.status.busy": "2022-12-07T06:44:04.904455Z",
     "iopub.status.idle": "2022-12-07T06:44:04.910225Z",
     "shell.execute_reply": "2022-12-07T06:44:04.909645Z"
    },
    "papermill": {
     "duration": 0.014427,
     "end_time": "2022-12-07T06:44:04.913238",
     "exception": false,
     "start_time": "2022-12-07T06:44:04.898811",
     "status": "completed"
    },
    "tags": [
     "injected-parameters"
    ]
   },
   "outputs": [],
   "source": [
    "# Parameters\n",
    "P = {\n",
    "    \"pipeline.data_lake_root\": \"/pipeline-outputs/data-lake\",\n",
    "    \"pipeline.run_environment\": \"ci\",\n",
    "    \"pipeline.pipeline_run_id\": \"f3ea439f-2629-4f35-9ba0-b342d5e46626\",\n",
    "    \"pipeline.github.repository\": \"matiasdahl/dev-mnist-digits-demo-pipeline\",\n",
    "    \"pipeline.github.workflow\": \"Run automated tests, pipeline and deploy results to static reporting site\",\n",
    "    \"pipeline.github.runner_name\": \"Hosted Agent\",\n",
    "    \"pipeline.github.run_id\": \"3636482485\",\n",
    "    \"pipeline.github.actor\": \"matiasdahl\",\n",
    "    \"pipeline.github.job\": \"run-tests-pipeline-and-persist-pipeline-outputs\",\n",
    "    \"pipeline.github.base_ref\": \"\",\n",
    "    \"pipeline.github.head_ref\": \"\",\n",
    "    \"pipeline.github.sha\": \"ace0d01011d5e914f1921450dd5a59c11367b38d\",\n",
    "    \"pipeline.github.ref\": \"refs/heads/development\",\n",
    "    \"pipeline.github.ref_type\": \"branch\",\n",
    "    \"pipeline.github.ref_name\": \"development\",\n",
    "    \"pipeline.github.event_name\": \"schedule\",\n",
    "    \"task.nr_train_images\": 1200,\n",
    "    \"task.notebook\": \"notebooks/benchmark-model.py\",\n",
    "    \"task.max_nr_retries\": \"1\",\n",
    "    \"run.retry_nr\": \"0\",\n",
    "    \"task.timeout_s\": \"None\",\n",
    "    \"task.num_cpus\": 1,\n",
    "    \"_opentelemetry_traceparent\": \"00-dcc7a682a10aa94c0c3676ffb75c1a75-2f3c7a31e878e275-01\",\n",
    "}\n"
   ]
  },
  {
   "cell_type": "code",
   "execution_count": 4,
   "id": "620bde03",
   "metadata": {
    "execution": {
     "iopub.execute_input": "2022-12-07T06:44:04.924468Z",
     "iopub.status.busy": "2022-12-07T06:44:04.924218Z",
     "iopub.status.idle": "2022-12-07T06:44:04.927255Z",
     "shell.execute_reply": "2022-12-07T06:44:04.926635Z"
    },
    "lines_to_next_cell": 0,
    "papermill": {
     "duration": 0.01342,
     "end_time": "2022-12-07T06:44:04.931243",
     "exception": false,
     "start_time": "2022-12-07T06:44:04.917823",
     "status": "completed"
    },
    "tags": []
   },
   "outputs": [],
   "source": [
    "# -----------------------------------------------------------------------"
   ]
  },
  {
   "cell_type": "markdown",
   "id": "b3f66519",
   "metadata": {
    "papermill": {
     "duration": 0.005197,
     "end_time": "2022-12-07T06:44:04.940973",
     "exception": false,
     "start_time": "2022-12-07T06:44:04.935776",
     "status": "completed"
    },
    "tags": []
   },
   "source": [
    "---"
   ]
  },
  {
   "cell_type": "markdown",
   "id": "8b18d102",
   "metadata": {
    "lines_to_next_cell": 2,
    "papermill": {
     "duration": 0.005303,
     "end_time": "2022-12-07T06:44:04.952991",
     "exception": false,
     "start_time": "2022-12-07T06:44:04.947688",
     "status": "completed"
    },
    "tags": []
   },
   "source": [
    "### Notebook code"
   ]
  },
  {
   "cell_type": "code",
   "execution_count": 5,
   "id": "01cc99fd",
   "metadata": {
    "execution": {
     "iopub.execute_input": "2022-12-07T06:44:04.964883Z",
     "iopub.status.busy": "2022-12-07T06:44:04.964562Z",
     "iopub.status.idle": "2022-12-07T06:44:06.314759Z",
     "shell.execute_reply": "2022-12-07T06:44:06.313825Z"
    },
    "papermill": {
     "duration": 1.359423,
     "end_time": "2022-12-07T06:44:06.317009",
     "exception": false,
     "start_time": "2022-12-07T06:44:04.957586",
     "status": "completed"
    },
    "tags": []
   },
   "outputs": [
    {
     "name": "stderr",
     "output_type": "stream",
     "text": [
      "2022-12-07 06:44:06,132\tINFO worker.py:842 -- Connecting to existing Ray cluster at address: 172.17.0.2:6379\n"
     ]
    }
   ],
   "source": [
    "import itertools as it\n",
    "\n",
    "#\n",
    "import numpy as np\n",
    "import matplotlib.pyplot as plt\n",
    "\n",
    "#\n",
    "from pynb_dag_runner.tasks.task_opentelemetry_logging import PydarLogger\n",
    "\n",
    "#\n",
    "from common.io import datalake_root\n",
    "\n",
    "logger = PydarLogger(P)"
   ]
  },
  {
   "cell_type": "markdown",
   "id": "e1af17d5",
   "metadata": {
    "papermill": {
     "duration": 0.006865,
     "end_time": "2022-12-07T06:44:06.333363",
     "exception": false,
     "start_time": "2022-12-07T06:44:06.326498",
     "status": "completed"
    },
    "tags": []
   },
   "source": [
    "## Load persisted onnx-model and evaluation data"
   ]
  },
  {
   "cell_type": "code",
   "execution_count": 6,
   "id": "6c141a60",
   "metadata": {
    "execution": {
     "iopub.execute_input": "2022-12-07T06:44:06.346653Z",
     "iopub.status.busy": "2022-12-07T06:44:06.345804Z",
     "iopub.status.idle": "2022-12-07T06:44:06.350281Z",
     "shell.execute_reply": "2022-12-07T06:44:06.349656Z"
    },
    "papermill": {
     "duration": 0.01614,
     "end_time": "2022-12-07T06:44:06.354832",
     "exception": false,
     "start_time": "2022-12-07T06:44:06.338692",
     "status": "completed"
    },
    "tags": []
   },
   "outputs": [],
   "source": [
    "from common.io import read_onnx, get_onnx_inputs, get_onnx_outputs, read_numpy"
   ]
  },
  {
   "cell_type": "code",
   "execution_count": 7,
   "id": "369d0986",
   "metadata": {
    "execution": {
     "iopub.execute_input": "2022-12-07T06:44:06.370200Z",
     "iopub.status.busy": "2022-12-07T06:44:06.369906Z",
     "iopub.status.idle": "2022-12-07T06:44:06.385698Z",
     "shell.execute_reply": "2022-12-07T06:44:06.385074Z"
    },
    "lines_to_next_cell": 0,
    "papermill": {
     "duration": 0.024915,
     "end_time": "2022-12-07T06:44:06.387942",
     "exception": false,
     "start_time": "2022-12-07T06:44:06.363027",
     "status": "completed"
    },
    "tags": []
   },
   "outputs": [],
   "source": [
    "onnx_inference_session = read_onnx(\n",
    "    datalake_root(P)\n",
    "    / \"models\"\n",
    "    / f\"nr_train_images={P['task.nr_train_images']}\"\n",
    "    / \"model.onnx\"\n",
    ")"
   ]
  },
  {
   "cell_type": "markdown",
   "id": "dac23154",
   "metadata": {
    "papermill": {
     "duration": 0.00505,
     "end_time": "2022-12-07T06:44:06.400263",
     "exception": false,
     "start_time": "2022-12-07T06:44:06.395213",
     "status": "completed"
    },
    "tags": []
   },
   "source": [
    "### Record structure of inputs and outputs for ONNX model\n",
    "\n",
    "(this should likely be done in training notebook)"
   ]
  },
  {
   "cell_type": "code",
   "execution_count": 8,
   "id": "3558b3ef",
   "metadata": {
    "execution": {
     "iopub.execute_input": "2022-12-07T06:44:06.412815Z",
     "iopub.status.busy": "2022-12-07T06:44:06.412464Z",
     "iopub.status.idle": "2022-12-07T06:44:06.425254Z",
     "shell.execute_reply": "2022-12-07T06:44:06.423784Z"
    },
    "papermill": {
     "duration": 0.025366,
     "end_time": "2022-12-07T06:44:06.431372",
     "exception": false,
     "start_time": "2022-12-07T06:44:06.406006",
     "status": "completed"
    },
    "tags": []
   },
   "outputs": [
    {
     "name": "stdout",
     "output_type": "stream",
     "text": [
      "{\n",
      "  \"inputs\": [\n",
      "    {\n",
      "      \"name\": \"float_input_8x8_image\",\n",
      "      \"shape\": [\n",
      "        null,\n",
      "        64\n",
      "      ],\n",
      "      \"type\": \"tensor(float)\"\n",
      "    }\n",
      "  ],\n",
      "  \"outputs\": [\n",
      "    {\n",
      "      \"name\": \"output_label\",\n",
      "      \"shape\": [\n",
      "        null\n",
      "      ],\n",
      "      \"type\": \"tensor(int64)\"\n",
      "    },\n",
      "    {\n",
      "      \"name\": \"output_probability\",\n",
      "      \"shape\": [],\n",
      "      \"type\": \"seq(map(int64,tensor(float)))\"\n",
      "    }\n",
      "  ]\n",
      "}\n"
     ]
    }
   ],
   "source": [
    "import json\n",
    "\n",
    "onnx_io = json.dumps(\n",
    "    {\n",
    "        \"inputs\": get_onnx_inputs(onnx_inference_session),\n",
    "        \"outputs\": get_onnx_outputs(onnx_inference_session),\n",
    "    },\n",
    "    indent=2,\n",
    ")\n",
    "\n",
    "\n",
    "logger.log_artefact(\"onnx_io_structure.json\", onnx_io)\n",
    "print(onnx_io)"
   ]
  },
  {
   "cell_type": "markdown",
   "id": "6ef019eb",
   "metadata": {
    "papermill": {
     "duration": 0.006062,
     "end_time": "2022-12-07T06:44:06.446686",
     "exception": false,
     "start_time": "2022-12-07T06:44:06.440624",
     "status": "completed"
    },
    "tags": []
   },
   "source": [
    "### Evaluate model performance on evaluation data set"
   ]
  },
  {
   "cell_type": "code",
   "execution_count": 9,
   "id": "b4740b95",
   "metadata": {
    "execution": {
     "iopub.execute_input": "2022-12-07T06:44:06.465907Z",
     "iopub.status.busy": "2022-12-07T06:44:06.461400Z",
     "iopub.status.idle": "2022-12-07T06:44:06.473754Z",
     "shell.execute_reply": "2022-12-07T06:44:06.473013Z"
    },
    "papermill": {
     "duration": 0.022727,
     "end_time": "2022-12-07T06:44:06.476330",
     "exception": false,
     "start_time": "2022-12-07T06:44:06.453603",
     "status": "completed"
    },
    "tags": []
   },
   "outputs": [],
   "source": [
    "# load evaluation data\n",
    "X_test = read_numpy(datalake_root(P) / \"test-data\" / \"digits.numpy\")\n",
    "y_test = read_numpy(datalake_root(P) / \"test-data\" / \"labels.numpy\")"
   ]
  },
  {
   "cell_type": "code",
   "execution_count": 10,
   "id": "20b4dc0d",
   "metadata": {
    "execution": {
     "iopub.execute_input": "2022-12-07T06:44:06.489300Z",
     "iopub.status.busy": "2022-12-07T06:44:06.489006Z",
     "iopub.status.idle": "2022-12-07T06:44:06.570824Z",
     "shell.execute_reply": "2022-12-07T06:44:06.569627Z"
    },
    "papermill": {
     "duration": 0.091832,
     "end_time": "2022-12-07T06:44:06.573735",
     "exception": false,
     "start_time": "2022-12-07T06:44:06.481903",
     "status": "completed"
    },
    "tags": []
   },
   "outputs": [],
   "source": [
    "def get_model_outputs(X, onnx_inference_session):\n",
    "    y_pred_labels, y_pred_map = onnx_inference_session.run(\n",
    "        [\"output_label\", \"output_probability\"],\n",
    "        {\"float_input_8x8_image\": X.astype(np.float32)},\n",
    "    )\n",
    "    y_pred_probs = np.array(\n",
    "        [[probabilities[digit] for digit in range(10)] for probabilities in y_pred_map]\n",
    "    )\n",
    "\n",
    "    assert y_pred_labels.shape == (X.shape[0],)\n",
    "    assert y_pred_probs.shape == (X.shape[0], 10)\n",
    "\n",
    "    return y_pred_labels, y_pred_probs\n",
    "\n",
    "\n",
    "# Note: as shown in the training notebook, the predicted labels and probabilities\n",
    "# computed below need not be compatible.\n",
    "y_pred_labels_test, y_pred_probs_test = get_model_outputs(\n",
    "    X_test, onnx_inference_session\n",
    ")"
   ]
  },
  {
   "cell_type": "markdown",
   "id": "c84e6894",
   "metadata": {
    "papermill": {
     "duration": 0.005244,
     "end_time": "2022-12-07T06:44:06.585665",
     "exception": false,
     "start_time": "2022-12-07T06:44:06.580421",
     "status": "completed"
    },
    "tags": []
   },
   "source": [
    "### Confusion matrix"
   ]
  },
  {
   "cell_type": "code",
   "execution_count": 11,
   "id": "bafc5188",
   "metadata": {
    "execution": {
     "iopub.execute_input": "2022-12-07T06:44:06.598622Z",
     "iopub.status.busy": "2022-12-07T06:44:06.597614Z",
     "iopub.status.idle": "2022-12-07T06:44:06.601533Z",
     "shell.execute_reply": "2022-12-07T06:44:06.600865Z"
    },
    "papermill": {
     "duration": 0.01315,
     "end_time": "2022-12-07T06:44:06.604749",
     "exception": false,
     "start_time": "2022-12-07T06:44:06.591599",
     "status": "completed"
    },
    "tags": []
   },
   "outputs": [],
   "source": [
    "# TODO"
   ]
  },
  {
   "cell_type": "markdown",
   "id": "93c3f26e",
   "metadata": {
    "papermill": {
     "duration": 0.005145,
     "end_time": "2022-12-07T06:44:06.616091",
     "exception": false,
     "start_time": "2022-12-07T06:44:06.610946",
     "status": "completed"
    },
    "tags": []
   },
   "source": [
    "### Plot predicted probabilities for each classifier over all evaluation digit images"
   ]
  },
  {
   "cell_type": "code",
   "execution_count": 12,
   "id": "c748c45b",
   "metadata": {
    "execution": {
     "iopub.execute_input": "2022-12-07T06:44:06.633279Z",
     "iopub.status.busy": "2022-12-07T06:44:06.632885Z",
     "iopub.status.idle": "2022-12-07T06:44:10.126416Z",
     "shell.execute_reply": "2022-12-07T06:44:10.125631Z"
    },
    "papermill": {
     "duration": 3.501751,
     "end_time": "2022-12-07T06:44:10.128201",
     "exception": false,
     "start_time": "2022-12-07T06:44:06.626450",
     "status": "completed"
    },
    "tags": []
   },
   "outputs": [
    {
     "data": {
      "image/png": "[encoded data removed]",
      "text/plain": [
       "<Figure size 1600x600 with 10 Axes>"
      ]
     },
     "metadata": {},
     "output_type": "display_data"
    }
   ],
   "source": [
    "def plot_per_digit_probabilities(y_pred_probs):\n",
    "    fig, axs = plt.subplots(nrows=2, ncols=5, figsize=(16, 6))\n",
    "\n",
    "    for (r, c), digit, ax in zip(\n",
    "        it.product(range(2), range(5)), range(10), axs.reshape(-1)\n",
    "    ):\n",
    "        ax.hist(y_pred_probs_test[:, digit], bins=20)\n",
    "\n",
    "        ax.set_title(f\"Digit {digit}\")\n",
    "        if r == 1 and c == 2:\n",
    "            ax.set_xlabel(\"probability\", fontsize=16)\n",
    "\n",
    "        if c == 0:\n",
    "            ax.set_ylabel(\"counts\", fontsize=16)\n",
    "        ax.set_yscale(\"log\")\n",
    "\n",
    "    fig.tight_layout()\n",
    "    fig.suptitle(\n",
    "        f\"Distributions of prediction probabilities for each digit \"\n",
    "        f\"(on evaluation data, n={y_pred_probs.shape[0]})\",\n",
    "        fontsize=20,\n",
    "    )\n",
    "    fig.tight_layout()\n",
    "    fig.show()\n",
    "\n",
    "    return fig\n",
    "\n",
    "\n",
    "fig = plot_per_digit_probabilities(y_pred_probs_test)"
   ]
  },
  {
   "cell_type": "markdown",
   "id": "e0932631",
   "metadata": {
    "papermill": {
     "duration": 0.005772,
     "end_time": "2022-12-07T06:44:10.140147",
     "exception": false,
     "start_time": "2022-12-07T06:44:10.134375",
     "status": "completed"
    },
    "tags": []
   },
   "source": [
    "From the above distributions we see that most digits have clear separation between\n",
    "high and lower probabilities. Morover, in each case there is roughly an order of\n",
    "magnitude more of digits with low probabilities. This is compatible with digits\n",
    "being roughly evenly distributed in the data."
   ]
  },
  {
   "cell_type": "code",
   "execution_count": 13,
   "id": "27496556",
   "metadata": {
    "execution": {
     "iopub.execute_input": "2022-12-07T06:44:10.154189Z",
     "iopub.status.busy": "2022-12-07T06:44:10.153417Z",
     "iopub.status.idle": "2022-12-07T06:44:10.665224Z",
     "shell.execute_reply": "2022-12-07T06:44:10.664538Z"
    },
    "papermill": {
     "duration": 0.520787,
     "end_time": "2022-12-07T06:44:10.667220",
     "exception": false,
     "start_time": "2022-12-07T06:44:10.146433",
     "status": "completed"
    },
    "tags": []
   },
   "outputs": [],
   "source": [
    "logger.log_figure(\"per-digit-probabilities.png\", fig)"
   ]
  },
  {
   "cell_type": "markdown",
   "id": "c0c77cac",
   "metadata": {
    "papermill": {
     "duration": 0.007154,
     "end_time": "2022-12-07T06:44:10.682199",
     "exception": false,
     "start_time": "2022-12-07T06:44:10.675045",
     "status": "completed"
    },
    "tags": []
   },
   "source": [
    "### Plot ROC curves for individual one-vs-rest classifiers"
   ]
  },
  {
   "cell_type": "code",
   "execution_count": 14,
   "id": "c29b4271",
   "metadata": {
    "execution": {
     "iopub.execute_input": "2022-12-07T06:44:10.697400Z",
     "iopub.status.busy": "2022-12-07T06:44:10.696930Z",
     "iopub.status.idle": "2022-12-07T06:44:11.152156Z",
     "shell.execute_reply": "2022-12-07T06:44:11.151030Z"
    },
    "papermill": {
     "duration": 0.464263,
     "end_time": "2022-12-07T06:44:11.154278",
     "exception": false,
     "start_time": "2022-12-07T06:44:10.690015",
     "status": "completed"
    },
    "tags": []
   },
   "outputs": [],
   "source": [
    "from sklearn import metrics"
   ]
  },
  {
   "cell_type": "code",
   "execution_count": 15,
   "id": "1fe64aca",
   "metadata": {
    "execution": {
     "iopub.execute_input": "2022-12-07T06:44:11.168998Z",
     "iopub.status.busy": "2022-12-07T06:44:11.168522Z",
     "iopub.status.idle": "2022-12-07T06:44:12.359452Z",
     "shell.execute_reply": "2022-12-07T06:44:12.358786Z"
    },
    "papermill": {
     "duration": 1.200575,
     "end_time": "2022-12-07T06:44:12.361572",
     "exception": false,
     "start_time": "2022-12-07T06:44:11.160997",
     "status": "completed"
    },
    "tags": []
   },
   "outputs": [
    {
     "data": {
      "image/png": "[encoded data removed]",
      "text/plain": [
       "<Figure size 1600x800 with 10 Axes>"
      ]
     },
     "metadata": {},
     "output_type": "display_data"
    }
   ],
   "source": [
    "def plot_roc_curves(y, y_pred_probs):\n",
    "    # based on example code\n",
    "    # https://scikit-learn.org/stable/auto_examples/model_selection/plot_roc.html\n",
    "\n",
    "    fig, axs = plt.subplots(nrows=2, ncols=5, figsize=(16, 8))\n",
    "\n",
    "    roc_auc_dict = {}\n",
    "\n",
    "    for (r, c), digit, ax in zip(\n",
    "        it.product(range(2), range(5)), range(10), axs.reshape(-1)\n",
    "    ):\n",
    "        fpr, tpr, _ = metrics.roc_curve(y == digit, y_pred_probs[:, digit])\n",
    "        auc = metrics.auc(fpr, tpr)\n",
    "        roc_auc_dict[str(digit)] = auc\n",
    "\n",
    "        ax.plot(fpr, tpr, label=f\"ROC AUC={round(auc, 3)}\")\n",
    "\n",
    "        ax.set_title(f\"\\nDigit {digit}\", fontsize=16)\n",
    "        if r == 1:\n",
    "            ax.set_xlabel(\"FPR\", fontsize=18)\n",
    "\n",
    "        if c == 0:\n",
    "            ax.set_ylabel(\"TPR\", fontsize=18)\n",
    "\n",
    "        ax.set_xlim([-0.05, 1.05])\n",
    "        ax.set_ylim([-0.05, 1.05])\n",
    "        ax.legend(loc=\"lower right\", frameon=False, fontsize=14)\n",
    "\n",
    "    fig.tight_layout()\n",
    "    fig.suptitle(\n",
    "        f\"ROC plots for one-vs-rest performances \"\n",
    "        f\"(on evaluation data, n={y_pred_probs_test.shape[1]}\",\n",
    "        fontsize=22,\n",
    "    )\n",
    "    fig.tight_layout()\n",
    "    fig.show()\n",
    "\n",
    "    return roc_auc_dict, fig\n",
    "\n",
    "\n",
    "roc_auc_dict, fig = plot_roc_curves(y_test, y_pred_probs_test)"
   ]
  },
  {
   "cell_type": "code",
   "execution_count": 16,
   "id": "8011ae38",
   "metadata": {
    "execution": {
     "iopub.execute_input": "2022-12-07T06:44:12.379402Z",
     "iopub.status.busy": "2022-12-07T06:44:12.379025Z",
     "iopub.status.idle": "2022-12-07T06:44:12.653193Z",
     "shell.execute_reply": "2022-12-07T06:44:12.652125Z"
    },
    "papermill": {
     "duration": 0.28554,
     "end_time": "2022-12-07T06:44:12.655751",
     "exception": false,
     "start_time": "2022-12-07T06:44:12.370211",
     "status": "completed"
    },
    "tags": []
   },
   "outputs": [],
   "source": [
    "logger.log_figure(\"per-digit-roc-curves.png\", fig)"
   ]
  },
  {
   "cell_type": "code",
   "execution_count": 17,
   "id": "0de78cbf",
   "metadata": {
    "execution": {
     "iopub.execute_input": "2022-12-07T06:44:12.672667Z",
     "iopub.status.busy": "2022-12-07T06:44:12.672319Z",
     "iopub.status.idle": "2022-12-07T06:44:12.679473Z",
     "shell.execute_reply": "2022-12-07T06:44:12.678678Z"
    },
    "papermill": {
     "duration": 0.018932,
     "end_time": "2022-12-07T06:44:12.682040",
     "exception": false,
     "start_time": "2022-12-07T06:44:12.663108",
     "status": "completed"
    },
    "tags": []
   },
   "outputs": [
    {
     "data": {
      "text/plain": [
       "{'0': 1.0,\n",
       " '1': 0.9990627928772259,\n",
       " '2': 1.0,\n",
       " '3': 0.9998500468603562,\n",
       " '4': 0.9997332723670173,\n",
       " '5': 0.9996626054358013,\n",
       " '6': 0.999923792104862,\n",
       " '7': 0.9998475842097242,\n",
       " '8': 0.9957834174022698,\n",
       " '9': 0.9997332723670171}"
      ]
     },
     "execution_count": 17,
     "metadata": {},
     "output_type": "execute_result"
    }
   ],
   "source": [
    "roc_auc_dict"
   ]
  },
  {
   "cell_type": "code",
   "execution_count": 18,
   "id": "3675937c",
   "metadata": {
    "execution": {
     "iopub.execute_input": "2022-12-07T06:44:12.697998Z",
     "iopub.status.busy": "2022-12-07T06:44:12.697560Z",
     "iopub.status.idle": "2022-12-07T06:44:12.702436Z",
     "shell.execute_reply": "2022-12-07T06:44:12.701586Z"
    },
    "papermill": {
     "duration": 0.015292,
     "end_time": "2022-12-07T06:44:12.704807",
     "exception": false,
     "start_time": "2022-12-07T06:44:12.689515",
     "status": "completed"
    },
    "tags": []
   },
   "outputs": [
    {
     "name": "stdout",
     "output_type": "stream",
     "text": [
      " - Logging roc_auc_per_digit (json) : {'0': 1.0, '1': 0.9990627928772259, '2': 1.0, '3': 0.9998500468603562, '4': 0.9997332723670173, '5': 0.9996626054358013, '6': 0.999923792104862, '7': 0.9998475842097242, '8': 0.9957834174022698, '9': 0.9997332723670171}\n"
     ]
    }
   ],
   "source": [
    "logger.log_value(\"roc_auc_per_digit\", roc_auc_dict)"
   ]
  },
  {
   "cell_type": "markdown",
   "id": "9c34d3ec",
   "metadata": {
    "papermill": {
     "duration": 0.007483,
     "end_time": "2022-12-07T06:44:12.719646",
     "exception": false,
     "start_time": "2022-12-07T06:44:12.712163",
     "status": "completed"
    },
    "tags": []
   },
   "source": [
    "### Compute and log mean ROC AUC score averaged over all digits"
   ]
  },
  {
   "cell_type": "code",
   "execution_count": 19,
   "id": "60815c4e",
   "metadata": {
    "execution": {
     "iopub.execute_input": "2022-12-07T06:44:12.735639Z",
     "iopub.status.busy": "2022-12-07T06:44:12.735154Z",
     "iopub.status.idle": "2022-12-07T06:44:12.756415Z",
     "shell.execute_reply": "2022-12-07T06:44:12.755279Z"
    },
    "papermill": {
     "duration": 0.03187,
     "end_time": "2022-12-07T06:44:12.758758",
     "exception": false,
     "start_time": "2022-12-07T06:44:12.726888",
     "status": "completed"
    },
    "tags": []
   },
   "outputs": [
    {
     "name": "stdout",
     "output_type": "stream",
     "text": [
      " - Logging roc_auc_class_mean (float) : 0.9993596783624275\n"
     ]
    }
   ],
   "source": [
    "roc_auc_macro = np.mean(list(roc_auc_dict.values()))\n",
    "\n",
    "logger.log_float(\"roc_auc_class_mean\", roc_auc_macro)\n",
    "\n",
    "# assert that the same value can be computed directly using sklearn\n",
    "assert roc_auc_macro == metrics.roc_auc_score(\n",
    "    y_test, y_pred_probs_test, average=\"macro\", multi_class=\"ovr\"\n",
    ")"
   ]
  },
  {
   "cell_type": "code",
   "execution_count": 20,
   "id": "8e835ef4",
   "metadata": {
    "execution": {
     "iopub.execute_input": "2022-12-07T06:44:12.775645Z",
     "iopub.status.busy": "2022-12-07T06:44:12.775243Z",
     "iopub.status.idle": "2022-12-07T06:44:12.778869Z",
     "shell.execute_reply": "2022-12-07T06:44:12.778173Z"
    },
    "lines_to_next_cell": 0,
    "papermill": {
     "duration": 0.013757,
     "end_time": "2022-12-07T06:44:12.780589",
     "exception": false,
     "start_time": "2022-12-07T06:44:12.766832",
     "status": "completed"
    },
    "tags": []
   },
   "outputs": [],
   "source": [
    "# ---"
   ]
  },
  {
   "cell_type": "code",
   "execution_count": null,
   "id": "c97c6f49",
   "metadata": {
    "papermill": {
     "duration": 0.007229,
     "end_time": "2022-12-07T06:44:12.795192",
     "exception": false,
     "start_time": "2022-12-07T06:44:12.787963",
     "status": "completed"
    },
    "tags": []
   },
   "outputs": [],
   "source": []
  }
 ],
 "metadata": {
  "jupytext": {
   "cell_metadata_filter": "tags,-all",
   "main_language": "python",
   "notebook_metadata_filter": "-all"
  },
  "language_info": {
   "codemirror_mode": {
    "name": "ipython",
    "version": 3
   },
   "file_extension": ".py",
   "mimetype": "text/x-python",
   "name": "python",
   "nbconvert_exporter": "python",
   "pygments_lexer": "ipython3",
   "version": "3.8.10"
  },
  "papermill": {
   "default_parameters": {},
   "duration": 10.703273,
   "end_time": "2022-12-07T06:44:14.023928",
   "environment_variables": {},
   "exception": null,
   "input_path": "/home/host_user/workspace/mnist-demo-pipeline/mnist-demo-pipeline/notebooks/temp-notebook-34gxqt9l.ipynb",
   "output_path": "notebooks/benchmark-model.ipynb",
   "parameters": {
    "P": {
     "_opentelemetry_traceparent": "00-dcc7a682a10aa94c0c3676ffb75c1a75-2f3c7a31e878e275-01",
     "pipeline.data_lake_root": "/pipeline-outputs/data-lake",
     "pipeline.github.actor": "matiasdahl",
     "pipeline.github.base_ref": "",
     "pipeline.github.event_name": "schedule",
     "pipeline.github.head_ref": "",
     "pipeline.github.job": "run-tests-pipeline-and-persist-pipeline-outputs",
     "pipeline.github.ref": "refs/heads/development",
     "pipeline.github.ref_name": "development",
     "pipeline.github.ref_type": "branch",
     "pipeline.github.repository": "matiasdahl/dev-mnist-digits-demo-pipeline",
     "pipeline.github.run_id": "3636482485",
     "pipeline.github.runner_name": "Hosted Agent",
     "pipeline.github.sha": "ace0d01011d5e914f1921450dd5a59c11367b38d",
     "pipeline.github.workflow": "Run automated tests, pipeline and deploy results to static reporting site",
     "pipeline.pipeline_run_id": "f3ea439f-2629-4f35-9ba0-b342d5e46626",
     "pipeline.run_environment": "ci",
     "run.retry_nr": "0",
     "task.max_nr_retries": "1",
     "task.notebook": "notebooks/benchmark-model.py",
     "task.nr_train_images": 1200,
     "task.num_cpus": 1,
     "task.timeout_s": "None"
    }
   },
   "start_time": "2022-12-07T06:44:03.320655",
   "version": "2.3.3"
  }
 },
 "nbformat": 4,
 "nbformat_minor": 5
}