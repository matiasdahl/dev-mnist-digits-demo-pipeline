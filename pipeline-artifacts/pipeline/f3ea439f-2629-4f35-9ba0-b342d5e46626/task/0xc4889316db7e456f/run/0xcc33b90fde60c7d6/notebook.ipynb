{
 "cells": [
  {
   "cell_type": "markdown",
   "id": "bbbbef1f",
   "metadata": {
    "papermill": {
     "duration": 0.007476,
     "end_time": "2022-12-07T06:43:17.698231",
     "exception": false,
     "start_time": "2022-12-07T06:43:17.690755",
     "status": "completed"
    },
    "tags": []
   },
   "source": [
    "# Ingest toy version of MNIST digit data from sklearn"
   ]
  },
  {
   "cell_type": "markdown",
   "id": "ce6fbbbb",
   "metadata": {
    "papermill": {
     "duration": 0.002713,
     "end_time": "2022-12-07T06:43:17.705938",
     "exception": false,
     "start_time": "2022-12-07T06:43:17.703225",
     "status": "completed"
    },
    "tags": []
   },
   "source": [
    "### Determine run parameters"
   ]
  },
  {
   "cell_type": "code",
   "execution_count": 1,
   "id": "6a90cea0",
   "metadata": {
    "execution": {
     "iopub.execute_input": "2022-12-07T06:43:17.713381Z",
     "iopub.status.busy": "2022-12-07T06:43:17.712730Z",
     "iopub.status.idle": "2022-12-07T06:43:17.721292Z",
     "shell.execute_reply": "2022-12-07T06:43:17.720605Z"
    },
    "lines_to_next_cell": 0,
    "papermill": {
     "duration": 0.014512,
     "end_time": "2022-12-07T06:43:17.723258",
     "exception": false,
     "start_time": "2022-12-07T06:43:17.708746",
     "status": "completed"
    },
    "tags": []
   },
   "outputs": [],
   "source": [
    "# ----------------- Parameters for interactive development --------------\n",
    "P = {\n",
    "    \"pipeline.run_environment\": \"dev\",\n",
    "    \"pipeline.data_lake_root\": \"/pipeline-outputs/data-lake\",\n",
    "    \"run.retry_nr\": \"1\",\n",
    "}"
   ]
  },
  {
   "cell_type": "code",
   "execution_count": 2,
   "id": "28b28587",
   "metadata": {
    "execution": {
     "iopub.execute_input": "2022-12-07T06:43:17.731126Z",
     "iopub.status.busy": "2022-12-07T06:43:17.730313Z",
     "iopub.status.idle": "2022-12-07T06:43:17.733899Z",
     "shell.execute_reply": "2022-12-07T06:43:17.733208Z"
    },
    "lines_to_next_cell": 0,
    "papermill": {
     "duration": 0.01003,
     "end_time": "2022-12-07T06:43:17.736358",
     "exception": false,
     "start_time": "2022-12-07T06:43:17.726328",
     "status": "completed"
    },
    "tags": [
     "parameters"
    ]
   },
   "outputs": [],
   "source": [
    "# - During automated runs parameters will be injected in the below cell -"
   ]
  },
  {
   "cell_type": "code",
   "execution_count": 3,
   "id": "f96c15f2",
   "metadata": {
    "execution": {
     "iopub.execute_input": "2022-12-07T06:43:17.744494Z",
     "iopub.status.busy": "2022-12-07T06:43:17.743996Z",
     "iopub.status.idle": "2022-12-07T06:43:17.749479Z",
     "shell.execute_reply": "2022-12-07T06:43:17.748631Z"
    },
    "papermill": {
     "duration": 0.012039,
     "end_time": "2022-12-07T06:43:17.751432",
     "exception": false,
     "start_time": "2022-12-07T06:43:17.739393",
     "status": "completed"
    },
    "tags": [
     "injected-parameters"
    ]
   },
   "outputs": [],
   "source": [
    "# Parameters\n",
    "P = {\n",
    "    \"pipeline.data_lake_root\": \"/pipeline-outputs/data-lake\",\n",
    "    \"pipeline.run_environment\": \"ci\",\n",
    "    \"pipeline.pipeline_run_id\": \"f3ea439f-2629-4f35-9ba0-b342d5e46626\",\n",
    "    \"pipeline.github.repository\": \"matiasdahl/dev-mnist-digits-demo-pipeline\",\n",
    "    \"pipeline.github.workflow\": \"Run automated tests, pipeline and deploy results to static reporting site\",\n",
    "    \"pipeline.github.runner_name\": \"Hosted Agent\",\n",
    "    \"pipeline.github.run_id\": \"3636482485\",\n",
    "    \"pipeline.github.actor\": \"matiasdahl\",\n",
    "    \"pipeline.github.job\": \"run-tests-pipeline-and-persist-pipeline-outputs\",\n",
    "    \"pipeline.github.base_ref\": \"\",\n",
    "    \"pipeline.github.head_ref\": \"\",\n",
    "    \"pipeline.github.sha\": \"ace0d01011d5e914f1921450dd5a59c11367b38d\",\n",
    "    \"pipeline.github.ref\": \"refs/heads/development\",\n",
    "    \"pipeline.github.ref_type\": \"branch\",\n",
    "    \"pipeline.github.ref_name\": \"development\",\n",
    "    \"pipeline.github.event_name\": \"schedule\",\n",
    "    \"task.notebook\": \"notebooks/ingest.py\",\n",
    "    \"task.max_nr_retries\": \"15\",\n",
    "    \"run.retry_nr\": \"10\",\n",
    "    \"task.timeout_s\": \"10\",\n",
    "    \"task.num_cpus\": 1,\n",
    "    \"_opentelemetry_traceparent\": \"00-dcc7a682a10aa94c0c3676ffb75c1a75-2966341f12504978-01\",\n",
    "}\n"
   ]
  },
  {
   "cell_type": "code",
   "execution_count": 4,
   "id": "88d5d755",
   "metadata": {
    "execution": {
     "iopub.execute_input": "2022-12-07T06:43:17.758612Z",
     "iopub.status.busy": "2022-12-07T06:43:17.758158Z",
     "iopub.status.idle": "2022-12-07T06:43:17.761682Z",
     "shell.execute_reply": "2022-12-07T06:43:17.760802Z"
    },
    "lines_to_next_cell": 0,
    "papermill": {
     "duration": 0.009105,
     "end_time": "2022-12-07T06:43:17.763244",
     "exception": false,
     "start_time": "2022-12-07T06:43:17.754139",
     "status": "completed"
    },
    "tags": []
   },
   "outputs": [],
   "source": [
    "# -----------------------------------------------------------------------"
   ]
  },
  {
   "cell_type": "markdown",
   "id": "3c411f44",
   "metadata": {
    "lines_to_next_cell": 2,
    "papermill": {
     "duration": 0.003272,
     "end_time": "2022-12-07T06:43:17.769532",
     "exception": false,
     "start_time": "2022-12-07T06:43:17.766260",
     "status": "completed"
    },
    "tags": []
   },
   "source": [
    "---"
   ]
  },
  {
   "cell_type": "markdown",
   "id": "7c3fdf62",
   "metadata": {
    "papermill": {
     "duration": 0.002944,
     "end_time": "2022-12-07T06:43:17.775333",
     "exception": false,
     "start_time": "2022-12-07T06:43:17.772389",
     "status": "completed"
    },
    "tags": []
   },
   "source": [
    "### Simulate different types of failures (for testing timeout and retry logic)"
   ]
  },
  {
   "cell_type": "code",
   "execution_count": 5,
   "id": "645db13a",
   "metadata": {
    "execution": {
     "iopub.execute_input": "2022-12-07T06:43:17.782799Z",
     "iopub.status.busy": "2022-12-07T06:43:17.782386Z",
     "iopub.status.idle": "2022-12-07T06:43:18.294426Z",
     "shell.execute_reply": "2022-12-07T06:43:18.293490Z"
    },
    "papermill": {
     "duration": 0.518962,
     "end_time": "2022-12-07T06:43:18.297233",
     "exception": false,
     "start_time": "2022-12-07T06:43:17.778271",
     "status": "completed"
    },
    "tags": []
   },
   "outputs": [
    {
     "name": "stderr",
     "output_type": "stream",
     "text": [
      "2022-12-07 06:43:18,128\tINFO worker.py:842 -- Connecting to existing Ray cluster at address: 172.17.0.2:6379\n"
     ]
    }
   ],
   "source": [
    "from pynb_dag_runner.tasks.task_opentelemetry_logging import PydarLogger\n",
    "\n",
    "logger = PydarLogger(P)"
   ]
  },
  {
   "cell_type": "code",
   "execution_count": 6,
   "id": "2bd1fb7e",
   "metadata": {
    "execution": {
     "iopub.execute_input": "2022-12-07T06:43:18.306554Z",
     "iopub.status.busy": "2022-12-07T06:43:18.305468Z",
     "iopub.status.idle": "2022-12-07T06:43:18.312309Z",
     "shell.execute_reply": "2022-12-07T06:43:18.311480Z"
    },
    "papermill": {
     "duration": 0.013093,
     "end_time": "2022-12-07T06:43:18.313934",
     "exception": false,
     "start_time": "2022-12-07T06:43:18.300841",
     "status": "completed"
    },
    "tags": []
   },
   "outputs": [],
   "source": [
    "import time, random\n",
    "\n",
    "\n",
    "def maybe_crash(retry_nr: int, run_environment: str):\n",
    "    if retry_nr == 2 and run_environment == \"ci\":\n",
    "        time.sleep(1e6)\n",
    "\n",
    "    max_retry_nr: int = 3 if run_environment == \"dev\" else 10\n",
    "\n",
    "    if retry_nr < max_retry_nr:\n",
    "        if random.random() < 0.1:\n",
    "            time.sleep(1e6)\n",
    "        else:\n",
    "            raise Exception(\"Simulated exception failure from ingestion step notebook!\")\n",
    "\n",
    "\n",
    "maybe_crash(\n",
    "    retry_nr=int(P[\"run.retry_nr\"]), run_environment=P[\"pipeline.run_environment\"]\n",
    ")"
   ]
  },
  {
   "cell_type": "markdown",
   "id": "8a6bcbcf",
   "metadata": {
    "lines_to_next_cell": 2,
    "papermill": {
     "duration": 0.003196,
     "end_time": "2022-12-07T06:43:18.320690",
     "exception": false,
     "start_time": "2022-12-07T06:43:18.317494",
     "status": "completed"
    },
    "tags": []
   },
   "source": [
    "### Notebook code"
   ]
  },
  {
   "cell_type": "code",
   "execution_count": 7,
   "id": "57d45874",
   "metadata": {
    "execution": {
     "iopub.execute_input": "2022-12-07T06:43:18.328878Z",
     "iopub.status.busy": "2022-12-07T06:43:18.328330Z",
     "iopub.status.idle": "2022-12-07T06:43:20.026409Z",
     "shell.execute_reply": "2022-12-07T06:43:20.025546Z"
    },
    "papermill": {
     "duration": 1.705076,
     "end_time": "2022-12-07T06:43:20.028815",
     "exception": false,
     "start_time": "2022-12-07T06:43:18.323739",
     "status": "completed"
    },
    "tags": []
   },
   "outputs": [],
   "source": [
    "from sklearn import datasets\n",
    "\n",
    "#\n",
    "from common.io import datalake_root, write_numpy"
   ]
  },
  {
   "cell_type": "code",
   "execution_count": 8,
   "id": "3f12bfd2",
   "metadata": {
    "execution": {
     "iopub.execute_input": "2022-12-07T06:43:20.039561Z",
     "iopub.status.busy": "2022-12-07T06:43:20.039253Z",
     "iopub.status.idle": "2022-12-07T06:43:20.059348Z",
     "shell.execute_reply": "2022-12-07T06:43:20.058534Z"
    },
    "lines_to_next_cell": 2,
    "papermill": {
     "duration": 0.026228,
     "end_time": "2022-12-07T06:43:20.061195",
     "exception": false,
     "start_time": "2022-12-07T06:43:20.034967",
     "status": "completed"
    },
    "tags": []
   },
   "outputs": [],
   "source": [
    "digits = datasets.load_digits()\n",
    "\n",
    "X = digits[\"data\"]\n",
    "y = digits[\"target\"]"
   ]
  },
  {
   "cell_type": "code",
   "execution_count": 9,
   "id": "bc794da2",
   "metadata": {
    "execution": {
     "iopub.execute_input": "2022-12-07T06:43:20.070334Z",
     "iopub.status.busy": "2022-12-07T06:43:20.070030Z",
     "iopub.status.idle": "2022-12-07T06:43:20.094366Z",
     "shell.execute_reply": "2022-12-07T06:43:20.088936Z"
    },
    "papermill": {
     "duration": 0.031538,
     "end_time": "2022-12-07T06:43:20.096308",
     "exception": false,
     "start_time": "2022-12-07T06:43:20.064770",
     "status": "completed"
    },
    "tags": []
   },
   "outputs": [
    {
     "name": "stdout",
     "output_type": "stream",
     "text": [
      " - Logging data_shape (json) : [1797, 64]\n",
      " - Logging target_shape (json) : [1797]\n"
     ]
    },
    {
     "data": {
      "text/plain": [
       "((1797, 64), (1797,))"
      ]
     },
     "execution_count": 9,
     "metadata": {},
     "output_type": "execute_result"
    }
   ],
   "source": [
    "logger.log_value(\"data_shape\", list(X.shape))\n",
    "logger.log_value(\"target_shape\", list(y.shape))\n",
    "\n",
    "X.shape, y.shape"
   ]
  },
  {
   "cell_type": "code",
   "execution_count": 10,
   "id": "3e57c017",
   "metadata": {
    "execution": {
     "iopub.execute_input": "2022-12-07T06:43:20.105556Z",
     "iopub.status.busy": "2022-12-07T06:43:20.105262Z",
     "iopub.status.idle": "2022-12-07T06:43:20.117451Z",
     "shell.execute_reply": "2022-12-07T06:43:20.116726Z"
    },
    "papermill": {
     "duration": 0.019163,
     "end_time": "2022-12-07T06:43:20.119547",
     "exception": false,
     "start_time": "2022-12-07T06:43:20.100384",
     "status": "completed"
    },
    "tags": []
   },
   "outputs": [],
   "source": [
    "write_numpy(datalake_root(P) / \"raw\" / \"digits.numpy\", X)\n",
    "write_numpy(datalake_root(P) / \"raw\" / \"labels.numpy\", y)"
   ]
  },
  {
   "cell_type": "code",
   "execution_count": null,
   "id": "de0495dd",
   "metadata": {
    "papermill": {
     "duration": 0.003822,
     "end_time": "2022-12-07T06:43:20.126453",
     "exception": false,
     "start_time": "2022-12-07T06:43:20.122631",
     "status": "completed"
    },
    "tags": []
   },
   "outputs": [],
   "source": []
  }
 ],
 "metadata": {
  "jupytext": {
   "cell_metadata_filter": "tags,-all",
   "main_language": "python",
   "notebook_metadata_filter": "-all"
  },
  "language_info": {
   "codemirror_mode": {
    "name": "ipython",
    "version": 3
   },
   "file_extension": ".py",
   "mimetype": "text/x-python",
   "name": "python",
   "nbconvert_exporter": "python",
   "pygments_lexer": "ipython3",
   "version": "3.8.10"
  },
  "papermill": {
   "default_parameters": {},
   "duration": 4.798294,
   "end_time": "2022-12-07T06:43:21.050786",
   "environment_variables": {},
   "exception": null,
   "input_path": "/home/host_user/workspace/mnist-demo-pipeline/mnist-demo-pipeline/notebooks/temp-notebook-1f845o0j.ipynb",
   "output_path": "notebooks/ingest.ipynb",
   "parameters": {
    "P": {
     "_opentelemetry_traceparent": "00-dcc7a682a10aa94c0c3676ffb75c1a75-2966341f12504978-01",
     "pipeline.data_lake_root": "/pipeline-outputs/data-lake",
     "pipeline.github.actor": "matiasdahl",
     "pipeline.github.base_ref": "",
     "pipeline.github.event_name": "schedule",
     "pipeline.github.head_ref": "",
     "pipeline.github.job": "run-tests-pipeline-and-persist-pipeline-outputs",
     "pipeline.github.ref": "refs/heads/development",
     "pipeline.github.ref_name": "development",
     "pipeline.github.ref_type": "branch",
     "pipeline.github.repository": "matiasdahl/dev-mnist-digits-demo-pipeline",
     "pipeline.github.run_id": "3636482485",
     "pipeline.github.runner_name": "Hosted Agent",
     "pipeline.github.sha": "ace0d01011d5e914f1921450dd5a59c11367b38d",
     "pipeline.github.workflow": "Run automated tests, pipeline and deploy results to static reporting site",
     "pipeline.pipeline_run_id": "f3ea439f-2629-4f35-9ba0-b342d5e46626",
     "pipeline.run_environment": "ci",
     "run.retry_nr": "10",
     "task.max_nr_retries": "15",
     "task.notebook": "notebooks/ingest.py",
     "task.num_cpus": 1,
     "task.timeout_s": "10"
    }
   },
   "start_time": "2022-12-07T06:43:16.252492",
   "version": "2.3.3"
  }
 },
 "nbformat": 4,
 "nbformat_minor": 5
}