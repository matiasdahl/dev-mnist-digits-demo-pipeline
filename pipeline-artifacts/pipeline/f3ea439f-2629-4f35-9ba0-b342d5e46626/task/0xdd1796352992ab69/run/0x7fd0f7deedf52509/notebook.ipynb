{
 "cells": [
  {
   "cell_type": "markdown",
   "id": "286732f9",
   "metadata": {
    "papermill": {
     "duration": 0.00447,
     "end_time": "2022-12-07T06:44:16.832622",
     "exception": false,
     "start_time": "2022-12-07T06:44:16.828152",
     "status": "completed"
    },
    "tags": []
   },
   "source": [
    "# Summarize model performances\n",
    "\n",
    "This notebooks plots the performances (using averaged ROC AUC scores) for models\n",
    "trained with different training sets."
   ]
  },
  {
   "cell_type": "markdown",
   "id": "51934d58",
   "metadata": {
    "papermill": {
     "duration": 0.002643,
     "end_time": "2022-12-07T06:44:16.838844",
     "exception": false,
     "start_time": "2022-12-07T06:44:16.836201",
     "status": "completed"
    },
    "tags": []
   },
   "source": [
    "### Determine run parameters"
   ]
  },
  {
   "cell_type": "code",
   "execution_count": 1,
   "id": "ff9e6909",
   "metadata": {
    "execution": {
     "iopub.execute_input": "2022-12-07T06:44:16.846355Z",
     "iopub.status.busy": "2022-12-07T06:44:16.845849Z",
     "iopub.status.idle": "2022-12-07T06:44:16.855059Z",
     "shell.execute_reply": "2022-12-07T06:44:16.854269Z"
    },
    "lines_to_next_cell": 0,
    "papermill": {
     "duration": 0.015588,
     "end_time": "2022-12-07T06:44:16.857416",
     "exception": false,
     "start_time": "2022-12-07T06:44:16.841828",
     "status": "completed"
    },
    "tags": []
   },
   "outputs": [],
   "source": [
    "# ----------------- Parameters for interactive development --------------\n",
    "P = {\n",
    "    \"pipeline.run_environment\": \"dev\",\n",
    "}"
   ]
  },
  {
   "cell_type": "code",
   "execution_count": 2,
   "id": "75881953",
   "metadata": {
    "execution": {
     "iopub.execute_input": "2022-12-07T06:44:16.864588Z",
     "iopub.status.busy": "2022-12-07T06:44:16.864328Z",
     "iopub.status.idle": "2022-12-07T06:44:16.867629Z",
     "shell.execute_reply": "2022-12-07T06:44:16.866895Z"
    },
    "lines_to_next_cell": 0,
    "papermill": {
     "duration": 0.008973,
     "end_time": "2022-12-07T06:44:16.869383",
     "exception": false,
     "start_time": "2022-12-07T06:44:16.860410",
     "status": "completed"
    },
    "tags": [
     "parameters"
    ]
   },
   "outputs": [],
   "source": [
    "# - During automated runs parameters will be injected in the below cell -"
   ]
  },
  {
   "cell_type": "code",
   "execution_count": 3,
   "id": "aa095cb0",
   "metadata": {
    "execution": {
     "iopub.execute_input": "2022-12-07T06:44:16.877360Z",
     "iopub.status.busy": "2022-12-07T06:44:16.877108Z",
     "iopub.status.idle": "2022-12-07T06:44:16.882953Z",
     "shell.execute_reply": "2022-12-07T06:44:16.882397Z"
    },
    "papermill": {
     "duration": 0.013107,
     "end_time": "2022-12-07T06:44:16.885540",
     "exception": false,
     "start_time": "2022-12-07T06:44:16.872433",
     "status": "completed"
    },
    "tags": [
     "injected-parameters"
    ]
   },
   "outputs": [],
   "source": [
    "# Parameters\n",
    "P = {\n",
    "    \"pipeline.data_lake_root\": \"/pipeline-outputs/data-lake\",\n",
    "    \"pipeline.run_environment\": \"ci\",\n",
    "    \"pipeline.pipeline_run_id\": \"f3ea439f-2629-4f35-9ba0-b342d5e46626\",\n",
    "    \"pipeline.github.repository\": \"matiasdahl/dev-mnist-digits-demo-pipeline\",\n",
    "    \"pipeline.github.workflow\": \"Run automated tests, pipeline and deploy results to static reporting site\",\n",
    "    \"pipeline.github.runner_name\": \"Hosted Agent\",\n",
    "    \"pipeline.github.run_id\": \"3636482485\",\n",
    "    \"pipeline.github.actor\": \"matiasdahl\",\n",
    "    \"pipeline.github.job\": \"run-tests-pipeline-and-persist-pipeline-outputs\",\n",
    "    \"pipeline.github.base_ref\": \"\",\n",
    "    \"pipeline.github.head_ref\": \"\",\n",
    "    \"pipeline.github.sha\": \"ace0d01011d5e914f1921450dd5a59c11367b38d\",\n",
    "    \"pipeline.github.ref\": \"refs/heads/development\",\n",
    "    \"pipeline.github.ref_type\": \"branch\",\n",
    "    \"pipeline.github.ref_name\": \"development\",\n",
    "    \"pipeline.github.event_name\": \"schedule\",\n",
    "    \"task.notebook\": \"notebooks/summary.py\",\n",
    "    \"task.max_nr_retries\": \"1\",\n",
    "    \"run.retry_nr\": \"0\",\n",
    "    \"task.timeout_s\": \"None\",\n",
    "    \"task.num_cpus\": 1,\n",
    "    \"_opentelemetry_traceparent\": \"00-dcc7a682a10aa94c0c3676ffb75c1a75-5cfd0551d45fd7ba-01\",\n",
    "}\n"
   ]
  },
  {
   "cell_type": "code",
   "execution_count": 4,
   "id": "ec43b80a",
   "metadata": {
    "execution": {
     "iopub.execute_input": "2022-12-07T06:44:16.897007Z",
     "iopub.status.busy": "2022-12-07T06:44:16.896277Z",
     "iopub.status.idle": "2022-12-07T06:44:16.902607Z",
     "shell.execute_reply": "2022-12-07T06:44:16.899376Z"
    },
    "lines_to_next_cell": 0,
    "papermill": {
     "duration": 0.015605,
     "end_time": "2022-12-07T06:44:16.904903",
     "exception": false,
     "start_time": "2022-12-07T06:44:16.889298",
     "status": "completed"
    },
    "tags": []
   },
   "outputs": [],
   "source": [
    "# -----------------------------------------------------------------------"
   ]
  },
  {
   "cell_type": "markdown",
   "id": "85eb7d06",
   "metadata": {
    "papermill": {
     "duration": 0.002805,
     "end_time": "2022-12-07T06:44:16.910688",
     "exception": false,
     "start_time": "2022-12-07T06:44:16.907883",
     "status": "completed"
    },
    "tags": []
   },
   "source": [
    "---"
   ]
  },
  {
   "cell_type": "markdown",
   "id": "b9f4be92",
   "metadata": {
    "lines_to_next_cell": 2,
    "papermill": {
     "duration": 0.003684,
     "end_time": "2022-12-07T06:44:16.917724",
     "exception": false,
     "start_time": "2022-12-07T06:44:16.914040",
     "status": "completed"
    },
    "tags": []
   },
   "source": [
    "### Notebook code"
   ]
  },
  {
   "cell_type": "code",
   "execution_count": 5,
   "id": "1e666ded",
   "metadata": {
    "execution": {
     "iopub.execute_input": "2022-12-07T06:44:16.926699Z",
     "iopub.status.busy": "2022-12-07T06:44:16.926236Z",
     "iopub.status.idle": "2022-12-07T06:44:18.197451Z",
     "shell.execute_reply": "2022-12-07T06:44:18.196654Z"
    },
    "papermill": {
     "duration": 1.278156,
     "end_time": "2022-12-07T06:44:18.199809",
     "exception": false,
     "start_time": "2022-12-07T06:44:16.921653",
     "status": "completed"
    },
    "tags": []
   },
   "outputs": [],
   "source": [
    "#\n",
    "import pandas as pd\n",
    "import matplotlib.pyplot as plt\n",
    "\n",
    "#\n",
    "from pynb_dag_runner.tasks.task_opentelemetry_logging import PydarLogger"
   ]
  },
  {
   "cell_type": "code",
   "execution_count": 6,
   "id": "5eaafc91",
   "metadata": {
    "execution": {
     "iopub.execute_input": "2022-12-07T06:44:18.207591Z",
     "iopub.status.busy": "2022-12-07T06:44:18.207102Z",
     "iopub.status.idle": "2022-12-07T06:44:18.366631Z",
     "shell.execute_reply": "2022-12-07T06:44:18.365205Z"
    },
    "papermill": {
     "duration": 0.167749,
     "end_time": "2022-12-07T06:44:18.370578",
     "exception": false,
     "start_time": "2022-12-07T06:44:18.202829",
     "status": "completed"
    },
    "tags": []
   },
   "outputs": [
    {
     "name": "stderr",
     "output_type": "stream",
     "text": [
      "2022-12-07 06:44:18,211\tINFO worker.py:842 -- Connecting to existing Ray cluster at address: 172.17.0.2:6379\n"
     ]
    }
   ],
   "source": [
    "logger = PydarLogger(P=P)"
   ]
  },
  {
   "cell_type": "code",
   "execution_count": 7,
   "id": "7487d2ad",
   "metadata": {
    "execution": {
     "iopub.execute_input": "2022-12-07T06:44:18.381573Z",
     "iopub.status.busy": "2022-12-07T06:44:18.381100Z",
     "iopub.status.idle": "2022-12-07T06:44:18.385390Z",
     "shell.execute_reply": "2022-12-07T06:44:18.384771Z"
    },
    "papermill": {
     "duration": 0.01185,
     "end_time": "2022-12-07T06:44:18.387386",
     "exception": false,
     "start_time": "2022-12-07T06:44:18.375536",
     "status": "completed"
    },
    "tags": []
   },
   "outputs": [],
   "source": [
    "from pynb_dag_runner.tasks.task_opentelemetry_logging import (\n",
    "    PydarLogger,\n",
    "    get_logged_values,\n",
    ")\n",
    "from pynb_dag_runner.opentelemetry_helpers import _get_all_spans, Spans"
   ]
  },
  {
   "cell_type": "code",
   "execution_count": 8,
   "id": "16b30550",
   "metadata": {
    "execution": {
     "iopub.execute_input": "2022-12-07T06:44:18.396457Z",
     "iopub.status.busy": "2022-12-07T06:44:18.395912Z",
     "iopub.status.idle": "2022-12-07T06:44:18.403858Z",
     "shell.execute_reply": "2022-12-07T06:44:18.403058Z"
    },
    "papermill": {
     "duration": 0.014275,
     "end_time": "2022-12-07T06:44:18.405498",
     "exception": false,
     "start_time": "2022-12-07T06:44:18.391223",
     "status": "completed"
    },
    "tags": []
   },
   "outputs": [],
   "source": [
    "def get_model_benchmarks():\n",
    "    \"\"\"\n",
    "    Query the OpenTelemetry logs for *this pipeline run* and return\n",
    "    all key-values logged from all runs of the benchmark-model.py task\n",
    "\n",
    "    For testing a json file with OpenTelemetry spans (as an array)\n",
    "    can be used as follows:\n",
    "\n",
    "    - Create output directory `mkdir /tmp/spans`\n",
    "    - Run unit tests. This will create pipeline-outputs/opentelemetry-spans.json\n",
    "    - Convert this json-array into jsonl format as follows\n",
    "\n",
    "    jq -c '.[]' /pipeline-outputs/opentelemetry-spans.json > /tmp/spans/data.txt\n",
    "\n",
    "    \"\"\"\n",
    "    spans: Spans = Spans(_get_all_spans())\n",
    "    print(f\"Found {len(spans)} spans\")\n",
    "\n",
    "    benchmark_spans = (\n",
    "        spans\n",
    "        # -\n",
    "        .filter([\"name\"], \"execute-task\")\n",
    "        # -\n",
    "        .filter([\"attributes\", \"task.notebook\"], \"notebooks/benchmark-model.py\")\n",
    "    )\n",
    "\n",
    "    result = []\n",
    "    for s in benchmark_spans:\n",
    "        result.append(\n",
    "            {\n",
    "                \"span_id\": s[\"context\"][\"span_id\"],\n",
    "                \"nr_train_images\": s[\"attributes\"][\"task.nr_train_images\"],\n",
    "                \"data\": get_logged_values(spans.bound_under(s)),\n",
    "            }\n",
    "        )\n",
    "\n",
    "    return result\n",
    "\n",
    "\n",
    "def adjust_pandas(df):\n",
    "    def column_renamer(col_name: str) -> str:\n",
    "        return (\n",
    "            col_name\n",
    "            # -- 'data.roc_auc_per_digit.4' -> 'roc_auc.4'\n",
    "            .replace(\"data.roc_auc_per_digit\", \"roc_auc\")\n",
    "            # -- 'data.roc_auc_class_mean' -> 'roc_auc_mean'\n",
    "            .replace(\"data.roc_auc_class_mean\", \"roc_auc_mean\")\n",
    "        )\n",
    "\n",
    "    return df.rename(column_renamer, axis=\"columns\").sort_values(by=\"nr_train_images\")"
   ]
  },
  {
   "cell_type": "code",
   "execution_count": 9,
   "id": "92016671",
   "metadata": {
    "execution": {
     "iopub.execute_input": "2022-12-07T06:44:18.414373Z",
     "iopub.status.busy": "2022-12-07T06:44:18.414008Z",
     "iopub.status.idle": "2022-12-07T06:44:18.459717Z",
     "shell.execute_reply": "2022-12-07T06:44:18.459116Z"
    },
    "papermill": {
     "duration": 0.052341,
     "end_time": "2022-12-07T06:44:18.461453",
     "exception": false,
     "start_time": "2022-12-07T06:44:18.409112",
     "status": "completed"
    },
    "tags": []
   },
   "outputs": [
    {
     "name": "stdout",
     "output_type": "stream",
     "text": [
      "Found 420 spans\n"
     ]
    }
   ],
   "source": [
    "df_data = adjust_pandas(pd.json_normalize(get_model_benchmarks()))"
   ]
  },
  {
   "cell_type": "code",
   "execution_count": 10,
   "id": "fb120a1a",
   "metadata": {
    "execution": {
     "iopub.execute_input": "2022-12-07T06:44:18.469928Z",
     "iopub.status.busy": "2022-12-07T06:44:18.469431Z",
     "iopub.status.idle": "2022-12-07T06:44:18.500581Z",
     "shell.execute_reply": "2022-12-07T06:44:18.499961Z"
    },
    "papermill": {
     "duration": 0.03806,
     "end_time": "2022-12-07T06:44:18.502893",
     "exception": false,
     "start_time": "2022-12-07T06:44:18.464833",
     "status": "completed"
    },
    "tags": []
   },
   "outputs": [
    {
     "data": {
      "text/html": [
       "<div>\n",
       "<style scoped>\n",
       "    .dataframe tbody tr th:only-of-type {\n",
       "        vertical-align: middle;\n",
       "    }\n",
       "\n",
       "    .dataframe tbody tr th {\n",
       "        vertical-align: top;\n",
       "    }\n",
       "\n",
       "    .dataframe thead th {\n",
       "        text-align: right;\n",
       "    }\n",
       "</style>\n",
       "<table border=\"1\" class=\"dataframe\">\n",
       "  <thead>\n",
       "    <tr style=\"text-align: right;\">\n",
       "      <th></th>\n",
       "      <th>span_id</th>\n",
       "      <th>nr_train_images</th>\n",
       "      <th>roc_auc_mean</th>\n",
       "      <th>roc_auc.0</th>\n",
       "      <th>roc_auc.1</th>\n",
       "      <th>roc_auc.2</th>\n",
       "      <th>roc_auc.3</th>\n",
       "      <th>roc_auc.4</th>\n",
       "      <th>roc_auc.5</th>\n",
       "      <th>roc_auc.6</th>\n",
       "      <th>roc_auc.7</th>\n",
       "      <th>roc_auc.8</th>\n",
       "      <th>roc_auc.9</th>\n",
       "    </tr>\n",
       "  </thead>\n",
       "  <tbody>\n",
       "    <tr>\n",
       "      <th>1</th>\n",
       "      <td>0x6704088ce9b7fd51</td>\n",
       "      <td>600</td>\n",
       "      <td>0.9990</td>\n",
       "      <td>1.0</td>\n",
       "      <td>0.9992</td>\n",
       "      <td>1.0</td>\n",
       "      <td>0.9998</td>\n",
       "      <td>0.9990</td>\n",
       "      <td>0.9990</td>\n",
       "      <td>0.9999</td>\n",
       "      <td>0.9998</td>\n",
       "      <td>0.9948</td>\n",
       "      <td>0.9988</td>\n",
       "    </tr>\n",
       "    <tr>\n",
       "      <th>2</th>\n",
       "      <td>0xd0d243abe30690a7</td>\n",
       "      <td>800</td>\n",
       "      <td>0.9990</td>\n",
       "      <td>1.0</td>\n",
       "      <td>0.9988</td>\n",
       "      <td>1.0</td>\n",
       "      <td>0.9998</td>\n",
       "      <td>0.9994</td>\n",
       "      <td>0.9990</td>\n",
       "      <td>0.9999</td>\n",
       "      <td>0.9998</td>\n",
       "      <td>0.9939</td>\n",
       "      <td>0.9994</td>\n",
       "    </tr>\n",
       "    <tr>\n",
       "      <th>0</th>\n",
       "      <td>0x1607073ef8ff9f8f</td>\n",
       "      <td>1000</td>\n",
       "      <td>0.9992</td>\n",
       "      <td>1.0</td>\n",
       "      <td>0.9989</td>\n",
       "      <td>1.0</td>\n",
       "      <td>0.9999</td>\n",
       "      <td>0.9996</td>\n",
       "      <td>0.9994</td>\n",
       "      <td>0.9999</td>\n",
       "      <td>0.9998</td>\n",
       "      <td>0.9950</td>\n",
       "      <td>0.9996</td>\n",
       "    </tr>\n",
       "    <tr>\n",
       "      <th>3</th>\n",
       "      <td>0xb4c3270fbfafc170</td>\n",
       "      <td>1200</td>\n",
       "      <td>0.9994</td>\n",
       "      <td>1.0</td>\n",
       "      <td>0.9991</td>\n",
       "      <td>1.0</td>\n",
       "      <td>0.9999</td>\n",
       "      <td>0.9997</td>\n",
       "      <td>0.9997</td>\n",
       "      <td>0.9999</td>\n",
       "      <td>0.9998</td>\n",
       "      <td>0.9958</td>\n",
       "      <td>0.9997</td>\n",
       "    </tr>\n",
       "  </tbody>\n",
       "</table>\n",
       "</div>"
      ],
      "text/plain": [
       "              span_id  nr_train_images  roc_auc_mean  roc_auc.0  roc_auc.1  \\\n",
       "1  0x6704088ce9b7fd51              600        0.9990        1.0     0.9992   \n",
       "2  0xd0d243abe30690a7              800        0.9990        1.0     0.9988   \n",
       "0  0x1607073ef8ff9f8f             1000        0.9992        1.0     0.9989   \n",
       "3  0xb4c3270fbfafc170             1200        0.9994        1.0     0.9991   \n",
       "\n",
       "   roc_auc.2  roc_auc.3  roc_auc.4  roc_auc.5  roc_auc.6  roc_auc.7  \\\n",
       "1        1.0     0.9998     0.9990     0.9990     0.9999     0.9998   \n",
       "2        1.0     0.9998     0.9994     0.9990     0.9999     0.9998   \n",
       "0        1.0     0.9999     0.9996     0.9994     0.9999     0.9998   \n",
       "3        1.0     0.9999     0.9997     0.9997     0.9999     0.9998   \n",
       "\n",
       "   roc_auc.8  roc_auc.9  \n",
       "1     0.9948     0.9988  \n",
       "2     0.9939     0.9994  \n",
       "0     0.9950     0.9996  \n",
       "3     0.9958     0.9997  "
      ]
     },
     "execution_count": 10,
     "metadata": {},
     "output_type": "execute_result"
    }
   ],
   "source": [
    "df_data.round(4)"
   ]
  },
  {
   "cell_type": "code",
   "execution_count": 11,
   "id": "cc06b9ca",
   "metadata": {
    "execution": {
     "iopub.execute_input": "2022-12-07T06:44:18.513497Z",
     "iopub.status.busy": "2022-12-07T06:44:18.512943Z",
     "iopub.status.idle": "2022-12-07T06:44:18.728981Z",
     "shell.execute_reply": "2022-12-07T06:44:18.728172Z"
    },
    "papermill": {
     "duration": 0.227155,
     "end_time": "2022-12-07T06:44:18.734426",
     "exception": false,
     "start_time": "2022-12-07T06:44:18.507271",
     "status": "completed"
    },
    "tags": []
   },
   "outputs": [
    {
     "data": {
      "image/png": "[encoded data removed]",
      "text/plain": [
       "<Figure size 1600x400 with 1 Axes>"
      ]
     },
     "metadata": {},
     "output_type": "display_data"
    }
   ],
   "source": [
    "def plot_classifier_performance_summary(df_data):\n",
    "    fig, ax = plt.subplots(nrows=1, ncols=1, figsize=(16, 4), sharex=True)\n",
    "\n",
    "    #\n",
    "    ax.plot(\n",
    "        df_data[\"nr_train_images\"], df_data[\"roc_auc_mean\"], marker=\"o\", linestyle=\"--\"\n",
    "    )\n",
    "    ax.set_title(\n",
    "        f\"ROC AUC digit classifier performance on evaluation digits\", fontsize=17\n",
    "    )\n",
    "    ax.set_xlabel(\"Total number of digits in training set\", fontsize=14)\n",
    "    ax.set_ylabel(\"Mean ROC AUC\", fontsize=14)\n",
    "\n",
    "    fig.tight_layout()\n",
    "    fig.show()\n",
    "\n",
    "    return fig\n",
    "\n",
    "\n",
    "fig = plot_classifier_performance_summary(df_data)"
   ]
  },
  {
   "cell_type": "code",
   "execution_count": 12,
   "id": "15a61fe1",
   "metadata": {
    "execution": {
     "iopub.execute_input": "2022-12-07T06:44:18.745497Z",
     "iopub.status.busy": "2022-12-07T06:44:18.745190Z",
     "iopub.status.idle": "2022-12-07T06:44:18.839941Z",
     "shell.execute_reply": "2022-12-07T06:44:18.839239Z"
    },
    "papermill": {
     "duration": 0.103059,
     "end_time": "2022-12-07T06:44:18.842059",
     "exception": false,
     "start_time": "2022-12-07T06:44:18.739000",
     "status": "completed"
    },
    "tags": []
   },
   "outputs": [],
   "source": [
    "logger.log_figure(\"auc-roc-model-performances.png\", fig)"
   ]
  },
  {
   "cell_type": "code",
   "execution_count": 13,
   "id": "df499fb3",
   "metadata": {
    "execution": {
     "iopub.execute_input": "2022-12-07T06:44:18.855269Z",
     "iopub.status.busy": "2022-12-07T06:44:18.854955Z",
     "iopub.status.idle": "2022-12-07T06:44:18.858720Z",
     "shell.execute_reply": "2022-12-07T06:44:18.857911Z"
    },
    "papermill": {
     "duration": 0.014224,
     "end_time": "2022-12-07T06:44:18.862242",
     "exception": false,
     "start_time": "2022-12-07T06:44:18.848018",
     "status": "completed"
    },
    "tags": []
   },
   "outputs": [],
   "source": [
    "###"
   ]
  },
  {
   "cell_type": "code",
   "execution_count": null,
   "id": "ee6bdeee",
   "metadata": {
    "papermill": {
     "duration": 0.006663,
     "end_time": "2022-12-07T06:44:18.874252",
     "exception": false,
     "start_time": "2022-12-07T06:44:18.867589",
     "status": "completed"
    },
    "tags": []
   },
   "outputs": [],
   "source": []
  }
 ],
 "metadata": {
  "jupytext": {
   "cell_metadata_filter": "tags,-all",
   "main_language": "python",
   "notebook_metadata_filter": "-all"
  },
  "language_info": {
   "codemirror_mode": {
    "name": "ipython",
    "version": 3
   },
   "file_extension": ".py",
   "mimetype": "text/x-python",
   "name": "python",
   "nbconvert_exporter": "python",
   "pygments_lexer": "ipython3",
   "version": "3.8.10"
  },
  "papermill": {
   "default_parameters": {},
   "duration": 4.386575,
   "end_time": "2022-12-07T06:44:19.901230",
   "environment_variables": {},
   "exception": null,
   "input_path": "/home/host_user/workspace/mnist-demo-pipeline/mnist-demo-pipeline/notebooks/temp-notebook-wyc49g0c.ipynb",
   "output_path": "notebooks/summary.ipynb",
   "parameters": {
    "P": {
     "_opentelemetry_traceparent": "00-dcc7a682a10aa94c0c3676ffb75c1a75-5cfd0551d45fd7ba-01",
     "pipeline.data_lake_root": "/pipeline-outputs/data-lake",
     "pipeline.github.actor": "matiasdahl",
     "pipeline.github.base_ref": "",
     "pipeline.github.event_name": "schedule",
     "pipeline.github.head_ref": "",
     "pipeline.github.job": "run-tests-pipeline-and-persist-pipeline-outputs",
     "pipeline.github.ref": "refs/heads/development",
     "pipeline.github.ref_name": "development",
     "pipeline.github.ref_type": "branch",
     "pipeline.github.repository": "matiasdahl/dev-mnist-digits-demo-pipeline",
     "pipeline.github.run_id": "3636482485",
     "pipeline.github.runner_name": "Hosted Agent",
     "pipeline.github.sha": "ace0d01011d5e914f1921450dd5a59c11367b38d",
     "pipeline.github.workflow": "Run automated tests, pipeline and deploy results to static reporting site",
     "pipeline.pipeline_run_id": "f3ea439f-2629-4f35-9ba0-b342d5e46626",
     "pipeline.run_environment": "ci",
     "run.retry_nr": "0",
     "task.max_nr_retries": "1",
     "task.notebook": "notebooks/summary.py",
     "task.num_cpus": 1,
     "task.timeout_s": "None"
    }
   },
   "start_time": "2022-12-07T06:44:15.514655",
   "version": "2.3.3"
  }
 },
 "nbformat": 4,
 "nbformat_minor": 5
}