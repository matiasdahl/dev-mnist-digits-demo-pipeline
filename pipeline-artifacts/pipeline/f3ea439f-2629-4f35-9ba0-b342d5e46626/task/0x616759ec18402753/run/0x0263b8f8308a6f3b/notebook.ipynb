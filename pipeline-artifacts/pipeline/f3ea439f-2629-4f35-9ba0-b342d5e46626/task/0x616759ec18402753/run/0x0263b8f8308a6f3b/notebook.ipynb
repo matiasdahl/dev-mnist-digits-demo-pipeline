{
 "cells": [
  {
   "cell_type": "markdown",
   "id": "666c2126",
   "metadata": {
    "papermill": {
     "duration": 0.005517,
     "end_time": "2022-12-07T06:43:24.388329",
     "exception": false,
     "start_time": "2022-12-07T06:43:24.382812",
     "status": "completed"
    },
    "tags": []
   },
   "source": [
    "# Split digits and labels into separate training and testing data sets"
   ]
  },
  {
   "cell_type": "markdown",
   "id": "e9ab760b",
   "metadata": {
    "papermill": {
     "duration": 0.003712,
     "end_time": "2022-12-07T06:43:24.395168",
     "exception": false,
     "start_time": "2022-12-07T06:43:24.391456",
     "status": "completed"
    },
    "tags": []
   },
   "source": [
    "### Determine run parameters"
   ]
  },
  {
   "cell_type": "code",
   "execution_count": 1,
   "id": "1d95c6d4",
   "metadata": {
    "execution": {
     "iopub.execute_input": "2022-12-07T06:43:24.402849Z",
     "iopub.status.busy": "2022-12-07T06:43:24.402502Z",
     "iopub.status.idle": "2022-12-07T06:43:24.417607Z",
     "shell.execute_reply": "2022-12-07T06:43:24.416960Z"
    },
    "lines_to_next_cell": 0,
    "papermill": {
     "duration": 0.022897,
     "end_time": "2022-12-07T06:43:24.421366",
     "exception": false,
     "start_time": "2022-12-07T06:43:24.398469",
     "status": "completed"
    },
    "tags": []
   },
   "outputs": [],
   "source": [
    "# ----------------- Parameters for interactive development --------------\n",
    "P = {\n",
    "    \"pipeline.data_lake_root\": \"/pipeline-outputs/data-lake\",\n",
    "    \"task.train_test_ratio\": 0.7,\n",
    "}"
   ]
  },
  {
   "cell_type": "code",
   "execution_count": 2,
   "id": "6644f203",
   "metadata": {
    "execution": {
     "iopub.execute_input": "2022-12-07T06:43:24.436557Z",
     "iopub.status.busy": "2022-12-07T06:43:24.436280Z",
     "iopub.status.idle": "2022-12-07T06:43:24.440462Z",
     "shell.execute_reply": "2022-12-07T06:43:24.439767Z"
    },
    "lines_to_next_cell": 0,
    "papermill": {
     "duration": 0.011403,
     "end_time": "2022-12-07T06:43:24.443778",
     "exception": false,
     "start_time": "2022-12-07T06:43:24.432375",
     "status": "completed"
    },
    "tags": [
     "parameters"
    ]
   },
   "outputs": [],
   "source": [
    "# - During automated runs parameters will be injected in the below cell -"
   ]
  },
  {
   "cell_type": "code",
   "execution_count": 3,
   "id": "7c19603b",
   "metadata": {
    "execution": {
     "iopub.execute_input": "2022-12-07T06:43:24.451674Z",
     "iopub.status.busy": "2022-12-07T06:43:24.450712Z",
     "iopub.status.idle": "2022-12-07T06:43:24.456413Z",
     "shell.execute_reply": "2022-12-07T06:43:24.455844Z"
    },
    "papermill": {
     "duration": 0.013242,
     "end_time": "2022-12-07T06:43:24.459691",
     "exception": false,
     "start_time": "2022-12-07T06:43:24.446449",
     "status": "completed"
    },
    "tags": [
     "injected-parameters"
    ]
   },
   "outputs": [],
   "source": [
    "# Parameters\n",
    "P = {\n",
    "    \"pipeline.data_lake_root\": \"/pipeline-outputs/data-lake\",\n",
    "    \"pipeline.run_environment\": \"ci\",\n",
    "    \"pipeline.pipeline_run_id\": \"f3ea439f-2629-4f35-9ba0-b342d5e46626\",\n",
    "    \"pipeline.github.repository\": \"matiasdahl/dev-mnist-digits-demo-pipeline\",\n",
    "    \"pipeline.github.workflow\": \"Run automated tests, pipeline and deploy results to static reporting site\",\n",
    "    \"pipeline.github.runner_name\": \"Hosted Agent\",\n",
    "    \"pipeline.github.run_id\": \"3636482485\",\n",
    "    \"pipeline.github.actor\": \"matiasdahl\",\n",
    "    \"pipeline.github.job\": \"run-tests-pipeline-and-persist-pipeline-outputs\",\n",
    "    \"pipeline.github.base_ref\": \"\",\n",
    "    \"pipeline.github.head_ref\": \"\",\n",
    "    \"pipeline.github.sha\": \"ace0d01011d5e914f1921450dd5a59c11367b38d\",\n",
    "    \"pipeline.github.ref\": \"refs/heads/development\",\n",
    "    \"pipeline.github.ref_type\": \"branch\",\n",
    "    \"pipeline.github.ref_name\": \"development\",\n",
    "    \"pipeline.github.event_name\": \"schedule\",\n",
    "    \"task.train_test_ratio\": 0.7,\n",
    "    \"task.notebook\": \"notebooks/split-train-test.py\",\n",
    "    \"task.max_nr_retries\": \"1\",\n",
    "    \"run.retry_nr\": \"0\",\n",
    "    \"task.timeout_s\": \"None\",\n",
    "    \"task.num_cpus\": 1,\n",
    "    \"_opentelemetry_traceparent\": \"00-dcc7a682a10aa94c0c3676ffb75c1a75-ce2f1feae251b3a8-01\",\n",
    "}\n"
   ]
  },
  {
   "cell_type": "code",
   "execution_count": 4,
   "id": "bd373366",
   "metadata": {
    "execution": {
     "iopub.execute_input": "2022-12-07T06:43:24.466272Z",
     "iopub.status.busy": "2022-12-07T06:43:24.466034Z",
     "iopub.status.idle": "2022-12-07T06:43:24.469732Z",
     "shell.execute_reply": "2022-12-07T06:43:24.468573Z"
    },
    "lines_to_next_cell": 0,
    "papermill": {
     "duration": 0.010152,
     "end_time": "2022-12-07T06:43:24.472600",
     "exception": false,
     "start_time": "2022-12-07T06:43:24.462448",
     "status": "completed"
    },
    "tags": []
   },
   "outputs": [],
   "source": [
    "# -----------------------------------------------------------------------"
   ]
  },
  {
   "cell_type": "markdown",
   "id": "15fd348f",
   "metadata": {
    "papermill": {
     "duration": 0.002569,
     "end_time": "2022-12-07T06:43:24.477833",
     "exception": false,
     "start_time": "2022-12-07T06:43:24.475264",
     "status": "completed"
    },
    "tags": []
   },
   "source": [
    "---"
   ]
  },
  {
   "cell_type": "markdown",
   "id": "46ae7e6a",
   "metadata": {
    "lines_to_next_cell": 2,
    "papermill": {
     "duration": 0.003071,
     "end_time": "2022-12-07T06:43:24.484360",
     "exception": false,
     "start_time": "2022-12-07T06:43:24.481289",
     "status": "completed"
    },
    "tags": []
   },
   "source": [
    "### Notebook code"
   ]
  },
  {
   "cell_type": "code",
   "execution_count": 5,
   "id": "f2d2a897",
   "metadata": {
    "execution": {
     "iopub.execute_input": "2022-12-07T06:43:24.492153Z",
     "iopub.status.busy": "2022-12-07T06:43:24.491890Z",
     "iopub.status.idle": "2022-12-07T06:43:25.126137Z",
     "shell.execute_reply": "2022-12-07T06:43:25.125430Z"
    },
    "papermill": {
     "duration": 0.641096,
     "end_time": "2022-12-07T06:43:25.128563",
     "exception": false,
     "start_time": "2022-12-07T06:43:24.487467",
     "status": "completed"
    },
    "tags": []
   },
   "outputs": [
    {
     "name": "stderr",
     "output_type": "stream",
     "text": [
      "2022-12-07 06:43:24,934\tINFO worker.py:842 -- Connecting to existing Ray cluster at address: 172.17.0.2:6379\n"
     ]
    }
   ],
   "source": [
    "from common.io import datalake_root, read_numpy, write_numpy\n",
    "from pynb_dag_runner.tasks.task_opentelemetry_logging import PydarLogger\n",
    "\n",
    "logger = PydarLogger(P)"
   ]
  },
  {
   "cell_type": "markdown",
   "id": "7a08bd82",
   "metadata": {
    "papermill": {
     "duration": 0.003451,
     "end_time": "2022-12-07T06:43:25.136016",
     "exception": false,
     "start_time": "2022-12-07T06:43:25.132565",
     "status": "completed"
    },
    "tags": []
   },
   "source": [
    "## Load and split digits data"
   ]
  },
  {
   "cell_type": "code",
   "execution_count": 6,
   "id": "8800519e",
   "metadata": {
    "execution": {
     "iopub.execute_input": "2022-12-07T06:43:25.144029Z",
     "iopub.status.busy": "2022-12-07T06:43:25.143689Z",
     "iopub.status.idle": "2022-12-07T06:43:25.154912Z",
     "shell.execute_reply": "2022-12-07T06:43:25.154310Z"
    },
    "papermill": {
     "duration": 0.018916,
     "end_time": "2022-12-07T06:43:25.157963",
     "exception": false,
     "start_time": "2022-12-07T06:43:25.139047",
     "status": "completed"
    },
    "tags": []
   },
   "outputs": [],
   "source": [
    "X = read_numpy(datalake_root(P) / \"raw\" / \"digits.numpy\")\n",
    "y = read_numpy(datalake_root(P) / \"raw\" / \"labels.numpy\")"
   ]
  },
  {
   "cell_type": "code",
   "execution_count": 7,
   "id": "ae5f3ca7",
   "metadata": {
    "execution": {
     "iopub.execute_input": "2022-12-07T06:43:25.167851Z",
     "iopub.status.busy": "2022-12-07T06:43:25.167594Z",
     "iopub.status.idle": "2022-12-07T06:43:25.741380Z",
     "shell.execute_reply": "2022-12-07T06:43:25.740685Z"
    },
    "papermill": {
     "duration": 0.580665,
     "end_time": "2022-12-07T06:43:25.743602",
     "exception": false,
     "start_time": "2022-12-07T06:43:25.162937",
     "status": "completed"
    },
    "tags": []
   },
   "outputs": [],
   "source": [
    "from sklearn.model_selection import train_test_split\n",
    "\n",
    "X_train, X_test, y_train, y_test = train_test_split(\n",
    "    X,\n",
    "    y,\n",
    "    train_size=P[\"task.train_test_ratio\"],\n",
    "    test_size=None,\n",
    "    stratify=y,\n",
    "    shuffle=True,\n",
    "    random_state=1,\n",
    ")\n",
    "\n",
    "# assert nr of pixels per image is the same for all image vectors\n",
    "assert X.shape[1] == X_train.shape[1] == X_test.shape[1]\n",
    "\n",
    "# assert that the (X, y)-pairs have compatible sizes (for both train and test)\n",
    "assert X_train.shape[0] == len(y_train)\n",
    "assert X_test.shape[0] == len(y_test)\n",
    "\n",
    "# assert that all data is used\n",
    "assert len(y) == len(y_train) + len(y_test)"
   ]
  },
  {
   "cell_type": "code",
   "execution_count": 8,
   "id": "9efb2d29",
   "metadata": {
    "execution": {
     "iopub.execute_input": "2022-12-07T06:43:25.751783Z",
     "iopub.status.busy": "2022-12-07T06:43:25.751271Z",
     "iopub.status.idle": "2022-12-07T06:43:25.760084Z",
     "shell.execute_reply": "2022-12-07T06:43:25.759478Z"
    },
    "papermill": {
     "duration": 0.015015,
     "end_time": "2022-12-07T06:43:25.761905",
     "exception": false,
     "start_time": "2022-12-07T06:43:25.746890",
     "status": "completed"
    },
    "tags": []
   },
   "outputs": [
    {
     "name": "stdout",
     "output_type": "stream",
     "text": [
      " - Logging nr_digits_train (int) : 1257\n",
      " - Logging nr_digits_test (int) : 540\n"
     ]
    }
   ],
   "source": [
    "logger.log_int(\"nr_digits_train\", len(y_train))\n",
    "logger.log_int(\"nr_digits_test\", len(y_test))"
   ]
  },
  {
   "cell_type": "markdown",
   "id": "3bd501e4",
   "metadata": {
    "papermill": {
     "duration": 0.002985,
     "end_time": "2022-12-07T06:43:25.767891",
     "exception": false,
     "start_time": "2022-12-07T06:43:25.764906",
     "status": "completed"
    },
    "tags": []
   },
   "source": [
    "### Persist training and test data sets to separate files"
   ]
  },
  {
   "cell_type": "code",
   "execution_count": 9,
   "id": "72a5de33",
   "metadata": {
    "execution": {
     "iopub.execute_input": "2022-12-07T06:43:25.776260Z",
     "iopub.status.busy": "2022-12-07T06:43:25.775246Z",
     "iopub.status.idle": "2022-12-07T06:43:25.782410Z",
     "shell.execute_reply": "2022-12-07T06:43:25.781783Z"
    },
    "papermill": {
     "duration": 0.01416,
     "end_time": "2022-12-07T06:43:25.785385",
     "exception": false,
     "start_time": "2022-12-07T06:43:25.771225",
     "status": "completed"
    },
    "tags": []
   },
   "outputs": [],
   "source": [
    "write_numpy(datalake_root(P) / \"train-data\" / \"digits.numpy\", X_train)\n",
    "write_numpy(datalake_root(P) / \"train-data\" / \"labels.numpy\", y_train)\n",
    "\n",
    "#\n",
    "write_numpy(datalake_root(P) / \"test-data\" / \"digits.numpy\", X_test)\n",
    "write_numpy(datalake_root(P) / \"test-data\" / \"labels.numpy\", y_test)"
   ]
  },
  {
   "cell_type": "code",
   "execution_count": null,
   "id": "ee7789d7",
   "metadata": {
    "papermill": {
     "duration": 0.00291,
     "end_time": "2022-12-07T06:43:25.791841",
     "exception": false,
     "start_time": "2022-12-07T06:43:25.788931",
     "status": "completed"
    },
    "tags": []
   },
   "outputs": [],
   "source": []
  }
 ],
 "metadata": {
  "jupytext": {
   "cell_metadata_filter": "tags,-all",
   "main_language": "python",
   "notebook_metadata_filter": "-all"
  },
  "language_info": {
   "codemirror_mode": {
    "name": "ipython",
    "version": 3
   },
   "file_extension": ".py",
   "mimetype": "text/x-python",
   "name": "python",
   "nbconvert_exporter": "python",
   "pygments_lexer": "ipython3",
   "version": "3.8.10"
  },
  "papermill": {
   "default_parameters": {},
   "duration": 4.162822,
   "end_time": "2022-12-07T06:43:26.821582",
   "environment_variables": {},
   "exception": null,
   "input_path": "/home/host_user/workspace/mnist-demo-pipeline/mnist-demo-pipeline/notebooks/temp-notebook-51vhtw0f.ipynb",
   "output_path": "notebooks/split-train-test.ipynb",
   "parameters": {
    "P": {
     "_opentelemetry_traceparent": "00-dcc7a682a10aa94c0c3676ffb75c1a75-ce2f1feae251b3a8-01",
     "pipeline.data_lake_root": "/pipeline-outputs/data-lake",
     "pipeline.github.actor": "matiasdahl",
     "pipeline.github.base_ref": "",
     "pipeline.github.event_name": "schedule",
     "pipeline.github.head_ref": "",
     "pipeline.github.job": "run-tests-pipeline-and-persist-pipeline-outputs",
     "pipeline.github.ref": "refs/heads/development",
     "pipeline.github.ref_name": "development",
     "pipeline.github.ref_type": "branch",
     "pipeline.github.repository": "matiasdahl/dev-mnist-digits-demo-pipeline",
     "pipeline.github.run_id": "3636482485",
     "pipeline.github.runner_name": "Hosted Agent",
     "pipeline.github.sha": "ace0d01011d5e914f1921450dd5a59c11367b38d",
     "pipeline.github.workflow": "Run automated tests, pipeline and deploy results to static reporting site",
     "pipeline.pipeline_run_id": "f3ea439f-2629-4f35-9ba0-b342d5e46626",
     "pipeline.run_environment": "ci",
     "run.retry_nr": "0",
     "task.max_nr_retries": "1",
     "task.notebook": "notebooks/split-train-test.py",
     "task.num_cpus": 1,
     "task.timeout_s": "None",
     "task.train_test_ratio": 0.7
    }
   },
   "start_time": "2022-12-07T06:43:22.658760",
   "version": "2.3.3"
  }
 },
 "nbformat": 4,
 "nbformat_minor": 5
}