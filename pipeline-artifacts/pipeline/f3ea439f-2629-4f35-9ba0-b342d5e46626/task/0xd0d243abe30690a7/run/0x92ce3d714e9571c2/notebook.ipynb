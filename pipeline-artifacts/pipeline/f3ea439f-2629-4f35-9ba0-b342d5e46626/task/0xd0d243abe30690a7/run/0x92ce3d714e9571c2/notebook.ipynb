{
 "cells": [
  {
   "cell_type": "markdown",
   "id": "30ba3745",
   "metadata": {
    "papermill": {
     "duration": 0.006559,
     "end_time": "2022-12-07T06:43:58.577438",
     "exception": false,
     "start_time": "2022-12-07T06:43:58.570879",
     "status": "completed"
    },
    "tags": []
   },
   "source": [
    "# Benchmark model\n",
    "\n",
    "The purpose of this notebook is to benchmark persisted onnx-model (trained in the\n",
    "previous step) against evaluation set."
   ]
  },
  {
   "cell_type": "markdown",
   "id": "950f25d1",
   "metadata": {
    "papermill": {
     "duration": 0.005757,
     "end_time": "2022-12-07T06:43:58.588406",
     "exception": false,
     "start_time": "2022-12-07T06:43:58.582649",
     "status": "completed"
    },
    "tags": []
   },
   "source": [
    "### Determine run parameters"
   ]
  },
  {
   "cell_type": "code",
   "execution_count": 1,
   "id": "eca82020",
   "metadata": {
    "execution": {
     "iopub.execute_input": "2022-12-07T06:43:58.601094Z",
     "iopub.status.busy": "2022-12-07T06:43:58.600135Z",
     "iopub.status.idle": "2022-12-07T06:43:58.611971Z",
     "shell.execute_reply": "2022-12-07T06:43:58.611327Z"
    },
    "lines_to_next_cell": 0,
    "papermill": {
     "duration": 0.027164,
     "end_time": "2022-12-07T06:43:58.620327",
     "exception": false,
     "start_time": "2022-12-07T06:43:58.593163",
     "status": "completed"
    },
    "tags": []
   },
   "outputs": [],
   "source": [
    "# ----------------- Parameters for interactive development --------------\n",
    "P = {\n",
    "    \"pipeline.data_lake_root\": \"/pipeline-outputs/data-lake\",\n",
    "    \"task.nr_train_images\": 600,\n",
    "}"
   ]
  },
  {
   "cell_type": "code",
   "execution_count": 2,
   "id": "7a077a7d",
   "metadata": {
    "execution": {
     "iopub.execute_input": "2022-12-07T06:43:58.630614Z",
     "iopub.status.busy": "2022-12-07T06:43:58.630243Z",
     "iopub.status.idle": "2022-12-07T06:43:58.633820Z",
     "shell.execute_reply": "2022-12-07T06:43:58.633239Z"
    },
    "lines_to_next_cell": 0,
    "papermill": {
     "duration": 0.012749,
     "end_time": "2022-12-07T06:43:58.637750",
     "exception": false,
     "start_time": "2022-12-07T06:43:58.625001",
     "status": "completed"
    },
    "tags": [
     "parameters"
    ]
   },
   "outputs": [],
   "source": [
    "# - During automated runs parameters will be injected in the below cell -"
   ]
  },
  {
   "cell_type": "code",
   "execution_count": 3,
   "id": "60da0f75",
   "metadata": {
    "execution": {
     "iopub.execute_input": "2022-12-07T06:43:58.650048Z",
     "iopub.status.busy": "2022-12-07T06:43:58.649781Z",
     "iopub.status.idle": "2022-12-07T06:43:58.658247Z",
     "shell.execute_reply": "2022-12-07T06:43:58.654893Z"
    },
    "papermill": {
     "duration": 0.019445,
     "end_time": "2022-12-07T06:43:58.662092",
     "exception": false,
     "start_time": "2022-12-07T06:43:58.642647",
     "status": "completed"
    },
    "tags": [
     "injected-parameters"
    ]
   },
   "outputs": [],
   "source": [
    "# Parameters\n",
    "P = {\n",
    "    \"pipeline.data_lake_root\": \"/pipeline-outputs/data-lake\",\n",
    "    \"pipeline.run_environment\": \"ci\",\n",
    "    \"pipeline.pipeline_run_id\": \"f3ea439f-2629-4f35-9ba0-b342d5e46626\",\n",
    "    \"pipeline.github.repository\": \"matiasdahl/dev-mnist-digits-demo-pipeline\",\n",
    "    \"pipeline.github.workflow\": \"Run automated tests, pipeline and deploy results to static reporting site\",\n",
    "    \"pipeline.github.runner_name\": \"Hosted Agent\",\n",
    "    \"pipeline.github.run_id\": \"3636482485\",\n",
    "    \"pipeline.github.actor\": \"matiasdahl\",\n",
    "    \"pipeline.github.job\": \"run-tests-pipeline-and-persist-pipeline-outputs\",\n",
    "    \"pipeline.github.base_ref\": \"\",\n",
    "    \"pipeline.github.head_ref\": \"\",\n",
    "    \"pipeline.github.sha\": \"ace0d01011d5e914f1921450dd5a59c11367b38d\",\n",
    "    \"pipeline.github.ref\": \"refs/heads/development\",\n",
    "    \"pipeline.github.ref_type\": \"branch\",\n",
    "    \"pipeline.github.ref_name\": \"development\",\n",
    "    \"pipeline.github.event_name\": \"schedule\",\n",
    "    \"task.nr_train_images\": 800,\n",
    "    \"task.notebook\": \"notebooks/benchmark-model.py\",\n",
    "    \"task.max_nr_retries\": \"1\",\n",
    "    \"run.retry_nr\": \"0\",\n",
    "    \"task.timeout_s\": \"None\",\n",
    "    \"task.num_cpus\": 1,\n",
    "    \"_opentelemetry_traceparent\": \"00-dcc7a682a10aa94c0c3676ffb75c1a75-6f767b1a00f1bd9a-01\",\n",
    "}\n"
   ]
  },
  {
   "cell_type": "code",
   "execution_count": 4,
   "id": "00177001",
   "metadata": {
    "execution": {
     "iopub.execute_input": "2022-12-07T06:43:58.680128Z",
     "iopub.status.busy": "2022-12-07T06:43:58.679840Z",
     "iopub.status.idle": "2022-12-07T06:43:58.683045Z",
     "shell.execute_reply": "2022-12-07T06:43:58.682420Z"
    },
    "lines_to_next_cell": 0,
    "papermill": {
     "duration": 0.014952,
     "end_time": "2022-12-07T06:43:58.687001",
     "exception": false,
     "start_time": "2022-12-07T06:43:58.672049",
     "status": "completed"
    },
    "tags": []
   },
   "outputs": [],
   "source": [
    "# -----------------------------------------------------------------------"
   ]
  },
  {
   "cell_type": "markdown",
   "id": "32bbb35d",
   "metadata": {
    "papermill": {
     "duration": 0.006296,
     "end_time": "2022-12-07T06:43:58.699050",
     "exception": false,
     "start_time": "2022-12-07T06:43:58.692754",
     "status": "completed"
    },
    "tags": []
   },
   "source": [
    "---"
   ]
  },
  {
   "cell_type": "markdown",
   "id": "10491db3",
   "metadata": {
    "lines_to_next_cell": 2,
    "papermill": {
     "duration": 0.006105,
     "end_time": "2022-12-07T06:43:58.710659",
     "exception": false,
     "start_time": "2022-12-07T06:43:58.704554",
     "status": "completed"
    },
    "tags": []
   },
   "source": [
    "### Notebook code"
   ]
  },
  {
   "cell_type": "code",
   "execution_count": 5,
   "id": "d972dcda",
   "metadata": {
    "execution": {
     "iopub.execute_input": "2022-12-07T06:43:58.722598Z",
     "iopub.status.busy": "2022-12-07T06:43:58.722300Z",
     "iopub.status.idle": "2022-12-07T06:44:00.104385Z",
     "shell.execute_reply": "2022-12-07T06:44:00.103473Z"
    },
    "papermill": {
     "duration": 1.391369,
     "end_time": "2022-12-07T06:44:00.106575",
     "exception": false,
     "start_time": "2022-12-07T06:43:58.715206",
     "status": "completed"
    },
    "tags": []
   },
   "outputs": [
    {
     "name": "stderr",
     "output_type": "stream",
     "text": [
      "2022-12-07 06:43:59,913\tINFO worker.py:842 -- Connecting to existing Ray cluster at address: 172.17.0.2:6379\n"
     ]
    }
   ],
   "source": [
    "import itertools as it\n",
    "\n",
    "#\n",
    "import numpy as np\n",
    "import matplotlib.pyplot as plt\n",
    "\n",
    "#\n",
    "from pynb_dag_runner.tasks.task_opentelemetry_logging import PydarLogger\n",
    "\n",
    "#\n",
    "from common.io import datalake_root\n",
    "\n",
    "logger = PydarLogger(P)"
   ]
  },
  {
   "cell_type": "markdown",
   "id": "2da69b17",
   "metadata": {
    "papermill": {
     "duration": 0.005319,
     "end_time": "2022-12-07T06:44:00.118038",
     "exception": false,
     "start_time": "2022-12-07T06:44:00.112719",
     "status": "completed"
    },
    "tags": []
   },
   "source": [
    "## Load persisted onnx-model and evaluation data"
   ]
  },
  {
   "cell_type": "code",
   "execution_count": 6,
   "id": "d697d8f6",
   "metadata": {
    "execution": {
     "iopub.execute_input": "2022-12-07T06:44:00.130975Z",
     "iopub.status.busy": "2022-12-07T06:44:00.130556Z",
     "iopub.status.idle": "2022-12-07T06:44:00.134793Z",
     "shell.execute_reply": "2022-12-07T06:44:00.133987Z"
    },
    "papermill": {
     "duration": 0.013629,
     "end_time": "2022-12-07T06:44:00.137418",
     "exception": false,
     "start_time": "2022-12-07T06:44:00.123789",
     "status": "completed"
    },
    "tags": []
   },
   "outputs": [],
   "source": [
    "from common.io import read_onnx, get_onnx_inputs, get_onnx_outputs, read_numpy"
   ]
  },
  {
   "cell_type": "code",
   "execution_count": 7,
   "id": "005bf620",
   "metadata": {
    "execution": {
     "iopub.execute_input": "2022-12-07T06:44:00.150413Z",
     "iopub.status.busy": "2022-12-07T06:44:00.150025Z",
     "iopub.status.idle": "2022-12-07T06:44:00.162045Z",
     "shell.execute_reply": "2022-12-07T06:44:00.161230Z"
    },
    "lines_to_next_cell": 0,
    "papermill": {
     "duration": 0.020979,
     "end_time": "2022-12-07T06:44:00.163813",
     "exception": false,
     "start_time": "2022-12-07T06:44:00.142834",
     "status": "completed"
    },
    "tags": []
   },
   "outputs": [],
   "source": [
    "onnx_inference_session = read_onnx(\n",
    "    datalake_root(P)\n",
    "    / \"models\"\n",
    "    / f\"nr_train_images={P['task.nr_train_images']}\"\n",
    "    / \"model.onnx\"\n",
    ")"
   ]
  },
  {
   "cell_type": "markdown",
   "id": "27c25a74",
   "metadata": {
    "papermill": {
     "duration": 0.004916,
     "end_time": "2022-12-07T06:44:00.174320",
     "exception": false,
     "start_time": "2022-12-07T06:44:00.169404",
     "status": "completed"
    },
    "tags": []
   },
   "source": [
    "### Record structure of inputs and outputs for ONNX model\n",
    "\n",
    "(this should likely be done in training notebook)"
   ]
  },
  {
   "cell_type": "code",
   "execution_count": 8,
   "id": "4a1cac33",
   "metadata": {
    "execution": {
     "iopub.execute_input": "2022-12-07T06:44:00.186871Z",
     "iopub.status.busy": "2022-12-07T06:44:00.186404Z",
     "iopub.status.idle": "2022-12-07T06:44:00.194300Z",
     "shell.execute_reply": "2022-12-07T06:44:00.193504Z"
    },
    "papermill": {
     "duration": 0.016677,
     "end_time": "2022-12-07T06:44:00.197111",
     "exception": false,
     "start_time": "2022-12-07T06:44:00.180434",
     "status": "completed"
    },
    "tags": []
   },
   "outputs": [
    {
     "name": "stdout",
     "output_type": "stream",
     "text": [
      "{\n",
      "  \"inputs\": [\n",
      "    {\n",
      "      \"name\": \"float_input_8x8_image\",\n",
      "      \"shape\": [\n",
      "        null,\n",
      "        64\n",
      "      ],\n",
      "      \"type\": \"tensor(float)\"\n",
      "    }\n",
      "  ],\n",
      "  \"outputs\": [\n",
      "    {\n",
      "      \"name\": \"output_label\",\n",
      "      \"shape\": [\n",
      "        null\n",
      "      ],\n",
      "      \"type\": \"tensor(int64)\"\n",
      "    },\n",
      "    {\n",
      "      \"name\": \"output_probability\",\n",
      "      \"shape\": [],\n",
      "      \"type\": \"seq(map(int64,tensor(float)))\"\n",
      "    }\n",
      "  ]\n",
      "}\n"
     ]
    }
   ],
   "source": [
    "import json\n",
    "\n",
    "onnx_io = json.dumps(\n",
    "    {\n",
    "        \"inputs\": get_onnx_inputs(onnx_inference_session),\n",
    "        \"outputs\": get_onnx_outputs(onnx_inference_session),\n",
    "    },\n",
    "    indent=2,\n",
    ")\n",
    "\n",
    "\n",
    "logger.log_artefact(\"onnx_io_structure.json\", onnx_io)\n",
    "print(onnx_io)"
   ]
  },
  {
   "cell_type": "markdown",
   "id": "7c4afee5",
   "metadata": {
    "papermill": {
     "duration": 0.006199,
     "end_time": "2022-12-07T06:44:00.209244",
     "exception": false,
     "start_time": "2022-12-07T06:44:00.203045",
     "status": "completed"
    },
    "tags": []
   },
   "source": [
    "### Evaluate model performance on evaluation data set"
   ]
  },
  {
   "cell_type": "code",
   "execution_count": 9,
   "id": "41693086",
   "metadata": {
    "execution": {
     "iopub.execute_input": "2022-12-07T06:44:00.221323Z",
     "iopub.status.busy": "2022-12-07T06:44:00.220924Z",
     "iopub.status.idle": "2022-12-07T06:44:00.226570Z",
     "shell.execute_reply": "2022-12-07T06:44:00.225770Z"
    },
    "papermill": {
     "duration": 0.013669,
     "end_time": "2022-12-07T06:44:00.228430",
     "exception": false,
     "start_time": "2022-12-07T06:44:00.214761",
     "status": "completed"
    },
    "tags": []
   },
   "outputs": [],
   "source": [
    "# load evaluation data\n",
    "X_test = read_numpy(datalake_root(P) / \"test-data\" / \"digits.numpy\")\n",
    "y_test = read_numpy(datalake_root(P) / \"test-data\" / \"labels.numpy\")"
   ]
  },
  {
   "cell_type": "code",
   "execution_count": 10,
   "id": "b1dd4a7d",
   "metadata": {
    "execution": {
     "iopub.execute_input": "2022-12-07T06:44:00.240647Z",
     "iopub.status.busy": "2022-12-07T06:44:00.240197Z",
     "iopub.status.idle": "2022-12-07T06:44:00.329023Z",
     "shell.execute_reply": "2022-12-07T06:44:00.328258Z"
    },
    "papermill": {
     "duration": 0.09861,
     "end_time": "2022-12-07T06:44:00.332385",
     "exception": false,
     "start_time": "2022-12-07T06:44:00.233775",
     "status": "completed"
    },
    "tags": []
   },
   "outputs": [],
   "source": [
    "def get_model_outputs(X, onnx_inference_session):\n",
    "    y_pred_labels, y_pred_map = onnx_inference_session.run(\n",
    "        [\"output_label\", \"output_probability\"],\n",
    "        {\"float_input_8x8_image\": X.astype(np.float32)},\n",
    "    )\n",
    "    y_pred_probs = np.array(\n",
    "        [[probabilities[digit] for digit in range(10)] for probabilities in y_pred_map]\n",
    "    )\n",
    "\n",
    "    assert y_pred_labels.shape == (X.shape[0],)\n",
    "    assert y_pred_probs.shape == (X.shape[0], 10)\n",
    "\n",
    "    return y_pred_labels, y_pred_probs\n",
    "\n",
    "\n",
    "# Note: as shown in the training notebook, the predicted labels and probabilities\n",
    "# computed below need not be compatible.\n",
    "y_pred_labels_test, y_pred_probs_test = get_model_outputs(\n",
    "    X_test, onnx_inference_session\n",
    ")"
   ]
  },
  {
   "cell_type": "markdown",
   "id": "136c892b",
   "metadata": {
    "papermill": {
     "duration": 0.005535,
     "end_time": "2022-12-07T06:44:00.347215",
     "exception": false,
     "start_time": "2022-12-07T06:44:00.341680",
     "status": "completed"
    },
    "tags": []
   },
   "source": [
    "### Confusion matrix"
   ]
  },
  {
   "cell_type": "code",
   "execution_count": 11,
   "id": "29ec16e2",
   "metadata": {
    "execution": {
     "iopub.execute_input": "2022-12-07T06:44:00.360419Z",
     "iopub.status.busy": "2022-12-07T06:44:00.360003Z",
     "iopub.status.idle": "2022-12-07T06:44:00.364060Z",
     "shell.execute_reply": "2022-12-07T06:44:00.363127Z"
    },
    "papermill": {
     "duration": 0.014406,
     "end_time": "2022-12-07T06:44:00.367495",
     "exception": false,
     "start_time": "2022-12-07T06:44:00.353089",
     "status": "completed"
    },
    "tags": []
   },
   "outputs": [],
   "source": [
    "# TODO"
   ]
  },
  {
   "cell_type": "markdown",
   "id": "0c60fdf9",
   "metadata": {
    "papermill": {
     "duration": 0.005447,
     "end_time": "2022-12-07T06:44:00.378869",
     "exception": false,
     "start_time": "2022-12-07T06:44:00.373422",
     "status": "completed"
    },
    "tags": []
   },
   "source": [
    "### Plot predicted probabilities for each classifier over all evaluation digit images"
   ]
  },
  {
   "cell_type": "code",
   "execution_count": 12,
   "id": "d9e14faa",
   "metadata": {
    "execution": {
     "iopub.execute_input": "2022-12-07T06:44:00.391587Z",
     "iopub.status.busy": "2022-12-07T06:44:00.391263Z",
     "iopub.status.idle": "2022-12-07T06:44:04.026981Z",
     "shell.execute_reply": "2022-12-07T06:44:04.025234Z"
    },
    "papermill": {
     "duration": 3.645367,
     "end_time": "2022-12-07T06:44:04.029853",
     "exception": false,
     "start_time": "2022-12-07T06:44:00.384486",
     "status": "completed"
    },
    "tags": []
   },
   "outputs": [
    {
     "data": {
      "image/png": "[encoded data removed]",
      "text/plain": [
       "<Figure size 1600x600 with 10 Axes>"
      ]
     },
     "metadata": {},
     "output_type": "display_data"
    }
   ],
   "source": [
    "def plot_per_digit_probabilities(y_pred_probs):\n",
    "    fig, axs = plt.subplots(nrows=2, ncols=5, figsize=(16, 6))\n",
    "\n",
    "    for (r, c), digit, ax in zip(\n",
    "        it.product(range(2), range(5)), range(10), axs.reshape(-1)\n",
    "    ):\n",
    "        ax.hist(y_pred_probs_test[:, digit], bins=20)\n",
    "\n",
    "        ax.set_title(f\"Digit {digit}\")\n",
    "        if r == 1 and c == 2:\n",
    "            ax.set_xlabel(\"probability\", fontsize=16)\n",
    "\n",
    "        if c == 0:\n",
    "            ax.set_ylabel(\"counts\", fontsize=16)\n",
    "        ax.set_yscale(\"log\")\n",
    "\n",
    "    fig.tight_layout()\n",
    "    fig.suptitle(\n",
    "        f\"Distributions of prediction probabilities for each digit \"\n",
    "        f\"(on evaluation data, n={y_pred_probs.shape[0]})\",\n",
    "        fontsize=20,\n",
    "    )\n",
    "    fig.tight_layout()\n",
    "    fig.show()\n",
    "\n",
    "    return fig\n",
    "\n",
    "\n",
    "fig = plot_per_digit_probabilities(y_pred_probs_test)"
   ]
  },
  {
   "cell_type": "markdown",
   "id": "745e850b",
   "metadata": {
    "papermill": {
     "duration": 0.009172,
     "end_time": "2022-12-07T06:44:04.045565",
     "exception": false,
     "start_time": "2022-12-07T06:44:04.036393",
     "status": "completed"
    },
    "tags": []
   },
   "source": [
    "From the above distributions we see that most digits have clear separation between\n",
    "high and lower probabilities. Morover, in each case there is roughly an order of\n",
    "magnitude more of digits with low probabilities. This is compatible with digits\n",
    "being roughly evenly distributed in the data."
   ]
  },
  {
   "cell_type": "code",
   "execution_count": 13,
   "id": "c7d50dfd",
   "metadata": {
    "execution": {
     "iopub.execute_input": "2022-12-07T06:44:04.061460Z",
     "iopub.status.busy": "2022-12-07T06:44:04.061008Z",
     "iopub.status.idle": "2022-12-07T06:44:04.631383Z",
     "shell.execute_reply": "2022-12-07T06:44:04.630660Z"
    },
    "papermill": {
     "duration": 0.581284,
     "end_time": "2022-12-07T06:44:04.633951",
     "exception": false,
     "start_time": "2022-12-07T06:44:04.052667",
     "status": "completed"
    },
    "tags": []
   },
   "outputs": [],
   "source": [
    "logger.log_figure(\"per-digit-probabilities.png\", fig)"
   ]
  },
  {
   "cell_type": "markdown",
   "id": "93b0d35e",
   "metadata": {
    "papermill": {
     "duration": 0.006256,
     "end_time": "2022-12-07T06:44:04.645949",
     "exception": false,
     "start_time": "2022-12-07T06:44:04.639693",
     "status": "completed"
    },
    "tags": []
   },
   "source": [
    "### Plot ROC curves for individual one-vs-rest classifiers"
   ]
  },
  {
   "cell_type": "code",
   "execution_count": 14,
   "id": "b34ca837",
   "metadata": {
    "execution": {
     "iopub.execute_input": "2022-12-07T06:44:04.661744Z",
     "iopub.status.busy": "2022-12-07T06:44:04.661126Z",
     "iopub.status.idle": "2022-12-07T06:44:05.125050Z",
     "shell.execute_reply": "2022-12-07T06:44:05.124007Z"
    },
    "papermill": {
     "duration": 0.475384,
     "end_time": "2022-12-07T06:44:05.126985",
     "exception": false,
     "start_time": "2022-12-07T06:44:04.651601",
     "status": "completed"
    },
    "tags": []
   },
   "outputs": [],
   "source": [
    "from sklearn import metrics"
   ]
  },
  {
   "cell_type": "code",
   "execution_count": 15,
   "id": "da65b5e1",
   "metadata": {
    "execution": {
     "iopub.execute_input": "2022-12-07T06:44:05.142118Z",
     "iopub.status.busy": "2022-12-07T06:44:05.141822Z",
     "iopub.status.idle": "2022-12-07T06:44:06.427538Z",
     "shell.execute_reply": "2022-12-07T06:44:06.426310Z"
    },
    "papermill": {
     "duration": 1.29615,
     "end_time": "2022-12-07T06:44:06.430632",
     "exception": false,
     "start_time": "2022-12-07T06:44:05.134482",
     "status": "completed"
    },
    "tags": []
   },
   "outputs": [
    {
     "data": {
      "image/png": "[encoded data removed]",
      "text/plain": [
       "<Figure size 1600x800 with 10 Axes>"
      ]
     },
     "metadata": {},
     "output_type": "display_data"
    }
   ],
   "source": [
    "def plot_roc_curves(y, y_pred_probs):\n",
    "    # based on example code\n",
    "    # https://scikit-learn.org/stable/auto_examples/model_selection/plot_roc.html\n",
    "\n",
    "    fig, axs = plt.subplots(nrows=2, ncols=5, figsize=(16, 8))\n",
    "\n",
    "    roc_auc_dict = {}\n",
    "\n",
    "    for (r, c), digit, ax in zip(\n",
    "        it.product(range(2), range(5)), range(10), axs.reshape(-1)\n",
    "    ):\n",
    "        fpr, tpr, _ = metrics.roc_curve(y == digit, y_pred_probs[:, digit])\n",
    "        auc = metrics.auc(fpr, tpr)\n",
    "        roc_auc_dict[str(digit)] = auc\n",
    "\n",
    "        ax.plot(fpr, tpr, label=f\"ROC AUC={round(auc, 3)}\")\n",
    "\n",
    "        ax.set_title(f\"\\nDigit {digit}\", fontsize=16)\n",
    "        if r == 1:\n",
    "            ax.set_xlabel(\"FPR\", fontsize=18)\n",
    "\n",
    "        if c == 0:\n",
    "            ax.set_ylabel(\"TPR\", fontsize=18)\n",
    "\n",
    "        ax.set_xlim([-0.05, 1.05])\n",
    "        ax.set_ylim([-0.05, 1.05])\n",
    "        ax.legend(loc=\"lower right\", frameon=False, fontsize=14)\n",
    "\n",
    "    fig.tight_layout()\n",
    "    fig.suptitle(\n",
    "        f\"ROC plots for one-vs-rest performances \"\n",
    "        f\"(on evaluation data, n={y_pred_probs_test.shape[1]}\",\n",
    "        fontsize=22,\n",
    "    )\n",
    "    fig.tight_layout()\n",
    "    fig.show()\n",
    "\n",
    "    return roc_auc_dict, fig\n",
    "\n",
    "\n",
    "roc_auc_dict, fig = plot_roc_curves(y_test, y_pred_probs_test)"
   ]
  },
  {
   "cell_type": "code",
   "execution_count": 16,
   "id": "cc1bc10b",
   "metadata": {
    "execution": {
     "iopub.execute_input": "2022-12-07T06:44:06.447942Z",
     "iopub.status.busy": "2022-12-07T06:44:06.447429Z",
     "iopub.status.idle": "2022-12-07T06:44:06.805451Z",
     "shell.execute_reply": "2022-12-07T06:44:06.804487Z"
    },
    "papermill": {
     "duration": 0.368879,
     "end_time": "2022-12-07T06:44:06.807595",
     "exception": false,
     "start_time": "2022-12-07T06:44:06.438716",
     "status": "completed"
    },
    "tags": []
   },
   "outputs": [],
   "source": [
    "logger.log_figure(\"per-digit-roc-curves.png\", fig)"
   ]
  },
  {
   "cell_type": "code",
   "execution_count": 17,
   "id": "838b3819",
   "metadata": {
    "execution": {
     "iopub.execute_input": "2022-12-07T06:44:06.825112Z",
     "iopub.status.busy": "2022-12-07T06:44:06.824792Z",
     "iopub.status.idle": "2022-12-07T06:44:06.831060Z",
     "shell.execute_reply": "2022-12-07T06:44:06.830365Z"
    },
    "papermill": {
     "duration": 0.018128,
     "end_time": "2022-12-07T06:44:06.834084",
     "exception": false,
     "start_time": "2022-12-07T06:44:06.815956",
     "status": "completed"
    },
    "tags": []
   },
   "outputs": [
    {
     "data": {
      "text/plain": [
       "{'0': 1.0,\n",
       " '1': 0.9987628865979382,\n",
       " '2': 1.0,\n",
       " '3': 0.9997750702905343,\n",
       " '4': 0.9993522328913276,\n",
       " '5': 0.998987816307404,\n",
       " '6': 0.999923792104862,\n",
       " '7': 0.9998475842097241,\n",
       " '8': 0.9938918663303908,\n",
       " '9': 0.9994284407864654}"
      ]
     },
     "execution_count": 17,
     "metadata": {},
     "output_type": "execute_result"
    }
   ],
   "source": [
    "roc_auc_dict"
   ]
  },
  {
   "cell_type": "code",
   "execution_count": 18,
   "id": "33cf4b07",
   "metadata": {
    "execution": {
     "iopub.execute_input": "2022-12-07T06:44:06.855826Z",
     "iopub.status.busy": "2022-12-07T06:44:06.855547Z",
     "iopub.status.idle": "2022-12-07T06:44:06.861209Z",
     "shell.execute_reply": "2022-12-07T06:44:06.860415Z"
    },
    "papermill": {
     "duration": 0.024095,
     "end_time": "2022-12-07T06:44:06.869332",
     "exception": false,
     "start_time": "2022-12-07T06:44:06.845237",
     "status": "completed"
    },
    "tags": []
   },
   "outputs": [
    {
     "name": "stdout",
     "output_type": "stream",
     "text": [
      " - Logging roc_auc_per_digit (json) : {'0': 1.0, '1': 0.9987628865979382, '2': 1.0, '3': 0.9997750702905343, '4': 0.9993522328913276, '5': 0.998987816307404, '6': 0.999923792104862, '7': 0.9998475842097241, '8': 0.9938918663303908, '9': 0.9994284407864654}\n"
     ]
    }
   ],
   "source": [
    "logger.log_value(\"roc_auc_per_digit\", roc_auc_dict)"
   ]
  },
  {
   "cell_type": "markdown",
   "id": "063afdbb",
   "metadata": {
    "papermill": {
     "duration": 0.007756,
     "end_time": "2022-12-07T06:44:06.886018",
     "exception": false,
     "start_time": "2022-12-07T06:44:06.878262",
     "status": "completed"
    },
    "tags": []
   },
   "source": [
    "### Compute and log mean ROC AUC score averaged over all digits"
   ]
  },
  {
   "cell_type": "code",
   "execution_count": 19,
   "id": "5e5c6389",
   "metadata": {
    "execution": {
     "iopub.execute_input": "2022-12-07T06:44:06.904326Z",
     "iopub.status.busy": "2022-12-07T06:44:06.903950Z",
     "iopub.status.idle": "2022-12-07T06:44:06.919125Z",
     "shell.execute_reply": "2022-12-07T06:44:06.918369Z"
    },
    "papermill": {
     "duration": 0.026331,
     "end_time": "2022-12-07T06:44:06.920838",
     "exception": false,
     "start_time": "2022-12-07T06:44:06.894507",
     "status": "completed"
    },
    "tags": []
   },
   "outputs": [
    {
     "name": "stdout",
     "output_type": "stream",
     "text": [
      " - Logging roc_auc_class_mean (float) : 0.9989969689518645\n"
     ]
    }
   ],
   "source": [
    "roc_auc_macro = np.mean(list(roc_auc_dict.values()))\n",
    "\n",
    "logger.log_float(\"roc_auc_class_mean\", roc_auc_macro)\n",
    "\n",
    "# assert that the same value can be computed directly using sklearn\n",
    "assert roc_auc_macro == metrics.roc_auc_score(\n",
    "    y_test, y_pred_probs_test, average=\"macro\", multi_class=\"ovr\"\n",
    ")"
   ]
  },
  {
   "cell_type": "code",
   "execution_count": 20,
   "id": "01820232",
   "metadata": {
    "execution": {
     "iopub.execute_input": "2022-12-07T06:44:06.937997Z",
     "iopub.status.busy": "2022-12-07T06:44:06.937628Z",
     "iopub.status.idle": "2022-12-07T06:44:06.941020Z",
     "shell.execute_reply": "2022-12-07T06:44:06.940270Z"
    },
    "lines_to_next_cell": 0,
    "papermill": {
     "duration": 0.01412,
     "end_time": "2022-12-07T06:44:06.943251",
     "exception": false,
     "start_time": "2022-12-07T06:44:06.929131",
     "status": "completed"
    },
    "tags": []
   },
   "outputs": [],
   "source": [
    "# ---"
   ]
  },
  {
   "cell_type": "code",
   "execution_count": null,
   "id": "7bbf71b3",
   "metadata": {
    "papermill": {
     "duration": 0.008202,
     "end_time": "2022-12-07T06:44:06.958584",
     "exception": false,
     "start_time": "2022-12-07T06:44:06.950382",
     "status": "completed"
    },
    "tags": []
   },
   "outputs": [],
   "source": []
  }
 ],
 "metadata": {
  "jupytext": {
   "cell_metadata_filter": "tags,-all",
   "main_language": "python",
   "notebook_metadata_filter": "-all"
  },
  "language_info": {
   "codemirror_mode": {
    "name": "ipython",
    "version": 3
   },
   "file_extension": ".py",
   "mimetype": "text/x-python",
   "name": "python",
   "nbconvert_exporter": "python",
   "pygments_lexer": "ipython3",
   "version": "3.8.10"
  },
  "papermill": {
   "default_parameters": {},
   "duration": 11.493962,
   "end_time": "2022-12-07T06:44:08.189424",
   "environment_variables": {},
   "exception": null,
   "input_path": "/home/host_user/workspace/mnist-demo-pipeline/mnist-demo-pipeline/notebooks/temp-notebook-cs6avgdc.ipynb",
   "output_path": "notebooks/benchmark-model.ipynb",
   "parameters": {
    "P": {
     "_opentelemetry_traceparent": "00-dcc7a682a10aa94c0c3676ffb75c1a75-6f767b1a00f1bd9a-01",
     "pipeline.data_lake_root": "/pipeline-outputs/data-lake",
     "pipeline.github.actor": "matiasdahl",
     "pipeline.github.base_ref": "",
     "pipeline.github.event_name": "schedule",
     "pipeline.github.head_ref": "",
     "pipeline.github.job": "run-tests-pipeline-and-persist-pipeline-outputs",
     "pipeline.github.ref": "refs/heads/development",
     "pipeline.github.ref_name": "development",
     "pipeline.github.ref_type": "branch",
     "pipeline.github.repository": "matiasdahl/dev-mnist-digits-demo-pipeline",
     "pipeline.github.run_id": "3636482485",
     "pipeline.github.runner_name": "Hosted Agent",
     "pipeline.github.sha": "ace0d01011d5e914f1921450dd5a59c11367b38d",
     "pipeline.github.workflow": "Run automated tests, pipeline and deploy results to static reporting site",
     "pipeline.pipeline_run_id": "f3ea439f-2629-4f35-9ba0-b342d5e46626",
     "pipeline.run_environment": "ci",
     "run.retry_nr": "0",
     "task.max_nr_retries": "1",
     "task.notebook": "notebooks/benchmark-model.py",
     "task.nr_train_images": 800,
     "task.num_cpus": 1,
     "task.timeout_s": "None"
    }
   },
   "start_time": "2022-12-07T06:43:56.695462",
   "version": "2.3.3"
  }
 },
 "nbformat": 4,
 "nbformat_minor": 5
}