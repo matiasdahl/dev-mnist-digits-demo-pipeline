{
 "cells": [
  {
   "cell_type": "markdown",
   "id": "037f2dd0",
   "metadata": {
    "papermill": {
     "duration": 0.004338,
     "end_time": "2022-11-29T06:44:16.132673",
     "exception": false,
     "start_time": "2022-11-29T06:44:16.128335",
     "status": "completed"
    },
    "tags": []
   },
   "source": [
    "# Split digits and labels into separate training and testing data sets"
   ]
  },
  {
   "cell_type": "markdown",
   "id": "9ea26603",
   "metadata": {
    "papermill": {
     "duration": 0.00274,
     "end_time": "2022-11-29T06:44:16.138217",
     "exception": false,
     "start_time": "2022-11-29T06:44:16.135477",
     "status": "completed"
    },
    "tags": []
   },
   "source": [
    "### Determine run parameters"
   ]
  },
  {
   "cell_type": "code",
   "execution_count": 1,
   "id": "a59f8a3c",
   "metadata": {
    "execution": {
     "iopub.execute_input": "2022-11-29T06:44:16.143893Z",
     "iopub.status.busy": "2022-11-29T06:44:16.143594Z",
     "iopub.status.idle": "2022-11-29T06:44:16.151974Z",
     "shell.execute_reply": "2022-11-29T06:44:16.151447Z"
    },
    "lines_to_next_cell": 0,
    "papermill": {
     "duration": 0.013121,
     "end_time": "2022-11-29T06:44:16.153515",
     "exception": false,
     "start_time": "2022-11-29T06:44:16.140394",
     "status": "completed"
    },
    "tags": []
   },
   "outputs": [],
   "source": [
    "# ----------------- Parameters for interactive development --------------\n",
    "P = {\n",
    "    \"pipeline.data_lake_root\": \"/pipeline-outputs/data-lake\",\n",
    "    \"task.train_test_ratio\": 0.7,\n",
    "}"
   ]
  },
  {
   "cell_type": "code",
   "execution_count": 2,
   "id": "a626ad8c",
   "metadata": {
    "execution": {
     "iopub.execute_input": "2022-11-29T06:44:16.159977Z",
     "iopub.status.busy": "2022-11-29T06:44:16.159775Z",
     "iopub.status.idle": "2022-11-29T06:44:16.162547Z",
     "shell.execute_reply": "2022-11-29T06:44:16.162025Z"
    },
    "lines_to_next_cell": 0,
    "papermill": {
     "duration": 0.008625,
     "end_time": "2022-11-29T06:44:16.164630",
     "exception": false,
     "start_time": "2022-11-29T06:44:16.156005",
     "status": "completed"
    },
    "tags": [
     "parameters"
    ]
   },
   "outputs": [],
   "source": [
    "# - During automated runs parameters will be injected in the below cell -"
   ]
  },
  {
   "cell_type": "code",
   "execution_count": 3,
   "id": "a941f28c",
   "metadata": {
    "execution": {
     "iopub.execute_input": "2022-11-29T06:44:16.174623Z",
     "iopub.status.busy": "2022-11-29T06:44:16.174409Z",
     "iopub.status.idle": "2022-11-29T06:44:16.179853Z",
     "shell.execute_reply": "2022-11-29T06:44:16.179352Z"
    },
    "papermill": {
     "duration": 0.010836,
     "end_time": "2022-11-29T06:44:16.182109",
     "exception": false,
     "start_time": "2022-11-29T06:44:16.171273",
     "status": "completed"
    },
    "tags": [
     "injected-parameters"
    ]
   },
   "outputs": [],
   "source": [
    "# Parameters\n",
    "P = {\n",
    "    \"pipeline.data_lake_root\": \"/pipeline-outputs/data-lake\",\n",
    "    \"pipeline.run_environment\": \"ci\",\n",
    "    \"pipeline.pipeline_run_id\": \"82b134e5-344c-4da6-8ccc-c5841de0b257\",\n",
    "    \"pipeline.github.repository\": \"matiasdahl/dev-mnist-digits-demo-pipeline\",\n",
    "    \"pipeline.github.workflow\": \"Run automated tests, pipeline and deploy results to static reporting site\",\n",
    "    \"pipeline.github.runner_name\": \"Hosted Agent\",\n",
    "    \"pipeline.github.run_id\": \"3571661389\",\n",
    "    \"pipeline.github.actor\": \"matiasdahl\",\n",
    "    \"pipeline.github.job\": \"run-tests-pipeline-and-persist-pipeline-outputs\",\n",
    "    \"pipeline.github.base_ref\": \"\",\n",
    "    \"pipeline.github.head_ref\": \"\",\n",
    "    \"pipeline.github.sha\": \"ace0d01011d5e914f1921450dd5a59c11367b38d\",\n",
    "    \"pipeline.github.ref\": \"refs/heads/development\",\n",
    "    \"pipeline.github.ref_type\": \"branch\",\n",
    "    \"pipeline.github.ref_name\": \"development\",\n",
    "    \"pipeline.github.event_name\": \"schedule\",\n",
    "    \"task.train_test_ratio\": 0.7,\n",
    "    \"task.notebook\": \"notebooks/split-train-test.py\",\n",
    "    \"task.max_nr_retries\": \"1\",\n",
    "    \"run.retry_nr\": \"0\",\n",
    "    \"task.timeout_s\": \"None\",\n",
    "    \"task.num_cpus\": 1,\n",
    "    \"_opentelemetry_traceparent\": \"00-609948c3182c1b41681d908af5a0b764-dc49764446b88101-01\",\n",
    "}\n"
   ]
  },
  {
   "cell_type": "code",
   "execution_count": 4,
   "id": "dc45be57",
   "metadata": {
    "execution": {
     "iopub.execute_input": "2022-11-29T06:44:16.188355Z",
     "iopub.status.busy": "2022-11-29T06:44:16.188134Z",
     "iopub.status.idle": "2022-11-29T06:44:16.191334Z",
     "shell.execute_reply": "2022-11-29T06:44:16.190828Z"
    },
    "lines_to_next_cell": 0,
    "papermill": {
     "duration": 0.009223,
     "end_time": "2022-11-29T06:44:16.193644",
     "exception": false,
     "start_time": "2022-11-29T06:44:16.184421",
     "status": "completed"
    },
    "tags": []
   },
   "outputs": [],
   "source": [
    "# -----------------------------------------------------------------------"
   ]
  },
  {
   "cell_type": "markdown",
   "id": "fcbd8030",
   "metadata": {
    "papermill": {
     "duration": 0.002257,
     "end_time": "2022-11-29T06:44:16.198703",
     "exception": false,
     "start_time": "2022-11-29T06:44:16.196446",
     "status": "completed"
    },
    "tags": []
   },
   "source": [
    "---"
   ]
  },
  {
   "cell_type": "markdown",
   "id": "7c01fb33",
   "metadata": {
    "lines_to_next_cell": 2,
    "papermill": {
     "duration": 0.002708,
     "end_time": "2022-11-29T06:44:16.204024",
     "exception": false,
     "start_time": "2022-11-29T06:44:16.201316",
     "status": "completed"
    },
    "tags": []
   },
   "source": [
    "### Notebook code"
   ]
  },
  {
   "cell_type": "code",
   "execution_count": 5,
   "id": "5572e108",
   "metadata": {
    "execution": {
     "iopub.execute_input": "2022-11-29T06:44:16.209912Z",
     "iopub.status.busy": "2022-11-29T06:44:16.209697Z",
     "iopub.status.idle": "2022-11-29T06:44:16.716974Z",
     "shell.execute_reply": "2022-11-29T06:44:16.716409Z"
    },
    "papermill": {
     "duration": 0.512353,
     "end_time": "2022-11-29T06:44:16.718858",
     "exception": false,
     "start_time": "2022-11-29T06:44:16.206505",
     "status": "completed"
    },
    "tags": []
   },
   "outputs": [
    {
     "name": "stderr",
     "output_type": "stream",
     "text": [
      "2022-11-29 06:44:16,542\tINFO worker.py:842 -- Connecting to existing Ray cluster at address: 172.17.0.2:6379\n"
     ]
    }
   ],
   "source": [
    "from common.io import datalake_root, read_numpy, write_numpy\n",
    "from pynb_dag_runner.tasks.task_opentelemetry_logging import PydarLogger\n",
    "\n",
    "logger = PydarLogger(P)"
   ]
  },
  {
   "cell_type": "markdown",
   "id": "8b623af5",
   "metadata": {
    "papermill": {
     "duration": 0.002926,
     "end_time": "2022-11-29T06:44:16.725469",
     "exception": false,
     "start_time": "2022-11-29T06:44:16.722543",
     "status": "completed"
    },
    "tags": []
   },
   "source": [
    "## Load and split digits data"
   ]
  },
  {
   "cell_type": "code",
   "execution_count": 6,
   "id": "7bedae96",
   "metadata": {
    "execution": {
     "iopub.execute_input": "2022-11-29T06:44:16.732318Z",
     "iopub.status.busy": "2022-11-29T06:44:16.731629Z",
     "iopub.status.idle": "2022-11-29T06:44:16.736653Z",
     "shell.execute_reply": "2022-11-29T06:44:16.736095Z"
    },
    "papermill": {
     "duration": 0.010208,
     "end_time": "2022-11-29T06:44:16.738176",
     "exception": false,
     "start_time": "2022-11-29T06:44:16.727968",
     "status": "completed"
    },
    "tags": []
   },
   "outputs": [],
   "source": [
    "X = read_numpy(datalake_root(P) / \"raw\" / \"digits.numpy\")\n",
    "y = read_numpy(datalake_root(P) / \"raw\" / \"labels.numpy\")"
   ]
  },
  {
   "cell_type": "code",
   "execution_count": 7,
   "id": "03ae1a71",
   "metadata": {
    "execution": {
     "iopub.execute_input": "2022-11-29T06:44:16.744533Z",
     "iopub.status.busy": "2022-11-29T06:44:16.744301Z",
     "iopub.status.idle": "2022-11-29T06:44:17.144906Z",
     "shell.execute_reply": "2022-11-29T06:44:17.144039Z"
    },
    "papermill": {
     "duration": 0.405991,
     "end_time": "2022-11-29T06:44:17.146841",
     "exception": false,
     "start_time": "2022-11-29T06:44:16.740850",
     "status": "completed"
    },
    "tags": []
   },
   "outputs": [],
   "source": [
    "from sklearn.model_selection import train_test_split\n",
    "\n",
    "X_train, X_test, y_train, y_test = train_test_split(\n",
    "    X,\n",
    "    y,\n",
    "    train_size=P[\"task.train_test_ratio\"],\n",
    "    test_size=None,\n",
    "    stratify=y,\n",
    "    shuffle=True,\n",
    "    random_state=1,\n",
    ")\n",
    "\n",
    "# assert nr of pixels per image is the same for all image vectors\n",
    "assert X.shape[1] == X_train.shape[1] == X_test.shape[1]\n",
    "\n",
    "# assert that the (X, y)-pairs have compatible sizes (for both train and test)\n",
    "assert X_train.shape[0] == len(y_train)\n",
    "assert X_test.shape[0] == len(y_test)\n",
    "\n",
    "# assert that all data is used\n",
    "assert len(y) == len(y_train) + len(y_test)"
   ]
  },
  {
   "cell_type": "code",
   "execution_count": 8,
   "id": "3b9b16ab",
   "metadata": {
    "execution": {
     "iopub.execute_input": "2022-11-29T06:44:17.154115Z",
     "iopub.status.busy": "2022-11-29T06:44:17.153704Z",
     "iopub.status.idle": "2022-11-29T06:44:17.161189Z",
     "shell.execute_reply": "2022-11-29T06:44:17.160684Z"
    },
    "papermill": {
     "duration": 0.013463,
     "end_time": "2022-11-29T06:44:17.163029",
     "exception": false,
     "start_time": "2022-11-29T06:44:17.149566",
     "status": "completed"
    },
    "tags": []
   },
   "outputs": [
    {
     "name": "stdout",
     "output_type": "stream",
     "text": [
      " - Logging nr_digits_train (int) : 1257\n",
      " - Logging nr_digits_test (int) : 540\n"
     ]
    }
   ],
   "source": [
    "logger.log_int(\"nr_digits_train\", len(y_train))\n",
    "logger.log_int(\"nr_digits_test\", len(y_test))"
   ]
  },
  {
   "cell_type": "markdown",
   "id": "0b96f994",
   "metadata": {
    "papermill": {
     "duration": 0.002582,
     "end_time": "2022-11-29T06:44:17.168402",
     "exception": false,
     "start_time": "2022-11-29T06:44:17.165820",
     "status": "completed"
    },
    "tags": []
   },
   "source": [
    "### Persist training and test data sets to separate files"
   ]
  },
  {
   "cell_type": "code",
   "execution_count": 9,
   "id": "feb430fc",
   "metadata": {
    "execution": {
     "iopub.execute_input": "2022-11-29T06:44:17.174830Z",
     "iopub.status.busy": "2022-11-29T06:44:17.174599Z",
     "iopub.status.idle": "2022-11-29T06:44:17.180186Z",
     "shell.execute_reply": "2022-11-29T06:44:17.179569Z"
    },
    "papermill": {
     "duration": 0.011556,
     "end_time": "2022-11-29T06:44:17.182571",
     "exception": false,
     "start_time": "2022-11-29T06:44:17.171015",
     "status": "completed"
    },
    "tags": []
   },
   "outputs": [],
   "source": [
    "write_numpy(datalake_root(P) / \"train-data\" / \"digits.numpy\", X_train)\n",
    "write_numpy(datalake_root(P) / \"train-data\" / \"labels.numpy\", y_train)\n",
    "\n",
    "#\n",
    "write_numpy(datalake_root(P) / \"test-data\" / \"digits.numpy\", X_test)\n",
    "write_numpy(datalake_root(P) / \"test-data\" / \"labels.numpy\", y_test)"
   ]
  },
  {
   "cell_type": "code",
   "execution_count": null,
   "id": "70b8aba7",
   "metadata": {
    "papermill": {
     "duration": 0.003181,
     "end_time": "2022-11-29T06:44:17.188651",
     "exception": false,
     "start_time": "2022-11-29T06:44:17.185470",
     "status": "completed"
    },
    "tags": []
   },
   "outputs": [],
   "source": []
  }
 ],
 "metadata": {
  "jupytext": {
   "cell_metadata_filter": "tags,-all",
   "main_language": "python",
   "notebook_metadata_filter": "-all"
  },
  "language_info": {
   "codemirror_mode": {
    "name": "ipython",
    "version": 3
   },
   "file_extension": ".py",
   "mimetype": "text/x-python",
   "name": "python",
   "nbconvert_exporter": "python",
   "pygments_lexer": "ipython3",
   "version": "3.8.10"
  },
  "papermill": {
   "default_parameters": {},
   "duration": 3.502745,
   "end_time": "2022-11-29T06:44:18.214813",
   "environment_variables": {},
   "exception": null,
   "input_path": "/home/host_user/workspace/mnist-demo-pipeline/mnist-demo-pipeline/notebooks/temp-notebook-2eecbkaz.ipynb",
   "output_path": "notebooks/split-train-test.ipynb",
   "parameters": {
    "P": {
     "_opentelemetry_traceparent": "00-609948c3182c1b41681d908af5a0b764-dc49764446b88101-01",
     "pipeline.data_lake_root": "/pipeline-outputs/data-lake",
     "pipeline.github.actor": "matiasdahl",
     "pipeline.github.base_ref": "",
     "pipeline.github.event_name": "schedule",
     "pipeline.github.head_ref": "",
     "pipeline.github.job": "run-tests-pipeline-and-persist-pipeline-outputs",
     "pipeline.github.ref": "refs/heads/development",
     "pipeline.github.ref_name": "development",
     "pipeline.github.ref_type": "branch",
     "pipeline.github.repository": "matiasdahl/dev-mnist-digits-demo-pipeline",
     "pipeline.github.run_id": "3571661389",
     "pipeline.github.runner_name": "Hosted Agent",
     "pipeline.github.sha": "ace0d01011d5e914f1921450dd5a59c11367b38d",
     "pipeline.github.workflow": "Run automated tests, pipeline and deploy results to static reporting site",
     "pipeline.pipeline_run_id": "82b134e5-344c-4da6-8ccc-c5841de0b257",
     "pipeline.run_environment": "ci",
     "run.retry_nr": "0",
     "task.max_nr_retries": "1",
     "task.notebook": "notebooks/split-train-test.py",
     "task.num_cpus": 1,
     "task.timeout_s": "None",
     "task.train_test_ratio": 0.7
    }
   },
   "start_time": "2022-11-29T06:44:14.712068",
   "version": "2.3.3"
  }
 },
 "nbformat": 4,
 "nbformat_minor": 5
}