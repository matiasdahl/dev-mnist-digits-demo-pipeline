{
 "cells": [
  {
   "cell_type": "markdown",
   "id": "d0335ae1",
   "metadata": {
    "papermill": {
     "duration": 0.005863,
     "end_time": "2022-11-29T06:44:49.097770",
     "exception": false,
     "start_time": "2022-11-29T06:44:49.091907",
     "status": "completed"
    },
    "tags": []
   },
   "source": [
    "# Benchmark model\n",
    "\n",
    "The purpose of this notebook is to benchmark persisted onnx-model (trained in the\n",
    "previous step) against evaluation set."
   ]
  },
  {
   "cell_type": "markdown",
   "id": "90d12077",
   "metadata": {
    "papermill": {
     "duration": 0.004384,
     "end_time": "2022-11-29T06:44:49.106761",
     "exception": false,
     "start_time": "2022-11-29T06:44:49.102377",
     "status": "completed"
    },
    "tags": []
   },
   "source": [
    "### Determine run parameters"
   ]
  },
  {
   "cell_type": "code",
   "execution_count": 1,
   "id": "3bb3b9c1",
   "metadata": {
    "execution": {
     "iopub.execute_input": "2022-11-29T06:44:49.117083Z",
     "iopub.status.busy": "2022-11-29T06:44:49.116270Z",
     "iopub.status.idle": "2022-11-29T06:44:49.124642Z",
     "shell.execute_reply": "2022-11-29T06:44:49.123712Z"
    },
    "lines_to_next_cell": 0,
    "papermill": {
     "duration": 0.015673,
     "end_time": "2022-11-29T06:44:49.126414",
     "exception": false,
     "start_time": "2022-11-29T06:44:49.110741",
     "status": "completed"
    },
    "tags": []
   },
   "outputs": [],
   "source": [
    "# ----------------- Parameters for interactive development --------------\n",
    "P = {\n",
    "    \"pipeline.data_lake_root\": \"/pipeline-outputs/data-lake\",\n",
    "    \"task.nr_train_images\": 600,\n",
    "}"
   ]
  },
  {
   "cell_type": "code",
   "execution_count": 2,
   "id": "bf684b22",
   "metadata": {
    "execution": {
     "iopub.execute_input": "2022-11-29T06:44:49.137677Z",
     "iopub.status.busy": "2022-11-29T06:44:49.137438Z",
     "iopub.status.idle": "2022-11-29T06:44:49.140761Z",
     "shell.execute_reply": "2022-11-29T06:44:49.140123Z"
    },
    "lines_to_next_cell": 0,
    "papermill": {
     "duration": 0.012231,
     "end_time": "2022-11-29T06:44:49.143462",
     "exception": false,
     "start_time": "2022-11-29T06:44:49.131231",
     "status": "completed"
    },
    "tags": [
     "parameters"
    ]
   },
   "outputs": [],
   "source": [
    "# - During automated runs parameters will be injected in the below cell -"
   ]
  },
  {
   "cell_type": "code",
   "execution_count": 3,
   "id": "d01f7e97",
   "metadata": {
    "execution": {
     "iopub.execute_input": "2022-11-29T06:44:49.153455Z",
     "iopub.status.busy": "2022-11-29T06:44:49.153235Z",
     "iopub.status.idle": "2022-11-29T06:44:49.162715Z",
     "shell.execute_reply": "2022-11-29T06:44:49.162196Z"
    },
    "papermill": {
     "duration": 0.017693,
     "end_time": "2022-11-29T06:44:49.165706",
     "exception": false,
     "start_time": "2022-11-29T06:44:49.148013",
     "status": "completed"
    },
    "tags": [
     "injected-parameters"
    ]
   },
   "outputs": [],
   "source": [
    "# Parameters\n",
    "P = {\n",
    "    \"pipeline.data_lake_root\": \"/pipeline-outputs/data-lake\",\n",
    "    \"pipeline.run_environment\": \"ci\",\n",
    "    \"pipeline.pipeline_run_id\": \"82b134e5-344c-4da6-8ccc-c5841de0b257\",\n",
    "    \"pipeline.github.repository\": \"matiasdahl/dev-mnist-digits-demo-pipeline\",\n",
    "    \"pipeline.github.workflow\": \"Run automated tests, pipeline and deploy results to static reporting site\",\n",
    "    \"pipeline.github.runner_name\": \"Hosted Agent\",\n",
    "    \"pipeline.github.run_id\": \"3571661389\",\n",
    "    \"pipeline.github.actor\": \"matiasdahl\",\n",
    "    \"pipeline.github.job\": \"run-tests-pipeline-and-persist-pipeline-outputs\",\n",
    "    \"pipeline.github.base_ref\": \"\",\n",
    "    \"pipeline.github.head_ref\": \"\",\n",
    "    \"pipeline.github.sha\": \"ace0d01011d5e914f1921450dd5a59c11367b38d\",\n",
    "    \"pipeline.github.ref\": \"refs/heads/development\",\n",
    "    \"pipeline.github.ref_type\": \"branch\",\n",
    "    \"pipeline.github.ref_name\": \"development\",\n",
    "    \"pipeline.github.event_name\": \"schedule\",\n",
    "    \"task.nr_train_images\": 1000,\n",
    "    \"task.notebook\": \"notebooks/benchmark-model.py\",\n",
    "    \"task.max_nr_retries\": \"1\",\n",
    "    \"run.retry_nr\": \"0\",\n",
    "    \"task.timeout_s\": \"None\",\n",
    "    \"task.num_cpus\": 1,\n",
    "    \"_opentelemetry_traceparent\": \"00-609948c3182c1b41681d908af5a0b764-e9ed04a6f733ab4b-01\",\n",
    "}\n"
   ]
  },
  {
   "cell_type": "code",
   "execution_count": 4,
   "id": "cf918844",
   "metadata": {
    "execution": {
     "iopub.execute_input": "2022-11-29T06:44:49.178711Z",
     "iopub.status.busy": "2022-11-29T06:44:49.178471Z",
     "iopub.status.idle": "2022-11-29T06:44:49.181395Z",
     "shell.execute_reply": "2022-11-29T06:44:49.180894Z"
    },
    "lines_to_next_cell": 0,
    "papermill": {
     "duration": 0.011057,
     "end_time": "2022-11-29T06:44:49.183967",
     "exception": false,
     "start_time": "2022-11-29T06:44:49.172910",
     "status": "completed"
    },
    "tags": []
   },
   "outputs": [],
   "source": [
    "# -----------------------------------------------------------------------"
   ]
  },
  {
   "cell_type": "markdown",
   "id": "71ce4abc",
   "metadata": {
    "papermill": {
     "duration": 0.004584,
     "end_time": "2022-11-29T06:44:49.193524",
     "exception": false,
     "start_time": "2022-11-29T06:44:49.188940",
     "status": "completed"
    },
    "tags": []
   },
   "source": [
    "---"
   ]
  },
  {
   "cell_type": "markdown",
   "id": "8892862d",
   "metadata": {
    "lines_to_next_cell": 2,
    "papermill": {
     "duration": 0.004141,
     "end_time": "2022-11-29T06:44:49.202095",
     "exception": false,
     "start_time": "2022-11-29T06:44:49.197954",
     "status": "completed"
    },
    "tags": []
   },
   "source": [
    "### Notebook code"
   ]
  },
  {
   "cell_type": "code",
   "execution_count": 5,
   "id": "4803dc72",
   "metadata": {
    "execution": {
     "iopub.execute_input": "2022-11-29T06:44:49.217250Z",
     "iopub.status.busy": "2022-11-29T06:44:49.216997Z",
     "iopub.status.idle": "2022-11-29T06:44:50.360653Z",
     "shell.execute_reply": "2022-11-29T06:44:50.359498Z"
    },
    "papermill": {
     "duration": 1.150753,
     "end_time": "2022-11-29T06:44:50.362774",
     "exception": false,
     "start_time": "2022-11-29T06:44:49.212021",
     "status": "completed"
    },
    "tags": []
   },
   "outputs": [
    {
     "name": "stderr",
     "output_type": "stream",
     "text": [
      "2022-11-29 06:44:50,190\tINFO worker.py:842 -- Connecting to existing Ray cluster at address: 172.17.0.2:6379\n"
     ]
    }
   ],
   "source": [
    "import itertools as it\n",
    "\n",
    "#\n",
    "import numpy as np\n",
    "import matplotlib.pyplot as plt\n",
    "\n",
    "#\n",
    "from pynb_dag_runner.tasks.task_opentelemetry_logging import PydarLogger\n",
    "\n",
    "#\n",
    "from common.io import datalake_root\n",
    "\n",
    "logger = PydarLogger(P)"
   ]
  },
  {
   "cell_type": "markdown",
   "id": "5bb12cc0",
   "metadata": {
    "papermill": {
     "duration": 0.004979,
     "end_time": "2022-11-29T06:44:50.374162",
     "exception": false,
     "start_time": "2022-11-29T06:44:50.369183",
     "status": "completed"
    },
    "tags": []
   },
   "source": [
    "## Load persisted onnx-model and evaluation data"
   ]
  },
  {
   "cell_type": "code",
   "execution_count": 6,
   "id": "b2e0ad42",
   "metadata": {
    "execution": {
     "iopub.execute_input": "2022-11-29T06:44:50.385707Z",
     "iopub.status.busy": "2022-11-29T06:44:50.385319Z",
     "iopub.status.idle": "2022-11-29T06:44:50.389742Z",
     "shell.execute_reply": "2022-11-29T06:44:50.389180Z"
    },
    "papermill": {
     "duration": 0.013759,
     "end_time": "2022-11-29T06:44:50.393141",
     "exception": false,
     "start_time": "2022-11-29T06:44:50.379382",
     "status": "completed"
    },
    "tags": []
   },
   "outputs": [],
   "source": [
    "from common.io import read_onnx, get_onnx_inputs, get_onnx_outputs, read_numpy"
   ]
  },
  {
   "cell_type": "code",
   "execution_count": 7,
   "id": "6dd0aefc",
   "metadata": {
    "execution": {
     "iopub.execute_input": "2022-11-29T06:44:50.407092Z",
     "iopub.status.busy": "2022-11-29T06:44:50.406828Z",
     "iopub.status.idle": "2022-11-29T06:44:50.422282Z",
     "shell.execute_reply": "2022-11-29T06:44:50.421276Z"
    },
    "lines_to_next_cell": 0,
    "papermill": {
     "duration": 0.023282,
     "end_time": "2022-11-29T06:44:50.424244",
     "exception": false,
     "start_time": "2022-11-29T06:44:50.400962",
     "status": "completed"
    },
    "tags": []
   },
   "outputs": [],
   "source": [
    "onnx_inference_session = read_onnx(\n",
    "    datalake_root(P)\n",
    "    / \"models\"\n",
    "    / f\"nr_train_images={P['task.nr_train_images']}\"\n",
    "    / \"model.onnx\"\n",
    ")"
   ]
  },
  {
   "cell_type": "markdown",
   "id": "d0495ee9",
   "metadata": {
    "papermill": {
     "duration": 0.005707,
     "end_time": "2022-11-29T06:44:50.435728",
     "exception": false,
     "start_time": "2022-11-29T06:44:50.430021",
     "status": "completed"
    },
    "tags": []
   },
   "source": [
    "### Record structure of inputs and outputs for ONNX model\n",
    "\n",
    "(this should likely be done in training notebook)"
   ]
  },
  {
   "cell_type": "code",
   "execution_count": 8,
   "id": "1b8daa68",
   "metadata": {
    "execution": {
     "iopub.execute_input": "2022-11-29T06:44:50.447309Z",
     "iopub.status.busy": "2022-11-29T06:44:50.447036Z",
     "iopub.status.idle": "2022-11-29T06:44:50.453839Z",
     "shell.execute_reply": "2022-11-29T06:44:50.453261Z"
    },
    "papermill": {
     "duration": 0.016398,
     "end_time": "2022-11-29T06:44:50.457263",
     "exception": false,
     "start_time": "2022-11-29T06:44:50.440865",
     "status": "completed"
    },
    "tags": []
   },
   "outputs": [
    {
     "name": "stdout",
     "output_type": "stream",
     "text": [
      "{\n",
      "  \"inputs\": [\n",
      "    {\n",
      "      \"name\": \"float_input_8x8_image\",\n",
      "      \"shape\": [\n",
      "        null,\n",
      "        64\n",
      "      ],\n",
      "      \"type\": \"tensor(float)\"\n",
      "    }\n",
      "  ],\n",
      "  \"outputs\": [\n",
      "    {\n",
      "      \"name\": \"output_label\",\n",
      "      \"shape\": [\n",
      "        null\n",
      "      ],\n",
      "      \"type\": \"tensor(int64)\"\n",
      "    },\n",
      "    {\n",
      "      \"name\": \"output_probability\",\n",
      "      \"shape\": [],\n",
      "      \"type\": \"seq(map(int64,tensor(float)))\"\n",
      "    }\n",
      "  ]\n",
      "}\n"
     ]
    }
   ],
   "source": [
    "import json\n",
    "\n",
    "onnx_io = json.dumps(\n",
    "    {\n",
    "        \"inputs\": get_onnx_inputs(onnx_inference_session),\n",
    "        \"outputs\": get_onnx_outputs(onnx_inference_session),\n",
    "    },\n",
    "    indent=2,\n",
    ")\n",
    "\n",
    "\n",
    "logger.log_artefact(\"onnx_io_structure.json\", onnx_io)\n",
    "print(onnx_io)"
   ]
  },
  {
   "cell_type": "markdown",
   "id": "0a5cabe3",
   "metadata": {
    "papermill": {
     "duration": 0.004947,
     "end_time": "2022-11-29T06:44:50.467728",
     "exception": false,
     "start_time": "2022-11-29T06:44:50.462781",
     "status": "completed"
    },
    "tags": []
   },
   "source": [
    "### Evaluate model performance on evaluation data set"
   ]
  },
  {
   "cell_type": "code",
   "execution_count": 9,
   "id": "939344b5",
   "metadata": {
    "execution": {
     "iopub.execute_input": "2022-11-29T06:44:50.479044Z",
     "iopub.status.busy": "2022-11-29T06:44:50.478731Z",
     "iopub.status.idle": "2022-11-29T06:44:50.484656Z",
     "shell.execute_reply": "2022-11-29T06:44:50.484000Z"
    },
    "papermill": {
     "duration": 0.014099,
     "end_time": "2022-11-29T06:44:50.487261",
     "exception": false,
     "start_time": "2022-11-29T06:44:50.473162",
     "status": "completed"
    },
    "tags": []
   },
   "outputs": [],
   "source": [
    "# load evaluation data\n",
    "X_test = read_numpy(datalake_root(P) / \"test-data\" / \"digits.numpy\")\n",
    "y_test = read_numpy(datalake_root(P) / \"test-data\" / \"labels.numpy\")"
   ]
  },
  {
   "cell_type": "code",
   "execution_count": 10,
   "id": "1602b4fa",
   "metadata": {
    "execution": {
     "iopub.execute_input": "2022-11-29T06:44:50.503539Z",
     "iopub.status.busy": "2022-11-29T06:44:50.503276Z",
     "iopub.status.idle": "2022-11-29T06:44:50.575051Z",
     "shell.execute_reply": "2022-11-29T06:44:50.574361Z"
    },
    "papermill": {
     "duration": 0.083757,
     "end_time": "2022-11-29T06:44:50.576755",
     "exception": false,
     "start_time": "2022-11-29T06:44:50.492998",
     "status": "completed"
    },
    "tags": []
   },
   "outputs": [],
   "source": [
    "def get_model_outputs(X, onnx_inference_session):\n",
    "    y_pred_labels, y_pred_map = onnx_inference_session.run(\n",
    "        [\"output_label\", \"output_probability\"],\n",
    "        {\"float_input_8x8_image\": X.astype(np.float32)},\n",
    "    )\n",
    "    y_pred_probs = np.array(\n",
    "        [[probabilities[digit] for digit in range(10)] for probabilities in y_pred_map]\n",
    "    )\n",
    "\n",
    "    assert y_pred_labels.shape == (X.shape[0],)\n",
    "    assert y_pred_probs.shape == (X.shape[0], 10)\n",
    "\n",
    "    return y_pred_labels, y_pred_probs\n",
    "\n",
    "\n",
    "# Note: as shown in the training notebook, the predicted labels and probabilities\n",
    "# computed below need not be compatible.\n",
    "y_pred_labels_test, y_pred_probs_test = get_model_outputs(\n",
    "    X_test, onnx_inference_session\n",
    ")"
   ]
  },
  {
   "cell_type": "markdown",
   "id": "df5d4e15",
   "metadata": {
    "papermill": {
     "duration": 0.007147,
     "end_time": "2022-11-29T06:44:50.589818",
     "exception": false,
     "start_time": "2022-11-29T06:44:50.582671",
     "status": "completed"
    },
    "tags": []
   },
   "source": [
    "### Confusion matrix"
   ]
  },
  {
   "cell_type": "code",
   "execution_count": 11,
   "id": "12c1b785",
   "metadata": {
    "execution": {
     "iopub.execute_input": "2022-11-29T06:44:50.601559Z",
     "iopub.status.busy": "2022-11-29T06:44:50.601199Z",
     "iopub.status.idle": "2022-11-29T06:44:50.608928Z",
     "shell.execute_reply": "2022-11-29T06:44:50.608105Z"
    },
    "papermill": {
     "duration": 0.014934,
     "end_time": "2022-11-29T06:44:50.610455",
     "exception": false,
     "start_time": "2022-11-29T06:44:50.595521",
     "status": "completed"
    },
    "tags": []
   },
   "outputs": [],
   "source": [
    "# TODO"
   ]
  },
  {
   "cell_type": "markdown",
   "id": "175d8c91",
   "metadata": {
    "papermill": {
     "duration": 0.006601,
     "end_time": "2022-11-29T06:44:50.623829",
     "exception": false,
     "start_time": "2022-11-29T06:44:50.617228",
     "status": "completed"
    },
    "tags": []
   },
   "source": [
    "### Plot predicted probabilities for each classifier over all evaluation digit images"
   ]
  },
  {
   "cell_type": "code",
   "execution_count": 12,
   "id": "87705ea8",
   "metadata": {
    "execution": {
     "iopub.execute_input": "2022-11-29T06:44:50.644000Z",
     "iopub.status.busy": "2022-11-29T06:44:50.643634Z",
     "iopub.status.idle": "2022-11-29T06:44:53.326809Z",
     "shell.execute_reply": "2022-11-29T06:44:53.326081Z"
    },
    "papermill": {
     "duration": 2.699078,
     "end_time": "2022-11-29T06:44:53.328895",
     "exception": false,
     "start_time": "2022-11-29T06:44:50.629817",
     "status": "completed"
    },
    "tags": []
   },
   "outputs": [
    {
     "data": {
      "image/png": "[encoded data removed]",
      "text/plain": [
       "<Figure size 1600x600 with 10 Axes>"
      ]
     },
     "metadata": {},
     "output_type": "display_data"
    }
   ],
   "source": [
    "def plot_per_digit_probabilities(y_pred_probs):\n",
    "    fig, axs = plt.subplots(nrows=2, ncols=5, figsize=(16, 6))\n",
    "\n",
    "    for (r, c), digit, ax in zip(\n",
    "        it.product(range(2), range(5)), range(10), axs.reshape(-1)\n",
    "    ):\n",
    "        ax.hist(y_pred_probs_test[:, digit], bins=20)\n",
    "\n",
    "        ax.set_title(f\"Digit {digit}\")\n",
    "        if r == 1 and c == 2:\n",
    "            ax.set_xlabel(\"probability\", fontsize=16)\n",
    "\n",
    "        if c == 0:\n",
    "            ax.set_ylabel(\"counts\", fontsize=16)\n",
    "        ax.set_yscale(\"log\")\n",
    "\n",
    "    fig.tight_layout()\n",
    "    fig.suptitle(\n",
    "        f\"Distributions of prediction probabilities for each digit \"\n",
    "        f\"(on evaluation data, n={y_pred_probs.shape[0]})\",\n",
    "        fontsize=20,\n",
    "    )\n",
    "    fig.tight_layout()\n",
    "    fig.show()\n",
    "\n",
    "    return fig\n",
    "\n",
    "\n",
    "fig = plot_per_digit_probabilities(y_pred_probs_test)"
   ]
  },
  {
   "cell_type": "markdown",
   "id": "eeae28a6",
   "metadata": {
    "papermill": {
     "duration": 0.005763,
     "end_time": "2022-11-29T06:44:53.340184",
     "exception": false,
     "start_time": "2022-11-29T06:44:53.334421",
     "status": "completed"
    },
    "tags": []
   },
   "source": [
    "From the above distributions we see that most digits have clear separation between\n",
    "high and lower probabilities. Morover, in each case there is roughly an order of\n",
    "magnitude more of digits with low probabilities. This is compatible with digits\n",
    "being roughly evenly distributed in the data."
   ]
  },
  {
   "cell_type": "code",
   "execution_count": 13,
   "id": "1247a344",
   "metadata": {
    "execution": {
     "iopub.execute_input": "2022-11-29T06:44:53.351275Z",
     "iopub.status.busy": "2022-11-29T06:44:53.351021Z",
     "iopub.status.idle": "2022-11-29T06:44:53.761970Z",
     "shell.execute_reply": "2022-11-29T06:44:53.761186Z"
    },
    "papermill": {
     "duration": 0.418578,
     "end_time": "2022-11-29T06:44:53.763721",
     "exception": false,
     "start_time": "2022-11-29T06:44:53.345143",
     "status": "completed"
    },
    "tags": []
   },
   "outputs": [],
   "source": [
    "logger.log_figure(\"per-digit-probabilities.png\", fig)"
   ]
  },
  {
   "cell_type": "markdown",
   "id": "8a77396b",
   "metadata": {
    "papermill": {
     "duration": 0.005118,
     "end_time": "2022-11-29T06:44:53.774152",
     "exception": false,
     "start_time": "2022-11-29T06:44:53.769034",
     "status": "completed"
    },
    "tags": []
   },
   "source": [
    "### Plot ROC curves for individual one-vs-rest classifiers"
   ]
  },
  {
   "cell_type": "code",
   "execution_count": 14,
   "id": "48f6d836",
   "metadata": {
    "execution": {
     "iopub.execute_input": "2022-11-29T06:44:53.786529Z",
     "iopub.status.busy": "2022-11-29T06:44:53.785902Z",
     "iopub.status.idle": "2022-11-29T06:44:54.136848Z",
     "shell.execute_reply": "2022-11-29T06:44:54.136080Z"
    },
    "papermill": {
     "duration": 0.359328,
     "end_time": "2022-11-29T06:44:54.139240",
     "exception": false,
     "start_time": "2022-11-29T06:44:53.779912",
     "status": "completed"
    },
    "tags": []
   },
   "outputs": [],
   "source": [
    "from sklearn import metrics"
   ]
  },
  {
   "cell_type": "code",
   "execution_count": 15,
   "id": "64a1ec14",
   "metadata": {
    "execution": {
     "iopub.execute_input": "2022-11-29T06:44:54.151580Z",
     "iopub.status.busy": "2022-11-29T06:44:54.151352Z",
     "iopub.status.idle": "2022-11-29T06:44:55.113623Z",
     "shell.execute_reply": "2022-11-29T06:44:55.112947Z"
    },
    "papermill": {
     "duration": 0.970302,
     "end_time": "2022-11-29T06:44:55.115208",
     "exception": false,
     "start_time": "2022-11-29T06:44:54.144906",
     "status": "completed"
    },
    "tags": []
   },
   "outputs": [
    {
     "data": {
      "image/png": "[encoded data removed]",
      "text/plain": [
       "<Figure size 1600x800 with 10 Axes>"
      ]
     },
     "metadata": {},
     "output_type": "display_data"
    }
   ],
   "source": [
    "def plot_roc_curves(y, y_pred_probs):\n",
    "    # based on example code\n",
    "    # https://scikit-learn.org/stable/auto_examples/model_selection/plot_roc.html\n",
    "\n",
    "    fig, axs = plt.subplots(nrows=2, ncols=5, figsize=(16, 8))\n",
    "\n",
    "    roc_auc_dict = {}\n",
    "\n",
    "    for (r, c), digit, ax in zip(\n",
    "        it.product(range(2), range(5)), range(10), axs.reshape(-1)\n",
    "    ):\n",
    "        fpr, tpr, _ = metrics.roc_curve(y == digit, y_pred_probs[:, digit])\n",
    "        auc = metrics.auc(fpr, tpr)\n",
    "        roc_auc_dict[str(digit)] = auc\n",
    "\n",
    "        ax.plot(fpr, tpr, label=f\"ROC AUC={round(auc, 3)}\")\n",
    "\n",
    "        ax.set_title(f\"\\nDigit {digit}\", fontsize=16)\n",
    "        if r == 1:\n",
    "            ax.set_xlabel(\"FPR\", fontsize=18)\n",
    "\n",
    "        if c == 0:\n",
    "            ax.set_ylabel(\"TPR\", fontsize=18)\n",
    "\n",
    "        ax.set_xlim([-0.05, 1.05])\n",
    "        ax.set_ylim([-0.05, 1.05])\n",
    "        ax.legend(loc=\"lower right\", frameon=False, fontsize=14)\n",
    "\n",
    "    fig.tight_layout()\n",
    "    fig.suptitle(\n",
    "        f\"ROC plots for one-vs-rest performances \"\n",
    "        f\"(on evaluation data, n={y_pred_probs_test.shape[1]}\",\n",
    "        fontsize=22,\n",
    "    )\n",
    "    fig.tight_layout()\n",
    "    fig.show()\n",
    "\n",
    "    return roc_auc_dict, fig\n",
    "\n",
    "\n",
    "roc_auc_dict, fig = plot_roc_curves(y_test, y_pred_probs_test)"
   ]
  },
  {
   "cell_type": "code",
   "execution_count": 16,
   "id": "e65a167b",
   "metadata": {
    "execution": {
     "iopub.execute_input": "2022-11-29T06:44:55.130028Z",
     "iopub.status.busy": "2022-11-29T06:44:55.129137Z",
     "iopub.status.idle": "2022-11-29T06:44:55.374861Z",
     "shell.execute_reply": "2022-11-29T06:44:55.373888Z"
    },
    "papermill": {
     "duration": 0.255029,
     "end_time": "2022-11-29T06:44:55.376607",
     "exception": false,
     "start_time": "2022-11-29T06:44:55.121578",
     "status": "completed"
    },
    "tags": []
   },
   "outputs": [],
   "source": [
    "logger.log_figure(\"per-digit-roc-curves.png\", fig)"
   ]
  },
  {
   "cell_type": "code",
   "execution_count": 17,
   "id": "68bc28a9",
   "metadata": {
    "execution": {
     "iopub.execute_input": "2022-11-29T06:44:55.390844Z",
     "iopub.status.busy": "2022-11-29T06:44:55.390411Z",
     "iopub.status.idle": "2022-11-29T06:44:55.395474Z",
     "shell.execute_reply": "2022-11-29T06:44:55.394815Z"
    },
    "papermill": {
     "duration": 0.014733,
     "end_time": "2022-11-29T06:44:55.397755",
     "exception": false,
     "start_time": "2022-11-29T06:44:55.383022",
     "status": "completed"
    },
    "tags": []
   },
   "outputs": [
    {
     "data": {
      "text/plain": [
       "{'0': 1.0,\n",
       " '1': 0.998987816307404,\n",
       " '2': 1.0,\n",
       " '3': 0.9998875351452671,\n",
       " '4': 0.9996189605243103,\n",
       " '5': 0.9994001874414246,\n",
       " '6': 0.999923792104862,\n",
       " '7': 0.9997332723670171,\n",
       " '8': 0.9953105296343001,\n",
       " '9': 0.9996189605243103}"
      ]
     },
     "execution_count": 17,
     "metadata": {},
     "output_type": "execute_result"
    }
   ],
   "source": [
    "roc_auc_dict"
   ]
  },
  {
   "cell_type": "code",
   "execution_count": 18,
   "id": "055b1778",
   "metadata": {
    "execution": {
     "iopub.execute_input": "2022-11-29T06:44:55.411891Z",
     "iopub.status.busy": "2022-11-29T06:44:55.411400Z",
     "iopub.status.idle": "2022-11-29T06:44:55.418447Z",
     "shell.execute_reply": "2022-11-29T06:44:55.417874Z"
    },
    "papermill": {
     "duration": 0.01598,
     "end_time": "2022-11-29T06:44:55.419955",
     "exception": false,
     "start_time": "2022-11-29T06:44:55.403975",
     "status": "completed"
    },
    "tags": []
   },
   "outputs": [
    {
     "name": "stdout",
     "output_type": "stream",
     "text": [
      " - Logging roc_auc_per_digit (json) : {'0': 1.0, '1': 0.998987816307404, '2': 1.0, '3': 0.9998875351452671, '4': 0.9996189605243103, '5': 0.9994001874414246, '6': 0.999923792104862, '7': 0.9997332723670171, '8': 0.9953105296343001, '9': 0.9996189605243103}\n"
     ]
    }
   ],
   "source": [
    "logger.log_value(\"roc_auc_per_digit\", roc_auc_dict)"
   ]
  },
  {
   "cell_type": "markdown",
   "id": "99302ff5",
   "metadata": {
    "papermill": {
     "duration": 0.006076,
     "end_time": "2022-11-29T06:44:55.432158",
     "exception": false,
     "start_time": "2022-11-29T06:44:55.426082",
     "status": "completed"
    },
    "tags": []
   },
   "source": [
    "### Compute and log mean ROC AUC score averaged over all digits"
   ]
  },
  {
   "cell_type": "code",
   "execution_count": 19,
   "id": "dae45ff2",
   "metadata": {
    "execution": {
     "iopub.execute_input": "2022-11-29T06:44:55.445894Z",
     "iopub.status.busy": "2022-11-29T06:44:55.445294Z",
     "iopub.status.idle": "2022-11-29T06:44:55.455827Z",
     "shell.execute_reply": "2022-11-29T06:44:55.455205Z"
    },
    "papermill": {
     "duration": 0.018981,
     "end_time": "2022-11-29T06:44:55.457288",
     "exception": false,
     "start_time": "2022-11-29T06:44:55.438307",
     "status": "completed"
    },
    "tags": []
   },
   "outputs": [
    {
     "name": "stdout",
     "output_type": "stream",
     "text": [
      " - Logging roc_auc_class_mean (float) : 0.9992481054048896\n"
     ]
    }
   ],
   "source": [
    "roc_auc_macro = np.mean(list(roc_auc_dict.values()))\n",
    "\n",
    "logger.log_float(\"roc_auc_class_mean\", roc_auc_macro)\n",
    "\n",
    "# assert that the same value can be computed directly using sklearn\n",
    "assert roc_auc_macro == metrics.roc_auc_score(\n",
    "    y_test, y_pred_probs_test, average=\"macro\", multi_class=\"ovr\"\n",
    ")"
   ]
  },
  {
   "cell_type": "code",
   "execution_count": 20,
   "id": "7f4fd811",
   "metadata": {
    "execution": {
     "iopub.execute_input": "2022-11-29T06:44:55.472498Z",
     "iopub.status.busy": "2022-11-29T06:44:55.471999Z",
     "iopub.status.idle": "2022-11-29T06:44:55.475446Z",
     "shell.execute_reply": "2022-11-29T06:44:55.474632Z"
    },
    "lines_to_next_cell": 0,
    "papermill": {
     "duration": 0.014144,
     "end_time": "2022-11-29T06:44:55.478240",
     "exception": false,
     "start_time": "2022-11-29T06:44:55.464096",
     "status": "completed"
    },
    "tags": []
   },
   "outputs": [],
   "source": [
    "# ---"
   ]
  },
  {
   "cell_type": "code",
   "execution_count": null,
   "id": "622f5e74",
   "metadata": {
    "papermill": {
     "duration": 0.006518,
     "end_time": "2022-11-29T06:44:55.491507",
     "exception": false,
     "start_time": "2022-11-29T06:44:55.484989",
     "status": "completed"
    },
    "tags": []
   },
   "outputs": [],
   "source": []
  }
 ],
 "metadata": {
  "jupytext": {
   "cell_metadata_filter": "tags,-all",
   "main_language": "python",
   "notebook_metadata_filter": "-all"
  },
  "language_info": {
   "codemirror_mode": {
    "name": "ipython",
    "version": 3
   },
   "file_extension": ".py",
   "mimetype": "text/x-python",
   "name": "python",
   "nbconvert_exporter": "python",
   "pygments_lexer": "ipython3",
   "version": "3.8.10"
  },
  "papermill": {
   "default_parameters": {},
   "duration": 8.607159,
   "end_time": "2022-11-29T06:44:56.517752",
   "environment_variables": {},
   "exception": null,
   "input_path": "/home/host_user/workspace/mnist-demo-pipeline/mnist-demo-pipeline/notebooks/temp-notebook-_p5yntkz.ipynb",
   "output_path": "notebooks/benchmark-model.ipynb",
   "parameters": {
    "P": {
     "_opentelemetry_traceparent": "00-609948c3182c1b41681d908af5a0b764-e9ed04a6f733ab4b-01",
     "pipeline.data_lake_root": "/pipeline-outputs/data-lake",
     "pipeline.github.actor": "matiasdahl",
     "pipeline.github.base_ref": "",
     "pipeline.github.event_name": "schedule",
     "pipeline.github.head_ref": "",
     "pipeline.github.job": "run-tests-pipeline-and-persist-pipeline-outputs",
     "pipeline.github.ref": "refs/heads/development",
     "pipeline.github.ref_name": "development",
     "pipeline.github.ref_type": "branch",
     "pipeline.github.repository": "matiasdahl/dev-mnist-digits-demo-pipeline",
     "pipeline.github.run_id": "3571661389",
     "pipeline.github.runner_name": "Hosted Agent",
     "pipeline.github.sha": "ace0d01011d5e914f1921450dd5a59c11367b38d",
     "pipeline.github.workflow": "Run automated tests, pipeline and deploy results to static reporting site",
     "pipeline.pipeline_run_id": "82b134e5-344c-4da6-8ccc-c5841de0b257",
     "pipeline.run_environment": "ci",
     "run.retry_nr": "0",
     "task.max_nr_retries": "1",
     "task.notebook": "notebooks/benchmark-model.py",
     "task.nr_train_images": 1000,
     "task.num_cpus": 1,
     "task.timeout_s": "None"
    }
   },
   "start_time": "2022-11-29T06:44:47.910593",
   "version": "2.3.3"
  }
 },
 "nbformat": 4,
 "nbformat_minor": 5
}