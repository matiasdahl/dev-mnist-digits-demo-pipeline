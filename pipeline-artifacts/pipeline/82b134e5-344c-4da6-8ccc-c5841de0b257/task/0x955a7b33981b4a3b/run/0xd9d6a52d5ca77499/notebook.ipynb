{
 "cells": [
  {
   "cell_type": "markdown",
   "id": "30ea56a9",
   "metadata": {
    "papermill": {
     "duration": 0.005487,
     "end_time": "2022-11-29T06:44:33.531105",
     "exception": false,
     "start_time": "2022-11-29T06:44:33.525618",
     "status": "completed"
    },
    "tags": []
   },
   "source": [
    "# Benchmark model\n",
    "\n",
    "The purpose of this notebook is to benchmark persisted onnx-model (trained in the\n",
    "previous step) against evaluation set."
   ]
  },
  {
   "cell_type": "markdown",
   "id": "e0222ada",
   "metadata": {
    "papermill": {
     "duration": 0.003968,
     "end_time": "2022-11-29T06:44:33.539452",
     "exception": false,
     "start_time": "2022-11-29T06:44:33.535484",
     "status": "completed"
    },
    "tags": []
   },
   "source": [
    "### Determine run parameters"
   ]
  },
  {
   "cell_type": "code",
   "execution_count": 1,
   "id": "4b0cfd3e",
   "metadata": {
    "execution": {
     "iopub.execute_input": "2022-11-29T06:44:33.548802Z",
     "iopub.status.busy": "2022-11-29T06:44:33.548484Z",
     "iopub.status.idle": "2022-11-29T06:44:33.557026Z",
     "shell.execute_reply": "2022-11-29T06:44:33.556491Z"
    },
    "lines_to_next_cell": 0,
    "papermill": {
     "duration": 0.015399,
     "end_time": "2022-11-29T06:44:33.558785",
     "exception": false,
     "start_time": "2022-11-29T06:44:33.543386",
     "status": "completed"
    },
    "tags": []
   },
   "outputs": [],
   "source": [
    "# ----------------- Parameters for interactive development --------------\n",
    "P = {\n",
    "    \"pipeline.data_lake_root\": \"/pipeline-outputs/data-lake\",\n",
    "    \"task.nr_train_images\": 600,\n",
    "}"
   ]
  },
  {
   "cell_type": "code",
   "execution_count": 2,
   "id": "8bf2cbc2",
   "metadata": {
    "execution": {
     "iopub.execute_input": "2022-11-29T06:44:33.568055Z",
     "iopub.status.busy": "2022-11-29T06:44:33.567836Z",
     "iopub.status.idle": "2022-11-29T06:44:33.570809Z",
     "shell.execute_reply": "2022-11-29T06:44:33.570219Z"
    },
    "lines_to_next_cell": 0,
    "papermill": {
     "duration": 0.010247,
     "end_time": "2022-11-29T06:44:33.573353",
     "exception": false,
     "start_time": "2022-11-29T06:44:33.563106",
     "status": "completed"
    },
    "tags": [
     "parameters"
    ]
   },
   "outputs": [],
   "source": [
    "# - During automated runs parameters will be injected in the below cell -"
   ]
  },
  {
   "cell_type": "code",
   "execution_count": 3,
   "id": "7a5e5a0f",
   "metadata": {
    "execution": {
     "iopub.execute_input": "2022-11-29T06:44:33.582467Z",
     "iopub.status.busy": "2022-11-29T06:44:33.582247Z",
     "iopub.status.idle": "2022-11-29T06:44:33.586666Z",
     "shell.execute_reply": "2022-11-29T06:44:33.586154Z"
    },
    "papermill": {
     "duration": 0.014283,
     "end_time": "2022-11-29T06:44:33.591617",
     "exception": false,
     "start_time": "2022-11-29T06:44:33.577334",
     "status": "completed"
    },
    "tags": [
     "injected-parameters"
    ]
   },
   "outputs": [],
   "source": [
    "# Parameters\n",
    "P = {\n",
    "    \"pipeline.data_lake_root\": \"/pipeline-outputs/data-lake\",\n",
    "    \"pipeline.run_environment\": \"ci\",\n",
    "    \"pipeline.pipeline_run_id\": \"82b134e5-344c-4da6-8ccc-c5841de0b257\",\n",
    "    \"pipeline.github.repository\": \"matiasdahl/dev-mnist-digits-demo-pipeline\",\n",
    "    \"pipeline.github.workflow\": \"Run automated tests, pipeline and deploy results to static reporting site\",\n",
    "    \"pipeline.github.runner_name\": \"Hosted Agent\",\n",
    "    \"pipeline.github.run_id\": \"3571661389\",\n",
    "    \"pipeline.github.actor\": \"matiasdahl\",\n",
    "    \"pipeline.github.job\": \"run-tests-pipeline-and-persist-pipeline-outputs\",\n",
    "    \"pipeline.github.base_ref\": \"\",\n",
    "    \"pipeline.github.head_ref\": \"\",\n",
    "    \"pipeline.github.sha\": \"ace0d01011d5e914f1921450dd5a59c11367b38d\",\n",
    "    \"pipeline.github.ref\": \"refs/heads/development\",\n",
    "    \"pipeline.github.ref_type\": \"branch\",\n",
    "    \"pipeline.github.ref_name\": \"development\",\n",
    "    \"pipeline.github.event_name\": \"schedule\",\n",
    "    \"task.nr_train_images\": 600,\n",
    "    \"task.notebook\": \"notebooks/benchmark-model.py\",\n",
    "    \"task.max_nr_retries\": \"1\",\n",
    "    \"run.retry_nr\": \"0\",\n",
    "    \"task.timeout_s\": \"None\",\n",
    "    \"task.num_cpus\": 1,\n",
    "    \"_opentelemetry_traceparent\": \"00-609948c3182c1b41681d908af5a0b764-63633439bd7ce165-01\",\n",
    "}\n"
   ]
  },
  {
   "cell_type": "code",
   "execution_count": 4,
   "id": "cb337f46",
   "metadata": {
    "execution": {
     "iopub.execute_input": "2022-11-29T06:44:33.600372Z",
     "iopub.status.busy": "2022-11-29T06:44:33.600157Z",
     "iopub.status.idle": "2022-11-29T06:44:33.602907Z",
     "shell.execute_reply": "2022-11-29T06:44:33.602406Z"
    },
    "lines_to_next_cell": 0,
    "papermill": {
     "duration": 0.00961,
     "end_time": "2022-11-29T06:44:33.605023",
     "exception": false,
     "start_time": "2022-11-29T06:44:33.595413",
     "status": "completed"
    },
    "tags": []
   },
   "outputs": [],
   "source": [
    "# -----------------------------------------------------------------------"
   ]
  },
  {
   "cell_type": "markdown",
   "id": "2d20c3be",
   "metadata": {
    "papermill": {
     "duration": 0.004151,
     "end_time": "2022-11-29T06:44:33.613175",
     "exception": false,
     "start_time": "2022-11-29T06:44:33.609024",
     "status": "completed"
    },
    "tags": []
   },
   "source": [
    "---"
   ]
  },
  {
   "cell_type": "markdown",
   "id": "ce46926d",
   "metadata": {
    "lines_to_next_cell": 2,
    "papermill": {
     "duration": 0.003818,
     "end_time": "2022-11-29T06:44:33.621113",
     "exception": false,
     "start_time": "2022-11-29T06:44:33.617295",
     "status": "completed"
    },
    "tags": []
   },
   "source": [
    "### Notebook code"
   ]
  },
  {
   "cell_type": "code",
   "execution_count": 5,
   "id": "2fc7561b",
   "metadata": {
    "execution": {
     "iopub.execute_input": "2022-11-29T06:44:33.631050Z",
     "iopub.status.busy": "2022-11-29T06:44:33.630830Z",
     "iopub.status.idle": "2022-11-29T06:44:34.725021Z",
     "shell.execute_reply": "2022-11-29T06:44:34.724343Z"
    },
    "papermill": {
     "duration": 1.101512,
     "end_time": "2022-11-29T06:44:34.727475",
     "exception": false,
     "start_time": "2022-11-29T06:44:33.625963",
     "status": "completed"
    },
    "tags": []
   },
   "outputs": [
    {
     "name": "stderr",
     "output_type": "stream",
     "text": [
      "2022-11-29 06:44:34,535\tINFO worker.py:842 -- Connecting to existing Ray cluster at address: 172.17.0.2:6379\n"
     ]
    }
   ],
   "source": [
    "import itertools as it\n",
    "\n",
    "#\n",
    "import numpy as np\n",
    "import matplotlib.pyplot as plt\n",
    "\n",
    "#\n",
    "from pynb_dag_runner.tasks.task_opentelemetry_logging import PydarLogger\n",
    "\n",
    "#\n",
    "from common.io import datalake_root\n",
    "\n",
    "logger = PydarLogger(P)"
   ]
  },
  {
   "cell_type": "markdown",
   "id": "0b71b986",
   "metadata": {
    "papermill": {
     "duration": 0.004664,
     "end_time": "2022-11-29T06:44:34.739034",
     "exception": false,
     "start_time": "2022-11-29T06:44:34.734370",
     "status": "completed"
    },
    "tags": []
   },
   "source": [
    "## Load persisted onnx-model and evaluation data"
   ]
  },
  {
   "cell_type": "code",
   "execution_count": 6,
   "id": "57112c6c",
   "metadata": {
    "execution": {
     "iopub.execute_input": "2022-11-29T06:44:34.750964Z",
     "iopub.status.busy": "2022-11-29T06:44:34.750117Z",
     "iopub.status.idle": "2022-11-29T06:44:34.754204Z",
     "shell.execute_reply": "2022-11-29T06:44:34.753598Z"
    },
    "papermill": {
     "duration": 0.012143,
     "end_time": "2022-11-29T06:44:34.756583",
     "exception": false,
     "start_time": "2022-11-29T06:44:34.744440",
     "status": "completed"
    },
    "tags": []
   },
   "outputs": [],
   "source": [
    "from common.io import read_onnx, get_onnx_inputs, get_onnx_outputs, read_numpy"
   ]
  },
  {
   "cell_type": "code",
   "execution_count": 7,
   "id": "8519eccc",
   "metadata": {
    "execution": {
     "iopub.execute_input": "2022-11-29T06:44:34.768194Z",
     "iopub.status.busy": "2022-11-29T06:44:34.767956Z",
     "iopub.status.idle": "2022-11-29T06:44:34.779455Z",
     "shell.execute_reply": "2022-11-29T06:44:34.778878Z"
    },
    "lines_to_next_cell": 0,
    "papermill": {
     "duration": 0.019863,
     "end_time": "2022-11-29T06:44:34.781919",
     "exception": false,
     "start_time": "2022-11-29T06:44:34.762056",
     "status": "completed"
    },
    "tags": []
   },
   "outputs": [],
   "source": [
    "onnx_inference_session = read_onnx(\n",
    "    datalake_root(P)\n",
    "    / \"models\"\n",
    "    / f\"nr_train_images={P['task.nr_train_images']}\"\n",
    "    / \"model.onnx\"\n",
    ")"
   ]
  },
  {
   "cell_type": "markdown",
   "id": "a3a01354",
   "metadata": {
    "papermill": {
     "duration": 0.004334,
     "end_time": "2022-11-29T06:44:34.790971",
     "exception": false,
     "start_time": "2022-11-29T06:44:34.786637",
     "status": "completed"
    },
    "tags": []
   },
   "source": [
    "### Record structure of inputs and outputs for ONNX model\n",
    "\n",
    "(this should likely be done in training notebook)"
   ]
  },
  {
   "cell_type": "code",
   "execution_count": 8,
   "id": "568814cc",
   "metadata": {
    "execution": {
     "iopub.execute_input": "2022-11-29T06:44:34.802939Z",
     "iopub.status.busy": "2022-11-29T06:44:34.802674Z",
     "iopub.status.idle": "2022-11-29T06:44:34.808611Z",
     "shell.execute_reply": "2022-11-29T06:44:34.808052Z"
    },
    "papermill": {
     "duration": 0.015445,
     "end_time": "2022-11-29T06:44:34.811932",
     "exception": false,
     "start_time": "2022-11-29T06:44:34.796487",
     "status": "completed"
    },
    "tags": []
   },
   "outputs": [
    {
     "name": "stdout",
     "output_type": "stream",
     "text": [
      "{\n",
      "  \"inputs\": [\n",
      "    {\n",
      "      \"name\": \"float_input_8x8_image\",\n",
      "      \"shape\": [\n",
      "        null,\n",
      "        64\n",
      "      ],\n",
      "      \"type\": \"tensor(float)\"\n",
      "    }\n",
      "  ],\n",
      "  \"outputs\": [\n",
      "    {\n",
      "      \"name\": \"output_label\",\n",
      "      \"shape\": [\n",
      "        null\n",
      "      ],\n",
      "      \"type\": \"tensor(int64)\"\n",
      "    },\n",
      "    {\n",
      "      \"name\": \"output_probability\",\n",
      "      \"shape\": [],\n",
      "      \"type\": \"seq(map(int64,tensor(float)))\"\n",
      "    }\n",
      "  ]\n",
      "}\n"
     ]
    }
   ],
   "source": [
    "import json\n",
    "\n",
    "onnx_io = json.dumps(\n",
    "    {\n",
    "        \"inputs\": get_onnx_inputs(onnx_inference_session),\n",
    "        \"outputs\": get_onnx_outputs(onnx_inference_session),\n",
    "    },\n",
    "    indent=2,\n",
    ")\n",
    "\n",
    "\n",
    "logger.log_artefact(\"onnx_io_structure.json\", onnx_io)\n",
    "print(onnx_io)"
   ]
  },
  {
   "cell_type": "markdown",
   "id": "4ffc30c0",
   "metadata": {
    "papermill": {
     "duration": 0.008942,
     "end_time": "2022-11-29T06:44:34.825477",
     "exception": false,
     "start_time": "2022-11-29T06:44:34.816535",
     "status": "completed"
    },
    "tags": []
   },
   "source": [
    "### Evaluate model performance on evaluation data set"
   ]
  },
  {
   "cell_type": "code",
   "execution_count": 9,
   "id": "a6d6e134",
   "metadata": {
    "execution": {
     "iopub.execute_input": "2022-11-29T06:44:34.837041Z",
     "iopub.status.busy": "2022-11-29T06:44:34.836317Z",
     "iopub.status.idle": "2022-11-29T06:44:34.841430Z",
     "shell.execute_reply": "2022-11-29T06:44:34.840791Z"
    },
    "papermill": {
     "duration": 0.014074,
     "end_time": "2022-11-29T06:44:34.843982",
     "exception": false,
     "start_time": "2022-11-29T06:44:34.829908",
     "status": "completed"
    },
    "tags": []
   },
   "outputs": [],
   "source": [
    "# load evaluation data\n",
    "X_test = read_numpy(datalake_root(P) / \"test-data\" / \"digits.numpy\")\n",
    "y_test = read_numpy(datalake_root(P) / \"test-data\" / \"labels.numpy\")"
   ]
  },
  {
   "cell_type": "code",
   "execution_count": 10,
   "id": "e96bc2ea",
   "metadata": {
    "execution": {
     "iopub.execute_input": "2022-11-29T06:44:34.854881Z",
     "iopub.status.busy": "2022-11-29T06:44:34.854646Z",
     "iopub.status.idle": "2022-11-29T06:44:34.905232Z",
     "shell.execute_reply": "2022-11-29T06:44:34.904645Z"
    },
    "papermill": {
     "duration": 0.058199,
     "end_time": "2022-11-29T06:44:34.906833",
     "exception": false,
     "start_time": "2022-11-29T06:44:34.848634",
     "status": "completed"
    },
    "tags": []
   },
   "outputs": [],
   "source": [
    "def get_model_outputs(X, onnx_inference_session):\n",
    "    y_pred_labels, y_pred_map = onnx_inference_session.run(\n",
    "        [\"output_label\", \"output_probability\"],\n",
    "        {\"float_input_8x8_image\": X.astype(np.float32)},\n",
    "    )\n",
    "    y_pred_probs = np.array(\n",
    "        [[probabilities[digit] for digit in range(10)] for probabilities in y_pred_map]\n",
    "    )\n",
    "\n",
    "    assert y_pred_labels.shape == (X.shape[0],)\n",
    "    assert y_pred_probs.shape == (X.shape[0], 10)\n",
    "\n",
    "    return y_pred_labels, y_pred_probs\n",
    "\n",
    "\n",
    "# Note: as shown in the training notebook, the predicted labels and probabilities\n",
    "# computed below need not be compatible.\n",
    "y_pred_labels_test, y_pred_probs_test = get_model_outputs(\n",
    "    X_test, onnx_inference_session\n",
    ")"
   ]
  },
  {
   "cell_type": "markdown",
   "id": "17fc15f7",
   "metadata": {
    "papermill": {
     "duration": 0.005129,
     "end_time": "2022-11-29T06:44:34.916966",
     "exception": false,
     "start_time": "2022-11-29T06:44:34.911837",
     "status": "completed"
    },
    "tags": []
   },
   "source": [
    "### Confusion matrix"
   ]
  },
  {
   "cell_type": "code",
   "execution_count": 11,
   "id": "5a3a5c39",
   "metadata": {
    "execution": {
     "iopub.execute_input": "2022-11-29T06:44:34.931736Z",
     "iopub.status.busy": "2022-11-29T06:44:34.931471Z",
     "iopub.status.idle": "2022-11-29T06:44:34.935425Z",
     "shell.execute_reply": "2022-11-29T06:44:34.934870Z"
    },
    "papermill": {
     "duration": 0.011039,
     "end_time": "2022-11-29T06:44:34.937166",
     "exception": false,
     "start_time": "2022-11-29T06:44:34.926127",
     "status": "completed"
    },
    "tags": []
   },
   "outputs": [],
   "source": [
    "# TODO"
   ]
  },
  {
   "cell_type": "markdown",
   "id": "9e436b6b",
   "metadata": {
    "papermill": {
     "duration": 0.004328,
     "end_time": "2022-11-29T06:44:34.948510",
     "exception": false,
     "start_time": "2022-11-29T06:44:34.944182",
     "status": "completed"
    },
    "tags": []
   },
   "source": [
    "### Plot predicted probabilities for each classifier over all evaluation digit images"
   ]
  },
  {
   "cell_type": "code",
   "execution_count": 12,
   "id": "315a7934",
   "metadata": {
    "execution": {
     "iopub.execute_input": "2022-11-29T06:44:34.960821Z",
     "iopub.status.busy": "2022-11-29T06:44:34.960560Z",
     "iopub.status.idle": "2022-11-29T06:44:37.797453Z",
     "shell.execute_reply": "2022-11-29T06:44:37.796759Z"
    },
    "papermill": {
     "duration": 2.845977,
     "end_time": "2022-11-29T06:44:37.799066",
     "exception": false,
     "start_time": "2022-11-29T06:44:34.953089",
     "status": "completed"
    },
    "tags": []
   },
   "outputs": [
    {
     "data": {
      "image/png": "[encoded data removed]",
      "text/plain": [
       "<Figure size 1600x600 with 10 Axes>"
      ]
     },
     "metadata": {},
     "output_type": "display_data"
    }
   ],
   "source": [
    "def plot_per_digit_probabilities(y_pred_probs):\n",
    "    fig, axs = plt.subplots(nrows=2, ncols=5, figsize=(16, 6))\n",
    "\n",
    "    for (r, c), digit, ax in zip(\n",
    "        it.product(range(2), range(5)), range(10), axs.reshape(-1)\n",
    "    ):\n",
    "        ax.hist(y_pred_probs_test[:, digit], bins=20)\n",
    "\n",
    "        ax.set_title(f\"Digit {digit}\")\n",
    "        if r == 1 and c == 2:\n",
    "            ax.set_xlabel(\"probability\", fontsize=16)\n",
    "\n",
    "        if c == 0:\n",
    "            ax.set_ylabel(\"counts\", fontsize=16)\n",
    "        ax.set_yscale(\"log\")\n",
    "\n",
    "    fig.tight_layout()\n",
    "    fig.suptitle(\n",
    "        f\"Distributions of prediction probabilities for each digit \"\n",
    "        f\"(on evaluation data, n={y_pred_probs.shape[0]})\",\n",
    "        fontsize=20,\n",
    "    )\n",
    "    fig.tight_layout()\n",
    "    fig.show()\n",
    "\n",
    "    return fig\n",
    "\n",
    "\n",
    "fig = plot_per_digit_probabilities(y_pred_probs_test)"
   ]
  },
  {
   "cell_type": "markdown",
   "id": "b7cc1f55",
   "metadata": {
    "papermill": {
     "duration": 0.005798,
     "end_time": "2022-11-29T06:44:37.811264",
     "exception": false,
     "start_time": "2022-11-29T06:44:37.805466",
     "status": "completed"
    },
    "tags": []
   },
   "source": [
    "From the above distributions we see that most digits have clear separation between\n",
    "high and lower probabilities. Morover, in each case there is roughly an order of\n",
    "magnitude more of digits with low probabilities. This is compatible with digits\n",
    "being roughly evenly distributed in the data."
   ]
  },
  {
   "cell_type": "code",
   "execution_count": 13,
   "id": "6d24d781",
   "metadata": {
    "execution": {
     "iopub.execute_input": "2022-11-29T06:44:37.823501Z",
     "iopub.status.busy": "2022-11-29T06:44:37.823231Z",
     "iopub.status.idle": "2022-11-29T06:44:38.248054Z",
     "shell.execute_reply": "2022-11-29T06:44:38.247307Z"
    },
    "papermill": {
     "duration": 0.43344,
     "end_time": "2022-11-29T06:44:38.249829",
     "exception": false,
     "start_time": "2022-11-29T06:44:37.816389",
     "status": "completed"
    },
    "tags": []
   },
   "outputs": [],
   "source": [
    "logger.log_figure(\"per-digit-probabilities.png\", fig)"
   ]
  },
  {
   "cell_type": "markdown",
   "id": "e3713283",
   "metadata": {
    "papermill": {
     "duration": 0.005158,
     "end_time": "2022-11-29T06:44:38.260253",
     "exception": false,
     "start_time": "2022-11-29T06:44:38.255095",
     "status": "completed"
    },
    "tags": []
   },
   "source": [
    "### Plot ROC curves for individual one-vs-rest classifiers"
   ]
  },
  {
   "cell_type": "code",
   "execution_count": 14,
   "id": "162e906d",
   "metadata": {
    "execution": {
     "iopub.execute_input": "2022-11-29T06:44:38.272998Z",
     "iopub.status.busy": "2022-11-29T06:44:38.272709Z",
     "iopub.status.idle": "2022-11-29T06:44:38.659153Z",
     "shell.execute_reply": "2022-11-29T06:44:38.658576Z"
    },
    "papermill": {
     "duration": 0.395061,
     "end_time": "2022-11-29T06:44:38.660996",
     "exception": false,
     "start_time": "2022-11-29T06:44:38.265935",
     "status": "completed"
    },
    "tags": []
   },
   "outputs": [],
   "source": [
    "from sklearn import metrics"
   ]
  },
  {
   "cell_type": "code",
   "execution_count": 15,
   "id": "7a45bb8d",
   "metadata": {
    "execution": {
     "iopub.execute_input": "2022-11-29T06:44:38.675006Z",
     "iopub.status.busy": "2022-11-29T06:44:38.674643Z",
     "iopub.status.idle": "2022-11-29T06:44:39.746402Z",
     "shell.execute_reply": "2022-11-29T06:44:39.745752Z"
    },
    "papermill": {
     "duration": 1.081049,
     "end_time": "2022-11-29T06:44:39.748284",
     "exception": false,
     "start_time": "2022-11-29T06:44:38.667235",
     "status": "completed"
    },
    "tags": []
   },
   "outputs": [
    {
     "name": "stdout",
     "output_type": "stream",
     "text": [
      "\u001b[2m\u001b[1m\u001b[36m(scheduler +4s)\u001b[0m Tip: use `ray status` to view detailed cluster status. To disable these messages, set RAY_SCHEDULER_EVENTS=0.\n",
      "\u001b[2m\u001b[1m\u001b[33m(scheduler +4s)\u001b[0m Warning: The following resource request cannot be scheduled right now: {'CPU': 1.0}. This is likely due to all cluster resources being claimed by actors. Consider creating fewer actors or adding more nodes to this Ray cluster.\n"
     ]
    },
    {
     "data": {
      "image/png": "[encoded data removed]",
      "text/plain": [
       "<Figure size 1600x800 with 10 Axes>"
      ]
     },
     "metadata": {},
     "output_type": "display_data"
    }
   ],
   "source": [
    "def plot_roc_curves(y, y_pred_probs):\n",
    "    # based on example code\n",
    "    # https://scikit-learn.org/stable/auto_examples/model_selection/plot_roc.html\n",
    "\n",
    "    fig, axs = plt.subplots(nrows=2, ncols=5, figsize=(16, 8))\n",
    "\n",
    "    roc_auc_dict = {}\n",
    "\n",
    "    for (r, c), digit, ax in zip(\n",
    "        it.product(range(2), range(5)), range(10), axs.reshape(-1)\n",
    "    ):\n",
    "        fpr, tpr, _ = metrics.roc_curve(y == digit, y_pred_probs[:, digit])\n",
    "        auc = metrics.auc(fpr, tpr)\n",
    "        roc_auc_dict[str(digit)] = auc\n",
    "\n",
    "        ax.plot(fpr, tpr, label=f\"ROC AUC={round(auc, 3)}\")\n",
    "\n",
    "        ax.set_title(f\"\\nDigit {digit}\", fontsize=16)\n",
    "        if r == 1:\n",
    "            ax.set_xlabel(\"FPR\", fontsize=18)\n",
    "\n",
    "        if c == 0:\n",
    "            ax.set_ylabel(\"TPR\", fontsize=18)\n",
    "\n",
    "        ax.set_xlim([-0.05, 1.05])\n",
    "        ax.set_ylim([-0.05, 1.05])\n",
    "        ax.legend(loc=\"lower right\", frameon=False, fontsize=14)\n",
    "\n",
    "    fig.tight_layout()\n",
    "    fig.suptitle(\n",
    "        f\"ROC plots for one-vs-rest performances \"\n",
    "        f\"(on evaluation data, n={y_pred_probs_test.shape[1]}\",\n",
    "        fontsize=22,\n",
    "    )\n",
    "    fig.tight_layout()\n",
    "    fig.show()\n",
    "\n",
    "    return roc_auc_dict, fig\n",
    "\n",
    "\n",
    "roc_auc_dict, fig = plot_roc_curves(y_test, y_pred_probs_test)"
   ]
  },
  {
   "cell_type": "code",
   "execution_count": 16,
   "id": "8f4e5451",
   "metadata": {
    "execution": {
     "iopub.execute_input": "2022-11-29T06:44:39.762804Z",
     "iopub.status.busy": "2022-11-29T06:44:39.762517Z",
     "iopub.status.idle": "2022-11-29T06:44:40.025131Z",
     "shell.execute_reply": "2022-11-29T06:44:40.024523Z"
    },
    "papermill": {
     "duration": 0.272051,
     "end_time": "2022-11-29T06:44:40.027073",
     "exception": false,
     "start_time": "2022-11-29T06:44:39.755022",
     "status": "completed"
    },
    "tags": []
   },
   "outputs": [],
   "source": [
    "logger.log_figure(\"per-digit-roc-curves.png\", fig)"
   ]
  },
  {
   "cell_type": "code",
   "execution_count": 17,
   "id": "35627e16",
   "metadata": {
    "execution": {
     "iopub.execute_input": "2022-11-29T06:44:40.046220Z",
     "iopub.status.busy": "2022-11-29T06:44:40.045943Z",
     "iopub.status.idle": "2022-11-29T06:44:40.050496Z",
     "shell.execute_reply": "2022-11-29T06:44:40.049959Z"
    },
    "papermill": {
     "duration": 0.019793,
     "end_time": "2022-11-29T06:44:40.053902",
     "exception": false,
     "start_time": "2022-11-29T06:44:40.034109",
     "status": "completed"
    },
    "tags": []
   },
   "outputs": [
    {
     "data": {
      "text/plain": [
       "{'0': 1.0,\n",
       " '1': 0.9992877225866916,\n",
       " '2': 1.0,\n",
       " '3': 0.9997375820056232,\n",
       " '4': 0.9991617131534827,\n",
       " '5': 0.9988003748828491,\n",
       " '6': 0.999961896052431,\n",
       " '7': 0.9998475842097241,\n",
       " '8': 0.9944435687263556,\n",
       " '9': 0.998704465782655}"
      ]
     },
     "execution_count": 17,
     "metadata": {},
     "output_type": "execute_result"
    }
   ],
   "source": [
    "roc_auc_dict"
   ]
  },
  {
   "cell_type": "code",
   "execution_count": 18,
   "id": "435aee15",
   "metadata": {
    "execution": {
     "iopub.execute_input": "2022-11-29T06:44:40.069125Z",
     "iopub.status.busy": "2022-11-29T06:44:40.068859Z",
     "iopub.status.idle": "2022-11-29T06:44:40.073062Z",
     "shell.execute_reply": "2022-11-29T06:44:40.072532Z"
    },
    "papermill": {
     "duration": 0.01565,
     "end_time": "2022-11-29T06:44:40.076132",
     "exception": false,
     "start_time": "2022-11-29T06:44:40.060482",
     "status": "completed"
    },
    "tags": []
   },
   "outputs": [
    {
     "name": "stdout",
     "output_type": "stream",
     "text": [
      " - Logging roc_auc_per_digit (json) : {'0': 1.0, '1': 0.9992877225866916, '2': 1.0, '3': 0.9997375820056232, '4': 0.9991617131534827, '5': 0.9988003748828491, '6': 0.999961896052431, '7': 0.9998475842097241, '8': 0.9944435687263556, '9': 0.998704465782655}\n"
     ]
    }
   ],
   "source": [
    "logger.log_value(\"roc_auc_per_digit\", roc_auc_dict)"
   ]
  },
  {
   "cell_type": "markdown",
   "id": "e33fd7f6",
   "metadata": {
    "papermill": {
     "duration": 0.006388,
     "end_time": "2022-11-29T06:44:40.089371",
     "exception": false,
     "start_time": "2022-11-29T06:44:40.082983",
     "status": "completed"
    },
    "tags": []
   },
   "source": [
    "### Compute and log mean ROC AUC score averaged over all digits"
   ]
  },
  {
   "cell_type": "code",
   "execution_count": 19,
   "id": "6f5d3a10",
   "metadata": {
    "execution": {
     "iopub.execute_input": "2022-11-29T06:44:40.103814Z",
     "iopub.status.busy": "2022-11-29T06:44:40.103545Z",
     "iopub.status.idle": "2022-11-29T06:44:40.116950Z",
     "shell.execute_reply": "2022-11-29T06:44:40.116195Z"
    },
    "papermill": {
     "duration": 0.022392,
     "end_time": "2022-11-29T06:44:40.118539",
     "exception": false,
     "start_time": "2022-11-29T06:44:40.096147",
     "status": "completed"
    },
    "tags": []
   },
   "outputs": [
    {
     "name": "stdout",
     "output_type": "stream",
     "text": [
      " - Logging roc_auc_class_mean (float) : 0.9989944907399811\n"
     ]
    }
   ],
   "source": [
    "roc_auc_macro = np.mean(list(roc_auc_dict.values()))\n",
    "\n",
    "logger.log_float(\"roc_auc_class_mean\", roc_auc_macro)\n",
    "\n",
    "# assert that the same value can be computed directly using sklearn\n",
    "assert roc_auc_macro == metrics.roc_auc_score(\n",
    "    y_test, y_pred_probs_test, average=\"macro\", multi_class=\"ovr\"\n",
    ")"
   ]
  },
  {
   "cell_type": "code",
   "execution_count": 20,
   "id": "eeaa0e27",
   "metadata": {
    "execution": {
     "iopub.execute_input": "2022-11-29T06:44:40.133053Z",
     "iopub.status.busy": "2022-11-29T06:44:40.132576Z",
     "iopub.status.idle": "2022-11-29T06:44:40.136183Z",
     "shell.execute_reply": "2022-11-29T06:44:40.135267Z"
    },
    "lines_to_next_cell": 0,
    "papermill": {
     "duration": 0.012717,
     "end_time": "2022-11-29T06:44:40.137685",
     "exception": false,
     "start_time": "2022-11-29T06:44:40.124968",
     "status": "completed"
    },
    "tags": []
   },
   "outputs": [],
   "source": [
    "# ---"
   ]
  },
  {
   "cell_type": "code",
   "execution_count": null,
   "id": "9cb9f8e5",
   "metadata": {
    "papermill": {
     "duration": 0.006422,
     "end_time": "2022-11-29T06:44:40.152588",
     "exception": false,
     "start_time": "2022-11-29T06:44:40.146166",
     "status": "completed"
    },
    "tags": []
   },
   "outputs": [],
   "source": []
  }
 ],
 "metadata": {
  "jupytext": {
   "cell_metadata_filter": "tags,-all",
   "main_language": "python",
   "notebook_metadata_filter": "-all"
  },
  "language_info": {
   "codemirror_mode": {
    "name": "ipython",
    "version": 3
   },
   "file_extension": ".py",
   "mimetype": "text/x-python",
   "name": "python",
   "nbconvert_exporter": "python",
   "pygments_lexer": "ipython3",
   "version": "3.8.10"
  },
  "papermill": {
   "default_parameters": {},
   "duration": 8.908023,
   "end_time": "2022-11-29T06:44:41.178632",
   "environment_variables": {},
   "exception": null,
   "input_path": "/home/host_user/workspace/mnist-demo-pipeline/mnist-demo-pipeline/notebooks/temp-notebook-oa8is67c.ipynb",
   "output_path": "notebooks/benchmark-model.ipynb",
   "parameters": {
    "P": {
     "_opentelemetry_traceparent": "00-609948c3182c1b41681d908af5a0b764-63633439bd7ce165-01",
     "pipeline.data_lake_root": "/pipeline-outputs/data-lake",
     "pipeline.github.actor": "matiasdahl",
     "pipeline.github.base_ref": "",
     "pipeline.github.event_name": "schedule",
     "pipeline.github.head_ref": "",
     "pipeline.github.job": "run-tests-pipeline-and-persist-pipeline-outputs",
     "pipeline.github.ref": "refs/heads/development",
     "pipeline.github.ref_name": "development",
     "pipeline.github.ref_type": "branch",
     "pipeline.github.repository": "matiasdahl/dev-mnist-digits-demo-pipeline",
     "pipeline.github.run_id": "3571661389",
     "pipeline.github.runner_name": "Hosted Agent",
     "pipeline.github.sha": "ace0d01011d5e914f1921450dd5a59c11367b38d",
     "pipeline.github.workflow": "Run automated tests, pipeline and deploy results to static reporting site",
     "pipeline.pipeline_run_id": "82b134e5-344c-4da6-8ccc-c5841de0b257",
     "pipeline.run_environment": "ci",
     "run.retry_nr": "0",
     "task.max_nr_retries": "1",
     "task.notebook": "notebooks/benchmark-model.py",
     "task.nr_train_images": 600,
     "task.num_cpus": 1,
     "task.timeout_s": "None"
    }
   },
   "start_time": "2022-11-29T06:44:32.270609",
   "version": "2.3.3"
  }
 },
 "nbformat": 4,
 "nbformat_minor": 5
}