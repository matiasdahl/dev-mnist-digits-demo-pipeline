{
 "cells": [
  {
   "cell_type": "markdown",
   "id": "c5a6aa41",
   "metadata": {
    "tags": [
     "papermill-error-cell-tag"
    ]
   },
   "source": [
    "<span style=\"color:red; font-family:Helvetica Neue, Helvetica, Arial, sans-serif; font-size:2em;\">An Exception was encountered at '<a href=\"#papermill-error-cell\">In [6]</a>'.</span>"
   ]
  },
  {
   "cell_type": "markdown",
   "id": "55bbce7f",
   "metadata": {
    "papermill": {
     "duration": 0.003667,
     "end_time": "2022-11-29T06:43:30.390758",
     "exception": false,
     "start_time": "2022-11-29T06:43:30.387091",
     "status": "completed"
    },
    "tags": []
   },
   "source": [
    "# Ingest toy version of MNIST digit data from sklearn"
   ]
  },
  {
   "cell_type": "markdown",
   "id": "714abcdb",
   "metadata": {
    "papermill": {
     "duration": 0.00216,
     "end_time": "2022-11-29T06:43:30.395602",
     "exception": false,
     "start_time": "2022-11-29T06:43:30.393442",
     "status": "completed"
    },
    "tags": []
   },
   "source": [
    "### Determine run parameters"
   ]
  },
  {
   "cell_type": "code",
   "execution_count": 1,
   "id": "0261c640",
   "metadata": {
    "execution": {
     "iopub.execute_input": "2022-11-29T06:43:30.402042Z",
     "iopub.status.busy": "2022-11-29T06:43:30.401297Z",
     "iopub.status.idle": "2022-11-29T06:43:30.408531Z",
     "shell.execute_reply": "2022-11-29T06:43:30.407868Z"
    },
    "lines_to_next_cell": 0,
    "papermill": {
     "duration": 0.012381,
     "end_time": "2022-11-29T06:43:30.410289",
     "exception": false,
     "start_time": "2022-11-29T06:43:30.397908",
     "status": "completed"
    },
    "tags": []
   },
   "outputs": [],
   "source": [
    "# ----------------- Parameters for interactive development --------------\n",
    "P = {\n",
    "    \"pipeline.run_environment\": \"dev\",\n",
    "    \"pipeline.data_lake_root\": \"/pipeline-outputs/data-lake\",\n",
    "    \"run.retry_nr\": \"1\",\n",
    "}"
   ]
  },
  {
   "cell_type": "code",
   "execution_count": 2,
   "id": "db0bdddb",
   "metadata": {
    "execution": {
     "iopub.execute_input": "2022-11-29T06:43:30.416617Z",
     "iopub.status.busy": "2022-11-29T06:43:30.416155Z",
     "iopub.status.idle": "2022-11-29T06:43:30.419217Z",
     "shell.execute_reply": "2022-11-29T06:43:30.418710Z"
    },
    "lines_to_next_cell": 0,
    "papermill": {
     "duration": 0.007863,
     "end_time": "2022-11-29T06:43:30.420627",
     "exception": false,
     "start_time": "2022-11-29T06:43:30.412764",
     "status": "completed"
    },
    "tags": [
     "parameters"
    ]
   },
   "outputs": [],
   "source": [
    "# - During automated runs parameters will be injected in the below cell -"
   ]
  },
  {
   "cell_type": "code",
   "execution_count": 3,
   "id": "743a9974",
   "metadata": {
    "execution": {
     "iopub.execute_input": "2022-11-29T06:43:30.426435Z",
     "iopub.status.busy": "2022-11-29T06:43:30.426207Z",
     "iopub.status.idle": "2022-11-29T06:43:30.430634Z",
     "shell.execute_reply": "2022-11-29T06:43:30.429909Z"
    },
    "papermill": {
     "duration": 0.009053,
     "end_time": "2022-11-29T06:43:30.431957",
     "exception": false,
     "start_time": "2022-11-29T06:43:30.422904",
     "status": "completed"
    },
    "tags": [
     "injected-parameters"
    ]
   },
   "outputs": [],
   "source": [
    "# Parameters\n",
    "P = {\n",
    "    \"pipeline.data_lake_root\": \"/pipeline-outputs/data-lake\",\n",
    "    \"pipeline.run_environment\": \"ci\",\n",
    "    \"pipeline.pipeline_run_id\": \"82b134e5-344c-4da6-8ccc-c5841de0b257\",\n",
    "    \"pipeline.github.repository\": \"matiasdahl/dev-mnist-digits-demo-pipeline\",\n",
    "    \"pipeline.github.workflow\": \"Run automated tests, pipeline and deploy results to static reporting site\",\n",
    "    \"pipeline.github.runner_name\": \"Hosted Agent\",\n",
    "    \"pipeline.github.run_id\": \"3571661389\",\n",
    "    \"pipeline.github.actor\": \"matiasdahl\",\n",
    "    \"pipeline.github.job\": \"run-tests-pipeline-and-persist-pipeline-outputs\",\n",
    "    \"pipeline.github.base_ref\": \"\",\n",
    "    \"pipeline.github.head_ref\": \"\",\n",
    "    \"pipeline.github.sha\": \"ace0d01011d5e914f1921450dd5a59c11367b38d\",\n",
    "    \"pipeline.github.ref\": \"refs/heads/development\",\n",
    "    \"pipeline.github.ref_type\": \"branch\",\n",
    "    \"pipeline.github.ref_name\": \"development\",\n",
    "    \"pipeline.github.event_name\": \"schedule\",\n",
    "    \"task.notebook\": \"notebooks/ingest.py\",\n",
    "    \"task.max_nr_retries\": \"15\",\n",
    "    \"run.retry_nr\": \"1\",\n",
    "    \"task.timeout_s\": \"10\",\n",
    "    \"task.num_cpus\": 1,\n",
    "    \"_opentelemetry_traceparent\": \"00-609948c3182c1b41681d908af5a0b764-fbcba9645967dc4a-01\",\n",
    "}\n"
   ]
  },
  {
   "cell_type": "code",
   "execution_count": 4,
   "id": "a0ed5fd9",
   "metadata": {
    "execution": {
     "iopub.execute_input": "2022-11-29T06:43:30.438843Z",
     "iopub.status.busy": "2022-11-29T06:43:30.438089Z",
     "iopub.status.idle": "2022-11-29T06:43:30.441479Z",
     "shell.execute_reply": "2022-11-29T06:43:30.440867Z"
    },
    "lines_to_next_cell": 0,
    "papermill": {
     "duration": 0.008677,
     "end_time": "2022-11-29T06:43:30.442868",
     "exception": false,
     "start_time": "2022-11-29T06:43:30.434191",
     "status": "completed"
    },
    "tags": []
   },
   "outputs": [],
   "source": [
    "# -----------------------------------------------------------------------"
   ]
  },
  {
   "cell_type": "markdown",
   "id": "f5d86e0b",
   "metadata": {
    "lines_to_next_cell": 2,
    "papermill": {
     "duration": 0.002325,
     "end_time": "2022-11-29T06:43:30.447845",
     "exception": false,
     "start_time": "2022-11-29T06:43:30.445520",
     "status": "completed"
    },
    "tags": []
   },
   "source": [
    "---"
   ]
  },
  {
   "cell_type": "markdown",
   "id": "238236a6",
   "metadata": {
    "papermill": {
     "duration": 0.002392,
     "end_time": "2022-11-29T06:43:30.452752",
     "exception": false,
     "start_time": "2022-11-29T06:43:30.450360",
     "status": "completed"
    },
    "tags": []
   },
   "source": [
    "### Simulate different types of failures (for testing timeout and retry logic)"
   ]
  },
  {
   "cell_type": "code",
   "execution_count": 5,
   "id": "172a1c6f",
   "metadata": {
    "execution": {
     "iopub.execute_input": "2022-11-29T06:43:30.458686Z",
     "iopub.status.busy": "2022-11-29T06:43:30.458280Z",
     "iopub.status.idle": "2022-11-29T06:43:30.891218Z",
     "shell.execute_reply": "2022-11-29T06:43:30.890509Z"
    },
    "papermill": {
     "duration": 0.437636,
     "end_time": "2022-11-29T06:43:30.892817",
     "exception": false,
     "start_time": "2022-11-29T06:43:30.455181",
     "status": "completed"
    },
    "tags": []
   },
   "outputs": [
    {
     "name": "stderr",
     "output_type": "stream",
     "text": [
      "2022-11-29 06:43:30,739\tINFO worker.py:842 -- Connecting to existing Ray cluster at address: 172.17.0.2:6379\n"
     ]
    }
   ],
   "source": [
    "from pynb_dag_runner.tasks.task_opentelemetry_logging import PydarLogger\n",
    "\n",
    "logger = PydarLogger(P)"
   ]
  },
  {
   "cell_type": "markdown",
   "id": "de188f8a",
   "metadata": {
    "tags": [
     "papermill-error-cell-tag"
    ]
   },
   "source": [
    "<span id=\"papermill-error-cell\" style=\"color:red; font-family:Helvetica Neue, Helvetica, Arial, sans-serif; font-size:2em;\">Execution using papermill encountered an exception here and stopped:</span>"
   ]
  },
  {
   "cell_type": "code",
   "execution_count": 6,
   "id": "9d11784f",
   "metadata": {
    "execution": {
     "iopub.execute_input": "2022-11-29T06:43:30.899784Z",
     "iopub.status.busy": "2022-11-29T06:43:30.899469Z",
     "iopub.status.idle": "2022-11-29T06:43:31.054434Z",
     "shell.execute_reply": "2022-11-29T06:43:31.052893Z"
    },
    "papermill": {
     "duration": 0.15982,
     "end_time": "2022-11-29T06:43:31.055760",
     "exception": true,
     "start_time": "2022-11-29T06:43:30.895940",
     "status": "failed"
    },
    "tags": []
   },
   "outputs": [
    {
     "ename": "Exception",
     "evalue": "Simulated exception failure from ingestion step notebook!",
     "output_type": "error",
     "traceback": [
      "\u001b[0;31m---------------------------------------------------------------------------\u001b[0m",
      "\u001b[0;31mException\u001b[0m                                 Traceback (most recent call last)",
      "Cell \u001b[0;32mIn[6], line 17\u001b[0m\n\u001b[1;32m     13\u001b[0m         \u001b[38;5;28;01melse\u001b[39;00m:\n\u001b[1;32m     14\u001b[0m             \u001b[38;5;28;01mraise\u001b[39;00m \u001b[38;5;167;01mException\u001b[39;00m(\u001b[38;5;124m\"\u001b[39m\u001b[38;5;124mSimulated exception failure from ingestion step notebook!\u001b[39m\u001b[38;5;124m\"\u001b[39m)\n\u001b[0;32m---> 17\u001b[0m \u001b[43mmaybe_crash\u001b[49m\u001b[43m(\u001b[49m\n\u001b[1;32m     18\u001b[0m \u001b[43m    \u001b[49m\u001b[43mretry_nr\u001b[49m\u001b[38;5;241;43m=\u001b[39;49m\u001b[38;5;28;43mint\u001b[39;49m\u001b[43m(\u001b[49m\u001b[43mP\u001b[49m\u001b[43m[\u001b[49m\u001b[38;5;124;43m\"\u001b[39;49m\u001b[38;5;124;43mrun.retry_nr\u001b[39;49m\u001b[38;5;124;43m\"\u001b[39;49m\u001b[43m]\u001b[49m\u001b[43m)\u001b[49m\u001b[43m,\u001b[49m\u001b[43m \u001b[49m\u001b[43mrun_environment\u001b[49m\u001b[38;5;241;43m=\u001b[39;49m\u001b[43mP\u001b[49m\u001b[43m[\u001b[49m\u001b[38;5;124;43m\"\u001b[39;49m\u001b[38;5;124;43mpipeline.run_environment\u001b[39;49m\u001b[38;5;124;43m\"\u001b[39;49m\u001b[43m]\u001b[49m\n\u001b[1;32m     19\u001b[0m \u001b[43m)\u001b[49m\n",
      "Cell \u001b[0;32mIn[6], line 14\u001b[0m, in \u001b[0;36mmaybe_crash\u001b[0;34m(retry_nr, run_environment)\u001b[0m\n\u001b[1;32m     12\u001b[0m     time\u001b[38;5;241m.\u001b[39msleep(\u001b[38;5;241m1e6\u001b[39m)\n\u001b[1;32m     13\u001b[0m \u001b[38;5;28;01melse\u001b[39;00m:\n\u001b[0;32m---> 14\u001b[0m     \u001b[38;5;28;01mraise\u001b[39;00m \u001b[38;5;167;01mException\u001b[39;00m(\u001b[38;5;124m\"\u001b[39m\u001b[38;5;124mSimulated exception failure from ingestion step notebook!\u001b[39m\u001b[38;5;124m\"\u001b[39m)\n",
      "\u001b[0;31mException\u001b[0m: Simulated exception failure from ingestion step notebook!"
     ]
    }
   ],
   "source": [
    "import time, random\n",
    "\n",
    "\n",
    "def maybe_crash(retry_nr: int, run_environment: str):\n",
    "    if retry_nr == 2 and run_environment == \"ci\":\n",
    "        time.sleep(1e6)\n",
    "\n",
    "    max_retry_nr: int = 3 if run_environment == \"dev\" else 10\n",
    "\n",
    "    if retry_nr < max_retry_nr:\n",
    "        if random.random() < 0.1:\n",
    "            time.sleep(1e6)\n",
    "        else:\n",
    "            raise Exception(\"Simulated exception failure from ingestion step notebook!\")\n",
    "\n",
    "\n",
    "maybe_crash(\n",
    "    retry_nr=int(P[\"run.retry_nr\"]), run_environment=P[\"pipeline.run_environment\"]\n",
    ")"
   ]
  },
  {
   "cell_type": "markdown",
   "id": "8a6c3973",
   "metadata": {
    "lines_to_next_cell": 2,
    "papermill": {
     "duration": null,
     "end_time": null,
     "exception": null,
     "start_time": null,
     "status": "pending"
    },
    "tags": []
   },
   "source": [
    "### Notebook code"
   ]
  },
  {
   "cell_type": "code",
   "execution_count": null,
   "id": "c8ebc295",
   "metadata": {
    "papermill": {
     "duration": null,
     "end_time": null,
     "exception": null,
     "start_time": null,
     "status": "pending"
    },
    "tags": []
   },
   "outputs": [],
   "source": [
    "from sklearn import datasets\n",
    "\n",
    "#\n",
    "from common.io import datalake_root, write_numpy"
   ]
  },
  {
   "cell_type": "code",
   "execution_count": null,
   "id": "34cf7437",
   "metadata": {
    "lines_to_next_cell": 2,
    "papermill": {
     "duration": null,
     "end_time": null,
     "exception": null,
     "start_time": null,
     "status": "pending"
    },
    "tags": []
   },
   "outputs": [],
   "source": [
    "digits = datasets.load_digits()\n",
    "\n",
    "X = digits[\"data\"]\n",
    "y = digits[\"target\"]"
   ]
  },
  {
   "cell_type": "code",
   "execution_count": null,
   "id": "b11e259d",
   "metadata": {
    "papermill": {
     "duration": null,
     "end_time": null,
     "exception": null,
     "start_time": null,
     "status": "pending"
    },
    "tags": []
   },
   "outputs": [],
   "source": [
    "logger.log_value(\"data_shape\", list(X.shape))\n",
    "logger.log_value(\"target_shape\", list(y.shape))\n",
    "\n",
    "X.shape, y.shape"
   ]
  },
  {
   "cell_type": "code",
   "execution_count": null,
   "id": "ea90ebed",
   "metadata": {
    "papermill": {
     "duration": null,
     "end_time": null,
     "exception": null,
     "start_time": null,
     "status": "pending"
    },
    "tags": []
   },
   "outputs": [],
   "source": [
    "write_numpy(datalake_root(P) / \"raw\" / \"digits.numpy\", X)\n",
    "write_numpy(datalake_root(P) / \"raw\" / \"labels.numpy\", y)"
   ]
  },
  {
   "cell_type": "code",
   "execution_count": null,
   "id": "0a8c0cf5",
   "metadata": {
    "papermill": {
     "duration": null,
     "end_time": null,
     "exception": null,
     "start_time": null,
     "status": "pending"
    },
    "tags": []
   },
   "outputs": [],
   "source": []
  }
 ],
 "metadata": {
  "jupytext": {
   "cell_metadata_filter": "tags,-all",
   "main_language": "python",
   "notebook_metadata_filter": "-all"
  },
  "language_info": {
   "codemirror_mode": {
    "name": "ipython",
    "version": 3
   },
   "file_extension": ".py",
   "mimetype": "text/x-python",
   "name": "python",
   "nbconvert_exporter": "python",
   "pygments_lexer": "ipython3",
   "version": "3.8.10"
  },
  "papermill": {
   "default_parameters": {},
   "duration": 2.625646,
   "end_time": "2022-11-29T06:43:31.877386",
   "environment_variables": {},
   "exception": true,
   "input_path": "/home/host_user/workspace/mnist-demo-pipeline/mnist-demo-pipeline/notebooks/temp-notebook-fmcltove.ipynb",
   "output_path": "notebooks/ingest.ipynb",
   "parameters": {
    "P": {
     "_opentelemetry_traceparent": "00-609948c3182c1b41681d908af5a0b764-fbcba9645967dc4a-01",
     "pipeline.data_lake_root": "/pipeline-outputs/data-lake",
     "pipeline.github.actor": "matiasdahl",
     "pipeline.github.base_ref": "",
     "pipeline.github.event_name": "schedule",
     "pipeline.github.head_ref": "",
     "pipeline.github.job": "run-tests-pipeline-and-persist-pipeline-outputs",
     "pipeline.github.ref": "refs/heads/development",
     "pipeline.github.ref_name": "development",
     "pipeline.github.ref_type": "branch",
     "pipeline.github.repository": "matiasdahl/dev-mnist-digits-demo-pipeline",
     "pipeline.github.run_id": "3571661389",
     "pipeline.github.runner_name": "Hosted Agent",
     "pipeline.github.sha": "ace0d01011d5e914f1921450dd5a59c11367b38d",
     "pipeline.github.workflow": "Run automated tests, pipeline and deploy results to static reporting site",
     "pipeline.pipeline_run_id": "82b134e5-344c-4da6-8ccc-c5841de0b257",
     "pipeline.run_environment": "ci",
     "run.retry_nr": "1",
     "task.max_nr_retries": "15",
     "task.notebook": "notebooks/ingest.py",
     "task.num_cpus": 1,
     "task.timeout_s": "10"
    }
   },
   "start_time": "2022-11-29T06:43:29.251740",
   "version": "2.3.3"
  }
 },
 "nbformat": 4,
 "nbformat_minor": 5
}