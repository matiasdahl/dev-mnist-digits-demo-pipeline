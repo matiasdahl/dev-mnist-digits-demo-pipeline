{
 "cells": [
  {
   "cell_type": "markdown",
   "id": "399ce01f",
   "metadata": {
    "papermill": {
     "duration": 0.00368,
     "end_time": "2022-11-29T06:44:10.836780",
     "exception": false,
     "start_time": "2022-11-29T06:44:10.833100",
     "status": "completed"
    },
    "tags": []
   },
   "source": [
    "# Ingest toy version of MNIST digit data from sklearn"
   ]
  },
  {
   "cell_type": "markdown",
   "id": "d3b7cb3f",
   "metadata": {
    "papermill": {
     "duration": 0.002266,
     "end_time": "2022-11-29T06:44:10.841719",
     "exception": false,
     "start_time": "2022-11-29T06:44:10.839453",
     "status": "completed"
    },
    "tags": []
   },
   "source": [
    "### Determine run parameters"
   ]
  },
  {
   "cell_type": "code",
   "execution_count": 1,
   "id": "8c1d64f5",
   "metadata": {
    "execution": {
     "iopub.execute_input": "2022-11-29T06:44:10.847711Z",
     "iopub.status.busy": "2022-11-29T06:44:10.847403Z",
     "iopub.status.idle": "2022-11-29T06:44:10.854391Z",
     "shell.execute_reply": "2022-11-29T06:44:10.853757Z"
    },
    "lines_to_next_cell": 0,
    "papermill": {
     "duration": 0.011983,
     "end_time": "2022-11-29T06:44:10.855857",
     "exception": false,
     "start_time": "2022-11-29T06:44:10.843874",
     "status": "completed"
    },
    "tags": []
   },
   "outputs": [],
   "source": [
    "# ----------------- Parameters for interactive development --------------\n",
    "P = {\n",
    "    \"pipeline.run_environment\": \"dev\",\n",
    "    \"pipeline.data_lake_root\": \"/pipeline-outputs/data-lake\",\n",
    "    \"run.retry_nr\": \"1\",\n",
    "}"
   ]
  },
  {
   "cell_type": "code",
   "execution_count": 2,
   "id": "8b205351",
   "metadata": {
    "execution": {
     "iopub.execute_input": "2022-11-29T06:44:10.864476Z",
     "iopub.status.busy": "2022-11-29T06:44:10.863909Z",
     "iopub.status.idle": "2022-11-29T06:44:10.866976Z",
     "shell.execute_reply": "2022-11-29T06:44:10.866409Z"
    },
    "lines_to_next_cell": 0,
    "papermill": {
     "duration": 0.00998,
     "end_time": "2022-11-29T06:44:10.868274",
     "exception": false,
     "start_time": "2022-11-29T06:44:10.858294",
     "status": "completed"
    },
    "tags": [
     "parameters"
    ]
   },
   "outputs": [],
   "source": [
    "# - During automated runs parameters will be injected in the below cell -"
   ]
  },
  {
   "cell_type": "code",
   "execution_count": 3,
   "id": "6193ee5e",
   "metadata": {
    "execution": {
     "iopub.execute_input": "2022-11-29T06:44:10.874295Z",
     "iopub.status.busy": "2022-11-29T06:44:10.874046Z",
     "iopub.status.idle": "2022-11-29T06:44:10.878240Z",
     "shell.execute_reply": "2022-11-29T06:44:10.877687Z"
    },
    "papermill": {
     "duration": 0.009113,
     "end_time": "2022-11-29T06:44:10.879653",
     "exception": false,
     "start_time": "2022-11-29T06:44:10.870540",
     "status": "completed"
    },
    "tags": [
     "injected-parameters"
    ]
   },
   "outputs": [],
   "source": [
    "# Parameters\n",
    "P = {\n",
    "    \"pipeline.data_lake_root\": \"/pipeline-outputs/data-lake\",\n",
    "    \"pipeline.run_environment\": \"ci\",\n",
    "    \"pipeline.pipeline_run_id\": \"82b134e5-344c-4da6-8ccc-c5841de0b257\",\n",
    "    \"pipeline.github.repository\": \"matiasdahl/dev-mnist-digits-demo-pipeline\",\n",
    "    \"pipeline.github.workflow\": \"Run automated tests, pipeline and deploy results to static reporting site\",\n",
    "    \"pipeline.github.runner_name\": \"Hosted Agent\",\n",
    "    \"pipeline.github.run_id\": \"3571661389\",\n",
    "    \"pipeline.github.actor\": \"matiasdahl\",\n",
    "    \"pipeline.github.job\": \"run-tests-pipeline-and-persist-pipeline-outputs\",\n",
    "    \"pipeline.github.base_ref\": \"\",\n",
    "    \"pipeline.github.head_ref\": \"\",\n",
    "    \"pipeline.github.sha\": \"ace0d01011d5e914f1921450dd5a59c11367b38d\",\n",
    "    \"pipeline.github.ref\": \"refs/heads/development\",\n",
    "    \"pipeline.github.ref_type\": \"branch\",\n",
    "    \"pipeline.github.ref_name\": \"development\",\n",
    "    \"pipeline.github.event_name\": \"schedule\",\n",
    "    \"task.notebook\": \"notebooks/ingest.py\",\n",
    "    \"task.max_nr_retries\": \"15\",\n",
    "    \"run.retry_nr\": \"10\",\n",
    "    \"task.timeout_s\": \"10\",\n",
    "    \"task.num_cpus\": 1,\n",
    "    \"_opentelemetry_traceparent\": \"00-609948c3182c1b41681d908af5a0b764-b7814a7d8f6218ab-01\",\n",
    "}\n"
   ]
  },
  {
   "cell_type": "code",
   "execution_count": 4,
   "id": "833ff5cb",
   "metadata": {
    "execution": {
     "iopub.execute_input": "2022-11-29T06:44:10.886078Z",
     "iopub.status.busy": "2022-11-29T06:44:10.885869Z",
     "iopub.status.idle": "2022-11-29T06:44:10.888393Z",
     "shell.execute_reply": "2022-11-29T06:44:10.887869Z"
    },
    "lines_to_next_cell": 0,
    "papermill": {
     "duration": 0.007778,
     "end_time": "2022-11-29T06:44:10.889698",
     "exception": false,
     "start_time": "2022-11-29T06:44:10.881920",
     "status": "completed"
    },
    "tags": []
   },
   "outputs": [],
   "source": [
    "# -----------------------------------------------------------------------"
   ]
  },
  {
   "cell_type": "markdown",
   "id": "2b0eb911",
   "metadata": {
    "lines_to_next_cell": 2,
    "papermill": {
     "duration": 0.002776,
     "end_time": "2022-11-29T06:44:10.894808",
     "exception": false,
     "start_time": "2022-11-29T06:44:10.892032",
     "status": "completed"
    },
    "tags": []
   },
   "source": [
    "---"
   ]
  },
  {
   "cell_type": "markdown",
   "id": "e31c62c4",
   "metadata": {
    "papermill": {
     "duration": 0.002275,
     "end_time": "2022-11-29T06:44:10.899408",
     "exception": false,
     "start_time": "2022-11-29T06:44:10.897133",
     "status": "completed"
    },
    "tags": []
   },
   "source": [
    "### Simulate different types of failures (for testing timeout and retry logic)"
   ]
  },
  {
   "cell_type": "code",
   "execution_count": 5,
   "id": "c4c9b9d2",
   "metadata": {
    "execution": {
     "iopub.execute_input": "2022-11-29T06:44:10.905673Z",
     "iopub.status.busy": "2022-11-29T06:44:10.905240Z",
     "iopub.status.idle": "2022-11-29T06:44:11.329600Z",
     "shell.execute_reply": "2022-11-29T06:44:11.328128Z"
    },
    "papermill": {
     "duration": 0.429585,
     "end_time": "2022-11-29T06:44:11.331364",
     "exception": false,
     "start_time": "2022-11-29T06:44:10.901779",
     "status": "completed"
    },
    "tags": []
   },
   "outputs": [
    {
     "name": "stderr",
     "output_type": "stream",
     "text": [
      "2022-11-29 06:44:11,185\tINFO worker.py:842 -- Connecting to existing Ray cluster at address: 172.17.0.2:6379\n"
     ]
    }
   ],
   "source": [
    "from pynb_dag_runner.tasks.task_opentelemetry_logging import PydarLogger\n",
    "\n",
    "logger = PydarLogger(P)"
   ]
  },
  {
   "cell_type": "code",
   "execution_count": 6,
   "id": "1f3ce808",
   "metadata": {
    "execution": {
     "iopub.execute_input": "2022-11-29T06:44:11.338612Z",
     "iopub.status.busy": "2022-11-29T06:44:11.338138Z",
     "iopub.status.idle": "2022-11-29T06:44:11.344997Z",
     "shell.execute_reply": "2022-11-29T06:44:11.344449Z"
    },
    "papermill": {
     "duration": 0.011814,
     "end_time": "2022-11-29T06:44:11.346484",
     "exception": false,
     "start_time": "2022-11-29T06:44:11.334670",
     "status": "completed"
    },
    "tags": []
   },
   "outputs": [],
   "source": [
    "import time, random\n",
    "\n",
    "\n",
    "def maybe_crash(retry_nr: int, run_environment: str):\n",
    "    if retry_nr == 2 and run_environment == \"ci\":\n",
    "        time.sleep(1e6)\n",
    "\n",
    "    max_retry_nr: int = 3 if run_environment == \"dev\" else 10\n",
    "\n",
    "    if retry_nr < max_retry_nr:\n",
    "        if random.random() < 0.1:\n",
    "            time.sleep(1e6)\n",
    "        else:\n",
    "            raise Exception(\"Simulated exception failure from ingestion step notebook!\")\n",
    "\n",
    "\n",
    "maybe_crash(\n",
    "    retry_nr=int(P[\"run.retry_nr\"]), run_environment=P[\"pipeline.run_environment\"]\n",
    ")"
   ]
  },
  {
   "cell_type": "markdown",
   "id": "dc848eb1",
   "metadata": {
    "lines_to_next_cell": 2,
    "papermill": {
     "duration": 0.002606,
     "end_time": "2022-11-29T06:44:11.352057",
     "exception": false,
     "start_time": "2022-11-29T06:44:11.349451",
     "status": "completed"
    },
    "tags": []
   },
   "source": [
    "### Notebook code"
   ]
  },
  {
   "cell_type": "code",
   "execution_count": 7,
   "id": "e890f3d0",
   "metadata": {
    "execution": {
     "iopub.execute_input": "2022-11-29T06:44:11.359001Z",
     "iopub.status.busy": "2022-11-29T06:44:11.358496Z",
     "iopub.status.idle": "2022-11-29T06:44:12.623628Z",
     "shell.execute_reply": "2022-11-29T06:44:12.622965Z"
    },
    "papermill": {
     "duration": 1.270631,
     "end_time": "2022-11-29T06:44:12.625654",
     "exception": false,
     "start_time": "2022-11-29T06:44:11.355023",
     "status": "completed"
    },
    "tags": []
   },
   "outputs": [],
   "source": [
    "from sklearn import datasets\n",
    "\n",
    "#\n",
    "from common.io import datalake_root, write_numpy"
   ]
  },
  {
   "cell_type": "code",
   "execution_count": 8,
   "id": "5e5e205a",
   "metadata": {
    "execution": {
     "iopub.execute_input": "2022-11-29T06:44:12.632702Z",
     "iopub.status.busy": "2022-11-29T06:44:12.632234Z",
     "iopub.status.idle": "2022-11-29T06:44:12.646017Z",
     "shell.execute_reply": "2022-11-29T06:44:12.645234Z"
    },
    "lines_to_next_cell": 2,
    "papermill": {
     "duration": 0.01911,
     "end_time": "2022-11-29T06:44:12.647693",
     "exception": false,
     "start_time": "2022-11-29T06:44:12.628583",
     "status": "completed"
    },
    "tags": []
   },
   "outputs": [],
   "source": [
    "digits = datasets.load_digits()\n",
    "\n",
    "X = digits[\"data\"]\n",
    "y = digits[\"target\"]"
   ]
  },
  {
   "cell_type": "code",
   "execution_count": 9,
   "id": "76ec34e5",
   "metadata": {
    "execution": {
     "iopub.execute_input": "2022-11-29T06:44:12.654608Z",
     "iopub.status.busy": "2022-11-29T06:44:12.654379Z",
     "iopub.status.idle": "2022-11-29T06:44:12.665270Z",
     "shell.execute_reply": "2022-11-29T06:44:12.664682Z"
    },
    "papermill": {
     "duration": 0.017233,
     "end_time": "2022-11-29T06:44:12.667481",
     "exception": false,
     "start_time": "2022-11-29T06:44:12.650248",
     "status": "completed"
    },
    "tags": []
   },
   "outputs": [
    {
     "name": "stdout",
     "output_type": "stream",
     "text": [
      " - Logging data_shape (json) : [1797, 64]\n",
      " - Logging target_shape (json) : [1797]\n"
     ]
    },
    {
     "data": {
      "text/plain": [
       "((1797, 64), (1797,))"
      ]
     },
     "execution_count": 9,
     "metadata": {},
     "output_type": "execute_result"
    }
   ],
   "source": [
    "logger.log_value(\"data_shape\", list(X.shape))\n",
    "logger.log_value(\"target_shape\", list(y.shape))\n",
    "\n",
    "X.shape, y.shape"
   ]
  },
  {
   "cell_type": "code",
   "execution_count": 10,
   "id": "1ab08509",
   "metadata": {
    "execution": {
     "iopub.execute_input": "2022-11-29T06:44:12.675044Z",
     "iopub.status.busy": "2022-11-29T06:44:12.674571Z",
     "iopub.status.idle": "2022-11-29T06:44:12.683766Z",
     "shell.execute_reply": "2022-11-29T06:44:12.683159Z"
    },
    "papermill": {
     "duration": 0.014713,
     "end_time": "2022-11-29T06:44:12.685280",
     "exception": false,
     "start_time": "2022-11-29T06:44:12.670567",
     "status": "completed"
    },
    "tags": []
   },
   "outputs": [],
   "source": [
    "write_numpy(datalake_root(P) / \"raw\" / \"digits.numpy\", X)\n",
    "write_numpy(datalake_root(P) / \"raw\" / \"labels.numpy\", y)"
   ]
  },
  {
   "cell_type": "code",
   "execution_count": null,
   "id": "0f45826a",
   "metadata": {
    "papermill": {
     "duration": 0.002768,
     "end_time": "2022-11-29T06:44:12.691024",
     "exception": false,
     "start_time": "2022-11-29T06:44:12.688256",
     "status": "completed"
    },
    "tags": []
   },
   "outputs": [],
   "source": []
  }
 ],
 "metadata": {
  "jupytext": {
   "cell_metadata_filter": "tags,-all",
   "main_language": "python",
   "notebook_metadata_filter": "-all"
  },
  "language_info": {
   "codemirror_mode": {
    "name": "ipython",
    "version": 3
   },
   "file_extension": ".py",
   "mimetype": "text/x-python",
   "name": "python",
   "nbconvert_exporter": "python",
   "pygments_lexer": "ipython3",
   "version": "3.8.10"
  },
  "papermill": {
   "default_parameters": {},
   "duration": 3.810462,
   "end_time": "2022-11-29T06:44:13.513327",
   "environment_variables": {},
   "exception": null,
   "input_path": "/home/host_user/workspace/mnist-demo-pipeline/mnist-demo-pipeline/notebooks/temp-notebook-p2p556th.ipynb",
   "output_path": "notebooks/ingest.ipynb",
   "parameters": {
    "P": {
     "_opentelemetry_traceparent": "00-609948c3182c1b41681d908af5a0b764-b7814a7d8f6218ab-01",
     "pipeline.data_lake_root": "/pipeline-outputs/data-lake",
     "pipeline.github.actor": "matiasdahl",
     "pipeline.github.base_ref": "",
     "pipeline.github.event_name": "schedule",
     "pipeline.github.head_ref": "",
     "pipeline.github.job": "run-tests-pipeline-and-persist-pipeline-outputs",
     "pipeline.github.ref": "refs/heads/development",
     "pipeline.github.ref_name": "development",
     "pipeline.github.ref_type": "branch",
     "pipeline.github.repository": "matiasdahl/dev-mnist-digits-demo-pipeline",
     "pipeline.github.run_id": "3571661389",
     "pipeline.github.runner_name": "Hosted Agent",
     "pipeline.github.sha": "ace0d01011d5e914f1921450dd5a59c11367b38d",
     "pipeline.github.workflow": "Run automated tests, pipeline and deploy results to static reporting site",
     "pipeline.pipeline_run_id": "82b134e5-344c-4da6-8ccc-c5841de0b257",
     "pipeline.run_environment": "ci",
     "run.retry_nr": "10",
     "task.max_nr_retries": "15",
     "task.notebook": "notebooks/ingest.py",
     "task.num_cpus": 1,
     "task.timeout_s": "10"
    }
   },
   "start_time": "2022-11-29T06:44:09.702865",
   "version": "2.3.3"
  }
 },
 "nbformat": 4,
 "nbformat_minor": 5
}