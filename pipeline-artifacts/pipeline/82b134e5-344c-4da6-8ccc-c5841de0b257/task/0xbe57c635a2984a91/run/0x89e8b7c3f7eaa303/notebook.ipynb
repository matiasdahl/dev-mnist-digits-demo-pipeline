{
 "cells": [
  {
   "cell_type": "markdown",
   "id": "c1d72106",
   "metadata": {
    "papermill": {
     "duration": 0.019531,
     "end_time": "2022-11-29T06:44:59.062859",
     "exception": false,
     "start_time": "2022-11-29T06:44:59.043328",
     "status": "completed"
    },
    "tags": []
   },
   "source": [
    "# Summarize model performances\n",
    "\n",
    "This notebooks plots the performances (using averaged ROC AUC scores) for models\n",
    "trained with different training sets."
   ]
  },
  {
   "cell_type": "markdown",
   "id": "ab2de1c7",
   "metadata": {
    "papermill": {
     "duration": 0.002503,
     "end_time": "2022-11-29T06:44:59.068343",
     "exception": false,
     "start_time": "2022-11-29T06:44:59.065840",
     "status": "completed"
    },
    "tags": []
   },
   "source": [
    "### Determine run parameters"
   ]
  },
  {
   "cell_type": "code",
   "execution_count": 1,
   "id": "e50d3477",
   "metadata": {
    "execution": {
     "iopub.execute_input": "2022-11-29T06:44:59.075421Z",
     "iopub.status.busy": "2022-11-29T06:44:59.074934Z",
     "iopub.status.idle": "2022-11-29T06:44:59.082341Z",
     "shell.execute_reply": "2022-11-29T06:44:59.081502Z"
    },
    "lines_to_next_cell": 0,
    "papermill": {
     "duration": 0.012867,
     "end_time": "2022-11-29T06:44:59.083912",
     "exception": false,
     "start_time": "2022-11-29T06:44:59.071045",
     "status": "completed"
    },
    "tags": []
   },
   "outputs": [],
   "source": [
    "# ----------------- Parameters for interactive development --------------\n",
    "P = {\n",
    "    \"pipeline.run_environment\": \"dev\",\n",
    "}"
   ]
  },
  {
   "cell_type": "code",
   "execution_count": 2,
   "id": "defaa975",
   "metadata": {
    "execution": {
     "iopub.execute_input": "2022-11-29T06:44:59.090902Z",
     "iopub.status.busy": "2022-11-29T06:44:59.090385Z",
     "iopub.status.idle": "2022-11-29T06:44:59.093546Z",
     "shell.execute_reply": "2022-11-29T06:44:59.092903Z"
    },
    "lines_to_next_cell": 0,
    "papermill": {
     "duration": 0.008534,
     "end_time": "2022-11-29T06:44:59.094909",
     "exception": false,
     "start_time": "2022-11-29T06:44:59.086375",
     "status": "completed"
    },
    "tags": [
     "parameters"
    ]
   },
   "outputs": [],
   "source": [
    "# - During automated runs parameters will be injected in the below cell -"
   ]
  },
  {
   "cell_type": "code",
   "execution_count": 3,
   "id": "86e93a7b",
   "metadata": {
    "execution": {
     "iopub.execute_input": "2022-11-29T06:44:59.101886Z",
     "iopub.status.busy": "2022-11-29T06:44:59.101059Z",
     "iopub.status.idle": "2022-11-29T06:44:59.106190Z",
     "shell.execute_reply": "2022-11-29T06:44:59.105168Z"
    },
    "papermill": {
     "duration": 0.010929,
     "end_time": "2022-11-29T06:44:59.108278",
     "exception": false,
     "start_time": "2022-11-29T06:44:59.097349",
     "status": "completed"
    },
    "tags": [
     "injected-parameters"
    ]
   },
   "outputs": [],
   "source": [
    "# Parameters\n",
    "P = {\n",
    "    \"pipeline.data_lake_root\": \"/pipeline-outputs/data-lake\",\n",
    "    \"pipeline.run_environment\": \"ci\",\n",
    "    \"pipeline.pipeline_run_id\": \"82b134e5-344c-4da6-8ccc-c5841de0b257\",\n",
    "    \"pipeline.github.repository\": \"matiasdahl/dev-mnist-digits-demo-pipeline\",\n",
    "    \"pipeline.github.workflow\": \"Run automated tests, pipeline and deploy results to static reporting site\",\n",
    "    \"pipeline.github.runner_name\": \"Hosted Agent\",\n",
    "    \"pipeline.github.run_id\": \"3571661389\",\n",
    "    \"pipeline.github.actor\": \"matiasdahl\",\n",
    "    \"pipeline.github.job\": \"run-tests-pipeline-and-persist-pipeline-outputs\",\n",
    "    \"pipeline.github.base_ref\": \"\",\n",
    "    \"pipeline.github.head_ref\": \"\",\n",
    "    \"pipeline.github.sha\": \"ace0d01011d5e914f1921450dd5a59c11367b38d\",\n",
    "    \"pipeline.github.ref\": \"refs/heads/development\",\n",
    "    \"pipeline.github.ref_type\": \"branch\",\n",
    "    \"pipeline.github.ref_name\": \"development\",\n",
    "    \"pipeline.github.event_name\": \"schedule\",\n",
    "    \"task.notebook\": \"notebooks/summary.py\",\n",
    "    \"task.max_nr_retries\": \"1\",\n",
    "    \"run.retry_nr\": \"0\",\n",
    "    \"task.timeout_s\": \"None\",\n",
    "    \"task.num_cpus\": 1,\n",
    "    \"_opentelemetry_traceparent\": \"00-609948c3182c1b41681d908af5a0b764-6a0e3c9661e9d0d0-01\",\n",
    "}\n"
   ]
  },
  {
   "cell_type": "code",
   "execution_count": 4,
   "id": "b42cc757",
   "metadata": {
    "execution": {
     "iopub.execute_input": "2022-11-29T06:44:59.115294Z",
     "iopub.status.busy": "2022-11-29T06:44:59.114901Z",
     "iopub.status.idle": "2022-11-29T06:44:59.117501Z",
     "shell.execute_reply": "2022-11-29T06:44:59.116930Z"
    },
    "lines_to_next_cell": 0,
    "papermill": {
     "duration": 0.007805,
     "end_time": "2022-11-29T06:44:59.118877",
     "exception": false,
     "start_time": "2022-11-29T06:44:59.111072",
     "status": "completed"
    },
    "tags": []
   },
   "outputs": [],
   "source": [
    "# -----------------------------------------------------------------------"
   ]
  },
  {
   "cell_type": "markdown",
   "id": "d7686865",
   "metadata": {
    "papermill": {
     "duration": 0.002738,
     "end_time": "2022-11-29T06:44:59.124360",
     "exception": false,
     "start_time": "2022-11-29T06:44:59.121622",
     "status": "completed"
    },
    "tags": []
   },
   "source": [
    "---"
   ]
  },
  {
   "cell_type": "markdown",
   "id": "9b3695dd",
   "metadata": {
    "lines_to_next_cell": 2,
    "papermill": {
     "duration": 0.002535,
     "end_time": "2022-11-29T06:44:59.129346",
     "exception": false,
     "start_time": "2022-11-29T06:44:59.126811",
     "status": "completed"
    },
    "tags": []
   },
   "source": [
    "### Notebook code"
   ]
  },
  {
   "cell_type": "code",
   "execution_count": 5,
   "id": "c240fc12",
   "metadata": {
    "execution": {
     "iopub.execute_input": "2022-11-29T06:44:59.136099Z",
     "iopub.status.busy": "2022-11-29T06:44:59.135581Z",
     "iopub.status.idle": "2022-11-29T06:45:00.180878Z",
     "shell.execute_reply": "2022-11-29T06:45:00.179969Z"
    },
    "papermill": {
     "duration": 1.050607,
     "end_time": "2022-11-29T06:45:00.182692",
     "exception": false,
     "start_time": "2022-11-29T06:44:59.132085",
     "status": "completed"
    },
    "tags": []
   },
   "outputs": [],
   "source": [
    "#\n",
    "import pandas as pd\n",
    "import matplotlib.pyplot as plt\n",
    "\n",
    "#\n",
    "from pynb_dag_runner.tasks.task_opentelemetry_logging import PydarLogger"
   ]
  },
  {
   "cell_type": "code",
   "execution_count": 6,
   "id": "94c906fe",
   "metadata": {
    "execution": {
     "iopub.execute_input": "2022-11-29T06:45:00.189674Z",
     "iopub.status.busy": "2022-11-29T06:45:00.189152Z",
     "iopub.status.idle": "2022-11-29T06:45:00.343158Z",
     "shell.execute_reply": "2022-11-29T06:45:00.342595Z"
    },
    "papermill": {
     "duration": 0.159259,
     "end_time": "2022-11-29T06:45:00.344860",
     "exception": false,
     "start_time": "2022-11-29T06:45:00.185601",
     "status": "completed"
    },
    "tags": []
   },
   "outputs": [
    {
     "name": "stderr",
     "output_type": "stream",
     "text": [
      "2022-11-29 06:45:00,193\tINFO worker.py:842 -- Connecting to existing Ray cluster at address: 172.17.0.2:6379\n"
     ]
    }
   ],
   "source": [
    "logger = PydarLogger(P=P)"
   ]
  },
  {
   "cell_type": "code",
   "execution_count": 7,
   "id": "2b0f2815",
   "metadata": {
    "execution": {
     "iopub.execute_input": "2022-11-29T06:45:00.352597Z",
     "iopub.status.busy": "2022-11-29T06:45:00.352227Z",
     "iopub.status.idle": "2022-11-29T06:45:00.360074Z",
     "shell.execute_reply": "2022-11-29T06:45:00.359513Z"
    },
    "papermill": {
     "duration": 0.013377,
     "end_time": "2022-11-29T06:45:00.361468",
     "exception": false,
     "start_time": "2022-11-29T06:45:00.348091",
     "status": "completed"
    },
    "tags": []
   },
   "outputs": [],
   "source": [
    "from pynb_dag_runner.tasks.task_opentelemetry_logging import (\n",
    "    PydarLogger,\n",
    "    get_logged_values,\n",
    ")\n",
    "from pynb_dag_runner.opentelemetry_helpers import _get_all_spans, Spans"
   ]
  },
  {
   "cell_type": "code",
   "execution_count": 8,
   "id": "da61244d",
   "metadata": {
    "execution": {
     "iopub.execute_input": "2022-11-29T06:45:00.368740Z",
     "iopub.status.busy": "2022-11-29T06:45:00.368284Z",
     "iopub.status.idle": "2022-11-29T06:45:00.374603Z",
     "shell.execute_reply": "2022-11-29T06:45:00.374063Z"
    },
    "papermill": {
     "duration": 0.011231,
     "end_time": "2022-11-29T06:45:00.375863",
     "exception": false,
     "start_time": "2022-11-29T06:45:00.364632",
     "status": "completed"
    },
    "tags": []
   },
   "outputs": [],
   "source": [
    "def get_model_benchmarks():\n",
    "    \"\"\"\n",
    "    Query the OpenTelemetry logs for *this pipeline run* and return\n",
    "    all key-values logged from all runs of the benchmark-model.py task\n",
    "\n",
    "    For testing a json file with OpenTelemetry spans (as an array)\n",
    "    can be used as follows:\n",
    "\n",
    "    - Create output directory `mkdir /tmp/spans`\n",
    "    - Run unit tests. This will create pipeline-outputs/opentelemetry-spans.json\n",
    "    - Convert this json-array into jsonl format as follows\n",
    "\n",
    "    jq -c '.[]' /pipeline-outputs/opentelemetry-spans.json > /tmp/spans/data.txt\n",
    "\n",
    "    \"\"\"\n",
    "    spans: Spans = Spans(_get_all_spans())\n",
    "    print(f\"Found {len(spans)} spans\")\n",
    "\n",
    "    benchmark_spans = (\n",
    "        spans\n",
    "        # -\n",
    "        .filter([\"name\"], \"execute-task\")\n",
    "        # -\n",
    "        .filter([\"attributes\", \"task.notebook\"], \"notebooks/benchmark-model.py\")\n",
    "    )\n",
    "\n",
    "    result = []\n",
    "    for s in benchmark_spans:\n",
    "        result.append(\n",
    "            {\n",
    "                \"span_id\": s[\"context\"][\"span_id\"],\n",
    "                \"nr_train_images\": s[\"attributes\"][\"task.nr_train_images\"],\n",
    "                \"data\": get_logged_values(spans.bound_under(s)),\n",
    "            }\n",
    "        )\n",
    "\n",
    "    return result\n",
    "\n",
    "\n",
    "def adjust_pandas(df):\n",
    "    def column_renamer(col_name: str) -> str:\n",
    "        return (\n",
    "            col_name\n",
    "            # -- 'data.roc_auc_per_digit.4' -> 'roc_auc.4'\n",
    "            .replace(\"data.roc_auc_per_digit\", \"roc_auc\")\n",
    "            # -- 'data.roc_auc_class_mean' -> 'roc_auc_mean'\n",
    "            .replace(\"data.roc_auc_class_mean\", \"roc_auc_mean\")\n",
    "        )\n",
    "\n",
    "    return df.rename(column_renamer, axis=\"columns\").sort_values(by=\"nr_train_images\")"
   ]
  },
  {
   "cell_type": "code",
   "execution_count": 9,
   "id": "267d9839",
   "metadata": {
    "execution": {
     "iopub.execute_input": "2022-11-29T06:45:00.382852Z",
     "iopub.status.busy": "2022-11-29T06:45:00.382524Z",
     "iopub.status.idle": "2022-11-29T06:45:00.419061Z",
     "shell.execute_reply": "2022-11-29T06:45:00.418421Z"
    },
    "papermill": {
     "duration": 0.041764,
     "end_time": "2022-11-29T06:45:00.420481",
     "exception": false,
     "start_time": "2022-11-29T06:45:00.378717",
     "status": "completed"
    },
    "tags": []
   },
   "outputs": [
    {
     "name": "stdout",
     "output_type": "stream",
     "text": [
      "Found 423 spans\n"
     ]
    }
   ],
   "source": [
    "df_data = adjust_pandas(pd.json_normalize(get_model_benchmarks()))"
   ]
  },
  {
   "cell_type": "code",
   "execution_count": 10,
   "id": "be383a9b",
   "metadata": {
    "execution": {
     "iopub.execute_input": "2022-11-29T06:45:00.427772Z",
     "iopub.status.busy": "2022-11-29T06:45:00.427561Z",
     "iopub.status.idle": "2022-11-29T06:45:00.455580Z",
     "shell.execute_reply": "2022-11-29T06:45:00.455020Z"
    },
    "papermill": {
     "duration": 0.033433,
     "end_time": "2022-11-29T06:45:00.457040",
     "exception": false,
     "start_time": "2022-11-29T06:45:00.423607",
     "status": "completed"
    },
    "tags": []
   },
   "outputs": [
    {
     "data": {
      "text/html": [
       "<div>\n",
       "<style scoped>\n",
       "    .dataframe tbody tr th:only-of-type {\n",
       "        vertical-align: middle;\n",
       "    }\n",
       "\n",
       "    .dataframe tbody tr th {\n",
       "        vertical-align: top;\n",
       "    }\n",
       "\n",
       "    .dataframe thead th {\n",
       "        text-align: right;\n",
       "    }\n",
       "</style>\n",
       "<table border=\"1\" class=\"dataframe\">\n",
       "  <thead>\n",
       "    <tr style=\"text-align: right;\">\n",
       "      <th></th>\n",
       "      <th>span_id</th>\n",
       "      <th>nr_train_images</th>\n",
       "      <th>roc_auc_mean</th>\n",
       "      <th>roc_auc.0</th>\n",
       "      <th>roc_auc.1</th>\n",
       "      <th>roc_auc.2</th>\n",
       "      <th>roc_auc.3</th>\n",
       "      <th>roc_auc.4</th>\n",
       "      <th>roc_auc.5</th>\n",
       "      <th>roc_auc.6</th>\n",
       "      <th>roc_auc.7</th>\n",
       "      <th>roc_auc.8</th>\n",
       "      <th>roc_auc.9</th>\n",
       "    </tr>\n",
       "  </thead>\n",
       "  <tbody>\n",
       "    <tr>\n",
       "      <th>2</th>\n",
       "      <td>0x955a7b33981b4a3b</td>\n",
       "      <td>600</td>\n",
       "      <td>0.9990</td>\n",
       "      <td>1.0</td>\n",
       "      <td>0.9993</td>\n",
       "      <td>1.0</td>\n",
       "      <td>0.9997</td>\n",
       "      <td>0.9992</td>\n",
       "      <td>0.9988</td>\n",
       "      <td>1.0000</td>\n",
       "      <td>0.9998</td>\n",
       "      <td>0.9944</td>\n",
       "      <td>0.9987</td>\n",
       "    </tr>\n",
       "    <tr>\n",
       "      <th>3</th>\n",
       "      <td>0x006397d171e27513</td>\n",
       "      <td>800</td>\n",
       "      <td>0.9990</td>\n",
       "      <td>1.0</td>\n",
       "      <td>0.9988</td>\n",
       "      <td>1.0</td>\n",
       "      <td>0.9999</td>\n",
       "      <td>0.9994</td>\n",
       "      <td>0.9991</td>\n",
       "      <td>1.0000</td>\n",
       "      <td>0.9999</td>\n",
       "      <td>0.9931</td>\n",
       "      <td>0.9994</td>\n",
       "    </tr>\n",
       "    <tr>\n",
       "      <th>0</th>\n",
       "      <td>0xbd8ba58634ad20f5</td>\n",
       "      <td>1000</td>\n",
       "      <td>0.9992</td>\n",
       "      <td>1.0</td>\n",
       "      <td>0.9990</td>\n",
       "      <td>1.0</td>\n",
       "      <td>0.9999</td>\n",
       "      <td>0.9996</td>\n",
       "      <td>0.9994</td>\n",
       "      <td>0.9999</td>\n",
       "      <td>0.9997</td>\n",
       "      <td>0.9953</td>\n",
       "      <td>0.9996</td>\n",
       "    </tr>\n",
       "    <tr>\n",
       "      <th>1</th>\n",
       "      <td>0xc48138a1233a5bae</td>\n",
       "      <td>1200</td>\n",
       "      <td>0.9993</td>\n",
       "      <td>1.0</td>\n",
       "      <td>0.9990</td>\n",
       "      <td>1.0</td>\n",
       "      <td>0.9999</td>\n",
       "      <td>0.9998</td>\n",
       "      <td>0.9997</td>\n",
       "      <td>0.9999</td>\n",
       "      <td>0.9998</td>\n",
       "      <td>0.9956</td>\n",
       "      <td>0.9997</td>\n",
       "    </tr>\n",
       "  </tbody>\n",
       "</table>\n",
       "</div>"
      ],
      "text/plain": [
       "              span_id  nr_train_images  roc_auc_mean  roc_auc.0  roc_auc.1  \\\n",
       "2  0x955a7b33981b4a3b              600        0.9990        1.0     0.9993   \n",
       "3  0x006397d171e27513              800        0.9990        1.0     0.9988   \n",
       "0  0xbd8ba58634ad20f5             1000        0.9992        1.0     0.9990   \n",
       "1  0xc48138a1233a5bae             1200        0.9993        1.0     0.9990   \n",
       "\n",
       "   roc_auc.2  roc_auc.3  roc_auc.4  roc_auc.5  roc_auc.6  roc_auc.7  \\\n",
       "2        1.0     0.9997     0.9992     0.9988     1.0000     0.9998   \n",
       "3        1.0     0.9999     0.9994     0.9991     1.0000     0.9999   \n",
       "0        1.0     0.9999     0.9996     0.9994     0.9999     0.9997   \n",
       "1        1.0     0.9999     0.9998     0.9997     0.9999     0.9998   \n",
       "\n",
       "   roc_auc.8  roc_auc.9  \n",
       "2     0.9944     0.9987  \n",
       "3     0.9931     0.9994  \n",
       "0     0.9953     0.9996  \n",
       "1     0.9956     0.9997  "
      ]
     },
     "execution_count": 10,
     "metadata": {},
     "output_type": "execute_result"
    }
   ],
   "source": [
    "df_data.round(4)"
   ]
  },
  {
   "cell_type": "code",
   "execution_count": 11,
   "id": "df07ac4d",
   "metadata": {
    "execution": {
     "iopub.execute_input": "2022-11-29T06:45:00.465067Z",
     "iopub.status.busy": "2022-11-29T06:45:00.464720Z",
     "iopub.status.idle": "2022-11-29T06:45:00.640588Z",
     "shell.execute_reply": "2022-11-29T06:45:00.639982Z"
    },
    "papermill": {
     "duration": 0.18202,
     "end_time": "2022-11-29T06:45:00.642372",
     "exception": false,
     "start_time": "2022-11-29T06:45:00.460352",
     "status": "completed"
    },
    "tags": []
   },
   "outputs": [
    {
     "data": {
      "image/png": "[encoded data removed]",
      "text/plain": [
       "<Figure size 1600x400 with 1 Axes>"
      ]
     },
     "metadata": {},
     "output_type": "display_data"
    }
   ],
   "source": [
    "def plot_classifier_performance_summary(df_data):\n",
    "    fig, ax = plt.subplots(nrows=1, ncols=1, figsize=(16, 4), sharex=True)\n",
    "\n",
    "    #\n",
    "    ax.plot(\n",
    "        df_data[\"nr_train_images\"], df_data[\"roc_auc_mean\"], marker=\"o\", linestyle=\"--\"\n",
    "    )\n",
    "    ax.set_title(\n",
    "        f\"ROC AUC digit classifier performance on evaluation digits\", fontsize=17\n",
    "    )\n",
    "    ax.set_xlabel(\"Total number of digits in training set\", fontsize=14)\n",
    "    ax.set_ylabel(\"Mean ROC AUC\", fontsize=14)\n",
    "\n",
    "    fig.tight_layout()\n",
    "    fig.show()\n",
    "\n",
    "    return fig\n",
    "\n",
    "\n",
    "fig = plot_classifier_performance_summary(df_data)"
   ]
  },
  {
   "cell_type": "code",
   "execution_count": 12,
   "id": "cc61f419",
   "metadata": {
    "execution": {
     "iopub.execute_input": "2022-11-29T06:45:00.651700Z",
     "iopub.status.busy": "2022-11-29T06:45:00.651406Z",
     "iopub.status.idle": "2022-11-29T06:45:00.727359Z",
     "shell.execute_reply": "2022-11-29T06:45:00.726697Z"
    },
    "papermill": {
     "duration": 0.082685,
     "end_time": "2022-11-29T06:45:00.729262",
     "exception": false,
     "start_time": "2022-11-29T06:45:00.646577",
     "status": "completed"
    },
    "tags": []
   },
   "outputs": [],
   "source": [
    "logger.log_figure(\"auc-roc-model-performances.png\", fig)"
   ]
  },
  {
   "cell_type": "code",
   "execution_count": 13,
   "id": "65e496a0",
   "metadata": {
    "execution": {
     "iopub.execute_input": "2022-11-29T06:45:00.740305Z",
     "iopub.status.busy": "2022-11-29T06:45:00.739747Z",
     "iopub.status.idle": "2022-11-29T06:45:00.742874Z",
     "shell.execute_reply": "2022-11-29T06:45:00.742237Z"
    },
    "papermill": {
     "duration": 0.010535,
     "end_time": "2022-11-29T06:45:00.744452",
     "exception": false,
     "start_time": "2022-11-29T06:45:00.733917",
     "status": "completed"
    },
    "tags": []
   },
   "outputs": [],
   "source": [
    "###"
   ]
  },
  {
   "cell_type": "code",
   "execution_count": null,
   "id": "13a7651f",
   "metadata": {
    "papermill": {
     "duration": 0.004709,
     "end_time": "2022-11-29T06:45:00.757551",
     "exception": false,
     "start_time": "2022-11-29T06:45:00.752842",
     "status": "completed"
    },
    "tags": []
   },
   "outputs": [],
   "source": []
  }
 ],
 "metadata": {
  "jupytext": {
   "cell_metadata_filter": "tags,-all",
   "main_language": "python",
   "notebook_metadata_filter": "-all"
  },
  "language_info": {
   "codemirror_mode": {
    "name": "ipython",
    "version": 3
   },
   "file_extension": ".py",
   "mimetype": "text/x-python",
   "name": "python",
   "nbconvert_exporter": "python",
   "pygments_lexer": "ipython3",
   "version": "3.8.10"
  },
  "papermill": {
   "default_parameters": {},
   "duration": 3.959993,
   "end_time": "2022-11-29T06:45:01.678970",
   "environment_variables": {},
   "exception": null,
   "input_path": "/home/host_user/workspace/mnist-demo-pipeline/mnist-demo-pipeline/notebooks/temp-notebook-ekqjltuq.ipynb",
   "output_path": "notebooks/summary.ipynb",
   "parameters": {
    "P": {
     "_opentelemetry_traceparent": "00-609948c3182c1b41681d908af5a0b764-6a0e3c9661e9d0d0-01",
     "pipeline.data_lake_root": "/pipeline-outputs/data-lake",
     "pipeline.github.actor": "matiasdahl",
     "pipeline.github.base_ref": "",
     "pipeline.github.event_name": "schedule",
     "pipeline.github.head_ref": "",
     "pipeline.github.job": "run-tests-pipeline-and-persist-pipeline-outputs",
     "pipeline.github.ref": "refs/heads/development",
     "pipeline.github.ref_name": "development",
     "pipeline.github.ref_type": "branch",
     "pipeline.github.repository": "matiasdahl/dev-mnist-digits-demo-pipeline",
     "pipeline.github.run_id": "3571661389",
     "pipeline.github.runner_name": "Hosted Agent",
     "pipeline.github.sha": "ace0d01011d5e914f1921450dd5a59c11367b38d",
     "pipeline.github.workflow": "Run automated tests, pipeline and deploy results to static reporting site",
     "pipeline.pipeline_run_id": "82b134e5-344c-4da6-8ccc-c5841de0b257",
     "pipeline.run_environment": "ci",
     "run.retry_nr": "0",
     "task.max_nr_retries": "1",
     "task.notebook": "notebooks/summary.py",
     "task.num_cpus": 1,
     "task.timeout_s": "None"
    }
   },
   "start_time": "2022-11-29T06:44:57.718977",
   "version": "2.3.3"
  }
 },
 "nbformat": 4,
 "nbformat_minor": 5
}