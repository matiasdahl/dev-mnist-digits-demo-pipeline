{
 "cells": [
  {
   "cell_type": "markdown",
   "id": "affc0ad7",
   "metadata": {
    "papermill": {
     "duration": 0.004241,
     "end_time": "2022-11-29T06:44:27.742841",
     "exception": false,
     "start_time": "2022-11-29T06:44:27.738600",
     "status": "completed"
    },
    "tags": []
   },
   "source": [
    "# Train model\n",
    "\n",
    "The purpose of this notebook is:\n",
    "\n",
    "- Load all training data (images and labels).\n",
    "- Limit number of train images to `task.nr_train_images` (value provided as run parameter).\n",
    "- Train a support vector machine model using sklearn.\n",
    "- Persist the trained model using the ONNX format."
   ]
  },
  {
   "cell_type": "markdown",
   "id": "0db95f05",
   "metadata": {
    "papermill": {
     "duration": 0.007917,
     "end_time": "2022-11-29T06:44:27.755032",
     "exception": false,
     "start_time": "2022-11-29T06:44:27.747115",
     "status": "completed"
    },
    "tags": []
   },
   "source": [
    "### Determine run parameters"
   ]
  },
  {
   "cell_type": "code",
   "execution_count": 1,
   "id": "a7cd583c",
   "metadata": {
    "execution": {
     "iopub.execute_input": "2022-11-29T06:44:27.762731Z",
     "iopub.status.busy": "2022-11-29T06:44:27.762422Z",
     "iopub.status.idle": "2022-11-29T06:44:27.771100Z",
     "shell.execute_reply": "2022-11-29T06:44:27.770544Z"
    },
    "lines_to_next_cell": 0,
    "papermill": {
     "duration": 0.015178,
     "end_time": "2022-11-29T06:44:27.773057",
     "exception": false,
     "start_time": "2022-11-29T06:44:27.757879",
     "status": "completed"
    },
    "tags": []
   },
   "outputs": [],
   "source": [
    "# ----------------- Parameters for interactive development --------------\n",
    "P = {\n",
    "    \"pipeline.data_lake_root\": \"/pipeline-outputs/data-lake\",\n",
    "    \"task.nr_train_images\": 600,\n",
    "}"
   ]
  },
  {
   "cell_type": "code",
   "execution_count": 2,
   "id": "e7ace102",
   "metadata": {
    "execution": {
     "iopub.execute_input": "2022-11-29T06:44:27.782716Z",
     "iopub.status.busy": "2022-11-29T06:44:27.782304Z",
     "iopub.status.idle": "2022-11-29T06:44:27.785174Z",
     "shell.execute_reply": "2022-11-29T06:44:27.784691Z"
    },
    "lines_to_next_cell": 0,
    "papermill": {
     "duration": 0.009668,
     "end_time": "2022-11-29T06:44:27.787594",
     "exception": false,
     "start_time": "2022-11-29T06:44:27.777926",
     "status": "completed"
    },
    "tags": [
     "parameters"
    ]
   },
   "outputs": [],
   "source": [
    "# - During automated runs parameters will be injected in the below cell -"
   ]
  },
  {
   "cell_type": "code",
   "execution_count": 3,
   "id": "4fdd4a54",
   "metadata": {
    "execution": {
     "iopub.execute_input": "2022-11-29T06:44:27.794543Z",
     "iopub.status.busy": "2022-11-29T06:44:27.794331Z",
     "iopub.status.idle": "2022-11-29T06:44:27.799078Z",
     "shell.execute_reply": "2022-11-29T06:44:27.798583Z"
    },
    "papermill": {
     "duration": 0.010983,
     "end_time": "2022-11-29T06:44:27.801323",
     "exception": false,
     "start_time": "2022-11-29T06:44:27.790340",
     "status": "completed"
    },
    "tags": [
     "injected-parameters"
    ]
   },
   "outputs": [],
   "source": [
    "# Parameters\n",
    "P = {\n",
    "    \"pipeline.data_lake_root\": \"/pipeline-outputs/data-lake\",\n",
    "    \"pipeline.run_environment\": \"ci\",\n",
    "    \"pipeline.pipeline_run_id\": \"82b134e5-344c-4da6-8ccc-c5841de0b257\",\n",
    "    \"pipeline.github.repository\": \"matiasdahl/dev-mnist-digits-demo-pipeline\",\n",
    "    \"pipeline.github.workflow\": \"Run automated tests, pipeline and deploy results to static reporting site\",\n",
    "    \"pipeline.github.runner_name\": \"Hosted Agent\",\n",
    "    \"pipeline.github.run_id\": \"3571661389\",\n",
    "    \"pipeline.github.actor\": \"matiasdahl\",\n",
    "    \"pipeline.github.job\": \"run-tests-pipeline-and-persist-pipeline-outputs\",\n",
    "    \"pipeline.github.base_ref\": \"\",\n",
    "    \"pipeline.github.head_ref\": \"\",\n",
    "    \"pipeline.github.sha\": \"ace0d01011d5e914f1921450dd5a59c11367b38d\",\n",
    "    \"pipeline.github.ref\": \"refs/heads/development\",\n",
    "    \"pipeline.github.ref_type\": \"branch\",\n",
    "    \"pipeline.github.ref_name\": \"development\",\n",
    "    \"pipeline.github.event_name\": \"schedule\",\n",
    "    \"task.nr_train_images\": 800,\n",
    "    \"task.notebook\": \"notebooks/train-model.py\",\n",
    "    \"task.max_nr_retries\": \"1\",\n",
    "    \"run.retry_nr\": \"0\",\n",
    "    \"task.timeout_s\": \"None\",\n",
    "    \"task.num_cpus\": 1,\n",
    "    \"_opentelemetry_traceparent\": \"00-609948c3182c1b41681d908af5a0b764-1fad38ed1ebb95e8-01\",\n",
    "}\n"
   ]
  },
  {
   "cell_type": "code",
   "execution_count": 4,
   "id": "574c0f99",
   "metadata": {
    "execution": {
     "iopub.execute_input": "2022-11-29T06:44:27.808897Z",
     "iopub.status.busy": "2022-11-29T06:44:27.808689Z",
     "iopub.status.idle": "2022-11-29T06:44:27.811313Z",
     "shell.execute_reply": "2022-11-29T06:44:27.810778Z"
    },
    "lines_to_next_cell": 0,
    "papermill": {
     "duration": 0.008943,
     "end_time": "2022-11-29T06:44:27.813761",
     "exception": false,
     "start_time": "2022-11-29T06:44:27.804818",
     "status": "completed"
    },
    "tags": []
   },
   "outputs": [],
   "source": [
    "# -----------------------------------------------------------------------"
   ]
  },
  {
   "cell_type": "markdown",
   "id": "84bc026a",
   "metadata": {
    "papermill": {
     "duration": 0.002988,
     "end_time": "2022-11-29T06:44:27.819668",
     "exception": false,
     "start_time": "2022-11-29T06:44:27.816680",
     "status": "completed"
    },
    "tags": []
   },
   "source": [
    "---"
   ]
  },
  {
   "cell_type": "markdown",
   "id": "4edc4570",
   "metadata": {
    "lines_to_next_cell": 2,
    "papermill": {
     "duration": 0.002767,
     "end_time": "2022-11-29T06:44:27.825773",
     "exception": false,
     "start_time": "2022-11-29T06:44:27.823006",
     "status": "completed"
    },
    "tags": []
   },
   "source": [
    "### Notebook code"
   ]
  },
  {
   "cell_type": "code",
   "execution_count": 5,
   "id": "1e9835fb",
   "metadata": {
    "execution": {
     "iopub.execute_input": "2022-11-29T06:44:27.833101Z",
     "iopub.status.busy": "2022-11-29T06:44:27.832871Z",
     "iopub.status.idle": "2022-11-29T06:44:28.342476Z",
     "shell.execute_reply": "2022-11-29T06:44:28.341750Z"
    },
    "papermill": {
     "duration": 0.51547,
     "end_time": "2022-11-29T06:44:28.344319",
     "exception": false,
     "start_time": "2022-11-29T06:44:27.828849",
     "status": "completed"
    },
    "tags": []
   },
   "outputs": [
    {
     "name": "stderr",
     "output_type": "stream",
     "text": [
      "2022-11-29 06:44:28,170\tINFO worker.py:842 -- Connecting to existing Ray cluster at address: 172.17.0.2:6379\n"
     ]
    }
   ],
   "source": [
    "from pynb_dag_runner.tasks.task_opentelemetry_logging import PydarLogger\n",
    "\n",
    "logger = PydarLogger(P)"
   ]
  },
  {
   "cell_type": "markdown",
   "id": "22b3667a",
   "metadata": {
    "papermill": {
     "duration": 0.006588,
     "end_time": "2022-11-29T06:44:28.354433",
     "exception": false,
     "start_time": "2022-11-29T06:44:28.347845",
     "status": "completed"
    },
    "tags": []
   },
   "source": [
    "## Load and limit train data"
   ]
  },
  {
   "cell_type": "code",
   "execution_count": 6,
   "id": "3e139dfb",
   "metadata": {
    "execution": {
     "iopub.execute_input": "2022-11-29T06:44:28.362366Z",
     "iopub.status.busy": "2022-11-29T06:44:28.361913Z",
     "iopub.status.idle": "2022-11-29T06:44:28.770062Z",
     "shell.execute_reply": "2022-11-29T06:44:28.769501Z"
    },
    "papermill": {
     "duration": 0.414392,
     "end_time": "2022-11-29T06:44:28.771882",
     "exception": false,
     "start_time": "2022-11-29T06:44:28.357490",
     "status": "completed"
    },
    "tags": []
   },
   "outputs": [],
   "source": [
    "def load_and_limit_train_data(P):\n",
    "    from common.io import datalake_root, read_numpy\n",
    "    from sklearn.model_selection import train_test_split\n",
    "\n",
    "    X_train_all = read_numpy(datalake_root(P) / \"train-data\" / \"digits.numpy\")\n",
    "    y_train_all = read_numpy(datalake_root(P) / \"train-data\" / \"labels.numpy\")\n",
    "\n",
    "    assert isinstance(P[\"task.nr_train_images\"], int)\n",
    "\n",
    "    # Note: train_test_split will fail if split is 0 or 100%.\n",
    "    assert 0 < P[\"task.nr_train_images\"] < len(y_train_all)\n",
    "\n",
    "    X_train, _, y_train, _ = train_test_split(\n",
    "        X_train_all,\n",
    "        y_train_all,\n",
    "        train_size=P[\"task.nr_train_images\"],\n",
    "        test_size=None,\n",
    "        stratify=y_train_all,\n",
    "        shuffle=True,\n",
    "        random_state=123,\n",
    "    )\n",
    "\n",
    "    assert X_train.shape == (len(y_train), 8 * 8)\n",
    "    return X_train, y_train\n",
    "\n",
    "\n",
    "X_train, y_train = load_and_limit_train_data(P)"
   ]
  },
  {
   "cell_type": "markdown",
   "id": "9c7bfa15",
   "metadata": {
    "papermill": {
     "duration": 0.00361,
     "end_time": "2022-11-29T06:44:28.779296",
     "exception": false,
     "start_time": "2022-11-29T06:44:28.775686",
     "status": "completed"
    },
    "tags": []
   },
   "source": [
    "## Train support vector classifier model\n",
    "\n",
    "Below we assume that the hyperparameter $C$ is known.\n",
    "\n",
    "However, this should ideally be found by a hyperparameter search. That could be\n",
    "done in parallel on the Ray cluster, but this needs some more work. Ie., to use\n",
    "multiple cores in the notebook, those cores should be reserved when starting the\n",
    "notebook task (TODO).\n",
    "\n",
    "- https://docs.ray.io/en/latest/tune/key-concepts.html\n",
    "\n",
    "Note: cv-scores would need to be computed here, since they depend on the train data.\n",
    "After this notebook only the onnx-model is available."
   ]
  },
  {
   "cell_type": "code",
   "execution_count": 7,
   "id": "74b6b992",
   "metadata": {
    "execution": {
     "iopub.execute_input": "2022-11-29T06:44:28.786799Z",
     "iopub.status.busy": "2022-11-29T06:44:28.786466Z",
     "iopub.status.idle": "2022-11-29T06:44:28.806925Z",
     "shell.execute_reply": "2022-11-29T06:44:28.806319Z"
    },
    "papermill": {
     "duration": 0.025976,
     "end_time": "2022-11-29T06:44:28.808367",
     "exception": false,
     "start_time": "2022-11-29T06:44:28.782391",
     "status": "completed"
    },
    "tags": []
   },
   "outputs": [],
   "source": [
    "from sklearn.svm import SVC"
   ]
  },
  {
   "cell_type": "code",
   "execution_count": 8,
   "id": "77b21b7c",
   "metadata": {
    "execution": {
     "iopub.execute_input": "2022-11-29T06:44:28.819075Z",
     "iopub.status.busy": "2022-11-29T06:44:28.817810Z",
     "iopub.status.idle": "2022-11-29T06:44:28.905333Z",
     "shell.execute_reply": "2022-11-29T06:44:28.904818Z"
    },
    "papermill": {
     "duration": 0.095492,
     "end_time": "2022-11-29T06:44:28.907219",
     "exception": false,
     "start_time": "2022-11-29T06:44:28.811727",
     "status": "completed"
    },
    "tags": []
   },
   "outputs": [
    {
     "data": {
      "text/html": [
       "<style>#sk-container-id-1 {color: black;background-color: white;}#sk-container-id-1 pre{padding: 0;}#sk-container-id-1 div.sk-toggleable {background-color: white;}#sk-container-id-1 label.sk-toggleable__label {cursor: pointer;display: block;width: 100%;margin-bottom: 0;padding: 0.3em;box-sizing: border-box;text-align: center;}#sk-container-id-1 label.sk-toggleable__label-arrow:before {content: \"▸\";float: left;margin-right: 0.25em;color: #696969;}#sk-container-id-1 label.sk-toggleable__label-arrow:hover:before {color: black;}#sk-container-id-1 div.sk-estimator:hover label.sk-toggleable__label-arrow:before {color: black;}#sk-container-id-1 div.sk-toggleable__content {max-height: 0;max-width: 0;overflow: hidden;text-align: left;background-color: #f0f8ff;}#sk-container-id-1 div.sk-toggleable__content pre {margin: 0.2em;color: black;border-radius: 0.25em;background-color: #f0f8ff;}#sk-container-id-1 input.sk-toggleable__control:checked~div.sk-toggleable__content {max-height: 200px;max-width: 100%;overflow: auto;}#sk-container-id-1 input.sk-toggleable__control:checked~label.sk-toggleable__label-arrow:before {content: \"▾\";}#sk-container-id-1 div.sk-estimator input.sk-toggleable__control:checked~label.sk-toggleable__label {background-color: #d4ebff;}#sk-container-id-1 div.sk-label input.sk-toggleable__control:checked~label.sk-toggleable__label {background-color: #d4ebff;}#sk-container-id-1 input.sk-hidden--visually {border: 0;clip: rect(1px 1px 1px 1px);clip: rect(1px, 1px, 1px, 1px);height: 1px;margin: -1px;overflow: hidden;padding: 0;position: absolute;width: 1px;}#sk-container-id-1 div.sk-estimator {font-family: monospace;background-color: #f0f8ff;border: 1px dotted black;border-radius: 0.25em;box-sizing: border-box;margin-bottom: 0.5em;}#sk-container-id-1 div.sk-estimator:hover {background-color: #d4ebff;}#sk-container-id-1 div.sk-parallel-item::after {content: \"\";width: 100%;border-bottom: 1px solid gray;flex-grow: 1;}#sk-container-id-1 div.sk-label:hover label.sk-toggleable__label {background-color: #d4ebff;}#sk-container-id-1 div.sk-serial::before {content: \"\";position: absolute;border-left: 1px solid gray;box-sizing: border-box;top: 0;bottom: 0;left: 50%;z-index: 0;}#sk-container-id-1 div.sk-serial {display: flex;flex-direction: column;align-items: center;background-color: white;padding-right: 0.2em;padding-left: 0.2em;position: relative;}#sk-container-id-1 div.sk-item {position: relative;z-index: 1;}#sk-container-id-1 div.sk-parallel {display: flex;align-items: stretch;justify-content: center;background-color: white;position: relative;}#sk-container-id-1 div.sk-item::before, #sk-container-id-1 div.sk-parallel-item::before {content: \"\";position: absolute;border-left: 1px solid gray;box-sizing: border-box;top: 0;bottom: 0;left: 50%;z-index: -1;}#sk-container-id-1 div.sk-parallel-item {display: flex;flex-direction: column;z-index: 1;position: relative;background-color: white;}#sk-container-id-1 div.sk-parallel-item:first-child::after {align-self: flex-end;width: 50%;}#sk-container-id-1 div.sk-parallel-item:last-child::after {align-self: flex-start;width: 50%;}#sk-container-id-1 div.sk-parallel-item:only-child::after {width: 0;}#sk-container-id-1 div.sk-dashed-wrapped {border: 1px dashed gray;margin: 0 0.4em 0.5em 0.4em;box-sizing: border-box;padding-bottom: 0.4em;background-color: white;}#sk-container-id-1 div.sk-label label {font-family: monospace;font-weight: bold;display: inline-block;line-height: 1.2em;}#sk-container-id-1 div.sk-label-container {text-align: center;}#sk-container-id-1 div.sk-container {/* jupyter's `normalize.less` sets `[hidden] { display: none; }` but bootstrap.min.css set `[hidden] { display: none !important; }` so we also need the `!important` here to be able to override the default hidden behavior on the sphinx rendered scikit-learn.org. See: https://github.com/scikit-learn/scikit-learn/issues/21755 */display: inline-block !important;position: relative;}#sk-container-id-1 div.sk-text-repr-fallback {display: none;}</style><div id=\"sk-container-id-1\" class=\"sk-top-container\"><div class=\"sk-text-repr-fallback\"><pre>SVC(C=0.001, kernel=&#x27;linear&#x27;, probability=True)</pre><b>In a Jupyter environment, please rerun this cell to show the HTML representation or trust the notebook. <br />On GitHub, the HTML representation is unable to render, please try loading this page with nbviewer.org.</b></div><div class=\"sk-container\" hidden><div class=\"sk-item\"><div class=\"sk-estimator sk-toggleable\"><input class=\"sk-toggleable__control sk-hidden--visually\" id=\"sk-estimator-id-1\" type=\"checkbox\" checked><label for=\"sk-estimator-id-1\" class=\"sk-toggleable__label sk-toggleable__label-arrow\">SVC</label><div class=\"sk-toggleable__content\"><pre>SVC(C=0.001, kernel=&#x27;linear&#x27;, probability=True)</pre></div></div></div></div></div>"
      ],
      "text/plain": [
       "SVC(C=0.001, kernel='linear', probability=True)"
      ]
     },
     "execution_count": 8,
     "metadata": {},
     "output_type": "execute_result"
    }
   ],
   "source": [
    "model = SVC(C=0.001, kernel=\"linear\", probability=True)\n",
    "\n",
    "model.fit(X_train, y_train)"
   ]
  },
  {
   "cell_type": "markdown",
   "id": "2d24208b",
   "metadata": {
    "papermill": {
     "duration": 0.003599,
     "end_time": "2022-11-29T06:44:28.914920",
     "exception": false,
     "start_time": "2022-11-29T06:44:28.911321",
     "status": "completed"
    },
    "tags": []
   },
   "source": [
    "### Q: Can the labels returned by `predict(..)` be computed from probabilities returned by the `predict_prob`-method?"
   ]
  },
  {
   "cell_type": "code",
   "execution_count": 9,
   "id": "402e9876",
   "metadata": {
    "execution": {
     "iopub.execute_input": "2022-11-29T06:44:28.923517Z",
     "iopub.status.busy": "2022-11-29T06:44:28.923259Z",
     "iopub.status.idle": "2022-11-29T06:44:28.961719Z",
     "shell.execute_reply": "2022-11-29T06:44:28.961103Z"
    },
    "papermill": {
     "duration": 0.044932,
     "end_time": "2022-11-29T06:44:28.963451",
     "exception": false,
     "start_time": "2022-11-29T06:44:28.918519",
     "status": "completed"
    },
    "tags": []
   },
   "outputs": [
    {
     "name": "stdout",
     "output_type": "stream",
     "text": [
      " - Logging nr_max_prob_neq_label (int) : 2\n"
     ]
    }
   ],
   "source": [
    "import numpy as np\n",
    "\n",
    "y_train_labels = model.predict(X_train)\n",
    "y_train_probabilities = model.predict_proba(X_train)\n",
    "assert y_train_probabilities.shape == (len(y_train), 10)\n",
    "\n",
    "y_train_max_prob_labels = np.argmax(y_train_probabilities, axis=1)\n",
    "assert y_train_labels.shape == y_train_max_prob_labels.shape == y_train.shape\n",
    "\n",
    "# If the predicted labels would coincide with the labels that have\n",
    "# maximum probability, the below number would be zero\n",
    "logger.log_int(\n",
    "    \"nr_max_prob_neq_label\", int(sum(y_train_max_prob_labels != y_train_labels))\n",
    ")"
   ]
  },
  {
   "cell_type": "markdown",
   "id": "85fb28f8",
   "metadata": {
    "papermill": {
     "duration": 0.004922,
     "end_time": "2022-11-29T06:44:28.972156",
     "exception": false,
     "start_time": "2022-11-29T06:44:28.967234",
     "status": "completed"
    },
    "tags": []
   },
   "source": [
    "The explanation is (likely) explained in the SVC source, see\n",
    "[here](https://github.com/scikit-learn/scikit-learn/blob/main/sklearn/svm/_base.py).\n",
    "Namely, the outputs from `predict(..)` and `predict_proba(..)` may not in some\n",
    "cases be compatible since the latter is computed using cross-validation while\n",
    "the former is not. Thus, the above number need not be zero."
   ]
  },
  {
   "cell_type": "markdown",
   "id": "05fea636",
   "metadata": {
    "papermill": {
     "duration": 0.005137,
     "end_time": "2022-11-29T06:44:28.980678",
     "exception": false,
     "start_time": "2022-11-29T06:44:28.975541",
     "status": "completed"
    },
    "tags": []
   },
   "source": [
    "## Persist model"
   ]
  },
  {
   "cell_type": "code",
   "execution_count": 10,
   "id": "97eb873a",
   "metadata": {
    "execution": {
     "iopub.execute_input": "2022-11-29T06:44:28.989056Z",
     "iopub.status.busy": "2022-11-29T06:44:28.988777Z",
     "iopub.status.idle": "2022-11-29T06:44:29.769927Z",
     "shell.execute_reply": "2022-11-29T06:44:29.769259Z"
    },
    "papermill": {
     "duration": 0.787931,
     "end_time": "2022-11-29T06:44:29.772094",
     "exception": false,
     "start_time": "2022-11-29T06:44:28.984163",
     "status": "completed"
    },
    "tags": []
   },
   "outputs": [],
   "source": [
    "from skl2onnx import convert_sklearn\n",
    "from skl2onnx.common.data_types import FloatTensorType\n",
    "\n",
    "#\n",
    "from common.io import datalake_root, write_onnx"
   ]
  },
  {
   "cell_type": "code",
   "execution_count": 11,
   "id": "396616e0",
   "metadata": {
    "execution": {
     "iopub.execute_input": "2022-11-29T06:44:29.781269Z",
     "iopub.status.busy": "2022-11-29T06:44:29.780959Z",
     "iopub.status.idle": "2022-11-29T06:44:29.819826Z",
     "shell.execute_reply": "2022-11-29T06:44:29.819230Z"
    },
    "papermill": {
     "duration": 0.04574,
     "end_time": "2022-11-29T06:44:29.821805",
     "exception": false,
     "start_time": "2022-11-29T06:44:29.776065",
     "status": "completed"
    },
    "tags": []
   },
   "outputs": [],
   "source": [
    "# convert sklearn model into onnx and persist to data lake\n",
    "\n",
    "model_onnx = convert_sklearn(\n",
    "    model, initial_types=[(\"float_input_8x8_image\", FloatTensorType([None, 8 * 8]))]\n",
    ")\n",
    "write_onnx(\n",
    "    datalake_root(P)\n",
    "    / \"models\"\n",
    "    / f\"nr_train_images={P['task.nr_train_images']}\"\n",
    "    / \"model.onnx\",\n",
    "    model_onnx,\n",
    ")"
   ]
  },
  {
   "cell_type": "code",
   "execution_count": null,
   "id": "0202788a",
   "metadata": {
    "papermill": {
     "duration": 0.003865,
     "end_time": "2022-11-29T06:44:29.829430",
     "exception": false,
     "start_time": "2022-11-29T06:44:29.825565",
     "status": "completed"
    },
    "tags": []
   },
   "outputs": [],
   "source": []
  }
 ],
 "metadata": {
  "jupytext": {
   "cell_metadata_filter": "tags,-all",
   "main_language": "python",
   "notebook_metadata_filter": "-all"
  },
  "language_info": {
   "codemirror_mode": {
    "name": "ipython",
    "version": 3
   },
   "file_extension": ".py",
   "mimetype": "text/x-python",
   "name": "python",
   "nbconvert_exporter": "python",
   "pygments_lexer": "ipython3",
   "version": "3.8.10"
  },
  "papermill": {
   "default_parameters": {},
   "duration": 4.913387,
   "end_time": "2022-11-29T06:44:30.952017",
   "environment_variables": {},
   "exception": null,
   "input_path": "/home/host_user/workspace/mnist-demo-pipeline/mnist-demo-pipeline/notebooks/temp-notebook-4fp3vmzx.ipynb",
   "output_path": "notebooks/train-model.ipynb",
   "parameters": {
    "P": {
     "_opentelemetry_traceparent": "00-609948c3182c1b41681d908af5a0b764-1fad38ed1ebb95e8-01",
     "pipeline.data_lake_root": "/pipeline-outputs/data-lake",
     "pipeline.github.actor": "matiasdahl",
     "pipeline.github.base_ref": "",
     "pipeline.github.event_name": "schedule",
     "pipeline.github.head_ref": "",
     "pipeline.github.job": "run-tests-pipeline-and-persist-pipeline-outputs",
     "pipeline.github.ref": "refs/heads/development",
     "pipeline.github.ref_name": "development",
     "pipeline.github.ref_type": "branch",
     "pipeline.github.repository": "matiasdahl/dev-mnist-digits-demo-pipeline",
     "pipeline.github.run_id": "3571661389",
     "pipeline.github.runner_name": "Hosted Agent",
     "pipeline.github.sha": "ace0d01011d5e914f1921450dd5a59c11367b38d",
     "pipeline.github.workflow": "Run automated tests, pipeline and deploy results to static reporting site",
     "pipeline.pipeline_run_id": "82b134e5-344c-4da6-8ccc-c5841de0b257",
     "pipeline.run_environment": "ci",
     "run.retry_nr": "0",
     "task.max_nr_retries": "1",
     "task.notebook": "notebooks/train-model.py",
     "task.nr_train_images": 800,
     "task.num_cpus": 1,
     "task.timeout_s": "None"
    }
   },
   "start_time": "2022-11-29T06:44:26.038630",
   "version": "2.3.3"
  }
 },
 "nbformat": 4,
 "nbformat_minor": 5
}