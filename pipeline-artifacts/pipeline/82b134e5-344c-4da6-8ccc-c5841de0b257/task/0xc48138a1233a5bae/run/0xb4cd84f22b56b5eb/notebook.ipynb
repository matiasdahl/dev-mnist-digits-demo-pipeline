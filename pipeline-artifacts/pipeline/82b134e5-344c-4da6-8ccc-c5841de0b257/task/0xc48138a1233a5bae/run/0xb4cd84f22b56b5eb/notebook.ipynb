{
 "cells": [
  {
   "cell_type": "markdown",
   "id": "13c4b6a7",
   "metadata": {
    "papermill": {
     "duration": 0.005521,
     "end_time": "2022-11-29T06:44:38.406341",
     "exception": false,
     "start_time": "2022-11-29T06:44:38.400820",
     "status": "completed"
    },
    "tags": []
   },
   "source": [
    "# Benchmark model\n",
    "\n",
    "The purpose of this notebook is to benchmark persisted onnx-model (trained in the\n",
    "previous step) against evaluation set."
   ]
  },
  {
   "cell_type": "markdown",
   "id": "9eb7f3f8",
   "metadata": {
    "papermill": {
     "duration": 0.00428,
     "end_time": "2022-11-29T06:44:38.416243",
     "exception": false,
     "start_time": "2022-11-29T06:44:38.411963",
     "status": "completed"
    },
    "tags": []
   },
   "source": [
    "### Determine run parameters"
   ]
  },
  {
   "cell_type": "code",
   "execution_count": 1,
   "id": "38e0398e",
   "metadata": {
    "execution": {
     "iopub.execute_input": "2022-11-29T06:44:38.427527Z",
     "iopub.status.busy": "2022-11-29T06:44:38.426711Z",
     "iopub.status.idle": "2022-11-29T06:44:38.434862Z",
     "shell.execute_reply": "2022-11-29T06:44:38.434308Z"
    },
    "lines_to_next_cell": 0,
    "papermill": {
     "duration": 0.016449,
     "end_time": "2022-11-29T06:44:38.437480",
     "exception": false,
     "start_time": "2022-11-29T06:44:38.421031",
     "status": "completed"
    },
    "tags": []
   },
   "outputs": [],
   "source": [
    "# ----------------- Parameters for interactive development --------------\n",
    "P = {\n",
    "    \"pipeline.data_lake_root\": \"/pipeline-outputs/data-lake\",\n",
    "    \"task.nr_train_images\": 600,\n",
    "}"
   ]
  },
  {
   "cell_type": "code",
   "execution_count": 2,
   "id": "86d0f77f",
   "metadata": {
    "execution": {
     "iopub.execute_input": "2022-11-29T06:44:38.456154Z",
     "iopub.status.busy": "2022-11-29T06:44:38.455880Z",
     "iopub.status.idle": "2022-11-29T06:44:38.459215Z",
     "shell.execute_reply": "2022-11-29T06:44:38.458698Z"
    },
    "lines_to_next_cell": 0,
    "papermill": {
     "duration": 0.019335,
     "end_time": "2022-11-29T06:44:38.461883",
     "exception": false,
     "start_time": "2022-11-29T06:44:38.442548",
     "status": "completed"
    },
    "tags": [
     "parameters"
    ]
   },
   "outputs": [],
   "source": [
    "# - During automated runs parameters will be injected in the below cell -"
   ]
  },
  {
   "cell_type": "code",
   "execution_count": 3,
   "id": "ba2f1650",
   "metadata": {
    "execution": {
     "iopub.execute_input": "2022-11-29T06:44:38.472635Z",
     "iopub.status.busy": "2022-11-29T06:44:38.472377Z",
     "iopub.status.idle": "2022-11-29T06:44:38.478158Z",
     "shell.execute_reply": "2022-11-29T06:44:38.477555Z"
    },
    "papermill": {
     "duration": 0.013177,
     "end_time": "2022-11-29T06:44:38.480719",
     "exception": false,
     "start_time": "2022-11-29T06:44:38.467542",
     "status": "completed"
    },
    "tags": [
     "injected-parameters"
    ]
   },
   "outputs": [],
   "source": [
    "# Parameters\n",
    "P = {\n",
    "    \"pipeline.data_lake_root\": \"/pipeline-outputs/data-lake\",\n",
    "    \"pipeline.run_environment\": \"ci\",\n",
    "    \"pipeline.pipeline_run_id\": \"82b134e5-344c-4da6-8ccc-c5841de0b257\",\n",
    "    \"pipeline.github.repository\": \"matiasdahl/dev-mnist-digits-demo-pipeline\",\n",
    "    \"pipeline.github.workflow\": \"Run automated tests, pipeline and deploy results to static reporting site\",\n",
    "    \"pipeline.github.runner_name\": \"Hosted Agent\",\n",
    "    \"pipeline.github.run_id\": \"3571661389\",\n",
    "    \"pipeline.github.actor\": \"matiasdahl\",\n",
    "    \"pipeline.github.job\": \"run-tests-pipeline-and-persist-pipeline-outputs\",\n",
    "    \"pipeline.github.base_ref\": \"\",\n",
    "    \"pipeline.github.head_ref\": \"\",\n",
    "    \"pipeline.github.sha\": \"ace0d01011d5e914f1921450dd5a59c11367b38d\",\n",
    "    \"pipeline.github.ref\": \"refs/heads/development\",\n",
    "    \"pipeline.github.ref_type\": \"branch\",\n",
    "    \"pipeline.github.ref_name\": \"development\",\n",
    "    \"pipeline.github.event_name\": \"schedule\",\n",
    "    \"task.nr_train_images\": 1200,\n",
    "    \"task.notebook\": \"notebooks/benchmark-model.py\",\n",
    "    \"task.max_nr_retries\": \"1\",\n",
    "    \"run.retry_nr\": \"0\",\n",
    "    \"task.timeout_s\": \"None\",\n",
    "    \"task.num_cpus\": 1,\n",
    "    \"_opentelemetry_traceparent\": \"00-609948c3182c1b41681d908af5a0b764-36646d6bf1b5ca5a-01\",\n",
    "}\n"
   ]
  },
  {
   "cell_type": "code",
   "execution_count": 4,
   "id": "974a571a",
   "metadata": {
    "execution": {
     "iopub.execute_input": "2022-11-29T06:44:38.491277Z",
     "iopub.status.busy": "2022-11-29T06:44:38.490862Z",
     "iopub.status.idle": "2022-11-29T06:44:38.493799Z",
     "shell.execute_reply": "2022-11-29T06:44:38.493310Z"
    },
    "lines_to_next_cell": 0,
    "papermill": {
     "duration": 0.012268,
     "end_time": "2022-11-29T06:44:38.496976",
     "exception": false,
     "start_time": "2022-11-29T06:44:38.484708",
     "status": "completed"
    },
    "tags": []
   },
   "outputs": [],
   "source": [
    "# -----------------------------------------------------------------------"
   ]
  },
  {
   "cell_type": "markdown",
   "id": "b4071c90",
   "metadata": {
    "papermill": {
     "duration": 0.00582,
     "end_time": "2022-11-29T06:44:38.509282",
     "exception": false,
     "start_time": "2022-11-29T06:44:38.503462",
     "status": "completed"
    },
    "tags": []
   },
   "source": [
    "---"
   ]
  },
  {
   "cell_type": "markdown",
   "id": "6d92ac56",
   "metadata": {
    "lines_to_next_cell": 2,
    "papermill": {
     "duration": 0.00525,
     "end_time": "2022-11-29T06:44:38.518503",
     "exception": false,
     "start_time": "2022-11-29T06:44:38.513253",
     "status": "completed"
    },
    "tags": []
   },
   "source": [
    "### Notebook code"
   ]
  },
  {
   "cell_type": "code",
   "execution_count": 5,
   "id": "8f472fb6",
   "metadata": {
    "execution": {
     "iopub.execute_input": "2022-11-29T06:44:38.528671Z",
     "iopub.status.busy": "2022-11-29T06:44:38.528412Z",
     "iopub.status.idle": "2022-11-29T06:44:39.613497Z",
     "shell.execute_reply": "2022-11-29T06:44:39.612511Z"
    },
    "papermill": {
     "duration": 1.09262,
     "end_time": "2022-11-29T06:44:39.615291",
     "exception": false,
     "start_time": "2022-11-29T06:44:38.522671",
     "status": "completed"
    },
    "tags": []
   },
   "outputs": [
    {
     "name": "stderr",
     "output_type": "stream",
     "text": [
      "2022-11-29 06:44:39,452\tINFO worker.py:842 -- Connecting to existing Ray cluster at address: 172.17.0.2:6379\n"
     ]
    }
   ],
   "source": [
    "import itertools as it\n",
    "\n",
    "#\n",
    "import numpy as np\n",
    "import matplotlib.pyplot as plt\n",
    "\n",
    "#\n",
    "from pynb_dag_runner.tasks.task_opentelemetry_logging import PydarLogger\n",
    "\n",
    "#\n",
    "from common.io import datalake_root\n",
    "\n",
    "logger = PydarLogger(P)"
   ]
  },
  {
   "cell_type": "markdown",
   "id": "269040e8",
   "metadata": {
    "papermill": {
     "duration": 0.004697,
     "end_time": "2022-11-29T06:44:39.625084",
     "exception": false,
     "start_time": "2022-11-29T06:44:39.620387",
     "status": "completed"
    },
    "tags": []
   },
   "source": [
    "## Load persisted onnx-model and evaluation data"
   ]
  },
  {
   "cell_type": "code",
   "execution_count": 6,
   "id": "51b5abdb",
   "metadata": {
    "execution": {
     "iopub.execute_input": "2022-11-29T06:44:39.636327Z",
     "iopub.status.busy": "2022-11-29T06:44:39.635982Z",
     "iopub.status.idle": "2022-11-29T06:44:39.639353Z",
     "shell.execute_reply": "2022-11-29T06:44:39.638814Z"
    },
    "papermill": {
     "duration": 0.010887,
     "end_time": "2022-11-29T06:44:39.641610",
     "exception": false,
     "start_time": "2022-11-29T06:44:39.630723",
     "status": "completed"
    },
    "tags": []
   },
   "outputs": [],
   "source": [
    "from common.io import read_onnx, get_onnx_inputs, get_onnx_outputs, read_numpy"
   ]
  },
  {
   "cell_type": "code",
   "execution_count": 7,
   "id": "9b8bf434",
   "metadata": {
    "execution": {
     "iopub.execute_input": "2022-11-29T06:44:39.651374Z",
     "iopub.status.busy": "2022-11-29T06:44:39.651148Z",
     "iopub.status.idle": "2022-11-29T06:44:39.663639Z",
     "shell.execute_reply": "2022-11-29T06:44:39.663086Z"
    },
    "lines_to_next_cell": 0,
    "papermill": {
     "duration": 0.019113,
     "end_time": "2022-11-29T06:44:39.665498",
     "exception": false,
     "start_time": "2022-11-29T06:44:39.646385",
     "status": "completed"
    },
    "tags": []
   },
   "outputs": [],
   "source": [
    "onnx_inference_session = read_onnx(\n",
    "    datalake_root(P)\n",
    "    / \"models\"\n",
    "    / f\"nr_train_images={P['task.nr_train_images']}\"\n",
    "    / \"model.onnx\"\n",
    ")"
   ]
  },
  {
   "cell_type": "markdown",
   "id": "620ccf0d",
   "metadata": {
    "papermill": {
     "duration": 0.004657,
     "end_time": "2022-11-29T06:44:39.674590",
     "exception": false,
     "start_time": "2022-11-29T06:44:39.669933",
     "status": "completed"
    },
    "tags": []
   },
   "source": [
    "### Record structure of inputs and outputs for ONNX model\n",
    "\n",
    "(this should likely be done in training notebook)"
   ]
  },
  {
   "cell_type": "code",
   "execution_count": 8,
   "id": "75b4dbab",
   "metadata": {
    "execution": {
     "iopub.execute_input": "2022-11-29T06:44:39.684082Z",
     "iopub.status.busy": "2022-11-29T06:44:39.683840Z",
     "iopub.status.idle": "2022-11-29T06:44:39.689241Z",
     "shell.execute_reply": "2022-11-29T06:44:39.688733Z"
    },
    "papermill": {
     "duration": 0.013641,
     "end_time": "2022-11-29T06:44:39.692349",
     "exception": false,
     "start_time": "2022-11-29T06:44:39.678708",
     "status": "completed"
    },
    "tags": []
   },
   "outputs": [
    {
     "name": "stdout",
     "output_type": "stream",
     "text": [
      "{\n",
      "  \"inputs\": [\n",
      "    {\n",
      "      \"name\": \"float_input_8x8_image\",\n",
      "      \"shape\": [\n",
      "        null,\n",
      "        64\n",
      "      ],\n",
      "      \"type\": \"tensor(float)\"\n",
      "    }\n",
      "  ],\n",
      "  \"outputs\": [\n",
      "    {\n",
      "      \"name\": \"output_label\",\n",
      "      \"shape\": [\n",
      "        null\n",
      "      ],\n",
      "      \"type\": \"tensor(int64)\"\n",
      "    },\n",
      "    {\n",
      "      \"name\": \"output_probability\",\n",
      "      \"shape\": [],\n",
      "      \"type\": \"seq(map(int64,tensor(float)))\"\n",
      "    }\n",
      "  ]\n",
      "}\n"
     ]
    }
   ],
   "source": [
    "import json\n",
    "\n",
    "onnx_io = json.dumps(\n",
    "    {\n",
    "        \"inputs\": get_onnx_inputs(onnx_inference_session),\n",
    "        \"outputs\": get_onnx_outputs(onnx_inference_session),\n",
    "    },\n",
    "    indent=2,\n",
    ")\n",
    "\n",
    "\n",
    "logger.log_artefact(\"onnx_io_structure.json\", onnx_io)\n",
    "print(onnx_io)"
   ]
  },
  {
   "cell_type": "markdown",
   "id": "cab41e89",
   "metadata": {
    "papermill": {
     "duration": 0.004188,
     "end_time": "2022-11-29T06:44:39.701283",
     "exception": false,
     "start_time": "2022-11-29T06:44:39.697095",
     "status": "completed"
    },
    "tags": []
   },
   "source": [
    "### Evaluate model performance on evaluation data set"
   ]
  },
  {
   "cell_type": "code",
   "execution_count": 9,
   "id": "d8b1f081",
   "metadata": {
    "execution": {
     "iopub.execute_input": "2022-11-29T06:44:39.710901Z",
     "iopub.status.busy": "2022-11-29T06:44:39.710628Z",
     "iopub.status.idle": "2022-11-29T06:44:39.715035Z",
     "shell.execute_reply": "2022-11-29T06:44:39.714466Z"
    },
    "papermill": {
     "duration": 0.012277,
     "end_time": "2022-11-29T06:44:39.717627",
     "exception": false,
     "start_time": "2022-11-29T06:44:39.705350",
     "status": "completed"
    },
    "tags": []
   },
   "outputs": [],
   "source": [
    "# load evaluation data\n",
    "X_test = read_numpy(datalake_root(P) / \"test-data\" / \"digits.numpy\")\n",
    "y_test = read_numpy(datalake_root(P) / \"test-data\" / \"labels.numpy\")"
   ]
  },
  {
   "cell_type": "code",
   "execution_count": 10,
   "id": "13875b8f",
   "metadata": {
    "execution": {
     "iopub.execute_input": "2022-11-29T06:44:39.727504Z",
     "iopub.status.busy": "2022-11-29T06:44:39.727287Z",
     "iopub.status.idle": "2022-11-29T06:44:39.791227Z",
     "shell.execute_reply": "2022-11-29T06:44:39.790618Z"
    },
    "papermill": {
     "duration": 0.071106,
     "end_time": "2022-11-29T06:44:39.793129",
     "exception": false,
     "start_time": "2022-11-29T06:44:39.722023",
     "status": "completed"
    },
    "tags": []
   },
   "outputs": [],
   "source": [
    "def get_model_outputs(X, onnx_inference_session):\n",
    "    y_pred_labels, y_pred_map = onnx_inference_session.run(\n",
    "        [\"output_label\", \"output_probability\"],\n",
    "        {\"float_input_8x8_image\": X.astype(np.float32)},\n",
    "    )\n",
    "    y_pred_probs = np.array(\n",
    "        [[probabilities[digit] for digit in range(10)] for probabilities in y_pred_map]\n",
    "    )\n",
    "\n",
    "    assert y_pred_labels.shape == (X.shape[0],)\n",
    "    assert y_pred_probs.shape == (X.shape[0], 10)\n",
    "\n",
    "    return y_pred_labels, y_pred_probs\n",
    "\n",
    "\n",
    "# Note: as shown in the training notebook, the predicted labels and probabilities\n",
    "# computed below need not be compatible.\n",
    "y_pred_labels_test, y_pred_probs_test = get_model_outputs(\n",
    "    X_test, onnx_inference_session\n",
    ")"
   ]
  },
  {
   "cell_type": "markdown",
   "id": "dda65169",
   "metadata": {
    "papermill": {
     "duration": 0.00621,
     "end_time": "2022-11-29T06:44:39.807059",
     "exception": false,
     "start_time": "2022-11-29T06:44:39.800849",
     "status": "completed"
    },
    "tags": []
   },
   "source": [
    "### Confusion matrix"
   ]
  },
  {
   "cell_type": "code",
   "execution_count": 11,
   "id": "bd5f5926",
   "metadata": {
    "execution": {
     "iopub.execute_input": "2022-11-29T06:44:39.819403Z",
     "iopub.status.busy": "2022-11-29T06:44:39.818696Z",
     "iopub.status.idle": "2022-11-29T06:44:39.822424Z",
     "shell.execute_reply": "2022-11-29T06:44:39.821757Z"
    },
    "papermill": {
     "duration": 0.01217,
     "end_time": "2022-11-29T06:44:39.824107",
     "exception": false,
     "start_time": "2022-11-29T06:44:39.811937",
     "status": "completed"
    },
    "tags": []
   },
   "outputs": [],
   "source": [
    "# TODO"
   ]
  },
  {
   "cell_type": "markdown",
   "id": "34b6a5e5",
   "metadata": {
    "papermill": {
     "duration": 0.004688,
     "end_time": "2022-11-29T06:44:39.835349",
     "exception": false,
     "start_time": "2022-11-29T06:44:39.830661",
     "status": "completed"
    },
    "tags": []
   },
   "source": [
    "### Plot predicted probabilities for each classifier over all evaluation digit images"
   ]
  },
  {
   "cell_type": "code",
   "execution_count": 12,
   "id": "8187867f",
   "metadata": {
    "execution": {
     "iopub.execute_input": "2022-11-29T06:44:39.850174Z",
     "iopub.status.busy": "2022-11-29T06:44:39.849813Z",
     "iopub.status.idle": "2022-11-29T06:44:42.781083Z",
     "shell.execute_reply": "2022-11-29T06:44:42.780492Z"
    },
    "papermill": {
     "duration": 2.939406,
     "end_time": "2022-11-29T06:44:42.782687",
     "exception": false,
     "start_time": "2022-11-29T06:44:39.843281",
     "status": "completed"
    },
    "tags": []
   },
   "outputs": [
    {
     "data": {
      "image/png": "[encoded data removed]",
      "text/plain": [
       "<Figure size 1600x600 with 10 Axes>"
      ]
     },
     "metadata": {},
     "output_type": "display_data"
    }
   ],
   "source": [
    "def plot_per_digit_probabilities(y_pred_probs):\n",
    "    fig, axs = plt.subplots(nrows=2, ncols=5, figsize=(16, 6))\n",
    "\n",
    "    for (r, c), digit, ax in zip(\n",
    "        it.product(range(2), range(5)), range(10), axs.reshape(-1)\n",
    "    ):\n",
    "        ax.hist(y_pred_probs_test[:, digit], bins=20)\n",
    "\n",
    "        ax.set_title(f\"Digit {digit}\")\n",
    "        if r == 1 and c == 2:\n",
    "            ax.set_xlabel(\"probability\", fontsize=16)\n",
    "\n",
    "        if c == 0:\n",
    "            ax.set_ylabel(\"counts\", fontsize=16)\n",
    "        ax.set_yscale(\"log\")\n",
    "\n",
    "    fig.tight_layout()\n",
    "    fig.suptitle(\n",
    "        f\"Distributions of prediction probabilities for each digit \"\n",
    "        f\"(on evaluation data, n={y_pred_probs.shape[0]})\",\n",
    "        fontsize=20,\n",
    "    )\n",
    "    fig.tight_layout()\n",
    "    fig.show()\n",
    "\n",
    "    return fig\n",
    "\n",
    "\n",
    "fig = plot_per_digit_probabilities(y_pred_probs_test)"
   ]
  },
  {
   "cell_type": "markdown",
   "id": "ffec8df1",
   "metadata": {
    "papermill": {
     "duration": 0.006363,
     "end_time": "2022-11-29T06:44:42.795403",
     "exception": false,
     "start_time": "2022-11-29T06:44:42.789040",
     "status": "completed"
    },
    "tags": []
   },
   "source": [
    "From the above distributions we see that most digits have clear separation between\n",
    "high and lower probabilities. Morover, in each case there is roughly an order of\n",
    "magnitude more of digits with low probabilities. This is compatible with digits\n",
    "being roughly evenly distributed in the data."
   ]
  },
  {
   "cell_type": "code",
   "execution_count": 13,
   "id": "1a2d25c1",
   "metadata": {
    "execution": {
     "iopub.execute_input": "2022-11-29T06:44:42.809041Z",
     "iopub.status.busy": "2022-11-29T06:44:42.808770Z",
     "iopub.status.idle": "2022-11-29T06:44:43.245193Z",
     "shell.execute_reply": "2022-11-29T06:44:43.244624Z"
    },
    "papermill": {
     "duration": 0.445274,
     "end_time": "2022-11-29T06:44:43.246876",
     "exception": false,
     "start_time": "2022-11-29T06:44:42.801602",
     "status": "completed"
    },
    "tags": []
   },
   "outputs": [],
   "source": [
    "logger.log_figure(\"per-digit-probabilities.png\", fig)"
   ]
  },
  {
   "cell_type": "markdown",
   "id": "7eb54320",
   "metadata": {
    "papermill": {
     "duration": 0.005891,
     "end_time": "2022-11-29T06:44:43.258741",
     "exception": false,
     "start_time": "2022-11-29T06:44:43.252850",
     "status": "completed"
    },
    "tags": []
   },
   "source": [
    "### Plot ROC curves for individual one-vs-rest classifiers"
   ]
  },
  {
   "cell_type": "code",
   "execution_count": 14,
   "id": "b6155bdf",
   "metadata": {
    "execution": {
     "iopub.execute_input": "2022-11-29T06:44:43.271237Z",
     "iopub.status.busy": "2022-11-29T06:44:43.270968Z",
     "iopub.status.idle": "2022-11-29T06:44:43.651673Z",
     "shell.execute_reply": "2022-11-29T06:44:43.651069Z"
    },
    "papermill": {
     "duration": 0.388496,
     "end_time": "2022-11-29T06:44:43.653371",
     "exception": false,
     "start_time": "2022-11-29T06:44:43.264875",
     "status": "completed"
    },
    "tags": []
   },
   "outputs": [],
   "source": [
    "from sklearn import metrics"
   ]
  },
  {
   "cell_type": "code",
   "execution_count": 15,
   "id": "3be892a4",
   "metadata": {
    "execution": {
     "iopub.execute_input": "2022-11-29T06:44:43.667447Z",
     "iopub.status.busy": "2022-11-29T06:44:43.666969Z",
     "iopub.status.idle": "2022-11-29T06:44:44.776286Z",
     "shell.execute_reply": "2022-11-29T06:44:44.775726Z"
    },
    "papermill": {
     "duration": 1.118762,
     "end_time": "2022-11-29T06:44:44.778581",
     "exception": false,
     "start_time": "2022-11-29T06:44:43.659819",
     "status": "completed"
    },
    "tags": []
   },
   "outputs": [
    {
     "data": {
      "image/png": "[encoded data removed]",
      "text/plain": [
       "<Figure size 1600x800 with 10 Axes>"
      ]
     },
     "metadata": {},
     "output_type": "display_data"
    }
   ],
   "source": [
    "def plot_roc_curves(y, y_pred_probs):\n",
    "    # based on example code\n",
    "    # https://scikit-learn.org/stable/auto_examples/model_selection/plot_roc.html\n",
    "\n",
    "    fig, axs = plt.subplots(nrows=2, ncols=5, figsize=(16, 8))\n",
    "\n",
    "    roc_auc_dict = {}\n",
    "\n",
    "    for (r, c), digit, ax in zip(\n",
    "        it.product(range(2), range(5)), range(10), axs.reshape(-1)\n",
    "    ):\n",
    "        fpr, tpr, _ = metrics.roc_curve(y == digit, y_pred_probs[:, digit])\n",
    "        auc = metrics.auc(fpr, tpr)\n",
    "        roc_auc_dict[str(digit)] = auc\n",
    "\n",
    "        ax.plot(fpr, tpr, label=f\"ROC AUC={round(auc, 3)}\")\n",
    "\n",
    "        ax.set_title(f\"\\nDigit {digit}\", fontsize=16)\n",
    "        if r == 1:\n",
    "            ax.set_xlabel(\"FPR\", fontsize=18)\n",
    "\n",
    "        if c == 0:\n",
    "            ax.set_ylabel(\"TPR\", fontsize=18)\n",
    "\n",
    "        ax.set_xlim([-0.05, 1.05])\n",
    "        ax.set_ylim([-0.05, 1.05])\n",
    "        ax.legend(loc=\"lower right\", frameon=False, fontsize=14)\n",
    "\n",
    "    fig.tight_layout()\n",
    "    fig.suptitle(\n",
    "        f\"ROC plots for one-vs-rest performances \"\n",
    "        f\"(on evaluation data, n={y_pred_probs_test.shape[1]}\",\n",
    "        fontsize=22,\n",
    "    )\n",
    "    fig.tight_layout()\n",
    "    fig.show()\n",
    "\n",
    "    return roc_auc_dict, fig\n",
    "\n",
    "\n",
    "roc_auc_dict, fig = plot_roc_curves(y_test, y_pred_probs_test)"
   ]
  },
  {
   "cell_type": "code",
   "execution_count": 16,
   "id": "13c82cb1",
   "metadata": {
    "execution": {
     "iopub.execute_input": "2022-11-29T06:44:44.798063Z",
     "iopub.status.busy": "2022-11-29T06:44:44.797795Z",
     "iopub.status.idle": "2022-11-29T06:44:45.061400Z",
     "shell.execute_reply": "2022-11-29T06:44:45.060736Z"
    },
    "papermill": {
     "duration": 0.272655,
     "end_time": "2022-11-29T06:44:45.063263",
     "exception": false,
     "start_time": "2022-11-29T06:44:44.790608",
     "status": "completed"
    },
    "tags": []
   },
   "outputs": [],
   "source": [
    "logger.log_figure(\"per-digit-roc-curves.png\", fig)"
   ]
  },
  {
   "cell_type": "code",
   "execution_count": 17,
   "id": "18808259",
   "metadata": {
    "execution": {
     "iopub.execute_input": "2022-11-29T06:44:45.078156Z",
     "iopub.status.busy": "2022-11-29T06:44:45.077878Z",
     "iopub.status.idle": "2022-11-29T06:44:45.086971Z",
     "shell.execute_reply": "2022-11-29T06:44:45.086314Z"
    },
    "papermill": {
     "duration": 0.019811,
     "end_time": "2022-11-29T06:44:45.090196",
     "exception": false,
     "start_time": "2022-11-29T06:44:45.070385",
     "status": "completed"
    },
    "tags": []
   },
   "outputs": [
    {
     "data": {
      "text/plain": [
       "{'0': 1.0,\n",
       " '1': 0.998950328022493,\n",
       " '2': 1.0,\n",
       " '3': 0.9998500468603562,\n",
       " '4': 0.9997713763145861,\n",
       " '5': 0.9996626054358013,\n",
       " '6': 0.999923792104862,\n",
       " '7': 0.9998475842097242,\n",
       " '8': 0.9955863808322825,\n",
       " '9': 0.9997332723670171}"
      ]
     },
     "execution_count": 17,
     "metadata": {},
     "output_type": "execute_result"
    }
   ],
   "source": [
    "roc_auc_dict"
   ]
  },
  {
   "cell_type": "code",
   "execution_count": 18,
   "id": "a68b57e5",
   "metadata": {
    "execution": {
     "iopub.execute_input": "2022-11-29T06:44:45.109089Z",
     "iopub.status.busy": "2022-11-29T06:44:45.108829Z",
     "iopub.status.idle": "2022-11-29T06:44:45.112914Z",
     "shell.execute_reply": "2022-11-29T06:44:45.112244Z"
    },
    "papermill": {
     "duration": 0.018468,
     "end_time": "2022-11-29T06:44:45.115606",
     "exception": false,
     "start_time": "2022-11-29T06:44:45.097138",
     "status": "completed"
    },
    "tags": []
   },
   "outputs": [
    {
     "name": "stdout",
     "output_type": "stream",
     "text": [
      " - Logging roc_auc_per_digit (json) : {'0': 1.0, '1': 0.998950328022493, '2': 1.0, '3': 0.9998500468603562, '4': 0.9997713763145861, '5': 0.9996626054358013, '6': 0.999923792104862, '7': 0.9998475842097242, '8': 0.9955863808322825, '9': 0.9997332723670171}\n"
     ]
    }
   ],
   "source": [
    "logger.log_value(\"roc_auc_per_digit\", roc_auc_dict)"
   ]
  },
  {
   "cell_type": "markdown",
   "id": "1cf14910",
   "metadata": {
    "papermill": {
     "duration": 0.006761,
     "end_time": "2022-11-29T06:44:45.128657",
     "exception": false,
     "start_time": "2022-11-29T06:44:45.121896",
     "status": "completed"
    },
    "tags": []
   },
   "source": [
    "### Compute and log mean ROC AUC score averaged over all digits"
   ]
  },
  {
   "cell_type": "code",
   "execution_count": 19,
   "id": "af622713",
   "metadata": {
    "execution": {
     "iopub.execute_input": "2022-11-29T06:44:45.143495Z",
     "iopub.status.busy": "2022-11-29T06:44:45.142856Z",
     "iopub.status.idle": "2022-11-29T06:44:45.156635Z",
     "shell.execute_reply": "2022-11-29T06:44:45.156098Z"
    },
    "papermill": {
     "duration": 0.022558,
     "end_time": "2022-11-29T06:44:45.158218",
     "exception": false,
     "start_time": "2022-11-29T06:44:45.135660",
     "status": "completed"
    },
    "tags": []
   },
   "outputs": [
    {
     "name": "stdout",
     "output_type": "stream",
     "text": [
      " - Logging roc_auc_class_mean (float) : 0.9993325386147122\n"
     ]
    }
   ],
   "source": [
    "roc_auc_macro = np.mean(list(roc_auc_dict.values()))\n",
    "\n",
    "logger.log_float(\"roc_auc_class_mean\", roc_auc_macro)\n",
    "\n",
    "# assert that the same value can be computed directly using sklearn\n",
    "assert roc_auc_macro == metrics.roc_auc_score(\n",
    "    y_test, y_pred_probs_test, average=\"macro\", multi_class=\"ovr\"\n",
    ")"
   ]
  },
  {
   "cell_type": "code",
   "execution_count": 20,
   "id": "342f53d1",
   "metadata": {
    "execution": {
     "iopub.execute_input": "2022-11-29T06:44:45.176684Z",
     "iopub.status.busy": "2022-11-29T06:44:45.175808Z",
     "iopub.status.idle": "2022-11-29T06:44:45.179018Z",
     "shell.execute_reply": "2022-11-29T06:44:45.178476Z"
    },
    "lines_to_next_cell": 0,
    "papermill": {
     "duration": 0.013397,
     "end_time": "2022-11-29T06:44:45.181373",
     "exception": false,
     "start_time": "2022-11-29T06:44:45.167976",
     "status": "completed"
    },
    "tags": []
   },
   "outputs": [],
   "source": [
    "# ---"
   ]
  },
  {
   "cell_type": "code",
   "execution_count": null,
   "id": "1a3899f8",
   "metadata": {
    "papermill": {
     "duration": 0.007094,
     "end_time": "2022-11-29T06:44:45.195659",
     "exception": false,
     "start_time": "2022-11-29T06:44:45.188565",
     "status": "completed"
    },
    "tags": []
   },
   "outputs": [],
   "source": []
  }
 ],
 "metadata": {
  "jupytext": {
   "cell_metadata_filter": "tags,-all",
   "main_language": "python",
   "notebook_metadata_filter": "-all"
  },
  "language_info": {
   "codemirror_mode": {
    "name": "ipython",
    "version": 3
   },
   "file_extension": ".py",
   "mimetype": "text/x-python",
   "name": "python",
   "nbconvert_exporter": "python",
   "pygments_lexer": "ipython3",
   "version": "3.8.10"
  },
  "papermill": {
   "default_parameters": {},
   "duration": 9.390258,
   "end_time": "2022-11-29T06:44:46.599046",
   "environment_variables": {},
   "exception": null,
   "input_path": "/home/host_user/workspace/mnist-demo-pipeline/mnist-demo-pipeline/notebooks/temp-notebook-etwxdlcu.ipynb",
   "output_path": "notebooks/benchmark-model.ipynb",
   "parameters": {
    "P": {
     "_opentelemetry_traceparent": "00-609948c3182c1b41681d908af5a0b764-36646d6bf1b5ca5a-01",
     "pipeline.data_lake_root": "/pipeline-outputs/data-lake",
     "pipeline.github.actor": "matiasdahl",
     "pipeline.github.base_ref": "",
     "pipeline.github.event_name": "schedule",
     "pipeline.github.head_ref": "",
     "pipeline.github.job": "run-tests-pipeline-and-persist-pipeline-outputs",
     "pipeline.github.ref": "refs/heads/development",
     "pipeline.github.ref_name": "development",
     "pipeline.github.ref_type": "branch",
     "pipeline.github.repository": "matiasdahl/dev-mnist-digits-demo-pipeline",
     "pipeline.github.run_id": "3571661389",
     "pipeline.github.runner_name": "Hosted Agent",
     "pipeline.github.sha": "ace0d01011d5e914f1921450dd5a59c11367b38d",
     "pipeline.github.workflow": "Run automated tests, pipeline and deploy results to static reporting site",
     "pipeline.pipeline_run_id": "82b134e5-344c-4da6-8ccc-c5841de0b257",
     "pipeline.run_environment": "ci",
     "run.retry_nr": "0",
     "task.max_nr_retries": "1",
     "task.notebook": "notebooks/benchmark-model.py",
     "task.nr_train_images": 1200,
     "task.num_cpus": 1,
     "task.timeout_s": "None"
    }
   },
   "start_time": "2022-11-29T06:44:37.208788",
   "version": "2.3.3"
  }
 },
 "nbformat": 4,
 "nbformat_minor": 5
}