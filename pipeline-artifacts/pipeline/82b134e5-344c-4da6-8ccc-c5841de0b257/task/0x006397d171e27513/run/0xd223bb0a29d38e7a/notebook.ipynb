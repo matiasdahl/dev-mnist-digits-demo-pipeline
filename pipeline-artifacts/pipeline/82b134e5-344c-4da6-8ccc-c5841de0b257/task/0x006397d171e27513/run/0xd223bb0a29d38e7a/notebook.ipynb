{
 "cells": [
  {
   "cell_type": "markdown",
   "id": "cf76ed01",
   "metadata": {
    "papermill": {
     "duration": 0.00595,
     "end_time": "2022-11-29T06:44:43.915555",
     "exception": false,
     "start_time": "2022-11-29T06:44:43.909605",
     "status": "completed"
    },
    "tags": []
   },
   "source": [
    "# Benchmark model\n",
    "\n",
    "The purpose of this notebook is to benchmark persisted onnx-model (trained in the\n",
    "previous step) against evaluation set."
   ]
  },
  {
   "cell_type": "markdown",
   "id": "0eb20120",
   "metadata": {
    "papermill": {
     "duration": 0.004648,
     "end_time": "2022-11-29T06:44:43.925163",
     "exception": false,
     "start_time": "2022-11-29T06:44:43.920515",
     "status": "completed"
    },
    "tags": []
   },
   "source": [
    "### Determine run parameters"
   ]
  },
  {
   "cell_type": "code",
   "execution_count": 1,
   "id": "5215b7c3",
   "metadata": {
    "execution": {
     "iopub.execute_input": "2022-11-29T06:44:43.939141Z",
     "iopub.status.busy": "2022-11-29T06:44:43.938823Z",
     "iopub.status.idle": "2022-11-29T06:44:43.947200Z",
     "shell.execute_reply": "2022-11-29T06:44:43.946617Z"
    },
    "lines_to_next_cell": 0,
    "papermill": {
     "duration": 0.019542,
     "end_time": "2022-11-29T06:44:43.949192",
     "exception": false,
     "start_time": "2022-11-29T06:44:43.929650",
     "status": "completed"
    },
    "tags": []
   },
   "outputs": [],
   "source": [
    "# ----------------- Parameters for interactive development --------------\n",
    "P = {\n",
    "    \"pipeline.data_lake_root\": \"/pipeline-outputs/data-lake\",\n",
    "    \"task.nr_train_images\": 600,\n",
    "}"
   ]
  },
  {
   "cell_type": "code",
   "execution_count": 2,
   "id": "08c8ba6a",
   "metadata": {
    "execution": {
     "iopub.execute_input": "2022-11-29T06:44:43.958701Z",
     "iopub.status.busy": "2022-11-29T06:44:43.958472Z",
     "iopub.status.idle": "2022-11-29T06:44:43.961599Z",
     "shell.execute_reply": "2022-11-29T06:44:43.961099Z"
    },
    "lines_to_next_cell": 0,
    "papermill": {
     "duration": 0.010229,
     "end_time": "2022-11-29T06:44:43.963801",
     "exception": false,
     "start_time": "2022-11-29T06:44:43.953572",
     "status": "completed"
    },
    "tags": [
     "parameters"
    ]
   },
   "outputs": [],
   "source": [
    "# - During automated runs parameters will be injected in the below cell -"
   ]
  },
  {
   "cell_type": "code",
   "execution_count": 3,
   "id": "ba525c83",
   "metadata": {
    "execution": {
     "iopub.execute_input": "2022-11-29T06:44:43.972855Z",
     "iopub.status.busy": "2022-11-29T06:44:43.972628Z",
     "iopub.status.idle": "2022-11-29T06:44:43.977366Z",
     "shell.execute_reply": "2022-11-29T06:44:43.976861Z"
    },
    "papermill": {
     "duration": 0.012054,
     "end_time": "2022-11-29T06:44:43.979732",
     "exception": false,
     "start_time": "2022-11-29T06:44:43.967678",
     "status": "completed"
    },
    "tags": [
     "injected-parameters"
    ]
   },
   "outputs": [],
   "source": [
    "# Parameters\n",
    "P = {\n",
    "    \"pipeline.data_lake_root\": \"/pipeline-outputs/data-lake\",\n",
    "    \"pipeline.run_environment\": \"ci\",\n",
    "    \"pipeline.pipeline_run_id\": \"82b134e5-344c-4da6-8ccc-c5841de0b257\",\n",
    "    \"pipeline.github.repository\": \"matiasdahl/dev-mnist-digits-demo-pipeline\",\n",
    "    \"pipeline.github.workflow\": \"Run automated tests, pipeline and deploy results to static reporting site\",\n",
    "    \"pipeline.github.runner_name\": \"Hosted Agent\",\n",
    "    \"pipeline.github.run_id\": \"3571661389\",\n",
    "    \"pipeline.github.actor\": \"matiasdahl\",\n",
    "    \"pipeline.github.job\": \"run-tests-pipeline-and-persist-pipeline-outputs\",\n",
    "    \"pipeline.github.base_ref\": \"\",\n",
    "    \"pipeline.github.head_ref\": \"\",\n",
    "    \"pipeline.github.sha\": \"ace0d01011d5e914f1921450dd5a59c11367b38d\",\n",
    "    \"pipeline.github.ref\": \"refs/heads/development\",\n",
    "    \"pipeline.github.ref_type\": \"branch\",\n",
    "    \"pipeline.github.ref_name\": \"development\",\n",
    "    \"pipeline.github.event_name\": \"schedule\",\n",
    "    \"task.nr_train_images\": 800,\n",
    "    \"task.notebook\": \"notebooks/benchmark-model.py\",\n",
    "    \"task.max_nr_retries\": \"1\",\n",
    "    \"run.retry_nr\": \"0\",\n",
    "    \"task.timeout_s\": \"None\",\n",
    "    \"task.num_cpus\": 1,\n",
    "    \"_opentelemetry_traceparent\": \"00-609948c3182c1b41681d908af5a0b764-e79fb84fbf9a1688-01\",\n",
    "}\n"
   ]
  },
  {
   "cell_type": "code",
   "execution_count": 4,
   "id": "5b173f30",
   "metadata": {
    "execution": {
     "iopub.execute_input": "2022-11-29T06:44:43.988797Z",
     "iopub.status.busy": "2022-11-29T06:44:43.988574Z",
     "iopub.status.idle": "2022-11-29T06:44:43.991195Z",
     "shell.execute_reply": "2022-11-29T06:44:43.990696Z"
    },
    "lines_to_next_cell": 0,
    "papermill": {
     "duration": 0.009648,
     "end_time": "2022-11-29T06:44:43.993516",
     "exception": false,
     "start_time": "2022-11-29T06:44:43.983868",
     "status": "completed"
    },
    "tags": []
   },
   "outputs": [],
   "source": [
    "# -----------------------------------------------------------------------"
   ]
  },
  {
   "cell_type": "markdown",
   "id": "3cffc8ca",
   "metadata": {
    "papermill": {
     "duration": 0.004143,
     "end_time": "2022-11-29T06:44:44.001729",
     "exception": false,
     "start_time": "2022-11-29T06:44:43.997586",
     "status": "completed"
    },
    "tags": []
   },
   "source": [
    "---"
   ]
  },
  {
   "cell_type": "markdown",
   "id": "b19d76bf",
   "metadata": {
    "lines_to_next_cell": 2,
    "papermill": {
     "duration": 0.004072,
     "end_time": "2022-11-29T06:44:44.009603",
     "exception": false,
     "start_time": "2022-11-29T06:44:44.005531",
     "status": "completed"
    },
    "tags": []
   },
   "source": [
    "### Notebook code"
   ]
  },
  {
   "cell_type": "code",
   "execution_count": 5,
   "id": "ef54281e",
   "metadata": {
    "execution": {
     "iopub.execute_input": "2022-11-29T06:44:44.018884Z",
     "iopub.status.busy": "2022-11-29T06:44:44.018629Z",
     "iopub.status.idle": "2022-11-29T06:44:45.053727Z",
     "shell.execute_reply": "2022-11-29T06:44:45.053060Z"
    },
    "papermill": {
     "duration": 1.042018,
     "end_time": "2022-11-29T06:44:45.055654",
     "exception": false,
     "start_time": "2022-11-29T06:44:44.013636",
     "status": "completed"
    },
    "tags": []
   },
   "outputs": [
    {
     "name": "stderr",
     "output_type": "stream",
     "text": [
      "2022-11-29 06:44:44,887\tINFO worker.py:842 -- Connecting to existing Ray cluster at address: 172.17.0.2:6379\n"
     ]
    }
   ],
   "source": [
    "import itertools as it\n",
    "\n",
    "#\n",
    "import numpy as np\n",
    "import matplotlib.pyplot as plt\n",
    "\n",
    "#\n",
    "from pynb_dag_runner.tasks.task_opentelemetry_logging import PydarLogger\n",
    "\n",
    "#\n",
    "from common.io import datalake_root\n",
    "\n",
    "logger = PydarLogger(P)"
   ]
  },
  {
   "cell_type": "markdown",
   "id": "3a1d19ec",
   "metadata": {
    "papermill": {
     "duration": 0.004613,
     "end_time": "2022-11-29T06:44:45.068795",
     "exception": false,
     "start_time": "2022-11-29T06:44:45.064182",
     "status": "completed"
    },
    "tags": []
   },
   "source": [
    "## Load persisted onnx-model and evaluation data"
   ]
  },
  {
   "cell_type": "code",
   "execution_count": 6,
   "id": "fb035021",
   "metadata": {
    "execution": {
     "iopub.execute_input": "2022-11-29T06:44:45.080254Z",
     "iopub.status.busy": "2022-11-29T06:44:45.079892Z",
     "iopub.status.idle": "2022-11-29T06:44:45.084239Z",
     "shell.execute_reply": "2022-11-29T06:44:45.083680Z"
    },
    "papermill": {
     "duration": 0.012882,
     "end_time": "2022-11-29T06:44:45.085959",
     "exception": false,
     "start_time": "2022-11-29T06:44:45.073077",
     "status": "completed"
    },
    "tags": []
   },
   "outputs": [],
   "source": [
    "from common.io import read_onnx, get_onnx_inputs, get_onnx_outputs, read_numpy"
   ]
  },
  {
   "cell_type": "code",
   "execution_count": 7,
   "id": "d1fa7eda",
   "metadata": {
    "execution": {
     "iopub.execute_input": "2022-11-29T06:44:45.099425Z",
     "iopub.status.busy": "2022-11-29T06:44:45.098822Z",
     "iopub.status.idle": "2022-11-29T06:44:45.108968Z",
     "shell.execute_reply": "2022-11-29T06:44:45.108044Z"
    },
    "lines_to_next_cell": 0,
    "papermill": {
     "duration": 0.018373,
     "end_time": "2022-11-29T06:44:45.111962",
     "exception": false,
     "start_time": "2022-11-29T06:44:45.093589",
     "status": "completed"
    },
    "tags": []
   },
   "outputs": [],
   "source": [
    "onnx_inference_session = read_onnx(\n",
    "    datalake_root(P)\n",
    "    / \"models\"\n",
    "    / f\"nr_train_images={P['task.nr_train_images']}\"\n",
    "    / \"model.onnx\"\n",
    ")"
   ]
  },
  {
   "cell_type": "markdown",
   "id": "508a2f19",
   "metadata": {
    "papermill": {
     "duration": 0.00475,
     "end_time": "2022-11-29T06:44:45.122121",
     "exception": false,
     "start_time": "2022-11-29T06:44:45.117371",
     "status": "completed"
    },
    "tags": []
   },
   "source": [
    "### Record structure of inputs and outputs for ONNX model\n",
    "\n",
    "(this should likely be done in training notebook)"
   ]
  },
  {
   "cell_type": "code",
   "execution_count": 8,
   "id": "8e3af087",
   "metadata": {
    "execution": {
     "iopub.execute_input": "2022-11-29T06:44:45.132638Z",
     "iopub.status.busy": "2022-11-29T06:44:45.132375Z",
     "iopub.status.idle": "2022-11-29T06:44:45.139169Z",
     "shell.execute_reply": "2022-11-29T06:44:45.138360Z"
    },
    "papermill": {
     "duration": 0.015802,
     "end_time": "2022-11-29T06:44:45.142578",
     "exception": false,
     "start_time": "2022-11-29T06:44:45.126776",
     "status": "completed"
    },
    "tags": []
   },
   "outputs": [
    {
     "name": "stdout",
     "output_type": "stream",
     "text": [
      "{\n",
      "  \"inputs\": [\n",
      "    {\n",
      "      \"name\": \"float_input_8x8_image\",\n",
      "      \"shape\": [\n",
      "        null,\n",
      "        64\n",
      "      ],\n",
      "      \"type\": \"tensor(float)\"\n",
      "    }\n",
      "  ],\n",
      "  \"outputs\": [\n",
      "    {\n",
      "      \"name\": \"output_label\",\n",
      "      \"shape\": [\n",
      "        null\n",
      "      ],\n",
      "      \"type\": \"tensor(int64)\"\n",
      "    },\n",
      "    {\n",
      "      \"name\": \"output_probability\",\n",
      "      \"shape\": [],\n",
      "      \"type\": \"seq(map(int64,tensor(float)))\"\n",
      "    }\n",
      "  ]\n",
      "}\n"
     ]
    }
   ],
   "source": [
    "import json\n",
    "\n",
    "onnx_io = json.dumps(\n",
    "    {\n",
    "        \"inputs\": get_onnx_inputs(onnx_inference_session),\n",
    "        \"outputs\": get_onnx_outputs(onnx_inference_session),\n",
    "    },\n",
    "    indent=2,\n",
    ")\n",
    "\n",
    "\n",
    "logger.log_artefact(\"onnx_io_structure.json\", onnx_io)\n",
    "print(onnx_io)"
   ]
  },
  {
   "cell_type": "markdown",
   "id": "9f87e405",
   "metadata": {
    "papermill": {
     "duration": 0.004909,
     "end_time": "2022-11-29T06:44:45.152878",
     "exception": false,
     "start_time": "2022-11-29T06:44:45.147969",
     "status": "completed"
    },
    "tags": []
   },
   "source": [
    "### Evaluate model performance on evaluation data set"
   ]
  },
  {
   "cell_type": "code",
   "execution_count": 9,
   "id": "bfd4d3be",
   "metadata": {
    "execution": {
     "iopub.execute_input": "2022-11-29T06:44:45.169094Z",
     "iopub.status.busy": "2022-11-29T06:44:45.168785Z",
     "iopub.status.idle": "2022-11-29T06:44:45.173627Z",
     "shell.execute_reply": "2022-11-29T06:44:45.173072Z"
    },
    "papermill": {
     "duration": 0.01899,
     "end_time": "2022-11-29T06:44:45.176739",
     "exception": false,
     "start_time": "2022-11-29T06:44:45.157749",
     "status": "completed"
    },
    "tags": []
   },
   "outputs": [],
   "source": [
    "# load evaluation data\n",
    "X_test = read_numpy(datalake_root(P) / \"test-data\" / \"digits.numpy\")\n",
    "y_test = read_numpy(datalake_root(P) / \"test-data\" / \"labels.numpy\")"
   ]
  },
  {
   "cell_type": "code",
   "execution_count": 10,
   "id": "869e29fe",
   "metadata": {
    "execution": {
     "iopub.execute_input": "2022-11-29T06:44:45.188825Z",
     "iopub.status.busy": "2022-11-29T06:44:45.188550Z",
     "iopub.status.idle": "2022-11-29T06:44:45.249551Z",
     "shell.execute_reply": "2022-11-29T06:44:45.248985Z"
    },
    "papermill": {
     "duration": 0.068516,
     "end_time": "2022-11-29T06:44:45.251365",
     "exception": false,
     "start_time": "2022-11-29T06:44:45.182849",
     "status": "completed"
    },
    "tags": []
   },
   "outputs": [],
   "source": [
    "def get_model_outputs(X, onnx_inference_session):\n",
    "    y_pred_labels, y_pred_map = onnx_inference_session.run(\n",
    "        [\"output_label\", \"output_probability\"],\n",
    "        {\"float_input_8x8_image\": X.astype(np.float32)},\n",
    "    )\n",
    "    y_pred_probs = np.array(\n",
    "        [[probabilities[digit] for digit in range(10)] for probabilities in y_pred_map]\n",
    "    )\n",
    "\n",
    "    assert y_pred_labels.shape == (X.shape[0],)\n",
    "    assert y_pred_probs.shape == (X.shape[0], 10)\n",
    "\n",
    "    return y_pred_labels, y_pred_probs\n",
    "\n",
    "\n",
    "# Note: as shown in the training notebook, the predicted labels and probabilities\n",
    "# computed below need not be compatible.\n",
    "y_pred_labels_test, y_pred_probs_test = get_model_outputs(\n",
    "    X_test, onnx_inference_session\n",
    ")"
   ]
  },
  {
   "cell_type": "markdown",
   "id": "1298295c",
   "metadata": {
    "papermill": {
     "duration": 0.005023,
     "end_time": "2022-11-29T06:44:45.261077",
     "exception": false,
     "start_time": "2022-11-29T06:44:45.256054",
     "status": "completed"
    },
    "tags": []
   },
   "source": [
    "### Confusion matrix"
   ]
  },
  {
   "cell_type": "code",
   "execution_count": 11,
   "id": "45eb9024",
   "metadata": {
    "execution": {
     "iopub.execute_input": "2022-11-29T06:44:45.272032Z",
     "iopub.status.busy": "2022-11-29T06:44:45.271557Z",
     "iopub.status.idle": "2022-11-29T06:44:45.274762Z",
     "shell.execute_reply": "2022-11-29T06:44:45.274137Z"
    },
    "papermill": {
     "duration": 0.011161,
     "end_time": "2022-11-29T06:44:45.276711",
     "exception": false,
     "start_time": "2022-11-29T06:44:45.265550",
     "status": "completed"
    },
    "tags": []
   },
   "outputs": [],
   "source": [
    "# TODO"
   ]
  },
  {
   "cell_type": "markdown",
   "id": "a34d7877",
   "metadata": {
    "papermill": {
     "duration": 0.00448,
     "end_time": "2022-11-29T06:44:45.287783",
     "exception": false,
     "start_time": "2022-11-29T06:44:45.283303",
     "status": "completed"
    },
    "tags": []
   },
   "source": [
    "### Plot predicted probabilities for each classifier over all evaluation digit images"
   ]
  },
  {
   "cell_type": "code",
   "execution_count": 12,
   "id": "db004e89",
   "metadata": {
    "execution": {
     "iopub.execute_input": "2022-11-29T06:44:45.298873Z",
     "iopub.status.busy": "2022-11-29T06:44:45.298116Z",
     "iopub.status.idle": "2022-11-29T06:44:48.359133Z",
     "shell.execute_reply": "2022-11-29T06:44:48.358581Z"
    },
    "papermill": {
     "duration": 3.068578,
     "end_time": "2022-11-29T06:44:48.360902",
     "exception": false,
     "start_time": "2022-11-29T06:44:45.292324",
     "status": "completed"
    },
    "tags": []
   },
   "outputs": [
    {
     "data": {
      "image/png": "[encoded data removed]",
      "text/plain": [
       "<Figure size 1600x600 with 10 Axes>"
      ]
     },
     "metadata": {},
     "output_type": "display_data"
    }
   ],
   "source": [
    "def plot_per_digit_probabilities(y_pred_probs):\n",
    "    fig, axs = plt.subplots(nrows=2, ncols=5, figsize=(16, 6))\n",
    "\n",
    "    for (r, c), digit, ax in zip(\n",
    "        it.product(range(2), range(5)), range(10), axs.reshape(-1)\n",
    "    ):\n",
    "        ax.hist(y_pred_probs_test[:, digit], bins=20)\n",
    "\n",
    "        ax.set_title(f\"Digit {digit}\")\n",
    "        if r == 1 and c == 2:\n",
    "            ax.set_xlabel(\"probability\", fontsize=16)\n",
    "\n",
    "        if c == 0:\n",
    "            ax.set_ylabel(\"counts\", fontsize=16)\n",
    "        ax.set_yscale(\"log\")\n",
    "\n",
    "    fig.tight_layout()\n",
    "    fig.suptitle(\n",
    "        f\"Distributions of prediction probabilities for each digit \"\n",
    "        f\"(on evaluation data, n={y_pred_probs.shape[0]})\",\n",
    "        fontsize=20,\n",
    "    )\n",
    "    fig.tight_layout()\n",
    "    fig.show()\n",
    "\n",
    "    return fig\n",
    "\n",
    "\n",
    "fig = plot_per_digit_probabilities(y_pred_probs_test)"
   ]
  },
  {
   "cell_type": "markdown",
   "id": "d7097ea5",
   "metadata": {
    "papermill": {
     "duration": 0.005597,
     "end_time": "2022-11-29T06:44:48.371959",
     "exception": false,
     "start_time": "2022-11-29T06:44:48.366362",
     "status": "completed"
    },
    "tags": []
   },
   "source": [
    "From the above distributions we see that most digits have clear separation between\n",
    "high and lower probabilities. Morover, in each case there is roughly an order of\n",
    "magnitude more of digits with low probabilities. This is compatible with digits\n",
    "being roughly evenly distributed in the data."
   ]
  },
  {
   "cell_type": "code",
   "execution_count": 13,
   "id": "d90300ef",
   "metadata": {
    "execution": {
     "iopub.execute_input": "2022-11-29T06:44:48.384124Z",
     "iopub.status.busy": "2022-11-29T06:44:48.383875Z",
     "iopub.status.idle": "2022-11-29T06:44:48.818396Z",
     "shell.execute_reply": "2022-11-29T06:44:48.817750Z"
    },
    "papermill": {
     "duration": 0.44275,
     "end_time": "2022-11-29T06:44:48.820310",
     "exception": false,
     "start_time": "2022-11-29T06:44:48.377560",
     "status": "completed"
    },
    "tags": []
   },
   "outputs": [],
   "source": [
    "logger.log_figure(\"per-digit-probabilities.png\", fig)"
   ]
  },
  {
   "cell_type": "markdown",
   "id": "ba448235",
   "metadata": {
    "papermill": {
     "duration": 0.00521,
     "end_time": "2022-11-29T06:44:48.831290",
     "exception": false,
     "start_time": "2022-11-29T06:44:48.826080",
     "status": "completed"
    },
    "tags": []
   },
   "source": [
    "### Plot ROC curves for individual one-vs-rest classifiers"
   ]
  },
  {
   "cell_type": "code",
   "execution_count": 14,
   "id": "f7a8de45",
   "metadata": {
    "execution": {
     "iopub.execute_input": "2022-11-29T06:44:48.843684Z",
     "iopub.status.busy": "2022-11-29T06:44:48.843427Z",
     "iopub.status.idle": "2022-11-29T06:44:49.205501Z",
     "shell.execute_reply": "2022-11-29T06:44:49.204811Z"
    },
    "papermill": {
     "duration": 0.370334,
     "end_time": "2022-11-29T06:44:49.207255",
     "exception": false,
     "start_time": "2022-11-29T06:44:48.836921",
     "status": "completed"
    },
    "tags": []
   },
   "outputs": [],
   "source": [
    "from sklearn import metrics"
   ]
  },
  {
   "cell_type": "code",
   "execution_count": 15,
   "id": "7fc4c75d",
   "metadata": {
    "execution": {
     "iopub.execute_input": "2022-11-29T06:44:49.221899Z",
     "iopub.status.busy": "2022-11-29T06:44:49.221642Z",
     "iopub.status.idle": "2022-11-29T06:44:50.261312Z",
     "shell.execute_reply": "2022-11-29T06:44:50.260411Z"
    },
    "papermill": {
     "duration": 1.04974,
     "end_time": "2022-11-29T06:44:50.263114",
     "exception": false,
     "start_time": "2022-11-29T06:44:49.213374",
     "status": "completed"
    },
    "tags": []
   },
   "outputs": [
    {
     "data": {
      "image/png": "[encoded data removed]",
      "text/plain": [
       "<Figure size 1600x800 with 10 Axes>"
      ]
     },
     "metadata": {},
     "output_type": "display_data"
    }
   ],
   "source": [
    "def plot_roc_curves(y, y_pred_probs):\n",
    "    # based on example code\n",
    "    # https://scikit-learn.org/stable/auto_examples/model_selection/plot_roc.html\n",
    "\n",
    "    fig, axs = plt.subplots(nrows=2, ncols=5, figsize=(16, 8))\n",
    "\n",
    "    roc_auc_dict = {}\n",
    "\n",
    "    for (r, c), digit, ax in zip(\n",
    "        it.product(range(2), range(5)), range(10), axs.reshape(-1)\n",
    "    ):\n",
    "        fpr, tpr, _ = metrics.roc_curve(y == digit, y_pred_probs[:, digit])\n",
    "        auc = metrics.auc(fpr, tpr)\n",
    "        roc_auc_dict[str(digit)] = auc\n",
    "\n",
    "        ax.plot(fpr, tpr, label=f\"ROC AUC={round(auc, 3)}\")\n",
    "\n",
    "        ax.set_title(f\"\\nDigit {digit}\", fontsize=16)\n",
    "        if r == 1:\n",
    "            ax.set_xlabel(\"FPR\", fontsize=18)\n",
    "\n",
    "        if c == 0:\n",
    "            ax.set_ylabel(\"TPR\", fontsize=18)\n",
    "\n",
    "        ax.set_xlim([-0.05, 1.05])\n",
    "        ax.set_ylim([-0.05, 1.05])\n",
    "        ax.legend(loc=\"lower right\", frameon=False, fontsize=14)\n",
    "\n",
    "    fig.tight_layout()\n",
    "    fig.suptitle(\n",
    "        f\"ROC plots for one-vs-rest performances \"\n",
    "        f\"(on evaluation data, n={y_pred_probs_test.shape[1]}\",\n",
    "        fontsize=22,\n",
    "    )\n",
    "    fig.tight_layout()\n",
    "    fig.show()\n",
    "\n",
    "    return roc_auc_dict, fig\n",
    "\n",
    "\n",
    "roc_auc_dict, fig = plot_roc_curves(y_test, y_pred_probs_test)"
   ]
  },
  {
   "cell_type": "code",
   "execution_count": 16,
   "id": "ddb58ff2",
   "metadata": {
    "execution": {
     "iopub.execute_input": "2022-11-29T06:44:50.277175Z",
     "iopub.status.busy": "2022-11-29T06:44:50.276912Z",
     "iopub.status.idle": "2022-11-29T06:44:50.536646Z",
     "shell.execute_reply": "2022-11-29T06:44:50.535616Z"
    },
    "papermill": {
     "duration": 0.26879,
     "end_time": "2022-11-29T06:44:50.538450",
     "exception": false,
     "start_time": "2022-11-29T06:44:50.269660",
     "status": "completed"
    },
    "tags": []
   },
   "outputs": [],
   "source": [
    "logger.log_figure(\"per-digit-roc-curves.png\", fig)"
   ]
  },
  {
   "cell_type": "code",
   "execution_count": 17,
   "id": "48a754bb",
   "metadata": {
    "execution": {
     "iopub.execute_input": "2022-11-29T06:44:50.555096Z",
     "iopub.status.busy": "2022-11-29T06:44:50.554108Z",
     "iopub.status.idle": "2022-11-29T06:44:50.559185Z",
     "shell.execute_reply": "2022-11-29T06:44:50.558641Z"
    },
    "papermill": {
     "duration": 0.014738,
     "end_time": "2022-11-29T06:44:50.560661",
     "exception": false,
     "start_time": "2022-11-29T06:44:50.545923",
     "status": "completed"
    },
    "tags": []
   },
   "outputs": [
    {
     "data": {
      "text/plain": [
       "{'0': 1.0,\n",
       " '1': 0.9988378631677601,\n",
       " '2': 1.0,\n",
       " '3': 0.9998500468603562,\n",
       " '4': 0.9993903368388966,\n",
       " '5': 0.9990627928772259,\n",
       " '6': 0.999961896052431,\n",
       " '7': 0.9998856881572931,\n",
       " '8': 0.9931037200504413,\n",
       " '9': 0.9994284407864655}"
      ]
     },
     "execution_count": 17,
     "metadata": {},
     "output_type": "execute_result"
    }
   ],
   "source": [
    "roc_auc_dict"
   ]
  },
  {
   "cell_type": "code",
   "execution_count": 18,
   "id": "5eae4989",
   "metadata": {
    "execution": {
     "iopub.execute_input": "2022-11-29T06:44:50.580876Z",
     "iopub.status.busy": "2022-11-29T06:44:50.580519Z",
     "iopub.status.idle": "2022-11-29T06:44:50.585413Z",
     "shell.execute_reply": "2022-11-29T06:44:50.584730Z"
    },
    "papermill": {
     "duration": 0.020106,
     "end_time": "2022-11-29T06:44:50.588269",
     "exception": false,
     "start_time": "2022-11-29T06:44:50.568163",
     "status": "completed"
    },
    "tags": []
   },
   "outputs": [
    {
     "name": "stdout",
     "output_type": "stream",
     "text": [
      " - Logging roc_auc_per_digit (json) : {'0': 1.0, '1': 0.9988378631677601, '2': 1.0, '3': 0.9998500468603562, '4': 0.9993903368388966, '5': 0.9990627928772259, '6': 0.999961896052431, '7': 0.9998856881572931, '8': 0.9931037200504413, '9': 0.9994284407864655}\n"
     ]
    }
   ],
   "source": [
    "logger.log_value(\"roc_auc_per_digit\", roc_auc_dict)"
   ]
  },
  {
   "cell_type": "markdown",
   "id": "a52e8bab",
   "metadata": {
    "papermill": {
     "duration": 0.010845,
     "end_time": "2022-11-29T06:44:50.606806",
     "exception": false,
     "start_time": "2022-11-29T06:44:50.595961",
     "status": "completed"
    },
    "tags": []
   },
   "source": [
    "### Compute and log mean ROC AUC score averaged over all digits"
   ]
  },
  {
   "cell_type": "code",
   "execution_count": 19,
   "id": "a1bbb925",
   "metadata": {
    "execution": {
     "iopub.execute_input": "2022-11-29T06:44:50.624537Z",
     "iopub.status.busy": "2022-11-29T06:44:50.624160Z",
     "iopub.status.idle": "2022-11-29T06:44:50.636336Z",
     "shell.execute_reply": "2022-11-29T06:44:50.635400Z"
    },
    "papermill": {
     "duration": 0.023721,
     "end_time": "2022-11-29T06:44:50.639794",
     "exception": false,
     "start_time": "2022-11-29T06:44:50.616073",
     "status": "completed"
    },
    "tags": []
   },
   "outputs": [
    {
     "name": "stdout",
     "output_type": "stream",
     "text": [
      " - Logging roc_auc_class_mean (float) : 0.998952078479087\n"
     ]
    }
   ],
   "source": [
    "roc_auc_macro = np.mean(list(roc_auc_dict.values()))\n",
    "\n",
    "logger.log_float(\"roc_auc_class_mean\", roc_auc_macro)\n",
    "\n",
    "# assert that the same value can be computed directly using sklearn\n",
    "assert roc_auc_macro == metrics.roc_auc_score(\n",
    "    y_test, y_pred_probs_test, average=\"macro\", multi_class=\"ovr\"\n",
    ")"
   ]
  },
  {
   "cell_type": "code",
   "execution_count": 20,
   "id": "5712200e",
   "metadata": {
    "execution": {
     "iopub.execute_input": "2022-11-29T06:44:50.657834Z",
     "iopub.status.busy": "2022-11-29T06:44:50.657311Z",
     "iopub.status.idle": "2022-11-29T06:44:50.660511Z",
     "shell.execute_reply": "2022-11-29T06:44:50.659897Z"
    },
    "lines_to_next_cell": 0,
    "papermill": {
     "duration": 0.015818,
     "end_time": "2022-11-29T06:44:50.663830",
     "exception": false,
     "start_time": "2022-11-29T06:44:50.648012",
     "status": "completed"
    },
    "tags": []
   },
   "outputs": [],
   "source": [
    "# ---"
   ]
  },
  {
   "cell_type": "code",
   "execution_count": null,
   "id": "266c6a14",
   "metadata": {
    "papermill": {
     "duration": 0.006797,
     "end_time": "2022-11-29T06:44:50.677749",
     "exception": false,
     "start_time": "2022-11-29T06:44:50.670952",
     "status": "completed"
    },
    "tags": []
   },
   "outputs": [],
   "source": []
  }
 ],
 "metadata": {
  "jupytext": {
   "cell_metadata_filter": "tags,-all",
   "main_language": "python",
   "notebook_metadata_filter": "-all"
  },
  "language_info": {
   "codemirror_mode": {
    "name": "ipython",
    "version": 3
   },
   "file_extension": ".py",
   "mimetype": "text/x-python",
   "name": "python",
   "nbconvert_exporter": "python",
   "pygments_lexer": "ipython3",
   "version": "3.8.10"
  },
  "papermill": {
   "default_parameters": {},
   "duration": 9.138668,
   "end_time": "2022-11-29T06:44:51.702692",
   "environment_variables": {},
   "exception": null,
   "input_path": "/home/host_user/workspace/mnist-demo-pipeline/mnist-demo-pipeline/notebooks/temp-notebook-pfy9bti2.ipynb",
   "output_path": "notebooks/benchmark-model.ipynb",
   "parameters": {
    "P": {
     "_opentelemetry_traceparent": "00-609948c3182c1b41681d908af5a0b764-e79fb84fbf9a1688-01",
     "pipeline.data_lake_root": "/pipeline-outputs/data-lake",
     "pipeline.github.actor": "matiasdahl",
     "pipeline.github.base_ref": "",
     "pipeline.github.event_name": "schedule",
     "pipeline.github.head_ref": "",
     "pipeline.github.job": "run-tests-pipeline-and-persist-pipeline-outputs",
     "pipeline.github.ref": "refs/heads/development",
     "pipeline.github.ref_name": "development",
     "pipeline.github.ref_type": "branch",
     "pipeline.github.repository": "matiasdahl/dev-mnist-digits-demo-pipeline",
     "pipeline.github.run_id": "3571661389",
     "pipeline.github.runner_name": "Hosted Agent",
     "pipeline.github.sha": "ace0d01011d5e914f1921450dd5a59c11367b38d",
     "pipeline.github.workflow": "Run automated tests, pipeline and deploy results to static reporting site",
     "pipeline.pipeline_run_id": "82b134e5-344c-4da6-8ccc-c5841de0b257",
     "pipeline.run_environment": "ci",
     "run.retry_nr": "0",
     "task.max_nr_retries": "1",
     "task.notebook": "notebooks/benchmark-model.py",
     "task.nr_train_images": 800,
     "task.num_cpus": 1,
     "task.timeout_s": "None"
    }
   },
   "start_time": "2022-11-29T06:44:42.564024",
   "version": "2.3.3"
  }
 },
 "nbformat": 4,
 "nbformat_minor": 5
}