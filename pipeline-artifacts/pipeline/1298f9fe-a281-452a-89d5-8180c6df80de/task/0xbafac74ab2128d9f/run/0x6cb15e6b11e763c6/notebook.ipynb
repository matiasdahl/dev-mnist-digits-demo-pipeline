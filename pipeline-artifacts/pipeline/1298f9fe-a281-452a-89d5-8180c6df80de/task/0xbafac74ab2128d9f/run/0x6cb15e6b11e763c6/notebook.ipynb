{
 "cells": [
  {
   "cell_type": "markdown",
   "id": "a85fec71",
   "metadata": {
    "papermill": {
     "duration": 0.024239,
     "end_time": "2022-12-10T06:40:23.628387",
     "exception": false,
     "start_time": "2022-12-10T06:40:23.604148",
     "status": "completed"
    },
    "tags": []
   },
   "source": [
    "# Ingest toy version of MNIST digit data from sklearn"
   ]
  },
  {
   "cell_type": "markdown",
   "id": "981a532a",
   "metadata": {
    "papermill": {
     "duration": 0.002171,
     "end_time": "2022-12-10T06:40:23.633336",
     "exception": false,
     "start_time": "2022-12-10T06:40:23.631165",
     "status": "completed"
    },
    "tags": []
   },
   "source": [
    "### Determine run parameters"
   ]
  },
  {
   "cell_type": "code",
   "execution_count": 1,
   "id": "75d74421",
   "metadata": {
    "execution": {
     "iopub.execute_input": "2022-12-10T06:40:23.639151Z",
     "iopub.status.busy": "2022-12-10T06:40:23.638655Z",
     "iopub.status.idle": "2022-12-10T06:40:23.645498Z",
     "shell.execute_reply": "2022-12-10T06:40:23.644826Z"
    },
    "lines_to_next_cell": 0,
    "papermill": {
     "duration": 0.011548,
     "end_time": "2022-12-10T06:40:23.647006",
     "exception": false,
     "start_time": "2022-12-10T06:40:23.635458",
     "status": "completed"
    },
    "tags": []
   },
   "outputs": [],
   "source": [
    "# ----------------- Parameters for interactive development --------------\n",
    "P = {\n",
    "    \"pipeline.run_environment\": \"dev\",\n",
    "    \"pipeline.data_lake_root\": \"/pipeline-outputs/data-lake\",\n",
    "    \"run.retry_nr\": \"1\",\n",
    "}"
   ]
  },
  {
   "cell_type": "code",
   "execution_count": 2,
   "id": "9d842318",
   "metadata": {
    "execution": {
     "iopub.execute_input": "2022-12-10T06:40:23.652783Z",
     "iopub.status.busy": "2022-12-10T06:40:23.652268Z",
     "iopub.status.idle": "2022-12-10T06:40:23.655030Z",
     "shell.execute_reply": "2022-12-10T06:40:23.654572Z"
    },
    "lines_to_next_cell": 0,
    "papermill": {
     "duration": 0.0071,
     "end_time": "2022-12-10T06:40:23.656272",
     "exception": false,
     "start_time": "2022-12-10T06:40:23.649172",
     "status": "completed"
    },
    "tags": [
     "parameters"
    ]
   },
   "outputs": [],
   "source": [
    "# - During automated runs parameters will be injected in the below cell -"
   ]
  },
  {
   "cell_type": "code",
   "execution_count": 3,
   "id": "a6eeb995",
   "metadata": {
    "execution": {
     "iopub.execute_input": "2022-12-10T06:40:23.662157Z",
     "iopub.status.busy": "2022-12-10T06:40:23.661652Z",
     "iopub.status.idle": "2022-12-10T06:40:23.665928Z",
     "shell.execute_reply": "2022-12-10T06:40:23.665468Z"
    },
    "papermill": {
     "duration": 0.008687,
     "end_time": "2022-12-10T06:40:23.667322",
     "exception": false,
     "start_time": "2022-12-10T06:40:23.658635",
     "status": "completed"
    },
    "tags": [
     "injected-parameters"
    ]
   },
   "outputs": [],
   "source": [
    "# Parameters\n",
    "P = {\n",
    "    \"pipeline.data_lake_root\": \"/pipeline-outputs/data-lake\",\n",
    "    \"pipeline.run_environment\": \"ci\",\n",
    "    \"pipeline.pipeline_run_id\": \"1298f9fe-a281-452a-89d5-8180c6df80de\",\n",
    "    \"pipeline.github.repository\": \"matiasdahl/dev-mnist-digits-demo-pipeline\",\n",
    "    \"pipeline.github.workflow\": \"Run automated tests, pipeline and deploy results to static reporting site\",\n",
    "    \"pipeline.github.runner_name\": \"Hosted Agent\",\n",
    "    \"pipeline.github.run_id\": \"3663055501\",\n",
    "    \"pipeline.github.actor\": \"matiasdahl\",\n",
    "    \"pipeline.github.job\": \"run-tests-pipeline-and-persist-pipeline-outputs\",\n",
    "    \"pipeline.github.base_ref\": \"\",\n",
    "    \"pipeline.github.head_ref\": \"\",\n",
    "    \"pipeline.github.sha\": \"ace0d01011d5e914f1921450dd5a59c11367b38d\",\n",
    "    \"pipeline.github.ref\": \"refs/heads/development\",\n",
    "    \"pipeline.github.ref_type\": \"branch\",\n",
    "    \"pipeline.github.ref_name\": \"development\",\n",
    "    \"pipeline.github.event_name\": \"schedule\",\n",
    "    \"task.notebook\": \"notebooks/ingest.py\",\n",
    "    \"task.max_nr_retries\": \"15\",\n",
    "    \"run.retry_nr\": \"10\",\n",
    "    \"task.timeout_s\": \"10\",\n",
    "    \"task.num_cpus\": 1,\n",
    "    \"_opentelemetry_traceparent\": \"00-5775c7dbec8cd99ab6da112e2f69fea3-7ff6865d6ed6620a-01\",\n",
    "}\n"
   ]
  },
  {
   "cell_type": "code",
   "execution_count": 4,
   "id": "4e22f9a9",
   "metadata": {
    "execution": {
     "iopub.execute_input": "2022-12-10T06:40:23.673003Z",
     "iopub.status.busy": "2022-12-10T06:40:23.672521Z",
     "iopub.status.idle": "2022-12-10T06:40:23.675070Z",
     "shell.execute_reply": "2022-12-10T06:40:23.674647Z"
    },
    "lines_to_next_cell": 0,
    "papermill": {
     "duration": 0.006941,
     "end_time": "2022-12-10T06:40:23.676451",
     "exception": false,
     "start_time": "2022-12-10T06:40:23.669510",
     "status": "completed"
    },
    "tags": []
   },
   "outputs": [],
   "source": [
    "# -----------------------------------------------------------------------"
   ]
  },
  {
   "cell_type": "markdown",
   "id": "a6c59f24",
   "metadata": {
    "lines_to_next_cell": 2,
    "papermill": {
     "duration": 0.002374,
     "end_time": "2022-12-10T06:40:23.681127",
     "exception": false,
     "start_time": "2022-12-10T06:40:23.678753",
     "status": "completed"
    },
    "tags": []
   },
   "source": [
    "---"
   ]
  },
  {
   "cell_type": "markdown",
   "id": "5de9f371",
   "metadata": {
    "papermill": {
     "duration": 0.002161,
     "end_time": "2022-12-10T06:40:23.685551",
     "exception": false,
     "start_time": "2022-12-10T06:40:23.683390",
     "status": "completed"
    },
    "tags": []
   },
   "source": [
    "### Simulate different types of failures (for testing timeout and retry logic)"
   ]
  },
  {
   "cell_type": "code",
   "execution_count": 5,
   "id": "ac863a68",
   "metadata": {
    "execution": {
     "iopub.execute_input": "2022-12-10T06:40:23.691719Z",
     "iopub.status.busy": "2022-12-10T06:40:23.691159Z",
     "iopub.status.idle": "2022-12-10T06:40:24.110137Z",
     "shell.execute_reply": "2022-12-10T06:40:24.109023Z"
    },
    "papermill": {
     "duration": 0.424013,
     "end_time": "2022-12-10T06:40:24.112094",
     "exception": false,
     "start_time": "2022-12-10T06:40:23.688081",
     "status": "completed"
    },
    "tags": []
   },
   "outputs": [
    {
     "name": "stderr",
     "output_type": "stream",
     "text": [
      "2022-12-10 06:40:23,962\tINFO worker.py:842 -- Connecting to existing Ray cluster at address: 172.17.0.2:6379\n"
     ]
    }
   ],
   "source": [
    "from pynb_dag_runner.tasks.task_opentelemetry_logging import PydarLogger\n",
    "\n",
    "logger = PydarLogger(P)"
   ]
  },
  {
   "cell_type": "code",
   "execution_count": 6,
   "id": "47b08d94",
   "metadata": {
    "execution": {
     "iopub.execute_input": "2022-12-10T06:40:24.120274Z",
     "iopub.status.busy": "2022-12-10T06:40:24.119791Z",
     "iopub.status.idle": "2022-12-10T06:40:24.124579Z",
     "shell.execute_reply": "2022-12-10T06:40:24.124018Z"
    },
    "papermill": {
     "duration": 0.009777,
     "end_time": "2022-12-10T06:40:24.126106",
     "exception": false,
     "start_time": "2022-12-10T06:40:24.116329",
     "status": "completed"
    },
    "tags": []
   },
   "outputs": [],
   "source": [
    "import time, random\n",
    "\n",
    "\n",
    "def maybe_crash(retry_nr: int, run_environment: str):\n",
    "    if retry_nr == 2 and run_environment == \"ci\":\n",
    "        time.sleep(1e6)\n",
    "\n",
    "    max_retry_nr: int = 3 if run_environment == \"dev\" else 10\n",
    "\n",
    "    if retry_nr < max_retry_nr:\n",
    "        if random.random() < 0.1:\n",
    "            time.sleep(1e6)\n",
    "        else:\n",
    "            raise Exception(\"Simulated exception failure from ingestion step notebook!\")\n",
    "\n",
    "\n",
    "maybe_crash(\n",
    "    retry_nr=int(P[\"run.retry_nr\"]), run_environment=P[\"pipeline.run_environment\"]\n",
    ")"
   ]
  },
  {
   "cell_type": "markdown",
   "id": "c01a7129",
   "metadata": {
    "lines_to_next_cell": 2,
    "papermill": {
     "duration": 0.002544,
     "end_time": "2022-12-10T06:40:24.131159",
     "exception": false,
     "start_time": "2022-12-10T06:40:24.128615",
     "status": "completed"
    },
    "tags": []
   },
   "source": [
    "### Notebook code"
   ]
  },
  {
   "cell_type": "code",
   "execution_count": 7,
   "id": "dfceee9d",
   "metadata": {
    "execution": {
     "iopub.execute_input": "2022-12-10T06:40:24.137592Z",
     "iopub.status.busy": "2022-12-10T06:40:24.137226Z",
     "iopub.status.idle": "2022-12-10T06:40:25.360313Z",
     "shell.execute_reply": "2022-12-10T06:40:25.359657Z"
    },
    "papermill": {
     "duration": 1.228388,
     "end_time": "2022-12-10T06:40:25.362088",
     "exception": false,
     "start_time": "2022-12-10T06:40:24.133700",
     "status": "completed"
    },
    "tags": []
   },
   "outputs": [],
   "source": [
    "from sklearn import datasets\n",
    "\n",
    "#\n",
    "from common.io import datalake_root, write_numpy"
   ]
  },
  {
   "cell_type": "code",
   "execution_count": 8,
   "id": "1338b266",
   "metadata": {
    "execution": {
     "iopub.execute_input": "2022-12-10T06:40:25.368744Z",
     "iopub.status.busy": "2022-12-10T06:40:25.368333Z",
     "iopub.status.idle": "2022-12-10T06:40:25.381158Z",
     "shell.execute_reply": "2022-12-10T06:40:25.380579Z"
    },
    "lines_to_next_cell": 2,
    "papermill": {
     "duration": 0.017587,
     "end_time": "2022-12-10T06:40:25.382605",
     "exception": false,
     "start_time": "2022-12-10T06:40:25.365018",
     "status": "completed"
    },
    "tags": []
   },
   "outputs": [],
   "source": [
    "digits = datasets.load_digits()\n",
    "\n",
    "X = digits[\"data\"]\n",
    "y = digits[\"target\"]"
   ]
  },
  {
   "cell_type": "code",
   "execution_count": 9,
   "id": "34d8dd58",
   "metadata": {
    "execution": {
     "iopub.execute_input": "2022-12-10T06:40:25.389509Z",
     "iopub.status.busy": "2022-12-10T06:40:25.388916Z",
     "iopub.status.idle": "2022-12-10T06:40:25.398560Z",
     "shell.execute_reply": "2022-12-10T06:40:25.398090Z"
    },
    "papermill": {
     "duration": 0.014488,
     "end_time": "2022-12-10T06:40:25.400155",
     "exception": false,
     "start_time": "2022-12-10T06:40:25.385667",
     "status": "completed"
    },
    "tags": []
   },
   "outputs": [
    {
     "name": "stdout",
     "output_type": "stream",
     "text": [
      " - Logging data_shape (json) : [1797, 64]\n",
      " - Logging target_shape (json) : [1797]\n"
     ]
    },
    {
     "data": {
      "text/plain": [
       "((1797, 64), (1797,))"
      ]
     },
     "execution_count": 9,
     "metadata": {},
     "output_type": "execute_result"
    }
   ],
   "source": [
    "logger.log_value(\"data_shape\", list(X.shape))\n",
    "logger.log_value(\"target_shape\", list(y.shape))\n",
    "\n",
    "X.shape, y.shape"
   ]
  },
  {
   "cell_type": "code",
   "execution_count": 10,
   "id": "eab59d61",
   "metadata": {
    "execution": {
     "iopub.execute_input": "2022-12-10T06:40:25.407266Z",
     "iopub.status.busy": "2022-12-10T06:40:25.406873Z",
     "iopub.status.idle": "2022-12-10T06:40:25.415024Z",
     "shell.execute_reply": "2022-12-10T06:40:25.414212Z"
    },
    "papermill": {
     "duration": 0.01427,
     "end_time": "2022-12-10T06:40:25.417212",
     "exception": false,
     "start_time": "2022-12-10T06:40:25.402942",
     "status": "completed"
    },
    "tags": []
   },
   "outputs": [],
   "source": [
    "write_numpy(datalake_root(P) / \"raw\" / \"digits.numpy\", X)\n",
    "write_numpy(datalake_root(P) / \"raw\" / \"labels.numpy\", y)"
   ]
  },
  {
   "cell_type": "code",
   "execution_count": null,
   "id": "f62834e7",
   "metadata": {
    "papermill": {
     "duration": 0.002525,
     "end_time": "2022-12-10T06:40:25.422361",
     "exception": false,
     "start_time": "2022-12-10T06:40:25.419836",
     "status": "completed"
    },
    "tags": []
   },
   "outputs": [],
   "source": []
  }
 ],
 "metadata": {
  "jupytext": {
   "cell_metadata_filter": "tags,-all",
   "main_language": "python",
   "notebook_metadata_filter": "-all"
  },
  "language_info": {
   "codemirror_mode": {
    "name": "ipython",
    "version": 3
   },
   "file_extension": ".py",
   "mimetype": "text/x-python",
   "name": "python",
   "nbconvert_exporter": "python",
   "pygments_lexer": "ipython3",
   "version": "3.8.10"
  },
  "papermill": {
   "default_parameters": {},
   "duration": 4.001166,
   "end_time": "2022-12-10T06:40:26.345446",
   "environment_variables": {},
   "exception": null,
   "input_path": "/home/host_user/workspace/mnist-demo-pipeline/mnist-demo-pipeline/notebooks/temp-notebook-hvbpilli.ipynb",
   "output_path": "notebooks/ingest.ipynb",
   "parameters": {
    "P": {
     "_opentelemetry_traceparent": "00-5775c7dbec8cd99ab6da112e2f69fea3-7ff6865d6ed6620a-01",
     "pipeline.data_lake_root": "/pipeline-outputs/data-lake",
     "pipeline.github.actor": "matiasdahl",
     "pipeline.github.base_ref": "",
     "pipeline.github.event_name": "schedule",
     "pipeline.github.head_ref": "",
     "pipeline.github.job": "run-tests-pipeline-and-persist-pipeline-outputs",
     "pipeline.github.ref": "refs/heads/development",
     "pipeline.github.ref_name": "development",
     "pipeline.github.ref_type": "branch",
     "pipeline.github.repository": "matiasdahl/dev-mnist-digits-demo-pipeline",
     "pipeline.github.run_id": "3663055501",
     "pipeline.github.runner_name": "Hosted Agent",
     "pipeline.github.sha": "ace0d01011d5e914f1921450dd5a59c11367b38d",
     "pipeline.github.workflow": "Run automated tests, pipeline and deploy results to static reporting site",
     "pipeline.pipeline_run_id": "1298f9fe-a281-452a-89d5-8180c6df80de",
     "pipeline.run_environment": "ci",
     "run.retry_nr": "10",
     "task.max_nr_retries": "15",
     "task.notebook": "notebooks/ingest.py",
     "task.num_cpus": 1,
     "task.timeout_s": "10"
    }
   },
   "start_time": "2022-12-10T06:40:22.344280",
   "version": "2.3.3"
  }
 },
 "nbformat": 4,
 "nbformat_minor": 5
}