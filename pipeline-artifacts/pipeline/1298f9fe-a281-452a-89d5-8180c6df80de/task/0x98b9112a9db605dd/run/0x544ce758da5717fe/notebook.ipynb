{
 "cells": [
  {
   "cell_type": "markdown",
   "id": "ac256850",
   "metadata": {
    "papermill": {
     "duration": 0.005728,
     "end_time": "2022-12-10T06:40:56.768928",
     "exception": false,
     "start_time": "2022-12-10T06:40:56.763200",
     "status": "completed"
    },
    "tags": []
   },
   "source": [
    "# Benchmark model\n",
    "\n",
    "The purpose of this notebook is to benchmark persisted onnx-model (trained in the\n",
    "previous step) against evaluation set."
   ]
  },
  {
   "cell_type": "markdown",
   "id": "bb5d9e74",
   "metadata": {
    "papermill": {
     "duration": 0.005622,
     "end_time": "2022-12-10T06:40:56.778771",
     "exception": false,
     "start_time": "2022-12-10T06:40:56.773149",
     "status": "completed"
    },
    "tags": []
   },
   "source": [
    "### Determine run parameters"
   ]
  },
  {
   "cell_type": "code",
   "execution_count": 1,
   "id": "e6a9ccc7",
   "metadata": {
    "execution": {
     "iopub.execute_input": "2022-12-10T06:40:56.788101Z",
     "iopub.status.busy": "2022-12-10T06:40:56.787802Z",
     "iopub.status.idle": "2022-12-10T06:40:56.794428Z",
     "shell.execute_reply": "2022-12-10T06:40:56.793918Z"
    },
    "lines_to_next_cell": 0,
    "papermill": {
     "duration": 0.014811,
     "end_time": "2022-12-10T06:40:56.797521",
     "exception": false,
     "start_time": "2022-12-10T06:40:56.782710",
     "status": "completed"
    },
    "tags": []
   },
   "outputs": [],
   "source": [
    "# ----------------- Parameters for interactive development --------------\n",
    "P = {\n",
    "    \"pipeline.data_lake_root\": \"/pipeline-outputs/data-lake\",\n",
    "    \"task.nr_train_images\": 600,\n",
    "}"
   ]
  },
  {
   "cell_type": "code",
   "execution_count": 2,
   "id": "33a27871",
   "metadata": {
    "execution": {
     "iopub.execute_input": "2022-12-10T06:40:56.806659Z",
     "iopub.status.busy": "2022-12-10T06:40:56.806434Z",
     "iopub.status.idle": "2022-12-10T06:40:56.809207Z",
     "shell.execute_reply": "2022-12-10T06:40:56.808731Z"
    },
    "lines_to_next_cell": 0,
    "papermill": {
     "duration": 0.009653,
     "end_time": "2022-12-10T06:40:56.811536",
     "exception": false,
     "start_time": "2022-12-10T06:40:56.801883",
     "status": "completed"
    },
    "tags": [
     "parameters"
    ]
   },
   "outputs": [],
   "source": [
    "# - During automated runs parameters will be injected in the below cell -"
   ]
  },
  {
   "cell_type": "code",
   "execution_count": 3,
   "id": "db36a544",
   "metadata": {
    "execution": {
     "iopub.execute_input": "2022-12-10T06:40:56.820649Z",
     "iopub.status.busy": "2022-12-10T06:40:56.820437Z",
     "iopub.status.idle": "2022-12-10T06:40:56.824481Z",
     "shell.execute_reply": "2022-12-10T06:40:56.823994Z"
    },
    "papermill": {
     "duration": 0.011273,
     "end_time": "2022-12-10T06:40:56.826714",
     "exception": false,
     "start_time": "2022-12-10T06:40:56.815441",
     "status": "completed"
    },
    "tags": [
     "injected-parameters"
    ]
   },
   "outputs": [],
   "source": [
    "# Parameters\n",
    "P = {\n",
    "    \"pipeline.data_lake_root\": \"/pipeline-outputs/data-lake\",\n",
    "    \"pipeline.run_environment\": \"ci\",\n",
    "    \"pipeline.pipeline_run_id\": \"1298f9fe-a281-452a-89d5-8180c6df80de\",\n",
    "    \"pipeline.github.repository\": \"matiasdahl/dev-mnist-digits-demo-pipeline\",\n",
    "    \"pipeline.github.workflow\": \"Run automated tests, pipeline and deploy results to static reporting site\",\n",
    "    \"pipeline.github.runner_name\": \"Hosted Agent\",\n",
    "    \"pipeline.github.run_id\": \"3663055501\",\n",
    "    \"pipeline.github.actor\": \"matiasdahl\",\n",
    "    \"pipeline.github.job\": \"run-tests-pipeline-and-persist-pipeline-outputs\",\n",
    "    \"pipeline.github.base_ref\": \"\",\n",
    "    \"pipeline.github.head_ref\": \"\",\n",
    "    \"pipeline.github.sha\": \"ace0d01011d5e914f1921450dd5a59c11367b38d\",\n",
    "    \"pipeline.github.ref\": \"refs/heads/development\",\n",
    "    \"pipeline.github.ref_type\": \"branch\",\n",
    "    \"pipeline.github.ref_name\": \"development\",\n",
    "    \"pipeline.github.event_name\": \"schedule\",\n",
    "    \"task.nr_train_images\": 800,\n",
    "    \"task.notebook\": \"notebooks/benchmark-model.py\",\n",
    "    \"task.max_nr_retries\": \"1\",\n",
    "    \"run.retry_nr\": \"0\",\n",
    "    \"task.timeout_s\": \"None\",\n",
    "    \"task.num_cpus\": 1,\n",
    "    \"_opentelemetry_traceparent\": \"00-5775c7dbec8cd99ab6da112e2f69fea3-3521261a2695d6cf-01\",\n",
    "}\n"
   ]
  },
  {
   "cell_type": "code",
   "execution_count": 4,
   "id": "be3894fb",
   "metadata": {
    "execution": {
     "iopub.execute_input": "2022-12-10T06:40:56.835610Z",
     "iopub.status.busy": "2022-12-10T06:40:56.835404Z",
     "iopub.status.idle": "2022-12-10T06:40:56.838080Z",
     "shell.execute_reply": "2022-12-10T06:40:56.837539Z"
    },
    "lines_to_next_cell": 0,
    "papermill": {
     "duration": 0.009724,
     "end_time": "2022-12-10T06:40:56.840454",
     "exception": false,
     "start_time": "2022-12-10T06:40:56.830730",
     "status": "completed"
    },
    "tags": []
   },
   "outputs": [],
   "source": [
    "# -----------------------------------------------------------------------"
   ]
  },
  {
   "cell_type": "markdown",
   "id": "b46f472a",
   "metadata": {
    "papermill": {
     "duration": 0.004194,
     "end_time": "2022-12-10T06:40:56.848700",
     "exception": false,
     "start_time": "2022-12-10T06:40:56.844506",
     "status": "completed"
    },
    "tags": []
   },
   "source": [
    "---"
   ]
  },
  {
   "cell_type": "markdown",
   "id": "ec921b42",
   "metadata": {
    "lines_to_next_cell": 2,
    "papermill": {
     "duration": 0.003792,
     "end_time": "2022-12-10T06:40:56.856522",
     "exception": false,
     "start_time": "2022-12-10T06:40:56.852730",
     "status": "completed"
    },
    "tags": []
   },
   "source": [
    "### Notebook code"
   ]
  },
  {
   "cell_type": "code",
   "execution_count": 5,
   "id": "fc30fbb2",
   "metadata": {
    "execution": {
     "iopub.execute_input": "2022-12-10T06:40:56.882362Z",
     "iopub.status.busy": "2022-12-10T06:40:56.882110Z",
     "iopub.status.idle": "2022-12-10T06:40:57.982351Z",
     "shell.execute_reply": "2022-12-10T06:40:57.981641Z"
    },
    "papermill": {
     "duration": 1.119279,
     "end_time": "2022-12-10T06:40:57.984121",
     "exception": false,
     "start_time": "2022-12-10T06:40:56.864842",
     "status": "completed"
    },
    "tags": []
   },
   "outputs": [
    {
     "name": "stderr",
     "output_type": "stream",
     "text": [
      "2022-12-10 06:40:57,777\tINFO worker.py:842 -- Connecting to existing Ray cluster at address: 172.17.0.2:6379\n"
     ]
    }
   ],
   "source": [
    "import itertools as it\n",
    "\n",
    "#\n",
    "import numpy as np\n",
    "import matplotlib.pyplot as plt\n",
    "\n",
    "#\n",
    "from pynb_dag_runner.tasks.task_opentelemetry_logging import PydarLogger\n",
    "\n",
    "#\n",
    "from common.io import datalake_root\n",
    "\n",
    "logger = PydarLogger(P)"
   ]
  },
  {
   "cell_type": "markdown",
   "id": "964d0aee",
   "metadata": {
    "papermill": {
     "duration": 0.004615,
     "end_time": "2022-12-10T06:40:57.995745",
     "exception": false,
     "start_time": "2022-12-10T06:40:57.991130",
     "status": "completed"
    },
    "tags": []
   },
   "source": [
    "## Load persisted onnx-model and evaluation data"
   ]
  },
  {
   "cell_type": "code",
   "execution_count": 6,
   "id": "cca472cc",
   "metadata": {
    "execution": {
     "iopub.execute_input": "2022-12-10T06:40:58.005011Z",
     "iopub.status.busy": "2022-12-10T06:40:58.004687Z",
     "iopub.status.idle": "2022-12-10T06:40:58.008499Z",
     "shell.execute_reply": "2022-12-10T06:40:58.007943Z"
    },
    "papermill": {
     "duration": 0.01145,
     "end_time": "2022-12-10T06:40:58.011335",
     "exception": false,
     "start_time": "2022-12-10T06:40:57.999885",
     "status": "completed"
    },
    "tags": []
   },
   "outputs": [],
   "source": [
    "from common.io import read_onnx, get_onnx_inputs, get_onnx_outputs, read_numpy"
   ]
  },
  {
   "cell_type": "code",
   "execution_count": 7,
   "id": "58278935",
   "metadata": {
    "execution": {
     "iopub.execute_input": "2022-12-10T06:40:58.021009Z",
     "iopub.status.busy": "2022-12-10T06:40:58.020791Z",
     "iopub.status.idle": "2022-12-10T06:40:58.030889Z",
     "shell.execute_reply": "2022-12-10T06:40:58.030397Z"
    },
    "lines_to_next_cell": 0,
    "papermill": {
     "duration": 0.017102,
     "end_time": "2022-12-10T06:40:58.032701",
     "exception": false,
     "start_time": "2022-12-10T06:40:58.015599",
     "status": "completed"
    },
    "tags": []
   },
   "outputs": [],
   "source": [
    "onnx_inference_session = read_onnx(\n",
    "    datalake_root(P)\n",
    "    / \"models\"\n",
    "    / f\"nr_train_images={P['task.nr_train_images']}\"\n",
    "    / \"model.onnx\"\n",
    ")"
   ]
  },
  {
   "cell_type": "markdown",
   "id": "9de9eb04",
   "metadata": {
    "papermill": {
     "duration": 0.004815,
     "end_time": "2022-12-10T06:40:58.041615",
     "exception": false,
     "start_time": "2022-12-10T06:40:58.036800",
     "status": "completed"
    },
    "tags": []
   },
   "source": [
    "### Record structure of inputs and outputs for ONNX model\n",
    "\n",
    "(this should likely be done in training notebook)"
   ]
  },
  {
   "cell_type": "code",
   "execution_count": 8,
   "id": "cf72abd8",
   "metadata": {
    "execution": {
     "iopub.execute_input": "2022-12-10T06:40:58.051340Z",
     "iopub.status.busy": "2022-12-10T06:40:58.051120Z",
     "iopub.status.idle": "2022-12-10T06:40:58.056306Z",
     "shell.execute_reply": "2022-12-10T06:40:58.055768Z"
    },
    "papermill": {
     "duration": 0.014249,
     "end_time": "2022-12-10T06:40:58.059880",
     "exception": false,
     "start_time": "2022-12-10T06:40:58.045631",
     "status": "completed"
    },
    "tags": []
   },
   "outputs": [
    {
     "name": "stdout",
     "output_type": "stream",
     "text": [
      "{\n",
      "  \"inputs\": [\n",
      "    {\n",
      "      \"name\": \"float_input_8x8_image\",\n",
      "      \"shape\": [\n",
      "        null,\n",
      "        64\n",
      "      ],\n",
      "      \"type\": \"tensor(float)\"\n",
      "    }\n",
      "  ],\n",
      "  \"outputs\": [\n",
      "    {\n",
      "      \"name\": \"output_label\",\n",
      "      \"shape\": [\n",
      "        null\n",
      "      ],\n",
      "      \"type\": \"tensor(int64)\"\n",
      "    },\n",
      "    {\n",
      "      \"name\": \"output_probability\",\n",
      "      \"shape\": [],\n",
      "      \"type\": \"seq(map(int64,tensor(float)))\"\n",
      "    }\n",
      "  ]\n",
      "}\n"
     ]
    }
   ],
   "source": [
    "import json\n",
    "\n",
    "onnx_io = json.dumps(\n",
    "    {\n",
    "        \"inputs\": get_onnx_inputs(onnx_inference_session),\n",
    "        \"outputs\": get_onnx_outputs(onnx_inference_session),\n",
    "    },\n",
    "    indent=2,\n",
    ")\n",
    "\n",
    "\n",
    "logger.log_artefact(\"onnx_io_structure.json\", onnx_io)\n",
    "print(onnx_io)"
   ]
  },
  {
   "cell_type": "markdown",
   "id": "5924908d",
   "metadata": {
    "papermill": {
     "duration": 0.005441,
     "end_time": "2022-12-10T06:40:58.070080",
     "exception": false,
     "start_time": "2022-12-10T06:40:58.064639",
     "status": "completed"
    },
    "tags": []
   },
   "source": [
    "### Evaluate model performance on evaluation data set"
   ]
  },
  {
   "cell_type": "code",
   "execution_count": 9,
   "id": "55566e09",
   "metadata": {
    "execution": {
     "iopub.execute_input": "2022-12-10T06:40:58.080582Z",
     "iopub.status.busy": "2022-12-10T06:40:58.080352Z",
     "iopub.status.idle": "2022-12-10T06:40:58.084656Z",
     "shell.execute_reply": "2022-12-10T06:40:58.084145Z"
    },
    "papermill": {
     "duration": 0.012177,
     "end_time": "2022-12-10T06:40:58.087265",
     "exception": false,
     "start_time": "2022-12-10T06:40:58.075088",
     "status": "completed"
    },
    "tags": []
   },
   "outputs": [],
   "source": [
    "# load evaluation data\n",
    "X_test = read_numpy(datalake_root(P) / \"test-data\" / \"digits.numpy\")\n",
    "y_test = read_numpy(datalake_root(P) / \"test-data\" / \"labels.numpy\")"
   ]
  },
  {
   "cell_type": "code",
   "execution_count": 10,
   "id": "9ce38a0a",
   "metadata": {
    "execution": {
     "iopub.execute_input": "2022-12-10T06:40:58.102460Z",
     "iopub.status.busy": "2022-12-10T06:40:58.102141Z",
     "iopub.status.idle": "2022-12-10T06:40:58.116153Z",
     "shell.execute_reply": "2022-12-10T06:40:58.115476Z"
    },
    "papermill": {
     "duration": 0.02386,
     "end_time": "2022-12-10T06:40:58.118196",
     "exception": false,
     "start_time": "2022-12-10T06:40:58.094336",
     "status": "completed"
    },
    "tags": []
   },
   "outputs": [],
   "source": [
    "def get_model_outputs(X, onnx_inference_session):\n",
    "    y_pred_labels, y_pred_map = onnx_inference_session.run(\n",
    "        [\"output_label\", \"output_probability\"],\n",
    "        {\"float_input_8x8_image\": X.astype(np.float32)},\n",
    "    )\n",
    "    y_pred_probs = np.array(\n",
    "        [[probabilities[digit] for digit in range(10)] for probabilities in y_pred_map]\n",
    "    )\n",
    "\n",
    "    assert y_pred_labels.shape == (X.shape[0],)\n",
    "    assert y_pred_probs.shape == (X.shape[0], 10)\n",
    "\n",
    "    return y_pred_labels, y_pred_probs\n",
    "\n",
    "\n",
    "# Note: as shown in the training notebook, the predicted labels and probabilities\n",
    "# computed below need not be compatible.\n",
    "y_pred_labels_test, y_pred_probs_test = get_model_outputs(\n",
    "    X_test, onnx_inference_session\n",
    ")"
   ]
  },
  {
   "cell_type": "markdown",
   "id": "297f4120",
   "metadata": {
    "papermill": {
     "duration": 0.004834,
     "end_time": "2022-12-10T06:40:58.127605",
     "exception": false,
     "start_time": "2022-12-10T06:40:58.122771",
     "status": "completed"
    },
    "tags": []
   },
   "source": [
    "### Confusion matrix"
   ]
  },
  {
   "cell_type": "code",
   "execution_count": 11,
   "id": "6bb85104",
   "metadata": {
    "execution": {
     "iopub.execute_input": "2022-12-10T06:40:58.137393Z",
     "iopub.status.busy": "2022-12-10T06:40:58.137159Z",
     "iopub.status.idle": "2022-12-10T06:40:58.140463Z",
     "shell.execute_reply": "2022-12-10T06:40:58.139914Z"
    },
    "papermill": {
     "duration": 0.010528,
     "end_time": "2022-12-10T06:40:58.142651",
     "exception": false,
     "start_time": "2022-12-10T06:40:58.132123",
     "status": "completed"
    },
    "tags": []
   },
   "outputs": [],
   "source": [
    "# TODO"
   ]
  },
  {
   "cell_type": "markdown",
   "id": "91f5de22",
   "metadata": {
    "papermill": {
     "duration": 0.005153,
     "end_time": "2022-12-10T06:40:58.152154",
     "exception": false,
     "start_time": "2022-12-10T06:40:58.147001",
     "status": "completed"
    },
    "tags": []
   },
   "source": [
    "### Plot predicted probabilities for each classifier over all evaluation digit images"
   ]
  },
  {
   "cell_type": "code",
   "execution_count": 12,
   "id": "06c01b70",
   "metadata": {
    "execution": {
     "iopub.execute_input": "2022-12-10T06:40:58.162226Z",
     "iopub.status.busy": "2022-12-10T06:40:58.161996Z",
     "iopub.status.idle": "2022-12-10T06:41:00.997854Z",
     "shell.execute_reply": "2022-12-10T06:41:00.997208Z"
    },
    "papermill": {
     "duration": 2.8431,
     "end_time": "2022-12-10T06:41:00.999574",
     "exception": false,
     "start_time": "2022-12-10T06:40:58.156474",
     "status": "completed"
    },
    "tags": []
   },
   "outputs": [
    {
     "data": {
      "image/png": "[encoded data removed]",
      "text/plain": [
       "<Figure size 1600x600 with 10 Axes>"
      ]
     },
     "metadata": {},
     "output_type": "display_data"
    }
   ],
   "source": [
    "def plot_per_digit_probabilities(y_pred_probs):\n",
    "    fig, axs = plt.subplots(nrows=2, ncols=5, figsize=(16, 6))\n",
    "\n",
    "    for (r, c), digit, ax in zip(\n",
    "        it.product(range(2), range(5)), range(10), axs.reshape(-1)\n",
    "    ):\n",
    "        ax.hist(y_pred_probs_test[:, digit], bins=20)\n",
    "\n",
    "        ax.set_title(f\"Digit {digit}\")\n",
    "        if r == 1 and c == 2:\n",
    "            ax.set_xlabel(\"probability\", fontsize=16)\n",
    "\n",
    "        if c == 0:\n",
    "            ax.set_ylabel(\"counts\", fontsize=16)\n",
    "        ax.set_yscale(\"log\")\n",
    "\n",
    "    fig.tight_layout()\n",
    "    fig.suptitle(\n",
    "        f\"Distributions of prediction probabilities for each digit \"\n",
    "        f\"(on evaluation data, n={y_pred_probs.shape[0]})\",\n",
    "        fontsize=20,\n",
    "    )\n",
    "    fig.tight_layout()\n",
    "    fig.show()\n",
    "\n",
    "    return fig\n",
    "\n",
    "\n",
    "fig = plot_per_digit_probabilities(y_pred_probs_test)"
   ]
  },
  {
   "cell_type": "markdown",
   "id": "655a0b42",
   "metadata": {
    "papermill": {
     "duration": 0.005483,
     "end_time": "2022-12-10T06:41:01.010647",
     "exception": false,
     "start_time": "2022-12-10T06:41:01.005164",
     "status": "completed"
    },
    "tags": []
   },
   "source": [
    "From the above distributions we see that most digits have clear separation between\n",
    "high and lower probabilities. Morover, in each case there is roughly an order of\n",
    "magnitude more of digits with low probabilities. This is compatible with digits\n",
    "being roughly evenly distributed in the data."
   ]
  },
  {
   "cell_type": "code",
   "execution_count": 13,
   "id": "74017cd6",
   "metadata": {
    "execution": {
     "iopub.execute_input": "2022-12-10T06:41:01.023417Z",
     "iopub.status.busy": "2022-12-10T06:41:01.023035Z",
     "iopub.status.idle": "2022-12-10T06:41:01.475598Z",
     "shell.execute_reply": "2022-12-10T06:41:01.474889Z"
    },
    "papermill": {
     "duration": 0.46072,
     "end_time": "2022-12-10T06:41:01.477421",
     "exception": false,
     "start_time": "2022-12-10T06:41:01.016701",
     "status": "completed"
    },
    "tags": []
   },
   "outputs": [],
   "source": [
    "logger.log_figure(\"per-digit-probabilities.png\", fig)"
   ]
  },
  {
   "cell_type": "markdown",
   "id": "69889253",
   "metadata": {
    "papermill": {
     "duration": 0.005535,
     "end_time": "2022-12-10T06:41:01.488720",
     "exception": false,
     "start_time": "2022-12-10T06:41:01.483185",
     "status": "completed"
    },
    "tags": []
   },
   "source": [
    "### Plot ROC curves for individual one-vs-rest classifiers"
   ]
  },
  {
   "cell_type": "code",
   "execution_count": 14,
   "id": "5e3b0a07",
   "metadata": {
    "execution": {
     "iopub.execute_input": "2022-12-10T06:41:01.500725Z",
     "iopub.status.busy": "2022-12-10T06:41:01.500380Z",
     "iopub.status.idle": "2022-12-10T06:41:01.885714Z",
     "shell.execute_reply": "2022-12-10T06:41:01.885057Z"
    },
    "papermill": {
     "duration": 0.393619,
     "end_time": "2022-12-10T06:41:01.887486",
     "exception": false,
     "start_time": "2022-12-10T06:41:01.493867",
     "status": "completed"
    },
    "tags": []
   },
   "outputs": [],
   "source": [
    "from sklearn import metrics"
   ]
  },
  {
   "cell_type": "code",
   "execution_count": 15,
   "id": "4aad0419",
   "metadata": {
    "execution": {
     "iopub.execute_input": "2022-12-10T06:41:01.899486Z",
     "iopub.status.busy": "2022-12-10T06:41:01.899048Z",
     "iopub.status.idle": "2022-12-10T06:41:02.970015Z",
     "shell.execute_reply": "2022-12-10T06:41:02.969185Z"
    },
    "papermill": {
     "duration": 1.078697,
     "end_time": "2022-12-10T06:41:02.971831",
     "exception": false,
     "start_time": "2022-12-10T06:41:01.893134",
     "status": "completed"
    },
    "tags": []
   },
   "outputs": [
    {
     "data": {
      "image/png": "[encoded data removed]",
      "text/plain": [
       "<Figure size 1600x800 with 10 Axes>"
      ]
     },
     "metadata": {},
     "output_type": "display_data"
    }
   ],
   "source": [
    "def plot_roc_curves(y, y_pred_probs):\n",
    "    # based on example code\n",
    "    # https://scikit-learn.org/stable/auto_examples/model_selection/plot_roc.html\n",
    "\n",
    "    fig, axs = plt.subplots(nrows=2, ncols=5, figsize=(16, 8))\n",
    "\n",
    "    roc_auc_dict = {}\n",
    "\n",
    "    for (r, c), digit, ax in zip(\n",
    "        it.product(range(2), range(5)), range(10), axs.reshape(-1)\n",
    "    ):\n",
    "        fpr, tpr, _ = metrics.roc_curve(y == digit, y_pred_probs[:, digit])\n",
    "        auc = metrics.auc(fpr, tpr)\n",
    "        roc_auc_dict[str(digit)] = auc\n",
    "\n",
    "        ax.plot(fpr, tpr, label=f\"ROC AUC={round(auc, 3)}\")\n",
    "\n",
    "        ax.set_title(f\"\\nDigit {digit}\", fontsize=16)\n",
    "        if r == 1:\n",
    "            ax.set_xlabel(\"FPR\", fontsize=18)\n",
    "\n",
    "        if c == 0:\n",
    "            ax.set_ylabel(\"TPR\", fontsize=18)\n",
    "\n",
    "        ax.set_xlim([-0.05, 1.05])\n",
    "        ax.set_ylim([-0.05, 1.05])\n",
    "        ax.legend(loc=\"lower right\", frameon=False, fontsize=14)\n",
    "\n",
    "    fig.tight_layout()\n",
    "    fig.suptitle(\n",
    "        f\"ROC plots for one-vs-rest performances \"\n",
    "        f\"(on evaluation data, n={y_pred_probs_test.shape[1]}\",\n",
    "        fontsize=22,\n",
    "    )\n",
    "    fig.tight_layout()\n",
    "    fig.show()\n",
    "\n",
    "    return roc_auc_dict, fig\n",
    "\n",
    "\n",
    "roc_auc_dict, fig = plot_roc_curves(y_test, y_pred_probs_test)"
   ]
  },
  {
   "cell_type": "code",
   "execution_count": 16,
   "id": "ba0b8c98",
   "metadata": {
    "execution": {
     "iopub.execute_input": "2022-12-10T06:41:02.986759Z",
     "iopub.status.busy": "2022-12-10T06:41:02.986517Z",
     "iopub.status.idle": "2022-12-10T06:41:03.283477Z",
     "shell.execute_reply": "2022-12-10T06:41:03.282942Z"
    },
    "papermill": {
     "duration": 0.306371,
     "end_time": "2022-12-10T06:41:03.285138",
     "exception": false,
     "start_time": "2022-12-10T06:41:02.978767",
     "status": "completed"
    },
    "tags": []
   },
   "outputs": [],
   "source": [
    "logger.log_figure(\"per-digit-roc-curves.png\", fig)"
   ]
  },
  {
   "cell_type": "code",
   "execution_count": 17,
   "id": "ddf66376",
   "metadata": {
    "execution": {
     "iopub.execute_input": "2022-12-10T06:41:03.299406Z",
     "iopub.status.busy": "2022-12-10T06:41:03.299152Z",
     "iopub.status.idle": "2022-12-10T06:41:03.307398Z",
     "shell.execute_reply": "2022-12-10T06:41:03.306802Z"
    },
    "papermill": {
     "duration": 0.019427,
     "end_time": "2022-12-10T06:41:03.311431",
     "exception": false,
     "start_time": "2022-12-10T06:41:03.292004",
     "status": "completed"
    },
    "tags": []
   },
   "outputs": [
    {
     "data": {
      "text/plain": [
       "{'0': 1.0,\n",
       " '1': 0.9987628865979382,\n",
       " '2': 1.0,\n",
       " '3': 0.9998125585754452,\n",
       " '4': 0.9994665447340345,\n",
       " '5': 0.9992502343017807,\n",
       " '6': 0.999923792104862,\n",
       " '7': 0.9998856881572931,\n",
       " '8': 0.9930249054224465,\n",
       " '9': 0.9993903368388964}"
      ]
     },
     "execution_count": 17,
     "metadata": {},
     "output_type": "execute_result"
    }
   ],
   "source": [
    "roc_auc_dict"
   ]
  },
  {
   "cell_type": "code",
   "execution_count": 18,
   "id": "c8c16b6d",
   "metadata": {
    "execution": {
     "iopub.execute_input": "2022-12-10T06:41:03.332005Z",
     "iopub.status.busy": "2022-12-10T06:41:03.331654Z",
     "iopub.status.idle": "2022-12-10T06:41:03.335849Z",
     "shell.execute_reply": "2022-12-10T06:41:03.335220Z"
    },
    "papermill": {
     "duration": 0.016541,
     "end_time": "2022-12-10T06:41:03.340129",
     "exception": false,
     "start_time": "2022-12-10T06:41:03.323588",
     "status": "completed"
    },
    "tags": []
   },
   "outputs": [
    {
     "name": "stdout",
     "output_type": "stream",
     "text": [
      " - Logging roc_auc_per_digit (json) : {'0': 1.0, '1': 0.9987628865979382, '2': 1.0, '3': 0.9998125585754452, '4': 0.9994665447340345, '5': 0.9992502343017807, '6': 0.999923792104862, '7': 0.9998856881572931, '8': 0.9930249054224465, '9': 0.9993903368388964}\n"
     ]
    }
   ],
   "source": [
    "logger.log_value(\"roc_auc_per_digit\", roc_auc_dict)"
   ]
  },
  {
   "cell_type": "markdown",
   "id": "0a355450",
   "metadata": {
    "papermill": {
     "duration": 0.006611,
     "end_time": "2022-12-10T06:41:03.360661",
     "exception": false,
     "start_time": "2022-12-10T06:41:03.354050",
     "status": "completed"
    },
    "tags": []
   },
   "source": [
    "### Compute and log mean ROC AUC score averaged over all digits"
   ]
  },
  {
   "cell_type": "code",
   "execution_count": 19,
   "id": "f793ddcc",
   "metadata": {
    "execution": {
     "iopub.execute_input": "2022-12-10T06:41:03.376120Z",
     "iopub.status.busy": "2022-12-10T06:41:03.375782Z",
     "iopub.status.idle": "2022-12-10T06:41:03.388165Z",
     "shell.execute_reply": "2022-12-10T06:41:03.387509Z"
    },
    "papermill": {
     "duration": 0.021648,
     "end_time": "2022-12-10T06:41:03.389618",
     "exception": false,
     "start_time": "2022-12-10T06:41:03.367970",
     "status": "completed"
    },
    "tags": []
   },
   "outputs": [
    {
     "name": "stdout",
     "output_type": "stream",
     "text": [
      " - Logging roc_auc_class_mean (float) : 0.9989516946732696\n"
     ]
    }
   ],
   "source": [
    "roc_auc_macro = np.mean(list(roc_auc_dict.values()))\n",
    "\n",
    "logger.log_float(\"roc_auc_class_mean\", roc_auc_macro)\n",
    "\n",
    "# assert that the same value can be computed directly using sklearn\n",
    "assert roc_auc_macro == metrics.roc_auc_score(\n",
    "    y_test, y_pred_probs_test, average=\"macro\", multi_class=\"ovr\"\n",
    ")"
   ]
  },
  {
   "cell_type": "code",
   "execution_count": 20,
   "id": "8614ce89",
   "metadata": {
    "execution": {
     "iopub.execute_input": "2022-12-10T06:41:03.404595Z",
     "iopub.status.busy": "2022-12-10T06:41:03.404299Z",
     "iopub.status.idle": "2022-12-10T06:41:03.407483Z",
     "shell.execute_reply": "2022-12-10T06:41:03.406834Z"
    },
    "lines_to_next_cell": 0,
    "papermill": {
     "duration": 0.012563,
     "end_time": "2022-12-10T06:41:03.409230",
     "exception": false,
     "start_time": "2022-12-10T06:41:03.396667",
     "status": "completed"
    },
    "tags": []
   },
   "outputs": [],
   "source": [
    "# ---"
   ]
  },
  {
   "cell_type": "code",
   "execution_count": null,
   "id": "d332e5ea",
   "metadata": {
    "papermill": {
     "duration": 0.006473,
     "end_time": "2022-12-10T06:41:03.421855",
     "exception": false,
     "start_time": "2022-12-10T06:41:03.415382",
     "status": "completed"
    },
    "tags": []
   },
   "outputs": [],
   "source": []
  }
 ],
 "metadata": {
  "jupytext": {
   "cell_metadata_filter": "tags,-all",
   "main_language": "python",
   "notebook_metadata_filter": "-all"
  },
  "language_info": {
   "codemirror_mode": {
    "name": "ipython",
    "version": 3
   },
   "file_extension": ".py",
   "mimetype": "text/x-python",
   "name": "python",
   "nbconvert_exporter": "python",
   "pygments_lexer": "ipython3",
   "version": "3.8.10"
  },
  "papermill": {
   "default_parameters": {},
   "duration": 9.06177,
   "end_time": "2022-12-10T06:41:04.556533",
   "environment_variables": {},
   "exception": null,
   "input_path": "/home/host_user/workspace/mnist-demo-pipeline/mnist-demo-pipeline/notebooks/temp-notebook-aq01w3qf.ipynb",
   "output_path": "notebooks/benchmark-model.ipynb",
   "parameters": {
    "P": {
     "_opentelemetry_traceparent": "00-5775c7dbec8cd99ab6da112e2f69fea3-3521261a2695d6cf-01",
     "pipeline.data_lake_root": "/pipeline-outputs/data-lake",
     "pipeline.github.actor": "matiasdahl",
     "pipeline.github.base_ref": "",
     "pipeline.github.event_name": "schedule",
     "pipeline.github.head_ref": "",
     "pipeline.github.job": "run-tests-pipeline-and-persist-pipeline-outputs",
     "pipeline.github.ref": "refs/heads/development",
     "pipeline.github.ref_name": "development",
     "pipeline.github.ref_type": "branch",
     "pipeline.github.repository": "matiasdahl/dev-mnist-digits-demo-pipeline",
     "pipeline.github.run_id": "3663055501",
     "pipeline.github.runner_name": "Hosted Agent",
     "pipeline.github.sha": "ace0d01011d5e914f1921450dd5a59c11367b38d",
     "pipeline.github.workflow": "Run automated tests, pipeline and deploy results to static reporting site",
     "pipeline.pipeline_run_id": "1298f9fe-a281-452a-89d5-8180c6df80de",
     "pipeline.run_environment": "ci",
     "run.retry_nr": "0",
     "task.max_nr_retries": "1",
     "task.notebook": "notebooks/benchmark-model.py",
     "task.nr_train_images": 800,
     "task.num_cpus": 1,
     "task.timeout_s": "None"
    }
   },
   "start_time": "2022-12-10T06:40:55.494763",
   "version": "2.3.3"
  }
 },
 "nbformat": 4,
 "nbformat_minor": 5
}