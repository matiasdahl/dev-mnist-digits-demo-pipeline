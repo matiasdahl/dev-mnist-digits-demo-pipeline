{
 "cells": [
  {
   "cell_type": "markdown",
   "id": "75a77379",
   "metadata": {
    "papermill": {
     "duration": 0.003832,
     "end_time": "2022-12-10T06:40:34.295836",
     "exception": false,
     "start_time": "2022-12-10T06:40:34.292004",
     "status": "completed"
    },
    "tags": []
   },
   "source": [
    "# Train model\n",
    "\n",
    "The purpose of this notebook is:\n",
    "\n",
    "- Load all training data (images and labels).\n",
    "- Limit number of train images to `task.nr_train_images` (value provided as run parameter).\n",
    "- Train a support vector machine model using sklearn.\n",
    "- Persist the trained model using the ONNX format."
   ]
  },
  {
   "cell_type": "markdown",
   "id": "b25f288e",
   "metadata": {
    "papermill": {
     "duration": 0.002802,
     "end_time": "2022-12-10T06:40:34.302039",
     "exception": false,
     "start_time": "2022-12-10T06:40:34.299237",
     "status": "completed"
    },
    "tags": []
   },
   "source": [
    "### Determine run parameters"
   ]
  },
  {
   "cell_type": "code",
   "execution_count": 1,
   "id": "78729b07",
   "metadata": {
    "execution": {
     "iopub.execute_input": "2022-12-10T06:40:34.308683Z",
     "iopub.status.busy": "2022-12-10T06:40:34.308425Z",
     "iopub.status.idle": "2022-12-10T06:40:34.316350Z",
     "shell.execute_reply": "2022-12-10T06:40:34.315650Z"
    },
    "lines_to_next_cell": 0,
    "papermill": {
     "duration": 0.013548,
     "end_time": "2022-12-10T06:40:34.318148",
     "exception": false,
     "start_time": "2022-12-10T06:40:34.304600",
     "status": "completed"
    },
    "tags": []
   },
   "outputs": [],
   "source": [
    "# ----------------- Parameters for interactive development --------------\n",
    "P = {\n",
    "    \"pipeline.data_lake_root\": \"/pipeline-outputs/data-lake\",\n",
    "    \"task.nr_train_images\": 600,\n",
    "}"
   ]
  },
  {
   "cell_type": "code",
   "execution_count": 2,
   "id": "755047b7",
   "metadata": {
    "execution": {
     "iopub.execute_input": "2022-12-10T06:40:34.324574Z",
     "iopub.status.busy": "2022-12-10T06:40:34.324373Z",
     "iopub.status.idle": "2022-12-10T06:40:34.327075Z",
     "shell.execute_reply": "2022-12-10T06:40:34.326537Z"
    },
    "lines_to_next_cell": 0,
    "papermill": {
     "duration": 0.008851,
     "end_time": "2022-12-10T06:40:34.329680",
     "exception": false,
     "start_time": "2022-12-10T06:40:34.320829",
     "status": "completed"
    },
    "tags": [
     "parameters"
    ]
   },
   "outputs": [],
   "source": [
    "# - During automated runs parameters will be injected in the below cell -"
   ]
  },
  {
   "cell_type": "code",
   "execution_count": 3,
   "id": "274980e8",
   "metadata": {
    "execution": {
     "iopub.execute_input": "2022-12-10T06:40:34.337105Z",
     "iopub.status.busy": "2022-12-10T06:40:34.336908Z",
     "iopub.status.idle": "2022-12-10T06:40:34.341043Z",
     "shell.execute_reply": "2022-12-10T06:40:34.340565Z"
    },
    "papermill": {
     "duration": 0.010047,
     "end_time": "2022-12-10T06:40:34.343414",
     "exception": false,
     "start_time": "2022-12-10T06:40:34.333367",
     "status": "completed"
    },
    "tags": [
     "injected-parameters"
    ]
   },
   "outputs": [],
   "source": [
    "# Parameters\n",
    "P = {\n",
    "    \"pipeline.data_lake_root\": \"/pipeline-outputs/data-lake\",\n",
    "    \"pipeline.run_environment\": \"ci\",\n",
    "    \"pipeline.pipeline_run_id\": \"1298f9fe-a281-452a-89d5-8180c6df80de\",\n",
    "    \"pipeline.github.repository\": \"matiasdahl/dev-mnist-digits-demo-pipeline\",\n",
    "    \"pipeline.github.workflow\": \"Run automated tests, pipeline and deploy results to static reporting site\",\n",
    "    \"pipeline.github.runner_name\": \"Hosted Agent\",\n",
    "    \"pipeline.github.run_id\": \"3663055501\",\n",
    "    \"pipeline.github.actor\": \"matiasdahl\",\n",
    "    \"pipeline.github.job\": \"run-tests-pipeline-and-persist-pipeline-outputs\",\n",
    "    \"pipeline.github.base_ref\": \"\",\n",
    "    \"pipeline.github.head_ref\": \"\",\n",
    "    \"pipeline.github.sha\": \"ace0d01011d5e914f1921450dd5a59c11367b38d\",\n",
    "    \"pipeline.github.ref\": \"refs/heads/development\",\n",
    "    \"pipeline.github.ref_type\": \"branch\",\n",
    "    \"pipeline.github.ref_name\": \"development\",\n",
    "    \"pipeline.github.event_name\": \"schedule\",\n",
    "    \"task.nr_train_images\": 600,\n",
    "    \"task.notebook\": \"notebooks/train-model.py\",\n",
    "    \"task.max_nr_retries\": \"1\",\n",
    "    \"run.retry_nr\": \"0\",\n",
    "    \"task.timeout_s\": \"None\",\n",
    "    \"task.num_cpus\": 1,\n",
    "    \"_opentelemetry_traceparent\": \"00-5775c7dbec8cd99ab6da112e2f69fea3-c87faa735527c161-01\",\n",
    "}\n"
   ]
  },
  {
   "cell_type": "code",
   "execution_count": 4,
   "id": "b8b68257",
   "metadata": {
    "execution": {
     "iopub.execute_input": "2022-12-10T06:40:34.349631Z",
     "iopub.status.busy": "2022-12-10T06:40:34.349417Z",
     "iopub.status.idle": "2022-12-10T06:40:34.352222Z",
     "shell.execute_reply": "2022-12-10T06:40:34.351535Z"
    },
    "lines_to_next_cell": 0,
    "papermill": {
     "duration": 0.00813,
     "end_time": "2022-12-10T06:40:34.354271",
     "exception": false,
     "start_time": "2022-12-10T06:40:34.346141",
     "status": "completed"
    },
    "tags": []
   },
   "outputs": [],
   "source": [
    "# -----------------------------------------------------------------------"
   ]
  },
  {
   "cell_type": "markdown",
   "id": "034b6af1",
   "metadata": {
    "papermill": {
     "duration": 0.004052,
     "end_time": "2022-12-10T06:40:34.361040",
     "exception": false,
     "start_time": "2022-12-10T06:40:34.356988",
     "status": "completed"
    },
    "tags": []
   },
   "source": [
    "---"
   ]
  },
  {
   "cell_type": "markdown",
   "id": "7c01c83b",
   "metadata": {
    "lines_to_next_cell": 2,
    "papermill": {
     "duration": 0.002614,
     "end_time": "2022-12-10T06:40:34.366576",
     "exception": false,
     "start_time": "2022-12-10T06:40:34.363962",
     "status": "completed"
    },
    "tags": []
   },
   "source": [
    "### Notebook code"
   ]
  },
  {
   "cell_type": "code",
   "execution_count": 5,
   "id": "5dd14aa2",
   "metadata": {
    "execution": {
     "iopub.execute_input": "2022-12-10T06:40:34.373259Z",
     "iopub.status.busy": "2022-12-10T06:40:34.373057Z",
     "iopub.status.idle": "2022-12-10T06:40:34.829785Z",
     "shell.execute_reply": "2022-12-10T06:40:34.829168Z"
    },
    "papermill": {
     "duration": 0.462319,
     "end_time": "2022-12-10T06:40:34.831614",
     "exception": false,
     "start_time": "2022-12-10T06:40:34.369295",
     "status": "completed"
    },
    "tags": []
   },
   "outputs": [
    {
     "name": "stderr",
     "output_type": "stream",
     "text": [
      "2022-12-10 06:40:34,673\tINFO worker.py:842 -- Connecting to existing Ray cluster at address: 172.17.0.2:6379\n"
     ]
    }
   ],
   "source": [
    "from pynb_dag_runner.tasks.task_opentelemetry_logging import PydarLogger\n",
    "\n",
    "logger = PydarLogger(P)"
   ]
  },
  {
   "cell_type": "markdown",
   "id": "e96af5f9",
   "metadata": {
    "papermill": {
     "duration": 0.003481,
     "end_time": "2022-12-10T06:40:34.839139",
     "exception": false,
     "start_time": "2022-12-10T06:40:34.835658",
     "status": "completed"
    },
    "tags": []
   },
   "source": [
    "## Load and limit train data"
   ]
  },
  {
   "cell_type": "code",
   "execution_count": 6,
   "id": "c1f053c1",
   "metadata": {
    "execution": {
     "iopub.execute_input": "2022-12-10T06:40:34.846855Z",
     "iopub.status.busy": "2022-12-10T06:40:34.846532Z",
     "iopub.status.idle": "2022-12-10T06:40:35.240242Z",
     "shell.execute_reply": "2022-12-10T06:40:35.239624Z"
    },
    "papermill": {
     "duration": 0.400383,
     "end_time": "2022-12-10T06:40:35.242371",
     "exception": false,
     "start_time": "2022-12-10T06:40:34.841988",
     "status": "completed"
    },
    "tags": []
   },
   "outputs": [],
   "source": [
    "def load_and_limit_train_data(P):\n",
    "    from common.io import datalake_root, read_numpy\n",
    "    from sklearn.model_selection import train_test_split\n",
    "\n",
    "    X_train_all = read_numpy(datalake_root(P) / \"train-data\" / \"digits.numpy\")\n",
    "    y_train_all = read_numpy(datalake_root(P) / \"train-data\" / \"labels.numpy\")\n",
    "\n",
    "    assert isinstance(P[\"task.nr_train_images\"], int)\n",
    "\n",
    "    # Note: train_test_split will fail if split is 0 or 100%.\n",
    "    assert 0 < P[\"task.nr_train_images\"] < len(y_train_all)\n",
    "\n",
    "    X_train, _, y_train, _ = train_test_split(\n",
    "        X_train_all,\n",
    "        y_train_all,\n",
    "        train_size=P[\"task.nr_train_images\"],\n",
    "        test_size=None,\n",
    "        stratify=y_train_all,\n",
    "        shuffle=True,\n",
    "        random_state=123,\n",
    "    )\n",
    "\n",
    "    assert X_train.shape == (len(y_train), 8 * 8)\n",
    "    return X_train, y_train\n",
    "\n",
    "\n",
    "X_train, y_train = load_and_limit_train_data(P)"
   ]
  },
  {
   "cell_type": "markdown",
   "id": "dd1ff32e",
   "metadata": {
    "papermill": {
     "duration": 0.00367,
     "end_time": "2022-12-10T06:40:35.249611",
     "exception": false,
     "start_time": "2022-12-10T06:40:35.245941",
     "status": "completed"
    },
    "tags": []
   },
   "source": [
    "## Train support vector classifier model\n",
    "\n",
    "Below we assume that the hyperparameter $C$ is known.\n",
    "\n",
    "However, this should ideally be found by a hyperparameter search. That could be\n",
    "done in parallel on the Ray cluster, but this needs some more work. Ie., to use\n",
    "multiple cores in the notebook, those cores should be reserved when starting the\n",
    "notebook task (TODO).\n",
    "\n",
    "- https://docs.ray.io/en/latest/tune/key-concepts.html\n",
    "\n",
    "Note: cv-scores would need to be computed here, since they depend on the train data.\n",
    "After this notebook only the onnx-model is available."
   ]
  },
  {
   "cell_type": "code",
   "execution_count": 7,
   "id": "e2155954",
   "metadata": {
    "execution": {
     "iopub.execute_input": "2022-12-10T06:40:35.256873Z",
     "iopub.status.busy": "2022-12-10T06:40:35.256621Z",
     "iopub.status.idle": "2022-12-10T06:40:35.356993Z",
     "shell.execute_reply": "2022-12-10T06:40:35.356293Z"
    },
    "papermill": {
     "duration": 0.106251,
     "end_time": "2022-12-10T06:40:35.358928",
     "exception": false,
     "start_time": "2022-12-10T06:40:35.252677",
     "status": "completed"
    },
    "tags": []
   },
   "outputs": [],
   "source": [
    "from sklearn.svm import SVC"
   ]
  },
  {
   "cell_type": "code",
   "execution_count": 8,
   "id": "8d9826cf",
   "metadata": {
    "execution": {
     "iopub.execute_input": "2022-12-10T06:40:35.367479Z",
     "iopub.status.busy": "2022-12-10T06:40:35.366886Z",
     "iopub.status.idle": "2022-12-10T06:40:35.435604Z",
     "shell.execute_reply": "2022-12-10T06:40:35.435049Z"
    },
    "papermill": {
     "duration": 0.074679,
     "end_time": "2022-12-10T06:40:35.437358",
     "exception": false,
     "start_time": "2022-12-10T06:40:35.362679",
     "status": "completed"
    },
    "tags": []
   },
   "outputs": [
    {
     "data": {
      "text/html": [
       "<style>#sk-container-id-1 {color: black;background-color: white;}#sk-container-id-1 pre{padding: 0;}#sk-container-id-1 div.sk-toggleable {background-color: white;}#sk-container-id-1 label.sk-toggleable__label {cursor: pointer;display: block;width: 100%;margin-bottom: 0;padding: 0.3em;box-sizing: border-box;text-align: center;}#sk-container-id-1 label.sk-toggleable__label-arrow:before {content: \"▸\";float: left;margin-right: 0.25em;color: #696969;}#sk-container-id-1 label.sk-toggleable__label-arrow:hover:before {color: black;}#sk-container-id-1 div.sk-estimator:hover label.sk-toggleable__label-arrow:before {color: black;}#sk-container-id-1 div.sk-toggleable__content {max-height: 0;max-width: 0;overflow: hidden;text-align: left;background-color: #f0f8ff;}#sk-container-id-1 div.sk-toggleable__content pre {margin: 0.2em;color: black;border-radius: 0.25em;background-color: #f0f8ff;}#sk-container-id-1 input.sk-toggleable__control:checked~div.sk-toggleable__content {max-height: 200px;max-width: 100%;overflow: auto;}#sk-container-id-1 input.sk-toggleable__control:checked~label.sk-toggleable__label-arrow:before {content: \"▾\";}#sk-container-id-1 div.sk-estimator input.sk-toggleable__control:checked~label.sk-toggleable__label {background-color: #d4ebff;}#sk-container-id-1 div.sk-label input.sk-toggleable__control:checked~label.sk-toggleable__label {background-color: #d4ebff;}#sk-container-id-1 input.sk-hidden--visually {border: 0;clip: rect(1px 1px 1px 1px);clip: rect(1px, 1px, 1px, 1px);height: 1px;margin: -1px;overflow: hidden;padding: 0;position: absolute;width: 1px;}#sk-container-id-1 div.sk-estimator {font-family: monospace;background-color: #f0f8ff;border: 1px dotted black;border-radius: 0.25em;box-sizing: border-box;margin-bottom: 0.5em;}#sk-container-id-1 div.sk-estimator:hover {background-color: #d4ebff;}#sk-container-id-1 div.sk-parallel-item::after {content: \"\";width: 100%;border-bottom: 1px solid gray;flex-grow: 1;}#sk-container-id-1 div.sk-label:hover label.sk-toggleable__label {background-color: #d4ebff;}#sk-container-id-1 div.sk-serial::before {content: \"\";position: absolute;border-left: 1px solid gray;box-sizing: border-box;top: 0;bottom: 0;left: 50%;z-index: 0;}#sk-container-id-1 div.sk-serial {display: flex;flex-direction: column;align-items: center;background-color: white;padding-right: 0.2em;padding-left: 0.2em;position: relative;}#sk-container-id-1 div.sk-item {position: relative;z-index: 1;}#sk-container-id-1 div.sk-parallel {display: flex;align-items: stretch;justify-content: center;background-color: white;position: relative;}#sk-container-id-1 div.sk-item::before, #sk-container-id-1 div.sk-parallel-item::before {content: \"\";position: absolute;border-left: 1px solid gray;box-sizing: border-box;top: 0;bottom: 0;left: 50%;z-index: -1;}#sk-container-id-1 div.sk-parallel-item {display: flex;flex-direction: column;z-index: 1;position: relative;background-color: white;}#sk-container-id-1 div.sk-parallel-item:first-child::after {align-self: flex-end;width: 50%;}#sk-container-id-1 div.sk-parallel-item:last-child::after {align-self: flex-start;width: 50%;}#sk-container-id-1 div.sk-parallel-item:only-child::after {width: 0;}#sk-container-id-1 div.sk-dashed-wrapped {border: 1px dashed gray;margin: 0 0.4em 0.5em 0.4em;box-sizing: border-box;padding-bottom: 0.4em;background-color: white;}#sk-container-id-1 div.sk-label label {font-family: monospace;font-weight: bold;display: inline-block;line-height: 1.2em;}#sk-container-id-1 div.sk-label-container {text-align: center;}#sk-container-id-1 div.sk-container {/* jupyter's `normalize.less` sets `[hidden] { display: none; }` but bootstrap.min.css set `[hidden] { display: none !important; }` so we also need the `!important` here to be able to override the default hidden behavior on the sphinx rendered scikit-learn.org. See: https://github.com/scikit-learn/scikit-learn/issues/21755 */display: inline-block !important;position: relative;}#sk-container-id-1 div.sk-text-repr-fallback {display: none;}</style><div id=\"sk-container-id-1\" class=\"sk-top-container\"><div class=\"sk-text-repr-fallback\"><pre>SVC(C=0.001, kernel=&#x27;linear&#x27;, probability=True)</pre><b>In a Jupyter environment, please rerun this cell to show the HTML representation or trust the notebook. <br />On GitHub, the HTML representation is unable to render, please try loading this page with nbviewer.org.</b></div><div class=\"sk-container\" hidden><div class=\"sk-item\"><div class=\"sk-estimator sk-toggleable\"><input class=\"sk-toggleable__control sk-hidden--visually\" id=\"sk-estimator-id-1\" type=\"checkbox\" checked><label for=\"sk-estimator-id-1\" class=\"sk-toggleable__label sk-toggleable__label-arrow\">SVC</label><div class=\"sk-toggleable__content\"><pre>SVC(C=0.001, kernel=&#x27;linear&#x27;, probability=True)</pre></div></div></div></div></div>"
      ],
      "text/plain": [
       "SVC(C=0.001, kernel='linear', probability=True)"
      ]
     },
     "execution_count": 8,
     "metadata": {},
     "output_type": "execute_result"
    }
   ],
   "source": [
    "model = SVC(C=0.001, kernel=\"linear\", probability=True)\n",
    "\n",
    "model.fit(X_train, y_train)"
   ]
  },
  {
   "cell_type": "markdown",
   "id": "aa99d010",
   "metadata": {
    "papermill": {
     "duration": 0.003764,
     "end_time": "2022-12-10T06:40:35.445191",
     "exception": false,
     "start_time": "2022-12-10T06:40:35.441427",
     "status": "completed"
    },
    "tags": []
   },
   "source": [
    "### Q: Can the labels returned by `predict(..)` be computed from probabilities returned by the `predict_prob`-method?"
   ]
  },
  {
   "cell_type": "code",
   "execution_count": 9,
   "id": "abd0c89e",
   "metadata": {
    "execution": {
     "iopub.execute_input": "2022-12-10T06:40:35.453639Z",
     "iopub.status.busy": "2022-12-10T06:40:35.453381Z",
     "iopub.status.idle": "2022-12-10T06:40:35.480886Z",
     "shell.execute_reply": "2022-12-10T06:40:35.480307Z"
    },
    "papermill": {
     "duration": 0.034177,
     "end_time": "2022-12-10T06:40:35.483014",
     "exception": false,
     "start_time": "2022-12-10T06:40:35.448837",
     "status": "completed"
    },
    "tags": []
   },
   "outputs": [
    {
     "name": "stdout",
     "output_type": "stream",
     "text": [
      " - Logging nr_max_prob_neq_label (int) : 2\n"
     ]
    }
   ],
   "source": [
    "import numpy as np\n",
    "\n",
    "y_train_labels = model.predict(X_train)\n",
    "y_train_probabilities = model.predict_proba(X_train)\n",
    "assert y_train_probabilities.shape == (len(y_train), 10)\n",
    "\n",
    "y_train_max_prob_labels = np.argmax(y_train_probabilities, axis=1)\n",
    "assert y_train_labels.shape == y_train_max_prob_labels.shape == y_train.shape\n",
    "\n",
    "# If the predicted labels would coincide with the labels that have\n",
    "# maximum probability, the below number would be zero\n",
    "logger.log_int(\n",
    "    \"nr_max_prob_neq_label\", int(sum(y_train_max_prob_labels != y_train_labels))\n",
    ")"
   ]
  },
  {
   "cell_type": "markdown",
   "id": "d106c39b",
   "metadata": {
    "papermill": {
     "duration": 0.003607,
     "end_time": "2022-12-10T06:40:35.490545",
     "exception": false,
     "start_time": "2022-12-10T06:40:35.486938",
     "status": "completed"
    },
    "tags": []
   },
   "source": [
    "The explanation is (likely) explained in the SVC source, see\n",
    "[here](https://github.com/scikit-learn/scikit-learn/blob/main/sklearn/svm/_base.py).\n",
    "Namely, the outputs from `predict(..)` and `predict_proba(..)` may not in some\n",
    "cases be compatible since the latter is computed using cross-validation while\n",
    "the former is not. Thus, the above number need not be zero."
   ]
  },
  {
   "cell_type": "markdown",
   "id": "20ddda34",
   "metadata": {
    "papermill": {
     "duration": 0.003628,
     "end_time": "2022-12-10T06:40:35.498100",
     "exception": false,
     "start_time": "2022-12-10T06:40:35.494472",
     "status": "completed"
    },
    "tags": []
   },
   "source": [
    "## Persist model"
   ]
  },
  {
   "cell_type": "code",
   "execution_count": 10,
   "id": "dbc685c7",
   "metadata": {
    "execution": {
     "iopub.execute_input": "2022-12-10T06:40:35.506159Z",
     "iopub.status.busy": "2022-12-10T06:40:35.505918Z",
     "iopub.status.idle": "2022-12-10T06:40:36.712707Z",
     "shell.execute_reply": "2022-12-10T06:40:36.711971Z"
    },
    "papermill": {
     "duration": 1.212805,
     "end_time": "2022-12-10T06:40:36.714339",
     "exception": false,
     "start_time": "2022-12-10T06:40:35.501534",
     "status": "completed"
    },
    "tags": []
   },
   "outputs": [
    {
     "name": "stdout",
     "output_type": "stream",
     "text": [
      "\u001b[2m\u001b[1m\u001b[36m(scheduler +1s)\u001b[0m Tip: use `ray status` to view detailed cluster status. To disable these messages, set RAY_SCHEDULER_EVENTS=0.\n",
      "\u001b[2m\u001b[1m\u001b[33m(scheduler +1s)\u001b[0m Warning: The following resource request cannot be scheduled right now: {'CPU': 1.0}. This is likely due to all cluster resources being claimed by actors. Consider creating fewer actors or adding more nodes to this Ray cluster.\n"
     ]
    }
   ],
   "source": [
    "from skl2onnx import convert_sklearn\n",
    "from skl2onnx.common.data_types import FloatTensorType\n",
    "\n",
    "#\n",
    "from common.io import datalake_root, write_onnx"
   ]
  },
  {
   "cell_type": "code",
   "execution_count": 11,
   "id": "eee95cbb",
   "metadata": {
    "execution": {
     "iopub.execute_input": "2022-12-10T06:40:36.723513Z",
     "iopub.status.busy": "2022-12-10T06:40:36.722980Z",
     "iopub.status.idle": "2022-12-10T06:40:36.759789Z",
     "shell.execute_reply": "2022-12-10T06:40:36.758063Z"
    },
    "papermill": {
     "duration": 0.043035,
     "end_time": "2022-12-10T06:40:36.761447",
     "exception": false,
     "start_time": "2022-12-10T06:40:36.718412",
     "status": "completed"
    },
    "tags": []
   },
   "outputs": [],
   "source": [
    "# convert sklearn model into onnx and persist to data lake\n",
    "\n",
    "model_onnx = convert_sklearn(\n",
    "    model, initial_types=[(\"float_input_8x8_image\", FloatTensorType([None, 8 * 8]))]\n",
    ")\n",
    "write_onnx(\n",
    "    datalake_root(P)\n",
    "    / \"models\"\n",
    "    / f\"nr_train_images={P['task.nr_train_images']}\"\n",
    "    / \"model.onnx\",\n",
    "    model_onnx,\n",
    ")"
   ]
  },
  {
   "cell_type": "code",
   "execution_count": null,
   "id": "659fef1e",
   "metadata": {
    "papermill": {
     "duration": 0.003842,
     "end_time": "2022-12-10T06:40:36.768980",
     "exception": false,
     "start_time": "2022-12-10T06:40:36.765138",
     "status": "completed"
    },
    "tags": []
   },
   "outputs": [],
   "source": []
  }
 ],
 "metadata": {
  "jupytext": {
   "cell_metadata_filter": "tags,-all",
   "main_language": "python",
   "notebook_metadata_filter": "-all"
  },
  "language_info": {
   "codemirror_mode": {
    "name": "ipython",
    "version": 3
   },
   "file_extension": ".py",
   "mimetype": "text/x-python",
   "name": "python",
   "nbconvert_exporter": "python",
   "pygments_lexer": "ipython3",
   "version": "3.8.10"
  },
  "papermill": {
   "default_parameters": {},
   "duration": 5.382401,
   "end_time": "2022-12-10T06:40:37.790878",
   "environment_variables": {},
   "exception": null,
   "input_path": "/home/host_user/workspace/mnist-demo-pipeline/mnist-demo-pipeline/notebooks/temp-notebook-vbwq9o4j.ipynb",
   "output_path": "notebooks/train-model.ipynb",
   "parameters": {
    "P": {
     "_opentelemetry_traceparent": "00-5775c7dbec8cd99ab6da112e2f69fea3-c87faa735527c161-01",
     "pipeline.data_lake_root": "/pipeline-outputs/data-lake",
     "pipeline.github.actor": "matiasdahl",
     "pipeline.github.base_ref": "",
     "pipeline.github.event_name": "schedule",
     "pipeline.github.head_ref": "",
     "pipeline.github.job": "run-tests-pipeline-and-persist-pipeline-outputs",
     "pipeline.github.ref": "refs/heads/development",
     "pipeline.github.ref_name": "development",
     "pipeline.github.ref_type": "branch",
     "pipeline.github.repository": "matiasdahl/dev-mnist-digits-demo-pipeline",
     "pipeline.github.run_id": "3663055501",
     "pipeline.github.runner_name": "Hosted Agent",
     "pipeline.github.sha": "ace0d01011d5e914f1921450dd5a59c11367b38d",
     "pipeline.github.workflow": "Run automated tests, pipeline and deploy results to static reporting site",
     "pipeline.pipeline_run_id": "1298f9fe-a281-452a-89d5-8180c6df80de",
     "pipeline.run_environment": "ci",
     "run.retry_nr": "0",
     "task.max_nr_retries": "1",
     "task.notebook": "notebooks/train-model.py",
     "task.nr_train_images": 600,
     "task.num_cpus": 1,
     "task.timeout_s": "None"
    }
   },
   "start_time": "2022-12-10T06:40:32.408477",
   "version": "2.3.3"
  }
 },
 "nbformat": 4,
 "nbformat_minor": 5
}