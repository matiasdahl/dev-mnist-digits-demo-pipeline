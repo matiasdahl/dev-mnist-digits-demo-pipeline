{
 "cells": [
  {
   "cell_type": "markdown",
   "id": "56a0d70f",
   "metadata": {
    "papermill": {
     "duration": 0.004032,
     "end_time": "2022-12-10T06:40:45.894148",
     "exception": false,
     "start_time": "2022-12-10T06:40:45.890116",
     "status": "completed"
    },
    "tags": []
   },
   "source": [
    "# Train model\n",
    "\n",
    "The purpose of this notebook is:\n",
    "\n",
    "- Load all training data (images and labels).\n",
    "- Limit number of train images to `task.nr_train_images` (value provided as run parameter).\n",
    "- Train a support vector machine model using sklearn.\n",
    "- Persist the trained model using the ONNX format."
   ]
  },
  {
   "cell_type": "markdown",
   "id": "63bbad3e",
   "metadata": {
    "papermill": {
     "duration": 0.002516,
     "end_time": "2022-12-10T06:40:45.900069",
     "exception": false,
     "start_time": "2022-12-10T06:40:45.897553",
     "status": "completed"
    },
    "tags": []
   },
   "source": [
    "### Determine run parameters"
   ]
  },
  {
   "cell_type": "code",
   "execution_count": 1,
   "id": "f7f0f5f4",
   "metadata": {
    "execution": {
     "iopub.execute_input": "2022-12-10T06:40:45.906735Z",
     "iopub.status.busy": "2022-12-10T06:40:45.906459Z",
     "iopub.status.idle": "2022-12-10T06:40:45.913094Z",
     "shell.execute_reply": "2022-12-10T06:40:45.912506Z"
    },
    "lines_to_next_cell": 0,
    "papermill": {
     "duration": 0.012086,
     "end_time": "2022-12-10T06:40:45.914639",
     "exception": false,
     "start_time": "2022-12-10T06:40:45.902553",
     "status": "completed"
    },
    "tags": []
   },
   "outputs": [],
   "source": [
    "# ----------------- Parameters for interactive development --------------\n",
    "P = {\n",
    "    \"pipeline.data_lake_root\": \"/pipeline-outputs/data-lake\",\n",
    "    \"task.nr_train_images\": 600,\n",
    "}"
   ]
  },
  {
   "cell_type": "code",
   "execution_count": 2,
   "id": "ce0a0bf5",
   "metadata": {
    "execution": {
     "iopub.execute_input": "2022-12-10T06:40:45.921295Z",
     "iopub.status.busy": "2022-12-10T06:40:45.920787Z",
     "iopub.status.idle": "2022-12-10T06:40:45.924389Z",
     "shell.execute_reply": "2022-12-10T06:40:45.923697Z"
    },
    "lines_to_next_cell": 0,
    "papermill": {
     "duration": 0.008265,
     "end_time": "2022-12-10T06:40:45.925755",
     "exception": false,
     "start_time": "2022-12-10T06:40:45.917490",
     "status": "completed"
    },
    "tags": [
     "parameters"
    ]
   },
   "outputs": [],
   "source": [
    "# - During automated runs parameters will be injected in the below cell -"
   ]
  },
  {
   "cell_type": "code",
   "execution_count": 3,
   "id": "4b251397",
   "metadata": {
    "execution": {
     "iopub.execute_input": "2022-12-10T06:40:45.932220Z",
     "iopub.status.busy": "2022-12-10T06:40:45.931877Z",
     "iopub.status.idle": "2022-12-10T06:40:45.936540Z",
     "shell.execute_reply": "2022-12-10T06:40:45.935740Z"
    },
    "papermill": {
     "duration": 0.009239,
     "end_time": "2022-12-10T06:40:45.937830",
     "exception": false,
     "start_time": "2022-12-10T06:40:45.928591",
     "status": "completed"
    },
    "tags": [
     "injected-parameters"
    ]
   },
   "outputs": [],
   "source": [
    "# Parameters\n",
    "P = {\n",
    "    \"pipeline.data_lake_root\": \"/pipeline-outputs/data-lake\",\n",
    "    \"pipeline.run_environment\": \"ci\",\n",
    "    \"pipeline.pipeline_run_id\": \"1298f9fe-a281-452a-89d5-8180c6df80de\",\n",
    "    \"pipeline.github.repository\": \"matiasdahl/dev-mnist-digits-demo-pipeline\",\n",
    "    \"pipeline.github.workflow\": \"Run automated tests, pipeline and deploy results to static reporting site\",\n",
    "    \"pipeline.github.runner_name\": \"Hosted Agent\",\n",
    "    \"pipeline.github.run_id\": \"3663055501\",\n",
    "    \"pipeline.github.actor\": \"matiasdahl\",\n",
    "    \"pipeline.github.job\": \"run-tests-pipeline-and-persist-pipeline-outputs\",\n",
    "    \"pipeline.github.base_ref\": \"\",\n",
    "    \"pipeline.github.head_ref\": \"\",\n",
    "    \"pipeline.github.sha\": \"ace0d01011d5e914f1921450dd5a59c11367b38d\",\n",
    "    \"pipeline.github.ref\": \"refs/heads/development\",\n",
    "    \"pipeline.github.ref_type\": \"branch\",\n",
    "    \"pipeline.github.ref_name\": \"development\",\n",
    "    \"pipeline.github.event_name\": \"schedule\",\n",
    "    \"task.nr_train_images\": 1200,\n",
    "    \"task.notebook\": \"notebooks/train-model.py\",\n",
    "    \"task.max_nr_retries\": \"1\",\n",
    "    \"run.retry_nr\": \"0\",\n",
    "    \"task.timeout_s\": \"None\",\n",
    "    \"task.num_cpus\": 1,\n",
    "    \"_opentelemetry_traceparent\": \"00-5775c7dbec8cd99ab6da112e2f69fea3-8e158a5289559579-01\",\n",
    "}\n"
   ]
  },
  {
   "cell_type": "code",
   "execution_count": 4,
   "id": "38ac2672",
   "metadata": {
    "execution": {
     "iopub.execute_input": "2022-12-10T06:40:45.944605Z",
     "iopub.status.busy": "2022-12-10T06:40:45.943904Z",
     "iopub.status.idle": "2022-12-10T06:40:45.946884Z",
     "shell.execute_reply": "2022-12-10T06:40:45.946367Z"
    },
    "lines_to_next_cell": 0,
    "papermill": {
     "duration": 0.007629,
     "end_time": "2022-12-10T06:40:45.948207",
     "exception": false,
     "start_time": "2022-12-10T06:40:45.940578",
     "status": "completed"
    },
    "tags": []
   },
   "outputs": [],
   "source": [
    "# -----------------------------------------------------------------------"
   ]
  },
  {
   "cell_type": "markdown",
   "id": "490a643c",
   "metadata": {
    "papermill": {
     "duration": 0.002662,
     "end_time": "2022-12-10T06:40:45.953607",
     "exception": false,
     "start_time": "2022-12-10T06:40:45.950945",
     "status": "completed"
    },
    "tags": []
   },
   "source": [
    "---"
   ]
  },
  {
   "cell_type": "markdown",
   "id": "c03b0ebc",
   "metadata": {
    "lines_to_next_cell": 2,
    "papermill": {
     "duration": 0.002595,
     "end_time": "2022-12-10T06:40:45.960407",
     "exception": false,
     "start_time": "2022-12-10T06:40:45.957812",
     "status": "completed"
    },
    "tags": []
   },
   "source": [
    "### Notebook code"
   ]
  },
  {
   "cell_type": "code",
   "execution_count": 5,
   "id": "701e2c59",
   "metadata": {
    "execution": {
     "iopub.execute_input": "2022-12-10T06:40:45.970326Z",
     "iopub.status.busy": "2022-12-10T06:40:45.970052Z",
     "iopub.status.idle": "2022-12-10T06:40:46.427724Z",
     "shell.execute_reply": "2022-12-10T06:40:46.426945Z"
    },
    "papermill": {
     "duration": 0.466497,
     "end_time": "2022-12-10T06:40:46.429600",
     "exception": false,
     "start_time": "2022-12-10T06:40:45.963103",
     "status": "completed"
    },
    "tags": []
   },
   "outputs": [
    {
     "name": "stderr",
     "output_type": "stream",
     "text": [
      "2022-12-10 06:40:46,248\tINFO worker.py:842 -- Connecting to existing Ray cluster at address: 172.17.0.2:6379\n"
     ]
    }
   ],
   "source": [
    "from pynb_dag_runner.tasks.task_opentelemetry_logging import PydarLogger\n",
    "\n",
    "logger = PydarLogger(P)"
   ]
  },
  {
   "cell_type": "markdown",
   "id": "06353ed9",
   "metadata": {
    "papermill": {
     "duration": 0.003157,
     "end_time": "2022-12-10T06:40:46.436234",
     "exception": false,
     "start_time": "2022-12-10T06:40:46.433077",
     "status": "completed"
    },
    "tags": []
   },
   "source": [
    "## Load and limit train data"
   ]
  },
  {
   "cell_type": "code",
   "execution_count": 6,
   "id": "69d74b64",
   "metadata": {
    "execution": {
     "iopub.execute_input": "2022-12-10T06:40:46.443041Z",
     "iopub.status.busy": "2022-12-10T06:40:46.442747Z",
     "iopub.status.idle": "2022-12-10T06:40:46.812396Z",
     "shell.execute_reply": "2022-12-10T06:40:46.811797Z"
    },
    "papermill": {
     "duration": 0.375076,
     "end_time": "2022-12-10T06:40:46.814227",
     "exception": false,
     "start_time": "2022-12-10T06:40:46.439151",
     "status": "completed"
    },
    "tags": []
   },
   "outputs": [],
   "source": [
    "def load_and_limit_train_data(P):\n",
    "    from common.io import datalake_root, read_numpy\n",
    "    from sklearn.model_selection import train_test_split\n",
    "\n",
    "    X_train_all = read_numpy(datalake_root(P) / \"train-data\" / \"digits.numpy\")\n",
    "    y_train_all = read_numpy(datalake_root(P) / \"train-data\" / \"labels.numpy\")\n",
    "\n",
    "    assert isinstance(P[\"task.nr_train_images\"], int)\n",
    "\n",
    "    # Note: train_test_split will fail if split is 0 or 100%.\n",
    "    assert 0 < P[\"task.nr_train_images\"] < len(y_train_all)\n",
    "\n",
    "    X_train, _, y_train, _ = train_test_split(\n",
    "        X_train_all,\n",
    "        y_train_all,\n",
    "        train_size=P[\"task.nr_train_images\"],\n",
    "        test_size=None,\n",
    "        stratify=y_train_all,\n",
    "        shuffle=True,\n",
    "        random_state=123,\n",
    "    )\n",
    "\n",
    "    assert X_train.shape == (len(y_train), 8 * 8)\n",
    "    return X_train, y_train\n",
    "\n",
    "\n",
    "X_train, y_train = load_and_limit_train_data(P)"
   ]
  },
  {
   "cell_type": "markdown",
   "id": "297eed4b",
   "metadata": {
    "papermill": {
     "duration": 0.003026,
     "end_time": "2022-12-10T06:40:46.821044",
     "exception": false,
     "start_time": "2022-12-10T06:40:46.818018",
     "status": "completed"
    },
    "tags": []
   },
   "source": [
    "## Train support vector classifier model\n",
    "\n",
    "Below we assume that the hyperparameter $C$ is known.\n",
    "\n",
    "However, this should ideally be found by a hyperparameter search. That could be\n",
    "done in parallel on the Ray cluster, but this needs some more work. Ie., to use\n",
    "multiple cores in the notebook, those cores should be reserved when starting the\n",
    "notebook task (TODO).\n",
    "\n",
    "- https://docs.ray.io/en/latest/tune/key-concepts.html\n",
    "\n",
    "Note: cv-scores would need to be computed here, since they depend on the train data.\n",
    "After this notebook only the onnx-model is available."
   ]
  },
  {
   "cell_type": "code",
   "execution_count": 7,
   "id": "a3f2940f",
   "metadata": {
    "execution": {
     "iopub.execute_input": "2022-12-10T06:40:46.828056Z",
     "iopub.status.busy": "2022-12-10T06:40:46.827801Z",
     "iopub.status.idle": "2022-12-10T06:40:46.847262Z",
     "shell.execute_reply": "2022-12-10T06:40:46.846757Z"
    },
    "papermill": {
     "duration": 0.024823,
     "end_time": "2022-12-10T06:40:46.848870",
     "exception": false,
     "start_time": "2022-12-10T06:40:46.824047",
     "status": "completed"
    },
    "tags": []
   },
   "outputs": [],
   "source": [
    "from sklearn.svm import SVC"
   ]
  },
  {
   "cell_type": "code",
   "execution_count": 8,
   "id": "66ec81e0",
   "metadata": {
    "execution": {
     "iopub.execute_input": "2022-12-10T06:40:46.856742Z",
     "iopub.status.busy": "2022-12-10T06:40:46.856334Z",
     "iopub.status.idle": "2022-12-10T06:40:46.981150Z",
     "shell.execute_reply": "2022-12-10T06:40:46.980610Z"
    },
    "papermill": {
     "duration": 0.130656,
     "end_time": "2022-12-10T06:40:46.982804",
     "exception": false,
     "start_time": "2022-12-10T06:40:46.852148",
     "status": "completed"
    },
    "tags": []
   },
   "outputs": [
    {
     "data": {
      "text/html": [
       "<style>#sk-container-id-1 {color: black;background-color: white;}#sk-container-id-1 pre{padding: 0;}#sk-container-id-1 div.sk-toggleable {background-color: white;}#sk-container-id-1 label.sk-toggleable__label {cursor: pointer;display: block;width: 100%;margin-bottom: 0;padding: 0.3em;box-sizing: border-box;text-align: center;}#sk-container-id-1 label.sk-toggleable__label-arrow:before {content: \"▸\";float: left;margin-right: 0.25em;color: #696969;}#sk-container-id-1 label.sk-toggleable__label-arrow:hover:before {color: black;}#sk-container-id-1 div.sk-estimator:hover label.sk-toggleable__label-arrow:before {color: black;}#sk-container-id-1 div.sk-toggleable__content {max-height: 0;max-width: 0;overflow: hidden;text-align: left;background-color: #f0f8ff;}#sk-container-id-1 div.sk-toggleable__content pre {margin: 0.2em;color: black;border-radius: 0.25em;background-color: #f0f8ff;}#sk-container-id-1 input.sk-toggleable__control:checked~div.sk-toggleable__content {max-height: 200px;max-width: 100%;overflow: auto;}#sk-container-id-1 input.sk-toggleable__control:checked~label.sk-toggleable__label-arrow:before {content: \"▾\";}#sk-container-id-1 div.sk-estimator input.sk-toggleable__control:checked~label.sk-toggleable__label {background-color: #d4ebff;}#sk-container-id-1 div.sk-label input.sk-toggleable__control:checked~label.sk-toggleable__label {background-color: #d4ebff;}#sk-container-id-1 input.sk-hidden--visually {border: 0;clip: rect(1px 1px 1px 1px);clip: rect(1px, 1px, 1px, 1px);height: 1px;margin: -1px;overflow: hidden;padding: 0;position: absolute;width: 1px;}#sk-container-id-1 div.sk-estimator {font-family: monospace;background-color: #f0f8ff;border: 1px dotted black;border-radius: 0.25em;box-sizing: border-box;margin-bottom: 0.5em;}#sk-container-id-1 div.sk-estimator:hover {background-color: #d4ebff;}#sk-container-id-1 div.sk-parallel-item::after {content: \"\";width: 100%;border-bottom: 1px solid gray;flex-grow: 1;}#sk-container-id-1 div.sk-label:hover label.sk-toggleable__label {background-color: #d4ebff;}#sk-container-id-1 div.sk-serial::before {content: \"\";position: absolute;border-left: 1px solid gray;box-sizing: border-box;top: 0;bottom: 0;left: 50%;z-index: 0;}#sk-container-id-1 div.sk-serial {display: flex;flex-direction: column;align-items: center;background-color: white;padding-right: 0.2em;padding-left: 0.2em;position: relative;}#sk-container-id-1 div.sk-item {position: relative;z-index: 1;}#sk-container-id-1 div.sk-parallel {display: flex;align-items: stretch;justify-content: center;background-color: white;position: relative;}#sk-container-id-1 div.sk-item::before, #sk-container-id-1 div.sk-parallel-item::before {content: \"\";position: absolute;border-left: 1px solid gray;box-sizing: border-box;top: 0;bottom: 0;left: 50%;z-index: -1;}#sk-container-id-1 div.sk-parallel-item {display: flex;flex-direction: column;z-index: 1;position: relative;background-color: white;}#sk-container-id-1 div.sk-parallel-item:first-child::after {align-self: flex-end;width: 50%;}#sk-container-id-1 div.sk-parallel-item:last-child::after {align-self: flex-start;width: 50%;}#sk-container-id-1 div.sk-parallel-item:only-child::after {width: 0;}#sk-container-id-1 div.sk-dashed-wrapped {border: 1px dashed gray;margin: 0 0.4em 0.5em 0.4em;box-sizing: border-box;padding-bottom: 0.4em;background-color: white;}#sk-container-id-1 div.sk-label label {font-family: monospace;font-weight: bold;display: inline-block;line-height: 1.2em;}#sk-container-id-1 div.sk-label-container {text-align: center;}#sk-container-id-1 div.sk-container {/* jupyter's `normalize.less` sets `[hidden] { display: none; }` but bootstrap.min.css set `[hidden] { display: none !important; }` so we also need the `!important` here to be able to override the default hidden behavior on the sphinx rendered scikit-learn.org. See: https://github.com/scikit-learn/scikit-learn/issues/21755 */display: inline-block !important;position: relative;}#sk-container-id-1 div.sk-text-repr-fallback {display: none;}</style><div id=\"sk-container-id-1\" class=\"sk-top-container\"><div class=\"sk-text-repr-fallback\"><pre>SVC(C=0.001, kernel=&#x27;linear&#x27;, probability=True)</pre><b>In a Jupyter environment, please rerun this cell to show the HTML representation or trust the notebook. <br />On GitHub, the HTML representation is unable to render, please try loading this page with nbviewer.org.</b></div><div class=\"sk-container\" hidden><div class=\"sk-item\"><div class=\"sk-estimator sk-toggleable\"><input class=\"sk-toggleable__control sk-hidden--visually\" id=\"sk-estimator-id-1\" type=\"checkbox\" checked><label for=\"sk-estimator-id-1\" class=\"sk-toggleable__label sk-toggleable__label-arrow\">SVC</label><div class=\"sk-toggleable__content\"><pre>SVC(C=0.001, kernel=&#x27;linear&#x27;, probability=True)</pre></div></div></div></div></div>"
      ],
      "text/plain": [
       "SVC(C=0.001, kernel='linear', probability=True)"
      ]
     },
     "execution_count": 8,
     "metadata": {},
     "output_type": "execute_result"
    }
   ],
   "source": [
    "model = SVC(C=0.001, kernel=\"linear\", probability=True)\n",
    "\n",
    "model.fit(X_train, y_train)"
   ]
  },
  {
   "cell_type": "markdown",
   "id": "b63548c2",
   "metadata": {
    "papermill": {
     "duration": 0.003221,
     "end_time": "2022-12-10T06:40:46.990093",
     "exception": false,
     "start_time": "2022-12-10T06:40:46.986872",
     "status": "completed"
    },
    "tags": []
   },
   "source": [
    "### Q: Can the labels returned by `predict(..)` be computed from probabilities returned by the `predict_prob`-method?"
   ]
  },
  {
   "cell_type": "code",
   "execution_count": 9,
   "id": "852fe5e6",
   "metadata": {
    "execution": {
     "iopub.execute_input": "2022-12-10T06:40:46.998252Z",
     "iopub.status.busy": "2022-12-10T06:40:46.998005Z",
     "iopub.status.idle": "2022-12-10T06:40:47.063003Z",
     "shell.execute_reply": "2022-12-10T06:40:47.062489Z"
    },
    "papermill": {
     "duration": 0.070979,
     "end_time": "2022-12-10T06:40:47.064705",
     "exception": false,
     "start_time": "2022-12-10T06:40:46.993726",
     "status": "completed"
    },
    "tags": []
   },
   "outputs": [
    {
     "name": "stdout",
     "output_type": "stream",
     "text": [
      " - Logging nr_max_prob_neq_label (int) : 3\n"
     ]
    }
   ],
   "source": [
    "import numpy as np\n",
    "\n",
    "y_train_labels = model.predict(X_train)\n",
    "y_train_probabilities = model.predict_proba(X_train)\n",
    "assert y_train_probabilities.shape == (len(y_train), 10)\n",
    "\n",
    "y_train_max_prob_labels = np.argmax(y_train_probabilities, axis=1)\n",
    "assert y_train_labels.shape == y_train_max_prob_labels.shape == y_train.shape\n",
    "\n",
    "# If the predicted labels would coincide with the labels that have\n",
    "# maximum probability, the below number would be zero\n",
    "logger.log_int(\n",
    "    \"nr_max_prob_neq_label\", int(sum(y_train_max_prob_labels != y_train_labels))\n",
    ")"
   ]
  },
  {
   "cell_type": "markdown",
   "id": "4bb32412",
   "metadata": {
    "papermill": {
     "duration": 0.00388,
     "end_time": "2022-12-10T06:40:47.071853",
     "exception": false,
     "start_time": "2022-12-10T06:40:47.067973",
     "status": "completed"
    },
    "tags": []
   },
   "source": [
    "The explanation is (likely) explained in the SVC source, see\n",
    "[here](https://github.com/scikit-learn/scikit-learn/blob/main/sklearn/svm/_base.py).\n",
    "Namely, the outputs from `predict(..)` and `predict_proba(..)` may not in some\n",
    "cases be compatible since the latter is computed using cross-validation while\n",
    "the former is not. Thus, the above number need not be zero."
   ]
  },
  {
   "cell_type": "markdown",
   "id": "512a1a2c",
   "metadata": {
    "papermill": {
     "duration": 0.003854,
     "end_time": "2022-12-10T06:40:47.078936",
     "exception": false,
     "start_time": "2022-12-10T06:40:47.075082",
     "status": "completed"
    },
    "tags": []
   },
   "source": [
    "## Persist model"
   ]
  },
  {
   "cell_type": "code",
   "execution_count": 10,
   "id": "3641947e",
   "metadata": {
    "execution": {
     "iopub.execute_input": "2022-12-10T06:40:47.086718Z",
     "iopub.status.busy": "2022-12-10T06:40:47.086470Z",
     "iopub.status.idle": "2022-12-10T06:40:47.876206Z",
     "shell.execute_reply": "2022-12-10T06:40:47.875345Z"
    },
    "papermill": {
     "duration": 0.795668,
     "end_time": "2022-12-10T06:40:47.877965",
     "exception": false,
     "start_time": "2022-12-10T06:40:47.082297",
     "status": "completed"
    },
    "tags": []
   },
   "outputs": [],
   "source": [
    "from skl2onnx import convert_sklearn\n",
    "from skl2onnx.common.data_types import FloatTensorType\n",
    "\n",
    "#\n",
    "from common.io import datalake_root, write_onnx"
   ]
  },
  {
   "cell_type": "code",
   "execution_count": 11,
   "id": "49bb3f23",
   "metadata": {
    "execution": {
     "iopub.execute_input": "2022-12-10T06:40:47.887463Z",
     "iopub.status.busy": "2022-12-10T06:40:47.886886Z",
     "iopub.status.idle": "2022-12-10T06:40:47.941086Z",
     "shell.execute_reply": "2022-12-10T06:40:47.940464Z"
    },
    "papermill": {
     "duration": 0.060724,
     "end_time": "2022-12-10T06:40:47.942766",
     "exception": false,
     "start_time": "2022-12-10T06:40:47.882042",
     "status": "completed"
    },
    "tags": []
   },
   "outputs": [],
   "source": [
    "# convert sklearn model into onnx and persist to data lake\n",
    "\n",
    "model_onnx = convert_sklearn(\n",
    "    model, initial_types=[(\"float_input_8x8_image\", FloatTensorType([None, 8 * 8]))]\n",
    ")\n",
    "write_onnx(\n",
    "    datalake_root(P)\n",
    "    / \"models\"\n",
    "    / f\"nr_train_images={P['task.nr_train_images']}\"\n",
    "    / \"model.onnx\",\n",
    "    model_onnx,\n",
    ")"
   ]
  },
  {
   "cell_type": "code",
   "execution_count": null,
   "id": "2f41d3ac",
   "metadata": {
    "papermill": {
     "duration": 0.003935,
     "end_time": "2022-12-10T06:40:47.950560",
     "exception": false,
     "start_time": "2022-12-10T06:40:47.946625",
     "status": "completed"
    },
    "tags": []
   },
   "outputs": [],
   "source": []
  }
 ],
 "metadata": {
  "jupytext": {
   "cell_metadata_filter": "tags,-all",
   "main_language": "python",
   "notebook_metadata_filter": "-all"
  },
  "language_info": {
   "codemirror_mode": {
    "name": "ipython",
    "version": 3
   },
   "file_extension": ".py",
   "mimetype": "text/x-python",
   "name": "python",
   "nbconvert_exporter": "python",
   "pygments_lexer": "ipython3",
   "version": "3.8.10"
  },
  "papermill": {
   "default_parameters": {},
   "duration": 4.203848,
   "end_time": "2022-12-10T06:40:48.872176",
   "environment_variables": {},
   "exception": null,
   "input_path": "/home/host_user/workspace/mnist-demo-pipeline/mnist-demo-pipeline/notebooks/temp-notebook-eklu5np7.ipynb",
   "output_path": "notebooks/train-model.ipynb",
   "parameters": {
    "P": {
     "_opentelemetry_traceparent": "00-5775c7dbec8cd99ab6da112e2f69fea3-8e158a5289559579-01",
     "pipeline.data_lake_root": "/pipeline-outputs/data-lake",
     "pipeline.github.actor": "matiasdahl",
     "pipeline.github.base_ref": "",
     "pipeline.github.event_name": "schedule",
     "pipeline.github.head_ref": "",
     "pipeline.github.job": "run-tests-pipeline-and-persist-pipeline-outputs",
     "pipeline.github.ref": "refs/heads/development",
     "pipeline.github.ref_name": "development",
     "pipeline.github.ref_type": "branch",
     "pipeline.github.repository": "matiasdahl/dev-mnist-digits-demo-pipeline",
     "pipeline.github.run_id": "3663055501",
     "pipeline.github.runner_name": "Hosted Agent",
     "pipeline.github.sha": "ace0d01011d5e914f1921450dd5a59c11367b38d",
     "pipeline.github.workflow": "Run automated tests, pipeline and deploy results to static reporting site",
     "pipeline.pipeline_run_id": "1298f9fe-a281-452a-89d5-8180c6df80de",
     "pipeline.run_environment": "ci",
     "run.retry_nr": "0",
     "task.max_nr_retries": "1",
     "task.notebook": "notebooks/train-model.py",
     "task.nr_train_images": 1200,
     "task.num_cpus": 1,
     "task.timeout_s": "None"
    }
   },
   "start_time": "2022-12-10T06:40:44.668328",
   "version": "2.3.3"
  }
 },
 "nbformat": 4,
 "nbformat_minor": 5
}