{
 "cells": [
  {
   "cell_type": "markdown",
   "id": "6515244e",
   "metadata": {
    "papermill": {
     "duration": 0.003501,
     "end_time": "2022-12-10T06:41:11.684798",
     "exception": false,
     "start_time": "2022-12-10T06:41:11.681297",
     "status": "completed"
    },
    "tags": []
   },
   "source": [
    "# Summarize model performances\n",
    "\n",
    "This notebooks plots the performances (using averaged ROC AUC scores) for models\n",
    "trained with different training sets."
   ]
  },
  {
   "cell_type": "markdown",
   "id": "f1e68ee3",
   "metadata": {
    "papermill": {
     "duration": 0.002229,
     "end_time": "2022-12-10T06:41:11.690285",
     "exception": false,
     "start_time": "2022-12-10T06:41:11.688056",
     "status": "completed"
    },
    "tags": []
   },
   "source": [
    "### Determine run parameters"
   ]
  },
  {
   "cell_type": "code",
   "execution_count": 1,
   "id": "258432dc",
   "metadata": {
    "execution": {
     "iopub.execute_input": "2022-12-10T06:41:11.696796Z",
     "iopub.status.busy": "2022-12-10T06:41:11.696114Z",
     "iopub.status.idle": "2022-12-10T06:41:11.702876Z",
     "shell.execute_reply": "2022-12-10T06:41:11.702340Z"
    },
    "lines_to_next_cell": 0,
    "papermill": {
     "duration": 0.011611,
     "end_time": "2022-12-10T06:41:11.704259",
     "exception": false,
     "start_time": "2022-12-10T06:41:11.692648",
     "status": "completed"
    },
    "tags": []
   },
   "outputs": [],
   "source": [
    "# ----------------- Parameters for interactive development --------------\n",
    "P = {\n",
    "    \"pipeline.run_environment\": \"dev\",\n",
    "}"
   ]
  },
  {
   "cell_type": "code",
   "execution_count": 2,
   "id": "a72ce7fc",
   "metadata": {
    "execution": {
     "iopub.execute_input": "2022-12-10T06:41:11.710578Z",
     "iopub.status.busy": "2022-12-10T06:41:11.710017Z",
     "iopub.status.idle": "2022-12-10T06:41:11.712920Z",
     "shell.execute_reply": "2022-12-10T06:41:11.712403Z"
    },
    "lines_to_next_cell": 0,
    "papermill": {
     "duration": 0.007394,
     "end_time": "2022-12-10T06:41:11.714201",
     "exception": false,
     "start_time": "2022-12-10T06:41:11.706807",
     "status": "completed"
    },
    "tags": [
     "parameters"
    ]
   },
   "outputs": [],
   "source": [
    "# - During automated runs parameters will be injected in the below cell -"
   ]
  },
  {
   "cell_type": "code",
   "execution_count": 3,
   "id": "d13e7676",
   "metadata": {
    "execution": {
     "iopub.execute_input": "2022-12-10T06:41:11.722909Z",
     "iopub.status.busy": "2022-12-10T06:41:11.721661Z",
     "iopub.status.idle": "2022-12-10T06:41:11.726754Z",
     "shell.execute_reply": "2022-12-10T06:41:11.726176Z"
    },
    "papermill": {
     "duration": 0.011377,
     "end_time": "2022-12-10T06:41:11.728074",
     "exception": false,
     "start_time": "2022-12-10T06:41:11.716697",
     "status": "completed"
    },
    "tags": [
     "injected-parameters"
    ]
   },
   "outputs": [],
   "source": [
    "# Parameters\n",
    "P = {\n",
    "    \"pipeline.data_lake_root\": \"/pipeline-outputs/data-lake\",\n",
    "    \"pipeline.run_environment\": \"ci\",\n",
    "    \"pipeline.pipeline_run_id\": \"1298f9fe-a281-452a-89d5-8180c6df80de\",\n",
    "    \"pipeline.github.repository\": \"matiasdahl/dev-mnist-digits-demo-pipeline\",\n",
    "    \"pipeline.github.workflow\": \"Run automated tests, pipeline and deploy results to static reporting site\",\n",
    "    \"pipeline.github.runner_name\": \"Hosted Agent\",\n",
    "    \"pipeline.github.run_id\": \"3663055501\",\n",
    "    \"pipeline.github.actor\": \"matiasdahl\",\n",
    "    \"pipeline.github.job\": \"run-tests-pipeline-and-persist-pipeline-outputs\",\n",
    "    \"pipeline.github.base_ref\": \"\",\n",
    "    \"pipeline.github.head_ref\": \"\",\n",
    "    \"pipeline.github.sha\": \"ace0d01011d5e914f1921450dd5a59c11367b38d\",\n",
    "    \"pipeline.github.ref\": \"refs/heads/development\",\n",
    "    \"pipeline.github.ref_type\": \"branch\",\n",
    "    \"pipeline.github.ref_name\": \"development\",\n",
    "    \"pipeline.github.event_name\": \"schedule\",\n",
    "    \"task.notebook\": \"notebooks/summary.py\",\n",
    "    \"task.max_nr_retries\": \"1\",\n",
    "    \"run.retry_nr\": \"0\",\n",
    "    \"task.timeout_s\": \"None\",\n",
    "    \"task.num_cpus\": 1,\n",
    "    \"_opentelemetry_traceparent\": \"00-5775c7dbec8cd99ab6da112e2f69fea3-d4cc28cc79cb4eed-01\",\n",
    "}\n"
   ]
  },
  {
   "cell_type": "code",
   "execution_count": 4,
   "id": "a77d4536",
   "metadata": {
    "execution": {
     "iopub.execute_input": "2022-12-10T06:41:11.734150Z",
     "iopub.status.busy": "2022-12-10T06:41:11.733788Z",
     "iopub.status.idle": "2022-12-10T06:41:11.736553Z",
     "shell.execute_reply": "2022-12-10T06:41:11.735906Z"
    },
    "lines_to_next_cell": 0,
    "papermill": {
     "duration": 0.007249,
     "end_time": "2022-12-10T06:41:11.737887",
     "exception": false,
     "start_time": "2022-12-10T06:41:11.730638",
     "status": "completed"
    },
    "tags": []
   },
   "outputs": [],
   "source": [
    "# -----------------------------------------------------------------------"
   ]
  },
  {
   "cell_type": "markdown",
   "id": "272c8dc4",
   "metadata": {
    "papermill": {
     "duration": 0.002471,
     "end_time": "2022-12-10T06:41:11.742762",
     "exception": false,
     "start_time": "2022-12-10T06:41:11.740291",
     "status": "completed"
    },
    "tags": []
   },
   "source": [
    "---"
   ]
  },
  {
   "cell_type": "markdown",
   "id": "d0ec91d6",
   "metadata": {
    "lines_to_next_cell": 2,
    "papermill": {
     "duration": 0.002333,
     "end_time": "2022-12-10T06:41:11.747504",
     "exception": false,
     "start_time": "2022-12-10T06:41:11.745171",
     "status": "completed"
    },
    "tags": []
   },
   "source": [
    "### Notebook code"
   ]
  },
  {
   "cell_type": "code",
   "execution_count": 5,
   "id": "40fe8d2f",
   "metadata": {
    "execution": {
     "iopub.execute_input": "2022-12-10T06:41:11.755103Z",
     "iopub.status.busy": "2022-12-10T06:41:11.754493Z",
     "iopub.status.idle": "2022-12-10T06:41:12.806369Z",
     "shell.execute_reply": "2022-12-10T06:41:12.805753Z"
    },
    "papermill": {
     "duration": 1.057108,
     "end_time": "2022-12-10T06:41:12.808464",
     "exception": false,
     "start_time": "2022-12-10T06:41:11.751356",
     "status": "completed"
    },
    "tags": []
   },
   "outputs": [],
   "source": [
    "#\n",
    "import pandas as pd\n",
    "import matplotlib.pyplot as plt\n",
    "\n",
    "#\n",
    "from pynb_dag_runner.tasks.task_opentelemetry_logging import PydarLogger"
   ]
  },
  {
   "cell_type": "code",
   "execution_count": 6,
   "id": "c105ccd3",
   "metadata": {
    "execution": {
     "iopub.execute_input": "2022-12-10T06:41:12.815245Z",
     "iopub.status.busy": "2022-12-10T06:41:12.814516Z",
     "iopub.status.idle": "2022-12-10T06:41:12.964555Z",
     "shell.execute_reply": "2022-12-10T06:41:12.963854Z"
    },
    "papermill": {
     "duration": 0.155246,
     "end_time": "2022-12-10T06:41:12.966460",
     "exception": false,
     "start_time": "2022-12-10T06:41:12.811214",
     "status": "completed"
    },
    "tags": []
   },
   "outputs": [
    {
     "name": "stderr",
     "output_type": "stream",
     "text": [
      "2022-12-10 06:41:12,818\tINFO worker.py:842 -- Connecting to existing Ray cluster at address: 172.17.0.2:6379\n"
     ]
    }
   ],
   "source": [
    "logger = PydarLogger(P=P)"
   ]
  },
  {
   "cell_type": "code",
   "execution_count": 7,
   "id": "aecc385b",
   "metadata": {
    "execution": {
     "iopub.execute_input": "2022-12-10T06:41:12.974288Z",
     "iopub.status.busy": "2022-12-10T06:41:12.973734Z",
     "iopub.status.idle": "2022-12-10T06:41:12.977083Z",
     "shell.execute_reply": "2022-12-10T06:41:12.976507Z"
    },
    "papermill": {
     "duration": 0.008875,
     "end_time": "2022-12-10T06:41:12.978737",
     "exception": false,
     "start_time": "2022-12-10T06:41:12.969862",
     "status": "completed"
    },
    "tags": []
   },
   "outputs": [],
   "source": [
    "from pynb_dag_runner.tasks.task_opentelemetry_logging import (\n",
    "    PydarLogger,\n",
    "    get_logged_values,\n",
    ")\n",
    "from pynb_dag_runner.opentelemetry_helpers import _get_all_spans, Spans"
   ]
  },
  {
   "cell_type": "code",
   "execution_count": 8,
   "id": "d87997be",
   "metadata": {
    "execution": {
     "iopub.execute_input": "2022-12-10T06:41:12.985461Z",
     "iopub.status.busy": "2022-12-10T06:41:12.985258Z",
     "iopub.status.idle": "2022-12-10T06:41:12.991803Z",
     "shell.execute_reply": "2022-12-10T06:41:12.991141Z"
    },
    "papermill": {
     "duration": 0.011873,
     "end_time": "2022-12-10T06:41:12.993660",
     "exception": false,
     "start_time": "2022-12-10T06:41:12.981787",
     "status": "completed"
    },
    "tags": []
   },
   "outputs": [],
   "source": [
    "def get_model_benchmarks():\n",
    "    \"\"\"\n",
    "    Query the OpenTelemetry logs for *this pipeline run* and return\n",
    "    all key-values logged from all runs of the benchmark-model.py task\n",
    "\n",
    "    For testing a json file with OpenTelemetry spans (as an array)\n",
    "    can be used as follows:\n",
    "\n",
    "    - Create output directory `mkdir /tmp/spans`\n",
    "    - Run unit tests. This will create pipeline-outputs/opentelemetry-spans.json\n",
    "    - Convert this json-array into jsonl format as follows\n",
    "\n",
    "    jq -c '.[]' /pipeline-outputs/opentelemetry-spans.json > /tmp/spans/data.txt\n",
    "\n",
    "    \"\"\"\n",
    "    spans: Spans = Spans(_get_all_spans())\n",
    "    print(f\"Found {len(spans)} spans\")\n",
    "\n",
    "    benchmark_spans = (\n",
    "        spans\n",
    "        # -\n",
    "        .filter([\"name\"], \"execute-task\")\n",
    "        # -\n",
    "        .filter([\"attributes\", \"task.notebook\"], \"notebooks/benchmark-model.py\")\n",
    "    )\n",
    "\n",
    "    result = []\n",
    "    for s in benchmark_spans:\n",
    "        result.append(\n",
    "            {\n",
    "                \"span_id\": s[\"context\"][\"span_id\"],\n",
    "                \"nr_train_images\": s[\"attributes\"][\"task.nr_train_images\"],\n",
    "                \"data\": get_logged_values(spans.bound_under(s)),\n",
    "            }\n",
    "        )\n",
    "\n",
    "    return result\n",
    "\n",
    "\n",
    "def adjust_pandas(df):\n",
    "    def column_renamer(col_name: str) -> str:\n",
    "        return (\n",
    "            col_name\n",
    "            # -- 'data.roc_auc_per_digit.4' -> 'roc_auc.4'\n",
    "            .replace(\"data.roc_auc_per_digit\", \"roc_auc\")\n",
    "            # -- 'data.roc_auc_class_mean' -> 'roc_auc_mean'\n",
    "            .replace(\"data.roc_auc_class_mean\", \"roc_auc_mean\")\n",
    "        )\n",
    "\n",
    "    return df.rename(column_renamer, axis=\"columns\").sort_values(by=\"nr_train_images\")"
   ]
  },
  {
   "cell_type": "code",
   "execution_count": 9,
   "id": "479cd9dc",
   "metadata": {
    "execution": {
     "iopub.execute_input": "2022-12-10T06:41:13.000421Z",
     "iopub.status.busy": "2022-12-10T06:41:13.000205Z",
     "iopub.status.idle": "2022-12-10T06:41:13.038107Z",
     "shell.execute_reply": "2022-12-10T06:41:13.037447Z"
    },
    "papermill": {
     "duration": 0.043902,
     "end_time": "2022-12-10T06:41:13.040326",
     "exception": false,
     "start_time": "2022-12-10T06:41:12.996424",
     "status": "completed"
    },
    "tags": []
   },
   "outputs": [
    {
     "name": "stdout",
     "output_type": "stream",
     "text": [
      "Found 420 spans\n"
     ]
    }
   ],
   "source": [
    "df_data = adjust_pandas(pd.json_normalize(get_model_benchmarks()))"
   ]
  },
  {
   "cell_type": "code",
   "execution_count": 10,
   "id": "0d047b4e",
   "metadata": {
    "execution": {
     "iopub.execute_input": "2022-12-10T06:41:13.047821Z",
     "iopub.status.busy": "2022-12-10T06:41:13.047296Z",
     "iopub.status.idle": "2022-12-10T06:41:13.072358Z",
     "shell.execute_reply": "2022-12-10T06:41:13.071644Z"
    },
    "papermill": {
     "duration": 0.030898,
     "end_time": "2022-12-10T06:41:13.074486",
     "exception": false,
     "start_time": "2022-12-10T06:41:13.043588",
     "status": "completed"
    },
    "tags": []
   },
   "outputs": [
    {
     "data": {
      "text/html": [
       "<div>\n",
       "<style scoped>\n",
       "    .dataframe tbody tr th:only-of-type {\n",
       "        vertical-align: middle;\n",
       "    }\n",
       "\n",
       "    .dataframe tbody tr th {\n",
       "        vertical-align: top;\n",
       "    }\n",
       "\n",
       "    .dataframe thead th {\n",
       "        text-align: right;\n",
       "    }\n",
       "</style>\n",
       "<table border=\"1\" class=\"dataframe\">\n",
       "  <thead>\n",
       "    <tr style=\"text-align: right;\">\n",
       "      <th></th>\n",
       "      <th>span_id</th>\n",
       "      <th>nr_train_images</th>\n",
       "      <th>roc_auc_mean</th>\n",
       "      <th>roc_auc.0</th>\n",
       "      <th>roc_auc.1</th>\n",
       "      <th>roc_auc.2</th>\n",
       "      <th>roc_auc.3</th>\n",
       "      <th>roc_auc.4</th>\n",
       "      <th>roc_auc.5</th>\n",
       "      <th>roc_auc.6</th>\n",
       "      <th>roc_auc.7</th>\n",
       "      <th>roc_auc.8</th>\n",
       "      <th>roc_auc.9</th>\n",
       "    </tr>\n",
       "  </thead>\n",
       "  <tbody>\n",
       "    <tr>\n",
       "      <th>1</th>\n",
       "      <td>0x60240ca3a0b01f69</td>\n",
       "      <td>600</td>\n",
       "      <td>0.9990</td>\n",
       "      <td>1.0</td>\n",
       "      <td>0.9992</td>\n",
       "      <td>1.0</td>\n",
       "      <td>0.9999</td>\n",
       "      <td>0.9992</td>\n",
       "      <td>0.9990</td>\n",
       "      <td>1.0000</td>\n",
       "      <td>0.9998</td>\n",
       "      <td>0.9942</td>\n",
       "      <td>0.9988</td>\n",
       "    </tr>\n",
       "    <tr>\n",
       "      <th>3</th>\n",
       "      <td>0x98b9112a9db605dd</td>\n",
       "      <td>800</td>\n",
       "      <td>0.9990</td>\n",
       "      <td>1.0</td>\n",
       "      <td>0.9988</td>\n",
       "      <td>1.0</td>\n",
       "      <td>0.9998</td>\n",
       "      <td>0.9995</td>\n",
       "      <td>0.9993</td>\n",
       "      <td>0.9999</td>\n",
       "      <td>0.9999</td>\n",
       "      <td>0.9930</td>\n",
       "      <td>0.9994</td>\n",
       "    </tr>\n",
       "    <tr>\n",
       "      <th>2</th>\n",
       "      <td>0xfcdcd8bd5cee7ae6</td>\n",
       "      <td>1000</td>\n",
       "      <td>0.9992</td>\n",
       "      <td>1.0</td>\n",
       "      <td>0.9990</td>\n",
       "      <td>1.0</td>\n",
       "      <td>0.9999</td>\n",
       "      <td>0.9996</td>\n",
       "      <td>0.9994</td>\n",
       "      <td>0.9999</td>\n",
       "      <td>0.9998</td>\n",
       "      <td>0.9952</td>\n",
       "      <td>0.9996</td>\n",
       "    </tr>\n",
       "    <tr>\n",
       "      <th>0</th>\n",
       "      <td>0x12ebb980dfdf077f</td>\n",
       "      <td>1200</td>\n",
       "      <td>0.9994</td>\n",
       "      <td>1.0</td>\n",
       "      <td>0.9991</td>\n",
       "      <td>1.0</td>\n",
       "      <td>0.9999</td>\n",
       "      <td>0.9997</td>\n",
       "      <td>0.9997</td>\n",
       "      <td>0.9999</td>\n",
       "      <td>0.9998</td>\n",
       "      <td>0.9957</td>\n",
       "      <td>0.9998</td>\n",
       "    </tr>\n",
       "  </tbody>\n",
       "</table>\n",
       "</div>"
      ],
      "text/plain": [
       "              span_id  nr_train_images  roc_auc_mean  roc_auc.0  roc_auc.1  \\\n",
       "1  0x60240ca3a0b01f69              600        0.9990        1.0     0.9992   \n",
       "3  0x98b9112a9db605dd              800        0.9990        1.0     0.9988   \n",
       "2  0xfcdcd8bd5cee7ae6             1000        0.9992        1.0     0.9990   \n",
       "0  0x12ebb980dfdf077f             1200        0.9994        1.0     0.9991   \n",
       "\n",
       "   roc_auc.2  roc_auc.3  roc_auc.4  roc_auc.5  roc_auc.6  roc_auc.7  \\\n",
       "1        1.0     0.9999     0.9992     0.9990     1.0000     0.9998   \n",
       "3        1.0     0.9998     0.9995     0.9993     0.9999     0.9999   \n",
       "2        1.0     0.9999     0.9996     0.9994     0.9999     0.9998   \n",
       "0        1.0     0.9999     0.9997     0.9997     0.9999     0.9998   \n",
       "\n",
       "   roc_auc.8  roc_auc.9  \n",
       "1     0.9942     0.9988  \n",
       "3     0.9930     0.9994  \n",
       "2     0.9952     0.9996  \n",
       "0     0.9957     0.9998  "
      ]
     },
     "execution_count": 10,
     "metadata": {},
     "output_type": "execute_result"
    }
   ],
   "source": [
    "df_data.round(4)"
   ]
  },
  {
   "cell_type": "code",
   "execution_count": 11,
   "id": "4d215e68",
   "metadata": {
    "execution": {
     "iopub.execute_input": "2022-12-10T06:41:13.083073Z",
     "iopub.status.busy": "2022-12-10T06:41:13.082557Z",
     "iopub.status.idle": "2022-12-10T06:41:13.237387Z",
     "shell.execute_reply": "2022-12-10T06:41:13.236592Z"
    },
    "papermill": {
     "duration": 0.162122,
     "end_time": "2022-12-10T06:41:13.239981",
     "exception": false,
     "start_time": "2022-12-10T06:41:13.077859",
     "status": "completed"
    },
    "tags": []
   },
   "outputs": [
    {
     "data": {
      "image/png": "[encoded data removed]",
      "text/plain": [
       "<Figure size 1600x400 with 1 Axes>"
      ]
     },
     "metadata": {},
     "output_type": "display_data"
    }
   ],
   "source": [
    "def plot_classifier_performance_summary(df_data):\n",
    "    fig, ax = plt.subplots(nrows=1, ncols=1, figsize=(16, 4), sharex=True)\n",
    "\n",
    "    #\n",
    "    ax.plot(\n",
    "        df_data[\"nr_train_images\"], df_data[\"roc_auc_mean\"], marker=\"o\", linestyle=\"--\"\n",
    "    )\n",
    "    ax.set_title(\n",
    "        f\"ROC AUC digit classifier performance on evaluation digits\", fontsize=17\n",
    "    )\n",
    "    ax.set_xlabel(\"Total number of digits in training set\", fontsize=14)\n",
    "    ax.set_ylabel(\"Mean ROC AUC\", fontsize=14)\n",
    "\n",
    "    fig.tight_layout()\n",
    "    fig.show()\n",
    "\n",
    "    return fig\n",
    "\n",
    "\n",
    "fig = plot_classifier_performance_summary(df_data)"
   ]
  },
  {
   "cell_type": "code",
   "execution_count": 12,
   "id": "9ae96bbe",
   "metadata": {
    "execution": {
     "iopub.execute_input": "2022-12-10T06:41:13.249902Z",
     "iopub.status.busy": "2022-12-10T06:41:13.249671Z",
     "iopub.status.idle": "2022-12-10T06:41:13.318076Z",
     "shell.execute_reply": "2022-12-10T06:41:13.317482Z"
    },
    "papermill": {
     "duration": 0.075281,
     "end_time": "2022-12-10T06:41:13.319923",
     "exception": false,
     "start_time": "2022-12-10T06:41:13.244642",
     "status": "completed"
    },
    "tags": []
   },
   "outputs": [],
   "source": [
    "logger.log_figure(\"auc-roc-model-performances.png\", fig)"
   ]
  },
  {
   "cell_type": "code",
   "execution_count": 13,
   "id": "463e8355",
   "metadata": {
    "execution": {
     "iopub.execute_input": "2022-12-10T06:41:13.329369Z",
     "iopub.status.busy": "2022-12-10T06:41:13.329149Z",
     "iopub.status.idle": "2022-12-10T06:41:13.332118Z",
     "shell.execute_reply": "2022-12-10T06:41:13.331468Z"
    },
    "papermill": {
     "duration": 0.009157,
     "end_time": "2022-12-10T06:41:13.333521",
     "exception": false,
     "start_time": "2022-12-10T06:41:13.324364",
     "status": "completed"
    },
    "tags": []
   },
   "outputs": [],
   "source": [
    "###"
   ]
  },
  {
   "cell_type": "code",
   "execution_count": null,
   "id": "f585f6a9",
   "metadata": {
    "papermill": {
     "duration": 0.003711,
     "end_time": "2022-12-10T06:41:13.346468",
     "exception": false,
     "start_time": "2022-12-10T06:41:13.342757",
     "status": "completed"
    },
    "tags": []
   },
   "outputs": [],
   "source": []
  }
 ],
 "metadata": {
  "jupytext": {
   "cell_metadata_filter": "tags,-all",
   "main_language": "python",
   "notebook_metadata_filter": "-all"
  },
  "language_info": {
   "codemirror_mode": {
    "name": "ipython",
    "version": 3
   },
   "file_extension": ".py",
   "mimetype": "text/x-python",
   "name": "python",
   "nbconvert_exporter": "python",
   "pygments_lexer": "ipython3",
   "version": "3.8.10"
  },
  "papermill": {
   "default_parameters": {},
   "duration": 3.843228,
   "end_time": "2022-12-10T06:41:14.368940",
   "environment_variables": {},
   "exception": null,
   "input_path": "/home/host_user/workspace/mnist-demo-pipeline/mnist-demo-pipeline/notebooks/temp-notebook-17kh1zw6.ipynb",
   "output_path": "notebooks/summary.ipynb",
   "parameters": {
    "P": {
     "_opentelemetry_traceparent": "00-5775c7dbec8cd99ab6da112e2f69fea3-d4cc28cc79cb4eed-01",
     "pipeline.data_lake_root": "/pipeline-outputs/data-lake",
     "pipeline.github.actor": "matiasdahl",
     "pipeline.github.base_ref": "",
     "pipeline.github.event_name": "schedule",
     "pipeline.github.head_ref": "",
     "pipeline.github.job": "run-tests-pipeline-and-persist-pipeline-outputs",
     "pipeline.github.ref": "refs/heads/development",
     "pipeline.github.ref_name": "development",
     "pipeline.github.ref_type": "branch",
     "pipeline.github.repository": "matiasdahl/dev-mnist-digits-demo-pipeline",
     "pipeline.github.run_id": "3663055501",
     "pipeline.github.runner_name": "Hosted Agent",
     "pipeline.github.sha": "ace0d01011d5e914f1921450dd5a59c11367b38d",
     "pipeline.github.workflow": "Run automated tests, pipeline and deploy results to static reporting site",
     "pipeline.pipeline_run_id": "1298f9fe-a281-452a-89d5-8180c6df80de",
     "pipeline.run_environment": "ci",
     "run.retry_nr": "0",
     "task.max_nr_retries": "1",
     "task.notebook": "notebooks/summary.py",
     "task.num_cpus": 1,
     "task.timeout_s": "None"
    }
   },
   "start_time": "2022-12-10T06:41:10.525712",
   "version": "2.3.3"
  }
 },
 "nbformat": 4,
 "nbformat_minor": 5
}