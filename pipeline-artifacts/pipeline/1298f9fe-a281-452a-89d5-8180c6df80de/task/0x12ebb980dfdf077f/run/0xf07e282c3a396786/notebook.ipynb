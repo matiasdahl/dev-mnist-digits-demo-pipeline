{
 "cells": [
  {
   "cell_type": "markdown",
   "id": "2e810585",
   "metadata": {
    "papermill": {
     "duration": 0.005213,
     "end_time": "2022-12-10T06:41:02.020055",
     "exception": false,
     "start_time": "2022-12-10T06:41:02.014842",
     "status": "completed"
    },
    "tags": []
   },
   "source": [
    "# Benchmark model\n",
    "\n",
    "The purpose of this notebook is to benchmark persisted onnx-model (trained in the\n",
    "previous step) against evaluation set."
   ]
  },
  {
   "cell_type": "markdown",
   "id": "0821e5d6",
   "metadata": {
    "papermill": {
     "duration": 0.005268,
     "end_time": "2022-12-10T06:41:02.029800",
     "exception": false,
     "start_time": "2022-12-10T06:41:02.024532",
     "status": "completed"
    },
    "tags": []
   },
   "source": [
    "### Determine run parameters"
   ]
  },
  {
   "cell_type": "code",
   "execution_count": 1,
   "id": "8ef52ebe",
   "metadata": {
    "execution": {
     "iopub.execute_input": "2022-12-10T06:41:02.038877Z",
     "iopub.status.busy": "2022-12-10T06:41:02.038619Z",
     "iopub.status.idle": "2022-12-10T06:41:02.045352Z",
     "shell.execute_reply": "2022-12-10T06:41:02.044812Z"
    },
    "lines_to_next_cell": 0,
    "papermill": {
     "duration": 0.014928,
     "end_time": "2022-12-10T06:41:02.048538",
     "exception": false,
     "start_time": "2022-12-10T06:41:02.033610",
     "status": "completed"
    },
    "tags": []
   },
   "outputs": [],
   "source": [
    "# ----------------- Parameters for interactive development --------------\n",
    "P = {\n",
    "    \"pipeline.data_lake_root\": \"/pipeline-outputs/data-lake\",\n",
    "    \"task.nr_train_images\": 600,\n",
    "}"
   ]
  },
  {
   "cell_type": "code",
   "execution_count": 2,
   "id": "f5ce45d8",
   "metadata": {
    "execution": {
     "iopub.execute_input": "2022-12-10T06:41:02.058072Z",
     "iopub.status.busy": "2022-12-10T06:41:02.057857Z",
     "iopub.status.idle": "2022-12-10T06:41:02.060600Z",
     "shell.execute_reply": "2022-12-10T06:41:02.060020Z"
    },
    "lines_to_next_cell": 0,
    "papermill": {
     "duration": 0.010136,
     "end_time": "2022-12-10T06:41:02.062870",
     "exception": false,
     "start_time": "2022-12-10T06:41:02.052734",
     "status": "completed"
    },
    "tags": [
     "parameters"
    ]
   },
   "outputs": [],
   "source": [
    "# - During automated runs parameters will be injected in the below cell -"
   ]
  },
  {
   "cell_type": "code",
   "execution_count": 3,
   "id": "4f58e67d",
   "metadata": {
    "execution": {
     "iopub.execute_input": "2022-12-10T06:41:02.071757Z",
     "iopub.status.busy": "2022-12-10T06:41:02.071556Z",
     "iopub.status.idle": "2022-12-10T06:41:02.075956Z",
     "shell.execute_reply": "2022-12-10T06:41:02.075475Z"
    },
    "papermill": {
     "duration": 0.011616,
     "end_time": "2022-12-10T06:41:02.078607",
     "exception": false,
     "start_time": "2022-12-10T06:41:02.066991",
     "status": "completed"
    },
    "tags": [
     "injected-parameters"
    ]
   },
   "outputs": [],
   "source": [
    "# Parameters\n",
    "P = {\n",
    "    \"pipeline.data_lake_root\": \"/pipeline-outputs/data-lake\",\n",
    "    \"pipeline.run_environment\": \"ci\",\n",
    "    \"pipeline.pipeline_run_id\": \"1298f9fe-a281-452a-89d5-8180c6df80de\",\n",
    "    \"pipeline.github.repository\": \"matiasdahl/dev-mnist-digits-demo-pipeline\",\n",
    "    \"pipeline.github.workflow\": \"Run automated tests, pipeline and deploy results to static reporting site\",\n",
    "    \"pipeline.github.runner_name\": \"Hosted Agent\",\n",
    "    \"pipeline.github.run_id\": \"3663055501\",\n",
    "    \"pipeline.github.actor\": \"matiasdahl\",\n",
    "    \"pipeline.github.job\": \"run-tests-pipeline-and-persist-pipeline-outputs\",\n",
    "    \"pipeline.github.base_ref\": \"\",\n",
    "    \"pipeline.github.head_ref\": \"\",\n",
    "    \"pipeline.github.sha\": \"ace0d01011d5e914f1921450dd5a59c11367b38d\",\n",
    "    \"pipeline.github.ref\": \"refs/heads/development\",\n",
    "    \"pipeline.github.ref_type\": \"branch\",\n",
    "    \"pipeline.github.ref_name\": \"development\",\n",
    "    \"pipeline.github.event_name\": \"schedule\",\n",
    "    \"task.nr_train_images\": 1200,\n",
    "    \"task.notebook\": \"notebooks/benchmark-model.py\",\n",
    "    \"task.max_nr_retries\": \"1\",\n",
    "    \"run.retry_nr\": \"0\",\n",
    "    \"task.timeout_s\": \"None\",\n",
    "    \"task.num_cpus\": 1,\n",
    "    \"_opentelemetry_traceparent\": \"00-5775c7dbec8cd99ab6da112e2f69fea3-c7833311c4c250bf-01\",\n",
    "}\n"
   ]
  },
  {
   "cell_type": "code",
   "execution_count": 4,
   "id": "fc55a116",
   "metadata": {
    "execution": {
     "iopub.execute_input": "2022-12-10T06:41:02.091605Z",
     "iopub.status.busy": "2022-12-10T06:41:02.091403Z",
     "iopub.status.idle": "2022-12-10T06:41:02.093965Z",
     "shell.execute_reply": "2022-12-10T06:41:02.093438Z"
    },
    "lines_to_next_cell": 0,
    "papermill": {
     "duration": 0.015138,
     "end_time": "2022-12-10T06:41:02.097550",
     "exception": false,
     "start_time": "2022-12-10T06:41:02.082412",
     "status": "completed"
    },
    "tags": []
   },
   "outputs": [],
   "source": [
    "# -----------------------------------------------------------------------"
   ]
  },
  {
   "cell_type": "markdown",
   "id": "ce98de2c",
   "metadata": {
    "papermill": {
     "duration": 0.004181,
     "end_time": "2022-12-10T06:41:02.106206",
     "exception": false,
     "start_time": "2022-12-10T06:41:02.102025",
     "status": "completed"
    },
    "tags": []
   },
   "source": [
    "---"
   ]
  },
  {
   "cell_type": "markdown",
   "id": "c2282166",
   "metadata": {
    "lines_to_next_cell": 2,
    "papermill": {
     "duration": 0.003886,
     "end_time": "2022-12-10T06:41:02.113926",
     "exception": false,
     "start_time": "2022-12-10T06:41:02.110040",
     "status": "completed"
    },
    "tags": []
   },
   "source": [
    "### Notebook code"
   ]
  },
  {
   "cell_type": "code",
   "execution_count": 5,
   "id": "298ea9e3",
   "metadata": {
    "execution": {
     "iopub.execute_input": "2022-12-10T06:41:02.122860Z",
     "iopub.status.busy": "2022-12-10T06:41:02.122643Z",
     "iopub.status.idle": "2022-12-10T06:41:03.202031Z",
     "shell.execute_reply": "2022-12-10T06:41:03.201397Z"
    },
    "papermill": {
     "duration": 1.085919,
     "end_time": "2022-12-10T06:41:03.203826",
     "exception": false,
     "start_time": "2022-12-10T06:41:02.117907",
     "status": "completed"
    },
    "tags": []
   },
   "outputs": [
    {
     "name": "stderr",
     "output_type": "stream",
     "text": [
      "2022-12-10 06:41:02,991\tINFO worker.py:842 -- Connecting to existing Ray cluster at address: 172.17.0.2:6379\n"
     ]
    }
   ],
   "source": [
    "import itertools as it\n",
    "\n",
    "#\n",
    "import numpy as np\n",
    "import matplotlib.pyplot as plt\n",
    "\n",
    "#\n",
    "from pynb_dag_runner.tasks.task_opentelemetry_logging import PydarLogger\n",
    "\n",
    "#\n",
    "from common.io import datalake_root\n",
    "\n",
    "logger = PydarLogger(P)"
   ]
  },
  {
   "cell_type": "markdown",
   "id": "b58625e9",
   "metadata": {
    "papermill": {
     "duration": 0.004115,
     "end_time": "2022-12-10T06:41:03.212475",
     "exception": false,
     "start_time": "2022-12-10T06:41:03.208360",
     "status": "completed"
    },
    "tags": []
   },
   "source": [
    "## Load persisted onnx-model and evaluation data"
   ]
  },
  {
   "cell_type": "code",
   "execution_count": 6,
   "id": "409860d8",
   "metadata": {
    "execution": {
     "iopub.execute_input": "2022-12-10T06:41:03.223278Z",
     "iopub.status.busy": "2022-12-10T06:41:03.222645Z",
     "iopub.status.idle": "2022-12-10T06:41:03.226060Z",
     "shell.execute_reply": "2022-12-10T06:41:03.225548Z"
    },
    "papermill": {
     "duration": 0.011652,
     "end_time": "2022-12-10T06:41:03.227975",
     "exception": false,
     "start_time": "2022-12-10T06:41:03.216323",
     "status": "completed"
    },
    "tags": []
   },
   "outputs": [],
   "source": [
    "from common.io import read_onnx, get_onnx_inputs, get_onnx_outputs, read_numpy"
   ]
  },
  {
   "cell_type": "code",
   "execution_count": 7,
   "id": "88908de3",
   "metadata": {
    "execution": {
     "iopub.execute_input": "2022-12-10T06:41:03.237222Z",
     "iopub.status.busy": "2022-12-10T06:41:03.237012Z",
     "iopub.status.idle": "2022-12-10T06:41:03.247709Z",
     "shell.execute_reply": "2022-12-10T06:41:03.247145Z"
    },
    "lines_to_next_cell": 0,
    "papermill": {
     "duration": 0.016627,
     "end_time": "2022-12-10T06:41:03.248981",
     "exception": false,
     "start_time": "2022-12-10T06:41:03.232354",
     "status": "completed"
    },
    "tags": []
   },
   "outputs": [],
   "source": [
    "onnx_inference_session = read_onnx(\n",
    "    datalake_root(P)\n",
    "    / \"models\"\n",
    "    / f\"nr_train_images={P['task.nr_train_images']}\"\n",
    "    / \"model.onnx\"\n",
    ")"
   ]
  },
  {
   "cell_type": "markdown",
   "id": "d41a4659",
   "metadata": {
    "papermill": {
     "duration": 0.004108,
     "end_time": "2022-12-10T06:41:03.257394",
     "exception": false,
     "start_time": "2022-12-10T06:41:03.253286",
     "status": "completed"
    },
    "tags": []
   },
   "source": [
    "### Record structure of inputs and outputs for ONNX model\n",
    "\n",
    "(this should likely be done in training notebook)"
   ]
  },
  {
   "cell_type": "code",
   "execution_count": 8,
   "id": "7c03cfdc",
   "metadata": {
    "execution": {
     "iopub.execute_input": "2022-12-10T06:41:03.266594Z",
     "iopub.status.busy": "2022-12-10T06:41:03.266380Z",
     "iopub.status.idle": "2022-12-10T06:41:03.274240Z",
     "shell.execute_reply": "2022-12-10T06:41:03.273630Z"
    },
    "papermill": {
     "duration": 0.01549,
     "end_time": "2022-12-10T06:41:03.277157",
     "exception": false,
     "start_time": "2022-12-10T06:41:03.261667",
     "status": "completed"
    },
    "tags": []
   },
   "outputs": [
    {
     "name": "stdout",
     "output_type": "stream",
     "text": [
      "{\n",
      "  \"inputs\": [\n",
      "    {\n",
      "      \"name\": \"float_input_8x8_image\",\n",
      "      \"shape\": [\n",
      "        null,\n",
      "        64\n",
      "      ],\n",
      "      \"type\": \"tensor(float)\"\n",
      "    }\n",
      "  ],\n",
      "  \"outputs\": [\n",
      "    {\n",
      "      \"name\": \"output_label\",\n",
      "      \"shape\": [\n",
      "        null\n",
      "      ],\n",
      "      \"type\": \"tensor(int64)\"\n",
      "    },\n",
      "    {\n",
      "      \"name\": \"output_probability\",\n",
      "      \"shape\": [],\n",
      "      \"type\": \"seq(map(int64,tensor(float)))\"\n",
      "    }\n",
      "  ]\n",
      "}\n"
     ]
    }
   ],
   "source": [
    "import json\n",
    "\n",
    "onnx_io = json.dumps(\n",
    "    {\n",
    "        \"inputs\": get_onnx_inputs(onnx_inference_session),\n",
    "        \"outputs\": get_onnx_outputs(onnx_inference_session),\n",
    "    },\n",
    "    indent=2,\n",
    ")\n",
    "\n",
    "\n",
    "logger.log_artefact(\"onnx_io_structure.json\", onnx_io)\n",
    "print(onnx_io)"
   ]
  },
  {
   "cell_type": "markdown",
   "id": "0063fd4c",
   "metadata": {
    "papermill": {
     "duration": 0.008556,
     "end_time": "2022-12-10T06:41:03.290427",
     "exception": false,
     "start_time": "2022-12-10T06:41:03.281871",
     "status": "completed"
    },
    "tags": []
   },
   "source": [
    "### Evaluate model performance on evaluation data set"
   ]
  },
  {
   "cell_type": "code",
   "execution_count": 9,
   "id": "d6ba59f4",
   "metadata": {
    "execution": {
     "iopub.execute_input": "2022-12-10T06:41:03.301525Z",
     "iopub.status.busy": "2022-12-10T06:41:03.301301Z",
     "iopub.status.idle": "2022-12-10T06:41:03.306288Z",
     "shell.execute_reply": "2022-12-10T06:41:03.305689Z"
    },
    "papermill": {
     "duration": 0.015356,
     "end_time": "2022-12-10T06:41:03.310058",
     "exception": false,
     "start_time": "2022-12-10T06:41:03.294702",
     "status": "completed"
    },
    "tags": []
   },
   "outputs": [],
   "source": [
    "# load evaluation data\n",
    "X_test = read_numpy(datalake_root(P) / \"test-data\" / \"digits.numpy\")\n",
    "y_test = read_numpy(datalake_root(P) / \"test-data\" / \"labels.numpy\")"
   ]
  },
  {
   "cell_type": "code",
   "execution_count": 10,
   "id": "ac2c1768",
   "metadata": {
    "execution": {
     "iopub.execute_input": "2022-12-10T06:41:03.322574Z",
     "iopub.status.busy": "2022-12-10T06:41:03.322361Z",
     "iopub.status.idle": "2022-12-10T06:41:03.343371Z",
     "shell.execute_reply": "2022-12-10T06:41:03.342769Z"
    },
    "papermill": {
     "duration": 0.028813,
     "end_time": "2022-12-10T06:41:03.345046",
     "exception": false,
     "start_time": "2022-12-10T06:41:03.316233",
     "status": "completed"
    },
    "tags": []
   },
   "outputs": [],
   "source": [
    "def get_model_outputs(X, onnx_inference_session):\n",
    "    y_pred_labels, y_pred_map = onnx_inference_session.run(\n",
    "        [\"output_label\", \"output_probability\"],\n",
    "        {\"float_input_8x8_image\": X.astype(np.float32)},\n",
    "    )\n",
    "    y_pred_probs = np.array(\n",
    "        [[probabilities[digit] for digit in range(10)] for probabilities in y_pred_map]\n",
    "    )\n",
    "\n",
    "    assert y_pred_labels.shape == (X.shape[0],)\n",
    "    assert y_pred_probs.shape == (X.shape[0], 10)\n",
    "\n",
    "    return y_pred_labels, y_pred_probs\n",
    "\n",
    "\n",
    "# Note: as shown in the training notebook, the predicted labels and probabilities\n",
    "# computed below need not be compatible.\n",
    "y_pred_labels_test, y_pred_probs_test = get_model_outputs(\n",
    "    X_test, onnx_inference_session\n",
    ")"
   ]
  },
  {
   "cell_type": "markdown",
   "id": "f12dd34c",
   "metadata": {
    "papermill": {
     "duration": 0.004429,
     "end_time": "2022-12-10T06:41:03.356560",
     "exception": false,
     "start_time": "2022-12-10T06:41:03.352131",
     "status": "completed"
    },
    "tags": []
   },
   "source": [
    "### Confusion matrix"
   ]
  },
  {
   "cell_type": "code",
   "execution_count": 11,
   "id": "5b331916",
   "metadata": {
    "execution": {
     "iopub.execute_input": "2022-12-10T06:41:03.366498Z",
     "iopub.status.busy": "2022-12-10T06:41:03.366202Z",
     "iopub.status.idle": "2022-12-10T06:41:03.369099Z",
     "shell.execute_reply": "2022-12-10T06:41:03.368458Z"
    },
    "papermill": {
     "duration": 0.009874,
     "end_time": "2022-12-10T06:41:03.371127",
     "exception": false,
     "start_time": "2022-12-10T06:41:03.361253",
     "status": "completed"
    },
    "tags": []
   },
   "outputs": [],
   "source": [
    "# TODO"
   ]
  },
  {
   "cell_type": "markdown",
   "id": "e3c0563c",
   "metadata": {
    "papermill": {
     "duration": 0.005592,
     "end_time": "2022-12-10T06:41:03.381698",
     "exception": false,
     "start_time": "2022-12-10T06:41:03.376106",
     "status": "completed"
    },
    "tags": []
   },
   "source": [
    "### Plot predicted probabilities for each classifier over all evaluation digit images"
   ]
  },
  {
   "cell_type": "code",
   "execution_count": 12,
   "id": "1b1743ff",
   "metadata": {
    "execution": {
     "iopub.execute_input": "2022-12-10T06:41:03.393532Z",
     "iopub.status.busy": "2022-12-10T06:41:03.393234Z",
     "iopub.status.idle": "2022-12-10T06:41:06.133355Z",
     "shell.execute_reply": "2022-12-10T06:41:06.132762Z"
    },
    "papermill": {
     "duration": 2.748086,
     "end_time": "2022-12-10T06:41:06.135025",
     "exception": false,
     "start_time": "2022-12-10T06:41:03.386939",
     "status": "completed"
    },
    "tags": []
   },
   "outputs": [
    {
     "data": {
      "image/png": "[encoded data removed]",
      "text/plain": [
       "<Figure size 1600x600 with 10 Axes>"
      ]
     },
     "metadata": {},
     "output_type": "display_data"
    }
   ],
   "source": [
    "def plot_per_digit_probabilities(y_pred_probs):\n",
    "    fig, axs = plt.subplots(nrows=2, ncols=5, figsize=(16, 6))\n",
    "\n",
    "    for (r, c), digit, ax in zip(\n",
    "        it.product(range(2), range(5)), range(10), axs.reshape(-1)\n",
    "    ):\n",
    "        ax.hist(y_pred_probs_test[:, digit], bins=20)\n",
    "\n",
    "        ax.set_title(f\"Digit {digit}\")\n",
    "        if r == 1 and c == 2:\n",
    "            ax.set_xlabel(\"probability\", fontsize=16)\n",
    "\n",
    "        if c == 0:\n",
    "            ax.set_ylabel(\"counts\", fontsize=16)\n",
    "        ax.set_yscale(\"log\")\n",
    "\n",
    "    fig.tight_layout()\n",
    "    fig.suptitle(\n",
    "        f\"Distributions of prediction probabilities for each digit \"\n",
    "        f\"(on evaluation data, n={y_pred_probs.shape[0]})\",\n",
    "        fontsize=20,\n",
    "    )\n",
    "    fig.tight_layout()\n",
    "    fig.show()\n",
    "\n",
    "    return fig\n",
    "\n",
    "\n",
    "fig = plot_per_digit_probabilities(y_pred_probs_test)"
   ]
  },
  {
   "cell_type": "markdown",
   "id": "d9affbbc",
   "metadata": {
    "papermill": {
     "duration": 0.005583,
     "end_time": "2022-12-10T06:41:06.146496",
     "exception": false,
     "start_time": "2022-12-10T06:41:06.140913",
     "status": "completed"
    },
    "tags": []
   },
   "source": [
    "From the above distributions we see that most digits have clear separation between\n",
    "high and lower probabilities. Morover, in each case there is roughly an order of\n",
    "magnitude more of digits with low probabilities. This is compatible with digits\n",
    "being roughly evenly distributed in the data."
   ]
  },
  {
   "cell_type": "code",
   "execution_count": 13,
   "id": "5281e15f",
   "metadata": {
    "execution": {
     "iopub.execute_input": "2022-12-10T06:41:06.158287Z",
     "iopub.status.busy": "2022-12-10T06:41:06.157568Z",
     "iopub.status.idle": "2022-12-10T06:41:06.577374Z",
     "shell.execute_reply": "2022-12-10T06:41:06.576740Z"
    },
    "papermill": {
     "duration": 0.427688,
     "end_time": "2022-12-10T06:41:06.579195",
     "exception": false,
     "start_time": "2022-12-10T06:41:06.151507",
     "status": "completed"
    },
    "tags": []
   },
   "outputs": [],
   "source": [
    "logger.log_figure(\"per-digit-probabilities.png\", fig)"
   ]
  },
  {
   "cell_type": "markdown",
   "id": "56ad3a78",
   "metadata": {
    "papermill": {
     "duration": 0.005123,
     "end_time": "2022-12-10T06:41:06.589941",
     "exception": false,
     "start_time": "2022-12-10T06:41:06.584818",
     "status": "completed"
    },
    "tags": []
   },
   "source": [
    "### Plot ROC curves for individual one-vs-rest classifiers"
   ]
  },
  {
   "cell_type": "code",
   "execution_count": 14,
   "id": "4d936b95",
   "metadata": {
    "execution": {
     "iopub.execute_input": "2022-12-10T06:41:06.604646Z",
     "iopub.status.busy": "2022-12-10T06:41:06.604042Z",
     "iopub.status.idle": "2022-12-10T06:41:06.957315Z",
     "shell.execute_reply": "2022-12-10T06:41:06.956654Z"
    },
    "papermill": {
     "duration": 0.363658,
     "end_time": "2022-12-10T06:41:06.959004",
     "exception": false,
     "start_time": "2022-12-10T06:41:06.595346",
     "status": "completed"
    },
    "tags": []
   },
   "outputs": [],
   "source": [
    "from sklearn import metrics"
   ]
  },
  {
   "cell_type": "code",
   "execution_count": 15,
   "id": "d2203d5b",
   "metadata": {
    "execution": {
     "iopub.execute_input": "2022-12-10T06:41:06.971008Z",
     "iopub.status.busy": "2022-12-10T06:41:06.970467Z",
     "iopub.status.idle": "2022-12-10T06:41:07.963696Z",
     "shell.execute_reply": "2022-12-10T06:41:07.963031Z"
    },
    "papermill": {
     "duration": 1.001092,
     "end_time": "2022-12-10T06:41:07.965500",
     "exception": false,
     "start_time": "2022-12-10T06:41:06.964408",
     "status": "completed"
    },
    "tags": []
   },
   "outputs": [
    {
     "data": {
      "image/png": "[encoded data removed]",
      "text/plain": [
       "<Figure size 1600x800 with 10 Axes>"
      ]
     },
     "metadata": {},
     "output_type": "display_data"
    }
   ],
   "source": [
    "def plot_roc_curves(y, y_pred_probs):\n",
    "    # based on example code\n",
    "    # https://scikit-learn.org/stable/auto_examples/model_selection/plot_roc.html\n",
    "\n",
    "    fig, axs = plt.subplots(nrows=2, ncols=5, figsize=(16, 8))\n",
    "\n",
    "    roc_auc_dict = {}\n",
    "\n",
    "    for (r, c), digit, ax in zip(\n",
    "        it.product(range(2), range(5)), range(10), axs.reshape(-1)\n",
    "    ):\n",
    "        fpr, tpr, _ = metrics.roc_curve(y == digit, y_pred_probs[:, digit])\n",
    "        auc = metrics.auc(fpr, tpr)\n",
    "        roc_auc_dict[str(digit)] = auc\n",
    "\n",
    "        ax.plot(fpr, tpr, label=f\"ROC AUC={round(auc, 3)}\")\n",
    "\n",
    "        ax.set_title(f\"\\nDigit {digit}\", fontsize=16)\n",
    "        if r == 1:\n",
    "            ax.set_xlabel(\"FPR\", fontsize=18)\n",
    "\n",
    "        if c == 0:\n",
    "            ax.set_ylabel(\"TPR\", fontsize=18)\n",
    "\n",
    "        ax.set_xlim([-0.05, 1.05])\n",
    "        ax.set_ylim([-0.05, 1.05])\n",
    "        ax.legend(loc=\"lower right\", frameon=False, fontsize=14)\n",
    "\n",
    "    fig.tight_layout()\n",
    "    fig.suptitle(\n",
    "        f\"ROC plots for one-vs-rest performances \"\n",
    "        f\"(on evaluation data, n={y_pred_probs_test.shape[1]}\",\n",
    "        fontsize=22,\n",
    "    )\n",
    "    fig.tight_layout()\n",
    "    fig.show()\n",
    "\n",
    "    return roc_auc_dict, fig\n",
    "\n",
    "\n",
    "roc_auc_dict, fig = plot_roc_curves(y_test, y_pred_probs_test)"
   ]
  },
  {
   "cell_type": "code",
   "execution_count": 16,
   "id": "6e412c27",
   "metadata": {
    "execution": {
     "iopub.execute_input": "2022-12-10T06:41:07.978978Z",
     "iopub.status.busy": "2022-12-10T06:41:07.978573Z",
     "iopub.status.idle": "2022-12-10T06:41:08.209805Z",
     "shell.execute_reply": "2022-12-10T06:41:08.209172Z"
    },
    "papermill": {
     "duration": 0.239788,
     "end_time": "2022-12-10T06:41:08.211462",
     "exception": false,
     "start_time": "2022-12-10T06:41:07.971674",
     "status": "completed"
    },
    "tags": []
   },
   "outputs": [],
   "source": [
    "logger.log_figure(\"per-digit-roc-curves.png\", fig)"
   ]
  },
  {
   "cell_type": "code",
   "execution_count": 17,
   "id": "39d68858",
   "metadata": {
    "execution": {
     "iopub.execute_input": "2022-12-10T06:41:08.224681Z",
     "iopub.status.busy": "2022-12-10T06:41:08.224167Z",
     "iopub.status.idle": "2022-12-10T06:41:08.229278Z",
     "shell.execute_reply": "2022-12-10T06:41:08.228361Z"
    },
    "papermill": {
     "duration": 0.013226,
     "end_time": "2022-12-10T06:41:08.230665",
     "exception": false,
     "start_time": "2022-12-10T06:41:08.217439",
     "status": "completed"
    },
    "tags": []
   },
   "outputs": [
    {
     "data": {
      "text/plain": [
       "{'0': 1.0,\n",
       " '1': 0.9990627928772259,\n",
       " '2': 1.0,\n",
       " '3': 0.9999250234301781,\n",
       " '4': 0.9997332723670173,\n",
       " '5': 0.9997000937207123,\n",
       " '6': 0.999923792104862,\n",
       " '7': 0.9998475842097242,\n",
       " '8': 0.9957440100882724,\n",
       " '9': 0.9997713763145862}"
      ]
     },
     "execution_count": 17,
     "metadata": {},
     "output_type": "execute_result"
    }
   ],
   "source": [
    "roc_auc_dict"
   ]
  },
  {
   "cell_type": "code",
   "execution_count": 18,
   "id": "7b823844",
   "metadata": {
    "execution": {
     "iopub.execute_input": "2022-12-10T06:41:08.244603Z",
     "iopub.status.busy": "2022-12-10T06:41:08.244256Z",
     "iopub.status.idle": "2022-12-10T06:41:08.248839Z",
     "shell.execute_reply": "2022-12-10T06:41:08.247969Z"
    },
    "papermill": {
     "duration": 0.01351,
     "end_time": "2022-12-10T06:41:08.250348",
     "exception": false,
     "start_time": "2022-12-10T06:41:08.236838",
     "status": "completed"
    },
    "tags": []
   },
   "outputs": [
    {
     "name": "stdout",
     "output_type": "stream",
     "text": [
      " - Logging roc_auc_per_digit (json) : {'0': 1.0, '1': 0.9990627928772259, '2': 1.0, '3': 0.9999250234301781, '4': 0.9997332723670173, '5': 0.9997000937207123, '6': 0.999923792104862, '7': 0.9998475842097242, '8': 0.9957440100882724, '9': 0.9997713763145862}\n"
     ]
    }
   ],
   "source": [
    "logger.log_value(\"roc_auc_per_digit\", roc_auc_dict)"
   ]
  },
  {
   "cell_type": "markdown",
   "id": "67cd08c3",
   "metadata": {
    "papermill": {
     "duration": 0.006002,
     "end_time": "2022-12-10T06:41:08.262319",
     "exception": false,
     "start_time": "2022-12-10T06:41:08.256317",
     "status": "completed"
    },
    "tags": []
   },
   "source": [
    "### Compute and log mean ROC AUC score averaged over all digits"
   ]
  },
  {
   "cell_type": "code",
   "execution_count": 19,
   "id": "3ee9243f",
   "metadata": {
    "execution": {
     "iopub.execute_input": "2022-12-10T06:41:08.275768Z",
     "iopub.status.busy": "2022-12-10T06:41:08.275160Z",
     "iopub.status.idle": "2022-12-10T06:41:08.287655Z",
     "shell.execute_reply": "2022-12-10T06:41:08.287062Z"
    },
    "papermill": {
     "duration": 0.021034,
     "end_time": "2022-12-10T06:41:08.289373",
     "exception": false,
     "start_time": "2022-12-10T06:41:08.268339",
     "status": "completed"
    },
    "tags": []
   },
   "outputs": [
    {
     "name": "stdout",
     "output_type": "stream",
     "text": [
      " - Logging roc_auc_class_mean (float) : 0.9993707945112578\n"
     ]
    }
   ],
   "source": [
    "roc_auc_macro = np.mean(list(roc_auc_dict.values()))\n",
    "\n",
    "logger.log_float(\"roc_auc_class_mean\", roc_auc_macro)\n",
    "\n",
    "# assert that the same value can be computed directly using sklearn\n",
    "assert roc_auc_macro == metrics.roc_auc_score(\n",
    "    y_test, y_pred_probs_test, average=\"macro\", multi_class=\"ovr\"\n",
    ")"
   ]
  },
  {
   "cell_type": "code",
   "execution_count": 20,
   "id": "37268a33",
   "metadata": {
    "execution": {
     "iopub.execute_input": "2022-12-10T06:41:08.305604Z",
     "iopub.status.busy": "2022-12-10T06:41:08.305360Z",
     "iopub.status.idle": "2022-12-10T06:41:08.308983Z",
     "shell.execute_reply": "2022-12-10T06:41:08.308015Z"
    },
    "lines_to_next_cell": 0,
    "papermill": {
     "duration": 0.014826,
     "end_time": "2022-12-10T06:41:08.310355",
     "exception": false,
     "start_time": "2022-12-10T06:41:08.295529",
     "status": "completed"
    },
    "tags": []
   },
   "outputs": [],
   "source": [
    "# ---"
   ]
  },
  {
   "cell_type": "code",
   "execution_count": null,
   "id": "a601f146",
   "metadata": {
    "papermill": {
     "duration": 0.006088,
     "end_time": "2022-12-10T06:41:08.322699",
     "exception": false,
     "start_time": "2022-12-10T06:41:08.316611",
     "status": "completed"
    },
    "tags": []
   },
   "outputs": [],
   "source": []
  }
 ],
 "metadata": {
  "jupytext": {
   "cell_metadata_filter": "tags,-all",
   "main_language": "python",
   "notebook_metadata_filter": "-all"
  },
  "language_info": {
   "codemirror_mode": {
    "name": "ipython",
    "version": 3
   },
   "file_extension": ".py",
   "mimetype": "text/x-python",
   "name": "python",
   "nbconvert_exporter": "python",
   "pygments_lexer": "ipython3",
   "version": "3.8.10"
  },
  "papermill": {
   "default_parameters": {},
   "duration": 8.543964,
   "end_time": "2022-12-10T06:41:09.347547",
   "environment_variables": {},
   "exception": null,
   "input_path": "/home/host_user/workspace/mnist-demo-pipeline/mnist-demo-pipeline/notebooks/temp-notebook-4c9brm_u.ipynb",
   "output_path": "notebooks/benchmark-model.ipynb",
   "parameters": {
    "P": {
     "_opentelemetry_traceparent": "00-5775c7dbec8cd99ab6da112e2f69fea3-c7833311c4c250bf-01",
     "pipeline.data_lake_root": "/pipeline-outputs/data-lake",
     "pipeline.github.actor": "matiasdahl",
     "pipeline.github.base_ref": "",
     "pipeline.github.event_name": "schedule",
     "pipeline.github.head_ref": "",
     "pipeline.github.job": "run-tests-pipeline-and-persist-pipeline-outputs",
     "pipeline.github.ref": "refs/heads/development",
     "pipeline.github.ref_name": "development",
     "pipeline.github.ref_type": "branch",
     "pipeline.github.repository": "matiasdahl/dev-mnist-digits-demo-pipeline",
     "pipeline.github.run_id": "3663055501",
     "pipeline.github.runner_name": "Hosted Agent",
     "pipeline.github.sha": "ace0d01011d5e914f1921450dd5a59c11367b38d",
     "pipeline.github.workflow": "Run automated tests, pipeline and deploy results to static reporting site",
     "pipeline.pipeline_run_id": "1298f9fe-a281-452a-89d5-8180c6df80de",
     "pipeline.run_environment": "ci",
     "run.retry_nr": "0",
     "task.max_nr_retries": "1",
     "task.notebook": "notebooks/benchmark-model.py",
     "task.nr_train_images": 1200,
     "task.num_cpus": 1,
     "task.timeout_s": "None"
    }
   },
   "start_time": "2022-12-10T06:41:00.803583",
   "version": "2.3.3"
  }
 },
 "nbformat": 4,
 "nbformat_minor": 5
}