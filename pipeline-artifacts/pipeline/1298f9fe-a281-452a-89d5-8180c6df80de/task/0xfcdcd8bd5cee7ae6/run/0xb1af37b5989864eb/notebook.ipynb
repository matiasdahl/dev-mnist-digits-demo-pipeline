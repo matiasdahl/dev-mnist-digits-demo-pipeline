{
 "cells": [
  {
   "cell_type": "markdown",
   "id": "ff0d1f3b",
   "metadata": {
    "papermill": {
     "duration": 0.005135,
     "end_time": "2022-12-10T06:40:51.436079",
     "exception": false,
     "start_time": "2022-12-10T06:40:51.430944",
     "status": "completed"
    },
    "tags": []
   },
   "source": [
    "# Benchmark model\n",
    "\n",
    "The purpose of this notebook is to benchmark persisted onnx-model (trained in the\n",
    "previous step) against evaluation set."
   ]
  },
  {
   "cell_type": "markdown",
   "id": "4b57a6fc",
   "metadata": {
    "papermill": {
     "duration": 0.005095,
     "end_time": "2022-12-10T06:40:51.445654",
     "exception": false,
     "start_time": "2022-12-10T06:40:51.440559",
     "status": "completed"
    },
    "tags": []
   },
   "source": [
    "### Determine run parameters"
   ]
  },
  {
   "cell_type": "code",
   "execution_count": 1,
   "id": "42957c3e",
   "metadata": {
    "execution": {
     "iopub.execute_input": "2022-12-10T06:40:51.454875Z",
     "iopub.status.busy": "2022-12-10T06:40:51.454615Z",
     "iopub.status.idle": "2022-12-10T06:40:51.462281Z",
     "shell.execute_reply": "2022-12-10T06:40:51.461768Z"
    },
    "lines_to_next_cell": 0,
    "papermill": {
     "duration": 0.014748,
     "end_time": "2022-12-10T06:40:51.464365",
     "exception": false,
     "start_time": "2022-12-10T06:40:51.449617",
     "status": "completed"
    },
    "tags": []
   },
   "outputs": [],
   "source": [
    "# ----------------- Parameters for interactive development --------------\n",
    "P = {\n",
    "    \"pipeline.data_lake_root\": \"/pipeline-outputs/data-lake\",\n",
    "    \"task.nr_train_images\": 600,\n",
    "}"
   ]
  },
  {
   "cell_type": "code",
   "execution_count": 2,
   "id": "9db005b4",
   "metadata": {
    "execution": {
     "iopub.execute_input": "2022-12-10T06:40:51.473483Z",
     "iopub.status.busy": "2022-12-10T06:40:51.473271Z",
     "iopub.status.idle": "2022-12-10T06:40:51.475876Z",
     "shell.execute_reply": "2022-12-10T06:40:51.475402Z"
    },
    "lines_to_next_cell": 0,
    "papermill": {
     "duration": 0.009651,
     "end_time": "2022-12-10T06:40:51.478040",
     "exception": false,
     "start_time": "2022-12-10T06:40:51.468389",
     "status": "completed"
    },
    "tags": [
     "parameters"
    ]
   },
   "outputs": [],
   "source": [
    "# - During automated runs parameters will be injected in the below cell -"
   ]
  },
  {
   "cell_type": "code",
   "execution_count": 3,
   "id": "01e79b81",
   "metadata": {
    "execution": {
     "iopub.execute_input": "2022-12-10T06:40:51.486929Z",
     "iopub.status.busy": "2022-12-10T06:40:51.486727Z",
     "iopub.status.idle": "2022-12-10T06:40:51.491148Z",
     "shell.execute_reply": "2022-12-10T06:40:51.490444Z"
    },
    "papermill": {
     "duration": 0.011234,
     "end_time": "2022-12-10T06:40:51.493351",
     "exception": false,
     "start_time": "2022-12-10T06:40:51.482117",
     "status": "completed"
    },
    "tags": [
     "injected-parameters"
    ]
   },
   "outputs": [],
   "source": [
    "# Parameters\n",
    "P = {\n",
    "    \"pipeline.data_lake_root\": \"/pipeline-outputs/data-lake\",\n",
    "    \"pipeline.run_environment\": \"ci\",\n",
    "    \"pipeline.pipeline_run_id\": \"1298f9fe-a281-452a-89d5-8180c6df80de\",\n",
    "    \"pipeline.github.repository\": \"matiasdahl/dev-mnist-digits-demo-pipeline\",\n",
    "    \"pipeline.github.workflow\": \"Run automated tests, pipeline and deploy results to static reporting site\",\n",
    "    \"pipeline.github.runner_name\": \"Hosted Agent\",\n",
    "    \"pipeline.github.run_id\": \"3663055501\",\n",
    "    \"pipeline.github.actor\": \"matiasdahl\",\n",
    "    \"pipeline.github.job\": \"run-tests-pipeline-and-persist-pipeline-outputs\",\n",
    "    \"pipeline.github.base_ref\": \"\",\n",
    "    \"pipeline.github.head_ref\": \"\",\n",
    "    \"pipeline.github.sha\": \"ace0d01011d5e914f1921450dd5a59c11367b38d\",\n",
    "    \"pipeline.github.ref\": \"refs/heads/development\",\n",
    "    \"pipeline.github.ref_type\": \"branch\",\n",
    "    \"pipeline.github.ref_name\": \"development\",\n",
    "    \"pipeline.github.event_name\": \"schedule\",\n",
    "    \"task.nr_train_images\": 1000,\n",
    "    \"task.notebook\": \"notebooks/benchmark-model.py\",\n",
    "    \"task.max_nr_retries\": \"1\",\n",
    "    \"run.retry_nr\": \"0\",\n",
    "    \"task.timeout_s\": \"None\",\n",
    "    \"task.num_cpus\": 1,\n",
    "    \"_opentelemetry_traceparent\": \"00-5775c7dbec8cd99ab6da112e2f69fea3-e0409eefa48159b0-01\",\n",
    "}\n"
   ]
  },
  {
   "cell_type": "code",
   "execution_count": 4,
   "id": "b7ae67a0",
   "metadata": {
    "execution": {
     "iopub.execute_input": "2022-12-10T06:40:51.502064Z",
     "iopub.status.busy": "2022-12-10T06:40:51.501865Z",
     "iopub.status.idle": "2022-12-10T06:40:51.504326Z",
     "shell.execute_reply": "2022-12-10T06:40:51.503823Z"
    },
    "lines_to_next_cell": 0,
    "papermill": {
     "duration": 0.00924,
     "end_time": "2022-12-10T06:40:51.506401",
     "exception": false,
     "start_time": "2022-12-10T06:40:51.497161",
     "status": "completed"
    },
    "tags": []
   },
   "outputs": [],
   "source": [
    "# -----------------------------------------------------------------------"
   ]
  },
  {
   "cell_type": "markdown",
   "id": "439df0b1",
   "metadata": {
    "papermill": {
     "duration": 0.004072,
     "end_time": "2022-12-10T06:40:51.514794",
     "exception": false,
     "start_time": "2022-12-10T06:40:51.510722",
     "status": "completed"
    },
    "tags": []
   },
   "source": [
    "---"
   ]
  },
  {
   "cell_type": "markdown",
   "id": "19b06484",
   "metadata": {
    "lines_to_next_cell": 2,
    "papermill": {
     "duration": 0.004709,
     "end_time": "2022-12-10T06:40:51.523999",
     "exception": false,
     "start_time": "2022-12-10T06:40:51.519290",
     "status": "completed"
    },
    "tags": []
   },
   "source": [
    "### Notebook code"
   ]
  },
  {
   "cell_type": "code",
   "execution_count": 5,
   "id": "34c1e7a4",
   "metadata": {
    "execution": {
     "iopub.execute_input": "2022-12-10T06:40:51.533446Z",
     "iopub.status.busy": "2022-12-10T06:40:51.533194Z",
     "iopub.status.idle": "2022-12-10T06:40:52.633709Z",
     "shell.execute_reply": "2022-12-10T06:40:52.633130Z"
    },
    "papermill": {
     "duration": 1.107711,
     "end_time": "2022-12-10T06:40:52.635902",
     "exception": false,
     "start_time": "2022-12-10T06:40:51.528191",
     "status": "completed"
    },
    "tags": []
   },
   "outputs": [
    {
     "name": "stderr",
     "output_type": "stream",
     "text": [
      "2022-12-10 06:40:52,427\tINFO worker.py:842 -- Connecting to existing Ray cluster at address: 172.17.0.2:6379\n"
     ]
    }
   ],
   "source": [
    "import itertools as it\n",
    "\n",
    "#\n",
    "import numpy as np\n",
    "import matplotlib.pyplot as plt\n",
    "\n",
    "#\n",
    "from pynb_dag_runner.tasks.task_opentelemetry_logging import PydarLogger\n",
    "\n",
    "#\n",
    "from common.io import datalake_root\n",
    "\n",
    "logger = PydarLogger(P)"
   ]
  },
  {
   "cell_type": "markdown",
   "id": "5ea53d88",
   "metadata": {
    "papermill": {
     "duration": 0.004335,
     "end_time": "2022-12-10T06:40:52.645138",
     "exception": false,
     "start_time": "2022-12-10T06:40:52.640803",
     "status": "completed"
    },
    "tags": []
   },
   "source": [
    "## Load persisted onnx-model and evaluation data"
   ]
  },
  {
   "cell_type": "code",
   "execution_count": 6,
   "id": "0baac5ed",
   "metadata": {
    "execution": {
     "iopub.execute_input": "2022-12-10T06:40:52.654399Z",
     "iopub.status.busy": "2022-12-10T06:40:52.654100Z",
     "iopub.status.idle": "2022-12-10T06:40:52.657392Z",
     "shell.execute_reply": "2022-12-10T06:40:52.656885Z"
    },
    "papermill": {
     "duration": 0.010519,
     "end_time": "2022-12-10T06:40:52.659775",
     "exception": false,
     "start_time": "2022-12-10T06:40:52.649256",
     "status": "completed"
    },
    "tags": []
   },
   "outputs": [],
   "source": [
    "from common.io import read_onnx, get_onnx_inputs, get_onnx_outputs, read_numpy"
   ]
  },
  {
   "cell_type": "code",
   "execution_count": 7,
   "id": "cf4f6fec",
   "metadata": {
    "execution": {
     "iopub.execute_input": "2022-12-10T06:40:52.670505Z",
     "iopub.status.busy": "2022-12-10T06:40:52.670297Z",
     "iopub.status.idle": "2022-12-10T06:40:52.680597Z",
     "shell.execute_reply": "2022-12-10T06:40:52.680114Z"
    },
    "lines_to_next_cell": 0,
    "papermill": {
     "duration": 0.016862,
     "end_time": "2022-12-10T06:40:52.682249",
     "exception": false,
     "start_time": "2022-12-10T06:40:52.665387",
     "status": "completed"
    },
    "tags": []
   },
   "outputs": [],
   "source": [
    "onnx_inference_session = read_onnx(\n",
    "    datalake_root(P)\n",
    "    / \"models\"\n",
    "    / f\"nr_train_images={P['task.nr_train_images']}\"\n",
    "    / \"model.onnx\"\n",
    ")"
   ]
  },
  {
   "cell_type": "markdown",
   "id": "40efb25a",
   "metadata": {
    "papermill": {
     "duration": 0.004069,
     "end_time": "2022-12-10T06:40:52.690690",
     "exception": false,
     "start_time": "2022-12-10T06:40:52.686621",
     "status": "completed"
    },
    "tags": []
   },
   "source": [
    "### Record structure of inputs and outputs for ONNX model\n",
    "\n",
    "(this should likely be done in training notebook)"
   ]
  },
  {
   "cell_type": "code",
   "execution_count": 8,
   "id": "7e947e4c",
   "metadata": {
    "execution": {
     "iopub.execute_input": "2022-12-10T06:40:52.699964Z",
     "iopub.status.busy": "2022-12-10T06:40:52.699748Z",
     "iopub.status.idle": "2022-12-10T06:40:52.704930Z",
     "shell.execute_reply": "2022-12-10T06:40:52.704432Z"
    },
    "papermill": {
     "duration": 0.013724,
     "end_time": "2022-12-10T06:40:52.708615",
     "exception": false,
     "start_time": "2022-12-10T06:40:52.694891",
     "status": "completed"
    },
    "tags": []
   },
   "outputs": [
    {
     "name": "stdout",
     "output_type": "stream",
     "text": [
      "{\n",
      "  \"inputs\": [\n",
      "    {\n",
      "      \"name\": \"float_input_8x8_image\",\n",
      "      \"shape\": [\n",
      "        null,\n",
      "        64\n",
      "      ],\n",
      "      \"type\": \"tensor(float)\"\n",
      "    }\n",
      "  ],\n",
      "  \"outputs\": [\n",
      "    {\n",
      "      \"name\": \"output_label\",\n",
      "      \"shape\": [\n",
      "        null\n",
      "      ],\n",
      "      \"type\": \"tensor(int64)\"\n",
      "    },\n",
      "    {\n",
      "      \"name\": \"output_probability\",\n",
      "      \"shape\": [],\n",
      "      \"type\": \"seq(map(int64,tensor(float)))\"\n",
      "    }\n",
      "  ]\n",
      "}\n"
     ]
    }
   ],
   "source": [
    "import json\n",
    "\n",
    "onnx_io = json.dumps(\n",
    "    {\n",
    "        \"inputs\": get_onnx_inputs(onnx_inference_session),\n",
    "        \"outputs\": get_onnx_outputs(onnx_inference_session),\n",
    "    },\n",
    "    indent=2,\n",
    ")\n",
    "\n",
    "\n",
    "logger.log_artefact(\"onnx_io_structure.json\", onnx_io)\n",
    "print(onnx_io)"
   ]
  },
  {
   "cell_type": "markdown",
   "id": "e87d9ff6",
   "metadata": {
    "papermill": {
     "duration": 0.004377,
     "end_time": "2022-12-10T06:40:52.717116",
     "exception": false,
     "start_time": "2022-12-10T06:40:52.712739",
     "status": "completed"
    },
    "tags": []
   },
   "source": [
    "### Evaluate model performance on evaluation data set"
   ]
  },
  {
   "cell_type": "code",
   "execution_count": 9,
   "id": "8efc5bc6",
   "metadata": {
    "execution": {
     "iopub.execute_input": "2022-12-10T06:40:52.729384Z",
     "iopub.status.busy": "2022-12-10T06:40:52.728259Z",
     "iopub.status.idle": "2022-12-10T06:40:52.733276Z",
     "shell.execute_reply": "2022-12-10T06:40:52.732757Z"
    },
    "papermill": {
     "duration": 0.392296,
     "end_time": "2022-12-10T06:40:53.113877",
     "exception": false,
     "start_time": "2022-12-10T06:40:52.721581",
     "status": "completed"
    },
    "tags": []
   },
   "outputs": [],
   "source": [
    "# load evaluation data\n",
    "X_test = read_numpy(datalake_root(P) / \"test-data\" / \"digits.numpy\")\n",
    "y_test = read_numpy(datalake_root(P) / \"test-data\" / \"labels.numpy\")"
   ]
  },
  {
   "cell_type": "code",
   "execution_count": 10,
   "id": "33fb6217",
   "metadata": {
    "execution": {
     "iopub.execute_input": "2022-12-10T06:40:53.129040Z",
     "iopub.status.busy": "2022-12-10T06:40:53.128751Z",
     "iopub.status.idle": "2022-12-10T06:40:53.143647Z",
     "shell.execute_reply": "2022-12-10T06:40:53.143021Z"
    },
    "papermill": {
     "duration": 0.026013,
     "end_time": "2022-12-10T06:40:53.145312",
     "exception": false,
     "start_time": "2022-12-10T06:40:53.119299",
     "status": "completed"
    },
    "tags": []
   },
   "outputs": [],
   "source": [
    "def get_model_outputs(X, onnx_inference_session):\n",
    "    y_pred_labels, y_pred_map = onnx_inference_session.run(\n",
    "        [\"output_label\", \"output_probability\"],\n",
    "        {\"float_input_8x8_image\": X.astype(np.float32)},\n",
    "    )\n",
    "    y_pred_probs = np.array(\n",
    "        [[probabilities[digit] for digit in range(10)] for probabilities in y_pred_map]\n",
    "    )\n",
    "\n",
    "    assert y_pred_labels.shape == (X.shape[0],)\n",
    "    assert y_pred_probs.shape == (X.shape[0], 10)\n",
    "\n",
    "    return y_pred_labels, y_pred_probs\n",
    "\n",
    "\n",
    "# Note: as shown in the training notebook, the predicted labels and probabilities\n",
    "# computed below need not be compatible.\n",
    "y_pred_labels_test, y_pred_probs_test = get_model_outputs(\n",
    "    X_test, onnx_inference_session\n",
    ")"
   ]
  },
  {
   "cell_type": "markdown",
   "id": "66eaa15e",
   "metadata": {
    "papermill": {
     "duration": 0.004766,
     "end_time": "2022-12-10T06:40:53.155247",
     "exception": false,
     "start_time": "2022-12-10T06:40:53.150481",
     "status": "completed"
    },
    "tags": []
   },
   "source": [
    "### Confusion matrix"
   ]
  },
  {
   "cell_type": "code",
   "execution_count": 11,
   "id": "f6c3ba01",
   "metadata": {
    "execution": {
     "iopub.execute_input": "2022-12-10T06:40:53.165887Z",
     "iopub.status.busy": "2022-12-10T06:40:53.165629Z",
     "iopub.status.idle": "2022-12-10T06:40:53.172578Z",
     "shell.execute_reply": "2022-12-10T06:40:53.168110Z"
    },
    "papermill": {
     "duration": 0.022386,
     "end_time": "2022-12-10T06:40:53.182618",
     "exception": false,
     "start_time": "2022-12-10T06:40:53.160232",
     "status": "completed"
    },
    "tags": []
   },
   "outputs": [],
   "source": [
    "# TODO"
   ]
  },
  {
   "cell_type": "markdown",
   "id": "a5bdc4a3",
   "metadata": {
    "papermill": {
     "duration": 0.004629,
     "end_time": "2022-12-10T06:40:53.191855",
     "exception": false,
     "start_time": "2022-12-10T06:40:53.187226",
     "status": "completed"
    },
    "tags": []
   },
   "source": [
    "### Plot predicted probabilities for each classifier over all evaluation digit images"
   ]
  },
  {
   "cell_type": "code",
   "execution_count": 12,
   "id": "b5cf92db",
   "metadata": {
    "execution": {
     "iopub.execute_input": "2022-12-10T06:40:53.208867Z",
     "iopub.status.busy": "2022-12-10T06:40:53.208601Z",
     "iopub.status.idle": "2022-12-10T06:40:56.089332Z",
     "shell.execute_reply": "2022-12-10T06:40:56.087300Z"
    },
    "papermill": {
     "duration": 2.888125,
     "end_time": "2022-12-10T06:40:56.091141",
     "exception": false,
     "start_time": "2022-12-10T06:40:53.203016",
     "status": "completed"
    },
    "tags": []
   },
   "outputs": [
    {
     "data": {
      "image/png": "[encoded data removed]",
      "text/plain": [
       "<Figure size 1600x600 with 10 Axes>"
      ]
     },
     "metadata": {},
     "output_type": "display_data"
    }
   ],
   "source": [
    "def plot_per_digit_probabilities(y_pred_probs):\n",
    "    fig, axs = plt.subplots(nrows=2, ncols=5, figsize=(16, 6))\n",
    "\n",
    "    for (r, c), digit, ax in zip(\n",
    "        it.product(range(2), range(5)), range(10), axs.reshape(-1)\n",
    "    ):\n",
    "        ax.hist(y_pred_probs_test[:, digit], bins=20)\n",
    "\n",
    "        ax.set_title(f\"Digit {digit}\")\n",
    "        if r == 1 and c == 2:\n",
    "            ax.set_xlabel(\"probability\", fontsize=16)\n",
    "\n",
    "        if c == 0:\n",
    "            ax.set_ylabel(\"counts\", fontsize=16)\n",
    "        ax.set_yscale(\"log\")\n",
    "\n",
    "    fig.tight_layout()\n",
    "    fig.suptitle(\n",
    "        f\"Distributions of prediction probabilities for each digit \"\n",
    "        f\"(on evaluation data, n={y_pred_probs.shape[0]})\",\n",
    "        fontsize=20,\n",
    "    )\n",
    "    fig.tight_layout()\n",
    "    fig.show()\n",
    "\n",
    "    return fig\n",
    "\n",
    "\n",
    "fig = plot_per_digit_probabilities(y_pred_probs_test)"
   ]
  },
  {
   "cell_type": "markdown",
   "id": "afdaa294",
   "metadata": {
    "papermill": {
     "duration": 0.005859,
     "end_time": "2022-12-10T06:40:56.102888",
     "exception": false,
     "start_time": "2022-12-10T06:40:56.097029",
     "status": "completed"
    },
    "tags": []
   },
   "source": [
    "From the above distributions we see that most digits have clear separation between\n",
    "high and lower probabilities. Morover, in each case there is roughly an order of\n",
    "magnitude more of digits with low probabilities. This is compatible with digits\n",
    "being roughly evenly distributed in the data."
   ]
  },
  {
   "cell_type": "code",
   "execution_count": 13,
   "id": "7703e27d",
   "metadata": {
    "execution": {
     "iopub.execute_input": "2022-12-10T06:40:56.114341Z",
     "iopub.status.busy": "2022-12-10T06:40:56.114088Z",
     "iopub.status.idle": "2022-12-10T06:40:56.552011Z",
     "shell.execute_reply": "2022-12-10T06:40:56.551254Z"
    },
    "papermill": {
     "duration": 0.446132,
     "end_time": "2022-12-10T06:40:56.554059",
     "exception": false,
     "start_time": "2022-12-10T06:40:56.107927",
     "status": "completed"
    },
    "tags": []
   },
   "outputs": [],
   "source": [
    "logger.log_figure(\"per-digit-probabilities.png\", fig)"
   ]
  },
  {
   "cell_type": "markdown",
   "id": "14895e02",
   "metadata": {
    "papermill": {
     "duration": 0.005218,
     "end_time": "2022-12-10T06:40:56.566639",
     "exception": false,
     "start_time": "2022-12-10T06:40:56.561421",
     "status": "completed"
    },
    "tags": []
   },
   "source": [
    "### Plot ROC curves for individual one-vs-rest classifiers"
   ]
  },
  {
   "cell_type": "code",
   "execution_count": 14,
   "id": "7c5bc809",
   "metadata": {
    "execution": {
     "iopub.execute_input": "2022-12-10T06:40:56.579060Z",
     "iopub.status.busy": "2022-12-10T06:40:56.578641Z",
     "iopub.status.idle": "2022-12-10T06:40:56.969557Z",
     "shell.execute_reply": "2022-12-10T06:40:56.968854Z"
    },
    "papermill": {
     "duration": 0.399401,
     "end_time": "2022-12-10T06:40:56.971501",
     "exception": false,
     "start_time": "2022-12-10T06:40:56.572100",
     "status": "completed"
    },
    "tags": []
   },
   "outputs": [],
   "source": [
    "from sklearn import metrics"
   ]
  },
  {
   "cell_type": "code",
   "execution_count": 15,
   "id": "bece8aaa",
   "metadata": {
    "execution": {
     "iopub.execute_input": "2022-12-10T06:40:56.984156Z",
     "iopub.status.busy": "2022-12-10T06:40:56.983677Z",
     "iopub.status.idle": "2022-12-10T06:40:58.071316Z",
     "shell.execute_reply": "2022-12-10T06:40:58.070559Z"
    },
    "papermill": {
     "duration": 1.09562,
     "end_time": "2022-12-10T06:40:58.073035",
     "exception": false,
     "start_time": "2022-12-10T06:40:56.977415",
     "status": "completed"
    },
    "tags": []
   },
   "outputs": [
    {
     "data": {
      "image/png": "[encoded data removed]",
      "text/plain": [
       "<Figure size 1600x800 with 10 Axes>"
      ]
     },
     "metadata": {},
     "output_type": "display_data"
    }
   ],
   "source": [
    "def plot_roc_curves(y, y_pred_probs):\n",
    "    # based on example code\n",
    "    # https://scikit-learn.org/stable/auto_examples/model_selection/plot_roc.html\n",
    "\n",
    "    fig, axs = plt.subplots(nrows=2, ncols=5, figsize=(16, 8))\n",
    "\n",
    "    roc_auc_dict = {}\n",
    "\n",
    "    for (r, c), digit, ax in zip(\n",
    "        it.product(range(2), range(5)), range(10), axs.reshape(-1)\n",
    "    ):\n",
    "        fpr, tpr, _ = metrics.roc_curve(y == digit, y_pred_probs[:, digit])\n",
    "        auc = metrics.auc(fpr, tpr)\n",
    "        roc_auc_dict[str(digit)] = auc\n",
    "\n",
    "        ax.plot(fpr, tpr, label=f\"ROC AUC={round(auc, 3)}\")\n",
    "\n",
    "        ax.set_title(f\"\\nDigit {digit}\", fontsize=16)\n",
    "        if r == 1:\n",
    "            ax.set_xlabel(\"FPR\", fontsize=18)\n",
    "\n",
    "        if c == 0:\n",
    "            ax.set_ylabel(\"TPR\", fontsize=18)\n",
    "\n",
    "        ax.set_xlim([-0.05, 1.05])\n",
    "        ax.set_ylim([-0.05, 1.05])\n",
    "        ax.legend(loc=\"lower right\", frameon=False, fontsize=14)\n",
    "\n",
    "    fig.tight_layout()\n",
    "    fig.suptitle(\n",
    "        f\"ROC plots for one-vs-rest performances \"\n",
    "        f\"(on evaluation data, n={y_pred_probs_test.shape[1]}\",\n",
    "        fontsize=22,\n",
    "    )\n",
    "    fig.tight_layout()\n",
    "    fig.show()\n",
    "\n",
    "    return roc_auc_dict, fig\n",
    "\n",
    "\n",
    "roc_auc_dict, fig = plot_roc_curves(y_test, y_pred_probs_test)"
   ]
  },
  {
   "cell_type": "code",
   "execution_count": 16,
   "id": "f6a1d0da",
   "metadata": {
    "execution": {
     "iopub.execute_input": "2022-12-10T06:40:58.087894Z",
     "iopub.status.busy": "2022-12-10T06:40:58.087658Z",
     "iopub.status.idle": "2022-12-10T06:40:58.352761Z",
     "shell.execute_reply": "2022-12-10T06:40:58.352071Z"
    },
    "papermill": {
     "duration": 0.27426,
     "end_time": "2022-12-10T06:40:58.354481",
     "exception": false,
     "start_time": "2022-12-10T06:40:58.080221",
     "status": "completed"
    },
    "tags": []
   },
   "outputs": [],
   "source": [
    "logger.log_figure(\"per-digit-roc-curves.png\", fig)"
   ]
  },
  {
   "cell_type": "code",
   "execution_count": 17,
   "id": "ae51faa3",
   "metadata": {
    "execution": {
     "iopub.execute_input": "2022-12-10T06:40:58.368629Z",
     "iopub.status.busy": "2022-12-10T06:40:58.368321Z",
     "iopub.status.idle": "2022-12-10T06:40:58.373304Z",
     "shell.execute_reply": "2022-12-10T06:40:58.372696Z"
    },
    "papermill": {
     "duration": 0.014417,
     "end_time": "2022-12-10T06:40:58.375710",
     "exception": false,
     "start_time": "2022-12-10T06:40:58.361293",
     "status": "completed"
    },
    "tags": []
   },
   "outputs": [
    {
     "data": {
      "text/plain": [
       "{'0': 1.0,\n",
       " '1': 0.999025304592315,\n",
       " '2': 1.0,\n",
       " '3': 0.9998875351452671,\n",
       " '4': 0.9996189605243103,\n",
       " '5': 0.9994001874414246,\n",
       " '6': 0.999923792104862,\n",
       " '7': 0.9997713763145862,\n",
       " '8': 0.9951923076923077,\n",
       " '9': 0.9996189605243103}"
      ]
     },
     "execution_count": 17,
     "metadata": {},
     "output_type": "execute_result"
    }
   ],
   "source": [
    "roc_auc_dict"
   ]
  },
  {
   "cell_type": "code",
   "execution_count": 18,
   "id": "7480e370",
   "metadata": {
    "execution": {
     "iopub.execute_input": "2022-12-10T06:40:58.389203Z",
     "iopub.status.busy": "2022-12-10T06:40:58.388856Z",
     "iopub.status.idle": "2022-12-10T06:40:58.392936Z",
     "shell.execute_reply": "2022-12-10T06:40:58.392276Z"
    },
    "papermill": {
     "duration": 0.013064,
     "end_time": "2022-12-10T06:40:58.395157",
     "exception": false,
     "start_time": "2022-12-10T06:40:58.382093",
     "status": "completed"
    },
    "tags": []
   },
   "outputs": [
    {
     "name": "stdout",
     "output_type": "stream",
     "text": [
      " - Logging roc_auc_per_digit (json) : {'0': 1.0, '1': 0.999025304592315, '2': 1.0, '3': 0.9998875351452671, '4': 0.9996189605243103, '5': 0.9994001874414246, '6': 0.999923792104862, '7': 0.9997713763145862, '8': 0.9951923076923077, '9': 0.9996189605243103}\n"
     ]
    }
   ],
   "source": [
    "logger.log_value(\"roc_auc_per_digit\", roc_auc_dict)"
   ]
  },
  {
   "cell_type": "markdown",
   "id": "1966c06f",
   "metadata": {
    "papermill": {
     "duration": 0.006503,
     "end_time": "2022-12-10T06:40:58.412263",
     "exception": false,
     "start_time": "2022-12-10T06:40:58.405760",
     "status": "completed"
    },
    "tags": []
   },
   "source": [
    "### Compute and log mean ROC AUC score averaged over all digits"
   ]
  },
  {
   "cell_type": "code",
   "execution_count": 19,
   "id": "d21b6c9d",
   "metadata": {
    "execution": {
     "iopub.execute_input": "2022-12-10T06:40:58.426082Z",
     "iopub.status.busy": "2022-12-10T06:40:58.425780Z",
     "iopub.status.idle": "2022-12-10T06:40:58.438253Z",
     "shell.execute_reply": "2022-12-10T06:40:58.437546Z"
    },
    "papermill": {
     "duration": 0.021416,
     "end_time": "2022-12-10T06:40:58.440022",
     "exception": false,
     "start_time": "2022-12-10T06:40:58.418606",
     "status": "completed"
    },
    "tags": []
   },
   "outputs": [
    {
     "name": "stdout",
     "output_type": "stream",
     "text": [
      " - Logging roc_auc_class_mean (float) : 0.9992438424339383\n"
     ]
    }
   ],
   "source": [
    "roc_auc_macro = np.mean(list(roc_auc_dict.values()))\n",
    "\n",
    "logger.log_float(\"roc_auc_class_mean\", roc_auc_macro)\n",
    "\n",
    "# assert that the same value can be computed directly using sklearn\n",
    "assert roc_auc_macro == metrics.roc_auc_score(\n",
    "    y_test, y_pred_probs_test, average=\"macro\", multi_class=\"ovr\"\n",
    ")"
   ]
  },
  {
   "cell_type": "code",
   "execution_count": 20,
   "id": "20709ae0",
   "metadata": {
    "execution": {
     "iopub.execute_input": "2022-12-10T06:40:58.454571Z",
     "iopub.status.busy": "2022-12-10T06:40:58.454223Z",
     "iopub.status.idle": "2022-12-10T06:40:58.457097Z",
     "shell.execute_reply": "2022-12-10T06:40:58.456484Z"
    },
    "lines_to_next_cell": 0,
    "papermill": {
     "duration": 0.012829,
     "end_time": "2022-12-10T06:40:58.459466",
     "exception": false,
     "start_time": "2022-12-10T06:40:58.446637",
     "status": "completed"
    },
    "tags": []
   },
   "outputs": [],
   "source": [
    "# ---"
   ]
  },
  {
   "cell_type": "code",
   "execution_count": null,
   "id": "17f0e5f4",
   "metadata": {
    "papermill": {
     "duration": 0.006692,
     "end_time": "2022-12-10T06:40:58.472753",
     "exception": false,
     "start_time": "2022-12-10T06:40:58.466061",
     "status": "completed"
    },
    "tags": []
   },
   "outputs": [],
   "source": []
  }
 ],
 "metadata": {
  "jupytext": {
   "cell_metadata_filter": "tags,-all",
   "main_language": "python",
   "notebook_metadata_filter": "-all"
  },
  "language_info": {
   "codemirror_mode": {
    "name": "ipython",
    "version": 3
   },
   "file_extension": ".py",
   "mimetype": "text/x-python",
   "name": "python",
   "nbconvert_exporter": "python",
   "pygments_lexer": "ipython3",
   "version": "3.8.10"
  },
  "papermill": {
   "default_parameters": {},
   "duration": 9.291892,
   "end_time": "2022-12-10T06:40:59.497533",
   "environment_variables": {},
   "exception": null,
   "input_path": "/home/host_user/workspace/mnist-demo-pipeline/mnist-demo-pipeline/notebooks/temp-notebook-5wxtu_38.ipynb",
   "output_path": "notebooks/benchmark-model.ipynb",
   "parameters": {
    "P": {
     "_opentelemetry_traceparent": "00-5775c7dbec8cd99ab6da112e2f69fea3-e0409eefa48159b0-01",
     "pipeline.data_lake_root": "/pipeline-outputs/data-lake",
     "pipeline.github.actor": "matiasdahl",
     "pipeline.github.base_ref": "",
     "pipeline.github.event_name": "schedule",
     "pipeline.github.head_ref": "",
     "pipeline.github.job": "run-tests-pipeline-and-persist-pipeline-outputs",
     "pipeline.github.ref": "refs/heads/development",
     "pipeline.github.ref_name": "development",
     "pipeline.github.ref_type": "branch",
     "pipeline.github.repository": "matiasdahl/dev-mnist-digits-demo-pipeline",
     "pipeline.github.run_id": "3663055501",
     "pipeline.github.runner_name": "Hosted Agent",
     "pipeline.github.sha": "ace0d01011d5e914f1921450dd5a59c11367b38d",
     "pipeline.github.workflow": "Run automated tests, pipeline and deploy results to static reporting site",
     "pipeline.pipeline_run_id": "1298f9fe-a281-452a-89d5-8180c6df80de",
     "pipeline.run_environment": "ci",
     "run.retry_nr": "0",
     "task.max_nr_retries": "1",
     "task.notebook": "notebooks/benchmark-model.py",
     "task.nr_train_images": 1000,
     "task.num_cpus": 1,
     "task.timeout_s": "None"
    }
   },
   "start_time": "2022-12-10T06:40:50.205641",
   "version": "2.3.3"
  }
 },
 "nbformat": 4,
 "nbformat_minor": 5
}