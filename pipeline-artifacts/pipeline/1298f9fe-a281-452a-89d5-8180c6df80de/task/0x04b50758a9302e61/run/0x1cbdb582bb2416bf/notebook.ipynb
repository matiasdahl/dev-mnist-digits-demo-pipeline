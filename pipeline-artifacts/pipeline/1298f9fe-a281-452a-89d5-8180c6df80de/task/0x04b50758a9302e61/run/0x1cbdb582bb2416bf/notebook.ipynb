{
 "cells": [
  {
   "cell_type": "markdown",
   "id": "a9636fc5",
   "metadata": {
    "papermill": {
     "duration": 0.003351,
     "end_time": "2022-12-10T06:40:29.017241",
     "exception": false,
     "start_time": "2022-12-10T06:40:29.013890",
     "status": "completed"
    },
    "tags": []
   },
   "source": [
    "# Split digits and labels into separate training and testing data sets"
   ]
  },
  {
   "cell_type": "markdown",
   "id": "44e28b54",
   "metadata": {
    "papermill": {
     "duration": 0.007083,
     "end_time": "2022-12-10T06:40:29.027652",
     "exception": false,
     "start_time": "2022-12-10T06:40:29.020569",
     "status": "completed"
    },
    "tags": []
   },
   "source": [
    "### Determine run parameters"
   ]
  },
  {
   "cell_type": "code",
   "execution_count": 1,
   "id": "d9e0ef45",
   "metadata": {
    "execution": {
     "iopub.execute_input": "2022-12-10T06:40:29.034900Z",
     "iopub.status.busy": "2022-12-10T06:40:29.034636Z",
     "iopub.status.idle": "2022-12-10T06:40:29.042517Z",
     "shell.execute_reply": "2022-12-10T06:40:29.041966Z"
    },
    "lines_to_next_cell": 0,
    "papermill": {
     "duration": 0.013569,
     "end_time": "2022-12-10T06:40:29.044785",
     "exception": false,
     "start_time": "2022-12-10T06:40:29.031216",
     "status": "completed"
    },
    "tags": []
   },
   "outputs": [],
   "source": [
    "# ----------------- Parameters for interactive development --------------\n",
    "P = {\n",
    "    \"pipeline.data_lake_root\": \"/pipeline-outputs/data-lake\",\n",
    "    \"task.train_test_ratio\": 0.7,\n",
    "}"
   ]
  },
  {
   "cell_type": "code",
   "execution_count": 2,
   "id": "481b1bff",
   "metadata": {
    "execution": {
     "iopub.execute_input": "2022-12-10T06:40:29.051271Z",
     "iopub.status.busy": "2022-12-10T06:40:29.051055Z",
     "iopub.status.idle": "2022-12-10T06:40:29.053746Z",
     "shell.execute_reply": "2022-12-10T06:40:29.053230Z"
    },
    "lines_to_next_cell": 0,
    "papermill": {
     "duration": 0.008828,
     "end_time": "2022-12-10T06:40:29.055848",
     "exception": false,
     "start_time": "2022-12-10T06:40:29.047020",
     "status": "completed"
    },
    "tags": [
     "parameters"
    ]
   },
   "outputs": [],
   "source": [
    "# - During automated runs parameters will be injected in the below cell -"
   ]
  },
  {
   "cell_type": "code",
   "execution_count": 3,
   "id": "2be6a533",
   "metadata": {
    "execution": {
     "iopub.execute_input": "2022-12-10T06:40:29.062072Z",
     "iopub.status.busy": "2022-12-10T06:40:29.061867Z",
     "iopub.status.idle": "2022-12-10T06:40:29.066050Z",
     "shell.execute_reply": "2022-12-10T06:40:29.065571Z"
    },
    "papermill": {
     "duration": 0.010242,
     "end_time": "2022-12-10T06:40:29.068262",
     "exception": false,
     "start_time": "2022-12-10T06:40:29.058020",
     "status": "completed"
    },
    "tags": [
     "injected-parameters"
    ]
   },
   "outputs": [],
   "source": [
    "# Parameters\n",
    "P = {\n",
    "    \"pipeline.data_lake_root\": \"/pipeline-outputs/data-lake\",\n",
    "    \"pipeline.run_environment\": \"ci\",\n",
    "    \"pipeline.pipeline_run_id\": \"1298f9fe-a281-452a-89d5-8180c6df80de\",\n",
    "    \"pipeline.github.repository\": \"matiasdahl/dev-mnist-digits-demo-pipeline\",\n",
    "    \"pipeline.github.workflow\": \"Run automated tests, pipeline and deploy results to static reporting site\",\n",
    "    \"pipeline.github.runner_name\": \"Hosted Agent\",\n",
    "    \"pipeline.github.run_id\": \"3663055501\",\n",
    "    \"pipeline.github.actor\": \"matiasdahl\",\n",
    "    \"pipeline.github.job\": \"run-tests-pipeline-and-persist-pipeline-outputs\",\n",
    "    \"pipeline.github.base_ref\": \"\",\n",
    "    \"pipeline.github.head_ref\": \"\",\n",
    "    \"pipeline.github.sha\": \"ace0d01011d5e914f1921450dd5a59c11367b38d\",\n",
    "    \"pipeline.github.ref\": \"refs/heads/development\",\n",
    "    \"pipeline.github.ref_type\": \"branch\",\n",
    "    \"pipeline.github.ref_name\": \"development\",\n",
    "    \"pipeline.github.event_name\": \"schedule\",\n",
    "    \"task.train_test_ratio\": 0.7,\n",
    "    \"task.notebook\": \"notebooks/split-train-test.py\",\n",
    "    \"task.max_nr_retries\": \"1\",\n",
    "    \"run.retry_nr\": \"0\",\n",
    "    \"task.timeout_s\": \"None\",\n",
    "    \"task.num_cpus\": 1,\n",
    "    \"_opentelemetry_traceparent\": \"00-5775c7dbec8cd99ab6da112e2f69fea3-967467da41c43cf0-01\",\n",
    "}\n"
   ]
  },
  {
   "cell_type": "code",
   "execution_count": 4,
   "id": "1e3151e1",
   "metadata": {
    "execution": {
     "iopub.execute_input": "2022-12-10T06:40:29.074558Z",
     "iopub.status.busy": "2022-12-10T06:40:29.074358Z",
     "iopub.status.idle": "2022-12-10T06:40:29.076876Z",
     "shell.execute_reply": "2022-12-10T06:40:29.076387Z"
    },
    "lines_to_next_cell": 0,
    "papermill": {
     "duration": 0.012078,
     "end_time": "2022-12-10T06:40:29.083340",
     "exception": false,
     "start_time": "2022-12-10T06:40:29.071262",
     "status": "completed"
    },
    "tags": []
   },
   "outputs": [],
   "source": [
    "# -----------------------------------------------------------------------"
   ]
  },
  {
   "cell_type": "markdown",
   "id": "f1c0a6db",
   "metadata": {
    "papermill": {
     "duration": 0.002245,
     "end_time": "2022-12-10T06:40:29.088131",
     "exception": false,
     "start_time": "2022-12-10T06:40:29.085886",
     "status": "completed"
    },
    "tags": []
   },
   "source": [
    "---"
   ]
  },
  {
   "cell_type": "markdown",
   "id": "0b61d544",
   "metadata": {
    "lines_to_next_cell": 2,
    "papermill": {
     "duration": 0.002473,
     "end_time": "2022-12-10T06:40:29.095239",
     "exception": false,
     "start_time": "2022-12-10T06:40:29.092766",
     "status": "completed"
    },
    "tags": []
   },
   "source": [
    "### Notebook code"
   ]
  },
  {
   "cell_type": "code",
   "execution_count": 5,
   "id": "c4455987",
   "metadata": {
    "execution": {
     "iopub.execute_input": "2022-12-10T06:40:29.103379Z",
     "iopub.status.busy": "2022-12-10T06:40:29.103152Z",
     "iopub.status.idle": "2022-12-10T06:40:29.611697Z",
     "shell.execute_reply": "2022-12-10T06:40:29.611058Z"
    },
    "papermill": {
     "duration": 0.514893,
     "end_time": "2022-12-10T06:40:29.613840",
     "exception": false,
     "start_time": "2022-12-10T06:40:29.098947",
     "status": "completed"
    },
    "tags": []
   },
   "outputs": [
    {
     "name": "stderr",
     "output_type": "stream",
     "text": [
      "2022-12-10 06:40:29,439\tINFO worker.py:842 -- Connecting to existing Ray cluster at address: 172.17.0.2:6379\n"
     ]
    }
   ],
   "source": [
    "from common.io import datalake_root, read_numpy, write_numpy\n",
    "from pynb_dag_runner.tasks.task_opentelemetry_logging import PydarLogger\n",
    "\n",
    "logger = PydarLogger(P)"
   ]
  },
  {
   "cell_type": "markdown",
   "id": "3ffce705",
   "metadata": {
    "papermill": {
     "duration": 0.002866,
     "end_time": "2022-12-10T06:40:29.619628",
     "exception": false,
     "start_time": "2022-12-10T06:40:29.616762",
     "status": "completed"
    },
    "tags": []
   },
   "source": [
    "## Load and split digits data"
   ]
  },
  {
   "cell_type": "code",
   "execution_count": 6,
   "id": "c2d452d9",
   "metadata": {
    "execution": {
     "iopub.execute_input": "2022-12-10T06:40:29.626266Z",
     "iopub.status.busy": "2022-12-10T06:40:29.625980Z",
     "iopub.status.idle": "2022-12-10T06:40:29.631201Z",
     "shell.execute_reply": "2022-12-10T06:40:29.630651Z"
    },
    "papermill": {
     "duration": 0.011391,
     "end_time": "2022-12-10T06:40:29.633870",
     "exception": false,
     "start_time": "2022-12-10T06:40:29.622479",
     "status": "completed"
    },
    "tags": []
   },
   "outputs": [],
   "source": [
    "X = read_numpy(datalake_root(P) / \"raw\" / \"digits.numpy\")\n",
    "y = read_numpy(datalake_root(P) / \"raw\" / \"labels.numpy\")"
   ]
  },
  {
   "cell_type": "code",
   "execution_count": 7,
   "id": "cac409e9",
   "metadata": {
    "execution": {
     "iopub.execute_input": "2022-12-10T06:40:29.640278Z",
     "iopub.status.busy": "2022-12-10T06:40:29.640064Z",
     "iopub.status.idle": "2022-12-10T06:40:30.077213Z",
     "shell.execute_reply": "2022-12-10T06:40:30.076644Z"
    },
    "papermill": {
     "duration": 0.44303,
     "end_time": "2022-12-10T06:40:30.079241",
     "exception": false,
     "start_time": "2022-12-10T06:40:29.636211",
     "status": "completed"
    },
    "tags": []
   },
   "outputs": [],
   "source": [
    "from sklearn.model_selection import train_test_split\n",
    "\n",
    "X_train, X_test, y_train, y_test = train_test_split(\n",
    "    X,\n",
    "    y,\n",
    "    train_size=P[\"task.train_test_ratio\"],\n",
    "    test_size=None,\n",
    "    stratify=y,\n",
    "    shuffle=True,\n",
    "    random_state=1,\n",
    ")\n",
    "\n",
    "# assert nr of pixels per image is the same for all image vectors\n",
    "assert X.shape[1] == X_train.shape[1] == X_test.shape[1]\n",
    "\n",
    "# assert that the (X, y)-pairs have compatible sizes (for both train and test)\n",
    "assert X_train.shape[0] == len(y_train)\n",
    "assert X_test.shape[0] == len(y_test)\n",
    "\n",
    "# assert that all data is used\n",
    "assert len(y) == len(y_train) + len(y_test)"
   ]
  },
  {
   "cell_type": "code",
   "execution_count": 8,
   "id": "c5739e6b",
   "metadata": {
    "execution": {
     "iopub.execute_input": "2022-12-10T06:40:30.087713Z",
     "iopub.status.busy": "2022-12-10T06:40:30.086484Z",
     "iopub.status.idle": "2022-12-10T06:40:30.094558Z",
     "shell.execute_reply": "2022-12-10T06:40:30.094072Z"
    },
    "papermill": {
     "duration": 0.013989,
     "end_time": "2022-12-10T06:40:30.096272",
     "exception": false,
     "start_time": "2022-12-10T06:40:30.082283",
     "status": "completed"
    },
    "tags": []
   },
   "outputs": [
    {
     "name": "stdout",
     "output_type": "stream",
     "text": [
      " - Logging nr_digits_train (int) : 1257\n",
      " - Logging nr_digits_test (int) : 540\n"
     ]
    }
   ],
   "source": [
    "logger.log_int(\"nr_digits_train\", len(y_train))\n",
    "logger.log_int(\"nr_digits_test\", len(y_test))"
   ]
  },
  {
   "cell_type": "markdown",
   "id": "42ddcf08",
   "metadata": {
    "papermill": {
     "duration": 0.006948,
     "end_time": "2022-12-10T06:40:30.106347",
     "exception": false,
     "start_time": "2022-12-10T06:40:30.099399",
     "status": "completed"
    },
    "tags": []
   },
   "source": [
    "### Persist training and test data sets to separate files"
   ]
  },
  {
   "cell_type": "code",
   "execution_count": 9,
   "id": "56f8f6e4",
   "metadata": {
    "execution": {
     "iopub.execute_input": "2022-12-10T06:40:30.112760Z",
     "iopub.status.busy": "2022-12-10T06:40:30.112522Z",
     "iopub.status.idle": "2022-12-10T06:40:30.118140Z",
     "shell.execute_reply": "2022-12-10T06:40:30.117622Z"
    },
    "papermill": {
     "duration": 0.01139,
     "end_time": "2022-12-10T06:40:30.120423",
     "exception": false,
     "start_time": "2022-12-10T06:40:30.109033",
     "status": "completed"
    },
    "tags": []
   },
   "outputs": [],
   "source": [
    "write_numpy(datalake_root(P) / \"train-data\" / \"digits.numpy\", X_train)\n",
    "write_numpy(datalake_root(P) / \"train-data\" / \"labels.numpy\", y_train)\n",
    "\n",
    "#\n",
    "write_numpy(datalake_root(P) / \"test-data\" / \"digits.numpy\", X_test)\n",
    "write_numpy(datalake_root(P) / \"test-data\" / \"labels.numpy\", y_test)"
   ]
  },
  {
   "cell_type": "code",
   "execution_count": null,
   "id": "4b5df3a9",
   "metadata": {
    "papermill": {
     "duration": 0.003059,
     "end_time": "2022-12-10T06:40:30.126143",
     "exception": false,
     "start_time": "2022-12-10T06:40:30.123084",
     "status": "completed"
    },
    "tags": []
   },
   "outputs": [],
   "source": []
  }
 ],
 "metadata": {
  "jupytext": {
   "cell_metadata_filter": "tags,-all",
   "main_language": "python",
   "notebook_metadata_filter": "-all"
  },
  "language_info": {
   "codemirror_mode": {
    "name": "ipython",
    "version": 3
   },
   "file_extension": ".py",
   "mimetype": "text/x-python",
   "name": "python",
   "nbconvert_exporter": "python",
   "pygments_lexer": "ipython3",
   "version": "3.8.10"
  },
  "papermill": {
   "default_parameters": {},
   "duration": 3.335322,
   "end_time": "2022-12-10T06:40:30.951848",
   "environment_variables": {},
   "exception": null,
   "input_path": "/home/host_user/workspace/mnist-demo-pipeline/mnist-demo-pipeline/notebooks/temp-notebook-94qz_o5l.ipynb",
   "output_path": "notebooks/split-train-test.ipynb",
   "parameters": {
    "P": {
     "_opentelemetry_traceparent": "00-5775c7dbec8cd99ab6da112e2f69fea3-967467da41c43cf0-01",
     "pipeline.data_lake_root": "/pipeline-outputs/data-lake",
     "pipeline.github.actor": "matiasdahl",
     "pipeline.github.base_ref": "",
     "pipeline.github.event_name": "schedule",
     "pipeline.github.head_ref": "",
     "pipeline.github.job": "run-tests-pipeline-and-persist-pipeline-outputs",
     "pipeline.github.ref": "refs/heads/development",
     "pipeline.github.ref_name": "development",
     "pipeline.github.ref_type": "branch",
     "pipeline.github.repository": "matiasdahl/dev-mnist-digits-demo-pipeline",
     "pipeline.github.run_id": "3663055501",
     "pipeline.github.runner_name": "Hosted Agent",
     "pipeline.github.sha": "ace0d01011d5e914f1921450dd5a59c11367b38d",
     "pipeline.github.workflow": "Run automated tests, pipeline and deploy results to static reporting site",
     "pipeline.pipeline_run_id": "1298f9fe-a281-452a-89d5-8180c6df80de",
     "pipeline.run_environment": "ci",
     "run.retry_nr": "0",
     "task.max_nr_retries": "1",
     "task.notebook": "notebooks/split-train-test.py",
     "task.num_cpus": 1,
     "task.timeout_s": "None",
     "task.train_test_ratio": 0.7
    }
   },
   "start_time": "2022-12-10T06:40:27.616526",
   "version": "2.3.3"
  }
 },
 "nbformat": 4,
 "nbformat_minor": 5
}