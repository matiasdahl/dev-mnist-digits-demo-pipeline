{
 "cells": [
  {
   "cell_type": "markdown",
   "id": "26cd00a8",
   "metadata": {
    "papermill": {
     "duration": 0.005606,
     "end_time": "2022-12-10T06:40:46.212705",
     "exception": false,
     "start_time": "2022-12-10T06:40:46.207099",
     "status": "completed"
    },
    "tags": []
   },
   "source": [
    "# Benchmark model\n",
    "\n",
    "The purpose of this notebook is to benchmark persisted onnx-model (trained in the\n",
    "previous step) against evaluation set."
   ]
  },
  {
   "cell_type": "markdown",
   "id": "3afc5917",
   "metadata": {
    "papermill": {
     "duration": 0.005395,
     "end_time": "2022-12-10T06:40:46.222529",
     "exception": false,
     "start_time": "2022-12-10T06:40:46.217134",
     "status": "completed"
    },
    "tags": []
   },
   "source": [
    "### Determine run parameters"
   ]
  },
  {
   "cell_type": "code",
   "execution_count": 1,
   "id": "321c7468",
   "metadata": {
    "execution": {
     "iopub.execute_input": "2022-12-10T06:40:46.232155Z",
     "iopub.status.busy": "2022-12-10T06:40:46.231827Z",
     "iopub.status.idle": "2022-12-10T06:40:46.239825Z",
     "shell.execute_reply": "2022-12-10T06:40:46.239137Z"
    },
    "lines_to_next_cell": 0,
    "papermill": {
     "duration": 0.014969,
     "end_time": "2022-12-10T06:40:46.241540",
     "exception": false,
     "start_time": "2022-12-10T06:40:46.226571",
     "status": "completed"
    },
    "tags": []
   },
   "outputs": [],
   "source": [
    "# ----------------- Parameters for interactive development --------------\n",
    "P = {\n",
    "    \"pipeline.data_lake_root\": \"/pipeline-outputs/data-lake\",\n",
    "    \"task.nr_train_images\": 600,\n",
    "}"
   ]
  },
  {
   "cell_type": "code",
   "execution_count": 2,
   "id": "7cddf9cb",
   "metadata": {
    "execution": {
     "iopub.execute_input": "2022-12-10T06:40:46.253378Z",
     "iopub.status.busy": "2022-12-10T06:40:46.253136Z",
     "iopub.status.idle": "2022-12-10T06:40:46.256951Z",
     "shell.execute_reply": "2022-12-10T06:40:46.256018Z"
    },
    "lines_to_next_cell": 0,
    "papermill": {
     "duration": 0.013832,
     "end_time": "2022-12-10T06:40:46.259546",
     "exception": false,
     "start_time": "2022-12-10T06:40:46.245714",
     "status": "completed"
    },
    "tags": [
     "parameters"
    ]
   },
   "outputs": [],
   "source": [
    "# - During automated runs parameters will be injected in the below cell -"
   ]
  },
  {
   "cell_type": "code",
   "execution_count": 3,
   "id": "20472768",
   "metadata": {
    "execution": {
     "iopub.execute_input": "2022-12-10T06:40:46.269890Z",
     "iopub.status.busy": "2022-12-10T06:40:46.269624Z",
     "iopub.status.idle": "2022-12-10T06:40:46.277249Z",
     "shell.execute_reply": "2022-12-10T06:40:46.276752Z"
    },
    "papermill": {
     "duration": 0.016356,
     "end_time": "2022-12-10T06:40:46.280317",
     "exception": false,
     "start_time": "2022-12-10T06:40:46.263961",
     "status": "completed"
    },
    "tags": [
     "injected-parameters"
    ]
   },
   "outputs": [],
   "source": [
    "# Parameters\n",
    "P = {\n",
    "    \"pipeline.data_lake_root\": \"/pipeline-outputs/data-lake\",\n",
    "    \"pipeline.run_environment\": \"ci\",\n",
    "    \"pipeline.pipeline_run_id\": \"1298f9fe-a281-452a-89d5-8180c6df80de\",\n",
    "    \"pipeline.github.repository\": \"matiasdahl/dev-mnist-digits-demo-pipeline\",\n",
    "    \"pipeline.github.workflow\": \"Run automated tests, pipeline and deploy results to static reporting site\",\n",
    "    \"pipeline.github.runner_name\": \"Hosted Agent\",\n",
    "    \"pipeline.github.run_id\": \"3663055501\",\n",
    "    \"pipeline.github.actor\": \"matiasdahl\",\n",
    "    \"pipeline.github.job\": \"run-tests-pipeline-and-persist-pipeline-outputs\",\n",
    "    \"pipeline.github.base_ref\": \"\",\n",
    "    \"pipeline.github.head_ref\": \"\",\n",
    "    \"pipeline.github.sha\": \"ace0d01011d5e914f1921450dd5a59c11367b38d\",\n",
    "    \"pipeline.github.ref\": \"refs/heads/development\",\n",
    "    \"pipeline.github.ref_type\": \"branch\",\n",
    "    \"pipeline.github.ref_name\": \"development\",\n",
    "    \"pipeline.github.event_name\": \"schedule\",\n",
    "    \"task.nr_train_images\": 600,\n",
    "    \"task.notebook\": \"notebooks/benchmark-model.py\",\n",
    "    \"task.max_nr_retries\": \"1\",\n",
    "    \"run.retry_nr\": \"0\",\n",
    "    \"task.timeout_s\": \"None\",\n",
    "    \"task.num_cpus\": 1,\n",
    "    \"_opentelemetry_traceparent\": \"00-5775c7dbec8cd99ab6da112e2f69fea3-d9f3f21640655018-01\",\n",
    "}\n"
   ]
  },
  {
   "cell_type": "code",
   "execution_count": 4,
   "id": "c9ac6faf",
   "metadata": {
    "execution": {
     "iopub.execute_input": "2022-12-10T06:40:46.294545Z",
     "iopub.status.busy": "2022-12-10T06:40:46.294298Z",
     "iopub.status.idle": "2022-12-10T06:40:46.297415Z",
     "shell.execute_reply": "2022-12-10T06:40:46.296769Z"
    },
    "lines_to_next_cell": 0,
    "papermill": {
     "duration": 0.013468,
     "end_time": "2022-12-10T06:40:46.298843",
     "exception": false,
     "start_time": "2022-12-10T06:40:46.285375",
     "status": "completed"
    },
    "tags": []
   },
   "outputs": [],
   "source": [
    "# -----------------------------------------------------------------------"
   ]
  },
  {
   "cell_type": "markdown",
   "id": "a17dddbd",
   "metadata": {
    "papermill": {
     "duration": 0.006641,
     "end_time": "2022-12-10T06:40:46.309482",
     "exception": false,
     "start_time": "2022-12-10T06:40:46.302841",
     "status": "completed"
    },
    "tags": []
   },
   "source": [
    "---"
   ]
  },
  {
   "cell_type": "markdown",
   "id": "ac4b958a",
   "metadata": {
    "lines_to_next_cell": 2,
    "papermill": {
     "duration": 0.004103,
     "end_time": "2022-12-10T06:40:46.317791",
     "exception": false,
     "start_time": "2022-12-10T06:40:46.313688",
     "status": "completed"
    },
    "tags": []
   },
   "source": [
    "### Notebook code"
   ]
  },
  {
   "cell_type": "code",
   "execution_count": 5,
   "id": "26e8dfb9",
   "metadata": {
    "execution": {
     "iopub.execute_input": "2022-12-10T06:40:46.327005Z",
     "iopub.status.busy": "2022-12-10T06:40:46.326581Z",
     "iopub.status.idle": "2022-12-10T06:40:47.440475Z",
     "shell.execute_reply": "2022-12-10T06:40:47.439909Z"
    },
    "papermill": {
     "duration": 1.120335,
     "end_time": "2022-12-10T06:40:47.442265",
     "exception": false,
     "start_time": "2022-12-10T06:40:46.321930",
     "status": "completed"
    },
    "tags": []
   },
   "outputs": [
    {
     "name": "stderr",
     "output_type": "stream",
     "text": [
      "2022-12-10 06:40:47,237\tINFO worker.py:842 -- Connecting to existing Ray cluster at address: 172.17.0.2:6379\n"
     ]
    }
   ],
   "source": [
    "import itertools as it\n",
    "\n",
    "#\n",
    "import numpy as np\n",
    "import matplotlib.pyplot as plt\n",
    "\n",
    "#\n",
    "from pynb_dag_runner.tasks.task_opentelemetry_logging import PydarLogger\n",
    "\n",
    "#\n",
    "from common.io import datalake_root\n",
    "\n",
    "logger = PydarLogger(P)"
   ]
  },
  {
   "cell_type": "markdown",
   "id": "fc94f993",
   "metadata": {
    "papermill": {
     "duration": 0.004009,
     "end_time": "2022-12-10T06:40:47.450779",
     "exception": false,
     "start_time": "2022-12-10T06:40:47.446770",
     "status": "completed"
    },
    "tags": []
   },
   "source": [
    "## Load persisted onnx-model and evaluation data"
   ]
  },
  {
   "cell_type": "code",
   "execution_count": 6,
   "id": "44fb22bb",
   "metadata": {
    "execution": {
     "iopub.execute_input": "2022-12-10T06:40:47.460627Z",
     "iopub.status.busy": "2022-12-10T06:40:47.460208Z",
     "iopub.status.idle": "2022-12-10T06:40:47.463581Z",
     "shell.execute_reply": "2022-12-10T06:40:47.463057Z"
    },
    "papermill": {
     "duration": 0.011029,
     "end_time": "2022-12-10T06:40:47.465721",
     "exception": false,
     "start_time": "2022-12-10T06:40:47.454692",
     "status": "completed"
    },
    "tags": []
   },
   "outputs": [],
   "source": [
    "from common.io import read_onnx, get_onnx_inputs, get_onnx_outputs, read_numpy"
   ]
  },
  {
   "cell_type": "code",
   "execution_count": 7,
   "id": "6dca4b34",
   "metadata": {
    "execution": {
     "iopub.execute_input": "2022-12-10T06:40:47.474895Z",
     "iopub.status.busy": "2022-12-10T06:40:47.474676Z",
     "iopub.status.idle": "2022-12-10T06:40:47.484520Z",
     "shell.execute_reply": "2022-12-10T06:40:47.484020Z"
    },
    "lines_to_next_cell": 0,
    "papermill": {
     "duration": 0.016216,
     "end_time": "2022-12-10T06:40:47.486129",
     "exception": false,
     "start_time": "2022-12-10T06:40:47.469913",
     "status": "completed"
    },
    "tags": []
   },
   "outputs": [],
   "source": [
    "onnx_inference_session = read_onnx(\n",
    "    datalake_root(P)\n",
    "    / \"models\"\n",
    "    / f\"nr_train_images={P['task.nr_train_images']}\"\n",
    "    / \"model.onnx\"\n",
    ")"
   ]
  },
  {
   "cell_type": "markdown",
   "id": "c0059efc",
   "metadata": {
    "papermill": {
     "duration": 0.004005,
     "end_time": "2022-12-10T06:40:47.494343",
     "exception": false,
     "start_time": "2022-12-10T06:40:47.490338",
     "status": "completed"
    },
    "tags": []
   },
   "source": [
    "### Record structure of inputs and outputs for ONNX model\n",
    "\n",
    "(this should likely be done in training notebook)"
   ]
  },
  {
   "cell_type": "code",
   "execution_count": 8,
   "id": "f0d5b4cd",
   "metadata": {
    "execution": {
     "iopub.execute_input": "2022-12-10T06:40:47.503546Z",
     "iopub.status.busy": "2022-12-10T06:40:47.503319Z",
     "iopub.status.idle": "2022-12-10T06:40:47.508697Z",
     "shell.execute_reply": "2022-12-10T06:40:47.508196Z"
    },
    "papermill": {
     "duration": 0.013207,
     "end_time": "2022-12-10T06:40:47.511770",
     "exception": false,
     "start_time": "2022-12-10T06:40:47.498563",
     "status": "completed"
    },
    "tags": []
   },
   "outputs": [
    {
     "name": "stdout",
     "output_type": "stream",
     "text": [
      "{\n",
      "  \"inputs\": [\n",
      "    {\n",
      "      \"name\": \"float_input_8x8_image\",\n",
      "      \"shape\": [\n",
      "        null,\n",
      "        64\n",
      "      ],\n",
      "      \"type\": \"tensor(float)\"\n",
      "    }\n",
      "  ],\n",
      "  \"outputs\": [\n",
      "    {\n",
      "      \"name\": \"output_label\",\n",
      "      \"shape\": [\n",
      "        null\n",
      "      ],\n",
      "      \"type\": \"tensor(int64)\"\n",
      "    },\n",
      "    {\n",
      "      \"name\": \"output_probability\",\n",
      "      \"shape\": [],\n",
      "      \"type\": \"seq(map(int64,tensor(float)))\"\n",
      "    }\n",
      "  ]\n",
      "}\n"
     ]
    }
   ],
   "source": [
    "import json\n",
    "\n",
    "onnx_io = json.dumps(\n",
    "    {\n",
    "        \"inputs\": get_onnx_inputs(onnx_inference_session),\n",
    "        \"outputs\": get_onnx_outputs(onnx_inference_session),\n",
    "    },\n",
    "    indent=2,\n",
    ")\n",
    "\n",
    "\n",
    "logger.log_artefact(\"onnx_io_structure.json\", onnx_io)\n",
    "print(onnx_io)"
   ]
  },
  {
   "cell_type": "markdown",
   "id": "915e8d1b",
   "metadata": {
    "papermill": {
     "duration": 0.005013,
     "end_time": "2022-12-10T06:40:47.520972",
     "exception": false,
     "start_time": "2022-12-10T06:40:47.515959",
     "status": "completed"
    },
    "tags": []
   },
   "source": [
    "### Evaluate model performance on evaluation data set"
   ]
  },
  {
   "cell_type": "code",
   "execution_count": 9,
   "id": "317d87f5",
   "metadata": {
    "execution": {
     "iopub.execute_input": "2022-12-10T06:40:47.530805Z",
     "iopub.status.busy": "2022-12-10T06:40:47.530532Z",
     "iopub.status.idle": "2022-12-10T06:40:47.535409Z",
     "shell.execute_reply": "2022-12-10T06:40:47.534853Z"
    },
    "papermill": {
     "duration": 0.012588,
     "end_time": "2022-12-10T06:40:47.537991",
     "exception": false,
     "start_time": "2022-12-10T06:40:47.525403",
     "status": "completed"
    },
    "tags": []
   },
   "outputs": [],
   "source": [
    "# load evaluation data\n",
    "X_test = read_numpy(datalake_root(P) / \"test-data\" / \"digits.numpy\")\n",
    "y_test = read_numpy(datalake_root(P) / \"test-data\" / \"labels.numpy\")"
   ]
  },
  {
   "cell_type": "code",
   "execution_count": 10,
   "id": "77eadf4c",
   "metadata": {
    "execution": {
     "iopub.execute_input": "2022-12-10T06:40:47.547507Z",
     "iopub.status.busy": "2022-12-10T06:40:47.547264Z",
     "iopub.status.idle": "2022-12-10T06:40:47.560337Z",
     "shell.execute_reply": "2022-12-10T06:40:47.559787Z"
    },
    "papermill": {
     "duration": 0.019752,
     "end_time": "2022-12-10T06:40:47.561896",
     "exception": false,
     "start_time": "2022-12-10T06:40:47.542144",
     "status": "completed"
    },
    "tags": []
   },
   "outputs": [],
   "source": [
    "def get_model_outputs(X, onnx_inference_session):\n",
    "    y_pred_labels, y_pred_map = onnx_inference_session.run(\n",
    "        [\"output_label\", \"output_probability\"],\n",
    "        {\"float_input_8x8_image\": X.astype(np.float32)},\n",
    "    )\n",
    "    y_pred_probs = np.array(\n",
    "        [[probabilities[digit] for digit in range(10)] for probabilities in y_pred_map]\n",
    "    )\n",
    "\n",
    "    assert y_pred_labels.shape == (X.shape[0],)\n",
    "    assert y_pred_probs.shape == (X.shape[0], 10)\n",
    "\n",
    "    return y_pred_labels, y_pred_probs\n",
    "\n",
    "\n",
    "# Note: as shown in the training notebook, the predicted labels and probabilities\n",
    "# computed below need not be compatible.\n",
    "y_pred_labels_test, y_pred_probs_test = get_model_outputs(\n",
    "    X_test, onnx_inference_session\n",
    ")"
   ]
  },
  {
   "cell_type": "markdown",
   "id": "89094497",
   "metadata": {
    "papermill": {
     "duration": 0.004249,
     "end_time": "2022-12-10T06:40:47.570713",
     "exception": false,
     "start_time": "2022-12-10T06:40:47.566464",
     "status": "completed"
    },
    "tags": []
   },
   "source": [
    "### Confusion matrix"
   ]
  },
  {
   "cell_type": "code",
   "execution_count": 11,
   "id": "b9ec9e93",
   "metadata": {
    "execution": {
     "iopub.execute_input": "2022-12-10T06:40:47.580226Z",
     "iopub.status.busy": "2022-12-10T06:40:47.579953Z",
     "iopub.status.idle": "2022-12-10T06:40:47.582675Z",
     "shell.execute_reply": "2022-12-10T06:40:47.582156Z"
    },
    "papermill": {
     "duration": 0.010201,
     "end_time": "2022-12-10T06:40:47.585114",
     "exception": false,
     "start_time": "2022-12-10T06:40:47.574913",
     "status": "completed"
    },
    "tags": []
   },
   "outputs": [],
   "source": [
    "# TODO"
   ]
  },
  {
   "cell_type": "markdown",
   "id": "06b2c2f1",
   "metadata": {
    "papermill": {
     "duration": 0.003994,
     "end_time": "2022-12-10T06:40:47.593574",
     "exception": false,
     "start_time": "2022-12-10T06:40:47.589580",
     "status": "completed"
    },
    "tags": []
   },
   "source": [
    "### Plot predicted probabilities for each classifier over all evaluation digit images"
   ]
  },
  {
   "cell_type": "code",
   "execution_count": 12,
   "id": "5d447b1a",
   "metadata": {
    "execution": {
     "iopub.execute_input": "2022-12-10T06:40:47.603145Z",
     "iopub.status.busy": "2022-12-10T06:40:47.602914Z",
     "iopub.status.idle": "2022-12-10T06:40:50.431407Z",
     "shell.execute_reply": "2022-12-10T06:40:50.430770Z"
    },
    "papermill": {
     "duration": 2.835082,
     "end_time": "2022-12-10T06:40:50.433065",
     "exception": false,
     "start_time": "2022-12-10T06:40:47.597983",
     "status": "completed"
    },
    "tags": []
   },
   "outputs": [
    {
     "data": {
      "image/png": "[encoded data removed]",
      "text/plain": [
       "<Figure size 1600x600 with 10 Axes>"
      ]
     },
     "metadata": {},
     "output_type": "display_data"
    }
   ],
   "source": [
    "def plot_per_digit_probabilities(y_pred_probs):\n",
    "    fig, axs = plt.subplots(nrows=2, ncols=5, figsize=(16, 6))\n",
    "\n",
    "    for (r, c), digit, ax in zip(\n",
    "        it.product(range(2), range(5)), range(10), axs.reshape(-1)\n",
    "    ):\n",
    "        ax.hist(y_pred_probs_test[:, digit], bins=20)\n",
    "\n",
    "        ax.set_title(f\"Digit {digit}\")\n",
    "        if r == 1 and c == 2:\n",
    "            ax.set_xlabel(\"probability\", fontsize=16)\n",
    "\n",
    "        if c == 0:\n",
    "            ax.set_ylabel(\"counts\", fontsize=16)\n",
    "        ax.set_yscale(\"log\")\n",
    "\n",
    "    fig.tight_layout()\n",
    "    fig.suptitle(\n",
    "        f\"Distributions of prediction probabilities for each digit \"\n",
    "        f\"(on evaluation data, n={y_pred_probs.shape[0]})\",\n",
    "        fontsize=20,\n",
    "    )\n",
    "    fig.tight_layout()\n",
    "    fig.show()\n",
    "\n",
    "    return fig\n",
    "\n",
    "\n",
    "fig = plot_per_digit_probabilities(y_pred_probs_test)"
   ]
  },
  {
   "cell_type": "markdown",
   "id": "f2d924cb",
   "metadata": {
    "papermill": {
     "duration": 0.005205,
     "end_time": "2022-12-10T06:40:50.443809",
     "exception": false,
     "start_time": "2022-12-10T06:40:50.438604",
     "status": "completed"
    },
    "tags": []
   },
   "source": [
    "From the above distributions we see that most digits have clear separation between\n",
    "high and lower probabilities. Morover, in each case there is roughly an order of\n",
    "magnitude more of digits with low probabilities. This is compatible with digits\n",
    "being roughly evenly distributed in the data."
   ]
  },
  {
   "cell_type": "code",
   "execution_count": 13,
   "id": "18cf7591",
   "metadata": {
    "execution": {
     "iopub.execute_input": "2022-12-10T06:40:50.455259Z",
     "iopub.status.busy": "2022-12-10T06:40:50.454932Z",
     "iopub.status.idle": "2022-12-10T06:40:50.887919Z",
     "shell.execute_reply": "2022-12-10T06:40:50.887351Z"
    },
    "papermill": {
     "duration": 0.440762,
     "end_time": "2022-12-10T06:40:50.889829",
     "exception": false,
     "start_time": "2022-12-10T06:40:50.449067",
     "status": "completed"
    },
    "tags": []
   },
   "outputs": [],
   "source": [
    "logger.log_figure(\"per-digit-probabilities.png\", fig)"
   ]
  },
  {
   "cell_type": "markdown",
   "id": "926cbfc5",
   "metadata": {
    "papermill": {
     "duration": 0.005094,
     "end_time": "2022-12-10T06:40:50.900765",
     "exception": false,
     "start_time": "2022-12-10T06:40:50.895671",
     "status": "completed"
    },
    "tags": []
   },
   "source": [
    "### Plot ROC curves for individual one-vs-rest classifiers"
   ]
  },
  {
   "cell_type": "code",
   "execution_count": 14,
   "id": "e06df84b",
   "metadata": {
    "execution": {
     "iopub.execute_input": "2022-12-10T06:40:50.912115Z",
     "iopub.status.busy": "2022-12-10T06:40:50.911808Z",
     "iopub.status.idle": "2022-12-10T06:40:51.295041Z",
     "shell.execute_reply": "2022-12-10T06:40:51.294406Z"
    },
    "papermill": {
     "duration": 0.390885,
     "end_time": "2022-12-10T06:40:51.296805",
     "exception": false,
     "start_time": "2022-12-10T06:40:50.905920",
     "status": "completed"
    },
    "tags": []
   },
   "outputs": [],
   "source": [
    "from sklearn import metrics"
   ]
  },
  {
   "cell_type": "code",
   "execution_count": 15,
   "id": "b821c234",
   "metadata": {
    "execution": {
     "iopub.execute_input": "2022-12-10T06:40:51.312729Z",
     "iopub.status.busy": "2022-12-10T06:40:51.312262Z",
     "iopub.status.idle": "2022-12-10T06:40:52.422286Z",
     "shell.execute_reply": "2022-12-10T06:40:52.421588Z"
    },
    "papermill": {
     "duration": 1.123234,
     "end_time": "2022-12-10T06:40:52.426278",
     "exception": false,
     "start_time": "2022-12-10T06:40:51.303044",
     "status": "completed"
    },
    "tags": []
   },
   "outputs": [
    {
     "data": {
      "image/png": "[encoded data removed]",
      "text/plain": [
       "<Figure size 1600x800 with 10 Axes>"
      ]
     },
     "metadata": {},
     "output_type": "display_data"
    }
   ],
   "source": [
    "def plot_roc_curves(y, y_pred_probs):\n",
    "    # based on example code\n",
    "    # https://scikit-learn.org/stable/auto_examples/model_selection/plot_roc.html\n",
    "\n",
    "    fig, axs = plt.subplots(nrows=2, ncols=5, figsize=(16, 8))\n",
    "\n",
    "    roc_auc_dict = {}\n",
    "\n",
    "    for (r, c), digit, ax in zip(\n",
    "        it.product(range(2), range(5)), range(10), axs.reshape(-1)\n",
    "    ):\n",
    "        fpr, tpr, _ = metrics.roc_curve(y == digit, y_pred_probs[:, digit])\n",
    "        auc = metrics.auc(fpr, tpr)\n",
    "        roc_auc_dict[str(digit)] = auc\n",
    "\n",
    "        ax.plot(fpr, tpr, label=f\"ROC AUC={round(auc, 3)}\")\n",
    "\n",
    "        ax.set_title(f\"\\nDigit {digit}\", fontsize=16)\n",
    "        if r == 1:\n",
    "            ax.set_xlabel(\"FPR\", fontsize=18)\n",
    "\n",
    "        if c == 0:\n",
    "            ax.set_ylabel(\"TPR\", fontsize=18)\n",
    "\n",
    "        ax.set_xlim([-0.05, 1.05])\n",
    "        ax.set_ylim([-0.05, 1.05])\n",
    "        ax.legend(loc=\"lower right\", frameon=False, fontsize=14)\n",
    "\n",
    "    fig.tight_layout()\n",
    "    fig.suptitle(\n",
    "        f\"ROC plots for one-vs-rest performances \"\n",
    "        f\"(on evaluation data, n={y_pred_probs_test.shape[1]}\",\n",
    "        fontsize=22,\n",
    "    )\n",
    "    fig.tight_layout()\n",
    "    fig.show()\n",
    "\n",
    "    return roc_auc_dict, fig\n",
    "\n",
    "\n",
    "roc_auc_dict, fig = plot_roc_curves(y_test, y_pred_probs_test)"
   ]
  },
  {
   "cell_type": "code",
   "execution_count": 16,
   "id": "e933a094",
   "metadata": {
    "execution": {
     "iopub.execute_input": "2022-12-10T06:40:52.441170Z",
     "iopub.status.busy": "2022-12-10T06:40:52.440892Z",
     "iopub.status.idle": "2022-12-10T06:40:52.706806Z",
     "shell.execute_reply": "2022-12-10T06:40:52.706167Z"
    },
    "papermill": {
     "duration": 0.27609,
     "end_time": "2022-12-10T06:40:52.708787",
     "exception": false,
     "start_time": "2022-12-10T06:40:52.432697",
     "status": "completed"
    },
    "tags": []
   },
   "outputs": [],
   "source": [
    "logger.log_figure(\"per-digit-roc-curves.png\", fig)"
   ]
  },
  {
   "cell_type": "code",
   "execution_count": 17,
   "id": "3fc0adc4",
   "metadata": {
    "execution": {
     "iopub.execute_input": "2022-12-10T06:40:52.723892Z",
     "iopub.status.busy": "2022-12-10T06:40:52.723550Z",
     "iopub.status.idle": "2022-12-10T06:40:52.729270Z",
     "shell.execute_reply": "2022-12-10T06:40:52.727929Z"
    },
    "papermill": {
     "duration": 0.38835,
     "end_time": "2022-12-10T06:40:53.104049",
     "exception": false,
     "start_time": "2022-12-10T06:40:52.715699",
     "status": "completed"
    },
    "tags": []
   },
   "outputs": [
    {
     "data": {
      "text/plain": [
       "{'0': 1.0,\n",
       " '1': 0.9992127460168697,\n",
       " '2': 1.0,\n",
       " '3': 0.9998875351452671,\n",
       " '4': 0.9991617131534827,\n",
       " '5': 0.998950328022493,\n",
       " '6': 0.999961896052431,\n",
       " '7': 0.9998475842097241,\n",
       " '8': 0.9941677175283733,\n",
       " '9': 0.998780673677793}"
      ]
     },
     "execution_count": 17,
     "metadata": {},
     "output_type": "execute_result"
    }
   ],
   "source": [
    "roc_auc_dict"
   ]
  },
  {
   "cell_type": "code",
   "execution_count": 18,
   "id": "5b7e6354",
   "metadata": {
    "execution": {
     "iopub.execute_input": "2022-12-10T06:40:53.170982Z",
     "iopub.status.busy": "2022-12-10T06:40:53.169164Z",
     "iopub.status.idle": "2022-12-10T06:40:53.178824Z",
     "shell.execute_reply": "2022-12-10T06:40:53.178090Z"
    },
    "papermill": {
     "duration": 0.068919,
     "end_time": "2022-12-10T06:40:53.180811",
     "exception": false,
     "start_time": "2022-12-10T06:40:53.111892",
     "status": "completed"
    },
    "tags": []
   },
   "outputs": [
    {
     "name": "stdout",
     "output_type": "stream",
     "text": [
      " - Logging roc_auc_per_digit (json) : {'0': 1.0, '1': 0.9992127460168697, '2': 1.0, '3': 0.9998875351452671, '4': 0.9991617131534827, '5': 0.998950328022493, '6': 0.999961896052431, '7': 0.9998475842097241, '8': 0.9941677175283733, '9': 0.998780673677793}\n"
     ]
    }
   ],
   "source": [
    "logger.log_value(\"roc_auc_per_digit\", roc_auc_dict)"
   ]
  },
  {
   "cell_type": "markdown",
   "id": "d719d6f9",
   "metadata": {
    "papermill": {
     "duration": 0.006801,
     "end_time": "2022-12-10T06:40:53.194757",
     "exception": false,
     "start_time": "2022-12-10T06:40:53.187956",
     "status": "completed"
    },
    "tags": []
   },
   "source": [
    "### Compute and log mean ROC AUC score averaged over all digits"
   ]
  },
  {
   "cell_type": "code",
   "execution_count": 19,
   "id": "24e0b022",
   "metadata": {
    "execution": {
     "iopub.execute_input": "2022-12-10T06:40:53.210318Z",
     "iopub.status.busy": "2022-12-10T06:40:53.210068Z",
     "iopub.status.idle": "2022-12-10T06:40:53.223037Z",
     "shell.execute_reply": "2022-12-10T06:40:53.222449Z"
    },
    "papermill": {
     "duration": 0.022099,
     "end_time": "2022-12-10T06:40:53.224662",
     "exception": false,
     "start_time": "2022-12-10T06:40:53.202563",
     "status": "completed"
    },
    "tags": []
   },
   "outputs": [
    {
     "name": "stdout",
     "output_type": "stream",
     "text": [
      " - Logging roc_auc_class_mean (float) : 0.9989970193806433\n"
     ]
    }
   ],
   "source": [
    "roc_auc_macro = np.mean(list(roc_auc_dict.values()))\n",
    "\n",
    "logger.log_float(\"roc_auc_class_mean\", roc_auc_macro)\n",
    "\n",
    "# assert that the same value can be computed directly using sklearn\n",
    "assert roc_auc_macro == metrics.roc_auc_score(\n",
    "    y_test, y_pred_probs_test, average=\"macro\", multi_class=\"ovr\"\n",
    ")"
   ]
  },
  {
   "cell_type": "code",
   "execution_count": 20,
   "id": "12af1aaa",
   "metadata": {
    "execution": {
     "iopub.execute_input": "2022-12-10T06:40:53.239312Z",
     "iopub.status.busy": "2022-12-10T06:40:53.239073Z",
     "iopub.status.idle": "2022-12-10T06:40:53.241981Z",
     "shell.execute_reply": "2022-12-10T06:40:53.241256Z"
    },
    "lines_to_next_cell": 0,
    "papermill": {
     "duration": 0.01285,
     "end_time": "2022-12-10T06:40:53.244397",
     "exception": false,
     "start_time": "2022-12-10T06:40:53.231547",
     "status": "completed"
    },
    "tags": []
   },
   "outputs": [],
   "source": [
    "# ---"
   ]
  },
  {
   "cell_type": "code",
   "execution_count": null,
   "id": "2226cac0",
   "metadata": {
    "papermill": {
     "duration": 0.006494,
     "end_time": "2022-12-10T06:40:53.257741",
     "exception": false,
     "start_time": "2022-12-10T06:40:53.251247",
     "status": "completed"
    },
    "tags": []
   },
   "outputs": [],
   "source": []
  }
 ],
 "metadata": {
  "jupytext": {
   "cell_metadata_filter": "tags,-all",
   "main_language": "python",
   "notebook_metadata_filter": "-all"
  },
  "language_info": {
   "codemirror_mode": {
    "name": "ipython",
    "version": 3
   },
   "file_extension": ".py",
   "mimetype": "text/x-python",
   "name": "python",
   "nbconvert_exporter": "python",
   "pygments_lexer": "ipython3",
   "version": "3.8.10"
  },
  "papermill": {
   "default_parameters": {},
   "duration": 9.363695,
   "end_time": "2022-12-10T06:40:54.187787",
   "environment_variables": {},
   "exception": null,
   "input_path": "/home/host_user/workspace/mnist-demo-pipeline/mnist-demo-pipeline/notebooks/temp-notebook-dnfp2eoc.ipynb",
   "output_path": "notebooks/benchmark-model.ipynb",
   "parameters": {
    "P": {
     "_opentelemetry_traceparent": "00-5775c7dbec8cd99ab6da112e2f69fea3-d9f3f21640655018-01",
     "pipeline.data_lake_root": "/pipeline-outputs/data-lake",
     "pipeline.github.actor": "matiasdahl",
     "pipeline.github.base_ref": "",
     "pipeline.github.event_name": "schedule",
     "pipeline.github.head_ref": "",
     "pipeline.github.job": "run-tests-pipeline-and-persist-pipeline-outputs",
     "pipeline.github.ref": "refs/heads/development",
     "pipeline.github.ref_name": "development",
     "pipeline.github.ref_type": "branch",
     "pipeline.github.repository": "matiasdahl/dev-mnist-digits-demo-pipeline",
     "pipeline.github.run_id": "3663055501",
     "pipeline.github.runner_name": "Hosted Agent",
     "pipeline.github.sha": "ace0d01011d5e914f1921450dd5a59c11367b38d",
     "pipeline.github.workflow": "Run automated tests, pipeline and deploy results to static reporting site",
     "pipeline.pipeline_run_id": "1298f9fe-a281-452a-89d5-8180c6df80de",
     "pipeline.run_environment": "ci",
     "run.retry_nr": "0",
     "task.max_nr_retries": "1",
     "task.notebook": "notebooks/benchmark-model.py",
     "task.nr_train_images": 600,
     "task.num_cpus": 1,
     "task.timeout_s": "None"
    }
   },
   "start_time": "2022-12-10T06:40:44.824092",
   "version": "2.3.3"
  }
 },
 "nbformat": 4,
 "nbformat_minor": 5
}